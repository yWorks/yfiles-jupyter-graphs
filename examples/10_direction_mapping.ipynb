{
  "cells": [
    {
      "cell_type": "markdown",
      "id": "70865006-0292-4cdf-a82e-f34b1a0376f5",
      "metadata": {
        "id": "70865006-0292-4cdf-a82e-f34b1a0376f5"
      },
      "source": [
        "# Edge Direction Mapping <a target=\"_blank\" href=\"https://colab.research.google.com/github/yWorks/yfiles-jupyter-graphs/blob/main/examples/10_direction_mapping.ipynb\"><img src=\"https://colab.research.google.com/assets/colab-badge.svg\" alt=\"Open In Colab\"/></a>"
      ]
    },
    {
      "cell_type": "markdown",
      "id": "581c3ddd-7a60-4842-a4e2-c3af65d4d9b4",
      "metadata": {
        "id": "581c3ddd-7a60-4842-a4e2-c3af65d4d9b4"
      },
      "source": [
        "This notebook covers the basics of customizing edge directions.\n",
        "\n",
        "A direction is a boolean, it can only have one of two values:\n",
        "- `True` (The edge is directed from start to end)\n",
        "- `False` (The edge is undirected)\n",
        "\n",
        "Note that this property can also be set through the edge-styles mapping, see [edge styles mapping function](./08_styles_mapping.ipynb#Edge-Styles-Mapping-function).\n",
        "\n",
        "For the purpose of mapping demonstrations, the same graph, ```erdos_renyi_graph```, will be used. For this, we will import the graph from the NetworkX package. \\\n",
        "For more details on how to import graph data, explore the other example notebooks or refer to the full widget [documentation](https://yworks.github.io/yfiles-jupyter-graphs/).\n",
        "\n",
        "Before using the graph widget, install all necessary packages."
      ]
    },
    {
      "cell_type": "code",
      "execution_count": 1,
      "id": "398b6aa8-c4ed-4870-a469-bc1b4e7b7e19",
      "metadata": {
        "colab": {
          "base_uri": "https://localhost:8080/",
          "height": 86
        },
        "id": "398b6aa8-c4ed-4870-a469-bc1b4e7b7e19",
        "outputId": "dea49934-502a-4765-e406-04a38a5c422e"
      },
      "outputs": [
        {
          "output_type": "stream",
          "name": "stdout",
          "text": [
            "\u001b[2K   \u001b[90m\u2501\u2501\u2501\u2501\u2501\u2501\u2501\u2501\u2501\u2501\u2501\u2501\u2501\u2501\u2501\u2501\u2501\u2501\u2501\u2501\u2501\u2501\u2501\u2501\u2501\u2501\u2501\u2501\u2501\u2501\u2501\u2501\u2501\u2501\u2501\u2501\u2501\u2501\u2501\u2501\u001b[0m \u001b[32m15.6/15.6 MB\u001b[0m \u001b[31m49.3 MB/s\u001b[0m eta \u001b[36m0:00:00\u001b[0m\n",
            "\u001b[2K   \u001b[90m\u2501\u2501\u2501\u2501\u2501\u2501\u2501\u2501\u2501\u2501\u2501\u2501\u2501\u2501\u2501\u2501\u2501\u2501\u2501\u2501\u2501\u2501\u2501\u2501\u2501\u2501\u2501\u2501\u2501\u2501\u2501\u2501\u2501\u2501\u2501\u2501\u2501\u2501\u2501\u2501\u001b[0m \u001b[32m139.8/139.8 kB\u001b[0m \u001b[31m3.3 MB/s\u001b[0m eta \u001b[36m0:00:00\u001b[0m\n",
            "\u001b[2K   \u001b[90m\u2501\u2501\u2501\u2501\u2501\u2501\u2501\u2501\u2501\u2501\u2501\u2501\u2501\u2501\u2501\u2501\u2501\u2501\u2501\u2501\u2501\u2501\u2501\u2501\u2501\u2501\u2501\u2501\u2501\u2501\u2501\u2501\u2501\u2501\u2501\u2501\u2501\u2501\u2501\u2501\u001b[0m \u001b[32m2.3/2.3 MB\u001b[0m \u001b[31m31.8 MB/s\u001b[0m eta \u001b[36m0:00:00\u001b[0m\n",
            "\u001b[2K   \u001b[90m\u2501\u2501\u2501\u2501\u2501\u2501\u2501\u2501\u2501\u2501\u2501\u2501\u2501\u2501\u2501\u2501\u2501\u2501\u2501\u2501\u2501\u2501\u2501\u2501\u2501\u2501\u2501\u2501\u2501\u2501\u2501\u2501\u2501\u2501\u2501\u2501\u2501\u2501\u2501\u2501\u001b[0m \u001b[32m1.6/1.6 MB\u001b[0m \u001b[31m40.3 MB/s\u001b[0m eta \u001b[36m0:00:00\u001b[0m\n",
            "\u001b[?25h"
          ]
        }
      ],
      "source": [
        "%pip install yfiles_jupyter_graphs --quiet\n",
        "from yfiles_jupyter_graphs import GraphWidget\n",
        "%pip install networkx --quiet\n",
        "from typing import Dict\n",
        "from networkx import erdos_renyi_graph\n",
        "from random import random, seed\n",
        "seed(0)\n",
        "\n",
        "g = erdos_renyi_graph(10, 0.3, 2)\n",
        "w = GraphWidget(graph=g)"
      ]
    },
    {
      "cell_type": "markdown",
      "id": "0b575a84-7aaa-46cf-853d-5de53ea437d3",
      "metadata": {
        "id": "0b575a84-7aaa-46cf-853d-5de53ea437d3"
      },
      "source": [
        "You can also open this notebook in Google Colab when Google Colab's custom widget manager is enabled:"
      ]
    },
    {
      "cell_type": "code",
      "execution_count": 2,
      "id": "93c169ac-0019-4a89-84d3-c4b602bbc153",
      "metadata": {
        "id": "93c169ac-0019-4a89-84d3-c4b602bbc153"
      },
      "outputs": [],
      "source": [
        "try:\n",
        "  import google.colab\n",
        "  from google.colab import output\n",
        "  output.enable_custom_widget_manager()\n",
        "except:\n",
        "  pass"
      ]
    },
    {
      "cell_type": "markdown",
      "id": "d34c3b6c-1da4-444b-9c18-42fc5279572c",
      "metadata": {
        "id": "d34c3b6c-1da4-444b-9c18-42fc5279572c"
      },
      "source": [
        "<a target=\"_blank\" href=\"https://colab.research.google.com/github/yWorks/yfiles-jupyter-graphs/blob/main/examples/10_direction_mapping.ipynb\"><img src=\"https://colab.research.google.com/assets/colab-badge.svg\" alt=\"Open In Colab\"/></a>"
      ]
    },
    {
      "cell_type": "markdown",
      "id": "1e84ed97-cff3-49ac-a4cc-eb6aba76f1f7",
      "metadata": {
        "id": "1e84ed97-cff3-49ac-a4cc-eb6aba76f1f7"
      },
      "source": [
        "This is the graph we will be working with:"
      ]
    },
    {
      "cell_type": "code",
      "execution_count": 3,
      "id": "d7cafa9b-b5fd-47ae-b3b6-01a883520eca",
      "metadata": {
        "colab": {
          "base_uri": "https://localhost:8080/",
          "height": 517,
          "referenced_widgets": [
            "35e1d6a263a84369ba93d4ac37340fe0",
            "c57178d607d742d3867d6dfd16ca00f0"
          ]
        },
        "id": "d7cafa9b-b5fd-47ae-b3b6-01a883520eca",
        "outputId": "7224b388-a046-4454-9cb8-00c06df4e10e"
      },
      "outputs": [
        {
          "output_type": "display_data",
          "data": {
            "text/plain": [
              "GraphWidget(layout=Layout(height='500px', width='100%'))"
            ],
            "application/vnd.jupyter.widget-view+json": {
              "version_major": 2,
              "version_minor": 0,
              "model_id": "35e1d6a263a84369ba93d4ac37340fe0"
            }
          },
          "metadata": {
            "application/vnd.jupyter.widget-view+json": {
              "colab": {
                "custom_widget_manager": {
                  "url": "https://ssl.gstatic.com/colaboratory-static/widgets/colab-cdn-widget-manager/2b70e893a8ba7c0f/manager.min.js"
                }
              }
            }
          }
        }
      ],
      "source": [
        "display(GraphWidget(graph=g))"
      ]
    },
    {
      "cell_type": "markdown",
      "id": "51174db6-5416-4a04-887e-1235a0c45382",
      "metadata": {
        "id": "51174db6-5416-4a04-887e-1235a0c45382"
      },
      "source": [
        "## Mapping function\n",
        "\n",
        "The edge direction mapping is a function that determines for each edge whether it should visualize its direction.\n",
        "\n",
        "If the index is used, it can be optionally given as the first function parameter.\n",
        "\n",
        "We will randomly direct some edges in the graph.\\\n",
        "For this we first define a new mapping function and then set this function as our current direction mapping."
      ]
    },
    {
      "cell_type": "code",
      "execution_count": 4,
      "id": "0d918c4a-5745-497a-a42b-55efda0b40c9",
      "metadata": {
        "id": "0d918c4a-5745-497a-a42b-55efda0b40c9"
      },
      "outputs": [],
      "source": [
        "def custom_directed_mapping(edge: Dict):\n",
        "    \"\"\"choose randomly if edge is directed\"\"\"\n",
        "    return random() < 0.5"
      ]
    },
    {
      "cell_type": "markdown",
      "id": "9a779ab1-fed3-45bd-952e-c5642928aa9a",
      "metadata": {
        "id": "9a779ab1-fed3-45bd-952e-c5642928aa9a"
      },
      "source": [
        "### Custom edge mappings\n",
        "\n",
        "There are get and set methods for each customizable edge property.\n",
        "- you can set a new edge mapping with ```w.set_edge_[binding]_mapping```\n",
        "- you can get the current edge mapping with ```w.get_edge_[binding]_mapping```\n",
        "- you can delete a custom edge mapping with ```w.del_edge_[binding]_mapping```\n",
        "\n",
        "You can find more details in the dedicated function documentation, available at ```w.[function_name].__doc__``` or in the [documentation](https://yworks.github.io/yfiles-jupyter-graphs/02_graph_widget/#methods).\n",
        "\n",
        "If no custom mapping is set the default mappings are used."
      ]
    },
    {
      "cell_type": "code",
      "execution_count": 5,
      "id": "4ab2314d-c58a-43d1-9955-5216b21ed4fd",
      "metadata": {
        "colab": {
          "base_uri": "https://localhost:8080/"
        },
        "id": "4ab2314d-c58a-43d1-9955-5216b21ed4fd",
        "outputId": "74908c3e-aa5a-4803-faf3-a16ba59ee646"
      },
      "outputs": [
        {
          "output_type": "stream",
          "name": "stdout",
          "text": [
            "The default directed mapping for edges.\n",
            "\n",
            "        Uses the graph wide directed attribute for all edges.\n",
            "\n",
            "        Parameters\n",
            "        ----------\n",
            "        index: int (optional)\n",
            "        edge: typing.Dict\n",
            "\n",
            "        Notes\n",
            "        -----\n",
            "        This is the default value for the `directed_mapping` property.\n",
            "        Can be 'overwritten' by setting the property\n",
            "        with a function of the same signature.\n",
            "\n",
            "        If the given mapping function has only one parameter (that is not typed as int),\n",
            "        then it will be called with the element (typing.Dict) as first parameter.\n",
            "\n",
            "        Example\n",
            "        -------\n",
            "        .. code::\n",
            "\n",
            "           from yfiles_jupyter_graphs import GraphWidget\n",
            "           w = GraphWidget()\n",
            "           def custom_directed_mapping(edge: typing.Dict):\n",
            "           ...\n",
            "           w.set_directed_mapping(custom_directed_mapping)\n",
            "\n",
            "        Returns\n",
            "        -------\n",
            "        directed: bool\n",
            "\n",
            "        \n"
          ]
        }
      ],
      "source": [
        "print(w.directed_mapping.__doc__)"
      ]
    },
    {
      "cell_type": "code",
      "execution_count": 6,
      "id": "bc44f305-b640-41fc-a013-4631aebbc67d",
      "metadata": {
        "colab": {
          "base_uri": "https://localhost:8080/",
          "height": 187
        },
        "id": "bc44f305-b640-41fc-a013-4631aebbc67d",
        "outputId": "15721ad2-316d-4b83-f97d-3a350d1af3e7"
      },
      "outputs": [
        {
          "output_type": "execute_result",
          "data": {
            "text/plain": [
              "<bound method GraphWidget.default_directed_mapping of GraphWidget(layout=Layout(height='500px', width='100%'))>"
            ],
            "text/html": [
              "<div style=\"max-width:800px; border: 1px solid var(--colab-border-color);\"><style>\n",
              "      pre.function-repr-contents {\n",
              "        overflow-x: auto;\n",
              "        padding: 8px 12px;\n",
              "        max-height: 500px;\n",
              "      }\n",
              "\n",
              "      pre.function-repr-contents.function-repr-contents-collapsed {\n",
              "        cursor: pointer;\n",
              "        max-height: 100px;\n",
              "      }\n",
              "    </style>\n",
              "    <pre style=\"white-space: initial; background:\n",
              "         var(--colab-secondary-surface-color); padding: 8px 12px;\n",
              "         border-bottom: 1px solid var(--colab-border-color);\"><b>yfiles_jupyter_graphs.widget.GraphWidget.default_directed_mapping</b><br/>def default_directed_mapping(index: int, edge: TDict)</pre><pre class=\"function-repr-contents function-repr-contents-collapsed\" style=\"\"><a class=\"filepath\" style=\"display:none\" href=\"#\">/usr/local/lib/python3.10/dist-packages/yfiles_jupyter_graphs/widget.py</a>The default directed mapping for edges.\n",
              "\n",
              "Uses the graph wide directed attribute for all edges.\n",
              "\n",
              "Parameters\n",
              "----------\n",
              "index: int (optional)\n",
              "edge: typing.Dict\n",
              "\n",
              "Notes\n",
              "-----\n",
              "This is the default value for the `directed_mapping` property.\n",
              "Can be &#x27;overwritten&#x27; by setting the property\n",
              "with a function of the same signature.\n",
              "\n",
              "If the given mapping function has only one parameter (that is not typed as int),\n",
              "then it will be called with the element (typing.Dict) as first parameter.\n",
              "\n",
              "Example\n",
              "-------\n",
              ".. code::\n",
              "\n",
              "   from yfiles_jupyter_graphs import GraphWidget\n",
              "   w = GraphWidget()\n",
              "   def custom_directed_mapping(edge: typing.Dict):\n",
              "   ...\n",
              "   w.set_directed_mapping(custom_directed_mapping)\n",
              "\n",
              "Returns\n",
              "-------\n",
              "directed: bool</pre>\n",
              "      <script>\n",
              "      if (google.colab.kernel.accessAllowed && google.colab.files && google.colab.files.view) {\n",
              "        for (const element of document.querySelectorAll('.filepath')) {\n",
              "          element.style.display = 'block'\n",
              "          element.onclick = (event) => {\n",
              "            event.preventDefault();\n",
              "            event.stopPropagation();\n",
              "            google.colab.files.view(element.textContent, 2173);\n",
              "          };\n",
              "        }\n",
              "      }\n",
              "      for (const element of document.querySelectorAll('.function-repr-contents')) {\n",
              "        element.onclick = (event) => {\n",
              "          event.preventDefault();\n",
              "          event.stopPropagation();\n",
              "          element.classList.toggle('function-repr-contents-collapsed');\n",
              "        };\n",
              "      }\n",
              "      </script>\n",
              "      </div>"
            ]
          },
          "metadata": {},
          "execution_count": 6
        }
      ],
      "source": [
        "w.get_directed_mapping()"
      ]
    },
    {
      "cell_type": "markdown",
      "id": "fb7d9982-8773-4b15-8762-0eec2fc94b58",
      "metadata": {
        "id": "fb7d9982-8773-4b15-8762-0eec2fc94b58"
      },
      "source": [
        "Let's change the direction of some edges:"
      ]
    },
    {
      "cell_type": "code",
      "execution_count": 7,
      "id": "cb210e8c-f561-4497-8bfe-df3f8828d4fb",
      "metadata": {
        "colab": {
          "base_uri": "https://localhost:8080/",
          "height": 104
        },
        "id": "cb210e8c-f561-4497-8bfe-df3f8828d4fb",
        "outputId": "f433962f-adfd-4a3c-f00a-b9b10449c87a"
      },
      "outputs": [
        {
          "output_type": "execute_result",
          "data": {
            "text/plain": [
              "<function __main__.custom_directed_mapping(edge: Dict)>"
            ],
            "text/html": [
              "<div style=\"max-width:800px; border: 1px solid var(--colab-border-color);\"><style>\n",
              "      pre.function-repr-contents {\n",
              "        overflow-x: auto;\n",
              "        padding: 8px 12px;\n",
              "        max-height: 500px;\n",
              "      }\n",
              "\n",
              "      pre.function-repr-contents.function-repr-contents-collapsed {\n",
              "        cursor: pointer;\n",
              "        max-height: 100px;\n",
              "      }\n",
              "    </style>\n",
              "    <pre style=\"white-space: initial; background:\n",
              "         var(--colab-secondary-surface-color); padding: 8px 12px;\n",
              "         border-bottom: 1px solid var(--colab-border-color);\"><b>custom_directed_mapping</b><br/>def custom_directed_mapping(edge: Dict)</pre><pre class=\"function-repr-contents function-repr-contents-collapsed\" style=\"\"><a class=\"filepath\" style=\"display:none\" href=\"#\">/content/&lt;ipython-input-4-f45a64e0ca5b&gt;</a>choose randomly if edge is directed</pre></div>"
            ]
          },
          "metadata": {},
          "execution_count": 7
        }
      ],
      "source": [
        "w.set_directed_mapping(custom_directed_mapping)\n",
        "w.get_directed_mapping()"
      ]
    },
    {
      "cell_type": "markdown",
      "id": "3b65b05a-3bda-4aa5-90a6-10aa8208ddf1",
      "metadata": {
        "id": "3b65b05a-3bda-4aa5-90a6-10aa8208ddf1"
      },
      "source": [
        "You may have to zoom in to clearly differentiate the directed from the undirected edges"
      ]
    },
    {
      "cell_type": "code",
      "execution_count": 8,
      "id": "b8e47f79-044a-4cff-91ca-05e82b5a67a5",
      "metadata": {
        "colab": {
          "base_uri": "https://localhost:8080/",
          "height": 517,
          "referenced_widgets": [
            "f2aebb3bbbe84bdfa2c95b26adc06b76",
            "47b388ac89d54697be7403d896a1689a"
          ]
        },
        "id": "b8e47f79-044a-4cff-91ca-05e82b5a67a5",
        "outputId": "6b16c1e1-7731-4e07-de6d-3597ce0cfd7d"
      },
      "outputs": [
        {
          "output_type": "display_data",
          "data": {
            "text/plain": [
              "GraphWidget(layout=Layout(height='500px', width='100%'))"
            ],
            "application/vnd.jupyter.widget-view+json": {
              "version_major": 2,
              "version_minor": 0,
              "model_id": "f2aebb3bbbe84bdfa2c95b26adc06b76"
            }
          },
          "metadata": {
            "application/vnd.jupyter.widget-view+json": {
              "colab": {
                "custom_widget_manager": {
                  "url": "https://ssl.gstatic.com/colaboratory-static/widgets/colab-cdn-widget-manager/2b70e893a8ba7c0f/manager.min.js"
                }
              }
            }
          }
        }
      ],
      "source": [
        "display(w)"
      ]
    },
    {
      "cell_type": "markdown",
      "id": "cb0eed96-e523-4875-b0dd-d68a08555603",
      "metadata": {
        "id": "cb0eed96-e523-4875-b0dd-d68a08555603"
      },
      "source": [
        "If a edge direction mapping is deleted, the direction mapping reverts back to the default mapping."
      ]
    },
    {
      "cell_type": "code",
      "execution_count": 9,
      "id": "3f953cac-c781-43e4-9b43-2b8a5537a384",
      "metadata": {
        "colab": {
          "base_uri": "https://localhost:8080/",
          "height": 187
        },
        "id": "3f953cac-c781-43e4-9b43-2b8a5537a384",
        "outputId": "5187c163-a08b-4da9-afbb-3efc99aade7f"
      },
      "outputs": [
        {
          "output_type": "execute_result",
          "data": {
            "text/plain": [
              "<bound method GraphWidget.default_directed_mapping of GraphWidget(layout=Layout(height='500px', width='100%'))>"
            ],
            "text/html": [
              "<div style=\"max-width:800px; border: 1px solid var(--colab-border-color);\"><style>\n",
              "      pre.function-repr-contents {\n",
              "        overflow-x: auto;\n",
              "        padding: 8px 12px;\n",
              "        max-height: 500px;\n",
              "      }\n",
              "\n",
              "      pre.function-repr-contents.function-repr-contents-collapsed {\n",
              "        cursor: pointer;\n",
              "        max-height: 100px;\n",
              "      }\n",
              "    </style>\n",
              "    <pre style=\"white-space: initial; background:\n",
              "         var(--colab-secondary-surface-color); padding: 8px 12px;\n",
              "         border-bottom: 1px solid var(--colab-border-color);\"><b>yfiles_jupyter_graphs.widget.GraphWidget.default_directed_mapping</b><br/>def default_directed_mapping(index: int, edge: TDict)</pre><pre class=\"function-repr-contents function-repr-contents-collapsed\" style=\"\"><a class=\"filepath\" style=\"display:none\" href=\"#\">/usr/local/lib/python3.10/dist-packages/yfiles_jupyter_graphs/widget.py</a>The default directed mapping for edges.\n",
              "\n",
              "Uses the graph wide directed attribute for all edges.\n",
              "\n",
              "Parameters\n",
              "----------\n",
              "index: int (optional)\n",
              "edge: typing.Dict\n",
              "\n",
              "Notes\n",
              "-----\n",
              "This is the default value for the `directed_mapping` property.\n",
              "Can be &#x27;overwritten&#x27; by setting the property\n",
              "with a function of the same signature.\n",
              "\n",
              "If the given mapping function has only one parameter (that is not typed as int),\n",
              "then it will be called with the element (typing.Dict) as first parameter.\n",
              "\n",
              "Example\n",
              "-------\n",
              ".. code::\n",
              "\n",
              "   from yfiles_jupyter_graphs import GraphWidget\n",
              "   w = GraphWidget()\n",
              "   def custom_directed_mapping(edge: typing.Dict):\n",
              "   ...\n",
              "   w.set_directed_mapping(custom_directed_mapping)\n",
              "\n",
              "Returns\n",
              "-------\n",
              "directed: bool</pre>\n",
              "      <script>\n",
              "      if (google.colab.kernel.accessAllowed && google.colab.files && google.colab.files.view) {\n",
              "        for (const element of document.querySelectorAll('.filepath')) {\n",
              "          element.style.display = 'block'\n",
              "          element.onclick = (event) => {\n",
              "            event.preventDefault();\n",
              "            event.stopPropagation();\n",
              "            google.colab.files.view(element.textContent, 2173);\n",
              "          };\n",
              "        }\n",
              "      }\n",
              "      for (const element of document.querySelectorAll('.function-repr-contents')) {\n",
              "        element.onclick = (event) => {\n",
              "          event.preventDefault();\n",
              "          event.stopPropagation();\n",
              "          element.classList.toggle('function-repr-contents-collapsed');\n",
              "        };\n",
              "      }\n",
              "      </script>\n",
              "      </div>"
            ]
          },
          "metadata": {},
          "execution_count": 9
        }
      ],
      "source": [
        "w.del_directed_mapping()\n",
        "w.get_directed_mapping()"
      ]
    }
  ],
  "metadata": {
    "colab": {
      "provenance": []
    },
    "kernelspec": {
      "display_name": "Python 3 (ipykernel)",
      "language": "python",
      "name": "python3"
    },
    "language_info": {
      "codemirror_mode": {
        "name": "ipython",
        "version": 3
      },
      "file_extension": ".py",
      "mimetype": "text/x-python",
      "name": "python",
      "nbconvert_exporter": "python",
      "pygments_lexer": "ipython3",
      "version": "3.12.3"
    },
    "widgets": {
      "application/vnd.jupyter.widget-state+json": {
        "35e1d6a263a84369ba93d4ac37340fe0": {
          "model_module": "yfiles-jupyter-graphs",
          "model_name": "GraphModel",
          "model_module_version": "^1.10.0",
          "state": {
            "_context_pane_mapping": [
              {
                "id": "Neighborhood",
                "title": "Neighborhood"
              },
              {
                "id": "Data",
                "title": "Data"
              },
              {
                "id": "Search",
                "title": "Search"
              },
              {
                "id": "About",
                "title": "About"
              }
            ],
            "_data_importer": "networkx",
            "_directed": false,
            "_dom_classes": [],
            "_edges": [
              {
                "id": 0,
                "start": 0,
                "end": 3,
                "properties": {},
                "color": "#15AFAC",
                "thickness_factor": 1,
                "directed": false,
                "styles": {},
                "label": ""
              },
              {
                "id": 1,
                "start": 0,
                "end": 4,
                "properties": {},
                "color": "#15AFAC",
                "thickness_factor": 1,
                "directed": false,
                "styles": {},
                "label": ""
              },
              {
                "id": 2,
                "start": 1,
                "end": 4,
                "properties": {},
                "color": "#15AFAC",
                "thickness_factor": 1,
                "directed": false,
                "styles": {},
                "label": ""
              },
              {
                "id": 3,
                "start": 2,
                "end": 5,
                "properties": {},
                "color": "#15AFAC",
                "thickness_factor": 1,
                "directed": false,
                "styles": {},
                "label": ""
              },
              {
                "id": 4,
                "start": 2,
                "end": 6,
                "properties": {},
                "color": "#15AFAC",
                "thickness_factor": 1,
                "directed": false,
                "styles": {},
                "label": ""
              },
              {
                "id": 5,
                "start": 2,
                "end": 7,
                "properties": {},
                "color": "#15AFAC",
                "thickness_factor": 1,
                "directed": false,
                "styles": {},
                "label": ""
              },
              {
                "id": 6,
                "start": 3,
                "end": 8,
                "properties": {},
                "color": "#15AFAC",
                "thickness_factor": 1,
                "directed": false,
                "styles": {},
                "label": ""
              },
              {
                "id": 7,
                "start": 3,
                "end": 9,
                "properties": {},
                "color": "#15AFAC",
                "thickness_factor": 1,
                "directed": false,
                "styles": {},
                "label": ""
              },
              {
                "id": 8,
                "start": 4,
                "end": 6,
                "properties": {},
                "color": "#15AFAC",
                "thickness_factor": 1,
                "directed": false,
                "styles": {},
                "label": ""
              },
              {
                "id": 9,
                "start": 5,
                "end": 6,
                "properties": {},
                "color": "#15AFAC",
                "thickness_factor": 1,
                "directed": false,
                "styles": {},
                "label": ""
              }
            ],
            "_graph_layout": {},
            "_highlight": [],
            "_license": {},
            "_model_module": "yfiles-jupyter-graphs",
            "_model_module_version": "^1.10.0",
            "_model_name": "GraphModel",
            "_neighborhood": {},
            "_nodes": [
              {
                "id": 0,
                "properties": {
                  "label": "0"
                },
                "color": "#15AFAC",
                "styles": {},
                "label": "0",
                "scale_factor": 1,
                "type": "#15AFAC",
                "size": [
                  55,
                  55
                ],
                "position": [
                  0,
                  0
                ]
              },
              {
                "id": 1,
                "properties": {
                  "label": "1"
                },
                "color": "#15AFAC",
                "styles": {},
                "label": "1",
                "scale_factor": 1,
                "type": "#15AFAC",
                "size": [
                  55,
                  55
                ],
                "position": [
                  0,
                  0
                ]
              },
              {
                "id": 2,
                "properties": {
                  "label": "2"
                },
                "color": "#15AFAC",
                "styles": {},
                "label": "2",
                "scale_factor": 1,
                "type": "#15AFAC",
                "size": [
                  55,
                  55
                ],
                "position": [
                  0,
                  0
                ]
              },
              {
                "id": 3,
                "properties": {
                  "label": "3"
                },
                "color": "#15AFAC",
                "styles": {},
                "label": "3",
                "scale_factor": 1,
                "type": "#15AFAC",
                "size": [
                  55,
                  55
                ],
                "position": [
                  0,
                  0
                ]
              },
              {
                "id": 4,
                "properties": {
                  "label": "4"
                },
                "color": "#15AFAC",
                "styles": {},
                "label": "4",
                "scale_factor": 1,
                "type": "#15AFAC",
                "size": [
                  55,
                  55
                ],
                "position": [
                  0,
                  0
                ]
              },
              {
                "id": 5,
                "properties": {
                  "label": "5"
                },
                "color": "#15AFAC",
                "styles": {},
                "label": "5",
                "scale_factor": 1,
                "type": "#15AFAC",
                "size": [
                  55,
                  55
                ],
                "position": [
                  0,
                  0
                ]
              },
              {
                "id": 6,
                "properties": {
                  "label": "6"
                },
                "color": "#15AFAC",
                "styles": {},
                "label": "6",
                "scale_factor": 1,
                "type": "#15AFAC",
                "size": [
                  55,
                  55
                ],
                "position": [
                  0,
                  0
                ]
              },
              {
                "id": 7,
                "properties": {
                  "label": "7"
                },
                "color": "#15AFAC",
                "styles": {},
                "label": "7",
                "scale_factor": 1,
                "type": "#15AFAC",
                "size": [
                  55,
                  55
                ],
                "position": [
                  0,
                  0
                ]
              },
              {
                "id": 8,
                "properties": {
                  "label": "8"
                },
                "color": "#15AFAC",
                "styles": {},
                "label": "8",
                "scale_factor": 1,
                "type": "#15AFAC",
                "size": [
                  55,
                  55
                ],
                "position": [
                  0,
                  0
                ]
              },
              {
                "id": 9,
                "properties": {
                  "label": "9"
                },
                "color": "#15AFAC",
                "styles": {},
                "label": "9",
                "scale_factor": 1,
                "type": "#15AFAC",
                "size": [
                  55,
                  55
                ],
                "position": [
                  0,
                  0
                ]
              }
            ],
            "_overview": {
              "enabled": null,
              "overview_set": false
            },
            "_selected_graph": [
              [],
              []
            ],
            "_sidebar": {
              "enabled": false,
              "start_with": null
            },
            "_view_count": null,
            "_view_module": "yfiles-jupyter-graphs",
            "_view_module_version": "^1.10.0",
            "_view_name": "GraphView",
            "layout": "IPY_MODEL_c57178d607d742d3867d6dfd16ca00f0",
            "tabbable": null,
            "tooltip": null
          }
        },
        "c57178d607d742d3867d6dfd16ca00f0": {
          "model_module": "@jupyter-widgets/base",
          "model_name": "LayoutModel",
          "model_module_version": "2.0.0",
          "state": {
            "_model_module": "@jupyter-widgets/base",
            "_model_module_version": "2.0.0",
            "_model_name": "LayoutModel",
            "_view_count": null,
            "_view_module": "@jupyter-widgets/base",
            "_view_module_version": "2.0.0",
            "_view_name": "LayoutView",
            "align_content": null,
            "align_items": null,
            "align_self": null,
            "border_bottom": null,
            "border_left": null,
            "border_right": null,
            "border_top": null,
            "bottom": null,
            "display": null,
            "flex": null,
            "flex_flow": null,
            "grid_area": null,
            "grid_auto_columns": null,
            "grid_auto_flow": null,
            "grid_auto_rows": null,
            "grid_column": null,
            "grid_gap": null,
            "grid_row": null,
            "grid_template_areas": null,
            "grid_template_columns": null,
            "grid_template_rows": null,
            "height": "500px",
            "justify_content": null,
            "justify_items": null,
            "left": null,
            "margin": null,
            "max_height": null,
            "max_width": null,
            "min_height": null,
            "min_width": null,
            "object_fit": null,
            "object_position": null,
            "order": null,
            "overflow": null,
            "padding": null,
            "right": null,
            "top": null,
            "visibility": null,
            "width": "100%"
          }
        },
        "f2aebb3bbbe84bdfa2c95b26adc06b76": {
          "model_module": "yfiles-jupyter-graphs",
          "model_name": "GraphModel",
          "model_module_version": "^1.10.0",
          "state": {
            "_context_pane_mapping": [
              {
                "id": "Neighborhood",
                "title": "Neighborhood"
              },
              {
                "id": "Data",
                "title": "Data"
              },
              {
                "id": "Search",
                "title": "Search"
              },
              {
                "id": "About",
                "title": "About"
              }
            ],
            "_data_importer": "networkx",
            "_directed": false,
            "_dom_classes": [],
            "_edges": [
              {
                "id": 0,
                "start": 0,
                "end": 3,
                "properties": {},
                "color": "#15AFAC",
                "thickness_factor": 1,
                "directed": false,
                "styles": {},
                "label": ""
              },
              {
                "id": 1,
                "start": 0,
                "end": 4,
                "properties": {},
                "color": "#15AFAC",
                "thickness_factor": 1,
                "directed": false,
                "styles": {},
                "label": ""
              },
              {
                "id": 2,
                "start": 1,
                "end": 4,
                "properties": {},
                "color": "#15AFAC",
                "thickness_factor": 1,
                "directed": true,
                "styles": {},
                "label": ""
              },
              {
                "id": 3,
                "start": 2,
                "end": 5,
                "properties": {},
                "color": "#15AFAC",
                "thickness_factor": 1,
                "directed": true,
                "styles": {},
                "label": ""
              },
              {
                "id": 4,
                "start": 2,
                "end": 6,
                "properties": {},
                "color": "#15AFAC",
                "thickness_factor": 1,
                "directed": false,
                "styles": {},
                "label": ""
              },
              {
                "id": 5,
                "start": 2,
                "end": 7,
                "properties": {},
                "color": "#15AFAC",
                "thickness_factor": 1,
                "directed": true,
                "styles": {},
                "label": ""
              },
              {
                "id": 6,
                "start": 3,
                "end": 8,
                "properties": {},
                "color": "#15AFAC",
                "thickness_factor": 1,
                "directed": false,
                "styles": {},
                "label": ""
              },
              {
                "id": 7,
                "start": 3,
                "end": 9,
                "properties": {},
                "color": "#15AFAC",
                "thickness_factor": 1,
                "directed": true,
                "styles": {},
                "label": ""
              },
              {
                "id": 8,
                "start": 4,
                "end": 6,
                "properties": {},
                "color": "#15AFAC",
                "thickness_factor": 1,
                "directed": true,
                "styles": {},
                "label": ""
              },
              {
                "id": 9,
                "start": 5,
                "end": 6,
                "properties": {},
                "color": "#15AFAC",
                "thickness_factor": 1,
                "directed": false,
                "styles": {},
                "label": ""
              }
            ],
            "_graph_layout": {},
            "_highlight": [],
            "_license": {},
            "_model_module": "yfiles-jupyter-graphs",
            "_model_module_version": "^1.10.0",
            "_model_name": "GraphModel",
            "_neighborhood": {},
            "_nodes": [
              {
                "id": 0,
                "properties": {
                  "label": "0"
                },
                "color": "#15AFAC",
                "styles": {},
                "label": "0",
                "scale_factor": 1,
                "type": "#15AFAC",
                "size": [
                  55,
                  55
                ],
                "position": [
                  0,
                  0
                ]
              },
              {
                "id": 1,
                "properties": {
                  "label": "1"
                },
                "color": "#15AFAC",
                "styles": {},
                "label": "1",
                "scale_factor": 1,
                "type": "#15AFAC",
                "size": [
                  55,
                  55
                ],
                "position": [
                  0,
                  0
                ]
              },
              {
                "id": 2,
                "properties": {
                  "label": "2"
                },
                "color": "#15AFAC",
                "styles": {},
                "label": "2",
                "scale_factor": 1,
                "type": "#15AFAC",
                "size": [
                  55,
                  55
                ],
                "position": [
                  0,
                  0
                ]
              },
              {
                "id": 3,
                "properties": {
                  "label": "3"
                },
                "color": "#15AFAC",
                "styles": {},
                "label": "3",
                "scale_factor": 1,
                "type": "#15AFAC",
                "size": [
                  55,
                  55
                ],
                "position": [
                  0,
                  0
                ]
              },
              {
                "id": 4,
                "properties": {
                  "label": "4"
                },
                "color": "#15AFAC",
                "styles": {},
                "label": "4",
                "scale_factor": 1,
                "type": "#15AFAC",
                "size": [
                  55,
                  55
                ],
                "position": [
                  0,
                  0
                ]
              },
              {
                "id": 5,
                "properties": {
                  "label": "5"
                },
                "color": "#15AFAC",
                "styles": {},
                "label": "5",
                "scale_factor": 1,
                "type": "#15AFAC",
                "size": [
                  55,
                  55
                ],
                "position": [
                  0,
                  0
                ]
              },
              {
                "id": 6,
                "properties": {
                  "label": "6"
                },
                "color": "#15AFAC",
                "styles": {},
                "label": "6",
                "scale_factor": 1,
                "type": "#15AFAC",
                "size": [
                  55,
                  55
                ],
                "position": [
                  0,
                  0
                ]
              },
              {
                "id": 7,
                "properties": {
                  "label": "7"
                },
                "color": "#15AFAC",
                "styles": {},
                "label": "7",
                "scale_factor": 1,
                "type": "#15AFAC",
                "size": [
                  55,
                  55
                ],
                "position": [
                  0,
                  0
                ]
              },
              {
                "id": 8,
                "properties": {
                  "label": "8"
                },
                "color": "#15AFAC",
                "styles": {},
                "label": "8",
                "scale_factor": 1,
                "type": "#15AFAC",
                "size": [
                  55,
                  55
                ],
                "position": [
                  0,
                  0
                ]
              },
              {
                "id": 9,
                "properties": {
                  "label": "9"
                },
                "color": "#15AFAC",
                "styles": {},
                "label": "9",
                "scale_factor": 1,
                "type": "#15AFAC",
                "size": [
                  55,
                  55
                ],
                "position": [
                  0,
                  0
                ]
              }
            ],
            "_overview": {
              "enabled": null,
              "overview_set": false
            },
            "_selected_graph": [
              [],
              []
            ],
            "_sidebar": {
              "enabled": false,
              "start_with": null
            },
            "_view_count": null,
            "_view_module": "yfiles-jupyter-graphs",
            "_view_module_version": "^1.10.0",
            "_view_name": "GraphView",
            "layout": "IPY_MODEL_47b388ac89d54697be7403d896a1689a",
            "tabbable": null,
            "tooltip": null
          }
        },
        "47b388ac89d54697be7403d896a1689a": {
          "model_module": "@jupyter-widgets/base",
          "model_name": "LayoutModel",
          "model_module_version": "2.0.0",
          "state": {
            "_model_module": "@jupyter-widgets/base",
            "_model_module_version": "2.0.0",
            "_model_name": "LayoutModel",
            "_view_count": null,
            "_view_module": "@jupyter-widgets/base",
            "_view_module_version": "2.0.0",
            "_view_name": "LayoutView",
            "align_content": null,
            "align_items": null,
            "align_self": null,
            "border_bottom": null,
            "border_left": null,
            "border_right": null,
            "border_top": null,
            "bottom": null,
            "display": null,
            "flex": null,
            "flex_flow": null,
            "grid_area": null,
            "grid_auto_columns": null,
            "grid_auto_flow": null,
            "grid_auto_rows": null,
            "grid_column": null,
            "grid_gap": null,
            "grid_row": null,
            "grid_template_areas": null,
            "grid_template_columns": null,
            "grid_template_rows": null,
            "height": "500px",
            "justify_content": null,
            "justify_items": null,
            "left": null,
            "margin": null,
            "max_height": null,
            "max_width": null,
            "min_height": null,
            "min_width": null,
            "object_fit": null,
            "object_position": null,
            "order": null,
            "overflow": null,
            "padding": null,
            "right": null,
            "top": null,
            "visibility": null,
            "width": "100%"
          }
        },
        "state": {}
      }
    }
  },
  "nbformat": 4,
  "nbformat_minor": 5
}