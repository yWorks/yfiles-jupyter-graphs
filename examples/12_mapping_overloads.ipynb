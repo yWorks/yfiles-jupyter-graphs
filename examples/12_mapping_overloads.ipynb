{
  "cells": [
    {
      "cell_type": "markdown",
      "id": "7ca6fa41-0560-4136-a3fa-1ca1e637cb6b",
      "metadata": {
        "id": "7ca6fa41-0560-4136-a3fa-1ca1e637cb6b"
      },
      "source": [
        "# Mapping Overloads <a target=\"_blank\" href=\"https://colab.research.google.com/github/yWorks/yfiles-jupyter-graphs/blob/main/examples/12_mapping_overloads.ipynb\"><img src=\"https://colab.research.google.com/assets/colab-badge.svg\" alt=\"Open In Colab\"/></a>"
      ]
    },
    {
      "cell_type": "markdown",
      "id": "3c667362-1228-4d03-b2a3-d49537d8d9b4",
      "metadata": {
        "id": "3c667362-1228-4d03-b2a3-d49537d8d9b4"
      },
      "source": [
        "This notebook covers the different methods to change node or edge mappings.\n",
        "\n",
        "Before using the graph widget, install all necessary packages."
      ]
    },
    {
      "cell_type": "code",
      "execution_count": 1,
      "id": "7304ae55-3dc2-4a77-8275-f44a8122601f",
      "metadata": {
        "id": "7304ae55-3dc2-4a77-8275-f44a8122601f",
        "outputId": "0431ff14-db0e-4f62-c9ac-5ea22c95e76a",
        "colab": {
          "base_uri": "https://localhost:8080/",
          "height": 90
        }
      },
      "outputs": [
        {
          "output_type": "stream",
          "name": "stdout",
          "text": [
            "\u001b[2K   \u001b[90m\u2501\u2501\u2501\u2501\u2501\u2501\u2501\u2501\u2501\u2501\u2501\u2501\u2501\u2501\u2501\u2501\u2501\u2501\u2501\u2501\u2501\u2501\u2501\u2501\u2501\u2501\u2501\u2501\u2501\u2501\u2501\u2501\u2501\u2501\u2501\u2501\u2501\u2501\u2501\u2501\u001b[0m \u001b[32m15.6/15.6 MB\u001b[0m \u001b[31m36.1 MB/s\u001b[0m eta \u001b[36m0:00:00\u001b[0m\n",
            "\u001b[2K   \u001b[90m\u2501\u2501\u2501\u2501\u2501\u2501\u2501\u2501\u2501\u2501\u2501\u2501\u2501\u2501\u2501\u2501\u2501\u2501\u2501\u2501\u2501\u2501\u2501\u2501\u2501\u2501\u2501\u2501\u2501\u2501\u2501\u2501\u2501\u2501\u2501\u2501\u2501\u2501\u2501\u2501\u001b[0m \u001b[32m139.8/139.8 kB\u001b[0m \u001b[31m4.8 MB/s\u001b[0m eta \u001b[36m0:00:00\u001b[0m\n",
            "\u001b[2K   \u001b[90m\u2501\u2501\u2501\u2501\u2501\u2501\u2501\u2501\u2501\u2501\u2501\u2501\u2501\u2501\u2501\u2501\u2501\u2501\u2501\u2501\u2501\u2501\u2501\u2501\u2501\u2501\u2501\u2501\u2501\u2501\u2501\u2501\u2501\u2501\u2501\u2501\u2501\u2501\u2501\u2501\u001b[0m \u001b[32m2.3/2.3 MB\u001b[0m \u001b[31m29.2 MB/s\u001b[0m eta \u001b[36m0:00:00\u001b[0m\n",
            "\u001b[2K   \u001b[90m\u2501\u2501\u2501\u2501\u2501\u2501\u2501\u2501\u2501\u2501\u2501\u2501\u2501\u2501\u2501\u2501\u2501\u2501\u2501\u2501\u2501\u2501\u2501\u2501\u2501\u2501\u2501\u2501\u2501\u2501\u2501\u2501\u2501\u2501\u2501\u2501\u2501\u2501\u2501\u2501\u001b[0m \u001b[32m1.6/1.6 MB\u001b[0m \u001b[31m15.1 MB/s\u001b[0m eta \u001b[36m0:00:00\u001b[0m\n",
            "\u001b[?25h"
          ]
        }
      ],
      "source": [
        "%pip install yfiles_jupyter_graphs --quiet\n",
        "%pip install networkx --quiet\n",
        "from random import choice, seed\n",
        "from typing import Dict\n",
        "from yfiles_jupyter_graphs import GraphWidget\n",
        "seed(0)\n",
        "w = GraphWidget()"
      ]
    },
    {
      "cell_type": "markdown",
      "id": "1704d4f6-798b-4d6d-8977-a5ba94376a7e",
      "metadata": {
        "id": "1704d4f6-798b-4d6d-8977-a5ba94376a7e"
      },
      "source": [
        "You can also open this notebook in Google Colab when Google Colab's custom widget manager is enabled:"
      ]
    },
    {
      "cell_type": "code",
      "execution_count": 2,
      "id": "7014c58b-cdc9-4703-b69c-601c3318bc0b",
      "metadata": {
        "id": "7014c58b-cdc9-4703-b69c-601c3318bc0b"
      },
      "outputs": [],
      "source": [
        "try:\n",
        "  import google.colab\n",
        "  from google.colab import output\n",
        "  output.enable_custom_widget_manager()\n",
        "except:\n",
        "  pass"
      ]
    },
    {
      "cell_type": "markdown",
      "id": "48cd4f3e-f5f4-4b0c-8dbf-12fd27da82d8",
      "metadata": {
        "id": "48cd4f3e-f5f4-4b0c-8dbf-12fd27da82d8"
      },
      "source": [
        "<a target=\"_blank\" href=\"https://colab.research.google.com/github/yWorks/yfiles-jupyter-graphs/blob/main/examples/12_mapping_overloads.ipynb\"><img src=\"https://colab.research.google.com/assets/colab-badge.svg\" alt=\"Open In Colab\"/></a>"
      ]
    },
    {
      "cell_type": "code",
      "execution_count": 3,
      "id": "4c5413fd-98a3-4b8c-9224-c7ca75b0afda",
      "metadata": {
        "id": "4c5413fd-98a3-4b8c-9224-c7ca75b0afda"
      },
      "outputs": [],
      "source": [
        "w.nodes = [\n",
        "    {\"id\": 0, \"properties\": {\"firstName\": \"Alpha\", \"label\": \"Person A\", \"age\": 31}},\n",
        "    {\"id\": \"one\", \"properties\": {\"firstName\": \"Bravo\", \"label\": \"Person B\", \"age\": 56}},\n",
        "    {\"id\": 2.0, \"properties\": {\"firstName\": \"Charlie\", \"label\": \"Person C\", \"age\": 27, \"has_hat\": False}},\n",
        "    {\"id\": True, \"properties\": {\"firstName\": \"Delta\", \"label\": \"Person D\", \"age\": 43, \"likes_pizza\": True}}\n",
        "]\n",
        "w.edges = [\n",
        "    {\"id\": \"zero\", \"start\": 0, \"end\": \"one\", \"properties\": {\"since\": \"1992\", \"label\": \"knows\"}},\n",
        "    {\"id\": 1, \"start\": \"one\", \"end\": True, \"properties\": {\"label\": \"knows\", \"since\": \"1992\"}},\n",
        "    {\"id\": 2.0, \"start\": 2.0, \"end\": True, \"properties\": {\"label\": \"knows\", \"since\": \"1992\"}},\n",
        "    {\"id\": False, \"start\": 0, \"end\": 2.0, \"properties\": {\"label\": \"knows\", \"since\": 234}}\n",
        "]"
      ]
    },
    {
      "cell_type": "markdown",
      "id": "9564bafb-6d2a-44f7-ac81-4b5e73fc2ed2",
      "metadata": {
        "id": "9564bafb-6d2a-44f7-ac81-4b5e73fc2ed2"
      },
      "source": [
        "We will use this graph:"
      ]
    },
    {
      "cell_type": "code",
      "execution_count": 4,
      "id": "5d8516f3-66c4-4281-8a95-84865bef2bd3",
      "metadata": {
        "id": "5d8516f3-66c4-4281-8a95-84865bef2bd3",
        "outputId": "ef162ca8-101d-4682-a013-a4006c150b4a",
        "colab": {
          "base_uri": "https://localhost:8080/",
          "height": 517,
          "referenced_widgets": [
            "c68b6f2e6dc641cd8973fdf0f85999a6",
            "dd8a7ec042694fadaeb55258bfd8e735"
          ]
        }
      },
      "outputs": [
        {
          "output_type": "display_data",
          "data": {
            "text/plain": [
              "GraphWidget(layout=Layout(height='500px', width='100%'))"
            ],
            "application/vnd.jupyter.widget-view+json": {
              "version_major": 2,
              "version_minor": 0,
              "model_id": "c68b6f2e6dc641cd8973fdf0f85999a6"
            }
          },
          "metadata": {
            "application/vnd.jupyter.widget-view+json": {
              "colab": {
                "custom_widget_manager": {
                  "url": "https://ssl.gstatic.com/colaboratory-static/widgets/colab-cdn-widget-manager/2b70e893a8ba7c0f/manager.min.js"
                }
              }
            }
          }
        }
      ],
      "source": [
        "display(w)"
      ]
    },
    {
      "cell_type": "markdown",
      "id": "ac801d6f-7fed-4b89-a977-173066410df5",
      "metadata": {
        "id": "ac801d6f-7fed-4b89-a977-173066410df5"
      },
      "source": [
        "### Using Properties data\n",
        "\n",
        "Let's set the size of the nodes based on the age:"
      ]
    },
    {
      "cell_type": "code",
      "execution_count": 5,
      "id": "8c6ba18c-4232-4b01-8ebf-f97e18f1dc90",
      "metadata": {
        "id": "8c6ba18c-4232-4b01-8ebf-f97e18f1dc90",
        "outputId": "e1349538-e6d6-41de-ed1a-17489793773a",
        "colab": {
          "base_uri": "https://localhost:8080/",
          "height": 517,
          "referenced_widgets": [
            "c68b6f2e6dc641cd8973fdf0f85999a6",
            "dd8a7ec042694fadaeb55258bfd8e735"
          ]
        }
      },
      "outputs": [
        {
          "output_type": "display_data",
          "data": {
            "text/plain": [
              "GraphWidget(layout=Layout(height='500px', width='100%'))"
            ],
            "application/vnd.jupyter.widget-view+json": {
              "version_major": 2,
              "version_minor": 0,
              "model_id": "c68b6f2e6dc641cd8973fdf0f85999a6"
            }
          },
          "metadata": {
            "application/vnd.jupyter.widget-view+json": {
              "colab": {
                "custom_widget_manager": {
                  "url": "https://ssl.gstatic.com/colaboratory-static/widgets/colab-cdn-widget-manager/2b70e893a8ba7c0f/manager.min.js"
                }
              }
            }
          }
        }
      ],
      "source": [
        "def custom_node_scale_mapping_age(item: Dict):\n",
        "    return item['properties']['age'] / 35\n",
        "w.set_node_scale_factor_mapping(custom_node_scale_mapping_age)\n",
        "display(w)"
      ]
    },
    {
      "cell_type": "markdown",
      "id": "dfb0eed3-dd82-42bb-aaaa-8be807dd50d5",
      "metadata": {
        "id": "dfb0eed3-dd82-42bb-aaaa-8be807dd50d5"
      },
      "source": [
        "### There is a shorter way for that:"
      ]
    },
    {
      "cell_type": "code",
      "execution_count": 6,
      "id": "846a94ba-411c-4fec-967f-77a0ef29eb0f",
      "metadata": {
        "id": "846a94ba-411c-4fec-967f-77a0ef29eb0f"
      },
      "outputs": [],
      "source": [
        "w2 = GraphWidget()\n",
        "w2.nodes = [\n",
        "    {\"id\": 0, \"properties\": {\"firstName\": \"Alpha\", \"label\": \"Person A\", \"age\": 31}},\n",
        "    {\"id\": \"one\", \"properties\": {\"firstName\": \"Bravo\", \"label\": \"Person B\", \"age\": 56}},\n",
        "    {\"id\": 2.0, \"properties\": {\"firstName\": \"Charlie\", \"label\": \"Person C\", \"age\": 27, \"has_hat\": False}},\n",
        "    {\"id\": True, \"properties\": {\"firstName\": \"Delta\", \"label\": \"Person D\", \"age\": 43, \"likes_pizza\": True}}\n",
        "]\n",
        "w2.edges = [\n",
        "    {\"id\": \"zero\", \"start\": 0, \"end\": \"one\", \"properties\": {\"since\": \"1992\", \"label\": \"knows\"}},\n",
        "    {\"id\": 1, \"start\": \"one\", \"end\": True, \"properties\": {\"label\": \"knows\", \"since\": \"1992\"}},\n",
        "    {\"id\": 2.0, \"start\": 2.0, \"end\": True, \"properties\": {\"label\": \"knows\", \"since\": \"1992\"}},\n",
        "    {\"id\": False, \"start\": 0, \"end\": 2.0, \"properties\": {\"label\": \"knows\", \"since\": 234}}\n",
        "]\n",
        "\n",
        "w2.node_scale_factor_mapping = lambda item: item['properties']['age'] / 35"
      ]
    },
    {
      "cell_type": "markdown",
      "id": "999f44ca-823c-4d09-b136-44473da1765a",
      "metadata": {
        "id": "999f44ca-823c-4d09-b136-44473da1765a"
      },
      "source": [
        "Both approaches produce the same ouptut"
      ]
    },
    {
      "cell_type": "code",
      "execution_count": 7,
      "id": "cc72cb90-7941-472e-bac0-1a759052955d",
      "metadata": {
        "id": "cc72cb90-7941-472e-bac0-1a759052955d",
        "outputId": "2942cf2b-dbca-4a17-a4ed-fac780e5a779",
        "colab": {
          "base_uri": "https://localhost:8080/",
          "height": 517,
          "referenced_widgets": [
            "fdba3142cf444a89a6f0a4e299853f8a",
            "6c2c76dd92da45c5be113d0ca8ddcc15"
          ]
        }
      },
      "outputs": [
        {
          "output_type": "display_data",
          "data": {
            "text/plain": [
              "GraphWidget(layout=Layout(height='500px', width='100%'))"
            ],
            "application/vnd.jupyter.widget-view+json": {
              "version_major": 2,
              "version_minor": 0,
              "model_id": "fdba3142cf444a89a6f0a4e299853f8a"
            }
          },
          "metadata": {
            "application/vnd.jupyter.widget-view+json": {
              "colab": {
                "custom_widget_manager": {
                  "url": "https://ssl.gstatic.com/colaboratory-static/widgets/colab-cdn-widget-manager/2b70e893a8ba7c0f/manager.min.js"
                }
              }
            }
          }
        }
      ],
      "source": [
        "display(w2)"
      ]
    },
    {
      "cell_type": "markdown",
      "id": "4fa81220-5164-4864-9499-85f8051b1ba5",
      "metadata": {
        "id": "4fa81220-5164-4864-9499-85f8051b1ba5"
      },
      "source": [
        "## Functions with less arguments\n",
        "Next, Let's set the colors of the edges:"
      ]
    },
    {
      "cell_type": "code",
      "execution_count": 8,
      "id": "5776d087-dd85-4254-97a1-bdc0b4e67c09",
      "metadata": {
        "id": "5776d087-dd85-4254-97a1-bdc0b4e67c09",
        "outputId": "5c4fd331-5116-4dfd-bdad-856abbbdd3e7",
        "colab": {
          "base_uri": "https://localhost:8080/",
          "height": 517,
          "referenced_widgets": [
            "b981d56da27e4c088430ea72c28f613e",
            "cf099fca2a3246b5a3ef0a6941d53580"
          ]
        }
      },
      "outputs": [
        {
          "output_type": "display_data",
          "data": {
            "text/plain": [
              "GraphWidget(layout=Layout(height='500px', width='100%'))"
            ],
            "application/vnd.jupyter.widget-view+json": {
              "version_major": 2,
              "version_minor": 0,
              "model_id": "b981d56da27e4c088430ea72c28f613e"
            }
          },
          "metadata": {
            "application/vnd.jupyter.widget-view+json": {
              "colab": {
                "custom_widget_manager": {
                  "url": "https://ssl.gstatic.com/colaboratory-static/widgets/colab-cdn-widget-manager/2b70e893a8ba7c0f/manager.min.js"
                }
              }
            }
          }
        }
      ],
      "source": [
        "w3 = GraphWidget()\n",
        "w3.nodes = [\n",
        "    {\"id\": 0, \"properties\": {\"firstName\": \"Alpha\", \"label\": \"Person A\", \"age\": 31}},\n",
        "    {\"id\": \"one\", \"properties\": {\"firstName\": \"Bravo\", \"label\": \"Person B\", \"age\": 56}},\n",
        "    {\"id\": 2.0, \"properties\": {\"firstName\": \"Charlie\", \"label\": \"Person C\", \"age\": 27, \"has_hat\": False}},\n",
        "    {\"id\": True, \"properties\": {\"firstName\": \"Delta\", \"label\": \"Person D\", \"age\": 43, \"likes_pizza\": True}}\n",
        "]\n",
        "w3.edges = [\n",
        "    {\"id\": \"zero\", \"start\": 0, \"end\": \"one\", \"properties\": {\"since\": \"1992\", \"label\": \"knows\"}},\n",
        "    {\"id\": 1, \"start\": \"one\", \"end\": True, \"properties\": {\"label\": \"knows\", \"since\": \"1992\"}},\n",
        "    {\"id\": 2.0, \"start\": 2.0, \"end\": True, \"properties\": {\"label\": \"knows\", \"since\": \"1992\"}},\n",
        "    {\"id\": False, \"start\": 0, \"end\": 2.0, \"properties\": {\"label\": \"knows\", \"since\": 234}}\n",
        "]\n",
        "\n",
        "custom_colors = [ '#956518', '#d13471', '#3fa670', '#8375ba' ]\n",
        "edges = w3.get_edges()\n",
        "w3.edge_color_mapping = lambda edge : custom_colors[edges.index(edge) % len(custom_colors)]\n",
        "display(w3)"
      ]
    },
    {
      "cell_type": "markdown",
      "id": "d47da27c-a5f2-4f9d-bc1e-06a4c3a52809",
      "metadata": {
        "id": "d47da27c-a5f2-4f9d-bc1e-06a4c3a52809"
      },
      "source": [
        "Sometimes, one doesn't even need the item argument. \\\n",
        "The following syntax is especially useful for constant values:"
      ]
    },
    {
      "cell_type": "code",
      "execution_count": 9,
      "id": "b7d5ce38-01ac-4144-b616-b33614365912",
      "metadata": {
        "id": "b7d5ce38-01ac-4144-b616-b33614365912",
        "outputId": "64acb82b-f4bd-4bb1-c60b-6cba60447972",
        "colab": {
          "base_uri": "https://localhost:8080/",
          "height": 517,
          "referenced_widgets": [
            "b981d56da27e4c088430ea72c28f613e",
            "cf099fca2a3246b5a3ef0a6941d53580"
          ]
        }
      },
      "outputs": [
        {
          "output_type": "display_data",
          "data": {
            "text/plain": [
              "GraphWidget(layout=Layout(height='500px', width='100%'))"
            ],
            "application/vnd.jupyter.widget-view+json": {
              "version_major": 2,
              "version_minor": 0,
              "model_id": "b981d56da27e4c088430ea72c28f613e"
            }
          },
          "metadata": {
            "application/vnd.jupyter.widget-view+json": {
              "colab": {
                "custom_widget_manager": {
                  "url": "https://ssl.gstatic.com/colaboratory-static/widgets/colab-cdn-widget-manager/2b70e893a8ba7c0f/manager.min.js"
                }
              }
            }
          }
        }
      ],
      "source": [
        "w3.node_color_mapping = lambda : \"#f22441\"\n",
        "display(w3)"
      ]
    },
    {
      "cell_type": "markdown",
      "id": "d3f0f63b-9ee9-45fc-a7f8-796f18bcd7a4",
      "metadata": {
        "id": "d3f0f63b-9ee9-45fc-a7f8-796f18bcd7a4"
      },
      "source": [
        "## Overloading with strings\n",
        "Now, Let's set the labels of the nodes to the first names."
      ]
    },
    {
      "cell_type": "code",
      "execution_count": 10,
      "id": "45608997-4fd1-42ac-92a1-1fd2a5e90b98",
      "metadata": {
        "id": "45608997-4fd1-42ac-92a1-1fd2a5e90b98",
        "outputId": "604d84c3-f630-4b1f-d8b5-44721e838618",
        "colab": {
          "base_uri": "https://localhost:8080/",
          "height": 517,
          "referenced_widgets": [
            "45f4ef913fdf43d9ba2f690225c39eed",
            "840fb60cac5e4fd19fb80209f95c9eff"
          ]
        }
      },
      "outputs": [
        {
          "output_type": "display_data",
          "data": {
            "text/plain": [
              "GraphWidget(layout=Layout(height='500px', width='100%'))"
            ],
            "application/vnd.jupyter.widget-view+json": {
              "version_major": 2,
              "version_minor": 0,
              "model_id": "45f4ef913fdf43d9ba2f690225c39eed"
            }
          },
          "metadata": {
            "application/vnd.jupyter.widget-view+json": {
              "colab": {
                "custom_widget_manager": {
                  "url": "https://ssl.gstatic.com/colaboratory-static/widgets/colab-cdn-widget-manager/2b70e893a8ba7c0f/manager.min.js"
                }
              }
            }
          }
        }
      ],
      "source": [
        "w4 = GraphWidget()\n",
        "w4.nodes = [\n",
        "    {\"id\": 0, \"properties\": {\"firstName\": \"Alpha\", \"label\": \"Person A\", \"age\": 31}},\n",
        "    {\"id\": \"one\", \"properties\": {\"firstName\": \"Bravo\", \"label\": \"Person B\", \"age\": 56}},\n",
        "    {\"id\": 2.0, \"properties\": {\"firstName\": \"Charlie\", \"label\": \"Person C\", \"age\": 27, \"has_hat\": False}},\n",
        "    {\"id\": True, \"properties\": {\"firstName\": \"Delta\", \"label\": \"Person D\", \"age\": 43, \"likes_pizza\": True}}\n",
        "]\n",
        "w4.edges = [\n",
        "    {\"id\": \"zero\", \"start\": 0, \"end\": \"one\", \"properties\": {\"since\": \"1992\", \"label\": \"knows\"}},\n",
        "    {\"id\": 1, \"start\": \"one\", \"end\": True, \"properties\": {\"label\": \"knows\", \"since\": \"1992\"}},\n",
        "    {\"id\": 2.0, \"start\": 2.0, \"end\": True, \"properties\": {\"label\": \"knows\", \"since\": \"1992\"}},\n",
        "    {\"id\": False, \"start\": 0, \"end\": 2.0, \"properties\": {\"label\": \"knows\", \"since\": 234}}\n",
        "]\n",
        "\n",
        "def custom_label_mapping_name(item: Dict):\n",
        "    return item['properties']['firstName']\n",
        "w4.set_node_label_mapping(custom_label_mapping_name)\n",
        "display(w4)"
      ]
    },
    {
      "cell_type": "markdown",
      "id": "a486b223-b89c-4cf2-8e26-4d907c890f2f",
      "metadata": {
        "id": "a486b223-b89c-4cf2-8e26-4d907c890f2f"
      },
      "source": [
        "For binding to properties, the api provides an easier syntax:"
      ]
    },
    {
      "cell_type": "code",
      "execution_count": 11,
      "id": "fd258b86-fe20-496f-a812-1718bc2ef1d3",
      "metadata": {
        "id": "fd258b86-fe20-496f-a812-1718bc2ef1d3",
        "outputId": "6d43cb0d-5467-443a-8058-3f6659141dac",
        "colab": {
          "base_uri": "https://localhost:8080/",
          "height": 36
        }
      },
      "outputs": [
        {
          "output_type": "execute_result",
          "data": {
            "text/plain": [
              "'firstName'"
            ],
            "application/vnd.google.colaboratory.intrinsic+json": {
              "type": "string"
            }
          },
          "metadata": {},
          "execution_count": 11
        }
      ],
      "source": [
        "w4.node_label_mapping = 'firstName'\n",
        "w4.get_node_label_mapping()"
      ]
    },
    {
      "cell_type": "markdown",
      "id": "34c290df-2d1a-4bab-a2f2-56b2a3c73377",
      "metadata": {
        "id": "34c290df-2d1a-4bab-a2f2-56b2a3c73377"
      },
      "source": [
        "Now the labels are bound to the ```'firstName'``` property, which produces the same output as before"
      ]
    },
    {
      "cell_type": "code",
      "execution_count": 12,
      "id": "a2f4b41d-ebae-4b97-8b87-4b80a76c412d",
      "metadata": {
        "id": "a2f4b41d-ebae-4b97-8b87-4b80a76c412d",
        "outputId": "cc11cc58-d117-4a6a-b4b7-959d4d7110b2",
        "colab": {
          "base_uri": "https://localhost:8080/",
          "height": 517,
          "referenced_widgets": [
            "45f4ef913fdf43d9ba2f690225c39eed",
            "840fb60cac5e4fd19fb80209f95c9eff"
          ]
        }
      },
      "outputs": [
        {
          "output_type": "display_data",
          "data": {
            "text/plain": [
              "GraphWidget(layout=Layout(height='500px', width='100%'))"
            ],
            "application/vnd.jupyter.widget-view+json": {
              "version_major": 2,
              "version_minor": 0,
              "model_id": "45f4ef913fdf43d9ba2f690225c39eed"
            }
          },
          "metadata": {
            "application/vnd.jupyter.widget-view+json": {
              "colab": {
                "custom_widget_manager": {
                  "url": "https://ssl.gstatic.com/colaboratory-static/widgets/colab-cdn-widget-manager/2b70e893a8ba7c0f/manager.min.js"
                }
              }
            }
          }
        }
      ],
      "source": [
        "display(w4)"
      ]
    }
  ],
  "metadata": {
    "kernelspec": {
      "display_name": "Python 3 (ipykernel)",
      "language": "python",
      "name": "python3"
    },
    "language_info": {
      "codemirror_mode": {
        "name": "ipython",
        "version": 3
      },
      "file_extension": ".py",
      "mimetype": "text/x-python",
      "name": "python",
      "nbconvert_exporter": "python",
      "pygments_lexer": "ipython3",
      "version": "3.11.3"
    },
    "colab": {
      "provenance": []
    },
    "widgets": {
      "application/vnd.jupyter.widget-state+json": {
        "c68b6f2e6dc641cd8973fdf0f85999a6": {
          "model_module": "yfiles-jupyter-graphs",
          "model_name": "GraphModel",
          "model_module_version": "^1.8.1",
          "state": {
            "_context_pane_mapping": [
              {
                "id": "Neighborhood",
                "title": "Neighborhood"
              },
              {
                "id": "Data",
                "title": "Data"
              },
              {
                "id": "Search",
                "title": "Search"
              },
              {
                "id": "About",
                "title": "About"
              }
            ],
            "_data_importer": "unknown",
            "_directed": false,
            "_dom_classes": [],
            "_edges": [
              {
                "id": "zero",
                "start": 0,
                "end": "one",
                "properties": {
                  "since": "1992",
                  "label": "knows"
                },
                "label": "knows",
                "color": "#15AFAC",
                "thickness_factor": 1,
                "directed": false
              },
              {
                "id": 1,
                "start": "one",
                "end": true,
                "properties": {
                  "label": "knows",
                  "since": "1992"
                },
                "label": "knows",
                "color": "#15AFAC",
                "thickness_factor": 1,
                "directed": false
              },
              {
                "id": 2,
                "start": 2,
                "end": true,
                "properties": {
                  "label": "knows",
                  "since": "1992"
                },
                "label": "knows",
                "color": "#15AFAC",
                "thickness_factor": 1,
                "directed": false
              },
              {
                "id": false,
                "start": 0,
                "end": 2,
                "properties": {
                  "label": "knows",
                  "since": 234
                },
                "label": "knows",
                "color": "#15AFAC",
                "thickness_factor": 1,
                "directed": false
              }
            ],
            "_graph_layout": {},
            "_highlight": [],
            "_license": {},
            "_model_module": "yfiles-jupyter-graphs",
            "_model_module_version": "^1.8.1",
            "_model_name": "GraphModel",
            "_neighborhood": {},
            "_nodes": [
              {
                "id": 0,
                "properties": {
                  "firstName": "Alpha",
                  "label": "Person A",
                  "age": 31
                },
                "color": "#15AFAC",
                "styles": {},
                "label": "Person A",
                "scale_factor": 0.8857142857142857,
                "type": "#15AFAC",
                "size": [
                  55,
                  55
                ],
                "position": [
                  0,
                  0
                ]
              },
              {
                "id": "one",
                "properties": {
                  "firstName": "Bravo",
                  "label": "Person B",
                  "age": 56
                },
                "color": "#15AFAC",
                "styles": {},
                "label": "Person B",
                "scale_factor": 1.6,
                "type": "#15AFAC",
                "size": [
                  55,
                  55
                ],
                "position": [
                  0,
                  0
                ]
              },
              {
                "id": 2,
                "properties": {
                  "firstName": "Charlie",
                  "label": "Person C",
                  "age": 27,
                  "has_hat": false
                },
                "color": "#15AFAC",
                "styles": {},
                "label": "Person C",
                "scale_factor": 0.7714285714285715,
                "type": "#15AFAC",
                "size": [
                  55,
                  55
                ],
                "position": [
                  0,
                  0
                ]
              },
              {
                "id": true,
                "properties": {
                  "firstName": "Delta",
                  "label": "Person D",
                  "age": 43,
                  "likes_pizza": true
                },
                "color": "#15AFAC",
                "styles": {},
                "label": "Person D",
                "scale_factor": 1.2285714285714286,
                "type": "#15AFAC",
                "size": [
                  55,
                  55
                ],
                "position": [
                  0,
                  0
                ]
              }
            ],
            "_overview": {
              "enabled": null,
              "overview_set": false
            },
            "_selected_graph": [
              [],
              []
            ],
            "_sidebar": {
              "enabled": false,
              "start_with": null
            },
            "_view_count": null,
            "_view_module": "yfiles-jupyter-graphs",
            "_view_module_version": "^1.8.1",
            "_view_name": "GraphView",
            "layout": "IPY_MODEL_dd8a7ec042694fadaeb55258bfd8e735",
            "tabbable": null,
            "tooltip": null
          }
        },
        "dd8a7ec042694fadaeb55258bfd8e735": {
          "model_module": "@jupyter-widgets/base",
          "model_name": "LayoutModel",
          "model_module_version": "2.0.0",
          "state": {
            "_model_module": "@jupyter-widgets/base",
            "_model_module_version": "2.0.0",
            "_model_name": "LayoutModel",
            "_view_count": null,
            "_view_module": "@jupyter-widgets/base",
            "_view_module_version": "2.0.0",
            "_view_name": "LayoutView",
            "align_content": null,
            "align_items": null,
            "align_self": null,
            "border_bottom": null,
            "border_left": null,
            "border_right": null,
            "border_top": null,
            "bottom": null,
            "display": null,
            "flex": null,
            "flex_flow": null,
            "grid_area": null,
            "grid_auto_columns": null,
            "grid_auto_flow": null,
            "grid_auto_rows": null,
            "grid_column": null,
            "grid_gap": null,
            "grid_row": null,
            "grid_template_areas": null,
            "grid_template_columns": null,
            "grid_template_rows": null,
            "height": "500px",
            "justify_content": null,
            "justify_items": null,
            "left": null,
            "margin": null,
            "max_height": null,
            "max_width": null,
            "min_height": null,
            "min_width": null,
            "object_fit": null,
            "object_position": null,
            "order": null,
            "overflow": null,
            "padding": null,
            "right": null,
            "top": null,
            "visibility": null,
            "width": "100%"
          }
        },
        "fdba3142cf444a89a6f0a4e299853f8a": {
          "model_module": "yfiles-jupyter-graphs",
          "model_name": "GraphModel",
          "model_module_version": "^1.8.1",
          "state": {
            "_context_pane_mapping": [
              {
                "id": "Neighborhood",
                "title": "Neighborhood"
              },
              {
                "id": "Data",
                "title": "Data"
              },
              {
                "id": "Search",
                "title": "Search"
              },
              {
                "id": "About",
                "title": "About"
              }
            ],
            "_data_importer": "unknown",
            "_directed": false,
            "_dom_classes": [],
            "_edges": [
              {
                "id": "zero",
                "start": 0,
                "end": "one",
                "properties": {
                  "since": "1992",
                  "label": "knows"
                },
                "label": "knows",
                "color": "#15AFAC",
                "thickness_factor": 1,
                "directed": false
              },
              {
                "id": 1,
                "start": "one",
                "end": true,
                "properties": {
                  "label": "knows",
                  "since": "1992"
                },
                "label": "knows",
                "color": "#15AFAC",
                "thickness_factor": 1,
                "directed": false
              },
              {
                "id": 2,
                "start": 2,
                "end": true,
                "properties": {
                  "label": "knows",
                  "since": "1992"
                },
                "label": "knows",
                "color": "#15AFAC",
                "thickness_factor": 1,
                "directed": false
              },
              {
                "id": false,
                "start": 0,
                "end": 2,
                "properties": {
                  "label": "knows",
                  "since": 234
                },
                "label": "knows",
                "color": "#15AFAC",
                "thickness_factor": 1,
                "directed": false
              }
            ],
            "_graph_layout": {},
            "_highlight": [],
            "_license": {},
            "_model_module": "yfiles-jupyter-graphs",
            "_model_module_version": "^1.8.1",
            "_model_name": "GraphModel",
            "_neighborhood": {},
            "_nodes": [
              {
                "id": 0,
                "properties": {
                  "firstName": "Alpha",
                  "label": "Person A",
                  "age": 31
                },
                "color": "#15AFAC",
                "styles": {},
                "label": "Person A",
                "scale_factor": 0.8857142857142857,
                "type": "#15AFAC",
                "size": [
                  55,
                  55
                ],
                "position": [
                  0,
                  0
                ]
              },
              {
                "id": "one",
                "properties": {
                  "firstName": "Bravo",
                  "label": "Person B",
                  "age": 56
                },
                "color": "#15AFAC",
                "styles": {},
                "label": "Person B",
                "scale_factor": 1.6,
                "type": "#15AFAC",
                "size": [
                  55,
                  55
                ],
                "position": [
                  0,
                  0
                ]
              },
              {
                "id": 2,
                "properties": {
                  "firstName": "Charlie",
                  "label": "Person C",
                  "age": 27,
                  "has_hat": false
                },
                "color": "#15AFAC",
                "styles": {},
                "label": "Person C",
                "scale_factor": 0.7714285714285715,
                "type": "#15AFAC",
                "size": [
                  55,
                  55
                ],
                "position": [
                  0,
                  0
                ]
              },
              {
                "id": true,
                "properties": {
                  "firstName": "Delta",
                  "label": "Person D",
                  "age": 43,
                  "likes_pizza": true
                },
                "color": "#15AFAC",
                "styles": {},
                "label": "Person D",
                "scale_factor": 1.2285714285714286,
                "type": "#15AFAC",
                "size": [
                  55,
                  55
                ],
                "position": [
                  0,
                  0
                ]
              }
            ],
            "_overview": {
              "enabled": null,
              "overview_set": false
            },
            "_selected_graph": [
              [],
              []
            ],
            "_sidebar": {
              "enabled": false,
              "start_with": null
            },
            "_view_count": null,
            "_view_module": "yfiles-jupyter-graphs",
            "_view_module_version": "^1.8.1",
            "_view_name": "GraphView",
            "layout": "IPY_MODEL_6c2c76dd92da45c5be113d0ca8ddcc15",
            "tabbable": null,
            "tooltip": null
          }
        },
        "6c2c76dd92da45c5be113d0ca8ddcc15": {
          "model_module": "@jupyter-widgets/base",
          "model_name": "LayoutModel",
          "model_module_version": "2.0.0",
          "state": {
            "_model_module": "@jupyter-widgets/base",
            "_model_module_version": "2.0.0",
            "_model_name": "LayoutModel",
            "_view_count": null,
            "_view_module": "@jupyter-widgets/base",
            "_view_module_version": "2.0.0",
            "_view_name": "LayoutView",
            "align_content": null,
            "align_items": null,
            "align_self": null,
            "border_bottom": null,
            "border_left": null,
            "border_right": null,
            "border_top": null,
            "bottom": null,
            "display": null,
            "flex": null,
            "flex_flow": null,
            "grid_area": null,
            "grid_auto_columns": null,
            "grid_auto_flow": null,
            "grid_auto_rows": null,
            "grid_column": null,
            "grid_gap": null,
            "grid_row": null,
            "grid_template_areas": null,
            "grid_template_columns": null,
            "grid_template_rows": null,
            "height": "500px",
            "justify_content": null,
            "justify_items": null,
            "left": null,
            "margin": null,
            "max_height": null,
            "max_width": null,
            "min_height": null,
            "min_width": null,
            "object_fit": null,
            "object_position": null,
            "order": null,
            "overflow": null,
            "padding": null,
            "right": null,
            "top": null,
            "visibility": null,
            "width": "100%"
          }
        },
        "b981d56da27e4c088430ea72c28f613e": {
          "model_module": "yfiles-jupyter-graphs",
          "model_name": "GraphModel",
          "model_module_version": "^1.8.1",
          "state": {
            "_context_pane_mapping": [
              {
                "id": "Neighborhood",
                "title": "Neighborhood"
              },
              {
                "id": "Data",
                "title": "Data"
              },
              {
                "id": "Search",
                "title": "Search"
              },
              {
                "id": "About",
                "title": "About"
              }
            ],
            "_data_importer": "unknown",
            "_directed": false,
            "_dom_classes": [],
            "_edges": [
              {
                "id": "zero",
                "start": 0,
                "end": "one",
                "properties": {
                  "since": "1992",
                  "label": "knows"
                },
                "label": "knows",
                "color": "#956518",
                "thickness_factor": 1,
                "directed": false
              },
              {
                "id": 1,
                "start": "one",
                "end": true,
                "properties": {
                  "label": "knows",
                  "since": "1992"
                },
                "label": "knows",
                "color": "#d13471",
                "thickness_factor": 1,
                "directed": false
              },
              {
                "id": 2,
                "start": 2,
                "end": true,
                "properties": {
                  "label": "knows",
                  "since": "1992"
                },
                "label": "knows",
                "color": "#3fa670",
                "thickness_factor": 1,
                "directed": false
              },
              {
                "id": false,
                "start": 0,
                "end": 2,
                "properties": {
                  "label": "knows",
                  "since": 234
                },
                "label": "knows",
                "color": "#8375ba",
                "thickness_factor": 1,
                "directed": false
              }
            ],
            "_graph_layout": {},
            "_highlight": [],
            "_license": {},
            "_model_module": "yfiles-jupyter-graphs",
            "_model_module_version": "^1.8.1",
            "_model_name": "GraphModel",
            "_neighborhood": {},
            "_nodes": [
              {
                "id": 0,
                "properties": {
                  "firstName": "Alpha",
                  "label": "Person A",
                  "age": 31
                },
                "color": "#f22441",
                "styles": {},
                "label": "Person A",
                "scale_factor": 1,
                "type": "#f22441",
                "size": [
                  55,
                  55
                ],
                "position": [
                  0,
                  0
                ]
              },
              {
                "id": "one",
                "properties": {
                  "firstName": "Bravo",
                  "label": "Person B",
                  "age": 56
                },
                "color": "#f22441",
                "styles": {},
                "label": "Person B",
                "scale_factor": 1,
                "type": "#f22441",
                "size": [
                  55,
                  55
                ],
                "position": [
                  0,
                  0
                ]
              },
              {
                "id": 2,
                "properties": {
                  "firstName": "Charlie",
                  "label": "Person C",
                  "age": 27,
                  "has_hat": false
                },
                "color": "#f22441",
                "styles": {},
                "label": "Person C",
                "scale_factor": 1,
                "type": "#f22441",
                "size": [
                  55,
                  55
                ],
                "position": [
                  0,
                  0
                ]
              },
              {
                "id": true,
                "properties": {
                  "firstName": "Delta",
                  "label": "Person D",
                  "age": 43,
                  "likes_pizza": true
                },
                "color": "#f22441",
                "styles": {},
                "label": "Person D",
                "scale_factor": 1,
                "type": "#f22441",
                "size": [
                  55,
                  55
                ],
                "position": [
                  0,
                  0
                ]
              }
            ],
            "_overview": {
              "enabled": null,
              "overview_set": false
            },
            "_selected_graph": [
              [],
              []
            ],
            "_sidebar": {
              "enabled": false,
              "start_with": null
            },
            "_view_count": null,
            "_view_module": "yfiles-jupyter-graphs",
            "_view_module_version": "^1.8.1",
            "_view_name": "GraphView",
            "layout": "IPY_MODEL_cf099fca2a3246b5a3ef0a6941d53580",
            "tabbable": null,
            "tooltip": null
          }
        },
        "cf099fca2a3246b5a3ef0a6941d53580": {
          "model_module": "@jupyter-widgets/base",
          "model_name": "LayoutModel",
          "model_module_version": "2.0.0",
          "state": {
            "_model_module": "@jupyter-widgets/base",
            "_model_module_version": "2.0.0",
            "_model_name": "LayoutModel",
            "_view_count": null,
            "_view_module": "@jupyter-widgets/base",
            "_view_module_version": "2.0.0",
            "_view_name": "LayoutView",
            "align_content": null,
            "align_items": null,
            "align_self": null,
            "border_bottom": null,
            "border_left": null,
            "border_right": null,
            "border_top": null,
            "bottom": null,
            "display": null,
            "flex": null,
            "flex_flow": null,
            "grid_area": null,
            "grid_auto_columns": null,
            "grid_auto_flow": null,
            "grid_auto_rows": null,
            "grid_column": null,
            "grid_gap": null,
            "grid_row": null,
            "grid_template_areas": null,
            "grid_template_columns": null,
            "grid_template_rows": null,
            "height": "500px",
            "justify_content": null,
            "justify_items": null,
            "left": null,
            "margin": null,
            "max_height": null,
            "max_width": null,
            "min_height": null,
            "min_width": null,
            "object_fit": null,
            "object_position": null,
            "order": null,
            "overflow": null,
            "padding": null,
            "right": null,
            "top": null,
            "visibility": null,
            "width": "100%"
          }
        },
        "45f4ef913fdf43d9ba2f690225c39eed": {
          "model_module": "yfiles-jupyter-graphs",
          "model_name": "GraphModel",
          "model_module_version": "^1.8.1",
          "state": {
            "_context_pane_mapping": [
              {
                "id": "Neighborhood",
                "title": "Neighborhood"
              },
              {
                "id": "Data",
                "title": "Data"
              },
              {
                "id": "Search",
                "title": "Search"
              },
              {
                "id": "About",
                "title": "About"
              }
            ],
            "_data_importer": "unknown",
            "_directed": false,
            "_dom_classes": [],
            "_edges": [
              {
                "id": "zero",
                "start": 0,
                "end": "one",
                "properties": {
                  "since": "1992",
                  "label": "knows"
                },
                "label": "knows",
                "color": "#15AFAC",
                "thickness_factor": 1,
                "directed": false
              },
              {
                "id": 1,
                "start": "one",
                "end": true,
                "properties": {
                  "label": "knows",
                  "since": "1992"
                },
                "label": "knows",
                "color": "#15AFAC",
                "thickness_factor": 1,
                "directed": false
              },
              {
                "id": 2,
                "start": 2,
                "end": true,
                "properties": {
                  "label": "knows",
                  "since": "1992"
                },
                "label": "knows",
                "color": "#15AFAC",
                "thickness_factor": 1,
                "directed": false
              },
              {
                "id": false,
                "start": 0,
                "end": 2,
                "properties": {
                  "label": "knows",
                  "since": 234
                },
                "label": "knows",
                "color": "#15AFAC",
                "thickness_factor": 1,
                "directed": false
              }
            ],
            "_graph_layout": {},
            "_highlight": [],
            "_license": {},
            "_model_module": "yfiles-jupyter-graphs",
            "_model_module_version": "^1.8.1",
            "_model_name": "GraphModel",
            "_neighborhood": {},
            "_nodes": [
              {
                "id": 0,
                "properties": {
                  "firstName": "Alpha",
                  "label": "Person A",
                  "age": 31
                },
                "color": "#15AFAC",
                "styles": {},
                "label": "Alpha",
                "scale_factor": 1,
                "type": "#15AFAC",
                "size": [
                  55,
                  55
                ],
                "position": [
                  0,
                  0
                ]
              },
              {
                "id": "one",
                "properties": {
                  "firstName": "Bravo",
                  "label": "Person B",
                  "age": 56
                },
                "color": "#15AFAC",
                "styles": {},
                "label": "Bravo",
                "scale_factor": 1,
                "type": "#15AFAC",
                "size": [
                  55,
                  55
                ],
                "position": [
                  0,
                  0
                ]
              },
              {
                "id": 2,
                "properties": {
                  "firstName": "Charlie",
                  "label": "Person C",
                  "age": 27,
                  "has_hat": false
                },
                "color": "#15AFAC",
                "styles": {},
                "label": "Charlie",
                "scale_factor": 1,
                "type": "#15AFAC",
                "size": [
                  55,
                  55
                ],
                "position": [
                  0,
                  0
                ]
              },
              {
                "id": true,
                "properties": {
                  "firstName": "Delta",
                  "label": "Person D",
                  "age": 43,
                  "likes_pizza": true
                },
                "color": "#15AFAC",
                "styles": {},
                "label": "Delta",
                "scale_factor": 1,
                "type": "#15AFAC",
                "size": [
                  55,
                  55
                ],
                "position": [
                  0,
                  0
                ]
              }
            ],
            "_overview": {
              "enabled": null,
              "overview_set": false
            },
            "_selected_graph": [
              [],
              []
            ],
            "_sidebar": {
              "enabled": false,
              "start_with": null
            },
            "_view_count": null,
            "_view_module": "yfiles-jupyter-graphs",
            "_view_module_version": "^1.8.1",
            "_view_name": "GraphView",
            "layout": "IPY_MODEL_840fb60cac5e4fd19fb80209f95c9eff",
            "tabbable": null,
            "tooltip": null
          }
        },
        "840fb60cac5e4fd19fb80209f95c9eff": {
          "model_module": "@jupyter-widgets/base",
          "model_name": "LayoutModel",
          "model_module_version": "2.0.0",
          "state": {
            "_model_module": "@jupyter-widgets/base",
            "_model_module_version": "2.0.0",
            "_model_name": "LayoutModel",
            "_view_count": null,
            "_view_module": "@jupyter-widgets/base",
            "_view_module_version": "2.0.0",
            "_view_name": "LayoutView",
            "align_content": null,
            "align_items": null,
            "align_self": null,
            "border_bottom": null,
            "border_left": null,
            "border_right": null,
            "border_top": null,
            "bottom": null,
            "display": null,
            "flex": null,
            "flex_flow": null,
            "grid_area": null,
            "grid_auto_columns": null,
            "grid_auto_flow": null,
            "grid_auto_rows": null,
            "grid_column": null,
            "grid_gap": null,
            "grid_row": null,
            "grid_template_areas": null,
            "grid_template_columns": null,
            "grid_template_rows": null,
            "height": "500px",
            "justify_content": null,
            "justify_items": null,
            "left": null,
            "margin": null,
            "max_height": null,
            "max_width": null,
            "min_height": null,
            "min_width": null,
            "object_fit": null,
            "object_position": null,
            "order": null,
            "overflow": null,
            "padding": null,
            "right": null,
            "top": null,
            "visibility": null,
            "width": "100%"
          }
        },
        "state": {}
      }
    }
  },
  "nbformat": 4,
  "nbformat_minor": 5
}