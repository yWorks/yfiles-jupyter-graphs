{
  "cells": [
    {
      "cell_type": "markdown",
      "id": "3f6f41b8-4449-45bb-8fec-72598dc80e18",
      "metadata": {
        "id": "3f6f41b8-4449-45bb-8fec-72598dc80e18"
      },
      "source": [
        "# Visualizing Neo4j graphs in yFiles Graphs for Jupyter <a target=\"_blank\" href=\"https://colab.research.google.com/github/yWorks/yfiles-jupyter-graphs/blob/main/examples/16_neo4j_import.ipynb\"><img src=\"https://colab.research.google.com/assets/colab-badge.svg\" alt=\"Open In Colab\"/></a>"
      ]
    },
    {
      "cell_type": "markdown",
      "id": "f04acd58-3dcb-454a-9a92-79e59aab3721",
      "metadata": {
        "id": "f04acd58-3dcb-454a-9a92-79e59aab3721"
      },
      "source": [
        "## Note `yfiles-jupyter-graphs-for-neo4j`\n",
        "\n",
        "We have built a specifically tailored extension for working with Neo4j databases: [yfiles-jupyter-graphs-for-neo4j](https://github.com/yWorks/yfiles-jupyter-graphs-for-neo4j/) on top of the `yfiles-jupyter-graphs` widget. This extension provides an easier Python interface for the driver and allows direct configuration of data mappings depending on the label or type of the node or relationship."
      ]
    },
    {
      "cell_type": "markdown",
      "id": "95c4bb2b-5952-43b5-8f95-6683a2d05309",
      "metadata": {
        "tags": [],
        "id": "95c4bb2b-5952-43b5-8f95-6683a2d05309"
      },
      "source": [
        "## Using `yfiles-jupyter-graphs`\n",
        "\n",
        "Before using the graph widget, install all necessary packages."
      ]
    },
    {
      "cell_type": "code",
      "execution_count": 1,
      "id": "9bbc5e34-b83a-48eb-b918-f08bbd149275",
      "metadata": {
        "id": "9bbc5e34-b83a-48eb-b918-f08bbd149275",
        "outputId": "7a132f2e-8a71-4b90-81ef-a15aa943f044",
        "colab": {
          "base_uri": "https://localhost:8080/"
        }
      },
      "outputs": [
        {
          "output_type": "stream",
          "name": "stdout",
          "text": [
            "\u001b[2K   \u001b[90m\u2501\u2501\u2501\u2501\u2501\u2501\u2501\u2501\u2501\u2501\u2501\u2501\u2501\u2501\u2501\u2501\u2501\u2501\u2501\u2501\u2501\u2501\u2501\u2501\u2501\u2501\u2501\u2501\u2501\u2501\u2501\u2501\u2501\u2501\u2501\u2501\u2501\u2501\u2501\u2501\u001b[0m \u001b[32m15.6/15.6 MB\u001b[0m \u001b[31m34.0 MB/s\u001b[0m eta \u001b[36m0:00:00\u001b[0m\n",
            "\u001b[2K   \u001b[90m\u2501\u2501\u2501\u2501\u2501\u2501\u2501\u2501\u2501\u2501\u2501\u2501\u2501\u2501\u2501\u2501\u2501\u2501\u2501\u2501\u2501\u2501\u2501\u2501\u2501\u2501\u2501\u2501\u2501\u2501\u2501\u2501\u2501\u2501\u2501\u2501\u2501\u2501\u2501\u2501\u001b[0m \u001b[32m139.8/139.8 kB\u001b[0m \u001b[31m5.8 MB/s\u001b[0m eta \u001b[36m0:00:00\u001b[0m\n",
            "\u001b[2K   \u001b[90m\u2501\u2501\u2501\u2501\u2501\u2501\u2501\u2501\u2501\u2501\u2501\u2501\u2501\u2501\u2501\u2501\u2501\u2501\u2501\u2501\u2501\u2501\u2501\u2501\u2501\u2501\u2501\u2501\u2501\u2501\u2501\u2501\u2501\u2501\u2501\u2501\u2501\u2501\u2501\u2501\u001b[0m \u001b[32m2.3/2.3 MB\u001b[0m \u001b[31m27.7 MB/s\u001b[0m eta \u001b[36m0:00:00\u001b[0m\n",
            "\u001b[2K   \u001b[90m\u2501\u2501\u2501\u2501\u2501\u2501\u2501\u2501\u2501\u2501\u2501\u2501\u2501\u2501\u2501\u2501\u2501\u2501\u2501\u2501\u2501\u2501\u2501\u2501\u2501\u2501\u2501\u2501\u2501\u2501\u2501\u2501\u2501\u2501\u2501\u2501\u2501\u2501\u2501\u2501\u001b[0m \u001b[32m1.6/1.6 MB\u001b[0m \u001b[31m27.2 MB/s\u001b[0m eta \u001b[36m0:00:00\u001b[0m\n",
            "\u001b[2K   \u001b[90m\u2501\u2501\u2501\u2501\u2501\u2501\u2501\u2501\u2501\u2501\u2501\u2501\u2501\u2501\u2501\u2501\u2501\u2501\u2501\u2501\u2501\u2501\u2501\u2501\u2501\u2501\u2501\u2501\u2501\u2501\u2501\u2501\u2501\u2501\u2501\u2501\u2501\u2501\u2501\u2501\u001b[0m \u001b[32m301.7/301.7 kB\u001b[0m \u001b[31m14.7 MB/s\u001b[0m eta \u001b[36m0:00:00\u001b[0m\n",
            "\u001b[?25h"
          ]
        }
      ],
      "source": [
        "%pip install yfiles_jupyter_graphs --quiet\n",
        "%pip install neo4j --quiet\n",
        "from neo4j import GraphDatabase\n",
        "from yfiles_jupyter_graphs import GraphWidget"
      ]
    },
    {
      "cell_type": "markdown",
      "id": "9b50bd83-a689-46d5-ad25-b8afde5bd45f",
      "metadata": {
        "id": "9b50bd83-a689-46d5-ad25-b8afde5bd45f"
      },
      "source": [
        "You can also open this notebook in Google Colab when Google Colab's custom widget manager is enabled:"
      ]
    },
    {
      "cell_type": "code",
      "execution_count": 2,
      "id": "84373484-d7f0-4c6a-bdb6-40ebcb66ca0c",
      "metadata": {
        "id": "84373484-d7f0-4c6a-bdb6-40ebcb66ca0c"
      },
      "outputs": [],
      "source": [
        "try:\n",
        "  import google.colab\n",
        "  from google.colab import output\n",
        "  output.enable_custom_widget_manager()\n",
        "except:\n",
        "  pass"
      ]
    },
    {
      "cell_type": "markdown",
      "id": "8884af78-e001-45fd-8cf5-28479946415d",
      "metadata": {
        "id": "8884af78-e001-45fd-8cf5-28479946415d"
      },
      "source": [
        "<a target=\"_blank\" href=\"https://colab.research.google.com/github/yWorks/yfiles-jupyter-graphs/blob/main/examples/16_neo4j_import.ipynb\"><img src=\"https://colab.research.google.com/assets/colab-badge.svg\" alt=\"Open In Colab\"/></a>"
      ]
    },
    {
      "cell_type": "markdown",
      "id": "9df19056-475f-4615-8c81-3354c6f3fc8f",
      "metadata": {
        "id": "9df19056-475f-4615-8c81-3354c6f3fc8f"
      },
      "source": [
        "## How to import a graph\n",
        "- either import the graph directly when initilizing: ```GraphWidget(graph=your_graph)```\n",
        "- or use the ```w.import_graph(your_graph)``` function, if you already initilized a Widget called ```w```"
      ]
    },
    {
      "cell_type": "markdown",
      "id": "181df1a8-125d-4561-b682-1f833b1195f3",
      "metadata": {
        "id": "181df1a8-125d-4561-b682-1f833b1195f3"
      },
      "source": [
        "### Helper function to directly show a Cypher query as graph"
      ]
    },
    {
      "cell_type": "code",
      "execution_count": 3,
      "id": "e604df90-9727-4bcf-9e67-b7a3f469ec11",
      "metadata": {
        "id": "e604df90-9727-4bcf-9e67-b7a3f469ec11"
      },
      "outputs": [],
      "source": [
        "NEO4J_URI      = \"neo4j+ssc://demo.neo4jlabs.com\"\n",
        "NEO4J_USERNAME = \"movies\"\n",
        "NEO4J_PASSWORD = \"movies\"\n",
        "\n",
        "# create a neo4j session to run queries\n",
        "driver = GraphDatabase.driver(uri = NEO4J_URI, auth = (NEO4J_USERNAME, NEO4J_PASSWORD), database = 'movies')\n",
        "session = driver.session()\n",
        "\n",
        "# directly show the graph resulting from the given Cypher query\n",
        "def showGraph(cypher: str):\n",
        "    widget = GraphWidget(graph = session.run(cypher).graph())\n",
        "    display(widget)\n",
        "    return widget"
      ]
    },
    {
      "cell_type": "markdown",
      "id": "d8b50c96-0e49-4182-a2b8-19abd0f21557",
      "metadata": {
        "id": "d8b50c96-0e49-4182-a2b8-19abd0f21557"
      },
      "source": [
        "### Notes about Neo4j importer\n",
        "- By default, the widget displays one of the following properties in descending priority as item text: `['name', 'title', 'label', 'description', 'caption', 'text']`. If no such property is available, the node's label or relationship's type is displayed. The visualized label can be adjusted by setting a different label-mapping, e.g., see [02_label_mapping](./02_label_mapping.ipynb).\n",
        "- Node labels are combined with ':' and added as `label` property on the item\n",
        "- Node and relationship properties are available on the graph item's `properties`.\n",
        "- Each node label or relationship type is assigned a specific color."
      ]
    },
    {
      "cell_type": "markdown",
      "id": "93400164-96cb-4458-acad-3050d5345952",
      "metadata": {
        "id": "93400164-96cb-4458-acad-3050d5345952"
      },
      "source": [
        "## Use Cypher to display a graph"
      ]
    },
    {
      "cell_type": "code",
      "execution_count": 4,
      "id": "cfcc7b8e-d0b9-438d-b608-e9161330dc2e",
      "metadata": {
        "id": "cfcc7b8e-d0b9-438d-b608-e9161330dc2e",
        "outputId": "729cb5de-5c45-48aa-e510-61056e6f696f",
        "colab": {
          "base_uri": "https://localhost:8080/",
          "height": 627,
          "referenced_widgets": [
            "cf1b89d39f144accad692b7bb4d86909",
            "0fe4a1a960fc4d6b8dcf703a125bbfa9"
          ]
        }
      },
      "outputs": [
        {
          "output_type": "display_data",
          "data": {
            "text/plain": [
              "GraphWidget(layout=Layout(height='610px', width='100%'))"
            ],
            "application/vnd.jupyter.widget-view+json": {
              "version_major": 2,
              "version_minor": 0,
              "model_id": "cf1b89d39f144accad692b7bb4d86909"
            }
          },
          "metadata": {
            "application/vnd.jupyter.widget-view+json": {
              "colab": {
                "custom_widget_manager": {
                  "url": "https://ssl.gstatic.com/colaboratory-static/widgets/colab-cdn-widget-manager/2b70e893a8ba7c0f/manager.min.js"
                }
              }
            }
          }
        }
      ],
      "source": [
        "w = showGraph(\"MATCH (s)-[r]->(t) RETURN s,r,t LIMIT 20\")"
      ]
    },
    {
      "cell_type": "markdown",
      "id": "31804019-3a47-49f2-950d-5b2f4b57b224",
      "metadata": {
        "id": "31804019-3a47-49f2-950d-5b2f4b57b224"
      },
      "source": [
        "# Map data to visualization\n",
        "\n",
        "The yFiles Graphs for Jupyter widget provides different mapping function with which we can display node and edge properties in the diagram.\n",
        "\n",
        "To access the 'properties' data, you can use the data key in squared brackets: ```['properties']['key'] ```\n",
        "\n",
        "Possible node keys in this example are 'born', 'name', 'tagline', 'votes', 'title', 'released' and 'label'\n",
        "\n",
        "To visualize all properties, we remove any additional node data except the properties"
      ]
    },
    {
      "cell_type": "code",
      "execution_count": 5,
      "id": "4e9a1739-4f66-4f30-8b0c-c2f9582be562",
      "metadata": {
        "id": "4e9a1739-4f66-4f30-8b0c-c2f9582be562",
        "outputId": "9a6bea7e-37f2-40bf-faf1-0f81f3d12ebe",
        "colab": {
          "base_uri": "https://localhost:8080/"
        }
      },
      "outputs": [
        {
          "output_type": "stream",
          "name": "stdout",
          "text": [
            "{'born': 1964, 'name': 'Keanu Reeves', 'label': 'Person'}\n",
            "{'tagline': 'Welcome to the Real World', 'votes': 6180, 'title': 'The Matrix', 'released': 1999, 'label': 'Movie'}\n",
            "{'born': 1967, 'name': 'Carrie-Anne Moss', 'label': 'Person'}\n",
            "{'born': 1961, 'name': 'Laurence Fishburne', 'label': 'Person'}\n",
            "{'born': 1960, 'name': 'Hugo Weaving', 'label': 'Person'}\n",
            "{'born': 1967, 'name': 'Lilly Wachowski', 'label': 'Person'}\n",
            "{'born': 1965, 'name': 'Lana Wachowski', 'label': 'Person'}\n",
            "{'born': 1952, 'name': 'Joel Silver', 'label': 'Person'}\n",
            "{'born': 1978, 'name': 'Emil Eifrem', 'label': 'Person'}\n",
            "{'tagline': 'Free your mind', 'votes': 1791, 'title': 'The Matrix Reloaded', 'released': 2003, 'label': 'Movie'}\n",
            "{'tagline': 'Everything that has a beginning has an end', 'votes': 1496, 'title': 'The Matrix Revolutions', 'released': 2003, 'label': 'Movie'}\n",
            "\n"
          ]
        }
      ],
      "source": [
        "properties = [node['properties'] for node in w.nodes]\n",
        "formattedProperties = ''.join(f\"{node}\\n\" for node in properties)\n",
        "print(formattedProperties)"
      ]
    },
    {
      "cell_type": "code",
      "execution_count": 6,
      "id": "ac965084-deff-4721-9afe-c7319f1f5579",
      "metadata": {
        "id": "ac965084-deff-4721-9afe-c7319f1f5579",
        "outputId": "0d6db78e-22e9-4edf-c45c-4a14f92b5e65",
        "colab": {
          "base_uri": "https://localhost:8080/",
          "height": 627,
          "referenced_widgets": [
            "f62fa666f00646bd93ccd0ac95c6684a",
            "bd7a10b4e8624da18cdfa72f699acbac"
          ]
        }
      },
      "outputs": [
        {
          "output_type": "display_data",
          "data": {
            "text/plain": [
              "GraphWidget(layout=Layout(height='610px', width='100%'))"
            ],
            "application/vnd.jupyter.widget-view+json": {
              "version_major": 2,
              "version_minor": 0,
              "model_id": "f62fa666f00646bd93ccd0ac95c6684a"
            }
          },
          "metadata": {
            "application/vnd.jupyter.widget-view+json": {
              "colab": {
                "custom_widget_manager": {
                  "url": "https://ssl.gstatic.com/colaboratory-static/widgets/colab-cdn-widget-manager/2b70e893a8ba7c0f/manager.min.js"
                }
              }
            }
          }
        }
      ],
      "source": [
        "w2 = GraphWidget(graph = session.run(\"MATCH (s)-[r]->(t) RETURN s,r,t LIMIT 20\").graph())\n",
        "\n",
        "def custom_node_label_mapping(index, node):\n",
        "    \"\"\"let the label be the name or the title\"\"\"\n",
        "    properties = node.get('properties', {})\n",
        "    return {\n",
        "        'text': properties.get('name', 'no name') + (\"\\n ({})\".format(properties.get('label', ''))),\n",
        "        'textAlignment': 'center'\n",
        "    }\n",
        "w2.node_label_mapping = custom_node_label_mapping\n",
        "\n",
        "def custom_relationship_label_mapping(index, node):\n",
        "    \"\"\"let the label be the role\"\"\"\n",
        "    properties = node.get('properties', {})\n",
        "    return {\n",
        "        'text': properties.get('roles', ['no role'])[0] + (\"\\n ({})\".format(properties.get('label', ''))),\n",
        "        'fontSize': 8,\n",
        "        'textAlignment': 'center'\n",
        "    }\n",
        "w2.edge_label_mapping = custom_relationship_label_mapping\n",
        "\n",
        "w2.hierarchic_layout()\n",
        "display(w2)"
      ]
    },
    {
      "cell_type": "markdown",
      "id": "093939d9-a9bd-4d16-8a44-60c5356b9ef2",
      "metadata": {
        "id": "093939d9-a9bd-4d16-8a44-60c5356b9ef2"
      },
      "source": [
        "An alternative method for changing the names and titles to labels, utilizing the \"title\" and \"name\" properties stored in the node properties:"
      ]
    },
    {
      "cell_type": "code",
      "execution_count": 7,
      "id": "b2ccec0c-0e29-490c-941a-458baa03bc5e",
      "metadata": {
        "id": "b2ccec0c-0e29-490c-941a-458baa03bc5e",
        "outputId": "50612a09-f114-41ba-9032-d73e477e5545",
        "colab": {
          "base_uri": "https://localhost:8080/",
          "height": 627,
          "referenced_widgets": [
            "4ee33f8517174229a067f1a7c3157fe7",
            "7c9f419c30244cd383de357de2c063b4"
          ]
        }
      },
      "outputs": [
        {
          "output_type": "display_data",
          "data": {
            "text/plain": [
              "GraphWidget(layout=Layout(height='610px', width='100%'))"
            ],
            "application/vnd.jupyter.widget-view+json": {
              "version_major": 2,
              "version_minor": 0,
              "model_id": "4ee33f8517174229a067f1a7c3157fe7"
            }
          },
          "metadata": {
            "application/vnd.jupyter.widget-view+json": {
              "colab": {
                "custom_widget_manager": {
                  "url": "https://ssl.gstatic.com/colaboratory-static/widgets/colab-cdn-widget-manager/2b70e893a8ba7c0f/manager.min.js"
                }
              }
            }
          }
        }
      ],
      "source": [
        "w3 = GraphWidget(graph = session.run(\"MATCH (s)-[r]->(t) RETURN s,r,t LIMIT 20\").graph())\n",
        "\n",
        "w3.node_label_mapping = lambda node: node['properties']['name'] if 'name' in node['properties'] else node['properties']['title']\n",
        "\n",
        "w3.hierarchic_layout()\n",
        "\n",
        "w3.set_heat_mapping(lambda element: element['properties']['votes']/ 7000 if 'votes' in element['properties'] else 0)\n",
        "\n",
        "display(w3)"
      ]
    }
  ],
  "metadata": {
    "kernelspec": {
      "display_name": "Python 3 (ipykernel)",
      "language": "python",
      "name": "python3"
    },
    "language_info": {
      "codemirror_mode": {
        "name": "ipython",
        "version": 3
      },
      "file_extension": ".py",
      "mimetype": "text/x-python",
      "name": "python",
      "nbconvert_exporter": "python",
      "pygments_lexer": "ipython3",
      "version": "3.11.3"
    },
    "colab": {
      "provenance": []
    },
    "widgets": {
      "application/vnd.jupyter.widget-state+json": {
        "cf1b89d39f144accad692b7bb4d86909": {
          "model_module": "yfiles-jupyter-graphs",
          "model_name": "GraphModel",
          "model_module_version": "^1.10.1",
          "state": {
            "_context_pane_mapping": [
              {
                "id": "Neighborhood",
                "title": "Neighborhood"
              },
              {
                "id": "Data",
                "title": "Data"
              },
              {
                "id": "Search",
                "title": "Search"
              },
              {
                "id": "About",
                "title": "About"
              }
            ],
            "_data_importer": "neo4j",
            "_directed": true,
            "_dom_classes": [],
            "_edges": [
              {
                "id": 0,
                "start": 1,
                "end": 0,
                "properties": {
                  "roles": [
                    "Neo"
                  ],
                  "label": "ACTED_IN"
                },
                "color": "#F44336",
                "thickness_factor": 1,
                "directed": true,
                "styles": {},
                "label": "ACTED_IN"
              },
              {
                "id": 1,
                "start": 2,
                "end": 0,
                "properties": {
                  "roles": [
                    "Trinity"
                  ],
                  "label": "ACTED_IN"
                },
                "color": "#F44336",
                "thickness_factor": 1,
                "directed": true,
                "styles": {},
                "label": "ACTED_IN"
              },
              {
                "id": 2,
                "start": 3,
                "end": 0,
                "properties": {
                  "roles": [
                    "Morpheus"
                  ],
                  "label": "ACTED_IN"
                },
                "color": "#F44336",
                "thickness_factor": 1,
                "directed": true,
                "styles": {},
                "label": "ACTED_IN"
              },
              {
                "id": 3,
                "start": 4,
                "end": 0,
                "properties": {
                  "roles": [
                    "Agent Smith"
                  ],
                  "label": "ACTED_IN"
                },
                "color": "#F44336",
                "thickness_factor": 1,
                "directed": true,
                "styles": {},
                "label": "ACTED_IN"
              },
              {
                "id": 4,
                "start": 5,
                "end": 0,
                "properties": {
                  "label": "DIRECTED"
                },
                "color": "#607D8B",
                "thickness_factor": 1,
                "directed": true,
                "styles": {},
                "label": "DIRECTED"
              },
              {
                "id": 5,
                "start": 6,
                "end": 0,
                "properties": {
                  "label": "DIRECTED"
                },
                "color": "#607D8B",
                "thickness_factor": 1,
                "directed": true,
                "styles": {},
                "label": "DIRECTED"
              },
              {
                "id": 6,
                "start": 7,
                "end": 0,
                "properties": {
                  "label": "PRODUCED"
                },
                "color": "#673AB7",
                "thickness_factor": 1,
                "directed": true,
                "styles": {},
                "label": "PRODUCED"
              },
              {
                "id": 7,
                "start": 8,
                "end": 0,
                "properties": {
                  "roles": [
                    "Emil"
                  ],
                  "label": "ACTED_IN"
                },
                "color": "#F44336",
                "thickness_factor": 1,
                "directed": true,
                "styles": {},
                "label": "ACTED_IN"
              },
              {
                "id": 8,
                "start": 1,
                "end": 9,
                "properties": {
                  "roles": [
                    "Neo"
                  ],
                  "label": "ACTED_IN"
                },
                "color": "#F44336",
                "thickness_factor": 1,
                "directed": true,
                "styles": {},
                "label": "ACTED_IN"
              },
              {
                "id": 9,
                "start": 2,
                "end": 9,
                "properties": {
                  "roles": [
                    "Trinity"
                  ],
                  "label": "ACTED_IN"
                },
                "color": "#F44336",
                "thickness_factor": 1,
                "directed": true,
                "styles": {},
                "label": "ACTED_IN"
              },
              {
                "id": 10,
                "start": 3,
                "end": 9,
                "properties": {
                  "roles": [
                    "Morpheus"
                  ],
                  "label": "ACTED_IN"
                },
                "color": "#F44336",
                "thickness_factor": 1,
                "directed": true,
                "styles": {},
                "label": "ACTED_IN"
              },
              {
                "id": 11,
                "start": 4,
                "end": 9,
                "properties": {
                  "roles": [
                    "Agent Smith"
                  ],
                  "label": "ACTED_IN"
                },
                "color": "#F44336",
                "thickness_factor": 1,
                "directed": true,
                "styles": {},
                "label": "ACTED_IN"
              },
              {
                "id": 12,
                "start": 5,
                "end": 9,
                "properties": {
                  "label": "DIRECTED"
                },
                "color": "#607D8B",
                "thickness_factor": 1,
                "directed": true,
                "styles": {},
                "label": "DIRECTED"
              },
              {
                "id": 13,
                "start": 6,
                "end": 9,
                "properties": {
                  "label": "DIRECTED"
                },
                "color": "#607D8B",
                "thickness_factor": 1,
                "directed": true,
                "styles": {},
                "label": "DIRECTED"
              },
              {
                "id": 14,
                "start": 7,
                "end": 9,
                "properties": {
                  "label": "PRODUCED"
                },
                "color": "#673AB7",
                "thickness_factor": 1,
                "directed": true,
                "styles": {},
                "label": "PRODUCED"
              },
              {
                "id": 15,
                "start": 1,
                "end": 10,
                "properties": {
                  "roles": [
                    "Neo"
                  ],
                  "label": "ACTED_IN"
                },
                "color": "#F44336",
                "thickness_factor": 1,
                "directed": true,
                "styles": {},
                "label": "ACTED_IN"
              },
              {
                "id": 16,
                "start": 2,
                "end": 10,
                "properties": {
                  "roles": [
                    "Trinity"
                  ],
                  "label": "ACTED_IN"
                },
                "color": "#F44336",
                "thickness_factor": 1,
                "directed": true,
                "styles": {},
                "label": "ACTED_IN"
              },
              {
                "id": 17,
                "start": 3,
                "end": 10,
                "properties": {
                  "roles": [
                    "Morpheus"
                  ],
                  "label": "ACTED_IN"
                },
                "color": "#F44336",
                "thickness_factor": 1,
                "directed": true,
                "styles": {},
                "label": "ACTED_IN"
              },
              {
                "id": 18,
                "start": 4,
                "end": 10,
                "properties": {
                  "roles": [
                    "Agent Smith"
                  ],
                  "label": "ACTED_IN"
                },
                "color": "#F44336",
                "thickness_factor": 1,
                "directed": true,
                "styles": {},
                "label": "ACTED_IN"
              },
              {
                "id": 19,
                "start": 5,
                "end": 10,
                "properties": {
                  "label": "DIRECTED"
                },
                "color": "#607D8B",
                "thickness_factor": 1,
                "directed": true,
                "styles": {},
                "label": "DIRECTED"
              }
            ],
            "_graph_layout": {},
            "_highlight": [],
            "_license": {},
            "_model_module": "yfiles-jupyter-graphs",
            "_model_module_version": "^1.10.1",
            "_model_name": "GraphModel",
            "_neighborhood": {},
            "_nodes": [
              {
                "id": 1,
                "properties": {
                  "born": 1964,
                  "name": "Keanu Reeves",
                  "label": "Person"
                },
                "color": "#2196F3",
                "styles": {},
                "label": "Keanu Reeves",
                "scale_factor": 1,
                "type": "#2196F3",
                "size": [
                  55,
                  55
                ],
                "position": [
                  0,
                  0
                ]
              },
              {
                "id": 0,
                "properties": {
                  "tagline": "Welcome to the Real World",
                  "votes": 6180,
                  "title": "The Matrix",
                  "released": 1999,
                  "label": "Movie"
                },
                "color": "#4CAF50",
                "styles": {},
                "label": "The Matrix",
                "scale_factor": 1,
                "type": "#4CAF50",
                "size": [
                  55,
                  55
                ],
                "position": [
                  0,
                  0
                ]
              },
              {
                "id": 2,
                "properties": {
                  "born": 1967,
                  "name": "Carrie-Anne Moss",
                  "label": "Person"
                },
                "color": "#2196F3",
                "styles": {},
                "label": "Carrie-Anne Moss",
                "scale_factor": 1,
                "type": "#2196F3",
                "size": [
                  55,
                  55
                ],
                "position": [
                  0,
                  0
                ]
              },
              {
                "id": 3,
                "properties": {
                  "born": 1961,
                  "name": "Laurence Fishburne",
                  "label": "Person"
                },
                "color": "#2196F3",
                "styles": {},
                "label": "Laurence Fishburne",
                "scale_factor": 1,
                "type": "#2196F3",
                "size": [
                  55,
                  55
                ],
                "position": [
                  0,
                  0
                ]
              },
              {
                "id": 4,
                "properties": {
                  "born": 1960,
                  "name": "Hugo Weaving",
                  "label": "Person"
                },
                "color": "#2196F3",
                "styles": {},
                "label": "Hugo Weaving",
                "scale_factor": 1,
                "type": "#2196F3",
                "size": [
                  55,
                  55
                ],
                "position": [
                  0,
                  0
                ]
              },
              {
                "id": 5,
                "properties": {
                  "born": 1967,
                  "name": "Lilly Wachowski",
                  "label": "Person"
                },
                "color": "#2196F3",
                "styles": {},
                "label": "Lilly Wachowski",
                "scale_factor": 1,
                "type": "#2196F3",
                "size": [
                  55,
                  55
                ],
                "position": [
                  0,
                  0
                ]
              },
              {
                "id": 6,
                "properties": {
                  "born": 1965,
                  "name": "Lana Wachowski",
                  "label": "Person"
                },
                "color": "#2196F3",
                "styles": {},
                "label": "Lana Wachowski",
                "scale_factor": 1,
                "type": "#2196F3",
                "size": [
                  55,
                  55
                ],
                "position": [
                  0,
                  0
                ]
              },
              {
                "id": 7,
                "properties": {
                  "born": 1952,
                  "name": "Joel Silver",
                  "label": "Person"
                },
                "color": "#2196F3",
                "styles": {},
                "label": "Joel Silver",
                "scale_factor": 1,
                "type": "#2196F3",
                "size": [
                  55,
                  55
                ],
                "position": [
                  0,
                  0
                ]
              },
              {
                "id": 8,
                "properties": {
                  "born": 1978,
                  "name": "Emil Eifrem",
                  "label": "Person"
                },
                "color": "#2196F3",
                "styles": {},
                "label": "Emil Eifrem",
                "scale_factor": 1,
                "type": "#2196F3",
                "size": [
                  55,
                  55
                ],
                "position": [
                  0,
                  0
                ]
              },
              {
                "id": 9,
                "properties": {
                  "tagline": "Free your mind",
                  "votes": 1791,
                  "title": "The Matrix Reloaded",
                  "released": 2003,
                  "label": "Movie"
                },
                "color": "#4CAF50",
                "styles": {},
                "label": "The Matrix Reloaded",
                "scale_factor": 1,
                "type": "#4CAF50",
                "size": [
                  55,
                  55
                ],
                "position": [
                  0,
                  0
                ]
              },
              {
                "id": 10,
                "properties": {
                  "tagline": "Everything that has a beginning has an end",
                  "votes": 1496,
                  "title": "The Matrix Revolutions",
                  "released": 2003,
                  "label": "Movie"
                },
                "color": "#4CAF50",
                "styles": {},
                "label": "The Matrix Revolutions",
                "scale_factor": 1,
                "type": "#4CAF50",
                "size": [
                  55,
                  55
                ],
                "position": [
                  0,
                  0
                ]
              }
            ],
            "_overview": {
              "enabled": null,
              "overview_set": false
            },
            "_selected_graph": [
              [],
              []
            ],
            "_sidebar": {
              "enabled": false,
              "start_with": null
            },
            "_view_count": null,
            "_view_module": "yfiles-jupyter-graphs",
            "_view_module_version": "^1.10.1",
            "_view_name": "GraphView",
            "layout": "IPY_MODEL_0fe4a1a960fc4d6b8dcf703a125bbfa9",
            "tabbable": null,
            "tooltip": null
          }
        },
        "0fe4a1a960fc4d6b8dcf703a125bbfa9": {
          "model_module": "@jupyter-widgets/base",
          "model_name": "LayoutModel",
          "model_module_version": "2.0.0",
          "state": {
            "_model_module": "@jupyter-widgets/base",
            "_model_module_version": "2.0.0",
            "_model_name": "LayoutModel",
            "_view_count": null,
            "_view_module": "@jupyter-widgets/base",
            "_view_module_version": "2.0.0",
            "_view_name": "LayoutView",
            "align_content": null,
            "align_items": null,
            "align_self": null,
            "border_bottom": null,
            "border_left": null,
            "border_right": null,
            "border_top": null,
            "bottom": null,
            "display": null,
            "flex": null,
            "flex_flow": null,
            "grid_area": null,
            "grid_auto_columns": null,
            "grid_auto_flow": null,
            "grid_auto_rows": null,
            "grid_column": null,
            "grid_gap": null,
            "grid_row": null,
            "grid_template_areas": null,
            "grid_template_columns": null,
            "grid_template_rows": null,
            "height": "610px",
            "justify_content": null,
            "justify_items": null,
            "left": null,
            "margin": null,
            "max_height": null,
            "max_width": null,
            "min_height": null,
            "min_width": null,
            "object_fit": null,
            "object_position": null,
            "order": null,
            "overflow": null,
            "padding": null,
            "right": null,
            "top": null,
            "visibility": null,
            "width": "100%"
          }
        },
        "f62fa666f00646bd93ccd0ac95c6684a": {
          "model_module": "yfiles-jupyter-graphs",
          "model_name": "GraphModel",
          "model_module_version": "^1.10.1",
          "state": {
            "_context_pane_mapping": [
              {
                "id": "Neighborhood",
                "title": "Neighborhood"
              },
              {
                "id": "Data",
                "title": "Data"
              },
              {
                "id": "Search",
                "title": "Search"
              },
              {
                "id": "About",
                "title": "About"
              }
            ],
            "_data_importer": "neo4j",
            "_directed": true,
            "_dom_classes": [],
            "_edges": [
              {
                "id": 0,
                "start": 1,
                "end": 0,
                "properties": {
                  "roles": [
                    "Neo"
                  ],
                  "label": "ACTED_IN"
                },
                "color": "#F44336",
                "thickness_factor": 1,
                "directed": true,
                "styles": {
                  "label_styles": {
                    "fontSize": 8,
                    "textAlignment": "center"
                  }
                },
                "label": "Neo\n (ACTED_IN)"
              },
              {
                "id": 1,
                "start": 2,
                "end": 0,
                "properties": {
                  "roles": [
                    "Trinity"
                  ],
                  "label": "ACTED_IN"
                },
                "color": "#F44336",
                "thickness_factor": 1,
                "directed": true,
                "styles": {
                  "label_styles": {
                    "fontSize": 8,
                    "textAlignment": "center"
                  }
                },
                "label": "Trinity\n (ACTED_IN)"
              },
              {
                "id": 2,
                "start": 3,
                "end": 0,
                "properties": {
                  "roles": [
                    "Morpheus"
                  ],
                  "label": "ACTED_IN"
                },
                "color": "#F44336",
                "thickness_factor": 1,
                "directed": true,
                "styles": {
                  "label_styles": {
                    "fontSize": 8,
                    "textAlignment": "center"
                  }
                },
                "label": "Morpheus\n (ACTED_IN)"
              },
              {
                "id": 3,
                "start": 4,
                "end": 0,
                "properties": {
                  "roles": [
                    "Agent Smith"
                  ],
                  "label": "ACTED_IN"
                },
                "color": "#F44336",
                "thickness_factor": 1,
                "directed": true,
                "styles": {
                  "label_styles": {
                    "fontSize": 8,
                    "textAlignment": "center"
                  }
                },
                "label": "Agent Smith\n (ACTED_IN)"
              },
              {
                "id": 4,
                "start": 5,
                "end": 0,
                "properties": {
                  "label": "DIRECTED"
                },
                "color": "#607D8B",
                "thickness_factor": 1,
                "directed": true,
                "styles": {
                  "label_styles": {
                    "fontSize": 8,
                    "textAlignment": "center"
                  }
                },
                "label": "no role\n (DIRECTED)"
              },
              {
                "id": 5,
                "start": 6,
                "end": 0,
                "properties": {
                  "label": "DIRECTED"
                },
                "color": "#607D8B",
                "thickness_factor": 1,
                "directed": true,
                "styles": {
                  "label_styles": {
                    "fontSize": 8,
                    "textAlignment": "center"
                  }
                },
                "label": "no role\n (DIRECTED)"
              },
              {
                "id": 6,
                "start": 7,
                "end": 0,
                "properties": {
                  "label": "PRODUCED"
                },
                "color": "#673AB7",
                "thickness_factor": 1,
                "directed": true,
                "styles": {
                  "label_styles": {
                    "fontSize": 8,
                    "textAlignment": "center"
                  }
                },
                "label": "no role\n (PRODUCED)"
              },
              {
                "id": 7,
                "start": 8,
                "end": 0,
                "properties": {
                  "roles": [
                    "Emil"
                  ],
                  "label": "ACTED_IN"
                },
                "color": "#F44336",
                "thickness_factor": 1,
                "directed": true,
                "styles": {
                  "label_styles": {
                    "fontSize": 8,
                    "textAlignment": "center"
                  }
                },
                "label": "Emil\n (ACTED_IN)"
              },
              {
                "id": 8,
                "start": 1,
                "end": 9,
                "properties": {
                  "roles": [
                    "Neo"
                  ],
                  "label": "ACTED_IN"
                },
                "color": "#F44336",
                "thickness_factor": 1,
                "directed": true,
                "styles": {
                  "label_styles": {
                    "fontSize": 8,
                    "textAlignment": "center"
                  }
                },
                "label": "Neo\n (ACTED_IN)"
              },
              {
                "id": 9,
                "start": 2,
                "end": 9,
                "properties": {
                  "roles": [
                    "Trinity"
                  ],
                  "label": "ACTED_IN"
                },
                "color": "#F44336",
                "thickness_factor": 1,
                "directed": true,
                "styles": {
                  "label_styles": {
                    "fontSize": 8,
                    "textAlignment": "center"
                  }
                },
                "label": "Trinity\n (ACTED_IN)"
              },
              {
                "id": 10,
                "start": 3,
                "end": 9,
                "properties": {
                  "roles": [
                    "Morpheus"
                  ],
                  "label": "ACTED_IN"
                },
                "color": "#F44336",
                "thickness_factor": 1,
                "directed": true,
                "styles": {
                  "label_styles": {
                    "fontSize": 8,
                    "textAlignment": "center"
                  }
                },
                "label": "Morpheus\n (ACTED_IN)"
              },
              {
                "id": 11,
                "start": 4,
                "end": 9,
                "properties": {
                  "roles": [
                    "Agent Smith"
                  ],
                  "label": "ACTED_IN"
                },
                "color": "#F44336",
                "thickness_factor": 1,
                "directed": true,
                "styles": {
                  "label_styles": {
                    "fontSize": 8,
                    "textAlignment": "center"
                  }
                },
                "label": "Agent Smith\n (ACTED_IN)"
              },
              {
                "id": 12,
                "start": 5,
                "end": 9,
                "properties": {
                  "label": "DIRECTED"
                },
                "color": "#607D8B",
                "thickness_factor": 1,
                "directed": true,
                "styles": {
                  "label_styles": {
                    "fontSize": 8,
                    "textAlignment": "center"
                  }
                },
                "label": "no role\n (DIRECTED)"
              },
              {
                "id": 13,
                "start": 6,
                "end": 9,
                "properties": {
                  "label": "DIRECTED"
                },
                "color": "#607D8B",
                "thickness_factor": 1,
                "directed": true,
                "styles": {
                  "label_styles": {
                    "fontSize": 8,
                    "textAlignment": "center"
                  }
                },
                "label": "no role\n (DIRECTED)"
              },
              {
                "id": 14,
                "start": 7,
                "end": 9,
                "properties": {
                  "label": "PRODUCED"
                },
                "color": "#673AB7",
                "thickness_factor": 1,
                "directed": true,
                "styles": {
                  "label_styles": {
                    "fontSize": 8,
                    "textAlignment": "center"
                  }
                },
                "label": "no role\n (PRODUCED)"
              },
              {
                "id": 15,
                "start": 1,
                "end": 10,
                "properties": {
                  "roles": [
                    "Neo"
                  ],
                  "label": "ACTED_IN"
                },
                "color": "#F44336",
                "thickness_factor": 1,
                "directed": true,
                "styles": {
                  "label_styles": {
                    "fontSize": 8,
                    "textAlignment": "center"
                  }
                },
                "label": "Neo\n (ACTED_IN)"
              },
              {
                "id": 16,
                "start": 2,
                "end": 10,
                "properties": {
                  "roles": [
                    "Trinity"
                  ],
                  "label": "ACTED_IN"
                },
                "color": "#F44336",
                "thickness_factor": 1,
                "directed": true,
                "styles": {
                  "label_styles": {
                    "fontSize": 8,
                    "textAlignment": "center"
                  }
                },
                "label": "Trinity\n (ACTED_IN)"
              },
              {
                "id": 17,
                "start": 3,
                "end": 10,
                "properties": {
                  "roles": [
                    "Morpheus"
                  ],
                  "label": "ACTED_IN"
                },
                "color": "#F44336",
                "thickness_factor": 1,
                "directed": true,
                "styles": {
                  "label_styles": {
                    "fontSize": 8,
                    "textAlignment": "center"
                  }
                },
                "label": "Morpheus\n (ACTED_IN)"
              },
              {
                "id": 18,
                "start": 4,
                "end": 10,
                "properties": {
                  "roles": [
                    "Agent Smith"
                  ],
                  "label": "ACTED_IN"
                },
                "color": "#F44336",
                "thickness_factor": 1,
                "directed": true,
                "styles": {
                  "label_styles": {
                    "fontSize": 8,
                    "textAlignment": "center"
                  }
                },
                "label": "Agent Smith\n (ACTED_IN)"
              },
              {
                "id": 19,
                "start": 5,
                "end": 10,
                "properties": {
                  "label": "DIRECTED"
                },
                "color": "#607D8B",
                "thickness_factor": 1,
                "directed": true,
                "styles": {
                  "label_styles": {
                    "fontSize": 8,
                    "textAlignment": "center"
                  }
                },
                "label": "no role\n (DIRECTED)"
              }
            ],
            "_graph_layout": {
              "algorithm": "hierarchic",
              "options": {}
            },
            "_highlight": [],
            "_license": {},
            "_model_module": "yfiles-jupyter-graphs",
            "_model_module_version": "^1.10.1",
            "_model_name": "GraphModel",
            "_neighborhood": {},
            "_nodes": [
              {
                "id": 1,
                "properties": {
                  "born": 1964,
                  "name": "Keanu Reeves",
                  "label": "Person"
                },
                "color": "#2196F3",
                "styles": {
                  "label_styles": {
                    "textAlignment": "center"
                  }
                },
                "label": "Keanu Reeves\n (Person)",
                "scale_factor": 1,
                "type": "#2196F3",
                "size": [
                  55,
                  55
                ],
                "position": [
                  0,
                  0
                ]
              },
              {
                "id": 0,
                "properties": {
                  "tagline": "Welcome to the Real World",
                  "votes": 6180,
                  "title": "The Matrix",
                  "released": 1999,
                  "label": "Movie"
                },
                "color": "#4CAF50",
                "styles": {
                  "label_styles": {
                    "textAlignment": "center"
                  }
                },
                "label": "no name\n (Movie)",
                "scale_factor": 1,
                "type": "#4CAF50",
                "size": [
                  55,
                  55
                ],
                "position": [
                  0,
                  0
                ]
              },
              {
                "id": 2,
                "properties": {
                  "born": 1967,
                  "name": "Carrie-Anne Moss",
                  "label": "Person"
                },
                "color": "#2196F3",
                "styles": {
                  "label_styles": {
                    "textAlignment": "center"
                  }
                },
                "label": "Carrie-Anne Moss\n (Person)",
                "scale_factor": 1,
                "type": "#2196F3",
                "size": [
                  55,
                  55
                ],
                "position": [
                  0,
                  0
                ]
              },
              {
                "id": 3,
                "properties": {
                  "born": 1961,
                  "name": "Laurence Fishburne",
                  "label": "Person"
                },
                "color": "#2196F3",
                "styles": {
                  "label_styles": {
                    "textAlignment": "center"
                  }
                },
                "label": "Laurence Fishburne\n (Person)",
                "scale_factor": 1,
                "type": "#2196F3",
                "size": [
                  55,
                  55
                ],
                "position": [
                  0,
                  0
                ]
              },
              {
                "id": 4,
                "properties": {
                  "born": 1960,
                  "name": "Hugo Weaving",
                  "label": "Person"
                },
                "color": "#2196F3",
                "styles": {
                  "label_styles": {
                    "textAlignment": "center"
                  }
                },
                "label": "Hugo Weaving\n (Person)",
                "scale_factor": 1,
                "type": "#2196F3",
                "size": [
                  55,
                  55
                ],
                "position": [
                  0,
                  0
                ]
              },
              {
                "id": 5,
                "properties": {
                  "born": 1967,
                  "name": "Lilly Wachowski",
                  "label": "Person"
                },
                "color": "#2196F3",
                "styles": {
                  "label_styles": {
                    "textAlignment": "center"
                  }
                },
                "label": "Lilly Wachowski\n (Person)",
                "scale_factor": 1,
                "type": "#2196F3",
                "size": [
                  55,
                  55
                ],
                "position": [
                  0,
                  0
                ]
              },
              {
                "id": 6,
                "properties": {
                  "born": 1965,
                  "name": "Lana Wachowski",
                  "label": "Person"
                },
                "color": "#2196F3",
                "styles": {
                  "label_styles": {
                    "textAlignment": "center"
                  }
                },
                "label": "Lana Wachowski\n (Person)",
                "scale_factor": 1,
                "type": "#2196F3",
                "size": [
                  55,
                  55
                ],
                "position": [
                  0,
                  0
                ]
              },
              {
                "id": 7,
                "properties": {
                  "born": 1952,
                  "name": "Joel Silver",
                  "label": "Person"
                },
                "color": "#2196F3",
                "styles": {
                  "label_styles": {
                    "textAlignment": "center"
                  }
                },
                "label": "Joel Silver\n (Person)",
                "scale_factor": 1,
                "type": "#2196F3",
                "size": [
                  55,
                  55
                ],
                "position": [
                  0,
                  0
                ]
              },
              {
                "id": 8,
                "properties": {
                  "born": 1978,
                  "name": "Emil Eifrem",
                  "label": "Person"
                },
                "color": "#2196F3",
                "styles": {
                  "label_styles": {
                    "textAlignment": "center"
                  }
                },
                "label": "Emil Eifrem\n (Person)",
                "scale_factor": 1,
                "type": "#2196F3",
                "size": [
                  55,
                  55
                ],
                "position": [
                  0,
                  0
                ]
              },
              {
                "id": 9,
                "properties": {
                  "tagline": "Free your mind",
                  "votes": 1791,
                  "title": "The Matrix Reloaded",
                  "released": 2003,
                  "label": "Movie"
                },
                "color": "#4CAF50",
                "styles": {
                  "label_styles": {
                    "textAlignment": "center"
                  }
                },
                "label": "no name\n (Movie)",
                "scale_factor": 1,
                "type": "#4CAF50",
                "size": [
                  55,
                  55
                ],
                "position": [
                  0,
                  0
                ]
              },
              {
                "id": 10,
                "properties": {
                  "tagline": "Everything that has a beginning has an end",
                  "votes": 1496,
                  "title": "The Matrix Revolutions",
                  "released": 2003,
                  "label": "Movie"
                },
                "color": "#4CAF50",
                "styles": {
                  "label_styles": {
                    "textAlignment": "center"
                  }
                },
                "label": "no name\n (Movie)",
                "scale_factor": 1,
                "type": "#4CAF50",
                "size": [
                  55,
                  55
                ],
                "position": [
                  0,
                  0
                ]
              }
            ],
            "_overview": {
              "enabled": null,
              "overview_set": false
            },
            "_selected_graph": [
              [],
              []
            ],
            "_sidebar": {
              "enabled": false,
              "start_with": null
            },
            "_view_count": null,
            "_view_module": "yfiles-jupyter-graphs",
            "_view_module_version": "^1.10.1",
            "_view_name": "GraphView",
            "layout": "IPY_MODEL_bd7a10b4e8624da18cdfa72f699acbac",
            "tabbable": null,
            "tooltip": null
          }
        },
        "bd7a10b4e8624da18cdfa72f699acbac": {
          "model_module": "@jupyter-widgets/base",
          "model_name": "LayoutModel",
          "model_module_version": "2.0.0",
          "state": {
            "_model_module": "@jupyter-widgets/base",
            "_model_module_version": "2.0.0",
            "_model_name": "LayoutModel",
            "_view_count": null,
            "_view_module": "@jupyter-widgets/base",
            "_view_module_version": "2.0.0",
            "_view_name": "LayoutView",
            "align_content": null,
            "align_items": null,
            "align_self": null,
            "border_bottom": null,
            "border_left": null,
            "border_right": null,
            "border_top": null,
            "bottom": null,
            "display": null,
            "flex": null,
            "flex_flow": null,
            "grid_area": null,
            "grid_auto_columns": null,
            "grid_auto_flow": null,
            "grid_auto_rows": null,
            "grid_column": null,
            "grid_gap": null,
            "grid_row": null,
            "grid_template_areas": null,
            "grid_template_columns": null,
            "grid_template_rows": null,
            "height": "610px",
            "justify_content": null,
            "justify_items": null,
            "left": null,
            "margin": null,
            "max_height": null,
            "max_width": null,
            "min_height": null,
            "min_width": null,
            "object_fit": null,
            "object_position": null,
            "order": null,
            "overflow": null,
            "padding": null,
            "right": null,
            "top": null,
            "visibility": null,
            "width": "100%"
          }
        },
        "4ee33f8517174229a067f1a7c3157fe7": {
          "model_module": "yfiles-jupyter-graphs",
          "model_name": "GraphModel",
          "model_module_version": "^1.10.1",
          "state": {
            "_context_pane_mapping": [
              {
                "id": "Neighborhood",
                "title": "Neighborhood"
              },
              {
                "id": "Data",
                "title": "Data"
              },
              {
                "id": "Search",
                "title": "Search"
              },
              {
                "id": "About",
                "title": "About"
              }
            ],
            "_data_importer": "neo4j",
            "_directed": true,
            "_dom_classes": [],
            "_edges": [
              {
                "id": 0,
                "start": 1,
                "end": 0,
                "properties": {
                  "roles": [
                    "Neo"
                  ],
                  "label": "ACTED_IN"
                },
                "color": "#F44336",
                "thickness_factor": 1,
                "directed": true,
                "styles": {},
                "label": "ACTED_IN",
                "heat": 0
              },
              {
                "id": 1,
                "start": 2,
                "end": 0,
                "properties": {
                  "roles": [
                    "Trinity"
                  ],
                  "label": "ACTED_IN"
                },
                "color": "#F44336",
                "thickness_factor": 1,
                "directed": true,
                "styles": {},
                "label": "ACTED_IN",
                "heat": 0
              },
              {
                "id": 2,
                "start": 3,
                "end": 0,
                "properties": {
                  "roles": [
                    "Morpheus"
                  ],
                  "label": "ACTED_IN"
                },
                "color": "#F44336",
                "thickness_factor": 1,
                "directed": true,
                "styles": {},
                "label": "ACTED_IN",
                "heat": 0
              },
              {
                "id": 3,
                "start": 4,
                "end": 0,
                "properties": {
                  "roles": [
                    "Agent Smith"
                  ],
                  "label": "ACTED_IN"
                },
                "color": "#F44336",
                "thickness_factor": 1,
                "directed": true,
                "styles": {},
                "label": "ACTED_IN",
                "heat": 0
              },
              {
                "id": 4,
                "start": 5,
                "end": 0,
                "properties": {
                  "label": "DIRECTED"
                },
                "color": "#607D8B",
                "thickness_factor": 1,
                "directed": true,
                "styles": {},
                "label": "DIRECTED",
                "heat": 0
              },
              {
                "id": 5,
                "start": 6,
                "end": 0,
                "properties": {
                  "label": "DIRECTED"
                },
                "color": "#607D8B",
                "thickness_factor": 1,
                "directed": true,
                "styles": {},
                "label": "DIRECTED",
                "heat": 0
              },
              {
                "id": 6,
                "start": 7,
                "end": 0,
                "properties": {
                  "label": "PRODUCED"
                },
                "color": "#673AB7",
                "thickness_factor": 1,
                "directed": true,
                "styles": {},
                "label": "PRODUCED",
                "heat": 0
              },
              {
                "id": 7,
                "start": 8,
                "end": 0,
                "properties": {
                  "roles": [
                    "Emil"
                  ],
                  "label": "ACTED_IN"
                },
                "color": "#F44336",
                "thickness_factor": 1,
                "directed": true,
                "styles": {},
                "label": "ACTED_IN",
                "heat": 0
              },
              {
                "id": 8,
                "start": 1,
                "end": 9,
                "properties": {
                  "roles": [
                    "Neo"
                  ],
                  "label": "ACTED_IN"
                },
                "color": "#F44336",
                "thickness_factor": 1,
                "directed": true,
                "styles": {},
                "label": "ACTED_IN",
                "heat": 0
              },
              {
                "id": 9,
                "start": 2,
                "end": 9,
                "properties": {
                  "roles": [
                    "Trinity"
                  ],
                  "label": "ACTED_IN"
                },
                "color": "#F44336",
                "thickness_factor": 1,
                "directed": true,
                "styles": {},
                "label": "ACTED_IN",
                "heat": 0
              },
              {
                "id": 10,
                "start": 3,
                "end": 9,
                "properties": {
                  "roles": [
                    "Morpheus"
                  ],
                  "label": "ACTED_IN"
                },
                "color": "#F44336",
                "thickness_factor": 1,
                "directed": true,
                "styles": {},
                "label": "ACTED_IN",
                "heat": 0
              },
              {
                "id": 11,
                "start": 4,
                "end": 9,
                "properties": {
                  "roles": [
                    "Agent Smith"
                  ],
                  "label": "ACTED_IN"
                },
                "color": "#F44336",
                "thickness_factor": 1,
                "directed": true,
                "styles": {},
                "label": "ACTED_IN",
                "heat": 0
              },
              {
                "id": 12,
                "start": 5,
                "end": 9,
                "properties": {
                  "label": "DIRECTED"
                },
                "color": "#607D8B",
                "thickness_factor": 1,
                "directed": true,
                "styles": {},
                "label": "DIRECTED",
                "heat": 0
              },
              {
                "id": 13,
                "start": 6,
                "end": 9,
                "properties": {
                  "label": "DIRECTED"
                },
                "color": "#607D8B",
                "thickness_factor": 1,
                "directed": true,
                "styles": {},
                "label": "DIRECTED",
                "heat": 0
              },
              {
                "id": 14,
                "start": 7,
                "end": 9,
                "properties": {
                  "label": "PRODUCED"
                },
                "color": "#673AB7",
                "thickness_factor": 1,
                "directed": true,
                "styles": {},
                "label": "PRODUCED",
                "heat": 0
              },
              {
                "id": 15,
                "start": 1,
                "end": 10,
                "properties": {
                  "roles": [
                    "Neo"
                  ],
                  "label": "ACTED_IN"
                },
                "color": "#F44336",
                "thickness_factor": 1,
                "directed": true,
                "styles": {},
                "label": "ACTED_IN",
                "heat": 0
              },
              {
                "id": 16,
                "start": 2,
                "end": 10,
                "properties": {
                  "roles": [
                    "Trinity"
                  ],
                  "label": "ACTED_IN"
                },
                "color": "#F44336",
                "thickness_factor": 1,
                "directed": true,
                "styles": {},
                "label": "ACTED_IN",
                "heat": 0
              },
              {
                "id": 17,
                "start": 3,
                "end": 10,
                "properties": {
                  "roles": [
                    "Morpheus"
                  ],
                  "label": "ACTED_IN"
                },
                "color": "#F44336",
                "thickness_factor": 1,
                "directed": true,
                "styles": {},
                "label": "ACTED_IN",
                "heat": 0
              },
              {
                "id": 18,
                "start": 4,
                "end": 10,
                "properties": {
                  "roles": [
                    "Agent Smith"
                  ],
                  "label": "ACTED_IN"
                },
                "color": "#F44336",
                "thickness_factor": 1,
                "directed": true,
                "styles": {},
                "label": "ACTED_IN",
                "heat": 0
              },
              {
                "id": 19,
                "start": 5,
                "end": 10,
                "properties": {
                  "label": "DIRECTED"
                },
                "color": "#607D8B",
                "thickness_factor": 1,
                "directed": true,
                "styles": {},
                "label": "DIRECTED",
                "heat": 0
              }
            ],
            "_graph_layout": {
              "algorithm": "hierarchic",
              "options": {}
            },
            "_highlight": [],
            "_license": {},
            "_model_module": "yfiles-jupyter-graphs",
            "_model_module_version": "^1.10.1",
            "_model_name": "GraphModel",
            "_neighborhood": {},
            "_nodes": [
              {
                "id": 1,
                "properties": {
                  "born": 1964,
                  "name": "Keanu Reeves",
                  "label": "Person"
                },
                "color": "#2196F3",
                "styles": {},
                "label": "Keanu Reeves",
                "scale_factor": 1,
                "type": "#2196F3",
                "size": [
                  55,
                  55
                ],
                "position": [
                  0,
                  0
                ],
                "heat": 0
              },
              {
                "id": 0,
                "properties": {
                  "tagline": "Welcome to the Real World",
                  "votes": 6180,
                  "title": "The Matrix",
                  "released": 1999,
                  "label": "Movie"
                },
                "color": "#4CAF50",
                "styles": {},
                "label": "The Matrix",
                "scale_factor": 1,
                "type": "#4CAF50",
                "size": [
                  55,
                  55
                ],
                "position": [
                  0,
                  0
                ],
                "heat": 0.8828571428571429
              },
              {
                "id": 2,
                "properties": {
                  "born": 1967,
                  "name": "Carrie-Anne Moss",
                  "label": "Person"
                },
                "color": "#2196F3",
                "styles": {},
                "label": "Carrie-Anne Moss",
                "scale_factor": 1,
                "type": "#2196F3",
                "size": [
                  55,
                  55
                ],
                "position": [
                  0,
                  0
                ],
                "heat": 0
              },
              {
                "id": 3,
                "properties": {
                  "born": 1961,
                  "name": "Laurence Fishburne",
                  "label": "Person"
                },
                "color": "#2196F3",
                "styles": {},
                "label": "Laurence Fishburne",
                "scale_factor": 1,
                "type": "#2196F3",
                "size": [
                  55,
                  55
                ],
                "position": [
                  0,
                  0
                ],
                "heat": 0
              },
              {
                "id": 4,
                "properties": {
                  "born": 1960,
                  "name": "Hugo Weaving",
                  "label": "Person"
                },
                "color": "#2196F3",
                "styles": {},
                "label": "Hugo Weaving",
                "scale_factor": 1,
                "type": "#2196F3",
                "size": [
                  55,
                  55
                ],
                "position": [
                  0,
                  0
                ],
                "heat": 0
              },
              {
                "id": 5,
                "properties": {
                  "born": 1967,
                  "name": "Lilly Wachowski",
                  "label": "Person"
                },
                "color": "#2196F3",
                "styles": {},
                "label": "Lilly Wachowski",
                "scale_factor": 1,
                "type": "#2196F3",
                "size": [
                  55,
                  55
                ],
                "position": [
                  0,
                  0
                ],
                "heat": 0
              },
              {
                "id": 6,
                "properties": {
                  "born": 1965,
                  "name": "Lana Wachowski",
                  "label": "Person"
                },
                "color": "#2196F3",
                "styles": {},
                "label": "Lana Wachowski",
                "scale_factor": 1,
                "type": "#2196F3",
                "size": [
                  55,
                  55
                ],
                "position": [
                  0,
                  0
                ],
                "heat": 0
              },
              {
                "id": 7,
                "properties": {
                  "born": 1952,
                  "name": "Joel Silver",
                  "label": "Person"
                },
                "color": "#2196F3",
                "styles": {},
                "label": "Joel Silver",
                "scale_factor": 1,
                "type": "#2196F3",
                "size": [
                  55,
                  55
                ],
                "position": [
                  0,
                  0
                ],
                "heat": 0
              },
              {
                "id": 8,
                "properties": {
                  "born": 1978,
                  "name": "Emil Eifrem",
                  "label": "Person"
                },
                "color": "#2196F3",
                "styles": {},
                "label": "Emil Eifrem",
                "scale_factor": 1,
                "type": "#2196F3",
                "size": [
                  55,
                  55
                ],
                "position": [
                  0,
                  0
                ],
                "heat": 0
              },
              {
                "id": 9,
                "properties": {
                  "tagline": "Free your mind",
                  "votes": 1791,
                  "title": "The Matrix Reloaded",
                  "released": 2003,
                  "label": "Movie"
                },
                "color": "#4CAF50",
                "styles": {},
                "label": "The Matrix Reloaded",
                "scale_factor": 1,
                "type": "#4CAF50",
                "size": [
                  55,
                  55
                ],
                "position": [
                  0,
                  0
                ],
                "heat": 0.25585714285714284
              },
              {
                "id": 10,
                "properties": {
                  "tagline": "Everything that has a beginning has an end",
                  "votes": 1496,
                  "title": "The Matrix Revolutions",
                  "released": 2003,
                  "label": "Movie"
                },
                "color": "#4CAF50",
                "styles": {},
                "label": "The Matrix Revolutions",
                "scale_factor": 1,
                "type": "#4CAF50",
                "size": [
                  55,
                  55
                ],
                "position": [
                  0,
                  0
                ],
                "heat": 0.21371428571428572
              }
            ],
            "_overview": {
              "enabled": null,
              "overview_set": false
            },
            "_selected_graph": [
              [],
              []
            ],
            "_sidebar": {
              "enabled": false,
              "start_with": null
            },
            "_view_count": null,
            "_view_module": "yfiles-jupyter-graphs",
            "_view_module_version": "^1.10.1",
            "_view_name": "GraphView",
            "layout": "IPY_MODEL_7c9f419c30244cd383de357de2c063b4",
            "tabbable": null,
            "tooltip": null
          }
        },
        "7c9f419c30244cd383de357de2c063b4": {
          "model_module": "@jupyter-widgets/base",
          "model_name": "LayoutModel",
          "model_module_version": "2.0.0",
          "state": {
            "_model_module": "@jupyter-widgets/base",
            "_model_module_version": "2.0.0",
            "_model_name": "LayoutModel",
            "_view_count": null,
            "_view_module": "@jupyter-widgets/base",
            "_view_module_version": "2.0.0",
            "_view_name": "LayoutView",
            "align_content": null,
            "align_items": null,
            "align_self": null,
            "border_bottom": null,
            "border_left": null,
            "border_right": null,
            "border_top": null,
            "bottom": null,
            "display": null,
            "flex": null,
            "flex_flow": null,
            "grid_area": null,
            "grid_auto_columns": null,
            "grid_auto_flow": null,
            "grid_auto_rows": null,
            "grid_column": null,
            "grid_gap": null,
            "grid_row": null,
            "grid_template_areas": null,
            "grid_template_columns": null,
            "grid_template_rows": null,
            "height": "610px",
            "justify_content": null,
            "justify_items": null,
            "left": null,
            "margin": null,
            "max_height": null,
            "max_width": null,
            "min_height": null,
            "min_width": null,
            "object_fit": null,
            "object_position": null,
            "order": null,
            "overflow": null,
            "padding": null,
            "right": null,
            "top": null,
            "visibility": null,
            "width": "100%"
          }
        },
        "state": {}
      }
    }
  },
  "nbformat": 4,
  "nbformat_minor": 5
}