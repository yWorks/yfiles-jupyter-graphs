{
  "nbformat": 4,
  "nbformat_minor": 0,
  "metadata": {
    "colab": {
      "provenance": []
    },
    "kernelspec": {
      "name": "python3",
      "display_name": "Python 3"
    },
    "language_info": {
      "name": "python"
    },
    "widgets": {
      "application/vnd.jupyter.widget-state+json": {
        "state":{},
        "bfdb589364d3404cbfc411084a5e47ae": {
          "model_module": "yfiles-jupyter-graphs",
          "model_name": "GraphModel",
          "model_module_version": "^1.10.5",
          "state": {
            "_context_pane_mapping": [
              {
                "id": "Neighborhood",
                "title": "Neighborhood"
              },
              {
                "id": "Data",
                "title": "Data"
              },
              {
                "id": "Search",
                "title": "Search"
              },
              {
                "id": "About",
                "title": "About"
              }
            ],
            "_data_importer": "unknown",
            "_directed": true,
            "_dom_classes": [],
            "_edges": [
              {
                "id": "1829",
                "start": "n0",
                "end": "n44",
                "properties": {
                  "e_relation": "common_consecration"
                },
                "thickness_factor": 1,
                "directed": 0,
                "styles": {},
                "heat": 0
              },
              {
                "id": "1830",
                "start": "n0",
                "end": "n63",
                "properties": {
                  "e_relation": "common_consecration"
                },
                "thickness_factor": 1,
                "directed": 0,
                "styles": {},
                "heat": 0
              },
              {
                "id": "1831",
                "start": "n0",
                "end": "n97",
                "properties": {
                  "e_relation": "common_consecration"
                },
                "thickness_factor": 1,
                "directed": 0,
                "styles": {},
                "heat": 0
              },
              {
                "id": "1832",
                "start": "n0",
                "end": "n105",
                "properties": {
                  "e_relation": "common_consecration"
                },
                "thickness_factor": 1,
                "directed": 0,
                "styles": {},
                "heat": 0
              },
              {
                "id": "1833",
                "start": "n0",
                "end": "n118",
                "properties": {
                  "e_relation": "consecrator"
                },
                "color": "darkslateblue",
                "thickness_factor": 1,
                "directed": 1,
                "styles": {},
                "label": "consecrator",
                "heat": 0
              },
              {
                "id": "1834",
                "start": "n1",
                "end": "n5",
                "properties": {
                  "weight": 4,
                  "e_relation": "common_consecration"
                },
                "thickness_factor": 1,
                "directed": 0,
                "styles": {},
                "heat": 0
              },
              {
                "id": "1838",
                "start": "n1",
                "end": "n13",
                "properties": {
                  "weight": 2,
                  "e_relation": "common_consecration"
                },
                "thickness_factor": 1,
                "directed": 0,
                "styles": {},
                "heat": 0
              },
              {
                "id": "1840",
                "start": "n1",
                "end": "n14",
                "properties": {
                  "weight": 3,
                  "e_relation": "common_consecration"
                },
                "thickness_factor": 1,
                "directed": 0,
                "styles": {},
                "heat": 0
              },
              {
                "id": "1843",
                "start": "n1",
                "end": "n40",
                "properties": {
                  "e_relation": "consecrator"
                },
                "color": "darkslateblue",
                "thickness_factor": 1,
                "directed": 1,
                "styles": {},
                "label": "consecrator",
                "heat": 0
              },
              {
                "id": "1844",
                "start": "n1",
                "end": "n47",
                "properties": {
                  "e_relation": "common_consecration"
                },
                "thickness_factor": 1,
                "directed": 0,
                "styles": {},
                "heat": 0
              },
              {
                "id": "1845",
                "start": "n1",
                "end": "n59",
                "properties": {
                  "weight": 3,
                  "e_relation": "common_consecration"
                },
                "thickness_factor": 1,
                "directed": 0,
                "styles": {},
                "heat": 0
              },
              {
                "id": "1848",
                "start": "n1",
                "end": "n104",
                "properties": {
                  "weight": 2,
                  "e_relation": "common_consecration"
                },
                "thickness_factor": 1,
                "directed": 0,
                "styles": {},
                "heat": 0
              },
              {
                "id": "1850",
                "start": "n1",
                "end": "n124",
                "properties": {
                  "e_relation": "common_consecration"
                },
                "thickness_factor": 1,
                "directed": 0,
                "styles": {},
                "heat": 0
              },
              {
                "id": "1851",
                "start": "n2",
                "end": "n89",
                "properties": {
                  "e_relation": "common_consecration"
                },
                "thickness_factor": 1,
                "directed": 0,
                "styles": {},
                "heat": 0
              },
              {
                "id": "1852",
                "start": "n3",
                "end": "n5",
                "properties": {
                  "e_relation": "common_consecration"
                },
                "thickness_factor": 1,
                "directed": 0,
                "styles": {},
                "heat": 0
              },
              {
                "id": "1864",
                "start": "n3",
                "end": "n36",
                "properties": {
                  "e_relation": "common_consecration"
                },
                "thickness_factor": 1,
                "directed": 0,
                "styles": {},
                "heat": 0
              },
              {
                "id": "1865",
                "start": "n3",
                "end": "n53",
                "properties": {
                  "weight": 7,
                  "e_relation": "common_consecration"
                },
                "thickness_factor": 1,
                "directed": 0,
                "styles": {},
                "heat": 0
              },
              {
                "id": "1872",
                "start": "n3",
                "end": "n79",
                "properties": {
                  "e_relation": "common_consecration"
                },
                "thickness_factor": 1,
                "directed": 0,
                "styles": {},
                "heat": 0
              },
              {
                "id": "1873",
                "start": "n3",
                "end": "n89",
                "properties": {
                  "e_relation": "co_consecrator"
                },
                "color": "darkmagenta",
                "thickness_factor": 1,
                "directed": 0,
                "styles": {},
                "label": "co consecrator",
                "heat": 0
              },
              {
                "id": "1877",
                "start": "n3",
                "end": "n157",
                "properties": {
                  "e_relation": "consecrator"
                },
                "color": "darkslateblue",
                "thickness_factor": 1,
                "directed": 1,
                "styles": {},
                "label": "consecrator",
                "heat": 0
              },
              {
                "id": "1881",
                "start": "n4",
                "end": "n46",
                "properties": {
                  "e_relation": "common_consecration"
                },
                "thickness_factor": 1,
                "directed": 0,
                "styles": {},
                "heat": 0
              },
              {
                "id": "1882",
                "start": "n4",
                "end": "n67",
                "properties": {
                  "e_relation": "common_consecration"
                },
                "thickness_factor": 1,
                "directed": 0,
                "styles": {},
                "heat": 0
              },
              {
                "id": "1883",
                "start": "n4",
                "end": "n86",
                "properties": {
                  "e_relation": "common_consecration"
                },
                "thickness_factor": 1,
                "directed": 0,
                "styles": {},
                "heat": 0
              },
              {
                "id": "1900",
                "start": "n5",
                "end": "n51",
                "properties": {
                  "e_relation": "common_consecration"
                },
                "thickness_factor": 1,
                "directed": 0,
                "styles": {},
                "heat": 0
              },
              {
                "id": "1901",
                "start": "n5",
                "end": "n57",
                "properties": {
                  "e_relation": "co_consecrator"
                },
                "color": "darkmagenta",
                "thickness_factor": 1,
                "directed": 0,
                "styles": {},
                "label": "co consecrator",
                "heat": 0
              },
              {
                "id": "1902",
                "start": "n5",
                "end": "n58",
                "properties": {
                  "e_relation": "common_consecration"
                },
                "thickness_factor": 1,
                "directed": 0,
                "styles": {},
                "heat": 0
              },
              {
                "id": "1903",
                "start": "n5",
                "end": "n59",
                "properties": {
                  "e_relation": "common_consecration"
                },
                "thickness_factor": 1,
                "directed": 0,
                "styles": {},
                "heat": 0
              },
              {
                "id": "1904",
                "start": "n5",
                "end": "n63",
                "properties": {
                  "e_relation": "common_consecration"
                },
                "thickness_factor": 1,
                "directed": 0,
                "styles": {},
                "heat": 0
              },
              {
                "id": "1905",
                "start": "n5",
                "end": "n65",
                "properties": {
                  "e_relation": "common_consecration"
                },
                "thickness_factor": 1,
                "directed": 0,
                "styles": {},
                "heat": 0
              },
              {
                "id": "1906",
                "start": "n5",
                "end": "n66",
                "properties": {
                  "e_relation": "common_consecration"
                },
                "thickness_factor": 1,
                "directed": 0,
                "styles": {},
                "heat": 0
              },
              {
                "id": "1907",
                "start": "n5",
                "end": "n69",
                "properties": {
                  "e_relation": "common_consecration"
                },
                "thickness_factor": 1,
                "directed": 0,
                "styles": {},
                "heat": 0
              },
              {
                "id": "1908",
                "start": "n5",
                "end": "n70",
                "properties": {
                  "e_relation": "common_consecration"
                },
                "thickness_factor": 1,
                "directed": 0,
                "styles": {},
                "heat": 0
              },
              {
                "id": "1909",
                "start": "n5",
                "end": "n81",
                "properties": {
                  "weight": 4,
                  "e_relation": "common_consecration"
                },
                "thickness_factor": 1,
                "directed": 0,
                "styles": {},
                "heat": 0
              },
              {
                "id": "1913",
                "start": "n5",
                "end": "n88",
                "properties": {
                  "e_relation": "common_consecration"
                },
                "thickness_factor": 1,
                "directed": 0,
                "styles": {},
                "heat": 0
              },
              {
                "id": "1914",
                "start": "n5",
                "end": "n95",
                "properties": {
                  "weight": 3,
                  "e_relation": "common_consecration"
                },
                "thickness_factor": 1,
                "directed": 0,
                "styles": {},
                "heat": 0
              },
              {
                "id": "1917",
                "start": "n5",
                "end": "n99",
                "properties": {
                  "e_relation": "common_consecration"
                },
                "thickness_factor": 1,
                "directed": 0,
                "styles": {},
                "heat": 0
              },
              {
                "id": "1924",
                "start": "n5",
                "end": "n155",
                "properties": {
                  "e_relation": "consecrator"
                },
                "color": "darkslateblue",
                "thickness_factor": 1,
                "directed": 1,
                "styles": {},
                "label": "consecrator",
                "heat": 0
              },
              {
                "id": "1925",
                "start": "n6",
                "end": "n7",
                "properties": {
                  "e_relation": "common_consecration"
                },
                "thickness_factor": 1,
                "directed": 0,
                "styles": {},
                "heat": 0
              },
              {
                "id": "1932",
                "start": "n6",
                "end": "n148",
                "properties": {
                  "e_relation": "co_consecrator"
                },
                "color": "darkmagenta",
                "thickness_factor": 1,
                "directed": 0,
                "styles": {},
                "label": "co consecrator",
                "heat": 0
              },
              {
                "id": "1934",
                "start": "n7",
                "end": "n13",
                "properties": {
                  "e_relation": "consecrator"
                },
                "color": "darkslateblue",
                "thickness_factor": 1,
                "directed": 1,
                "styles": {},
                "label": "consecrator",
                "heat": 0
              },
              {
                "id": "1939",
                "start": "n7",
                "end": "n35",
                "properties": {
                  "e_relation": "co_consecrator"
                },
                "color": "darkmagenta",
                "thickness_factor": 1,
                "directed": 0,
                "styles": {},
                "label": "co consecrator",
                "heat": 0
              },
              {
                "id": "1943",
                "start": "n7",
                "end": "n56",
                "properties": {
                  "e_relation": "co_consecrator"
                },
                "color": "darkmagenta",
                "thickness_factor": 1,
                "directed": 0,
                "styles": {},
                "label": "co consecrator",
                "heat": 0
              },
              {
                "id": "1945",
                "start": "n7",
                "end": "n124",
                "properties": {
                  "e_relation": "co_consecrator"
                },
                "color": "darkmagenta",
                "thickness_factor": 1,
                "directed": 0,
                "styles": {},
                "label": "co consecrator",
                "heat": 0
              },
              {
                "id": "1946",
                "start": "n7",
                "end": "n125",
                "properties": {
                  "e_relation": "co_consecrator"
                },
                "color": "darkmagenta",
                "thickness_factor": 1,
                "directed": 0,
                "styles": {},
                "label": "co consecrator",
                "heat": 0
              },
              {
                "id": "1969",
                "start": "n9",
                "end": "n94",
                "properties": {
                  "weight": 2,
                  "e_relation": "common_consecration"
                },
                "thickness_factor": 1,
                "directed": 0,
                "styles": {},
                "heat": 0
              },
              {
                "id": "1971",
                "start": "n10",
                "end": "n76",
                "properties": {
                  "weight": 2,
                  "e_relation": "common_consecration"
                },
                "thickness_factor": 1,
                "directed": 0,
                "styles": {},
                "heat": 0
              },
              {
                "id": "1973",
                "start": "n10",
                "end": "n138",
                "properties": {
                  "e_relation": "common_consecration"
                },
                "thickness_factor": 1,
                "directed": 0,
                "styles": {},
                "heat": 0
              },
              {
                "id": "1974",
                "start": "n11",
                "end": "n61",
                "properties": {
                  "e_relation": "common_consecration"
                },
                "thickness_factor": 1,
                "directed": 0,
                "styles": {},
                "heat": 0
              },
              {
                "id": "1975",
                "start": "n12",
                "end": "n9",
                "properties": {
                  "weight": 8,
                  "e_relation": "common_consecration"
                },
                "thickness_factor": 1,
                "directed": 0,
                "styles": {},
                "heat": 0
              },
              {
                "id": "1983",
                "start": "n12",
                "end": "n19",
                "properties": {
                  "weight": 6,
                  "e_relation": "common_consecration"
                },
                "thickness_factor": 1,
                "directed": 0,
                "styles": {},
                "heat": 0
              },
              {
                "id": "1989",
                "start": "n12",
                "end": "n33",
                "properties": {
                  "e_relation": "common_consecration"
                },
                "thickness_factor": 1,
                "directed": 0,
                "styles": {},
                "heat": 0
              },
              {
                "id": "1990",
                "start": "n12",
                "end": "n45",
                "properties": {
                  "weight": 5,
                  "e_relation": "common_consecration"
                },
                "thickness_factor": 1,
                "directed": 0,
                "styles": {},
                "heat": 0
              },
              {
                "id": "1995",
                "start": "n12",
                "end": "n62",
                "properties": {
                  "e_relation": "common_consecration"
                },
                "thickness_factor": 1,
                "directed": 0,
                "styles": {},
                "heat": 0
              },
              {
                "id": "1996",
                "start": "n12",
                "end": "n86",
                "properties": {
                  "weight": 12,
                  "e_relation": "common_consecration"
                },
                "thickness_factor": 1,
                "directed": 0,
                "styles": {},
                "heat": 0
              },
              {
                "id": "2008",
                "start": "n12",
                "end": "n94",
                "properties": {
                  "weight": 5,
                  "e_relation": "common_consecration"
                },
                "thickness_factor": 1,
                "directed": 0,
                "styles": {},
                "heat": 0
              },
              {
                "id": "2013",
                "start": "n12",
                "end": "n134",
                "properties": {
                  "weight": 2,
                  "e_relation": "common_consecration"
                },
                "thickness_factor": 1,
                "directed": 0,
                "styles": {},
                "heat": 0
              },
              {
                "id": "2017",
                "start": "n13",
                "end": "n5",
                "properties": {
                  "weight": 2,
                  "e_relation": "common_consecration"
                },
                "thickness_factor": 1,
                "directed": 0,
                "styles": {},
                "heat": 0
              },
              {
                "id": "2019",
                "start": "n13",
                "end": "n55",
                "properties": {
                  "weight": 3,
                  "e_relation": "common_consecration"
                },
                "thickness_factor": 1,
                "directed": 0,
                "styles": {},
                "heat": 0
              },
              {
                "id": "2022",
                "start": "n13",
                "end": "n56",
                "properties": {
                  "e_relation": "common_consecration"
                },
                "thickness_factor": 1,
                "directed": 0,
                "styles": {},
                "heat": 0
              },
              {
                "id": "2023",
                "start": "n13",
                "end": "n63",
                "properties": {
                  "e_relation": "common_consecration"
                },
                "thickness_factor": 1,
                "directed": 0,
                "styles": {},
                "heat": 0
              },
              {
                "id": "2024",
                "start": "n13",
                "end": "n133",
                "properties": {
                  "weight": 2,
                  "e_relation": "common_consecration"
                },
                "thickness_factor": 1,
                "directed": 0,
                "styles": {},
                "heat": 0
              },
              {
                "id": "2029",
                "start": "n14",
                "end": "n5",
                "properties": {
                  "e_relation": "co_consecrator"
                },
                "color": "darkmagenta",
                "thickness_factor": 1,
                "directed": 0,
                "styles": {},
                "label": "co consecrator",
                "heat": 0
              },
              {
                "id": "2030",
                "start": "n14",
                "end": "n7",
                "properties": {
                  "weight": 3,
                  "e_relation": "common_consecration"
                },
                "thickness_factor": 1,
                "directed": 0,
                "styles": {},
                "heat": 0
              },
              {
                "id": "2033",
                "start": "n14",
                "end": "n15",
                "properties": {
                  "weight": 3,
                  "e_relation": "common_consecration"
                },
                "thickness_factor": 1,
                "directed": 0,
                "styles": {},
                "heat": 0
              },
              {
                "id": "2036",
                "start": "n14",
                "end": "n16",
                "properties": {
                  "weight": 2,
                  "e_relation": "common_consecration"
                },
                "thickness_factor": 1,
                "directed": 0,
                "styles": {},
                "heat": 0
              },
              {
                "id": "2038",
                "start": "n14",
                "end": "n28",
                "properties": {
                  "e_relation": "consecrator"
                },
                "color": "darkslateblue",
                "thickness_factor": 1,
                "directed": 1,
                "styles": {},
                "label": "consecrator",
                "heat": 0
              },
              {
                "id": "2039",
                "start": "n14",
                "end": "n36",
                "properties": {
                  "weight": 3,
                  "e_relation": "common_consecration"
                },
                "thickness_factor": 1,
                "directed": 0,
                "styles": {},
                "heat": 0
              },
              {
                "id": "2042",
                "start": "n14",
                "end": "n37",
                "properties": {
                  "weight": 6,
                  "e_relation": "common_consecration"
                },
                "thickness_factor": 1,
                "directed": 0,
                "styles": {},
                "heat": 0
              },
              {
                "id": "2048",
                "start": "n14",
                "end": "n38",
                "properties": {
                  "weight": 2,
                  "e_relation": "common_consecration"
                },
                "thickness_factor": 1,
                "directed": 0,
                "styles": {},
                "heat": 0
              },
              {
                "id": "2050",
                "start": "n14",
                "end": "n59",
                "properties": {
                  "weight": 3,
                  "e_relation": "common_consecration"
                },
                "thickness_factor": 1,
                "directed": 0,
                "styles": {},
                "heat": 0
              },
              {
                "id": "2053",
                "start": "n14",
                "end": "n65",
                "properties": {
                  "e_relation": "common_consecration"
                },
                "thickness_factor": 1,
                "directed": 0,
                "styles": {},
                "heat": 0
              },
              {
                "id": "2054",
                "start": "n14",
                "end": "n71",
                "properties": {
                  "weight": 5,
                  "e_relation": "common_consecration"
                },
                "thickness_factor": 1,
                "directed": 0,
                "styles": {},
                "heat": 0
              },
              {
                "id": "2059",
                "start": "n14",
                "end": "n83",
                "properties": {
                  "e_relation": "consecrator"
                },
                "color": "darkslateblue",
                "thickness_factor": 1,
                "directed": 1,
                "styles": {},
                "label": "consecrator",
                "heat": 0
              },
              {
                "id": "2060",
                "start": "n14",
                "end": "n84",
                "properties": {
                  "e_relation": "common_consecration"
                },
                "thickness_factor": 1,
                "directed": 0,
                "styles": {},
                "heat": 0
              },
              {
                "id": "2061",
                "start": "n14",
                "end": "n89",
                "properties": {
                  "e_relation": "common_consecration"
                },
                "thickness_factor": 1,
                "directed": 0,
                "styles": {},
                "heat": 0
              },
              {
                "id": "2062",
                "start": "n14",
                "end": "n92",
                "properties": {
                  "weight": 2,
                  "e_relation": "common_consecration"
                },
                "thickness_factor": 1,
                "directed": 0,
                "styles": {},
                "heat": 0
              },
              {
                "id": "2070",
                "start": "n14",
                "end": "n143",
                "properties": {
                  "e_relation": "consecrator"
                },
                "color": "darkslateblue",
                "thickness_factor": 1,
                "directed": 1,
                "styles": {},
                "label": "consecrator",
                "heat": 0
              },
              {
                "id": "2071",
                "start": "n14",
                "end": "n144",
                "properties": {
                  "e_relation": "consecrator"
                },
                "color": "darkslateblue",
                "thickness_factor": 1,
                "directed": 1,
                "styles": {},
                "label": "consecrator",
                "heat": 0
              },
              {
                "id": "2072",
                "start": "n15",
                "end": "n5",
                "properties": {
                  "e_relation": "common_consecration"
                },
                "thickness_factor": 1,
                "directed": 0,
                "styles": {},
                "heat": 0
              },
              {
                "id": "2075",
                "start": "n15",
                "end": "n16",
                "properties": {
                  "weight": 2,
                  "e_relation": "common_consecration"
                },
                "thickness_factor": 1,
                "directed": 0,
                "styles": {},
                "heat": 0
              },
              {
                "id": "2077",
                "start": "n16",
                "end": "n4",
                "properties": {
                  "e_relation": "common_consecration"
                },
                "thickness_factor": 1,
                "directed": 0,
                "styles": {},
                "heat": 0
              },
              {
                "id": "2078",
                "start": "n16",
                "end": "n9",
                "properties": {
                  "weight": 2,
                  "e_relation": "common_consecration"
                },
                "thickness_factor": 1,
                "directed": 0,
                "styles": {},
                "heat": 0
              },
              {
                "id": "2084",
                "start": "n16",
                "end": "n19",
                "properties": {
                  "weight": 2,
                  "e_relation": "common_consecration"
                },
                "thickness_factor": 1,
                "directed": 0,
                "styles": {},
                "heat": 0
              },
              {
                "id": "2086",
                "start": "n16",
                "end": "n30",
                "properties": {
                  "e_relation": "common_consecration"
                },
                "thickness_factor": 1,
                "directed": 0,
                "styles": {},
                "heat": 0
              },
              {
                "id": "2087",
                "start": "n16",
                "end": "n45",
                "properties": {
                  "weight": 2,
                  "e_relation": "common_consecration"
                },
                "thickness_factor": 1,
                "directed": 0,
                "styles": {},
                "heat": 0
              },
              {
                "id": "2089",
                "start": "n16",
                "end": "n86",
                "properties": {
                  "weight": 3,
                  "e_relation": "common_consecration"
                },
                "thickness_factor": 1,
                "directed": 0,
                "styles": {},
                "heat": 0
              },
              {
                "id": "2092",
                "start": "n16",
                "end": "n94",
                "properties": {
                  "e_relation": "common_consecration"
                },
                "thickness_factor": 1,
                "directed": 0,
                "styles": {},
                "heat": 0
              },
              {
                "id": "2094",
                "start": "n16",
                "end": "n146",
                "properties": {
                  "e_relation": "consecrator"
                },
                "color": "darkslateblue",
                "thickness_factor": 1,
                "directed": 1,
                "styles": {},
                "label": "consecrator",
                "heat": 0
              },
              {
                "id": "2095",
                "start": "n16",
                "end": "n158",
                "properties": {
                  "e_relation": "co_consecrator"
                },
                "color": "darkmagenta",
                "thickness_factor": 1,
                "directed": 0,
                "styles": {},
                "label": "co consecrator",
                "heat": 0
              },
              {
                "id": "2096",
                "start": "n17",
                "end": "n5",
                "properties": {
                  "e_relation": "common_consecration"
                },
                "thickness_factor": 1,
                "directed": 0,
                "styles": {},
                "heat": 0
              },
              {
                "id": "2097",
                "start": "n17",
                "end": "n7",
                "properties": {
                  "e_relation": "common_consecration"
                },
                "thickness_factor": 1,
                "directed": 0,
                "styles": {},
                "heat": 0
              },
              {
                "id": "2098",
                "start": "n17",
                "end": "n70",
                "properties": {
                  "e_relation": "common_consecration"
                },
                "thickness_factor": 1,
                "directed": 0,
                "styles": {},
                "heat": 0
              },
              {
                "id": "2099",
                "start": "n18",
                "end": "n3",
                "properties": {
                  "weight": 10,
                  "e_relation": "common_consecration"
                },
                "thickness_factor": 1,
                "directed": 0,
                "styles": {},
                "heat": 0
              },
              {
                "id": "2109",
                "start": "n18",
                "end": "n36",
                "properties": {
                  "e_relation": "co_consecrator"
                },
                "color": "darkmagenta",
                "thickness_factor": 1,
                "directed": 0,
                "styles": {},
                "label": "co consecrator",
                "heat": 0
              },
              {
                "id": "2110",
                "start": "n18",
                "end": "n49",
                "properties": {
                  "e_relation": "co_consecrator"
                },
                "color": "darkmagenta",
                "thickness_factor": 1,
                "directed": 0,
                "styles": {},
                "label": "co consecrator",
                "heat": 0
              },
              {
                "id": "2111",
                "start": "n18",
                "end": "n89",
                "properties": {
                  "e_relation": "co_consecrator"
                },
                "color": "darkmagenta",
                "thickness_factor": 1,
                "directed": 0,
                "styles": {},
                "label": "co consecrator",
                "heat": 0
              },
              {
                "id": "2112",
                "start": "n18",
                "end": "n96",
                "properties": {
                  "e_relation": "common_consecration"
                },
                "thickness_factor": 1,
                "directed": 0,
                "styles": {},
                "heat": 0
              },
              {
                "id": "2123",
                "start": "n20",
                "end": "n23",
                "properties": {
                  "e_relation": "common_consecration"
                },
                "thickness_factor": 1,
                "directed": 0,
                "styles": {},
                "heat": 0
              },
              {
                "id": "2125",
                "start": "n21",
                "end": "n3",
                "properties": {
                  "e_relation": "common_consecration"
                },
                "thickness_factor": 1,
                "directed": 0,
                "styles": {},
                "heat": 0
              },
              {
                "id": "2126",
                "start": "n22",
                "end": "n4",
                "properties": {
                  "e_relation": "common_consecration"
                },
                "thickness_factor": 1,
                "directed": 0,
                "styles": {},
                "heat": 0
              },
              {
                "id": "2128",
                "start": "n23",
                "end": "n70",
                "properties": {
                  "e_relation": "common_consecration"
                },
                "thickness_factor": 1,
                "directed": 0,
                "styles": {},
                "heat": 0
              },
              {
                "id": "2129",
                "start": "n23",
                "end": "n87",
                "properties": {
                  "e_relation": "co_consecrator"
                },
                "color": "darkmagenta",
                "thickness_factor": 1,
                "directed": 0,
                "styles": {},
                "label": "co consecrator",
                "heat": 0
              },
              {
                "id": "2130",
                "start": "n24",
                "end": "n30",
                "properties": {
                  "weight": 3,
                  "e_relation": "common_consecration"
                },
                "thickness_factor": 1,
                "directed": 0,
                "styles": {},
                "heat": 0
              },
              {
                "id": "2136",
                "start": "n24",
                "end": "n131",
                "properties": {
                  "e_relation": "consecrator"
                },
                "color": "darkslateblue",
                "thickness_factor": 1,
                "directed": 1,
                "styles": {},
                "label": "consecrator",
                "heat": 0
              },
              {
                "id": "2138",
                "start": "n25",
                "end": "n77",
                "properties": {
                  "e_relation": "common_consecration"
                },
                "thickness_factor": 1,
                "directed": 0,
                "styles": {},
                "heat": 0
              },
              {
                "id": "2139",
                "start": "n25",
                "end": "n120",
                "properties": {
                  "e_relation": "consecrator"
                },
                "color": "darkslateblue",
                "thickness_factor": 1,
                "directed": 1,
                "styles": {},
                "label": "consecrator",
                "heat": 0
              },
              {
                "id": "2140",
                "start": "n28",
                "end": "n4",
                "properties": {
                  "e_relation": "common_consecration"
                },
                "thickness_factor": 1,
                "directed": 0,
                "styles": {},
                "heat": 0
              },
              {
                "id": "2141",
                "start": "n28",
                "end": "n29",
                "properties": {
                  "e_relation": "common_consecration"
                },
                "thickness_factor": 1,
                "directed": 0,
                "styles": {},
                "heat": 0
              },
              {
                "id": "2142",
                "start": "n28",
                "end": "n30",
                "properties": {
                  "e_relation": "common_consecration"
                },
                "thickness_factor": 1,
                "directed": 0,
                "styles": {},
                "heat": 0
              },
              {
                "id": "2143",
                "start": "n29",
                "end": "n6",
                "properties": {
                  "weight": 3,
                  "e_relation": "common_consecration"
                },
                "thickness_factor": 1,
                "directed": 0,
                "styles": {},
                "heat": 0
              },
              {
                "id": "2147",
                "start": "n29",
                "end": "n30",
                "properties": {
                  "e_relation": "common_consecration"
                },
                "thickness_factor": 1,
                "directed": 0,
                "styles": {},
                "heat": 0
              },
              {
                "id": "2148",
                "start": "n29",
                "end": "n31",
                "properties": {
                  "weight": 2,
                  "e_relation": "common_consecration"
                },
                "thickness_factor": 1,
                "directed": 0,
                "styles": {},
                "heat": 0
              },
              {
                "id": "2155",
                "start": "n29",
                "end": "n148",
                "properties": {
                  "e_relation": "consecrator"
                },
                "color": "darkslateblue",
                "thickness_factor": 1,
                "directed": 1,
                "styles": {},
                "label": "consecrator",
                "heat": 0
              },
              {
                "id": "2162",
                "start": "n32",
                "end": "n66",
                "properties": {
                  "e_relation": "common_consecration"
                },
                "thickness_factor": 1,
                "directed": 0,
                "styles": {},
                "heat": 0
              },
              {
                "id": "2163",
                "start": "n33",
                "end": "n9",
                "properties": {
                  "e_relation": "common_consecration"
                },
                "thickness_factor": 1,
                "directed": 0,
                "styles": {},
                "heat": 0
              },
              {
                "id": "2165",
                "start": "n34",
                "end": "n35",
                "properties": {
                  "e_relation": "common_consecration"
                },
                "thickness_factor": 1,
                "directed": 0,
                "styles": {},
                "heat": 0
              },
              {
                "id": "2166",
                "start": "n34",
                "end": "n39",
                "properties": {
                  "e_relation": "common_consecration"
                },
                "thickness_factor": 1,
                "directed": 0,
                "styles": {},
                "heat": 0
              },
              {
                "id": "2167",
                "start": "n34",
                "end": "n67",
                "properties": {
                  "e_relation": "common_consecration"
                },
                "thickness_factor": 1,
                "directed": 0,
                "styles": {},
                "heat": 0
              },
              {
                "id": "2173",
                "start": "n36",
                "end": "n5",
                "properties": {
                  "weight": 3,
                  "e_relation": "common_consecration"
                },
                "thickness_factor": 1,
                "directed": 0,
                "styles": {},
                "heat": 0
              },
              {
                "id": "2185",
                "start": "n37",
                "end": "n28",
                "properties": {
                  "e_relation": "co_consecrator"
                },
                "color": "darkmagenta",
                "thickness_factor": 1,
                "directed": 0,
                "styles": {},
                "label": "co consecrator",
                "heat": 0
              },
              {
                "id": "2186",
                "start": "n37",
                "end": "n29",
                "properties": {
                  "e_relation": "co_consecrator"
                },
                "color": "darkmagenta",
                "thickness_factor": 1,
                "directed": 0,
                "styles": {},
                "label": "co consecrator",
                "heat": 0
              },
              {
                "id": "2187",
                "start": "n37",
                "end": "n38",
                "properties": {
                  "weight": 2,
                  "e_relation": "common_consecration"
                },
                "thickness_factor": 1,
                "directed": 0,
                "styles": {},
                "heat": 0
              },
              {
                "id": "2189",
                "start": "n37",
                "end": "n39",
                "properties": {
                  "e_relation": "common_consecration"
                },
                "thickness_factor": 1,
                "directed": 0,
                "styles": {},
                "heat": 0
              },
              {
                "id": "2190",
                "start": "n37",
                "end": "n63",
                "properties": {
                  "e_relation": "common_consecration"
                },
                "thickness_factor": 1,
                "directed": 0,
                "styles": {},
                "heat": 0
              },
              {
                "id": "2191",
                "start": "n37",
                "end": "n71",
                "properties": {
                  "weight": 4,
                  "e_relation": "common_consecration"
                },
                "thickness_factor": 1,
                "directed": 0,
                "styles": {},
                "heat": 0
              },
              {
                "id": "2195",
                "start": "n37",
                "end": "n101",
                "properties": {
                  "e_relation": "consecrator"
                },
                "color": "darkslateblue",
                "thickness_factor": 1,
                "directed": 1,
                "styles": {},
                "label": "consecrator",
                "heat": 0
              },
              {
                "id": "2196",
                "start": "n37",
                "end": "n122",
                "properties": {
                  "e_relation": "consecrator"
                },
                "color": "darkslateblue",
                "thickness_factor": 1,
                "directed": 1,
                "styles": {},
                "label": "consecrator",
                "heat": 0
              },
              {
                "id": "2197",
                "start": "n37",
                "end": "n136",
                "properties": {
                  "e_relation": "consecrator"
                },
                "color": "darkslateblue",
                "thickness_factor": 1,
                "directed": 1,
                "styles": {},
                "label": "consecrator",
                "heat": 0
              },
              {
                "id": "2202",
                "start": "n38",
                "end": "n64",
                "properties": {
                  "e_relation": "common_consecration"
                },
                "thickness_factor": 1,
                "directed": 0,
                "styles": {},
                "heat": 0
              },
              {
                "id": "2203",
                "start": "n38",
                "end": "n67",
                "properties": {
                  "weight": 2,
                  "e_relation": "common_consecration"
                },
                "thickness_factor": 1,
                "directed": 0,
                "styles": {},
                "heat": 0
              },
              {
                "id": "2205",
                "start": "n38",
                "end": "n95",
                "properties": {
                  "weight": 2,
                  "e_relation": "common_consecration"
                },
                "thickness_factor": 1,
                "directed": 0,
                "styles": {},
                "heat": 0
              },
              {
                "id": "2207",
                "start": "n39",
                "end": "n7",
                "properties": {
                  "weight": 3,
                  "e_relation": "common_consecration"
                },
                "thickness_factor": 1,
                "directed": 0,
                "styles": {},
                "heat": 0
              },
              {
                "id": "2210",
                "start": "n39",
                "end": "n8",
                "properties": {
                  "e_relation": "common_consecration"
                },
                "thickness_factor": 1,
                "directed": 0,
                "styles": {},
                "heat": 0
              },
              {
                "id": "2213",
                "start": "n39",
                "end": "n67",
                "properties": {
                  "weight": 2,
                  "e_relation": "common_consecration"
                },
                "thickness_factor": 1,
                "directed": 0,
                "styles": {},
                "heat": 0
              },
              {
                "id": "2215",
                "start": "n39",
                "end": "n68",
                "properties": {
                  "e_relation": "common_consecration"
                },
                "thickness_factor": 1,
                "directed": 0,
                "styles": {},
                "heat": 0
              },
              {
                "id": "2216",
                "start": "n39",
                "end": "n72",
                "properties": {
                  "e_relation": "common_consecration"
                },
                "thickness_factor": 1,
                "directed": 0,
                "styles": {},
                "heat": 0
              },
              {
                "id": "2219",
                "start": "n41",
                "end": "n43",
                "properties": {
                  "e_relation": "common_consecration"
                },
                "thickness_factor": 1,
                "directed": 0,
                "styles": {},
                "heat": 0
              },
              {
                "id": "2221",
                "start": "n42",
                "end": "n5",
                "properties": {
                  "e_relation": "common_consecration"
                },
                "thickness_factor": 1,
                "directed": 0,
                "styles": {},
                "heat": 0
              },
              {
                "id": "2225",
                "start": "n43",
                "end": "n137",
                "properties": {
                  "e_relation": "co_consecrator"
                },
                "color": "darkmagenta",
                "thickness_factor": 1,
                "directed": 0,
                "styles": {},
                "label": "co consecrator",
                "heat": 0
              },
              {
                "id": "2227",
                "start": "n44",
                "end": "n51",
                "properties": {
                  "weight": 2,
                  "e_relation": "common_consecration"
                },
                "thickness_factor": 1,
                "directed": 0,
                "styles": {},
                "heat": 0
              },
              {
                "id": "2229",
                "start": "n44",
                "end": "n93",
                "properties": {
                  "e_relation": "common_consecration"
                },
                "thickness_factor": 1,
                "directed": 0,
                "styles": {},
                "heat": 0
              },
              {
                "id": "2230",
                "start": "n44",
                "end": "n97",
                "properties": {
                  "e_relation": "common_consecration"
                },
                "thickness_factor": 1,
                "directed": 0,
                "styles": {},
                "heat": 0
              },
              {
                "id": "2233",
                "start": "n44",
                "end": "n145",
                "properties": {
                  "e_relation": "co_consecrator"
                },
                "color": "darkmagenta",
                "thickness_factor": 1,
                "directed": 0,
                "styles": {},
                "label": "co consecrator",
                "heat": 0
              },
              {
                "id": "2234",
                "start": "n45",
                "end": "n5",
                "properties": {
                  "e_relation": "common_consecration"
                },
                "thickness_factor": 1,
                "directed": 0,
                "styles": {},
                "heat": 0
              },
              {
                "id": "2242",
                "start": "n45",
                "end": "n86",
                "properties": {
                  "weight": 2,
                  "e_relation": "common_consecration"
                },
                "thickness_factor": 1,
                "directed": 0,
                "styles": {},
                "heat": 0
              },
              {
                "id": "2244",
                "start": "n45",
                "end": "n94",
                "properties": {
                  "weight": 3,
                  "e_relation": "common_consecration"
                },
                "thickness_factor": 1,
                "directed": 0,
                "styles": {},
                "heat": 0
              },
              {
                "id": "2252",
                "start": "n48",
                "end": "n50",
                "properties": {
                  "weight": 6,
                  "e_relation": "common_consecration"
                },
                "thickness_factor": 1,
                "directed": 0,
                "styles": {},
                "heat": 0
              },
              {
                "id": "2258",
                "start": "n49",
                "end": "n5",
                "properties": {
                  "e_relation": "common_consecration"
                },
                "thickness_factor": 1,
                "directed": 0,
                "styles": {},
                "heat": 0
              },
              {
                "id": "2260",
                "start": "n50",
                "end": "n27",
                "properties": {
                  "e_relation": "co_consecrator"
                },
                "color": "darkmagenta",
                "thickness_factor": 1,
                "directed": 0,
                "styles": {},
                "label": "co consecrator",
                "heat": 0
              },
              {
                "id": "2267",
                "start": "n51",
                "end": "n26",
                "properties": {
                  "e_relation": "consecrator"
                },
                "color": "darkslateblue",
                "thickness_factor": 1,
                "directed": 1,
                "styles": {},
                "label": "consecrator",
                "heat": 0
              },
              {
                "id": "2270",
                "start": "n51",
                "end": "n92",
                "properties": {
                  "weight": 3,
                  "e_relation": "common_consecration"
                },
                "thickness_factor": 1,
                "directed": 0,
                "styles": {},
                "heat": 0
              },
              {
                "id": "2273",
                "start": "n51",
                "end": "n97",
                "properties": {
                  "weight": 2,
                  "e_relation": "common_consecration"
                },
                "thickness_factor": 1,
                "directed": 0,
                "styles": {},
                "heat": 0
              },
              {
                "id": "2275",
                "start": "n51",
                "end": "n145",
                "properties": {
                  "e_relation": "co_consecrator"
                },
                "color": "darkmagenta",
                "thickness_factor": 1,
                "directed": 0,
                "styles": {},
                "label": "co consecrator",
                "heat": 0
              },
              {
                "id": "2276",
                "start": "n52",
                "end": "n95",
                "properties": {
                  "e_relation": "common_consecration"
                },
                "thickness_factor": 1,
                "directed": 0,
                "styles": {},
                "heat": 0
              },
              {
                "id": "2288",
                "start": "n55",
                "end": "n56",
                "properties": {
                  "weight": 2,
                  "e_relation": "common_consecration"
                },
                "thickness_factor": 1,
                "directed": 0,
                "styles": {},
                "heat": 0
              },
              {
                "id": "2293",
                "start": "n57",
                "end": "n58",
                "properties": {
                  "e_relation": "common_consecration"
                },
                "thickness_factor": 1,
                "directed": 0,
                "styles": {},
                "heat": 0
              },
              {
                "id": "2294",
                "start": "n57",
                "end": "n151",
                "properties": {
                  "e_relation": "consecrator"
                },
                "color": "darkslateblue",
                "thickness_factor": 1,
                "directed": 1,
                "styles": {},
                "label": "consecrator",
                "heat": 0
              },
              {
                "id": "2297",
                "start": "n58",
                "end": "n151",
                "properties": {
                  "e_relation": "co_consecrator"
                },
                "color": "darkmagenta",
                "thickness_factor": 1,
                "directed": 0,
                "styles": {},
                "label": "co consecrator",
                "heat": 0
              },
              {
                "id": "2305",
                "start": "n59",
                "end": "n63",
                "properties": {
                  "e_relation": "common_consecration"
                },
                "thickness_factor": 1,
                "directed": 0,
                "styles": {},
                "heat": 0
              },
              {
                "id": "2306",
                "start": "n59",
                "end": "n103",
                "properties": {
                  "e_relation": "consecrator"
                },
                "color": "darkslateblue",
                "thickness_factor": 1,
                "directed": 1,
                "styles": {},
                "label": "consecrator",
                "heat": 0
              },
              {
                "id": "2307",
                "start": "n60",
                "end": "n73",
                "properties": {
                  "e_relation": "common_consecration"
                },
                "thickness_factor": 1,
                "directed": 0,
                "styles": {},
                "heat": 0
              },
              {
                "id": "2309",
                "start": "n60",
                "end": "n132",
                "properties": {
                  "e_relation": "co_consecrator"
                },
                "color": "darkmagenta",
                "thickness_factor": 1,
                "directed": 0,
                "styles": {},
                "label": "co consecrator",
                "heat": 0
              },
              {
                "id": "2311",
                "start": "n61",
                "end": "n48",
                "properties": {
                  "e_relation": "co_consecrator"
                },
                "color": "darkmagenta",
                "thickness_factor": 1,
                "directed": 0,
                "styles": {},
                "label": "co consecrator",
                "heat": 0
              },
              {
                "id": "2312",
                "start": "n61",
                "end": "n68",
                "properties": {
                  "weight": 16,
                  "e_relation": "common_consecration"
                },
                "thickness_factor": 1,
                "directed": 0,
                "styles": {},
                "heat": 0
              },
              {
                "id": "2328",
                "start": "n61",
                "end": "n70",
                "properties": {
                  "e_relation": "co_consecrator"
                },
                "color": "darkmagenta",
                "thickness_factor": 1,
                "directed": 0,
                "styles": {},
                "label": "co consecrator",
                "heat": 0
              },
              {
                "id": "2329",
                "start": "n61",
                "end": "n80",
                "properties": {
                  "weight": 2,
                  "e_relation": "common_consecration"
                },
                "thickness_factor": 1,
                "directed": 0,
                "styles": {},
                "heat": 0
              },
              {
                "id": "2331",
                "start": "n61",
                "end": "n85",
                "properties": {
                  "e_relation": "common_consecration"
                },
                "thickness_factor": 1,
                "directed": 0,
                "styles": {},
                "heat": 0
              },
              {
                "id": "2332",
                "start": "n61",
                "end": "n106",
                "properties": {
                  "e_relation": "co_consecrator"
                },
                "color": "darkmagenta",
                "thickness_factor": 1,
                "directed": 0,
                "styles": {},
                "label": "co consecrator",
                "heat": 0
              },
              {
                "id": "2333",
                "start": "n61",
                "end": "n154",
                "properties": {
                  "e_relation": "co_consecrator"
                },
                "color": "darkmagenta",
                "thickness_factor": 1,
                "directed": 0,
                "styles": {},
                "label": "co consecrator",
                "heat": 0
              },
              {
                "id": "2338",
                "start": "n63",
                "end": "n29",
                "properties": {
                  "e_relation": "co_consecrator"
                },
                "color": "darkmagenta",
                "thickness_factor": 1,
                "directed": 0,
                "styles": {},
                "label": "co consecrator",
                "heat": 0
              },
              {
                "id": "2341",
                "start": "n63",
                "end": "n68",
                "properties": {
                  "e_relation": "common_consecration"
                },
                "thickness_factor": 1,
                "directed": 0,
                "styles": {},
                "heat": 0
              },
              {
                "id": "2344",
                "start": "n64",
                "end": "n65",
                "properties": {
                  "e_relation": "common_consecration"
                },
                "thickness_factor": 1,
                "directed": 0,
                "styles": {},
                "heat": 0
              },
              {
                "id": "2345",
                "start": "n64",
                "end": "n67",
                "properties": {
                  "weight": 2,
                  "e_relation": "common_consecration"
                },
                "thickness_factor": 1,
                "directed": 0,
                "styles": {},
                "heat": 0
              },
              {
                "id": "2347",
                "start": "n64",
                "end": "n72",
                "properties": {
                  "weight": 2,
                  "e_relation": "common_consecration"
                },
                "thickness_factor": 1,
                "directed": 0,
                "styles": {},
                "heat": 0
              },
              {
                "id": "2364",
                "start": "n68",
                "end": "n1",
                "properties": {
                  "e_relation": "co_consecrator"
                },
                "color": "darkmagenta",
                "thickness_factor": 1,
                "directed": 0,
                "styles": {},
                "label": "co consecrator",
                "heat": 0
              },
              {
                "id": "2365",
                "start": "n68",
                "end": "n3",
                "properties": {
                  "e_relation": "co_consecrator"
                },
                "color": "darkmagenta",
                "thickness_factor": 1,
                "directed": 0,
                "styles": {},
                "label": "co consecrator",
                "heat": 0
              },
              {
                "id": "2366",
                "start": "n68",
                "end": "n7",
                "properties": {
                  "e_relation": "common_consecration"
                },
                "thickness_factor": 1,
                "directed": 0,
                "styles": {},
                "heat": 0
              },
              {
                "id": "2368",
                "start": "n68",
                "end": "n48",
                "properties": {
                  "e_relation": "co_consecrator"
                },
                "color": "darkmagenta",
                "thickness_factor": 1,
                "directed": 0,
                "styles": {},
                "label": "co consecrator",
                "heat": 0
              },
              {
                "id": "2369",
                "start": "n68",
                "end": "n59",
                "properties": {
                  "e_relation": "co_consecrator"
                },
                "color": "darkmagenta",
                "thickness_factor": 1,
                "directed": 0,
                "styles": {},
                "label": "co consecrator",
                "heat": 0
              },
              {
                "id": "2387",
                "start": "n68",
                "end": "n69",
                "properties": {
                  "e_relation": "co_consecrator"
                },
                "color": "darkmagenta",
                "thickness_factor": 1,
                "directed": 0,
                "styles": {},
                "label": "co consecrator",
                "heat": 0
              },
              {
                "id": "2388",
                "start": "n68",
                "end": "n70",
                "properties": {
                  "e_relation": "common_consecration"
                },
                "thickness_factor": 1,
                "directed": 0,
                "styles": {},
                "heat": 0
              },
              {
                "id": "2389",
                "start": "n68",
                "end": "n79",
                "properties": {
                  "e_relation": "co_consecrator"
                },
                "color": "darkmagenta",
                "thickness_factor": 1,
                "directed": 0,
                "styles": {},
                "label": "co consecrator",
                "heat": 0
              },
              {
                "id": "2390",
                "start": "n68",
                "end": "n99",
                "properties": {
                  "e_relation": "co_consecrator"
                },
                "color": "darkmagenta",
                "thickness_factor": 1,
                "directed": 0,
                "styles": {},
                "label": "co consecrator",
                "heat": 0
              },
              {
                "id": "2398",
                "start": "n68",
                "end": "n106",
                "properties": {
                  "e_relation": "co_consecrator"
                },
                "color": "darkmagenta",
                "thickness_factor": 1,
                "directed": 0,
                "styles": {},
                "label": "co consecrator",
                "heat": 0
              },
              {
                "id": "2399",
                "start": "n68",
                "end": "n112",
                "properties": {
                  "e_relation": "co_consecrator"
                },
                "color": "darkmagenta",
                "thickness_factor": 1,
                "directed": 0,
                "styles": {},
                "label": "co consecrator",
                "heat": 0
              },
              {
                "id": "2400",
                "start": "n68",
                "end": "n140",
                "properties": {
                  "e_relation": "co_consecrator"
                },
                "color": "darkmagenta",
                "thickness_factor": 1,
                "directed": 0,
                "styles": {},
                "label": "co consecrator",
                "heat": 0
              },
              {
                "id": "2401",
                "start": "n68",
                "end": "n141",
                "properties": {
                  "e_relation": "co_consecrator"
                },
                "color": "darkmagenta",
                "thickness_factor": 1,
                "directed": 0,
                "styles": {},
                "label": "co consecrator",
                "heat": 0
              },
              {
                "id": "2402",
                "start": "n68",
                "end": "n154",
                "properties": {
                  "e_relation": "co_consecrator"
                },
                "color": "darkmagenta",
                "thickness_factor": 1,
                "directed": 0,
                "styles": {},
                "label": "co consecrator",
                "heat": 0
              },
              {
                "id": "2404",
                "start": "n69",
                "end": "n147",
                "properties": {
                  "e_relation": "consecrator"
                },
                "color": "darkslateblue",
                "thickness_factor": 1,
                "directed": 1,
                "styles": {},
                "label": "consecrator",
                "heat": 0
              },
              {
                "id": "2409",
                "start": "n70",
                "end": "n87",
                "properties": {
                  "e_relation": "consecrator"
                },
                "color": "darkslateblue",
                "thickness_factor": 1,
                "directed": 1,
                "styles": {},
                "label": "consecrator",
                "heat": 0
              },
              {
                "id": "2415",
                "start": "n71",
                "end": "n28",
                "properties": {
                  "e_relation": "co_consecrator"
                },
                "color": "darkmagenta",
                "thickness_factor": 1,
                "directed": 0,
                "styles": {},
                "label": "co consecrator",
                "heat": 0
              },
              {
                "id": "2423",
                "start": "n72",
                "end": "n67",
                "properties": {
                  "e_relation": "co_consecrator"
                },
                "color": "darkmagenta",
                "thickness_factor": 1,
                "directed": 0,
                "styles": {},
                "label": "co consecrator",
                "heat": 0
              },
              {
                "id": "2425",
                "start": "n73",
                "end": "n82",
                "properties": {
                  "weight": 2,
                  "e_relation": "common_consecration"
                },
                "thickness_factor": 1,
                "directed": 0,
                "styles": {},
                "heat": 0
              },
              {
                "id": "2427",
                "start": "n73",
                "end": "n85",
                "properties": {
                  "weight": 3,
                  "e_relation": "common_consecration"
                },
                "thickness_factor": 1,
                "directed": 0,
                "styles": {},
                "heat": 0
              },
              {
                "id": "2433",
                "start": "n74",
                "end": "n97",
                "properties": {
                  "e_relation": "common_consecration"
                },
                "thickness_factor": 1,
                "directed": 0,
                "styles": {},
                "heat": 0
              },
              {
                "id": "2436",
                "start": "n76",
                "end": "n138",
                "properties": {
                  "e_relation": "consecrator"
                },
                "color": "darkslateblue",
                "thickness_factor": 1,
                "directed": 1,
                "styles": {},
                "label": "consecrator",
                "heat": 0
              },
              {
                "id": "2438",
                "start": "n77",
                "end": "n99",
                "properties": {
                  "weight": 2,
                  "e_relation": "common_consecration"
                },
                "thickness_factor": 1,
                "directed": 0,
                "styles": {},
                "heat": 0
              },
              {
                "id": "2440",
                "start": "n77",
                "end": "n135",
                "properties": {
                  "e_relation": "consecrator"
                },
                "color": "darkslateblue",
                "thickness_factor": 1,
                "directed": 1,
                "styles": {},
                "label": "consecrator",
                "heat": 0
              },
              {
                "id": "2448",
                "start": "n81",
                "end": "n57",
                "properties": {
                  "e_relation": "co_consecrator"
                },
                "color": "darkmagenta",
                "thickness_factor": 1,
                "directed": 0,
                "styles": {},
                "label": "co consecrator",
                "heat": 0
              },
              {
                "id": "2450",
                "start": "n83",
                "end": "n152",
                "properties": {
                  "e_relation": "consecrator"
                },
                "color": "darkslateblue",
                "thickness_factor": 1,
                "directed": 1,
                "styles": {},
                "label": "consecrator",
                "heat": 0
              },
              {
                "id": "2457",
                "start": "n86",
                "end": "n9",
                "properties": {
                  "weight": 5,
                  "e_relation": "common_consecration"
                },
                "thickness_factor": 1,
                "directed": 0,
                "styles": {},
                "heat": 0
              },
              {
                "id": "2479",
                "start": "n86",
                "end": "n94",
                "properties": {
                  "weight": 3,
                  "e_relation": "common_consecration"
                },
                "thickness_factor": 1,
                "directed": 0,
                "styles": {},
                "heat": 0
              },
              {
                "id": "2483",
                "start": "n88",
                "end": "n75",
                "properties": {
                  "e_relation": "consecrator"
                },
                "color": "darkslateblue",
                "thickness_factor": 1,
                "directed": 1,
                "styles": {},
                "label": "consecrator",
                "heat": 0
              },
              {
                "id": "2494",
                "start": "n92",
                "end": "n26",
                "properties": {
                  "e_relation": "co_consecrator"
                },
                "color": "darkmagenta",
                "thickness_factor": 1,
                "directed": 0,
                "styles": {},
                "label": "co consecrator",
                "heat": 0
              },
              {
                "id": "2495",
                "start": "n92",
                "end": "n44",
                "properties": {
                  "e_relation": "consecrator"
                },
                "color": "darkslateblue",
                "thickness_factor": 1,
                "directed": 1,
                "styles": {},
                "label": "consecrator",
                "heat": 0
              },
              {
                "id": "2499",
                "start": "n92",
                "end": "n93",
                "properties": {
                  "weight": 7,
                  "e_relation": "common_consecration"
                },
                "thickness_factor": 1,
                "directed": 0,
                "styles": {},
                "heat": 0
              },
              {
                "id": "2506",
                "start": "n92",
                "end": "n97",
                "properties": {
                  "e_relation": "common_consecration"
                },
                "thickness_factor": 1,
                "directed": 0,
                "styles": {},
                "heat": 0
              },
              {
                "id": "2515",
                "start": "n93",
                "end": "n97",
                "properties": {
                  "e_relation": "common_consecration"
                },
                "thickness_factor": 1,
                "directed": 0,
                "styles": {},
                "heat": 0
              },
              {
                "id": "2541",
                "start": "n95",
                "end": "n156",
                "properties": {
                  "e_relation": "consecrator"
                },
                "color": "darkslateblue",
                "thickness_factor": 1,
                "directed": 1,
                "styles": {},
                "label": "consecrator",
                "heat": 0
              },
              {
                "id": "2555",
                "start": "n99",
                "end": "n135",
                "properties": {
                  "e_relation": "co_consecrator"
                },
                "color": "darkmagenta",
                "thickness_factor": 1,
                "directed": 0,
                "styles": {},
                "label": "co consecrator",
                "heat": 0
              },
              {
                "id": "2556",
                "start": "n99",
                "end": "n155",
                "properties": {
                  "e_relation": "co_consecrator"
                },
                "color": "darkmagenta",
                "thickness_factor": 1,
                "directed": 0,
                "styles": {},
                "label": "co consecrator",
                "heat": 0
              },
              {
                "id": "2557",
                "start": "n100",
                "end": "n68",
                "properties": {
                  "weight": 7,
                  "e_relation": "common_consecration"
                },
                "thickness_factor": 1,
                "directed": 0,
                "styles": {},
                "heat": 0
              },
              {
                "id": "2564",
                "start": "n100",
                "end": "n97",
                "properties": {
                  "e_relation": "common_consecration"
                },
                "thickness_factor": 1,
                "directed": 0,
                "styles": {},
                "heat": 0
              },
              {
                "id": "2565",
                "start": "n102",
                "end": "n43",
                "properties": {
                  "e_relation": "common_consecration"
                },
                "thickness_factor": 1,
                "directed": 0,
                "styles": {},
                "heat": 0
              },
              {
                "id": "2568",
                "start": "n104",
                "end": "n91",
                "properties": {
                  "e_relation": "consecrator"
                },
                "color": "darkslateblue",
                "thickness_factor": 1,
                "directed": 1,
                "styles": {},
                "label": "consecrator",
                "heat": 0
              },
              {
                "id": "2569",
                "start": "n104",
                "end": "n95",
                "properties": {
                  "weight": 2,
                  "e_relation": "common_consecration"
                },
                "thickness_factor": 1,
                "directed": 0,
                "styles": {},
                "heat": 0
              },
              {
                "id": "2572",
                "start": "n105",
                "end": "n44",
                "properties": {
                  "e_relation": "common_consecration"
                },
                "thickness_factor": 1,
                "directed": 0,
                "styles": {},
                "heat": 0
              },
              {
                "id": "2573",
                "start": "n105",
                "end": "n93",
                "properties": {
                  "weight": 2,
                  "e_relation": "common_consecration"
                },
                "thickness_factor": 1,
                "directed": 0,
                "styles": {},
                "heat": 0
              },
              {
                "id": "2575",
                "start": "n106",
                "end": "n14",
                "properties": {
                  "e_relation": "common_consecration"
                },
                "thickness_factor": 1,
                "directed": 0,
                "styles": {},
                "heat": 0
              },
              {
                "id": "2576",
                "start": "n107",
                "end": "n41",
                "properties": {
                  "e_relation": "common_consecration"
                },
                "thickness_factor": 1,
                "directed": 0,
                "styles": {},
                "heat": 0
              },
              {
                "id": "2577",
                "start": "n107",
                "end": "n113",
                "properties": {
                  "e_relation": "common_consecration"
                },
                "thickness_factor": 1,
                "directed": 0,
                "styles": {},
                "heat": 0
              },
              {
                "id": "2578",
                "start": "n108",
                "end": "n18",
                "properties": {
                  "e_relation": "common_consecration"
                },
                "thickness_factor": 1,
                "directed": 0,
                "styles": {},
                "heat": 0
              },
              {
                "id": "2579",
                "start": "n108",
                "end": "n49",
                "properties": {
                  "weight": 2,
                  "e_relation": "common_consecration"
                },
                "thickness_factor": 1,
                "directed": 0,
                "styles": {},
                "heat": 0
              },
              {
                "id": "2581",
                "start": "n109",
                "end": "n54",
                "properties": {
                  "e_relation": "common_consecration"
                },
                "thickness_factor": 1,
                "directed": 0,
                "styles": {},
                "heat": 0
              },
              {
                "id": "2582",
                "start": "n109",
                "end": "n90",
                "properties": {
                  "weight": 2,
                  "e_relation": "common_consecration"
                },
                "thickness_factor": 1,
                "directed": 0,
                "styles": {},
                "heat": 0
              },
              {
                "id": "2584",
                "start": "n110",
                "end": "n16",
                "properties": {
                  "e_relation": "common_consecration"
                },
                "thickness_factor": 1,
                "directed": 0,
                "styles": {},
                "heat": 0
              },
              {
                "id": "2585",
                "start": "n110",
                "end": "n19",
                "properties": {
                  "e_relation": "common_consecration"
                },
                "thickness_factor": 1,
                "directed": 0,
                "styles": {},
                "heat": 0
              },
              {
                "id": "2586",
                "start": "n111",
                "end": "n5",
                "properties": {
                  "e_relation": "common_consecration"
                },
                "thickness_factor": 1,
                "directed": 0,
                "styles": {},
                "heat": 0
              },
              {
                "id": "2587",
                "start": "n111",
                "end": "n95",
                "properties": {
                  "e_relation": "common_consecration"
                },
                "thickness_factor": 1,
                "directed": 0,
                "styles": {},
                "heat": 0
              },
              {
                "id": "2588",
                "start": "n112",
                "end": "n73",
                "properties": {
                  "e_relation": "common_consecration"
                },
                "thickness_factor": 1,
                "directed": 0,
                "styles": {},
                "heat": 0
              },
              {
                "id": "2589",
                "start": "n112",
                "end": "n82",
                "properties": {
                  "e_relation": "co_consecrator"
                },
                "color": "darkmagenta",
                "thickness_factor": 1,
                "directed": 0,
                "styles": {},
                "label": "co consecrator",
                "heat": 0
              },
              {
                "id": "2590",
                "start": "n113",
                "end": "n5",
                "properties": {
                  "e_relation": "common_consecration"
                },
                "thickness_factor": 1,
                "directed": 0,
                "styles": {},
                "heat": 0
              },
              {
                "id": "2591",
                "start": "n113",
                "end": "n44",
                "properties": {
                  "e_relation": "common_consecration"
                },
                "thickness_factor": 1,
                "directed": 0,
                "styles": {},
                "heat": 0
              },
              {
                "id": "2593",
                "start": "n114",
                "end": "n24",
                "properties": {
                  "weight": 3,
                  "e_relation": "common_consecration"
                },
                "thickness_factor": 1,
                "directed": 0,
                "styles": {},
                "heat": 0
              },
              {
                "id": "2596",
                "start": "n114",
                "end": "n30",
                "properties": {
                  "e_relation": "co_consecrator"
                },
                "color": "darkmagenta",
                "thickness_factor": 1,
                "directed": 0,
                "styles": {},
                "label": "co consecrator",
                "heat": 0
              },
              {
                "id": "2597",
                "start": "n115",
                "end": "n60",
                "properties": {
                  "e_relation": "common_consecration"
                },
                "thickness_factor": 1,
                "directed": 0,
                "styles": {},
                "heat": 0
              },
              {
                "id": "2598",
                "start": "n115",
                "end": "n73",
                "properties": {
                  "e_relation": "common_consecration"
                },
                "thickness_factor": 1,
                "directed": 0,
                "styles": {},
                "heat": 0
              },
              {
                "id": "2599",
                "start": "n116",
                "end": "n14",
                "properties": {
                  "weight": 2,
                  "e_relation": "common_consecration"
                },
                "thickness_factor": 1,
                "directed": 0,
                "styles": {},
                "heat": 0
              },
              {
                "id": "2601",
                "start": "n116",
                "end": "n83",
                "properties": {
                  "e_relation": "co_consecrator"
                },
                "color": "darkmagenta",
                "thickness_factor": 1,
                "directed": 0,
                "styles": {},
                "label": "co consecrator",
                "heat": 0
              },
              {
                "id": "2602",
                "start": "n117",
                "end": "n118",
                "properties": {
                  "weight": 2,
                  "e_relation": "common_consecration"
                },
                "thickness_factor": 1,
                "directed": 0,
                "styles": {},
                "heat": 0
              },
              {
                "id": "2604",
                "start": "n117",
                "end": "n153",
                "properties": {
                  "e_relation": "consecrator"
                },
                "color": "darkslateblue",
                "thickness_factor": 1,
                "directed": 1,
                "styles": {},
                "label": "consecrator",
                "heat": 0
              },
              {
                "id": "2607",
                "start": "n118",
                "end": "n153",
                "properties": {
                  "e_relation": "co_consecrator"
                },
                "color": "darkmagenta",
                "thickness_factor": 1,
                "directed": 0,
                "styles": {},
                "label": "co consecrator",
                "heat": 0
              },
              {
                "id": "2608",
                "start": "n119",
                "end": "n5",
                "properties": {
                  "e_relation": "common_consecration"
                },
                "thickness_factor": 1,
                "directed": 0,
                "styles": {},
                "heat": 0
              },
              {
                "id": "2609",
                "start": "n119",
                "end": "n63",
                "properties": {
                  "e_relation": "common_consecration"
                },
                "thickness_factor": 1,
                "directed": 0,
                "styles": {},
                "heat": 0
              },
              {
                "id": "2610",
                "start": "n119",
                "end": "n98",
                "properties": {
                  "e_relation": "common_consecration"
                },
                "thickness_factor": 1,
                "directed": 0,
                "styles": {},
                "heat": 0
              },
              {
                "id": "2611",
                "start": "n120",
                "end": "n20",
                "properties": {
                  "e_relation": "common_consecration"
                },
                "thickness_factor": 1,
                "directed": 0,
                "styles": {},
                "heat": 0
              },
              {
                "id": "2612",
                "start": "n120",
                "end": "n90",
                "properties": {
                  "weight": 2,
                  "e_relation": "common_consecration"
                },
                "thickness_factor": 1,
                "directed": 0,
                "styles": {},
                "heat": 0
              },
              {
                "id": "2614",
                "start": "n121",
                "end": "n78",
                "properties": {
                  "e_relation": "common_consecration"
                },
                "thickness_factor": 1,
                "directed": 0,
                "styles": {},
                "heat": 0
              },
              {
                "id": "2615",
                "start": "n121",
                "end": "n148",
                "properties": {
                  "e_relation": "common_consecration"
                },
                "thickness_factor": 1,
                "directed": 0,
                "styles": {},
                "heat": 0
              },
              {
                "id": "2616",
                "start": "n122",
                "end": "n3",
                "properties": {
                  "e_relation": "common_consecration"
                },
                "thickness_factor": 1,
                "directed": 0,
                "styles": {},
                "heat": 0
              },
              {
                "id": "2617",
                "start": "n122",
                "end": "n149",
                "properties": {
                  "e_relation": "consecrator"
                },
                "color": "darkslateblue",
                "thickness_factor": 1,
                "directed": 1,
                "styles": {},
                "label": "consecrator",
                "heat": 0
              },
              {
                "id": "2618",
                "start": "n122",
                "end": "n157",
                "properties": {
                  "e_relation": "co_consecrator"
                },
                "color": "darkmagenta",
                "thickness_factor": 1,
                "directed": 0,
                "styles": {},
                "label": "co consecrator",
                "heat": 0
              },
              {
                "id": "2619",
                "start": "n123",
                "end": "n34",
                "properties": {
                  "e_relation": "common_consecration"
                },
                "thickness_factor": 1,
                "directed": 0,
                "styles": {},
                "heat": 0
              },
              {
                "id": "2621",
                "start": "n124",
                "end": "n14",
                "properties": {
                  "e_relation": "common_consecration"
                },
                "thickness_factor": 1,
                "directed": 0,
                "styles": {},
                "heat": 0
              },
              {
                "id": "2622",
                "start": "n124",
                "end": "n65",
                "properties": {
                  "e_relation": "common_consecration"
                },
                "thickness_factor": 1,
                "directed": 0,
                "styles": {},
                "heat": 0
              },
              {
                "id": "2623",
                "start": "n124",
                "end": "n141",
                "properties": {
                  "e_relation": "common_consecration"
                },
                "thickness_factor": 1,
                "directed": 0,
                "styles": {},
                "heat": 0
              },
              {
                "id": "2624",
                "start": "n126",
                "end": "n34",
                "properties": {
                  "e_relation": "common_consecration"
                },
                "thickness_factor": 1,
                "directed": 0,
                "styles": {},
                "heat": 0
              },
              {
                "id": "2625",
                "start": "n126",
                "end": "n39",
                "properties": {
                  "e_relation": "common_consecration"
                },
                "thickness_factor": 1,
                "directed": 0,
                "styles": {},
                "heat": 0
              },
              {
                "id": "2626",
                "start": "n126",
                "end": "n64",
                "properties": {
                  "e_relation": "common_consecration"
                },
                "thickness_factor": 1,
                "directed": 0,
                "styles": {},
                "heat": 0
              },
              {
                "id": "2627",
                "start": "n126",
                "end": "n67",
                "properties": {
                  "e_relation": "common_consecration"
                },
                "thickness_factor": 1,
                "directed": 0,
                "styles": {},
                "heat": 0
              },
              {
                "id": "2628",
                "start": "n127",
                "end": "n46",
                "properties": {
                  "weight": 2,
                  "e_relation": "common_consecration"
                },
                "thickness_factor": 1,
                "directed": 0,
                "styles": {},
                "heat": 0
              },
              {
                "id": "2630",
                "start": "n128",
                "end": "n14",
                "properties": {
                  "e_relation": "common_consecration"
                },
                "thickness_factor": 1,
                "directed": 0,
                "styles": {},
                "heat": 0
              },
              {
                "id": "2631",
                "start": "n129",
                "end": "n89",
                "properties": {
                  "e_relation": "common_consecration"
                },
                "thickness_factor": 1,
                "directed": 0,
                "styles": {},
                "heat": 0
              },
              {
                "id": "2632",
                "start": "n129",
                "end": "n130",
                "properties": {
                  "e_relation": "common_consecration"
                },
                "thickness_factor": 1,
                "directed": 0,
                "styles": {},
                "heat": 0
              },
              {
                "id": "2633",
                "start": "n130",
                "end": "n3",
                "properties": {
                  "e_relation": "common_consecration"
                },
                "thickness_factor": 1,
                "directed": 0,
                "styles": {},
                "heat": 0
              },
              {
                "id": "2634",
                "start": "n130",
                "end": "n89",
                "properties": {
                  "e_relation": "common_consecration"
                },
                "thickness_factor": 1,
                "directed": 0,
                "styles": {},
                "heat": 0
              },
              {
                "id": "2636",
                "start": "n130",
                "end": "n149",
                "properties": {
                  "e_relation": "common_consecration"
                },
                "thickness_factor": 1,
                "directed": 0,
                "styles": {},
                "heat": 0
              },
              {
                "id": "2637",
                "start": "n133",
                "end": "n5",
                "properties": {
                  "weight": 2,
                  "e_relation": "common_consecration"
                },
                "thickness_factor": 1,
                "directed": 0,
                "styles": {},
                "heat": 0
              },
              {
                "id": "2643",
                "start": "n136",
                "end": "n6",
                "properties": {
                  "weight": 3,
                  "e_relation": "common_consecration"
                },
                "thickness_factor": 1,
                "directed": 0,
                "styles": {},
                "heat": 0
              },
              {
                "id": "2646",
                "start": "n136",
                "end": "n29",
                "properties": {
                  "weight": 3,
                  "e_relation": "common_consecration"
                },
                "thickness_factor": 1,
                "directed": 0,
                "styles": {},
                "heat": 0
              },
              {
                "id": "2649",
                "start": "n136",
                "end": "n148",
                "properties": {
                  "e_relation": "co_consecrator"
                },
                "color": "darkmagenta",
                "thickness_factor": 1,
                "directed": 0,
                "styles": {},
                "label": "co consecrator",
                "heat": 0
              },
              {
                "id": "2651",
                "start": "n138",
                "end": "n14",
                "properties": {
                  "e_relation": "common_consecration"
                },
                "thickness_factor": 1,
                "directed": 0,
                "styles": {},
                "heat": 0
              },
              {
                "id": "2652",
                "start": "n138",
                "end": "n73",
                "properties": {
                  "e_relation": "common_consecration"
                },
                "thickness_factor": 1,
                "directed": 0,
                "styles": {},
                "heat": 0
              },
              {
                "id": "2653",
                "start": "n139",
                "end": "n24",
                "properties": {
                  "e_relation": "common_consecration"
                },
                "thickness_factor": 1,
                "directed": 0,
                "styles": {},
                "heat": 0
              },
              {
                "id": "2655",
                "start": "n142",
                "end": "n7",
                "properties": {
                  "weight": 4,
                  "e_relation": "common_consecration"
                },
                "thickness_factor": 1,
                "directed": 0,
                "styles": {},
                "heat": 0
              },
              {
                "id": "2659",
                "start": "n142",
                "end": "n39",
                "properties": {
                  "e_relation": "common_consecration"
                },
                "thickness_factor": 1,
                "directed": 0,
                "styles": {},
                "heat": 0
              },
              {
                "id": "2660",
                "start": "n143",
                "end": "n4",
                "properties": {
                  "e_relation": "common_consecration"
                },
                "thickness_factor": 1,
                "directed": 0,
                "styles": {},
                "heat": 0
              },
              {
                "id": "2661",
                "start": "n143",
                "end": "n29",
                "properties": {
                  "e_relation": "common_consecration"
                },
                "thickness_factor": 1,
                "directed": 0,
                "styles": {},
                "heat": 0
              },
              {
                "id": "2662",
                "start": "n143",
                "end": "n34",
                "properties": {
                  "e_relation": "common_consecration"
                },
                "thickness_factor": 1,
                "directed": 0,
                "styles": {},
                "heat": 0
              },
              {
                "id": "2663",
                "start": "n144",
                "end": "n29",
                "properties": {
                  "e_relation": "common_consecration"
                },
                "thickness_factor": 1,
                "directed": 0,
                "styles": {},
                "heat": 0
              },
              {
                "id": "2664",
                "start": "n146",
                "end": "n5",
                "properties": {
                  "e_relation": "common_consecration"
                },
                "thickness_factor": 1,
                "directed": 0,
                "styles": {},
                "heat": 0
              },
              {
                "id": "2667",
                "start": "n150",
                "end": "n7",
                "properties": {
                  "e_relation": "common_consecration"
                },
                "thickness_factor": 1,
                "directed": 0,
                "styles": {},
                "heat": 0
              },
              {
                "id": "23876",
                "start": "n1473",
                "end": "n909",
                "properties": {
                  "e_relation": "consecrator"
                },
                "color": "darkslateblue",
                "thickness_factor": 1,
                "directed": 1,
                "styles": {},
                "label": "consecrator",
                "heat": 0
              },
              {
                "id": "21958",
                "start": "n61",
                "end": "n1473",
                "properties": {
                  "e_relation": "co_consecrator"
                },
                "color": "darkmagenta",
                "thickness_factor": 1,
                "directed": 0,
                "styles": {},
                "label": "co consecrator",
                "heat": 0
              }
            ],
            "_graph_layout": {
              "algorithm": "hierarchic",
              "options": {}
            },
            "_highlight": [],
            "_license": {},
            "_model_module": "yfiles-jupyter-graphs",
            "_model_module_version": "^1.10.5",
            "_model_name": "GraphModel",
            "_neighborhood": {
              "max_distance": 1,
              "selected_nodes": [
                "n909"
              ]
            },
            "_nodes": [
              {
                "id": "n0",
                "properties": {
                  "label": "Juan José Omella Omella",
                  "v_name": "bomel.html",
                  "v_role": "Voting",
                  "v_wikidata_id": "Q608116",
                  "v_country_of_citizenship": ":ES:",
                  "v_num_awards": 0,
                  "v_wahrscheinlichkeit": 0,
                  "v_degree": 0.0358565737051793,
                  "v_betweenness": 0.00823924884217194,
                  "v_closeness": 0.271477663230241,
                  "v_pagerank": 0.0034416310117494,
                  "v_degree_global": 0.0110713677397377,
                  "v_betweenness_global": 0.00335871000987725,
                  "v_closeness_global": 0.230755939524838,
                  "v_pagerank_global": 0.000530550394229802,
                  "v_papabile_index": 0.00995024875621891,
                  "v_component": 1
                },
                "color": "indianred",
                "styles": {},
                "label": "Juan José Omella Omella (ES)",
                "scale_factor": 1,
                "type": "indianred",
                "size": [
                  55,
                  55
                ],
                "position": [
                  0,
                  0
                ],
                "heat": 1.990049751243782
              },
              {
                "id": "n1",
                "properties": {
                  "label": "Fernando Filoni",
                  "v_name": "bfiloni.html",
                  "v_role": "Voting",
                  "v_wikidata_id": "Q680013",
                  "v_country_of_citizenship": ":IT:",
                  "v_num_awards": 5,
                  "v_wahrscheinlichkeit": 0.02,
                  "v_degree": 0.135458167330677,
                  "v_betweenness": 0.0192883711424124,
                  "v_closeness": 0.341991341991342,
                  "v_pagerank": 0.0123727235111583,
                  "v_degree_global": 0.0165218872423778,
                  "v_betweenness_global": 0.0200776781732024,
                  "v_closeness_global": 0.276443800455392,
                  "v_pagerank_global": 0.000554610530260267,
                  "v_papabile_index": 0.00464344941956882,
                  "v_component": 1
                },
                "color": "green",
                "styles": {},
                "label": "Fernando Filoni (IT)",
                "scale_factor": 1,
                "type": "green",
                "size": [
                  55,
                  55
                ],
                "position": [
                  0,
                  0
                ],
                "heat": 0.928689883913764
              },
              {
                "id": "n2",
                "properties": {
                  "label": "Béchara Boutros Raï",
                  "v_name": "braibe.html",
                  "v_role": "Non-Voting (Age)",
                  "v_wikidata_id": "Q469828",
                  "v_country_of_citizenship": ":LB:",
                  "v_num_awards": 4,
                  "v_wahrscheinlichkeit": 0.01,
                  "v_degree": 0.00796812749003984,
                  "v_betweenness": 0,
                  "v_closeness": 0.230320699708455,
                  "v_pagerank": 0.00284665036945732,
                  "v_degree_global": 0.0194174757281553,
                  "v_betweenness_global": 0.00475290017150498,
                  "v_closeness_global": 0.210397794407247,
                  "v_pagerank_global": 0.00118637096931582,
                  "v_papabile_index": 0,
                  "v_component": 1
                },
                "color": "indianred",
                "styles": {},
                "label": "Béchara Boutros Raï (LB)",
                "scale_factor": 1,
                "type": "indianred",
                "size": [
                  55,
                  55
                ],
                "position": [
                  0,
                  0
                ],
                "heat": 0
              },
              {
                "id": "n3",
                "properties": {
                  "label": "Leonardo Sandri",
                  "v_name": "bsandri.html",
                  "v_role": "Dean, Non-Voting (Age)",
                  "v_wikidata_id": "Q458202",
                  "v_country_of_citizenship": ":AR:",
                  "v_num_awards": 28,
                  "v_wahrscheinlichkeit": 0,
                  "v_degree": 0.199203187250996,
                  "v_betweenness": 0.0298532924165632,
                  "v_closeness": 0.325773195876289,
                  "v_pagerank": 0.0166232704915688,
                  "v_degree_global": 0.0183955033214103,
                  "v_betweenness_global": 0.0278255965210976,
                  "v_closeness_global": 0.281840244803208,
                  "v_pagerank_global": 0.000565058362427182,
                  "v_papabile_index": 0,
                  "v_component": 1
                },
                "color": "indianred",
                "styles": {},
                "label": "Leonardo Sandri (AR)",
                "scale_factor": 1,
                "type": "indianred",
                "size": [
                  55,
                  55
                ],
                "position": [
                  0,
                  0
                ],
                "heat": 0
              },
              {
                "id": "n4",
                "properties": {
                  "label": "Crescenzio Sepe",
                  "v_name": "bsepe.html",
                  "v_role": "Non-Voting (Age)",
                  "v_wikidata_id": "Q504550",
                  "v_country_of_citizenship": ":IT:",
                  "v_num_awards": 4,
                  "v_wahrscheinlichkeit": 0,
                  "v_degree": 0.0557768924302789,
                  "v_betweenness": 0.0189996971428076,
                  "v_closeness": 0.260726072607261,
                  "v_pagerank": 0.00890619302658344,
                  "v_degree_global": 0.0117526826775677,
                  "v_betweenness_global": 0.0127673691309442,
                  "v_closeness_global": 0.253259375148153,
                  "v_pagerank_global": 0.000556943993696727,
                  "v_papabile_index": 0,
                  "v_component": 1
                },
                "color": "green",
                "styles": {},
                "label": "Crescenzio Sepe (IT)",
                "scale_factor": 1,
                "type": "green",
                "size": [
                  55,
                  55
                ],
                "position": [
                  0,
                  0
                ],
                "heat": 0
              },
              {
                "id": "n5",
                "properties": {
                  "label": "Pietro Parolin",
                  "v_name": "bparolin.html",
                  "v_role": "Voting",
                  "v_wikidata_id": "Q574058",
                  "v_country_of_citizenship": ":IT:",
                  "v_num_awards": 21,
                  "v_wahrscheinlichkeit": 0.444444444444444,
                  "v_degree": 0.314741035856574,
                  "v_betweenness": 0.135712692844795,
                  "v_closeness": 0.394014962593516,
                  "v_pagerank": 0.0320524205935806,
                  "v_degree_global": 0.0471810594447283,
                  "v_betweenness_global": 0.151240366367986,
                  "v_closeness_global": 0.3055889251187,
                  "v_pagerank_global": 0.00204520106439185,
                  "v_papabile_index": 0.0131564400221117,
                  "v_component": 1
                },
                "color": "green",
                "styles": {},
                "label": "Pietro Parolin (IT)",
                "scale_factor": 1,
                "type": "green",
                "size": [
                  55,
                  55
                ],
                "position": [
                  0,
                  0
                ],
                "heat": 2.63128800442234
              },
              {
                "id": "n6",
                "properties": {
                  "label": "Francesco Montenegro",
                  "v_name": "bmonf.html",
                  "v_role": "Voting",
                  "v_wikidata_id": "Q1441149",
                  "v_country_of_citizenship": ":IT:",
                  "v_num_awards": 1,
                  "v_wahrscheinlichkeit": 0,
                  "v_degree": 0.0597609561752988,
                  "v_betweenness": 0.00911182147884211,
                  "v_closeness": 0.266891891891892,
                  "v_pagerank": 0.00669619856997946,
                  "v_degree_global": 0.00664282064384262,
                  "v_betweenness_global": 0.000901951767988751,
                  "v_closeness_global": 0.219402004271398,
                  "v_pagerank_global": 0.000412202827095209,
                  "v_papabile_index": 0.0118297401879491,
                  "v_component": 1
                },
                "color": "green",
                "styles": {},
                "label": "Francesco Montenegro (IT)",
                "scale_factor": 1,
                "type": "green",
                "size": [
                  55,
                  55
                ],
                "position": [
                  0,
                  0
                ],
                "heat": 2.36594803758982
              },
              {
                "id": "n7",
                "properties": {
                  "label": "Paolo Romeo",
                  "v_name": "bromeo.html",
                  "v_role": "Non-Voting (Age)",
                  "v_wikidata_id": "Q374461",
                  "v_country_of_citizenship": ":IT:",
                  "v_num_awards": 1,
                  "v_wahrscheinlichkeit": 0,
                  "v_degree": 0.131474103585657,
                  "v_betweenness": 0.0348041092688792,
                  "v_closeness": 0.331932773109244,
                  "v_pagerank": 0.00946357921622231,
                  "v_degree_global": 0.0252086526997104,
                  "v_betweenness_global": 0.0232082066370257,
                  "v_closeness_global": 0.271719226856562,
                  "v_pagerank_global": 0.000876734736852974,
                  "v_papabile_index": 0,
                  "v_component": 1
                },
                "color": "green",
                "styles": {},
                "label": "Paolo Romeo (IT)",
                "scale_factor": 1,
                "type": "green",
                "size": [
                  55,
                  55
                ],
                "position": [
                  0,
                  0
                ],
                "heat": 0
              },
              {
                "id": "n8",
                "properties": {
                  "label": "Giuseppe Petrocchi",
                  "v_name": "bpetg.html",
                  "v_role": "Voting",
                  "v_wikidata_id": "Q1528583",
                  "v_country_of_citizenship": ":IT:",
                  "v_num_awards": 0,
                  "v_wahrscheinlichkeit": 0,
                  "v_degree": 0.00796812749003984,
                  "v_betweenness": 0,
                  "v_closeness": 0.232352941176471,
                  "v_pagerank": 0.0015931796748212,
                  "v_degree_global": 0.00306591722023505,
                  "v_betweenness_global": 0.000237602799777489,
                  "v_closeness_global": 0.220953799065227,
                  "v_pagerank_global": 0.000216873614609843,
                  "v_papabile_index": 0.00873410724156993,
                  "v_component": 1
                },
                "color": "green",
                "styles": {},
                "label": "Giuseppe Petrocchi (IT)",
                "scale_factor": 1,
                "type": "green",
                "size": [
                  55,
                  55
                ],
                "position": [
                  0,
                  0
                ],
                "heat": 1.7468214483139861
              },
              {
                "id": "n9",
                "properties": {
                  "label": "Carlos Aguiar Retes",
                  "v_name": "baguiar.html",
                  "v_role": "Voting",
                  "v_wikidata_id": "Q980539",
                  "v_country_of_citizenship": ":MX:",
                  "v_num_awards": 0,
                  "v_wahrscheinlichkeit": 0.0125,
                  "v_degree": 0.143426294820717,
                  "v_betweenness": 0.0027671734881528,
                  "v_closeness": 0.239757207890744,
                  "v_pagerank": 0.00940579572988006,
                  "v_degree_global": 0.0175438596491228,
                  "v_betweenness_global": 0.00191291017835244,
                  "v_closeness_global": 0.211447118429386,
                  "v_pagerank_global": 0.000505193028290526,
                  "v_papabile_index": 0.0114980652294085,
                  "v_component": 1
                },
                "color": "indianred",
                "styles": {},
                "label": "Carlos Aguiar Retes (MX)",
                "scale_factor": 1,
                "type": "indianred",
                "size": [
                  55,
                  55
                ],
                "position": [
                  0,
                  0
                ],
                "heat": 2.2996130458816997
              },
              {
                "id": "n10",
                "properties": {
                  "label": "Reinhard Marx",
                  "v_name": "bmarxr.html",
                  "v_role": "Voting",
                  "v_wikidata_id": "Q43930",
                  "v_country_of_citizenship": ":DE:",
                  "v_num_awards": 6,
                  "v_wahrscheinlichkeit": 0.0125,
                  "v_degree": 0.0239043824701195,
                  "v_betweenness": 0.00199203187250996,
                  "v_closeness": 0.225392296718973,
                  "v_pagerank": 0.00426003831195909,
                  "v_degree_global": 0.00459887583035258,
                  "v_betweenness_global": 0.00168595294027037,
                  "v_closeness_global": 0.208712639187341,
                  "v_pagerank_global": 0.000230499225553984,
                  "v_papabile_index": 0.00265339966832504,
                  "v_component": 1
                },
                "color": "indianred",
                "styles": {},
                "label": "Reinhard Marx (DE)",
                "scale_factor": 1,
                "type": "indianred",
                "size": [
                  55,
                  55
                ],
                "position": [
                  0,
                  0
                ],
                "heat": 0.530679933665008
              },
              {
                "id": "n11",
                "properties": {
                  "label": "Roger Michael Mahony",
                  "v_name": "bmahony.html",
                  "v_role": "Non-Voting (Age)",
                  "v_wikidata_id": "Q918715",
                  "v_country_of_citizenship": ":US:",
                  "v_num_awards": 0,
                  "v_wahrscheinlichkeit": 0,
                  "v_degree": 0.00796812749003984,
                  "v_betweenness": 0,
                  "v_closeness": 0.228654124457308,
                  "v_pagerank": 0.00125335823282649,
                  "v_degree_global": 0.00630216317492761,
                  "v_betweenness_global": 0.00348609465251734,
                  "v_closeness_global": 0.209317816699973,
                  "v_pagerank_global": 0.000314538293329838,
                  "v_papabile_index": 0,
                  "v_component": 1
                },
                "color": "indianred",
                "styles": {},
                "label": "Roger Michael Mahony (US)",
                "scale_factor": 1,
                "type": "indianred",
                "size": [
                  55,
                  55
                ],
                "position": [
                  0,
                  0
                ],
                "heat": 0
              },
              {
                "id": "n12",
                "properties": {
                  "label": "Christophe Louis Yves Georges Pierre",
                  "v_name": "bpierre.html",
                  "v_role": "Voting",
                  "v_wikidata_id": "Q553540",
                  "v_country_of_citizenship": ":FR:",
                  "v_num_awards": 0,
                  "v_wahrscheinlichkeit": 0,
                  "v_degree": 0.318725099601594,
                  "v_betweenness": 0.0134760941895675,
                  "v_closeness": 0.243827160493827,
                  "v_pagerank": 0.0210118841197906,
                  "v_degree_global": 0.0391756089252257,
                  "v_betweenness_global": 0.0146176816467786,
                  "v_closeness_global": 0.222574059414191,
                  "v_pagerank_global": 0.0010565177510263,
                  "v_papabile_index": 0.000884466556108347,
                  "v_component": 1
                },
                "color": "indianred",
                "styles": {},
                "label": "Christophe Louis Yves Georges Pierre (FR)",
                "scale_factor": 1,
                "type": "indianred",
                "size": [
                  55,
                  55
                ],
                "position": [
                  0,
                  0
                ],
                "heat": 0.1768933112216694
              },
              {
                "id": "n13",
                "properties": {
                  "label": "Rubén Salazar Gómez",
                  "v_name": "bsalg.html",
                  "v_role": "Non-Voting (Age)",
                  "v_wikidata_id": "Q26639",
                  "v_country_of_citizenship": ":CO:",
                  "v_num_awards": 1,
                  "v_wahrscheinlichkeit": 0,
                  "v_degree": 0.0916334661354582,
                  "v_betweenness": 0.00985360892181462,
                  "v_closeness": 0.317907444668008,
                  "v_pagerank": 0.0103215997697185,
                  "v_degree_global": 0.0187361607903253,
                  "v_betweenness_global": 0.00958636948946642,
                  "v_closeness_global": 0.252028684657483,
                  "v_pagerank_global": 0.000878151708192105,
                  "v_papabile_index": 0,
                  "v_component": 1
                },
                "color": "indianred",
                "styles": {},
                "label": "Rubén Salazar Gómez (CO)",
                "scale_factor": 1,
                "type": "indianred",
                "size": [
                  55,
                  55
                ],
                "position": [
                  0,
                  0
                ],
                "heat": 0
              },
              {
                "id": "n14",
                "properties": {
                  "label": "Tarcisio Pietro Evasio Bertone",
                  "v_name": "bbertone.html",
                  "v_role": "Non-Voting (Age)",
                  "v_wikidata_id": "Q44383",
                  "v_country_of_citizenship": ":IT:",
                  "v_num_awards": 8,
                  "v_wahrscheinlichkeit": 0,
                  "v_degree": 0.342629482071713,
                  "v_betweenness": 0.106953408772062,
                  "v_closeness": 0.389162561576355,
                  "v_pagerank": 0.0271711615831555,
                  "v_degree_global": 0.0361096917049906,
                  "v_betweenness_global": 0.0751993593600201,
                  "v_closeness_global": 0.301552356759808,
                  "v_pagerank_global": 0.00087040458666566,
                  "v_papabile_index": 0,
                  "v_component": 1
                },
                "color": "green",
                "styles": {},
                "label": "Tarcisio Pietro Evasio Bertone (IT)",
                "scale_factor": 1,
                "type": "green",
                "size": [
                  55,
                  55
                ],
                "position": [
                  0,
                  0
                ],
                "heat": 0
              },
              {
                "id": "n15",
                "properties": {
                  "label": "Gianfranco Ravasi",
                  "v_name": "bravg.html",
                  "v_role": "Non-Voting (Age)",
                  "v_wikidata_id": "Q531594",
                  "v_country_of_citizenship": ":IT:",
                  "v_num_awards": 3,
                  "v_wahrscheinlichkeit": 0.01,
                  "v_degree": 0.0438247011952191,
                  "v_betweenness": 0.00537826705340386,
                  "v_closeness": 0.325102880658436,
                  "v_pagerank": 0.00415510259478704,
                  "v_degree_global": 0.00357690342360756,
                  "v_betweenness_global": 0.00137561560394672,
                  "v_closeness_global": 0.256777542780235,
                  "v_pagerank_global": 0.00016053955750943,
                  "v_papabile_index": 0,
                  "v_component": 1
                },
                "color": "green",
                "styles": {},
                "label": "Gianfranco Ravasi (IT)",
                "scale_factor": 1,
                "type": "green",
                "size": [
                  55,
                  55
                ],
                "position": [
                  0,
                  0
                ],
                "heat": 0
              },
              {
                "id": "n16",
                "properties": {
                  "label": "Giuseppe Bertello",
                  "v_name": "bbertello.html",
                  "v_role": "Non-Voting (Age)",
                  "v_wikidata_id": "Q543260",
                  "v_country_of_citizenship": ":IT:",
                  "v_num_awards": 2,
                  "v_wahrscheinlichkeit": 0,
                  "v_degree": 0.143426294820717,
                  "v_betweenness": 0.046087807831136,
                  "v_closeness": 0.30859375,
                  "v_pagerank": 0.0110860130433678,
                  "v_degree_global": 0.0209504343382729,
                  "v_betweenness_global": 0.013041266106534,
                  "v_closeness_global": 0.253812894949399,
                  "v_pagerank_global": 0.000619761071964026,
                  "v_papabile_index": 0,
                  "v_component": 1
                },
                "color": "green",
                "styles": {},
                "label": "Giuseppe Bertello (IT)",
                "scale_factor": 1,
                "type": "green",
                "size": [
                  55,
                  55
                ],
                "position": [
                  0,
                  0
                ],
                "heat": 0
              },
              {
                "id": "n17",
                "properties": {
                  "label": "Angelo Scola",
                  "v_name": "bscola.html",
                  "v_role": "Non-Voting (Age)",
                  "v_wikidata_id": "Q336109",
                  "v_country_of_citizenship": ":IT:",
                  "v_num_awards": 2,
                  "v_wahrscheinlichkeit": 0.02,
                  "v_degree": 0.0239043824701195,
                  "v_betweenness": 0.00384810812404641,
                  "v_closeness": 0.31041257367387,
                  "v_pagerank": 0.00273909510855953,
                  "v_degree_global": 0.00391756089252257,
                  "v_betweenness_global": 0.00216180126319307,
                  "v_closeness_global": 0.254078478002378,
                  "v_pagerank_global": 0.000174516323951046,
                  "v_papabile_index": 0,
                  "v_component": 1
                },
                "color": "green",
                "styles": {},
                "label": "Angelo Scola (IT)",
                "scale_factor": 1,
                "type": "green",
                "size": [
                  55,
                  55
                ],
                "position": [
                  0,
                  0
                ],
                "heat": 0
              },
              {
                "id": "n18",
                "properties": {
                  "label": "Robert Sarah",
                  "v_name": "bsarahr.html",
                  "v_role": "Voting",
                  "v_wikidata_id": "Q550079",
                  "v_country_of_citizenship": ":GN:",
                  "v_num_awards": 2,
                  "v_wahrscheinlichkeit": 0.125,
                  "v_degree": 0.107569721115538,
                  "v_betweenness": 0.00594540995348441,
                  "v_closeness": 0.262895174708819,
                  "v_pagerank": 0.00853523198244006,
                  "v_degree_global": 0.0114120252086527,
                  "v_betweenness_global": 0.0130796865115502,
                  "v_closeness_global": 0.254502143878037,
                  "v_pagerank_global": 0.000301633335769633,
                  "v_papabile_index": 0.00950801547816473,
                  "v_component": 1
                },
                "color": "indianred",
                "styles": {},
                "label": "Robert Sarah (GN)",
                "scale_factor": 1,
                "type": "indianred",
                "size": [
                  55,
                  55
                ],
                "position": [
                  0,
                  0
                ],
                "heat": 1.901603095632946
              },
              {
                "id": "n19",
                "properties": {
                  "label": "Alberto Suárez Inda",
                  "v_name": "bsuarezi.html",
                  "v_role": "Non-Voting (Age)",
                  "v_wikidata_id": "Q1743579",
                  "v_country_of_citizenship": ":MX:",
                  "v_num_awards": 0,
                  "v_wahrscheinlichkeit": 0,
                  "v_degree": 0.0717131474103586,
                  "v_betweenness": 0.000705830249857364,
                  "v_closeness": 0.239031770045386,
                  "v_pagerank": 0.00549276847302846,
                  "v_degree_global": 0.0100493953329927,
                  "v_betweenness_global": 0.000949150959392297,
                  "v_closeness_global": 0.210042071324657,
                  "v_pagerank_global": 0.000318520355390251,
                  "v_papabile_index": 0,
                  "v_component": 1
                },
                "color": "indianred",
                "styles": {},
                "label": "Alberto Suárez Inda (MX)",
                "scale_factor": 1,
                "type": "indianred",
                "size": [
                  55,
                  55
                ],
                "position": [
                  0,
                  0
                ],
                "heat": 0
              },
              {
                "id": "n20",
                "properties": {
                  "label": "Odilo Pedro Scherer",
                  "v_name": "bscherero.html",
                  "v_role": "Voting",
                  "v_wikidata_id": "Q704881",
                  "v_country_of_citizenship": ":BR:",
                  "v_num_awards": 0,
                  "v_wahrscheinlichkeit": 0.0142857142857143,
                  "v_degree": 0.0159362549800797,
                  "v_betweenness": 0.0130293694881062,
                  "v_closeness": 0.202046035805627,
                  "v_pagerank": 0.00401640928507875,
                  "v_degree_global": 0.0180548458524953,
                  "v_betweenness_global": 0.00812915994258395,
                  "v_closeness_global": 0.19709995203483,
                  "v_pagerank_global": 0.00107613245196698,
                  "v_papabile_index": 0.0130458817025981,
                  "v_component": 1
                },
                "color": "indianred",
                "styles": {},
                "label": "Odilo Pedro Scherer (BR)",
                "scale_factor": 1,
                "type": "indianred",
                "size": [
                  55,
                  55
                ],
                "position": [
                  0,
                  0
                ],
                "heat": 2.60917634051962
              },
              {
                "id": "n21",
                "properties": {
                  "label": "George Alencherry",
                  "v_name": "balenc.html",
                  "v_role": "Non-Voting (Age)",
                  "v_wikidata_id": "Q457897",
                  "v_country_of_citizenship": ":IN:",
                  "v_num_awards": 0,
                  "v_wahrscheinlichkeit": 0,
                  "v_degree": 0.00796812749003984,
                  "v_betweenness": 0,
                  "v_closeness": 0.246105919003115,
                  "v_pagerank": 0.00151930786516168,
                  "v_degree_global": 0.0183955033214103,
                  "v_betweenness_global": 0.00772681145369569,
                  "v_closeness_global": 0.230835709964567,
                  "v_pagerank_global": 0.000842444500636395,
                  "v_papabile_index": 0,
                  "v_component": 1
                },
                "color": "indianred",
                "styles": {},
                "label": "George Alencherry (IN)",
                "scale_factor": 1,
                "type": "indianred",
                "size": [
                  55,
                  55
                ],
                "position": [
                  0,
                  0
                ],
                "heat": 0
              },
              {
                "id": "n22",
                "properties": {
                  "label": "Domenico Battaglia",
                  "v_name": "bbattd.html",
                  "v_role": "Voting",
                  "v_wikidata_id": "Q24758132",
                  "v_country_of_citizenship": ":IT:",
                  "v_num_awards": 0,
                  "v_wahrscheinlichkeit": 0,
                  "v_degree": 0.00796812749003984,
                  "v_betweenness": 0,
                  "v_closeness": 0.207077326343381,
                  "v_pagerank": 0.00205732108748135,
                  "v_degree_global": 0.0056208482370976,
                  "v_betweenness_global": 0.000449127176441179,
                  "v_closeness_global": 0.222360972360972,
                  "v_pagerank_global": 0.000325671495821556,
                  "v_papabile_index": 0.00375898286346048,
                  "v_component": 1
                },
                "color": "green",
                "styles": {},
                "label": "Domenico Battaglia (IT)",
                "scale_factor": 1,
                "type": "green",
                "size": [
                  55,
                  55
                ],
                "position": [
                  0,
                  0
                ],
                "heat": 0.751796572692096
              },
              {
                "id": "n23",
                "properties": {
                  "label": "Leonardo Ulrich Steiner",
                  "v_name": "bulst.html",
                  "v_role": "Voting",
                  "v_wikidata_id": "Q530449",
                  "v_country_of_citizenship": ":BR:",
                  "v_num_awards": 0,
                  "v_wahrscheinlichkeit": 0.01,
                  "v_degree": 0.0199203187250996,
                  "v_betweenness": 0.0172046682928871,
                  "v_closeness": 0.247648902821317,
                  "v_pagerank": 0.00334158446795942,
                  "v_degree_global": 0.00868676545733265,
                  "v_betweenness_global": 0.00965076892681459,
                  "v_closeness_global": 0.233489225927707,
                  "v_pagerank_global": 0.000409886046634776,
                  "v_papabile_index": 0.00685461580983969,
                  "v_component": 1
                },
                "color": "indianred",
                "styles": {},
                "label": "Leonardo Ulrich Steiner (BR)",
                "scale_factor": 1,
                "type": "indianred",
                "size": [
                  55,
                  55
                ],
                "position": [
                  0,
                  0
                ],
                "heat": 1.370923161967938
              },
              {
                "id": "n24",
                "properties": {
                  "label": "Manuel José Macário do Nascimento Clemente",
                  "v_name": "bmacnc.html",
                  "v_role": "Voting",
                  "v_wikidata_id": "Q1743298",
                  "v_country_of_citizenship": ":PT:",
                  "v_num_awards": 4,
                  "v_wahrscheinlichkeit": 0,
                  "v_degree": 0.0557768924302789,
                  "v_betweenness": 0.00846215139442231,
                  "v_closeness": 0.207621550591327,
                  "v_pagerank": 0.00671533007704629,
                  "v_degree_global": 0.0109010390052802,
                  "v_betweenness_global": 0.00368565445689108,
                  "v_closeness_global": 0.197260071636941,
                  "v_pagerank_global": 0.000547598217432843,
                  "v_papabile_index": 0.0119402985074627,
                  "v_component": 1
                },
                "color": "indianred",
                "styles": {},
                "label": "Manuel José Macário do Nascimento Clemente (PT)",
                "scale_factor": 1,
                "type": "indianred",
                "size": [
                  55,
                  55
                ],
                "position": [
                  0,
                  0
                ],
                "heat": 2.38805970149254
              },
              {
                "id": "n25",
                "properties": {
                  "label": "Orani João Tempesta",
                  "v_name": "btempesta.html",
                  "v_role": "Voting",
                  "v_wikidata_id": "Q554428",
                  "v_country_of_citizenship": ":BR:",
                  "v_num_awards": 0,
                  "v_wahrscheinlichkeit": 0,
                  "v_degree": 0.0119521912350598,
                  "v_betweenness": 0.00462116779332128,
                  "v_closeness": 0.201017811704835,
                  "v_pagerank": 0.00153904487570464,
                  "v_degree_global": 0.00953840912962017,
                  "v_betweenness_global": 0.00648772228998522,
                  "v_closeness_global": 0.211229735073151,
                  "v_pagerank_global": 0.000636640150571261,
                  "v_papabile_index": 0.0143725815367606,
                  "v_component": 1
                },
                "color": "indianred",
                "styles": {},
                "label": "Orani João Tempesta (BR)",
                "scale_factor": 1,
                "type": "indianred",
                "size": [
                  55,
                  55
                ],
                "position": [
                  0,
                  0
                ],
                "heat": 2.87451630735212
              },
              {
                "id": "n26",
                "properties": {
                  "label": "José Cobo Cano",
                  "v_name": "bcobcan.html",
                  "v_role": "Voting",
                  "v_wikidata_id": "Q47001634",
                  "v_country_of_citizenship": ":ES:",
                  "v_num_awards": 0,
                  "v_wahrscheinlichkeit": 0,
                  "v_degree": 0.00796812749003984,
                  "v_betweenness": 0,
                  "v_closeness": 0.247648902821317,
                  "v_pagerank": 0.00185719678029832,
                  "v_degree_global": 0.00221427354794754,
                  "v_betweenness_global": 0.0000346958143229735,
                  "v_closeness_global": 0.212051444903144,
                  "v_pagerank_global": 0.000180968327254141,
                  "v_papabile_index": 0.005085682697623,
                  "v_component": 1
                },
                "color": "indianred",
                "styles": {},
                "label": "José Cobo Cano (ES)",
                "scale_factor": 1,
                "type": "indianred",
                "size": [
                  55,
                  55
                ],
                "position": [
                  0,
                  0
                ],
                "heat": 1.0171365395246001
              },
              {
                "id": "n27",
                "properties": {
                  "label": "Fernando Natalio Chomalí Garib",
                  "v_name": "bchga.html",
                  "v_role": "Voting",
                  "v_wikidata_id": "Q1406778",
                  "v_country_of_citizenship": ":CL:",
                  "v_num_awards": 0,
                  "v_wahrscheinlichkeit": 0,
                  "v_degree": 0.00398406374501992,
                  "v_betweenness": 0,
                  "v_closeness": 0.172300981461287,
                  "v_pagerank": 0.00176844864493892,
                  "v_degree_global": 0.00306591722023505,
                  "v_betweenness_global": 0.0000278064291992489,
                  "v_closeness_global": 0.201683844905048,
                  "v_pagerank_global": 0.000267193232553908,
                  "v_papabile_index": 0.00519624101713654,
                  "v_component": 1
                },
                "color": "indianred",
                "styles": {},
                "label": "Fernando Natalio Chomalí Garib (CL)",
                "scale_factor": 1,
                "type": "indianred",
                "size": [
                  55,
                  55
                ],
                "position": [
                  0,
                  0
                ],
                "heat": 1.039248203427308
              },
              {
                "id": "n28",
                "properties": {
                  "label": "Joseph William Tobin",
                  "v_name": "btobinj.html",
                  "v_role": "Voting",
                  "v_wikidata_id": "Q723824",
                  "v_country_of_citizenship": ":US:",
                  "v_num_awards": 0,
                  "v_wahrscheinlichkeit": 0.02,
                  "v_degree": 0.0358565737051793,
                  "v_betweenness": 0.00349482709040985,
                  "v_closeness": 0.307992202729045,
                  "v_pagerank": 0.00548731374667106,
                  "v_degree_global": 0.0056208482370976,
                  "v_betweenness_global": 0.00310743607563276,
                  "v_closeness_global": 0.245237111508975,
                  "v_pagerank_global": 0.000276162055719799,
                  "v_papabile_index": 0.0126036484245439,
                  "v_component": 1
                },
                "color": "indianred",
                "styles": {},
                "label": "Joseph William Tobin (US)",
                "scale_factor": 1,
                "type": "indianred",
                "size": [
                  55,
                  55
                ],
                "position": [
                  0,
                  0
                ],
                "heat": 2.52072968490878
              },
              {
                "id": "n29",
                "properties": {
                  "label": "Angelo De Donatis",
                  "v_name": "bddonatis.html",
                  "v_role": "Voting",
                  "v_wikidata_id": "Q20971281",
                  "v_country_of_citizenship": ":IT:",
                  "v_num_awards": 0,
                  "v_wahrscheinlichkeit": 0.01,
                  "v_degree": 0.103585657370518,
                  "v_betweenness": 0.0175314969682705,
                  "v_closeness": 0.300380228136882,
                  "v_pagerank": 0.0150637915381762,
                  "v_degree_global": 0.0131153125532277,
                  "v_betweenness_global": 0.00436041633559889,
                  "v_closeness_global": 0.237675743014771,
                  "v_pagerank_global": 0.000871920981149137,
                  "v_papabile_index": 0.00740740740740741,
                  "v_component": 1
                },
                "color": "green",
                "styles": {},
                "label": "Angelo De Donatis (IT)",
                "scale_factor": 1,
                "type": "green",
                "size": [
                  55,
                  55
                ],
                "position": [
                  0,
                  0
                ],
                "heat": 1.481481481481482
              },
              {
                "id": "n30",
                "properties": {
                  "label": "José Tolentino Calaça de Mendonça",
                  "v_name": "bmendjtc.html",
                  "v_role": "Voting",
                  "v_wikidata_id": "Q4459693",
                  "v_country_of_citizenship": ":PT:",
                  "v_num_awards": 2,
                  "v_wahrscheinlichkeit": 0.02,
                  "v_degree": 0.047808764940239,
                  "v_betweenness": 0.0182785113193773,
                  "v_closeness": 0.25944170771757,
                  "v_pagerank": 0.00681422640825353,
                  "v_degree_global": 0.00476920456481008,
                  "v_betweenness_global": 0.00353344201779715,
                  "v_closeness_global": 0.219420027930666,
                  "v_pagerank_global": 0.000306941906444662,
                  "v_papabile_index": 0.00187949143173024,
                  "v_component": 1
                },
                "color": "indianred",
                "styles": {},
                "label": "José Tolentino Calaça de Mendonça (PT)",
                "scale_factor": 1,
                "type": "indianred",
                "size": [
                  55,
                  55
                ],
                "position": [
                  0,
                  0
                ],
                "heat": 0.375898286346048
              },
              {
                "id": "n31",
                "properties": {
                  "label": "Enrico Feroci",
                  "v_name": "bferoci.html",
                  "v_role": "Non-Voting (Age)",
                  "v_wikidata_id": "Q100860074",
                  "v_country_of_citizenship": ":IT:",
                  "v_num_awards": 1,
                  "v_wahrscheinlichkeit": 0,
                  "v_degree": 0.0119521912350598,
                  "v_betweenness": 0,
                  "v_closeness": 0.231332357247438,
                  "v_pagerank": 0.00294573522331017,
                  "v_degree_global": 0.00136262987566002,
                  "v_betweenness_global": 0.0000303419535679916,
                  "v_closeness_global": 0.211171285132624,
                  "v_pagerank_global": 0.00016678931420152,
                  "v_papabile_index": 0,
                  "v_component": 1
                },
                "color": "green",
                "styles": {},
                "label": "Enrico Feroci (IT)",
                "scale_factor": 1,
                "type": "green",
                "size": [
                  55,
                  55
                ],
                "position": [
                  0,
                  0
                ],
                "heat": 0
              },
              {
                "id": "n32",
                "properties": {
                  "label": "Ignace Bessi Dogbo",
                  "v_name": "bbessi.html",
                  "v_role": "Voting",
                  "v_wikidata_id": "Q1657212",
                  "v_country_of_citizenship": ":CI:",
                  "v_num_awards": 0,
                  "v_wahrscheinlichkeit": 0,
                  "v_degree": 0.00796812749003984,
                  "v_betweenness": 0,
                  "v_closeness": 0.221598877980365,
                  "v_pagerank": 0.0026302410978133,
                  "v_degree_global": 0.00272525975132005,
                  "v_betweenness_global": 0.000692550069642576,
                  "v_closeness_global": 0.192449023704878,
                  "v_pagerank_global": 0.000486552731213757,
                  "v_papabile_index": 0.00398009950248756,
                  "v_component": 1
                },
                "color": "indianred",
                "styles": {},
                "label": "Ignace Bessi Dogbo (CI)",
                "scale_factor": 1,
                "type": "indianred",
                "size": [
                  55,
                  55
                ],
                "position": [
                  0,
                  0
                ],
                "heat": 0.796019900497512
              },
              {
                "id": "n33",
                "properties": {
                  "label": "Óscar Andrés Rodríguez Maradiaga",
                  "v_name": "brodmar.html",
                  "v_role": "Non-Voting (Age)",
                  "v_wikidata_id": "Q293434",
                  "v_country_of_citizenship": ":HN:",
                  "v_num_awards": 6,
                  "v_wahrscheinlichkeit": 0.0125,
                  "v_degree": 0.0159362549800797,
                  "v_betweenness": 0,
                  "v_closeness": 0.208994708994709,
                  "v_pagerank": 0.00186651990507063,
                  "v_degree_global": 0.00817577925396014,
                  "v_betweenness_global": 0.00257402031288074,
                  "v_closeness_global": 0.205714725816389,
                  "v_pagerank_global": 0.000404242599358177,
                  "v_papabile_index": 0,
                  "v_component": 1
                },
                "color": "indianred",
                "styles": {},
                "label": "Óscar Andrés Rodríguez Maradiaga (HN)",
                "scale_factor": 1,
                "type": "indianred",
                "size": [
                  55,
                  55
                ],
                "position": [
                  0,
                  0
                ],
                "heat": 0
              },
              {
                "id": "n34",
                "properties": {
                  "label": "Angelo Bagnasco",
                  "v_name": "bbagnasco.html",
                  "v_role": "Non-Voting (Age)",
                  "v_wikidata_id": "Q378603",
                  "v_country_of_citizenship": ":IT:",
                  "v_num_awards": 3,
                  "v_wahrscheinlichkeit": 0.01,
                  "v_degree": 0.047808764940239,
                  "v_betweenness": 0.00845023388787718,
                  "v_closeness": 0.263333333333333,
                  "v_pagerank": 0.00917678172711625,
                  "v_degree_global": 0.00681314937830012,
                  "v_betweenness_global": 0.00243720715681948,
                  "v_closeness_global": 0.223197125428261,
                  "v_pagerank_global": 0.000448685890111908,
                  "v_papabile_index": 0,
                  "v_component": 1
                },
                "color": "green",
                "styles": {},
                "label": "Angelo Bagnasco (IT)",
                "scale_factor": 1,
                "type": "green",
                "size": [
                  55,
                  55
                ],
                "position": [
                  0,
                  0
                ],
                "heat": 0
              },
              {
                "id": "n35",
                "properties": {
                  "label": "Domenico Calcagno",
                  "v_name": "bcalcagno.html",
                  "v_role": "Non-Voting (Age)",
                  "v_wikidata_id": "Q654613",
                  "v_country_of_citizenship": ":IT:",
                  "v_num_awards": 1,
                  "v_wahrscheinlichkeit": 0,
                  "v_degree": 0.0119521912350598,
                  "v_betweenness": 0.0000411030526086864,
                  "v_closeness": 0.254428341384863,
                  "v_pagerank": 0.00269926951855166,
                  "v_degree_global": 0.000681314937830012,
                  "v_betweenness_global": 0.0000198387147030537,
                  "v_closeness_global": 0.215082336836172,
                  "v_pagerank_global": 0.0000941787993879822,
                  "v_papabile_index": 0,
                  "v_component": 1
                },
                "color": "green",
                "styles": {},
                "label": "Domenico Calcagno (IT)",
                "scale_factor": 1,
                "type": "green",
                "size": [
                  55,
                  55
                ],
                "position": [
                  0,
                  0
                ],
                "heat": 0
              },
              {
                "id": "n36",
                "properties": {
                  "label": "Dominique François Joseph Mamberti",
                  "v_name": "bmamberti.html",
                  "v_role": "Senior Cardinal-Deacon, Voting",
                  "v_wikidata_id": "Q616598",
                  "v_country_of_citizenship": ":FR:",
                  "v_num_awards": 4,
                  "v_wahrscheinlichkeit": 0,
                  "v_degree": 0.0597609561752988,
                  "v_betweenness": 0.00892659132066291,
                  "v_closeness": 0.327800829875519,
                  "v_pagerank": 0.0055525402592559,
                  "v_degree_global": 0.00664282064384262,
                  "v_betweenness_global": 0.00746552982351437,
                  "v_closeness_global": 0.267367367367367,
                  "v_pagerank_global": 0.000278076858974857,
                  "v_papabile_index": 0.00309563294637922,
                  "v_component": 1
                },
                "color": "indianred",
                "styles": {},
                "label": "Dominique François Joseph Mamberti (FR)",
                "scale_factor": 1,
                "type": "indianred",
                "size": [
                  55,
                  55
                ],
                "position": [
                  0,
                  0
                ],
                "heat": 0.619126589275844
              },
              {
                "id": "n37",
                "properties": {
                  "label": "Agostino Vallini",
                  "v_name": "bvallini.html",
                  "v_role": "Non-Voting (Age)",
                  "v_wikidata_id": "Q395751",
                  "v_country_of_citizenship": ":IT:",
                  "v_num_awards": 0,
                  "v_wahrscheinlichkeit": 0,
                  "v_degree": 0.131474103585657,
                  "v_betweenness": 0.0130071341244675,
                  "v_closeness": 0.324435318275154,
                  "v_pagerank": 0.00814428185114426,
                  "v_degree_global": 0.0143076136944302,
                  "v_betweenness_global": 0.004539579668802,
                  "v_closeness_global": 0.255806158119044,
                  "v_pagerank_global": 0.000537796350580898,
                  "v_papabile_index": 0,
                  "v_component": 1
                },
                "color": "green",
                "styles": {},
                "label": "Agostino Vallini (IT)",
                "scale_factor": 1,
                "type": "green",
                "size": [
                  55,
                  55
                ],
                "position": [
                  0,
                  0
                ],
                "heat": 0
              },
              {
                "id": "n38",
                "properties": {
                  "label": "Francesco Coccopalmerio",
                  "v_name": "bcocc.html",
                  "v_role": "Non-Voting (Age)",
                  "v_wikidata_id": "Q720642",
                  "v_country_of_citizenship": ":IT:",
                  "v_num_awards": 0,
                  "v_wahrscheinlichkeit": 0,
                  "v_degree": 0.0717131474103586,
                  "v_betweenness": 0.0079716542135208,
                  "v_closeness": 0.302681992337165,
                  "v_pagerank": 0.00684973172281783,
                  "v_degree_global": 0.0059615057060126,
                  "v_betweenness_global": 0.0114834410554973,
                  "v_closeness_global": 0.251696192989069,
                  "v_pagerank_global": 0.000228167035411999,
                  "v_papabile_index": 0,
                  "v_component": 1
                },
                "color": "green",
                "styles": {},
                "label": "Francesco Coccopalmerio (IT)",
                "scale_factor": 1,
                "type": "green",
                "size": [
                  55,
                  55
                ],
                "position": [
                  0,
                  0
                ],
                "heat": 0
              },
              {
                "id": "n39",
                "properties": {
                  "label": "Camillo Ruini",
                  "v_name": "bruini.html",
                  "v_role": "Non-Voting (Age)",
                  "v_wikidata_id": "Q505206",
                  "v_country_of_citizenship": ":IT:",
                  "v_num_awards": 1,
                  "v_wahrscheinlichkeit": 0,
                  "v_degree": 0.0916334661354582,
                  "v_betweenness": 0.0199654753914507,
                  "v_closeness": 0.302103250478011,
                  "v_pagerank": 0.00871517482478898,
                  "v_degree_global": 0.0144779424288878,
                  "v_betweenness_global": 0.0104277412697313,
                  "v_closeness_global": 0.258642393725186,
                  "v_pagerank_global": 0.000485555739443849,
                  "v_papabile_index": 0,
                  "v_component": 1
                },
                "color": "green",
                "styles": {},
                "label": "Camillo Ruini (IT)",
                "scale_factor": 1,
                "type": "green",
                "size": [
                  55,
                  55
                ],
                "position": [
                  0,
                  0
                ],
                "heat": 0
              },
              {
                "id": "n40",
                "properties": {
                  "label": "Dieudonné Nzapalainga",
                  "v_name": "bnzap.html",
                  "v_role": "Voting",
                  "v_wikidata_id": "Q1224285",
                  "v_country_of_citizenship": ":CF:",
                  "v_num_awards": 2,
                  "v_wahrscheinlichkeit": 0,
                  "v_degree": 0.00398406374501992,
                  "v_betweenness": 0,
                  "v_closeness": 0.255250403877221,
                  "v_pagerank": 0.00159449096695759,
                  "v_degree_global": 0.0059615057060126,
                  "v_betweenness_global": 0.00193093068172214,
                  "v_closeness_global": 0.230090020243787,
                  "v_pagerank_global": 0.00046334616134107,
                  "v_papabile_index": 0.0123825317855169,
                  "v_component": 1
                },
                "color": "indianred",
                "styles": {},
                "label": "Dieudonné Nzapalainga (CF)",
                "scale_factor": 1,
                "type": "indianred",
                "size": [
                  55,
                  55
                ],
                "position": [
                  0,
                  0
                ],
                "heat": 2.47650635710338
              },
              {
                "id": "n41",
                "properties": {
                  "label": "Victor Manuel Fernández",
                  "v_name": "bfernvm.html",
                  "v_role": "Voting",
                  "v_wikidata_id": "Q6165619",
                  "v_country_of_citizenship": ":AR:",
                  "v_num_awards": 0,
                  "v_wahrscheinlichkeit": 0,
                  "v_degree": 0.0199203187250996,
                  "v_betweenness": 0.0108685258964143,
                  "v_closeness": 0.189675870348139,
                  "v_pagerank": 0.00469408359429551,
                  "v_degree_global": 0.00919775166070516,
                  "v_betweenness_global": 0.00634482316621123,
                  "v_closeness_global": 0.198668600542973,
                  "v_pagerank_global": 0.000550976528865914,
                  "v_papabile_index": 0.000552791597567717,
                  "v_component": 1
                },
                "color": "indianred",
                "styles": {},
                "label": "Victor Manuel Fernández (AR)",
                "scale_factor": 1,
                "type": "indianred",
                "size": [
                  55,
                  55
                ],
                "position": [
                  0,
                  0
                ],
                "heat": 0.11055831951354339
              },
              {
                "id": "n42",
                "properties": {
                  "label": "Mario Grech",
                  "v_name": "bgrechm.html",
                  "v_role": "Voting",
                  "v_wikidata_id": "Q282268",
                  "v_country_of_citizenship": ":MT:",
                  "v_num_awards": 0,
                  "v_wahrscheinlichkeit": 0.025,
                  "v_degree": 0.00796812749003984,
                  "v_betweenness": 0,
                  "v_closeness": 0.283154121863799,
                  "v_pagerank": 0.00165696872901205,
                  "v_degree_global": 0.00408788962698007,
                  "v_betweenness_global": 0.00267511539710643,
                  "v_closeness_global": 0.24432857665569,
                  "v_pagerank_global": 0.000264372068063391,
                  "v_papabile_index": 0.00243228302929795,
                  "v_component": 1
                },
                "color": "indianred",
                "styles": {},
                "label": "Mario Grech (MT)",
                "scale_factor": 1,
                "type": "indianred",
                "size": [
                  55,
                  55
                ],
                "position": [
                  0,
                  0
                ],
                "heat": 0.48645660585958994
              },
              {
                "id": "n43",
                "properties": {
                  "label": "Mario Aurelio Poli",
                  "v_name": "bpoli.html",
                  "v_role": "Voting",
                  "v_wikidata_id": "Q1653816",
                  "v_country_of_citizenship": ":AR:",
                  "v_num_awards": 0,
                  "v_wahrscheinlichkeit": 0,
                  "v_degree": 0.0239043824701195,
                  "v_betweenness": 0.00648605577689243,
                  "v_closeness": 0.160243407707911,
                  "v_pagerank": 0.00463806790744603,
                  "v_degree_global": 0.0156702435700903,
                  "v_betweenness_global": 0.000987293408397943,
                  "v_closeness_global": 0.173910212585865,
                  "v_pagerank_global": 0.000728314618043448,
                  "v_papabile_index": 0.00906578220011056,
                  "v_component": 1
                },
                "color": "indianred",
                "styles": {},
                "label": "Mario Aurelio Poli (AR)",
                "scale_factor": 1,
                "type": "indianred",
                "size": [
                  55,
                  55
                ],
                "position": [
                  0,
                  0
                ],
                "heat": 1.8131564400221118
              },
              {
                "id": "n44",
                "properties": {
                  "label": "Ricardo Blázquez Pérez",
                  "v_name": "bblazp.html",
                  "v_role": "Non-Voting (Age)",
                  "v_wikidata_id": "Q364011",
                  "v_country_of_citizenship": ":ES:",
                  "v_num_awards": 0,
                  "v_wahrscheinlichkeit": 0,
                  "v_degree": 0.0637450199203187,
                  "v_betweenness": 0.00339512091636211,
                  "v_closeness": 0.264214046822742,
                  "v_pagerank": 0.00582621909267713,
                  "v_degree_global": 0.0124339976153977,
                  "v_betweenness_global": 0.000969731709839268,
                  "v_closeness_global": 0.224058384363728,
                  "v_pagerank_global": 0.000449578103114255,
                  "v_papabile_index": 0,
                  "v_component": 1
                },
                "color": "indianred",
                "styles": {},
                "label": "Ricardo Blázquez Pérez (ES)",
                "scale_factor": 1,
                "type": "indianred",
                "size": [
                  55,
                  55
                ],
                "position": [
                  0,
                  0
                ],
                "heat": 0
              },
              {
                "id": "n45",
                "properties": {
                  "label": "José Francisco Robles Ortega",
                  "v_name": "brobleso.html",
                  "v_role": "Voting",
                  "v_wikidata_id": "Q521158",
                  "v_country_of_citizenship": ":MX:",
                  "v_num_awards": 0,
                  "v_wahrscheinlichkeit": 0.01,
                  "v_degree": 0.103585657370518,
                  "v_betweenness": 0.0223468720135174,
                  "v_closeness": 0.305609284332689,
                  "v_pagerank": 0.00708482836870214,
                  "v_degree_global": 0.0154999148356328,
                  "v_betweenness_global": 0.010768034860119,
                  "v_closeness_global": 0.24672085719564,
                  "v_pagerank_global": 0.00040286615272826,
                  "v_papabile_index": 0.0133775566611388,
                  "v_component": 1
                },
                "color": "indianred",
                "styles": {},
                "label": "José Francisco Robles Ortega (MX)",
                "scale_factor": 1,
                "type": "indianred",
                "size": [
                  55,
                  55
                ],
                "position": [
                  0,
                  0
                ],
                "heat": 2.67551133222776
              },
              {
                "id": "n46",
                "properties": {
                  "label": "Michael Michai Kitbunchu",
                  "v_name": "bkitb.html",
                  "v_role": "Non-Voting (Age)",
                  "v_wikidata_id": "Q506672",
                  "v_country_of_citizenship": ":TH:",
                  "v_num_awards": 0,
                  "v_wahrscheinlichkeit": 0,
                  "v_degree": 0.0278884462151394,
                  "v_betweenness": 0.00449402390438247,
                  "v_closeness": 0.207621550591327,
                  "v_pagerank": 0.00630133186392058,
                  "v_degree_global": 0.00476920456481008,
                  "v_betweenness_global": 0.000660347499320289,
                  "v_closeness_global": 0.225944254113268,
                  "v_pagerank_global": 0.000243781039240422,
                  "v_papabile_index": 0,
                  "v_component": 1
                },
                "color": "indianred",
                "styles": {},
                "label": "Michael Michai Kitbunchu (TH)",
                "scale_factor": 1,
                "type": "indianred",
                "size": [
                  55,
                  55
                ],
                "position": [
                  0,
                  0
                ],
                "heat": 0
              },
              {
                "id": "n47",
                "properties": {
                  "label": "Joseph Coutts",
                  "v_name": "bcoutts.html",
                  "v_role": "Voting",
                  "v_wikidata_id": "Q446020",
                  "v_country_of_citizenship": ":PK:",
                  "v_num_awards": 1,
                  "v_wahrscheinlichkeit": 0,
                  "v_degree": 0.00796812749003984,
                  "v_betweenness": 0,
                  "v_closeness": 0.255250403877221,
                  "v_pagerank": 0.00159449096695643,
                  "v_degree_global": 0.00510986203372509,
                  "v_betweenness_global": 0.00176291499917162,
                  "v_closeness_global": 0.224133590668792,
                  "v_pagerank_global": 0.00033663914567135,
                  "v_papabile_index": 0.00818131564400221,
                  "v_component": 1
                },
                "color": "indianred",
                "styles": {},
                "label": "Joseph Coutts (PK)",
                "scale_factor": 1,
                "type": "indianred",
                "size": [
                  55,
                  55
                ],
                "position": [
                  0,
                  0
                ],
                "heat": 1.6362631288004421
              },
              {
                "id": "n48",
                "properties": {
                  "label": "Francisco Javier Errázuriz Ossa",
                  "v_name": "beros.html",
                  "v_role": "Non-Voting (Age)",
                  "v_wikidata_id": "Q512118",
                  "v_country_of_citizenship": ":CL:",
                  "v_num_awards": 0,
                  "v_wahrscheinlichkeit": 0,
                  "v_degree": 0.051792828685259,
                  "v_betweenness": 0.00404780876494024,
                  "v_closeness": 0.261157024793388,
                  "v_pagerank": 0.00543402982497686,
                  "v_degree_global": 0.00987906659853517,
                  "v_betweenness_global": 0.00238473851563793,
                  "v_closeness_global": 0.237718049127803,
                  "v_pagerank_global": 0.000442008519617516,
                  "v_papabile_index": 0,
                  "v_component": 1
                },
                "color": "indianred",
                "styles": {},
                "label": "Francisco Javier Errázuriz Ossa (CL)",
                "scale_factor": 1,
                "type": "indianred",
                "size": [
                  55,
                  55
                ],
                "position": [
                  0,
                  0
                ],
                "heat": 0
              },
              {
                "id": "n49",
                "properties": {
                  "label": "Protase Rugambwa",
                  "v_name": "brugam.html",
                  "v_role": "Voting",
                  "v_wikidata_id": "Q552752",
                  "v_country_of_citizenship": ":TZ:",
                  "v_num_awards": 0,
                  "v_wahrscheinlichkeit": 0,
                  "v_degree": 0.0239043824701195,
                  "v_betweenness": 0.00331577176890945,
                  "v_closeness": 0.287795992714026,
                  "v_pagerank": 0.00390914428850157,
                  "v_degree_global": 0.00613183444047011,
                  "v_betweenness_global": 0.0117726636285686,
                  "v_closeness_global": 0.248026743430216,
                  "v_pagerank_global": 0.000312181717231159,
                  "v_papabile_index": 0.0058595909342178,
                  "v_component": 1
                },
                "color": "indianred",
                "styles": {},
                "label": "Protase Rugambwa (TZ)",
                "scale_factor": 1,
                "type": "indianred",
                "size": [
                  55,
                  55
                ],
                "position": [
                  0,
                  0
                ],
                "heat": 1.17191818684356
              },
              {
                "id": "n50",
                "properties": {
                  "label": "Ricardo Ezzati Andrello",
                  "v_name": "bezza.html",
                  "v_role": "Non-Voting (Age)",
                  "v_wikidata_id": "Q1191589",
                  "v_country_of_citizenship": ":IT:",
                  "v_num_awards": 0,
                  "v_wahrscheinlichkeit": 0,
                  "v_degree": 0.047808764940239,
                  "v_betweenness": 0.0020398406374502,
                  "v_closeness": 0.207894736842105,
                  "v_pagerank": 0.00559478014263,
                  "v_degree_global": 0.00664282064384262,
                  "v_betweenness_global": 0.000602555089367497,
                  "v_closeness_global": 0.202847921017657,
                  "v_pagerank_global": 0.000268630933453523,
                  "v_papabile_index": 0,
                  "v_component": 1
                },
                "color": "green",
                "styles": {},
                "label": "Ricardo Ezzati Andrello (IT)",
                "scale_factor": 1,
                "type": "green",
                "size": [
                  55,
                  55
                ],
                "position": [
                  0,
                  0
                ],
                "heat": 0
              },
              {
                "id": "n51",
                "properties": {
                  "label": "Carlos Osoro Sierra",
                  "v_name": "bossi.html",
                  "v_role": "Voting",
                  "v_wikidata_id": "Q1043124",
                  "v_country_of_citizenship": ":ES:",
                  "v_num_awards": 1,
                  "v_wahrscheinlichkeit": 0,
                  "v_degree": 0.0717131474103586,
                  "v_betweenness": 0.00899435759156259,
                  "v_closeness": 0.294776119402985,
                  "v_pagerank": 0.00537814049754371,
                  "v_degree_global": 0.0105603815363652,
                  "v_betweenness_global": 0.00522842705379192,
                  "v_closeness_global": 0.249172069592798,
                  "v_pagerank_global": 0.00035500186611725,
                  "v_papabile_index": 0.00928689883913764,
                  "v_component": 1
                },
                "color": "indianred",
                "styles": {},
                "label": "Carlos Osoro Sierra (ES)",
                "scale_factor": 1,
                "type": "indianred",
                "size": [
                  55,
                  55
                ],
                "position": [
                  0,
                  0
                ],
                "heat": 1.857379767827528
              },
              {
                "id": "n52",
                "properties": {
                  "label": "Jose Lazaro Fuerte Advincula Jr.",
                  "v_name": "badvi.html",
                  "v_role": "Voting",
                  "v_wikidata_id": "Q1704113",
                  "v_country_of_citizenship": ":PH:",
                  "v_num_awards": 0,
                  "v_wahrscheinlichkeit": 0,
                  "v_degree": 0.00796812749003984,
                  "v_betweenness": 0,
                  "v_closeness": 0.229651162790698,
                  "v_pagerank": 0.00164857489214951,
                  "v_degree_global": 0.00493953329926759,
                  "v_betweenness_global": 0.00170432969455712,
                  "v_closeness_global": 0.21686355701701,
                  "v_pagerank_global": 0.00038761859192367,
                  "v_papabile_index": 0.0084024322830293,
                  "v_component": 1
                },
                "color": "indianred",
                "styles": {},
                "label": "Jose Lazaro Fuerte Advincula Jr. (PH)",
                "scale_factor": 1,
                "type": "indianred",
                "size": [
                  55,
                  55
                ],
                "position": [
                  0,
                  0
                ],
                "heat": 1.68048645660586
              },
              {
                "id": "n53",
                "properties": {
                  "label": "Antonio Maria Vegliò",
                  "v_name": "bveglio.html",
                  "v_role": "Non-Voting (Age)",
                  "v_wikidata_id": "Q517279",
                  "v_country_of_citizenship": ":IT:",
                  "v_num_awards": 1,
                  "v_wahrscheinlichkeit": 0,
                  "v_degree": 0.0557768924302789,
                  "v_betweenness": 0,
                  "v_closeness": 0.246105919003115,
                  "v_pagerank": 0.00478002630773374,
                  "v_degree_global": 0.00408788962698007,
                  "v_betweenness_global": 0.000167076878236114,
                  "v_closeness_global": 0.233152932960894,
                  "v_pagerank_global": 0.000133612323035048,
                  "v_papabile_index": 0,
                  "v_component": 1
                },
                "color": "green",
                "styles": {},
                "label": "Antonio Maria Vegliò (IT)",
                "scale_factor": 1,
                "type": "green",
                "size": [
                  55,
                  55
                ],
                "position": [
                  0,
                  0
                ],
                "heat": 0
              },
              {
                "id": "n54",
                "properties": {
                  "label": "João Bráz de Aviz",
                  "v_name": "bbraza.html",
                  "v_role": "Voting",
                  "v_wikidata_id": "Q703566",
                  "v_country_of_citizenship": ":BR:",
                  "v_num_awards": 0,
                  "v_wahrscheinlichkeit": 0.0125,
                  "v_degree": 0.00796812749003984,
                  "v_betweenness": 0,
                  "v_closeness": 0.113750899928006,
                  "v_pagerank": 0.00316222754856701,
                  "v_degree_global": 0.00340657468915006,
                  "v_betweenness_global": 0.000716235681361278,
                  "v_closeness_global": 0.17587989332631,
                  "v_pagerank_global": 0.000198879306100652,
                  "v_papabile_index": 0.0103924820342731,
                  "v_component": 1
                },
                "color": "indianred",
                "styles": {},
                "label": "João Bráz de Aviz (BR)",
                "scale_factor": 1,
                "type": "indianred",
                "size": [
                  55,
                  55
                ],
                "position": [
                  0,
                  0
                ],
                "heat": 2.07849640685462
              },
              {
                "id": "n55",
                "properties": {
                  "label": "Luis José Rueda Aparicio",
                  "v_name": "bruap.html",
                  "v_role": "Voting",
                  "v_wikidata_id": "Q1876444",
                  "v_country_of_citizenship": ":CO:",
                  "v_num_awards": 0,
                  "v_wahrscheinlichkeit": 0,
                  "v_degree": 0.0398406374501992,
                  "v_betweenness": 0,
                  "v_closeness": 0.241960183767228,
                  "v_pagerank": 0.00571442360782688,
                  "v_degree_global": 0.00766479305058763,
                  "v_betweenness_global": 0.000419705289154988,
                  "v_closeness_global": 0.21175724422246,
                  "v_pagerank_global": 0.000532285734494107,
                  "v_papabile_index": 0.00608070757324489,
                  "v_component": 1
                },
                "color": "indianred",
                "styles": {},
                "label": "Luis José Rueda Aparicio (CO)",
                "scale_factor": 1,
                "type": "indianred",
                "size": [
                  55,
                  55
                ],
                "position": [
                  0,
                  0
                ],
                "heat": 1.216141514648978
              },
              {
                "id": "n56",
                "properties": {
                  "label": "Jorge Enrique Jiménez Carvajal",
                  "v_name": "bjica.html",
                  "v_role": "Non-Voting (Age)",
                  "v_wikidata_id": "Q1703810",
                  "v_country_of_citizenship": ":CO:",
                  "v_num_awards": 0,
                  "v_wahrscheinlichkeit": 0,
                  "v_degree": 0.0278884462151394,
                  "v_betweenness": 0.000200759524676234,
                  "v_closeness": 0.26962457337884,
                  "v_pagerank": 0.00413970763122505,
                  "v_degree_global": 0.00528019076818259,
                  "v_betweenness_global": 0.000272213213160871,
                  "v_closeness_global": 0.223094591772813,
                  "v_pagerank_global": 0.000298160516343242,
                  "v_papabile_index": 0,
                  "v_component": 1
                },
                "color": "indianred",
                "styles": {},
                "label": "Jorge Enrique Jiménez Carvajal (CO)",
                "scale_factor": 1,
                "type": "indianred",
                "size": [
                  55,
                  55
                ],
                "position": [
                  0,
                  0
                ],
                "heat": 0
              },
              {
                "id": "n57",
                "properties": {
                  "label": "Michael F. Czerny",
                  "v_name": "bczerny.html",
                  "v_role": "Voting",
                  "v_wikidata_id": "Q28007559",
                  "v_country_of_citizenship": ":CA:",
                  "v_num_awards": 1,
                  "v_wahrscheinlichkeit": 0.0125,
                  "v_degree": 0.0199203187250996,
                  "v_betweenness": 0.00100717131474104,
                  "v_closeness": 0.285198555956679,
                  "v_pagerank": 0.00313272874771631,
                  "v_degree_global": 0.00119230114120252,
                  "v_betweenness_global": 0.0000312054940456253,
                  "v_closeness_global": 0.234761590859152,
                  "v_pagerank_global": 0.000175856627011916,
                  "v_papabile_index": 0.00154781647318961,
                  "v_component": 1
                },
                "color": "indianred",
                "styles": {},
                "label": "Michael F. Czerny (CA)",
                "scale_factor": 1,
                "type": "indianred",
                "size": [
                  55,
                  55
                ],
                "position": [
                  0,
                  0
                ],
                "heat": 0.309563294637922
              },
              {
                "id": "n58",
                "properties": {
                  "label": "Silvano Maria Tomasi",
                  "v_name": "btoms.html",
                  "v_role": "Non-Voting (Age)",
                  "v_wikidata_id": "Q456266",
                  "v_country_of_citizenship": ":IT:",
                  "v_num_awards": 0,
                  "v_wahrscheinlichkeit": 0,
                  "v_degree": 0.0199203187250996,
                  "v_betweenness": 0.00347410358565737,
                  "v_closeness": 0.284684684684685,
                  "v_pagerank": 0.00298837844679149,
                  "v_degree_global": 0.00187361607903253,
                  "v_betweenness_global": 0.000424065773273406,
                  "v_closeness_global": 0.234926777782664,
                  "v_pagerank_global": 0.000200941941675721,
                  "v_papabile_index": 0,
                  "v_component": 1
                },
                "color": "green",
                "styles": {},
                "label": "Silvano Maria Tomasi (IT)",
                "scale_factor": 1,
                "type": "green",
                "size": [
                  55,
                  55
                ],
                "position": [
                  0,
                  0
                ],
                "heat": 0
              },
              {
                "id": "n59",
                "properties": {
                  "label": "Marc Armand Ouellet",
                  "v_name": "bouelletm.html",
                  "v_role": "Non-Voting (Age)",
                  "v_wikidata_id": "Q711547",
                  "v_country_of_citizenship": ":CA:",
                  "v_num_awards": 2,
                  "v_wahrscheinlichkeit": 0.0142857142857143,
                  "v_degree": 0.0717131474103586,
                  "v_betweenness": 0.00404848318650659,
                  "v_closeness": 0.344978165938865,
                  "v_pagerank": 0.00580078134365473,
                  "v_degree_global": 0.00851643672287515,
                  "v_betweenness_global": 0.0154627671102155,
                  "v_closeness_global": 0.276257951078244,
                  "v_pagerank_global": 0.000361117189530966,
                  "v_papabile_index": 0,
                  "v_component": 1
                },
                "color": "indianred",
                "styles": {},
                "label": "Marc Armand Ouellet (CA)",
                "scale_factor": 1,
                "type": "indianred",
                "size": [
                  55,
                  55
                ],
                "position": [
                  0,
                  0
                ],
                "heat": 0
              },
              {
                "id": "n60",
                "properties": {
                  "label": "Seán Patrick O’Malley",
                  "v_name": "bomalley.html",
                  "v_role": "Non-Voting (Age)",
                  "v_wikidata_id": "Q472192",
                  "v_country_of_citizenship": ":US:",
                  "v_num_awards": 2,
                  "v_wahrscheinlichkeit": 0.0125,
                  "v_degree": 0.0199203187250996,
                  "v_betweenness": 0.00200796812749004,
                  "v_closeness": 0.198992443324937,
                  "v_pagerank": 0.00347011130492411,
                  "v_degree_global": 0.00953840912962017,
                  "v_betweenness_global": 0.00517719327204681,
                  "v_closeness_global": 0.196512654502649,
                  "v_pagerank_global": 0.000846474062315908,
                  "v_papabile_index": 0,
                  "v_component": 1
                },
                "color": "indianred",
                "styles": {},
                "label": "Seán Patrick O’Malley (US)",
                "scale_factor": 1,
                "type": "indianred",
                "size": [
                  55,
                  55
                ],
                "position": [
                  0,
                  0
                ],
                "heat": 0
              },
              {
                "id": "n61",
                "properties": {
                  "label": "Justin Francis Rigali",
                  "v_name": "brigali.html",
                  "v_role": "Non-Voting (Age)",
                  "v_wikidata_id": "Q503833",
                  "v_country_of_citizenship": ":US:",
                  "v_num_awards": 0,
                  "v_wahrscheinlichkeit": 0,
                  "v_degree": 0.171314741035857,
                  "v_betweenness": 0.0151213964606571,
                  "v_closeness": 0.295880149812734,
                  "v_pagerank": 0.00783539128735105,
                  "v_degree_global": 0.0153295861011753,
                  "v_betweenness_global": 0.0208743585785879,
                  "v_closeness_global": 0.260967269174402,
                  "v_pagerank_global": 0.000282672030392374,
                  "v_papabile_index": 0,
                  "v_component": 1
                },
                "color": "indianred",
                "styles": {},
                "label": "Justin Francis Rigali (US)",
                "scale_factor": 1,
                "type": "indianred",
                "size": [
                  55,
                  55
                ],
                "position": [
                  0,
                  0
                ],
                "heat": 0
              },
              {
                "id": "n62",
                "properties": {
                  "label": "Blase Joseph Cupich",
                  "v_name": "bcupich.html",
                  "v_role": "Voting",
                  "v_wikidata_id": "Q556737",
                  "v_country_of_citizenship": ":US:",
                  "v_num_awards": 0,
                  "v_wahrscheinlichkeit": 0.0151515151515152,
                  "v_degree": 0.00796812749003984,
                  "v_betweenness": 0,
                  "v_closeness": 0.196273291925466,
                  "v_pagerank": 0.00142235732894114,
                  "v_degree_global": 0.0115823539431102,
                  "v_betweenness_global": 0.00250204017779014,
                  "v_closeness_global": 0.194452533488643,
                  "v_pagerank_global": 0.000452577803084555,
                  "v_papabile_index": 0.0122719734660033,
                  "v_component": 1
                },
                "color": "indianred",
                "styles": {},
                "label": "Blase Joseph Cupich (US)",
                "scale_factor": 1,
                "type": "indianred",
                "size": [
                  55,
                  55
                ],
                "position": [
                  0,
                  0
                ],
                "heat": 2.45439469320066
              },
              {
                "id": "n63",
                "properties": {
                  "label": "Beniamino Stella",
                  "v_name": "bstella.html",
                  "v_role": "Non-Voting (Age)",
                  "v_wikidata_id": "Q817288",
                  "v_country_of_citizenship": ":IT:",
                  "v_num_awards": 0,
                  "v_wahrscheinlichkeit": 0,
                  "v_degree": 0.0597609561752988,
                  "v_betweenness": 0.0256566852514283,
                  "v_closeness": 0.348017621145374,
                  "v_pagerank": 0.00530799367461115,
                  "v_degree_global": 0.0103900528019077,
                  "v_betweenness_global": 0.0130799001392271,
                  "v_closeness_global": 0.268847508807247,
                  "v_pagerank_global": 0.000365107998885019,
                  "v_papabile_index": 0,
                  "v_component": 1
                },
                "color": "green",
                "styles": {},
                "label": "Beniamino Stella (IT)",
                "scale_factor": 1,
                "type": "green",
                "size": [
                  55,
                  55
                ],
                "position": [
                  0,
                  0
                ],
                "heat": 0
              },
              {
                "id": "n64",
                "properties": {
                  "label": "Gualtiero Bassetti",
                  "v_name": "bbassetti.html",
                  "v_role": "Non-Voting (Age)",
                  "v_wikidata_id": "Q143533",
                  "v_country_of_citizenship": ":IT:",
                  "v_num_awards": 0,
                  "v_wahrscheinlichkeit": 0,
                  "v_degree": 0.0557768924302789,
                  "v_betweenness": 0.00290095987295216,
                  "v_closeness": 0.262895174708819,
                  "v_pagerank": 0.00684967178852297,
                  "v_degree_global": 0.00987906659853517,
                  "v_betweenness_global": 0.00292109956558669,
                  "v_closeness_global": 0.23293943225919,
                  "v_pagerank_global": 0.000671165279522216,
                  "v_papabile_index": 0,
                  "v_component": 1
                },
                "color": "green",
                "styles": {},
                "label": "Gualtiero Bassetti (IT)",
                "scale_factor": 1,
                "type": "green",
                "size": [
                  55,
                  55
                ],
                "position": [
                  0,
                  0
                ],
                "heat": 0
              },
              {
                "id": "n65",
                "properties": {
                  "label": "Arrigo Miglio",
                  "v_name": "bmiglio.html",
                  "v_role": "Non-Voting (Age)",
                  "v_wikidata_id": "Q556243",
                  "v_country_of_citizenship": ":IT:",
                  "v_num_awards": 0,
                  "v_wahrscheinlichkeit": 0,
                  "v_degree": 0.0318725099601594,
                  "v_betweenness": 0.00486073462529674,
                  "v_closeness": 0.319838056680162,
                  "v_pagerank": 0.00413533234920603,
                  "v_degree_global": 0.00630216317492761,
                  "v_betweenness_global": 0.00445873770462189,
                  "v_closeness_global": 0.258129983087702,
                  "v_pagerank_global": 0.000376723248595086,
                  "v_papabile_index": 0,
                  "v_component": 1
                },
                "color": "green",
                "styles": {},
                "label": "Arrigo Miglio (IT)",
                "scale_factor": 1,
                "type": "green",
                "size": [
                  55,
                  55
                ],
                "position": [
                  0,
                  0
                ],
                "heat": 0
              },
              {
                "id": "n66",
                "properties": {
                  "label": "Jean-Pierre Kutwa",
                  "v_name": "bkutwa.html",
                  "v_role": "Voting",
                  "v_wikidata_id": "Q602246",
                  "v_country_of_citizenship": ":CI:",
                  "v_num_awards": 0,
                  "v_wahrscheinlichkeit": 0,
                  "v_degree": 0.0159362549800797,
                  "v_betweenness": 0.00449402390438247,
                  "v_closeness": 0.284172661870504,
                  "v_pagerank": 0.00389267366215336,
                  "v_degree_global": 0.00272525975132005,
                  "v_betweenness_global": 0.00165967622954793,
                  "v_closeness_global": 0.235195702901422,
                  "v_pagerank_global": 0.000279951551218166,
                  "v_papabile_index": 0.0139303482587065,
                  "v_component": 1
                },
                "color": "indianred",
                "styles": {},
                "label": "Jean-Pierre Kutwa (CI)",
                "scale_factor": 1,
                "type": "indianred",
                "size": [
                  55,
                  55
                ],
                "position": [
                  0,
                  0
                ],
                "heat": 2.7860696517413
              },
              {
                "id": "n67",
                "properties": {
                  "label": "Giuseppe Betori",
                  "v_name": "bbetori.html",
                  "v_role": "Voting",
                  "v_wikidata_id": "Q82672",
                  "v_country_of_citizenship": ":IT:",
                  "v_num_awards": 1,
                  "v_wahrscheinlichkeit": 0,
                  "v_degree": 0.0717131474103586,
                  "v_betweenness": 0.00756502462553635,
                  "v_closeness": 0.272413793103448,
                  "v_pagerank": 0.0092416016173731,
                  "v_degree_global": 0.0109010390052802,
                  "v_betweenness_global": 0.00687543621501211,
                  "v_closeness_global": 0.240219444194622,
                  "v_pagerank_global": 0.000723319157262507,
                  "v_papabile_index": 0.00862354892205638,
                  "v_component": 1
                },
                "color": "green",
                "styles": {},
                "label": "Giuseppe Betori (IT)",
                "scale_factor": 1,
                "type": "green",
                "size": [
                  55,
                  55
                ],
                "position": [
                  0,
                  0
                ],
                "heat": 1.7247097844112758
              },
              {
                "id": "n68",
                "properties": {
                  "label": "Giovanni Battista Re",
                  "v_name": "bre.html",
                  "v_role": "Dean, Non-Voting (Age)",
                  "v_wikidata_id": "Q44842",
                  "v_country_of_citizenship": ":IT:",
                  "v_num_awards": 4,
                  "v_wahrscheinlichkeit": 0.0588235294117647,
                  "v_degree": 0.262948207171315,
                  "v_betweenness": 0.046431669258686,
                  "v_closeness": 0.346491228070175,
                  "v_pagerank": 0.00998869488705493,
                  "v_degree_global": 0.0275932549821155,
                  "v_betweenness_global": 0.0426599987253076,
                  "v_closeness_global": 0.303643494571705,
                  "v_pagerank_global": 0.000301645060652447,
                  "v_papabile_index": 0,
                  "v_component": 1
                },
                "color": "green",
                "styles": {},
                "label": "Giovanni Battista Re (IT)",
                "scale_factor": 1,
                "type": "green",
                "size": [
                  55,
                  55
                ],
                "position": [
                  0,
                  0
                ],
                "heat": 0
              },
              {
                "id": "n69",
                "properties": {
                  "label": "Péter Erdő",
                  "v_name": "berdo.html",
                  "v_role": "Voting",
                  "v_wikidata_id": "Q285833",
                  "v_country_of_citizenship": ":HU:",
                  "v_num_awards": 10,
                  "v_wahrscheinlichkeit": 0.1,
                  "v_degree": 0.0159362549800797,
                  "v_betweenness": 0.00212054915098827,
                  "v_closeness": 0.309197651663405,
                  "v_pagerank": 0.00187467105347332,
                  "v_degree_global": 0.0119230114120252,
                  "v_betweenness_global": 0.00675043359515499,
                  "v_closeness_global": 0.25537814322593,
                  "v_pagerank_global": 0.000597530466844612,
                  "v_papabile_index": 0.01404090657822,
                  "v_component": 1
                },
                "color": "indianred",
                "styles": {},
                "label": "Péter Erdő (HU)",
                "scale_factor": 1,
                "type": "indianred",
                "size": [
                  55,
                  55
                ],
                "position": [
                  0,
                  0
                ],
                "heat": 2.808181315644
              },
              {
                "id": "n70",
                "properties": {
                  "label": "Lorenzo Baldisseri",
                  "v_name": "bbaldl.html",
                  "v_role": "Non-Voting (Age)",
                  "v_wikidata_id": "Q1870209",
                  "v_country_of_citizenship": ":IT:",
                  "v_num_awards": 0,
                  "v_wahrscheinlichkeit": 0,
                  "v_degree": 0.0398406374501992,
                  "v_betweenness": 0.0294247247339037,
                  "v_closeness": 0.319838056680162,
                  "v_pagerank": 0.00387503370824718,
                  "v_degree_global": 0.00630216317492761,
                  "v_betweenness_global": 0.031085518887043,
                  "v_closeness_global": 0.270016174686615,
                  "v_pagerank_global": 0.000293382323089221,
                  "v_papabile_index": 0,
                  "v_component": 1
                },
                "color": "green",
                "styles": {},
                "label": "Lorenzo Baldisseri (IT)",
                "scale_factor": 1,
                "type": "green",
                "size": [
                  55,
                  55
                ],
                "position": [
                  0,
                  0
                ],
                "heat": 0
              },
              {
                "id": "n71",
                "properties": {
                  "label": "Franc Rodé",
                  "v_name": "brode.html",
                  "v_role": "Non-Voting (Age)",
                  "v_wikidata_id": "Q468883",
                  "v_country_of_citizenship": ":SI:",
                  "v_num_awards": 0,
                  "v_wahrscheinlichkeit": 0,
                  "v_degree": 0.0756972111553785,
                  "v_betweenness": 0,
                  "v_closeness": 0.296435272045028,
                  "v_pagerank": 0.00494363165564527,
                  "v_degree_global": 0.00749446431613013,
                  "v_betweenness_global": 0.00314398441382606,
                  "v_closeness_global": 0.240565612897415,
                  "v_pagerank_global": 0.000232705345069361,
                  "v_papabile_index": 0,
                  "v_component": 1
                },
                "color": "indianred",
                "styles": {},
                "label": "Franc Rodé (SI)",
                "scale_factor": 1,
                "type": "indianred",
                "size": [
                  55,
                  55
                ],
                "position": [
                  0,
                  0
                ],
                "heat": 0
              },
              {
                "id": "n72",
                "properties": {
                  "label": "Ennio Antonelli",
                  "v_name": "bantoe.html",
                  "v_role": "Non-Voting (Age)",
                  "v_wikidata_id": "Q82692",
                  "v_country_of_citizenship": ":IT:",
                  "v_num_awards": 0,
                  "v_wahrscheinlichkeit": 0,
                  "v_degree": 0.0278884462151394,
                  "v_betweenness": 0.000179009330804551,
                  "v_closeness": 0.249211356466877,
                  "v_pagerank": 0.00325667139488711,
                  "v_degree_global": 0.00238460228240504,
                  "v_betweenness_global": 0.0000613747691063666,
                  "v_closeness_global": 0.212346464204794,
                  "v_pagerank_global": 0.000154438970313396,
                  "v_papabile_index": 0,
                  "v_component": 1
                },
                "color": "green",
                "styles": {},
                "label": "Ennio Antonelli (IT)",
                "scale_factor": 1,
                "type": "green",
                "size": [
                  55,
                  55
                ],
                "position": [
                  0,
                  0
                ],
                "heat": 0
              },
              {
                "id": "n73",
                "properties": {
                  "label": "Donald William Wuerl",
                  "v_name": "bwuerl.html",
                  "v_role": "Non-Voting (Age)",
                  "v_wikidata_id": "Q386256",
                  "v_country_of_citizenship": ":US:",
                  "v_num_awards": 0,
                  "v_wahrscheinlichkeit": 0,
                  "v_degree": 0.0677290836653386,
                  "v_betweenness": 0.0182579679356098,
                  "v_closeness": 0.246875,
                  "v_pagerank": 0.0123466921922933,
                  "v_degree_global": 0.0100493953329927,
                  "v_betweenness_global": 0.00594773248872933,
                  "v_closeness_global": 0.21824570004494,
                  "v_pagerank_global": 0.000408468000840028,
                  "v_papabile_index": 0,
                  "v_component": 1
                },
                "color": "indianred",
                "styles": {},
                "label": "Donald William Wuerl (US)",
                "scale_factor": 1,
                "type": "indianred",
                "size": [
                  55,
                  55
                ],
                "position": [
                  0,
                  0
                ],
                "heat": 0
              },
              {
                "id": "n74",
                "properties": {
                  "label": "Juan de la Caridad García Rodríguez",
                  "v_name": "bgarciar.html",
                  "v_role": "Voting",
                  "v_wikidata_id": "Q555975",
                  "v_country_of_citizenship": ":CU:",
                  "v_num_awards": 0,
                  "v_wahrscheinlichkeit": 0,
                  "v_degree": 0.00796812749003984,
                  "v_betweenness": 0,
                  "v_closeness": 0.212651413189771,
                  "v_pagerank": 0.0015811048271568,
                  "v_degree_global": 0.00408788962698007,
                  "v_betweenness_global": 0.00121350396976487,
                  "v_closeness_global": 0.191889076475448,
                  "v_pagerank_global": 0.000317516005075632,
                  "v_papabile_index": 0.00829187396351575,
                  "v_component": 1
                },
                "color": "indianred",
                "styles": {},
                "label": "Juan de la Caridad García Rodríguez (CU)",
                "scale_factor": 1,
                "type": "indianred",
                "size": [
                  55,
                  55
                ],
                "position": [
                  0,
                  0
                ],
                "heat": 1.65837479270315
              },
              {
                "id": "n75",
                "properties": {
                  "label": "François-Xavier Bustillo",
                  "v_name": "bbustillo.html",
                  "v_role": "Voting",
                  "v_wikidata_id": "Q106800926",
                  "v_country_of_citizenship": ":ES:",
                  "v_num_awards": 1,
                  "v_wahrscheinlichkeit": 0,
                  "v_degree": 0.00398406374501992,
                  "v_betweenness": 0,
                  "v_closeness": 0.221598877980365,
                  "v_pagerank": 0.00168006650122979,
                  "v_degree_global": 0.00136262987566002,
                  "v_betweenness_global": 0.0000884985675470577,
                  "v_closeness_global": 0.198698158824623,
                  "v_pagerank_global": 0.000197340170662206,
                  "v_papabile_index": 0.00431177446102819,
                  "v_component": 1
                },
                "color": "indianred",
                "styles": {},
                "label": "François-Xavier Bustillo (ES)",
                "scale_factor": 1,
                "type": "indianred",
                "size": [
                  55,
                  55
                ],
                "position": [
                  0,
                  0
                ],
                "heat": 0.8623548922056379
              },
              {
                "id": "n76",
                "properties": {
                  "label": "Friedrich Wetter",
                  "v_name": "bwetter.html",
                  "v_role": "Non-Voting (Age)",
                  "v_wikidata_id": "Q45034",
                  "v_country_of_citizenship": ":DE:",
                  "v_num_awards": 7,
                  "v_wahrscheinlichkeit": 0,
                  "v_degree": 0.0199203187250996,
                  "v_betweenness": 0,
                  "v_closeness": 0.225392296718973,
                  "v_pagerank": 0.00338987650150798,
                  "v_degree_global": 0.00170328734457503,
                  "v_betweenness_global": 0.0000311685988550912,
                  "v_closeness_global": 0.197383978717115,
                  "v_pagerank_global": 0.000124979375844047,
                  "v_papabile_index": 0,
                  "v_component": 1
                },
                "color": "indianred",
                "styles": {},
                "label": "Friedrich Wetter (DE)",
                "scale_factor": 1,
                "type": "indianred",
                "size": [
                  55,
                  55
                ],
                "position": [
                  0,
                  0
                ],
                "heat": 0
              },
              {
                "id": "n77",
                "properties": {
                  "label": "Stanisław Dziwisz",
                  "v_name": "bdziwisz.html",
                  "v_role": "Non-Voting (Age)",
                  "v_wikidata_id": "Q354306",
                  "v_country_of_citizenship": ":PL:",
                  "v_num_awards": 14,
                  "v_wahrscheinlichkeit": 0,
                  "v_degree": 0.0278884462151394,
                  "v_betweenness": 0.00886704485452326,
                  "v_closeness": 0.246105919003115,
                  "v_pagerank": 0.00265030627908221,
                  "v_degree_global": 0.0107307102708227,
                  "v_betweenness_global": 0.00771330582394074,
                  "v_closeness_global": 0.239992811896312,
                  "v_pagerank_global": 0.000372144206280486,
                  "v_papabile_index": 0,
                  "v_component": 1
                },
                "color": "indianred",
                "styles": {},
                "label": "Stanisław Dziwisz (PL)",
                "scale_factor": 1,
                "type": "indianred",
                "size": [
                  55,
                  55
                ],
                "position": [
                  0,
                  0
                ],
                "heat": 0
              },
              {
                "id": "n78",
                "properties": {
                  "label": "Josip Bozanić",
                  "v_name": "bbozanic.html",
                  "v_role": "Voting",
                  "v_wikidata_id": "Q365529",
                  "v_country_of_citizenship": ":HR:",
                  "v_num_awards": 4,
                  "v_wahrscheinlichkeit": 0,
                  "v_degree": 0.00796812749003984,
                  "v_betweenness": 0,
                  "v_closeness": 0.161060142711519,
                  "v_pagerank": 0.00823587697146996,
                  "v_degree_global": 0.0103900528019077,
                  "v_betweenness_global": 0.00274056724360471,
                  "v_closeness_global": 0.214891990828271,
                  "v_pagerank_global": 0.000607177534273193,
                  "v_papabile_index": 0.0107241569928137,
                  "v_component": 1
                },
                "color": "indianred",
                "styles": {},
                "label": "Josip Bozanić (HR)",
                "scale_factor": 1,
                "type": "indianred",
                "size": [
                  55,
                  55
                ],
                "position": [
                  0,
                  0
                ],
                "heat": 2.14483139856274
              },
              {
                "id": "n79",
                "properties": {
                  "label": "Kurt Koch",
                  "v_name": "bkoch.html",
                  "v_role": "Voting",
                  "v_wikidata_id": "Q45170",
                  "v_country_of_citizenship": ":CH:",
                  "v_num_awards": 4,
                  "v_wahrscheinlichkeit": 0,
                  "v_degree": 0.0119521912350598,
                  "v_betweenness": 0,
                  "v_closeness": 0.280141843971631,
                  "v_pagerank": 0.00173701018962295,
                  "v_degree_global": 0.00306591722023505,
                  "v_betweenness_global": 0.00222771022653178,
                  "v_closeness_global": 0.24825727298076,
                  "v_pagerank_global": 0.000204673232803545,
                  "v_papabile_index": 0.0116086235489221,
                  "v_component": 1
                },
                "color": "indianred",
                "styles": {},
                "label": "Kurt Koch (CH)",
                "scale_factor": 1,
                "type": "indianred",
                "size": [
                  55,
                  55
                ],
                "position": [
                  0,
                  0
                ],
                "heat": 2.3217247097844202
              },
              {
                "id": "n80",
                "properties": {
                  "label": "Timothy Michael Dolan",
                  "v_name": "bdolan.html",
                  "v_role": "Voting",
                  "v_wikidata_id": "Q225823",
                  "v_country_of_citizenship": ":US:",
                  "v_num_awards": 2,
                  "v_wahrscheinlichkeit": 0.02,
                  "v_degree": 0.0119521912350598,
                  "v_betweenness": 0,
                  "v_closeness": 0.228654124457308,
                  "v_pagerank": 0.00153086167425331,
                  "v_degree_global": 0.0117526826775677,
                  "v_betweenness_global": 0.00452559786616665,
                  "v_closeness_global": 0.214935221694697,
                  "v_pagerank_global": 0.00048186868685167,
                  "v_papabile_index": 0.00939745715865119,
                  "v_component": 1
                },
                "color": "indianred",
                "styles": {},
                "label": "Timothy Michael Dolan (US)",
                "scale_factor": 1,
                "type": "indianred",
                "size": [
                  55,
                  55
                ],
                "position": [
                  0,
                  0
                ],
                "heat": 1.8794914317302382
              },
              {
                "id": "n81",
                "properties": {
                  "label": "Peter Kodwo Appiah Turkson",
                  "v_name": "bturkson.html",
                  "v_role": "Voting",
                  "v_wikidata_id": "Q546121",
                  "v_country_of_citizenship": ":GH:",
                  "v_num_awards": 0,
                  "v_wahrscheinlichkeit": 0.166666666666667,
                  "v_degree": 0.0358565737051793,
                  "v_betweenness": 0,
                  "v_closeness": 0.284172661870504,
                  "v_pagerank": 0.0037003105418492,
                  "v_degree_global": 0.00630216317492761,
                  "v_betweenness_global": 0.00449068054699985,
                  "v_closeness_global": 0.238078260094483,
                  "v_pagerank_global": 0.000319056072393434,
                  "v_papabile_index": 0.0137092316196794,
                  "v_component": 1
                },
                "color": "indianred",
                "styles": {},
                "label": "Peter Kodwo Appiah Turkson (GH)",
                "scale_factor": 1,
                "type": "indianred",
                "size": [
                  55,
                  55
                ],
                "position": [
                  0,
                  0
                ],
                "heat": 2.74184632393588
              },
              {
                "id": "n82",
                "properties": {
                  "label": "Daniel Nicholas DiNardo",
                  "v_name": "bdinardo.html",
                  "v_role": "Voting",
                  "v_wikidata_id": "Q703802",
                  "v_country_of_citizenship": ":US:",
                  "v_num_awards": 1,
                  "v_wahrscheinlichkeit": 0,
                  "v_degree": 0.0159362549800797,
                  "v_betweenness": 0,
                  "v_closeness": 0.218836565096953,
                  "v_pagerank": 0.00431085204134609,
                  "v_degree_global": 0.00476920456481008,
                  "v_betweenness_global": 0.0013703909235752,
                  "v_closeness_global": 0.201882015041004,
                  "v_pagerank_global": 0.000318126645241655,
                  "v_papabile_index": 0.0108347153123273,
                  "v_component": 1
                },
                "color": "indianred",
                "styles": {},
                "label": "Daniel Nicholas DiNardo (US)",
                "scale_factor": 1,
                "type": "indianred",
                "size": [
                  55,
                  55
                ],
                "position": [
                  0,
                  0
                ],
                "heat": 2.1669430624654598
              },
              {
                "id": "n83",
                "properties": {
                  "label": "Raffaele Farina",
                  "v_name": "bfarin.html",
                  "v_role": "Non-Voting (Age)",
                  "v_wikidata_id": "Q127211",
                  "v_country_of_citizenship": ":IT:",
                  "v_num_awards": 1,
                  "v_wahrscheinlichkeit": 0,
                  "v_degree": 0.0119521912350598,
                  "v_betweenness": 0.00202390438247012,
                  "v_closeness": 0.282142857142857,
                  "v_pagerank": 0.00203893242088045,
                  "v_degree_global": 0.000851643672287515,
                  "v_betweenness_global": 0.000236870271388912,
                  "v_closeness_global": 0.234916446789798,
                  "v_pagerank_global": 0.000105026399204592,
                  "v_papabile_index": 0,
                  "v_component": 1
                },
                "color": "green",
                "styles": {},
                "label": "Raffaele Farina (IT)",
                "scale_factor": 1,
                "type": "green",
                "size": [
                  55,
                  55
                ],
                "position": [
                  0,
                  0
                ],
                "heat": 0
              },
              {
                "id": "n84",
                "properties": {
                  "label": "Celestino Aós Braco",
                  "v_name": "baosbr.html",
                  "v_role": "Non-Voting (Age)",
                  "v_wikidata_id": "Q17417834",
                  "v_country_of_citizenship": ":ES:",
                  "v_num_awards": 0,
                  "v_wahrscheinlichkeit": 0,
                  "v_degree": 0.00796812749003984,
                  "v_betweenness": 0,
                  "v_closeness": 0.280639431616341,
                  "v_pagerank": 0.00147793060326122,
                  "v_degree_global": 0.00783512178504514,
                  "v_betweenness_global": 0.00578798187315866,
                  "v_closeness_global": 0.238141940085592,
                  "v_pagerank_global": 0.000493714944131647,
                  "v_papabile_index": 0,
                  "v_component": 1
                },
                "color": "indianred",
                "styles": {},
                "label": "Celestino Aós Braco (ES)",
                "scale_factor": 1,
                "type": "indianred",
                "size": [
                  55,
                  55
                ],
                "position": [
                  0,
                  0
                ],
                "heat": 0
              },
              {
                "id": "n85",
                "properties": {
                  "label": "Edwin Frederick O’Brien",
                  "v_name": "bobrien.html",
                  "v_role": "Non-Voting (Age)",
                  "v_wikidata_id": "Q703552",
                  "v_country_of_citizenship": ":US:",
                  "v_num_awards": 0,
                  "v_wahrscheinlichkeit": 0,
                  "v_degree": 0.0318725099601594,
                  "v_betweenness": 0.00368224700460777,
                  "v_closeness": 0.234421364985163,
                  "v_pagerank": 0.00475158768730959,
                  "v_degree_global": 0.00374723215806507,
                  "v_betweenness_global": 0.0014696348222611,
                  "v_closeness_global": 0.21423701624223,
                  "v_pagerank_global": 0.000161419235483723,
                  "v_papabile_index": 0,
                  "v_component": 1
                },
                "color": "indianred",
                "styles": {},
                "label": "Edwin Frederick O’Brien (US)",
                "scale_factor": 1,
                "type": "indianred",
                "size": [
                  55,
                  55
                ],
                "position": [
                  0,
                  0
                ],
                "heat": 0
              },
              {
                "id": "n86",
                "properties": {
                  "label": "Norberto Rivera Carrera",
                  "v_name": "brivera.html",
                  "v_role": "Non-Voting (Age)",
                  "v_wikidata_id": "Q152302",
                  "v_country_of_citizenship": ":MX:",
                  "v_num_awards": 0,
                  "v_wahrscheinlichkeit": 0,
                  "v_degree": 0.207171314741036,
                  "v_betweenness": 0.00589154121206166,
                  "v_closeness": 0.267796610169492,
                  "v_pagerank": 0.0133791514686528,
                  "v_degree_global": 0.0187361607903253,
                  "v_betweenness_global": 0.00546119757372044,
                  "v_closeness_global": 0.229447641955158,
                  "v_pagerank_global": 0.000496967500118576,
                  "v_papabile_index": 0,
                  "v_component": 1
                },
                "color": "indianred",
                "styles": {},
                "label": "Norberto Rivera Carrera (MX)",
                "scale_factor": 1,
                "type": "indianred",
                "size": [
                  55,
                  55
                ],
                "position": [
                  0,
                  0
                ],
                "heat": 0
              },
              {
                "id": "n87",
                "properties": {
                  "label": "Jaime Spengler",
                  "v_name": "bspengler.html",
                  "v_role": "Voting",
                  "v_wikidata_id": "Q1678758",
                  "v_country_of_citizenship": ":BR:",
                  "v_num_awards": 0,
                  "v_wahrscheinlichkeit": 0.0125,
                  "v_degree": 0.00796812749003984,
                  "v_betweenness": 0,
                  "v_closeness": 0.245341614906832,
                  "v_pagerank": 0.00258139278772353,
                  "v_degree_global": 0.0102197240674502,
                  "v_betweenness_global": 0.0050618117246955,
                  "v_closeness_global": 0.221770176021255,
                  "v_pagerank_global": 0.000814909416716115,
                  "v_papabile_index": 0.00386954118297402,
                  "v_component": 1
                },
                "color": "indianred",
                "styles": {},
                "label": "Jaime Spengler (BR)",
                "scale_factor": 1,
                "type": "indianred",
                "size": [
                  55,
                  55
                ],
                "position": [
                  0,
                  0
                ],
                "heat": 0.773908236594804
              },
              {
                "id": "n88",
                "properties": {
                  "label": "Jean-Marc Noël Aveline",
                  "v_name": "baveline.html",
                  "v_role": "Voting",
                  "v_wikidata_id": "Q15377078",
                  "v_country_of_citizenship": ":FR:",
                  "v_num_awards": 2,
                  "v_wahrscheinlichkeit": 0.0303030303030303,
                  "v_degree": 0.0119521912350598,
                  "v_betweenness": 0.00200796812749004,
                  "v_closeness": 0.284172661870504,
                  "v_pagerank": 0.00165696872901205,
                  "v_degree_global": 0.00442854709589508,
                  "v_betweenness_global": 0.00925350824001531,
                  "v_closeness_global": 0.241337248701152,
                  "v_pagerank_global": 0.000323053406702349,
                  "v_papabile_index": 0.00807075732448867,
                  "v_component": 1
                },
                "color": "indianred",
                "styles": {},
                "label": "Jean-Marc Noël Aveline (FR)",
                "scale_factor": 1,
                "type": "indianred",
                "size": [
                  55,
                  55
                ],
                "position": [
                  0,
                  0
                ],
                "heat": 1.614151464897734
              },
              {
                "id": "n89",
                "properties": {
                  "label": "Claudio Gugerotti",
                  "v_name": "bguge.html",
                  "v_role": "Voting",
                  "v_wikidata_id": "Q1098059",
                  "v_country_of_citizenship": ":IT:",
                  "v_num_awards": 3,
                  "v_wahrscheinlichkeit": 0.0357142857142857,
                  "v_degree": 0.0398406374501992,
                  "v_betweenness": 0.0126985915161609,
                  "v_closeness": 0.298676748582231,
                  "v_pagerank": 0.00880374389675919,
                  "v_degree_global": 0.00970873786407767,
                  "v_betweenness_global": 0.00779051082307657,
                  "v_closeness_global": 0.252696310312204,
                  "v_pagerank_global": 0.000540964894782686,
                  "v_papabile_index": 0.00276395798783858,
                  "v_component": 1
                },
                "color": "green",
                "styles": {},
                "label": "Claudio Gugerotti (IT)",
                "scale_factor": 1,
                "type": "green",
                "size": [
                  55,
                  55
                ],
                "position": [
                  0,
                  0
                ],
                "heat": 0.552791597567716
              },
              {
                "id": "n90",
                "properties": {
                  "label": "Sérgio da Rocha",
                  "v_name": "bdarocha.html",
                  "v_role": "Voting",
                  "v_wikidata_id": "Q37206",
                  "v_country_of_citizenship": ":BR:",
                  "v_num_awards": 0,
                  "v_wahrscheinlichkeit": 0,
                  "v_degree": 0.0318725099601594,
                  "v_betweenness": 0.00892430278884462,
                  "v_closeness": 0.146703806870938,
                  "v_pagerank": 0.00953614476125675,
                  "v_degree_global": 0.0105603815363652,
                  "v_betweenness_global": 0.00480454907625912,
                  "v_closeness_global": 0.212110383164582,
                  "v_pagerank_global": 0.0006228147751336,
                  "v_papabile_index": 0.0135986733001658,
                  "v_component": 1
                },
                "color": "indianred",
                "styles": {},
                "label": "Sérgio da Rocha (BR)",
                "scale_factor": 1,
                "type": "indianred",
                "size": [
                  55,
                  55
                ],
                "position": [
                  0,
                  0
                ],
                "heat": 2.71973466003316
              },
              {
                "id": "n91",
                "properties": {
                  "label": "Pablo Virgilio Siongco David",
                  "v_name": "bsiong.html",
                  "v_role": "Voting",
                  "v_wikidata_id": "Q2045272",
                  "v_country_of_citizenship": ":PH:",
                  "v_num_awards": 0,
                  "v_wahrscheinlichkeit": 0,
                  "v_degree": 0.00398406374501992,
                  "v_betweenness": 0,
                  "v_closeness": 0.206806282722513,
                  "v_pagerank": 0.00158081123988186,
                  "v_degree_global": 0.00119230114120252,
                  "v_betweenness_global": 0.00000427405866966116,
                  "v_closeness_global": 0.187090673484397,
                  "v_pagerank_global": 0.000138833293058836,
                  "v_papabile_index": 0.00563847429519071,
                  "v_component": 1
                },
                "color": "indianred",
                "styles": {},
                "label": "Pablo Virgilio Siongco David (PH)",
                "scale_factor": 1,
                "type": "indianred",
                "size": [
                  55,
                  55
                ],
                "position": [
                  0,
                  0
                ],
                "heat": 1.127694859038142
              },
              {
                "id": "n92",
                "properties": {
                  "label": "Antonio María Rouco Varela",
                  "v_name": "brova.html",
                  "v_role": "Non-Voting (Age)",
                  "v_wikidata_id": "Q44898",
                  "v_country_of_citizenship": ":ES:",
                  "v_num_awards": 7,
                  "v_wahrscheinlichkeit": 0,
                  "v_degree": 0.111553784860558,
                  "v_betweenness": 0.0129502239996288,
                  "v_closeness": 0.297551789077213,
                  "v_pagerank": 0.00748588317542534,
                  "v_degree_global": 0.0132856412876852,
                  "v_betweenness_global": 0.00392595077816775,
                  "v_closeness_global": 0.243360211379892,
                  "v_pagerank_global": 0.000316426931957664,
                  "v_papabile_index": 0,
                  "v_component": 1
                },
                "color": "indianred",
                "styles": {},
                "label": "Antonio María Rouco Varela (ES)",
                "scale_factor": 1,
                "type": "indianred",
                "size": [
                  55,
                  55
                ],
                "position": [
                  0,
                  0
                ],
                "heat": 0
              },
              {
                "id": "n93",
                "properties": {
                  "label": "Manuel Monteiro de Castro",
                  "v_name": "bmoncas.html",
                  "v_role": "Non-Voting (Age)",
                  "v_wikidata_id": "Q585377",
                  "v_country_of_citizenship": ":PT:",
                  "v_num_awards": 5,
                  "v_wahrscheinlichkeit": 0,
                  "v_degree": 0.0876494023904383,
                  "v_betweenness": 0.00201032589618214,
                  "v_closeness": 0.238670694864048,
                  "v_pagerank": 0.00652457308813565,
                  "v_degree_global": 0.0100493953329927,
                  "v_betweenness_global": 0.00107160065005807,
                  "v_closeness_global": 0.22120082815735,
                  "v_pagerank_global": 0.000276159238914103,
                  "v_papabile_index": 0,
                  "v_component": 1
                },
                "color": "indianred",
                "styles": {},
                "label": "Manuel Monteiro de Castro (PT)",
                "scale_factor": 1,
                "type": "indianred",
                "size": [
                  55,
                  55
                ],
                "position": [
                  0,
                  0
                ],
                "heat": 0
              },
              {
                "id": "n94",
                "properties": {
                  "label": "Juan Sandoval Íñiguez",
                  "v_name": "bsandoval.html",
                  "v_role": "Non-Voting (Age)",
                  "v_wikidata_id": "Q505192",
                  "v_country_of_citizenship": ":MX:",
                  "v_num_awards": 0,
                  "v_wahrscheinlichkeit": 0.01,
                  "v_degree": 0.111553784860558,
                  "v_betweenness": 0.000382616467246629,
                  "v_closeness": 0.26158940397351,
                  "v_pagerank": 0.00729454818972104,
                  "v_degree_global": 0.0139669562255152,
                  "v_betweenness_global": 0.000516890590939151,
                  "v_closeness_global": 0.217960749112571,
                  "v_pagerank_global": 0.000326206153717001,
                  "v_papabile_index": 0,
                  "v_component": 1
                },
                "color": "indianred",
                "styles": {},
                "label": "Juan Sandoval Íñiguez (MX)",
                "scale_factor": 1,
                "type": "indianred",
                "size": [
                  55,
                  55
                ],
                "position": [
                  0,
                  0
                ],
                "heat": 0
              },
              {
                "id": "n95",
                "properties": {
                  "label": "Luis Antonio Gokim Tagle",
                  "v_name": "btaglelag.html",
                  "v_role": "Voting",
                  "v_wikidata_id": "Q26901",
                  "v_country_of_citizenship": ":PH:",
                  "v_num_awards": 2,
                  "v_wahrscheinlichkeit": 0.3,
                  "v_degree": 0.0756972111553785,
                  "v_betweenness": 0.0104847679096862,
                  "v_closeness": 0.297551789077213,
                  "v_pagerank": 0.007914354126484,
                  "v_degree_global": 0.0144779424288878,
                  "v_betweenness_global": 0.0211769626278344,
                  "v_closeness_global": 0.256888675162299,
                  "v_pagerank_global": 0.000711162358126773,
                  "v_papabile_index": 0.0147042564953013,
                  "v_component": 1
                },
                "color": "indianred",
                "styles": {},
                "label": "Luis Antonio Gokim Tagle (PH)",
                "scale_factor": 1,
                "type": "indianred",
                "size": [
                  55,
                  55
                ],
                "position": [
                  0,
                  0
                ],
                "heat": 2.94085129906026
              },
              {
                "id": "n96",
                "properties": {
                  "label": "Maurice Evenor Piat",
                  "v_name": "bpiatma.html",
                  "v_role": "Non-Voting (Age)",
                  "v_wikidata_id": "Q1767934",
                  "v_country_of_citizenship": ":MU:",
                  "v_num_awards": 0,
                  "v_wahrscheinlichkeit": 0,
                  "v_degree": 0.00796812749003984,
                  "v_betweenness": 0,
                  "v_closeness": 0.20844327176781,
                  "v_pagerank": 0.00145951793707049,
                  "v_degree_global": 0.00493953329926759,
                  "v_betweenness_global": 0.00220294138851381,
                  "v_closeness_global": 0.215925626515764,
                  "v_pagerank_global": 0.000366917136802511,
                  "v_papabile_index": 0,
                  "v_component": 1
                },
                "color": "indianred",
                "styles": {},
                "label": "Maurice Evenor Piat (MU)",
                "scale_factor": 1,
                "type": "indianred",
                "size": [
                  55,
                  55
                ],
                "position": [
                  0,
                  0
                ],
                "heat": 0
              },
              {
                "id": "n97",
                "properties": {
                  "label": "Antonio Cañizares Llovera",
                  "v_name": "bcaniz.html",
                  "v_role": "Unable to Participate",
                  "v_wikidata_id": "Q382332",
                  "v_country_of_citizenship": ":ES:",
                  "v_num_awards": 1,
                  "v_wahrscheinlichkeit": 0.01,
                  "v_degree": 0.0637450199203187,
                  "v_betweenness": 0.00654030089493005,
                  "v_closeness": 0.26962457337884,
                  "v_pagerank": 0.00569647092477873,
                  "v_degree_global": 0.00885709419179015,
                  "v_betweenness_global": 0.00753599380711207,
                  "v_closeness_global": 0.236089627436249,
                  "v_pagerank_global": 0.000285403547966071,
                  "v_papabile_index": 0,
                  "v_component": 1
                },
                "color": "indianred",
                "styles": {},
                "label": "Antonio Cañizares Llovera (ES)",
                "scale_factor": 1,
                "type": "indianred",
                "size": [
                  55,
                  55
                ],
                "position": [
                  0,
                  0
                ],
                "heat": 0
              },
              {
                "id": "n98",
                "properties": {
                  "label": "Andrew Yeom Soo-jung",
                  "v_name": "byeom.html",
                  "v_role": "Non-Voting (Age)",
                  "v_wikidata_id": "Q488084",
                  "v_country_of_citizenship": ":KR:",
                  "v_num_awards": 0,
                  "v_wahrscheinlichkeit": 0,
                  "v_degree": 0.00796812749003984,
                  "v_betweenness": 0,
                  "v_closeness": 0.23201174743025,
                  "v_pagerank": 0.00211432095393751,
                  "v_degree_global": 0.00834610798841765,
                  "v_betweenness_global": 0.00226921935955203,
                  "v_closeness_global": 0.197478836272227,
                  "v_pagerank_global": 0.000624937968478688,
                  "v_papabile_index": 0,
                  "v_component": 1
                },
                "color": "indianred",
                "styles": {},
                "label": "Andrew Yeom Soo-jung (KR)",
                "scale_factor": 1,
                "type": "indianred",
                "size": [
                  55,
                  55
                ],
                "position": [
                  0,
                  0
                ],
                "heat": 0
              },
              {
                "id": "n99",
                "properties": {
                  "label": "Stanisław Marian Ryłko",
                  "v_name": "brylko.html",
                  "v_role": "Voting",
                  "v_wikidata_id": "Q528954",
                  "v_country_of_citizenship": ":PL:",
                  "v_num_awards": 3,
                  "v_wahrscheinlichkeit": 0,
                  "v_degree": 0.0358565737051793,
                  "v_betweenness": 0.0153990034354811,
                  "v_closeness": 0.317269076305221,
                  "v_pagerank": 0.00300105122208282,
                  "v_degree_global": 0.00255493101686254,
                  "v_betweenness_global": 0.00355535424940374,
                  "v_closeness_global": 0.257358963241316,
                  "v_pagerank_global": 0.000131659251038044,
                  "v_papabile_index": 0.012824765063571,
                  "v_component": 1
                },
                "color": "indianred",
                "styles": {},
                "label": "Stanisław Marian Ryłko (PL)",
                "scale_factor": 1,
                "type": "indianred",
                "size": [
                  55,
                  55
                ],
                "position": [
                  0,
                  0
                ],
                "heat": 2.5649530127142
              },
              {
                "id": "n100",
                "properties": {
                  "label": "Francesco Monterisi",
                  "v_name": "bmo.html",
                  "v_role": "Non-Voting (Age)",
                  "v_wikidata_id": "Q721621",
                  "v_country_of_citizenship": ":IT:",
                  "v_num_awards": 0,
                  "v_wahrscheinlichkeit": 0,
                  "v_degree": 0.0637450199203187,
                  "v_betweenness": 0.00321304543584314,
                  "v_closeness": 0.26962457337884,
                  "v_pagerank": 0.00310502109838628,
                  "v_degree_global": 0.00528019076818259,
                  "v_betweenness_global": 0.00293432156853092,
                  "v_closeness_global": 0.252971539517924,
                  "v_pagerank_global": 0.000120018613480698,
                  "v_papabile_index": 0,
                  "v_component": 1
                },
                "color": "green",
                "styles": {},
                "label": "Francesco Monterisi (IT)",
                "scale_factor": 1,
                "type": "green",
                "size": [
                  55,
                  55
                ],
                "position": [
                  0,
                  0
                ],
                "heat": 0
              },
              {
                "id": "n101",
                "properties": {
                  "label": "Matteo Maria Zuppi",
                  "v_name": "bzuppi.html",
                  "v_role": "Voting",
                  "v_wikidata_id": "Q600191",
                  "v_country_of_citizenship": ":IT:",
                  "v_num_awards": 1,
                  "v_wahrscheinlichkeit": 0.142857142857143,
                  "v_degree": 0.00398406374501992,
                  "v_betweenness": 0,
                  "v_closeness": 0.245341614906832,
                  "v_pagerank": 0.00134020424263507,
                  "v_degree_global": 0.00391756089252257,
                  "v_betweenness_global": 0.000795860177124679,
                  "v_closeness_global": 0.231045370009948,
                  "v_pagerank_global": 0.000313107445736587,
                  "v_papabile_index": 0.0109452736318408,
                  "v_component": 1
                },
                "color": "green",
                "styles": {},
                "label": "Matteo Maria Zuppi (IT)",
                "scale_factor": 1,
                "type": "green",
                "size": [
                  55,
                  55
                ],
                "position": [
                  0,
                  0
                ],
                "heat": 2.18905472636816
              },
              {
                "id": "n102",
                "properties": {
                  "label": "Luis Héctor Villalba",
                  "v_name": "bvillalba.html",
                  "v_role": "Non-Voting (Age)",
                  "v_wikidata_id": "Q1608178",
                  "v_country_of_citizenship": ":AR:",
                  "v_num_awards": 1,
                  "v_wahrscheinlichkeit": 0,
                  "v_degree": 0.00796812749003984,
                  "v_betweenness": 0,
                  "v_closeness": 0.138232720909886,
                  "v_pagerank": 0.00196144422173152,
                  "v_degree_global": 0.00306591722023505,
                  "v_betweenness_global": 0.000344556135678066,
                  "v_closeness_global": 0.17479794509342,
                  "v_pagerank_global": 0.000172586966281606,
                  "v_papabile_index": 0,
                  "v_component": 1
                },
                "color": "indianred",
                "styles": {},
                "label": "Luis Héctor Villalba (AR)",
                "scale_factor": 1,
                "type": "indianred",
                "size": [
                  55,
                  55
                ],
                "position": [
                  0,
                  0
                ],
                "heat": 0
              },
              {
                "id": "n103",
                "properties": {
                  "label": "Gérald Cyprien Lacroix",
                  "v_name": "blacrgc.html",
                  "v_role": "Voting",
                  "v_wikidata_id": "Q1558927",
                  "v_country_of_citizenship": ":CA:",
                  "v_num_awards": 1,
                  "v_wahrscheinlichkeit": 0.01,
                  "v_degree": 0.00398406374501992,
                  "v_betweenness": 0,
                  "v_closeness": 0.256910569105691,
                  "v_pagerank": 0.00152370636274484,
                  "v_degree_global": 0.00868676545733265,
                  "v_betweenness_global": 0.00491223247279069,
                  "v_closeness_global": 0.220325002062196,
                  "v_pagerank_global": 0.00062691539409568,
                  "v_papabile_index": 0.0148148148148148,
                  "v_component": 1
                },
                "color": "indianred",
                "styles": {},
                "label": "Gérald Cyprien Lacroix (CA)",
                "scale_factor": 1,
                "type": "indianred",
                "size": [
                  55,
                  55
                ],
                "position": [
                  0,
                  0
                ],
                "heat": 2.96296296296296
              },
              {
                "id": "n104",
                "properties": {
                  "label": "Gaudencio Borbon Rosales",
                  "v_name": "brosg.html",
                  "v_role": "Non-Voting (Age)",
                  "v_wikidata_id": "Q467514",
                  "v_country_of_citizenship": ":PH:",
                  "v_num_awards": 0,
                  "v_wahrscheinlichkeit": 0,
                  "v_degree": 0.0358565737051793,
                  "v_betweenness": 0.00209153734741915,
                  "v_closeness": 0.260296540362438,
                  "v_pagerank": 0.00355856734401287,
                  "v_degree_global": 0.00987906659853517,
                  "v_betweenness_global": 0.00439650772554029,
                  "v_closeness_global": 0.228515207254994,
                  "v_pagerank_global": 0.000468216156564034,
                  "v_papabile_index": 0,
                  "v_component": 1
                },
                "color": "indianred",
                "styles": {},
                "label": "Gaudencio Borbon Rosales (PH)",
                "scale_factor": 1,
                "type": "indianred",
                "size": [
                  55,
                  55
                ],
                "position": [
                  0,
                  0
                ],
                "heat": 0
              },
              {
                "id": "n105",
                "properties": {
                  "label": "Lluís Martínez Sistach",
                  "v_name": "bmarsis.html",
                  "v_role": "Non-Voting (Age)",
                  "v_wikidata_id": "Q443918",
                  "v_country_of_citizenship": ":ES:",
                  "v_num_awards": 2,
                  "v_wahrscheinlichkeit": 0,
                  "v_degree": 0.0318725099601594,
                  "v_betweenness": 0.0000611830034858509,
                  "v_closeness": 0.22316384180791,
                  "v_pagerank": 0.00318831095561226,
                  "v_degree_global": 0.00340657468915006,
                  "v_betweenness_global": 0.0000469236326137127,
                  "v_closeness_global": 0.200683722153349,
                  "v_pagerank_global": 0.000189940680509328,
                  "v_papabile_index": 0,
                  "v_component": 1
                },
                "color": "indianred",
                "styles": {},
                "label": "Lluís Martínez Sistach (ES)",
                "scale_factor": 1,
                "type": "indianred",
                "size": [
                  55,
                  55
                ],
                "position": [
                  0,
                  0
                ],
                "heat": 0
              },
              {
                "id": "n106",
                "properties": {
                  "label": "Vinko Puljić",
                  "v_name": "bpuljic.html",
                  "v_role": "Voting",
                  "v_wikidata_id": "Q506570",
                  "v_country_of_citizenship": ":BA:",
                  "v_num_awards": 0,
                  "v_wahrscheinlichkeit": 0,
                  "v_degree": 0.0159362549800797,
                  "v_betweenness": 0.00132716543514869,
                  "v_closeness": 0.311023622047244,
                  "v_pagerank": 0.00197313636914931,
                  "v_degree_global": 0.00459887583035258,
                  "v_betweenness_global": 0.00141618592864526,
                  "v_closeness_global": 0.259421134421134,
                  "v_pagerank_global": 0.000210781604600601,
                  "v_papabile_index": 0.0120508568269762,
                  "v_component": 1
                },
                "color": "indianred",
                "styles": {},
                "label": "Vinko Puljić (BA)",
                "scale_factor": 1,
                "type": "indianred",
                "size": [
                  55,
                  55
                ],
                "position": [
                  0,
                  0
                ],
                "heat": 2.41017136539524
              },
              {
                "id": "n107",
                "properties": {
                  "label": "Vincent Gerard Nichols",
                  "v_name": "bnichols.html",
                  "v_role": "Voting",
                  "v_wikidata_id": "Q765284",
                  "v_country_of_citizenship": ":GB:",
                  "v_num_awards": 0,
                  "v_wahrscheinlichkeit": 0.0142857142857143,
                  "v_degree": 0.0159362549800797,
                  "v_betweenness": 0.015203187250996,
                  "v_closeness": 0.231671554252199,
                  "v_pagerank": 0.00411070574642909,
                  "v_degree_global": 0.00987906659853517,
                  "v_betweenness_global": 0.00533428876271927,
                  "v_closeness_global": 0.212203066656074,
                  "v_pagerank_global": 0.000540666662789481,
                  "v_papabile_index": 0.00453289110005528,
                  "v_component": 1
                },
                "color": "indianred",
                "styles": {},
                "label": "Vincent Gerard Nichols (GB)",
                "scale_factor": 1,
                "type": "indianred",
                "size": [
                  55,
                  55
                ],
                "position": [
                  0,
                  0
                ],
                "heat": 0.9065782200110559
              },
              {
                "id": "n108",
                "properties": {
                  "label": "Polycarp Pengo",
                  "v_name": "bpengo.html",
                  "v_role": "Non-Voting (Age)",
                  "v_wikidata_id": "Q185988",
                  "v_country_of_citizenship": ":TZ:",
                  "v_num_awards": 0,
                  "v_wahrscheinlichkeit": 0,
                  "v_degree": 0.0199203187250996,
                  "v_betweenness": 0.000051792828685259,
                  "v_closeness": 0.232352941176471,
                  "v_pagerank": 0.00312090425968366,
                  "v_degree_global": 0.0173735309146653,
                  "v_betweenness_global": 0.00310409188301655,
                  "v_closeness_global": 0.220990361146734,
                  "v_pagerank_global": 0.000698557612725247,
                  "v_papabile_index": 0,
                  "v_component": 1
                },
                "color": "indianred",
                "styles": {},
                "label": "Polycarp Pengo (TZ)",
                "scale_factor": 1,
                "type": "indianred",
                "size": [
                  55,
                  55
                ],
                "position": [
                  0,
                  0
                ],
                "heat": 0
              },
              {
                "id": "n109",
                "properties": {
                  "label": "Raymundo Damasceno Assis",
                  "v_name": "bdamass.html",
                  "v_role": "Non-Voting (Age)",
                  "v_wikidata_id": "Q542624",
                  "v_country_of_citizenship": ":BR:",
                  "v_num_awards": 0,
                  "v_wahrscheinlichkeit": 0,
                  "v_degree": 0.0239043824701195,
                  "v_betweenness": 0.00449402390438247,
                  "v_closeness": 0.128246753246753,
                  "v_pagerank": 0.00771660973120435,
                  "v_degree_global": 0.00510986203372509,
                  "v_betweenness_global": 0.00163758158637395,
                  "v_closeness_global": 0.181781059652227,
                  "v_pagerank_global": 0.000329800890265018,
                  "v_papabile_index": 0,
                  "v_component": 1
                },
                "color": "indianred",
                "styles": {},
                "label": "Raymundo Damasceno Assis (BR)",
                "scale_factor": 1,
                "type": "indianred",
                "size": [
                  55,
                  55
                ],
                "position": [
                  0,
                  0
                ],
                "heat": 0
              },
              {
                "id": "n110",
                "properties": {
                  "label": "Felipe Arizmendi Esquivel",
                  "v_name": "baries.html",
                  "v_role": "Non-Voting (Age)",
                  "v_wikidata_id": "Q645159",
                  "v_country_of_citizenship": ":MX:",
                  "v_num_awards": 0,
                  "v_wahrscheinlichkeit": 0,
                  "v_degree": 0.0159362549800797,
                  "v_betweenness": 0,
                  "v_closeness": 0.237593984962406,
                  "v_pagerank": 0.00199056947338741,
                  "v_degree_global": 0.00170328734457503,
                  "v_betweenness_global": 0.0000746162683664943,
                  "v_closeness_global": 0.204627288745882,
                  "v_pagerank_global": 0.00012396432549999,
                  "v_papabile_index": 0,
                  "v_component": 1
                },
                "color": "indianred",
                "styles": {},
                "label": "Felipe Arizmendi Esquivel (MX)",
                "scale_factor": 1,
                "type": "indianred",
                "size": [
                  55,
                  55
                ],
                "position": [
                  0,
                  0
                ],
                "heat": 0
              },
              {
                "id": "n111",
                "properties": {
                  "label": "Marcello Semeraro",
                  "v_name": "bsemeraro.html",
                  "v_role": "Voting",
                  "v_wikidata_id": "Q1893338",
                  "v_country_of_citizenship": ":IT:",
                  "v_num_awards": 3,
                  "v_wahrscheinlichkeit": 0,
                  "v_degree": 0.0159362549800797,
                  "v_betweenness": 0,
                  "v_closeness": 0.286751361161524,
                  "v_pagerank": 0.00232968882976189,
                  "v_degree_global": 0.00340657468915006,
                  "v_betweenness_global": 0.000746498373091342,
                  "v_closeness_global": 0.240836752175285,
                  "v_pagerank_global": 0.000296134041919208,
                  "v_papabile_index": 0.00176893311221669,
                  "v_component": 1
                },
                "color": "green",
                "styles": {},
                "label": "Marcello Semeraro (IT)",
                "scale_factor": 1,
                "type": "green",
                "size": [
                  55,
                  55
                ],
                "position": [
                  0,
                  0
                ],
                "heat": 0.35378662244333803
              },
              {
                "id": "n112",
                "properties": {
                  "label": "Raymond Leo Burke",
                  "v_name": "bburke.html",
                  "v_role": "Voting",
                  "v_wikidata_id": "Q515887",
                  "v_country_of_citizenship": ":US:",
                  "v_num_awards": 0,
                  "v_wahrscheinlichkeit": 0.025,
                  "v_degree": 0.0159362549800797,
                  "v_betweenness": 0.00276788691565806,
                  "v_closeness": 0.26510067114094,
                  "v_pagerank": 0.00235963360068796,
                  "v_degree_global": 0.00323624595469256,
                  "v_betweenness_global": 0.00152243471276119,
                  "v_closeness_global": 0.239917362795293,
                  "v_pagerank_global": 0.000170488446793907,
                  "v_papabile_index": 0.010171365395246,
                  "v_component": 1
                },
                "color": "indianred",
                "styles": {},
                "label": "Raymond Leo Burke (US)",
                "scale_factor": 1,
                "type": "indianred",
                "size": [
                  55,
                  55
                ],
                "position": [
                  0,
                  0
                ],
                "heat": 2.0342730790492003
              },
              {
                "id": "n113",
                "properties": {
                  "label": "Arthur Roche",
                  "v_name": "brochea.html",
                  "v_role": "Voting",
                  "v_wikidata_id": "Q711174",
                  "v_country_of_citizenship": ":GB:",
                  "v_num_awards": 1,
                  "v_wahrscheinlichkeit": 0.01,
                  "v_degree": 0.0239043824701195,
                  "v_betweenness": 0.0204433830732691,
                  "v_closeness": 0.296435272045028,
                  "v_pagerank": 0.00402305444984075,
                  "v_degree_global": 0.00476920456481008,
                  "v_betweenness_global": 0.00655588410334562,
                  "v_closeness_global": 0.242157751586582,
                  "v_pagerank_global": 0.000249559343872636,
                  "v_papabile_index": 0.00143725815367606,
                  "v_component": 1
                },
                "color": "indianred",
                "styles": {},
                "label": "Arthur Roche (GB)",
                "scale_factor": 1,
                "type": "indianred",
                "size": [
                  55,
                  55
                ],
                "position": [
                  0,
                  0
                ],
                "heat": 0.287451630735212
              },
              {
                "id": "n114",
                "properties": {
                  "label": "António Augusto dos Santos Marto",
                  "v_name": "bdsm.html",
                  "v_role": "Voting",
                  "v_wikidata_id": "Q610637",
                  "v_country_of_citizenship": ":PT:",
                  "v_num_awards": 1,
                  "v_wahrscheinlichkeit": 0,
                  "v_degree": 0.0278884462151394,
                  "v_betweenness": 0,
                  "v_closeness": 0.207077326343381,
                  "v_pagerank": 0.00311636625345259,
                  "v_degree_global": 0.00493953329926759,
                  "v_betweenness_global": 0.00055476407542424,
                  "v_closeness_global": 0.188709905327116,
                  "v_pagerank_global": 0.000302382099971216,
                  "v_papabile_index": 0.00762852404643449,
                  "v_component": 1
                },
                "color": "indianred",
                "styles": {},
                "label": "António Augusto dos Santos Marto (PT)",
                "scale_factor": 1,
                "type": "indianred",
                "size": [
                  55,
                  55
                ],
                "position": [
                  0,
                  0
                ],
                "heat": 1.5257048092868981
              },
              {
                "id": "n115",
                "properties": {
                  "label": "Wilton Daniel Gregory",
                  "v_name": "bgregory.html",
                  "v_role": "Voting",
                  "v_wikidata_id": "Q508796",
                  "v_country_of_citizenship": ":US:",
                  "v_num_awards": 0,
                  "v_wahrscheinlichkeit": 0.0151515151515152,
                  "v_degree": 0.0159362549800797,
                  "v_betweenness": 0,
                  "v_closeness": 0.19874213836478,
                  "v_pagerank": 0.00312512947928804,
                  "v_degree_global": 0.00664282064384262,
                  "v_betweenness_global": 0.00146000816065101,
                  "v_closeness_global": 0.184946683284864,
                  "v_pagerank_global": 0.000398038493014835,
                  "v_papabile_index": 0.00619126589275843,
                  "v_component": 1
                },
                "color": "indianred",
                "styles": {},
                "label": "Wilton Daniel Gregory (US)",
                "scale_factor": 1,
                "type": "indianred",
                "size": [
                  55,
                  55
                ],
                "position": [
                  0,
                  0
                ],
                "heat": 1.238253178551686
              },
              {
                "id": "n116",
                "properties": {
                  "label": "James Francis Stafford",
                  "v_name": "bstafford.html",
                  "v_role": "Non-Voting (Age)",
                  "v_wikidata_id": "Q451478",
                  "v_country_of_citizenship": ":US:",
                  "v_num_awards": 0,
                  "v_wahrscheinlichkeit": 0,
                  "v_degree": 0.0199203187250996,
                  "v_betweenness": 0,
                  "v_closeness": 0.281639928698752,
                  "v_pagerank": 0.00198000641512278,
                  "v_degree_global": 0.00204394481349004,
                  "v_betweenness_global": 0.00509522717651081,
                  "v_closeness_global": 0.238110095832405,
                  "v_pagerank_global": 0.000108655211287908,
                  "v_papabile_index": 0,
                  "v_component": 1
                },
                "color": "indianred",
                "styles": {},
                "label": "James Francis Stafford (US)",
                "scale_factor": 1,
                "type": "indianred",
                "size": [
                  55,
                  55
                ],
                "position": [
                  0,
                  0
                ],
                "heat": 0
              },
              {
                "id": "n117",
                "properties": {
                  "label": "Emil Paul Tscherrig",
                  "v_name": "btsce.html",
                  "v_role": "Voting",
                  "v_wikidata_id": "Q124553",
                  "v_country_of_citizenship": ":CH:",
                  "v_num_awards": 0,
                  "v_wahrscheinlichkeit": 0,
                  "v_degree": 0.0199203187250996,
                  "v_betweenness": 0,
                  "v_closeness": 0.177328843995511,
                  "v_pagerank": 0.00274033496659681,
                  "v_degree_global": 0.00272525975132005,
                  "v_betweenness_global": 0.000820818304764096,
                  "v_closeness_global": 0.189600709849157,
                  "v_pagerank_global": 0.000222036727321288,
                  "v_papabile_index": 0.00099502487562189,
                  "v_component": 1
                },
                "color": "indianred",
                "styles": {},
                "label": "Emil Paul Tscherrig (CH)",
                "scale_factor": 1,
                "type": "indianred",
                "size": [
                  55,
                  55
                ],
                "position": [
                  0,
                  0
                ],
                "heat": 0.199004975124378
              },
              {
                "id": "n118",
                "properties": {
                  "label": "Cristóbal López Romero",
                  "v_name": "bloprom.html",
                  "v_role": "Voting",
                  "v_wikidata_id": "Q47001633",
                  "v_country_of_citizenship": ":ES:",
                  "v_num_awards": 0,
                  "v_wahrscheinlichkeit": 0.02,
                  "v_degree": 0.0239043824701195,
                  "v_betweenness": 0.00404780876494024,
                  "v_closeness": 0.214965986394558,
                  "v_pagerank": 0.00311378854446554,
                  "v_degree_global": 0.00374723215806507,
                  "v_betweenness_global": 0.00103162448020758,
                  "v_closeness_global": 0.20658983680099,
                  "v_pagerank_global": 0.000337563126492078,
                  "v_papabile_index": 0.00851299060254284,
                  "v_component": 1
                },
                "color": "indianred",
                "styles": {},
                "label": "Cristóbal López Romero (ES)",
                "scale_factor": 1,
                "type": "indianred",
                "size": [
                  55,
                  55
                ],
                "position": [
                  0,
                  0
                ],
                "heat": 1.702598120508568
              },
              {
                "id": "n119",
                "properties": {
                  "label": "Lazzaro You Heung-sik",
                  "v_name": "byouh.html",
                  "v_role": "Voting",
                  "v_wikidata_id": "Q1809520",
                  "v_country_of_citizenship": ":KR:",
                  "v_num_awards": 0,
                  "v_wahrscheinlichkeit": 0.0303030303030303,
                  "v_degree": 0.0239043824701195,
                  "v_betweenness": 0.00449402390438247,
                  "v_closeness": 0.301526717557252,
                  "v_pagerank": 0.00401811586778542,
                  "v_degree_global": 0.00442854709589508,
                  "v_betweenness_global": 0.00634816537904211,
                  "v_closeness_global": 0.242740946062616,
                  "v_pagerank_global": 0.000258947245069811,
                  "v_papabile_index": 0.00165837479270315,
                  "v_component": 1
                },
                "color": "indianred",
                "styles": {},
                "label": "Lazzaro You Heung-sik (KR)",
                "scale_factor": 1,
                "type": "indianred",
                "size": [
                  55,
                  55
                ],
                "position": [
                  0,
                  0
                ],
                "heat": 0.33167495854063
              },
              {
                "id": "n120",
                "properties": {
                  "label": "Paulo Cezar Costa",
                  "v_name": "bcescos.html",
                  "v_role": "Voting",
                  "v_wikidata_id": "Q1440013",
                  "v_country_of_citizenship": ":BR:",
                  "v_num_awards": 0,
                  "v_wahrscheinlichkeit": 0,
                  "v_degree": 0.0278884462151394,
                  "v_betweenness": 0.013422117626713,
                  "v_closeness": 0.170995670995671,
                  "v_pagerank": 0.00738978433326432,
                  "v_degree_global": 0.00613183444047011,
                  "v_betweenness_global": 0.00134323079332392,
                  "v_closeness_global": 0.199380435188295,
                  "v_pagerank_global": 0.000382100782816843,
                  "v_papabile_index": 0.00630182421227197,
                  "v_component": 1
                },
                "color": "indianred",
                "styles": {},
                "label": "Paulo Cezar Costa (BR)",
                "scale_factor": 1,
                "type": "indianred",
                "size": [
                  55,
                  55
                ],
                "position": [
                  0,
                  0
                ],
                "heat": 1.260364842454394
              },
              {
                "id": "n121",
                "properties": {
                  "label": "Christoph Schönborn",
                  "v_name": "bschoc.html",
                  "v_role": "Non-Voting (Age)",
                  "v_wikidata_id": "Q44747",
                  "v_country_of_citizenship": ":AT:",
                  "v_num_awards": 7,
                  "v_wahrscheinlichkeit": 0.0125,
                  "v_degree": 0.0159362549800797,
                  "v_betweenness": 0.00205577689243028,
                  "v_closeness": 0.191747572815534,
                  "v_pagerank": 0.0170824051295771,
                  "v_degree_global": 0.0054505195026401,
                  "v_betweenness_global": 0.00207288822892762,
                  "v_closeness_global": 0.188297497356362,
                  "v_pagerank_global": 0.000489136946463497,
                  "v_papabile_index": 0,
                  "v_component": 1
                },
                "color": "indianred",
                "styles": {},
                "label": "Christoph Schönborn (AT)",
                "scale_factor": 1,
                "type": "indianred",
                "size": [
                  55,
                  55
                ],
                "position": [
                  0,
                  0
                ],
                "heat": 0
              },
              {
                "id": "n122",
                "properties": {
                  "label": "Mauro Maria Gambetti",
                  "v_name": "bgambetti.html",
                  "v_role": "Voting",
                  "v_wikidata_id": "Q100846983",
                  "v_country_of_citizenship": ":IT:",
                  "v_num_awards": 0,
                  "v_wahrscheinlichkeit": 0.02,
                  "v_degree": 0.0199203187250996,
                  "v_betweenness": 0.00169204427642495,
                  "v_closeness": 0.280141843971631,
                  "v_pagerank": 0.00188365731639614,
                  "v_degree_global": 0.00221427354794754,
                  "v_betweenness_global": 0.000183531260554781,
                  "v_closeness_global": 0.232716183837944,
                  "v_pagerank_global": 0.000234771665335279,
                  "v_papabile_index": 0.0025428413488115,
                  "v_component": 1
                },
                "color": "green",
                "styles": {},
                "label": "Mauro Maria Gambetti (IT)",
                "scale_factor": 1,
                "type": "green",
                "size": [
                  55,
                  55
                ],
                "position": [
                  0,
                  0
                ],
                "heat": 0.5085682697623001
              },
              {
                "id": "n123",
                "properties": {
                  "label": "Giuseppe Versaldi",
                  "v_name": "bversg.html",
                  "v_role": "Non-Voting (Age)",
                  "v_wikidata_id": "Q168792",
                  "v_country_of_citizenship": ":IT:",
                  "v_num_awards": 0,
                  "v_wahrscheinlichkeit": 0,
                  "v_degree": 0.00796812749003984,
                  "v_betweenness": 0,
                  "v_closeness": 0.208718626155878,
                  "v_pagerank": 0.00227589886940547,
                  "v_degree_global": 0.000851643672287515,
                  "v_betweenness_global": 0,
                  "v_closeness_global": 0.197529951190652,
                  "v_pagerank_global": 0.000124749269101286,
                  "v_papabile_index": 0,
                  "v_component": 1
                },
                "color": "green",
                "styles": {},
                "label": "Giuseppe Versaldi (IT)",
                "scale_factor": 1,
                "type": "green",
                "size": [
                  55,
                  55
                ],
                "position": [
                  0,
                  0
                ],
                "heat": 0
              },
              {
                "id": "n124",
                "properties": {
                  "label": "Giovanni Angelo Becciu",
                  "v_name": "bbecciu.html",
                  "v_role": "Non-Voting (Other)",
                  "v_wikidata_id": "Q1355058",
                  "v_country_of_citizenship": ":IT:",
                  "v_num_awards": 2,
                  "v_wahrscheinlichkeit": 0,
                  "v_degree": 0.0358565737051793,
                  "v_betweenness": 0.00377985597733216,
                  "v_closeness": 0.299242424242424,
                  "v_pagerank": 0.00538607975670339,
                  "v_degree_global": 0.00681314937830012,
                  "v_betweenness_global": 0.00356159537983737,
                  "v_closeness_global": 0.250093632958801,
                  "v_pagerank_global": 0.000312835181927772,
                  "v_papabile_index": 0,
                  "v_component": 1
                },
                "color": "green",
                "styles": {},
                "label": "Giovanni Angelo Becciu (IT)",
                "scale_factor": 1,
                "type": "green",
                "size": [
                  55,
                  55
                ],
                "position": [
                  0,
                  0
                ],
                "heat": 0
              },
              {
                "id": "n125",
                "properties": {
                  "label": "Oscar Cantoni",
                  "v_name": "bcantoni.html",
                  "v_role": "Voting",
                  "v_wikidata_id": "Q1248683",
                  "v_country_of_citizenship": ":IT:",
                  "v_num_awards": 0,
                  "v_wahrscheinlichkeit": 0,
                  "v_degree": 0.00398406374501992,
                  "v_betweenness": 0,
                  "v_closeness": 0.249605055292259,
                  "v_pagerank": 0.00139922544054646,
                  "v_degree_global": 0.00221427354794754,
                  "v_betweenness_global": 0.000196655483373923,
                  "v_closeness_global": 0.217340005695919,
                  "v_pagerank_global": 0.00023065026472732,
                  "v_papabile_index": 0.00707573244886678,
                  "v_component": 1
                },
                "color": "green",
                "styles": {},
                "label": "Oscar Cantoni (IT)",
                "scale_factor": 1,
                "type": "green",
                "size": [
                  55,
                  55
                ],
                "position": [
                  0,
                  0
                ],
                "heat": 1.415146489773356
              },
              {
                "id": "n126",
                "properties": {
                  "label": "Edoardo Menichelli",
                  "v_name": "bmeni.html",
                  "v_role": "Non-Voting (Age)",
                  "v_wikidata_id": "Q1287423",
                  "v_country_of_citizenship": ":IT:",
                  "v_num_awards": 1,
                  "v_wahrscheinlichkeit": 0,
                  "v_degree": 0.0318725099601594,
                  "v_betweenness": 0.000188016131034732,
                  "v_closeness": 0.250793650793651,
                  "v_pagerank": 0.00470688978470347,
                  "v_degree_global": 0.00425821836143757,
                  "v_betweenness_global": 0.000886285105327703,
                  "v_closeness_global": 0.229536372620633,
                  "v_pagerank_global": 0.000263713345118811,
                  "v_papabile_index": 0,
                  "v_component": 1
                },
                "color": "green",
                "styles": {},
                "label": "Edoardo Menichelli (IT)",
                "scale_factor": 1,
                "type": "green",
                "size": [
                  55,
                  55
                ],
                "position": [
                  0,
                  0
                ],
                "heat": 0
              },
              {
                "id": "n127",
                "properties": {
                  "label": "Francis Xavier Kriengsak Kovithavanij",
                  "v_name": "bkrko.html",
                  "v_role": "Voting",
                  "v_wikidata_id": "Q1396370",
                  "v_country_of_citizenship": ":TH:",
                  "v_num_awards": 0,
                  "v_wahrscheinlichkeit": 0,
                  "v_degree": 0.0199203187250996,
                  "v_betweenness": 0,
                  "v_closeness": 0.172113289760349,
                  "v_pagerank": 0.00499295385463438,
                  "v_degree_global": 0.00289558848577755,
                  "v_betweenness_global": 0.000477015901726674,
                  "v_closeness_global": 0.218988275805526,
                  "v_pagerank_global": 0.000228611453740671,
                  "v_papabile_index": 0.0112769485903814,
                  "v_component": 1
                },
                "color": "indianred",
                "styles": {},
                "label": "Francis Xavier Kriengsak Kovithavanij (TH)",
                "scale_factor": 1,
                "type": "indianred",
                "size": [
                  55,
                  55
                ],
                "position": [
                  0,
                  0
                ],
                "heat": 2.25538971807628
              },
              {
                "id": "n128",
                "properties": {
                  "label": "Dominik Jaroslav Duka",
                  "v_name": "bduka.html",
                  "v_role": "Non-Voting (Age)",
                  "v_wikidata_id": "Q45146",
                  "v_country_of_citizenship": ":CZ:",
                  "v_num_awards": 5,
                  "v_wahrscheinlichkeit": 0.0142857142857143,
                  "v_degree": 0.00796812749003984,
                  "v_betweenness": 0,
                  "v_closeness": 0.280639431616341,
                  "v_pagerank": 0.00147793060326122,
                  "v_degree_global": 0.00272525975132005,
                  "v_betweenness_global": 0.00199242161767205,
                  "v_closeness_global": 0.232868352223191,
                  "v_pagerank_global": 0.00017958753537264,
                  "v_papabile_index": 0,
                  "v_component": 1
                },
                "color": "indianred",
                "styles": {},
                "label": "Dominik Jaroslav Duka (CZ)",
                "scale_factor": 1,
                "type": "indianred",
                "size": [
                  55,
                  55
                ],
                "position": [
                  0,
                  0
                ],
                "heat": 0
              },
              {
                "id": "n129",
                "properties": {
                  "label": "Mario Zenari",
                  "v_name": "bzenari.html",
                  "v_role": "Voting",
                  "v_wikidata_id": "Q1457374",
                  "v_country_of_citizenship": ":IT:",
                  "v_num_awards": 0,
                  "v_wahrscheinlichkeit": 0,
                  "v_degree": 0.0159362549800797,
                  "v_betweenness": 0,
                  "v_closeness": 0.230994152046784,
                  "v_pagerank": 0.00471978570490086,
                  "v_degree_global": 0.00221427354794754,
                  "v_betweenness_global": 0.000869619556069525,
                  "v_closeness_global": 0.205516869926519,
                  "v_pagerank_global": 0.000162844919235617,
                  "v_papabile_index": 0.00232172470978441,
                  "v_component": 1
                },
                "color": "green",
                "styles": {},
                "label": "Mario Zenari (IT)",
                "scale_factor": 1,
                "type": "green",
                "size": [
                  55,
                  55
                ],
                "position": [
                  0,
                  0
                ],
                "heat": 0.464344941956882
              },
              {
                "id": "n130",
                "properties": {
                  "label": "Pierbattista Pizzaballa",
                  "v_name": "bpizzab.html",
                  "v_role": "Voting",
                  "v_wikidata_id": "Q2092723",
                  "v_country_of_citizenship": ":IT:",
                  "v_num_awards": 1,
                  "v_wahrscheinlichkeit": 0.0909090909090909,
                  "v_degree": 0.0358565737051793,
                  "v_betweenness": 0.00451389188956462,
                  "v_closeness": 0.261157024793388,
                  "v_pagerank": 0.00881475451974941,
                  "v_degree_global": 0.0056208482370976,
                  "v_betweenness_global": 0.00200472483014076,
                  "v_closeness_global": 0.229595564533459,
                  "v_pagerank_global": 0.000549776332831164,
                  "v_papabile_index": 0.00652294085129906,
                  "v_component": 1
                },
                "color": "green",
                "styles": {},
                "label": "Pierbattista Pizzaballa (IT)",
                "scale_factor": 1,
                "type": "green",
                "size": [
                  55,
                  55
                ],
                "position": [
                  0,
                  0
                ],
                "heat": 1.304588170259812
              },
              {
                "id": "n131",
                "properties": {
                  "label": "Américo Manuel Alves Aguiar",
                  "v_name": "balvagu.html",
                  "v_role": "Voting",
                  "v_wikidata_id": "Q61927457",
                  "v_country_of_citizenship": ":PT:",
                  "v_num_awards": 0,
                  "v_wahrscheinlichkeit": 0,
                  "v_degree": 0.00398406374501992,
                  "v_betweenness": 0,
                  "v_closeness": 0.172113289760349,
                  "v_pagerank": 0.00168935861208584,
                  "v_degree_global": 0.00221427354794754,
                  "v_betweenness_global": 0.000404335641488702,
                  "v_closeness_global": 0.177433819377553,
                  "v_pagerank_global": 0.000288694848568863,
                  "v_papabile_index": 0.00353786622443339,
                  "v_component": 1
                },
                "color": "indianred",
                "styles": {},
                "label": "Américo Manuel Alves Aguiar (PT)",
                "scale_factor": 1,
                "type": "indianred",
                "size": [
                  55,
                  55
                ],
                "position": [
                  0,
                  0
                ],
                "heat": 0.707573244886678
              },
              {
                "id": "n132",
                "properties": {
                  "label": "Adalberto Martínez Flores",
                  "v_name": "bmarflo.html",
                  "v_role": "Voting",
                  "v_wikidata_id": "Q348046",
                  "v_country_of_citizenship": ":PY:",
                  "v_num_awards": 0,
                  "v_wahrscheinlichkeit": 0,
                  "v_degree": 0.00398406374501992,
                  "v_betweenness": 0,
                  "v_closeness": 0.166140904311251,
                  "v_pagerank": 0.0019590529944615,
                  "v_degree_global": 0.00170328734457503,
                  "v_betweenness_global": 0.000345538002338687,
                  "v_closeness_global": 0.175136056652023,
                  "v_pagerank_global": 0.000188940671013626,
                  "v_papabile_index": 0.0066334991708126,
                  "v_component": 1
                },
                "color": "indianred",
                "styles": {},
                "label": "Adalberto Martínez Flores (PY)",
                "scale_factor": 1,
                "type": "indianred",
                "size": [
                  55,
                  55
                ],
                "position": [
                  0,
                  0
                ],
                "heat": 1.32669983416252
              },
              {
                "id": "n133",
                "properties": {
                  "label": "Baselios Cleemis (Isaac) Thottunkal",
                  "v_name": "bthoi.html",
                  "v_role": "Voting",
                  "v_wikidata_id": "Q27180",
                  "v_country_of_citizenship": ":IN:",
                  "v_num_awards": 0,
                  "v_wahrscheinlichkeit": 0,
                  "v_degree": 0.0318725099601594,
                  "v_betweenness": 0,
                  "v_closeness": 0.288848263254113,
                  "v_pagerank": 0.00393323899466867,
                  "v_degree_global": 0.0114120252086527,
                  "v_betweenness_global": 0.00339941304467599,
                  "v_closeness_global": 0.241315444730542,
                  "v_pagerank_global": 0.000362505177129306,
                  "v_papabile_index": 0.000442233278054174,
                  "v_component": 1
                },
                "color": "indianred",
                "styles": {},
                "label": "Baselios Cleemis (Isaac) Thottunkal (IN)",
                "scale_factor": 1,
                "type": "indianred",
                "size": [
                  55,
                  55
                ],
                "position": [
                  0,
                  0
                ],
                "heat": 0.0884466556108348
              },
              {
                "id": "n134",
                "properties": {
                  "label": "Emmanuel Wamala",
                  "v_name": "bwamala.html",
                  "v_role": "Non-Voting (Age)",
                  "v_wikidata_id": "Q918295",
                  "v_country_of_citizenship": ":UG:",
                  "v_num_awards": 0,
                  "v_wahrscheinlichkeit": 0,
                  "v_degree": 0.0159362549800797,
                  "v_betweenness": 0,
                  "v_closeness": 0.196273291925466,
                  "v_pagerank": 0.00186885986648261,
                  "v_degree_global": 0.00340657468915006,
                  "v_betweenness_global": 0.00176618978298766,
                  "v_closeness_global": 0.20156208731087,
                  "v_pagerank_global": 0.000158597873375164,
                  "v_papabile_index": 0,
                  "v_component": 1
                },
                "color": "indianred",
                "styles": {},
                "label": "Emmanuel Wamala (UG)",
                "scale_factor": 1,
                "type": "indianred",
                "size": [
                  55,
                  55
                ],
                "position": [
                  0,
                  0
                ],
                "heat": 0
              },
              {
                "id": "n135",
                "properties": {
                  "label": "Grzegorz Wojciech Ryś",
                  "v_name": "brys.html",
                  "v_role": "Voting",
                  "v_wikidata_id": "Q1551219",
                  "v_country_of_citizenship": ":PL:",
                  "v_num_awards": 1,
                  "v_wahrscheinlichkeit": 0,
                  "v_degree": 0.00796812749003984,
                  "v_betweenness": 0,
                  "v_closeness": 0.243827160493827,
                  "v_pagerank": 0.00204922358345872,
                  "v_degree_global": 0.00289558848577755,
                  "v_betweenness_global": 0.000231003126898007,
                  "v_closeness_global": 0.216766758643077,
                  "v_pagerank_global": 0.000227636654689176,
                  "v_papabile_index": 0.00574903261470426,
                  "v_component": 1
                },
                "color": "indianred",
                "styles": {},
                "label": "Grzegorz Wojciech Ryś (PL)",
                "scale_factor": 1,
                "type": "indianred",
                "size": [
                  55,
                  55
                ],
                "position": [
                  0,
                  0
                ],
                "heat": 1.149806522940852
              },
              {
                "id": "n136",
                "properties": {
                  "label": "Augusto Paolo Lojudice",
                  "v_name": "bloju.html",
                  "v_role": "Voting",
                  "v_wikidata_id": "Q19502022",
                  "v_country_of_citizenship": ":IT:",
                  "v_num_awards": 0,
                  "v_wahrscheinlichkeit": 0,
                  "v_degree": 0.0557768924302789,
                  "v_betweenness": 0.00066957589831047,
                  "v_closeness": 0.254428341384863,
                  "v_pagerank": 0.00642943818467605,
                  "v_degree_global": 0.00306591722023505,
                  "v_betweenness_global": 0.0000615613846547165,
                  "v_closeness_global": 0.210671609417518,
                  "v_pagerank_global": 0.000259983843087464,
                  "v_papabile_index": 0.00884466556108347,
                  "v_component": 1
                },
                "color": "green",
                "styles": {},
                "label": "Augusto Paolo Lojudice (IT)",
                "scale_factor": 1,
                "type": "green",
                "size": [
                  55,
                  55
                ],
                "position": [
                  0,
                  0
                ],
                "heat": 1.7689331122166938
              },
              {
                "id": "n137",
                "properties": {
                  "label": "Vicente Bokalic Iglic",
                  "v_name": "bbokalic.html",
                  "v_role": "Voting",
                  "v_wikidata_id": "Q1374768",
                  "v_country_of_citizenship": ":AR:",
                  "v_num_awards": 0,
                  "v_wahrscheinlichkeit": 0,
                  "v_degree": 0.00398406374501992,
                  "v_betweenness": 0,
                  "v_closeness": 0.138232720909886,
                  "v_pagerank": 0.00196144422173195,
                  "v_degree_global": 0.00272525975132005,
                  "v_betweenness_global": 0.0000271322145997338,
                  "v_closeness_global": 0.162050659790687,
                  "v_pagerank_global": 0.000215670039613583,
                  "v_papabile_index": 0.00199004975124378,
                  "v_component": 1
                },
                "color": "indianred",
                "styles": {},
                "label": "Vicente Bokalic Iglic (AR)",
                "scale_factor": 1,
                "type": "indianred",
                "size": [
                  55,
                  55
                ],
                "position": [
                  0,
                  0
                ],
                "heat": 0.398009950248756
              },
              {
                "id": "n138",
                "properties": {
                  "label": "Gerhard Ludwig Müller",
                  "v_name": "bmullergl.html",
                  "v_role": "Voting",
                  "v_wikidata_id": "Q45158",
                  "v_country_of_citizenship": ":DE:",
                  "v_num_awards": 3,
                  "v_wahrscheinlichkeit": 0.0151515151515152,
                  "v_degree": 0.0278884462151394,
                  "v_betweenness": 0.025199217928606,
                  "v_closeness": 0.289908256880734,
                  "v_pagerank": 0.00481148295190391,
                  "v_degree_global": 0.00289558848577755,
                  "v_betweenness_global": 0.00400487577451025,
                  "v_closeness_global": 0.243304791400984,
                  "v_pagerank_global": 0.000163063062842856,
                  "v_papabile_index": 0.0127142067440575,
                  "v_component": 1
                },
                "color": "indianred",
                "styles": {},
                "label": "Gerhard Ludwig Müller (DE)",
                "scale_factor": 1,
                "type": "indianred",
                "size": [
                  55,
                  55
                ],
                "position": [
                  0,
                  0
                ],
                "heat": 2.5428413488115
              },
              {
                "id": "n139",
                "properties": {
                  "label": "Arlindo Gomes Furtado",
                  "v_name": "bgofu.html",
                  "v_role": "Voting",
                  "v_wikidata_id": "Q2654702",
                  "v_country_of_citizenship": ":CV:",
                  "v_num_awards": 0,
                  "v_wahrscheinlichkeit": 0,
                  "v_degree": 0.00796812749003984,
                  "v_betweenness": 0,
                  "v_closeness": 0.172113289760349,
                  "v_pagerank": 0.00168935861208398,
                  "v_degree_global": 0.00119230114120252,
                  "v_betweenness_global": 0.000878643784820014,
                  "v_closeness_global": 0.19196492741124,
                  "v_pagerank_global": 0.000125755415410228,
                  "v_papabile_index": 0.0129353233830846,
                  "v_component": 1
                },
                "color": "indianred",
                "styles": {},
                "label": "Arlindo Gomes Furtado (CV)",
                "scale_factor": 1,
                "type": "indianred",
                "size": [
                  55,
                  55
                ],
                "position": [
                  0,
                  0
                ],
                "heat": 2.58706467661692
              },
              {
                "id": "n140",
                "properties": {
                  "label": "Michael Louis Fitzgerald",
                  "v_name": "bfitml.html",
                  "v_role": "Non-Voting (Age)",
                  "v_wikidata_id": "Q710490",
                  "v_country_of_citizenship": ":GB:",
                  "v_num_awards": 1,
                  "v_wahrscheinlichkeit": 0,
                  "v_degree": 0.00398406374501992,
                  "v_betweenness": 0,
                  "v_closeness": 0.257748776508972,
                  "v_pagerank": 0.00119355711586113,
                  "v_degree_global": 0.00238460228240504,
                  "v_betweenness_global": 0.000790810291223453,
                  "v_closeness_global": 0.235340763910304,
                  "v_pagerank_global": 0.000302314405831166,
                  "v_papabile_index": 0,
                  "v_component": 1
                },
                "color": "indianred",
                "styles": {},
                "label": "Michael Louis Fitzgerald (GB)",
                "scale_factor": 1,
                "type": "indianred",
                "size": [
                  55,
                  55
                ],
                "position": [
                  0,
                  0
                ],
                "heat": 0
              },
              {
                "id": "n141",
                "properties": {
                  "label": "José Saraiva Martins",
                  "v_name": "bsarm.html",
                  "v_role": "Non-Voting (Age)",
                  "v_wikidata_id": "Q45198",
                  "v_country_of_citizenship": ":PT:",
                  "v_num_awards": 4,
                  "v_wahrscheinlichkeit": 0,
                  "v_degree": 0.0119521912350598,
                  "v_betweenness": 0.0000462908733750831,
                  "v_closeness": 0.271012006861063,
                  "v_pagerank": 0.00233809906415843,
                  "v_degree_global": 0.00153295861011753,
                  "v_betweenness_global": 0.000649111907954036,
                  "v_closeness_global": 0.237453882739921,
                  "v_pagerank_global": 0.000107555477693005,
                  "v_papabile_index": 0,
                  "v_component": 1
                },
                "color": "indianred",
                "styles": {},
                "label": "José Saraiva Martins (PT)",
                "scale_factor": 1,
                "type": "indianred",
                "size": [
                  55,
                  55
                ],
                "position": [
                  0,
                  0
                ],
                "heat": 0
              },
              {
                "id": "n142",
                "properties": {
                  "label": "Salvatore De Giorgi",
                  "v_name": "bdegiorgi.html",
                  "v_role": "Non-Voting (Age)",
                  "v_wikidata_id": "Q714183",
                  "v_country_of_citizenship": ":IT:",
                  "v_num_awards": 1,
                  "v_wahrscheinlichkeit": 0,
                  "v_degree": 0.0398406374501992,
                  "v_betweenness": 0,
                  "v_closeness": 0.256077795786062,
                  "v_pagerank": 0.00328666227140597,
                  "v_degree_global": 0.00425821836143757,
                  "v_betweenness_global": 0.000651396892482457,
                  "v_closeness_global": 0.223337096032443,
                  "v_pagerank_global": 0.000179894410149659,
                  "v_papabile_index": 0,
                  "v_component": 1
                },
                "color": "green",
                "styles": {},
                "label": "Salvatore De Giorgi (IT)",
                "scale_factor": 1,
                "type": "green",
                "size": [
                  55,
                  55
                ],
                "position": [
                  0,
                  0
                ],
                "heat": 0
              },
              {
                "id": "n143",
                "properties": {
                  "label": "Mauro Piacenza",
                  "v_name": "bpiac.html",
                  "v_role": "Non-Voting (Age)",
                  "v_wikidata_id": "Q614498",
                  "v_country_of_citizenship": ":IT:",
                  "v_num_awards": 0,
                  "v_wahrscheinlichkeit": 0.01,
                  "v_degree": 0.0278884462151394,
                  "v_betweenness": 0.0050248594972745,
                  "v_closeness": 0.305019305019305,
                  "v_pagerank": 0.00484438119330395,
                  "v_degree_global": 0.00204394481349004,
                  "v_betweenness_global": 0.000527029796653661,
                  "v_closeness_global": 0.244742749805287,
                  "v_pagerank_global": 0.000131983520296811,
                  "v_papabile_index": 0,
                  "v_component": 1
                },
                "color": "green",
                "styles": {},
                "label": "Mauro Piacenza (IT)",
                "scale_factor": 1,
                "type": "green",
                "size": [
                  55,
                  55
                ],
                "position": [
                  0,
                  0
                ],
                "heat": 0
              },
              {
                "id": "n144",
                "properties": {
                  "label": "Luis Francisco Ladaria Ferrer",
                  "v_name": "bladaria.html",
                  "v_role": "Non-Voting (Age)",
                  "v_wikidata_id": "Q940055",
                  "v_country_of_citizenship": ":ES:",
                  "v_num_awards": 0,
                  "v_wahrscheinlichkeit": 0,
                  "v_degree": 0.0119521912350598,
                  "v_betweenness": 0.000175673485064483,
                  "v_closeness": 0.292051756007394,
                  "v_pagerank": 0.00246287081921647,
                  "v_degree_global": 0.00170328734457503,
                  "v_betweenness_global": 0.00040390497821636,
                  "v_closeness_global": 0.240945379098823,
                  "v_pagerank_global": 0.000153650781954812,
                  "v_papabile_index": 0,
                  "v_component": 1
                },
                "color": "indianred",
                "styles": {},
                "label": "Luis Francisco Ladaria Ferrer (ES)",
                "scale_factor": 1,
                "type": "indianred",
                "size": [
                  55,
                  55
                ],
                "position": [
                  0,
                  0
                ],
                "heat": 0
              },
              {
                "id": "n145",
                "properties": {
                  "label": "Aquilino Bocos Merino",
                  "v_name": "bbocmer.html",
                  "v_role": "Non-Voting (Age)",
                  "v_wikidata_id": "Q53834664",
                  "v_country_of_citizenship": ":ES:",
                  "v_num_awards": 0,
                  "v_wahrscheinlichkeit": 0,
                  "v_degree": 0.00796812749003984,
                  "v_betweenness": 0,
                  "v_closeness": 0.232352941176471,
                  "v_pagerank": 0.00205203251228783,
                  "v_degree_global": 0.00119230114120252,
                  "v_betweenness_global": 0.00000405588320580954,
                  "v_closeness_global": 0.21497846995855,
                  "v_pagerank_global": 0.000115079635379199,
                  "v_papabile_index": 0,
                  "v_component": 1
                },
                "color": "indianred",
                "styles": {},
                "label": "Aquilino Bocos Merino (ES)",
                "scale_factor": 1,
                "type": "indianred",
                "size": [
                  55,
                  55
                ],
                "position": [
                  0,
                  0
                ],
                "heat": 0
              },
              {
                "id": "n146",
                "properties": {
                  "label": "Konrad Krajewski",
                  "v_name": "bkraj.html",
                  "v_role": "Voting",
                  "v_wikidata_id": "Q11742692",
                  "v_country_of_citizenship": ":PL:",
                  "v_num_awards": 1,
                  "v_wahrscheinlichkeit": 0.02,
                  "v_degree": 0.0119521912350598,
                  "v_betweenness": 0.00113591764733133,
                  "v_closeness": 0.300380228136882,
                  "v_pagerank": 0.00215292194410722,
                  "v_degree_global": 0.00136262987566002,
                  "v_betweenness_global": 0.000112645141076581,
                  "v_closeness_global": 0.240468152149449,
                  "v_pagerank_global": 0.000166547451586045,
                  "v_papabile_index": 0.00210060807075732,
                  "v_component": 1
                },
                "color": "indianred",
                "styles": {},
                "label": "Konrad Krajewski (PL)",
                "scale_factor": 1,
                "type": "indianred",
                "size": [
                  55,
                  55
                ],
                "position": [
                  0,
                  0
                ],
                "heat": 0.420121614151464
              },
              {
                "id": "n147",
                "properties": {
                  "label": "Ladislav Nemet",
                  "v_name": "bnemet.html",
                  "v_role": "Voting",
                  "v_wikidata_id": "Q778704",
                  "v_country_of_citizenship": ":RS:",
                  "v_num_awards": 0,
                  "v_wahrscheinlichkeit": 0,
                  "v_degree": 0.00398406374501992,
                  "v_betweenness": 0,
                  "v_closeness": 0.236526946107784,
                  "v_pagerank": 0.00177258998912583,
                  "v_degree_global": 0.00119230114120252,
                  "v_betweenness_global": 0.0000224465130737552,
                  "v_closeness_global": 0.207657920310982,
                  "v_pagerank_global": 0.000245675521633355,
                  "v_papabile_index": 0.00497512437810945,
                  "v_component": 1
                },
                "color": "indianred",
                "styles": {},
                "label": "Ladislav Nemet (RS)",
                "scale_factor": 1,
                "type": "indianred",
                "size": [
                  55,
                  55
                ],
                "position": [
                  0,
                  0
                ],
                "heat": 0.99502487562189
              },
              {
                "id": "n148",
                "properties": {
                  "label": "Baldassare Reina",
                  "v_name": "breinab.html",
                  "v_role": "Voting",
                  "v_wikidata_id": "Q112147156",
                  "v_country_of_citizenship": ":IT:",
                  "v_num_awards": 0,
                  "v_wahrscheinlichkeit": 0.01,
                  "v_degree": 0.0199203187250996,
                  "v_betweenness": 0.00404780876494024,
                  "v_closeness": 0.236173393124066,
                  "v_pagerank": 0.0107130057793343,
                  "v_degree_global": 0.00136262987566002,
                  "v_betweenness_global": 0.000157113584163433,
                  "v_closeness_global": 0.196324880558618,
                  "v_pagerank_global": 0.000184551794906823,
                  "v_papabile_index": 0.00298507462686567,
                  "v_component": 1
                },
                "color": "green",
                "styles": {},
                "label": "Baldassare Reina (IT)",
                "scale_factor": 1,
                "type": "green",
                "size": [
                  55,
                  55
                ],
                "position": [
                  0,
                  0
                ],
                "heat": 0.5970149253731339
              },
              {
                "id": "n149",
                "properties": {
                  "label": "Fortunato Frezza",
                  "v_name": "bfrezzaf.html",
                  "v_role": "Non-Voting (Age)",
                  "v_wikidata_id": "Q112162800",
                  "v_country_of_citizenship": "NA",
                  "v_num_awards": 0,
                  "v_wahrscheinlichkeit": 0,
                  "v_degree": 0.0119521912350598,
                  "v_betweenness": 0.0000110668437361664,
                  "v_closeness": 0.220979020979021,
                  "v_pagerank": 0.00338269303315473,
                  "v_degree_global": 0.00136262987566002,
                  "v_betweenness_global": 0.000075927096745304,
                  "v_closeness_global": 0.213304583932279,
                  "v_pagerank_global": 0.000249717507420972,
                  "v_papabile_index": 0,
                  "v_component": 1
                },
                "color": "indianred",
                "styles": {},
                "label": "Fortunato Frezza (NA)",
                "scale_factor": 1,
                "type": "indianred",
                "size": [
                  55,
                  55
                ],
                "position": [
                  0,
                  0
                ],
                "heat": 0
              },
              {
                "id": "n150",
                "properties": {
                  "label": "Angelo Comastri",
                  "v_name": "bcomastri.html",
                  "v_role": "Non-Voting (Age)",
                  "v_wikidata_id": "Q521184",
                  "v_country_of_citizenship": ":IT:",
                  "v_num_awards": 3,
                  "v_wahrscheinlichkeit": 0,
                  "v_degree": 0.00796812749003984,
                  "v_betweenness": 0,
                  "v_closeness": 0.249605055292259,
                  "v_pagerank": 0.00139922544054587,
                  "v_degree_global": 0.000851643672287515,
                  "v_betweenness_global": 0.000150153675172432,
                  "v_closeness_global": 0.214228424767405,
                  "v_pagerank_global": 0.000123320119725403,
                  "v_papabile_index": 0,
                  "v_component": 1
                },
                "color": "green",
                "styles": {},
                "label": "Angelo Comastri (IT)",
                "scale_factor": 1,
                "type": "green",
                "size": [
                  55,
                  55
                ],
                "position": [
                  0,
                  0
                ],
                "heat": 0
              },
              {
                "id": "n151",
                "properties": {
                  "label": "Fabio Baggio",
                  "v_name": "bbaggiof.html",
                  "v_role": "Voting",
                  "v_wikidata_id": "Q28007565",
                  "v_country_of_citizenship": ":IT:",
                  "v_num_awards": 0,
                  "v_wahrscheinlichkeit": 0,
                  "v_degree": 0.00796812749003984,
                  "v_betweenness": 0,
                  "v_closeness": 0.222535211267606,
                  "v_pagerank": 0.00315397173577003,
                  "v_degree_global": 0.000510986203372509,
                  "v_betweenness_global": 0,
                  "v_closeness_global": 0.191058655221745,
                  "v_pagerank_global": 0.000203481762640184,
                  "v_papabile_index": 0,
                  "v_component": 1
                },
                "color": "green",
                "styles": {},
                "label": "Fabio Baggio (IT)",
                "scale_factor": 1,
                "type": "green",
                "size": [
                  55,
                  55
                ],
                "position": [
                  0,
                  0
                ],
                "heat": 0
              },
              {
                "id": "n152",
                "properties": {
                  "label": "Walter Brandmüller",
                  "v_name": "bbrandmu.html",
                  "v_role": "Non-Voting (Age)",
                  "v_wikidata_id": "Q62254",
                  "v_country_of_citizenship": ":DE:",
                  "v_num_awards": 3,
                  "v_wahrscheinlichkeit": 0,
                  "v_degree": 0.00398406374501992,
                  "v_betweenness": 0,
                  "v_closeness": 0.220362622036262,
                  "v_pagerank": 0.00270894734914805,
                  "v_degree_global": 0.000340657468915006,
                  "v_betweenness_global": 0,
                  "v_closeness_global": 0.193179763497631,
                  "v_pagerank_global": 0.000132907834366741,
                  "v_papabile_index": 0,
                  "v_component": 1
                },
                "color": "indianred",
                "styles": {},
                "label": "Walter Brandmüller (DE)",
                "scale_factor": 1,
                "type": "indianred",
                "size": [
                  55,
                  55
                ],
                "position": [
                  0,
                  0
                ],
                "heat": 0
              },
              {
                "id": "n153",
                "properties": {
                  "label": "Ángel Fernández Artime",
                  "v_name": "bferart.html",
                  "v_role": "Voting",
                  "v_wikidata_id": "Q15978622",
                  "v_country_of_citizenship": ":ES:",
                  "v_num_awards": 0,
                  "v_wahrscheinlichkeit": 0,
                  "v_degree": 0.00796812749003984,
                  "v_betweenness": 0,
                  "v_closeness": 0.177328843995511,
                  "v_pagerank": 0.00263452311953401,
                  "v_degree_global": 0.000510986203372509,
                  "v_betweenness_global": 0,
                  "v_closeness_global": 0.174780787854993,
                  "v_pagerank_global": 0.000139190177682959,
                  "v_papabile_index": 0.00132669983416252,
                  "v_component": 1
                },
                "color": "indianred",
                "styles": {},
                "label": "Ángel Fernández Artime (ES)",
                "scale_factor": 1,
                "type": "indianred",
                "size": [
                  55,
                  55
                ],
                "position": [
                  0,
                  0
                ],
                "heat": 0.265339966832504
              },
              {
                "id": "n154",
                "properties": {
                  "label": "Julián Herranz Casado",
                  "v_name": "bherranz.html",
                  "v_role": "Non-Voting (Age)",
                  "v_wikidata_id": "Q711525",
                  "v_country_of_citizenship": ":ES:",
                  "v_num_awards": 0,
                  "v_wahrscheinlichkeit": 0,
                  "v_degree": 0.00796812749003984,
                  "v_betweenness": 0,
                  "v_closeness": 0.25944170771757,
                  "v_pagerank": 0.00147106055728814,
                  "v_degree_global": 0.000340657468915006,
                  "v_betweenness_global": 0,
                  "v_closeness_global": 0.235621030345801,
                  "v_pagerank_global": 0.0000771667842023982,
                  "v_papabile_index": 0,
                  "v_component": 1
                },
                "color": "indianred",
                "styles": {},
                "label": "Julián Herranz Casado (ES)",
                "scale_factor": 1,
                "type": "indianred",
                "size": [
                  55,
                  55
                ],
                "position": [
                  0,
                  0
                ],
                "heat": 0
              },
              {
                "id": "n155",
                "properties": {
                  "label": "Rolandas Makrickas",
                  "v_name": "bmakricka.html",
                  "v_role": "Voting",
                  "v_wikidata_id": "Q16471403",
                  "v_country_of_citizenship": ":LT:",
                  "v_num_awards": 0,
                  "v_wahrscheinlichkeit": 0,
                  "v_degree": 0.00796812749003984,
                  "v_betweenness": 0,
                  "v_closeness": 0.29368029739777,
                  "v_pagerank": 0.00216714743676734,
                  "v_degree_global": 0.000510986203372509,
                  "v_betweenness_global": 0,
                  "v_closeness_global": 0.240305892937472,
                  "v_pagerank_global": 0.000108204199326593,
                  "v_papabile_index": 0.000773908236594804,
                  "v_component": 1
                },
                "color": "indianred",
                "styles": {},
                "label": "Rolandas Makrickas (LT)",
                "scale_factor": 1,
                "type": "indianred",
                "size": [
                  55,
                  55
                ],
                "position": [
                  0,
                  0
                ],
                "heat": 0.1547816473189608
              },
              {
                "id": "n156",
                "properties": {
                  "label": "Giorgio Marengo",
                  "v_name": "bmarengog.html",
                  "v_role": "Voting",
                  "v_wikidata_id": "Q89274820",
                  "v_country_of_citizenship": ":IT:",
                  "v_num_awards": 0,
                  "v_wahrscheinlichkeit": 0,
                  "v_degree": 0.00398406374501992,
                  "v_betweenness": 0,
                  "v_closeness": 0.229651162790698,
                  "v_pagerank": 0.00164857489215081,
                  "v_degree_global": 0.000340657468915006,
                  "v_betweenness_global": 0,
                  "v_closeness_global": 0.210430946190814,
                  "v_pagerank_global": 0.0000969018419149106,
                  "v_papabile_index": 0.00597014925373134,
                  "v_component": 1
                },
                "color": "green",
                "styles": {},
                "label": "Giorgio Marengo (IT)",
                "scale_factor": 1,
                "type": "green",
                "size": [
                  55,
                  55
                ],
                "position": [
                  0,
                  0
                ],
                "heat": 1.1940298507462679
              },
              {
                "id": "n157",
                "properties": {
                  "label": "Dominique Joseph Mathieu",
                  "v_name": "bmathieud.html",
                  "v_role": "Voting",
                  "v_wikidata_id": "Q104726645",
                  "v_country_of_citizenship": ":BE:",
                  "v_num_awards": 0,
                  "v_wahrscheinlichkeit": 0,
                  "v_degree": 0.00796812749003984,
                  "v_betweenness": 0,
                  "v_closeness": 0.254838709677419,
                  "v_pagerank": 0.00205301077147474,
                  "v_degree_global": 0.000510986203372509,
                  "v_betweenness_global": 0,
                  "v_closeness_global": 0.220908113472831,
                  "v_pagerank_global": 0.000135660550674293,
                  "v_papabile_index": 0.00342730790491985,
                  "v_component": 1
                },
                "color": "indianred",
                "styles": {},
                "label": "Dominique Joseph Mathieu (BE)",
                "scale_factor": 1,
                "type": "indianred",
                "size": [
                  55,
                  55
                ],
                "position": [
                  0,
                  0
                ],
                "heat": 0.68546158098397
              },
              {
                "id": "n158",
                "properties": {
                  "label": "Fernando Vérgez Alzaga",
                  "v_name": "bveralz.html",
                  "v_role": "Non-Voting (Age)",
                  "v_wikidata_id": "Q15060665",
                  "v_country_of_citizenship": ":ES:",
                  "v_num_awards": 0,
                  "v_wahrscheinlichkeit": 0,
                  "v_degree": 0.00398406374501992,
                  "v_betweenness": 0,
                  "v_closeness": 0.236173393124066,
                  "v_pagerank": 0.00147180800649771,
                  "v_degree_global": 0.000340657468915006,
                  "v_betweenness_global": 0,
                  "v_closeness_global": 0.205683043277376,
                  "v_pagerank_global": 0.000103474382576261,
                  "v_papabile_index": 0,
                  "v_component": 1
                },
                "color": "indianred",
                "styles": {},
                "label": "Fernando Vérgez Alzaga (ES)",
                "scale_factor": 1,
                "type": "indianred",
                "size": [
                  55,
                  55
                ],
                "position": [
                  0,
                  0
                ],
                "heat": 0
              },
              {
                "id": "n909",
                "properties": {
                  "label": "Robert Francis Cardinal Prevost",
                  "v_name": "bprevost.html",
                  "v_wikidata_id": "Q6109517",
                  "v_degree": 0.00391756089252257,
                  "v_betweenness": 0.000630253780421887,
                  "v_closeness": 0.194042862332001,
                  "v_pagerank": 0.000327612439416517,
                  "modularity_class": 22,
                  "v_country_of_citizenship": "US/PE"
                },
                "color": "#fbf334",
                "styles": {},
                "label": "Robert Francis Cardinal Prevost (US/PE)",
                "scale_factor": 1,
                "type": "#fbf334",
                "size": [
                  55,
                  55
                ],
                "position": [
                  0,
                  0
                ],
                "heat": 0
              },
              {
                "id": "n1473",
                "properties": {
                  "label": "Archbishop James Patrick Green",
                  "v_name": "bgreen.html",
                  "v_wikidata_id": "Q553470",
                  "v_degree": 0.00749446431613013,
                  "v_betweenness": 0.00597659631143183,
                  "v_closeness": 0.211732065001982,
                  "v_pagerank": 0.00038021888852157,
                  "modularity_class": 22,
                  "v_country_of_citizenship": "US"
                },
                "color": "indianred",
                "styles": {},
                "label": "Archbishop James Patrick Green (US)",
                "scale_factor": 1,
                "type": "indianred",
                "size": [
                  55,
                  55
                ],
                "position": [
                  0,
                  0
                ],
                "heat": 0
              }
            ],
            "_overview": {
              "enabled": null,
              "overview_set": false
            },
            "_selected_graph": [
              [
                {
                  "id": "n909",
                  "properties": {
                    "label": "Robert Francis Cardinal Prevost",
                    "v_name": "bprevost.html",
                    "v_wikidata_id": "Q6109517",
                    "v_degree": 0.00391756089252257,
                    "v_betweenness": 0.000630253780421887,
                    "v_closeness": 0.194042862332001,
                    "v_pagerank": 0.000327612439416517,
                    "modularity_class": 22,
                    "v_country_of_citizenship": "US/PE"
                  }
                }
              ],
              []
            ],
            "_sidebar": {
              "enabled": true,
              "start_with": "Neighborhood"
            },
            "_view_count": null,
            "_view_module": "yfiles-jupyter-graphs",
            "_view_module_version": "^1.10.5",
            "_view_name": "GraphView",
            "layout": "IPY_MODEL_a2edd1e9868c40cdbb50b45d35e08f1b"
          }
        },
        "a2edd1e9868c40cdbb50b45d35e08f1b": {
          "model_module": "@jupyter-widgets/base",
          "model_name": "LayoutModel",
          "model_module_version": "1.2.0",
          "state": {
            "_model_module": "@jupyter-widgets/base",
            "_model_module_version": "1.2.0",
            "_model_name": "LayoutModel",
            "_view_count": null,
            "_view_module": "@jupyter-widgets/base",
            "_view_module_version": "1.2.0",
            "_view_name": "LayoutView",
            "align_content": null,
            "align_items": null,
            "align_self": null,
            "border": null,
            "bottom": null,
            "display": null,
            "flex": null,
            "flex_flow": null,
            "grid_area": null,
            "grid_auto_columns": null,
            "grid_auto_flow": null,
            "grid_auto_rows": null,
            "grid_column": null,
            "grid_gap": null,
            "grid_row": null,
            "grid_template_areas": null,
            "grid_template_columns": null,
            "grid_template_rows": null,
            "height": "800px",
            "justify_content": null,
            "justify_items": null,
            "left": null,
            "margin": null,
            "max_height": null,
            "max_width": null,
            "min_height": null,
            "min_width": null,
            "object_fit": null,
            "object_position": null,
            "order": null,
            "overflow": null,
            "overflow_x": null,
            "overflow_y": null,
            "padding": null,
            "right": null,
            "top": null,
            "visibility": null,
            "width": "100%"
          }
        }
      }
    }
  },
  "cells": [
    {
      "cell_type": "markdown",
      "source": [
        "# Graph from the New Pope Project\n",
        "\n",
        "Inspiration and data from: https://www.the-new-pope.org/index.html\n",
        "\n",
        "As the authors of \"The New Pope Project\" noted the election of Cardinal Prevost was a surprise as he was not part of the main component. We added the missing link, Cardinal Green, to join the components.\n",
        "\n",
        "We then visualized the network using the [yFiles Graphs for Jupyter](https://www.yworks.com/products/yfiles-graphs-for-jupyter) plugin.\n",
        "Where available the papbility-index, an informal measure of how good a fit as a pope a given person would be, is used as a heatmap.\n",
        "\n",
        "Gist of the Data (from \"The New Pope Project\"):\n",
        "https://gist.githubusercontent.com/richirikken/3d11c9dcef8eb7bda898437a4ed395a2/raw/9eeb8666ea83a3039e6ae3af38cac8acdd9b63a5/network-dd3927e2-243.gexf\n"
      ],
      "metadata": {
        "id": "7p6qBD80KEjA"
      }
    },
    {
      "cell_type": "code",
      "execution_count": 2,
      "metadata": {
        "colab": {
          "base_uri": "https://localhost:8080/"
        },
        "id": "xuwQ1x0aANnA",
        "outputId": "516f49eb-06aa-4fbc-fd94-cd65998a1638",
        "cellView": "form"
      },
      "outputs": [
        {
          "output_type": "stream",
          "name": "stdout",
          "text": [
            "\u001b[?25l   \u001b[90m━━━━━━━━━━━━━━━━━━━━━━━━━━━━━━━━━━━━━━━━\u001b[0m \u001b[32m0.0/15.7 MB\u001b[0m \u001b[31m?\u001b[0m eta \u001b[36m-:--:--\u001b[0m\r\u001b[2K   \u001b[91m━\u001b[0m\u001b[91m╸\u001b[0m\u001b[90m━━━━━━━━━━━━━━━━━━━━━━━━━━━━━━━━━━━━━━\u001b[0m \u001b[32m0.6/15.7 MB\u001b[0m \u001b[31m18.4 MB/s\u001b[0m eta \u001b[36m0:00:01\u001b[0m\r\u001b[2K   \u001b[91m━━━━━━━━\u001b[0m\u001b[91m╸\u001b[0m\u001b[90m━━━━━━━━━━━━━━━━━━━━━━━━━━━━━━━\u001b[0m \u001b[32m3.4/15.7 MB\u001b[0m \u001b[31m48.3 MB/s\u001b[0m eta \u001b[36m0:00:01\u001b[0m\r\u001b[2K   \u001b[91m━━━━━━━━━━━━━━━━━━\u001b[0m\u001b[90m╺\u001b[0m\u001b[90m━━━━━━━━━━━━━━━━━━━━━\u001b[0m \u001b[32m7.2/15.7 MB\u001b[0m \u001b[31m67.5 MB/s\u001b[0m eta \u001b[36m0:00:01\u001b[0m\r\u001b[2K   \u001b[91m━━━━━━━━━━━━━━━━━━━━━━━━━━━━━\u001b[0m\u001b[90m╺\u001b[0m\u001b[90m━━━━━━━━━━\u001b[0m \u001b[32m11.4/15.7 MB\u001b[0m \u001b[31m104.4 MB/s\u001b[0m eta \u001b[36m0:00:01\u001b[0m\r\u001b[2K   \u001b[91m━━━━━━━━━━━━━━━━━━━━━━━━━━━━━━━━━━━━━━━\u001b[0m\u001b[91m╸\u001b[0m \u001b[32m15.7/15.7 MB\u001b[0m \u001b[31m120.7 MB/s\u001b[0m eta \u001b[36m0:00:01\u001b[0m\r\u001b[2K   \u001b[91m━━━━━━━━━━━━━━━━━━━━━━━━━━━━━━━━━━━━━━━\u001b[0m\u001b[91m╸\u001b[0m \u001b[32m15.7/15.7 MB\u001b[0m \u001b[31m120.7 MB/s\u001b[0m eta \u001b[36m0:00:01\u001b[0m\r\u001b[2K   \u001b[90m━━━━━━━━━━━━━━━━━━━━━━━━━━━━━━━━━━━━━━━━\u001b[0m \u001b[32m15.7/15.7 MB\u001b[0m \u001b[31m68.0 MB/s\u001b[0m eta \u001b[36m0:00:00\u001b[0m\n",
            "\u001b[?25h\u001b[?25l   \u001b[90m━━━━━━━━━━━━━━━━━━━━━━━━━━━━━━━━━━━━━━━━\u001b[0m \u001b[32m0.0/1.6 MB\u001b[0m \u001b[31m?\u001b[0m eta \u001b[36m-:--:--\u001b[0m\r\u001b[2K   \u001b[90m━━━━━━━━━━━━━━━━━━━━━━━━━━━━━━━━━━━━━━━━\u001b[0m \u001b[32m1.6/1.6 MB\u001b[0m \u001b[31m51.2 MB/s\u001b[0m eta \u001b[36m0:00:00\u001b[0m\n",
            "\u001b[?25h"
          ]
        }
      ],
      "source": [
        "# @title\n",
        "%pip install yfiles_jupyter_graphs --quiet"
      ]
    },
    {
      "cell_type": "code",
      "source": [
        "# @title\n",
        "try:\n",
        "  import google.colab\n",
        "  from google.colab import output\n",
        "  output.enable_custom_widget_manager()\n",
        "except:\n",
        "  pass"
      ],
      "metadata": {
        "id": "MWT7w5dlJrWY",
        "cellView": "form"
      },
      "execution_count": 17,
      "outputs": []
    },
    {
      "cell_type": "markdown",
      "source": [
        "Support for third party widgets will remain active for the duration of the session. To disable support:"
      ],
      "metadata": {
        "id": "KUsBORarw5D8"
      }
    },
    {
      "cell_type": "code",
      "source": [
        "# @title\n",
        "from google.colab import output\n",
        "output.disable_custom_widget_manager()"
      ],
      "metadata": {
        "cellView": "form",
        "id": "SuWXm0JLw5D8"
      },
      "execution_count": null,
      "outputs": []
    },
    {
      "cell_type": "markdown",
      "source": [
        "Parse the data"
      ],
      "metadata": {
        "id": "yxEv3gZzKru4"
      }
    },
    {
      "cell_type": "code",
      "source": [
        "# @title  {\"display-mode\":\"form\"}\n",
        "import xml.etree.ElementTree as ET\n",
        "import requests\n",
        "from io import StringIO\n",
        "from yfiles_jupyter_graphs import GraphWidget\n",
        "\n",
        "\n",
        "# GEXF files often use namespaces. These are the common ones.\n",
        "# The 'default' GEXF namespace (often not prefixed in the XML but needs to be handled by parsers)\n",
        "GEXF_NS = 'http://gexf.net/1.3'\n",
        "# The 'viz' namespace for visualization attributes\n",
        "VIZ_NS = 'http://gexf.net/1.3/viz'\n",
        "\n",
        "# Helper to construct fully qualified names for ElementTree find/findall\n",
        "# e.g., for a tag 'node' in the GEXF_NS, it becomes '{http://www.gexf.net/1.2draft}node'\n",
        "def _q(ns_uri, tag_name):\n",
        "    return f\"{{{ns_uri}}}{tag_name}\"\n",
        "\n",
        "def try_convert_value(value_str):\n",
        "    \"\"\"\n",
        "    Tries to convert a string value to int, then float.\n",
        "    If both fail, returns the original string.\n",
        "    \"\"\"\n",
        "    if value_str is None:\n",
        "        return None\n",
        "    try:\n",
        "        return int(value_str)\n",
        "    except ValueError:\n",
        "        try:\n",
        "            return float(value_str)\n",
        "        except ValueError:\n",
        "            return value_str\n",
        "\n",
        "def parse_gexf(path):\n",
        "    \"\"\"\n",
        "    Parses a GEXF file into lists of nodes and edges with their properties.\n",
        "\n",
        "    Args:\n",
        "        gexf_file_path (str): Path to the GEXF file.\n",
        "\n",
        "    Returns:\n",
        "        tuple: (nodes_list, edges_list)\n",
        "            nodes_list: [{id:str, properties:map<str, any>}]\n",
        "            edges_list: [{id:str, source:str, target:str, properties:map<str, any>}]\n",
        "                        (Note: GEXF edges can also have properties, so including it)\n",
        "    \"\"\"\n",
        "    nodes_list = []\n",
        "    edges_list = []\n",
        "\n",
        "    try:\n",
        "        response = requests.get(path)\n",
        "        response.raise_for_status()\n",
        "\n",
        "        content_io = StringIO(response.content.decode('utf-8'))\n",
        "\n",
        "        # Parse GEXF 1.3 file\n",
        "        tree = ET.parse(content_io)\n",
        "        root = tree.getroot()\n",
        "    except ET.ParseError as e:\n",
        "        print(f\"Error parsing XML in {gexf_file_path}: {e}\")\n",
        "        return [], []\n",
        "    except FileNotFoundError:\n",
        "        print(f\"Error: File not found at {gexf_file_path}\")\n",
        "        return [], []\n",
        "\n",
        "    # GEXF structure is typically <gexf><graph><nodes>...</nodes><edges>...</edges></graph></gexf>\n",
        "    graph_element = root.find(_q(GEXF_NS, 'graph'))\n",
        "    if graph_element is None:\n",
        "        # Try finding graph without namespace if root itself is <graph> (less common for full GEXF)\n",
        "        if root.tag == _q(GEXF_NS, 'graph'):\n",
        "            graph_element = root\n",
        "        else:\n",
        "            print(\"Error: <graph> element not found. The GEXF file might be malformed or use unexpected namespaces.\")\n",
        "            return [], []\n",
        "\n",
        "    # --- Parse Nodes ---\n",
        "    nodes_container = graph_element.find(_q(GEXF_NS, 'nodes'))\n",
        "    if nodes_container is not None:\n",
        "        for node_element in nodes_container.findall(_q(GEXF_NS, 'node')):\n",
        "            node_id = node_element.get('id')\n",
        "            properties = {}\n",
        "\n",
        "            # Get 'label' attribute if present\n",
        "            label = node_element.get('label')\n",
        "            if label is not None:\n",
        "                properties['label'] = label\n",
        "\n",
        "            # Parse <attvalues>\n",
        "            attvalues_element = node_element.find(_q(GEXF_NS, 'attvalues'))\n",
        "            if attvalues_element is not None:\n",
        "                for attvalue_element in attvalues_element.findall(_q(GEXF_NS, 'attvalue')):\n",
        "                    attr_for = attvalue_element.get('for')\n",
        "                    attr_value_str = attvalue_element.get('value')\n",
        "                    if attr_for: # Ensure 'for' attribute exists\n",
        "                        properties[attr_for] = try_convert_value(attr_value_str)\n",
        "\n",
        "\n",
        "\n",
        "            nodes_list.append({'id': node_id, 'properties': properties})\n",
        "\n",
        "    # --- Add Prevost nodes ---\n",
        "    nodes_list.append({'id': 'n909', 'properties':{\n",
        "        \"label\": \"Robert Francis Cardinal Prevost\",\n",
        "        \"v_name\": \"bprevost.html\",\n",
        "        \"v_wikidata_id\": \"Q6109517\",\n",
        "        \"v_degree\": 0.00391756089252257,\n",
        "        \"v_betweenness\" :6.30253780421887E-4,\n",
        "        \"v_closeness\" :0.194042862332001,\n",
        "        \"v_pagerank\" :3.27612439416517E-4,\n",
        "        \"modularity_class\":22,\n",
        "        \"v_country_of_citizenship\":\"US/PE\"\n",
        "    }})\n",
        "\n",
        "    nodes_list.append({'id':\"n1473\", 'properties':{\n",
        "        \"label\": \"Archbishop James Patrick Green\",\n",
        "        \"v_name\": \"bgreen.html\",\n",
        "        \"v_wikidata_id\" :\"Q553470\",\n",
        "        \"v_degree\" :0.00749446431613013,\n",
        "        \"v_betweenness\" :0.00597659631143183,\n",
        "        \"v_closeness\" :0.211732065001982,\n",
        "        \"v_pagerank\" :3.8021888852157E-4,\n",
        "        \"modularity_class\" :22,\n",
        "        \"v_country_of_citizenship\":\"US\"\n",
        "\n",
        "    }})\n",
        "\n",
        "\n",
        "    # --- Parse Edges ---\n",
        "    edges_container = graph_element.find(_q(GEXF_NS, 'edges'))\n",
        "    if edges_container is not None:\n",
        "        for edge_element in edges_container.findall(_q(GEXF_NS, 'edge')):\n",
        "            edge_id = edge_element.get('id')\n",
        "            source_id = edge_element.get('source')\n",
        "            target_id = edge_element.get('target')\n",
        "\n",
        "            edge_properties = {} # Edges can also have properties\n",
        "\n",
        "            # Get 'label' attribute if present\n",
        "            label = edge_element.get('label')\n",
        "            if label is not None:\n",
        "                edge_properties['label'] = label\n",
        "\n",
        "            # Get 'type' attribute if present (e.g. directed, undirected)\n",
        "            edge_type = edge_element.get('type')\n",
        "            if edge_type is not None:\n",
        "                edge_properties['type'] = edge_type\n",
        "\n",
        "            # Get 'weight' attribute if present\n",
        "            weight = edge_element.get('weight')\n",
        "            if weight is not None:\n",
        "                edge_properties['weight'] = try_convert_value(weight)\n",
        "\n",
        "            # Parse <attvalues> for edges\n",
        "            attvalues_element = edge_element.find(_q(GEXF_NS, 'attvalues'))\n",
        "            if attvalues_element is not None:\n",
        "                for attvalue_element in attvalues_element.findall(_q(GEXF_NS, 'attvalue')):\n",
        "                    attr_for = attvalue_element.get('for')\n",
        "                    attr_value_str = attvalue_element.get('value')\n",
        "                    if attr_for:\n",
        "                        edge_properties[attr_for] = try_convert_value(attr_value_str)\n",
        "\n",
        "            edges_list.append({\n",
        "                'id': edge_id,\n",
        "                'start': source_id,\n",
        "                'end': target_id,\n",
        "                'properties': edge_properties\n",
        "            })\n",
        "\n",
        "    #--- Add Prevost Edges ---\n",
        "    edges_list.append({\n",
        "                'id': \"23876\",\n",
        "                'start': \"n1473\",\n",
        "                'end': \"n909\",\n",
        "                'properties': {\"e_relation\": \"consecrator\"}\n",
        "            })\n",
        "    edges_list.append({\n",
        "                'id': \"21958\",\n",
        "                'start': \"n61\",\n",
        "                'end': \"n1473\",\n",
        "                'properties': {\"e_relation\": \"co_consecrator\"}\n",
        "            })\n",
        "    return nodes_list, edges_list"
      ],
      "metadata": {
        "id": "hj9_XZlLUcOC"
      },
      "execution_count": 39,
      "outputs": []
    },
    {
      "cell_type": "code",
      "source": [
        "# @title\n",
        "nodes, edges = parse_gexf(\"https://gist.githubusercontent.com/richirikken/3d11c9dcef8eb7bda898437a4ed395a2/raw/9eeb8666ea83a3039e6ae3af38cac8acdd9b63a5/network-dd3927e2-243.gexf\")\n",
        "\n",
        "filtered_edges = [edge for edge in edges if edge[\"properties\"][\"e_relation\"] != \"common_consecration\" or edge[\"start\"] < edge[\"end\"]]\n",
        "\n",
        "\n",
        "w = GraphWidget()\n",
        "w.nodes = nodes\n",
        "w.edges = filtered_edges\n",
        "w.directed = True\n",
        "\n",
        "def name_country_label_mapping(index, node):\n",
        "    return \"{name}\\n{country}\".format(name=node[\"properties\"][\"v-name\"], country=node[\"properties\"][\"v_country_of_citizenship\"])\n",
        "\n",
        "def name_country_label_mapping(index, node):\n",
        "    return \"{name} ({country})\".format(name=node[\"properties\"][\"label\"], country=node[\"properties\"][\"v_country_of_citizenship\"].replace(':',''))\n",
        "\n",
        "def edge_label_mapping(index, edge):\n",
        "    label = edge[\"properties\"][\"e_relation\"].replace('_', ' ')\n",
        "    if label != \"common consecration\":\n",
        "       return label\n",
        "    else:\n",
        "       return\n",
        "\n",
        "w.set_node_label_mapping(name_country_label_mapping)\n",
        "w.set_edge_label_mapping(edge_label_mapping)\n",
        "\n",
        "def heatmap(element):\n",
        "#    return element['properties'].get('v_pagerank', 0) * 50\n",
        "#    return element['properties'].get('v_wahrscheinlichkeit', 0) * 100\n",
        "#    return element['properties'].get('v_degree', 0) * 100\n",
        "#    return element['properties'].get('v_betweenness', 0) * 100\n",
        "    return element['properties'].get('v_papabile_index', 0) * 200\n",
        "\n",
        "def edge_color_mapping(index, edge):\n",
        "    type = edge[\"properties\"][\"e_relation\"]\n",
        "    if type == \"common_consecration\":\n",
        "      return\n",
        "    elif type == \"co_consecrator\":\n",
        "      return 'darkmagenta'\n",
        "    elif type == \"consecrator\":\n",
        "      return 'darkslateblue'\n",
        "\n",
        "def edge_direction_mapping(index, edge):\n",
        "    type = edge[\"properties\"][\"e_relation\"]\n",
        "    if type == \"common_consecration\":\n",
        "      return 0\n",
        "    elif type == \"co_consecrator\":\n",
        "      return 0\n",
        "    elif type == \"consecrator\":\n",
        "      return 1\n",
        "\n",
        "def node_color_mapping(index, node):\n",
        "    type = node[\"properties\"][\"v_country_of_citizenship\"]\n",
        "    if type == \":IT:\":\n",
        "      return 'green'\n",
        "    elif node['id'] == \"n909\":\n",
        "      return '#fbf334'\n",
        "    return 'indianred'\n",
        "\n",
        "\n",
        "\n",
        "w.set_heat_mapping(heatmap)\n",
        "\n",
        "w.hierarchic_layout()\n",
        "w.set_edge_color_mapping(edge_color_mapping )\n",
        "w.set_directed_mapping(edge_direction_mapping)\n",
        "w.set_node_color_mapping(node_color_mapping)\n",
        "\n",
        "w.set_sidebar(enabled=True)\n",
        "w.set_sidebar(start_with='Neighborhood')\n",
        "w.set_neighborhood(3, ['n909'])\n",
        "w"
      ],
      "metadata": {
        "id": "nwgbz8JaU_bx",
        "colab": {
          "base_uri": "https://localhost:8080/",
          "height": 817,
          "referenced_widgets": [
            "bfdb589364d3404cbfc411084a5e47ae",
            "a2edd1e9868c40cdbb50b45d35e08f1b"
          ]
        },
        "outputId": "8168de7b-6b45-4624-c57d-5fb597b20d26",
        "cellView": "form"
      },
      "execution_count": 38,
      "outputs": [
        {
          "output_type": "display_data",
          "data": {
            "text/plain": [
              "GraphWidget(layout=Layout(height='800px', width='100%'))"
            ],
            "application/vnd.jupyter.widget-view+json": {
              "version_major": 2,
              "version_minor": 0,
              "model_id": "bfdb589364d3404cbfc411084a5e47ae"
            }
          },
          "metadata": {
            "application/vnd.jupyter.widget-view+json": {
              "colab": {
                "custom_widget_manager": {
                  "url": "https://ssl.gstatic.com/colaboratory-static/widgets/colab-cdn-widget-manager/2b70e893a8ba7c0f/manager.min.js"
                }
              }
            }
          }
        }
      ]
    }
  ]
}
