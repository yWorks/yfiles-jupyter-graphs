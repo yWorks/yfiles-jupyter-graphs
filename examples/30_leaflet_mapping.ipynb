{
  "cells": [
    {
      "cell_type": "markdown",
      "id": "2dc9a13a-8eda-41a2-b82e-0fa6dcdba165",
      "metadata": {
        "id": "2dc9a13a-8eda-41a2-b82e-0fa6dcdba165"
      },
      "source": [
        "# Leaflet Integration <a target=\"_blank\" href=\"https://colab.research.google.com/github/yWorks/yfiles-jupyter-graphs/blob/main/examples/30_leaflet_mapping.ipynb\"><img src=\"https://colab.research.google.com/assets/colab-badge.svg\" alt=\"Open In Colab\"/></a>\n",
        "\n",
        "Before using the graph widget, install all necessary packages and initialize your widget."
      ]
    },
    {
      "cell_type": "code",
      "execution_count": 1,
      "id": "7e2c1065-4f28-4ae1-b743-9166aa647e4e",
      "metadata": {
        "id": "7e2c1065-4f28-4ae1-b743-9166aa647e4e",
        "outputId": "29bd4bdb-9e7a-474c-fda0-40215e86c3bc",
        "colab": {
          "base_uri": "https://localhost:8080/",
          "height": 90
        }
      },
      "outputs": [
        {
          "output_type": "stream",
          "name": "stdout",
          "text": [
            "\u001b[2K   \u001b[90m\u2501\u2501\u2501\u2501\u2501\u2501\u2501\u2501\u2501\u2501\u2501\u2501\u2501\u2501\u2501\u2501\u2501\u2501\u2501\u2501\u2501\u2501\u2501\u2501\u2501\u2501\u2501\u2501\u2501\u2501\u2501\u2501\u2501\u2501\u2501\u2501\u2501\u2501\u2501\u2501\u001b[0m \u001b[32m15.6/15.6 MB\u001b[0m \u001b[31m12.9 MB/s\u001b[0m eta \u001b[36m0:00:00\u001b[0m\n",
            "\u001b[2K   \u001b[90m\u2501\u2501\u2501\u2501\u2501\u2501\u2501\u2501\u2501\u2501\u2501\u2501\u2501\u2501\u2501\u2501\u2501\u2501\u2501\u2501\u2501\u2501\u2501\u2501\u2501\u2501\u2501\u2501\u2501\u2501\u2501\u2501\u2501\u2501\u2501\u2501\u2501\u2501\u2501\u2501\u001b[0m \u001b[32m139.8/139.8 kB\u001b[0m \u001b[31m3.4 MB/s\u001b[0m eta \u001b[36m0:00:00\u001b[0m\n",
            "\u001b[2K   \u001b[90m\u2501\u2501\u2501\u2501\u2501\u2501\u2501\u2501\u2501\u2501\u2501\u2501\u2501\u2501\u2501\u2501\u2501\u2501\u2501\u2501\u2501\u2501\u2501\u2501\u2501\u2501\u2501\u2501\u2501\u2501\u2501\u2501\u2501\u2501\u2501\u2501\u2501\u2501\u2501\u2501\u001b[0m \u001b[32m2.3/2.3 MB\u001b[0m \u001b[31m10.4 MB/s\u001b[0m eta \u001b[36m0:00:00\u001b[0m\n",
            "\u001b[2K   \u001b[90m\u2501\u2501\u2501\u2501\u2501\u2501\u2501\u2501\u2501\u2501\u2501\u2501\u2501\u2501\u2501\u2501\u2501\u2501\u2501\u2501\u2501\u2501\u2501\u2501\u2501\u2501\u2501\u2501\u2501\u2501\u2501\u2501\u2501\u2501\u2501\u2501\u2501\u2501\u2501\u2501\u001b[0m \u001b[32m1.6/1.6 MB\u001b[0m \u001b[31m11.0 MB/s\u001b[0m eta \u001b[36m0:00:00\u001b[0m\n",
            "\u001b[?25h"
          ]
        }
      ],
      "source": [
        "%pip install yfiles_jupyter_graphs --quiet\n",
        "from yfiles_jupyter_graphs import GraphWidget\n",
        "w = GraphWidget()"
      ]
    },
    {
      "cell_type": "markdown",
      "id": "8730a384-1ece-4615-a86e-68f289cef3a6",
      "metadata": {
        "id": "8730a384-1ece-4615-a86e-68f289cef3a6"
      },
      "source": [
        "You can also open this notebook in Google Colab when Google Colab's custom widget manager is enabled:"
      ]
    },
    {
      "cell_type": "code",
      "execution_count": 2,
      "id": "aa6b295b-3b11-4fce-ba09-81f8c70b2bb5",
      "metadata": {
        "id": "aa6b295b-3b11-4fce-ba09-81f8c70b2bb5"
      },
      "outputs": [],
      "source": [
        "try:\n",
        "  import google.colab\n",
        "  from google.colab import output\n",
        "  output.enable_custom_widget_manager()\n",
        "except:\n",
        "  pass"
      ]
    },
    {
      "cell_type": "markdown",
      "id": "26eead6d-66c5-4f14-9a5c-cc8a633dcb95",
      "metadata": {
        "id": "26eead6d-66c5-4f14-9a5c-cc8a633dcb95"
      },
      "source": [
        "<a target=\"_blank\" href=\"https://colab.research.google.com/github/yWorks/yfiles-jupyter-graphs/blob/main/examples/30_leaflet_mapping.ipynb\"><img src=\"https://colab.research.google.com/assets/colab-badge.svg\" alt=\"Open In Colab\"/></a>"
      ]
    },
    {
      "cell_type": "markdown",
      "id": "516f8b11-6f66-46b7-bfea-4d4f9f4e548f",
      "metadata": {
        "id": "516f8b11-6f66-46b7-bfea-4d4f9f4e548f"
      },
      "source": [
        "## Mapping Function\n",
        "\n",
        "The node coordinate mapping is a function that is supposed to return a 2-tuple of numbers `(lat, lng)` for each given node object which is then used in the widget.\n",
        "\n",
        "Optionally, the index can be used as the first function parameter."
      ]
    },
    {
      "cell_type": "code",
      "execution_count": 3,
      "id": "899cb5a5-c81a-4598-b534-2375c1857774",
      "metadata": {
        "id": "899cb5a5-c81a-4598-b534-2375c1857774",
        "outputId": "b28ae8e4-ee13-4c96-e760-c871ab4e2777",
        "colab": {
          "base_uri": "https://localhost:8080/"
        }
      },
      "outputs": [
        {
          "output_type": "stream",
          "name": "stdout",
          "text": [
            "The default coordinate mapping for nodes.\n",
            "\n",
            "        Provides constant value of None for all nodes.\n",
            "\n",
            "        Parameters\n",
            "        ----------\n",
            "        index: int (optional)\n",
            "        node: typing.Dict\n",
            "\n",
            "        Notes\n",
            "        -----\n",
            "        This is the default value for the `node_coordinate_mapping` property.\n",
            "        Can be 'overwritten' by setting the property\n",
            "        with a function of the same signature.\n",
            "\n",
            "        If the given mapping function has only one parameter (that is not typed as int),\n",
            "        then it will be called with the element (typing.Dict) as first parameter.\n",
            "\n",
            "        Example\n",
            "        -------\n",
            "        .. code::\n",
            "\n",
            "           from yfiles_jupyter_graphs import GraphWidget\n",
            "           w = GraphWidget()\n",
            "           def custom_node_coordinate_mapping(node: typing.Dict):\n",
            "           ...\n",
            "           w.set_node_coordinate_mapping(custom_node_coordinate_mapping)\n",
            "\n",
            "        Returns\n",
            "        -------\n",
            "        coordinate: float 2-tuple\n",
            "\n",
            "        \n"
          ]
        }
      ],
      "source": [
        "print(w.default_node_coordinate_mapping.__doc__)"
      ]
    },
    {
      "cell_type": "code",
      "execution_count": 4,
      "id": "642533bd-2922-4641-b71b-314de376ac87",
      "metadata": {
        "id": "642533bd-2922-4641-b71b-314de376ac87"
      },
      "outputs": [],
      "source": [
        "flightData = {\n",
        "  'airports': [\n",
        "    { 'name': 'Los Angeles', 'iata': 'LAX','lat': 33.942536,'lng': -118.408075, 'passengers': 65000000 },    { 'name': 'Rio de Janeiro', 'iata': 'GIG','lat': -22.808903,'lng': -43.243647, 'passengers': 5000000 },    {'name': 'Lima', 'iata': 'LIM','lat': -12.021889,'lng': -77.114319, 'passengers': 18000000 },    { 'name': 'London', 'iata': 'LHR','lat': 51.4775,'lng': -0.461389, 'passengers': 61000000 },\n",
        "    {'name': 'Frankfurt', 'iata': 'FRA','lat': 50.033333,'lng': 8.570556, 'passengers': 48000000 },    {'name': 'Moscow', 'iata': 'SVO','lat': 55.972642,'lng': 37.414589, 'passengers': 49000000 },    {'name': 'New Delhi', 'iata': 'DEL','lat': 28.5665,'lng': 77.103089, 'passengers': 39000000 },    {'name': 'Shanghai', 'iata': 'PVG','lat': 31.143378,'lng': 121.805214, 'passengers': 32000000 },\n",
        "    {'name': 'Hongkong', 'iata': 'HKG','lat': 22.308919,'lng': 113.914603, 'passengers': 1000000 },    {'name': 'Tokio', 'iata': 'NRT','lat': 35.764722,'lng': 140.386389, 'passengers': 15000000 },    {'name': 'Dubai', 'iata': 'DXB','lat': 25.252778,'lng': 55.364444, 'passengers': 29000000 },    {'name': 'Dakar', 'iata': 'DKR','lat': 14.670833,'lng': -17.072778, 'passengers': 2000000 },\n",
        "    {'name': 'Johannesburg', 'iata': 'JNB','lat': -26.133694,'lng': 28.242317, 'passengers': 9000000 },    {'name': 'Sydney', 'iata': 'SYD','lat': -33.946111,'lng': 151.177222, 'passengers': 44000000 },    {'name': 'Nairobi', 'iata': 'NBO','lat': -1.319167,'lng': 36.927778, 'passengers': 900000 },    {'name': 'Atlanta', 'iata': 'ATL','lat': 33.639167,'lng': -84.427778, 'passengers': 93000000 },\n",
        "    {'name': 'New York City', 'iata': 'JFK','lat': 40.63975,'lng': -73.778925, 'passengers': 55000000 },    {'name': 'Cairo', 'iata': 'CAI','lat': 30.121944,'lng': 31.405556, 'passengers': 14000000 },    {'name': 'Casablanca', 'iata': 'CMN','lat': 33.367467,'lng': -7.589967, 'passengers': 7000000 },    {'name': 'Lagos', 'iata': 'LOS','lat': 6.577222,'lng': 3.321111, 'passengers': 5000000 },\n",
        "    {'name': 'Cape Town', 'iata': 'CPT','lat': -33.969444,'lng': 18.597222, 'passengers': 5000000 },    {'name': 'Chengdu', 'iata': 'CTU','lat': 30.578333,'lng': 103.946944, 'passengers': 40000000 },    {'name': 'Jakarta', 'iata': 'CGK','lat': -6.125567,'lng': 106.655897, 'passengers': 54000000 },    {'name': 'Teheran', 'iata': 'IKA','lat': 35.416111,'lng': 51.152222, 'passengers': 8000000 },\n",
        "    {'name': 'Tel Aviv', 'iata': 'TLV','lat': 32.011389,'lng': 34.886667, 'passengers': 20000000 },    {'name': 'Kuala Lumpur', 'iata': 'KUL','lat': 2.745578,'lng': 101.709917, 'passengers': 25000000 },    {'name': 'Manila', 'iata': 'MNL','lat': 14.508647,'lng': 121.019581, 'passengers': 8000000 },    {'name': 'Singapur', 'iata': 'SIN','lat': 1.350189,'lng': 103.994433, 'passengers': 32000000 },\n",
        "    {'name': 'Taipeh', 'iata': 'TPE','lat': 25.077732,'lng': 121.232822, 'passengers': 800000 },    {'name': 'Bangkok', 'iata': 'BKK','lat': 13.681108,'lng': 100.747283, 'passengers': 65000000 },    {'name': 'Istanbul', 'iata': 'IST','lat': 40.976922,'lng': 28.814606, 'passengers': 64000000 },    {'name': 'Ulaanbaatar', 'iata': 'ULN','lat': 47.843056,'lng': 106.766639, 'passengers': 1000000 },\n",
        "    {'name': 'Melbourne', 'iata': 'MEL','lat': -37.673333,'lng': 144.843333, 'passengers': 12000000 },    {'name': 'Brisbane', 'iata': 'BNE','lat': -27.383333,'lng': 153.118056, 'passengers': 23000000 },    {'name': 'Nadi', 'iata': 'NAN','lat': -17.755392,'lng': 177.443378, 'passengers': 2000000 },    {'name': 'Auckland', 'iata': 'AKL','lat': -37.008056,'lng': 174.791667, 'passengers': 21000000 },\n",
        "    {'name': 'Paris', 'iata': 'CDG','lat': 49.009722,'lng': 2.547778, 'passengers': 57000000 },    {'name': 'Madrid', 'iata': 'MAD','lat': 40.4675,'lng': -3.551944, 'passengers': 50000000 },    {'name': 'Barcelona', 'iata': 'BCN','lat': 41.297078,'lng': 2.078464, 'passengers': 41000000 },    {'name': 'Rome', 'iata': 'FCO','lat': 41.804444,'lng': 12.250833, 'passengers': 29000000 },\n",
        "    {'name': 'Copenhagen', 'iata': 'CPH','lat': 55.617917,'lng': 12.655972, 'passengers': 30000000 },    {'name': 'Helsinki', 'iata': 'HEL','lat': 60.317222,'lng': 24.963333, 'passengers': 5000000 },    {'name': 'Athens', 'iata': 'ATH','lat': 37.936358,'lng': 23.944467, 'passengers': 22000000 },    {'name': 'Dublin', 'iata': 'DUB','lat': 53.421333,'lng': -6.270075, 'passengers': 32000000 },\n",
        "    {'name': 'Reykjavik', 'iata': 'RKV','lat': 64.13,'lng': -21.940556, 'passengers': 400000 },    {'name': 'Oslo', 'iata': 'OSL','lat': 60.193917,'lng': 11.100361, 'passengers': 9000000 },    {'name': 'Vienna', 'iata': 'VIE','lat': 48.110833,'lng': 16.570833, 'passengers': 10000000 },    {'name': 'Lisbon', 'iata': 'LIS','lat': 38.774167,'lng': -9.134167, 'passengers': 28000000 },\n",
        "    {'name': 'Stockholm', 'iata': 'ARN','lat': 59.651944,'lng': 17.918611, 'passengers': 7000000 },    {'name': 'Edinburgh', 'iata': 'EDI','lat': 55.95,'lng': -3.3725, 'passengers': 14000000 },    {'name': 'Chicago', 'iata': 'ORD','lat': 41.978603,'lng': -87.904842, 'passengers': 54000000 },    {'name': 'Dallas', 'iata': 'DFW','lat': 32.896828,'lng': -97.037997, 'passengers': 73000000 },\n",
        "    {'name': 'San Francisco', 'iata': 'SFO','lat': 37.618972,'lng': -122.374889, 'passengers': 42000000 },    {'name': 'Las Vegas', 'iata': 'LAS','lat': 36.080056,'lng': -115.15225, 'passengers': 52000000 },    {'name': 'Miami', 'iata': 'MIA','lat': 25.79325,'lng': -80.290556, 'passengers': 50000000 },    {'name': 'Toronto', 'iata': 'YYZ','lat': 43.677222,'lng': -79.630556, 'passengers': 12000000 },\n",
        "    {'name': 'Vancouver', 'iata': 'YVR','lat': 49.193889,'lng': -123.184444, 'passengers': 19000000 },    {'name': 'Montreal', 'iata': 'YUL','lat': 45.47175,'lng': -73.736569, 'passengers': 15000000 },    {'name': 'Mexico-City', 'iata': 'MEX','lat': 19.436303,'lng': -99.072097, 'passengers': 46000000 },    {'name': 'Guatemala-City', 'iata': 'GUA','lat': 14.583272,'lng': -90.527475, 'passengers': 2000000 },\n",
        "    {'name': 'Buenos Aires', 'iata': 'EZE','lat': -34.822222,'lng': -58.535833, 'passengers': 5000000 },    {'name': 'Sao Paulo', 'iata': 'GRU','lat': -23.432075,'lng': -46.469511, 'passengers': 34000000 },    {'name': 'Santiago de Chile', 'iata': 'SCL','lat': -33.392975,'lng': -70.785803, 'passengers': 20000000 },    {'name': 'Brasilia', 'iata': 'BSB','lat': -15.871111,'lng': -47.918611, 'passengers': 13000000 },\n",
        "    {'name': 'Bogota', 'iata': 'BOG','lat': 4.701594,'lng': -74.146947, 'passengers': 36000000 },    {'name': 'Caracas', 'iata': 'CCS','lat': 10.601194,'lng': -66.991222, 'passengers': 8000000 }  ],\n",
        "  'connections': [\n",
        "    {'from': 'LAX','to': 'JFK' },   {'from': 'JFK','to': 'GIG' },    {'from': 'JFK','to': 'LIM' },    {'from': 'JFK','to': 'LHR' },    {'from': 'GIG','to': 'FRA' },    {'from': 'LIM','to': 'GIG' },    {'from': 'FRA','to': 'JFK' },    {'from': 'LHR','to': 'FRA' },    {'from': 'FRA','to': 'SVO' },    {'from': 'FRA','to': 'DXB' },    {'from': 'SVO','to': 'DEL' },\n",
        "    {'from': 'SVO','to': 'PVG' },    {'from': 'DEL','to': 'HKG' },    {'from': 'PVG','to': 'HKG' },    {'from': 'PVG','to': 'NRT' },    {'from': 'HKG','to': 'SYD' },    {'from': 'NRT','to': 'SYD' },    {'from': 'DXB','to': 'SVO' },    {'from': 'DXB','to': 'DEL' },    {'from': 'DXB','to': 'DKR' },    {'from': 'DXB','to': 'JNB' },    {'from': 'JNB','to': 'LHR' },\n",
        "    {'from': 'JNB','to': 'DKR' },    {'from': 'SYD','to': 'DXB' },    {'from': 'NBO','to': 'JNB' },    {'from': 'NBO','to': 'DXB' },    {'from': 'ATL','to': 'JFK' },    {'from': 'LAX','to': 'ATL' },    {'from': 'ATL','to': 'LHR' },    {'from': 'ATL','to': 'LIM' },    {'from': 'SCL','to': 'LIM' },    {'from': 'EZE','to': 'SCL' },    {'from': 'SCL','to': 'GRU' },\n",
        "    {'from': 'GIG','to': 'EZE' },    {'from': 'GIG','to': 'GRU' },    {'from': 'BSB','to': 'GIG' },    {'from': 'SCL','to': 'BSB' },    {'from': 'LIM','to': 'BSB' },    {'from': 'BOG','to': 'BSB' },    {'from': 'CCS','to': 'BSB' },    {'from': 'BOG','to': 'GUA' },    {'from': 'CCS','to': 'MIA' },    {'from': 'GUA','to': 'MIA' },    {'from': 'GUA','to': 'MEX' },\n",
        "    {'from': 'MEX','to': 'LAX' },    {'from': 'MEX','to': 'LAX' },    {'from': 'LAX','to': 'SFO' },    {'from': 'SFO','to': 'YVR' },    {'from': 'LAX','to': 'LAS' },    {'from': 'LAX','to': 'DFW' },    {'from': 'LAX','to': 'ORD' },    {'from': 'SFO','to': 'LAS' },    {'from': 'DFW','to': 'ATL' },    {'from': 'ATL','to': 'YYZ' },    {'from': 'ORD','to': 'YYZ' },\n",
        "    {'from': 'YYZ','to': 'YUL' },    {'from': 'YYZ','to': 'JFK' },    {'from': 'YUL','to': 'JFK' },    {'from': 'JNB','to': 'CPT' },    {'from': 'LOS','to': 'DKR' },    {'from': 'NBO','to': 'LOS' },    {'from': 'DKR','to': 'CMN' },    {'from': 'DKR','to': 'CAI' },    {'from': 'NBO','to': 'CAI' },    {'from': 'DXB','to': 'CAI' },    {'from': 'IKA','to': 'DXB' },\n",
        "    {'from': 'IST','to': 'IKA' },    {'from': 'TLV','to': 'ATH' },    {'from': 'CAI','to': 'TLV' },    {'from': 'ATH','to': 'IST' },    {'from': 'FCO','to': 'ATH' },    {'from': 'LIS','to': 'LHR' },    {'from': 'LIS','to': 'MAD' },    {'from': 'MAD','to': 'BCN' },    {'from': 'CDG','to': 'LHR' },    {'from': 'DUB','to': 'LHR' },    {'from': 'EDI','to': 'LHR' },\n",
        "    {'from': 'CDG','to': 'BCN' },    {'from': 'BCN','to': 'FCO' },    {'from': 'VIE','to': 'IST' },    {'from': 'VIE','to': 'SVO' },    {'from': 'CMN','to': 'LIS' },    {'from': 'MAD','to': 'CMN' },    {'from': 'FRA','to': 'CPH' },    {'from': 'LHR','to': 'CPH' },    {'from': 'CPH','to': 'OSL' },    {'from': 'CPH','to': 'ARN' },    {'from': 'ARN','to': 'HEL' },\n",
        "    {'from': 'HEL','to': 'SVO' },    {'from': 'ULN','to': 'PVG' },    {'from': 'CTU','to': 'PVG' },    {'from': 'PVG','to': 'TPE' },    {'from': 'CTU','to': 'HKG' },    {'from': 'TPE','to': 'HKG' },    {'from': 'HKG','to': 'MNL' },    {'from': 'BKK','to': 'HKG' },    {'from': 'SIN','to': 'KUL' },    {'from': 'SIN','to': 'BKK' },    {'from': 'CGK','to': 'SIN' },\n",
        "    {'from': 'MNL','to': 'SIN' },    {'from': 'SIN','to': 'SYD' },    {'from': 'BNE','to': 'SYD' },    {'from': 'SYD','to': 'MEL' },    {'from': 'NAN','to': 'SYD' },    {'from': 'AKL','to': 'SYD' },    {'from': 'NAN','to': 'AKL' },    {'from': 'RKV','to': 'LHR' },    {'from': 'BCN','to': 'CDG' },    {'from': 'BCN','to': 'FRA' },    {'from': 'FCO','to': 'FRA' },\n",
        "    {'from': 'BOG','to': 'MEX' },    {'from': 'BOG','to': 'GRU' },    {'from': 'ATL','to': 'MIA' },    {'from': 'FRA','to': 'IST' },    {'from': 'IST','to': 'DEL' },    {'from': 'PVG','to': 'BKK' },    {'from': 'DEL','to': 'BKK' },\n",
        "  ],\n",
        "}\n",
        "\n",
        "w.edges = edges = [\n",
        "    {\"start\": connection['from'], \"end\": connection['to'], \"label\": \"\", \"properties\": {}, \"directed\": False}\n",
        "    for connection in flightData['connections']\n",
        "]\n",
        "\n",
        "w.nodes = nodes = [\n",
        "    {\"id\": airport['iata'], \"properties\": {\"label\": airport['name'], 'passengers': airport['passengers']}, \"coordinates\": [airport['lat'], airport['lng']]}\n",
        "    for airport in flightData['airports']\n",
        "]\n"
      ]
    },
    {
      "cell_type": "markdown",
      "id": "4e296c92-22b3-4765-9c5e-0d2bf9e98742",
      "metadata": {
        "id": "4e296c92-22b3-4765-9c5e-0d2bf9e98742"
      },
      "source": [
        "We'll use the given latitude and longitute for our coordinate mapping."
      ]
    },
    {
      "cell_type": "code",
      "execution_count": 5,
      "id": "7448ef35-a12d-4d4d-a6a8-e2f96b97dd99",
      "metadata": {
        "id": "7448ef35-a12d-4d4d-a6a8-e2f96b97dd99",
        "outputId": "591f9e2c-3d51-45b1-daa8-4f4977d25956",
        "colab": {
          "base_uri": "https://localhost:8080/",
          "height": 36
        }
      },
      "outputs": [
        {
          "output_type": "execute_result",
          "data": {
            "text/plain": [
              "'coordinates'"
            ],
            "application/vnd.google.colaboratory.intrinsic+json": {
              "type": "string"
            }
          },
          "metadata": {},
          "execution_count": 5
        }
      ],
      "source": [
        "w.node_coordinate_mapping = 'coordinates'\n",
        "w.get_node_coordinate_mapping()"
      ]
    },
    {
      "cell_type": "markdown",
      "id": "515b21f4-5a9d-42c2-a463-1594f6a727d4",
      "metadata": {
        "id": "515b21f4-5a9d-42c2-a463-1594f6a727d4"
      },
      "source": [
        "To show the map-view, either pick the `Show on Map` layout in the toolbar, or pre-configure the layout with `w.map_layout()`:"
      ]
    },
    {
      "cell_type": "code",
      "execution_count": 6,
      "id": "20a5689d-30dc-4a40-a8c4-b64f5e3ae630",
      "metadata": {
        "id": "20a5689d-30dc-4a40-a8c4-b64f5e3ae630"
      },
      "outputs": [],
      "source": [
        "w.map_layout()"
      ]
    },
    {
      "cell_type": "code",
      "execution_count": 7,
      "id": "0acf19fd-a301-4ece-9354-cd8474427d1e",
      "metadata": {
        "id": "0acf19fd-a301-4ece-9354-cd8474427d1e",
        "outputId": "f5463f01-0a7f-46a5-d928-f2cc969ff415",
        "colab": {
          "base_uri": "https://localhost:8080/",
          "height": 817,
          "referenced_widgets": [
            "06130374d95a42e097ca7b403a9a8cf0",
            "6264ee641bc8411c90a739c64b5c37ba"
          ]
        }
      },
      "outputs": [
        {
          "output_type": "display_data",
          "data": {
            "text/plain": [
              "GraphWidget(layout=Layout(height='800px', width='100%'))"
            ],
            "application/vnd.jupyter.widget-view+json": {
              "version_major": 2,
              "version_minor": 0,
              "model_id": "06130374d95a42e097ca7b403a9a8cf0"
            }
          },
          "metadata": {
            "application/vnd.jupyter.widget-view+json": {
              "colab": {
                "custom_widget_manager": {
                  "url": "https://ssl.gstatic.com/colaboratory-static/widgets/colab-cdn-widget-manager/2b70e893a8ba7c0f/manager.min.js"
                }
              }
            }
          }
        }
      ],
      "source": [
        "display(w)"
      ]
    },
    {
      "cell_type": "markdown",
      "id": "e64bce42-f3d8-4153-bb46-a349ebb3f10c",
      "metadata": {
        "id": "e64bce42-f3d8-4153-bb46-a349ebb3f10c"
      },
      "source": [
        "If the coordinate mapping is deleted, the heatmap mapping reverts back to the default mapping."
      ]
    },
    {
      "cell_type": "code",
      "execution_count": 8,
      "id": "8d4b5fda-947d-4eed-b624-70c19726bde4",
      "metadata": {
        "id": "8d4b5fda-947d-4eed-b624-70c19726bde4",
        "outputId": "1e8574c4-af1f-424b-9fa5-e422935e265e",
        "colab": {
          "base_uri": "https://localhost:8080/",
          "height": 186
        }
      },
      "outputs": [
        {
          "output_type": "execute_result",
          "data": {
            "text/plain": [
              "<function yfiles_jupyter_graphs.widget.GraphWidget.default_node_coordinate_mapping(index: int, node: Dict)>"
            ],
            "text/html": [
              "<div style=\"max-width:800px; border: 1px solid var(--colab-border-color);\"><style>\n",
              "      pre.function-repr-contents {\n",
              "        overflow-x: auto;\n",
              "        padding: 8px 12px;\n",
              "        max-height: 500px;\n",
              "      }\n",
              "\n",
              "      pre.function-repr-contents.function-repr-contents-collapsed {\n",
              "        cursor: pointer;\n",
              "        max-height: 100px;\n",
              "      }\n",
              "    </style>\n",
              "    <pre style=\"white-space: initial; background:\n",
              "         var(--colab-secondary-surface-color); padding: 8px 12px;\n",
              "         border-bottom: 1px solid var(--colab-border-color);\"><b>yfiles_jupyter_graphs.widget.GraphWidget.default_node_coordinate_mapping</b><br/>def default_node_coordinate_mapping(index: int, node: TDict)</pre><pre class=\"function-repr-contents function-repr-contents-collapsed\" style=\"\"><a class=\"filepath\" style=\"display:none\" href=\"#\">/usr/local/lib/python3.10/dist-packages/yfiles_jupyter_graphs/widget.py</a>The default coordinate mapping for nodes.\n",
              "\n",
              "Provides constant value of None for all nodes.\n",
              "\n",
              "Parameters\n",
              "----------\n",
              "index: int (optional)\n",
              "node: typing.Dict\n",
              "\n",
              "Notes\n",
              "-----\n",
              "This is the default value for the `node_coordinate_mapping` property.\n",
              "Can be &#x27;overwritten&#x27; by setting the property\n",
              "with a function of the same signature.\n",
              "\n",
              "If the given mapping function has only one parameter (that is not typed as int),\n",
              "then it will be called with the element (typing.Dict) as first parameter.\n",
              "\n",
              "Example\n",
              "-------\n",
              ".. code::\n",
              "\n",
              "   from yfiles_jupyter_graphs import GraphWidget\n",
              "   w = GraphWidget()\n",
              "   def custom_node_coordinate_mapping(node: typing.Dict):\n",
              "   ...\n",
              "   w.set_node_coordinate_mapping(custom_node_coordinate_mapping)\n",
              "\n",
              "Returns\n",
              "-------\n",
              "coordinate: float 2-tuple</pre>\n",
              "      <script>\n",
              "      if (google.colab.kernel.accessAllowed && google.colab.files && google.colab.files.view) {\n",
              "        for (const element of document.querySelectorAll('.filepath')) {\n",
              "          element.style.display = 'block'\n",
              "          element.onclick = (event) => {\n",
              "            event.preventDefault();\n",
              "            event.stopPropagation();\n",
              "            google.colab.files.view(element.textContent, 1981);\n",
              "          };\n",
              "        }\n",
              "      }\n",
              "      for (const element of document.querySelectorAll('.function-repr-contents')) {\n",
              "        element.onclick = (event) => {\n",
              "          event.preventDefault();\n",
              "          event.stopPropagation();\n",
              "          element.classList.toggle('function-repr-contents-collapsed');\n",
              "        };\n",
              "      }\n",
              "      </script>\n",
              "      </div>"
            ]
          },
          "metadata": {},
          "execution_count": 8
        }
      ],
      "source": [
        "w.del_node_coordinate_mapping()\n",
        "w.get_node_coordinate_mapping()"
      ]
    },
    {
      "cell_type": "markdown",
      "id": "c087955a-d94d-4a5b-bb38-d366bfb5f36b",
      "metadata": {
        "id": "c087955a-d94d-4a5b-bb38-d366bfb5f36b"
      },
      "source": [
        "Add an additional heat mapping:"
      ]
    },
    {
      "cell_type": "code",
      "execution_count": 9,
      "id": "fc71eb02-da8f-4d9f-8b68-52e82f1d76c8",
      "metadata": {
        "id": "fc71eb02-da8f-4d9f-8b68-52e82f1d76c8",
        "outputId": "9b6c7cd1-7201-4986-a993-a6c421cc9b66",
        "colab": {
          "base_uri": "https://localhost:8080/",
          "height": 817,
          "referenced_widgets": [
            "216ef21c3ac04d9285a2a3cfaf56089a",
            "392b50931ae04baca8424a3f75a81334"
          ]
        }
      },
      "outputs": [
        {
          "output_type": "display_data",
          "data": {
            "text/plain": [
              "GraphWidget(layout=Layout(height='800px', width='100%'))"
            ],
            "application/vnd.jupyter.widget-view+json": {
              "version_major": 2,
              "version_minor": 0,
              "model_id": "216ef21c3ac04d9285a2a3cfaf56089a"
            }
          },
          "metadata": {
            "application/vnd.jupyter.widget-view+json": {
              "colab": {
                "custom_widget_manager": {
                  "url": "https://ssl.gstatic.com/colaboratory-static/widgets/colab-cdn-widget-manager/2b70e893a8ba7c0f/manager.min.js"
                }
              }
            }
          }
        }
      ],
      "source": [
        "w2 = GraphWidget()\n",
        "w2.nodes = w.nodes\n",
        "w2.edges = w.edges\n",
        "\n",
        "w2.node_coordinate_mapping = 'coordinates'\n",
        "\n",
        "def heat(element):\n",
        "    if 'start' in element:\n",
        "        #edge case\n",
        "        return 0\n",
        "    else: return (element['properties']['passengers'] - 800000)/92200000\n",
        "\n",
        "w2.set_heat_mapping(heat)\n",
        "w2.map_layout()\n",
        "display(w2)"
      ]
    }
  ],
  "metadata": {
    "kernelspec": {
      "display_name": "Python 3 (ipykernel)",
      "language": "python",
      "name": "python3"
    },
    "language_info": {
      "codemirror_mode": {
        "name": "ipython",
        "version": 3
      },
      "file_extension": ".py",
      "mimetype": "text/x-python",
      "name": "python",
      "nbconvert_exporter": "python",
      "pygments_lexer": "ipython3",
      "version": "3.12.3"
    },
    "colab": {
      "provenance": []
    },
    "widgets": {
      "application/vnd.jupyter.widget-state+json": {
        "06130374d95a42e097ca7b403a9a8cf0": {
          "model_module": "yfiles-jupyter-graphs",
          "model_name": "GraphModel",
          "model_module_version": "^1.8.1",
          "state": {
            "_context_pane_mapping": [
              {
                "id": "Neighborhood",
                "title": "Neighborhood"
              },
              {
                "id": "Data",
                "title": "Data"
              },
              {
                "id": "Search",
                "title": "Search"
              },
              {
                "id": "About",
                "title": "About"
              }
            ],
            "_data_importer": "unknown",
            "_directed": false,
            "_dom_classes": [],
            "_edges": [
              {
                "start": "LAX",
                "end": "JFK",
                "label": "",
                "properties": {},
                "directed": false,
                "color": "#15AFAC",
                "thickness_factor": 1
              },
              {
                "start": "JFK",
                "end": "GIG",
                "label": "",
                "properties": {},
                "directed": false,
                "color": "#15AFAC",
                "thickness_factor": 1
              },
              {
                "start": "JFK",
                "end": "LIM",
                "label": "",
                "properties": {},
                "directed": false,
                "color": "#15AFAC",
                "thickness_factor": 1
              },
              {
                "start": "JFK",
                "end": "LHR",
                "label": "",
                "properties": {},
                "directed": false,
                "color": "#15AFAC",
                "thickness_factor": 1
              },
              {
                "start": "GIG",
                "end": "FRA",
                "label": "",
                "properties": {},
                "directed": false,
                "color": "#15AFAC",
                "thickness_factor": 1
              },
              {
                "start": "LIM",
                "end": "GIG",
                "label": "",
                "properties": {},
                "directed": false,
                "color": "#15AFAC",
                "thickness_factor": 1
              },
              {
                "start": "FRA",
                "end": "JFK",
                "label": "",
                "properties": {},
                "directed": false,
                "color": "#15AFAC",
                "thickness_factor": 1
              },
              {
                "start": "LHR",
                "end": "FRA",
                "label": "",
                "properties": {},
                "directed": false,
                "color": "#15AFAC",
                "thickness_factor": 1
              },
              {
                "start": "FRA",
                "end": "SVO",
                "label": "",
                "properties": {},
                "directed": false,
                "color": "#15AFAC",
                "thickness_factor": 1
              },
              {
                "start": "FRA",
                "end": "DXB",
                "label": "",
                "properties": {},
                "directed": false,
                "color": "#15AFAC",
                "thickness_factor": 1
              },
              {
                "start": "SVO",
                "end": "DEL",
                "label": "",
                "properties": {},
                "directed": false,
                "color": "#15AFAC",
                "thickness_factor": 1
              },
              {
                "start": "SVO",
                "end": "PVG",
                "label": "",
                "properties": {},
                "directed": false,
                "color": "#15AFAC",
                "thickness_factor": 1
              },
              {
                "start": "DEL",
                "end": "HKG",
                "label": "",
                "properties": {},
                "directed": false,
                "color": "#15AFAC",
                "thickness_factor": 1
              },
              {
                "start": "PVG",
                "end": "HKG",
                "label": "",
                "properties": {},
                "directed": false,
                "color": "#15AFAC",
                "thickness_factor": 1
              },
              {
                "start": "PVG",
                "end": "NRT",
                "label": "",
                "properties": {},
                "directed": false,
                "color": "#15AFAC",
                "thickness_factor": 1
              },
              {
                "start": "HKG",
                "end": "SYD",
                "label": "",
                "properties": {},
                "directed": false,
                "color": "#15AFAC",
                "thickness_factor": 1
              },
              {
                "start": "NRT",
                "end": "SYD",
                "label": "",
                "properties": {},
                "directed": false,
                "color": "#15AFAC",
                "thickness_factor": 1
              },
              {
                "start": "DXB",
                "end": "SVO",
                "label": "",
                "properties": {},
                "directed": false,
                "color": "#15AFAC",
                "thickness_factor": 1
              },
              {
                "start": "DXB",
                "end": "DEL",
                "label": "",
                "properties": {},
                "directed": false,
                "color": "#15AFAC",
                "thickness_factor": 1
              },
              {
                "start": "DXB",
                "end": "DKR",
                "label": "",
                "properties": {},
                "directed": false,
                "color": "#15AFAC",
                "thickness_factor": 1
              },
              {
                "start": "DXB",
                "end": "JNB",
                "label": "",
                "properties": {},
                "directed": false,
                "color": "#15AFAC",
                "thickness_factor": 1
              },
              {
                "start": "JNB",
                "end": "LHR",
                "label": "",
                "properties": {},
                "directed": false,
                "color": "#15AFAC",
                "thickness_factor": 1
              },
              {
                "start": "JNB",
                "end": "DKR",
                "label": "",
                "properties": {},
                "directed": false,
                "color": "#15AFAC",
                "thickness_factor": 1
              },
              {
                "start": "SYD",
                "end": "DXB",
                "label": "",
                "properties": {},
                "directed": false,
                "color": "#15AFAC",
                "thickness_factor": 1
              },
              {
                "start": "NBO",
                "end": "JNB",
                "label": "",
                "properties": {},
                "directed": false,
                "color": "#15AFAC",
                "thickness_factor": 1
              },
              {
                "start": "NBO",
                "end": "DXB",
                "label": "",
                "properties": {},
                "directed": false,
                "color": "#15AFAC",
                "thickness_factor": 1
              },
              {
                "start": "ATL",
                "end": "JFK",
                "label": "",
                "properties": {},
                "directed": false,
                "color": "#15AFAC",
                "thickness_factor": 1
              },
              {
                "start": "LAX",
                "end": "ATL",
                "label": "",
                "properties": {},
                "directed": false,
                "color": "#15AFAC",
                "thickness_factor": 1
              },
              {
                "start": "ATL",
                "end": "LHR",
                "label": "",
                "properties": {},
                "directed": false,
                "color": "#15AFAC",
                "thickness_factor": 1
              },
              {
                "start": "ATL",
                "end": "LIM",
                "label": "",
                "properties": {},
                "directed": false,
                "color": "#15AFAC",
                "thickness_factor": 1
              },
              {
                "start": "SCL",
                "end": "LIM",
                "label": "",
                "properties": {},
                "directed": false,
                "color": "#15AFAC",
                "thickness_factor": 1
              },
              {
                "start": "EZE",
                "end": "SCL",
                "label": "",
                "properties": {},
                "directed": false,
                "color": "#15AFAC",
                "thickness_factor": 1
              },
              {
                "start": "SCL",
                "end": "GRU",
                "label": "",
                "properties": {},
                "directed": false,
                "color": "#15AFAC",
                "thickness_factor": 1
              },
              {
                "start": "GIG",
                "end": "EZE",
                "label": "",
                "properties": {},
                "directed": false,
                "color": "#15AFAC",
                "thickness_factor": 1
              },
              {
                "start": "GIG",
                "end": "GRU",
                "label": "",
                "properties": {},
                "directed": false,
                "color": "#15AFAC",
                "thickness_factor": 1
              },
              {
                "start": "BSB",
                "end": "GIG",
                "label": "",
                "properties": {},
                "directed": false,
                "color": "#15AFAC",
                "thickness_factor": 1
              },
              {
                "start": "SCL",
                "end": "BSB",
                "label": "",
                "properties": {},
                "directed": false,
                "color": "#15AFAC",
                "thickness_factor": 1
              },
              {
                "start": "LIM",
                "end": "BSB",
                "label": "",
                "properties": {},
                "directed": false,
                "color": "#15AFAC",
                "thickness_factor": 1
              },
              {
                "start": "BOG",
                "end": "BSB",
                "label": "",
                "properties": {},
                "directed": false,
                "color": "#15AFAC",
                "thickness_factor": 1
              },
              {
                "start": "CCS",
                "end": "BSB",
                "label": "",
                "properties": {},
                "directed": false,
                "color": "#15AFAC",
                "thickness_factor": 1
              },
              {
                "start": "BOG",
                "end": "GUA",
                "label": "",
                "properties": {},
                "directed": false,
                "color": "#15AFAC",
                "thickness_factor": 1
              },
              {
                "start": "CCS",
                "end": "MIA",
                "label": "",
                "properties": {},
                "directed": false,
                "color": "#15AFAC",
                "thickness_factor": 1
              },
              {
                "start": "GUA",
                "end": "MIA",
                "label": "",
                "properties": {},
                "directed": false,
                "color": "#15AFAC",
                "thickness_factor": 1
              },
              {
                "start": "GUA",
                "end": "MEX",
                "label": "",
                "properties": {},
                "directed": false,
                "color": "#15AFAC",
                "thickness_factor": 1
              },
              {
                "start": "MEX",
                "end": "LAX",
                "label": "",
                "properties": {},
                "directed": false,
                "color": "#15AFAC",
                "thickness_factor": 1
              },
              {
                "start": "MEX",
                "end": "LAX",
                "label": "",
                "properties": {},
                "directed": false,
                "color": "#15AFAC",
                "thickness_factor": 1
              },
              {
                "start": "LAX",
                "end": "SFO",
                "label": "",
                "properties": {},
                "directed": false,
                "color": "#15AFAC",
                "thickness_factor": 1
              },
              {
                "start": "SFO",
                "end": "YVR",
                "label": "",
                "properties": {},
                "directed": false,
                "color": "#15AFAC",
                "thickness_factor": 1
              },
              {
                "start": "LAX",
                "end": "LAS",
                "label": "",
                "properties": {},
                "directed": false,
                "color": "#15AFAC",
                "thickness_factor": 1
              },
              {
                "start": "LAX",
                "end": "DFW",
                "label": "",
                "properties": {},
                "directed": false,
                "color": "#15AFAC",
                "thickness_factor": 1
              },
              {
                "start": "LAX",
                "end": "ORD",
                "label": "",
                "properties": {},
                "directed": false,
                "color": "#15AFAC",
                "thickness_factor": 1
              },
              {
                "start": "SFO",
                "end": "LAS",
                "label": "",
                "properties": {},
                "directed": false,
                "color": "#15AFAC",
                "thickness_factor": 1
              },
              {
                "start": "DFW",
                "end": "ATL",
                "label": "",
                "properties": {},
                "directed": false,
                "color": "#15AFAC",
                "thickness_factor": 1
              },
              {
                "start": "ATL",
                "end": "YYZ",
                "label": "",
                "properties": {},
                "directed": false,
                "color": "#15AFAC",
                "thickness_factor": 1
              },
              {
                "start": "ORD",
                "end": "YYZ",
                "label": "",
                "properties": {},
                "directed": false,
                "color": "#15AFAC",
                "thickness_factor": 1
              },
              {
                "start": "YYZ",
                "end": "YUL",
                "label": "",
                "properties": {},
                "directed": false,
                "color": "#15AFAC",
                "thickness_factor": 1
              },
              {
                "start": "YYZ",
                "end": "JFK",
                "label": "",
                "properties": {},
                "directed": false,
                "color": "#15AFAC",
                "thickness_factor": 1
              },
              {
                "start": "YUL",
                "end": "JFK",
                "label": "",
                "properties": {},
                "directed": false,
                "color": "#15AFAC",
                "thickness_factor": 1
              },
              {
                "start": "JNB",
                "end": "CPT",
                "label": "",
                "properties": {},
                "directed": false,
                "color": "#15AFAC",
                "thickness_factor": 1
              },
              {
                "start": "LOS",
                "end": "DKR",
                "label": "",
                "properties": {},
                "directed": false,
                "color": "#15AFAC",
                "thickness_factor": 1
              },
              {
                "start": "NBO",
                "end": "LOS",
                "label": "",
                "properties": {},
                "directed": false,
                "color": "#15AFAC",
                "thickness_factor": 1
              },
              {
                "start": "DKR",
                "end": "CMN",
                "label": "",
                "properties": {},
                "directed": false,
                "color": "#15AFAC",
                "thickness_factor": 1
              },
              {
                "start": "DKR",
                "end": "CAI",
                "label": "",
                "properties": {},
                "directed": false,
                "color": "#15AFAC",
                "thickness_factor": 1
              },
              {
                "start": "NBO",
                "end": "CAI",
                "label": "",
                "properties": {},
                "directed": false,
                "color": "#15AFAC",
                "thickness_factor": 1
              },
              {
                "start": "DXB",
                "end": "CAI",
                "label": "",
                "properties": {},
                "directed": false,
                "color": "#15AFAC",
                "thickness_factor": 1
              },
              {
                "start": "IKA",
                "end": "DXB",
                "label": "",
                "properties": {},
                "directed": false,
                "color": "#15AFAC",
                "thickness_factor": 1
              },
              {
                "start": "IST",
                "end": "IKA",
                "label": "",
                "properties": {},
                "directed": false,
                "color": "#15AFAC",
                "thickness_factor": 1
              },
              {
                "start": "TLV",
                "end": "ATH",
                "label": "",
                "properties": {},
                "directed": false,
                "color": "#15AFAC",
                "thickness_factor": 1
              },
              {
                "start": "CAI",
                "end": "TLV",
                "label": "",
                "properties": {},
                "directed": false,
                "color": "#15AFAC",
                "thickness_factor": 1
              },
              {
                "start": "ATH",
                "end": "IST",
                "label": "",
                "properties": {},
                "directed": false,
                "color": "#15AFAC",
                "thickness_factor": 1
              },
              {
                "start": "FCO",
                "end": "ATH",
                "label": "",
                "properties": {},
                "directed": false,
                "color": "#15AFAC",
                "thickness_factor": 1
              },
              {
                "start": "LIS",
                "end": "LHR",
                "label": "",
                "properties": {},
                "directed": false,
                "color": "#15AFAC",
                "thickness_factor": 1
              },
              {
                "start": "LIS",
                "end": "MAD",
                "label": "",
                "properties": {},
                "directed": false,
                "color": "#15AFAC",
                "thickness_factor": 1
              },
              {
                "start": "MAD",
                "end": "BCN",
                "label": "",
                "properties": {},
                "directed": false,
                "color": "#15AFAC",
                "thickness_factor": 1
              },
              {
                "start": "CDG",
                "end": "LHR",
                "label": "",
                "properties": {},
                "directed": false,
                "color": "#15AFAC",
                "thickness_factor": 1
              },
              {
                "start": "DUB",
                "end": "LHR",
                "label": "",
                "properties": {},
                "directed": false,
                "color": "#15AFAC",
                "thickness_factor": 1
              },
              {
                "start": "EDI",
                "end": "LHR",
                "label": "",
                "properties": {},
                "directed": false,
                "color": "#15AFAC",
                "thickness_factor": 1
              },
              {
                "start": "CDG",
                "end": "BCN",
                "label": "",
                "properties": {},
                "directed": false,
                "color": "#15AFAC",
                "thickness_factor": 1
              },
              {
                "start": "BCN",
                "end": "FCO",
                "label": "",
                "properties": {},
                "directed": false,
                "color": "#15AFAC",
                "thickness_factor": 1
              },
              {
                "start": "VIE",
                "end": "IST",
                "label": "",
                "properties": {},
                "directed": false,
                "color": "#15AFAC",
                "thickness_factor": 1
              },
              {
                "start": "VIE",
                "end": "SVO",
                "label": "",
                "properties": {},
                "directed": false,
                "color": "#15AFAC",
                "thickness_factor": 1
              },
              {
                "start": "CMN",
                "end": "LIS",
                "label": "",
                "properties": {},
                "directed": false,
                "color": "#15AFAC",
                "thickness_factor": 1
              },
              {
                "start": "MAD",
                "end": "CMN",
                "label": "",
                "properties": {},
                "directed": false,
                "color": "#15AFAC",
                "thickness_factor": 1
              },
              {
                "start": "FRA",
                "end": "CPH",
                "label": "",
                "properties": {},
                "directed": false,
                "color": "#15AFAC",
                "thickness_factor": 1
              },
              {
                "start": "LHR",
                "end": "CPH",
                "label": "",
                "properties": {},
                "directed": false,
                "color": "#15AFAC",
                "thickness_factor": 1
              },
              {
                "start": "CPH",
                "end": "OSL",
                "label": "",
                "properties": {},
                "directed": false,
                "color": "#15AFAC",
                "thickness_factor": 1
              },
              {
                "start": "CPH",
                "end": "ARN",
                "label": "",
                "properties": {},
                "directed": false,
                "color": "#15AFAC",
                "thickness_factor": 1
              },
              {
                "start": "ARN",
                "end": "HEL",
                "label": "",
                "properties": {},
                "directed": false,
                "color": "#15AFAC",
                "thickness_factor": 1
              },
              {
                "start": "HEL",
                "end": "SVO",
                "label": "",
                "properties": {},
                "directed": false,
                "color": "#15AFAC",
                "thickness_factor": 1
              },
              {
                "start": "ULN",
                "end": "PVG",
                "label": "",
                "properties": {},
                "directed": false,
                "color": "#15AFAC",
                "thickness_factor": 1
              },
              {
                "start": "CTU",
                "end": "PVG",
                "label": "",
                "properties": {},
                "directed": false,
                "color": "#15AFAC",
                "thickness_factor": 1
              },
              {
                "start": "PVG",
                "end": "TPE",
                "label": "",
                "properties": {},
                "directed": false,
                "color": "#15AFAC",
                "thickness_factor": 1
              },
              {
                "start": "CTU",
                "end": "HKG",
                "label": "",
                "properties": {},
                "directed": false,
                "color": "#15AFAC",
                "thickness_factor": 1
              },
              {
                "start": "TPE",
                "end": "HKG",
                "label": "",
                "properties": {},
                "directed": false,
                "color": "#15AFAC",
                "thickness_factor": 1
              },
              {
                "start": "HKG",
                "end": "MNL",
                "label": "",
                "properties": {},
                "directed": false,
                "color": "#15AFAC",
                "thickness_factor": 1
              },
              {
                "start": "BKK",
                "end": "HKG",
                "label": "",
                "properties": {},
                "directed": false,
                "color": "#15AFAC",
                "thickness_factor": 1
              },
              {
                "start": "SIN",
                "end": "KUL",
                "label": "",
                "properties": {},
                "directed": false,
                "color": "#15AFAC",
                "thickness_factor": 1
              },
              {
                "start": "SIN",
                "end": "BKK",
                "label": "",
                "properties": {},
                "directed": false,
                "color": "#15AFAC",
                "thickness_factor": 1
              },
              {
                "start": "CGK",
                "end": "SIN",
                "label": "",
                "properties": {},
                "directed": false,
                "color": "#15AFAC",
                "thickness_factor": 1
              },
              {
                "start": "MNL",
                "end": "SIN",
                "label": "",
                "properties": {},
                "directed": false,
                "color": "#15AFAC",
                "thickness_factor": 1
              },
              {
                "start": "SIN",
                "end": "SYD",
                "label": "",
                "properties": {},
                "directed": false,
                "color": "#15AFAC",
                "thickness_factor": 1
              },
              {
                "start": "BNE",
                "end": "SYD",
                "label": "",
                "properties": {},
                "directed": false,
                "color": "#15AFAC",
                "thickness_factor": 1
              },
              {
                "start": "SYD",
                "end": "MEL",
                "label": "",
                "properties": {},
                "directed": false,
                "color": "#15AFAC",
                "thickness_factor": 1
              },
              {
                "start": "NAN",
                "end": "SYD",
                "label": "",
                "properties": {},
                "directed": false,
                "color": "#15AFAC",
                "thickness_factor": 1
              },
              {
                "start": "AKL",
                "end": "SYD",
                "label": "",
                "properties": {},
                "directed": false,
                "color": "#15AFAC",
                "thickness_factor": 1
              },
              {
                "start": "NAN",
                "end": "AKL",
                "label": "",
                "properties": {},
                "directed": false,
                "color": "#15AFAC",
                "thickness_factor": 1
              },
              {
                "start": "RKV",
                "end": "LHR",
                "label": "",
                "properties": {},
                "directed": false,
                "color": "#15AFAC",
                "thickness_factor": 1
              },
              {
                "start": "BCN",
                "end": "CDG",
                "label": "",
                "properties": {},
                "directed": false,
                "color": "#15AFAC",
                "thickness_factor": 1
              },
              {
                "start": "BCN",
                "end": "FRA",
                "label": "",
                "properties": {},
                "directed": false,
                "color": "#15AFAC",
                "thickness_factor": 1
              },
              {
                "start": "FCO",
                "end": "FRA",
                "label": "",
                "properties": {},
                "directed": false,
                "color": "#15AFAC",
                "thickness_factor": 1
              },
              {
                "start": "BOG",
                "end": "MEX",
                "label": "",
                "properties": {},
                "directed": false,
                "color": "#15AFAC",
                "thickness_factor": 1
              },
              {
                "start": "BOG",
                "end": "GRU",
                "label": "",
                "properties": {},
                "directed": false,
                "color": "#15AFAC",
                "thickness_factor": 1
              },
              {
                "start": "ATL",
                "end": "MIA",
                "label": "",
                "properties": {},
                "directed": false,
                "color": "#15AFAC",
                "thickness_factor": 1
              },
              {
                "start": "FRA",
                "end": "IST",
                "label": "",
                "properties": {},
                "directed": false,
                "color": "#15AFAC",
                "thickness_factor": 1
              },
              {
                "start": "IST",
                "end": "DEL",
                "label": "",
                "properties": {},
                "directed": false,
                "color": "#15AFAC",
                "thickness_factor": 1
              },
              {
                "start": "PVG",
                "end": "BKK",
                "label": "",
                "properties": {},
                "directed": false,
                "color": "#15AFAC",
                "thickness_factor": 1
              },
              {
                "start": "DEL",
                "end": "BKK",
                "label": "",
                "properties": {},
                "directed": false,
                "color": "#15AFAC",
                "thickness_factor": 1
              }
            ],
            "_graph_layout": {
              "algorithm": "map",
              "options": {}
            },
            "_highlight": [],
            "_license": {},
            "_model_module": "yfiles-jupyter-graphs",
            "_model_module_version": "^1.8.1",
            "_model_name": "GraphModel",
            "_neighborhood": {},
            "_nodes": [
              {
                "id": "LAX",
                "properties": {
                  "label": "Los Angeles",
                  "passengers": 65000000
                },
                "coordinates": [
                  33.942536,
                  -118.408075
                ],
                "color": "#15AFAC",
                "styles": {},
                "label": "Los Angeles",
                "scale_factor": 1,
                "type": "#15AFAC",
                "size": [
                  55,
                  55
                ],
                "position": [
                  0,
                  0
                ]
              },
              {
                "id": "GIG",
                "properties": {
                  "label": "Rio de Janeiro",
                  "passengers": 5000000
                },
                "coordinates": [
                  -22.808903,
                  -43.243647
                ],
                "color": "#15AFAC",
                "styles": {},
                "label": "Rio de Janeiro",
                "scale_factor": 1,
                "type": "#15AFAC",
                "size": [
                  55,
                  55
                ],
                "position": [
                  0,
                  0
                ]
              },
              {
                "id": "LIM",
                "properties": {
                  "label": "Lima",
                  "passengers": 18000000
                },
                "coordinates": [
                  -12.021889,
                  -77.114319
                ],
                "color": "#15AFAC",
                "styles": {},
                "label": "Lima",
                "scale_factor": 1,
                "type": "#15AFAC",
                "size": [
                  55,
                  55
                ],
                "position": [
                  0,
                  0
                ]
              },
              {
                "id": "LHR",
                "properties": {
                  "label": "London",
                  "passengers": 61000000
                },
                "coordinates": [
                  51.4775,
                  -0.461389
                ],
                "color": "#15AFAC",
                "styles": {},
                "label": "London",
                "scale_factor": 1,
                "type": "#15AFAC",
                "size": [
                  55,
                  55
                ],
                "position": [
                  0,
                  0
                ]
              },
              {
                "id": "FRA",
                "properties": {
                  "label": "Frankfurt",
                  "passengers": 48000000
                },
                "coordinates": [
                  50.033333,
                  8.570556
                ],
                "color": "#15AFAC",
                "styles": {},
                "label": "Frankfurt",
                "scale_factor": 1,
                "type": "#15AFAC",
                "size": [
                  55,
                  55
                ],
                "position": [
                  0,
                  0
                ]
              },
              {
                "id": "SVO",
                "properties": {
                  "label": "Moscow",
                  "passengers": 49000000
                },
                "coordinates": [
                  55.972642,
                  37.414589
                ],
                "color": "#15AFAC",
                "styles": {},
                "label": "Moscow",
                "scale_factor": 1,
                "type": "#15AFAC",
                "size": [
                  55,
                  55
                ],
                "position": [
                  0,
                  0
                ]
              },
              {
                "id": "DEL",
                "properties": {
                  "label": "New Delhi",
                  "passengers": 39000000
                },
                "coordinates": [
                  28.5665,
                  77.103089
                ],
                "color": "#15AFAC",
                "styles": {},
                "label": "New Delhi",
                "scale_factor": 1,
                "type": "#15AFAC",
                "size": [
                  55,
                  55
                ],
                "position": [
                  0,
                  0
                ]
              },
              {
                "id": "PVG",
                "properties": {
                  "label": "Shanghai",
                  "passengers": 32000000
                },
                "coordinates": [
                  31.143378,
                  121.805214
                ],
                "color": "#15AFAC",
                "styles": {},
                "label": "Shanghai",
                "scale_factor": 1,
                "type": "#15AFAC",
                "size": [
                  55,
                  55
                ],
                "position": [
                  0,
                  0
                ]
              },
              {
                "id": "HKG",
                "properties": {
                  "label": "Hongkong",
                  "passengers": 1000000
                },
                "coordinates": [
                  22.308919,
                  113.914603
                ],
                "color": "#15AFAC",
                "styles": {},
                "label": "Hongkong",
                "scale_factor": 1,
                "type": "#15AFAC",
                "size": [
                  55,
                  55
                ],
                "position": [
                  0,
                  0
                ]
              },
              {
                "id": "NRT",
                "properties": {
                  "label": "Tokio",
                  "passengers": 15000000
                },
                "coordinates": [
                  35.764722,
                  140.386389
                ],
                "color": "#15AFAC",
                "styles": {},
                "label": "Tokio",
                "scale_factor": 1,
                "type": "#15AFAC",
                "size": [
                  55,
                  55
                ],
                "position": [
                  0,
                  0
                ]
              },
              {
                "id": "DXB",
                "properties": {
                  "label": "Dubai",
                  "passengers": 29000000
                },
                "coordinates": [
                  25.252778,
                  55.364444
                ],
                "color": "#15AFAC",
                "styles": {},
                "label": "Dubai",
                "scale_factor": 1,
                "type": "#15AFAC",
                "size": [
                  55,
                  55
                ],
                "position": [
                  0,
                  0
                ]
              },
              {
                "id": "DKR",
                "properties": {
                  "label": "Dakar",
                  "passengers": 2000000
                },
                "coordinates": [
                  14.670833,
                  -17.072778
                ],
                "color": "#15AFAC",
                "styles": {},
                "label": "Dakar",
                "scale_factor": 1,
                "type": "#15AFAC",
                "size": [
                  55,
                  55
                ],
                "position": [
                  0,
                  0
                ]
              },
              {
                "id": "JNB",
                "properties": {
                  "label": "Johannesburg",
                  "passengers": 9000000
                },
                "coordinates": [
                  -26.133694,
                  28.242317
                ],
                "color": "#15AFAC",
                "styles": {},
                "label": "Johannesburg",
                "scale_factor": 1,
                "type": "#15AFAC",
                "size": [
                  55,
                  55
                ],
                "position": [
                  0,
                  0
                ]
              },
              {
                "id": "SYD",
                "properties": {
                  "label": "Sydney",
                  "passengers": 44000000
                },
                "coordinates": [
                  -33.946111,
                  151.177222
                ],
                "color": "#15AFAC",
                "styles": {},
                "label": "Sydney",
                "scale_factor": 1,
                "type": "#15AFAC",
                "size": [
                  55,
                  55
                ],
                "position": [
                  0,
                  0
                ]
              },
              {
                "id": "NBO",
                "properties": {
                  "label": "Nairobi",
                  "passengers": 900000
                },
                "coordinates": [
                  -1.319167,
                  36.927778
                ],
                "color": "#15AFAC",
                "styles": {},
                "label": "Nairobi",
                "scale_factor": 1,
                "type": "#15AFAC",
                "size": [
                  55,
                  55
                ],
                "position": [
                  0,
                  0
                ]
              },
              {
                "id": "ATL",
                "properties": {
                  "label": "Atlanta",
                  "passengers": 93000000
                },
                "coordinates": [
                  33.639167,
                  -84.427778
                ],
                "color": "#15AFAC",
                "styles": {},
                "label": "Atlanta",
                "scale_factor": 1,
                "type": "#15AFAC",
                "size": [
                  55,
                  55
                ],
                "position": [
                  0,
                  0
                ]
              },
              {
                "id": "JFK",
                "properties": {
                  "label": "New York City",
                  "passengers": 55000000
                },
                "coordinates": [
                  40.63975,
                  -73.778925
                ],
                "color": "#15AFAC",
                "styles": {},
                "label": "New York City",
                "scale_factor": 1,
                "type": "#15AFAC",
                "size": [
                  55,
                  55
                ],
                "position": [
                  0,
                  0
                ]
              },
              {
                "id": "CAI",
                "properties": {
                  "label": "Cairo",
                  "passengers": 14000000
                },
                "coordinates": [
                  30.121944,
                  31.405556
                ],
                "color": "#15AFAC",
                "styles": {},
                "label": "Cairo",
                "scale_factor": 1,
                "type": "#15AFAC",
                "size": [
                  55,
                  55
                ],
                "position": [
                  0,
                  0
                ]
              },
              {
                "id": "CMN",
                "properties": {
                  "label": "Casablanca",
                  "passengers": 7000000
                },
                "coordinates": [
                  33.367467,
                  -7.589967
                ],
                "color": "#15AFAC",
                "styles": {},
                "label": "Casablanca",
                "scale_factor": 1,
                "type": "#15AFAC",
                "size": [
                  55,
                  55
                ],
                "position": [
                  0,
                  0
                ]
              },
              {
                "id": "LOS",
                "properties": {
                  "label": "Lagos",
                  "passengers": 5000000
                },
                "coordinates": [
                  6.577222,
                  3.321111
                ],
                "color": "#15AFAC",
                "styles": {},
                "label": "Lagos",
                "scale_factor": 1,
                "type": "#15AFAC",
                "size": [
                  55,
                  55
                ],
                "position": [
                  0,
                  0
                ]
              },
              {
                "id": "CPT",
                "properties": {
                  "label": "Cape Town",
                  "passengers": 5000000
                },
                "coordinates": [
                  -33.969444,
                  18.597222
                ],
                "color": "#15AFAC",
                "styles": {},
                "label": "Cape Town",
                "scale_factor": 1,
                "type": "#15AFAC",
                "size": [
                  55,
                  55
                ],
                "position": [
                  0,
                  0
                ]
              },
              {
                "id": "CTU",
                "properties": {
                  "label": "Chengdu",
                  "passengers": 40000000
                },
                "coordinates": [
                  30.578333,
                  103.946944
                ],
                "color": "#15AFAC",
                "styles": {},
                "label": "Chengdu",
                "scale_factor": 1,
                "type": "#15AFAC",
                "size": [
                  55,
                  55
                ],
                "position": [
                  0,
                  0
                ]
              },
              {
                "id": "CGK",
                "properties": {
                  "label": "Jakarta",
                  "passengers": 54000000
                },
                "coordinates": [
                  -6.125567,
                  106.655897
                ],
                "color": "#15AFAC",
                "styles": {},
                "label": "Jakarta",
                "scale_factor": 1,
                "type": "#15AFAC",
                "size": [
                  55,
                  55
                ],
                "position": [
                  0,
                  0
                ]
              },
              {
                "id": "IKA",
                "properties": {
                  "label": "Teheran",
                  "passengers": 8000000
                },
                "coordinates": [
                  35.416111,
                  51.152222
                ],
                "color": "#15AFAC",
                "styles": {},
                "label": "Teheran",
                "scale_factor": 1,
                "type": "#15AFAC",
                "size": [
                  55,
                  55
                ],
                "position": [
                  0,
                  0
                ]
              },
              {
                "id": "TLV",
                "properties": {
                  "label": "Tel Aviv",
                  "passengers": 20000000
                },
                "coordinates": [
                  32.011389,
                  34.886667
                ],
                "color": "#15AFAC",
                "styles": {},
                "label": "Tel Aviv",
                "scale_factor": 1,
                "type": "#15AFAC",
                "size": [
                  55,
                  55
                ],
                "position": [
                  0,
                  0
                ]
              },
              {
                "id": "KUL",
                "properties": {
                  "label": "Kuala Lumpur",
                  "passengers": 25000000
                },
                "coordinates": [
                  2.745578,
                  101.709917
                ],
                "color": "#15AFAC",
                "styles": {},
                "label": "Kuala Lumpur",
                "scale_factor": 1,
                "type": "#15AFAC",
                "size": [
                  55,
                  55
                ],
                "position": [
                  0,
                  0
                ]
              },
              {
                "id": "MNL",
                "properties": {
                  "label": "Manila",
                  "passengers": 8000000
                },
                "coordinates": [
                  14.508647,
                  121.019581
                ],
                "color": "#15AFAC",
                "styles": {},
                "label": "Manila",
                "scale_factor": 1,
                "type": "#15AFAC",
                "size": [
                  55,
                  55
                ],
                "position": [
                  0,
                  0
                ]
              },
              {
                "id": "SIN",
                "properties": {
                  "label": "Singapur",
                  "passengers": 32000000
                },
                "coordinates": [
                  1.350189,
                  103.994433
                ],
                "color": "#15AFAC",
                "styles": {},
                "label": "Singapur",
                "scale_factor": 1,
                "type": "#15AFAC",
                "size": [
                  55,
                  55
                ],
                "position": [
                  0,
                  0
                ]
              },
              {
                "id": "TPE",
                "properties": {
                  "label": "Taipeh",
                  "passengers": 800000
                },
                "coordinates": [
                  25.077732,
                  121.232822
                ],
                "color": "#15AFAC",
                "styles": {},
                "label": "Taipeh",
                "scale_factor": 1,
                "type": "#15AFAC",
                "size": [
                  55,
                  55
                ],
                "position": [
                  0,
                  0
                ]
              },
              {
                "id": "BKK",
                "properties": {
                  "label": "Bangkok",
                  "passengers": 65000000
                },
                "coordinates": [
                  13.681108,
                  100.747283
                ],
                "color": "#15AFAC",
                "styles": {},
                "label": "Bangkok",
                "scale_factor": 1,
                "type": "#15AFAC",
                "size": [
                  55,
                  55
                ],
                "position": [
                  0,
                  0
                ]
              },
              {
                "id": "IST",
                "properties": {
                  "label": "Istanbul",
                  "passengers": 64000000
                },
                "coordinates": [
                  40.976922,
                  28.814606
                ],
                "color": "#15AFAC",
                "styles": {},
                "label": "Istanbul",
                "scale_factor": 1,
                "type": "#15AFAC",
                "size": [
                  55,
                  55
                ],
                "position": [
                  0,
                  0
                ]
              },
              {
                "id": "ULN",
                "properties": {
                  "label": "Ulaanbaatar",
                  "passengers": 1000000
                },
                "coordinates": [
                  47.843056,
                  106.766639
                ],
                "color": "#15AFAC",
                "styles": {},
                "label": "Ulaanbaatar",
                "scale_factor": 1,
                "type": "#15AFAC",
                "size": [
                  55,
                  55
                ],
                "position": [
                  0,
                  0
                ]
              },
              {
                "id": "MEL",
                "properties": {
                  "label": "Melbourne",
                  "passengers": 12000000
                },
                "coordinates": [
                  -37.673333,
                  144.843333
                ],
                "color": "#15AFAC",
                "styles": {},
                "label": "Melbourne",
                "scale_factor": 1,
                "type": "#15AFAC",
                "size": [
                  55,
                  55
                ],
                "position": [
                  0,
                  0
                ]
              },
              {
                "id": "BNE",
                "properties": {
                  "label": "Brisbane",
                  "passengers": 23000000
                },
                "coordinates": [
                  -27.383333,
                  153.118056
                ],
                "color": "#15AFAC",
                "styles": {},
                "label": "Brisbane",
                "scale_factor": 1,
                "type": "#15AFAC",
                "size": [
                  55,
                  55
                ],
                "position": [
                  0,
                  0
                ]
              },
              {
                "id": "NAN",
                "properties": {
                  "label": "Nadi",
                  "passengers": 2000000
                },
                "coordinates": [
                  -17.755392,
                  177.443378
                ],
                "color": "#15AFAC",
                "styles": {},
                "label": "Nadi",
                "scale_factor": 1,
                "type": "#15AFAC",
                "size": [
                  55,
                  55
                ],
                "position": [
                  0,
                  0
                ]
              },
              {
                "id": "AKL",
                "properties": {
                  "label": "Auckland",
                  "passengers": 21000000
                },
                "coordinates": [
                  -37.008056,
                  174.791667
                ],
                "color": "#15AFAC",
                "styles": {},
                "label": "Auckland",
                "scale_factor": 1,
                "type": "#15AFAC",
                "size": [
                  55,
                  55
                ],
                "position": [
                  0,
                  0
                ]
              },
              {
                "id": "CDG",
                "properties": {
                  "label": "Paris",
                  "passengers": 57000000
                },
                "coordinates": [
                  49.009722,
                  2.547778
                ],
                "color": "#15AFAC",
                "styles": {},
                "label": "Paris",
                "scale_factor": 1,
                "type": "#15AFAC",
                "size": [
                  55,
                  55
                ],
                "position": [
                  0,
                  0
                ]
              },
              {
                "id": "MAD",
                "properties": {
                  "label": "Madrid",
                  "passengers": 50000000
                },
                "coordinates": [
                  40.4675,
                  -3.551944
                ],
                "color": "#15AFAC",
                "styles": {},
                "label": "Madrid",
                "scale_factor": 1,
                "type": "#15AFAC",
                "size": [
                  55,
                  55
                ],
                "position": [
                  0,
                  0
                ]
              },
              {
                "id": "BCN",
                "properties": {
                  "label": "Barcelona",
                  "passengers": 41000000
                },
                "coordinates": [
                  41.297078,
                  2.078464
                ],
                "color": "#15AFAC",
                "styles": {},
                "label": "Barcelona",
                "scale_factor": 1,
                "type": "#15AFAC",
                "size": [
                  55,
                  55
                ],
                "position": [
                  0,
                  0
                ]
              },
              {
                "id": "FCO",
                "properties": {
                  "label": "Rome",
                  "passengers": 29000000
                },
                "coordinates": [
                  41.804444,
                  12.250833
                ],
                "color": "#15AFAC",
                "styles": {},
                "label": "Rome",
                "scale_factor": 1,
                "type": "#15AFAC",
                "size": [
                  55,
                  55
                ],
                "position": [
                  0,
                  0
                ]
              },
              {
                "id": "CPH",
                "properties": {
                  "label": "Copenhagen",
                  "passengers": 30000000
                },
                "coordinates": [
                  55.617917,
                  12.655972
                ],
                "color": "#15AFAC",
                "styles": {},
                "label": "Copenhagen",
                "scale_factor": 1,
                "type": "#15AFAC",
                "size": [
                  55,
                  55
                ],
                "position": [
                  0,
                  0
                ]
              },
              {
                "id": "HEL",
                "properties": {
                  "label": "Helsinki",
                  "passengers": 5000000
                },
                "coordinates": [
                  60.317222,
                  24.963333
                ],
                "color": "#15AFAC",
                "styles": {},
                "label": "Helsinki",
                "scale_factor": 1,
                "type": "#15AFAC",
                "size": [
                  55,
                  55
                ],
                "position": [
                  0,
                  0
                ]
              },
              {
                "id": "ATH",
                "properties": {
                  "label": "Athens",
                  "passengers": 22000000
                },
                "coordinates": [
                  37.936358,
                  23.944467
                ],
                "color": "#15AFAC",
                "styles": {},
                "label": "Athens",
                "scale_factor": 1,
                "type": "#15AFAC",
                "size": [
                  55,
                  55
                ],
                "position": [
                  0,
                  0
                ]
              },
              {
                "id": "DUB",
                "properties": {
                  "label": "Dublin",
                  "passengers": 32000000
                },
                "coordinates": [
                  53.421333,
                  -6.270075
                ],
                "color": "#15AFAC",
                "styles": {},
                "label": "Dublin",
                "scale_factor": 1,
                "type": "#15AFAC",
                "size": [
                  55,
                  55
                ],
                "position": [
                  0,
                  0
                ]
              },
              {
                "id": "RKV",
                "properties": {
                  "label": "Reykjavik",
                  "passengers": 400000
                },
                "coordinates": [
                  64.13,
                  -21.940556
                ],
                "color": "#15AFAC",
                "styles": {},
                "label": "Reykjavik",
                "scale_factor": 1,
                "type": "#15AFAC",
                "size": [
                  55,
                  55
                ],
                "position": [
                  0,
                  0
                ]
              },
              {
                "id": "OSL",
                "properties": {
                  "label": "Oslo",
                  "passengers": 9000000
                },
                "coordinates": [
                  60.193917,
                  11.100361
                ],
                "color": "#15AFAC",
                "styles": {},
                "label": "Oslo",
                "scale_factor": 1,
                "type": "#15AFAC",
                "size": [
                  55,
                  55
                ],
                "position": [
                  0,
                  0
                ]
              },
              {
                "id": "VIE",
                "properties": {
                  "label": "Vienna",
                  "passengers": 10000000
                },
                "coordinates": [
                  48.110833,
                  16.570833
                ],
                "color": "#15AFAC",
                "styles": {},
                "label": "Vienna",
                "scale_factor": 1,
                "type": "#15AFAC",
                "size": [
                  55,
                  55
                ],
                "position": [
                  0,
                  0
                ]
              },
              {
                "id": "LIS",
                "properties": {
                  "label": "Lisbon",
                  "passengers": 28000000
                },
                "coordinates": [
                  38.774167,
                  -9.134167
                ],
                "color": "#15AFAC",
                "styles": {},
                "label": "Lisbon",
                "scale_factor": 1,
                "type": "#15AFAC",
                "size": [
                  55,
                  55
                ],
                "position": [
                  0,
                  0
                ]
              },
              {
                "id": "ARN",
                "properties": {
                  "label": "Stockholm",
                  "passengers": 7000000
                },
                "coordinates": [
                  59.651944,
                  17.918611
                ],
                "color": "#15AFAC",
                "styles": {},
                "label": "Stockholm",
                "scale_factor": 1,
                "type": "#15AFAC",
                "size": [
                  55,
                  55
                ],
                "position": [
                  0,
                  0
                ]
              },
              {
                "id": "EDI",
                "properties": {
                  "label": "Edinburgh",
                  "passengers": 14000000
                },
                "coordinates": [
                  55.95,
                  -3.3725
                ],
                "color": "#15AFAC",
                "styles": {},
                "label": "Edinburgh",
                "scale_factor": 1,
                "type": "#15AFAC",
                "size": [
                  55,
                  55
                ],
                "position": [
                  0,
                  0
                ]
              },
              {
                "id": "ORD",
                "properties": {
                  "label": "Chicago",
                  "passengers": 54000000
                },
                "coordinates": [
                  41.978603,
                  -87.904842
                ],
                "color": "#15AFAC",
                "styles": {},
                "label": "Chicago",
                "scale_factor": 1,
                "type": "#15AFAC",
                "size": [
                  55,
                  55
                ],
                "position": [
                  0,
                  0
                ]
              },
              {
                "id": "DFW",
                "properties": {
                  "label": "Dallas",
                  "passengers": 73000000
                },
                "coordinates": [
                  32.896828,
                  -97.037997
                ],
                "color": "#15AFAC",
                "styles": {},
                "label": "Dallas",
                "scale_factor": 1,
                "type": "#15AFAC",
                "size": [
                  55,
                  55
                ],
                "position": [
                  0,
                  0
                ]
              },
              {
                "id": "SFO",
                "properties": {
                  "label": "San Francisco",
                  "passengers": 42000000
                },
                "coordinates": [
                  37.618972,
                  -122.374889
                ],
                "color": "#15AFAC",
                "styles": {},
                "label": "San Francisco",
                "scale_factor": 1,
                "type": "#15AFAC",
                "size": [
                  55,
                  55
                ],
                "position": [
                  0,
                  0
                ]
              },
              {
                "id": "LAS",
                "properties": {
                  "label": "Las Vegas",
                  "passengers": 52000000
                },
                "coordinates": [
                  36.080056,
                  -115.15225
                ],
                "color": "#15AFAC",
                "styles": {},
                "label": "Las Vegas",
                "scale_factor": 1,
                "type": "#15AFAC",
                "size": [
                  55,
                  55
                ],
                "position": [
                  0,
                  0
                ]
              },
              {
                "id": "MIA",
                "properties": {
                  "label": "Miami",
                  "passengers": 50000000
                },
                "coordinates": [
                  25.79325,
                  -80.290556
                ],
                "color": "#15AFAC",
                "styles": {},
                "label": "Miami",
                "scale_factor": 1,
                "type": "#15AFAC",
                "size": [
                  55,
                  55
                ],
                "position": [
                  0,
                  0
                ]
              },
              {
                "id": "YYZ",
                "properties": {
                  "label": "Toronto",
                  "passengers": 12000000
                },
                "coordinates": [
                  43.677222,
                  -79.630556
                ],
                "color": "#15AFAC",
                "styles": {},
                "label": "Toronto",
                "scale_factor": 1,
                "type": "#15AFAC",
                "size": [
                  55,
                  55
                ],
                "position": [
                  0,
                  0
                ]
              },
              {
                "id": "YVR",
                "properties": {
                  "label": "Vancouver",
                  "passengers": 19000000
                },
                "coordinates": [
                  49.193889,
                  -123.184444
                ],
                "color": "#15AFAC",
                "styles": {},
                "label": "Vancouver",
                "scale_factor": 1,
                "type": "#15AFAC",
                "size": [
                  55,
                  55
                ],
                "position": [
                  0,
                  0
                ]
              },
              {
                "id": "YUL",
                "properties": {
                  "label": "Montreal",
                  "passengers": 15000000
                },
                "coordinates": [
                  45.47175,
                  -73.736569
                ],
                "color": "#15AFAC",
                "styles": {},
                "label": "Montreal",
                "scale_factor": 1,
                "type": "#15AFAC",
                "size": [
                  55,
                  55
                ],
                "position": [
                  0,
                  0
                ]
              },
              {
                "id": "MEX",
                "properties": {
                  "label": "Mexico-City",
                  "passengers": 46000000
                },
                "coordinates": [
                  19.436303,
                  -99.072097
                ],
                "color": "#15AFAC",
                "styles": {},
                "label": "Mexico-City",
                "scale_factor": 1,
                "type": "#15AFAC",
                "size": [
                  55,
                  55
                ],
                "position": [
                  0,
                  0
                ]
              },
              {
                "id": "GUA",
                "properties": {
                  "label": "Guatemala-City",
                  "passengers": 2000000
                },
                "coordinates": [
                  14.583272,
                  -90.527475
                ],
                "color": "#15AFAC",
                "styles": {},
                "label": "Guatemala-City",
                "scale_factor": 1,
                "type": "#15AFAC",
                "size": [
                  55,
                  55
                ],
                "position": [
                  0,
                  0
                ]
              },
              {
                "id": "EZE",
                "properties": {
                  "label": "Buenos Aires",
                  "passengers": 5000000
                },
                "coordinates": [
                  -34.822222,
                  -58.535833
                ],
                "color": "#15AFAC",
                "styles": {},
                "label": "Buenos Aires",
                "scale_factor": 1,
                "type": "#15AFAC",
                "size": [
                  55,
                  55
                ],
                "position": [
                  0,
                  0
                ]
              },
              {
                "id": "GRU",
                "properties": {
                  "label": "Sao Paulo",
                  "passengers": 34000000
                },
                "coordinates": [
                  -23.432075,
                  -46.469511
                ],
                "color": "#15AFAC",
                "styles": {},
                "label": "Sao Paulo",
                "scale_factor": 1,
                "type": "#15AFAC",
                "size": [
                  55,
                  55
                ],
                "position": [
                  0,
                  0
                ]
              },
              {
                "id": "SCL",
                "properties": {
                  "label": "Santiago de Chile",
                  "passengers": 20000000
                },
                "coordinates": [
                  -33.392975,
                  -70.785803
                ],
                "color": "#15AFAC",
                "styles": {},
                "label": "Santiago de Chile",
                "scale_factor": 1,
                "type": "#15AFAC",
                "size": [
                  55,
                  55
                ],
                "position": [
                  0,
                  0
                ]
              },
              {
                "id": "BSB",
                "properties": {
                  "label": "Brasilia",
                  "passengers": 13000000
                },
                "coordinates": [
                  -15.871111,
                  -47.918611
                ],
                "color": "#15AFAC",
                "styles": {},
                "label": "Brasilia",
                "scale_factor": 1,
                "type": "#15AFAC",
                "size": [
                  55,
                  55
                ],
                "position": [
                  0,
                  0
                ]
              },
              {
                "id": "BOG",
                "properties": {
                  "label": "Bogota",
                  "passengers": 36000000
                },
                "coordinates": [
                  4.701594,
                  -74.146947
                ],
                "color": "#15AFAC",
                "styles": {},
                "label": "Bogota",
                "scale_factor": 1,
                "type": "#15AFAC",
                "size": [
                  55,
                  55
                ],
                "position": [
                  0,
                  0
                ]
              },
              {
                "id": "CCS",
                "properties": {
                  "label": "Caracas",
                  "passengers": 8000000
                },
                "coordinates": [
                  10.601194,
                  -66.991222
                ],
                "color": "#15AFAC",
                "styles": {},
                "label": "Caracas",
                "scale_factor": 1,
                "type": "#15AFAC",
                "size": [
                  55,
                  55
                ],
                "position": [
                  0,
                  0
                ]
              }
            ],
            "_overview": {
              "enabled": null,
              "overview_set": false
            },
            "_selected_graph": [
              [],
              []
            ],
            "_sidebar": {
              "enabled": false,
              "start_with": null
            },
            "_view_count": null,
            "_view_module": "yfiles-jupyter-graphs",
            "_view_module_version": "^1.8.1",
            "_view_name": "GraphView",
            "layout": "IPY_MODEL_6264ee641bc8411c90a739c64b5c37ba",
            "tabbable": null,
            "tooltip": null
          }
        },
        "6264ee641bc8411c90a739c64b5c37ba": {
          "model_module": "@jupyter-widgets/base",
          "model_name": "LayoutModel",
          "model_module_version": "2.0.0",
          "state": {
            "_model_module": "@jupyter-widgets/base",
            "_model_module_version": "2.0.0",
            "_model_name": "LayoutModel",
            "_view_count": null,
            "_view_module": "@jupyter-widgets/base",
            "_view_module_version": "2.0.0",
            "_view_name": "LayoutView",
            "align_content": null,
            "align_items": null,
            "align_self": null,
            "border_bottom": null,
            "border_left": null,
            "border_right": null,
            "border_top": null,
            "bottom": null,
            "display": null,
            "flex": null,
            "flex_flow": null,
            "grid_area": null,
            "grid_auto_columns": null,
            "grid_auto_flow": null,
            "grid_auto_rows": null,
            "grid_column": null,
            "grid_gap": null,
            "grid_row": null,
            "grid_template_areas": null,
            "grid_template_columns": null,
            "grid_template_rows": null,
            "height": "800px",
            "justify_content": null,
            "justify_items": null,
            "left": null,
            "margin": null,
            "max_height": null,
            "max_width": null,
            "min_height": null,
            "min_width": null,
            "object_fit": null,
            "object_position": null,
            "order": null,
            "overflow": null,
            "padding": null,
            "right": null,
            "top": null,
            "visibility": null,
            "width": "100%"
          }
        },
        "216ef21c3ac04d9285a2a3cfaf56089a": {
          "model_module": "yfiles-jupyter-graphs",
          "model_name": "GraphModel",
          "model_module_version": "^1.8.1",
          "state": {
            "_context_pane_mapping": [
              {
                "id": "Neighborhood",
                "title": "Neighborhood"
              },
              {
                "id": "Data",
                "title": "Data"
              },
              {
                "id": "Search",
                "title": "Search"
              },
              {
                "id": "About",
                "title": "About"
              }
            ],
            "_data_importer": "unknown",
            "_directed": false,
            "_dom_classes": [],
            "_edges": [
              {
                "start": "LAX",
                "end": "JFK",
                "label": "",
                "properties": {},
                "directed": false,
                "color": "#15AFAC",
                "thickness_factor": 1,
                "heat": 0
              },
              {
                "start": "JFK",
                "end": "GIG",
                "label": "",
                "properties": {},
                "directed": false,
                "color": "#15AFAC",
                "thickness_factor": 1,
                "heat": 0
              },
              {
                "start": "JFK",
                "end": "LIM",
                "label": "",
                "properties": {},
                "directed": false,
                "color": "#15AFAC",
                "thickness_factor": 1,
                "heat": 0
              },
              {
                "start": "JFK",
                "end": "LHR",
                "label": "",
                "properties": {},
                "directed": false,
                "color": "#15AFAC",
                "thickness_factor": 1,
                "heat": 0
              },
              {
                "start": "GIG",
                "end": "FRA",
                "label": "",
                "properties": {},
                "directed": false,
                "color": "#15AFAC",
                "thickness_factor": 1,
                "heat": 0
              },
              {
                "start": "LIM",
                "end": "GIG",
                "label": "",
                "properties": {},
                "directed": false,
                "color": "#15AFAC",
                "thickness_factor": 1,
                "heat": 0
              },
              {
                "start": "FRA",
                "end": "JFK",
                "label": "",
                "properties": {},
                "directed": false,
                "color": "#15AFAC",
                "thickness_factor": 1,
                "heat": 0
              },
              {
                "start": "LHR",
                "end": "FRA",
                "label": "",
                "properties": {},
                "directed": false,
                "color": "#15AFAC",
                "thickness_factor": 1,
                "heat": 0
              },
              {
                "start": "FRA",
                "end": "SVO",
                "label": "",
                "properties": {},
                "directed": false,
                "color": "#15AFAC",
                "thickness_factor": 1,
                "heat": 0
              },
              {
                "start": "FRA",
                "end": "DXB",
                "label": "",
                "properties": {},
                "directed": false,
                "color": "#15AFAC",
                "thickness_factor": 1,
                "heat": 0
              },
              {
                "start": "SVO",
                "end": "DEL",
                "label": "",
                "properties": {},
                "directed": false,
                "color": "#15AFAC",
                "thickness_factor": 1,
                "heat": 0
              },
              {
                "start": "SVO",
                "end": "PVG",
                "label": "",
                "properties": {},
                "directed": false,
                "color": "#15AFAC",
                "thickness_factor": 1,
                "heat": 0
              },
              {
                "start": "DEL",
                "end": "HKG",
                "label": "",
                "properties": {},
                "directed": false,
                "color": "#15AFAC",
                "thickness_factor": 1,
                "heat": 0
              },
              {
                "start": "PVG",
                "end": "HKG",
                "label": "",
                "properties": {},
                "directed": false,
                "color": "#15AFAC",
                "thickness_factor": 1,
                "heat": 0
              },
              {
                "start": "PVG",
                "end": "NRT",
                "label": "",
                "properties": {},
                "directed": false,
                "color": "#15AFAC",
                "thickness_factor": 1,
                "heat": 0
              },
              {
                "start": "HKG",
                "end": "SYD",
                "label": "",
                "properties": {},
                "directed": false,
                "color": "#15AFAC",
                "thickness_factor": 1,
                "heat": 0
              },
              {
                "start": "NRT",
                "end": "SYD",
                "label": "",
                "properties": {},
                "directed": false,
                "color": "#15AFAC",
                "thickness_factor": 1,
                "heat": 0
              },
              {
                "start": "DXB",
                "end": "SVO",
                "label": "",
                "properties": {},
                "directed": false,
                "color": "#15AFAC",
                "thickness_factor": 1,
                "heat": 0
              },
              {
                "start": "DXB",
                "end": "DEL",
                "label": "",
                "properties": {},
                "directed": false,
                "color": "#15AFAC",
                "thickness_factor": 1,
                "heat": 0
              },
              {
                "start": "DXB",
                "end": "DKR",
                "label": "",
                "properties": {},
                "directed": false,
                "color": "#15AFAC",
                "thickness_factor": 1,
                "heat": 0
              },
              {
                "start": "DXB",
                "end": "JNB",
                "label": "",
                "properties": {},
                "directed": false,
                "color": "#15AFAC",
                "thickness_factor": 1,
                "heat": 0
              },
              {
                "start": "JNB",
                "end": "LHR",
                "label": "",
                "properties": {},
                "directed": false,
                "color": "#15AFAC",
                "thickness_factor": 1,
                "heat": 0
              },
              {
                "start": "JNB",
                "end": "DKR",
                "label": "",
                "properties": {},
                "directed": false,
                "color": "#15AFAC",
                "thickness_factor": 1,
                "heat": 0
              },
              {
                "start": "SYD",
                "end": "DXB",
                "label": "",
                "properties": {},
                "directed": false,
                "color": "#15AFAC",
                "thickness_factor": 1,
                "heat": 0
              },
              {
                "start": "NBO",
                "end": "JNB",
                "label": "",
                "properties": {},
                "directed": false,
                "color": "#15AFAC",
                "thickness_factor": 1,
                "heat": 0
              },
              {
                "start": "NBO",
                "end": "DXB",
                "label": "",
                "properties": {},
                "directed": false,
                "color": "#15AFAC",
                "thickness_factor": 1,
                "heat": 0
              },
              {
                "start": "ATL",
                "end": "JFK",
                "label": "",
                "properties": {},
                "directed": false,
                "color": "#15AFAC",
                "thickness_factor": 1,
                "heat": 0
              },
              {
                "start": "LAX",
                "end": "ATL",
                "label": "",
                "properties": {},
                "directed": false,
                "color": "#15AFAC",
                "thickness_factor": 1,
                "heat": 0
              },
              {
                "start": "ATL",
                "end": "LHR",
                "label": "",
                "properties": {},
                "directed": false,
                "color": "#15AFAC",
                "thickness_factor": 1,
                "heat": 0
              },
              {
                "start": "ATL",
                "end": "LIM",
                "label": "",
                "properties": {},
                "directed": false,
                "color": "#15AFAC",
                "thickness_factor": 1,
                "heat": 0
              },
              {
                "start": "SCL",
                "end": "LIM",
                "label": "",
                "properties": {},
                "directed": false,
                "color": "#15AFAC",
                "thickness_factor": 1,
                "heat": 0
              },
              {
                "start": "EZE",
                "end": "SCL",
                "label": "",
                "properties": {},
                "directed": false,
                "color": "#15AFAC",
                "thickness_factor": 1,
                "heat": 0
              },
              {
                "start": "SCL",
                "end": "GRU",
                "label": "",
                "properties": {},
                "directed": false,
                "color": "#15AFAC",
                "thickness_factor": 1,
                "heat": 0
              },
              {
                "start": "GIG",
                "end": "EZE",
                "label": "",
                "properties": {},
                "directed": false,
                "color": "#15AFAC",
                "thickness_factor": 1,
                "heat": 0
              },
              {
                "start": "GIG",
                "end": "GRU",
                "label": "",
                "properties": {},
                "directed": false,
                "color": "#15AFAC",
                "thickness_factor": 1,
                "heat": 0
              },
              {
                "start": "BSB",
                "end": "GIG",
                "label": "",
                "properties": {},
                "directed": false,
                "color": "#15AFAC",
                "thickness_factor": 1,
                "heat": 0
              },
              {
                "start": "SCL",
                "end": "BSB",
                "label": "",
                "properties": {},
                "directed": false,
                "color": "#15AFAC",
                "thickness_factor": 1,
                "heat": 0
              },
              {
                "start": "LIM",
                "end": "BSB",
                "label": "",
                "properties": {},
                "directed": false,
                "color": "#15AFAC",
                "thickness_factor": 1,
                "heat": 0
              },
              {
                "start": "BOG",
                "end": "BSB",
                "label": "",
                "properties": {},
                "directed": false,
                "color": "#15AFAC",
                "thickness_factor": 1,
                "heat": 0
              },
              {
                "start": "CCS",
                "end": "BSB",
                "label": "",
                "properties": {},
                "directed": false,
                "color": "#15AFAC",
                "thickness_factor": 1,
                "heat": 0
              },
              {
                "start": "BOG",
                "end": "GUA",
                "label": "",
                "properties": {},
                "directed": false,
                "color": "#15AFAC",
                "thickness_factor": 1,
                "heat": 0
              },
              {
                "start": "CCS",
                "end": "MIA",
                "label": "",
                "properties": {},
                "directed": false,
                "color": "#15AFAC",
                "thickness_factor": 1,
                "heat": 0
              },
              {
                "start": "GUA",
                "end": "MIA",
                "label": "",
                "properties": {},
                "directed": false,
                "color": "#15AFAC",
                "thickness_factor": 1,
                "heat": 0
              },
              {
                "start": "GUA",
                "end": "MEX",
                "label": "",
                "properties": {},
                "directed": false,
                "color": "#15AFAC",
                "thickness_factor": 1,
                "heat": 0
              },
              {
                "start": "MEX",
                "end": "LAX",
                "label": "",
                "properties": {},
                "directed": false,
                "color": "#15AFAC",
                "thickness_factor": 1,
                "heat": 0
              },
              {
                "start": "MEX",
                "end": "LAX",
                "label": "",
                "properties": {},
                "directed": false,
                "color": "#15AFAC",
                "thickness_factor": 1,
                "heat": 0
              },
              {
                "start": "LAX",
                "end": "SFO",
                "label": "",
                "properties": {},
                "directed": false,
                "color": "#15AFAC",
                "thickness_factor": 1,
                "heat": 0
              },
              {
                "start": "SFO",
                "end": "YVR",
                "label": "",
                "properties": {},
                "directed": false,
                "color": "#15AFAC",
                "thickness_factor": 1,
                "heat": 0
              },
              {
                "start": "LAX",
                "end": "LAS",
                "label": "",
                "properties": {},
                "directed": false,
                "color": "#15AFAC",
                "thickness_factor": 1,
                "heat": 0
              },
              {
                "start": "LAX",
                "end": "DFW",
                "label": "",
                "properties": {},
                "directed": false,
                "color": "#15AFAC",
                "thickness_factor": 1,
                "heat": 0
              },
              {
                "start": "LAX",
                "end": "ORD",
                "label": "",
                "properties": {},
                "directed": false,
                "color": "#15AFAC",
                "thickness_factor": 1,
                "heat": 0
              },
              {
                "start": "SFO",
                "end": "LAS",
                "label": "",
                "properties": {},
                "directed": false,
                "color": "#15AFAC",
                "thickness_factor": 1,
                "heat": 0
              },
              {
                "start": "DFW",
                "end": "ATL",
                "label": "",
                "properties": {},
                "directed": false,
                "color": "#15AFAC",
                "thickness_factor": 1,
                "heat": 0
              },
              {
                "start": "ATL",
                "end": "YYZ",
                "label": "",
                "properties": {},
                "directed": false,
                "color": "#15AFAC",
                "thickness_factor": 1,
                "heat": 0
              },
              {
                "start": "ORD",
                "end": "YYZ",
                "label": "",
                "properties": {},
                "directed": false,
                "color": "#15AFAC",
                "thickness_factor": 1,
                "heat": 0
              },
              {
                "start": "YYZ",
                "end": "YUL",
                "label": "",
                "properties": {},
                "directed": false,
                "color": "#15AFAC",
                "thickness_factor": 1,
                "heat": 0
              },
              {
                "start": "YYZ",
                "end": "JFK",
                "label": "",
                "properties": {},
                "directed": false,
                "color": "#15AFAC",
                "thickness_factor": 1,
                "heat": 0
              },
              {
                "start": "YUL",
                "end": "JFK",
                "label": "",
                "properties": {},
                "directed": false,
                "color": "#15AFAC",
                "thickness_factor": 1,
                "heat": 0
              },
              {
                "start": "JNB",
                "end": "CPT",
                "label": "",
                "properties": {},
                "directed": false,
                "color": "#15AFAC",
                "thickness_factor": 1,
                "heat": 0
              },
              {
                "start": "LOS",
                "end": "DKR",
                "label": "",
                "properties": {},
                "directed": false,
                "color": "#15AFAC",
                "thickness_factor": 1,
                "heat": 0
              },
              {
                "start": "NBO",
                "end": "LOS",
                "label": "",
                "properties": {},
                "directed": false,
                "color": "#15AFAC",
                "thickness_factor": 1,
                "heat": 0
              },
              {
                "start": "DKR",
                "end": "CMN",
                "label": "",
                "properties": {},
                "directed": false,
                "color": "#15AFAC",
                "thickness_factor": 1,
                "heat": 0
              },
              {
                "start": "DKR",
                "end": "CAI",
                "label": "",
                "properties": {},
                "directed": false,
                "color": "#15AFAC",
                "thickness_factor": 1,
                "heat": 0
              },
              {
                "start": "NBO",
                "end": "CAI",
                "label": "",
                "properties": {},
                "directed": false,
                "color": "#15AFAC",
                "thickness_factor": 1,
                "heat": 0
              },
              {
                "start": "DXB",
                "end": "CAI",
                "label": "",
                "properties": {},
                "directed": false,
                "color": "#15AFAC",
                "thickness_factor": 1,
                "heat": 0
              },
              {
                "start": "IKA",
                "end": "DXB",
                "label": "",
                "properties": {},
                "directed": false,
                "color": "#15AFAC",
                "thickness_factor": 1,
                "heat": 0
              },
              {
                "start": "IST",
                "end": "IKA",
                "label": "",
                "properties": {},
                "directed": false,
                "color": "#15AFAC",
                "thickness_factor": 1,
                "heat": 0
              },
              {
                "start": "TLV",
                "end": "ATH",
                "label": "",
                "properties": {},
                "directed": false,
                "color": "#15AFAC",
                "thickness_factor": 1,
                "heat": 0
              },
              {
                "start": "CAI",
                "end": "TLV",
                "label": "",
                "properties": {},
                "directed": false,
                "color": "#15AFAC",
                "thickness_factor": 1,
                "heat": 0
              },
              {
                "start": "ATH",
                "end": "IST",
                "label": "",
                "properties": {},
                "directed": false,
                "color": "#15AFAC",
                "thickness_factor": 1,
                "heat": 0
              },
              {
                "start": "FCO",
                "end": "ATH",
                "label": "",
                "properties": {},
                "directed": false,
                "color": "#15AFAC",
                "thickness_factor": 1,
                "heat": 0
              },
              {
                "start": "LIS",
                "end": "LHR",
                "label": "",
                "properties": {},
                "directed": false,
                "color": "#15AFAC",
                "thickness_factor": 1,
                "heat": 0
              },
              {
                "start": "LIS",
                "end": "MAD",
                "label": "",
                "properties": {},
                "directed": false,
                "color": "#15AFAC",
                "thickness_factor": 1,
                "heat": 0
              },
              {
                "start": "MAD",
                "end": "BCN",
                "label": "",
                "properties": {},
                "directed": false,
                "color": "#15AFAC",
                "thickness_factor": 1,
                "heat": 0
              },
              {
                "start": "CDG",
                "end": "LHR",
                "label": "",
                "properties": {},
                "directed": false,
                "color": "#15AFAC",
                "thickness_factor": 1,
                "heat": 0
              },
              {
                "start": "DUB",
                "end": "LHR",
                "label": "",
                "properties": {},
                "directed": false,
                "color": "#15AFAC",
                "thickness_factor": 1,
                "heat": 0
              },
              {
                "start": "EDI",
                "end": "LHR",
                "label": "",
                "properties": {},
                "directed": false,
                "color": "#15AFAC",
                "thickness_factor": 1,
                "heat": 0
              },
              {
                "start": "CDG",
                "end": "BCN",
                "label": "",
                "properties": {},
                "directed": false,
                "color": "#15AFAC",
                "thickness_factor": 1,
                "heat": 0
              },
              {
                "start": "BCN",
                "end": "FCO",
                "label": "",
                "properties": {},
                "directed": false,
                "color": "#15AFAC",
                "thickness_factor": 1,
                "heat": 0
              },
              {
                "start": "VIE",
                "end": "IST",
                "label": "",
                "properties": {},
                "directed": false,
                "color": "#15AFAC",
                "thickness_factor": 1,
                "heat": 0
              },
              {
                "start": "VIE",
                "end": "SVO",
                "label": "",
                "properties": {},
                "directed": false,
                "color": "#15AFAC",
                "thickness_factor": 1,
                "heat": 0
              },
              {
                "start": "CMN",
                "end": "LIS",
                "label": "",
                "properties": {},
                "directed": false,
                "color": "#15AFAC",
                "thickness_factor": 1,
                "heat": 0
              },
              {
                "start": "MAD",
                "end": "CMN",
                "label": "",
                "properties": {},
                "directed": false,
                "color": "#15AFAC",
                "thickness_factor": 1,
                "heat": 0
              },
              {
                "start": "FRA",
                "end": "CPH",
                "label": "",
                "properties": {},
                "directed": false,
                "color": "#15AFAC",
                "thickness_factor": 1,
                "heat": 0
              },
              {
                "start": "LHR",
                "end": "CPH",
                "label": "",
                "properties": {},
                "directed": false,
                "color": "#15AFAC",
                "thickness_factor": 1,
                "heat": 0
              },
              {
                "start": "CPH",
                "end": "OSL",
                "label": "",
                "properties": {},
                "directed": false,
                "color": "#15AFAC",
                "thickness_factor": 1,
                "heat": 0
              },
              {
                "start": "CPH",
                "end": "ARN",
                "label": "",
                "properties": {},
                "directed": false,
                "color": "#15AFAC",
                "thickness_factor": 1,
                "heat": 0
              },
              {
                "start": "ARN",
                "end": "HEL",
                "label": "",
                "properties": {},
                "directed": false,
                "color": "#15AFAC",
                "thickness_factor": 1,
                "heat": 0
              },
              {
                "start": "HEL",
                "end": "SVO",
                "label": "",
                "properties": {},
                "directed": false,
                "color": "#15AFAC",
                "thickness_factor": 1,
                "heat": 0
              },
              {
                "start": "ULN",
                "end": "PVG",
                "label": "",
                "properties": {},
                "directed": false,
                "color": "#15AFAC",
                "thickness_factor": 1,
                "heat": 0
              },
              {
                "start": "CTU",
                "end": "PVG",
                "label": "",
                "properties": {},
                "directed": false,
                "color": "#15AFAC",
                "thickness_factor": 1,
                "heat": 0
              },
              {
                "start": "PVG",
                "end": "TPE",
                "label": "",
                "properties": {},
                "directed": false,
                "color": "#15AFAC",
                "thickness_factor": 1,
                "heat": 0
              },
              {
                "start": "CTU",
                "end": "HKG",
                "label": "",
                "properties": {},
                "directed": false,
                "color": "#15AFAC",
                "thickness_factor": 1,
                "heat": 0
              },
              {
                "start": "TPE",
                "end": "HKG",
                "label": "",
                "properties": {},
                "directed": false,
                "color": "#15AFAC",
                "thickness_factor": 1,
                "heat": 0
              },
              {
                "start": "HKG",
                "end": "MNL",
                "label": "",
                "properties": {},
                "directed": false,
                "color": "#15AFAC",
                "thickness_factor": 1,
                "heat": 0
              },
              {
                "start": "BKK",
                "end": "HKG",
                "label": "",
                "properties": {},
                "directed": false,
                "color": "#15AFAC",
                "thickness_factor": 1,
                "heat": 0
              },
              {
                "start": "SIN",
                "end": "KUL",
                "label": "",
                "properties": {},
                "directed": false,
                "color": "#15AFAC",
                "thickness_factor": 1,
                "heat": 0
              },
              {
                "start": "SIN",
                "end": "BKK",
                "label": "",
                "properties": {},
                "directed": false,
                "color": "#15AFAC",
                "thickness_factor": 1,
                "heat": 0
              },
              {
                "start": "CGK",
                "end": "SIN",
                "label": "",
                "properties": {},
                "directed": false,
                "color": "#15AFAC",
                "thickness_factor": 1,
                "heat": 0
              },
              {
                "start": "MNL",
                "end": "SIN",
                "label": "",
                "properties": {},
                "directed": false,
                "color": "#15AFAC",
                "thickness_factor": 1,
                "heat": 0
              },
              {
                "start": "SIN",
                "end": "SYD",
                "label": "",
                "properties": {},
                "directed": false,
                "color": "#15AFAC",
                "thickness_factor": 1,
                "heat": 0
              },
              {
                "start": "BNE",
                "end": "SYD",
                "label": "",
                "properties": {},
                "directed": false,
                "color": "#15AFAC",
                "thickness_factor": 1,
                "heat": 0
              },
              {
                "start": "SYD",
                "end": "MEL",
                "label": "",
                "properties": {},
                "directed": false,
                "color": "#15AFAC",
                "thickness_factor": 1,
                "heat": 0
              },
              {
                "start": "NAN",
                "end": "SYD",
                "label": "",
                "properties": {},
                "directed": false,
                "color": "#15AFAC",
                "thickness_factor": 1,
                "heat": 0
              },
              {
                "start": "AKL",
                "end": "SYD",
                "label": "",
                "properties": {},
                "directed": false,
                "color": "#15AFAC",
                "thickness_factor": 1,
                "heat": 0
              },
              {
                "start": "NAN",
                "end": "AKL",
                "label": "",
                "properties": {},
                "directed": false,
                "color": "#15AFAC",
                "thickness_factor": 1,
                "heat": 0
              },
              {
                "start": "RKV",
                "end": "LHR",
                "label": "",
                "properties": {},
                "directed": false,
                "color": "#15AFAC",
                "thickness_factor": 1,
                "heat": 0
              },
              {
                "start": "BCN",
                "end": "CDG",
                "label": "",
                "properties": {},
                "directed": false,
                "color": "#15AFAC",
                "thickness_factor": 1,
                "heat": 0
              },
              {
                "start": "BCN",
                "end": "FRA",
                "label": "",
                "properties": {},
                "directed": false,
                "color": "#15AFAC",
                "thickness_factor": 1,
                "heat": 0
              },
              {
                "start": "FCO",
                "end": "FRA",
                "label": "",
                "properties": {},
                "directed": false,
                "color": "#15AFAC",
                "thickness_factor": 1,
                "heat": 0
              },
              {
                "start": "BOG",
                "end": "MEX",
                "label": "",
                "properties": {},
                "directed": false,
                "color": "#15AFAC",
                "thickness_factor": 1,
                "heat": 0
              },
              {
                "start": "BOG",
                "end": "GRU",
                "label": "",
                "properties": {},
                "directed": false,
                "color": "#15AFAC",
                "thickness_factor": 1,
                "heat": 0
              },
              {
                "start": "ATL",
                "end": "MIA",
                "label": "",
                "properties": {},
                "directed": false,
                "color": "#15AFAC",
                "thickness_factor": 1,
                "heat": 0
              },
              {
                "start": "FRA",
                "end": "IST",
                "label": "",
                "properties": {},
                "directed": false,
                "color": "#15AFAC",
                "thickness_factor": 1,
                "heat": 0
              },
              {
                "start": "IST",
                "end": "DEL",
                "label": "",
                "properties": {},
                "directed": false,
                "color": "#15AFAC",
                "thickness_factor": 1,
                "heat": 0
              },
              {
                "start": "PVG",
                "end": "BKK",
                "label": "",
                "properties": {},
                "directed": false,
                "color": "#15AFAC",
                "thickness_factor": 1,
                "heat": 0
              },
              {
                "start": "DEL",
                "end": "BKK",
                "label": "",
                "properties": {},
                "directed": false,
                "color": "#15AFAC",
                "thickness_factor": 1,
                "heat": 0
              }
            ],
            "_graph_layout": {
              "algorithm": "map",
              "options": {}
            },
            "_highlight": [],
            "_license": {},
            "_model_module": "yfiles-jupyter-graphs",
            "_model_module_version": "^1.8.1",
            "_model_name": "GraphModel",
            "_neighborhood": {},
            "_nodes": [
              {
                "id": "LAX",
                "properties": {
                  "label": "Los Angeles",
                  "passengers": 65000000
                },
                "coordinates": [
                  33.942536,
                  -118.408075
                ],
                "color": "#15AFAC",
                "styles": {},
                "label": "Los Angeles",
                "scale_factor": 1,
                "type": "#15AFAC",
                "size": [
                  55,
                  55
                ],
                "position": [
                  0,
                  0
                ],
                "heat": 0.6963123644251626
              },
              {
                "id": "GIG",
                "properties": {
                  "label": "Rio de Janeiro",
                  "passengers": 5000000
                },
                "coordinates": [
                  -22.808903,
                  -43.243647
                ],
                "color": "#15AFAC",
                "styles": {},
                "label": "Rio de Janeiro",
                "scale_factor": 1,
                "type": "#15AFAC",
                "size": [
                  55,
                  55
                ],
                "position": [
                  0,
                  0
                ],
                "heat": 0.0455531453362256
              },
              {
                "id": "LIM",
                "properties": {
                  "label": "Lima",
                  "passengers": 18000000
                },
                "coordinates": [
                  -12.021889,
                  -77.114319
                ],
                "color": "#15AFAC",
                "styles": {},
                "label": "Lima",
                "scale_factor": 1,
                "type": "#15AFAC",
                "size": [
                  55,
                  55
                ],
                "position": [
                  0,
                  0
                ],
                "heat": 0.18655097613882862
              },
              {
                "id": "LHR",
                "properties": {
                  "label": "London",
                  "passengers": 61000000
                },
                "coordinates": [
                  51.4775,
                  -0.461389
                ],
                "color": "#15AFAC",
                "styles": {},
                "label": "London",
                "scale_factor": 1,
                "type": "#15AFAC",
                "size": [
                  55,
                  55
                ],
                "position": [
                  0,
                  0
                ],
                "heat": 0.6529284164859002
              },
              {
                "id": "FRA",
                "properties": {
                  "label": "Frankfurt",
                  "passengers": 48000000
                },
                "coordinates": [
                  50.033333,
                  8.570556
                ],
                "color": "#15AFAC",
                "styles": {},
                "label": "Frankfurt",
                "scale_factor": 1,
                "type": "#15AFAC",
                "size": [
                  55,
                  55
                ],
                "position": [
                  0,
                  0
                ],
                "heat": 0.5119305856832972
              },
              {
                "id": "SVO",
                "properties": {
                  "label": "Moscow",
                  "passengers": 49000000
                },
                "coordinates": [
                  55.972642,
                  37.414589
                ],
                "color": "#15AFAC",
                "styles": {},
                "label": "Moscow",
                "scale_factor": 1,
                "type": "#15AFAC",
                "size": [
                  55,
                  55
                ],
                "position": [
                  0,
                  0
                ],
                "heat": 0.5227765726681128
              },
              {
                "id": "DEL",
                "properties": {
                  "label": "New Delhi",
                  "passengers": 39000000
                },
                "coordinates": [
                  28.5665,
                  77.103089
                ],
                "color": "#15AFAC",
                "styles": {},
                "label": "New Delhi",
                "scale_factor": 1,
                "type": "#15AFAC",
                "size": [
                  55,
                  55
                ],
                "position": [
                  0,
                  0
                ],
                "heat": 0.41431670281995664
              },
              {
                "id": "PVG",
                "properties": {
                  "label": "Shanghai",
                  "passengers": 32000000
                },
                "coordinates": [
                  31.143378,
                  121.805214
                ],
                "color": "#15AFAC",
                "styles": {},
                "label": "Shanghai",
                "scale_factor": 1,
                "type": "#15AFAC",
                "size": [
                  55,
                  55
                ],
                "position": [
                  0,
                  0
                ],
                "heat": 0.3383947939262473
              },
              {
                "id": "HKG",
                "properties": {
                  "label": "Hongkong",
                  "passengers": 1000000
                },
                "coordinates": [
                  22.308919,
                  113.914603
                ],
                "color": "#15AFAC",
                "styles": {},
                "label": "Hongkong",
                "scale_factor": 1,
                "type": "#15AFAC",
                "size": [
                  55,
                  55
                ],
                "position": [
                  0,
                  0
                ],
                "heat": 0.0021691973969631237
              },
              {
                "id": "NRT",
                "properties": {
                  "label": "Tokio",
                  "passengers": 15000000
                },
                "coordinates": [
                  35.764722,
                  140.386389
                ],
                "color": "#15AFAC",
                "styles": {},
                "label": "Tokio",
                "scale_factor": 1,
                "type": "#15AFAC",
                "size": [
                  55,
                  55
                ],
                "position": [
                  0,
                  0
                ],
                "heat": 0.1540130151843818
              },
              {
                "id": "DXB",
                "properties": {
                  "label": "Dubai",
                  "passengers": 29000000
                },
                "coordinates": [
                  25.252778,
                  55.364444
                ],
                "color": "#15AFAC",
                "styles": {},
                "label": "Dubai",
                "scale_factor": 1,
                "type": "#15AFAC",
                "size": [
                  55,
                  55
                ],
                "position": [
                  0,
                  0
                ],
                "heat": 0.30585683297180044
              },
              {
                "id": "DKR",
                "properties": {
                  "label": "Dakar",
                  "passengers": 2000000
                },
                "coordinates": [
                  14.670833,
                  -17.072778
                ],
                "color": "#15AFAC",
                "styles": {},
                "label": "Dakar",
                "scale_factor": 1,
                "type": "#15AFAC",
                "size": [
                  55,
                  55
                ],
                "position": [
                  0,
                  0
                ],
                "heat": 0.013015184381778741
              },
              {
                "id": "JNB",
                "properties": {
                  "label": "Johannesburg",
                  "passengers": 9000000
                },
                "coordinates": [
                  -26.133694,
                  28.242317
                ],
                "color": "#15AFAC",
                "styles": {},
                "label": "Johannesburg",
                "scale_factor": 1,
                "type": "#15AFAC",
                "size": [
                  55,
                  55
                ],
                "position": [
                  0,
                  0
                ],
                "heat": 0.08893709327548807
              },
              {
                "id": "SYD",
                "properties": {
                  "label": "Sydney",
                  "passengers": 44000000
                },
                "coordinates": [
                  -33.946111,
                  151.177222
                ],
                "color": "#15AFAC",
                "styles": {},
                "label": "Sydney",
                "scale_factor": 1,
                "type": "#15AFAC",
                "size": [
                  55,
                  55
                ],
                "position": [
                  0,
                  0
                ],
                "heat": 0.4685466377440347
              },
              {
                "id": "NBO",
                "properties": {
                  "label": "Nairobi",
                  "passengers": 900000
                },
                "coordinates": [
                  -1.319167,
                  36.927778
                ],
                "color": "#15AFAC",
                "styles": {},
                "label": "Nairobi",
                "scale_factor": 1,
                "type": "#15AFAC",
                "size": [
                  55,
                  55
                ],
                "position": [
                  0,
                  0
                ],
                "heat": 0.0010845986984815619
              },
              {
                "id": "ATL",
                "properties": {
                  "label": "Atlanta",
                  "passengers": 93000000
                },
                "coordinates": [
                  33.639167,
                  -84.427778
                ],
                "color": "#15AFAC",
                "styles": {},
                "label": "Atlanta",
                "scale_factor": 1,
                "type": "#15AFAC",
                "size": [
                  55,
                  55
                ],
                "position": [
                  0,
                  0
                ],
                "heat": 1
              },
              {
                "id": "JFK",
                "properties": {
                  "label": "New York City",
                  "passengers": 55000000
                },
                "coordinates": [
                  40.63975,
                  -73.778925
                ],
                "color": "#15AFAC",
                "styles": {},
                "label": "New York City",
                "scale_factor": 1,
                "type": "#15AFAC",
                "size": [
                  55,
                  55
                ],
                "position": [
                  0,
                  0
                ],
                "heat": 0.5878524945770065
              },
              {
                "id": "CAI",
                "properties": {
                  "label": "Cairo",
                  "passengers": 14000000
                },
                "coordinates": [
                  30.121944,
                  31.405556
                ],
                "color": "#15AFAC",
                "styles": {},
                "label": "Cairo",
                "scale_factor": 1,
                "type": "#15AFAC",
                "size": [
                  55,
                  55
                ],
                "position": [
                  0,
                  0
                ],
                "heat": 0.14316702819956617
              },
              {
                "id": "CMN",
                "properties": {
                  "label": "Casablanca",
                  "passengers": 7000000
                },
                "coordinates": [
                  33.367467,
                  -7.589967
                ],
                "color": "#15AFAC",
                "styles": {},
                "label": "Casablanca",
                "scale_factor": 1,
                "type": "#15AFAC",
                "size": [
                  55,
                  55
                ],
                "position": [
                  0,
                  0
                ],
                "heat": 0.06724511930585683
              },
              {
                "id": "LOS",
                "properties": {
                  "label": "Lagos",
                  "passengers": 5000000
                },
                "coordinates": [
                  6.577222,
                  3.321111
                ],
                "color": "#15AFAC",
                "styles": {},
                "label": "Lagos",
                "scale_factor": 1,
                "type": "#15AFAC",
                "size": [
                  55,
                  55
                ],
                "position": [
                  0,
                  0
                ],
                "heat": 0.0455531453362256
              },
              {
                "id": "CPT",
                "properties": {
                  "label": "Cape Town",
                  "passengers": 5000000
                },
                "coordinates": [
                  -33.969444,
                  18.597222
                ],
                "color": "#15AFAC",
                "styles": {},
                "label": "Cape Town",
                "scale_factor": 1,
                "type": "#15AFAC",
                "size": [
                  55,
                  55
                ],
                "position": [
                  0,
                  0
                ],
                "heat": 0.0455531453362256
              },
              {
                "id": "CTU",
                "properties": {
                  "label": "Chengdu",
                  "passengers": 40000000
                },
                "coordinates": [
                  30.578333,
                  103.946944
                ],
                "color": "#15AFAC",
                "styles": {},
                "label": "Chengdu",
                "scale_factor": 1,
                "type": "#15AFAC",
                "size": [
                  55,
                  55
                ],
                "position": [
                  0,
                  0
                ],
                "heat": 0.42516268980477223
              },
              {
                "id": "CGK",
                "properties": {
                  "label": "Jakarta",
                  "passengers": 54000000
                },
                "coordinates": [
                  -6.125567,
                  106.655897
                ],
                "color": "#15AFAC",
                "styles": {},
                "label": "Jakarta",
                "scale_factor": 1,
                "type": "#15AFAC",
                "size": [
                  55,
                  55
                ],
                "position": [
                  0,
                  0
                ],
                "heat": 0.5770065075921909
              },
              {
                "id": "IKA",
                "properties": {
                  "label": "Teheran",
                  "passengers": 8000000
                },
                "coordinates": [
                  35.416111,
                  51.152222
                ],
                "color": "#15AFAC",
                "styles": {},
                "label": "Teheran",
                "scale_factor": 1,
                "type": "#15AFAC",
                "size": [
                  55,
                  55
                ],
                "position": [
                  0,
                  0
                ],
                "heat": 0.07809110629067245
              },
              {
                "id": "TLV",
                "properties": {
                  "label": "Tel Aviv",
                  "passengers": 20000000
                },
                "coordinates": [
                  32.011389,
                  34.886667
                ],
                "color": "#15AFAC",
                "styles": {},
                "label": "Tel Aviv",
                "scale_factor": 1,
                "type": "#15AFAC",
                "size": [
                  55,
                  55
                ],
                "position": [
                  0,
                  0
                ],
                "heat": 0.20824295010845986
              },
              {
                "id": "KUL",
                "properties": {
                  "label": "Kuala Lumpur",
                  "passengers": 25000000
                },
                "coordinates": [
                  2.745578,
                  101.709917
                ],
                "color": "#15AFAC",
                "styles": {},
                "label": "Kuala Lumpur",
                "scale_factor": 1,
                "type": "#15AFAC",
                "size": [
                  55,
                  55
                ],
                "position": [
                  0,
                  0
                ],
                "heat": 0.26247288503253796
              },
              {
                "id": "MNL",
                "properties": {
                  "label": "Manila",
                  "passengers": 8000000
                },
                "coordinates": [
                  14.508647,
                  121.019581
                ],
                "color": "#15AFAC",
                "styles": {},
                "label": "Manila",
                "scale_factor": 1,
                "type": "#15AFAC",
                "size": [
                  55,
                  55
                ],
                "position": [
                  0,
                  0
                ],
                "heat": 0.07809110629067245
              },
              {
                "id": "SIN",
                "properties": {
                  "label": "Singapur",
                  "passengers": 32000000
                },
                "coordinates": [
                  1.350189,
                  103.994433
                ],
                "color": "#15AFAC",
                "styles": {},
                "label": "Singapur",
                "scale_factor": 1,
                "type": "#15AFAC",
                "size": [
                  55,
                  55
                ],
                "position": [
                  0,
                  0
                ],
                "heat": 0.3383947939262473
              },
              {
                "id": "TPE",
                "properties": {
                  "label": "Taipeh",
                  "passengers": 800000
                },
                "coordinates": [
                  25.077732,
                  121.232822
                ],
                "color": "#15AFAC",
                "styles": {},
                "label": "Taipeh",
                "scale_factor": 1,
                "type": "#15AFAC",
                "size": [
                  55,
                  55
                ],
                "position": [
                  0,
                  0
                ],
                "heat": 0
              },
              {
                "id": "BKK",
                "properties": {
                  "label": "Bangkok",
                  "passengers": 65000000
                },
                "coordinates": [
                  13.681108,
                  100.747283
                ],
                "color": "#15AFAC",
                "styles": {},
                "label": "Bangkok",
                "scale_factor": 1,
                "type": "#15AFAC",
                "size": [
                  55,
                  55
                ],
                "position": [
                  0,
                  0
                ],
                "heat": 0.6963123644251626
              },
              {
                "id": "IST",
                "properties": {
                  "label": "Istanbul",
                  "passengers": 64000000
                },
                "coordinates": [
                  40.976922,
                  28.814606
                ],
                "color": "#15AFAC",
                "styles": {},
                "label": "Istanbul",
                "scale_factor": 1,
                "type": "#15AFAC",
                "size": [
                  55,
                  55
                ],
                "position": [
                  0,
                  0
                ],
                "heat": 0.6854663774403471
              },
              {
                "id": "ULN",
                "properties": {
                  "label": "Ulaanbaatar",
                  "passengers": 1000000
                },
                "coordinates": [
                  47.843056,
                  106.766639
                ],
                "color": "#15AFAC",
                "styles": {},
                "label": "Ulaanbaatar",
                "scale_factor": 1,
                "type": "#15AFAC",
                "size": [
                  55,
                  55
                ],
                "position": [
                  0,
                  0
                ],
                "heat": 0.0021691973969631237
              },
              {
                "id": "MEL",
                "properties": {
                  "label": "Melbourne",
                  "passengers": 12000000
                },
                "coordinates": [
                  -37.673333,
                  144.843333
                ],
                "color": "#15AFAC",
                "styles": {},
                "label": "Melbourne",
                "scale_factor": 1,
                "type": "#15AFAC",
                "size": [
                  55,
                  55
                ],
                "position": [
                  0,
                  0
                ],
                "heat": 0.12147505422993492
              },
              {
                "id": "BNE",
                "properties": {
                  "label": "Brisbane",
                  "passengers": 23000000
                },
                "coordinates": [
                  -27.383333,
                  153.118056
                ],
                "color": "#15AFAC",
                "styles": {},
                "label": "Brisbane",
                "scale_factor": 1,
                "type": "#15AFAC",
                "size": [
                  55,
                  55
                ],
                "position": [
                  0,
                  0
                ],
                "heat": 0.24078091106290672
              },
              {
                "id": "NAN",
                "properties": {
                  "label": "Nadi",
                  "passengers": 2000000
                },
                "coordinates": [
                  -17.755392,
                  177.443378
                ],
                "color": "#15AFAC",
                "styles": {},
                "label": "Nadi",
                "scale_factor": 1,
                "type": "#15AFAC",
                "size": [
                  55,
                  55
                ],
                "position": [
                  0,
                  0
                ],
                "heat": 0.013015184381778741
              },
              {
                "id": "AKL",
                "properties": {
                  "label": "Auckland",
                  "passengers": 21000000
                },
                "coordinates": [
                  -37.008056,
                  174.791667
                ],
                "color": "#15AFAC",
                "styles": {},
                "label": "Auckland",
                "scale_factor": 1,
                "type": "#15AFAC",
                "size": [
                  55,
                  55
                ],
                "position": [
                  0,
                  0
                ],
                "heat": 0.21908893709327548
              },
              {
                "id": "CDG",
                "properties": {
                  "label": "Paris",
                  "passengers": 57000000
                },
                "coordinates": [
                  49.009722,
                  2.547778
                ],
                "color": "#15AFAC",
                "styles": {},
                "label": "Paris",
                "scale_factor": 1,
                "type": "#15AFAC",
                "size": [
                  55,
                  55
                ],
                "position": [
                  0,
                  0
                ],
                "heat": 0.6095444685466378
              },
              {
                "id": "MAD",
                "properties": {
                  "label": "Madrid",
                  "passengers": 50000000
                },
                "coordinates": [
                  40.4675,
                  -3.551944
                ],
                "color": "#15AFAC",
                "styles": {},
                "label": "Madrid",
                "scale_factor": 1,
                "type": "#15AFAC",
                "size": [
                  55,
                  55
                ],
                "position": [
                  0,
                  0
                ],
                "heat": 0.5336225596529284
              },
              {
                "id": "BCN",
                "properties": {
                  "label": "Barcelona",
                  "passengers": 41000000
                },
                "coordinates": [
                  41.297078,
                  2.078464
                ],
                "color": "#15AFAC",
                "styles": {},
                "label": "Barcelona",
                "scale_factor": 1,
                "type": "#15AFAC",
                "size": [
                  55,
                  55
                ],
                "position": [
                  0,
                  0
                ],
                "heat": 0.4360086767895879
              },
              {
                "id": "FCO",
                "properties": {
                  "label": "Rome",
                  "passengers": 29000000
                },
                "coordinates": [
                  41.804444,
                  12.250833
                ],
                "color": "#15AFAC",
                "styles": {},
                "label": "Rome",
                "scale_factor": 1,
                "type": "#15AFAC",
                "size": [
                  55,
                  55
                ],
                "position": [
                  0,
                  0
                ],
                "heat": 0.30585683297180044
              },
              {
                "id": "CPH",
                "properties": {
                  "label": "Copenhagen",
                  "passengers": 30000000
                },
                "coordinates": [
                  55.617917,
                  12.655972
                ],
                "color": "#15AFAC",
                "styles": {},
                "label": "Copenhagen",
                "scale_factor": 1,
                "type": "#15AFAC",
                "size": [
                  55,
                  55
                ],
                "position": [
                  0,
                  0
                ],
                "heat": 0.31670281995661603
              },
              {
                "id": "HEL",
                "properties": {
                  "label": "Helsinki",
                  "passengers": 5000000
                },
                "coordinates": [
                  60.317222,
                  24.963333
                ],
                "color": "#15AFAC",
                "styles": {},
                "label": "Helsinki",
                "scale_factor": 1,
                "type": "#15AFAC",
                "size": [
                  55,
                  55
                ],
                "position": [
                  0,
                  0
                ],
                "heat": 0.0455531453362256
              },
              {
                "id": "ATH",
                "properties": {
                  "label": "Athens",
                  "passengers": 22000000
                },
                "coordinates": [
                  37.936358,
                  23.944467
                ],
                "color": "#15AFAC",
                "styles": {},
                "label": "Athens",
                "scale_factor": 1,
                "type": "#15AFAC",
                "size": [
                  55,
                  55
                ],
                "position": [
                  0,
                  0
                ],
                "heat": 0.2299349240780911
              },
              {
                "id": "DUB",
                "properties": {
                  "label": "Dublin",
                  "passengers": 32000000
                },
                "coordinates": [
                  53.421333,
                  -6.270075
                ],
                "color": "#15AFAC",
                "styles": {},
                "label": "Dublin",
                "scale_factor": 1,
                "type": "#15AFAC",
                "size": [
                  55,
                  55
                ],
                "position": [
                  0,
                  0
                ],
                "heat": 0.3383947939262473
              },
              {
                "id": "RKV",
                "properties": {
                  "label": "Reykjavik",
                  "passengers": 400000
                },
                "coordinates": [
                  64.13,
                  -21.940556
                ],
                "color": "#15AFAC",
                "styles": {},
                "label": "Reykjavik",
                "scale_factor": 1,
                "type": "#15AFAC",
                "size": [
                  55,
                  55
                ],
                "position": [
                  0,
                  0
                ],
                "heat": -0.004338394793926247
              },
              {
                "id": "OSL",
                "properties": {
                  "label": "Oslo",
                  "passengers": 9000000
                },
                "coordinates": [
                  60.193917,
                  11.100361
                ],
                "color": "#15AFAC",
                "styles": {},
                "label": "Oslo",
                "scale_factor": 1,
                "type": "#15AFAC",
                "size": [
                  55,
                  55
                ],
                "position": [
                  0,
                  0
                ],
                "heat": 0.08893709327548807
              },
              {
                "id": "VIE",
                "properties": {
                  "label": "Vienna",
                  "passengers": 10000000
                },
                "coordinates": [
                  48.110833,
                  16.570833
                ],
                "color": "#15AFAC",
                "styles": {},
                "label": "Vienna",
                "scale_factor": 1,
                "type": "#15AFAC",
                "size": [
                  55,
                  55
                ],
                "position": [
                  0,
                  0
                ],
                "heat": 0.09978308026030369
              },
              {
                "id": "LIS",
                "properties": {
                  "label": "Lisbon",
                  "passengers": 28000000
                },
                "coordinates": [
                  38.774167,
                  -9.134167
                ],
                "color": "#15AFAC",
                "styles": {},
                "label": "Lisbon",
                "scale_factor": 1,
                "type": "#15AFAC",
                "size": [
                  55,
                  55
                ],
                "position": [
                  0,
                  0
                ],
                "heat": 0.2950108459869848
              },
              {
                "id": "ARN",
                "properties": {
                  "label": "Stockholm",
                  "passengers": 7000000
                },
                "coordinates": [
                  59.651944,
                  17.918611
                ],
                "color": "#15AFAC",
                "styles": {},
                "label": "Stockholm",
                "scale_factor": 1,
                "type": "#15AFAC",
                "size": [
                  55,
                  55
                ],
                "position": [
                  0,
                  0
                ],
                "heat": 0.06724511930585683
              },
              {
                "id": "EDI",
                "properties": {
                  "label": "Edinburgh",
                  "passengers": 14000000
                },
                "coordinates": [
                  55.95,
                  -3.3725
                ],
                "color": "#15AFAC",
                "styles": {},
                "label": "Edinburgh",
                "scale_factor": 1,
                "type": "#15AFAC",
                "size": [
                  55,
                  55
                ],
                "position": [
                  0,
                  0
                ],
                "heat": 0.14316702819956617
              },
              {
                "id": "ORD",
                "properties": {
                  "label": "Chicago",
                  "passengers": 54000000
                },
                "coordinates": [
                  41.978603,
                  -87.904842
                ],
                "color": "#15AFAC",
                "styles": {},
                "label": "Chicago",
                "scale_factor": 1,
                "type": "#15AFAC",
                "size": [
                  55,
                  55
                ],
                "position": [
                  0,
                  0
                ],
                "heat": 0.5770065075921909
              },
              {
                "id": "DFW",
                "properties": {
                  "label": "Dallas",
                  "passengers": 73000000
                },
                "coordinates": [
                  32.896828,
                  -97.037997
                ],
                "color": "#15AFAC",
                "styles": {},
                "label": "Dallas",
                "scale_factor": 1,
                "type": "#15AFAC",
                "size": [
                  55,
                  55
                ],
                "position": [
                  0,
                  0
                ],
                "heat": 0.7830802603036876
              },
              {
                "id": "SFO",
                "properties": {
                  "label": "San Francisco",
                  "passengers": 42000000
                },
                "coordinates": [
                  37.618972,
                  -122.374889
                ],
                "color": "#15AFAC",
                "styles": {},
                "label": "San Francisco",
                "scale_factor": 1,
                "type": "#15AFAC",
                "size": [
                  55,
                  55
                ],
                "position": [
                  0,
                  0
                ],
                "heat": 0.44685466377440347
              },
              {
                "id": "LAS",
                "properties": {
                  "label": "Las Vegas",
                  "passengers": 52000000
                },
                "coordinates": [
                  36.080056,
                  -115.15225
                ],
                "color": "#15AFAC",
                "styles": {},
                "label": "Las Vegas",
                "scale_factor": 1,
                "type": "#15AFAC",
                "size": [
                  55,
                  55
                ],
                "position": [
                  0,
                  0
                ],
                "heat": 0.5553145336225597
              },
              {
                "id": "MIA",
                "properties": {
                  "label": "Miami",
                  "passengers": 50000000
                },
                "coordinates": [
                  25.79325,
                  -80.290556
                ],
                "color": "#15AFAC",
                "styles": {},
                "label": "Miami",
                "scale_factor": 1,
                "type": "#15AFAC",
                "size": [
                  55,
                  55
                ],
                "position": [
                  0,
                  0
                ],
                "heat": 0.5336225596529284
              },
              {
                "id": "YYZ",
                "properties": {
                  "label": "Toronto",
                  "passengers": 12000000
                },
                "coordinates": [
                  43.677222,
                  -79.630556
                ],
                "color": "#15AFAC",
                "styles": {},
                "label": "Toronto",
                "scale_factor": 1,
                "type": "#15AFAC",
                "size": [
                  55,
                  55
                ],
                "position": [
                  0,
                  0
                ],
                "heat": 0.12147505422993492
              },
              {
                "id": "YVR",
                "properties": {
                  "label": "Vancouver",
                  "passengers": 19000000
                },
                "coordinates": [
                  49.193889,
                  -123.184444
                ],
                "color": "#15AFAC",
                "styles": {},
                "label": "Vancouver",
                "scale_factor": 1,
                "type": "#15AFAC",
                "size": [
                  55,
                  55
                ],
                "position": [
                  0,
                  0
                ],
                "heat": 0.19739696312364424
              },
              {
                "id": "YUL",
                "properties": {
                  "label": "Montreal",
                  "passengers": 15000000
                },
                "coordinates": [
                  45.47175,
                  -73.736569
                ],
                "color": "#15AFAC",
                "styles": {},
                "label": "Montreal",
                "scale_factor": 1,
                "type": "#15AFAC",
                "size": [
                  55,
                  55
                ],
                "position": [
                  0,
                  0
                ],
                "heat": 0.1540130151843818
              },
              {
                "id": "MEX",
                "properties": {
                  "label": "Mexico-City",
                  "passengers": 46000000
                },
                "coordinates": [
                  19.436303,
                  -99.072097
                ],
                "color": "#15AFAC",
                "styles": {},
                "label": "Mexico-City",
                "scale_factor": 1,
                "type": "#15AFAC",
                "size": [
                  55,
                  55
                ],
                "position": [
                  0,
                  0
                ],
                "heat": 0.49023861171366595
              },
              {
                "id": "GUA",
                "properties": {
                  "label": "Guatemala-City",
                  "passengers": 2000000
                },
                "coordinates": [
                  14.583272,
                  -90.527475
                ],
                "color": "#15AFAC",
                "styles": {},
                "label": "Guatemala-City",
                "scale_factor": 1,
                "type": "#15AFAC",
                "size": [
                  55,
                  55
                ],
                "position": [
                  0,
                  0
                ],
                "heat": 0.013015184381778741
              },
              {
                "id": "EZE",
                "properties": {
                  "label": "Buenos Aires",
                  "passengers": 5000000
                },
                "coordinates": [
                  -34.822222,
                  -58.535833
                ],
                "color": "#15AFAC",
                "styles": {},
                "label": "Buenos Aires",
                "scale_factor": 1,
                "type": "#15AFAC",
                "size": [
                  55,
                  55
                ],
                "position": [
                  0,
                  0
                ],
                "heat": 0.0455531453362256
              },
              {
                "id": "GRU",
                "properties": {
                  "label": "Sao Paulo",
                  "passengers": 34000000
                },
                "coordinates": [
                  -23.432075,
                  -46.469511
                ],
                "color": "#15AFAC",
                "styles": {},
                "label": "Sao Paulo",
                "scale_factor": 1,
                "type": "#15AFAC",
                "size": [
                  55,
                  55
                ],
                "position": [
                  0,
                  0
                ],
                "heat": 0.3600867678958785
              },
              {
                "id": "SCL",
                "properties": {
                  "label": "Santiago de Chile",
                  "passengers": 20000000
                },
                "coordinates": [
                  -33.392975,
                  -70.785803
                ],
                "color": "#15AFAC",
                "styles": {},
                "label": "Santiago de Chile",
                "scale_factor": 1,
                "type": "#15AFAC",
                "size": [
                  55,
                  55
                ],
                "position": [
                  0,
                  0
                ],
                "heat": 0.20824295010845986
              },
              {
                "id": "BSB",
                "properties": {
                  "label": "Brasilia",
                  "passengers": 13000000
                },
                "coordinates": [
                  -15.871111,
                  -47.918611
                ],
                "color": "#15AFAC",
                "styles": {},
                "label": "Brasilia",
                "scale_factor": 1,
                "type": "#15AFAC",
                "size": [
                  55,
                  55
                ],
                "position": [
                  0,
                  0
                ],
                "heat": 0.13232104121475055
              },
              {
                "id": "BOG",
                "properties": {
                  "label": "Bogota",
                  "passengers": 36000000
                },
                "coordinates": [
                  4.701594,
                  -74.146947
                ],
                "color": "#15AFAC",
                "styles": {},
                "label": "Bogota",
                "scale_factor": 1,
                "type": "#15AFAC",
                "size": [
                  55,
                  55
                ],
                "position": [
                  0,
                  0
                ],
                "heat": 0.38177874186550975
              },
              {
                "id": "CCS",
                "properties": {
                  "label": "Caracas",
                  "passengers": 8000000
                },
                "coordinates": [
                  10.601194,
                  -66.991222
                ],
                "color": "#15AFAC",
                "styles": {},
                "label": "Caracas",
                "scale_factor": 1,
                "type": "#15AFAC",
                "size": [
                  55,
                  55
                ],
                "position": [
                  0,
                  0
                ],
                "heat": 0.07809110629067245
              }
            ],
            "_overview": {
              "enabled": null,
              "overview_set": false
            },
            "_selected_graph": [
              [],
              []
            ],
            "_sidebar": {
              "enabled": false,
              "start_with": null
            },
            "_view_count": null,
            "_view_module": "yfiles-jupyter-graphs",
            "_view_module_version": "^1.8.1",
            "_view_name": "GraphView",
            "layout": "IPY_MODEL_392b50931ae04baca8424a3f75a81334",
            "tabbable": null,
            "tooltip": null
          }
        },
        "392b50931ae04baca8424a3f75a81334": {
          "model_module": "@jupyter-widgets/base",
          "model_name": "LayoutModel",
          "model_module_version": "2.0.0",
          "state": {
            "_model_module": "@jupyter-widgets/base",
            "_model_module_version": "2.0.0",
            "_model_name": "LayoutModel",
            "_view_count": null,
            "_view_module": "@jupyter-widgets/base",
            "_view_module_version": "2.0.0",
            "_view_name": "LayoutView",
            "align_content": null,
            "align_items": null,
            "align_self": null,
            "border_bottom": null,
            "border_left": null,
            "border_right": null,
            "border_top": null,
            "bottom": null,
            "display": null,
            "flex": null,
            "flex_flow": null,
            "grid_area": null,
            "grid_auto_columns": null,
            "grid_auto_flow": null,
            "grid_auto_rows": null,
            "grid_column": null,
            "grid_gap": null,
            "grid_row": null,
            "grid_template_areas": null,
            "grid_template_columns": null,
            "grid_template_rows": null,
            "height": "800px",
            "justify_content": null,
            "justify_items": null,
            "left": null,
            "margin": null,
            "max_height": null,
            "max_width": null,
            "min_height": null,
            "min_width": null,
            "object_fit": null,
            "object_position": null,
            "order": null,
            "overflow": null,
            "padding": null,
            "right": null,
            "top": null,
            "visibility": null,
            "width": "100%"
          }
        },
        "state": {}
      }
    }
  },
  "nbformat": 4,
  "nbformat_minor": 5
}