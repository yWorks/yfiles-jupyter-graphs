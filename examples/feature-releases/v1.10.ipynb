{
  "cells": [
    {
      "cell_type": "markdown",
      "id": "1b348ff9-403c-46eb-945e-c3a5ca0ae171",
      "metadata": {
        "id": "1b348ff9-403c-46eb-945e-c3a5ca0ae171"
      },
      "source": [
        "# yFiles Graphs for Jupyter v1.10 <a target=\"_blank\" href=\"https://colab.research.google.com/github/yWorks/yfiles-jupyter-graphs/blob/main/examples/feature-releases/v1.10.ipynb\"><img src=\"https://colab.research.google.com/assets/colab-badge.svg\" alt=\"Open In Colab\"/></a>\n",
        "\n",
        "Before using the graph widget, install all necessary packages and initialize your widget."
      ]
    },
    {
      "cell_type": "code",
      "execution_count": 1,
      "id": "25d249f8-88c2-479b-a53b-607f6f2c177e",
      "metadata": {
        "colab": {
          "base_uri": "https://localhost:8080/"
        },
        "id": "25d249f8-88c2-479b-a53b-607f6f2c177e",
        "outputId": "3fa93e83-fd0a-477c-88d1-38ef07cddf60"
      },
      "outputs": [
        {
          "output_type": "stream",
          "name": "stdout",
          "text": [
            "\u001b[2K   \u001b[90m\u2501\u2501\u2501\u2501\u2501\u2501\u2501\u2501\u2501\u2501\u2501\u2501\u2501\u2501\u2501\u2501\u2501\u2501\u2501\u2501\u2501\u2501\u2501\u2501\u2501\u2501\u2501\u2501\u2501\u2501\u2501\u2501\u2501\u2501\u2501\u2501\u2501\u2501\u2501\u2501\u001b[0m \u001b[32m15.6/15.6 MB\u001b[0m \u001b[31m48.6 MB/s\u001b[0m eta \u001b[36m0:00:00\u001b[0m\n",
            "\u001b[2K   \u001b[90m\u2501\u2501\u2501\u2501\u2501\u2501\u2501\u2501\u2501\u2501\u2501\u2501\u2501\u2501\u2501\u2501\u2501\u2501\u2501\u2501\u2501\u2501\u2501\u2501\u2501\u2501\u2501\u2501\u2501\u2501\u2501\u2501\u2501\u2501\u2501\u2501\u2501\u2501\u2501\u2501\u001b[0m \u001b[32m139.8/139.8 kB\u001b[0m \u001b[31m8.3 MB/s\u001b[0m eta \u001b[36m0:00:00\u001b[0m\n",
            "\u001b[2K   \u001b[90m\u2501\u2501\u2501\u2501\u2501\u2501\u2501\u2501\u2501\u2501\u2501\u2501\u2501\u2501\u2501\u2501\u2501\u2501\u2501\u2501\u2501\u2501\u2501\u2501\u2501\u2501\u2501\u2501\u2501\u2501\u2501\u2501\u2501\u2501\u2501\u2501\u2501\u2501\u2501\u2501\u001b[0m \u001b[32m2.3/2.3 MB\u001b[0m \u001b[31m50.8 MB/s\u001b[0m eta \u001b[36m0:00:00\u001b[0m\n",
            "\u001b[2K   \u001b[90m\u2501\u2501\u2501\u2501\u2501\u2501\u2501\u2501\u2501\u2501\u2501\u2501\u2501\u2501\u2501\u2501\u2501\u2501\u2501\u2501\u2501\u2501\u2501\u2501\u2501\u2501\u2501\u2501\u2501\u2501\u2501\u2501\u2501\u2501\u2501\u2501\u2501\u2501\u2501\u2501\u001b[0m \u001b[32m1.6/1.6 MB\u001b[0m \u001b[31m31.1 MB/s\u001b[0m eta \u001b[36m0:00:00\u001b[0m\n",
            "\u001b[?25h"
          ]
        }
      ],
      "source": [
        "%pip install yfiles_jupyter_graphs --quiet\n",
        "from yfiles_jupyter_graphs import GraphWidget"
      ]
    },
    {
      "cell_type": "markdown",
      "id": "6667ea6f-9cde-4059-926c-3422f65a6edd",
      "metadata": {
        "id": "6667ea6f-9cde-4059-926c-3422f65a6edd"
      },
      "source": [
        "You can also open this notebook in Google Colab when Google Colab's custom widget manager is enabled:"
      ]
    },
    {
      "cell_type": "code",
      "execution_count": 2,
      "id": "88b4746d-8192-44f7-865b-a7f0da2ab360",
      "metadata": {
        "id": "88b4746d-8192-44f7-865b-a7f0da2ab360"
      },
      "outputs": [],
      "source": [
        "try:\n",
        "  import google.colab\n",
        "  from google.colab import output\n",
        "  output.enable_custom_widget_manager()\n",
        "except:\n",
        "  pass"
      ]
    },
    {
      "cell_type": "markdown",
      "id": "83b7935f-03cc-4cb9-ad42-f3cdb03acd8a",
      "metadata": {
        "id": "83b7935f-03cc-4cb9-ad42-f3cdb03acd8a"
      },
      "source": [
        "<a target=\"_blank\" href=\"https://colab.research.google.com/github/yWorks/yfiles-jupyter-graphs/blob/main/examples/feature-releases/v1.10.ipynb\"><img src=\"https://colab.research.google.com/assets/colab-badge.svg\" alt=\"Open In Colab\"/></a>"
      ]
    },
    {
      "cell_type": "markdown",
      "id": "302bb4a9-86e9-49ea-a305-1683f72ae6e2",
      "metadata": {
        "id": "302bb4a9-86e9-49ea-a305-1683f72ae6e2"
      },
      "source": [
        "# Changelog\n",
        "\n",
        "## New features\n",
        "* Support `dashStyle` for edges with a new `edge_styles_mapping` function. This new mapping functions unites the existing edge style mappings in a single mapping function by providing a styles dictionary for the edge, similar to the `node_styles_mapping` function.\n",
        "* Support `fontWeight` property for node and edge label texts.\n",
        "* Interactive navigation in the graph was enhanced by supporting *CTRL + click on edges* to visit the opposing node, to jump to the respective source or target node. Additionally, *double clicking* a node or edge focuses the item in the viewport.\n",
        "\n",
        "## Improvements\n",
        "* Improved automatic layout configurations to reduce the runtime on larger graphs.\n",
        "* The neighborhood view now avoids label overlaps and considers the shape of the nodes.\n",
        "* Labels are now rendered at the same z-order as their parent element to improve the looks of the interactive organic layout, where items may overlap with each other.\n",
        "* Enhanced visual feedback of the collapse/expand icon on group nodes.\n",
        "\n",
        "## Bugfixes\n",
        "* Adjust edge arrow size depending on specified edge thickness.\n",
        "* Adopt color of edge label background stroke from the corresponding edge.\n",
        "* Fix occasionally missing arrowheads when layouting specific graph structures."
      ]
    },
    {
      "cell_type": "markdown",
      "id": "9134cb68-6770-434f-966a-7a79ced72e93",
      "metadata": {
        "id": "9134cb68-6770-434f-966a-7a79ced72e93"
      },
      "source": [
        "# Sample Data for the following examples"
      ]
    },
    {
      "cell_type": "code",
      "execution_count": 3,
      "id": "020dd02a-c920-4b14-9aaa-1d1af01f5033",
      "metadata": {
        "jupyter": {
          "source_hidden": true
        },
        "id": "020dd02a-c920-4b14-9aaa-1d1af01f5033"
      },
      "outputs": [],
      "source": [
        "airports = [\n",
        "    {\"name\": \"Los Angeles\", \"iata\": \"LAX\", \"lat\": 33.942536, \"lng\": -118.408075, \"passengers\": 65000000, \"country\": \"USA\", \"id\": \"LAX\"}, {\"name\": \"Rio de Janeiro\", \"iata\": \"GIG\", \"lat\": -22.808903, \"lng\": -43.243647, \"passengers\": 5000000, \"country\": \"Brazil\", \"id\": \"GIG\"}, {\"name\": \"Lima\", \"iata\": \"LIM\", \"lat\": -12.021889, \"lng\": -77.114319, \"passengers\": 18000000, \"country\": \"Peru\", \"id\": \"LIM\"}, {\"name\": \"London\", \"iata\": \"LHR\", \"lat\": 51.4775, \"lng\": -0.461389, \"passengers\": 61000000, \"country\": \"UK\", \"id\": \"LHR\"},\n",
        "    {\"name\": \"Frankfurt\", \"iata\": \"FRA\", \"lat\": 50.033333, \"lng\": 8.570556, \"passengers\": 48000000, \"country\": \"Germany\", \"id\": \"FRA\"}, {\"name\": \"Moscow\", \"iata\": \"SVO\", \"lat\": 55.972642, \"lng\": 37.414589, \"passengers\": 49000000, \"country\": \"Russia\", \"id\": \"SVO\"}, {\"name\": \"New Delhi\", \"iata\": \"DEL\", \"lat\": 28.5665, \"lng\": 77.103089, \"passengers\": 39000000, \"country\": \"India\", \"id\": \"DEL\"}, {\"name\": \"Shanghai\", \"iata\": \"PVG\", \"lat\": 31.143378, \"lng\": 121.805214, \"passengers\": 32000000, \"country\": \"China\", \"id\": \"PVG\"},\n",
        "    {\"name\": \"Hongkong\", \"iata\": \"HKG\", \"lat\": 22.308919, \"lng\": 113.914603, \"passengers\": 1000000, \"country\": \"China\", \"id\": \"HKG\"}, {\"name\": \"Tokio\", \"iata\": \"NRT\", \"lat\": 35.764722, \"lng\": 140.386389, \"passengers\": 15000000, \"country\": \"Japan\", \"id\": \"NRT\"}, {\"name\": \"Dubai\", \"iata\": \"DXB\", \"lat\": 25.252778, \"lng\": 55.364444, \"passengers\": 29000000, \"country\": \"UAE\", \"id\": \"DXB\"}, {\"name\": \"Dakar\", \"iata\": \"DKR\", \"lat\": 14.670833, \"lng\": -17.072778, \"passengers\": 2000000, \"country\": \"Senegal\", \"id\": \"DKR\"},\n",
        "    {\"name\": \"Johannesburg\", \"iata\": \"JNB\", \"lat\": -26.133694, \"lng\": 28.242317, \"passengers\": 9000000, \"country\": \"South Africa\", \"id\": \"JNB\"}, {\"name\": \"Sydney\", \"iata\": \"SYD\", \"lat\": -33.946111, \"lng\": 151.177222, \"passengers\": 44000000, \"country\": \"Australia\", \"id\": \"SYD\"}, {\"name\": \"Nairobi\", \"iata\": \"NBO\", \"lat\": -1.319167, \"lng\": 36.927778, \"passengers\": 900000, \"country\": \"Kenya\", \"id\": \"NBO\"}, {\"name\": \"Atlanta\", \"iata\": \"ATL\", \"lat\": 33.639167, \"lng\": -84.427778, \"passengers\": 93000000, \"country\": \"USA\", \"id\": \"ATL\"},\n",
        "    {\"name\": \"New York City\", \"iata\": \"JFK\", \"lat\": 40.63975, \"lng\": -73.778925, \"passengers\": 55000000, \"country\": \"USA\", \"id\": \"JFK\"}, {\"name\": \"Cairo\", \"iata\": \"CAI\", \"lat\": 30.121944, \"lng\": 31.405556, \"passengers\": 14000000, \"country\": \"Egypt\", \"id\": \"CAI\"}, {\"name\": \"Casablanca\", \"iata\": \"CMN\", \"lat\": 33.367467, \"lng\": -7.589967, \"passengers\": 7000000, \"country\": \"Morocco\", \"id\": \"CMN\"}, {\"name\": \"Lagos\", \"iata\": \"LOS\", \"lat\": 6.577222, \"lng\": 3.321111, \"passengers\": 5000000, \"country\": \"Nigeria\", \"id\": \"LOS\"},\n",
        "    {\"name\": \"Cape Town\", \"iata\": \"CPT\", \"lat\": -33.969444, \"lng\": 18.597222, \"passengers\": 5000000, \"country\": \"South Africa\", \"id\": \"CPT\"}, {\"name\": \"Chengdu\", \"iata\": \"CTU\", \"lat\": 30.578333, \"lng\": 103.946944, \"passengers\": 40000000, \"country\": \"China\", \"id\": \"CTU\"}, {\"name\": \"Jakarta\", \"iata\": \"CGK\", \"lat\": -6.125567, \"lng\": 106.655897, \"passengers\": 54000000, \"country\": \"Indonesia\", \"id\": \"CGK\"}, {\"name\": \"Teheran\", \"iata\": \"IKA\", \"lat\": 35.416111, \"lng\": 51.152222, \"passengers\": 8000000, \"country\": \"Iran\", \"id\": \"IKA\"},\n",
        "    {\"name\": \"Tel Aviv\", \"iata\": \"TLV\", \"lat\": 32.011389, \"lng\": 34.886667, \"passengers\": 20000000, \"country\": \"Israel\", \"id\": \"TLV\"}, {\"name\": \"Kuala Lumpur\", \"iata\": \"KUL\", \"lat\": 2.745578, \"lng\": 101.709917, \"passengers\": 25000000, \"country\": \"Malaysia\", \"id\": \"KUL\"}, {\"name\": \"Manila\", \"iata\": \"MNL\", \"lat\": 14.508647, \"lng\": 121.019581, \"passengers\": 8000000, \"country\": \"Philippines\", \"id\": \"MNL\"}, {\"name\": \"Singapur\", \"iata\": \"SIN\", \"lat\": 1.350189, \"lng\": 103.994433, \"passengers\": 32000000, \"country\": \"Singapore\", \"id\": \"SIN\"},\n",
        "    {\"name\": \"Taipeh\", \"iata\": \"TPE\", \"lat\": 25.077732, \"lng\": 121.232822, \"passengers\": 800000, \"country\": \"Taiwan\", \"id\": \"TPE\"}, {\"name\": \"Bangkok\", \"iata\": \"BKK\", \"lat\": 13.681108, \"lng\": 100.747283, \"passengers\": 65000000, \"country\": \"Thailand\", \"id\": \"BKK\"}, {\"name\": \"Istanbul\", \"iata\": \"IST\", \"lat\": 40.976922, \"lng\": 28.814606, \"passengers\": 64000000, \"country\": \"Turkey\", \"id\": \"IST\"}, {\"name\": \"Ulaanbaatar\", \"iata\": \"ULN\", \"lat\": 47.843056, \"lng\": 106.766639, \"passengers\": 1000000, \"country\": \"Mongolia\", \"id\": \"ULN\"},\n",
        "    {\"name\": \"Melbourne\", \"iata\": \"MEL\", \"lat\": -37.673333, \"lng\": 144.843333, \"passengers\": 12000000, \"country\": \"Australia\", \"id\": \"MEL\"}, {\"name\": \"Brisbane\", \"iata\": \"BNE\", \"lat\": -27.383333, \"lng\": 153.118056, \"passengers\": 23000000, \"country\": \"Australia\", \"id\": \"BNE\"}, {\"name\": \"Nadi\", \"iata\": \"NAN\", \"lat\": -17.755392, \"lng\": 177.443378, \"passengers\": 2000000, \"country\": \"Fiji\", \"id\": \"NAN\"}, {\"name\": \"Auckland\", \"iata\": \"AKL\", \"lat\": -37.008056, \"lng\": 174.791667, \"passengers\": 21000000, \"country\": \"New Zealand\", \"id\": \"AKL\"},\n",
        "    {\"name\": \"Paris\", \"iata\": \"CDG\", \"lat\": 49.009722, \"lng\": 2.547778, \"passengers\": 57000000, \"country\": \"France\", \"id\": \"CDG\"}, {\"name\": \"Madrid\", \"iata\": \"MAD\", \"lat\": 40.4675, \"lng\": -3.551944, \"passengers\": 50000000, \"country\": \"Spain\", \"id\": \"MAD\"}, {\"name\": \"Barcelona\", \"iata\": \"BCN\", \"lat\": 41.297078, \"lng\": 2.078464, \"passengers\": 41000000, \"country\": \"Spain\", \"id\": \"BCN\"}, {\"name\": \"Rome\", \"iata\": \"FCO\", \"lat\": 41.804444, \"lng\": 12.250833, \"passengers\": 29000000, \"country\": \"Italy\", \"id\": \"FCO\"},\n",
        "    {\"name\": \"Copenhagen\", \"iata\": \"CPH\", \"lat\": 55.617917, \"lng\": 12.655972, \"passengers\": 30000000, \"country\": \"Denmark\", \"id\": \"CPH\"}, {\"name\": \"Helsinki\", \"iata\": \"HEL\", \"lat\": 60.317222, \"lng\": 24.963333, \"passengers\": 5000000, \"country\": \"Finland\", \"id\": \"HEL\"}, {\"name\": \"Athens\", \"iata\": \"ATH\", \"lat\": 37.936358, \"lng\": 23.944467, \"passengers\": 22000000, \"country\": \"Greece\", \"id\": \"ATH\"}, {\"name\": \"Dublin\", \"iata\": \"DUB\", \"lat\": 53.421333, \"lng\": -6.270075, \"passengers\": 32000000, \"country\": \"Ireland\", \"id\": \"DUB\"},\n",
        "    {\"name\": \"Reykjavik\", \"iata\": \"RKV\", \"lat\": 64.13, \"lng\": -21.940556, \"passengers\": 400000, \"country\": \"Iceland\", \"id\": \"RKV\"}, {\"name\": \"Oslo\", \"iata\": \"OSL\", \"lat\": 60.193917, \"lng\": 11.100361, \"passengers\": 9000000, \"country\": \"Norway\", \"id\": \"OSL\"}, {\"name\": \"Vienna\", \"iata\": \"VIE\", \"lat\": 48.110833, \"lng\": 16.570833, \"passengers\": 10000000, \"country\": \"Austria\", \"id\": \"VIE\"}, {\"name\": \"Lisbon\", \"iata\": \"LIS\", \"lat\": 38.774167, \"lng\": -9.134167, \"passengers\": 28000000, \"country\": \"Portugal\", \"id\": \"LIS\"},\n",
        "    {\"name\": \"Stockholm\", \"iata\": \"ARN\", \"lat\": 59.651944, \"lng\": 17.918611, \"passengers\": 7000000, \"country\": \"Sweden\", \"id\": \"ARN\"}, {\"name\": \"Edinburgh\", \"iata\": \"EDI\", \"lat\": 55.95, \"lng\": -3.3725, \"passengers\": 14000000, \"country\": \"UK\", \"id\": \"EDI\"}, {\"name\": \"Chicago\", \"iata\": \"ORD\", \"lat\": 41.978603, \"lng\": -87.904842, \"passengers\": 54000000, \"country\": \"USA\", \"id\": \"ORD\"}, {\"name\": \"Dallas\", \"iata\": \"DFW\", \"lat\": 32.896828, \"lng\": -97.037997, \"passengers\": 73000000, \"country\": \"USA\", \"id\": \"DFW\"},\n",
        "    {\"name\": \"San Francisco\", \"iata\": \"SFO\", \"lat\": 37.618972, \"lng\": -122.374889, \"passengers\": 42000000, \"country\": \"USA\", \"id\": \"SFO\"}, {\"name\": \"Las Vegas\", \"iata\": \"LAS\", \"lat\": 36.080056, \"lng\": -115.15225, \"passengers\": 52000000, \"country\": \"USA\", \"id\": \"LAS\"}, {\"name\": \"Miami\", \"iata\": \"MIA\", \"lat\": 25.79325, \"lng\": -80.290556, \"passengers\": 50000000, \"country\": \"USA\", \"id\": \"MIA\"}, {\"name\": \"Toronto\", \"iata\": \"YYZ\", \"lat\": 43.677222, \"lng\": -79.630556, \"passengers\": 12000000, \"country\": \"Canada\", \"id\": \"YYZ\"},\n",
        "    {\"name\": \"Vancouver\", \"iata\": \"YVR\", \"lat\": 49.193889, \"lng\": -123.184444, \"passengers\": 19000000, \"country\": \"Canada\", \"id\": \"YVR\"}, {\"name\": \"Montreal\", \"iata\": \"YUL\", \"lat\": 45.47175, \"lng\": -73.736569, \"passengers\": 15000000, \"country\": \"Canada\", \"id\": \"YUL\"}, {\"name\": \"Mexico-City\", \"iata\": \"MEX\", \"lat\": 19.436303, \"lng\": -99.072097, \"passengers\": 46000000, \"country\": \"Mexico\", \"id\": \"MEX\"}, {\"name\": \"Guatemala-City\", \"iata\": \"GUA\", \"lat\": 14.583272, \"lng\": -90.527475, \"passengers\": 2000000, \"country\": \"Guatemala\", \"id\": \"GUA\"},\n",
        "    {\"name\": \"Buenos Aires\", \"iata\": \"EZE\", \"lat\": -34.822222, \"lng\": -58.535833, \"passengers\": 5000000, \"country\": \"Argentina\", \"id\": \"EZE\"}, {\"name\": \"Sao Paulo\", \"iata\": \"GRU\", \"lat\": -23.432075, \"lng\": -46.469511, \"passengers\": 34000000, \"country\": \"Brazil\", \"id\": \"GRU\"}, {\"name\": \"Santiago de Chile\", \"iata\": \"SCL\", \"lat\": -33.392975, \"lng\": -70.785803, \"passengers\": 20000000, \"country\": \"Chile\", \"id\": \"SCL\"}, {\"name\": \"Brasilia\", \"iata\": \"BSB\", \"lat\": -15.871111, \"lng\": -47.918611, \"passengers\": 13000000, \"country\": \"Brazil\", \"id\": \"BSB\"},\n",
        "    {\"name\": \"Bogota\", \"iata\": \"BOG\", \"lat\": 4.701594, \"lng\": -74.146947, \"passengers\": 36000000, \"country\": \"Colombia\", \"id\": \"BOG\"}, {\"name\": \"Caracas\", \"iata\": \"CCS\", \"lat\": 10.601194, \"lng\": -66.991222, \"passengers\": 8000000, \"country\": \"Venezuela\", \"id\": \"CCS\"}\n",
        "  ]\n",
        "connections = [\n",
        "    {'from': 'LAX','to': 'JFK' },   {'from': 'JFK','to': 'GIG' },    {'from': 'JFK','to': 'LIM' },    {'from': 'JFK','to': 'LHR' },    {'from': 'GIG','to': 'FRA' },    {'from': 'LIM','to': 'GIG' },    {'from': 'FRA','to': 'JFK' },    {'from': 'LHR','to': 'FRA' },    {'from': 'FRA','to': 'SVO' },    {'from': 'FRA','to': 'DXB' },    {'from': 'SVO','to': 'DEL' },\n",
        "    {'from': 'SVO','to': 'PVG' },    {'from': 'DEL','to': 'HKG' },    {'from': 'PVG','to': 'HKG' },    {'from': 'PVG','to': 'NRT' },    {'from': 'HKG','to': 'SYD' },    {'from': 'NRT','to': 'SYD' },    {'from': 'DXB','to': 'SVO' },    {'from': 'DXB','to': 'DEL' },    {'from': 'DXB','to': 'DKR' },    {'from': 'DXB','to': 'JNB' },    {'from': 'JNB','to': 'LHR' },\n",
        "    {'from': 'JNB','to': 'DKR' },    {'from': 'SYD','to': 'DXB' },    {'from': 'NBO','to': 'JNB' },    {'from': 'NBO','to': 'DXB' },    {'from': 'ATL','to': 'JFK' },    {'from': 'LAX','to': 'ATL' },    {'from': 'ATL','to': 'LHR' },    {'from': 'ATL','to': 'LIM' },    {'from': 'SCL','to': 'LIM' },    {'from': 'EZE','to': 'SCL' },    {'from': 'SCL','to': 'GRU' },\n",
        "    {'from': 'GIG','to': 'EZE' },    {'from': 'GIG','to': 'GRU' },    {'from': 'BSB','to': 'GIG' },    {'from': 'SCL','to': 'BSB' },    {'from': 'LIM','to': 'BSB' },    {'from': 'BOG','to': 'BSB' },    {'from': 'CCS','to': 'BSB' },    {'from': 'BOG','to': 'GUA' },    {'from': 'CCS','to': 'MIA' },    {'from': 'GUA','to': 'MIA' },    {'from': 'GUA','to': 'MEX' },\n",
        "    {'from': 'MEX','to': 'LAX' },    {'from': 'MEX','to': 'LAX' },    {'from': 'LAX','to': 'SFO' },    {'from': 'SFO','to': 'YVR' },    {'from': 'LAX','to': 'LAS' },    {'from': 'LAX','to': 'DFW' },    {'from': 'LAX','to': 'ORD' },    {'from': 'SFO','to': 'LAS' },    {'from': 'DFW','to': 'ATL' },    {'from': 'ATL','to': 'YYZ' },    {'from': 'ORD','to': 'YYZ' },\n",
        "    {'from': 'YYZ','to': 'YUL' },    {'from': 'YYZ','to': 'JFK' },    {'from': 'YUL','to': 'JFK' },    {'from': 'JNB','to': 'CPT' },    {'from': 'LOS','to': 'DKR' },    {'from': 'NBO','to': 'LOS' },    {'from': 'DKR','to': 'CMN' },    {'from': 'DKR','to': 'CAI' },    {'from': 'NBO','to': 'CAI' },    {'from': 'DXB','to': 'CAI' },    {'from': 'IKA','to': 'DXB' },\n",
        "    {'from': 'IST','to': 'IKA' },    {'from': 'TLV','to': 'ATH' },    {'from': 'CAI','to': 'TLV' },    {'from': 'ATH','to': 'IST' },    {'from': 'FCO','to': 'ATH' },    {'from': 'LIS','to': 'LHR' },    {'from': 'LIS','to': 'MAD' },    {'from': 'MAD','to': 'BCN' },    {'from': 'CDG','to': 'LHR' },    {'from': 'DUB','to': 'LHR' },    {'from': 'EDI','to': 'LHR' },\n",
        "    {'from': 'CDG','to': 'BCN' },    {'from': 'BCN','to': 'FCO' },    {'from': 'VIE','to': 'IST' },    {'from': 'VIE','to': 'SVO' },    {'from': 'CMN','to': 'LIS' },    {'from': 'MAD','to': 'CMN' },    {'from': 'FRA','to': 'CPH' },    {'from': 'LHR','to': 'CPH' },    {'from': 'CPH','to': 'OSL' },    {'from': 'CPH','to': 'ARN' },    {'from': 'ARN','to': 'HEL' },\n",
        "    {'from': 'HEL','to': 'SVO' },    {'from': 'ULN','to': 'PVG' },    {'from': 'CTU','to': 'PVG' },    {'from': 'PVG','to': 'TPE' },    {'from': 'CTU','to': 'HKG' },    {'from': 'TPE','to': 'HKG' },    {'from': 'HKG','to': 'MNL' },    {'from': 'BKK','to': 'HKG' },    {'from': 'SIN','to': 'KUL' },    {'from': 'SIN','to': 'BKK' },    {'from': 'CGK','to': 'SIN' },\n",
        "    {'from': 'MNL','to': 'SIN' },    {'from': 'SIN','to': 'SYD' },    {'from': 'BNE','to': 'SYD' },    {'from': 'SYD','to': 'MEL' },    {'from': 'NAN','to': 'SYD' },    {'from': 'AKL','to': 'SYD' },    {'from': 'NAN','to': 'AKL' },    {'from': 'RKV','to': 'LHR' },    {'from': 'BCN','to': 'CDG' },    {'from': 'BCN','to': 'FRA' },    {'from': 'FCO','to': 'FRA' },\n",
        "    {'from': 'BOG','to': 'MEX' },    {'from': 'BOG','to': 'GRU' },    {'from': 'ATL','to': 'MIA' },    {'from': 'FRA','to': 'IST' },    {'from': 'IST','to': 'DEL' },    {'from': 'PVG','to': 'BKK' },    {'from': 'DEL','to': 'BKK' },\n",
        "  ]\n",
        "edges = [\n",
        "    {\"start\": connection['from'], \"end\": connection['to'], \"label\": \"\", \"properties\": {}, \"directed\": False}\n",
        "    for connection in connections\n",
        "]\n",
        "nodes = [\n",
        "    {\"id\": airport['iata'], \"properties\": {\"label\": airport['name'], 'passengers': airport['passengers'], 'country': airport['country']}, \"coordinates\": [airport['lat'], airport['lng']]}\n",
        "    for airport in airports\n",
        "]"
      ]
    },
    {
      "cell_type": "markdown",
      "id": "81c226d8-6cfe-45a5-9501-eb1f22164ca2",
      "metadata": {
        "id": "81c226d8-6cfe-45a5-9501-eb1f22164ca2"
      },
      "source": [
        "# New `edge_styles_mapping` and dash-styles\n",
        "\n",
        "The new `edge_styles_mapping` unites all existing edge style settings in a single mapping function and adds a new `dashStyle` property. An in-depth example is provided in [08_styles_mapping.ipynb](../08_styles_mapping.ipynb)."
      ]
    },
    {
      "cell_type": "code",
      "execution_count": 6,
      "id": "c6d6c586-3020-4d8c-9551-2f78b9b9f5f2",
      "metadata": {
        "colab": {
          "base_uri": "https://localhost:8080/",
          "height": 817,
          "referenced_widgets": [
            "6547dc4ff57043389002a0df1194e485",
            "9d0ea187b74f477dba4b04e5a7d46df6"
          ]
        },
        "id": "c6d6c586-3020-4d8c-9551-2f78b9b9f5f2",
        "outputId": "2d125468-3e0c-4097-de4b-f20ba3d984e9"
      },
      "outputs": [
        {
          "output_type": "display_data",
          "data": {
            "text/plain": [
              "GraphWidget(layout=Layout(height='800px', width='100%'))"
            ],
            "application/vnd.jupyter.widget-view+json": {
              "version_major": 2,
              "version_minor": 0,
              "model_id": "6547dc4ff57043389002a0df1194e485"
            }
          },
          "metadata": {
            "application/vnd.jupyter.widget-view+json": {
              "colab": {
                "custom_widget_manager": {
                  "url": "https://ssl.gstatic.com/colaboratory-static/widgets/colab-cdn-widget-manager/2b70e893a8ba7c0f/manager.min.js"
                }
              }
            }
          }
        }
      ],
      "source": [
        "w = GraphWidget()\n",
        "# assign the data\n",
        "w.edges = edges\n",
        "w.nodes = nodes\n",
        "# group airports by country\n",
        "w.node_parent_group_mapping = \"country\"\n",
        "# provide the coordinate mappning to enable the map-view\n",
        "w.node_coordinate_mapping = \"coordinates\"\n",
        "# assign a color mapping to style country nodes differently, otherwise use the widget's default color\n",
        "w.node_color_mapping = lambda node : None if \"passengers\" in node[\"properties\"] else \"gray\"\n",
        "\n",
        "def is_domestic_flight(startAirport, endAirport):\n",
        "    start = next(airport for airport in airports if airport[\"iata\"] == startAirport)\n",
        "    end = next(airport for airport in airports if airport[\"iata\"] == endAirport)\n",
        "    return start[\"country\"] == end[\"country\"]\n",
        "\n",
        "def flight_routes_styling(edge):\n",
        "    start_airport = edge[\"start\"]\n",
        "    end_airport = edge[\"end\"]\n",
        "    domestic_flight = is_domestic_flight(start_airport, end_airport)\n",
        "    return {\n",
        "        \"color\": \"red\" if domestic_flight else \"gray\",\n",
        "        \"directed\": True,\n",
        "        \"thickness\": 4 if domestic_flight else 1,\n",
        "        \"dashStyle\": \"dot\" if domestic_flight else \"solid\"\n",
        "    }\n",
        "\n",
        "# highlight domestic flight routes\n",
        "w.set_edge_styles_mapping(flight_routes_styling)\n",
        "\n",
        "display(w)"
      ]
    },
    {
      "cell_type": "markdown",
      "id": "0899559f-84ef-4774-a469-a5094a9d3450",
      "metadata": {
        "id": "0899559f-84ef-4774-a469-a5094a9d3450"
      },
      "source": [
        "# Configurable `fontWeight`\n",
        "\n",
        "The new `fontWeight` property complements the extensive label styling options as demonstrated in [02a_label_styles_mapping.ipynb](../02a_label_styles_mapping.ipynb)."
      ]
    },
    {
      "cell_type": "code",
      "execution_count": 5,
      "id": "7c777a29-1750-449b-a197-03dee0076b96",
      "metadata": {
        "colab": {
          "base_uri": "https://localhost:8080/",
          "height": 817,
          "referenced_widgets": [
            "a3a9ca6db37f417f8231ac0a7db171c1",
            "38675c0d6e9e43aa9c38a448d9f4b5ac",
            "faa02425a577490fa025e381fc1255fc"
          ]
        },
        "id": "7c777a29-1750-449b-a197-03dee0076b96",
        "outputId": "3f30cdb4-ffdc-4684-f2ca-218775efc4b3"
      },
      "outputs": [
        {
          "output_type": "display_data",
          "data": {
            "text/plain": [
              "GraphWidget(layout=Layout(height='800px', width='100%'))"
            ],
            "application/vnd.jupyter.widget-view+json": {
              "version_major": 2,
              "version_minor": 0,
              "model_id": "a3a9ca6db37f417f8231ac0a7db171c1"
            }
          },
          "metadata": {
            "application/vnd.jupyter.widget-view+json": {
              "colab": {
                "custom_widget_manager": {
                  "url": "https://ssl.gstatic.com/colaboratory-static/widgets/colab-cdn-widget-manager/2b70e893a8ba7c0f/manager.min.js"
                }
              }
            }
          }
        }
      ],
      "source": [
        "# don't show groups in this example\n",
        "w.del_node_parent_group_mapping()\n",
        "\n",
        "# show bold edge labels for domestic flights\n",
        "def edge_label_mapping(edge):\n",
        "    start_airport = edge[\"start\"]\n",
        "    end_airport = edge[\"end\"]\n",
        "    domestic_flight = is_domestic_flight(start_airport, end_airport)\n",
        "    return {\n",
        "        \"text\": \"domestic\" if domestic_flight else None,\n",
        "        \"fontSize\": 20,\n",
        "        \"fontWeight\": \"bold\"\n",
        "    }\n",
        "\n",
        "w.set_edge_label_mapping(edge_label_mapping)\n",
        "\n",
        "# use hierarchic arrangement in this case\n",
        "w.hierarchic_layout()\n",
        "\n",
        "display(w)"
      ]
    },
    {
      "cell_type": "code",
      "execution_count": 5,
      "id": "1e4be9d4-5ac3-48b3-ba73-7e1f81f3ab76",
      "metadata": {
        "id": "1e4be9d4-5ac3-48b3-ba73-7e1f81f3ab76"
      },
      "outputs": [],
      "source": []
    }
  ],
  "metadata": {
    "kernelspec": {
      "display_name": "Python 3 (ipykernel)",
      "language": "python",
      "name": "python3"
    },
    "language_info": {
      "codemirror_mode": {
        "name": "ipython",
        "version": 3
      },
      "file_extension": ".py",
      "mimetype": "text/x-python",
      "name": "python",
      "nbconvert_exporter": "python",
      "pygments_lexer": "ipython3",
      "version": "3.12.3"
    },
    "widgets": {
      "application/vnd.jupyter.widget-state+json": {
        "6547dc4ff57043389002a0df1194e485": {
          "model_module": "yfiles-jupyter-graphs",
          "model_name": "GraphModel",
          "model_module_version": "^1.10.0",
          "state": {
            "_context_pane_mapping": [
              {
                "id": "Neighborhood",
                "title": "Neighborhood"
              },
              {
                "id": "Data",
                "title": "Data"
              },
              {
                "id": "Search",
                "title": "Search"
              },
              {
                "id": "About",
                "title": "About"
              }
            ],
            "_data_importer": "unknown",
            "_directed": false,
            "_dom_classes": [],
            "_edges": [
              {
                "start": "LAX",
                "end": "JFK",
                "label": "",
                "properties": {},
                "directed": false,
                "color": "#15AFAC",
                "thickness_factor": 1,
                "styles": {
                  "color": "red",
                  "directed": true,
                  "thickness": 4,
                  "dashStyle": "dot"
                }
              },
              {
                "start": "JFK",
                "end": "GIG",
                "label": "",
                "properties": {},
                "directed": false,
                "color": "#15AFAC",
                "thickness_factor": 1,
                "styles": {
                  "color": "gray",
                  "directed": true,
                  "thickness": 1,
                  "dashStyle": "solid"
                }
              },
              {
                "start": "JFK",
                "end": "LIM",
                "label": "",
                "properties": {},
                "directed": false,
                "color": "#15AFAC",
                "thickness_factor": 1,
                "styles": {
                  "color": "gray",
                  "directed": true,
                  "thickness": 1,
                  "dashStyle": "solid"
                }
              },
              {
                "start": "JFK",
                "end": "LHR",
                "label": "",
                "properties": {},
                "directed": false,
                "color": "#15AFAC",
                "thickness_factor": 1,
                "styles": {
                  "color": "gray",
                  "directed": true,
                  "thickness": 1,
                  "dashStyle": "solid"
                }
              },
              {
                "start": "GIG",
                "end": "FRA",
                "label": "",
                "properties": {},
                "directed": false,
                "color": "#15AFAC",
                "thickness_factor": 1,
                "styles": {
                  "color": "gray",
                  "directed": true,
                  "thickness": 1,
                  "dashStyle": "solid"
                }
              },
              {
                "start": "LIM",
                "end": "GIG",
                "label": "",
                "properties": {},
                "directed": false,
                "color": "#15AFAC",
                "thickness_factor": 1,
                "styles": {
                  "color": "gray",
                  "directed": true,
                  "thickness": 1,
                  "dashStyle": "solid"
                }
              },
              {
                "start": "FRA",
                "end": "JFK",
                "label": "",
                "properties": {},
                "directed": false,
                "color": "#15AFAC",
                "thickness_factor": 1,
                "styles": {
                  "color": "gray",
                  "directed": true,
                  "thickness": 1,
                  "dashStyle": "solid"
                }
              },
              {
                "start": "LHR",
                "end": "FRA",
                "label": "",
                "properties": {},
                "directed": false,
                "color": "#15AFAC",
                "thickness_factor": 1,
                "styles": {
                  "color": "gray",
                  "directed": true,
                  "thickness": 1,
                  "dashStyle": "solid"
                }
              },
              {
                "start": "FRA",
                "end": "SVO",
                "label": "",
                "properties": {},
                "directed": false,
                "color": "#15AFAC",
                "thickness_factor": 1,
                "styles": {
                  "color": "gray",
                  "directed": true,
                  "thickness": 1,
                  "dashStyle": "solid"
                }
              },
              {
                "start": "FRA",
                "end": "DXB",
                "label": "",
                "properties": {},
                "directed": false,
                "color": "#15AFAC",
                "thickness_factor": 1,
                "styles": {
                  "color": "gray",
                  "directed": true,
                  "thickness": 1,
                  "dashStyle": "solid"
                }
              },
              {
                "start": "SVO",
                "end": "DEL",
                "label": "",
                "properties": {},
                "directed": false,
                "color": "#15AFAC",
                "thickness_factor": 1,
                "styles": {
                  "color": "gray",
                  "directed": true,
                  "thickness": 1,
                  "dashStyle": "solid"
                }
              },
              {
                "start": "SVO",
                "end": "PVG",
                "label": "",
                "properties": {},
                "directed": false,
                "color": "#15AFAC",
                "thickness_factor": 1,
                "styles": {
                  "color": "gray",
                  "directed": true,
                  "thickness": 1,
                  "dashStyle": "solid"
                }
              },
              {
                "start": "DEL",
                "end": "HKG",
                "label": "",
                "properties": {},
                "directed": false,
                "color": "#15AFAC",
                "thickness_factor": 1,
                "styles": {
                  "color": "gray",
                  "directed": true,
                  "thickness": 1,
                  "dashStyle": "solid"
                }
              },
              {
                "start": "PVG",
                "end": "HKG",
                "label": "",
                "properties": {},
                "directed": false,
                "color": "#15AFAC",
                "thickness_factor": 1,
                "styles": {
                  "color": "red",
                  "directed": true,
                  "thickness": 4,
                  "dashStyle": "dot"
                }
              },
              {
                "start": "PVG",
                "end": "NRT",
                "label": "",
                "properties": {},
                "directed": false,
                "color": "#15AFAC",
                "thickness_factor": 1,
                "styles": {
                  "color": "gray",
                  "directed": true,
                  "thickness": 1,
                  "dashStyle": "solid"
                }
              },
              {
                "start": "HKG",
                "end": "SYD",
                "label": "",
                "properties": {},
                "directed": false,
                "color": "#15AFAC",
                "thickness_factor": 1,
                "styles": {
                  "color": "gray",
                  "directed": true,
                  "thickness": 1,
                  "dashStyle": "solid"
                }
              },
              {
                "start": "NRT",
                "end": "SYD",
                "label": "",
                "properties": {},
                "directed": false,
                "color": "#15AFAC",
                "thickness_factor": 1,
                "styles": {
                  "color": "gray",
                  "directed": true,
                  "thickness": 1,
                  "dashStyle": "solid"
                }
              },
              {
                "start": "DXB",
                "end": "SVO",
                "label": "",
                "properties": {},
                "directed": false,
                "color": "#15AFAC",
                "thickness_factor": 1,
                "styles": {
                  "color": "gray",
                  "directed": true,
                  "thickness": 1,
                  "dashStyle": "solid"
                }
              },
              {
                "start": "DXB",
                "end": "DEL",
                "label": "",
                "properties": {},
                "directed": false,
                "color": "#15AFAC",
                "thickness_factor": 1,
                "styles": {
                  "color": "gray",
                  "directed": true,
                  "thickness": 1,
                  "dashStyle": "solid"
                }
              },
              {
                "start": "DXB",
                "end": "DKR",
                "label": "",
                "properties": {},
                "directed": false,
                "color": "#15AFAC",
                "thickness_factor": 1,
                "styles": {
                  "color": "gray",
                  "directed": true,
                  "thickness": 1,
                  "dashStyle": "solid"
                }
              },
              {
                "start": "DXB",
                "end": "JNB",
                "label": "",
                "properties": {},
                "directed": false,
                "color": "#15AFAC",
                "thickness_factor": 1,
                "styles": {
                  "color": "gray",
                  "directed": true,
                  "thickness": 1,
                  "dashStyle": "solid"
                }
              },
              {
                "start": "JNB",
                "end": "LHR",
                "label": "",
                "properties": {},
                "directed": false,
                "color": "#15AFAC",
                "thickness_factor": 1,
                "styles": {
                  "color": "gray",
                  "directed": true,
                  "thickness": 1,
                  "dashStyle": "solid"
                }
              },
              {
                "start": "JNB",
                "end": "DKR",
                "label": "",
                "properties": {},
                "directed": false,
                "color": "#15AFAC",
                "thickness_factor": 1,
                "styles": {
                  "color": "gray",
                  "directed": true,
                  "thickness": 1,
                  "dashStyle": "solid"
                }
              },
              {
                "start": "SYD",
                "end": "DXB",
                "label": "",
                "properties": {},
                "directed": false,
                "color": "#15AFAC",
                "thickness_factor": 1,
                "styles": {
                  "color": "gray",
                  "directed": true,
                  "thickness": 1,
                  "dashStyle": "solid"
                }
              },
              {
                "start": "NBO",
                "end": "JNB",
                "label": "",
                "properties": {},
                "directed": false,
                "color": "#15AFAC",
                "thickness_factor": 1,
                "styles": {
                  "color": "gray",
                  "directed": true,
                  "thickness": 1,
                  "dashStyle": "solid"
                }
              },
              {
                "start": "NBO",
                "end": "DXB",
                "label": "",
                "properties": {},
                "directed": false,
                "color": "#15AFAC",
                "thickness_factor": 1,
                "styles": {
                  "color": "gray",
                  "directed": true,
                  "thickness": 1,
                  "dashStyle": "solid"
                }
              },
              {
                "start": "ATL",
                "end": "JFK",
                "label": "",
                "properties": {},
                "directed": false,
                "color": "#15AFAC",
                "thickness_factor": 1,
                "styles": {
                  "color": "red",
                  "directed": true,
                  "thickness": 4,
                  "dashStyle": "dot"
                }
              },
              {
                "start": "LAX",
                "end": "ATL",
                "label": "",
                "properties": {},
                "directed": false,
                "color": "#15AFAC",
                "thickness_factor": 1,
                "styles": {
                  "color": "red",
                  "directed": true,
                  "thickness": 4,
                  "dashStyle": "dot"
                }
              },
              {
                "start": "ATL",
                "end": "LHR",
                "label": "",
                "properties": {},
                "directed": false,
                "color": "#15AFAC",
                "thickness_factor": 1,
                "styles": {
                  "color": "gray",
                  "directed": true,
                  "thickness": 1,
                  "dashStyle": "solid"
                }
              },
              {
                "start": "ATL",
                "end": "LIM",
                "label": "",
                "properties": {},
                "directed": false,
                "color": "#15AFAC",
                "thickness_factor": 1,
                "styles": {
                  "color": "gray",
                  "directed": true,
                  "thickness": 1,
                  "dashStyle": "solid"
                }
              },
              {
                "start": "SCL",
                "end": "LIM",
                "label": "",
                "properties": {},
                "directed": false,
                "color": "#15AFAC",
                "thickness_factor": 1,
                "styles": {
                  "color": "gray",
                  "directed": true,
                  "thickness": 1,
                  "dashStyle": "solid"
                }
              },
              {
                "start": "EZE",
                "end": "SCL",
                "label": "",
                "properties": {},
                "directed": false,
                "color": "#15AFAC",
                "thickness_factor": 1,
                "styles": {
                  "color": "gray",
                  "directed": true,
                  "thickness": 1,
                  "dashStyle": "solid"
                }
              },
              {
                "start": "SCL",
                "end": "GRU",
                "label": "",
                "properties": {},
                "directed": false,
                "color": "#15AFAC",
                "thickness_factor": 1,
                "styles": {
                  "color": "gray",
                  "directed": true,
                  "thickness": 1,
                  "dashStyle": "solid"
                }
              },
              {
                "start": "GIG",
                "end": "EZE",
                "label": "",
                "properties": {},
                "directed": false,
                "color": "#15AFAC",
                "thickness_factor": 1,
                "styles": {
                  "color": "gray",
                  "directed": true,
                  "thickness": 1,
                  "dashStyle": "solid"
                }
              },
              {
                "start": "GIG",
                "end": "GRU",
                "label": "",
                "properties": {},
                "directed": false,
                "color": "#15AFAC",
                "thickness_factor": 1,
                "styles": {
                  "color": "red",
                  "directed": true,
                  "thickness": 4,
                  "dashStyle": "dot"
                }
              },
              {
                "start": "BSB",
                "end": "GIG",
                "label": "",
                "properties": {},
                "directed": false,
                "color": "#15AFAC",
                "thickness_factor": 1,
                "styles": {
                  "color": "red",
                  "directed": true,
                  "thickness": 4,
                  "dashStyle": "dot"
                }
              },
              {
                "start": "SCL",
                "end": "BSB",
                "label": "",
                "properties": {},
                "directed": false,
                "color": "#15AFAC",
                "thickness_factor": 1,
                "styles": {
                  "color": "gray",
                  "directed": true,
                  "thickness": 1,
                  "dashStyle": "solid"
                }
              },
              {
                "start": "LIM",
                "end": "BSB",
                "label": "",
                "properties": {},
                "directed": false,
                "color": "#15AFAC",
                "thickness_factor": 1,
                "styles": {
                  "color": "gray",
                  "directed": true,
                  "thickness": 1,
                  "dashStyle": "solid"
                }
              },
              {
                "start": "BOG",
                "end": "BSB",
                "label": "",
                "properties": {},
                "directed": false,
                "color": "#15AFAC",
                "thickness_factor": 1,
                "styles": {
                  "color": "gray",
                  "directed": true,
                  "thickness": 1,
                  "dashStyle": "solid"
                }
              },
              {
                "start": "CCS",
                "end": "BSB",
                "label": "",
                "properties": {},
                "directed": false,
                "color": "#15AFAC",
                "thickness_factor": 1,
                "styles": {
                  "color": "gray",
                  "directed": true,
                  "thickness": 1,
                  "dashStyle": "solid"
                }
              },
              {
                "start": "BOG",
                "end": "GUA",
                "label": "",
                "properties": {},
                "directed": false,
                "color": "#15AFAC",
                "thickness_factor": 1,
                "styles": {
                  "color": "gray",
                  "directed": true,
                  "thickness": 1,
                  "dashStyle": "solid"
                }
              },
              {
                "start": "CCS",
                "end": "MIA",
                "label": "",
                "properties": {},
                "directed": false,
                "color": "#15AFAC",
                "thickness_factor": 1,
                "styles": {
                  "color": "gray",
                  "directed": true,
                  "thickness": 1,
                  "dashStyle": "solid"
                }
              },
              {
                "start": "GUA",
                "end": "MIA",
                "label": "",
                "properties": {},
                "directed": false,
                "color": "#15AFAC",
                "thickness_factor": 1,
                "styles": {
                  "color": "gray",
                  "directed": true,
                  "thickness": 1,
                  "dashStyle": "solid"
                }
              },
              {
                "start": "GUA",
                "end": "MEX",
                "label": "",
                "properties": {},
                "directed": false,
                "color": "#15AFAC",
                "thickness_factor": 1,
                "styles": {
                  "color": "gray",
                  "directed": true,
                  "thickness": 1,
                  "dashStyle": "solid"
                }
              },
              {
                "start": "MEX",
                "end": "LAX",
                "label": "",
                "properties": {},
                "directed": false,
                "color": "#15AFAC",
                "thickness_factor": 1,
                "styles": {
                  "color": "gray",
                  "directed": true,
                  "thickness": 1,
                  "dashStyle": "solid"
                }
              },
              {
                "start": "MEX",
                "end": "LAX",
                "label": "",
                "properties": {},
                "directed": false,
                "color": "#15AFAC",
                "thickness_factor": 1,
                "styles": {
                  "color": "gray",
                  "directed": true,
                  "thickness": 1,
                  "dashStyle": "solid"
                }
              },
              {
                "start": "LAX",
                "end": "SFO",
                "label": "",
                "properties": {},
                "directed": false,
                "color": "#15AFAC",
                "thickness_factor": 1,
                "styles": {
                  "color": "red",
                  "directed": true,
                  "thickness": 4,
                  "dashStyle": "dot"
                }
              },
              {
                "start": "SFO",
                "end": "YVR",
                "label": "",
                "properties": {},
                "directed": false,
                "color": "#15AFAC",
                "thickness_factor": 1,
                "styles": {
                  "color": "gray",
                  "directed": true,
                  "thickness": 1,
                  "dashStyle": "solid"
                }
              },
              {
                "start": "LAX",
                "end": "LAS",
                "label": "",
                "properties": {},
                "directed": false,
                "color": "#15AFAC",
                "thickness_factor": 1,
                "styles": {
                  "color": "red",
                  "directed": true,
                  "thickness": 4,
                  "dashStyle": "dot"
                }
              },
              {
                "start": "LAX",
                "end": "DFW",
                "label": "",
                "properties": {},
                "directed": false,
                "color": "#15AFAC",
                "thickness_factor": 1,
                "styles": {
                  "color": "red",
                  "directed": true,
                  "thickness": 4,
                  "dashStyle": "dot"
                }
              },
              {
                "start": "LAX",
                "end": "ORD",
                "label": "",
                "properties": {},
                "directed": false,
                "color": "#15AFAC",
                "thickness_factor": 1,
                "styles": {
                  "color": "red",
                  "directed": true,
                  "thickness": 4,
                  "dashStyle": "dot"
                }
              },
              {
                "start": "SFO",
                "end": "LAS",
                "label": "",
                "properties": {},
                "directed": false,
                "color": "#15AFAC",
                "thickness_factor": 1,
                "styles": {
                  "color": "red",
                  "directed": true,
                  "thickness": 4,
                  "dashStyle": "dot"
                }
              },
              {
                "start": "DFW",
                "end": "ATL",
                "label": "",
                "properties": {},
                "directed": false,
                "color": "#15AFAC",
                "thickness_factor": 1,
                "styles": {
                  "color": "red",
                  "directed": true,
                  "thickness": 4,
                  "dashStyle": "dot"
                }
              },
              {
                "start": "ATL",
                "end": "YYZ",
                "label": "",
                "properties": {},
                "directed": false,
                "color": "#15AFAC",
                "thickness_factor": 1,
                "styles": {
                  "color": "gray",
                  "directed": true,
                  "thickness": 1,
                  "dashStyle": "solid"
                }
              },
              {
                "start": "ORD",
                "end": "YYZ",
                "label": "",
                "properties": {},
                "directed": false,
                "color": "#15AFAC",
                "thickness_factor": 1,
                "styles": {
                  "color": "gray",
                  "directed": true,
                  "thickness": 1,
                  "dashStyle": "solid"
                }
              },
              {
                "start": "YYZ",
                "end": "YUL",
                "label": "",
                "properties": {},
                "directed": false,
                "color": "#15AFAC",
                "thickness_factor": 1,
                "styles": {
                  "color": "red",
                  "directed": true,
                  "thickness": 4,
                  "dashStyle": "dot"
                }
              },
              {
                "start": "YYZ",
                "end": "JFK",
                "label": "",
                "properties": {},
                "directed": false,
                "color": "#15AFAC",
                "thickness_factor": 1,
                "styles": {
                  "color": "gray",
                  "directed": true,
                  "thickness": 1,
                  "dashStyle": "solid"
                }
              },
              {
                "start": "YUL",
                "end": "JFK",
                "label": "",
                "properties": {},
                "directed": false,
                "color": "#15AFAC",
                "thickness_factor": 1,
                "styles": {
                  "color": "gray",
                  "directed": true,
                  "thickness": 1,
                  "dashStyle": "solid"
                }
              },
              {
                "start": "JNB",
                "end": "CPT",
                "label": "",
                "properties": {},
                "directed": false,
                "color": "#15AFAC",
                "thickness_factor": 1,
                "styles": {
                  "color": "red",
                  "directed": true,
                  "thickness": 4,
                  "dashStyle": "dot"
                }
              },
              {
                "start": "LOS",
                "end": "DKR",
                "label": "",
                "properties": {},
                "directed": false,
                "color": "#15AFAC",
                "thickness_factor": 1,
                "styles": {
                  "color": "gray",
                  "directed": true,
                  "thickness": 1,
                  "dashStyle": "solid"
                }
              },
              {
                "start": "NBO",
                "end": "LOS",
                "label": "",
                "properties": {},
                "directed": false,
                "color": "#15AFAC",
                "thickness_factor": 1,
                "styles": {
                  "color": "gray",
                  "directed": true,
                  "thickness": 1,
                  "dashStyle": "solid"
                }
              },
              {
                "start": "DKR",
                "end": "CMN",
                "label": "",
                "properties": {},
                "directed": false,
                "color": "#15AFAC",
                "thickness_factor": 1,
                "styles": {
                  "color": "gray",
                  "directed": true,
                  "thickness": 1,
                  "dashStyle": "solid"
                }
              },
              {
                "start": "DKR",
                "end": "CAI",
                "label": "",
                "properties": {},
                "directed": false,
                "color": "#15AFAC",
                "thickness_factor": 1,
                "styles": {
                  "color": "gray",
                  "directed": true,
                  "thickness": 1,
                  "dashStyle": "solid"
                }
              },
              {
                "start": "NBO",
                "end": "CAI",
                "label": "",
                "properties": {},
                "directed": false,
                "color": "#15AFAC",
                "thickness_factor": 1,
                "styles": {
                  "color": "gray",
                  "directed": true,
                  "thickness": 1,
                  "dashStyle": "solid"
                }
              },
              {
                "start": "DXB",
                "end": "CAI",
                "label": "",
                "properties": {},
                "directed": false,
                "color": "#15AFAC",
                "thickness_factor": 1,
                "styles": {
                  "color": "gray",
                  "directed": true,
                  "thickness": 1,
                  "dashStyle": "solid"
                }
              },
              {
                "start": "IKA",
                "end": "DXB",
                "label": "",
                "properties": {},
                "directed": false,
                "color": "#15AFAC",
                "thickness_factor": 1,
                "styles": {
                  "color": "gray",
                  "directed": true,
                  "thickness": 1,
                  "dashStyle": "solid"
                }
              },
              {
                "start": "IST",
                "end": "IKA",
                "label": "",
                "properties": {},
                "directed": false,
                "color": "#15AFAC",
                "thickness_factor": 1,
                "styles": {
                  "color": "gray",
                  "directed": true,
                  "thickness": 1,
                  "dashStyle": "solid"
                }
              },
              {
                "start": "TLV",
                "end": "ATH",
                "label": "",
                "properties": {},
                "directed": false,
                "color": "#15AFAC",
                "thickness_factor": 1,
                "styles": {
                  "color": "gray",
                  "directed": true,
                  "thickness": 1,
                  "dashStyle": "solid"
                }
              },
              {
                "start": "CAI",
                "end": "TLV",
                "label": "",
                "properties": {},
                "directed": false,
                "color": "#15AFAC",
                "thickness_factor": 1,
                "styles": {
                  "color": "gray",
                  "directed": true,
                  "thickness": 1,
                  "dashStyle": "solid"
                }
              },
              {
                "start": "ATH",
                "end": "IST",
                "label": "",
                "properties": {},
                "directed": false,
                "color": "#15AFAC",
                "thickness_factor": 1,
                "styles": {
                  "color": "gray",
                  "directed": true,
                  "thickness": 1,
                  "dashStyle": "solid"
                }
              },
              {
                "start": "FCO",
                "end": "ATH",
                "label": "",
                "properties": {},
                "directed": false,
                "color": "#15AFAC",
                "thickness_factor": 1,
                "styles": {
                  "color": "gray",
                  "directed": true,
                  "thickness": 1,
                  "dashStyle": "solid"
                }
              },
              {
                "start": "LIS",
                "end": "LHR",
                "label": "",
                "properties": {},
                "directed": false,
                "color": "#15AFAC",
                "thickness_factor": 1,
                "styles": {
                  "color": "gray",
                  "directed": true,
                  "thickness": 1,
                  "dashStyle": "solid"
                }
              },
              {
                "start": "LIS",
                "end": "MAD",
                "label": "",
                "properties": {},
                "directed": false,
                "color": "#15AFAC",
                "thickness_factor": 1,
                "styles": {
                  "color": "gray",
                  "directed": true,
                  "thickness": 1,
                  "dashStyle": "solid"
                }
              },
              {
                "start": "MAD",
                "end": "BCN",
                "label": "",
                "properties": {},
                "directed": false,
                "color": "#15AFAC",
                "thickness_factor": 1,
                "styles": {
                  "color": "red",
                  "directed": true,
                  "thickness": 4,
                  "dashStyle": "dot"
                }
              },
              {
                "start": "CDG",
                "end": "LHR",
                "label": "",
                "properties": {},
                "directed": false,
                "color": "#15AFAC",
                "thickness_factor": 1,
                "styles": {
                  "color": "gray",
                  "directed": true,
                  "thickness": 1,
                  "dashStyle": "solid"
                }
              },
              {
                "start": "DUB",
                "end": "LHR",
                "label": "",
                "properties": {},
                "directed": false,
                "color": "#15AFAC",
                "thickness_factor": 1,
                "styles": {
                  "color": "gray",
                  "directed": true,
                  "thickness": 1,
                  "dashStyle": "solid"
                }
              },
              {
                "start": "EDI",
                "end": "LHR",
                "label": "",
                "properties": {},
                "directed": false,
                "color": "#15AFAC",
                "thickness_factor": 1,
                "styles": {
                  "color": "red",
                  "directed": true,
                  "thickness": 4,
                  "dashStyle": "dot"
                }
              },
              {
                "start": "CDG",
                "end": "BCN",
                "label": "",
                "properties": {},
                "directed": false,
                "color": "#15AFAC",
                "thickness_factor": 1,
                "styles": {
                  "color": "gray",
                  "directed": true,
                  "thickness": 1,
                  "dashStyle": "solid"
                }
              },
              {
                "start": "BCN",
                "end": "FCO",
                "label": "",
                "properties": {},
                "directed": false,
                "color": "#15AFAC",
                "thickness_factor": 1,
                "styles": {
                  "color": "gray",
                  "directed": true,
                  "thickness": 1,
                  "dashStyle": "solid"
                }
              },
              {
                "start": "VIE",
                "end": "IST",
                "label": "",
                "properties": {},
                "directed": false,
                "color": "#15AFAC",
                "thickness_factor": 1,
                "styles": {
                  "color": "gray",
                  "directed": true,
                  "thickness": 1,
                  "dashStyle": "solid"
                }
              },
              {
                "start": "VIE",
                "end": "SVO",
                "label": "",
                "properties": {},
                "directed": false,
                "color": "#15AFAC",
                "thickness_factor": 1,
                "styles": {
                  "color": "gray",
                  "directed": true,
                  "thickness": 1,
                  "dashStyle": "solid"
                }
              },
              {
                "start": "CMN",
                "end": "LIS",
                "label": "",
                "properties": {},
                "directed": false,
                "color": "#15AFAC",
                "thickness_factor": 1,
                "styles": {
                  "color": "gray",
                  "directed": true,
                  "thickness": 1,
                  "dashStyle": "solid"
                }
              },
              {
                "start": "MAD",
                "end": "CMN",
                "label": "",
                "properties": {},
                "directed": false,
                "color": "#15AFAC",
                "thickness_factor": 1,
                "styles": {
                  "color": "gray",
                  "directed": true,
                  "thickness": 1,
                  "dashStyle": "solid"
                }
              },
              {
                "start": "FRA",
                "end": "CPH",
                "label": "",
                "properties": {},
                "directed": false,
                "color": "#15AFAC",
                "thickness_factor": 1,
                "styles": {
                  "color": "gray",
                  "directed": true,
                  "thickness": 1,
                  "dashStyle": "solid"
                }
              },
              {
                "start": "LHR",
                "end": "CPH",
                "label": "",
                "properties": {},
                "directed": false,
                "color": "#15AFAC",
                "thickness_factor": 1,
                "styles": {
                  "color": "gray",
                  "directed": true,
                  "thickness": 1,
                  "dashStyle": "solid"
                }
              },
              {
                "start": "CPH",
                "end": "OSL",
                "label": "",
                "properties": {},
                "directed": false,
                "color": "#15AFAC",
                "thickness_factor": 1,
                "styles": {
                  "color": "gray",
                  "directed": true,
                  "thickness": 1,
                  "dashStyle": "solid"
                }
              },
              {
                "start": "CPH",
                "end": "ARN",
                "label": "",
                "properties": {},
                "directed": false,
                "color": "#15AFAC",
                "thickness_factor": 1,
                "styles": {
                  "color": "gray",
                  "directed": true,
                  "thickness": 1,
                  "dashStyle": "solid"
                }
              },
              {
                "start": "ARN",
                "end": "HEL",
                "label": "",
                "properties": {},
                "directed": false,
                "color": "#15AFAC",
                "thickness_factor": 1,
                "styles": {
                  "color": "gray",
                  "directed": true,
                  "thickness": 1,
                  "dashStyle": "solid"
                }
              },
              {
                "start": "HEL",
                "end": "SVO",
                "label": "",
                "properties": {},
                "directed": false,
                "color": "#15AFAC",
                "thickness_factor": 1,
                "styles": {
                  "color": "gray",
                  "directed": true,
                  "thickness": 1,
                  "dashStyle": "solid"
                }
              },
              {
                "start": "ULN",
                "end": "PVG",
                "label": "",
                "properties": {},
                "directed": false,
                "color": "#15AFAC",
                "thickness_factor": 1,
                "styles": {
                  "color": "gray",
                  "directed": true,
                  "thickness": 1,
                  "dashStyle": "solid"
                }
              },
              {
                "start": "CTU",
                "end": "PVG",
                "label": "",
                "properties": {},
                "directed": false,
                "color": "#15AFAC",
                "thickness_factor": 1,
                "styles": {
                  "color": "red",
                  "directed": true,
                  "thickness": 4,
                  "dashStyle": "dot"
                }
              },
              {
                "start": "PVG",
                "end": "TPE",
                "label": "",
                "properties": {},
                "directed": false,
                "color": "#15AFAC",
                "thickness_factor": 1,
                "styles": {
                  "color": "gray",
                  "directed": true,
                  "thickness": 1,
                  "dashStyle": "solid"
                }
              },
              {
                "start": "CTU",
                "end": "HKG",
                "label": "",
                "properties": {},
                "directed": false,
                "color": "#15AFAC",
                "thickness_factor": 1,
                "styles": {
                  "color": "red",
                  "directed": true,
                  "thickness": 4,
                  "dashStyle": "dot"
                }
              },
              {
                "start": "TPE",
                "end": "HKG",
                "label": "",
                "properties": {},
                "directed": false,
                "color": "#15AFAC",
                "thickness_factor": 1,
                "styles": {
                  "color": "gray",
                  "directed": true,
                  "thickness": 1,
                  "dashStyle": "solid"
                }
              },
              {
                "start": "HKG",
                "end": "MNL",
                "label": "",
                "properties": {},
                "directed": false,
                "color": "#15AFAC",
                "thickness_factor": 1,
                "styles": {
                  "color": "gray",
                  "directed": true,
                  "thickness": 1,
                  "dashStyle": "solid"
                }
              },
              {
                "start": "BKK",
                "end": "HKG",
                "label": "",
                "properties": {},
                "directed": false,
                "color": "#15AFAC",
                "thickness_factor": 1,
                "styles": {
                  "color": "gray",
                  "directed": true,
                  "thickness": 1,
                  "dashStyle": "solid"
                }
              },
              {
                "start": "SIN",
                "end": "KUL",
                "label": "",
                "properties": {},
                "directed": false,
                "color": "#15AFAC",
                "thickness_factor": 1,
                "styles": {
                  "color": "gray",
                  "directed": true,
                  "thickness": 1,
                  "dashStyle": "solid"
                }
              },
              {
                "start": "SIN",
                "end": "BKK",
                "label": "",
                "properties": {},
                "directed": false,
                "color": "#15AFAC",
                "thickness_factor": 1,
                "styles": {
                  "color": "gray",
                  "directed": true,
                  "thickness": 1,
                  "dashStyle": "solid"
                }
              },
              {
                "start": "CGK",
                "end": "SIN",
                "label": "",
                "properties": {},
                "directed": false,
                "color": "#15AFAC",
                "thickness_factor": 1,
                "styles": {
                  "color": "gray",
                  "directed": true,
                  "thickness": 1,
                  "dashStyle": "solid"
                }
              },
              {
                "start": "MNL",
                "end": "SIN",
                "label": "",
                "properties": {},
                "directed": false,
                "color": "#15AFAC",
                "thickness_factor": 1,
                "styles": {
                  "color": "gray",
                  "directed": true,
                  "thickness": 1,
                  "dashStyle": "solid"
                }
              },
              {
                "start": "SIN",
                "end": "SYD",
                "label": "",
                "properties": {},
                "directed": false,
                "color": "#15AFAC",
                "thickness_factor": 1,
                "styles": {
                  "color": "gray",
                  "directed": true,
                  "thickness": 1,
                  "dashStyle": "solid"
                }
              },
              {
                "start": "BNE",
                "end": "SYD",
                "label": "",
                "properties": {},
                "directed": false,
                "color": "#15AFAC",
                "thickness_factor": 1,
                "styles": {
                  "color": "red",
                  "directed": true,
                  "thickness": 4,
                  "dashStyle": "dot"
                }
              },
              {
                "start": "SYD",
                "end": "MEL",
                "label": "",
                "properties": {},
                "directed": false,
                "color": "#15AFAC",
                "thickness_factor": 1,
                "styles": {
                  "color": "red",
                  "directed": true,
                  "thickness": 4,
                  "dashStyle": "dot"
                }
              },
              {
                "start": "NAN",
                "end": "SYD",
                "label": "",
                "properties": {},
                "directed": false,
                "color": "#15AFAC",
                "thickness_factor": 1,
                "styles": {
                  "color": "gray",
                  "directed": true,
                  "thickness": 1,
                  "dashStyle": "solid"
                }
              },
              {
                "start": "AKL",
                "end": "SYD",
                "label": "",
                "properties": {},
                "directed": false,
                "color": "#15AFAC",
                "thickness_factor": 1,
                "styles": {
                  "color": "gray",
                  "directed": true,
                  "thickness": 1,
                  "dashStyle": "solid"
                }
              },
              {
                "start": "NAN",
                "end": "AKL",
                "label": "",
                "properties": {},
                "directed": false,
                "color": "#15AFAC",
                "thickness_factor": 1,
                "styles": {
                  "color": "gray",
                  "directed": true,
                  "thickness": 1,
                  "dashStyle": "solid"
                }
              },
              {
                "start": "RKV",
                "end": "LHR",
                "label": "",
                "properties": {},
                "directed": false,
                "color": "#15AFAC",
                "thickness_factor": 1,
                "styles": {
                  "color": "gray",
                  "directed": true,
                  "thickness": 1,
                  "dashStyle": "solid"
                }
              },
              {
                "start": "BCN",
                "end": "CDG",
                "label": "",
                "properties": {},
                "directed": false,
                "color": "#15AFAC",
                "thickness_factor": 1,
                "styles": {
                  "color": "gray",
                  "directed": true,
                  "thickness": 1,
                  "dashStyle": "solid"
                }
              },
              {
                "start": "BCN",
                "end": "FRA",
                "label": "",
                "properties": {},
                "directed": false,
                "color": "#15AFAC",
                "thickness_factor": 1,
                "styles": {
                  "color": "gray",
                  "directed": true,
                  "thickness": 1,
                  "dashStyle": "solid"
                }
              },
              {
                "start": "FCO",
                "end": "FRA",
                "label": "",
                "properties": {},
                "directed": false,
                "color": "#15AFAC",
                "thickness_factor": 1,
                "styles": {
                  "color": "gray",
                  "directed": true,
                  "thickness": 1,
                  "dashStyle": "solid"
                }
              },
              {
                "start": "BOG",
                "end": "MEX",
                "label": "",
                "properties": {},
                "directed": false,
                "color": "#15AFAC",
                "thickness_factor": 1,
                "styles": {
                  "color": "gray",
                  "directed": true,
                  "thickness": 1,
                  "dashStyle": "solid"
                }
              },
              {
                "start": "BOG",
                "end": "GRU",
                "label": "",
                "properties": {},
                "directed": false,
                "color": "#15AFAC",
                "thickness_factor": 1,
                "styles": {
                  "color": "gray",
                  "directed": true,
                  "thickness": 1,
                  "dashStyle": "solid"
                }
              },
              {
                "start": "ATL",
                "end": "MIA",
                "label": "",
                "properties": {},
                "directed": false,
                "color": "#15AFAC",
                "thickness_factor": 1,
                "styles": {
                  "color": "red",
                  "directed": true,
                  "thickness": 4,
                  "dashStyle": "dot"
                }
              },
              {
                "start": "FRA",
                "end": "IST",
                "label": "",
                "properties": {},
                "directed": false,
                "color": "#15AFAC",
                "thickness_factor": 1,
                "styles": {
                  "color": "gray",
                  "directed": true,
                  "thickness": 1,
                  "dashStyle": "solid"
                }
              },
              {
                "start": "IST",
                "end": "DEL",
                "label": "",
                "properties": {},
                "directed": false,
                "color": "#15AFAC",
                "thickness_factor": 1,
                "styles": {
                  "color": "gray",
                  "directed": true,
                  "thickness": 1,
                  "dashStyle": "solid"
                }
              },
              {
                "start": "PVG",
                "end": "BKK",
                "label": "",
                "properties": {},
                "directed": false,
                "color": "#15AFAC",
                "thickness_factor": 1,
                "styles": {
                  "color": "gray",
                  "directed": true,
                  "thickness": 1,
                  "dashStyle": "solid"
                }
              },
              {
                "start": "DEL",
                "end": "BKK",
                "label": "",
                "properties": {},
                "directed": false,
                "color": "#15AFAC",
                "thickness_factor": 1,
                "styles": {
                  "color": "gray",
                  "directed": true,
                  "thickness": 1,
                  "dashStyle": "solid"
                }
              }
            ],
            "_graph_layout": {},
            "_highlight": [],
            "_license": {},
            "_model_module": "yfiles-jupyter-graphs",
            "_model_module_version": "^1.10.0",
            "_model_name": "GraphModel",
            "_neighborhood": {},
            "_nodes": [
              {
                "id": "LAX",
                "properties": {
                  "label": "Los Angeles",
                  "passengers": 65000000,
                  "country": "USA"
                },
                "coordinates": [
                  33.942536,
                  -118.408075
                ],
                "parentId": "group#USA",
                "styles": {},
                "label": "Los Angeles",
                "scale_factor": 1,
                "size": [
                  55,
                  55
                ],
                "position": [
                  0,
                  0
                ]
              },
              {
                "id": "GIG",
                "properties": {
                  "label": "Rio de Janeiro",
                  "passengers": 5000000,
                  "country": "Brazil"
                },
                "coordinates": [
                  -22.808903,
                  -43.243647
                ],
                "parentId": "group#Brazil",
                "styles": {},
                "label": "Rio de Janeiro",
                "scale_factor": 1,
                "size": [
                  55,
                  55
                ],
                "position": [
                  0,
                  0
                ]
              },
              {
                "id": "LIM",
                "properties": {
                  "label": "Lima",
                  "passengers": 18000000,
                  "country": "Peru"
                },
                "coordinates": [
                  -12.021889,
                  -77.114319
                ],
                "parentId": "group#Peru",
                "styles": {},
                "label": "Lima",
                "scale_factor": 1,
                "size": [
                  55,
                  55
                ],
                "position": [
                  0,
                  0
                ]
              },
              {
                "id": "LHR",
                "properties": {
                  "label": "London",
                  "passengers": 61000000,
                  "country": "UK"
                },
                "coordinates": [
                  51.4775,
                  -0.461389
                ],
                "parentId": "group#UK",
                "styles": {},
                "label": "London",
                "scale_factor": 1,
                "size": [
                  55,
                  55
                ],
                "position": [
                  0,
                  0
                ]
              },
              {
                "id": "FRA",
                "properties": {
                  "label": "Frankfurt",
                  "passengers": 48000000,
                  "country": "Germany"
                },
                "coordinates": [
                  50.033333,
                  8.570556
                ],
                "parentId": "group#Germany",
                "styles": {},
                "label": "Frankfurt",
                "scale_factor": 1,
                "size": [
                  55,
                  55
                ],
                "position": [
                  0,
                  0
                ]
              },
              {
                "id": "SVO",
                "properties": {
                  "label": "Moscow",
                  "passengers": 49000000,
                  "country": "Russia"
                },
                "coordinates": [
                  55.972642,
                  37.414589
                ],
                "parentId": "group#Russia",
                "styles": {},
                "label": "Moscow",
                "scale_factor": 1,
                "size": [
                  55,
                  55
                ],
                "position": [
                  0,
                  0
                ]
              },
              {
                "id": "DEL",
                "properties": {
                  "label": "New Delhi",
                  "passengers": 39000000,
                  "country": "India"
                },
                "coordinates": [
                  28.5665,
                  77.103089
                ],
                "parentId": "group#India",
                "styles": {},
                "label": "New Delhi",
                "scale_factor": 1,
                "size": [
                  55,
                  55
                ],
                "position": [
                  0,
                  0
                ]
              },
              {
                "id": "PVG",
                "properties": {
                  "label": "Shanghai",
                  "passengers": 32000000,
                  "country": "China"
                },
                "coordinates": [
                  31.143378,
                  121.805214
                ],
                "parentId": "group#China",
                "styles": {},
                "label": "Shanghai",
                "scale_factor": 1,
                "size": [
                  55,
                  55
                ],
                "position": [
                  0,
                  0
                ]
              },
              {
                "id": "HKG",
                "properties": {
                  "label": "Hongkong",
                  "passengers": 1000000,
                  "country": "China"
                },
                "coordinates": [
                  22.308919,
                  113.914603
                ],
                "parentId": "group#China",
                "styles": {},
                "label": "Hongkong",
                "scale_factor": 1,
                "size": [
                  55,
                  55
                ],
                "position": [
                  0,
                  0
                ]
              },
              {
                "id": "NRT",
                "properties": {
                  "label": "Tokio",
                  "passengers": 15000000,
                  "country": "Japan"
                },
                "coordinates": [
                  35.764722,
                  140.386389
                ],
                "parentId": "group#Japan",
                "styles": {},
                "label": "Tokio",
                "scale_factor": 1,
                "size": [
                  55,
                  55
                ],
                "position": [
                  0,
                  0
                ]
              },
              {
                "id": "DXB",
                "properties": {
                  "label": "Dubai",
                  "passengers": 29000000,
                  "country": "UAE"
                },
                "coordinates": [
                  25.252778,
                  55.364444
                ],
                "parentId": "group#UAE",
                "styles": {},
                "label": "Dubai",
                "scale_factor": 1,
                "size": [
                  55,
                  55
                ],
                "position": [
                  0,
                  0
                ]
              },
              {
                "id": "DKR",
                "properties": {
                  "label": "Dakar",
                  "passengers": 2000000,
                  "country": "Senegal"
                },
                "coordinates": [
                  14.670833,
                  -17.072778
                ],
                "parentId": "group#Senegal",
                "styles": {},
                "label": "Dakar",
                "scale_factor": 1,
                "size": [
                  55,
                  55
                ],
                "position": [
                  0,
                  0
                ]
              },
              {
                "id": "JNB",
                "properties": {
                  "label": "Johannesburg",
                  "passengers": 9000000,
                  "country": "South Africa"
                },
                "coordinates": [
                  -26.133694,
                  28.242317
                ],
                "parentId": "group#South Africa",
                "styles": {},
                "label": "Johannesburg",
                "scale_factor": 1,
                "size": [
                  55,
                  55
                ],
                "position": [
                  0,
                  0
                ]
              },
              {
                "id": "SYD",
                "properties": {
                  "label": "Sydney",
                  "passengers": 44000000,
                  "country": "Australia"
                },
                "coordinates": [
                  -33.946111,
                  151.177222
                ],
                "parentId": "group#Australia",
                "styles": {},
                "label": "Sydney",
                "scale_factor": 1,
                "size": [
                  55,
                  55
                ],
                "position": [
                  0,
                  0
                ]
              },
              {
                "id": "NBO",
                "properties": {
                  "label": "Nairobi",
                  "passengers": 900000,
                  "country": "Kenya"
                },
                "coordinates": [
                  -1.319167,
                  36.927778
                ],
                "parentId": "group#Kenya",
                "styles": {},
                "label": "Nairobi",
                "scale_factor": 1,
                "size": [
                  55,
                  55
                ],
                "position": [
                  0,
                  0
                ]
              },
              {
                "id": "ATL",
                "properties": {
                  "label": "Atlanta",
                  "passengers": 93000000,
                  "country": "USA"
                },
                "coordinates": [
                  33.639167,
                  -84.427778
                ],
                "parentId": "group#USA",
                "styles": {},
                "label": "Atlanta",
                "scale_factor": 1,
                "size": [
                  55,
                  55
                ],
                "position": [
                  0,
                  0
                ]
              },
              {
                "id": "JFK",
                "properties": {
                  "label": "New York City",
                  "passengers": 55000000,
                  "country": "USA"
                },
                "coordinates": [
                  40.63975,
                  -73.778925
                ],
                "parentId": "group#USA",
                "styles": {},
                "label": "New York City",
                "scale_factor": 1,
                "size": [
                  55,
                  55
                ],
                "position": [
                  0,
                  0
                ]
              },
              {
                "id": "CAI",
                "properties": {
                  "label": "Cairo",
                  "passengers": 14000000,
                  "country": "Egypt"
                },
                "coordinates": [
                  30.121944,
                  31.405556
                ],
                "parentId": "group#Egypt",
                "styles": {},
                "label": "Cairo",
                "scale_factor": 1,
                "size": [
                  55,
                  55
                ],
                "position": [
                  0,
                  0
                ]
              },
              {
                "id": "CMN",
                "properties": {
                  "label": "Casablanca",
                  "passengers": 7000000,
                  "country": "Morocco"
                },
                "coordinates": [
                  33.367467,
                  -7.589967
                ],
                "parentId": "group#Morocco",
                "styles": {},
                "label": "Casablanca",
                "scale_factor": 1,
                "size": [
                  55,
                  55
                ],
                "position": [
                  0,
                  0
                ]
              },
              {
                "id": "LOS",
                "properties": {
                  "label": "Lagos",
                  "passengers": 5000000,
                  "country": "Nigeria"
                },
                "coordinates": [
                  6.577222,
                  3.321111
                ],
                "parentId": "group#Nigeria",
                "styles": {},
                "label": "Lagos",
                "scale_factor": 1,
                "size": [
                  55,
                  55
                ],
                "position": [
                  0,
                  0
                ]
              },
              {
                "id": "CPT",
                "properties": {
                  "label": "Cape Town",
                  "passengers": 5000000,
                  "country": "South Africa"
                },
                "coordinates": [
                  -33.969444,
                  18.597222
                ],
                "parentId": "group#South Africa",
                "styles": {},
                "label": "Cape Town",
                "scale_factor": 1,
                "size": [
                  55,
                  55
                ],
                "position": [
                  0,
                  0
                ]
              },
              {
                "id": "CTU",
                "properties": {
                  "label": "Chengdu",
                  "passengers": 40000000,
                  "country": "China"
                },
                "coordinates": [
                  30.578333,
                  103.946944
                ],
                "parentId": "group#China",
                "styles": {},
                "label": "Chengdu",
                "scale_factor": 1,
                "size": [
                  55,
                  55
                ],
                "position": [
                  0,
                  0
                ]
              },
              {
                "id": "CGK",
                "properties": {
                  "label": "Jakarta",
                  "passengers": 54000000,
                  "country": "Indonesia"
                },
                "coordinates": [
                  -6.125567,
                  106.655897
                ],
                "parentId": "group#Indonesia",
                "styles": {},
                "label": "Jakarta",
                "scale_factor": 1,
                "size": [
                  55,
                  55
                ],
                "position": [
                  0,
                  0
                ]
              },
              {
                "id": "IKA",
                "properties": {
                  "label": "Teheran",
                  "passengers": 8000000,
                  "country": "Iran"
                },
                "coordinates": [
                  35.416111,
                  51.152222
                ],
                "parentId": "group#Iran",
                "styles": {},
                "label": "Teheran",
                "scale_factor": 1,
                "size": [
                  55,
                  55
                ],
                "position": [
                  0,
                  0
                ]
              },
              {
                "id": "TLV",
                "properties": {
                  "label": "Tel Aviv",
                  "passengers": 20000000,
                  "country": "Israel"
                },
                "coordinates": [
                  32.011389,
                  34.886667
                ],
                "parentId": "group#Israel",
                "styles": {},
                "label": "Tel Aviv",
                "scale_factor": 1,
                "size": [
                  55,
                  55
                ],
                "position": [
                  0,
                  0
                ]
              },
              {
                "id": "KUL",
                "properties": {
                  "label": "Kuala Lumpur",
                  "passengers": 25000000,
                  "country": "Malaysia"
                },
                "coordinates": [
                  2.745578,
                  101.709917
                ],
                "parentId": "group#Malaysia",
                "styles": {},
                "label": "Kuala Lumpur",
                "scale_factor": 1,
                "size": [
                  55,
                  55
                ],
                "position": [
                  0,
                  0
                ]
              },
              {
                "id": "MNL",
                "properties": {
                  "label": "Manila",
                  "passengers": 8000000,
                  "country": "Philippines"
                },
                "coordinates": [
                  14.508647,
                  121.019581
                ],
                "parentId": "group#Philippines",
                "styles": {},
                "label": "Manila",
                "scale_factor": 1,
                "size": [
                  55,
                  55
                ],
                "position": [
                  0,
                  0
                ]
              },
              {
                "id": "SIN",
                "properties": {
                  "label": "Singapur",
                  "passengers": 32000000,
                  "country": "Singapore"
                },
                "coordinates": [
                  1.350189,
                  103.994433
                ],
                "parentId": "group#Singapore",
                "styles": {},
                "label": "Singapur",
                "scale_factor": 1,
                "size": [
                  55,
                  55
                ],
                "position": [
                  0,
                  0
                ]
              },
              {
                "id": "TPE",
                "properties": {
                  "label": "Taipeh",
                  "passengers": 800000,
                  "country": "Taiwan"
                },
                "coordinates": [
                  25.077732,
                  121.232822
                ],
                "parentId": "group#Taiwan",
                "styles": {},
                "label": "Taipeh",
                "scale_factor": 1,
                "size": [
                  55,
                  55
                ],
                "position": [
                  0,
                  0
                ]
              },
              {
                "id": "BKK",
                "properties": {
                  "label": "Bangkok",
                  "passengers": 65000000,
                  "country": "Thailand"
                },
                "coordinates": [
                  13.681108,
                  100.747283
                ],
                "parentId": "group#Thailand",
                "styles": {},
                "label": "Bangkok",
                "scale_factor": 1,
                "size": [
                  55,
                  55
                ],
                "position": [
                  0,
                  0
                ]
              },
              {
                "id": "IST",
                "properties": {
                  "label": "Istanbul",
                  "passengers": 64000000,
                  "country": "Turkey"
                },
                "coordinates": [
                  40.976922,
                  28.814606
                ],
                "parentId": "group#Turkey",
                "styles": {},
                "label": "Istanbul",
                "scale_factor": 1,
                "size": [
                  55,
                  55
                ],
                "position": [
                  0,
                  0
                ]
              },
              {
                "id": "ULN",
                "properties": {
                  "label": "Ulaanbaatar",
                  "passengers": 1000000,
                  "country": "Mongolia"
                },
                "coordinates": [
                  47.843056,
                  106.766639
                ],
                "parentId": "group#Mongolia",
                "styles": {},
                "label": "Ulaanbaatar",
                "scale_factor": 1,
                "size": [
                  55,
                  55
                ],
                "position": [
                  0,
                  0
                ]
              },
              {
                "id": "MEL",
                "properties": {
                  "label": "Melbourne",
                  "passengers": 12000000,
                  "country": "Australia"
                },
                "coordinates": [
                  -37.673333,
                  144.843333
                ],
                "parentId": "group#Australia",
                "styles": {},
                "label": "Melbourne",
                "scale_factor": 1,
                "size": [
                  55,
                  55
                ],
                "position": [
                  0,
                  0
                ]
              },
              {
                "id": "BNE",
                "properties": {
                  "label": "Brisbane",
                  "passengers": 23000000,
                  "country": "Australia"
                },
                "coordinates": [
                  -27.383333,
                  153.118056
                ],
                "parentId": "group#Australia",
                "styles": {},
                "label": "Brisbane",
                "scale_factor": 1,
                "size": [
                  55,
                  55
                ],
                "position": [
                  0,
                  0
                ]
              },
              {
                "id": "NAN",
                "properties": {
                  "label": "Nadi",
                  "passengers": 2000000,
                  "country": "Fiji"
                },
                "coordinates": [
                  -17.755392,
                  177.443378
                ],
                "parentId": "group#Fiji",
                "styles": {},
                "label": "Nadi",
                "scale_factor": 1,
                "size": [
                  55,
                  55
                ],
                "position": [
                  0,
                  0
                ]
              },
              {
                "id": "AKL",
                "properties": {
                  "label": "Auckland",
                  "passengers": 21000000,
                  "country": "New Zealand"
                },
                "coordinates": [
                  -37.008056,
                  174.791667
                ],
                "parentId": "group#New Zealand",
                "styles": {},
                "label": "Auckland",
                "scale_factor": 1,
                "size": [
                  55,
                  55
                ],
                "position": [
                  0,
                  0
                ]
              },
              {
                "id": "CDG",
                "properties": {
                  "label": "Paris",
                  "passengers": 57000000,
                  "country": "France"
                },
                "coordinates": [
                  49.009722,
                  2.547778
                ],
                "parentId": "group#France",
                "styles": {},
                "label": "Paris",
                "scale_factor": 1,
                "size": [
                  55,
                  55
                ],
                "position": [
                  0,
                  0
                ]
              },
              {
                "id": "MAD",
                "properties": {
                  "label": "Madrid",
                  "passengers": 50000000,
                  "country": "Spain"
                },
                "coordinates": [
                  40.4675,
                  -3.551944
                ],
                "parentId": "group#Spain",
                "styles": {},
                "label": "Madrid",
                "scale_factor": 1,
                "size": [
                  55,
                  55
                ],
                "position": [
                  0,
                  0
                ]
              },
              {
                "id": "BCN",
                "properties": {
                  "label": "Barcelona",
                  "passengers": 41000000,
                  "country": "Spain"
                },
                "coordinates": [
                  41.297078,
                  2.078464
                ],
                "parentId": "group#Spain",
                "styles": {},
                "label": "Barcelona",
                "scale_factor": 1,
                "size": [
                  55,
                  55
                ],
                "position": [
                  0,
                  0
                ]
              },
              {
                "id": "FCO",
                "properties": {
                  "label": "Rome",
                  "passengers": 29000000,
                  "country": "Italy"
                },
                "coordinates": [
                  41.804444,
                  12.250833
                ],
                "parentId": "group#Italy",
                "styles": {},
                "label": "Rome",
                "scale_factor": 1,
                "size": [
                  55,
                  55
                ],
                "position": [
                  0,
                  0
                ]
              },
              {
                "id": "CPH",
                "properties": {
                  "label": "Copenhagen",
                  "passengers": 30000000,
                  "country": "Denmark"
                },
                "coordinates": [
                  55.617917,
                  12.655972
                ],
                "parentId": "group#Denmark",
                "styles": {},
                "label": "Copenhagen",
                "scale_factor": 1,
                "size": [
                  55,
                  55
                ],
                "position": [
                  0,
                  0
                ]
              },
              {
                "id": "HEL",
                "properties": {
                  "label": "Helsinki",
                  "passengers": 5000000,
                  "country": "Finland"
                },
                "coordinates": [
                  60.317222,
                  24.963333
                ],
                "parentId": "group#Finland",
                "styles": {},
                "label": "Helsinki",
                "scale_factor": 1,
                "size": [
                  55,
                  55
                ],
                "position": [
                  0,
                  0
                ]
              },
              {
                "id": "ATH",
                "properties": {
                  "label": "Athens",
                  "passengers": 22000000,
                  "country": "Greece"
                },
                "coordinates": [
                  37.936358,
                  23.944467
                ],
                "parentId": "group#Greece",
                "styles": {},
                "label": "Athens",
                "scale_factor": 1,
                "size": [
                  55,
                  55
                ],
                "position": [
                  0,
                  0
                ]
              },
              {
                "id": "DUB",
                "properties": {
                  "label": "Dublin",
                  "passengers": 32000000,
                  "country": "Ireland"
                },
                "coordinates": [
                  53.421333,
                  -6.270075
                ],
                "parentId": "group#Ireland",
                "styles": {},
                "label": "Dublin",
                "scale_factor": 1,
                "size": [
                  55,
                  55
                ],
                "position": [
                  0,
                  0
                ]
              },
              {
                "id": "RKV",
                "properties": {
                  "label": "Reykjavik",
                  "passengers": 400000,
                  "country": "Iceland"
                },
                "coordinates": [
                  64.13,
                  -21.940556
                ],
                "parentId": "group#Iceland",
                "styles": {},
                "label": "Reykjavik",
                "scale_factor": 1,
                "size": [
                  55,
                  55
                ],
                "position": [
                  0,
                  0
                ]
              },
              {
                "id": "OSL",
                "properties": {
                  "label": "Oslo",
                  "passengers": 9000000,
                  "country": "Norway"
                },
                "coordinates": [
                  60.193917,
                  11.100361
                ],
                "parentId": "group#Norway",
                "styles": {},
                "label": "Oslo",
                "scale_factor": 1,
                "size": [
                  55,
                  55
                ],
                "position": [
                  0,
                  0
                ]
              },
              {
                "id": "VIE",
                "properties": {
                  "label": "Vienna",
                  "passengers": 10000000,
                  "country": "Austria"
                },
                "coordinates": [
                  48.110833,
                  16.570833
                ],
                "parentId": "group#Austria",
                "styles": {},
                "label": "Vienna",
                "scale_factor": 1,
                "size": [
                  55,
                  55
                ],
                "position": [
                  0,
                  0
                ]
              },
              {
                "id": "LIS",
                "properties": {
                  "label": "Lisbon",
                  "passengers": 28000000,
                  "country": "Portugal"
                },
                "coordinates": [
                  38.774167,
                  -9.134167
                ],
                "parentId": "group#Portugal",
                "styles": {},
                "label": "Lisbon",
                "scale_factor": 1,
                "size": [
                  55,
                  55
                ],
                "position": [
                  0,
                  0
                ]
              },
              {
                "id": "ARN",
                "properties": {
                  "label": "Stockholm",
                  "passengers": 7000000,
                  "country": "Sweden"
                },
                "coordinates": [
                  59.651944,
                  17.918611
                ],
                "parentId": "group#Sweden",
                "styles": {},
                "label": "Stockholm",
                "scale_factor": 1,
                "size": [
                  55,
                  55
                ],
                "position": [
                  0,
                  0
                ]
              },
              {
                "id": "EDI",
                "properties": {
                  "label": "Edinburgh",
                  "passengers": 14000000,
                  "country": "UK"
                },
                "coordinates": [
                  55.95,
                  -3.3725
                ],
                "parentId": "group#UK",
                "styles": {},
                "label": "Edinburgh",
                "scale_factor": 1,
                "size": [
                  55,
                  55
                ],
                "position": [
                  0,
                  0
                ]
              },
              {
                "id": "ORD",
                "properties": {
                  "label": "Chicago",
                  "passengers": 54000000,
                  "country": "USA"
                },
                "coordinates": [
                  41.978603,
                  -87.904842
                ],
                "parentId": "group#USA",
                "styles": {},
                "label": "Chicago",
                "scale_factor": 1,
                "size": [
                  55,
                  55
                ],
                "position": [
                  0,
                  0
                ]
              },
              {
                "id": "DFW",
                "properties": {
                  "label": "Dallas",
                  "passengers": 73000000,
                  "country": "USA"
                },
                "coordinates": [
                  32.896828,
                  -97.037997
                ],
                "parentId": "group#USA",
                "styles": {},
                "label": "Dallas",
                "scale_factor": 1,
                "size": [
                  55,
                  55
                ],
                "position": [
                  0,
                  0
                ]
              },
              {
                "id": "SFO",
                "properties": {
                  "label": "San Francisco",
                  "passengers": 42000000,
                  "country": "USA"
                },
                "coordinates": [
                  37.618972,
                  -122.374889
                ],
                "parentId": "group#USA",
                "styles": {},
                "label": "San Francisco",
                "scale_factor": 1,
                "size": [
                  55,
                  55
                ],
                "position": [
                  0,
                  0
                ]
              },
              {
                "id": "LAS",
                "properties": {
                  "label": "Las Vegas",
                  "passengers": 52000000,
                  "country": "USA"
                },
                "coordinates": [
                  36.080056,
                  -115.15225
                ],
                "parentId": "group#USA",
                "styles": {},
                "label": "Las Vegas",
                "scale_factor": 1,
                "size": [
                  55,
                  55
                ],
                "position": [
                  0,
                  0
                ]
              },
              {
                "id": "MIA",
                "properties": {
                  "label": "Miami",
                  "passengers": 50000000,
                  "country": "USA"
                },
                "coordinates": [
                  25.79325,
                  -80.290556
                ],
                "parentId": "group#USA",
                "styles": {},
                "label": "Miami",
                "scale_factor": 1,
                "size": [
                  55,
                  55
                ],
                "position": [
                  0,
                  0
                ]
              },
              {
                "id": "YYZ",
                "properties": {
                  "label": "Toronto",
                  "passengers": 12000000,
                  "country": "Canada"
                },
                "coordinates": [
                  43.677222,
                  -79.630556
                ],
                "parentId": "group#Canada",
                "styles": {},
                "label": "Toronto",
                "scale_factor": 1,
                "size": [
                  55,
                  55
                ],
                "position": [
                  0,
                  0
                ]
              },
              {
                "id": "YVR",
                "properties": {
                  "label": "Vancouver",
                  "passengers": 19000000,
                  "country": "Canada"
                },
                "coordinates": [
                  49.193889,
                  -123.184444
                ],
                "parentId": "group#Canada",
                "styles": {},
                "label": "Vancouver",
                "scale_factor": 1,
                "size": [
                  55,
                  55
                ],
                "position": [
                  0,
                  0
                ]
              },
              {
                "id": "YUL",
                "properties": {
                  "label": "Montreal",
                  "passengers": 15000000,
                  "country": "Canada"
                },
                "coordinates": [
                  45.47175,
                  -73.736569
                ],
                "parentId": "group#Canada",
                "styles": {},
                "label": "Montreal",
                "scale_factor": 1,
                "size": [
                  55,
                  55
                ],
                "position": [
                  0,
                  0
                ]
              },
              {
                "id": "MEX",
                "properties": {
                  "label": "Mexico-City",
                  "passengers": 46000000,
                  "country": "Mexico"
                },
                "coordinates": [
                  19.436303,
                  -99.072097
                ],
                "parentId": "group#Mexico",
                "styles": {},
                "label": "Mexico-City",
                "scale_factor": 1,
                "size": [
                  55,
                  55
                ],
                "position": [
                  0,
                  0
                ]
              },
              {
                "id": "GUA",
                "properties": {
                  "label": "Guatemala-City",
                  "passengers": 2000000,
                  "country": "Guatemala"
                },
                "coordinates": [
                  14.583272,
                  -90.527475
                ],
                "parentId": "group#Guatemala",
                "styles": {},
                "label": "Guatemala-City",
                "scale_factor": 1,
                "size": [
                  55,
                  55
                ],
                "position": [
                  0,
                  0
                ]
              },
              {
                "id": "EZE",
                "properties": {
                  "label": "Buenos Aires",
                  "passengers": 5000000,
                  "country": "Argentina"
                },
                "coordinates": [
                  -34.822222,
                  -58.535833
                ],
                "parentId": "group#Argentina",
                "styles": {},
                "label": "Buenos Aires",
                "scale_factor": 1,
                "size": [
                  55,
                  55
                ],
                "position": [
                  0,
                  0
                ]
              },
              {
                "id": "GRU",
                "properties": {
                  "label": "Sao Paulo",
                  "passengers": 34000000,
                  "country": "Brazil"
                },
                "coordinates": [
                  -23.432075,
                  -46.469511
                ],
                "parentId": "group#Brazil",
                "styles": {},
                "label": "Sao Paulo",
                "scale_factor": 1,
                "size": [
                  55,
                  55
                ],
                "position": [
                  0,
                  0
                ]
              },
              {
                "id": "SCL",
                "properties": {
                  "label": "Santiago de Chile",
                  "passengers": 20000000,
                  "country": "Chile"
                },
                "coordinates": [
                  -33.392975,
                  -70.785803
                ],
                "parentId": "group#Chile",
                "styles": {},
                "label": "Santiago de Chile",
                "scale_factor": 1,
                "size": [
                  55,
                  55
                ],
                "position": [
                  0,
                  0
                ]
              },
              {
                "id": "BSB",
                "properties": {
                  "label": "Brasilia",
                  "passengers": 13000000,
                  "country": "Brazil"
                },
                "coordinates": [
                  -15.871111,
                  -47.918611
                ],
                "parentId": "group#Brazil",
                "styles": {},
                "label": "Brasilia",
                "scale_factor": 1,
                "size": [
                  55,
                  55
                ],
                "position": [
                  0,
                  0
                ]
              },
              {
                "id": "BOG",
                "properties": {
                  "label": "Bogota",
                  "passengers": 36000000,
                  "country": "Colombia"
                },
                "coordinates": [
                  4.701594,
                  -74.146947
                ],
                "parentId": "group#Colombia",
                "styles": {},
                "label": "Bogota",
                "scale_factor": 1,
                "size": [
                  55,
                  55
                ],
                "position": [
                  0,
                  0
                ]
              },
              {
                "id": "CCS",
                "properties": {
                  "label": "Caracas",
                  "passengers": 8000000,
                  "country": "Venezuela"
                },
                "coordinates": [
                  10.601194,
                  -66.991222
                ],
                "parentId": "group#Venezuela",
                "styles": {},
                "label": "Caracas",
                "scale_factor": 1,
                "size": [
                  55,
                  55
                ],
                "position": [
                  0,
                  0
                ]
              },
              {
                "id": "group#USA",
                "properties": {
                  "label": "USA"
                },
                "color": "gray",
                "styles": {},
                "label": "USA",
                "scale_factor": 1,
                "type": "gray",
                "size": [
                  55,
                  55
                ],
                "position": [
                  0,
                  0
                ]
              },
              {
                "id": "group#Brazil",
                "properties": {
                  "label": "Brazil"
                },
                "color": "gray",
                "styles": {},
                "label": "Brazil",
                "scale_factor": 1,
                "type": "gray",
                "size": [
                  55,
                  55
                ],
                "position": [
                  0,
                  0
                ]
              },
              {
                "id": "group#Peru",
                "properties": {
                  "label": "Peru"
                },
                "color": "gray",
                "styles": {},
                "label": "Peru",
                "scale_factor": 1,
                "type": "gray",
                "size": [
                  55,
                  55
                ],
                "position": [
                  0,
                  0
                ]
              },
              {
                "id": "group#UK",
                "properties": {
                  "label": "UK"
                },
                "color": "gray",
                "styles": {},
                "label": "UK",
                "scale_factor": 1,
                "type": "gray",
                "size": [
                  55,
                  55
                ],
                "position": [
                  0,
                  0
                ]
              },
              {
                "id": "group#Germany",
                "properties": {
                  "label": "Germany"
                },
                "color": "gray",
                "styles": {},
                "label": "Germany",
                "scale_factor": 1,
                "type": "gray",
                "size": [
                  55,
                  55
                ],
                "position": [
                  0,
                  0
                ]
              },
              {
                "id": "group#Russia",
                "properties": {
                  "label": "Russia"
                },
                "color": "gray",
                "styles": {},
                "label": "Russia",
                "scale_factor": 1,
                "type": "gray",
                "size": [
                  55,
                  55
                ],
                "position": [
                  0,
                  0
                ]
              },
              {
                "id": "group#India",
                "properties": {
                  "label": "India"
                },
                "color": "gray",
                "styles": {},
                "label": "India",
                "scale_factor": 1,
                "type": "gray",
                "size": [
                  55,
                  55
                ],
                "position": [
                  0,
                  0
                ]
              },
              {
                "id": "group#China",
                "properties": {
                  "label": "China"
                },
                "color": "gray",
                "styles": {},
                "label": "China",
                "scale_factor": 1,
                "type": "gray",
                "size": [
                  55,
                  55
                ],
                "position": [
                  0,
                  0
                ]
              },
              {
                "id": "group#China",
                "properties": {
                  "label": "China"
                },
                "color": "gray",
                "styles": {},
                "label": "China",
                "scale_factor": 1,
                "type": "gray",
                "size": [
                  55,
                  55
                ],
                "position": [
                  0,
                  0
                ]
              },
              {
                "id": "group#Japan",
                "properties": {
                  "label": "Japan"
                },
                "color": "gray",
                "styles": {},
                "label": "Japan",
                "scale_factor": 1,
                "type": "gray",
                "size": [
                  55,
                  55
                ],
                "position": [
                  0,
                  0
                ]
              },
              {
                "id": "group#UAE",
                "properties": {
                  "label": "UAE"
                },
                "color": "gray",
                "styles": {},
                "label": "UAE",
                "scale_factor": 1,
                "type": "gray",
                "size": [
                  55,
                  55
                ],
                "position": [
                  0,
                  0
                ]
              },
              {
                "id": "group#Senegal",
                "properties": {
                  "label": "Senegal"
                },
                "color": "gray",
                "styles": {},
                "label": "Senegal",
                "scale_factor": 1,
                "type": "gray",
                "size": [
                  55,
                  55
                ],
                "position": [
                  0,
                  0
                ]
              },
              {
                "id": "group#South Africa",
                "properties": {
                  "label": "South Africa"
                },
                "color": "gray",
                "styles": {},
                "label": "South Africa",
                "scale_factor": 1,
                "type": "gray",
                "size": [
                  55,
                  55
                ],
                "position": [
                  0,
                  0
                ]
              },
              {
                "id": "group#Australia",
                "properties": {
                  "label": "Australia"
                },
                "color": "gray",
                "styles": {},
                "label": "Australia",
                "scale_factor": 1,
                "type": "gray",
                "size": [
                  55,
                  55
                ],
                "position": [
                  0,
                  0
                ]
              },
              {
                "id": "group#Kenya",
                "properties": {
                  "label": "Kenya"
                },
                "color": "gray",
                "styles": {},
                "label": "Kenya",
                "scale_factor": 1,
                "type": "gray",
                "size": [
                  55,
                  55
                ],
                "position": [
                  0,
                  0
                ]
              },
              {
                "id": "group#USA",
                "properties": {
                  "label": "USA"
                },
                "color": "gray",
                "styles": {},
                "label": "USA",
                "scale_factor": 1,
                "type": "gray",
                "size": [
                  55,
                  55
                ],
                "position": [
                  0,
                  0
                ]
              },
              {
                "id": "group#USA",
                "properties": {
                  "label": "USA"
                },
                "color": "gray",
                "styles": {},
                "label": "USA",
                "scale_factor": 1,
                "type": "gray",
                "size": [
                  55,
                  55
                ],
                "position": [
                  0,
                  0
                ]
              },
              {
                "id": "group#Egypt",
                "properties": {
                  "label": "Egypt"
                },
                "color": "gray",
                "styles": {},
                "label": "Egypt",
                "scale_factor": 1,
                "type": "gray",
                "size": [
                  55,
                  55
                ],
                "position": [
                  0,
                  0
                ]
              },
              {
                "id": "group#Morocco",
                "properties": {
                  "label": "Morocco"
                },
                "color": "gray",
                "styles": {},
                "label": "Morocco",
                "scale_factor": 1,
                "type": "gray",
                "size": [
                  55,
                  55
                ],
                "position": [
                  0,
                  0
                ]
              },
              {
                "id": "group#Nigeria",
                "properties": {
                  "label": "Nigeria"
                },
                "color": "gray",
                "styles": {},
                "label": "Nigeria",
                "scale_factor": 1,
                "type": "gray",
                "size": [
                  55,
                  55
                ],
                "position": [
                  0,
                  0
                ]
              },
              {
                "id": "group#South Africa",
                "properties": {
                  "label": "South Africa"
                },
                "color": "gray",
                "styles": {},
                "label": "South Africa",
                "scale_factor": 1,
                "type": "gray",
                "size": [
                  55,
                  55
                ],
                "position": [
                  0,
                  0
                ]
              },
              {
                "id": "group#China",
                "properties": {
                  "label": "China"
                },
                "color": "gray",
                "styles": {},
                "label": "China",
                "scale_factor": 1,
                "type": "gray",
                "size": [
                  55,
                  55
                ],
                "position": [
                  0,
                  0
                ]
              },
              {
                "id": "group#Indonesia",
                "properties": {
                  "label": "Indonesia"
                },
                "color": "gray",
                "styles": {},
                "label": "Indonesia",
                "scale_factor": 1,
                "type": "gray",
                "size": [
                  55,
                  55
                ],
                "position": [
                  0,
                  0
                ]
              },
              {
                "id": "group#Iran",
                "properties": {
                  "label": "Iran"
                },
                "color": "gray",
                "styles": {},
                "label": "Iran",
                "scale_factor": 1,
                "type": "gray",
                "size": [
                  55,
                  55
                ],
                "position": [
                  0,
                  0
                ]
              },
              {
                "id": "group#Israel",
                "properties": {
                  "label": "Israel"
                },
                "color": "gray",
                "styles": {},
                "label": "Israel",
                "scale_factor": 1,
                "type": "gray",
                "size": [
                  55,
                  55
                ],
                "position": [
                  0,
                  0
                ]
              },
              {
                "id": "group#Malaysia",
                "properties": {
                  "label": "Malaysia"
                },
                "color": "gray",
                "styles": {},
                "label": "Malaysia",
                "scale_factor": 1,
                "type": "gray",
                "size": [
                  55,
                  55
                ],
                "position": [
                  0,
                  0
                ]
              },
              {
                "id": "group#Philippines",
                "properties": {
                  "label": "Philippines"
                },
                "color": "gray",
                "styles": {},
                "label": "Philippines",
                "scale_factor": 1,
                "type": "gray",
                "size": [
                  55,
                  55
                ],
                "position": [
                  0,
                  0
                ]
              },
              {
                "id": "group#Singapore",
                "properties": {
                  "label": "Singapore"
                },
                "color": "gray",
                "styles": {},
                "label": "Singapore",
                "scale_factor": 1,
                "type": "gray",
                "size": [
                  55,
                  55
                ],
                "position": [
                  0,
                  0
                ]
              },
              {
                "id": "group#Taiwan",
                "properties": {
                  "label": "Taiwan"
                },
                "color": "gray",
                "styles": {},
                "label": "Taiwan",
                "scale_factor": 1,
                "type": "gray",
                "size": [
                  55,
                  55
                ],
                "position": [
                  0,
                  0
                ]
              },
              {
                "id": "group#Thailand",
                "properties": {
                  "label": "Thailand"
                },
                "color": "gray",
                "styles": {},
                "label": "Thailand",
                "scale_factor": 1,
                "type": "gray",
                "size": [
                  55,
                  55
                ],
                "position": [
                  0,
                  0
                ]
              },
              {
                "id": "group#Turkey",
                "properties": {
                  "label": "Turkey"
                },
                "color": "gray",
                "styles": {},
                "label": "Turkey",
                "scale_factor": 1,
                "type": "gray",
                "size": [
                  55,
                  55
                ],
                "position": [
                  0,
                  0
                ]
              },
              {
                "id": "group#Mongolia",
                "properties": {
                  "label": "Mongolia"
                },
                "color": "gray",
                "styles": {},
                "label": "Mongolia",
                "scale_factor": 1,
                "type": "gray",
                "size": [
                  55,
                  55
                ],
                "position": [
                  0,
                  0
                ]
              },
              {
                "id": "group#Australia",
                "properties": {
                  "label": "Australia"
                },
                "color": "gray",
                "styles": {},
                "label": "Australia",
                "scale_factor": 1,
                "type": "gray",
                "size": [
                  55,
                  55
                ],
                "position": [
                  0,
                  0
                ]
              },
              {
                "id": "group#Australia",
                "properties": {
                  "label": "Australia"
                },
                "color": "gray",
                "styles": {},
                "label": "Australia",
                "scale_factor": 1,
                "type": "gray",
                "size": [
                  55,
                  55
                ],
                "position": [
                  0,
                  0
                ]
              },
              {
                "id": "group#Fiji",
                "properties": {
                  "label": "Fiji"
                },
                "color": "gray",
                "styles": {},
                "label": "Fiji",
                "scale_factor": 1,
                "type": "gray",
                "size": [
                  55,
                  55
                ],
                "position": [
                  0,
                  0
                ]
              },
              {
                "id": "group#New Zealand",
                "properties": {
                  "label": "New Zealand"
                },
                "color": "gray",
                "styles": {},
                "label": "New Zealand",
                "scale_factor": 1,
                "type": "gray",
                "size": [
                  55,
                  55
                ],
                "position": [
                  0,
                  0
                ]
              },
              {
                "id": "group#France",
                "properties": {
                  "label": "France"
                },
                "color": "gray",
                "styles": {},
                "label": "France",
                "scale_factor": 1,
                "type": "gray",
                "size": [
                  55,
                  55
                ],
                "position": [
                  0,
                  0
                ]
              },
              {
                "id": "group#Spain",
                "properties": {
                  "label": "Spain"
                },
                "color": "gray",
                "styles": {},
                "label": "Spain",
                "scale_factor": 1,
                "type": "gray",
                "size": [
                  55,
                  55
                ],
                "position": [
                  0,
                  0
                ]
              },
              {
                "id": "group#Spain",
                "properties": {
                  "label": "Spain"
                },
                "color": "gray",
                "styles": {},
                "label": "Spain",
                "scale_factor": 1,
                "type": "gray",
                "size": [
                  55,
                  55
                ],
                "position": [
                  0,
                  0
                ]
              },
              {
                "id": "group#Italy",
                "properties": {
                  "label": "Italy"
                },
                "color": "gray",
                "styles": {},
                "label": "Italy",
                "scale_factor": 1,
                "type": "gray",
                "size": [
                  55,
                  55
                ],
                "position": [
                  0,
                  0
                ]
              },
              {
                "id": "group#Denmark",
                "properties": {
                  "label": "Denmark"
                },
                "color": "gray",
                "styles": {},
                "label": "Denmark",
                "scale_factor": 1,
                "type": "gray",
                "size": [
                  55,
                  55
                ],
                "position": [
                  0,
                  0
                ]
              },
              {
                "id": "group#Finland",
                "properties": {
                  "label": "Finland"
                },
                "color": "gray",
                "styles": {},
                "label": "Finland",
                "scale_factor": 1,
                "type": "gray",
                "size": [
                  55,
                  55
                ],
                "position": [
                  0,
                  0
                ]
              },
              {
                "id": "group#Greece",
                "properties": {
                  "label": "Greece"
                },
                "color": "gray",
                "styles": {},
                "label": "Greece",
                "scale_factor": 1,
                "type": "gray",
                "size": [
                  55,
                  55
                ],
                "position": [
                  0,
                  0
                ]
              },
              {
                "id": "group#Ireland",
                "properties": {
                  "label": "Ireland"
                },
                "color": "gray",
                "styles": {},
                "label": "Ireland",
                "scale_factor": 1,
                "type": "gray",
                "size": [
                  55,
                  55
                ],
                "position": [
                  0,
                  0
                ]
              },
              {
                "id": "group#Iceland",
                "properties": {
                  "label": "Iceland"
                },
                "color": "gray",
                "styles": {},
                "label": "Iceland",
                "scale_factor": 1,
                "type": "gray",
                "size": [
                  55,
                  55
                ],
                "position": [
                  0,
                  0
                ]
              },
              {
                "id": "group#Norway",
                "properties": {
                  "label": "Norway"
                },
                "color": "gray",
                "styles": {},
                "label": "Norway",
                "scale_factor": 1,
                "type": "gray",
                "size": [
                  55,
                  55
                ],
                "position": [
                  0,
                  0
                ]
              },
              {
                "id": "group#Austria",
                "properties": {
                  "label": "Austria"
                },
                "color": "gray",
                "styles": {},
                "label": "Austria",
                "scale_factor": 1,
                "type": "gray",
                "size": [
                  55,
                  55
                ],
                "position": [
                  0,
                  0
                ]
              },
              {
                "id": "group#Portugal",
                "properties": {
                  "label": "Portugal"
                },
                "color": "gray",
                "styles": {},
                "label": "Portugal",
                "scale_factor": 1,
                "type": "gray",
                "size": [
                  55,
                  55
                ],
                "position": [
                  0,
                  0
                ]
              },
              {
                "id": "group#Sweden",
                "properties": {
                  "label": "Sweden"
                },
                "color": "gray",
                "styles": {},
                "label": "Sweden",
                "scale_factor": 1,
                "type": "gray",
                "size": [
                  55,
                  55
                ],
                "position": [
                  0,
                  0
                ]
              },
              {
                "id": "group#UK",
                "properties": {
                  "label": "UK"
                },
                "color": "gray",
                "styles": {},
                "label": "UK",
                "scale_factor": 1,
                "type": "gray",
                "size": [
                  55,
                  55
                ],
                "position": [
                  0,
                  0
                ]
              },
              {
                "id": "group#USA",
                "properties": {
                  "label": "USA"
                },
                "color": "gray",
                "styles": {},
                "label": "USA",
                "scale_factor": 1,
                "type": "gray",
                "size": [
                  55,
                  55
                ],
                "position": [
                  0,
                  0
                ]
              },
              {
                "id": "group#USA",
                "properties": {
                  "label": "USA"
                },
                "color": "gray",
                "styles": {},
                "label": "USA",
                "scale_factor": 1,
                "type": "gray",
                "size": [
                  55,
                  55
                ],
                "position": [
                  0,
                  0
                ]
              },
              {
                "id": "group#USA",
                "properties": {
                  "label": "USA"
                },
                "color": "gray",
                "styles": {},
                "label": "USA",
                "scale_factor": 1,
                "type": "gray",
                "size": [
                  55,
                  55
                ],
                "position": [
                  0,
                  0
                ]
              },
              {
                "id": "group#USA",
                "properties": {
                  "label": "USA"
                },
                "color": "gray",
                "styles": {},
                "label": "USA",
                "scale_factor": 1,
                "type": "gray",
                "size": [
                  55,
                  55
                ],
                "position": [
                  0,
                  0
                ]
              },
              {
                "id": "group#USA",
                "properties": {
                  "label": "USA"
                },
                "color": "gray",
                "styles": {},
                "label": "USA",
                "scale_factor": 1,
                "type": "gray",
                "size": [
                  55,
                  55
                ],
                "position": [
                  0,
                  0
                ]
              },
              {
                "id": "group#Canada",
                "properties": {
                  "label": "Canada"
                },
                "color": "gray",
                "styles": {},
                "label": "Canada",
                "scale_factor": 1,
                "type": "gray",
                "size": [
                  55,
                  55
                ],
                "position": [
                  0,
                  0
                ]
              },
              {
                "id": "group#Canada",
                "properties": {
                  "label": "Canada"
                },
                "color": "gray",
                "styles": {},
                "label": "Canada",
                "scale_factor": 1,
                "type": "gray",
                "size": [
                  55,
                  55
                ],
                "position": [
                  0,
                  0
                ]
              },
              {
                "id": "group#Canada",
                "properties": {
                  "label": "Canada"
                },
                "color": "gray",
                "styles": {},
                "label": "Canada",
                "scale_factor": 1,
                "type": "gray",
                "size": [
                  55,
                  55
                ],
                "position": [
                  0,
                  0
                ]
              },
              {
                "id": "group#Mexico",
                "properties": {
                  "label": "Mexico"
                },
                "color": "gray",
                "styles": {},
                "label": "Mexico",
                "scale_factor": 1,
                "type": "gray",
                "size": [
                  55,
                  55
                ],
                "position": [
                  0,
                  0
                ]
              },
              {
                "id": "group#Guatemala",
                "properties": {
                  "label": "Guatemala"
                },
                "color": "gray",
                "styles": {},
                "label": "Guatemala",
                "scale_factor": 1,
                "type": "gray",
                "size": [
                  55,
                  55
                ],
                "position": [
                  0,
                  0
                ]
              },
              {
                "id": "group#Argentina",
                "properties": {
                  "label": "Argentina"
                },
                "color": "gray",
                "styles": {},
                "label": "Argentina",
                "scale_factor": 1,
                "type": "gray",
                "size": [
                  55,
                  55
                ],
                "position": [
                  0,
                  0
                ]
              },
              {
                "id": "group#Brazil",
                "properties": {
                  "label": "Brazil"
                },
                "color": "gray",
                "styles": {},
                "label": "Brazil",
                "scale_factor": 1,
                "type": "gray",
                "size": [
                  55,
                  55
                ],
                "position": [
                  0,
                  0
                ]
              },
              {
                "id": "group#Chile",
                "properties": {
                  "label": "Chile"
                },
                "color": "gray",
                "styles": {},
                "label": "Chile",
                "scale_factor": 1,
                "type": "gray",
                "size": [
                  55,
                  55
                ],
                "position": [
                  0,
                  0
                ]
              },
              {
                "id": "group#Brazil",
                "properties": {
                  "label": "Brazil"
                },
                "color": "gray",
                "styles": {},
                "label": "Brazil",
                "scale_factor": 1,
                "type": "gray",
                "size": [
                  55,
                  55
                ],
                "position": [
                  0,
                  0
                ]
              },
              {
                "id": "group#Colombia",
                "properties": {
                  "label": "Colombia"
                },
                "color": "gray",
                "styles": {},
                "label": "Colombia",
                "scale_factor": 1,
                "type": "gray",
                "size": [
                  55,
                  55
                ],
                "position": [
                  0,
                  0
                ]
              },
              {
                "id": "group#Venezuela",
                "properties": {
                  "label": "Venezuela"
                },
                "color": "gray",
                "styles": {},
                "label": "Venezuela",
                "scale_factor": 1,
                "type": "gray",
                "size": [
                  55,
                  55
                ],
                "position": [
                  0,
                  0
                ]
              }
            ],
            "_overview": {
              "enabled": null,
              "overview_set": false
            },
            "_selected_graph": [
              [],
              []
            ],
            "_sidebar": {
              "enabled": false,
              "start_with": null
            },
            "_view_count": null,
            "_view_module": "yfiles-jupyter-graphs",
            "_view_module_version": "^1.10.0",
            "_view_name": "GraphView",
            "layout": "IPY_MODEL_9d0ea187b74f477dba4b04e5a7d46df6",
            "tabbable": null,
            "tooltip": null
          }
        },
        "9d0ea187b74f477dba4b04e5a7d46df6": {
          "model_module": "@jupyter-widgets/base",
          "model_name": "LayoutModel",
          "model_module_version": "2.0.0",
          "state": {
            "_model_module": "@jupyter-widgets/base",
            "_model_module_version": "2.0.0",
            "_model_name": "LayoutModel",
            "_view_count": null,
            "_view_module": "@jupyter-widgets/base",
            "_view_module_version": "2.0.0",
            "_view_name": "LayoutView",
            "align_content": null,
            "align_items": null,
            "align_self": null,
            "border_bottom": null,
            "border_left": null,
            "border_right": null,
            "border_top": null,
            "bottom": null,
            "display": null,
            "flex": null,
            "flex_flow": null,
            "grid_area": null,
            "grid_auto_columns": null,
            "grid_auto_flow": null,
            "grid_auto_rows": null,
            "grid_column": null,
            "grid_gap": null,
            "grid_row": null,
            "grid_template_areas": null,
            "grid_template_columns": null,
            "grid_template_rows": null,
            "height": "800px",
            "justify_content": null,
            "justify_items": null,
            "left": null,
            "margin": null,
            "max_height": null,
            "max_width": null,
            "min_height": null,
            "min_width": null,
            "object_fit": null,
            "object_position": null,
            "order": null,
            "overflow": null,
            "padding": null,
            "right": null,
            "top": null,
            "visibility": null,
            "width": "100%"
          }
        },
        "a3a9ca6db37f417f8231ac0a7db171c1": {
          "model_module": "yfiles-jupyter-graphs",
          "model_name": "GraphModel",
          "model_module_version": "^1.10.0",
          "state": {
            "_context_pane_mapping": [
              {
                "id": "Neighborhood",
                "title": "Neighborhood"
              },
              {
                "id": "Data",
                "title": "Data"
              },
              {
                "id": "Search",
                "title": "Search"
              },
              {
                "id": "About",
                "title": "About"
              }
            ],
            "_data_importer": "unknown",
            "_directed": false,
            "_dom_classes": [],
            "_edges": [
              {
                "start": "LAX",
                "end": "JFK",
                "label": "domestic",
                "properties": {},
                "directed": false,
                "color": "#15AFAC",
                "thickness_factor": 1,
                "styles": {
                  "color": "red",
                  "directed": true,
                  "thickness": 4,
                  "dashStyle": "dot",
                  "label_styles": {
                    "fontSize": 20,
                    "fontWeight": "bold"
                  }
                }
              },
              {
                "start": "JFK",
                "end": "GIG",
                "label": null,
                "properties": {},
                "directed": false,
                "color": "#15AFAC",
                "thickness_factor": 1,
                "styles": {
                  "color": "gray",
                  "directed": true,
                  "thickness": 1,
                  "dashStyle": "solid",
                  "label_styles": {
                    "fontSize": 20,
                    "fontWeight": "bold"
                  }
                }
              },
              {
                "start": "JFK",
                "end": "LIM",
                "label": null,
                "properties": {},
                "directed": false,
                "color": "#15AFAC",
                "thickness_factor": 1,
                "styles": {
                  "color": "gray",
                  "directed": true,
                  "thickness": 1,
                  "dashStyle": "solid",
                  "label_styles": {
                    "fontSize": 20,
                    "fontWeight": "bold"
                  }
                }
              },
              {
                "start": "JFK",
                "end": "LHR",
                "label": null,
                "properties": {},
                "directed": false,
                "color": "#15AFAC",
                "thickness_factor": 1,
                "styles": {
                  "color": "gray",
                  "directed": true,
                  "thickness": 1,
                  "dashStyle": "solid",
                  "label_styles": {
                    "fontSize": 20,
                    "fontWeight": "bold"
                  }
                }
              },
              {
                "start": "GIG",
                "end": "FRA",
                "label": null,
                "properties": {},
                "directed": false,
                "color": "#15AFAC",
                "thickness_factor": 1,
                "styles": {
                  "color": "gray",
                  "directed": true,
                  "thickness": 1,
                  "dashStyle": "solid",
                  "label_styles": {
                    "fontSize": 20,
                    "fontWeight": "bold"
                  }
                }
              },
              {
                "start": "LIM",
                "end": "GIG",
                "label": null,
                "properties": {},
                "directed": false,
                "color": "#15AFAC",
                "thickness_factor": 1,
                "styles": {
                  "color": "gray",
                  "directed": true,
                  "thickness": 1,
                  "dashStyle": "solid",
                  "label_styles": {
                    "fontSize": 20,
                    "fontWeight": "bold"
                  }
                }
              },
              {
                "start": "FRA",
                "end": "JFK",
                "label": null,
                "properties": {},
                "directed": false,
                "color": "#15AFAC",
                "thickness_factor": 1,
                "styles": {
                  "color": "gray",
                  "directed": true,
                  "thickness": 1,
                  "dashStyle": "solid",
                  "label_styles": {
                    "fontSize": 20,
                    "fontWeight": "bold"
                  }
                }
              },
              {
                "start": "LHR",
                "end": "FRA",
                "label": null,
                "properties": {},
                "directed": false,
                "color": "#15AFAC",
                "thickness_factor": 1,
                "styles": {
                  "color": "gray",
                  "directed": true,
                  "thickness": 1,
                  "dashStyle": "solid",
                  "label_styles": {
                    "fontSize": 20,
                    "fontWeight": "bold"
                  }
                }
              },
              {
                "start": "FRA",
                "end": "SVO",
                "label": null,
                "properties": {},
                "directed": false,
                "color": "#15AFAC",
                "thickness_factor": 1,
                "styles": {
                  "color": "gray",
                  "directed": true,
                  "thickness": 1,
                  "dashStyle": "solid",
                  "label_styles": {
                    "fontSize": 20,
                    "fontWeight": "bold"
                  }
                }
              },
              {
                "start": "FRA",
                "end": "DXB",
                "label": null,
                "properties": {},
                "directed": false,
                "color": "#15AFAC",
                "thickness_factor": 1,
                "styles": {
                  "color": "gray",
                  "directed": true,
                  "thickness": 1,
                  "dashStyle": "solid",
                  "label_styles": {
                    "fontSize": 20,
                    "fontWeight": "bold"
                  }
                }
              },
              {
                "start": "SVO",
                "end": "DEL",
                "label": null,
                "properties": {},
                "directed": false,
                "color": "#15AFAC",
                "thickness_factor": 1,
                "styles": {
                  "color": "gray",
                  "directed": true,
                  "thickness": 1,
                  "dashStyle": "solid",
                  "label_styles": {
                    "fontSize": 20,
                    "fontWeight": "bold"
                  }
                }
              },
              {
                "start": "SVO",
                "end": "PVG",
                "label": null,
                "properties": {},
                "directed": false,
                "color": "#15AFAC",
                "thickness_factor": 1,
                "styles": {
                  "color": "gray",
                  "directed": true,
                  "thickness": 1,
                  "dashStyle": "solid",
                  "label_styles": {
                    "fontSize": 20,
                    "fontWeight": "bold"
                  }
                }
              },
              {
                "start": "DEL",
                "end": "HKG",
                "label": null,
                "properties": {},
                "directed": false,
                "color": "#15AFAC",
                "thickness_factor": 1,
                "styles": {
                  "color": "gray",
                  "directed": true,
                  "thickness": 1,
                  "dashStyle": "solid",
                  "label_styles": {
                    "fontSize": 20,
                    "fontWeight": "bold"
                  }
                }
              },
              {
                "start": "PVG",
                "end": "HKG",
                "label": "domestic",
                "properties": {},
                "directed": false,
                "color": "#15AFAC",
                "thickness_factor": 1,
                "styles": {
                  "color": "red",
                  "directed": true,
                  "thickness": 4,
                  "dashStyle": "dot",
                  "label_styles": {
                    "fontSize": 20,
                    "fontWeight": "bold"
                  }
                }
              },
              {
                "start": "PVG",
                "end": "NRT",
                "label": null,
                "properties": {},
                "directed": false,
                "color": "#15AFAC",
                "thickness_factor": 1,
                "styles": {
                  "color": "gray",
                  "directed": true,
                  "thickness": 1,
                  "dashStyle": "solid",
                  "label_styles": {
                    "fontSize": 20,
                    "fontWeight": "bold"
                  }
                }
              },
              {
                "start": "HKG",
                "end": "SYD",
                "label": null,
                "properties": {},
                "directed": false,
                "color": "#15AFAC",
                "thickness_factor": 1,
                "styles": {
                  "color": "gray",
                  "directed": true,
                  "thickness": 1,
                  "dashStyle": "solid",
                  "label_styles": {
                    "fontSize": 20,
                    "fontWeight": "bold"
                  }
                }
              },
              {
                "start": "NRT",
                "end": "SYD",
                "label": null,
                "properties": {},
                "directed": false,
                "color": "#15AFAC",
                "thickness_factor": 1,
                "styles": {
                  "color": "gray",
                  "directed": true,
                  "thickness": 1,
                  "dashStyle": "solid",
                  "label_styles": {
                    "fontSize": 20,
                    "fontWeight": "bold"
                  }
                }
              },
              {
                "start": "DXB",
                "end": "SVO",
                "label": null,
                "properties": {},
                "directed": false,
                "color": "#15AFAC",
                "thickness_factor": 1,
                "styles": {
                  "color": "gray",
                  "directed": true,
                  "thickness": 1,
                  "dashStyle": "solid",
                  "label_styles": {
                    "fontSize": 20,
                    "fontWeight": "bold"
                  }
                }
              },
              {
                "start": "DXB",
                "end": "DEL",
                "label": null,
                "properties": {},
                "directed": false,
                "color": "#15AFAC",
                "thickness_factor": 1,
                "styles": {
                  "color": "gray",
                  "directed": true,
                  "thickness": 1,
                  "dashStyle": "solid",
                  "label_styles": {
                    "fontSize": 20,
                    "fontWeight": "bold"
                  }
                }
              },
              {
                "start": "DXB",
                "end": "DKR",
                "label": null,
                "properties": {},
                "directed": false,
                "color": "#15AFAC",
                "thickness_factor": 1,
                "styles": {
                  "color": "gray",
                  "directed": true,
                  "thickness": 1,
                  "dashStyle": "solid",
                  "label_styles": {
                    "fontSize": 20,
                    "fontWeight": "bold"
                  }
                }
              },
              {
                "start": "DXB",
                "end": "JNB",
                "label": null,
                "properties": {},
                "directed": false,
                "color": "#15AFAC",
                "thickness_factor": 1,
                "styles": {
                  "color": "gray",
                  "directed": true,
                  "thickness": 1,
                  "dashStyle": "solid",
                  "label_styles": {
                    "fontSize": 20,
                    "fontWeight": "bold"
                  }
                }
              },
              {
                "start": "JNB",
                "end": "LHR",
                "label": null,
                "properties": {},
                "directed": false,
                "color": "#15AFAC",
                "thickness_factor": 1,
                "styles": {
                  "color": "gray",
                  "directed": true,
                  "thickness": 1,
                  "dashStyle": "solid",
                  "label_styles": {
                    "fontSize": 20,
                    "fontWeight": "bold"
                  }
                }
              },
              {
                "start": "JNB",
                "end": "DKR",
                "label": null,
                "properties": {},
                "directed": false,
                "color": "#15AFAC",
                "thickness_factor": 1,
                "styles": {
                  "color": "gray",
                  "directed": true,
                  "thickness": 1,
                  "dashStyle": "solid",
                  "label_styles": {
                    "fontSize": 20,
                    "fontWeight": "bold"
                  }
                }
              },
              {
                "start": "SYD",
                "end": "DXB",
                "label": null,
                "properties": {},
                "directed": false,
                "color": "#15AFAC",
                "thickness_factor": 1,
                "styles": {
                  "color": "gray",
                  "directed": true,
                  "thickness": 1,
                  "dashStyle": "solid",
                  "label_styles": {
                    "fontSize": 20,
                    "fontWeight": "bold"
                  }
                }
              },
              {
                "start": "NBO",
                "end": "JNB",
                "label": null,
                "properties": {},
                "directed": false,
                "color": "#15AFAC",
                "thickness_factor": 1,
                "styles": {
                  "color": "gray",
                  "directed": true,
                  "thickness": 1,
                  "dashStyle": "solid",
                  "label_styles": {
                    "fontSize": 20,
                    "fontWeight": "bold"
                  }
                }
              },
              {
                "start": "NBO",
                "end": "DXB",
                "label": null,
                "properties": {},
                "directed": false,
                "color": "#15AFAC",
                "thickness_factor": 1,
                "styles": {
                  "color": "gray",
                  "directed": true,
                  "thickness": 1,
                  "dashStyle": "solid",
                  "label_styles": {
                    "fontSize": 20,
                    "fontWeight": "bold"
                  }
                }
              },
              {
                "start": "ATL",
                "end": "JFK",
                "label": "domestic",
                "properties": {},
                "directed": false,
                "color": "#15AFAC",
                "thickness_factor": 1,
                "styles": {
                  "color": "red",
                  "directed": true,
                  "thickness": 4,
                  "dashStyle": "dot",
                  "label_styles": {
                    "fontSize": 20,
                    "fontWeight": "bold"
                  }
                }
              },
              {
                "start": "LAX",
                "end": "ATL",
                "label": "domestic",
                "properties": {},
                "directed": false,
                "color": "#15AFAC",
                "thickness_factor": 1,
                "styles": {
                  "color": "red",
                  "directed": true,
                  "thickness": 4,
                  "dashStyle": "dot",
                  "label_styles": {
                    "fontSize": 20,
                    "fontWeight": "bold"
                  }
                }
              },
              {
                "start": "ATL",
                "end": "LHR",
                "label": null,
                "properties": {},
                "directed": false,
                "color": "#15AFAC",
                "thickness_factor": 1,
                "styles": {
                  "color": "gray",
                  "directed": true,
                  "thickness": 1,
                  "dashStyle": "solid",
                  "label_styles": {
                    "fontSize": 20,
                    "fontWeight": "bold"
                  }
                }
              },
              {
                "start": "ATL",
                "end": "LIM",
                "label": null,
                "properties": {},
                "directed": false,
                "color": "#15AFAC",
                "thickness_factor": 1,
                "styles": {
                  "color": "gray",
                  "directed": true,
                  "thickness": 1,
                  "dashStyle": "solid",
                  "label_styles": {
                    "fontSize": 20,
                    "fontWeight": "bold"
                  }
                }
              },
              {
                "start": "SCL",
                "end": "LIM",
                "label": null,
                "properties": {},
                "directed": false,
                "color": "#15AFAC",
                "thickness_factor": 1,
                "styles": {
                  "color": "gray",
                  "directed": true,
                  "thickness": 1,
                  "dashStyle": "solid",
                  "label_styles": {
                    "fontSize": 20,
                    "fontWeight": "bold"
                  }
                }
              },
              {
                "start": "EZE",
                "end": "SCL",
                "label": null,
                "properties": {},
                "directed": false,
                "color": "#15AFAC",
                "thickness_factor": 1,
                "styles": {
                  "color": "gray",
                  "directed": true,
                  "thickness": 1,
                  "dashStyle": "solid",
                  "label_styles": {
                    "fontSize": 20,
                    "fontWeight": "bold"
                  }
                }
              },
              {
                "start": "SCL",
                "end": "GRU",
                "label": null,
                "properties": {},
                "directed": false,
                "color": "#15AFAC",
                "thickness_factor": 1,
                "styles": {
                  "color": "gray",
                  "directed": true,
                  "thickness": 1,
                  "dashStyle": "solid",
                  "label_styles": {
                    "fontSize": 20,
                    "fontWeight": "bold"
                  }
                }
              },
              {
                "start": "GIG",
                "end": "EZE",
                "label": null,
                "properties": {},
                "directed": false,
                "color": "#15AFAC",
                "thickness_factor": 1,
                "styles": {
                  "color": "gray",
                  "directed": true,
                  "thickness": 1,
                  "dashStyle": "solid",
                  "label_styles": {
                    "fontSize": 20,
                    "fontWeight": "bold"
                  }
                }
              },
              {
                "start": "GIG",
                "end": "GRU",
                "label": "domestic",
                "properties": {},
                "directed": false,
                "color": "#15AFAC",
                "thickness_factor": 1,
                "styles": {
                  "color": "red",
                  "directed": true,
                  "thickness": 4,
                  "dashStyle": "dot",
                  "label_styles": {
                    "fontSize": 20,
                    "fontWeight": "bold"
                  }
                }
              },
              {
                "start": "BSB",
                "end": "GIG",
                "label": "domestic",
                "properties": {},
                "directed": false,
                "color": "#15AFAC",
                "thickness_factor": 1,
                "styles": {
                  "color": "red",
                  "directed": true,
                  "thickness": 4,
                  "dashStyle": "dot",
                  "label_styles": {
                    "fontSize": 20,
                    "fontWeight": "bold"
                  }
                }
              },
              {
                "start": "SCL",
                "end": "BSB",
                "label": null,
                "properties": {},
                "directed": false,
                "color": "#15AFAC",
                "thickness_factor": 1,
                "styles": {
                  "color": "gray",
                  "directed": true,
                  "thickness": 1,
                  "dashStyle": "solid",
                  "label_styles": {
                    "fontSize": 20,
                    "fontWeight": "bold"
                  }
                }
              },
              {
                "start": "LIM",
                "end": "BSB",
                "label": null,
                "properties": {},
                "directed": false,
                "color": "#15AFAC",
                "thickness_factor": 1,
                "styles": {
                  "color": "gray",
                  "directed": true,
                  "thickness": 1,
                  "dashStyle": "solid",
                  "label_styles": {
                    "fontSize": 20,
                    "fontWeight": "bold"
                  }
                }
              },
              {
                "start": "BOG",
                "end": "BSB",
                "label": null,
                "properties": {},
                "directed": false,
                "color": "#15AFAC",
                "thickness_factor": 1,
                "styles": {
                  "color": "gray",
                  "directed": true,
                  "thickness": 1,
                  "dashStyle": "solid",
                  "label_styles": {
                    "fontSize": 20,
                    "fontWeight": "bold"
                  }
                }
              },
              {
                "start": "CCS",
                "end": "BSB",
                "label": null,
                "properties": {},
                "directed": false,
                "color": "#15AFAC",
                "thickness_factor": 1,
                "styles": {
                  "color": "gray",
                  "directed": true,
                  "thickness": 1,
                  "dashStyle": "solid",
                  "label_styles": {
                    "fontSize": 20,
                    "fontWeight": "bold"
                  }
                }
              },
              {
                "start": "BOG",
                "end": "GUA",
                "label": null,
                "properties": {},
                "directed": false,
                "color": "#15AFAC",
                "thickness_factor": 1,
                "styles": {
                  "color": "gray",
                  "directed": true,
                  "thickness": 1,
                  "dashStyle": "solid",
                  "label_styles": {
                    "fontSize": 20,
                    "fontWeight": "bold"
                  }
                }
              },
              {
                "start": "CCS",
                "end": "MIA",
                "label": null,
                "properties": {},
                "directed": false,
                "color": "#15AFAC",
                "thickness_factor": 1,
                "styles": {
                  "color": "gray",
                  "directed": true,
                  "thickness": 1,
                  "dashStyle": "solid",
                  "label_styles": {
                    "fontSize": 20,
                    "fontWeight": "bold"
                  }
                }
              },
              {
                "start": "GUA",
                "end": "MIA",
                "label": null,
                "properties": {},
                "directed": false,
                "color": "#15AFAC",
                "thickness_factor": 1,
                "styles": {
                  "color": "gray",
                  "directed": true,
                  "thickness": 1,
                  "dashStyle": "solid",
                  "label_styles": {
                    "fontSize": 20,
                    "fontWeight": "bold"
                  }
                }
              },
              {
                "start": "GUA",
                "end": "MEX",
                "label": null,
                "properties": {},
                "directed": false,
                "color": "#15AFAC",
                "thickness_factor": 1,
                "styles": {
                  "color": "gray",
                  "directed": true,
                  "thickness": 1,
                  "dashStyle": "solid",
                  "label_styles": {
                    "fontSize": 20,
                    "fontWeight": "bold"
                  }
                }
              },
              {
                "start": "MEX",
                "end": "LAX",
                "label": null,
                "properties": {},
                "directed": false,
                "color": "#15AFAC",
                "thickness_factor": 1,
                "styles": {
                  "color": "gray",
                  "directed": true,
                  "thickness": 1,
                  "dashStyle": "solid",
                  "label_styles": {
                    "fontSize": 20,
                    "fontWeight": "bold"
                  }
                }
              },
              {
                "start": "MEX",
                "end": "LAX",
                "label": null,
                "properties": {},
                "directed": false,
                "color": "#15AFAC",
                "thickness_factor": 1,
                "styles": {
                  "color": "gray",
                  "directed": true,
                  "thickness": 1,
                  "dashStyle": "solid",
                  "label_styles": {
                    "fontSize": 20,
                    "fontWeight": "bold"
                  }
                }
              },
              {
                "start": "LAX",
                "end": "SFO",
                "label": "domestic",
                "properties": {},
                "directed": false,
                "color": "#15AFAC",
                "thickness_factor": 1,
                "styles": {
                  "color": "red",
                  "directed": true,
                  "thickness": 4,
                  "dashStyle": "dot",
                  "label_styles": {
                    "fontSize": 20,
                    "fontWeight": "bold"
                  }
                }
              },
              {
                "start": "SFO",
                "end": "YVR",
                "label": null,
                "properties": {},
                "directed": false,
                "color": "#15AFAC",
                "thickness_factor": 1,
                "styles": {
                  "color": "gray",
                  "directed": true,
                  "thickness": 1,
                  "dashStyle": "solid",
                  "label_styles": {
                    "fontSize": 20,
                    "fontWeight": "bold"
                  }
                }
              },
              {
                "start": "LAX",
                "end": "LAS",
                "label": "domestic",
                "properties": {},
                "directed": false,
                "color": "#15AFAC",
                "thickness_factor": 1,
                "styles": {
                  "color": "red",
                  "directed": true,
                  "thickness": 4,
                  "dashStyle": "dot",
                  "label_styles": {
                    "fontSize": 20,
                    "fontWeight": "bold"
                  }
                }
              },
              {
                "start": "LAX",
                "end": "DFW",
                "label": "domestic",
                "properties": {},
                "directed": false,
                "color": "#15AFAC",
                "thickness_factor": 1,
                "styles": {
                  "color": "red",
                  "directed": true,
                  "thickness": 4,
                  "dashStyle": "dot",
                  "label_styles": {
                    "fontSize": 20,
                    "fontWeight": "bold"
                  }
                }
              },
              {
                "start": "LAX",
                "end": "ORD",
                "label": "domestic",
                "properties": {},
                "directed": false,
                "color": "#15AFAC",
                "thickness_factor": 1,
                "styles": {
                  "color": "red",
                  "directed": true,
                  "thickness": 4,
                  "dashStyle": "dot",
                  "label_styles": {
                    "fontSize": 20,
                    "fontWeight": "bold"
                  }
                }
              },
              {
                "start": "SFO",
                "end": "LAS",
                "label": "domestic",
                "properties": {},
                "directed": false,
                "color": "#15AFAC",
                "thickness_factor": 1,
                "styles": {
                  "color": "red",
                  "directed": true,
                  "thickness": 4,
                  "dashStyle": "dot",
                  "label_styles": {
                    "fontSize": 20,
                    "fontWeight": "bold"
                  }
                }
              },
              {
                "start": "DFW",
                "end": "ATL",
                "label": "domestic",
                "properties": {},
                "directed": false,
                "color": "#15AFAC",
                "thickness_factor": 1,
                "styles": {
                  "color": "red",
                  "directed": true,
                  "thickness": 4,
                  "dashStyle": "dot",
                  "label_styles": {
                    "fontSize": 20,
                    "fontWeight": "bold"
                  }
                }
              },
              {
                "start": "ATL",
                "end": "YYZ",
                "label": null,
                "properties": {},
                "directed": false,
                "color": "#15AFAC",
                "thickness_factor": 1,
                "styles": {
                  "color": "gray",
                  "directed": true,
                  "thickness": 1,
                  "dashStyle": "solid",
                  "label_styles": {
                    "fontSize": 20,
                    "fontWeight": "bold"
                  }
                }
              },
              {
                "start": "ORD",
                "end": "YYZ",
                "label": null,
                "properties": {},
                "directed": false,
                "color": "#15AFAC",
                "thickness_factor": 1,
                "styles": {
                  "color": "gray",
                  "directed": true,
                  "thickness": 1,
                  "dashStyle": "solid",
                  "label_styles": {
                    "fontSize": 20,
                    "fontWeight": "bold"
                  }
                }
              },
              {
                "start": "YYZ",
                "end": "YUL",
                "label": "domestic",
                "properties": {},
                "directed": false,
                "color": "#15AFAC",
                "thickness_factor": 1,
                "styles": {
                  "color": "red",
                  "directed": true,
                  "thickness": 4,
                  "dashStyle": "dot",
                  "label_styles": {
                    "fontSize": 20,
                    "fontWeight": "bold"
                  }
                }
              },
              {
                "start": "YYZ",
                "end": "JFK",
                "label": null,
                "properties": {},
                "directed": false,
                "color": "#15AFAC",
                "thickness_factor": 1,
                "styles": {
                  "color": "gray",
                  "directed": true,
                  "thickness": 1,
                  "dashStyle": "solid",
                  "label_styles": {
                    "fontSize": 20,
                    "fontWeight": "bold"
                  }
                }
              },
              {
                "start": "YUL",
                "end": "JFK",
                "label": null,
                "properties": {},
                "directed": false,
                "color": "#15AFAC",
                "thickness_factor": 1,
                "styles": {
                  "color": "gray",
                  "directed": true,
                  "thickness": 1,
                  "dashStyle": "solid",
                  "label_styles": {
                    "fontSize": 20,
                    "fontWeight": "bold"
                  }
                }
              },
              {
                "start": "JNB",
                "end": "CPT",
                "label": "domestic",
                "properties": {},
                "directed": false,
                "color": "#15AFAC",
                "thickness_factor": 1,
                "styles": {
                  "color": "red",
                  "directed": true,
                  "thickness": 4,
                  "dashStyle": "dot",
                  "label_styles": {
                    "fontSize": 20,
                    "fontWeight": "bold"
                  }
                }
              },
              {
                "start": "LOS",
                "end": "DKR",
                "label": null,
                "properties": {},
                "directed": false,
                "color": "#15AFAC",
                "thickness_factor": 1,
                "styles": {
                  "color": "gray",
                  "directed": true,
                  "thickness": 1,
                  "dashStyle": "solid",
                  "label_styles": {
                    "fontSize": 20,
                    "fontWeight": "bold"
                  }
                }
              },
              {
                "start": "NBO",
                "end": "LOS",
                "label": null,
                "properties": {},
                "directed": false,
                "color": "#15AFAC",
                "thickness_factor": 1,
                "styles": {
                  "color": "gray",
                  "directed": true,
                  "thickness": 1,
                  "dashStyle": "solid",
                  "label_styles": {
                    "fontSize": 20,
                    "fontWeight": "bold"
                  }
                }
              },
              {
                "start": "DKR",
                "end": "CMN",
                "label": null,
                "properties": {},
                "directed": false,
                "color": "#15AFAC",
                "thickness_factor": 1,
                "styles": {
                  "color": "gray",
                  "directed": true,
                  "thickness": 1,
                  "dashStyle": "solid",
                  "label_styles": {
                    "fontSize": 20,
                    "fontWeight": "bold"
                  }
                }
              },
              {
                "start": "DKR",
                "end": "CAI",
                "label": null,
                "properties": {},
                "directed": false,
                "color": "#15AFAC",
                "thickness_factor": 1,
                "styles": {
                  "color": "gray",
                  "directed": true,
                  "thickness": 1,
                  "dashStyle": "solid",
                  "label_styles": {
                    "fontSize": 20,
                    "fontWeight": "bold"
                  }
                }
              },
              {
                "start": "NBO",
                "end": "CAI",
                "label": null,
                "properties": {},
                "directed": false,
                "color": "#15AFAC",
                "thickness_factor": 1,
                "styles": {
                  "color": "gray",
                  "directed": true,
                  "thickness": 1,
                  "dashStyle": "solid",
                  "label_styles": {
                    "fontSize": 20,
                    "fontWeight": "bold"
                  }
                }
              },
              {
                "start": "DXB",
                "end": "CAI",
                "label": null,
                "properties": {},
                "directed": false,
                "color": "#15AFAC",
                "thickness_factor": 1,
                "styles": {
                  "color": "gray",
                  "directed": true,
                  "thickness": 1,
                  "dashStyle": "solid",
                  "label_styles": {
                    "fontSize": 20,
                    "fontWeight": "bold"
                  }
                }
              },
              {
                "start": "IKA",
                "end": "DXB",
                "label": null,
                "properties": {},
                "directed": false,
                "color": "#15AFAC",
                "thickness_factor": 1,
                "styles": {
                  "color": "gray",
                  "directed": true,
                  "thickness": 1,
                  "dashStyle": "solid",
                  "label_styles": {
                    "fontSize": 20,
                    "fontWeight": "bold"
                  }
                }
              },
              {
                "start": "IST",
                "end": "IKA",
                "label": null,
                "properties": {},
                "directed": false,
                "color": "#15AFAC",
                "thickness_factor": 1,
                "styles": {
                  "color": "gray",
                  "directed": true,
                  "thickness": 1,
                  "dashStyle": "solid",
                  "label_styles": {
                    "fontSize": 20,
                    "fontWeight": "bold"
                  }
                }
              },
              {
                "start": "TLV",
                "end": "ATH",
                "label": null,
                "properties": {},
                "directed": false,
                "color": "#15AFAC",
                "thickness_factor": 1,
                "styles": {
                  "color": "gray",
                  "directed": true,
                  "thickness": 1,
                  "dashStyle": "solid",
                  "label_styles": {
                    "fontSize": 20,
                    "fontWeight": "bold"
                  }
                }
              },
              {
                "start": "CAI",
                "end": "TLV",
                "label": null,
                "properties": {},
                "directed": false,
                "color": "#15AFAC",
                "thickness_factor": 1,
                "styles": {
                  "color": "gray",
                  "directed": true,
                  "thickness": 1,
                  "dashStyle": "solid",
                  "label_styles": {
                    "fontSize": 20,
                    "fontWeight": "bold"
                  }
                }
              },
              {
                "start": "ATH",
                "end": "IST",
                "label": null,
                "properties": {},
                "directed": false,
                "color": "#15AFAC",
                "thickness_factor": 1,
                "styles": {
                  "color": "gray",
                  "directed": true,
                  "thickness": 1,
                  "dashStyle": "solid",
                  "label_styles": {
                    "fontSize": 20,
                    "fontWeight": "bold"
                  }
                }
              },
              {
                "start": "FCO",
                "end": "ATH",
                "label": null,
                "properties": {},
                "directed": false,
                "color": "#15AFAC",
                "thickness_factor": 1,
                "styles": {
                  "color": "gray",
                  "directed": true,
                  "thickness": 1,
                  "dashStyle": "solid",
                  "label_styles": {
                    "fontSize": 20,
                    "fontWeight": "bold"
                  }
                }
              },
              {
                "start": "LIS",
                "end": "LHR",
                "label": null,
                "properties": {},
                "directed": false,
                "color": "#15AFAC",
                "thickness_factor": 1,
                "styles": {
                  "color": "gray",
                  "directed": true,
                  "thickness": 1,
                  "dashStyle": "solid",
                  "label_styles": {
                    "fontSize": 20,
                    "fontWeight": "bold"
                  }
                }
              },
              {
                "start": "LIS",
                "end": "MAD",
                "label": null,
                "properties": {},
                "directed": false,
                "color": "#15AFAC",
                "thickness_factor": 1,
                "styles": {
                  "color": "gray",
                  "directed": true,
                  "thickness": 1,
                  "dashStyle": "solid",
                  "label_styles": {
                    "fontSize": 20,
                    "fontWeight": "bold"
                  }
                }
              },
              {
                "start": "MAD",
                "end": "BCN",
                "label": "domestic",
                "properties": {},
                "directed": false,
                "color": "#15AFAC",
                "thickness_factor": 1,
                "styles": {
                  "color": "red",
                  "directed": true,
                  "thickness": 4,
                  "dashStyle": "dot",
                  "label_styles": {
                    "fontSize": 20,
                    "fontWeight": "bold"
                  }
                }
              },
              {
                "start": "CDG",
                "end": "LHR",
                "label": null,
                "properties": {},
                "directed": false,
                "color": "#15AFAC",
                "thickness_factor": 1,
                "styles": {
                  "color": "gray",
                  "directed": true,
                  "thickness": 1,
                  "dashStyle": "solid",
                  "label_styles": {
                    "fontSize": 20,
                    "fontWeight": "bold"
                  }
                }
              },
              {
                "start": "DUB",
                "end": "LHR",
                "label": null,
                "properties": {},
                "directed": false,
                "color": "#15AFAC",
                "thickness_factor": 1,
                "styles": {
                  "color": "gray",
                  "directed": true,
                  "thickness": 1,
                  "dashStyle": "solid",
                  "label_styles": {
                    "fontSize": 20,
                    "fontWeight": "bold"
                  }
                }
              },
              {
                "start": "EDI",
                "end": "LHR",
                "label": "domestic",
                "properties": {},
                "directed": false,
                "color": "#15AFAC",
                "thickness_factor": 1,
                "styles": {
                  "color": "red",
                  "directed": true,
                  "thickness": 4,
                  "dashStyle": "dot",
                  "label_styles": {
                    "fontSize": 20,
                    "fontWeight": "bold"
                  }
                }
              },
              {
                "start": "CDG",
                "end": "BCN",
                "label": null,
                "properties": {},
                "directed": false,
                "color": "#15AFAC",
                "thickness_factor": 1,
                "styles": {
                  "color": "gray",
                  "directed": true,
                  "thickness": 1,
                  "dashStyle": "solid",
                  "label_styles": {
                    "fontSize": 20,
                    "fontWeight": "bold"
                  }
                }
              },
              {
                "start": "BCN",
                "end": "FCO",
                "label": null,
                "properties": {},
                "directed": false,
                "color": "#15AFAC",
                "thickness_factor": 1,
                "styles": {
                  "color": "gray",
                  "directed": true,
                  "thickness": 1,
                  "dashStyle": "solid",
                  "label_styles": {
                    "fontSize": 20,
                    "fontWeight": "bold"
                  }
                }
              },
              {
                "start": "VIE",
                "end": "IST",
                "label": null,
                "properties": {},
                "directed": false,
                "color": "#15AFAC",
                "thickness_factor": 1,
                "styles": {
                  "color": "gray",
                  "directed": true,
                  "thickness": 1,
                  "dashStyle": "solid",
                  "label_styles": {
                    "fontSize": 20,
                    "fontWeight": "bold"
                  }
                }
              },
              {
                "start": "VIE",
                "end": "SVO",
                "label": null,
                "properties": {},
                "directed": false,
                "color": "#15AFAC",
                "thickness_factor": 1,
                "styles": {
                  "color": "gray",
                  "directed": true,
                  "thickness": 1,
                  "dashStyle": "solid",
                  "label_styles": {
                    "fontSize": 20,
                    "fontWeight": "bold"
                  }
                }
              },
              {
                "start": "CMN",
                "end": "LIS",
                "label": null,
                "properties": {},
                "directed": false,
                "color": "#15AFAC",
                "thickness_factor": 1,
                "styles": {
                  "color": "gray",
                  "directed": true,
                  "thickness": 1,
                  "dashStyle": "solid",
                  "label_styles": {
                    "fontSize": 20,
                    "fontWeight": "bold"
                  }
                }
              },
              {
                "start": "MAD",
                "end": "CMN",
                "label": null,
                "properties": {},
                "directed": false,
                "color": "#15AFAC",
                "thickness_factor": 1,
                "styles": {
                  "color": "gray",
                  "directed": true,
                  "thickness": 1,
                  "dashStyle": "solid",
                  "label_styles": {
                    "fontSize": 20,
                    "fontWeight": "bold"
                  }
                }
              },
              {
                "start": "FRA",
                "end": "CPH",
                "label": null,
                "properties": {},
                "directed": false,
                "color": "#15AFAC",
                "thickness_factor": 1,
                "styles": {
                  "color": "gray",
                  "directed": true,
                  "thickness": 1,
                  "dashStyle": "solid",
                  "label_styles": {
                    "fontSize": 20,
                    "fontWeight": "bold"
                  }
                }
              },
              {
                "start": "LHR",
                "end": "CPH",
                "label": null,
                "properties": {},
                "directed": false,
                "color": "#15AFAC",
                "thickness_factor": 1,
                "styles": {
                  "color": "gray",
                  "directed": true,
                  "thickness": 1,
                  "dashStyle": "solid",
                  "label_styles": {
                    "fontSize": 20,
                    "fontWeight": "bold"
                  }
                }
              },
              {
                "start": "CPH",
                "end": "OSL",
                "label": null,
                "properties": {},
                "directed": false,
                "color": "#15AFAC",
                "thickness_factor": 1,
                "styles": {
                  "color": "gray",
                  "directed": true,
                  "thickness": 1,
                  "dashStyle": "solid",
                  "label_styles": {
                    "fontSize": 20,
                    "fontWeight": "bold"
                  }
                }
              },
              {
                "start": "CPH",
                "end": "ARN",
                "label": null,
                "properties": {},
                "directed": false,
                "color": "#15AFAC",
                "thickness_factor": 1,
                "styles": {
                  "color": "gray",
                  "directed": true,
                  "thickness": 1,
                  "dashStyle": "solid",
                  "label_styles": {
                    "fontSize": 20,
                    "fontWeight": "bold"
                  }
                }
              },
              {
                "start": "ARN",
                "end": "HEL",
                "label": null,
                "properties": {},
                "directed": false,
                "color": "#15AFAC",
                "thickness_factor": 1,
                "styles": {
                  "color": "gray",
                  "directed": true,
                  "thickness": 1,
                  "dashStyle": "solid",
                  "label_styles": {
                    "fontSize": 20,
                    "fontWeight": "bold"
                  }
                }
              },
              {
                "start": "HEL",
                "end": "SVO",
                "label": null,
                "properties": {},
                "directed": false,
                "color": "#15AFAC",
                "thickness_factor": 1,
                "styles": {
                  "color": "gray",
                  "directed": true,
                  "thickness": 1,
                  "dashStyle": "solid",
                  "label_styles": {
                    "fontSize": 20,
                    "fontWeight": "bold"
                  }
                }
              },
              {
                "start": "ULN",
                "end": "PVG",
                "label": null,
                "properties": {},
                "directed": false,
                "color": "#15AFAC",
                "thickness_factor": 1,
                "styles": {
                  "color": "gray",
                  "directed": true,
                  "thickness": 1,
                  "dashStyle": "solid",
                  "label_styles": {
                    "fontSize": 20,
                    "fontWeight": "bold"
                  }
                }
              },
              {
                "start": "CTU",
                "end": "PVG",
                "label": "domestic",
                "properties": {},
                "directed": false,
                "color": "#15AFAC",
                "thickness_factor": 1,
                "styles": {
                  "color": "red",
                  "directed": true,
                  "thickness": 4,
                  "dashStyle": "dot",
                  "label_styles": {
                    "fontSize": 20,
                    "fontWeight": "bold"
                  }
                }
              },
              {
                "start": "PVG",
                "end": "TPE",
                "label": null,
                "properties": {},
                "directed": false,
                "color": "#15AFAC",
                "thickness_factor": 1,
                "styles": {
                  "color": "gray",
                  "directed": true,
                  "thickness": 1,
                  "dashStyle": "solid",
                  "label_styles": {
                    "fontSize": 20,
                    "fontWeight": "bold"
                  }
                }
              },
              {
                "start": "CTU",
                "end": "HKG",
                "label": "domestic",
                "properties": {},
                "directed": false,
                "color": "#15AFAC",
                "thickness_factor": 1,
                "styles": {
                  "color": "red",
                  "directed": true,
                  "thickness": 4,
                  "dashStyle": "dot",
                  "label_styles": {
                    "fontSize": 20,
                    "fontWeight": "bold"
                  }
                }
              },
              {
                "start": "TPE",
                "end": "HKG",
                "label": null,
                "properties": {},
                "directed": false,
                "color": "#15AFAC",
                "thickness_factor": 1,
                "styles": {
                  "color": "gray",
                  "directed": true,
                  "thickness": 1,
                  "dashStyle": "solid",
                  "label_styles": {
                    "fontSize": 20,
                    "fontWeight": "bold"
                  }
                }
              },
              {
                "start": "HKG",
                "end": "MNL",
                "label": null,
                "properties": {},
                "directed": false,
                "color": "#15AFAC",
                "thickness_factor": 1,
                "styles": {
                  "color": "gray",
                  "directed": true,
                  "thickness": 1,
                  "dashStyle": "solid",
                  "label_styles": {
                    "fontSize": 20,
                    "fontWeight": "bold"
                  }
                }
              },
              {
                "start": "BKK",
                "end": "HKG",
                "label": null,
                "properties": {},
                "directed": false,
                "color": "#15AFAC",
                "thickness_factor": 1,
                "styles": {
                  "color": "gray",
                  "directed": true,
                  "thickness": 1,
                  "dashStyle": "solid",
                  "label_styles": {
                    "fontSize": 20,
                    "fontWeight": "bold"
                  }
                }
              },
              {
                "start": "SIN",
                "end": "KUL",
                "label": null,
                "properties": {},
                "directed": false,
                "color": "#15AFAC",
                "thickness_factor": 1,
                "styles": {
                  "color": "gray",
                  "directed": true,
                  "thickness": 1,
                  "dashStyle": "solid",
                  "label_styles": {
                    "fontSize": 20,
                    "fontWeight": "bold"
                  }
                }
              },
              {
                "start": "SIN",
                "end": "BKK",
                "label": null,
                "properties": {},
                "directed": false,
                "color": "#15AFAC",
                "thickness_factor": 1,
                "styles": {
                  "color": "gray",
                  "directed": true,
                  "thickness": 1,
                  "dashStyle": "solid",
                  "label_styles": {
                    "fontSize": 20,
                    "fontWeight": "bold"
                  }
                }
              },
              {
                "start": "CGK",
                "end": "SIN",
                "label": null,
                "properties": {},
                "directed": false,
                "color": "#15AFAC",
                "thickness_factor": 1,
                "styles": {
                  "color": "gray",
                  "directed": true,
                  "thickness": 1,
                  "dashStyle": "solid",
                  "label_styles": {
                    "fontSize": 20,
                    "fontWeight": "bold"
                  }
                }
              },
              {
                "start": "MNL",
                "end": "SIN",
                "label": null,
                "properties": {},
                "directed": false,
                "color": "#15AFAC",
                "thickness_factor": 1,
                "styles": {
                  "color": "gray",
                  "directed": true,
                  "thickness": 1,
                  "dashStyle": "solid",
                  "label_styles": {
                    "fontSize": 20,
                    "fontWeight": "bold"
                  }
                }
              },
              {
                "start": "SIN",
                "end": "SYD",
                "label": null,
                "properties": {},
                "directed": false,
                "color": "#15AFAC",
                "thickness_factor": 1,
                "styles": {
                  "color": "gray",
                  "directed": true,
                  "thickness": 1,
                  "dashStyle": "solid",
                  "label_styles": {
                    "fontSize": 20,
                    "fontWeight": "bold"
                  }
                }
              },
              {
                "start": "BNE",
                "end": "SYD",
                "label": "domestic",
                "properties": {},
                "directed": false,
                "color": "#15AFAC",
                "thickness_factor": 1,
                "styles": {
                  "color": "red",
                  "directed": true,
                  "thickness": 4,
                  "dashStyle": "dot",
                  "label_styles": {
                    "fontSize": 20,
                    "fontWeight": "bold"
                  }
                }
              },
              {
                "start": "SYD",
                "end": "MEL",
                "label": "domestic",
                "properties": {},
                "directed": false,
                "color": "#15AFAC",
                "thickness_factor": 1,
                "styles": {
                  "color": "red",
                  "directed": true,
                  "thickness": 4,
                  "dashStyle": "dot",
                  "label_styles": {
                    "fontSize": 20,
                    "fontWeight": "bold"
                  }
                }
              },
              {
                "start": "NAN",
                "end": "SYD",
                "label": null,
                "properties": {},
                "directed": false,
                "color": "#15AFAC",
                "thickness_factor": 1,
                "styles": {
                  "color": "gray",
                  "directed": true,
                  "thickness": 1,
                  "dashStyle": "solid",
                  "label_styles": {
                    "fontSize": 20,
                    "fontWeight": "bold"
                  }
                }
              },
              {
                "start": "AKL",
                "end": "SYD",
                "label": null,
                "properties": {},
                "directed": false,
                "color": "#15AFAC",
                "thickness_factor": 1,
                "styles": {
                  "color": "gray",
                  "directed": true,
                  "thickness": 1,
                  "dashStyle": "solid",
                  "label_styles": {
                    "fontSize": 20,
                    "fontWeight": "bold"
                  }
                }
              },
              {
                "start": "NAN",
                "end": "AKL",
                "label": null,
                "properties": {},
                "directed": false,
                "color": "#15AFAC",
                "thickness_factor": 1,
                "styles": {
                  "color": "gray",
                  "directed": true,
                  "thickness": 1,
                  "dashStyle": "solid",
                  "label_styles": {
                    "fontSize": 20,
                    "fontWeight": "bold"
                  }
                }
              },
              {
                "start": "RKV",
                "end": "LHR",
                "label": null,
                "properties": {},
                "directed": false,
                "color": "#15AFAC",
                "thickness_factor": 1,
                "styles": {
                  "color": "gray",
                  "directed": true,
                  "thickness": 1,
                  "dashStyle": "solid",
                  "label_styles": {
                    "fontSize": 20,
                    "fontWeight": "bold"
                  }
                }
              },
              {
                "start": "BCN",
                "end": "CDG",
                "label": null,
                "properties": {},
                "directed": false,
                "color": "#15AFAC",
                "thickness_factor": 1,
                "styles": {
                  "color": "gray",
                  "directed": true,
                  "thickness": 1,
                  "dashStyle": "solid",
                  "label_styles": {
                    "fontSize": 20,
                    "fontWeight": "bold"
                  }
                }
              },
              {
                "start": "BCN",
                "end": "FRA",
                "label": null,
                "properties": {},
                "directed": false,
                "color": "#15AFAC",
                "thickness_factor": 1,
                "styles": {
                  "color": "gray",
                  "directed": true,
                  "thickness": 1,
                  "dashStyle": "solid",
                  "label_styles": {
                    "fontSize": 20,
                    "fontWeight": "bold"
                  }
                }
              },
              {
                "start": "FCO",
                "end": "FRA",
                "label": null,
                "properties": {},
                "directed": false,
                "color": "#15AFAC",
                "thickness_factor": 1,
                "styles": {
                  "color": "gray",
                  "directed": true,
                  "thickness": 1,
                  "dashStyle": "solid",
                  "label_styles": {
                    "fontSize": 20,
                    "fontWeight": "bold"
                  }
                }
              },
              {
                "start": "BOG",
                "end": "MEX",
                "label": null,
                "properties": {},
                "directed": false,
                "color": "#15AFAC",
                "thickness_factor": 1,
                "styles": {
                  "color": "gray",
                  "directed": true,
                  "thickness": 1,
                  "dashStyle": "solid",
                  "label_styles": {
                    "fontSize": 20,
                    "fontWeight": "bold"
                  }
                }
              },
              {
                "start": "BOG",
                "end": "GRU",
                "label": null,
                "properties": {},
                "directed": false,
                "color": "#15AFAC",
                "thickness_factor": 1,
                "styles": {
                  "color": "gray",
                  "directed": true,
                  "thickness": 1,
                  "dashStyle": "solid",
                  "label_styles": {
                    "fontSize": 20,
                    "fontWeight": "bold"
                  }
                }
              },
              {
                "start": "ATL",
                "end": "MIA",
                "label": "domestic",
                "properties": {},
                "directed": false,
                "color": "#15AFAC",
                "thickness_factor": 1,
                "styles": {
                  "color": "red",
                  "directed": true,
                  "thickness": 4,
                  "dashStyle": "dot",
                  "label_styles": {
                    "fontSize": 20,
                    "fontWeight": "bold"
                  }
                }
              },
              {
                "start": "FRA",
                "end": "IST",
                "label": null,
                "properties": {},
                "directed": false,
                "color": "#15AFAC",
                "thickness_factor": 1,
                "styles": {
                  "color": "gray",
                  "directed": true,
                  "thickness": 1,
                  "dashStyle": "solid",
                  "label_styles": {
                    "fontSize": 20,
                    "fontWeight": "bold"
                  }
                }
              },
              {
                "start": "IST",
                "end": "DEL",
                "label": null,
                "properties": {},
                "directed": false,
                "color": "#15AFAC",
                "thickness_factor": 1,
                "styles": {
                  "color": "gray",
                  "directed": true,
                  "thickness": 1,
                  "dashStyle": "solid",
                  "label_styles": {
                    "fontSize": 20,
                    "fontWeight": "bold"
                  }
                }
              },
              {
                "start": "PVG",
                "end": "BKK",
                "label": null,
                "properties": {},
                "directed": false,
                "color": "#15AFAC",
                "thickness_factor": 1,
                "styles": {
                  "color": "gray",
                  "directed": true,
                  "thickness": 1,
                  "dashStyle": "solid",
                  "label_styles": {
                    "fontSize": 20,
                    "fontWeight": "bold"
                  }
                }
              },
              {
                "start": "DEL",
                "end": "BKK",
                "label": null,
                "properties": {},
                "directed": false,
                "color": "#15AFAC",
                "thickness_factor": 1,
                "styles": {
                  "color": "gray",
                  "directed": true,
                  "thickness": 1,
                  "dashStyle": "solid",
                  "label_styles": {
                    "fontSize": 20,
                    "fontWeight": "bold"
                  }
                }
              }
            ],
            "_graph_layout": {
              "algorithm": "hierarchic",
              "options": {}
            },
            "_highlight": [],
            "_license": {},
            "_model_module": "yfiles-jupyter-graphs",
            "_model_module_version": "^1.10.0",
            "_model_name": "GraphModel",
            "_neighborhood": {},
            "_nodes": [
              {
                "id": "LAX",
                "properties": {
                  "label": "Los Angeles",
                  "passengers": 65000000,
                  "country": "USA"
                },
                "coordinates": [
                  33.942536,
                  -118.408075
                ],
                "parentId": "group#USA",
                "styles": {},
                "label": "Los Angeles",
                "scale_factor": 1,
                "size": [
                  55,
                  55
                ],
                "position": [
                  0,
                  0
                ]
              },
              {
                "id": "GIG",
                "properties": {
                  "label": "Rio de Janeiro",
                  "passengers": 5000000,
                  "country": "Brazil"
                },
                "coordinates": [
                  -22.808903,
                  -43.243647
                ],
                "parentId": "group#Brazil",
                "styles": {},
                "label": "Rio de Janeiro",
                "scale_factor": 1,
                "size": [
                  55,
                  55
                ],
                "position": [
                  0,
                  0
                ]
              },
              {
                "id": "LIM",
                "properties": {
                  "label": "Lima",
                  "passengers": 18000000,
                  "country": "Peru"
                },
                "coordinates": [
                  -12.021889,
                  -77.114319
                ],
                "parentId": "group#Peru",
                "styles": {},
                "label": "Lima",
                "scale_factor": 1,
                "size": [
                  55,
                  55
                ],
                "position": [
                  0,
                  0
                ]
              },
              {
                "id": "LHR",
                "properties": {
                  "label": "London",
                  "passengers": 61000000,
                  "country": "UK"
                },
                "coordinates": [
                  51.4775,
                  -0.461389
                ],
                "parentId": "group#UK",
                "styles": {},
                "label": "London",
                "scale_factor": 1,
                "size": [
                  55,
                  55
                ],
                "position": [
                  0,
                  0
                ]
              },
              {
                "id": "FRA",
                "properties": {
                  "label": "Frankfurt",
                  "passengers": 48000000,
                  "country": "Germany"
                },
                "coordinates": [
                  50.033333,
                  8.570556
                ],
                "parentId": "group#Germany",
                "styles": {},
                "label": "Frankfurt",
                "scale_factor": 1,
                "size": [
                  55,
                  55
                ],
                "position": [
                  0,
                  0
                ]
              },
              {
                "id": "SVO",
                "properties": {
                  "label": "Moscow",
                  "passengers": 49000000,
                  "country": "Russia"
                },
                "coordinates": [
                  55.972642,
                  37.414589
                ],
                "parentId": "group#Russia",
                "styles": {},
                "label": "Moscow",
                "scale_factor": 1,
                "size": [
                  55,
                  55
                ],
                "position": [
                  0,
                  0
                ]
              },
              {
                "id": "DEL",
                "properties": {
                  "label": "New Delhi",
                  "passengers": 39000000,
                  "country": "India"
                },
                "coordinates": [
                  28.5665,
                  77.103089
                ],
                "parentId": "group#India",
                "styles": {},
                "label": "New Delhi",
                "scale_factor": 1,
                "size": [
                  55,
                  55
                ],
                "position": [
                  0,
                  0
                ]
              },
              {
                "id": "PVG",
                "properties": {
                  "label": "Shanghai",
                  "passengers": 32000000,
                  "country": "China"
                },
                "coordinates": [
                  31.143378,
                  121.805214
                ],
                "parentId": "group#China",
                "styles": {},
                "label": "Shanghai",
                "scale_factor": 1,
                "size": [
                  55,
                  55
                ],
                "position": [
                  0,
                  0
                ]
              },
              {
                "id": "HKG",
                "properties": {
                  "label": "Hongkong",
                  "passengers": 1000000,
                  "country": "China"
                },
                "coordinates": [
                  22.308919,
                  113.914603
                ],
                "parentId": "group#China",
                "styles": {},
                "label": "Hongkong",
                "scale_factor": 1,
                "size": [
                  55,
                  55
                ],
                "position": [
                  0,
                  0
                ]
              },
              {
                "id": "NRT",
                "properties": {
                  "label": "Tokio",
                  "passengers": 15000000,
                  "country": "Japan"
                },
                "coordinates": [
                  35.764722,
                  140.386389
                ],
                "parentId": "group#Japan",
                "styles": {},
                "label": "Tokio",
                "scale_factor": 1,
                "size": [
                  55,
                  55
                ],
                "position": [
                  0,
                  0
                ]
              },
              {
                "id": "DXB",
                "properties": {
                  "label": "Dubai",
                  "passengers": 29000000,
                  "country": "UAE"
                },
                "coordinates": [
                  25.252778,
                  55.364444
                ],
                "parentId": "group#UAE",
                "styles": {},
                "label": "Dubai",
                "scale_factor": 1,
                "size": [
                  55,
                  55
                ],
                "position": [
                  0,
                  0
                ]
              },
              {
                "id": "DKR",
                "properties": {
                  "label": "Dakar",
                  "passengers": 2000000,
                  "country": "Senegal"
                },
                "coordinates": [
                  14.670833,
                  -17.072778
                ],
                "parentId": "group#Senegal",
                "styles": {},
                "label": "Dakar",
                "scale_factor": 1,
                "size": [
                  55,
                  55
                ],
                "position": [
                  0,
                  0
                ]
              },
              {
                "id": "JNB",
                "properties": {
                  "label": "Johannesburg",
                  "passengers": 9000000,
                  "country": "South Africa"
                },
                "coordinates": [
                  -26.133694,
                  28.242317
                ],
                "parentId": "group#South Africa",
                "styles": {},
                "label": "Johannesburg",
                "scale_factor": 1,
                "size": [
                  55,
                  55
                ],
                "position": [
                  0,
                  0
                ]
              },
              {
                "id": "SYD",
                "properties": {
                  "label": "Sydney",
                  "passengers": 44000000,
                  "country": "Australia"
                },
                "coordinates": [
                  -33.946111,
                  151.177222
                ],
                "parentId": "group#Australia",
                "styles": {},
                "label": "Sydney",
                "scale_factor": 1,
                "size": [
                  55,
                  55
                ],
                "position": [
                  0,
                  0
                ]
              },
              {
                "id": "NBO",
                "properties": {
                  "label": "Nairobi",
                  "passengers": 900000,
                  "country": "Kenya"
                },
                "coordinates": [
                  -1.319167,
                  36.927778
                ],
                "parentId": "group#Kenya",
                "styles": {},
                "label": "Nairobi",
                "scale_factor": 1,
                "size": [
                  55,
                  55
                ],
                "position": [
                  0,
                  0
                ]
              },
              {
                "id": "ATL",
                "properties": {
                  "label": "Atlanta",
                  "passengers": 93000000,
                  "country": "USA"
                },
                "coordinates": [
                  33.639167,
                  -84.427778
                ],
                "parentId": "group#USA",
                "styles": {},
                "label": "Atlanta",
                "scale_factor": 1,
                "size": [
                  55,
                  55
                ],
                "position": [
                  0,
                  0
                ]
              },
              {
                "id": "JFK",
                "properties": {
                  "label": "New York City",
                  "passengers": 55000000,
                  "country": "USA"
                },
                "coordinates": [
                  40.63975,
                  -73.778925
                ],
                "parentId": "group#USA",
                "styles": {},
                "label": "New York City",
                "scale_factor": 1,
                "size": [
                  55,
                  55
                ],
                "position": [
                  0,
                  0
                ]
              },
              {
                "id": "CAI",
                "properties": {
                  "label": "Cairo",
                  "passengers": 14000000,
                  "country": "Egypt"
                },
                "coordinates": [
                  30.121944,
                  31.405556
                ],
                "parentId": "group#Egypt",
                "styles": {},
                "label": "Cairo",
                "scale_factor": 1,
                "size": [
                  55,
                  55
                ],
                "position": [
                  0,
                  0
                ]
              },
              {
                "id": "CMN",
                "properties": {
                  "label": "Casablanca",
                  "passengers": 7000000,
                  "country": "Morocco"
                },
                "coordinates": [
                  33.367467,
                  -7.589967
                ],
                "parentId": "group#Morocco",
                "styles": {},
                "label": "Casablanca",
                "scale_factor": 1,
                "size": [
                  55,
                  55
                ],
                "position": [
                  0,
                  0
                ]
              },
              {
                "id": "LOS",
                "properties": {
                  "label": "Lagos",
                  "passengers": 5000000,
                  "country": "Nigeria"
                },
                "coordinates": [
                  6.577222,
                  3.321111
                ],
                "parentId": "group#Nigeria",
                "styles": {},
                "label": "Lagos",
                "scale_factor": 1,
                "size": [
                  55,
                  55
                ],
                "position": [
                  0,
                  0
                ]
              },
              {
                "id": "CPT",
                "properties": {
                  "label": "Cape Town",
                  "passengers": 5000000,
                  "country": "South Africa"
                },
                "coordinates": [
                  -33.969444,
                  18.597222
                ],
                "parentId": "group#South Africa",
                "styles": {},
                "label": "Cape Town",
                "scale_factor": 1,
                "size": [
                  55,
                  55
                ],
                "position": [
                  0,
                  0
                ]
              },
              {
                "id": "CTU",
                "properties": {
                  "label": "Chengdu",
                  "passengers": 40000000,
                  "country": "China"
                },
                "coordinates": [
                  30.578333,
                  103.946944
                ],
                "parentId": "group#China",
                "styles": {},
                "label": "Chengdu",
                "scale_factor": 1,
                "size": [
                  55,
                  55
                ],
                "position": [
                  0,
                  0
                ]
              },
              {
                "id": "CGK",
                "properties": {
                  "label": "Jakarta",
                  "passengers": 54000000,
                  "country": "Indonesia"
                },
                "coordinates": [
                  -6.125567,
                  106.655897
                ],
                "parentId": "group#Indonesia",
                "styles": {},
                "label": "Jakarta",
                "scale_factor": 1,
                "size": [
                  55,
                  55
                ],
                "position": [
                  0,
                  0
                ]
              },
              {
                "id": "IKA",
                "properties": {
                  "label": "Teheran",
                  "passengers": 8000000,
                  "country": "Iran"
                },
                "coordinates": [
                  35.416111,
                  51.152222
                ],
                "parentId": "group#Iran",
                "styles": {},
                "label": "Teheran",
                "scale_factor": 1,
                "size": [
                  55,
                  55
                ],
                "position": [
                  0,
                  0
                ]
              },
              {
                "id": "TLV",
                "properties": {
                  "label": "Tel Aviv",
                  "passengers": 20000000,
                  "country": "Israel"
                },
                "coordinates": [
                  32.011389,
                  34.886667
                ],
                "parentId": "group#Israel",
                "styles": {},
                "label": "Tel Aviv",
                "scale_factor": 1,
                "size": [
                  55,
                  55
                ],
                "position": [
                  0,
                  0
                ]
              },
              {
                "id": "KUL",
                "properties": {
                  "label": "Kuala Lumpur",
                  "passengers": 25000000,
                  "country": "Malaysia"
                },
                "coordinates": [
                  2.745578,
                  101.709917
                ],
                "parentId": "group#Malaysia",
                "styles": {},
                "label": "Kuala Lumpur",
                "scale_factor": 1,
                "size": [
                  55,
                  55
                ],
                "position": [
                  0,
                  0
                ]
              },
              {
                "id": "MNL",
                "properties": {
                  "label": "Manila",
                  "passengers": 8000000,
                  "country": "Philippines"
                },
                "coordinates": [
                  14.508647,
                  121.019581
                ],
                "parentId": "group#Philippines",
                "styles": {},
                "label": "Manila",
                "scale_factor": 1,
                "size": [
                  55,
                  55
                ],
                "position": [
                  0,
                  0
                ]
              },
              {
                "id": "SIN",
                "properties": {
                  "label": "Singapur",
                  "passengers": 32000000,
                  "country": "Singapore"
                },
                "coordinates": [
                  1.350189,
                  103.994433
                ],
                "parentId": "group#Singapore",
                "styles": {},
                "label": "Singapur",
                "scale_factor": 1,
                "size": [
                  55,
                  55
                ],
                "position": [
                  0,
                  0
                ]
              },
              {
                "id": "TPE",
                "properties": {
                  "label": "Taipeh",
                  "passengers": 800000,
                  "country": "Taiwan"
                },
                "coordinates": [
                  25.077732,
                  121.232822
                ],
                "parentId": "group#Taiwan",
                "styles": {},
                "label": "Taipeh",
                "scale_factor": 1,
                "size": [
                  55,
                  55
                ],
                "position": [
                  0,
                  0
                ]
              },
              {
                "id": "BKK",
                "properties": {
                  "label": "Bangkok",
                  "passengers": 65000000,
                  "country": "Thailand"
                },
                "coordinates": [
                  13.681108,
                  100.747283
                ],
                "parentId": "group#Thailand",
                "styles": {},
                "label": "Bangkok",
                "scale_factor": 1,
                "size": [
                  55,
                  55
                ],
                "position": [
                  0,
                  0
                ]
              },
              {
                "id": "IST",
                "properties": {
                  "label": "Istanbul",
                  "passengers": 64000000,
                  "country": "Turkey"
                },
                "coordinates": [
                  40.976922,
                  28.814606
                ],
                "parentId": "group#Turkey",
                "styles": {},
                "label": "Istanbul",
                "scale_factor": 1,
                "size": [
                  55,
                  55
                ],
                "position": [
                  0,
                  0
                ]
              },
              {
                "id": "ULN",
                "properties": {
                  "label": "Ulaanbaatar",
                  "passengers": 1000000,
                  "country": "Mongolia"
                },
                "coordinates": [
                  47.843056,
                  106.766639
                ],
                "parentId": "group#Mongolia",
                "styles": {},
                "label": "Ulaanbaatar",
                "scale_factor": 1,
                "size": [
                  55,
                  55
                ],
                "position": [
                  0,
                  0
                ]
              },
              {
                "id": "MEL",
                "properties": {
                  "label": "Melbourne",
                  "passengers": 12000000,
                  "country": "Australia"
                },
                "coordinates": [
                  -37.673333,
                  144.843333
                ],
                "parentId": "group#Australia",
                "styles": {},
                "label": "Melbourne",
                "scale_factor": 1,
                "size": [
                  55,
                  55
                ],
                "position": [
                  0,
                  0
                ]
              },
              {
                "id": "BNE",
                "properties": {
                  "label": "Brisbane",
                  "passengers": 23000000,
                  "country": "Australia"
                },
                "coordinates": [
                  -27.383333,
                  153.118056
                ],
                "parentId": "group#Australia",
                "styles": {},
                "label": "Brisbane",
                "scale_factor": 1,
                "size": [
                  55,
                  55
                ],
                "position": [
                  0,
                  0
                ]
              },
              {
                "id": "NAN",
                "properties": {
                  "label": "Nadi",
                  "passengers": 2000000,
                  "country": "Fiji"
                },
                "coordinates": [
                  -17.755392,
                  177.443378
                ],
                "parentId": "group#Fiji",
                "styles": {},
                "label": "Nadi",
                "scale_factor": 1,
                "size": [
                  55,
                  55
                ],
                "position": [
                  0,
                  0
                ]
              },
              {
                "id": "AKL",
                "properties": {
                  "label": "Auckland",
                  "passengers": 21000000,
                  "country": "New Zealand"
                },
                "coordinates": [
                  -37.008056,
                  174.791667
                ],
                "parentId": "group#New Zealand",
                "styles": {},
                "label": "Auckland",
                "scale_factor": 1,
                "size": [
                  55,
                  55
                ],
                "position": [
                  0,
                  0
                ]
              },
              {
                "id": "CDG",
                "properties": {
                  "label": "Paris",
                  "passengers": 57000000,
                  "country": "France"
                },
                "coordinates": [
                  49.009722,
                  2.547778
                ],
                "parentId": "group#France",
                "styles": {},
                "label": "Paris",
                "scale_factor": 1,
                "size": [
                  55,
                  55
                ],
                "position": [
                  0,
                  0
                ]
              },
              {
                "id": "MAD",
                "properties": {
                  "label": "Madrid",
                  "passengers": 50000000,
                  "country": "Spain"
                },
                "coordinates": [
                  40.4675,
                  -3.551944
                ],
                "parentId": "group#Spain",
                "styles": {},
                "label": "Madrid",
                "scale_factor": 1,
                "size": [
                  55,
                  55
                ],
                "position": [
                  0,
                  0
                ]
              },
              {
                "id": "BCN",
                "properties": {
                  "label": "Barcelona",
                  "passengers": 41000000,
                  "country": "Spain"
                },
                "coordinates": [
                  41.297078,
                  2.078464
                ],
                "parentId": "group#Spain",
                "styles": {},
                "label": "Barcelona",
                "scale_factor": 1,
                "size": [
                  55,
                  55
                ],
                "position": [
                  0,
                  0
                ]
              },
              {
                "id": "FCO",
                "properties": {
                  "label": "Rome",
                  "passengers": 29000000,
                  "country": "Italy"
                },
                "coordinates": [
                  41.804444,
                  12.250833
                ],
                "parentId": "group#Italy",
                "styles": {},
                "label": "Rome",
                "scale_factor": 1,
                "size": [
                  55,
                  55
                ],
                "position": [
                  0,
                  0
                ]
              },
              {
                "id": "CPH",
                "properties": {
                  "label": "Copenhagen",
                  "passengers": 30000000,
                  "country": "Denmark"
                },
                "coordinates": [
                  55.617917,
                  12.655972
                ],
                "parentId": "group#Denmark",
                "styles": {},
                "label": "Copenhagen",
                "scale_factor": 1,
                "size": [
                  55,
                  55
                ],
                "position": [
                  0,
                  0
                ]
              },
              {
                "id": "HEL",
                "properties": {
                  "label": "Helsinki",
                  "passengers": 5000000,
                  "country": "Finland"
                },
                "coordinates": [
                  60.317222,
                  24.963333
                ],
                "parentId": "group#Finland",
                "styles": {},
                "label": "Helsinki",
                "scale_factor": 1,
                "size": [
                  55,
                  55
                ],
                "position": [
                  0,
                  0
                ]
              },
              {
                "id": "ATH",
                "properties": {
                  "label": "Athens",
                  "passengers": 22000000,
                  "country": "Greece"
                },
                "coordinates": [
                  37.936358,
                  23.944467
                ],
                "parentId": "group#Greece",
                "styles": {},
                "label": "Athens",
                "scale_factor": 1,
                "size": [
                  55,
                  55
                ],
                "position": [
                  0,
                  0
                ]
              },
              {
                "id": "DUB",
                "properties": {
                  "label": "Dublin",
                  "passengers": 32000000,
                  "country": "Ireland"
                },
                "coordinates": [
                  53.421333,
                  -6.270075
                ],
                "parentId": "group#Ireland",
                "styles": {},
                "label": "Dublin",
                "scale_factor": 1,
                "size": [
                  55,
                  55
                ],
                "position": [
                  0,
                  0
                ]
              },
              {
                "id": "RKV",
                "properties": {
                  "label": "Reykjavik",
                  "passengers": 400000,
                  "country": "Iceland"
                },
                "coordinates": [
                  64.13,
                  -21.940556
                ],
                "parentId": "group#Iceland",
                "styles": {},
                "label": "Reykjavik",
                "scale_factor": 1,
                "size": [
                  55,
                  55
                ],
                "position": [
                  0,
                  0
                ]
              },
              {
                "id": "OSL",
                "properties": {
                  "label": "Oslo",
                  "passengers": 9000000,
                  "country": "Norway"
                },
                "coordinates": [
                  60.193917,
                  11.100361
                ],
                "parentId": "group#Norway",
                "styles": {},
                "label": "Oslo",
                "scale_factor": 1,
                "size": [
                  55,
                  55
                ],
                "position": [
                  0,
                  0
                ]
              },
              {
                "id": "VIE",
                "properties": {
                  "label": "Vienna",
                  "passengers": 10000000,
                  "country": "Austria"
                },
                "coordinates": [
                  48.110833,
                  16.570833
                ],
                "parentId": "group#Austria",
                "styles": {},
                "label": "Vienna",
                "scale_factor": 1,
                "size": [
                  55,
                  55
                ],
                "position": [
                  0,
                  0
                ]
              },
              {
                "id": "LIS",
                "properties": {
                  "label": "Lisbon",
                  "passengers": 28000000,
                  "country": "Portugal"
                },
                "coordinates": [
                  38.774167,
                  -9.134167
                ],
                "parentId": "group#Portugal",
                "styles": {},
                "label": "Lisbon",
                "scale_factor": 1,
                "size": [
                  55,
                  55
                ],
                "position": [
                  0,
                  0
                ]
              },
              {
                "id": "ARN",
                "properties": {
                  "label": "Stockholm",
                  "passengers": 7000000,
                  "country": "Sweden"
                },
                "coordinates": [
                  59.651944,
                  17.918611
                ],
                "parentId": "group#Sweden",
                "styles": {},
                "label": "Stockholm",
                "scale_factor": 1,
                "size": [
                  55,
                  55
                ],
                "position": [
                  0,
                  0
                ]
              },
              {
                "id": "EDI",
                "properties": {
                  "label": "Edinburgh",
                  "passengers": 14000000,
                  "country": "UK"
                },
                "coordinates": [
                  55.95,
                  -3.3725
                ],
                "parentId": "group#UK",
                "styles": {},
                "label": "Edinburgh",
                "scale_factor": 1,
                "size": [
                  55,
                  55
                ],
                "position": [
                  0,
                  0
                ]
              },
              {
                "id": "ORD",
                "properties": {
                  "label": "Chicago",
                  "passengers": 54000000,
                  "country": "USA"
                },
                "coordinates": [
                  41.978603,
                  -87.904842
                ],
                "parentId": "group#USA",
                "styles": {},
                "label": "Chicago",
                "scale_factor": 1,
                "size": [
                  55,
                  55
                ],
                "position": [
                  0,
                  0
                ]
              },
              {
                "id": "DFW",
                "properties": {
                  "label": "Dallas",
                  "passengers": 73000000,
                  "country": "USA"
                },
                "coordinates": [
                  32.896828,
                  -97.037997
                ],
                "parentId": "group#USA",
                "styles": {},
                "label": "Dallas",
                "scale_factor": 1,
                "size": [
                  55,
                  55
                ],
                "position": [
                  0,
                  0
                ]
              },
              {
                "id": "SFO",
                "properties": {
                  "label": "San Francisco",
                  "passengers": 42000000,
                  "country": "USA"
                },
                "coordinates": [
                  37.618972,
                  -122.374889
                ],
                "parentId": "group#USA",
                "styles": {},
                "label": "San Francisco",
                "scale_factor": 1,
                "size": [
                  55,
                  55
                ],
                "position": [
                  0,
                  0
                ]
              },
              {
                "id": "LAS",
                "properties": {
                  "label": "Las Vegas",
                  "passengers": 52000000,
                  "country": "USA"
                },
                "coordinates": [
                  36.080056,
                  -115.15225
                ],
                "parentId": "group#USA",
                "styles": {},
                "label": "Las Vegas",
                "scale_factor": 1,
                "size": [
                  55,
                  55
                ],
                "position": [
                  0,
                  0
                ]
              },
              {
                "id": "MIA",
                "properties": {
                  "label": "Miami",
                  "passengers": 50000000,
                  "country": "USA"
                },
                "coordinates": [
                  25.79325,
                  -80.290556
                ],
                "parentId": "group#USA",
                "styles": {},
                "label": "Miami",
                "scale_factor": 1,
                "size": [
                  55,
                  55
                ],
                "position": [
                  0,
                  0
                ]
              },
              {
                "id": "YYZ",
                "properties": {
                  "label": "Toronto",
                  "passengers": 12000000,
                  "country": "Canada"
                },
                "coordinates": [
                  43.677222,
                  -79.630556
                ],
                "parentId": "group#Canada",
                "styles": {},
                "label": "Toronto",
                "scale_factor": 1,
                "size": [
                  55,
                  55
                ],
                "position": [
                  0,
                  0
                ]
              },
              {
                "id": "YVR",
                "properties": {
                  "label": "Vancouver",
                  "passengers": 19000000,
                  "country": "Canada"
                },
                "coordinates": [
                  49.193889,
                  -123.184444
                ],
                "parentId": "group#Canada",
                "styles": {},
                "label": "Vancouver",
                "scale_factor": 1,
                "size": [
                  55,
                  55
                ],
                "position": [
                  0,
                  0
                ]
              },
              {
                "id": "YUL",
                "properties": {
                  "label": "Montreal",
                  "passengers": 15000000,
                  "country": "Canada"
                },
                "coordinates": [
                  45.47175,
                  -73.736569
                ],
                "parentId": "group#Canada",
                "styles": {},
                "label": "Montreal",
                "scale_factor": 1,
                "size": [
                  55,
                  55
                ],
                "position": [
                  0,
                  0
                ]
              },
              {
                "id": "MEX",
                "properties": {
                  "label": "Mexico-City",
                  "passengers": 46000000,
                  "country": "Mexico"
                },
                "coordinates": [
                  19.436303,
                  -99.072097
                ],
                "parentId": "group#Mexico",
                "styles": {},
                "label": "Mexico-City",
                "scale_factor": 1,
                "size": [
                  55,
                  55
                ],
                "position": [
                  0,
                  0
                ]
              },
              {
                "id": "GUA",
                "properties": {
                  "label": "Guatemala-City",
                  "passengers": 2000000,
                  "country": "Guatemala"
                },
                "coordinates": [
                  14.583272,
                  -90.527475
                ],
                "parentId": "group#Guatemala",
                "styles": {},
                "label": "Guatemala-City",
                "scale_factor": 1,
                "size": [
                  55,
                  55
                ],
                "position": [
                  0,
                  0
                ]
              },
              {
                "id": "EZE",
                "properties": {
                  "label": "Buenos Aires",
                  "passengers": 5000000,
                  "country": "Argentina"
                },
                "coordinates": [
                  -34.822222,
                  -58.535833
                ],
                "parentId": "group#Argentina",
                "styles": {},
                "label": "Buenos Aires",
                "scale_factor": 1,
                "size": [
                  55,
                  55
                ],
                "position": [
                  0,
                  0
                ]
              },
              {
                "id": "GRU",
                "properties": {
                  "label": "Sao Paulo",
                  "passengers": 34000000,
                  "country": "Brazil"
                },
                "coordinates": [
                  -23.432075,
                  -46.469511
                ],
                "parentId": "group#Brazil",
                "styles": {},
                "label": "Sao Paulo",
                "scale_factor": 1,
                "size": [
                  55,
                  55
                ],
                "position": [
                  0,
                  0
                ]
              },
              {
                "id": "SCL",
                "properties": {
                  "label": "Santiago de Chile",
                  "passengers": 20000000,
                  "country": "Chile"
                },
                "coordinates": [
                  -33.392975,
                  -70.785803
                ],
                "parentId": "group#Chile",
                "styles": {},
                "label": "Santiago de Chile",
                "scale_factor": 1,
                "size": [
                  55,
                  55
                ],
                "position": [
                  0,
                  0
                ]
              },
              {
                "id": "BSB",
                "properties": {
                  "label": "Brasilia",
                  "passengers": 13000000,
                  "country": "Brazil"
                },
                "coordinates": [
                  -15.871111,
                  -47.918611
                ],
                "parentId": "group#Brazil",
                "styles": {},
                "label": "Brasilia",
                "scale_factor": 1,
                "size": [
                  55,
                  55
                ],
                "position": [
                  0,
                  0
                ]
              },
              {
                "id": "BOG",
                "properties": {
                  "label": "Bogota",
                  "passengers": 36000000,
                  "country": "Colombia"
                },
                "coordinates": [
                  4.701594,
                  -74.146947
                ],
                "parentId": "group#Colombia",
                "styles": {},
                "label": "Bogota",
                "scale_factor": 1,
                "size": [
                  55,
                  55
                ],
                "position": [
                  0,
                  0
                ]
              },
              {
                "id": "CCS",
                "properties": {
                  "label": "Caracas",
                  "passengers": 8000000,
                  "country": "Venezuela"
                },
                "coordinates": [
                  10.601194,
                  -66.991222
                ],
                "parentId": "group#Venezuela",
                "styles": {},
                "label": "Caracas",
                "scale_factor": 1,
                "size": [
                  55,
                  55
                ],
                "position": [
                  0,
                  0
                ]
              }
            ],
            "_overview": {
              "enabled": null,
              "overview_set": false
            },
            "_selected_graph": [
              [],
              []
            ],
            "_sidebar": {
              "enabled": false,
              "start_with": null
            },
            "_view_count": null,
            "_view_module": "yfiles-jupyter-graphs",
            "_view_module_version": "^1.10.0",
            "_view_name": "GraphView",
            "layout": "IPY_MODEL_38675c0d6e9e43aa9c38a448d9f4b5ac",
            "tabbable": null,
            "tooltip": null
          }
        },
        "38675c0d6e9e43aa9c38a448d9f4b5ac": {
          "model_module": "@jupyter-widgets/base",
          "model_name": "LayoutModel",
          "model_module_version": "2.0.0",
          "state": {
            "_model_module": "@jupyter-widgets/base",
            "_model_module_version": "2.0.0",
            "_model_name": "LayoutModel",
            "_view_count": null,
            "_view_module": "@jupyter-widgets/base",
            "_view_module_version": "2.0.0",
            "_view_name": "LayoutView",
            "align_content": null,
            "align_items": null,
            "align_self": null,
            "border_bottom": null,
            "border_left": null,
            "border_right": null,
            "border_top": null,
            "bottom": null,
            "display": null,
            "flex": null,
            "flex_flow": null,
            "grid_area": null,
            "grid_auto_columns": null,
            "grid_auto_flow": null,
            "grid_auto_rows": null,
            "grid_column": null,
            "grid_gap": null,
            "grid_row": null,
            "grid_template_areas": null,
            "grid_template_columns": null,
            "grid_template_rows": null,
            "height": "800px",
            "justify_content": null,
            "justify_items": null,
            "left": null,
            "margin": null,
            "max_height": null,
            "max_width": null,
            "min_height": null,
            "min_width": null,
            "object_fit": null,
            "object_position": null,
            "order": null,
            "overflow": null,
            "padding": null,
            "right": null,
            "top": null,
            "visibility": null,
            "width": "100%"
          }
        },
        "faa02425a577490fa025e381fc1255fc": {
          "model_module": "@jupyter-widgets/base",
          "model_name": "LayoutModel",
          "model_module_version": "2.0.0",
          "state": {
            "_model_module": "@jupyter-widgets/base",
            "_model_module_version": "2.0.0",
            "_model_name": "LayoutModel",
            "_view_count": null,
            "_view_module": "@jupyter-widgets/base",
            "_view_module_version": "2.0.0",
            "_view_name": "LayoutView",
            "align_content": null,
            "align_items": null,
            "align_self": null,
            "border_bottom": null,
            "border_left": null,
            "border_right": null,
            "border_top": null,
            "bottom": null,
            "display": null,
            "flex": null,
            "flex_flow": null,
            "grid_area": null,
            "grid_auto_columns": null,
            "grid_auto_flow": null,
            "grid_auto_rows": null,
            "grid_column": null,
            "grid_gap": null,
            "grid_row": null,
            "grid_template_areas": null,
            "grid_template_columns": null,
            "grid_template_rows": null,
            "height": "800px",
            "justify_content": null,
            "justify_items": null,
            "left": null,
            "margin": null,
            "max_height": null,
            "max_width": null,
            "min_height": null,
            "min_width": null,
            "object_fit": null,
            "object_position": null,
            "order": null,
            "overflow": null,
            "padding": null,
            "right": null,
            "top": null,
            "visibility": null,
            "width": "100%"
          }
        },
        "state": {}
      }
    },
    "colab": {
      "provenance": []
    }
  },
  "nbformat": 4,
  "nbformat_minor": 5
}