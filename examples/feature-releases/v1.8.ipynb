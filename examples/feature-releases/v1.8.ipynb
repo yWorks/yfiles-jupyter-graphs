{
  "cells": [
    {
      "cell_type": "markdown",
      "id": "a3650867-86ce-4f78-b120-e4426abd6345",
      "metadata": {
        "id": "a3650867-86ce-4f78-b120-e4426abd6345"
      },
      "source": [
        "# yFiles Graphs for Jupyter v1.8 <a target=\"_blank\" href=\"https://colab.research.google.com/github/yWorks/yfiles-jupyter-graphs/blob/main/examples/feature-releases/v1.8.ipynb\"><img src=\"https://colab.research.google.com/assets/colab-badge.svg\" alt=\"Open In Colab\"/></a>\n",
        "\n",
        "Before using the graph widget, install all necessary packages and initialize your widget."
      ]
    },
    {
      "cell_type": "code",
      "execution_count": 1,
      "id": "bd78b2a4-6b34-4e3a-8a04-455544e0719e",
      "metadata": {
        "colab": {
          "base_uri": "https://localhost:8080/"
        },
        "id": "bd78b2a4-6b34-4e3a-8a04-455544e0719e",
        "outputId": "a2e7ca7c-85b5-44a9-80df-4f84a4e5f06a"
      },
      "outputs": [
        {
          "output_type": "stream",
          "name": "stdout",
          "text": [
            "\u001b[2K   \u001b[90m\u2501\u2501\u2501\u2501\u2501\u2501\u2501\u2501\u2501\u2501\u2501\u2501\u2501\u2501\u2501\u2501\u2501\u2501\u2501\u2501\u2501\u2501\u2501\u2501\u2501\u2501\u2501\u2501\u2501\u2501\u2501\u2501\u2501\u2501\u2501\u2501\u2501\u2501\u2501\u2501\u001b[0m \u001b[32m15.6/15.6 MB\u001b[0m \u001b[31m16.3 MB/s\u001b[0m eta \u001b[36m0:00:00\u001b[0m\n",
            "\u001b[2K   \u001b[90m\u2501\u2501\u2501\u2501\u2501\u2501\u2501\u2501\u2501\u2501\u2501\u2501\u2501\u2501\u2501\u2501\u2501\u2501\u2501\u2501\u2501\u2501\u2501\u2501\u2501\u2501\u2501\u2501\u2501\u2501\u2501\u2501\u2501\u2501\u2501\u2501\u2501\u2501\u2501\u2501\u001b[0m \u001b[32m139.8/139.8 kB\u001b[0m \u001b[31m5.6 MB/s\u001b[0m eta \u001b[36m0:00:00\u001b[0m\n",
            "\u001b[2K   \u001b[90m\u2501\u2501\u2501\u2501\u2501\u2501\u2501\u2501\u2501\u2501\u2501\u2501\u2501\u2501\u2501\u2501\u2501\u2501\u2501\u2501\u2501\u2501\u2501\u2501\u2501\u2501\u2501\u2501\u2501\u2501\u2501\u2501\u2501\u2501\u2501\u2501\u2501\u2501\u2501\u2501\u001b[0m \u001b[32m214.4/214.4 kB\u001b[0m \u001b[31m6.0 MB/s\u001b[0m eta \u001b[36m0:00:00\u001b[0m\n",
            "\u001b[2K   \u001b[90m\u2501\u2501\u2501\u2501\u2501\u2501\u2501\u2501\u2501\u2501\u2501\u2501\u2501\u2501\u2501\u2501\u2501\u2501\u2501\u2501\u2501\u2501\u2501\u2501\u2501\u2501\u2501\u2501\u2501\u2501\u2501\u2501\u2501\u2501\u2501\u2501\u2501\u2501\u2501\u2501\u001b[0m \u001b[32m2.3/2.3 MB\u001b[0m \u001b[31m17.6 MB/s\u001b[0m eta \u001b[36m0:00:00\u001b[0m\n",
            "\u001b[?25h"
          ]
        }
      ],
      "source": [
        "%pip install yfiles_jupyter_graphs --quiet\n",
        "from yfiles_jupyter_graphs import GraphWidget"
      ]
    },
    {
      "cell_type": "markdown",
      "id": "87bc9f72-c25e-4258-8d64-df7ae4e10c04",
      "metadata": {
        "id": "87bc9f72-c25e-4258-8d64-df7ae4e10c04"
      },
      "source": [
        "You can also open this notebook in Google Colab when Google Colab's custom widget manager is enabled:"
      ]
    },
    {
      "cell_type": "code",
      "execution_count": 3,
      "id": "efabaec3-65f5-4914-8bd9-b6c79178e417",
      "metadata": {
        "id": "efabaec3-65f5-4914-8bd9-b6c79178e417"
      },
      "outputs": [],
      "source": [
        "try:\n",
        "  import google.colab\n",
        "  from google.colab import output\n",
        "  output.enable_custom_widget_manager()\n",
        "except:\n",
        "  pass"
      ]
    },
    {
      "cell_type": "markdown",
      "id": "9a4e6d31-33e3-4662-af54-7f2b949ebe6f",
      "metadata": {
        "id": "9a4e6d31-33e3-4662-af54-7f2b949ebe6f"
      },
      "source": [
        "<a target=\"_blank\" href=\"https://colab.research.google.com/github/yWorks/yfiles-jupyter-graphs/blob/main/examples/feature-releases/v1.8.ipynb\"><img src=\"https://colab.research.google.com/assets/colab-badge.svg\" alt=\"Open In Colab\"/></a>"
      ]
    },
    {
      "cell_type": "markdown",
      "id": "22fc1054-68d6-4e58-a9e7-7a126ed8e14c",
      "metadata": {
        "id": "22fc1054-68d6-4e58-a9e7-7a126ed8e14c"
      },
      "source": [
        "# Changelog"
      ]
    },
    {
      "cell_type": "markdown",
      "id": "d30ee09a-46da-4456-9ab9-1a582445414d",
      "metadata": {
        "id": "d30ee09a-46da-4456-9ab9-1a582445414d"
      },
      "source": [
        "## New Features\n",
        "* Support interactive folding/expanding of grouped nodes to reduce complexity\n",
        "* Added new `node_parent_group_mapping` to group nodes independently of the given dataset\n",
        "* Automatically switch sidebar from \"About\" to \"Data\" when selecting a graph item\n",
        "\n",
        "## Improvements\n",
        "* Initially collapse sidebar\n",
        "* Limit graph item tooltip to a reasonable size\n",
        "* Improved interactive organic layout such that dragged nodes are fixed in place afterward\n",
        "* Dynamically update device-pixel ration for crisp visualization\n",
        "* Improved pandas importer to treat datatable as edge-list with \"source\" / \"target\" attributes\n",
        "* Improved group visualization in overview\n",
        "\n",
        "## Bugfixes\n",
        "* Fix overlapping hints\n",
        "* Fix broken map overlay size after sidebar collapse/expand"
      ]
    },
    {
      "cell_type": "markdown",
      "id": "85740192-880c-4525-b6fd-b437e8e16527",
      "metadata": {
        "id": "85740192-880c-4525-b6fd-b437e8e16527"
      },
      "source": [
        "# Grouping and Folding\n",
        "\n",
        "The new `node_parent_group_mapping` allows to implicitly create group nodes that are not part of the given dataset (see also [Nested Graphs Notebook](../31_nested_graphs.ipynb)).\n",
        "\n",
        "Now, grouped nodes can be folded/expanded interactively by clicking the `+` / `-` button on the group node visualization."
      ]
    },
    {
      "cell_type": "code",
      "execution_count": 4,
      "id": "a902aa82-2257-49be-b3df-9f9360b7f9a5",
      "metadata": {
        "id": "a902aa82-2257-49be-b3df-9f9360b7f9a5"
      },
      "outputs": [],
      "source": [
        "airports = [\n",
        "    {\"name\": \"Los Angeles\", \"iata\": \"LAX\", \"lat\": 33.942536, \"lng\": -118.408075, \"passengers\": 65000000, \"country\": \"USA\", \"id\": \"LAX\"}, {\"name\": \"Rio de Janeiro\", \"iata\": \"GIG\", \"lat\": -22.808903, \"lng\": -43.243647, \"passengers\": 5000000, \"country\": \"Brazil\", \"id\": \"GIG\"}, {\"name\": \"Lima\", \"iata\": \"LIM\", \"lat\": -12.021889, \"lng\": -77.114319, \"passengers\": 18000000, \"country\": \"Peru\", \"id\": \"LIM\"}, {\"name\": \"London\", \"iata\": \"LHR\", \"lat\": 51.4775, \"lng\": -0.461389, \"passengers\": 61000000, \"country\": \"UK\", \"id\": \"LHR\"},\n",
        "    {\"name\": \"Frankfurt\", \"iata\": \"FRA\", \"lat\": 50.033333, \"lng\": 8.570556, \"passengers\": 48000000, \"country\": \"Germany\", \"id\": \"FRA\"}, {\"name\": \"Moscow\", \"iata\": \"SVO\", \"lat\": 55.972642, \"lng\": 37.414589, \"passengers\": 49000000, \"country\": \"Russia\", \"id\": \"SVO\"}, {\"name\": \"New Delhi\", \"iata\": \"DEL\", \"lat\": 28.5665, \"lng\": 77.103089, \"passengers\": 39000000, \"country\": \"India\", \"id\": \"DEL\"}, {\"name\": \"Shanghai\", \"iata\": \"PVG\", \"lat\": 31.143378, \"lng\": 121.805214, \"passengers\": 32000000, \"country\": \"China\", \"id\": \"PVG\"},\n",
        "    {\"name\": \"Hongkong\", \"iata\": \"HKG\", \"lat\": 22.308919, \"lng\": 113.914603, \"passengers\": 1000000, \"country\": \"China\", \"id\": \"HKG\"}, {\"name\": \"Tokio\", \"iata\": \"NRT\", \"lat\": 35.764722, \"lng\": 140.386389, \"passengers\": 15000000, \"country\": \"Japan\", \"id\": \"NRT\"}, {\"name\": \"Dubai\", \"iata\": \"DXB\", \"lat\": 25.252778, \"lng\": 55.364444, \"passengers\": 29000000, \"country\": \"UAE\", \"id\": \"DXB\"}, {\"name\": \"Dakar\", \"iata\": \"DKR\", \"lat\": 14.670833, \"lng\": -17.072778, \"passengers\": 2000000, \"country\": \"Senegal\", \"id\": \"DKR\"},\n",
        "    {\"name\": \"Johannesburg\", \"iata\": \"JNB\", \"lat\": -26.133694, \"lng\": 28.242317, \"passengers\": 9000000, \"country\": \"South Africa\", \"id\": \"JNB\"}, {\"name\": \"Sydney\", \"iata\": \"SYD\", \"lat\": -33.946111, \"lng\": 151.177222, \"passengers\": 44000000, \"country\": \"Australia\", \"id\": \"SYD\"}, {\"name\": \"Nairobi\", \"iata\": \"NBO\", \"lat\": -1.319167, \"lng\": 36.927778, \"passengers\": 900000, \"country\": \"Kenya\", \"id\": \"NBO\"}, {\"name\": \"Atlanta\", \"iata\": \"ATL\", \"lat\": 33.639167, \"lng\": -84.427778, \"passengers\": 93000000, \"country\": \"USA\", \"id\": \"ATL\"},\n",
        "    {\"name\": \"New York City\", \"iata\": \"JFK\", \"lat\": 40.63975, \"lng\": -73.778925, \"passengers\": 55000000, \"country\": \"USA\", \"id\": \"JFK\"}, {\"name\": \"Cairo\", \"iata\": \"CAI\", \"lat\": 30.121944, \"lng\": 31.405556, \"passengers\": 14000000, \"country\": \"Egypt\", \"id\": \"CAI\"}, {\"name\": \"Casablanca\", \"iata\": \"CMN\", \"lat\": 33.367467, \"lng\": -7.589967, \"passengers\": 7000000, \"country\": \"Morocco\", \"id\": \"CMN\"}, {\"name\": \"Lagos\", \"iata\": \"LOS\", \"lat\": 6.577222, \"lng\": 3.321111, \"passengers\": 5000000, \"country\": \"Nigeria\", \"id\": \"LOS\"},\n",
        "    {\"name\": \"Cape Town\", \"iata\": \"CPT\", \"lat\": -33.969444, \"lng\": 18.597222, \"passengers\": 5000000, \"country\": \"South Africa\", \"id\": \"CPT\"}, {\"name\": \"Chengdu\", \"iata\": \"CTU\", \"lat\": 30.578333, \"lng\": 103.946944, \"passengers\": 40000000, \"country\": \"China\", \"id\": \"CTU\"}, {\"name\": \"Jakarta\", \"iata\": \"CGK\", \"lat\": -6.125567, \"lng\": 106.655897, \"passengers\": 54000000, \"country\": \"Indonesia\", \"id\": \"CGK\"}, {\"name\": \"Teheran\", \"iata\": \"IKA\", \"lat\": 35.416111, \"lng\": 51.152222, \"passengers\": 8000000, \"country\": \"Iran\", \"id\": \"IKA\"},\n",
        "    {\"name\": \"Tel Aviv\", \"iata\": \"TLV\", \"lat\": 32.011389, \"lng\": 34.886667, \"passengers\": 20000000, \"country\": \"Israel\", \"id\": \"TLV\"}, {\"name\": \"Kuala Lumpur\", \"iata\": \"KUL\", \"lat\": 2.745578, \"lng\": 101.709917, \"passengers\": 25000000, \"country\": \"Malaysia\", \"id\": \"KUL\"}, {\"name\": \"Manila\", \"iata\": \"MNL\", \"lat\": 14.508647, \"lng\": 121.019581, \"passengers\": 8000000, \"country\": \"Philippines\", \"id\": \"MNL\"}, {\"name\": \"Singapur\", \"iata\": \"SIN\", \"lat\": 1.350189, \"lng\": 103.994433, \"passengers\": 32000000, \"country\": \"Singapore\", \"id\": \"SIN\"},\n",
        "    {\"name\": \"Taipeh\", \"iata\": \"TPE\", \"lat\": 25.077732, \"lng\": 121.232822, \"passengers\": 800000, \"country\": \"Taiwan\", \"id\": \"TPE\"}, {\"name\": \"Bangkok\", \"iata\": \"BKK\", \"lat\": 13.681108, \"lng\": 100.747283, \"passengers\": 65000000, \"country\": \"Thailand\", \"id\": \"BKK\"}, {\"name\": \"Istanbul\", \"iata\": \"IST\", \"lat\": 40.976922, \"lng\": 28.814606, \"passengers\": 64000000, \"country\": \"Turkey\", \"id\": \"IST\"}, {\"name\": \"Ulaanbaatar\", \"iata\": \"ULN\", \"lat\": 47.843056, \"lng\": 106.766639, \"passengers\": 1000000, \"country\": \"Mongolia\", \"id\": \"ULN\"},\n",
        "    {\"name\": \"Melbourne\", \"iata\": \"MEL\", \"lat\": -37.673333, \"lng\": 144.843333, \"passengers\": 12000000, \"country\": \"Australia\", \"id\": \"MEL\"}, {\"name\": \"Brisbane\", \"iata\": \"BNE\", \"lat\": -27.383333, \"lng\": 153.118056, \"passengers\": 23000000, \"country\": \"Australia\", \"id\": \"BNE\"}, {\"name\": \"Nadi\", \"iata\": \"NAN\", \"lat\": -17.755392, \"lng\": 177.443378, \"passengers\": 2000000, \"country\": \"Fiji\", \"id\": \"NAN\"}, {\"name\": \"Auckland\", \"iata\": \"AKL\", \"lat\": -37.008056, \"lng\": 174.791667, \"passengers\": 21000000, \"country\": \"New Zealand\", \"id\": \"AKL\"},\n",
        "    {\"name\": \"Paris\", \"iata\": \"CDG\", \"lat\": 49.009722, \"lng\": 2.547778, \"passengers\": 57000000, \"country\": \"France\", \"id\": \"CDG\"}, {\"name\": \"Madrid\", \"iata\": \"MAD\", \"lat\": 40.4675, \"lng\": -3.551944, \"passengers\": 50000000, \"country\": \"Spain\", \"id\": \"MAD\"}, {\"name\": \"Barcelona\", \"iata\": \"BCN\", \"lat\": 41.297078, \"lng\": 2.078464, \"passengers\": 41000000, \"country\": \"Spain\", \"id\": \"BCN\"}, {\"name\": \"Rome\", \"iata\": \"FCO\", \"lat\": 41.804444, \"lng\": 12.250833, \"passengers\": 29000000, \"country\": \"Italy\", \"id\": \"FCO\"},\n",
        "    {\"name\": \"Copenhagen\", \"iata\": \"CPH\", \"lat\": 55.617917, \"lng\": 12.655972, \"passengers\": 30000000, \"country\": \"Denmark\", \"id\": \"CPH\"}, {\"name\": \"Helsinki\", \"iata\": \"HEL\", \"lat\": 60.317222, \"lng\": 24.963333, \"passengers\": 5000000, \"country\": \"Finland\", \"id\": \"HEL\"}, {\"name\": \"Athens\", \"iata\": \"ATH\", \"lat\": 37.936358, \"lng\": 23.944467, \"passengers\": 22000000, \"country\": \"Greece\", \"id\": \"ATH\"}, {\"name\": \"Dublin\", \"iata\": \"DUB\", \"lat\": 53.421333, \"lng\": -6.270075, \"passengers\": 32000000, \"country\": \"Ireland\", \"id\": \"DUB\"},\n",
        "    {\"name\": \"Reykjavik\", \"iata\": \"RKV\", \"lat\": 64.13, \"lng\": -21.940556, \"passengers\": 400000, \"country\": \"Iceland\", \"id\": \"RKV\"}, {\"name\": \"Oslo\", \"iata\": \"OSL\", \"lat\": 60.193917, \"lng\": 11.100361, \"passengers\": 9000000, \"country\": \"Norway\", \"id\": \"OSL\"}, {\"name\": \"Vienna\", \"iata\": \"VIE\", \"lat\": 48.110833, \"lng\": 16.570833, \"passengers\": 10000000, \"country\": \"Austria\", \"id\": \"VIE\"}, {\"name\": \"Lisbon\", \"iata\": \"LIS\", \"lat\": 38.774167, \"lng\": -9.134167, \"passengers\": 28000000, \"country\": \"Portugal\", \"id\": \"LIS\"},\n",
        "    {\"name\": \"Stockholm\", \"iata\": \"ARN\", \"lat\": 59.651944, \"lng\": 17.918611, \"passengers\": 7000000, \"country\": \"Sweden\", \"id\": \"ARN\"}, {\"name\": \"Edinburgh\", \"iata\": \"EDI\", \"lat\": 55.95, \"lng\": -3.3725, \"passengers\": 14000000, \"country\": \"UK\", \"id\": \"EDI\"}, {\"name\": \"Chicago\", \"iata\": \"ORD\", \"lat\": 41.978603, \"lng\": -87.904842, \"passengers\": 54000000, \"country\": \"USA\", \"id\": \"ORD\"}, {\"name\": \"Dallas\", \"iata\": \"DFW\", \"lat\": 32.896828, \"lng\": -97.037997, \"passengers\": 73000000, \"country\": \"USA\", \"id\": \"DFW\"},\n",
        "    {\"name\": \"San Francisco\", \"iata\": \"SFO\", \"lat\": 37.618972, \"lng\": -122.374889, \"passengers\": 42000000, \"country\": \"USA\", \"id\": \"SFO\"}, {\"name\": \"Las Vegas\", \"iata\": \"LAS\", \"lat\": 36.080056, \"lng\": -115.15225, \"passengers\": 52000000, \"country\": \"USA\", \"id\": \"LAS\"}, {\"name\": \"Miami\", \"iata\": \"MIA\", \"lat\": 25.79325, \"lng\": -80.290556, \"passengers\": 50000000, \"country\": \"USA\", \"id\": \"MIA\"}, {\"name\": \"Toronto\", \"iata\": \"YYZ\", \"lat\": 43.677222, \"lng\": -79.630556, \"passengers\": 12000000, \"country\": \"Canada\", \"id\": \"YYZ\"},\n",
        "    {\"name\": \"Vancouver\", \"iata\": \"YVR\", \"lat\": 49.193889, \"lng\": -123.184444, \"passengers\": 19000000, \"country\": \"Canada\", \"id\": \"YVR\"}, {\"name\": \"Montreal\", \"iata\": \"YUL\", \"lat\": 45.47175, \"lng\": -73.736569, \"passengers\": 15000000, \"country\": \"Canada\", \"id\": \"YUL\"}, {\"name\": \"Mexico-City\", \"iata\": \"MEX\", \"lat\": 19.436303, \"lng\": -99.072097, \"passengers\": 46000000, \"country\": \"Mexico\", \"id\": \"MEX\"}, {\"name\": \"Guatemala-City\", \"iata\": \"GUA\", \"lat\": 14.583272, \"lng\": -90.527475, \"passengers\": 2000000, \"country\": \"Guatemala\", \"id\": \"GUA\"},\n",
        "    {\"name\": \"Buenos Aires\", \"iata\": \"EZE\", \"lat\": -34.822222, \"lng\": -58.535833, \"passengers\": 5000000, \"country\": \"Argentina\", \"id\": \"EZE\"}, {\"name\": \"Sao Paulo\", \"iata\": \"GRU\", \"lat\": -23.432075, \"lng\": -46.469511, \"passengers\": 34000000, \"country\": \"Brazil\", \"id\": \"GRU\"}, {\"name\": \"Santiago de Chile\", \"iata\": \"SCL\", \"lat\": -33.392975, \"lng\": -70.785803, \"passengers\": 20000000, \"country\": \"Chile\", \"id\": \"SCL\"}, {\"name\": \"Brasilia\", \"iata\": \"BSB\", \"lat\": -15.871111, \"lng\": -47.918611, \"passengers\": 13000000, \"country\": \"Brazil\", \"id\": \"BSB\"},\n",
        "    {\"name\": \"Bogota\", \"iata\": \"BOG\", \"lat\": 4.701594, \"lng\": -74.146947, \"passengers\": 36000000, \"country\": \"Colombia\", \"id\": \"BOG\"}, {\"name\": \"Caracas\", \"iata\": \"CCS\", \"lat\": 10.601194, \"lng\": -66.991222, \"passengers\": 8000000, \"country\": \"Venezuela\", \"id\": \"CCS\"}\n",
        "  ]\n",
        "connections = [\n",
        "    {'from': 'LAX','to': 'JFK' },   {'from': 'JFK','to': 'GIG' },    {'from': 'JFK','to': 'LIM' },    {'from': 'JFK','to': 'LHR' },    {'from': 'GIG','to': 'FRA' },    {'from': 'LIM','to': 'GIG' },    {'from': 'FRA','to': 'JFK' },    {'from': 'LHR','to': 'FRA' },    {'from': 'FRA','to': 'SVO' },    {'from': 'FRA','to': 'DXB' },    {'from': 'SVO','to': 'DEL' },\n",
        "    {'from': 'SVO','to': 'PVG' },    {'from': 'DEL','to': 'HKG' },    {'from': 'PVG','to': 'HKG' },    {'from': 'PVG','to': 'NRT' },    {'from': 'HKG','to': 'SYD' },    {'from': 'NRT','to': 'SYD' },    {'from': 'DXB','to': 'SVO' },    {'from': 'DXB','to': 'DEL' },    {'from': 'DXB','to': 'DKR' },    {'from': 'DXB','to': 'JNB' },    {'from': 'JNB','to': 'LHR' },\n",
        "    {'from': 'JNB','to': 'DKR' },    {'from': 'SYD','to': 'DXB' },    {'from': 'NBO','to': 'JNB' },    {'from': 'NBO','to': 'DXB' },    {'from': 'ATL','to': 'JFK' },    {'from': 'LAX','to': 'ATL' },    {'from': 'ATL','to': 'LHR' },    {'from': 'ATL','to': 'LIM' },    {'from': 'SCL','to': 'LIM' },    {'from': 'EZE','to': 'SCL' },    {'from': 'SCL','to': 'GRU' },\n",
        "    {'from': 'GIG','to': 'EZE' },    {'from': 'GIG','to': 'GRU' },    {'from': 'BSB','to': 'GIG' },    {'from': 'SCL','to': 'BSB' },    {'from': 'LIM','to': 'BSB' },    {'from': 'BOG','to': 'BSB' },    {'from': 'CCS','to': 'BSB' },    {'from': 'BOG','to': 'GUA' },    {'from': 'CCS','to': 'MIA' },    {'from': 'GUA','to': 'MIA' },    {'from': 'GUA','to': 'MEX' },\n",
        "    {'from': 'MEX','to': 'LAX' },    {'from': 'MEX','to': 'LAX' },    {'from': 'LAX','to': 'SFO' },    {'from': 'SFO','to': 'YVR' },    {'from': 'LAX','to': 'LAS' },    {'from': 'LAX','to': 'DFW' },    {'from': 'LAX','to': 'ORD' },    {'from': 'SFO','to': 'LAS' },    {'from': 'DFW','to': 'ATL' },    {'from': 'ATL','to': 'YYZ' },    {'from': 'ORD','to': 'YYZ' },\n",
        "    {'from': 'YYZ','to': 'YUL' },    {'from': 'YYZ','to': 'JFK' },    {'from': 'YUL','to': 'JFK' },    {'from': 'JNB','to': 'CPT' },    {'from': 'LOS','to': 'DKR' },    {'from': 'NBO','to': 'LOS' },    {'from': 'DKR','to': 'CMN' },    {'from': 'DKR','to': 'CAI' },    {'from': 'NBO','to': 'CAI' },    {'from': 'DXB','to': 'CAI' },    {'from': 'IKA','to': 'DXB' },\n",
        "    {'from': 'IST','to': 'IKA' },    {'from': 'TLV','to': 'ATH' },    {'from': 'CAI','to': 'TLV' },    {'from': 'ATH','to': 'IST' },    {'from': 'FCO','to': 'ATH' },    {'from': 'LIS','to': 'LHR' },    {'from': 'LIS','to': 'MAD' },    {'from': 'MAD','to': 'BCN' },    {'from': 'CDG','to': 'LHR' },    {'from': 'DUB','to': 'LHR' },    {'from': 'EDI','to': 'LHR' },\n",
        "    {'from': 'CDG','to': 'BCN' },    {'from': 'BCN','to': 'FCO' },    {'from': 'VIE','to': 'IST' },    {'from': 'VIE','to': 'SVO' },    {'from': 'CMN','to': 'LIS' },    {'from': 'MAD','to': 'CMN' },    {'from': 'FRA','to': 'CPH' },    {'from': 'LHR','to': 'CPH' },    {'from': 'CPH','to': 'OSL' },    {'from': 'CPH','to': 'ARN' },    {'from': 'ARN','to': 'HEL' },\n",
        "    {'from': 'HEL','to': 'SVO' },    {'from': 'ULN','to': 'PVG' },    {'from': 'CTU','to': 'PVG' },    {'from': 'PVG','to': 'TPE' },    {'from': 'CTU','to': 'HKG' },    {'from': 'TPE','to': 'HKG' },    {'from': 'HKG','to': 'MNL' },    {'from': 'BKK','to': 'HKG' },    {'from': 'SIN','to': 'KUL' },    {'from': 'SIN','to': 'BKK' },    {'from': 'CGK','to': 'SIN' },\n",
        "    {'from': 'MNL','to': 'SIN' },    {'from': 'SIN','to': 'SYD' },    {'from': 'BNE','to': 'SYD' },    {'from': 'SYD','to': 'MEL' },    {'from': 'NAN','to': 'SYD' },    {'from': 'AKL','to': 'SYD' },    {'from': 'NAN','to': 'AKL' },    {'from': 'RKV','to': 'LHR' },    {'from': 'BCN','to': 'CDG' },    {'from': 'BCN','to': 'FRA' },    {'from': 'FCO','to': 'FRA' },\n",
        "    {'from': 'BOG','to': 'MEX' },    {'from': 'BOG','to': 'GRU' },    {'from': 'ATL','to': 'MIA' },    {'from': 'FRA','to': 'IST' },    {'from': 'IST','to': 'DEL' },    {'from': 'PVG','to': 'BKK' },    {'from': 'DEL','to': 'BKK' },\n",
        "  ]\n",
        "edges = [\n",
        "    {\"start\": connection['from'], \"end\": connection['to'], \"label\": \"\", \"properties\": {}, \"directed\": False}\n",
        "    for connection in connections\n",
        "]\n",
        "nodes = [\n",
        "    {\"id\": airport['iata'], \"properties\": {\"label\": airport['name'], 'passengers': airport['passengers'], 'country': airport['country']}, \"coordinates\": [airport['lat'], airport['lng']]}\n",
        "    for airport in airports\n",
        "]"
      ]
    },
    {
      "cell_type": "code",
      "execution_count": 5,
      "id": "fac80d57-3b5b-4d1b-962d-5aec0f600a1c",
      "metadata": {
        "colab": {
          "base_uri": "https://localhost:8080/",
          "height": 817,
          "referenced_widgets": [
            "7f19d6cf3a844b8888309bb9df2c5a1b",
            "63dc350aec1945cfb821514136020835"
          ]
        },
        "id": "fac80d57-3b5b-4d1b-962d-5aec0f600a1c",
        "outputId": "de47f1ab-6727-4d06-db2a-c0c3b0d773c2"
      },
      "outputs": [
        {
          "output_type": "display_data",
          "data": {
            "text/plain": [
              "GraphWidget(layout=Layout(height='800px', width='100%'))"
            ],
            "application/vnd.jupyter.widget-view+json": {
              "version_major": 2,
              "version_minor": 0,
              "model_id": "7f19d6cf3a844b8888309bb9df2c5a1b"
            }
          },
          "metadata": {
            "application/vnd.jupyter.widget-view+json": {
              "colab": {
                "custom_widget_manager": {
                  "url": "https://ssl.gstatic.com/colaboratory-static/widgets/colab-cdn-widget-manager/2b70e893a8ba7c0f/manager.min.js"
                }
              }
            }
          }
        }
      ],
      "source": [
        "w = GraphWidget()\n",
        "\n",
        "# use the country property as parent-id for each node, note how the 'nodes' data does not contain distinct country node objects\n",
        "w.node_parent_group_mapping = \"country\"\n",
        "\n",
        "# assign the data\n",
        "w.edges = edges\n",
        "w.nodes = nodes # does not contain distinct \"country\" objects\n",
        "\n",
        "# also map the geo-coordinate data because they are available in the dataset\n",
        "w.node_coordinate_mapping = \"coordinates\"\n",
        "\n",
        "display(w)"
      ]
    },
    {
      "cell_type": "markdown",
      "id": "0d4f7ba4-8cf7-4e56-a667-21e7d907f038",
      "metadata": {
        "id": "0d4f7ba4-8cf7-4e56-a667-21e7d907f038"
      },
      "source": [
        "# Initially collapsed sidebar\n",
        "\n",
        "The sidebar is now initially collapsed to make better use of the limited space in the notebook.\n",
        "\n",
        "If needed, the sidebar can be re-enabled initially with `widget.set_sidebar(enabled=True)` or by selecting a specific initial panel (see also [Sidebar Notebook](../23_sidebar.ipynb)).\n",
        "\n",
        "Note how clicking a graph item automatically switches to the `Data` panel when the `About` panel is currently active."
      ]
    },
    {
      "cell_type": "code",
      "execution_count": 6,
      "id": "a5007226-2a56-4a85-afe5-0406aa08be06",
      "metadata": {
        "colab": {
          "base_uri": "https://localhost:8080/",
          "height": 817,
          "referenced_widgets": [
            "725bbc67c67547c5b24b16984af16a85",
            "bd2bd71680f54a4abfba44ed9e772cdc"
          ]
        },
        "id": "a5007226-2a56-4a85-afe5-0406aa08be06",
        "outputId": "64651214-1831-468e-d64a-d553bcd82b88"
      },
      "outputs": [
        {
          "output_type": "display_data",
          "data": {
            "text/plain": [
              "GraphWidget(layout=Layout(height='800px', width='100%'))"
            ],
            "application/vnd.jupyter.widget-view+json": {
              "version_major": 2,
              "version_minor": 0,
              "model_id": "725bbc67c67547c5b24b16984af16a85"
            }
          },
          "metadata": {
            "application/vnd.jupyter.widget-view+json": {
              "colab": {
                "custom_widget_manager": {
                  "url": "https://ssl.gstatic.com/colaboratory-static/widgets/colab-cdn-widget-manager/2b70e893a8ba7c0f/manager.min.js"
                }
              }
            }
          }
        }
      ],
      "source": [
        "w2 = GraphWidget()\n",
        "w2.edges = edges\n",
        "w2.nodes = nodes\n",
        "\n",
        "# start with expanded search panel\n",
        "w2.set_sidebar(enabled=True)\n",
        "# or\n",
        "# w2.set_sidebar(start_with='Search')\n",
        "\n",
        "display(w2)"
      ]
    },
    {
      "cell_type": "markdown",
      "id": "5bce7a86-7c43-4360-9056-8f3bd5c18841",
      "metadata": {
        "id": "5bce7a86-7c43-4360-9056-8f3bd5c18841"
      },
      "source": [
        "# Improved pandas import\n",
        "\n",
        "Pandas dataframes are now properly parsed as edge lists with `source` and `target` attributes (see also [Pandas Dataframes Notebook](../14_pandas_import.ipynb))."
      ]
    },
    {
      "cell_type": "code",
      "execution_count": 7,
      "id": "3fa8cfb1-b885-4582-9f27-de0452699ee8",
      "metadata": {
        "colab": {
          "base_uri": "https://localhost:8080/",
          "height": 363
        },
        "id": "3fa8cfb1-b885-4582-9f27-de0452699ee8",
        "outputId": "fb005e35-6282-4b54-ff1a-cd027409f637"
      },
      "outputs": [
        {
          "output_type": "execute_result",
          "data": {
            "text/plain": [
              "   source  target  label id  age   color\n",
              "0  Node 0  Node 3  Row 0  0   31     red\n",
              "1  Node 0  Node 4  Row 1  1   56    blue\n",
              "2  Node 1  Node 4  Row 2  2   27   green\n",
              "3  Node 2  Node 5  Row 3  3   43  orange\n",
              "4  Node 2  Node 6  Row 4  4   19  purple\n",
              "5  Node 2  Node 7  Row 5  5   84  yellow\n",
              "6  Node 3  Node 8  Row 6  6   38    grey\n",
              "7  Node 3  Node 9  Row 7  7   70    pink\n",
              "8  Node 4  Node 6  Row 8  8    5   black\n",
              "9  Node 5  Node 6  Row 9  9   92   brown"
            ],
            "text/html": [
              "\n",
              "  <div id=\"df-55e174d2-3e3f-4196-b1dd-2aa67d442bab\" class=\"colab-df-container\">\n",
              "    <div>\n",
              "<style scoped>\n",
              "    .dataframe tbody tr th:only-of-type {\n",
              "        vertical-align: middle;\n",
              "    }\n",
              "\n",
              "    .dataframe tbody tr th {\n",
              "        vertical-align: top;\n",
              "    }\n",
              "\n",
              "    .dataframe thead th {\n",
              "        text-align: right;\n",
              "    }\n",
              "</style>\n",
              "<table border=\"1\" class=\"dataframe\">\n",
              "  <thead>\n",
              "    <tr style=\"text-align: right;\">\n",
              "      <th></th>\n",
              "      <th>source</th>\n",
              "      <th>target</th>\n",
              "      <th>label</th>\n",
              "      <th>id</th>\n",
              "      <th>age</th>\n",
              "      <th>color</th>\n",
              "    </tr>\n",
              "  </thead>\n",
              "  <tbody>\n",
              "    <tr>\n",
              "      <th>0</th>\n",
              "      <td>Node 0</td>\n",
              "      <td>Node 3</td>\n",
              "      <td>Row 0</td>\n",
              "      <td>0</td>\n",
              "      <td>31</td>\n",
              "      <td>red</td>\n",
              "    </tr>\n",
              "    <tr>\n",
              "      <th>1</th>\n",
              "      <td>Node 0</td>\n",
              "      <td>Node 4</td>\n",
              "      <td>Row 1</td>\n",
              "      <td>1</td>\n",
              "      <td>56</td>\n",
              "      <td>blue</td>\n",
              "    </tr>\n",
              "    <tr>\n",
              "      <th>2</th>\n",
              "      <td>Node 1</td>\n",
              "      <td>Node 4</td>\n",
              "      <td>Row 2</td>\n",
              "      <td>2</td>\n",
              "      <td>27</td>\n",
              "      <td>green</td>\n",
              "    </tr>\n",
              "    <tr>\n",
              "      <th>3</th>\n",
              "      <td>Node 2</td>\n",
              "      <td>Node 5</td>\n",
              "      <td>Row 3</td>\n",
              "      <td>3</td>\n",
              "      <td>43</td>\n",
              "      <td>orange</td>\n",
              "    </tr>\n",
              "    <tr>\n",
              "      <th>4</th>\n",
              "      <td>Node 2</td>\n",
              "      <td>Node 6</td>\n",
              "      <td>Row 4</td>\n",
              "      <td>4</td>\n",
              "      <td>19</td>\n",
              "      <td>purple</td>\n",
              "    </tr>\n",
              "    <tr>\n",
              "      <th>5</th>\n",
              "      <td>Node 2</td>\n",
              "      <td>Node 7</td>\n",
              "      <td>Row 5</td>\n",
              "      <td>5</td>\n",
              "      <td>84</td>\n",
              "      <td>yellow</td>\n",
              "    </tr>\n",
              "    <tr>\n",
              "      <th>6</th>\n",
              "      <td>Node 3</td>\n",
              "      <td>Node 8</td>\n",
              "      <td>Row 6</td>\n",
              "      <td>6</td>\n",
              "      <td>38</td>\n",
              "      <td>grey</td>\n",
              "    </tr>\n",
              "    <tr>\n",
              "      <th>7</th>\n",
              "      <td>Node 3</td>\n",
              "      <td>Node 9</td>\n",
              "      <td>Row 7</td>\n",
              "      <td>7</td>\n",
              "      <td>70</td>\n",
              "      <td>pink</td>\n",
              "    </tr>\n",
              "    <tr>\n",
              "      <th>8</th>\n",
              "      <td>Node 4</td>\n",
              "      <td>Node 6</td>\n",
              "      <td>Row 8</td>\n",
              "      <td>8</td>\n",
              "      <td>5</td>\n",
              "      <td>black</td>\n",
              "    </tr>\n",
              "    <tr>\n",
              "      <th>9</th>\n",
              "      <td>Node 5</td>\n",
              "      <td>Node 6</td>\n",
              "      <td>Row 9</td>\n",
              "      <td>9</td>\n",
              "      <td>92</td>\n",
              "      <td>brown</td>\n",
              "    </tr>\n",
              "  </tbody>\n",
              "</table>\n",
              "</div>\n",
              "    <div class=\"colab-df-buttons\">\n",
              "\n",
              "  <div class=\"colab-df-container\">\n",
              "    <button class=\"colab-df-convert\" onclick=\"convertToInteractive('df-55e174d2-3e3f-4196-b1dd-2aa67d442bab')\"\n",
              "            title=\"Convert this dataframe to an interactive table.\"\n",
              "            style=\"display:none;\">\n",
              "\n",
              "  <svg xmlns=\"http://www.w3.org/2000/svg\" height=\"24px\" viewBox=\"0 -960 960 960\">\n",
              "    <path d=\"M120-120v-720h720v720H120Zm60-500h600v-160H180v160Zm220 220h160v-160H400v160Zm0 220h160v-160H400v160ZM180-400h160v-160H180v160Zm440 0h160v-160H620v160ZM180-180h160v-160H180v160Zm440 0h160v-160H620v160Z\"/>\n",
              "  </svg>\n",
              "    </button>\n",
              "\n",
              "  <style>\n",
              "    .colab-df-container {\n",
              "      display:flex;\n",
              "      gap: 12px;\n",
              "    }\n",
              "\n",
              "    .colab-df-convert {\n",
              "      background-color: #E8F0FE;\n",
              "      border: none;\n",
              "      border-radius: 50%;\n",
              "      cursor: pointer;\n",
              "      display: none;\n",
              "      fill: #1967D2;\n",
              "      height: 32px;\n",
              "      padding: 0 0 0 0;\n",
              "      width: 32px;\n",
              "    }\n",
              "\n",
              "    .colab-df-convert:hover {\n",
              "      background-color: #E2EBFA;\n",
              "      box-shadow: 0px 1px 2px rgba(60, 64, 67, 0.3), 0px 1px 3px 1px rgba(60, 64, 67, 0.15);\n",
              "      fill: #174EA6;\n",
              "    }\n",
              "\n",
              "    .colab-df-buttons div {\n",
              "      margin-bottom: 4px;\n",
              "    }\n",
              "\n",
              "    [theme=dark] .colab-df-convert {\n",
              "      background-color: #3B4455;\n",
              "      fill: #D2E3FC;\n",
              "    }\n",
              "\n",
              "    [theme=dark] .colab-df-convert:hover {\n",
              "      background-color: #434B5C;\n",
              "      box-shadow: 0px 1px 3px 1px rgba(0, 0, 0, 0.15);\n",
              "      filter: drop-shadow(0px 1px 2px rgba(0, 0, 0, 0.3));\n",
              "      fill: #FFFFFF;\n",
              "    }\n",
              "  </style>\n",
              "\n",
              "    <script>\n",
              "      const buttonEl =\n",
              "        document.querySelector('#df-55e174d2-3e3f-4196-b1dd-2aa67d442bab button.colab-df-convert');\n",
              "      buttonEl.style.display =\n",
              "        google.colab.kernel.accessAllowed ? 'block' : 'none';\n",
              "\n",
              "      async function convertToInteractive(key) {\n",
              "        const element = document.querySelector('#df-55e174d2-3e3f-4196-b1dd-2aa67d442bab');\n",
              "        const dataTable =\n",
              "          await google.colab.kernel.invokeFunction('convertToInteractive',\n",
              "                                                    [key], {});\n",
              "        if (!dataTable) return;\n",
              "\n",
              "        const docLinkHtml = 'Like what you see? Visit the ' +\n",
              "          '<a target=\"_blank\" href=https://colab.research.google.com/notebooks/data_table.ipynb>data table notebook</a>'\n",
              "          + ' to learn more about interactive tables.';\n",
              "        element.innerHTML = '';\n",
              "        dataTable['output_type'] = 'display_data';\n",
              "        await google.colab.output.renderOutput(dataTable, element);\n",
              "        const docLink = document.createElement('div');\n",
              "        docLink.innerHTML = docLinkHtml;\n",
              "        element.appendChild(docLink);\n",
              "      }\n",
              "    </script>\n",
              "  </div>\n",
              "\n",
              "\n",
              "<div id=\"df-0014e1a9-b705-4551-9e73-e79eb552ff35\">\n",
              "  <button class=\"colab-df-quickchart\" onclick=\"quickchart('df-0014e1a9-b705-4551-9e73-e79eb552ff35')\"\n",
              "            title=\"Suggest charts\"\n",
              "            style=\"display:none;\">\n",
              "\n",
              "<svg xmlns=\"http://www.w3.org/2000/svg\" height=\"24px\"viewBox=\"0 0 24 24\"\n",
              "     width=\"24px\">\n",
              "    <g>\n",
              "        <path d=\"M19 3H5c-1.1 0-2 .9-2 2v14c0 1.1.9 2 2 2h14c1.1 0 2-.9 2-2V5c0-1.1-.9-2-2-2zM9 17H7v-7h2v7zm4 0h-2V7h2v10zm4 0h-2v-4h2v4z\"/>\n",
              "    </g>\n",
              "</svg>\n",
              "  </button>\n",
              "\n",
              "<style>\n",
              "  .colab-df-quickchart {\n",
              "      --bg-color: #E8F0FE;\n",
              "      --fill-color: #1967D2;\n",
              "      --hover-bg-color: #E2EBFA;\n",
              "      --hover-fill-color: #174EA6;\n",
              "      --disabled-fill-color: #AAA;\n",
              "      --disabled-bg-color: #DDD;\n",
              "  }\n",
              "\n",
              "  [theme=dark] .colab-df-quickchart {\n",
              "      --bg-color: #3B4455;\n",
              "      --fill-color: #D2E3FC;\n",
              "      --hover-bg-color: #434B5C;\n",
              "      --hover-fill-color: #FFFFFF;\n",
              "      --disabled-bg-color: #3B4455;\n",
              "      --disabled-fill-color: #666;\n",
              "  }\n",
              "\n",
              "  .colab-df-quickchart {\n",
              "    background-color: var(--bg-color);\n",
              "    border: none;\n",
              "    border-radius: 50%;\n",
              "    cursor: pointer;\n",
              "    display: none;\n",
              "    fill: var(--fill-color);\n",
              "    height: 32px;\n",
              "    padding: 0;\n",
              "    width: 32px;\n",
              "  }\n",
              "\n",
              "  .colab-df-quickchart:hover {\n",
              "    background-color: var(--hover-bg-color);\n",
              "    box-shadow: 0 1px 2px rgba(60, 64, 67, 0.3), 0 1px 3px 1px rgba(60, 64, 67, 0.15);\n",
              "    fill: var(--button-hover-fill-color);\n",
              "  }\n",
              "\n",
              "  .colab-df-quickchart-complete:disabled,\n",
              "  .colab-df-quickchart-complete:disabled:hover {\n",
              "    background-color: var(--disabled-bg-color);\n",
              "    fill: var(--disabled-fill-color);\n",
              "    box-shadow: none;\n",
              "  }\n",
              "\n",
              "  .colab-df-spinner {\n",
              "    border: 2px solid var(--fill-color);\n",
              "    border-color: transparent;\n",
              "    border-bottom-color: var(--fill-color);\n",
              "    animation:\n",
              "      spin 1s steps(1) infinite;\n",
              "  }\n",
              "\n",
              "  @keyframes spin {\n",
              "    0% {\n",
              "      border-color: transparent;\n",
              "      border-bottom-color: var(--fill-color);\n",
              "      border-left-color: var(--fill-color);\n",
              "    }\n",
              "    20% {\n",
              "      border-color: transparent;\n",
              "      border-left-color: var(--fill-color);\n",
              "      border-top-color: var(--fill-color);\n",
              "    }\n",
              "    30% {\n",
              "      border-color: transparent;\n",
              "      border-left-color: var(--fill-color);\n",
              "      border-top-color: var(--fill-color);\n",
              "      border-right-color: var(--fill-color);\n",
              "    }\n",
              "    40% {\n",
              "      border-color: transparent;\n",
              "      border-right-color: var(--fill-color);\n",
              "      border-top-color: var(--fill-color);\n",
              "    }\n",
              "    60% {\n",
              "      border-color: transparent;\n",
              "      border-right-color: var(--fill-color);\n",
              "    }\n",
              "    80% {\n",
              "      border-color: transparent;\n",
              "      border-right-color: var(--fill-color);\n",
              "      border-bottom-color: var(--fill-color);\n",
              "    }\n",
              "    90% {\n",
              "      border-color: transparent;\n",
              "      border-bottom-color: var(--fill-color);\n",
              "    }\n",
              "  }\n",
              "</style>\n",
              "\n",
              "  <script>\n",
              "    async function quickchart(key) {\n",
              "      const quickchartButtonEl =\n",
              "        document.querySelector('#' + key + ' button');\n",
              "      quickchartButtonEl.disabled = true;  // To prevent multiple clicks.\n",
              "      quickchartButtonEl.classList.add('colab-df-spinner');\n",
              "      try {\n",
              "        const charts = await google.colab.kernel.invokeFunction(\n",
              "            'suggestCharts', [key], {});\n",
              "      } catch (error) {\n",
              "        console.error('Error during call to suggestCharts:', error);\n",
              "      }\n",
              "      quickchartButtonEl.classList.remove('colab-df-spinner');\n",
              "      quickchartButtonEl.classList.add('colab-df-quickchart-complete');\n",
              "    }\n",
              "    (() => {\n",
              "      let quickchartButtonEl =\n",
              "        document.querySelector('#df-0014e1a9-b705-4551-9e73-e79eb552ff35 button');\n",
              "      quickchartButtonEl.style.display =\n",
              "        google.colab.kernel.accessAllowed ? 'block' : 'none';\n",
              "    })();\n",
              "  </script>\n",
              "</div>\n",
              "\n",
              "  <div id=\"id_ccfe2577-b8e8-4eec-ad40-7590469e8553\">\n",
              "    <style>\n",
              "      .colab-df-generate {\n",
              "        background-color: #E8F0FE;\n",
              "        border: none;\n",
              "        border-radius: 50%;\n",
              "        cursor: pointer;\n",
              "        display: none;\n",
              "        fill: #1967D2;\n",
              "        height: 32px;\n",
              "        padding: 0 0 0 0;\n",
              "        width: 32px;\n",
              "      }\n",
              "\n",
              "      .colab-df-generate:hover {\n",
              "        background-color: #E2EBFA;\n",
              "        box-shadow: 0px 1px 2px rgba(60, 64, 67, 0.3), 0px 1px 3px 1px rgba(60, 64, 67, 0.15);\n",
              "        fill: #174EA6;\n",
              "      }\n",
              "\n",
              "      [theme=dark] .colab-df-generate {\n",
              "        background-color: #3B4455;\n",
              "        fill: #D2E3FC;\n",
              "      }\n",
              "\n",
              "      [theme=dark] .colab-df-generate:hover {\n",
              "        background-color: #434B5C;\n",
              "        box-shadow: 0px 1px 3px 1px rgba(0, 0, 0, 0.15);\n",
              "        filter: drop-shadow(0px 1px 2px rgba(0, 0, 0, 0.3));\n",
              "        fill: #FFFFFF;\n",
              "      }\n",
              "    </style>\n",
              "    <button class=\"colab-df-generate\" onclick=\"generateWithVariable('df')\"\n",
              "            title=\"Generate code using this dataframe.\"\n",
              "            style=\"display:none;\">\n",
              "\n",
              "  <svg xmlns=\"http://www.w3.org/2000/svg\" height=\"24px\"viewBox=\"0 0 24 24\"\n",
              "       width=\"24px\">\n",
              "    <path d=\"M7,19H8.4L18.45,9,17,7.55,7,17.6ZM5,21V16.75L18.45,3.32a2,2,0,0,1,2.83,0l1.4,1.43a1.91,1.91,0,0,1,.58,1.4,1.91,1.91,0,0,1-.58,1.4L9.25,21ZM18.45,9,17,7.55Zm-12,3A5.31,5.31,0,0,0,4.9,8.1,5.31,5.31,0,0,0,1,6.5,5.31,5.31,0,0,0,4.9,4.9,5.31,5.31,0,0,0,6.5,1,5.31,5.31,0,0,0,8.1,4.9,5.31,5.31,0,0,0,12,6.5,5.46,5.46,0,0,0,6.5,12Z\"/>\n",
              "  </svg>\n",
              "    </button>\n",
              "    <script>\n",
              "      (() => {\n",
              "      const buttonEl =\n",
              "        document.querySelector('#id_ccfe2577-b8e8-4eec-ad40-7590469e8553 button.colab-df-generate');\n",
              "      buttonEl.style.display =\n",
              "        google.colab.kernel.accessAllowed ? 'block' : 'none';\n",
              "\n",
              "      buttonEl.onclick = () => {\n",
              "        google.colab.notebook.generateWithVariable('df');\n",
              "      }\n",
              "      })();\n",
              "    </script>\n",
              "  </div>\n",
              "\n",
              "    </div>\n",
              "  </div>\n"
            ],
            "application/vnd.google.colaboratory.intrinsic+json": {
              "type": "dataframe",
              "variable_name": "df",
              "summary": "{\n  \"name\": \"df\",\n  \"rows\": 10,\n  \"fields\": [\n    {\n      \"column\": \"source\",\n      \"properties\": {\n        \"dtype\": \"string\",\n        \"num_unique_values\": 6,\n        \"samples\": [\n          \"Node 0\",\n          \"Node 1\",\n          \"Node 5\"\n        ],\n        \"semantic_type\": \"\",\n        \"description\": \"\"\n      }\n    },\n    {\n      \"column\": \"target\",\n      \"properties\": {\n        \"dtype\": \"string\",\n        \"num_unique_values\": 7,\n        \"samples\": [\n          \"Node 3\",\n          \"Node 4\",\n          \"Node 8\"\n        ],\n        \"semantic_type\": \"\",\n        \"description\": \"\"\n      }\n    },\n    {\n      \"column\": \"label\",\n      \"properties\": {\n        \"dtype\": \"string\",\n        \"num_unique_values\": 10,\n        \"samples\": [\n          \"Row 8\",\n          \"Row 1\",\n          \"Row 5\"\n        ],\n        \"semantic_type\": \"\",\n        \"description\": \"\"\n      }\n    },\n    {\n      \"column\": \"id\",\n      \"properties\": {\n        \"dtype\": \"string\",\n        \"num_unique_values\": 10,\n        \"samples\": [\n          \"8\",\n          \"1\",\n          \"5\"\n        ],\n        \"semantic_type\": \"\",\n        \"description\": \"\"\n      }\n    },\n    {\n      \"column\": \"age\",\n      \"properties\": {\n        \"dtype\": \"number\",\n        \"std\": 28,\n        \"min\": 5,\n        \"max\": 92,\n        \"num_unique_values\": 10,\n        \"samples\": [\n          5,\n          56,\n          84\n        ],\n        \"semantic_type\": \"\",\n        \"description\": \"\"\n      }\n    },\n    {\n      \"column\": \"color\",\n      \"properties\": {\n        \"dtype\": \"string\",\n        \"num_unique_values\": 10,\n        \"samples\": [\n          \"black\",\n          \"blue\",\n          \"yellow\"\n        ],\n        \"semantic_type\": \"\",\n        \"description\": \"\"\n      }\n    }\n  ]\n}"
            }
          },
          "metadata": {},
          "execution_count": 7
        }
      ],
      "source": [
        "%pip install pandas --quiet\n",
        "import pandas as pd\n",
        "\n",
        "data = {'source': ['Node 0','Node 0','Node 1','Node 2','Node 2','Node 2','Node 3','Node 3','Node 4','Node 5'],\n",
        "       'target': ['Node 3','Node 4','Node 4', 'Node 5', 'Node 6','Node 7','Node 8','Node 9','Node 6','Node 6'],\n",
        "       'label': ['Row 0','Row 1','Row 2','Row 3','Row 4','Row 5','Row 6','Row 7','Row 8','Row 9'],\n",
        "       'id': ['0','1','2','3','4','5','6','7','8','9'],\n",
        "       'age': [31, 56, 27, 43, 19, 84, 38, 70, 5, 92],\n",
        "        'color': ['red','blue','green','orange','purple','yellow','grey','pink','black','brown']}\n",
        "df = pd.DataFrame(data)\n",
        "df"
      ]
    },
    {
      "cell_type": "code",
      "execution_count": 8,
      "id": "3ff610f3-eb70-4d35-b69d-d602f9b9e26f",
      "metadata": {
        "colab": {
          "base_uri": "https://localhost:8080/",
          "height": 517,
          "referenced_widgets": [
            "fe2b917fff2243fa825b735a47a6a190",
            "2f073825655a43688949567ccdde64f6"
          ]
        },
        "id": "3ff610f3-eb70-4d35-b69d-d602f9b9e26f",
        "outputId": "f33b368a-d8f1-4ba1-d86d-41bd382c9824"
      },
      "outputs": [
        {
          "output_type": "display_data",
          "data": {
            "text/plain": [
              "GraphWidget(layout=Layout(height='500px', width='100%'))"
            ],
            "application/vnd.jupyter.widget-view+json": {
              "version_major": 2,
              "version_minor": 0,
              "model_id": "fe2b917fff2243fa825b735a47a6a190"
            }
          },
          "metadata": {
            "application/vnd.jupyter.widget-view+json": {
              "colab": {
                "custom_widget_manager": {
                  "url": "https://ssl.gstatic.com/colaboratory-static/widgets/colab-cdn-widget-manager/2b70e893a8ba7c0f/manager.min.js"
                }
              }
            }
          }
        }
      ],
      "source": [
        "w3 = GraphWidget(graph = df)\n",
        "display(w3)"
      ]
    }
  ],
  "metadata": {
    "kernelspec": {
      "display_name": "Python 3 (ipykernel)",
      "language": "python",
      "name": "python3"
    },
    "language_info": {
      "codemirror_mode": {
        "name": "ipython",
        "version": 3
      },
      "file_extension": ".py",
      "mimetype": "text/x-python",
      "name": "python",
      "nbconvert_exporter": "python",
      "pygments_lexer": "ipython3",
      "version": "3.12.3"
    },
    "widgets": {
      "application/vnd.jupyter.widget-state+json": {
        "7f19d6cf3a844b8888309bb9df2c5a1b": {
          "model_module": "yfiles-jupyter-graphs",
          "model_name": "GraphModel",
          "model_module_version": "^1.8.0",
          "state": {
            "_context_pane_mapping": [
              {
                "id": "Neighborhood",
                "title": "Neighborhood"
              },
              {
                "id": "Data",
                "title": "Data"
              },
              {
                "id": "Search",
                "title": "Search"
              },
              {
                "id": "About",
                "title": "About"
              }
            ],
            "_data_importer": "unknown",
            "_directed": false,
            "_dom_classes": [],
            "_edges": [
              {
                "start": "LAX",
                "end": "JFK",
                "label": "",
                "properties": {},
                "directed": false,
                "color": "#15AFAC",
                "thickness_factor": 1
              },
              {
                "start": "JFK",
                "end": "GIG",
                "label": "",
                "properties": {},
                "directed": false,
                "color": "#15AFAC",
                "thickness_factor": 1
              },
              {
                "start": "JFK",
                "end": "LIM",
                "label": "",
                "properties": {},
                "directed": false,
                "color": "#15AFAC",
                "thickness_factor": 1
              },
              {
                "start": "JFK",
                "end": "LHR",
                "label": "",
                "properties": {},
                "directed": false,
                "color": "#15AFAC",
                "thickness_factor": 1
              },
              {
                "start": "GIG",
                "end": "FRA",
                "label": "",
                "properties": {},
                "directed": false,
                "color": "#15AFAC",
                "thickness_factor": 1
              },
              {
                "start": "LIM",
                "end": "GIG",
                "label": "",
                "properties": {},
                "directed": false,
                "color": "#15AFAC",
                "thickness_factor": 1
              },
              {
                "start": "FRA",
                "end": "JFK",
                "label": "",
                "properties": {},
                "directed": false,
                "color": "#15AFAC",
                "thickness_factor": 1
              },
              {
                "start": "LHR",
                "end": "FRA",
                "label": "",
                "properties": {},
                "directed": false,
                "color": "#15AFAC",
                "thickness_factor": 1
              },
              {
                "start": "FRA",
                "end": "SVO",
                "label": "",
                "properties": {},
                "directed": false,
                "color": "#15AFAC",
                "thickness_factor": 1
              },
              {
                "start": "FRA",
                "end": "DXB",
                "label": "",
                "properties": {},
                "directed": false,
                "color": "#15AFAC",
                "thickness_factor": 1
              },
              {
                "start": "SVO",
                "end": "DEL",
                "label": "",
                "properties": {},
                "directed": false,
                "color": "#15AFAC",
                "thickness_factor": 1
              },
              {
                "start": "SVO",
                "end": "PVG",
                "label": "",
                "properties": {},
                "directed": false,
                "color": "#15AFAC",
                "thickness_factor": 1
              },
              {
                "start": "DEL",
                "end": "HKG",
                "label": "",
                "properties": {},
                "directed": false,
                "color": "#15AFAC",
                "thickness_factor": 1
              },
              {
                "start": "PVG",
                "end": "HKG",
                "label": "",
                "properties": {},
                "directed": false,
                "color": "#15AFAC",
                "thickness_factor": 1
              },
              {
                "start": "PVG",
                "end": "NRT",
                "label": "",
                "properties": {},
                "directed": false,
                "color": "#15AFAC",
                "thickness_factor": 1
              },
              {
                "start": "HKG",
                "end": "SYD",
                "label": "",
                "properties": {},
                "directed": false,
                "color": "#15AFAC",
                "thickness_factor": 1
              },
              {
                "start": "NRT",
                "end": "SYD",
                "label": "",
                "properties": {},
                "directed": false,
                "color": "#15AFAC",
                "thickness_factor": 1
              },
              {
                "start": "DXB",
                "end": "SVO",
                "label": "",
                "properties": {},
                "directed": false,
                "color": "#15AFAC",
                "thickness_factor": 1
              },
              {
                "start": "DXB",
                "end": "DEL",
                "label": "",
                "properties": {},
                "directed": false,
                "color": "#15AFAC",
                "thickness_factor": 1
              },
              {
                "start": "DXB",
                "end": "DKR",
                "label": "",
                "properties": {},
                "directed": false,
                "color": "#15AFAC",
                "thickness_factor": 1
              },
              {
                "start": "DXB",
                "end": "JNB",
                "label": "",
                "properties": {},
                "directed": false,
                "color": "#15AFAC",
                "thickness_factor": 1
              },
              {
                "start": "JNB",
                "end": "LHR",
                "label": "",
                "properties": {},
                "directed": false,
                "color": "#15AFAC",
                "thickness_factor": 1
              },
              {
                "start": "JNB",
                "end": "DKR",
                "label": "",
                "properties": {},
                "directed": false,
                "color": "#15AFAC",
                "thickness_factor": 1
              },
              {
                "start": "SYD",
                "end": "DXB",
                "label": "",
                "properties": {},
                "directed": false,
                "color": "#15AFAC",
                "thickness_factor": 1
              },
              {
                "start": "NBO",
                "end": "JNB",
                "label": "",
                "properties": {},
                "directed": false,
                "color": "#15AFAC",
                "thickness_factor": 1
              },
              {
                "start": "NBO",
                "end": "DXB",
                "label": "",
                "properties": {},
                "directed": false,
                "color": "#15AFAC",
                "thickness_factor": 1
              },
              {
                "start": "ATL",
                "end": "JFK",
                "label": "",
                "properties": {},
                "directed": false,
                "color": "#15AFAC",
                "thickness_factor": 1
              },
              {
                "start": "LAX",
                "end": "ATL",
                "label": "",
                "properties": {},
                "directed": false,
                "color": "#15AFAC",
                "thickness_factor": 1
              },
              {
                "start": "ATL",
                "end": "LHR",
                "label": "",
                "properties": {},
                "directed": false,
                "color": "#15AFAC",
                "thickness_factor": 1
              },
              {
                "start": "ATL",
                "end": "LIM",
                "label": "",
                "properties": {},
                "directed": false,
                "color": "#15AFAC",
                "thickness_factor": 1
              },
              {
                "start": "SCL",
                "end": "LIM",
                "label": "",
                "properties": {},
                "directed": false,
                "color": "#15AFAC",
                "thickness_factor": 1
              },
              {
                "start": "EZE",
                "end": "SCL",
                "label": "",
                "properties": {},
                "directed": false,
                "color": "#15AFAC",
                "thickness_factor": 1
              },
              {
                "start": "SCL",
                "end": "GRU",
                "label": "",
                "properties": {},
                "directed": false,
                "color": "#15AFAC",
                "thickness_factor": 1
              },
              {
                "start": "GIG",
                "end": "EZE",
                "label": "",
                "properties": {},
                "directed": false,
                "color": "#15AFAC",
                "thickness_factor": 1
              },
              {
                "start": "GIG",
                "end": "GRU",
                "label": "",
                "properties": {},
                "directed": false,
                "color": "#15AFAC",
                "thickness_factor": 1
              },
              {
                "start": "BSB",
                "end": "GIG",
                "label": "",
                "properties": {},
                "directed": false,
                "color": "#15AFAC",
                "thickness_factor": 1
              },
              {
                "start": "SCL",
                "end": "BSB",
                "label": "",
                "properties": {},
                "directed": false,
                "color": "#15AFAC",
                "thickness_factor": 1
              },
              {
                "start": "LIM",
                "end": "BSB",
                "label": "",
                "properties": {},
                "directed": false,
                "color": "#15AFAC",
                "thickness_factor": 1
              },
              {
                "start": "BOG",
                "end": "BSB",
                "label": "",
                "properties": {},
                "directed": false,
                "color": "#15AFAC",
                "thickness_factor": 1
              },
              {
                "start": "CCS",
                "end": "BSB",
                "label": "",
                "properties": {},
                "directed": false,
                "color": "#15AFAC",
                "thickness_factor": 1
              },
              {
                "start": "BOG",
                "end": "GUA",
                "label": "",
                "properties": {},
                "directed": false,
                "color": "#15AFAC",
                "thickness_factor": 1
              },
              {
                "start": "CCS",
                "end": "MIA",
                "label": "",
                "properties": {},
                "directed": false,
                "color": "#15AFAC",
                "thickness_factor": 1
              },
              {
                "start": "GUA",
                "end": "MIA",
                "label": "",
                "properties": {},
                "directed": false,
                "color": "#15AFAC",
                "thickness_factor": 1
              },
              {
                "start": "GUA",
                "end": "MEX",
                "label": "",
                "properties": {},
                "directed": false,
                "color": "#15AFAC",
                "thickness_factor": 1
              },
              {
                "start": "MEX",
                "end": "LAX",
                "label": "",
                "properties": {},
                "directed": false,
                "color": "#15AFAC",
                "thickness_factor": 1
              },
              {
                "start": "MEX",
                "end": "LAX",
                "label": "",
                "properties": {},
                "directed": false,
                "color": "#15AFAC",
                "thickness_factor": 1
              },
              {
                "start": "LAX",
                "end": "SFO",
                "label": "",
                "properties": {},
                "directed": false,
                "color": "#15AFAC",
                "thickness_factor": 1
              },
              {
                "start": "SFO",
                "end": "YVR",
                "label": "",
                "properties": {},
                "directed": false,
                "color": "#15AFAC",
                "thickness_factor": 1
              },
              {
                "start": "LAX",
                "end": "LAS",
                "label": "",
                "properties": {},
                "directed": false,
                "color": "#15AFAC",
                "thickness_factor": 1
              },
              {
                "start": "LAX",
                "end": "DFW",
                "label": "",
                "properties": {},
                "directed": false,
                "color": "#15AFAC",
                "thickness_factor": 1
              },
              {
                "start": "LAX",
                "end": "ORD",
                "label": "",
                "properties": {},
                "directed": false,
                "color": "#15AFAC",
                "thickness_factor": 1
              },
              {
                "start": "SFO",
                "end": "LAS",
                "label": "",
                "properties": {},
                "directed": false,
                "color": "#15AFAC",
                "thickness_factor": 1
              },
              {
                "start": "DFW",
                "end": "ATL",
                "label": "",
                "properties": {},
                "directed": false,
                "color": "#15AFAC",
                "thickness_factor": 1
              },
              {
                "start": "ATL",
                "end": "YYZ",
                "label": "",
                "properties": {},
                "directed": false,
                "color": "#15AFAC",
                "thickness_factor": 1
              },
              {
                "start": "ORD",
                "end": "YYZ",
                "label": "",
                "properties": {},
                "directed": false,
                "color": "#15AFAC",
                "thickness_factor": 1
              },
              {
                "start": "YYZ",
                "end": "YUL",
                "label": "",
                "properties": {},
                "directed": false,
                "color": "#15AFAC",
                "thickness_factor": 1
              },
              {
                "start": "YYZ",
                "end": "JFK",
                "label": "",
                "properties": {},
                "directed": false,
                "color": "#15AFAC",
                "thickness_factor": 1
              },
              {
                "start": "YUL",
                "end": "JFK",
                "label": "",
                "properties": {},
                "directed": false,
                "color": "#15AFAC",
                "thickness_factor": 1
              },
              {
                "start": "JNB",
                "end": "CPT",
                "label": "",
                "properties": {},
                "directed": false,
                "color": "#15AFAC",
                "thickness_factor": 1
              },
              {
                "start": "LOS",
                "end": "DKR",
                "label": "",
                "properties": {},
                "directed": false,
                "color": "#15AFAC",
                "thickness_factor": 1
              },
              {
                "start": "NBO",
                "end": "LOS",
                "label": "",
                "properties": {},
                "directed": false,
                "color": "#15AFAC",
                "thickness_factor": 1
              },
              {
                "start": "DKR",
                "end": "CMN",
                "label": "",
                "properties": {},
                "directed": false,
                "color": "#15AFAC",
                "thickness_factor": 1
              },
              {
                "start": "DKR",
                "end": "CAI",
                "label": "",
                "properties": {},
                "directed": false,
                "color": "#15AFAC",
                "thickness_factor": 1
              },
              {
                "start": "NBO",
                "end": "CAI",
                "label": "",
                "properties": {},
                "directed": false,
                "color": "#15AFAC",
                "thickness_factor": 1
              },
              {
                "start": "DXB",
                "end": "CAI",
                "label": "",
                "properties": {},
                "directed": false,
                "color": "#15AFAC",
                "thickness_factor": 1
              },
              {
                "start": "IKA",
                "end": "DXB",
                "label": "",
                "properties": {},
                "directed": false,
                "color": "#15AFAC",
                "thickness_factor": 1
              },
              {
                "start": "IST",
                "end": "IKA",
                "label": "",
                "properties": {},
                "directed": false,
                "color": "#15AFAC",
                "thickness_factor": 1
              },
              {
                "start": "TLV",
                "end": "ATH",
                "label": "",
                "properties": {},
                "directed": false,
                "color": "#15AFAC",
                "thickness_factor": 1
              },
              {
                "start": "CAI",
                "end": "TLV",
                "label": "",
                "properties": {},
                "directed": false,
                "color": "#15AFAC",
                "thickness_factor": 1
              },
              {
                "start": "ATH",
                "end": "IST",
                "label": "",
                "properties": {},
                "directed": false,
                "color": "#15AFAC",
                "thickness_factor": 1
              },
              {
                "start": "FCO",
                "end": "ATH",
                "label": "",
                "properties": {},
                "directed": false,
                "color": "#15AFAC",
                "thickness_factor": 1
              },
              {
                "start": "LIS",
                "end": "LHR",
                "label": "",
                "properties": {},
                "directed": false,
                "color": "#15AFAC",
                "thickness_factor": 1
              },
              {
                "start": "LIS",
                "end": "MAD",
                "label": "",
                "properties": {},
                "directed": false,
                "color": "#15AFAC",
                "thickness_factor": 1
              },
              {
                "start": "MAD",
                "end": "BCN",
                "label": "",
                "properties": {},
                "directed": false,
                "color": "#15AFAC",
                "thickness_factor": 1
              },
              {
                "start": "CDG",
                "end": "LHR",
                "label": "",
                "properties": {},
                "directed": false,
                "color": "#15AFAC",
                "thickness_factor": 1
              },
              {
                "start": "DUB",
                "end": "LHR",
                "label": "",
                "properties": {},
                "directed": false,
                "color": "#15AFAC",
                "thickness_factor": 1
              },
              {
                "start": "EDI",
                "end": "LHR",
                "label": "",
                "properties": {},
                "directed": false,
                "color": "#15AFAC",
                "thickness_factor": 1
              },
              {
                "start": "CDG",
                "end": "BCN",
                "label": "",
                "properties": {},
                "directed": false,
                "color": "#15AFAC",
                "thickness_factor": 1
              },
              {
                "start": "BCN",
                "end": "FCO",
                "label": "",
                "properties": {},
                "directed": false,
                "color": "#15AFAC",
                "thickness_factor": 1
              },
              {
                "start": "VIE",
                "end": "IST",
                "label": "",
                "properties": {},
                "directed": false,
                "color": "#15AFAC",
                "thickness_factor": 1
              },
              {
                "start": "VIE",
                "end": "SVO",
                "label": "",
                "properties": {},
                "directed": false,
                "color": "#15AFAC",
                "thickness_factor": 1
              },
              {
                "start": "CMN",
                "end": "LIS",
                "label": "",
                "properties": {},
                "directed": false,
                "color": "#15AFAC",
                "thickness_factor": 1
              },
              {
                "start": "MAD",
                "end": "CMN",
                "label": "",
                "properties": {},
                "directed": false,
                "color": "#15AFAC",
                "thickness_factor": 1
              },
              {
                "start": "FRA",
                "end": "CPH",
                "label": "",
                "properties": {},
                "directed": false,
                "color": "#15AFAC",
                "thickness_factor": 1
              },
              {
                "start": "LHR",
                "end": "CPH",
                "label": "",
                "properties": {},
                "directed": false,
                "color": "#15AFAC",
                "thickness_factor": 1
              },
              {
                "start": "CPH",
                "end": "OSL",
                "label": "",
                "properties": {},
                "directed": false,
                "color": "#15AFAC",
                "thickness_factor": 1
              },
              {
                "start": "CPH",
                "end": "ARN",
                "label": "",
                "properties": {},
                "directed": false,
                "color": "#15AFAC",
                "thickness_factor": 1
              },
              {
                "start": "ARN",
                "end": "HEL",
                "label": "",
                "properties": {},
                "directed": false,
                "color": "#15AFAC",
                "thickness_factor": 1
              },
              {
                "start": "HEL",
                "end": "SVO",
                "label": "",
                "properties": {},
                "directed": false,
                "color": "#15AFAC",
                "thickness_factor": 1
              },
              {
                "start": "ULN",
                "end": "PVG",
                "label": "",
                "properties": {},
                "directed": false,
                "color": "#15AFAC",
                "thickness_factor": 1
              },
              {
                "start": "CTU",
                "end": "PVG",
                "label": "",
                "properties": {},
                "directed": false,
                "color": "#15AFAC",
                "thickness_factor": 1
              },
              {
                "start": "PVG",
                "end": "TPE",
                "label": "",
                "properties": {},
                "directed": false,
                "color": "#15AFAC",
                "thickness_factor": 1
              },
              {
                "start": "CTU",
                "end": "HKG",
                "label": "",
                "properties": {},
                "directed": false,
                "color": "#15AFAC",
                "thickness_factor": 1
              },
              {
                "start": "TPE",
                "end": "HKG",
                "label": "",
                "properties": {},
                "directed": false,
                "color": "#15AFAC",
                "thickness_factor": 1
              },
              {
                "start": "HKG",
                "end": "MNL",
                "label": "",
                "properties": {},
                "directed": false,
                "color": "#15AFAC",
                "thickness_factor": 1
              },
              {
                "start": "BKK",
                "end": "HKG",
                "label": "",
                "properties": {},
                "directed": false,
                "color": "#15AFAC",
                "thickness_factor": 1
              },
              {
                "start": "SIN",
                "end": "KUL",
                "label": "",
                "properties": {},
                "directed": false,
                "color": "#15AFAC",
                "thickness_factor": 1
              },
              {
                "start": "SIN",
                "end": "BKK",
                "label": "",
                "properties": {},
                "directed": false,
                "color": "#15AFAC",
                "thickness_factor": 1
              },
              {
                "start": "CGK",
                "end": "SIN",
                "label": "",
                "properties": {},
                "directed": false,
                "color": "#15AFAC",
                "thickness_factor": 1
              },
              {
                "start": "MNL",
                "end": "SIN",
                "label": "",
                "properties": {},
                "directed": false,
                "color": "#15AFAC",
                "thickness_factor": 1
              },
              {
                "start": "SIN",
                "end": "SYD",
                "label": "",
                "properties": {},
                "directed": false,
                "color": "#15AFAC",
                "thickness_factor": 1
              },
              {
                "start": "BNE",
                "end": "SYD",
                "label": "",
                "properties": {},
                "directed": false,
                "color": "#15AFAC",
                "thickness_factor": 1
              },
              {
                "start": "SYD",
                "end": "MEL",
                "label": "",
                "properties": {},
                "directed": false,
                "color": "#15AFAC",
                "thickness_factor": 1
              },
              {
                "start": "NAN",
                "end": "SYD",
                "label": "",
                "properties": {},
                "directed": false,
                "color": "#15AFAC",
                "thickness_factor": 1
              },
              {
                "start": "AKL",
                "end": "SYD",
                "label": "",
                "properties": {},
                "directed": false,
                "color": "#15AFAC",
                "thickness_factor": 1
              },
              {
                "start": "NAN",
                "end": "AKL",
                "label": "",
                "properties": {},
                "directed": false,
                "color": "#15AFAC",
                "thickness_factor": 1
              },
              {
                "start": "RKV",
                "end": "LHR",
                "label": "",
                "properties": {},
                "directed": false,
                "color": "#15AFAC",
                "thickness_factor": 1
              },
              {
                "start": "BCN",
                "end": "CDG",
                "label": "",
                "properties": {},
                "directed": false,
                "color": "#15AFAC",
                "thickness_factor": 1
              },
              {
                "start": "BCN",
                "end": "FRA",
                "label": "",
                "properties": {},
                "directed": false,
                "color": "#15AFAC",
                "thickness_factor": 1
              },
              {
                "start": "FCO",
                "end": "FRA",
                "label": "",
                "properties": {},
                "directed": false,
                "color": "#15AFAC",
                "thickness_factor": 1
              },
              {
                "start": "BOG",
                "end": "MEX",
                "label": "",
                "properties": {},
                "directed": false,
                "color": "#15AFAC",
                "thickness_factor": 1
              },
              {
                "start": "BOG",
                "end": "GRU",
                "label": "",
                "properties": {},
                "directed": false,
                "color": "#15AFAC",
                "thickness_factor": 1
              },
              {
                "start": "ATL",
                "end": "MIA",
                "label": "",
                "properties": {},
                "directed": false,
                "color": "#15AFAC",
                "thickness_factor": 1
              },
              {
                "start": "FRA",
                "end": "IST",
                "label": "",
                "properties": {},
                "directed": false,
                "color": "#15AFAC",
                "thickness_factor": 1
              },
              {
                "start": "IST",
                "end": "DEL",
                "label": "",
                "properties": {},
                "directed": false,
                "color": "#15AFAC",
                "thickness_factor": 1
              },
              {
                "start": "PVG",
                "end": "BKK",
                "label": "",
                "properties": {},
                "directed": false,
                "color": "#15AFAC",
                "thickness_factor": 1
              },
              {
                "start": "DEL",
                "end": "BKK",
                "label": "",
                "properties": {},
                "directed": false,
                "color": "#15AFAC",
                "thickness_factor": 1
              }
            ],
            "_graph_layout": {},
            "_highlight": [],
            "_license": {},
            "_model_module": "yfiles-jupyter-graphs",
            "_model_module_version": "^1.8.0",
            "_model_name": "GraphModel",
            "_neighborhood": {},
            "_nodes": [
              {
                "id": "LAX",
                "properties": {
                  "label": "Los Angeles",
                  "passengers": 65000000,
                  "country": "USA"
                },
                "coordinates": [
                  33.942536,
                  -118.408075
                ],
                "parentId": "group#USA",
                "color": "#15AFAC",
                "styles": {},
                "label": "Los Angeles",
                "scale_factor": 1,
                "type": "#15AFAC",
                "size": [
                  55,
                  55
                ],
                "position": [
                  0,
                  0
                ]
              },
              {
                "id": "GIG",
                "properties": {
                  "label": "Rio de Janeiro",
                  "passengers": 5000000,
                  "country": "Brazil"
                },
                "coordinates": [
                  -22.808903,
                  -43.243647
                ],
                "parentId": "group#Brazil",
                "color": "#15AFAC",
                "styles": {},
                "label": "Rio de Janeiro",
                "scale_factor": 1,
                "type": "#15AFAC",
                "size": [
                  55,
                  55
                ],
                "position": [
                  0,
                  0
                ]
              },
              {
                "id": "LIM",
                "properties": {
                  "label": "Lima",
                  "passengers": 18000000,
                  "country": "Peru"
                },
                "coordinates": [
                  -12.021889,
                  -77.114319
                ],
                "parentId": "group#Peru",
                "color": "#15AFAC",
                "styles": {},
                "label": "Lima",
                "scale_factor": 1,
                "type": "#15AFAC",
                "size": [
                  55,
                  55
                ],
                "position": [
                  0,
                  0
                ]
              },
              {
                "id": "LHR",
                "properties": {
                  "label": "London",
                  "passengers": 61000000,
                  "country": "UK"
                },
                "coordinates": [
                  51.4775,
                  -0.461389
                ],
                "parentId": "group#UK",
                "color": "#15AFAC",
                "styles": {},
                "label": "London",
                "scale_factor": 1,
                "type": "#15AFAC",
                "size": [
                  55,
                  55
                ],
                "position": [
                  0,
                  0
                ]
              },
              {
                "id": "FRA",
                "properties": {
                  "label": "Frankfurt",
                  "passengers": 48000000,
                  "country": "Germany"
                },
                "coordinates": [
                  50.033333,
                  8.570556
                ],
                "parentId": "group#Germany",
                "color": "#15AFAC",
                "styles": {},
                "label": "Frankfurt",
                "scale_factor": 1,
                "type": "#15AFAC",
                "size": [
                  55,
                  55
                ],
                "position": [
                  0,
                  0
                ]
              },
              {
                "id": "SVO",
                "properties": {
                  "label": "Moscow",
                  "passengers": 49000000,
                  "country": "Russia"
                },
                "coordinates": [
                  55.972642,
                  37.414589
                ],
                "parentId": "group#Russia",
                "color": "#15AFAC",
                "styles": {},
                "label": "Moscow",
                "scale_factor": 1,
                "type": "#15AFAC",
                "size": [
                  55,
                  55
                ],
                "position": [
                  0,
                  0
                ]
              },
              {
                "id": "DEL",
                "properties": {
                  "label": "New Delhi",
                  "passengers": 39000000,
                  "country": "India"
                },
                "coordinates": [
                  28.5665,
                  77.103089
                ],
                "parentId": "group#India",
                "color": "#15AFAC",
                "styles": {},
                "label": "New Delhi",
                "scale_factor": 1,
                "type": "#15AFAC",
                "size": [
                  55,
                  55
                ],
                "position": [
                  0,
                  0
                ]
              },
              {
                "id": "PVG",
                "properties": {
                  "label": "Shanghai",
                  "passengers": 32000000,
                  "country": "China"
                },
                "coordinates": [
                  31.143378,
                  121.805214
                ],
                "parentId": "group#China",
                "color": "#15AFAC",
                "styles": {},
                "label": "Shanghai",
                "scale_factor": 1,
                "type": "#15AFAC",
                "size": [
                  55,
                  55
                ],
                "position": [
                  0,
                  0
                ]
              },
              {
                "id": "HKG",
                "properties": {
                  "label": "Hongkong",
                  "passengers": 1000000,
                  "country": "China"
                },
                "coordinates": [
                  22.308919,
                  113.914603
                ],
                "parentId": "group#China",
                "color": "#15AFAC",
                "styles": {},
                "label": "Hongkong",
                "scale_factor": 1,
                "type": "#15AFAC",
                "size": [
                  55,
                  55
                ],
                "position": [
                  0,
                  0
                ]
              },
              {
                "id": "NRT",
                "properties": {
                  "label": "Tokio",
                  "passengers": 15000000,
                  "country": "Japan"
                },
                "coordinates": [
                  35.764722,
                  140.386389
                ],
                "parentId": "group#Japan",
                "color": "#15AFAC",
                "styles": {},
                "label": "Tokio",
                "scale_factor": 1,
                "type": "#15AFAC",
                "size": [
                  55,
                  55
                ],
                "position": [
                  0,
                  0
                ]
              },
              {
                "id": "DXB",
                "properties": {
                  "label": "Dubai",
                  "passengers": 29000000,
                  "country": "UAE"
                },
                "coordinates": [
                  25.252778,
                  55.364444
                ],
                "parentId": "group#UAE",
                "color": "#15AFAC",
                "styles": {},
                "label": "Dubai",
                "scale_factor": 1,
                "type": "#15AFAC",
                "size": [
                  55,
                  55
                ],
                "position": [
                  0,
                  0
                ]
              },
              {
                "id": "DKR",
                "properties": {
                  "label": "Dakar",
                  "passengers": 2000000,
                  "country": "Senegal"
                },
                "coordinates": [
                  14.670833,
                  -17.072778
                ],
                "parentId": "group#Senegal",
                "color": "#15AFAC",
                "styles": {},
                "label": "Dakar",
                "scale_factor": 1,
                "type": "#15AFAC",
                "size": [
                  55,
                  55
                ],
                "position": [
                  0,
                  0
                ]
              },
              {
                "id": "JNB",
                "properties": {
                  "label": "Johannesburg",
                  "passengers": 9000000,
                  "country": "South Africa"
                },
                "coordinates": [
                  -26.133694,
                  28.242317
                ],
                "parentId": "group#South Africa",
                "color": "#15AFAC",
                "styles": {},
                "label": "Johannesburg",
                "scale_factor": 1,
                "type": "#15AFAC",
                "size": [
                  55,
                  55
                ],
                "position": [
                  0,
                  0
                ]
              },
              {
                "id": "SYD",
                "properties": {
                  "label": "Sydney",
                  "passengers": 44000000,
                  "country": "Australia"
                },
                "coordinates": [
                  -33.946111,
                  151.177222
                ],
                "parentId": "group#Australia",
                "color": "#15AFAC",
                "styles": {},
                "label": "Sydney",
                "scale_factor": 1,
                "type": "#15AFAC",
                "size": [
                  55,
                  55
                ],
                "position": [
                  0,
                  0
                ]
              },
              {
                "id": "NBO",
                "properties": {
                  "label": "Nairobi",
                  "passengers": 900000,
                  "country": "Kenya"
                },
                "coordinates": [
                  -1.319167,
                  36.927778
                ],
                "parentId": "group#Kenya",
                "color": "#15AFAC",
                "styles": {},
                "label": "Nairobi",
                "scale_factor": 1,
                "type": "#15AFAC",
                "size": [
                  55,
                  55
                ],
                "position": [
                  0,
                  0
                ]
              },
              {
                "id": "ATL",
                "properties": {
                  "label": "Atlanta",
                  "passengers": 93000000,
                  "country": "USA"
                },
                "coordinates": [
                  33.639167,
                  -84.427778
                ],
                "parentId": "group#USA",
                "color": "#15AFAC",
                "styles": {},
                "label": "Atlanta",
                "scale_factor": 1,
                "type": "#15AFAC",
                "size": [
                  55,
                  55
                ],
                "position": [
                  0,
                  0
                ]
              },
              {
                "id": "JFK",
                "properties": {
                  "label": "New York City",
                  "passengers": 55000000,
                  "country": "USA"
                },
                "coordinates": [
                  40.63975,
                  -73.778925
                ],
                "parentId": "group#USA",
                "color": "#15AFAC",
                "styles": {},
                "label": "New York City",
                "scale_factor": 1,
                "type": "#15AFAC",
                "size": [
                  55,
                  55
                ],
                "position": [
                  0,
                  0
                ]
              },
              {
                "id": "CAI",
                "properties": {
                  "label": "Cairo",
                  "passengers": 14000000,
                  "country": "Egypt"
                },
                "coordinates": [
                  30.121944,
                  31.405556
                ],
                "parentId": "group#Egypt",
                "color": "#15AFAC",
                "styles": {},
                "label": "Cairo",
                "scale_factor": 1,
                "type": "#15AFAC",
                "size": [
                  55,
                  55
                ],
                "position": [
                  0,
                  0
                ]
              },
              {
                "id": "CMN",
                "properties": {
                  "label": "Casablanca",
                  "passengers": 7000000,
                  "country": "Morocco"
                },
                "coordinates": [
                  33.367467,
                  -7.589967
                ],
                "parentId": "group#Morocco",
                "color": "#15AFAC",
                "styles": {},
                "label": "Casablanca",
                "scale_factor": 1,
                "type": "#15AFAC",
                "size": [
                  55,
                  55
                ],
                "position": [
                  0,
                  0
                ]
              },
              {
                "id": "LOS",
                "properties": {
                  "label": "Lagos",
                  "passengers": 5000000,
                  "country": "Nigeria"
                },
                "coordinates": [
                  6.577222,
                  3.321111
                ],
                "parentId": "group#Nigeria",
                "color": "#15AFAC",
                "styles": {},
                "label": "Lagos",
                "scale_factor": 1,
                "type": "#15AFAC",
                "size": [
                  55,
                  55
                ],
                "position": [
                  0,
                  0
                ]
              },
              {
                "id": "CPT",
                "properties": {
                  "label": "Cape Town",
                  "passengers": 5000000,
                  "country": "South Africa"
                },
                "coordinates": [
                  -33.969444,
                  18.597222
                ],
                "parentId": "group#South Africa",
                "color": "#15AFAC",
                "styles": {},
                "label": "Cape Town",
                "scale_factor": 1,
                "type": "#15AFAC",
                "size": [
                  55,
                  55
                ],
                "position": [
                  0,
                  0
                ]
              },
              {
                "id": "CTU",
                "properties": {
                  "label": "Chengdu",
                  "passengers": 40000000,
                  "country": "China"
                },
                "coordinates": [
                  30.578333,
                  103.946944
                ],
                "parentId": "group#China",
                "color": "#15AFAC",
                "styles": {},
                "label": "Chengdu",
                "scale_factor": 1,
                "type": "#15AFAC",
                "size": [
                  55,
                  55
                ],
                "position": [
                  0,
                  0
                ]
              },
              {
                "id": "CGK",
                "properties": {
                  "label": "Jakarta",
                  "passengers": 54000000,
                  "country": "Indonesia"
                },
                "coordinates": [
                  -6.125567,
                  106.655897
                ],
                "parentId": "group#Indonesia",
                "color": "#15AFAC",
                "styles": {},
                "label": "Jakarta",
                "scale_factor": 1,
                "type": "#15AFAC",
                "size": [
                  55,
                  55
                ],
                "position": [
                  0,
                  0
                ]
              },
              {
                "id": "IKA",
                "properties": {
                  "label": "Teheran",
                  "passengers": 8000000,
                  "country": "Iran"
                },
                "coordinates": [
                  35.416111,
                  51.152222
                ],
                "parentId": "group#Iran",
                "color": "#15AFAC",
                "styles": {},
                "label": "Teheran",
                "scale_factor": 1,
                "type": "#15AFAC",
                "size": [
                  55,
                  55
                ],
                "position": [
                  0,
                  0
                ]
              },
              {
                "id": "TLV",
                "properties": {
                  "label": "Tel Aviv",
                  "passengers": 20000000,
                  "country": "Israel"
                },
                "coordinates": [
                  32.011389,
                  34.886667
                ],
                "parentId": "group#Israel",
                "color": "#15AFAC",
                "styles": {},
                "label": "Tel Aviv",
                "scale_factor": 1,
                "type": "#15AFAC",
                "size": [
                  55,
                  55
                ],
                "position": [
                  0,
                  0
                ]
              },
              {
                "id": "KUL",
                "properties": {
                  "label": "Kuala Lumpur",
                  "passengers": 25000000,
                  "country": "Malaysia"
                },
                "coordinates": [
                  2.745578,
                  101.709917
                ],
                "parentId": "group#Malaysia",
                "color": "#15AFAC",
                "styles": {},
                "label": "Kuala Lumpur",
                "scale_factor": 1,
                "type": "#15AFAC",
                "size": [
                  55,
                  55
                ],
                "position": [
                  0,
                  0
                ]
              },
              {
                "id": "MNL",
                "properties": {
                  "label": "Manila",
                  "passengers": 8000000,
                  "country": "Philippines"
                },
                "coordinates": [
                  14.508647,
                  121.019581
                ],
                "parentId": "group#Philippines",
                "color": "#15AFAC",
                "styles": {},
                "label": "Manila",
                "scale_factor": 1,
                "type": "#15AFAC",
                "size": [
                  55,
                  55
                ],
                "position": [
                  0,
                  0
                ]
              },
              {
                "id": "SIN",
                "properties": {
                  "label": "Singapur",
                  "passengers": 32000000,
                  "country": "Singapore"
                },
                "coordinates": [
                  1.350189,
                  103.994433
                ],
                "parentId": "group#Singapore",
                "color": "#15AFAC",
                "styles": {},
                "label": "Singapur",
                "scale_factor": 1,
                "type": "#15AFAC",
                "size": [
                  55,
                  55
                ],
                "position": [
                  0,
                  0
                ]
              },
              {
                "id": "TPE",
                "properties": {
                  "label": "Taipeh",
                  "passengers": 800000,
                  "country": "Taiwan"
                },
                "coordinates": [
                  25.077732,
                  121.232822
                ],
                "parentId": "group#Taiwan",
                "color": "#15AFAC",
                "styles": {},
                "label": "Taipeh",
                "scale_factor": 1,
                "type": "#15AFAC",
                "size": [
                  55,
                  55
                ],
                "position": [
                  0,
                  0
                ]
              },
              {
                "id": "BKK",
                "properties": {
                  "label": "Bangkok",
                  "passengers": 65000000,
                  "country": "Thailand"
                },
                "coordinates": [
                  13.681108,
                  100.747283
                ],
                "parentId": "group#Thailand",
                "color": "#15AFAC",
                "styles": {},
                "label": "Bangkok",
                "scale_factor": 1,
                "type": "#15AFAC",
                "size": [
                  55,
                  55
                ],
                "position": [
                  0,
                  0
                ]
              },
              {
                "id": "IST",
                "properties": {
                  "label": "Istanbul",
                  "passengers": 64000000,
                  "country": "Turkey"
                },
                "coordinates": [
                  40.976922,
                  28.814606
                ],
                "parentId": "group#Turkey",
                "color": "#15AFAC",
                "styles": {},
                "label": "Istanbul",
                "scale_factor": 1,
                "type": "#15AFAC",
                "size": [
                  55,
                  55
                ],
                "position": [
                  0,
                  0
                ]
              },
              {
                "id": "ULN",
                "properties": {
                  "label": "Ulaanbaatar",
                  "passengers": 1000000,
                  "country": "Mongolia"
                },
                "coordinates": [
                  47.843056,
                  106.766639
                ],
                "parentId": "group#Mongolia",
                "color": "#15AFAC",
                "styles": {},
                "label": "Ulaanbaatar",
                "scale_factor": 1,
                "type": "#15AFAC",
                "size": [
                  55,
                  55
                ],
                "position": [
                  0,
                  0
                ]
              },
              {
                "id": "MEL",
                "properties": {
                  "label": "Melbourne",
                  "passengers": 12000000,
                  "country": "Australia"
                },
                "coordinates": [
                  -37.673333,
                  144.843333
                ],
                "parentId": "group#Australia",
                "color": "#15AFAC",
                "styles": {},
                "label": "Melbourne",
                "scale_factor": 1,
                "type": "#15AFAC",
                "size": [
                  55,
                  55
                ],
                "position": [
                  0,
                  0
                ]
              },
              {
                "id": "BNE",
                "properties": {
                  "label": "Brisbane",
                  "passengers": 23000000,
                  "country": "Australia"
                },
                "coordinates": [
                  -27.383333,
                  153.118056
                ],
                "parentId": "group#Australia",
                "color": "#15AFAC",
                "styles": {},
                "label": "Brisbane",
                "scale_factor": 1,
                "type": "#15AFAC",
                "size": [
                  55,
                  55
                ],
                "position": [
                  0,
                  0
                ]
              },
              {
                "id": "NAN",
                "properties": {
                  "label": "Nadi",
                  "passengers": 2000000,
                  "country": "Fiji"
                },
                "coordinates": [
                  -17.755392,
                  177.443378
                ],
                "parentId": "group#Fiji",
                "color": "#15AFAC",
                "styles": {},
                "label": "Nadi",
                "scale_factor": 1,
                "type": "#15AFAC",
                "size": [
                  55,
                  55
                ],
                "position": [
                  0,
                  0
                ]
              },
              {
                "id": "AKL",
                "properties": {
                  "label": "Auckland",
                  "passengers": 21000000,
                  "country": "New Zealand"
                },
                "coordinates": [
                  -37.008056,
                  174.791667
                ],
                "parentId": "group#New Zealand",
                "color": "#15AFAC",
                "styles": {},
                "label": "Auckland",
                "scale_factor": 1,
                "type": "#15AFAC",
                "size": [
                  55,
                  55
                ],
                "position": [
                  0,
                  0
                ]
              },
              {
                "id": "CDG",
                "properties": {
                  "label": "Paris",
                  "passengers": 57000000,
                  "country": "France"
                },
                "coordinates": [
                  49.009722,
                  2.547778
                ],
                "parentId": "group#France",
                "color": "#15AFAC",
                "styles": {},
                "label": "Paris",
                "scale_factor": 1,
                "type": "#15AFAC",
                "size": [
                  55,
                  55
                ],
                "position": [
                  0,
                  0
                ]
              },
              {
                "id": "MAD",
                "properties": {
                  "label": "Madrid",
                  "passengers": 50000000,
                  "country": "Spain"
                },
                "coordinates": [
                  40.4675,
                  -3.551944
                ],
                "parentId": "group#Spain",
                "color": "#15AFAC",
                "styles": {},
                "label": "Madrid",
                "scale_factor": 1,
                "type": "#15AFAC",
                "size": [
                  55,
                  55
                ],
                "position": [
                  0,
                  0
                ]
              },
              {
                "id": "BCN",
                "properties": {
                  "label": "Barcelona",
                  "passengers": 41000000,
                  "country": "Spain"
                },
                "coordinates": [
                  41.297078,
                  2.078464
                ],
                "parentId": "group#Spain",
                "color": "#15AFAC",
                "styles": {},
                "label": "Barcelona",
                "scale_factor": 1,
                "type": "#15AFAC",
                "size": [
                  55,
                  55
                ],
                "position": [
                  0,
                  0
                ]
              },
              {
                "id": "FCO",
                "properties": {
                  "label": "Rome",
                  "passengers": 29000000,
                  "country": "Italy"
                },
                "coordinates": [
                  41.804444,
                  12.250833
                ],
                "parentId": "group#Italy",
                "color": "#15AFAC",
                "styles": {},
                "label": "Rome",
                "scale_factor": 1,
                "type": "#15AFAC",
                "size": [
                  55,
                  55
                ],
                "position": [
                  0,
                  0
                ]
              },
              {
                "id": "CPH",
                "properties": {
                  "label": "Copenhagen",
                  "passengers": 30000000,
                  "country": "Denmark"
                },
                "coordinates": [
                  55.617917,
                  12.655972
                ],
                "parentId": "group#Denmark",
                "color": "#15AFAC",
                "styles": {},
                "label": "Copenhagen",
                "scale_factor": 1,
                "type": "#15AFAC",
                "size": [
                  55,
                  55
                ],
                "position": [
                  0,
                  0
                ]
              },
              {
                "id": "HEL",
                "properties": {
                  "label": "Helsinki",
                  "passengers": 5000000,
                  "country": "Finland"
                },
                "coordinates": [
                  60.317222,
                  24.963333
                ],
                "parentId": "group#Finland",
                "color": "#15AFAC",
                "styles": {},
                "label": "Helsinki",
                "scale_factor": 1,
                "type": "#15AFAC",
                "size": [
                  55,
                  55
                ],
                "position": [
                  0,
                  0
                ]
              },
              {
                "id": "ATH",
                "properties": {
                  "label": "Athens",
                  "passengers": 22000000,
                  "country": "Greece"
                },
                "coordinates": [
                  37.936358,
                  23.944467
                ],
                "parentId": "group#Greece",
                "color": "#15AFAC",
                "styles": {},
                "label": "Athens",
                "scale_factor": 1,
                "type": "#15AFAC",
                "size": [
                  55,
                  55
                ],
                "position": [
                  0,
                  0
                ]
              },
              {
                "id": "DUB",
                "properties": {
                  "label": "Dublin",
                  "passengers": 32000000,
                  "country": "Ireland"
                },
                "coordinates": [
                  53.421333,
                  -6.270075
                ],
                "parentId": "group#Ireland",
                "color": "#15AFAC",
                "styles": {},
                "label": "Dublin",
                "scale_factor": 1,
                "type": "#15AFAC",
                "size": [
                  55,
                  55
                ],
                "position": [
                  0,
                  0
                ]
              },
              {
                "id": "RKV",
                "properties": {
                  "label": "Reykjavik",
                  "passengers": 400000,
                  "country": "Iceland"
                },
                "coordinates": [
                  64.13,
                  -21.940556
                ],
                "parentId": "group#Iceland",
                "color": "#15AFAC",
                "styles": {},
                "label": "Reykjavik",
                "scale_factor": 1,
                "type": "#15AFAC",
                "size": [
                  55,
                  55
                ],
                "position": [
                  0,
                  0
                ]
              },
              {
                "id": "OSL",
                "properties": {
                  "label": "Oslo",
                  "passengers": 9000000,
                  "country": "Norway"
                },
                "coordinates": [
                  60.193917,
                  11.100361
                ],
                "parentId": "group#Norway",
                "color": "#15AFAC",
                "styles": {},
                "label": "Oslo",
                "scale_factor": 1,
                "type": "#15AFAC",
                "size": [
                  55,
                  55
                ],
                "position": [
                  0,
                  0
                ]
              },
              {
                "id": "VIE",
                "properties": {
                  "label": "Vienna",
                  "passengers": 10000000,
                  "country": "Austria"
                },
                "coordinates": [
                  48.110833,
                  16.570833
                ],
                "parentId": "group#Austria",
                "color": "#15AFAC",
                "styles": {},
                "label": "Vienna",
                "scale_factor": 1,
                "type": "#15AFAC",
                "size": [
                  55,
                  55
                ],
                "position": [
                  0,
                  0
                ]
              },
              {
                "id": "LIS",
                "properties": {
                  "label": "Lisbon",
                  "passengers": 28000000,
                  "country": "Portugal"
                },
                "coordinates": [
                  38.774167,
                  -9.134167
                ],
                "parentId": "group#Portugal",
                "color": "#15AFAC",
                "styles": {},
                "label": "Lisbon",
                "scale_factor": 1,
                "type": "#15AFAC",
                "size": [
                  55,
                  55
                ],
                "position": [
                  0,
                  0
                ]
              },
              {
                "id": "ARN",
                "properties": {
                  "label": "Stockholm",
                  "passengers": 7000000,
                  "country": "Sweden"
                },
                "coordinates": [
                  59.651944,
                  17.918611
                ],
                "parentId": "group#Sweden",
                "color": "#15AFAC",
                "styles": {},
                "label": "Stockholm",
                "scale_factor": 1,
                "type": "#15AFAC",
                "size": [
                  55,
                  55
                ],
                "position": [
                  0,
                  0
                ]
              },
              {
                "id": "EDI",
                "properties": {
                  "label": "Edinburgh",
                  "passengers": 14000000,
                  "country": "UK"
                },
                "coordinates": [
                  55.95,
                  -3.3725
                ],
                "parentId": "group#UK",
                "color": "#15AFAC",
                "styles": {},
                "label": "Edinburgh",
                "scale_factor": 1,
                "type": "#15AFAC",
                "size": [
                  55,
                  55
                ],
                "position": [
                  0,
                  0
                ]
              },
              {
                "id": "ORD",
                "properties": {
                  "label": "Chicago",
                  "passengers": 54000000,
                  "country": "USA"
                },
                "coordinates": [
                  41.978603,
                  -87.904842
                ],
                "parentId": "group#USA",
                "color": "#15AFAC",
                "styles": {},
                "label": "Chicago",
                "scale_factor": 1,
                "type": "#15AFAC",
                "size": [
                  55,
                  55
                ],
                "position": [
                  0,
                  0
                ]
              },
              {
                "id": "DFW",
                "properties": {
                  "label": "Dallas",
                  "passengers": 73000000,
                  "country": "USA"
                },
                "coordinates": [
                  32.896828,
                  -97.037997
                ],
                "parentId": "group#USA",
                "color": "#15AFAC",
                "styles": {},
                "label": "Dallas",
                "scale_factor": 1,
                "type": "#15AFAC",
                "size": [
                  55,
                  55
                ],
                "position": [
                  0,
                  0
                ]
              },
              {
                "id": "SFO",
                "properties": {
                  "label": "San Francisco",
                  "passengers": 42000000,
                  "country": "USA"
                },
                "coordinates": [
                  37.618972,
                  -122.374889
                ],
                "parentId": "group#USA",
                "color": "#15AFAC",
                "styles": {},
                "label": "San Francisco",
                "scale_factor": 1,
                "type": "#15AFAC",
                "size": [
                  55,
                  55
                ],
                "position": [
                  0,
                  0
                ]
              },
              {
                "id": "LAS",
                "properties": {
                  "label": "Las Vegas",
                  "passengers": 52000000,
                  "country": "USA"
                },
                "coordinates": [
                  36.080056,
                  -115.15225
                ],
                "parentId": "group#USA",
                "color": "#15AFAC",
                "styles": {},
                "label": "Las Vegas",
                "scale_factor": 1,
                "type": "#15AFAC",
                "size": [
                  55,
                  55
                ],
                "position": [
                  0,
                  0
                ]
              },
              {
                "id": "MIA",
                "properties": {
                  "label": "Miami",
                  "passengers": 50000000,
                  "country": "USA"
                },
                "coordinates": [
                  25.79325,
                  -80.290556
                ],
                "parentId": "group#USA",
                "color": "#15AFAC",
                "styles": {},
                "label": "Miami",
                "scale_factor": 1,
                "type": "#15AFAC",
                "size": [
                  55,
                  55
                ],
                "position": [
                  0,
                  0
                ]
              },
              {
                "id": "YYZ",
                "properties": {
                  "label": "Toronto",
                  "passengers": 12000000,
                  "country": "Canada"
                },
                "coordinates": [
                  43.677222,
                  -79.630556
                ],
                "parentId": "group#Canada",
                "color": "#15AFAC",
                "styles": {},
                "label": "Toronto",
                "scale_factor": 1,
                "type": "#15AFAC",
                "size": [
                  55,
                  55
                ],
                "position": [
                  0,
                  0
                ]
              },
              {
                "id": "YVR",
                "properties": {
                  "label": "Vancouver",
                  "passengers": 19000000,
                  "country": "Canada"
                },
                "coordinates": [
                  49.193889,
                  -123.184444
                ],
                "parentId": "group#Canada",
                "color": "#15AFAC",
                "styles": {},
                "label": "Vancouver",
                "scale_factor": 1,
                "type": "#15AFAC",
                "size": [
                  55,
                  55
                ],
                "position": [
                  0,
                  0
                ]
              },
              {
                "id": "YUL",
                "properties": {
                  "label": "Montreal",
                  "passengers": 15000000,
                  "country": "Canada"
                },
                "coordinates": [
                  45.47175,
                  -73.736569
                ],
                "parentId": "group#Canada",
                "color": "#15AFAC",
                "styles": {},
                "label": "Montreal",
                "scale_factor": 1,
                "type": "#15AFAC",
                "size": [
                  55,
                  55
                ],
                "position": [
                  0,
                  0
                ]
              },
              {
                "id": "MEX",
                "properties": {
                  "label": "Mexico-City",
                  "passengers": 46000000,
                  "country": "Mexico"
                },
                "coordinates": [
                  19.436303,
                  -99.072097
                ],
                "parentId": "group#Mexico",
                "color": "#15AFAC",
                "styles": {},
                "label": "Mexico-City",
                "scale_factor": 1,
                "type": "#15AFAC",
                "size": [
                  55,
                  55
                ],
                "position": [
                  0,
                  0
                ]
              },
              {
                "id": "GUA",
                "properties": {
                  "label": "Guatemala-City",
                  "passengers": 2000000,
                  "country": "Guatemala"
                },
                "coordinates": [
                  14.583272,
                  -90.527475
                ],
                "parentId": "group#Guatemala",
                "color": "#15AFAC",
                "styles": {},
                "label": "Guatemala-City",
                "scale_factor": 1,
                "type": "#15AFAC",
                "size": [
                  55,
                  55
                ],
                "position": [
                  0,
                  0
                ]
              },
              {
                "id": "EZE",
                "properties": {
                  "label": "Buenos Aires",
                  "passengers": 5000000,
                  "country": "Argentina"
                },
                "coordinates": [
                  -34.822222,
                  -58.535833
                ],
                "parentId": "group#Argentina",
                "color": "#15AFAC",
                "styles": {},
                "label": "Buenos Aires",
                "scale_factor": 1,
                "type": "#15AFAC",
                "size": [
                  55,
                  55
                ],
                "position": [
                  0,
                  0
                ]
              },
              {
                "id": "GRU",
                "properties": {
                  "label": "Sao Paulo",
                  "passengers": 34000000,
                  "country": "Brazil"
                },
                "coordinates": [
                  -23.432075,
                  -46.469511
                ],
                "parentId": "group#Brazil",
                "color": "#15AFAC",
                "styles": {},
                "label": "Sao Paulo",
                "scale_factor": 1,
                "type": "#15AFAC",
                "size": [
                  55,
                  55
                ],
                "position": [
                  0,
                  0
                ]
              },
              {
                "id": "SCL",
                "properties": {
                  "label": "Santiago de Chile",
                  "passengers": 20000000,
                  "country": "Chile"
                },
                "coordinates": [
                  -33.392975,
                  -70.785803
                ],
                "parentId": "group#Chile",
                "color": "#15AFAC",
                "styles": {},
                "label": "Santiago de Chile",
                "scale_factor": 1,
                "type": "#15AFAC",
                "size": [
                  55,
                  55
                ],
                "position": [
                  0,
                  0
                ]
              },
              {
                "id": "BSB",
                "properties": {
                  "label": "Brasilia",
                  "passengers": 13000000,
                  "country": "Brazil"
                },
                "coordinates": [
                  -15.871111,
                  -47.918611
                ],
                "parentId": "group#Brazil",
                "color": "#15AFAC",
                "styles": {},
                "label": "Brasilia",
                "scale_factor": 1,
                "type": "#15AFAC",
                "size": [
                  55,
                  55
                ],
                "position": [
                  0,
                  0
                ]
              },
              {
                "id": "BOG",
                "properties": {
                  "label": "Bogota",
                  "passengers": 36000000,
                  "country": "Colombia"
                },
                "coordinates": [
                  4.701594,
                  -74.146947
                ],
                "parentId": "group#Colombia",
                "color": "#15AFAC",
                "styles": {},
                "label": "Bogota",
                "scale_factor": 1,
                "type": "#15AFAC",
                "size": [
                  55,
                  55
                ],
                "position": [
                  0,
                  0
                ]
              },
              {
                "id": "CCS",
                "properties": {
                  "label": "Caracas",
                  "passengers": 8000000,
                  "country": "Venezuela"
                },
                "coordinates": [
                  10.601194,
                  -66.991222
                ],
                "parentId": "group#Venezuela",
                "color": "#15AFAC",
                "styles": {},
                "label": "Caracas",
                "scale_factor": 1,
                "type": "#15AFAC",
                "size": [
                  55,
                  55
                ],
                "position": [
                  0,
                  0
                ]
              },
              {
                "id": "group#USA",
                "properties": {
                  "label": "USA"
                },
                "color": "#15AFAC",
                "styles": {},
                "label": "USA",
                "scale_factor": 1,
                "type": "#15AFAC",
                "size": [
                  55,
                  55
                ],
                "position": [
                  0,
                  0
                ]
              },
              {
                "id": "group#Brazil",
                "properties": {
                  "label": "Brazil"
                },
                "color": "#15AFAC",
                "styles": {},
                "label": "Brazil",
                "scale_factor": 1,
                "type": "#15AFAC",
                "size": [
                  55,
                  55
                ],
                "position": [
                  0,
                  0
                ]
              },
              {
                "id": "group#Peru",
                "properties": {
                  "label": "Peru"
                },
                "color": "#15AFAC",
                "styles": {},
                "label": "Peru",
                "scale_factor": 1,
                "type": "#15AFAC",
                "size": [
                  55,
                  55
                ],
                "position": [
                  0,
                  0
                ]
              },
              {
                "id": "group#UK",
                "properties": {
                  "label": "UK"
                },
                "color": "#15AFAC",
                "styles": {},
                "label": "UK",
                "scale_factor": 1,
                "type": "#15AFAC",
                "size": [
                  55,
                  55
                ],
                "position": [
                  0,
                  0
                ]
              },
              {
                "id": "group#Germany",
                "properties": {
                  "label": "Germany"
                },
                "color": "#15AFAC",
                "styles": {},
                "label": "Germany",
                "scale_factor": 1,
                "type": "#15AFAC",
                "size": [
                  55,
                  55
                ],
                "position": [
                  0,
                  0
                ]
              },
              {
                "id": "group#Russia",
                "properties": {
                  "label": "Russia"
                },
                "color": "#15AFAC",
                "styles": {},
                "label": "Russia",
                "scale_factor": 1,
                "type": "#15AFAC",
                "size": [
                  55,
                  55
                ],
                "position": [
                  0,
                  0
                ]
              },
              {
                "id": "group#India",
                "properties": {
                  "label": "India"
                },
                "color": "#15AFAC",
                "styles": {},
                "label": "India",
                "scale_factor": 1,
                "type": "#15AFAC",
                "size": [
                  55,
                  55
                ],
                "position": [
                  0,
                  0
                ]
              },
              {
                "id": "group#China",
                "properties": {
                  "label": "China"
                },
                "color": "#15AFAC",
                "styles": {},
                "label": "China",
                "scale_factor": 1,
                "type": "#15AFAC",
                "size": [
                  55,
                  55
                ],
                "position": [
                  0,
                  0
                ]
              },
              {
                "id": "group#China",
                "properties": {
                  "label": "China"
                },
                "color": "#15AFAC",
                "styles": {},
                "label": "China",
                "scale_factor": 1,
                "type": "#15AFAC",
                "size": [
                  55,
                  55
                ],
                "position": [
                  0,
                  0
                ]
              },
              {
                "id": "group#Japan",
                "properties": {
                  "label": "Japan"
                },
                "color": "#15AFAC",
                "styles": {},
                "label": "Japan",
                "scale_factor": 1,
                "type": "#15AFAC",
                "size": [
                  55,
                  55
                ],
                "position": [
                  0,
                  0
                ]
              },
              {
                "id": "group#UAE",
                "properties": {
                  "label": "UAE"
                },
                "color": "#15AFAC",
                "styles": {},
                "label": "UAE",
                "scale_factor": 1,
                "type": "#15AFAC",
                "size": [
                  55,
                  55
                ],
                "position": [
                  0,
                  0
                ]
              },
              {
                "id": "group#Senegal",
                "properties": {
                  "label": "Senegal"
                },
                "color": "#15AFAC",
                "styles": {},
                "label": "Senegal",
                "scale_factor": 1,
                "type": "#15AFAC",
                "size": [
                  55,
                  55
                ],
                "position": [
                  0,
                  0
                ]
              },
              {
                "id": "group#South Africa",
                "properties": {
                  "label": "South Africa"
                },
                "color": "#15AFAC",
                "styles": {},
                "label": "South Africa",
                "scale_factor": 1,
                "type": "#15AFAC",
                "size": [
                  55,
                  55
                ],
                "position": [
                  0,
                  0
                ]
              },
              {
                "id": "group#Australia",
                "properties": {
                  "label": "Australia"
                },
                "color": "#15AFAC",
                "styles": {},
                "label": "Australia",
                "scale_factor": 1,
                "type": "#15AFAC",
                "size": [
                  55,
                  55
                ],
                "position": [
                  0,
                  0
                ]
              },
              {
                "id": "group#Kenya",
                "properties": {
                  "label": "Kenya"
                },
                "color": "#15AFAC",
                "styles": {},
                "label": "Kenya",
                "scale_factor": 1,
                "type": "#15AFAC",
                "size": [
                  55,
                  55
                ],
                "position": [
                  0,
                  0
                ]
              },
              {
                "id": "group#USA",
                "properties": {
                  "label": "USA"
                },
                "color": "#15AFAC",
                "styles": {},
                "label": "USA",
                "scale_factor": 1,
                "type": "#15AFAC",
                "size": [
                  55,
                  55
                ],
                "position": [
                  0,
                  0
                ]
              },
              {
                "id": "group#USA",
                "properties": {
                  "label": "USA"
                },
                "color": "#15AFAC",
                "styles": {},
                "label": "USA",
                "scale_factor": 1,
                "type": "#15AFAC",
                "size": [
                  55,
                  55
                ],
                "position": [
                  0,
                  0
                ]
              },
              {
                "id": "group#Egypt",
                "properties": {
                  "label": "Egypt"
                },
                "color": "#15AFAC",
                "styles": {},
                "label": "Egypt",
                "scale_factor": 1,
                "type": "#15AFAC",
                "size": [
                  55,
                  55
                ],
                "position": [
                  0,
                  0
                ]
              },
              {
                "id": "group#Morocco",
                "properties": {
                  "label": "Morocco"
                },
                "color": "#15AFAC",
                "styles": {},
                "label": "Morocco",
                "scale_factor": 1,
                "type": "#15AFAC",
                "size": [
                  55,
                  55
                ],
                "position": [
                  0,
                  0
                ]
              },
              {
                "id": "group#Nigeria",
                "properties": {
                  "label": "Nigeria"
                },
                "color": "#15AFAC",
                "styles": {},
                "label": "Nigeria",
                "scale_factor": 1,
                "type": "#15AFAC",
                "size": [
                  55,
                  55
                ],
                "position": [
                  0,
                  0
                ]
              },
              {
                "id": "group#South Africa",
                "properties": {
                  "label": "South Africa"
                },
                "color": "#15AFAC",
                "styles": {},
                "label": "South Africa",
                "scale_factor": 1,
                "type": "#15AFAC",
                "size": [
                  55,
                  55
                ],
                "position": [
                  0,
                  0
                ]
              },
              {
                "id": "group#China",
                "properties": {
                  "label": "China"
                },
                "color": "#15AFAC",
                "styles": {},
                "label": "China",
                "scale_factor": 1,
                "type": "#15AFAC",
                "size": [
                  55,
                  55
                ],
                "position": [
                  0,
                  0
                ]
              },
              {
                "id": "group#Indonesia",
                "properties": {
                  "label": "Indonesia"
                },
                "color": "#15AFAC",
                "styles": {},
                "label": "Indonesia",
                "scale_factor": 1,
                "type": "#15AFAC",
                "size": [
                  55,
                  55
                ],
                "position": [
                  0,
                  0
                ]
              },
              {
                "id": "group#Iran",
                "properties": {
                  "label": "Iran"
                },
                "color": "#15AFAC",
                "styles": {},
                "label": "Iran",
                "scale_factor": 1,
                "type": "#15AFAC",
                "size": [
                  55,
                  55
                ],
                "position": [
                  0,
                  0
                ]
              },
              {
                "id": "group#Israel",
                "properties": {
                  "label": "Israel"
                },
                "color": "#15AFAC",
                "styles": {},
                "label": "Israel",
                "scale_factor": 1,
                "type": "#15AFAC",
                "size": [
                  55,
                  55
                ],
                "position": [
                  0,
                  0
                ]
              },
              {
                "id": "group#Malaysia",
                "properties": {
                  "label": "Malaysia"
                },
                "color": "#15AFAC",
                "styles": {},
                "label": "Malaysia",
                "scale_factor": 1,
                "type": "#15AFAC",
                "size": [
                  55,
                  55
                ],
                "position": [
                  0,
                  0
                ]
              },
              {
                "id": "group#Philippines",
                "properties": {
                  "label": "Philippines"
                },
                "color": "#15AFAC",
                "styles": {},
                "label": "Philippines",
                "scale_factor": 1,
                "type": "#15AFAC",
                "size": [
                  55,
                  55
                ],
                "position": [
                  0,
                  0
                ]
              },
              {
                "id": "group#Singapore",
                "properties": {
                  "label": "Singapore"
                },
                "color": "#15AFAC",
                "styles": {},
                "label": "Singapore",
                "scale_factor": 1,
                "type": "#15AFAC",
                "size": [
                  55,
                  55
                ],
                "position": [
                  0,
                  0
                ]
              },
              {
                "id": "group#Taiwan",
                "properties": {
                  "label": "Taiwan"
                },
                "color": "#15AFAC",
                "styles": {},
                "label": "Taiwan",
                "scale_factor": 1,
                "type": "#15AFAC",
                "size": [
                  55,
                  55
                ],
                "position": [
                  0,
                  0
                ]
              },
              {
                "id": "group#Thailand",
                "properties": {
                  "label": "Thailand"
                },
                "color": "#15AFAC",
                "styles": {},
                "label": "Thailand",
                "scale_factor": 1,
                "type": "#15AFAC",
                "size": [
                  55,
                  55
                ],
                "position": [
                  0,
                  0
                ]
              },
              {
                "id": "group#Turkey",
                "properties": {
                  "label": "Turkey"
                },
                "color": "#15AFAC",
                "styles": {},
                "label": "Turkey",
                "scale_factor": 1,
                "type": "#15AFAC",
                "size": [
                  55,
                  55
                ],
                "position": [
                  0,
                  0
                ]
              },
              {
                "id": "group#Mongolia",
                "properties": {
                  "label": "Mongolia"
                },
                "color": "#15AFAC",
                "styles": {},
                "label": "Mongolia",
                "scale_factor": 1,
                "type": "#15AFAC",
                "size": [
                  55,
                  55
                ],
                "position": [
                  0,
                  0
                ]
              },
              {
                "id": "group#Australia",
                "properties": {
                  "label": "Australia"
                },
                "color": "#15AFAC",
                "styles": {},
                "label": "Australia",
                "scale_factor": 1,
                "type": "#15AFAC",
                "size": [
                  55,
                  55
                ],
                "position": [
                  0,
                  0
                ]
              },
              {
                "id": "group#Australia",
                "properties": {
                  "label": "Australia"
                },
                "color": "#15AFAC",
                "styles": {},
                "label": "Australia",
                "scale_factor": 1,
                "type": "#15AFAC",
                "size": [
                  55,
                  55
                ],
                "position": [
                  0,
                  0
                ]
              },
              {
                "id": "group#Fiji",
                "properties": {
                  "label": "Fiji"
                },
                "color": "#15AFAC",
                "styles": {},
                "label": "Fiji",
                "scale_factor": 1,
                "type": "#15AFAC",
                "size": [
                  55,
                  55
                ],
                "position": [
                  0,
                  0
                ]
              },
              {
                "id": "group#New Zealand",
                "properties": {
                  "label": "New Zealand"
                },
                "color": "#15AFAC",
                "styles": {},
                "label": "New Zealand",
                "scale_factor": 1,
                "type": "#15AFAC",
                "size": [
                  55,
                  55
                ],
                "position": [
                  0,
                  0
                ]
              },
              {
                "id": "group#France",
                "properties": {
                  "label": "France"
                },
                "color": "#15AFAC",
                "styles": {},
                "label": "France",
                "scale_factor": 1,
                "type": "#15AFAC",
                "size": [
                  55,
                  55
                ],
                "position": [
                  0,
                  0
                ]
              },
              {
                "id": "group#Spain",
                "properties": {
                  "label": "Spain"
                },
                "color": "#15AFAC",
                "styles": {},
                "label": "Spain",
                "scale_factor": 1,
                "type": "#15AFAC",
                "size": [
                  55,
                  55
                ],
                "position": [
                  0,
                  0
                ]
              },
              {
                "id": "group#Spain",
                "properties": {
                  "label": "Spain"
                },
                "color": "#15AFAC",
                "styles": {},
                "label": "Spain",
                "scale_factor": 1,
                "type": "#15AFAC",
                "size": [
                  55,
                  55
                ],
                "position": [
                  0,
                  0
                ]
              },
              {
                "id": "group#Italy",
                "properties": {
                  "label": "Italy"
                },
                "color": "#15AFAC",
                "styles": {},
                "label": "Italy",
                "scale_factor": 1,
                "type": "#15AFAC",
                "size": [
                  55,
                  55
                ],
                "position": [
                  0,
                  0
                ]
              },
              {
                "id": "group#Denmark",
                "properties": {
                  "label": "Denmark"
                },
                "color": "#15AFAC",
                "styles": {},
                "label": "Denmark",
                "scale_factor": 1,
                "type": "#15AFAC",
                "size": [
                  55,
                  55
                ],
                "position": [
                  0,
                  0
                ]
              },
              {
                "id": "group#Finland",
                "properties": {
                  "label": "Finland"
                },
                "color": "#15AFAC",
                "styles": {},
                "label": "Finland",
                "scale_factor": 1,
                "type": "#15AFAC",
                "size": [
                  55,
                  55
                ],
                "position": [
                  0,
                  0
                ]
              },
              {
                "id": "group#Greece",
                "properties": {
                  "label": "Greece"
                },
                "color": "#15AFAC",
                "styles": {},
                "label": "Greece",
                "scale_factor": 1,
                "type": "#15AFAC",
                "size": [
                  55,
                  55
                ],
                "position": [
                  0,
                  0
                ]
              },
              {
                "id": "group#Ireland",
                "properties": {
                  "label": "Ireland"
                },
                "color": "#15AFAC",
                "styles": {},
                "label": "Ireland",
                "scale_factor": 1,
                "type": "#15AFAC",
                "size": [
                  55,
                  55
                ],
                "position": [
                  0,
                  0
                ]
              },
              {
                "id": "group#Iceland",
                "properties": {
                  "label": "Iceland"
                },
                "color": "#15AFAC",
                "styles": {},
                "label": "Iceland",
                "scale_factor": 1,
                "type": "#15AFAC",
                "size": [
                  55,
                  55
                ],
                "position": [
                  0,
                  0
                ]
              },
              {
                "id": "group#Norway",
                "properties": {
                  "label": "Norway"
                },
                "color": "#15AFAC",
                "styles": {},
                "label": "Norway",
                "scale_factor": 1,
                "type": "#15AFAC",
                "size": [
                  55,
                  55
                ],
                "position": [
                  0,
                  0
                ]
              },
              {
                "id": "group#Austria",
                "properties": {
                  "label": "Austria"
                },
                "color": "#15AFAC",
                "styles": {},
                "label": "Austria",
                "scale_factor": 1,
                "type": "#15AFAC",
                "size": [
                  55,
                  55
                ],
                "position": [
                  0,
                  0
                ]
              },
              {
                "id": "group#Portugal",
                "properties": {
                  "label": "Portugal"
                },
                "color": "#15AFAC",
                "styles": {},
                "label": "Portugal",
                "scale_factor": 1,
                "type": "#15AFAC",
                "size": [
                  55,
                  55
                ],
                "position": [
                  0,
                  0
                ]
              },
              {
                "id": "group#Sweden",
                "properties": {
                  "label": "Sweden"
                },
                "color": "#15AFAC",
                "styles": {},
                "label": "Sweden",
                "scale_factor": 1,
                "type": "#15AFAC",
                "size": [
                  55,
                  55
                ],
                "position": [
                  0,
                  0
                ]
              },
              {
                "id": "group#UK",
                "properties": {
                  "label": "UK"
                },
                "color": "#15AFAC",
                "styles": {},
                "label": "UK",
                "scale_factor": 1,
                "type": "#15AFAC",
                "size": [
                  55,
                  55
                ],
                "position": [
                  0,
                  0
                ]
              },
              {
                "id": "group#USA",
                "properties": {
                  "label": "USA"
                },
                "color": "#15AFAC",
                "styles": {},
                "label": "USA",
                "scale_factor": 1,
                "type": "#15AFAC",
                "size": [
                  55,
                  55
                ],
                "position": [
                  0,
                  0
                ]
              },
              {
                "id": "group#USA",
                "properties": {
                  "label": "USA"
                },
                "color": "#15AFAC",
                "styles": {},
                "label": "USA",
                "scale_factor": 1,
                "type": "#15AFAC",
                "size": [
                  55,
                  55
                ],
                "position": [
                  0,
                  0
                ]
              },
              {
                "id": "group#USA",
                "properties": {
                  "label": "USA"
                },
                "color": "#15AFAC",
                "styles": {},
                "label": "USA",
                "scale_factor": 1,
                "type": "#15AFAC",
                "size": [
                  55,
                  55
                ],
                "position": [
                  0,
                  0
                ]
              },
              {
                "id": "group#USA",
                "properties": {
                  "label": "USA"
                },
                "color": "#15AFAC",
                "styles": {},
                "label": "USA",
                "scale_factor": 1,
                "type": "#15AFAC",
                "size": [
                  55,
                  55
                ],
                "position": [
                  0,
                  0
                ]
              },
              {
                "id": "group#USA",
                "properties": {
                  "label": "USA"
                },
                "color": "#15AFAC",
                "styles": {},
                "label": "USA",
                "scale_factor": 1,
                "type": "#15AFAC",
                "size": [
                  55,
                  55
                ],
                "position": [
                  0,
                  0
                ]
              },
              {
                "id": "group#Canada",
                "properties": {
                  "label": "Canada"
                },
                "color": "#15AFAC",
                "styles": {},
                "label": "Canada",
                "scale_factor": 1,
                "type": "#15AFAC",
                "size": [
                  55,
                  55
                ],
                "position": [
                  0,
                  0
                ]
              },
              {
                "id": "group#Canada",
                "properties": {
                  "label": "Canada"
                },
                "color": "#15AFAC",
                "styles": {},
                "label": "Canada",
                "scale_factor": 1,
                "type": "#15AFAC",
                "size": [
                  55,
                  55
                ],
                "position": [
                  0,
                  0
                ]
              },
              {
                "id": "group#Canada",
                "properties": {
                  "label": "Canada"
                },
                "color": "#15AFAC",
                "styles": {},
                "label": "Canada",
                "scale_factor": 1,
                "type": "#15AFAC",
                "size": [
                  55,
                  55
                ],
                "position": [
                  0,
                  0
                ]
              },
              {
                "id": "group#Mexico",
                "properties": {
                  "label": "Mexico"
                },
                "color": "#15AFAC",
                "styles": {},
                "label": "Mexico",
                "scale_factor": 1,
                "type": "#15AFAC",
                "size": [
                  55,
                  55
                ],
                "position": [
                  0,
                  0
                ]
              },
              {
                "id": "group#Guatemala",
                "properties": {
                  "label": "Guatemala"
                },
                "color": "#15AFAC",
                "styles": {},
                "label": "Guatemala",
                "scale_factor": 1,
                "type": "#15AFAC",
                "size": [
                  55,
                  55
                ],
                "position": [
                  0,
                  0
                ]
              },
              {
                "id": "group#Argentina",
                "properties": {
                  "label": "Argentina"
                },
                "color": "#15AFAC",
                "styles": {},
                "label": "Argentina",
                "scale_factor": 1,
                "type": "#15AFAC",
                "size": [
                  55,
                  55
                ],
                "position": [
                  0,
                  0
                ]
              },
              {
                "id": "group#Brazil",
                "properties": {
                  "label": "Brazil"
                },
                "color": "#15AFAC",
                "styles": {},
                "label": "Brazil",
                "scale_factor": 1,
                "type": "#15AFAC",
                "size": [
                  55,
                  55
                ],
                "position": [
                  0,
                  0
                ]
              },
              {
                "id": "group#Chile",
                "properties": {
                  "label": "Chile"
                },
                "color": "#15AFAC",
                "styles": {},
                "label": "Chile",
                "scale_factor": 1,
                "type": "#15AFAC",
                "size": [
                  55,
                  55
                ],
                "position": [
                  0,
                  0
                ]
              },
              {
                "id": "group#Brazil",
                "properties": {
                  "label": "Brazil"
                },
                "color": "#15AFAC",
                "styles": {},
                "label": "Brazil",
                "scale_factor": 1,
                "type": "#15AFAC",
                "size": [
                  55,
                  55
                ],
                "position": [
                  0,
                  0
                ]
              },
              {
                "id": "group#Colombia",
                "properties": {
                  "label": "Colombia"
                },
                "color": "#15AFAC",
                "styles": {},
                "label": "Colombia",
                "scale_factor": 1,
                "type": "#15AFAC",
                "size": [
                  55,
                  55
                ],
                "position": [
                  0,
                  0
                ]
              },
              {
                "id": "group#Venezuela",
                "properties": {
                  "label": "Venezuela"
                },
                "color": "#15AFAC",
                "styles": {},
                "label": "Venezuela",
                "scale_factor": 1,
                "type": "#15AFAC",
                "size": [
                  55,
                  55
                ],
                "position": [
                  0,
                  0
                ]
              }
            ],
            "_overview": {
              "enabled": null,
              "overview_set": false
            },
            "_selected_graph": [
              [],
              []
            ],
            "_sidebar": {
              "enabled": false,
              "start_with": null
            },
            "_view_count": null,
            "_view_module": "yfiles-jupyter-graphs",
            "_view_module_version": "^1.8.0",
            "_view_name": "GraphView",
            "layout": "IPY_MODEL_63dc350aec1945cfb821514136020835",
            "tabbable": null,
            "tooltip": null
          }
        },
        "63dc350aec1945cfb821514136020835": {
          "model_module": "@jupyter-widgets/base",
          "model_name": "LayoutModel",
          "model_module_version": "2.0.0",
          "state": {
            "_model_module": "@jupyter-widgets/base",
            "_model_module_version": "2.0.0",
            "_model_name": "LayoutModel",
            "_view_count": null,
            "_view_module": "@jupyter-widgets/base",
            "_view_module_version": "2.0.0",
            "_view_name": "LayoutView",
            "align_content": null,
            "align_items": null,
            "align_self": null,
            "border_bottom": null,
            "border_left": null,
            "border_right": null,
            "border_top": null,
            "bottom": null,
            "display": null,
            "flex": null,
            "flex_flow": null,
            "grid_area": null,
            "grid_auto_columns": null,
            "grid_auto_flow": null,
            "grid_auto_rows": null,
            "grid_column": null,
            "grid_gap": null,
            "grid_row": null,
            "grid_template_areas": null,
            "grid_template_columns": null,
            "grid_template_rows": null,
            "height": "800px",
            "justify_content": null,
            "justify_items": null,
            "left": null,
            "margin": null,
            "max_height": null,
            "max_width": null,
            "min_height": null,
            "min_width": null,
            "object_fit": null,
            "object_position": null,
            "order": null,
            "overflow": null,
            "padding": null,
            "right": null,
            "top": null,
            "visibility": null,
            "width": "100%"
          }
        },
        "725bbc67c67547c5b24b16984af16a85": {
          "model_module": "yfiles-jupyter-graphs",
          "model_name": "GraphModel",
          "model_module_version": "^1.8.0",
          "state": {
            "_context_pane_mapping": [
              {
                "id": "Neighborhood",
                "title": "Neighborhood"
              },
              {
                "id": "Data",
                "title": "Data"
              },
              {
                "id": "Search",
                "title": "Search"
              },
              {
                "id": "About",
                "title": "About"
              }
            ],
            "_data_importer": "unknown",
            "_directed": false,
            "_dom_classes": [],
            "_edges": [
              {
                "start": "LAX",
                "end": "JFK",
                "label": "",
                "properties": {},
                "directed": false,
                "color": "#15AFAC",
                "thickness_factor": 1
              },
              {
                "start": "JFK",
                "end": "GIG",
                "label": "",
                "properties": {},
                "directed": false,
                "color": "#15AFAC",
                "thickness_factor": 1
              },
              {
                "start": "JFK",
                "end": "LIM",
                "label": "",
                "properties": {},
                "directed": false,
                "color": "#15AFAC",
                "thickness_factor": 1
              },
              {
                "start": "JFK",
                "end": "LHR",
                "label": "",
                "properties": {},
                "directed": false,
                "color": "#15AFAC",
                "thickness_factor": 1
              },
              {
                "start": "GIG",
                "end": "FRA",
                "label": "",
                "properties": {},
                "directed": false,
                "color": "#15AFAC",
                "thickness_factor": 1
              },
              {
                "start": "LIM",
                "end": "GIG",
                "label": "",
                "properties": {},
                "directed": false,
                "color": "#15AFAC",
                "thickness_factor": 1
              },
              {
                "start": "FRA",
                "end": "JFK",
                "label": "",
                "properties": {},
                "directed": false,
                "color": "#15AFAC",
                "thickness_factor": 1
              },
              {
                "start": "LHR",
                "end": "FRA",
                "label": "",
                "properties": {},
                "directed": false,
                "color": "#15AFAC",
                "thickness_factor": 1
              },
              {
                "start": "FRA",
                "end": "SVO",
                "label": "",
                "properties": {},
                "directed": false,
                "color": "#15AFAC",
                "thickness_factor": 1
              },
              {
                "start": "FRA",
                "end": "DXB",
                "label": "",
                "properties": {},
                "directed": false,
                "color": "#15AFAC",
                "thickness_factor": 1
              },
              {
                "start": "SVO",
                "end": "DEL",
                "label": "",
                "properties": {},
                "directed": false,
                "color": "#15AFAC",
                "thickness_factor": 1
              },
              {
                "start": "SVO",
                "end": "PVG",
                "label": "",
                "properties": {},
                "directed": false,
                "color": "#15AFAC",
                "thickness_factor": 1
              },
              {
                "start": "DEL",
                "end": "HKG",
                "label": "",
                "properties": {},
                "directed": false,
                "color": "#15AFAC",
                "thickness_factor": 1
              },
              {
                "start": "PVG",
                "end": "HKG",
                "label": "",
                "properties": {},
                "directed": false,
                "color": "#15AFAC",
                "thickness_factor": 1
              },
              {
                "start": "PVG",
                "end": "NRT",
                "label": "",
                "properties": {},
                "directed": false,
                "color": "#15AFAC",
                "thickness_factor": 1
              },
              {
                "start": "HKG",
                "end": "SYD",
                "label": "",
                "properties": {},
                "directed": false,
                "color": "#15AFAC",
                "thickness_factor": 1
              },
              {
                "start": "NRT",
                "end": "SYD",
                "label": "",
                "properties": {},
                "directed": false,
                "color": "#15AFAC",
                "thickness_factor": 1
              },
              {
                "start": "DXB",
                "end": "SVO",
                "label": "",
                "properties": {},
                "directed": false,
                "color": "#15AFAC",
                "thickness_factor": 1
              },
              {
                "start": "DXB",
                "end": "DEL",
                "label": "",
                "properties": {},
                "directed": false,
                "color": "#15AFAC",
                "thickness_factor": 1
              },
              {
                "start": "DXB",
                "end": "DKR",
                "label": "",
                "properties": {},
                "directed": false,
                "color": "#15AFAC",
                "thickness_factor": 1
              },
              {
                "start": "DXB",
                "end": "JNB",
                "label": "",
                "properties": {},
                "directed": false,
                "color": "#15AFAC",
                "thickness_factor": 1
              },
              {
                "start": "JNB",
                "end": "LHR",
                "label": "",
                "properties": {},
                "directed": false,
                "color": "#15AFAC",
                "thickness_factor": 1
              },
              {
                "start": "JNB",
                "end": "DKR",
                "label": "",
                "properties": {},
                "directed": false,
                "color": "#15AFAC",
                "thickness_factor": 1
              },
              {
                "start": "SYD",
                "end": "DXB",
                "label": "",
                "properties": {},
                "directed": false,
                "color": "#15AFAC",
                "thickness_factor": 1
              },
              {
                "start": "NBO",
                "end": "JNB",
                "label": "",
                "properties": {},
                "directed": false,
                "color": "#15AFAC",
                "thickness_factor": 1
              },
              {
                "start": "NBO",
                "end": "DXB",
                "label": "",
                "properties": {},
                "directed": false,
                "color": "#15AFAC",
                "thickness_factor": 1
              },
              {
                "start": "ATL",
                "end": "JFK",
                "label": "",
                "properties": {},
                "directed": false,
                "color": "#15AFAC",
                "thickness_factor": 1
              },
              {
                "start": "LAX",
                "end": "ATL",
                "label": "",
                "properties": {},
                "directed": false,
                "color": "#15AFAC",
                "thickness_factor": 1
              },
              {
                "start": "ATL",
                "end": "LHR",
                "label": "",
                "properties": {},
                "directed": false,
                "color": "#15AFAC",
                "thickness_factor": 1
              },
              {
                "start": "ATL",
                "end": "LIM",
                "label": "",
                "properties": {},
                "directed": false,
                "color": "#15AFAC",
                "thickness_factor": 1
              },
              {
                "start": "SCL",
                "end": "LIM",
                "label": "",
                "properties": {},
                "directed": false,
                "color": "#15AFAC",
                "thickness_factor": 1
              },
              {
                "start": "EZE",
                "end": "SCL",
                "label": "",
                "properties": {},
                "directed": false,
                "color": "#15AFAC",
                "thickness_factor": 1
              },
              {
                "start": "SCL",
                "end": "GRU",
                "label": "",
                "properties": {},
                "directed": false,
                "color": "#15AFAC",
                "thickness_factor": 1
              },
              {
                "start": "GIG",
                "end": "EZE",
                "label": "",
                "properties": {},
                "directed": false,
                "color": "#15AFAC",
                "thickness_factor": 1
              },
              {
                "start": "GIG",
                "end": "GRU",
                "label": "",
                "properties": {},
                "directed": false,
                "color": "#15AFAC",
                "thickness_factor": 1
              },
              {
                "start": "BSB",
                "end": "GIG",
                "label": "",
                "properties": {},
                "directed": false,
                "color": "#15AFAC",
                "thickness_factor": 1
              },
              {
                "start": "SCL",
                "end": "BSB",
                "label": "",
                "properties": {},
                "directed": false,
                "color": "#15AFAC",
                "thickness_factor": 1
              },
              {
                "start": "LIM",
                "end": "BSB",
                "label": "",
                "properties": {},
                "directed": false,
                "color": "#15AFAC",
                "thickness_factor": 1
              },
              {
                "start": "BOG",
                "end": "BSB",
                "label": "",
                "properties": {},
                "directed": false,
                "color": "#15AFAC",
                "thickness_factor": 1
              },
              {
                "start": "CCS",
                "end": "BSB",
                "label": "",
                "properties": {},
                "directed": false,
                "color": "#15AFAC",
                "thickness_factor": 1
              },
              {
                "start": "BOG",
                "end": "GUA",
                "label": "",
                "properties": {},
                "directed": false,
                "color": "#15AFAC",
                "thickness_factor": 1
              },
              {
                "start": "CCS",
                "end": "MIA",
                "label": "",
                "properties": {},
                "directed": false,
                "color": "#15AFAC",
                "thickness_factor": 1
              },
              {
                "start": "GUA",
                "end": "MIA",
                "label": "",
                "properties": {},
                "directed": false,
                "color": "#15AFAC",
                "thickness_factor": 1
              },
              {
                "start": "GUA",
                "end": "MEX",
                "label": "",
                "properties": {},
                "directed": false,
                "color": "#15AFAC",
                "thickness_factor": 1
              },
              {
                "start": "MEX",
                "end": "LAX",
                "label": "",
                "properties": {},
                "directed": false,
                "color": "#15AFAC",
                "thickness_factor": 1
              },
              {
                "start": "MEX",
                "end": "LAX",
                "label": "",
                "properties": {},
                "directed": false,
                "color": "#15AFAC",
                "thickness_factor": 1
              },
              {
                "start": "LAX",
                "end": "SFO",
                "label": "",
                "properties": {},
                "directed": false,
                "color": "#15AFAC",
                "thickness_factor": 1
              },
              {
                "start": "SFO",
                "end": "YVR",
                "label": "",
                "properties": {},
                "directed": false,
                "color": "#15AFAC",
                "thickness_factor": 1
              },
              {
                "start": "LAX",
                "end": "LAS",
                "label": "",
                "properties": {},
                "directed": false,
                "color": "#15AFAC",
                "thickness_factor": 1
              },
              {
                "start": "LAX",
                "end": "DFW",
                "label": "",
                "properties": {},
                "directed": false,
                "color": "#15AFAC",
                "thickness_factor": 1
              },
              {
                "start": "LAX",
                "end": "ORD",
                "label": "",
                "properties": {},
                "directed": false,
                "color": "#15AFAC",
                "thickness_factor": 1
              },
              {
                "start": "SFO",
                "end": "LAS",
                "label": "",
                "properties": {},
                "directed": false,
                "color": "#15AFAC",
                "thickness_factor": 1
              },
              {
                "start": "DFW",
                "end": "ATL",
                "label": "",
                "properties": {},
                "directed": false,
                "color": "#15AFAC",
                "thickness_factor": 1
              },
              {
                "start": "ATL",
                "end": "YYZ",
                "label": "",
                "properties": {},
                "directed": false,
                "color": "#15AFAC",
                "thickness_factor": 1
              },
              {
                "start": "ORD",
                "end": "YYZ",
                "label": "",
                "properties": {},
                "directed": false,
                "color": "#15AFAC",
                "thickness_factor": 1
              },
              {
                "start": "YYZ",
                "end": "YUL",
                "label": "",
                "properties": {},
                "directed": false,
                "color": "#15AFAC",
                "thickness_factor": 1
              },
              {
                "start": "YYZ",
                "end": "JFK",
                "label": "",
                "properties": {},
                "directed": false,
                "color": "#15AFAC",
                "thickness_factor": 1
              },
              {
                "start": "YUL",
                "end": "JFK",
                "label": "",
                "properties": {},
                "directed": false,
                "color": "#15AFAC",
                "thickness_factor": 1
              },
              {
                "start": "JNB",
                "end": "CPT",
                "label": "",
                "properties": {},
                "directed": false,
                "color": "#15AFAC",
                "thickness_factor": 1
              },
              {
                "start": "LOS",
                "end": "DKR",
                "label": "",
                "properties": {},
                "directed": false,
                "color": "#15AFAC",
                "thickness_factor": 1
              },
              {
                "start": "NBO",
                "end": "LOS",
                "label": "",
                "properties": {},
                "directed": false,
                "color": "#15AFAC",
                "thickness_factor": 1
              },
              {
                "start": "DKR",
                "end": "CMN",
                "label": "",
                "properties": {},
                "directed": false,
                "color": "#15AFAC",
                "thickness_factor": 1
              },
              {
                "start": "DKR",
                "end": "CAI",
                "label": "",
                "properties": {},
                "directed": false,
                "color": "#15AFAC",
                "thickness_factor": 1
              },
              {
                "start": "NBO",
                "end": "CAI",
                "label": "",
                "properties": {},
                "directed": false,
                "color": "#15AFAC",
                "thickness_factor": 1
              },
              {
                "start": "DXB",
                "end": "CAI",
                "label": "",
                "properties": {},
                "directed": false,
                "color": "#15AFAC",
                "thickness_factor": 1
              },
              {
                "start": "IKA",
                "end": "DXB",
                "label": "",
                "properties": {},
                "directed": false,
                "color": "#15AFAC",
                "thickness_factor": 1
              },
              {
                "start": "IST",
                "end": "IKA",
                "label": "",
                "properties": {},
                "directed": false,
                "color": "#15AFAC",
                "thickness_factor": 1
              },
              {
                "start": "TLV",
                "end": "ATH",
                "label": "",
                "properties": {},
                "directed": false,
                "color": "#15AFAC",
                "thickness_factor": 1
              },
              {
                "start": "CAI",
                "end": "TLV",
                "label": "",
                "properties": {},
                "directed": false,
                "color": "#15AFAC",
                "thickness_factor": 1
              },
              {
                "start": "ATH",
                "end": "IST",
                "label": "",
                "properties": {},
                "directed": false,
                "color": "#15AFAC",
                "thickness_factor": 1
              },
              {
                "start": "FCO",
                "end": "ATH",
                "label": "",
                "properties": {},
                "directed": false,
                "color": "#15AFAC",
                "thickness_factor": 1
              },
              {
                "start": "LIS",
                "end": "LHR",
                "label": "",
                "properties": {},
                "directed": false,
                "color": "#15AFAC",
                "thickness_factor": 1
              },
              {
                "start": "LIS",
                "end": "MAD",
                "label": "",
                "properties": {},
                "directed": false,
                "color": "#15AFAC",
                "thickness_factor": 1
              },
              {
                "start": "MAD",
                "end": "BCN",
                "label": "",
                "properties": {},
                "directed": false,
                "color": "#15AFAC",
                "thickness_factor": 1
              },
              {
                "start": "CDG",
                "end": "LHR",
                "label": "",
                "properties": {},
                "directed": false,
                "color": "#15AFAC",
                "thickness_factor": 1
              },
              {
                "start": "DUB",
                "end": "LHR",
                "label": "",
                "properties": {},
                "directed": false,
                "color": "#15AFAC",
                "thickness_factor": 1
              },
              {
                "start": "EDI",
                "end": "LHR",
                "label": "",
                "properties": {},
                "directed": false,
                "color": "#15AFAC",
                "thickness_factor": 1
              },
              {
                "start": "CDG",
                "end": "BCN",
                "label": "",
                "properties": {},
                "directed": false,
                "color": "#15AFAC",
                "thickness_factor": 1
              },
              {
                "start": "BCN",
                "end": "FCO",
                "label": "",
                "properties": {},
                "directed": false,
                "color": "#15AFAC",
                "thickness_factor": 1
              },
              {
                "start": "VIE",
                "end": "IST",
                "label": "",
                "properties": {},
                "directed": false,
                "color": "#15AFAC",
                "thickness_factor": 1
              },
              {
                "start": "VIE",
                "end": "SVO",
                "label": "",
                "properties": {},
                "directed": false,
                "color": "#15AFAC",
                "thickness_factor": 1
              },
              {
                "start": "CMN",
                "end": "LIS",
                "label": "",
                "properties": {},
                "directed": false,
                "color": "#15AFAC",
                "thickness_factor": 1
              },
              {
                "start": "MAD",
                "end": "CMN",
                "label": "",
                "properties": {},
                "directed": false,
                "color": "#15AFAC",
                "thickness_factor": 1
              },
              {
                "start": "FRA",
                "end": "CPH",
                "label": "",
                "properties": {},
                "directed": false,
                "color": "#15AFAC",
                "thickness_factor": 1
              },
              {
                "start": "LHR",
                "end": "CPH",
                "label": "",
                "properties": {},
                "directed": false,
                "color": "#15AFAC",
                "thickness_factor": 1
              },
              {
                "start": "CPH",
                "end": "OSL",
                "label": "",
                "properties": {},
                "directed": false,
                "color": "#15AFAC",
                "thickness_factor": 1
              },
              {
                "start": "CPH",
                "end": "ARN",
                "label": "",
                "properties": {},
                "directed": false,
                "color": "#15AFAC",
                "thickness_factor": 1
              },
              {
                "start": "ARN",
                "end": "HEL",
                "label": "",
                "properties": {},
                "directed": false,
                "color": "#15AFAC",
                "thickness_factor": 1
              },
              {
                "start": "HEL",
                "end": "SVO",
                "label": "",
                "properties": {},
                "directed": false,
                "color": "#15AFAC",
                "thickness_factor": 1
              },
              {
                "start": "ULN",
                "end": "PVG",
                "label": "",
                "properties": {},
                "directed": false,
                "color": "#15AFAC",
                "thickness_factor": 1
              },
              {
                "start": "CTU",
                "end": "PVG",
                "label": "",
                "properties": {},
                "directed": false,
                "color": "#15AFAC",
                "thickness_factor": 1
              },
              {
                "start": "PVG",
                "end": "TPE",
                "label": "",
                "properties": {},
                "directed": false,
                "color": "#15AFAC",
                "thickness_factor": 1
              },
              {
                "start": "CTU",
                "end": "HKG",
                "label": "",
                "properties": {},
                "directed": false,
                "color": "#15AFAC",
                "thickness_factor": 1
              },
              {
                "start": "TPE",
                "end": "HKG",
                "label": "",
                "properties": {},
                "directed": false,
                "color": "#15AFAC",
                "thickness_factor": 1
              },
              {
                "start": "HKG",
                "end": "MNL",
                "label": "",
                "properties": {},
                "directed": false,
                "color": "#15AFAC",
                "thickness_factor": 1
              },
              {
                "start": "BKK",
                "end": "HKG",
                "label": "",
                "properties": {},
                "directed": false,
                "color": "#15AFAC",
                "thickness_factor": 1
              },
              {
                "start": "SIN",
                "end": "KUL",
                "label": "",
                "properties": {},
                "directed": false,
                "color": "#15AFAC",
                "thickness_factor": 1
              },
              {
                "start": "SIN",
                "end": "BKK",
                "label": "",
                "properties": {},
                "directed": false,
                "color": "#15AFAC",
                "thickness_factor": 1
              },
              {
                "start": "CGK",
                "end": "SIN",
                "label": "",
                "properties": {},
                "directed": false,
                "color": "#15AFAC",
                "thickness_factor": 1
              },
              {
                "start": "MNL",
                "end": "SIN",
                "label": "",
                "properties": {},
                "directed": false,
                "color": "#15AFAC",
                "thickness_factor": 1
              },
              {
                "start": "SIN",
                "end": "SYD",
                "label": "",
                "properties": {},
                "directed": false,
                "color": "#15AFAC",
                "thickness_factor": 1
              },
              {
                "start": "BNE",
                "end": "SYD",
                "label": "",
                "properties": {},
                "directed": false,
                "color": "#15AFAC",
                "thickness_factor": 1
              },
              {
                "start": "SYD",
                "end": "MEL",
                "label": "",
                "properties": {},
                "directed": false,
                "color": "#15AFAC",
                "thickness_factor": 1
              },
              {
                "start": "NAN",
                "end": "SYD",
                "label": "",
                "properties": {},
                "directed": false,
                "color": "#15AFAC",
                "thickness_factor": 1
              },
              {
                "start": "AKL",
                "end": "SYD",
                "label": "",
                "properties": {},
                "directed": false,
                "color": "#15AFAC",
                "thickness_factor": 1
              },
              {
                "start": "NAN",
                "end": "AKL",
                "label": "",
                "properties": {},
                "directed": false,
                "color": "#15AFAC",
                "thickness_factor": 1
              },
              {
                "start": "RKV",
                "end": "LHR",
                "label": "",
                "properties": {},
                "directed": false,
                "color": "#15AFAC",
                "thickness_factor": 1
              },
              {
                "start": "BCN",
                "end": "CDG",
                "label": "",
                "properties": {},
                "directed": false,
                "color": "#15AFAC",
                "thickness_factor": 1
              },
              {
                "start": "BCN",
                "end": "FRA",
                "label": "",
                "properties": {},
                "directed": false,
                "color": "#15AFAC",
                "thickness_factor": 1
              },
              {
                "start": "FCO",
                "end": "FRA",
                "label": "",
                "properties": {},
                "directed": false,
                "color": "#15AFAC",
                "thickness_factor": 1
              },
              {
                "start": "BOG",
                "end": "MEX",
                "label": "",
                "properties": {},
                "directed": false,
                "color": "#15AFAC",
                "thickness_factor": 1
              },
              {
                "start": "BOG",
                "end": "GRU",
                "label": "",
                "properties": {},
                "directed": false,
                "color": "#15AFAC",
                "thickness_factor": 1
              },
              {
                "start": "ATL",
                "end": "MIA",
                "label": "",
                "properties": {},
                "directed": false,
                "color": "#15AFAC",
                "thickness_factor": 1
              },
              {
                "start": "FRA",
                "end": "IST",
                "label": "",
                "properties": {},
                "directed": false,
                "color": "#15AFAC",
                "thickness_factor": 1
              },
              {
                "start": "IST",
                "end": "DEL",
                "label": "",
                "properties": {},
                "directed": false,
                "color": "#15AFAC",
                "thickness_factor": 1
              },
              {
                "start": "PVG",
                "end": "BKK",
                "label": "",
                "properties": {},
                "directed": false,
                "color": "#15AFAC",
                "thickness_factor": 1
              },
              {
                "start": "DEL",
                "end": "BKK",
                "label": "",
                "properties": {},
                "directed": false,
                "color": "#15AFAC",
                "thickness_factor": 1
              }
            ],
            "_graph_layout": {},
            "_highlight": [],
            "_license": {},
            "_model_module": "yfiles-jupyter-graphs",
            "_model_module_version": "^1.8.0",
            "_model_name": "GraphModel",
            "_neighborhood": {},
            "_nodes": [
              {
                "id": "LAX",
                "properties": {
                  "label": "Los Angeles",
                  "passengers": 65000000,
                  "country": "USA"
                },
                "coordinates": [
                  33.942536,
                  -118.408075
                ],
                "parentId": "group#USA",
                "color": "#15AFAC",
                "styles": {},
                "label": "Los Angeles",
                "scale_factor": 1,
                "type": "#15AFAC",
                "size": [
                  55,
                  55
                ],
                "position": [
                  0,
                  0
                ]
              },
              {
                "id": "GIG",
                "properties": {
                  "label": "Rio de Janeiro",
                  "passengers": 5000000,
                  "country": "Brazil"
                },
                "coordinates": [
                  -22.808903,
                  -43.243647
                ],
                "parentId": "group#Brazil",
                "color": "#15AFAC",
                "styles": {},
                "label": "Rio de Janeiro",
                "scale_factor": 1,
                "type": "#15AFAC",
                "size": [
                  55,
                  55
                ],
                "position": [
                  0,
                  0
                ]
              },
              {
                "id": "LIM",
                "properties": {
                  "label": "Lima",
                  "passengers": 18000000,
                  "country": "Peru"
                },
                "coordinates": [
                  -12.021889,
                  -77.114319
                ],
                "parentId": "group#Peru",
                "color": "#15AFAC",
                "styles": {},
                "label": "Lima",
                "scale_factor": 1,
                "type": "#15AFAC",
                "size": [
                  55,
                  55
                ],
                "position": [
                  0,
                  0
                ]
              },
              {
                "id": "LHR",
                "properties": {
                  "label": "London",
                  "passengers": 61000000,
                  "country": "UK"
                },
                "coordinates": [
                  51.4775,
                  -0.461389
                ],
                "parentId": "group#UK",
                "color": "#15AFAC",
                "styles": {},
                "label": "London",
                "scale_factor": 1,
                "type": "#15AFAC",
                "size": [
                  55,
                  55
                ],
                "position": [
                  0,
                  0
                ]
              },
              {
                "id": "FRA",
                "properties": {
                  "label": "Frankfurt",
                  "passengers": 48000000,
                  "country": "Germany"
                },
                "coordinates": [
                  50.033333,
                  8.570556
                ],
                "parentId": "group#Germany",
                "color": "#15AFAC",
                "styles": {},
                "label": "Frankfurt",
                "scale_factor": 1,
                "type": "#15AFAC",
                "size": [
                  55,
                  55
                ],
                "position": [
                  0,
                  0
                ]
              },
              {
                "id": "SVO",
                "properties": {
                  "label": "Moscow",
                  "passengers": 49000000,
                  "country": "Russia"
                },
                "coordinates": [
                  55.972642,
                  37.414589
                ],
                "parentId": "group#Russia",
                "color": "#15AFAC",
                "styles": {},
                "label": "Moscow",
                "scale_factor": 1,
                "type": "#15AFAC",
                "size": [
                  55,
                  55
                ],
                "position": [
                  0,
                  0
                ]
              },
              {
                "id": "DEL",
                "properties": {
                  "label": "New Delhi",
                  "passengers": 39000000,
                  "country": "India"
                },
                "coordinates": [
                  28.5665,
                  77.103089
                ],
                "parentId": "group#India",
                "color": "#15AFAC",
                "styles": {},
                "label": "New Delhi",
                "scale_factor": 1,
                "type": "#15AFAC",
                "size": [
                  55,
                  55
                ],
                "position": [
                  0,
                  0
                ]
              },
              {
                "id": "PVG",
                "properties": {
                  "label": "Shanghai",
                  "passengers": 32000000,
                  "country": "China"
                },
                "coordinates": [
                  31.143378,
                  121.805214
                ],
                "parentId": "group#China",
                "color": "#15AFAC",
                "styles": {},
                "label": "Shanghai",
                "scale_factor": 1,
                "type": "#15AFAC",
                "size": [
                  55,
                  55
                ],
                "position": [
                  0,
                  0
                ]
              },
              {
                "id": "HKG",
                "properties": {
                  "label": "Hongkong",
                  "passengers": 1000000,
                  "country": "China"
                },
                "coordinates": [
                  22.308919,
                  113.914603
                ],
                "parentId": "group#China",
                "color": "#15AFAC",
                "styles": {},
                "label": "Hongkong",
                "scale_factor": 1,
                "type": "#15AFAC",
                "size": [
                  55,
                  55
                ],
                "position": [
                  0,
                  0
                ]
              },
              {
                "id": "NRT",
                "properties": {
                  "label": "Tokio",
                  "passengers": 15000000,
                  "country": "Japan"
                },
                "coordinates": [
                  35.764722,
                  140.386389
                ],
                "parentId": "group#Japan",
                "color": "#15AFAC",
                "styles": {},
                "label": "Tokio",
                "scale_factor": 1,
                "type": "#15AFAC",
                "size": [
                  55,
                  55
                ],
                "position": [
                  0,
                  0
                ]
              },
              {
                "id": "DXB",
                "properties": {
                  "label": "Dubai",
                  "passengers": 29000000,
                  "country": "UAE"
                },
                "coordinates": [
                  25.252778,
                  55.364444
                ],
                "parentId": "group#UAE",
                "color": "#15AFAC",
                "styles": {},
                "label": "Dubai",
                "scale_factor": 1,
                "type": "#15AFAC",
                "size": [
                  55,
                  55
                ],
                "position": [
                  0,
                  0
                ]
              },
              {
                "id": "DKR",
                "properties": {
                  "label": "Dakar",
                  "passengers": 2000000,
                  "country": "Senegal"
                },
                "coordinates": [
                  14.670833,
                  -17.072778
                ],
                "parentId": "group#Senegal",
                "color": "#15AFAC",
                "styles": {},
                "label": "Dakar",
                "scale_factor": 1,
                "type": "#15AFAC",
                "size": [
                  55,
                  55
                ],
                "position": [
                  0,
                  0
                ]
              },
              {
                "id": "JNB",
                "properties": {
                  "label": "Johannesburg",
                  "passengers": 9000000,
                  "country": "South Africa"
                },
                "coordinates": [
                  -26.133694,
                  28.242317
                ],
                "parentId": "group#South Africa",
                "color": "#15AFAC",
                "styles": {},
                "label": "Johannesburg",
                "scale_factor": 1,
                "type": "#15AFAC",
                "size": [
                  55,
                  55
                ],
                "position": [
                  0,
                  0
                ]
              },
              {
                "id": "SYD",
                "properties": {
                  "label": "Sydney",
                  "passengers": 44000000,
                  "country": "Australia"
                },
                "coordinates": [
                  -33.946111,
                  151.177222
                ],
                "parentId": "group#Australia",
                "color": "#15AFAC",
                "styles": {},
                "label": "Sydney",
                "scale_factor": 1,
                "type": "#15AFAC",
                "size": [
                  55,
                  55
                ],
                "position": [
                  0,
                  0
                ]
              },
              {
                "id": "NBO",
                "properties": {
                  "label": "Nairobi",
                  "passengers": 900000,
                  "country": "Kenya"
                },
                "coordinates": [
                  -1.319167,
                  36.927778
                ],
                "parentId": "group#Kenya",
                "color": "#15AFAC",
                "styles": {},
                "label": "Nairobi",
                "scale_factor": 1,
                "type": "#15AFAC",
                "size": [
                  55,
                  55
                ],
                "position": [
                  0,
                  0
                ]
              },
              {
                "id": "ATL",
                "properties": {
                  "label": "Atlanta",
                  "passengers": 93000000,
                  "country": "USA"
                },
                "coordinates": [
                  33.639167,
                  -84.427778
                ],
                "parentId": "group#USA",
                "color": "#15AFAC",
                "styles": {},
                "label": "Atlanta",
                "scale_factor": 1,
                "type": "#15AFAC",
                "size": [
                  55,
                  55
                ],
                "position": [
                  0,
                  0
                ]
              },
              {
                "id": "JFK",
                "properties": {
                  "label": "New York City",
                  "passengers": 55000000,
                  "country": "USA"
                },
                "coordinates": [
                  40.63975,
                  -73.778925
                ],
                "parentId": "group#USA",
                "color": "#15AFAC",
                "styles": {},
                "label": "New York City",
                "scale_factor": 1,
                "type": "#15AFAC",
                "size": [
                  55,
                  55
                ],
                "position": [
                  0,
                  0
                ]
              },
              {
                "id": "CAI",
                "properties": {
                  "label": "Cairo",
                  "passengers": 14000000,
                  "country": "Egypt"
                },
                "coordinates": [
                  30.121944,
                  31.405556
                ],
                "parentId": "group#Egypt",
                "color": "#15AFAC",
                "styles": {},
                "label": "Cairo",
                "scale_factor": 1,
                "type": "#15AFAC",
                "size": [
                  55,
                  55
                ],
                "position": [
                  0,
                  0
                ]
              },
              {
                "id": "CMN",
                "properties": {
                  "label": "Casablanca",
                  "passengers": 7000000,
                  "country": "Morocco"
                },
                "coordinates": [
                  33.367467,
                  -7.589967
                ],
                "parentId": "group#Morocco",
                "color": "#15AFAC",
                "styles": {},
                "label": "Casablanca",
                "scale_factor": 1,
                "type": "#15AFAC",
                "size": [
                  55,
                  55
                ],
                "position": [
                  0,
                  0
                ]
              },
              {
                "id": "LOS",
                "properties": {
                  "label": "Lagos",
                  "passengers": 5000000,
                  "country": "Nigeria"
                },
                "coordinates": [
                  6.577222,
                  3.321111
                ],
                "parentId": "group#Nigeria",
                "color": "#15AFAC",
                "styles": {},
                "label": "Lagos",
                "scale_factor": 1,
                "type": "#15AFAC",
                "size": [
                  55,
                  55
                ],
                "position": [
                  0,
                  0
                ]
              },
              {
                "id": "CPT",
                "properties": {
                  "label": "Cape Town",
                  "passengers": 5000000,
                  "country": "South Africa"
                },
                "coordinates": [
                  -33.969444,
                  18.597222
                ],
                "parentId": "group#South Africa",
                "color": "#15AFAC",
                "styles": {},
                "label": "Cape Town",
                "scale_factor": 1,
                "type": "#15AFAC",
                "size": [
                  55,
                  55
                ],
                "position": [
                  0,
                  0
                ]
              },
              {
                "id": "CTU",
                "properties": {
                  "label": "Chengdu",
                  "passengers": 40000000,
                  "country": "China"
                },
                "coordinates": [
                  30.578333,
                  103.946944
                ],
                "parentId": "group#China",
                "color": "#15AFAC",
                "styles": {},
                "label": "Chengdu",
                "scale_factor": 1,
                "type": "#15AFAC",
                "size": [
                  55,
                  55
                ],
                "position": [
                  0,
                  0
                ]
              },
              {
                "id": "CGK",
                "properties": {
                  "label": "Jakarta",
                  "passengers": 54000000,
                  "country": "Indonesia"
                },
                "coordinates": [
                  -6.125567,
                  106.655897
                ],
                "parentId": "group#Indonesia",
                "color": "#15AFAC",
                "styles": {},
                "label": "Jakarta",
                "scale_factor": 1,
                "type": "#15AFAC",
                "size": [
                  55,
                  55
                ],
                "position": [
                  0,
                  0
                ]
              },
              {
                "id": "IKA",
                "properties": {
                  "label": "Teheran",
                  "passengers": 8000000,
                  "country": "Iran"
                },
                "coordinates": [
                  35.416111,
                  51.152222
                ],
                "parentId": "group#Iran",
                "color": "#15AFAC",
                "styles": {},
                "label": "Teheran",
                "scale_factor": 1,
                "type": "#15AFAC",
                "size": [
                  55,
                  55
                ],
                "position": [
                  0,
                  0
                ]
              },
              {
                "id": "TLV",
                "properties": {
                  "label": "Tel Aviv",
                  "passengers": 20000000,
                  "country": "Israel"
                },
                "coordinates": [
                  32.011389,
                  34.886667
                ],
                "parentId": "group#Israel",
                "color": "#15AFAC",
                "styles": {},
                "label": "Tel Aviv",
                "scale_factor": 1,
                "type": "#15AFAC",
                "size": [
                  55,
                  55
                ],
                "position": [
                  0,
                  0
                ]
              },
              {
                "id": "KUL",
                "properties": {
                  "label": "Kuala Lumpur",
                  "passengers": 25000000,
                  "country": "Malaysia"
                },
                "coordinates": [
                  2.745578,
                  101.709917
                ],
                "parentId": "group#Malaysia",
                "color": "#15AFAC",
                "styles": {},
                "label": "Kuala Lumpur",
                "scale_factor": 1,
                "type": "#15AFAC",
                "size": [
                  55,
                  55
                ],
                "position": [
                  0,
                  0
                ]
              },
              {
                "id": "MNL",
                "properties": {
                  "label": "Manila",
                  "passengers": 8000000,
                  "country": "Philippines"
                },
                "coordinates": [
                  14.508647,
                  121.019581
                ],
                "parentId": "group#Philippines",
                "color": "#15AFAC",
                "styles": {},
                "label": "Manila",
                "scale_factor": 1,
                "type": "#15AFAC",
                "size": [
                  55,
                  55
                ],
                "position": [
                  0,
                  0
                ]
              },
              {
                "id": "SIN",
                "properties": {
                  "label": "Singapur",
                  "passengers": 32000000,
                  "country": "Singapore"
                },
                "coordinates": [
                  1.350189,
                  103.994433
                ],
                "parentId": "group#Singapore",
                "color": "#15AFAC",
                "styles": {},
                "label": "Singapur",
                "scale_factor": 1,
                "type": "#15AFAC",
                "size": [
                  55,
                  55
                ],
                "position": [
                  0,
                  0
                ]
              },
              {
                "id": "TPE",
                "properties": {
                  "label": "Taipeh",
                  "passengers": 800000,
                  "country": "Taiwan"
                },
                "coordinates": [
                  25.077732,
                  121.232822
                ],
                "parentId": "group#Taiwan",
                "color": "#15AFAC",
                "styles": {},
                "label": "Taipeh",
                "scale_factor": 1,
                "type": "#15AFAC",
                "size": [
                  55,
                  55
                ],
                "position": [
                  0,
                  0
                ]
              },
              {
                "id": "BKK",
                "properties": {
                  "label": "Bangkok",
                  "passengers": 65000000,
                  "country": "Thailand"
                },
                "coordinates": [
                  13.681108,
                  100.747283
                ],
                "parentId": "group#Thailand",
                "color": "#15AFAC",
                "styles": {},
                "label": "Bangkok",
                "scale_factor": 1,
                "type": "#15AFAC",
                "size": [
                  55,
                  55
                ],
                "position": [
                  0,
                  0
                ]
              },
              {
                "id": "IST",
                "properties": {
                  "label": "Istanbul",
                  "passengers": 64000000,
                  "country": "Turkey"
                },
                "coordinates": [
                  40.976922,
                  28.814606
                ],
                "parentId": "group#Turkey",
                "color": "#15AFAC",
                "styles": {},
                "label": "Istanbul",
                "scale_factor": 1,
                "type": "#15AFAC",
                "size": [
                  55,
                  55
                ],
                "position": [
                  0,
                  0
                ]
              },
              {
                "id": "ULN",
                "properties": {
                  "label": "Ulaanbaatar",
                  "passengers": 1000000,
                  "country": "Mongolia"
                },
                "coordinates": [
                  47.843056,
                  106.766639
                ],
                "parentId": "group#Mongolia",
                "color": "#15AFAC",
                "styles": {},
                "label": "Ulaanbaatar",
                "scale_factor": 1,
                "type": "#15AFAC",
                "size": [
                  55,
                  55
                ],
                "position": [
                  0,
                  0
                ]
              },
              {
                "id": "MEL",
                "properties": {
                  "label": "Melbourne",
                  "passengers": 12000000,
                  "country": "Australia"
                },
                "coordinates": [
                  -37.673333,
                  144.843333
                ],
                "parentId": "group#Australia",
                "color": "#15AFAC",
                "styles": {},
                "label": "Melbourne",
                "scale_factor": 1,
                "type": "#15AFAC",
                "size": [
                  55,
                  55
                ],
                "position": [
                  0,
                  0
                ]
              },
              {
                "id": "BNE",
                "properties": {
                  "label": "Brisbane",
                  "passengers": 23000000,
                  "country": "Australia"
                },
                "coordinates": [
                  -27.383333,
                  153.118056
                ],
                "parentId": "group#Australia",
                "color": "#15AFAC",
                "styles": {},
                "label": "Brisbane",
                "scale_factor": 1,
                "type": "#15AFAC",
                "size": [
                  55,
                  55
                ],
                "position": [
                  0,
                  0
                ]
              },
              {
                "id": "NAN",
                "properties": {
                  "label": "Nadi",
                  "passengers": 2000000,
                  "country": "Fiji"
                },
                "coordinates": [
                  -17.755392,
                  177.443378
                ],
                "parentId": "group#Fiji",
                "color": "#15AFAC",
                "styles": {},
                "label": "Nadi",
                "scale_factor": 1,
                "type": "#15AFAC",
                "size": [
                  55,
                  55
                ],
                "position": [
                  0,
                  0
                ]
              },
              {
                "id": "AKL",
                "properties": {
                  "label": "Auckland",
                  "passengers": 21000000,
                  "country": "New Zealand"
                },
                "coordinates": [
                  -37.008056,
                  174.791667
                ],
                "parentId": "group#New Zealand",
                "color": "#15AFAC",
                "styles": {},
                "label": "Auckland",
                "scale_factor": 1,
                "type": "#15AFAC",
                "size": [
                  55,
                  55
                ],
                "position": [
                  0,
                  0
                ]
              },
              {
                "id": "CDG",
                "properties": {
                  "label": "Paris",
                  "passengers": 57000000,
                  "country": "France"
                },
                "coordinates": [
                  49.009722,
                  2.547778
                ],
                "parentId": "group#France",
                "color": "#15AFAC",
                "styles": {},
                "label": "Paris",
                "scale_factor": 1,
                "type": "#15AFAC",
                "size": [
                  55,
                  55
                ],
                "position": [
                  0,
                  0
                ]
              },
              {
                "id": "MAD",
                "properties": {
                  "label": "Madrid",
                  "passengers": 50000000,
                  "country": "Spain"
                },
                "coordinates": [
                  40.4675,
                  -3.551944
                ],
                "parentId": "group#Spain",
                "color": "#15AFAC",
                "styles": {},
                "label": "Madrid",
                "scale_factor": 1,
                "type": "#15AFAC",
                "size": [
                  55,
                  55
                ],
                "position": [
                  0,
                  0
                ]
              },
              {
                "id": "BCN",
                "properties": {
                  "label": "Barcelona",
                  "passengers": 41000000,
                  "country": "Spain"
                },
                "coordinates": [
                  41.297078,
                  2.078464
                ],
                "parentId": "group#Spain",
                "color": "#15AFAC",
                "styles": {},
                "label": "Barcelona",
                "scale_factor": 1,
                "type": "#15AFAC",
                "size": [
                  55,
                  55
                ],
                "position": [
                  0,
                  0
                ]
              },
              {
                "id": "FCO",
                "properties": {
                  "label": "Rome",
                  "passengers": 29000000,
                  "country": "Italy"
                },
                "coordinates": [
                  41.804444,
                  12.250833
                ],
                "parentId": "group#Italy",
                "color": "#15AFAC",
                "styles": {},
                "label": "Rome",
                "scale_factor": 1,
                "type": "#15AFAC",
                "size": [
                  55,
                  55
                ],
                "position": [
                  0,
                  0
                ]
              },
              {
                "id": "CPH",
                "properties": {
                  "label": "Copenhagen",
                  "passengers": 30000000,
                  "country": "Denmark"
                },
                "coordinates": [
                  55.617917,
                  12.655972
                ],
                "parentId": "group#Denmark",
                "color": "#15AFAC",
                "styles": {},
                "label": "Copenhagen",
                "scale_factor": 1,
                "type": "#15AFAC",
                "size": [
                  55,
                  55
                ],
                "position": [
                  0,
                  0
                ]
              },
              {
                "id": "HEL",
                "properties": {
                  "label": "Helsinki",
                  "passengers": 5000000,
                  "country": "Finland"
                },
                "coordinates": [
                  60.317222,
                  24.963333
                ],
                "parentId": "group#Finland",
                "color": "#15AFAC",
                "styles": {},
                "label": "Helsinki",
                "scale_factor": 1,
                "type": "#15AFAC",
                "size": [
                  55,
                  55
                ],
                "position": [
                  0,
                  0
                ]
              },
              {
                "id": "ATH",
                "properties": {
                  "label": "Athens",
                  "passengers": 22000000,
                  "country": "Greece"
                },
                "coordinates": [
                  37.936358,
                  23.944467
                ],
                "parentId": "group#Greece",
                "color": "#15AFAC",
                "styles": {},
                "label": "Athens",
                "scale_factor": 1,
                "type": "#15AFAC",
                "size": [
                  55,
                  55
                ],
                "position": [
                  0,
                  0
                ]
              },
              {
                "id": "DUB",
                "properties": {
                  "label": "Dublin",
                  "passengers": 32000000,
                  "country": "Ireland"
                },
                "coordinates": [
                  53.421333,
                  -6.270075
                ],
                "parentId": "group#Ireland",
                "color": "#15AFAC",
                "styles": {},
                "label": "Dublin",
                "scale_factor": 1,
                "type": "#15AFAC",
                "size": [
                  55,
                  55
                ],
                "position": [
                  0,
                  0
                ]
              },
              {
                "id": "RKV",
                "properties": {
                  "label": "Reykjavik",
                  "passengers": 400000,
                  "country": "Iceland"
                },
                "coordinates": [
                  64.13,
                  -21.940556
                ],
                "parentId": "group#Iceland",
                "color": "#15AFAC",
                "styles": {},
                "label": "Reykjavik",
                "scale_factor": 1,
                "type": "#15AFAC",
                "size": [
                  55,
                  55
                ],
                "position": [
                  0,
                  0
                ]
              },
              {
                "id": "OSL",
                "properties": {
                  "label": "Oslo",
                  "passengers": 9000000,
                  "country": "Norway"
                },
                "coordinates": [
                  60.193917,
                  11.100361
                ],
                "parentId": "group#Norway",
                "color": "#15AFAC",
                "styles": {},
                "label": "Oslo",
                "scale_factor": 1,
                "type": "#15AFAC",
                "size": [
                  55,
                  55
                ],
                "position": [
                  0,
                  0
                ]
              },
              {
                "id": "VIE",
                "properties": {
                  "label": "Vienna",
                  "passengers": 10000000,
                  "country": "Austria"
                },
                "coordinates": [
                  48.110833,
                  16.570833
                ],
                "parentId": "group#Austria",
                "color": "#15AFAC",
                "styles": {},
                "label": "Vienna",
                "scale_factor": 1,
                "type": "#15AFAC",
                "size": [
                  55,
                  55
                ],
                "position": [
                  0,
                  0
                ]
              },
              {
                "id": "LIS",
                "properties": {
                  "label": "Lisbon",
                  "passengers": 28000000,
                  "country": "Portugal"
                },
                "coordinates": [
                  38.774167,
                  -9.134167
                ],
                "parentId": "group#Portugal",
                "color": "#15AFAC",
                "styles": {},
                "label": "Lisbon",
                "scale_factor": 1,
                "type": "#15AFAC",
                "size": [
                  55,
                  55
                ],
                "position": [
                  0,
                  0
                ]
              },
              {
                "id": "ARN",
                "properties": {
                  "label": "Stockholm",
                  "passengers": 7000000,
                  "country": "Sweden"
                },
                "coordinates": [
                  59.651944,
                  17.918611
                ],
                "parentId": "group#Sweden",
                "color": "#15AFAC",
                "styles": {},
                "label": "Stockholm",
                "scale_factor": 1,
                "type": "#15AFAC",
                "size": [
                  55,
                  55
                ],
                "position": [
                  0,
                  0
                ]
              },
              {
                "id": "EDI",
                "properties": {
                  "label": "Edinburgh",
                  "passengers": 14000000,
                  "country": "UK"
                },
                "coordinates": [
                  55.95,
                  -3.3725
                ],
                "parentId": "group#UK",
                "color": "#15AFAC",
                "styles": {},
                "label": "Edinburgh",
                "scale_factor": 1,
                "type": "#15AFAC",
                "size": [
                  55,
                  55
                ],
                "position": [
                  0,
                  0
                ]
              },
              {
                "id": "ORD",
                "properties": {
                  "label": "Chicago",
                  "passengers": 54000000,
                  "country": "USA"
                },
                "coordinates": [
                  41.978603,
                  -87.904842
                ],
                "parentId": "group#USA",
                "color": "#15AFAC",
                "styles": {},
                "label": "Chicago",
                "scale_factor": 1,
                "type": "#15AFAC",
                "size": [
                  55,
                  55
                ],
                "position": [
                  0,
                  0
                ]
              },
              {
                "id": "DFW",
                "properties": {
                  "label": "Dallas",
                  "passengers": 73000000,
                  "country": "USA"
                },
                "coordinates": [
                  32.896828,
                  -97.037997
                ],
                "parentId": "group#USA",
                "color": "#15AFAC",
                "styles": {},
                "label": "Dallas",
                "scale_factor": 1,
                "type": "#15AFAC",
                "size": [
                  55,
                  55
                ],
                "position": [
                  0,
                  0
                ]
              },
              {
                "id": "SFO",
                "properties": {
                  "label": "San Francisco",
                  "passengers": 42000000,
                  "country": "USA"
                },
                "coordinates": [
                  37.618972,
                  -122.374889
                ],
                "parentId": "group#USA",
                "color": "#15AFAC",
                "styles": {},
                "label": "San Francisco",
                "scale_factor": 1,
                "type": "#15AFAC",
                "size": [
                  55,
                  55
                ],
                "position": [
                  0,
                  0
                ]
              },
              {
                "id": "LAS",
                "properties": {
                  "label": "Las Vegas",
                  "passengers": 52000000,
                  "country": "USA"
                },
                "coordinates": [
                  36.080056,
                  -115.15225
                ],
                "parentId": "group#USA",
                "color": "#15AFAC",
                "styles": {},
                "label": "Las Vegas",
                "scale_factor": 1,
                "type": "#15AFAC",
                "size": [
                  55,
                  55
                ],
                "position": [
                  0,
                  0
                ]
              },
              {
                "id": "MIA",
                "properties": {
                  "label": "Miami",
                  "passengers": 50000000,
                  "country": "USA"
                },
                "coordinates": [
                  25.79325,
                  -80.290556
                ],
                "parentId": "group#USA",
                "color": "#15AFAC",
                "styles": {},
                "label": "Miami",
                "scale_factor": 1,
                "type": "#15AFAC",
                "size": [
                  55,
                  55
                ],
                "position": [
                  0,
                  0
                ]
              },
              {
                "id": "YYZ",
                "properties": {
                  "label": "Toronto",
                  "passengers": 12000000,
                  "country": "Canada"
                },
                "coordinates": [
                  43.677222,
                  -79.630556
                ],
                "parentId": "group#Canada",
                "color": "#15AFAC",
                "styles": {},
                "label": "Toronto",
                "scale_factor": 1,
                "type": "#15AFAC",
                "size": [
                  55,
                  55
                ],
                "position": [
                  0,
                  0
                ]
              },
              {
                "id": "YVR",
                "properties": {
                  "label": "Vancouver",
                  "passengers": 19000000,
                  "country": "Canada"
                },
                "coordinates": [
                  49.193889,
                  -123.184444
                ],
                "parentId": "group#Canada",
                "color": "#15AFAC",
                "styles": {},
                "label": "Vancouver",
                "scale_factor": 1,
                "type": "#15AFAC",
                "size": [
                  55,
                  55
                ],
                "position": [
                  0,
                  0
                ]
              },
              {
                "id": "YUL",
                "properties": {
                  "label": "Montreal",
                  "passengers": 15000000,
                  "country": "Canada"
                },
                "coordinates": [
                  45.47175,
                  -73.736569
                ],
                "parentId": "group#Canada",
                "color": "#15AFAC",
                "styles": {},
                "label": "Montreal",
                "scale_factor": 1,
                "type": "#15AFAC",
                "size": [
                  55,
                  55
                ],
                "position": [
                  0,
                  0
                ]
              },
              {
                "id": "MEX",
                "properties": {
                  "label": "Mexico-City",
                  "passengers": 46000000,
                  "country": "Mexico"
                },
                "coordinates": [
                  19.436303,
                  -99.072097
                ],
                "parentId": "group#Mexico",
                "color": "#15AFAC",
                "styles": {},
                "label": "Mexico-City",
                "scale_factor": 1,
                "type": "#15AFAC",
                "size": [
                  55,
                  55
                ],
                "position": [
                  0,
                  0
                ]
              },
              {
                "id": "GUA",
                "properties": {
                  "label": "Guatemala-City",
                  "passengers": 2000000,
                  "country": "Guatemala"
                },
                "coordinates": [
                  14.583272,
                  -90.527475
                ],
                "parentId": "group#Guatemala",
                "color": "#15AFAC",
                "styles": {},
                "label": "Guatemala-City",
                "scale_factor": 1,
                "type": "#15AFAC",
                "size": [
                  55,
                  55
                ],
                "position": [
                  0,
                  0
                ]
              },
              {
                "id": "EZE",
                "properties": {
                  "label": "Buenos Aires",
                  "passengers": 5000000,
                  "country": "Argentina"
                },
                "coordinates": [
                  -34.822222,
                  -58.535833
                ],
                "parentId": "group#Argentina",
                "color": "#15AFAC",
                "styles": {},
                "label": "Buenos Aires",
                "scale_factor": 1,
                "type": "#15AFAC",
                "size": [
                  55,
                  55
                ],
                "position": [
                  0,
                  0
                ]
              },
              {
                "id": "GRU",
                "properties": {
                  "label": "Sao Paulo",
                  "passengers": 34000000,
                  "country": "Brazil"
                },
                "coordinates": [
                  -23.432075,
                  -46.469511
                ],
                "parentId": "group#Brazil",
                "color": "#15AFAC",
                "styles": {},
                "label": "Sao Paulo",
                "scale_factor": 1,
                "type": "#15AFAC",
                "size": [
                  55,
                  55
                ],
                "position": [
                  0,
                  0
                ]
              },
              {
                "id": "SCL",
                "properties": {
                  "label": "Santiago de Chile",
                  "passengers": 20000000,
                  "country": "Chile"
                },
                "coordinates": [
                  -33.392975,
                  -70.785803
                ],
                "parentId": "group#Chile",
                "color": "#15AFAC",
                "styles": {},
                "label": "Santiago de Chile",
                "scale_factor": 1,
                "type": "#15AFAC",
                "size": [
                  55,
                  55
                ],
                "position": [
                  0,
                  0
                ]
              },
              {
                "id": "BSB",
                "properties": {
                  "label": "Brasilia",
                  "passengers": 13000000,
                  "country": "Brazil"
                },
                "coordinates": [
                  -15.871111,
                  -47.918611
                ],
                "parentId": "group#Brazil",
                "color": "#15AFAC",
                "styles": {},
                "label": "Brasilia",
                "scale_factor": 1,
                "type": "#15AFAC",
                "size": [
                  55,
                  55
                ],
                "position": [
                  0,
                  0
                ]
              },
              {
                "id": "BOG",
                "properties": {
                  "label": "Bogota",
                  "passengers": 36000000,
                  "country": "Colombia"
                },
                "coordinates": [
                  4.701594,
                  -74.146947
                ],
                "parentId": "group#Colombia",
                "color": "#15AFAC",
                "styles": {},
                "label": "Bogota",
                "scale_factor": 1,
                "type": "#15AFAC",
                "size": [
                  55,
                  55
                ],
                "position": [
                  0,
                  0
                ]
              },
              {
                "id": "CCS",
                "properties": {
                  "label": "Caracas",
                  "passengers": 8000000,
                  "country": "Venezuela"
                },
                "coordinates": [
                  10.601194,
                  -66.991222
                ],
                "parentId": "group#Venezuela",
                "color": "#15AFAC",
                "styles": {},
                "label": "Caracas",
                "scale_factor": 1,
                "type": "#15AFAC",
                "size": [
                  55,
                  55
                ],
                "position": [
                  0,
                  0
                ]
              }
            ],
            "_overview": {
              "enabled": null,
              "overview_set": false
            },
            "_selected_graph": [
              [],
              []
            ],
            "_sidebar": {
              "enabled": true,
              "start_with": ""
            },
            "_view_count": null,
            "_view_module": "yfiles-jupyter-graphs",
            "_view_module_version": "^1.8.0",
            "_view_name": "GraphView",
            "layout": "IPY_MODEL_bd2bd71680f54a4abfba44ed9e772cdc",
            "tabbable": null,
            "tooltip": null
          }
        },
        "bd2bd71680f54a4abfba44ed9e772cdc": {
          "model_module": "@jupyter-widgets/base",
          "model_name": "LayoutModel",
          "model_module_version": "2.0.0",
          "state": {
            "_model_module": "@jupyter-widgets/base",
            "_model_module_version": "2.0.0",
            "_model_name": "LayoutModel",
            "_view_count": null,
            "_view_module": "@jupyter-widgets/base",
            "_view_module_version": "2.0.0",
            "_view_name": "LayoutView",
            "align_content": null,
            "align_items": null,
            "align_self": null,
            "border_bottom": null,
            "border_left": null,
            "border_right": null,
            "border_top": null,
            "bottom": null,
            "display": null,
            "flex": null,
            "flex_flow": null,
            "grid_area": null,
            "grid_auto_columns": null,
            "grid_auto_flow": null,
            "grid_auto_rows": null,
            "grid_column": null,
            "grid_gap": null,
            "grid_row": null,
            "grid_template_areas": null,
            "grid_template_columns": null,
            "grid_template_rows": null,
            "height": "800px",
            "justify_content": null,
            "justify_items": null,
            "left": null,
            "margin": null,
            "max_height": null,
            "max_width": null,
            "min_height": null,
            "min_width": null,
            "object_fit": null,
            "object_position": null,
            "order": null,
            "overflow": null,
            "padding": null,
            "right": null,
            "top": null,
            "visibility": null,
            "width": "100%"
          }
        },
        "fe2b917fff2243fa825b735a47a6a190": {
          "model_module": "yfiles-jupyter-graphs",
          "model_name": "GraphModel",
          "model_module_version": "^1.8.0",
          "state": {
            "_context_pane_mapping": [
              {
                "id": "Neighborhood",
                "title": "Neighborhood"
              },
              {
                "id": "Data",
                "title": "Data"
              },
              {
                "id": "Search",
                "title": "Search"
              },
              {
                "id": "About",
                "title": "About"
              }
            ],
            "_data_importer": "pandas",
            "_directed": true,
            "_dom_classes": [],
            "_edges": [
              {
                "id": 0,
                "start": "Node 0",
                "end": "Node 3",
                "properties": {
                  "label": "Row 0",
                  "age": 31,
                  "color": "red"
                },
                "label": "Row 0",
                "color": "#15AFAC",
                "thickness_factor": 1,
                "directed": true
              },
              {
                "id": 1,
                "start": "Node 0",
                "end": "Node 4",
                "properties": {
                  "label": "Row 1",
                  "age": 56,
                  "color": "blue"
                },
                "label": "Row 1",
                "color": "#15AFAC",
                "thickness_factor": 1,
                "directed": true
              },
              {
                "id": 2,
                "start": "Node 1",
                "end": "Node 4",
                "properties": {
                  "label": "Row 2",
                  "age": 27,
                  "color": "green"
                },
                "label": "Row 2",
                "color": "#15AFAC",
                "thickness_factor": 1,
                "directed": true
              },
              {
                "id": 3,
                "start": "Node 2",
                "end": "Node 5",
                "properties": {
                  "label": "Row 3",
                  "age": 43,
                  "color": "orange"
                },
                "label": "Row 3",
                "color": "#15AFAC",
                "thickness_factor": 1,
                "directed": true
              },
              {
                "id": 4,
                "start": "Node 2",
                "end": "Node 6",
                "properties": {
                  "label": "Row 4",
                  "age": 19,
                  "color": "purple"
                },
                "label": "Row 4",
                "color": "#15AFAC",
                "thickness_factor": 1,
                "directed": true
              },
              {
                "id": 5,
                "start": "Node 2",
                "end": "Node 7",
                "properties": {
                  "label": "Row 5",
                  "age": 84,
                  "color": "yellow"
                },
                "label": "Row 5",
                "color": "#15AFAC",
                "thickness_factor": 1,
                "directed": true
              },
              {
                "id": 6,
                "start": "Node 3",
                "end": "Node 8",
                "properties": {
                  "label": "Row 6",
                  "age": 38,
                  "color": "grey"
                },
                "label": "Row 6",
                "color": "#15AFAC",
                "thickness_factor": 1,
                "directed": true
              },
              {
                "id": 7,
                "start": "Node 3",
                "end": "Node 9",
                "properties": {
                  "label": "Row 7",
                  "age": 70,
                  "color": "pink"
                },
                "label": "Row 7",
                "color": "#15AFAC",
                "thickness_factor": 1,
                "directed": true
              },
              {
                "id": 8,
                "start": "Node 4",
                "end": "Node 6",
                "properties": {
                  "label": "Row 8",
                  "age": 5,
                  "color": "black"
                },
                "label": "Row 8",
                "color": "#15AFAC",
                "thickness_factor": 1,
                "directed": true
              },
              {
                "id": 9,
                "start": "Node 5",
                "end": "Node 6",
                "properties": {
                  "label": "Row 9",
                  "age": 92,
                  "color": "brown"
                },
                "label": "Row 9",
                "color": "#15AFAC",
                "thickness_factor": 1,
                "directed": true
              }
            ],
            "_graph_layout": {},
            "_highlight": [],
            "_license": {},
            "_model_module": "yfiles-jupyter-graphs",
            "_model_module_version": "^1.8.0",
            "_model_name": "GraphModel",
            "_neighborhood": {},
            "_nodes": [
              {
                "id": "Node 0",
                "properties": {
                  "label": "Node 0"
                },
                "color": "#15AFAC",
                "styles": {},
                "label": "Node 0",
                "scale_factor": 1,
                "type": "#15AFAC",
                "size": [
                  55,
                  55
                ],
                "position": [
                  0,
                  0
                ]
              },
              {
                "id": "Node 3",
                "properties": {
                  "label": "Node 3"
                },
                "color": "#15AFAC",
                "styles": {},
                "label": "Node 3",
                "scale_factor": 1,
                "type": "#15AFAC",
                "size": [
                  55,
                  55
                ],
                "position": [
                  0,
                  0
                ]
              },
              {
                "id": "Node 4",
                "properties": {
                  "label": "Node 4"
                },
                "color": "#15AFAC",
                "styles": {},
                "label": "Node 4",
                "scale_factor": 1,
                "type": "#15AFAC",
                "size": [
                  55,
                  55
                ],
                "position": [
                  0,
                  0
                ]
              },
              {
                "id": "Node 1",
                "properties": {
                  "label": "Node 1"
                },
                "color": "#15AFAC",
                "styles": {},
                "label": "Node 1",
                "scale_factor": 1,
                "type": "#15AFAC",
                "size": [
                  55,
                  55
                ],
                "position": [
                  0,
                  0
                ]
              },
              {
                "id": "Node 2",
                "properties": {
                  "label": "Node 2"
                },
                "color": "#15AFAC",
                "styles": {},
                "label": "Node 2",
                "scale_factor": 1,
                "type": "#15AFAC",
                "size": [
                  55,
                  55
                ],
                "position": [
                  0,
                  0
                ]
              },
              {
                "id": "Node 5",
                "properties": {
                  "label": "Node 5"
                },
                "color": "#15AFAC",
                "styles": {},
                "label": "Node 5",
                "scale_factor": 1,
                "type": "#15AFAC",
                "size": [
                  55,
                  55
                ],
                "position": [
                  0,
                  0
                ]
              },
              {
                "id": "Node 6",
                "properties": {
                  "label": "Node 6"
                },
                "color": "#15AFAC",
                "styles": {},
                "label": "Node 6",
                "scale_factor": 1,
                "type": "#15AFAC",
                "size": [
                  55,
                  55
                ],
                "position": [
                  0,
                  0
                ]
              },
              {
                "id": "Node 7",
                "properties": {
                  "label": "Node 7"
                },
                "color": "#15AFAC",
                "styles": {},
                "label": "Node 7",
                "scale_factor": 1,
                "type": "#15AFAC",
                "size": [
                  55,
                  55
                ],
                "position": [
                  0,
                  0
                ]
              },
              {
                "id": "Node 8",
                "properties": {
                  "label": "Node 8"
                },
                "color": "#15AFAC",
                "styles": {},
                "label": "Node 8",
                "scale_factor": 1,
                "type": "#15AFAC",
                "size": [
                  55,
                  55
                ],
                "position": [
                  0,
                  0
                ]
              },
              {
                "id": "Node 9",
                "properties": {
                  "label": "Node 9"
                },
                "color": "#15AFAC",
                "styles": {},
                "label": "Node 9",
                "scale_factor": 1,
                "type": "#15AFAC",
                "size": [
                  55,
                  55
                ],
                "position": [
                  0,
                  0
                ]
              }
            ],
            "_overview": {
              "enabled": null,
              "overview_set": false
            },
            "_selected_graph": [
              [],
              []
            ],
            "_sidebar": {
              "enabled": false,
              "start_with": null
            },
            "_view_count": null,
            "_view_module": "yfiles-jupyter-graphs",
            "_view_module_version": "^1.8.0",
            "_view_name": "GraphView",
            "layout": "IPY_MODEL_2f073825655a43688949567ccdde64f6",
            "tabbable": null,
            "tooltip": null
          }
        },
        "2f073825655a43688949567ccdde64f6": {
          "model_module": "@jupyter-widgets/base",
          "model_name": "LayoutModel",
          "model_module_version": "2.0.0",
          "state": {
            "_model_module": "@jupyter-widgets/base",
            "_model_module_version": "2.0.0",
            "_model_name": "LayoutModel",
            "_view_count": null,
            "_view_module": "@jupyter-widgets/base",
            "_view_module_version": "2.0.0",
            "_view_name": "LayoutView",
            "align_content": null,
            "align_items": null,
            "align_self": null,
            "border_bottom": null,
            "border_left": null,
            "border_right": null,
            "border_top": null,
            "bottom": null,
            "display": null,
            "flex": null,
            "flex_flow": null,
            "grid_area": null,
            "grid_auto_columns": null,
            "grid_auto_flow": null,
            "grid_auto_rows": null,
            "grid_column": null,
            "grid_gap": null,
            "grid_row": null,
            "grid_template_areas": null,
            "grid_template_columns": null,
            "grid_template_rows": null,
            "height": "500px",
            "justify_content": null,
            "justify_items": null,
            "left": null,
            "margin": null,
            "max_height": null,
            "max_width": null,
            "min_height": null,
            "min_width": null,
            "object_fit": null,
            "object_position": null,
            "order": null,
            "overflow": null,
            "padding": null,
            "right": null,
            "top": null,
            "visibility": null,
            "width": "100%"
          }
        },
        "state": {}
      }
    },
    "colab": {
      "provenance": []
    }
  },
  "nbformat": 4,
  "nbformat_minor": 5
}