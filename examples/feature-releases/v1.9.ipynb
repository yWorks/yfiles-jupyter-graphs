{
  "cells": [
    {
      "cell_type": "markdown",
      "id": "4fba42bb-4dc4-44ce-bc12-bd2ca942c95f",
      "metadata": {
        "id": "4fba42bb-4dc4-44ce-bc12-bd2ca942c95f"
      },
      "source": [
        "# yFiles Graphs for Jupyter v1.9 <a target=\"_blank\" href=\"https://colab.research.google.com/github/yWorks/yfiles-jupyter-graphs/blob/main/examples/feature-releases/v1.9.ipynb\"><img src=\"https://colab.research.google.com/assets/colab-badge.svg\" alt=\"Open In Colab\"/></a>\n",
        "\n",
        "Before using the graph widget, install all necessary packages and initialize your widget."
      ]
    },
    {
      "cell_type": "code",
      "execution_count": 1,
      "id": "e3d2ef93-7793-4a32-b3d6-e1b31cb54846",
      "metadata": {
        "id": "e3d2ef93-7793-4a32-b3d6-e1b31cb54846",
        "outputId": "6d268a5a-48f3-4f9c-e035-86cc18a4ae4c",
        "colab": {
          "base_uri": "https://localhost:8080/"
        }
      },
      "outputs": [
        {
          "output_type": "stream",
          "name": "stdout",
          "text": [
            "\u001b[2K   \u001b[90m\u2501\u2501\u2501\u2501\u2501\u2501\u2501\u2501\u2501\u2501\u2501\u2501\u2501\u2501\u2501\u2501\u2501\u2501\u2501\u2501\u2501\u2501\u2501\u2501\u2501\u2501\u2501\u2501\u2501\u2501\u2501\u2501\u2501\u2501\u2501\u2501\u2501\u2501\u2501\u2501\u001b[0m \u001b[32m15.5/15.5 MB\u001b[0m \u001b[31m19.0 MB/s\u001b[0m eta \u001b[36m0:00:00\u001b[0m\n",
            "\u001b[2K   \u001b[90m\u2501\u2501\u2501\u2501\u2501\u2501\u2501\u2501\u2501\u2501\u2501\u2501\u2501\u2501\u2501\u2501\u2501\u2501\u2501\u2501\u2501\u2501\u2501\u2501\u2501\u2501\u2501\u2501\u2501\u2501\u2501\u2501\u2501\u2501\u2501\u2501\u2501\u2501\u2501\u2501\u001b[0m \u001b[32m139.8/139.8 kB\u001b[0m \u001b[31m5.6 MB/s\u001b[0m eta \u001b[36m0:00:00\u001b[0m\n",
            "\u001b[2K   \u001b[90m\u2501\u2501\u2501\u2501\u2501\u2501\u2501\u2501\u2501\u2501\u2501\u2501\u2501\u2501\u2501\u2501\u2501\u2501\u2501\u2501\u2501\u2501\u2501\u2501\u2501\u2501\u2501\u2501\u2501\u2501\u2501\u2501\u2501\u2501\u2501\u2501\u2501\u2501\u2501\u2501\u001b[0m \u001b[32m2.3/2.3 MB\u001b[0m \u001b[31m16.8 MB/s\u001b[0m eta \u001b[36m0:00:00\u001b[0m\n",
            "\u001b[2K   \u001b[90m\u2501\u2501\u2501\u2501\u2501\u2501\u2501\u2501\u2501\u2501\u2501\u2501\u2501\u2501\u2501\u2501\u2501\u2501\u2501\u2501\u2501\u2501\u2501\u2501\u2501\u2501\u2501\u2501\u2501\u2501\u2501\u2501\u2501\u2501\u2501\u2501\u2501\u2501\u2501\u2501\u001b[0m \u001b[32m1.6/1.6 MB\u001b[0m \u001b[31m13.2 MB/s\u001b[0m eta \u001b[36m0:00:00\u001b[0m\n",
            "\u001b[?25h"
          ]
        }
      ],
      "source": [
        "%pip install yfiles_jupyter_graphs --quiet\n",
        "from yfiles_jupyter_graphs import GraphWidget\n",
        "\n",
        "# sample graph for this notebook\n",
        "%pip install networkx --quiet\n",
        "from networkx import florentine_families_graph"
      ]
    },
    {
      "cell_type": "markdown",
      "id": "37116e66-b781-458f-8983-d6d613d4002f",
      "metadata": {
        "id": "37116e66-b781-458f-8983-d6d613d4002f"
      },
      "source": [
        "You can also open this notebook in Google Colab when Google Colab's custom widget manager is enabled:"
      ]
    },
    {
      "cell_type": "code",
      "execution_count": 2,
      "id": "e971e703-1a83-432b-a7f5-c3a9c62c5afd",
      "metadata": {
        "id": "e971e703-1a83-432b-a7f5-c3a9c62c5afd"
      },
      "outputs": [],
      "source": [
        "try:\n",
        "  import google.colab\n",
        "  from google.colab import output\n",
        "  output.enable_custom_widget_manager()\n",
        "except:\n",
        "  pass"
      ]
    },
    {
      "cell_type": "markdown",
      "id": "d8a0a973-6626-4f88-9d90-425785af20fd",
      "metadata": {
        "id": "d8a0a973-6626-4f88-9d90-425785af20fd"
      },
      "source": [
        "<a target=\"_blank\" href=\"https://colab.research.google.com/github/yWorks/yfiles-jupyter-graphs/blob/main/examples/feature-releases/v1.9.ipynb\"><img src=\"https://colab.research.google.com/assets/colab-badge.svg\" alt=\"Open In Colab\"/></a>"
      ]
    },
    {
      "cell_type": "markdown",
      "id": "29e0f82c-2662-4130-92f9-c2660e42b5b5",
      "metadata": {
        "id": "29e0f82c-2662-4130-92f9-c2660e42b5b5"
      },
      "source": [
        "# Changelog\n",
        "\n",
        "## New features\n",
        "* Support a configurable node-to-cell mapping that is considered by the automatic layout algorithms such that nodes are placed in the given grid cell. Typical use cases may be to highlight a critical path structurally by aligning these nodes in a row/column.\n",
        "* Added `circular_straight_line` as new layout option that creates a circular layout with straight connections, instead of the bundled connections of the existing `circular` layout.\n",
        "\n",
        "## Improvements\n",
        "* Adjusted the interactive organic layout settings to make the result more airy.\n",
        "* Saved the executed Google Colab state in the example notebooks such that the widget can be tried without executing the notebook in Google Colab.\n",
        "\n",
        "## Bugfixes\n",
        "* Fixed interactive organic failing when used multiple times in separate widgets in the same notebook.\n",
        "* Fixed widget resizing issue after switching from map-view to the normal graph view."
      ]
    },
    {
      "cell_type": "markdown",
      "id": "76b5303d-66f7-4476-b6bb-268889721efa",
      "metadata": {
        "id": "76b5303d-66f7-4476-b6bb-268889721efa"
      },
      "source": [
        "# Node-cell mapping\n",
        "\n",
        "The new `node_cell` mapping allows to assign specific cells for nodes. This information is considered by the automatic layout algorithms and helps to fine-tune the result, for example to highlight specific structures of the graph or to convey critical information."
      ]
    },
    {
      "cell_type": "code",
      "execution_count": 3,
      "id": "0181b651-b887-4372-9d44-192f7e291f22",
      "metadata": {
        "id": "0181b651-b887-4372-9d44-192f7e291f22",
        "outputId": "779e0126-a8ca-4ea5-9e72-b41cce4df1ed",
        "colab": {
          "base_uri": "https://localhost:8080/",
          "height": 667,
          "referenced_widgets": [
            "cec8e1e86f6040e7a779a63eb9d50750",
            "ed407535eb9b4cd58468be42727fce9c"
          ]
        }
      },
      "outputs": [
        {
          "output_type": "display_data",
          "data": {
            "text/plain": [
              "GraphWidget(layout=Layout(height='650px', width='100%'))"
            ],
            "application/vnd.jupyter.widget-view+json": {
              "version_major": 2,
              "version_minor": 0,
              "model_id": "cec8e1e86f6040e7a779a63eb9d50750"
            }
          },
          "metadata": {
            "application/vnd.jupyter.widget-view+json": {
              "colab": {
                "custom_widget_manager": {
                  "url": "https://ssl.gstatic.com/colaboratory-static/widgets/colab-cdn-widget-manager/2b70e893a8ba7c0f/manager.min.js"
                }
              }
            }
          }
        }
      ],
      "source": [
        "w = GraphWidget(graph=florentine_families_graph())\n",
        "\n",
        "# highlight Medici marriage line\n",
        "medici_line = [\"Acciaiuoli\", \"Medici\", \"Albizzi\", \"Guadagni\", \"Lamberteschi\"]\n",
        "w.node_color_mapping = lambda node: \"#FF5722\" if node[\"properties\"][\"label\"] in medici_line else \"#78909C\"\n",
        "\n",
        "# separate the Medici marriage line from the other families in the graph\n",
        "def node_to_cell_mapping(node):\n",
        "    family = node[\"properties\"][\"label\"]\n",
        "    return (0, 0) if family in medici_line else (0, 2)\n",
        "\n",
        "w.node_cell_mapping = node_to_cell_mapping\n",
        "w.hierarchic_layout()\n",
        "display(w)"
      ]
    },
    {
      "cell_type": "markdown",
      "id": "86f0af76-445c-4486-acd0-8a58a19670a9",
      "metadata": {
        "id": "86f0af76-445c-4486-acd0-8a58a19670a9"
      },
      "source": [
        "# New `circular_straight_line` layout option"
      ]
    },
    {
      "cell_type": "code",
      "execution_count": 4,
      "id": "5cdbeb2a-d7bf-41ec-a63e-859ebeda3156",
      "metadata": {
        "id": "5cdbeb2a-d7bf-41ec-a63e-859ebeda3156",
        "outputId": "d18c4f73-bde0-4f50-f98e-6c91158fa3bd",
        "colab": {
          "base_uri": "https://localhost:8080/",
          "height": 667,
          "referenced_widgets": [
            "de921cd86a1e42eba612944dc2e84415",
            "154a417c2ee84e25ab23fb598133b838"
          ]
        }
      },
      "outputs": [
        {
          "output_type": "display_data",
          "data": {
            "text/plain": [
              "GraphWidget(layout=Layout(height='650px', width='100%'))"
            ],
            "application/vnd.jupyter.widget-view+json": {
              "version_major": 2,
              "version_minor": 0,
              "model_id": "de921cd86a1e42eba612944dc2e84415"
            }
          },
          "metadata": {
            "application/vnd.jupyter.widget-view+json": {
              "colab": {
                "custom_widget_manager": {
                  "url": "https://ssl.gstatic.com/colaboratory-static/widgets/colab-cdn-widget-manager/2b70e893a8ba7c0f/manager.min.js"
                }
              }
            }
          }
        }
      ],
      "source": [
        "from networkx import florentine_families_graph\n",
        "\n",
        "w = GraphWidget(graph=florentine_families_graph())\n",
        "\n",
        "# configure a circular layout with straight, unbundled connections\n",
        "w.circular_straight_line_layout()\n",
        "\n",
        "display(w)"
      ]
    }
  ],
  "metadata": {
    "kernelspec": {
      "display_name": "Python 3 (ipykernel)",
      "language": "python",
      "name": "python3"
    },
    "language_info": {
      "codemirror_mode": {
        "name": "ipython",
        "version": 3
      },
      "file_extension": ".py",
      "mimetype": "text/x-python",
      "name": "python",
      "nbconvert_exporter": "python",
      "pygments_lexer": "ipython3",
      "version": "3.12.3"
    },
    "colab": {
      "provenance": []
    },
    "widgets": {
      "application/vnd.jupyter.widget-state+json": {
        "cec8e1e86f6040e7a779a63eb9d50750": {
          "model_module": "yfiles-jupyter-graphs",
          "model_name": "GraphModel",
          "model_module_version": "^1.9.0",
          "state": {
            "_context_pane_mapping": [
              {
                "id": "Neighborhood",
                "title": "Neighborhood"
              },
              {
                "id": "Data",
                "title": "Data"
              },
              {
                "id": "Search",
                "title": "Search"
              },
              {
                "id": "About",
                "title": "About"
              }
            ],
            "_data_importer": "networkx",
            "_directed": false,
            "_dom_classes": [],
            "_edges": [
              {
                "id": 0,
                "start": 0,
                "end": 1,
                "properties": {},
                "label": "",
                "color": "#15AFAC",
                "thickness_factor": 1,
                "directed": false
              },
              {
                "id": 1,
                "start": 1,
                "end": 5,
                "properties": {},
                "label": "",
                "color": "#15AFAC",
                "thickness_factor": 1,
                "directed": false
              },
              {
                "id": 2,
                "start": 1,
                "end": 6,
                "properties": {},
                "label": "",
                "color": "#15AFAC",
                "thickness_factor": 1,
                "directed": false
              },
              {
                "id": 3,
                "start": 1,
                "end": 7,
                "properties": {},
                "label": "",
                "color": "#15AFAC",
                "thickness_factor": 1,
                "directed": false
              },
              {
                "id": 4,
                "start": 1,
                "end": 8,
                "properties": {},
                "label": "",
                "color": "#15AFAC",
                "thickness_factor": 1,
                "directed": false
              },
              {
                "id": 5,
                "start": 1,
                "end": 9,
                "properties": {},
                "label": "",
                "color": "#15AFAC",
                "thickness_factor": 1,
                "directed": false
              },
              {
                "id": 6,
                "start": 2,
                "end": 3,
                "properties": {},
                "label": "",
                "color": "#15AFAC",
                "thickness_factor": 1,
                "directed": false
              },
              {
                "id": 7,
                "start": 2,
                "end": 4,
                "properties": {},
                "label": "",
                "color": "#15AFAC",
                "thickness_factor": 1,
                "directed": false
              },
              {
                "id": 8,
                "start": 2,
                "end": 5,
                "properties": {},
                "label": "",
                "color": "#15AFAC",
                "thickness_factor": 1,
                "directed": false
              },
              {
                "id": 9,
                "start": 3,
                "end": 4,
                "properties": {},
                "label": "",
                "color": "#15AFAC",
                "thickness_factor": 1,
                "directed": false
              },
              {
                "id": 10,
                "start": 3,
                "end": 11,
                "properties": {},
                "label": "",
                "color": "#15AFAC",
                "thickness_factor": 1,
                "directed": false
              },
              {
                "id": 11,
                "start": 4,
                "end": 6,
                "properties": {},
                "label": "",
                "color": "#15AFAC",
                "thickness_factor": 1,
                "directed": false
              },
              {
                "id": 12,
                "start": 4,
                "end": 11,
                "properties": {},
                "label": "",
                "color": "#15AFAC",
                "thickness_factor": 1,
                "directed": false
              },
              {
                "id": 13,
                "start": 6,
                "end": 7,
                "properties": {},
                "label": "",
                "color": "#15AFAC",
                "thickness_factor": 1,
                "directed": false
              },
              {
                "id": 14,
                "start": 7,
                "end": 12,
                "properties": {},
                "label": "",
                "color": "#15AFAC",
                "thickness_factor": 1,
                "directed": false
              },
              {
                "id": 15,
                "start": 8,
                "end": 13,
                "properties": {},
                "label": "",
                "color": "#15AFAC",
                "thickness_factor": 1,
                "directed": false
              },
              {
                "id": 16,
                "start": 8,
                "end": 12,
                "properties": {},
                "label": "",
                "color": "#15AFAC",
                "thickness_factor": 1,
                "directed": false
              },
              {
                "id": 17,
                "start": 9,
                "end": 10,
                "properties": {},
                "label": "",
                "color": "#15AFAC",
                "thickness_factor": 1,
                "directed": false
              },
              {
                "id": 18,
                "start": 11,
                "end": 12,
                "properties": {},
                "label": "",
                "color": "#15AFAC",
                "thickness_factor": 1,
                "directed": false
              },
              {
                "id": 19,
                "start": 12,
                "end": 14,
                "properties": {},
                "label": "",
                "color": "#15AFAC",
                "thickness_factor": 1,
                "directed": false
              }
            ],
            "_graph_layout": {
              "algorithm": "hierarchic",
              "options": {}
            },
            "_highlight": [],
            "_license": {},
            "_model_module": "yfiles-jupyter-graphs",
            "_model_module_version": "^1.9.0",
            "_model_name": "GraphModel",
            "_neighborhood": {},
            "_nodes": [
              {
                "id": 0,
                "properties": {
                  "label": "Acciaiuoli"
                },
                "color": "#FF5722",
                "styles": {},
                "label": "Acciaiuoli",
                "scale_factor": 1,
                "type": "#FF5722",
                "size": [
                  55,
                  55
                ],
                "position": [
                  0,
                  0
                ],
                "node_cell": [
                  0,
                  0
                ]
              },
              {
                "id": 1,
                "properties": {
                  "label": "Medici"
                },
                "color": "#FF5722",
                "styles": {},
                "label": "Medici",
                "scale_factor": 1,
                "type": "#FF5722",
                "size": [
                  55,
                  55
                ],
                "position": [
                  0,
                  0
                ],
                "node_cell": [
                  0,
                  0
                ]
              },
              {
                "id": 2,
                "properties": {
                  "label": "Castellani"
                },
                "color": "#78909C",
                "styles": {},
                "label": "Castellani",
                "scale_factor": 1,
                "type": "#78909C",
                "size": [
                  55,
                  55
                ],
                "position": [
                  0,
                  0
                ],
                "node_cell": [
                  0,
                  2
                ]
              },
              {
                "id": 3,
                "properties": {
                  "label": "Peruzzi"
                },
                "color": "#78909C",
                "styles": {},
                "label": "Peruzzi",
                "scale_factor": 1,
                "type": "#78909C",
                "size": [
                  55,
                  55
                ],
                "position": [
                  0,
                  0
                ],
                "node_cell": [
                  0,
                  2
                ]
              },
              {
                "id": 4,
                "properties": {
                  "label": "Strozzi"
                },
                "color": "#78909C",
                "styles": {},
                "label": "Strozzi",
                "scale_factor": 1,
                "type": "#78909C",
                "size": [
                  55,
                  55
                ],
                "position": [
                  0,
                  0
                ],
                "node_cell": [
                  0,
                  2
                ]
              },
              {
                "id": 5,
                "properties": {
                  "label": "Barbadori"
                },
                "color": "#78909C",
                "styles": {},
                "label": "Barbadori",
                "scale_factor": 1,
                "type": "#78909C",
                "size": [
                  55,
                  55
                ],
                "position": [
                  0,
                  0
                ],
                "node_cell": [
                  0,
                  2
                ]
              },
              {
                "id": 6,
                "properties": {
                  "label": "Ridolfi"
                },
                "color": "#78909C",
                "styles": {},
                "label": "Ridolfi",
                "scale_factor": 1,
                "type": "#78909C",
                "size": [
                  55,
                  55
                ],
                "position": [
                  0,
                  0
                ],
                "node_cell": [
                  0,
                  2
                ]
              },
              {
                "id": 7,
                "properties": {
                  "label": "Tornabuoni"
                },
                "color": "#78909C",
                "styles": {},
                "label": "Tornabuoni",
                "scale_factor": 1,
                "type": "#78909C",
                "size": [
                  55,
                  55
                ],
                "position": [
                  0,
                  0
                ],
                "node_cell": [
                  0,
                  2
                ]
              },
              {
                "id": 8,
                "properties": {
                  "label": "Albizzi"
                },
                "color": "#FF5722",
                "styles": {},
                "label": "Albizzi",
                "scale_factor": 1,
                "type": "#FF5722",
                "size": [
                  55,
                  55
                ],
                "position": [
                  0,
                  0
                ],
                "node_cell": [
                  0,
                  0
                ]
              },
              {
                "id": 9,
                "properties": {
                  "label": "Salviati"
                },
                "color": "#78909C",
                "styles": {},
                "label": "Salviati",
                "scale_factor": 1,
                "type": "#78909C",
                "size": [
                  55,
                  55
                ],
                "position": [
                  0,
                  0
                ],
                "node_cell": [
                  0,
                  2
                ]
              },
              {
                "id": 10,
                "properties": {
                  "label": "Pazzi"
                },
                "color": "#78909C",
                "styles": {},
                "label": "Pazzi",
                "scale_factor": 1,
                "type": "#78909C",
                "size": [
                  55,
                  55
                ],
                "position": [
                  0,
                  0
                ],
                "node_cell": [
                  0,
                  2
                ]
              },
              {
                "id": 11,
                "properties": {
                  "label": "Bischeri"
                },
                "color": "#78909C",
                "styles": {},
                "label": "Bischeri",
                "scale_factor": 1,
                "type": "#78909C",
                "size": [
                  55,
                  55
                ],
                "position": [
                  0,
                  0
                ],
                "node_cell": [
                  0,
                  2
                ]
              },
              {
                "id": 12,
                "properties": {
                  "label": "Guadagni"
                },
                "color": "#FF5722",
                "styles": {},
                "label": "Guadagni",
                "scale_factor": 1,
                "type": "#FF5722",
                "size": [
                  55,
                  55
                ],
                "position": [
                  0,
                  0
                ],
                "node_cell": [
                  0,
                  0
                ]
              },
              {
                "id": 13,
                "properties": {
                  "label": "Ginori"
                },
                "color": "#78909C",
                "styles": {},
                "label": "Ginori",
                "scale_factor": 1,
                "type": "#78909C",
                "size": [
                  55,
                  55
                ],
                "position": [
                  0,
                  0
                ],
                "node_cell": [
                  0,
                  2
                ]
              },
              {
                "id": 14,
                "properties": {
                  "label": "Lamberteschi"
                },
                "color": "#FF5722",
                "styles": {},
                "label": "Lamberteschi",
                "scale_factor": 1,
                "type": "#FF5722",
                "size": [
                  55,
                  55
                ],
                "position": [
                  0,
                  0
                ],
                "node_cell": [
                  0,
                  0
                ]
              }
            ],
            "_overview": {
              "enabled": null,
              "overview_set": false
            },
            "_selected_graph": [
              [],
              []
            ],
            "_sidebar": {
              "enabled": false,
              "start_with": null
            },
            "_view_count": null,
            "_view_module": "yfiles-jupyter-graphs",
            "_view_module_version": "^1.9.0",
            "_view_name": "GraphView",
            "layout": "IPY_MODEL_ed407535eb9b4cd58468be42727fce9c",
            "tabbable": null,
            "tooltip": null
          }
        },
        "ed407535eb9b4cd58468be42727fce9c": {
          "model_module": "@jupyter-widgets/base",
          "model_name": "LayoutModel",
          "model_module_version": "2.0.0",
          "state": {
            "_model_module": "@jupyter-widgets/base",
            "_model_module_version": "2.0.0",
            "_model_name": "LayoutModel",
            "_view_count": null,
            "_view_module": "@jupyter-widgets/base",
            "_view_module_version": "2.0.0",
            "_view_name": "LayoutView",
            "align_content": null,
            "align_items": null,
            "align_self": null,
            "border_bottom": null,
            "border_left": null,
            "border_right": null,
            "border_top": null,
            "bottom": null,
            "display": null,
            "flex": null,
            "flex_flow": null,
            "grid_area": null,
            "grid_auto_columns": null,
            "grid_auto_flow": null,
            "grid_auto_rows": null,
            "grid_column": null,
            "grid_gap": null,
            "grid_row": null,
            "grid_template_areas": null,
            "grid_template_columns": null,
            "grid_template_rows": null,
            "height": "650px",
            "justify_content": null,
            "justify_items": null,
            "left": null,
            "margin": null,
            "max_height": null,
            "max_width": null,
            "min_height": null,
            "min_width": null,
            "object_fit": null,
            "object_position": null,
            "order": null,
            "overflow": null,
            "padding": null,
            "right": null,
            "top": null,
            "visibility": null,
            "width": "100%"
          }
        },
        "de921cd86a1e42eba612944dc2e84415": {
          "model_module": "yfiles-jupyter-graphs",
          "model_name": "GraphModel",
          "model_module_version": "^1.9.0",
          "state": {
            "_context_pane_mapping": [
              {
                "id": "Neighborhood",
                "title": "Neighborhood"
              },
              {
                "id": "Data",
                "title": "Data"
              },
              {
                "id": "Search",
                "title": "Search"
              },
              {
                "id": "About",
                "title": "About"
              }
            ],
            "_data_importer": "networkx",
            "_directed": false,
            "_dom_classes": [],
            "_edges": [
              {
                "id": 0,
                "start": 0,
                "end": 1,
                "properties": {},
                "label": "",
                "color": "#15AFAC",
                "thickness_factor": 1,
                "directed": false
              },
              {
                "id": 1,
                "start": 1,
                "end": 5,
                "properties": {},
                "label": "",
                "color": "#15AFAC",
                "thickness_factor": 1,
                "directed": false
              },
              {
                "id": 2,
                "start": 1,
                "end": 6,
                "properties": {},
                "label": "",
                "color": "#15AFAC",
                "thickness_factor": 1,
                "directed": false
              },
              {
                "id": 3,
                "start": 1,
                "end": 7,
                "properties": {},
                "label": "",
                "color": "#15AFAC",
                "thickness_factor": 1,
                "directed": false
              },
              {
                "id": 4,
                "start": 1,
                "end": 8,
                "properties": {},
                "label": "",
                "color": "#15AFAC",
                "thickness_factor": 1,
                "directed": false
              },
              {
                "id": 5,
                "start": 1,
                "end": 9,
                "properties": {},
                "label": "",
                "color": "#15AFAC",
                "thickness_factor": 1,
                "directed": false
              },
              {
                "id": 6,
                "start": 2,
                "end": 3,
                "properties": {},
                "label": "",
                "color": "#15AFAC",
                "thickness_factor": 1,
                "directed": false
              },
              {
                "id": 7,
                "start": 2,
                "end": 4,
                "properties": {},
                "label": "",
                "color": "#15AFAC",
                "thickness_factor": 1,
                "directed": false
              },
              {
                "id": 8,
                "start": 2,
                "end": 5,
                "properties": {},
                "label": "",
                "color": "#15AFAC",
                "thickness_factor": 1,
                "directed": false
              },
              {
                "id": 9,
                "start": 3,
                "end": 4,
                "properties": {},
                "label": "",
                "color": "#15AFAC",
                "thickness_factor": 1,
                "directed": false
              },
              {
                "id": 10,
                "start": 3,
                "end": 11,
                "properties": {},
                "label": "",
                "color": "#15AFAC",
                "thickness_factor": 1,
                "directed": false
              },
              {
                "id": 11,
                "start": 4,
                "end": 6,
                "properties": {},
                "label": "",
                "color": "#15AFAC",
                "thickness_factor": 1,
                "directed": false
              },
              {
                "id": 12,
                "start": 4,
                "end": 11,
                "properties": {},
                "label": "",
                "color": "#15AFAC",
                "thickness_factor": 1,
                "directed": false
              },
              {
                "id": 13,
                "start": 6,
                "end": 7,
                "properties": {},
                "label": "",
                "color": "#15AFAC",
                "thickness_factor": 1,
                "directed": false
              },
              {
                "id": 14,
                "start": 7,
                "end": 12,
                "properties": {},
                "label": "",
                "color": "#15AFAC",
                "thickness_factor": 1,
                "directed": false
              },
              {
                "id": 15,
                "start": 8,
                "end": 13,
                "properties": {},
                "label": "",
                "color": "#15AFAC",
                "thickness_factor": 1,
                "directed": false
              },
              {
                "id": 16,
                "start": 8,
                "end": 12,
                "properties": {},
                "label": "",
                "color": "#15AFAC",
                "thickness_factor": 1,
                "directed": false
              },
              {
                "id": 17,
                "start": 9,
                "end": 10,
                "properties": {},
                "label": "",
                "color": "#15AFAC",
                "thickness_factor": 1,
                "directed": false
              },
              {
                "id": 18,
                "start": 11,
                "end": 12,
                "properties": {},
                "label": "",
                "color": "#15AFAC",
                "thickness_factor": 1,
                "directed": false
              },
              {
                "id": 19,
                "start": 12,
                "end": 14,
                "properties": {},
                "label": "",
                "color": "#15AFAC",
                "thickness_factor": 1,
                "directed": false
              }
            ],
            "_graph_layout": {
              "algorithm": "circular_straight_line",
              "options": {}
            },
            "_highlight": [],
            "_license": {},
            "_model_module": "yfiles-jupyter-graphs",
            "_model_module_version": "^1.9.0",
            "_model_name": "GraphModel",
            "_neighborhood": {},
            "_nodes": [
              {
                "id": 0,
                "properties": {
                  "label": "Acciaiuoli"
                },
                "color": "#15AFAC",
                "styles": {},
                "label": "Acciaiuoli",
                "scale_factor": 1,
                "type": "#15AFAC",
                "size": [
                  55,
                  55
                ],
                "position": [
                  0,
                  0
                ]
              },
              {
                "id": 1,
                "properties": {
                  "label": "Medici"
                },
                "color": "#15AFAC",
                "styles": {},
                "label": "Medici",
                "scale_factor": 1,
                "type": "#15AFAC",
                "size": [
                  55,
                  55
                ],
                "position": [
                  0,
                  0
                ]
              },
              {
                "id": 2,
                "properties": {
                  "label": "Castellani"
                },
                "color": "#15AFAC",
                "styles": {},
                "label": "Castellani",
                "scale_factor": 1,
                "type": "#15AFAC",
                "size": [
                  55,
                  55
                ],
                "position": [
                  0,
                  0
                ]
              },
              {
                "id": 3,
                "properties": {
                  "label": "Peruzzi"
                },
                "color": "#15AFAC",
                "styles": {},
                "label": "Peruzzi",
                "scale_factor": 1,
                "type": "#15AFAC",
                "size": [
                  55,
                  55
                ],
                "position": [
                  0,
                  0
                ]
              },
              {
                "id": 4,
                "properties": {
                  "label": "Strozzi"
                },
                "color": "#15AFAC",
                "styles": {},
                "label": "Strozzi",
                "scale_factor": 1,
                "type": "#15AFAC",
                "size": [
                  55,
                  55
                ],
                "position": [
                  0,
                  0
                ]
              },
              {
                "id": 5,
                "properties": {
                  "label": "Barbadori"
                },
                "color": "#15AFAC",
                "styles": {},
                "label": "Barbadori",
                "scale_factor": 1,
                "type": "#15AFAC",
                "size": [
                  55,
                  55
                ],
                "position": [
                  0,
                  0
                ]
              },
              {
                "id": 6,
                "properties": {
                  "label": "Ridolfi"
                },
                "color": "#15AFAC",
                "styles": {},
                "label": "Ridolfi",
                "scale_factor": 1,
                "type": "#15AFAC",
                "size": [
                  55,
                  55
                ],
                "position": [
                  0,
                  0
                ]
              },
              {
                "id": 7,
                "properties": {
                  "label": "Tornabuoni"
                },
                "color": "#15AFAC",
                "styles": {},
                "label": "Tornabuoni",
                "scale_factor": 1,
                "type": "#15AFAC",
                "size": [
                  55,
                  55
                ],
                "position": [
                  0,
                  0
                ]
              },
              {
                "id": 8,
                "properties": {
                  "label": "Albizzi"
                },
                "color": "#15AFAC",
                "styles": {},
                "label": "Albizzi",
                "scale_factor": 1,
                "type": "#15AFAC",
                "size": [
                  55,
                  55
                ],
                "position": [
                  0,
                  0
                ]
              },
              {
                "id": 9,
                "properties": {
                  "label": "Salviati"
                },
                "color": "#15AFAC",
                "styles": {},
                "label": "Salviati",
                "scale_factor": 1,
                "type": "#15AFAC",
                "size": [
                  55,
                  55
                ],
                "position": [
                  0,
                  0
                ]
              },
              {
                "id": 10,
                "properties": {
                  "label": "Pazzi"
                },
                "color": "#15AFAC",
                "styles": {},
                "label": "Pazzi",
                "scale_factor": 1,
                "type": "#15AFAC",
                "size": [
                  55,
                  55
                ],
                "position": [
                  0,
                  0
                ]
              },
              {
                "id": 11,
                "properties": {
                  "label": "Bischeri"
                },
                "color": "#15AFAC",
                "styles": {},
                "label": "Bischeri",
                "scale_factor": 1,
                "type": "#15AFAC",
                "size": [
                  55,
                  55
                ],
                "position": [
                  0,
                  0
                ]
              },
              {
                "id": 12,
                "properties": {
                  "label": "Guadagni"
                },
                "color": "#15AFAC",
                "styles": {},
                "label": "Guadagni",
                "scale_factor": 1,
                "type": "#15AFAC",
                "size": [
                  55,
                  55
                ],
                "position": [
                  0,
                  0
                ]
              },
              {
                "id": 13,
                "properties": {
                  "label": "Ginori"
                },
                "color": "#15AFAC",
                "styles": {},
                "label": "Ginori",
                "scale_factor": 1,
                "type": "#15AFAC",
                "size": [
                  55,
                  55
                ],
                "position": [
                  0,
                  0
                ]
              },
              {
                "id": 14,
                "properties": {
                  "label": "Lamberteschi"
                },
                "color": "#15AFAC",
                "styles": {},
                "label": "Lamberteschi",
                "scale_factor": 1,
                "type": "#15AFAC",
                "size": [
                  55,
                  55
                ],
                "position": [
                  0,
                  0
                ]
              }
            ],
            "_overview": {
              "enabled": null,
              "overview_set": false
            },
            "_selected_graph": [
              [],
              []
            ],
            "_sidebar": {
              "enabled": false,
              "start_with": null
            },
            "_view_count": null,
            "_view_module": "yfiles-jupyter-graphs",
            "_view_module_version": "^1.9.0",
            "_view_name": "GraphView",
            "layout": "IPY_MODEL_154a417c2ee84e25ab23fb598133b838",
            "tabbable": null,
            "tooltip": null
          }
        },
        "154a417c2ee84e25ab23fb598133b838": {
          "model_module": "@jupyter-widgets/base",
          "model_name": "LayoutModel",
          "model_module_version": "2.0.0",
          "state": {
            "_model_module": "@jupyter-widgets/base",
            "_model_module_version": "2.0.0",
            "_model_name": "LayoutModel",
            "_view_count": null,
            "_view_module": "@jupyter-widgets/base",
            "_view_module_version": "2.0.0",
            "_view_name": "LayoutView",
            "align_content": null,
            "align_items": null,
            "align_self": null,
            "border_bottom": null,
            "border_left": null,
            "border_right": null,
            "border_top": null,
            "bottom": null,
            "display": null,
            "flex": null,
            "flex_flow": null,
            "grid_area": null,
            "grid_auto_columns": null,
            "grid_auto_flow": null,
            "grid_auto_rows": null,
            "grid_column": null,
            "grid_gap": null,
            "grid_row": null,
            "grid_template_areas": null,
            "grid_template_columns": null,
            "grid_template_rows": null,
            "height": "650px",
            "justify_content": null,
            "justify_items": null,
            "left": null,
            "margin": null,
            "max_height": null,
            "max_width": null,
            "min_height": null,
            "min_width": null,
            "object_fit": null,
            "object_position": null,
            "order": null,
            "overflow": null,
            "padding": null,
            "right": null,
            "top": null,
            "visibility": null,
            "width": "100%"
          }
        },
        "state": {}
      }
    }
  },
  "nbformat": 4,
  "nbformat_minor": 5
}