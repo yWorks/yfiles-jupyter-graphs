{
  "cells": [
    {
      "cell_type": "markdown",
      "id": "113608e6-c336-46a2-99fc-7350f0731072",
      "metadata": {
        "id": "113608e6-c336-46a2-99fc-7350f0731072"
      },
      "source": [
        "# Showcase <a target=\"_blank\" href=\"https://colab.research.google.com/github/yWorks/yfiles-jupyter-graphs/blob/main/examples/feature-releases/showcase.ipynb\"><img src=\"https://colab.research.google.com/assets/colab-badge.svg\" alt=\"Open In Colab\"/></a>\n",
        "\n",
        "This notebook showcases some features of the `yfiles_jupyter_graphs` widget."
      ]
    },
    {
      "cell_type": "code",
      "execution_count": 1,
      "id": "3a0ebbde-0510-4ec4-93cf-511948e07ce5",
      "metadata": {
        "id": "3a0ebbde-0510-4ec4-93cf-511948e07ce5",
        "outputId": "5dc17e19-93a4-494e-b734-09fdc56b581f",
        "colab": {
          "base_uri": "https://localhost:8080/"
        }
      },
      "outputs": [
        {
          "output_type": "stream",
          "name": "stdout",
          "text": [
            "\u001b[2K   \u001b[90m━━━━━━━━━━━━━━━━━━━━━━━━━━━━━━━━━━━━━━━━\u001b[0m \u001b[32m15.7/15.7 MB\u001b[0m \u001b[31m59.9 MB/s\u001b[0m eta \u001b[36m0:00:00\u001b[0m\n",
            "\u001b[2K   \u001b[90m━━━━━━━━━━━━━━━━━━━━━━━━━━━━━━━━━━━━━━━━\u001b[0m \u001b[32m1.6/1.6 MB\u001b[0m \u001b[31m44.4 MB/s\u001b[0m eta \u001b[36m0:00:00\u001b[0m\n",
            "\u001b[?25h"
          ]
        }
      ],
      "source": [
        "%pip install yfiles_jupyter_graphs --quiet\n",
        "from yfiles_jupyter_graphs import GraphWidget"
      ]
    },
    {
      "cell_type": "code",
      "execution_count": 2,
      "id": "1d4873da-a6c7-4eeb-9ea5-ee6c30687fd6",
      "metadata": {
        "id": "1d4873da-a6c7-4eeb-9ea5-ee6c30687fd6"
      },
      "outputs": [],
      "source": [
        "try:\n",
        "  import google.colab\n",
        "  from google.colab import output\n",
        "  output.enable_custom_widget_manager()\n",
        "except:\n",
        "  pass"
      ]
    },
    {
      "cell_type": "markdown",
      "id": "59a03284-1fce-49e8-9b41-b00261ec324e",
      "metadata": {
        "id": "59a03284-1fce-49e8-9b41-b00261ec324e"
      },
      "source": [
        "<a target=\"_blank\" href=\"https://colab.research.google.com/github/yWorks/yfiles-jupyter-graphs/blob/main/examples/feature-releases/showcase.ipynb\"><img src=\"https://colab.research.google.com/assets/colab-badge.svg\" alt=\"Open In Colab\"/></a>"
      ]
    },
    {
      "cell_type": "markdown",
      "id": "4e858a55-b18c-488c-babd-6a26e909e8c0",
      "metadata": {
        "id": "4e858a55-b18c-488c-babd-6a26e909e8c0"
      },
      "source": [
        "## Sample Data\n",
        "\n",
        "The dataset for this sample is the following airport and flight routes data:"
      ]
    },
    {
      "cell_type": "code",
      "execution_count": 3,
      "id": "3873e61a-ed07-4a9f-8255-d188a22a4cbf",
      "metadata": {
        "id": "3873e61a-ed07-4a9f-8255-d188a22a4cbf"
      },
      "outputs": [],
      "source": [
        "airports_json = [\n",
        "    {\"name\": \"Los Angeles\", \"iata\": \"LAX\", \"lat\": 33.942536, \"lng\": -118.408075, \"passengers\": 65000000, \"country\": \"USA\", \"id\": \"LAX\", \"country_id\": \"us\"}, {\"name\": \"Rio de Janeiro\", \"iata\": \"GIG\", \"lat\": -22.808903, \"lng\": -43.243647, \"passengers\": 5000000, \"country\": \"Brazil\", \"id\": \"GIG\",\"country_id\": \"br\"}, {\"name\": \"Lima\", \"iata\": \"LIM\", \"lat\": -12.021889, \"lng\": -77.114319, \"passengers\": 18000000, \"country\": \"Peru\", \"id\": \"LIM\", \"country_id\": \"pe\"}, {\"name\": \"London\", \"iata\": \"LHR\", \"lat\": 51.4775, \"lng\": -0.461389, \"passengers\": 61000000, \"country\": \"UK\", \"id\": \"LHR\", \"country_id\": \"gb\"},\n",
        "    {\"name\": \"Frankfurt\", \"iata\": \"FRA\", \"lat\": 50.033333, \"lng\": 8.570556, \"passengers\": 48000000, \"country\": \"Germany\", \"id\": \"FRA\", \"country_id\": \"de\"}, {\"name\": \"Moscow\", \"iata\": \"SVO\", \"lat\": 55.972642, \"lng\": 37.414589, \"passengers\": 49000000, \"country\": \"Russia\", \"id\": \"SVO\", \"country_id\": \"ru\"}, {\"name\": \"New Delhi\", \"iata\": \"DEL\", \"lat\": 28.5665, \"lng\": 77.103089, \"passengers\": 39000000, \"country\": \"India\", \"id\": \"DEL\", \"country_id\": \"in\"}, {\"name\": \"Shanghai\", \"iata\": \"PVG\", \"lat\": 31.143378, \"lng\": 121.805214, \"passengers\": 32000000, \"country\": \"China\", \"id\": \"PVG\", \"country_id\": \"hk\"},\n",
        "    {\"name\": \"Hongkong\", \"iata\": \"HKG\", \"lat\": 22.308919, \"lng\": 113.914603, \"passengers\": 1000000, \"country\": \"China\", \"id\": \"HKG\", \"country_id\": \"hk\"}, {\"name\": \"Tokio\", \"iata\": \"NRT\", \"lat\": 35.764722, \"lng\": 140.386389, \"passengers\": 15000000, \"country\": \"Japan\", \"id\": \"NRT\", \"country_id\": \"jp\"}, {\"name\": \"Dubai\", \"iata\": \"DXB\", \"lat\": 25.252778, \"lng\": 55.364444, \"passengers\": 29000000, \"country\": \"UAE\", \"id\": \"DXB\", \"country_id\": \"ae\"}, {\"name\": \"Dakar\", \"iata\": \"DKR\", \"lat\": 14.670833, \"lng\": -17.072778, \"passengers\": 2000000, \"country\": \"Senegal\", \"id\": \"DKR\", \"country_id\": \"sn\"},\n",
        "    {\"name\": \"Johannesburg\", \"iata\": \"JNB\", \"lat\": -26.133694, \"lng\": 28.242317, \"passengers\": 9000000, \"country\": \"South Africa\", \"id\": \"JNB\", \"country_id\": \"za\"}, {\"name\": \"Sydney\", \"iata\": \"SYD\", \"lat\": -33.946111, \"lng\": 151.177222, \"passengers\": 44000000, \"country\": \"Australia\", \"id\": \"SYD\", \"country_id\": \"au\"}, {\"name\": \"Nairobi\", \"iata\": \"NBO\", \"lat\": -1.319167, \"lng\": 36.927778, \"passengers\": 900000, \"country\": \"Kenya\", \"id\": \"NBO\", \"country_id\": \"ke\"}, {\"name\": \"Atlanta\", \"iata\": \"ATL\", \"lat\": 33.639167, \"lng\": -84.427778, \"passengers\": 93000000, \"country\": \"USA\", \"id\": \"ATL\", \"country_id\": \"us\"},\n",
        "    {\"name\": \"New York City\", \"iata\": \"JFK\", \"lat\": 40.63975, \"lng\": -73.778925, \"passengers\": 55000000, \"country\": \"USA\", \"id\": \"JFK\", \"country_id\": \"us\"}, {\"name\": \"Cairo\", \"iata\": \"CAI\", \"lat\": 30.121944, \"lng\": 31.405556, \"passengers\": 14000000, \"country\": \"Egypt\", \"id\": \"CAI\", \"country_id\": \"eg\"}, {\"name\": \"Casablanca\", \"iata\": \"CMN\", \"lat\": 33.367467, \"lng\": -7.589967, \"passengers\": 7000000, \"country\": \"Morocco\", \"id\": \"CMN\", \"country_id\": \"ma\"}, {\"name\": \"Lagos\", \"iata\": \"LOS\", \"lat\": 6.577222, \"lng\": 3.321111, \"passengers\": 5000000, \"country\": \"Nigeria\", \"id\": \"LOS\", \"country_id\": \"ng\"},\n",
        "    {\"name\": \"Cape Town\", \"iata\": \"CPT\", \"lat\": -33.969444, \"lng\": 18.597222, \"passengers\": 5000000, \"country\": \"South Africa\", \"id\": \"CPT\", \"country_id\": \"za\"}, {\"name\": \"Chengdu\", \"iata\": \"CTU\", \"lat\": 30.578333, \"lng\": 103.946944, \"passengers\": 40000000, \"country\": \"China\", \"id\": \"CTU\", \"country_id\": \"hk\"}, {\"name\": \"Jakarta\", \"iata\": \"CGK\", \"lat\": -6.125567, \"lng\": 106.655897, \"passengers\": 54000000, \"country\": \"Indonesia\", \"id\": \"CGK\", \"country_id\": \"id\"}, {\"name\": \"Teheran\", \"iata\": \"IKA\", \"lat\": 35.416111, \"lng\": 51.152222, \"passengers\": 8000000, \"country\": \"Iran\", \"id\": \"IKA\", \"country_id\": \"ir\"},\n",
        "    {\"name\": \"Tel Aviv\", \"iata\": \"TLV\", \"lat\": 32.011389, \"lng\": 34.886667, \"passengers\": 20000000, \"country\": \"Israel\", \"id\": \"TLV\", \"country_id\": \"il\"}, {\"name\": \"Kuala Lumpur\", \"iata\": \"KUL\", \"lat\": 2.745578, \"lng\": 101.709917, \"passengers\": 25000000, \"country\": \"Malaysia\", \"id\": \"KUL\", \"country_id\": \"my\"}, {\"name\": \"Manila\", \"iata\": \"MNL\", \"lat\": 14.508647, \"lng\": 121.019581, \"passengers\": 8000000, \"country\": \"Philippines\", \"id\": \"MNL\", \"country_id\": \"ph\"}, {\"name\": \"Singapur\", \"iata\": \"SIN\", \"lat\": 1.350189, \"lng\": 103.994433, \"passengers\": 32000000, \"country\": \"Singapore\", \"id\": \"SIN\", \"country_id\": \"sg\"},\n",
        "    {\"name\": \"Taipeh\", \"iata\": \"TPE\", \"lat\": 25.077732, \"lng\": 121.232822, \"passengers\": 800000, \"country\": \"Taiwan\", \"id\": \"TPE\", \"country_id\": \"tw\"}, {\"name\": \"Bangkok\", \"iata\": \"BKK\", \"lat\": 13.681108, \"lng\": 100.747283, \"passengers\": 65000000, \"country\": \"Thailand\", \"id\": \"BKK\", \"country_id\": \"th\"}, {\"name\": \"Istanbul\", \"iata\": \"IST\", \"lat\": 40.976922, \"lng\": 28.814606, \"passengers\": 64000000, \"country\": \"Turkey\", \"id\": \"IST\", \"country_id\": \"tr\"}, {\"name\": \"Ulaanbaatar\", \"iata\": \"ULN\", \"lat\": 47.843056, \"lng\": 106.766639, \"passengers\": 1000000, \"country\": \"Mongolia\", \"id\": \"ULN\", \"country_id\": \"mn\"},\n",
        "    {\"name\": \"Melbourne\", \"iata\": \"MEL\", \"lat\": -37.673333, \"lng\": 144.843333, \"passengers\": 12000000, \"country\": \"Australia\", \"id\": \"MEL\", \"country_id\": \"au\"}, {\"name\": \"Brisbane\", \"iata\": \"BNE\", \"lat\": -27.383333, \"lng\": 153.118056, \"passengers\": 23000000, \"country\": \"Australia\", \"id\": \"BNE\", \"country_id\": \"au\"}, {\"name\": \"Nadi\", \"iata\": \"NAN\", \"lat\": -17.755392, \"lng\": 177.443378, \"passengers\": 2000000, \"country\": \"Fiji\", \"id\": \"NAN\", \"country_id\": \"fj\"}, {\"name\": \"Auckland\", \"iata\": \"AKL\", \"lat\": -37.008056, \"lng\": 174.791667, \"passengers\": 21000000, \"country\": \"New Zealand\", \"id\": \"AKL\", \"country_id\": \"nz\"},\n",
        "    {\"name\": \"Paris\", \"iata\": \"CDG\", \"lat\": 49.009722, \"lng\": 2.547778, \"passengers\": 57000000, \"country\": \"France\", \"id\": \"CDG\", \"country_id\": \"fr\"}, {\"name\": \"Madrid\", \"iata\": \"MAD\", \"lat\": 40.4675, \"lng\": -3.551944, \"passengers\": 50000000, \"country\": \"Spain\", \"id\": \"MAD\", \"country_id\": \"es\"}, {\"name\": \"Barcelona\", \"iata\": \"BCN\", \"lat\": 41.297078, \"lng\": 2.078464, \"passengers\": 41000000, \"country\": \"Spain\", \"id\": \"BCN\", \"country_id\": \"es\"}, {\"name\": \"Rome\", \"iata\": \"FCO\", \"lat\": 41.804444, \"lng\": 12.250833, \"passengers\": 29000000, \"country\": \"Italy\", \"id\": \"FCO\", \"country_id\": \"it\"},\n",
        "    {\"name\": \"Copenhagen\", \"iata\": \"CPH\", \"lat\": 55.617917, \"lng\": 12.655972, \"passengers\": 30000000, \"country\": \"Denmark\", \"id\": \"CPH\", \"country_id\": \"dk\"}, {\"name\": \"Helsinki\", \"iata\": \"HEL\", \"lat\": 60.317222, \"lng\": 24.963333, \"passengers\": 5000000, \"country\": \"Finland\", \"id\": \"HEL\", \"country_id\": \"fi\"}, {\"name\": \"Athens\", \"iata\": \"ATH\", \"lat\": 37.936358, \"lng\": 23.944467, \"passengers\": 22000000, \"country\": \"Greece\", \"id\": \"ATH\", \"country_id\": \"gr\"}, {\"name\": \"Dublin\", \"iata\": \"DUB\", \"lat\": 53.421333, \"lng\": -6.270075, \"passengers\": 32000000, \"country\": \"Ireland\", \"id\": \"DUB\", \"country_id\": \"ie\"},\n",
        "    {\"name\": \"Reykjavik\", \"iata\": \"RKV\", \"lat\": 64.13, \"lng\": -21.940556, \"passengers\": 400000, \"country\": \"Iceland\", \"id\": \"RKV\", \"country_id\": \"is\"}, {\"name\": \"Oslo\", \"iata\": \"OSL\", \"lat\": 60.193917, \"lng\": 11.100361, \"passengers\": 9000000, \"country\": \"Norway\", \"id\": \"OSL\", \"country_id\": \"no\"}, {\"name\": \"Vienna\", \"iata\": \"VIE\", \"lat\": 48.110833, \"lng\": 16.570833, \"passengers\": 10000000, \"country\": \"Austria\", \"id\": \"VIE\", \"country_id\": \"at\"}, {\"name\": \"Lisbon\", \"iata\": \"LIS\", \"lat\": 38.774167, \"lng\": -9.134167, \"passengers\": 28000000, \"country\": \"Portugal\", \"id\": \"LIS\", \"country_id\": \"pt\"},\n",
        "    {\"name\": \"Stockholm\", \"iata\": \"ARN\", \"lat\": 59.651944, \"lng\": 17.918611, \"passengers\": 7000000, \"country\": \"Sweden\", \"id\": \"ARN\", \"country_id\": \"se\"}, {\"name\": \"Edinburgh\", \"iata\": \"EDI\", \"lat\": 55.95, \"lng\": -3.3725, \"passengers\": 14000000, \"country\": \"UK\", \"id\": \"EDI\", \"country_id\": \"gb\"}, {\"name\": \"Chicago\", \"iata\": \"ORD\", \"lat\": 41.978603, \"lng\": -87.904842, \"passengers\": 54000000, \"country\": \"USA\", \"id\": \"ORD\", \"country_id\": \"us\"}, {\"name\": \"Dallas\", \"iata\": \"DFW\", \"lat\": 32.896828, \"lng\": -97.037997, \"passengers\": 73000000, \"country\": \"USA\", \"id\": \"DFW\", \"country_id\": \"us\"},\n",
        "    {\"name\": \"San Francisco\", \"iata\": \"SFO\", \"lat\": 37.618972, \"lng\": -122.374889, \"passengers\": 42000000, \"country\": \"USA\", \"id\": \"SFO\", \"country_id\": \"us\"}, {\"name\": \"Las Vegas\", \"iata\": \"LAS\", \"lat\": 36.080056, \"lng\": -115.15225, \"passengers\": 52000000, \"country\": \"USA\", \"id\": \"LAS\", \"country_id\": \"us\"}, {\"name\": \"Miami\", \"iata\": \"MIA\", \"lat\": 25.79325, \"lng\": -80.290556, \"passengers\": 50000000, \"country\": \"USA\", \"id\": \"MIA\", \"country_id\": \"us\"}, {\"name\": \"Toronto\", \"iata\": \"YYZ\", \"lat\": 43.677222, \"lng\": -79.630556, \"passengers\": 12000000, \"country\": \"Canada\", \"id\": \"YYZ\", \"country_id\": \"ca\"},\n",
        "    {\"name\": \"Vancouver\", \"iata\": \"YVR\", \"lat\": 49.193889, \"lng\": -123.184444, \"passengers\": 19000000, \"country\": \"Canada\", \"id\": \"YVR\", \"country_id\": \"ca\"}, {\"name\": \"Montreal\", \"iata\": \"YUL\", \"lat\": 45.47175, \"lng\": -73.736569, \"passengers\": 15000000, \"country\": \"Canada\", \"id\": \"YUL\", \"country_id\": \"ca\"}, {\"name\": \"Mexico-City\", \"iata\": \"MEX\", \"lat\": 19.436303, \"lng\": -99.072097, \"passengers\": 46000000, \"country\": \"Mexico\", \"id\": \"MEX\", \"country_id\": \"mx\"}, {\"name\": \"Guatemala-City\", \"iata\": \"GUA\", \"lat\": 14.583272, \"lng\": -90.527475, \"passengers\": 2000000, \"country\": \"Guatemala\", \"id\": \"GUA\", \"country_id\": \"gt\"},\n",
        "    {\"name\": \"Buenos Aires\", \"iata\": \"EZE\", \"lat\": -34.822222, \"lng\": -58.535833, \"passengers\": 5000000, \"country\": \"Argentina\", \"id\": \"EZE\", \"country_id\": \"ar\"}, {\"name\": \"Sao Paulo\", \"iata\": \"GRU\", \"lat\": -23.432075, \"lng\": -46.469511, \"passengers\": 34000000, \"country\": \"Brazil\", \"id\": \"GRU\", \"country_id\": \"br\"}, {\"name\": \"Santiago de Chile\", \"iata\": \"SCL\", \"lat\": -33.392975, \"lng\": -70.785803, \"passengers\": 20000000, \"country\": \"Chile\", \"id\": \"SCL\", \"country_id\": \"cl\"}, {\"name\": \"Brasilia\", \"iata\": \"BSB\", \"lat\": -15.871111, \"lng\": -47.918611, \"passengers\": 13000000, \"country\": \"Brazil\", \"id\": \"BSB\", \"country_id\": \"br\"},\n",
        "    {\"name\": \"Bogota\", \"iata\": \"BOG\", \"lat\": 4.701594, \"lng\": -74.146947, \"passengers\": 36000000, \"country\": \"Colombia\", \"id\": \"BOG\", \"country_id\": \"co\"}, {\"name\": \"Caracas\", \"iata\": \"CCS\", \"lat\": 10.601194, \"lng\": -66.991222, \"passengers\": 8000000, \"country\": \"Venezuela\", \"id\": \"CCS\", \"country_id\": \"ve\"}\n",
        "  ]\n",
        "\n",
        "connections_json = [\n",
        "    {'from': 'LAX','to': 'JFK' },   {'from': 'JFK','to': 'GIG' },    {'from': 'JFK','to': 'LIM' },    {'from': 'JFK','to': 'LHR' },    {'from': 'GIG','to': 'FRA' },    {'from': 'LIM','to': 'GIG' },    {'from': 'FRA','to': 'JFK' },    {'from': 'LHR','to': 'FRA' },    {'from': 'FRA','to': 'SVO' },    {'from': 'FRA','to': 'DXB' },    {'from': 'SVO','to': 'DEL' },\n",
        "    {'from': 'SVO','to': 'PVG' },    {'from': 'DEL','to': 'HKG' },    {'from': 'PVG','to': 'HKG' },    {'from': 'PVG','to': 'NRT' },    {'from': 'HKG','to': 'SYD' },    {'from': 'NRT','to': 'SYD' },    {'from': 'DXB','to': 'SVO' },    {'from': 'DXB','to': 'DEL' },    {'from': 'DXB','to': 'DKR' },    {'from': 'DXB','to': 'JNB' },    {'from': 'JNB','to': 'LHR' },\n",
        "    {'from': 'JNB','to': 'DKR' },    {'from': 'SYD','to': 'DXB' },    {'from': 'NBO','to': 'JNB' },    {'from': 'NBO','to': 'DXB' },    {'from': 'ATL','to': 'JFK' },    {'from': 'LAX','to': 'ATL' },    {'from': 'ATL','to': 'LHR' },    {'from': 'ATL','to': 'LIM' },    {'from': 'SCL','to': 'LIM' },    {'from': 'EZE','to': 'SCL' },    {'from': 'SCL','to': 'GRU' },\n",
        "    {'from': 'GIG','to': 'EZE' },    {'from': 'GIG','to': 'GRU' },    {'from': 'BSB','to': 'GIG' },    {'from': 'SCL','to': 'BSB' },    {'from': 'LIM','to': 'BSB' },    {'from': 'BOG','to': 'BSB' },    {'from': 'CCS','to': 'BSB' },    {'from': 'BOG','to': 'GUA' },    {'from': 'CCS','to': 'MIA' },    {'from': 'GUA','to': 'MIA' },    {'from': 'GUA','to': 'MEX' },\n",
        "    {'from': 'MEX','to': 'LAX' },    {'from': 'MEX','to': 'LAX' },    {'from': 'LAX','to': 'SFO' },    {'from': 'SFO','to': 'YVR' },    {'from': 'LAX','to': 'LAS' },    {'from': 'LAX','to': 'DFW' },    {'from': 'LAX','to': 'ORD' },    {'from': 'SFO','to': 'LAS' },    {'from': 'DFW','to': 'ATL' },    {'from': 'ATL','to': 'YYZ' },    {'from': 'ORD','to': 'YYZ' },\n",
        "    {'from': 'YYZ','to': 'YUL' },    {'from': 'YYZ','to': 'JFK' },    {'from': 'YUL','to': 'JFK' },    {'from': 'JNB','to': 'CPT' },    {'from': 'LOS','to': 'DKR' },    {'from': 'NBO','to': 'LOS' },    {'from': 'DKR','to': 'CMN' },    {'from': 'DKR','to': 'CAI' },    {'from': 'NBO','to': 'CAI' },    {'from': 'DXB','to': 'CAI' },    {'from': 'IKA','to': 'DXB' },\n",
        "    {'from': 'IST','to': 'IKA' },    {'from': 'TLV','to': 'ATH' },    {'from': 'CAI','to': 'TLV' },    {'from': 'ATH','to': 'IST' },    {'from': 'FCO','to': 'ATH' },    {'from': 'LIS','to': 'LHR' },    {'from': 'LIS','to': 'MAD' },    {'from': 'MAD','to': 'BCN' },    {'from': 'CDG','to': 'LHR' },    {'from': 'DUB','to': 'LHR' },    {'from': 'EDI','to': 'LHR' },\n",
        "    {'from': 'CDG','to': 'BCN' },    {'from': 'BCN','to': 'FCO' },    {'from': 'VIE','to': 'IST' },    {'from': 'VIE','to': 'SVO' },    {'from': 'CMN','to': 'LIS' },    {'from': 'MAD','to': 'CMN' },    {'from': 'FRA','to': 'CPH' },    {'from': 'LHR','to': 'CPH' },    {'from': 'CPH','to': 'OSL' },    {'from': 'CPH','to': 'ARN' },    {'from': 'ARN','to': 'HEL' },\n",
        "    {'from': 'HEL','to': 'SVO' },    {'from': 'ULN','to': 'PVG' },    {'from': 'CTU','to': 'PVG' },    {'from': 'PVG','to': 'TPE' },    {'from': 'CTU','to': 'HKG' },    {'from': 'TPE','to': 'HKG' },    {'from': 'HKG','to': 'MNL' },    {'from': 'BKK','to': 'HKG' },    {'from': 'SIN','to': 'KUL' },    {'from': 'SIN','to': 'BKK' },    {'from': 'CGK','to': 'SIN' },\n",
        "    {'from': 'MNL','to': 'SIN' },    {'from': 'SIN','to': 'SYD' },    {'from': 'BNE','to': 'SYD' },    {'from': 'SYD','to': 'MEL' },    {'from': 'NAN','to': 'SYD' },    {'from': 'AKL','to': 'SYD' },    {'from': 'NAN','to': 'AKL' },    {'from': 'RKV','to': 'LHR' },    {'from': 'BCN','to': 'CDG' },    {'from': 'BCN','to': 'FRA' },    {'from': 'FCO','to': 'FRA' },\n",
        "    {'from': 'BOG','to': 'MEX' },    {'from': 'BOG','to': 'GRU' },    {'from': 'ATL','to': 'MIA' },    {'from': 'FRA','to': 'IST' },    {'from': 'IST','to': 'DEL' },    {'from': 'PVG','to': 'BKK' },    {'from': 'DEL','to': 'BKK' },\n",
        "  ]\n",
        "\n",
        "def initData():\n",
        "    return ([\n",
        "        {\"id\": airport['iata'], \"properties\": {\"label\": airport['name'], 'passengers': airport['passengers'], 'country': airport['country'], \"country_id\": airport['country_id']}, \"coordinates\": [airport['lat'], airport['lng']]}\n",
        "        for airport in airports_json\n",
        "    ], [\n",
        "        {\"start\": connection['from'], \"end\": connection['to'], \"label\": \"\", \"properties\": {}, \"directed\": False}\n",
        "        for connection in connections_json\n",
        "    ])\n",
        "\n",
        "airports, connections = initData()"
      ]
    },
    {
      "cell_type": "markdown",
      "id": "9bfba458-c2f7-4019-a1ba-d411d51a96e8",
      "metadata": {
        "id": "9bfba458-c2f7-4019-a1ba-d411d51a96e8"
      },
      "source": [
        "## Data-driven visualization\n",
        "\n",
        "Make the flight data more accessible with simple node styling options.\n",
        "\n",
        "The widget supports lots of different options to adjust the diagram visualization. All options are data-driven so you can easily map your data characteristics to visual features.   There are many different visualization options for nodes and edges as shown in [08_styles_mapping.ipynb](../08_styles_mapping.ipynb).\n",
        "\n",
        "In this case, we map the country data to flag icons."
      ]
    },
    {
      "cell_type": "code",
      "execution_count": 4,
      "id": "a990cca7-894c-46dc-a90d-b1e2d12026e7",
      "metadata": {
        "id": "a990cca7-894c-46dc-a90d-b1e2d12026e7",
        "outputId": "53538dd4-6677-4158-d5ed-70d052a925ba",
        "colab": {
          "base_uri": "https://localhost:8080/",
          "height": 817,
          "referenced_widgets": [
            "07a826f30e794d93b1c822b5efae69dc",
            "634eb7ca37b2419a857e503d45b83fd1"
          ]
        }
      },
      "outputs": [
        {
          "output_type": "display_data",
          "data": {
            "text/plain": [
              "GraphWidget(layout=Layout(height='800px', width='100%'))"
            ],
            "application/vnd.jupyter.widget-view+json": {
              "version_major": 2,
              "version_minor": 0,
              "model_id": "07a826f30e794d93b1c822b5efae69dc"
            }
          },
          "metadata": {
            "application/vnd.jupyter.widget-view+json": {
              "colab": {
                "custom_widget_manager": {
                  "url": "https://ssl.gstatic.com/colaboratory-static/widgets/colab-cdn-widget-manager/2b70e893a8ba7c0f/manager.min.js"
                }
              }
            }
          }
        }
      ],
      "source": [
        "w = GraphWidget()\n",
        "w.edges = connections\n",
        "w.nodes = airports\n",
        "\n",
        "# the data-driven visualization mappings assigns an image to each node\n",
        "w.set_node_styles_mapping(lambda node: {'image': f\"https://raw.githubusercontent.com/lipis/flag-icons/e119b66129af6dd849754ccf25dfbf81d4a306d5/flags/1x1/{node['properties']['country_id']}.svg\"})\n",
        "\n",
        "display(w)"
      ]
    },
    {
      "cell_type": "markdown",
      "id": "28cb9451-114a-493e-bfa9-fbe85ba48169",
      "metadata": {
        "id": "28cb9451-114a-493e-bfa9-fbe85ba48169"
      },
      "source": [
        "## Automatic layouts\n",
        "\n",
        "The widget offers several automatic layouts like `hierarchic`, `organic`, `interactive_organic`, `circular`, `radial`, `orthogonal`, and `tree`. Each layout serves a different purpose and can help highlight different aspects of the diagram (see also [22_layouts.ipynb](../22_layouts.ipynb)).\n",
        "\n",
        "You can either choose the layout interactively through the UI of the widget, or programmatically when defining it. For example, set the `circular` layout like so:"
      ]
    },
    {
      "cell_type": "code",
      "execution_count": 5,
      "id": "32fde2cd-3857-4852-8697-d8bcada474ef",
      "metadata": {
        "id": "32fde2cd-3857-4852-8697-d8bcada474ef",
        "outputId": "552c8312-5cd0-45dc-f72d-7ad24a1dd931",
        "colab": {
          "base_uri": "https://localhost:8080/",
          "height": 817,
          "referenced_widgets": [
            "fe666dfc8c73415691ceb6e25709847e",
            "85bdd7a13fcc4128866612d7a9401e31"
          ]
        }
      },
      "outputs": [
        {
          "output_type": "display_data",
          "data": {
            "text/plain": [
              "GraphWidget(layout=Layout(height='800px', width='100%'))"
            ],
            "application/vnd.jupyter.widget-view+json": {
              "version_major": 2,
              "version_minor": 0,
              "model_id": "fe666dfc8c73415691ceb6e25709847e"
            }
          },
          "metadata": {
            "application/vnd.jupyter.widget-view+json": {
              "colab": {
                "custom_widget_manager": {
                  "url": "https://ssl.gstatic.com/colaboratory-static/widgets/colab-cdn-widget-manager/2b70e893a8ba7c0f/manager.min.js"
                }
              }
            }
          }
        }
      ],
      "source": [
        "w = GraphWidget()\n",
        "w.edges = connections\n",
        "w.nodes = airports\n",
        "\n",
        "# programmatically apply the circular layout\n",
        "w.circular_layout()\n",
        "\n",
        "display(w)"
      ]
    },
    {
      "cell_type": "markdown",
      "id": "ea52986a-cef7-406e-9103-314ebd8bfcac",
      "metadata": {
        "id": "ea52986a-cef7-406e-9103-314ebd8bfcac"
      },
      "source": [
        "## Map visualization\n",
        "\n",
        "A special kind of layout is the map feature (see also [30_leaflet_mapping.ipynb](../30_leaflet_mapping.ipynb)). In this case, the `lat` / `lng` properties of the nodes are used while a map is shown in the background."
      ]
    },
    {
      "cell_type": "code",
      "execution_count": 6,
      "id": "a4ee52af-7f3b-4441-ab8a-db9e4590e7f6",
      "metadata": {
        "id": "a4ee52af-7f3b-4441-ab8a-db9e4590e7f6",
        "outputId": "1561a05e-0c25-4347-cb2e-f08003f9b3a0",
        "colab": {
          "base_uri": "https://localhost:8080/",
          "height": 817,
          "referenced_widgets": [
            "23560d021b36437884648bbccaffb8db",
            "023223d0cf234e7884632f19bc976f11"
          ]
        }
      },
      "outputs": [
        {
          "output_type": "display_data",
          "data": {
            "text/plain": [
              "GraphWidget(layout=Layout(height='800px', width='100%'))"
            ],
            "application/vnd.jupyter.widget-view+json": {
              "version_major": 2,
              "version_minor": 0,
              "model_id": "23560d021b36437884648bbccaffb8db"
            }
          },
          "metadata": {
            "application/vnd.jupyter.widget-view+json": {
              "colab": {
                "custom_widget_manager": {
                  "url": "https://ssl.gstatic.com/colaboratory-static/widgets/colab-cdn-widget-manager/2b70e893a8ba7c0f/manager.min.js"
                }
              }
            }
          }
        }
      ],
      "source": [
        "w = GraphWidget()\n",
        "w.edges = connections\n",
        "w.nodes = airports\n",
        "\n",
        "# use the coordinates data of the dataset\n",
        "w.node_coordinate_mapping = \"coordinates\"\n",
        "w.map_layout()\n",
        "\n",
        "display(w)"
      ]
    },
    {
      "cell_type": "markdown",
      "id": "61580169-4ab4-4a9d-946d-36cfbd925be5",
      "metadata": {
        "id": "61580169-4ab4-4a9d-946d-36cfbd925be5"
      },
      "source": [
        "## Node grouping\n",
        "\n",
        "There are different ways to group nodes. Either use already given node objects in the dataset or generate new \"artifical\" nodes that are used as groups. Both approaches are explained in [31_nested_graphs.ipynb](../31_nested_graphs.ipynb).\n",
        "\n",
        "In this case, we use the `country` property of the dataset to create new \"artifical\" group nodes that are not part of the initial input data. The new data objects are also considered for any data-driven visualization mappings. So you could also style them separately."
      ]
    },
    {
      "cell_type": "code",
      "execution_count": 7,
      "id": "f7fe77a2-7f2a-4f05-bc53-acfe5e706cbc",
      "metadata": {
        "id": "f7fe77a2-7f2a-4f05-bc53-acfe5e706cbc",
        "outputId": "6fe07639-a8e0-4ee9-dbb9-3be7693471ea",
        "colab": {
          "base_uri": "https://localhost:8080/",
          "height": 817,
          "referenced_widgets": [
            "3ed6138962514b0ea72f2b69c6507c36",
            "3fcb6540f3a34b92bea67ec6917496d9"
          ]
        }
      },
      "outputs": [
        {
          "output_type": "display_data",
          "data": {
            "text/plain": [
              "GraphWidget(layout=Layout(height='800px', width='100%'))"
            ],
            "application/vnd.jupyter.widget-view+json": {
              "version_major": 2,
              "version_minor": 0,
              "model_id": "3ed6138962514b0ea72f2b69c6507c36"
            }
          },
          "metadata": {
            "application/vnd.jupyter.widget-view+json": {
              "colab": {
                "custom_widget_manager": {
                  "url": "https://ssl.gstatic.com/colaboratory-static/widgets/colab-cdn-widget-manager/2b70e893a8ba7c0f/manager.min.js"
                }
              }
            }
          }
        }
      ],
      "source": [
        "w = GraphWidget()\n",
        "w.edges = connections\n",
        "w.nodes = airports\n",
        "\n",
        "# use the country property as parent-id for each node, note how the 'nodes' data does not contain distinct country node objects\n",
        "w.node_parent_group_mapping = \"country\"\n",
        "\n",
        "display(w)"
      ]
    },
    {
      "cell_type": "markdown",
      "id": "85f349f3-86f5-4e9b-9b87-756fac3ffb2a",
      "metadata": {
        "id": "85f349f3-86f5-4e9b-9b87-756fac3ffb2a"
      },
      "source": [
        "## Heatmap overlay\n",
        "\n",
        "The heat map overlay is another useful way to show an additional layer of information. It maps numerical data to a heatmap which can be used to easily find hotspots in the dataset (see also [29_heat_mapping.ipynb](../29_heat_mapping.ipynb)).\n",
        "\n",
        "In this case, we show the `passengers` property of the dataset as heatmap overlay."
      ]
    },
    {
      "cell_type": "code",
      "execution_count": 8,
      "id": "768fa440-a83c-4b46-8e3c-78a335914672",
      "metadata": {
        "id": "768fa440-a83c-4b46-8e3c-78a335914672",
        "outputId": "4b8e5f54-b542-4bec-cfd6-058d77dcd8b1",
        "colab": {
          "base_uri": "https://localhost:8080/",
          "height": 817,
          "referenced_widgets": [
            "59fcd550f3314ef788ab87d414b136b4",
            "8a268bd2e22342a190e85dc3a30094a3"
          ]
        }
      },
      "outputs": [
        {
          "output_type": "display_data",
          "data": {
            "text/plain": [
              "GraphWidget(layout=Layout(height='800px', width='100%'))"
            ],
            "application/vnd.jupyter.widget-view+json": {
              "version_major": 2,
              "version_minor": 0,
              "model_id": "59fcd550f3314ef788ab87d414b136b4"
            }
          },
          "metadata": {
            "application/vnd.jupyter.widget-view+json": {
              "colab": {
                "custom_widget_manager": {
                  "url": "https://ssl.gstatic.com/colaboratory-static/widgets/colab-cdn-widget-manager/2b70e893a8ba7c0f/manager.min.js"
                }
              }
            }
          }
        }
      ],
      "source": [
        "w = GraphWidget()\n",
        "w.nodes = airports\n",
        "w.edges = connections\n",
        "def heat(element):\n",
        "    if 'start' in element:\n",
        "        #edge case\n",
        "        return 0\n",
        "    else: return (element['properties'].get('passengers',0) - 800000)/92200000\n",
        "w.set_heat_mapping(heat)\n",
        "w.map_layout()\n",
        "display(w)"
      ]
    },
    {
      "cell_type": "markdown",
      "id": "ce0db3ba-2dbf-4149-abe4-a962d7dc84a9",
      "metadata": {
        "id": "ce0db3ba-2dbf-4149-abe4-a962d7dc84a9"
      },
      "source": [
        "## Combining all features\n",
        "\n",
        "All different features can be combined to bring your data to life and help understanding the dataset."
      ]
    },
    {
      "cell_type": "code",
      "execution_count": 9,
      "id": "71bd7eba-d048-4a8f-a4b8-f42f0ae8f8a3",
      "metadata": {
        "id": "71bd7eba-d048-4a8f-a4b8-f42f0ae8f8a3",
        "outputId": "bf22bda6-894a-4b40-dba2-df6b6ac86727",
        "colab": {
          "base_uri": "https://localhost:8080/",
          "height": 817,
          "referenced_widgets": [
            "de9c214265a145028fde614d85191149",
            "d02d8dc16f3447588c72dacf50d905e9"
          ]
        }
      },
      "outputs": [
        {
          "output_type": "display_data",
          "data": {
            "text/plain": [
              "GraphWidget(layout=Layout(height='800px', width='100%'))"
            ],
            "application/vnd.jupyter.widget-view+json": {
              "version_major": 2,
              "version_minor": 0,
              "model_id": "de9c214265a145028fde614d85191149"
            }
          },
          "metadata": {
            "application/vnd.jupyter.widget-view+json": {
              "colab": {
                "custom_widget_manager": {
                  "url": "https://ssl.gstatic.com/colaboratory-static/widgets/colab-cdn-widget-manager/2b70e893a8ba7c0f/manager.min.js"
                }
              }
            }
          }
        }
      ],
      "source": [
        "w = GraphWidget()\n",
        "w.nodes = airports\n",
        "w.edges = connections\n",
        "w.hierarchic_layout()\n",
        "w.set_heat_mapping(heat)\n",
        "w.node_coordinate_mapping = 'coordinates'\n",
        "w.node_parent_group_mapping = 'country'\n",
        "def styling(node):\n",
        "    if 'country_id' in node['properties']:\n",
        "        return {'image': f\"https://raw.githubusercontent.com/lipis/flag-icons/e119b66129af6dd849754ccf25dfbf81d4a306d5/flags/1x1/{node['properties'].get('country_id')}.svg\"}\n",
        "w.set_node_styles_mapping(styling)\n",
        "display(w)"
      ]
    }
  ],
  "metadata": {
    "kernelspec": {
      "display_name": "Python 3 (ipykernel)",
      "language": "python",
      "name": "python3"
    },
    "language_info": {
      "codemirror_mode": {
        "name": "ipython",
        "version": 3
      },
      "file_extension": ".py",
      "mimetype": "text/x-python",
      "name": "python",
      "nbconvert_exporter": "python",
      "pygments_lexer": "ipython3",
      "version": "3.12.3"
    },
    "widgets": {
      "application/vnd.jupyter.widget-state+json": {
        "07a826f30e794d93b1c822b5efae69dc": {
          "model_module": "yfiles-jupyter-graphs",
          "model_name": "GraphModel",
          "model_module_version": "^1.10.8",
          "state": {
            "_context_pane_mapping": [
              {
                "id": "Neighborhood",
                "title": "Neighborhood"
              },
              {
                "id": "Data",
                "title": "Data"
              },
              {
                "id": "Search",
                "title": "Search"
              },
              {
                "id": "About",
                "title": "About"
              }
            ],
            "_data_importer": "unknown",
            "_directed": false,
            "_dom_classes": [],
            "_edges": [
              {
                "start": "LAX",
                "end": "JFK",
                "label": "",
                "properties": {},
                "directed": false,
                "id": "6f28225c-73c4-4e2a-a518-78f8356ad78e",
                "color": "#15AFAC",
                "thickness_factor": 1,
                "styles": {}
              },
              {
                "start": "JFK",
                "end": "GIG",
                "label": "",
                "properties": {},
                "directed": false,
                "id": "ae218385-9a36-4c4c-9f6f-c9f3b47e7747",
                "color": "#15AFAC",
                "thickness_factor": 1,
                "styles": {}
              },
              {
                "start": "JFK",
                "end": "LIM",
                "label": "",
                "properties": {},
                "directed": false,
                "id": "194338ea-cb46-4438-aa12-984b79d5a056",
                "color": "#15AFAC",
                "thickness_factor": 1,
                "styles": {}
              },
              {
                "start": "JFK",
                "end": "LHR",
                "label": "",
                "properties": {},
                "directed": false,
                "id": "df2d274f-0310-49e0-a15b-bd1d7371ef61",
                "color": "#15AFAC",
                "thickness_factor": 1,
                "styles": {}
              },
              {
                "start": "GIG",
                "end": "FRA",
                "label": "",
                "properties": {},
                "directed": false,
                "id": "0c70ffcf-cc40-497b-bf11-65d1ea3c513c",
                "color": "#15AFAC",
                "thickness_factor": 1,
                "styles": {}
              },
              {
                "start": "LIM",
                "end": "GIG",
                "label": "",
                "properties": {},
                "directed": false,
                "id": "ba4a3fdb-aa49-4022-ba54-34d5aeeae5e1",
                "color": "#15AFAC",
                "thickness_factor": 1,
                "styles": {}
              },
              {
                "start": "FRA",
                "end": "JFK",
                "label": "",
                "properties": {},
                "directed": false,
                "id": "6c36e3d8-bf34-4c61-a5f5-6cb8ab0b4c23",
                "color": "#15AFAC",
                "thickness_factor": 1,
                "styles": {}
              },
              {
                "start": "LHR",
                "end": "FRA",
                "label": "",
                "properties": {},
                "directed": false,
                "id": "3ace757d-ec63-4478-b1a5-47740c66573e",
                "color": "#15AFAC",
                "thickness_factor": 1,
                "styles": {}
              },
              {
                "start": "FRA",
                "end": "SVO",
                "label": "",
                "properties": {},
                "directed": false,
                "id": "7ffff4fb-3009-4b02-b346-effcb0830e8d",
                "color": "#15AFAC",
                "thickness_factor": 1,
                "styles": {}
              },
              {
                "start": "FRA",
                "end": "DXB",
                "label": "",
                "properties": {},
                "directed": false,
                "id": "b33eb52b-b41b-42f5-85d8-0d7c9ec358aa",
                "color": "#15AFAC",
                "thickness_factor": 1,
                "styles": {}
              },
              {
                "start": "SVO",
                "end": "DEL",
                "label": "",
                "properties": {},
                "directed": false,
                "id": "1c8fb25b-4680-414e-bc61-1b0fa5db5429",
                "color": "#15AFAC",
                "thickness_factor": 1,
                "styles": {}
              },
              {
                "start": "SVO",
                "end": "PVG",
                "label": "",
                "properties": {},
                "directed": false,
                "id": "ea5b3d84-c0c7-47df-a445-3013b56fdaee",
                "color": "#15AFAC",
                "thickness_factor": 1,
                "styles": {}
              },
              {
                "start": "DEL",
                "end": "HKG",
                "label": "",
                "properties": {},
                "directed": false,
                "id": "4e4f12a0-7d38-462e-9d08-11f7d1fc4e75",
                "color": "#15AFAC",
                "thickness_factor": 1,
                "styles": {}
              },
              {
                "start": "PVG",
                "end": "HKG",
                "label": "",
                "properties": {},
                "directed": false,
                "id": "d05d8e99-c4fd-447a-8a55-e1f639b6df54",
                "color": "#15AFAC",
                "thickness_factor": 1,
                "styles": {}
              },
              {
                "start": "PVG",
                "end": "NRT",
                "label": "",
                "properties": {},
                "directed": false,
                "id": "a9ec5c74-c008-4beb-81be-91ef8337b1b3",
                "color": "#15AFAC",
                "thickness_factor": 1,
                "styles": {}
              },
              {
                "start": "HKG",
                "end": "SYD",
                "label": "",
                "properties": {},
                "directed": false,
                "id": "9126b224-b45a-44d0-a295-9145bd203b7e",
                "color": "#15AFAC",
                "thickness_factor": 1,
                "styles": {}
              },
              {
                "start": "NRT",
                "end": "SYD",
                "label": "",
                "properties": {},
                "directed": false,
                "id": "9fa1e63a-63bc-4d6a-8b38-b95cfa07c203",
                "color": "#15AFAC",
                "thickness_factor": 1,
                "styles": {}
              },
              {
                "start": "DXB",
                "end": "SVO",
                "label": "",
                "properties": {},
                "directed": false,
                "id": "03ab691f-a3c4-40d8-a7d9-5e9915c1f29a",
                "color": "#15AFAC",
                "thickness_factor": 1,
                "styles": {}
              },
              {
                "start": "DXB",
                "end": "DEL",
                "label": "",
                "properties": {},
                "directed": false,
                "id": "9f758073-8f56-41b4-a9c0-445636d9d66c",
                "color": "#15AFAC",
                "thickness_factor": 1,
                "styles": {}
              },
              {
                "start": "DXB",
                "end": "DKR",
                "label": "",
                "properties": {},
                "directed": false,
                "id": "6f269590-9d5d-4696-ac7c-a011939d5d6a",
                "color": "#15AFAC",
                "thickness_factor": 1,
                "styles": {}
              },
              {
                "start": "DXB",
                "end": "JNB",
                "label": "",
                "properties": {},
                "directed": false,
                "id": "03c4b82d-4020-444c-8c1a-0406623c2656",
                "color": "#15AFAC",
                "thickness_factor": 1,
                "styles": {}
              },
              {
                "start": "JNB",
                "end": "LHR",
                "label": "",
                "properties": {},
                "directed": false,
                "id": "97aec433-5866-4905-b265-03fb0e1c587a",
                "color": "#15AFAC",
                "thickness_factor": 1,
                "styles": {}
              },
              {
                "start": "JNB",
                "end": "DKR",
                "label": "",
                "properties": {},
                "directed": false,
                "id": "e066475a-f60b-4b9b-81cd-022d744a1954",
                "color": "#15AFAC",
                "thickness_factor": 1,
                "styles": {}
              },
              {
                "start": "SYD",
                "end": "DXB",
                "label": "",
                "properties": {},
                "directed": false,
                "id": "c43817d1-8071-445a-961e-8f7875c57786",
                "color": "#15AFAC",
                "thickness_factor": 1,
                "styles": {}
              },
              {
                "start": "NBO",
                "end": "JNB",
                "label": "",
                "properties": {},
                "directed": false,
                "id": "4fbc540e-24f2-41d7-9718-0a1af6ae985f",
                "color": "#15AFAC",
                "thickness_factor": 1,
                "styles": {}
              },
              {
                "start": "NBO",
                "end": "DXB",
                "label": "",
                "properties": {},
                "directed": false,
                "id": "bb1cca38-2e34-4481-8b0b-80a546b8248d",
                "color": "#15AFAC",
                "thickness_factor": 1,
                "styles": {}
              },
              {
                "start": "ATL",
                "end": "JFK",
                "label": "",
                "properties": {},
                "directed": false,
                "id": "69a480bf-3bce-494c-ad7b-e7c49318b041",
                "color": "#15AFAC",
                "thickness_factor": 1,
                "styles": {}
              },
              {
                "start": "LAX",
                "end": "ATL",
                "label": "",
                "properties": {},
                "directed": false,
                "id": "d6e77824-7306-4fbf-9bc9-b0ce63c6a9a5",
                "color": "#15AFAC",
                "thickness_factor": 1,
                "styles": {}
              },
              {
                "start": "ATL",
                "end": "LHR",
                "label": "",
                "properties": {},
                "directed": false,
                "id": "5adfb942-ce2c-4014-955d-dbf90c1fc7f2",
                "color": "#15AFAC",
                "thickness_factor": 1,
                "styles": {}
              },
              {
                "start": "ATL",
                "end": "LIM",
                "label": "",
                "properties": {},
                "directed": false,
                "id": "2530fc2e-1136-479a-9539-3f79238a388d",
                "color": "#15AFAC",
                "thickness_factor": 1,
                "styles": {}
              },
              {
                "start": "SCL",
                "end": "LIM",
                "label": "",
                "properties": {},
                "directed": false,
                "id": "99a4d526-0ff1-4b42-88d7-d2c4b8864172",
                "color": "#15AFAC",
                "thickness_factor": 1,
                "styles": {}
              },
              {
                "start": "EZE",
                "end": "SCL",
                "label": "",
                "properties": {},
                "directed": false,
                "id": "30f26c28-114e-49b1-9260-9cdf93710f03",
                "color": "#15AFAC",
                "thickness_factor": 1,
                "styles": {}
              },
              {
                "start": "SCL",
                "end": "GRU",
                "label": "",
                "properties": {},
                "directed": false,
                "id": "ba016377-d4f0-4789-b4a9-7e54e1dcad12",
                "color": "#15AFAC",
                "thickness_factor": 1,
                "styles": {}
              },
              {
                "start": "GIG",
                "end": "EZE",
                "label": "",
                "properties": {},
                "directed": false,
                "id": "0c1d3bbb-c198-4013-a504-4c06401b8be3",
                "color": "#15AFAC",
                "thickness_factor": 1,
                "styles": {}
              },
              {
                "start": "GIG",
                "end": "GRU",
                "label": "",
                "properties": {},
                "directed": false,
                "id": "8f221d7c-42c0-4bd0-a709-f62e4961e0b1",
                "color": "#15AFAC",
                "thickness_factor": 1,
                "styles": {}
              },
              {
                "start": "BSB",
                "end": "GIG",
                "label": "",
                "properties": {},
                "directed": false,
                "id": "45334ad6-5c1a-449e-bcb0-8fbaf3929fe2",
                "color": "#15AFAC",
                "thickness_factor": 1,
                "styles": {}
              },
              {
                "start": "SCL",
                "end": "BSB",
                "label": "",
                "properties": {},
                "directed": false,
                "id": "4be7d62b-84f4-40e2-a500-b238795e29f1",
                "color": "#15AFAC",
                "thickness_factor": 1,
                "styles": {}
              },
              {
                "start": "LIM",
                "end": "BSB",
                "label": "",
                "properties": {},
                "directed": false,
                "id": "fe439a0c-dfdf-4397-82e0-26f38534f13f",
                "color": "#15AFAC",
                "thickness_factor": 1,
                "styles": {}
              },
              {
                "start": "BOG",
                "end": "BSB",
                "label": "",
                "properties": {},
                "directed": false,
                "id": "ccdf71e0-7283-4980-a19f-184c32984c79",
                "color": "#15AFAC",
                "thickness_factor": 1,
                "styles": {}
              },
              {
                "start": "CCS",
                "end": "BSB",
                "label": "",
                "properties": {},
                "directed": false,
                "id": "9490101e-a74a-43f8-b766-e589dc05dc7e",
                "color": "#15AFAC",
                "thickness_factor": 1,
                "styles": {}
              },
              {
                "start": "BOG",
                "end": "GUA",
                "label": "",
                "properties": {},
                "directed": false,
                "id": "852ff0ed-8c87-4c92-b801-e0dfb8ed6aad",
                "color": "#15AFAC",
                "thickness_factor": 1,
                "styles": {}
              },
              {
                "start": "CCS",
                "end": "MIA",
                "label": "",
                "properties": {},
                "directed": false,
                "id": "dd224294-7e2f-44de-9e9e-8f5ce772ca8f",
                "color": "#15AFAC",
                "thickness_factor": 1,
                "styles": {}
              },
              {
                "start": "GUA",
                "end": "MIA",
                "label": "",
                "properties": {},
                "directed": false,
                "id": "90e9bf62-4cd6-4cfa-aff6-4afed3ddae97",
                "color": "#15AFAC",
                "thickness_factor": 1,
                "styles": {}
              },
              {
                "start": "GUA",
                "end": "MEX",
                "label": "",
                "properties": {},
                "directed": false,
                "id": "fdcc15bf-ad32-496c-93b6-017b4d3348e6",
                "color": "#15AFAC",
                "thickness_factor": 1,
                "styles": {}
              },
              {
                "start": "MEX",
                "end": "LAX",
                "label": "",
                "properties": {},
                "directed": false,
                "id": "5dafc441-08a4-4508-a636-142158cd764a",
                "color": "#15AFAC",
                "thickness_factor": 1,
                "styles": {}
              },
              {
                "start": "MEX",
                "end": "LAX",
                "label": "",
                "properties": {},
                "directed": false,
                "id": "db6e3bd3-9880-4fca-9770-8573163f2d8b",
                "color": "#15AFAC",
                "thickness_factor": 1,
                "styles": {}
              },
              {
                "start": "LAX",
                "end": "SFO",
                "label": "",
                "properties": {},
                "directed": false,
                "id": "18deb138-e2a0-4735-a60b-431ad1ea3570",
                "color": "#15AFAC",
                "thickness_factor": 1,
                "styles": {}
              },
              {
                "start": "SFO",
                "end": "YVR",
                "label": "",
                "properties": {},
                "directed": false,
                "id": "f7251adf-1556-4503-b0db-1be71033f7ff",
                "color": "#15AFAC",
                "thickness_factor": 1,
                "styles": {}
              },
              {
                "start": "LAX",
                "end": "LAS",
                "label": "",
                "properties": {},
                "directed": false,
                "id": "b6d6fe2d-616b-442f-ada7-c1309f4da14f",
                "color": "#15AFAC",
                "thickness_factor": 1,
                "styles": {}
              },
              {
                "start": "LAX",
                "end": "DFW",
                "label": "",
                "properties": {},
                "directed": false,
                "id": "3bd784da-2c4a-470f-ba93-a21a4907caa2",
                "color": "#15AFAC",
                "thickness_factor": 1,
                "styles": {}
              },
              {
                "start": "LAX",
                "end": "ORD",
                "label": "",
                "properties": {},
                "directed": false,
                "id": "4c428235-0b33-41a4-90df-1b5e170cdd59",
                "color": "#15AFAC",
                "thickness_factor": 1,
                "styles": {}
              },
              {
                "start": "SFO",
                "end": "LAS",
                "label": "",
                "properties": {},
                "directed": false,
                "id": "19f7f8ab-d748-41fd-901a-9c9cb16d43f2",
                "color": "#15AFAC",
                "thickness_factor": 1,
                "styles": {}
              },
              {
                "start": "DFW",
                "end": "ATL",
                "label": "",
                "properties": {},
                "directed": false,
                "id": "eb407755-4587-4cb5-ab43-70cba2f446e7",
                "color": "#15AFAC",
                "thickness_factor": 1,
                "styles": {}
              },
              {
                "start": "ATL",
                "end": "YYZ",
                "label": "",
                "properties": {},
                "directed": false,
                "id": "7a599ee2-a40d-4dd5-b91d-9261d40f9ba9",
                "color": "#15AFAC",
                "thickness_factor": 1,
                "styles": {}
              },
              {
                "start": "ORD",
                "end": "YYZ",
                "label": "",
                "properties": {},
                "directed": false,
                "id": "c59f8e89-329d-43ee-8e0e-d18967bbe1e9",
                "color": "#15AFAC",
                "thickness_factor": 1,
                "styles": {}
              },
              {
                "start": "YYZ",
                "end": "YUL",
                "label": "",
                "properties": {},
                "directed": false,
                "id": "77dac866-c1f4-47b9-ac61-d0265e74fc7c",
                "color": "#15AFAC",
                "thickness_factor": 1,
                "styles": {}
              },
              {
                "start": "YYZ",
                "end": "JFK",
                "label": "",
                "properties": {},
                "directed": false,
                "id": "6ff17bf1-6c9c-44c3-ab89-656dafdc72f4",
                "color": "#15AFAC",
                "thickness_factor": 1,
                "styles": {}
              },
              {
                "start": "YUL",
                "end": "JFK",
                "label": "",
                "properties": {},
                "directed": false,
                "id": "7096f558-a419-41aa-b6e7-6ee37bee2b12",
                "color": "#15AFAC",
                "thickness_factor": 1,
                "styles": {}
              },
              {
                "start": "JNB",
                "end": "CPT",
                "label": "",
                "properties": {},
                "directed": false,
                "id": "136a3582-aa1f-400d-82fa-ca27ad29f32c",
                "color": "#15AFAC",
                "thickness_factor": 1,
                "styles": {}
              },
              {
                "start": "LOS",
                "end": "DKR",
                "label": "",
                "properties": {},
                "directed": false,
                "id": "f67d9e45-353b-462e-9dd7-e82ead1f0f12",
                "color": "#15AFAC",
                "thickness_factor": 1,
                "styles": {}
              },
              {
                "start": "NBO",
                "end": "LOS",
                "label": "",
                "properties": {},
                "directed": false,
                "id": "7aa5c264-9d2b-406c-a86c-65455d7f4b30",
                "color": "#15AFAC",
                "thickness_factor": 1,
                "styles": {}
              },
              {
                "start": "DKR",
                "end": "CMN",
                "label": "",
                "properties": {},
                "directed": false,
                "id": "1e0a92f1-bd56-4bc8-bd75-8d4aa6d03bfd",
                "color": "#15AFAC",
                "thickness_factor": 1,
                "styles": {}
              },
              {
                "start": "DKR",
                "end": "CAI",
                "label": "",
                "properties": {},
                "directed": false,
                "id": "decbcf93-9d78-47fe-8c10-4a63d04da72b",
                "color": "#15AFAC",
                "thickness_factor": 1,
                "styles": {}
              },
              {
                "start": "NBO",
                "end": "CAI",
                "label": "",
                "properties": {},
                "directed": false,
                "id": "30938507-abce-47ce-b9c6-de53c491e7ad",
                "color": "#15AFAC",
                "thickness_factor": 1,
                "styles": {}
              },
              {
                "start": "DXB",
                "end": "CAI",
                "label": "",
                "properties": {},
                "directed": false,
                "id": "d29c1792-3b3c-4d2f-b92b-76f38ce3897d",
                "color": "#15AFAC",
                "thickness_factor": 1,
                "styles": {}
              },
              {
                "start": "IKA",
                "end": "DXB",
                "label": "",
                "properties": {},
                "directed": false,
                "id": "31c516fc-f189-48bb-9d51-33266e0359ad",
                "color": "#15AFAC",
                "thickness_factor": 1,
                "styles": {}
              },
              {
                "start": "IST",
                "end": "IKA",
                "label": "",
                "properties": {},
                "directed": false,
                "id": "a47dfda6-41ed-4424-a948-97e7445333f0",
                "color": "#15AFAC",
                "thickness_factor": 1,
                "styles": {}
              },
              {
                "start": "TLV",
                "end": "ATH",
                "label": "",
                "properties": {},
                "directed": false,
                "id": "d48d7fb8-9adb-4d23-a3b5-4a3ae3af4220",
                "color": "#15AFAC",
                "thickness_factor": 1,
                "styles": {}
              },
              {
                "start": "CAI",
                "end": "TLV",
                "label": "",
                "properties": {},
                "directed": false,
                "id": "d2f35743-830f-4b71-9194-f411e1d4a452",
                "color": "#15AFAC",
                "thickness_factor": 1,
                "styles": {}
              },
              {
                "start": "ATH",
                "end": "IST",
                "label": "",
                "properties": {},
                "directed": false,
                "id": "cb4509c4-85f1-4545-92ad-1406f2b3cfee",
                "color": "#15AFAC",
                "thickness_factor": 1,
                "styles": {}
              },
              {
                "start": "FCO",
                "end": "ATH",
                "label": "",
                "properties": {},
                "directed": false,
                "id": "944bdeb5-f789-4968-a2e5-da86782dc24c",
                "color": "#15AFAC",
                "thickness_factor": 1,
                "styles": {}
              },
              {
                "start": "LIS",
                "end": "LHR",
                "label": "",
                "properties": {},
                "directed": false,
                "id": "13a69016-af8f-44c7-9255-8dcdc8be6e2b",
                "color": "#15AFAC",
                "thickness_factor": 1,
                "styles": {}
              },
              {
                "start": "LIS",
                "end": "MAD",
                "label": "",
                "properties": {},
                "directed": false,
                "id": "62608b78-2ce9-440c-82d1-cc2752a76d23",
                "color": "#15AFAC",
                "thickness_factor": 1,
                "styles": {}
              },
              {
                "start": "MAD",
                "end": "BCN",
                "label": "",
                "properties": {},
                "directed": false,
                "id": "0447d91d-4ffe-4098-8a73-e6c41e8bce15",
                "color": "#15AFAC",
                "thickness_factor": 1,
                "styles": {}
              },
              {
                "start": "CDG",
                "end": "LHR",
                "label": "",
                "properties": {},
                "directed": false,
                "id": "224bcf82-3a2d-4f4e-9358-96ad7d5568d8",
                "color": "#15AFAC",
                "thickness_factor": 1,
                "styles": {}
              },
              {
                "start": "DUB",
                "end": "LHR",
                "label": "",
                "properties": {},
                "directed": false,
                "id": "116362f3-d7e4-4f8f-9d1d-5bc6b459f88e",
                "color": "#15AFAC",
                "thickness_factor": 1,
                "styles": {}
              },
              {
                "start": "EDI",
                "end": "LHR",
                "label": "",
                "properties": {},
                "directed": false,
                "id": "3ea6ef4a-2f88-426d-a321-4f3212397b78",
                "color": "#15AFAC",
                "thickness_factor": 1,
                "styles": {}
              },
              {
                "start": "CDG",
                "end": "BCN",
                "label": "",
                "properties": {},
                "directed": false,
                "id": "1d31c43d-3c97-474a-8021-226b294ed81e",
                "color": "#15AFAC",
                "thickness_factor": 1,
                "styles": {}
              },
              {
                "start": "BCN",
                "end": "FCO",
                "label": "",
                "properties": {},
                "directed": false,
                "id": "9319fec0-4577-439a-97f5-71898f05e7e7",
                "color": "#15AFAC",
                "thickness_factor": 1,
                "styles": {}
              },
              {
                "start": "VIE",
                "end": "IST",
                "label": "",
                "properties": {},
                "directed": false,
                "id": "28474528-4611-42f6-a2ca-1c6576b366c7",
                "color": "#15AFAC",
                "thickness_factor": 1,
                "styles": {}
              },
              {
                "start": "VIE",
                "end": "SVO",
                "label": "",
                "properties": {},
                "directed": false,
                "id": "b52845a6-847c-4019-80ae-b745f3be6cd2",
                "color": "#15AFAC",
                "thickness_factor": 1,
                "styles": {}
              },
              {
                "start": "CMN",
                "end": "LIS",
                "label": "",
                "properties": {},
                "directed": false,
                "id": "74331974-ee62-466c-bff5-dd941e5f7d9e",
                "color": "#15AFAC",
                "thickness_factor": 1,
                "styles": {}
              },
              {
                "start": "MAD",
                "end": "CMN",
                "label": "",
                "properties": {},
                "directed": false,
                "id": "953b517b-21aa-4fbd-ba87-9ff764eb7f05",
                "color": "#15AFAC",
                "thickness_factor": 1,
                "styles": {}
              },
              {
                "start": "FRA",
                "end": "CPH",
                "label": "",
                "properties": {},
                "directed": false,
                "id": "3fee60a0-edf4-4819-af5a-22fb82e97622",
                "color": "#15AFAC",
                "thickness_factor": 1,
                "styles": {}
              },
              {
                "start": "LHR",
                "end": "CPH",
                "label": "",
                "properties": {},
                "directed": false,
                "id": "d03bd183-ae7e-4901-9e9e-167976ecbf48",
                "color": "#15AFAC",
                "thickness_factor": 1,
                "styles": {}
              },
              {
                "start": "CPH",
                "end": "OSL",
                "label": "",
                "properties": {},
                "directed": false,
                "id": "e3b188c0-f603-4398-9577-8b4f134ffe50",
                "color": "#15AFAC",
                "thickness_factor": 1,
                "styles": {}
              },
              {
                "start": "CPH",
                "end": "ARN",
                "label": "",
                "properties": {},
                "directed": false,
                "id": "0b54d7ae-1b13-42d7-90ec-4062e55d94bf",
                "color": "#15AFAC",
                "thickness_factor": 1,
                "styles": {}
              },
              {
                "start": "ARN",
                "end": "HEL",
                "label": "",
                "properties": {},
                "directed": false,
                "id": "adb46f54-e71e-4d7d-aaab-471503ca1d6a",
                "color": "#15AFAC",
                "thickness_factor": 1,
                "styles": {}
              },
              {
                "start": "HEL",
                "end": "SVO",
                "label": "",
                "properties": {},
                "directed": false,
                "id": "f8e13a87-cc2e-4db6-a87c-e2d9912114d5",
                "color": "#15AFAC",
                "thickness_factor": 1,
                "styles": {}
              },
              {
                "start": "ULN",
                "end": "PVG",
                "label": "",
                "properties": {},
                "directed": false,
                "id": "7651dd1d-c1f5-4bae-9f98-df8e2f037369",
                "color": "#15AFAC",
                "thickness_factor": 1,
                "styles": {}
              },
              {
                "start": "CTU",
                "end": "PVG",
                "label": "",
                "properties": {},
                "directed": false,
                "id": "458e9157-db30-4673-a4ef-cc6553287e2d",
                "color": "#15AFAC",
                "thickness_factor": 1,
                "styles": {}
              },
              {
                "start": "PVG",
                "end": "TPE",
                "label": "",
                "properties": {},
                "directed": false,
                "id": "b508c990-31bd-4584-a8c3-5d21b8c3fe52",
                "color": "#15AFAC",
                "thickness_factor": 1,
                "styles": {}
              },
              {
                "start": "CTU",
                "end": "HKG",
                "label": "",
                "properties": {},
                "directed": false,
                "id": "b01b19f3-84c8-47a9-8436-2e92af2462b8",
                "color": "#15AFAC",
                "thickness_factor": 1,
                "styles": {}
              },
              {
                "start": "TPE",
                "end": "HKG",
                "label": "",
                "properties": {},
                "directed": false,
                "id": "7e80f2f7-e289-46c7-a091-7379cf37ed9e",
                "color": "#15AFAC",
                "thickness_factor": 1,
                "styles": {}
              },
              {
                "start": "HKG",
                "end": "MNL",
                "label": "",
                "properties": {},
                "directed": false,
                "id": "32a01d6a-9afe-4f5a-a61e-a7c6fa1477f4",
                "color": "#15AFAC",
                "thickness_factor": 1,
                "styles": {}
              },
              {
                "start": "BKK",
                "end": "HKG",
                "label": "",
                "properties": {},
                "directed": false,
                "id": "81630abf-e0f8-4155-9057-0a2478bad1c4",
                "color": "#15AFAC",
                "thickness_factor": 1,
                "styles": {}
              },
              {
                "start": "SIN",
                "end": "KUL",
                "label": "",
                "properties": {},
                "directed": false,
                "id": "77349e28-0797-460d-9919-050243d8d5a1",
                "color": "#15AFAC",
                "thickness_factor": 1,
                "styles": {}
              },
              {
                "start": "SIN",
                "end": "BKK",
                "label": "",
                "properties": {},
                "directed": false,
                "id": "c0350267-bb8f-4747-9763-513d31a41528",
                "color": "#15AFAC",
                "thickness_factor": 1,
                "styles": {}
              },
              {
                "start": "CGK",
                "end": "SIN",
                "label": "",
                "properties": {},
                "directed": false,
                "id": "13b8c2e2-a971-4fd1-a8b5-7ff90d78e1da",
                "color": "#15AFAC",
                "thickness_factor": 1,
                "styles": {}
              },
              {
                "start": "MNL",
                "end": "SIN",
                "label": "",
                "properties": {},
                "directed": false,
                "id": "ee7c3cdf-10d1-451b-9c7b-6a733b660e32",
                "color": "#15AFAC",
                "thickness_factor": 1,
                "styles": {}
              },
              {
                "start": "SIN",
                "end": "SYD",
                "label": "",
                "properties": {},
                "directed": false,
                "id": "b8f09efa-3376-485a-a2c3-470001bcbea2",
                "color": "#15AFAC",
                "thickness_factor": 1,
                "styles": {}
              },
              {
                "start": "BNE",
                "end": "SYD",
                "label": "",
                "properties": {},
                "directed": false,
                "id": "8514a586-298e-44b6-806c-da57ddfcd878",
                "color": "#15AFAC",
                "thickness_factor": 1,
                "styles": {}
              },
              {
                "start": "SYD",
                "end": "MEL",
                "label": "",
                "properties": {},
                "directed": false,
                "id": "2efa8659-c370-403f-8579-a43d9569db56",
                "color": "#15AFAC",
                "thickness_factor": 1,
                "styles": {}
              },
              {
                "start": "NAN",
                "end": "SYD",
                "label": "",
                "properties": {},
                "directed": false,
                "id": "fe39289d-53a3-4527-8496-b7f6abc6505b",
                "color": "#15AFAC",
                "thickness_factor": 1,
                "styles": {}
              },
              {
                "start": "AKL",
                "end": "SYD",
                "label": "",
                "properties": {},
                "directed": false,
                "id": "e7111510-04a9-446f-86b6-12fac5795816",
                "color": "#15AFAC",
                "thickness_factor": 1,
                "styles": {}
              },
              {
                "start": "NAN",
                "end": "AKL",
                "label": "",
                "properties": {},
                "directed": false,
                "id": "6e912e0f-a77b-4a7c-a3da-9c8f145baab2",
                "color": "#15AFAC",
                "thickness_factor": 1,
                "styles": {}
              },
              {
                "start": "RKV",
                "end": "LHR",
                "label": "",
                "properties": {},
                "directed": false,
                "id": "5bae3684-70d3-4c16-b71a-617dafeca11e",
                "color": "#15AFAC",
                "thickness_factor": 1,
                "styles": {}
              },
              {
                "start": "BCN",
                "end": "CDG",
                "label": "",
                "properties": {},
                "directed": false,
                "id": "1e8796c7-874e-49c6-8624-37b4f08af222",
                "color": "#15AFAC",
                "thickness_factor": 1,
                "styles": {}
              },
              {
                "start": "BCN",
                "end": "FRA",
                "label": "",
                "properties": {},
                "directed": false,
                "id": "0c96b038-197f-4ed5-8304-804e1dee4e14",
                "color": "#15AFAC",
                "thickness_factor": 1,
                "styles": {}
              },
              {
                "start": "FCO",
                "end": "FRA",
                "label": "",
                "properties": {},
                "directed": false,
                "id": "9bab3657-87a2-4e80-813d-2e5652abf1e0",
                "color": "#15AFAC",
                "thickness_factor": 1,
                "styles": {}
              },
              {
                "start": "BOG",
                "end": "MEX",
                "label": "",
                "properties": {},
                "directed": false,
                "id": "ed07f4d1-1b14-48de-9d3e-7e60fdfce556",
                "color": "#15AFAC",
                "thickness_factor": 1,
                "styles": {}
              },
              {
                "start": "BOG",
                "end": "GRU",
                "label": "",
                "properties": {},
                "directed": false,
                "id": "38be4e6e-c70b-4fc0-ac72-05a78b3c0962",
                "color": "#15AFAC",
                "thickness_factor": 1,
                "styles": {}
              },
              {
                "start": "ATL",
                "end": "MIA",
                "label": "",
                "properties": {},
                "directed": false,
                "id": "59f5a318-23ae-43ae-a631-cd98d3a9c01e",
                "color": "#15AFAC",
                "thickness_factor": 1,
                "styles": {}
              },
              {
                "start": "FRA",
                "end": "IST",
                "label": "",
                "properties": {},
                "directed": false,
                "id": "5fca1ad7-9558-496a-96e5-3051199e7ab9",
                "color": "#15AFAC",
                "thickness_factor": 1,
                "styles": {}
              },
              {
                "start": "IST",
                "end": "DEL",
                "label": "",
                "properties": {},
                "directed": false,
                "id": "e4781d5e-ceaa-4a41-af5d-c7988addd628",
                "color": "#15AFAC",
                "thickness_factor": 1,
                "styles": {}
              },
              {
                "start": "PVG",
                "end": "BKK",
                "label": "",
                "properties": {},
                "directed": false,
                "id": "185d11a9-5e59-4f1a-bbae-d2b32a9f4ab0",
                "color": "#15AFAC",
                "thickness_factor": 1,
                "styles": {}
              },
              {
                "start": "DEL",
                "end": "BKK",
                "label": "",
                "properties": {},
                "directed": false,
                "id": "c3262008-af21-4408-a774-f7c8bb222a70",
                "color": "#15AFAC",
                "thickness_factor": 1,
                "styles": {}
              }
            ],
            "_graph_layout": {},
            "_highlight": [],
            "_license": {},
            "_model_module": "yfiles-jupyter-graphs",
            "_model_module_version": "^1.10.8",
            "_model_name": "GraphModel",
            "_neighborhood": {},
            "_nodes": [
              {
                "id": "LAX",
                "properties": {
                  "label": "Los Angeles",
                  "passengers": 65000000,
                  "country": "USA",
                  "country_id": "us"
                },
                "coordinates": [
                  33.942536,
                  -118.408075
                ],
                "color": "#15AFAC",
                "styles": {
                  "image": "https://raw.githubusercontent.com/lipis/flag-icons/e119b66129af6dd849754ccf25dfbf81d4a306d5/flags/1x1/us.svg"
                },
                "label": "Los Angeles",
                "scale_factor": 1,
                "type": "#15AFAC",
                "size": [
                  55,
                  55
                ],
                "position": [
                  0,
                  0
                ]
              },
              {
                "id": "GIG",
                "properties": {
                  "label": "Rio de Janeiro",
                  "passengers": 5000000,
                  "country": "Brazil",
                  "country_id": "br"
                },
                "coordinates": [
                  -22.808903,
                  -43.243647
                ],
                "color": "#15AFAC",
                "styles": {
                  "image": "https://raw.githubusercontent.com/lipis/flag-icons/e119b66129af6dd849754ccf25dfbf81d4a306d5/flags/1x1/br.svg"
                },
                "label": "Rio de Janeiro",
                "scale_factor": 1,
                "type": "#15AFAC",
                "size": [
                  55,
                  55
                ],
                "position": [
                  0,
                  0
                ]
              },
              {
                "id": "LIM",
                "properties": {
                  "label": "Lima",
                  "passengers": 18000000,
                  "country": "Peru",
                  "country_id": "pe"
                },
                "coordinates": [
                  -12.021889,
                  -77.114319
                ],
                "color": "#15AFAC",
                "styles": {
                  "image": "https://raw.githubusercontent.com/lipis/flag-icons/e119b66129af6dd849754ccf25dfbf81d4a306d5/flags/1x1/pe.svg"
                },
                "label": "Lima",
                "scale_factor": 1,
                "type": "#15AFAC",
                "size": [
                  55,
                  55
                ],
                "position": [
                  0,
                  0
                ]
              },
              {
                "id": "LHR",
                "properties": {
                  "label": "London",
                  "passengers": 61000000,
                  "country": "UK",
                  "country_id": "gb"
                },
                "coordinates": [
                  51.4775,
                  -0.461389
                ],
                "color": "#15AFAC",
                "styles": {
                  "image": "https://raw.githubusercontent.com/lipis/flag-icons/e119b66129af6dd849754ccf25dfbf81d4a306d5/flags/1x1/gb.svg"
                },
                "label": "London",
                "scale_factor": 1,
                "type": "#15AFAC",
                "size": [
                  55,
                  55
                ],
                "position": [
                  0,
                  0
                ]
              },
              {
                "id": "FRA",
                "properties": {
                  "label": "Frankfurt",
                  "passengers": 48000000,
                  "country": "Germany",
                  "country_id": "de"
                },
                "coordinates": [
                  50.033333,
                  8.570556
                ],
                "color": "#15AFAC",
                "styles": {
                  "image": "https://raw.githubusercontent.com/lipis/flag-icons/e119b66129af6dd849754ccf25dfbf81d4a306d5/flags/1x1/de.svg"
                },
                "label": "Frankfurt",
                "scale_factor": 1,
                "type": "#15AFAC",
                "size": [
                  55,
                  55
                ],
                "position": [
                  0,
                  0
                ]
              },
              {
                "id": "SVO",
                "properties": {
                  "label": "Moscow",
                  "passengers": 49000000,
                  "country": "Russia",
                  "country_id": "ru"
                },
                "coordinates": [
                  55.972642,
                  37.414589
                ],
                "color": "#15AFAC",
                "styles": {
                  "image": "https://raw.githubusercontent.com/lipis/flag-icons/e119b66129af6dd849754ccf25dfbf81d4a306d5/flags/1x1/ru.svg"
                },
                "label": "Moscow",
                "scale_factor": 1,
                "type": "#15AFAC",
                "size": [
                  55,
                  55
                ],
                "position": [
                  0,
                  0
                ]
              },
              {
                "id": "DEL",
                "properties": {
                  "label": "New Delhi",
                  "passengers": 39000000,
                  "country": "India",
                  "country_id": "in"
                },
                "coordinates": [
                  28.5665,
                  77.103089
                ],
                "color": "#15AFAC",
                "styles": {
                  "image": "https://raw.githubusercontent.com/lipis/flag-icons/e119b66129af6dd849754ccf25dfbf81d4a306d5/flags/1x1/in.svg"
                },
                "label": "New Delhi",
                "scale_factor": 1,
                "type": "#15AFAC",
                "size": [
                  55,
                  55
                ],
                "position": [
                  0,
                  0
                ]
              },
              {
                "id": "PVG",
                "properties": {
                  "label": "Shanghai",
                  "passengers": 32000000,
                  "country": "China",
                  "country_id": "hk"
                },
                "coordinates": [
                  31.143378,
                  121.805214
                ],
                "color": "#15AFAC",
                "styles": {
                  "image": "https://raw.githubusercontent.com/lipis/flag-icons/e119b66129af6dd849754ccf25dfbf81d4a306d5/flags/1x1/hk.svg"
                },
                "label": "Shanghai",
                "scale_factor": 1,
                "type": "#15AFAC",
                "size": [
                  55,
                  55
                ],
                "position": [
                  0,
                  0
                ]
              },
              {
                "id": "HKG",
                "properties": {
                  "label": "Hongkong",
                  "passengers": 1000000,
                  "country": "China",
                  "country_id": "hk"
                },
                "coordinates": [
                  22.308919,
                  113.914603
                ],
                "color": "#15AFAC",
                "styles": {
                  "image": "https://raw.githubusercontent.com/lipis/flag-icons/e119b66129af6dd849754ccf25dfbf81d4a306d5/flags/1x1/hk.svg"
                },
                "label": "Hongkong",
                "scale_factor": 1,
                "type": "#15AFAC",
                "size": [
                  55,
                  55
                ],
                "position": [
                  0,
                  0
                ]
              },
              {
                "id": "NRT",
                "properties": {
                  "label": "Tokio",
                  "passengers": 15000000,
                  "country": "Japan",
                  "country_id": "jp"
                },
                "coordinates": [
                  35.764722,
                  140.386389
                ],
                "color": "#15AFAC",
                "styles": {
                  "image": "https://raw.githubusercontent.com/lipis/flag-icons/e119b66129af6dd849754ccf25dfbf81d4a306d5/flags/1x1/jp.svg"
                },
                "label": "Tokio",
                "scale_factor": 1,
                "type": "#15AFAC",
                "size": [
                  55,
                  55
                ],
                "position": [
                  0,
                  0
                ]
              },
              {
                "id": "DXB",
                "properties": {
                  "label": "Dubai",
                  "passengers": 29000000,
                  "country": "UAE",
                  "country_id": "ae"
                },
                "coordinates": [
                  25.252778,
                  55.364444
                ],
                "color": "#15AFAC",
                "styles": {
                  "image": "https://raw.githubusercontent.com/lipis/flag-icons/e119b66129af6dd849754ccf25dfbf81d4a306d5/flags/1x1/ae.svg"
                },
                "label": "Dubai",
                "scale_factor": 1,
                "type": "#15AFAC",
                "size": [
                  55,
                  55
                ],
                "position": [
                  0,
                  0
                ]
              },
              {
                "id": "DKR",
                "properties": {
                  "label": "Dakar",
                  "passengers": 2000000,
                  "country": "Senegal",
                  "country_id": "sn"
                },
                "coordinates": [
                  14.670833,
                  -17.072778
                ],
                "color": "#15AFAC",
                "styles": {
                  "image": "https://raw.githubusercontent.com/lipis/flag-icons/e119b66129af6dd849754ccf25dfbf81d4a306d5/flags/1x1/sn.svg"
                },
                "label": "Dakar",
                "scale_factor": 1,
                "type": "#15AFAC",
                "size": [
                  55,
                  55
                ],
                "position": [
                  0,
                  0
                ]
              },
              {
                "id": "JNB",
                "properties": {
                  "label": "Johannesburg",
                  "passengers": 9000000,
                  "country": "South Africa",
                  "country_id": "za"
                },
                "coordinates": [
                  -26.133694,
                  28.242317
                ],
                "color": "#15AFAC",
                "styles": {
                  "image": "https://raw.githubusercontent.com/lipis/flag-icons/e119b66129af6dd849754ccf25dfbf81d4a306d5/flags/1x1/za.svg"
                },
                "label": "Johannesburg",
                "scale_factor": 1,
                "type": "#15AFAC",
                "size": [
                  55,
                  55
                ],
                "position": [
                  0,
                  0
                ]
              },
              {
                "id": "SYD",
                "properties": {
                  "label": "Sydney",
                  "passengers": 44000000,
                  "country": "Australia",
                  "country_id": "au"
                },
                "coordinates": [
                  -33.946111,
                  151.177222
                ],
                "color": "#15AFAC",
                "styles": {
                  "image": "https://raw.githubusercontent.com/lipis/flag-icons/e119b66129af6dd849754ccf25dfbf81d4a306d5/flags/1x1/au.svg"
                },
                "label": "Sydney",
                "scale_factor": 1,
                "type": "#15AFAC",
                "size": [
                  55,
                  55
                ],
                "position": [
                  0,
                  0
                ]
              },
              {
                "id": "NBO",
                "properties": {
                  "label": "Nairobi",
                  "passengers": 900000,
                  "country": "Kenya",
                  "country_id": "ke"
                },
                "coordinates": [
                  -1.319167,
                  36.927778
                ],
                "color": "#15AFAC",
                "styles": {
                  "image": "https://raw.githubusercontent.com/lipis/flag-icons/e119b66129af6dd849754ccf25dfbf81d4a306d5/flags/1x1/ke.svg"
                },
                "label": "Nairobi",
                "scale_factor": 1,
                "type": "#15AFAC",
                "size": [
                  55,
                  55
                ],
                "position": [
                  0,
                  0
                ]
              },
              {
                "id": "ATL",
                "properties": {
                  "label": "Atlanta",
                  "passengers": 93000000,
                  "country": "USA",
                  "country_id": "us"
                },
                "coordinates": [
                  33.639167,
                  -84.427778
                ],
                "color": "#15AFAC",
                "styles": {
                  "image": "https://raw.githubusercontent.com/lipis/flag-icons/e119b66129af6dd849754ccf25dfbf81d4a306d5/flags/1x1/us.svg"
                },
                "label": "Atlanta",
                "scale_factor": 1,
                "type": "#15AFAC",
                "size": [
                  55,
                  55
                ],
                "position": [
                  0,
                  0
                ]
              },
              {
                "id": "JFK",
                "properties": {
                  "label": "New York City",
                  "passengers": 55000000,
                  "country": "USA",
                  "country_id": "us"
                },
                "coordinates": [
                  40.63975,
                  -73.778925
                ],
                "color": "#15AFAC",
                "styles": {
                  "image": "https://raw.githubusercontent.com/lipis/flag-icons/e119b66129af6dd849754ccf25dfbf81d4a306d5/flags/1x1/us.svg"
                },
                "label": "New York City",
                "scale_factor": 1,
                "type": "#15AFAC",
                "size": [
                  55,
                  55
                ],
                "position": [
                  0,
                  0
                ]
              },
              {
                "id": "CAI",
                "properties": {
                  "label": "Cairo",
                  "passengers": 14000000,
                  "country": "Egypt",
                  "country_id": "eg"
                },
                "coordinates": [
                  30.121944,
                  31.405556
                ],
                "color": "#15AFAC",
                "styles": {
                  "image": "https://raw.githubusercontent.com/lipis/flag-icons/e119b66129af6dd849754ccf25dfbf81d4a306d5/flags/1x1/eg.svg"
                },
                "label": "Cairo",
                "scale_factor": 1,
                "type": "#15AFAC",
                "size": [
                  55,
                  55
                ],
                "position": [
                  0,
                  0
                ]
              },
              {
                "id": "CMN",
                "properties": {
                  "label": "Casablanca",
                  "passengers": 7000000,
                  "country": "Morocco",
                  "country_id": "ma"
                },
                "coordinates": [
                  33.367467,
                  -7.589967
                ],
                "color": "#15AFAC",
                "styles": {
                  "image": "https://raw.githubusercontent.com/lipis/flag-icons/e119b66129af6dd849754ccf25dfbf81d4a306d5/flags/1x1/ma.svg"
                },
                "label": "Casablanca",
                "scale_factor": 1,
                "type": "#15AFAC",
                "size": [
                  55,
                  55
                ],
                "position": [
                  0,
                  0
                ]
              },
              {
                "id": "LOS",
                "properties": {
                  "label": "Lagos",
                  "passengers": 5000000,
                  "country": "Nigeria",
                  "country_id": "ng"
                },
                "coordinates": [
                  6.577222,
                  3.321111
                ],
                "color": "#15AFAC",
                "styles": {
                  "image": "https://raw.githubusercontent.com/lipis/flag-icons/e119b66129af6dd849754ccf25dfbf81d4a306d5/flags/1x1/ng.svg"
                },
                "label": "Lagos",
                "scale_factor": 1,
                "type": "#15AFAC",
                "size": [
                  55,
                  55
                ],
                "position": [
                  0,
                  0
                ]
              },
              {
                "id": "CPT",
                "properties": {
                  "label": "Cape Town",
                  "passengers": 5000000,
                  "country": "South Africa",
                  "country_id": "za"
                },
                "coordinates": [
                  -33.969444,
                  18.597222
                ],
                "color": "#15AFAC",
                "styles": {
                  "image": "https://raw.githubusercontent.com/lipis/flag-icons/e119b66129af6dd849754ccf25dfbf81d4a306d5/flags/1x1/za.svg"
                },
                "label": "Cape Town",
                "scale_factor": 1,
                "type": "#15AFAC",
                "size": [
                  55,
                  55
                ],
                "position": [
                  0,
                  0
                ]
              },
              {
                "id": "CTU",
                "properties": {
                  "label": "Chengdu",
                  "passengers": 40000000,
                  "country": "China",
                  "country_id": "hk"
                },
                "coordinates": [
                  30.578333,
                  103.946944
                ],
                "color": "#15AFAC",
                "styles": {
                  "image": "https://raw.githubusercontent.com/lipis/flag-icons/e119b66129af6dd849754ccf25dfbf81d4a306d5/flags/1x1/hk.svg"
                },
                "label": "Chengdu",
                "scale_factor": 1,
                "type": "#15AFAC",
                "size": [
                  55,
                  55
                ],
                "position": [
                  0,
                  0
                ]
              },
              {
                "id": "CGK",
                "properties": {
                  "label": "Jakarta",
                  "passengers": 54000000,
                  "country": "Indonesia",
                  "country_id": "id"
                },
                "coordinates": [
                  -6.125567,
                  106.655897
                ],
                "color": "#15AFAC",
                "styles": {
                  "image": "https://raw.githubusercontent.com/lipis/flag-icons/e119b66129af6dd849754ccf25dfbf81d4a306d5/flags/1x1/id.svg"
                },
                "label": "Jakarta",
                "scale_factor": 1,
                "type": "#15AFAC",
                "size": [
                  55,
                  55
                ],
                "position": [
                  0,
                  0
                ]
              },
              {
                "id": "IKA",
                "properties": {
                  "label": "Teheran",
                  "passengers": 8000000,
                  "country": "Iran",
                  "country_id": "ir"
                },
                "coordinates": [
                  35.416111,
                  51.152222
                ],
                "color": "#15AFAC",
                "styles": {
                  "image": "https://raw.githubusercontent.com/lipis/flag-icons/e119b66129af6dd849754ccf25dfbf81d4a306d5/flags/1x1/ir.svg"
                },
                "label": "Teheran",
                "scale_factor": 1,
                "type": "#15AFAC",
                "size": [
                  55,
                  55
                ],
                "position": [
                  0,
                  0
                ]
              },
              {
                "id": "TLV",
                "properties": {
                  "label": "Tel Aviv",
                  "passengers": 20000000,
                  "country": "Israel",
                  "country_id": "il"
                },
                "coordinates": [
                  32.011389,
                  34.886667
                ],
                "color": "#15AFAC",
                "styles": {
                  "image": "https://raw.githubusercontent.com/lipis/flag-icons/e119b66129af6dd849754ccf25dfbf81d4a306d5/flags/1x1/il.svg"
                },
                "label": "Tel Aviv",
                "scale_factor": 1,
                "type": "#15AFAC",
                "size": [
                  55,
                  55
                ],
                "position": [
                  0,
                  0
                ]
              },
              {
                "id": "KUL",
                "properties": {
                  "label": "Kuala Lumpur",
                  "passengers": 25000000,
                  "country": "Malaysia",
                  "country_id": "my"
                },
                "coordinates": [
                  2.745578,
                  101.709917
                ],
                "color": "#15AFAC",
                "styles": {
                  "image": "https://raw.githubusercontent.com/lipis/flag-icons/e119b66129af6dd849754ccf25dfbf81d4a306d5/flags/1x1/my.svg"
                },
                "label": "Kuala Lumpur",
                "scale_factor": 1,
                "type": "#15AFAC",
                "size": [
                  55,
                  55
                ],
                "position": [
                  0,
                  0
                ]
              },
              {
                "id": "MNL",
                "properties": {
                  "label": "Manila",
                  "passengers": 8000000,
                  "country": "Philippines",
                  "country_id": "ph"
                },
                "coordinates": [
                  14.508647,
                  121.019581
                ],
                "color": "#15AFAC",
                "styles": {
                  "image": "https://raw.githubusercontent.com/lipis/flag-icons/e119b66129af6dd849754ccf25dfbf81d4a306d5/flags/1x1/ph.svg"
                },
                "label": "Manila",
                "scale_factor": 1,
                "type": "#15AFAC",
                "size": [
                  55,
                  55
                ],
                "position": [
                  0,
                  0
                ]
              },
              {
                "id": "SIN",
                "properties": {
                  "label": "Singapur",
                  "passengers": 32000000,
                  "country": "Singapore",
                  "country_id": "sg"
                },
                "coordinates": [
                  1.350189,
                  103.994433
                ],
                "color": "#15AFAC",
                "styles": {
                  "image": "https://raw.githubusercontent.com/lipis/flag-icons/e119b66129af6dd849754ccf25dfbf81d4a306d5/flags/1x1/sg.svg"
                },
                "label": "Singapur",
                "scale_factor": 1,
                "type": "#15AFAC",
                "size": [
                  55,
                  55
                ],
                "position": [
                  0,
                  0
                ]
              },
              {
                "id": "TPE",
                "properties": {
                  "label": "Taipeh",
                  "passengers": 800000,
                  "country": "Taiwan",
                  "country_id": "tw"
                },
                "coordinates": [
                  25.077732,
                  121.232822
                ],
                "color": "#15AFAC",
                "styles": {
                  "image": "https://raw.githubusercontent.com/lipis/flag-icons/e119b66129af6dd849754ccf25dfbf81d4a306d5/flags/1x1/tw.svg"
                },
                "label": "Taipeh",
                "scale_factor": 1,
                "type": "#15AFAC",
                "size": [
                  55,
                  55
                ],
                "position": [
                  0,
                  0
                ]
              },
              {
                "id": "BKK",
                "properties": {
                  "label": "Bangkok",
                  "passengers": 65000000,
                  "country": "Thailand",
                  "country_id": "th"
                },
                "coordinates": [
                  13.681108,
                  100.747283
                ],
                "color": "#15AFAC",
                "styles": {
                  "image": "https://raw.githubusercontent.com/lipis/flag-icons/e119b66129af6dd849754ccf25dfbf81d4a306d5/flags/1x1/th.svg"
                },
                "label": "Bangkok",
                "scale_factor": 1,
                "type": "#15AFAC",
                "size": [
                  55,
                  55
                ],
                "position": [
                  0,
                  0
                ]
              },
              {
                "id": "IST",
                "properties": {
                  "label": "Istanbul",
                  "passengers": 64000000,
                  "country": "Turkey",
                  "country_id": "tr"
                },
                "coordinates": [
                  40.976922,
                  28.814606
                ],
                "color": "#15AFAC",
                "styles": {
                  "image": "https://raw.githubusercontent.com/lipis/flag-icons/e119b66129af6dd849754ccf25dfbf81d4a306d5/flags/1x1/tr.svg"
                },
                "label": "Istanbul",
                "scale_factor": 1,
                "type": "#15AFAC",
                "size": [
                  55,
                  55
                ],
                "position": [
                  0,
                  0
                ]
              },
              {
                "id": "ULN",
                "properties": {
                  "label": "Ulaanbaatar",
                  "passengers": 1000000,
                  "country": "Mongolia",
                  "country_id": "mn"
                },
                "coordinates": [
                  47.843056,
                  106.766639
                ],
                "color": "#15AFAC",
                "styles": {
                  "image": "https://raw.githubusercontent.com/lipis/flag-icons/e119b66129af6dd849754ccf25dfbf81d4a306d5/flags/1x1/mn.svg"
                },
                "label": "Ulaanbaatar",
                "scale_factor": 1,
                "type": "#15AFAC",
                "size": [
                  55,
                  55
                ],
                "position": [
                  0,
                  0
                ]
              },
              {
                "id": "MEL",
                "properties": {
                  "label": "Melbourne",
                  "passengers": 12000000,
                  "country": "Australia",
                  "country_id": "au"
                },
                "coordinates": [
                  -37.673333,
                  144.843333
                ],
                "color": "#15AFAC",
                "styles": {
                  "image": "https://raw.githubusercontent.com/lipis/flag-icons/e119b66129af6dd849754ccf25dfbf81d4a306d5/flags/1x1/au.svg"
                },
                "label": "Melbourne",
                "scale_factor": 1,
                "type": "#15AFAC",
                "size": [
                  55,
                  55
                ],
                "position": [
                  0,
                  0
                ]
              },
              {
                "id": "BNE",
                "properties": {
                  "label": "Brisbane",
                  "passengers": 23000000,
                  "country": "Australia",
                  "country_id": "au"
                },
                "coordinates": [
                  -27.383333,
                  153.118056
                ],
                "color": "#15AFAC",
                "styles": {
                  "image": "https://raw.githubusercontent.com/lipis/flag-icons/e119b66129af6dd849754ccf25dfbf81d4a306d5/flags/1x1/au.svg"
                },
                "label": "Brisbane",
                "scale_factor": 1,
                "type": "#15AFAC",
                "size": [
                  55,
                  55
                ],
                "position": [
                  0,
                  0
                ]
              },
              {
                "id": "NAN",
                "properties": {
                  "label": "Nadi",
                  "passengers": 2000000,
                  "country": "Fiji",
                  "country_id": "fj"
                },
                "coordinates": [
                  -17.755392,
                  177.443378
                ],
                "color": "#15AFAC",
                "styles": {
                  "image": "https://raw.githubusercontent.com/lipis/flag-icons/e119b66129af6dd849754ccf25dfbf81d4a306d5/flags/1x1/fj.svg"
                },
                "label": "Nadi",
                "scale_factor": 1,
                "type": "#15AFAC",
                "size": [
                  55,
                  55
                ],
                "position": [
                  0,
                  0
                ]
              },
              {
                "id": "AKL",
                "properties": {
                  "label": "Auckland",
                  "passengers": 21000000,
                  "country": "New Zealand",
                  "country_id": "nz"
                },
                "coordinates": [
                  -37.008056,
                  174.791667
                ],
                "color": "#15AFAC",
                "styles": {
                  "image": "https://raw.githubusercontent.com/lipis/flag-icons/e119b66129af6dd849754ccf25dfbf81d4a306d5/flags/1x1/nz.svg"
                },
                "label": "Auckland",
                "scale_factor": 1,
                "type": "#15AFAC",
                "size": [
                  55,
                  55
                ],
                "position": [
                  0,
                  0
                ]
              },
              {
                "id": "CDG",
                "properties": {
                  "label": "Paris",
                  "passengers": 57000000,
                  "country": "France",
                  "country_id": "fr"
                },
                "coordinates": [
                  49.009722,
                  2.547778
                ],
                "color": "#15AFAC",
                "styles": {
                  "image": "https://raw.githubusercontent.com/lipis/flag-icons/e119b66129af6dd849754ccf25dfbf81d4a306d5/flags/1x1/fr.svg"
                },
                "label": "Paris",
                "scale_factor": 1,
                "type": "#15AFAC",
                "size": [
                  55,
                  55
                ],
                "position": [
                  0,
                  0
                ]
              },
              {
                "id": "MAD",
                "properties": {
                  "label": "Madrid",
                  "passengers": 50000000,
                  "country": "Spain",
                  "country_id": "es"
                },
                "coordinates": [
                  40.4675,
                  -3.551944
                ],
                "color": "#15AFAC",
                "styles": {
                  "image": "https://raw.githubusercontent.com/lipis/flag-icons/e119b66129af6dd849754ccf25dfbf81d4a306d5/flags/1x1/es.svg"
                },
                "label": "Madrid",
                "scale_factor": 1,
                "type": "#15AFAC",
                "size": [
                  55,
                  55
                ],
                "position": [
                  0,
                  0
                ]
              },
              {
                "id": "BCN",
                "properties": {
                  "label": "Barcelona",
                  "passengers": 41000000,
                  "country": "Spain",
                  "country_id": "es"
                },
                "coordinates": [
                  41.297078,
                  2.078464
                ],
                "color": "#15AFAC",
                "styles": {
                  "image": "https://raw.githubusercontent.com/lipis/flag-icons/e119b66129af6dd849754ccf25dfbf81d4a306d5/flags/1x1/es.svg"
                },
                "label": "Barcelona",
                "scale_factor": 1,
                "type": "#15AFAC",
                "size": [
                  55,
                  55
                ],
                "position": [
                  0,
                  0
                ]
              },
              {
                "id": "FCO",
                "properties": {
                  "label": "Rome",
                  "passengers": 29000000,
                  "country": "Italy",
                  "country_id": "it"
                },
                "coordinates": [
                  41.804444,
                  12.250833
                ],
                "color": "#15AFAC",
                "styles": {
                  "image": "https://raw.githubusercontent.com/lipis/flag-icons/e119b66129af6dd849754ccf25dfbf81d4a306d5/flags/1x1/it.svg"
                },
                "label": "Rome",
                "scale_factor": 1,
                "type": "#15AFAC",
                "size": [
                  55,
                  55
                ],
                "position": [
                  0,
                  0
                ]
              },
              {
                "id": "CPH",
                "properties": {
                  "label": "Copenhagen",
                  "passengers": 30000000,
                  "country": "Denmark",
                  "country_id": "dk"
                },
                "coordinates": [
                  55.617917,
                  12.655972
                ],
                "color": "#15AFAC",
                "styles": {
                  "image": "https://raw.githubusercontent.com/lipis/flag-icons/e119b66129af6dd849754ccf25dfbf81d4a306d5/flags/1x1/dk.svg"
                },
                "label": "Copenhagen",
                "scale_factor": 1,
                "type": "#15AFAC",
                "size": [
                  55,
                  55
                ],
                "position": [
                  0,
                  0
                ]
              },
              {
                "id": "HEL",
                "properties": {
                  "label": "Helsinki",
                  "passengers": 5000000,
                  "country": "Finland",
                  "country_id": "fi"
                },
                "coordinates": [
                  60.317222,
                  24.963333
                ],
                "color": "#15AFAC",
                "styles": {
                  "image": "https://raw.githubusercontent.com/lipis/flag-icons/e119b66129af6dd849754ccf25dfbf81d4a306d5/flags/1x1/fi.svg"
                },
                "label": "Helsinki",
                "scale_factor": 1,
                "type": "#15AFAC",
                "size": [
                  55,
                  55
                ],
                "position": [
                  0,
                  0
                ]
              },
              {
                "id": "ATH",
                "properties": {
                  "label": "Athens",
                  "passengers": 22000000,
                  "country": "Greece",
                  "country_id": "gr"
                },
                "coordinates": [
                  37.936358,
                  23.944467
                ],
                "color": "#15AFAC",
                "styles": {
                  "image": "https://raw.githubusercontent.com/lipis/flag-icons/e119b66129af6dd849754ccf25dfbf81d4a306d5/flags/1x1/gr.svg"
                },
                "label": "Athens",
                "scale_factor": 1,
                "type": "#15AFAC",
                "size": [
                  55,
                  55
                ],
                "position": [
                  0,
                  0
                ]
              },
              {
                "id": "DUB",
                "properties": {
                  "label": "Dublin",
                  "passengers": 32000000,
                  "country": "Ireland",
                  "country_id": "ie"
                },
                "coordinates": [
                  53.421333,
                  -6.270075
                ],
                "color": "#15AFAC",
                "styles": {
                  "image": "https://raw.githubusercontent.com/lipis/flag-icons/e119b66129af6dd849754ccf25dfbf81d4a306d5/flags/1x1/ie.svg"
                },
                "label": "Dublin",
                "scale_factor": 1,
                "type": "#15AFAC",
                "size": [
                  55,
                  55
                ],
                "position": [
                  0,
                  0
                ]
              },
              {
                "id": "RKV",
                "properties": {
                  "label": "Reykjavik",
                  "passengers": 400000,
                  "country": "Iceland",
                  "country_id": "is"
                },
                "coordinates": [
                  64.13,
                  -21.940556
                ],
                "color": "#15AFAC",
                "styles": {
                  "image": "https://raw.githubusercontent.com/lipis/flag-icons/e119b66129af6dd849754ccf25dfbf81d4a306d5/flags/1x1/is.svg"
                },
                "label": "Reykjavik",
                "scale_factor": 1,
                "type": "#15AFAC",
                "size": [
                  55,
                  55
                ],
                "position": [
                  0,
                  0
                ]
              },
              {
                "id": "OSL",
                "properties": {
                  "label": "Oslo",
                  "passengers": 9000000,
                  "country": "Norway",
                  "country_id": "no"
                },
                "coordinates": [
                  60.193917,
                  11.100361
                ],
                "color": "#15AFAC",
                "styles": {
                  "image": "https://raw.githubusercontent.com/lipis/flag-icons/e119b66129af6dd849754ccf25dfbf81d4a306d5/flags/1x1/no.svg"
                },
                "label": "Oslo",
                "scale_factor": 1,
                "type": "#15AFAC",
                "size": [
                  55,
                  55
                ],
                "position": [
                  0,
                  0
                ]
              },
              {
                "id": "VIE",
                "properties": {
                  "label": "Vienna",
                  "passengers": 10000000,
                  "country": "Austria",
                  "country_id": "at"
                },
                "coordinates": [
                  48.110833,
                  16.570833
                ],
                "color": "#15AFAC",
                "styles": {
                  "image": "https://raw.githubusercontent.com/lipis/flag-icons/e119b66129af6dd849754ccf25dfbf81d4a306d5/flags/1x1/at.svg"
                },
                "label": "Vienna",
                "scale_factor": 1,
                "type": "#15AFAC",
                "size": [
                  55,
                  55
                ],
                "position": [
                  0,
                  0
                ]
              },
              {
                "id": "LIS",
                "properties": {
                  "label": "Lisbon",
                  "passengers": 28000000,
                  "country": "Portugal",
                  "country_id": "pt"
                },
                "coordinates": [
                  38.774167,
                  -9.134167
                ],
                "color": "#15AFAC",
                "styles": {
                  "image": "https://raw.githubusercontent.com/lipis/flag-icons/e119b66129af6dd849754ccf25dfbf81d4a306d5/flags/1x1/pt.svg"
                },
                "label": "Lisbon",
                "scale_factor": 1,
                "type": "#15AFAC",
                "size": [
                  55,
                  55
                ],
                "position": [
                  0,
                  0
                ]
              },
              {
                "id": "ARN",
                "properties": {
                  "label": "Stockholm",
                  "passengers": 7000000,
                  "country": "Sweden",
                  "country_id": "se"
                },
                "coordinates": [
                  59.651944,
                  17.918611
                ],
                "color": "#15AFAC",
                "styles": {
                  "image": "https://raw.githubusercontent.com/lipis/flag-icons/e119b66129af6dd849754ccf25dfbf81d4a306d5/flags/1x1/se.svg"
                },
                "label": "Stockholm",
                "scale_factor": 1,
                "type": "#15AFAC",
                "size": [
                  55,
                  55
                ],
                "position": [
                  0,
                  0
                ]
              },
              {
                "id": "EDI",
                "properties": {
                  "label": "Edinburgh",
                  "passengers": 14000000,
                  "country": "UK",
                  "country_id": "gb"
                },
                "coordinates": [
                  55.95,
                  -3.3725
                ],
                "color": "#15AFAC",
                "styles": {
                  "image": "https://raw.githubusercontent.com/lipis/flag-icons/e119b66129af6dd849754ccf25dfbf81d4a306d5/flags/1x1/gb.svg"
                },
                "label": "Edinburgh",
                "scale_factor": 1,
                "type": "#15AFAC",
                "size": [
                  55,
                  55
                ],
                "position": [
                  0,
                  0
                ]
              },
              {
                "id": "ORD",
                "properties": {
                  "label": "Chicago",
                  "passengers": 54000000,
                  "country": "USA",
                  "country_id": "us"
                },
                "coordinates": [
                  41.978603,
                  -87.904842
                ],
                "color": "#15AFAC",
                "styles": {
                  "image": "https://raw.githubusercontent.com/lipis/flag-icons/e119b66129af6dd849754ccf25dfbf81d4a306d5/flags/1x1/us.svg"
                },
                "label": "Chicago",
                "scale_factor": 1,
                "type": "#15AFAC",
                "size": [
                  55,
                  55
                ],
                "position": [
                  0,
                  0
                ]
              },
              {
                "id": "DFW",
                "properties": {
                  "label": "Dallas",
                  "passengers": 73000000,
                  "country": "USA",
                  "country_id": "us"
                },
                "coordinates": [
                  32.896828,
                  -97.037997
                ],
                "color": "#15AFAC",
                "styles": {
                  "image": "https://raw.githubusercontent.com/lipis/flag-icons/e119b66129af6dd849754ccf25dfbf81d4a306d5/flags/1x1/us.svg"
                },
                "label": "Dallas",
                "scale_factor": 1,
                "type": "#15AFAC",
                "size": [
                  55,
                  55
                ],
                "position": [
                  0,
                  0
                ]
              },
              {
                "id": "SFO",
                "properties": {
                  "label": "San Francisco",
                  "passengers": 42000000,
                  "country": "USA",
                  "country_id": "us"
                },
                "coordinates": [
                  37.618972,
                  -122.374889
                ],
                "color": "#15AFAC",
                "styles": {
                  "image": "https://raw.githubusercontent.com/lipis/flag-icons/e119b66129af6dd849754ccf25dfbf81d4a306d5/flags/1x1/us.svg"
                },
                "label": "San Francisco",
                "scale_factor": 1,
                "type": "#15AFAC",
                "size": [
                  55,
                  55
                ],
                "position": [
                  0,
                  0
                ]
              },
              {
                "id": "LAS",
                "properties": {
                  "label": "Las Vegas",
                  "passengers": 52000000,
                  "country": "USA",
                  "country_id": "us"
                },
                "coordinates": [
                  36.080056,
                  -115.15225
                ],
                "color": "#15AFAC",
                "styles": {
                  "image": "https://raw.githubusercontent.com/lipis/flag-icons/e119b66129af6dd849754ccf25dfbf81d4a306d5/flags/1x1/us.svg"
                },
                "label": "Las Vegas",
                "scale_factor": 1,
                "type": "#15AFAC",
                "size": [
                  55,
                  55
                ],
                "position": [
                  0,
                  0
                ]
              },
              {
                "id": "MIA",
                "properties": {
                  "label": "Miami",
                  "passengers": 50000000,
                  "country": "USA",
                  "country_id": "us"
                },
                "coordinates": [
                  25.79325,
                  -80.290556
                ],
                "color": "#15AFAC",
                "styles": {
                  "image": "https://raw.githubusercontent.com/lipis/flag-icons/e119b66129af6dd849754ccf25dfbf81d4a306d5/flags/1x1/us.svg"
                },
                "label": "Miami",
                "scale_factor": 1,
                "type": "#15AFAC",
                "size": [
                  55,
                  55
                ],
                "position": [
                  0,
                  0
                ]
              },
              {
                "id": "YYZ",
                "properties": {
                  "label": "Toronto",
                  "passengers": 12000000,
                  "country": "Canada",
                  "country_id": "ca"
                },
                "coordinates": [
                  43.677222,
                  -79.630556
                ],
                "color": "#15AFAC",
                "styles": {
                  "image": "https://raw.githubusercontent.com/lipis/flag-icons/e119b66129af6dd849754ccf25dfbf81d4a306d5/flags/1x1/ca.svg"
                },
                "label": "Toronto",
                "scale_factor": 1,
                "type": "#15AFAC",
                "size": [
                  55,
                  55
                ],
                "position": [
                  0,
                  0
                ]
              },
              {
                "id": "YVR",
                "properties": {
                  "label": "Vancouver",
                  "passengers": 19000000,
                  "country": "Canada",
                  "country_id": "ca"
                },
                "coordinates": [
                  49.193889,
                  -123.184444
                ],
                "color": "#15AFAC",
                "styles": {
                  "image": "https://raw.githubusercontent.com/lipis/flag-icons/e119b66129af6dd849754ccf25dfbf81d4a306d5/flags/1x1/ca.svg"
                },
                "label": "Vancouver",
                "scale_factor": 1,
                "type": "#15AFAC",
                "size": [
                  55,
                  55
                ],
                "position": [
                  0,
                  0
                ]
              },
              {
                "id": "YUL",
                "properties": {
                  "label": "Montreal",
                  "passengers": 15000000,
                  "country": "Canada",
                  "country_id": "ca"
                },
                "coordinates": [
                  45.47175,
                  -73.736569
                ],
                "color": "#15AFAC",
                "styles": {
                  "image": "https://raw.githubusercontent.com/lipis/flag-icons/e119b66129af6dd849754ccf25dfbf81d4a306d5/flags/1x1/ca.svg"
                },
                "label": "Montreal",
                "scale_factor": 1,
                "type": "#15AFAC",
                "size": [
                  55,
                  55
                ],
                "position": [
                  0,
                  0
                ]
              },
              {
                "id": "MEX",
                "properties": {
                  "label": "Mexico-City",
                  "passengers": 46000000,
                  "country": "Mexico",
                  "country_id": "mx"
                },
                "coordinates": [
                  19.436303,
                  -99.072097
                ],
                "color": "#15AFAC",
                "styles": {
                  "image": "https://raw.githubusercontent.com/lipis/flag-icons/e119b66129af6dd849754ccf25dfbf81d4a306d5/flags/1x1/mx.svg"
                },
                "label": "Mexico-City",
                "scale_factor": 1,
                "type": "#15AFAC",
                "size": [
                  55,
                  55
                ],
                "position": [
                  0,
                  0
                ]
              },
              {
                "id": "GUA",
                "properties": {
                  "label": "Guatemala-City",
                  "passengers": 2000000,
                  "country": "Guatemala",
                  "country_id": "gt"
                },
                "coordinates": [
                  14.583272,
                  -90.527475
                ],
                "color": "#15AFAC",
                "styles": {
                  "image": "https://raw.githubusercontent.com/lipis/flag-icons/e119b66129af6dd849754ccf25dfbf81d4a306d5/flags/1x1/gt.svg"
                },
                "label": "Guatemala-City",
                "scale_factor": 1,
                "type": "#15AFAC",
                "size": [
                  55,
                  55
                ],
                "position": [
                  0,
                  0
                ]
              },
              {
                "id": "EZE",
                "properties": {
                  "label": "Buenos Aires",
                  "passengers": 5000000,
                  "country": "Argentina",
                  "country_id": "ar"
                },
                "coordinates": [
                  -34.822222,
                  -58.535833
                ],
                "color": "#15AFAC",
                "styles": {
                  "image": "https://raw.githubusercontent.com/lipis/flag-icons/e119b66129af6dd849754ccf25dfbf81d4a306d5/flags/1x1/ar.svg"
                },
                "label": "Buenos Aires",
                "scale_factor": 1,
                "type": "#15AFAC",
                "size": [
                  55,
                  55
                ],
                "position": [
                  0,
                  0
                ]
              },
              {
                "id": "GRU",
                "properties": {
                  "label": "Sao Paulo",
                  "passengers": 34000000,
                  "country": "Brazil",
                  "country_id": "br"
                },
                "coordinates": [
                  -23.432075,
                  -46.469511
                ],
                "color": "#15AFAC",
                "styles": {
                  "image": "https://raw.githubusercontent.com/lipis/flag-icons/e119b66129af6dd849754ccf25dfbf81d4a306d5/flags/1x1/br.svg"
                },
                "label": "Sao Paulo",
                "scale_factor": 1,
                "type": "#15AFAC",
                "size": [
                  55,
                  55
                ],
                "position": [
                  0,
                  0
                ]
              },
              {
                "id": "SCL",
                "properties": {
                  "label": "Santiago de Chile",
                  "passengers": 20000000,
                  "country": "Chile",
                  "country_id": "cl"
                },
                "coordinates": [
                  -33.392975,
                  -70.785803
                ],
                "color": "#15AFAC",
                "styles": {
                  "image": "https://raw.githubusercontent.com/lipis/flag-icons/e119b66129af6dd849754ccf25dfbf81d4a306d5/flags/1x1/cl.svg"
                },
                "label": "Santiago de Chile",
                "scale_factor": 1,
                "type": "#15AFAC",
                "size": [
                  55,
                  55
                ],
                "position": [
                  0,
                  0
                ]
              },
              {
                "id": "BSB",
                "properties": {
                  "label": "Brasilia",
                  "passengers": 13000000,
                  "country": "Brazil",
                  "country_id": "br"
                },
                "coordinates": [
                  -15.871111,
                  -47.918611
                ],
                "color": "#15AFAC",
                "styles": {
                  "image": "https://raw.githubusercontent.com/lipis/flag-icons/e119b66129af6dd849754ccf25dfbf81d4a306d5/flags/1x1/br.svg"
                },
                "label": "Brasilia",
                "scale_factor": 1,
                "type": "#15AFAC",
                "size": [
                  55,
                  55
                ],
                "position": [
                  0,
                  0
                ]
              },
              {
                "id": "BOG",
                "properties": {
                  "label": "Bogota",
                  "passengers": 36000000,
                  "country": "Colombia",
                  "country_id": "co"
                },
                "coordinates": [
                  4.701594,
                  -74.146947
                ],
                "color": "#15AFAC",
                "styles": {
                  "image": "https://raw.githubusercontent.com/lipis/flag-icons/e119b66129af6dd849754ccf25dfbf81d4a306d5/flags/1x1/co.svg"
                },
                "label": "Bogota",
                "scale_factor": 1,
                "type": "#15AFAC",
                "size": [
                  55,
                  55
                ],
                "position": [
                  0,
                  0
                ]
              },
              {
                "id": "CCS",
                "properties": {
                  "label": "Caracas",
                  "passengers": 8000000,
                  "country": "Venezuela",
                  "country_id": "ve"
                },
                "coordinates": [
                  10.601194,
                  -66.991222
                ],
                "color": "#15AFAC",
                "styles": {
                  "image": "https://raw.githubusercontent.com/lipis/flag-icons/e119b66129af6dd849754ccf25dfbf81d4a306d5/flags/1x1/ve.svg"
                },
                "label": "Caracas",
                "scale_factor": 1,
                "type": "#15AFAC",
                "size": [
                  55,
                  55
                ],
                "position": [
                  0,
                  0
                ]
              }
            ],
            "_overview": {
              "enabled": null,
              "overview_set": false
            },
            "_selected_graph": [
              [],
              []
            ],
            "_sidebar": {
              "enabled": false,
              "start_with": null
            },
            "_view_count": null,
            "_view_module": "yfiles-jupyter-graphs",
            "_view_module_version": "^1.10.8",
            "_view_name": "GraphView",
            "layout": "IPY_MODEL_634eb7ca37b2419a857e503d45b83fd1"
          }
        },
        "634eb7ca37b2419a857e503d45b83fd1": {
          "model_module": "@jupyter-widgets/base",
          "model_name": "LayoutModel",
          "model_module_version": "1.2.0",
          "state": {
            "_model_module": "@jupyter-widgets/base",
            "_model_module_version": "1.2.0",
            "_model_name": "LayoutModel",
            "_view_count": null,
            "_view_module": "@jupyter-widgets/base",
            "_view_module_version": "1.2.0",
            "_view_name": "LayoutView",
            "align_content": null,
            "align_items": null,
            "align_self": null,
            "border": null,
            "bottom": null,
            "display": null,
            "flex": null,
            "flex_flow": null,
            "grid_area": null,
            "grid_auto_columns": null,
            "grid_auto_flow": null,
            "grid_auto_rows": null,
            "grid_column": null,
            "grid_gap": null,
            "grid_row": null,
            "grid_template_areas": null,
            "grid_template_columns": null,
            "grid_template_rows": null,
            "height": "800px",
            "justify_content": null,
            "justify_items": null,
            "left": null,
            "margin": null,
            "max_height": null,
            "max_width": null,
            "min_height": null,
            "min_width": null,
            "object_fit": null,
            "object_position": null,
            "order": null,
            "overflow": null,
            "overflow_x": null,
            "overflow_y": null,
            "padding": null,
            "right": null,
            "top": null,
            "visibility": null,
            "width": "100%"
          }
        },
        "fe666dfc8c73415691ceb6e25709847e": {
          "model_module": "yfiles-jupyter-graphs",
          "model_name": "GraphModel",
          "model_module_version": "^1.10.8",
          "state": {
            "_context_pane_mapping": [
              {
                "id": "Neighborhood",
                "title": "Neighborhood"
              },
              {
                "id": "Data",
                "title": "Data"
              },
              {
                "id": "Search",
                "title": "Search"
              },
              {
                "id": "About",
                "title": "About"
              }
            ],
            "_data_importer": "unknown",
            "_directed": false,
            "_dom_classes": [],
            "_edges": [
              {
                "start": "LAX",
                "end": "JFK",
                "label": "",
                "properties": {},
                "directed": false,
                "id": "6f28225c-73c4-4e2a-a518-78f8356ad78e",
                "color": "#15AFAC",
                "thickness_factor": 1,
                "styles": {}
              },
              {
                "start": "JFK",
                "end": "GIG",
                "label": "",
                "properties": {},
                "directed": false,
                "id": "ae218385-9a36-4c4c-9f6f-c9f3b47e7747",
                "color": "#15AFAC",
                "thickness_factor": 1,
                "styles": {}
              },
              {
                "start": "JFK",
                "end": "LIM",
                "label": "",
                "properties": {},
                "directed": false,
                "id": "194338ea-cb46-4438-aa12-984b79d5a056",
                "color": "#15AFAC",
                "thickness_factor": 1,
                "styles": {}
              },
              {
                "start": "JFK",
                "end": "LHR",
                "label": "",
                "properties": {},
                "directed": false,
                "id": "df2d274f-0310-49e0-a15b-bd1d7371ef61",
                "color": "#15AFAC",
                "thickness_factor": 1,
                "styles": {}
              },
              {
                "start": "GIG",
                "end": "FRA",
                "label": "",
                "properties": {},
                "directed": false,
                "id": "0c70ffcf-cc40-497b-bf11-65d1ea3c513c",
                "color": "#15AFAC",
                "thickness_factor": 1,
                "styles": {}
              },
              {
                "start": "LIM",
                "end": "GIG",
                "label": "",
                "properties": {},
                "directed": false,
                "id": "ba4a3fdb-aa49-4022-ba54-34d5aeeae5e1",
                "color": "#15AFAC",
                "thickness_factor": 1,
                "styles": {}
              },
              {
                "start": "FRA",
                "end": "JFK",
                "label": "",
                "properties": {},
                "directed": false,
                "id": "6c36e3d8-bf34-4c61-a5f5-6cb8ab0b4c23",
                "color": "#15AFAC",
                "thickness_factor": 1,
                "styles": {}
              },
              {
                "start": "LHR",
                "end": "FRA",
                "label": "",
                "properties": {},
                "directed": false,
                "id": "3ace757d-ec63-4478-b1a5-47740c66573e",
                "color": "#15AFAC",
                "thickness_factor": 1,
                "styles": {}
              },
              {
                "start": "FRA",
                "end": "SVO",
                "label": "",
                "properties": {},
                "directed": false,
                "id": "7ffff4fb-3009-4b02-b346-effcb0830e8d",
                "color": "#15AFAC",
                "thickness_factor": 1,
                "styles": {}
              },
              {
                "start": "FRA",
                "end": "DXB",
                "label": "",
                "properties": {},
                "directed": false,
                "id": "b33eb52b-b41b-42f5-85d8-0d7c9ec358aa",
                "color": "#15AFAC",
                "thickness_factor": 1,
                "styles": {}
              },
              {
                "start": "SVO",
                "end": "DEL",
                "label": "",
                "properties": {},
                "directed": false,
                "id": "1c8fb25b-4680-414e-bc61-1b0fa5db5429",
                "color": "#15AFAC",
                "thickness_factor": 1,
                "styles": {}
              },
              {
                "start": "SVO",
                "end": "PVG",
                "label": "",
                "properties": {},
                "directed": false,
                "id": "ea5b3d84-c0c7-47df-a445-3013b56fdaee",
                "color": "#15AFAC",
                "thickness_factor": 1,
                "styles": {}
              },
              {
                "start": "DEL",
                "end": "HKG",
                "label": "",
                "properties": {},
                "directed": false,
                "id": "4e4f12a0-7d38-462e-9d08-11f7d1fc4e75",
                "color": "#15AFAC",
                "thickness_factor": 1,
                "styles": {}
              },
              {
                "start": "PVG",
                "end": "HKG",
                "label": "",
                "properties": {},
                "directed": false,
                "id": "d05d8e99-c4fd-447a-8a55-e1f639b6df54",
                "color": "#15AFAC",
                "thickness_factor": 1,
                "styles": {}
              },
              {
                "start": "PVG",
                "end": "NRT",
                "label": "",
                "properties": {},
                "directed": false,
                "id": "a9ec5c74-c008-4beb-81be-91ef8337b1b3",
                "color": "#15AFAC",
                "thickness_factor": 1,
                "styles": {}
              },
              {
                "start": "HKG",
                "end": "SYD",
                "label": "",
                "properties": {},
                "directed": false,
                "id": "9126b224-b45a-44d0-a295-9145bd203b7e",
                "color": "#15AFAC",
                "thickness_factor": 1,
                "styles": {}
              },
              {
                "start": "NRT",
                "end": "SYD",
                "label": "",
                "properties": {},
                "directed": false,
                "id": "9fa1e63a-63bc-4d6a-8b38-b95cfa07c203",
                "color": "#15AFAC",
                "thickness_factor": 1,
                "styles": {}
              },
              {
                "start": "DXB",
                "end": "SVO",
                "label": "",
                "properties": {},
                "directed": false,
                "id": "03ab691f-a3c4-40d8-a7d9-5e9915c1f29a",
                "color": "#15AFAC",
                "thickness_factor": 1,
                "styles": {}
              },
              {
                "start": "DXB",
                "end": "DEL",
                "label": "",
                "properties": {},
                "directed": false,
                "id": "9f758073-8f56-41b4-a9c0-445636d9d66c",
                "color": "#15AFAC",
                "thickness_factor": 1,
                "styles": {}
              },
              {
                "start": "DXB",
                "end": "DKR",
                "label": "",
                "properties": {},
                "directed": false,
                "id": "6f269590-9d5d-4696-ac7c-a011939d5d6a",
                "color": "#15AFAC",
                "thickness_factor": 1,
                "styles": {}
              },
              {
                "start": "DXB",
                "end": "JNB",
                "label": "",
                "properties": {},
                "directed": false,
                "id": "03c4b82d-4020-444c-8c1a-0406623c2656",
                "color": "#15AFAC",
                "thickness_factor": 1,
                "styles": {}
              },
              {
                "start": "JNB",
                "end": "LHR",
                "label": "",
                "properties": {},
                "directed": false,
                "id": "97aec433-5866-4905-b265-03fb0e1c587a",
                "color": "#15AFAC",
                "thickness_factor": 1,
                "styles": {}
              },
              {
                "start": "JNB",
                "end": "DKR",
                "label": "",
                "properties": {},
                "directed": false,
                "id": "e066475a-f60b-4b9b-81cd-022d744a1954",
                "color": "#15AFAC",
                "thickness_factor": 1,
                "styles": {}
              },
              {
                "start": "SYD",
                "end": "DXB",
                "label": "",
                "properties": {},
                "directed": false,
                "id": "c43817d1-8071-445a-961e-8f7875c57786",
                "color": "#15AFAC",
                "thickness_factor": 1,
                "styles": {}
              },
              {
                "start": "NBO",
                "end": "JNB",
                "label": "",
                "properties": {},
                "directed": false,
                "id": "4fbc540e-24f2-41d7-9718-0a1af6ae985f",
                "color": "#15AFAC",
                "thickness_factor": 1,
                "styles": {}
              },
              {
                "start": "NBO",
                "end": "DXB",
                "label": "",
                "properties": {},
                "directed": false,
                "id": "bb1cca38-2e34-4481-8b0b-80a546b8248d",
                "color": "#15AFAC",
                "thickness_factor": 1,
                "styles": {}
              },
              {
                "start": "ATL",
                "end": "JFK",
                "label": "",
                "properties": {},
                "directed": false,
                "id": "69a480bf-3bce-494c-ad7b-e7c49318b041",
                "color": "#15AFAC",
                "thickness_factor": 1,
                "styles": {}
              },
              {
                "start": "LAX",
                "end": "ATL",
                "label": "",
                "properties": {},
                "directed": false,
                "id": "d6e77824-7306-4fbf-9bc9-b0ce63c6a9a5",
                "color": "#15AFAC",
                "thickness_factor": 1,
                "styles": {}
              },
              {
                "start": "ATL",
                "end": "LHR",
                "label": "",
                "properties": {},
                "directed": false,
                "id": "5adfb942-ce2c-4014-955d-dbf90c1fc7f2",
                "color": "#15AFAC",
                "thickness_factor": 1,
                "styles": {}
              },
              {
                "start": "ATL",
                "end": "LIM",
                "label": "",
                "properties": {},
                "directed": false,
                "id": "2530fc2e-1136-479a-9539-3f79238a388d",
                "color": "#15AFAC",
                "thickness_factor": 1,
                "styles": {}
              },
              {
                "start": "SCL",
                "end": "LIM",
                "label": "",
                "properties": {},
                "directed": false,
                "id": "99a4d526-0ff1-4b42-88d7-d2c4b8864172",
                "color": "#15AFAC",
                "thickness_factor": 1,
                "styles": {}
              },
              {
                "start": "EZE",
                "end": "SCL",
                "label": "",
                "properties": {},
                "directed": false,
                "id": "30f26c28-114e-49b1-9260-9cdf93710f03",
                "color": "#15AFAC",
                "thickness_factor": 1,
                "styles": {}
              },
              {
                "start": "SCL",
                "end": "GRU",
                "label": "",
                "properties": {},
                "directed": false,
                "id": "ba016377-d4f0-4789-b4a9-7e54e1dcad12",
                "color": "#15AFAC",
                "thickness_factor": 1,
                "styles": {}
              },
              {
                "start": "GIG",
                "end": "EZE",
                "label": "",
                "properties": {},
                "directed": false,
                "id": "0c1d3bbb-c198-4013-a504-4c06401b8be3",
                "color": "#15AFAC",
                "thickness_factor": 1,
                "styles": {}
              },
              {
                "start": "GIG",
                "end": "GRU",
                "label": "",
                "properties": {},
                "directed": false,
                "id": "8f221d7c-42c0-4bd0-a709-f62e4961e0b1",
                "color": "#15AFAC",
                "thickness_factor": 1,
                "styles": {}
              },
              {
                "start": "BSB",
                "end": "GIG",
                "label": "",
                "properties": {},
                "directed": false,
                "id": "45334ad6-5c1a-449e-bcb0-8fbaf3929fe2",
                "color": "#15AFAC",
                "thickness_factor": 1,
                "styles": {}
              },
              {
                "start": "SCL",
                "end": "BSB",
                "label": "",
                "properties": {},
                "directed": false,
                "id": "4be7d62b-84f4-40e2-a500-b238795e29f1",
                "color": "#15AFAC",
                "thickness_factor": 1,
                "styles": {}
              },
              {
                "start": "LIM",
                "end": "BSB",
                "label": "",
                "properties": {},
                "directed": false,
                "id": "fe439a0c-dfdf-4397-82e0-26f38534f13f",
                "color": "#15AFAC",
                "thickness_factor": 1,
                "styles": {}
              },
              {
                "start": "BOG",
                "end": "BSB",
                "label": "",
                "properties": {},
                "directed": false,
                "id": "ccdf71e0-7283-4980-a19f-184c32984c79",
                "color": "#15AFAC",
                "thickness_factor": 1,
                "styles": {}
              },
              {
                "start": "CCS",
                "end": "BSB",
                "label": "",
                "properties": {},
                "directed": false,
                "id": "9490101e-a74a-43f8-b766-e589dc05dc7e",
                "color": "#15AFAC",
                "thickness_factor": 1,
                "styles": {}
              },
              {
                "start": "BOG",
                "end": "GUA",
                "label": "",
                "properties": {},
                "directed": false,
                "id": "852ff0ed-8c87-4c92-b801-e0dfb8ed6aad",
                "color": "#15AFAC",
                "thickness_factor": 1,
                "styles": {}
              },
              {
                "start": "CCS",
                "end": "MIA",
                "label": "",
                "properties": {},
                "directed": false,
                "id": "dd224294-7e2f-44de-9e9e-8f5ce772ca8f",
                "color": "#15AFAC",
                "thickness_factor": 1,
                "styles": {}
              },
              {
                "start": "GUA",
                "end": "MIA",
                "label": "",
                "properties": {},
                "directed": false,
                "id": "90e9bf62-4cd6-4cfa-aff6-4afed3ddae97",
                "color": "#15AFAC",
                "thickness_factor": 1,
                "styles": {}
              },
              {
                "start": "GUA",
                "end": "MEX",
                "label": "",
                "properties": {},
                "directed": false,
                "id": "fdcc15bf-ad32-496c-93b6-017b4d3348e6",
                "color": "#15AFAC",
                "thickness_factor": 1,
                "styles": {}
              },
              {
                "start": "MEX",
                "end": "LAX",
                "label": "",
                "properties": {},
                "directed": false,
                "id": "5dafc441-08a4-4508-a636-142158cd764a",
                "color": "#15AFAC",
                "thickness_factor": 1,
                "styles": {}
              },
              {
                "start": "MEX",
                "end": "LAX",
                "label": "",
                "properties": {},
                "directed": false,
                "id": "db6e3bd3-9880-4fca-9770-8573163f2d8b",
                "color": "#15AFAC",
                "thickness_factor": 1,
                "styles": {}
              },
              {
                "start": "LAX",
                "end": "SFO",
                "label": "",
                "properties": {},
                "directed": false,
                "id": "18deb138-e2a0-4735-a60b-431ad1ea3570",
                "color": "#15AFAC",
                "thickness_factor": 1,
                "styles": {}
              },
              {
                "start": "SFO",
                "end": "YVR",
                "label": "",
                "properties": {},
                "directed": false,
                "id": "f7251adf-1556-4503-b0db-1be71033f7ff",
                "color": "#15AFAC",
                "thickness_factor": 1,
                "styles": {}
              },
              {
                "start": "LAX",
                "end": "LAS",
                "label": "",
                "properties": {},
                "directed": false,
                "id": "b6d6fe2d-616b-442f-ada7-c1309f4da14f",
                "color": "#15AFAC",
                "thickness_factor": 1,
                "styles": {}
              },
              {
                "start": "LAX",
                "end": "DFW",
                "label": "",
                "properties": {},
                "directed": false,
                "id": "3bd784da-2c4a-470f-ba93-a21a4907caa2",
                "color": "#15AFAC",
                "thickness_factor": 1,
                "styles": {}
              },
              {
                "start": "LAX",
                "end": "ORD",
                "label": "",
                "properties": {},
                "directed": false,
                "id": "4c428235-0b33-41a4-90df-1b5e170cdd59",
                "color": "#15AFAC",
                "thickness_factor": 1,
                "styles": {}
              },
              {
                "start": "SFO",
                "end": "LAS",
                "label": "",
                "properties": {},
                "directed": false,
                "id": "19f7f8ab-d748-41fd-901a-9c9cb16d43f2",
                "color": "#15AFAC",
                "thickness_factor": 1,
                "styles": {}
              },
              {
                "start": "DFW",
                "end": "ATL",
                "label": "",
                "properties": {},
                "directed": false,
                "id": "eb407755-4587-4cb5-ab43-70cba2f446e7",
                "color": "#15AFAC",
                "thickness_factor": 1,
                "styles": {}
              },
              {
                "start": "ATL",
                "end": "YYZ",
                "label": "",
                "properties": {},
                "directed": false,
                "id": "7a599ee2-a40d-4dd5-b91d-9261d40f9ba9",
                "color": "#15AFAC",
                "thickness_factor": 1,
                "styles": {}
              },
              {
                "start": "ORD",
                "end": "YYZ",
                "label": "",
                "properties": {},
                "directed": false,
                "id": "c59f8e89-329d-43ee-8e0e-d18967bbe1e9",
                "color": "#15AFAC",
                "thickness_factor": 1,
                "styles": {}
              },
              {
                "start": "YYZ",
                "end": "YUL",
                "label": "",
                "properties": {},
                "directed": false,
                "id": "77dac866-c1f4-47b9-ac61-d0265e74fc7c",
                "color": "#15AFAC",
                "thickness_factor": 1,
                "styles": {}
              },
              {
                "start": "YYZ",
                "end": "JFK",
                "label": "",
                "properties": {},
                "directed": false,
                "id": "6ff17bf1-6c9c-44c3-ab89-656dafdc72f4",
                "color": "#15AFAC",
                "thickness_factor": 1,
                "styles": {}
              },
              {
                "start": "YUL",
                "end": "JFK",
                "label": "",
                "properties": {},
                "directed": false,
                "id": "7096f558-a419-41aa-b6e7-6ee37bee2b12",
                "color": "#15AFAC",
                "thickness_factor": 1,
                "styles": {}
              },
              {
                "start": "JNB",
                "end": "CPT",
                "label": "",
                "properties": {},
                "directed": false,
                "id": "136a3582-aa1f-400d-82fa-ca27ad29f32c",
                "color": "#15AFAC",
                "thickness_factor": 1,
                "styles": {}
              },
              {
                "start": "LOS",
                "end": "DKR",
                "label": "",
                "properties": {},
                "directed": false,
                "id": "f67d9e45-353b-462e-9dd7-e82ead1f0f12",
                "color": "#15AFAC",
                "thickness_factor": 1,
                "styles": {}
              },
              {
                "start": "NBO",
                "end": "LOS",
                "label": "",
                "properties": {},
                "directed": false,
                "id": "7aa5c264-9d2b-406c-a86c-65455d7f4b30",
                "color": "#15AFAC",
                "thickness_factor": 1,
                "styles": {}
              },
              {
                "start": "DKR",
                "end": "CMN",
                "label": "",
                "properties": {},
                "directed": false,
                "id": "1e0a92f1-bd56-4bc8-bd75-8d4aa6d03bfd",
                "color": "#15AFAC",
                "thickness_factor": 1,
                "styles": {}
              },
              {
                "start": "DKR",
                "end": "CAI",
                "label": "",
                "properties": {},
                "directed": false,
                "id": "decbcf93-9d78-47fe-8c10-4a63d04da72b",
                "color": "#15AFAC",
                "thickness_factor": 1,
                "styles": {}
              },
              {
                "start": "NBO",
                "end": "CAI",
                "label": "",
                "properties": {},
                "directed": false,
                "id": "30938507-abce-47ce-b9c6-de53c491e7ad",
                "color": "#15AFAC",
                "thickness_factor": 1,
                "styles": {}
              },
              {
                "start": "DXB",
                "end": "CAI",
                "label": "",
                "properties": {},
                "directed": false,
                "id": "d29c1792-3b3c-4d2f-b92b-76f38ce3897d",
                "color": "#15AFAC",
                "thickness_factor": 1,
                "styles": {}
              },
              {
                "start": "IKA",
                "end": "DXB",
                "label": "",
                "properties": {},
                "directed": false,
                "id": "31c516fc-f189-48bb-9d51-33266e0359ad",
                "color": "#15AFAC",
                "thickness_factor": 1,
                "styles": {}
              },
              {
                "start": "IST",
                "end": "IKA",
                "label": "",
                "properties": {},
                "directed": false,
                "id": "a47dfda6-41ed-4424-a948-97e7445333f0",
                "color": "#15AFAC",
                "thickness_factor": 1,
                "styles": {}
              },
              {
                "start": "TLV",
                "end": "ATH",
                "label": "",
                "properties": {},
                "directed": false,
                "id": "d48d7fb8-9adb-4d23-a3b5-4a3ae3af4220",
                "color": "#15AFAC",
                "thickness_factor": 1,
                "styles": {}
              },
              {
                "start": "CAI",
                "end": "TLV",
                "label": "",
                "properties": {},
                "directed": false,
                "id": "d2f35743-830f-4b71-9194-f411e1d4a452",
                "color": "#15AFAC",
                "thickness_factor": 1,
                "styles": {}
              },
              {
                "start": "ATH",
                "end": "IST",
                "label": "",
                "properties": {},
                "directed": false,
                "id": "cb4509c4-85f1-4545-92ad-1406f2b3cfee",
                "color": "#15AFAC",
                "thickness_factor": 1,
                "styles": {}
              },
              {
                "start": "FCO",
                "end": "ATH",
                "label": "",
                "properties": {},
                "directed": false,
                "id": "944bdeb5-f789-4968-a2e5-da86782dc24c",
                "color": "#15AFAC",
                "thickness_factor": 1,
                "styles": {}
              },
              {
                "start": "LIS",
                "end": "LHR",
                "label": "",
                "properties": {},
                "directed": false,
                "id": "13a69016-af8f-44c7-9255-8dcdc8be6e2b",
                "color": "#15AFAC",
                "thickness_factor": 1,
                "styles": {}
              },
              {
                "start": "LIS",
                "end": "MAD",
                "label": "",
                "properties": {},
                "directed": false,
                "id": "62608b78-2ce9-440c-82d1-cc2752a76d23",
                "color": "#15AFAC",
                "thickness_factor": 1,
                "styles": {}
              },
              {
                "start": "MAD",
                "end": "BCN",
                "label": "",
                "properties": {},
                "directed": false,
                "id": "0447d91d-4ffe-4098-8a73-e6c41e8bce15",
                "color": "#15AFAC",
                "thickness_factor": 1,
                "styles": {}
              },
              {
                "start": "CDG",
                "end": "LHR",
                "label": "",
                "properties": {},
                "directed": false,
                "id": "224bcf82-3a2d-4f4e-9358-96ad7d5568d8",
                "color": "#15AFAC",
                "thickness_factor": 1,
                "styles": {}
              },
              {
                "start": "DUB",
                "end": "LHR",
                "label": "",
                "properties": {},
                "directed": false,
                "id": "116362f3-d7e4-4f8f-9d1d-5bc6b459f88e",
                "color": "#15AFAC",
                "thickness_factor": 1,
                "styles": {}
              },
              {
                "start": "EDI",
                "end": "LHR",
                "label": "",
                "properties": {},
                "directed": false,
                "id": "3ea6ef4a-2f88-426d-a321-4f3212397b78",
                "color": "#15AFAC",
                "thickness_factor": 1,
                "styles": {}
              },
              {
                "start": "CDG",
                "end": "BCN",
                "label": "",
                "properties": {},
                "directed": false,
                "id": "1d31c43d-3c97-474a-8021-226b294ed81e",
                "color": "#15AFAC",
                "thickness_factor": 1,
                "styles": {}
              },
              {
                "start": "BCN",
                "end": "FCO",
                "label": "",
                "properties": {},
                "directed": false,
                "id": "9319fec0-4577-439a-97f5-71898f05e7e7",
                "color": "#15AFAC",
                "thickness_factor": 1,
                "styles": {}
              },
              {
                "start": "VIE",
                "end": "IST",
                "label": "",
                "properties": {},
                "directed": false,
                "id": "28474528-4611-42f6-a2ca-1c6576b366c7",
                "color": "#15AFAC",
                "thickness_factor": 1,
                "styles": {}
              },
              {
                "start": "VIE",
                "end": "SVO",
                "label": "",
                "properties": {},
                "directed": false,
                "id": "b52845a6-847c-4019-80ae-b745f3be6cd2",
                "color": "#15AFAC",
                "thickness_factor": 1,
                "styles": {}
              },
              {
                "start": "CMN",
                "end": "LIS",
                "label": "",
                "properties": {},
                "directed": false,
                "id": "74331974-ee62-466c-bff5-dd941e5f7d9e",
                "color": "#15AFAC",
                "thickness_factor": 1,
                "styles": {}
              },
              {
                "start": "MAD",
                "end": "CMN",
                "label": "",
                "properties": {},
                "directed": false,
                "id": "953b517b-21aa-4fbd-ba87-9ff764eb7f05",
                "color": "#15AFAC",
                "thickness_factor": 1,
                "styles": {}
              },
              {
                "start": "FRA",
                "end": "CPH",
                "label": "",
                "properties": {},
                "directed": false,
                "id": "3fee60a0-edf4-4819-af5a-22fb82e97622",
                "color": "#15AFAC",
                "thickness_factor": 1,
                "styles": {}
              },
              {
                "start": "LHR",
                "end": "CPH",
                "label": "",
                "properties": {},
                "directed": false,
                "id": "d03bd183-ae7e-4901-9e9e-167976ecbf48",
                "color": "#15AFAC",
                "thickness_factor": 1,
                "styles": {}
              },
              {
                "start": "CPH",
                "end": "OSL",
                "label": "",
                "properties": {},
                "directed": false,
                "id": "e3b188c0-f603-4398-9577-8b4f134ffe50",
                "color": "#15AFAC",
                "thickness_factor": 1,
                "styles": {}
              },
              {
                "start": "CPH",
                "end": "ARN",
                "label": "",
                "properties": {},
                "directed": false,
                "id": "0b54d7ae-1b13-42d7-90ec-4062e55d94bf",
                "color": "#15AFAC",
                "thickness_factor": 1,
                "styles": {}
              },
              {
                "start": "ARN",
                "end": "HEL",
                "label": "",
                "properties": {},
                "directed": false,
                "id": "adb46f54-e71e-4d7d-aaab-471503ca1d6a",
                "color": "#15AFAC",
                "thickness_factor": 1,
                "styles": {}
              },
              {
                "start": "HEL",
                "end": "SVO",
                "label": "",
                "properties": {},
                "directed": false,
                "id": "f8e13a87-cc2e-4db6-a87c-e2d9912114d5",
                "color": "#15AFAC",
                "thickness_factor": 1,
                "styles": {}
              },
              {
                "start": "ULN",
                "end": "PVG",
                "label": "",
                "properties": {},
                "directed": false,
                "id": "7651dd1d-c1f5-4bae-9f98-df8e2f037369",
                "color": "#15AFAC",
                "thickness_factor": 1,
                "styles": {}
              },
              {
                "start": "CTU",
                "end": "PVG",
                "label": "",
                "properties": {},
                "directed": false,
                "id": "458e9157-db30-4673-a4ef-cc6553287e2d",
                "color": "#15AFAC",
                "thickness_factor": 1,
                "styles": {}
              },
              {
                "start": "PVG",
                "end": "TPE",
                "label": "",
                "properties": {},
                "directed": false,
                "id": "b508c990-31bd-4584-a8c3-5d21b8c3fe52",
                "color": "#15AFAC",
                "thickness_factor": 1,
                "styles": {}
              },
              {
                "start": "CTU",
                "end": "HKG",
                "label": "",
                "properties": {},
                "directed": false,
                "id": "b01b19f3-84c8-47a9-8436-2e92af2462b8",
                "color": "#15AFAC",
                "thickness_factor": 1,
                "styles": {}
              },
              {
                "start": "TPE",
                "end": "HKG",
                "label": "",
                "properties": {},
                "directed": false,
                "id": "7e80f2f7-e289-46c7-a091-7379cf37ed9e",
                "color": "#15AFAC",
                "thickness_factor": 1,
                "styles": {}
              },
              {
                "start": "HKG",
                "end": "MNL",
                "label": "",
                "properties": {},
                "directed": false,
                "id": "32a01d6a-9afe-4f5a-a61e-a7c6fa1477f4",
                "color": "#15AFAC",
                "thickness_factor": 1,
                "styles": {}
              },
              {
                "start": "BKK",
                "end": "HKG",
                "label": "",
                "properties": {},
                "directed": false,
                "id": "81630abf-e0f8-4155-9057-0a2478bad1c4",
                "color": "#15AFAC",
                "thickness_factor": 1,
                "styles": {}
              },
              {
                "start": "SIN",
                "end": "KUL",
                "label": "",
                "properties": {},
                "directed": false,
                "id": "77349e28-0797-460d-9919-050243d8d5a1",
                "color": "#15AFAC",
                "thickness_factor": 1,
                "styles": {}
              },
              {
                "start": "SIN",
                "end": "BKK",
                "label": "",
                "properties": {},
                "directed": false,
                "id": "c0350267-bb8f-4747-9763-513d31a41528",
                "color": "#15AFAC",
                "thickness_factor": 1,
                "styles": {}
              },
              {
                "start": "CGK",
                "end": "SIN",
                "label": "",
                "properties": {},
                "directed": false,
                "id": "13b8c2e2-a971-4fd1-a8b5-7ff90d78e1da",
                "color": "#15AFAC",
                "thickness_factor": 1,
                "styles": {}
              },
              {
                "start": "MNL",
                "end": "SIN",
                "label": "",
                "properties": {},
                "directed": false,
                "id": "ee7c3cdf-10d1-451b-9c7b-6a733b660e32",
                "color": "#15AFAC",
                "thickness_factor": 1,
                "styles": {}
              },
              {
                "start": "SIN",
                "end": "SYD",
                "label": "",
                "properties": {},
                "directed": false,
                "id": "b8f09efa-3376-485a-a2c3-470001bcbea2",
                "color": "#15AFAC",
                "thickness_factor": 1,
                "styles": {}
              },
              {
                "start": "BNE",
                "end": "SYD",
                "label": "",
                "properties": {},
                "directed": false,
                "id": "8514a586-298e-44b6-806c-da57ddfcd878",
                "color": "#15AFAC",
                "thickness_factor": 1,
                "styles": {}
              },
              {
                "start": "SYD",
                "end": "MEL",
                "label": "",
                "properties": {},
                "directed": false,
                "id": "2efa8659-c370-403f-8579-a43d9569db56",
                "color": "#15AFAC",
                "thickness_factor": 1,
                "styles": {}
              },
              {
                "start": "NAN",
                "end": "SYD",
                "label": "",
                "properties": {},
                "directed": false,
                "id": "fe39289d-53a3-4527-8496-b7f6abc6505b",
                "color": "#15AFAC",
                "thickness_factor": 1,
                "styles": {}
              },
              {
                "start": "AKL",
                "end": "SYD",
                "label": "",
                "properties": {},
                "directed": false,
                "id": "e7111510-04a9-446f-86b6-12fac5795816",
                "color": "#15AFAC",
                "thickness_factor": 1,
                "styles": {}
              },
              {
                "start": "NAN",
                "end": "AKL",
                "label": "",
                "properties": {},
                "directed": false,
                "id": "6e912e0f-a77b-4a7c-a3da-9c8f145baab2",
                "color": "#15AFAC",
                "thickness_factor": 1,
                "styles": {}
              },
              {
                "start": "RKV",
                "end": "LHR",
                "label": "",
                "properties": {},
                "directed": false,
                "id": "5bae3684-70d3-4c16-b71a-617dafeca11e",
                "color": "#15AFAC",
                "thickness_factor": 1,
                "styles": {}
              },
              {
                "start": "BCN",
                "end": "CDG",
                "label": "",
                "properties": {},
                "directed": false,
                "id": "1e8796c7-874e-49c6-8624-37b4f08af222",
                "color": "#15AFAC",
                "thickness_factor": 1,
                "styles": {}
              },
              {
                "start": "BCN",
                "end": "FRA",
                "label": "",
                "properties": {},
                "directed": false,
                "id": "0c96b038-197f-4ed5-8304-804e1dee4e14",
                "color": "#15AFAC",
                "thickness_factor": 1,
                "styles": {}
              },
              {
                "start": "FCO",
                "end": "FRA",
                "label": "",
                "properties": {},
                "directed": false,
                "id": "9bab3657-87a2-4e80-813d-2e5652abf1e0",
                "color": "#15AFAC",
                "thickness_factor": 1,
                "styles": {}
              },
              {
                "start": "BOG",
                "end": "MEX",
                "label": "",
                "properties": {},
                "directed": false,
                "id": "ed07f4d1-1b14-48de-9d3e-7e60fdfce556",
                "color": "#15AFAC",
                "thickness_factor": 1,
                "styles": {}
              },
              {
                "start": "BOG",
                "end": "GRU",
                "label": "",
                "properties": {},
                "directed": false,
                "id": "38be4e6e-c70b-4fc0-ac72-05a78b3c0962",
                "color": "#15AFAC",
                "thickness_factor": 1,
                "styles": {}
              },
              {
                "start": "ATL",
                "end": "MIA",
                "label": "",
                "properties": {},
                "directed": false,
                "id": "59f5a318-23ae-43ae-a631-cd98d3a9c01e",
                "color": "#15AFAC",
                "thickness_factor": 1,
                "styles": {}
              },
              {
                "start": "FRA",
                "end": "IST",
                "label": "",
                "properties": {},
                "directed": false,
                "id": "5fca1ad7-9558-496a-96e5-3051199e7ab9",
                "color": "#15AFAC",
                "thickness_factor": 1,
                "styles": {}
              },
              {
                "start": "IST",
                "end": "DEL",
                "label": "",
                "properties": {},
                "directed": false,
                "id": "e4781d5e-ceaa-4a41-af5d-c7988addd628",
                "color": "#15AFAC",
                "thickness_factor": 1,
                "styles": {}
              },
              {
                "start": "PVG",
                "end": "BKK",
                "label": "",
                "properties": {},
                "directed": false,
                "id": "185d11a9-5e59-4f1a-bbae-d2b32a9f4ab0",
                "color": "#15AFAC",
                "thickness_factor": 1,
                "styles": {}
              },
              {
                "start": "DEL",
                "end": "BKK",
                "label": "",
                "properties": {},
                "directed": false,
                "id": "c3262008-af21-4408-a774-f7c8bb222a70",
                "color": "#15AFAC",
                "thickness_factor": 1,
                "styles": {}
              }
            ],
            "_graph_layout": {
              "algorithm": "circular",
              "options": {}
            },
            "_highlight": [],
            "_license": {},
            "_model_module": "yfiles-jupyter-graphs",
            "_model_module_version": "^1.10.8",
            "_model_name": "GraphModel",
            "_neighborhood": {},
            "_nodes": [
              {
                "id": "LAX",
                "properties": {
                  "label": "Los Angeles",
                  "passengers": 65000000,
                  "country": "USA",
                  "country_id": "us"
                },
                "coordinates": [
                  33.942536,
                  -118.408075
                ],
                "color": "#15AFAC",
                "styles": {},
                "label": "Los Angeles",
                "scale_factor": 1,
                "type": "#15AFAC",
                "size": [
                  55,
                  55
                ],
                "position": [
                  0,
                  0
                ]
              },
              {
                "id": "GIG",
                "properties": {
                  "label": "Rio de Janeiro",
                  "passengers": 5000000,
                  "country": "Brazil",
                  "country_id": "br"
                },
                "coordinates": [
                  -22.808903,
                  -43.243647
                ],
                "color": "#15AFAC",
                "styles": {},
                "label": "Rio de Janeiro",
                "scale_factor": 1,
                "type": "#15AFAC",
                "size": [
                  55,
                  55
                ],
                "position": [
                  0,
                  0
                ]
              },
              {
                "id": "LIM",
                "properties": {
                  "label": "Lima",
                  "passengers": 18000000,
                  "country": "Peru",
                  "country_id": "pe"
                },
                "coordinates": [
                  -12.021889,
                  -77.114319
                ],
                "color": "#15AFAC",
                "styles": {},
                "label": "Lima",
                "scale_factor": 1,
                "type": "#15AFAC",
                "size": [
                  55,
                  55
                ],
                "position": [
                  0,
                  0
                ]
              },
              {
                "id": "LHR",
                "properties": {
                  "label": "London",
                  "passengers": 61000000,
                  "country": "UK",
                  "country_id": "gb"
                },
                "coordinates": [
                  51.4775,
                  -0.461389
                ],
                "color": "#15AFAC",
                "styles": {},
                "label": "London",
                "scale_factor": 1,
                "type": "#15AFAC",
                "size": [
                  55,
                  55
                ],
                "position": [
                  0,
                  0
                ]
              },
              {
                "id": "FRA",
                "properties": {
                  "label": "Frankfurt",
                  "passengers": 48000000,
                  "country": "Germany",
                  "country_id": "de"
                },
                "coordinates": [
                  50.033333,
                  8.570556
                ],
                "color": "#15AFAC",
                "styles": {},
                "label": "Frankfurt",
                "scale_factor": 1,
                "type": "#15AFAC",
                "size": [
                  55,
                  55
                ],
                "position": [
                  0,
                  0
                ]
              },
              {
                "id": "SVO",
                "properties": {
                  "label": "Moscow",
                  "passengers": 49000000,
                  "country": "Russia",
                  "country_id": "ru"
                },
                "coordinates": [
                  55.972642,
                  37.414589
                ],
                "color": "#15AFAC",
                "styles": {},
                "label": "Moscow",
                "scale_factor": 1,
                "type": "#15AFAC",
                "size": [
                  55,
                  55
                ],
                "position": [
                  0,
                  0
                ]
              },
              {
                "id": "DEL",
                "properties": {
                  "label": "New Delhi",
                  "passengers": 39000000,
                  "country": "India",
                  "country_id": "in"
                },
                "coordinates": [
                  28.5665,
                  77.103089
                ],
                "color": "#15AFAC",
                "styles": {},
                "label": "New Delhi",
                "scale_factor": 1,
                "type": "#15AFAC",
                "size": [
                  55,
                  55
                ],
                "position": [
                  0,
                  0
                ]
              },
              {
                "id": "PVG",
                "properties": {
                  "label": "Shanghai",
                  "passengers": 32000000,
                  "country": "China",
                  "country_id": "hk"
                },
                "coordinates": [
                  31.143378,
                  121.805214
                ],
                "color": "#15AFAC",
                "styles": {},
                "label": "Shanghai",
                "scale_factor": 1,
                "type": "#15AFAC",
                "size": [
                  55,
                  55
                ],
                "position": [
                  0,
                  0
                ]
              },
              {
                "id": "HKG",
                "properties": {
                  "label": "Hongkong",
                  "passengers": 1000000,
                  "country": "China",
                  "country_id": "hk"
                },
                "coordinates": [
                  22.308919,
                  113.914603
                ],
                "color": "#15AFAC",
                "styles": {},
                "label": "Hongkong",
                "scale_factor": 1,
                "type": "#15AFAC",
                "size": [
                  55,
                  55
                ],
                "position": [
                  0,
                  0
                ]
              },
              {
                "id": "NRT",
                "properties": {
                  "label": "Tokio",
                  "passengers": 15000000,
                  "country": "Japan",
                  "country_id": "jp"
                },
                "coordinates": [
                  35.764722,
                  140.386389
                ],
                "color": "#15AFAC",
                "styles": {},
                "label": "Tokio",
                "scale_factor": 1,
                "type": "#15AFAC",
                "size": [
                  55,
                  55
                ],
                "position": [
                  0,
                  0
                ]
              },
              {
                "id": "DXB",
                "properties": {
                  "label": "Dubai",
                  "passengers": 29000000,
                  "country": "UAE",
                  "country_id": "ae"
                },
                "coordinates": [
                  25.252778,
                  55.364444
                ],
                "color": "#15AFAC",
                "styles": {},
                "label": "Dubai",
                "scale_factor": 1,
                "type": "#15AFAC",
                "size": [
                  55,
                  55
                ],
                "position": [
                  0,
                  0
                ]
              },
              {
                "id": "DKR",
                "properties": {
                  "label": "Dakar",
                  "passengers": 2000000,
                  "country": "Senegal",
                  "country_id": "sn"
                },
                "coordinates": [
                  14.670833,
                  -17.072778
                ],
                "color": "#15AFAC",
                "styles": {},
                "label": "Dakar",
                "scale_factor": 1,
                "type": "#15AFAC",
                "size": [
                  55,
                  55
                ],
                "position": [
                  0,
                  0
                ]
              },
              {
                "id": "JNB",
                "properties": {
                  "label": "Johannesburg",
                  "passengers": 9000000,
                  "country": "South Africa",
                  "country_id": "za"
                },
                "coordinates": [
                  -26.133694,
                  28.242317
                ],
                "color": "#15AFAC",
                "styles": {},
                "label": "Johannesburg",
                "scale_factor": 1,
                "type": "#15AFAC",
                "size": [
                  55,
                  55
                ],
                "position": [
                  0,
                  0
                ]
              },
              {
                "id": "SYD",
                "properties": {
                  "label": "Sydney",
                  "passengers": 44000000,
                  "country": "Australia",
                  "country_id": "au"
                },
                "coordinates": [
                  -33.946111,
                  151.177222
                ],
                "color": "#15AFAC",
                "styles": {},
                "label": "Sydney",
                "scale_factor": 1,
                "type": "#15AFAC",
                "size": [
                  55,
                  55
                ],
                "position": [
                  0,
                  0
                ]
              },
              {
                "id": "NBO",
                "properties": {
                  "label": "Nairobi",
                  "passengers": 900000,
                  "country": "Kenya",
                  "country_id": "ke"
                },
                "coordinates": [
                  -1.319167,
                  36.927778
                ],
                "color": "#15AFAC",
                "styles": {},
                "label": "Nairobi",
                "scale_factor": 1,
                "type": "#15AFAC",
                "size": [
                  55,
                  55
                ],
                "position": [
                  0,
                  0
                ]
              },
              {
                "id": "ATL",
                "properties": {
                  "label": "Atlanta",
                  "passengers": 93000000,
                  "country": "USA",
                  "country_id": "us"
                },
                "coordinates": [
                  33.639167,
                  -84.427778
                ],
                "color": "#15AFAC",
                "styles": {},
                "label": "Atlanta",
                "scale_factor": 1,
                "type": "#15AFAC",
                "size": [
                  55,
                  55
                ],
                "position": [
                  0,
                  0
                ]
              },
              {
                "id": "JFK",
                "properties": {
                  "label": "New York City",
                  "passengers": 55000000,
                  "country": "USA",
                  "country_id": "us"
                },
                "coordinates": [
                  40.63975,
                  -73.778925
                ],
                "color": "#15AFAC",
                "styles": {},
                "label": "New York City",
                "scale_factor": 1,
                "type": "#15AFAC",
                "size": [
                  55,
                  55
                ],
                "position": [
                  0,
                  0
                ]
              },
              {
                "id": "CAI",
                "properties": {
                  "label": "Cairo",
                  "passengers": 14000000,
                  "country": "Egypt",
                  "country_id": "eg"
                },
                "coordinates": [
                  30.121944,
                  31.405556
                ],
                "color": "#15AFAC",
                "styles": {},
                "label": "Cairo",
                "scale_factor": 1,
                "type": "#15AFAC",
                "size": [
                  55,
                  55
                ],
                "position": [
                  0,
                  0
                ]
              },
              {
                "id": "CMN",
                "properties": {
                  "label": "Casablanca",
                  "passengers": 7000000,
                  "country": "Morocco",
                  "country_id": "ma"
                },
                "coordinates": [
                  33.367467,
                  -7.589967
                ],
                "color": "#15AFAC",
                "styles": {},
                "label": "Casablanca",
                "scale_factor": 1,
                "type": "#15AFAC",
                "size": [
                  55,
                  55
                ],
                "position": [
                  0,
                  0
                ]
              },
              {
                "id": "LOS",
                "properties": {
                  "label": "Lagos",
                  "passengers": 5000000,
                  "country": "Nigeria",
                  "country_id": "ng"
                },
                "coordinates": [
                  6.577222,
                  3.321111
                ],
                "color": "#15AFAC",
                "styles": {},
                "label": "Lagos",
                "scale_factor": 1,
                "type": "#15AFAC",
                "size": [
                  55,
                  55
                ],
                "position": [
                  0,
                  0
                ]
              },
              {
                "id": "CPT",
                "properties": {
                  "label": "Cape Town",
                  "passengers": 5000000,
                  "country": "South Africa",
                  "country_id": "za"
                },
                "coordinates": [
                  -33.969444,
                  18.597222
                ],
                "color": "#15AFAC",
                "styles": {},
                "label": "Cape Town",
                "scale_factor": 1,
                "type": "#15AFAC",
                "size": [
                  55,
                  55
                ],
                "position": [
                  0,
                  0
                ]
              },
              {
                "id": "CTU",
                "properties": {
                  "label": "Chengdu",
                  "passengers": 40000000,
                  "country": "China",
                  "country_id": "hk"
                },
                "coordinates": [
                  30.578333,
                  103.946944
                ],
                "color": "#15AFAC",
                "styles": {},
                "label": "Chengdu",
                "scale_factor": 1,
                "type": "#15AFAC",
                "size": [
                  55,
                  55
                ],
                "position": [
                  0,
                  0
                ]
              },
              {
                "id": "CGK",
                "properties": {
                  "label": "Jakarta",
                  "passengers": 54000000,
                  "country": "Indonesia",
                  "country_id": "id"
                },
                "coordinates": [
                  -6.125567,
                  106.655897
                ],
                "color": "#15AFAC",
                "styles": {},
                "label": "Jakarta",
                "scale_factor": 1,
                "type": "#15AFAC",
                "size": [
                  55,
                  55
                ],
                "position": [
                  0,
                  0
                ]
              },
              {
                "id": "IKA",
                "properties": {
                  "label": "Teheran",
                  "passengers": 8000000,
                  "country": "Iran",
                  "country_id": "ir"
                },
                "coordinates": [
                  35.416111,
                  51.152222
                ],
                "color": "#15AFAC",
                "styles": {},
                "label": "Teheran",
                "scale_factor": 1,
                "type": "#15AFAC",
                "size": [
                  55,
                  55
                ],
                "position": [
                  0,
                  0
                ]
              },
              {
                "id": "TLV",
                "properties": {
                  "label": "Tel Aviv",
                  "passengers": 20000000,
                  "country": "Israel",
                  "country_id": "il"
                },
                "coordinates": [
                  32.011389,
                  34.886667
                ],
                "color": "#15AFAC",
                "styles": {},
                "label": "Tel Aviv",
                "scale_factor": 1,
                "type": "#15AFAC",
                "size": [
                  55,
                  55
                ],
                "position": [
                  0,
                  0
                ]
              },
              {
                "id": "KUL",
                "properties": {
                  "label": "Kuala Lumpur",
                  "passengers": 25000000,
                  "country": "Malaysia",
                  "country_id": "my"
                },
                "coordinates": [
                  2.745578,
                  101.709917
                ],
                "color": "#15AFAC",
                "styles": {},
                "label": "Kuala Lumpur",
                "scale_factor": 1,
                "type": "#15AFAC",
                "size": [
                  55,
                  55
                ],
                "position": [
                  0,
                  0
                ]
              },
              {
                "id": "MNL",
                "properties": {
                  "label": "Manila",
                  "passengers": 8000000,
                  "country": "Philippines",
                  "country_id": "ph"
                },
                "coordinates": [
                  14.508647,
                  121.019581
                ],
                "color": "#15AFAC",
                "styles": {},
                "label": "Manila",
                "scale_factor": 1,
                "type": "#15AFAC",
                "size": [
                  55,
                  55
                ],
                "position": [
                  0,
                  0
                ]
              },
              {
                "id": "SIN",
                "properties": {
                  "label": "Singapur",
                  "passengers": 32000000,
                  "country": "Singapore",
                  "country_id": "sg"
                },
                "coordinates": [
                  1.350189,
                  103.994433
                ],
                "color": "#15AFAC",
                "styles": {},
                "label": "Singapur",
                "scale_factor": 1,
                "type": "#15AFAC",
                "size": [
                  55,
                  55
                ],
                "position": [
                  0,
                  0
                ]
              },
              {
                "id": "TPE",
                "properties": {
                  "label": "Taipeh",
                  "passengers": 800000,
                  "country": "Taiwan",
                  "country_id": "tw"
                },
                "coordinates": [
                  25.077732,
                  121.232822
                ],
                "color": "#15AFAC",
                "styles": {},
                "label": "Taipeh",
                "scale_factor": 1,
                "type": "#15AFAC",
                "size": [
                  55,
                  55
                ],
                "position": [
                  0,
                  0
                ]
              },
              {
                "id": "BKK",
                "properties": {
                  "label": "Bangkok",
                  "passengers": 65000000,
                  "country": "Thailand",
                  "country_id": "th"
                },
                "coordinates": [
                  13.681108,
                  100.747283
                ],
                "color": "#15AFAC",
                "styles": {},
                "label": "Bangkok",
                "scale_factor": 1,
                "type": "#15AFAC",
                "size": [
                  55,
                  55
                ],
                "position": [
                  0,
                  0
                ]
              },
              {
                "id": "IST",
                "properties": {
                  "label": "Istanbul",
                  "passengers": 64000000,
                  "country": "Turkey",
                  "country_id": "tr"
                },
                "coordinates": [
                  40.976922,
                  28.814606
                ],
                "color": "#15AFAC",
                "styles": {},
                "label": "Istanbul",
                "scale_factor": 1,
                "type": "#15AFAC",
                "size": [
                  55,
                  55
                ],
                "position": [
                  0,
                  0
                ]
              },
              {
                "id": "ULN",
                "properties": {
                  "label": "Ulaanbaatar",
                  "passengers": 1000000,
                  "country": "Mongolia",
                  "country_id": "mn"
                },
                "coordinates": [
                  47.843056,
                  106.766639
                ],
                "color": "#15AFAC",
                "styles": {},
                "label": "Ulaanbaatar",
                "scale_factor": 1,
                "type": "#15AFAC",
                "size": [
                  55,
                  55
                ],
                "position": [
                  0,
                  0
                ]
              },
              {
                "id": "MEL",
                "properties": {
                  "label": "Melbourne",
                  "passengers": 12000000,
                  "country": "Australia",
                  "country_id": "au"
                },
                "coordinates": [
                  -37.673333,
                  144.843333
                ],
                "color": "#15AFAC",
                "styles": {},
                "label": "Melbourne",
                "scale_factor": 1,
                "type": "#15AFAC",
                "size": [
                  55,
                  55
                ],
                "position": [
                  0,
                  0
                ]
              },
              {
                "id": "BNE",
                "properties": {
                  "label": "Brisbane",
                  "passengers": 23000000,
                  "country": "Australia",
                  "country_id": "au"
                },
                "coordinates": [
                  -27.383333,
                  153.118056
                ],
                "color": "#15AFAC",
                "styles": {},
                "label": "Brisbane",
                "scale_factor": 1,
                "type": "#15AFAC",
                "size": [
                  55,
                  55
                ],
                "position": [
                  0,
                  0
                ]
              },
              {
                "id": "NAN",
                "properties": {
                  "label": "Nadi",
                  "passengers": 2000000,
                  "country": "Fiji",
                  "country_id": "fj"
                },
                "coordinates": [
                  -17.755392,
                  177.443378
                ],
                "color": "#15AFAC",
                "styles": {},
                "label": "Nadi",
                "scale_factor": 1,
                "type": "#15AFAC",
                "size": [
                  55,
                  55
                ],
                "position": [
                  0,
                  0
                ]
              },
              {
                "id": "AKL",
                "properties": {
                  "label": "Auckland",
                  "passengers": 21000000,
                  "country": "New Zealand",
                  "country_id": "nz"
                },
                "coordinates": [
                  -37.008056,
                  174.791667
                ],
                "color": "#15AFAC",
                "styles": {},
                "label": "Auckland",
                "scale_factor": 1,
                "type": "#15AFAC",
                "size": [
                  55,
                  55
                ],
                "position": [
                  0,
                  0
                ]
              },
              {
                "id": "CDG",
                "properties": {
                  "label": "Paris",
                  "passengers": 57000000,
                  "country": "France",
                  "country_id": "fr"
                },
                "coordinates": [
                  49.009722,
                  2.547778
                ],
                "color": "#15AFAC",
                "styles": {},
                "label": "Paris",
                "scale_factor": 1,
                "type": "#15AFAC",
                "size": [
                  55,
                  55
                ],
                "position": [
                  0,
                  0
                ]
              },
              {
                "id": "MAD",
                "properties": {
                  "label": "Madrid",
                  "passengers": 50000000,
                  "country": "Spain",
                  "country_id": "es"
                },
                "coordinates": [
                  40.4675,
                  -3.551944
                ],
                "color": "#15AFAC",
                "styles": {},
                "label": "Madrid",
                "scale_factor": 1,
                "type": "#15AFAC",
                "size": [
                  55,
                  55
                ],
                "position": [
                  0,
                  0
                ]
              },
              {
                "id": "BCN",
                "properties": {
                  "label": "Barcelona",
                  "passengers": 41000000,
                  "country": "Spain",
                  "country_id": "es"
                },
                "coordinates": [
                  41.297078,
                  2.078464
                ],
                "color": "#15AFAC",
                "styles": {},
                "label": "Barcelona",
                "scale_factor": 1,
                "type": "#15AFAC",
                "size": [
                  55,
                  55
                ],
                "position": [
                  0,
                  0
                ]
              },
              {
                "id": "FCO",
                "properties": {
                  "label": "Rome",
                  "passengers": 29000000,
                  "country": "Italy",
                  "country_id": "it"
                },
                "coordinates": [
                  41.804444,
                  12.250833
                ],
                "color": "#15AFAC",
                "styles": {},
                "label": "Rome",
                "scale_factor": 1,
                "type": "#15AFAC",
                "size": [
                  55,
                  55
                ],
                "position": [
                  0,
                  0
                ]
              },
              {
                "id": "CPH",
                "properties": {
                  "label": "Copenhagen",
                  "passengers": 30000000,
                  "country": "Denmark",
                  "country_id": "dk"
                },
                "coordinates": [
                  55.617917,
                  12.655972
                ],
                "color": "#15AFAC",
                "styles": {},
                "label": "Copenhagen",
                "scale_factor": 1,
                "type": "#15AFAC",
                "size": [
                  55,
                  55
                ],
                "position": [
                  0,
                  0
                ]
              },
              {
                "id": "HEL",
                "properties": {
                  "label": "Helsinki",
                  "passengers": 5000000,
                  "country": "Finland",
                  "country_id": "fi"
                },
                "coordinates": [
                  60.317222,
                  24.963333
                ],
                "color": "#15AFAC",
                "styles": {},
                "label": "Helsinki",
                "scale_factor": 1,
                "type": "#15AFAC",
                "size": [
                  55,
                  55
                ],
                "position": [
                  0,
                  0
                ]
              },
              {
                "id": "ATH",
                "properties": {
                  "label": "Athens",
                  "passengers": 22000000,
                  "country": "Greece",
                  "country_id": "gr"
                },
                "coordinates": [
                  37.936358,
                  23.944467
                ],
                "color": "#15AFAC",
                "styles": {},
                "label": "Athens",
                "scale_factor": 1,
                "type": "#15AFAC",
                "size": [
                  55,
                  55
                ],
                "position": [
                  0,
                  0
                ]
              },
              {
                "id": "DUB",
                "properties": {
                  "label": "Dublin",
                  "passengers": 32000000,
                  "country": "Ireland",
                  "country_id": "ie"
                },
                "coordinates": [
                  53.421333,
                  -6.270075
                ],
                "color": "#15AFAC",
                "styles": {},
                "label": "Dublin",
                "scale_factor": 1,
                "type": "#15AFAC",
                "size": [
                  55,
                  55
                ],
                "position": [
                  0,
                  0
                ]
              },
              {
                "id": "RKV",
                "properties": {
                  "label": "Reykjavik",
                  "passengers": 400000,
                  "country": "Iceland",
                  "country_id": "is"
                },
                "coordinates": [
                  64.13,
                  -21.940556
                ],
                "color": "#15AFAC",
                "styles": {},
                "label": "Reykjavik",
                "scale_factor": 1,
                "type": "#15AFAC",
                "size": [
                  55,
                  55
                ],
                "position": [
                  0,
                  0
                ]
              },
              {
                "id": "OSL",
                "properties": {
                  "label": "Oslo",
                  "passengers": 9000000,
                  "country": "Norway",
                  "country_id": "no"
                },
                "coordinates": [
                  60.193917,
                  11.100361
                ],
                "color": "#15AFAC",
                "styles": {},
                "label": "Oslo",
                "scale_factor": 1,
                "type": "#15AFAC",
                "size": [
                  55,
                  55
                ],
                "position": [
                  0,
                  0
                ]
              },
              {
                "id": "VIE",
                "properties": {
                  "label": "Vienna",
                  "passengers": 10000000,
                  "country": "Austria",
                  "country_id": "at"
                },
                "coordinates": [
                  48.110833,
                  16.570833
                ],
                "color": "#15AFAC",
                "styles": {},
                "label": "Vienna",
                "scale_factor": 1,
                "type": "#15AFAC",
                "size": [
                  55,
                  55
                ],
                "position": [
                  0,
                  0
                ]
              },
              {
                "id": "LIS",
                "properties": {
                  "label": "Lisbon",
                  "passengers": 28000000,
                  "country": "Portugal",
                  "country_id": "pt"
                },
                "coordinates": [
                  38.774167,
                  -9.134167
                ],
                "color": "#15AFAC",
                "styles": {},
                "label": "Lisbon",
                "scale_factor": 1,
                "type": "#15AFAC",
                "size": [
                  55,
                  55
                ],
                "position": [
                  0,
                  0
                ]
              },
              {
                "id": "ARN",
                "properties": {
                  "label": "Stockholm",
                  "passengers": 7000000,
                  "country": "Sweden",
                  "country_id": "se"
                },
                "coordinates": [
                  59.651944,
                  17.918611
                ],
                "color": "#15AFAC",
                "styles": {},
                "label": "Stockholm",
                "scale_factor": 1,
                "type": "#15AFAC",
                "size": [
                  55,
                  55
                ],
                "position": [
                  0,
                  0
                ]
              },
              {
                "id": "EDI",
                "properties": {
                  "label": "Edinburgh",
                  "passengers": 14000000,
                  "country": "UK",
                  "country_id": "gb"
                },
                "coordinates": [
                  55.95,
                  -3.3725
                ],
                "color": "#15AFAC",
                "styles": {},
                "label": "Edinburgh",
                "scale_factor": 1,
                "type": "#15AFAC",
                "size": [
                  55,
                  55
                ],
                "position": [
                  0,
                  0
                ]
              },
              {
                "id": "ORD",
                "properties": {
                  "label": "Chicago",
                  "passengers": 54000000,
                  "country": "USA",
                  "country_id": "us"
                },
                "coordinates": [
                  41.978603,
                  -87.904842
                ],
                "color": "#15AFAC",
                "styles": {},
                "label": "Chicago",
                "scale_factor": 1,
                "type": "#15AFAC",
                "size": [
                  55,
                  55
                ],
                "position": [
                  0,
                  0
                ]
              },
              {
                "id": "DFW",
                "properties": {
                  "label": "Dallas",
                  "passengers": 73000000,
                  "country": "USA",
                  "country_id": "us"
                },
                "coordinates": [
                  32.896828,
                  -97.037997
                ],
                "color": "#15AFAC",
                "styles": {},
                "label": "Dallas",
                "scale_factor": 1,
                "type": "#15AFAC",
                "size": [
                  55,
                  55
                ],
                "position": [
                  0,
                  0
                ]
              },
              {
                "id": "SFO",
                "properties": {
                  "label": "San Francisco",
                  "passengers": 42000000,
                  "country": "USA",
                  "country_id": "us"
                },
                "coordinates": [
                  37.618972,
                  -122.374889
                ],
                "color": "#15AFAC",
                "styles": {},
                "label": "San Francisco",
                "scale_factor": 1,
                "type": "#15AFAC",
                "size": [
                  55,
                  55
                ],
                "position": [
                  0,
                  0
                ]
              },
              {
                "id": "LAS",
                "properties": {
                  "label": "Las Vegas",
                  "passengers": 52000000,
                  "country": "USA",
                  "country_id": "us"
                },
                "coordinates": [
                  36.080056,
                  -115.15225
                ],
                "color": "#15AFAC",
                "styles": {},
                "label": "Las Vegas",
                "scale_factor": 1,
                "type": "#15AFAC",
                "size": [
                  55,
                  55
                ],
                "position": [
                  0,
                  0
                ]
              },
              {
                "id": "MIA",
                "properties": {
                  "label": "Miami",
                  "passengers": 50000000,
                  "country": "USA",
                  "country_id": "us"
                },
                "coordinates": [
                  25.79325,
                  -80.290556
                ],
                "color": "#15AFAC",
                "styles": {},
                "label": "Miami",
                "scale_factor": 1,
                "type": "#15AFAC",
                "size": [
                  55,
                  55
                ],
                "position": [
                  0,
                  0
                ]
              },
              {
                "id": "YYZ",
                "properties": {
                  "label": "Toronto",
                  "passengers": 12000000,
                  "country": "Canada",
                  "country_id": "ca"
                },
                "coordinates": [
                  43.677222,
                  -79.630556
                ],
                "color": "#15AFAC",
                "styles": {},
                "label": "Toronto",
                "scale_factor": 1,
                "type": "#15AFAC",
                "size": [
                  55,
                  55
                ],
                "position": [
                  0,
                  0
                ]
              },
              {
                "id": "YVR",
                "properties": {
                  "label": "Vancouver",
                  "passengers": 19000000,
                  "country": "Canada",
                  "country_id": "ca"
                },
                "coordinates": [
                  49.193889,
                  -123.184444
                ],
                "color": "#15AFAC",
                "styles": {},
                "label": "Vancouver",
                "scale_factor": 1,
                "type": "#15AFAC",
                "size": [
                  55,
                  55
                ],
                "position": [
                  0,
                  0
                ]
              },
              {
                "id": "YUL",
                "properties": {
                  "label": "Montreal",
                  "passengers": 15000000,
                  "country": "Canada",
                  "country_id": "ca"
                },
                "coordinates": [
                  45.47175,
                  -73.736569
                ],
                "color": "#15AFAC",
                "styles": {},
                "label": "Montreal",
                "scale_factor": 1,
                "type": "#15AFAC",
                "size": [
                  55,
                  55
                ],
                "position": [
                  0,
                  0
                ]
              },
              {
                "id": "MEX",
                "properties": {
                  "label": "Mexico-City",
                  "passengers": 46000000,
                  "country": "Mexico",
                  "country_id": "mx"
                },
                "coordinates": [
                  19.436303,
                  -99.072097
                ],
                "color": "#15AFAC",
                "styles": {},
                "label": "Mexico-City",
                "scale_factor": 1,
                "type": "#15AFAC",
                "size": [
                  55,
                  55
                ],
                "position": [
                  0,
                  0
                ]
              },
              {
                "id": "GUA",
                "properties": {
                  "label": "Guatemala-City",
                  "passengers": 2000000,
                  "country": "Guatemala",
                  "country_id": "gt"
                },
                "coordinates": [
                  14.583272,
                  -90.527475
                ],
                "color": "#15AFAC",
                "styles": {},
                "label": "Guatemala-City",
                "scale_factor": 1,
                "type": "#15AFAC",
                "size": [
                  55,
                  55
                ],
                "position": [
                  0,
                  0
                ]
              },
              {
                "id": "EZE",
                "properties": {
                  "label": "Buenos Aires",
                  "passengers": 5000000,
                  "country": "Argentina",
                  "country_id": "ar"
                },
                "coordinates": [
                  -34.822222,
                  -58.535833
                ],
                "color": "#15AFAC",
                "styles": {},
                "label": "Buenos Aires",
                "scale_factor": 1,
                "type": "#15AFAC",
                "size": [
                  55,
                  55
                ],
                "position": [
                  0,
                  0
                ]
              },
              {
                "id": "GRU",
                "properties": {
                  "label": "Sao Paulo",
                  "passengers": 34000000,
                  "country": "Brazil",
                  "country_id": "br"
                },
                "coordinates": [
                  -23.432075,
                  -46.469511
                ],
                "color": "#15AFAC",
                "styles": {},
                "label": "Sao Paulo",
                "scale_factor": 1,
                "type": "#15AFAC",
                "size": [
                  55,
                  55
                ],
                "position": [
                  0,
                  0
                ]
              },
              {
                "id": "SCL",
                "properties": {
                  "label": "Santiago de Chile",
                  "passengers": 20000000,
                  "country": "Chile",
                  "country_id": "cl"
                },
                "coordinates": [
                  -33.392975,
                  -70.785803
                ],
                "color": "#15AFAC",
                "styles": {},
                "label": "Santiago de Chile",
                "scale_factor": 1,
                "type": "#15AFAC",
                "size": [
                  55,
                  55
                ],
                "position": [
                  0,
                  0
                ]
              },
              {
                "id": "BSB",
                "properties": {
                  "label": "Brasilia",
                  "passengers": 13000000,
                  "country": "Brazil",
                  "country_id": "br"
                },
                "coordinates": [
                  -15.871111,
                  -47.918611
                ],
                "color": "#15AFAC",
                "styles": {},
                "label": "Brasilia",
                "scale_factor": 1,
                "type": "#15AFAC",
                "size": [
                  55,
                  55
                ],
                "position": [
                  0,
                  0
                ]
              },
              {
                "id": "BOG",
                "properties": {
                  "label": "Bogota",
                  "passengers": 36000000,
                  "country": "Colombia",
                  "country_id": "co"
                },
                "coordinates": [
                  4.701594,
                  -74.146947
                ],
                "color": "#15AFAC",
                "styles": {},
                "label": "Bogota",
                "scale_factor": 1,
                "type": "#15AFAC",
                "size": [
                  55,
                  55
                ],
                "position": [
                  0,
                  0
                ]
              },
              {
                "id": "CCS",
                "properties": {
                  "label": "Caracas",
                  "passengers": 8000000,
                  "country": "Venezuela",
                  "country_id": "ve"
                },
                "coordinates": [
                  10.601194,
                  -66.991222
                ],
                "color": "#15AFAC",
                "styles": {},
                "label": "Caracas",
                "scale_factor": 1,
                "type": "#15AFAC",
                "size": [
                  55,
                  55
                ],
                "position": [
                  0,
                  0
                ]
              }
            ],
            "_overview": {
              "enabled": null,
              "overview_set": false
            },
            "_selected_graph": [
              [],
              []
            ],
            "_sidebar": {
              "enabled": false,
              "start_with": null
            },
            "_view_count": null,
            "_view_module": "yfiles-jupyter-graphs",
            "_view_module_version": "^1.10.8",
            "_view_name": "GraphView",
            "layout": "IPY_MODEL_85bdd7a13fcc4128866612d7a9401e31"
          }
        },
        "85bdd7a13fcc4128866612d7a9401e31": {
          "model_module": "@jupyter-widgets/base",
          "model_name": "LayoutModel",
          "model_module_version": "1.2.0",
          "state": {
            "_model_module": "@jupyter-widgets/base",
            "_model_module_version": "1.2.0",
            "_model_name": "LayoutModel",
            "_view_count": null,
            "_view_module": "@jupyter-widgets/base",
            "_view_module_version": "1.2.0",
            "_view_name": "LayoutView",
            "align_content": null,
            "align_items": null,
            "align_self": null,
            "border": null,
            "bottom": null,
            "display": null,
            "flex": null,
            "flex_flow": null,
            "grid_area": null,
            "grid_auto_columns": null,
            "grid_auto_flow": null,
            "grid_auto_rows": null,
            "grid_column": null,
            "grid_gap": null,
            "grid_row": null,
            "grid_template_areas": null,
            "grid_template_columns": null,
            "grid_template_rows": null,
            "height": "800px",
            "justify_content": null,
            "justify_items": null,
            "left": null,
            "margin": null,
            "max_height": null,
            "max_width": null,
            "min_height": null,
            "min_width": null,
            "object_fit": null,
            "object_position": null,
            "order": null,
            "overflow": null,
            "overflow_x": null,
            "overflow_y": null,
            "padding": null,
            "right": null,
            "top": null,
            "visibility": null,
            "width": "100%"
          }
        },
        "23560d021b36437884648bbccaffb8db": {
          "model_module": "yfiles-jupyter-graphs",
          "model_name": "GraphModel",
          "model_module_version": "^1.10.8",
          "state": {
            "_context_pane_mapping": [
              {
                "id": "Neighborhood",
                "title": "Neighborhood"
              },
              {
                "id": "Data",
                "title": "Data"
              },
              {
                "id": "Search",
                "title": "Search"
              },
              {
                "id": "About",
                "title": "About"
              }
            ],
            "_data_importer": "unknown",
            "_directed": false,
            "_dom_classes": [],
            "_edges": [
              {
                "start": "LAX",
                "end": "JFK",
                "label": "",
                "properties": {},
                "directed": false,
                "id": "6f28225c-73c4-4e2a-a518-78f8356ad78e",
                "color": "#15AFAC",
                "thickness_factor": 1,
                "styles": {}
              },
              {
                "start": "JFK",
                "end": "GIG",
                "label": "",
                "properties": {},
                "directed": false,
                "id": "ae218385-9a36-4c4c-9f6f-c9f3b47e7747",
                "color": "#15AFAC",
                "thickness_factor": 1,
                "styles": {}
              },
              {
                "start": "JFK",
                "end": "LIM",
                "label": "",
                "properties": {},
                "directed": false,
                "id": "194338ea-cb46-4438-aa12-984b79d5a056",
                "color": "#15AFAC",
                "thickness_factor": 1,
                "styles": {}
              },
              {
                "start": "JFK",
                "end": "LHR",
                "label": "",
                "properties": {},
                "directed": false,
                "id": "df2d274f-0310-49e0-a15b-bd1d7371ef61",
                "color": "#15AFAC",
                "thickness_factor": 1,
                "styles": {}
              },
              {
                "start": "GIG",
                "end": "FRA",
                "label": "",
                "properties": {},
                "directed": false,
                "id": "0c70ffcf-cc40-497b-bf11-65d1ea3c513c",
                "color": "#15AFAC",
                "thickness_factor": 1,
                "styles": {}
              },
              {
                "start": "LIM",
                "end": "GIG",
                "label": "",
                "properties": {},
                "directed": false,
                "id": "ba4a3fdb-aa49-4022-ba54-34d5aeeae5e1",
                "color": "#15AFAC",
                "thickness_factor": 1,
                "styles": {}
              },
              {
                "start": "FRA",
                "end": "JFK",
                "label": "",
                "properties": {},
                "directed": false,
                "id": "6c36e3d8-bf34-4c61-a5f5-6cb8ab0b4c23",
                "color": "#15AFAC",
                "thickness_factor": 1,
                "styles": {}
              },
              {
                "start": "LHR",
                "end": "FRA",
                "label": "",
                "properties": {},
                "directed": false,
                "id": "3ace757d-ec63-4478-b1a5-47740c66573e",
                "color": "#15AFAC",
                "thickness_factor": 1,
                "styles": {}
              },
              {
                "start": "FRA",
                "end": "SVO",
                "label": "",
                "properties": {},
                "directed": false,
                "id": "7ffff4fb-3009-4b02-b346-effcb0830e8d",
                "color": "#15AFAC",
                "thickness_factor": 1,
                "styles": {}
              },
              {
                "start": "FRA",
                "end": "DXB",
                "label": "",
                "properties": {},
                "directed": false,
                "id": "b33eb52b-b41b-42f5-85d8-0d7c9ec358aa",
                "color": "#15AFAC",
                "thickness_factor": 1,
                "styles": {}
              },
              {
                "start": "SVO",
                "end": "DEL",
                "label": "",
                "properties": {},
                "directed": false,
                "id": "1c8fb25b-4680-414e-bc61-1b0fa5db5429",
                "color": "#15AFAC",
                "thickness_factor": 1,
                "styles": {}
              },
              {
                "start": "SVO",
                "end": "PVG",
                "label": "",
                "properties": {},
                "directed": false,
                "id": "ea5b3d84-c0c7-47df-a445-3013b56fdaee",
                "color": "#15AFAC",
                "thickness_factor": 1,
                "styles": {}
              },
              {
                "start": "DEL",
                "end": "HKG",
                "label": "",
                "properties": {},
                "directed": false,
                "id": "4e4f12a0-7d38-462e-9d08-11f7d1fc4e75",
                "color": "#15AFAC",
                "thickness_factor": 1,
                "styles": {}
              },
              {
                "start": "PVG",
                "end": "HKG",
                "label": "",
                "properties": {},
                "directed": false,
                "id": "d05d8e99-c4fd-447a-8a55-e1f639b6df54",
                "color": "#15AFAC",
                "thickness_factor": 1,
                "styles": {}
              },
              {
                "start": "PVG",
                "end": "NRT",
                "label": "",
                "properties": {},
                "directed": false,
                "id": "a9ec5c74-c008-4beb-81be-91ef8337b1b3",
                "color": "#15AFAC",
                "thickness_factor": 1,
                "styles": {}
              },
              {
                "start": "HKG",
                "end": "SYD",
                "label": "",
                "properties": {},
                "directed": false,
                "id": "9126b224-b45a-44d0-a295-9145bd203b7e",
                "color": "#15AFAC",
                "thickness_factor": 1,
                "styles": {}
              },
              {
                "start": "NRT",
                "end": "SYD",
                "label": "",
                "properties": {},
                "directed": false,
                "id": "9fa1e63a-63bc-4d6a-8b38-b95cfa07c203",
                "color": "#15AFAC",
                "thickness_factor": 1,
                "styles": {}
              },
              {
                "start": "DXB",
                "end": "SVO",
                "label": "",
                "properties": {},
                "directed": false,
                "id": "03ab691f-a3c4-40d8-a7d9-5e9915c1f29a",
                "color": "#15AFAC",
                "thickness_factor": 1,
                "styles": {}
              },
              {
                "start": "DXB",
                "end": "DEL",
                "label": "",
                "properties": {},
                "directed": false,
                "id": "9f758073-8f56-41b4-a9c0-445636d9d66c",
                "color": "#15AFAC",
                "thickness_factor": 1,
                "styles": {}
              },
              {
                "start": "DXB",
                "end": "DKR",
                "label": "",
                "properties": {},
                "directed": false,
                "id": "6f269590-9d5d-4696-ac7c-a011939d5d6a",
                "color": "#15AFAC",
                "thickness_factor": 1,
                "styles": {}
              },
              {
                "start": "DXB",
                "end": "JNB",
                "label": "",
                "properties": {},
                "directed": false,
                "id": "03c4b82d-4020-444c-8c1a-0406623c2656",
                "color": "#15AFAC",
                "thickness_factor": 1,
                "styles": {}
              },
              {
                "start": "JNB",
                "end": "LHR",
                "label": "",
                "properties": {},
                "directed": false,
                "id": "97aec433-5866-4905-b265-03fb0e1c587a",
                "color": "#15AFAC",
                "thickness_factor": 1,
                "styles": {}
              },
              {
                "start": "JNB",
                "end": "DKR",
                "label": "",
                "properties": {},
                "directed": false,
                "id": "e066475a-f60b-4b9b-81cd-022d744a1954",
                "color": "#15AFAC",
                "thickness_factor": 1,
                "styles": {}
              },
              {
                "start": "SYD",
                "end": "DXB",
                "label": "",
                "properties": {},
                "directed": false,
                "id": "c43817d1-8071-445a-961e-8f7875c57786",
                "color": "#15AFAC",
                "thickness_factor": 1,
                "styles": {}
              },
              {
                "start": "NBO",
                "end": "JNB",
                "label": "",
                "properties": {},
                "directed": false,
                "id": "4fbc540e-24f2-41d7-9718-0a1af6ae985f",
                "color": "#15AFAC",
                "thickness_factor": 1,
                "styles": {}
              },
              {
                "start": "NBO",
                "end": "DXB",
                "label": "",
                "properties": {},
                "directed": false,
                "id": "bb1cca38-2e34-4481-8b0b-80a546b8248d",
                "color": "#15AFAC",
                "thickness_factor": 1,
                "styles": {}
              },
              {
                "start": "ATL",
                "end": "JFK",
                "label": "",
                "properties": {},
                "directed": false,
                "id": "69a480bf-3bce-494c-ad7b-e7c49318b041",
                "color": "#15AFAC",
                "thickness_factor": 1,
                "styles": {}
              },
              {
                "start": "LAX",
                "end": "ATL",
                "label": "",
                "properties": {},
                "directed": false,
                "id": "d6e77824-7306-4fbf-9bc9-b0ce63c6a9a5",
                "color": "#15AFAC",
                "thickness_factor": 1,
                "styles": {}
              },
              {
                "start": "ATL",
                "end": "LHR",
                "label": "",
                "properties": {},
                "directed": false,
                "id": "5adfb942-ce2c-4014-955d-dbf90c1fc7f2",
                "color": "#15AFAC",
                "thickness_factor": 1,
                "styles": {}
              },
              {
                "start": "ATL",
                "end": "LIM",
                "label": "",
                "properties": {},
                "directed": false,
                "id": "2530fc2e-1136-479a-9539-3f79238a388d",
                "color": "#15AFAC",
                "thickness_factor": 1,
                "styles": {}
              },
              {
                "start": "SCL",
                "end": "LIM",
                "label": "",
                "properties": {},
                "directed": false,
                "id": "99a4d526-0ff1-4b42-88d7-d2c4b8864172",
                "color": "#15AFAC",
                "thickness_factor": 1,
                "styles": {}
              },
              {
                "start": "EZE",
                "end": "SCL",
                "label": "",
                "properties": {},
                "directed": false,
                "id": "30f26c28-114e-49b1-9260-9cdf93710f03",
                "color": "#15AFAC",
                "thickness_factor": 1,
                "styles": {}
              },
              {
                "start": "SCL",
                "end": "GRU",
                "label": "",
                "properties": {},
                "directed": false,
                "id": "ba016377-d4f0-4789-b4a9-7e54e1dcad12",
                "color": "#15AFAC",
                "thickness_factor": 1,
                "styles": {}
              },
              {
                "start": "GIG",
                "end": "EZE",
                "label": "",
                "properties": {},
                "directed": false,
                "id": "0c1d3bbb-c198-4013-a504-4c06401b8be3",
                "color": "#15AFAC",
                "thickness_factor": 1,
                "styles": {}
              },
              {
                "start": "GIG",
                "end": "GRU",
                "label": "",
                "properties": {},
                "directed": false,
                "id": "8f221d7c-42c0-4bd0-a709-f62e4961e0b1",
                "color": "#15AFAC",
                "thickness_factor": 1,
                "styles": {}
              },
              {
                "start": "BSB",
                "end": "GIG",
                "label": "",
                "properties": {},
                "directed": false,
                "id": "45334ad6-5c1a-449e-bcb0-8fbaf3929fe2",
                "color": "#15AFAC",
                "thickness_factor": 1,
                "styles": {}
              },
              {
                "start": "SCL",
                "end": "BSB",
                "label": "",
                "properties": {},
                "directed": false,
                "id": "4be7d62b-84f4-40e2-a500-b238795e29f1",
                "color": "#15AFAC",
                "thickness_factor": 1,
                "styles": {}
              },
              {
                "start": "LIM",
                "end": "BSB",
                "label": "",
                "properties": {},
                "directed": false,
                "id": "fe439a0c-dfdf-4397-82e0-26f38534f13f",
                "color": "#15AFAC",
                "thickness_factor": 1,
                "styles": {}
              },
              {
                "start": "BOG",
                "end": "BSB",
                "label": "",
                "properties": {},
                "directed": false,
                "id": "ccdf71e0-7283-4980-a19f-184c32984c79",
                "color": "#15AFAC",
                "thickness_factor": 1,
                "styles": {}
              },
              {
                "start": "CCS",
                "end": "BSB",
                "label": "",
                "properties": {},
                "directed": false,
                "id": "9490101e-a74a-43f8-b766-e589dc05dc7e",
                "color": "#15AFAC",
                "thickness_factor": 1,
                "styles": {}
              },
              {
                "start": "BOG",
                "end": "GUA",
                "label": "",
                "properties": {},
                "directed": false,
                "id": "852ff0ed-8c87-4c92-b801-e0dfb8ed6aad",
                "color": "#15AFAC",
                "thickness_factor": 1,
                "styles": {}
              },
              {
                "start": "CCS",
                "end": "MIA",
                "label": "",
                "properties": {},
                "directed": false,
                "id": "dd224294-7e2f-44de-9e9e-8f5ce772ca8f",
                "color": "#15AFAC",
                "thickness_factor": 1,
                "styles": {}
              },
              {
                "start": "GUA",
                "end": "MIA",
                "label": "",
                "properties": {},
                "directed": false,
                "id": "90e9bf62-4cd6-4cfa-aff6-4afed3ddae97",
                "color": "#15AFAC",
                "thickness_factor": 1,
                "styles": {}
              },
              {
                "start": "GUA",
                "end": "MEX",
                "label": "",
                "properties": {},
                "directed": false,
                "id": "fdcc15bf-ad32-496c-93b6-017b4d3348e6",
                "color": "#15AFAC",
                "thickness_factor": 1,
                "styles": {}
              },
              {
                "start": "MEX",
                "end": "LAX",
                "label": "",
                "properties": {},
                "directed": false,
                "id": "5dafc441-08a4-4508-a636-142158cd764a",
                "color": "#15AFAC",
                "thickness_factor": 1,
                "styles": {}
              },
              {
                "start": "MEX",
                "end": "LAX",
                "label": "",
                "properties": {},
                "directed": false,
                "id": "db6e3bd3-9880-4fca-9770-8573163f2d8b",
                "color": "#15AFAC",
                "thickness_factor": 1,
                "styles": {}
              },
              {
                "start": "LAX",
                "end": "SFO",
                "label": "",
                "properties": {},
                "directed": false,
                "id": "18deb138-e2a0-4735-a60b-431ad1ea3570",
                "color": "#15AFAC",
                "thickness_factor": 1,
                "styles": {}
              },
              {
                "start": "SFO",
                "end": "YVR",
                "label": "",
                "properties": {},
                "directed": false,
                "id": "f7251adf-1556-4503-b0db-1be71033f7ff",
                "color": "#15AFAC",
                "thickness_factor": 1,
                "styles": {}
              },
              {
                "start": "LAX",
                "end": "LAS",
                "label": "",
                "properties": {},
                "directed": false,
                "id": "b6d6fe2d-616b-442f-ada7-c1309f4da14f",
                "color": "#15AFAC",
                "thickness_factor": 1,
                "styles": {}
              },
              {
                "start": "LAX",
                "end": "DFW",
                "label": "",
                "properties": {},
                "directed": false,
                "id": "3bd784da-2c4a-470f-ba93-a21a4907caa2",
                "color": "#15AFAC",
                "thickness_factor": 1,
                "styles": {}
              },
              {
                "start": "LAX",
                "end": "ORD",
                "label": "",
                "properties": {},
                "directed": false,
                "id": "4c428235-0b33-41a4-90df-1b5e170cdd59",
                "color": "#15AFAC",
                "thickness_factor": 1,
                "styles": {}
              },
              {
                "start": "SFO",
                "end": "LAS",
                "label": "",
                "properties": {},
                "directed": false,
                "id": "19f7f8ab-d748-41fd-901a-9c9cb16d43f2",
                "color": "#15AFAC",
                "thickness_factor": 1,
                "styles": {}
              },
              {
                "start": "DFW",
                "end": "ATL",
                "label": "",
                "properties": {},
                "directed": false,
                "id": "eb407755-4587-4cb5-ab43-70cba2f446e7",
                "color": "#15AFAC",
                "thickness_factor": 1,
                "styles": {}
              },
              {
                "start": "ATL",
                "end": "YYZ",
                "label": "",
                "properties": {},
                "directed": false,
                "id": "7a599ee2-a40d-4dd5-b91d-9261d40f9ba9",
                "color": "#15AFAC",
                "thickness_factor": 1,
                "styles": {}
              },
              {
                "start": "ORD",
                "end": "YYZ",
                "label": "",
                "properties": {},
                "directed": false,
                "id": "c59f8e89-329d-43ee-8e0e-d18967bbe1e9",
                "color": "#15AFAC",
                "thickness_factor": 1,
                "styles": {}
              },
              {
                "start": "YYZ",
                "end": "YUL",
                "label": "",
                "properties": {},
                "directed": false,
                "id": "77dac866-c1f4-47b9-ac61-d0265e74fc7c",
                "color": "#15AFAC",
                "thickness_factor": 1,
                "styles": {}
              },
              {
                "start": "YYZ",
                "end": "JFK",
                "label": "",
                "properties": {},
                "directed": false,
                "id": "6ff17bf1-6c9c-44c3-ab89-656dafdc72f4",
                "color": "#15AFAC",
                "thickness_factor": 1,
                "styles": {}
              },
              {
                "start": "YUL",
                "end": "JFK",
                "label": "",
                "properties": {},
                "directed": false,
                "id": "7096f558-a419-41aa-b6e7-6ee37bee2b12",
                "color": "#15AFAC",
                "thickness_factor": 1,
                "styles": {}
              },
              {
                "start": "JNB",
                "end": "CPT",
                "label": "",
                "properties": {},
                "directed": false,
                "id": "136a3582-aa1f-400d-82fa-ca27ad29f32c",
                "color": "#15AFAC",
                "thickness_factor": 1,
                "styles": {}
              },
              {
                "start": "LOS",
                "end": "DKR",
                "label": "",
                "properties": {},
                "directed": false,
                "id": "f67d9e45-353b-462e-9dd7-e82ead1f0f12",
                "color": "#15AFAC",
                "thickness_factor": 1,
                "styles": {}
              },
              {
                "start": "NBO",
                "end": "LOS",
                "label": "",
                "properties": {},
                "directed": false,
                "id": "7aa5c264-9d2b-406c-a86c-65455d7f4b30",
                "color": "#15AFAC",
                "thickness_factor": 1,
                "styles": {}
              },
              {
                "start": "DKR",
                "end": "CMN",
                "label": "",
                "properties": {},
                "directed": false,
                "id": "1e0a92f1-bd56-4bc8-bd75-8d4aa6d03bfd",
                "color": "#15AFAC",
                "thickness_factor": 1,
                "styles": {}
              },
              {
                "start": "DKR",
                "end": "CAI",
                "label": "",
                "properties": {},
                "directed": false,
                "id": "decbcf93-9d78-47fe-8c10-4a63d04da72b",
                "color": "#15AFAC",
                "thickness_factor": 1,
                "styles": {}
              },
              {
                "start": "NBO",
                "end": "CAI",
                "label": "",
                "properties": {},
                "directed": false,
                "id": "30938507-abce-47ce-b9c6-de53c491e7ad",
                "color": "#15AFAC",
                "thickness_factor": 1,
                "styles": {}
              },
              {
                "start": "DXB",
                "end": "CAI",
                "label": "",
                "properties": {},
                "directed": false,
                "id": "d29c1792-3b3c-4d2f-b92b-76f38ce3897d",
                "color": "#15AFAC",
                "thickness_factor": 1,
                "styles": {}
              },
              {
                "start": "IKA",
                "end": "DXB",
                "label": "",
                "properties": {},
                "directed": false,
                "id": "31c516fc-f189-48bb-9d51-33266e0359ad",
                "color": "#15AFAC",
                "thickness_factor": 1,
                "styles": {}
              },
              {
                "start": "IST",
                "end": "IKA",
                "label": "",
                "properties": {},
                "directed": false,
                "id": "a47dfda6-41ed-4424-a948-97e7445333f0",
                "color": "#15AFAC",
                "thickness_factor": 1,
                "styles": {}
              },
              {
                "start": "TLV",
                "end": "ATH",
                "label": "",
                "properties": {},
                "directed": false,
                "id": "d48d7fb8-9adb-4d23-a3b5-4a3ae3af4220",
                "color": "#15AFAC",
                "thickness_factor": 1,
                "styles": {}
              },
              {
                "start": "CAI",
                "end": "TLV",
                "label": "",
                "properties": {},
                "directed": false,
                "id": "d2f35743-830f-4b71-9194-f411e1d4a452",
                "color": "#15AFAC",
                "thickness_factor": 1,
                "styles": {}
              },
              {
                "start": "ATH",
                "end": "IST",
                "label": "",
                "properties": {},
                "directed": false,
                "id": "cb4509c4-85f1-4545-92ad-1406f2b3cfee",
                "color": "#15AFAC",
                "thickness_factor": 1,
                "styles": {}
              },
              {
                "start": "FCO",
                "end": "ATH",
                "label": "",
                "properties": {},
                "directed": false,
                "id": "944bdeb5-f789-4968-a2e5-da86782dc24c",
                "color": "#15AFAC",
                "thickness_factor": 1,
                "styles": {}
              },
              {
                "start": "LIS",
                "end": "LHR",
                "label": "",
                "properties": {},
                "directed": false,
                "id": "13a69016-af8f-44c7-9255-8dcdc8be6e2b",
                "color": "#15AFAC",
                "thickness_factor": 1,
                "styles": {}
              },
              {
                "start": "LIS",
                "end": "MAD",
                "label": "",
                "properties": {},
                "directed": false,
                "id": "62608b78-2ce9-440c-82d1-cc2752a76d23",
                "color": "#15AFAC",
                "thickness_factor": 1,
                "styles": {}
              },
              {
                "start": "MAD",
                "end": "BCN",
                "label": "",
                "properties": {},
                "directed": false,
                "id": "0447d91d-4ffe-4098-8a73-e6c41e8bce15",
                "color": "#15AFAC",
                "thickness_factor": 1,
                "styles": {}
              },
              {
                "start": "CDG",
                "end": "LHR",
                "label": "",
                "properties": {},
                "directed": false,
                "id": "224bcf82-3a2d-4f4e-9358-96ad7d5568d8",
                "color": "#15AFAC",
                "thickness_factor": 1,
                "styles": {}
              },
              {
                "start": "DUB",
                "end": "LHR",
                "label": "",
                "properties": {},
                "directed": false,
                "id": "116362f3-d7e4-4f8f-9d1d-5bc6b459f88e",
                "color": "#15AFAC",
                "thickness_factor": 1,
                "styles": {}
              },
              {
                "start": "EDI",
                "end": "LHR",
                "label": "",
                "properties": {},
                "directed": false,
                "id": "3ea6ef4a-2f88-426d-a321-4f3212397b78",
                "color": "#15AFAC",
                "thickness_factor": 1,
                "styles": {}
              },
              {
                "start": "CDG",
                "end": "BCN",
                "label": "",
                "properties": {},
                "directed": false,
                "id": "1d31c43d-3c97-474a-8021-226b294ed81e",
                "color": "#15AFAC",
                "thickness_factor": 1,
                "styles": {}
              },
              {
                "start": "BCN",
                "end": "FCO",
                "label": "",
                "properties": {},
                "directed": false,
                "id": "9319fec0-4577-439a-97f5-71898f05e7e7",
                "color": "#15AFAC",
                "thickness_factor": 1,
                "styles": {}
              },
              {
                "start": "VIE",
                "end": "IST",
                "label": "",
                "properties": {},
                "directed": false,
                "id": "28474528-4611-42f6-a2ca-1c6576b366c7",
                "color": "#15AFAC",
                "thickness_factor": 1,
                "styles": {}
              },
              {
                "start": "VIE",
                "end": "SVO",
                "label": "",
                "properties": {},
                "directed": false,
                "id": "b52845a6-847c-4019-80ae-b745f3be6cd2",
                "color": "#15AFAC",
                "thickness_factor": 1,
                "styles": {}
              },
              {
                "start": "CMN",
                "end": "LIS",
                "label": "",
                "properties": {},
                "directed": false,
                "id": "74331974-ee62-466c-bff5-dd941e5f7d9e",
                "color": "#15AFAC",
                "thickness_factor": 1,
                "styles": {}
              },
              {
                "start": "MAD",
                "end": "CMN",
                "label": "",
                "properties": {},
                "directed": false,
                "id": "953b517b-21aa-4fbd-ba87-9ff764eb7f05",
                "color": "#15AFAC",
                "thickness_factor": 1,
                "styles": {}
              },
              {
                "start": "FRA",
                "end": "CPH",
                "label": "",
                "properties": {},
                "directed": false,
                "id": "3fee60a0-edf4-4819-af5a-22fb82e97622",
                "color": "#15AFAC",
                "thickness_factor": 1,
                "styles": {}
              },
              {
                "start": "LHR",
                "end": "CPH",
                "label": "",
                "properties": {},
                "directed": false,
                "id": "d03bd183-ae7e-4901-9e9e-167976ecbf48",
                "color": "#15AFAC",
                "thickness_factor": 1,
                "styles": {}
              },
              {
                "start": "CPH",
                "end": "OSL",
                "label": "",
                "properties": {},
                "directed": false,
                "id": "e3b188c0-f603-4398-9577-8b4f134ffe50",
                "color": "#15AFAC",
                "thickness_factor": 1,
                "styles": {}
              },
              {
                "start": "CPH",
                "end": "ARN",
                "label": "",
                "properties": {},
                "directed": false,
                "id": "0b54d7ae-1b13-42d7-90ec-4062e55d94bf",
                "color": "#15AFAC",
                "thickness_factor": 1,
                "styles": {}
              },
              {
                "start": "ARN",
                "end": "HEL",
                "label": "",
                "properties": {},
                "directed": false,
                "id": "adb46f54-e71e-4d7d-aaab-471503ca1d6a",
                "color": "#15AFAC",
                "thickness_factor": 1,
                "styles": {}
              },
              {
                "start": "HEL",
                "end": "SVO",
                "label": "",
                "properties": {},
                "directed": false,
                "id": "f8e13a87-cc2e-4db6-a87c-e2d9912114d5",
                "color": "#15AFAC",
                "thickness_factor": 1,
                "styles": {}
              },
              {
                "start": "ULN",
                "end": "PVG",
                "label": "",
                "properties": {},
                "directed": false,
                "id": "7651dd1d-c1f5-4bae-9f98-df8e2f037369",
                "color": "#15AFAC",
                "thickness_factor": 1,
                "styles": {}
              },
              {
                "start": "CTU",
                "end": "PVG",
                "label": "",
                "properties": {},
                "directed": false,
                "id": "458e9157-db30-4673-a4ef-cc6553287e2d",
                "color": "#15AFAC",
                "thickness_factor": 1,
                "styles": {}
              },
              {
                "start": "PVG",
                "end": "TPE",
                "label": "",
                "properties": {},
                "directed": false,
                "id": "b508c990-31bd-4584-a8c3-5d21b8c3fe52",
                "color": "#15AFAC",
                "thickness_factor": 1,
                "styles": {}
              },
              {
                "start": "CTU",
                "end": "HKG",
                "label": "",
                "properties": {},
                "directed": false,
                "id": "b01b19f3-84c8-47a9-8436-2e92af2462b8",
                "color": "#15AFAC",
                "thickness_factor": 1,
                "styles": {}
              },
              {
                "start": "TPE",
                "end": "HKG",
                "label": "",
                "properties": {},
                "directed": false,
                "id": "7e80f2f7-e289-46c7-a091-7379cf37ed9e",
                "color": "#15AFAC",
                "thickness_factor": 1,
                "styles": {}
              },
              {
                "start": "HKG",
                "end": "MNL",
                "label": "",
                "properties": {},
                "directed": false,
                "id": "32a01d6a-9afe-4f5a-a61e-a7c6fa1477f4",
                "color": "#15AFAC",
                "thickness_factor": 1,
                "styles": {}
              },
              {
                "start": "BKK",
                "end": "HKG",
                "label": "",
                "properties": {},
                "directed": false,
                "id": "81630abf-e0f8-4155-9057-0a2478bad1c4",
                "color": "#15AFAC",
                "thickness_factor": 1,
                "styles": {}
              },
              {
                "start": "SIN",
                "end": "KUL",
                "label": "",
                "properties": {},
                "directed": false,
                "id": "77349e28-0797-460d-9919-050243d8d5a1",
                "color": "#15AFAC",
                "thickness_factor": 1,
                "styles": {}
              },
              {
                "start": "SIN",
                "end": "BKK",
                "label": "",
                "properties": {},
                "directed": false,
                "id": "c0350267-bb8f-4747-9763-513d31a41528",
                "color": "#15AFAC",
                "thickness_factor": 1,
                "styles": {}
              },
              {
                "start": "CGK",
                "end": "SIN",
                "label": "",
                "properties": {},
                "directed": false,
                "id": "13b8c2e2-a971-4fd1-a8b5-7ff90d78e1da",
                "color": "#15AFAC",
                "thickness_factor": 1,
                "styles": {}
              },
              {
                "start": "MNL",
                "end": "SIN",
                "label": "",
                "properties": {},
                "directed": false,
                "id": "ee7c3cdf-10d1-451b-9c7b-6a733b660e32",
                "color": "#15AFAC",
                "thickness_factor": 1,
                "styles": {}
              },
              {
                "start": "SIN",
                "end": "SYD",
                "label": "",
                "properties": {},
                "directed": false,
                "id": "b8f09efa-3376-485a-a2c3-470001bcbea2",
                "color": "#15AFAC",
                "thickness_factor": 1,
                "styles": {}
              },
              {
                "start": "BNE",
                "end": "SYD",
                "label": "",
                "properties": {},
                "directed": false,
                "id": "8514a586-298e-44b6-806c-da57ddfcd878",
                "color": "#15AFAC",
                "thickness_factor": 1,
                "styles": {}
              },
              {
                "start": "SYD",
                "end": "MEL",
                "label": "",
                "properties": {},
                "directed": false,
                "id": "2efa8659-c370-403f-8579-a43d9569db56",
                "color": "#15AFAC",
                "thickness_factor": 1,
                "styles": {}
              },
              {
                "start": "NAN",
                "end": "SYD",
                "label": "",
                "properties": {},
                "directed": false,
                "id": "fe39289d-53a3-4527-8496-b7f6abc6505b",
                "color": "#15AFAC",
                "thickness_factor": 1,
                "styles": {}
              },
              {
                "start": "AKL",
                "end": "SYD",
                "label": "",
                "properties": {},
                "directed": false,
                "id": "e7111510-04a9-446f-86b6-12fac5795816",
                "color": "#15AFAC",
                "thickness_factor": 1,
                "styles": {}
              },
              {
                "start": "NAN",
                "end": "AKL",
                "label": "",
                "properties": {},
                "directed": false,
                "id": "6e912e0f-a77b-4a7c-a3da-9c8f145baab2",
                "color": "#15AFAC",
                "thickness_factor": 1,
                "styles": {}
              },
              {
                "start": "RKV",
                "end": "LHR",
                "label": "",
                "properties": {},
                "directed": false,
                "id": "5bae3684-70d3-4c16-b71a-617dafeca11e",
                "color": "#15AFAC",
                "thickness_factor": 1,
                "styles": {}
              },
              {
                "start": "BCN",
                "end": "CDG",
                "label": "",
                "properties": {},
                "directed": false,
                "id": "1e8796c7-874e-49c6-8624-37b4f08af222",
                "color": "#15AFAC",
                "thickness_factor": 1,
                "styles": {}
              },
              {
                "start": "BCN",
                "end": "FRA",
                "label": "",
                "properties": {},
                "directed": false,
                "id": "0c96b038-197f-4ed5-8304-804e1dee4e14",
                "color": "#15AFAC",
                "thickness_factor": 1,
                "styles": {}
              },
              {
                "start": "FCO",
                "end": "FRA",
                "label": "",
                "properties": {},
                "directed": false,
                "id": "9bab3657-87a2-4e80-813d-2e5652abf1e0",
                "color": "#15AFAC",
                "thickness_factor": 1,
                "styles": {}
              },
              {
                "start": "BOG",
                "end": "MEX",
                "label": "",
                "properties": {},
                "directed": false,
                "id": "ed07f4d1-1b14-48de-9d3e-7e60fdfce556",
                "color": "#15AFAC",
                "thickness_factor": 1,
                "styles": {}
              },
              {
                "start": "BOG",
                "end": "GRU",
                "label": "",
                "properties": {},
                "directed": false,
                "id": "38be4e6e-c70b-4fc0-ac72-05a78b3c0962",
                "color": "#15AFAC",
                "thickness_factor": 1,
                "styles": {}
              },
              {
                "start": "ATL",
                "end": "MIA",
                "label": "",
                "properties": {},
                "directed": false,
                "id": "59f5a318-23ae-43ae-a631-cd98d3a9c01e",
                "color": "#15AFAC",
                "thickness_factor": 1,
                "styles": {}
              },
              {
                "start": "FRA",
                "end": "IST",
                "label": "",
                "properties": {},
                "directed": false,
                "id": "5fca1ad7-9558-496a-96e5-3051199e7ab9",
                "color": "#15AFAC",
                "thickness_factor": 1,
                "styles": {}
              },
              {
                "start": "IST",
                "end": "DEL",
                "label": "",
                "properties": {},
                "directed": false,
                "id": "e4781d5e-ceaa-4a41-af5d-c7988addd628",
                "color": "#15AFAC",
                "thickness_factor": 1,
                "styles": {}
              },
              {
                "start": "PVG",
                "end": "BKK",
                "label": "",
                "properties": {},
                "directed": false,
                "id": "185d11a9-5e59-4f1a-bbae-d2b32a9f4ab0",
                "color": "#15AFAC",
                "thickness_factor": 1,
                "styles": {}
              },
              {
                "start": "DEL",
                "end": "BKK",
                "label": "",
                "properties": {},
                "directed": false,
                "id": "c3262008-af21-4408-a774-f7c8bb222a70",
                "color": "#15AFAC",
                "thickness_factor": 1,
                "styles": {}
              }
            ],
            "_graph_layout": {
              "algorithm": "map",
              "options": {}
            },
            "_highlight": [],
            "_license": {},
            "_model_module": "yfiles-jupyter-graphs",
            "_model_module_version": "^1.10.8",
            "_model_name": "GraphModel",
            "_neighborhood": {},
            "_nodes": [
              {
                "id": "LAX",
                "properties": {
                  "label": "Los Angeles",
                  "passengers": 65000000,
                  "country": "USA",
                  "country_id": "us"
                },
                "coordinates": [
                  33.942536,
                  -118.408075
                ],
                "color": "#15AFAC",
                "styles": {},
                "label": "Los Angeles",
                "scale_factor": 1,
                "type": "#15AFAC",
                "size": [
                  55,
                  55
                ],
                "position": [
                  0,
                  0
                ]
              },
              {
                "id": "GIG",
                "properties": {
                  "label": "Rio de Janeiro",
                  "passengers": 5000000,
                  "country": "Brazil",
                  "country_id": "br"
                },
                "coordinates": [
                  -22.808903,
                  -43.243647
                ],
                "color": "#15AFAC",
                "styles": {},
                "label": "Rio de Janeiro",
                "scale_factor": 1,
                "type": "#15AFAC",
                "size": [
                  55,
                  55
                ],
                "position": [
                  0,
                  0
                ]
              },
              {
                "id": "LIM",
                "properties": {
                  "label": "Lima",
                  "passengers": 18000000,
                  "country": "Peru",
                  "country_id": "pe"
                },
                "coordinates": [
                  -12.021889,
                  -77.114319
                ],
                "color": "#15AFAC",
                "styles": {},
                "label": "Lima",
                "scale_factor": 1,
                "type": "#15AFAC",
                "size": [
                  55,
                  55
                ],
                "position": [
                  0,
                  0
                ]
              },
              {
                "id": "LHR",
                "properties": {
                  "label": "London",
                  "passengers": 61000000,
                  "country": "UK",
                  "country_id": "gb"
                },
                "coordinates": [
                  51.4775,
                  -0.461389
                ],
                "color": "#15AFAC",
                "styles": {},
                "label": "London",
                "scale_factor": 1,
                "type": "#15AFAC",
                "size": [
                  55,
                  55
                ],
                "position": [
                  0,
                  0
                ]
              },
              {
                "id": "FRA",
                "properties": {
                  "label": "Frankfurt",
                  "passengers": 48000000,
                  "country": "Germany",
                  "country_id": "de"
                },
                "coordinates": [
                  50.033333,
                  8.570556
                ],
                "color": "#15AFAC",
                "styles": {},
                "label": "Frankfurt",
                "scale_factor": 1,
                "type": "#15AFAC",
                "size": [
                  55,
                  55
                ],
                "position": [
                  0,
                  0
                ]
              },
              {
                "id": "SVO",
                "properties": {
                  "label": "Moscow",
                  "passengers": 49000000,
                  "country": "Russia",
                  "country_id": "ru"
                },
                "coordinates": [
                  55.972642,
                  37.414589
                ],
                "color": "#15AFAC",
                "styles": {},
                "label": "Moscow",
                "scale_factor": 1,
                "type": "#15AFAC",
                "size": [
                  55,
                  55
                ],
                "position": [
                  0,
                  0
                ]
              },
              {
                "id": "DEL",
                "properties": {
                  "label": "New Delhi",
                  "passengers": 39000000,
                  "country": "India",
                  "country_id": "in"
                },
                "coordinates": [
                  28.5665,
                  77.103089
                ],
                "color": "#15AFAC",
                "styles": {},
                "label": "New Delhi",
                "scale_factor": 1,
                "type": "#15AFAC",
                "size": [
                  55,
                  55
                ],
                "position": [
                  0,
                  0
                ]
              },
              {
                "id": "PVG",
                "properties": {
                  "label": "Shanghai",
                  "passengers": 32000000,
                  "country": "China",
                  "country_id": "hk"
                },
                "coordinates": [
                  31.143378,
                  121.805214
                ],
                "color": "#15AFAC",
                "styles": {},
                "label": "Shanghai",
                "scale_factor": 1,
                "type": "#15AFAC",
                "size": [
                  55,
                  55
                ],
                "position": [
                  0,
                  0
                ]
              },
              {
                "id": "HKG",
                "properties": {
                  "label": "Hongkong",
                  "passengers": 1000000,
                  "country": "China",
                  "country_id": "hk"
                },
                "coordinates": [
                  22.308919,
                  113.914603
                ],
                "color": "#15AFAC",
                "styles": {},
                "label": "Hongkong",
                "scale_factor": 1,
                "type": "#15AFAC",
                "size": [
                  55,
                  55
                ],
                "position": [
                  0,
                  0
                ]
              },
              {
                "id": "NRT",
                "properties": {
                  "label": "Tokio",
                  "passengers": 15000000,
                  "country": "Japan",
                  "country_id": "jp"
                },
                "coordinates": [
                  35.764722,
                  140.386389
                ],
                "color": "#15AFAC",
                "styles": {},
                "label": "Tokio",
                "scale_factor": 1,
                "type": "#15AFAC",
                "size": [
                  55,
                  55
                ],
                "position": [
                  0,
                  0
                ]
              },
              {
                "id": "DXB",
                "properties": {
                  "label": "Dubai",
                  "passengers": 29000000,
                  "country": "UAE",
                  "country_id": "ae"
                },
                "coordinates": [
                  25.252778,
                  55.364444
                ],
                "color": "#15AFAC",
                "styles": {},
                "label": "Dubai",
                "scale_factor": 1,
                "type": "#15AFAC",
                "size": [
                  55,
                  55
                ],
                "position": [
                  0,
                  0
                ]
              },
              {
                "id": "DKR",
                "properties": {
                  "label": "Dakar",
                  "passengers": 2000000,
                  "country": "Senegal",
                  "country_id": "sn"
                },
                "coordinates": [
                  14.670833,
                  -17.072778
                ],
                "color": "#15AFAC",
                "styles": {},
                "label": "Dakar",
                "scale_factor": 1,
                "type": "#15AFAC",
                "size": [
                  55,
                  55
                ],
                "position": [
                  0,
                  0
                ]
              },
              {
                "id": "JNB",
                "properties": {
                  "label": "Johannesburg",
                  "passengers": 9000000,
                  "country": "South Africa",
                  "country_id": "za"
                },
                "coordinates": [
                  -26.133694,
                  28.242317
                ],
                "color": "#15AFAC",
                "styles": {},
                "label": "Johannesburg",
                "scale_factor": 1,
                "type": "#15AFAC",
                "size": [
                  55,
                  55
                ],
                "position": [
                  0,
                  0
                ]
              },
              {
                "id": "SYD",
                "properties": {
                  "label": "Sydney",
                  "passengers": 44000000,
                  "country": "Australia",
                  "country_id": "au"
                },
                "coordinates": [
                  -33.946111,
                  151.177222
                ],
                "color": "#15AFAC",
                "styles": {},
                "label": "Sydney",
                "scale_factor": 1,
                "type": "#15AFAC",
                "size": [
                  55,
                  55
                ],
                "position": [
                  0,
                  0
                ]
              },
              {
                "id": "NBO",
                "properties": {
                  "label": "Nairobi",
                  "passengers": 900000,
                  "country": "Kenya",
                  "country_id": "ke"
                },
                "coordinates": [
                  -1.319167,
                  36.927778
                ],
                "color": "#15AFAC",
                "styles": {},
                "label": "Nairobi",
                "scale_factor": 1,
                "type": "#15AFAC",
                "size": [
                  55,
                  55
                ],
                "position": [
                  0,
                  0
                ]
              },
              {
                "id": "ATL",
                "properties": {
                  "label": "Atlanta",
                  "passengers": 93000000,
                  "country": "USA",
                  "country_id": "us"
                },
                "coordinates": [
                  33.639167,
                  -84.427778
                ],
                "color": "#15AFAC",
                "styles": {},
                "label": "Atlanta",
                "scale_factor": 1,
                "type": "#15AFAC",
                "size": [
                  55,
                  55
                ],
                "position": [
                  0,
                  0
                ]
              },
              {
                "id": "JFK",
                "properties": {
                  "label": "New York City",
                  "passengers": 55000000,
                  "country": "USA",
                  "country_id": "us"
                },
                "coordinates": [
                  40.63975,
                  -73.778925
                ],
                "color": "#15AFAC",
                "styles": {},
                "label": "New York City",
                "scale_factor": 1,
                "type": "#15AFAC",
                "size": [
                  55,
                  55
                ],
                "position": [
                  0,
                  0
                ]
              },
              {
                "id": "CAI",
                "properties": {
                  "label": "Cairo",
                  "passengers": 14000000,
                  "country": "Egypt",
                  "country_id": "eg"
                },
                "coordinates": [
                  30.121944,
                  31.405556
                ],
                "color": "#15AFAC",
                "styles": {},
                "label": "Cairo",
                "scale_factor": 1,
                "type": "#15AFAC",
                "size": [
                  55,
                  55
                ],
                "position": [
                  0,
                  0
                ]
              },
              {
                "id": "CMN",
                "properties": {
                  "label": "Casablanca",
                  "passengers": 7000000,
                  "country": "Morocco",
                  "country_id": "ma"
                },
                "coordinates": [
                  33.367467,
                  -7.589967
                ],
                "color": "#15AFAC",
                "styles": {},
                "label": "Casablanca",
                "scale_factor": 1,
                "type": "#15AFAC",
                "size": [
                  55,
                  55
                ],
                "position": [
                  0,
                  0
                ]
              },
              {
                "id": "LOS",
                "properties": {
                  "label": "Lagos",
                  "passengers": 5000000,
                  "country": "Nigeria",
                  "country_id": "ng"
                },
                "coordinates": [
                  6.577222,
                  3.321111
                ],
                "color": "#15AFAC",
                "styles": {},
                "label": "Lagos",
                "scale_factor": 1,
                "type": "#15AFAC",
                "size": [
                  55,
                  55
                ],
                "position": [
                  0,
                  0
                ]
              },
              {
                "id": "CPT",
                "properties": {
                  "label": "Cape Town",
                  "passengers": 5000000,
                  "country": "South Africa",
                  "country_id": "za"
                },
                "coordinates": [
                  -33.969444,
                  18.597222
                ],
                "color": "#15AFAC",
                "styles": {},
                "label": "Cape Town",
                "scale_factor": 1,
                "type": "#15AFAC",
                "size": [
                  55,
                  55
                ],
                "position": [
                  0,
                  0
                ]
              },
              {
                "id": "CTU",
                "properties": {
                  "label": "Chengdu",
                  "passengers": 40000000,
                  "country": "China",
                  "country_id": "hk"
                },
                "coordinates": [
                  30.578333,
                  103.946944
                ],
                "color": "#15AFAC",
                "styles": {},
                "label": "Chengdu",
                "scale_factor": 1,
                "type": "#15AFAC",
                "size": [
                  55,
                  55
                ],
                "position": [
                  0,
                  0
                ]
              },
              {
                "id": "CGK",
                "properties": {
                  "label": "Jakarta",
                  "passengers": 54000000,
                  "country": "Indonesia",
                  "country_id": "id"
                },
                "coordinates": [
                  -6.125567,
                  106.655897
                ],
                "color": "#15AFAC",
                "styles": {},
                "label": "Jakarta",
                "scale_factor": 1,
                "type": "#15AFAC",
                "size": [
                  55,
                  55
                ],
                "position": [
                  0,
                  0
                ]
              },
              {
                "id": "IKA",
                "properties": {
                  "label": "Teheran",
                  "passengers": 8000000,
                  "country": "Iran",
                  "country_id": "ir"
                },
                "coordinates": [
                  35.416111,
                  51.152222
                ],
                "color": "#15AFAC",
                "styles": {},
                "label": "Teheran",
                "scale_factor": 1,
                "type": "#15AFAC",
                "size": [
                  55,
                  55
                ],
                "position": [
                  0,
                  0
                ]
              },
              {
                "id": "TLV",
                "properties": {
                  "label": "Tel Aviv",
                  "passengers": 20000000,
                  "country": "Israel",
                  "country_id": "il"
                },
                "coordinates": [
                  32.011389,
                  34.886667
                ],
                "color": "#15AFAC",
                "styles": {},
                "label": "Tel Aviv",
                "scale_factor": 1,
                "type": "#15AFAC",
                "size": [
                  55,
                  55
                ],
                "position": [
                  0,
                  0
                ]
              },
              {
                "id": "KUL",
                "properties": {
                  "label": "Kuala Lumpur",
                  "passengers": 25000000,
                  "country": "Malaysia",
                  "country_id": "my"
                },
                "coordinates": [
                  2.745578,
                  101.709917
                ],
                "color": "#15AFAC",
                "styles": {},
                "label": "Kuala Lumpur",
                "scale_factor": 1,
                "type": "#15AFAC",
                "size": [
                  55,
                  55
                ],
                "position": [
                  0,
                  0
                ]
              },
              {
                "id": "MNL",
                "properties": {
                  "label": "Manila",
                  "passengers": 8000000,
                  "country": "Philippines",
                  "country_id": "ph"
                },
                "coordinates": [
                  14.508647,
                  121.019581
                ],
                "color": "#15AFAC",
                "styles": {},
                "label": "Manila",
                "scale_factor": 1,
                "type": "#15AFAC",
                "size": [
                  55,
                  55
                ],
                "position": [
                  0,
                  0
                ]
              },
              {
                "id": "SIN",
                "properties": {
                  "label": "Singapur",
                  "passengers": 32000000,
                  "country": "Singapore",
                  "country_id": "sg"
                },
                "coordinates": [
                  1.350189,
                  103.994433
                ],
                "color": "#15AFAC",
                "styles": {},
                "label": "Singapur",
                "scale_factor": 1,
                "type": "#15AFAC",
                "size": [
                  55,
                  55
                ],
                "position": [
                  0,
                  0
                ]
              },
              {
                "id": "TPE",
                "properties": {
                  "label": "Taipeh",
                  "passengers": 800000,
                  "country": "Taiwan",
                  "country_id": "tw"
                },
                "coordinates": [
                  25.077732,
                  121.232822
                ],
                "color": "#15AFAC",
                "styles": {},
                "label": "Taipeh",
                "scale_factor": 1,
                "type": "#15AFAC",
                "size": [
                  55,
                  55
                ],
                "position": [
                  0,
                  0
                ]
              },
              {
                "id": "BKK",
                "properties": {
                  "label": "Bangkok",
                  "passengers": 65000000,
                  "country": "Thailand",
                  "country_id": "th"
                },
                "coordinates": [
                  13.681108,
                  100.747283
                ],
                "color": "#15AFAC",
                "styles": {},
                "label": "Bangkok",
                "scale_factor": 1,
                "type": "#15AFAC",
                "size": [
                  55,
                  55
                ],
                "position": [
                  0,
                  0
                ]
              },
              {
                "id": "IST",
                "properties": {
                  "label": "Istanbul",
                  "passengers": 64000000,
                  "country": "Turkey",
                  "country_id": "tr"
                },
                "coordinates": [
                  40.976922,
                  28.814606
                ],
                "color": "#15AFAC",
                "styles": {},
                "label": "Istanbul",
                "scale_factor": 1,
                "type": "#15AFAC",
                "size": [
                  55,
                  55
                ],
                "position": [
                  0,
                  0
                ]
              },
              {
                "id": "ULN",
                "properties": {
                  "label": "Ulaanbaatar",
                  "passengers": 1000000,
                  "country": "Mongolia",
                  "country_id": "mn"
                },
                "coordinates": [
                  47.843056,
                  106.766639
                ],
                "color": "#15AFAC",
                "styles": {},
                "label": "Ulaanbaatar",
                "scale_factor": 1,
                "type": "#15AFAC",
                "size": [
                  55,
                  55
                ],
                "position": [
                  0,
                  0
                ]
              },
              {
                "id": "MEL",
                "properties": {
                  "label": "Melbourne",
                  "passengers": 12000000,
                  "country": "Australia",
                  "country_id": "au"
                },
                "coordinates": [
                  -37.673333,
                  144.843333
                ],
                "color": "#15AFAC",
                "styles": {},
                "label": "Melbourne",
                "scale_factor": 1,
                "type": "#15AFAC",
                "size": [
                  55,
                  55
                ],
                "position": [
                  0,
                  0
                ]
              },
              {
                "id": "BNE",
                "properties": {
                  "label": "Brisbane",
                  "passengers": 23000000,
                  "country": "Australia",
                  "country_id": "au"
                },
                "coordinates": [
                  -27.383333,
                  153.118056
                ],
                "color": "#15AFAC",
                "styles": {},
                "label": "Brisbane",
                "scale_factor": 1,
                "type": "#15AFAC",
                "size": [
                  55,
                  55
                ],
                "position": [
                  0,
                  0
                ]
              },
              {
                "id": "NAN",
                "properties": {
                  "label": "Nadi",
                  "passengers": 2000000,
                  "country": "Fiji",
                  "country_id": "fj"
                },
                "coordinates": [
                  -17.755392,
                  177.443378
                ],
                "color": "#15AFAC",
                "styles": {},
                "label": "Nadi",
                "scale_factor": 1,
                "type": "#15AFAC",
                "size": [
                  55,
                  55
                ],
                "position": [
                  0,
                  0
                ]
              },
              {
                "id": "AKL",
                "properties": {
                  "label": "Auckland",
                  "passengers": 21000000,
                  "country": "New Zealand",
                  "country_id": "nz"
                },
                "coordinates": [
                  -37.008056,
                  174.791667
                ],
                "color": "#15AFAC",
                "styles": {},
                "label": "Auckland",
                "scale_factor": 1,
                "type": "#15AFAC",
                "size": [
                  55,
                  55
                ],
                "position": [
                  0,
                  0
                ]
              },
              {
                "id": "CDG",
                "properties": {
                  "label": "Paris",
                  "passengers": 57000000,
                  "country": "France",
                  "country_id": "fr"
                },
                "coordinates": [
                  49.009722,
                  2.547778
                ],
                "color": "#15AFAC",
                "styles": {},
                "label": "Paris",
                "scale_factor": 1,
                "type": "#15AFAC",
                "size": [
                  55,
                  55
                ],
                "position": [
                  0,
                  0
                ]
              },
              {
                "id": "MAD",
                "properties": {
                  "label": "Madrid",
                  "passengers": 50000000,
                  "country": "Spain",
                  "country_id": "es"
                },
                "coordinates": [
                  40.4675,
                  -3.551944
                ],
                "color": "#15AFAC",
                "styles": {},
                "label": "Madrid",
                "scale_factor": 1,
                "type": "#15AFAC",
                "size": [
                  55,
                  55
                ],
                "position": [
                  0,
                  0
                ]
              },
              {
                "id": "BCN",
                "properties": {
                  "label": "Barcelona",
                  "passengers": 41000000,
                  "country": "Spain",
                  "country_id": "es"
                },
                "coordinates": [
                  41.297078,
                  2.078464
                ],
                "color": "#15AFAC",
                "styles": {},
                "label": "Barcelona",
                "scale_factor": 1,
                "type": "#15AFAC",
                "size": [
                  55,
                  55
                ],
                "position": [
                  0,
                  0
                ]
              },
              {
                "id": "FCO",
                "properties": {
                  "label": "Rome",
                  "passengers": 29000000,
                  "country": "Italy",
                  "country_id": "it"
                },
                "coordinates": [
                  41.804444,
                  12.250833
                ],
                "color": "#15AFAC",
                "styles": {},
                "label": "Rome",
                "scale_factor": 1,
                "type": "#15AFAC",
                "size": [
                  55,
                  55
                ],
                "position": [
                  0,
                  0
                ]
              },
              {
                "id": "CPH",
                "properties": {
                  "label": "Copenhagen",
                  "passengers": 30000000,
                  "country": "Denmark",
                  "country_id": "dk"
                },
                "coordinates": [
                  55.617917,
                  12.655972
                ],
                "color": "#15AFAC",
                "styles": {},
                "label": "Copenhagen",
                "scale_factor": 1,
                "type": "#15AFAC",
                "size": [
                  55,
                  55
                ],
                "position": [
                  0,
                  0
                ]
              },
              {
                "id": "HEL",
                "properties": {
                  "label": "Helsinki",
                  "passengers": 5000000,
                  "country": "Finland",
                  "country_id": "fi"
                },
                "coordinates": [
                  60.317222,
                  24.963333
                ],
                "color": "#15AFAC",
                "styles": {},
                "label": "Helsinki",
                "scale_factor": 1,
                "type": "#15AFAC",
                "size": [
                  55,
                  55
                ],
                "position": [
                  0,
                  0
                ]
              },
              {
                "id": "ATH",
                "properties": {
                  "label": "Athens",
                  "passengers": 22000000,
                  "country": "Greece",
                  "country_id": "gr"
                },
                "coordinates": [
                  37.936358,
                  23.944467
                ],
                "color": "#15AFAC",
                "styles": {},
                "label": "Athens",
                "scale_factor": 1,
                "type": "#15AFAC",
                "size": [
                  55,
                  55
                ],
                "position": [
                  0,
                  0
                ]
              },
              {
                "id": "DUB",
                "properties": {
                  "label": "Dublin",
                  "passengers": 32000000,
                  "country": "Ireland",
                  "country_id": "ie"
                },
                "coordinates": [
                  53.421333,
                  -6.270075
                ],
                "color": "#15AFAC",
                "styles": {},
                "label": "Dublin",
                "scale_factor": 1,
                "type": "#15AFAC",
                "size": [
                  55,
                  55
                ],
                "position": [
                  0,
                  0
                ]
              },
              {
                "id": "RKV",
                "properties": {
                  "label": "Reykjavik",
                  "passengers": 400000,
                  "country": "Iceland",
                  "country_id": "is"
                },
                "coordinates": [
                  64.13,
                  -21.940556
                ],
                "color": "#15AFAC",
                "styles": {},
                "label": "Reykjavik",
                "scale_factor": 1,
                "type": "#15AFAC",
                "size": [
                  55,
                  55
                ],
                "position": [
                  0,
                  0
                ]
              },
              {
                "id": "OSL",
                "properties": {
                  "label": "Oslo",
                  "passengers": 9000000,
                  "country": "Norway",
                  "country_id": "no"
                },
                "coordinates": [
                  60.193917,
                  11.100361
                ],
                "color": "#15AFAC",
                "styles": {},
                "label": "Oslo",
                "scale_factor": 1,
                "type": "#15AFAC",
                "size": [
                  55,
                  55
                ],
                "position": [
                  0,
                  0
                ]
              },
              {
                "id": "VIE",
                "properties": {
                  "label": "Vienna",
                  "passengers": 10000000,
                  "country": "Austria",
                  "country_id": "at"
                },
                "coordinates": [
                  48.110833,
                  16.570833
                ],
                "color": "#15AFAC",
                "styles": {},
                "label": "Vienna",
                "scale_factor": 1,
                "type": "#15AFAC",
                "size": [
                  55,
                  55
                ],
                "position": [
                  0,
                  0
                ]
              },
              {
                "id": "LIS",
                "properties": {
                  "label": "Lisbon",
                  "passengers": 28000000,
                  "country": "Portugal",
                  "country_id": "pt"
                },
                "coordinates": [
                  38.774167,
                  -9.134167
                ],
                "color": "#15AFAC",
                "styles": {},
                "label": "Lisbon",
                "scale_factor": 1,
                "type": "#15AFAC",
                "size": [
                  55,
                  55
                ],
                "position": [
                  0,
                  0
                ]
              },
              {
                "id": "ARN",
                "properties": {
                  "label": "Stockholm",
                  "passengers": 7000000,
                  "country": "Sweden",
                  "country_id": "se"
                },
                "coordinates": [
                  59.651944,
                  17.918611
                ],
                "color": "#15AFAC",
                "styles": {},
                "label": "Stockholm",
                "scale_factor": 1,
                "type": "#15AFAC",
                "size": [
                  55,
                  55
                ],
                "position": [
                  0,
                  0
                ]
              },
              {
                "id": "EDI",
                "properties": {
                  "label": "Edinburgh",
                  "passengers": 14000000,
                  "country": "UK",
                  "country_id": "gb"
                },
                "coordinates": [
                  55.95,
                  -3.3725
                ],
                "color": "#15AFAC",
                "styles": {},
                "label": "Edinburgh",
                "scale_factor": 1,
                "type": "#15AFAC",
                "size": [
                  55,
                  55
                ],
                "position": [
                  0,
                  0
                ]
              },
              {
                "id": "ORD",
                "properties": {
                  "label": "Chicago",
                  "passengers": 54000000,
                  "country": "USA",
                  "country_id": "us"
                },
                "coordinates": [
                  41.978603,
                  -87.904842
                ],
                "color": "#15AFAC",
                "styles": {},
                "label": "Chicago",
                "scale_factor": 1,
                "type": "#15AFAC",
                "size": [
                  55,
                  55
                ],
                "position": [
                  0,
                  0
                ]
              },
              {
                "id": "DFW",
                "properties": {
                  "label": "Dallas",
                  "passengers": 73000000,
                  "country": "USA",
                  "country_id": "us"
                },
                "coordinates": [
                  32.896828,
                  -97.037997
                ],
                "color": "#15AFAC",
                "styles": {},
                "label": "Dallas",
                "scale_factor": 1,
                "type": "#15AFAC",
                "size": [
                  55,
                  55
                ],
                "position": [
                  0,
                  0
                ]
              },
              {
                "id": "SFO",
                "properties": {
                  "label": "San Francisco",
                  "passengers": 42000000,
                  "country": "USA",
                  "country_id": "us"
                },
                "coordinates": [
                  37.618972,
                  -122.374889
                ],
                "color": "#15AFAC",
                "styles": {},
                "label": "San Francisco",
                "scale_factor": 1,
                "type": "#15AFAC",
                "size": [
                  55,
                  55
                ],
                "position": [
                  0,
                  0
                ]
              },
              {
                "id": "LAS",
                "properties": {
                  "label": "Las Vegas",
                  "passengers": 52000000,
                  "country": "USA",
                  "country_id": "us"
                },
                "coordinates": [
                  36.080056,
                  -115.15225
                ],
                "color": "#15AFAC",
                "styles": {},
                "label": "Las Vegas",
                "scale_factor": 1,
                "type": "#15AFAC",
                "size": [
                  55,
                  55
                ],
                "position": [
                  0,
                  0
                ]
              },
              {
                "id": "MIA",
                "properties": {
                  "label": "Miami",
                  "passengers": 50000000,
                  "country": "USA",
                  "country_id": "us"
                },
                "coordinates": [
                  25.79325,
                  -80.290556
                ],
                "color": "#15AFAC",
                "styles": {},
                "label": "Miami",
                "scale_factor": 1,
                "type": "#15AFAC",
                "size": [
                  55,
                  55
                ],
                "position": [
                  0,
                  0
                ]
              },
              {
                "id": "YYZ",
                "properties": {
                  "label": "Toronto",
                  "passengers": 12000000,
                  "country": "Canada",
                  "country_id": "ca"
                },
                "coordinates": [
                  43.677222,
                  -79.630556
                ],
                "color": "#15AFAC",
                "styles": {},
                "label": "Toronto",
                "scale_factor": 1,
                "type": "#15AFAC",
                "size": [
                  55,
                  55
                ],
                "position": [
                  0,
                  0
                ]
              },
              {
                "id": "YVR",
                "properties": {
                  "label": "Vancouver",
                  "passengers": 19000000,
                  "country": "Canada",
                  "country_id": "ca"
                },
                "coordinates": [
                  49.193889,
                  -123.184444
                ],
                "color": "#15AFAC",
                "styles": {},
                "label": "Vancouver",
                "scale_factor": 1,
                "type": "#15AFAC",
                "size": [
                  55,
                  55
                ],
                "position": [
                  0,
                  0
                ]
              },
              {
                "id": "YUL",
                "properties": {
                  "label": "Montreal",
                  "passengers": 15000000,
                  "country": "Canada",
                  "country_id": "ca"
                },
                "coordinates": [
                  45.47175,
                  -73.736569
                ],
                "color": "#15AFAC",
                "styles": {},
                "label": "Montreal",
                "scale_factor": 1,
                "type": "#15AFAC",
                "size": [
                  55,
                  55
                ],
                "position": [
                  0,
                  0
                ]
              },
              {
                "id": "MEX",
                "properties": {
                  "label": "Mexico-City",
                  "passengers": 46000000,
                  "country": "Mexico",
                  "country_id": "mx"
                },
                "coordinates": [
                  19.436303,
                  -99.072097
                ],
                "color": "#15AFAC",
                "styles": {},
                "label": "Mexico-City",
                "scale_factor": 1,
                "type": "#15AFAC",
                "size": [
                  55,
                  55
                ],
                "position": [
                  0,
                  0
                ]
              },
              {
                "id": "GUA",
                "properties": {
                  "label": "Guatemala-City",
                  "passengers": 2000000,
                  "country": "Guatemala",
                  "country_id": "gt"
                },
                "coordinates": [
                  14.583272,
                  -90.527475
                ],
                "color": "#15AFAC",
                "styles": {},
                "label": "Guatemala-City",
                "scale_factor": 1,
                "type": "#15AFAC",
                "size": [
                  55,
                  55
                ],
                "position": [
                  0,
                  0
                ]
              },
              {
                "id": "EZE",
                "properties": {
                  "label": "Buenos Aires",
                  "passengers": 5000000,
                  "country": "Argentina",
                  "country_id": "ar"
                },
                "coordinates": [
                  -34.822222,
                  -58.535833
                ],
                "color": "#15AFAC",
                "styles": {},
                "label": "Buenos Aires",
                "scale_factor": 1,
                "type": "#15AFAC",
                "size": [
                  55,
                  55
                ],
                "position": [
                  0,
                  0
                ]
              },
              {
                "id": "GRU",
                "properties": {
                  "label": "Sao Paulo",
                  "passengers": 34000000,
                  "country": "Brazil",
                  "country_id": "br"
                },
                "coordinates": [
                  -23.432075,
                  -46.469511
                ],
                "color": "#15AFAC",
                "styles": {},
                "label": "Sao Paulo",
                "scale_factor": 1,
                "type": "#15AFAC",
                "size": [
                  55,
                  55
                ],
                "position": [
                  0,
                  0
                ]
              },
              {
                "id": "SCL",
                "properties": {
                  "label": "Santiago de Chile",
                  "passengers": 20000000,
                  "country": "Chile",
                  "country_id": "cl"
                },
                "coordinates": [
                  -33.392975,
                  -70.785803
                ],
                "color": "#15AFAC",
                "styles": {},
                "label": "Santiago de Chile",
                "scale_factor": 1,
                "type": "#15AFAC",
                "size": [
                  55,
                  55
                ],
                "position": [
                  0,
                  0
                ]
              },
              {
                "id": "BSB",
                "properties": {
                  "label": "Brasilia",
                  "passengers": 13000000,
                  "country": "Brazil",
                  "country_id": "br"
                },
                "coordinates": [
                  -15.871111,
                  -47.918611
                ],
                "color": "#15AFAC",
                "styles": {},
                "label": "Brasilia",
                "scale_factor": 1,
                "type": "#15AFAC",
                "size": [
                  55,
                  55
                ],
                "position": [
                  0,
                  0
                ]
              },
              {
                "id": "BOG",
                "properties": {
                  "label": "Bogota",
                  "passengers": 36000000,
                  "country": "Colombia",
                  "country_id": "co"
                },
                "coordinates": [
                  4.701594,
                  -74.146947
                ],
                "color": "#15AFAC",
                "styles": {},
                "label": "Bogota",
                "scale_factor": 1,
                "type": "#15AFAC",
                "size": [
                  55,
                  55
                ],
                "position": [
                  0,
                  0
                ]
              },
              {
                "id": "CCS",
                "properties": {
                  "label": "Caracas",
                  "passengers": 8000000,
                  "country": "Venezuela",
                  "country_id": "ve"
                },
                "coordinates": [
                  10.601194,
                  -66.991222
                ],
                "color": "#15AFAC",
                "styles": {},
                "label": "Caracas",
                "scale_factor": 1,
                "type": "#15AFAC",
                "size": [
                  55,
                  55
                ],
                "position": [
                  0,
                  0
                ]
              }
            ],
            "_overview": {
              "enabled": null,
              "overview_set": false
            },
            "_selected_graph": [
              [],
              []
            ],
            "_sidebar": {
              "enabled": false,
              "start_with": null
            },
            "_view_count": null,
            "_view_module": "yfiles-jupyter-graphs",
            "_view_module_version": "^1.10.8",
            "_view_name": "GraphView",
            "layout": "IPY_MODEL_023223d0cf234e7884632f19bc976f11"
          }
        },
        "023223d0cf234e7884632f19bc976f11": {
          "model_module": "@jupyter-widgets/base",
          "model_name": "LayoutModel",
          "model_module_version": "1.2.0",
          "state": {
            "_model_module": "@jupyter-widgets/base",
            "_model_module_version": "1.2.0",
            "_model_name": "LayoutModel",
            "_view_count": null,
            "_view_module": "@jupyter-widgets/base",
            "_view_module_version": "1.2.0",
            "_view_name": "LayoutView",
            "align_content": null,
            "align_items": null,
            "align_self": null,
            "border": null,
            "bottom": null,
            "display": null,
            "flex": null,
            "flex_flow": null,
            "grid_area": null,
            "grid_auto_columns": null,
            "grid_auto_flow": null,
            "grid_auto_rows": null,
            "grid_column": null,
            "grid_gap": null,
            "grid_row": null,
            "grid_template_areas": null,
            "grid_template_columns": null,
            "grid_template_rows": null,
            "height": "800px",
            "justify_content": null,
            "justify_items": null,
            "left": null,
            "margin": null,
            "max_height": null,
            "max_width": null,
            "min_height": null,
            "min_width": null,
            "object_fit": null,
            "object_position": null,
            "order": null,
            "overflow": null,
            "overflow_x": null,
            "overflow_y": null,
            "padding": null,
            "right": null,
            "top": null,
            "visibility": null,
            "width": "100%"
          }
        },
        "3ed6138962514b0ea72f2b69c6507c36": {
          "model_module": "yfiles-jupyter-graphs",
          "model_name": "GraphModel",
          "model_module_version": "^1.10.8",
          "state": {
            "_context_pane_mapping": [
              {
                "id": "Neighborhood",
                "title": "Neighborhood"
              },
              {
                "id": "Data",
                "title": "Data"
              },
              {
                "id": "Search",
                "title": "Search"
              },
              {
                "id": "About",
                "title": "About"
              }
            ],
            "_data_importer": "unknown",
            "_directed": false,
            "_dom_classes": [],
            "_edges": [
              {
                "start": "LAX",
                "end": "JFK",
                "label": "",
                "properties": {},
                "directed": false,
                "id": "6f28225c-73c4-4e2a-a518-78f8356ad78e",
                "color": "#15AFAC",
                "thickness_factor": 1,
                "styles": {}
              },
              {
                "start": "JFK",
                "end": "GIG",
                "label": "",
                "properties": {},
                "directed": false,
                "id": "ae218385-9a36-4c4c-9f6f-c9f3b47e7747",
                "color": "#15AFAC",
                "thickness_factor": 1,
                "styles": {}
              },
              {
                "start": "JFK",
                "end": "LIM",
                "label": "",
                "properties": {},
                "directed": false,
                "id": "194338ea-cb46-4438-aa12-984b79d5a056",
                "color": "#15AFAC",
                "thickness_factor": 1,
                "styles": {}
              },
              {
                "start": "JFK",
                "end": "LHR",
                "label": "",
                "properties": {},
                "directed": false,
                "id": "df2d274f-0310-49e0-a15b-bd1d7371ef61",
                "color": "#15AFAC",
                "thickness_factor": 1,
                "styles": {}
              },
              {
                "start": "GIG",
                "end": "FRA",
                "label": "",
                "properties": {},
                "directed": false,
                "id": "0c70ffcf-cc40-497b-bf11-65d1ea3c513c",
                "color": "#15AFAC",
                "thickness_factor": 1,
                "styles": {}
              },
              {
                "start": "LIM",
                "end": "GIG",
                "label": "",
                "properties": {},
                "directed": false,
                "id": "ba4a3fdb-aa49-4022-ba54-34d5aeeae5e1",
                "color": "#15AFAC",
                "thickness_factor": 1,
                "styles": {}
              },
              {
                "start": "FRA",
                "end": "JFK",
                "label": "",
                "properties": {},
                "directed": false,
                "id": "6c36e3d8-bf34-4c61-a5f5-6cb8ab0b4c23",
                "color": "#15AFAC",
                "thickness_factor": 1,
                "styles": {}
              },
              {
                "start": "LHR",
                "end": "FRA",
                "label": "",
                "properties": {},
                "directed": false,
                "id": "3ace757d-ec63-4478-b1a5-47740c66573e",
                "color": "#15AFAC",
                "thickness_factor": 1,
                "styles": {}
              },
              {
                "start": "FRA",
                "end": "SVO",
                "label": "",
                "properties": {},
                "directed": false,
                "id": "7ffff4fb-3009-4b02-b346-effcb0830e8d",
                "color": "#15AFAC",
                "thickness_factor": 1,
                "styles": {}
              },
              {
                "start": "FRA",
                "end": "DXB",
                "label": "",
                "properties": {},
                "directed": false,
                "id": "b33eb52b-b41b-42f5-85d8-0d7c9ec358aa",
                "color": "#15AFAC",
                "thickness_factor": 1,
                "styles": {}
              },
              {
                "start": "SVO",
                "end": "DEL",
                "label": "",
                "properties": {},
                "directed": false,
                "id": "1c8fb25b-4680-414e-bc61-1b0fa5db5429",
                "color": "#15AFAC",
                "thickness_factor": 1,
                "styles": {}
              },
              {
                "start": "SVO",
                "end": "PVG",
                "label": "",
                "properties": {},
                "directed": false,
                "id": "ea5b3d84-c0c7-47df-a445-3013b56fdaee",
                "color": "#15AFAC",
                "thickness_factor": 1,
                "styles": {}
              },
              {
                "start": "DEL",
                "end": "HKG",
                "label": "",
                "properties": {},
                "directed": false,
                "id": "4e4f12a0-7d38-462e-9d08-11f7d1fc4e75",
                "color": "#15AFAC",
                "thickness_factor": 1,
                "styles": {}
              },
              {
                "start": "PVG",
                "end": "HKG",
                "label": "",
                "properties": {},
                "directed": false,
                "id": "d05d8e99-c4fd-447a-8a55-e1f639b6df54",
                "color": "#15AFAC",
                "thickness_factor": 1,
                "styles": {}
              },
              {
                "start": "PVG",
                "end": "NRT",
                "label": "",
                "properties": {},
                "directed": false,
                "id": "a9ec5c74-c008-4beb-81be-91ef8337b1b3",
                "color": "#15AFAC",
                "thickness_factor": 1,
                "styles": {}
              },
              {
                "start": "HKG",
                "end": "SYD",
                "label": "",
                "properties": {},
                "directed": false,
                "id": "9126b224-b45a-44d0-a295-9145bd203b7e",
                "color": "#15AFAC",
                "thickness_factor": 1,
                "styles": {}
              },
              {
                "start": "NRT",
                "end": "SYD",
                "label": "",
                "properties": {},
                "directed": false,
                "id": "9fa1e63a-63bc-4d6a-8b38-b95cfa07c203",
                "color": "#15AFAC",
                "thickness_factor": 1,
                "styles": {}
              },
              {
                "start": "DXB",
                "end": "SVO",
                "label": "",
                "properties": {},
                "directed": false,
                "id": "03ab691f-a3c4-40d8-a7d9-5e9915c1f29a",
                "color": "#15AFAC",
                "thickness_factor": 1,
                "styles": {}
              },
              {
                "start": "DXB",
                "end": "DEL",
                "label": "",
                "properties": {},
                "directed": false,
                "id": "9f758073-8f56-41b4-a9c0-445636d9d66c",
                "color": "#15AFAC",
                "thickness_factor": 1,
                "styles": {}
              },
              {
                "start": "DXB",
                "end": "DKR",
                "label": "",
                "properties": {},
                "directed": false,
                "id": "6f269590-9d5d-4696-ac7c-a011939d5d6a",
                "color": "#15AFAC",
                "thickness_factor": 1,
                "styles": {}
              },
              {
                "start": "DXB",
                "end": "JNB",
                "label": "",
                "properties": {},
                "directed": false,
                "id": "03c4b82d-4020-444c-8c1a-0406623c2656",
                "color": "#15AFAC",
                "thickness_factor": 1,
                "styles": {}
              },
              {
                "start": "JNB",
                "end": "LHR",
                "label": "",
                "properties": {},
                "directed": false,
                "id": "97aec433-5866-4905-b265-03fb0e1c587a",
                "color": "#15AFAC",
                "thickness_factor": 1,
                "styles": {}
              },
              {
                "start": "JNB",
                "end": "DKR",
                "label": "",
                "properties": {},
                "directed": false,
                "id": "e066475a-f60b-4b9b-81cd-022d744a1954",
                "color": "#15AFAC",
                "thickness_factor": 1,
                "styles": {}
              },
              {
                "start": "SYD",
                "end": "DXB",
                "label": "",
                "properties": {},
                "directed": false,
                "id": "c43817d1-8071-445a-961e-8f7875c57786",
                "color": "#15AFAC",
                "thickness_factor": 1,
                "styles": {}
              },
              {
                "start": "NBO",
                "end": "JNB",
                "label": "",
                "properties": {},
                "directed": false,
                "id": "4fbc540e-24f2-41d7-9718-0a1af6ae985f",
                "color": "#15AFAC",
                "thickness_factor": 1,
                "styles": {}
              },
              {
                "start": "NBO",
                "end": "DXB",
                "label": "",
                "properties": {},
                "directed": false,
                "id": "bb1cca38-2e34-4481-8b0b-80a546b8248d",
                "color": "#15AFAC",
                "thickness_factor": 1,
                "styles": {}
              },
              {
                "start": "ATL",
                "end": "JFK",
                "label": "",
                "properties": {},
                "directed": false,
                "id": "69a480bf-3bce-494c-ad7b-e7c49318b041",
                "color": "#15AFAC",
                "thickness_factor": 1,
                "styles": {}
              },
              {
                "start": "LAX",
                "end": "ATL",
                "label": "",
                "properties": {},
                "directed": false,
                "id": "d6e77824-7306-4fbf-9bc9-b0ce63c6a9a5",
                "color": "#15AFAC",
                "thickness_factor": 1,
                "styles": {}
              },
              {
                "start": "ATL",
                "end": "LHR",
                "label": "",
                "properties": {},
                "directed": false,
                "id": "5adfb942-ce2c-4014-955d-dbf90c1fc7f2",
                "color": "#15AFAC",
                "thickness_factor": 1,
                "styles": {}
              },
              {
                "start": "ATL",
                "end": "LIM",
                "label": "",
                "properties": {},
                "directed": false,
                "id": "2530fc2e-1136-479a-9539-3f79238a388d",
                "color": "#15AFAC",
                "thickness_factor": 1,
                "styles": {}
              },
              {
                "start": "SCL",
                "end": "LIM",
                "label": "",
                "properties": {},
                "directed": false,
                "id": "99a4d526-0ff1-4b42-88d7-d2c4b8864172",
                "color": "#15AFAC",
                "thickness_factor": 1,
                "styles": {}
              },
              {
                "start": "EZE",
                "end": "SCL",
                "label": "",
                "properties": {},
                "directed": false,
                "id": "30f26c28-114e-49b1-9260-9cdf93710f03",
                "color": "#15AFAC",
                "thickness_factor": 1,
                "styles": {}
              },
              {
                "start": "SCL",
                "end": "GRU",
                "label": "",
                "properties": {},
                "directed": false,
                "id": "ba016377-d4f0-4789-b4a9-7e54e1dcad12",
                "color": "#15AFAC",
                "thickness_factor": 1,
                "styles": {}
              },
              {
                "start": "GIG",
                "end": "EZE",
                "label": "",
                "properties": {},
                "directed": false,
                "id": "0c1d3bbb-c198-4013-a504-4c06401b8be3",
                "color": "#15AFAC",
                "thickness_factor": 1,
                "styles": {}
              },
              {
                "start": "GIG",
                "end": "GRU",
                "label": "",
                "properties": {},
                "directed": false,
                "id": "8f221d7c-42c0-4bd0-a709-f62e4961e0b1",
                "color": "#15AFAC",
                "thickness_factor": 1,
                "styles": {}
              },
              {
                "start": "BSB",
                "end": "GIG",
                "label": "",
                "properties": {},
                "directed": false,
                "id": "45334ad6-5c1a-449e-bcb0-8fbaf3929fe2",
                "color": "#15AFAC",
                "thickness_factor": 1,
                "styles": {}
              },
              {
                "start": "SCL",
                "end": "BSB",
                "label": "",
                "properties": {},
                "directed": false,
                "id": "4be7d62b-84f4-40e2-a500-b238795e29f1",
                "color": "#15AFAC",
                "thickness_factor": 1,
                "styles": {}
              },
              {
                "start": "LIM",
                "end": "BSB",
                "label": "",
                "properties": {},
                "directed": false,
                "id": "fe439a0c-dfdf-4397-82e0-26f38534f13f",
                "color": "#15AFAC",
                "thickness_factor": 1,
                "styles": {}
              },
              {
                "start": "BOG",
                "end": "BSB",
                "label": "",
                "properties": {},
                "directed": false,
                "id": "ccdf71e0-7283-4980-a19f-184c32984c79",
                "color": "#15AFAC",
                "thickness_factor": 1,
                "styles": {}
              },
              {
                "start": "CCS",
                "end": "BSB",
                "label": "",
                "properties": {},
                "directed": false,
                "id": "9490101e-a74a-43f8-b766-e589dc05dc7e",
                "color": "#15AFAC",
                "thickness_factor": 1,
                "styles": {}
              },
              {
                "start": "BOG",
                "end": "GUA",
                "label": "",
                "properties": {},
                "directed": false,
                "id": "852ff0ed-8c87-4c92-b801-e0dfb8ed6aad",
                "color": "#15AFAC",
                "thickness_factor": 1,
                "styles": {}
              },
              {
                "start": "CCS",
                "end": "MIA",
                "label": "",
                "properties": {},
                "directed": false,
                "id": "dd224294-7e2f-44de-9e9e-8f5ce772ca8f",
                "color": "#15AFAC",
                "thickness_factor": 1,
                "styles": {}
              },
              {
                "start": "GUA",
                "end": "MIA",
                "label": "",
                "properties": {},
                "directed": false,
                "id": "90e9bf62-4cd6-4cfa-aff6-4afed3ddae97",
                "color": "#15AFAC",
                "thickness_factor": 1,
                "styles": {}
              },
              {
                "start": "GUA",
                "end": "MEX",
                "label": "",
                "properties": {},
                "directed": false,
                "id": "fdcc15bf-ad32-496c-93b6-017b4d3348e6",
                "color": "#15AFAC",
                "thickness_factor": 1,
                "styles": {}
              },
              {
                "start": "MEX",
                "end": "LAX",
                "label": "",
                "properties": {},
                "directed": false,
                "id": "5dafc441-08a4-4508-a636-142158cd764a",
                "color": "#15AFAC",
                "thickness_factor": 1,
                "styles": {}
              },
              {
                "start": "MEX",
                "end": "LAX",
                "label": "",
                "properties": {},
                "directed": false,
                "id": "db6e3bd3-9880-4fca-9770-8573163f2d8b",
                "color": "#15AFAC",
                "thickness_factor": 1,
                "styles": {}
              },
              {
                "start": "LAX",
                "end": "SFO",
                "label": "",
                "properties": {},
                "directed": false,
                "id": "18deb138-e2a0-4735-a60b-431ad1ea3570",
                "color": "#15AFAC",
                "thickness_factor": 1,
                "styles": {}
              },
              {
                "start": "SFO",
                "end": "YVR",
                "label": "",
                "properties": {},
                "directed": false,
                "id": "f7251adf-1556-4503-b0db-1be71033f7ff",
                "color": "#15AFAC",
                "thickness_factor": 1,
                "styles": {}
              },
              {
                "start": "LAX",
                "end": "LAS",
                "label": "",
                "properties": {},
                "directed": false,
                "id": "b6d6fe2d-616b-442f-ada7-c1309f4da14f",
                "color": "#15AFAC",
                "thickness_factor": 1,
                "styles": {}
              },
              {
                "start": "LAX",
                "end": "DFW",
                "label": "",
                "properties": {},
                "directed": false,
                "id": "3bd784da-2c4a-470f-ba93-a21a4907caa2",
                "color": "#15AFAC",
                "thickness_factor": 1,
                "styles": {}
              },
              {
                "start": "LAX",
                "end": "ORD",
                "label": "",
                "properties": {},
                "directed": false,
                "id": "4c428235-0b33-41a4-90df-1b5e170cdd59",
                "color": "#15AFAC",
                "thickness_factor": 1,
                "styles": {}
              },
              {
                "start": "SFO",
                "end": "LAS",
                "label": "",
                "properties": {},
                "directed": false,
                "id": "19f7f8ab-d748-41fd-901a-9c9cb16d43f2",
                "color": "#15AFAC",
                "thickness_factor": 1,
                "styles": {}
              },
              {
                "start": "DFW",
                "end": "ATL",
                "label": "",
                "properties": {},
                "directed": false,
                "id": "eb407755-4587-4cb5-ab43-70cba2f446e7",
                "color": "#15AFAC",
                "thickness_factor": 1,
                "styles": {}
              },
              {
                "start": "ATL",
                "end": "YYZ",
                "label": "",
                "properties": {},
                "directed": false,
                "id": "7a599ee2-a40d-4dd5-b91d-9261d40f9ba9",
                "color": "#15AFAC",
                "thickness_factor": 1,
                "styles": {}
              },
              {
                "start": "ORD",
                "end": "YYZ",
                "label": "",
                "properties": {},
                "directed": false,
                "id": "c59f8e89-329d-43ee-8e0e-d18967bbe1e9",
                "color": "#15AFAC",
                "thickness_factor": 1,
                "styles": {}
              },
              {
                "start": "YYZ",
                "end": "YUL",
                "label": "",
                "properties": {},
                "directed": false,
                "id": "77dac866-c1f4-47b9-ac61-d0265e74fc7c",
                "color": "#15AFAC",
                "thickness_factor": 1,
                "styles": {}
              },
              {
                "start": "YYZ",
                "end": "JFK",
                "label": "",
                "properties": {},
                "directed": false,
                "id": "6ff17bf1-6c9c-44c3-ab89-656dafdc72f4",
                "color": "#15AFAC",
                "thickness_factor": 1,
                "styles": {}
              },
              {
                "start": "YUL",
                "end": "JFK",
                "label": "",
                "properties": {},
                "directed": false,
                "id": "7096f558-a419-41aa-b6e7-6ee37bee2b12",
                "color": "#15AFAC",
                "thickness_factor": 1,
                "styles": {}
              },
              {
                "start": "JNB",
                "end": "CPT",
                "label": "",
                "properties": {},
                "directed": false,
                "id": "136a3582-aa1f-400d-82fa-ca27ad29f32c",
                "color": "#15AFAC",
                "thickness_factor": 1,
                "styles": {}
              },
              {
                "start": "LOS",
                "end": "DKR",
                "label": "",
                "properties": {},
                "directed": false,
                "id": "f67d9e45-353b-462e-9dd7-e82ead1f0f12",
                "color": "#15AFAC",
                "thickness_factor": 1,
                "styles": {}
              },
              {
                "start": "NBO",
                "end": "LOS",
                "label": "",
                "properties": {},
                "directed": false,
                "id": "7aa5c264-9d2b-406c-a86c-65455d7f4b30",
                "color": "#15AFAC",
                "thickness_factor": 1,
                "styles": {}
              },
              {
                "start": "DKR",
                "end": "CMN",
                "label": "",
                "properties": {},
                "directed": false,
                "id": "1e0a92f1-bd56-4bc8-bd75-8d4aa6d03bfd",
                "color": "#15AFAC",
                "thickness_factor": 1,
                "styles": {}
              },
              {
                "start": "DKR",
                "end": "CAI",
                "label": "",
                "properties": {},
                "directed": false,
                "id": "decbcf93-9d78-47fe-8c10-4a63d04da72b",
                "color": "#15AFAC",
                "thickness_factor": 1,
                "styles": {}
              },
              {
                "start": "NBO",
                "end": "CAI",
                "label": "",
                "properties": {},
                "directed": false,
                "id": "30938507-abce-47ce-b9c6-de53c491e7ad",
                "color": "#15AFAC",
                "thickness_factor": 1,
                "styles": {}
              },
              {
                "start": "DXB",
                "end": "CAI",
                "label": "",
                "properties": {},
                "directed": false,
                "id": "d29c1792-3b3c-4d2f-b92b-76f38ce3897d",
                "color": "#15AFAC",
                "thickness_factor": 1,
                "styles": {}
              },
              {
                "start": "IKA",
                "end": "DXB",
                "label": "",
                "properties": {},
                "directed": false,
                "id": "31c516fc-f189-48bb-9d51-33266e0359ad",
                "color": "#15AFAC",
                "thickness_factor": 1,
                "styles": {}
              },
              {
                "start": "IST",
                "end": "IKA",
                "label": "",
                "properties": {},
                "directed": false,
                "id": "a47dfda6-41ed-4424-a948-97e7445333f0",
                "color": "#15AFAC",
                "thickness_factor": 1,
                "styles": {}
              },
              {
                "start": "TLV",
                "end": "ATH",
                "label": "",
                "properties": {},
                "directed": false,
                "id": "d48d7fb8-9adb-4d23-a3b5-4a3ae3af4220",
                "color": "#15AFAC",
                "thickness_factor": 1,
                "styles": {}
              },
              {
                "start": "CAI",
                "end": "TLV",
                "label": "",
                "properties": {},
                "directed": false,
                "id": "d2f35743-830f-4b71-9194-f411e1d4a452",
                "color": "#15AFAC",
                "thickness_factor": 1,
                "styles": {}
              },
              {
                "start": "ATH",
                "end": "IST",
                "label": "",
                "properties": {},
                "directed": false,
                "id": "cb4509c4-85f1-4545-92ad-1406f2b3cfee",
                "color": "#15AFAC",
                "thickness_factor": 1,
                "styles": {}
              },
              {
                "start": "FCO",
                "end": "ATH",
                "label": "",
                "properties": {},
                "directed": false,
                "id": "944bdeb5-f789-4968-a2e5-da86782dc24c",
                "color": "#15AFAC",
                "thickness_factor": 1,
                "styles": {}
              },
              {
                "start": "LIS",
                "end": "LHR",
                "label": "",
                "properties": {},
                "directed": false,
                "id": "13a69016-af8f-44c7-9255-8dcdc8be6e2b",
                "color": "#15AFAC",
                "thickness_factor": 1,
                "styles": {}
              },
              {
                "start": "LIS",
                "end": "MAD",
                "label": "",
                "properties": {},
                "directed": false,
                "id": "62608b78-2ce9-440c-82d1-cc2752a76d23",
                "color": "#15AFAC",
                "thickness_factor": 1,
                "styles": {}
              },
              {
                "start": "MAD",
                "end": "BCN",
                "label": "",
                "properties": {},
                "directed": false,
                "id": "0447d91d-4ffe-4098-8a73-e6c41e8bce15",
                "color": "#15AFAC",
                "thickness_factor": 1,
                "styles": {}
              },
              {
                "start": "CDG",
                "end": "LHR",
                "label": "",
                "properties": {},
                "directed": false,
                "id": "224bcf82-3a2d-4f4e-9358-96ad7d5568d8",
                "color": "#15AFAC",
                "thickness_factor": 1,
                "styles": {}
              },
              {
                "start": "DUB",
                "end": "LHR",
                "label": "",
                "properties": {},
                "directed": false,
                "id": "116362f3-d7e4-4f8f-9d1d-5bc6b459f88e",
                "color": "#15AFAC",
                "thickness_factor": 1,
                "styles": {}
              },
              {
                "start": "EDI",
                "end": "LHR",
                "label": "",
                "properties": {},
                "directed": false,
                "id": "3ea6ef4a-2f88-426d-a321-4f3212397b78",
                "color": "#15AFAC",
                "thickness_factor": 1,
                "styles": {}
              },
              {
                "start": "CDG",
                "end": "BCN",
                "label": "",
                "properties": {},
                "directed": false,
                "id": "1d31c43d-3c97-474a-8021-226b294ed81e",
                "color": "#15AFAC",
                "thickness_factor": 1,
                "styles": {}
              },
              {
                "start": "BCN",
                "end": "FCO",
                "label": "",
                "properties": {},
                "directed": false,
                "id": "9319fec0-4577-439a-97f5-71898f05e7e7",
                "color": "#15AFAC",
                "thickness_factor": 1,
                "styles": {}
              },
              {
                "start": "VIE",
                "end": "IST",
                "label": "",
                "properties": {},
                "directed": false,
                "id": "28474528-4611-42f6-a2ca-1c6576b366c7",
                "color": "#15AFAC",
                "thickness_factor": 1,
                "styles": {}
              },
              {
                "start": "VIE",
                "end": "SVO",
                "label": "",
                "properties": {},
                "directed": false,
                "id": "b52845a6-847c-4019-80ae-b745f3be6cd2",
                "color": "#15AFAC",
                "thickness_factor": 1,
                "styles": {}
              },
              {
                "start": "CMN",
                "end": "LIS",
                "label": "",
                "properties": {},
                "directed": false,
                "id": "74331974-ee62-466c-bff5-dd941e5f7d9e",
                "color": "#15AFAC",
                "thickness_factor": 1,
                "styles": {}
              },
              {
                "start": "MAD",
                "end": "CMN",
                "label": "",
                "properties": {},
                "directed": false,
                "id": "953b517b-21aa-4fbd-ba87-9ff764eb7f05",
                "color": "#15AFAC",
                "thickness_factor": 1,
                "styles": {}
              },
              {
                "start": "FRA",
                "end": "CPH",
                "label": "",
                "properties": {},
                "directed": false,
                "id": "3fee60a0-edf4-4819-af5a-22fb82e97622",
                "color": "#15AFAC",
                "thickness_factor": 1,
                "styles": {}
              },
              {
                "start": "LHR",
                "end": "CPH",
                "label": "",
                "properties": {},
                "directed": false,
                "id": "d03bd183-ae7e-4901-9e9e-167976ecbf48",
                "color": "#15AFAC",
                "thickness_factor": 1,
                "styles": {}
              },
              {
                "start": "CPH",
                "end": "OSL",
                "label": "",
                "properties": {},
                "directed": false,
                "id": "e3b188c0-f603-4398-9577-8b4f134ffe50",
                "color": "#15AFAC",
                "thickness_factor": 1,
                "styles": {}
              },
              {
                "start": "CPH",
                "end": "ARN",
                "label": "",
                "properties": {},
                "directed": false,
                "id": "0b54d7ae-1b13-42d7-90ec-4062e55d94bf",
                "color": "#15AFAC",
                "thickness_factor": 1,
                "styles": {}
              },
              {
                "start": "ARN",
                "end": "HEL",
                "label": "",
                "properties": {},
                "directed": false,
                "id": "adb46f54-e71e-4d7d-aaab-471503ca1d6a",
                "color": "#15AFAC",
                "thickness_factor": 1,
                "styles": {}
              },
              {
                "start": "HEL",
                "end": "SVO",
                "label": "",
                "properties": {},
                "directed": false,
                "id": "f8e13a87-cc2e-4db6-a87c-e2d9912114d5",
                "color": "#15AFAC",
                "thickness_factor": 1,
                "styles": {}
              },
              {
                "start": "ULN",
                "end": "PVG",
                "label": "",
                "properties": {},
                "directed": false,
                "id": "7651dd1d-c1f5-4bae-9f98-df8e2f037369",
                "color": "#15AFAC",
                "thickness_factor": 1,
                "styles": {}
              },
              {
                "start": "CTU",
                "end": "PVG",
                "label": "",
                "properties": {},
                "directed": false,
                "id": "458e9157-db30-4673-a4ef-cc6553287e2d",
                "color": "#15AFAC",
                "thickness_factor": 1,
                "styles": {}
              },
              {
                "start": "PVG",
                "end": "TPE",
                "label": "",
                "properties": {},
                "directed": false,
                "id": "b508c990-31bd-4584-a8c3-5d21b8c3fe52",
                "color": "#15AFAC",
                "thickness_factor": 1,
                "styles": {}
              },
              {
                "start": "CTU",
                "end": "HKG",
                "label": "",
                "properties": {},
                "directed": false,
                "id": "b01b19f3-84c8-47a9-8436-2e92af2462b8",
                "color": "#15AFAC",
                "thickness_factor": 1,
                "styles": {}
              },
              {
                "start": "TPE",
                "end": "HKG",
                "label": "",
                "properties": {},
                "directed": false,
                "id": "7e80f2f7-e289-46c7-a091-7379cf37ed9e",
                "color": "#15AFAC",
                "thickness_factor": 1,
                "styles": {}
              },
              {
                "start": "HKG",
                "end": "MNL",
                "label": "",
                "properties": {},
                "directed": false,
                "id": "32a01d6a-9afe-4f5a-a61e-a7c6fa1477f4",
                "color": "#15AFAC",
                "thickness_factor": 1,
                "styles": {}
              },
              {
                "start": "BKK",
                "end": "HKG",
                "label": "",
                "properties": {},
                "directed": false,
                "id": "81630abf-e0f8-4155-9057-0a2478bad1c4",
                "color": "#15AFAC",
                "thickness_factor": 1,
                "styles": {}
              },
              {
                "start": "SIN",
                "end": "KUL",
                "label": "",
                "properties": {},
                "directed": false,
                "id": "77349e28-0797-460d-9919-050243d8d5a1",
                "color": "#15AFAC",
                "thickness_factor": 1,
                "styles": {}
              },
              {
                "start": "SIN",
                "end": "BKK",
                "label": "",
                "properties": {},
                "directed": false,
                "id": "c0350267-bb8f-4747-9763-513d31a41528",
                "color": "#15AFAC",
                "thickness_factor": 1,
                "styles": {}
              },
              {
                "start": "CGK",
                "end": "SIN",
                "label": "",
                "properties": {},
                "directed": false,
                "id": "13b8c2e2-a971-4fd1-a8b5-7ff90d78e1da",
                "color": "#15AFAC",
                "thickness_factor": 1,
                "styles": {}
              },
              {
                "start": "MNL",
                "end": "SIN",
                "label": "",
                "properties": {},
                "directed": false,
                "id": "ee7c3cdf-10d1-451b-9c7b-6a733b660e32",
                "color": "#15AFAC",
                "thickness_factor": 1,
                "styles": {}
              },
              {
                "start": "SIN",
                "end": "SYD",
                "label": "",
                "properties": {},
                "directed": false,
                "id": "b8f09efa-3376-485a-a2c3-470001bcbea2",
                "color": "#15AFAC",
                "thickness_factor": 1,
                "styles": {}
              },
              {
                "start": "BNE",
                "end": "SYD",
                "label": "",
                "properties": {},
                "directed": false,
                "id": "8514a586-298e-44b6-806c-da57ddfcd878",
                "color": "#15AFAC",
                "thickness_factor": 1,
                "styles": {}
              },
              {
                "start": "SYD",
                "end": "MEL",
                "label": "",
                "properties": {},
                "directed": false,
                "id": "2efa8659-c370-403f-8579-a43d9569db56",
                "color": "#15AFAC",
                "thickness_factor": 1,
                "styles": {}
              },
              {
                "start": "NAN",
                "end": "SYD",
                "label": "",
                "properties": {},
                "directed": false,
                "id": "fe39289d-53a3-4527-8496-b7f6abc6505b",
                "color": "#15AFAC",
                "thickness_factor": 1,
                "styles": {}
              },
              {
                "start": "AKL",
                "end": "SYD",
                "label": "",
                "properties": {},
                "directed": false,
                "id": "e7111510-04a9-446f-86b6-12fac5795816",
                "color": "#15AFAC",
                "thickness_factor": 1,
                "styles": {}
              },
              {
                "start": "NAN",
                "end": "AKL",
                "label": "",
                "properties": {},
                "directed": false,
                "id": "6e912e0f-a77b-4a7c-a3da-9c8f145baab2",
                "color": "#15AFAC",
                "thickness_factor": 1,
                "styles": {}
              },
              {
                "start": "RKV",
                "end": "LHR",
                "label": "",
                "properties": {},
                "directed": false,
                "id": "5bae3684-70d3-4c16-b71a-617dafeca11e",
                "color": "#15AFAC",
                "thickness_factor": 1,
                "styles": {}
              },
              {
                "start": "BCN",
                "end": "CDG",
                "label": "",
                "properties": {},
                "directed": false,
                "id": "1e8796c7-874e-49c6-8624-37b4f08af222",
                "color": "#15AFAC",
                "thickness_factor": 1,
                "styles": {}
              },
              {
                "start": "BCN",
                "end": "FRA",
                "label": "",
                "properties": {},
                "directed": false,
                "id": "0c96b038-197f-4ed5-8304-804e1dee4e14",
                "color": "#15AFAC",
                "thickness_factor": 1,
                "styles": {}
              },
              {
                "start": "FCO",
                "end": "FRA",
                "label": "",
                "properties": {},
                "directed": false,
                "id": "9bab3657-87a2-4e80-813d-2e5652abf1e0",
                "color": "#15AFAC",
                "thickness_factor": 1,
                "styles": {}
              },
              {
                "start": "BOG",
                "end": "MEX",
                "label": "",
                "properties": {},
                "directed": false,
                "id": "ed07f4d1-1b14-48de-9d3e-7e60fdfce556",
                "color": "#15AFAC",
                "thickness_factor": 1,
                "styles": {}
              },
              {
                "start": "BOG",
                "end": "GRU",
                "label": "",
                "properties": {},
                "directed": false,
                "id": "38be4e6e-c70b-4fc0-ac72-05a78b3c0962",
                "color": "#15AFAC",
                "thickness_factor": 1,
                "styles": {}
              },
              {
                "start": "ATL",
                "end": "MIA",
                "label": "",
                "properties": {},
                "directed": false,
                "id": "59f5a318-23ae-43ae-a631-cd98d3a9c01e",
                "color": "#15AFAC",
                "thickness_factor": 1,
                "styles": {}
              },
              {
                "start": "FRA",
                "end": "IST",
                "label": "",
                "properties": {},
                "directed": false,
                "id": "5fca1ad7-9558-496a-96e5-3051199e7ab9",
                "color": "#15AFAC",
                "thickness_factor": 1,
                "styles": {}
              },
              {
                "start": "IST",
                "end": "DEL",
                "label": "",
                "properties": {},
                "directed": false,
                "id": "e4781d5e-ceaa-4a41-af5d-c7988addd628",
                "color": "#15AFAC",
                "thickness_factor": 1,
                "styles": {}
              },
              {
                "start": "PVG",
                "end": "BKK",
                "label": "",
                "properties": {},
                "directed": false,
                "id": "185d11a9-5e59-4f1a-bbae-d2b32a9f4ab0",
                "color": "#15AFAC",
                "thickness_factor": 1,
                "styles": {}
              },
              {
                "start": "DEL",
                "end": "BKK",
                "label": "",
                "properties": {},
                "directed": false,
                "id": "c3262008-af21-4408-a774-f7c8bb222a70",
                "color": "#15AFAC",
                "thickness_factor": 1,
                "styles": {}
              }
            ],
            "_graph_layout": {},
            "_highlight": [],
            "_license": {},
            "_model_module": "yfiles-jupyter-graphs",
            "_model_module_version": "^1.10.8",
            "_model_name": "GraphModel",
            "_neighborhood": {},
            "_nodes": [
              {
                "id": "LAX",
                "properties": {
                  "label": "Los Angeles",
                  "passengers": 65000000,
                  "country": "USA",
                  "country_id": "us"
                },
                "coordinates": [
                  33.942536,
                  -118.408075
                ],
                "color": "#15AFAC",
                "styles": {},
                "label": "Los Angeles",
                "scale_factor": 1,
                "type": "#15AFAC",
                "size": [
                  55,
                  55
                ],
                "position": [
                  0,
                  0
                ],
                "parentId": "group#USA"
              },
              {
                "id": "GIG",
                "properties": {
                  "label": "Rio de Janeiro",
                  "passengers": 5000000,
                  "country": "Brazil",
                  "country_id": "br"
                },
                "coordinates": [
                  -22.808903,
                  -43.243647
                ],
                "color": "#15AFAC",
                "styles": {},
                "label": "Rio de Janeiro",
                "scale_factor": 1,
                "type": "#15AFAC",
                "size": [
                  55,
                  55
                ],
                "position": [
                  0,
                  0
                ],
                "parentId": "group#Brazil"
              },
              {
                "id": "LIM",
                "properties": {
                  "label": "Lima",
                  "passengers": 18000000,
                  "country": "Peru",
                  "country_id": "pe"
                },
                "coordinates": [
                  -12.021889,
                  -77.114319
                ],
                "color": "#15AFAC",
                "styles": {},
                "label": "Lima",
                "scale_factor": 1,
                "type": "#15AFAC",
                "size": [
                  55,
                  55
                ],
                "position": [
                  0,
                  0
                ],
                "parentId": "group#Peru"
              },
              {
                "id": "LHR",
                "properties": {
                  "label": "London",
                  "passengers": 61000000,
                  "country": "UK",
                  "country_id": "gb"
                },
                "coordinates": [
                  51.4775,
                  -0.461389
                ],
                "color": "#15AFAC",
                "styles": {},
                "label": "London",
                "scale_factor": 1,
                "type": "#15AFAC",
                "size": [
                  55,
                  55
                ],
                "position": [
                  0,
                  0
                ],
                "parentId": "group#UK"
              },
              {
                "id": "FRA",
                "properties": {
                  "label": "Frankfurt",
                  "passengers": 48000000,
                  "country": "Germany",
                  "country_id": "de"
                },
                "coordinates": [
                  50.033333,
                  8.570556
                ],
                "color": "#15AFAC",
                "styles": {},
                "label": "Frankfurt",
                "scale_factor": 1,
                "type": "#15AFAC",
                "size": [
                  55,
                  55
                ],
                "position": [
                  0,
                  0
                ],
                "parentId": "group#Germany"
              },
              {
                "id": "SVO",
                "properties": {
                  "label": "Moscow",
                  "passengers": 49000000,
                  "country": "Russia",
                  "country_id": "ru"
                },
                "coordinates": [
                  55.972642,
                  37.414589
                ],
                "color": "#15AFAC",
                "styles": {},
                "label": "Moscow",
                "scale_factor": 1,
                "type": "#15AFAC",
                "size": [
                  55,
                  55
                ],
                "position": [
                  0,
                  0
                ],
                "parentId": "group#Russia"
              },
              {
                "id": "DEL",
                "properties": {
                  "label": "New Delhi",
                  "passengers": 39000000,
                  "country": "India",
                  "country_id": "in"
                },
                "coordinates": [
                  28.5665,
                  77.103089
                ],
                "color": "#15AFAC",
                "styles": {},
                "label": "New Delhi",
                "scale_factor": 1,
                "type": "#15AFAC",
                "size": [
                  55,
                  55
                ],
                "position": [
                  0,
                  0
                ],
                "parentId": "group#India"
              },
              {
                "id": "PVG",
                "properties": {
                  "label": "Shanghai",
                  "passengers": 32000000,
                  "country": "China",
                  "country_id": "hk"
                },
                "coordinates": [
                  31.143378,
                  121.805214
                ],
                "color": "#15AFAC",
                "styles": {},
                "label": "Shanghai",
                "scale_factor": 1,
                "type": "#15AFAC",
                "size": [
                  55,
                  55
                ],
                "position": [
                  0,
                  0
                ],
                "parentId": "group#China"
              },
              {
                "id": "HKG",
                "properties": {
                  "label": "Hongkong",
                  "passengers": 1000000,
                  "country": "China",
                  "country_id": "hk"
                },
                "coordinates": [
                  22.308919,
                  113.914603
                ],
                "color": "#15AFAC",
                "styles": {},
                "label": "Hongkong",
                "scale_factor": 1,
                "type": "#15AFAC",
                "size": [
                  55,
                  55
                ],
                "position": [
                  0,
                  0
                ],
                "parentId": "group#China"
              },
              {
                "id": "NRT",
                "properties": {
                  "label": "Tokio",
                  "passengers": 15000000,
                  "country": "Japan",
                  "country_id": "jp"
                },
                "coordinates": [
                  35.764722,
                  140.386389
                ],
                "color": "#15AFAC",
                "styles": {},
                "label": "Tokio",
                "scale_factor": 1,
                "type": "#15AFAC",
                "size": [
                  55,
                  55
                ],
                "position": [
                  0,
                  0
                ],
                "parentId": "group#Japan"
              },
              {
                "id": "DXB",
                "properties": {
                  "label": "Dubai",
                  "passengers": 29000000,
                  "country": "UAE",
                  "country_id": "ae"
                },
                "coordinates": [
                  25.252778,
                  55.364444
                ],
                "color": "#15AFAC",
                "styles": {},
                "label": "Dubai",
                "scale_factor": 1,
                "type": "#15AFAC",
                "size": [
                  55,
                  55
                ],
                "position": [
                  0,
                  0
                ],
                "parentId": "group#UAE"
              },
              {
                "id": "DKR",
                "properties": {
                  "label": "Dakar",
                  "passengers": 2000000,
                  "country": "Senegal",
                  "country_id": "sn"
                },
                "coordinates": [
                  14.670833,
                  -17.072778
                ],
                "color": "#15AFAC",
                "styles": {},
                "label": "Dakar",
                "scale_factor": 1,
                "type": "#15AFAC",
                "size": [
                  55,
                  55
                ],
                "position": [
                  0,
                  0
                ],
                "parentId": "group#Senegal"
              },
              {
                "id": "JNB",
                "properties": {
                  "label": "Johannesburg",
                  "passengers": 9000000,
                  "country": "South Africa",
                  "country_id": "za"
                },
                "coordinates": [
                  -26.133694,
                  28.242317
                ],
                "color": "#15AFAC",
                "styles": {},
                "label": "Johannesburg",
                "scale_factor": 1,
                "type": "#15AFAC",
                "size": [
                  55,
                  55
                ],
                "position": [
                  0,
                  0
                ],
                "parentId": "group#South Africa"
              },
              {
                "id": "SYD",
                "properties": {
                  "label": "Sydney",
                  "passengers": 44000000,
                  "country": "Australia",
                  "country_id": "au"
                },
                "coordinates": [
                  -33.946111,
                  151.177222
                ],
                "color": "#15AFAC",
                "styles": {},
                "label": "Sydney",
                "scale_factor": 1,
                "type": "#15AFAC",
                "size": [
                  55,
                  55
                ],
                "position": [
                  0,
                  0
                ],
                "parentId": "group#Australia"
              },
              {
                "id": "NBO",
                "properties": {
                  "label": "Nairobi",
                  "passengers": 900000,
                  "country": "Kenya",
                  "country_id": "ke"
                },
                "coordinates": [
                  -1.319167,
                  36.927778
                ],
                "color": "#15AFAC",
                "styles": {},
                "label": "Nairobi",
                "scale_factor": 1,
                "type": "#15AFAC",
                "size": [
                  55,
                  55
                ],
                "position": [
                  0,
                  0
                ],
                "parentId": "group#Kenya"
              },
              {
                "id": "ATL",
                "properties": {
                  "label": "Atlanta",
                  "passengers": 93000000,
                  "country": "USA",
                  "country_id": "us"
                },
                "coordinates": [
                  33.639167,
                  -84.427778
                ],
                "color": "#15AFAC",
                "styles": {},
                "label": "Atlanta",
                "scale_factor": 1,
                "type": "#15AFAC",
                "size": [
                  55,
                  55
                ],
                "position": [
                  0,
                  0
                ],
                "parentId": "group#USA"
              },
              {
                "id": "JFK",
                "properties": {
                  "label": "New York City",
                  "passengers": 55000000,
                  "country": "USA",
                  "country_id": "us"
                },
                "coordinates": [
                  40.63975,
                  -73.778925
                ],
                "color": "#15AFAC",
                "styles": {},
                "label": "New York City",
                "scale_factor": 1,
                "type": "#15AFAC",
                "size": [
                  55,
                  55
                ],
                "position": [
                  0,
                  0
                ],
                "parentId": "group#USA"
              },
              {
                "id": "CAI",
                "properties": {
                  "label": "Cairo",
                  "passengers": 14000000,
                  "country": "Egypt",
                  "country_id": "eg"
                },
                "coordinates": [
                  30.121944,
                  31.405556
                ],
                "color": "#15AFAC",
                "styles": {},
                "label": "Cairo",
                "scale_factor": 1,
                "type": "#15AFAC",
                "size": [
                  55,
                  55
                ],
                "position": [
                  0,
                  0
                ],
                "parentId": "group#Egypt"
              },
              {
                "id": "CMN",
                "properties": {
                  "label": "Casablanca",
                  "passengers": 7000000,
                  "country": "Morocco",
                  "country_id": "ma"
                },
                "coordinates": [
                  33.367467,
                  -7.589967
                ],
                "color": "#15AFAC",
                "styles": {},
                "label": "Casablanca",
                "scale_factor": 1,
                "type": "#15AFAC",
                "size": [
                  55,
                  55
                ],
                "position": [
                  0,
                  0
                ],
                "parentId": "group#Morocco"
              },
              {
                "id": "LOS",
                "properties": {
                  "label": "Lagos",
                  "passengers": 5000000,
                  "country": "Nigeria",
                  "country_id": "ng"
                },
                "coordinates": [
                  6.577222,
                  3.321111
                ],
                "color": "#15AFAC",
                "styles": {},
                "label": "Lagos",
                "scale_factor": 1,
                "type": "#15AFAC",
                "size": [
                  55,
                  55
                ],
                "position": [
                  0,
                  0
                ],
                "parentId": "group#Nigeria"
              },
              {
                "id": "CPT",
                "properties": {
                  "label": "Cape Town",
                  "passengers": 5000000,
                  "country": "South Africa",
                  "country_id": "za"
                },
                "coordinates": [
                  -33.969444,
                  18.597222
                ],
                "color": "#15AFAC",
                "styles": {},
                "label": "Cape Town",
                "scale_factor": 1,
                "type": "#15AFAC",
                "size": [
                  55,
                  55
                ],
                "position": [
                  0,
                  0
                ],
                "parentId": "group#South Africa"
              },
              {
                "id": "CTU",
                "properties": {
                  "label": "Chengdu",
                  "passengers": 40000000,
                  "country": "China",
                  "country_id": "hk"
                },
                "coordinates": [
                  30.578333,
                  103.946944
                ],
                "color": "#15AFAC",
                "styles": {},
                "label": "Chengdu",
                "scale_factor": 1,
                "type": "#15AFAC",
                "size": [
                  55,
                  55
                ],
                "position": [
                  0,
                  0
                ],
                "parentId": "group#China"
              },
              {
                "id": "CGK",
                "properties": {
                  "label": "Jakarta",
                  "passengers": 54000000,
                  "country": "Indonesia",
                  "country_id": "id"
                },
                "coordinates": [
                  -6.125567,
                  106.655897
                ],
                "color": "#15AFAC",
                "styles": {},
                "label": "Jakarta",
                "scale_factor": 1,
                "type": "#15AFAC",
                "size": [
                  55,
                  55
                ],
                "position": [
                  0,
                  0
                ],
                "parentId": "group#Indonesia"
              },
              {
                "id": "IKA",
                "properties": {
                  "label": "Teheran",
                  "passengers": 8000000,
                  "country": "Iran",
                  "country_id": "ir"
                },
                "coordinates": [
                  35.416111,
                  51.152222
                ],
                "color": "#15AFAC",
                "styles": {},
                "label": "Teheran",
                "scale_factor": 1,
                "type": "#15AFAC",
                "size": [
                  55,
                  55
                ],
                "position": [
                  0,
                  0
                ],
                "parentId": "group#Iran"
              },
              {
                "id": "TLV",
                "properties": {
                  "label": "Tel Aviv",
                  "passengers": 20000000,
                  "country": "Israel",
                  "country_id": "il"
                },
                "coordinates": [
                  32.011389,
                  34.886667
                ],
                "color": "#15AFAC",
                "styles": {},
                "label": "Tel Aviv",
                "scale_factor": 1,
                "type": "#15AFAC",
                "size": [
                  55,
                  55
                ],
                "position": [
                  0,
                  0
                ],
                "parentId": "group#Israel"
              },
              {
                "id": "KUL",
                "properties": {
                  "label": "Kuala Lumpur",
                  "passengers": 25000000,
                  "country": "Malaysia",
                  "country_id": "my"
                },
                "coordinates": [
                  2.745578,
                  101.709917
                ],
                "color": "#15AFAC",
                "styles": {},
                "label": "Kuala Lumpur",
                "scale_factor": 1,
                "type": "#15AFAC",
                "size": [
                  55,
                  55
                ],
                "position": [
                  0,
                  0
                ],
                "parentId": "group#Malaysia"
              },
              {
                "id": "MNL",
                "properties": {
                  "label": "Manila",
                  "passengers": 8000000,
                  "country": "Philippines",
                  "country_id": "ph"
                },
                "coordinates": [
                  14.508647,
                  121.019581
                ],
                "color": "#15AFAC",
                "styles": {},
                "label": "Manila",
                "scale_factor": 1,
                "type": "#15AFAC",
                "size": [
                  55,
                  55
                ],
                "position": [
                  0,
                  0
                ],
                "parentId": "group#Philippines"
              },
              {
                "id": "SIN",
                "properties": {
                  "label": "Singapur",
                  "passengers": 32000000,
                  "country": "Singapore",
                  "country_id": "sg"
                },
                "coordinates": [
                  1.350189,
                  103.994433
                ],
                "color": "#15AFAC",
                "styles": {},
                "label": "Singapur",
                "scale_factor": 1,
                "type": "#15AFAC",
                "size": [
                  55,
                  55
                ],
                "position": [
                  0,
                  0
                ],
                "parentId": "group#Singapore"
              },
              {
                "id": "TPE",
                "properties": {
                  "label": "Taipeh",
                  "passengers": 800000,
                  "country": "Taiwan",
                  "country_id": "tw"
                },
                "coordinates": [
                  25.077732,
                  121.232822
                ],
                "color": "#15AFAC",
                "styles": {},
                "label": "Taipeh",
                "scale_factor": 1,
                "type": "#15AFAC",
                "size": [
                  55,
                  55
                ],
                "position": [
                  0,
                  0
                ],
                "parentId": "group#Taiwan"
              },
              {
                "id": "BKK",
                "properties": {
                  "label": "Bangkok",
                  "passengers": 65000000,
                  "country": "Thailand",
                  "country_id": "th"
                },
                "coordinates": [
                  13.681108,
                  100.747283
                ],
                "color": "#15AFAC",
                "styles": {},
                "label": "Bangkok",
                "scale_factor": 1,
                "type": "#15AFAC",
                "size": [
                  55,
                  55
                ],
                "position": [
                  0,
                  0
                ],
                "parentId": "group#Thailand"
              },
              {
                "id": "IST",
                "properties": {
                  "label": "Istanbul",
                  "passengers": 64000000,
                  "country": "Turkey",
                  "country_id": "tr"
                },
                "coordinates": [
                  40.976922,
                  28.814606
                ],
                "color": "#15AFAC",
                "styles": {},
                "label": "Istanbul",
                "scale_factor": 1,
                "type": "#15AFAC",
                "size": [
                  55,
                  55
                ],
                "position": [
                  0,
                  0
                ],
                "parentId": "group#Turkey"
              },
              {
                "id": "ULN",
                "properties": {
                  "label": "Ulaanbaatar",
                  "passengers": 1000000,
                  "country": "Mongolia",
                  "country_id": "mn"
                },
                "coordinates": [
                  47.843056,
                  106.766639
                ],
                "color": "#15AFAC",
                "styles": {},
                "label": "Ulaanbaatar",
                "scale_factor": 1,
                "type": "#15AFAC",
                "size": [
                  55,
                  55
                ],
                "position": [
                  0,
                  0
                ],
                "parentId": "group#Mongolia"
              },
              {
                "id": "MEL",
                "properties": {
                  "label": "Melbourne",
                  "passengers": 12000000,
                  "country": "Australia",
                  "country_id": "au"
                },
                "coordinates": [
                  -37.673333,
                  144.843333
                ],
                "color": "#15AFAC",
                "styles": {},
                "label": "Melbourne",
                "scale_factor": 1,
                "type": "#15AFAC",
                "size": [
                  55,
                  55
                ],
                "position": [
                  0,
                  0
                ],
                "parentId": "group#Australia"
              },
              {
                "id": "BNE",
                "properties": {
                  "label": "Brisbane",
                  "passengers": 23000000,
                  "country": "Australia",
                  "country_id": "au"
                },
                "coordinates": [
                  -27.383333,
                  153.118056
                ],
                "color": "#15AFAC",
                "styles": {},
                "label": "Brisbane",
                "scale_factor": 1,
                "type": "#15AFAC",
                "size": [
                  55,
                  55
                ],
                "position": [
                  0,
                  0
                ],
                "parentId": "group#Australia"
              },
              {
                "id": "NAN",
                "properties": {
                  "label": "Nadi",
                  "passengers": 2000000,
                  "country": "Fiji",
                  "country_id": "fj"
                },
                "coordinates": [
                  -17.755392,
                  177.443378
                ],
                "color": "#15AFAC",
                "styles": {},
                "label": "Nadi",
                "scale_factor": 1,
                "type": "#15AFAC",
                "size": [
                  55,
                  55
                ],
                "position": [
                  0,
                  0
                ],
                "parentId": "group#Fiji"
              },
              {
                "id": "AKL",
                "properties": {
                  "label": "Auckland",
                  "passengers": 21000000,
                  "country": "New Zealand",
                  "country_id": "nz"
                },
                "coordinates": [
                  -37.008056,
                  174.791667
                ],
                "color": "#15AFAC",
                "styles": {},
                "label": "Auckland",
                "scale_factor": 1,
                "type": "#15AFAC",
                "size": [
                  55,
                  55
                ],
                "position": [
                  0,
                  0
                ],
                "parentId": "group#New Zealand"
              },
              {
                "id": "CDG",
                "properties": {
                  "label": "Paris",
                  "passengers": 57000000,
                  "country": "France",
                  "country_id": "fr"
                },
                "coordinates": [
                  49.009722,
                  2.547778
                ],
                "color": "#15AFAC",
                "styles": {},
                "label": "Paris",
                "scale_factor": 1,
                "type": "#15AFAC",
                "size": [
                  55,
                  55
                ],
                "position": [
                  0,
                  0
                ],
                "parentId": "group#France"
              },
              {
                "id": "MAD",
                "properties": {
                  "label": "Madrid",
                  "passengers": 50000000,
                  "country": "Spain",
                  "country_id": "es"
                },
                "coordinates": [
                  40.4675,
                  -3.551944
                ],
                "color": "#15AFAC",
                "styles": {},
                "label": "Madrid",
                "scale_factor": 1,
                "type": "#15AFAC",
                "size": [
                  55,
                  55
                ],
                "position": [
                  0,
                  0
                ],
                "parentId": "group#Spain"
              },
              {
                "id": "BCN",
                "properties": {
                  "label": "Barcelona",
                  "passengers": 41000000,
                  "country": "Spain",
                  "country_id": "es"
                },
                "coordinates": [
                  41.297078,
                  2.078464
                ],
                "color": "#15AFAC",
                "styles": {},
                "label": "Barcelona",
                "scale_factor": 1,
                "type": "#15AFAC",
                "size": [
                  55,
                  55
                ],
                "position": [
                  0,
                  0
                ],
                "parentId": "group#Spain"
              },
              {
                "id": "FCO",
                "properties": {
                  "label": "Rome",
                  "passengers": 29000000,
                  "country": "Italy",
                  "country_id": "it"
                },
                "coordinates": [
                  41.804444,
                  12.250833
                ],
                "color": "#15AFAC",
                "styles": {},
                "label": "Rome",
                "scale_factor": 1,
                "type": "#15AFAC",
                "size": [
                  55,
                  55
                ],
                "position": [
                  0,
                  0
                ],
                "parentId": "group#Italy"
              },
              {
                "id": "CPH",
                "properties": {
                  "label": "Copenhagen",
                  "passengers": 30000000,
                  "country": "Denmark",
                  "country_id": "dk"
                },
                "coordinates": [
                  55.617917,
                  12.655972
                ],
                "color": "#15AFAC",
                "styles": {},
                "label": "Copenhagen",
                "scale_factor": 1,
                "type": "#15AFAC",
                "size": [
                  55,
                  55
                ],
                "position": [
                  0,
                  0
                ],
                "parentId": "group#Denmark"
              },
              {
                "id": "HEL",
                "properties": {
                  "label": "Helsinki",
                  "passengers": 5000000,
                  "country": "Finland",
                  "country_id": "fi"
                },
                "coordinates": [
                  60.317222,
                  24.963333
                ],
                "color": "#15AFAC",
                "styles": {},
                "label": "Helsinki",
                "scale_factor": 1,
                "type": "#15AFAC",
                "size": [
                  55,
                  55
                ],
                "position": [
                  0,
                  0
                ],
                "parentId": "group#Finland"
              },
              {
                "id": "ATH",
                "properties": {
                  "label": "Athens",
                  "passengers": 22000000,
                  "country": "Greece",
                  "country_id": "gr"
                },
                "coordinates": [
                  37.936358,
                  23.944467
                ],
                "color": "#15AFAC",
                "styles": {},
                "label": "Athens",
                "scale_factor": 1,
                "type": "#15AFAC",
                "size": [
                  55,
                  55
                ],
                "position": [
                  0,
                  0
                ],
                "parentId": "group#Greece"
              },
              {
                "id": "DUB",
                "properties": {
                  "label": "Dublin",
                  "passengers": 32000000,
                  "country": "Ireland",
                  "country_id": "ie"
                },
                "coordinates": [
                  53.421333,
                  -6.270075
                ],
                "color": "#15AFAC",
                "styles": {},
                "label": "Dublin",
                "scale_factor": 1,
                "type": "#15AFAC",
                "size": [
                  55,
                  55
                ],
                "position": [
                  0,
                  0
                ],
                "parentId": "group#Ireland"
              },
              {
                "id": "RKV",
                "properties": {
                  "label": "Reykjavik",
                  "passengers": 400000,
                  "country": "Iceland",
                  "country_id": "is"
                },
                "coordinates": [
                  64.13,
                  -21.940556
                ],
                "color": "#15AFAC",
                "styles": {},
                "label": "Reykjavik",
                "scale_factor": 1,
                "type": "#15AFAC",
                "size": [
                  55,
                  55
                ],
                "position": [
                  0,
                  0
                ],
                "parentId": "group#Iceland"
              },
              {
                "id": "OSL",
                "properties": {
                  "label": "Oslo",
                  "passengers": 9000000,
                  "country": "Norway",
                  "country_id": "no"
                },
                "coordinates": [
                  60.193917,
                  11.100361
                ],
                "color": "#15AFAC",
                "styles": {},
                "label": "Oslo",
                "scale_factor": 1,
                "type": "#15AFAC",
                "size": [
                  55,
                  55
                ],
                "position": [
                  0,
                  0
                ],
                "parentId": "group#Norway"
              },
              {
                "id": "VIE",
                "properties": {
                  "label": "Vienna",
                  "passengers": 10000000,
                  "country": "Austria",
                  "country_id": "at"
                },
                "coordinates": [
                  48.110833,
                  16.570833
                ],
                "color": "#15AFAC",
                "styles": {},
                "label": "Vienna",
                "scale_factor": 1,
                "type": "#15AFAC",
                "size": [
                  55,
                  55
                ],
                "position": [
                  0,
                  0
                ],
                "parentId": "group#Austria"
              },
              {
                "id": "LIS",
                "properties": {
                  "label": "Lisbon",
                  "passengers": 28000000,
                  "country": "Portugal",
                  "country_id": "pt"
                },
                "coordinates": [
                  38.774167,
                  -9.134167
                ],
                "color": "#15AFAC",
                "styles": {},
                "label": "Lisbon",
                "scale_factor": 1,
                "type": "#15AFAC",
                "size": [
                  55,
                  55
                ],
                "position": [
                  0,
                  0
                ],
                "parentId": "group#Portugal"
              },
              {
                "id": "ARN",
                "properties": {
                  "label": "Stockholm",
                  "passengers": 7000000,
                  "country": "Sweden",
                  "country_id": "se"
                },
                "coordinates": [
                  59.651944,
                  17.918611
                ],
                "color": "#15AFAC",
                "styles": {},
                "label": "Stockholm",
                "scale_factor": 1,
                "type": "#15AFAC",
                "size": [
                  55,
                  55
                ],
                "position": [
                  0,
                  0
                ],
                "parentId": "group#Sweden"
              },
              {
                "id": "EDI",
                "properties": {
                  "label": "Edinburgh",
                  "passengers": 14000000,
                  "country": "UK",
                  "country_id": "gb"
                },
                "coordinates": [
                  55.95,
                  -3.3725
                ],
                "color": "#15AFAC",
                "styles": {},
                "label": "Edinburgh",
                "scale_factor": 1,
                "type": "#15AFAC",
                "size": [
                  55,
                  55
                ],
                "position": [
                  0,
                  0
                ],
                "parentId": "group#UK"
              },
              {
                "id": "ORD",
                "properties": {
                  "label": "Chicago",
                  "passengers": 54000000,
                  "country": "USA",
                  "country_id": "us"
                },
                "coordinates": [
                  41.978603,
                  -87.904842
                ],
                "color": "#15AFAC",
                "styles": {},
                "label": "Chicago",
                "scale_factor": 1,
                "type": "#15AFAC",
                "size": [
                  55,
                  55
                ],
                "position": [
                  0,
                  0
                ],
                "parentId": "group#USA"
              },
              {
                "id": "DFW",
                "properties": {
                  "label": "Dallas",
                  "passengers": 73000000,
                  "country": "USA",
                  "country_id": "us"
                },
                "coordinates": [
                  32.896828,
                  -97.037997
                ],
                "color": "#15AFAC",
                "styles": {},
                "label": "Dallas",
                "scale_factor": 1,
                "type": "#15AFAC",
                "size": [
                  55,
                  55
                ],
                "position": [
                  0,
                  0
                ],
                "parentId": "group#USA"
              },
              {
                "id": "SFO",
                "properties": {
                  "label": "San Francisco",
                  "passengers": 42000000,
                  "country": "USA",
                  "country_id": "us"
                },
                "coordinates": [
                  37.618972,
                  -122.374889
                ],
                "color": "#15AFAC",
                "styles": {},
                "label": "San Francisco",
                "scale_factor": 1,
                "type": "#15AFAC",
                "size": [
                  55,
                  55
                ],
                "position": [
                  0,
                  0
                ],
                "parentId": "group#USA"
              },
              {
                "id": "LAS",
                "properties": {
                  "label": "Las Vegas",
                  "passengers": 52000000,
                  "country": "USA",
                  "country_id": "us"
                },
                "coordinates": [
                  36.080056,
                  -115.15225
                ],
                "color": "#15AFAC",
                "styles": {},
                "label": "Las Vegas",
                "scale_factor": 1,
                "type": "#15AFAC",
                "size": [
                  55,
                  55
                ],
                "position": [
                  0,
                  0
                ],
                "parentId": "group#USA"
              },
              {
                "id": "MIA",
                "properties": {
                  "label": "Miami",
                  "passengers": 50000000,
                  "country": "USA",
                  "country_id": "us"
                },
                "coordinates": [
                  25.79325,
                  -80.290556
                ],
                "color": "#15AFAC",
                "styles": {},
                "label": "Miami",
                "scale_factor": 1,
                "type": "#15AFAC",
                "size": [
                  55,
                  55
                ],
                "position": [
                  0,
                  0
                ],
                "parentId": "group#USA"
              },
              {
                "id": "YYZ",
                "properties": {
                  "label": "Toronto",
                  "passengers": 12000000,
                  "country": "Canada",
                  "country_id": "ca"
                },
                "coordinates": [
                  43.677222,
                  -79.630556
                ],
                "color": "#15AFAC",
                "styles": {},
                "label": "Toronto",
                "scale_factor": 1,
                "type": "#15AFAC",
                "size": [
                  55,
                  55
                ],
                "position": [
                  0,
                  0
                ],
                "parentId": "group#Canada"
              },
              {
                "id": "YVR",
                "properties": {
                  "label": "Vancouver",
                  "passengers": 19000000,
                  "country": "Canada",
                  "country_id": "ca"
                },
                "coordinates": [
                  49.193889,
                  -123.184444
                ],
                "color": "#15AFAC",
                "styles": {},
                "label": "Vancouver",
                "scale_factor": 1,
                "type": "#15AFAC",
                "size": [
                  55,
                  55
                ],
                "position": [
                  0,
                  0
                ],
                "parentId": "group#Canada"
              },
              {
                "id": "YUL",
                "properties": {
                  "label": "Montreal",
                  "passengers": 15000000,
                  "country": "Canada",
                  "country_id": "ca"
                },
                "coordinates": [
                  45.47175,
                  -73.736569
                ],
                "color": "#15AFAC",
                "styles": {},
                "label": "Montreal",
                "scale_factor": 1,
                "type": "#15AFAC",
                "size": [
                  55,
                  55
                ],
                "position": [
                  0,
                  0
                ],
                "parentId": "group#Canada"
              },
              {
                "id": "MEX",
                "properties": {
                  "label": "Mexico-City",
                  "passengers": 46000000,
                  "country": "Mexico",
                  "country_id": "mx"
                },
                "coordinates": [
                  19.436303,
                  -99.072097
                ],
                "color": "#15AFAC",
                "styles": {},
                "label": "Mexico-City",
                "scale_factor": 1,
                "type": "#15AFAC",
                "size": [
                  55,
                  55
                ],
                "position": [
                  0,
                  0
                ],
                "parentId": "group#Mexico"
              },
              {
                "id": "GUA",
                "properties": {
                  "label": "Guatemala-City",
                  "passengers": 2000000,
                  "country": "Guatemala",
                  "country_id": "gt"
                },
                "coordinates": [
                  14.583272,
                  -90.527475
                ],
                "color": "#15AFAC",
                "styles": {},
                "label": "Guatemala-City",
                "scale_factor": 1,
                "type": "#15AFAC",
                "size": [
                  55,
                  55
                ],
                "position": [
                  0,
                  0
                ],
                "parentId": "group#Guatemala"
              },
              {
                "id": "EZE",
                "properties": {
                  "label": "Buenos Aires",
                  "passengers": 5000000,
                  "country": "Argentina",
                  "country_id": "ar"
                },
                "coordinates": [
                  -34.822222,
                  -58.535833
                ],
                "color": "#15AFAC",
                "styles": {},
                "label": "Buenos Aires",
                "scale_factor": 1,
                "type": "#15AFAC",
                "size": [
                  55,
                  55
                ],
                "position": [
                  0,
                  0
                ],
                "parentId": "group#Argentina"
              },
              {
                "id": "GRU",
                "properties": {
                  "label": "Sao Paulo",
                  "passengers": 34000000,
                  "country": "Brazil",
                  "country_id": "br"
                },
                "coordinates": [
                  -23.432075,
                  -46.469511
                ],
                "color": "#15AFAC",
                "styles": {},
                "label": "Sao Paulo",
                "scale_factor": 1,
                "type": "#15AFAC",
                "size": [
                  55,
                  55
                ],
                "position": [
                  0,
                  0
                ],
                "parentId": "group#Brazil"
              },
              {
                "id": "SCL",
                "properties": {
                  "label": "Santiago de Chile",
                  "passengers": 20000000,
                  "country": "Chile",
                  "country_id": "cl"
                },
                "coordinates": [
                  -33.392975,
                  -70.785803
                ],
                "color": "#15AFAC",
                "styles": {},
                "label": "Santiago de Chile",
                "scale_factor": 1,
                "type": "#15AFAC",
                "size": [
                  55,
                  55
                ],
                "position": [
                  0,
                  0
                ],
                "parentId": "group#Chile"
              },
              {
                "id": "BSB",
                "properties": {
                  "label": "Brasilia",
                  "passengers": 13000000,
                  "country": "Brazil",
                  "country_id": "br"
                },
                "coordinates": [
                  -15.871111,
                  -47.918611
                ],
                "color": "#15AFAC",
                "styles": {},
                "label": "Brasilia",
                "scale_factor": 1,
                "type": "#15AFAC",
                "size": [
                  55,
                  55
                ],
                "position": [
                  0,
                  0
                ],
                "parentId": "group#Brazil"
              },
              {
                "id": "BOG",
                "properties": {
                  "label": "Bogota",
                  "passengers": 36000000,
                  "country": "Colombia",
                  "country_id": "co"
                },
                "coordinates": [
                  4.701594,
                  -74.146947
                ],
                "color": "#15AFAC",
                "styles": {},
                "label": "Bogota",
                "scale_factor": 1,
                "type": "#15AFAC",
                "size": [
                  55,
                  55
                ],
                "position": [
                  0,
                  0
                ],
                "parentId": "group#Colombia"
              },
              {
                "id": "CCS",
                "properties": {
                  "label": "Caracas",
                  "passengers": 8000000,
                  "country": "Venezuela",
                  "country_id": "ve"
                },
                "coordinates": [
                  10.601194,
                  -66.991222
                ],
                "color": "#15AFAC",
                "styles": {},
                "label": "Caracas",
                "scale_factor": 1,
                "type": "#15AFAC",
                "size": [
                  55,
                  55
                ],
                "position": [
                  0,
                  0
                ],
                "parentId": "group#Venezuela"
              },
              {
                "id": "group#USA",
                "properties": {
                  "label": "USA"
                },
                "color": "#15AFAC",
                "styles": {},
                "label": "USA",
                "scale_factor": 1,
                "type": "#15AFAC",
                "size": [
                  55,
                  55
                ],
                "position": [
                  0,
                  0
                ]
              },
              {
                "id": "group#Brazil",
                "properties": {
                  "label": "Brazil"
                },
                "color": "#15AFAC",
                "styles": {},
                "label": "Brazil",
                "scale_factor": 1,
                "type": "#15AFAC",
                "size": [
                  55,
                  55
                ],
                "position": [
                  0,
                  0
                ]
              },
              {
                "id": "group#Peru",
                "properties": {
                  "label": "Peru"
                },
                "color": "#15AFAC",
                "styles": {},
                "label": "Peru",
                "scale_factor": 1,
                "type": "#15AFAC",
                "size": [
                  55,
                  55
                ],
                "position": [
                  0,
                  0
                ]
              },
              {
                "id": "group#UK",
                "properties": {
                  "label": "UK"
                },
                "color": "#15AFAC",
                "styles": {},
                "label": "UK",
                "scale_factor": 1,
                "type": "#15AFAC",
                "size": [
                  55,
                  55
                ],
                "position": [
                  0,
                  0
                ]
              },
              {
                "id": "group#Germany",
                "properties": {
                  "label": "Germany"
                },
                "color": "#15AFAC",
                "styles": {},
                "label": "Germany",
                "scale_factor": 1,
                "type": "#15AFAC",
                "size": [
                  55,
                  55
                ],
                "position": [
                  0,
                  0
                ]
              },
              {
                "id": "group#Russia",
                "properties": {
                  "label": "Russia"
                },
                "color": "#15AFAC",
                "styles": {},
                "label": "Russia",
                "scale_factor": 1,
                "type": "#15AFAC",
                "size": [
                  55,
                  55
                ],
                "position": [
                  0,
                  0
                ]
              },
              {
                "id": "group#India",
                "properties": {
                  "label": "India"
                },
                "color": "#15AFAC",
                "styles": {},
                "label": "India",
                "scale_factor": 1,
                "type": "#15AFAC",
                "size": [
                  55,
                  55
                ],
                "position": [
                  0,
                  0
                ]
              },
              {
                "id": "group#China",
                "properties": {
                  "label": "China"
                },
                "color": "#15AFAC",
                "styles": {},
                "label": "China",
                "scale_factor": 1,
                "type": "#15AFAC",
                "size": [
                  55,
                  55
                ],
                "position": [
                  0,
                  0
                ]
              },
              {
                "id": "group#China",
                "properties": {
                  "label": "China"
                },
                "color": "#15AFAC",
                "styles": {},
                "label": "China",
                "scale_factor": 1,
                "type": "#15AFAC",
                "size": [
                  55,
                  55
                ],
                "position": [
                  0,
                  0
                ]
              },
              {
                "id": "group#Japan",
                "properties": {
                  "label": "Japan"
                },
                "color": "#15AFAC",
                "styles": {},
                "label": "Japan",
                "scale_factor": 1,
                "type": "#15AFAC",
                "size": [
                  55,
                  55
                ],
                "position": [
                  0,
                  0
                ]
              },
              {
                "id": "group#UAE",
                "properties": {
                  "label": "UAE"
                },
                "color": "#15AFAC",
                "styles": {},
                "label": "UAE",
                "scale_factor": 1,
                "type": "#15AFAC",
                "size": [
                  55,
                  55
                ],
                "position": [
                  0,
                  0
                ]
              },
              {
                "id": "group#Senegal",
                "properties": {
                  "label": "Senegal"
                },
                "color": "#15AFAC",
                "styles": {},
                "label": "Senegal",
                "scale_factor": 1,
                "type": "#15AFAC",
                "size": [
                  55,
                  55
                ],
                "position": [
                  0,
                  0
                ]
              },
              {
                "id": "group#South Africa",
                "properties": {
                  "label": "South Africa"
                },
                "color": "#15AFAC",
                "styles": {},
                "label": "South Africa",
                "scale_factor": 1,
                "type": "#15AFAC",
                "size": [
                  55,
                  55
                ],
                "position": [
                  0,
                  0
                ]
              },
              {
                "id": "group#Australia",
                "properties": {
                  "label": "Australia"
                },
                "color": "#15AFAC",
                "styles": {},
                "label": "Australia",
                "scale_factor": 1,
                "type": "#15AFAC",
                "size": [
                  55,
                  55
                ],
                "position": [
                  0,
                  0
                ]
              },
              {
                "id": "group#Kenya",
                "properties": {
                  "label": "Kenya"
                },
                "color": "#15AFAC",
                "styles": {},
                "label": "Kenya",
                "scale_factor": 1,
                "type": "#15AFAC",
                "size": [
                  55,
                  55
                ],
                "position": [
                  0,
                  0
                ]
              },
              {
                "id": "group#USA",
                "properties": {
                  "label": "USA"
                },
                "color": "#15AFAC",
                "styles": {},
                "label": "USA",
                "scale_factor": 1,
                "type": "#15AFAC",
                "size": [
                  55,
                  55
                ],
                "position": [
                  0,
                  0
                ]
              },
              {
                "id": "group#USA",
                "properties": {
                  "label": "USA"
                },
                "color": "#15AFAC",
                "styles": {},
                "label": "USA",
                "scale_factor": 1,
                "type": "#15AFAC",
                "size": [
                  55,
                  55
                ],
                "position": [
                  0,
                  0
                ]
              },
              {
                "id": "group#Egypt",
                "properties": {
                  "label": "Egypt"
                },
                "color": "#15AFAC",
                "styles": {},
                "label": "Egypt",
                "scale_factor": 1,
                "type": "#15AFAC",
                "size": [
                  55,
                  55
                ],
                "position": [
                  0,
                  0
                ]
              },
              {
                "id": "group#Morocco",
                "properties": {
                  "label": "Morocco"
                },
                "color": "#15AFAC",
                "styles": {},
                "label": "Morocco",
                "scale_factor": 1,
                "type": "#15AFAC",
                "size": [
                  55,
                  55
                ],
                "position": [
                  0,
                  0
                ]
              },
              {
                "id": "group#Nigeria",
                "properties": {
                  "label": "Nigeria"
                },
                "color": "#15AFAC",
                "styles": {},
                "label": "Nigeria",
                "scale_factor": 1,
                "type": "#15AFAC",
                "size": [
                  55,
                  55
                ],
                "position": [
                  0,
                  0
                ]
              },
              {
                "id": "group#South Africa",
                "properties": {
                  "label": "South Africa"
                },
                "color": "#15AFAC",
                "styles": {},
                "label": "South Africa",
                "scale_factor": 1,
                "type": "#15AFAC",
                "size": [
                  55,
                  55
                ],
                "position": [
                  0,
                  0
                ]
              },
              {
                "id": "group#China",
                "properties": {
                  "label": "China"
                },
                "color": "#15AFAC",
                "styles": {},
                "label": "China",
                "scale_factor": 1,
                "type": "#15AFAC",
                "size": [
                  55,
                  55
                ],
                "position": [
                  0,
                  0
                ]
              },
              {
                "id": "group#Indonesia",
                "properties": {
                  "label": "Indonesia"
                },
                "color": "#15AFAC",
                "styles": {},
                "label": "Indonesia",
                "scale_factor": 1,
                "type": "#15AFAC",
                "size": [
                  55,
                  55
                ],
                "position": [
                  0,
                  0
                ]
              },
              {
                "id": "group#Iran",
                "properties": {
                  "label": "Iran"
                },
                "color": "#15AFAC",
                "styles": {},
                "label": "Iran",
                "scale_factor": 1,
                "type": "#15AFAC",
                "size": [
                  55,
                  55
                ],
                "position": [
                  0,
                  0
                ]
              },
              {
                "id": "group#Israel",
                "properties": {
                  "label": "Israel"
                },
                "color": "#15AFAC",
                "styles": {},
                "label": "Israel",
                "scale_factor": 1,
                "type": "#15AFAC",
                "size": [
                  55,
                  55
                ],
                "position": [
                  0,
                  0
                ]
              },
              {
                "id": "group#Malaysia",
                "properties": {
                  "label": "Malaysia"
                },
                "color": "#15AFAC",
                "styles": {},
                "label": "Malaysia",
                "scale_factor": 1,
                "type": "#15AFAC",
                "size": [
                  55,
                  55
                ],
                "position": [
                  0,
                  0
                ]
              },
              {
                "id": "group#Philippines",
                "properties": {
                  "label": "Philippines"
                },
                "color": "#15AFAC",
                "styles": {},
                "label": "Philippines",
                "scale_factor": 1,
                "type": "#15AFAC",
                "size": [
                  55,
                  55
                ],
                "position": [
                  0,
                  0
                ]
              },
              {
                "id": "group#Singapore",
                "properties": {
                  "label": "Singapore"
                },
                "color": "#15AFAC",
                "styles": {},
                "label": "Singapore",
                "scale_factor": 1,
                "type": "#15AFAC",
                "size": [
                  55,
                  55
                ],
                "position": [
                  0,
                  0
                ]
              },
              {
                "id": "group#Taiwan",
                "properties": {
                  "label": "Taiwan"
                },
                "color": "#15AFAC",
                "styles": {},
                "label": "Taiwan",
                "scale_factor": 1,
                "type": "#15AFAC",
                "size": [
                  55,
                  55
                ],
                "position": [
                  0,
                  0
                ]
              },
              {
                "id": "group#Thailand",
                "properties": {
                  "label": "Thailand"
                },
                "color": "#15AFAC",
                "styles": {},
                "label": "Thailand",
                "scale_factor": 1,
                "type": "#15AFAC",
                "size": [
                  55,
                  55
                ],
                "position": [
                  0,
                  0
                ]
              },
              {
                "id": "group#Turkey",
                "properties": {
                  "label": "Turkey"
                },
                "color": "#15AFAC",
                "styles": {},
                "label": "Turkey",
                "scale_factor": 1,
                "type": "#15AFAC",
                "size": [
                  55,
                  55
                ],
                "position": [
                  0,
                  0
                ]
              },
              {
                "id": "group#Mongolia",
                "properties": {
                  "label": "Mongolia"
                },
                "color": "#15AFAC",
                "styles": {},
                "label": "Mongolia",
                "scale_factor": 1,
                "type": "#15AFAC",
                "size": [
                  55,
                  55
                ],
                "position": [
                  0,
                  0
                ]
              },
              {
                "id": "group#Australia",
                "properties": {
                  "label": "Australia"
                },
                "color": "#15AFAC",
                "styles": {},
                "label": "Australia",
                "scale_factor": 1,
                "type": "#15AFAC",
                "size": [
                  55,
                  55
                ],
                "position": [
                  0,
                  0
                ]
              },
              {
                "id": "group#Australia",
                "properties": {
                  "label": "Australia"
                },
                "color": "#15AFAC",
                "styles": {},
                "label": "Australia",
                "scale_factor": 1,
                "type": "#15AFAC",
                "size": [
                  55,
                  55
                ],
                "position": [
                  0,
                  0
                ]
              },
              {
                "id": "group#Fiji",
                "properties": {
                  "label": "Fiji"
                },
                "color": "#15AFAC",
                "styles": {},
                "label": "Fiji",
                "scale_factor": 1,
                "type": "#15AFAC",
                "size": [
                  55,
                  55
                ],
                "position": [
                  0,
                  0
                ]
              },
              {
                "id": "group#New Zealand",
                "properties": {
                  "label": "New Zealand"
                },
                "color": "#15AFAC",
                "styles": {},
                "label": "New Zealand",
                "scale_factor": 1,
                "type": "#15AFAC",
                "size": [
                  55,
                  55
                ],
                "position": [
                  0,
                  0
                ]
              },
              {
                "id": "group#France",
                "properties": {
                  "label": "France"
                },
                "color": "#15AFAC",
                "styles": {},
                "label": "France",
                "scale_factor": 1,
                "type": "#15AFAC",
                "size": [
                  55,
                  55
                ],
                "position": [
                  0,
                  0
                ]
              },
              {
                "id": "group#Spain",
                "properties": {
                  "label": "Spain"
                },
                "color": "#15AFAC",
                "styles": {},
                "label": "Spain",
                "scale_factor": 1,
                "type": "#15AFAC",
                "size": [
                  55,
                  55
                ],
                "position": [
                  0,
                  0
                ]
              },
              {
                "id": "group#Spain",
                "properties": {
                  "label": "Spain"
                },
                "color": "#15AFAC",
                "styles": {},
                "label": "Spain",
                "scale_factor": 1,
                "type": "#15AFAC",
                "size": [
                  55,
                  55
                ],
                "position": [
                  0,
                  0
                ]
              },
              {
                "id": "group#Italy",
                "properties": {
                  "label": "Italy"
                },
                "color": "#15AFAC",
                "styles": {},
                "label": "Italy",
                "scale_factor": 1,
                "type": "#15AFAC",
                "size": [
                  55,
                  55
                ],
                "position": [
                  0,
                  0
                ]
              },
              {
                "id": "group#Denmark",
                "properties": {
                  "label": "Denmark"
                },
                "color": "#15AFAC",
                "styles": {},
                "label": "Denmark",
                "scale_factor": 1,
                "type": "#15AFAC",
                "size": [
                  55,
                  55
                ],
                "position": [
                  0,
                  0
                ]
              },
              {
                "id": "group#Finland",
                "properties": {
                  "label": "Finland"
                },
                "color": "#15AFAC",
                "styles": {},
                "label": "Finland",
                "scale_factor": 1,
                "type": "#15AFAC",
                "size": [
                  55,
                  55
                ],
                "position": [
                  0,
                  0
                ]
              },
              {
                "id": "group#Greece",
                "properties": {
                  "label": "Greece"
                },
                "color": "#15AFAC",
                "styles": {},
                "label": "Greece",
                "scale_factor": 1,
                "type": "#15AFAC",
                "size": [
                  55,
                  55
                ],
                "position": [
                  0,
                  0
                ]
              },
              {
                "id": "group#Ireland",
                "properties": {
                  "label": "Ireland"
                },
                "color": "#15AFAC",
                "styles": {},
                "label": "Ireland",
                "scale_factor": 1,
                "type": "#15AFAC",
                "size": [
                  55,
                  55
                ],
                "position": [
                  0,
                  0
                ]
              },
              {
                "id": "group#Iceland",
                "properties": {
                  "label": "Iceland"
                },
                "color": "#15AFAC",
                "styles": {},
                "label": "Iceland",
                "scale_factor": 1,
                "type": "#15AFAC",
                "size": [
                  55,
                  55
                ],
                "position": [
                  0,
                  0
                ]
              },
              {
                "id": "group#Norway",
                "properties": {
                  "label": "Norway"
                },
                "color": "#15AFAC",
                "styles": {},
                "label": "Norway",
                "scale_factor": 1,
                "type": "#15AFAC",
                "size": [
                  55,
                  55
                ],
                "position": [
                  0,
                  0
                ]
              },
              {
                "id": "group#Austria",
                "properties": {
                  "label": "Austria"
                },
                "color": "#15AFAC",
                "styles": {},
                "label": "Austria",
                "scale_factor": 1,
                "type": "#15AFAC",
                "size": [
                  55,
                  55
                ],
                "position": [
                  0,
                  0
                ]
              },
              {
                "id": "group#Portugal",
                "properties": {
                  "label": "Portugal"
                },
                "color": "#15AFAC",
                "styles": {},
                "label": "Portugal",
                "scale_factor": 1,
                "type": "#15AFAC",
                "size": [
                  55,
                  55
                ],
                "position": [
                  0,
                  0
                ]
              },
              {
                "id": "group#Sweden",
                "properties": {
                  "label": "Sweden"
                },
                "color": "#15AFAC",
                "styles": {},
                "label": "Sweden",
                "scale_factor": 1,
                "type": "#15AFAC",
                "size": [
                  55,
                  55
                ],
                "position": [
                  0,
                  0
                ]
              },
              {
                "id": "group#UK",
                "properties": {
                  "label": "UK"
                },
                "color": "#15AFAC",
                "styles": {},
                "label": "UK",
                "scale_factor": 1,
                "type": "#15AFAC",
                "size": [
                  55,
                  55
                ],
                "position": [
                  0,
                  0
                ]
              },
              {
                "id": "group#USA",
                "properties": {
                  "label": "USA"
                },
                "color": "#15AFAC",
                "styles": {},
                "label": "USA",
                "scale_factor": 1,
                "type": "#15AFAC",
                "size": [
                  55,
                  55
                ],
                "position": [
                  0,
                  0
                ]
              },
              {
                "id": "group#USA",
                "properties": {
                  "label": "USA"
                },
                "color": "#15AFAC",
                "styles": {},
                "label": "USA",
                "scale_factor": 1,
                "type": "#15AFAC",
                "size": [
                  55,
                  55
                ],
                "position": [
                  0,
                  0
                ]
              },
              {
                "id": "group#USA",
                "properties": {
                  "label": "USA"
                },
                "color": "#15AFAC",
                "styles": {},
                "label": "USA",
                "scale_factor": 1,
                "type": "#15AFAC",
                "size": [
                  55,
                  55
                ],
                "position": [
                  0,
                  0
                ]
              },
              {
                "id": "group#USA",
                "properties": {
                  "label": "USA"
                },
                "color": "#15AFAC",
                "styles": {},
                "label": "USA",
                "scale_factor": 1,
                "type": "#15AFAC",
                "size": [
                  55,
                  55
                ],
                "position": [
                  0,
                  0
                ]
              },
              {
                "id": "group#USA",
                "properties": {
                  "label": "USA"
                },
                "color": "#15AFAC",
                "styles": {},
                "label": "USA",
                "scale_factor": 1,
                "type": "#15AFAC",
                "size": [
                  55,
                  55
                ],
                "position": [
                  0,
                  0
                ]
              },
              {
                "id": "group#Canada",
                "properties": {
                  "label": "Canada"
                },
                "color": "#15AFAC",
                "styles": {},
                "label": "Canada",
                "scale_factor": 1,
                "type": "#15AFAC",
                "size": [
                  55,
                  55
                ],
                "position": [
                  0,
                  0
                ]
              },
              {
                "id": "group#Canada",
                "properties": {
                  "label": "Canada"
                },
                "color": "#15AFAC",
                "styles": {},
                "label": "Canada",
                "scale_factor": 1,
                "type": "#15AFAC",
                "size": [
                  55,
                  55
                ],
                "position": [
                  0,
                  0
                ]
              },
              {
                "id": "group#Canada",
                "properties": {
                  "label": "Canada"
                },
                "color": "#15AFAC",
                "styles": {},
                "label": "Canada",
                "scale_factor": 1,
                "type": "#15AFAC",
                "size": [
                  55,
                  55
                ],
                "position": [
                  0,
                  0
                ]
              },
              {
                "id": "group#Mexico",
                "properties": {
                  "label": "Mexico"
                },
                "color": "#15AFAC",
                "styles": {},
                "label": "Mexico",
                "scale_factor": 1,
                "type": "#15AFAC",
                "size": [
                  55,
                  55
                ],
                "position": [
                  0,
                  0
                ]
              },
              {
                "id": "group#Guatemala",
                "properties": {
                  "label": "Guatemala"
                },
                "color": "#15AFAC",
                "styles": {},
                "label": "Guatemala",
                "scale_factor": 1,
                "type": "#15AFAC",
                "size": [
                  55,
                  55
                ],
                "position": [
                  0,
                  0
                ]
              },
              {
                "id": "group#Argentina",
                "properties": {
                  "label": "Argentina"
                },
                "color": "#15AFAC",
                "styles": {},
                "label": "Argentina",
                "scale_factor": 1,
                "type": "#15AFAC",
                "size": [
                  55,
                  55
                ],
                "position": [
                  0,
                  0
                ]
              },
              {
                "id": "group#Brazil",
                "properties": {
                  "label": "Brazil"
                },
                "color": "#15AFAC",
                "styles": {},
                "label": "Brazil",
                "scale_factor": 1,
                "type": "#15AFAC",
                "size": [
                  55,
                  55
                ],
                "position": [
                  0,
                  0
                ]
              },
              {
                "id": "group#Chile",
                "properties": {
                  "label": "Chile"
                },
                "color": "#15AFAC",
                "styles": {},
                "label": "Chile",
                "scale_factor": 1,
                "type": "#15AFAC",
                "size": [
                  55,
                  55
                ],
                "position": [
                  0,
                  0
                ]
              },
              {
                "id": "group#Brazil",
                "properties": {
                  "label": "Brazil"
                },
                "color": "#15AFAC",
                "styles": {},
                "label": "Brazil",
                "scale_factor": 1,
                "type": "#15AFAC",
                "size": [
                  55,
                  55
                ],
                "position": [
                  0,
                  0
                ]
              },
              {
                "id": "group#Colombia",
                "properties": {
                  "label": "Colombia"
                },
                "color": "#15AFAC",
                "styles": {},
                "label": "Colombia",
                "scale_factor": 1,
                "type": "#15AFAC",
                "size": [
                  55,
                  55
                ],
                "position": [
                  0,
                  0
                ]
              },
              {
                "id": "group#Venezuela",
                "properties": {
                  "label": "Venezuela"
                },
                "color": "#15AFAC",
                "styles": {},
                "label": "Venezuela",
                "scale_factor": 1,
                "type": "#15AFAC",
                "size": [
                  55,
                  55
                ],
                "position": [
                  0,
                  0
                ]
              }
            ],
            "_overview": {
              "enabled": null,
              "overview_set": false
            },
            "_selected_graph": [
              [],
              []
            ],
            "_sidebar": {
              "enabled": false,
              "start_with": null
            },
            "_view_count": null,
            "_view_module": "yfiles-jupyter-graphs",
            "_view_module_version": "^1.10.8",
            "_view_name": "GraphView",
            "layout": "IPY_MODEL_3fcb6540f3a34b92bea67ec6917496d9"
          }
        },
        "3fcb6540f3a34b92bea67ec6917496d9": {
          "model_module": "@jupyter-widgets/base",
          "model_name": "LayoutModel",
          "model_module_version": "1.2.0",
          "state": {
            "_model_module": "@jupyter-widgets/base",
            "_model_module_version": "1.2.0",
            "_model_name": "LayoutModel",
            "_view_count": null,
            "_view_module": "@jupyter-widgets/base",
            "_view_module_version": "1.2.0",
            "_view_name": "LayoutView",
            "align_content": null,
            "align_items": null,
            "align_self": null,
            "border": null,
            "bottom": null,
            "display": null,
            "flex": null,
            "flex_flow": null,
            "grid_area": null,
            "grid_auto_columns": null,
            "grid_auto_flow": null,
            "grid_auto_rows": null,
            "grid_column": null,
            "grid_gap": null,
            "grid_row": null,
            "grid_template_areas": null,
            "grid_template_columns": null,
            "grid_template_rows": null,
            "height": "800px",
            "justify_content": null,
            "justify_items": null,
            "left": null,
            "margin": null,
            "max_height": null,
            "max_width": null,
            "min_height": null,
            "min_width": null,
            "object_fit": null,
            "object_position": null,
            "order": null,
            "overflow": null,
            "overflow_x": null,
            "overflow_y": null,
            "padding": null,
            "right": null,
            "top": null,
            "visibility": null,
            "width": "100%"
          }
        },
        "59fcd550f3314ef788ab87d414b136b4": {
          "model_module": "yfiles-jupyter-graphs",
          "model_name": "GraphModel",
          "model_module_version": "^1.10.8",
          "state": {
            "_context_pane_mapping": [
              {
                "id": "Neighborhood",
                "title": "Neighborhood"
              },
              {
                "id": "Data",
                "title": "Data"
              },
              {
                "id": "Search",
                "title": "Search"
              },
              {
                "id": "About",
                "title": "About"
              }
            ],
            "_data_importer": "unknown",
            "_directed": false,
            "_dom_classes": [],
            "_edges": [
              {
                "start": "LAX",
                "end": "JFK",
                "label": "",
                "properties": {},
                "directed": false,
                "id": "6f28225c-73c4-4e2a-a518-78f8356ad78e",
                "color": "#15AFAC",
                "thickness_factor": 1,
                "styles": {},
                "heat": 0
              },
              {
                "start": "JFK",
                "end": "GIG",
                "label": "",
                "properties": {},
                "directed": false,
                "id": "ae218385-9a36-4c4c-9f6f-c9f3b47e7747",
                "color": "#15AFAC",
                "thickness_factor": 1,
                "styles": {},
                "heat": 0
              },
              {
                "start": "JFK",
                "end": "LIM",
                "label": "",
                "properties": {},
                "directed": false,
                "id": "194338ea-cb46-4438-aa12-984b79d5a056",
                "color": "#15AFAC",
                "thickness_factor": 1,
                "styles": {},
                "heat": 0
              },
              {
                "start": "JFK",
                "end": "LHR",
                "label": "",
                "properties": {},
                "directed": false,
                "id": "df2d274f-0310-49e0-a15b-bd1d7371ef61",
                "color": "#15AFAC",
                "thickness_factor": 1,
                "styles": {},
                "heat": 0
              },
              {
                "start": "GIG",
                "end": "FRA",
                "label": "",
                "properties": {},
                "directed": false,
                "id": "0c70ffcf-cc40-497b-bf11-65d1ea3c513c",
                "color": "#15AFAC",
                "thickness_factor": 1,
                "styles": {},
                "heat": 0
              },
              {
                "start": "LIM",
                "end": "GIG",
                "label": "",
                "properties": {},
                "directed": false,
                "id": "ba4a3fdb-aa49-4022-ba54-34d5aeeae5e1",
                "color": "#15AFAC",
                "thickness_factor": 1,
                "styles": {},
                "heat": 0
              },
              {
                "start": "FRA",
                "end": "JFK",
                "label": "",
                "properties": {},
                "directed": false,
                "id": "6c36e3d8-bf34-4c61-a5f5-6cb8ab0b4c23",
                "color": "#15AFAC",
                "thickness_factor": 1,
                "styles": {},
                "heat": 0
              },
              {
                "start": "LHR",
                "end": "FRA",
                "label": "",
                "properties": {},
                "directed": false,
                "id": "3ace757d-ec63-4478-b1a5-47740c66573e",
                "color": "#15AFAC",
                "thickness_factor": 1,
                "styles": {},
                "heat": 0
              },
              {
                "start": "FRA",
                "end": "SVO",
                "label": "",
                "properties": {},
                "directed": false,
                "id": "7ffff4fb-3009-4b02-b346-effcb0830e8d",
                "color": "#15AFAC",
                "thickness_factor": 1,
                "styles": {},
                "heat": 0
              },
              {
                "start": "FRA",
                "end": "DXB",
                "label": "",
                "properties": {},
                "directed": false,
                "id": "b33eb52b-b41b-42f5-85d8-0d7c9ec358aa",
                "color": "#15AFAC",
                "thickness_factor": 1,
                "styles": {},
                "heat": 0
              },
              {
                "start": "SVO",
                "end": "DEL",
                "label": "",
                "properties": {},
                "directed": false,
                "id": "1c8fb25b-4680-414e-bc61-1b0fa5db5429",
                "color": "#15AFAC",
                "thickness_factor": 1,
                "styles": {},
                "heat": 0
              },
              {
                "start": "SVO",
                "end": "PVG",
                "label": "",
                "properties": {},
                "directed": false,
                "id": "ea5b3d84-c0c7-47df-a445-3013b56fdaee",
                "color": "#15AFAC",
                "thickness_factor": 1,
                "styles": {},
                "heat": 0
              },
              {
                "start": "DEL",
                "end": "HKG",
                "label": "",
                "properties": {},
                "directed": false,
                "id": "4e4f12a0-7d38-462e-9d08-11f7d1fc4e75",
                "color": "#15AFAC",
                "thickness_factor": 1,
                "styles": {},
                "heat": 0
              },
              {
                "start": "PVG",
                "end": "HKG",
                "label": "",
                "properties": {},
                "directed": false,
                "id": "d05d8e99-c4fd-447a-8a55-e1f639b6df54",
                "color": "#15AFAC",
                "thickness_factor": 1,
                "styles": {},
                "heat": 0
              },
              {
                "start": "PVG",
                "end": "NRT",
                "label": "",
                "properties": {},
                "directed": false,
                "id": "a9ec5c74-c008-4beb-81be-91ef8337b1b3",
                "color": "#15AFAC",
                "thickness_factor": 1,
                "styles": {},
                "heat": 0
              },
              {
                "start": "HKG",
                "end": "SYD",
                "label": "",
                "properties": {},
                "directed": false,
                "id": "9126b224-b45a-44d0-a295-9145bd203b7e",
                "color": "#15AFAC",
                "thickness_factor": 1,
                "styles": {},
                "heat": 0
              },
              {
                "start": "NRT",
                "end": "SYD",
                "label": "",
                "properties": {},
                "directed": false,
                "id": "9fa1e63a-63bc-4d6a-8b38-b95cfa07c203",
                "color": "#15AFAC",
                "thickness_factor": 1,
                "styles": {},
                "heat": 0
              },
              {
                "start": "DXB",
                "end": "SVO",
                "label": "",
                "properties": {},
                "directed": false,
                "id": "03ab691f-a3c4-40d8-a7d9-5e9915c1f29a",
                "color": "#15AFAC",
                "thickness_factor": 1,
                "styles": {},
                "heat": 0
              },
              {
                "start": "DXB",
                "end": "DEL",
                "label": "",
                "properties": {},
                "directed": false,
                "id": "9f758073-8f56-41b4-a9c0-445636d9d66c",
                "color": "#15AFAC",
                "thickness_factor": 1,
                "styles": {},
                "heat": 0
              },
              {
                "start": "DXB",
                "end": "DKR",
                "label": "",
                "properties": {},
                "directed": false,
                "id": "6f269590-9d5d-4696-ac7c-a011939d5d6a",
                "color": "#15AFAC",
                "thickness_factor": 1,
                "styles": {},
                "heat": 0
              },
              {
                "start": "DXB",
                "end": "JNB",
                "label": "",
                "properties": {},
                "directed": false,
                "id": "03c4b82d-4020-444c-8c1a-0406623c2656",
                "color": "#15AFAC",
                "thickness_factor": 1,
                "styles": {},
                "heat": 0
              },
              {
                "start": "JNB",
                "end": "LHR",
                "label": "",
                "properties": {},
                "directed": false,
                "id": "97aec433-5866-4905-b265-03fb0e1c587a",
                "color": "#15AFAC",
                "thickness_factor": 1,
                "styles": {},
                "heat": 0
              },
              {
                "start": "JNB",
                "end": "DKR",
                "label": "",
                "properties": {},
                "directed": false,
                "id": "e066475a-f60b-4b9b-81cd-022d744a1954",
                "color": "#15AFAC",
                "thickness_factor": 1,
                "styles": {},
                "heat": 0
              },
              {
                "start": "SYD",
                "end": "DXB",
                "label": "",
                "properties": {},
                "directed": false,
                "id": "c43817d1-8071-445a-961e-8f7875c57786",
                "color": "#15AFAC",
                "thickness_factor": 1,
                "styles": {},
                "heat": 0
              },
              {
                "start": "NBO",
                "end": "JNB",
                "label": "",
                "properties": {},
                "directed": false,
                "id": "4fbc540e-24f2-41d7-9718-0a1af6ae985f",
                "color": "#15AFAC",
                "thickness_factor": 1,
                "styles": {},
                "heat": 0
              },
              {
                "start": "NBO",
                "end": "DXB",
                "label": "",
                "properties": {},
                "directed": false,
                "id": "bb1cca38-2e34-4481-8b0b-80a546b8248d",
                "color": "#15AFAC",
                "thickness_factor": 1,
                "styles": {},
                "heat": 0
              },
              {
                "start": "ATL",
                "end": "JFK",
                "label": "",
                "properties": {},
                "directed": false,
                "id": "69a480bf-3bce-494c-ad7b-e7c49318b041",
                "color": "#15AFAC",
                "thickness_factor": 1,
                "styles": {},
                "heat": 0
              },
              {
                "start": "LAX",
                "end": "ATL",
                "label": "",
                "properties": {},
                "directed": false,
                "id": "d6e77824-7306-4fbf-9bc9-b0ce63c6a9a5",
                "color": "#15AFAC",
                "thickness_factor": 1,
                "styles": {},
                "heat": 0
              },
              {
                "start": "ATL",
                "end": "LHR",
                "label": "",
                "properties": {},
                "directed": false,
                "id": "5adfb942-ce2c-4014-955d-dbf90c1fc7f2",
                "color": "#15AFAC",
                "thickness_factor": 1,
                "styles": {},
                "heat": 0
              },
              {
                "start": "ATL",
                "end": "LIM",
                "label": "",
                "properties": {},
                "directed": false,
                "id": "2530fc2e-1136-479a-9539-3f79238a388d",
                "color": "#15AFAC",
                "thickness_factor": 1,
                "styles": {},
                "heat": 0
              },
              {
                "start": "SCL",
                "end": "LIM",
                "label": "",
                "properties": {},
                "directed": false,
                "id": "99a4d526-0ff1-4b42-88d7-d2c4b8864172",
                "color": "#15AFAC",
                "thickness_factor": 1,
                "styles": {},
                "heat": 0
              },
              {
                "start": "EZE",
                "end": "SCL",
                "label": "",
                "properties": {},
                "directed": false,
                "id": "30f26c28-114e-49b1-9260-9cdf93710f03",
                "color": "#15AFAC",
                "thickness_factor": 1,
                "styles": {},
                "heat": 0
              },
              {
                "start": "SCL",
                "end": "GRU",
                "label": "",
                "properties": {},
                "directed": false,
                "id": "ba016377-d4f0-4789-b4a9-7e54e1dcad12",
                "color": "#15AFAC",
                "thickness_factor": 1,
                "styles": {},
                "heat": 0
              },
              {
                "start": "GIG",
                "end": "EZE",
                "label": "",
                "properties": {},
                "directed": false,
                "id": "0c1d3bbb-c198-4013-a504-4c06401b8be3",
                "color": "#15AFAC",
                "thickness_factor": 1,
                "styles": {},
                "heat": 0
              },
              {
                "start": "GIG",
                "end": "GRU",
                "label": "",
                "properties": {},
                "directed": false,
                "id": "8f221d7c-42c0-4bd0-a709-f62e4961e0b1",
                "color": "#15AFAC",
                "thickness_factor": 1,
                "styles": {},
                "heat": 0
              },
              {
                "start": "BSB",
                "end": "GIG",
                "label": "",
                "properties": {},
                "directed": false,
                "id": "45334ad6-5c1a-449e-bcb0-8fbaf3929fe2",
                "color": "#15AFAC",
                "thickness_factor": 1,
                "styles": {},
                "heat": 0
              },
              {
                "start": "SCL",
                "end": "BSB",
                "label": "",
                "properties": {},
                "directed": false,
                "id": "4be7d62b-84f4-40e2-a500-b238795e29f1",
                "color": "#15AFAC",
                "thickness_factor": 1,
                "styles": {},
                "heat": 0
              },
              {
                "start": "LIM",
                "end": "BSB",
                "label": "",
                "properties": {},
                "directed": false,
                "id": "fe439a0c-dfdf-4397-82e0-26f38534f13f",
                "color": "#15AFAC",
                "thickness_factor": 1,
                "styles": {},
                "heat": 0
              },
              {
                "start": "BOG",
                "end": "BSB",
                "label": "",
                "properties": {},
                "directed": false,
                "id": "ccdf71e0-7283-4980-a19f-184c32984c79",
                "color": "#15AFAC",
                "thickness_factor": 1,
                "styles": {},
                "heat": 0
              },
              {
                "start": "CCS",
                "end": "BSB",
                "label": "",
                "properties": {},
                "directed": false,
                "id": "9490101e-a74a-43f8-b766-e589dc05dc7e",
                "color": "#15AFAC",
                "thickness_factor": 1,
                "styles": {},
                "heat": 0
              },
              {
                "start": "BOG",
                "end": "GUA",
                "label": "",
                "properties": {},
                "directed": false,
                "id": "852ff0ed-8c87-4c92-b801-e0dfb8ed6aad",
                "color": "#15AFAC",
                "thickness_factor": 1,
                "styles": {},
                "heat": 0
              },
              {
                "start": "CCS",
                "end": "MIA",
                "label": "",
                "properties": {},
                "directed": false,
                "id": "dd224294-7e2f-44de-9e9e-8f5ce772ca8f",
                "color": "#15AFAC",
                "thickness_factor": 1,
                "styles": {},
                "heat": 0
              },
              {
                "start": "GUA",
                "end": "MIA",
                "label": "",
                "properties": {},
                "directed": false,
                "id": "90e9bf62-4cd6-4cfa-aff6-4afed3ddae97",
                "color": "#15AFAC",
                "thickness_factor": 1,
                "styles": {},
                "heat": 0
              },
              {
                "start": "GUA",
                "end": "MEX",
                "label": "",
                "properties": {},
                "directed": false,
                "id": "fdcc15bf-ad32-496c-93b6-017b4d3348e6",
                "color": "#15AFAC",
                "thickness_factor": 1,
                "styles": {},
                "heat": 0
              },
              {
                "start": "MEX",
                "end": "LAX",
                "label": "",
                "properties": {},
                "directed": false,
                "id": "5dafc441-08a4-4508-a636-142158cd764a",
                "color": "#15AFAC",
                "thickness_factor": 1,
                "styles": {},
                "heat": 0
              },
              {
                "start": "MEX",
                "end": "LAX",
                "label": "",
                "properties": {},
                "directed": false,
                "id": "db6e3bd3-9880-4fca-9770-8573163f2d8b",
                "color": "#15AFAC",
                "thickness_factor": 1,
                "styles": {},
                "heat": 0
              },
              {
                "start": "LAX",
                "end": "SFO",
                "label": "",
                "properties": {},
                "directed": false,
                "id": "18deb138-e2a0-4735-a60b-431ad1ea3570",
                "color": "#15AFAC",
                "thickness_factor": 1,
                "styles": {},
                "heat": 0
              },
              {
                "start": "SFO",
                "end": "YVR",
                "label": "",
                "properties": {},
                "directed": false,
                "id": "f7251adf-1556-4503-b0db-1be71033f7ff",
                "color": "#15AFAC",
                "thickness_factor": 1,
                "styles": {},
                "heat": 0
              },
              {
                "start": "LAX",
                "end": "LAS",
                "label": "",
                "properties": {},
                "directed": false,
                "id": "b6d6fe2d-616b-442f-ada7-c1309f4da14f",
                "color": "#15AFAC",
                "thickness_factor": 1,
                "styles": {},
                "heat": 0
              },
              {
                "start": "LAX",
                "end": "DFW",
                "label": "",
                "properties": {},
                "directed": false,
                "id": "3bd784da-2c4a-470f-ba93-a21a4907caa2",
                "color": "#15AFAC",
                "thickness_factor": 1,
                "styles": {},
                "heat": 0
              },
              {
                "start": "LAX",
                "end": "ORD",
                "label": "",
                "properties": {},
                "directed": false,
                "id": "4c428235-0b33-41a4-90df-1b5e170cdd59",
                "color": "#15AFAC",
                "thickness_factor": 1,
                "styles": {},
                "heat": 0
              },
              {
                "start": "SFO",
                "end": "LAS",
                "label": "",
                "properties": {},
                "directed": false,
                "id": "19f7f8ab-d748-41fd-901a-9c9cb16d43f2",
                "color": "#15AFAC",
                "thickness_factor": 1,
                "styles": {},
                "heat": 0
              },
              {
                "start": "DFW",
                "end": "ATL",
                "label": "",
                "properties": {},
                "directed": false,
                "id": "eb407755-4587-4cb5-ab43-70cba2f446e7",
                "color": "#15AFAC",
                "thickness_factor": 1,
                "styles": {},
                "heat": 0
              },
              {
                "start": "ATL",
                "end": "YYZ",
                "label": "",
                "properties": {},
                "directed": false,
                "id": "7a599ee2-a40d-4dd5-b91d-9261d40f9ba9",
                "color": "#15AFAC",
                "thickness_factor": 1,
                "styles": {},
                "heat": 0
              },
              {
                "start": "ORD",
                "end": "YYZ",
                "label": "",
                "properties": {},
                "directed": false,
                "id": "c59f8e89-329d-43ee-8e0e-d18967bbe1e9",
                "color": "#15AFAC",
                "thickness_factor": 1,
                "styles": {},
                "heat": 0
              },
              {
                "start": "YYZ",
                "end": "YUL",
                "label": "",
                "properties": {},
                "directed": false,
                "id": "77dac866-c1f4-47b9-ac61-d0265e74fc7c",
                "color": "#15AFAC",
                "thickness_factor": 1,
                "styles": {},
                "heat": 0
              },
              {
                "start": "YYZ",
                "end": "JFK",
                "label": "",
                "properties": {},
                "directed": false,
                "id": "6ff17bf1-6c9c-44c3-ab89-656dafdc72f4",
                "color": "#15AFAC",
                "thickness_factor": 1,
                "styles": {},
                "heat": 0
              },
              {
                "start": "YUL",
                "end": "JFK",
                "label": "",
                "properties": {},
                "directed": false,
                "id": "7096f558-a419-41aa-b6e7-6ee37bee2b12",
                "color": "#15AFAC",
                "thickness_factor": 1,
                "styles": {},
                "heat": 0
              },
              {
                "start": "JNB",
                "end": "CPT",
                "label": "",
                "properties": {},
                "directed": false,
                "id": "136a3582-aa1f-400d-82fa-ca27ad29f32c",
                "color": "#15AFAC",
                "thickness_factor": 1,
                "styles": {},
                "heat": 0
              },
              {
                "start": "LOS",
                "end": "DKR",
                "label": "",
                "properties": {},
                "directed": false,
                "id": "f67d9e45-353b-462e-9dd7-e82ead1f0f12",
                "color": "#15AFAC",
                "thickness_factor": 1,
                "styles": {},
                "heat": 0
              },
              {
                "start": "NBO",
                "end": "LOS",
                "label": "",
                "properties": {},
                "directed": false,
                "id": "7aa5c264-9d2b-406c-a86c-65455d7f4b30",
                "color": "#15AFAC",
                "thickness_factor": 1,
                "styles": {},
                "heat": 0
              },
              {
                "start": "DKR",
                "end": "CMN",
                "label": "",
                "properties": {},
                "directed": false,
                "id": "1e0a92f1-bd56-4bc8-bd75-8d4aa6d03bfd",
                "color": "#15AFAC",
                "thickness_factor": 1,
                "styles": {},
                "heat": 0
              },
              {
                "start": "DKR",
                "end": "CAI",
                "label": "",
                "properties": {},
                "directed": false,
                "id": "decbcf93-9d78-47fe-8c10-4a63d04da72b",
                "color": "#15AFAC",
                "thickness_factor": 1,
                "styles": {},
                "heat": 0
              },
              {
                "start": "NBO",
                "end": "CAI",
                "label": "",
                "properties": {},
                "directed": false,
                "id": "30938507-abce-47ce-b9c6-de53c491e7ad",
                "color": "#15AFAC",
                "thickness_factor": 1,
                "styles": {},
                "heat": 0
              },
              {
                "start": "DXB",
                "end": "CAI",
                "label": "",
                "properties": {},
                "directed": false,
                "id": "d29c1792-3b3c-4d2f-b92b-76f38ce3897d",
                "color": "#15AFAC",
                "thickness_factor": 1,
                "styles": {},
                "heat": 0
              },
              {
                "start": "IKA",
                "end": "DXB",
                "label": "",
                "properties": {},
                "directed": false,
                "id": "31c516fc-f189-48bb-9d51-33266e0359ad",
                "color": "#15AFAC",
                "thickness_factor": 1,
                "styles": {},
                "heat": 0
              },
              {
                "start": "IST",
                "end": "IKA",
                "label": "",
                "properties": {},
                "directed": false,
                "id": "a47dfda6-41ed-4424-a948-97e7445333f0",
                "color": "#15AFAC",
                "thickness_factor": 1,
                "styles": {},
                "heat": 0
              },
              {
                "start": "TLV",
                "end": "ATH",
                "label": "",
                "properties": {},
                "directed": false,
                "id": "d48d7fb8-9adb-4d23-a3b5-4a3ae3af4220",
                "color": "#15AFAC",
                "thickness_factor": 1,
                "styles": {},
                "heat": 0
              },
              {
                "start": "CAI",
                "end": "TLV",
                "label": "",
                "properties": {},
                "directed": false,
                "id": "d2f35743-830f-4b71-9194-f411e1d4a452",
                "color": "#15AFAC",
                "thickness_factor": 1,
                "styles": {},
                "heat": 0
              },
              {
                "start": "ATH",
                "end": "IST",
                "label": "",
                "properties": {},
                "directed": false,
                "id": "cb4509c4-85f1-4545-92ad-1406f2b3cfee",
                "color": "#15AFAC",
                "thickness_factor": 1,
                "styles": {},
                "heat": 0
              },
              {
                "start": "FCO",
                "end": "ATH",
                "label": "",
                "properties": {},
                "directed": false,
                "id": "944bdeb5-f789-4968-a2e5-da86782dc24c",
                "color": "#15AFAC",
                "thickness_factor": 1,
                "styles": {},
                "heat": 0
              },
              {
                "start": "LIS",
                "end": "LHR",
                "label": "",
                "properties": {},
                "directed": false,
                "id": "13a69016-af8f-44c7-9255-8dcdc8be6e2b",
                "color": "#15AFAC",
                "thickness_factor": 1,
                "styles": {},
                "heat": 0
              },
              {
                "start": "LIS",
                "end": "MAD",
                "label": "",
                "properties": {},
                "directed": false,
                "id": "62608b78-2ce9-440c-82d1-cc2752a76d23",
                "color": "#15AFAC",
                "thickness_factor": 1,
                "styles": {},
                "heat": 0
              },
              {
                "start": "MAD",
                "end": "BCN",
                "label": "",
                "properties": {},
                "directed": false,
                "id": "0447d91d-4ffe-4098-8a73-e6c41e8bce15",
                "color": "#15AFAC",
                "thickness_factor": 1,
                "styles": {},
                "heat": 0
              },
              {
                "start": "CDG",
                "end": "LHR",
                "label": "",
                "properties": {},
                "directed": false,
                "id": "224bcf82-3a2d-4f4e-9358-96ad7d5568d8",
                "color": "#15AFAC",
                "thickness_factor": 1,
                "styles": {},
                "heat": 0
              },
              {
                "start": "DUB",
                "end": "LHR",
                "label": "",
                "properties": {},
                "directed": false,
                "id": "116362f3-d7e4-4f8f-9d1d-5bc6b459f88e",
                "color": "#15AFAC",
                "thickness_factor": 1,
                "styles": {},
                "heat": 0
              },
              {
                "start": "EDI",
                "end": "LHR",
                "label": "",
                "properties": {},
                "directed": false,
                "id": "3ea6ef4a-2f88-426d-a321-4f3212397b78",
                "color": "#15AFAC",
                "thickness_factor": 1,
                "styles": {},
                "heat": 0
              },
              {
                "start": "CDG",
                "end": "BCN",
                "label": "",
                "properties": {},
                "directed": false,
                "id": "1d31c43d-3c97-474a-8021-226b294ed81e",
                "color": "#15AFAC",
                "thickness_factor": 1,
                "styles": {},
                "heat": 0
              },
              {
                "start": "BCN",
                "end": "FCO",
                "label": "",
                "properties": {},
                "directed": false,
                "id": "9319fec0-4577-439a-97f5-71898f05e7e7",
                "color": "#15AFAC",
                "thickness_factor": 1,
                "styles": {},
                "heat": 0
              },
              {
                "start": "VIE",
                "end": "IST",
                "label": "",
                "properties": {},
                "directed": false,
                "id": "28474528-4611-42f6-a2ca-1c6576b366c7",
                "color": "#15AFAC",
                "thickness_factor": 1,
                "styles": {},
                "heat": 0
              },
              {
                "start": "VIE",
                "end": "SVO",
                "label": "",
                "properties": {},
                "directed": false,
                "id": "b52845a6-847c-4019-80ae-b745f3be6cd2",
                "color": "#15AFAC",
                "thickness_factor": 1,
                "styles": {},
                "heat": 0
              },
              {
                "start": "CMN",
                "end": "LIS",
                "label": "",
                "properties": {},
                "directed": false,
                "id": "74331974-ee62-466c-bff5-dd941e5f7d9e",
                "color": "#15AFAC",
                "thickness_factor": 1,
                "styles": {},
                "heat": 0
              },
              {
                "start": "MAD",
                "end": "CMN",
                "label": "",
                "properties": {},
                "directed": false,
                "id": "953b517b-21aa-4fbd-ba87-9ff764eb7f05",
                "color": "#15AFAC",
                "thickness_factor": 1,
                "styles": {},
                "heat": 0
              },
              {
                "start": "FRA",
                "end": "CPH",
                "label": "",
                "properties": {},
                "directed": false,
                "id": "3fee60a0-edf4-4819-af5a-22fb82e97622",
                "color": "#15AFAC",
                "thickness_factor": 1,
                "styles": {},
                "heat": 0
              },
              {
                "start": "LHR",
                "end": "CPH",
                "label": "",
                "properties": {},
                "directed": false,
                "id": "d03bd183-ae7e-4901-9e9e-167976ecbf48",
                "color": "#15AFAC",
                "thickness_factor": 1,
                "styles": {},
                "heat": 0
              },
              {
                "start": "CPH",
                "end": "OSL",
                "label": "",
                "properties": {},
                "directed": false,
                "id": "e3b188c0-f603-4398-9577-8b4f134ffe50",
                "color": "#15AFAC",
                "thickness_factor": 1,
                "styles": {},
                "heat": 0
              },
              {
                "start": "CPH",
                "end": "ARN",
                "label": "",
                "properties": {},
                "directed": false,
                "id": "0b54d7ae-1b13-42d7-90ec-4062e55d94bf",
                "color": "#15AFAC",
                "thickness_factor": 1,
                "styles": {},
                "heat": 0
              },
              {
                "start": "ARN",
                "end": "HEL",
                "label": "",
                "properties": {},
                "directed": false,
                "id": "adb46f54-e71e-4d7d-aaab-471503ca1d6a",
                "color": "#15AFAC",
                "thickness_factor": 1,
                "styles": {},
                "heat": 0
              },
              {
                "start": "HEL",
                "end": "SVO",
                "label": "",
                "properties": {},
                "directed": false,
                "id": "f8e13a87-cc2e-4db6-a87c-e2d9912114d5",
                "color": "#15AFAC",
                "thickness_factor": 1,
                "styles": {},
                "heat": 0
              },
              {
                "start": "ULN",
                "end": "PVG",
                "label": "",
                "properties": {},
                "directed": false,
                "id": "7651dd1d-c1f5-4bae-9f98-df8e2f037369",
                "color": "#15AFAC",
                "thickness_factor": 1,
                "styles": {},
                "heat": 0
              },
              {
                "start": "CTU",
                "end": "PVG",
                "label": "",
                "properties": {},
                "directed": false,
                "id": "458e9157-db30-4673-a4ef-cc6553287e2d",
                "color": "#15AFAC",
                "thickness_factor": 1,
                "styles": {},
                "heat": 0
              },
              {
                "start": "PVG",
                "end": "TPE",
                "label": "",
                "properties": {},
                "directed": false,
                "id": "b508c990-31bd-4584-a8c3-5d21b8c3fe52",
                "color": "#15AFAC",
                "thickness_factor": 1,
                "styles": {},
                "heat": 0
              },
              {
                "start": "CTU",
                "end": "HKG",
                "label": "",
                "properties": {},
                "directed": false,
                "id": "b01b19f3-84c8-47a9-8436-2e92af2462b8",
                "color": "#15AFAC",
                "thickness_factor": 1,
                "styles": {},
                "heat": 0
              },
              {
                "start": "TPE",
                "end": "HKG",
                "label": "",
                "properties": {},
                "directed": false,
                "id": "7e80f2f7-e289-46c7-a091-7379cf37ed9e",
                "color": "#15AFAC",
                "thickness_factor": 1,
                "styles": {},
                "heat": 0
              },
              {
                "start": "HKG",
                "end": "MNL",
                "label": "",
                "properties": {},
                "directed": false,
                "id": "32a01d6a-9afe-4f5a-a61e-a7c6fa1477f4",
                "color": "#15AFAC",
                "thickness_factor": 1,
                "styles": {},
                "heat": 0
              },
              {
                "start": "BKK",
                "end": "HKG",
                "label": "",
                "properties": {},
                "directed": false,
                "id": "81630abf-e0f8-4155-9057-0a2478bad1c4",
                "color": "#15AFAC",
                "thickness_factor": 1,
                "styles": {},
                "heat": 0
              },
              {
                "start": "SIN",
                "end": "KUL",
                "label": "",
                "properties": {},
                "directed": false,
                "id": "77349e28-0797-460d-9919-050243d8d5a1",
                "color": "#15AFAC",
                "thickness_factor": 1,
                "styles": {},
                "heat": 0
              },
              {
                "start": "SIN",
                "end": "BKK",
                "label": "",
                "properties": {},
                "directed": false,
                "id": "c0350267-bb8f-4747-9763-513d31a41528",
                "color": "#15AFAC",
                "thickness_factor": 1,
                "styles": {},
                "heat": 0
              },
              {
                "start": "CGK",
                "end": "SIN",
                "label": "",
                "properties": {},
                "directed": false,
                "id": "13b8c2e2-a971-4fd1-a8b5-7ff90d78e1da",
                "color": "#15AFAC",
                "thickness_factor": 1,
                "styles": {},
                "heat": 0
              },
              {
                "start": "MNL",
                "end": "SIN",
                "label": "",
                "properties": {},
                "directed": false,
                "id": "ee7c3cdf-10d1-451b-9c7b-6a733b660e32",
                "color": "#15AFAC",
                "thickness_factor": 1,
                "styles": {},
                "heat": 0
              },
              {
                "start": "SIN",
                "end": "SYD",
                "label": "",
                "properties": {},
                "directed": false,
                "id": "b8f09efa-3376-485a-a2c3-470001bcbea2",
                "color": "#15AFAC",
                "thickness_factor": 1,
                "styles": {},
                "heat": 0
              },
              {
                "start": "BNE",
                "end": "SYD",
                "label": "",
                "properties": {},
                "directed": false,
                "id": "8514a586-298e-44b6-806c-da57ddfcd878",
                "color": "#15AFAC",
                "thickness_factor": 1,
                "styles": {},
                "heat": 0
              },
              {
                "start": "SYD",
                "end": "MEL",
                "label": "",
                "properties": {},
                "directed": false,
                "id": "2efa8659-c370-403f-8579-a43d9569db56",
                "color": "#15AFAC",
                "thickness_factor": 1,
                "styles": {},
                "heat": 0
              },
              {
                "start": "NAN",
                "end": "SYD",
                "label": "",
                "properties": {},
                "directed": false,
                "id": "fe39289d-53a3-4527-8496-b7f6abc6505b",
                "color": "#15AFAC",
                "thickness_factor": 1,
                "styles": {},
                "heat": 0
              },
              {
                "start": "AKL",
                "end": "SYD",
                "label": "",
                "properties": {},
                "directed": false,
                "id": "e7111510-04a9-446f-86b6-12fac5795816",
                "color": "#15AFAC",
                "thickness_factor": 1,
                "styles": {},
                "heat": 0
              },
              {
                "start": "NAN",
                "end": "AKL",
                "label": "",
                "properties": {},
                "directed": false,
                "id": "6e912e0f-a77b-4a7c-a3da-9c8f145baab2",
                "color": "#15AFAC",
                "thickness_factor": 1,
                "styles": {},
                "heat": 0
              },
              {
                "start": "RKV",
                "end": "LHR",
                "label": "",
                "properties": {},
                "directed": false,
                "id": "5bae3684-70d3-4c16-b71a-617dafeca11e",
                "color": "#15AFAC",
                "thickness_factor": 1,
                "styles": {},
                "heat": 0
              },
              {
                "start": "BCN",
                "end": "CDG",
                "label": "",
                "properties": {},
                "directed": false,
                "id": "1e8796c7-874e-49c6-8624-37b4f08af222",
                "color": "#15AFAC",
                "thickness_factor": 1,
                "styles": {},
                "heat": 0
              },
              {
                "start": "BCN",
                "end": "FRA",
                "label": "",
                "properties": {},
                "directed": false,
                "id": "0c96b038-197f-4ed5-8304-804e1dee4e14",
                "color": "#15AFAC",
                "thickness_factor": 1,
                "styles": {},
                "heat": 0
              },
              {
                "start": "FCO",
                "end": "FRA",
                "label": "",
                "properties": {},
                "directed": false,
                "id": "9bab3657-87a2-4e80-813d-2e5652abf1e0",
                "color": "#15AFAC",
                "thickness_factor": 1,
                "styles": {},
                "heat": 0
              },
              {
                "start": "BOG",
                "end": "MEX",
                "label": "",
                "properties": {},
                "directed": false,
                "id": "ed07f4d1-1b14-48de-9d3e-7e60fdfce556",
                "color": "#15AFAC",
                "thickness_factor": 1,
                "styles": {},
                "heat": 0
              },
              {
                "start": "BOG",
                "end": "GRU",
                "label": "",
                "properties": {},
                "directed": false,
                "id": "38be4e6e-c70b-4fc0-ac72-05a78b3c0962",
                "color": "#15AFAC",
                "thickness_factor": 1,
                "styles": {},
                "heat": 0
              },
              {
                "start": "ATL",
                "end": "MIA",
                "label": "",
                "properties": {},
                "directed": false,
                "id": "59f5a318-23ae-43ae-a631-cd98d3a9c01e",
                "color": "#15AFAC",
                "thickness_factor": 1,
                "styles": {},
                "heat": 0
              },
              {
                "start": "FRA",
                "end": "IST",
                "label": "",
                "properties": {},
                "directed": false,
                "id": "5fca1ad7-9558-496a-96e5-3051199e7ab9",
                "color": "#15AFAC",
                "thickness_factor": 1,
                "styles": {},
                "heat": 0
              },
              {
                "start": "IST",
                "end": "DEL",
                "label": "",
                "properties": {},
                "directed": false,
                "id": "e4781d5e-ceaa-4a41-af5d-c7988addd628",
                "color": "#15AFAC",
                "thickness_factor": 1,
                "styles": {},
                "heat": 0
              },
              {
                "start": "PVG",
                "end": "BKK",
                "label": "",
                "properties": {},
                "directed": false,
                "id": "185d11a9-5e59-4f1a-bbae-d2b32a9f4ab0",
                "color": "#15AFAC",
                "thickness_factor": 1,
                "styles": {},
                "heat": 0
              },
              {
                "start": "DEL",
                "end": "BKK",
                "label": "",
                "properties": {},
                "directed": false,
                "id": "c3262008-af21-4408-a774-f7c8bb222a70",
                "color": "#15AFAC",
                "thickness_factor": 1,
                "styles": {},
                "heat": 0
              }
            ],
            "_graph_layout": {
              "algorithm": "map",
              "options": {}
            },
            "_highlight": [],
            "_license": {},
            "_model_module": "yfiles-jupyter-graphs",
            "_model_module_version": "^1.10.8",
            "_model_name": "GraphModel",
            "_neighborhood": {},
            "_nodes": [
              {
                "id": "LAX",
                "properties": {
                  "label": "Los Angeles",
                  "passengers": 65000000,
                  "country": "USA",
                  "country_id": "us"
                },
                "coordinates": [
                  33.942536,
                  -118.408075
                ],
                "color": "#15AFAC",
                "styles": {},
                "label": "Los Angeles",
                "scale_factor": 1,
                "type": "#15AFAC",
                "size": [
                  55,
                  55
                ],
                "position": [
                  0,
                  0
                ],
                "parentId": "group#USA",
                "heat": 0.6963123644251626
              },
              {
                "id": "GIG",
                "properties": {
                  "label": "Rio de Janeiro",
                  "passengers": 5000000,
                  "country": "Brazil",
                  "country_id": "br"
                },
                "coordinates": [
                  -22.808903,
                  -43.243647
                ],
                "color": "#15AFAC",
                "styles": {},
                "label": "Rio de Janeiro",
                "scale_factor": 1,
                "type": "#15AFAC",
                "size": [
                  55,
                  55
                ],
                "position": [
                  0,
                  0
                ],
                "parentId": "group#Brazil",
                "heat": 0.0455531453362256
              },
              {
                "id": "LIM",
                "properties": {
                  "label": "Lima",
                  "passengers": 18000000,
                  "country": "Peru",
                  "country_id": "pe"
                },
                "coordinates": [
                  -12.021889,
                  -77.114319
                ],
                "color": "#15AFAC",
                "styles": {},
                "label": "Lima",
                "scale_factor": 1,
                "type": "#15AFAC",
                "size": [
                  55,
                  55
                ],
                "position": [
                  0,
                  0
                ],
                "parentId": "group#Peru",
                "heat": 0.18655097613882862
              },
              {
                "id": "LHR",
                "properties": {
                  "label": "London",
                  "passengers": 61000000,
                  "country": "UK",
                  "country_id": "gb"
                },
                "coordinates": [
                  51.4775,
                  -0.461389
                ],
                "color": "#15AFAC",
                "styles": {},
                "label": "London",
                "scale_factor": 1,
                "type": "#15AFAC",
                "size": [
                  55,
                  55
                ],
                "position": [
                  0,
                  0
                ],
                "parentId": "group#UK",
                "heat": 0.6529284164859002
              },
              {
                "id": "FRA",
                "properties": {
                  "label": "Frankfurt",
                  "passengers": 48000000,
                  "country": "Germany",
                  "country_id": "de"
                },
                "coordinates": [
                  50.033333,
                  8.570556
                ],
                "color": "#15AFAC",
                "styles": {},
                "label": "Frankfurt",
                "scale_factor": 1,
                "type": "#15AFAC",
                "size": [
                  55,
                  55
                ],
                "position": [
                  0,
                  0
                ],
                "parentId": "group#Germany",
                "heat": 0.5119305856832972
              },
              {
                "id": "SVO",
                "properties": {
                  "label": "Moscow",
                  "passengers": 49000000,
                  "country": "Russia",
                  "country_id": "ru"
                },
                "coordinates": [
                  55.972642,
                  37.414589
                ],
                "color": "#15AFAC",
                "styles": {},
                "label": "Moscow",
                "scale_factor": 1,
                "type": "#15AFAC",
                "size": [
                  55,
                  55
                ],
                "position": [
                  0,
                  0
                ],
                "parentId": "group#Russia",
                "heat": 0.5227765726681128
              },
              {
                "id": "DEL",
                "properties": {
                  "label": "New Delhi",
                  "passengers": 39000000,
                  "country": "India",
                  "country_id": "in"
                },
                "coordinates": [
                  28.5665,
                  77.103089
                ],
                "color": "#15AFAC",
                "styles": {},
                "label": "New Delhi",
                "scale_factor": 1,
                "type": "#15AFAC",
                "size": [
                  55,
                  55
                ],
                "position": [
                  0,
                  0
                ],
                "parentId": "group#India",
                "heat": 0.41431670281995664
              },
              {
                "id": "PVG",
                "properties": {
                  "label": "Shanghai",
                  "passengers": 32000000,
                  "country": "China",
                  "country_id": "hk"
                },
                "coordinates": [
                  31.143378,
                  121.805214
                ],
                "color": "#15AFAC",
                "styles": {},
                "label": "Shanghai",
                "scale_factor": 1,
                "type": "#15AFAC",
                "size": [
                  55,
                  55
                ],
                "position": [
                  0,
                  0
                ],
                "parentId": "group#China",
                "heat": 0.3383947939262473
              },
              {
                "id": "HKG",
                "properties": {
                  "label": "Hongkong",
                  "passengers": 1000000,
                  "country": "China",
                  "country_id": "hk"
                },
                "coordinates": [
                  22.308919,
                  113.914603
                ],
                "color": "#15AFAC",
                "styles": {},
                "label": "Hongkong",
                "scale_factor": 1,
                "type": "#15AFAC",
                "size": [
                  55,
                  55
                ],
                "position": [
                  0,
                  0
                ],
                "parentId": "group#China",
                "heat": 0.0021691973969631237
              },
              {
                "id": "NRT",
                "properties": {
                  "label": "Tokio",
                  "passengers": 15000000,
                  "country": "Japan",
                  "country_id": "jp"
                },
                "coordinates": [
                  35.764722,
                  140.386389
                ],
                "color": "#15AFAC",
                "styles": {},
                "label": "Tokio",
                "scale_factor": 1,
                "type": "#15AFAC",
                "size": [
                  55,
                  55
                ],
                "position": [
                  0,
                  0
                ],
                "parentId": "group#Japan",
                "heat": 0.1540130151843818
              },
              {
                "id": "DXB",
                "properties": {
                  "label": "Dubai",
                  "passengers": 29000000,
                  "country": "UAE",
                  "country_id": "ae"
                },
                "coordinates": [
                  25.252778,
                  55.364444
                ],
                "color": "#15AFAC",
                "styles": {},
                "label": "Dubai",
                "scale_factor": 1,
                "type": "#15AFAC",
                "size": [
                  55,
                  55
                ],
                "position": [
                  0,
                  0
                ],
                "parentId": "group#UAE",
                "heat": 0.30585683297180044
              },
              {
                "id": "DKR",
                "properties": {
                  "label": "Dakar",
                  "passengers": 2000000,
                  "country": "Senegal",
                  "country_id": "sn"
                },
                "coordinates": [
                  14.670833,
                  -17.072778
                ],
                "color": "#15AFAC",
                "styles": {},
                "label": "Dakar",
                "scale_factor": 1,
                "type": "#15AFAC",
                "size": [
                  55,
                  55
                ],
                "position": [
                  0,
                  0
                ],
                "parentId": "group#Senegal",
                "heat": 0.013015184381778741
              },
              {
                "id": "JNB",
                "properties": {
                  "label": "Johannesburg",
                  "passengers": 9000000,
                  "country": "South Africa",
                  "country_id": "za"
                },
                "coordinates": [
                  -26.133694,
                  28.242317
                ],
                "color": "#15AFAC",
                "styles": {},
                "label": "Johannesburg",
                "scale_factor": 1,
                "type": "#15AFAC",
                "size": [
                  55,
                  55
                ],
                "position": [
                  0,
                  0
                ],
                "parentId": "group#South Africa",
                "heat": 0.08893709327548807
              },
              {
                "id": "SYD",
                "properties": {
                  "label": "Sydney",
                  "passengers": 44000000,
                  "country": "Australia",
                  "country_id": "au"
                },
                "coordinates": [
                  -33.946111,
                  151.177222
                ],
                "color": "#15AFAC",
                "styles": {},
                "label": "Sydney",
                "scale_factor": 1,
                "type": "#15AFAC",
                "size": [
                  55,
                  55
                ],
                "position": [
                  0,
                  0
                ],
                "parentId": "group#Australia",
                "heat": 0.4685466377440347
              },
              {
                "id": "NBO",
                "properties": {
                  "label": "Nairobi",
                  "passengers": 900000,
                  "country": "Kenya",
                  "country_id": "ke"
                },
                "coordinates": [
                  -1.319167,
                  36.927778
                ],
                "color": "#15AFAC",
                "styles": {},
                "label": "Nairobi",
                "scale_factor": 1,
                "type": "#15AFAC",
                "size": [
                  55,
                  55
                ],
                "position": [
                  0,
                  0
                ],
                "parentId": "group#Kenya",
                "heat": 0.0010845986984815619
              },
              {
                "id": "ATL",
                "properties": {
                  "label": "Atlanta",
                  "passengers": 93000000,
                  "country": "USA",
                  "country_id": "us"
                },
                "coordinates": [
                  33.639167,
                  -84.427778
                ],
                "color": "#15AFAC",
                "styles": {},
                "label": "Atlanta",
                "scale_factor": 1,
                "type": "#15AFAC",
                "size": [
                  55,
                  55
                ],
                "position": [
                  0,
                  0
                ],
                "parentId": "group#USA",
                "heat": 1
              },
              {
                "id": "JFK",
                "properties": {
                  "label": "New York City",
                  "passengers": 55000000,
                  "country": "USA",
                  "country_id": "us"
                },
                "coordinates": [
                  40.63975,
                  -73.778925
                ],
                "color": "#15AFAC",
                "styles": {},
                "label": "New York City",
                "scale_factor": 1,
                "type": "#15AFAC",
                "size": [
                  55,
                  55
                ],
                "position": [
                  0,
                  0
                ],
                "parentId": "group#USA",
                "heat": 0.5878524945770065
              },
              {
                "id": "CAI",
                "properties": {
                  "label": "Cairo",
                  "passengers": 14000000,
                  "country": "Egypt",
                  "country_id": "eg"
                },
                "coordinates": [
                  30.121944,
                  31.405556
                ],
                "color": "#15AFAC",
                "styles": {},
                "label": "Cairo",
                "scale_factor": 1,
                "type": "#15AFAC",
                "size": [
                  55,
                  55
                ],
                "position": [
                  0,
                  0
                ],
                "parentId": "group#Egypt",
                "heat": 0.14316702819956617
              },
              {
                "id": "CMN",
                "properties": {
                  "label": "Casablanca",
                  "passengers": 7000000,
                  "country": "Morocco",
                  "country_id": "ma"
                },
                "coordinates": [
                  33.367467,
                  -7.589967
                ],
                "color": "#15AFAC",
                "styles": {},
                "label": "Casablanca",
                "scale_factor": 1,
                "type": "#15AFAC",
                "size": [
                  55,
                  55
                ],
                "position": [
                  0,
                  0
                ],
                "parentId": "group#Morocco",
                "heat": 0.06724511930585683
              },
              {
                "id": "LOS",
                "properties": {
                  "label": "Lagos",
                  "passengers": 5000000,
                  "country": "Nigeria",
                  "country_id": "ng"
                },
                "coordinates": [
                  6.577222,
                  3.321111
                ],
                "color": "#15AFAC",
                "styles": {},
                "label": "Lagos",
                "scale_factor": 1,
                "type": "#15AFAC",
                "size": [
                  55,
                  55
                ],
                "position": [
                  0,
                  0
                ],
                "parentId": "group#Nigeria",
                "heat": 0.0455531453362256
              },
              {
                "id": "CPT",
                "properties": {
                  "label": "Cape Town",
                  "passengers": 5000000,
                  "country": "South Africa",
                  "country_id": "za"
                },
                "coordinates": [
                  -33.969444,
                  18.597222
                ],
                "color": "#15AFAC",
                "styles": {},
                "label": "Cape Town",
                "scale_factor": 1,
                "type": "#15AFAC",
                "size": [
                  55,
                  55
                ],
                "position": [
                  0,
                  0
                ],
                "parentId": "group#South Africa",
                "heat": 0.0455531453362256
              },
              {
                "id": "CTU",
                "properties": {
                  "label": "Chengdu",
                  "passengers": 40000000,
                  "country": "China",
                  "country_id": "hk"
                },
                "coordinates": [
                  30.578333,
                  103.946944
                ],
                "color": "#15AFAC",
                "styles": {},
                "label": "Chengdu",
                "scale_factor": 1,
                "type": "#15AFAC",
                "size": [
                  55,
                  55
                ],
                "position": [
                  0,
                  0
                ],
                "parentId": "group#China",
                "heat": 0.42516268980477223
              },
              {
                "id": "CGK",
                "properties": {
                  "label": "Jakarta",
                  "passengers": 54000000,
                  "country": "Indonesia",
                  "country_id": "id"
                },
                "coordinates": [
                  -6.125567,
                  106.655897
                ],
                "color": "#15AFAC",
                "styles": {},
                "label": "Jakarta",
                "scale_factor": 1,
                "type": "#15AFAC",
                "size": [
                  55,
                  55
                ],
                "position": [
                  0,
                  0
                ],
                "parentId": "group#Indonesia",
                "heat": 0.5770065075921909
              },
              {
                "id": "IKA",
                "properties": {
                  "label": "Teheran",
                  "passengers": 8000000,
                  "country": "Iran",
                  "country_id": "ir"
                },
                "coordinates": [
                  35.416111,
                  51.152222
                ],
                "color": "#15AFAC",
                "styles": {},
                "label": "Teheran",
                "scale_factor": 1,
                "type": "#15AFAC",
                "size": [
                  55,
                  55
                ],
                "position": [
                  0,
                  0
                ],
                "parentId": "group#Iran",
                "heat": 0.07809110629067245
              },
              {
                "id": "TLV",
                "properties": {
                  "label": "Tel Aviv",
                  "passengers": 20000000,
                  "country": "Israel",
                  "country_id": "il"
                },
                "coordinates": [
                  32.011389,
                  34.886667
                ],
                "color": "#15AFAC",
                "styles": {},
                "label": "Tel Aviv",
                "scale_factor": 1,
                "type": "#15AFAC",
                "size": [
                  55,
                  55
                ],
                "position": [
                  0,
                  0
                ],
                "parentId": "group#Israel",
                "heat": 0.20824295010845986
              },
              {
                "id": "KUL",
                "properties": {
                  "label": "Kuala Lumpur",
                  "passengers": 25000000,
                  "country": "Malaysia",
                  "country_id": "my"
                },
                "coordinates": [
                  2.745578,
                  101.709917
                ],
                "color": "#15AFAC",
                "styles": {},
                "label": "Kuala Lumpur",
                "scale_factor": 1,
                "type": "#15AFAC",
                "size": [
                  55,
                  55
                ],
                "position": [
                  0,
                  0
                ],
                "parentId": "group#Malaysia",
                "heat": 0.26247288503253796
              },
              {
                "id": "MNL",
                "properties": {
                  "label": "Manila",
                  "passengers": 8000000,
                  "country": "Philippines",
                  "country_id": "ph"
                },
                "coordinates": [
                  14.508647,
                  121.019581
                ],
                "color": "#15AFAC",
                "styles": {},
                "label": "Manila",
                "scale_factor": 1,
                "type": "#15AFAC",
                "size": [
                  55,
                  55
                ],
                "position": [
                  0,
                  0
                ],
                "parentId": "group#Philippines",
                "heat": 0.07809110629067245
              },
              {
                "id": "SIN",
                "properties": {
                  "label": "Singapur",
                  "passengers": 32000000,
                  "country": "Singapore",
                  "country_id": "sg"
                },
                "coordinates": [
                  1.350189,
                  103.994433
                ],
                "color": "#15AFAC",
                "styles": {},
                "label": "Singapur",
                "scale_factor": 1,
                "type": "#15AFAC",
                "size": [
                  55,
                  55
                ],
                "position": [
                  0,
                  0
                ],
                "parentId": "group#Singapore",
                "heat": 0.3383947939262473
              },
              {
                "id": "TPE",
                "properties": {
                  "label": "Taipeh",
                  "passengers": 800000,
                  "country": "Taiwan",
                  "country_id": "tw"
                },
                "coordinates": [
                  25.077732,
                  121.232822
                ],
                "color": "#15AFAC",
                "styles": {},
                "label": "Taipeh",
                "scale_factor": 1,
                "type": "#15AFAC",
                "size": [
                  55,
                  55
                ],
                "position": [
                  0,
                  0
                ],
                "parentId": "group#Taiwan",
                "heat": 0
              },
              {
                "id": "BKK",
                "properties": {
                  "label": "Bangkok",
                  "passengers": 65000000,
                  "country": "Thailand",
                  "country_id": "th"
                },
                "coordinates": [
                  13.681108,
                  100.747283
                ],
                "color": "#15AFAC",
                "styles": {},
                "label": "Bangkok",
                "scale_factor": 1,
                "type": "#15AFAC",
                "size": [
                  55,
                  55
                ],
                "position": [
                  0,
                  0
                ],
                "parentId": "group#Thailand",
                "heat": 0.6963123644251626
              },
              {
                "id": "IST",
                "properties": {
                  "label": "Istanbul",
                  "passengers": 64000000,
                  "country": "Turkey",
                  "country_id": "tr"
                },
                "coordinates": [
                  40.976922,
                  28.814606
                ],
                "color": "#15AFAC",
                "styles": {},
                "label": "Istanbul",
                "scale_factor": 1,
                "type": "#15AFAC",
                "size": [
                  55,
                  55
                ],
                "position": [
                  0,
                  0
                ],
                "parentId": "group#Turkey",
                "heat": 0.6854663774403471
              },
              {
                "id": "ULN",
                "properties": {
                  "label": "Ulaanbaatar",
                  "passengers": 1000000,
                  "country": "Mongolia",
                  "country_id": "mn"
                },
                "coordinates": [
                  47.843056,
                  106.766639
                ],
                "color": "#15AFAC",
                "styles": {},
                "label": "Ulaanbaatar",
                "scale_factor": 1,
                "type": "#15AFAC",
                "size": [
                  55,
                  55
                ],
                "position": [
                  0,
                  0
                ],
                "parentId": "group#Mongolia",
                "heat": 0.0021691973969631237
              },
              {
                "id": "MEL",
                "properties": {
                  "label": "Melbourne",
                  "passengers": 12000000,
                  "country": "Australia",
                  "country_id": "au"
                },
                "coordinates": [
                  -37.673333,
                  144.843333
                ],
                "color": "#15AFAC",
                "styles": {},
                "label": "Melbourne",
                "scale_factor": 1,
                "type": "#15AFAC",
                "size": [
                  55,
                  55
                ],
                "position": [
                  0,
                  0
                ],
                "parentId": "group#Australia",
                "heat": 0.12147505422993492
              },
              {
                "id": "BNE",
                "properties": {
                  "label": "Brisbane",
                  "passengers": 23000000,
                  "country": "Australia",
                  "country_id": "au"
                },
                "coordinates": [
                  -27.383333,
                  153.118056
                ],
                "color": "#15AFAC",
                "styles": {},
                "label": "Brisbane",
                "scale_factor": 1,
                "type": "#15AFAC",
                "size": [
                  55,
                  55
                ],
                "position": [
                  0,
                  0
                ],
                "parentId": "group#Australia",
                "heat": 0.24078091106290672
              },
              {
                "id": "NAN",
                "properties": {
                  "label": "Nadi",
                  "passengers": 2000000,
                  "country": "Fiji",
                  "country_id": "fj"
                },
                "coordinates": [
                  -17.755392,
                  177.443378
                ],
                "color": "#15AFAC",
                "styles": {},
                "label": "Nadi",
                "scale_factor": 1,
                "type": "#15AFAC",
                "size": [
                  55,
                  55
                ],
                "position": [
                  0,
                  0
                ],
                "parentId": "group#Fiji",
                "heat": 0.013015184381778741
              },
              {
                "id": "AKL",
                "properties": {
                  "label": "Auckland",
                  "passengers": 21000000,
                  "country": "New Zealand",
                  "country_id": "nz"
                },
                "coordinates": [
                  -37.008056,
                  174.791667
                ],
                "color": "#15AFAC",
                "styles": {},
                "label": "Auckland",
                "scale_factor": 1,
                "type": "#15AFAC",
                "size": [
                  55,
                  55
                ],
                "position": [
                  0,
                  0
                ],
                "parentId": "group#New Zealand",
                "heat": 0.21908893709327548
              },
              {
                "id": "CDG",
                "properties": {
                  "label": "Paris",
                  "passengers": 57000000,
                  "country": "France",
                  "country_id": "fr"
                },
                "coordinates": [
                  49.009722,
                  2.547778
                ],
                "color": "#15AFAC",
                "styles": {},
                "label": "Paris",
                "scale_factor": 1,
                "type": "#15AFAC",
                "size": [
                  55,
                  55
                ],
                "position": [
                  0,
                  0
                ],
                "parentId": "group#France",
                "heat": 0.6095444685466378
              },
              {
                "id": "MAD",
                "properties": {
                  "label": "Madrid",
                  "passengers": 50000000,
                  "country": "Spain",
                  "country_id": "es"
                },
                "coordinates": [
                  40.4675,
                  -3.551944
                ],
                "color": "#15AFAC",
                "styles": {},
                "label": "Madrid",
                "scale_factor": 1,
                "type": "#15AFAC",
                "size": [
                  55,
                  55
                ],
                "position": [
                  0,
                  0
                ],
                "parentId": "group#Spain",
                "heat": 0.5336225596529284
              },
              {
                "id": "BCN",
                "properties": {
                  "label": "Barcelona",
                  "passengers": 41000000,
                  "country": "Spain",
                  "country_id": "es"
                },
                "coordinates": [
                  41.297078,
                  2.078464
                ],
                "color": "#15AFAC",
                "styles": {},
                "label": "Barcelona",
                "scale_factor": 1,
                "type": "#15AFAC",
                "size": [
                  55,
                  55
                ],
                "position": [
                  0,
                  0
                ],
                "parentId": "group#Spain",
                "heat": 0.4360086767895879
              },
              {
                "id": "FCO",
                "properties": {
                  "label": "Rome",
                  "passengers": 29000000,
                  "country": "Italy",
                  "country_id": "it"
                },
                "coordinates": [
                  41.804444,
                  12.250833
                ],
                "color": "#15AFAC",
                "styles": {},
                "label": "Rome",
                "scale_factor": 1,
                "type": "#15AFAC",
                "size": [
                  55,
                  55
                ],
                "position": [
                  0,
                  0
                ],
                "parentId": "group#Italy",
                "heat": 0.30585683297180044
              },
              {
                "id": "CPH",
                "properties": {
                  "label": "Copenhagen",
                  "passengers": 30000000,
                  "country": "Denmark",
                  "country_id": "dk"
                },
                "coordinates": [
                  55.617917,
                  12.655972
                ],
                "color": "#15AFAC",
                "styles": {},
                "label": "Copenhagen",
                "scale_factor": 1,
                "type": "#15AFAC",
                "size": [
                  55,
                  55
                ],
                "position": [
                  0,
                  0
                ],
                "parentId": "group#Denmark",
                "heat": 0.31670281995661603
              },
              {
                "id": "HEL",
                "properties": {
                  "label": "Helsinki",
                  "passengers": 5000000,
                  "country": "Finland",
                  "country_id": "fi"
                },
                "coordinates": [
                  60.317222,
                  24.963333
                ],
                "color": "#15AFAC",
                "styles": {},
                "label": "Helsinki",
                "scale_factor": 1,
                "type": "#15AFAC",
                "size": [
                  55,
                  55
                ],
                "position": [
                  0,
                  0
                ],
                "parentId": "group#Finland",
                "heat": 0.0455531453362256
              },
              {
                "id": "ATH",
                "properties": {
                  "label": "Athens",
                  "passengers": 22000000,
                  "country": "Greece",
                  "country_id": "gr"
                },
                "coordinates": [
                  37.936358,
                  23.944467
                ],
                "color": "#15AFAC",
                "styles": {},
                "label": "Athens",
                "scale_factor": 1,
                "type": "#15AFAC",
                "size": [
                  55,
                  55
                ],
                "position": [
                  0,
                  0
                ],
                "parentId": "group#Greece",
                "heat": 0.2299349240780911
              },
              {
                "id": "DUB",
                "properties": {
                  "label": "Dublin",
                  "passengers": 32000000,
                  "country": "Ireland",
                  "country_id": "ie"
                },
                "coordinates": [
                  53.421333,
                  -6.270075
                ],
                "color": "#15AFAC",
                "styles": {},
                "label": "Dublin",
                "scale_factor": 1,
                "type": "#15AFAC",
                "size": [
                  55,
                  55
                ],
                "position": [
                  0,
                  0
                ],
                "parentId": "group#Ireland",
                "heat": 0.3383947939262473
              },
              {
                "id": "RKV",
                "properties": {
                  "label": "Reykjavik",
                  "passengers": 400000,
                  "country": "Iceland",
                  "country_id": "is"
                },
                "coordinates": [
                  64.13,
                  -21.940556
                ],
                "color": "#15AFAC",
                "styles": {},
                "label": "Reykjavik",
                "scale_factor": 1,
                "type": "#15AFAC",
                "size": [
                  55,
                  55
                ],
                "position": [
                  0,
                  0
                ],
                "parentId": "group#Iceland",
                "heat": -0.004338394793926247
              },
              {
                "id": "OSL",
                "properties": {
                  "label": "Oslo",
                  "passengers": 9000000,
                  "country": "Norway",
                  "country_id": "no"
                },
                "coordinates": [
                  60.193917,
                  11.100361
                ],
                "color": "#15AFAC",
                "styles": {},
                "label": "Oslo",
                "scale_factor": 1,
                "type": "#15AFAC",
                "size": [
                  55,
                  55
                ],
                "position": [
                  0,
                  0
                ],
                "parentId": "group#Norway",
                "heat": 0.08893709327548807
              },
              {
                "id": "VIE",
                "properties": {
                  "label": "Vienna",
                  "passengers": 10000000,
                  "country": "Austria",
                  "country_id": "at"
                },
                "coordinates": [
                  48.110833,
                  16.570833
                ],
                "color": "#15AFAC",
                "styles": {},
                "label": "Vienna",
                "scale_factor": 1,
                "type": "#15AFAC",
                "size": [
                  55,
                  55
                ],
                "position": [
                  0,
                  0
                ],
                "parentId": "group#Austria",
                "heat": 0.09978308026030369
              },
              {
                "id": "LIS",
                "properties": {
                  "label": "Lisbon",
                  "passengers": 28000000,
                  "country": "Portugal",
                  "country_id": "pt"
                },
                "coordinates": [
                  38.774167,
                  -9.134167
                ],
                "color": "#15AFAC",
                "styles": {},
                "label": "Lisbon",
                "scale_factor": 1,
                "type": "#15AFAC",
                "size": [
                  55,
                  55
                ],
                "position": [
                  0,
                  0
                ],
                "parentId": "group#Portugal",
                "heat": 0.2950108459869848
              },
              {
                "id": "ARN",
                "properties": {
                  "label": "Stockholm",
                  "passengers": 7000000,
                  "country": "Sweden",
                  "country_id": "se"
                },
                "coordinates": [
                  59.651944,
                  17.918611
                ],
                "color": "#15AFAC",
                "styles": {},
                "label": "Stockholm",
                "scale_factor": 1,
                "type": "#15AFAC",
                "size": [
                  55,
                  55
                ],
                "position": [
                  0,
                  0
                ],
                "parentId": "group#Sweden",
                "heat": 0.06724511930585683
              },
              {
                "id": "EDI",
                "properties": {
                  "label": "Edinburgh",
                  "passengers": 14000000,
                  "country": "UK",
                  "country_id": "gb"
                },
                "coordinates": [
                  55.95,
                  -3.3725
                ],
                "color": "#15AFAC",
                "styles": {},
                "label": "Edinburgh",
                "scale_factor": 1,
                "type": "#15AFAC",
                "size": [
                  55,
                  55
                ],
                "position": [
                  0,
                  0
                ],
                "parentId": "group#UK",
                "heat": 0.14316702819956617
              },
              {
                "id": "ORD",
                "properties": {
                  "label": "Chicago",
                  "passengers": 54000000,
                  "country": "USA",
                  "country_id": "us"
                },
                "coordinates": [
                  41.978603,
                  -87.904842
                ],
                "color": "#15AFAC",
                "styles": {},
                "label": "Chicago",
                "scale_factor": 1,
                "type": "#15AFAC",
                "size": [
                  55,
                  55
                ],
                "position": [
                  0,
                  0
                ],
                "parentId": "group#USA",
                "heat": 0.5770065075921909
              },
              {
                "id": "DFW",
                "properties": {
                  "label": "Dallas",
                  "passengers": 73000000,
                  "country": "USA",
                  "country_id": "us"
                },
                "coordinates": [
                  32.896828,
                  -97.037997
                ],
                "color": "#15AFAC",
                "styles": {},
                "label": "Dallas",
                "scale_factor": 1,
                "type": "#15AFAC",
                "size": [
                  55,
                  55
                ],
                "position": [
                  0,
                  0
                ],
                "parentId": "group#USA",
                "heat": 0.7830802603036876
              },
              {
                "id": "SFO",
                "properties": {
                  "label": "San Francisco",
                  "passengers": 42000000,
                  "country": "USA",
                  "country_id": "us"
                },
                "coordinates": [
                  37.618972,
                  -122.374889
                ],
                "color": "#15AFAC",
                "styles": {},
                "label": "San Francisco",
                "scale_factor": 1,
                "type": "#15AFAC",
                "size": [
                  55,
                  55
                ],
                "position": [
                  0,
                  0
                ],
                "parentId": "group#USA",
                "heat": 0.44685466377440347
              },
              {
                "id": "LAS",
                "properties": {
                  "label": "Las Vegas",
                  "passengers": 52000000,
                  "country": "USA",
                  "country_id": "us"
                },
                "coordinates": [
                  36.080056,
                  -115.15225
                ],
                "color": "#15AFAC",
                "styles": {},
                "label": "Las Vegas",
                "scale_factor": 1,
                "type": "#15AFAC",
                "size": [
                  55,
                  55
                ],
                "position": [
                  0,
                  0
                ],
                "parentId": "group#USA",
                "heat": 0.5553145336225597
              },
              {
                "id": "MIA",
                "properties": {
                  "label": "Miami",
                  "passengers": 50000000,
                  "country": "USA",
                  "country_id": "us"
                },
                "coordinates": [
                  25.79325,
                  -80.290556
                ],
                "color": "#15AFAC",
                "styles": {},
                "label": "Miami",
                "scale_factor": 1,
                "type": "#15AFAC",
                "size": [
                  55,
                  55
                ],
                "position": [
                  0,
                  0
                ],
                "parentId": "group#USA",
                "heat": 0.5336225596529284
              },
              {
                "id": "YYZ",
                "properties": {
                  "label": "Toronto",
                  "passengers": 12000000,
                  "country": "Canada",
                  "country_id": "ca"
                },
                "coordinates": [
                  43.677222,
                  -79.630556
                ],
                "color": "#15AFAC",
                "styles": {},
                "label": "Toronto",
                "scale_factor": 1,
                "type": "#15AFAC",
                "size": [
                  55,
                  55
                ],
                "position": [
                  0,
                  0
                ],
                "parentId": "group#Canada",
                "heat": 0.12147505422993492
              },
              {
                "id": "YVR",
                "properties": {
                  "label": "Vancouver",
                  "passengers": 19000000,
                  "country": "Canada",
                  "country_id": "ca"
                },
                "coordinates": [
                  49.193889,
                  -123.184444
                ],
                "color": "#15AFAC",
                "styles": {},
                "label": "Vancouver",
                "scale_factor": 1,
                "type": "#15AFAC",
                "size": [
                  55,
                  55
                ],
                "position": [
                  0,
                  0
                ],
                "parentId": "group#Canada",
                "heat": 0.19739696312364424
              },
              {
                "id": "YUL",
                "properties": {
                  "label": "Montreal",
                  "passengers": 15000000,
                  "country": "Canada",
                  "country_id": "ca"
                },
                "coordinates": [
                  45.47175,
                  -73.736569
                ],
                "color": "#15AFAC",
                "styles": {},
                "label": "Montreal",
                "scale_factor": 1,
                "type": "#15AFAC",
                "size": [
                  55,
                  55
                ],
                "position": [
                  0,
                  0
                ],
                "parentId": "group#Canada",
                "heat": 0.1540130151843818
              },
              {
                "id": "MEX",
                "properties": {
                  "label": "Mexico-City",
                  "passengers": 46000000,
                  "country": "Mexico",
                  "country_id": "mx"
                },
                "coordinates": [
                  19.436303,
                  -99.072097
                ],
                "color": "#15AFAC",
                "styles": {},
                "label": "Mexico-City",
                "scale_factor": 1,
                "type": "#15AFAC",
                "size": [
                  55,
                  55
                ],
                "position": [
                  0,
                  0
                ],
                "parentId": "group#Mexico",
                "heat": 0.49023861171366595
              },
              {
                "id": "GUA",
                "properties": {
                  "label": "Guatemala-City",
                  "passengers": 2000000,
                  "country": "Guatemala",
                  "country_id": "gt"
                },
                "coordinates": [
                  14.583272,
                  -90.527475
                ],
                "color": "#15AFAC",
                "styles": {},
                "label": "Guatemala-City",
                "scale_factor": 1,
                "type": "#15AFAC",
                "size": [
                  55,
                  55
                ],
                "position": [
                  0,
                  0
                ],
                "parentId": "group#Guatemala",
                "heat": 0.013015184381778741
              },
              {
                "id": "EZE",
                "properties": {
                  "label": "Buenos Aires",
                  "passengers": 5000000,
                  "country": "Argentina",
                  "country_id": "ar"
                },
                "coordinates": [
                  -34.822222,
                  -58.535833
                ],
                "color": "#15AFAC",
                "styles": {},
                "label": "Buenos Aires",
                "scale_factor": 1,
                "type": "#15AFAC",
                "size": [
                  55,
                  55
                ],
                "position": [
                  0,
                  0
                ],
                "parentId": "group#Argentina",
                "heat": 0.0455531453362256
              },
              {
                "id": "GRU",
                "properties": {
                  "label": "Sao Paulo",
                  "passengers": 34000000,
                  "country": "Brazil",
                  "country_id": "br"
                },
                "coordinates": [
                  -23.432075,
                  -46.469511
                ],
                "color": "#15AFAC",
                "styles": {},
                "label": "Sao Paulo",
                "scale_factor": 1,
                "type": "#15AFAC",
                "size": [
                  55,
                  55
                ],
                "position": [
                  0,
                  0
                ],
                "parentId": "group#Brazil",
                "heat": 0.3600867678958785
              },
              {
                "id": "SCL",
                "properties": {
                  "label": "Santiago de Chile",
                  "passengers": 20000000,
                  "country": "Chile",
                  "country_id": "cl"
                },
                "coordinates": [
                  -33.392975,
                  -70.785803
                ],
                "color": "#15AFAC",
                "styles": {},
                "label": "Santiago de Chile",
                "scale_factor": 1,
                "type": "#15AFAC",
                "size": [
                  55,
                  55
                ],
                "position": [
                  0,
                  0
                ],
                "parentId": "group#Chile",
                "heat": 0.20824295010845986
              },
              {
                "id": "BSB",
                "properties": {
                  "label": "Brasilia",
                  "passengers": 13000000,
                  "country": "Brazil",
                  "country_id": "br"
                },
                "coordinates": [
                  -15.871111,
                  -47.918611
                ],
                "color": "#15AFAC",
                "styles": {},
                "label": "Brasilia",
                "scale_factor": 1,
                "type": "#15AFAC",
                "size": [
                  55,
                  55
                ],
                "position": [
                  0,
                  0
                ],
                "parentId": "group#Brazil",
                "heat": 0.13232104121475055
              },
              {
                "id": "BOG",
                "properties": {
                  "label": "Bogota",
                  "passengers": 36000000,
                  "country": "Colombia",
                  "country_id": "co"
                },
                "coordinates": [
                  4.701594,
                  -74.146947
                ],
                "color": "#15AFAC",
                "styles": {},
                "label": "Bogota",
                "scale_factor": 1,
                "type": "#15AFAC",
                "size": [
                  55,
                  55
                ],
                "position": [
                  0,
                  0
                ],
                "parentId": "group#Colombia",
                "heat": 0.38177874186550975
              },
              {
                "id": "CCS",
                "properties": {
                  "label": "Caracas",
                  "passengers": 8000000,
                  "country": "Venezuela",
                  "country_id": "ve"
                },
                "coordinates": [
                  10.601194,
                  -66.991222
                ],
                "color": "#15AFAC",
                "styles": {},
                "label": "Caracas",
                "scale_factor": 1,
                "type": "#15AFAC",
                "size": [
                  55,
                  55
                ],
                "position": [
                  0,
                  0
                ],
                "parentId": "group#Venezuela",
                "heat": 0.07809110629067245
              }
            ],
            "_overview": {
              "enabled": null,
              "overview_set": false
            },
            "_selected_graph": [
              [],
              []
            ],
            "_sidebar": {
              "enabled": false,
              "start_with": null
            },
            "_view_count": null,
            "_view_module": "yfiles-jupyter-graphs",
            "_view_module_version": "^1.10.8",
            "_view_name": "GraphView",
            "layout": "IPY_MODEL_8a268bd2e22342a190e85dc3a30094a3"
          }
        },
        "8a268bd2e22342a190e85dc3a30094a3": {
          "model_module": "@jupyter-widgets/base",
          "model_name": "LayoutModel",
          "model_module_version": "1.2.0",
          "state": {
            "_model_module": "@jupyter-widgets/base",
            "_model_module_version": "1.2.0",
            "_model_name": "LayoutModel",
            "_view_count": null,
            "_view_module": "@jupyter-widgets/base",
            "_view_module_version": "1.2.0",
            "_view_name": "LayoutView",
            "align_content": null,
            "align_items": null,
            "align_self": null,
            "border": null,
            "bottom": null,
            "display": null,
            "flex": null,
            "flex_flow": null,
            "grid_area": null,
            "grid_auto_columns": null,
            "grid_auto_flow": null,
            "grid_auto_rows": null,
            "grid_column": null,
            "grid_gap": null,
            "grid_row": null,
            "grid_template_areas": null,
            "grid_template_columns": null,
            "grid_template_rows": null,
            "height": "800px",
            "justify_content": null,
            "justify_items": null,
            "left": null,
            "margin": null,
            "max_height": null,
            "max_width": null,
            "min_height": null,
            "min_width": null,
            "object_fit": null,
            "object_position": null,
            "order": null,
            "overflow": null,
            "overflow_x": null,
            "overflow_y": null,
            "padding": null,
            "right": null,
            "top": null,
            "visibility": null,
            "width": "100%"
          }
        },
        "de9c214265a145028fde614d85191149": {
          "model_module": "yfiles-jupyter-graphs",
          "model_name": "GraphModel",
          "model_module_version": "^1.10.8",
          "state": {
            "_context_pane_mapping": [
              {
                "id": "Neighborhood",
                "title": "Neighborhood"
              },
              {
                "id": "Data",
                "title": "Data"
              },
              {
                "id": "Search",
                "title": "Search"
              },
              {
                "id": "About",
                "title": "About"
              }
            ],
            "_data_importer": "unknown",
            "_directed": false,
            "_dom_classes": [],
            "_edges": [
              {
                "start": "LAX",
                "end": "JFK",
                "label": "",
                "properties": {},
                "directed": false,
                "id": "6f28225c-73c4-4e2a-a518-78f8356ad78e",
                "color": "#15AFAC",
                "thickness_factor": 1,
                "styles": {},
                "heat": 0
              },
              {
                "start": "JFK",
                "end": "GIG",
                "label": "",
                "properties": {},
                "directed": false,
                "id": "ae218385-9a36-4c4c-9f6f-c9f3b47e7747",
                "color": "#15AFAC",
                "thickness_factor": 1,
                "styles": {},
                "heat": 0
              },
              {
                "start": "JFK",
                "end": "LIM",
                "label": "",
                "properties": {},
                "directed": false,
                "id": "194338ea-cb46-4438-aa12-984b79d5a056",
                "color": "#15AFAC",
                "thickness_factor": 1,
                "styles": {},
                "heat": 0
              },
              {
                "start": "JFK",
                "end": "LHR",
                "label": "",
                "properties": {},
                "directed": false,
                "id": "df2d274f-0310-49e0-a15b-bd1d7371ef61",
                "color": "#15AFAC",
                "thickness_factor": 1,
                "styles": {},
                "heat": 0
              },
              {
                "start": "GIG",
                "end": "FRA",
                "label": "",
                "properties": {},
                "directed": false,
                "id": "0c70ffcf-cc40-497b-bf11-65d1ea3c513c",
                "color": "#15AFAC",
                "thickness_factor": 1,
                "styles": {},
                "heat": 0
              },
              {
                "start": "LIM",
                "end": "GIG",
                "label": "",
                "properties": {},
                "directed": false,
                "id": "ba4a3fdb-aa49-4022-ba54-34d5aeeae5e1",
                "color": "#15AFAC",
                "thickness_factor": 1,
                "styles": {},
                "heat": 0
              },
              {
                "start": "FRA",
                "end": "JFK",
                "label": "",
                "properties": {},
                "directed": false,
                "id": "6c36e3d8-bf34-4c61-a5f5-6cb8ab0b4c23",
                "color": "#15AFAC",
                "thickness_factor": 1,
                "styles": {},
                "heat": 0
              },
              {
                "start": "LHR",
                "end": "FRA",
                "label": "",
                "properties": {},
                "directed": false,
                "id": "3ace757d-ec63-4478-b1a5-47740c66573e",
                "color": "#15AFAC",
                "thickness_factor": 1,
                "styles": {},
                "heat": 0
              },
              {
                "start": "FRA",
                "end": "SVO",
                "label": "",
                "properties": {},
                "directed": false,
                "id": "7ffff4fb-3009-4b02-b346-effcb0830e8d",
                "color": "#15AFAC",
                "thickness_factor": 1,
                "styles": {},
                "heat": 0
              },
              {
                "start": "FRA",
                "end": "DXB",
                "label": "",
                "properties": {},
                "directed": false,
                "id": "b33eb52b-b41b-42f5-85d8-0d7c9ec358aa",
                "color": "#15AFAC",
                "thickness_factor": 1,
                "styles": {},
                "heat": 0
              },
              {
                "start": "SVO",
                "end": "DEL",
                "label": "",
                "properties": {},
                "directed": false,
                "id": "1c8fb25b-4680-414e-bc61-1b0fa5db5429",
                "color": "#15AFAC",
                "thickness_factor": 1,
                "styles": {},
                "heat": 0
              },
              {
                "start": "SVO",
                "end": "PVG",
                "label": "",
                "properties": {},
                "directed": false,
                "id": "ea5b3d84-c0c7-47df-a445-3013b56fdaee",
                "color": "#15AFAC",
                "thickness_factor": 1,
                "styles": {},
                "heat": 0
              },
              {
                "start": "DEL",
                "end": "HKG",
                "label": "",
                "properties": {},
                "directed": false,
                "id": "4e4f12a0-7d38-462e-9d08-11f7d1fc4e75",
                "color": "#15AFAC",
                "thickness_factor": 1,
                "styles": {},
                "heat": 0
              },
              {
                "start": "PVG",
                "end": "HKG",
                "label": "",
                "properties": {},
                "directed": false,
                "id": "d05d8e99-c4fd-447a-8a55-e1f639b6df54",
                "color": "#15AFAC",
                "thickness_factor": 1,
                "styles": {},
                "heat": 0
              },
              {
                "start": "PVG",
                "end": "NRT",
                "label": "",
                "properties": {},
                "directed": false,
                "id": "a9ec5c74-c008-4beb-81be-91ef8337b1b3",
                "color": "#15AFAC",
                "thickness_factor": 1,
                "styles": {},
                "heat": 0
              },
              {
                "start": "HKG",
                "end": "SYD",
                "label": "",
                "properties": {},
                "directed": false,
                "id": "9126b224-b45a-44d0-a295-9145bd203b7e",
                "color": "#15AFAC",
                "thickness_factor": 1,
                "styles": {},
                "heat": 0
              },
              {
                "start": "NRT",
                "end": "SYD",
                "label": "",
                "properties": {},
                "directed": false,
                "id": "9fa1e63a-63bc-4d6a-8b38-b95cfa07c203",
                "color": "#15AFAC",
                "thickness_factor": 1,
                "styles": {},
                "heat": 0
              },
              {
                "start": "DXB",
                "end": "SVO",
                "label": "",
                "properties": {},
                "directed": false,
                "id": "03ab691f-a3c4-40d8-a7d9-5e9915c1f29a",
                "color": "#15AFAC",
                "thickness_factor": 1,
                "styles": {},
                "heat": 0
              },
              {
                "start": "DXB",
                "end": "DEL",
                "label": "",
                "properties": {},
                "directed": false,
                "id": "9f758073-8f56-41b4-a9c0-445636d9d66c",
                "color": "#15AFAC",
                "thickness_factor": 1,
                "styles": {},
                "heat": 0
              },
              {
                "start": "DXB",
                "end": "DKR",
                "label": "",
                "properties": {},
                "directed": false,
                "id": "6f269590-9d5d-4696-ac7c-a011939d5d6a",
                "color": "#15AFAC",
                "thickness_factor": 1,
                "styles": {},
                "heat": 0
              },
              {
                "start": "DXB",
                "end": "JNB",
                "label": "",
                "properties": {},
                "directed": false,
                "id": "03c4b82d-4020-444c-8c1a-0406623c2656",
                "color": "#15AFAC",
                "thickness_factor": 1,
                "styles": {},
                "heat": 0
              },
              {
                "start": "JNB",
                "end": "LHR",
                "label": "",
                "properties": {},
                "directed": false,
                "id": "97aec433-5866-4905-b265-03fb0e1c587a",
                "color": "#15AFAC",
                "thickness_factor": 1,
                "styles": {},
                "heat": 0
              },
              {
                "start": "JNB",
                "end": "DKR",
                "label": "",
                "properties": {},
                "directed": false,
                "id": "e066475a-f60b-4b9b-81cd-022d744a1954",
                "color": "#15AFAC",
                "thickness_factor": 1,
                "styles": {},
                "heat": 0
              },
              {
                "start": "SYD",
                "end": "DXB",
                "label": "",
                "properties": {},
                "directed": false,
                "id": "c43817d1-8071-445a-961e-8f7875c57786",
                "color": "#15AFAC",
                "thickness_factor": 1,
                "styles": {},
                "heat": 0
              },
              {
                "start": "NBO",
                "end": "JNB",
                "label": "",
                "properties": {},
                "directed": false,
                "id": "4fbc540e-24f2-41d7-9718-0a1af6ae985f",
                "color": "#15AFAC",
                "thickness_factor": 1,
                "styles": {},
                "heat": 0
              },
              {
                "start": "NBO",
                "end": "DXB",
                "label": "",
                "properties": {},
                "directed": false,
                "id": "bb1cca38-2e34-4481-8b0b-80a546b8248d",
                "color": "#15AFAC",
                "thickness_factor": 1,
                "styles": {},
                "heat": 0
              },
              {
                "start": "ATL",
                "end": "JFK",
                "label": "",
                "properties": {},
                "directed": false,
                "id": "69a480bf-3bce-494c-ad7b-e7c49318b041",
                "color": "#15AFAC",
                "thickness_factor": 1,
                "styles": {},
                "heat": 0
              },
              {
                "start": "LAX",
                "end": "ATL",
                "label": "",
                "properties": {},
                "directed": false,
                "id": "d6e77824-7306-4fbf-9bc9-b0ce63c6a9a5",
                "color": "#15AFAC",
                "thickness_factor": 1,
                "styles": {},
                "heat": 0
              },
              {
                "start": "ATL",
                "end": "LHR",
                "label": "",
                "properties": {},
                "directed": false,
                "id": "5adfb942-ce2c-4014-955d-dbf90c1fc7f2",
                "color": "#15AFAC",
                "thickness_factor": 1,
                "styles": {},
                "heat": 0
              },
              {
                "start": "ATL",
                "end": "LIM",
                "label": "",
                "properties": {},
                "directed": false,
                "id": "2530fc2e-1136-479a-9539-3f79238a388d",
                "color": "#15AFAC",
                "thickness_factor": 1,
                "styles": {},
                "heat": 0
              },
              {
                "start": "SCL",
                "end": "LIM",
                "label": "",
                "properties": {},
                "directed": false,
                "id": "99a4d526-0ff1-4b42-88d7-d2c4b8864172",
                "color": "#15AFAC",
                "thickness_factor": 1,
                "styles": {},
                "heat": 0
              },
              {
                "start": "EZE",
                "end": "SCL",
                "label": "",
                "properties": {},
                "directed": false,
                "id": "30f26c28-114e-49b1-9260-9cdf93710f03",
                "color": "#15AFAC",
                "thickness_factor": 1,
                "styles": {},
                "heat": 0
              },
              {
                "start": "SCL",
                "end": "GRU",
                "label": "",
                "properties": {},
                "directed": false,
                "id": "ba016377-d4f0-4789-b4a9-7e54e1dcad12",
                "color": "#15AFAC",
                "thickness_factor": 1,
                "styles": {},
                "heat": 0
              },
              {
                "start": "GIG",
                "end": "EZE",
                "label": "",
                "properties": {},
                "directed": false,
                "id": "0c1d3bbb-c198-4013-a504-4c06401b8be3",
                "color": "#15AFAC",
                "thickness_factor": 1,
                "styles": {},
                "heat": 0
              },
              {
                "start": "GIG",
                "end": "GRU",
                "label": "",
                "properties": {},
                "directed": false,
                "id": "8f221d7c-42c0-4bd0-a709-f62e4961e0b1",
                "color": "#15AFAC",
                "thickness_factor": 1,
                "styles": {},
                "heat": 0
              },
              {
                "start": "BSB",
                "end": "GIG",
                "label": "",
                "properties": {},
                "directed": false,
                "id": "45334ad6-5c1a-449e-bcb0-8fbaf3929fe2",
                "color": "#15AFAC",
                "thickness_factor": 1,
                "styles": {},
                "heat": 0
              },
              {
                "start": "SCL",
                "end": "BSB",
                "label": "",
                "properties": {},
                "directed": false,
                "id": "4be7d62b-84f4-40e2-a500-b238795e29f1",
                "color": "#15AFAC",
                "thickness_factor": 1,
                "styles": {},
                "heat": 0
              },
              {
                "start": "LIM",
                "end": "BSB",
                "label": "",
                "properties": {},
                "directed": false,
                "id": "fe439a0c-dfdf-4397-82e0-26f38534f13f",
                "color": "#15AFAC",
                "thickness_factor": 1,
                "styles": {},
                "heat": 0
              },
              {
                "start": "BOG",
                "end": "BSB",
                "label": "",
                "properties": {},
                "directed": false,
                "id": "ccdf71e0-7283-4980-a19f-184c32984c79",
                "color": "#15AFAC",
                "thickness_factor": 1,
                "styles": {},
                "heat": 0
              },
              {
                "start": "CCS",
                "end": "BSB",
                "label": "",
                "properties": {},
                "directed": false,
                "id": "9490101e-a74a-43f8-b766-e589dc05dc7e",
                "color": "#15AFAC",
                "thickness_factor": 1,
                "styles": {},
                "heat": 0
              },
              {
                "start": "BOG",
                "end": "GUA",
                "label": "",
                "properties": {},
                "directed": false,
                "id": "852ff0ed-8c87-4c92-b801-e0dfb8ed6aad",
                "color": "#15AFAC",
                "thickness_factor": 1,
                "styles": {},
                "heat": 0
              },
              {
                "start": "CCS",
                "end": "MIA",
                "label": "",
                "properties": {},
                "directed": false,
                "id": "dd224294-7e2f-44de-9e9e-8f5ce772ca8f",
                "color": "#15AFAC",
                "thickness_factor": 1,
                "styles": {},
                "heat": 0
              },
              {
                "start": "GUA",
                "end": "MIA",
                "label": "",
                "properties": {},
                "directed": false,
                "id": "90e9bf62-4cd6-4cfa-aff6-4afed3ddae97",
                "color": "#15AFAC",
                "thickness_factor": 1,
                "styles": {},
                "heat": 0
              },
              {
                "start": "GUA",
                "end": "MEX",
                "label": "",
                "properties": {},
                "directed": false,
                "id": "fdcc15bf-ad32-496c-93b6-017b4d3348e6",
                "color": "#15AFAC",
                "thickness_factor": 1,
                "styles": {},
                "heat": 0
              },
              {
                "start": "MEX",
                "end": "LAX",
                "label": "",
                "properties": {},
                "directed": false,
                "id": "5dafc441-08a4-4508-a636-142158cd764a",
                "color": "#15AFAC",
                "thickness_factor": 1,
                "styles": {},
                "heat": 0
              },
              {
                "start": "MEX",
                "end": "LAX",
                "label": "",
                "properties": {},
                "directed": false,
                "id": "db6e3bd3-9880-4fca-9770-8573163f2d8b",
                "color": "#15AFAC",
                "thickness_factor": 1,
                "styles": {},
                "heat": 0
              },
              {
                "start": "LAX",
                "end": "SFO",
                "label": "",
                "properties": {},
                "directed": false,
                "id": "18deb138-e2a0-4735-a60b-431ad1ea3570",
                "color": "#15AFAC",
                "thickness_factor": 1,
                "styles": {},
                "heat": 0
              },
              {
                "start": "SFO",
                "end": "YVR",
                "label": "",
                "properties": {},
                "directed": false,
                "id": "f7251adf-1556-4503-b0db-1be71033f7ff",
                "color": "#15AFAC",
                "thickness_factor": 1,
                "styles": {},
                "heat": 0
              },
              {
                "start": "LAX",
                "end": "LAS",
                "label": "",
                "properties": {},
                "directed": false,
                "id": "b6d6fe2d-616b-442f-ada7-c1309f4da14f",
                "color": "#15AFAC",
                "thickness_factor": 1,
                "styles": {},
                "heat": 0
              },
              {
                "start": "LAX",
                "end": "DFW",
                "label": "",
                "properties": {},
                "directed": false,
                "id": "3bd784da-2c4a-470f-ba93-a21a4907caa2",
                "color": "#15AFAC",
                "thickness_factor": 1,
                "styles": {},
                "heat": 0
              },
              {
                "start": "LAX",
                "end": "ORD",
                "label": "",
                "properties": {},
                "directed": false,
                "id": "4c428235-0b33-41a4-90df-1b5e170cdd59",
                "color": "#15AFAC",
                "thickness_factor": 1,
                "styles": {},
                "heat": 0
              },
              {
                "start": "SFO",
                "end": "LAS",
                "label": "",
                "properties": {},
                "directed": false,
                "id": "19f7f8ab-d748-41fd-901a-9c9cb16d43f2",
                "color": "#15AFAC",
                "thickness_factor": 1,
                "styles": {},
                "heat": 0
              },
              {
                "start": "DFW",
                "end": "ATL",
                "label": "",
                "properties": {},
                "directed": false,
                "id": "eb407755-4587-4cb5-ab43-70cba2f446e7",
                "color": "#15AFAC",
                "thickness_factor": 1,
                "styles": {},
                "heat": 0
              },
              {
                "start": "ATL",
                "end": "YYZ",
                "label": "",
                "properties": {},
                "directed": false,
                "id": "7a599ee2-a40d-4dd5-b91d-9261d40f9ba9",
                "color": "#15AFAC",
                "thickness_factor": 1,
                "styles": {},
                "heat": 0
              },
              {
                "start": "ORD",
                "end": "YYZ",
                "label": "",
                "properties": {},
                "directed": false,
                "id": "c59f8e89-329d-43ee-8e0e-d18967bbe1e9",
                "color": "#15AFAC",
                "thickness_factor": 1,
                "styles": {},
                "heat": 0
              },
              {
                "start": "YYZ",
                "end": "YUL",
                "label": "",
                "properties": {},
                "directed": false,
                "id": "77dac866-c1f4-47b9-ac61-d0265e74fc7c",
                "color": "#15AFAC",
                "thickness_factor": 1,
                "styles": {},
                "heat": 0
              },
              {
                "start": "YYZ",
                "end": "JFK",
                "label": "",
                "properties": {},
                "directed": false,
                "id": "6ff17bf1-6c9c-44c3-ab89-656dafdc72f4",
                "color": "#15AFAC",
                "thickness_factor": 1,
                "styles": {},
                "heat": 0
              },
              {
                "start": "YUL",
                "end": "JFK",
                "label": "",
                "properties": {},
                "directed": false,
                "id": "7096f558-a419-41aa-b6e7-6ee37bee2b12",
                "color": "#15AFAC",
                "thickness_factor": 1,
                "styles": {},
                "heat": 0
              },
              {
                "start": "JNB",
                "end": "CPT",
                "label": "",
                "properties": {},
                "directed": false,
                "id": "136a3582-aa1f-400d-82fa-ca27ad29f32c",
                "color": "#15AFAC",
                "thickness_factor": 1,
                "styles": {},
                "heat": 0
              },
              {
                "start": "LOS",
                "end": "DKR",
                "label": "",
                "properties": {},
                "directed": false,
                "id": "f67d9e45-353b-462e-9dd7-e82ead1f0f12",
                "color": "#15AFAC",
                "thickness_factor": 1,
                "styles": {},
                "heat": 0
              },
              {
                "start": "NBO",
                "end": "LOS",
                "label": "",
                "properties": {},
                "directed": false,
                "id": "7aa5c264-9d2b-406c-a86c-65455d7f4b30",
                "color": "#15AFAC",
                "thickness_factor": 1,
                "styles": {},
                "heat": 0
              },
              {
                "start": "DKR",
                "end": "CMN",
                "label": "",
                "properties": {},
                "directed": false,
                "id": "1e0a92f1-bd56-4bc8-bd75-8d4aa6d03bfd",
                "color": "#15AFAC",
                "thickness_factor": 1,
                "styles": {},
                "heat": 0
              },
              {
                "start": "DKR",
                "end": "CAI",
                "label": "",
                "properties": {},
                "directed": false,
                "id": "decbcf93-9d78-47fe-8c10-4a63d04da72b",
                "color": "#15AFAC",
                "thickness_factor": 1,
                "styles": {},
                "heat": 0
              },
              {
                "start": "NBO",
                "end": "CAI",
                "label": "",
                "properties": {},
                "directed": false,
                "id": "30938507-abce-47ce-b9c6-de53c491e7ad",
                "color": "#15AFAC",
                "thickness_factor": 1,
                "styles": {},
                "heat": 0
              },
              {
                "start": "DXB",
                "end": "CAI",
                "label": "",
                "properties": {},
                "directed": false,
                "id": "d29c1792-3b3c-4d2f-b92b-76f38ce3897d",
                "color": "#15AFAC",
                "thickness_factor": 1,
                "styles": {},
                "heat": 0
              },
              {
                "start": "IKA",
                "end": "DXB",
                "label": "",
                "properties": {},
                "directed": false,
                "id": "31c516fc-f189-48bb-9d51-33266e0359ad",
                "color": "#15AFAC",
                "thickness_factor": 1,
                "styles": {},
                "heat": 0
              },
              {
                "start": "IST",
                "end": "IKA",
                "label": "",
                "properties": {},
                "directed": false,
                "id": "a47dfda6-41ed-4424-a948-97e7445333f0",
                "color": "#15AFAC",
                "thickness_factor": 1,
                "styles": {},
                "heat": 0
              },
              {
                "start": "TLV",
                "end": "ATH",
                "label": "",
                "properties": {},
                "directed": false,
                "id": "d48d7fb8-9adb-4d23-a3b5-4a3ae3af4220",
                "color": "#15AFAC",
                "thickness_factor": 1,
                "styles": {},
                "heat": 0
              },
              {
                "start": "CAI",
                "end": "TLV",
                "label": "",
                "properties": {},
                "directed": false,
                "id": "d2f35743-830f-4b71-9194-f411e1d4a452",
                "color": "#15AFAC",
                "thickness_factor": 1,
                "styles": {},
                "heat": 0
              },
              {
                "start": "ATH",
                "end": "IST",
                "label": "",
                "properties": {},
                "directed": false,
                "id": "cb4509c4-85f1-4545-92ad-1406f2b3cfee",
                "color": "#15AFAC",
                "thickness_factor": 1,
                "styles": {},
                "heat": 0
              },
              {
                "start": "FCO",
                "end": "ATH",
                "label": "",
                "properties": {},
                "directed": false,
                "id": "944bdeb5-f789-4968-a2e5-da86782dc24c",
                "color": "#15AFAC",
                "thickness_factor": 1,
                "styles": {},
                "heat": 0
              },
              {
                "start": "LIS",
                "end": "LHR",
                "label": "",
                "properties": {},
                "directed": false,
                "id": "13a69016-af8f-44c7-9255-8dcdc8be6e2b",
                "color": "#15AFAC",
                "thickness_factor": 1,
                "styles": {},
                "heat": 0
              },
              {
                "start": "LIS",
                "end": "MAD",
                "label": "",
                "properties": {},
                "directed": false,
                "id": "62608b78-2ce9-440c-82d1-cc2752a76d23",
                "color": "#15AFAC",
                "thickness_factor": 1,
                "styles": {},
                "heat": 0
              },
              {
                "start": "MAD",
                "end": "BCN",
                "label": "",
                "properties": {},
                "directed": false,
                "id": "0447d91d-4ffe-4098-8a73-e6c41e8bce15",
                "color": "#15AFAC",
                "thickness_factor": 1,
                "styles": {},
                "heat": 0
              },
              {
                "start": "CDG",
                "end": "LHR",
                "label": "",
                "properties": {},
                "directed": false,
                "id": "224bcf82-3a2d-4f4e-9358-96ad7d5568d8",
                "color": "#15AFAC",
                "thickness_factor": 1,
                "styles": {},
                "heat": 0
              },
              {
                "start": "DUB",
                "end": "LHR",
                "label": "",
                "properties": {},
                "directed": false,
                "id": "116362f3-d7e4-4f8f-9d1d-5bc6b459f88e",
                "color": "#15AFAC",
                "thickness_factor": 1,
                "styles": {},
                "heat": 0
              },
              {
                "start": "EDI",
                "end": "LHR",
                "label": "",
                "properties": {},
                "directed": false,
                "id": "3ea6ef4a-2f88-426d-a321-4f3212397b78",
                "color": "#15AFAC",
                "thickness_factor": 1,
                "styles": {},
                "heat": 0
              },
              {
                "start": "CDG",
                "end": "BCN",
                "label": "",
                "properties": {},
                "directed": false,
                "id": "1d31c43d-3c97-474a-8021-226b294ed81e",
                "color": "#15AFAC",
                "thickness_factor": 1,
                "styles": {},
                "heat": 0
              },
              {
                "start": "BCN",
                "end": "FCO",
                "label": "",
                "properties": {},
                "directed": false,
                "id": "9319fec0-4577-439a-97f5-71898f05e7e7",
                "color": "#15AFAC",
                "thickness_factor": 1,
                "styles": {},
                "heat": 0
              },
              {
                "start": "VIE",
                "end": "IST",
                "label": "",
                "properties": {},
                "directed": false,
                "id": "28474528-4611-42f6-a2ca-1c6576b366c7",
                "color": "#15AFAC",
                "thickness_factor": 1,
                "styles": {},
                "heat": 0
              },
              {
                "start": "VIE",
                "end": "SVO",
                "label": "",
                "properties": {},
                "directed": false,
                "id": "b52845a6-847c-4019-80ae-b745f3be6cd2",
                "color": "#15AFAC",
                "thickness_factor": 1,
                "styles": {},
                "heat": 0
              },
              {
                "start": "CMN",
                "end": "LIS",
                "label": "",
                "properties": {},
                "directed": false,
                "id": "74331974-ee62-466c-bff5-dd941e5f7d9e",
                "color": "#15AFAC",
                "thickness_factor": 1,
                "styles": {},
                "heat": 0
              },
              {
                "start": "MAD",
                "end": "CMN",
                "label": "",
                "properties": {},
                "directed": false,
                "id": "953b517b-21aa-4fbd-ba87-9ff764eb7f05",
                "color": "#15AFAC",
                "thickness_factor": 1,
                "styles": {},
                "heat": 0
              },
              {
                "start": "FRA",
                "end": "CPH",
                "label": "",
                "properties": {},
                "directed": false,
                "id": "3fee60a0-edf4-4819-af5a-22fb82e97622",
                "color": "#15AFAC",
                "thickness_factor": 1,
                "styles": {},
                "heat": 0
              },
              {
                "start": "LHR",
                "end": "CPH",
                "label": "",
                "properties": {},
                "directed": false,
                "id": "d03bd183-ae7e-4901-9e9e-167976ecbf48",
                "color": "#15AFAC",
                "thickness_factor": 1,
                "styles": {},
                "heat": 0
              },
              {
                "start": "CPH",
                "end": "OSL",
                "label": "",
                "properties": {},
                "directed": false,
                "id": "e3b188c0-f603-4398-9577-8b4f134ffe50",
                "color": "#15AFAC",
                "thickness_factor": 1,
                "styles": {},
                "heat": 0
              },
              {
                "start": "CPH",
                "end": "ARN",
                "label": "",
                "properties": {},
                "directed": false,
                "id": "0b54d7ae-1b13-42d7-90ec-4062e55d94bf",
                "color": "#15AFAC",
                "thickness_factor": 1,
                "styles": {},
                "heat": 0
              },
              {
                "start": "ARN",
                "end": "HEL",
                "label": "",
                "properties": {},
                "directed": false,
                "id": "adb46f54-e71e-4d7d-aaab-471503ca1d6a",
                "color": "#15AFAC",
                "thickness_factor": 1,
                "styles": {},
                "heat": 0
              },
              {
                "start": "HEL",
                "end": "SVO",
                "label": "",
                "properties": {},
                "directed": false,
                "id": "f8e13a87-cc2e-4db6-a87c-e2d9912114d5",
                "color": "#15AFAC",
                "thickness_factor": 1,
                "styles": {},
                "heat": 0
              },
              {
                "start": "ULN",
                "end": "PVG",
                "label": "",
                "properties": {},
                "directed": false,
                "id": "7651dd1d-c1f5-4bae-9f98-df8e2f037369",
                "color": "#15AFAC",
                "thickness_factor": 1,
                "styles": {},
                "heat": 0
              },
              {
                "start": "CTU",
                "end": "PVG",
                "label": "",
                "properties": {},
                "directed": false,
                "id": "458e9157-db30-4673-a4ef-cc6553287e2d",
                "color": "#15AFAC",
                "thickness_factor": 1,
                "styles": {},
                "heat": 0
              },
              {
                "start": "PVG",
                "end": "TPE",
                "label": "",
                "properties": {},
                "directed": false,
                "id": "b508c990-31bd-4584-a8c3-5d21b8c3fe52",
                "color": "#15AFAC",
                "thickness_factor": 1,
                "styles": {},
                "heat": 0
              },
              {
                "start": "CTU",
                "end": "HKG",
                "label": "",
                "properties": {},
                "directed": false,
                "id": "b01b19f3-84c8-47a9-8436-2e92af2462b8",
                "color": "#15AFAC",
                "thickness_factor": 1,
                "styles": {},
                "heat": 0
              },
              {
                "start": "TPE",
                "end": "HKG",
                "label": "",
                "properties": {},
                "directed": false,
                "id": "7e80f2f7-e289-46c7-a091-7379cf37ed9e",
                "color": "#15AFAC",
                "thickness_factor": 1,
                "styles": {},
                "heat": 0
              },
              {
                "start": "HKG",
                "end": "MNL",
                "label": "",
                "properties": {},
                "directed": false,
                "id": "32a01d6a-9afe-4f5a-a61e-a7c6fa1477f4",
                "color": "#15AFAC",
                "thickness_factor": 1,
                "styles": {},
                "heat": 0
              },
              {
                "start": "BKK",
                "end": "HKG",
                "label": "",
                "properties": {},
                "directed": false,
                "id": "81630abf-e0f8-4155-9057-0a2478bad1c4",
                "color": "#15AFAC",
                "thickness_factor": 1,
                "styles": {},
                "heat": 0
              },
              {
                "start": "SIN",
                "end": "KUL",
                "label": "",
                "properties": {},
                "directed": false,
                "id": "77349e28-0797-460d-9919-050243d8d5a1",
                "color": "#15AFAC",
                "thickness_factor": 1,
                "styles": {},
                "heat": 0
              },
              {
                "start": "SIN",
                "end": "BKK",
                "label": "",
                "properties": {},
                "directed": false,
                "id": "c0350267-bb8f-4747-9763-513d31a41528",
                "color": "#15AFAC",
                "thickness_factor": 1,
                "styles": {},
                "heat": 0
              },
              {
                "start": "CGK",
                "end": "SIN",
                "label": "",
                "properties": {},
                "directed": false,
                "id": "13b8c2e2-a971-4fd1-a8b5-7ff90d78e1da",
                "color": "#15AFAC",
                "thickness_factor": 1,
                "styles": {},
                "heat": 0
              },
              {
                "start": "MNL",
                "end": "SIN",
                "label": "",
                "properties": {},
                "directed": false,
                "id": "ee7c3cdf-10d1-451b-9c7b-6a733b660e32",
                "color": "#15AFAC",
                "thickness_factor": 1,
                "styles": {},
                "heat": 0
              },
              {
                "start": "SIN",
                "end": "SYD",
                "label": "",
                "properties": {},
                "directed": false,
                "id": "b8f09efa-3376-485a-a2c3-470001bcbea2",
                "color": "#15AFAC",
                "thickness_factor": 1,
                "styles": {},
                "heat": 0
              },
              {
                "start": "BNE",
                "end": "SYD",
                "label": "",
                "properties": {},
                "directed": false,
                "id": "8514a586-298e-44b6-806c-da57ddfcd878",
                "color": "#15AFAC",
                "thickness_factor": 1,
                "styles": {},
                "heat": 0
              },
              {
                "start": "SYD",
                "end": "MEL",
                "label": "",
                "properties": {},
                "directed": false,
                "id": "2efa8659-c370-403f-8579-a43d9569db56",
                "color": "#15AFAC",
                "thickness_factor": 1,
                "styles": {},
                "heat": 0
              },
              {
                "start": "NAN",
                "end": "SYD",
                "label": "",
                "properties": {},
                "directed": false,
                "id": "fe39289d-53a3-4527-8496-b7f6abc6505b",
                "color": "#15AFAC",
                "thickness_factor": 1,
                "styles": {},
                "heat": 0
              },
              {
                "start": "AKL",
                "end": "SYD",
                "label": "",
                "properties": {},
                "directed": false,
                "id": "e7111510-04a9-446f-86b6-12fac5795816",
                "color": "#15AFAC",
                "thickness_factor": 1,
                "styles": {},
                "heat": 0
              },
              {
                "start": "NAN",
                "end": "AKL",
                "label": "",
                "properties": {},
                "directed": false,
                "id": "6e912e0f-a77b-4a7c-a3da-9c8f145baab2",
                "color": "#15AFAC",
                "thickness_factor": 1,
                "styles": {},
                "heat": 0
              },
              {
                "start": "RKV",
                "end": "LHR",
                "label": "",
                "properties": {},
                "directed": false,
                "id": "5bae3684-70d3-4c16-b71a-617dafeca11e",
                "color": "#15AFAC",
                "thickness_factor": 1,
                "styles": {},
                "heat": 0
              },
              {
                "start": "BCN",
                "end": "CDG",
                "label": "",
                "properties": {},
                "directed": false,
                "id": "1e8796c7-874e-49c6-8624-37b4f08af222",
                "color": "#15AFAC",
                "thickness_factor": 1,
                "styles": {},
                "heat": 0
              },
              {
                "start": "BCN",
                "end": "FRA",
                "label": "",
                "properties": {},
                "directed": false,
                "id": "0c96b038-197f-4ed5-8304-804e1dee4e14",
                "color": "#15AFAC",
                "thickness_factor": 1,
                "styles": {},
                "heat": 0
              },
              {
                "start": "FCO",
                "end": "FRA",
                "label": "",
                "properties": {},
                "directed": false,
                "id": "9bab3657-87a2-4e80-813d-2e5652abf1e0",
                "color": "#15AFAC",
                "thickness_factor": 1,
                "styles": {},
                "heat": 0
              },
              {
                "start": "BOG",
                "end": "MEX",
                "label": "",
                "properties": {},
                "directed": false,
                "id": "ed07f4d1-1b14-48de-9d3e-7e60fdfce556",
                "color": "#15AFAC",
                "thickness_factor": 1,
                "styles": {},
                "heat": 0
              },
              {
                "start": "BOG",
                "end": "GRU",
                "label": "",
                "properties": {},
                "directed": false,
                "id": "38be4e6e-c70b-4fc0-ac72-05a78b3c0962",
                "color": "#15AFAC",
                "thickness_factor": 1,
                "styles": {},
                "heat": 0
              },
              {
                "start": "ATL",
                "end": "MIA",
                "label": "",
                "properties": {},
                "directed": false,
                "id": "59f5a318-23ae-43ae-a631-cd98d3a9c01e",
                "color": "#15AFAC",
                "thickness_factor": 1,
                "styles": {},
                "heat": 0
              },
              {
                "start": "FRA",
                "end": "IST",
                "label": "",
                "properties": {},
                "directed": false,
                "id": "5fca1ad7-9558-496a-96e5-3051199e7ab9",
                "color": "#15AFAC",
                "thickness_factor": 1,
                "styles": {},
                "heat": 0
              },
              {
                "start": "IST",
                "end": "DEL",
                "label": "",
                "properties": {},
                "directed": false,
                "id": "e4781d5e-ceaa-4a41-af5d-c7988addd628",
                "color": "#15AFAC",
                "thickness_factor": 1,
                "styles": {},
                "heat": 0
              },
              {
                "start": "PVG",
                "end": "BKK",
                "label": "",
                "properties": {},
                "directed": false,
                "id": "185d11a9-5e59-4f1a-bbae-d2b32a9f4ab0",
                "color": "#15AFAC",
                "thickness_factor": 1,
                "styles": {},
                "heat": 0
              },
              {
                "start": "DEL",
                "end": "BKK",
                "label": "",
                "properties": {},
                "directed": false,
                "id": "c3262008-af21-4408-a774-f7c8bb222a70",
                "color": "#15AFAC",
                "thickness_factor": 1,
                "styles": {},
                "heat": 0
              }
            ],
            "_graph_layout": {
              "algorithm": "hierarchic",
              "options": {}
            },
            "_highlight": [],
            "_license": {},
            "_model_module": "yfiles-jupyter-graphs",
            "_model_module_version": "^1.10.8",
            "_model_name": "GraphModel",
            "_neighborhood": {},
            "_nodes": [
              {
                "id": "LAX",
                "properties": {
                  "label": "Los Angeles",
                  "passengers": 65000000,
                  "country": "USA",
                  "country_id": "us"
                },
                "coordinates": [
                  33.942536,
                  -118.408075
                ],
                "color": "#15AFAC",
                "styles": {
                  "image": "https://raw.githubusercontent.com/lipis/flag-icons/e119b66129af6dd849754ccf25dfbf81d4a306d5/flags/1x1/us.svg"
                },
                "label": "Los Angeles",
                "scale_factor": 1,
                "type": "#15AFAC",
                "size": [
                  55,
                  55
                ],
                "position": [
                  0,
                  0
                ],
                "parentId": "group#USA",
                "heat": 0.6963123644251626
              },
              {
                "id": "GIG",
                "properties": {
                  "label": "Rio de Janeiro",
                  "passengers": 5000000,
                  "country": "Brazil",
                  "country_id": "br"
                },
                "coordinates": [
                  -22.808903,
                  -43.243647
                ],
                "color": "#15AFAC",
                "styles": {
                  "image": "https://raw.githubusercontent.com/lipis/flag-icons/e119b66129af6dd849754ccf25dfbf81d4a306d5/flags/1x1/br.svg"
                },
                "label": "Rio de Janeiro",
                "scale_factor": 1,
                "type": "#15AFAC",
                "size": [
                  55,
                  55
                ],
                "position": [
                  0,
                  0
                ],
                "parentId": "group#Brazil",
                "heat": 0.0455531453362256
              },
              {
                "id": "LIM",
                "properties": {
                  "label": "Lima",
                  "passengers": 18000000,
                  "country": "Peru",
                  "country_id": "pe"
                },
                "coordinates": [
                  -12.021889,
                  -77.114319
                ],
                "color": "#15AFAC",
                "styles": {
                  "image": "https://raw.githubusercontent.com/lipis/flag-icons/e119b66129af6dd849754ccf25dfbf81d4a306d5/flags/1x1/pe.svg"
                },
                "label": "Lima",
                "scale_factor": 1,
                "type": "#15AFAC",
                "size": [
                  55,
                  55
                ],
                "position": [
                  0,
                  0
                ],
                "parentId": "group#Peru",
                "heat": 0.18655097613882862
              },
              {
                "id": "LHR",
                "properties": {
                  "label": "London",
                  "passengers": 61000000,
                  "country": "UK",
                  "country_id": "gb"
                },
                "coordinates": [
                  51.4775,
                  -0.461389
                ],
                "color": "#15AFAC",
                "styles": {
                  "image": "https://raw.githubusercontent.com/lipis/flag-icons/e119b66129af6dd849754ccf25dfbf81d4a306d5/flags/1x1/gb.svg"
                },
                "label": "London",
                "scale_factor": 1,
                "type": "#15AFAC",
                "size": [
                  55,
                  55
                ],
                "position": [
                  0,
                  0
                ],
                "parentId": "group#UK",
                "heat": 0.6529284164859002
              },
              {
                "id": "FRA",
                "properties": {
                  "label": "Frankfurt",
                  "passengers": 48000000,
                  "country": "Germany",
                  "country_id": "de"
                },
                "coordinates": [
                  50.033333,
                  8.570556
                ],
                "color": "#15AFAC",
                "styles": {
                  "image": "https://raw.githubusercontent.com/lipis/flag-icons/e119b66129af6dd849754ccf25dfbf81d4a306d5/flags/1x1/de.svg"
                },
                "label": "Frankfurt",
                "scale_factor": 1,
                "type": "#15AFAC",
                "size": [
                  55,
                  55
                ],
                "position": [
                  0,
                  0
                ],
                "parentId": "group#Germany",
                "heat": 0.5119305856832972
              },
              {
                "id": "SVO",
                "properties": {
                  "label": "Moscow",
                  "passengers": 49000000,
                  "country": "Russia",
                  "country_id": "ru"
                },
                "coordinates": [
                  55.972642,
                  37.414589
                ],
                "color": "#15AFAC",
                "styles": {
                  "image": "https://raw.githubusercontent.com/lipis/flag-icons/e119b66129af6dd849754ccf25dfbf81d4a306d5/flags/1x1/ru.svg"
                },
                "label": "Moscow",
                "scale_factor": 1,
                "type": "#15AFAC",
                "size": [
                  55,
                  55
                ],
                "position": [
                  0,
                  0
                ],
                "parentId": "group#Russia",
                "heat": 0.5227765726681128
              },
              {
                "id": "DEL",
                "properties": {
                  "label": "New Delhi",
                  "passengers": 39000000,
                  "country": "India",
                  "country_id": "in"
                },
                "coordinates": [
                  28.5665,
                  77.103089
                ],
                "color": "#15AFAC",
                "styles": {
                  "image": "https://raw.githubusercontent.com/lipis/flag-icons/e119b66129af6dd849754ccf25dfbf81d4a306d5/flags/1x1/in.svg"
                },
                "label": "New Delhi",
                "scale_factor": 1,
                "type": "#15AFAC",
                "size": [
                  55,
                  55
                ],
                "position": [
                  0,
                  0
                ],
                "parentId": "group#India",
                "heat": 0.41431670281995664
              },
              {
                "id": "PVG",
                "properties": {
                  "label": "Shanghai",
                  "passengers": 32000000,
                  "country": "China",
                  "country_id": "hk"
                },
                "coordinates": [
                  31.143378,
                  121.805214
                ],
                "color": "#15AFAC",
                "styles": {
                  "image": "https://raw.githubusercontent.com/lipis/flag-icons/e119b66129af6dd849754ccf25dfbf81d4a306d5/flags/1x1/hk.svg"
                },
                "label": "Shanghai",
                "scale_factor": 1,
                "type": "#15AFAC",
                "size": [
                  55,
                  55
                ],
                "position": [
                  0,
                  0
                ],
                "parentId": "group#China",
                "heat": 0.3383947939262473
              },
              {
                "id": "HKG",
                "properties": {
                  "label": "Hongkong",
                  "passengers": 1000000,
                  "country": "China",
                  "country_id": "hk"
                },
                "coordinates": [
                  22.308919,
                  113.914603
                ],
                "color": "#15AFAC",
                "styles": {
                  "image": "https://raw.githubusercontent.com/lipis/flag-icons/e119b66129af6dd849754ccf25dfbf81d4a306d5/flags/1x1/hk.svg"
                },
                "label": "Hongkong",
                "scale_factor": 1,
                "type": "#15AFAC",
                "size": [
                  55,
                  55
                ],
                "position": [
                  0,
                  0
                ],
                "parentId": "group#China",
                "heat": 0.0021691973969631237
              },
              {
                "id": "NRT",
                "properties": {
                  "label": "Tokio",
                  "passengers": 15000000,
                  "country": "Japan",
                  "country_id": "jp"
                },
                "coordinates": [
                  35.764722,
                  140.386389
                ],
                "color": "#15AFAC",
                "styles": {
                  "image": "https://raw.githubusercontent.com/lipis/flag-icons/e119b66129af6dd849754ccf25dfbf81d4a306d5/flags/1x1/jp.svg"
                },
                "label": "Tokio",
                "scale_factor": 1,
                "type": "#15AFAC",
                "size": [
                  55,
                  55
                ],
                "position": [
                  0,
                  0
                ],
                "parentId": "group#Japan",
                "heat": 0.1540130151843818
              },
              {
                "id": "DXB",
                "properties": {
                  "label": "Dubai",
                  "passengers": 29000000,
                  "country": "UAE",
                  "country_id": "ae"
                },
                "coordinates": [
                  25.252778,
                  55.364444
                ],
                "color": "#15AFAC",
                "styles": {
                  "image": "https://raw.githubusercontent.com/lipis/flag-icons/e119b66129af6dd849754ccf25dfbf81d4a306d5/flags/1x1/ae.svg"
                },
                "label": "Dubai",
                "scale_factor": 1,
                "type": "#15AFAC",
                "size": [
                  55,
                  55
                ],
                "position": [
                  0,
                  0
                ],
                "parentId": "group#UAE",
                "heat": 0.30585683297180044
              },
              {
                "id": "DKR",
                "properties": {
                  "label": "Dakar",
                  "passengers": 2000000,
                  "country": "Senegal",
                  "country_id": "sn"
                },
                "coordinates": [
                  14.670833,
                  -17.072778
                ],
                "color": "#15AFAC",
                "styles": {
                  "image": "https://raw.githubusercontent.com/lipis/flag-icons/e119b66129af6dd849754ccf25dfbf81d4a306d5/flags/1x1/sn.svg"
                },
                "label": "Dakar",
                "scale_factor": 1,
                "type": "#15AFAC",
                "size": [
                  55,
                  55
                ],
                "position": [
                  0,
                  0
                ],
                "parentId": "group#Senegal",
                "heat": 0.013015184381778741
              },
              {
                "id": "JNB",
                "properties": {
                  "label": "Johannesburg",
                  "passengers": 9000000,
                  "country": "South Africa",
                  "country_id": "za"
                },
                "coordinates": [
                  -26.133694,
                  28.242317
                ],
                "color": "#15AFAC",
                "styles": {
                  "image": "https://raw.githubusercontent.com/lipis/flag-icons/e119b66129af6dd849754ccf25dfbf81d4a306d5/flags/1x1/za.svg"
                },
                "label": "Johannesburg",
                "scale_factor": 1,
                "type": "#15AFAC",
                "size": [
                  55,
                  55
                ],
                "position": [
                  0,
                  0
                ],
                "parentId": "group#South Africa",
                "heat": 0.08893709327548807
              },
              {
                "id": "SYD",
                "properties": {
                  "label": "Sydney",
                  "passengers": 44000000,
                  "country": "Australia",
                  "country_id": "au"
                },
                "coordinates": [
                  -33.946111,
                  151.177222
                ],
                "color": "#15AFAC",
                "styles": {
                  "image": "https://raw.githubusercontent.com/lipis/flag-icons/e119b66129af6dd849754ccf25dfbf81d4a306d5/flags/1x1/au.svg"
                },
                "label": "Sydney",
                "scale_factor": 1,
                "type": "#15AFAC",
                "size": [
                  55,
                  55
                ],
                "position": [
                  0,
                  0
                ],
                "parentId": "group#Australia",
                "heat": 0.4685466377440347
              },
              {
                "id": "NBO",
                "properties": {
                  "label": "Nairobi",
                  "passengers": 900000,
                  "country": "Kenya",
                  "country_id": "ke"
                },
                "coordinates": [
                  -1.319167,
                  36.927778
                ],
                "color": "#15AFAC",
                "styles": {
                  "image": "https://raw.githubusercontent.com/lipis/flag-icons/e119b66129af6dd849754ccf25dfbf81d4a306d5/flags/1x1/ke.svg"
                },
                "label": "Nairobi",
                "scale_factor": 1,
                "type": "#15AFAC",
                "size": [
                  55,
                  55
                ],
                "position": [
                  0,
                  0
                ],
                "parentId": "group#Kenya",
                "heat": 0.0010845986984815619
              },
              {
                "id": "ATL",
                "properties": {
                  "label": "Atlanta",
                  "passengers": 93000000,
                  "country": "USA",
                  "country_id": "us"
                },
                "coordinates": [
                  33.639167,
                  -84.427778
                ],
                "color": "#15AFAC",
                "styles": {
                  "image": "https://raw.githubusercontent.com/lipis/flag-icons/e119b66129af6dd849754ccf25dfbf81d4a306d5/flags/1x1/us.svg"
                },
                "label": "Atlanta",
                "scale_factor": 1,
                "type": "#15AFAC",
                "size": [
                  55,
                  55
                ],
                "position": [
                  0,
                  0
                ],
                "parentId": "group#USA",
                "heat": 1
              },
              {
                "id": "JFK",
                "properties": {
                  "label": "New York City",
                  "passengers": 55000000,
                  "country": "USA",
                  "country_id": "us"
                },
                "coordinates": [
                  40.63975,
                  -73.778925
                ],
                "color": "#15AFAC",
                "styles": {
                  "image": "https://raw.githubusercontent.com/lipis/flag-icons/e119b66129af6dd849754ccf25dfbf81d4a306d5/flags/1x1/us.svg"
                },
                "label": "New York City",
                "scale_factor": 1,
                "type": "#15AFAC",
                "size": [
                  55,
                  55
                ],
                "position": [
                  0,
                  0
                ],
                "parentId": "group#USA",
                "heat": 0.5878524945770065
              },
              {
                "id": "CAI",
                "properties": {
                  "label": "Cairo",
                  "passengers": 14000000,
                  "country": "Egypt",
                  "country_id": "eg"
                },
                "coordinates": [
                  30.121944,
                  31.405556
                ],
                "color": "#15AFAC",
                "styles": {
                  "image": "https://raw.githubusercontent.com/lipis/flag-icons/e119b66129af6dd849754ccf25dfbf81d4a306d5/flags/1x1/eg.svg"
                },
                "label": "Cairo",
                "scale_factor": 1,
                "type": "#15AFAC",
                "size": [
                  55,
                  55
                ],
                "position": [
                  0,
                  0
                ],
                "parentId": "group#Egypt",
                "heat": 0.14316702819956617
              },
              {
                "id": "CMN",
                "properties": {
                  "label": "Casablanca",
                  "passengers": 7000000,
                  "country": "Morocco",
                  "country_id": "ma"
                },
                "coordinates": [
                  33.367467,
                  -7.589967
                ],
                "color": "#15AFAC",
                "styles": {
                  "image": "https://raw.githubusercontent.com/lipis/flag-icons/e119b66129af6dd849754ccf25dfbf81d4a306d5/flags/1x1/ma.svg"
                },
                "label": "Casablanca",
                "scale_factor": 1,
                "type": "#15AFAC",
                "size": [
                  55,
                  55
                ],
                "position": [
                  0,
                  0
                ],
                "parentId": "group#Morocco",
                "heat": 0.06724511930585683
              },
              {
                "id": "LOS",
                "properties": {
                  "label": "Lagos",
                  "passengers": 5000000,
                  "country": "Nigeria",
                  "country_id": "ng"
                },
                "coordinates": [
                  6.577222,
                  3.321111
                ],
                "color": "#15AFAC",
                "styles": {
                  "image": "https://raw.githubusercontent.com/lipis/flag-icons/e119b66129af6dd849754ccf25dfbf81d4a306d5/flags/1x1/ng.svg"
                },
                "label": "Lagos",
                "scale_factor": 1,
                "type": "#15AFAC",
                "size": [
                  55,
                  55
                ],
                "position": [
                  0,
                  0
                ],
                "parentId": "group#Nigeria",
                "heat": 0.0455531453362256
              },
              {
                "id": "CPT",
                "properties": {
                  "label": "Cape Town",
                  "passengers": 5000000,
                  "country": "South Africa",
                  "country_id": "za"
                },
                "coordinates": [
                  -33.969444,
                  18.597222
                ],
                "color": "#15AFAC",
                "styles": {
                  "image": "https://raw.githubusercontent.com/lipis/flag-icons/e119b66129af6dd849754ccf25dfbf81d4a306d5/flags/1x1/za.svg"
                },
                "label": "Cape Town",
                "scale_factor": 1,
                "type": "#15AFAC",
                "size": [
                  55,
                  55
                ],
                "position": [
                  0,
                  0
                ],
                "parentId": "group#South Africa",
                "heat": 0.0455531453362256
              },
              {
                "id": "CTU",
                "properties": {
                  "label": "Chengdu",
                  "passengers": 40000000,
                  "country": "China",
                  "country_id": "hk"
                },
                "coordinates": [
                  30.578333,
                  103.946944
                ],
                "color": "#15AFAC",
                "styles": {
                  "image": "https://raw.githubusercontent.com/lipis/flag-icons/e119b66129af6dd849754ccf25dfbf81d4a306d5/flags/1x1/hk.svg"
                },
                "label": "Chengdu",
                "scale_factor": 1,
                "type": "#15AFAC",
                "size": [
                  55,
                  55
                ],
                "position": [
                  0,
                  0
                ],
                "parentId": "group#China",
                "heat": 0.42516268980477223
              },
              {
                "id": "CGK",
                "properties": {
                  "label": "Jakarta",
                  "passengers": 54000000,
                  "country": "Indonesia",
                  "country_id": "id"
                },
                "coordinates": [
                  -6.125567,
                  106.655897
                ],
                "color": "#15AFAC",
                "styles": {
                  "image": "https://raw.githubusercontent.com/lipis/flag-icons/e119b66129af6dd849754ccf25dfbf81d4a306d5/flags/1x1/id.svg"
                },
                "label": "Jakarta",
                "scale_factor": 1,
                "type": "#15AFAC",
                "size": [
                  55,
                  55
                ],
                "position": [
                  0,
                  0
                ],
                "parentId": "group#Indonesia",
                "heat": 0.5770065075921909
              },
              {
                "id": "IKA",
                "properties": {
                  "label": "Teheran",
                  "passengers": 8000000,
                  "country": "Iran",
                  "country_id": "ir"
                },
                "coordinates": [
                  35.416111,
                  51.152222
                ],
                "color": "#15AFAC",
                "styles": {
                  "image": "https://raw.githubusercontent.com/lipis/flag-icons/e119b66129af6dd849754ccf25dfbf81d4a306d5/flags/1x1/ir.svg"
                },
                "label": "Teheran",
                "scale_factor": 1,
                "type": "#15AFAC",
                "size": [
                  55,
                  55
                ],
                "position": [
                  0,
                  0
                ],
                "parentId": "group#Iran",
                "heat": 0.07809110629067245
              },
              {
                "id": "TLV",
                "properties": {
                  "label": "Tel Aviv",
                  "passengers": 20000000,
                  "country": "Israel",
                  "country_id": "il"
                },
                "coordinates": [
                  32.011389,
                  34.886667
                ],
                "color": "#15AFAC",
                "styles": {
                  "image": "https://raw.githubusercontent.com/lipis/flag-icons/e119b66129af6dd849754ccf25dfbf81d4a306d5/flags/1x1/il.svg"
                },
                "label": "Tel Aviv",
                "scale_factor": 1,
                "type": "#15AFAC",
                "size": [
                  55,
                  55
                ],
                "position": [
                  0,
                  0
                ],
                "parentId": "group#Israel",
                "heat": 0.20824295010845986
              },
              {
                "id": "KUL",
                "properties": {
                  "label": "Kuala Lumpur",
                  "passengers": 25000000,
                  "country": "Malaysia",
                  "country_id": "my"
                },
                "coordinates": [
                  2.745578,
                  101.709917
                ],
                "color": "#15AFAC",
                "styles": {
                  "image": "https://raw.githubusercontent.com/lipis/flag-icons/e119b66129af6dd849754ccf25dfbf81d4a306d5/flags/1x1/my.svg"
                },
                "label": "Kuala Lumpur",
                "scale_factor": 1,
                "type": "#15AFAC",
                "size": [
                  55,
                  55
                ],
                "position": [
                  0,
                  0
                ],
                "parentId": "group#Malaysia",
                "heat": 0.26247288503253796
              },
              {
                "id": "MNL",
                "properties": {
                  "label": "Manila",
                  "passengers": 8000000,
                  "country": "Philippines",
                  "country_id": "ph"
                },
                "coordinates": [
                  14.508647,
                  121.019581
                ],
                "color": "#15AFAC",
                "styles": {
                  "image": "https://raw.githubusercontent.com/lipis/flag-icons/e119b66129af6dd849754ccf25dfbf81d4a306d5/flags/1x1/ph.svg"
                },
                "label": "Manila",
                "scale_factor": 1,
                "type": "#15AFAC",
                "size": [
                  55,
                  55
                ],
                "position": [
                  0,
                  0
                ],
                "parentId": "group#Philippines",
                "heat": 0.07809110629067245
              },
              {
                "id": "SIN",
                "properties": {
                  "label": "Singapur",
                  "passengers": 32000000,
                  "country": "Singapore",
                  "country_id": "sg"
                },
                "coordinates": [
                  1.350189,
                  103.994433
                ],
                "color": "#15AFAC",
                "styles": {
                  "image": "https://raw.githubusercontent.com/lipis/flag-icons/e119b66129af6dd849754ccf25dfbf81d4a306d5/flags/1x1/sg.svg"
                },
                "label": "Singapur",
                "scale_factor": 1,
                "type": "#15AFAC",
                "size": [
                  55,
                  55
                ],
                "position": [
                  0,
                  0
                ],
                "parentId": "group#Singapore",
                "heat": 0.3383947939262473
              },
              {
                "id": "TPE",
                "properties": {
                  "label": "Taipeh",
                  "passengers": 800000,
                  "country": "Taiwan",
                  "country_id": "tw"
                },
                "coordinates": [
                  25.077732,
                  121.232822
                ],
                "color": "#15AFAC",
                "styles": {
                  "image": "https://raw.githubusercontent.com/lipis/flag-icons/e119b66129af6dd849754ccf25dfbf81d4a306d5/flags/1x1/tw.svg"
                },
                "label": "Taipeh",
                "scale_factor": 1,
                "type": "#15AFAC",
                "size": [
                  55,
                  55
                ],
                "position": [
                  0,
                  0
                ],
                "parentId": "group#Taiwan",
                "heat": 0
              },
              {
                "id": "BKK",
                "properties": {
                  "label": "Bangkok",
                  "passengers": 65000000,
                  "country": "Thailand",
                  "country_id": "th"
                },
                "coordinates": [
                  13.681108,
                  100.747283
                ],
                "color": "#15AFAC",
                "styles": {
                  "image": "https://raw.githubusercontent.com/lipis/flag-icons/e119b66129af6dd849754ccf25dfbf81d4a306d5/flags/1x1/th.svg"
                },
                "label": "Bangkok",
                "scale_factor": 1,
                "type": "#15AFAC",
                "size": [
                  55,
                  55
                ],
                "position": [
                  0,
                  0
                ],
                "parentId": "group#Thailand",
                "heat": 0.6963123644251626
              },
              {
                "id": "IST",
                "properties": {
                  "label": "Istanbul",
                  "passengers": 64000000,
                  "country": "Turkey",
                  "country_id": "tr"
                },
                "coordinates": [
                  40.976922,
                  28.814606
                ],
                "color": "#15AFAC",
                "styles": {
                  "image": "https://raw.githubusercontent.com/lipis/flag-icons/e119b66129af6dd849754ccf25dfbf81d4a306d5/flags/1x1/tr.svg"
                },
                "label": "Istanbul",
                "scale_factor": 1,
                "type": "#15AFAC",
                "size": [
                  55,
                  55
                ],
                "position": [
                  0,
                  0
                ],
                "parentId": "group#Turkey",
                "heat": 0.6854663774403471
              },
              {
                "id": "ULN",
                "properties": {
                  "label": "Ulaanbaatar",
                  "passengers": 1000000,
                  "country": "Mongolia",
                  "country_id": "mn"
                },
                "coordinates": [
                  47.843056,
                  106.766639
                ],
                "color": "#15AFAC",
                "styles": {
                  "image": "https://raw.githubusercontent.com/lipis/flag-icons/e119b66129af6dd849754ccf25dfbf81d4a306d5/flags/1x1/mn.svg"
                },
                "label": "Ulaanbaatar",
                "scale_factor": 1,
                "type": "#15AFAC",
                "size": [
                  55,
                  55
                ],
                "position": [
                  0,
                  0
                ],
                "parentId": "group#Mongolia",
                "heat": 0.0021691973969631237
              },
              {
                "id": "MEL",
                "properties": {
                  "label": "Melbourne",
                  "passengers": 12000000,
                  "country": "Australia",
                  "country_id": "au"
                },
                "coordinates": [
                  -37.673333,
                  144.843333
                ],
                "color": "#15AFAC",
                "styles": {
                  "image": "https://raw.githubusercontent.com/lipis/flag-icons/e119b66129af6dd849754ccf25dfbf81d4a306d5/flags/1x1/au.svg"
                },
                "label": "Melbourne",
                "scale_factor": 1,
                "type": "#15AFAC",
                "size": [
                  55,
                  55
                ],
                "position": [
                  0,
                  0
                ],
                "parentId": "group#Australia",
                "heat": 0.12147505422993492
              },
              {
                "id": "BNE",
                "properties": {
                  "label": "Brisbane",
                  "passengers": 23000000,
                  "country": "Australia",
                  "country_id": "au"
                },
                "coordinates": [
                  -27.383333,
                  153.118056
                ],
                "color": "#15AFAC",
                "styles": {
                  "image": "https://raw.githubusercontent.com/lipis/flag-icons/e119b66129af6dd849754ccf25dfbf81d4a306d5/flags/1x1/au.svg"
                },
                "label": "Brisbane",
                "scale_factor": 1,
                "type": "#15AFAC",
                "size": [
                  55,
                  55
                ],
                "position": [
                  0,
                  0
                ],
                "parentId": "group#Australia",
                "heat": 0.24078091106290672
              },
              {
                "id": "NAN",
                "properties": {
                  "label": "Nadi",
                  "passengers": 2000000,
                  "country": "Fiji",
                  "country_id": "fj"
                },
                "coordinates": [
                  -17.755392,
                  177.443378
                ],
                "color": "#15AFAC",
                "styles": {
                  "image": "https://raw.githubusercontent.com/lipis/flag-icons/e119b66129af6dd849754ccf25dfbf81d4a306d5/flags/1x1/fj.svg"
                },
                "label": "Nadi",
                "scale_factor": 1,
                "type": "#15AFAC",
                "size": [
                  55,
                  55
                ],
                "position": [
                  0,
                  0
                ],
                "parentId": "group#Fiji",
                "heat": 0.013015184381778741
              },
              {
                "id": "AKL",
                "properties": {
                  "label": "Auckland",
                  "passengers": 21000000,
                  "country": "New Zealand",
                  "country_id": "nz"
                },
                "coordinates": [
                  -37.008056,
                  174.791667
                ],
                "color": "#15AFAC",
                "styles": {
                  "image": "https://raw.githubusercontent.com/lipis/flag-icons/e119b66129af6dd849754ccf25dfbf81d4a306d5/flags/1x1/nz.svg"
                },
                "label": "Auckland",
                "scale_factor": 1,
                "type": "#15AFAC",
                "size": [
                  55,
                  55
                ],
                "position": [
                  0,
                  0
                ],
                "parentId": "group#New Zealand",
                "heat": 0.21908893709327548
              },
              {
                "id": "CDG",
                "properties": {
                  "label": "Paris",
                  "passengers": 57000000,
                  "country": "France",
                  "country_id": "fr"
                },
                "coordinates": [
                  49.009722,
                  2.547778
                ],
                "color": "#15AFAC",
                "styles": {
                  "image": "https://raw.githubusercontent.com/lipis/flag-icons/e119b66129af6dd849754ccf25dfbf81d4a306d5/flags/1x1/fr.svg"
                },
                "label": "Paris",
                "scale_factor": 1,
                "type": "#15AFAC",
                "size": [
                  55,
                  55
                ],
                "position": [
                  0,
                  0
                ],
                "parentId": "group#France",
                "heat": 0.6095444685466378
              },
              {
                "id": "MAD",
                "properties": {
                  "label": "Madrid",
                  "passengers": 50000000,
                  "country": "Spain",
                  "country_id": "es"
                },
                "coordinates": [
                  40.4675,
                  -3.551944
                ],
                "color": "#15AFAC",
                "styles": {
                  "image": "https://raw.githubusercontent.com/lipis/flag-icons/e119b66129af6dd849754ccf25dfbf81d4a306d5/flags/1x1/es.svg"
                },
                "label": "Madrid",
                "scale_factor": 1,
                "type": "#15AFAC",
                "size": [
                  55,
                  55
                ],
                "position": [
                  0,
                  0
                ],
                "parentId": "group#Spain",
                "heat": 0.5336225596529284
              },
              {
                "id": "BCN",
                "properties": {
                  "label": "Barcelona",
                  "passengers": 41000000,
                  "country": "Spain",
                  "country_id": "es"
                },
                "coordinates": [
                  41.297078,
                  2.078464
                ],
                "color": "#15AFAC",
                "styles": {
                  "image": "https://raw.githubusercontent.com/lipis/flag-icons/e119b66129af6dd849754ccf25dfbf81d4a306d5/flags/1x1/es.svg"
                },
                "label": "Barcelona",
                "scale_factor": 1,
                "type": "#15AFAC",
                "size": [
                  55,
                  55
                ],
                "position": [
                  0,
                  0
                ],
                "parentId": "group#Spain",
                "heat": 0.4360086767895879
              },
              {
                "id": "FCO",
                "properties": {
                  "label": "Rome",
                  "passengers": 29000000,
                  "country": "Italy",
                  "country_id": "it"
                },
                "coordinates": [
                  41.804444,
                  12.250833
                ],
                "color": "#15AFAC",
                "styles": {
                  "image": "https://raw.githubusercontent.com/lipis/flag-icons/e119b66129af6dd849754ccf25dfbf81d4a306d5/flags/1x1/it.svg"
                },
                "label": "Rome",
                "scale_factor": 1,
                "type": "#15AFAC",
                "size": [
                  55,
                  55
                ],
                "position": [
                  0,
                  0
                ],
                "parentId": "group#Italy",
                "heat": 0.30585683297180044
              },
              {
                "id": "CPH",
                "properties": {
                  "label": "Copenhagen",
                  "passengers": 30000000,
                  "country": "Denmark",
                  "country_id": "dk"
                },
                "coordinates": [
                  55.617917,
                  12.655972
                ],
                "color": "#15AFAC",
                "styles": {
                  "image": "https://raw.githubusercontent.com/lipis/flag-icons/e119b66129af6dd849754ccf25dfbf81d4a306d5/flags/1x1/dk.svg"
                },
                "label": "Copenhagen",
                "scale_factor": 1,
                "type": "#15AFAC",
                "size": [
                  55,
                  55
                ],
                "position": [
                  0,
                  0
                ],
                "parentId": "group#Denmark",
                "heat": 0.31670281995661603
              },
              {
                "id": "HEL",
                "properties": {
                  "label": "Helsinki",
                  "passengers": 5000000,
                  "country": "Finland",
                  "country_id": "fi"
                },
                "coordinates": [
                  60.317222,
                  24.963333
                ],
                "color": "#15AFAC",
                "styles": {
                  "image": "https://raw.githubusercontent.com/lipis/flag-icons/e119b66129af6dd849754ccf25dfbf81d4a306d5/flags/1x1/fi.svg"
                },
                "label": "Helsinki",
                "scale_factor": 1,
                "type": "#15AFAC",
                "size": [
                  55,
                  55
                ],
                "position": [
                  0,
                  0
                ],
                "parentId": "group#Finland",
                "heat": 0.0455531453362256
              },
              {
                "id": "ATH",
                "properties": {
                  "label": "Athens",
                  "passengers": 22000000,
                  "country": "Greece",
                  "country_id": "gr"
                },
                "coordinates": [
                  37.936358,
                  23.944467
                ],
                "color": "#15AFAC",
                "styles": {
                  "image": "https://raw.githubusercontent.com/lipis/flag-icons/e119b66129af6dd849754ccf25dfbf81d4a306d5/flags/1x1/gr.svg"
                },
                "label": "Athens",
                "scale_factor": 1,
                "type": "#15AFAC",
                "size": [
                  55,
                  55
                ],
                "position": [
                  0,
                  0
                ],
                "parentId": "group#Greece",
                "heat": 0.2299349240780911
              },
              {
                "id": "DUB",
                "properties": {
                  "label": "Dublin",
                  "passengers": 32000000,
                  "country": "Ireland",
                  "country_id": "ie"
                },
                "coordinates": [
                  53.421333,
                  -6.270075
                ],
                "color": "#15AFAC",
                "styles": {
                  "image": "https://raw.githubusercontent.com/lipis/flag-icons/e119b66129af6dd849754ccf25dfbf81d4a306d5/flags/1x1/ie.svg"
                },
                "label": "Dublin",
                "scale_factor": 1,
                "type": "#15AFAC",
                "size": [
                  55,
                  55
                ],
                "position": [
                  0,
                  0
                ],
                "parentId": "group#Ireland",
                "heat": 0.3383947939262473
              },
              {
                "id": "RKV",
                "properties": {
                  "label": "Reykjavik",
                  "passengers": 400000,
                  "country": "Iceland",
                  "country_id": "is"
                },
                "coordinates": [
                  64.13,
                  -21.940556
                ],
                "color": "#15AFAC",
                "styles": {
                  "image": "https://raw.githubusercontent.com/lipis/flag-icons/e119b66129af6dd849754ccf25dfbf81d4a306d5/flags/1x1/is.svg"
                },
                "label": "Reykjavik",
                "scale_factor": 1,
                "type": "#15AFAC",
                "size": [
                  55,
                  55
                ],
                "position": [
                  0,
                  0
                ],
                "parentId": "group#Iceland",
                "heat": -0.004338394793926247
              },
              {
                "id": "OSL",
                "properties": {
                  "label": "Oslo",
                  "passengers": 9000000,
                  "country": "Norway",
                  "country_id": "no"
                },
                "coordinates": [
                  60.193917,
                  11.100361
                ],
                "color": "#15AFAC",
                "styles": {
                  "image": "https://raw.githubusercontent.com/lipis/flag-icons/e119b66129af6dd849754ccf25dfbf81d4a306d5/flags/1x1/no.svg"
                },
                "label": "Oslo",
                "scale_factor": 1,
                "type": "#15AFAC",
                "size": [
                  55,
                  55
                ],
                "position": [
                  0,
                  0
                ],
                "parentId": "group#Norway",
                "heat": 0.08893709327548807
              },
              {
                "id": "VIE",
                "properties": {
                  "label": "Vienna",
                  "passengers": 10000000,
                  "country": "Austria",
                  "country_id": "at"
                },
                "coordinates": [
                  48.110833,
                  16.570833
                ],
                "color": "#15AFAC",
                "styles": {
                  "image": "https://raw.githubusercontent.com/lipis/flag-icons/e119b66129af6dd849754ccf25dfbf81d4a306d5/flags/1x1/at.svg"
                },
                "label": "Vienna",
                "scale_factor": 1,
                "type": "#15AFAC",
                "size": [
                  55,
                  55
                ],
                "position": [
                  0,
                  0
                ],
                "parentId": "group#Austria",
                "heat": 0.09978308026030369
              },
              {
                "id": "LIS",
                "properties": {
                  "label": "Lisbon",
                  "passengers": 28000000,
                  "country": "Portugal",
                  "country_id": "pt"
                },
                "coordinates": [
                  38.774167,
                  -9.134167
                ],
                "color": "#15AFAC",
                "styles": {
                  "image": "https://raw.githubusercontent.com/lipis/flag-icons/e119b66129af6dd849754ccf25dfbf81d4a306d5/flags/1x1/pt.svg"
                },
                "label": "Lisbon",
                "scale_factor": 1,
                "type": "#15AFAC",
                "size": [
                  55,
                  55
                ],
                "position": [
                  0,
                  0
                ],
                "parentId": "group#Portugal",
                "heat": 0.2950108459869848
              },
              {
                "id": "ARN",
                "properties": {
                  "label": "Stockholm",
                  "passengers": 7000000,
                  "country": "Sweden",
                  "country_id": "se"
                },
                "coordinates": [
                  59.651944,
                  17.918611
                ],
                "color": "#15AFAC",
                "styles": {
                  "image": "https://raw.githubusercontent.com/lipis/flag-icons/e119b66129af6dd849754ccf25dfbf81d4a306d5/flags/1x1/se.svg"
                },
                "label": "Stockholm",
                "scale_factor": 1,
                "type": "#15AFAC",
                "size": [
                  55,
                  55
                ],
                "position": [
                  0,
                  0
                ],
                "parentId": "group#Sweden",
                "heat": 0.06724511930585683
              },
              {
                "id": "EDI",
                "properties": {
                  "label": "Edinburgh",
                  "passengers": 14000000,
                  "country": "UK",
                  "country_id": "gb"
                },
                "coordinates": [
                  55.95,
                  -3.3725
                ],
                "color": "#15AFAC",
                "styles": {
                  "image": "https://raw.githubusercontent.com/lipis/flag-icons/e119b66129af6dd849754ccf25dfbf81d4a306d5/flags/1x1/gb.svg"
                },
                "label": "Edinburgh",
                "scale_factor": 1,
                "type": "#15AFAC",
                "size": [
                  55,
                  55
                ],
                "position": [
                  0,
                  0
                ],
                "parentId": "group#UK",
                "heat": 0.14316702819956617
              },
              {
                "id": "ORD",
                "properties": {
                  "label": "Chicago",
                  "passengers": 54000000,
                  "country": "USA",
                  "country_id": "us"
                },
                "coordinates": [
                  41.978603,
                  -87.904842
                ],
                "color": "#15AFAC",
                "styles": {
                  "image": "https://raw.githubusercontent.com/lipis/flag-icons/e119b66129af6dd849754ccf25dfbf81d4a306d5/flags/1x1/us.svg"
                },
                "label": "Chicago",
                "scale_factor": 1,
                "type": "#15AFAC",
                "size": [
                  55,
                  55
                ],
                "position": [
                  0,
                  0
                ],
                "parentId": "group#USA",
                "heat": 0.5770065075921909
              },
              {
                "id": "DFW",
                "properties": {
                  "label": "Dallas",
                  "passengers": 73000000,
                  "country": "USA",
                  "country_id": "us"
                },
                "coordinates": [
                  32.896828,
                  -97.037997
                ],
                "color": "#15AFAC",
                "styles": {
                  "image": "https://raw.githubusercontent.com/lipis/flag-icons/e119b66129af6dd849754ccf25dfbf81d4a306d5/flags/1x1/us.svg"
                },
                "label": "Dallas",
                "scale_factor": 1,
                "type": "#15AFAC",
                "size": [
                  55,
                  55
                ],
                "position": [
                  0,
                  0
                ],
                "parentId": "group#USA",
                "heat": 0.7830802603036876
              },
              {
                "id": "SFO",
                "properties": {
                  "label": "San Francisco",
                  "passengers": 42000000,
                  "country": "USA",
                  "country_id": "us"
                },
                "coordinates": [
                  37.618972,
                  -122.374889
                ],
                "color": "#15AFAC",
                "styles": {
                  "image": "https://raw.githubusercontent.com/lipis/flag-icons/e119b66129af6dd849754ccf25dfbf81d4a306d5/flags/1x1/us.svg"
                },
                "label": "San Francisco",
                "scale_factor": 1,
                "type": "#15AFAC",
                "size": [
                  55,
                  55
                ],
                "position": [
                  0,
                  0
                ],
                "parentId": "group#USA",
                "heat": 0.44685466377440347
              },
              {
                "id": "LAS",
                "properties": {
                  "label": "Las Vegas",
                  "passengers": 52000000,
                  "country": "USA",
                  "country_id": "us"
                },
                "coordinates": [
                  36.080056,
                  -115.15225
                ],
                "color": "#15AFAC",
                "styles": {
                  "image": "https://raw.githubusercontent.com/lipis/flag-icons/e119b66129af6dd849754ccf25dfbf81d4a306d5/flags/1x1/us.svg"
                },
                "label": "Las Vegas",
                "scale_factor": 1,
                "type": "#15AFAC",
                "size": [
                  55,
                  55
                ],
                "position": [
                  0,
                  0
                ],
                "parentId": "group#USA",
                "heat": 0.5553145336225597
              },
              {
                "id": "MIA",
                "properties": {
                  "label": "Miami",
                  "passengers": 50000000,
                  "country": "USA",
                  "country_id": "us"
                },
                "coordinates": [
                  25.79325,
                  -80.290556
                ],
                "color": "#15AFAC",
                "styles": {
                  "image": "https://raw.githubusercontent.com/lipis/flag-icons/e119b66129af6dd849754ccf25dfbf81d4a306d5/flags/1x1/us.svg"
                },
                "label": "Miami",
                "scale_factor": 1,
                "type": "#15AFAC",
                "size": [
                  55,
                  55
                ],
                "position": [
                  0,
                  0
                ],
                "parentId": "group#USA",
                "heat": 0.5336225596529284
              },
              {
                "id": "YYZ",
                "properties": {
                  "label": "Toronto",
                  "passengers": 12000000,
                  "country": "Canada",
                  "country_id": "ca"
                },
                "coordinates": [
                  43.677222,
                  -79.630556
                ],
                "color": "#15AFAC",
                "styles": {
                  "image": "https://raw.githubusercontent.com/lipis/flag-icons/e119b66129af6dd849754ccf25dfbf81d4a306d5/flags/1x1/ca.svg"
                },
                "label": "Toronto",
                "scale_factor": 1,
                "type": "#15AFAC",
                "size": [
                  55,
                  55
                ],
                "position": [
                  0,
                  0
                ],
                "parentId": "group#Canada",
                "heat": 0.12147505422993492
              },
              {
                "id": "YVR",
                "properties": {
                  "label": "Vancouver",
                  "passengers": 19000000,
                  "country": "Canada",
                  "country_id": "ca"
                },
                "coordinates": [
                  49.193889,
                  -123.184444
                ],
                "color": "#15AFAC",
                "styles": {
                  "image": "https://raw.githubusercontent.com/lipis/flag-icons/e119b66129af6dd849754ccf25dfbf81d4a306d5/flags/1x1/ca.svg"
                },
                "label": "Vancouver",
                "scale_factor": 1,
                "type": "#15AFAC",
                "size": [
                  55,
                  55
                ],
                "position": [
                  0,
                  0
                ],
                "parentId": "group#Canada",
                "heat": 0.19739696312364424
              },
              {
                "id": "YUL",
                "properties": {
                  "label": "Montreal",
                  "passengers": 15000000,
                  "country": "Canada",
                  "country_id": "ca"
                },
                "coordinates": [
                  45.47175,
                  -73.736569
                ],
                "color": "#15AFAC",
                "styles": {
                  "image": "https://raw.githubusercontent.com/lipis/flag-icons/e119b66129af6dd849754ccf25dfbf81d4a306d5/flags/1x1/ca.svg"
                },
                "label": "Montreal",
                "scale_factor": 1,
                "type": "#15AFAC",
                "size": [
                  55,
                  55
                ],
                "position": [
                  0,
                  0
                ],
                "parentId": "group#Canada",
                "heat": 0.1540130151843818
              },
              {
                "id": "MEX",
                "properties": {
                  "label": "Mexico-City",
                  "passengers": 46000000,
                  "country": "Mexico",
                  "country_id": "mx"
                },
                "coordinates": [
                  19.436303,
                  -99.072097
                ],
                "color": "#15AFAC",
                "styles": {
                  "image": "https://raw.githubusercontent.com/lipis/flag-icons/e119b66129af6dd849754ccf25dfbf81d4a306d5/flags/1x1/mx.svg"
                },
                "label": "Mexico-City",
                "scale_factor": 1,
                "type": "#15AFAC",
                "size": [
                  55,
                  55
                ],
                "position": [
                  0,
                  0
                ],
                "parentId": "group#Mexico",
                "heat": 0.49023861171366595
              },
              {
                "id": "GUA",
                "properties": {
                  "label": "Guatemala-City",
                  "passengers": 2000000,
                  "country": "Guatemala",
                  "country_id": "gt"
                },
                "coordinates": [
                  14.583272,
                  -90.527475
                ],
                "color": "#15AFAC",
                "styles": {
                  "image": "https://raw.githubusercontent.com/lipis/flag-icons/e119b66129af6dd849754ccf25dfbf81d4a306d5/flags/1x1/gt.svg"
                },
                "label": "Guatemala-City",
                "scale_factor": 1,
                "type": "#15AFAC",
                "size": [
                  55,
                  55
                ],
                "position": [
                  0,
                  0
                ],
                "parentId": "group#Guatemala",
                "heat": 0.013015184381778741
              },
              {
                "id": "EZE",
                "properties": {
                  "label": "Buenos Aires",
                  "passengers": 5000000,
                  "country": "Argentina",
                  "country_id": "ar"
                },
                "coordinates": [
                  -34.822222,
                  -58.535833
                ],
                "color": "#15AFAC",
                "styles": {
                  "image": "https://raw.githubusercontent.com/lipis/flag-icons/e119b66129af6dd849754ccf25dfbf81d4a306d5/flags/1x1/ar.svg"
                },
                "label": "Buenos Aires",
                "scale_factor": 1,
                "type": "#15AFAC",
                "size": [
                  55,
                  55
                ],
                "position": [
                  0,
                  0
                ],
                "parentId": "group#Argentina",
                "heat": 0.0455531453362256
              },
              {
                "id": "GRU",
                "properties": {
                  "label": "Sao Paulo",
                  "passengers": 34000000,
                  "country": "Brazil",
                  "country_id": "br"
                },
                "coordinates": [
                  -23.432075,
                  -46.469511
                ],
                "color": "#15AFAC",
                "styles": {
                  "image": "https://raw.githubusercontent.com/lipis/flag-icons/e119b66129af6dd849754ccf25dfbf81d4a306d5/flags/1x1/br.svg"
                },
                "label": "Sao Paulo",
                "scale_factor": 1,
                "type": "#15AFAC",
                "size": [
                  55,
                  55
                ],
                "position": [
                  0,
                  0
                ],
                "parentId": "group#Brazil",
                "heat": 0.3600867678958785
              },
              {
                "id": "SCL",
                "properties": {
                  "label": "Santiago de Chile",
                  "passengers": 20000000,
                  "country": "Chile",
                  "country_id": "cl"
                },
                "coordinates": [
                  -33.392975,
                  -70.785803
                ],
                "color": "#15AFAC",
                "styles": {
                  "image": "https://raw.githubusercontent.com/lipis/flag-icons/e119b66129af6dd849754ccf25dfbf81d4a306d5/flags/1x1/cl.svg"
                },
                "label": "Santiago de Chile",
                "scale_factor": 1,
                "type": "#15AFAC",
                "size": [
                  55,
                  55
                ],
                "position": [
                  0,
                  0
                ],
                "parentId": "group#Chile",
                "heat": 0.20824295010845986
              },
              {
                "id": "BSB",
                "properties": {
                  "label": "Brasilia",
                  "passengers": 13000000,
                  "country": "Brazil",
                  "country_id": "br"
                },
                "coordinates": [
                  -15.871111,
                  -47.918611
                ],
                "color": "#15AFAC",
                "styles": {
                  "image": "https://raw.githubusercontent.com/lipis/flag-icons/e119b66129af6dd849754ccf25dfbf81d4a306d5/flags/1x1/br.svg"
                },
                "label": "Brasilia",
                "scale_factor": 1,
                "type": "#15AFAC",
                "size": [
                  55,
                  55
                ],
                "position": [
                  0,
                  0
                ],
                "parentId": "group#Brazil",
                "heat": 0.13232104121475055
              },
              {
                "id": "BOG",
                "properties": {
                  "label": "Bogota",
                  "passengers": 36000000,
                  "country": "Colombia",
                  "country_id": "co"
                },
                "coordinates": [
                  4.701594,
                  -74.146947
                ],
                "color": "#15AFAC",
                "styles": {
                  "image": "https://raw.githubusercontent.com/lipis/flag-icons/e119b66129af6dd849754ccf25dfbf81d4a306d5/flags/1x1/co.svg"
                },
                "label": "Bogota",
                "scale_factor": 1,
                "type": "#15AFAC",
                "size": [
                  55,
                  55
                ],
                "position": [
                  0,
                  0
                ],
                "parentId": "group#Colombia",
                "heat": 0.38177874186550975
              },
              {
                "id": "CCS",
                "properties": {
                  "label": "Caracas",
                  "passengers": 8000000,
                  "country": "Venezuela",
                  "country_id": "ve"
                },
                "coordinates": [
                  10.601194,
                  -66.991222
                ],
                "color": "#15AFAC",
                "styles": {
                  "image": "https://raw.githubusercontent.com/lipis/flag-icons/e119b66129af6dd849754ccf25dfbf81d4a306d5/flags/1x1/ve.svg"
                },
                "label": "Caracas",
                "scale_factor": 1,
                "type": "#15AFAC",
                "size": [
                  55,
                  55
                ],
                "position": [
                  0,
                  0
                ],
                "parentId": "group#Venezuela",
                "heat": 0.07809110629067245
              },
              {
                "id": "group#USA",
                "properties": {
                  "label": "USA"
                },
                "color": "#15AFAC",
                "label": "USA",
                "scale_factor": 1,
                "type": "#15AFAC",
                "size": [
                  55,
                  55
                ],
                "position": [
                  0,
                  0
                ],
                "heat": -0.008676789587852495
              },
              {
                "id": "group#Brazil",
                "properties": {
                  "label": "Brazil"
                },
                "color": "#15AFAC",
                "label": "Brazil",
                "scale_factor": 1,
                "type": "#15AFAC",
                "size": [
                  55,
                  55
                ],
                "position": [
                  0,
                  0
                ],
                "heat": -0.008676789587852495
              },
              {
                "id": "group#Peru",
                "properties": {
                  "label": "Peru"
                },
                "color": "#15AFAC",
                "label": "Peru",
                "scale_factor": 1,
                "type": "#15AFAC",
                "size": [
                  55,
                  55
                ],
                "position": [
                  0,
                  0
                ],
                "heat": -0.008676789587852495
              },
              {
                "id": "group#UK",
                "properties": {
                  "label": "UK"
                },
                "color": "#15AFAC",
                "label": "UK",
                "scale_factor": 1,
                "type": "#15AFAC",
                "size": [
                  55,
                  55
                ],
                "position": [
                  0,
                  0
                ],
                "heat": -0.008676789587852495
              },
              {
                "id": "group#Germany",
                "properties": {
                  "label": "Germany"
                },
                "color": "#15AFAC",
                "label": "Germany",
                "scale_factor": 1,
                "type": "#15AFAC",
                "size": [
                  55,
                  55
                ],
                "position": [
                  0,
                  0
                ],
                "heat": -0.008676789587852495
              },
              {
                "id": "group#Russia",
                "properties": {
                  "label": "Russia"
                },
                "color": "#15AFAC",
                "label": "Russia",
                "scale_factor": 1,
                "type": "#15AFAC",
                "size": [
                  55,
                  55
                ],
                "position": [
                  0,
                  0
                ],
                "heat": -0.008676789587852495
              },
              {
                "id": "group#India",
                "properties": {
                  "label": "India"
                },
                "color": "#15AFAC",
                "label": "India",
                "scale_factor": 1,
                "type": "#15AFAC",
                "size": [
                  55,
                  55
                ],
                "position": [
                  0,
                  0
                ],
                "heat": -0.008676789587852495
              },
              {
                "id": "group#China",
                "properties": {
                  "label": "China"
                },
                "color": "#15AFAC",
                "label": "China",
                "scale_factor": 1,
                "type": "#15AFAC",
                "size": [
                  55,
                  55
                ],
                "position": [
                  0,
                  0
                ],
                "heat": -0.008676789587852495
              },
              {
                "id": "group#China",
                "properties": {
                  "label": "China"
                },
                "color": "#15AFAC",
                "label": "China",
                "scale_factor": 1,
                "type": "#15AFAC",
                "size": [
                  55,
                  55
                ],
                "position": [
                  0,
                  0
                ],
                "heat": -0.008676789587852495
              },
              {
                "id": "group#Japan",
                "properties": {
                  "label": "Japan"
                },
                "color": "#15AFAC",
                "label": "Japan",
                "scale_factor": 1,
                "type": "#15AFAC",
                "size": [
                  55,
                  55
                ],
                "position": [
                  0,
                  0
                ],
                "heat": -0.008676789587852495
              },
              {
                "id": "group#UAE",
                "properties": {
                  "label": "UAE"
                },
                "color": "#15AFAC",
                "label": "UAE",
                "scale_factor": 1,
                "type": "#15AFAC",
                "size": [
                  55,
                  55
                ],
                "position": [
                  0,
                  0
                ],
                "heat": -0.008676789587852495
              },
              {
                "id": "group#Senegal",
                "properties": {
                  "label": "Senegal"
                },
                "color": "#15AFAC",
                "label": "Senegal",
                "scale_factor": 1,
                "type": "#15AFAC",
                "size": [
                  55,
                  55
                ],
                "position": [
                  0,
                  0
                ],
                "heat": -0.008676789587852495
              },
              {
                "id": "group#South Africa",
                "properties": {
                  "label": "South Africa"
                },
                "color": "#15AFAC",
                "label": "South Africa",
                "scale_factor": 1,
                "type": "#15AFAC",
                "size": [
                  55,
                  55
                ],
                "position": [
                  0,
                  0
                ],
                "heat": -0.008676789587852495
              },
              {
                "id": "group#Australia",
                "properties": {
                  "label": "Australia"
                },
                "color": "#15AFAC",
                "label": "Australia",
                "scale_factor": 1,
                "type": "#15AFAC",
                "size": [
                  55,
                  55
                ],
                "position": [
                  0,
                  0
                ],
                "heat": -0.008676789587852495
              },
              {
                "id": "group#Kenya",
                "properties": {
                  "label": "Kenya"
                },
                "color": "#15AFAC",
                "label": "Kenya",
                "scale_factor": 1,
                "type": "#15AFAC",
                "size": [
                  55,
                  55
                ],
                "position": [
                  0,
                  0
                ],
                "heat": -0.008676789587852495
              },
              {
                "id": "group#USA",
                "properties": {
                  "label": "USA"
                },
                "color": "#15AFAC",
                "label": "USA",
                "scale_factor": 1,
                "type": "#15AFAC",
                "size": [
                  55,
                  55
                ],
                "position": [
                  0,
                  0
                ],
                "heat": -0.008676789587852495
              },
              {
                "id": "group#USA",
                "properties": {
                  "label": "USA"
                },
                "color": "#15AFAC",
                "label": "USA",
                "scale_factor": 1,
                "type": "#15AFAC",
                "size": [
                  55,
                  55
                ],
                "position": [
                  0,
                  0
                ],
                "heat": -0.008676789587852495
              },
              {
                "id": "group#Egypt",
                "properties": {
                  "label": "Egypt"
                },
                "color": "#15AFAC",
                "label": "Egypt",
                "scale_factor": 1,
                "type": "#15AFAC",
                "size": [
                  55,
                  55
                ],
                "position": [
                  0,
                  0
                ],
                "heat": -0.008676789587852495
              },
              {
                "id": "group#Morocco",
                "properties": {
                  "label": "Morocco"
                },
                "color": "#15AFAC",
                "label": "Morocco",
                "scale_factor": 1,
                "type": "#15AFAC",
                "size": [
                  55,
                  55
                ],
                "position": [
                  0,
                  0
                ],
                "heat": -0.008676789587852495
              },
              {
                "id": "group#Nigeria",
                "properties": {
                  "label": "Nigeria"
                },
                "color": "#15AFAC",
                "label": "Nigeria",
                "scale_factor": 1,
                "type": "#15AFAC",
                "size": [
                  55,
                  55
                ],
                "position": [
                  0,
                  0
                ],
                "heat": -0.008676789587852495
              },
              {
                "id": "group#South Africa",
                "properties": {
                  "label": "South Africa"
                },
                "color": "#15AFAC",
                "label": "South Africa",
                "scale_factor": 1,
                "type": "#15AFAC",
                "size": [
                  55,
                  55
                ],
                "position": [
                  0,
                  0
                ],
                "heat": -0.008676789587852495
              },
              {
                "id": "group#China",
                "properties": {
                  "label": "China"
                },
                "color": "#15AFAC",
                "label": "China",
                "scale_factor": 1,
                "type": "#15AFAC",
                "size": [
                  55,
                  55
                ],
                "position": [
                  0,
                  0
                ],
                "heat": -0.008676789587852495
              },
              {
                "id": "group#Indonesia",
                "properties": {
                  "label": "Indonesia"
                },
                "color": "#15AFAC",
                "label": "Indonesia",
                "scale_factor": 1,
                "type": "#15AFAC",
                "size": [
                  55,
                  55
                ],
                "position": [
                  0,
                  0
                ],
                "heat": -0.008676789587852495
              },
              {
                "id": "group#Iran",
                "properties": {
                  "label": "Iran"
                },
                "color": "#15AFAC",
                "label": "Iran",
                "scale_factor": 1,
                "type": "#15AFAC",
                "size": [
                  55,
                  55
                ],
                "position": [
                  0,
                  0
                ],
                "heat": -0.008676789587852495
              },
              {
                "id": "group#Israel",
                "properties": {
                  "label": "Israel"
                },
                "color": "#15AFAC",
                "label": "Israel",
                "scale_factor": 1,
                "type": "#15AFAC",
                "size": [
                  55,
                  55
                ],
                "position": [
                  0,
                  0
                ],
                "heat": -0.008676789587852495
              },
              {
                "id": "group#Malaysia",
                "properties": {
                  "label": "Malaysia"
                },
                "color": "#15AFAC",
                "label": "Malaysia",
                "scale_factor": 1,
                "type": "#15AFAC",
                "size": [
                  55,
                  55
                ],
                "position": [
                  0,
                  0
                ],
                "heat": -0.008676789587852495
              },
              {
                "id": "group#Philippines",
                "properties": {
                  "label": "Philippines"
                },
                "color": "#15AFAC",
                "label": "Philippines",
                "scale_factor": 1,
                "type": "#15AFAC",
                "size": [
                  55,
                  55
                ],
                "position": [
                  0,
                  0
                ],
                "heat": -0.008676789587852495
              },
              {
                "id": "group#Singapore",
                "properties": {
                  "label": "Singapore"
                },
                "color": "#15AFAC",
                "label": "Singapore",
                "scale_factor": 1,
                "type": "#15AFAC",
                "size": [
                  55,
                  55
                ],
                "position": [
                  0,
                  0
                ],
                "heat": -0.008676789587852495
              },
              {
                "id": "group#Taiwan",
                "properties": {
                  "label": "Taiwan"
                },
                "color": "#15AFAC",
                "label": "Taiwan",
                "scale_factor": 1,
                "type": "#15AFAC",
                "size": [
                  55,
                  55
                ],
                "position": [
                  0,
                  0
                ],
                "heat": -0.008676789587852495
              },
              {
                "id": "group#Thailand",
                "properties": {
                  "label": "Thailand"
                },
                "color": "#15AFAC",
                "label": "Thailand",
                "scale_factor": 1,
                "type": "#15AFAC",
                "size": [
                  55,
                  55
                ],
                "position": [
                  0,
                  0
                ],
                "heat": -0.008676789587852495
              },
              {
                "id": "group#Turkey",
                "properties": {
                  "label": "Turkey"
                },
                "color": "#15AFAC",
                "label": "Turkey",
                "scale_factor": 1,
                "type": "#15AFAC",
                "size": [
                  55,
                  55
                ],
                "position": [
                  0,
                  0
                ],
                "heat": -0.008676789587852495
              },
              {
                "id": "group#Mongolia",
                "properties": {
                  "label": "Mongolia"
                },
                "color": "#15AFAC",
                "label": "Mongolia",
                "scale_factor": 1,
                "type": "#15AFAC",
                "size": [
                  55,
                  55
                ],
                "position": [
                  0,
                  0
                ],
                "heat": -0.008676789587852495
              },
              {
                "id": "group#Australia",
                "properties": {
                  "label": "Australia"
                },
                "color": "#15AFAC",
                "label": "Australia",
                "scale_factor": 1,
                "type": "#15AFAC",
                "size": [
                  55,
                  55
                ],
                "position": [
                  0,
                  0
                ],
                "heat": -0.008676789587852495
              },
              {
                "id": "group#Australia",
                "properties": {
                  "label": "Australia"
                },
                "color": "#15AFAC",
                "label": "Australia",
                "scale_factor": 1,
                "type": "#15AFAC",
                "size": [
                  55,
                  55
                ],
                "position": [
                  0,
                  0
                ],
                "heat": -0.008676789587852495
              },
              {
                "id": "group#Fiji",
                "properties": {
                  "label": "Fiji"
                },
                "color": "#15AFAC",
                "label": "Fiji",
                "scale_factor": 1,
                "type": "#15AFAC",
                "size": [
                  55,
                  55
                ],
                "position": [
                  0,
                  0
                ],
                "heat": -0.008676789587852495
              },
              {
                "id": "group#New Zealand",
                "properties": {
                  "label": "New Zealand"
                },
                "color": "#15AFAC",
                "label": "New Zealand",
                "scale_factor": 1,
                "type": "#15AFAC",
                "size": [
                  55,
                  55
                ],
                "position": [
                  0,
                  0
                ],
                "heat": -0.008676789587852495
              },
              {
                "id": "group#France",
                "properties": {
                  "label": "France"
                },
                "color": "#15AFAC",
                "label": "France",
                "scale_factor": 1,
                "type": "#15AFAC",
                "size": [
                  55,
                  55
                ],
                "position": [
                  0,
                  0
                ],
                "heat": -0.008676789587852495
              },
              {
                "id": "group#Spain",
                "properties": {
                  "label": "Spain"
                },
                "color": "#15AFAC",
                "label": "Spain",
                "scale_factor": 1,
                "type": "#15AFAC",
                "size": [
                  55,
                  55
                ],
                "position": [
                  0,
                  0
                ],
                "heat": -0.008676789587852495
              },
              {
                "id": "group#Spain",
                "properties": {
                  "label": "Spain"
                },
                "color": "#15AFAC",
                "label": "Spain",
                "scale_factor": 1,
                "type": "#15AFAC",
                "size": [
                  55,
                  55
                ],
                "position": [
                  0,
                  0
                ],
                "heat": -0.008676789587852495
              },
              {
                "id": "group#Italy",
                "properties": {
                  "label": "Italy"
                },
                "color": "#15AFAC",
                "label": "Italy",
                "scale_factor": 1,
                "type": "#15AFAC",
                "size": [
                  55,
                  55
                ],
                "position": [
                  0,
                  0
                ],
                "heat": -0.008676789587852495
              },
              {
                "id": "group#Denmark",
                "properties": {
                  "label": "Denmark"
                },
                "color": "#15AFAC",
                "label": "Denmark",
                "scale_factor": 1,
                "type": "#15AFAC",
                "size": [
                  55,
                  55
                ],
                "position": [
                  0,
                  0
                ],
                "heat": -0.008676789587852495
              },
              {
                "id": "group#Finland",
                "properties": {
                  "label": "Finland"
                },
                "color": "#15AFAC",
                "label": "Finland",
                "scale_factor": 1,
                "type": "#15AFAC",
                "size": [
                  55,
                  55
                ],
                "position": [
                  0,
                  0
                ],
                "heat": -0.008676789587852495
              },
              {
                "id": "group#Greece",
                "properties": {
                  "label": "Greece"
                },
                "color": "#15AFAC",
                "label": "Greece",
                "scale_factor": 1,
                "type": "#15AFAC",
                "size": [
                  55,
                  55
                ],
                "position": [
                  0,
                  0
                ],
                "heat": -0.008676789587852495
              },
              {
                "id": "group#Ireland",
                "properties": {
                  "label": "Ireland"
                },
                "color": "#15AFAC",
                "label": "Ireland",
                "scale_factor": 1,
                "type": "#15AFAC",
                "size": [
                  55,
                  55
                ],
                "position": [
                  0,
                  0
                ],
                "heat": -0.008676789587852495
              },
              {
                "id": "group#Iceland",
                "properties": {
                  "label": "Iceland"
                },
                "color": "#15AFAC",
                "label": "Iceland",
                "scale_factor": 1,
                "type": "#15AFAC",
                "size": [
                  55,
                  55
                ],
                "position": [
                  0,
                  0
                ],
                "heat": -0.008676789587852495
              },
              {
                "id": "group#Norway",
                "properties": {
                  "label": "Norway"
                },
                "color": "#15AFAC",
                "label": "Norway",
                "scale_factor": 1,
                "type": "#15AFAC",
                "size": [
                  55,
                  55
                ],
                "position": [
                  0,
                  0
                ],
                "heat": -0.008676789587852495
              },
              {
                "id": "group#Austria",
                "properties": {
                  "label": "Austria"
                },
                "color": "#15AFAC",
                "label": "Austria",
                "scale_factor": 1,
                "type": "#15AFAC",
                "size": [
                  55,
                  55
                ],
                "position": [
                  0,
                  0
                ],
                "heat": -0.008676789587852495
              },
              {
                "id": "group#Portugal",
                "properties": {
                  "label": "Portugal"
                },
                "color": "#15AFAC",
                "label": "Portugal",
                "scale_factor": 1,
                "type": "#15AFAC",
                "size": [
                  55,
                  55
                ],
                "position": [
                  0,
                  0
                ],
                "heat": -0.008676789587852495
              },
              {
                "id": "group#Sweden",
                "properties": {
                  "label": "Sweden"
                },
                "color": "#15AFAC",
                "label": "Sweden",
                "scale_factor": 1,
                "type": "#15AFAC",
                "size": [
                  55,
                  55
                ],
                "position": [
                  0,
                  0
                ],
                "heat": -0.008676789587852495
              },
              {
                "id": "group#UK",
                "properties": {
                  "label": "UK"
                },
                "color": "#15AFAC",
                "label": "UK",
                "scale_factor": 1,
                "type": "#15AFAC",
                "size": [
                  55,
                  55
                ],
                "position": [
                  0,
                  0
                ],
                "heat": -0.008676789587852495
              },
              {
                "id": "group#USA",
                "properties": {
                  "label": "USA"
                },
                "color": "#15AFAC",
                "label": "USA",
                "scale_factor": 1,
                "type": "#15AFAC",
                "size": [
                  55,
                  55
                ],
                "position": [
                  0,
                  0
                ],
                "heat": -0.008676789587852495
              },
              {
                "id": "group#USA",
                "properties": {
                  "label": "USA"
                },
                "color": "#15AFAC",
                "label": "USA",
                "scale_factor": 1,
                "type": "#15AFAC",
                "size": [
                  55,
                  55
                ],
                "position": [
                  0,
                  0
                ],
                "heat": -0.008676789587852495
              },
              {
                "id": "group#USA",
                "properties": {
                  "label": "USA"
                },
                "color": "#15AFAC",
                "label": "USA",
                "scale_factor": 1,
                "type": "#15AFAC",
                "size": [
                  55,
                  55
                ],
                "position": [
                  0,
                  0
                ],
                "heat": -0.008676789587852495
              },
              {
                "id": "group#USA",
                "properties": {
                  "label": "USA"
                },
                "color": "#15AFAC",
                "label": "USA",
                "scale_factor": 1,
                "type": "#15AFAC",
                "size": [
                  55,
                  55
                ],
                "position": [
                  0,
                  0
                ],
                "heat": -0.008676789587852495
              },
              {
                "id": "group#USA",
                "properties": {
                  "label": "USA"
                },
                "color": "#15AFAC",
                "label": "USA",
                "scale_factor": 1,
                "type": "#15AFAC",
                "size": [
                  55,
                  55
                ],
                "position": [
                  0,
                  0
                ],
                "heat": -0.008676789587852495
              },
              {
                "id": "group#Canada",
                "properties": {
                  "label": "Canada"
                },
                "color": "#15AFAC",
                "label": "Canada",
                "scale_factor": 1,
                "type": "#15AFAC",
                "size": [
                  55,
                  55
                ],
                "position": [
                  0,
                  0
                ],
                "heat": -0.008676789587852495
              },
              {
                "id": "group#Canada",
                "properties": {
                  "label": "Canada"
                },
                "color": "#15AFAC",
                "label": "Canada",
                "scale_factor": 1,
                "type": "#15AFAC",
                "size": [
                  55,
                  55
                ],
                "position": [
                  0,
                  0
                ],
                "heat": -0.008676789587852495
              },
              {
                "id": "group#Canada",
                "properties": {
                  "label": "Canada"
                },
                "color": "#15AFAC",
                "label": "Canada",
                "scale_factor": 1,
                "type": "#15AFAC",
                "size": [
                  55,
                  55
                ],
                "position": [
                  0,
                  0
                ],
                "heat": -0.008676789587852495
              },
              {
                "id": "group#Mexico",
                "properties": {
                  "label": "Mexico"
                },
                "color": "#15AFAC",
                "label": "Mexico",
                "scale_factor": 1,
                "type": "#15AFAC",
                "size": [
                  55,
                  55
                ],
                "position": [
                  0,
                  0
                ],
                "heat": -0.008676789587852495
              },
              {
                "id": "group#Guatemala",
                "properties": {
                  "label": "Guatemala"
                },
                "color": "#15AFAC",
                "label": "Guatemala",
                "scale_factor": 1,
                "type": "#15AFAC",
                "size": [
                  55,
                  55
                ],
                "position": [
                  0,
                  0
                ],
                "heat": -0.008676789587852495
              },
              {
                "id": "group#Argentina",
                "properties": {
                  "label": "Argentina"
                },
                "color": "#15AFAC",
                "label": "Argentina",
                "scale_factor": 1,
                "type": "#15AFAC",
                "size": [
                  55,
                  55
                ],
                "position": [
                  0,
                  0
                ],
                "heat": -0.008676789587852495
              },
              {
                "id": "group#Brazil",
                "properties": {
                  "label": "Brazil"
                },
                "color": "#15AFAC",
                "label": "Brazil",
                "scale_factor": 1,
                "type": "#15AFAC",
                "size": [
                  55,
                  55
                ],
                "position": [
                  0,
                  0
                ],
                "heat": -0.008676789587852495
              },
              {
                "id": "group#Chile",
                "properties": {
                  "label": "Chile"
                },
                "color": "#15AFAC",
                "label": "Chile",
                "scale_factor": 1,
                "type": "#15AFAC",
                "size": [
                  55,
                  55
                ],
                "position": [
                  0,
                  0
                ],
                "heat": -0.008676789587852495
              },
              {
                "id": "group#Brazil",
                "properties": {
                  "label": "Brazil"
                },
                "color": "#15AFAC",
                "label": "Brazil",
                "scale_factor": 1,
                "type": "#15AFAC",
                "size": [
                  55,
                  55
                ],
                "position": [
                  0,
                  0
                ],
                "heat": -0.008676789587852495
              },
              {
                "id": "group#Colombia",
                "properties": {
                  "label": "Colombia"
                },
                "color": "#15AFAC",
                "label": "Colombia",
                "scale_factor": 1,
                "type": "#15AFAC",
                "size": [
                  55,
                  55
                ],
                "position": [
                  0,
                  0
                ],
                "heat": -0.008676789587852495
              },
              {
                "id": "group#Venezuela",
                "properties": {
                  "label": "Venezuela"
                },
                "color": "#15AFAC",
                "label": "Venezuela",
                "scale_factor": 1,
                "type": "#15AFAC",
                "size": [
                  55,
                  55
                ],
                "position": [
                  0,
                  0
                ],
                "heat": -0.008676789587852495
              }
            ],
            "_overview": {
              "enabled": null,
              "overview_set": false
            },
            "_selected_graph": [
              [],
              []
            ],
            "_sidebar": {
              "enabled": false,
              "start_with": null
            },
            "_view_count": null,
            "_view_module": "yfiles-jupyter-graphs",
            "_view_module_version": "^1.10.8",
            "_view_name": "GraphView",
            "layout": "IPY_MODEL_d02d8dc16f3447588c72dacf50d905e9"
          }
        },
        "d02d8dc16f3447588c72dacf50d905e9": {
          "model_module": "@jupyter-widgets/base",
          "model_name": "LayoutModel",
          "model_module_version": "1.2.0",
          "state": {
            "_model_module": "@jupyter-widgets/base",
            "_model_module_version": "1.2.0",
            "_model_name": "LayoutModel",
            "_view_count": null,
            "_view_module": "@jupyter-widgets/base",
            "_view_module_version": "1.2.0",
            "_view_name": "LayoutView",
            "align_content": null,
            "align_items": null,
            "align_self": null,
            "border": null,
            "bottom": null,
            "display": null,
            "flex": null,
            "flex_flow": null,
            "grid_area": null,
            "grid_auto_columns": null,
            "grid_auto_flow": null,
            "grid_auto_rows": null,
            "grid_column": null,
            "grid_gap": null,
            "grid_row": null,
            "grid_template_areas": null,
            "grid_template_columns": null,
            "grid_template_rows": null,
            "height": "800px",
            "justify_content": null,
            "justify_items": null,
            "left": null,
            "margin": null,
            "max_height": null,
            "max_width": null,
            "min_height": null,
            "min_width": null,
            "object_fit": null,
            "object_position": null,
            "order": null,
            "overflow": null,
            "overflow_x": null,
            "overflow_y": null,
            "padding": null,
            "right": null,
            "top": null,
            "visibility": null,
            "width": "100%"
          }
        },
        "state": {}
      }
    },
    "colab": {
      "provenance": []
    }
  },
  "nbformat": 4,
  "nbformat_minor": 5
}