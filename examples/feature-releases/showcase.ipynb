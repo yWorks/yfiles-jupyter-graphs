{
  "cells": [
    {
      "cell_type": "markdown",
      "id": "113608e6-c336-46a2-99fc-7350f0731072",
      "metadata": {},
      "source": [
        "# Showcase <a target=\"_blank\" href=\"https://colab.research.google.com/github/yWorks/yfiles-jupyter-graphs/blob/main/examples/feature-releases/showcase.ipynb\"><img src=\"https://colab.research.google.com/assets/colab-badge.svg\" alt=\"Open In Colab\"/></a>\n",
        "\n",
        "This notebook showcases some features of the `yfiles_jupyter_graphs` widget."
      ]
    },
    {
      "cell_type": "code",
      "execution_count": null,
      "id": "3a0ebbde-0510-4ec4-93cf-511948e07ce5",
      "metadata": {},
      "outputs": [],
      "source": [
        "%pip install yfiles_jupyter_graphs --quiet\n",
        "from yfiles_jupyter_graphs import GraphWidget"
      ]
    },
    {
      "cell_type": "code",
      "execution_count": null,
      "id": "1d4873da-a6c7-4eeb-9ea5-ee6c30687fd6",
      "metadata": {},
      "outputs": [],
      "source": [
        "try:\n",
        "  import google.colab\n",
        "  from google.colab import output\n",
        "  output.enable_custom_widget_manager()\n",
        "except:\n",
        "  pass"
      ]
    },
    {
      "cell_type": "markdown",
      "id": "59a03284-1fce-49e8-9b41-b00261ec324e",
      "metadata": {},
      "source": [
        "<a target=\"_blank\" href=\"https://colab.research.google.com/github/yWorks/yfiles-jupyter-graphs/blob/main/examples/feature-releases/showcase.ipynb\"><img src=\"https://colab.research.google.com/assets/colab-badge.svg\" alt=\"Open In Colab\"/></a>"
      ]
    },
    {
      "cell_type": "markdown",
      "id": "4e858a55-b18c-488c-babd-6a26e909e8c0",
      "metadata": {},
      "source": [
        "## Sample Data\n",
        "\n",
        "The dataset for this sample is the following airport and flight routes data:"
      ]
    },
    {
      "cell_type": "code",
      "execution_count": null,
      "id": "3873e61a-ed07-4a9f-8255-d188a22a4cbf",
      "metadata": {},
      "outputs": [],
      "source": [
        "airports_json = [\n",
        "    {\"name\": \"Los Angeles\", \"iata\": \"LAX\", \"lat\": 33.942536, \"lng\": -118.408075, \"passengers\": 65000000, \"country\": \"USA\", \"id\": \"LAX\", \"country_id\": \"us\"}, {\"name\": \"Rio de Janeiro\", \"iata\": \"GIG\", \"lat\": -22.808903, \"lng\": -43.243647, \"passengers\": 5000000, \"country\": \"Brazil\", \"id\": \"GIG\",\"country_id\": \"br\"}, {\"name\": \"Lima\", \"iata\": \"LIM\", \"lat\": -12.021889, \"lng\": -77.114319, \"passengers\": 18000000, \"country\": \"Peru\", \"id\": \"LIM\", \"country_id\": \"pe\"}, {\"name\": \"London\", \"iata\": \"LHR\", \"lat\": 51.4775, \"lng\": -0.461389, \"passengers\": 61000000, \"country\": \"UK\", \"id\": \"LHR\", \"country_id\": \"gb\"},\n",
        "    {\"name\": \"Frankfurt\", \"iata\": \"FRA\", \"lat\": 50.033333, \"lng\": 8.570556, \"passengers\": 48000000, \"country\": \"Germany\", \"id\": \"FRA\", \"country_id\": \"de\"}, {\"name\": \"Moscow\", \"iata\": \"SVO\", \"lat\": 55.972642, \"lng\": 37.414589, \"passengers\": 49000000, \"country\": \"Russia\", \"id\": \"SVO\", \"country_id\": \"ru\"}, {\"name\": \"New Delhi\", \"iata\": \"DEL\", \"lat\": 28.5665, \"lng\": 77.103089, \"passengers\": 39000000, \"country\": \"India\", \"id\": \"DEL\", \"country_id\": \"in\"}, {\"name\": \"Shanghai\", \"iata\": \"PVG\", \"lat\": 31.143378, \"lng\": 121.805214, \"passengers\": 32000000, \"country\": \"China\", \"id\": \"PVG\", \"country_id\": \"hk\"},\n",
        "    {\"name\": \"Hongkong\", \"iata\": \"HKG\", \"lat\": 22.308919, \"lng\": 113.914603, \"passengers\": 1000000, \"country\": \"China\", \"id\": \"HKG\", \"country_id\": \"hk\"}, {\"name\": \"Tokio\", \"iata\": \"NRT\", \"lat\": 35.764722, \"lng\": 140.386389, \"passengers\": 15000000, \"country\": \"Japan\", \"id\": \"NRT\", \"country_id\": \"jp\"}, {\"name\": \"Dubai\", \"iata\": \"DXB\", \"lat\": 25.252778, \"lng\": 55.364444, \"passengers\": 29000000, \"country\": \"UAE\", \"id\": \"DXB\", \"country_id\": \"ae\"}, {\"name\": \"Dakar\", \"iata\": \"DKR\", \"lat\": 14.670833, \"lng\": -17.072778, \"passengers\": 2000000, \"country\": \"Senegal\", \"id\": \"DKR\", \"country_id\": \"sn\"},\n",
        "    {\"name\": \"Johannesburg\", \"iata\": \"JNB\", \"lat\": -26.133694, \"lng\": 28.242317, \"passengers\": 9000000, \"country\": \"South Africa\", \"id\": \"JNB\", \"country_id\": \"za\"}, {\"name\": \"Sydney\", \"iata\": \"SYD\", \"lat\": -33.946111, \"lng\": 151.177222, \"passengers\": 44000000, \"country\": \"Australia\", \"id\": \"SYD\", \"country_id\": \"au\"}, {\"name\": \"Nairobi\", \"iata\": \"NBO\", \"lat\": -1.319167, \"lng\": 36.927778, \"passengers\": 900000, \"country\": \"Kenya\", \"id\": \"NBO\", \"country_id\": \"ke\"}, {\"name\": \"Atlanta\", \"iata\": \"ATL\", \"lat\": 33.639167, \"lng\": -84.427778, \"passengers\": 93000000, \"country\": \"USA\", \"id\": \"ATL\", \"country_id\": \"us\"},\n",
        "    {\"name\": \"New York City\", \"iata\": \"JFK\", \"lat\": 40.63975, \"lng\": -73.778925, \"passengers\": 55000000, \"country\": \"USA\", \"id\": \"JFK\", \"country_id\": \"us\"}, {\"name\": \"Cairo\", \"iata\": \"CAI\", \"lat\": 30.121944, \"lng\": 31.405556, \"passengers\": 14000000, \"country\": \"Egypt\", \"id\": \"CAI\", \"country_id\": \"eg\"}, {\"name\": \"Casablanca\", \"iata\": \"CMN\", \"lat\": 33.367467, \"lng\": -7.589967, \"passengers\": 7000000, \"country\": \"Morocco\", \"id\": \"CMN\", \"country_id\": \"ma\"}, {\"name\": \"Lagos\", \"iata\": \"LOS\", \"lat\": 6.577222, \"lng\": 3.321111, \"passengers\": 5000000, \"country\": \"Nigeria\", \"id\": \"LOS\", \"country_id\": \"ng\"},\n",
        "    {\"name\": \"Cape Town\", \"iata\": \"CPT\", \"lat\": -33.969444, \"lng\": 18.597222, \"passengers\": 5000000, \"country\": \"South Africa\", \"id\": \"CPT\", \"country_id\": \"za\"}, {\"name\": \"Chengdu\", \"iata\": \"CTU\", \"lat\": 30.578333, \"lng\": 103.946944, \"passengers\": 40000000, \"country\": \"China\", \"id\": \"CTU\", \"country_id\": \"hk\"}, {\"name\": \"Jakarta\", \"iata\": \"CGK\", \"lat\": -6.125567, \"lng\": 106.655897, \"passengers\": 54000000, \"country\": \"Indonesia\", \"id\": \"CGK\", \"country_id\": \"id\"}, {\"name\": \"Teheran\", \"iata\": \"IKA\", \"lat\": 35.416111, \"lng\": 51.152222, \"passengers\": 8000000, \"country\": \"Iran\", \"id\": \"IKA\", \"country_id\": \"ir\"},\n",
        "    {\"name\": \"Tel Aviv\", \"iata\": \"TLV\", \"lat\": 32.011389, \"lng\": 34.886667, \"passengers\": 20000000, \"country\": \"Israel\", \"id\": \"TLV\", \"country_id\": \"il\"}, {\"name\": \"Kuala Lumpur\", \"iata\": \"KUL\", \"lat\": 2.745578, \"lng\": 101.709917, \"passengers\": 25000000, \"country\": \"Malaysia\", \"id\": \"KUL\", \"country_id\": \"my\"}, {\"name\": \"Manila\", \"iata\": \"MNL\", \"lat\": 14.508647, \"lng\": 121.019581, \"passengers\": 8000000, \"country\": \"Philippines\", \"id\": \"MNL\", \"country_id\": \"ph\"}, {\"name\": \"Singapur\", \"iata\": \"SIN\", \"lat\": 1.350189, \"lng\": 103.994433, \"passengers\": 32000000, \"country\": \"Singapore\", \"id\": \"SIN\", \"country_id\": \"sg\"},\n",
        "    {\"name\": \"Taipeh\", \"iata\": \"TPE\", \"lat\": 25.077732, \"lng\": 121.232822, \"passengers\": 800000, \"country\": \"Taiwan\", \"id\": \"TPE\", \"country_id\": \"tw\"}, {\"name\": \"Bangkok\", \"iata\": \"BKK\", \"lat\": 13.681108, \"lng\": 100.747283, \"passengers\": 65000000, \"country\": \"Thailand\", \"id\": \"BKK\", \"country_id\": \"th\"}, {\"name\": \"Istanbul\", \"iata\": \"IST\", \"lat\": 40.976922, \"lng\": 28.814606, \"passengers\": 64000000, \"country\": \"Turkey\", \"id\": \"IST\", \"country_id\": \"tr\"}, {\"name\": \"Ulaanbaatar\", \"iata\": \"ULN\", \"lat\": 47.843056, \"lng\": 106.766639, \"passengers\": 1000000, \"country\": \"Mongolia\", \"id\": \"ULN\", \"country_id\": \"mn\"},\n",
        "    {\"name\": \"Melbourne\", \"iata\": \"MEL\", \"lat\": -37.673333, \"lng\": 144.843333, \"passengers\": 12000000, \"country\": \"Australia\", \"id\": \"MEL\", \"country_id\": \"au\"}, {\"name\": \"Brisbane\", \"iata\": \"BNE\", \"lat\": -27.383333, \"lng\": 153.118056, \"passengers\": 23000000, \"country\": \"Australia\", \"id\": \"BNE\", \"country_id\": \"au\"}, {\"name\": \"Nadi\", \"iata\": \"NAN\", \"lat\": -17.755392, \"lng\": 177.443378, \"passengers\": 2000000, \"country\": \"Fiji\", \"id\": \"NAN\", \"country_id\": \"fj\"}, {\"name\": \"Auckland\", \"iata\": \"AKL\", \"lat\": -37.008056, \"lng\": 174.791667, \"passengers\": 21000000, \"country\": \"New Zealand\", \"id\": \"AKL\", \"country_id\": \"nz\"},\n",
        "    {\"name\": \"Paris\", \"iata\": \"CDG\", \"lat\": 49.009722, \"lng\": 2.547778, \"passengers\": 57000000, \"country\": \"France\", \"id\": \"CDG\", \"country_id\": \"fr\"}, {\"name\": \"Madrid\", \"iata\": \"MAD\", \"lat\": 40.4675, \"lng\": -3.551944, \"passengers\": 50000000, \"country\": \"Spain\", \"id\": \"MAD\", \"country_id\": \"es\"}, {\"name\": \"Barcelona\", \"iata\": \"BCN\", \"lat\": 41.297078, \"lng\": 2.078464, \"passengers\": 41000000, \"country\": \"Spain\", \"id\": \"BCN\", \"country_id\": \"es\"}, {\"name\": \"Rome\", \"iata\": \"FCO\", \"lat\": 41.804444, \"lng\": 12.250833, \"passengers\": 29000000, \"country\": \"Italy\", \"id\": \"FCO\", \"country_id\": \"it\"},\n",
        "    {\"name\": \"Copenhagen\", \"iata\": \"CPH\", \"lat\": 55.617917, \"lng\": 12.655972, \"passengers\": 30000000, \"country\": \"Denmark\", \"id\": \"CPH\", \"country_id\": \"dk\"}, {\"name\": \"Helsinki\", \"iata\": \"HEL\", \"lat\": 60.317222, \"lng\": 24.963333, \"passengers\": 5000000, \"country\": \"Finland\", \"id\": \"HEL\", \"country_id\": \"fi\"}, {\"name\": \"Athens\", \"iata\": \"ATH\", \"lat\": 37.936358, \"lng\": 23.944467, \"passengers\": 22000000, \"country\": \"Greece\", \"id\": \"ATH\", \"country_id\": \"gr\"}, {\"name\": \"Dublin\", \"iata\": \"DUB\", \"lat\": 53.421333, \"lng\": -6.270075, \"passengers\": 32000000, \"country\": \"Ireland\", \"id\": \"DUB\", \"country_id\": \"ie\"},\n",
        "    {\"name\": \"Reykjavik\", \"iata\": \"RKV\", \"lat\": 64.13, \"lng\": -21.940556, \"passengers\": 400000, \"country\": \"Iceland\", \"id\": \"RKV\", \"country_id\": \"is\"}, {\"name\": \"Oslo\", \"iata\": \"OSL\", \"lat\": 60.193917, \"lng\": 11.100361, \"passengers\": 9000000, \"country\": \"Norway\", \"id\": \"OSL\", \"country_id\": \"no\"}, {\"name\": \"Vienna\", \"iata\": \"VIE\", \"lat\": 48.110833, \"lng\": 16.570833, \"passengers\": 10000000, \"country\": \"Austria\", \"id\": \"VIE\", \"country_id\": \"at\"}, {\"name\": \"Lisbon\", \"iata\": \"LIS\", \"lat\": 38.774167, \"lng\": -9.134167, \"passengers\": 28000000, \"country\": \"Portugal\", \"id\": \"LIS\", \"country_id\": \"pt\"},\n",
        "    {\"name\": \"Stockholm\", \"iata\": \"ARN\", \"lat\": 59.651944, \"lng\": 17.918611, \"passengers\": 7000000, \"country\": \"Sweden\", \"id\": \"ARN\", \"country_id\": \"se\"}, {\"name\": \"Edinburgh\", \"iata\": \"EDI\", \"lat\": 55.95, \"lng\": -3.3725, \"passengers\": 14000000, \"country\": \"UK\", \"id\": \"EDI\", \"country_id\": \"gb\"}, {\"name\": \"Chicago\", \"iata\": \"ORD\", \"lat\": 41.978603, \"lng\": -87.904842, \"passengers\": 54000000, \"country\": \"USA\", \"id\": \"ORD\", \"country_id\": \"us\"}, {\"name\": \"Dallas\", \"iata\": \"DFW\", \"lat\": 32.896828, \"lng\": -97.037997, \"passengers\": 73000000, \"country\": \"USA\", \"id\": \"DFW\", \"country_id\": \"us\"},\n",
        "    {\"name\": \"San Francisco\", \"iata\": \"SFO\", \"lat\": 37.618972, \"lng\": -122.374889, \"passengers\": 42000000, \"country\": \"USA\", \"id\": \"SFO\", \"country_id\": \"us\"}, {\"name\": \"Las Vegas\", \"iata\": \"LAS\", \"lat\": 36.080056, \"lng\": -115.15225, \"passengers\": 52000000, \"country\": \"USA\", \"id\": \"LAS\", \"country_id\": \"us\"}, {\"name\": \"Miami\", \"iata\": \"MIA\", \"lat\": 25.79325, \"lng\": -80.290556, \"passengers\": 50000000, \"country\": \"USA\", \"id\": \"MIA\", \"country_id\": \"us\"}, {\"name\": \"Toronto\", \"iata\": \"YYZ\", \"lat\": 43.677222, \"lng\": -79.630556, \"passengers\": 12000000, \"country\": \"Canada\", \"id\": \"YYZ\", \"country_id\": \"ca\"},\n",
        "    {\"name\": \"Vancouver\", \"iata\": \"YVR\", \"lat\": 49.193889, \"lng\": -123.184444, \"passengers\": 19000000, \"country\": \"Canada\", \"id\": \"YVR\", \"country_id\": \"ca\"}, {\"name\": \"Montreal\", \"iata\": \"YUL\", \"lat\": 45.47175, \"lng\": -73.736569, \"passengers\": 15000000, \"country\": \"Canada\", \"id\": \"YUL\", \"country_id\": \"ca\"}, {\"name\": \"Mexico-City\", \"iata\": \"MEX\", \"lat\": 19.436303, \"lng\": -99.072097, \"passengers\": 46000000, \"country\": \"Mexico\", \"id\": \"MEX\", \"country_id\": \"mx\"}, {\"name\": \"Guatemala-City\", \"iata\": \"GUA\", \"lat\": 14.583272, \"lng\": -90.527475, \"passengers\": 2000000, \"country\": \"Guatemala\", \"id\": \"GUA\", \"country_id\": \"gt\"},\n",
        "    {\"name\": \"Buenos Aires\", \"iata\": \"EZE\", \"lat\": -34.822222, \"lng\": -58.535833, \"passengers\": 5000000, \"country\": \"Argentina\", \"id\": \"EZE\", \"country_id\": \"ar\"}, {\"name\": \"Sao Paulo\", \"iata\": \"GRU\", \"lat\": -23.432075, \"lng\": -46.469511, \"passengers\": 34000000, \"country\": \"Brazil\", \"id\": \"GRU\", \"country_id\": \"br\"}, {\"name\": \"Santiago de Chile\", \"iata\": \"SCL\", \"lat\": -33.392975, \"lng\": -70.785803, \"passengers\": 20000000, \"country\": \"Chile\", \"id\": \"SCL\", \"country_id\": \"cl\"}, {\"name\": \"Brasilia\", \"iata\": \"BSB\", \"lat\": -15.871111, \"lng\": -47.918611, \"passengers\": 13000000, \"country\": \"Brazil\", \"id\": \"BSB\", \"country_id\": \"br\"},\n",
        "    {\"name\": \"Bogota\", \"iata\": \"BOG\", \"lat\": 4.701594, \"lng\": -74.146947, \"passengers\": 36000000, \"country\": \"Colombia\", \"id\": \"BOG\", \"country_id\": \"co\"}, {\"name\": \"Caracas\", \"iata\": \"CCS\", \"lat\": 10.601194, \"lng\": -66.991222, \"passengers\": 8000000, \"country\": \"Venezuela\", \"id\": \"CCS\", \"country_id\": \"ve\"}\n",
        "  ]\n",
        "\n",
        "connections_json = [\n",
        "    {'from': 'LAX','to': 'JFK' },   {'from': 'JFK','to': 'GIG' },    {'from': 'JFK','to': 'LIM' },    {'from': 'JFK','to': 'LHR' },    {'from': 'GIG','to': 'FRA' },    {'from': 'LIM','to': 'GIG' },    {'from': 'FRA','to': 'JFK' },    {'from': 'LHR','to': 'FRA' },    {'from': 'FRA','to': 'SVO' },    {'from': 'FRA','to': 'DXB' },    {'from': 'SVO','to': 'DEL' },\n",
        "    {'from': 'SVO','to': 'PVG' },    {'from': 'DEL','to': 'HKG' },    {'from': 'PVG','to': 'HKG' },    {'from': 'PVG','to': 'NRT' },    {'from': 'HKG','to': 'SYD' },    {'from': 'NRT','to': 'SYD' },    {'from': 'DXB','to': 'SVO' },    {'from': 'DXB','to': 'DEL' },    {'from': 'DXB','to': 'DKR' },    {'from': 'DXB','to': 'JNB' },    {'from': 'JNB','to': 'LHR' },\n",
        "    {'from': 'JNB','to': 'DKR' },    {'from': 'SYD','to': 'DXB' },    {'from': 'NBO','to': 'JNB' },    {'from': 'NBO','to': 'DXB' },    {'from': 'ATL','to': 'JFK' },    {'from': 'LAX','to': 'ATL' },    {'from': 'ATL','to': 'LHR' },    {'from': 'ATL','to': 'LIM' },    {'from': 'SCL','to': 'LIM' },    {'from': 'EZE','to': 'SCL' },    {'from': 'SCL','to': 'GRU' },\n",
        "    {'from': 'GIG','to': 'EZE' },    {'from': 'GIG','to': 'GRU' },    {'from': 'BSB','to': 'GIG' },    {'from': 'SCL','to': 'BSB' },    {'from': 'LIM','to': 'BSB' },    {'from': 'BOG','to': 'BSB' },    {'from': 'CCS','to': 'BSB' },    {'from': 'BOG','to': 'GUA' },    {'from': 'CCS','to': 'MIA' },    {'from': 'GUA','to': 'MIA' },    {'from': 'GUA','to': 'MEX' },\n",
        "    {'from': 'MEX','to': 'LAX' },    {'from': 'MEX','to': 'LAX' },    {'from': 'LAX','to': 'SFO' },    {'from': 'SFO','to': 'YVR' },    {'from': 'LAX','to': 'LAS' },    {'from': 'LAX','to': 'DFW' },    {'from': 'LAX','to': 'ORD' },    {'from': 'SFO','to': 'LAS' },    {'from': 'DFW','to': 'ATL' },    {'from': 'ATL','to': 'YYZ' },    {'from': 'ORD','to': 'YYZ' },\n",
        "    {'from': 'YYZ','to': 'YUL' },    {'from': 'YYZ','to': 'JFK' },    {'from': 'YUL','to': 'JFK' },    {'from': 'JNB','to': 'CPT' },    {'from': 'LOS','to': 'DKR' },    {'from': 'NBO','to': 'LOS' },    {'from': 'DKR','to': 'CMN' },    {'from': 'DKR','to': 'CAI' },    {'from': 'NBO','to': 'CAI' },    {'from': 'DXB','to': 'CAI' },    {'from': 'IKA','to': 'DXB' },\n",
        "    {'from': 'IST','to': 'IKA' },    {'from': 'TLV','to': 'ATH' },    {'from': 'CAI','to': 'TLV' },    {'from': 'ATH','to': 'IST' },    {'from': 'FCO','to': 'ATH' },    {'from': 'LIS','to': 'LHR' },    {'from': 'LIS','to': 'MAD' },    {'from': 'MAD','to': 'BCN' },    {'from': 'CDG','to': 'LHR' },    {'from': 'DUB','to': 'LHR' },    {'from': 'EDI','to': 'LHR' },\n",
        "    {'from': 'CDG','to': 'BCN' },    {'from': 'BCN','to': 'FCO' },    {'from': 'VIE','to': 'IST' },    {'from': 'VIE','to': 'SVO' },    {'from': 'CMN','to': 'LIS' },    {'from': 'MAD','to': 'CMN' },    {'from': 'FRA','to': 'CPH' },    {'from': 'LHR','to': 'CPH' },    {'from': 'CPH','to': 'OSL' },    {'from': 'CPH','to': 'ARN' },    {'from': 'ARN','to': 'HEL' },\n",
        "    {'from': 'HEL','to': 'SVO' },    {'from': 'ULN','to': 'PVG' },    {'from': 'CTU','to': 'PVG' },    {'from': 'PVG','to': 'TPE' },    {'from': 'CTU','to': 'HKG' },    {'from': 'TPE','to': 'HKG' },    {'from': 'HKG','to': 'MNL' },    {'from': 'BKK','to': 'HKG' },    {'from': 'SIN','to': 'KUL' },    {'from': 'SIN','to': 'BKK' },    {'from': 'CGK','to': 'SIN' },\n",
        "    {'from': 'MNL','to': 'SIN' },    {'from': 'SIN','to': 'SYD' },    {'from': 'BNE','to': 'SYD' },    {'from': 'SYD','to': 'MEL' },    {'from': 'NAN','to': 'SYD' },    {'from': 'AKL','to': 'SYD' },    {'from': 'NAN','to': 'AKL' },    {'from': 'RKV','to': 'LHR' },    {'from': 'BCN','to': 'CDG' },    {'from': 'BCN','to': 'FRA' },    {'from': 'FCO','to': 'FRA' },\n",
        "    {'from': 'BOG','to': 'MEX' },    {'from': 'BOG','to': 'GRU' },    {'from': 'ATL','to': 'MIA' },    {'from': 'FRA','to': 'IST' },    {'from': 'IST','to': 'DEL' },    {'from': 'PVG','to': 'BKK' },    {'from': 'DEL','to': 'BKK' },\n",
        "  ]\n",
        "\n",
        "def initData():\n",
        "    return ([\n",
        "        {\"id\": airport['iata'], \"properties\": {\"label\": airport['name'], 'passengers': airport['passengers'], 'country': airport['country'], \"country_id\": airport['country_id']}, \"coordinates\": [airport['lat'], airport['lng']]}\n",
        "        for airport in airports_json\n",
        "    ], [\n",
        "        {\"start\": connection['from'], \"end\": connection['to'], \"label\": \"\", \"properties\": {}, \"directed\": False}\n",
        "        for connection in connections_json\n",
        "    ])\n",
        "\n",
        "airports, connections = initData()"
      ]
    },
    {
      "cell_type": "markdown",
      "id": "9bfba458-c2f7-4019-a1ba-d411d51a96e8",
      "metadata": {},
      "source": [
        "## Data-driven visualization\n",
        "\n",
        "Make the flight data more accessible with simple node styling options. \n",
        "\n",
        "The widget supports lots of different options to adjust the diagram visualization. All options are data-driven so you can easily map your data characteristics to visual features.   There are many different visualization options for nodes and edges as shown in [08_styles_mapping.ipynb](../08_styles_mapping.ipynb).\n",
        "\n",
        "In this case, we map the country data to flag icons."
      ]
    },
    {
      "cell_type": "code",
      "execution_count": null,
      "id": "a990cca7-894c-46dc-a90d-b1e2d12026e7",
      "metadata": {},
      "outputs": [],
      "source": [
        "w = GraphWidget()\n",
        "w.edges = connections\n",
        "w.nodes = airports\n",
        "\n",
        "# the data-driven visualization mappings assigns an image to each node\n",
        "w.set_node_styles_mapping(lambda node: {'image': f\"https://raw.githubusercontent.com/lipis/flag-icons/e119b66129af6dd849754ccf25dfbf81d4a306d5/flags/1x1/{node['properties']['country_id']}.svg\"})\n",
        "\n",
        "display(w)"
      ]
    },
    {
      "cell_type": "markdown",
      "id": "28cb9451-114a-493e-bfa9-fbe85ba48169",
      "metadata": {},
      "source": [
        "## Automatic layouts\n",
        "\n",
        "The widget offers several automatic layouts like `hierarchic`, `organic`, `interactive_organic`, `circular`, `radial`, `orthogonal`, and `tree`. Each layout serves a different purpose and can help highlight different aspects of the diagram (see also [22_layouts.ipynb](../22_layouts.ipynb)).\n",
        "\n",
        "You can either choose the layout interactively through the UI of the widget, or programmatically when defining it. For example, set the `circular` layout like so:"
      ]
    },
    {
      "cell_type": "code",
      "execution_count": null,
      "id": "32fde2cd-3857-4852-8697-d8bcada474ef",
      "metadata": {},
      "outputs": [],
      "source": [
        "w = GraphWidget()\n",
        "w.edges = connections\n",
        "w.nodes = airports\n",
        "\n",
        "# programmatically apply the circular layout\n",
        "w.circular_layout()\n",
        "\n",
        "display(w)"
      ]
    },
    {
      "cell_type": "markdown",
      "id": "ea52986a-cef7-406e-9103-314ebd8bfcac",
      "metadata": {},
      "source": [
        "## Map visualization\n",
        "\n",
        "A special kind of layout is the map feature (see also [30_leaflet_mapping.ipynb](../30_leaflet_mapping.ipynb)). In this case, the `lat` / `lng` properties of the nodes are used while a map is shown in the background."
      ]
    },
    {
      "cell_type": "code",
      "execution_count": null,
      "id": "a4ee52af-7f3b-4441-ab8a-db9e4590e7f6",
      "metadata": {},
      "outputs": [],
      "source": [
        "w = GraphWidget()\n",
        "w.edges = connections\n",
        "w.nodes = airports\n",
        "\n",
        "# use the coordinates data of the dataset\n",
        "w.node_coordinate_mapping = \"coordinates\"\n",
        "w.map_layout()\n",
        "\n",
        "display(w)"
      ]
    },
    {
      "cell_type": "markdown",
      "id": "61580169-4ab4-4a9d-946d-36cfbd925be5",
      "metadata": {},
      "source": [
        "## Node grouping\n",
        "\n",
        "There are different ways to group nodes. Either use already given node objects in the dataset or generate new \"artifical\" nodes that are used as groups. Both approaches are explained in [31_nested_graphs.ipynb](../31_nested_graphs.ipynb).\n",
        "\n",
        "In this case, we use the `country` property of the dataset to create new \"artifical\" group nodes that are not part of the initial input data. The new data objects are also considered for any data-driven visualization mappings. So you could also style them separately."
      ]
    },
    {
      "cell_type": "code",
      "execution_count": null,
      "id": "f7fe77a2-7f2a-4f05-bc53-acfe5e706cbc",
      "metadata": {},
      "outputs": [],
      "source": [
        "w = GraphWidget()\n",
        "w.edges = connections\n",
        "w.nodes = airports \n",
        "\n",
        "# use the country property as parent-id for each node, note how the 'nodes' data does not contain distinct country node objects\n",
        "w.node_parent_group_mapping = \"country\"\n",
        "\n",
        "display(w)"
      ]
    },
    {
      "cell_type": "markdown",
      "id": "85f349f3-86f5-4e9b-9b87-756fac3ffb2a",
      "metadata": {},
      "source": [
        "## Heatmap overlay\n",
        "\n",
        "The heat map overlay is another useful way to show an additional layer of information. It maps numerical data to a heatmap which can be used to easily find hotspots in the dataset (see also [29_heat_mapping.ipynb](../29_heat_mapping.ipynb)).\n",
        "\n",
        "In this case, we show the `passengers` property of the dataset as heatmap overlay."
      ]
    },
    {
      "cell_type": "code",
      "execution_count": null,
      "id": "768fa440-a83c-4b46-8e3c-78a335914672",
      "metadata": {},
      "outputs": [],
      "source": [
        "w = GraphWidget()\n",
        "w.nodes = airports\n",
        "w.edges = connections\n",
        "def heat(element):\n",
        "    if 'start' in element:\n",
        "        #edge case\n",
        "        return 0\n",
        "    else: return (element['properties'].get('passengers',0) - 800000)/92200000\n",
        "w.set_heat_mapping(heat)\n",
        "w.map_layout()\n",
        "display(w)"
      ]
    },
    {
      "cell_type": "markdown",
      "id": "ce0db3ba-2dbf-4149-abe4-a962d7dc84a9",
      "metadata": {},
      "source": [
        "## Combining all features\n",
        "\n",
        "All different features can be combined to bring your data to life and help understanding the dataset."
      ]
    },
    {
      "cell_type": "code",
      "execution_count": null,
      "id": "71bd7eba-d048-4a8f-a4b8-f42f0ae8f8a3",
      "metadata": {},
      "outputs": [],
      "source": [
        "w = GraphWidget()\n",
        "w.nodes = airports\n",
        "w.edges = connections\n",
        "w.hierarchic_layout()\n",
        "w.set_heat_mapping(heat)\n",
        "w.node_coordinate_mapping = 'coordinates'\n",
        "w.node_parent_group_mapping = 'country'\n",
        "def styling(node):\n",
        "    if 'country_id' in node['properties']:\n",
        "        return {'image': f\"https://raw.githubusercontent.com/lipis/flag-icons/e119b66129af6dd849754ccf25dfbf81d4a306d5/flags/1x1/{node['properties'].get('country_id')}.svg\"}\n",
        "w.set_node_styles_mapping(styling)\n",
        "display(w)"
      ]
    }
  ],
  "metadata": {
    "kernelspec": {
      "display_name": "Python 3 (ipykernel)",
      "language": "python",
      "name": "python3"
    },
    "language_info": {
      "codemirror_mode": {
        "name": "ipython",
        "version": 3
      },
      "file_extension": ".py",
      "mimetype": "text/x-python",
      "name": "python",
      "nbconvert_exporter": "python",
      "pygments_lexer": "ipython3",
      "version": "3.12.3"
    },
    "widgets": {
      "application/vnd.jupyter.widget-state+json": {
        "state": {
          "0b2a235f598e4763b2ab27f365223dc4": {
            "model_module": "@jupyter-widgets/base",
            "model_module_version": "2.0.0",
            "model_name": "LayoutModel",
            "state": {
              "height": "800px",
              "width": "100%"
            }
          },
          "1dba8b5f0bdc4612a591aebd9e0ef5e0": {
            "model_module": "@jupyter-widgets/base",
            "model_module_version": "2.0.0",
            "model_name": "LayoutModel",
            "state": {
              "height": "500px",
              "width": "100%"
            }
          },
          "425721dddd00463bb10f3902d2c5e7a8": {
            "model_module": "yfiles-jupyter-graphs",
            "model_module_version": "^1.10.2",
            "model_name": "GraphModel",
            "state": {
              "_context_pane_mapping": [
                {
                  "id": "Neighborhood",
                  "title": "Neighborhood"
                },
                {
                  "id": "Data",
                  "title": "Data"
                },
                {
                  "id": "Search",
                  "title": "Search"
                },
                {
                  "id": "About",
                  "title": "About"
                }
              ],
              "_directed": false,
              "_edges": [
                {
                  "color": "#15AFAC",
                  "directed": false,
                  "end": "JFK",
                  "label": "",
                  "properties": {},
                  "start": "LAX",
                  "styles": {},
                  "thickness_factor": 1
                },
                {
                  "color": "#15AFAC",
                  "directed": false,
                  "end": "GIG",
                  "label": "",
                  "properties": {},
                  "start": "JFK",
                  "styles": {},
                  "thickness_factor": 1
                },
                {
                  "color": "#15AFAC",
                  "directed": false,
                  "end": "LIM",
                  "label": "",
                  "properties": {},
                  "start": "JFK",
                  "styles": {},
                  "thickness_factor": 1
                },
                {
                  "color": "#15AFAC",
                  "directed": false,
                  "end": "LHR",
                  "label": "",
                  "properties": {},
                  "start": "JFK",
                  "styles": {},
                  "thickness_factor": 1
                },
                {
                  "color": "#15AFAC",
                  "directed": false,
                  "end": "FRA",
                  "label": "",
                  "properties": {},
                  "start": "GIG",
                  "styles": {},
                  "thickness_factor": 1
                },
                {
                  "color": "#15AFAC",
                  "directed": false,
                  "end": "GIG",
                  "label": "",
                  "properties": {},
                  "start": "LIM",
                  "styles": {},
                  "thickness_factor": 1
                },
                {
                  "color": "#15AFAC",
                  "directed": false,
                  "end": "JFK",
                  "label": "",
                  "properties": {},
                  "start": "FRA",
                  "styles": {},
                  "thickness_factor": 1
                },
                {
                  "color": "#15AFAC",
                  "directed": false,
                  "end": "FRA",
                  "label": "",
                  "properties": {},
                  "start": "LHR",
                  "styles": {},
                  "thickness_factor": 1
                },
                {
                  "color": "#15AFAC",
                  "directed": false,
                  "end": "SVO",
                  "label": "",
                  "properties": {},
                  "start": "FRA",
                  "styles": {},
                  "thickness_factor": 1
                },
                {
                  "color": "#15AFAC",
                  "directed": false,
                  "end": "DXB",
                  "label": "",
                  "properties": {},
                  "start": "FRA",
                  "styles": {},
                  "thickness_factor": 1
                },
                {
                  "color": "#15AFAC",
                  "directed": false,
                  "end": "DEL",
                  "label": "",
                  "properties": {},
                  "start": "SVO",
                  "styles": {},
                  "thickness_factor": 1
                },
                {
                  "color": "#15AFAC",
                  "directed": false,
                  "end": "PVG",
                  "label": "",
                  "properties": {},
                  "start": "SVO",
                  "styles": {},
                  "thickness_factor": 1
                },
                {
                  "color": "#15AFAC",
                  "directed": false,
                  "end": "HKG",
                  "label": "",
                  "properties": {},
                  "start": "DEL",
                  "styles": {},
                  "thickness_factor": 1
                },
                {
                  "color": "#15AFAC",
                  "directed": false,
                  "end": "HKG",
                  "label": "",
                  "properties": {},
                  "start": "PVG",
                  "styles": {},
                  "thickness_factor": 1
                },
                {
                  "color": "#15AFAC",
                  "directed": false,
                  "end": "NRT",
                  "label": "",
                  "properties": {},
                  "start": "PVG",
                  "styles": {},
                  "thickness_factor": 1
                },
                {
                  "color": "#15AFAC",
                  "directed": false,
                  "end": "SYD",
                  "label": "",
                  "properties": {},
                  "start": "HKG",
                  "styles": {},
                  "thickness_factor": 1
                },
                {
                  "color": "#15AFAC",
                  "directed": false,
                  "end": "SYD",
                  "label": "",
                  "properties": {},
                  "start": "NRT",
                  "styles": {},
                  "thickness_factor": 1
                },
                {
                  "color": "#15AFAC",
                  "directed": false,
                  "end": "SVO",
                  "label": "",
                  "properties": {},
                  "start": "DXB",
                  "styles": {},
                  "thickness_factor": 1
                },
                {
                  "color": "#15AFAC",
                  "directed": false,
                  "end": "DEL",
                  "label": "",
                  "properties": {},
                  "start": "DXB",
                  "styles": {},
                  "thickness_factor": 1
                },
                {
                  "color": "#15AFAC",
                  "directed": false,
                  "end": "DKR",
                  "label": "",
                  "properties": {},
                  "start": "DXB",
                  "styles": {},
                  "thickness_factor": 1
                },
                {
                  "color": "#15AFAC",
                  "directed": false,
                  "end": "JNB",
                  "label": "",
                  "properties": {},
                  "start": "DXB",
                  "styles": {},
                  "thickness_factor": 1
                },
                {
                  "color": "#15AFAC",
                  "directed": false,
                  "end": "LHR",
                  "label": "",
                  "properties": {},
                  "start": "JNB",
                  "styles": {},
                  "thickness_factor": 1
                },
                {
                  "color": "#15AFAC",
                  "directed": false,
                  "end": "DKR",
                  "label": "",
                  "properties": {},
                  "start": "JNB",
                  "styles": {},
                  "thickness_factor": 1
                },
                {
                  "color": "#15AFAC",
                  "directed": false,
                  "end": "DXB",
                  "label": "",
                  "properties": {},
                  "start": "SYD",
                  "styles": {},
                  "thickness_factor": 1
                },
                {
                  "color": "#15AFAC",
                  "directed": false,
                  "end": "JNB",
                  "label": "",
                  "properties": {},
                  "start": "NBO",
                  "styles": {},
                  "thickness_factor": 1
                },
                {
                  "color": "#15AFAC",
                  "directed": false,
                  "end": "DXB",
                  "label": "",
                  "properties": {},
                  "start": "NBO",
                  "styles": {},
                  "thickness_factor": 1
                },
                {
                  "color": "#15AFAC",
                  "directed": false,
                  "end": "JFK",
                  "label": "",
                  "properties": {},
                  "start": "ATL",
                  "styles": {},
                  "thickness_factor": 1
                },
                {
                  "color": "#15AFAC",
                  "directed": false,
                  "end": "ATL",
                  "label": "",
                  "properties": {},
                  "start": "LAX",
                  "styles": {},
                  "thickness_factor": 1
                },
                {
                  "color": "#15AFAC",
                  "directed": false,
                  "end": "LHR",
                  "label": "",
                  "properties": {},
                  "start": "ATL",
                  "styles": {},
                  "thickness_factor": 1
                },
                {
                  "color": "#15AFAC",
                  "directed": false,
                  "end": "LIM",
                  "label": "",
                  "properties": {},
                  "start": "ATL",
                  "styles": {},
                  "thickness_factor": 1
                },
                {
                  "color": "#15AFAC",
                  "directed": false,
                  "end": "LIM",
                  "label": "",
                  "properties": {},
                  "start": "SCL",
                  "styles": {},
                  "thickness_factor": 1
                },
                {
                  "color": "#15AFAC",
                  "directed": false,
                  "end": "SCL",
                  "label": "",
                  "properties": {},
                  "start": "EZE",
                  "styles": {},
                  "thickness_factor": 1
                },
                {
                  "color": "#15AFAC",
                  "directed": false,
                  "end": "GRU",
                  "label": "",
                  "properties": {},
                  "start": "SCL",
                  "styles": {},
                  "thickness_factor": 1
                },
                {
                  "color": "#15AFAC",
                  "directed": false,
                  "end": "EZE",
                  "label": "",
                  "properties": {},
                  "start": "GIG",
                  "styles": {},
                  "thickness_factor": 1
                },
                {
                  "color": "#15AFAC",
                  "directed": false,
                  "end": "GRU",
                  "label": "",
                  "properties": {},
                  "start": "GIG",
                  "styles": {},
                  "thickness_factor": 1
                },
                {
                  "color": "#15AFAC",
                  "directed": false,
                  "end": "GIG",
                  "label": "",
                  "properties": {},
                  "start": "BSB",
                  "styles": {},
                  "thickness_factor": 1
                },
                {
                  "color": "#15AFAC",
                  "directed": false,
                  "end": "BSB",
                  "label": "",
                  "properties": {},
                  "start": "SCL",
                  "styles": {},
                  "thickness_factor": 1
                },
                {
                  "color": "#15AFAC",
                  "directed": false,
                  "end": "BSB",
                  "label": "",
                  "properties": {},
                  "start": "LIM",
                  "styles": {},
                  "thickness_factor": 1
                },
                {
                  "color": "#15AFAC",
                  "directed": false,
                  "end": "BSB",
                  "label": "",
                  "properties": {},
                  "start": "BOG",
                  "styles": {},
                  "thickness_factor": 1
                },
                {
                  "color": "#15AFAC",
                  "directed": false,
                  "end": "BSB",
                  "label": "",
                  "properties": {},
                  "start": "CCS",
                  "styles": {},
                  "thickness_factor": 1
                },
                {
                  "color": "#15AFAC",
                  "directed": false,
                  "end": "GUA",
                  "label": "",
                  "properties": {},
                  "start": "BOG",
                  "styles": {},
                  "thickness_factor": 1
                },
                {
                  "color": "#15AFAC",
                  "directed": false,
                  "end": "MIA",
                  "label": "",
                  "properties": {},
                  "start": "CCS",
                  "styles": {},
                  "thickness_factor": 1
                },
                {
                  "color": "#15AFAC",
                  "directed": false,
                  "end": "MIA",
                  "label": "",
                  "properties": {},
                  "start": "GUA",
                  "styles": {},
                  "thickness_factor": 1
                },
                {
                  "color": "#15AFAC",
                  "directed": false,
                  "end": "MEX",
                  "label": "",
                  "properties": {},
                  "start": "GUA",
                  "styles": {},
                  "thickness_factor": 1
                },
                {
                  "color": "#15AFAC",
                  "directed": false,
                  "end": "LAX",
                  "label": "",
                  "properties": {},
                  "start": "MEX",
                  "styles": {},
                  "thickness_factor": 1
                },
                {
                  "color": "#15AFAC",
                  "directed": false,
                  "end": "LAX",
                  "label": "",
                  "properties": {},
                  "start": "MEX",
                  "styles": {},
                  "thickness_factor": 1
                },
                {
                  "color": "#15AFAC",
                  "directed": false,
                  "end": "SFO",
                  "label": "",
                  "properties": {},
                  "start": "LAX",
                  "styles": {},
                  "thickness_factor": 1
                },
                {
                  "color": "#15AFAC",
                  "directed": false,
                  "end": "YVR",
                  "label": "",
                  "properties": {},
                  "start": "SFO",
                  "styles": {},
                  "thickness_factor": 1
                },
                {
                  "color": "#15AFAC",
                  "directed": false,
                  "end": "LAS",
                  "label": "",
                  "properties": {},
                  "start": "LAX",
                  "styles": {},
                  "thickness_factor": 1
                },
                {
                  "color": "#15AFAC",
                  "directed": false,
                  "end": "DFW",
                  "label": "",
                  "properties": {},
                  "start": "LAX",
                  "styles": {},
                  "thickness_factor": 1
                },
                {
                  "color": "#15AFAC",
                  "directed": false,
                  "end": "ORD",
                  "label": "",
                  "properties": {},
                  "start": "LAX",
                  "styles": {},
                  "thickness_factor": 1
                },
                {
                  "color": "#15AFAC",
                  "directed": false,
                  "end": "LAS",
                  "label": "",
                  "properties": {},
                  "start": "SFO",
                  "styles": {},
                  "thickness_factor": 1
                },
                {
                  "color": "#15AFAC",
                  "directed": false,
                  "end": "ATL",
                  "label": "",
                  "properties": {},
                  "start": "DFW",
                  "styles": {},
                  "thickness_factor": 1
                },
                {
                  "color": "#15AFAC",
                  "directed": false,
                  "end": "YYZ",
                  "label": "",
                  "properties": {},
                  "start": "ATL",
                  "styles": {},
                  "thickness_factor": 1
                },
                {
                  "color": "#15AFAC",
                  "directed": false,
                  "end": "YYZ",
                  "label": "",
                  "properties": {},
                  "start": "ORD",
                  "styles": {},
                  "thickness_factor": 1
                },
                {
                  "color": "#15AFAC",
                  "directed": false,
                  "end": "YUL",
                  "label": "",
                  "properties": {},
                  "start": "YYZ",
                  "styles": {},
                  "thickness_factor": 1
                },
                {
                  "color": "#15AFAC",
                  "directed": false,
                  "end": "JFK",
                  "label": "",
                  "properties": {},
                  "start": "YYZ",
                  "styles": {},
                  "thickness_factor": 1
                },
                {
                  "color": "#15AFAC",
                  "directed": false,
                  "end": "JFK",
                  "label": "",
                  "properties": {},
                  "start": "YUL",
                  "styles": {},
                  "thickness_factor": 1
                },
                {
                  "color": "#15AFAC",
                  "directed": false,
                  "end": "CPT",
                  "label": "",
                  "properties": {},
                  "start": "JNB",
                  "styles": {},
                  "thickness_factor": 1
                },
                {
                  "color": "#15AFAC",
                  "directed": false,
                  "end": "DKR",
                  "label": "",
                  "properties": {},
                  "start": "LOS",
                  "styles": {},
                  "thickness_factor": 1
                },
                {
                  "color": "#15AFAC",
                  "directed": false,
                  "end": "LOS",
                  "label": "",
                  "properties": {},
                  "start": "NBO",
                  "styles": {},
                  "thickness_factor": 1
                },
                {
                  "color": "#15AFAC",
                  "directed": false,
                  "end": "CMN",
                  "label": "",
                  "properties": {},
                  "start": "DKR",
                  "styles": {},
                  "thickness_factor": 1
                },
                {
                  "color": "#15AFAC",
                  "directed": false,
                  "end": "CAI",
                  "label": "",
                  "properties": {},
                  "start": "DKR",
                  "styles": {},
                  "thickness_factor": 1
                },
                {
                  "color": "#15AFAC",
                  "directed": false,
                  "end": "CAI",
                  "label": "",
                  "properties": {},
                  "start": "NBO",
                  "styles": {},
                  "thickness_factor": 1
                },
                {
                  "color": "#15AFAC",
                  "directed": false,
                  "end": "CAI",
                  "label": "",
                  "properties": {},
                  "start": "DXB",
                  "styles": {},
                  "thickness_factor": 1
                },
                {
                  "color": "#15AFAC",
                  "directed": false,
                  "end": "DXB",
                  "label": "",
                  "properties": {},
                  "start": "IKA",
                  "styles": {},
                  "thickness_factor": 1
                },
                {
                  "color": "#15AFAC",
                  "directed": false,
                  "end": "IKA",
                  "label": "",
                  "properties": {},
                  "start": "IST",
                  "styles": {},
                  "thickness_factor": 1
                },
                {
                  "color": "#15AFAC",
                  "directed": false,
                  "end": "ATH",
                  "label": "",
                  "properties": {},
                  "start": "TLV",
                  "styles": {},
                  "thickness_factor": 1
                },
                {
                  "color": "#15AFAC",
                  "directed": false,
                  "end": "TLV",
                  "label": "",
                  "properties": {},
                  "start": "CAI",
                  "styles": {},
                  "thickness_factor": 1
                },
                {
                  "color": "#15AFAC",
                  "directed": false,
                  "end": "IST",
                  "label": "",
                  "properties": {},
                  "start": "ATH",
                  "styles": {},
                  "thickness_factor": 1
                },
                {
                  "color": "#15AFAC",
                  "directed": false,
                  "end": "ATH",
                  "label": "",
                  "properties": {},
                  "start": "FCO",
                  "styles": {},
                  "thickness_factor": 1
                },
                {
                  "color": "#15AFAC",
                  "directed": false,
                  "end": "LHR",
                  "label": "",
                  "properties": {},
                  "start": "LIS",
                  "styles": {},
                  "thickness_factor": 1
                },
                {
                  "color": "#15AFAC",
                  "directed": false,
                  "end": "MAD",
                  "label": "",
                  "properties": {},
                  "start": "LIS",
                  "styles": {},
                  "thickness_factor": 1
                },
                {
                  "color": "#15AFAC",
                  "directed": false,
                  "end": "BCN",
                  "label": "",
                  "properties": {},
                  "start": "MAD",
                  "styles": {},
                  "thickness_factor": 1
                },
                {
                  "color": "#15AFAC",
                  "directed": false,
                  "end": "LHR",
                  "label": "",
                  "properties": {},
                  "start": "CDG",
                  "styles": {},
                  "thickness_factor": 1
                },
                {
                  "color": "#15AFAC",
                  "directed": false,
                  "end": "LHR",
                  "label": "",
                  "properties": {},
                  "start": "DUB",
                  "styles": {},
                  "thickness_factor": 1
                },
                {
                  "color": "#15AFAC",
                  "directed": false,
                  "end": "LHR",
                  "label": "",
                  "properties": {},
                  "start": "EDI",
                  "styles": {},
                  "thickness_factor": 1
                },
                {
                  "color": "#15AFAC",
                  "directed": false,
                  "end": "BCN",
                  "label": "",
                  "properties": {},
                  "start": "CDG",
                  "styles": {},
                  "thickness_factor": 1
                },
                {
                  "color": "#15AFAC",
                  "directed": false,
                  "end": "FCO",
                  "label": "",
                  "properties": {},
                  "start": "BCN",
                  "styles": {},
                  "thickness_factor": 1
                },
                {
                  "color": "#15AFAC",
                  "directed": false,
                  "end": "IST",
                  "label": "",
                  "properties": {},
                  "start": "VIE",
                  "styles": {},
                  "thickness_factor": 1
                },
                {
                  "color": "#15AFAC",
                  "directed": false,
                  "end": "SVO",
                  "label": "",
                  "properties": {},
                  "start": "VIE",
                  "styles": {},
                  "thickness_factor": 1
                },
                {
                  "color": "#15AFAC",
                  "directed": false,
                  "end": "LIS",
                  "label": "",
                  "properties": {},
                  "start": "CMN",
                  "styles": {},
                  "thickness_factor": 1
                },
                {
                  "color": "#15AFAC",
                  "directed": false,
                  "end": "CMN",
                  "label": "",
                  "properties": {},
                  "start": "MAD",
                  "styles": {},
                  "thickness_factor": 1
                },
                {
                  "color": "#15AFAC",
                  "directed": false,
                  "end": "CPH",
                  "label": "",
                  "properties": {},
                  "start": "FRA",
                  "styles": {},
                  "thickness_factor": 1
                },
                {
                  "color": "#15AFAC",
                  "directed": false,
                  "end": "CPH",
                  "label": "",
                  "properties": {},
                  "start": "LHR",
                  "styles": {},
                  "thickness_factor": 1
                },
                {
                  "color": "#15AFAC",
                  "directed": false,
                  "end": "OSL",
                  "label": "",
                  "properties": {},
                  "start": "CPH",
                  "styles": {},
                  "thickness_factor": 1
                },
                {
                  "color": "#15AFAC",
                  "directed": false,
                  "end": "ARN",
                  "label": "",
                  "properties": {},
                  "start": "CPH",
                  "styles": {},
                  "thickness_factor": 1
                },
                {
                  "color": "#15AFAC",
                  "directed": false,
                  "end": "HEL",
                  "label": "",
                  "properties": {},
                  "start": "ARN",
                  "styles": {},
                  "thickness_factor": 1
                },
                {
                  "color": "#15AFAC",
                  "directed": false,
                  "end": "SVO",
                  "label": "",
                  "properties": {},
                  "start": "HEL",
                  "styles": {},
                  "thickness_factor": 1
                },
                {
                  "color": "#15AFAC",
                  "directed": false,
                  "end": "PVG",
                  "label": "",
                  "properties": {},
                  "start": "ULN",
                  "styles": {},
                  "thickness_factor": 1
                },
                {
                  "color": "#15AFAC",
                  "directed": false,
                  "end": "PVG",
                  "label": "",
                  "properties": {},
                  "start": "CTU",
                  "styles": {},
                  "thickness_factor": 1
                },
                {
                  "color": "#15AFAC",
                  "directed": false,
                  "end": "TPE",
                  "label": "",
                  "properties": {},
                  "start": "PVG",
                  "styles": {},
                  "thickness_factor": 1
                },
                {
                  "color": "#15AFAC",
                  "directed": false,
                  "end": "HKG",
                  "label": "",
                  "properties": {},
                  "start": "CTU",
                  "styles": {},
                  "thickness_factor": 1
                },
                {
                  "color": "#15AFAC",
                  "directed": false,
                  "end": "HKG",
                  "label": "",
                  "properties": {},
                  "start": "TPE",
                  "styles": {},
                  "thickness_factor": 1
                },
                {
                  "color": "#15AFAC",
                  "directed": false,
                  "end": "MNL",
                  "label": "",
                  "properties": {},
                  "start": "HKG",
                  "styles": {},
                  "thickness_factor": 1
                },
                {
                  "color": "#15AFAC",
                  "directed": false,
                  "end": "HKG",
                  "label": "",
                  "properties": {},
                  "start": "BKK",
                  "styles": {},
                  "thickness_factor": 1
                },
                {
                  "color": "#15AFAC",
                  "directed": false,
                  "end": "KUL",
                  "label": "",
                  "properties": {},
                  "start": "SIN",
                  "styles": {},
                  "thickness_factor": 1
                },
                {
                  "color": "#15AFAC",
                  "directed": false,
                  "end": "BKK",
                  "label": "",
                  "properties": {},
                  "start": "SIN",
                  "styles": {},
                  "thickness_factor": 1
                },
                {
                  "color": "#15AFAC",
                  "directed": false,
                  "end": "SIN",
                  "label": "",
                  "properties": {},
                  "start": "CGK",
                  "styles": {},
                  "thickness_factor": 1
                },
                {
                  "color": "#15AFAC",
                  "directed": false,
                  "end": "SIN",
                  "label": "",
                  "properties": {},
                  "start": "MNL",
                  "styles": {},
                  "thickness_factor": 1
                },
                {
                  "color": "#15AFAC",
                  "directed": false,
                  "end": "SYD",
                  "label": "",
                  "properties": {},
                  "start": "SIN",
                  "styles": {},
                  "thickness_factor": 1
                },
                {
                  "color": "#15AFAC",
                  "directed": false,
                  "end": "SYD",
                  "label": "",
                  "properties": {},
                  "start": "BNE",
                  "styles": {},
                  "thickness_factor": 1
                },
                {
                  "color": "#15AFAC",
                  "directed": false,
                  "end": "MEL",
                  "label": "",
                  "properties": {},
                  "start": "SYD",
                  "styles": {},
                  "thickness_factor": 1
                },
                {
                  "color": "#15AFAC",
                  "directed": false,
                  "end": "SYD",
                  "label": "",
                  "properties": {},
                  "start": "NAN",
                  "styles": {},
                  "thickness_factor": 1
                },
                {
                  "color": "#15AFAC",
                  "directed": false,
                  "end": "SYD",
                  "label": "",
                  "properties": {},
                  "start": "AKL",
                  "styles": {},
                  "thickness_factor": 1
                },
                {
                  "color": "#15AFAC",
                  "directed": false,
                  "end": "AKL",
                  "label": "",
                  "properties": {},
                  "start": "NAN",
                  "styles": {},
                  "thickness_factor": 1
                },
                {
                  "color": "#15AFAC",
                  "directed": false,
                  "end": "LHR",
                  "label": "",
                  "properties": {},
                  "start": "RKV",
                  "styles": {},
                  "thickness_factor": 1
                },
                {
                  "color": "#15AFAC",
                  "directed": false,
                  "end": "CDG",
                  "label": "",
                  "properties": {},
                  "start": "BCN",
                  "styles": {},
                  "thickness_factor": 1
                },
                {
                  "color": "#15AFAC",
                  "directed": false,
                  "end": "FRA",
                  "label": "",
                  "properties": {},
                  "start": "BCN",
                  "styles": {},
                  "thickness_factor": 1
                },
                {
                  "color": "#15AFAC",
                  "directed": false,
                  "end": "FRA",
                  "label": "",
                  "properties": {},
                  "start": "FCO",
                  "styles": {},
                  "thickness_factor": 1
                },
                {
                  "color": "#15AFAC",
                  "directed": false,
                  "end": "MEX",
                  "label": "",
                  "properties": {},
                  "start": "BOG",
                  "styles": {},
                  "thickness_factor": 1
                },
                {
                  "color": "#15AFAC",
                  "directed": false,
                  "end": "GRU",
                  "label": "",
                  "properties": {},
                  "start": "BOG",
                  "styles": {},
                  "thickness_factor": 1
                },
                {
                  "color": "#15AFAC",
                  "directed": false,
                  "end": "MIA",
                  "label": "",
                  "properties": {},
                  "start": "ATL",
                  "styles": {},
                  "thickness_factor": 1
                },
                {
                  "color": "#15AFAC",
                  "directed": false,
                  "end": "IST",
                  "label": "",
                  "properties": {},
                  "start": "FRA",
                  "styles": {},
                  "thickness_factor": 1
                },
                {
                  "color": "#15AFAC",
                  "directed": false,
                  "end": "DEL",
                  "label": "",
                  "properties": {},
                  "start": "IST",
                  "styles": {},
                  "thickness_factor": 1
                },
                {
                  "color": "#15AFAC",
                  "directed": false,
                  "end": "BKK",
                  "label": "",
                  "properties": {},
                  "start": "PVG",
                  "styles": {},
                  "thickness_factor": 1
                },
                {
                  "color": "#15AFAC",
                  "directed": false,
                  "end": "BKK",
                  "label": "",
                  "properties": {},
                  "start": "DEL",
                  "styles": {},
                  "thickness_factor": 1
                }
              ],
              "_model_module_version": "^1.10.2",
              "_nodes": [
                {
                  "color": "#15AFAC",
                  "coordinates": [
                    33.942536,
                    -118.408075
                  ],
                  "id": "LAX",
                  "label": "Los Angeles",
                  "parentId": "group#USA",
                  "position": [
                    0,
                    0
                  ],
                  "properties": {
                    "country": "USA",
                    "country_id": "us",
                    "label": "Los Angeles",
                    "passengers": 65000000
                  },
                  "scale_factor": 1,
                  "size": [
                    55,
                    55
                  ],
                  "styles": {},
                  "type": "#15AFAC"
                },
                {
                  "color": "#15AFAC",
                  "coordinates": [
                    -22.808903,
                    -43.243647
                  ],
                  "id": "GIG",
                  "label": "Rio de Janeiro",
                  "parentId": "group#Brazil",
                  "position": [
                    0,
                    0
                  ],
                  "properties": {
                    "country": "Brazil",
                    "country_id": "br",
                    "label": "Rio de Janeiro",
                    "passengers": 5000000
                  },
                  "scale_factor": 1,
                  "size": [
                    55,
                    55
                  ],
                  "styles": {},
                  "type": "#15AFAC"
                },
                {
                  "color": "#15AFAC",
                  "coordinates": [
                    -12.021889,
                    -77.114319
                  ],
                  "id": "LIM",
                  "label": "Lima",
                  "parentId": "group#Peru",
                  "position": [
                    0,
                    0
                  ],
                  "properties": {
                    "country": "Peru",
                    "country_id": "pe",
                    "label": "Lima",
                    "passengers": 18000000
                  },
                  "scale_factor": 1,
                  "size": [
                    55,
                    55
                  ],
                  "styles": {},
                  "type": "#15AFAC"
                },
                {
                  "color": "#15AFAC",
                  "coordinates": [
                    51.4775,
                    -0.461389
                  ],
                  "id": "LHR",
                  "label": "London",
                  "parentId": "group#UK",
                  "position": [
                    0,
                    0
                  ],
                  "properties": {
                    "country": "UK",
                    "country_id": "gb",
                    "label": "London",
                    "passengers": 61000000
                  },
                  "scale_factor": 1,
                  "size": [
                    55,
                    55
                  ],
                  "styles": {},
                  "type": "#15AFAC"
                },
                {
                  "color": "#15AFAC",
                  "coordinates": [
                    50.033333,
                    8.570556
                  ],
                  "id": "FRA",
                  "label": "Frankfurt",
                  "parentId": "group#Germany",
                  "position": [
                    0,
                    0
                  ],
                  "properties": {
                    "country": "Germany",
                    "country_id": "de",
                    "label": "Frankfurt",
                    "passengers": 48000000
                  },
                  "scale_factor": 1,
                  "size": [
                    55,
                    55
                  ],
                  "styles": {},
                  "type": "#15AFAC"
                },
                {
                  "color": "#15AFAC",
                  "coordinates": [
                    55.972642,
                    37.414589
                  ],
                  "id": "SVO",
                  "label": "Moscow",
                  "parentId": "group#Russia",
                  "position": [
                    0,
                    0
                  ],
                  "properties": {
                    "country": "Russia",
                    "country_id": "ru",
                    "label": "Moscow",
                    "passengers": 49000000
                  },
                  "scale_factor": 1,
                  "size": [
                    55,
                    55
                  ],
                  "styles": {},
                  "type": "#15AFAC"
                },
                {
                  "color": "#15AFAC",
                  "coordinates": [
                    28.5665,
                    77.103089
                  ],
                  "id": "DEL",
                  "label": "New Delhi",
                  "parentId": "group#India",
                  "position": [
                    0,
                    0
                  ],
                  "properties": {
                    "country": "India",
                    "country_id": "in",
                    "label": "New Delhi",
                    "passengers": 39000000
                  },
                  "scale_factor": 1,
                  "size": [
                    55,
                    55
                  ],
                  "styles": {},
                  "type": "#15AFAC"
                },
                {
                  "color": "#15AFAC",
                  "coordinates": [
                    31.143378,
                    121.805214
                  ],
                  "id": "PVG",
                  "label": "Shanghai",
                  "parentId": "group#China",
                  "position": [
                    0,
                    0
                  ],
                  "properties": {
                    "country": "China",
                    "country_id": "hk",
                    "label": "Shanghai",
                    "passengers": 32000000
                  },
                  "scale_factor": 1,
                  "size": [
                    55,
                    55
                  ],
                  "styles": {},
                  "type": "#15AFAC"
                },
                {
                  "color": "#15AFAC",
                  "coordinates": [
                    22.308919,
                    113.914603
                  ],
                  "id": "HKG",
                  "label": "Hongkong",
                  "parentId": "group#China",
                  "position": [
                    0,
                    0
                  ],
                  "properties": {
                    "country": "China",
                    "country_id": "hk",
                    "label": "Hongkong",
                    "passengers": 1000000
                  },
                  "scale_factor": 1,
                  "size": [
                    55,
                    55
                  ],
                  "styles": {},
                  "type": "#15AFAC"
                },
                {
                  "color": "#15AFAC",
                  "coordinates": [
                    35.764722,
                    140.386389
                  ],
                  "id": "NRT",
                  "label": "Tokio",
                  "parentId": "group#Japan",
                  "position": [
                    0,
                    0
                  ],
                  "properties": {
                    "country": "Japan",
                    "country_id": "jp",
                    "label": "Tokio",
                    "passengers": 15000000
                  },
                  "scale_factor": 1,
                  "size": [
                    55,
                    55
                  ],
                  "styles": {},
                  "type": "#15AFAC"
                },
                {
                  "color": "#15AFAC",
                  "coordinates": [
                    25.252778,
                    55.364444
                  ],
                  "id": "DXB",
                  "label": "Dubai",
                  "parentId": "group#UAE",
                  "position": [
                    0,
                    0
                  ],
                  "properties": {
                    "country": "UAE",
                    "country_id": "ae",
                    "label": "Dubai",
                    "passengers": 29000000
                  },
                  "scale_factor": 1,
                  "size": [
                    55,
                    55
                  ],
                  "styles": {},
                  "type": "#15AFAC"
                },
                {
                  "color": "#15AFAC",
                  "coordinates": [
                    14.670833,
                    -17.072778
                  ],
                  "id": "DKR",
                  "label": "Dakar",
                  "parentId": "group#Senegal",
                  "position": [
                    0,
                    0
                  ],
                  "properties": {
                    "country": "Senegal",
                    "country_id": "sn",
                    "label": "Dakar",
                    "passengers": 2000000
                  },
                  "scale_factor": 1,
                  "size": [
                    55,
                    55
                  ],
                  "styles": {},
                  "type": "#15AFAC"
                },
                {
                  "color": "#15AFAC",
                  "coordinates": [
                    -26.133694,
                    28.242317
                  ],
                  "id": "JNB",
                  "label": "Johannesburg",
                  "parentId": "group#South Africa",
                  "position": [
                    0,
                    0
                  ],
                  "properties": {
                    "country": "South Africa",
                    "country_id": "za",
                    "label": "Johannesburg",
                    "passengers": 9000000
                  },
                  "scale_factor": 1,
                  "size": [
                    55,
                    55
                  ],
                  "styles": {},
                  "type": "#15AFAC"
                },
                {
                  "color": "#15AFAC",
                  "coordinates": [
                    -33.946111,
                    151.177222
                  ],
                  "id": "SYD",
                  "label": "Sydney",
                  "parentId": "group#Australia",
                  "position": [
                    0,
                    0
                  ],
                  "properties": {
                    "country": "Australia",
                    "country_id": "au",
                    "label": "Sydney",
                    "passengers": 44000000
                  },
                  "scale_factor": 1,
                  "size": [
                    55,
                    55
                  ],
                  "styles": {},
                  "type": "#15AFAC"
                },
                {
                  "color": "#15AFAC",
                  "coordinates": [
                    -1.319167,
                    36.927778
                  ],
                  "id": "NBO",
                  "label": "Nairobi",
                  "parentId": "group#Kenya",
                  "position": [
                    0,
                    0
                  ],
                  "properties": {
                    "country": "Kenya",
                    "country_id": "ke",
                    "label": "Nairobi",
                    "passengers": 900000
                  },
                  "scale_factor": 1,
                  "size": [
                    55,
                    55
                  ],
                  "styles": {},
                  "type": "#15AFAC"
                },
                {
                  "color": "#15AFAC",
                  "coordinates": [
                    33.639167,
                    -84.427778
                  ],
                  "id": "ATL",
                  "label": "Atlanta",
                  "parentId": "group#USA",
                  "position": [
                    0,
                    0
                  ],
                  "properties": {
                    "country": "USA",
                    "country_id": "us",
                    "label": "Atlanta",
                    "passengers": 93000000
                  },
                  "scale_factor": 1,
                  "size": [
                    55,
                    55
                  ],
                  "styles": {},
                  "type": "#15AFAC"
                },
                {
                  "color": "#15AFAC",
                  "coordinates": [
                    40.63975,
                    -73.778925
                  ],
                  "id": "JFK",
                  "label": "New York City",
                  "parentId": "group#USA",
                  "position": [
                    0,
                    0
                  ],
                  "properties": {
                    "country": "USA",
                    "country_id": "us",
                    "label": "New York City",
                    "passengers": 55000000
                  },
                  "scale_factor": 1,
                  "size": [
                    55,
                    55
                  ],
                  "styles": {},
                  "type": "#15AFAC"
                },
                {
                  "color": "#15AFAC",
                  "coordinates": [
                    30.121944,
                    31.405556
                  ],
                  "id": "CAI",
                  "label": "Cairo",
                  "parentId": "group#Egypt",
                  "position": [
                    0,
                    0
                  ],
                  "properties": {
                    "country": "Egypt",
                    "country_id": "eg",
                    "label": "Cairo",
                    "passengers": 14000000
                  },
                  "scale_factor": 1,
                  "size": [
                    55,
                    55
                  ],
                  "styles": {},
                  "type": "#15AFAC"
                },
                {
                  "color": "#15AFAC",
                  "coordinates": [
                    33.367467,
                    -7.589967
                  ],
                  "id": "CMN",
                  "label": "Casablanca",
                  "parentId": "group#Morocco",
                  "position": [
                    0,
                    0
                  ],
                  "properties": {
                    "country": "Morocco",
                    "country_id": "ma",
                    "label": "Casablanca",
                    "passengers": 7000000
                  },
                  "scale_factor": 1,
                  "size": [
                    55,
                    55
                  ],
                  "styles": {},
                  "type": "#15AFAC"
                },
                {
                  "color": "#15AFAC",
                  "coordinates": [
                    6.577222,
                    3.321111
                  ],
                  "id": "LOS",
                  "label": "Lagos",
                  "parentId": "group#Nigeria",
                  "position": [
                    0,
                    0
                  ],
                  "properties": {
                    "country": "Nigeria",
                    "country_id": "ng",
                    "label": "Lagos",
                    "passengers": 5000000
                  },
                  "scale_factor": 1,
                  "size": [
                    55,
                    55
                  ],
                  "styles": {},
                  "type": "#15AFAC"
                },
                {
                  "color": "#15AFAC",
                  "coordinates": [
                    -33.969444,
                    18.597222
                  ],
                  "id": "CPT",
                  "label": "Cape Town",
                  "parentId": "group#South Africa",
                  "position": [
                    0,
                    0
                  ],
                  "properties": {
                    "country": "South Africa",
                    "country_id": "za",
                    "label": "Cape Town",
                    "passengers": 5000000
                  },
                  "scale_factor": 1,
                  "size": [
                    55,
                    55
                  ],
                  "styles": {},
                  "type": "#15AFAC"
                },
                {
                  "color": "#15AFAC",
                  "coordinates": [
                    30.578333,
                    103.946944
                  ],
                  "id": "CTU",
                  "label": "Chengdu",
                  "parentId": "group#China",
                  "position": [
                    0,
                    0
                  ],
                  "properties": {
                    "country": "China",
                    "country_id": "hk",
                    "label": "Chengdu",
                    "passengers": 40000000
                  },
                  "scale_factor": 1,
                  "size": [
                    55,
                    55
                  ],
                  "styles": {},
                  "type": "#15AFAC"
                },
                {
                  "color": "#15AFAC",
                  "coordinates": [
                    -6.125567,
                    106.655897
                  ],
                  "id": "CGK",
                  "label": "Jakarta",
                  "parentId": "group#Indonesia",
                  "position": [
                    0,
                    0
                  ],
                  "properties": {
                    "country": "Indonesia",
                    "country_id": "id",
                    "label": "Jakarta",
                    "passengers": 54000000
                  },
                  "scale_factor": 1,
                  "size": [
                    55,
                    55
                  ],
                  "styles": {},
                  "type": "#15AFAC"
                },
                {
                  "color": "#15AFAC",
                  "coordinates": [
                    35.416111,
                    51.152222
                  ],
                  "id": "IKA",
                  "label": "Teheran",
                  "parentId": "group#Iran",
                  "position": [
                    0,
                    0
                  ],
                  "properties": {
                    "country": "Iran",
                    "country_id": "ir",
                    "label": "Teheran",
                    "passengers": 8000000
                  },
                  "scale_factor": 1,
                  "size": [
                    55,
                    55
                  ],
                  "styles": {},
                  "type": "#15AFAC"
                },
                {
                  "color": "#15AFAC",
                  "coordinates": [
                    32.011389,
                    34.886667
                  ],
                  "id": "TLV",
                  "label": "Tel Aviv",
                  "parentId": "group#Israel",
                  "position": [
                    0,
                    0
                  ],
                  "properties": {
                    "country": "Israel",
                    "country_id": "il",
                    "label": "Tel Aviv",
                    "passengers": 20000000
                  },
                  "scale_factor": 1,
                  "size": [
                    55,
                    55
                  ],
                  "styles": {},
                  "type": "#15AFAC"
                },
                {
                  "color": "#15AFAC",
                  "coordinates": [
                    2.745578,
                    101.709917
                  ],
                  "id": "KUL",
                  "label": "Kuala Lumpur",
                  "parentId": "group#Malaysia",
                  "position": [
                    0,
                    0
                  ],
                  "properties": {
                    "country": "Malaysia",
                    "country_id": "my",
                    "label": "Kuala Lumpur",
                    "passengers": 25000000
                  },
                  "scale_factor": 1,
                  "size": [
                    55,
                    55
                  ],
                  "styles": {},
                  "type": "#15AFAC"
                },
                {
                  "color": "#15AFAC",
                  "coordinates": [
                    14.508647,
                    121.019581
                  ],
                  "id": "MNL",
                  "label": "Manila",
                  "parentId": "group#Philippines",
                  "position": [
                    0,
                    0
                  ],
                  "properties": {
                    "country": "Philippines",
                    "country_id": "ph",
                    "label": "Manila",
                    "passengers": 8000000
                  },
                  "scale_factor": 1,
                  "size": [
                    55,
                    55
                  ],
                  "styles": {},
                  "type": "#15AFAC"
                },
                {
                  "color": "#15AFAC",
                  "coordinates": [
                    1.350189,
                    103.994433
                  ],
                  "id": "SIN",
                  "label": "Singapur",
                  "parentId": "group#Singapore",
                  "position": [
                    0,
                    0
                  ],
                  "properties": {
                    "country": "Singapore",
                    "country_id": "sg",
                    "label": "Singapur",
                    "passengers": 32000000
                  },
                  "scale_factor": 1,
                  "size": [
                    55,
                    55
                  ],
                  "styles": {},
                  "type": "#15AFAC"
                },
                {
                  "color": "#15AFAC",
                  "coordinates": [
                    25.077732,
                    121.232822
                  ],
                  "id": "TPE",
                  "label": "Taipeh",
                  "parentId": "group#Taiwan",
                  "position": [
                    0,
                    0
                  ],
                  "properties": {
                    "country": "Taiwan",
                    "country_id": "tw",
                    "label": "Taipeh",
                    "passengers": 800000
                  },
                  "scale_factor": 1,
                  "size": [
                    55,
                    55
                  ],
                  "styles": {},
                  "type": "#15AFAC"
                },
                {
                  "color": "#15AFAC",
                  "coordinates": [
                    13.681108,
                    100.747283
                  ],
                  "id": "BKK",
                  "label": "Bangkok",
                  "parentId": "group#Thailand",
                  "position": [
                    0,
                    0
                  ],
                  "properties": {
                    "country": "Thailand",
                    "country_id": "th",
                    "label": "Bangkok",
                    "passengers": 65000000
                  },
                  "scale_factor": 1,
                  "size": [
                    55,
                    55
                  ],
                  "styles": {},
                  "type": "#15AFAC"
                },
                {
                  "color": "#15AFAC",
                  "coordinates": [
                    40.976922,
                    28.814606
                  ],
                  "id": "IST",
                  "label": "Istanbul",
                  "parentId": "group#Turkey",
                  "position": [
                    0,
                    0
                  ],
                  "properties": {
                    "country": "Turkey",
                    "country_id": "tr",
                    "label": "Istanbul",
                    "passengers": 64000000
                  },
                  "scale_factor": 1,
                  "size": [
                    55,
                    55
                  ],
                  "styles": {},
                  "type": "#15AFAC"
                },
                {
                  "color": "#15AFAC",
                  "coordinates": [
                    47.843056,
                    106.766639
                  ],
                  "id": "ULN",
                  "label": "Ulaanbaatar",
                  "parentId": "group#Mongolia",
                  "position": [
                    0,
                    0
                  ],
                  "properties": {
                    "country": "Mongolia",
                    "country_id": "mn",
                    "label": "Ulaanbaatar",
                    "passengers": 1000000
                  },
                  "scale_factor": 1,
                  "size": [
                    55,
                    55
                  ],
                  "styles": {},
                  "type": "#15AFAC"
                },
                {
                  "color": "#15AFAC",
                  "coordinates": [
                    -37.673333,
                    144.843333
                  ],
                  "id": "MEL",
                  "label": "Melbourne",
                  "parentId": "group#Australia",
                  "position": [
                    0,
                    0
                  ],
                  "properties": {
                    "country": "Australia",
                    "country_id": "au",
                    "label": "Melbourne",
                    "passengers": 12000000
                  },
                  "scale_factor": 1,
                  "size": [
                    55,
                    55
                  ],
                  "styles": {},
                  "type": "#15AFAC"
                },
                {
                  "color": "#15AFAC",
                  "coordinates": [
                    -27.383333,
                    153.118056
                  ],
                  "id": "BNE",
                  "label": "Brisbane",
                  "parentId": "group#Australia",
                  "position": [
                    0,
                    0
                  ],
                  "properties": {
                    "country": "Australia",
                    "country_id": "au",
                    "label": "Brisbane",
                    "passengers": 23000000
                  },
                  "scale_factor": 1,
                  "size": [
                    55,
                    55
                  ],
                  "styles": {},
                  "type": "#15AFAC"
                },
                {
                  "color": "#15AFAC",
                  "coordinates": [
                    -17.755392,
                    177.443378
                  ],
                  "id": "NAN",
                  "label": "Nadi",
                  "parentId": "group#Fiji",
                  "position": [
                    0,
                    0
                  ],
                  "properties": {
                    "country": "Fiji",
                    "country_id": "fj",
                    "label": "Nadi",
                    "passengers": 2000000
                  },
                  "scale_factor": 1,
                  "size": [
                    55,
                    55
                  ],
                  "styles": {},
                  "type": "#15AFAC"
                },
                {
                  "color": "#15AFAC",
                  "coordinates": [
                    -37.008056,
                    174.791667
                  ],
                  "id": "AKL",
                  "label": "Auckland",
                  "parentId": "group#New Zealand",
                  "position": [
                    0,
                    0
                  ],
                  "properties": {
                    "country": "New Zealand",
                    "country_id": "nz",
                    "label": "Auckland",
                    "passengers": 21000000
                  },
                  "scale_factor": 1,
                  "size": [
                    55,
                    55
                  ],
                  "styles": {},
                  "type": "#15AFAC"
                },
                {
                  "color": "#15AFAC",
                  "coordinates": [
                    49.009722,
                    2.547778
                  ],
                  "id": "CDG",
                  "label": "Paris",
                  "parentId": "group#France",
                  "position": [
                    0,
                    0
                  ],
                  "properties": {
                    "country": "France",
                    "country_id": "fr",
                    "label": "Paris",
                    "passengers": 57000000
                  },
                  "scale_factor": 1,
                  "size": [
                    55,
                    55
                  ],
                  "styles": {},
                  "type": "#15AFAC"
                },
                {
                  "color": "#15AFAC",
                  "coordinates": [
                    40.4675,
                    -3.551944
                  ],
                  "id": "MAD",
                  "label": "Madrid",
                  "parentId": "group#Spain",
                  "position": [
                    0,
                    0
                  ],
                  "properties": {
                    "country": "Spain",
                    "country_id": "es",
                    "label": "Madrid",
                    "passengers": 50000000
                  },
                  "scale_factor": 1,
                  "size": [
                    55,
                    55
                  ],
                  "styles": {},
                  "type": "#15AFAC"
                },
                {
                  "color": "#15AFAC",
                  "coordinates": [
                    41.297078,
                    2.078464
                  ],
                  "id": "BCN",
                  "label": "Barcelona",
                  "parentId": "group#Spain",
                  "position": [
                    0,
                    0
                  ],
                  "properties": {
                    "country": "Spain",
                    "country_id": "es",
                    "label": "Barcelona",
                    "passengers": 41000000
                  },
                  "scale_factor": 1,
                  "size": [
                    55,
                    55
                  ],
                  "styles": {},
                  "type": "#15AFAC"
                },
                {
                  "color": "#15AFAC",
                  "coordinates": [
                    41.804444,
                    12.250833
                  ],
                  "id": "FCO",
                  "label": "Rome",
                  "parentId": "group#Italy",
                  "position": [
                    0,
                    0
                  ],
                  "properties": {
                    "country": "Italy",
                    "country_id": "it",
                    "label": "Rome",
                    "passengers": 29000000
                  },
                  "scale_factor": 1,
                  "size": [
                    55,
                    55
                  ],
                  "styles": {},
                  "type": "#15AFAC"
                },
                {
                  "color": "#15AFAC",
                  "coordinates": [
                    55.617917,
                    12.655972
                  ],
                  "id": "CPH",
                  "label": "Copenhagen",
                  "parentId": "group#Denmark",
                  "position": [
                    0,
                    0
                  ],
                  "properties": {
                    "country": "Denmark",
                    "country_id": "dk",
                    "label": "Copenhagen",
                    "passengers": 30000000
                  },
                  "scale_factor": 1,
                  "size": [
                    55,
                    55
                  ],
                  "styles": {},
                  "type": "#15AFAC"
                },
                {
                  "color": "#15AFAC",
                  "coordinates": [
                    60.317222,
                    24.963333
                  ],
                  "id": "HEL",
                  "label": "Helsinki",
                  "parentId": "group#Finland",
                  "position": [
                    0,
                    0
                  ],
                  "properties": {
                    "country": "Finland",
                    "country_id": "fi",
                    "label": "Helsinki",
                    "passengers": 5000000
                  },
                  "scale_factor": 1,
                  "size": [
                    55,
                    55
                  ],
                  "styles": {},
                  "type": "#15AFAC"
                },
                {
                  "color": "#15AFAC",
                  "coordinates": [
                    37.936358,
                    23.944467
                  ],
                  "id": "ATH",
                  "label": "Athens",
                  "parentId": "group#Greece",
                  "position": [
                    0,
                    0
                  ],
                  "properties": {
                    "country": "Greece",
                    "country_id": "gr",
                    "label": "Athens",
                    "passengers": 22000000
                  },
                  "scale_factor": 1,
                  "size": [
                    55,
                    55
                  ],
                  "styles": {},
                  "type": "#15AFAC"
                },
                {
                  "color": "#15AFAC",
                  "coordinates": [
                    53.421333,
                    -6.270075
                  ],
                  "id": "DUB",
                  "label": "Dublin",
                  "parentId": "group#Ireland",
                  "position": [
                    0,
                    0
                  ],
                  "properties": {
                    "country": "Ireland",
                    "country_id": "ie",
                    "label": "Dublin",
                    "passengers": 32000000
                  },
                  "scale_factor": 1,
                  "size": [
                    55,
                    55
                  ],
                  "styles": {},
                  "type": "#15AFAC"
                },
                {
                  "color": "#15AFAC",
                  "coordinates": [
                    64.13,
                    -21.940556
                  ],
                  "id": "RKV",
                  "label": "Reykjavik",
                  "parentId": "group#Iceland",
                  "position": [
                    0,
                    0
                  ],
                  "properties": {
                    "country": "Iceland",
                    "country_id": "is",
                    "label": "Reykjavik",
                    "passengers": 400000
                  },
                  "scale_factor": 1,
                  "size": [
                    55,
                    55
                  ],
                  "styles": {},
                  "type": "#15AFAC"
                },
                {
                  "color": "#15AFAC",
                  "coordinates": [
                    60.193917,
                    11.100361
                  ],
                  "id": "OSL",
                  "label": "Oslo",
                  "parentId": "group#Norway",
                  "position": [
                    0,
                    0
                  ],
                  "properties": {
                    "country": "Norway",
                    "country_id": "no",
                    "label": "Oslo",
                    "passengers": 9000000
                  },
                  "scale_factor": 1,
                  "size": [
                    55,
                    55
                  ],
                  "styles": {},
                  "type": "#15AFAC"
                },
                {
                  "color": "#15AFAC",
                  "coordinates": [
                    48.110833,
                    16.570833
                  ],
                  "id": "VIE",
                  "label": "Vienna",
                  "parentId": "group#Austria",
                  "position": [
                    0,
                    0
                  ],
                  "properties": {
                    "country": "Austria",
                    "country_id": "at",
                    "label": "Vienna",
                    "passengers": 10000000
                  },
                  "scale_factor": 1,
                  "size": [
                    55,
                    55
                  ],
                  "styles": {},
                  "type": "#15AFAC"
                },
                {
                  "color": "#15AFAC",
                  "coordinates": [
                    38.774167,
                    -9.134167
                  ],
                  "id": "LIS",
                  "label": "Lisbon",
                  "parentId": "group#Portugal",
                  "position": [
                    0,
                    0
                  ],
                  "properties": {
                    "country": "Portugal",
                    "country_id": "pt",
                    "label": "Lisbon",
                    "passengers": 28000000
                  },
                  "scale_factor": 1,
                  "size": [
                    55,
                    55
                  ],
                  "styles": {},
                  "type": "#15AFAC"
                },
                {
                  "color": "#15AFAC",
                  "coordinates": [
                    59.651944,
                    17.918611
                  ],
                  "id": "ARN",
                  "label": "Stockholm",
                  "parentId": "group#Sweden",
                  "position": [
                    0,
                    0
                  ],
                  "properties": {
                    "country": "Sweden",
                    "country_id": "se",
                    "label": "Stockholm",
                    "passengers": 7000000
                  },
                  "scale_factor": 1,
                  "size": [
                    55,
                    55
                  ],
                  "styles": {},
                  "type": "#15AFAC"
                },
                {
                  "color": "#15AFAC",
                  "coordinates": [
                    55.95,
                    -3.3725
                  ],
                  "id": "EDI",
                  "label": "Edinburgh",
                  "parentId": "group#UK",
                  "position": [
                    0,
                    0
                  ],
                  "properties": {
                    "country": "UK",
                    "country_id": "gb",
                    "label": "Edinburgh",
                    "passengers": 14000000
                  },
                  "scale_factor": 1,
                  "size": [
                    55,
                    55
                  ],
                  "styles": {},
                  "type": "#15AFAC"
                },
                {
                  "color": "#15AFAC",
                  "coordinates": [
                    41.978603,
                    -87.904842
                  ],
                  "id": "ORD",
                  "label": "Chicago",
                  "parentId": "group#USA",
                  "position": [
                    0,
                    0
                  ],
                  "properties": {
                    "country": "USA",
                    "country_id": "us",
                    "label": "Chicago",
                    "passengers": 54000000
                  },
                  "scale_factor": 1,
                  "size": [
                    55,
                    55
                  ],
                  "styles": {},
                  "type": "#15AFAC"
                },
                {
                  "color": "#15AFAC",
                  "coordinates": [
                    32.896828,
                    -97.037997
                  ],
                  "id": "DFW",
                  "label": "Dallas",
                  "parentId": "group#USA",
                  "position": [
                    0,
                    0
                  ],
                  "properties": {
                    "country": "USA",
                    "country_id": "us",
                    "label": "Dallas",
                    "passengers": 73000000
                  },
                  "scale_factor": 1,
                  "size": [
                    55,
                    55
                  ],
                  "styles": {},
                  "type": "#15AFAC"
                },
                {
                  "color": "#15AFAC",
                  "coordinates": [
                    37.618972,
                    -122.374889
                  ],
                  "id": "SFO",
                  "label": "San Francisco",
                  "parentId": "group#USA",
                  "position": [
                    0,
                    0
                  ],
                  "properties": {
                    "country": "USA",
                    "country_id": "us",
                    "label": "San Francisco",
                    "passengers": 42000000
                  },
                  "scale_factor": 1,
                  "size": [
                    55,
                    55
                  ],
                  "styles": {},
                  "type": "#15AFAC"
                },
                {
                  "color": "#15AFAC",
                  "coordinates": [
                    36.080056,
                    -115.15225
                  ],
                  "id": "LAS",
                  "label": "Las Vegas",
                  "parentId": "group#USA",
                  "position": [
                    0,
                    0
                  ],
                  "properties": {
                    "country": "USA",
                    "country_id": "us",
                    "label": "Las Vegas",
                    "passengers": 52000000
                  },
                  "scale_factor": 1,
                  "size": [
                    55,
                    55
                  ],
                  "styles": {},
                  "type": "#15AFAC"
                },
                {
                  "color": "#15AFAC",
                  "coordinates": [
                    25.79325,
                    -80.290556
                  ],
                  "id": "MIA",
                  "label": "Miami",
                  "parentId": "group#USA",
                  "position": [
                    0,
                    0
                  ],
                  "properties": {
                    "country": "USA",
                    "country_id": "us",
                    "label": "Miami",
                    "passengers": 50000000
                  },
                  "scale_factor": 1,
                  "size": [
                    55,
                    55
                  ],
                  "styles": {},
                  "type": "#15AFAC"
                },
                {
                  "color": "#15AFAC",
                  "coordinates": [
                    43.677222,
                    -79.630556
                  ],
                  "id": "YYZ",
                  "label": "Toronto",
                  "parentId": "group#Canada",
                  "position": [
                    0,
                    0
                  ],
                  "properties": {
                    "country": "Canada",
                    "country_id": "ca",
                    "label": "Toronto",
                    "passengers": 12000000
                  },
                  "scale_factor": 1,
                  "size": [
                    55,
                    55
                  ],
                  "styles": {},
                  "type": "#15AFAC"
                },
                {
                  "color": "#15AFAC",
                  "coordinates": [
                    49.193889,
                    -123.184444
                  ],
                  "id": "YVR",
                  "label": "Vancouver",
                  "parentId": "group#Canada",
                  "position": [
                    0,
                    0
                  ],
                  "properties": {
                    "country": "Canada",
                    "country_id": "ca",
                    "label": "Vancouver",
                    "passengers": 19000000
                  },
                  "scale_factor": 1,
                  "size": [
                    55,
                    55
                  ],
                  "styles": {},
                  "type": "#15AFAC"
                },
                {
                  "color": "#15AFAC",
                  "coordinates": [
                    45.47175,
                    -73.736569
                  ],
                  "id": "YUL",
                  "label": "Montreal",
                  "parentId": "group#Canada",
                  "position": [
                    0,
                    0
                  ],
                  "properties": {
                    "country": "Canada",
                    "country_id": "ca",
                    "label": "Montreal",
                    "passengers": 15000000
                  },
                  "scale_factor": 1,
                  "size": [
                    55,
                    55
                  ],
                  "styles": {},
                  "type": "#15AFAC"
                },
                {
                  "color": "#15AFAC",
                  "coordinates": [
                    19.436303,
                    -99.072097
                  ],
                  "id": "MEX",
                  "label": "Mexico-City",
                  "parentId": "group#Mexico",
                  "position": [
                    0,
                    0
                  ],
                  "properties": {
                    "country": "Mexico",
                    "country_id": "mx",
                    "label": "Mexico-City",
                    "passengers": 46000000
                  },
                  "scale_factor": 1,
                  "size": [
                    55,
                    55
                  ],
                  "styles": {},
                  "type": "#15AFAC"
                },
                {
                  "color": "#15AFAC",
                  "coordinates": [
                    14.583272,
                    -90.527475
                  ],
                  "id": "GUA",
                  "label": "Guatemala-City",
                  "parentId": "group#Guatemala",
                  "position": [
                    0,
                    0
                  ],
                  "properties": {
                    "country": "Guatemala",
                    "country_id": "gt",
                    "label": "Guatemala-City",
                    "passengers": 2000000
                  },
                  "scale_factor": 1,
                  "size": [
                    55,
                    55
                  ],
                  "styles": {},
                  "type": "#15AFAC"
                },
                {
                  "color": "#15AFAC",
                  "coordinates": [
                    -34.822222,
                    -58.535833
                  ],
                  "id": "EZE",
                  "label": "Buenos Aires",
                  "parentId": "group#Argentina",
                  "position": [
                    0,
                    0
                  ],
                  "properties": {
                    "country": "Argentina",
                    "country_id": "ar",
                    "label": "Buenos Aires",
                    "passengers": 5000000
                  },
                  "scale_factor": 1,
                  "size": [
                    55,
                    55
                  ],
                  "styles": {},
                  "type": "#15AFAC"
                },
                {
                  "color": "#15AFAC",
                  "coordinates": [
                    -23.432075,
                    -46.469511
                  ],
                  "id": "GRU",
                  "label": "Sao Paulo",
                  "parentId": "group#Brazil",
                  "position": [
                    0,
                    0
                  ],
                  "properties": {
                    "country": "Brazil",
                    "country_id": "br",
                    "label": "Sao Paulo",
                    "passengers": 34000000
                  },
                  "scale_factor": 1,
                  "size": [
                    55,
                    55
                  ],
                  "styles": {},
                  "type": "#15AFAC"
                },
                {
                  "color": "#15AFAC",
                  "coordinates": [
                    -33.392975,
                    -70.785803
                  ],
                  "id": "SCL",
                  "label": "Santiago de Chile",
                  "parentId": "group#Chile",
                  "position": [
                    0,
                    0
                  ],
                  "properties": {
                    "country": "Chile",
                    "country_id": "cl",
                    "label": "Santiago de Chile",
                    "passengers": 20000000
                  },
                  "scale_factor": 1,
                  "size": [
                    55,
                    55
                  ],
                  "styles": {},
                  "type": "#15AFAC"
                },
                {
                  "color": "#15AFAC",
                  "coordinates": [
                    -15.871111,
                    -47.918611
                  ],
                  "id": "BSB",
                  "label": "Brasilia",
                  "parentId": "group#Brazil",
                  "position": [
                    0,
                    0
                  ],
                  "properties": {
                    "country": "Brazil",
                    "country_id": "br",
                    "label": "Brasilia",
                    "passengers": 13000000
                  },
                  "scale_factor": 1,
                  "size": [
                    55,
                    55
                  ],
                  "styles": {},
                  "type": "#15AFAC"
                },
                {
                  "color": "#15AFAC",
                  "coordinates": [
                    4.701594,
                    -74.146947
                  ],
                  "id": "BOG",
                  "label": "Bogota",
                  "parentId": "group#Colombia",
                  "position": [
                    0,
                    0
                  ],
                  "properties": {
                    "country": "Colombia",
                    "country_id": "co",
                    "label": "Bogota",
                    "passengers": 36000000
                  },
                  "scale_factor": 1,
                  "size": [
                    55,
                    55
                  ],
                  "styles": {},
                  "type": "#15AFAC"
                },
                {
                  "color": "#15AFAC",
                  "coordinates": [
                    10.601194,
                    -66.991222
                  ],
                  "id": "CCS",
                  "label": "Caracas",
                  "parentId": "group#Venezuela",
                  "position": [
                    0,
                    0
                  ],
                  "properties": {
                    "country": "Venezuela",
                    "country_id": "ve",
                    "label": "Caracas",
                    "passengers": 8000000
                  },
                  "scale_factor": 1,
                  "size": [
                    55,
                    55
                  ],
                  "styles": {},
                  "type": "#15AFAC"
                },
                {
                  "color": "#15AFAC",
                  "id": "group#USA",
                  "label": "USA",
                  "position": [
                    0,
                    0
                  ],
                  "properties": {
                    "label": "USA"
                  },
                  "scale_factor": 1,
                  "size": [
                    55,
                    55
                  ],
                  "styles": {},
                  "type": "#15AFAC"
                },
                {
                  "color": "#15AFAC",
                  "id": "group#Brazil",
                  "label": "Brazil",
                  "position": [
                    0,
                    0
                  ],
                  "properties": {
                    "label": "Brazil"
                  },
                  "scale_factor": 1,
                  "size": [
                    55,
                    55
                  ],
                  "styles": {},
                  "type": "#15AFAC"
                },
                {
                  "color": "#15AFAC",
                  "id": "group#Peru",
                  "label": "Peru",
                  "position": [
                    0,
                    0
                  ],
                  "properties": {
                    "label": "Peru"
                  },
                  "scale_factor": 1,
                  "size": [
                    55,
                    55
                  ],
                  "styles": {},
                  "type": "#15AFAC"
                },
                {
                  "color": "#15AFAC",
                  "id": "group#UK",
                  "label": "UK",
                  "position": [
                    0,
                    0
                  ],
                  "properties": {
                    "label": "UK"
                  },
                  "scale_factor": 1,
                  "size": [
                    55,
                    55
                  ],
                  "styles": {},
                  "type": "#15AFAC"
                },
                {
                  "color": "#15AFAC",
                  "id": "group#Germany",
                  "label": "Germany",
                  "position": [
                    0,
                    0
                  ],
                  "properties": {
                    "label": "Germany"
                  },
                  "scale_factor": 1,
                  "size": [
                    55,
                    55
                  ],
                  "styles": {},
                  "type": "#15AFAC"
                },
                {
                  "color": "#15AFAC",
                  "id": "group#Russia",
                  "label": "Russia",
                  "position": [
                    0,
                    0
                  ],
                  "properties": {
                    "label": "Russia"
                  },
                  "scale_factor": 1,
                  "size": [
                    55,
                    55
                  ],
                  "styles": {},
                  "type": "#15AFAC"
                },
                {
                  "color": "#15AFAC",
                  "id": "group#India",
                  "label": "India",
                  "position": [
                    0,
                    0
                  ],
                  "properties": {
                    "label": "India"
                  },
                  "scale_factor": 1,
                  "size": [
                    55,
                    55
                  ],
                  "styles": {},
                  "type": "#15AFAC"
                },
                {
                  "color": "#15AFAC",
                  "id": "group#China",
                  "label": "China",
                  "position": [
                    0,
                    0
                  ],
                  "properties": {
                    "label": "China"
                  },
                  "scale_factor": 1,
                  "size": [
                    55,
                    55
                  ],
                  "styles": {},
                  "type": "#15AFAC"
                },
                {
                  "color": "#15AFAC",
                  "id": "group#China",
                  "label": "China",
                  "position": [
                    0,
                    0
                  ],
                  "properties": {
                    "label": "China"
                  },
                  "scale_factor": 1,
                  "size": [
                    55,
                    55
                  ],
                  "styles": {},
                  "type": "#15AFAC"
                },
                {
                  "color": "#15AFAC",
                  "id": "group#Japan",
                  "label": "Japan",
                  "position": [
                    0,
                    0
                  ],
                  "properties": {
                    "label": "Japan"
                  },
                  "scale_factor": 1,
                  "size": [
                    55,
                    55
                  ],
                  "styles": {},
                  "type": "#15AFAC"
                },
                {
                  "color": "#15AFAC",
                  "id": "group#UAE",
                  "label": "UAE",
                  "position": [
                    0,
                    0
                  ],
                  "properties": {
                    "label": "UAE"
                  },
                  "scale_factor": 1,
                  "size": [
                    55,
                    55
                  ],
                  "styles": {},
                  "type": "#15AFAC"
                },
                {
                  "color": "#15AFAC",
                  "id": "group#Senegal",
                  "label": "Senegal",
                  "position": [
                    0,
                    0
                  ],
                  "properties": {
                    "label": "Senegal"
                  },
                  "scale_factor": 1,
                  "size": [
                    55,
                    55
                  ],
                  "styles": {},
                  "type": "#15AFAC"
                },
                {
                  "color": "#15AFAC",
                  "id": "group#South Africa",
                  "label": "South Africa",
                  "position": [
                    0,
                    0
                  ],
                  "properties": {
                    "label": "South Africa"
                  },
                  "scale_factor": 1,
                  "size": [
                    55,
                    55
                  ],
                  "styles": {},
                  "type": "#15AFAC"
                },
                {
                  "color": "#15AFAC",
                  "id": "group#Australia",
                  "label": "Australia",
                  "position": [
                    0,
                    0
                  ],
                  "properties": {
                    "label": "Australia"
                  },
                  "scale_factor": 1,
                  "size": [
                    55,
                    55
                  ],
                  "styles": {},
                  "type": "#15AFAC"
                },
                {
                  "color": "#15AFAC",
                  "id": "group#Kenya",
                  "label": "Kenya",
                  "position": [
                    0,
                    0
                  ],
                  "properties": {
                    "label": "Kenya"
                  },
                  "scale_factor": 1,
                  "size": [
                    55,
                    55
                  ],
                  "styles": {},
                  "type": "#15AFAC"
                },
                {
                  "color": "#15AFAC",
                  "id": "group#USA",
                  "label": "USA",
                  "position": [
                    0,
                    0
                  ],
                  "properties": {
                    "label": "USA"
                  },
                  "scale_factor": 1,
                  "size": [
                    55,
                    55
                  ],
                  "styles": {},
                  "type": "#15AFAC"
                },
                {
                  "color": "#15AFAC",
                  "id": "group#USA",
                  "label": "USA",
                  "position": [
                    0,
                    0
                  ],
                  "properties": {
                    "label": "USA"
                  },
                  "scale_factor": 1,
                  "size": [
                    55,
                    55
                  ],
                  "styles": {},
                  "type": "#15AFAC"
                },
                {
                  "color": "#15AFAC",
                  "id": "group#Egypt",
                  "label": "Egypt",
                  "position": [
                    0,
                    0
                  ],
                  "properties": {
                    "label": "Egypt"
                  },
                  "scale_factor": 1,
                  "size": [
                    55,
                    55
                  ],
                  "styles": {},
                  "type": "#15AFAC"
                },
                {
                  "color": "#15AFAC",
                  "id": "group#Morocco",
                  "label": "Morocco",
                  "position": [
                    0,
                    0
                  ],
                  "properties": {
                    "label": "Morocco"
                  },
                  "scale_factor": 1,
                  "size": [
                    55,
                    55
                  ],
                  "styles": {},
                  "type": "#15AFAC"
                },
                {
                  "color": "#15AFAC",
                  "id": "group#Nigeria",
                  "label": "Nigeria",
                  "position": [
                    0,
                    0
                  ],
                  "properties": {
                    "label": "Nigeria"
                  },
                  "scale_factor": 1,
                  "size": [
                    55,
                    55
                  ],
                  "styles": {},
                  "type": "#15AFAC"
                },
                {
                  "color": "#15AFAC",
                  "id": "group#South Africa",
                  "label": "South Africa",
                  "position": [
                    0,
                    0
                  ],
                  "properties": {
                    "label": "South Africa"
                  },
                  "scale_factor": 1,
                  "size": [
                    55,
                    55
                  ],
                  "styles": {},
                  "type": "#15AFAC"
                },
                {
                  "color": "#15AFAC",
                  "id": "group#China",
                  "label": "China",
                  "position": [
                    0,
                    0
                  ],
                  "properties": {
                    "label": "China"
                  },
                  "scale_factor": 1,
                  "size": [
                    55,
                    55
                  ],
                  "styles": {},
                  "type": "#15AFAC"
                },
                {
                  "color": "#15AFAC",
                  "id": "group#Indonesia",
                  "label": "Indonesia",
                  "position": [
                    0,
                    0
                  ],
                  "properties": {
                    "label": "Indonesia"
                  },
                  "scale_factor": 1,
                  "size": [
                    55,
                    55
                  ],
                  "styles": {},
                  "type": "#15AFAC"
                },
                {
                  "color": "#15AFAC",
                  "id": "group#Iran",
                  "label": "Iran",
                  "position": [
                    0,
                    0
                  ],
                  "properties": {
                    "label": "Iran"
                  },
                  "scale_factor": 1,
                  "size": [
                    55,
                    55
                  ],
                  "styles": {},
                  "type": "#15AFAC"
                },
                {
                  "color": "#15AFAC",
                  "id": "group#Israel",
                  "label": "Israel",
                  "position": [
                    0,
                    0
                  ],
                  "properties": {
                    "label": "Israel"
                  },
                  "scale_factor": 1,
                  "size": [
                    55,
                    55
                  ],
                  "styles": {},
                  "type": "#15AFAC"
                },
                {
                  "color": "#15AFAC",
                  "id": "group#Malaysia",
                  "label": "Malaysia",
                  "position": [
                    0,
                    0
                  ],
                  "properties": {
                    "label": "Malaysia"
                  },
                  "scale_factor": 1,
                  "size": [
                    55,
                    55
                  ],
                  "styles": {},
                  "type": "#15AFAC"
                },
                {
                  "color": "#15AFAC",
                  "id": "group#Philippines",
                  "label": "Philippines",
                  "position": [
                    0,
                    0
                  ],
                  "properties": {
                    "label": "Philippines"
                  },
                  "scale_factor": 1,
                  "size": [
                    55,
                    55
                  ],
                  "styles": {},
                  "type": "#15AFAC"
                },
                {
                  "color": "#15AFAC",
                  "id": "group#Singapore",
                  "label": "Singapore",
                  "position": [
                    0,
                    0
                  ],
                  "properties": {
                    "label": "Singapore"
                  },
                  "scale_factor": 1,
                  "size": [
                    55,
                    55
                  ],
                  "styles": {},
                  "type": "#15AFAC"
                },
                {
                  "color": "#15AFAC",
                  "id": "group#Taiwan",
                  "label": "Taiwan",
                  "position": [
                    0,
                    0
                  ],
                  "properties": {
                    "label": "Taiwan"
                  },
                  "scale_factor": 1,
                  "size": [
                    55,
                    55
                  ],
                  "styles": {},
                  "type": "#15AFAC"
                },
                {
                  "color": "#15AFAC",
                  "id": "group#Thailand",
                  "label": "Thailand",
                  "position": [
                    0,
                    0
                  ],
                  "properties": {
                    "label": "Thailand"
                  },
                  "scale_factor": 1,
                  "size": [
                    55,
                    55
                  ],
                  "styles": {},
                  "type": "#15AFAC"
                },
                {
                  "color": "#15AFAC",
                  "id": "group#Turkey",
                  "label": "Turkey",
                  "position": [
                    0,
                    0
                  ],
                  "properties": {
                    "label": "Turkey"
                  },
                  "scale_factor": 1,
                  "size": [
                    55,
                    55
                  ],
                  "styles": {},
                  "type": "#15AFAC"
                },
                {
                  "color": "#15AFAC",
                  "id": "group#Mongolia",
                  "label": "Mongolia",
                  "position": [
                    0,
                    0
                  ],
                  "properties": {
                    "label": "Mongolia"
                  },
                  "scale_factor": 1,
                  "size": [
                    55,
                    55
                  ],
                  "styles": {},
                  "type": "#15AFAC"
                },
                {
                  "color": "#15AFAC",
                  "id": "group#Australia",
                  "label": "Australia",
                  "position": [
                    0,
                    0
                  ],
                  "properties": {
                    "label": "Australia"
                  },
                  "scale_factor": 1,
                  "size": [
                    55,
                    55
                  ],
                  "styles": {},
                  "type": "#15AFAC"
                },
                {
                  "color": "#15AFAC",
                  "id": "group#Australia",
                  "label": "Australia",
                  "position": [
                    0,
                    0
                  ],
                  "properties": {
                    "label": "Australia"
                  },
                  "scale_factor": 1,
                  "size": [
                    55,
                    55
                  ],
                  "styles": {},
                  "type": "#15AFAC"
                },
                {
                  "color": "#15AFAC",
                  "id": "group#Fiji",
                  "label": "Fiji",
                  "position": [
                    0,
                    0
                  ],
                  "properties": {
                    "label": "Fiji"
                  },
                  "scale_factor": 1,
                  "size": [
                    55,
                    55
                  ],
                  "styles": {},
                  "type": "#15AFAC"
                },
                {
                  "color": "#15AFAC",
                  "id": "group#New Zealand",
                  "label": "New Zealand",
                  "position": [
                    0,
                    0
                  ],
                  "properties": {
                    "label": "New Zealand"
                  },
                  "scale_factor": 1,
                  "size": [
                    55,
                    55
                  ],
                  "styles": {},
                  "type": "#15AFAC"
                },
                {
                  "color": "#15AFAC",
                  "id": "group#France",
                  "label": "France",
                  "position": [
                    0,
                    0
                  ],
                  "properties": {
                    "label": "France"
                  },
                  "scale_factor": 1,
                  "size": [
                    55,
                    55
                  ],
                  "styles": {},
                  "type": "#15AFAC"
                },
                {
                  "color": "#15AFAC",
                  "id": "group#Spain",
                  "label": "Spain",
                  "position": [
                    0,
                    0
                  ],
                  "properties": {
                    "label": "Spain"
                  },
                  "scale_factor": 1,
                  "size": [
                    55,
                    55
                  ],
                  "styles": {},
                  "type": "#15AFAC"
                },
                {
                  "color": "#15AFAC",
                  "id": "group#Spain",
                  "label": "Spain",
                  "position": [
                    0,
                    0
                  ],
                  "properties": {
                    "label": "Spain"
                  },
                  "scale_factor": 1,
                  "size": [
                    55,
                    55
                  ],
                  "styles": {},
                  "type": "#15AFAC"
                },
                {
                  "color": "#15AFAC",
                  "id": "group#Italy",
                  "label": "Italy",
                  "position": [
                    0,
                    0
                  ],
                  "properties": {
                    "label": "Italy"
                  },
                  "scale_factor": 1,
                  "size": [
                    55,
                    55
                  ],
                  "styles": {},
                  "type": "#15AFAC"
                },
                {
                  "color": "#15AFAC",
                  "id": "group#Denmark",
                  "label": "Denmark",
                  "position": [
                    0,
                    0
                  ],
                  "properties": {
                    "label": "Denmark"
                  },
                  "scale_factor": 1,
                  "size": [
                    55,
                    55
                  ],
                  "styles": {},
                  "type": "#15AFAC"
                },
                {
                  "color": "#15AFAC",
                  "id": "group#Finland",
                  "label": "Finland",
                  "position": [
                    0,
                    0
                  ],
                  "properties": {
                    "label": "Finland"
                  },
                  "scale_factor": 1,
                  "size": [
                    55,
                    55
                  ],
                  "styles": {},
                  "type": "#15AFAC"
                },
                {
                  "color": "#15AFAC",
                  "id": "group#Greece",
                  "label": "Greece",
                  "position": [
                    0,
                    0
                  ],
                  "properties": {
                    "label": "Greece"
                  },
                  "scale_factor": 1,
                  "size": [
                    55,
                    55
                  ],
                  "styles": {},
                  "type": "#15AFAC"
                },
                {
                  "color": "#15AFAC",
                  "id": "group#Ireland",
                  "label": "Ireland",
                  "position": [
                    0,
                    0
                  ],
                  "properties": {
                    "label": "Ireland"
                  },
                  "scale_factor": 1,
                  "size": [
                    55,
                    55
                  ],
                  "styles": {},
                  "type": "#15AFAC"
                },
                {
                  "color": "#15AFAC",
                  "id": "group#Iceland",
                  "label": "Iceland",
                  "position": [
                    0,
                    0
                  ],
                  "properties": {
                    "label": "Iceland"
                  },
                  "scale_factor": 1,
                  "size": [
                    55,
                    55
                  ],
                  "styles": {},
                  "type": "#15AFAC"
                },
                {
                  "color": "#15AFAC",
                  "id": "group#Norway",
                  "label": "Norway",
                  "position": [
                    0,
                    0
                  ],
                  "properties": {
                    "label": "Norway"
                  },
                  "scale_factor": 1,
                  "size": [
                    55,
                    55
                  ],
                  "styles": {},
                  "type": "#15AFAC"
                },
                {
                  "color": "#15AFAC",
                  "id": "group#Austria",
                  "label": "Austria",
                  "position": [
                    0,
                    0
                  ],
                  "properties": {
                    "label": "Austria"
                  },
                  "scale_factor": 1,
                  "size": [
                    55,
                    55
                  ],
                  "styles": {},
                  "type": "#15AFAC"
                },
                {
                  "color": "#15AFAC",
                  "id": "group#Portugal",
                  "label": "Portugal",
                  "position": [
                    0,
                    0
                  ],
                  "properties": {
                    "label": "Portugal"
                  },
                  "scale_factor": 1,
                  "size": [
                    55,
                    55
                  ],
                  "styles": {},
                  "type": "#15AFAC"
                },
                {
                  "color": "#15AFAC",
                  "id": "group#Sweden",
                  "label": "Sweden",
                  "position": [
                    0,
                    0
                  ],
                  "properties": {
                    "label": "Sweden"
                  },
                  "scale_factor": 1,
                  "size": [
                    55,
                    55
                  ],
                  "styles": {},
                  "type": "#15AFAC"
                },
                {
                  "color": "#15AFAC",
                  "id": "group#UK",
                  "label": "UK",
                  "position": [
                    0,
                    0
                  ],
                  "properties": {
                    "label": "UK"
                  },
                  "scale_factor": 1,
                  "size": [
                    55,
                    55
                  ],
                  "styles": {},
                  "type": "#15AFAC"
                },
                {
                  "color": "#15AFAC",
                  "id": "group#USA",
                  "label": "USA",
                  "position": [
                    0,
                    0
                  ],
                  "properties": {
                    "label": "USA"
                  },
                  "scale_factor": 1,
                  "size": [
                    55,
                    55
                  ],
                  "styles": {},
                  "type": "#15AFAC"
                },
                {
                  "color": "#15AFAC",
                  "id": "group#USA",
                  "label": "USA",
                  "position": [
                    0,
                    0
                  ],
                  "properties": {
                    "label": "USA"
                  },
                  "scale_factor": 1,
                  "size": [
                    55,
                    55
                  ],
                  "styles": {},
                  "type": "#15AFAC"
                },
                {
                  "color": "#15AFAC",
                  "id": "group#USA",
                  "label": "USA",
                  "position": [
                    0,
                    0
                  ],
                  "properties": {
                    "label": "USA"
                  },
                  "scale_factor": 1,
                  "size": [
                    55,
                    55
                  ],
                  "styles": {},
                  "type": "#15AFAC"
                },
                {
                  "color": "#15AFAC",
                  "id": "group#USA",
                  "label": "USA",
                  "position": [
                    0,
                    0
                  ],
                  "properties": {
                    "label": "USA"
                  },
                  "scale_factor": 1,
                  "size": [
                    55,
                    55
                  ],
                  "styles": {},
                  "type": "#15AFAC"
                },
                {
                  "color": "#15AFAC",
                  "id": "group#USA",
                  "label": "USA",
                  "position": [
                    0,
                    0
                  ],
                  "properties": {
                    "label": "USA"
                  },
                  "scale_factor": 1,
                  "size": [
                    55,
                    55
                  ],
                  "styles": {},
                  "type": "#15AFAC"
                },
                {
                  "color": "#15AFAC",
                  "id": "group#Canada",
                  "label": "Canada",
                  "position": [
                    0,
                    0
                  ],
                  "properties": {
                    "label": "Canada"
                  },
                  "scale_factor": 1,
                  "size": [
                    55,
                    55
                  ],
                  "styles": {},
                  "type": "#15AFAC"
                },
                {
                  "color": "#15AFAC",
                  "id": "group#Canada",
                  "label": "Canada",
                  "position": [
                    0,
                    0
                  ],
                  "properties": {
                    "label": "Canada"
                  },
                  "scale_factor": 1,
                  "size": [
                    55,
                    55
                  ],
                  "styles": {},
                  "type": "#15AFAC"
                },
                {
                  "color": "#15AFAC",
                  "id": "group#Canada",
                  "label": "Canada",
                  "position": [
                    0,
                    0
                  ],
                  "properties": {
                    "label": "Canada"
                  },
                  "scale_factor": 1,
                  "size": [
                    55,
                    55
                  ],
                  "styles": {},
                  "type": "#15AFAC"
                },
                {
                  "color": "#15AFAC",
                  "id": "group#Mexico",
                  "label": "Mexico",
                  "position": [
                    0,
                    0
                  ],
                  "properties": {
                    "label": "Mexico"
                  },
                  "scale_factor": 1,
                  "size": [
                    55,
                    55
                  ],
                  "styles": {},
                  "type": "#15AFAC"
                },
                {
                  "color": "#15AFAC",
                  "id": "group#Guatemala",
                  "label": "Guatemala",
                  "position": [
                    0,
                    0
                  ],
                  "properties": {
                    "label": "Guatemala"
                  },
                  "scale_factor": 1,
                  "size": [
                    55,
                    55
                  ],
                  "styles": {},
                  "type": "#15AFAC"
                },
                {
                  "color": "#15AFAC",
                  "id": "group#Argentina",
                  "label": "Argentina",
                  "position": [
                    0,
                    0
                  ],
                  "properties": {
                    "label": "Argentina"
                  },
                  "scale_factor": 1,
                  "size": [
                    55,
                    55
                  ],
                  "styles": {},
                  "type": "#15AFAC"
                },
                {
                  "color": "#15AFAC",
                  "id": "group#Brazil",
                  "label": "Brazil",
                  "position": [
                    0,
                    0
                  ],
                  "properties": {
                    "label": "Brazil"
                  },
                  "scale_factor": 1,
                  "size": [
                    55,
                    55
                  ],
                  "styles": {},
                  "type": "#15AFAC"
                },
                {
                  "color": "#15AFAC",
                  "id": "group#Chile",
                  "label": "Chile",
                  "position": [
                    0,
                    0
                  ],
                  "properties": {
                    "label": "Chile"
                  },
                  "scale_factor": 1,
                  "size": [
                    55,
                    55
                  ],
                  "styles": {},
                  "type": "#15AFAC"
                },
                {
                  "color": "#15AFAC",
                  "id": "group#Brazil",
                  "label": "Brazil",
                  "position": [
                    0,
                    0
                  ],
                  "properties": {
                    "label": "Brazil"
                  },
                  "scale_factor": 1,
                  "size": [
                    55,
                    55
                  ],
                  "styles": {},
                  "type": "#15AFAC"
                },
                {
                  "color": "#15AFAC",
                  "id": "group#Colombia",
                  "label": "Colombia",
                  "position": [
                    0,
                    0
                  ],
                  "properties": {
                    "label": "Colombia"
                  },
                  "scale_factor": 1,
                  "size": [
                    55,
                    55
                  ],
                  "styles": {},
                  "type": "#15AFAC"
                },
                {
                  "color": "#15AFAC",
                  "id": "group#Venezuela",
                  "label": "Venezuela",
                  "position": [
                    0,
                    0
                  ],
                  "properties": {
                    "label": "Venezuela"
                  },
                  "scale_factor": 1,
                  "size": [
                    55,
                    55
                  ],
                  "styles": {},
                  "type": "#15AFAC"
                }
              ],
              "_overview": {
                "enabled": null,
                "overview_set": false
              },
              "_selected_graph": [
                [],
                []
              ],
              "_sidebar": {
                "enabled": false,
                "start_with": "About"
              },
              "_view_module_version": "^1.10.2",
              "layout": "IPY_MODEL_b9269bc8b0f6440ab728924f7e6c4524"
            }
          },
          "56d9648e894c4c1dbc290d9eb32ba8db": {
            "model_module": "yfiles-jupyter-graphs",
            "model_module_version": "^1.10.2",
            "model_name": "GraphModel",
            "state": {
              "_context_pane_mapping": [
                {
                  "id": "Neighborhood",
                  "title": "Neighborhood"
                },
                {
                  "id": "Data",
                  "title": "Data"
                },
                {
                  "id": "Search",
                  "title": "Search"
                },
                {
                  "id": "About",
                  "title": "About"
                }
              ],
              "_directed": false,
              "_edges": [
                {
                  "color": "#15AFAC",
                  "directed": false,
                  "end": "JFK",
                  "heat": 0,
                  "label": "",
                  "properties": {},
                  "start": "LAX",
                  "styles": {},
                  "thickness_factor": 1
                },
                {
                  "color": "#15AFAC",
                  "directed": false,
                  "end": "GIG",
                  "heat": 0,
                  "label": "",
                  "properties": {},
                  "start": "JFK",
                  "styles": {},
                  "thickness_factor": 1
                },
                {
                  "color": "#15AFAC",
                  "directed": false,
                  "end": "LIM",
                  "heat": 0,
                  "label": "",
                  "properties": {},
                  "start": "JFK",
                  "styles": {},
                  "thickness_factor": 1
                },
                {
                  "color": "#15AFAC",
                  "directed": false,
                  "end": "LHR",
                  "heat": 0,
                  "label": "",
                  "properties": {},
                  "start": "JFK",
                  "styles": {},
                  "thickness_factor": 1
                },
                {
                  "color": "#15AFAC",
                  "directed": false,
                  "end": "FRA",
                  "heat": 0,
                  "label": "",
                  "properties": {},
                  "start": "GIG",
                  "styles": {},
                  "thickness_factor": 1
                },
                {
                  "color": "#15AFAC",
                  "directed": false,
                  "end": "GIG",
                  "heat": 0,
                  "label": "",
                  "properties": {},
                  "start": "LIM",
                  "styles": {},
                  "thickness_factor": 1
                },
                {
                  "color": "#15AFAC",
                  "directed": false,
                  "end": "JFK",
                  "heat": 0,
                  "label": "",
                  "properties": {},
                  "start": "FRA",
                  "styles": {},
                  "thickness_factor": 1
                },
                {
                  "color": "#15AFAC",
                  "directed": false,
                  "end": "FRA",
                  "heat": 0,
                  "label": "",
                  "properties": {},
                  "start": "LHR",
                  "styles": {},
                  "thickness_factor": 1
                },
                {
                  "color": "#15AFAC",
                  "directed": false,
                  "end": "SVO",
                  "heat": 0,
                  "label": "",
                  "properties": {},
                  "start": "FRA",
                  "styles": {},
                  "thickness_factor": 1
                },
                {
                  "color": "#15AFAC",
                  "directed": false,
                  "end": "DXB",
                  "heat": 0,
                  "label": "",
                  "properties": {},
                  "start": "FRA",
                  "styles": {},
                  "thickness_factor": 1
                },
                {
                  "color": "#15AFAC",
                  "directed": false,
                  "end": "DEL",
                  "heat": 0,
                  "label": "",
                  "properties": {},
                  "start": "SVO",
                  "styles": {},
                  "thickness_factor": 1
                },
                {
                  "color": "#15AFAC",
                  "directed": false,
                  "end": "PVG",
                  "heat": 0,
                  "label": "",
                  "properties": {},
                  "start": "SVO",
                  "styles": {},
                  "thickness_factor": 1
                },
                {
                  "color": "#15AFAC",
                  "directed": false,
                  "end": "HKG",
                  "heat": 0,
                  "label": "",
                  "properties": {},
                  "start": "DEL",
                  "styles": {},
                  "thickness_factor": 1
                },
                {
                  "color": "#15AFAC",
                  "directed": false,
                  "end": "HKG",
                  "heat": 0,
                  "label": "",
                  "properties": {},
                  "start": "PVG",
                  "styles": {},
                  "thickness_factor": 1
                },
                {
                  "color": "#15AFAC",
                  "directed": false,
                  "end": "NRT",
                  "heat": 0,
                  "label": "",
                  "properties": {},
                  "start": "PVG",
                  "styles": {},
                  "thickness_factor": 1
                },
                {
                  "color": "#15AFAC",
                  "directed": false,
                  "end": "SYD",
                  "heat": 0,
                  "label": "",
                  "properties": {},
                  "start": "HKG",
                  "styles": {},
                  "thickness_factor": 1
                },
                {
                  "color": "#15AFAC",
                  "directed": false,
                  "end": "SYD",
                  "heat": 0,
                  "label": "",
                  "properties": {},
                  "start": "NRT",
                  "styles": {},
                  "thickness_factor": 1
                },
                {
                  "color": "#15AFAC",
                  "directed": false,
                  "end": "SVO",
                  "heat": 0,
                  "label": "",
                  "properties": {},
                  "start": "DXB",
                  "styles": {},
                  "thickness_factor": 1
                },
                {
                  "color": "#15AFAC",
                  "directed": false,
                  "end": "DEL",
                  "heat": 0,
                  "label": "",
                  "properties": {},
                  "start": "DXB",
                  "styles": {},
                  "thickness_factor": 1
                },
                {
                  "color": "#15AFAC",
                  "directed": false,
                  "end": "DKR",
                  "heat": 0,
                  "label": "",
                  "properties": {},
                  "start": "DXB",
                  "styles": {},
                  "thickness_factor": 1
                },
                {
                  "color": "#15AFAC",
                  "directed": false,
                  "end": "JNB",
                  "heat": 0,
                  "label": "",
                  "properties": {},
                  "start": "DXB",
                  "styles": {},
                  "thickness_factor": 1
                },
                {
                  "color": "#15AFAC",
                  "directed": false,
                  "end": "LHR",
                  "heat": 0,
                  "label": "",
                  "properties": {},
                  "start": "JNB",
                  "styles": {},
                  "thickness_factor": 1
                },
                {
                  "color": "#15AFAC",
                  "directed": false,
                  "end": "DKR",
                  "heat": 0,
                  "label": "",
                  "properties": {},
                  "start": "JNB",
                  "styles": {},
                  "thickness_factor": 1
                },
                {
                  "color": "#15AFAC",
                  "directed": false,
                  "end": "DXB",
                  "heat": 0,
                  "label": "",
                  "properties": {},
                  "start": "SYD",
                  "styles": {},
                  "thickness_factor": 1
                },
                {
                  "color": "#15AFAC",
                  "directed": false,
                  "end": "JNB",
                  "heat": 0,
                  "label": "",
                  "properties": {},
                  "start": "NBO",
                  "styles": {},
                  "thickness_factor": 1
                },
                {
                  "color": "#15AFAC",
                  "directed": false,
                  "end": "DXB",
                  "heat": 0,
                  "label": "",
                  "properties": {},
                  "start": "NBO",
                  "styles": {},
                  "thickness_factor": 1
                },
                {
                  "color": "#15AFAC",
                  "directed": false,
                  "end": "JFK",
                  "heat": 0,
                  "label": "",
                  "properties": {},
                  "start": "ATL",
                  "styles": {},
                  "thickness_factor": 1
                },
                {
                  "color": "#15AFAC",
                  "directed": false,
                  "end": "ATL",
                  "heat": 0,
                  "label": "",
                  "properties": {},
                  "start": "LAX",
                  "styles": {},
                  "thickness_factor": 1
                },
                {
                  "color": "#15AFAC",
                  "directed": false,
                  "end": "LHR",
                  "heat": 0,
                  "label": "",
                  "properties": {},
                  "start": "ATL",
                  "styles": {},
                  "thickness_factor": 1
                },
                {
                  "color": "#15AFAC",
                  "directed": false,
                  "end": "LIM",
                  "heat": 0,
                  "label": "",
                  "properties": {},
                  "start": "ATL",
                  "styles": {},
                  "thickness_factor": 1
                },
                {
                  "color": "#15AFAC",
                  "directed": false,
                  "end": "LIM",
                  "heat": 0,
                  "label": "",
                  "properties": {},
                  "start": "SCL",
                  "styles": {},
                  "thickness_factor": 1
                },
                {
                  "color": "#15AFAC",
                  "directed": false,
                  "end": "SCL",
                  "heat": 0,
                  "label": "",
                  "properties": {},
                  "start": "EZE",
                  "styles": {},
                  "thickness_factor": 1
                },
                {
                  "color": "#15AFAC",
                  "directed": false,
                  "end": "GRU",
                  "heat": 0,
                  "label": "",
                  "properties": {},
                  "start": "SCL",
                  "styles": {},
                  "thickness_factor": 1
                },
                {
                  "color": "#15AFAC",
                  "directed": false,
                  "end": "EZE",
                  "heat": 0,
                  "label": "",
                  "properties": {},
                  "start": "GIG",
                  "styles": {},
                  "thickness_factor": 1
                },
                {
                  "color": "#15AFAC",
                  "directed": false,
                  "end": "GRU",
                  "heat": 0,
                  "label": "",
                  "properties": {},
                  "start": "GIG",
                  "styles": {},
                  "thickness_factor": 1
                },
                {
                  "color": "#15AFAC",
                  "directed": false,
                  "end": "GIG",
                  "heat": 0,
                  "label": "",
                  "properties": {},
                  "start": "BSB",
                  "styles": {},
                  "thickness_factor": 1
                },
                {
                  "color": "#15AFAC",
                  "directed": false,
                  "end": "BSB",
                  "heat": 0,
                  "label": "",
                  "properties": {},
                  "start": "SCL",
                  "styles": {},
                  "thickness_factor": 1
                },
                {
                  "color": "#15AFAC",
                  "directed": false,
                  "end": "BSB",
                  "heat": 0,
                  "label": "",
                  "properties": {},
                  "start": "LIM",
                  "styles": {},
                  "thickness_factor": 1
                },
                {
                  "color": "#15AFAC",
                  "directed": false,
                  "end": "BSB",
                  "heat": 0,
                  "label": "",
                  "properties": {},
                  "start": "BOG",
                  "styles": {},
                  "thickness_factor": 1
                },
                {
                  "color": "#15AFAC",
                  "directed": false,
                  "end": "BSB",
                  "heat": 0,
                  "label": "",
                  "properties": {},
                  "start": "CCS",
                  "styles": {},
                  "thickness_factor": 1
                },
                {
                  "color": "#15AFAC",
                  "directed": false,
                  "end": "GUA",
                  "heat": 0,
                  "label": "",
                  "properties": {},
                  "start": "BOG",
                  "styles": {},
                  "thickness_factor": 1
                },
                {
                  "color": "#15AFAC",
                  "directed": false,
                  "end": "MIA",
                  "heat": 0,
                  "label": "",
                  "properties": {},
                  "start": "CCS",
                  "styles": {},
                  "thickness_factor": 1
                },
                {
                  "color": "#15AFAC",
                  "directed": false,
                  "end": "MIA",
                  "heat": 0,
                  "label": "",
                  "properties": {},
                  "start": "GUA",
                  "styles": {},
                  "thickness_factor": 1
                },
                {
                  "color": "#15AFAC",
                  "directed": false,
                  "end": "MEX",
                  "heat": 0,
                  "label": "",
                  "properties": {},
                  "start": "GUA",
                  "styles": {},
                  "thickness_factor": 1
                },
                {
                  "color": "#15AFAC",
                  "directed": false,
                  "end": "LAX",
                  "heat": 0,
                  "label": "",
                  "properties": {},
                  "start": "MEX",
                  "styles": {},
                  "thickness_factor": 1
                },
                {
                  "color": "#15AFAC",
                  "directed": false,
                  "end": "LAX",
                  "heat": 0,
                  "label": "",
                  "properties": {},
                  "start": "MEX",
                  "styles": {},
                  "thickness_factor": 1
                },
                {
                  "color": "#15AFAC",
                  "directed": false,
                  "end": "SFO",
                  "heat": 0,
                  "label": "",
                  "properties": {},
                  "start": "LAX",
                  "styles": {},
                  "thickness_factor": 1
                },
                {
                  "color": "#15AFAC",
                  "directed": false,
                  "end": "YVR",
                  "heat": 0,
                  "label": "",
                  "properties": {},
                  "start": "SFO",
                  "styles": {},
                  "thickness_factor": 1
                },
                {
                  "color": "#15AFAC",
                  "directed": false,
                  "end": "LAS",
                  "heat": 0,
                  "label": "",
                  "properties": {},
                  "start": "LAX",
                  "styles": {},
                  "thickness_factor": 1
                },
                {
                  "color": "#15AFAC",
                  "directed": false,
                  "end": "DFW",
                  "heat": 0,
                  "label": "",
                  "properties": {},
                  "start": "LAX",
                  "styles": {},
                  "thickness_factor": 1
                },
                {
                  "color": "#15AFAC",
                  "directed": false,
                  "end": "ORD",
                  "heat": 0,
                  "label": "",
                  "properties": {},
                  "start": "LAX",
                  "styles": {},
                  "thickness_factor": 1
                },
                {
                  "color": "#15AFAC",
                  "directed": false,
                  "end": "LAS",
                  "heat": 0,
                  "label": "",
                  "properties": {},
                  "start": "SFO",
                  "styles": {},
                  "thickness_factor": 1
                },
                {
                  "color": "#15AFAC",
                  "directed": false,
                  "end": "ATL",
                  "heat": 0,
                  "label": "",
                  "properties": {},
                  "start": "DFW",
                  "styles": {},
                  "thickness_factor": 1
                },
                {
                  "color": "#15AFAC",
                  "directed": false,
                  "end": "YYZ",
                  "heat": 0,
                  "label": "",
                  "properties": {},
                  "start": "ATL",
                  "styles": {},
                  "thickness_factor": 1
                },
                {
                  "color": "#15AFAC",
                  "directed": false,
                  "end": "YYZ",
                  "heat": 0,
                  "label": "",
                  "properties": {},
                  "start": "ORD",
                  "styles": {},
                  "thickness_factor": 1
                },
                {
                  "color": "#15AFAC",
                  "directed": false,
                  "end": "YUL",
                  "heat": 0,
                  "label": "",
                  "properties": {},
                  "start": "YYZ",
                  "styles": {},
                  "thickness_factor": 1
                },
                {
                  "color": "#15AFAC",
                  "directed": false,
                  "end": "JFK",
                  "heat": 0,
                  "label": "",
                  "properties": {},
                  "start": "YYZ",
                  "styles": {},
                  "thickness_factor": 1
                },
                {
                  "color": "#15AFAC",
                  "directed": false,
                  "end": "JFK",
                  "heat": 0,
                  "label": "",
                  "properties": {},
                  "start": "YUL",
                  "styles": {},
                  "thickness_factor": 1
                },
                {
                  "color": "#15AFAC",
                  "directed": false,
                  "end": "CPT",
                  "heat": 0,
                  "label": "",
                  "properties": {},
                  "start": "JNB",
                  "styles": {},
                  "thickness_factor": 1
                },
                {
                  "color": "#15AFAC",
                  "directed": false,
                  "end": "DKR",
                  "heat": 0,
                  "label": "",
                  "properties": {},
                  "start": "LOS",
                  "styles": {},
                  "thickness_factor": 1
                },
                {
                  "color": "#15AFAC",
                  "directed": false,
                  "end": "LOS",
                  "heat": 0,
                  "label": "",
                  "properties": {},
                  "start": "NBO",
                  "styles": {},
                  "thickness_factor": 1
                },
                {
                  "color": "#15AFAC",
                  "directed": false,
                  "end": "CMN",
                  "heat": 0,
                  "label": "",
                  "properties": {},
                  "start": "DKR",
                  "styles": {},
                  "thickness_factor": 1
                },
                {
                  "color": "#15AFAC",
                  "directed": false,
                  "end": "CAI",
                  "heat": 0,
                  "label": "",
                  "properties": {},
                  "start": "DKR",
                  "styles": {},
                  "thickness_factor": 1
                },
                {
                  "color": "#15AFAC",
                  "directed": false,
                  "end": "CAI",
                  "heat": 0,
                  "label": "",
                  "properties": {},
                  "start": "NBO",
                  "styles": {},
                  "thickness_factor": 1
                },
                {
                  "color": "#15AFAC",
                  "directed": false,
                  "end": "CAI",
                  "heat": 0,
                  "label": "",
                  "properties": {},
                  "start": "DXB",
                  "styles": {},
                  "thickness_factor": 1
                },
                {
                  "color": "#15AFAC",
                  "directed": false,
                  "end": "DXB",
                  "heat": 0,
                  "label": "",
                  "properties": {},
                  "start": "IKA",
                  "styles": {},
                  "thickness_factor": 1
                },
                {
                  "color": "#15AFAC",
                  "directed": false,
                  "end": "IKA",
                  "heat": 0,
                  "label": "",
                  "properties": {},
                  "start": "IST",
                  "styles": {},
                  "thickness_factor": 1
                },
                {
                  "color": "#15AFAC",
                  "directed": false,
                  "end": "ATH",
                  "heat": 0,
                  "label": "",
                  "properties": {},
                  "start": "TLV",
                  "styles": {},
                  "thickness_factor": 1
                },
                {
                  "color": "#15AFAC",
                  "directed": false,
                  "end": "TLV",
                  "heat": 0,
                  "label": "",
                  "properties": {},
                  "start": "CAI",
                  "styles": {},
                  "thickness_factor": 1
                },
                {
                  "color": "#15AFAC",
                  "directed": false,
                  "end": "IST",
                  "heat": 0,
                  "label": "",
                  "properties": {},
                  "start": "ATH",
                  "styles": {},
                  "thickness_factor": 1
                },
                {
                  "color": "#15AFAC",
                  "directed": false,
                  "end": "ATH",
                  "heat": 0,
                  "label": "",
                  "properties": {},
                  "start": "FCO",
                  "styles": {},
                  "thickness_factor": 1
                },
                {
                  "color": "#15AFAC",
                  "directed": false,
                  "end": "LHR",
                  "heat": 0,
                  "label": "",
                  "properties": {},
                  "start": "LIS",
                  "styles": {},
                  "thickness_factor": 1
                },
                {
                  "color": "#15AFAC",
                  "directed": false,
                  "end": "MAD",
                  "heat": 0,
                  "label": "",
                  "properties": {},
                  "start": "LIS",
                  "styles": {},
                  "thickness_factor": 1
                },
                {
                  "color": "#15AFAC",
                  "directed": false,
                  "end": "BCN",
                  "heat": 0,
                  "label": "",
                  "properties": {},
                  "start": "MAD",
                  "styles": {},
                  "thickness_factor": 1
                },
                {
                  "color": "#15AFAC",
                  "directed": false,
                  "end": "LHR",
                  "heat": 0,
                  "label": "",
                  "properties": {},
                  "start": "CDG",
                  "styles": {},
                  "thickness_factor": 1
                },
                {
                  "color": "#15AFAC",
                  "directed": false,
                  "end": "LHR",
                  "heat": 0,
                  "label": "",
                  "properties": {},
                  "start": "DUB",
                  "styles": {},
                  "thickness_factor": 1
                },
                {
                  "color": "#15AFAC",
                  "directed": false,
                  "end": "LHR",
                  "heat": 0,
                  "label": "",
                  "properties": {},
                  "start": "EDI",
                  "styles": {},
                  "thickness_factor": 1
                },
                {
                  "color": "#15AFAC",
                  "directed": false,
                  "end": "BCN",
                  "heat": 0,
                  "label": "",
                  "properties": {},
                  "start": "CDG",
                  "styles": {},
                  "thickness_factor": 1
                },
                {
                  "color": "#15AFAC",
                  "directed": false,
                  "end": "FCO",
                  "heat": 0,
                  "label": "",
                  "properties": {},
                  "start": "BCN",
                  "styles": {},
                  "thickness_factor": 1
                },
                {
                  "color": "#15AFAC",
                  "directed": false,
                  "end": "IST",
                  "heat": 0,
                  "label": "",
                  "properties": {},
                  "start": "VIE",
                  "styles": {},
                  "thickness_factor": 1
                },
                {
                  "color": "#15AFAC",
                  "directed": false,
                  "end": "SVO",
                  "heat": 0,
                  "label": "",
                  "properties": {},
                  "start": "VIE",
                  "styles": {},
                  "thickness_factor": 1
                },
                {
                  "color": "#15AFAC",
                  "directed": false,
                  "end": "LIS",
                  "heat": 0,
                  "label": "",
                  "properties": {},
                  "start": "CMN",
                  "styles": {},
                  "thickness_factor": 1
                },
                {
                  "color": "#15AFAC",
                  "directed": false,
                  "end": "CMN",
                  "heat": 0,
                  "label": "",
                  "properties": {},
                  "start": "MAD",
                  "styles": {},
                  "thickness_factor": 1
                },
                {
                  "color": "#15AFAC",
                  "directed": false,
                  "end": "CPH",
                  "heat": 0,
                  "label": "",
                  "properties": {},
                  "start": "FRA",
                  "styles": {},
                  "thickness_factor": 1
                },
                {
                  "color": "#15AFAC",
                  "directed": false,
                  "end": "CPH",
                  "heat": 0,
                  "label": "",
                  "properties": {},
                  "start": "LHR",
                  "styles": {},
                  "thickness_factor": 1
                },
                {
                  "color": "#15AFAC",
                  "directed": false,
                  "end": "OSL",
                  "heat": 0,
                  "label": "",
                  "properties": {},
                  "start": "CPH",
                  "styles": {},
                  "thickness_factor": 1
                },
                {
                  "color": "#15AFAC",
                  "directed": false,
                  "end": "ARN",
                  "heat": 0,
                  "label": "",
                  "properties": {},
                  "start": "CPH",
                  "styles": {},
                  "thickness_factor": 1
                },
                {
                  "color": "#15AFAC",
                  "directed": false,
                  "end": "HEL",
                  "heat": 0,
                  "label": "",
                  "properties": {},
                  "start": "ARN",
                  "styles": {},
                  "thickness_factor": 1
                },
                {
                  "color": "#15AFAC",
                  "directed": false,
                  "end": "SVO",
                  "heat": 0,
                  "label": "",
                  "properties": {},
                  "start": "HEL",
                  "styles": {},
                  "thickness_factor": 1
                },
                {
                  "color": "#15AFAC",
                  "directed": false,
                  "end": "PVG",
                  "heat": 0,
                  "label": "",
                  "properties": {},
                  "start": "ULN",
                  "styles": {},
                  "thickness_factor": 1
                },
                {
                  "color": "#15AFAC",
                  "directed": false,
                  "end": "PVG",
                  "heat": 0,
                  "label": "",
                  "properties": {},
                  "start": "CTU",
                  "styles": {},
                  "thickness_factor": 1
                },
                {
                  "color": "#15AFAC",
                  "directed": false,
                  "end": "TPE",
                  "heat": 0,
                  "label": "",
                  "properties": {},
                  "start": "PVG",
                  "styles": {},
                  "thickness_factor": 1
                },
                {
                  "color": "#15AFAC",
                  "directed": false,
                  "end": "HKG",
                  "heat": 0,
                  "label": "",
                  "properties": {},
                  "start": "CTU",
                  "styles": {},
                  "thickness_factor": 1
                },
                {
                  "color": "#15AFAC",
                  "directed": false,
                  "end": "HKG",
                  "heat": 0,
                  "label": "",
                  "properties": {},
                  "start": "TPE",
                  "styles": {},
                  "thickness_factor": 1
                },
                {
                  "color": "#15AFAC",
                  "directed": false,
                  "end": "MNL",
                  "heat": 0,
                  "label": "",
                  "properties": {},
                  "start": "HKG",
                  "styles": {},
                  "thickness_factor": 1
                },
                {
                  "color": "#15AFAC",
                  "directed": false,
                  "end": "HKG",
                  "heat": 0,
                  "label": "",
                  "properties": {},
                  "start": "BKK",
                  "styles": {},
                  "thickness_factor": 1
                },
                {
                  "color": "#15AFAC",
                  "directed": false,
                  "end": "KUL",
                  "heat": 0,
                  "label": "",
                  "properties": {},
                  "start": "SIN",
                  "styles": {},
                  "thickness_factor": 1
                },
                {
                  "color": "#15AFAC",
                  "directed": false,
                  "end": "BKK",
                  "heat": 0,
                  "label": "",
                  "properties": {},
                  "start": "SIN",
                  "styles": {},
                  "thickness_factor": 1
                },
                {
                  "color": "#15AFAC",
                  "directed": false,
                  "end": "SIN",
                  "heat": 0,
                  "label": "",
                  "properties": {},
                  "start": "CGK",
                  "styles": {},
                  "thickness_factor": 1
                },
                {
                  "color": "#15AFAC",
                  "directed": false,
                  "end": "SIN",
                  "heat": 0,
                  "label": "",
                  "properties": {},
                  "start": "MNL",
                  "styles": {},
                  "thickness_factor": 1
                },
                {
                  "color": "#15AFAC",
                  "directed": false,
                  "end": "SYD",
                  "heat": 0,
                  "label": "",
                  "properties": {},
                  "start": "SIN",
                  "styles": {},
                  "thickness_factor": 1
                },
                {
                  "color": "#15AFAC",
                  "directed": false,
                  "end": "SYD",
                  "heat": 0,
                  "label": "",
                  "properties": {},
                  "start": "BNE",
                  "styles": {},
                  "thickness_factor": 1
                },
                {
                  "color": "#15AFAC",
                  "directed": false,
                  "end": "MEL",
                  "heat": 0,
                  "label": "",
                  "properties": {},
                  "start": "SYD",
                  "styles": {},
                  "thickness_factor": 1
                },
                {
                  "color": "#15AFAC",
                  "directed": false,
                  "end": "SYD",
                  "heat": 0,
                  "label": "",
                  "properties": {},
                  "start": "NAN",
                  "styles": {},
                  "thickness_factor": 1
                },
                {
                  "color": "#15AFAC",
                  "directed": false,
                  "end": "SYD",
                  "heat": 0,
                  "label": "",
                  "properties": {},
                  "start": "AKL",
                  "styles": {},
                  "thickness_factor": 1
                },
                {
                  "color": "#15AFAC",
                  "directed": false,
                  "end": "AKL",
                  "heat": 0,
                  "label": "",
                  "properties": {},
                  "start": "NAN",
                  "styles": {},
                  "thickness_factor": 1
                },
                {
                  "color": "#15AFAC",
                  "directed": false,
                  "end": "LHR",
                  "heat": 0,
                  "label": "",
                  "properties": {},
                  "start": "RKV",
                  "styles": {},
                  "thickness_factor": 1
                },
                {
                  "color": "#15AFAC",
                  "directed": false,
                  "end": "CDG",
                  "heat": 0,
                  "label": "",
                  "properties": {},
                  "start": "BCN",
                  "styles": {},
                  "thickness_factor": 1
                },
                {
                  "color": "#15AFAC",
                  "directed": false,
                  "end": "FRA",
                  "heat": 0,
                  "label": "",
                  "properties": {},
                  "start": "BCN",
                  "styles": {},
                  "thickness_factor": 1
                },
                {
                  "color": "#15AFAC",
                  "directed": false,
                  "end": "FRA",
                  "heat": 0,
                  "label": "",
                  "properties": {},
                  "start": "FCO",
                  "styles": {},
                  "thickness_factor": 1
                },
                {
                  "color": "#15AFAC",
                  "directed": false,
                  "end": "MEX",
                  "heat": 0,
                  "label": "",
                  "properties": {},
                  "start": "BOG",
                  "styles": {},
                  "thickness_factor": 1
                },
                {
                  "color": "#15AFAC",
                  "directed": false,
                  "end": "GRU",
                  "heat": 0,
                  "label": "",
                  "properties": {},
                  "start": "BOG",
                  "styles": {},
                  "thickness_factor": 1
                },
                {
                  "color": "#15AFAC",
                  "directed": false,
                  "end": "MIA",
                  "heat": 0,
                  "label": "",
                  "properties": {},
                  "start": "ATL",
                  "styles": {},
                  "thickness_factor": 1
                },
                {
                  "color": "#15AFAC",
                  "directed": false,
                  "end": "IST",
                  "heat": 0,
                  "label": "",
                  "properties": {},
                  "start": "FRA",
                  "styles": {},
                  "thickness_factor": 1
                },
                {
                  "color": "#15AFAC",
                  "directed": false,
                  "end": "DEL",
                  "heat": 0,
                  "label": "",
                  "properties": {},
                  "start": "IST",
                  "styles": {},
                  "thickness_factor": 1
                },
                {
                  "color": "#15AFAC",
                  "directed": false,
                  "end": "BKK",
                  "heat": 0,
                  "label": "",
                  "properties": {},
                  "start": "PVG",
                  "styles": {},
                  "thickness_factor": 1
                },
                {
                  "color": "#15AFAC",
                  "directed": false,
                  "end": "BKK",
                  "heat": 0,
                  "label": "",
                  "properties": {},
                  "start": "DEL",
                  "styles": {},
                  "thickness_factor": 1
                }
              ],
              "_graph_layout": {
                "algorithm": "map",
                "options": {}
              },
              "_model_module_version": "^1.10.2",
              "_nodes": [
                {
                  "color": "#15AFAC",
                  "coordinates": [
                    33.942536,
                    -118.408075
                  ],
                  "heat": 0.6963123644251626,
                  "id": "LAX",
                  "label": "Los Angeles",
                  "parentId": "group#USA",
                  "position": [
                    0,
                    0
                  ],
                  "properties": {
                    "country": "USA",
                    "country_id": "us",
                    "label": "Los Angeles",
                    "passengers": 65000000
                  },
                  "scale_factor": 1,
                  "size": [
                    55,
                    55
                  ],
                  "styles": {},
                  "type": "#15AFAC"
                },
                {
                  "color": "#15AFAC",
                  "coordinates": [
                    -22.808903,
                    -43.243647
                  ],
                  "heat": 0.0455531453362256,
                  "id": "GIG",
                  "label": "Rio de Janeiro",
                  "parentId": "group#Brazil",
                  "position": [
                    0,
                    0
                  ],
                  "properties": {
                    "country": "Brazil",
                    "country_id": "br",
                    "label": "Rio de Janeiro",
                    "passengers": 5000000
                  },
                  "scale_factor": 1,
                  "size": [
                    55,
                    55
                  ],
                  "styles": {},
                  "type": "#15AFAC"
                },
                {
                  "color": "#15AFAC",
                  "coordinates": [
                    -12.021889,
                    -77.114319
                  ],
                  "heat": 0.18655097613882862,
                  "id": "LIM",
                  "label": "Lima",
                  "parentId": "group#Peru",
                  "position": [
                    0,
                    0
                  ],
                  "properties": {
                    "country": "Peru",
                    "country_id": "pe",
                    "label": "Lima",
                    "passengers": 18000000
                  },
                  "scale_factor": 1,
                  "size": [
                    55,
                    55
                  ],
                  "styles": {},
                  "type": "#15AFAC"
                },
                {
                  "color": "#15AFAC",
                  "coordinates": [
                    51.4775,
                    -0.461389
                  ],
                  "heat": 0.6529284164859002,
                  "id": "LHR",
                  "label": "London",
                  "parentId": "group#UK",
                  "position": [
                    0,
                    0
                  ],
                  "properties": {
                    "country": "UK",
                    "country_id": "gb",
                    "label": "London",
                    "passengers": 61000000
                  },
                  "scale_factor": 1,
                  "size": [
                    55,
                    55
                  ],
                  "styles": {},
                  "type": "#15AFAC"
                },
                {
                  "color": "#15AFAC",
                  "coordinates": [
                    50.033333,
                    8.570556
                  ],
                  "heat": 0.5119305856832972,
                  "id": "FRA",
                  "label": "Frankfurt",
                  "parentId": "group#Germany",
                  "position": [
                    0,
                    0
                  ],
                  "properties": {
                    "country": "Germany",
                    "country_id": "de",
                    "label": "Frankfurt",
                    "passengers": 48000000
                  },
                  "scale_factor": 1,
                  "size": [
                    55,
                    55
                  ],
                  "styles": {},
                  "type": "#15AFAC"
                },
                {
                  "color": "#15AFAC",
                  "coordinates": [
                    55.972642,
                    37.414589
                  ],
                  "heat": 0.5227765726681128,
                  "id": "SVO",
                  "label": "Moscow",
                  "parentId": "group#Russia",
                  "position": [
                    0,
                    0
                  ],
                  "properties": {
                    "country": "Russia",
                    "country_id": "ru",
                    "label": "Moscow",
                    "passengers": 49000000
                  },
                  "scale_factor": 1,
                  "size": [
                    55,
                    55
                  ],
                  "styles": {},
                  "type": "#15AFAC"
                },
                {
                  "color": "#15AFAC",
                  "coordinates": [
                    28.5665,
                    77.103089
                  ],
                  "heat": 0.41431670281995664,
                  "id": "DEL",
                  "label": "New Delhi",
                  "parentId": "group#India",
                  "position": [
                    0,
                    0
                  ],
                  "properties": {
                    "country": "India",
                    "country_id": "in",
                    "label": "New Delhi",
                    "passengers": 39000000
                  },
                  "scale_factor": 1,
                  "size": [
                    55,
                    55
                  ],
                  "styles": {},
                  "type": "#15AFAC"
                },
                {
                  "color": "#15AFAC",
                  "coordinates": [
                    31.143378,
                    121.805214
                  ],
                  "heat": 0.3383947939262473,
                  "id": "PVG",
                  "label": "Shanghai",
                  "parentId": "group#China",
                  "position": [
                    0,
                    0
                  ],
                  "properties": {
                    "country": "China",
                    "country_id": "hk",
                    "label": "Shanghai",
                    "passengers": 32000000
                  },
                  "scale_factor": 1,
                  "size": [
                    55,
                    55
                  ],
                  "styles": {},
                  "type": "#15AFAC"
                },
                {
                  "color": "#15AFAC",
                  "coordinates": [
                    22.308919,
                    113.914603
                  ],
                  "heat": 0.0021691973969631237,
                  "id": "HKG",
                  "label": "Hongkong",
                  "parentId": "group#China",
                  "position": [
                    0,
                    0
                  ],
                  "properties": {
                    "country": "China",
                    "country_id": "hk",
                    "label": "Hongkong",
                    "passengers": 1000000
                  },
                  "scale_factor": 1,
                  "size": [
                    55,
                    55
                  ],
                  "styles": {},
                  "type": "#15AFAC"
                },
                {
                  "color": "#15AFAC",
                  "coordinates": [
                    35.764722,
                    140.386389
                  ],
                  "heat": 0.1540130151843818,
                  "id": "NRT",
                  "label": "Tokio",
                  "parentId": "group#Japan",
                  "position": [
                    0,
                    0
                  ],
                  "properties": {
                    "country": "Japan",
                    "country_id": "jp",
                    "label": "Tokio",
                    "passengers": 15000000
                  },
                  "scale_factor": 1,
                  "size": [
                    55,
                    55
                  ],
                  "styles": {},
                  "type": "#15AFAC"
                },
                {
                  "color": "#15AFAC",
                  "coordinates": [
                    25.252778,
                    55.364444
                  ],
                  "heat": 0.30585683297180044,
                  "id": "DXB",
                  "label": "Dubai",
                  "parentId": "group#UAE",
                  "position": [
                    0,
                    0
                  ],
                  "properties": {
                    "country": "UAE",
                    "country_id": "ae",
                    "label": "Dubai",
                    "passengers": 29000000
                  },
                  "scale_factor": 1,
                  "size": [
                    55,
                    55
                  ],
                  "styles": {},
                  "type": "#15AFAC"
                },
                {
                  "color": "#15AFAC",
                  "coordinates": [
                    14.670833,
                    -17.072778
                  ],
                  "heat": 0.013015184381778741,
                  "id": "DKR",
                  "label": "Dakar",
                  "parentId": "group#Senegal",
                  "position": [
                    0,
                    0
                  ],
                  "properties": {
                    "country": "Senegal",
                    "country_id": "sn",
                    "label": "Dakar",
                    "passengers": 2000000
                  },
                  "scale_factor": 1,
                  "size": [
                    55,
                    55
                  ],
                  "styles": {},
                  "type": "#15AFAC"
                },
                {
                  "color": "#15AFAC",
                  "coordinates": [
                    -26.133694,
                    28.242317
                  ],
                  "heat": 0.08893709327548807,
                  "id": "JNB",
                  "label": "Johannesburg",
                  "parentId": "group#South Africa",
                  "position": [
                    0,
                    0
                  ],
                  "properties": {
                    "country": "South Africa",
                    "country_id": "za",
                    "label": "Johannesburg",
                    "passengers": 9000000
                  },
                  "scale_factor": 1,
                  "size": [
                    55,
                    55
                  ],
                  "styles": {},
                  "type": "#15AFAC"
                },
                {
                  "color": "#15AFAC",
                  "coordinates": [
                    -33.946111,
                    151.177222
                  ],
                  "heat": 0.4685466377440347,
                  "id": "SYD",
                  "label": "Sydney",
                  "parentId": "group#Australia",
                  "position": [
                    0,
                    0
                  ],
                  "properties": {
                    "country": "Australia",
                    "country_id": "au",
                    "label": "Sydney",
                    "passengers": 44000000
                  },
                  "scale_factor": 1,
                  "size": [
                    55,
                    55
                  ],
                  "styles": {},
                  "type": "#15AFAC"
                },
                {
                  "color": "#15AFAC",
                  "coordinates": [
                    -1.319167,
                    36.927778
                  ],
                  "heat": 0.0010845986984815619,
                  "id": "NBO",
                  "label": "Nairobi",
                  "parentId": "group#Kenya",
                  "position": [
                    0,
                    0
                  ],
                  "properties": {
                    "country": "Kenya",
                    "country_id": "ke",
                    "label": "Nairobi",
                    "passengers": 900000
                  },
                  "scale_factor": 1,
                  "size": [
                    55,
                    55
                  ],
                  "styles": {},
                  "type": "#15AFAC"
                },
                {
                  "color": "#15AFAC",
                  "coordinates": [
                    33.639167,
                    -84.427778
                  ],
                  "heat": 1,
                  "id": "ATL",
                  "label": "Atlanta",
                  "parentId": "group#USA",
                  "position": [
                    0,
                    0
                  ],
                  "properties": {
                    "country": "USA",
                    "country_id": "us",
                    "label": "Atlanta",
                    "passengers": 93000000
                  },
                  "scale_factor": 1,
                  "size": [
                    55,
                    55
                  ],
                  "styles": {},
                  "type": "#15AFAC"
                },
                {
                  "color": "#15AFAC",
                  "coordinates": [
                    40.63975,
                    -73.778925
                  ],
                  "heat": 0.5878524945770065,
                  "id": "JFK",
                  "label": "New York City",
                  "parentId": "group#USA",
                  "position": [
                    0,
                    0
                  ],
                  "properties": {
                    "country": "USA",
                    "country_id": "us",
                    "label": "New York City",
                    "passengers": 55000000
                  },
                  "scale_factor": 1,
                  "size": [
                    55,
                    55
                  ],
                  "styles": {},
                  "type": "#15AFAC"
                },
                {
                  "color": "#15AFAC",
                  "coordinates": [
                    30.121944,
                    31.405556
                  ],
                  "heat": 0.14316702819956617,
                  "id": "CAI",
                  "label": "Cairo",
                  "parentId": "group#Egypt",
                  "position": [
                    0,
                    0
                  ],
                  "properties": {
                    "country": "Egypt",
                    "country_id": "eg",
                    "label": "Cairo",
                    "passengers": 14000000
                  },
                  "scale_factor": 1,
                  "size": [
                    55,
                    55
                  ],
                  "styles": {},
                  "type": "#15AFAC"
                },
                {
                  "color": "#15AFAC",
                  "coordinates": [
                    33.367467,
                    -7.589967
                  ],
                  "heat": 0.06724511930585683,
                  "id": "CMN",
                  "label": "Casablanca",
                  "parentId": "group#Morocco",
                  "position": [
                    0,
                    0
                  ],
                  "properties": {
                    "country": "Morocco",
                    "country_id": "ma",
                    "label": "Casablanca",
                    "passengers": 7000000
                  },
                  "scale_factor": 1,
                  "size": [
                    55,
                    55
                  ],
                  "styles": {},
                  "type": "#15AFAC"
                },
                {
                  "color": "#15AFAC",
                  "coordinates": [
                    6.577222,
                    3.321111
                  ],
                  "heat": 0.0455531453362256,
                  "id": "LOS",
                  "label": "Lagos",
                  "parentId": "group#Nigeria",
                  "position": [
                    0,
                    0
                  ],
                  "properties": {
                    "country": "Nigeria",
                    "country_id": "ng",
                    "label": "Lagos",
                    "passengers": 5000000
                  },
                  "scale_factor": 1,
                  "size": [
                    55,
                    55
                  ],
                  "styles": {},
                  "type": "#15AFAC"
                },
                {
                  "color": "#15AFAC",
                  "coordinates": [
                    -33.969444,
                    18.597222
                  ],
                  "heat": 0.0455531453362256,
                  "id": "CPT",
                  "label": "Cape Town",
                  "parentId": "group#South Africa",
                  "position": [
                    0,
                    0
                  ],
                  "properties": {
                    "country": "South Africa",
                    "country_id": "za",
                    "label": "Cape Town",
                    "passengers": 5000000
                  },
                  "scale_factor": 1,
                  "size": [
                    55,
                    55
                  ],
                  "styles": {},
                  "type": "#15AFAC"
                },
                {
                  "color": "#15AFAC",
                  "coordinates": [
                    30.578333,
                    103.946944
                  ],
                  "heat": 0.42516268980477223,
                  "id": "CTU",
                  "label": "Chengdu",
                  "parentId": "group#China",
                  "position": [
                    0,
                    0
                  ],
                  "properties": {
                    "country": "China",
                    "country_id": "hk",
                    "label": "Chengdu",
                    "passengers": 40000000
                  },
                  "scale_factor": 1,
                  "size": [
                    55,
                    55
                  ],
                  "styles": {},
                  "type": "#15AFAC"
                },
                {
                  "color": "#15AFAC",
                  "coordinates": [
                    -6.125567,
                    106.655897
                  ],
                  "heat": 0.5770065075921909,
                  "id": "CGK",
                  "label": "Jakarta",
                  "parentId": "group#Indonesia",
                  "position": [
                    0,
                    0
                  ],
                  "properties": {
                    "country": "Indonesia",
                    "country_id": "id",
                    "label": "Jakarta",
                    "passengers": 54000000
                  },
                  "scale_factor": 1,
                  "size": [
                    55,
                    55
                  ],
                  "styles": {},
                  "type": "#15AFAC"
                },
                {
                  "color": "#15AFAC",
                  "coordinates": [
                    35.416111,
                    51.152222
                  ],
                  "heat": 0.07809110629067245,
                  "id": "IKA",
                  "label": "Teheran",
                  "parentId": "group#Iran",
                  "position": [
                    0,
                    0
                  ],
                  "properties": {
                    "country": "Iran",
                    "country_id": "ir",
                    "label": "Teheran",
                    "passengers": 8000000
                  },
                  "scale_factor": 1,
                  "size": [
                    55,
                    55
                  ],
                  "styles": {},
                  "type": "#15AFAC"
                },
                {
                  "color": "#15AFAC",
                  "coordinates": [
                    32.011389,
                    34.886667
                  ],
                  "heat": 0.20824295010845986,
                  "id": "TLV",
                  "label": "Tel Aviv",
                  "parentId": "group#Israel",
                  "position": [
                    0,
                    0
                  ],
                  "properties": {
                    "country": "Israel",
                    "country_id": "il",
                    "label": "Tel Aviv",
                    "passengers": 20000000
                  },
                  "scale_factor": 1,
                  "size": [
                    55,
                    55
                  ],
                  "styles": {},
                  "type": "#15AFAC"
                },
                {
                  "color": "#15AFAC",
                  "coordinates": [
                    2.745578,
                    101.709917
                  ],
                  "heat": 0.26247288503253796,
                  "id": "KUL",
                  "label": "Kuala Lumpur",
                  "parentId": "group#Malaysia",
                  "position": [
                    0,
                    0
                  ],
                  "properties": {
                    "country": "Malaysia",
                    "country_id": "my",
                    "label": "Kuala Lumpur",
                    "passengers": 25000000
                  },
                  "scale_factor": 1,
                  "size": [
                    55,
                    55
                  ],
                  "styles": {},
                  "type": "#15AFAC"
                },
                {
                  "color": "#15AFAC",
                  "coordinates": [
                    14.508647,
                    121.019581
                  ],
                  "heat": 0.07809110629067245,
                  "id": "MNL",
                  "label": "Manila",
                  "parentId": "group#Philippines",
                  "position": [
                    0,
                    0
                  ],
                  "properties": {
                    "country": "Philippines",
                    "country_id": "ph",
                    "label": "Manila",
                    "passengers": 8000000
                  },
                  "scale_factor": 1,
                  "size": [
                    55,
                    55
                  ],
                  "styles": {},
                  "type": "#15AFAC"
                },
                {
                  "color": "#15AFAC",
                  "coordinates": [
                    1.350189,
                    103.994433
                  ],
                  "heat": 0.3383947939262473,
                  "id": "SIN",
                  "label": "Singapur",
                  "parentId": "group#Singapore",
                  "position": [
                    0,
                    0
                  ],
                  "properties": {
                    "country": "Singapore",
                    "country_id": "sg",
                    "label": "Singapur",
                    "passengers": 32000000
                  },
                  "scale_factor": 1,
                  "size": [
                    55,
                    55
                  ],
                  "styles": {},
                  "type": "#15AFAC"
                },
                {
                  "color": "#15AFAC",
                  "coordinates": [
                    25.077732,
                    121.232822
                  ],
                  "heat": 0,
                  "id": "TPE",
                  "label": "Taipeh",
                  "parentId": "group#Taiwan",
                  "position": [
                    0,
                    0
                  ],
                  "properties": {
                    "country": "Taiwan",
                    "country_id": "tw",
                    "label": "Taipeh",
                    "passengers": 800000
                  },
                  "scale_factor": 1,
                  "size": [
                    55,
                    55
                  ],
                  "styles": {},
                  "type": "#15AFAC"
                },
                {
                  "color": "#15AFAC",
                  "coordinates": [
                    13.681108,
                    100.747283
                  ],
                  "heat": 0.6963123644251626,
                  "id": "BKK",
                  "label": "Bangkok",
                  "parentId": "group#Thailand",
                  "position": [
                    0,
                    0
                  ],
                  "properties": {
                    "country": "Thailand",
                    "country_id": "th",
                    "label": "Bangkok",
                    "passengers": 65000000
                  },
                  "scale_factor": 1,
                  "size": [
                    55,
                    55
                  ],
                  "styles": {},
                  "type": "#15AFAC"
                },
                {
                  "color": "#15AFAC",
                  "coordinates": [
                    40.976922,
                    28.814606
                  ],
                  "heat": 0.6854663774403471,
                  "id": "IST",
                  "label": "Istanbul",
                  "parentId": "group#Turkey",
                  "position": [
                    0,
                    0
                  ],
                  "properties": {
                    "country": "Turkey",
                    "country_id": "tr",
                    "label": "Istanbul",
                    "passengers": 64000000
                  },
                  "scale_factor": 1,
                  "size": [
                    55,
                    55
                  ],
                  "styles": {},
                  "type": "#15AFAC"
                },
                {
                  "color": "#15AFAC",
                  "coordinates": [
                    47.843056,
                    106.766639
                  ],
                  "heat": 0.0021691973969631237,
                  "id": "ULN",
                  "label": "Ulaanbaatar",
                  "parentId": "group#Mongolia",
                  "position": [
                    0,
                    0
                  ],
                  "properties": {
                    "country": "Mongolia",
                    "country_id": "mn",
                    "label": "Ulaanbaatar",
                    "passengers": 1000000
                  },
                  "scale_factor": 1,
                  "size": [
                    55,
                    55
                  ],
                  "styles": {},
                  "type": "#15AFAC"
                },
                {
                  "color": "#15AFAC",
                  "coordinates": [
                    -37.673333,
                    144.843333
                  ],
                  "heat": 0.12147505422993492,
                  "id": "MEL",
                  "label": "Melbourne",
                  "parentId": "group#Australia",
                  "position": [
                    0,
                    0
                  ],
                  "properties": {
                    "country": "Australia",
                    "country_id": "au",
                    "label": "Melbourne",
                    "passengers": 12000000
                  },
                  "scale_factor": 1,
                  "size": [
                    55,
                    55
                  ],
                  "styles": {},
                  "type": "#15AFAC"
                },
                {
                  "color": "#15AFAC",
                  "coordinates": [
                    -27.383333,
                    153.118056
                  ],
                  "heat": 0.24078091106290672,
                  "id": "BNE",
                  "label": "Brisbane",
                  "parentId": "group#Australia",
                  "position": [
                    0,
                    0
                  ],
                  "properties": {
                    "country": "Australia",
                    "country_id": "au",
                    "label": "Brisbane",
                    "passengers": 23000000
                  },
                  "scale_factor": 1,
                  "size": [
                    55,
                    55
                  ],
                  "styles": {},
                  "type": "#15AFAC"
                },
                {
                  "color": "#15AFAC",
                  "coordinates": [
                    -17.755392,
                    177.443378
                  ],
                  "heat": 0.013015184381778741,
                  "id": "NAN",
                  "label": "Nadi",
                  "parentId": "group#Fiji",
                  "position": [
                    0,
                    0
                  ],
                  "properties": {
                    "country": "Fiji",
                    "country_id": "fj",
                    "label": "Nadi",
                    "passengers": 2000000
                  },
                  "scale_factor": 1,
                  "size": [
                    55,
                    55
                  ],
                  "styles": {},
                  "type": "#15AFAC"
                },
                {
                  "color": "#15AFAC",
                  "coordinates": [
                    -37.008056,
                    174.791667
                  ],
                  "heat": 0.21908893709327548,
                  "id": "AKL",
                  "label": "Auckland",
                  "parentId": "group#New Zealand",
                  "position": [
                    0,
                    0
                  ],
                  "properties": {
                    "country": "New Zealand",
                    "country_id": "nz",
                    "label": "Auckland",
                    "passengers": 21000000
                  },
                  "scale_factor": 1,
                  "size": [
                    55,
                    55
                  ],
                  "styles": {},
                  "type": "#15AFAC"
                },
                {
                  "color": "#15AFAC",
                  "coordinates": [
                    49.009722,
                    2.547778
                  ],
                  "heat": 0.6095444685466378,
                  "id": "CDG",
                  "label": "Paris",
                  "parentId": "group#France",
                  "position": [
                    0,
                    0
                  ],
                  "properties": {
                    "country": "France",
                    "country_id": "fr",
                    "label": "Paris",
                    "passengers": 57000000
                  },
                  "scale_factor": 1,
                  "size": [
                    55,
                    55
                  ],
                  "styles": {},
                  "type": "#15AFAC"
                },
                {
                  "color": "#15AFAC",
                  "coordinates": [
                    40.4675,
                    -3.551944
                  ],
                  "heat": 0.5336225596529284,
                  "id": "MAD",
                  "label": "Madrid",
                  "parentId": "group#Spain",
                  "position": [
                    0,
                    0
                  ],
                  "properties": {
                    "country": "Spain",
                    "country_id": "es",
                    "label": "Madrid",
                    "passengers": 50000000
                  },
                  "scale_factor": 1,
                  "size": [
                    55,
                    55
                  ],
                  "styles": {},
                  "type": "#15AFAC"
                },
                {
                  "color": "#15AFAC",
                  "coordinates": [
                    41.297078,
                    2.078464
                  ],
                  "heat": 0.4360086767895879,
                  "id": "BCN",
                  "label": "Barcelona",
                  "parentId": "group#Spain",
                  "position": [
                    0,
                    0
                  ],
                  "properties": {
                    "country": "Spain",
                    "country_id": "es",
                    "label": "Barcelona",
                    "passengers": 41000000
                  },
                  "scale_factor": 1,
                  "size": [
                    55,
                    55
                  ],
                  "styles": {},
                  "type": "#15AFAC"
                },
                {
                  "color": "#15AFAC",
                  "coordinates": [
                    41.804444,
                    12.250833
                  ],
                  "heat": 0.30585683297180044,
                  "id": "FCO",
                  "label": "Rome",
                  "parentId": "group#Italy",
                  "position": [
                    0,
                    0
                  ],
                  "properties": {
                    "country": "Italy",
                    "country_id": "it",
                    "label": "Rome",
                    "passengers": 29000000
                  },
                  "scale_factor": 1,
                  "size": [
                    55,
                    55
                  ],
                  "styles": {},
                  "type": "#15AFAC"
                },
                {
                  "color": "#15AFAC",
                  "coordinates": [
                    55.617917,
                    12.655972
                  ],
                  "heat": 0.31670281995661603,
                  "id": "CPH",
                  "label": "Copenhagen",
                  "parentId": "group#Denmark",
                  "position": [
                    0,
                    0
                  ],
                  "properties": {
                    "country": "Denmark",
                    "country_id": "dk",
                    "label": "Copenhagen",
                    "passengers": 30000000
                  },
                  "scale_factor": 1,
                  "size": [
                    55,
                    55
                  ],
                  "styles": {},
                  "type": "#15AFAC"
                },
                {
                  "color": "#15AFAC",
                  "coordinates": [
                    60.317222,
                    24.963333
                  ],
                  "heat": 0.0455531453362256,
                  "id": "HEL",
                  "label": "Helsinki",
                  "parentId": "group#Finland",
                  "position": [
                    0,
                    0
                  ],
                  "properties": {
                    "country": "Finland",
                    "country_id": "fi",
                    "label": "Helsinki",
                    "passengers": 5000000
                  },
                  "scale_factor": 1,
                  "size": [
                    55,
                    55
                  ],
                  "styles": {},
                  "type": "#15AFAC"
                },
                {
                  "color": "#15AFAC",
                  "coordinates": [
                    37.936358,
                    23.944467
                  ],
                  "heat": 0.2299349240780911,
                  "id": "ATH",
                  "label": "Athens",
                  "parentId": "group#Greece",
                  "position": [
                    0,
                    0
                  ],
                  "properties": {
                    "country": "Greece",
                    "country_id": "gr",
                    "label": "Athens",
                    "passengers": 22000000
                  },
                  "scale_factor": 1,
                  "size": [
                    55,
                    55
                  ],
                  "styles": {},
                  "type": "#15AFAC"
                },
                {
                  "color": "#15AFAC",
                  "coordinates": [
                    53.421333,
                    -6.270075
                  ],
                  "heat": 0.3383947939262473,
                  "id": "DUB",
                  "label": "Dublin",
                  "parentId": "group#Ireland",
                  "position": [
                    0,
                    0
                  ],
                  "properties": {
                    "country": "Ireland",
                    "country_id": "ie",
                    "label": "Dublin",
                    "passengers": 32000000
                  },
                  "scale_factor": 1,
                  "size": [
                    55,
                    55
                  ],
                  "styles": {},
                  "type": "#15AFAC"
                },
                {
                  "color": "#15AFAC",
                  "coordinates": [
                    64.13,
                    -21.940556
                  ],
                  "heat": -0.004338394793926247,
                  "id": "RKV",
                  "label": "Reykjavik",
                  "parentId": "group#Iceland",
                  "position": [
                    0,
                    0
                  ],
                  "properties": {
                    "country": "Iceland",
                    "country_id": "is",
                    "label": "Reykjavik",
                    "passengers": 400000
                  },
                  "scale_factor": 1,
                  "size": [
                    55,
                    55
                  ],
                  "styles": {},
                  "type": "#15AFAC"
                },
                {
                  "color": "#15AFAC",
                  "coordinates": [
                    60.193917,
                    11.100361
                  ],
                  "heat": 0.08893709327548807,
                  "id": "OSL",
                  "label": "Oslo",
                  "parentId": "group#Norway",
                  "position": [
                    0,
                    0
                  ],
                  "properties": {
                    "country": "Norway",
                    "country_id": "no",
                    "label": "Oslo",
                    "passengers": 9000000
                  },
                  "scale_factor": 1,
                  "size": [
                    55,
                    55
                  ],
                  "styles": {},
                  "type": "#15AFAC"
                },
                {
                  "color": "#15AFAC",
                  "coordinates": [
                    48.110833,
                    16.570833
                  ],
                  "heat": 0.09978308026030369,
                  "id": "VIE",
                  "label": "Vienna",
                  "parentId": "group#Austria",
                  "position": [
                    0,
                    0
                  ],
                  "properties": {
                    "country": "Austria",
                    "country_id": "at",
                    "label": "Vienna",
                    "passengers": 10000000
                  },
                  "scale_factor": 1,
                  "size": [
                    55,
                    55
                  ],
                  "styles": {},
                  "type": "#15AFAC"
                },
                {
                  "color": "#15AFAC",
                  "coordinates": [
                    38.774167,
                    -9.134167
                  ],
                  "heat": 0.2950108459869848,
                  "id": "LIS",
                  "label": "Lisbon",
                  "parentId": "group#Portugal",
                  "position": [
                    0,
                    0
                  ],
                  "properties": {
                    "country": "Portugal",
                    "country_id": "pt",
                    "label": "Lisbon",
                    "passengers": 28000000
                  },
                  "scale_factor": 1,
                  "size": [
                    55,
                    55
                  ],
                  "styles": {},
                  "type": "#15AFAC"
                },
                {
                  "color": "#15AFAC",
                  "coordinates": [
                    59.651944,
                    17.918611
                  ],
                  "heat": 0.06724511930585683,
                  "id": "ARN",
                  "label": "Stockholm",
                  "parentId": "group#Sweden",
                  "position": [
                    0,
                    0
                  ],
                  "properties": {
                    "country": "Sweden",
                    "country_id": "se",
                    "label": "Stockholm",
                    "passengers": 7000000
                  },
                  "scale_factor": 1,
                  "size": [
                    55,
                    55
                  ],
                  "styles": {},
                  "type": "#15AFAC"
                },
                {
                  "color": "#15AFAC",
                  "coordinates": [
                    55.95,
                    -3.3725
                  ],
                  "heat": 0.14316702819956617,
                  "id": "EDI",
                  "label": "Edinburgh",
                  "parentId": "group#UK",
                  "position": [
                    0,
                    0
                  ],
                  "properties": {
                    "country": "UK",
                    "country_id": "gb",
                    "label": "Edinburgh",
                    "passengers": 14000000
                  },
                  "scale_factor": 1,
                  "size": [
                    55,
                    55
                  ],
                  "styles": {},
                  "type": "#15AFAC"
                },
                {
                  "color": "#15AFAC",
                  "coordinates": [
                    41.978603,
                    -87.904842
                  ],
                  "heat": 0.5770065075921909,
                  "id": "ORD",
                  "label": "Chicago",
                  "parentId": "group#USA",
                  "position": [
                    0,
                    0
                  ],
                  "properties": {
                    "country": "USA",
                    "country_id": "us",
                    "label": "Chicago",
                    "passengers": 54000000
                  },
                  "scale_factor": 1,
                  "size": [
                    55,
                    55
                  ],
                  "styles": {},
                  "type": "#15AFAC"
                },
                {
                  "color": "#15AFAC",
                  "coordinates": [
                    32.896828,
                    -97.037997
                  ],
                  "heat": 0.7830802603036876,
                  "id": "DFW",
                  "label": "Dallas",
                  "parentId": "group#USA",
                  "position": [
                    0,
                    0
                  ],
                  "properties": {
                    "country": "USA",
                    "country_id": "us",
                    "label": "Dallas",
                    "passengers": 73000000
                  },
                  "scale_factor": 1,
                  "size": [
                    55,
                    55
                  ],
                  "styles": {},
                  "type": "#15AFAC"
                },
                {
                  "color": "#15AFAC",
                  "coordinates": [
                    37.618972,
                    -122.374889
                  ],
                  "heat": 0.44685466377440347,
                  "id": "SFO",
                  "label": "San Francisco",
                  "parentId": "group#USA",
                  "position": [
                    0,
                    0
                  ],
                  "properties": {
                    "country": "USA",
                    "country_id": "us",
                    "label": "San Francisco",
                    "passengers": 42000000
                  },
                  "scale_factor": 1,
                  "size": [
                    55,
                    55
                  ],
                  "styles": {},
                  "type": "#15AFAC"
                },
                {
                  "color": "#15AFAC",
                  "coordinates": [
                    36.080056,
                    -115.15225
                  ],
                  "heat": 0.5553145336225597,
                  "id": "LAS",
                  "label": "Las Vegas",
                  "parentId": "group#USA",
                  "position": [
                    0,
                    0
                  ],
                  "properties": {
                    "country": "USA",
                    "country_id": "us",
                    "label": "Las Vegas",
                    "passengers": 52000000
                  },
                  "scale_factor": 1,
                  "size": [
                    55,
                    55
                  ],
                  "styles": {},
                  "type": "#15AFAC"
                },
                {
                  "color": "#15AFAC",
                  "coordinates": [
                    25.79325,
                    -80.290556
                  ],
                  "heat": 0.5336225596529284,
                  "id": "MIA",
                  "label": "Miami",
                  "parentId": "group#USA",
                  "position": [
                    0,
                    0
                  ],
                  "properties": {
                    "country": "USA",
                    "country_id": "us",
                    "label": "Miami",
                    "passengers": 50000000
                  },
                  "scale_factor": 1,
                  "size": [
                    55,
                    55
                  ],
                  "styles": {},
                  "type": "#15AFAC"
                },
                {
                  "color": "#15AFAC",
                  "coordinates": [
                    43.677222,
                    -79.630556
                  ],
                  "heat": 0.12147505422993492,
                  "id": "YYZ",
                  "label": "Toronto",
                  "parentId": "group#Canada",
                  "position": [
                    0,
                    0
                  ],
                  "properties": {
                    "country": "Canada",
                    "country_id": "ca",
                    "label": "Toronto",
                    "passengers": 12000000
                  },
                  "scale_factor": 1,
                  "size": [
                    55,
                    55
                  ],
                  "styles": {},
                  "type": "#15AFAC"
                },
                {
                  "color": "#15AFAC",
                  "coordinates": [
                    49.193889,
                    -123.184444
                  ],
                  "heat": 0.19739696312364424,
                  "id": "YVR",
                  "label": "Vancouver",
                  "parentId": "group#Canada",
                  "position": [
                    0,
                    0
                  ],
                  "properties": {
                    "country": "Canada",
                    "country_id": "ca",
                    "label": "Vancouver",
                    "passengers": 19000000
                  },
                  "scale_factor": 1,
                  "size": [
                    55,
                    55
                  ],
                  "styles": {},
                  "type": "#15AFAC"
                },
                {
                  "color": "#15AFAC",
                  "coordinates": [
                    45.47175,
                    -73.736569
                  ],
                  "heat": 0.1540130151843818,
                  "id": "YUL",
                  "label": "Montreal",
                  "parentId": "group#Canada",
                  "position": [
                    0,
                    0
                  ],
                  "properties": {
                    "country": "Canada",
                    "country_id": "ca",
                    "label": "Montreal",
                    "passengers": 15000000
                  },
                  "scale_factor": 1,
                  "size": [
                    55,
                    55
                  ],
                  "styles": {},
                  "type": "#15AFAC"
                },
                {
                  "color": "#15AFAC",
                  "coordinates": [
                    19.436303,
                    -99.072097
                  ],
                  "heat": 0.49023861171366595,
                  "id": "MEX",
                  "label": "Mexico-City",
                  "parentId": "group#Mexico",
                  "position": [
                    0,
                    0
                  ],
                  "properties": {
                    "country": "Mexico",
                    "country_id": "mx",
                    "label": "Mexico-City",
                    "passengers": 46000000
                  },
                  "scale_factor": 1,
                  "size": [
                    55,
                    55
                  ],
                  "styles": {},
                  "type": "#15AFAC"
                },
                {
                  "color": "#15AFAC",
                  "coordinates": [
                    14.583272,
                    -90.527475
                  ],
                  "heat": 0.013015184381778741,
                  "id": "GUA",
                  "label": "Guatemala-City",
                  "parentId": "group#Guatemala",
                  "position": [
                    0,
                    0
                  ],
                  "properties": {
                    "country": "Guatemala",
                    "country_id": "gt",
                    "label": "Guatemala-City",
                    "passengers": 2000000
                  },
                  "scale_factor": 1,
                  "size": [
                    55,
                    55
                  ],
                  "styles": {},
                  "type": "#15AFAC"
                },
                {
                  "color": "#15AFAC",
                  "coordinates": [
                    -34.822222,
                    -58.535833
                  ],
                  "heat": 0.0455531453362256,
                  "id": "EZE",
                  "label": "Buenos Aires",
                  "parentId": "group#Argentina",
                  "position": [
                    0,
                    0
                  ],
                  "properties": {
                    "country": "Argentina",
                    "country_id": "ar",
                    "label": "Buenos Aires",
                    "passengers": 5000000
                  },
                  "scale_factor": 1,
                  "size": [
                    55,
                    55
                  ],
                  "styles": {},
                  "type": "#15AFAC"
                },
                {
                  "color": "#15AFAC",
                  "coordinates": [
                    -23.432075,
                    -46.469511
                  ],
                  "heat": 0.3600867678958785,
                  "id": "GRU",
                  "label": "Sao Paulo",
                  "parentId": "group#Brazil",
                  "position": [
                    0,
                    0
                  ],
                  "properties": {
                    "country": "Brazil",
                    "country_id": "br",
                    "label": "Sao Paulo",
                    "passengers": 34000000
                  },
                  "scale_factor": 1,
                  "size": [
                    55,
                    55
                  ],
                  "styles": {},
                  "type": "#15AFAC"
                },
                {
                  "color": "#15AFAC",
                  "coordinates": [
                    -33.392975,
                    -70.785803
                  ],
                  "heat": 0.20824295010845986,
                  "id": "SCL",
                  "label": "Santiago de Chile",
                  "parentId": "group#Chile",
                  "position": [
                    0,
                    0
                  ],
                  "properties": {
                    "country": "Chile",
                    "country_id": "cl",
                    "label": "Santiago de Chile",
                    "passengers": 20000000
                  },
                  "scale_factor": 1,
                  "size": [
                    55,
                    55
                  ],
                  "styles": {},
                  "type": "#15AFAC"
                },
                {
                  "color": "#15AFAC",
                  "coordinates": [
                    -15.871111,
                    -47.918611
                  ],
                  "heat": 0.13232104121475055,
                  "id": "BSB",
                  "label": "Brasilia",
                  "parentId": "group#Brazil",
                  "position": [
                    0,
                    0
                  ],
                  "properties": {
                    "country": "Brazil",
                    "country_id": "br",
                    "label": "Brasilia",
                    "passengers": 13000000
                  },
                  "scale_factor": 1,
                  "size": [
                    55,
                    55
                  ],
                  "styles": {},
                  "type": "#15AFAC"
                },
                {
                  "color": "#15AFAC",
                  "coordinates": [
                    4.701594,
                    -74.146947
                  ],
                  "heat": 0.38177874186550975,
                  "id": "BOG",
                  "label": "Bogota",
                  "parentId": "group#Colombia",
                  "position": [
                    0,
                    0
                  ],
                  "properties": {
                    "country": "Colombia",
                    "country_id": "co",
                    "label": "Bogota",
                    "passengers": 36000000
                  },
                  "scale_factor": 1,
                  "size": [
                    55,
                    55
                  ],
                  "styles": {},
                  "type": "#15AFAC"
                },
                {
                  "color": "#15AFAC",
                  "coordinates": [
                    10.601194,
                    -66.991222
                  ],
                  "heat": 0.07809110629067245,
                  "id": "CCS",
                  "label": "Caracas",
                  "parentId": "group#Venezuela",
                  "position": [
                    0,
                    0
                  ],
                  "properties": {
                    "country": "Venezuela",
                    "country_id": "ve",
                    "label": "Caracas",
                    "passengers": 8000000
                  },
                  "scale_factor": 1,
                  "size": [
                    55,
                    55
                  ],
                  "styles": {},
                  "type": "#15AFAC"
                }
              ],
              "_overview": {
                "enabled": null,
                "overview_set": false
              },
              "_selected_graph": [
                [],
                []
              ],
              "_sidebar": {
                "enabled": false,
                "start_with": "About"
              },
              "_view_module_version": "^1.10.2",
              "layout": "IPY_MODEL_0b2a235f598e4763b2ab27f365223dc4"
            }
          },
          "62ad4aa9038944ada0629383f41338cf": {
            "model_module": "yfiles-jupyter-graphs",
            "model_module_version": "^1.10.2",
            "model_name": "GraphModel",
            "state": {
              "_context_pane_mapping": [
                {
                  "id": "Neighborhood",
                  "title": "Neighborhood"
                },
                {
                  "id": "Data",
                  "title": "Data"
                },
                {
                  "id": "Search",
                  "title": "Search"
                },
                {
                  "id": "About",
                  "title": "About"
                }
              ],
              "_directed": false,
              "_edges": [
                {
                  "color": "#15AFAC",
                  "directed": false,
                  "end": "JFK",
                  "heat": 0,
                  "label": "",
                  "properties": {},
                  "start": "LAX",
                  "styles": {},
                  "thickness_factor": 1
                },
                {
                  "color": "#15AFAC",
                  "directed": false,
                  "end": "GIG",
                  "heat": 0,
                  "label": "",
                  "properties": {},
                  "start": "JFK",
                  "styles": {},
                  "thickness_factor": 1
                },
                {
                  "color": "#15AFAC",
                  "directed": false,
                  "end": "LIM",
                  "heat": 0,
                  "label": "",
                  "properties": {},
                  "start": "JFK",
                  "styles": {},
                  "thickness_factor": 1
                },
                {
                  "color": "#15AFAC",
                  "directed": false,
                  "end": "LHR",
                  "heat": 0,
                  "label": "",
                  "properties": {},
                  "start": "JFK",
                  "styles": {},
                  "thickness_factor": 1
                },
                {
                  "color": "#15AFAC",
                  "directed": false,
                  "end": "FRA",
                  "heat": 0,
                  "label": "",
                  "properties": {},
                  "start": "GIG",
                  "styles": {},
                  "thickness_factor": 1
                },
                {
                  "color": "#15AFAC",
                  "directed": false,
                  "end": "GIG",
                  "heat": 0,
                  "label": "",
                  "properties": {},
                  "start": "LIM",
                  "styles": {},
                  "thickness_factor": 1
                },
                {
                  "color": "#15AFAC",
                  "directed": false,
                  "end": "JFK",
                  "heat": 0,
                  "label": "",
                  "properties": {},
                  "start": "FRA",
                  "styles": {},
                  "thickness_factor": 1
                },
                {
                  "color": "#15AFAC",
                  "directed": false,
                  "end": "FRA",
                  "heat": 0,
                  "label": "",
                  "properties": {},
                  "start": "LHR",
                  "styles": {},
                  "thickness_factor": 1
                },
                {
                  "color": "#15AFAC",
                  "directed": false,
                  "end": "SVO",
                  "heat": 0,
                  "label": "",
                  "properties": {},
                  "start": "FRA",
                  "styles": {},
                  "thickness_factor": 1
                },
                {
                  "color": "#15AFAC",
                  "directed": false,
                  "end": "DXB",
                  "heat": 0,
                  "label": "",
                  "properties": {},
                  "start": "FRA",
                  "styles": {},
                  "thickness_factor": 1
                },
                {
                  "color": "#15AFAC",
                  "directed": false,
                  "end": "DEL",
                  "heat": 0,
                  "label": "",
                  "properties": {},
                  "start": "SVO",
                  "styles": {},
                  "thickness_factor": 1
                },
                {
                  "color": "#15AFAC",
                  "directed": false,
                  "end": "PVG",
                  "heat": 0,
                  "label": "",
                  "properties": {},
                  "start": "SVO",
                  "styles": {},
                  "thickness_factor": 1
                },
                {
                  "color": "#15AFAC",
                  "directed": false,
                  "end": "HKG",
                  "heat": 0,
                  "label": "",
                  "properties": {},
                  "start": "DEL",
                  "styles": {},
                  "thickness_factor": 1
                },
                {
                  "color": "#15AFAC",
                  "directed": false,
                  "end": "HKG",
                  "heat": 0,
                  "label": "",
                  "properties": {},
                  "start": "PVG",
                  "styles": {},
                  "thickness_factor": 1
                },
                {
                  "color": "#15AFAC",
                  "directed": false,
                  "end": "NRT",
                  "heat": 0,
                  "label": "",
                  "properties": {},
                  "start": "PVG",
                  "styles": {},
                  "thickness_factor": 1
                },
                {
                  "color": "#15AFAC",
                  "directed": false,
                  "end": "SYD",
                  "heat": 0,
                  "label": "",
                  "properties": {},
                  "start": "HKG",
                  "styles": {},
                  "thickness_factor": 1
                },
                {
                  "color": "#15AFAC",
                  "directed": false,
                  "end": "SYD",
                  "heat": 0,
                  "label": "",
                  "properties": {},
                  "start": "NRT",
                  "styles": {},
                  "thickness_factor": 1
                },
                {
                  "color": "#15AFAC",
                  "directed": false,
                  "end": "SVO",
                  "heat": 0,
                  "label": "",
                  "properties": {},
                  "start": "DXB",
                  "styles": {},
                  "thickness_factor": 1
                },
                {
                  "color": "#15AFAC",
                  "directed": false,
                  "end": "DEL",
                  "heat": 0,
                  "label": "",
                  "properties": {},
                  "start": "DXB",
                  "styles": {},
                  "thickness_factor": 1
                },
                {
                  "color": "#15AFAC",
                  "directed": false,
                  "end": "DKR",
                  "heat": 0,
                  "label": "",
                  "properties": {},
                  "start": "DXB",
                  "styles": {},
                  "thickness_factor": 1
                },
                {
                  "color": "#15AFAC",
                  "directed": false,
                  "end": "JNB",
                  "heat": 0,
                  "label": "",
                  "properties": {},
                  "start": "DXB",
                  "styles": {},
                  "thickness_factor": 1
                },
                {
                  "color": "#15AFAC",
                  "directed": false,
                  "end": "LHR",
                  "heat": 0,
                  "label": "",
                  "properties": {},
                  "start": "JNB",
                  "styles": {},
                  "thickness_factor": 1
                },
                {
                  "color": "#15AFAC",
                  "directed": false,
                  "end": "DKR",
                  "heat": 0,
                  "label": "",
                  "properties": {},
                  "start": "JNB",
                  "styles": {},
                  "thickness_factor": 1
                },
                {
                  "color": "#15AFAC",
                  "directed": false,
                  "end": "DXB",
                  "heat": 0,
                  "label": "",
                  "properties": {},
                  "start": "SYD",
                  "styles": {},
                  "thickness_factor": 1
                },
                {
                  "color": "#15AFAC",
                  "directed": false,
                  "end": "JNB",
                  "heat": 0,
                  "label": "",
                  "properties": {},
                  "start": "NBO",
                  "styles": {},
                  "thickness_factor": 1
                },
                {
                  "color": "#15AFAC",
                  "directed": false,
                  "end": "DXB",
                  "heat": 0,
                  "label": "",
                  "properties": {},
                  "start": "NBO",
                  "styles": {},
                  "thickness_factor": 1
                },
                {
                  "color": "#15AFAC",
                  "directed": false,
                  "end": "JFK",
                  "heat": 0,
                  "label": "",
                  "properties": {},
                  "start": "ATL",
                  "styles": {},
                  "thickness_factor": 1
                },
                {
                  "color": "#15AFAC",
                  "directed": false,
                  "end": "ATL",
                  "heat": 0,
                  "label": "",
                  "properties": {},
                  "start": "LAX",
                  "styles": {},
                  "thickness_factor": 1
                },
                {
                  "color": "#15AFAC",
                  "directed": false,
                  "end": "LHR",
                  "heat": 0,
                  "label": "",
                  "properties": {},
                  "start": "ATL",
                  "styles": {},
                  "thickness_factor": 1
                },
                {
                  "color": "#15AFAC",
                  "directed": false,
                  "end": "LIM",
                  "heat": 0,
                  "label": "",
                  "properties": {},
                  "start": "ATL",
                  "styles": {},
                  "thickness_factor": 1
                },
                {
                  "color": "#15AFAC",
                  "directed": false,
                  "end": "LIM",
                  "heat": 0,
                  "label": "",
                  "properties": {},
                  "start": "SCL",
                  "styles": {},
                  "thickness_factor": 1
                },
                {
                  "color": "#15AFAC",
                  "directed": false,
                  "end": "SCL",
                  "heat": 0,
                  "label": "",
                  "properties": {},
                  "start": "EZE",
                  "styles": {},
                  "thickness_factor": 1
                },
                {
                  "color": "#15AFAC",
                  "directed": false,
                  "end": "GRU",
                  "heat": 0,
                  "label": "",
                  "properties": {},
                  "start": "SCL",
                  "styles": {},
                  "thickness_factor": 1
                },
                {
                  "color": "#15AFAC",
                  "directed": false,
                  "end": "EZE",
                  "heat": 0,
                  "label": "",
                  "properties": {},
                  "start": "GIG",
                  "styles": {},
                  "thickness_factor": 1
                },
                {
                  "color": "#15AFAC",
                  "directed": false,
                  "end": "GRU",
                  "heat": 0,
                  "label": "",
                  "properties": {},
                  "start": "GIG",
                  "styles": {},
                  "thickness_factor": 1
                },
                {
                  "color": "#15AFAC",
                  "directed": false,
                  "end": "GIG",
                  "heat": 0,
                  "label": "",
                  "properties": {},
                  "start": "BSB",
                  "styles": {},
                  "thickness_factor": 1
                },
                {
                  "color": "#15AFAC",
                  "directed": false,
                  "end": "BSB",
                  "heat": 0,
                  "label": "",
                  "properties": {},
                  "start": "SCL",
                  "styles": {},
                  "thickness_factor": 1
                },
                {
                  "color": "#15AFAC",
                  "directed": false,
                  "end": "BSB",
                  "heat": 0,
                  "label": "",
                  "properties": {},
                  "start": "LIM",
                  "styles": {},
                  "thickness_factor": 1
                },
                {
                  "color": "#15AFAC",
                  "directed": false,
                  "end": "BSB",
                  "heat": 0,
                  "label": "",
                  "properties": {},
                  "start": "BOG",
                  "styles": {},
                  "thickness_factor": 1
                },
                {
                  "color": "#15AFAC",
                  "directed": false,
                  "end": "BSB",
                  "heat": 0,
                  "label": "",
                  "properties": {},
                  "start": "CCS",
                  "styles": {},
                  "thickness_factor": 1
                },
                {
                  "color": "#15AFAC",
                  "directed": false,
                  "end": "GUA",
                  "heat": 0,
                  "label": "",
                  "properties": {},
                  "start": "BOG",
                  "styles": {},
                  "thickness_factor": 1
                },
                {
                  "color": "#15AFAC",
                  "directed": false,
                  "end": "MIA",
                  "heat": 0,
                  "label": "",
                  "properties": {},
                  "start": "CCS",
                  "styles": {},
                  "thickness_factor": 1
                },
                {
                  "color": "#15AFAC",
                  "directed": false,
                  "end": "MIA",
                  "heat": 0,
                  "label": "",
                  "properties": {},
                  "start": "GUA",
                  "styles": {},
                  "thickness_factor": 1
                },
                {
                  "color": "#15AFAC",
                  "directed": false,
                  "end": "MEX",
                  "heat": 0,
                  "label": "",
                  "properties": {},
                  "start": "GUA",
                  "styles": {},
                  "thickness_factor": 1
                },
                {
                  "color": "#15AFAC",
                  "directed": false,
                  "end": "LAX",
                  "heat": 0,
                  "label": "",
                  "properties": {},
                  "start": "MEX",
                  "styles": {},
                  "thickness_factor": 1
                },
                {
                  "color": "#15AFAC",
                  "directed": false,
                  "end": "LAX",
                  "heat": 0,
                  "label": "",
                  "properties": {},
                  "start": "MEX",
                  "styles": {},
                  "thickness_factor": 1
                },
                {
                  "color": "#15AFAC",
                  "directed": false,
                  "end": "SFO",
                  "heat": 0,
                  "label": "",
                  "properties": {},
                  "start": "LAX",
                  "styles": {},
                  "thickness_factor": 1
                },
                {
                  "color": "#15AFAC",
                  "directed": false,
                  "end": "YVR",
                  "heat": 0,
                  "label": "",
                  "properties": {},
                  "start": "SFO",
                  "styles": {},
                  "thickness_factor": 1
                },
                {
                  "color": "#15AFAC",
                  "directed": false,
                  "end": "LAS",
                  "heat": 0,
                  "label": "",
                  "properties": {},
                  "start": "LAX",
                  "styles": {},
                  "thickness_factor": 1
                },
                {
                  "color": "#15AFAC",
                  "directed": false,
                  "end": "DFW",
                  "heat": 0,
                  "label": "",
                  "properties": {},
                  "start": "LAX",
                  "styles": {},
                  "thickness_factor": 1
                },
                {
                  "color": "#15AFAC",
                  "directed": false,
                  "end": "ORD",
                  "heat": 0,
                  "label": "",
                  "properties": {},
                  "start": "LAX",
                  "styles": {},
                  "thickness_factor": 1
                },
                {
                  "color": "#15AFAC",
                  "directed": false,
                  "end": "LAS",
                  "heat": 0,
                  "label": "",
                  "properties": {},
                  "start": "SFO",
                  "styles": {},
                  "thickness_factor": 1
                },
                {
                  "color": "#15AFAC",
                  "directed": false,
                  "end": "ATL",
                  "heat": 0,
                  "label": "",
                  "properties": {},
                  "start": "DFW",
                  "styles": {},
                  "thickness_factor": 1
                },
                {
                  "color": "#15AFAC",
                  "directed": false,
                  "end": "YYZ",
                  "heat": 0,
                  "label": "",
                  "properties": {},
                  "start": "ATL",
                  "styles": {},
                  "thickness_factor": 1
                },
                {
                  "color": "#15AFAC",
                  "directed": false,
                  "end": "YYZ",
                  "heat": 0,
                  "label": "",
                  "properties": {},
                  "start": "ORD",
                  "styles": {},
                  "thickness_factor": 1
                },
                {
                  "color": "#15AFAC",
                  "directed": false,
                  "end": "YUL",
                  "heat": 0,
                  "label": "",
                  "properties": {},
                  "start": "YYZ",
                  "styles": {},
                  "thickness_factor": 1
                },
                {
                  "color": "#15AFAC",
                  "directed": false,
                  "end": "JFK",
                  "heat": 0,
                  "label": "",
                  "properties": {},
                  "start": "YYZ",
                  "styles": {},
                  "thickness_factor": 1
                },
                {
                  "color": "#15AFAC",
                  "directed": false,
                  "end": "JFK",
                  "heat": 0,
                  "label": "",
                  "properties": {},
                  "start": "YUL",
                  "styles": {},
                  "thickness_factor": 1
                },
                {
                  "color": "#15AFAC",
                  "directed": false,
                  "end": "CPT",
                  "heat": 0,
                  "label": "",
                  "properties": {},
                  "start": "JNB",
                  "styles": {},
                  "thickness_factor": 1
                },
                {
                  "color": "#15AFAC",
                  "directed": false,
                  "end": "DKR",
                  "heat": 0,
                  "label": "",
                  "properties": {},
                  "start": "LOS",
                  "styles": {},
                  "thickness_factor": 1
                },
                {
                  "color": "#15AFAC",
                  "directed": false,
                  "end": "LOS",
                  "heat": 0,
                  "label": "",
                  "properties": {},
                  "start": "NBO",
                  "styles": {},
                  "thickness_factor": 1
                },
                {
                  "color": "#15AFAC",
                  "directed": false,
                  "end": "CMN",
                  "heat": 0,
                  "label": "",
                  "properties": {},
                  "start": "DKR",
                  "styles": {},
                  "thickness_factor": 1
                },
                {
                  "color": "#15AFAC",
                  "directed": false,
                  "end": "CAI",
                  "heat": 0,
                  "label": "",
                  "properties": {},
                  "start": "DKR",
                  "styles": {},
                  "thickness_factor": 1
                },
                {
                  "color": "#15AFAC",
                  "directed": false,
                  "end": "CAI",
                  "heat": 0,
                  "label": "",
                  "properties": {},
                  "start": "NBO",
                  "styles": {},
                  "thickness_factor": 1
                },
                {
                  "color": "#15AFAC",
                  "directed": false,
                  "end": "CAI",
                  "heat": 0,
                  "label": "",
                  "properties": {},
                  "start": "DXB",
                  "styles": {},
                  "thickness_factor": 1
                },
                {
                  "color": "#15AFAC",
                  "directed": false,
                  "end": "DXB",
                  "heat": 0,
                  "label": "",
                  "properties": {},
                  "start": "IKA",
                  "styles": {},
                  "thickness_factor": 1
                },
                {
                  "color": "#15AFAC",
                  "directed": false,
                  "end": "IKA",
                  "heat": 0,
                  "label": "",
                  "properties": {},
                  "start": "IST",
                  "styles": {},
                  "thickness_factor": 1
                },
                {
                  "color": "#15AFAC",
                  "directed": false,
                  "end": "ATH",
                  "heat": 0,
                  "label": "",
                  "properties": {},
                  "start": "TLV",
                  "styles": {},
                  "thickness_factor": 1
                },
                {
                  "color": "#15AFAC",
                  "directed": false,
                  "end": "TLV",
                  "heat": 0,
                  "label": "",
                  "properties": {},
                  "start": "CAI",
                  "styles": {},
                  "thickness_factor": 1
                },
                {
                  "color": "#15AFAC",
                  "directed": false,
                  "end": "IST",
                  "heat": 0,
                  "label": "",
                  "properties": {},
                  "start": "ATH",
                  "styles": {},
                  "thickness_factor": 1
                },
                {
                  "color": "#15AFAC",
                  "directed": false,
                  "end": "ATH",
                  "heat": 0,
                  "label": "",
                  "properties": {},
                  "start": "FCO",
                  "styles": {},
                  "thickness_factor": 1
                },
                {
                  "color": "#15AFAC",
                  "directed": false,
                  "end": "LHR",
                  "heat": 0,
                  "label": "",
                  "properties": {},
                  "start": "LIS",
                  "styles": {},
                  "thickness_factor": 1
                },
                {
                  "color": "#15AFAC",
                  "directed": false,
                  "end": "MAD",
                  "heat": 0,
                  "label": "",
                  "properties": {},
                  "start": "LIS",
                  "styles": {},
                  "thickness_factor": 1
                },
                {
                  "color": "#15AFAC",
                  "directed": false,
                  "end": "BCN",
                  "heat": 0,
                  "label": "",
                  "properties": {},
                  "start": "MAD",
                  "styles": {},
                  "thickness_factor": 1
                },
                {
                  "color": "#15AFAC",
                  "directed": false,
                  "end": "LHR",
                  "heat": 0,
                  "label": "",
                  "properties": {},
                  "start": "CDG",
                  "styles": {},
                  "thickness_factor": 1
                },
                {
                  "color": "#15AFAC",
                  "directed": false,
                  "end": "LHR",
                  "heat": 0,
                  "label": "",
                  "properties": {},
                  "start": "DUB",
                  "styles": {},
                  "thickness_factor": 1
                },
                {
                  "color": "#15AFAC",
                  "directed": false,
                  "end": "LHR",
                  "heat": 0,
                  "label": "",
                  "properties": {},
                  "start": "EDI",
                  "styles": {},
                  "thickness_factor": 1
                },
                {
                  "color": "#15AFAC",
                  "directed": false,
                  "end": "BCN",
                  "heat": 0,
                  "label": "",
                  "properties": {},
                  "start": "CDG",
                  "styles": {},
                  "thickness_factor": 1
                },
                {
                  "color": "#15AFAC",
                  "directed": false,
                  "end": "FCO",
                  "heat": 0,
                  "label": "",
                  "properties": {},
                  "start": "BCN",
                  "styles": {},
                  "thickness_factor": 1
                },
                {
                  "color": "#15AFAC",
                  "directed": false,
                  "end": "IST",
                  "heat": 0,
                  "label": "",
                  "properties": {},
                  "start": "VIE",
                  "styles": {},
                  "thickness_factor": 1
                },
                {
                  "color": "#15AFAC",
                  "directed": false,
                  "end": "SVO",
                  "heat": 0,
                  "label": "",
                  "properties": {},
                  "start": "VIE",
                  "styles": {},
                  "thickness_factor": 1
                },
                {
                  "color": "#15AFAC",
                  "directed": false,
                  "end": "LIS",
                  "heat": 0,
                  "label": "",
                  "properties": {},
                  "start": "CMN",
                  "styles": {},
                  "thickness_factor": 1
                },
                {
                  "color": "#15AFAC",
                  "directed": false,
                  "end": "CMN",
                  "heat": 0,
                  "label": "",
                  "properties": {},
                  "start": "MAD",
                  "styles": {},
                  "thickness_factor": 1
                },
                {
                  "color": "#15AFAC",
                  "directed": false,
                  "end": "CPH",
                  "heat": 0,
                  "label": "",
                  "properties": {},
                  "start": "FRA",
                  "styles": {},
                  "thickness_factor": 1
                },
                {
                  "color": "#15AFAC",
                  "directed": false,
                  "end": "CPH",
                  "heat": 0,
                  "label": "",
                  "properties": {},
                  "start": "LHR",
                  "styles": {},
                  "thickness_factor": 1
                },
                {
                  "color": "#15AFAC",
                  "directed": false,
                  "end": "OSL",
                  "heat": 0,
                  "label": "",
                  "properties": {},
                  "start": "CPH",
                  "styles": {},
                  "thickness_factor": 1
                },
                {
                  "color": "#15AFAC",
                  "directed": false,
                  "end": "ARN",
                  "heat": 0,
                  "label": "",
                  "properties": {},
                  "start": "CPH",
                  "styles": {},
                  "thickness_factor": 1
                },
                {
                  "color": "#15AFAC",
                  "directed": false,
                  "end": "HEL",
                  "heat": 0,
                  "label": "",
                  "properties": {},
                  "start": "ARN",
                  "styles": {},
                  "thickness_factor": 1
                },
                {
                  "color": "#15AFAC",
                  "directed": false,
                  "end": "SVO",
                  "heat": 0,
                  "label": "",
                  "properties": {},
                  "start": "HEL",
                  "styles": {},
                  "thickness_factor": 1
                },
                {
                  "color": "#15AFAC",
                  "directed": false,
                  "end": "PVG",
                  "heat": 0,
                  "label": "",
                  "properties": {},
                  "start": "ULN",
                  "styles": {},
                  "thickness_factor": 1
                },
                {
                  "color": "#15AFAC",
                  "directed": false,
                  "end": "PVG",
                  "heat": 0,
                  "label": "",
                  "properties": {},
                  "start": "CTU",
                  "styles": {},
                  "thickness_factor": 1
                },
                {
                  "color": "#15AFAC",
                  "directed": false,
                  "end": "TPE",
                  "heat": 0,
                  "label": "",
                  "properties": {},
                  "start": "PVG",
                  "styles": {},
                  "thickness_factor": 1
                },
                {
                  "color": "#15AFAC",
                  "directed": false,
                  "end": "HKG",
                  "heat": 0,
                  "label": "",
                  "properties": {},
                  "start": "CTU",
                  "styles": {},
                  "thickness_factor": 1
                },
                {
                  "color": "#15AFAC",
                  "directed": false,
                  "end": "HKG",
                  "heat": 0,
                  "label": "",
                  "properties": {},
                  "start": "TPE",
                  "styles": {},
                  "thickness_factor": 1
                },
                {
                  "color": "#15AFAC",
                  "directed": false,
                  "end": "MNL",
                  "heat": 0,
                  "label": "",
                  "properties": {},
                  "start": "HKG",
                  "styles": {},
                  "thickness_factor": 1
                },
                {
                  "color": "#15AFAC",
                  "directed": false,
                  "end": "HKG",
                  "heat": 0,
                  "label": "",
                  "properties": {},
                  "start": "BKK",
                  "styles": {},
                  "thickness_factor": 1
                },
                {
                  "color": "#15AFAC",
                  "directed": false,
                  "end": "KUL",
                  "heat": 0,
                  "label": "",
                  "properties": {},
                  "start": "SIN",
                  "styles": {},
                  "thickness_factor": 1
                },
                {
                  "color": "#15AFAC",
                  "directed": false,
                  "end": "BKK",
                  "heat": 0,
                  "label": "",
                  "properties": {},
                  "start": "SIN",
                  "styles": {},
                  "thickness_factor": 1
                },
                {
                  "color": "#15AFAC",
                  "directed": false,
                  "end": "SIN",
                  "heat": 0,
                  "label": "",
                  "properties": {},
                  "start": "CGK",
                  "styles": {},
                  "thickness_factor": 1
                },
                {
                  "color": "#15AFAC",
                  "directed": false,
                  "end": "SIN",
                  "heat": 0,
                  "label": "",
                  "properties": {},
                  "start": "MNL",
                  "styles": {},
                  "thickness_factor": 1
                },
                {
                  "color": "#15AFAC",
                  "directed": false,
                  "end": "SYD",
                  "heat": 0,
                  "label": "",
                  "properties": {},
                  "start": "SIN",
                  "styles": {},
                  "thickness_factor": 1
                },
                {
                  "color": "#15AFAC",
                  "directed": false,
                  "end": "SYD",
                  "heat": 0,
                  "label": "",
                  "properties": {},
                  "start": "BNE",
                  "styles": {},
                  "thickness_factor": 1
                },
                {
                  "color": "#15AFAC",
                  "directed": false,
                  "end": "MEL",
                  "heat": 0,
                  "label": "",
                  "properties": {},
                  "start": "SYD",
                  "styles": {},
                  "thickness_factor": 1
                },
                {
                  "color": "#15AFAC",
                  "directed": false,
                  "end": "SYD",
                  "heat": 0,
                  "label": "",
                  "properties": {},
                  "start": "NAN",
                  "styles": {},
                  "thickness_factor": 1
                },
                {
                  "color": "#15AFAC",
                  "directed": false,
                  "end": "SYD",
                  "heat": 0,
                  "label": "",
                  "properties": {},
                  "start": "AKL",
                  "styles": {},
                  "thickness_factor": 1
                },
                {
                  "color": "#15AFAC",
                  "directed": false,
                  "end": "AKL",
                  "heat": 0,
                  "label": "",
                  "properties": {},
                  "start": "NAN",
                  "styles": {},
                  "thickness_factor": 1
                },
                {
                  "color": "#15AFAC",
                  "directed": false,
                  "end": "LHR",
                  "heat": 0,
                  "label": "",
                  "properties": {},
                  "start": "RKV",
                  "styles": {},
                  "thickness_factor": 1
                },
                {
                  "color": "#15AFAC",
                  "directed": false,
                  "end": "CDG",
                  "heat": 0,
                  "label": "",
                  "properties": {},
                  "start": "BCN",
                  "styles": {},
                  "thickness_factor": 1
                },
                {
                  "color": "#15AFAC",
                  "directed": false,
                  "end": "FRA",
                  "heat": 0,
                  "label": "",
                  "properties": {},
                  "start": "BCN",
                  "styles": {},
                  "thickness_factor": 1
                },
                {
                  "color": "#15AFAC",
                  "directed": false,
                  "end": "FRA",
                  "heat": 0,
                  "label": "",
                  "properties": {},
                  "start": "FCO",
                  "styles": {},
                  "thickness_factor": 1
                },
                {
                  "color": "#15AFAC",
                  "directed": false,
                  "end": "MEX",
                  "heat": 0,
                  "label": "",
                  "properties": {},
                  "start": "BOG",
                  "styles": {},
                  "thickness_factor": 1
                },
                {
                  "color": "#15AFAC",
                  "directed": false,
                  "end": "GRU",
                  "heat": 0,
                  "label": "",
                  "properties": {},
                  "start": "BOG",
                  "styles": {},
                  "thickness_factor": 1
                },
                {
                  "color": "#15AFAC",
                  "directed": false,
                  "end": "MIA",
                  "heat": 0,
                  "label": "",
                  "properties": {},
                  "start": "ATL",
                  "styles": {},
                  "thickness_factor": 1
                },
                {
                  "color": "#15AFAC",
                  "directed": false,
                  "end": "IST",
                  "heat": 0,
                  "label": "",
                  "properties": {},
                  "start": "FRA",
                  "styles": {},
                  "thickness_factor": 1
                },
                {
                  "color": "#15AFAC",
                  "directed": false,
                  "end": "DEL",
                  "heat": 0,
                  "label": "",
                  "properties": {},
                  "start": "IST",
                  "styles": {},
                  "thickness_factor": 1
                },
                {
                  "color": "#15AFAC",
                  "directed": false,
                  "end": "BKK",
                  "heat": 0,
                  "label": "",
                  "properties": {},
                  "start": "PVG",
                  "styles": {},
                  "thickness_factor": 1
                },
                {
                  "color": "#15AFAC",
                  "directed": false,
                  "end": "BKK",
                  "heat": 0,
                  "label": "",
                  "properties": {},
                  "start": "DEL",
                  "styles": {},
                  "thickness_factor": 1
                }
              ],
              "_graph_layout": {
                "algorithm": "hierarchic",
                "options": {}
              },
              "_model_module_version": "^1.10.2",
              "_nodes": [
                {
                  "color": "#15AFAC",
                  "coordinates": [
                    33.942536,
                    -118.408075
                  ],
                  "heat": 0.6963123644251626,
                  "id": "LAX",
                  "label": "Los Angeles",
                  "parentId": "group#USA",
                  "position": [
                    0,
                    0
                  ],
                  "properties": {
                    "country": "USA",
                    "country_id": "us",
                    "label": "Los Angeles",
                    "passengers": 65000000
                  },
                  "scale_factor": 1,
                  "size": [
                    55,
                    55
                  ],
                  "styles": {
                    "image": "https://raw.githubusercontent.com/lipis/flag-icons/e119b66129af6dd849754ccf25dfbf81d4a306d5/flags/1x1/us.svg"
                  },
                  "type": "#15AFAC"
                },
                {
                  "color": "#15AFAC",
                  "coordinates": [
                    -22.808903,
                    -43.243647
                  ],
                  "heat": 0.0455531453362256,
                  "id": "GIG",
                  "label": "Rio de Janeiro",
                  "parentId": "group#Brazil",
                  "position": [
                    0,
                    0
                  ],
                  "properties": {
                    "country": "Brazil",
                    "country_id": "br",
                    "label": "Rio de Janeiro",
                    "passengers": 5000000
                  },
                  "scale_factor": 1,
                  "size": [
                    55,
                    55
                  ],
                  "styles": {
                    "image": "https://raw.githubusercontent.com/lipis/flag-icons/e119b66129af6dd849754ccf25dfbf81d4a306d5/flags/1x1/br.svg"
                  },
                  "type": "#15AFAC"
                },
                {
                  "color": "#15AFAC",
                  "coordinates": [
                    -12.021889,
                    -77.114319
                  ],
                  "heat": 0.18655097613882862,
                  "id": "LIM",
                  "label": "Lima",
                  "parentId": "group#Peru",
                  "position": [
                    0,
                    0
                  ],
                  "properties": {
                    "country": "Peru",
                    "country_id": "pe",
                    "label": "Lima",
                    "passengers": 18000000
                  },
                  "scale_factor": 1,
                  "size": [
                    55,
                    55
                  ],
                  "styles": {
                    "image": "https://raw.githubusercontent.com/lipis/flag-icons/e119b66129af6dd849754ccf25dfbf81d4a306d5/flags/1x1/pe.svg"
                  },
                  "type": "#15AFAC"
                },
                {
                  "color": "#15AFAC",
                  "coordinates": [
                    51.4775,
                    -0.461389
                  ],
                  "heat": 0.6529284164859002,
                  "id": "LHR",
                  "label": "London",
                  "parentId": "group#UK",
                  "position": [
                    0,
                    0
                  ],
                  "properties": {
                    "country": "UK",
                    "country_id": "gb",
                    "label": "London",
                    "passengers": 61000000
                  },
                  "scale_factor": 1,
                  "size": [
                    55,
                    55
                  ],
                  "styles": {
                    "image": "https://raw.githubusercontent.com/lipis/flag-icons/e119b66129af6dd849754ccf25dfbf81d4a306d5/flags/1x1/gb.svg"
                  },
                  "type": "#15AFAC"
                },
                {
                  "color": "#15AFAC",
                  "coordinates": [
                    50.033333,
                    8.570556
                  ],
                  "heat": 0.5119305856832972,
                  "id": "FRA",
                  "label": "Frankfurt",
                  "parentId": "group#Germany",
                  "position": [
                    0,
                    0
                  ],
                  "properties": {
                    "country": "Germany",
                    "country_id": "de",
                    "label": "Frankfurt",
                    "passengers": 48000000
                  },
                  "scale_factor": 1,
                  "size": [
                    55,
                    55
                  ],
                  "styles": {
                    "image": "https://raw.githubusercontent.com/lipis/flag-icons/e119b66129af6dd849754ccf25dfbf81d4a306d5/flags/1x1/de.svg"
                  },
                  "type": "#15AFAC"
                },
                {
                  "color": "#15AFAC",
                  "coordinates": [
                    55.972642,
                    37.414589
                  ],
                  "heat": 0.5227765726681128,
                  "id": "SVO",
                  "label": "Moscow",
                  "parentId": "group#Russia",
                  "position": [
                    0,
                    0
                  ],
                  "properties": {
                    "country": "Russia",
                    "country_id": "ru",
                    "label": "Moscow",
                    "passengers": 49000000
                  },
                  "scale_factor": 1,
                  "size": [
                    55,
                    55
                  ],
                  "styles": {
                    "image": "https://raw.githubusercontent.com/lipis/flag-icons/e119b66129af6dd849754ccf25dfbf81d4a306d5/flags/1x1/ru.svg"
                  },
                  "type": "#15AFAC"
                },
                {
                  "color": "#15AFAC",
                  "coordinates": [
                    28.5665,
                    77.103089
                  ],
                  "heat": 0.41431670281995664,
                  "id": "DEL",
                  "label": "New Delhi",
                  "parentId": "group#India",
                  "position": [
                    0,
                    0
                  ],
                  "properties": {
                    "country": "India",
                    "country_id": "in",
                    "label": "New Delhi",
                    "passengers": 39000000
                  },
                  "scale_factor": 1,
                  "size": [
                    55,
                    55
                  ],
                  "styles": {
                    "image": "https://raw.githubusercontent.com/lipis/flag-icons/e119b66129af6dd849754ccf25dfbf81d4a306d5/flags/1x1/in.svg"
                  },
                  "type": "#15AFAC"
                },
                {
                  "color": "#15AFAC",
                  "coordinates": [
                    31.143378,
                    121.805214
                  ],
                  "heat": 0.3383947939262473,
                  "id": "PVG",
                  "label": "Shanghai",
                  "parentId": "group#China",
                  "position": [
                    0,
                    0
                  ],
                  "properties": {
                    "country": "China",
                    "country_id": "hk",
                    "label": "Shanghai",
                    "passengers": 32000000
                  },
                  "scale_factor": 1,
                  "size": [
                    55,
                    55
                  ],
                  "styles": {
                    "image": "https://raw.githubusercontent.com/lipis/flag-icons/e119b66129af6dd849754ccf25dfbf81d4a306d5/flags/1x1/hk.svg"
                  },
                  "type": "#15AFAC"
                },
                {
                  "color": "#15AFAC",
                  "coordinates": [
                    22.308919,
                    113.914603
                  ],
                  "heat": 0.0021691973969631237,
                  "id": "HKG",
                  "label": "Hongkong",
                  "parentId": "group#China",
                  "position": [
                    0,
                    0
                  ],
                  "properties": {
                    "country": "China",
                    "country_id": "hk",
                    "label": "Hongkong",
                    "passengers": 1000000
                  },
                  "scale_factor": 1,
                  "size": [
                    55,
                    55
                  ],
                  "styles": {
                    "image": "https://raw.githubusercontent.com/lipis/flag-icons/e119b66129af6dd849754ccf25dfbf81d4a306d5/flags/1x1/hk.svg"
                  },
                  "type": "#15AFAC"
                },
                {
                  "color": "#15AFAC",
                  "coordinates": [
                    35.764722,
                    140.386389
                  ],
                  "heat": 0.1540130151843818,
                  "id": "NRT",
                  "label": "Tokio",
                  "parentId": "group#Japan",
                  "position": [
                    0,
                    0
                  ],
                  "properties": {
                    "country": "Japan",
                    "country_id": "jp",
                    "label": "Tokio",
                    "passengers": 15000000
                  },
                  "scale_factor": 1,
                  "size": [
                    55,
                    55
                  ],
                  "styles": {
                    "image": "https://raw.githubusercontent.com/lipis/flag-icons/e119b66129af6dd849754ccf25dfbf81d4a306d5/flags/1x1/jp.svg"
                  },
                  "type": "#15AFAC"
                },
                {
                  "color": "#15AFAC",
                  "coordinates": [
                    25.252778,
                    55.364444
                  ],
                  "heat": 0.30585683297180044,
                  "id": "DXB",
                  "label": "Dubai",
                  "parentId": "group#UAE",
                  "position": [
                    0,
                    0
                  ],
                  "properties": {
                    "country": "UAE",
                    "country_id": "ae",
                    "label": "Dubai",
                    "passengers": 29000000
                  },
                  "scale_factor": 1,
                  "size": [
                    55,
                    55
                  ],
                  "styles": {
                    "image": "https://raw.githubusercontent.com/lipis/flag-icons/e119b66129af6dd849754ccf25dfbf81d4a306d5/flags/1x1/ae.svg"
                  },
                  "type": "#15AFAC"
                },
                {
                  "color": "#15AFAC",
                  "coordinates": [
                    14.670833,
                    -17.072778
                  ],
                  "heat": 0.013015184381778741,
                  "id": "DKR",
                  "label": "Dakar",
                  "parentId": "group#Senegal",
                  "position": [
                    0,
                    0
                  ],
                  "properties": {
                    "country": "Senegal",
                    "country_id": "sn",
                    "label": "Dakar",
                    "passengers": 2000000
                  },
                  "scale_factor": 1,
                  "size": [
                    55,
                    55
                  ],
                  "styles": {
                    "image": "https://raw.githubusercontent.com/lipis/flag-icons/e119b66129af6dd849754ccf25dfbf81d4a306d5/flags/1x1/sn.svg"
                  },
                  "type": "#15AFAC"
                },
                {
                  "color": "#15AFAC",
                  "coordinates": [
                    -26.133694,
                    28.242317
                  ],
                  "heat": 0.08893709327548807,
                  "id": "JNB",
                  "label": "Johannesburg",
                  "parentId": "group#South Africa",
                  "position": [
                    0,
                    0
                  ],
                  "properties": {
                    "country": "South Africa",
                    "country_id": "za",
                    "label": "Johannesburg",
                    "passengers": 9000000
                  },
                  "scale_factor": 1,
                  "size": [
                    55,
                    55
                  ],
                  "styles": {
                    "image": "https://raw.githubusercontent.com/lipis/flag-icons/e119b66129af6dd849754ccf25dfbf81d4a306d5/flags/1x1/za.svg"
                  },
                  "type": "#15AFAC"
                },
                {
                  "color": "#15AFAC",
                  "coordinates": [
                    -33.946111,
                    151.177222
                  ],
                  "heat": 0.4685466377440347,
                  "id": "SYD",
                  "label": "Sydney",
                  "parentId": "group#Australia",
                  "position": [
                    0,
                    0
                  ],
                  "properties": {
                    "country": "Australia",
                    "country_id": "au",
                    "label": "Sydney",
                    "passengers": 44000000
                  },
                  "scale_factor": 1,
                  "size": [
                    55,
                    55
                  ],
                  "styles": {
                    "image": "https://raw.githubusercontent.com/lipis/flag-icons/e119b66129af6dd849754ccf25dfbf81d4a306d5/flags/1x1/au.svg"
                  },
                  "type": "#15AFAC"
                },
                {
                  "color": "#15AFAC",
                  "coordinates": [
                    -1.319167,
                    36.927778
                  ],
                  "heat": 0.0010845986984815619,
                  "id": "NBO",
                  "label": "Nairobi",
                  "parentId": "group#Kenya",
                  "position": [
                    0,
                    0
                  ],
                  "properties": {
                    "country": "Kenya",
                    "country_id": "ke",
                    "label": "Nairobi",
                    "passengers": 900000
                  },
                  "scale_factor": 1,
                  "size": [
                    55,
                    55
                  ],
                  "styles": {
                    "image": "https://raw.githubusercontent.com/lipis/flag-icons/e119b66129af6dd849754ccf25dfbf81d4a306d5/flags/1x1/ke.svg"
                  },
                  "type": "#15AFAC"
                },
                {
                  "color": "#15AFAC",
                  "coordinates": [
                    33.639167,
                    -84.427778
                  ],
                  "heat": 1,
                  "id": "ATL",
                  "label": "Atlanta",
                  "parentId": "group#USA",
                  "position": [
                    0,
                    0
                  ],
                  "properties": {
                    "country": "USA",
                    "country_id": "us",
                    "label": "Atlanta",
                    "passengers": 93000000
                  },
                  "scale_factor": 1,
                  "size": [
                    55,
                    55
                  ],
                  "styles": {
                    "image": "https://raw.githubusercontent.com/lipis/flag-icons/e119b66129af6dd849754ccf25dfbf81d4a306d5/flags/1x1/us.svg"
                  },
                  "type": "#15AFAC"
                },
                {
                  "color": "#15AFAC",
                  "coordinates": [
                    40.63975,
                    -73.778925
                  ],
                  "heat": 0.5878524945770065,
                  "id": "JFK",
                  "label": "New York City",
                  "parentId": "group#USA",
                  "position": [
                    0,
                    0
                  ],
                  "properties": {
                    "country": "USA",
                    "country_id": "us",
                    "label": "New York City",
                    "passengers": 55000000
                  },
                  "scale_factor": 1,
                  "size": [
                    55,
                    55
                  ],
                  "styles": {
                    "image": "https://raw.githubusercontent.com/lipis/flag-icons/e119b66129af6dd849754ccf25dfbf81d4a306d5/flags/1x1/us.svg"
                  },
                  "type": "#15AFAC"
                },
                {
                  "color": "#15AFAC",
                  "coordinates": [
                    30.121944,
                    31.405556
                  ],
                  "heat": 0.14316702819956617,
                  "id": "CAI",
                  "label": "Cairo",
                  "parentId": "group#Egypt",
                  "position": [
                    0,
                    0
                  ],
                  "properties": {
                    "country": "Egypt",
                    "country_id": "eg",
                    "label": "Cairo",
                    "passengers": 14000000
                  },
                  "scale_factor": 1,
                  "size": [
                    55,
                    55
                  ],
                  "styles": {
                    "image": "https://raw.githubusercontent.com/lipis/flag-icons/e119b66129af6dd849754ccf25dfbf81d4a306d5/flags/1x1/eg.svg"
                  },
                  "type": "#15AFAC"
                },
                {
                  "color": "#15AFAC",
                  "coordinates": [
                    33.367467,
                    -7.589967
                  ],
                  "heat": 0.06724511930585683,
                  "id": "CMN",
                  "label": "Casablanca",
                  "parentId": "group#Morocco",
                  "position": [
                    0,
                    0
                  ],
                  "properties": {
                    "country": "Morocco",
                    "country_id": "ma",
                    "label": "Casablanca",
                    "passengers": 7000000
                  },
                  "scale_factor": 1,
                  "size": [
                    55,
                    55
                  ],
                  "styles": {
                    "image": "https://raw.githubusercontent.com/lipis/flag-icons/e119b66129af6dd849754ccf25dfbf81d4a306d5/flags/1x1/ma.svg"
                  },
                  "type": "#15AFAC"
                },
                {
                  "color": "#15AFAC",
                  "coordinates": [
                    6.577222,
                    3.321111
                  ],
                  "heat": 0.0455531453362256,
                  "id": "LOS",
                  "label": "Lagos",
                  "parentId": "group#Nigeria",
                  "position": [
                    0,
                    0
                  ],
                  "properties": {
                    "country": "Nigeria",
                    "country_id": "ng",
                    "label": "Lagos",
                    "passengers": 5000000
                  },
                  "scale_factor": 1,
                  "size": [
                    55,
                    55
                  ],
                  "styles": {
                    "image": "https://raw.githubusercontent.com/lipis/flag-icons/e119b66129af6dd849754ccf25dfbf81d4a306d5/flags/1x1/ng.svg"
                  },
                  "type": "#15AFAC"
                },
                {
                  "color": "#15AFAC",
                  "coordinates": [
                    -33.969444,
                    18.597222
                  ],
                  "heat": 0.0455531453362256,
                  "id": "CPT",
                  "label": "Cape Town",
                  "parentId": "group#South Africa",
                  "position": [
                    0,
                    0
                  ],
                  "properties": {
                    "country": "South Africa",
                    "country_id": "za",
                    "label": "Cape Town",
                    "passengers": 5000000
                  },
                  "scale_factor": 1,
                  "size": [
                    55,
                    55
                  ],
                  "styles": {
                    "image": "https://raw.githubusercontent.com/lipis/flag-icons/e119b66129af6dd849754ccf25dfbf81d4a306d5/flags/1x1/za.svg"
                  },
                  "type": "#15AFAC"
                },
                {
                  "color": "#15AFAC",
                  "coordinates": [
                    30.578333,
                    103.946944
                  ],
                  "heat": 0.42516268980477223,
                  "id": "CTU",
                  "label": "Chengdu",
                  "parentId": "group#China",
                  "position": [
                    0,
                    0
                  ],
                  "properties": {
                    "country": "China",
                    "country_id": "hk",
                    "label": "Chengdu",
                    "passengers": 40000000
                  },
                  "scale_factor": 1,
                  "size": [
                    55,
                    55
                  ],
                  "styles": {
                    "image": "https://raw.githubusercontent.com/lipis/flag-icons/e119b66129af6dd849754ccf25dfbf81d4a306d5/flags/1x1/hk.svg"
                  },
                  "type": "#15AFAC"
                },
                {
                  "color": "#15AFAC",
                  "coordinates": [
                    -6.125567,
                    106.655897
                  ],
                  "heat": 0.5770065075921909,
                  "id": "CGK",
                  "label": "Jakarta",
                  "parentId": "group#Indonesia",
                  "position": [
                    0,
                    0
                  ],
                  "properties": {
                    "country": "Indonesia",
                    "country_id": "id",
                    "label": "Jakarta",
                    "passengers": 54000000
                  },
                  "scale_factor": 1,
                  "size": [
                    55,
                    55
                  ],
                  "styles": {
                    "image": "https://raw.githubusercontent.com/lipis/flag-icons/e119b66129af6dd849754ccf25dfbf81d4a306d5/flags/1x1/id.svg"
                  },
                  "type": "#15AFAC"
                },
                {
                  "color": "#15AFAC",
                  "coordinates": [
                    35.416111,
                    51.152222
                  ],
                  "heat": 0.07809110629067245,
                  "id": "IKA",
                  "label": "Teheran",
                  "parentId": "group#Iran",
                  "position": [
                    0,
                    0
                  ],
                  "properties": {
                    "country": "Iran",
                    "country_id": "ir",
                    "label": "Teheran",
                    "passengers": 8000000
                  },
                  "scale_factor": 1,
                  "size": [
                    55,
                    55
                  ],
                  "styles": {
                    "image": "https://raw.githubusercontent.com/lipis/flag-icons/e119b66129af6dd849754ccf25dfbf81d4a306d5/flags/1x1/ir.svg"
                  },
                  "type": "#15AFAC"
                },
                {
                  "color": "#15AFAC",
                  "coordinates": [
                    32.011389,
                    34.886667
                  ],
                  "heat": 0.20824295010845986,
                  "id": "TLV",
                  "label": "Tel Aviv",
                  "parentId": "group#Israel",
                  "position": [
                    0,
                    0
                  ],
                  "properties": {
                    "country": "Israel",
                    "country_id": "il",
                    "label": "Tel Aviv",
                    "passengers": 20000000
                  },
                  "scale_factor": 1,
                  "size": [
                    55,
                    55
                  ],
                  "styles": {
                    "image": "https://raw.githubusercontent.com/lipis/flag-icons/e119b66129af6dd849754ccf25dfbf81d4a306d5/flags/1x1/il.svg"
                  },
                  "type": "#15AFAC"
                },
                {
                  "color": "#15AFAC",
                  "coordinates": [
                    2.745578,
                    101.709917
                  ],
                  "heat": 0.26247288503253796,
                  "id": "KUL",
                  "label": "Kuala Lumpur",
                  "parentId": "group#Malaysia",
                  "position": [
                    0,
                    0
                  ],
                  "properties": {
                    "country": "Malaysia",
                    "country_id": "my",
                    "label": "Kuala Lumpur",
                    "passengers": 25000000
                  },
                  "scale_factor": 1,
                  "size": [
                    55,
                    55
                  ],
                  "styles": {
                    "image": "https://raw.githubusercontent.com/lipis/flag-icons/e119b66129af6dd849754ccf25dfbf81d4a306d5/flags/1x1/my.svg"
                  },
                  "type": "#15AFAC"
                },
                {
                  "color": "#15AFAC",
                  "coordinates": [
                    14.508647,
                    121.019581
                  ],
                  "heat": 0.07809110629067245,
                  "id": "MNL",
                  "label": "Manila",
                  "parentId": "group#Philippines",
                  "position": [
                    0,
                    0
                  ],
                  "properties": {
                    "country": "Philippines",
                    "country_id": "ph",
                    "label": "Manila",
                    "passengers": 8000000
                  },
                  "scale_factor": 1,
                  "size": [
                    55,
                    55
                  ],
                  "styles": {
                    "image": "https://raw.githubusercontent.com/lipis/flag-icons/e119b66129af6dd849754ccf25dfbf81d4a306d5/flags/1x1/ph.svg"
                  },
                  "type": "#15AFAC"
                },
                {
                  "color": "#15AFAC",
                  "coordinates": [
                    1.350189,
                    103.994433
                  ],
                  "heat": 0.3383947939262473,
                  "id": "SIN",
                  "label": "Singapur",
                  "parentId": "group#Singapore",
                  "position": [
                    0,
                    0
                  ],
                  "properties": {
                    "country": "Singapore",
                    "country_id": "sg",
                    "label": "Singapur",
                    "passengers": 32000000
                  },
                  "scale_factor": 1,
                  "size": [
                    55,
                    55
                  ],
                  "styles": {
                    "image": "https://raw.githubusercontent.com/lipis/flag-icons/e119b66129af6dd849754ccf25dfbf81d4a306d5/flags/1x1/sg.svg"
                  },
                  "type": "#15AFAC"
                },
                {
                  "color": "#15AFAC",
                  "coordinates": [
                    25.077732,
                    121.232822
                  ],
                  "heat": 0,
                  "id": "TPE",
                  "label": "Taipeh",
                  "parentId": "group#Taiwan",
                  "position": [
                    0,
                    0
                  ],
                  "properties": {
                    "country": "Taiwan",
                    "country_id": "tw",
                    "label": "Taipeh",
                    "passengers": 800000
                  },
                  "scale_factor": 1,
                  "size": [
                    55,
                    55
                  ],
                  "styles": {
                    "image": "https://raw.githubusercontent.com/lipis/flag-icons/e119b66129af6dd849754ccf25dfbf81d4a306d5/flags/1x1/tw.svg"
                  },
                  "type": "#15AFAC"
                },
                {
                  "color": "#15AFAC",
                  "coordinates": [
                    13.681108,
                    100.747283
                  ],
                  "heat": 0.6963123644251626,
                  "id": "BKK",
                  "label": "Bangkok",
                  "parentId": "group#Thailand",
                  "position": [
                    0,
                    0
                  ],
                  "properties": {
                    "country": "Thailand",
                    "country_id": "th",
                    "label": "Bangkok",
                    "passengers": 65000000
                  },
                  "scale_factor": 1,
                  "size": [
                    55,
                    55
                  ],
                  "styles": {
                    "image": "https://raw.githubusercontent.com/lipis/flag-icons/e119b66129af6dd849754ccf25dfbf81d4a306d5/flags/1x1/th.svg"
                  },
                  "type": "#15AFAC"
                },
                {
                  "color": "#15AFAC",
                  "coordinates": [
                    40.976922,
                    28.814606
                  ],
                  "heat": 0.6854663774403471,
                  "id": "IST",
                  "label": "Istanbul",
                  "parentId": "group#Turkey",
                  "position": [
                    0,
                    0
                  ],
                  "properties": {
                    "country": "Turkey",
                    "country_id": "tr",
                    "label": "Istanbul",
                    "passengers": 64000000
                  },
                  "scale_factor": 1,
                  "size": [
                    55,
                    55
                  ],
                  "styles": {
                    "image": "https://raw.githubusercontent.com/lipis/flag-icons/e119b66129af6dd849754ccf25dfbf81d4a306d5/flags/1x1/tr.svg"
                  },
                  "type": "#15AFAC"
                },
                {
                  "color": "#15AFAC",
                  "coordinates": [
                    47.843056,
                    106.766639
                  ],
                  "heat": 0.0021691973969631237,
                  "id": "ULN",
                  "label": "Ulaanbaatar",
                  "parentId": "group#Mongolia",
                  "position": [
                    0,
                    0
                  ],
                  "properties": {
                    "country": "Mongolia",
                    "country_id": "mn",
                    "label": "Ulaanbaatar",
                    "passengers": 1000000
                  },
                  "scale_factor": 1,
                  "size": [
                    55,
                    55
                  ],
                  "styles": {
                    "image": "https://raw.githubusercontent.com/lipis/flag-icons/e119b66129af6dd849754ccf25dfbf81d4a306d5/flags/1x1/mn.svg"
                  },
                  "type": "#15AFAC"
                },
                {
                  "color": "#15AFAC",
                  "coordinates": [
                    -37.673333,
                    144.843333
                  ],
                  "heat": 0.12147505422993492,
                  "id": "MEL",
                  "label": "Melbourne",
                  "parentId": "group#Australia",
                  "position": [
                    0,
                    0
                  ],
                  "properties": {
                    "country": "Australia",
                    "country_id": "au",
                    "label": "Melbourne",
                    "passengers": 12000000
                  },
                  "scale_factor": 1,
                  "size": [
                    55,
                    55
                  ],
                  "styles": {
                    "image": "https://raw.githubusercontent.com/lipis/flag-icons/e119b66129af6dd849754ccf25dfbf81d4a306d5/flags/1x1/au.svg"
                  },
                  "type": "#15AFAC"
                },
                {
                  "color": "#15AFAC",
                  "coordinates": [
                    -27.383333,
                    153.118056
                  ],
                  "heat": 0.24078091106290672,
                  "id": "BNE",
                  "label": "Brisbane",
                  "parentId": "group#Australia",
                  "position": [
                    0,
                    0
                  ],
                  "properties": {
                    "country": "Australia",
                    "country_id": "au",
                    "label": "Brisbane",
                    "passengers": 23000000
                  },
                  "scale_factor": 1,
                  "size": [
                    55,
                    55
                  ],
                  "styles": {
                    "image": "https://raw.githubusercontent.com/lipis/flag-icons/e119b66129af6dd849754ccf25dfbf81d4a306d5/flags/1x1/au.svg"
                  },
                  "type": "#15AFAC"
                },
                {
                  "color": "#15AFAC",
                  "coordinates": [
                    -17.755392,
                    177.443378
                  ],
                  "heat": 0.013015184381778741,
                  "id": "NAN",
                  "label": "Nadi",
                  "parentId": "group#Fiji",
                  "position": [
                    0,
                    0
                  ],
                  "properties": {
                    "country": "Fiji",
                    "country_id": "fj",
                    "label": "Nadi",
                    "passengers": 2000000
                  },
                  "scale_factor": 1,
                  "size": [
                    55,
                    55
                  ],
                  "styles": {
                    "image": "https://raw.githubusercontent.com/lipis/flag-icons/e119b66129af6dd849754ccf25dfbf81d4a306d5/flags/1x1/fj.svg"
                  },
                  "type": "#15AFAC"
                },
                {
                  "color": "#15AFAC",
                  "coordinates": [
                    -37.008056,
                    174.791667
                  ],
                  "heat": 0.21908893709327548,
                  "id": "AKL",
                  "label": "Auckland",
                  "parentId": "group#New Zealand",
                  "position": [
                    0,
                    0
                  ],
                  "properties": {
                    "country": "New Zealand",
                    "country_id": "nz",
                    "label": "Auckland",
                    "passengers": 21000000
                  },
                  "scale_factor": 1,
                  "size": [
                    55,
                    55
                  ],
                  "styles": {
                    "image": "https://raw.githubusercontent.com/lipis/flag-icons/e119b66129af6dd849754ccf25dfbf81d4a306d5/flags/1x1/nz.svg"
                  },
                  "type": "#15AFAC"
                },
                {
                  "color": "#15AFAC",
                  "coordinates": [
                    49.009722,
                    2.547778
                  ],
                  "heat": 0.6095444685466378,
                  "id": "CDG",
                  "label": "Paris",
                  "parentId": "group#France",
                  "position": [
                    0,
                    0
                  ],
                  "properties": {
                    "country": "France",
                    "country_id": "fr",
                    "label": "Paris",
                    "passengers": 57000000
                  },
                  "scale_factor": 1,
                  "size": [
                    55,
                    55
                  ],
                  "styles": {
                    "image": "https://raw.githubusercontent.com/lipis/flag-icons/e119b66129af6dd849754ccf25dfbf81d4a306d5/flags/1x1/fr.svg"
                  },
                  "type": "#15AFAC"
                },
                {
                  "color": "#15AFAC",
                  "coordinates": [
                    40.4675,
                    -3.551944
                  ],
                  "heat": 0.5336225596529284,
                  "id": "MAD",
                  "label": "Madrid",
                  "parentId": "group#Spain",
                  "position": [
                    0,
                    0
                  ],
                  "properties": {
                    "country": "Spain",
                    "country_id": "es",
                    "label": "Madrid",
                    "passengers": 50000000
                  },
                  "scale_factor": 1,
                  "size": [
                    55,
                    55
                  ],
                  "styles": {
                    "image": "https://raw.githubusercontent.com/lipis/flag-icons/e119b66129af6dd849754ccf25dfbf81d4a306d5/flags/1x1/es.svg"
                  },
                  "type": "#15AFAC"
                },
                {
                  "color": "#15AFAC",
                  "coordinates": [
                    41.297078,
                    2.078464
                  ],
                  "heat": 0.4360086767895879,
                  "id": "BCN",
                  "label": "Barcelona",
                  "parentId": "group#Spain",
                  "position": [
                    0,
                    0
                  ],
                  "properties": {
                    "country": "Spain",
                    "country_id": "es",
                    "label": "Barcelona",
                    "passengers": 41000000
                  },
                  "scale_factor": 1,
                  "size": [
                    55,
                    55
                  ],
                  "styles": {
                    "image": "https://raw.githubusercontent.com/lipis/flag-icons/e119b66129af6dd849754ccf25dfbf81d4a306d5/flags/1x1/es.svg"
                  },
                  "type": "#15AFAC"
                },
                {
                  "color": "#15AFAC",
                  "coordinates": [
                    41.804444,
                    12.250833
                  ],
                  "heat": 0.30585683297180044,
                  "id": "FCO",
                  "label": "Rome",
                  "parentId": "group#Italy",
                  "position": [
                    0,
                    0
                  ],
                  "properties": {
                    "country": "Italy",
                    "country_id": "it",
                    "label": "Rome",
                    "passengers": 29000000
                  },
                  "scale_factor": 1,
                  "size": [
                    55,
                    55
                  ],
                  "styles": {
                    "image": "https://raw.githubusercontent.com/lipis/flag-icons/e119b66129af6dd849754ccf25dfbf81d4a306d5/flags/1x1/it.svg"
                  },
                  "type": "#15AFAC"
                },
                {
                  "color": "#15AFAC",
                  "coordinates": [
                    55.617917,
                    12.655972
                  ],
                  "heat": 0.31670281995661603,
                  "id": "CPH",
                  "label": "Copenhagen",
                  "parentId": "group#Denmark",
                  "position": [
                    0,
                    0
                  ],
                  "properties": {
                    "country": "Denmark",
                    "country_id": "dk",
                    "label": "Copenhagen",
                    "passengers": 30000000
                  },
                  "scale_factor": 1,
                  "size": [
                    55,
                    55
                  ],
                  "styles": {
                    "image": "https://raw.githubusercontent.com/lipis/flag-icons/e119b66129af6dd849754ccf25dfbf81d4a306d5/flags/1x1/dk.svg"
                  },
                  "type": "#15AFAC"
                },
                {
                  "color": "#15AFAC",
                  "coordinates": [
                    60.317222,
                    24.963333
                  ],
                  "heat": 0.0455531453362256,
                  "id": "HEL",
                  "label": "Helsinki",
                  "parentId": "group#Finland",
                  "position": [
                    0,
                    0
                  ],
                  "properties": {
                    "country": "Finland",
                    "country_id": "fi",
                    "label": "Helsinki",
                    "passengers": 5000000
                  },
                  "scale_factor": 1,
                  "size": [
                    55,
                    55
                  ],
                  "styles": {
                    "image": "https://raw.githubusercontent.com/lipis/flag-icons/e119b66129af6dd849754ccf25dfbf81d4a306d5/flags/1x1/fi.svg"
                  },
                  "type": "#15AFAC"
                },
                {
                  "color": "#15AFAC",
                  "coordinates": [
                    37.936358,
                    23.944467
                  ],
                  "heat": 0.2299349240780911,
                  "id": "ATH",
                  "label": "Athens",
                  "parentId": "group#Greece",
                  "position": [
                    0,
                    0
                  ],
                  "properties": {
                    "country": "Greece",
                    "country_id": "gr",
                    "label": "Athens",
                    "passengers": 22000000
                  },
                  "scale_factor": 1,
                  "size": [
                    55,
                    55
                  ],
                  "styles": {
                    "image": "https://raw.githubusercontent.com/lipis/flag-icons/e119b66129af6dd849754ccf25dfbf81d4a306d5/flags/1x1/gr.svg"
                  },
                  "type": "#15AFAC"
                },
                {
                  "color": "#15AFAC",
                  "coordinates": [
                    53.421333,
                    -6.270075
                  ],
                  "heat": 0.3383947939262473,
                  "id": "DUB",
                  "label": "Dublin",
                  "parentId": "group#Ireland",
                  "position": [
                    0,
                    0
                  ],
                  "properties": {
                    "country": "Ireland",
                    "country_id": "ie",
                    "label": "Dublin",
                    "passengers": 32000000
                  },
                  "scale_factor": 1,
                  "size": [
                    55,
                    55
                  ],
                  "styles": {
                    "image": "https://raw.githubusercontent.com/lipis/flag-icons/e119b66129af6dd849754ccf25dfbf81d4a306d5/flags/1x1/ie.svg"
                  },
                  "type": "#15AFAC"
                },
                {
                  "color": "#15AFAC",
                  "coordinates": [
                    64.13,
                    -21.940556
                  ],
                  "heat": -0.004338394793926247,
                  "id": "RKV",
                  "label": "Reykjavik",
                  "parentId": "group#Iceland",
                  "position": [
                    0,
                    0
                  ],
                  "properties": {
                    "country": "Iceland",
                    "country_id": "is",
                    "label": "Reykjavik",
                    "passengers": 400000
                  },
                  "scale_factor": 1,
                  "size": [
                    55,
                    55
                  ],
                  "styles": {
                    "image": "https://raw.githubusercontent.com/lipis/flag-icons/e119b66129af6dd849754ccf25dfbf81d4a306d5/flags/1x1/is.svg"
                  },
                  "type": "#15AFAC"
                },
                {
                  "color": "#15AFAC",
                  "coordinates": [
                    60.193917,
                    11.100361
                  ],
                  "heat": 0.08893709327548807,
                  "id": "OSL",
                  "label": "Oslo",
                  "parentId": "group#Norway",
                  "position": [
                    0,
                    0
                  ],
                  "properties": {
                    "country": "Norway",
                    "country_id": "no",
                    "label": "Oslo",
                    "passengers": 9000000
                  },
                  "scale_factor": 1,
                  "size": [
                    55,
                    55
                  ],
                  "styles": {
                    "image": "https://raw.githubusercontent.com/lipis/flag-icons/e119b66129af6dd849754ccf25dfbf81d4a306d5/flags/1x1/no.svg"
                  },
                  "type": "#15AFAC"
                },
                {
                  "color": "#15AFAC",
                  "coordinates": [
                    48.110833,
                    16.570833
                  ],
                  "heat": 0.09978308026030369,
                  "id": "VIE",
                  "label": "Vienna",
                  "parentId": "group#Austria",
                  "position": [
                    0,
                    0
                  ],
                  "properties": {
                    "country": "Austria",
                    "country_id": "at",
                    "label": "Vienna",
                    "passengers": 10000000
                  },
                  "scale_factor": 1,
                  "size": [
                    55,
                    55
                  ],
                  "styles": {
                    "image": "https://raw.githubusercontent.com/lipis/flag-icons/e119b66129af6dd849754ccf25dfbf81d4a306d5/flags/1x1/at.svg"
                  },
                  "type": "#15AFAC"
                },
                {
                  "color": "#15AFAC",
                  "coordinates": [
                    38.774167,
                    -9.134167
                  ],
                  "heat": 0.2950108459869848,
                  "id": "LIS",
                  "label": "Lisbon",
                  "parentId": "group#Portugal",
                  "position": [
                    0,
                    0
                  ],
                  "properties": {
                    "country": "Portugal",
                    "country_id": "pt",
                    "label": "Lisbon",
                    "passengers": 28000000
                  },
                  "scale_factor": 1,
                  "size": [
                    55,
                    55
                  ],
                  "styles": {
                    "image": "https://raw.githubusercontent.com/lipis/flag-icons/e119b66129af6dd849754ccf25dfbf81d4a306d5/flags/1x1/pt.svg"
                  },
                  "type": "#15AFAC"
                },
                {
                  "color": "#15AFAC",
                  "coordinates": [
                    59.651944,
                    17.918611
                  ],
                  "heat": 0.06724511930585683,
                  "id": "ARN",
                  "label": "Stockholm",
                  "parentId": "group#Sweden",
                  "position": [
                    0,
                    0
                  ],
                  "properties": {
                    "country": "Sweden",
                    "country_id": "se",
                    "label": "Stockholm",
                    "passengers": 7000000
                  },
                  "scale_factor": 1,
                  "size": [
                    55,
                    55
                  ],
                  "styles": {
                    "image": "https://raw.githubusercontent.com/lipis/flag-icons/e119b66129af6dd849754ccf25dfbf81d4a306d5/flags/1x1/se.svg"
                  },
                  "type": "#15AFAC"
                },
                {
                  "color": "#15AFAC",
                  "coordinates": [
                    55.95,
                    -3.3725
                  ],
                  "heat": 0.14316702819956617,
                  "id": "EDI",
                  "label": "Edinburgh",
                  "parentId": "group#UK",
                  "position": [
                    0,
                    0
                  ],
                  "properties": {
                    "country": "UK",
                    "country_id": "gb",
                    "label": "Edinburgh",
                    "passengers": 14000000
                  },
                  "scale_factor": 1,
                  "size": [
                    55,
                    55
                  ],
                  "styles": {
                    "image": "https://raw.githubusercontent.com/lipis/flag-icons/e119b66129af6dd849754ccf25dfbf81d4a306d5/flags/1x1/gb.svg"
                  },
                  "type": "#15AFAC"
                },
                {
                  "color": "#15AFAC",
                  "coordinates": [
                    41.978603,
                    -87.904842
                  ],
                  "heat": 0.5770065075921909,
                  "id": "ORD",
                  "label": "Chicago",
                  "parentId": "group#USA",
                  "position": [
                    0,
                    0
                  ],
                  "properties": {
                    "country": "USA",
                    "country_id": "us",
                    "label": "Chicago",
                    "passengers": 54000000
                  },
                  "scale_factor": 1,
                  "size": [
                    55,
                    55
                  ],
                  "styles": {
                    "image": "https://raw.githubusercontent.com/lipis/flag-icons/e119b66129af6dd849754ccf25dfbf81d4a306d5/flags/1x1/us.svg"
                  },
                  "type": "#15AFAC"
                },
                {
                  "color": "#15AFAC",
                  "coordinates": [
                    32.896828,
                    -97.037997
                  ],
                  "heat": 0.7830802603036876,
                  "id": "DFW",
                  "label": "Dallas",
                  "parentId": "group#USA",
                  "position": [
                    0,
                    0
                  ],
                  "properties": {
                    "country": "USA",
                    "country_id": "us",
                    "label": "Dallas",
                    "passengers": 73000000
                  },
                  "scale_factor": 1,
                  "size": [
                    55,
                    55
                  ],
                  "styles": {
                    "image": "https://raw.githubusercontent.com/lipis/flag-icons/e119b66129af6dd849754ccf25dfbf81d4a306d5/flags/1x1/us.svg"
                  },
                  "type": "#15AFAC"
                },
                {
                  "color": "#15AFAC",
                  "coordinates": [
                    37.618972,
                    -122.374889
                  ],
                  "heat": 0.44685466377440347,
                  "id": "SFO",
                  "label": "San Francisco",
                  "parentId": "group#USA",
                  "position": [
                    0,
                    0
                  ],
                  "properties": {
                    "country": "USA",
                    "country_id": "us",
                    "label": "San Francisco",
                    "passengers": 42000000
                  },
                  "scale_factor": 1,
                  "size": [
                    55,
                    55
                  ],
                  "styles": {
                    "image": "https://raw.githubusercontent.com/lipis/flag-icons/e119b66129af6dd849754ccf25dfbf81d4a306d5/flags/1x1/us.svg"
                  },
                  "type": "#15AFAC"
                },
                {
                  "color": "#15AFAC",
                  "coordinates": [
                    36.080056,
                    -115.15225
                  ],
                  "heat": 0.5553145336225597,
                  "id": "LAS",
                  "label": "Las Vegas",
                  "parentId": "group#USA",
                  "position": [
                    0,
                    0
                  ],
                  "properties": {
                    "country": "USA",
                    "country_id": "us",
                    "label": "Las Vegas",
                    "passengers": 52000000
                  },
                  "scale_factor": 1,
                  "size": [
                    55,
                    55
                  ],
                  "styles": {
                    "image": "https://raw.githubusercontent.com/lipis/flag-icons/e119b66129af6dd849754ccf25dfbf81d4a306d5/flags/1x1/us.svg"
                  },
                  "type": "#15AFAC"
                },
                {
                  "color": "#15AFAC",
                  "coordinates": [
                    25.79325,
                    -80.290556
                  ],
                  "heat": 0.5336225596529284,
                  "id": "MIA",
                  "label": "Miami",
                  "parentId": "group#USA",
                  "position": [
                    0,
                    0
                  ],
                  "properties": {
                    "country": "USA",
                    "country_id": "us",
                    "label": "Miami",
                    "passengers": 50000000
                  },
                  "scale_factor": 1,
                  "size": [
                    55,
                    55
                  ],
                  "styles": {
                    "image": "https://raw.githubusercontent.com/lipis/flag-icons/e119b66129af6dd849754ccf25dfbf81d4a306d5/flags/1x1/us.svg"
                  },
                  "type": "#15AFAC"
                },
                {
                  "color": "#15AFAC",
                  "coordinates": [
                    43.677222,
                    -79.630556
                  ],
                  "heat": 0.12147505422993492,
                  "id": "YYZ",
                  "label": "Toronto",
                  "parentId": "group#Canada",
                  "position": [
                    0,
                    0
                  ],
                  "properties": {
                    "country": "Canada",
                    "country_id": "ca",
                    "label": "Toronto",
                    "passengers": 12000000
                  },
                  "scale_factor": 1,
                  "size": [
                    55,
                    55
                  ],
                  "styles": {
                    "image": "https://raw.githubusercontent.com/lipis/flag-icons/e119b66129af6dd849754ccf25dfbf81d4a306d5/flags/1x1/ca.svg"
                  },
                  "type": "#15AFAC"
                },
                {
                  "color": "#15AFAC",
                  "coordinates": [
                    49.193889,
                    -123.184444
                  ],
                  "heat": 0.19739696312364424,
                  "id": "YVR",
                  "label": "Vancouver",
                  "parentId": "group#Canada",
                  "position": [
                    0,
                    0
                  ],
                  "properties": {
                    "country": "Canada",
                    "country_id": "ca",
                    "label": "Vancouver",
                    "passengers": 19000000
                  },
                  "scale_factor": 1,
                  "size": [
                    55,
                    55
                  ],
                  "styles": {
                    "image": "https://raw.githubusercontent.com/lipis/flag-icons/e119b66129af6dd849754ccf25dfbf81d4a306d5/flags/1x1/ca.svg"
                  },
                  "type": "#15AFAC"
                },
                {
                  "color": "#15AFAC",
                  "coordinates": [
                    45.47175,
                    -73.736569
                  ],
                  "heat": 0.1540130151843818,
                  "id": "YUL",
                  "label": "Montreal",
                  "parentId": "group#Canada",
                  "position": [
                    0,
                    0
                  ],
                  "properties": {
                    "country": "Canada",
                    "country_id": "ca",
                    "label": "Montreal",
                    "passengers": 15000000
                  },
                  "scale_factor": 1,
                  "size": [
                    55,
                    55
                  ],
                  "styles": {
                    "image": "https://raw.githubusercontent.com/lipis/flag-icons/e119b66129af6dd849754ccf25dfbf81d4a306d5/flags/1x1/ca.svg"
                  },
                  "type": "#15AFAC"
                },
                {
                  "color": "#15AFAC",
                  "coordinates": [
                    19.436303,
                    -99.072097
                  ],
                  "heat": 0.49023861171366595,
                  "id": "MEX",
                  "label": "Mexico-City",
                  "parentId": "group#Mexico",
                  "position": [
                    0,
                    0
                  ],
                  "properties": {
                    "country": "Mexico",
                    "country_id": "mx",
                    "label": "Mexico-City",
                    "passengers": 46000000
                  },
                  "scale_factor": 1,
                  "size": [
                    55,
                    55
                  ],
                  "styles": {
                    "image": "https://raw.githubusercontent.com/lipis/flag-icons/e119b66129af6dd849754ccf25dfbf81d4a306d5/flags/1x1/mx.svg"
                  },
                  "type": "#15AFAC"
                },
                {
                  "color": "#15AFAC",
                  "coordinates": [
                    14.583272,
                    -90.527475
                  ],
                  "heat": 0.013015184381778741,
                  "id": "GUA",
                  "label": "Guatemala-City",
                  "parentId": "group#Guatemala",
                  "position": [
                    0,
                    0
                  ],
                  "properties": {
                    "country": "Guatemala",
                    "country_id": "gt",
                    "label": "Guatemala-City",
                    "passengers": 2000000
                  },
                  "scale_factor": 1,
                  "size": [
                    55,
                    55
                  ],
                  "styles": {
                    "image": "https://raw.githubusercontent.com/lipis/flag-icons/e119b66129af6dd849754ccf25dfbf81d4a306d5/flags/1x1/gt.svg"
                  },
                  "type": "#15AFAC"
                },
                {
                  "color": "#15AFAC",
                  "coordinates": [
                    -34.822222,
                    -58.535833
                  ],
                  "heat": 0.0455531453362256,
                  "id": "EZE",
                  "label": "Buenos Aires",
                  "parentId": "group#Argentina",
                  "position": [
                    0,
                    0
                  ],
                  "properties": {
                    "country": "Argentina",
                    "country_id": "ar",
                    "label": "Buenos Aires",
                    "passengers": 5000000
                  },
                  "scale_factor": 1,
                  "size": [
                    55,
                    55
                  ],
                  "styles": {
                    "image": "https://raw.githubusercontent.com/lipis/flag-icons/e119b66129af6dd849754ccf25dfbf81d4a306d5/flags/1x1/ar.svg"
                  },
                  "type": "#15AFAC"
                },
                {
                  "color": "#15AFAC",
                  "coordinates": [
                    -23.432075,
                    -46.469511
                  ],
                  "heat": 0.3600867678958785,
                  "id": "GRU",
                  "label": "Sao Paulo",
                  "parentId": "group#Brazil",
                  "position": [
                    0,
                    0
                  ],
                  "properties": {
                    "country": "Brazil",
                    "country_id": "br",
                    "label": "Sao Paulo",
                    "passengers": 34000000
                  },
                  "scale_factor": 1,
                  "size": [
                    55,
                    55
                  ],
                  "styles": {
                    "image": "https://raw.githubusercontent.com/lipis/flag-icons/e119b66129af6dd849754ccf25dfbf81d4a306d5/flags/1x1/br.svg"
                  },
                  "type": "#15AFAC"
                },
                {
                  "color": "#15AFAC",
                  "coordinates": [
                    -33.392975,
                    -70.785803
                  ],
                  "heat": 0.20824295010845986,
                  "id": "SCL",
                  "label": "Santiago de Chile",
                  "parentId": "group#Chile",
                  "position": [
                    0,
                    0
                  ],
                  "properties": {
                    "country": "Chile",
                    "country_id": "cl",
                    "label": "Santiago de Chile",
                    "passengers": 20000000
                  },
                  "scale_factor": 1,
                  "size": [
                    55,
                    55
                  ],
                  "styles": {
                    "image": "https://raw.githubusercontent.com/lipis/flag-icons/e119b66129af6dd849754ccf25dfbf81d4a306d5/flags/1x1/cl.svg"
                  },
                  "type": "#15AFAC"
                },
                {
                  "color": "#15AFAC",
                  "coordinates": [
                    -15.871111,
                    -47.918611
                  ],
                  "heat": 0.13232104121475055,
                  "id": "BSB",
                  "label": "Brasilia",
                  "parentId": "group#Brazil",
                  "position": [
                    0,
                    0
                  ],
                  "properties": {
                    "country": "Brazil",
                    "country_id": "br",
                    "label": "Brasilia",
                    "passengers": 13000000
                  },
                  "scale_factor": 1,
                  "size": [
                    55,
                    55
                  ],
                  "styles": {
                    "image": "https://raw.githubusercontent.com/lipis/flag-icons/e119b66129af6dd849754ccf25dfbf81d4a306d5/flags/1x1/br.svg"
                  },
                  "type": "#15AFAC"
                },
                {
                  "color": "#15AFAC",
                  "coordinates": [
                    4.701594,
                    -74.146947
                  ],
                  "heat": 0.38177874186550975,
                  "id": "BOG",
                  "label": "Bogota",
                  "parentId": "group#Colombia",
                  "position": [
                    0,
                    0
                  ],
                  "properties": {
                    "country": "Colombia",
                    "country_id": "co",
                    "label": "Bogota",
                    "passengers": 36000000
                  },
                  "scale_factor": 1,
                  "size": [
                    55,
                    55
                  ],
                  "styles": {
                    "image": "https://raw.githubusercontent.com/lipis/flag-icons/e119b66129af6dd849754ccf25dfbf81d4a306d5/flags/1x1/co.svg"
                  },
                  "type": "#15AFAC"
                },
                {
                  "color": "#15AFAC",
                  "coordinates": [
                    10.601194,
                    -66.991222
                  ],
                  "heat": 0.07809110629067245,
                  "id": "CCS",
                  "label": "Caracas",
                  "parentId": "group#Venezuela",
                  "position": [
                    0,
                    0
                  ],
                  "properties": {
                    "country": "Venezuela",
                    "country_id": "ve",
                    "label": "Caracas",
                    "passengers": 8000000
                  },
                  "scale_factor": 1,
                  "size": [
                    55,
                    55
                  ],
                  "styles": {
                    "image": "https://raw.githubusercontent.com/lipis/flag-icons/e119b66129af6dd849754ccf25dfbf81d4a306d5/flags/1x1/ve.svg"
                  },
                  "type": "#15AFAC"
                },
                {
                  "color": "#15AFAC",
                  "heat": -0.008676789587852495,
                  "id": "group#USA",
                  "label": "USA",
                  "position": [
                    0,
                    0
                  ],
                  "properties": {
                    "label": "USA"
                  },
                  "scale_factor": 1,
                  "size": [
                    55,
                    55
                  ],
                  "type": "#15AFAC"
                },
                {
                  "color": "#15AFAC",
                  "heat": -0.008676789587852495,
                  "id": "group#Brazil",
                  "label": "Brazil",
                  "position": [
                    0,
                    0
                  ],
                  "properties": {
                    "label": "Brazil"
                  },
                  "scale_factor": 1,
                  "size": [
                    55,
                    55
                  ],
                  "type": "#15AFAC"
                },
                {
                  "color": "#15AFAC",
                  "heat": -0.008676789587852495,
                  "id": "group#Peru",
                  "label": "Peru",
                  "position": [
                    0,
                    0
                  ],
                  "properties": {
                    "label": "Peru"
                  },
                  "scale_factor": 1,
                  "size": [
                    55,
                    55
                  ],
                  "type": "#15AFAC"
                },
                {
                  "color": "#15AFAC",
                  "heat": -0.008676789587852495,
                  "id": "group#UK",
                  "label": "UK",
                  "position": [
                    0,
                    0
                  ],
                  "properties": {
                    "label": "UK"
                  },
                  "scale_factor": 1,
                  "size": [
                    55,
                    55
                  ],
                  "type": "#15AFAC"
                },
                {
                  "color": "#15AFAC",
                  "heat": -0.008676789587852495,
                  "id": "group#Germany",
                  "label": "Germany",
                  "position": [
                    0,
                    0
                  ],
                  "properties": {
                    "label": "Germany"
                  },
                  "scale_factor": 1,
                  "size": [
                    55,
                    55
                  ],
                  "type": "#15AFAC"
                },
                {
                  "color": "#15AFAC",
                  "heat": -0.008676789587852495,
                  "id": "group#Russia",
                  "label": "Russia",
                  "position": [
                    0,
                    0
                  ],
                  "properties": {
                    "label": "Russia"
                  },
                  "scale_factor": 1,
                  "size": [
                    55,
                    55
                  ],
                  "type": "#15AFAC"
                },
                {
                  "color": "#15AFAC",
                  "heat": -0.008676789587852495,
                  "id": "group#India",
                  "label": "India",
                  "position": [
                    0,
                    0
                  ],
                  "properties": {
                    "label": "India"
                  },
                  "scale_factor": 1,
                  "size": [
                    55,
                    55
                  ],
                  "type": "#15AFAC"
                },
                {
                  "color": "#15AFAC",
                  "heat": -0.008676789587852495,
                  "id": "group#China",
                  "label": "China",
                  "position": [
                    0,
                    0
                  ],
                  "properties": {
                    "label": "China"
                  },
                  "scale_factor": 1,
                  "size": [
                    55,
                    55
                  ],
                  "type": "#15AFAC"
                },
                {
                  "color": "#15AFAC",
                  "heat": -0.008676789587852495,
                  "id": "group#China",
                  "label": "China",
                  "position": [
                    0,
                    0
                  ],
                  "properties": {
                    "label": "China"
                  },
                  "scale_factor": 1,
                  "size": [
                    55,
                    55
                  ],
                  "type": "#15AFAC"
                },
                {
                  "color": "#15AFAC",
                  "heat": -0.008676789587852495,
                  "id": "group#Japan",
                  "label": "Japan",
                  "position": [
                    0,
                    0
                  ],
                  "properties": {
                    "label": "Japan"
                  },
                  "scale_factor": 1,
                  "size": [
                    55,
                    55
                  ],
                  "type": "#15AFAC"
                },
                {
                  "color": "#15AFAC",
                  "heat": -0.008676789587852495,
                  "id": "group#UAE",
                  "label": "UAE",
                  "position": [
                    0,
                    0
                  ],
                  "properties": {
                    "label": "UAE"
                  },
                  "scale_factor": 1,
                  "size": [
                    55,
                    55
                  ],
                  "type": "#15AFAC"
                },
                {
                  "color": "#15AFAC",
                  "heat": -0.008676789587852495,
                  "id": "group#Senegal",
                  "label": "Senegal",
                  "position": [
                    0,
                    0
                  ],
                  "properties": {
                    "label": "Senegal"
                  },
                  "scale_factor": 1,
                  "size": [
                    55,
                    55
                  ],
                  "type": "#15AFAC"
                },
                {
                  "color": "#15AFAC",
                  "heat": -0.008676789587852495,
                  "id": "group#South Africa",
                  "label": "South Africa",
                  "position": [
                    0,
                    0
                  ],
                  "properties": {
                    "label": "South Africa"
                  },
                  "scale_factor": 1,
                  "size": [
                    55,
                    55
                  ],
                  "type": "#15AFAC"
                },
                {
                  "color": "#15AFAC",
                  "heat": -0.008676789587852495,
                  "id": "group#Australia",
                  "label": "Australia",
                  "position": [
                    0,
                    0
                  ],
                  "properties": {
                    "label": "Australia"
                  },
                  "scale_factor": 1,
                  "size": [
                    55,
                    55
                  ],
                  "type": "#15AFAC"
                },
                {
                  "color": "#15AFAC",
                  "heat": -0.008676789587852495,
                  "id": "group#Kenya",
                  "label": "Kenya",
                  "position": [
                    0,
                    0
                  ],
                  "properties": {
                    "label": "Kenya"
                  },
                  "scale_factor": 1,
                  "size": [
                    55,
                    55
                  ],
                  "type": "#15AFAC"
                },
                {
                  "color": "#15AFAC",
                  "heat": -0.008676789587852495,
                  "id": "group#USA",
                  "label": "USA",
                  "position": [
                    0,
                    0
                  ],
                  "properties": {
                    "label": "USA"
                  },
                  "scale_factor": 1,
                  "size": [
                    55,
                    55
                  ],
                  "type": "#15AFAC"
                },
                {
                  "color": "#15AFAC",
                  "heat": -0.008676789587852495,
                  "id": "group#USA",
                  "label": "USA",
                  "position": [
                    0,
                    0
                  ],
                  "properties": {
                    "label": "USA"
                  },
                  "scale_factor": 1,
                  "size": [
                    55,
                    55
                  ],
                  "type": "#15AFAC"
                },
                {
                  "color": "#15AFAC",
                  "heat": -0.008676789587852495,
                  "id": "group#Egypt",
                  "label": "Egypt",
                  "position": [
                    0,
                    0
                  ],
                  "properties": {
                    "label": "Egypt"
                  },
                  "scale_factor": 1,
                  "size": [
                    55,
                    55
                  ],
                  "type": "#15AFAC"
                },
                {
                  "color": "#15AFAC",
                  "heat": -0.008676789587852495,
                  "id": "group#Morocco",
                  "label": "Morocco",
                  "position": [
                    0,
                    0
                  ],
                  "properties": {
                    "label": "Morocco"
                  },
                  "scale_factor": 1,
                  "size": [
                    55,
                    55
                  ],
                  "type": "#15AFAC"
                },
                {
                  "color": "#15AFAC",
                  "heat": -0.008676789587852495,
                  "id": "group#Nigeria",
                  "label": "Nigeria",
                  "position": [
                    0,
                    0
                  ],
                  "properties": {
                    "label": "Nigeria"
                  },
                  "scale_factor": 1,
                  "size": [
                    55,
                    55
                  ],
                  "type": "#15AFAC"
                },
                {
                  "color": "#15AFAC",
                  "heat": -0.008676789587852495,
                  "id": "group#South Africa",
                  "label": "South Africa",
                  "position": [
                    0,
                    0
                  ],
                  "properties": {
                    "label": "South Africa"
                  },
                  "scale_factor": 1,
                  "size": [
                    55,
                    55
                  ],
                  "type": "#15AFAC"
                },
                {
                  "color": "#15AFAC",
                  "heat": -0.008676789587852495,
                  "id": "group#China",
                  "label": "China",
                  "position": [
                    0,
                    0
                  ],
                  "properties": {
                    "label": "China"
                  },
                  "scale_factor": 1,
                  "size": [
                    55,
                    55
                  ],
                  "type": "#15AFAC"
                },
                {
                  "color": "#15AFAC",
                  "heat": -0.008676789587852495,
                  "id": "group#Indonesia",
                  "label": "Indonesia",
                  "position": [
                    0,
                    0
                  ],
                  "properties": {
                    "label": "Indonesia"
                  },
                  "scale_factor": 1,
                  "size": [
                    55,
                    55
                  ],
                  "type": "#15AFAC"
                },
                {
                  "color": "#15AFAC",
                  "heat": -0.008676789587852495,
                  "id": "group#Iran",
                  "label": "Iran",
                  "position": [
                    0,
                    0
                  ],
                  "properties": {
                    "label": "Iran"
                  },
                  "scale_factor": 1,
                  "size": [
                    55,
                    55
                  ],
                  "type": "#15AFAC"
                },
                {
                  "color": "#15AFAC",
                  "heat": -0.008676789587852495,
                  "id": "group#Israel",
                  "label": "Israel",
                  "position": [
                    0,
                    0
                  ],
                  "properties": {
                    "label": "Israel"
                  },
                  "scale_factor": 1,
                  "size": [
                    55,
                    55
                  ],
                  "type": "#15AFAC"
                },
                {
                  "color": "#15AFAC",
                  "heat": -0.008676789587852495,
                  "id": "group#Malaysia",
                  "label": "Malaysia",
                  "position": [
                    0,
                    0
                  ],
                  "properties": {
                    "label": "Malaysia"
                  },
                  "scale_factor": 1,
                  "size": [
                    55,
                    55
                  ],
                  "type": "#15AFAC"
                },
                {
                  "color": "#15AFAC",
                  "heat": -0.008676789587852495,
                  "id": "group#Philippines",
                  "label": "Philippines",
                  "position": [
                    0,
                    0
                  ],
                  "properties": {
                    "label": "Philippines"
                  },
                  "scale_factor": 1,
                  "size": [
                    55,
                    55
                  ],
                  "type": "#15AFAC"
                },
                {
                  "color": "#15AFAC",
                  "heat": -0.008676789587852495,
                  "id": "group#Singapore",
                  "label": "Singapore",
                  "position": [
                    0,
                    0
                  ],
                  "properties": {
                    "label": "Singapore"
                  },
                  "scale_factor": 1,
                  "size": [
                    55,
                    55
                  ],
                  "type": "#15AFAC"
                },
                {
                  "color": "#15AFAC",
                  "heat": -0.008676789587852495,
                  "id": "group#Taiwan",
                  "label": "Taiwan",
                  "position": [
                    0,
                    0
                  ],
                  "properties": {
                    "label": "Taiwan"
                  },
                  "scale_factor": 1,
                  "size": [
                    55,
                    55
                  ],
                  "type": "#15AFAC"
                },
                {
                  "color": "#15AFAC",
                  "heat": -0.008676789587852495,
                  "id": "group#Thailand",
                  "label": "Thailand",
                  "position": [
                    0,
                    0
                  ],
                  "properties": {
                    "label": "Thailand"
                  },
                  "scale_factor": 1,
                  "size": [
                    55,
                    55
                  ],
                  "type": "#15AFAC"
                },
                {
                  "color": "#15AFAC",
                  "heat": -0.008676789587852495,
                  "id": "group#Turkey",
                  "label": "Turkey",
                  "position": [
                    0,
                    0
                  ],
                  "properties": {
                    "label": "Turkey"
                  },
                  "scale_factor": 1,
                  "size": [
                    55,
                    55
                  ],
                  "type": "#15AFAC"
                },
                {
                  "color": "#15AFAC",
                  "heat": -0.008676789587852495,
                  "id": "group#Mongolia",
                  "label": "Mongolia",
                  "position": [
                    0,
                    0
                  ],
                  "properties": {
                    "label": "Mongolia"
                  },
                  "scale_factor": 1,
                  "size": [
                    55,
                    55
                  ],
                  "type": "#15AFAC"
                },
                {
                  "color": "#15AFAC",
                  "heat": -0.008676789587852495,
                  "id": "group#Australia",
                  "label": "Australia",
                  "position": [
                    0,
                    0
                  ],
                  "properties": {
                    "label": "Australia"
                  },
                  "scale_factor": 1,
                  "size": [
                    55,
                    55
                  ],
                  "type": "#15AFAC"
                },
                {
                  "color": "#15AFAC",
                  "heat": -0.008676789587852495,
                  "id": "group#Australia",
                  "label": "Australia",
                  "position": [
                    0,
                    0
                  ],
                  "properties": {
                    "label": "Australia"
                  },
                  "scale_factor": 1,
                  "size": [
                    55,
                    55
                  ],
                  "type": "#15AFAC"
                },
                {
                  "color": "#15AFAC",
                  "heat": -0.008676789587852495,
                  "id": "group#Fiji",
                  "label": "Fiji",
                  "position": [
                    0,
                    0
                  ],
                  "properties": {
                    "label": "Fiji"
                  },
                  "scale_factor": 1,
                  "size": [
                    55,
                    55
                  ],
                  "type": "#15AFAC"
                },
                {
                  "color": "#15AFAC",
                  "heat": -0.008676789587852495,
                  "id": "group#New Zealand",
                  "label": "New Zealand",
                  "position": [
                    0,
                    0
                  ],
                  "properties": {
                    "label": "New Zealand"
                  },
                  "scale_factor": 1,
                  "size": [
                    55,
                    55
                  ],
                  "type": "#15AFAC"
                },
                {
                  "color": "#15AFAC",
                  "heat": -0.008676789587852495,
                  "id": "group#France",
                  "label": "France",
                  "position": [
                    0,
                    0
                  ],
                  "properties": {
                    "label": "France"
                  },
                  "scale_factor": 1,
                  "size": [
                    55,
                    55
                  ],
                  "type": "#15AFAC"
                },
                {
                  "color": "#15AFAC",
                  "heat": -0.008676789587852495,
                  "id": "group#Spain",
                  "label": "Spain",
                  "position": [
                    0,
                    0
                  ],
                  "properties": {
                    "label": "Spain"
                  },
                  "scale_factor": 1,
                  "size": [
                    55,
                    55
                  ],
                  "type": "#15AFAC"
                },
                {
                  "color": "#15AFAC",
                  "heat": -0.008676789587852495,
                  "id": "group#Spain",
                  "label": "Spain",
                  "position": [
                    0,
                    0
                  ],
                  "properties": {
                    "label": "Spain"
                  },
                  "scale_factor": 1,
                  "size": [
                    55,
                    55
                  ],
                  "type": "#15AFAC"
                },
                {
                  "color": "#15AFAC",
                  "heat": -0.008676789587852495,
                  "id": "group#Italy",
                  "label": "Italy",
                  "position": [
                    0,
                    0
                  ],
                  "properties": {
                    "label": "Italy"
                  },
                  "scale_factor": 1,
                  "size": [
                    55,
                    55
                  ],
                  "type": "#15AFAC"
                },
                {
                  "color": "#15AFAC",
                  "heat": -0.008676789587852495,
                  "id": "group#Denmark",
                  "label": "Denmark",
                  "position": [
                    0,
                    0
                  ],
                  "properties": {
                    "label": "Denmark"
                  },
                  "scale_factor": 1,
                  "size": [
                    55,
                    55
                  ],
                  "type": "#15AFAC"
                },
                {
                  "color": "#15AFAC",
                  "heat": -0.008676789587852495,
                  "id": "group#Finland",
                  "label": "Finland",
                  "position": [
                    0,
                    0
                  ],
                  "properties": {
                    "label": "Finland"
                  },
                  "scale_factor": 1,
                  "size": [
                    55,
                    55
                  ],
                  "type": "#15AFAC"
                },
                {
                  "color": "#15AFAC",
                  "heat": -0.008676789587852495,
                  "id": "group#Greece",
                  "label": "Greece",
                  "position": [
                    0,
                    0
                  ],
                  "properties": {
                    "label": "Greece"
                  },
                  "scale_factor": 1,
                  "size": [
                    55,
                    55
                  ],
                  "type": "#15AFAC"
                },
                {
                  "color": "#15AFAC",
                  "heat": -0.008676789587852495,
                  "id": "group#Ireland",
                  "label": "Ireland",
                  "position": [
                    0,
                    0
                  ],
                  "properties": {
                    "label": "Ireland"
                  },
                  "scale_factor": 1,
                  "size": [
                    55,
                    55
                  ],
                  "type": "#15AFAC"
                },
                {
                  "color": "#15AFAC",
                  "heat": -0.008676789587852495,
                  "id": "group#Iceland",
                  "label": "Iceland",
                  "position": [
                    0,
                    0
                  ],
                  "properties": {
                    "label": "Iceland"
                  },
                  "scale_factor": 1,
                  "size": [
                    55,
                    55
                  ],
                  "type": "#15AFAC"
                },
                {
                  "color": "#15AFAC",
                  "heat": -0.008676789587852495,
                  "id": "group#Norway",
                  "label": "Norway",
                  "position": [
                    0,
                    0
                  ],
                  "properties": {
                    "label": "Norway"
                  },
                  "scale_factor": 1,
                  "size": [
                    55,
                    55
                  ],
                  "type": "#15AFAC"
                },
                {
                  "color": "#15AFAC",
                  "heat": -0.008676789587852495,
                  "id": "group#Austria",
                  "label": "Austria",
                  "position": [
                    0,
                    0
                  ],
                  "properties": {
                    "label": "Austria"
                  },
                  "scale_factor": 1,
                  "size": [
                    55,
                    55
                  ],
                  "type": "#15AFAC"
                },
                {
                  "color": "#15AFAC",
                  "heat": -0.008676789587852495,
                  "id": "group#Portugal",
                  "label": "Portugal",
                  "position": [
                    0,
                    0
                  ],
                  "properties": {
                    "label": "Portugal"
                  },
                  "scale_factor": 1,
                  "size": [
                    55,
                    55
                  ],
                  "type": "#15AFAC"
                },
                {
                  "color": "#15AFAC",
                  "heat": -0.008676789587852495,
                  "id": "group#Sweden",
                  "label": "Sweden",
                  "position": [
                    0,
                    0
                  ],
                  "properties": {
                    "label": "Sweden"
                  },
                  "scale_factor": 1,
                  "size": [
                    55,
                    55
                  ],
                  "type": "#15AFAC"
                },
                {
                  "color": "#15AFAC",
                  "heat": -0.008676789587852495,
                  "id": "group#UK",
                  "label": "UK",
                  "position": [
                    0,
                    0
                  ],
                  "properties": {
                    "label": "UK"
                  },
                  "scale_factor": 1,
                  "size": [
                    55,
                    55
                  ],
                  "type": "#15AFAC"
                },
                {
                  "color": "#15AFAC",
                  "heat": -0.008676789587852495,
                  "id": "group#USA",
                  "label": "USA",
                  "position": [
                    0,
                    0
                  ],
                  "properties": {
                    "label": "USA"
                  },
                  "scale_factor": 1,
                  "size": [
                    55,
                    55
                  ],
                  "type": "#15AFAC"
                },
                {
                  "color": "#15AFAC",
                  "heat": -0.008676789587852495,
                  "id": "group#USA",
                  "label": "USA",
                  "position": [
                    0,
                    0
                  ],
                  "properties": {
                    "label": "USA"
                  },
                  "scale_factor": 1,
                  "size": [
                    55,
                    55
                  ],
                  "type": "#15AFAC"
                },
                {
                  "color": "#15AFAC",
                  "heat": -0.008676789587852495,
                  "id": "group#USA",
                  "label": "USA",
                  "position": [
                    0,
                    0
                  ],
                  "properties": {
                    "label": "USA"
                  },
                  "scale_factor": 1,
                  "size": [
                    55,
                    55
                  ],
                  "type": "#15AFAC"
                },
                {
                  "color": "#15AFAC",
                  "heat": -0.008676789587852495,
                  "id": "group#USA",
                  "label": "USA",
                  "position": [
                    0,
                    0
                  ],
                  "properties": {
                    "label": "USA"
                  },
                  "scale_factor": 1,
                  "size": [
                    55,
                    55
                  ],
                  "type": "#15AFAC"
                },
                {
                  "color": "#15AFAC",
                  "heat": -0.008676789587852495,
                  "id": "group#USA",
                  "label": "USA",
                  "position": [
                    0,
                    0
                  ],
                  "properties": {
                    "label": "USA"
                  },
                  "scale_factor": 1,
                  "size": [
                    55,
                    55
                  ],
                  "type": "#15AFAC"
                },
                {
                  "color": "#15AFAC",
                  "heat": -0.008676789587852495,
                  "id": "group#Canada",
                  "label": "Canada",
                  "position": [
                    0,
                    0
                  ],
                  "properties": {
                    "label": "Canada"
                  },
                  "scale_factor": 1,
                  "size": [
                    55,
                    55
                  ],
                  "type": "#15AFAC"
                },
                {
                  "color": "#15AFAC",
                  "heat": -0.008676789587852495,
                  "id": "group#Canada",
                  "label": "Canada",
                  "position": [
                    0,
                    0
                  ],
                  "properties": {
                    "label": "Canada"
                  },
                  "scale_factor": 1,
                  "size": [
                    55,
                    55
                  ],
                  "type": "#15AFAC"
                },
                {
                  "color": "#15AFAC",
                  "heat": -0.008676789587852495,
                  "id": "group#Canada",
                  "label": "Canada",
                  "position": [
                    0,
                    0
                  ],
                  "properties": {
                    "label": "Canada"
                  },
                  "scale_factor": 1,
                  "size": [
                    55,
                    55
                  ],
                  "type": "#15AFAC"
                },
                {
                  "color": "#15AFAC",
                  "heat": -0.008676789587852495,
                  "id": "group#Mexico",
                  "label": "Mexico",
                  "position": [
                    0,
                    0
                  ],
                  "properties": {
                    "label": "Mexico"
                  },
                  "scale_factor": 1,
                  "size": [
                    55,
                    55
                  ],
                  "type": "#15AFAC"
                },
                {
                  "color": "#15AFAC",
                  "heat": -0.008676789587852495,
                  "id": "group#Guatemala",
                  "label": "Guatemala",
                  "position": [
                    0,
                    0
                  ],
                  "properties": {
                    "label": "Guatemala"
                  },
                  "scale_factor": 1,
                  "size": [
                    55,
                    55
                  ],
                  "type": "#15AFAC"
                },
                {
                  "color": "#15AFAC",
                  "heat": -0.008676789587852495,
                  "id": "group#Argentina",
                  "label": "Argentina",
                  "position": [
                    0,
                    0
                  ],
                  "properties": {
                    "label": "Argentina"
                  },
                  "scale_factor": 1,
                  "size": [
                    55,
                    55
                  ],
                  "type": "#15AFAC"
                },
                {
                  "color": "#15AFAC",
                  "heat": -0.008676789587852495,
                  "id": "group#Brazil",
                  "label": "Brazil",
                  "position": [
                    0,
                    0
                  ],
                  "properties": {
                    "label": "Brazil"
                  },
                  "scale_factor": 1,
                  "size": [
                    55,
                    55
                  ],
                  "type": "#15AFAC"
                },
                {
                  "color": "#15AFAC",
                  "heat": -0.008676789587852495,
                  "id": "group#Chile",
                  "label": "Chile",
                  "position": [
                    0,
                    0
                  ],
                  "properties": {
                    "label": "Chile"
                  },
                  "scale_factor": 1,
                  "size": [
                    55,
                    55
                  ],
                  "type": "#15AFAC"
                },
                {
                  "color": "#15AFAC",
                  "heat": -0.008676789587852495,
                  "id": "group#Brazil",
                  "label": "Brazil",
                  "position": [
                    0,
                    0
                  ],
                  "properties": {
                    "label": "Brazil"
                  },
                  "scale_factor": 1,
                  "size": [
                    55,
                    55
                  ],
                  "type": "#15AFAC"
                },
                {
                  "color": "#15AFAC",
                  "heat": -0.008676789587852495,
                  "id": "group#Colombia",
                  "label": "Colombia",
                  "position": [
                    0,
                    0
                  ],
                  "properties": {
                    "label": "Colombia"
                  },
                  "scale_factor": 1,
                  "size": [
                    55,
                    55
                  ],
                  "type": "#15AFAC"
                },
                {
                  "color": "#15AFAC",
                  "heat": -0.008676789587852495,
                  "id": "group#Venezuela",
                  "label": "Venezuela",
                  "position": [
                    0,
                    0
                  ],
                  "properties": {
                    "label": "Venezuela"
                  },
                  "scale_factor": 1,
                  "size": [
                    55,
                    55
                  ],
                  "type": "#15AFAC"
                }
              ],
              "_overview": {
                "enabled": null,
                "overview_set": false
              },
              "_selected_graph": [
                [],
                []
              ],
              "_sidebar": {
                "enabled": false,
                "start_with": "About"
              },
              "_view_module_version": "^1.10.2",
              "layout": "IPY_MODEL_68117837e67a4fdaa3b0bf3a60e5bf0c"
            }
          },
          "68117837e67a4fdaa3b0bf3a60e5bf0c": {
            "model_module": "@jupyter-widgets/base",
            "model_module_version": "2.0.0",
            "model_name": "LayoutModel",
            "state": {
              "height": "800px",
              "width": "100%"
            }
          },
          "68927f376c7d40aca80bc3bd81ac055e": {
            "model_module": "@jupyter-widgets/base",
            "model_module_version": "2.0.0",
            "model_name": "LayoutModel",
            "state": {
              "height": "800px",
              "width": "100%"
            }
          },
          "78b37578f84c4bdab59eb16a725e0525": {
            "model_module": "yfiles-jupyter-graphs",
            "model_module_version": "^1.10.2",
            "model_name": "GraphModel",
            "state": {
              "_context_pane_mapping": [
                {
                  "id": "Neighborhood",
                  "title": "Neighborhood"
                },
                {
                  "id": "Data",
                  "title": "Data"
                },
                {
                  "id": "Search",
                  "title": "Search"
                },
                {
                  "id": "About",
                  "title": "About"
                }
              ],
              "_directed": false,
              "_edges": [
                {
                  "color": "#15AFAC",
                  "directed": false,
                  "end": "JFK",
                  "label": "",
                  "properties": {},
                  "start": "LAX",
                  "styles": {},
                  "thickness_factor": 1
                },
                {
                  "color": "#15AFAC",
                  "directed": false,
                  "end": "GIG",
                  "label": "",
                  "properties": {},
                  "start": "JFK",
                  "styles": {},
                  "thickness_factor": 1
                },
                {
                  "color": "#15AFAC",
                  "directed": false,
                  "end": "LIM",
                  "label": "",
                  "properties": {},
                  "start": "JFK",
                  "styles": {},
                  "thickness_factor": 1
                },
                {
                  "color": "#15AFAC",
                  "directed": false,
                  "end": "LHR",
                  "label": "",
                  "properties": {},
                  "start": "JFK",
                  "styles": {},
                  "thickness_factor": 1
                },
                {
                  "color": "#15AFAC",
                  "directed": false,
                  "end": "FRA",
                  "label": "",
                  "properties": {},
                  "start": "GIG",
                  "styles": {},
                  "thickness_factor": 1
                },
                {
                  "color": "#15AFAC",
                  "directed": false,
                  "end": "GIG",
                  "label": "",
                  "properties": {},
                  "start": "LIM",
                  "styles": {},
                  "thickness_factor": 1
                },
                {
                  "color": "#15AFAC",
                  "directed": false,
                  "end": "JFK",
                  "label": "",
                  "properties": {},
                  "start": "FRA",
                  "styles": {},
                  "thickness_factor": 1
                },
                {
                  "color": "#15AFAC",
                  "directed": false,
                  "end": "FRA",
                  "label": "",
                  "properties": {},
                  "start": "LHR",
                  "styles": {},
                  "thickness_factor": 1
                },
                {
                  "color": "#15AFAC",
                  "directed": false,
                  "end": "SVO",
                  "label": "",
                  "properties": {},
                  "start": "FRA",
                  "styles": {},
                  "thickness_factor": 1
                },
                {
                  "color": "#15AFAC",
                  "directed": false,
                  "end": "DXB",
                  "label": "",
                  "properties": {},
                  "start": "FRA",
                  "styles": {},
                  "thickness_factor": 1
                },
                {
                  "color": "#15AFAC",
                  "directed": false,
                  "end": "DEL",
                  "label": "",
                  "properties": {},
                  "start": "SVO",
                  "styles": {},
                  "thickness_factor": 1
                },
                {
                  "color": "#15AFAC",
                  "directed": false,
                  "end": "PVG",
                  "label": "",
                  "properties": {},
                  "start": "SVO",
                  "styles": {},
                  "thickness_factor": 1
                },
                {
                  "color": "#15AFAC",
                  "directed": false,
                  "end": "HKG",
                  "label": "",
                  "properties": {},
                  "start": "DEL",
                  "styles": {},
                  "thickness_factor": 1
                },
                {
                  "color": "#15AFAC",
                  "directed": false,
                  "end": "HKG",
                  "label": "",
                  "properties": {},
                  "start": "PVG",
                  "styles": {},
                  "thickness_factor": 1
                },
                {
                  "color": "#15AFAC",
                  "directed": false,
                  "end": "NRT",
                  "label": "",
                  "properties": {},
                  "start": "PVG",
                  "styles": {},
                  "thickness_factor": 1
                },
                {
                  "color": "#15AFAC",
                  "directed": false,
                  "end": "SYD",
                  "label": "",
                  "properties": {},
                  "start": "HKG",
                  "styles": {},
                  "thickness_factor": 1
                },
                {
                  "color": "#15AFAC",
                  "directed": false,
                  "end": "SYD",
                  "label": "",
                  "properties": {},
                  "start": "NRT",
                  "styles": {},
                  "thickness_factor": 1
                },
                {
                  "color": "#15AFAC",
                  "directed": false,
                  "end": "SVO",
                  "label": "",
                  "properties": {},
                  "start": "DXB",
                  "styles": {},
                  "thickness_factor": 1
                },
                {
                  "color": "#15AFAC",
                  "directed": false,
                  "end": "DEL",
                  "label": "",
                  "properties": {},
                  "start": "DXB",
                  "styles": {},
                  "thickness_factor": 1
                },
                {
                  "color": "#15AFAC",
                  "directed": false,
                  "end": "DKR",
                  "label": "",
                  "properties": {},
                  "start": "DXB",
                  "styles": {},
                  "thickness_factor": 1
                },
                {
                  "color": "#15AFAC",
                  "directed": false,
                  "end": "JNB",
                  "label": "",
                  "properties": {},
                  "start": "DXB",
                  "styles": {},
                  "thickness_factor": 1
                },
                {
                  "color": "#15AFAC",
                  "directed": false,
                  "end": "LHR",
                  "label": "",
                  "properties": {},
                  "start": "JNB",
                  "styles": {},
                  "thickness_factor": 1
                },
                {
                  "color": "#15AFAC",
                  "directed": false,
                  "end": "DKR",
                  "label": "",
                  "properties": {},
                  "start": "JNB",
                  "styles": {},
                  "thickness_factor": 1
                },
                {
                  "color": "#15AFAC",
                  "directed": false,
                  "end": "DXB",
                  "label": "",
                  "properties": {},
                  "start": "SYD",
                  "styles": {},
                  "thickness_factor": 1
                },
                {
                  "color": "#15AFAC",
                  "directed": false,
                  "end": "JNB",
                  "label": "",
                  "properties": {},
                  "start": "NBO",
                  "styles": {},
                  "thickness_factor": 1
                },
                {
                  "color": "#15AFAC",
                  "directed": false,
                  "end": "DXB",
                  "label": "",
                  "properties": {},
                  "start": "NBO",
                  "styles": {},
                  "thickness_factor": 1
                },
                {
                  "color": "#15AFAC",
                  "directed": false,
                  "end": "JFK",
                  "label": "",
                  "properties": {},
                  "start": "ATL",
                  "styles": {},
                  "thickness_factor": 1
                },
                {
                  "color": "#15AFAC",
                  "directed": false,
                  "end": "ATL",
                  "label": "",
                  "properties": {},
                  "start": "LAX",
                  "styles": {},
                  "thickness_factor": 1
                },
                {
                  "color": "#15AFAC",
                  "directed": false,
                  "end": "LHR",
                  "label": "",
                  "properties": {},
                  "start": "ATL",
                  "styles": {},
                  "thickness_factor": 1
                },
                {
                  "color": "#15AFAC",
                  "directed": false,
                  "end": "LIM",
                  "label": "",
                  "properties": {},
                  "start": "ATL",
                  "styles": {},
                  "thickness_factor": 1
                },
                {
                  "color": "#15AFAC",
                  "directed": false,
                  "end": "LIM",
                  "label": "",
                  "properties": {},
                  "start": "SCL",
                  "styles": {},
                  "thickness_factor": 1
                },
                {
                  "color": "#15AFAC",
                  "directed": false,
                  "end": "SCL",
                  "label": "",
                  "properties": {},
                  "start": "EZE",
                  "styles": {},
                  "thickness_factor": 1
                },
                {
                  "color": "#15AFAC",
                  "directed": false,
                  "end": "GRU",
                  "label": "",
                  "properties": {},
                  "start": "SCL",
                  "styles": {},
                  "thickness_factor": 1
                },
                {
                  "color": "#15AFAC",
                  "directed": false,
                  "end": "EZE",
                  "label": "",
                  "properties": {},
                  "start": "GIG",
                  "styles": {},
                  "thickness_factor": 1
                },
                {
                  "color": "#15AFAC",
                  "directed": false,
                  "end": "GRU",
                  "label": "",
                  "properties": {},
                  "start": "GIG",
                  "styles": {},
                  "thickness_factor": 1
                },
                {
                  "color": "#15AFAC",
                  "directed": false,
                  "end": "GIG",
                  "label": "",
                  "properties": {},
                  "start": "BSB",
                  "styles": {},
                  "thickness_factor": 1
                },
                {
                  "color": "#15AFAC",
                  "directed": false,
                  "end": "BSB",
                  "label": "",
                  "properties": {},
                  "start": "SCL",
                  "styles": {},
                  "thickness_factor": 1
                },
                {
                  "color": "#15AFAC",
                  "directed": false,
                  "end": "BSB",
                  "label": "",
                  "properties": {},
                  "start": "LIM",
                  "styles": {},
                  "thickness_factor": 1
                },
                {
                  "color": "#15AFAC",
                  "directed": false,
                  "end": "BSB",
                  "label": "",
                  "properties": {},
                  "start": "BOG",
                  "styles": {},
                  "thickness_factor": 1
                },
                {
                  "color": "#15AFAC",
                  "directed": false,
                  "end": "BSB",
                  "label": "",
                  "properties": {},
                  "start": "CCS",
                  "styles": {},
                  "thickness_factor": 1
                },
                {
                  "color": "#15AFAC",
                  "directed": false,
                  "end": "GUA",
                  "label": "",
                  "properties": {},
                  "start": "BOG",
                  "styles": {},
                  "thickness_factor": 1
                },
                {
                  "color": "#15AFAC",
                  "directed": false,
                  "end": "MIA",
                  "label": "",
                  "properties": {},
                  "start": "CCS",
                  "styles": {},
                  "thickness_factor": 1
                },
                {
                  "color": "#15AFAC",
                  "directed": false,
                  "end": "MIA",
                  "label": "",
                  "properties": {},
                  "start": "GUA",
                  "styles": {},
                  "thickness_factor": 1
                },
                {
                  "color": "#15AFAC",
                  "directed": false,
                  "end": "MEX",
                  "label": "",
                  "properties": {},
                  "start": "GUA",
                  "styles": {},
                  "thickness_factor": 1
                },
                {
                  "color": "#15AFAC",
                  "directed": false,
                  "end": "LAX",
                  "label": "",
                  "properties": {},
                  "start": "MEX",
                  "styles": {},
                  "thickness_factor": 1
                },
                {
                  "color": "#15AFAC",
                  "directed": false,
                  "end": "LAX",
                  "label": "",
                  "properties": {},
                  "start": "MEX",
                  "styles": {},
                  "thickness_factor": 1
                },
                {
                  "color": "#15AFAC",
                  "directed": false,
                  "end": "SFO",
                  "label": "",
                  "properties": {},
                  "start": "LAX",
                  "styles": {},
                  "thickness_factor": 1
                },
                {
                  "color": "#15AFAC",
                  "directed": false,
                  "end": "YVR",
                  "label": "",
                  "properties": {},
                  "start": "SFO",
                  "styles": {},
                  "thickness_factor": 1
                },
                {
                  "color": "#15AFAC",
                  "directed": false,
                  "end": "LAS",
                  "label": "",
                  "properties": {},
                  "start": "LAX",
                  "styles": {},
                  "thickness_factor": 1
                },
                {
                  "color": "#15AFAC",
                  "directed": false,
                  "end": "DFW",
                  "label": "",
                  "properties": {},
                  "start": "LAX",
                  "styles": {},
                  "thickness_factor": 1
                },
                {
                  "color": "#15AFAC",
                  "directed": false,
                  "end": "ORD",
                  "label": "",
                  "properties": {},
                  "start": "LAX",
                  "styles": {},
                  "thickness_factor": 1
                },
                {
                  "color": "#15AFAC",
                  "directed": false,
                  "end": "LAS",
                  "label": "",
                  "properties": {},
                  "start": "SFO",
                  "styles": {},
                  "thickness_factor": 1
                },
                {
                  "color": "#15AFAC",
                  "directed": false,
                  "end": "ATL",
                  "label": "",
                  "properties": {},
                  "start": "DFW",
                  "styles": {},
                  "thickness_factor": 1
                },
                {
                  "color": "#15AFAC",
                  "directed": false,
                  "end": "YYZ",
                  "label": "",
                  "properties": {},
                  "start": "ATL",
                  "styles": {},
                  "thickness_factor": 1
                },
                {
                  "color": "#15AFAC",
                  "directed": false,
                  "end": "YYZ",
                  "label": "",
                  "properties": {},
                  "start": "ORD",
                  "styles": {},
                  "thickness_factor": 1
                },
                {
                  "color": "#15AFAC",
                  "directed": false,
                  "end": "YUL",
                  "label": "",
                  "properties": {},
                  "start": "YYZ",
                  "styles": {},
                  "thickness_factor": 1
                },
                {
                  "color": "#15AFAC",
                  "directed": false,
                  "end": "JFK",
                  "label": "",
                  "properties": {},
                  "start": "YYZ",
                  "styles": {},
                  "thickness_factor": 1
                },
                {
                  "color": "#15AFAC",
                  "directed": false,
                  "end": "JFK",
                  "label": "",
                  "properties": {},
                  "start": "YUL",
                  "styles": {},
                  "thickness_factor": 1
                },
                {
                  "color": "#15AFAC",
                  "directed": false,
                  "end": "CPT",
                  "label": "",
                  "properties": {},
                  "start": "JNB",
                  "styles": {},
                  "thickness_factor": 1
                },
                {
                  "color": "#15AFAC",
                  "directed": false,
                  "end": "DKR",
                  "label": "",
                  "properties": {},
                  "start": "LOS",
                  "styles": {},
                  "thickness_factor": 1
                },
                {
                  "color": "#15AFAC",
                  "directed": false,
                  "end": "LOS",
                  "label": "",
                  "properties": {},
                  "start": "NBO",
                  "styles": {},
                  "thickness_factor": 1
                },
                {
                  "color": "#15AFAC",
                  "directed": false,
                  "end": "CMN",
                  "label": "",
                  "properties": {},
                  "start": "DKR",
                  "styles": {},
                  "thickness_factor": 1
                },
                {
                  "color": "#15AFAC",
                  "directed": false,
                  "end": "CAI",
                  "label": "",
                  "properties": {},
                  "start": "DKR",
                  "styles": {},
                  "thickness_factor": 1
                },
                {
                  "color": "#15AFAC",
                  "directed": false,
                  "end": "CAI",
                  "label": "",
                  "properties": {},
                  "start": "NBO",
                  "styles": {},
                  "thickness_factor": 1
                },
                {
                  "color": "#15AFAC",
                  "directed": false,
                  "end": "CAI",
                  "label": "",
                  "properties": {},
                  "start": "DXB",
                  "styles": {},
                  "thickness_factor": 1
                },
                {
                  "color": "#15AFAC",
                  "directed": false,
                  "end": "DXB",
                  "label": "",
                  "properties": {},
                  "start": "IKA",
                  "styles": {},
                  "thickness_factor": 1
                },
                {
                  "color": "#15AFAC",
                  "directed": false,
                  "end": "IKA",
                  "label": "",
                  "properties": {},
                  "start": "IST",
                  "styles": {},
                  "thickness_factor": 1
                },
                {
                  "color": "#15AFAC",
                  "directed": false,
                  "end": "ATH",
                  "label": "",
                  "properties": {},
                  "start": "TLV",
                  "styles": {},
                  "thickness_factor": 1
                },
                {
                  "color": "#15AFAC",
                  "directed": false,
                  "end": "TLV",
                  "label": "",
                  "properties": {},
                  "start": "CAI",
                  "styles": {},
                  "thickness_factor": 1
                },
                {
                  "color": "#15AFAC",
                  "directed": false,
                  "end": "IST",
                  "label": "",
                  "properties": {},
                  "start": "ATH",
                  "styles": {},
                  "thickness_factor": 1
                },
                {
                  "color": "#15AFAC",
                  "directed": false,
                  "end": "ATH",
                  "label": "",
                  "properties": {},
                  "start": "FCO",
                  "styles": {},
                  "thickness_factor": 1
                },
                {
                  "color": "#15AFAC",
                  "directed": false,
                  "end": "LHR",
                  "label": "",
                  "properties": {},
                  "start": "LIS",
                  "styles": {},
                  "thickness_factor": 1
                },
                {
                  "color": "#15AFAC",
                  "directed": false,
                  "end": "MAD",
                  "label": "",
                  "properties": {},
                  "start": "LIS",
                  "styles": {},
                  "thickness_factor": 1
                },
                {
                  "color": "#15AFAC",
                  "directed": false,
                  "end": "BCN",
                  "label": "",
                  "properties": {},
                  "start": "MAD",
                  "styles": {},
                  "thickness_factor": 1
                },
                {
                  "color": "#15AFAC",
                  "directed": false,
                  "end": "LHR",
                  "label": "",
                  "properties": {},
                  "start": "CDG",
                  "styles": {},
                  "thickness_factor": 1
                },
                {
                  "color": "#15AFAC",
                  "directed": false,
                  "end": "LHR",
                  "label": "",
                  "properties": {},
                  "start": "DUB",
                  "styles": {},
                  "thickness_factor": 1
                },
                {
                  "color": "#15AFAC",
                  "directed": false,
                  "end": "LHR",
                  "label": "",
                  "properties": {},
                  "start": "EDI",
                  "styles": {},
                  "thickness_factor": 1
                },
                {
                  "color": "#15AFAC",
                  "directed": false,
                  "end": "BCN",
                  "label": "",
                  "properties": {},
                  "start": "CDG",
                  "styles": {},
                  "thickness_factor": 1
                },
                {
                  "color": "#15AFAC",
                  "directed": false,
                  "end": "FCO",
                  "label": "",
                  "properties": {},
                  "start": "BCN",
                  "styles": {},
                  "thickness_factor": 1
                },
                {
                  "color": "#15AFAC",
                  "directed": false,
                  "end": "IST",
                  "label": "",
                  "properties": {},
                  "start": "VIE",
                  "styles": {},
                  "thickness_factor": 1
                },
                {
                  "color": "#15AFAC",
                  "directed": false,
                  "end": "SVO",
                  "label": "",
                  "properties": {},
                  "start": "VIE",
                  "styles": {},
                  "thickness_factor": 1
                },
                {
                  "color": "#15AFAC",
                  "directed": false,
                  "end": "LIS",
                  "label": "",
                  "properties": {},
                  "start": "CMN",
                  "styles": {},
                  "thickness_factor": 1
                },
                {
                  "color": "#15AFAC",
                  "directed": false,
                  "end": "CMN",
                  "label": "",
                  "properties": {},
                  "start": "MAD",
                  "styles": {},
                  "thickness_factor": 1
                },
                {
                  "color": "#15AFAC",
                  "directed": false,
                  "end": "CPH",
                  "label": "",
                  "properties": {},
                  "start": "FRA",
                  "styles": {},
                  "thickness_factor": 1
                },
                {
                  "color": "#15AFAC",
                  "directed": false,
                  "end": "CPH",
                  "label": "",
                  "properties": {},
                  "start": "LHR",
                  "styles": {},
                  "thickness_factor": 1
                },
                {
                  "color": "#15AFAC",
                  "directed": false,
                  "end": "OSL",
                  "label": "",
                  "properties": {},
                  "start": "CPH",
                  "styles": {},
                  "thickness_factor": 1
                },
                {
                  "color": "#15AFAC",
                  "directed": false,
                  "end": "ARN",
                  "label": "",
                  "properties": {},
                  "start": "CPH",
                  "styles": {},
                  "thickness_factor": 1
                },
                {
                  "color": "#15AFAC",
                  "directed": false,
                  "end": "HEL",
                  "label": "",
                  "properties": {},
                  "start": "ARN",
                  "styles": {},
                  "thickness_factor": 1
                },
                {
                  "color": "#15AFAC",
                  "directed": false,
                  "end": "SVO",
                  "label": "",
                  "properties": {},
                  "start": "HEL",
                  "styles": {},
                  "thickness_factor": 1
                },
                {
                  "color": "#15AFAC",
                  "directed": false,
                  "end": "PVG",
                  "label": "",
                  "properties": {},
                  "start": "ULN",
                  "styles": {},
                  "thickness_factor": 1
                },
                {
                  "color": "#15AFAC",
                  "directed": false,
                  "end": "PVG",
                  "label": "",
                  "properties": {},
                  "start": "CTU",
                  "styles": {},
                  "thickness_factor": 1
                },
                {
                  "color": "#15AFAC",
                  "directed": false,
                  "end": "TPE",
                  "label": "",
                  "properties": {},
                  "start": "PVG",
                  "styles": {},
                  "thickness_factor": 1
                },
                {
                  "color": "#15AFAC",
                  "directed": false,
                  "end": "HKG",
                  "label": "",
                  "properties": {},
                  "start": "CTU",
                  "styles": {},
                  "thickness_factor": 1
                },
                {
                  "color": "#15AFAC",
                  "directed": false,
                  "end": "HKG",
                  "label": "",
                  "properties": {},
                  "start": "TPE",
                  "styles": {},
                  "thickness_factor": 1
                },
                {
                  "color": "#15AFAC",
                  "directed": false,
                  "end": "MNL",
                  "label": "",
                  "properties": {},
                  "start": "HKG",
                  "styles": {},
                  "thickness_factor": 1
                },
                {
                  "color": "#15AFAC",
                  "directed": false,
                  "end": "HKG",
                  "label": "",
                  "properties": {},
                  "start": "BKK",
                  "styles": {},
                  "thickness_factor": 1
                },
                {
                  "color": "#15AFAC",
                  "directed": false,
                  "end": "KUL",
                  "label": "",
                  "properties": {},
                  "start": "SIN",
                  "styles": {},
                  "thickness_factor": 1
                },
                {
                  "color": "#15AFAC",
                  "directed": false,
                  "end": "BKK",
                  "label": "",
                  "properties": {},
                  "start": "SIN",
                  "styles": {},
                  "thickness_factor": 1
                },
                {
                  "color": "#15AFAC",
                  "directed": false,
                  "end": "SIN",
                  "label": "",
                  "properties": {},
                  "start": "CGK",
                  "styles": {},
                  "thickness_factor": 1
                },
                {
                  "color": "#15AFAC",
                  "directed": false,
                  "end": "SIN",
                  "label": "",
                  "properties": {},
                  "start": "MNL",
                  "styles": {},
                  "thickness_factor": 1
                },
                {
                  "color": "#15AFAC",
                  "directed": false,
                  "end": "SYD",
                  "label": "",
                  "properties": {},
                  "start": "SIN",
                  "styles": {},
                  "thickness_factor": 1
                },
                {
                  "color": "#15AFAC",
                  "directed": false,
                  "end": "SYD",
                  "label": "",
                  "properties": {},
                  "start": "BNE",
                  "styles": {},
                  "thickness_factor": 1
                },
                {
                  "color": "#15AFAC",
                  "directed": false,
                  "end": "MEL",
                  "label": "",
                  "properties": {},
                  "start": "SYD",
                  "styles": {},
                  "thickness_factor": 1
                },
                {
                  "color": "#15AFAC",
                  "directed": false,
                  "end": "SYD",
                  "label": "",
                  "properties": {},
                  "start": "NAN",
                  "styles": {},
                  "thickness_factor": 1
                },
                {
                  "color": "#15AFAC",
                  "directed": false,
                  "end": "SYD",
                  "label": "",
                  "properties": {},
                  "start": "AKL",
                  "styles": {},
                  "thickness_factor": 1
                },
                {
                  "color": "#15AFAC",
                  "directed": false,
                  "end": "AKL",
                  "label": "",
                  "properties": {},
                  "start": "NAN",
                  "styles": {},
                  "thickness_factor": 1
                },
                {
                  "color": "#15AFAC",
                  "directed": false,
                  "end": "LHR",
                  "label": "",
                  "properties": {},
                  "start": "RKV",
                  "styles": {},
                  "thickness_factor": 1
                },
                {
                  "color": "#15AFAC",
                  "directed": false,
                  "end": "CDG",
                  "label": "",
                  "properties": {},
                  "start": "BCN",
                  "styles": {},
                  "thickness_factor": 1
                },
                {
                  "color": "#15AFAC",
                  "directed": false,
                  "end": "FRA",
                  "label": "",
                  "properties": {},
                  "start": "BCN",
                  "styles": {},
                  "thickness_factor": 1
                },
                {
                  "color": "#15AFAC",
                  "directed": false,
                  "end": "FRA",
                  "label": "",
                  "properties": {},
                  "start": "FCO",
                  "styles": {},
                  "thickness_factor": 1
                },
                {
                  "color": "#15AFAC",
                  "directed": false,
                  "end": "MEX",
                  "label": "",
                  "properties": {},
                  "start": "BOG",
                  "styles": {},
                  "thickness_factor": 1
                },
                {
                  "color": "#15AFAC",
                  "directed": false,
                  "end": "GRU",
                  "label": "",
                  "properties": {},
                  "start": "BOG",
                  "styles": {},
                  "thickness_factor": 1
                },
                {
                  "color": "#15AFAC",
                  "directed": false,
                  "end": "MIA",
                  "label": "",
                  "properties": {},
                  "start": "ATL",
                  "styles": {},
                  "thickness_factor": 1
                },
                {
                  "color": "#15AFAC",
                  "directed": false,
                  "end": "IST",
                  "label": "",
                  "properties": {},
                  "start": "FRA",
                  "styles": {},
                  "thickness_factor": 1
                },
                {
                  "color": "#15AFAC",
                  "directed": false,
                  "end": "DEL",
                  "label": "",
                  "properties": {},
                  "start": "IST",
                  "styles": {},
                  "thickness_factor": 1
                },
                {
                  "color": "#15AFAC",
                  "directed": false,
                  "end": "BKK",
                  "label": "",
                  "properties": {},
                  "start": "PVG",
                  "styles": {},
                  "thickness_factor": 1
                },
                {
                  "color": "#15AFAC",
                  "directed": false,
                  "end": "BKK",
                  "label": "",
                  "properties": {},
                  "start": "DEL",
                  "styles": {},
                  "thickness_factor": 1
                }
              ],
              "_graph_layout": {
                "algorithm": "map",
                "options": {}
              },
              "_model_module_version": "^1.10.2",
              "_nodes": [
                {
                  "color": "#15AFAC",
                  "coordinates": [
                    33.942536,
                    -118.408075
                  ],
                  "id": "LAX",
                  "label": "Los Angeles",
                  "position": [
                    0,
                    0
                  ],
                  "properties": {
                    "country": "USA",
                    "country_id": "us",
                    "label": "Los Angeles",
                    "passengers": 65000000
                  },
                  "scale_factor": 1,
                  "size": [
                    55,
                    55
                  ],
                  "styles": {},
                  "type": "#15AFAC"
                },
                {
                  "color": "#15AFAC",
                  "coordinates": [
                    -22.808903,
                    -43.243647
                  ],
                  "id": "GIG",
                  "label": "Rio de Janeiro",
                  "position": [
                    0,
                    0
                  ],
                  "properties": {
                    "country": "Brazil",
                    "country_id": "br",
                    "label": "Rio de Janeiro",
                    "passengers": 5000000
                  },
                  "scale_factor": 1,
                  "size": [
                    55,
                    55
                  ],
                  "styles": {},
                  "type": "#15AFAC"
                },
                {
                  "color": "#15AFAC",
                  "coordinates": [
                    -12.021889,
                    -77.114319
                  ],
                  "id": "LIM",
                  "label": "Lima",
                  "position": [
                    0,
                    0
                  ],
                  "properties": {
                    "country": "Peru",
                    "country_id": "pe",
                    "label": "Lima",
                    "passengers": 18000000
                  },
                  "scale_factor": 1,
                  "size": [
                    55,
                    55
                  ],
                  "styles": {},
                  "type": "#15AFAC"
                },
                {
                  "color": "#15AFAC",
                  "coordinates": [
                    51.4775,
                    -0.461389
                  ],
                  "id": "LHR",
                  "label": "London",
                  "position": [
                    0,
                    0
                  ],
                  "properties": {
                    "country": "UK",
                    "country_id": "gb",
                    "label": "London",
                    "passengers": 61000000
                  },
                  "scale_factor": 1,
                  "size": [
                    55,
                    55
                  ],
                  "styles": {},
                  "type": "#15AFAC"
                },
                {
                  "color": "#15AFAC",
                  "coordinates": [
                    50.033333,
                    8.570556
                  ],
                  "id": "FRA",
                  "label": "Frankfurt",
                  "position": [
                    0,
                    0
                  ],
                  "properties": {
                    "country": "Germany",
                    "country_id": "de",
                    "label": "Frankfurt",
                    "passengers": 48000000
                  },
                  "scale_factor": 1,
                  "size": [
                    55,
                    55
                  ],
                  "styles": {},
                  "type": "#15AFAC"
                },
                {
                  "color": "#15AFAC",
                  "coordinates": [
                    55.972642,
                    37.414589
                  ],
                  "id": "SVO",
                  "label": "Moscow",
                  "position": [
                    0,
                    0
                  ],
                  "properties": {
                    "country": "Russia",
                    "country_id": "ru",
                    "label": "Moscow",
                    "passengers": 49000000
                  },
                  "scale_factor": 1,
                  "size": [
                    55,
                    55
                  ],
                  "styles": {},
                  "type": "#15AFAC"
                },
                {
                  "color": "#15AFAC",
                  "coordinates": [
                    28.5665,
                    77.103089
                  ],
                  "id": "DEL",
                  "label": "New Delhi",
                  "position": [
                    0,
                    0
                  ],
                  "properties": {
                    "country": "India",
                    "country_id": "in",
                    "label": "New Delhi",
                    "passengers": 39000000
                  },
                  "scale_factor": 1,
                  "size": [
                    55,
                    55
                  ],
                  "styles": {},
                  "type": "#15AFAC"
                },
                {
                  "color": "#15AFAC",
                  "coordinates": [
                    31.143378,
                    121.805214
                  ],
                  "id": "PVG",
                  "label": "Shanghai",
                  "position": [
                    0,
                    0
                  ],
                  "properties": {
                    "country": "China",
                    "country_id": "hk",
                    "label": "Shanghai",
                    "passengers": 32000000
                  },
                  "scale_factor": 1,
                  "size": [
                    55,
                    55
                  ],
                  "styles": {},
                  "type": "#15AFAC"
                },
                {
                  "color": "#15AFAC",
                  "coordinates": [
                    22.308919,
                    113.914603
                  ],
                  "id": "HKG",
                  "label": "Hongkong",
                  "position": [
                    0,
                    0
                  ],
                  "properties": {
                    "country": "China",
                    "country_id": "hk",
                    "label": "Hongkong",
                    "passengers": 1000000
                  },
                  "scale_factor": 1,
                  "size": [
                    55,
                    55
                  ],
                  "styles": {},
                  "type": "#15AFAC"
                },
                {
                  "color": "#15AFAC",
                  "coordinates": [
                    35.764722,
                    140.386389
                  ],
                  "id": "NRT",
                  "label": "Tokio",
                  "position": [
                    0,
                    0
                  ],
                  "properties": {
                    "country": "Japan",
                    "country_id": "jp",
                    "label": "Tokio",
                    "passengers": 15000000
                  },
                  "scale_factor": 1,
                  "size": [
                    55,
                    55
                  ],
                  "styles": {},
                  "type": "#15AFAC"
                },
                {
                  "color": "#15AFAC",
                  "coordinates": [
                    25.252778,
                    55.364444
                  ],
                  "id": "DXB",
                  "label": "Dubai",
                  "position": [
                    0,
                    0
                  ],
                  "properties": {
                    "country": "UAE",
                    "country_id": "ae",
                    "label": "Dubai",
                    "passengers": 29000000
                  },
                  "scale_factor": 1,
                  "size": [
                    55,
                    55
                  ],
                  "styles": {},
                  "type": "#15AFAC"
                },
                {
                  "color": "#15AFAC",
                  "coordinates": [
                    14.670833,
                    -17.072778
                  ],
                  "id": "DKR",
                  "label": "Dakar",
                  "position": [
                    0,
                    0
                  ],
                  "properties": {
                    "country": "Senegal",
                    "country_id": "sn",
                    "label": "Dakar",
                    "passengers": 2000000
                  },
                  "scale_factor": 1,
                  "size": [
                    55,
                    55
                  ],
                  "styles": {},
                  "type": "#15AFAC"
                },
                {
                  "color": "#15AFAC",
                  "coordinates": [
                    -26.133694,
                    28.242317
                  ],
                  "id": "JNB",
                  "label": "Johannesburg",
                  "position": [
                    0,
                    0
                  ],
                  "properties": {
                    "country": "South Africa",
                    "country_id": "za",
                    "label": "Johannesburg",
                    "passengers": 9000000
                  },
                  "scale_factor": 1,
                  "size": [
                    55,
                    55
                  ],
                  "styles": {},
                  "type": "#15AFAC"
                },
                {
                  "color": "#15AFAC",
                  "coordinates": [
                    -33.946111,
                    151.177222
                  ],
                  "id": "SYD",
                  "label": "Sydney",
                  "position": [
                    0,
                    0
                  ],
                  "properties": {
                    "country": "Australia",
                    "country_id": "au",
                    "label": "Sydney",
                    "passengers": 44000000
                  },
                  "scale_factor": 1,
                  "size": [
                    55,
                    55
                  ],
                  "styles": {},
                  "type": "#15AFAC"
                },
                {
                  "color": "#15AFAC",
                  "coordinates": [
                    -1.319167,
                    36.927778
                  ],
                  "id": "NBO",
                  "label": "Nairobi",
                  "position": [
                    0,
                    0
                  ],
                  "properties": {
                    "country": "Kenya",
                    "country_id": "ke",
                    "label": "Nairobi",
                    "passengers": 900000
                  },
                  "scale_factor": 1,
                  "size": [
                    55,
                    55
                  ],
                  "styles": {},
                  "type": "#15AFAC"
                },
                {
                  "color": "#15AFAC",
                  "coordinates": [
                    33.639167,
                    -84.427778
                  ],
                  "id": "ATL",
                  "label": "Atlanta",
                  "position": [
                    0,
                    0
                  ],
                  "properties": {
                    "country": "USA",
                    "country_id": "us",
                    "label": "Atlanta",
                    "passengers": 93000000
                  },
                  "scale_factor": 1,
                  "size": [
                    55,
                    55
                  ],
                  "styles": {},
                  "type": "#15AFAC"
                },
                {
                  "color": "#15AFAC",
                  "coordinates": [
                    40.63975,
                    -73.778925
                  ],
                  "id": "JFK",
                  "label": "New York City",
                  "position": [
                    0,
                    0
                  ],
                  "properties": {
                    "country": "USA",
                    "country_id": "us",
                    "label": "New York City",
                    "passengers": 55000000
                  },
                  "scale_factor": 1,
                  "size": [
                    55,
                    55
                  ],
                  "styles": {},
                  "type": "#15AFAC"
                },
                {
                  "color": "#15AFAC",
                  "coordinates": [
                    30.121944,
                    31.405556
                  ],
                  "id": "CAI",
                  "label": "Cairo",
                  "position": [
                    0,
                    0
                  ],
                  "properties": {
                    "country": "Egypt",
                    "country_id": "eg",
                    "label": "Cairo",
                    "passengers": 14000000
                  },
                  "scale_factor": 1,
                  "size": [
                    55,
                    55
                  ],
                  "styles": {},
                  "type": "#15AFAC"
                },
                {
                  "color": "#15AFAC",
                  "coordinates": [
                    33.367467,
                    -7.589967
                  ],
                  "id": "CMN",
                  "label": "Casablanca",
                  "position": [
                    0,
                    0
                  ],
                  "properties": {
                    "country": "Morocco",
                    "country_id": "ma",
                    "label": "Casablanca",
                    "passengers": 7000000
                  },
                  "scale_factor": 1,
                  "size": [
                    55,
                    55
                  ],
                  "styles": {},
                  "type": "#15AFAC"
                },
                {
                  "color": "#15AFAC",
                  "coordinates": [
                    6.577222,
                    3.321111
                  ],
                  "id": "LOS",
                  "label": "Lagos",
                  "position": [
                    0,
                    0
                  ],
                  "properties": {
                    "country": "Nigeria",
                    "country_id": "ng",
                    "label": "Lagos",
                    "passengers": 5000000
                  },
                  "scale_factor": 1,
                  "size": [
                    55,
                    55
                  ],
                  "styles": {},
                  "type": "#15AFAC"
                },
                {
                  "color": "#15AFAC",
                  "coordinates": [
                    -33.969444,
                    18.597222
                  ],
                  "id": "CPT",
                  "label": "Cape Town",
                  "position": [
                    0,
                    0
                  ],
                  "properties": {
                    "country": "South Africa",
                    "country_id": "za",
                    "label": "Cape Town",
                    "passengers": 5000000
                  },
                  "scale_factor": 1,
                  "size": [
                    55,
                    55
                  ],
                  "styles": {},
                  "type": "#15AFAC"
                },
                {
                  "color": "#15AFAC",
                  "coordinates": [
                    30.578333,
                    103.946944
                  ],
                  "id": "CTU",
                  "label": "Chengdu",
                  "position": [
                    0,
                    0
                  ],
                  "properties": {
                    "country": "China",
                    "country_id": "hk",
                    "label": "Chengdu",
                    "passengers": 40000000
                  },
                  "scale_factor": 1,
                  "size": [
                    55,
                    55
                  ],
                  "styles": {},
                  "type": "#15AFAC"
                },
                {
                  "color": "#15AFAC",
                  "coordinates": [
                    -6.125567,
                    106.655897
                  ],
                  "id": "CGK",
                  "label": "Jakarta",
                  "position": [
                    0,
                    0
                  ],
                  "properties": {
                    "country": "Indonesia",
                    "country_id": "id",
                    "label": "Jakarta",
                    "passengers": 54000000
                  },
                  "scale_factor": 1,
                  "size": [
                    55,
                    55
                  ],
                  "styles": {},
                  "type": "#15AFAC"
                },
                {
                  "color": "#15AFAC",
                  "coordinates": [
                    35.416111,
                    51.152222
                  ],
                  "id": "IKA",
                  "label": "Teheran",
                  "position": [
                    0,
                    0
                  ],
                  "properties": {
                    "country": "Iran",
                    "country_id": "ir",
                    "label": "Teheran",
                    "passengers": 8000000
                  },
                  "scale_factor": 1,
                  "size": [
                    55,
                    55
                  ],
                  "styles": {},
                  "type": "#15AFAC"
                },
                {
                  "color": "#15AFAC",
                  "coordinates": [
                    32.011389,
                    34.886667
                  ],
                  "id": "TLV",
                  "label": "Tel Aviv",
                  "position": [
                    0,
                    0
                  ],
                  "properties": {
                    "country": "Israel",
                    "country_id": "il",
                    "label": "Tel Aviv",
                    "passengers": 20000000
                  },
                  "scale_factor": 1,
                  "size": [
                    55,
                    55
                  ],
                  "styles": {},
                  "type": "#15AFAC"
                },
                {
                  "color": "#15AFAC",
                  "coordinates": [
                    2.745578,
                    101.709917
                  ],
                  "id": "KUL",
                  "label": "Kuala Lumpur",
                  "position": [
                    0,
                    0
                  ],
                  "properties": {
                    "country": "Malaysia",
                    "country_id": "my",
                    "label": "Kuala Lumpur",
                    "passengers": 25000000
                  },
                  "scale_factor": 1,
                  "size": [
                    55,
                    55
                  ],
                  "styles": {},
                  "type": "#15AFAC"
                },
                {
                  "color": "#15AFAC",
                  "coordinates": [
                    14.508647,
                    121.019581
                  ],
                  "id": "MNL",
                  "label": "Manila",
                  "position": [
                    0,
                    0
                  ],
                  "properties": {
                    "country": "Philippines",
                    "country_id": "ph",
                    "label": "Manila",
                    "passengers": 8000000
                  },
                  "scale_factor": 1,
                  "size": [
                    55,
                    55
                  ],
                  "styles": {},
                  "type": "#15AFAC"
                },
                {
                  "color": "#15AFAC",
                  "coordinates": [
                    1.350189,
                    103.994433
                  ],
                  "id": "SIN",
                  "label": "Singapur",
                  "position": [
                    0,
                    0
                  ],
                  "properties": {
                    "country": "Singapore",
                    "country_id": "sg",
                    "label": "Singapur",
                    "passengers": 32000000
                  },
                  "scale_factor": 1,
                  "size": [
                    55,
                    55
                  ],
                  "styles": {},
                  "type": "#15AFAC"
                },
                {
                  "color": "#15AFAC",
                  "coordinates": [
                    25.077732,
                    121.232822
                  ],
                  "id": "TPE",
                  "label": "Taipeh",
                  "position": [
                    0,
                    0
                  ],
                  "properties": {
                    "country": "Taiwan",
                    "country_id": "tw",
                    "label": "Taipeh",
                    "passengers": 800000
                  },
                  "scale_factor": 1,
                  "size": [
                    55,
                    55
                  ],
                  "styles": {},
                  "type": "#15AFAC"
                },
                {
                  "color": "#15AFAC",
                  "coordinates": [
                    13.681108,
                    100.747283
                  ],
                  "id": "BKK",
                  "label": "Bangkok",
                  "position": [
                    0,
                    0
                  ],
                  "properties": {
                    "country": "Thailand",
                    "country_id": "th",
                    "label": "Bangkok",
                    "passengers": 65000000
                  },
                  "scale_factor": 1,
                  "size": [
                    55,
                    55
                  ],
                  "styles": {},
                  "type": "#15AFAC"
                },
                {
                  "color": "#15AFAC",
                  "coordinates": [
                    40.976922,
                    28.814606
                  ],
                  "id": "IST",
                  "label": "Istanbul",
                  "position": [
                    0,
                    0
                  ],
                  "properties": {
                    "country": "Turkey",
                    "country_id": "tr",
                    "label": "Istanbul",
                    "passengers": 64000000
                  },
                  "scale_factor": 1,
                  "size": [
                    55,
                    55
                  ],
                  "styles": {},
                  "type": "#15AFAC"
                },
                {
                  "color": "#15AFAC",
                  "coordinates": [
                    47.843056,
                    106.766639
                  ],
                  "id": "ULN",
                  "label": "Ulaanbaatar",
                  "position": [
                    0,
                    0
                  ],
                  "properties": {
                    "country": "Mongolia",
                    "country_id": "mn",
                    "label": "Ulaanbaatar",
                    "passengers": 1000000
                  },
                  "scale_factor": 1,
                  "size": [
                    55,
                    55
                  ],
                  "styles": {},
                  "type": "#15AFAC"
                },
                {
                  "color": "#15AFAC",
                  "coordinates": [
                    -37.673333,
                    144.843333
                  ],
                  "id": "MEL",
                  "label": "Melbourne",
                  "position": [
                    0,
                    0
                  ],
                  "properties": {
                    "country": "Australia",
                    "country_id": "au",
                    "label": "Melbourne",
                    "passengers": 12000000
                  },
                  "scale_factor": 1,
                  "size": [
                    55,
                    55
                  ],
                  "styles": {},
                  "type": "#15AFAC"
                },
                {
                  "color": "#15AFAC",
                  "coordinates": [
                    -27.383333,
                    153.118056
                  ],
                  "id": "BNE",
                  "label": "Brisbane",
                  "position": [
                    0,
                    0
                  ],
                  "properties": {
                    "country": "Australia",
                    "country_id": "au",
                    "label": "Brisbane",
                    "passengers": 23000000
                  },
                  "scale_factor": 1,
                  "size": [
                    55,
                    55
                  ],
                  "styles": {},
                  "type": "#15AFAC"
                },
                {
                  "color": "#15AFAC",
                  "coordinates": [
                    -17.755392,
                    177.443378
                  ],
                  "id": "NAN",
                  "label": "Nadi",
                  "position": [
                    0,
                    0
                  ],
                  "properties": {
                    "country": "Fiji",
                    "country_id": "fj",
                    "label": "Nadi",
                    "passengers": 2000000
                  },
                  "scale_factor": 1,
                  "size": [
                    55,
                    55
                  ],
                  "styles": {},
                  "type": "#15AFAC"
                },
                {
                  "color": "#15AFAC",
                  "coordinates": [
                    -37.008056,
                    174.791667
                  ],
                  "id": "AKL",
                  "label": "Auckland",
                  "position": [
                    0,
                    0
                  ],
                  "properties": {
                    "country": "New Zealand",
                    "country_id": "nz",
                    "label": "Auckland",
                    "passengers": 21000000
                  },
                  "scale_factor": 1,
                  "size": [
                    55,
                    55
                  ],
                  "styles": {},
                  "type": "#15AFAC"
                },
                {
                  "color": "#15AFAC",
                  "coordinates": [
                    49.009722,
                    2.547778
                  ],
                  "id": "CDG",
                  "label": "Paris",
                  "position": [
                    0,
                    0
                  ],
                  "properties": {
                    "country": "France",
                    "country_id": "fr",
                    "label": "Paris",
                    "passengers": 57000000
                  },
                  "scale_factor": 1,
                  "size": [
                    55,
                    55
                  ],
                  "styles": {},
                  "type": "#15AFAC"
                },
                {
                  "color": "#15AFAC",
                  "coordinates": [
                    40.4675,
                    -3.551944
                  ],
                  "id": "MAD",
                  "label": "Madrid",
                  "position": [
                    0,
                    0
                  ],
                  "properties": {
                    "country": "Spain",
                    "country_id": "es",
                    "label": "Madrid",
                    "passengers": 50000000
                  },
                  "scale_factor": 1,
                  "size": [
                    55,
                    55
                  ],
                  "styles": {},
                  "type": "#15AFAC"
                },
                {
                  "color": "#15AFAC",
                  "coordinates": [
                    41.297078,
                    2.078464
                  ],
                  "id": "BCN",
                  "label": "Barcelona",
                  "position": [
                    0,
                    0
                  ],
                  "properties": {
                    "country": "Spain",
                    "country_id": "es",
                    "label": "Barcelona",
                    "passengers": 41000000
                  },
                  "scale_factor": 1,
                  "size": [
                    55,
                    55
                  ],
                  "styles": {},
                  "type": "#15AFAC"
                },
                {
                  "color": "#15AFAC",
                  "coordinates": [
                    41.804444,
                    12.250833
                  ],
                  "id": "FCO",
                  "label": "Rome",
                  "position": [
                    0,
                    0
                  ],
                  "properties": {
                    "country": "Italy",
                    "country_id": "it",
                    "label": "Rome",
                    "passengers": 29000000
                  },
                  "scale_factor": 1,
                  "size": [
                    55,
                    55
                  ],
                  "styles": {},
                  "type": "#15AFAC"
                },
                {
                  "color": "#15AFAC",
                  "coordinates": [
                    55.617917,
                    12.655972
                  ],
                  "id": "CPH",
                  "label": "Copenhagen",
                  "position": [
                    0,
                    0
                  ],
                  "properties": {
                    "country": "Denmark",
                    "country_id": "dk",
                    "label": "Copenhagen",
                    "passengers": 30000000
                  },
                  "scale_factor": 1,
                  "size": [
                    55,
                    55
                  ],
                  "styles": {},
                  "type": "#15AFAC"
                },
                {
                  "color": "#15AFAC",
                  "coordinates": [
                    60.317222,
                    24.963333
                  ],
                  "id": "HEL",
                  "label": "Helsinki",
                  "position": [
                    0,
                    0
                  ],
                  "properties": {
                    "country": "Finland",
                    "country_id": "fi",
                    "label": "Helsinki",
                    "passengers": 5000000
                  },
                  "scale_factor": 1,
                  "size": [
                    55,
                    55
                  ],
                  "styles": {},
                  "type": "#15AFAC"
                },
                {
                  "color": "#15AFAC",
                  "coordinates": [
                    37.936358,
                    23.944467
                  ],
                  "id": "ATH",
                  "label": "Athens",
                  "position": [
                    0,
                    0
                  ],
                  "properties": {
                    "country": "Greece",
                    "country_id": "gr",
                    "label": "Athens",
                    "passengers": 22000000
                  },
                  "scale_factor": 1,
                  "size": [
                    55,
                    55
                  ],
                  "styles": {},
                  "type": "#15AFAC"
                },
                {
                  "color": "#15AFAC",
                  "coordinates": [
                    53.421333,
                    -6.270075
                  ],
                  "id": "DUB",
                  "label": "Dublin",
                  "position": [
                    0,
                    0
                  ],
                  "properties": {
                    "country": "Ireland",
                    "country_id": "ie",
                    "label": "Dublin",
                    "passengers": 32000000
                  },
                  "scale_factor": 1,
                  "size": [
                    55,
                    55
                  ],
                  "styles": {},
                  "type": "#15AFAC"
                },
                {
                  "color": "#15AFAC",
                  "coordinates": [
                    64.13,
                    -21.940556
                  ],
                  "id": "RKV",
                  "label": "Reykjavik",
                  "position": [
                    0,
                    0
                  ],
                  "properties": {
                    "country": "Iceland",
                    "country_id": "is",
                    "label": "Reykjavik",
                    "passengers": 400000
                  },
                  "scale_factor": 1,
                  "size": [
                    55,
                    55
                  ],
                  "styles": {},
                  "type": "#15AFAC"
                },
                {
                  "color": "#15AFAC",
                  "coordinates": [
                    60.193917,
                    11.100361
                  ],
                  "id": "OSL",
                  "label": "Oslo",
                  "position": [
                    0,
                    0
                  ],
                  "properties": {
                    "country": "Norway",
                    "country_id": "no",
                    "label": "Oslo",
                    "passengers": 9000000
                  },
                  "scale_factor": 1,
                  "size": [
                    55,
                    55
                  ],
                  "styles": {},
                  "type": "#15AFAC"
                },
                {
                  "color": "#15AFAC",
                  "coordinates": [
                    48.110833,
                    16.570833
                  ],
                  "id": "VIE",
                  "label": "Vienna",
                  "position": [
                    0,
                    0
                  ],
                  "properties": {
                    "country": "Austria",
                    "country_id": "at",
                    "label": "Vienna",
                    "passengers": 10000000
                  },
                  "scale_factor": 1,
                  "size": [
                    55,
                    55
                  ],
                  "styles": {},
                  "type": "#15AFAC"
                },
                {
                  "color": "#15AFAC",
                  "coordinates": [
                    38.774167,
                    -9.134167
                  ],
                  "id": "LIS",
                  "label": "Lisbon",
                  "position": [
                    0,
                    0
                  ],
                  "properties": {
                    "country": "Portugal",
                    "country_id": "pt",
                    "label": "Lisbon",
                    "passengers": 28000000
                  },
                  "scale_factor": 1,
                  "size": [
                    55,
                    55
                  ],
                  "styles": {},
                  "type": "#15AFAC"
                },
                {
                  "color": "#15AFAC",
                  "coordinates": [
                    59.651944,
                    17.918611
                  ],
                  "id": "ARN",
                  "label": "Stockholm",
                  "position": [
                    0,
                    0
                  ],
                  "properties": {
                    "country": "Sweden",
                    "country_id": "se",
                    "label": "Stockholm",
                    "passengers": 7000000
                  },
                  "scale_factor": 1,
                  "size": [
                    55,
                    55
                  ],
                  "styles": {},
                  "type": "#15AFAC"
                },
                {
                  "color": "#15AFAC",
                  "coordinates": [
                    55.95,
                    -3.3725
                  ],
                  "id": "EDI",
                  "label": "Edinburgh",
                  "position": [
                    0,
                    0
                  ],
                  "properties": {
                    "country": "UK",
                    "country_id": "gb",
                    "label": "Edinburgh",
                    "passengers": 14000000
                  },
                  "scale_factor": 1,
                  "size": [
                    55,
                    55
                  ],
                  "styles": {},
                  "type": "#15AFAC"
                },
                {
                  "color": "#15AFAC",
                  "coordinates": [
                    41.978603,
                    -87.904842
                  ],
                  "id": "ORD",
                  "label": "Chicago",
                  "position": [
                    0,
                    0
                  ],
                  "properties": {
                    "country": "USA",
                    "country_id": "us",
                    "label": "Chicago",
                    "passengers": 54000000
                  },
                  "scale_factor": 1,
                  "size": [
                    55,
                    55
                  ],
                  "styles": {},
                  "type": "#15AFAC"
                },
                {
                  "color": "#15AFAC",
                  "coordinates": [
                    32.896828,
                    -97.037997
                  ],
                  "id": "DFW",
                  "label": "Dallas",
                  "position": [
                    0,
                    0
                  ],
                  "properties": {
                    "country": "USA",
                    "country_id": "us",
                    "label": "Dallas",
                    "passengers": 73000000
                  },
                  "scale_factor": 1,
                  "size": [
                    55,
                    55
                  ],
                  "styles": {},
                  "type": "#15AFAC"
                },
                {
                  "color": "#15AFAC",
                  "coordinates": [
                    37.618972,
                    -122.374889
                  ],
                  "id": "SFO",
                  "label": "San Francisco",
                  "position": [
                    0,
                    0
                  ],
                  "properties": {
                    "country": "USA",
                    "country_id": "us",
                    "label": "San Francisco",
                    "passengers": 42000000
                  },
                  "scale_factor": 1,
                  "size": [
                    55,
                    55
                  ],
                  "styles": {},
                  "type": "#15AFAC"
                },
                {
                  "color": "#15AFAC",
                  "coordinates": [
                    36.080056,
                    -115.15225
                  ],
                  "id": "LAS",
                  "label": "Las Vegas",
                  "position": [
                    0,
                    0
                  ],
                  "properties": {
                    "country": "USA",
                    "country_id": "us",
                    "label": "Las Vegas",
                    "passengers": 52000000
                  },
                  "scale_factor": 1,
                  "size": [
                    55,
                    55
                  ],
                  "styles": {},
                  "type": "#15AFAC"
                },
                {
                  "color": "#15AFAC",
                  "coordinates": [
                    25.79325,
                    -80.290556
                  ],
                  "id": "MIA",
                  "label": "Miami",
                  "position": [
                    0,
                    0
                  ],
                  "properties": {
                    "country": "USA",
                    "country_id": "us",
                    "label": "Miami",
                    "passengers": 50000000
                  },
                  "scale_factor": 1,
                  "size": [
                    55,
                    55
                  ],
                  "styles": {},
                  "type": "#15AFAC"
                },
                {
                  "color": "#15AFAC",
                  "coordinates": [
                    43.677222,
                    -79.630556
                  ],
                  "id": "YYZ",
                  "label": "Toronto",
                  "position": [
                    0,
                    0
                  ],
                  "properties": {
                    "country": "Canada",
                    "country_id": "ca",
                    "label": "Toronto",
                    "passengers": 12000000
                  },
                  "scale_factor": 1,
                  "size": [
                    55,
                    55
                  ],
                  "styles": {},
                  "type": "#15AFAC"
                },
                {
                  "color": "#15AFAC",
                  "coordinates": [
                    49.193889,
                    -123.184444
                  ],
                  "id": "YVR",
                  "label": "Vancouver",
                  "position": [
                    0,
                    0
                  ],
                  "properties": {
                    "country": "Canada",
                    "country_id": "ca",
                    "label": "Vancouver",
                    "passengers": 19000000
                  },
                  "scale_factor": 1,
                  "size": [
                    55,
                    55
                  ],
                  "styles": {},
                  "type": "#15AFAC"
                },
                {
                  "color": "#15AFAC",
                  "coordinates": [
                    45.47175,
                    -73.736569
                  ],
                  "id": "YUL",
                  "label": "Montreal",
                  "position": [
                    0,
                    0
                  ],
                  "properties": {
                    "country": "Canada",
                    "country_id": "ca",
                    "label": "Montreal",
                    "passengers": 15000000
                  },
                  "scale_factor": 1,
                  "size": [
                    55,
                    55
                  ],
                  "styles": {},
                  "type": "#15AFAC"
                },
                {
                  "color": "#15AFAC",
                  "coordinates": [
                    19.436303,
                    -99.072097
                  ],
                  "id": "MEX",
                  "label": "Mexico-City",
                  "position": [
                    0,
                    0
                  ],
                  "properties": {
                    "country": "Mexico",
                    "country_id": "mx",
                    "label": "Mexico-City",
                    "passengers": 46000000
                  },
                  "scale_factor": 1,
                  "size": [
                    55,
                    55
                  ],
                  "styles": {},
                  "type": "#15AFAC"
                },
                {
                  "color": "#15AFAC",
                  "coordinates": [
                    14.583272,
                    -90.527475
                  ],
                  "id": "GUA",
                  "label": "Guatemala-City",
                  "position": [
                    0,
                    0
                  ],
                  "properties": {
                    "country": "Guatemala",
                    "country_id": "gt",
                    "label": "Guatemala-City",
                    "passengers": 2000000
                  },
                  "scale_factor": 1,
                  "size": [
                    55,
                    55
                  ],
                  "styles": {},
                  "type": "#15AFAC"
                },
                {
                  "color": "#15AFAC",
                  "coordinates": [
                    -34.822222,
                    -58.535833
                  ],
                  "id": "EZE",
                  "label": "Buenos Aires",
                  "position": [
                    0,
                    0
                  ],
                  "properties": {
                    "country": "Argentina",
                    "country_id": "ar",
                    "label": "Buenos Aires",
                    "passengers": 5000000
                  },
                  "scale_factor": 1,
                  "size": [
                    55,
                    55
                  ],
                  "styles": {},
                  "type": "#15AFAC"
                },
                {
                  "color": "#15AFAC",
                  "coordinates": [
                    -23.432075,
                    -46.469511
                  ],
                  "id": "GRU",
                  "label": "Sao Paulo",
                  "position": [
                    0,
                    0
                  ],
                  "properties": {
                    "country": "Brazil",
                    "country_id": "br",
                    "label": "Sao Paulo",
                    "passengers": 34000000
                  },
                  "scale_factor": 1,
                  "size": [
                    55,
                    55
                  ],
                  "styles": {},
                  "type": "#15AFAC"
                },
                {
                  "color": "#15AFAC",
                  "coordinates": [
                    -33.392975,
                    -70.785803
                  ],
                  "id": "SCL",
                  "label": "Santiago de Chile",
                  "position": [
                    0,
                    0
                  ],
                  "properties": {
                    "country": "Chile",
                    "country_id": "cl",
                    "label": "Santiago de Chile",
                    "passengers": 20000000
                  },
                  "scale_factor": 1,
                  "size": [
                    55,
                    55
                  ],
                  "styles": {},
                  "type": "#15AFAC"
                },
                {
                  "color": "#15AFAC",
                  "coordinates": [
                    -15.871111,
                    -47.918611
                  ],
                  "id": "BSB",
                  "label": "Brasilia",
                  "position": [
                    0,
                    0
                  ],
                  "properties": {
                    "country": "Brazil",
                    "country_id": "br",
                    "label": "Brasilia",
                    "passengers": 13000000
                  },
                  "scale_factor": 1,
                  "size": [
                    55,
                    55
                  ],
                  "styles": {},
                  "type": "#15AFAC"
                },
                {
                  "color": "#15AFAC",
                  "coordinates": [
                    4.701594,
                    -74.146947
                  ],
                  "id": "BOG",
                  "label": "Bogota",
                  "position": [
                    0,
                    0
                  ],
                  "properties": {
                    "country": "Colombia",
                    "country_id": "co",
                    "label": "Bogota",
                    "passengers": 36000000
                  },
                  "scale_factor": 1,
                  "size": [
                    55,
                    55
                  ],
                  "styles": {},
                  "type": "#15AFAC"
                },
                {
                  "color": "#15AFAC",
                  "coordinates": [
                    10.601194,
                    -66.991222
                  ],
                  "id": "CCS",
                  "label": "Caracas",
                  "position": [
                    0,
                    0
                  ],
                  "properties": {
                    "country": "Venezuela",
                    "country_id": "ve",
                    "label": "Caracas",
                    "passengers": 8000000
                  },
                  "scale_factor": 1,
                  "size": [
                    55,
                    55
                  ],
                  "styles": {},
                  "type": "#15AFAC"
                }
              ],
              "_overview": {
                "enabled": null,
                "overview_set": false
              },
              "_selected_graph": [
                [],
                []
              ],
              "_sidebar": {
                "enabled": false,
                "start_with": "About"
              },
              "_view_module_version": "^1.10.2",
              "layout": "IPY_MODEL_e84661d554bc4b40a06a63241f87fdf6"
            }
          },
          "7d7403586482496bab875dc6fa63f881": {
            "model_module": "@jupyter-widgets/base",
            "model_module_version": "2.0.0",
            "model_name": "LayoutModel",
            "state": {
              "height": "500px",
              "width": "100%"
            }
          },
          "8eee7961f5714cd49f47cdb9a4f3f026": {
            "model_module": "@jupyter-widgets/base",
            "model_module_version": "2.0.0",
            "model_name": "LayoutModel",
            "state": {
              "height": "800px",
              "width": "100%"
            }
          },
          "a54dc52708b249dd9d99d2f1c102a0e6": {
            "model_module": "yfiles-jupyter-graphs",
            "model_module_version": "^1.10.2",
            "model_name": "GraphModel",
            "state": {
              "_context_pane_mapping": [
                {
                  "id": "Neighborhood",
                  "title": "Neighborhood"
                },
                {
                  "id": "Data",
                  "title": "Data"
                },
                {
                  "id": "Search",
                  "title": "Search"
                },
                {
                  "id": "About",
                  "title": "About"
                }
              ],
              "_directed": false,
              "_edges": [
                {
                  "color": "#15AFAC",
                  "directed": false,
                  "end": "JFK",
                  "label": "",
                  "properties": {},
                  "start": "LAX",
                  "styles": {},
                  "thickness_factor": 1
                },
                {
                  "color": "#15AFAC",
                  "directed": false,
                  "end": "GIG",
                  "label": "",
                  "properties": {},
                  "start": "JFK",
                  "styles": {},
                  "thickness_factor": 1
                },
                {
                  "color": "#15AFAC",
                  "directed": false,
                  "end": "LIM",
                  "label": "",
                  "properties": {},
                  "start": "JFK",
                  "styles": {},
                  "thickness_factor": 1
                },
                {
                  "color": "#15AFAC",
                  "directed": false,
                  "end": "LHR",
                  "label": "",
                  "properties": {},
                  "start": "JFK",
                  "styles": {},
                  "thickness_factor": 1
                },
                {
                  "color": "#15AFAC",
                  "directed": false,
                  "end": "FRA",
                  "label": "",
                  "properties": {},
                  "start": "GIG",
                  "styles": {},
                  "thickness_factor": 1
                },
                {
                  "color": "#15AFAC",
                  "directed": false,
                  "end": "GIG",
                  "label": "",
                  "properties": {},
                  "start": "LIM",
                  "styles": {},
                  "thickness_factor": 1
                },
                {
                  "color": "#15AFAC",
                  "directed": false,
                  "end": "JFK",
                  "label": "",
                  "properties": {},
                  "start": "FRA",
                  "styles": {},
                  "thickness_factor": 1
                },
                {
                  "color": "#15AFAC",
                  "directed": false,
                  "end": "FRA",
                  "label": "",
                  "properties": {},
                  "start": "LHR",
                  "styles": {},
                  "thickness_factor": 1
                },
                {
                  "color": "#15AFAC",
                  "directed": false,
                  "end": "SVO",
                  "label": "",
                  "properties": {},
                  "start": "FRA",
                  "styles": {},
                  "thickness_factor": 1
                },
                {
                  "color": "#15AFAC",
                  "directed": false,
                  "end": "DXB",
                  "label": "",
                  "properties": {},
                  "start": "FRA",
                  "styles": {},
                  "thickness_factor": 1
                },
                {
                  "color": "#15AFAC",
                  "directed": false,
                  "end": "DEL",
                  "label": "",
                  "properties": {},
                  "start": "SVO",
                  "styles": {},
                  "thickness_factor": 1
                },
                {
                  "color": "#15AFAC",
                  "directed": false,
                  "end": "PVG",
                  "label": "",
                  "properties": {},
                  "start": "SVO",
                  "styles": {},
                  "thickness_factor": 1
                },
                {
                  "color": "#15AFAC",
                  "directed": false,
                  "end": "HKG",
                  "label": "",
                  "properties": {},
                  "start": "DEL",
                  "styles": {},
                  "thickness_factor": 1
                },
                {
                  "color": "#15AFAC",
                  "directed": false,
                  "end": "HKG",
                  "label": "",
                  "properties": {},
                  "start": "PVG",
                  "styles": {},
                  "thickness_factor": 1
                },
                {
                  "color": "#15AFAC",
                  "directed": false,
                  "end": "NRT",
                  "label": "",
                  "properties": {},
                  "start": "PVG",
                  "styles": {},
                  "thickness_factor": 1
                },
                {
                  "color": "#15AFAC",
                  "directed": false,
                  "end": "SYD",
                  "label": "",
                  "properties": {},
                  "start": "HKG",
                  "styles": {},
                  "thickness_factor": 1
                },
                {
                  "color": "#15AFAC",
                  "directed": false,
                  "end": "SYD",
                  "label": "",
                  "properties": {},
                  "start": "NRT",
                  "styles": {},
                  "thickness_factor": 1
                },
                {
                  "color": "#15AFAC",
                  "directed": false,
                  "end": "SVO",
                  "label": "",
                  "properties": {},
                  "start": "DXB",
                  "styles": {},
                  "thickness_factor": 1
                },
                {
                  "color": "#15AFAC",
                  "directed": false,
                  "end": "DEL",
                  "label": "",
                  "properties": {},
                  "start": "DXB",
                  "styles": {},
                  "thickness_factor": 1
                },
                {
                  "color": "#15AFAC",
                  "directed": false,
                  "end": "DKR",
                  "label": "",
                  "properties": {},
                  "start": "DXB",
                  "styles": {},
                  "thickness_factor": 1
                },
                {
                  "color": "#15AFAC",
                  "directed": false,
                  "end": "JNB",
                  "label": "",
                  "properties": {},
                  "start": "DXB",
                  "styles": {},
                  "thickness_factor": 1
                },
                {
                  "color": "#15AFAC",
                  "directed": false,
                  "end": "LHR",
                  "label": "",
                  "properties": {},
                  "start": "JNB",
                  "styles": {},
                  "thickness_factor": 1
                },
                {
                  "color": "#15AFAC",
                  "directed": false,
                  "end": "DKR",
                  "label": "",
                  "properties": {},
                  "start": "JNB",
                  "styles": {},
                  "thickness_factor": 1
                },
                {
                  "color": "#15AFAC",
                  "directed": false,
                  "end": "DXB",
                  "label": "",
                  "properties": {},
                  "start": "SYD",
                  "styles": {},
                  "thickness_factor": 1
                },
                {
                  "color": "#15AFAC",
                  "directed": false,
                  "end": "JNB",
                  "label": "",
                  "properties": {},
                  "start": "NBO",
                  "styles": {},
                  "thickness_factor": 1
                },
                {
                  "color": "#15AFAC",
                  "directed": false,
                  "end": "DXB",
                  "label": "",
                  "properties": {},
                  "start": "NBO",
                  "styles": {},
                  "thickness_factor": 1
                },
                {
                  "color": "#15AFAC",
                  "directed": false,
                  "end": "JFK",
                  "label": "",
                  "properties": {},
                  "start": "ATL",
                  "styles": {},
                  "thickness_factor": 1
                },
                {
                  "color": "#15AFAC",
                  "directed": false,
                  "end": "ATL",
                  "label": "",
                  "properties": {},
                  "start": "LAX",
                  "styles": {},
                  "thickness_factor": 1
                },
                {
                  "color": "#15AFAC",
                  "directed": false,
                  "end": "LHR",
                  "label": "",
                  "properties": {},
                  "start": "ATL",
                  "styles": {},
                  "thickness_factor": 1
                },
                {
                  "color": "#15AFAC",
                  "directed": false,
                  "end": "LIM",
                  "label": "",
                  "properties": {},
                  "start": "ATL",
                  "styles": {},
                  "thickness_factor": 1
                },
                {
                  "color": "#15AFAC",
                  "directed": false,
                  "end": "LIM",
                  "label": "",
                  "properties": {},
                  "start": "SCL",
                  "styles": {},
                  "thickness_factor": 1
                },
                {
                  "color": "#15AFAC",
                  "directed": false,
                  "end": "SCL",
                  "label": "",
                  "properties": {},
                  "start": "EZE",
                  "styles": {},
                  "thickness_factor": 1
                },
                {
                  "color": "#15AFAC",
                  "directed": false,
                  "end": "GRU",
                  "label": "",
                  "properties": {},
                  "start": "SCL",
                  "styles": {},
                  "thickness_factor": 1
                },
                {
                  "color": "#15AFAC",
                  "directed": false,
                  "end": "EZE",
                  "label": "",
                  "properties": {},
                  "start": "GIG",
                  "styles": {},
                  "thickness_factor": 1
                },
                {
                  "color": "#15AFAC",
                  "directed": false,
                  "end": "GRU",
                  "label": "",
                  "properties": {},
                  "start": "GIG",
                  "styles": {},
                  "thickness_factor": 1
                },
                {
                  "color": "#15AFAC",
                  "directed": false,
                  "end": "GIG",
                  "label": "",
                  "properties": {},
                  "start": "BSB",
                  "styles": {},
                  "thickness_factor": 1
                },
                {
                  "color": "#15AFAC",
                  "directed": false,
                  "end": "BSB",
                  "label": "",
                  "properties": {},
                  "start": "SCL",
                  "styles": {},
                  "thickness_factor": 1
                },
                {
                  "color": "#15AFAC",
                  "directed": false,
                  "end": "BSB",
                  "label": "",
                  "properties": {},
                  "start": "LIM",
                  "styles": {},
                  "thickness_factor": 1
                },
                {
                  "color": "#15AFAC",
                  "directed": false,
                  "end": "BSB",
                  "label": "",
                  "properties": {},
                  "start": "BOG",
                  "styles": {},
                  "thickness_factor": 1
                },
                {
                  "color": "#15AFAC",
                  "directed": false,
                  "end": "BSB",
                  "label": "",
                  "properties": {},
                  "start": "CCS",
                  "styles": {},
                  "thickness_factor": 1
                },
                {
                  "color": "#15AFAC",
                  "directed": false,
                  "end": "GUA",
                  "label": "",
                  "properties": {},
                  "start": "BOG",
                  "styles": {},
                  "thickness_factor": 1
                },
                {
                  "color": "#15AFAC",
                  "directed": false,
                  "end": "MIA",
                  "label": "",
                  "properties": {},
                  "start": "CCS",
                  "styles": {},
                  "thickness_factor": 1
                },
                {
                  "color": "#15AFAC",
                  "directed": false,
                  "end": "MIA",
                  "label": "",
                  "properties": {},
                  "start": "GUA",
                  "styles": {},
                  "thickness_factor": 1
                },
                {
                  "color": "#15AFAC",
                  "directed": false,
                  "end": "MEX",
                  "label": "",
                  "properties": {},
                  "start": "GUA",
                  "styles": {},
                  "thickness_factor": 1
                },
                {
                  "color": "#15AFAC",
                  "directed": false,
                  "end": "LAX",
                  "label": "",
                  "properties": {},
                  "start": "MEX",
                  "styles": {},
                  "thickness_factor": 1
                },
                {
                  "color": "#15AFAC",
                  "directed": false,
                  "end": "LAX",
                  "label": "",
                  "properties": {},
                  "start": "MEX",
                  "styles": {},
                  "thickness_factor": 1
                },
                {
                  "color": "#15AFAC",
                  "directed": false,
                  "end": "SFO",
                  "label": "",
                  "properties": {},
                  "start": "LAX",
                  "styles": {},
                  "thickness_factor": 1
                },
                {
                  "color": "#15AFAC",
                  "directed": false,
                  "end": "YVR",
                  "label": "",
                  "properties": {},
                  "start": "SFO",
                  "styles": {},
                  "thickness_factor": 1
                },
                {
                  "color": "#15AFAC",
                  "directed": false,
                  "end": "LAS",
                  "label": "",
                  "properties": {},
                  "start": "LAX",
                  "styles": {},
                  "thickness_factor": 1
                },
                {
                  "color": "#15AFAC",
                  "directed": false,
                  "end": "DFW",
                  "label": "",
                  "properties": {},
                  "start": "LAX",
                  "styles": {},
                  "thickness_factor": 1
                },
                {
                  "color": "#15AFAC",
                  "directed": false,
                  "end": "ORD",
                  "label": "",
                  "properties": {},
                  "start": "LAX",
                  "styles": {},
                  "thickness_factor": 1
                },
                {
                  "color": "#15AFAC",
                  "directed": false,
                  "end": "LAS",
                  "label": "",
                  "properties": {},
                  "start": "SFO",
                  "styles": {},
                  "thickness_factor": 1
                },
                {
                  "color": "#15AFAC",
                  "directed": false,
                  "end": "ATL",
                  "label": "",
                  "properties": {},
                  "start": "DFW",
                  "styles": {},
                  "thickness_factor": 1
                },
                {
                  "color": "#15AFAC",
                  "directed": false,
                  "end": "YYZ",
                  "label": "",
                  "properties": {},
                  "start": "ATL",
                  "styles": {},
                  "thickness_factor": 1
                },
                {
                  "color": "#15AFAC",
                  "directed": false,
                  "end": "YYZ",
                  "label": "",
                  "properties": {},
                  "start": "ORD",
                  "styles": {},
                  "thickness_factor": 1
                },
                {
                  "color": "#15AFAC",
                  "directed": false,
                  "end": "YUL",
                  "label": "",
                  "properties": {},
                  "start": "YYZ",
                  "styles": {},
                  "thickness_factor": 1
                },
                {
                  "color": "#15AFAC",
                  "directed": false,
                  "end": "JFK",
                  "label": "",
                  "properties": {},
                  "start": "YYZ",
                  "styles": {},
                  "thickness_factor": 1
                },
                {
                  "color": "#15AFAC",
                  "directed": false,
                  "end": "JFK",
                  "label": "",
                  "properties": {},
                  "start": "YUL",
                  "styles": {},
                  "thickness_factor": 1
                },
                {
                  "color": "#15AFAC",
                  "directed": false,
                  "end": "CPT",
                  "label": "",
                  "properties": {},
                  "start": "JNB",
                  "styles": {},
                  "thickness_factor": 1
                },
                {
                  "color": "#15AFAC",
                  "directed": false,
                  "end": "DKR",
                  "label": "",
                  "properties": {},
                  "start": "LOS",
                  "styles": {},
                  "thickness_factor": 1
                },
                {
                  "color": "#15AFAC",
                  "directed": false,
                  "end": "LOS",
                  "label": "",
                  "properties": {},
                  "start": "NBO",
                  "styles": {},
                  "thickness_factor": 1
                },
                {
                  "color": "#15AFAC",
                  "directed": false,
                  "end": "CMN",
                  "label": "",
                  "properties": {},
                  "start": "DKR",
                  "styles": {},
                  "thickness_factor": 1
                },
                {
                  "color": "#15AFAC",
                  "directed": false,
                  "end": "CAI",
                  "label": "",
                  "properties": {},
                  "start": "DKR",
                  "styles": {},
                  "thickness_factor": 1
                },
                {
                  "color": "#15AFAC",
                  "directed": false,
                  "end": "CAI",
                  "label": "",
                  "properties": {},
                  "start": "NBO",
                  "styles": {},
                  "thickness_factor": 1
                },
                {
                  "color": "#15AFAC",
                  "directed": false,
                  "end": "CAI",
                  "label": "",
                  "properties": {},
                  "start": "DXB",
                  "styles": {},
                  "thickness_factor": 1
                },
                {
                  "color": "#15AFAC",
                  "directed": false,
                  "end": "DXB",
                  "label": "",
                  "properties": {},
                  "start": "IKA",
                  "styles": {},
                  "thickness_factor": 1
                },
                {
                  "color": "#15AFAC",
                  "directed": false,
                  "end": "IKA",
                  "label": "",
                  "properties": {},
                  "start": "IST",
                  "styles": {},
                  "thickness_factor": 1
                },
                {
                  "color": "#15AFAC",
                  "directed": false,
                  "end": "ATH",
                  "label": "",
                  "properties": {},
                  "start": "TLV",
                  "styles": {},
                  "thickness_factor": 1
                },
                {
                  "color": "#15AFAC",
                  "directed": false,
                  "end": "TLV",
                  "label": "",
                  "properties": {},
                  "start": "CAI",
                  "styles": {},
                  "thickness_factor": 1
                },
                {
                  "color": "#15AFAC",
                  "directed": false,
                  "end": "IST",
                  "label": "",
                  "properties": {},
                  "start": "ATH",
                  "styles": {},
                  "thickness_factor": 1
                },
                {
                  "color": "#15AFAC",
                  "directed": false,
                  "end": "ATH",
                  "label": "",
                  "properties": {},
                  "start": "FCO",
                  "styles": {},
                  "thickness_factor": 1
                },
                {
                  "color": "#15AFAC",
                  "directed": false,
                  "end": "LHR",
                  "label": "",
                  "properties": {},
                  "start": "LIS",
                  "styles": {},
                  "thickness_factor": 1
                },
                {
                  "color": "#15AFAC",
                  "directed": false,
                  "end": "MAD",
                  "label": "",
                  "properties": {},
                  "start": "LIS",
                  "styles": {},
                  "thickness_factor": 1
                },
                {
                  "color": "#15AFAC",
                  "directed": false,
                  "end": "BCN",
                  "label": "",
                  "properties": {},
                  "start": "MAD",
                  "styles": {},
                  "thickness_factor": 1
                },
                {
                  "color": "#15AFAC",
                  "directed": false,
                  "end": "LHR",
                  "label": "",
                  "properties": {},
                  "start": "CDG",
                  "styles": {},
                  "thickness_factor": 1
                },
                {
                  "color": "#15AFAC",
                  "directed": false,
                  "end": "LHR",
                  "label": "",
                  "properties": {},
                  "start": "DUB",
                  "styles": {},
                  "thickness_factor": 1
                },
                {
                  "color": "#15AFAC",
                  "directed": false,
                  "end": "LHR",
                  "label": "",
                  "properties": {},
                  "start": "EDI",
                  "styles": {},
                  "thickness_factor": 1
                },
                {
                  "color": "#15AFAC",
                  "directed": false,
                  "end": "BCN",
                  "label": "",
                  "properties": {},
                  "start": "CDG",
                  "styles": {},
                  "thickness_factor": 1
                },
                {
                  "color": "#15AFAC",
                  "directed": false,
                  "end": "FCO",
                  "label": "",
                  "properties": {},
                  "start": "BCN",
                  "styles": {},
                  "thickness_factor": 1
                },
                {
                  "color": "#15AFAC",
                  "directed": false,
                  "end": "IST",
                  "label": "",
                  "properties": {},
                  "start": "VIE",
                  "styles": {},
                  "thickness_factor": 1
                },
                {
                  "color": "#15AFAC",
                  "directed": false,
                  "end": "SVO",
                  "label": "",
                  "properties": {},
                  "start": "VIE",
                  "styles": {},
                  "thickness_factor": 1
                },
                {
                  "color": "#15AFAC",
                  "directed": false,
                  "end": "LIS",
                  "label": "",
                  "properties": {},
                  "start": "CMN",
                  "styles": {},
                  "thickness_factor": 1
                },
                {
                  "color": "#15AFAC",
                  "directed": false,
                  "end": "CMN",
                  "label": "",
                  "properties": {},
                  "start": "MAD",
                  "styles": {},
                  "thickness_factor": 1
                },
                {
                  "color": "#15AFAC",
                  "directed": false,
                  "end": "CPH",
                  "label": "",
                  "properties": {},
                  "start": "FRA",
                  "styles": {},
                  "thickness_factor": 1
                },
                {
                  "color": "#15AFAC",
                  "directed": false,
                  "end": "CPH",
                  "label": "",
                  "properties": {},
                  "start": "LHR",
                  "styles": {},
                  "thickness_factor": 1
                },
                {
                  "color": "#15AFAC",
                  "directed": false,
                  "end": "OSL",
                  "label": "",
                  "properties": {},
                  "start": "CPH",
                  "styles": {},
                  "thickness_factor": 1
                },
                {
                  "color": "#15AFAC",
                  "directed": false,
                  "end": "ARN",
                  "label": "",
                  "properties": {},
                  "start": "CPH",
                  "styles": {},
                  "thickness_factor": 1
                },
                {
                  "color": "#15AFAC",
                  "directed": false,
                  "end": "HEL",
                  "label": "",
                  "properties": {},
                  "start": "ARN",
                  "styles": {},
                  "thickness_factor": 1
                },
                {
                  "color": "#15AFAC",
                  "directed": false,
                  "end": "SVO",
                  "label": "",
                  "properties": {},
                  "start": "HEL",
                  "styles": {},
                  "thickness_factor": 1
                },
                {
                  "color": "#15AFAC",
                  "directed": false,
                  "end": "PVG",
                  "label": "",
                  "properties": {},
                  "start": "ULN",
                  "styles": {},
                  "thickness_factor": 1
                },
                {
                  "color": "#15AFAC",
                  "directed": false,
                  "end": "PVG",
                  "label": "",
                  "properties": {},
                  "start": "CTU",
                  "styles": {},
                  "thickness_factor": 1
                },
                {
                  "color": "#15AFAC",
                  "directed": false,
                  "end": "TPE",
                  "label": "",
                  "properties": {},
                  "start": "PVG",
                  "styles": {},
                  "thickness_factor": 1
                },
                {
                  "color": "#15AFAC",
                  "directed": false,
                  "end": "HKG",
                  "label": "",
                  "properties": {},
                  "start": "CTU",
                  "styles": {},
                  "thickness_factor": 1
                },
                {
                  "color": "#15AFAC",
                  "directed": false,
                  "end": "HKG",
                  "label": "",
                  "properties": {},
                  "start": "TPE",
                  "styles": {},
                  "thickness_factor": 1
                },
                {
                  "color": "#15AFAC",
                  "directed": false,
                  "end": "MNL",
                  "label": "",
                  "properties": {},
                  "start": "HKG",
                  "styles": {},
                  "thickness_factor": 1
                },
                {
                  "color": "#15AFAC",
                  "directed": false,
                  "end": "HKG",
                  "label": "",
                  "properties": {},
                  "start": "BKK",
                  "styles": {},
                  "thickness_factor": 1
                },
                {
                  "color": "#15AFAC",
                  "directed": false,
                  "end": "KUL",
                  "label": "",
                  "properties": {},
                  "start": "SIN",
                  "styles": {},
                  "thickness_factor": 1
                },
                {
                  "color": "#15AFAC",
                  "directed": false,
                  "end": "BKK",
                  "label": "",
                  "properties": {},
                  "start": "SIN",
                  "styles": {},
                  "thickness_factor": 1
                },
                {
                  "color": "#15AFAC",
                  "directed": false,
                  "end": "SIN",
                  "label": "",
                  "properties": {},
                  "start": "CGK",
                  "styles": {},
                  "thickness_factor": 1
                },
                {
                  "color": "#15AFAC",
                  "directed": false,
                  "end": "SIN",
                  "label": "",
                  "properties": {},
                  "start": "MNL",
                  "styles": {},
                  "thickness_factor": 1
                },
                {
                  "color": "#15AFAC",
                  "directed": false,
                  "end": "SYD",
                  "label": "",
                  "properties": {},
                  "start": "SIN",
                  "styles": {},
                  "thickness_factor": 1
                },
                {
                  "color": "#15AFAC",
                  "directed": false,
                  "end": "SYD",
                  "label": "",
                  "properties": {},
                  "start": "BNE",
                  "styles": {},
                  "thickness_factor": 1
                },
                {
                  "color": "#15AFAC",
                  "directed": false,
                  "end": "MEL",
                  "label": "",
                  "properties": {},
                  "start": "SYD",
                  "styles": {},
                  "thickness_factor": 1
                },
                {
                  "color": "#15AFAC",
                  "directed": false,
                  "end": "SYD",
                  "label": "",
                  "properties": {},
                  "start": "NAN",
                  "styles": {},
                  "thickness_factor": 1
                },
                {
                  "color": "#15AFAC",
                  "directed": false,
                  "end": "SYD",
                  "label": "",
                  "properties": {},
                  "start": "AKL",
                  "styles": {},
                  "thickness_factor": 1
                },
                {
                  "color": "#15AFAC",
                  "directed": false,
                  "end": "AKL",
                  "label": "",
                  "properties": {},
                  "start": "NAN",
                  "styles": {},
                  "thickness_factor": 1
                },
                {
                  "color": "#15AFAC",
                  "directed": false,
                  "end": "LHR",
                  "label": "",
                  "properties": {},
                  "start": "RKV",
                  "styles": {},
                  "thickness_factor": 1
                },
                {
                  "color": "#15AFAC",
                  "directed": false,
                  "end": "CDG",
                  "label": "",
                  "properties": {},
                  "start": "BCN",
                  "styles": {},
                  "thickness_factor": 1
                },
                {
                  "color": "#15AFAC",
                  "directed": false,
                  "end": "FRA",
                  "label": "",
                  "properties": {},
                  "start": "BCN",
                  "styles": {},
                  "thickness_factor": 1
                },
                {
                  "color": "#15AFAC",
                  "directed": false,
                  "end": "FRA",
                  "label": "",
                  "properties": {},
                  "start": "FCO",
                  "styles": {},
                  "thickness_factor": 1
                },
                {
                  "color": "#15AFAC",
                  "directed": false,
                  "end": "MEX",
                  "label": "",
                  "properties": {},
                  "start": "BOG",
                  "styles": {},
                  "thickness_factor": 1
                },
                {
                  "color": "#15AFAC",
                  "directed": false,
                  "end": "GRU",
                  "label": "",
                  "properties": {},
                  "start": "BOG",
                  "styles": {},
                  "thickness_factor": 1
                },
                {
                  "color": "#15AFAC",
                  "directed": false,
                  "end": "MIA",
                  "label": "",
                  "properties": {},
                  "start": "ATL",
                  "styles": {},
                  "thickness_factor": 1
                },
                {
                  "color": "#15AFAC",
                  "directed": false,
                  "end": "IST",
                  "label": "",
                  "properties": {},
                  "start": "FRA",
                  "styles": {},
                  "thickness_factor": 1
                },
                {
                  "color": "#15AFAC",
                  "directed": false,
                  "end": "DEL",
                  "label": "",
                  "properties": {},
                  "start": "IST",
                  "styles": {},
                  "thickness_factor": 1
                },
                {
                  "color": "#15AFAC",
                  "directed": false,
                  "end": "BKK",
                  "label": "",
                  "properties": {},
                  "start": "PVG",
                  "styles": {},
                  "thickness_factor": 1
                },
                {
                  "color": "#15AFAC",
                  "directed": false,
                  "end": "BKK",
                  "label": "",
                  "properties": {},
                  "start": "DEL",
                  "styles": {},
                  "thickness_factor": 1
                }
              ],
              "_model_module_version": "^1.10.2",
              "_nodes": [
                {
                  "color": "#15AFAC",
                  "coordinates": [
                    33.942536,
                    -118.408075
                  ],
                  "id": "LAX",
                  "label": "Los Angeles",
                  "position": [
                    0,
                    0
                  ],
                  "properties": {
                    "country": "USA",
                    "country_id": "us",
                    "label": "Los Angeles",
                    "passengers": 65000000
                  },
                  "scale_factor": 1,
                  "size": [
                    55,
                    55
                  ],
                  "styles": {
                    "image": "https://raw.githubusercontent.com/lipis/flag-icons/e119b66129af6dd849754ccf25dfbf81d4a306d5/flags/1x1/us.svg"
                  },
                  "type": "#15AFAC"
                },
                {
                  "color": "#15AFAC",
                  "coordinates": [
                    -22.808903,
                    -43.243647
                  ],
                  "id": "GIG",
                  "label": "Rio de Janeiro",
                  "position": [
                    0,
                    0
                  ],
                  "properties": {
                    "country": "Brazil",
                    "country_id": "br",
                    "label": "Rio de Janeiro",
                    "passengers": 5000000
                  },
                  "scale_factor": 1,
                  "size": [
                    55,
                    55
                  ],
                  "styles": {
                    "image": "https://raw.githubusercontent.com/lipis/flag-icons/e119b66129af6dd849754ccf25dfbf81d4a306d5/flags/1x1/br.svg"
                  },
                  "type": "#15AFAC"
                },
                {
                  "color": "#15AFAC",
                  "coordinates": [
                    -12.021889,
                    -77.114319
                  ],
                  "id": "LIM",
                  "label": "Lima",
                  "position": [
                    0,
                    0
                  ],
                  "properties": {
                    "country": "Peru",
                    "country_id": "pe",
                    "label": "Lima",
                    "passengers": 18000000
                  },
                  "scale_factor": 1,
                  "size": [
                    55,
                    55
                  ],
                  "styles": {
                    "image": "https://raw.githubusercontent.com/lipis/flag-icons/e119b66129af6dd849754ccf25dfbf81d4a306d5/flags/1x1/pe.svg"
                  },
                  "type": "#15AFAC"
                },
                {
                  "color": "#15AFAC",
                  "coordinates": [
                    51.4775,
                    -0.461389
                  ],
                  "id": "LHR",
                  "label": "London",
                  "position": [
                    0,
                    0
                  ],
                  "properties": {
                    "country": "UK",
                    "country_id": "gb",
                    "label": "London",
                    "passengers": 61000000
                  },
                  "scale_factor": 1,
                  "size": [
                    55,
                    55
                  ],
                  "styles": {
                    "image": "https://raw.githubusercontent.com/lipis/flag-icons/e119b66129af6dd849754ccf25dfbf81d4a306d5/flags/1x1/gb.svg"
                  },
                  "type": "#15AFAC"
                },
                {
                  "color": "#15AFAC",
                  "coordinates": [
                    50.033333,
                    8.570556
                  ],
                  "id": "FRA",
                  "label": "Frankfurt",
                  "position": [
                    0,
                    0
                  ],
                  "properties": {
                    "country": "Germany",
                    "country_id": "de",
                    "label": "Frankfurt",
                    "passengers": 48000000
                  },
                  "scale_factor": 1,
                  "size": [
                    55,
                    55
                  ],
                  "styles": {
                    "image": "https://raw.githubusercontent.com/lipis/flag-icons/e119b66129af6dd849754ccf25dfbf81d4a306d5/flags/1x1/de.svg"
                  },
                  "type": "#15AFAC"
                },
                {
                  "color": "#15AFAC",
                  "coordinates": [
                    55.972642,
                    37.414589
                  ],
                  "id": "SVO",
                  "label": "Moscow",
                  "position": [
                    0,
                    0
                  ],
                  "properties": {
                    "country": "Russia",
                    "country_id": "ru",
                    "label": "Moscow",
                    "passengers": 49000000
                  },
                  "scale_factor": 1,
                  "size": [
                    55,
                    55
                  ],
                  "styles": {
                    "image": "https://raw.githubusercontent.com/lipis/flag-icons/e119b66129af6dd849754ccf25dfbf81d4a306d5/flags/1x1/ru.svg"
                  },
                  "type": "#15AFAC"
                },
                {
                  "color": "#15AFAC",
                  "coordinates": [
                    28.5665,
                    77.103089
                  ],
                  "id": "DEL",
                  "label": "New Delhi",
                  "position": [
                    0,
                    0
                  ],
                  "properties": {
                    "country": "India",
                    "country_id": "in",
                    "label": "New Delhi",
                    "passengers": 39000000
                  },
                  "scale_factor": 1,
                  "size": [
                    55,
                    55
                  ],
                  "styles": {
                    "image": "https://raw.githubusercontent.com/lipis/flag-icons/e119b66129af6dd849754ccf25dfbf81d4a306d5/flags/1x1/in.svg"
                  },
                  "type": "#15AFAC"
                },
                {
                  "color": "#15AFAC",
                  "coordinates": [
                    31.143378,
                    121.805214
                  ],
                  "id": "PVG",
                  "label": "Shanghai",
                  "position": [
                    0,
                    0
                  ],
                  "properties": {
                    "country": "China",
                    "country_id": "hk",
                    "label": "Shanghai",
                    "passengers": 32000000
                  },
                  "scale_factor": 1,
                  "size": [
                    55,
                    55
                  ],
                  "styles": {
                    "image": "https://raw.githubusercontent.com/lipis/flag-icons/e119b66129af6dd849754ccf25dfbf81d4a306d5/flags/1x1/hk.svg"
                  },
                  "type": "#15AFAC"
                },
                {
                  "color": "#15AFAC",
                  "coordinates": [
                    22.308919,
                    113.914603
                  ],
                  "id": "HKG",
                  "label": "Hongkong",
                  "position": [
                    0,
                    0
                  ],
                  "properties": {
                    "country": "China",
                    "country_id": "hk",
                    "label": "Hongkong",
                    "passengers": 1000000
                  },
                  "scale_factor": 1,
                  "size": [
                    55,
                    55
                  ],
                  "styles": {
                    "image": "https://raw.githubusercontent.com/lipis/flag-icons/e119b66129af6dd849754ccf25dfbf81d4a306d5/flags/1x1/hk.svg"
                  },
                  "type": "#15AFAC"
                },
                {
                  "color": "#15AFAC",
                  "coordinates": [
                    35.764722,
                    140.386389
                  ],
                  "id": "NRT",
                  "label": "Tokio",
                  "position": [
                    0,
                    0
                  ],
                  "properties": {
                    "country": "Japan",
                    "country_id": "jp",
                    "label": "Tokio",
                    "passengers": 15000000
                  },
                  "scale_factor": 1,
                  "size": [
                    55,
                    55
                  ],
                  "styles": {
                    "image": "https://raw.githubusercontent.com/lipis/flag-icons/e119b66129af6dd849754ccf25dfbf81d4a306d5/flags/1x1/jp.svg"
                  },
                  "type": "#15AFAC"
                },
                {
                  "color": "#15AFAC",
                  "coordinates": [
                    25.252778,
                    55.364444
                  ],
                  "id": "DXB",
                  "label": "Dubai",
                  "position": [
                    0,
                    0
                  ],
                  "properties": {
                    "country": "UAE",
                    "country_id": "ae",
                    "label": "Dubai",
                    "passengers": 29000000
                  },
                  "scale_factor": 1,
                  "size": [
                    55,
                    55
                  ],
                  "styles": {
                    "image": "https://raw.githubusercontent.com/lipis/flag-icons/e119b66129af6dd849754ccf25dfbf81d4a306d5/flags/1x1/ae.svg"
                  },
                  "type": "#15AFAC"
                },
                {
                  "color": "#15AFAC",
                  "coordinates": [
                    14.670833,
                    -17.072778
                  ],
                  "id": "DKR",
                  "label": "Dakar",
                  "position": [
                    0,
                    0
                  ],
                  "properties": {
                    "country": "Senegal",
                    "country_id": "sn",
                    "label": "Dakar",
                    "passengers": 2000000
                  },
                  "scale_factor": 1,
                  "size": [
                    55,
                    55
                  ],
                  "styles": {
                    "image": "https://raw.githubusercontent.com/lipis/flag-icons/e119b66129af6dd849754ccf25dfbf81d4a306d5/flags/1x1/sn.svg"
                  },
                  "type": "#15AFAC"
                },
                {
                  "color": "#15AFAC",
                  "coordinates": [
                    -26.133694,
                    28.242317
                  ],
                  "id": "JNB",
                  "label": "Johannesburg",
                  "position": [
                    0,
                    0
                  ],
                  "properties": {
                    "country": "South Africa",
                    "country_id": "za",
                    "label": "Johannesburg",
                    "passengers": 9000000
                  },
                  "scale_factor": 1,
                  "size": [
                    55,
                    55
                  ],
                  "styles": {
                    "image": "https://raw.githubusercontent.com/lipis/flag-icons/e119b66129af6dd849754ccf25dfbf81d4a306d5/flags/1x1/za.svg"
                  },
                  "type": "#15AFAC"
                },
                {
                  "color": "#15AFAC",
                  "coordinates": [
                    -33.946111,
                    151.177222
                  ],
                  "id": "SYD",
                  "label": "Sydney",
                  "position": [
                    0,
                    0
                  ],
                  "properties": {
                    "country": "Australia",
                    "country_id": "au",
                    "label": "Sydney",
                    "passengers": 44000000
                  },
                  "scale_factor": 1,
                  "size": [
                    55,
                    55
                  ],
                  "styles": {
                    "image": "https://raw.githubusercontent.com/lipis/flag-icons/e119b66129af6dd849754ccf25dfbf81d4a306d5/flags/1x1/au.svg"
                  },
                  "type": "#15AFAC"
                },
                {
                  "color": "#15AFAC",
                  "coordinates": [
                    -1.319167,
                    36.927778
                  ],
                  "id": "NBO",
                  "label": "Nairobi",
                  "position": [
                    0,
                    0
                  ],
                  "properties": {
                    "country": "Kenya",
                    "country_id": "ke",
                    "label": "Nairobi",
                    "passengers": 900000
                  },
                  "scale_factor": 1,
                  "size": [
                    55,
                    55
                  ],
                  "styles": {
                    "image": "https://raw.githubusercontent.com/lipis/flag-icons/e119b66129af6dd849754ccf25dfbf81d4a306d5/flags/1x1/ke.svg"
                  },
                  "type": "#15AFAC"
                },
                {
                  "color": "#15AFAC",
                  "coordinates": [
                    33.639167,
                    -84.427778
                  ],
                  "id": "ATL",
                  "label": "Atlanta",
                  "position": [
                    0,
                    0
                  ],
                  "properties": {
                    "country": "USA",
                    "country_id": "us",
                    "label": "Atlanta",
                    "passengers": 93000000
                  },
                  "scale_factor": 1,
                  "size": [
                    55,
                    55
                  ],
                  "styles": {
                    "image": "https://raw.githubusercontent.com/lipis/flag-icons/e119b66129af6dd849754ccf25dfbf81d4a306d5/flags/1x1/us.svg"
                  },
                  "type": "#15AFAC"
                },
                {
                  "color": "#15AFAC",
                  "coordinates": [
                    40.63975,
                    -73.778925
                  ],
                  "id": "JFK",
                  "label": "New York City",
                  "position": [
                    0,
                    0
                  ],
                  "properties": {
                    "country": "USA",
                    "country_id": "us",
                    "label": "New York City",
                    "passengers": 55000000
                  },
                  "scale_factor": 1,
                  "size": [
                    55,
                    55
                  ],
                  "styles": {
                    "image": "https://raw.githubusercontent.com/lipis/flag-icons/e119b66129af6dd849754ccf25dfbf81d4a306d5/flags/1x1/us.svg"
                  },
                  "type": "#15AFAC"
                },
                {
                  "color": "#15AFAC",
                  "coordinates": [
                    30.121944,
                    31.405556
                  ],
                  "id": "CAI",
                  "label": "Cairo",
                  "position": [
                    0,
                    0
                  ],
                  "properties": {
                    "country": "Egypt",
                    "country_id": "eg",
                    "label": "Cairo",
                    "passengers": 14000000
                  },
                  "scale_factor": 1,
                  "size": [
                    55,
                    55
                  ],
                  "styles": {
                    "image": "https://raw.githubusercontent.com/lipis/flag-icons/e119b66129af6dd849754ccf25dfbf81d4a306d5/flags/1x1/eg.svg"
                  },
                  "type": "#15AFAC"
                },
                {
                  "color": "#15AFAC",
                  "coordinates": [
                    33.367467,
                    -7.589967
                  ],
                  "id": "CMN",
                  "label": "Casablanca",
                  "position": [
                    0,
                    0
                  ],
                  "properties": {
                    "country": "Morocco",
                    "country_id": "ma",
                    "label": "Casablanca",
                    "passengers": 7000000
                  },
                  "scale_factor": 1,
                  "size": [
                    55,
                    55
                  ],
                  "styles": {
                    "image": "https://raw.githubusercontent.com/lipis/flag-icons/e119b66129af6dd849754ccf25dfbf81d4a306d5/flags/1x1/ma.svg"
                  },
                  "type": "#15AFAC"
                },
                {
                  "color": "#15AFAC",
                  "coordinates": [
                    6.577222,
                    3.321111
                  ],
                  "id": "LOS",
                  "label": "Lagos",
                  "position": [
                    0,
                    0
                  ],
                  "properties": {
                    "country": "Nigeria",
                    "country_id": "ng",
                    "label": "Lagos",
                    "passengers": 5000000
                  },
                  "scale_factor": 1,
                  "size": [
                    55,
                    55
                  ],
                  "styles": {
                    "image": "https://raw.githubusercontent.com/lipis/flag-icons/e119b66129af6dd849754ccf25dfbf81d4a306d5/flags/1x1/ng.svg"
                  },
                  "type": "#15AFAC"
                },
                {
                  "color": "#15AFAC",
                  "coordinates": [
                    -33.969444,
                    18.597222
                  ],
                  "id": "CPT",
                  "label": "Cape Town",
                  "position": [
                    0,
                    0
                  ],
                  "properties": {
                    "country": "South Africa",
                    "country_id": "za",
                    "label": "Cape Town",
                    "passengers": 5000000
                  },
                  "scale_factor": 1,
                  "size": [
                    55,
                    55
                  ],
                  "styles": {
                    "image": "https://raw.githubusercontent.com/lipis/flag-icons/e119b66129af6dd849754ccf25dfbf81d4a306d5/flags/1x1/za.svg"
                  },
                  "type": "#15AFAC"
                },
                {
                  "color": "#15AFAC",
                  "coordinates": [
                    30.578333,
                    103.946944
                  ],
                  "id": "CTU",
                  "label": "Chengdu",
                  "position": [
                    0,
                    0
                  ],
                  "properties": {
                    "country": "China",
                    "country_id": "hk",
                    "label": "Chengdu",
                    "passengers": 40000000
                  },
                  "scale_factor": 1,
                  "size": [
                    55,
                    55
                  ],
                  "styles": {
                    "image": "https://raw.githubusercontent.com/lipis/flag-icons/e119b66129af6dd849754ccf25dfbf81d4a306d5/flags/1x1/hk.svg"
                  },
                  "type": "#15AFAC"
                },
                {
                  "color": "#15AFAC",
                  "coordinates": [
                    -6.125567,
                    106.655897
                  ],
                  "id": "CGK",
                  "label": "Jakarta",
                  "position": [
                    0,
                    0
                  ],
                  "properties": {
                    "country": "Indonesia",
                    "country_id": "id",
                    "label": "Jakarta",
                    "passengers": 54000000
                  },
                  "scale_factor": 1,
                  "size": [
                    55,
                    55
                  ],
                  "styles": {
                    "image": "https://raw.githubusercontent.com/lipis/flag-icons/e119b66129af6dd849754ccf25dfbf81d4a306d5/flags/1x1/id.svg"
                  },
                  "type": "#15AFAC"
                },
                {
                  "color": "#15AFAC",
                  "coordinates": [
                    35.416111,
                    51.152222
                  ],
                  "id": "IKA",
                  "label": "Teheran",
                  "position": [
                    0,
                    0
                  ],
                  "properties": {
                    "country": "Iran",
                    "country_id": "ir",
                    "label": "Teheran",
                    "passengers": 8000000
                  },
                  "scale_factor": 1,
                  "size": [
                    55,
                    55
                  ],
                  "styles": {
                    "image": "https://raw.githubusercontent.com/lipis/flag-icons/e119b66129af6dd849754ccf25dfbf81d4a306d5/flags/1x1/ir.svg"
                  },
                  "type": "#15AFAC"
                },
                {
                  "color": "#15AFAC",
                  "coordinates": [
                    32.011389,
                    34.886667
                  ],
                  "id": "TLV",
                  "label": "Tel Aviv",
                  "position": [
                    0,
                    0
                  ],
                  "properties": {
                    "country": "Israel",
                    "country_id": "il",
                    "label": "Tel Aviv",
                    "passengers": 20000000
                  },
                  "scale_factor": 1,
                  "size": [
                    55,
                    55
                  ],
                  "styles": {
                    "image": "https://raw.githubusercontent.com/lipis/flag-icons/e119b66129af6dd849754ccf25dfbf81d4a306d5/flags/1x1/il.svg"
                  },
                  "type": "#15AFAC"
                },
                {
                  "color": "#15AFAC",
                  "coordinates": [
                    2.745578,
                    101.709917
                  ],
                  "id": "KUL",
                  "label": "Kuala Lumpur",
                  "position": [
                    0,
                    0
                  ],
                  "properties": {
                    "country": "Malaysia",
                    "country_id": "my",
                    "label": "Kuala Lumpur",
                    "passengers": 25000000
                  },
                  "scale_factor": 1,
                  "size": [
                    55,
                    55
                  ],
                  "styles": {
                    "image": "https://raw.githubusercontent.com/lipis/flag-icons/e119b66129af6dd849754ccf25dfbf81d4a306d5/flags/1x1/my.svg"
                  },
                  "type": "#15AFAC"
                },
                {
                  "color": "#15AFAC",
                  "coordinates": [
                    14.508647,
                    121.019581
                  ],
                  "id": "MNL",
                  "label": "Manila",
                  "position": [
                    0,
                    0
                  ],
                  "properties": {
                    "country": "Philippines",
                    "country_id": "ph",
                    "label": "Manila",
                    "passengers": 8000000
                  },
                  "scale_factor": 1,
                  "size": [
                    55,
                    55
                  ],
                  "styles": {
                    "image": "https://raw.githubusercontent.com/lipis/flag-icons/e119b66129af6dd849754ccf25dfbf81d4a306d5/flags/1x1/ph.svg"
                  },
                  "type": "#15AFAC"
                },
                {
                  "color": "#15AFAC",
                  "coordinates": [
                    1.350189,
                    103.994433
                  ],
                  "id": "SIN",
                  "label": "Singapur",
                  "position": [
                    0,
                    0
                  ],
                  "properties": {
                    "country": "Singapore",
                    "country_id": "sg",
                    "label": "Singapur",
                    "passengers": 32000000
                  },
                  "scale_factor": 1,
                  "size": [
                    55,
                    55
                  ],
                  "styles": {
                    "image": "https://raw.githubusercontent.com/lipis/flag-icons/e119b66129af6dd849754ccf25dfbf81d4a306d5/flags/1x1/sg.svg"
                  },
                  "type": "#15AFAC"
                },
                {
                  "color": "#15AFAC",
                  "coordinates": [
                    25.077732,
                    121.232822
                  ],
                  "id": "TPE",
                  "label": "Taipeh",
                  "position": [
                    0,
                    0
                  ],
                  "properties": {
                    "country": "Taiwan",
                    "country_id": "tw",
                    "label": "Taipeh",
                    "passengers": 800000
                  },
                  "scale_factor": 1,
                  "size": [
                    55,
                    55
                  ],
                  "styles": {
                    "image": "https://raw.githubusercontent.com/lipis/flag-icons/e119b66129af6dd849754ccf25dfbf81d4a306d5/flags/1x1/tw.svg"
                  },
                  "type": "#15AFAC"
                },
                {
                  "color": "#15AFAC",
                  "coordinates": [
                    13.681108,
                    100.747283
                  ],
                  "id": "BKK",
                  "label": "Bangkok",
                  "position": [
                    0,
                    0
                  ],
                  "properties": {
                    "country": "Thailand",
                    "country_id": "th",
                    "label": "Bangkok",
                    "passengers": 65000000
                  },
                  "scale_factor": 1,
                  "size": [
                    55,
                    55
                  ],
                  "styles": {
                    "image": "https://raw.githubusercontent.com/lipis/flag-icons/e119b66129af6dd849754ccf25dfbf81d4a306d5/flags/1x1/th.svg"
                  },
                  "type": "#15AFAC"
                },
                {
                  "color": "#15AFAC",
                  "coordinates": [
                    40.976922,
                    28.814606
                  ],
                  "id": "IST",
                  "label": "Istanbul",
                  "position": [
                    0,
                    0
                  ],
                  "properties": {
                    "country": "Turkey",
                    "country_id": "tr",
                    "label": "Istanbul",
                    "passengers": 64000000
                  },
                  "scale_factor": 1,
                  "size": [
                    55,
                    55
                  ],
                  "styles": {
                    "image": "https://raw.githubusercontent.com/lipis/flag-icons/e119b66129af6dd849754ccf25dfbf81d4a306d5/flags/1x1/tr.svg"
                  },
                  "type": "#15AFAC"
                },
                {
                  "color": "#15AFAC",
                  "coordinates": [
                    47.843056,
                    106.766639
                  ],
                  "id": "ULN",
                  "label": "Ulaanbaatar",
                  "position": [
                    0,
                    0
                  ],
                  "properties": {
                    "country": "Mongolia",
                    "country_id": "mn",
                    "label": "Ulaanbaatar",
                    "passengers": 1000000
                  },
                  "scale_factor": 1,
                  "size": [
                    55,
                    55
                  ],
                  "styles": {
                    "image": "https://raw.githubusercontent.com/lipis/flag-icons/e119b66129af6dd849754ccf25dfbf81d4a306d5/flags/1x1/mn.svg"
                  },
                  "type": "#15AFAC"
                },
                {
                  "color": "#15AFAC",
                  "coordinates": [
                    -37.673333,
                    144.843333
                  ],
                  "id": "MEL",
                  "label": "Melbourne",
                  "position": [
                    0,
                    0
                  ],
                  "properties": {
                    "country": "Australia",
                    "country_id": "au",
                    "label": "Melbourne",
                    "passengers": 12000000
                  },
                  "scale_factor": 1,
                  "size": [
                    55,
                    55
                  ],
                  "styles": {
                    "image": "https://raw.githubusercontent.com/lipis/flag-icons/e119b66129af6dd849754ccf25dfbf81d4a306d5/flags/1x1/au.svg"
                  },
                  "type": "#15AFAC"
                },
                {
                  "color": "#15AFAC",
                  "coordinates": [
                    -27.383333,
                    153.118056
                  ],
                  "id": "BNE",
                  "label": "Brisbane",
                  "position": [
                    0,
                    0
                  ],
                  "properties": {
                    "country": "Australia",
                    "country_id": "au",
                    "label": "Brisbane",
                    "passengers": 23000000
                  },
                  "scale_factor": 1,
                  "size": [
                    55,
                    55
                  ],
                  "styles": {
                    "image": "https://raw.githubusercontent.com/lipis/flag-icons/e119b66129af6dd849754ccf25dfbf81d4a306d5/flags/1x1/au.svg"
                  },
                  "type": "#15AFAC"
                },
                {
                  "color": "#15AFAC",
                  "coordinates": [
                    -17.755392,
                    177.443378
                  ],
                  "id": "NAN",
                  "label": "Nadi",
                  "position": [
                    0,
                    0
                  ],
                  "properties": {
                    "country": "Fiji",
                    "country_id": "fj",
                    "label": "Nadi",
                    "passengers": 2000000
                  },
                  "scale_factor": 1,
                  "size": [
                    55,
                    55
                  ],
                  "styles": {
                    "image": "https://raw.githubusercontent.com/lipis/flag-icons/e119b66129af6dd849754ccf25dfbf81d4a306d5/flags/1x1/fj.svg"
                  },
                  "type": "#15AFAC"
                },
                {
                  "color": "#15AFAC",
                  "coordinates": [
                    -37.008056,
                    174.791667
                  ],
                  "id": "AKL",
                  "label": "Auckland",
                  "position": [
                    0,
                    0
                  ],
                  "properties": {
                    "country": "New Zealand",
                    "country_id": "nz",
                    "label": "Auckland",
                    "passengers": 21000000
                  },
                  "scale_factor": 1,
                  "size": [
                    55,
                    55
                  ],
                  "styles": {
                    "image": "https://raw.githubusercontent.com/lipis/flag-icons/e119b66129af6dd849754ccf25dfbf81d4a306d5/flags/1x1/nz.svg"
                  },
                  "type": "#15AFAC"
                },
                {
                  "color": "#15AFAC",
                  "coordinates": [
                    49.009722,
                    2.547778
                  ],
                  "id": "CDG",
                  "label": "Paris",
                  "position": [
                    0,
                    0
                  ],
                  "properties": {
                    "country": "France",
                    "country_id": "fr",
                    "label": "Paris",
                    "passengers": 57000000
                  },
                  "scale_factor": 1,
                  "size": [
                    55,
                    55
                  ],
                  "styles": {
                    "image": "https://raw.githubusercontent.com/lipis/flag-icons/e119b66129af6dd849754ccf25dfbf81d4a306d5/flags/1x1/fr.svg"
                  },
                  "type": "#15AFAC"
                },
                {
                  "color": "#15AFAC",
                  "coordinates": [
                    40.4675,
                    -3.551944
                  ],
                  "id": "MAD",
                  "label": "Madrid",
                  "position": [
                    0,
                    0
                  ],
                  "properties": {
                    "country": "Spain",
                    "country_id": "es",
                    "label": "Madrid",
                    "passengers": 50000000
                  },
                  "scale_factor": 1,
                  "size": [
                    55,
                    55
                  ],
                  "styles": {
                    "image": "https://raw.githubusercontent.com/lipis/flag-icons/e119b66129af6dd849754ccf25dfbf81d4a306d5/flags/1x1/es.svg"
                  },
                  "type": "#15AFAC"
                },
                {
                  "color": "#15AFAC",
                  "coordinates": [
                    41.297078,
                    2.078464
                  ],
                  "id": "BCN",
                  "label": "Barcelona",
                  "position": [
                    0,
                    0
                  ],
                  "properties": {
                    "country": "Spain",
                    "country_id": "es",
                    "label": "Barcelona",
                    "passengers": 41000000
                  },
                  "scale_factor": 1,
                  "size": [
                    55,
                    55
                  ],
                  "styles": {
                    "image": "https://raw.githubusercontent.com/lipis/flag-icons/e119b66129af6dd849754ccf25dfbf81d4a306d5/flags/1x1/es.svg"
                  },
                  "type": "#15AFAC"
                },
                {
                  "color": "#15AFAC",
                  "coordinates": [
                    41.804444,
                    12.250833
                  ],
                  "id": "FCO",
                  "label": "Rome",
                  "position": [
                    0,
                    0
                  ],
                  "properties": {
                    "country": "Italy",
                    "country_id": "it",
                    "label": "Rome",
                    "passengers": 29000000
                  },
                  "scale_factor": 1,
                  "size": [
                    55,
                    55
                  ],
                  "styles": {
                    "image": "https://raw.githubusercontent.com/lipis/flag-icons/e119b66129af6dd849754ccf25dfbf81d4a306d5/flags/1x1/it.svg"
                  },
                  "type": "#15AFAC"
                },
                {
                  "color": "#15AFAC",
                  "coordinates": [
                    55.617917,
                    12.655972
                  ],
                  "id": "CPH",
                  "label": "Copenhagen",
                  "position": [
                    0,
                    0
                  ],
                  "properties": {
                    "country": "Denmark",
                    "country_id": "dk",
                    "label": "Copenhagen",
                    "passengers": 30000000
                  },
                  "scale_factor": 1,
                  "size": [
                    55,
                    55
                  ],
                  "styles": {
                    "image": "https://raw.githubusercontent.com/lipis/flag-icons/e119b66129af6dd849754ccf25dfbf81d4a306d5/flags/1x1/dk.svg"
                  },
                  "type": "#15AFAC"
                },
                {
                  "color": "#15AFAC",
                  "coordinates": [
                    60.317222,
                    24.963333
                  ],
                  "id": "HEL",
                  "label": "Helsinki",
                  "position": [
                    0,
                    0
                  ],
                  "properties": {
                    "country": "Finland",
                    "country_id": "fi",
                    "label": "Helsinki",
                    "passengers": 5000000
                  },
                  "scale_factor": 1,
                  "size": [
                    55,
                    55
                  ],
                  "styles": {
                    "image": "https://raw.githubusercontent.com/lipis/flag-icons/e119b66129af6dd849754ccf25dfbf81d4a306d5/flags/1x1/fi.svg"
                  },
                  "type": "#15AFAC"
                },
                {
                  "color": "#15AFAC",
                  "coordinates": [
                    37.936358,
                    23.944467
                  ],
                  "id": "ATH",
                  "label": "Athens",
                  "position": [
                    0,
                    0
                  ],
                  "properties": {
                    "country": "Greece",
                    "country_id": "gr",
                    "label": "Athens",
                    "passengers": 22000000
                  },
                  "scale_factor": 1,
                  "size": [
                    55,
                    55
                  ],
                  "styles": {
                    "image": "https://raw.githubusercontent.com/lipis/flag-icons/e119b66129af6dd849754ccf25dfbf81d4a306d5/flags/1x1/gr.svg"
                  },
                  "type": "#15AFAC"
                },
                {
                  "color": "#15AFAC",
                  "coordinates": [
                    53.421333,
                    -6.270075
                  ],
                  "id": "DUB",
                  "label": "Dublin",
                  "position": [
                    0,
                    0
                  ],
                  "properties": {
                    "country": "Ireland",
                    "country_id": "ie",
                    "label": "Dublin",
                    "passengers": 32000000
                  },
                  "scale_factor": 1,
                  "size": [
                    55,
                    55
                  ],
                  "styles": {
                    "image": "https://raw.githubusercontent.com/lipis/flag-icons/e119b66129af6dd849754ccf25dfbf81d4a306d5/flags/1x1/ie.svg"
                  },
                  "type": "#15AFAC"
                },
                {
                  "color": "#15AFAC",
                  "coordinates": [
                    64.13,
                    -21.940556
                  ],
                  "id": "RKV",
                  "label": "Reykjavik",
                  "position": [
                    0,
                    0
                  ],
                  "properties": {
                    "country": "Iceland",
                    "country_id": "is",
                    "label": "Reykjavik",
                    "passengers": 400000
                  },
                  "scale_factor": 1,
                  "size": [
                    55,
                    55
                  ],
                  "styles": {
                    "image": "https://raw.githubusercontent.com/lipis/flag-icons/e119b66129af6dd849754ccf25dfbf81d4a306d5/flags/1x1/is.svg"
                  },
                  "type": "#15AFAC"
                },
                {
                  "color": "#15AFAC",
                  "coordinates": [
                    60.193917,
                    11.100361
                  ],
                  "id": "OSL",
                  "label": "Oslo",
                  "position": [
                    0,
                    0
                  ],
                  "properties": {
                    "country": "Norway",
                    "country_id": "no",
                    "label": "Oslo",
                    "passengers": 9000000
                  },
                  "scale_factor": 1,
                  "size": [
                    55,
                    55
                  ],
                  "styles": {
                    "image": "https://raw.githubusercontent.com/lipis/flag-icons/e119b66129af6dd849754ccf25dfbf81d4a306d5/flags/1x1/no.svg"
                  },
                  "type": "#15AFAC"
                },
                {
                  "color": "#15AFAC",
                  "coordinates": [
                    48.110833,
                    16.570833
                  ],
                  "id": "VIE",
                  "label": "Vienna",
                  "position": [
                    0,
                    0
                  ],
                  "properties": {
                    "country": "Austria",
                    "country_id": "at",
                    "label": "Vienna",
                    "passengers": 10000000
                  },
                  "scale_factor": 1,
                  "size": [
                    55,
                    55
                  ],
                  "styles": {
                    "image": "https://raw.githubusercontent.com/lipis/flag-icons/e119b66129af6dd849754ccf25dfbf81d4a306d5/flags/1x1/at.svg"
                  },
                  "type": "#15AFAC"
                },
                {
                  "color": "#15AFAC",
                  "coordinates": [
                    38.774167,
                    -9.134167
                  ],
                  "id": "LIS",
                  "label": "Lisbon",
                  "position": [
                    0,
                    0
                  ],
                  "properties": {
                    "country": "Portugal",
                    "country_id": "pt",
                    "label": "Lisbon",
                    "passengers": 28000000
                  },
                  "scale_factor": 1,
                  "size": [
                    55,
                    55
                  ],
                  "styles": {
                    "image": "https://raw.githubusercontent.com/lipis/flag-icons/e119b66129af6dd849754ccf25dfbf81d4a306d5/flags/1x1/pt.svg"
                  },
                  "type": "#15AFAC"
                },
                {
                  "color": "#15AFAC",
                  "coordinates": [
                    59.651944,
                    17.918611
                  ],
                  "id": "ARN",
                  "label": "Stockholm",
                  "position": [
                    0,
                    0
                  ],
                  "properties": {
                    "country": "Sweden",
                    "country_id": "se",
                    "label": "Stockholm",
                    "passengers": 7000000
                  },
                  "scale_factor": 1,
                  "size": [
                    55,
                    55
                  ],
                  "styles": {
                    "image": "https://raw.githubusercontent.com/lipis/flag-icons/e119b66129af6dd849754ccf25dfbf81d4a306d5/flags/1x1/se.svg"
                  },
                  "type": "#15AFAC"
                },
                {
                  "color": "#15AFAC",
                  "coordinates": [
                    55.95,
                    -3.3725
                  ],
                  "id": "EDI",
                  "label": "Edinburgh",
                  "position": [
                    0,
                    0
                  ],
                  "properties": {
                    "country": "UK",
                    "country_id": "gb",
                    "label": "Edinburgh",
                    "passengers": 14000000
                  },
                  "scale_factor": 1,
                  "size": [
                    55,
                    55
                  ],
                  "styles": {
                    "image": "https://raw.githubusercontent.com/lipis/flag-icons/e119b66129af6dd849754ccf25dfbf81d4a306d5/flags/1x1/gb.svg"
                  },
                  "type": "#15AFAC"
                },
                {
                  "color": "#15AFAC",
                  "coordinates": [
                    41.978603,
                    -87.904842
                  ],
                  "id": "ORD",
                  "label": "Chicago",
                  "position": [
                    0,
                    0
                  ],
                  "properties": {
                    "country": "USA",
                    "country_id": "us",
                    "label": "Chicago",
                    "passengers": 54000000
                  },
                  "scale_factor": 1,
                  "size": [
                    55,
                    55
                  ],
                  "styles": {
                    "image": "https://raw.githubusercontent.com/lipis/flag-icons/e119b66129af6dd849754ccf25dfbf81d4a306d5/flags/1x1/us.svg"
                  },
                  "type": "#15AFAC"
                },
                {
                  "color": "#15AFAC",
                  "coordinates": [
                    32.896828,
                    -97.037997
                  ],
                  "id": "DFW",
                  "label": "Dallas",
                  "position": [
                    0,
                    0
                  ],
                  "properties": {
                    "country": "USA",
                    "country_id": "us",
                    "label": "Dallas",
                    "passengers": 73000000
                  },
                  "scale_factor": 1,
                  "size": [
                    55,
                    55
                  ],
                  "styles": {
                    "image": "https://raw.githubusercontent.com/lipis/flag-icons/e119b66129af6dd849754ccf25dfbf81d4a306d5/flags/1x1/us.svg"
                  },
                  "type": "#15AFAC"
                },
                {
                  "color": "#15AFAC",
                  "coordinates": [
                    37.618972,
                    -122.374889
                  ],
                  "id": "SFO",
                  "label": "San Francisco",
                  "position": [
                    0,
                    0
                  ],
                  "properties": {
                    "country": "USA",
                    "country_id": "us",
                    "label": "San Francisco",
                    "passengers": 42000000
                  },
                  "scale_factor": 1,
                  "size": [
                    55,
                    55
                  ],
                  "styles": {
                    "image": "https://raw.githubusercontent.com/lipis/flag-icons/e119b66129af6dd849754ccf25dfbf81d4a306d5/flags/1x1/us.svg"
                  },
                  "type": "#15AFAC"
                },
                {
                  "color": "#15AFAC",
                  "coordinates": [
                    36.080056,
                    -115.15225
                  ],
                  "id": "LAS",
                  "label": "Las Vegas",
                  "position": [
                    0,
                    0
                  ],
                  "properties": {
                    "country": "USA",
                    "country_id": "us",
                    "label": "Las Vegas",
                    "passengers": 52000000
                  },
                  "scale_factor": 1,
                  "size": [
                    55,
                    55
                  ],
                  "styles": {
                    "image": "https://raw.githubusercontent.com/lipis/flag-icons/e119b66129af6dd849754ccf25dfbf81d4a306d5/flags/1x1/us.svg"
                  },
                  "type": "#15AFAC"
                },
                {
                  "color": "#15AFAC",
                  "coordinates": [
                    25.79325,
                    -80.290556
                  ],
                  "id": "MIA",
                  "label": "Miami",
                  "position": [
                    0,
                    0
                  ],
                  "properties": {
                    "country": "USA",
                    "country_id": "us",
                    "label": "Miami",
                    "passengers": 50000000
                  },
                  "scale_factor": 1,
                  "size": [
                    55,
                    55
                  ],
                  "styles": {
                    "image": "https://raw.githubusercontent.com/lipis/flag-icons/e119b66129af6dd849754ccf25dfbf81d4a306d5/flags/1x1/us.svg"
                  },
                  "type": "#15AFAC"
                },
                {
                  "color": "#15AFAC",
                  "coordinates": [
                    43.677222,
                    -79.630556
                  ],
                  "id": "YYZ",
                  "label": "Toronto",
                  "position": [
                    0,
                    0
                  ],
                  "properties": {
                    "country": "Canada",
                    "country_id": "ca",
                    "label": "Toronto",
                    "passengers": 12000000
                  },
                  "scale_factor": 1,
                  "size": [
                    55,
                    55
                  ],
                  "styles": {
                    "image": "https://raw.githubusercontent.com/lipis/flag-icons/e119b66129af6dd849754ccf25dfbf81d4a306d5/flags/1x1/ca.svg"
                  },
                  "type": "#15AFAC"
                },
                {
                  "color": "#15AFAC",
                  "coordinates": [
                    49.193889,
                    -123.184444
                  ],
                  "id": "YVR",
                  "label": "Vancouver",
                  "position": [
                    0,
                    0
                  ],
                  "properties": {
                    "country": "Canada",
                    "country_id": "ca",
                    "label": "Vancouver",
                    "passengers": 19000000
                  },
                  "scale_factor": 1,
                  "size": [
                    55,
                    55
                  ],
                  "styles": {
                    "image": "https://raw.githubusercontent.com/lipis/flag-icons/e119b66129af6dd849754ccf25dfbf81d4a306d5/flags/1x1/ca.svg"
                  },
                  "type": "#15AFAC"
                },
                {
                  "color": "#15AFAC",
                  "coordinates": [
                    45.47175,
                    -73.736569
                  ],
                  "id": "YUL",
                  "label": "Montreal",
                  "position": [
                    0,
                    0
                  ],
                  "properties": {
                    "country": "Canada",
                    "country_id": "ca",
                    "label": "Montreal",
                    "passengers": 15000000
                  },
                  "scale_factor": 1,
                  "size": [
                    55,
                    55
                  ],
                  "styles": {
                    "image": "https://raw.githubusercontent.com/lipis/flag-icons/e119b66129af6dd849754ccf25dfbf81d4a306d5/flags/1x1/ca.svg"
                  },
                  "type": "#15AFAC"
                },
                {
                  "color": "#15AFAC",
                  "coordinates": [
                    19.436303,
                    -99.072097
                  ],
                  "id": "MEX",
                  "label": "Mexico-City",
                  "position": [
                    0,
                    0
                  ],
                  "properties": {
                    "country": "Mexico",
                    "country_id": "mx",
                    "label": "Mexico-City",
                    "passengers": 46000000
                  },
                  "scale_factor": 1,
                  "size": [
                    55,
                    55
                  ],
                  "styles": {
                    "image": "https://raw.githubusercontent.com/lipis/flag-icons/e119b66129af6dd849754ccf25dfbf81d4a306d5/flags/1x1/mx.svg"
                  },
                  "type": "#15AFAC"
                },
                {
                  "color": "#15AFAC",
                  "coordinates": [
                    14.583272,
                    -90.527475
                  ],
                  "id": "GUA",
                  "label": "Guatemala-City",
                  "position": [
                    0,
                    0
                  ],
                  "properties": {
                    "country": "Guatemala",
                    "country_id": "gt",
                    "label": "Guatemala-City",
                    "passengers": 2000000
                  },
                  "scale_factor": 1,
                  "size": [
                    55,
                    55
                  ],
                  "styles": {
                    "image": "https://raw.githubusercontent.com/lipis/flag-icons/e119b66129af6dd849754ccf25dfbf81d4a306d5/flags/1x1/gt.svg"
                  },
                  "type": "#15AFAC"
                },
                {
                  "color": "#15AFAC",
                  "coordinates": [
                    -34.822222,
                    -58.535833
                  ],
                  "id": "EZE",
                  "label": "Buenos Aires",
                  "position": [
                    0,
                    0
                  ],
                  "properties": {
                    "country": "Argentina",
                    "country_id": "ar",
                    "label": "Buenos Aires",
                    "passengers": 5000000
                  },
                  "scale_factor": 1,
                  "size": [
                    55,
                    55
                  ],
                  "styles": {
                    "image": "https://raw.githubusercontent.com/lipis/flag-icons/e119b66129af6dd849754ccf25dfbf81d4a306d5/flags/1x1/ar.svg"
                  },
                  "type": "#15AFAC"
                },
                {
                  "color": "#15AFAC",
                  "coordinates": [
                    -23.432075,
                    -46.469511
                  ],
                  "id": "GRU",
                  "label": "Sao Paulo",
                  "position": [
                    0,
                    0
                  ],
                  "properties": {
                    "country": "Brazil",
                    "country_id": "br",
                    "label": "Sao Paulo",
                    "passengers": 34000000
                  },
                  "scale_factor": 1,
                  "size": [
                    55,
                    55
                  ],
                  "styles": {
                    "image": "https://raw.githubusercontent.com/lipis/flag-icons/e119b66129af6dd849754ccf25dfbf81d4a306d5/flags/1x1/br.svg"
                  },
                  "type": "#15AFAC"
                },
                {
                  "color": "#15AFAC",
                  "coordinates": [
                    -33.392975,
                    -70.785803
                  ],
                  "id": "SCL",
                  "label": "Santiago de Chile",
                  "position": [
                    0,
                    0
                  ],
                  "properties": {
                    "country": "Chile",
                    "country_id": "cl",
                    "label": "Santiago de Chile",
                    "passengers": 20000000
                  },
                  "scale_factor": 1,
                  "size": [
                    55,
                    55
                  ],
                  "styles": {
                    "image": "https://raw.githubusercontent.com/lipis/flag-icons/e119b66129af6dd849754ccf25dfbf81d4a306d5/flags/1x1/cl.svg"
                  },
                  "type": "#15AFAC"
                },
                {
                  "color": "#15AFAC",
                  "coordinates": [
                    -15.871111,
                    -47.918611
                  ],
                  "id": "BSB",
                  "label": "Brasilia",
                  "position": [
                    0,
                    0
                  ],
                  "properties": {
                    "country": "Brazil",
                    "country_id": "br",
                    "label": "Brasilia",
                    "passengers": 13000000
                  },
                  "scale_factor": 1,
                  "size": [
                    55,
                    55
                  ],
                  "styles": {
                    "image": "https://raw.githubusercontent.com/lipis/flag-icons/e119b66129af6dd849754ccf25dfbf81d4a306d5/flags/1x1/br.svg"
                  },
                  "type": "#15AFAC"
                },
                {
                  "color": "#15AFAC",
                  "coordinates": [
                    4.701594,
                    -74.146947
                  ],
                  "id": "BOG",
                  "label": "Bogota",
                  "position": [
                    0,
                    0
                  ],
                  "properties": {
                    "country": "Colombia",
                    "country_id": "co",
                    "label": "Bogota",
                    "passengers": 36000000
                  },
                  "scale_factor": 1,
                  "size": [
                    55,
                    55
                  ],
                  "styles": {
                    "image": "https://raw.githubusercontent.com/lipis/flag-icons/e119b66129af6dd849754ccf25dfbf81d4a306d5/flags/1x1/co.svg"
                  },
                  "type": "#15AFAC"
                },
                {
                  "color": "#15AFAC",
                  "coordinates": [
                    10.601194,
                    -66.991222
                  ],
                  "id": "CCS",
                  "label": "Caracas",
                  "position": [
                    0,
                    0
                  ],
                  "properties": {
                    "country": "Venezuela",
                    "country_id": "ve",
                    "label": "Caracas",
                    "passengers": 8000000
                  },
                  "scale_factor": 1,
                  "size": [
                    55,
                    55
                  ],
                  "styles": {
                    "image": "https://raw.githubusercontent.com/lipis/flag-icons/e119b66129af6dd849754ccf25dfbf81d4a306d5/flags/1x1/ve.svg"
                  },
                  "type": "#15AFAC"
                }
              ],
              "_overview": {
                "enabled": null,
                "overview_set": false
              },
              "_selected_graph": [
                [],
                []
              ],
              "_sidebar": {
                "enabled": false,
                "start_with": "About"
              },
              "_view_module_version": "^1.10.2",
              "layout": "IPY_MODEL_8eee7961f5714cd49f47cdb9a4f3f026"
            }
          },
          "b519d356f7d6458eb93b55621fc9da99": {
            "model_module": "@jupyter-widgets/base",
            "model_module_version": "2.0.0",
            "model_name": "LayoutModel",
            "state": {
              "height": "500px",
              "width": "100%"
            }
          },
          "b88f885384124d389c731d3a942eb649": {
            "model_module": "@jupyter-widgets/base",
            "model_module_version": "2.0.0",
            "model_name": "LayoutModel",
            "state": {
              "height": "500px",
              "width": "100%"
            }
          },
          "b9269bc8b0f6440ab728924f7e6c4524": {
            "model_module": "@jupyter-widgets/base",
            "model_module_version": "2.0.0",
            "model_name": "LayoutModel",
            "state": {
              "height": "800px",
              "width": "100%"
            }
          },
          "ca97a52b768b40f093d15a80561f9d04": {
            "model_module": "@jupyter-widgets/base",
            "model_module_version": "2.0.0",
            "model_name": "LayoutModel",
            "state": {
              "height": "500px",
              "width": "100%"
            }
          },
          "e25dc067f33a405782456b55fdc042cc": {
            "model_module": "@jupyter-widgets/base",
            "model_module_version": "2.0.0",
            "model_name": "LayoutModel",
            "state": {
              "height": "500px",
              "width": "100%"
            }
          },
          "e84661d554bc4b40a06a63241f87fdf6": {
            "model_module": "@jupyter-widgets/base",
            "model_module_version": "2.0.0",
            "model_name": "LayoutModel",
            "state": {
              "height": "800px",
              "width": "100%"
            }
          },
          "ee7faffdefbc49349aa5db1de3e75712": {
            "model_module": "yfiles-jupyter-graphs",
            "model_module_version": "^1.10.2",
            "model_name": "GraphModel",
            "state": {
              "_context_pane_mapping": [
                {
                  "id": "Neighborhood",
                  "title": "Neighborhood"
                },
                {
                  "id": "Data",
                  "title": "Data"
                },
                {
                  "id": "Search",
                  "title": "Search"
                },
                {
                  "id": "About",
                  "title": "About"
                }
              ],
              "_directed": false,
              "_edges": [
                {
                  "color": "#15AFAC",
                  "directed": false,
                  "end": "JFK",
                  "label": "",
                  "properties": {},
                  "start": "LAX",
                  "styles": {},
                  "thickness_factor": 1
                },
                {
                  "color": "#15AFAC",
                  "directed": false,
                  "end": "GIG",
                  "label": "",
                  "properties": {},
                  "start": "JFK",
                  "styles": {},
                  "thickness_factor": 1
                },
                {
                  "color": "#15AFAC",
                  "directed": false,
                  "end": "LIM",
                  "label": "",
                  "properties": {},
                  "start": "JFK",
                  "styles": {},
                  "thickness_factor": 1
                },
                {
                  "color": "#15AFAC",
                  "directed": false,
                  "end": "LHR",
                  "label": "",
                  "properties": {},
                  "start": "JFK",
                  "styles": {},
                  "thickness_factor": 1
                },
                {
                  "color": "#15AFAC",
                  "directed": false,
                  "end": "FRA",
                  "label": "",
                  "properties": {},
                  "start": "GIG",
                  "styles": {},
                  "thickness_factor": 1
                },
                {
                  "color": "#15AFAC",
                  "directed": false,
                  "end": "GIG",
                  "label": "",
                  "properties": {},
                  "start": "LIM",
                  "styles": {},
                  "thickness_factor": 1
                },
                {
                  "color": "#15AFAC",
                  "directed": false,
                  "end": "JFK",
                  "label": "",
                  "properties": {},
                  "start": "FRA",
                  "styles": {},
                  "thickness_factor": 1
                },
                {
                  "color": "#15AFAC",
                  "directed": false,
                  "end": "FRA",
                  "label": "",
                  "properties": {},
                  "start": "LHR",
                  "styles": {},
                  "thickness_factor": 1
                },
                {
                  "color": "#15AFAC",
                  "directed": false,
                  "end": "SVO",
                  "label": "",
                  "properties": {},
                  "start": "FRA",
                  "styles": {},
                  "thickness_factor": 1
                },
                {
                  "color": "#15AFAC",
                  "directed": false,
                  "end": "DXB",
                  "label": "",
                  "properties": {},
                  "start": "FRA",
                  "styles": {},
                  "thickness_factor": 1
                },
                {
                  "color": "#15AFAC",
                  "directed": false,
                  "end": "DEL",
                  "label": "",
                  "properties": {},
                  "start": "SVO",
                  "styles": {},
                  "thickness_factor": 1
                },
                {
                  "color": "#15AFAC",
                  "directed": false,
                  "end": "PVG",
                  "label": "",
                  "properties": {},
                  "start": "SVO",
                  "styles": {},
                  "thickness_factor": 1
                },
                {
                  "color": "#15AFAC",
                  "directed": false,
                  "end": "HKG",
                  "label": "",
                  "properties": {},
                  "start": "DEL",
                  "styles": {},
                  "thickness_factor": 1
                },
                {
                  "color": "#15AFAC",
                  "directed": false,
                  "end": "HKG",
                  "label": "",
                  "properties": {},
                  "start": "PVG",
                  "styles": {},
                  "thickness_factor": 1
                },
                {
                  "color": "#15AFAC",
                  "directed": false,
                  "end": "NRT",
                  "label": "",
                  "properties": {},
                  "start": "PVG",
                  "styles": {},
                  "thickness_factor": 1
                },
                {
                  "color": "#15AFAC",
                  "directed": false,
                  "end": "SYD",
                  "label": "",
                  "properties": {},
                  "start": "HKG",
                  "styles": {},
                  "thickness_factor": 1
                },
                {
                  "color": "#15AFAC",
                  "directed": false,
                  "end": "SYD",
                  "label": "",
                  "properties": {},
                  "start": "NRT",
                  "styles": {},
                  "thickness_factor": 1
                },
                {
                  "color": "#15AFAC",
                  "directed": false,
                  "end": "SVO",
                  "label": "",
                  "properties": {},
                  "start": "DXB",
                  "styles": {},
                  "thickness_factor": 1
                },
                {
                  "color": "#15AFAC",
                  "directed": false,
                  "end": "DEL",
                  "label": "",
                  "properties": {},
                  "start": "DXB",
                  "styles": {},
                  "thickness_factor": 1
                },
                {
                  "color": "#15AFAC",
                  "directed": false,
                  "end": "DKR",
                  "label": "",
                  "properties": {},
                  "start": "DXB",
                  "styles": {},
                  "thickness_factor": 1
                },
                {
                  "color": "#15AFAC",
                  "directed": false,
                  "end": "JNB",
                  "label": "",
                  "properties": {},
                  "start": "DXB",
                  "styles": {},
                  "thickness_factor": 1
                },
                {
                  "color": "#15AFAC",
                  "directed": false,
                  "end": "LHR",
                  "label": "",
                  "properties": {},
                  "start": "JNB",
                  "styles": {},
                  "thickness_factor": 1
                },
                {
                  "color": "#15AFAC",
                  "directed": false,
                  "end": "DKR",
                  "label": "",
                  "properties": {},
                  "start": "JNB",
                  "styles": {},
                  "thickness_factor": 1
                },
                {
                  "color": "#15AFAC",
                  "directed": false,
                  "end": "DXB",
                  "label": "",
                  "properties": {},
                  "start": "SYD",
                  "styles": {},
                  "thickness_factor": 1
                },
                {
                  "color": "#15AFAC",
                  "directed": false,
                  "end": "JNB",
                  "label": "",
                  "properties": {},
                  "start": "NBO",
                  "styles": {},
                  "thickness_factor": 1
                },
                {
                  "color": "#15AFAC",
                  "directed": false,
                  "end": "DXB",
                  "label": "",
                  "properties": {},
                  "start": "NBO",
                  "styles": {},
                  "thickness_factor": 1
                },
                {
                  "color": "#15AFAC",
                  "directed": false,
                  "end": "JFK",
                  "label": "",
                  "properties": {},
                  "start": "ATL",
                  "styles": {},
                  "thickness_factor": 1
                },
                {
                  "color": "#15AFAC",
                  "directed": false,
                  "end": "ATL",
                  "label": "",
                  "properties": {},
                  "start": "LAX",
                  "styles": {},
                  "thickness_factor": 1
                },
                {
                  "color": "#15AFAC",
                  "directed": false,
                  "end": "LHR",
                  "label": "",
                  "properties": {},
                  "start": "ATL",
                  "styles": {},
                  "thickness_factor": 1
                },
                {
                  "color": "#15AFAC",
                  "directed": false,
                  "end": "LIM",
                  "label": "",
                  "properties": {},
                  "start": "ATL",
                  "styles": {},
                  "thickness_factor": 1
                },
                {
                  "color": "#15AFAC",
                  "directed": false,
                  "end": "LIM",
                  "label": "",
                  "properties": {},
                  "start": "SCL",
                  "styles": {},
                  "thickness_factor": 1
                },
                {
                  "color": "#15AFAC",
                  "directed": false,
                  "end": "SCL",
                  "label": "",
                  "properties": {},
                  "start": "EZE",
                  "styles": {},
                  "thickness_factor": 1
                },
                {
                  "color": "#15AFAC",
                  "directed": false,
                  "end": "GRU",
                  "label": "",
                  "properties": {},
                  "start": "SCL",
                  "styles": {},
                  "thickness_factor": 1
                },
                {
                  "color": "#15AFAC",
                  "directed": false,
                  "end": "EZE",
                  "label": "",
                  "properties": {},
                  "start": "GIG",
                  "styles": {},
                  "thickness_factor": 1
                },
                {
                  "color": "#15AFAC",
                  "directed": false,
                  "end": "GRU",
                  "label": "",
                  "properties": {},
                  "start": "GIG",
                  "styles": {},
                  "thickness_factor": 1
                },
                {
                  "color": "#15AFAC",
                  "directed": false,
                  "end": "GIG",
                  "label": "",
                  "properties": {},
                  "start": "BSB",
                  "styles": {},
                  "thickness_factor": 1
                },
                {
                  "color": "#15AFAC",
                  "directed": false,
                  "end": "BSB",
                  "label": "",
                  "properties": {},
                  "start": "SCL",
                  "styles": {},
                  "thickness_factor": 1
                },
                {
                  "color": "#15AFAC",
                  "directed": false,
                  "end": "BSB",
                  "label": "",
                  "properties": {},
                  "start": "LIM",
                  "styles": {},
                  "thickness_factor": 1
                },
                {
                  "color": "#15AFAC",
                  "directed": false,
                  "end": "BSB",
                  "label": "",
                  "properties": {},
                  "start": "BOG",
                  "styles": {},
                  "thickness_factor": 1
                },
                {
                  "color": "#15AFAC",
                  "directed": false,
                  "end": "BSB",
                  "label": "",
                  "properties": {},
                  "start": "CCS",
                  "styles": {},
                  "thickness_factor": 1
                },
                {
                  "color": "#15AFAC",
                  "directed": false,
                  "end": "GUA",
                  "label": "",
                  "properties": {},
                  "start": "BOG",
                  "styles": {},
                  "thickness_factor": 1
                },
                {
                  "color": "#15AFAC",
                  "directed": false,
                  "end": "MIA",
                  "label": "",
                  "properties": {},
                  "start": "CCS",
                  "styles": {},
                  "thickness_factor": 1
                },
                {
                  "color": "#15AFAC",
                  "directed": false,
                  "end": "MIA",
                  "label": "",
                  "properties": {},
                  "start": "GUA",
                  "styles": {},
                  "thickness_factor": 1
                },
                {
                  "color": "#15AFAC",
                  "directed": false,
                  "end": "MEX",
                  "label": "",
                  "properties": {},
                  "start": "GUA",
                  "styles": {},
                  "thickness_factor": 1
                },
                {
                  "color": "#15AFAC",
                  "directed": false,
                  "end": "LAX",
                  "label": "",
                  "properties": {},
                  "start": "MEX",
                  "styles": {},
                  "thickness_factor": 1
                },
                {
                  "color": "#15AFAC",
                  "directed": false,
                  "end": "LAX",
                  "label": "",
                  "properties": {},
                  "start": "MEX",
                  "styles": {},
                  "thickness_factor": 1
                },
                {
                  "color": "#15AFAC",
                  "directed": false,
                  "end": "SFO",
                  "label": "",
                  "properties": {},
                  "start": "LAX",
                  "styles": {},
                  "thickness_factor": 1
                },
                {
                  "color": "#15AFAC",
                  "directed": false,
                  "end": "YVR",
                  "label": "",
                  "properties": {},
                  "start": "SFO",
                  "styles": {},
                  "thickness_factor": 1
                },
                {
                  "color": "#15AFAC",
                  "directed": false,
                  "end": "LAS",
                  "label": "",
                  "properties": {},
                  "start": "LAX",
                  "styles": {},
                  "thickness_factor": 1
                },
                {
                  "color": "#15AFAC",
                  "directed": false,
                  "end": "DFW",
                  "label": "",
                  "properties": {},
                  "start": "LAX",
                  "styles": {},
                  "thickness_factor": 1
                },
                {
                  "color": "#15AFAC",
                  "directed": false,
                  "end": "ORD",
                  "label": "",
                  "properties": {},
                  "start": "LAX",
                  "styles": {},
                  "thickness_factor": 1
                },
                {
                  "color": "#15AFAC",
                  "directed": false,
                  "end": "LAS",
                  "label": "",
                  "properties": {},
                  "start": "SFO",
                  "styles": {},
                  "thickness_factor": 1
                },
                {
                  "color": "#15AFAC",
                  "directed": false,
                  "end": "ATL",
                  "label": "",
                  "properties": {},
                  "start": "DFW",
                  "styles": {},
                  "thickness_factor": 1
                },
                {
                  "color": "#15AFAC",
                  "directed": false,
                  "end": "YYZ",
                  "label": "",
                  "properties": {},
                  "start": "ATL",
                  "styles": {},
                  "thickness_factor": 1
                },
                {
                  "color": "#15AFAC",
                  "directed": false,
                  "end": "YYZ",
                  "label": "",
                  "properties": {},
                  "start": "ORD",
                  "styles": {},
                  "thickness_factor": 1
                },
                {
                  "color": "#15AFAC",
                  "directed": false,
                  "end": "YUL",
                  "label": "",
                  "properties": {},
                  "start": "YYZ",
                  "styles": {},
                  "thickness_factor": 1
                },
                {
                  "color": "#15AFAC",
                  "directed": false,
                  "end": "JFK",
                  "label": "",
                  "properties": {},
                  "start": "YYZ",
                  "styles": {},
                  "thickness_factor": 1
                },
                {
                  "color": "#15AFAC",
                  "directed": false,
                  "end": "JFK",
                  "label": "",
                  "properties": {},
                  "start": "YUL",
                  "styles": {},
                  "thickness_factor": 1
                },
                {
                  "color": "#15AFAC",
                  "directed": false,
                  "end": "CPT",
                  "label": "",
                  "properties": {},
                  "start": "JNB",
                  "styles": {},
                  "thickness_factor": 1
                },
                {
                  "color": "#15AFAC",
                  "directed": false,
                  "end": "DKR",
                  "label": "",
                  "properties": {},
                  "start": "LOS",
                  "styles": {},
                  "thickness_factor": 1
                },
                {
                  "color": "#15AFAC",
                  "directed": false,
                  "end": "LOS",
                  "label": "",
                  "properties": {},
                  "start": "NBO",
                  "styles": {},
                  "thickness_factor": 1
                },
                {
                  "color": "#15AFAC",
                  "directed": false,
                  "end": "CMN",
                  "label": "",
                  "properties": {},
                  "start": "DKR",
                  "styles": {},
                  "thickness_factor": 1
                },
                {
                  "color": "#15AFAC",
                  "directed": false,
                  "end": "CAI",
                  "label": "",
                  "properties": {},
                  "start": "DKR",
                  "styles": {},
                  "thickness_factor": 1
                },
                {
                  "color": "#15AFAC",
                  "directed": false,
                  "end": "CAI",
                  "label": "",
                  "properties": {},
                  "start": "NBO",
                  "styles": {},
                  "thickness_factor": 1
                },
                {
                  "color": "#15AFAC",
                  "directed": false,
                  "end": "CAI",
                  "label": "",
                  "properties": {},
                  "start": "DXB",
                  "styles": {},
                  "thickness_factor": 1
                },
                {
                  "color": "#15AFAC",
                  "directed": false,
                  "end": "DXB",
                  "label": "",
                  "properties": {},
                  "start": "IKA",
                  "styles": {},
                  "thickness_factor": 1
                },
                {
                  "color": "#15AFAC",
                  "directed": false,
                  "end": "IKA",
                  "label": "",
                  "properties": {},
                  "start": "IST",
                  "styles": {},
                  "thickness_factor": 1
                },
                {
                  "color": "#15AFAC",
                  "directed": false,
                  "end": "ATH",
                  "label": "",
                  "properties": {},
                  "start": "TLV",
                  "styles": {},
                  "thickness_factor": 1
                },
                {
                  "color": "#15AFAC",
                  "directed": false,
                  "end": "TLV",
                  "label": "",
                  "properties": {},
                  "start": "CAI",
                  "styles": {},
                  "thickness_factor": 1
                },
                {
                  "color": "#15AFAC",
                  "directed": false,
                  "end": "IST",
                  "label": "",
                  "properties": {},
                  "start": "ATH",
                  "styles": {},
                  "thickness_factor": 1
                },
                {
                  "color": "#15AFAC",
                  "directed": false,
                  "end": "ATH",
                  "label": "",
                  "properties": {},
                  "start": "FCO",
                  "styles": {},
                  "thickness_factor": 1
                },
                {
                  "color": "#15AFAC",
                  "directed": false,
                  "end": "LHR",
                  "label": "",
                  "properties": {},
                  "start": "LIS",
                  "styles": {},
                  "thickness_factor": 1
                },
                {
                  "color": "#15AFAC",
                  "directed": false,
                  "end": "MAD",
                  "label": "",
                  "properties": {},
                  "start": "LIS",
                  "styles": {},
                  "thickness_factor": 1
                },
                {
                  "color": "#15AFAC",
                  "directed": false,
                  "end": "BCN",
                  "label": "",
                  "properties": {},
                  "start": "MAD",
                  "styles": {},
                  "thickness_factor": 1
                },
                {
                  "color": "#15AFAC",
                  "directed": false,
                  "end": "LHR",
                  "label": "",
                  "properties": {},
                  "start": "CDG",
                  "styles": {},
                  "thickness_factor": 1
                },
                {
                  "color": "#15AFAC",
                  "directed": false,
                  "end": "LHR",
                  "label": "",
                  "properties": {},
                  "start": "DUB",
                  "styles": {},
                  "thickness_factor": 1
                },
                {
                  "color": "#15AFAC",
                  "directed": false,
                  "end": "LHR",
                  "label": "",
                  "properties": {},
                  "start": "EDI",
                  "styles": {},
                  "thickness_factor": 1
                },
                {
                  "color": "#15AFAC",
                  "directed": false,
                  "end": "BCN",
                  "label": "",
                  "properties": {},
                  "start": "CDG",
                  "styles": {},
                  "thickness_factor": 1
                },
                {
                  "color": "#15AFAC",
                  "directed": false,
                  "end": "FCO",
                  "label": "",
                  "properties": {},
                  "start": "BCN",
                  "styles": {},
                  "thickness_factor": 1
                },
                {
                  "color": "#15AFAC",
                  "directed": false,
                  "end": "IST",
                  "label": "",
                  "properties": {},
                  "start": "VIE",
                  "styles": {},
                  "thickness_factor": 1
                },
                {
                  "color": "#15AFAC",
                  "directed": false,
                  "end": "SVO",
                  "label": "",
                  "properties": {},
                  "start": "VIE",
                  "styles": {},
                  "thickness_factor": 1
                },
                {
                  "color": "#15AFAC",
                  "directed": false,
                  "end": "LIS",
                  "label": "",
                  "properties": {},
                  "start": "CMN",
                  "styles": {},
                  "thickness_factor": 1
                },
                {
                  "color": "#15AFAC",
                  "directed": false,
                  "end": "CMN",
                  "label": "",
                  "properties": {},
                  "start": "MAD",
                  "styles": {},
                  "thickness_factor": 1
                },
                {
                  "color": "#15AFAC",
                  "directed": false,
                  "end": "CPH",
                  "label": "",
                  "properties": {},
                  "start": "FRA",
                  "styles": {},
                  "thickness_factor": 1
                },
                {
                  "color": "#15AFAC",
                  "directed": false,
                  "end": "CPH",
                  "label": "",
                  "properties": {},
                  "start": "LHR",
                  "styles": {},
                  "thickness_factor": 1
                },
                {
                  "color": "#15AFAC",
                  "directed": false,
                  "end": "OSL",
                  "label": "",
                  "properties": {},
                  "start": "CPH",
                  "styles": {},
                  "thickness_factor": 1
                },
                {
                  "color": "#15AFAC",
                  "directed": false,
                  "end": "ARN",
                  "label": "",
                  "properties": {},
                  "start": "CPH",
                  "styles": {},
                  "thickness_factor": 1
                },
                {
                  "color": "#15AFAC",
                  "directed": false,
                  "end": "HEL",
                  "label": "",
                  "properties": {},
                  "start": "ARN",
                  "styles": {},
                  "thickness_factor": 1
                },
                {
                  "color": "#15AFAC",
                  "directed": false,
                  "end": "SVO",
                  "label": "",
                  "properties": {},
                  "start": "HEL",
                  "styles": {},
                  "thickness_factor": 1
                },
                {
                  "color": "#15AFAC",
                  "directed": false,
                  "end": "PVG",
                  "label": "",
                  "properties": {},
                  "start": "ULN",
                  "styles": {},
                  "thickness_factor": 1
                },
                {
                  "color": "#15AFAC",
                  "directed": false,
                  "end": "PVG",
                  "label": "",
                  "properties": {},
                  "start": "CTU",
                  "styles": {},
                  "thickness_factor": 1
                },
                {
                  "color": "#15AFAC",
                  "directed": false,
                  "end": "TPE",
                  "label": "",
                  "properties": {},
                  "start": "PVG",
                  "styles": {},
                  "thickness_factor": 1
                },
                {
                  "color": "#15AFAC",
                  "directed": false,
                  "end": "HKG",
                  "label": "",
                  "properties": {},
                  "start": "CTU",
                  "styles": {},
                  "thickness_factor": 1
                },
                {
                  "color": "#15AFAC",
                  "directed": false,
                  "end": "HKG",
                  "label": "",
                  "properties": {},
                  "start": "TPE",
                  "styles": {},
                  "thickness_factor": 1
                },
                {
                  "color": "#15AFAC",
                  "directed": false,
                  "end": "MNL",
                  "label": "",
                  "properties": {},
                  "start": "HKG",
                  "styles": {},
                  "thickness_factor": 1
                },
                {
                  "color": "#15AFAC",
                  "directed": false,
                  "end": "HKG",
                  "label": "",
                  "properties": {},
                  "start": "BKK",
                  "styles": {},
                  "thickness_factor": 1
                },
                {
                  "color": "#15AFAC",
                  "directed": false,
                  "end": "KUL",
                  "label": "",
                  "properties": {},
                  "start": "SIN",
                  "styles": {},
                  "thickness_factor": 1
                },
                {
                  "color": "#15AFAC",
                  "directed": false,
                  "end": "BKK",
                  "label": "",
                  "properties": {},
                  "start": "SIN",
                  "styles": {},
                  "thickness_factor": 1
                },
                {
                  "color": "#15AFAC",
                  "directed": false,
                  "end": "SIN",
                  "label": "",
                  "properties": {},
                  "start": "CGK",
                  "styles": {},
                  "thickness_factor": 1
                },
                {
                  "color": "#15AFAC",
                  "directed": false,
                  "end": "SIN",
                  "label": "",
                  "properties": {},
                  "start": "MNL",
                  "styles": {},
                  "thickness_factor": 1
                },
                {
                  "color": "#15AFAC",
                  "directed": false,
                  "end": "SYD",
                  "label": "",
                  "properties": {},
                  "start": "SIN",
                  "styles": {},
                  "thickness_factor": 1
                },
                {
                  "color": "#15AFAC",
                  "directed": false,
                  "end": "SYD",
                  "label": "",
                  "properties": {},
                  "start": "BNE",
                  "styles": {},
                  "thickness_factor": 1
                },
                {
                  "color": "#15AFAC",
                  "directed": false,
                  "end": "MEL",
                  "label": "",
                  "properties": {},
                  "start": "SYD",
                  "styles": {},
                  "thickness_factor": 1
                },
                {
                  "color": "#15AFAC",
                  "directed": false,
                  "end": "SYD",
                  "label": "",
                  "properties": {},
                  "start": "NAN",
                  "styles": {},
                  "thickness_factor": 1
                },
                {
                  "color": "#15AFAC",
                  "directed": false,
                  "end": "SYD",
                  "label": "",
                  "properties": {},
                  "start": "AKL",
                  "styles": {},
                  "thickness_factor": 1
                },
                {
                  "color": "#15AFAC",
                  "directed": false,
                  "end": "AKL",
                  "label": "",
                  "properties": {},
                  "start": "NAN",
                  "styles": {},
                  "thickness_factor": 1
                },
                {
                  "color": "#15AFAC",
                  "directed": false,
                  "end": "LHR",
                  "label": "",
                  "properties": {},
                  "start": "RKV",
                  "styles": {},
                  "thickness_factor": 1
                },
                {
                  "color": "#15AFAC",
                  "directed": false,
                  "end": "CDG",
                  "label": "",
                  "properties": {},
                  "start": "BCN",
                  "styles": {},
                  "thickness_factor": 1
                },
                {
                  "color": "#15AFAC",
                  "directed": false,
                  "end": "FRA",
                  "label": "",
                  "properties": {},
                  "start": "BCN",
                  "styles": {},
                  "thickness_factor": 1
                },
                {
                  "color": "#15AFAC",
                  "directed": false,
                  "end": "FRA",
                  "label": "",
                  "properties": {},
                  "start": "FCO",
                  "styles": {},
                  "thickness_factor": 1
                },
                {
                  "color": "#15AFAC",
                  "directed": false,
                  "end": "MEX",
                  "label": "",
                  "properties": {},
                  "start": "BOG",
                  "styles": {},
                  "thickness_factor": 1
                },
                {
                  "color": "#15AFAC",
                  "directed": false,
                  "end": "GRU",
                  "label": "",
                  "properties": {},
                  "start": "BOG",
                  "styles": {},
                  "thickness_factor": 1
                },
                {
                  "color": "#15AFAC",
                  "directed": false,
                  "end": "MIA",
                  "label": "",
                  "properties": {},
                  "start": "ATL",
                  "styles": {},
                  "thickness_factor": 1
                },
                {
                  "color": "#15AFAC",
                  "directed": false,
                  "end": "IST",
                  "label": "",
                  "properties": {},
                  "start": "FRA",
                  "styles": {},
                  "thickness_factor": 1
                },
                {
                  "color": "#15AFAC",
                  "directed": false,
                  "end": "DEL",
                  "label": "",
                  "properties": {},
                  "start": "IST",
                  "styles": {},
                  "thickness_factor": 1
                },
                {
                  "color": "#15AFAC",
                  "directed": false,
                  "end": "BKK",
                  "label": "",
                  "properties": {},
                  "start": "PVG",
                  "styles": {},
                  "thickness_factor": 1
                },
                {
                  "color": "#15AFAC",
                  "directed": false,
                  "end": "BKK",
                  "label": "",
                  "properties": {},
                  "start": "DEL",
                  "styles": {},
                  "thickness_factor": 1
                }
              ],
              "_graph_layout": {
                "algorithm": "circular",
                "options": {}
              },
              "_model_module_version": "^1.10.2",
              "_nodes": [
                {
                  "color": "#15AFAC",
                  "coordinates": [
                    33.942536,
                    -118.408075
                  ],
                  "id": "LAX",
                  "label": "Los Angeles",
                  "position": [
                    0,
                    0
                  ],
                  "properties": {
                    "country": "USA",
                    "country_id": "us",
                    "label": "Los Angeles",
                    "passengers": 65000000
                  },
                  "scale_factor": 1,
                  "size": [
                    55,
                    55
                  ],
                  "styles": {},
                  "type": "#15AFAC"
                },
                {
                  "color": "#15AFAC",
                  "coordinates": [
                    -22.808903,
                    -43.243647
                  ],
                  "id": "GIG",
                  "label": "Rio de Janeiro",
                  "position": [
                    0,
                    0
                  ],
                  "properties": {
                    "country": "Brazil",
                    "country_id": "br",
                    "label": "Rio de Janeiro",
                    "passengers": 5000000
                  },
                  "scale_factor": 1,
                  "size": [
                    55,
                    55
                  ],
                  "styles": {},
                  "type": "#15AFAC"
                },
                {
                  "color": "#15AFAC",
                  "coordinates": [
                    -12.021889,
                    -77.114319
                  ],
                  "id": "LIM",
                  "label": "Lima",
                  "position": [
                    0,
                    0
                  ],
                  "properties": {
                    "country": "Peru",
                    "country_id": "pe",
                    "label": "Lima",
                    "passengers": 18000000
                  },
                  "scale_factor": 1,
                  "size": [
                    55,
                    55
                  ],
                  "styles": {},
                  "type": "#15AFAC"
                },
                {
                  "color": "#15AFAC",
                  "coordinates": [
                    51.4775,
                    -0.461389
                  ],
                  "id": "LHR",
                  "label": "London",
                  "position": [
                    0,
                    0
                  ],
                  "properties": {
                    "country": "UK",
                    "country_id": "gb",
                    "label": "London",
                    "passengers": 61000000
                  },
                  "scale_factor": 1,
                  "size": [
                    55,
                    55
                  ],
                  "styles": {},
                  "type": "#15AFAC"
                },
                {
                  "color": "#15AFAC",
                  "coordinates": [
                    50.033333,
                    8.570556
                  ],
                  "id": "FRA",
                  "label": "Frankfurt",
                  "position": [
                    0,
                    0
                  ],
                  "properties": {
                    "country": "Germany",
                    "country_id": "de",
                    "label": "Frankfurt",
                    "passengers": 48000000
                  },
                  "scale_factor": 1,
                  "size": [
                    55,
                    55
                  ],
                  "styles": {},
                  "type": "#15AFAC"
                },
                {
                  "color": "#15AFAC",
                  "coordinates": [
                    55.972642,
                    37.414589
                  ],
                  "id": "SVO",
                  "label": "Moscow",
                  "position": [
                    0,
                    0
                  ],
                  "properties": {
                    "country": "Russia",
                    "country_id": "ru",
                    "label": "Moscow",
                    "passengers": 49000000
                  },
                  "scale_factor": 1,
                  "size": [
                    55,
                    55
                  ],
                  "styles": {},
                  "type": "#15AFAC"
                },
                {
                  "color": "#15AFAC",
                  "coordinates": [
                    28.5665,
                    77.103089
                  ],
                  "id": "DEL",
                  "label": "New Delhi",
                  "position": [
                    0,
                    0
                  ],
                  "properties": {
                    "country": "India",
                    "country_id": "in",
                    "label": "New Delhi",
                    "passengers": 39000000
                  },
                  "scale_factor": 1,
                  "size": [
                    55,
                    55
                  ],
                  "styles": {},
                  "type": "#15AFAC"
                },
                {
                  "color": "#15AFAC",
                  "coordinates": [
                    31.143378,
                    121.805214
                  ],
                  "id": "PVG",
                  "label": "Shanghai",
                  "position": [
                    0,
                    0
                  ],
                  "properties": {
                    "country": "China",
                    "country_id": "hk",
                    "label": "Shanghai",
                    "passengers": 32000000
                  },
                  "scale_factor": 1,
                  "size": [
                    55,
                    55
                  ],
                  "styles": {},
                  "type": "#15AFAC"
                },
                {
                  "color": "#15AFAC",
                  "coordinates": [
                    22.308919,
                    113.914603
                  ],
                  "id": "HKG",
                  "label": "Hongkong",
                  "position": [
                    0,
                    0
                  ],
                  "properties": {
                    "country": "China",
                    "country_id": "hk",
                    "label": "Hongkong",
                    "passengers": 1000000
                  },
                  "scale_factor": 1,
                  "size": [
                    55,
                    55
                  ],
                  "styles": {},
                  "type": "#15AFAC"
                },
                {
                  "color": "#15AFAC",
                  "coordinates": [
                    35.764722,
                    140.386389
                  ],
                  "id": "NRT",
                  "label": "Tokio",
                  "position": [
                    0,
                    0
                  ],
                  "properties": {
                    "country": "Japan",
                    "country_id": "jp",
                    "label": "Tokio",
                    "passengers": 15000000
                  },
                  "scale_factor": 1,
                  "size": [
                    55,
                    55
                  ],
                  "styles": {},
                  "type": "#15AFAC"
                },
                {
                  "color": "#15AFAC",
                  "coordinates": [
                    25.252778,
                    55.364444
                  ],
                  "id": "DXB",
                  "label": "Dubai",
                  "position": [
                    0,
                    0
                  ],
                  "properties": {
                    "country": "UAE",
                    "country_id": "ae",
                    "label": "Dubai",
                    "passengers": 29000000
                  },
                  "scale_factor": 1,
                  "size": [
                    55,
                    55
                  ],
                  "styles": {},
                  "type": "#15AFAC"
                },
                {
                  "color": "#15AFAC",
                  "coordinates": [
                    14.670833,
                    -17.072778
                  ],
                  "id": "DKR",
                  "label": "Dakar",
                  "position": [
                    0,
                    0
                  ],
                  "properties": {
                    "country": "Senegal",
                    "country_id": "sn",
                    "label": "Dakar",
                    "passengers": 2000000
                  },
                  "scale_factor": 1,
                  "size": [
                    55,
                    55
                  ],
                  "styles": {},
                  "type": "#15AFAC"
                },
                {
                  "color": "#15AFAC",
                  "coordinates": [
                    -26.133694,
                    28.242317
                  ],
                  "id": "JNB",
                  "label": "Johannesburg",
                  "position": [
                    0,
                    0
                  ],
                  "properties": {
                    "country": "South Africa",
                    "country_id": "za",
                    "label": "Johannesburg",
                    "passengers": 9000000
                  },
                  "scale_factor": 1,
                  "size": [
                    55,
                    55
                  ],
                  "styles": {},
                  "type": "#15AFAC"
                },
                {
                  "color": "#15AFAC",
                  "coordinates": [
                    -33.946111,
                    151.177222
                  ],
                  "id": "SYD",
                  "label": "Sydney",
                  "position": [
                    0,
                    0
                  ],
                  "properties": {
                    "country": "Australia",
                    "country_id": "au",
                    "label": "Sydney",
                    "passengers": 44000000
                  },
                  "scale_factor": 1,
                  "size": [
                    55,
                    55
                  ],
                  "styles": {},
                  "type": "#15AFAC"
                },
                {
                  "color": "#15AFAC",
                  "coordinates": [
                    -1.319167,
                    36.927778
                  ],
                  "id": "NBO",
                  "label": "Nairobi",
                  "position": [
                    0,
                    0
                  ],
                  "properties": {
                    "country": "Kenya",
                    "country_id": "ke",
                    "label": "Nairobi",
                    "passengers": 900000
                  },
                  "scale_factor": 1,
                  "size": [
                    55,
                    55
                  ],
                  "styles": {},
                  "type": "#15AFAC"
                },
                {
                  "color": "#15AFAC",
                  "coordinates": [
                    33.639167,
                    -84.427778
                  ],
                  "id": "ATL",
                  "label": "Atlanta",
                  "position": [
                    0,
                    0
                  ],
                  "properties": {
                    "country": "USA",
                    "country_id": "us",
                    "label": "Atlanta",
                    "passengers": 93000000
                  },
                  "scale_factor": 1,
                  "size": [
                    55,
                    55
                  ],
                  "styles": {},
                  "type": "#15AFAC"
                },
                {
                  "color": "#15AFAC",
                  "coordinates": [
                    40.63975,
                    -73.778925
                  ],
                  "id": "JFK",
                  "label": "New York City",
                  "position": [
                    0,
                    0
                  ],
                  "properties": {
                    "country": "USA",
                    "country_id": "us",
                    "label": "New York City",
                    "passengers": 55000000
                  },
                  "scale_factor": 1,
                  "size": [
                    55,
                    55
                  ],
                  "styles": {},
                  "type": "#15AFAC"
                },
                {
                  "color": "#15AFAC",
                  "coordinates": [
                    30.121944,
                    31.405556
                  ],
                  "id": "CAI",
                  "label": "Cairo",
                  "position": [
                    0,
                    0
                  ],
                  "properties": {
                    "country": "Egypt",
                    "country_id": "eg",
                    "label": "Cairo",
                    "passengers": 14000000
                  },
                  "scale_factor": 1,
                  "size": [
                    55,
                    55
                  ],
                  "styles": {},
                  "type": "#15AFAC"
                },
                {
                  "color": "#15AFAC",
                  "coordinates": [
                    33.367467,
                    -7.589967
                  ],
                  "id": "CMN",
                  "label": "Casablanca",
                  "position": [
                    0,
                    0
                  ],
                  "properties": {
                    "country": "Morocco",
                    "country_id": "ma",
                    "label": "Casablanca",
                    "passengers": 7000000
                  },
                  "scale_factor": 1,
                  "size": [
                    55,
                    55
                  ],
                  "styles": {},
                  "type": "#15AFAC"
                },
                {
                  "color": "#15AFAC",
                  "coordinates": [
                    6.577222,
                    3.321111
                  ],
                  "id": "LOS",
                  "label": "Lagos",
                  "position": [
                    0,
                    0
                  ],
                  "properties": {
                    "country": "Nigeria",
                    "country_id": "ng",
                    "label": "Lagos",
                    "passengers": 5000000
                  },
                  "scale_factor": 1,
                  "size": [
                    55,
                    55
                  ],
                  "styles": {},
                  "type": "#15AFAC"
                },
                {
                  "color": "#15AFAC",
                  "coordinates": [
                    -33.969444,
                    18.597222
                  ],
                  "id": "CPT",
                  "label": "Cape Town",
                  "position": [
                    0,
                    0
                  ],
                  "properties": {
                    "country": "South Africa",
                    "country_id": "za",
                    "label": "Cape Town",
                    "passengers": 5000000
                  },
                  "scale_factor": 1,
                  "size": [
                    55,
                    55
                  ],
                  "styles": {},
                  "type": "#15AFAC"
                },
                {
                  "color": "#15AFAC",
                  "coordinates": [
                    30.578333,
                    103.946944
                  ],
                  "id": "CTU",
                  "label": "Chengdu",
                  "position": [
                    0,
                    0
                  ],
                  "properties": {
                    "country": "China",
                    "country_id": "hk",
                    "label": "Chengdu",
                    "passengers": 40000000
                  },
                  "scale_factor": 1,
                  "size": [
                    55,
                    55
                  ],
                  "styles": {},
                  "type": "#15AFAC"
                },
                {
                  "color": "#15AFAC",
                  "coordinates": [
                    -6.125567,
                    106.655897
                  ],
                  "id": "CGK",
                  "label": "Jakarta",
                  "position": [
                    0,
                    0
                  ],
                  "properties": {
                    "country": "Indonesia",
                    "country_id": "id",
                    "label": "Jakarta",
                    "passengers": 54000000
                  },
                  "scale_factor": 1,
                  "size": [
                    55,
                    55
                  ],
                  "styles": {},
                  "type": "#15AFAC"
                },
                {
                  "color": "#15AFAC",
                  "coordinates": [
                    35.416111,
                    51.152222
                  ],
                  "id": "IKA",
                  "label": "Teheran",
                  "position": [
                    0,
                    0
                  ],
                  "properties": {
                    "country": "Iran",
                    "country_id": "ir",
                    "label": "Teheran",
                    "passengers": 8000000
                  },
                  "scale_factor": 1,
                  "size": [
                    55,
                    55
                  ],
                  "styles": {},
                  "type": "#15AFAC"
                },
                {
                  "color": "#15AFAC",
                  "coordinates": [
                    32.011389,
                    34.886667
                  ],
                  "id": "TLV",
                  "label": "Tel Aviv",
                  "position": [
                    0,
                    0
                  ],
                  "properties": {
                    "country": "Israel",
                    "country_id": "il",
                    "label": "Tel Aviv",
                    "passengers": 20000000
                  },
                  "scale_factor": 1,
                  "size": [
                    55,
                    55
                  ],
                  "styles": {},
                  "type": "#15AFAC"
                },
                {
                  "color": "#15AFAC",
                  "coordinates": [
                    2.745578,
                    101.709917
                  ],
                  "id": "KUL",
                  "label": "Kuala Lumpur",
                  "position": [
                    0,
                    0
                  ],
                  "properties": {
                    "country": "Malaysia",
                    "country_id": "my",
                    "label": "Kuala Lumpur",
                    "passengers": 25000000
                  },
                  "scale_factor": 1,
                  "size": [
                    55,
                    55
                  ],
                  "styles": {},
                  "type": "#15AFAC"
                },
                {
                  "color": "#15AFAC",
                  "coordinates": [
                    14.508647,
                    121.019581
                  ],
                  "id": "MNL",
                  "label": "Manila",
                  "position": [
                    0,
                    0
                  ],
                  "properties": {
                    "country": "Philippines",
                    "country_id": "ph",
                    "label": "Manila",
                    "passengers": 8000000
                  },
                  "scale_factor": 1,
                  "size": [
                    55,
                    55
                  ],
                  "styles": {},
                  "type": "#15AFAC"
                },
                {
                  "color": "#15AFAC",
                  "coordinates": [
                    1.350189,
                    103.994433
                  ],
                  "id": "SIN",
                  "label": "Singapur",
                  "position": [
                    0,
                    0
                  ],
                  "properties": {
                    "country": "Singapore",
                    "country_id": "sg",
                    "label": "Singapur",
                    "passengers": 32000000
                  },
                  "scale_factor": 1,
                  "size": [
                    55,
                    55
                  ],
                  "styles": {},
                  "type": "#15AFAC"
                },
                {
                  "color": "#15AFAC",
                  "coordinates": [
                    25.077732,
                    121.232822
                  ],
                  "id": "TPE",
                  "label": "Taipeh",
                  "position": [
                    0,
                    0
                  ],
                  "properties": {
                    "country": "Taiwan",
                    "country_id": "tw",
                    "label": "Taipeh",
                    "passengers": 800000
                  },
                  "scale_factor": 1,
                  "size": [
                    55,
                    55
                  ],
                  "styles": {},
                  "type": "#15AFAC"
                },
                {
                  "color": "#15AFAC",
                  "coordinates": [
                    13.681108,
                    100.747283
                  ],
                  "id": "BKK",
                  "label": "Bangkok",
                  "position": [
                    0,
                    0
                  ],
                  "properties": {
                    "country": "Thailand",
                    "country_id": "th",
                    "label": "Bangkok",
                    "passengers": 65000000
                  },
                  "scale_factor": 1,
                  "size": [
                    55,
                    55
                  ],
                  "styles": {},
                  "type": "#15AFAC"
                },
                {
                  "color": "#15AFAC",
                  "coordinates": [
                    40.976922,
                    28.814606
                  ],
                  "id": "IST",
                  "label": "Istanbul",
                  "position": [
                    0,
                    0
                  ],
                  "properties": {
                    "country": "Turkey",
                    "country_id": "tr",
                    "label": "Istanbul",
                    "passengers": 64000000
                  },
                  "scale_factor": 1,
                  "size": [
                    55,
                    55
                  ],
                  "styles": {},
                  "type": "#15AFAC"
                },
                {
                  "color": "#15AFAC",
                  "coordinates": [
                    47.843056,
                    106.766639
                  ],
                  "id": "ULN",
                  "label": "Ulaanbaatar",
                  "position": [
                    0,
                    0
                  ],
                  "properties": {
                    "country": "Mongolia",
                    "country_id": "mn",
                    "label": "Ulaanbaatar",
                    "passengers": 1000000
                  },
                  "scale_factor": 1,
                  "size": [
                    55,
                    55
                  ],
                  "styles": {},
                  "type": "#15AFAC"
                },
                {
                  "color": "#15AFAC",
                  "coordinates": [
                    -37.673333,
                    144.843333
                  ],
                  "id": "MEL",
                  "label": "Melbourne",
                  "position": [
                    0,
                    0
                  ],
                  "properties": {
                    "country": "Australia",
                    "country_id": "au",
                    "label": "Melbourne",
                    "passengers": 12000000
                  },
                  "scale_factor": 1,
                  "size": [
                    55,
                    55
                  ],
                  "styles": {},
                  "type": "#15AFAC"
                },
                {
                  "color": "#15AFAC",
                  "coordinates": [
                    -27.383333,
                    153.118056
                  ],
                  "id": "BNE",
                  "label": "Brisbane",
                  "position": [
                    0,
                    0
                  ],
                  "properties": {
                    "country": "Australia",
                    "country_id": "au",
                    "label": "Brisbane",
                    "passengers": 23000000
                  },
                  "scale_factor": 1,
                  "size": [
                    55,
                    55
                  ],
                  "styles": {},
                  "type": "#15AFAC"
                },
                {
                  "color": "#15AFAC",
                  "coordinates": [
                    -17.755392,
                    177.443378
                  ],
                  "id": "NAN",
                  "label": "Nadi",
                  "position": [
                    0,
                    0
                  ],
                  "properties": {
                    "country": "Fiji",
                    "country_id": "fj",
                    "label": "Nadi",
                    "passengers": 2000000
                  },
                  "scale_factor": 1,
                  "size": [
                    55,
                    55
                  ],
                  "styles": {},
                  "type": "#15AFAC"
                },
                {
                  "color": "#15AFAC",
                  "coordinates": [
                    -37.008056,
                    174.791667
                  ],
                  "id": "AKL",
                  "label": "Auckland",
                  "position": [
                    0,
                    0
                  ],
                  "properties": {
                    "country": "New Zealand",
                    "country_id": "nz",
                    "label": "Auckland",
                    "passengers": 21000000
                  },
                  "scale_factor": 1,
                  "size": [
                    55,
                    55
                  ],
                  "styles": {},
                  "type": "#15AFAC"
                },
                {
                  "color": "#15AFAC",
                  "coordinates": [
                    49.009722,
                    2.547778
                  ],
                  "id": "CDG",
                  "label": "Paris",
                  "position": [
                    0,
                    0
                  ],
                  "properties": {
                    "country": "France",
                    "country_id": "fr",
                    "label": "Paris",
                    "passengers": 57000000
                  },
                  "scale_factor": 1,
                  "size": [
                    55,
                    55
                  ],
                  "styles": {},
                  "type": "#15AFAC"
                },
                {
                  "color": "#15AFAC",
                  "coordinates": [
                    40.4675,
                    -3.551944
                  ],
                  "id": "MAD",
                  "label": "Madrid",
                  "position": [
                    0,
                    0
                  ],
                  "properties": {
                    "country": "Spain",
                    "country_id": "es",
                    "label": "Madrid",
                    "passengers": 50000000
                  },
                  "scale_factor": 1,
                  "size": [
                    55,
                    55
                  ],
                  "styles": {},
                  "type": "#15AFAC"
                },
                {
                  "color": "#15AFAC",
                  "coordinates": [
                    41.297078,
                    2.078464
                  ],
                  "id": "BCN",
                  "label": "Barcelona",
                  "position": [
                    0,
                    0
                  ],
                  "properties": {
                    "country": "Spain",
                    "country_id": "es",
                    "label": "Barcelona",
                    "passengers": 41000000
                  },
                  "scale_factor": 1,
                  "size": [
                    55,
                    55
                  ],
                  "styles": {},
                  "type": "#15AFAC"
                },
                {
                  "color": "#15AFAC",
                  "coordinates": [
                    41.804444,
                    12.250833
                  ],
                  "id": "FCO",
                  "label": "Rome",
                  "position": [
                    0,
                    0
                  ],
                  "properties": {
                    "country": "Italy",
                    "country_id": "it",
                    "label": "Rome",
                    "passengers": 29000000
                  },
                  "scale_factor": 1,
                  "size": [
                    55,
                    55
                  ],
                  "styles": {},
                  "type": "#15AFAC"
                },
                {
                  "color": "#15AFAC",
                  "coordinates": [
                    55.617917,
                    12.655972
                  ],
                  "id": "CPH",
                  "label": "Copenhagen",
                  "position": [
                    0,
                    0
                  ],
                  "properties": {
                    "country": "Denmark",
                    "country_id": "dk",
                    "label": "Copenhagen",
                    "passengers": 30000000
                  },
                  "scale_factor": 1,
                  "size": [
                    55,
                    55
                  ],
                  "styles": {},
                  "type": "#15AFAC"
                },
                {
                  "color": "#15AFAC",
                  "coordinates": [
                    60.317222,
                    24.963333
                  ],
                  "id": "HEL",
                  "label": "Helsinki",
                  "position": [
                    0,
                    0
                  ],
                  "properties": {
                    "country": "Finland",
                    "country_id": "fi",
                    "label": "Helsinki",
                    "passengers": 5000000
                  },
                  "scale_factor": 1,
                  "size": [
                    55,
                    55
                  ],
                  "styles": {},
                  "type": "#15AFAC"
                },
                {
                  "color": "#15AFAC",
                  "coordinates": [
                    37.936358,
                    23.944467
                  ],
                  "id": "ATH",
                  "label": "Athens",
                  "position": [
                    0,
                    0
                  ],
                  "properties": {
                    "country": "Greece",
                    "country_id": "gr",
                    "label": "Athens",
                    "passengers": 22000000
                  },
                  "scale_factor": 1,
                  "size": [
                    55,
                    55
                  ],
                  "styles": {},
                  "type": "#15AFAC"
                },
                {
                  "color": "#15AFAC",
                  "coordinates": [
                    53.421333,
                    -6.270075
                  ],
                  "id": "DUB",
                  "label": "Dublin",
                  "position": [
                    0,
                    0
                  ],
                  "properties": {
                    "country": "Ireland",
                    "country_id": "ie",
                    "label": "Dublin",
                    "passengers": 32000000
                  },
                  "scale_factor": 1,
                  "size": [
                    55,
                    55
                  ],
                  "styles": {},
                  "type": "#15AFAC"
                },
                {
                  "color": "#15AFAC",
                  "coordinates": [
                    64.13,
                    -21.940556
                  ],
                  "id": "RKV",
                  "label": "Reykjavik",
                  "position": [
                    0,
                    0
                  ],
                  "properties": {
                    "country": "Iceland",
                    "country_id": "is",
                    "label": "Reykjavik",
                    "passengers": 400000
                  },
                  "scale_factor": 1,
                  "size": [
                    55,
                    55
                  ],
                  "styles": {},
                  "type": "#15AFAC"
                },
                {
                  "color": "#15AFAC",
                  "coordinates": [
                    60.193917,
                    11.100361
                  ],
                  "id": "OSL",
                  "label": "Oslo",
                  "position": [
                    0,
                    0
                  ],
                  "properties": {
                    "country": "Norway",
                    "country_id": "no",
                    "label": "Oslo",
                    "passengers": 9000000
                  },
                  "scale_factor": 1,
                  "size": [
                    55,
                    55
                  ],
                  "styles": {},
                  "type": "#15AFAC"
                },
                {
                  "color": "#15AFAC",
                  "coordinates": [
                    48.110833,
                    16.570833
                  ],
                  "id": "VIE",
                  "label": "Vienna",
                  "position": [
                    0,
                    0
                  ],
                  "properties": {
                    "country": "Austria",
                    "country_id": "at",
                    "label": "Vienna",
                    "passengers": 10000000
                  },
                  "scale_factor": 1,
                  "size": [
                    55,
                    55
                  ],
                  "styles": {},
                  "type": "#15AFAC"
                },
                {
                  "color": "#15AFAC",
                  "coordinates": [
                    38.774167,
                    -9.134167
                  ],
                  "id": "LIS",
                  "label": "Lisbon",
                  "position": [
                    0,
                    0
                  ],
                  "properties": {
                    "country": "Portugal",
                    "country_id": "pt",
                    "label": "Lisbon",
                    "passengers": 28000000
                  },
                  "scale_factor": 1,
                  "size": [
                    55,
                    55
                  ],
                  "styles": {},
                  "type": "#15AFAC"
                },
                {
                  "color": "#15AFAC",
                  "coordinates": [
                    59.651944,
                    17.918611
                  ],
                  "id": "ARN",
                  "label": "Stockholm",
                  "position": [
                    0,
                    0
                  ],
                  "properties": {
                    "country": "Sweden",
                    "country_id": "se",
                    "label": "Stockholm",
                    "passengers": 7000000
                  },
                  "scale_factor": 1,
                  "size": [
                    55,
                    55
                  ],
                  "styles": {},
                  "type": "#15AFAC"
                },
                {
                  "color": "#15AFAC",
                  "coordinates": [
                    55.95,
                    -3.3725
                  ],
                  "id": "EDI",
                  "label": "Edinburgh",
                  "position": [
                    0,
                    0
                  ],
                  "properties": {
                    "country": "UK",
                    "country_id": "gb",
                    "label": "Edinburgh",
                    "passengers": 14000000
                  },
                  "scale_factor": 1,
                  "size": [
                    55,
                    55
                  ],
                  "styles": {},
                  "type": "#15AFAC"
                },
                {
                  "color": "#15AFAC",
                  "coordinates": [
                    41.978603,
                    -87.904842
                  ],
                  "id": "ORD",
                  "label": "Chicago",
                  "position": [
                    0,
                    0
                  ],
                  "properties": {
                    "country": "USA",
                    "country_id": "us",
                    "label": "Chicago",
                    "passengers": 54000000
                  },
                  "scale_factor": 1,
                  "size": [
                    55,
                    55
                  ],
                  "styles": {},
                  "type": "#15AFAC"
                },
                {
                  "color": "#15AFAC",
                  "coordinates": [
                    32.896828,
                    -97.037997
                  ],
                  "id": "DFW",
                  "label": "Dallas",
                  "position": [
                    0,
                    0
                  ],
                  "properties": {
                    "country": "USA",
                    "country_id": "us",
                    "label": "Dallas",
                    "passengers": 73000000
                  },
                  "scale_factor": 1,
                  "size": [
                    55,
                    55
                  ],
                  "styles": {},
                  "type": "#15AFAC"
                },
                {
                  "color": "#15AFAC",
                  "coordinates": [
                    37.618972,
                    -122.374889
                  ],
                  "id": "SFO",
                  "label": "San Francisco",
                  "position": [
                    0,
                    0
                  ],
                  "properties": {
                    "country": "USA",
                    "country_id": "us",
                    "label": "San Francisco",
                    "passengers": 42000000
                  },
                  "scale_factor": 1,
                  "size": [
                    55,
                    55
                  ],
                  "styles": {},
                  "type": "#15AFAC"
                },
                {
                  "color": "#15AFAC",
                  "coordinates": [
                    36.080056,
                    -115.15225
                  ],
                  "id": "LAS",
                  "label": "Las Vegas",
                  "position": [
                    0,
                    0
                  ],
                  "properties": {
                    "country": "USA",
                    "country_id": "us",
                    "label": "Las Vegas",
                    "passengers": 52000000
                  },
                  "scale_factor": 1,
                  "size": [
                    55,
                    55
                  ],
                  "styles": {},
                  "type": "#15AFAC"
                },
                {
                  "color": "#15AFAC",
                  "coordinates": [
                    25.79325,
                    -80.290556
                  ],
                  "id": "MIA",
                  "label": "Miami",
                  "position": [
                    0,
                    0
                  ],
                  "properties": {
                    "country": "USA",
                    "country_id": "us",
                    "label": "Miami",
                    "passengers": 50000000
                  },
                  "scale_factor": 1,
                  "size": [
                    55,
                    55
                  ],
                  "styles": {},
                  "type": "#15AFAC"
                },
                {
                  "color": "#15AFAC",
                  "coordinates": [
                    43.677222,
                    -79.630556
                  ],
                  "id": "YYZ",
                  "label": "Toronto",
                  "position": [
                    0,
                    0
                  ],
                  "properties": {
                    "country": "Canada",
                    "country_id": "ca",
                    "label": "Toronto",
                    "passengers": 12000000
                  },
                  "scale_factor": 1,
                  "size": [
                    55,
                    55
                  ],
                  "styles": {},
                  "type": "#15AFAC"
                },
                {
                  "color": "#15AFAC",
                  "coordinates": [
                    49.193889,
                    -123.184444
                  ],
                  "id": "YVR",
                  "label": "Vancouver",
                  "position": [
                    0,
                    0
                  ],
                  "properties": {
                    "country": "Canada",
                    "country_id": "ca",
                    "label": "Vancouver",
                    "passengers": 19000000
                  },
                  "scale_factor": 1,
                  "size": [
                    55,
                    55
                  ],
                  "styles": {},
                  "type": "#15AFAC"
                },
                {
                  "color": "#15AFAC",
                  "coordinates": [
                    45.47175,
                    -73.736569
                  ],
                  "id": "YUL",
                  "label": "Montreal",
                  "position": [
                    0,
                    0
                  ],
                  "properties": {
                    "country": "Canada",
                    "country_id": "ca",
                    "label": "Montreal",
                    "passengers": 15000000
                  },
                  "scale_factor": 1,
                  "size": [
                    55,
                    55
                  ],
                  "styles": {},
                  "type": "#15AFAC"
                },
                {
                  "color": "#15AFAC",
                  "coordinates": [
                    19.436303,
                    -99.072097
                  ],
                  "id": "MEX",
                  "label": "Mexico-City",
                  "position": [
                    0,
                    0
                  ],
                  "properties": {
                    "country": "Mexico",
                    "country_id": "mx",
                    "label": "Mexico-City",
                    "passengers": 46000000
                  },
                  "scale_factor": 1,
                  "size": [
                    55,
                    55
                  ],
                  "styles": {},
                  "type": "#15AFAC"
                },
                {
                  "color": "#15AFAC",
                  "coordinates": [
                    14.583272,
                    -90.527475
                  ],
                  "id": "GUA",
                  "label": "Guatemala-City",
                  "position": [
                    0,
                    0
                  ],
                  "properties": {
                    "country": "Guatemala",
                    "country_id": "gt",
                    "label": "Guatemala-City",
                    "passengers": 2000000
                  },
                  "scale_factor": 1,
                  "size": [
                    55,
                    55
                  ],
                  "styles": {},
                  "type": "#15AFAC"
                },
                {
                  "color": "#15AFAC",
                  "coordinates": [
                    -34.822222,
                    -58.535833
                  ],
                  "id": "EZE",
                  "label": "Buenos Aires",
                  "position": [
                    0,
                    0
                  ],
                  "properties": {
                    "country": "Argentina",
                    "country_id": "ar",
                    "label": "Buenos Aires",
                    "passengers": 5000000
                  },
                  "scale_factor": 1,
                  "size": [
                    55,
                    55
                  ],
                  "styles": {},
                  "type": "#15AFAC"
                },
                {
                  "color": "#15AFAC",
                  "coordinates": [
                    -23.432075,
                    -46.469511
                  ],
                  "id": "GRU",
                  "label": "Sao Paulo",
                  "position": [
                    0,
                    0
                  ],
                  "properties": {
                    "country": "Brazil",
                    "country_id": "br",
                    "label": "Sao Paulo",
                    "passengers": 34000000
                  },
                  "scale_factor": 1,
                  "size": [
                    55,
                    55
                  ],
                  "styles": {},
                  "type": "#15AFAC"
                },
                {
                  "color": "#15AFAC",
                  "coordinates": [
                    -33.392975,
                    -70.785803
                  ],
                  "id": "SCL",
                  "label": "Santiago de Chile",
                  "position": [
                    0,
                    0
                  ],
                  "properties": {
                    "country": "Chile",
                    "country_id": "cl",
                    "label": "Santiago de Chile",
                    "passengers": 20000000
                  },
                  "scale_factor": 1,
                  "size": [
                    55,
                    55
                  ],
                  "styles": {},
                  "type": "#15AFAC"
                },
                {
                  "color": "#15AFAC",
                  "coordinates": [
                    -15.871111,
                    -47.918611
                  ],
                  "id": "BSB",
                  "label": "Brasilia",
                  "position": [
                    0,
                    0
                  ],
                  "properties": {
                    "country": "Brazil",
                    "country_id": "br",
                    "label": "Brasilia",
                    "passengers": 13000000
                  },
                  "scale_factor": 1,
                  "size": [
                    55,
                    55
                  ],
                  "styles": {},
                  "type": "#15AFAC"
                },
                {
                  "color": "#15AFAC",
                  "coordinates": [
                    4.701594,
                    -74.146947
                  ],
                  "id": "BOG",
                  "label": "Bogota",
                  "position": [
                    0,
                    0
                  ],
                  "properties": {
                    "country": "Colombia",
                    "country_id": "co",
                    "label": "Bogota",
                    "passengers": 36000000
                  },
                  "scale_factor": 1,
                  "size": [
                    55,
                    55
                  ],
                  "styles": {},
                  "type": "#15AFAC"
                },
                {
                  "color": "#15AFAC",
                  "coordinates": [
                    10.601194,
                    -66.991222
                  ],
                  "id": "CCS",
                  "label": "Caracas",
                  "position": [
                    0,
                    0
                  ],
                  "properties": {
                    "country": "Venezuela",
                    "country_id": "ve",
                    "label": "Caracas",
                    "passengers": 8000000
                  },
                  "scale_factor": 1,
                  "size": [
                    55,
                    55
                  ],
                  "styles": {},
                  "type": "#15AFAC"
                }
              ],
              "_overview": {
                "enabled": null,
                "overview_set": false
              },
              "_selected_graph": [
                [],
                []
              ],
              "_sidebar": {
                "enabled": false,
                "start_with": "About"
              },
              "_view_module_version": "^1.10.2",
              "layout": "IPY_MODEL_68927f376c7d40aca80bc3bd81ac055e"
            }
          }
        },
        "version_major": 2,
        "version_minor": 0
      }
    }
  },
  "nbformat": 4,
  "nbformat_minor": 5
}