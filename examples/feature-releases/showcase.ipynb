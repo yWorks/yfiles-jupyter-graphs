{
  "cells": [
    {
      "cell_type": "markdown",
      "id": "113608e6-c336-46a2-99fc-7350f0731072",
      "metadata": {
        "id": "113608e6-c336-46a2-99fc-7350f0731072"
      },
      "source": [
        "# Showcase <a target=\"_blank\" href=\"https://colab.research.google.com/github/yWorks/yfiles-jupyter-graphs/blob/main/examples/feature-releases/showcase.ipynb\"><img src=\"https://colab.research.google.com/assets/colab-badge.svg\" alt=\"Open In Colab\"/></a>\n",
        "\n",
        "This notebook showcases some features of the `yfiles_jupyter_graphs` widget."
      ]
    },
    {
      "cell_type": "code",
      "execution_count": 1,
      "id": "3a0ebbde-0510-4ec4-93cf-511948e07ce5",
      "metadata": {
        "id": "3a0ebbde-0510-4ec4-93cf-511948e07ce5",
        "outputId": "b32f6e02-0a4a-40e7-b1cf-bf6dfeb34871",
        "colab": {
          "base_uri": "https://localhost:8080/"
        }
      },
      "outputs": [
        {
          "output_type": "stream",
          "name": "stdout",
          "text": [
            "\u001b[2K   \u001b[90m━━━━━━━━━━━━━━━━━━━━━━━━━━━━━━━━━━━━━━━━\u001b[0m \u001b[32m15.7/15.7 MB\u001b[0m \u001b[31m33.9 MB/s\u001b[0m eta \u001b[36m0:00:00\u001b[0m\n",
            "\u001b[2K   \u001b[90m━━━━━━━━━━━━━━━━━━━━━━━━━━━━━━━━━━━━━━━━\u001b[0m \u001b[32m1.6/1.6 MB\u001b[0m \u001b[31m24.5 MB/s\u001b[0m eta \u001b[36m0:00:00\u001b[0m\n",
            "\u001b[?25h"
          ]
        }
      ],
      "source": [
        "%pip install yfiles_jupyter_graphs --quiet\n",
        "from yfiles_jupyter_graphs import GraphWidget"
      ]
    },
    {
      "cell_type": "code",
      "execution_count": 2,
      "id": "1d4873da-a6c7-4eeb-9ea5-ee6c30687fd6",
      "metadata": {
        "id": "1d4873da-a6c7-4eeb-9ea5-ee6c30687fd6"
      },
      "outputs": [],
      "source": [
        "try:\n",
        "  import google.colab\n",
        "  from google.colab import output\n",
        "  output.enable_custom_widget_manager()\n",
        "except:\n",
        "  pass"
      ]
    },
    {
      "cell_type": "markdown",
      "id": "59a03284-1fce-49e8-9b41-b00261ec324e",
      "metadata": {
        "id": "59a03284-1fce-49e8-9b41-b00261ec324e"
      },
      "source": [
        "<a target=\"_blank\" href=\"https://colab.research.google.com/github/yWorks/yfiles-jupyter-graphs/blob/main/examples/feature-releases/showcase.ipynb\"><img src=\"https://colab.research.google.com/assets/colab-badge.svg\" alt=\"Open In Colab\"/></a>"
      ]
    },
    {
      "cell_type": "markdown",
      "id": "4e858a55-b18c-488c-babd-6a26e909e8c0",
      "metadata": {
        "id": "4e858a55-b18c-488c-babd-6a26e909e8c0"
      },
      "source": [
        "## Sample Data\n",
        "\n",
        "The dataset for this sample is the following airport and flight routes data:"
      ]
    },
    {
      "cell_type": "code",
      "execution_count": 3,
      "id": "3873e61a-ed07-4a9f-8255-d188a22a4cbf",
      "metadata": {
        "id": "3873e61a-ed07-4a9f-8255-d188a22a4cbf"
      },
      "outputs": [],
      "source": [
        "airports_json = [\n",
        "    {\"name\": \"Los Angeles\", \"iata\": \"LAX\", \"lat\": 33.942536, \"lng\": -118.408075, \"passengers\": 65000000, \"country\": \"USA\", \"id\": \"LAX\", \"country_id\": \"us\"}, {\"name\": \"Rio de Janeiro\", \"iata\": \"GIG\", \"lat\": -22.808903, \"lng\": -43.243647, \"passengers\": 5000000, \"country\": \"Brazil\", \"id\": \"GIG\",\"country_id\": \"br\"}, {\"name\": \"Lima\", \"iata\": \"LIM\", \"lat\": -12.021889, \"lng\": -77.114319, \"passengers\": 18000000, \"country\": \"Peru\", \"id\": \"LIM\", \"country_id\": \"pe\"}, {\"name\": \"London\", \"iata\": \"LHR\", \"lat\": 51.4775, \"lng\": -0.461389, \"passengers\": 61000000, \"country\": \"UK\", \"id\": \"LHR\", \"country_id\": \"gb\"},\n",
        "    {\"name\": \"Frankfurt\", \"iata\": \"FRA\", \"lat\": 50.033333, \"lng\": 8.570556, \"passengers\": 48000000, \"country\": \"Germany\", \"id\": \"FRA\", \"country_id\": \"de\"}, {\"name\": \"Moscow\", \"iata\": \"SVO\", \"lat\": 55.972642, \"lng\": 37.414589, \"passengers\": 49000000, \"country\": \"Russia\", \"id\": \"SVO\", \"country_id\": \"ru\"}, {\"name\": \"New Delhi\", \"iata\": \"DEL\", \"lat\": 28.5665, \"lng\": 77.103089, \"passengers\": 39000000, \"country\": \"India\", \"id\": \"DEL\", \"country_id\": \"in\"}, {\"name\": \"Shanghai\", \"iata\": \"PVG\", \"lat\": 31.143378, \"lng\": 121.805214, \"passengers\": 32000000, \"country\": \"China\", \"id\": \"PVG\", \"country_id\": \"hk\"},\n",
        "    {\"name\": \"Hongkong\", \"iata\": \"HKG\", \"lat\": 22.308919, \"lng\": 113.914603, \"passengers\": 1000000, \"country\": \"China\", \"id\": \"HKG\", \"country_id\": \"hk\"}, {\"name\": \"Tokio\", \"iata\": \"NRT\", \"lat\": 35.764722, \"lng\": 140.386389, \"passengers\": 15000000, \"country\": \"Japan\", \"id\": \"NRT\", \"country_id\": \"jp\"}, {\"name\": \"Dubai\", \"iata\": \"DXB\", \"lat\": 25.252778, \"lng\": 55.364444, \"passengers\": 29000000, \"country\": \"UAE\", \"id\": \"DXB\", \"country_id\": \"ae\"}, {\"name\": \"Dakar\", \"iata\": \"DKR\", \"lat\": 14.670833, \"lng\": -17.072778, \"passengers\": 2000000, \"country\": \"Senegal\", \"id\": \"DKR\", \"country_id\": \"sn\"},\n",
        "    {\"name\": \"Johannesburg\", \"iata\": \"JNB\", \"lat\": -26.133694, \"lng\": 28.242317, \"passengers\": 9000000, \"country\": \"South Africa\", \"id\": \"JNB\", \"country_id\": \"za\"}, {\"name\": \"Sydney\", \"iata\": \"SYD\", \"lat\": -33.946111, \"lng\": 151.177222, \"passengers\": 44000000, \"country\": \"Australia\", \"id\": \"SYD\", \"country_id\": \"au\"}, {\"name\": \"Nairobi\", \"iata\": \"NBO\", \"lat\": -1.319167, \"lng\": 36.927778, \"passengers\": 900000, \"country\": \"Kenya\", \"id\": \"NBO\", \"country_id\": \"ke\"}, {\"name\": \"Atlanta\", \"iata\": \"ATL\", \"lat\": 33.639167, \"lng\": -84.427778, \"passengers\": 93000000, \"country\": \"USA\", \"id\": \"ATL\", \"country_id\": \"us\"},\n",
        "    {\"name\": \"New York City\", \"iata\": \"JFK\", \"lat\": 40.63975, \"lng\": -73.778925, \"passengers\": 55000000, \"country\": \"USA\", \"id\": \"JFK\", \"country_id\": \"us\"}, {\"name\": \"Cairo\", \"iata\": \"CAI\", \"lat\": 30.121944, \"lng\": 31.405556, \"passengers\": 14000000, \"country\": \"Egypt\", \"id\": \"CAI\", \"country_id\": \"eg\"}, {\"name\": \"Casablanca\", \"iata\": \"CMN\", \"lat\": 33.367467, \"lng\": -7.589967, \"passengers\": 7000000, \"country\": \"Morocco\", \"id\": \"CMN\", \"country_id\": \"ma\"}, {\"name\": \"Lagos\", \"iata\": \"LOS\", \"lat\": 6.577222, \"lng\": 3.321111, \"passengers\": 5000000, \"country\": \"Nigeria\", \"id\": \"LOS\", \"country_id\": \"ng\"},\n",
        "    {\"name\": \"Cape Town\", \"iata\": \"CPT\", \"lat\": -33.969444, \"lng\": 18.597222, \"passengers\": 5000000, \"country\": \"South Africa\", \"id\": \"CPT\", \"country_id\": \"za\"}, {\"name\": \"Chengdu\", \"iata\": \"CTU\", \"lat\": 30.578333, \"lng\": 103.946944, \"passengers\": 40000000, \"country\": \"China\", \"id\": \"CTU\", \"country_id\": \"hk\"}, {\"name\": \"Jakarta\", \"iata\": \"CGK\", \"lat\": -6.125567, \"lng\": 106.655897, \"passengers\": 54000000, \"country\": \"Indonesia\", \"id\": \"CGK\", \"country_id\": \"id\"}, {\"name\": \"Teheran\", \"iata\": \"IKA\", \"lat\": 35.416111, \"lng\": 51.152222, \"passengers\": 8000000, \"country\": \"Iran\", \"id\": \"IKA\", \"country_id\": \"ir\"},\n",
        "    {\"name\": \"Tel Aviv\", \"iata\": \"TLV\", \"lat\": 32.011389, \"lng\": 34.886667, \"passengers\": 20000000, \"country\": \"Israel\", \"id\": \"TLV\", \"country_id\": \"il\"}, {\"name\": \"Kuala Lumpur\", \"iata\": \"KUL\", \"lat\": 2.745578, \"lng\": 101.709917, \"passengers\": 25000000, \"country\": \"Malaysia\", \"id\": \"KUL\", \"country_id\": \"my\"}, {\"name\": \"Manila\", \"iata\": \"MNL\", \"lat\": 14.508647, \"lng\": 121.019581, \"passengers\": 8000000, \"country\": \"Philippines\", \"id\": \"MNL\", \"country_id\": \"ph\"}, {\"name\": \"Singapur\", \"iata\": \"SIN\", \"lat\": 1.350189, \"lng\": 103.994433, \"passengers\": 32000000, \"country\": \"Singapore\", \"id\": \"SIN\", \"country_id\": \"sg\"},\n",
        "    {\"name\": \"Taipeh\", \"iata\": \"TPE\", \"lat\": 25.077732, \"lng\": 121.232822, \"passengers\": 800000, \"country\": \"Taiwan\", \"id\": \"TPE\", \"country_id\": \"tw\"}, {\"name\": \"Bangkok\", \"iata\": \"BKK\", \"lat\": 13.681108, \"lng\": 100.747283, \"passengers\": 65000000, \"country\": \"Thailand\", \"id\": \"BKK\", \"country_id\": \"th\"}, {\"name\": \"Istanbul\", \"iata\": \"IST\", \"lat\": 40.976922, \"lng\": 28.814606, \"passengers\": 64000000, \"country\": \"Turkey\", \"id\": \"IST\", \"country_id\": \"tr\"}, {\"name\": \"Ulaanbaatar\", \"iata\": \"ULN\", \"lat\": 47.843056, \"lng\": 106.766639, \"passengers\": 1000000, \"country\": \"Mongolia\", \"id\": \"ULN\", \"country_id\": \"mn\"},\n",
        "    {\"name\": \"Melbourne\", \"iata\": \"MEL\", \"lat\": -37.673333, \"lng\": 144.843333, \"passengers\": 12000000, \"country\": \"Australia\", \"id\": \"MEL\", \"country_id\": \"au\"}, {\"name\": \"Brisbane\", \"iata\": \"BNE\", \"lat\": -27.383333, \"lng\": 153.118056, \"passengers\": 23000000, \"country\": \"Australia\", \"id\": \"BNE\", \"country_id\": \"au\"}, {\"name\": \"Nadi\", \"iata\": \"NAN\", \"lat\": -17.755392, \"lng\": 177.443378, \"passengers\": 2000000, \"country\": \"Fiji\", \"id\": \"NAN\", \"country_id\": \"fj\"}, {\"name\": \"Auckland\", \"iata\": \"AKL\", \"lat\": -37.008056, \"lng\": 174.791667, \"passengers\": 21000000, \"country\": \"New Zealand\", \"id\": \"AKL\", \"country_id\": \"nz\"},\n",
        "    {\"name\": \"Paris\", \"iata\": \"CDG\", \"lat\": 49.009722, \"lng\": 2.547778, \"passengers\": 57000000, \"country\": \"France\", \"id\": \"CDG\", \"country_id\": \"fr\"}, {\"name\": \"Madrid\", \"iata\": \"MAD\", \"lat\": 40.4675, \"lng\": -3.551944, \"passengers\": 50000000, \"country\": \"Spain\", \"id\": \"MAD\", \"country_id\": \"es\"}, {\"name\": \"Barcelona\", \"iata\": \"BCN\", \"lat\": 41.297078, \"lng\": 2.078464, \"passengers\": 41000000, \"country\": \"Spain\", \"id\": \"BCN\", \"country_id\": \"es\"}, {\"name\": \"Rome\", \"iata\": \"FCO\", \"lat\": 41.804444, \"lng\": 12.250833, \"passengers\": 29000000, \"country\": \"Italy\", \"id\": \"FCO\", \"country_id\": \"it\"},\n",
        "    {\"name\": \"Copenhagen\", \"iata\": \"CPH\", \"lat\": 55.617917, \"lng\": 12.655972, \"passengers\": 30000000, \"country\": \"Denmark\", \"id\": \"CPH\", \"country_id\": \"dk\"}, {\"name\": \"Helsinki\", \"iata\": \"HEL\", \"lat\": 60.317222, \"lng\": 24.963333, \"passengers\": 5000000, \"country\": \"Finland\", \"id\": \"HEL\", \"country_id\": \"fi\"}, {\"name\": \"Athens\", \"iata\": \"ATH\", \"lat\": 37.936358, \"lng\": 23.944467, \"passengers\": 22000000, \"country\": \"Greece\", \"id\": \"ATH\", \"country_id\": \"gr\"}, {\"name\": \"Dublin\", \"iata\": \"DUB\", \"lat\": 53.421333, \"lng\": -6.270075, \"passengers\": 32000000, \"country\": \"Ireland\", \"id\": \"DUB\", \"country_id\": \"ie\"},\n",
        "    {\"name\": \"Reykjavik\", \"iata\": \"RKV\", \"lat\": 64.13, \"lng\": -21.940556, \"passengers\": 400000, \"country\": \"Iceland\", \"id\": \"RKV\", \"country_id\": \"is\"}, {\"name\": \"Oslo\", \"iata\": \"OSL\", \"lat\": 60.193917, \"lng\": 11.100361, \"passengers\": 9000000, \"country\": \"Norway\", \"id\": \"OSL\", \"country_id\": \"no\"}, {\"name\": \"Vienna\", \"iata\": \"VIE\", \"lat\": 48.110833, \"lng\": 16.570833, \"passengers\": 10000000, \"country\": \"Austria\", \"id\": \"VIE\", \"country_id\": \"at\"}, {\"name\": \"Lisbon\", \"iata\": \"LIS\", \"lat\": 38.774167, \"lng\": -9.134167, \"passengers\": 28000000, \"country\": \"Portugal\", \"id\": \"LIS\", \"country_id\": \"pt\"},\n",
        "    {\"name\": \"Stockholm\", \"iata\": \"ARN\", \"lat\": 59.651944, \"lng\": 17.918611, \"passengers\": 7000000, \"country\": \"Sweden\", \"id\": \"ARN\", \"country_id\": \"se\"}, {\"name\": \"Edinburgh\", \"iata\": \"EDI\", \"lat\": 55.95, \"lng\": -3.3725, \"passengers\": 14000000, \"country\": \"UK\", \"id\": \"EDI\", \"country_id\": \"gb\"}, {\"name\": \"Chicago\", \"iata\": \"ORD\", \"lat\": 41.978603, \"lng\": -87.904842, \"passengers\": 54000000, \"country\": \"USA\", \"id\": \"ORD\", \"country_id\": \"us\"}, {\"name\": \"Dallas\", \"iata\": \"DFW\", \"lat\": 32.896828, \"lng\": -97.037997, \"passengers\": 73000000, \"country\": \"USA\", \"id\": \"DFW\", \"country_id\": \"us\"},\n",
        "    {\"name\": \"San Francisco\", \"iata\": \"SFO\", \"lat\": 37.618972, \"lng\": -122.374889, \"passengers\": 42000000, \"country\": \"USA\", \"id\": \"SFO\", \"country_id\": \"us\"}, {\"name\": \"Las Vegas\", \"iata\": \"LAS\", \"lat\": 36.080056, \"lng\": -115.15225, \"passengers\": 52000000, \"country\": \"USA\", \"id\": \"LAS\", \"country_id\": \"us\"}, {\"name\": \"Miami\", \"iata\": \"MIA\", \"lat\": 25.79325, \"lng\": -80.290556, \"passengers\": 50000000, \"country\": \"USA\", \"id\": \"MIA\", \"country_id\": \"us\"}, {\"name\": \"Toronto\", \"iata\": \"YYZ\", \"lat\": 43.677222, \"lng\": -79.630556, \"passengers\": 12000000, \"country\": \"Canada\", \"id\": \"YYZ\", \"country_id\": \"ca\"},\n",
        "    {\"name\": \"Vancouver\", \"iata\": \"YVR\", \"lat\": 49.193889, \"lng\": -123.184444, \"passengers\": 19000000, \"country\": \"Canada\", \"id\": \"YVR\", \"country_id\": \"ca\"}, {\"name\": \"Montreal\", \"iata\": \"YUL\", \"lat\": 45.47175, \"lng\": -73.736569, \"passengers\": 15000000, \"country\": \"Canada\", \"id\": \"YUL\", \"country_id\": \"ca\"}, {\"name\": \"Mexico-City\", \"iata\": \"MEX\", \"lat\": 19.436303, \"lng\": -99.072097, \"passengers\": 46000000, \"country\": \"Mexico\", \"id\": \"MEX\", \"country_id\": \"mx\"}, {\"name\": \"Guatemala-City\", \"iata\": \"GUA\", \"lat\": 14.583272, \"lng\": -90.527475, \"passengers\": 2000000, \"country\": \"Guatemala\", \"id\": \"GUA\", \"country_id\": \"gt\"},\n",
        "    {\"name\": \"Buenos Aires\", \"iata\": \"EZE\", \"lat\": -34.822222, \"lng\": -58.535833, \"passengers\": 5000000, \"country\": \"Argentina\", \"id\": \"EZE\", \"country_id\": \"ar\"}, {\"name\": \"Sao Paulo\", \"iata\": \"GRU\", \"lat\": -23.432075, \"lng\": -46.469511, \"passengers\": 34000000, \"country\": \"Brazil\", \"id\": \"GRU\", \"country_id\": \"br\"}, {\"name\": \"Santiago de Chile\", \"iata\": \"SCL\", \"lat\": -33.392975, \"lng\": -70.785803, \"passengers\": 20000000, \"country\": \"Chile\", \"id\": \"SCL\", \"country_id\": \"cl\"}, {\"name\": \"Brasilia\", \"iata\": \"BSB\", \"lat\": -15.871111, \"lng\": -47.918611, \"passengers\": 13000000, \"country\": \"Brazil\", \"id\": \"BSB\", \"country_id\": \"br\"},\n",
        "    {\"name\": \"Bogota\", \"iata\": \"BOG\", \"lat\": 4.701594, \"lng\": -74.146947, \"passengers\": 36000000, \"country\": \"Colombia\", \"id\": \"BOG\", \"country_id\": \"co\"}, {\"name\": \"Caracas\", \"iata\": \"CCS\", \"lat\": 10.601194, \"lng\": -66.991222, \"passengers\": 8000000, \"country\": \"Venezuela\", \"id\": \"CCS\", \"country_id\": \"ve\"}\n",
        "  ]\n",
        "\n",
        "connections_json = [\n",
        "    {'from': 'LAX','to': 'JFK' },   {'from': 'JFK','to': 'GIG' },    {'from': 'JFK','to': 'LIM' },    {'from': 'JFK','to': 'LHR' },    {'from': 'GIG','to': 'FRA' },    {'from': 'LIM','to': 'GIG' },    {'from': 'FRA','to': 'JFK' },    {'from': 'LHR','to': 'FRA' },    {'from': 'FRA','to': 'SVO' },    {'from': 'FRA','to': 'DXB' },    {'from': 'SVO','to': 'DEL' },\n",
        "    {'from': 'SVO','to': 'PVG' },    {'from': 'DEL','to': 'HKG' },    {'from': 'PVG','to': 'HKG' },    {'from': 'PVG','to': 'NRT' },    {'from': 'HKG','to': 'SYD' },    {'from': 'NRT','to': 'SYD' },    {'from': 'DXB','to': 'SVO' },    {'from': 'DXB','to': 'DEL' },    {'from': 'DXB','to': 'DKR' },    {'from': 'DXB','to': 'JNB' },    {'from': 'JNB','to': 'LHR' },\n",
        "    {'from': 'JNB','to': 'DKR' },    {'from': 'SYD','to': 'DXB' },    {'from': 'NBO','to': 'JNB' },    {'from': 'NBO','to': 'DXB' },    {'from': 'ATL','to': 'JFK' },    {'from': 'LAX','to': 'ATL' },    {'from': 'ATL','to': 'LHR' },    {'from': 'ATL','to': 'LIM' },    {'from': 'SCL','to': 'LIM' },    {'from': 'EZE','to': 'SCL' },    {'from': 'SCL','to': 'GRU' },\n",
        "    {'from': 'GIG','to': 'EZE' },    {'from': 'GIG','to': 'GRU' },    {'from': 'BSB','to': 'GIG' },    {'from': 'SCL','to': 'BSB' },    {'from': 'LIM','to': 'BSB' },    {'from': 'BOG','to': 'BSB' },    {'from': 'CCS','to': 'BSB' },    {'from': 'BOG','to': 'GUA' },    {'from': 'CCS','to': 'MIA' },    {'from': 'GUA','to': 'MIA' },    {'from': 'GUA','to': 'MEX' },\n",
        "    {'from': 'MEX','to': 'LAX' },    {'from': 'MEX','to': 'LAX' },    {'from': 'LAX','to': 'SFO' },    {'from': 'SFO','to': 'YVR' },    {'from': 'LAX','to': 'LAS' },    {'from': 'LAX','to': 'DFW' },    {'from': 'LAX','to': 'ORD' },    {'from': 'SFO','to': 'LAS' },    {'from': 'DFW','to': 'ATL' },    {'from': 'ATL','to': 'YYZ' },    {'from': 'ORD','to': 'YYZ' },\n",
        "    {'from': 'YYZ','to': 'YUL' },    {'from': 'YYZ','to': 'JFK' },    {'from': 'YUL','to': 'JFK' },    {'from': 'JNB','to': 'CPT' },    {'from': 'LOS','to': 'DKR' },    {'from': 'NBO','to': 'LOS' },    {'from': 'DKR','to': 'CMN' },    {'from': 'DKR','to': 'CAI' },    {'from': 'NBO','to': 'CAI' },    {'from': 'DXB','to': 'CAI' },    {'from': 'IKA','to': 'DXB' },\n",
        "    {'from': 'IST','to': 'IKA' },    {'from': 'TLV','to': 'ATH' },    {'from': 'CAI','to': 'TLV' },    {'from': 'ATH','to': 'IST' },    {'from': 'FCO','to': 'ATH' },    {'from': 'LIS','to': 'LHR' },    {'from': 'LIS','to': 'MAD' },    {'from': 'MAD','to': 'BCN' },    {'from': 'CDG','to': 'LHR' },    {'from': 'DUB','to': 'LHR' },    {'from': 'EDI','to': 'LHR' },\n",
        "    {'from': 'CDG','to': 'BCN' },    {'from': 'BCN','to': 'FCO' },    {'from': 'VIE','to': 'IST' },    {'from': 'VIE','to': 'SVO' },    {'from': 'CMN','to': 'LIS' },    {'from': 'MAD','to': 'CMN' },    {'from': 'FRA','to': 'CPH' },    {'from': 'LHR','to': 'CPH' },    {'from': 'CPH','to': 'OSL' },    {'from': 'CPH','to': 'ARN' },    {'from': 'ARN','to': 'HEL' },\n",
        "    {'from': 'HEL','to': 'SVO' },    {'from': 'ULN','to': 'PVG' },    {'from': 'CTU','to': 'PVG' },    {'from': 'PVG','to': 'TPE' },    {'from': 'CTU','to': 'HKG' },    {'from': 'TPE','to': 'HKG' },    {'from': 'HKG','to': 'MNL' },    {'from': 'BKK','to': 'HKG' },    {'from': 'SIN','to': 'KUL' },    {'from': 'SIN','to': 'BKK' },    {'from': 'CGK','to': 'SIN' },\n",
        "    {'from': 'MNL','to': 'SIN' },    {'from': 'SIN','to': 'SYD' },    {'from': 'BNE','to': 'SYD' },    {'from': 'SYD','to': 'MEL' },    {'from': 'NAN','to': 'SYD' },    {'from': 'AKL','to': 'SYD' },    {'from': 'NAN','to': 'AKL' },    {'from': 'RKV','to': 'LHR' },    {'from': 'BCN','to': 'CDG' },    {'from': 'BCN','to': 'FRA' },    {'from': 'FCO','to': 'FRA' },\n",
        "    {'from': 'BOG','to': 'MEX' },    {'from': 'BOG','to': 'GRU' },    {'from': 'ATL','to': 'MIA' },    {'from': 'FRA','to': 'IST' },    {'from': 'IST','to': 'DEL' },    {'from': 'PVG','to': 'BKK' },    {'from': 'DEL','to': 'BKK' },\n",
        "  ]\n",
        "\n",
        "def initData():\n",
        "    return ([\n",
        "        {\"id\": airport['iata'], \"properties\": {\"label\": airport['name'], 'passengers': airport['passengers'], 'country': airport['country'], \"country_id\": airport['country_id']}, \"coordinates\": [airport['lat'], airport['lng']]}\n",
        "        for airport in airports_json\n",
        "    ], [\n",
        "        {\"start\": connection['from'], \"end\": connection['to'], \"label\": \"\", \"properties\": {}, \"directed\": False}\n",
        "        for connection in connections_json\n",
        "    ])\n",
        "\n",
        "airports, connections = initData()"
      ]
    },
    {
      "cell_type": "markdown",
      "id": "9bfba458-c2f7-4019-a1ba-d411d51a96e8",
      "metadata": {
        "id": "9bfba458-c2f7-4019-a1ba-d411d51a96e8"
      },
      "source": [
        "## Data-driven visualization\n",
        "\n",
        "Make the flight data more accessible with simple node styling options.\n",
        "\n",
        "The widget supports lots of different options to adjust the diagram visualization. All options are data-driven so you can easily map your data characteristics to visual features.   There are many different visualization options for nodes and edges as shown in [08_styles_mapping.ipynb](../08_styles_mapping.ipynb).\n",
        "\n",
        "In this case, we map the country data to flag icons."
      ]
    },
    {
      "cell_type": "code",
      "execution_count": 4,
      "id": "a990cca7-894c-46dc-a90d-b1e2d12026e7",
      "metadata": {
        "id": "a990cca7-894c-46dc-a90d-b1e2d12026e7",
        "outputId": "ba6c07aa-c118-4e7d-85b0-107b348dc301",
        "colab": {
          "base_uri": "https://localhost:8080/",
          "height": 817,
          "referenced_widgets": [
            "2a4d350d9d7041a5ac3e0ab209740c86",
            "c8004d1716ae49d48343550dfa945ba1"
          ]
        }
      },
      "outputs": [
        {
          "output_type": "display_data",
          "data": {
            "text/plain": [
              "GraphWidget(layout=Layout(height='800px', width='100%'))"
            ],
            "application/vnd.jupyter.widget-view+json": {
              "version_major": 2,
              "version_minor": 0,
              "model_id": "2a4d350d9d7041a5ac3e0ab209740c86"
            }
          },
          "metadata": {
            "application/vnd.jupyter.widget-view+json": {
              "colab": {
                "custom_widget_manager": {
                  "url": "https://ssl.gstatic.com/colaboratory-static/widgets/colab-cdn-widget-manager/2b70e893a8ba7c0f/manager.min.js"
                }
              }
            }
          }
        }
      ],
      "source": [
        "w = GraphWidget()\n",
        "w.edges = connections\n",
        "w.nodes = airports\n",
        "\n",
        "# the data-driven visualization mappings assigns an image to each node\n",
        "w.set_node_styles_mapping(lambda node: {'image': f\"https://raw.githubusercontent.com/lipis/flag-icons/e119b66129af6dd849754ccf25dfbf81d4a306d5/flags/1x1/{node['properties']['country_id']}.svg\"})\n",
        "\n",
        "display(w)"
      ]
    },
    {
      "cell_type": "markdown",
      "id": "28cb9451-114a-493e-bfa9-fbe85ba48169",
      "metadata": {
        "id": "28cb9451-114a-493e-bfa9-fbe85ba48169"
      },
      "source": [
        "## Automatic layouts\n",
        "\n",
        "The widget offers several automatic layouts like `hierarchic`, `organic`, `interactive_organic`, `circular`, `radial`, `orthogonal`, and `tree`. Each layout serves a different purpose and can help highlight different aspects of the diagram (see also [22_layouts.ipynb](../22_layouts.ipynb)).\n",
        "\n",
        "You can either choose the layout interactively through the UI of the widget, or programmatically when defining it. For example, set the `circular` layout like so:"
      ]
    },
    {
      "cell_type": "code",
      "execution_count": 5,
      "id": "32fde2cd-3857-4852-8697-d8bcada474ef",
      "metadata": {
        "id": "32fde2cd-3857-4852-8697-d8bcada474ef",
        "outputId": "0672c6e2-d4ef-4675-f91c-2ca947e0c837",
        "colab": {
          "base_uri": "https://localhost:8080/",
          "height": 817,
          "referenced_widgets": [
            "2c00878064a04115bd7510c88f45b45d",
            "bc7da3c0b86243e1ac381996fca56465"
          ]
        }
      },
      "outputs": [
        {
          "output_type": "display_data",
          "data": {
            "text/plain": [
              "GraphWidget(layout=Layout(height='800px', width='100%'))"
            ],
            "application/vnd.jupyter.widget-view+json": {
              "version_major": 2,
              "version_minor": 0,
              "model_id": "2c00878064a04115bd7510c88f45b45d"
            }
          },
          "metadata": {
            "application/vnd.jupyter.widget-view+json": {
              "colab": {
                "custom_widget_manager": {
                  "url": "https://ssl.gstatic.com/colaboratory-static/widgets/colab-cdn-widget-manager/2b70e893a8ba7c0f/manager.min.js"
                }
              }
            }
          }
        }
      ],
      "source": [
        "w = GraphWidget()\n",
        "w.edges = connections\n",
        "w.nodes = airports\n",
        "\n",
        "# programmatically apply the circular layout\n",
        "w.circular_layout()\n",
        "\n",
        "display(w)"
      ]
    },
    {
      "cell_type": "markdown",
      "id": "ea52986a-cef7-406e-9103-314ebd8bfcac",
      "metadata": {
        "id": "ea52986a-cef7-406e-9103-314ebd8bfcac"
      },
      "source": [
        "## Map visualization\n",
        "\n",
        "A special kind of layout is the map feature (see also [30_leaflet_mapping.ipynb](../30_leaflet_mapping.ipynb)). In this case, the `lat` / `lng` properties of the nodes are used while a map is shown in the background."
      ]
    },
    {
      "cell_type": "code",
      "execution_count": 6,
      "id": "a4ee52af-7f3b-4441-ab8a-db9e4590e7f6",
      "metadata": {
        "id": "a4ee52af-7f3b-4441-ab8a-db9e4590e7f6",
        "outputId": "be56ac2a-76fc-40f4-d175-b7e1b49912f3",
        "colab": {
          "base_uri": "https://localhost:8080/",
          "height": 817,
          "referenced_widgets": [
            "34797740bcaa430d96e6365ed18bf3cf",
            "d1acf0ce73a34d209f2a5369466ef54e"
          ]
        }
      },
      "outputs": [
        {
          "output_type": "display_data",
          "data": {
            "text/plain": [
              "GraphWidget(layout=Layout(height='800px', width='100%'))"
            ],
            "application/vnd.jupyter.widget-view+json": {
              "version_major": 2,
              "version_minor": 0,
              "model_id": "34797740bcaa430d96e6365ed18bf3cf"
            }
          },
          "metadata": {
            "application/vnd.jupyter.widget-view+json": {
              "colab": {
                "custom_widget_manager": {
                  "url": "https://ssl.gstatic.com/colaboratory-static/widgets/colab-cdn-widget-manager/2b70e893a8ba7c0f/manager.min.js"
                }
              }
            }
          }
        }
      ],
      "source": [
        "w = GraphWidget()\n",
        "w.edges = connections\n",
        "w.nodes = airports\n",
        "\n",
        "# use the coordinates data of the dataset\n",
        "w.node_coordinate_mapping = \"coordinates\"\n",
        "w.map_layout()\n",
        "\n",
        "display(w)"
      ]
    },
    {
      "cell_type": "markdown",
      "id": "61580169-4ab4-4a9d-946d-36cfbd925be5",
      "metadata": {
        "id": "61580169-4ab4-4a9d-946d-36cfbd925be5"
      },
      "source": [
        "## Node grouping\n",
        "\n",
        "There are different ways to group nodes. Either use already given node objects in the dataset or generate new \"artifical\" nodes that are used as groups. Both approaches are explained in [31_nested_graphs.ipynb](../31_nested_graphs.ipynb).\n",
        "\n",
        "In this case, we use the `country` property of the dataset to create new \"artifical\" group nodes that are not part of the initial input data. The new data objects are also considered for any data-driven visualization mappings. So you could also style them separately."
      ]
    },
    {
      "cell_type": "code",
      "execution_count": 7,
      "id": "f7fe77a2-7f2a-4f05-bc53-acfe5e706cbc",
      "metadata": {
        "id": "f7fe77a2-7f2a-4f05-bc53-acfe5e706cbc",
        "outputId": "4fc6f5a5-2d28-4610-baba-0b7019783767",
        "colab": {
          "base_uri": "https://localhost:8080/",
          "height": 817,
          "referenced_widgets": [
            "644afe4ffe074bac9d5f4cc7725ce93c",
            "8d03bf5da5ee49c28c2884cb5d9c4318"
          ]
        }
      },
      "outputs": [
        {
          "output_type": "display_data",
          "data": {
            "text/plain": [
              "GraphWidget(layout=Layout(height='800px', width='100%'))"
            ],
            "application/vnd.jupyter.widget-view+json": {
              "version_major": 2,
              "version_minor": 0,
              "model_id": "644afe4ffe074bac9d5f4cc7725ce93c"
            }
          },
          "metadata": {
            "application/vnd.jupyter.widget-view+json": {
              "colab": {
                "custom_widget_manager": {
                  "url": "https://ssl.gstatic.com/colaboratory-static/widgets/colab-cdn-widget-manager/2b70e893a8ba7c0f/manager.min.js"
                }
              }
            }
          }
        }
      ],
      "source": [
        "w = GraphWidget()\n",
        "w.edges = connections\n",
        "w.nodes = airports\n",
        "\n",
        "# use the country property as parent-id for each node, note how the 'nodes' data does not contain distinct country node objects\n",
        "w.node_parent_group_mapping = \"country\"\n",
        "\n",
        "display(w)"
      ]
    },
    {
      "cell_type": "markdown",
      "id": "85f349f3-86f5-4e9b-9b87-756fac3ffb2a",
      "metadata": {
        "id": "85f349f3-86f5-4e9b-9b87-756fac3ffb2a"
      },
      "source": [
        "## Heatmap overlay\n",
        "\n",
        "The heat map overlay is another useful way to show an additional layer of information. It maps numerical data to a heatmap which can be used to easily find hotspots in the dataset (see also [29_heat_mapping.ipynb](../29_heat_mapping.ipynb)).\n",
        "\n",
        "In this case, we show the `passengers` property of the dataset as heatmap overlay."
      ]
    },
    {
      "cell_type": "code",
      "execution_count": 8,
      "id": "768fa440-a83c-4b46-8e3c-78a335914672",
      "metadata": {
        "id": "768fa440-a83c-4b46-8e3c-78a335914672",
        "outputId": "41a657aa-6dc0-4956-c096-6d0d0acc0eb0",
        "colab": {
          "base_uri": "https://localhost:8080/",
          "height": 817,
          "referenced_widgets": [
            "e998b03e461b4c14b3392f17251109bb",
            "7c99be4d8aeb4d499b1ab559ab3d19b9"
          ]
        }
      },
      "outputs": [
        {
          "output_type": "display_data",
          "data": {
            "text/plain": [
              "GraphWidget(layout=Layout(height='800px', width='100%'))"
            ],
            "application/vnd.jupyter.widget-view+json": {
              "version_major": 2,
              "version_minor": 0,
              "model_id": "e998b03e461b4c14b3392f17251109bb"
            }
          },
          "metadata": {
            "application/vnd.jupyter.widget-view+json": {
              "colab": {
                "custom_widget_manager": {
                  "url": "https://ssl.gstatic.com/colaboratory-static/widgets/colab-cdn-widget-manager/2b70e893a8ba7c0f/manager.min.js"
                }
              }
            }
          }
        }
      ],
      "source": [
        "w = GraphWidget()\n",
        "w.nodes = airports\n",
        "w.edges = connections\n",
        "def heat(element):\n",
        "    if 'start' in element:\n",
        "        #edge case\n",
        "        return 0\n",
        "    else: return (element['properties'].get('passengers',0) - 800000)/92200000\n",
        "w.set_heat_mapping(heat)\n",
        "w.map_layout()\n",
        "display(w)"
      ]
    },
    {
      "cell_type": "markdown",
      "id": "ce0db3ba-2dbf-4149-abe4-a962d7dc84a9",
      "metadata": {
        "id": "ce0db3ba-2dbf-4149-abe4-a962d7dc84a9"
      },
      "source": [
        "## Combining all features\n",
        "\n",
        "All different features can be combined to bring your data to life and help understanding the dataset."
      ]
    },
    {
      "cell_type": "code",
      "execution_count": 9,
      "id": "71bd7eba-d048-4a8f-a4b8-f42f0ae8f8a3",
      "metadata": {
        "id": "71bd7eba-d048-4a8f-a4b8-f42f0ae8f8a3",
        "outputId": "fddd8f49-4b54-4c92-ae1c-0b86e3ece061",
        "colab": {
          "base_uri": "https://localhost:8080/",
          "height": 817,
          "referenced_widgets": [
            "074cb12027664d3ba28a87861c1b03c3",
            "9ebea88fe4854e5e9f9a31a12f0ce4e2"
          ]
        }
      },
      "outputs": [
        {
          "output_type": "display_data",
          "data": {
            "text/plain": [
              "GraphWidget(layout=Layout(height='800px', width='100%'))"
            ],
            "application/vnd.jupyter.widget-view+json": {
              "version_major": 2,
              "version_minor": 0,
              "model_id": "074cb12027664d3ba28a87861c1b03c3"
            }
          },
          "metadata": {
            "application/vnd.jupyter.widget-view+json": {
              "colab": {
                "custom_widget_manager": {
                  "url": "https://ssl.gstatic.com/colaboratory-static/widgets/colab-cdn-widget-manager/2b70e893a8ba7c0f/manager.min.js"
                }
              }
            }
          }
        }
      ],
      "source": [
        "w = GraphWidget()\n",
        "w.nodes = airports\n",
        "w.edges = connections\n",
        "w.hierarchic_layout()\n",
        "w.set_heat_mapping(heat)\n",
        "w.node_coordinate_mapping = 'coordinates'\n",
        "w.node_parent_group_mapping = 'country'\n",
        "def styling(node):\n",
        "    if 'country_id' in node['properties']:\n",
        "        return {'image': f\"https://raw.githubusercontent.com/lipis/flag-icons/e119b66129af6dd849754ccf25dfbf81d4a306d5/flags/1x1/{node['properties'].get('country_id')}.svg\"}\n",
        "w.set_node_styles_mapping(styling)\n",
        "display(w)"
      ]
    }
  ],
  "metadata": {
    "kernelspec": {
      "display_name": "Python 3 (ipykernel)",
      "language": "python",
      "name": "python3"
    },
    "language_info": {
      "codemirror_mode": {
        "name": "ipython",
        "version": 3
      },
      "file_extension": ".py",
      "mimetype": "text/x-python",
      "name": "python",
      "nbconvert_exporter": "python",
      "pygments_lexer": "ipython3",
      "version": "3.12.3"
    },
    "widgets": {
      "application/vnd.jupyter.widget-state+json": {
        "2a4d350d9d7041a5ac3e0ab209740c86": {
          "model_module": "yfiles-jupyter-graphs",
          "model_name": "GraphModel",
          "model_module_version": "^1.10.9",
          "state": {
            "_context_pane_mapping": [
              {
                "id": "Neighborhood",
                "title": "Neighborhood"
              },
              {
                "id": "Data",
                "title": "Data"
              },
              {
                "id": "Search",
                "title": "Search"
              },
              {
                "id": "About",
                "title": "About"
              }
            ],
            "_data_importer": "unknown",
            "_directed": false,
            "_dom_classes": [],
            "_edges": [
              {
                "start": "LAX",
                "end": "JFK",
                "label": "",
                "properties": {},
                "directed": false,
                "id": "0db141e9-2144-46e8-a138-512223f79b4c",
                "color": "#15AFAC",
                "thickness_factor": 1,
                "styles": {}
              },
              {
                "start": "JFK",
                "end": "GIG",
                "label": "",
                "properties": {},
                "directed": false,
                "id": "356d1ec1-63f9-4716-99a0-bcc3b1e7a002",
                "color": "#15AFAC",
                "thickness_factor": 1,
                "styles": {}
              },
              {
                "start": "JFK",
                "end": "LIM",
                "label": "",
                "properties": {},
                "directed": false,
                "id": "bda65544-ec10-43f2-8eee-d5db9f3d44fd",
                "color": "#15AFAC",
                "thickness_factor": 1,
                "styles": {}
              },
              {
                "start": "JFK",
                "end": "LHR",
                "label": "",
                "properties": {},
                "directed": false,
                "id": "c49e4932-d024-4c6f-862c-e2d3549e16d3",
                "color": "#15AFAC",
                "thickness_factor": 1,
                "styles": {}
              },
              {
                "start": "GIG",
                "end": "FRA",
                "label": "",
                "properties": {},
                "directed": false,
                "id": "b4b35e61-4735-4c5a-b583-eaa5aff31041",
                "color": "#15AFAC",
                "thickness_factor": 1,
                "styles": {}
              },
              {
                "start": "LIM",
                "end": "GIG",
                "label": "",
                "properties": {},
                "directed": false,
                "id": "753e32a6-1ba6-44f3-bc61-97c14b32862f",
                "color": "#15AFAC",
                "thickness_factor": 1,
                "styles": {}
              },
              {
                "start": "FRA",
                "end": "JFK",
                "label": "",
                "properties": {},
                "directed": false,
                "id": "fde90945-20c6-4436-afb7-18e58557fbe2",
                "color": "#15AFAC",
                "thickness_factor": 1,
                "styles": {}
              },
              {
                "start": "LHR",
                "end": "FRA",
                "label": "",
                "properties": {},
                "directed": false,
                "id": "dd9f137c-5d70-4458-bbe8-b1eecbb626ed",
                "color": "#15AFAC",
                "thickness_factor": 1,
                "styles": {}
              },
              {
                "start": "FRA",
                "end": "SVO",
                "label": "",
                "properties": {},
                "directed": false,
                "id": "0f5422f6-6848-4760-97a7-311cd6e84b5b",
                "color": "#15AFAC",
                "thickness_factor": 1,
                "styles": {}
              },
              {
                "start": "FRA",
                "end": "DXB",
                "label": "",
                "properties": {},
                "directed": false,
                "id": "d2c2331e-f6f9-406d-87f7-ef7d23e6f662",
                "color": "#15AFAC",
                "thickness_factor": 1,
                "styles": {}
              },
              {
                "start": "SVO",
                "end": "DEL",
                "label": "",
                "properties": {},
                "directed": false,
                "id": "0a12492c-46e4-427c-8660-b674d727b6cf",
                "color": "#15AFAC",
                "thickness_factor": 1,
                "styles": {}
              },
              {
                "start": "SVO",
                "end": "PVG",
                "label": "",
                "properties": {},
                "directed": false,
                "id": "8fc7e161-7693-46d0-87fe-342baf69ac72",
                "color": "#15AFAC",
                "thickness_factor": 1,
                "styles": {}
              },
              {
                "start": "DEL",
                "end": "HKG",
                "label": "",
                "properties": {},
                "directed": false,
                "id": "eae3ec95-9bee-41e4-88de-4c6613a08e7c",
                "color": "#15AFAC",
                "thickness_factor": 1,
                "styles": {}
              },
              {
                "start": "PVG",
                "end": "HKG",
                "label": "",
                "properties": {},
                "directed": false,
                "id": "18d486b3-701f-4998-81b8-1b3f09827737",
                "color": "#15AFAC",
                "thickness_factor": 1,
                "styles": {}
              },
              {
                "start": "PVG",
                "end": "NRT",
                "label": "",
                "properties": {},
                "directed": false,
                "id": "783a400f-0c68-4d46-a70c-099fb7eed445",
                "color": "#15AFAC",
                "thickness_factor": 1,
                "styles": {}
              },
              {
                "start": "HKG",
                "end": "SYD",
                "label": "",
                "properties": {},
                "directed": false,
                "id": "31871c2d-ecda-4896-8d58-75e58119f111",
                "color": "#15AFAC",
                "thickness_factor": 1,
                "styles": {}
              },
              {
                "start": "NRT",
                "end": "SYD",
                "label": "",
                "properties": {},
                "directed": false,
                "id": "027ecf3d-19e6-4816-8b62-9004e5495ad6",
                "color": "#15AFAC",
                "thickness_factor": 1,
                "styles": {}
              },
              {
                "start": "DXB",
                "end": "SVO",
                "label": "",
                "properties": {},
                "directed": false,
                "id": "3fa8b328-a2af-4192-a315-96f9060a37db",
                "color": "#15AFAC",
                "thickness_factor": 1,
                "styles": {}
              },
              {
                "start": "DXB",
                "end": "DEL",
                "label": "",
                "properties": {},
                "directed": false,
                "id": "d48b1c86-d394-4603-8c2f-f8f1f9b6bfab",
                "color": "#15AFAC",
                "thickness_factor": 1,
                "styles": {}
              },
              {
                "start": "DXB",
                "end": "DKR",
                "label": "",
                "properties": {},
                "directed": false,
                "id": "ecf5349e-0cee-4896-a614-b47984d6837e",
                "color": "#15AFAC",
                "thickness_factor": 1,
                "styles": {}
              },
              {
                "start": "DXB",
                "end": "JNB",
                "label": "",
                "properties": {},
                "directed": false,
                "id": "2e10e0b3-cee8-424f-b4d7-4183b86b2fe8",
                "color": "#15AFAC",
                "thickness_factor": 1,
                "styles": {}
              },
              {
                "start": "JNB",
                "end": "LHR",
                "label": "",
                "properties": {},
                "directed": false,
                "id": "92161e9b-56e1-4e16-a133-a95e7b059173",
                "color": "#15AFAC",
                "thickness_factor": 1,
                "styles": {}
              },
              {
                "start": "JNB",
                "end": "DKR",
                "label": "",
                "properties": {},
                "directed": false,
                "id": "14e214c4-8da9-42f4-9c0d-2b6d69d26b17",
                "color": "#15AFAC",
                "thickness_factor": 1,
                "styles": {}
              },
              {
                "start": "SYD",
                "end": "DXB",
                "label": "",
                "properties": {},
                "directed": false,
                "id": "6d572775-d2e6-4e5a-bf43-707a29eabf88",
                "color": "#15AFAC",
                "thickness_factor": 1,
                "styles": {}
              },
              {
                "start": "NBO",
                "end": "JNB",
                "label": "",
                "properties": {},
                "directed": false,
                "id": "488448cf-bd8e-4104-85d4-76b05cc3754a",
                "color": "#15AFAC",
                "thickness_factor": 1,
                "styles": {}
              },
              {
                "start": "NBO",
                "end": "DXB",
                "label": "",
                "properties": {},
                "directed": false,
                "id": "a86fd208-0c18-47e5-865a-33ab192ff1d6",
                "color": "#15AFAC",
                "thickness_factor": 1,
                "styles": {}
              },
              {
                "start": "ATL",
                "end": "JFK",
                "label": "",
                "properties": {},
                "directed": false,
                "id": "149c24a7-898a-4493-8077-295f26065e62",
                "color": "#15AFAC",
                "thickness_factor": 1,
                "styles": {}
              },
              {
                "start": "LAX",
                "end": "ATL",
                "label": "",
                "properties": {},
                "directed": false,
                "id": "ce55de2a-308e-412d-8465-7afa38e72c84",
                "color": "#15AFAC",
                "thickness_factor": 1,
                "styles": {}
              },
              {
                "start": "ATL",
                "end": "LHR",
                "label": "",
                "properties": {},
                "directed": false,
                "id": "363c4f39-1d02-4b40-84ba-e7f39a3acbcd",
                "color": "#15AFAC",
                "thickness_factor": 1,
                "styles": {}
              },
              {
                "start": "ATL",
                "end": "LIM",
                "label": "",
                "properties": {},
                "directed": false,
                "id": "44fb4c34-104d-4216-9e16-526b85b422c7",
                "color": "#15AFAC",
                "thickness_factor": 1,
                "styles": {}
              },
              {
                "start": "SCL",
                "end": "LIM",
                "label": "",
                "properties": {},
                "directed": false,
                "id": "ecdecb6e-df26-4ae1-b350-dfbf6214b04a",
                "color": "#15AFAC",
                "thickness_factor": 1,
                "styles": {}
              },
              {
                "start": "EZE",
                "end": "SCL",
                "label": "",
                "properties": {},
                "directed": false,
                "id": "23692604-a875-4f3b-a499-cfb4dd9529f0",
                "color": "#15AFAC",
                "thickness_factor": 1,
                "styles": {}
              },
              {
                "start": "SCL",
                "end": "GRU",
                "label": "",
                "properties": {},
                "directed": false,
                "id": "75f3f2ff-d721-4673-b7e9-b3ccfe9fe83b",
                "color": "#15AFAC",
                "thickness_factor": 1,
                "styles": {}
              },
              {
                "start": "GIG",
                "end": "EZE",
                "label": "",
                "properties": {},
                "directed": false,
                "id": "2c6861b8-208c-475d-9dd3-90b32c6c441e",
                "color": "#15AFAC",
                "thickness_factor": 1,
                "styles": {}
              },
              {
                "start": "GIG",
                "end": "GRU",
                "label": "",
                "properties": {},
                "directed": false,
                "id": "c0857bd9-5c66-4ebf-abc5-09bffad9c775",
                "color": "#15AFAC",
                "thickness_factor": 1,
                "styles": {}
              },
              {
                "start": "BSB",
                "end": "GIG",
                "label": "",
                "properties": {},
                "directed": false,
                "id": "1682770b-5ad1-495b-9f21-47d624c2dbbc",
                "color": "#15AFAC",
                "thickness_factor": 1,
                "styles": {}
              },
              {
                "start": "SCL",
                "end": "BSB",
                "label": "",
                "properties": {},
                "directed": false,
                "id": "7387e5d3-49ec-49b0-9488-85a0e76e27f6",
                "color": "#15AFAC",
                "thickness_factor": 1,
                "styles": {}
              },
              {
                "start": "LIM",
                "end": "BSB",
                "label": "",
                "properties": {},
                "directed": false,
                "id": "f4d7166d-673f-4e04-88c6-19563e199617",
                "color": "#15AFAC",
                "thickness_factor": 1,
                "styles": {}
              },
              {
                "start": "BOG",
                "end": "BSB",
                "label": "",
                "properties": {},
                "directed": false,
                "id": "1c341cb0-1dff-4bd6-9852-b3ad81207361",
                "color": "#15AFAC",
                "thickness_factor": 1,
                "styles": {}
              },
              {
                "start": "CCS",
                "end": "BSB",
                "label": "",
                "properties": {},
                "directed": false,
                "id": "bbd4b91b-e158-422c-9f2e-239a2cfb0330",
                "color": "#15AFAC",
                "thickness_factor": 1,
                "styles": {}
              },
              {
                "start": "BOG",
                "end": "GUA",
                "label": "",
                "properties": {},
                "directed": false,
                "id": "6ede49c5-2f39-4bba-b6f5-cef76f0ed592",
                "color": "#15AFAC",
                "thickness_factor": 1,
                "styles": {}
              },
              {
                "start": "CCS",
                "end": "MIA",
                "label": "",
                "properties": {},
                "directed": false,
                "id": "b4c4bec3-2914-43e9-88be-219c9880cb98",
                "color": "#15AFAC",
                "thickness_factor": 1,
                "styles": {}
              },
              {
                "start": "GUA",
                "end": "MIA",
                "label": "",
                "properties": {},
                "directed": false,
                "id": "d0f53399-4fc3-4277-8a4c-a1bab170c3d6",
                "color": "#15AFAC",
                "thickness_factor": 1,
                "styles": {}
              },
              {
                "start": "GUA",
                "end": "MEX",
                "label": "",
                "properties": {},
                "directed": false,
                "id": "b852d902-e4f3-40f3-90e0-fd728182c494",
                "color": "#15AFAC",
                "thickness_factor": 1,
                "styles": {}
              },
              {
                "start": "MEX",
                "end": "LAX",
                "label": "",
                "properties": {},
                "directed": false,
                "id": "213f5db3-1c39-4e19-aef5-4e51a29e1029",
                "color": "#15AFAC",
                "thickness_factor": 1,
                "styles": {}
              },
              {
                "start": "MEX",
                "end": "LAX",
                "label": "",
                "properties": {},
                "directed": false,
                "id": "4049654c-e95e-4519-af91-e13a1e7d6f4c",
                "color": "#15AFAC",
                "thickness_factor": 1,
                "styles": {}
              },
              {
                "start": "LAX",
                "end": "SFO",
                "label": "",
                "properties": {},
                "directed": false,
                "id": "2c44ca68-2a0f-47f1-b895-45642b900400",
                "color": "#15AFAC",
                "thickness_factor": 1,
                "styles": {}
              },
              {
                "start": "SFO",
                "end": "YVR",
                "label": "",
                "properties": {},
                "directed": false,
                "id": "8fc78d65-c971-4700-bac9-2fc21f1ff333",
                "color": "#15AFAC",
                "thickness_factor": 1,
                "styles": {}
              },
              {
                "start": "LAX",
                "end": "LAS",
                "label": "",
                "properties": {},
                "directed": false,
                "id": "211047e2-15c7-4d94-b69e-1f21272d25b3",
                "color": "#15AFAC",
                "thickness_factor": 1,
                "styles": {}
              },
              {
                "start": "LAX",
                "end": "DFW",
                "label": "",
                "properties": {},
                "directed": false,
                "id": "0fa0b197-f230-4af5-b877-cac9a70e3dd3",
                "color": "#15AFAC",
                "thickness_factor": 1,
                "styles": {}
              },
              {
                "start": "LAX",
                "end": "ORD",
                "label": "",
                "properties": {},
                "directed": false,
                "id": "2f867c80-9e2f-4afe-ad1d-7ea82a8cb6d1",
                "color": "#15AFAC",
                "thickness_factor": 1,
                "styles": {}
              },
              {
                "start": "SFO",
                "end": "LAS",
                "label": "",
                "properties": {},
                "directed": false,
                "id": "c5da4812-e4a8-4114-8fe9-e6f0223177e2",
                "color": "#15AFAC",
                "thickness_factor": 1,
                "styles": {}
              },
              {
                "start": "DFW",
                "end": "ATL",
                "label": "",
                "properties": {},
                "directed": false,
                "id": "db9c24f0-0b9b-40be-879e-0d132734ba24",
                "color": "#15AFAC",
                "thickness_factor": 1,
                "styles": {}
              },
              {
                "start": "ATL",
                "end": "YYZ",
                "label": "",
                "properties": {},
                "directed": false,
                "id": "b6dc7043-14b2-41a9-aaf8-09f229a86121",
                "color": "#15AFAC",
                "thickness_factor": 1,
                "styles": {}
              },
              {
                "start": "ORD",
                "end": "YYZ",
                "label": "",
                "properties": {},
                "directed": false,
                "id": "61791e32-f2c0-4560-b2ee-55a4160958d4",
                "color": "#15AFAC",
                "thickness_factor": 1,
                "styles": {}
              },
              {
                "start": "YYZ",
                "end": "YUL",
                "label": "",
                "properties": {},
                "directed": false,
                "id": "d99b885e-6a6c-45aa-a4fa-da03f1db24f8",
                "color": "#15AFAC",
                "thickness_factor": 1,
                "styles": {}
              },
              {
                "start": "YYZ",
                "end": "JFK",
                "label": "",
                "properties": {},
                "directed": false,
                "id": "b9b44a92-f017-470e-9ac2-92a24cc56d4c",
                "color": "#15AFAC",
                "thickness_factor": 1,
                "styles": {}
              },
              {
                "start": "YUL",
                "end": "JFK",
                "label": "",
                "properties": {},
                "directed": false,
                "id": "b2c2f551-eb47-4375-affa-138733d83a45",
                "color": "#15AFAC",
                "thickness_factor": 1,
                "styles": {}
              },
              {
                "start": "JNB",
                "end": "CPT",
                "label": "",
                "properties": {},
                "directed": false,
                "id": "663dd1e7-1ce7-467c-9b8f-f4d43495c1a8",
                "color": "#15AFAC",
                "thickness_factor": 1,
                "styles": {}
              },
              {
                "start": "LOS",
                "end": "DKR",
                "label": "",
                "properties": {},
                "directed": false,
                "id": "bae66ea3-bd04-45c7-8dd4-6343f565f616",
                "color": "#15AFAC",
                "thickness_factor": 1,
                "styles": {}
              },
              {
                "start": "NBO",
                "end": "LOS",
                "label": "",
                "properties": {},
                "directed": false,
                "id": "6510589b-7558-4a6d-9716-7209553a47ea",
                "color": "#15AFAC",
                "thickness_factor": 1,
                "styles": {}
              },
              {
                "start": "DKR",
                "end": "CMN",
                "label": "",
                "properties": {},
                "directed": false,
                "id": "4aee57d0-4a12-41e9-8650-dee39752db39",
                "color": "#15AFAC",
                "thickness_factor": 1,
                "styles": {}
              },
              {
                "start": "DKR",
                "end": "CAI",
                "label": "",
                "properties": {},
                "directed": false,
                "id": "32adede8-f34a-40fe-a5a8-425456bdc4dd",
                "color": "#15AFAC",
                "thickness_factor": 1,
                "styles": {}
              },
              {
                "start": "NBO",
                "end": "CAI",
                "label": "",
                "properties": {},
                "directed": false,
                "id": "b10198a9-84f0-4d1d-b1d9-be50a0e184cb",
                "color": "#15AFAC",
                "thickness_factor": 1,
                "styles": {}
              },
              {
                "start": "DXB",
                "end": "CAI",
                "label": "",
                "properties": {},
                "directed": false,
                "id": "9fe0d920-661d-42da-bcc8-15f176dcce74",
                "color": "#15AFAC",
                "thickness_factor": 1,
                "styles": {}
              },
              {
                "start": "IKA",
                "end": "DXB",
                "label": "",
                "properties": {},
                "directed": false,
                "id": "424b5e21-2257-4320-ae97-45c644054456",
                "color": "#15AFAC",
                "thickness_factor": 1,
                "styles": {}
              },
              {
                "start": "IST",
                "end": "IKA",
                "label": "",
                "properties": {},
                "directed": false,
                "id": "ec781c7b-a78c-4f96-943b-7774865fa18d",
                "color": "#15AFAC",
                "thickness_factor": 1,
                "styles": {}
              },
              {
                "start": "TLV",
                "end": "ATH",
                "label": "",
                "properties": {},
                "directed": false,
                "id": "ee2cfce4-2e47-47ab-95a7-deadd49b669f",
                "color": "#15AFAC",
                "thickness_factor": 1,
                "styles": {}
              },
              {
                "start": "CAI",
                "end": "TLV",
                "label": "",
                "properties": {},
                "directed": false,
                "id": "67c6ca68-5b2a-4fc4-9824-e88b65c9d860",
                "color": "#15AFAC",
                "thickness_factor": 1,
                "styles": {}
              },
              {
                "start": "ATH",
                "end": "IST",
                "label": "",
                "properties": {},
                "directed": false,
                "id": "c363f287-5a73-4295-a17b-22a75e2a534c",
                "color": "#15AFAC",
                "thickness_factor": 1,
                "styles": {}
              },
              {
                "start": "FCO",
                "end": "ATH",
                "label": "",
                "properties": {},
                "directed": false,
                "id": "a5a02430-9606-4c6c-9e94-ed3378cc9868",
                "color": "#15AFAC",
                "thickness_factor": 1,
                "styles": {}
              },
              {
                "start": "LIS",
                "end": "LHR",
                "label": "",
                "properties": {},
                "directed": false,
                "id": "1169e704-8e0e-487f-a6ee-e507d7b0dabb",
                "color": "#15AFAC",
                "thickness_factor": 1,
                "styles": {}
              },
              {
                "start": "LIS",
                "end": "MAD",
                "label": "",
                "properties": {},
                "directed": false,
                "id": "4c0bed6f-6b60-43f1-a0f7-a82aace61958",
                "color": "#15AFAC",
                "thickness_factor": 1,
                "styles": {}
              },
              {
                "start": "MAD",
                "end": "BCN",
                "label": "",
                "properties": {},
                "directed": false,
                "id": "ab8bd8da-7a8a-4def-a080-dea09e0ef841",
                "color": "#15AFAC",
                "thickness_factor": 1,
                "styles": {}
              },
              {
                "start": "CDG",
                "end": "LHR",
                "label": "",
                "properties": {},
                "directed": false,
                "id": "82d5f183-b8ec-496c-ad48-12a627bc38e4",
                "color": "#15AFAC",
                "thickness_factor": 1,
                "styles": {}
              },
              {
                "start": "DUB",
                "end": "LHR",
                "label": "",
                "properties": {},
                "directed": false,
                "id": "6cf0d9c5-5ddf-40a7-95c2-f0ebed16c005",
                "color": "#15AFAC",
                "thickness_factor": 1,
                "styles": {}
              },
              {
                "start": "EDI",
                "end": "LHR",
                "label": "",
                "properties": {},
                "directed": false,
                "id": "194fbac0-d93a-4d2b-a777-8cfc004b41c1",
                "color": "#15AFAC",
                "thickness_factor": 1,
                "styles": {}
              },
              {
                "start": "CDG",
                "end": "BCN",
                "label": "",
                "properties": {},
                "directed": false,
                "id": "d16c6e29-9ca0-4c3b-b700-97052250bdd8",
                "color": "#15AFAC",
                "thickness_factor": 1,
                "styles": {}
              },
              {
                "start": "BCN",
                "end": "FCO",
                "label": "",
                "properties": {},
                "directed": false,
                "id": "0e48d4e1-babb-4797-93b7-4fcaa6b9711e",
                "color": "#15AFAC",
                "thickness_factor": 1,
                "styles": {}
              },
              {
                "start": "VIE",
                "end": "IST",
                "label": "",
                "properties": {},
                "directed": false,
                "id": "5fadacb5-5a9e-40ff-b39d-b54b9c9ee6db",
                "color": "#15AFAC",
                "thickness_factor": 1,
                "styles": {}
              },
              {
                "start": "VIE",
                "end": "SVO",
                "label": "",
                "properties": {},
                "directed": false,
                "id": "691d1b6e-f207-48c8-aa93-a16030c19019",
                "color": "#15AFAC",
                "thickness_factor": 1,
                "styles": {}
              },
              {
                "start": "CMN",
                "end": "LIS",
                "label": "",
                "properties": {},
                "directed": false,
                "id": "38fb1d1f-611a-49b6-9291-314d0ea1ff74",
                "color": "#15AFAC",
                "thickness_factor": 1,
                "styles": {}
              },
              {
                "start": "MAD",
                "end": "CMN",
                "label": "",
                "properties": {},
                "directed": false,
                "id": "5f4ab795-c196-44b8-8d4c-fbe92e3fcdd4",
                "color": "#15AFAC",
                "thickness_factor": 1,
                "styles": {}
              },
              {
                "start": "FRA",
                "end": "CPH",
                "label": "",
                "properties": {},
                "directed": false,
                "id": "6f892a48-11b4-44c0-855e-20e76eb70e3b",
                "color": "#15AFAC",
                "thickness_factor": 1,
                "styles": {}
              },
              {
                "start": "LHR",
                "end": "CPH",
                "label": "",
                "properties": {},
                "directed": false,
                "id": "0acd4373-c43d-41f6-a901-a55da73a958f",
                "color": "#15AFAC",
                "thickness_factor": 1,
                "styles": {}
              },
              {
                "start": "CPH",
                "end": "OSL",
                "label": "",
                "properties": {},
                "directed": false,
                "id": "454affbf-e628-4d17-ae2f-370a67c9a9b2",
                "color": "#15AFAC",
                "thickness_factor": 1,
                "styles": {}
              },
              {
                "start": "CPH",
                "end": "ARN",
                "label": "",
                "properties": {},
                "directed": false,
                "id": "d27a5bad-7a3a-4e14-903c-016bd39d4290",
                "color": "#15AFAC",
                "thickness_factor": 1,
                "styles": {}
              },
              {
                "start": "ARN",
                "end": "HEL",
                "label": "",
                "properties": {},
                "directed": false,
                "id": "42af69c7-1f49-41fe-adb9-467bff6746eb",
                "color": "#15AFAC",
                "thickness_factor": 1,
                "styles": {}
              },
              {
                "start": "HEL",
                "end": "SVO",
                "label": "",
                "properties": {},
                "directed": false,
                "id": "173707b2-352d-44a2-bf28-3424442a532f",
                "color": "#15AFAC",
                "thickness_factor": 1,
                "styles": {}
              },
              {
                "start": "ULN",
                "end": "PVG",
                "label": "",
                "properties": {},
                "directed": false,
                "id": "94123e2a-d6d9-427a-8603-e5f4462afe55",
                "color": "#15AFAC",
                "thickness_factor": 1,
                "styles": {}
              },
              {
                "start": "CTU",
                "end": "PVG",
                "label": "",
                "properties": {},
                "directed": false,
                "id": "ca871f7f-0756-4c90-be95-0768c0df4f64",
                "color": "#15AFAC",
                "thickness_factor": 1,
                "styles": {}
              },
              {
                "start": "PVG",
                "end": "TPE",
                "label": "",
                "properties": {},
                "directed": false,
                "id": "b4da3efb-7873-4848-9873-a0935e654a3f",
                "color": "#15AFAC",
                "thickness_factor": 1,
                "styles": {}
              },
              {
                "start": "CTU",
                "end": "HKG",
                "label": "",
                "properties": {},
                "directed": false,
                "id": "66897a79-109e-4d6b-a9ce-ea2165e6f61e",
                "color": "#15AFAC",
                "thickness_factor": 1,
                "styles": {}
              },
              {
                "start": "TPE",
                "end": "HKG",
                "label": "",
                "properties": {},
                "directed": false,
                "id": "e84b8206-bb0c-4ad2-8a9f-04e10005d43e",
                "color": "#15AFAC",
                "thickness_factor": 1,
                "styles": {}
              },
              {
                "start": "HKG",
                "end": "MNL",
                "label": "",
                "properties": {},
                "directed": false,
                "id": "03346a91-a076-4334-9c98-606151b476e6",
                "color": "#15AFAC",
                "thickness_factor": 1,
                "styles": {}
              },
              {
                "start": "BKK",
                "end": "HKG",
                "label": "",
                "properties": {},
                "directed": false,
                "id": "6879b4a1-394e-4933-b54b-4b7cc9c88be8",
                "color": "#15AFAC",
                "thickness_factor": 1,
                "styles": {}
              },
              {
                "start": "SIN",
                "end": "KUL",
                "label": "",
                "properties": {},
                "directed": false,
                "id": "0402c6a6-935d-4488-9379-e2efdcd90fca",
                "color": "#15AFAC",
                "thickness_factor": 1,
                "styles": {}
              },
              {
                "start": "SIN",
                "end": "BKK",
                "label": "",
                "properties": {},
                "directed": false,
                "id": "5f82f5c7-5afc-4550-8b06-e7e4766d29b3",
                "color": "#15AFAC",
                "thickness_factor": 1,
                "styles": {}
              },
              {
                "start": "CGK",
                "end": "SIN",
                "label": "",
                "properties": {},
                "directed": false,
                "id": "566993a3-375a-41ce-af9c-05ed354aa629",
                "color": "#15AFAC",
                "thickness_factor": 1,
                "styles": {}
              },
              {
                "start": "MNL",
                "end": "SIN",
                "label": "",
                "properties": {},
                "directed": false,
                "id": "2c15b320-cc01-4f22-bec7-7f8095f19e47",
                "color": "#15AFAC",
                "thickness_factor": 1,
                "styles": {}
              },
              {
                "start": "SIN",
                "end": "SYD",
                "label": "",
                "properties": {},
                "directed": false,
                "id": "7ce08804-202e-4ffb-a3e9-a7652b2b2397",
                "color": "#15AFAC",
                "thickness_factor": 1,
                "styles": {}
              },
              {
                "start": "BNE",
                "end": "SYD",
                "label": "",
                "properties": {},
                "directed": false,
                "id": "c70ae06f-98c9-4835-9369-7de16b5e594f",
                "color": "#15AFAC",
                "thickness_factor": 1,
                "styles": {}
              },
              {
                "start": "SYD",
                "end": "MEL",
                "label": "",
                "properties": {},
                "directed": false,
                "id": "9c7ae318-4433-428b-a547-ecf52f151475",
                "color": "#15AFAC",
                "thickness_factor": 1,
                "styles": {}
              },
              {
                "start": "NAN",
                "end": "SYD",
                "label": "",
                "properties": {},
                "directed": false,
                "id": "efc4fddb-c067-446e-88b4-cb8dca2c15f9",
                "color": "#15AFAC",
                "thickness_factor": 1,
                "styles": {}
              },
              {
                "start": "AKL",
                "end": "SYD",
                "label": "",
                "properties": {},
                "directed": false,
                "id": "397ce5bc-771d-4c32-addc-998213486845",
                "color": "#15AFAC",
                "thickness_factor": 1,
                "styles": {}
              },
              {
                "start": "NAN",
                "end": "AKL",
                "label": "",
                "properties": {},
                "directed": false,
                "id": "a3610bcb-628f-4c1f-9b46-0128e289d1b0",
                "color": "#15AFAC",
                "thickness_factor": 1,
                "styles": {}
              },
              {
                "start": "RKV",
                "end": "LHR",
                "label": "",
                "properties": {},
                "directed": false,
                "id": "4555554b-d297-49c0-a840-ed52f090dc11",
                "color": "#15AFAC",
                "thickness_factor": 1,
                "styles": {}
              },
              {
                "start": "BCN",
                "end": "CDG",
                "label": "",
                "properties": {},
                "directed": false,
                "id": "b45e184f-2f15-430c-a7a3-0e1d2973ed01",
                "color": "#15AFAC",
                "thickness_factor": 1,
                "styles": {}
              },
              {
                "start": "BCN",
                "end": "FRA",
                "label": "",
                "properties": {},
                "directed": false,
                "id": "26a0f51e-12a3-4ad4-b752-cb5246878cae",
                "color": "#15AFAC",
                "thickness_factor": 1,
                "styles": {}
              },
              {
                "start": "FCO",
                "end": "FRA",
                "label": "",
                "properties": {},
                "directed": false,
                "id": "e62ffd53-4248-432a-9ef2-70717c0509f5",
                "color": "#15AFAC",
                "thickness_factor": 1,
                "styles": {}
              },
              {
                "start": "BOG",
                "end": "MEX",
                "label": "",
                "properties": {},
                "directed": false,
                "id": "41e16971-7a95-43a1-a002-6584d08e17cc",
                "color": "#15AFAC",
                "thickness_factor": 1,
                "styles": {}
              },
              {
                "start": "BOG",
                "end": "GRU",
                "label": "",
                "properties": {},
                "directed": false,
                "id": "15b920c1-7c96-43e9-953b-bfc0702e3449",
                "color": "#15AFAC",
                "thickness_factor": 1,
                "styles": {}
              },
              {
                "start": "ATL",
                "end": "MIA",
                "label": "",
                "properties": {},
                "directed": false,
                "id": "7ad0cc87-ed6f-40a7-b8b2-2dcb188dc64c",
                "color": "#15AFAC",
                "thickness_factor": 1,
                "styles": {}
              },
              {
                "start": "FRA",
                "end": "IST",
                "label": "",
                "properties": {},
                "directed": false,
                "id": "0a4f97dc-62e9-40a6-b0df-feeea65f88c5",
                "color": "#15AFAC",
                "thickness_factor": 1,
                "styles": {}
              },
              {
                "start": "IST",
                "end": "DEL",
                "label": "",
                "properties": {},
                "directed": false,
                "id": "0329f326-3cb4-42ae-b73d-c13b7e7ccd55",
                "color": "#15AFAC",
                "thickness_factor": 1,
                "styles": {}
              },
              {
                "start": "PVG",
                "end": "BKK",
                "label": "",
                "properties": {},
                "directed": false,
                "id": "4631daf6-ce42-4b65-aa49-59b0d2160060",
                "color": "#15AFAC",
                "thickness_factor": 1,
                "styles": {}
              },
              {
                "start": "DEL",
                "end": "BKK",
                "label": "",
                "properties": {},
                "directed": false,
                "id": "9f7052ea-6995-4953-9e7c-5afb56f63636",
                "color": "#15AFAC",
                "thickness_factor": 1,
                "styles": {}
              }
            ],
            "_graph_layout": {},
            "_highlight": [],
            "_license": {},
            "_model_module": "yfiles-jupyter-graphs",
            "_model_module_version": "^1.10.9",
            "_model_name": "GraphModel",
            "_neighborhood": {},
            "_nodes": [
              {
                "id": "LAX",
                "properties": {
                  "label": "Los Angeles",
                  "passengers": 65000000,
                  "country": "USA",
                  "country_id": "us"
                },
                "coordinates": [
                  33.942536,
                  -118.408075
                ],
                "color": "#15AFAC",
                "styles": {
                  "image": "https://raw.githubusercontent.com/lipis/flag-icons/e119b66129af6dd849754ccf25dfbf81d4a306d5/flags/1x1/us.svg"
                },
                "label": "Los Angeles",
                "scale_factor": 1,
                "type": "#15AFAC",
                "size": [
                  55,
                  55
                ],
                "position": [
                  0,
                  0
                ]
              },
              {
                "id": "GIG",
                "properties": {
                  "label": "Rio de Janeiro",
                  "passengers": 5000000,
                  "country": "Brazil",
                  "country_id": "br"
                },
                "coordinates": [
                  -22.808903,
                  -43.243647
                ],
                "color": "#15AFAC",
                "styles": {
                  "image": "https://raw.githubusercontent.com/lipis/flag-icons/e119b66129af6dd849754ccf25dfbf81d4a306d5/flags/1x1/br.svg"
                },
                "label": "Rio de Janeiro",
                "scale_factor": 1,
                "type": "#15AFAC",
                "size": [
                  55,
                  55
                ],
                "position": [
                  0,
                  0
                ]
              },
              {
                "id": "LIM",
                "properties": {
                  "label": "Lima",
                  "passengers": 18000000,
                  "country": "Peru",
                  "country_id": "pe"
                },
                "coordinates": [
                  -12.021889,
                  -77.114319
                ],
                "color": "#15AFAC",
                "styles": {
                  "image": "https://raw.githubusercontent.com/lipis/flag-icons/e119b66129af6dd849754ccf25dfbf81d4a306d5/flags/1x1/pe.svg"
                },
                "label": "Lima",
                "scale_factor": 1,
                "type": "#15AFAC",
                "size": [
                  55,
                  55
                ],
                "position": [
                  0,
                  0
                ]
              },
              {
                "id": "LHR",
                "properties": {
                  "label": "London",
                  "passengers": 61000000,
                  "country": "UK",
                  "country_id": "gb"
                },
                "coordinates": [
                  51.4775,
                  -0.461389
                ],
                "color": "#15AFAC",
                "styles": {
                  "image": "https://raw.githubusercontent.com/lipis/flag-icons/e119b66129af6dd849754ccf25dfbf81d4a306d5/flags/1x1/gb.svg"
                },
                "label": "London",
                "scale_factor": 1,
                "type": "#15AFAC",
                "size": [
                  55,
                  55
                ],
                "position": [
                  0,
                  0
                ]
              },
              {
                "id": "FRA",
                "properties": {
                  "label": "Frankfurt",
                  "passengers": 48000000,
                  "country": "Germany",
                  "country_id": "de"
                },
                "coordinates": [
                  50.033333,
                  8.570556
                ],
                "color": "#15AFAC",
                "styles": {
                  "image": "https://raw.githubusercontent.com/lipis/flag-icons/e119b66129af6dd849754ccf25dfbf81d4a306d5/flags/1x1/de.svg"
                },
                "label": "Frankfurt",
                "scale_factor": 1,
                "type": "#15AFAC",
                "size": [
                  55,
                  55
                ],
                "position": [
                  0,
                  0
                ]
              },
              {
                "id": "SVO",
                "properties": {
                  "label": "Moscow",
                  "passengers": 49000000,
                  "country": "Russia",
                  "country_id": "ru"
                },
                "coordinates": [
                  55.972642,
                  37.414589
                ],
                "color": "#15AFAC",
                "styles": {
                  "image": "https://raw.githubusercontent.com/lipis/flag-icons/e119b66129af6dd849754ccf25dfbf81d4a306d5/flags/1x1/ru.svg"
                },
                "label": "Moscow",
                "scale_factor": 1,
                "type": "#15AFAC",
                "size": [
                  55,
                  55
                ],
                "position": [
                  0,
                  0
                ]
              },
              {
                "id": "DEL",
                "properties": {
                  "label": "New Delhi",
                  "passengers": 39000000,
                  "country": "India",
                  "country_id": "in"
                },
                "coordinates": [
                  28.5665,
                  77.103089
                ],
                "color": "#15AFAC",
                "styles": {
                  "image": "https://raw.githubusercontent.com/lipis/flag-icons/e119b66129af6dd849754ccf25dfbf81d4a306d5/flags/1x1/in.svg"
                },
                "label": "New Delhi",
                "scale_factor": 1,
                "type": "#15AFAC",
                "size": [
                  55,
                  55
                ],
                "position": [
                  0,
                  0
                ]
              },
              {
                "id": "PVG",
                "properties": {
                  "label": "Shanghai",
                  "passengers": 32000000,
                  "country": "China",
                  "country_id": "hk"
                },
                "coordinates": [
                  31.143378,
                  121.805214
                ],
                "color": "#15AFAC",
                "styles": {
                  "image": "https://raw.githubusercontent.com/lipis/flag-icons/e119b66129af6dd849754ccf25dfbf81d4a306d5/flags/1x1/hk.svg"
                },
                "label": "Shanghai",
                "scale_factor": 1,
                "type": "#15AFAC",
                "size": [
                  55,
                  55
                ],
                "position": [
                  0,
                  0
                ]
              },
              {
                "id": "HKG",
                "properties": {
                  "label": "Hongkong",
                  "passengers": 1000000,
                  "country": "China",
                  "country_id": "hk"
                },
                "coordinates": [
                  22.308919,
                  113.914603
                ],
                "color": "#15AFAC",
                "styles": {
                  "image": "https://raw.githubusercontent.com/lipis/flag-icons/e119b66129af6dd849754ccf25dfbf81d4a306d5/flags/1x1/hk.svg"
                },
                "label": "Hongkong",
                "scale_factor": 1,
                "type": "#15AFAC",
                "size": [
                  55,
                  55
                ],
                "position": [
                  0,
                  0
                ]
              },
              {
                "id": "NRT",
                "properties": {
                  "label": "Tokio",
                  "passengers": 15000000,
                  "country": "Japan",
                  "country_id": "jp"
                },
                "coordinates": [
                  35.764722,
                  140.386389
                ],
                "color": "#15AFAC",
                "styles": {
                  "image": "https://raw.githubusercontent.com/lipis/flag-icons/e119b66129af6dd849754ccf25dfbf81d4a306d5/flags/1x1/jp.svg"
                },
                "label": "Tokio",
                "scale_factor": 1,
                "type": "#15AFAC",
                "size": [
                  55,
                  55
                ],
                "position": [
                  0,
                  0
                ]
              },
              {
                "id": "DXB",
                "properties": {
                  "label": "Dubai",
                  "passengers": 29000000,
                  "country": "UAE",
                  "country_id": "ae"
                },
                "coordinates": [
                  25.252778,
                  55.364444
                ],
                "color": "#15AFAC",
                "styles": {
                  "image": "https://raw.githubusercontent.com/lipis/flag-icons/e119b66129af6dd849754ccf25dfbf81d4a306d5/flags/1x1/ae.svg"
                },
                "label": "Dubai",
                "scale_factor": 1,
                "type": "#15AFAC",
                "size": [
                  55,
                  55
                ],
                "position": [
                  0,
                  0
                ]
              },
              {
                "id": "DKR",
                "properties": {
                  "label": "Dakar",
                  "passengers": 2000000,
                  "country": "Senegal",
                  "country_id": "sn"
                },
                "coordinates": [
                  14.670833,
                  -17.072778
                ],
                "color": "#15AFAC",
                "styles": {
                  "image": "https://raw.githubusercontent.com/lipis/flag-icons/e119b66129af6dd849754ccf25dfbf81d4a306d5/flags/1x1/sn.svg"
                },
                "label": "Dakar",
                "scale_factor": 1,
                "type": "#15AFAC",
                "size": [
                  55,
                  55
                ],
                "position": [
                  0,
                  0
                ]
              },
              {
                "id": "JNB",
                "properties": {
                  "label": "Johannesburg",
                  "passengers": 9000000,
                  "country": "South Africa",
                  "country_id": "za"
                },
                "coordinates": [
                  -26.133694,
                  28.242317
                ],
                "color": "#15AFAC",
                "styles": {
                  "image": "https://raw.githubusercontent.com/lipis/flag-icons/e119b66129af6dd849754ccf25dfbf81d4a306d5/flags/1x1/za.svg"
                },
                "label": "Johannesburg",
                "scale_factor": 1,
                "type": "#15AFAC",
                "size": [
                  55,
                  55
                ],
                "position": [
                  0,
                  0
                ]
              },
              {
                "id": "SYD",
                "properties": {
                  "label": "Sydney",
                  "passengers": 44000000,
                  "country": "Australia",
                  "country_id": "au"
                },
                "coordinates": [
                  -33.946111,
                  151.177222
                ],
                "color": "#15AFAC",
                "styles": {
                  "image": "https://raw.githubusercontent.com/lipis/flag-icons/e119b66129af6dd849754ccf25dfbf81d4a306d5/flags/1x1/au.svg"
                },
                "label": "Sydney",
                "scale_factor": 1,
                "type": "#15AFAC",
                "size": [
                  55,
                  55
                ],
                "position": [
                  0,
                  0
                ]
              },
              {
                "id": "NBO",
                "properties": {
                  "label": "Nairobi",
                  "passengers": 900000,
                  "country": "Kenya",
                  "country_id": "ke"
                },
                "coordinates": [
                  -1.319167,
                  36.927778
                ],
                "color": "#15AFAC",
                "styles": {
                  "image": "https://raw.githubusercontent.com/lipis/flag-icons/e119b66129af6dd849754ccf25dfbf81d4a306d5/flags/1x1/ke.svg"
                },
                "label": "Nairobi",
                "scale_factor": 1,
                "type": "#15AFAC",
                "size": [
                  55,
                  55
                ],
                "position": [
                  0,
                  0
                ]
              },
              {
                "id": "ATL",
                "properties": {
                  "label": "Atlanta",
                  "passengers": 93000000,
                  "country": "USA",
                  "country_id": "us"
                },
                "coordinates": [
                  33.639167,
                  -84.427778
                ],
                "color": "#15AFAC",
                "styles": {
                  "image": "https://raw.githubusercontent.com/lipis/flag-icons/e119b66129af6dd849754ccf25dfbf81d4a306d5/flags/1x1/us.svg"
                },
                "label": "Atlanta",
                "scale_factor": 1,
                "type": "#15AFAC",
                "size": [
                  55,
                  55
                ],
                "position": [
                  0,
                  0
                ]
              },
              {
                "id": "JFK",
                "properties": {
                  "label": "New York City",
                  "passengers": 55000000,
                  "country": "USA",
                  "country_id": "us"
                },
                "coordinates": [
                  40.63975,
                  -73.778925
                ],
                "color": "#15AFAC",
                "styles": {
                  "image": "https://raw.githubusercontent.com/lipis/flag-icons/e119b66129af6dd849754ccf25dfbf81d4a306d5/flags/1x1/us.svg"
                },
                "label": "New York City",
                "scale_factor": 1,
                "type": "#15AFAC",
                "size": [
                  55,
                  55
                ],
                "position": [
                  0,
                  0
                ]
              },
              {
                "id": "CAI",
                "properties": {
                  "label": "Cairo",
                  "passengers": 14000000,
                  "country": "Egypt",
                  "country_id": "eg"
                },
                "coordinates": [
                  30.121944,
                  31.405556
                ],
                "color": "#15AFAC",
                "styles": {
                  "image": "https://raw.githubusercontent.com/lipis/flag-icons/e119b66129af6dd849754ccf25dfbf81d4a306d5/flags/1x1/eg.svg"
                },
                "label": "Cairo",
                "scale_factor": 1,
                "type": "#15AFAC",
                "size": [
                  55,
                  55
                ],
                "position": [
                  0,
                  0
                ]
              },
              {
                "id": "CMN",
                "properties": {
                  "label": "Casablanca",
                  "passengers": 7000000,
                  "country": "Morocco",
                  "country_id": "ma"
                },
                "coordinates": [
                  33.367467,
                  -7.589967
                ],
                "color": "#15AFAC",
                "styles": {
                  "image": "https://raw.githubusercontent.com/lipis/flag-icons/e119b66129af6dd849754ccf25dfbf81d4a306d5/flags/1x1/ma.svg"
                },
                "label": "Casablanca",
                "scale_factor": 1,
                "type": "#15AFAC",
                "size": [
                  55,
                  55
                ],
                "position": [
                  0,
                  0
                ]
              },
              {
                "id": "LOS",
                "properties": {
                  "label": "Lagos",
                  "passengers": 5000000,
                  "country": "Nigeria",
                  "country_id": "ng"
                },
                "coordinates": [
                  6.577222,
                  3.321111
                ],
                "color": "#15AFAC",
                "styles": {
                  "image": "https://raw.githubusercontent.com/lipis/flag-icons/e119b66129af6dd849754ccf25dfbf81d4a306d5/flags/1x1/ng.svg"
                },
                "label": "Lagos",
                "scale_factor": 1,
                "type": "#15AFAC",
                "size": [
                  55,
                  55
                ],
                "position": [
                  0,
                  0
                ]
              },
              {
                "id": "CPT",
                "properties": {
                  "label": "Cape Town",
                  "passengers": 5000000,
                  "country": "South Africa",
                  "country_id": "za"
                },
                "coordinates": [
                  -33.969444,
                  18.597222
                ],
                "color": "#15AFAC",
                "styles": {
                  "image": "https://raw.githubusercontent.com/lipis/flag-icons/e119b66129af6dd849754ccf25dfbf81d4a306d5/flags/1x1/za.svg"
                },
                "label": "Cape Town",
                "scale_factor": 1,
                "type": "#15AFAC",
                "size": [
                  55,
                  55
                ],
                "position": [
                  0,
                  0
                ]
              },
              {
                "id": "CTU",
                "properties": {
                  "label": "Chengdu",
                  "passengers": 40000000,
                  "country": "China",
                  "country_id": "hk"
                },
                "coordinates": [
                  30.578333,
                  103.946944
                ],
                "color": "#15AFAC",
                "styles": {
                  "image": "https://raw.githubusercontent.com/lipis/flag-icons/e119b66129af6dd849754ccf25dfbf81d4a306d5/flags/1x1/hk.svg"
                },
                "label": "Chengdu",
                "scale_factor": 1,
                "type": "#15AFAC",
                "size": [
                  55,
                  55
                ],
                "position": [
                  0,
                  0
                ]
              },
              {
                "id": "CGK",
                "properties": {
                  "label": "Jakarta",
                  "passengers": 54000000,
                  "country": "Indonesia",
                  "country_id": "id"
                },
                "coordinates": [
                  -6.125567,
                  106.655897
                ],
                "color": "#15AFAC",
                "styles": {
                  "image": "https://raw.githubusercontent.com/lipis/flag-icons/e119b66129af6dd849754ccf25dfbf81d4a306d5/flags/1x1/id.svg"
                },
                "label": "Jakarta",
                "scale_factor": 1,
                "type": "#15AFAC",
                "size": [
                  55,
                  55
                ],
                "position": [
                  0,
                  0
                ]
              },
              {
                "id": "IKA",
                "properties": {
                  "label": "Teheran",
                  "passengers": 8000000,
                  "country": "Iran",
                  "country_id": "ir"
                },
                "coordinates": [
                  35.416111,
                  51.152222
                ],
                "color": "#15AFAC",
                "styles": {
                  "image": "https://raw.githubusercontent.com/lipis/flag-icons/e119b66129af6dd849754ccf25dfbf81d4a306d5/flags/1x1/ir.svg"
                },
                "label": "Teheran",
                "scale_factor": 1,
                "type": "#15AFAC",
                "size": [
                  55,
                  55
                ],
                "position": [
                  0,
                  0
                ]
              },
              {
                "id": "TLV",
                "properties": {
                  "label": "Tel Aviv",
                  "passengers": 20000000,
                  "country": "Israel",
                  "country_id": "il"
                },
                "coordinates": [
                  32.011389,
                  34.886667
                ],
                "color": "#15AFAC",
                "styles": {
                  "image": "https://raw.githubusercontent.com/lipis/flag-icons/e119b66129af6dd849754ccf25dfbf81d4a306d5/flags/1x1/il.svg"
                },
                "label": "Tel Aviv",
                "scale_factor": 1,
                "type": "#15AFAC",
                "size": [
                  55,
                  55
                ],
                "position": [
                  0,
                  0
                ]
              },
              {
                "id": "KUL",
                "properties": {
                  "label": "Kuala Lumpur",
                  "passengers": 25000000,
                  "country": "Malaysia",
                  "country_id": "my"
                },
                "coordinates": [
                  2.745578,
                  101.709917
                ],
                "color": "#15AFAC",
                "styles": {
                  "image": "https://raw.githubusercontent.com/lipis/flag-icons/e119b66129af6dd849754ccf25dfbf81d4a306d5/flags/1x1/my.svg"
                },
                "label": "Kuala Lumpur",
                "scale_factor": 1,
                "type": "#15AFAC",
                "size": [
                  55,
                  55
                ],
                "position": [
                  0,
                  0
                ]
              },
              {
                "id": "MNL",
                "properties": {
                  "label": "Manila",
                  "passengers": 8000000,
                  "country": "Philippines",
                  "country_id": "ph"
                },
                "coordinates": [
                  14.508647,
                  121.019581
                ],
                "color": "#15AFAC",
                "styles": {
                  "image": "https://raw.githubusercontent.com/lipis/flag-icons/e119b66129af6dd849754ccf25dfbf81d4a306d5/flags/1x1/ph.svg"
                },
                "label": "Manila",
                "scale_factor": 1,
                "type": "#15AFAC",
                "size": [
                  55,
                  55
                ],
                "position": [
                  0,
                  0
                ]
              },
              {
                "id": "SIN",
                "properties": {
                  "label": "Singapur",
                  "passengers": 32000000,
                  "country": "Singapore",
                  "country_id": "sg"
                },
                "coordinates": [
                  1.350189,
                  103.994433
                ],
                "color": "#15AFAC",
                "styles": {
                  "image": "https://raw.githubusercontent.com/lipis/flag-icons/e119b66129af6dd849754ccf25dfbf81d4a306d5/flags/1x1/sg.svg"
                },
                "label": "Singapur",
                "scale_factor": 1,
                "type": "#15AFAC",
                "size": [
                  55,
                  55
                ],
                "position": [
                  0,
                  0
                ]
              },
              {
                "id": "TPE",
                "properties": {
                  "label": "Taipeh",
                  "passengers": 800000,
                  "country": "Taiwan",
                  "country_id": "tw"
                },
                "coordinates": [
                  25.077732,
                  121.232822
                ],
                "color": "#15AFAC",
                "styles": {
                  "image": "https://raw.githubusercontent.com/lipis/flag-icons/e119b66129af6dd849754ccf25dfbf81d4a306d5/flags/1x1/tw.svg"
                },
                "label": "Taipeh",
                "scale_factor": 1,
                "type": "#15AFAC",
                "size": [
                  55,
                  55
                ],
                "position": [
                  0,
                  0
                ]
              },
              {
                "id": "BKK",
                "properties": {
                  "label": "Bangkok",
                  "passengers": 65000000,
                  "country": "Thailand",
                  "country_id": "th"
                },
                "coordinates": [
                  13.681108,
                  100.747283
                ],
                "color": "#15AFAC",
                "styles": {
                  "image": "https://raw.githubusercontent.com/lipis/flag-icons/e119b66129af6dd849754ccf25dfbf81d4a306d5/flags/1x1/th.svg"
                },
                "label": "Bangkok",
                "scale_factor": 1,
                "type": "#15AFAC",
                "size": [
                  55,
                  55
                ],
                "position": [
                  0,
                  0
                ]
              },
              {
                "id": "IST",
                "properties": {
                  "label": "Istanbul",
                  "passengers": 64000000,
                  "country": "Turkey",
                  "country_id": "tr"
                },
                "coordinates": [
                  40.976922,
                  28.814606
                ],
                "color": "#15AFAC",
                "styles": {
                  "image": "https://raw.githubusercontent.com/lipis/flag-icons/e119b66129af6dd849754ccf25dfbf81d4a306d5/flags/1x1/tr.svg"
                },
                "label": "Istanbul",
                "scale_factor": 1,
                "type": "#15AFAC",
                "size": [
                  55,
                  55
                ],
                "position": [
                  0,
                  0
                ]
              },
              {
                "id": "ULN",
                "properties": {
                  "label": "Ulaanbaatar",
                  "passengers": 1000000,
                  "country": "Mongolia",
                  "country_id": "mn"
                },
                "coordinates": [
                  47.843056,
                  106.766639
                ],
                "color": "#15AFAC",
                "styles": {
                  "image": "https://raw.githubusercontent.com/lipis/flag-icons/e119b66129af6dd849754ccf25dfbf81d4a306d5/flags/1x1/mn.svg"
                },
                "label": "Ulaanbaatar",
                "scale_factor": 1,
                "type": "#15AFAC",
                "size": [
                  55,
                  55
                ],
                "position": [
                  0,
                  0
                ]
              },
              {
                "id": "MEL",
                "properties": {
                  "label": "Melbourne",
                  "passengers": 12000000,
                  "country": "Australia",
                  "country_id": "au"
                },
                "coordinates": [
                  -37.673333,
                  144.843333
                ],
                "color": "#15AFAC",
                "styles": {
                  "image": "https://raw.githubusercontent.com/lipis/flag-icons/e119b66129af6dd849754ccf25dfbf81d4a306d5/flags/1x1/au.svg"
                },
                "label": "Melbourne",
                "scale_factor": 1,
                "type": "#15AFAC",
                "size": [
                  55,
                  55
                ],
                "position": [
                  0,
                  0
                ]
              },
              {
                "id": "BNE",
                "properties": {
                  "label": "Brisbane",
                  "passengers": 23000000,
                  "country": "Australia",
                  "country_id": "au"
                },
                "coordinates": [
                  -27.383333,
                  153.118056
                ],
                "color": "#15AFAC",
                "styles": {
                  "image": "https://raw.githubusercontent.com/lipis/flag-icons/e119b66129af6dd849754ccf25dfbf81d4a306d5/flags/1x1/au.svg"
                },
                "label": "Brisbane",
                "scale_factor": 1,
                "type": "#15AFAC",
                "size": [
                  55,
                  55
                ],
                "position": [
                  0,
                  0
                ]
              },
              {
                "id": "NAN",
                "properties": {
                  "label": "Nadi",
                  "passengers": 2000000,
                  "country": "Fiji",
                  "country_id": "fj"
                },
                "coordinates": [
                  -17.755392,
                  177.443378
                ],
                "color": "#15AFAC",
                "styles": {
                  "image": "https://raw.githubusercontent.com/lipis/flag-icons/e119b66129af6dd849754ccf25dfbf81d4a306d5/flags/1x1/fj.svg"
                },
                "label": "Nadi",
                "scale_factor": 1,
                "type": "#15AFAC",
                "size": [
                  55,
                  55
                ],
                "position": [
                  0,
                  0
                ]
              },
              {
                "id": "AKL",
                "properties": {
                  "label": "Auckland",
                  "passengers": 21000000,
                  "country": "New Zealand",
                  "country_id": "nz"
                },
                "coordinates": [
                  -37.008056,
                  174.791667
                ],
                "color": "#15AFAC",
                "styles": {
                  "image": "https://raw.githubusercontent.com/lipis/flag-icons/e119b66129af6dd849754ccf25dfbf81d4a306d5/flags/1x1/nz.svg"
                },
                "label": "Auckland",
                "scale_factor": 1,
                "type": "#15AFAC",
                "size": [
                  55,
                  55
                ],
                "position": [
                  0,
                  0
                ]
              },
              {
                "id": "CDG",
                "properties": {
                  "label": "Paris",
                  "passengers": 57000000,
                  "country": "France",
                  "country_id": "fr"
                },
                "coordinates": [
                  49.009722,
                  2.547778
                ],
                "color": "#15AFAC",
                "styles": {
                  "image": "https://raw.githubusercontent.com/lipis/flag-icons/e119b66129af6dd849754ccf25dfbf81d4a306d5/flags/1x1/fr.svg"
                },
                "label": "Paris",
                "scale_factor": 1,
                "type": "#15AFAC",
                "size": [
                  55,
                  55
                ],
                "position": [
                  0,
                  0
                ]
              },
              {
                "id": "MAD",
                "properties": {
                  "label": "Madrid",
                  "passengers": 50000000,
                  "country": "Spain",
                  "country_id": "es"
                },
                "coordinates": [
                  40.4675,
                  -3.551944
                ],
                "color": "#15AFAC",
                "styles": {
                  "image": "https://raw.githubusercontent.com/lipis/flag-icons/e119b66129af6dd849754ccf25dfbf81d4a306d5/flags/1x1/es.svg"
                },
                "label": "Madrid",
                "scale_factor": 1,
                "type": "#15AFAC",
                "size": [
                  55,
                  55
                ],
                "position": [
                  0,
                  0
                ]
              },
              {
                "id": "BCN",
                "properties": {
                  "label": "Barcelona",
                  "passengers": 41000000,
                  "country": "Spain",
                  "country_id": "es"
                },
                "coordinates": [
                  41.297078,
                  2.078464
                ],
                "color": "#15AFAC",
                "styles": {
                  "image": "https://raw.githubusercontent.com/lipis/flag-icons/e119b66129af6dd849754ccf25dfbf81d4a306d5/flags/1x1/es.svg"
                },
                "label": "Barcelona",
                "scale_factor": 1,
                "type": "#15AFAC",
                "size": [
                  55,
                  55
                ],
                "position": [
                  0,
                  0
                ]
              },
              {
                "id": "FCO",
                "properties": {
                  "label": "Rome",
                  "passengers": 29000000,
                  "country": "Italy",
                  "country_id": "it"
                },
                "coordinates": [
                  41.804444,
                  12.250833
                ],
                "color": "#15AFAC",
                "styles": {
                  "image": "https://raw.githubusercontent.com/lipis/flag-icons/e119b66129af6dd849754ccf25dfbf81d4a306d5/flags/1x1/it.svg"
                },
                "label": "Rome",
                "scale_factor": 1,
                "type": "#15AFAC",
                "size": [
                  55,
                  55
                ],
                "position": [
                  0,
                  0
                ]
              },
              {
                "id": "CPH",
                "properties": {
                  "label": "Copenhagen",
                  "passengers": 30000000,
                  "country": "Denmark",
                  "country_id": "dk"
                },
                "coordinates": [
                  55.617917,
                  12.655972
                ],
                "color": "#15AFAC",
                "styles": {
                  "image": "https://raw.githubusercontent.com/lipis/flag-icons/e119b66129af6dd849754ccf25dfbf81d4a306d5/flags/1x1/dk.svg"
                },
                "label": "Copenhagen",
                "scale_factor": 1,
                "type": "#15AFAC",
                "size": [
                  55,
                  55
                ],
                "position": [
                  0,
                  0
                ]
              },
              {
                "id": "HEL",
                "properties": {
                  "label": "Helsinki",
                  "passengers": 5000000,
                  "country": "Finland",
                  "country_id": "fi"
                },
                "coordinates": [
                  60.317222,
                  24.963333
                ],
                "color": "#15AFAC",
                "styles": {
                  "image": "https://raw.githubusercontent.com/lipis/flag-icons/e119b66129af6dd849754ccf25dfbf81d4a306d5/flags/1x1/fi.svg"
                },
                "label": "Helsinki",
                "scale_factor": 1,
                "type": "#15AFAC",
                "size": [
                  55,
                  55
                ],
                "position": [
                  0,
                  0
                ]
              },
              {
                "id": "ATH",
                "properties": {
                  "label": "Athens",
                  "passengers": 22000000,
                  "country": "Greece",
                  "country_id": "gr"
                },
                "coordinates": [
                  37.936358,
                  23.944467
                ],
                "color": "#15AFAC",
                "styles": {
                  "image": "https://raw.githubusercontent.com/lipis/flag-icons/e119b66129af6dd849754ccf25dfbf81d4a306d5/flags/1x1/gr.svg"
                },
                "label": "Athens",
                "scale_factor": 1,
                "type": "#15AFAC",
                "size": [
                  55,
                  55
                ],
                "position": [
                  0,
                  0
                ]
              },
              {
                "id": "DUB",
                "properties": {
                  "label": "Dublin",
                  "passengers": 32000000,
                  "country": "Ireland",
                  "country_id": "ie"
                },
                "coordinates": [
                  53.421333,
                  -6.270075
                ],
                "color": "#15AFAC",
                "styles": {
                  "image": "https://raw.githubusercontent.com/lipis/flag-icons/e119b66129af6dd849754ccf25dfbf81d4a306d5/flags/1x1/ie.svg"
                },
                "label": "Dublin",
                "scale_factor": 1,
                "type": "#15AFAC",
                "size": [
                  55,
                  55
                ],
                "position": [
                  0,
                  0
                ]
              },
              {
                "id": "RKV",
                "properties": {
                  "label": "Reykjavik",
                  "passengers": 400000,
                  "country": "Iceland",
                  "country_id": "is"
                },
                "coordinates": [
                  64.13,
                  -21.940556
                ],
                "color": "#15AFAC",
                "styles": {
                  "image": "https://raw.githubusercontent.com/lipis/flag-icons/e119b66129af6dd849754ccf25dfbf81d4a306d5/flags/1x1/is.svg"
                },
                "label": "Reykjavik",
                "scale_factor": 1,
                "type": "#15AFAC",
                "size": [
                  55,
                  55
                ],
                "position": [
                  0,
                  0
                ]
              },
              {
                "id": "OSL",
                "properties": {
                  "label": "Oslo",
                  "passengers": 9000000,
                  "country": "Norway",
                  "country_id": "no"
                },
                "coordinates": [
                  60.193917,
                  11.100361
                ],
                "color": "#15AFAC",
                "styles": {
                  "image": "https://raw.githubusercontent.com/lipis/flag-icons/e119b66129af6dd849754ccf25dfbf81d4a306d5/flags/1x1/no.svg"
                },
                "label": "Oslo",
                "scale_factor": 1,
                "type": "#15AFAC",
                "size": [
                  55,
                  55
                ],
                "position": [
                  0,
                  0
                ]
              },
              {
                "id": "VIE",
                "properties": {
                  "label": "Vienna",
                  "passengers": 10000000,
                  "country": "Austria",
                  "country_id": "at"
                },
                "coordinates": [
                  48.110833,
                  16.570833
                ],
                "color": "#15AFAC",
                "styles": {
                  "image": "https://raw.githubusercontent.com/lipis/flag-icons/e119b66129af6dd849754ccf25dfbf81d4a306d5/flags/1x1/at.svg"
                },
                "label": "Vienna",
                "scale_factor": 1,
                "type": "#15AFAC",
                "size": [
                  55,
                  55
                ],
                "position": [
                  0,
                  0
                ]
              },
              {
                "id": "LIS",
                "properties": {
                  "label": "Lisbon",
                  "passengers": 28000000,
                  "country": "Portugal",
                  "country_id": "pt"
                },
                "coordinates": [
                  38.774167,
                  -9.134167
                ],
                "color": "#15AFAC",
                "styles": {
                  "image": "https://raw.githubusercontent.com/lipis/flag-icons/e119b66129af6dd849754ccf25dfbf81d4a306d5/flags/1x1/pt.svg"
                },
                "label": "Lisbon",
                "scale_factor": 1,
                "type": "#15AFAC",
                "size": [
                  55,
                  55
                ],
                "position": [
                  0,
                  0
                ]
              },
              {
                "id": "ARN",
                "properties": {
                  "label": "Stockholm",
                  "passengers": 7000000,
                  "country": "Sweden",
                  "country_id": "se"
                },
                "coordinates": [
                  59.651944,
                  17.918611
                ],
                "color": "#15AFAC",
                "styles": {
                  "image": "https://raw.githubusercontent.com/lipis/flag-icons/e119b66129af6dd849754ccf25dfbf81d4a306d5/flags/1x1/se.svg"
                },
                "label": "Stockholm",
                "scale_factor": 1,
                "type": "#15AFAC",
                "size": [
                  55,
                  55
                ],
                "position": [
                  0,
                  0
                ]
              },
              {
                "id": "EDI",
                "properties": {
                  "label": "Edinburgh",
                  "passengers": 14000000,
                  "country": "UK",
                  "country_id": "gb"
                },
                "coordinates": [
                  55.95,
                  -3.3725
                ],
                "color": "#15AFAC",
                "styles": {
                  "image": "https://raw.githubusercontent.com/lipis/flag-icons/e119b66129af6dd849754ccf25dfbf81d4a306d5/flags/1x1/gb.svg"
                },
                "label": "Edinburgh",
                "scale_factor": 1,
                "type": "#15AFAC",
                "size": [
                  55,
                  55
                ],
                "position": [
                  0,
                  0
                ]
              },
              {
                "id": "ORD",
                "properties": {
                  "label": "Chicago",
                  "passengers": 54000000,
                  "country": "USA",
                  "country_id": "us"
                },
                "coordinates": [
                  41.978603,
                  -87.904842
                ],
                "color": "#15AFAC",
                "styles": {
                  "image": "https://raw.githubusercontent.com/lipis/flag-icons/e119b66129af6dd849754ccf25dfbf81d4a306d5/flags/1x1/us.svg"
                },
                "label": "Chicago",
                "scale_factor": 1,
                "type": "#15AFAC",
                "size": [
                  55,
                  55
                ],
                "position": [
                  0,
                  0
                ]
              },
              {
                "id": "DFW",
                "properties": {
                  "label": "Dallas",
                  "passengers": 73000000,
                  "country": "USA",
                  "country_id": "us"
                },
                "coordinates": [
                  32.896828,
                  -97.037997
                ],
                "color": "#15AFAC",
                "styles": {
                  "image": "https://raw.githubusercontent.com/lipis/flag-icons/e119b66129af6dd849754ccf25dfbf81d4a306d5/flags/1x1/us.svg"
                },
                "label": "Dallas",
                "scale_factor": 1,
                "type": "#15AFAC",
                "size": [
                  55,
                  55
                ],
                "position": [
                  0,
                  0
                ]
              },
              {
                "id": "SFO",
                "properties": {
                  "label": "San Francisco",
                  "passengers": 42000000,
                  "country": "USA",
                  "country_id": "us"
                },
                "coordinates": [
                  37.618972,
                  -122.374889
                ],
                "color": "#15AFAC",
                "styles": {
                  "image": "https://raw.githubusercontent.com/lipis/flag-icons/e119b66129af6dd849754ccf25dfbf81d4a306d5/flags/1x1/us.svg"
                },
                "label": "San Francisco",
                "scale_factor": 1,
                "type": "#15AFAC",
                "size": [
                  55,
                  55
                ],
                "position": [
                  0,
                  0
                ]
              },
              {
                "id": "LAS",
                "properties": {
                  "label": "Las Vegas",
                  "passengers": 52000000,
                  "country": "USA",
                  "country_id": "us"
                },
                "coordinates": [
                  36.080056,
                  -115.15225
                ],
                "color": "#15AFAC",
                "styles": {
                  "image": "https://raw.githubusercontent.com/lipis/flag-icons/e119b66129af6dd849754ccf25dfbf81d4a306d5/flags/1x1/us.svg"
                },
                "label": "Las Vegas",
                "scale_factor": 1,
                "type": "#15AFAC",
                "size": [
                  55,
                  55
                ],
                "position": [
                  0,
                  0
                ]
              },
              {
                "id": "MIA",
                "properties": {
                  "label": "Miami",
                  "passengers": 50000000,
                  "country": "USA",
                  "country_id": "us"
                },
                "coordinates": [
                  25.79325,
                  -80.290556
                ],
                "color": "#15AFAC",
                "styles": {
                  "image": "https://raw.githubusercontent.com/lipis/flag-icons/e119b66129af6dd849754ccf25dfbf81d4a306d5/flags/1x1/us.svg"
                },
                "label": "Miami",
                "scale_factor": 1,
                "type": "#15AFAC",
                "size": [
                  55,
                  55
                ],
                "position": [
                  0,
                  0
                ]
              },
              {
                "id": "YYZ",
                "properties": {
                  "label": "Toronto",
                  "passengers": 12000000,
                  "country": "Canada",
                  "country_id": "ca"
                },
                "coordinates": [
                  43.677222,
                  -79.630556
                ],
                "color": "#15AFAC",
                "styles": {
                  "image": "https://raw.githubusercontent.com/lipis/flag-icons/e119b66129af6dd849754ccf25dfbf81d4a306d5/flags/1x1/ca.svg"
                },
                "label": "Toronto",
                "scale_factor": 1,
                "type": "#15AFAC",
                "size": [
                  55,
                  55
                ],
                "position": [
                  0,
                  0
                ]
              },
              {
                "id": "YVR",
                "properties": {
                  "label": "Vancouver",
                  "passengers": 19000000,
                  "country": "Canada",
                  "country_id": "ca"
                },
                "coordinates": [
                  49.193889,
                  -123.184444
                ],
                "color": "#15AFAC",
                "styles": {
                  "image": "https://raw.githubusercontent.com/lipis/flag-icons/e119b66129af6dd849754ccf25dfbf81d4a306d5/flags/1x1/ca.svg"
                },
                "label": "Vancouver",
                "scale_factor": 1,
                "type": "#15AFAC",
                "size": [
                  55,
                  55
                ],
                "position": [
                  0,
                  0
                ]
              },
              {
                "id": "YUL",
                "properties": {
                  "label": "Montreal",
                  "passengers": 15000000,
                  "country": "Canada",
                  "country_id": "ca"
                },
                "coordinates": [
                  45.47175,
                  -73.736569
                ],
                "color": "#15AFAC",
                "styles": {
                  "image": "https://raw.githubusercontent.com/lipis/flag-icons/e119b66129af6dd849754ccf25dfbf81d4a306d5/flags/1x1/ca.svg"
                },
                "label": "Montreal",
                "scale_factor": 1,
                "type": "#15AFAC",
                "size": [
                  55,
                  55
                ],
                "position": [
                  0,
                  0
                ]
              },
              {
                "id": "MEX",
                "properties": {
                  "label": "Mexico-City",
                  "passengers": 46000000,
                  "country": "Mexico",
                  "country_id": "mx"
                },
                "coordinates": [
                  19.436303,
                  -99.072097
                ],
                "color": "#15AFAC",
                "styles": {
                  "image": "https://raw.githubusercontent.com/lipis/flag-icons/e119b66129af6dd849754ccf25dfbf81d4a306d5/flags/1x1/mx.svg"
                },
                "label": "Mexico-City",
                "scale_factor": 1,
                "type": "#15AFAC",
                "size": [
                  55,
                  55
                ],
                "position": [
                  0,
                  0
                ]
              },
              {
                "id": "GUA",
                "properties": {
                  "label": "Guatemala-City",
                  "passengers": 2000000,
                  "country": "Guatemala",
                  "country_id": "gt"
                },
                "coordinates": [
                  14.583272,
                  -90.527475
                ],
                "color": "#15AFAC",
                "styles": {
                  "image": "https://raw.githubusercontent.com/lipis/flag-icons/e119b66129af6dd849754ccf25dfbf81d4a306d5/flags/1x1/gt.svg"
                },
                "label": "Guatemala-City",
                "scale_factor": 1,
                "type": "#15AFAC",
                "size": [
                  55,
                  55
                ],
                "position": [
                  0,
                  0
                ]
              },
              {
                "id": "EZE",
                "properties": {
                  "label": "Buenos Aires",
                  "passengers": 5000000,
                  "country": "Argentina",
                  "country_id": "ar"
                },
                "coordinates": [
                  -34.822222,
                  -58.535833
                ],
                "color": "#15AFAC",
                "styles": {
                  "image": "https://raw.githubusercontent.com/lipis/flag-icons/e119b66129af6dd849754ccf25dfbf81d4a306d5/flags/1x1/ar.svg"
                },
                "label": "Buenos Aires",
                "scale_factor": 1,
                "type": "#15AFAC",
                "size": [
                  55,
                  55
                ],
                "position": [
                  0,
                  0
                ]
              },
              {
                "id": "GRU",
                "properties": {
                  "label": "Sao Paulo",
                  "passengers": 34000000,
                  "country": "Brazil",
                  "country_id": "br"
                },
                "coordinates": [
                  -23.432075,
                  -46.469511
                ],
                "color": "#15AFAC",
                "styles": {
                  "image": "https://raw.githubusercontent.com/lipis/flag-icons/e119b66129af6dd849754ccf25dfbf81d4a306d5/flags/1x1/br.svg"
                },
                "label": "Sao Paulo",
                "scale_factor": 1,
                "type": "#15AFAC",
                "size": [
                  55,
                  55
                ],
                "position": [
                  0,
                  0
                ]
              },
              {
                "id": "SCL",
                "properties": {
                  "label": "Santiago de Chile",
                  "passengers": 20000000,
                  "country": "Chile",
                  "country_id": "cl"
                },
                "coordinates": [
                  -33.392975,
                  -70.785803
                ],
                "color": "#15AFAC",
                "styles": {
                  "image": "https://raw.githubusercontent.com/lipis/flag-icons/e119b66129af6dd849754ccf25dfbf81d4a306d5/flags/1x1/cl.svg"
                },
                "label": "Santiago de Chile",
                "scale_factor": 1,
                "type": "#15AFAC",
                "size": [
                  55,
                  55
                ],
                "position": [
                  0,
                  0
                ]
              },
              {
                "id": "BSB",
                "properties": {
                  "label": "Brasilia",
                  "passengers": 13000000,
                  "country": "Brazil",
                  "country_id": "br"
                },
                "coordinates": [
                  -15.871111,
                  -47.918611
                ],
                "color": "#15AFAC",
                "styles": {
                  "image": "https://raw.githubusercontent.com/lipis/flag-icons/e119b66129af6dd849754ccf25dfbf81d4a306d5/flags/1x1/br.svg"
                },
                "label": "Brasilia",
                "scale_factor": 1,
                "type": "#15AFAC",
                "size": [
                  55,
                  55
                ],
                "position": [
                  0,
                  0
                ]
              },
              {
                "id": "BOG",
                "properties": {
                  "label": "Bogota",
                  "passengers": 36000000,
                  "country": "Colombia",
                  "country_id": "co"
                },
                "coordinates": [
                  4.701594,
                  -74.146947
                ],
                "color": "#15AFAC",
                "styles": {
                  "image": "https://raw.githubusercontent.com/lipis/flag-icons/e119b66129af6dd849754ccf25dfbf81d4a306d5/flags/1x1/co.svg"
                },
                "label": "Bogota",
                "scale_factor": 1,
                "type": "#15AFAC",
                "size": [
                  55,
                  55
                ],
                "position": [
                  0,
                  0
                ]
              },
              {
                "id": "CCS",
                "properties": {
                  "label": "Caracas",
                  "passengers": 8000000,
                  "country": "Venezuela",
                  "country_id": "ve"
                },
                "coordinates": [
                  10.601194,
                  -66.991222
                ],
                "color": "#15AFAC",
                "styles": {
                  "image": "https://raw.githubusercontent.com/lipis/flag-icons/e119b66129af6dd849754ccf25dfbf81d4a306d5/flags/1x1/ve.svg"
                },
                "label": "Caracas",
                "scale_factor": 1,
                "type": "#15AFAC",
                "size": [
                  55,
                  55
                ],
                "position": [
                  0,
                  0
                ]
              }
            ],
            "_overview": {
              "enabled": null,
              "overview_set": false
            },
            "_selected_graph": [
              [],
              []
            ],
            "_sidebar": {
              "enabled": false,
              "start_with": null
            },
            "_view_count": null,
            "_view_module": "yfiles-jupyter-graphs",
            "_view_module_version": "^1.10.9",
            "_view_name": "GraphView",
            "layout": "IPY_MODEL_c8004d1716ae49d48343550dfa945ba1"
          }
        },
        "c8004d1716ae49d48343550dfa945ba1": {
          "model_module": "@jupyter-widgets/base",
          "model_name": "LayoutModel",
          "model_module_version": "1.2.0",
          "state": {
            "_model_module": "@jupyter-widgets/base",
            "_model_module_version": "1.2.0",
            "_model_name": "LayoutModel",
            "_view_count": null,
            "_view_module": "@jupyter-widgets/base",
            "_view_module_version": "1.2.0",
            "_view_name": "LayoutView",
            "align_content": null,
            "align_items": null,
            "align_self": null,
            "border": null,
            "bottom": null,
            "display": null,
            "flex": null,
            "flex_flow": null,
            "grid_area": null,
            "grid_auto_columns": null,
            "grid_auto_flow": null,
            "grid_auto_rows": null,
            "grid_column": null,
            "grid_gap": null,
            "grid_row": null,
            "grid_template_areas": null,
            "grid_template_columns": null,
            "grid_template_rows": null,
            "height": "800px",
            "justify_content": null,
            "justify_items": null,
            "left": null,
            "margin": null,
            "max_height": null,
            "max_width": null,
            "min_height": null,
            "min_width": null,
            "object_fit": null,
            "object_position": null,
            "order": null,
            "overflow": null,
            "overflow_x": null,
            "overflow_y": null,
            "padding": null,
            "right": null,
            "top": null,
            "visibility": null,
            "width": "100%"
          }
        },
        "2c00878064a04115bd7510c88f45b45d": {
          "model_module": "yfiles-jupyter-graphs",
          "model_name": "GraphModel",
          "model_module_version": "^1.10.9",
          "state": {
            "_context_pane_mapping": [
              {
                "id": "Neighborhood",
                "title": "Neighborhood"
              },
              {
                "id": "Data",
                "title": "Data"
              },
              {
                "id": "Search",
                "title": "Search"
              },
              {
                "id": "About",
                "title": "About"
              }
            ],
            "_data_importer": "unknown",
            "_directed": false,
            "_dom_classes": [],
            "_edges": [
              {
                "start": "LAX",
                "end": "JFK",
                "label": "",
                "properties": {},
                "directed": false,
                "id": "0db141e9-2144-46e8-a138-512223f79b4c",
                "color": "#15AFAC",
                "thickness_factor": 1,
                "styles": {}
              },
              {
                "start": "JFK",
                "end": "GIG",
                "label": "",
                "properties": {},
                "directed": false,
                "id": "356d1ec1-63f9-4716-99a0-bcc3b1e7a002",
                "color": "#15AFAC",
                "thickness_factor": 1,
                "styles": {}
              },
              {
                "start": "JFK",
                "end": "LIM",
                "label": "",
                "properties": {},
                "directed": false,
                "id": "bda65544-ec10-43f2-8eee-d5db9f3d44fd",
                "color": "#15AFAC",
                "thickness_factor": 1,
                "styles": {}
              },
              {
                "start": "JFK",
                "end": "LHR",
                "label": "",
                "properties": {},
                "directed": false,
                "id": "c49e4932-d024-4c6f-862c-e2d3549e16d3",
                "color": "#15AFAC",
                "thickness_factor": 1,
                "styles": {}
              },
              {
                "start": "GIG",
                "end": "FRA",
                "label": "",
                "properties": {},
                "directed": false,
                "id": "b4b35e61-4735-4c5a-b583-eaa5aff31041",
                "color": "#15AFAC",
                "thickness_factor": 1,
                "styles": {}
              },
              {
                "start": "LIM",
                "end": "GIG",
                "label": "",
                "properties": {},
                "directed": false,
                "id": "753e32a6-1ba6-44f3-bc61-97c14b32862f",
                "color": "#15AFAC",
                "thickness_factor": 1,
                "styles": {}
              },
              {
                "start": "FRA",
                "end": "JFK",
                "label": "",
                "properties": {},
                "directed": false,
                "id": "fde90945-20c6-4436-afb7-18e58557fbe2",
                "color": "#15AFAC",
                "thickness_factor": 1,
                "styles": {}
              },
              {
                "start": "LHR",
                "end": "FRA",
                "label": "",
                "properties": {},
                "directed": false,
                "id": "dd9f137c-5d70-4458-bbe8-b1eecbb626ed",
                "color": "#15AFAC",
                "thickness_factor": 1,
                "styles": {}
              },
              {
                "start": "FRA",
                "end": "SVO",
                "label": "",
                "properties": {},
                "directed": false,
                "id": "0f5422f6-6848-4760-97a7-311cd6e84b5b",
                "color": "#15AFAC",
                "thickness_factor": 1,
                "styles": {}
              },
              {
                "start": "FRA",
                "end": "DXB",
                "label": "",
                "properties": {},
                "directed": false,
                "id": "d2c2331e-f6f9-406d-87f7-ef7d23e6f662",
                "color": "#15AFAC",
                "thickness_factor": 1,
                "styles": {}
              },
              {
                "start": "SVO",
                "end": "DEL",
                "label": "",
                "properties": {},
                "directed": false,
                "id": "0a12492c-46e4-427c-8660-b674d727b6cf",
                "color": "#15AFAC",
                "thickness_factor": 1,
                "styles": {}
              },
              {
                "start": "SVO",
                "end": "PVG",
                "label": "",
                "properties": {},
                "directed": false,
                "id": "8fc7e161-7693-46d0-87fe-342baf69ac72",
                "color": "#15AFAC",
                "thickness_factor": 1,
                "styles": {}
              },
              {
                "start": "DEL",
                "end": "HKG",
                "label": "",
                "properties": {},
                "directed": false,
                "id": "eae3ec95-9bee-41e4-88de-4c6613a08e7c",
                "color": "#15AFAC",
                "thickness_factor": 1,
                "styles": {}
              },
              {
                "start": "PVG",
                "end": "HKG",
                "label": "",
                "properties": {},
                "directed": false,
                "id": "18d486b3-701f-4998-81b8-1b3f09827737",
                "color": "#15AFAC",
                "thickness_factor": 1,
                "styles": {}
              },
              {
                "start": "PVG",
                "end": "NRT",
                "label": "",
                "properties": {},
                "directed": false,
                "id": "783a400f-0c68-4d46-a70c-099fb7eed445",
                "color": "#15AFAC",
                "thickness_factor": 1,
                "styles": {}
              },
              {
                "start": "HKG",
                "end": "SYD",
                "label": "",
                "properties": {},
                "directed": false,
                "id": "31871c2d-ecda-4896-8d58-75e58119f111",
                "color": "#15AFAC",
                "thickness_factor": 1,
                "styles": {}
              },
              {
                "start": "NRT",
                "end": "SYD",
                "label": "",
                "properties": {},
                "directed": false,
                "id": "027ecf3d-19e6-4816-8b62-9004e5495ad6",
                "color": "#15AFAC",
                "thickness_factor": 1,
                "styles": {}
              },
              {
                "start": "DXB",
                "end": "SVO",
                "label": "",
                "properties": {},
                "directed": false,
                "id": "3fa8b328-a2af-4192-a315-96f9060a37db",
                "color": "#15AFAC",
                "thickness_factor": 1,
                "styles": {}
              },
              {
                "start": "DXB",
                "end": "DEL",
                "label": "",
                "properties": {},
                "directed": false,
                "id": "d48b1c86-d394-4603-8c2f-f8f1f9b6bfab",
                "color": "#15AFAC",
                "thickness_factor": 1,
                "styles": {}
              },
              {
                "start": "DXB",
                "end": "DKR",
                "label": "",
                "properties": {},
                "directed": false,
                "id": "ecf5349e-0cee-4896-a614-b47984d6837e",
                "color": "#15AFAC",
                "thickness_factor": 1,
                "styles": {}
              },
              {
                "start": "DXB",
                "end": "JNB",
                "label": "",
                "properties": {},
                "directed": false,
                "id": "2e10e0b3-cee8-424f-b4d7-4183b86b2fe8",
                "color": "#15AFAC",
                "thickness_factor": 1,
                "styles": {}
              },
              {
                "start": "JNB",
                "end": "LHR",
                "label": "",
                "properties": {},
                "directed": false,
                "id": "92161e9b-56e1-4e16-a133-a95e7b059173",
                "color": "#15AFAC",
                "thickness_factor": 1,
                "styles": {}
              },
              {
                "start": "JNB",
                "end": "DKR",
                "label": "",
                "properties": {},
                "directed": false,
                "id": "14e214c4-8da9-42f4-9c0d-2b6d69d26b17",
                "color": "#15AFAC",
                "thickness_factor": 1,
                "styles": {}
              },
              {
                "start": "SYD",
                "end": "DXB",
                "label": "",
                "properties": {},
                "directed": false,
                "id": "6d572775-d2e6-4e5a-bf43-707a29eabf88",
                "color": "#15AFAC",
                "thickness_factor": 1,
                "styles": {}
              },
              {
                "start": "NBO",
                "end": "JNB",
                "label": "",
                "properties": {},
                "directed": false,
                "id": "488448cf-bd8e-4104-85d4-76b05cc3754a",
                "color": "#15AFAC",
                "thickness_factor": 1,
                "styles": {}
              },
              {
                "start": "NBO",
                "end": "DXB",
                "label": "",
                "properties": {},
                "directed": false,
                "id": "a86fd208-0c18-47e5-865a-33ab192ff1d6",
                "color": "#15AFAC",
                "thickness_factor": 1,
                "styles": {}
              },
              {
                "start": "ATL",
                "end": "JFK",
                "label": "",
                "properties": {},
                "directed": false,
                "id": "149c24a7-898a-4493-8077-295f26065e62",
                "color": "#15AFAC",
                "thickness_factor": 1,
                "styles": {}
              },
              {
                "start": "LAX",
                "end": "ATL",
                "label": "",
                "properties": {},
                "directed": false,
                "id": "ce55de2a-308e-412d-8465-7afa38e72c84",
                "color": "#15AFAC",
                "thickness_factor": 1,
                "styles": {}
              },
              {
                "start": "ATL",
                "end": "LHR",
                "label": "",
                "properties": {},
                "directed": false,
                "id": "363c4f39-1d02-4b40-84ba-e7f39a3acbcd",
                "color": "#15AFAC",
                "thickness_factor": 1,
                "styles": {}
              },
              {
                "start": "ATL",
                "end": "LIM",
                "label": "",
                "properties": {},
                "directed": false,
                "id": "44fb4c34-104d-4216-9e16-526b85b422c7",
                "color": "#15AFAC",
                "thickness_factor": 1,
                "styles": {}
              },
              {
                "start": "SCL",
                "end": "LIM",
                "label": "",
                "properties": {},
                "directed": false,
                "id": "ecdecb6e-df26-4ae1-b350-dfbf6214b04a",
                "color": "#15AFAC",
                "thickness_factor": 1,
                "styles": {}
              },
              {
                "start": "EZE",
                "end": "SCL",
                "label": "",
                "properties": {},
                "directed": false,
                "id": "23692604-a875-4f3b-a499-cfb4dd9529f0",
                "color": "#15AFAC",
                "thickness_factor": 1,
                "styles": {}
              },
              {
                "start": "SCL",
                "end": "GRU",
                "label": "",
                "properties": {},
                "directed": false,
                "id": "75f3f2ff-d721-4673-b7e9-b3ccfe9fe83b",
                "color": "#15AFAC",
                "thickness_factor": 1,
                "styles": {}
              },
              {
                "start": "GIG",
                "end": "EZE",
                "label": "",
                "properties": {},
                "directed": false,
                "id": "2c6861b8-208c-475d-9dd3-90b32c6c441e",
                "color": "#15AFAC",
                "thickness_factor": 1,
                "styles": {}
              },
              {
                "start": "GIG",
                "end": "GRU",
                "label": "",
                "properties": {},
                "directed": false,
                "id": "c0857bd9-5c66-4ebf-abc5-09bffad9c775",
                "color": "#15AFAC",
                "thickness_factor": 1,
                "styles": {}
              },
              {
                "start": "BSB",
                "end": "GIG",
                "label": "",
                "properties": {},
                "directed": false,
                "id": "1682770b-5ad1-495b-9f21-47d624c2dbbc",
                "color": "#15AFAC",
                "thickness_factor": 1,
                "styles": {}
              },
              {
                "start": "SCL",
                "end": "BSB",
                "label": "",
                "properties": {},
                "directed": false,
                "id": "7387e5d3-49ec-49b0-9488-85a0e76e27f6",
                "color": "#15AFAC",
                "thickness_factor": 1,
                "styles": {}
              },
              {
                "start": "LIM",
                "end": "BSB",
                "label": "",
                "properties": {},
                "directed": false,
                "id": "f4d7166d-673f-4e04-88c6-19563e199617",
                "color": "#15AFAC",
                "thickness_factor": 1,
                "styles": {}
              },
              {
                "start": "BOG",
                "end": "BSB",
                "label": "",
                "properties": {},
                "directed": false,
                "id": "1c341cb0-1dff-4bd6-9852-b3ad81207361",
                "color": "#15AFAC",
                "thickness_factor": 1,
                "styles": {}
              },
              {
                "start": "CCS",
                "end": "BSB",
                "label": "",
                "properties": {},
                "directed": false,
                "id": "bbd4b91b-e158-422c-9f2e-239a2cfb0330",
                "color": "#15AFAC",
                "thickness_factor": 1,
                "styles": {}
              },
              {
                "start": "BOG",
                "end": "GUA",
                "label": "",
                "properties": {},
                "directed": false,
                "id": "6ede49c5-2f39-4bba-b6f5-cef76f0ed592",
                "color": "#15AFAC",
                "thickness_factor": 1,
                "styles": {}
              },
              {
                "start": "CCS",
                "end": "MIA",
                "label": "",
                "properties": {},
                "directed": false,
                "id": "b4c4bec3-2914-43e9-88be-219c9880cb98",
                "color": "#15AFAC",
                "thickness_factor": 1,
                "styles": {}
              },
              {
                "start": "GUA",
                "end": "MIA",
                "label": "",
                "properties": {},
                "directed": false,
                "id": "d0f53399-4fc3-4277-8a4c-a1bab170c3d6",
                "color": "#15AFAC",
                "thickness_factor": 1,
                "styles": {}
              },
              {
                "start": "GUA",
                "end": "MEX",
                "label": "",
                "properties": {},
                "directed": false,
                "id": "b852d902-e4f3-40f3-90e0-fd728182c494",
                "color": "#15AFAC",
                "thickness_factor": 1,
                "styles": {}
              },
              {
                "start": "MEX",
                "end": "LAX",
                "label": "",
                "properties": {},
                "directed": false,
                "id": "213f5db3-1c39-4e19-aef5-4e51a29e1029",
                "color": "#15AFAC",
                "thickness_factor": 1,
                "styles": {}
              },
              {
                "start": "MEX",
                "end": "LAX",
                "label": "",
                "properties": {},
                "directed": false,
                "id": "4049654c-e95e-4519-af91-e13a1e7d6f4c",
                "color": "#15AFAC",
                "thickness_factor": 1,
                "styles": {}
              },
              {
                "start": "LAX",
                "end": "SFO",
                "label": "",
                "properties": {},
                "directed": false,
                "id": "2c44ca68-2a0f-47f1-b895-45642b900400",
                "color": "#15AFAC",
                "thickness_factor": 1,
                "styles": {}
              },
              {
                "start": "SFO",
                "end": "YVR",
                "label": "",
                "properties": {},
                "directed": false,
                "id": "8fc78d65-c971-4700-bac9-2fc21f1ff333",
                "color": "#15AFAC",
                "thickness_factor": 1,
                "styles": {}
              },
              {
                "start": "LAX",
                "end": "LAS",
                "label": "",
                "properties": {},
                "directed": false,
                "id": "211047e2-15c7-4d94-b69e-1f21272d25b3",
                "color": "#15AFAC",
                "thickness_factor": 1,
                "styles": {}
              },
              {
                "start": "LAX",
                "end": "DFW",
                "label": "",
                "properties": {},
                "directed": false,
                "id": "0fa0b197-f230-4af5-b877-cac9a70e3dd3",
                "color": "#15AFAC",
                "thickness_factor": 1,
                "styles": {}
              },
              {
                "start": "LAX",
                "end": "ORD",
                "label": "",
                "properties": {},
                "directed": false,
                "id": "2f867c80-9e2f-4afe-ad1d-7ea82a8cb6d1",
                "color": "#15AFAC",
                "thickness_factor": 1,
                "styles": {}
              },
              {
                "start": "SFO",
                "end": "LAS",
                "label": "",
                "properties": {},
                "directed": false,
                "id": "c5da4812-e4a8-4114-8fe9-e6f0223177e2",
                "color": "#15AFAC",
                "thickness_factor": 1,
                "styles": {}
              },
              {
                "start": "DFW",
                "end": "ATL",
                "label": "",
                "properties": {},
                "directed": false,
                "id": "db9c24f0-0b9b-40be-879e-0d132734ba24",
                "color": "#15AFAC",
                "thickness_factor": 1,
                "styles": {}
              },
              {
                "start": "ATL",
                "end": "YYZ",
                "label": "",
                "properties": {},
                "directed": false,
                "id": "b6dc7043-14b2-41a9-aaf8-09f229a86121",
                "color": "#15AFAC",
                "thickness_factor": 1,
                "styles": {}
              },
              {
                "start": "ORD",
                "end": "YYZ",
                "label": "",
                "properties": {},
                "directed": false,
                "id": "61791e32-f2c0-4560-b2ee-55a4160958d4",
                "color": "#15AFAC",
                "thickness_factor": 1,
                "styles": {}
              },
              {
                "start": "YYZ",
                "end": "YUL",
                "label": "",
                "properties": {},
                "directed": false,
                "id": "d99b885e-6a6c-45aa-a4fa-da03f1db24f8",
                "color": "#15AFAC",
                "thickness_factor": 1,
                "styles": {}
              },
              {
                "start": "YYZ",
                "end": "JFK",
                "label": "",
                "properties": {},
                "directed": false,
                "id": "b9b44a92-f017-470e-9ac2-92a24cc56d4c",
                "color": "#15AFAC",
                "thickness_factor": 1,
                "styles": {}
              },
              {
                "start": "YUL",
                "end": "JFK",
                "label": "",
                "properties": {},
                "directed": false,
                "id": "b2c2f551-eb47-4375-affa-138733d83a45",
                "color": "#15AFAC",
                "thickness_factor": 1,
                "styles": {}
              },
              {
                "start": "JNB",
                "end": "CPT",
                "label": "",
                "properties": {},
                "directed": false,
                "id": "663dd1e7-1ce7-467c-9b8f-f4d43495c1a8",
                "color": "#15AFAC",
                "thickness_factor": 1,
                "styles": {}
              },
              {
                "start": "LOS",
                "end": "DKR",
                "label": "",
                "properties": {},
                "directed": false,
                "id": "bae66ea3-bd04-45c7-8dd4-6343f565f616",
                "color": "#15AFAC",
                "thickness_factor": 1,
                "styles": {}
              },
              {
                "start": "NBO",
                "end": "LOS",
                "label": "",
                "properties": {},
                "directed": false,
                "id": "6510589b-7558-4a6d-9716-7209553a47ea",
                "color": "#15AFAC",
                "thickness_factor": 1,
                "styles": {}
              },
              {
                "start": "DKR",
                "end": "CMN",
                "label": "",
                "properties": {},
                "directed": false,
                "id": "4aee57d0-4a12-41e9-8650-dee39752db39",
                "color": "#15AFAC",
                "thickness_factor": 1,
                "styles": {}
              },
              {
                "start": "DKR",
                "end": "CAI",
                "label": "",
                "properties": {},
                "directed": false,
                "id": "32adede8-f34a-40fe-a5a8-425456bdc4dd",
                "color": "#15AFAC",
                "thickness_factor": 1,
                "styles": {}
              },
              {
                "start": "NBO",
                "end": "CAI",
                "label": "",
                "properties": {},
                "directed": false,
                "id": "b10198a9-84f0-4d1d-b1d9-be50a0e184cb",
                "color": "#15AFAC",
                "thickness_factor": 1,
                "styles": {}
              },
              {
                "start": "DXB",
                "end": "CAI",
                "label": "",
                "properties": {},
                "directed": false,
                "id": "9fe0d920-661d-42da-bcc8-15f176dcce74",
                "color": "#15AFAC",
                "thickness_factor": 1,
                "styles": {}
              },
              {
                "start": "IKA",
                "end": "DXB",
                "label": "",
                "properties": {},
                "directed": false,
                "id": "424b5e21-2257-4320-ae97-45c644054456",
                "color": "#15AFAC",
                "thickness_factor": 1,
                "styles": {}
              },
              {
                "start": "IST",
                "end": "IKA",
                "label": "",
                "properties": {},
                "directed": false,
                "id": "ec781c7b-a78c-4f96-943b-7774865fa18d",
                "color": "#15AFAC",
                "thickness_factor": 1,
                "styles": {}
              },
              {
                "start": "TLV",
                "end": "ATH",
                "label": "",
                "properties": {},
                "directed": false,
                "id": "ee2cfce4-2e47-47ab-95a7-deadd49b669f",
                "color": "#15AFAC",
                "thickness_factor": 1,
                "styles": {}
              },
              {
                "start": "CAI",
                "end": "TLV",
                "label": "",
                "properties": {},
                "directed": false,
                "id": "67c6ca68-5b2a-4fc4-9824-e88b65c9d860",
                "color": "#15AFAC",
                "thickness_factor": 1,
                "styles": {}
              },
              {
                "start": "ATH",
                "end": "IST",
                "label": "",
                "properties": {},
                "directed": false,
                "id": "c363f287-5a73-4295-a17b-22a75e2a534c",
                "color": "#15AFAC",
                "thickness_factor": 1,
                "styles": {}
              },
              {
                "start": "FCO",
                "end": "ATH",
                "label": "",
                "properties": {},
                "directed": false,
                "id": "a5a02430-9606-4c6c-9e94-ed3378cc9868",
                "color": "#15AFAC",
                "thickness_factor": 1,
                "styles": {}
              },
              {
                "start": "LIS",
                "end": "LHR",
                "label": "",
                "properties": {},
                "directed": false,
                "id": "1169e704-8e0e-487f-a6ee-e507d7b0dabb",
                "color": "#15AFAC",
                "thickness_factor": 1,
                "styles": {}
              },
              {
                "start": "LIS",
                "end": "MAD",
                "label": "",
                "properties": {},
                "directed": false,
                "id": "4c0bed6f-6b60-43f1-a0f7-a82aace61958",
                "color": "#15AFAC",
                "thickness_factor": 1,
                "styles": {}
              },
              {
                "start": "MAD",
                "end": "BCN",
                "label": "",
                "properties": {},
                "directed": false,
                "id": "ab8bd8da-7a8a-4def-a080-dea09e0ef841",
                "color": "#15AFAC",
                "thickness_factor": 1,
                "styles": {}
              },
              {
                "start": "CDG",
                "end": "LHR",
                "label": "",
                "properties": {},
                "directed": false,
                "id": "82d5f183-b8ec-496c-ad48-12a627bc38e4",
                "color": "#15AFAC",
                "thickness_factor": 1,
                "styles": {}
              },
              {
                "start": "DUB",
                "end": "LHR",
                "label": "",
                "properties": {},
                "directed": false,
                "id": "6cf0d9c5-5ddf-40a7-95c2-f0ebed16c005",
                "color": "#15AFAC",
                "thickness_factor": 1,
                "styles": {}
              },
              {
                "start": "EDI",
                "end": "LHR",
                "label": "",
                "properties": {},
                "directed": false,
                "id": "194fbac0-d93a-4d2b-a777-8cfc004b41c1",
                "color": "#15AFAC",
                "thickness_factor": 1,
                "styles": {}
              },
              {
                "start": "CDG",
                "end": "BCN",
                "label": "",
                "properties": {},
                "directed": false,
                "id": "d16c6e29-9ca0-4c3b-b700-97052250bdd8",
                "color": "#15AFAC",
                "thickness_factor": 1,
                "styles": {}
              },
              {
                "start": "BCN",
                "end": "FCO",
                "label": "",
                "properties": {},
                "directed": false,
                "id": "0e48d4e1-babb-4797-93b7-4fcaa6b9711e",
                "color": "#15AFAC",
                "thickness_factor": 1,
                "styles": {}
              },
              {
                "start": "VIE",
                "end": "IST",
                "label": "",
                "properties": {},
                "directed": false,
                "id": "5fadacb5-5a9e-40ff-b39d-b54b9c9ee6db",
                "color": "#15AFAC",
                "thickness_factor": 1,
                "styles": {}
              },
              {
                "start": "VIE",
                "end": "SVO",
                "label": "",
                "properties": {},
                "directed": false,
                "id": "691d1b6e-f207-48c8-aa93-a16030c19019",
                "color": "#15AFAC",
                "thickness_factor": 1,
                "styles": {}
              },
              {
                "start": "CMN",
                "end": "LIS",
                "label": "",
                "properties": {},
                "directed": false,
                "id": "38fb1d1f-611a-49b6-9291-314d0ea1ff74",
                "color": "#15AFAC",
                "thickness_factor": 1,
                "styles": {}
              },
              {
                "start": "MAD",
                "end": "CMN",
                "label": "",
                "properties": {},
                "directed": false,
                "id": "5f4ab795-c196-44b8-8d4c-fbe92e3fcdd4",
                "color": "#15AFAC",
                "thickness_factor": 1,
                "styles": {}
              },
              {
                "start": "FRA",
                "end": "CPH",
                "label": "",
                "properties": {},
                "directed": false,
                "id": "6f892a48-11b4-44c0-855e-20e76eb70e3b",
                "color": "#15AFAC",
                "thickness_factor": 1,
                "styles": {}
              },
              {
                "start": "LHR",
                "end": "CPH",
                "label": "",
                "properties": {},
                "directed": false,
                "id": "0acd4373-c43d-41f6-a901-a55da73a958f",
                "color": "#15AFAC",
                "thickness_factor": 1,
                "styles": {}
              },
              {
                "start": "CPH",
                "end": "OSL",
                "label": "",
                "properties": {},
                "directed": false,
                "id": "454affbf-e628-4d17-ae2f-370a67c9a9b2",
                "color": "#15AFAC",
                "thickness_factor": 1,
                "styles": {}
              },
              {
                "start": "CPH",
                "end": "ARN",
                "label": "",
                "properties": {},
                "directed": false,
                "id": "d27a5bad-7a3a-4e14-903c-016bd39d4290",
                "color": "#15AFAC",
                "thickness_factor": 1,
                "styles": {}
              },
              {
                "start": "ARN",
                "end": "HEL",
                "label": "",
                "properties": {},
                "directed": false,
                "id": "42af69c7-1f49-41fe-adb9-467bff6746eb",
                "color": "#15AFAC",
                "thickness_factor": 1,
                "styles": {}
              },
              {
                "start": "HEL",
                "end": "SVO",
                "label": "",
                "properties": {},
                "directed": false,
                "id": "173707b2-352d-44a2-bf28-3424442a532f",
                "color": "#15AFAC",
                "thickness_factor": 1,
                "styles": {}
              },
              {
                "start": "ULN",
                "end": "PVG",
                "label": "",
                "properties": {},
                "directed": false,
                "id": "94123e2a-d6d9-427a-8603-e5f4462afe55",
                "color": "#15AFAC",
                "thickness_factor": 1,
                "styles": {}
              },
              {
                "start": "CTU",
                "end": "PVG",
                "label": "",
                "properties": {},
                "directed": false,
                "id": "ca871f7f-0756-4c90-be95-0768c0df4f64",
                "color": "#15AFAC",
                "thickness_factor": 1,
                "styles": {}
              },
              {
                "start": "PVG",
                "end": "TPE",
                "label": "",
                "properties": {},
                "directed": false,
                "id": "b4da3efb-7873-4848-9873-a0935e654a3f",
                "color": "#15AFAC",
                "thickness_factor": 1,
                "styles": {}
              },
              {
                "start": "CTU",
                "end": "HKG",
                "label": "",
                "properties": {},
                "directed": false,
                "id": "66897a79-109e-4d6b-a9ce-ea2165e6f61e",
                "color": "#15AFAC",
                "thickness_factor": 1,
                "styles": {}
              },
              {
                "start": "TPE",
                "end": "HKG",
                "label": "",
                "properties": {},
                "directed": false,
                "id": "e84b8206-bb0c-4ad2-8a9f-04e10005d43e",
                "color": "#15AFAC",
                "thickness_factor": 1,
                "styles": {}
              },
              {
                "start": "HKG",
                "end": "MNL",
                "label": "",
                "properties": {},
                "directed": false,
                "id": "03346a91-a076-4334-9c98-606151b476e6",
                "color": "#15AFAC",
                "thickness_factor": 1,
                "styles": {}
              },
              {
                "start": "BKK",
                "end": "HKG",
                "label": "",
                "properties": {},
                "directed": false,
                "id": "6879b4a1-394e-4933-b54b-4b7cc9c88be8",
                "color": "#15AFAC",
                "thickness_factor": 1,
                "styles": {}
              },
              {
                "start": "SIN",
                "end": "KUL",
                "label": "",
                "properties": {},
                "directed": false,
                "id": "0402c6a6-935d-4488-9379-e2efdcd90fca",
                "color": "#15AFAC",
                "thickness_factor": 1,
                "styles": {}
              },
              {
                "start": "SIN",
                "end": "BKK",
                "label": "",
                "properties": {},
                "directed": false,
                "id": "5f82f5c7-5afc-4550-8b06-e7e4766d29b3",
                "color": "#15AFAC",
                "thickness_factor": 1,
                "styles": {}
              },
              {
                "start": "CGK",
                "end": "SIN",
                "label": "",
                "properties": {},
                "directed": false,
                "id": "566993a3-375a-41ce-af9c-05ed354aa629",
                "color": "#15AFAC",
                "thickness_factor": 1,
                "styles": {}
              },
              {
                "start": "MNL",
                "end": "SIN",
                "label": "",
                "properties": {},
                "directed": false,
                "id": "2c15b320-cc01-4f22-bec7-7f8095f19e47",
                "color": "#15AFAC",
                "thickness_factor": 1,
                "styles": {}
              },
              {
                "start": "SIN",
                "end": "SYD",
                "label": "",
                "properties": {},
                "directed": false,
                "id": "7ce08804-202e-4ffb-a3e9-a7652b2b2397",
                "color": "#15AFAC",
                "thickness_factor": 1,
                "styles": {}
              },
              {
                "start": "BNE",
                "end": "SYD",
                "label": "",
                "properties": {},
                "directed": false,
                "id": "c70ae06f-98c9-4835-9369-7de16b5e594f",
                "color": "#15AFAC",
                "thickness_factor": 1,
                "styles": {}
              },
              {
                "start": "SYD",
                "end": "MEL",
                "label": "",
                "properties": {},
                "directed": false,
                "id": "9c7ae318-4433-428b-a547-ecf52f151475",
                "color": "#15AFAC",
                "thickness_factor": 1,
                "styles": {}
              },
              {
                "start": "NAN",
                "end": "SYD",
                "label": "",
                "properties": {},
                "directed": false,
                "id": "efc4fddb-c067-446e-88b4-cb8dca2c15f9",
                "color": "#15AFAC",
                "thickness_factor": 1,
                "styles": {}
              },
              {
                "start": "AKL",
                "end": "SYD",
                "label": "",
                "properties": {},
                "directed": false,
                "id": "397ce5bc-771d-4c32-addc-998213486845",
                "color": "#15AFAC",
                "thickness_factor": 1,
                "styles": {}
              },
              {
                "start": "NAN",
                "end": "AKL",
                "label": "",
                "properties": {},
                "directed": false,
                "id": "a3610bcb-628f-4c1f-9b46-0128e289d1b0",
                "color": "#15AFAC",
                "thickness_factor": 1,
                "styles": {}
              },
              {
                "start": "RKV",
                "end": "LHR",
                "label": "",
                "properties": {},
                "directed": false,
                "id": "4555554b-d297-49c0-a840-ed52f090dc11",
                "color": "#15AFAC",
                "thickness_factor": 1,
                "styles": {}
              },
              {
                "start": "BCN",
                "end": "CDG",
                "label": "",
                "properties": {},
                "directed": false,
                "id": "b45e184f-2f15-430c-a7a3-0e1d2973ed01",
                "color": "#15AFAC",
                "thickness_factor": 1,
                "styles": {}
              },
              {
                "start": "BCN",
                "end": "FRA",
                "label": "",
                "properties": {},
                "directed": false,
                "id": "26a0f51e-12a3-4ad4-b752-cb5246878cae",
                "color": "#15AFAC",
                "thickness_factor": 1,
                "styles": {}
              },
              {
                "start": "FCO",
                "end": "FRA",
                "label": "",
                "properties": {},
                "directed": false,
                "id": "e62ffd53-4248-432a-9ef2-70717c0509f5",
                "color": "#15AFAC",
                "thickness_factor": 1,
                "styles": {}
              },
              {
                "start": "BOG",
                "end": "MEX",
                "label": "",
                "properties": {},
                "directed": false,
                "id": "41e16971-7a95-43a1-a002-6584d08e17cc",
                "color": "#15AFAC",
                "thickness_factor": 1,
                "styles": {}
              },
              {
                "start": "BOG",
                "end": "GRU",
                "label": "",
                "properties": {},
                "directed": false,
                "id": "15b920c1-7c96-43e9-953b-bfc0702e3449",
                "color": "#15AFAC",
                "thickness_factor": 1,
                "styles": {}
              },
              {
                "start": "ATL",
                "end": "MIA",
                "label": "",
                "properties": {},
                "directed": false,
                "id": "7ad0cc87-ed6f-40a7-b8b2-2dcb188dc64c",
                "color": "#15AFAC",
                "thickness_factor": 1,
                "styles": {}
              },
              {
                "start": "FRA",
                "end": "IST",
                "label": "",
                "properties": {},
                "directed": false,
                "id": "0a4f97dc-62e9-40a6-b0df-feeea65f88c5",
                "color": "#15AFAC",
                "thickness_factor": 1,
                "styles": {}
              },
              {
                "start": "IST",
                "end": "DEL",
                "label": "",
                "properties": {},
                "directed": false,
                "id": "0329f326-3cb4-42ae-b73d-c13b7e7ccd55",
                "color": "#15AFAC",
                "thickness_factor": 1,
                "styles": {}
              },
              {
                "start": "PVG",
                "end": "BKK",
                "label": "",
                "properties": {},
                "directed": false,
                "id": "4631daf6-ce42-4b65-aa49-59b0d2160060",
                "color": "#15AFAC",
                "thickness_factor": 1,
                "styles": {}
              },
              {
                "start": "DEL",
                "end": "BKK",
                "label": "",
                "properties": {},
                "directed": false,
                "id": "9f7052ea-6995-4953-9e7c-5afb56f63636",
                "color": "#15AFAC",
                "thickness_factor": 1,
                "styles": {}
              }
            ],
            "_graph_layout": {
              "algorithm": "circular",
              "options": {}
            },
            "_highlight": [],
            "_license": {},
            "_model_module": "yfiles-jupyter-graphs",
            "_model_module_version": "^1.10.9",
            "_model_name": "GraphModel",
            "_neighborhood": {},
            "_nodes": [
              {
                "id": "LAX",
                "properties": {
                  "label": "Los Angeles",
                  "passengers": 65000000,
                  "country": "USA",
                  "country_id": "us"
                },
                "coordinates": [
                  33.942536,
                  -118.408075
                ],
                "color": "#15AFAC",
                "styles": {},
                "label": "Los Angeles",
                "scale_factor": 1,
                "type": "#15AFAC",
                "size": [
                  55,
                  55
                ],
                "position": [
                  0,
                  0
                ]
              },
              {
                "id": "GIG",
                "properties": {
                  "label": "Rio de Janeiro",
                  "passengers": 5000000,
                  "country": "Brazil",
                  "country_id": "br"
                },
                "coordinates": [
                  -22.808903,
                  -43.243647
                ],
                "color": "#15AFAC",
                "styles": {},
                "label": "Rio de Janeiro",
                "scale_factor": 1,
                "type": "#15AFAC",
                "size": [
                  55,
                  55
                ],
                "position": [
                  0,
                  0
                ]
              },
              {
                "id": "LIM",
                "properties": {
                  "label": "Lima",
                  "passengers": 18000000,
                  "country": "Peru",
                  "country_id": "pe"
                },
                "coordinates": [
                  -12.021889,
                  -77.114319
                ],
                "color": "#15AFAC",
                "styles": {},
                "label": "Lima",
                "scale_factor": 1,
                "type": "#15AFAC",
                "size": [
                  55,
                  55
                ],
                "position": [
                  0,
                  0
                ]
              },
              {
                "id": "LHR",
                "properties": {
                  "label": "London",
                  "passengers": 61000000,
                  "country": "UK",
                  "country_id": "gb"
                },
                "coordinates": [
                  51.4775,
                  -0.461389
                ],
                "color": "#15AFAC",
                "styles": {},
                "label": "London",
                "scale_factor": 1,
                "type": "#15AFAC",
                "size": [
                  55,
                  55
                ],
                "position": [
                  0,
                  0
                ]
              },
              {
                "id": "FRA",
                "properties": {
                  "label": "Frankfurt",
                  "passengers": 48000000,
                  "country": "Germany",
                  "country_id": "de"
                },
                "coordinates": [
                  50.033333,
                  8.570556
                ],
                "color": "#15AFAC",
                "styles": {},
                "label": "Frankfurt",
                "scale_factor": 1,
                "type": "#15AFAC",
                "size": [
                  55,
                  55
                ],
                "position": [
                  0,
                  0
                ]
              },
              {
                "id": "SVO",
                "properties": {
                  "label": "Moscow",
                  "passengers": 49000000,
                  "country": "Russia",
                  "country_id": "ru"
                },
                "coordinates": [
                  55.972642,
                  37.414589
                ],
                "color": "#15AFAC",
                "styles": {},
                "label": "Moscow",
                "scale_factor": 1,
                "type": "#15AFAC",
                "size": [
                  55,
                  55
                ],
                "position": [
                  0,
                  0
                ]
              },
              {
                "id": "DEL",
                "properties": {
                  "label": "New Delhi",
                  "passengers": 39000000,
                  "country": "India",
                  "country_id": "in"
                },
                "coordinates": [
                  28.5665,
                  77.103089
                ],
                "color": "#15AFAC",
                "styles": {},
                "label": "New Delhi",
                "scale_factor": 1,
                "type": "#15AFAC",
                "size": [
                  55,
                  55
                ],
                "position": [
                  0,
                  0
                ]
              },
              {
                "id": "PVG",
                "properties": {
                  "label": "Shanghai",
                  "passengers": 32000000,
                  "country": "China",
                  "country_id": "hk"
                },
                "coordinates": [
                  31.143378,
                  121.805214
                ],
                "color": "#15AFAC",
                "styles": {},
                "label": "Shanghai",
                "scale_factor": 1,
                "type": "#15AFAC",
                "size": [
                  55,
                  55
                ],
                "position": [
                  0,
                  0
                ]
              },
              {
                "id": "HKG",
                "properties": {
                  "label": "Hongkong",
                  "passengers": 1000000,
                  "country": "China",
                  "country_id": "hk"
                },
                "coordinates": [
                  22.308919,
                  113.914603
                ],
                "color": "#15AFAC",
                "styles": {},
                "label": "Hongkong",
                "scale_factor": 1,
                "type": "#15AFAC",
                "size": [
                  55,
                  55
                ],
                "position": [
                  0,
                  0
                ]
              },
              {
                "id": "NRT",
                "properties": {
                  "label": "Tokio",
                  "passengers": 15000000,
                  "country": "Japan",
                  "country_id": "jp"
                },
                "coordinates": [
                  35.764722,
                  140.386389
                ],
                "color": "#15AFAC",
                "styles": {},
                "label": "Tokio",
                "scale_factor": 1,
                "type": "#15AFAC",
                "size": [
                  55,
                  55
                ],
                "position": [
                  0,
                  0
                ]
              },
              {
                "id": "DXB",
                "properties": {
                  "label": "Dubai",
                  "passengers": 29000000,
                  "country": "UAE",
                  "country_id": "ae"
                },
                "coordinates": [
                  25.252778,
                  55.364444
                ],
                "color": "#15AFAC",
                "styles": {},
                "label": "Dubai",
                "scale_factor": 1,
                "type": "#15AFAC",
                "size": [
                  55,
                  55
                ],
                "position": [
                  0,
                  0
                ]
              },
              {
                "id": "DKR",
                "properties": {
                  "label": "Dakar",
                  "passengers": 2000000,
                  "country": "Senegal",
                  "country_id": "sn"
                },
                "coordinates": [
                  14.670833,
                  -17.072778
                ],
                "color": "#15AFAC",
                "styles": {},
                "label": "Dakar",
                "scale_factor": 1,
                "type": "#15AFAC",
                "size": [
                  55,
                  55
                ],
                "position": [
                  0,
                  0
                ]
              },
              {
                "id": "JNB",
                "properties": {
                  "label": "Johannesburg",
                  "passengers": 9000000,
                  "country": "South Africa",
                  "country_id": "za"
                },
                "coordinates": [
                  -26.133694,
                  28.242317
                ],
                "color": "#15AFAC",
                "styles": {},
                "label": "Johannesburg",
                "scale_factor": 1,
                "type": "#15AFAC",
                "size": [
                  55,
                  55
                ],
                "position": [
                  0,
                  0
                ]
              },
              {
                "id": "SYD",
                "properties": {
                  "label": "Sydney",
                  "passengers": 44000000,
                  "country": "Australia",
                  "country_id": "au"
                },
                "coordinates": [
                  -33.946111,
                  151.177222
                ],
                "color": "#15AFAC",
                "styles": {},
                "label": "Sydney",
                "scale_factor": 1,
                "type": "#15AFAC",
                "size": [
                  55,
                  55
                ],
                "position": [
                  0,
                  0
                ]
              },
              {
                "id": "NBO",
                "properties": {
                  "label": "Nairobi",
                  "passengers": 900000,
                  "country": "Kenya",
                  "country_id": "ke"
                },
                "coordinates": [
                  -1.319167,
                  36.927778
                ],
                "color": "#15AFAC",
                "styles": {},
                "label": "Nairobi",
                "scale_factor": 1,
                "type": "#15AFAC",
                "size": [
                  55,
                  55
                ],
                "position": [
                  0,
                  0
                ]
              },
              {
                "id": "ATL",
                "properties": {
                  "label": "Atlanta",
                  "passengers": 93000000,
                  "country": "USA",
                  "country_id": "us"
                },
                "coordinates": [
                  33.639167,
                  -84.427778
                ],
                "color": "#15AFAC",
                "styles": {},
                "label": "Atlanta",
                "scale_factor": 1,
                "type": "#15AFAC",
                "size": [
                  55,
                  55
                ],
                "position": [
                  0,
                  0
                ]
              },
              {
                "id": "JFK",
                "properties": {
                  "label": "New York City",
                  "passengers": 55000000,
                  "country": "USA",
                  "country_id": "us"
                },
                "coordinates": [
                  40.63975,
                  -73.778925
                ],
                "color": "#15AFAC",
                "styles": {},
                "label": "New York City",
                "scale_factor": 1,
                "type": "#15AFAC",
                "size": [
                  55,
                  55
                ],
                "position": [
                  0,
                  0
                ]
              },
              {
                "id": "CAI",
                "properties": {
                  "label": "Cairo",
                  "passengers": 14000000,
                  "country": "Egypt",
                  "country_id": "eg"
                },
                "coordinates": [
                  30.121944,
                  31.405556
                ],
                "color": "#15AFAC",
                "styles": {},
                "label": "Cairo",
                "scale_factor": 1,
                "type": "#15AFAC",
                "size": [
                  55,
                  55
                ],
                "position": [
                  0,
                  0
                ]
              },
              {
                "id": "CMN",
                "properties": {
                  "label": "Casablanca",
                  "passengers": 7000000,
                  "country": "Morocco",
                  "country_id": "ma"
                },
                "coordinates": [
                  33.367467,
                  -7.589967
                ],
                "color": "#15AFAC",
                "styles": {},
                "label": "Casablanca",
                "scale_factor": 1,
                "type": "#15AFAC",
                "size": [
                  55,
                  55
                ],
                "position": [
                  0,
                  0
                ]
              },
              {
                "id": "LOS",
                "properties": {
                  "label": "Lagos",
                  "passengers": 5000000,
                  "country": "Nigeria",
                  "country_id": "ng"
                },
                "coordinates": [
                  6.577222,
                  3.321111
                ],
                "color": "#15AFAC",
                "styles": {},
                "label": "Lagos",
                "scale_factor": 1,
                "type": "#15AFAC",
                "size": [
                  55,
                  55
                ],
                "position": [
                  0,
                  0
                ]
              },
              {
                "id": "CPT",
                "properties": {
                  "label": "Cape Town",
                  "passengers": 5000000,
                  "country": "South Africa",
                  "country_id": "za"
                },
                "coordinates": [
                  -33.969444,
                  18.597222
                ],
                "color": "#15AFAC",
                "styles": {},
                "label": "Cape Town",
                "scale_factor": 1,
                "type": "#15AFAC",
                "size": [
                  55,
                  55
                ],
                "position": [
                  0,
                  0
                ]
              },
              {
                "id": "CTU",
                "properties": {
                  "label": "Chengdu",
                  "passengers": 40000000,
                  "country": "China",
                  "country_id": "hk"
                },
                "coordinates": [
                  30.578333,
                  103.946944
                ],
                "color": "#15AFAC",
                "styles": {},
                "label": "Chengdu",
                "scale_factor": 1,
                "type": "#15AFAC",
                "size": [
                  55,
                  55
                ],
                "position": [
                  0,
                  0
                ]
              },
              {
                "id": "CGK",
                "properties": {
                  "label": "Jakarta",
                  "passengers": 54000000,
                  "country": "Indonesia",
                  "country_id": "id"
                },
                "coordinates": [
                  -6.125567,
                  106.655897
                ],
                "color": "#15AFAC",
                "styles": {},
                "label": "Jakarta",
                "scale_factor": 1,
                "type": "#15AFAC",
                "size": [
                  55,
                  55
                ],
                "position": [
                  0,
                  0
                ]
              },
              {
                "id": "IKA",
                "properties": {
                  "label": "Teheran",
                  "passengers": 8000000,
                  "country": "Iran",
                  "country_id": "ir"
                },
                "coordinates": [
                  35.416111,
                  51.152222
                ],
                "color": "#15AFAC",
                "styles": {},
                "label": "Teheran",
                "scale_factor": 1,
                "type": "#15AFAC",
                "size": [
                  55,
                  55
                ],
                "position": [
                  0,
                  0
                ]
              },
              {
                "id": "TLV",
                "properties": {
                  "label": "Tel Aviv",
                  "passengers": 20000000,
                  "country": "Israel",
                  "country_id": "il"
                },
                "coordinates": [
                  32.011389,
                  34.886667
                ],
                "color": "#15AFAC",
                "styles": {},
                "label": "Tel Aviv",
                "scale_factor": 1,
                "type": "#15AFAC",
                "size": [
                  55,
                  55
                ],
                "position": [
                  0,
                  0
                ]
              },
              {
                "id": "KUL",
                "properties": {
                  "label": "Kuala Lumpur",
                  "passengers": 25000000,
                  "country": "Malaysia",
                  "country_id": "my"
                },
                "coordinates": [
                  2.745578,
                  101.709917
                ],
                "color": "#15AFAC",
                "styles": {},
                "label": "Kuala Lumpur",
                "scale_factor": 1,
                "type": "#15AFAC",
                "size": [
                  55,
                  55
                ],
                "position": [
                  0,
                  0
                ]
              },
              {
                "id": "MNL",
                "properties": {
                  "label": "Manila",
                  "passengers": 8000000,
                  "country": "Philippines",
                  "country_id": "ph"
                },
                "coordinates": [
                  14.508647,
                  121.019581
                ],
                "color": "#15AFAC",
                "styles": {},
                "label": "Manila",
                "scale_factor": 1,
                "type": "#15AFAC",
                "size": [
                  55,
                  55
                ],
                "position": [
                  0,
                  0
                ]
              },
              {
                "id": "SIN",
                "properties": {
                  "label": "Singapur",
                  "passengers": 32000000,
                  "country": "Singapore",
                  "country_id": "sg"
                },
                "coordinates": [
                  1.350189,
                  103.994433
                ],
                "color": "#15AFAC",
                "styles": {},
                "label": "Singapur",
                "scale_factor": 1,
                "type": "#15AFAC",
                "size": [
                  55,
                  55
                ],
                "position": [
                  0,
                  0
                ]
              },
              {
                "id": "TPE",
                "properties": {
                  "label": "Taipeh",
                  "passengers": 800000,
                  "country": "Taiwan",
                  "country_id": "tw"
                },
                "coordinates": [
                  25.077732,
                  121.232822
                ],
                "color": "#15AFAC",
                "styles": {},
                "label": "Taipeh",
                "scale_factor": 1,
                "type": "#15AFAC",
                "size": [
                  55,
                  55
                ],
                "position": [
                  0,
                  0
                ]
              },
              {
                "id": "BKK",
                "properties": {
                  "label": "Bangkok",
                  "passengers": 65000000,
                  "country": "Thailand",
                  "country_id": "th"
                },
                "coordinates": [
                  13.681108,
                  100.747283
                ],
                "color": "#15AFAC",
                "styles": {},
                "label": "Bangkok",
                "scale_factor": 1,
                "type": "#15AFAC",
                "size": [
                  55,
                  55
                ],
                "position": [
                  0,
                  0
                ]
              },
              {
                "id": "IST",
                "properties": {
                  "label": "Istanbul",
                  "passengers": 64000000,
                  "country": "Turkey",
                  "country_id": "tr"
                },
                "coordinates": [
                  40.976922,
                  28.814606
                ],
                "color": "#15AFAC",
                "styles": {},
                "label": "Istanbul",
                "scale_factor": 1,
                "type": "#15AFAC",
                "size": [
                  55,
                  55
                ],
                "position": [
                  0,
                  0
                ]
              },
              {
                "id": "ULN",
                "properties": {
                  "label": "Ulaanbaatar",
                  "passengers": 1000000,
                  "country": "Mongolia",
                  "country_id": "mn"
                },
                "coordinates": [
                  47.843056,
                  106.766639
                ],
                "color": "#15AFAC",
                "styles": {},
                "label": "Ulaanbaatar",
                "scale_factor": 1,
                "type": "#15AFAC",
                "size": [
                  55,
                  55
                ],
                "position": [
                  0,
                  0
                ]
              },
              {
                "id": "MEL",
                "properties": {
                  "label": "Melbourne",
                  "passengers": 12000000,
                  "country": "Australia",
                  "country_id": "au"
                },
                "coordinates": [
                  -37.673333,
                  144.843333
                ],
                "color": "#15AFAC",
                "styles": {},
                "label": "Melbourne",
                "scale_factor": 1,
                "type": "#15AFAC",
                "size": [
                  55,
                  55
                ],
                "position": [
                  0,
                  0
                ]
              },
              {
                "id": "BNE",
                "properties": {
                  "label": "Brisbane",
                  "passengers": 23000000,
                  "country": "Australia",
                  "country_id": "au"
                },
                "coordinates": [
                  -27.383333,
                  153.118056
                ],
                "color": "#15AFAC",
                "styles": {},
                "label": "Brisbane",
                "scale_factor": 1,
                "type": "#15AFAC",
                "size": [
                  55,
                  55
                ],
                "position": [
                  0,
                  0
                ]
              },
              {
                "id": "NAN",
                "properties": {
                  "label": "Nadi",
                  "passengers": 2000000,
                  "country": "Fiji",
                  "country_id": "fj"
                },
                "coordinates": [
                  -17.755392,
                  177.443378
                ],
                "color": "#15AFAC",
                "styles": {},
                "label": "Nadi",
                "scale_factor": 1,
                "type": "#15AFAC",
                "size": [
                  55,
                  55
                ],
                "position": [
                  0,
                  0
                ]
              },
              {
                "id": "AKL",
                "properties": {
                  "label": "Auckland",
                  "passengers": 21000000,
                  "country": "New Zealand",
                  "country_id": "nz"
                },
                "coordinates": [
                  -37.008056,
                  174.791667
                ],
                "color": "#15AFAC",
                "styles": {},
                "label": "Auckland",
                "scale_factor": 1,
                "type": "#15AFAC",
                "size": [
                  55,
                  55
                ],
                "position": [
                  0,
                  0
                ]
              },
              {
                "id": "CDG",
                "properties": {
                  "label": "Paris",
                  "passengers": 57000000,
                  "country": "France",
                  "country_id": "fr"
                },
                "coordinates": [
                  49.009722,
                  2.547778
                ],
                "color": "#15AFAC",
                "styles": {},
                "label": "Paris",
                "scale_factor": 1,
                "type": "#15AFAC",
                "size": [
                  55,
                  55
                ],
                "position": [
                  0,
                  0
                ]
              },
              {
                "id": "MAD",
                "properties": {
                  "label": "Madrid",
                  "passengers": 50000000,
                  "country": "Spain",
                  "country_id": "es"
                },
                "coordinates": [
                  40.4675,
                  -3.551944
                ],
                "color": "#15AFAC",
                "styles": {},
                "label": "Madrid",
                "scale_factor": 1,
                "type": "#15AFAC",
                "size": [
                  55,
                  55
                ],
                "position": [
                  0,
                  0
                ]
              },
              {
                "id": "BCN",
                "properties": {
                  "label": "Barcelona",
                  "passengers": 41000000,
                  "country": "Spain",
                  "country_id": "es"
                },
                "coordinates": [
                  41.297078,
                  2.078464
                ],
                "color": "#15AFAC",
                "styles": {},
                "label": "Barcelona",
                "scale_factor": 1,
                "type": "#15AFAC",
                "size": [
                  55,
                  55
                ],
                "position": [
                  0,
                  0
                ]
              },
              {
                "id": "FCO",
                "properties": {
                  "label": "Rome",
                  "passengers": 29000000,
                  "country": "Italy",
                  "country_id": "it"
                },
                "coordinates": [
                  41.804444,
                  12.250833
                ],
                "color": "#15AFAC",
                "styles": {},
                "label": "Rome",
                "scale_factor": 1,
                "type": "#15AFAC",
                "size": [
                  55,
                  55
                ],
                "position": [
                  0,
                  0
                ]
              },
              {
                "id": "CPH",
                "properties": {
                  "label": "Copenhagen",
                  "passengers": 30000000,
                  "country": "Denmark",
                  "country_id": "dk"
                },
                "coordinates": [
                  55.617917,
                  12.655972
                ],
                "color": "#15AFAC",
                "styles": {},
                "label": "Copenhagen",
                "scale_factor": 1,
                "type": "#15AFAC",
                "size": [
                  55,
                  55
                ],
                "position": [
                  0,
                  0
                ]
              },
              {
                "id": "HEL",
                "properties": {
                  "label": "Helsinki",
                  "passengers": 5000000,
                  "country": "Finland",
                  "country_id": "fi"
                },
                "coordinates": [
                  60.317222,
                  24.963333
                ],
                "color": "#15AFAC",
                "styles": {},
                "label": "Helsinki",
                "scale_factor": 1,
                "type": "#15AFAC",
                "size": [
                  55,
                  55
                ],
                "position": [
                  0,
                  0
                ]
              },
              {
                "id": "ATH",
                "properties": {
                  "label": "Athens",
                  "passengers": 22000000,
                  "country": "Greece",
                  "country_id": "gr"
                },
                "coordinates": [
                  37.936358,
                  23.944467
                ],
                "color": "#15AFAC",
                "styles": {},
                "label": "Athens",
                "scale_factor": 1,
                "type": "#15AFAC",
                "size": [
                  55,
                  55
                ],
                "position": [
                  0,
                  0
                ]
              },
              {
                "id": "DUB",
                "properties": {
                  "label": "Dublin",
                  "passengers": 32000000,
                  "country": "Ireland",
                  "country_id": "ie"
                },
                "coordinates": [
                  53.421333,
                  -6.270075
                ],
                "color": "#15AFAC",
                "styles": {},
                "label": "Dublin",
                "scale_factor": 1,
                "type": "#15AFAC",
                "size": [
                  55,
                  55
                ],
                "position": [
                  0,
                  0
                ]
              },
              {
                "id": "RKV",
                "properties": {
                  "label": "Reykjavik",
                  "passengers": 400000,
                  "country": "Iceland",
                  "country_id": "is"
                },
                "coordinates": [
                  64.13,
                  -21.940556
                ],
                "color": "#15AFAC",
                "styles": {},
                "label": "Reykjavik",
                "scale_factor": 1,
                "type": "#15AFAC",
                "size": [
                  55,
                  55
                ],
                "position": [
                  0,
                  0
                ]
              },
              {
                "id": "OSL",
                "properties": {
                  "label": "Oslo",
                  "passengers": 9000000,
                  "country": "Norway",
                  "country_id": "no"
                },
                "coordinates": [
                  60.193917,
                  11.100361
                ],
                "color": "#15AFAC",
                "styles": {},
                "label": "Oslo",
                "scale_factor": 1,
                "type": "#15AFAC",
                "size": [
                  55,
                  55
                ],
                "position": [
                  0,
                  0
                ]
              },
              {
                "id": "VIE",
                "properties": {
                  "label": "Vienna",
                  "passengers": 10000000,
                  "country": "Austria",
                  "country_id": "at"
                },
                "coordinates": [
                  48.110833,
                  16.570833
                ],
                "color": "#15AFAC",
                "styles": {},
                "label": "Vienna",
                "scale_factor": 1,
                "type": "#15AFAC",
                "size": [
                  55,
                  55
                ],
                "position": [
                  0,
                  0
                ]
              },
              {
                "id": "LIS",
                "properties": {
                  "label": "Lisbon",
                  "passengers": 28000000,
                  "country": "Portugal",
                  "country_id": "pt"
                },
                "coordinates": [
                  38.774167,
                  -9.134167
                ],
                "color": "#15AFAC",
                "styles": {},
                "label": "Lisbon",
                "scale_factor": 1,
                "type": "#15AFAC",
                "size": [
                  55,
                  55
                ],
                "position": [
                  0,
                  0
                ]
              },
              {
                "id": "ARN",
                "properties": {
                  "label": "Stockholm",
                  "passengers": 7000000,
                  "country": "Sweden",
                  "country_id": "se"
                },
                "coordinates": [
                  59.651944,
                  17.918611
                ],
                "color": "#15AFAC",
                "styles": {},
                "label": "Stockholm",
                "scale_factor": 1,
                "type": "#15AFAC",
                "size": [
                  55,
                  55
                ],
                "position": [
                  0,
                  0
                ]
              },
              {
                "id": "EDI",
                "properties": {
                  "label": "Edinburgh",
                  "passengers": 14000000,
                  "country": "UK",
                  "country_id": "gb"
                },
                "coordinates": [
                  55.95,
                  -3.3725
                ],
                "color": "#15AFAC",
                "styles": {},
                "label": "Edinburgh",
                "scale_factor": 1,
                "type": "#15AFAC",
                "size": [
                  55,
                  55
                ],
                "position": [
                  0,
                  0
                ]
              },
              {
                "id": "ORD",
                "properties": {
                  "label": "Chicago",
                  "passengers": 54000000,
                  "country": "USA",
                  "country_id": "us"
                },
                "coordinates": [
                  41.978603,
                  -87.904842
                ],
                "color": "#15AFAC",
                "styles": {},
                "label": "Chicago",
                "scale_factor": 1,
                "type": "#15AFAC",
                "size": [
                  55,
                  55
                ],
                "position": [
                  0,
                  0
                ]
              },
              {
                "id": "DFW",
                "properties": {
                  "label": "Dallas",
                  "passengers": 73000000,
                  "country": "USA",
                  "country_id": "us"
                },
                "coordinates": [
                  32.896828,
                  -97.037997
                ],
                "color": "#15AFAC",
                "styles": {},
                "label": "Dallas",
                "scale_factor": 1,
                "type": "#15AFAC",
                "size": [
                  55,
                  55
                ],
                "position": [
                  0,
                  0
                ]
              },
              {
                "id": "SFO",
                "properties": {
                  "label": "San Francisco",
                  "passengers": 42000000,
                  "country": "USA",
                  "country_id": "us"
                },
                "coordinates": [
                  37.618972,
                  -122.374889
                ],
                "color": "#15AFAC",
                "styles": {},
                "label": "San Francisco",
                "scale_factor": 1,
                "type": "#15AFAC",
                "size": [
                  55,
                  55
                ],
                "position": [
                  0,
                  0
                ]
              },
              {
                "id": "LAS",
                "properties": {
                  "label": "Las Vegas",
                  "passengers": 52000000,
                  "country": "USA",
                  "country_id": "us"
                },
                "coordinates": [
                  36.080056,
                  -115.15225
                ],
                "color": "#15AFAC",
                "styles": {},
                "label": "Las Vegas",
                "scale_factor": 1,
                "type": "#15AFAC",
                "size": [
                  55,
                  55
                ],
                "position": [
                  0,
                  0
                ]
              },
              {
                "id": "MIA",
                "properties": {
                  "label": "Miami",
                  "passengers": 50000000,
                  "country": "USA",
                  "country_id": "us"
                },
                "coordinates": [
                  25.79325,
                  -80.290556
                ],
                "color": "#15AFAC",
                "styles": {},
                "label": "Miami",
                "scale_factor": 1,
                "type": "#15AFAC",
                "size": [
                  55,
                  55
                ],
                "position": [
                  0,
                  0
                ]
              },
              {
                "id": "YYZ",
                "properties": {
                  "label": "Toronto",
                  "passengers": 12000000,
                  "country": "Canada",
                  "country_id": "ca"
                },
                "coordinates": [
                  43.677222,
                  -79.630556
                ],
                "color": "#15AFAC",
                "styles": {},
                "label": "Toronto",
                "scale_factor": 1,
                "type": "#15AFAC",
                "size": [
                  55,
                  55
                ],
                "position": [
                  0,
                  0
                ]
              },
              {
                "id": "YVR",
                "properties": {
                  "label": "Vancouver",
                  "passengers": 19000000,
                  "country": "Canada",
                  "country_id": "ca"
                },
                "coordinates": [
                  49.193889,
                  -123.184444
                ],
                "color": "#15AFAC",
                "styles": {},
                "label": "Vancouver",
                "scale_factor": 1,
                "type": "#15AFAC",
                "size": [
                  55,
                  55
                ],
                "position": [
                  0,
                  0
                ]
              },
              {
                "id": "YUL",
                "properties": {
                  "label": "Montreal",
                  "passengers": 15000000,
                  "country": "Canada",
                  "country_id": "ca"
                },
                "coordinates": [
                  45.47175,
                  -73.736569
                ],
                "color": "#15AFAC",
                "styles": {},
                "label": "Montreal",
                "scale_factor": 1,
                "type": "#15AFAC",
                "size": [
                  55,
                  55
                ],
                "position": [
                  0,
                  0
                ]
              },
              {
                "id": "MEX",
                "properties": {
                  "label": "Mexico-City",
                  "passengers": 46000000,
                  "country": "Mexico",
                  "country_id": "mx"
                },
                "coordinates": [
                  19.436303,
                  -99.072097
                ],
                "color": "#15AFAC",
                "styles": {},
                "label": "Mexico-City",
                "scale_factor": 1,
                "type": "#15AFAC",
                "size": [
                  55,
                  55
                ],
                "position": [
                  0,
                  0
                ]
              },
              {
                "id": "GUA",
                "properties": {
                  "label": "Guatemala-City",
                  "passengers": 2000000,
                  "country": "Guatemala",
                  "country_id": "gt"
                },
                "coordinates": [
                  14.583272,
                  -90.527475
                ],
                "color": "#15AFAC",
                "styles": {},
                "label": "Guatemala-City",
                "scale_factor": 1,
                "type": "#15AFAC",
                "size": [
                  55,
                  55
                ],
                "position": [
                  0,
                  0
                ]
              },
              {
                "id": "EZE",
                "properties": {
                  "label": "Buenos Aires",
                  "passengers": 5000000,
                  "country": "Argentina",
                  "country_id": "ar"
                },
                "coordinates": [
                  -34.822222,
                  -58.535833
                ],
                "color": "#15AFAC",
                "styles": {},
                "label": "Buenos Aires",
                "scale_factor": 1,
                "type": "#15AFAC",
                "size": [
                  55,
                  55
                ],
                "position": [
                  0,
                  0
                ]
              },
              {
                "id": "GRU",
                "properties": {
                  "label": "Sao Paulo",
                  "passengers": 34000000,
                  "country": "Brazil",
                  "country_id": "br"
                },
                "coordinates": [
                  -23.432075,
                  -46.469511
                ],
                "color": "#15AFAC",
                "styles": {},
                "label": "Sao Paulo",
                "scale_factor": 1,
                "type": "#15AFAC",
                "size": [
                  55,
                  55
                ],
                "position": [
                  0,
                  0
                ]
              },
              {
                "id": "SCL",
                "properties": {
                  "label": "Santiago de Chile",
                  "passengers": 20000000,
                  "country": "Chile",
                  "country_id": "cl"
                },
                "coordinates": [
                  -33.392975,
                  -70.785803
                ],
                "color": "#15AFAC",
                "styles": {},
                "label": "Santiago de Chile",
                "scale_factor": 1,
                "type": "#15AFAC",
                "size": [
                  55,
                  55
                ],
                "position": [
                  0,
                  0
                ]
              },
              {
                "id": "BSB",
                "properties": {
                  "label": "Brasilia",
                  "passengers": 13000000,
                  "country": "Brazil",
                  "country_id": "br"
                },
                "coordinates": [
                  -15.871111,
                  -47.918611
                ],
                "color": "#15AFAC",
                "styles": {},
                "label": "Brasilia",
                "scale_factor": 1,
                "type": "#15AFAC",
                "size": [
                  55,
                  55
                ],
                "position": [
                  0,
                  0
                ]
              },
              {
                "id": "BOG",
                "properties": {
                  "label": "Bogota",
                  "passengers": 36000000,
                  "country": "Colombia",
                  "country_id": "co"
                },
                "coordinates": [
                  4.701594,
                  -74.146947
                ],
                "color": "#15AFAC",
                "styles": {},
                "label": "Bogota",
                "scale_factor": 1,
                "type": "#15AFAC",
                "size": [
                  55,
                  55
                ],
                "position": [
                  0,
                  0
                ]
              },
              {
                "id": "CCS",
                "properties": {
                  "label": "Caracas",
                  "passengers": 8000000,
                  "country": "Venezuela",
                  "country_id": "ve"
                },
                "coordinates": [
                  10.601194,
                  -66.991222
                ],
                "color": "#15AFAC",
                "styles": {},
                "label": "Caracas",
                "scale_factor": 1,
                "type": "#15AFAC",
                "size": [
                  55,
                  55
                ],
                "position": [
                  0,
                  0
                ]
              }
            ],
            "_overview": {
              "enabled": null,
              "overview_set": false
            },
            "_selected_graph": [
              [],
              []
            ],
            "_sidebar": {
              "enabled": false,
              "start_with": null
            },
            "_view_count": null,
            "_view_module": "yfiles-jupyter-graphs",
            "_view_module_version": "^1.10.9",
            "_view_name": "GraphView",
            "layout": "IPY_MODEL_bc7da3c0b86243e1ac381996fca56465"
          }
        },
        "bc7da3c0b86243e1ac381996fca56465": {
          "model_module": "@jupyter-widgets/base",
          "model_name": "LayoutModel",
          "model_module_version": "1.2.0",
          "state": {
            "_model_module": "@jupyter-widgets/base",
            "_model_module_version": "1.2.0",
            "_model_name": "LayoutModel",
            "_view_count": null,
            "_view_module": "@jupyter-widgets/base",
            "_view_module_version": "1.2.0",
            "_view_name": "LayoutView",
            "align_content": null,
            "align_items": null,
            "align_self": null,
            "border": null,
            "bottom": null,
            "display": null,
            "flex": null,
            "flex_flow": null,
            "grid_area": null,
            "grid_auto_columns": null,
            "grid_auto_flow": null,
            "grid_auto_rows": null,
            "grid_column": null,
            "grid_gap": null,
            "grid_row": null,
            "grid_template_areas": null,
            "grid_template_columns": null,
            "grid_template_rows": null,
            "height": "800px",
            "justify_content": null,
            "justify_items": null,
            "left": null,
            "margin": null,
            "max_height": null,
            "max_width": null,
            "min_height": null,
            "min_width": null,
            "object_fit": null,
            "object_position": null,
            "order": null,
            "overflow": null,
            "overflow_x": null,
            "overflow_y": null,
            "padding": null,
            "right": null,
            "top": null,
            "visibility": null,
            "width": "100%"
          }
        },
        "34797740bcaa430d96e6365ed18bf3cf": {
          "model_module": "yfiles-jupyter-graphs",
          "model_name": "GraphModel",
          "model_module_version": "^1.10.9",
          "state": {
            "_context_pane_mapping": [
              {
                "id": "Neighborhood",
                "title": "Neighborhood"
              },
              {
                "id": "Data",
                "title": "Data"
              },
              {
                "id": "Search",
                "title": "Search"
              },
              {
                "id": "About",
                "title": "About"
              }
            ],
            "_data_importer": "unknown",
            "_directed": false,
            "_dom_classes": [],
            "_edges": [
              {
                "start": "LAX",
                "end": "JFK",
                "label": "",
                "properties": {},
                "directed": false,
                "id": "0db141e9-2144-46e8-a138-512223f79b4c",
                "color": "#15AFAC",
                "thickness_factor": 1,
                "styles": {}
              },
              {
                "start": "JFK",
                "end": "GIG",
                "label": "",
                "properties": {},
                "directed": false,
                "id": "356d1ec1-63f9-4716-99a0-bcc3b1e7a002",
                "color": "#15AFAC",
                "thickness_factor": 1,
                "styles": {}
              },
              {
                "start": "JFK",
                "end": "LIM",
                "label": "",
                "properties": {},
                "directed": false,
                "id": "bda65544-ec10-43f2-8eee-d5db9f3d44fd",
                "color": "#15AFAC",
                "thickness_factor": 1,
                "styles": {}
              },
              {
                "start": "JFK",
                "end": "LHR",
                "label": "",
                "properties": {},
                "directed": false,
                "id": "c49e4932-d024-4c6f-862c-e2d3549e16d3",
                "color": "#15AFAC",
                "thickness_factor": 1,
                "styles": {}
              },
              {
                "start": "GIG",
                "end": "FRA",
                "label": "",
                "properties": {},
                "directed": false,
                "id": "b4b35e61-4735-4c5a-b583-eaa5aff31041",
                "color": "#15AFAC",
                "thickness_factor": 1,
                "styles": {}
              },
              {
                "start": "LIM",
                "end": "GIG",
                "label": "",
                "properties": {},
                "directed": false,
                "id": "753e32a6-1ba6-44f3-bc61-97c14b32862f",
                "color": "#15AFAC",
                "thickness_factor": 1,
                "styles": {}
              },
              {
                "start": "FRA",
                "end": "JFK",
                "label": "",
                "properties": {},
                "directed": false,
                "id": "fde90945-20c6-4436-afb7-18e58557fbe2",
                "color": "#15AFAC",
                "thickness_factor": 1,
                "styles": {}
              },
              {
                "start": "LHR",
                "end": "FRA",
                "label": "",
                "properties": {},
                "directed": false,
                "id": "dd9f137c-5d70-4458-bbe8-b1eecbb626ed",
                "color": "#15AFAC",
                "thickness_factor": 1,
                "styles": {}
              },
              {
                "start": "FRA",
                "end": "SVO",
                "label": "",
                "properties": {},
                "directed": false,
                "id": "0f5422f6-6848-4760-97a7-311cd6e84b5b",
                "color": "#15AFAC",
                "thickness_factor": 1,
                "styles": {}
              },
              {
                "start": "FRA",
                "end": "DXB",
                "label": "",
                "properties": {},
                "directed": false,
                "id": "d2c2331e-f6f9-406d-87f7-ef7d23e6f662",
                "color": "#15AFAC",
                "thickness_factor": 1,
                "styles": {}
              },
              {
                "start": "SVO",
                "end": "DEL",
                "label": "",
                "properties": {},
                "directed": false,
                "id": "0a12492c-46e4-427c-8660-b674d727b6cf",
                "color": "#15AFAC",
                "thickness_factor": 1,
                "styles": {}
              },
              {
                "start": "SVO",
                "end": "PVG",
                "label": "",
                "properties": {},
                "directed": false,
                "id": "8fc7e161-7693-46d0-87fe-342baf69ac72",
                "color": "#15AFAC",
                "thickness_factor": 1,
                "styles": {}
              },
              {
                "start": "DEL",
                "end": "HKG",
                "label": "",
                "properties": {},
                "directed": false,
                "id": "eae3ec95-9bee-41e4-88de-4c6613a08e7c",
                "color": "#15AFAC",
                "thickness_factor": 1,
                "styles": {}
              },
              {
                "start": "PVG",
                "end": "HKG",
                "label": "",
                "properties": {},
                "directed": false,
                "id": "18d486b3-701f-4998-81b8-1b3f09827737",
                "color": "#15AFAC",
                "thickness_factor": 1,
                "styles": {}
              },
              {
                "start": "PVG",
                "end": "NRT",
                "label": "",
                "properties": {},
                "directed": false,
                "id": "783a400f-0c68-4d46-a70c-099fb7eed445",
                "color": "#15AFAC",
                "thickness_factor": 1,
                "styles": {}
              },
              {
                "start": "HKG",
                "end": "SYD",
                "label": "",
                "properties": {},
                "directed": false,
                "id": "31871c2d-ecda-4896-8d58-75e58119f111",
                "color": "#15AFAC",
                "thickness_factor": 1,
                "styles": {}
              },
              {
                "start": "NRT",
                "end": "SYD",
                "label": "",
                "properties": {},
                "directed": false,
                "id": "027ecf3d-19e6-4816-8b62-9004e5495ad6",
                "color": "#15AFAC",
                "thickness_factor": 1,
                "styles": {}
              },
              {
                "start": "DXB",
                "end": "SVO",
                "label": "",
                "properties": {},
                "directed": false,
                "id": "3fa8b328-a2af-4192-a315-96f9060a37db",
                "color": "#15AFAC",
                "thickness_factor": 1,
                "styles": {}
              },
              {
                "start": "DXB",
                "end": "DEL",
                "label": "",
                "properties": {},
                "directed": false,
                "id": "d48b1c86-d394-4603-8c2f-f8f1f9b6bfab",
                "color": "#15AFAC",
                "thickness_factor": 1,
                "styles": {}
              },
              {
                "start": "DXB",
                "end": "DKR",
                "label": "",
                "properties": {},
                "directed": false,
                "id": "ecf5349e-0cee-4896-a614-b47984d6837e",
                "color": "#15AFAC",
                "thickness_factor": 1,
                "styles": {}
              },
              {
                "start": "DXB",
                "end": "JNB",
                "label": "",
                "properties": {},
                "directed": false,
                "id": "2e10e0b3-cee8-424f-b4d7-4183b86b2fe8",
                "color": "#15AFAC",
                "thickness_factor": 1,
                "styles": {}
              },
              {
                "start": "JNB",
                "end": "LHR",
                "label": "",
                "properties": {},
                "directed": false,
                "id": "92161e9b-56e1-4e16-a133-a95e7b059173",
                "color": "#15AFAC",
                "thickness_factor": 1,
                "styles": {}
              },
              {
                "start": "JNB",
                "end": "DKR",
                "label": "",
                "properties": {},
                "directed": false,
                "id": "14e214c4-8da9-42f4-9c0d-2b6d69d26b17",
                "color": "#15AFAC",
                "thickness_factor": 1,
                "styles": {}
              },
              {
                "start": "SYD",
                "end": "DXB",
                "label": "",
                "properties": {},
                "directed": false,
                "id": "6d572775-d2e6-4e5a-bf43-707a29eabf88",
                "color": "#15AFAC",
                "thickness_factor": 1,
                "styles": {}
              },
              {
                "start": "NBO",
                "end": "JNB",
                "label": "",
                "properties": {},
                "directed": false,
                "id": "488448cf-bd8e-4104-85d4-76b05cc3754a",
                "color": "#15AFAC",
                "thickness_factor": 1,
                "styles": {}
              },
              {
                "start": "NBO",
                "end": "DXB",
                "label": "",
                "properties": {},
                "directed": false,
                "id": "a86fd208-0c18-47e5-865a-33ab192ff1d6",
                "color": "#15AFAC",
                "thickness_factor": 1,
                "styles": {}
              },
              {
                "start": "ATL",
                "end": "JFK",
                "label": "",
                "properties": {},
                "directed": false,
                "id": "149c24a7-898a-4493-8077-295f26065e62",
                "color": "#15AFAC",
                "thickness_factor": 1,
                "styles": {}
              },
              {
                "start": "LAX",
                "end": "ATL",
                "label": "",
                "properties": {},
                "directed": false,
                "id": "ce55de2a-308e-412d-8465-7afa38e72c84",
                "color": "#15AFAC",
                "thickness_factor": 1,
                "styles": {}
              },
              {
                "start": "ATL",
                "end": "LHR",
                "label": "",
                "properties": {},
                "directed": false,
                "id": "363c4f39-1d02-4b40-84ba-e7f39a3acbcd",
                "color": "#15AFAC",
                "thickness_factor": 1,
                "styles": {}
              },
              {
                "start": "ATL",
                "end": "LIM",
                "label": "",
                "properties": {},
                "directed": false,
                "id": "44fb4c34-104d-4216-9e16-526b85b422c7",
                "color": "#15AFAC",
                "thickness_factor": 1,
                "styles": {}
              },
              {
                "start": "SCL",
                "end": "LIM",
                "label": "",
                "properties": {},
                "directed": false,
                "id": "ecdecb6e-df26-4ae1-b350-dfbf6214b04a",
                "color": "#15AFAC",
                "thickness_factor": 1,
                "styles": {}
              },
              {
                "start": "EZE",
                "end": "SCL",
                "label": "",
                "properties": {},
                "directed": false,
                "id": "23692604-a875-4f3b-a499-cfb4dd9529f0",
                "color": "#15AFAC",
                "thickness_factor": 1,
                "styles": {}
              },
              {
                "start": "SCL",
                "end": "GRU",
                "label": "",
                "properties": {},
                "directed": false,
                "id": "75f3f2ff-d721-4673-b7e9-b3ccfe9fe83b",
                "color": "#15AFAC",
                "thickness_factor": 1,
                "styles": {}
              },
              {
                "start": "GIG",
                "end": "EZE",
                "label": "",
                "properties": {},
                "directed": false,
                "id": "2c6861b8-208c-475d-9dd3-90b32c6c441e",
                "color": "#15AFAC",
                "thickness_factor": 1,
                "styles": {}
              },
              {
                "start": "GIG",
                "end": "GRU",
                "label": "",
                "properties": {},
                "directed": false,
                "id": "c0857bd9-5c66-4ebf-abc5-09bffad9c775",
                "color": "#15AFAC",
                "thickness_factor": 1,
                "styles": {}
              },
              {
                "start": "BSB",
                "end": "GIG",
                "label": "",
                "properties": {},
                "directed": false,
                "id": "1682770b-5ad1-495b-9f21-47d624c2dbbc",
                "color": "#15AFAC",
                "thickness_factor": 1,
                "styles": {}
              },
              {
                "start": "SCL",
                "end": "BSB",
                "label": "",
                "properties": {},
                "directed": false,
                "id": "7387e5d3-49ec-49b0-9488-85a0e76e27f6",
                "color": "#15AFAC",
                "thickness_factor": 1,
                "styles": {}
              },
              {
                "start": "LIM",
                "end": "BSB",
                "label": "",
                "properties": {},
                "directed": false,
                "id": "f4d7166d-673f-4e04-88c6-19563e199617",
                "color": "#15AFAC",
                "thickness_factor": 1,
                "styles": {}
              },
              {
                "start": "BOG",
                "end": "BSB",
                "label": "",
                "properties": {},
                "directed": false,
                "id": "1c341cb0-1dff-4bd6-9852-b3ad81207361",
                "color": "#15AFAC",
                "thickness_factor": 1,
                "styles": {}
              },
              {
                "start": "CCS",
                "end": "BSB",
                "label": "",
                "properties": {},
                "directed": false,
                "id": "bbd4b91b-e158-422c-9f2e-239a2cfb0330",
                "color": "#15AFAC",
                "thickness_factor": 1,
                "styles": {}
              },
              {
                "start": "BOG",
                "end": "GUA",
                "label": "",
                "properties": {},
                "directed": false,
                "id": "6ede49c5-2f39-4bba-b6f5-cef76f0ed592",
                "color": "#15AFAC",
                "thickness_factor": 1,
                "styles": {}
              },
              {
                "start": "CCS",
                "end": "MIA",
                "label": "",
                "properties": {},
                "directed": false,
                "id": "b4c4bec3-2914-43e9-88be-219c9880cb98",
                "color": "#15AFAC",
                "thickness_factor": 1,
                "styles": {}
              },
              {
                "start": "GUA",
                "end": "MIA",
                "label": "",
                "properties": {},
                "directed": false,
                "id": "d0f53399-4fc3-4277-8a4c-a1bab170c3d6",
                "color": "#15AFAC",
                "thickness_factor": 1,
                "styles": {}
              },
              {
                "start": "GUA",
                "end": "MEX",
                "label": "",
                "properties": {},
                "directed": false,
                "id": "b852d902-e4f3-40f3-90e0-fd728182c494",
                "color": "#15AFAC",
                "thickness_factor": 1,
                "styles": {}
              },
              {
                "start": "MEX",
                "end": "LAX",
                "label": "",
                "properties": {},
                "directed": false,
                "id": "213f5db3-1c39-4e19-aef5-4e51a29e1029",
                "color": "#15AFAC",
                "thickness_factor": 1,
                "styles": {}
              },
              {
                "start": "MEX",
                "end": "LAX",
                "label": "",
                "properties": {},
                "directed": false,
                "id": "4049654c-e95e-4519-af91-e13a1e7d6f4c",
                "color": "#15AFAC",
                "thickness_factor": 1,
                "styles": {}
              },
              {
                "start": "LAX",
                "end": "SFO",
                "label": "",
                "properties": {},
                "directed": false,
                "id": "2c44ca68-2a0f-47f1-b895-45642b900400",
                "color": "#15AFAC",
                "thickness_factor": 1,
                "styles": {}
              },
              {
                "start": "SFO",
                "end": "YVR",
                "label": "",
                "properties": {},
                "directed": false,
                "id": "8fc78d65-c971-4700-bac9-2fc21f1ff333",
                "color": "#15AFAC",
                "thickness_factor": 1,
                "styles": {}
              },
              {
                "start": "LAX",
                "end": "LAS",
                "label": "",
                "properties": {},
                "directed": false,
                "id": "211047e2-15c7-4d94-b69e-1f21272d25b3",
                "color": "#15AFAC",
                "thickness_factor": 1,
                "styles": {}
              },
              {
                "start": "LAX",
                "end": "DFW",
                "label": "",
                "properties": {},
                "directed": false,
                "id": "0fa0b197-f230-4af5-b877-cac9a70e3dd3",
                "color": "#15AFAC",
                "thickness_factor": 1,
                "styles": {}
              },
              {
                "start": "LAX",
                "end": "ORD",
                "label": "",
                "properties": {},
                "directed": false,
                "id": "2f867c80-9e2f-4afe-ad1d-7ea82a8cb6d1",
                "color": "#15AFAC",
                "thickness_factor": 1,
                "styles": {}
              },
              {
                "start": "SFO",
                "end": "LAS",
                "label": "",
                "properties": {},
                "directed": false,
                "id": "c5da4812-e4a8-4114-8fe9-e6f0223177e2",
                "color": "#15AFAC",
                "thickness_factor": 1,
                "styles": {}
              },
              {
                "start": "DFW",
                "end": "ATL",
                "label": "",
                "properties": {},
                "directed": false,
                "id": "db9c24f0-0b9b-40be-879e-0d132734ba24",
                "color": "#15AFAC",
                "thickness_factor": 1,
                "styles": {}
              },
              {
                "start": "ATL",
                "end": "YYZ",
                "label": "",
                "properties": {},
                "directed": false,
                "id": "b6dc7043-14b2-41a9-aaf8-09f229a86121",
                "color": "#15AFAC",
                "thickness_factor": 1,
                "styles": {}
              },
              {
                "start": "ORD",
                "end": "YYZ",
                "label": "",
                "properties": {},
                "directed": false,
                "id": "61791e32-f2c0-4560-b2ee-55a4160958d4",
                "color": "#15AFAC",
                "thickness_factor": 1,
                "styles": {}
              },
              {
                "start": "YYZ",
                "end": "YUL",
                "label": "",
                "properties": {},
                "directed": false,
                "id": "d99b885e-6a6c-45aa-a4fa-da03f1db24f8",
                "color": "#15AFAC",
                "thickness_factor": 1,
                "styles": {}
              },
              {
                "start": "YYZ",
                "end": "JFK",
                "label": "",
                "properties": {},
                "directed": false,
                "id": "b9b44a92-f017-470e-9ac2-92a24cc56d4c",
                "color": "#15AFAC",
                "thickness_factor": 1,
                "styles": {}
              },
              {
                "start": "YUL",
                "end": "JFK",
                "label": "",
                "properties": {},
                "directed": false,
                "id": "b2c2f551-eb47-4375-affa-138733d83a45",
                "color": "#15AFAC",
                "thickness_factor": 1,
                "styles": {}
              },
              {
                "start": "JNB",
                "end": "CPT",
                "label": "",
                "properties": {},
                "directed": false,
                "id": "663dd1e7-1ce7-467c-9b8f-f4d43495c1a8",
                "color": "#15AFAC",
                "thickness_factor": 1,
                "styles": {}
              },
              {
                "start": "LOS",
                "end": "DKR",
                "label": "",
                "properties": {},
                "directed": false,
                "id": "bae66ea3-bd04-45c7-8dd4-6343f565f616",
                "color": "#15AFAC",
                "thickness_factor": 1,
                "styles": {}
              },
              {
                "start": "NBO",
                "end": "LOS",
                "label": "",
                "properties": {},
                "directed": false,
                "id": "6510589b-7558-4a6d-9716-7209553a47ea",
                "color": "#15AFAC",
                "thickness_factor": 1,
                "styles": {}
              },
              {
                "start": "DKR",
                "end": "CMN",
                "label": "",
                "properties": {},
                "directed": false,
                "id": "4aee57d0-4a12-41e9-8650-dee39752db39",
                "color": "#15AFAC",
                "thickness_factor": 1,
                "styles": {}
              },
              {
                "start": "DKR",
                "end": "CAI",
                "label": "",
                "properties": {},
                "directed": false,
                "id": "32adede8-f34a-40fe-a5a8-425456bdc4dd",
                "color": "#15AFAC",
                "thickness_factor": 1,
                "styles": {}
              },
              {
                "start": "NBO",
                "end": "CAI",
                "label": "",
                "properties": {},
                "directed": false,
                "id": "b10198a9-84f0-4d1d-b1d9-be50a0e184cb",
                "color": "#15AFAC",
                "thickness_factor": 1,
                "styles": {}
              },
              {
                "start": "DXB",
                "end": "CAI",
                "label": "",
                "properties": {},
                "directed": false,
                "id": "9fe0d920-661d-42da-bcc8-15f176dcce74",
                "color": "#15AFAC",
                "thickness_factor": 1,
                "styles": {}
              },
              {
                "start": "IKA",
                "end": "DXB",
                "label": "",
                "properties": {},
                "directed": false,
                "id": "424b5e21-2257-4320-ae97-45c644054456",
                "color": "#15AFAC",
                "thickness_factor": 1,
                "styles": {}
              },
              {
                "start": "IST",
                "end": "IKA",
                "label": "",
                "properties": {},
                "directed": false,
                "id": "ec781c7b-a78c-4f96-943b-7774865fa18d",
                "color": "#15AFAC",
                "thickness_factor": 1,
                "styles": {}
              },
              {
                "start": "TLV",
                "end": "ATH",
                "label": "",
                "properties": {},
                "directed": false,
                "id": "ee2cfce4-2e47-47ab-95a7-deadd49b669f",
                "color": "#15AFAC",
                "thickness_factor": 1,
                "styles": {}
              },
              {
                "start": "CAI",
                "end": "TLV",
                "label": "",
                "properties": {},
                "directed": false,
                "id": "67c6ca68-5b2a-4fc4-9824-e88b65c9d860",
                "color": "#15AFAC",
                "thickness_factor": 1,
                "styles": {}
              },
              {
                "start": "ATH",
                "end": "IST",
                "label": "",
                "properties": {},
                "directed": false,
                "id": "c363f287-5a73-4295-a17b-22a75e2a534c",
                "color": "#15AFAC",
                "thickness_factor": 1,
                "styles": {}
              },
              {
                "start": "FCO",
                "end": "ATH",
                "label": "",
                "properties": {},
                "directed": false,
                "id": "a5a02430-9606-4c6c-9e94-ed3378cc9868",
                "color": "#15AFAC",
                "thickness_factor": 1,
                "styles": {}
              },
              {
                "start": "LIS",
                "end": "LHR",
                "label": "",
                "properties": {},
                "directed": false,
                "id": "1169e704-8e0e-487f-a6ee-e507d7b0dabb",
                "color": "#15AFAC",
                "thickness_factor": 1,
                "styles": {}
              },
              {
                "start": "LIS",
                "end": "MAD",
                "label": "",
                "properties": {},
                "directed": false,
                "id": "4c0bed6f-6b60-43f1-a0f7-a82aace61958",
                "color": "#15AFAC",
                "thickness_factor": 1,
                "styles": {}
              },
              {
                "start": "MAD",
                "end": "BCN",
                "label": "",
                "properties": {},
                "directed": false,
                "id": "ab8bd8da-7a8a-4def-a080-dea09e0ef841",
                "color": "#15AFAC",
                "thickness_factor": 1,
                "styles": {}
              },
              {
                "start": "CDG",
                "end": "LHR",
                "label": "",
                "properties": {},
                "directed": false,
                "id": "82d5f183-b8ec-496c-ad48-12a627bc38e4",
                "color": "#15AFAC",
                "thickness_factor": 1,
                "styles": {}
              },
              {
                "start": "DUB",
                "end": "LHR",
                "label": "",
                "properties": {},
                "directed": false,
                "id": "6cf0d9c5-5ddf-40a7-95c2-f0ebed16c005",
                "color": "#15AFAC",
                "thickness_factor": 1,
                "styles": {}
              },
              {
                "start": "EDI",
                "end": "LHR",
                "label": "",
                "properties": {},
                "directed": false,
                "id": "194fbac0-d93a-4d2b-a777-8cfc004b41c1",
                "color": "#15AFAC",
                "thickness_factor": 1,
                "styles": {}
              },
              {
                "start": "CDG",
                "end": "BCN",
                "label": "",
                "properties": {},
                "directed": false,
                "id": "d16c6e29-9ca0-4c3b-b700-97052250bdd8",
                "color": "#15AFAC",
                "thickness_factor": 1,
                "styles": {}
              },
              {
                "start": "BCN",
                "end": "FCO",
                "label": "",
                "properties": {},
                "directed": false,
                "id": "0e48d4e1-babb-4797-93b7-4fcaa6b9711e",
                "color": "#15AFAC",
                "thickness_factor": 1,
                "styles": {}
              },
              {
                "start": "VIE",
                "end": "IST",
                "label": "",
                "properties": {},
                "directed": false,
                "id": "5fadacb5-5a9e-40ff-b39d-b54b9c9ee6db",
                "color": "#15AFAC",
                "thickness_factor": 1,
                "styles": {}
              },
              {
                "start": "VIE",
                "end": "SVO",
                "label": "",
                "properties": {},
                "directed": false,
                "id": "691d1b6e-f207-48c8-aa93-a16030c19019",
                "color": "#15AFAC",
                "thickness_factor": 1,
                "styles": {}
              },
              {
                "start": "CMN",
                "end": "LIS",
                "label": "",
                "properties": {},
                "directed": false,
                "id": "38fb1d1f-611a-49b6-9291-314d0ea1ff74",
                "color": "#15AFAC",
                "thickness_factor": 1,
                "styles": {}
              },
              {
                "start": "MAD",
                "end": "CMN",
                "label": "",
                "properties": {},
                "directed": false,
                "id": "5f4ab795-c196-44b8-8d4c-fbe92e3fcdd4",
                "color": "#15AFAC",
                "thickness_factor": 1,
                "styles": {}
              },
              {
                "start": "FRA",
                "end": "CPH",
                "label": "",
                "properties": {},
                "directed": false,
                "id": "6f892a48-11b4-44c0-855e-20e76eb70e3b",
                "color": "#15AFAC",
                "thickness_factor": 1,
                "styles": {}
              },
              {
                "start": "LHR",
                "end": "CPH",
                "label": "",
                "properties": {},
                "directed": false,
                "id": "0acd4373-c43d-41f6-a901-a55da73a958f",
                "color": "#15AFAC",
                "thickness_factor": 1,
                "styles": {}
              },
              {
                "start": "CPH",
                "end": "OSL",
                "label": "",
                "properties": {},
                "directed": false,
                "id": "454affbf-e628-4d17-ae2f-370a67c9a9b2",
                "color": "#15AFAC",
                "thickness_factor": 1,
                "styles": {}
              },
              {
                "start": "CPH",
                "end": "ARN",
                "label": "",
                "properties": {},
                "directed": false,
                "id": "d27a5bad-7a3a-4e14-903c-016bd39d4290",
                "color": "#15AFAC",
                "thickness_factor": 1,
                "styles": {}
              },
              {
                "start": "ARN",
                "end": "HEL",
                "label": "",
                "properties": {},
                "directed": false,
                "id": "42af69c7-1f49-41fe-adb9-467bff6746eb",
                "color": "#15AFAC",
                "thickness_factor": 1,
                "styles": {}
              },
              {
                "start": "HEL",
                "end": "SVO",
                "label": "",
                "properties": {},
                "directed": false,
                "id": "173707b2-352d-44a2-bf28-3424442a532f",
                "color": "#15AFAC",
                "thickness_factor": 1,
                "styles": {}
              },
              {
                "start": "ULN",
                "end": "PVG",
                "label": "",
                "properties": {},
                "directed": false,
                "id": "94123e2a-d6d9-427a-8603-e5f4462afe55",
                "color": "#15AFAC",
                "thickness_factor": 1,
                "styles": {}
              },
              {
                "start": "CTU",
                "end": "PVG",
                "label": "",
                "properties": {},
                "directed": false,
                "id": "ca871f7f-0756-4c90-be95-0768c0df4f64",
                "color": "#15AFAC",
                "thickness_factor": 1,
                "styles": {}
              },
              {
                "start": "PVG",
                "end": "TPE",
                "label": "",
                "properties": {},
                "directed": false,
                "id": "b4da3efb-7873-4848-9873-a0935e654a3f",
                "color": "#15AFAC",
                "thickness_factor": 1,
                "styles": {}
              },
              {
                "start": "CTU",
                "end": "HKG",
                "label": "",
                "properties": {},
                "directed": false,
                "id": "66897a79-109e-4d6b-a9ce-ea2165e6f61e",
                "color": "#15AFAC",
                "thickness_factor": 1,
                "styles": {}
              },
              {
                "start": "TPE",
                "end": "HKG",
                "label": "",
                "properties": {},
                "directed": false,
                "id": "e84b8206-bb0c-4ad2-8a9f-04e10005d43e",
                "color": "#15AFAC",
                "thickness_factor": 1,
                "styles": {}
              },
              {
                "start": "HKG",
                "end": "MNL",
                "label": "",
                "properties": {},
                "directed": false,
                "id": "03346a91-a076-4334-9c98-606151b476e6",
                "color": "#15AFAC",
                "thickness_factor": 1,
                "styles": {}
              },
              {
                "start": "BKK",
                "end": "HKG",
                "label": "",
                "properties": {},
                "directed": false,
                "id": "6879b4a1-394e-4933-b54b-4b7cc9c88be8",
                "color": "#15AFAC",
                "thickness_factor": 1,
                "styles": {}
              },
              {
                "start": "SIN",
                "end": "KUL",
                "label": "",
                "properties": {},
                "directed": false,
                "id": "0402c6a6-935d-4488-9379-e2efdcd90fca",
                "color": "#15AFAC",
                "thickness_factor": 1,
                "styles": {}
              },
              {
                "start": "SIN",
                "end": "BKK",
                "label": "",
                "properties": {},
                "directed": false,
                "id": "5f82f5c7-5afc-4550-8b06-e7e4766d29b3",
                "color": "#15AFAC",
                "thickness_factor": 1,
                "styles": {}
              },
              {
                "start": "CGK",
                "end": "SIN",
                "label": "",
                "properties": {},
                "directed": false,
                "id": "566993a3-375a-41ce-af9c-05ed354aa629",
                "color": "#15AFAC",
                "thickness_factor": 1,
                "styles": {}
              },
              {
                "start": "MNL",
                "end": "SIN",
                "label": "",
                "properties": {},
                "directed": false,
                "id": "2c15b320-cc01-4f22-bec7-7f8095f19e47",
                "color": "#15AFAC",
                "thickness_factor": 1,
                "styles": {}
              },
              {
                "start": "SIN",
                "end": "SYD",
                "label": "",
                "properties": {},
                "directed": false,
                "id": "7ce08804-202e-4ffb-a3e9-a7652b2b2397",
                "color": "#15AFAC",
                "thickness_factor": 1,
                "styles": {}
              },
              {
                "start": "BNE",
                "end": "SYD",
                "label": "",
                "properties": {},
                "directed": false,
                "id": "c70ae06f-98c9-4835-9369-7de16b5e594f",
                "color": "#15AFAC",
                "thickness_factor": 1,
                "styles": {}
              },
              {
                "start": "SYD",
                "end": "MEL",
                "label": "",
                "properties": {},
                "directed": false,
                "id": "9c7ae318-4433-428b-a547-ecf52f151475",
                "color": "#15AFAC",
                "thickness_factor": 1,
                "styles": {}
              },
              {
                "start": "NAN",
                "end": "SYD",
                "label": "",
                "properties": {},
                "directed": false,
                "id": "efc4fddb-c067-446e-88b4-cb8dca2c15f9",
                "color": "#15AFAC",
                "thickness_factor": 1,
                "styles": {}
              },
              {
                "start": "AKL",
                "end": "SYD",
                "label": "",
                "properties": {},
                "directed": false,
                "id": "397ce5bc-771d-4c32-addc-998213486845",
                "color": "#15AFAC",
                "thickness_factor": 1,
                "styles": {}
              },
              {
                "start": "NAN",
                "end": "AKL",
                "label": "",
                "properties": {},
                "directed": false,
                "id": "a3610bcb-628f-4c1f-9b46-0128e289d1b0",
                "color": "#15AFAC",
                "thickness_factor": 1,
                "styles": {}
              },
              {
                "start": "RKV",
                "end": "LHR",
                "label": "",
                "properties": {},
                "directed": false,
                "id": "4555554b-d297-49c0-a840-ed52f090dc11",
                "color": "#15AFAC",
                "thickness_factor": 1,
                "styles": {}
              },
              {
                "start": "BCN",
                "end": "CDG",
                "label": "",
                "properties": {},
                "directed": false,
                "id": "b45e184f-2f15-430c-a7a3-0e1d2973ed01",
                "color": "#15AFAC",
                "thickness_factor": 1,
                "styles": {}
              },
              {
                "start": "BCN",
                "end": "FRA",
                "label": "",
                "properties": {},
                "directed": false,
                "id": "26a0f51e-12a3-4ad4-b752-cb5246878cae",
                "color": "#15AFAC",
                "thickness_factor": 1,
                "styles": {}
              },
              {
                "start": "FCO",
                "end": "FRA",
                "label": "",
                "properties": {},
                "directed": false,
                "id": "e62ffd53-4248-432a-9ef2-70717c0509f5",
                "color": "#15AFAC",
                "thickness_factor": 1,
                "styles": {}
              },
              {
                "start": "BOG",
                "end": "MEX",
                "label": "",
                "properties": {},
                "directed": false,
                "id": "41e16971-7a95-43a1-a002-6584d08e17cc",
                "color": "#15AFAC",
                "thickness_factor": 1,
                "styles": {}
              },
              {
                "start": "BOG",
                "end": "GRU",
                "label": "",
                "properties": {},
                "directed": false,
                "id": "15b920c1-7c96-43e9-953b-bfc0702e3449",
                "color": "#15AFAC",
                "thickness_factor": 1,
                "styles": {}
              },
              {
                "start": "ATL",
                "end": "MIA",
                "label": "",
                "properties": {},
                "directed": false,
                "id": "7ad0cc87-ed6f-40a7-b8b2-2dcb188dc64c",
                "color": "#15AFAC",
                "thickness_factor": 1,
                "styles": {}
              },
              {
                "start": "FRA",
                "end": "IST",
                "label": "",
                "properties": {},
                "directed": false,
                "id": "0a4f97dc-62e9-40a6-b0df-feeea65f88c5",
                "color": "#15AFAC",
                "thickness_factor": 1,
                "styles": {}
              },
              {
                "start": "IST",
                "end": "DEL",
                "label": "",
                "properties": {},
                "directed": false,
                "id": "0329f326-3cb4-42ae-b73d-c13b7e7ccd55",
                "color": "#15AFAC",
                "thickness_factor": 1,
                "styles": {}
              },
              {
                "start": "PVG",
                "end": "BKK",
                "label": "",
                "properties": {},
                "directed": false,
                "id": "4631daf6-ce42-4b65-aa49-59b0d2160060",
                "color": "#15AFAC",
                "thickness_factor": 1,
                "styles": {}
              },
              {
                "start": "DEL",
                "end": "BKK",
                "label": "",
                "properties": {},
                "directed": false,
                "id": "9f7052ea-6995-4953-9e7c-5afb56f63636",
                "color": "#15AFAC",
                "thickness_factor": 1,
                "styles": {}
              }
            ],
            "_graph_layout": {
              "algorithm": "map",
              "options": {}
            },
            "_highlight": [],
            "_license": {},
            "_model_module": "yfiles-jupyter-graphs",
            "_model_module_version": "^1.10.9",
            "_model_name": "GraphModel",
            "_neighborhood": {},
            "_nodes": [
              {
                "id": "LAX",
                "properties": {
                  "label": "Los Angeles",
                  "passengers": 65000000,
                  "country": "USA",
                  "country_id": "us"
                },
                "coordinates": [
                  33.942536,
                  -118.408075
                ],
                "color": "#15AFAC",
                "styles": {},
                "label": "Los Angeles",
                "scale_factor": 1,
                "type": "#15AFAC",
                "size": [
                  55,
                  55
                ],
                "position": [
                  0,
                  0
                ]
              },
              {
                "id": "GIG",
                "properties": {
                  "label": "Rio de Janeiro",
                  "passengers": 5000000,
                  "country": "Brazil",
                  "country_id": "br"
                },
                "coordinates": [
                  -22.808903,
                  -43.243647
                ],
                "color": "#15AFAC",
                "styles": {},
                "label": "Rio de Janeiro",
                "scale_factor": 1,
                "type": "#15AFAC",
                "size": [
                  55,
                  55
                ],
                "position": [
                  0,
                  0
                ]
              },
              {
                "id": "LIM",
                "properties": {
                  "label": "Lima",
                  "passengers": 18000000,
                  "country": "Peru",
                  "country_id": "pe"
                },
                "coordinates": [
                  -12.021889,
                  -77.114319
                ],
                "color": "#15AFAC",
                "styles": {},
                "label": "Lima",
                "scale_factor": 1,
                "type": "#15AFAC",
                "size": [
                  55,
                  55
                ],
                "position": [
                  0,
                  0
                ]
              },
              {
                "id": "LHR",
                "properties": {
                  "label": "London",
                  "passengers": 61000000,
                  "country": "UK",
                  "country_id": "gb"
                },
                "coordinates": [
                  51.4775,
                  -0.461389
                ],
                "color": "#15AFAC",
                "styles": {},
                "label": "London",
                "scale_factor": 1,
                "type": "#15AFAC",
                "size": [
                  55,
                  55
                ],
                "position": [
                  0,
                  0
                ]
              },
              {
                "id": "FRA",
                "properties": {
                  "label": "Frankfurt",
                  "passengers": 48000000,
                  "country": "Germany",
                  "country_id": "de"
                },
                "coordinates": [
                  50.033333,
                  8.570556
                ],
                "color": "#15AFAC",
                "styles": {},
                "label": "Frankfurt",
                "scale_factor": 1,
                "type": "#15AFAC",
                "size": [
                  55,
                  55
                ],
                "position": [
                  0,
                  0
                ]
              },
              {
                "id": "SVO",
                "properties": {
                  "label": "Moscow",
                  "passengers": 49000000,
                  "country": "Russia",
                  "country_id": "ru"
                },
                "coordinates": [
                  55.972642,
                  37.414589
                ],
                "color": "#15AFAC",
                "styles": {},
                "label": "Moscow",
                "scale_factor": 1,
                "type": "#15AFAC",
                "size": [
                  55,
                  55
                ],
                "position": [
                  0,
                  0
                ]
              },
              {
                "id": "DEL",
                "properties": {
                  "label": "New Delhi",
                  "passengers": 39000000,
                  "country": "India",
                  "country_id": "in"
                },
                "coordinates": [
                  28.5665,
                  77.103089
                ],
                "color": "#15AFAC",
                "styles": {},
                "label": "New Delhi",
                "scale_factor": 1,
                "type": "#15AFAC",
                "size": [
                  55,
                  55
                ],
                "position": [
                  0,
                  0
                ]
              },
              {
                "id": "PVG",
                "properties": {
                  "label": "Shanghai",
                  "passengers": 32000000,
                  "country": "China",
                  "country_id": "hk"
                },
                "coordinates": [
                  31.143378,
                  121.805214
                ],
                "color": "#15AFAC",
                "styles": {},
                "label": "Shanghai",
                "scale_factor": 1,
                "type": "#15AFAC",
                "size": [
                  55,
                  55
                ],
                "position": [
                  0,
                  0
                ]
              },
              {
                "id": "HKG",
                "properties": {
                  "label": "Hongkong",
                  "passengers": 1000000,
                  "country": "China",
                  "country_id": "hk"
                },
                "coordinates": [
                  22.308919,
                  113.914603
                ],
                "color": "#15AFAC",
                "styles": {},
                "label": "Hongkong",
                "scale_factor": 1,
                "type": "#15AFAC",
                "size": [
                  55,
                  55
                ],
                "position": [
                  0,
                  0
                ]
              },
              {
                "id": "NRT",
                "properties": {
                  "label": "Tokio",
                  "passengers": 15000000,
                  "country": "Japan",
                  "country_id": "jp"
                },
                "coordinates": [
                  35.764722,
                  140.386389
                ],
                "color": "#15AFAC",
                "styles": {},
                "label": "Tokio",
                "scale_factor": 1,
                "type": "#15AFAC",
                "size": [
                  55,
                  55
                ],
                "position": [
                  0,
                  0
                ]
              },
              {
                "id": "DXB",
                "properties": {
                  "label": "Dubai",
                  "passengers": 29000000,
                  "country": "UAE",
                  "country_id": "ae"
                },
                "coordinates": [
                  25.252778,
                  55.364444
                ],
                "color": "#15AFAC",
                "styles": {},
                "label": "Dubai",
                "scale_factor": 1,
                "type": "#15AFAC",
                "size": [
                  55,
                  55
                ],
                "position": [
                  0,
                  0
                ]
              },
              {
                "id": "DKR",
                "properties": {
                  "label": "Dakar",
                  "passengers": 2000000,
                  "country": "Senegal",
                  "country_id": "sn"
                },
                "coordinates": [
                  14.670833,
                  -17.072778
                ],
                "color": "#15AFAC",
                "styles": {},
                "label": "Dakar",
                "scale_factor": 1,
                "type": "#15AFAC",
                "size": [
                  55,
                  55
                ],
                "position": [
                  0,
                  0
                ]
              },
              {
                "id": "JNB",
                "properties": {
                  "label": "Johannesburg",
                  "passengers": 9000000,
                  "country": "South Africa",
                  "country_id": "za"
                },
                "coordinates": [
                  -26.133694,
                  28.242317
                ],
                "color": "#15AFAC",
                "styles": {},
                "label": "Johannesburg",
                "scale_factor": 1,
                "type": "#15AFAC",
                "size": [
                  55,
                  55
                ],
                "position": [
                  0,
                  0
                ]
              },
              {
                "id": "SYD",
                "properties": {
                  "label": "Sydney",
                  "passengers": 44000000,
                  "country": "Australia",
                  "country_id": "au"
                },
                "coordinates": [
                  -33.946111,
                  151.177222
                ],
                "color": "#15AFAC",
                "styles": {},
                "label": "Sydney",
                "scale_factor": 1,
                "type": "#15AFAC",
                "size": [
                  55,
                  55
                ],
                "position": [
                  0,
                  0
                ]
              },
              {
                "id": "NBO",
                "properties": {
                  "label": "Nairobi",
                  "passengers": 900000,
                  "country": "Kenya",
                  "country_id": "ke"
                },
                "coordinates": [
                  -1.319167,
                  36.927778
                ],
                "color": "#15AFAC",
                "styles": {},
                "label": "Nairobi",
                "scale_factor": 1,
                "type": "#15AFAC",
                "size": [
                  55,
                  55
                ],
                "position": [
                  0,
                  0
                ]
              },
              {
                "id": "ATL",
                "properties": {
                  "label": "Atlanta",
                  "passengers": 93000000,
                  "country": "USA",
                  "country_id": "us"
                },
                "coordinates": [
                  33.639167,
                  -84.427778
                ],
                "color": "#15AFAC",
                "styles": {},
                "label": "Atlanta",
                "scale_factor": 1,
                "type": "#15AFAC",
                "size": [
                  55,
                  55
                ],
                "position": [
                  0,
                  0
                ]
              },
              {
                "id": "JFK",
                "properties": {
                  "label": "New York City",
                  "passengers": 55000000,
                  "country": "USA",
                  "country_id": "us"
                },
                "coordinates": [
                  40.63975,
                  -73.778925
                ],
                "color": "#15AFAC",
                "styles": {},
                "label": "New York City",
                "scale_factor": 1,
                "type": "#15AFAC",
                "size": [
                  55,
                  55
                ],
                "position": [
                  0,
                  0
                ]
              },
              {
                "id": "CAI",
                "properties": {
                  "label": "Cairo",
                  "passengers": 14000000,
                  "country": "Egypt",
                  "country_id": "eg"
                },
                "coordinates": [
                  30.121944,
                  31.405556
                ],
                "color": "#15AFAC",
                "styles": {},
                "label": "Cairo",
                "scale_factor": 1,
                "type": "#15AFAC",
                "size": [
                  55,
                  55
                ],
                "position": [
                  0,
                  0
                ]
              },
              {
                "id": "CMN",
                "properties": {
                  "label": "Casablanca",
                  "passengers": 7000000,
                  "country": "Morocco",
                  "country_id": "ma"
                },
                "coordinates": [
                  33.367467,
                  -7.589967
                ],
                "color": "#15AFAC",
                "styles": {},
                "label": "Casablanca",
                "scale_factor": 1,
                "type": "#15AFAC",
                "size": [
                  55,
                  55
                ],
                "position": [
                  0,
                  0
                ]
              },
              {
                "id": "LOS",
                "properties": {
                  "label": "Lagos",
                  "passengers": 5000000,
                  "country": "Nigeria",
                  "country_id": "ng"
                },
                "coordinates": [
                  6.577222,
                  3.321111
                ],
                "color": "#15AFAC",
                "styles": {},
                "label": "Lagos",
                "scale_factor": 1,
                "type": "#15AFAC",
                "size": [
                  55,
                  55
                ],
                "position": [
                  0,
                  0
                ]
              },
              {
                "id": "CPT",
                "properties": {
                  "label": "Cape Town",
                  "passengers": 5000000,
                  "country": "South Africa",
                  "country_id": "za"
                },
                "coordinates": [
                  -33.969444,
                  18.597222
                ],
                "color": "#15AFAC",
                "styles": {},
                "label": "Cape Town",
                "scale_factor": 1,
                "type": "#15AFAC",
                "size": [
                  55,
                  55
                ],
                "position": [
                  0,
                  0
                ]
              },
              {
                "id": "CTU",
                "properties": {
                  "label": "Chengdu",
                  "passengers": 40000000,
                  "country": "China",
                  "country_id": "hk"
                },
                "coordinates": [
                  30.578333,
                  103.946944
                ],
                "color": "#15AFAC",
                "styles": {},
                "label": "Chengdu",
                "scale_factor": 1,
                "type": "#15AFAC",
                "size": [
                  55,
                  55
                ],
                "position": [
                  0,
                  0
                ]
              },
              {
                "id": "CGK",
                "properties": {
                  "label": "Jakarta",
                  "passengers": 54000000,
                  "country": "Indonesia",
                  "country_id": "id"
                },
                "coordinates": [
                  -6.125567,
                  106.655897
                ],
                "color": "#15AFAC",
                "styles": {},
                "label": "Jakarta",
                "scale_factor": 1,
                "type": "#15AFAC",
                "size": [
                  55,
                  55
                ],
                "position": [
                  0,
                  0
                ]
              },
              {
                "id": "IKA",
                "properties": {
                  "label": "Teheran",
                  "passengers": 8000000,
                  "country": "Iran",
                  "country_id": "ir"
                },
                "coordinates": [
                  35.416111,
                  51.152222
                ],
                "color": "#15AFAC",
                "styles": {},
                "label": "Teheran",
                "scale_factor": 1,
                "type": "#15AFAC",
                "size": [
                  55,
                  55
                ],
                "position": [
                  0,
                  0
                ]
              },
              {
                "id": "TLV",
                "properties": {
                  "label": "Tel Aviv",
                  "passengers": 20000000,
                  "country": "Israel",
                  "country_id": "il"
                },
                "coordinates": [
                  32.011389,
                  34.886667
                ],
                "color": "#15AFAC",
                "styles": {},
                "label": "Tel Aviv",
                "scale_factor": 1,
                "type": "#15AFAC",
                "size": [
                  55,
                  55
                ],
                "position": [
                  0,
                  0
                ]
              },
              {
                "id": "KUL",
                "properties": {
                  "label": "Kuala Lumpur",
                  "passengers": 25000000,
                  "country": "Malaysia",
                  "country_id": "my"
                },
                "coordinates": [
                  2.745578,
                  101.709917
                ],
                "color": "#15AFAC",
                "styles": {},
                "label": "Kuala Lumpur",
                "scale_factor": 1,
                "type": "#15AFAC",
                "size": [
                  55,
                  55
                ],
                "position": [
                  0,
                  0
                ]
              },
              {
                "id": "MNL",
                "properties": {
                  "label": "Manila",
                  "passengers": 8000000,
                  "country": "Philippines",
                  "country_id": "ph"
                },
                "coordinates": [
                  14.508647,
                  121.019581
                ],
                "color": "#15AFAC",
                "styles": {},
                "label": "Manila",
                "scale_factor": 1,
                "type": "#15AFAC",
                "size": [
                  55,
                  55
                ],
                "position": [
                  0,
                  0
                ]
              },
              {
                "id": "SIN",
                "properties": {
                  "label": "Singapur",
                  "passengers": 32000000,
                  "country": "Singapore",
                  "country_id": "sg"
                },
                "coordinates": [
                  1.350189,
                  103.994433
                ],
                "color": "#15AFAC",
                "styles": {},
                "label": "Singapur",
                "scale_factor": 1,
                "type": "#15AFAC",
                "size": [
                  55,
                  55
                ],
                "position": [
                  0,
                  0
                ]
              },
              {
                "id": "TPE",
                "properties": {
                  "label": "Taipeh",
                  "passengers": 800000,
                  "country": "Taiwan",
                  "country_id": "tw"
                },
                "coordinates": [
                  25.077732,
                  121.232822
                ],
                "color": "#15AFAC",
                "styles": {},
                "label": "Taipeh",
                "scale_factor": 1,
                "type": "#15AFAC",
                "size": [
                  55,
                  55
                ],
                "position": [
                  0,
                  0
                ]
              },
              {
                "id": "BKK",
                "properties": {
                  "label": "Bangkok",
                  "passengers": 65000000,
                  "country": "Thailand",
                  "country_id": "th"
                },
                "coordinates": [
                  13.681108,
                  100.747283
                ],
                "color": "#15AFAC",
                "styles": {},
                "label": "Bangkok",
                "scale_factor": 1,
                "type": "#15AFAC",
                "size": [
                  55,
                  55
                ],
                "position": [
                  0,
                  0
                ]
              },
              {
                "id": "IST",
                "properties": {
                  "label": "Istanbul",
                  "passengers": 64000000,
                  "country": "Turkey",
                  "country_id": "tr"
                },
                "coordinates": [
                  40.976922,
                  28.814606
                ],
                "color": "#15AFAC",
                "styles": {},
                "label": "Istanbul",
                "scale_factor": 1,
                "type": "#15AFAC",
                "size": [
                  55,
                  55
                ],
                "position": [
                  0,
                  0
                ]
              },
              {
                "id": "ULN",
                "properties": {
                  "label": "Ulaanbaatar",
                  "passengers": 1000000,
                  "country": "Mongolia",
                  "country_id": "mn"
                },
                "coordinates": [
                  47.843056,
                  106.766639
                ],
                "color": "#15AFAC",
                "styles": {},
                "label": "Ulaanbaatar",
                "scale_factor": 1,
                "type": "#15AFAC",
                "size": [
                  55,
                  55
                ],
                "position": [
                  0,
                  0
                ]
              },
              {
                "id": "MEL",
                "properties": {
                  "label": "Melbourne",
                  "passengers": 12000000,
                  "country": "Australia",
                  "country_id": "au"
                },
                "coordinates": [
                  -37.673333,
                  144.843333
                ],
                "color": "#15AFAC",
                "styles": {},
                "label": "Melbourne",
                "scale_factor": 1,
                "type": "#15AFAC",
                "size": [
                  55,
                  55
                ],
                "position": [
                  0,
                  0
                ]
              },
              {
                "id": "BNE",
                "properties": {
                  "label": "Brisbane",
                  "passengers": 23000000,
                  "country": "Australia",
                  "country_id": "au"
                },
                "coordinates": [
                  -27.383333,
                  153.118056
                ],
                "color": "#15AFAC",
                "styles": {},
                "label": "Brisbane",
                "scale_factor": 1,
                "type": "#15AFAC",
                "size": [
                  55,
                  55
                ],
                "position": [
                  0,
                  0
                ]
              },
              {
                "id": "NAN",
                "properties": {
                  "label": "Nadi",
                  "passengers": 2000000,
                  "country": "Fiji",
                  "country_id": "fj"
                },
                "coordinates": [
                  -17.755392,
                  177.443378
                ],
                "color": "#15AFAC",
                "styles": {},
                "label": "Nadi",
                "scale_factor": 1,
                "type": "#15AFAC",
                "size": [
                  55,
                  55
                ],
                "position": [
                  0,
                  0
                ]
              },
              {
                "id": "AKL",
                "properties": {
                  "label": "Auckland",
                  "passengers": 21000000,
                  "country": "New Zealand",
                  "country_id": "nz"
                },
                "coordinates": [
                  -37.008056,
                  174.791667
                ],
                "color": "#15AFAC",
                "styles": {},
                "label": "Auckland",
                "scale_factor": 1,
                "type": "#15AFAC",
                "size": [
                  55,
                  55
                ],
                "position": [
                  0,
                  0
                ]
              },
              {
                "id": "CDG",
                "properties": {
                  "label": "Paris",
                  "passengers": 57000000,
                  "country": "France",
                  "country_id": "fr"
                },
                "coordinates": [
                  49.009722,
                  2.547778
                ],
                "color": "#15AFAC",
                "styles": {},
                "label": "Paris",
                "scale_factor": 1,
                "type": "#15AFAC",
                "size": [
                  55,
                  55
                ],
                "position": [
                  0,
                  0
                ]
              },
              {
                "id": "MAD",
                "properties": {
                  "label": "Madrid",
                  "passengers": 50000000,
                  "country": "Spain",
                  "country_id": "es"
                },
                "coordinates": [
                  40.4675,
                  -3.551944
                ],
                "color": "#15AFAC",
                "styles": {},
                "label": "Madrid",
                "scale_factor": 1,
                "type": "#15AFAC",
                "size": [
                  55,
                  55
                ],
                "position": [
                  0,
                  0
                ]
              },
              {
                "id": "BCN",
                "properties": {
                  "label": "Barcelona",
                  "passengers": 41000000,
                  "country": "Spain",
                  "country_id": "es"
                },
                "coordinates": [
                  41.297078,
                  2.078464
                ],
                "color": "#15AFAC",
                "styles": {},
                "label": "Barcelona",
                "scale_factor": 1,
                "type": "#15AFAC",
                "size": [
                  55,
                  55
                ],
                "position": [
                  0,
                  0
                ]
              },
              {
                "id": "FCO",
                "properties": {
                  "label": "Rome",
                  "passengers": 29000000,
                  "country": "Italy",
                  "country_id": "it"
                },
                "coordinates": [
                  41.804444,
                  12.250833
                ],
                "color": "#15AFAC",
                "styles": {},
                "label": "Rome",
                "scale_factor": 1,
                "type": "#15AFAC",
                "size": [
                  55,
                  55
                ],
                "position": [
                  0,
                  0
                ]
              },
              {
                "id": "CPH",
                "properties": {
                  "label": "Copenhagen",
                  "passengers": 30000000,
                  "country": "Denmark",
                  "country_id": "dk"
                },
                "coordinates": [
                  55.617917,
                  12.655972
                ],
                "color": "#15AFAC",
                "styles": {},
                "label": "Copenhagen",
                "scale_factor": 1,
                "type": "#15AFAC",
                "size": [
                  55,
                  55
                ],
                "position": [
                  0,
                  0
                ]
              },
              {
                "id": "HEL",
                "properties": {
                  "label": "Helsinki",
                  "passengers": 5000000,
                  "country": "Finland",
                  "country_id": "fi"
                },
                "coordinates": [
                  60.317222,
                  24.963333
                ],
                "color": "#15AFAC",
                "styles": {},
                "label": "Helsinki",
                "scale_factor": 1,
                "type": "#15AFAC",
                "size": [
                  55,
                  55
                ],
                "position": [
                  0,
                  0
                ]
              },
              {
                "id": "ATH",
                "properties": {
                  "label": "Athens",
                  "passengers": 22000000,
                  "country": "Greece",
                  "country_id": "gr"
                },
                "coordinates": [
                  37.936358,
                  23.944467
                ],
                "color": "#15AFAC",
                "styles": {},
                "label": "Athens",
                "scale_factor": 1,
                "type": "#15AFAC",
                "size": [
                  55,
                  55
                ],
                "position": [
                  0,
                  0
                ]
              },
              {
                "id": "DUB",
                "properties": {
                  "label": "Dublin",
                  "passengers": 32000000,
                  "country": "Ireland",
                  "country_id": "ie"
                },
                "coordinates": [
                  53.421333,
                  -6.270075
                ],
                "color": "#15AFAC",
                "styles": {},
                "label": "Dublin",
                "scale_factor": 1,
                "type": "#15AFAC",
                "size": [
                  55,
                  55
                ],
                "position": [
                  0,
                  0
                ]
              },
              {
                "id": "RKV",
                "properties": {
                  "label": "Reykjavik",
                  "passengers": 400000,
                  "country": "Iceland",
                  "country_id": "is"
                },
                "coordinates": [
                  64.13,
                  -21.940556
                ],
                "color": "#15AFAC",
                "styles": {},
                "label": "Reykjavik",
                "scale_factor": 1,
                "type": "#15AFAC",
                "size": [
                  55,
                  55
                ],
                "position": [
                  0,
                  0
                ]
              },
              {
                "id": "OSL",
                "properties": {
                  "label": "Oslo",
                  "passengers": 9000000,
                  "country": "Norway",
                  "country_id": "no"
                },
                "coordinates": [
                  60.193917,
                  11.100361
                ],
                "color": "#15AFAC",
                "styles": {},
                "label": "Oslo",
                "scale_factor": 1,
                "type": "#15AFAC",
                "size": [
                  55,
                  55
                ],
                "position": [
                  0,
                  0
                ]
              },
              {
                "id": "VIE",
                "properties": {
                  "label": "Vienna",
                  "passengers": 10000000,
                  "country": "Austria",
                  "country_id": "at"
                },
                "coordinates": [
                  48.110833,
                  16.570833
                ],
                "color": "#15AFAC",
                "styles": {},
                "label": "Vienna",
                "scale_factor": 1,
                "type": "#15AFAC",
                "size": [
                  55,
                  55
                ],
                "position": [
                  0,
                  0
                ]
              },
              {
                "id": "LIS",
                "properties": {
                  "label": "Lisbon",
                  "passengers": 28000000,
                  "country": "Portugal",
                  "country_id": "pt"
                },
                "coordinates": [
                  38.774167,
                  -9.134167
                ],
                "color": "#15AFAC",
                "styles": {},
                "label": "Lisbon",
                "scale_factor": 1,
                "type": "#15AFAC",
                "size": [
                  55,
                  55
                ],
                "position": [
                  0,
                  0
                ]
              },
              {
                "id": "ARN",
                "properties": {
                  "label": "Stockholm",
                  "passengers": 7000000,
                  "country": "Sweden",
                  "country_id": "se"
                },
                "coordinates": [
                  59.651944,
                  17.918611
                ],
                "color": "#15AFAC",
                "styles": {},
                "label": "Stockholm",
                "scale_factor": 1,
                "type": "#15AFAC",
                "size": [
                  55,
                  55
                ],
                "position": [
                  0,
                  0
                ]
              },
              {
                "id": "EDI",
                "properties": {
                  "label": "Edinburgh",
                  "passengers": 14000000,
                  "country": "UK",
                  "country_id": "gb"
                },
                "coordinates": [
                  55.95,
                  -3.3725
                ],
                "color": "#15AFAC",
                "styles": {},
                "label": "Edinburgh",
                "scale_factor": 1,
                "type": "#15AFAC",
                "size": [
                  55,
                  55
                ],
                "position": [
                  0,
                  0
                ]
              },
              {
                "id": "ORD",
                "properties": {
                  "label": "Chicago",
                  "passengers": 54000000,
                  "country": "USA",
                  "country_id": "us"
                },
                "coordinates": [
                  41.978603,
                  -87.904842
                ],
                "color": "#15AFAC",
                "styles": {},
                "label": "Chicago",
                "scale_factor": 1,
                "type": "#15AFAC",
                "size": [
                  55,
                  55
                ],
                "position": [
                  0,
                  0
                ]
              },
              {
                "id": "DFW",
                "properties": {
                  "label": "Dallas",
                  "passengers": 73000000,
                  "country": "USA",
                  "country_id": "us"
                },
                "coordinates": [
                  32.896828,
                  -97.037997
                ],
                "color": "#15AFAC",
                "styles": {},
                "label": "Dallas",
                "scale_factor": 1,
                "type": "#15AFAC",
                "size": [
                  55,
                  55
                ],
                "position": [
                  0,
                  0
                ]
              },
              {
                "id": "SFO",
                "properties": {
                  "label": "San Francisco",
                  "passengers": 42000000,
                  "country": "USA",
                  "country_id": "us"
                },
                "coordinates": [
                  37.618972,
                  -122.374889
                ],
                "color": "#15AFAC",
                "styles": {},
                "label": "San Francisco",
                "scale_factor": 1,
                "type": "#15AFAC",
                "size": [
                  55,
                  55
                ],
                "position": [
                  0,
                  0
                ]
              },
              {
                "id": "LAS",
                "properties": {
                  "label": "Las Vegas",
                  "passengers": 52000000,
                  "country": "USA",
                  "country_id": "us"
                },
                "coordinates": [
                  36.080056,
                  -115.15225
                ],
                "color": "#15AFAC",
                "styles": {},
                "label": "Las Vegas",
                "scale_factor": 1,
                "type": "#15AFAC",
                "size": [
                  55,
                  55
                ],
                "position": [
                  0,
                  0
                ]
              },
              {
                "id": "MIA",
                "properties": {
                  "label": "Miami",
                  "passengers": 50000000,
                  "country": "USA",
                  "country_id": "us"
                },
                "coordinates": [
                  25.79325,
                  -80.290556
                ],
                "color": "#15AFAC",
                "styles": {},
                "label": "Miami",
                "scale_factor": 1,
                "type": "#15AFAC",
                "size": [
                  55,
                  55
                ],
                "position": [
                  0,
                  0
                ]
              },
              {
                "id": "YYZ",
                "properties": {
                  "label": "Toronto",
                  "passengers": 12000000,
                  "country": "Canada",
                  "country_id": "ca"
                },
                "coordinates": [
                  43.677222,
                  -79.630556
                ],
                "color": "#15AFAC",
                "styles": {},
                "label": "Toronto",
                "scale_factor": 1,
                "type": "#15AFAC",
                "size": [
                  55,
                  55
                ],
                "position": [
                  0,
                  0
                ]
              },
              {
                "id": "YVR",
                "properties": {
                  "label": "Vancouver",
                  "passengers": 19000000,
                  "country": "Canada",
                  "country_id": "ca"
                },
                "coordinates": [
                  49.193889,
                  -123.184444
                ],
                "color": "#15AFAC",
                "styles": {},
                "label": "Vancouver",
                "scale_factor": 1,
                "type": "#15AFAC",
                "size": [
                  55,
                  55
                ],
                "position": [
                  0,
                  0
                ]
              },
              {
                "id": "YUL",
                "properties": {
                  "label": "Montreal",
                  "passengers": 15000000,
                  "country": "Canada",
                  "country_id": "ca"
                },
                "coordinates": [
                  45.47175,
                  -73.736569
                ],
                "color": "#15AFAC",
                "styles": {},
                "label": "Montreal",
                "scale_factor": 1,
                "type": "#15AFAC",
                "size": [
                  55,
                  55
                ],
                "position": [
                  0,
                  0
                ]
              },
              {
                "id": "MEX",
                "properties": {
                  "label": "Mexico-City",
                  "passengers": 46000000,
                  "country": "Mexico",
                  "country_id": "mx"
                },
                "coordinates": [
                  19.436303,
                  -99.072097
                ],
                "color": "#15AFAC",
                "styles": {},
                "label": "Mexico-City",
                "scale_factor": 1,
                "type": "#15AFAC",
                "size": [
                  55,
                  55
                ],
                "position": [
                  0,
                  0
                ]
              },
              {
                "id": "GUA",
                "properties": {
                  "label": "Guatemala-City",
                  "passengers": 2000000,
                  "country": "Guatemala",
                  "country_id": "gt"
                },
                "coordinates": [
                  14.583272,
                  -90.527475
                ],
                "color": "#15AFAC",
                "styles": {},
                "label": "Guatemala-City",
                "scale_factor": 1,
                "type": "#15AFAC",
                "size": [
                  55,
                  55
                ],
                "position": [
                  0,
                  0
                ]
              },
              {
                "id": "EZE",
                "properties": {
                  "label": "Buenos Aires",
                  "passengers": 5000000,
                  "country": "Argentina",
                  "country_id": "ar"
                },
                "coordinates": [
                  -34.822222,
                  -58.535833
                ],
                "color": "#15AFAC",
                "styles": {},
                "label": "Buenos Aires",
                "scale_factor": 1,
                "type": "#15AFAC",
                "size": [
                  55,
                  55
                ],
                "position": [
                  0,
                  0
                ]
              },
              {
                "id": "GRU",
                "properties": {
                  "label": "Sao Paulo",
                  "passengers": 34000000,
                  "country": "Brazil",
                  "country_id": "br"
                },
                "coordinates": [
                  -23.432075,
                  -46.469511
                ],
                "color": "#15AFAC",
                "styles": {},
                "label": "Sao Paulo",
                "scale_factor": 1,
                "type": "#15AFAC",
                "size": [
                  55,
                  55
                ],
                "position": [
                  0,
                  0
                ]
              },
              {
                "id": "SCL",
                "properties": {
                  "label": "Santiago de Chile",
                  "passengers": 20000000,
                  "country": "Chile",
                  "country_id": "cl"
                },
                "coordinates": [
                  -33.392975,
                  -70.785803
                ],
                "color": "#15AFAC",
                "styles": {},
                "label": "Santiago de Chile",
                "scale_factor": 1,
                "type": "#15AFAC",
                "size": [
                  55,
                  55
                ],
                "position": [
                  0,
                  0
                ]
              },
              {
                "id": "BSB",
                "properties": {
                  "label": "Brasilia",
                  "passengers": 13000000,
                  "country": "Brazil",
                  "country_id": "br"
                },
                "coordinates": [
                  -15.871111,
                  -47.918611
                ],
                "color": "#15AFAC",
                "styles": {},
                "label": "Brasilia",
                "scale_factor": 1,
                "type": "#15AFAC",
                "size": [
                  55,
                  55
                ],
                "position": [
                  0,
                  0
                ]
              },
              {
                "id": "BOG",
                "properties": {
                  "label": "Bogota",
                  "passengers": 36000000,
                  "country": "Colombia",
                  "country_id": "co"
                },
                "coordinates": [
                  4.701594,
                  -74.146947
                ],
                "color": "#15AFAC",
                "styles": {},
                "label": "Bogota",
                "scale_factor": 1,
                "type": "#15AFAC",
                "size": [
                  55,
                  55
                ],
                "position": [
                  0,
                  0
                ]
              },
              {
                "id": "CCS",
                "properties": {
                  "label": "Caracas",
                  "passengers": 8000000,
                  "country": "Venezuela",
                  "country_id": "ve"
                },
                "coordinates": [
                  10.601194,
                  -66.991222
                ],
                "color": "#15AFAC",
                "styles": {},
                "label": "Caracas",
                "scale_factor": 1,
                "type": "#15AFAC",
                "size": [
                  55,
                  55
                ],
                "position": [
                  0,
                  0
                ]
              }
            ],
            "_overview": {
              "enabled": null,
              "overview_set": false
            },
            "_selected_graph": [
              [],
              []
            ],
            "_sidebar": {
              "enabled": false,
              "start_with": null
            },
            "_view_count": null,
            "_view_module": "yfiles-jupyter-graphs",
            "_view_module_version": "^1.10.9",
            "_view_name": "GraphView",
            "layout": "IPY_MODEL_d1acf0ce73a34d209f2a5369466ef54e"
          }
        },
        "d1acf0ce73a34d209f2a5369466ef54e": {
          "model_module": "@jupyter-widgets/base",
          "model_name": "LayoutModel",
          "model_module_version": "1.2.0",
          "state": {
            "_model_module": "@jupyter-widgets/base",
            "_model_module_version": "1.2.0",
            "_model_name": "LayoutModel",
            "_view_count": null,
            "_view_module": "@jupyter-widgets/base",
            "_view_module_version": "1.2.0",
            "_view_name": "LayoutView",
            "align_content": null,
            "align_items": null,
            "align_self": null,
            "border": null,
            "bottom": null,
            "display": null,
            "flex": null,
            "flex_flow": null,
            "grid_area": null,
            "grid_auto_columns": null,
            "grid_auto_flow": null,
            "grid_auto_rows": null,
            "grid_column": null,
            "grid_gap": null,
            "grid_row": null,
            "grid_template_areas": null,
            "grid_template_columns": null,
            "grid_template_rows": null,
            "height": "800px",
            "justify_content": null,
            "justify_items": null,
            "left": null,
            "margin": null,
            "max_height": null,
            "max_width": null,
            "min_height": null,
            "min_width": null,
            "object_fit": null,
            "object_position": null,
            "order": null,
            "overflow": null,
            "overflow_x": null,
            "overflow_y": null,
            "padding": null,
            "right": null,
            "top": null,
            "visibility": null,
            "width": "100%"
          }
        },
        "644afe4ffe074bac9d5f4cc7725ce93c": {
          "model_module": "yfiles-jupyter-graphs",
          "model_name": "GraphModel",
          "model_module_version": "^1.10.9",
          "state": {
            "_context_pane_mapping": [
              {
                "id": "Neighborhood",
                "title": "Neighborhood"
              },
              {
                "id": "Data",
                "title": "Data"
              },
              {
                "id": "Search",
                "title": "Search"
              },
              {
                "id": "About",
                "title": "About"
              }
            ],
            "_data_importer": "unknown",
            "_directed": false,
            "_dom_classes": [],
            "_edges": [
              {
                "start": "LAX",
                "end": "JFK",
                "label": "",
                "properties": {},
                "directed": false,
                "id": "0db141e9-2144-46e8-a138-512223f79b4c",
                "color": "#15AFAC",
                "thickness_factor": 1,
                "styles": {}
              },
              {
                "start": "JFK",
                "end": "GIG",
                "label": "",
                "properties": {},
                "directed": false,
                "id": "356d1ec1-63f9-4716-99a0-bcc3b1e7a002",
                "color": "#15AFAC",
                "thickness_factor": 1,
                "styles": {}
              },
              {
                "start": "JFK",
                "end": "LIM",
                "label": "",
                "properties": {},
                "directed": false,
                "id": "bda65544-ec10-43f2-8eee-d5db9f3d44fd",
                "color": "#15AFAC",
                "thickness_factor": 1,
                "styles": {}
              },
              {
                "start": "JFK",
                "end": "LHR",
                "label": "",
                "properties": {},
                "directed": false,
                "id": "c49e4932-d024-4c6f-862c-e2d3549e16d3",
                "color": "#15AFAC",
                "thickness_factor": 1,
                "styles": {}
              },
              {
                "start": "GIG",
                "end": "FRA",
                "label": "",
                "properties": {},
                "directed": false,
                "id": "b4b35e61-4735-4c5a-b583-eaa5aff31041",
                "color": "#15AFAC",
                "thickness_factor": 1,
                "styles": {}
              },
              {
                "start": "LIM",
                "end": "GIG",
                "label": "",
                "properties": {},
                "directed": false,
                "id": "753e32a6-1ba6-44f3-bc61-97c14b32862f",
                "color": "#15AFAC",
                "thickness_factor": 1,
                "styles": {}
              },
              {
                "start": "FRA",
                "end": "JFK",
                "label": "",
                "properties": {},
                "directed": false,
                "id": "fde90945-20c6-4436-afb7-18e58557fbe2",
                "color": "#15AFAC",
                "thickness_factor": 1,
                "styles": {}
              },
              {
                "start": "LHR",
                "end": "FRA",
                "label": "",
                "properties": {},
                "directed": false,
                "id": "dd9f137c-5d70-4458-bbe8-b1eecbb626ed",
                "color": "#15AFAC",
                "thickness_factor": 1,
                "styles": {}
              },
              {
                "start": "FRA",
                "end": "SVO",
                "label": "",
                "properties": {},
                "directed": false,
                "id": "0f5422f6-6848-4760-97a7-311cd6e84b5b",
                "color": "#15AFAC",
                "thickness_factor": 1,
                "styles": {}
              },
              {
                "start": "FRA",
                "end": "DXB",
                "label": "",
                "properties": {},
                "directed": false,
                "id": "d2c2331e-f6f9-406d-87f7-ef7d23e6f662",
                "color": "#15AFAC",
                "thickness_factor": 1,
                "styles": {}
              },
              {
                "start": "SVO",
                "end": "DEL",
                "label": "",
                "properties": {},
                "directed": false,
                "id": "0a12492c-46e4-427c-8660-b674d727b6cf",
                "color": "#15AFAC",
                "thickness_factor": 1,
                "styles": {}
              },
              {
                "start": "SVO",
                "end": "PVG",
                "label": "",
                "properties": {},
                "directed": false,
                "id": "8fc7e161-7693-46d0-87fe-342baf69ac72",
                "color": "#15AFAC",
                "thickness_factor": 1,
                "styles": {}
              },
              {
                "start": "DEL",
                "end": "HKG",
                "label": "",
                "properties": {},
                "directed": false,
                "id": "eae3ec95-9bee-41e4-88de-4c6613a08e7c",
                "color": "#15AFAC",
                "thickness_factor": 1,
                "styles": {}
              },
              {
                "start": "PVG",
                "end": "HKG",
                "label": "",
                "properties": {},
                "directed": false,
                "id": "18d486b3-701f-4998-81b8-1b3f09827737",
                "color": "#15AFAC",
                "thickness_factor": 1,
                "styles": {}
              },
              {
                "start": "PVG",
                "end": "NRT",
                "label": "",
                "properties": {},
                "directed": false,
                "id": "783a400f-0c68-4d46-a70c-099fb7eed445",
                "color": "#15AFAC",
                "thickness_factor": 1,
                "styles": {}
              },
              {
                "start": "HKG",
                "end": "SYD",
                "label": "",
                "properties": {},
                "directed": false,
                "id": "31871c2d-ecda-4896-8d58-75e58119f111",
                "color": "#15AFAC",
                "thickness_factor": 1,
                "styles": {}
              },
              {
                "start": "NRT",
                "end": "SYD",
                "label": "",
                "properties": {},
                "directed": false,
                "id": "027ecf3d-19e6-4816-8b62-9004e5495ad6",
                "color": "#15AFAC",
                "thickness_factor": 1,
                "styles": {}
              },
              {
                "start": "DXB",
                "end": "SVO",
                "label": "",
                "properties": {},
                "directed": false,
                "id": "3fa8b328-a2af-4192-a315-96f9060a37db",
                "color": "#15AFAC",
                "thickness_factor": 1,
                "styles": {}
              },
              {
                "start": "DXB",
                "end": "DEL",
                "label": "",
                "properties": {},
                "directed": false,
                "id": "d48b1c86-d394-4603-8c2f-f8f1f9b6bfab",
                "color": "#15AFAC",
                "thickness_factor": 1,
                "styles": {}
              },
              {
                "start": "DXB",
                "end": "DKR",
                "label": "",
                "properties": {},
                "directed": false,
                "id": "ecf5349e-0cee-4896-a614-b47984d6837e",
                "color": "#15AFAC",
                "thickness_factor": 1,
                "styles": {}
              },
              {
                "start": "DXB",
                "end": "JNB",
                "label": "",
                "properties": {},
                "directed": false,
                "id": "2e10e0b3-cee8-424f-b4d7-4183b86b2fe8",
                "color": "#15AFAC",
                "thickness_factor": 1,
                "styles": {}
              },
              {
                "start": "JNB",
                "end": "LHR",
                "label": "",
                "properties": {},
                "directed": false,
                "id": "92161e9b-56e1-4e16-a133-a95e7b059173",
                "color": "#15AFAC",
                "thickness_factor": 1,
                "styles": {}
              },
              {
                "start": "JNB",
                "end": "DKR",
                "label": "",
                "properties": {},
                "directed": false,
                "id": "14e214c4-8da9-42f4-9c0d-2b6d69d26b17",
                "color": "#15AFAC",
                "thickness_factor": 1,
                "styles": {}
              },
              {
                "start": "SYD",
                "end": "DXB",
                "label": "",
                "properties": {},
                "directed": false,
                "id": "6d572775-d2e6-4e5a-bf43-707a29eabf88",
                "color": "#15AFAC",
                "thickness_factor": 1,
                "styles": {}
              },
              {
                "start": "NBO",
                "end": "JNB",
                "label": "",
                "properties": {},
                "directed": false,
                "id": "488448cf-bd8e-4104-85d4-76b05cc3754a",
                "color": "#15AFAC",
                "thickness_factor": 1,
                "styles": {}
              },
              {
                "start": "NBO",
                "end": "DXB",
                "label": "",
                "properties": {},
                "directed": false,
                "id": "a86fd208-0c18-47e5-865a-33ab192ff1d6",
                "color": "#15AFAC",
                "thickness_factor": 1,
                "styles": {}
              },
              {
                "start": "ATL",
                "end": "JFK",
                "label": "",
                "properties": {},
                "directed": false,
                "id": "149c24a7-898a-4493-8077-295f26065e62",
                "color": "#15AFAC",
                "thickness_factor": 1,
                "styles": {}
              },
              {
                "start": "LAX",
                "end": "ATL",
                "label": "",
                "properties": {},
                "directed": false,
                "id": "ce55de2a-308e-412d-8465-7afa38e72c84",
                "color": "#15AFAC",
                "thickness_factor": 1,
                "styles": {}
              },
              {
                "start": "ATL",
                "end": "LHR",
                "label": "",
                "properties": {},
                "directed": false,
                "id": "363c4f39-1d02-4b40-84ba-e7f39a3acbcd",
                "color": "#15AFAC",
                "thickness_factor": 1,
                "styles": {}
              },
              {
                "start": "ATL",
                "end": "LIM",
                "label": "",
                "properties": {},
                "directed": false,
                "id": "44fb4c34-104d-4216-9e16-526b85b422c7",
                "color": "#15AFAC",
                "thickness_factor": 1,
                "styles": {}
              },
              {
                "start": "SCL",
                "end": "LIM",
                "label": "",
                "properties": {},
                "directed": false,
                "id": "ecdecb6e-df26-4ae1-b350-dfbf6214b04a",
                "color": "#15AFAC",
                "thickness_factor": 1,
                "styles": {}
              },
              {
                "start": "EZE",
                "end": "SCL",
                "label": "",
                "properties": {},
                "directed": false,
                "id": "23692604-a875-4f3b-a499-cfb4dd9529f0",
                "color": "#15AFAC",
                "thickness_factor": 1,
                "styles": {}
              },
              {
                "start": "SCL",
                "end": "GRU",
                "label": "",
                "properties": {},
                "directed": false,
                "id": "75f3f2ff-d721-4673-b7e9-b3ccfe9fe83b",
                "color": "#15AFAC",
                "thickness_factor": 1,
                "styles": {}
              },
              {
                "start": "GIG",
                "end": "EZE",
                "label": "",
                "properties": {},
                "directed": false,
                "id": "2c6861b8-208c-475d-9dd3-90b32c6c441e",
                "color": "#15AFAC",
                "thickness_factor": 1,
                "styles": {}
              },
              {
                "start": "GIG",
                "end": "GRU",
                "label": "",
                "properties": {},
                "directed": false,
                "id": "c0857bd9-5c66-4ebf-abc5-09bffad9c775",
                "color": "#15AFAC",
                "thickness_factor": 1,
                "styles": {}
              },
              {
                "start": "BSB",
                "end": "GIG",
                "label": "",
                "properties": {},
                "directed": false,
                "id": "1682770b-5ad1-495b-9f21-47d624c2dbbc",
                "color": "#15AFAC",
                "thickness_factor": 1,
                "styles": {}
              },
              {
                "start": "SCL",
                "end": "BSB",
                "label": "",
                "properties": {},
                "directed": false,
                "id": "7387e5d3-49ec-49b0-9488-85a0e76e27f6",
                "color": "#15AFAC",
                "thickness_factor": 1,
                "styles": {}
              },
              {
                "start": "LIM",
                "end": "BSB",
                "label": "",
                "properties": {},
                "directed": false,
                "id": "f4d7166d-673f-4e04-88c6-19563e199617",
                "color": "#15AFAC",
                "thickness_factor": 1,
                "styles": {}
              },
              {
                "start": "BOG",
                "end": "BSB",
                "label": "",
                "properties": {},
                "directed": false,
                "id": "1c341cb0-1dff-4bd6-9852-b3ad81207361",
                "color": "#15AFAC",
                "thickness_factor": 1,
                "styles": {}
              },
              {
                "start": "CCS",
                "end": "BSB",
                "label": "",
                "properties": {},
                "directed": false,
                "id": "bbd4b91b-e158-422c-9f2e-239a2cfb0330",
                "color": "#15AFAC",
                "thickness_factor": 1,
                "styles": {}
              },
              {
                "start": "BOG",
                "end": "GUA",
                "label": "",
                "properties": {},
                "directed": false,
                "id": "6ede49c5-2f39-4bba-b6f5-cef76f0ed592",
                "color": "#15AFAC",
                "thickness_factor": 1,
                "styles": {}
              },
              {
                "start": "CCS",
                "end": "MIA",
                "label": "",
                "properties": {},
                "directed": false,
                "id": "b4c4bec3-2914-43e9-88be-219c9880cb98",
                "color": "#15AFAC",
                "thickness_factor": 1,
                "styles": {}
              },
              {
                "start": "GUA",
                "end": "MIA",
                "label": "",
                "properties": {},
                "directed": false,
                "id": "d0f53399-4fc3-4277-8a4c-a1bab170c3d6",
                "color": "#15AFAC",
                "thickness_factor": 1,
                "styles": {}
              },
              {
                "start": "GUA",
                "end": "MEX",
                "label": "",
                "properties": {},
                "directed": false,
                "id": "b852d902-e4f3-40f3-90e0-fd728182c494",
                "color": "#15AFAC",
                "thickness_factor": 1,
                "styles": {}
              },
              {
                "start": "MEX",
                "end": "LAX",
                "label": "",
                "properties": {},
                "directed": false,
                "id": "213f5db3-1c39-4e19-aef5-4e51a29e1029",
                "color": "#15AFAC",
                "thickness_factor": 1,
                "styles": {}
              },
              {
                "start": "MEX",
                "end": "LAX",
                "label": "",
                "properties": {},
                "directed": false,
                "id": "4049654c-e95e-4519-af91-e13a1e7d6f4c",
                "color": "#15AFAC",
                "thickness_factor": 1,
                "styles": {}
              },
              {
                "start": "LAX",
                "end": "SFO",
                "label": "",
                "properties": {},
                "directed": false,
                "id": "2c44ca68-2a0f-47f1-b895-45642b900400",
                "color": "#15AFAC",
                "thickness_factor": 1,
                "styles": {}
              },
              {
                "start": "SFO",
                "end": "YVR",
                "label": "",
                "properties": {},
                "directed": false,
                "id": "8fc78d65-c971-4700-bac9-2fc21f1ff333",
                "color": "#15AFAC",
                "thickness_factor": 1,
                "styles": {}
              },
              {
                "start": "LAX",
                "end": "LAS",
                "label": "",
                "properties": {},
                "directed": false,
                "id": "211047e2-15c7-4d94-b69e-1f21272d25b3",
                "color": "#15AFAC",
                "thickness_factor": 1,
                "styles": {}
              },
              {
                "start": "LAX",
                "end": "DFW",
                "label": "",
                "properties": {},
                "directed": false,
                "id": "0fa0b197-f230-4af5-b877-cac9a70e3dd3",
                "color": "#15AFAC",
                "thickness_factor": 1,
                "styles": {}
              },
              {
                "start": "LAX",
                "end": "ORD",
                "label": "",
                "properties": {},
                "directed": false,
                "id": "2f867c80-9e2f-4afe-ad1d-7ea82a8cb6d1",
                "color": "#15AFAC",
                "thickness_factor": 1,
                "styles": {}
              },
              {
                "start": "SFO",
                "end": "LAS",
                "label": "",
                "properties": {},
                "directed": false,
                "id": "c5da4812-e4a8-4114-8fe9-e6f0223177e2",
                "color": "#15AFAC",
                "thickness_factor": 1,
                "styles": {}
              },
              {
                "start": "DFW",
                "end": "ATL",
                "label": "",
                "properties": {},
                "directed": false,
                "id": "db9c24f0-0b9b-40be-879e-0d132734ba24",
                "color": "#15AFAC",
                "thickness_factor": 1,
                "styles": {}
              },
              {
                "start": "ATL",
                "end": "YYZ",
                "label": "",
                "properties": {},
                "directed": false,
                "id": "b6dc7043-14b2-41a9-aaf8-09f229a86121",
                "color": "#15AFAC",
                "thickness_factor": 1,
                "styles": {}
              },
              {
                "start": "ORD",
                "end": "YYZ",
                "label": "",
                "properties": {},
                "directed": false,
                "id": "61791e32-f2c0-4560-b2ee-55a4160958d4",
                "color": "#15AFAC",
                "thickness_factor": 1,
                "styles": {}
              },
              {
                "start": "YYZ",
                "end": "YUL",
                "label": "",
                "properties": {},
                "directed": false,
                "id": "d99b885e-6a6c-45aa-a4fa-da03f1db24f8",
                "color": "#15AFAC",
                "thickness_factor": 1,
                "styles": {}
              },
              {
                "start": "YYZ",
                "end": "JFK",
                "label": "",
                "properties": {},
                "directed": false,
                "id": "b9b44a92-f017-470e-9ac2-92a24cc56d4c",
                "color": "#15AFAC",
                "thickness_factor": 1,
                "styles": {}
              },
              {
                "start": "YUL",
                "end": "JFK",
                "label": "",
                "properties": {},
                "directed": false,
                "id": "b2c2f551-eb47-4375-affa-138733d83a45",
                "color": "#15AFAC",
                "thickness_factor": 1,
                "styles": {}
              },
              {
                "start": "JNB",
                "end": "CPT",
                "label": "",
                "properties": {},
                "directed": false,
                "id": "663dd1e7-1ce7-467c-9b8f-f4d43495c1a8",
                "color": "#15AFAC",
                "thickness_factor": 1,
                "styles": {}
              },
              {
                "start": "LOS",
                "end": "DKR",
                "label": "",
                "properties": {},
                "directed": false,
                "id": "bae66ea3-bd04-45c7-8dd4-6343f565f616",
                "color": "#15AFAC",
                "thickness_factor": 1,
                "styles": {}
              },
              {
                "start": "NBO",
                "end": "LOS",
                "label": "",
                "properties": {},
                "directed": false,
                "id": "6510589b-7558-4a6d-9716-7209553a47ea",
                "color": "#15AFAC",
                "thickness_factor": 1,
                "styles": {}
              },
              {
                "start": "DKR",
                "end": "CMN",
                "label": "",
                "properties": {},
                "directed": false,
                "id": "4aee57d0-4a12-41e9-8650-dee39752db39",
                "color": "#15AFAC",
                "thickness_factor": 1,
                "styles": {}
              },
              {
                "start": "DKR",
                "end": "CAI",
                "label": "",
                "properties": {},
                "directed": false,
                "id": "32adede8-f34a-40fe-a5a8-425456bdc4dd",
                "color": "#15AFAC",
                "thickness_factor": 1,
                "styles": {}
              },
              {
                "start": "NBO",
                "end": "CAI",
                "label": "",
                "properties": {},
                "directed": false,
                "id": "b10198a9-84f0-4d1d-b1d9-be50a0e184cb",
                "color": "#15AFAC",
                "thickness_factor": 1,
                "styles": {}
              },
              {
                "start": "DXB",
                "end": "CAI",
                "label": "",
                "properties": {},
                "directed": false,
                "id": "9fe0d920-661d-42da-bcc8-15f176dcce74",
                "color": "#15AFAC",
                "thickness_factor": 1,
                "styles": {}
              },
              {
                "start": "IKA",
                "end": "DXB",
                "label": "",
                "properties": {},
                "directed": false,
                "id": "424b5e21-2257-4320-ae97-45c644054456",
                "color": "#15AFAC",
                "thickness_factor": 1,
                "styles": {}
              },
              {
                "start": "IST",
                "end": "IKA",
                "label": "",
                "properties": {},
                "directed": false,
                "id": "ec781c7b-a78c-4f96-943b-7774865fa18d",
                "color": "#15AFAC",
                "thickness_factor": 1,
                "styles": {}
              },
              {
                "start": "TLV",
                "end": "ATH",
                "label": "",
                "properties": {},
                "directed": false,
                "id": "ee2cfce4-2e47-47ab-95a7-deadd49b669f",
                "color": "#15AFAC",
                "thickness_factor": 1,
                "styles": {}
              },
              {
                "start": "CAI",
                "end": "TLV",
                "label": "",
                "properties": {},
                "directed": false,
                "id": "67c6ca68-5b2a-4fc4-9824-e88b65c9d860",
                "color": "#15AFAC",
                "thickness_factor": 1,
                "styles": {}
              },
              {
                "start": "ATH",
                "end": "IST",
                "label": "",
                "properties": {},
                "directed": false,
                "id": "c363f287-5a73-4295-a17b-22a75e2a534c",
                "color": "#15AFAC",
                "thickness_factor": 1,
                "styles": {}
              },
              {
                "start": "FCO",
                "end": "ATH",
                "label": "",
                "properties": {},
                "directed": false,
                "id": "a5a02430-9606-4c6c-9e94-ed3378cc9868",
                "color": "#15AFAC",
                "thickness_factor": 1,
                "styles": {}
              },
              {
                "start": "LIS",
                "end": "LHR",
                "label": "",
                "properties": {},
                "directed": false,
                "id": "1169e704-8e0e-487f-a6ee-e507d7b0dabb",
                "color": "#15AFAC",
                "thickness_factor": 1,
                "styles": {}
              },
              {
                "start": "LIS",
                "end": "MAD",
                "label": "",
                "properties": {},
                "directed": false,
                "id": "4c0bed6f-6b60-43f1-a0f7-a82aace61958",
                "color": "#15AFAC",
                "thickness_factor": 1,
                "styles": {}
              },
              {
                "start": "MAD",
                "end": "BCN",
                "label": "",
                "properties": {},
                "directed": false,
                "id": "ab8bd8da-7a8a-4def-a080-dea09e0ef841",
                "color": "#15AFAC",
                "thickness_factor": 1,
                "styles": {}
              },
              {
                "start": "CDG",
                "end": "LHR",
                "label": "",
                "properties": {},
                "directed": false,
                "id": "82d5f183-b8ec-496c-ad48-12a627bc38e4",
                "color": "#15AFAC",
                "thickness_factor": 1,
                "styles": {}
              },
              {
                "start": "DUB",
                "end": "LHR",
                "label": "",
                "properties": {},
                "directed": false,
                "id": "6cf0d9c5-5ddf-40a7-95c2-f0ebed16c005",
                "color": "#15AFAC",
                "thickness_factor": 1,
                "styles": {}
              },
              {
                "start": "EDI",
                "end": "LHR",
                "label": "",
                "properties": {},
                "directed": false,
                "id": "194fbac0-d93a-4d2b-a777-8cfc004b41c1",
                "color": "#15AFAC",
                "thickness_factor": 1,
                "styles": {}
              },
              {
                "start": "CDG",
                "end": "BCN",
                "label": "",
                "properties": {},
                "directed": false,
                "id": "d16c6e29-9ca0-4c3b-b700-97052250bdd8",
                "color": "#15AFAC",
                "thickness_factor": 1,
                "styles": {}
              },
              {
                "start": "BCN",
                "end": "FCO",
                "label": "",
                "properties": {},
                "directed": false,
                "id": "0e48d4e1-babb-4797-93b7-4fcaa6b9711e",
                "color": "#15AFAC",
                "thickness_factor": 1,
                "styles": {}
              },
              {
                "start": "VIE",
                "end": "IST",
                "label": "",
                "properties": {},
                "directed": false,
                "id": "5fadacb5-5a9e-40ff-b39d-b54b9c9ee6db",
                "color": "#15AFAC",
                "thickness_factor": 1,
                "styles": {}
              },
              {
                "start": "VIE",
                "end": "SVO",
                "label": "",
                "properties": {},
                "directed": false,
                "id": "691d1b6e-f207-48c8-aa93-a16030c19019",
                "color": "#15AFAC",
                "thickness_factor": 1,
                "styles": {}
              },
              {
                "start": "CMN",
                "end": "LIS",
                "label": "",
                "properties": {},
                "directed": false,
                "id": "38fb1d1f-611a-49b6-9291-314d0ea1ff74",
                "color": "#15AFAC",
                "thickness_factor": 1,
                "styles": {}
              },
              {
                "start": "MAD",
                "end": "CMN",
                "label": "",
                "properties": {},
                "directed": false,
                "id": "5f4ab795-c196-44b8-8d4c-fbe92e3fcdd4",
                "color": "#15AFAC",
                "thickness_factor": 1,
                "styles": {}
              },
              {
                "start": "FRA",
                "end": "CPH",
                "label": "",
                "properties": {},
                "directed": false,
                "id": "6f892a48-11b4-44c0-855e-20e76eb70e3b",
                "color": "#15AFAC",
                "thickness_factor": 1,
                "styles": {}
              },
              {
                "start": "LHR",
                "end": "CPH",
                "label": "",
                "properties": {},
                "directed": false,
                "id": "0acd4373-c43d-41f6-a901-a55da73a958f",
                "color": "#15AFAC",
                "thickness_factor": 1,
                "styles": {}
              },
              {
                "start": "CPH",
                "end": "OSL",
                "label": "",
                "properties": {},
                "directed": false,
                "id": "454affbf-e628-4d17-ae2f-370a67c9a9b2",
                "color": "#15AFAC",
                "thickness_factor": 1,
                "styles": {}
              },
              {
                "start": "CPH",
                "end": "ARN",
                "label": "",
                "properties": {},
                "directed": false,
                "id": "d27a5bad-7a3a-4e14-903c-016bd39d4290",
                "color": "#15AFAC",
                "thickness_factor": 1,
                "styles": {}
              },
              {
                "start": "ARN",
                "end": "HEL",
                "label": "",
                "properties": {},
                "directed": false,
                "id": "42af69c7-1f49-41fe-adb9-467bff6746eb",
                "color": "#15AFAC",
                "thickness_factor": 1,
                "styles": {}
              },
              {
                "start": "HEL",
                "end": "SVO",
                "label": "",
                "properties": {},
                "directed": false,
                "id": "173707b2-352d-44a2-bf28-3424442a532f",
                "color": "#15AFAC",
                "thickness_factor": 1,
                "styles": {}
              },
              {
                "start": "ULN",
                "end": "PVG",
                "label": "",
                "properties": {},
                "directed": false,
                "id": "94123e2a-d6d9-427a-8603-e5f4462afe55",
                "color": "#15AFAC",
                "thickness_factor": 1,
                "styles": {}
              },
              {
                "start": "CTU",
                "end": "PVG",
                "label": "",
                "properties": {},
                "directed": false,
                "id": "ca871f7f-0756-4c90-be95-0768c0df4f64",
                "color": "#15AFAC",
                "thickness_factor": 1,
                "styles": {}
              },
              {
                "start": "PVG",
                "end": "TPE",
                "label": "",
                "properties": {},
                "directed": false,
                "id": "b4da3efb-7873-4848-9873-a0935e654a3f",
                "color": "#15AFAC",
                "thickness_factor": 1,
                "styles": {}
              },
              {
                "start": "CTU",
                "end": "HKG",
                "label": "",
                "properties": {},
                "directed": false,
                "id": "66897a79-109e-4d6b-a9ce-ea2165e6f61e",
                "color": "#15AFAC",
                "thickness_factor": 1,
                "styles": {}
              },
              {
                "start": "TPE",
                "end": "HKG",
                "label": "",
                "properties": {},
                "directed": false,
                "id": "e84b8206-bb0c-4ad2-8a9f-04e10005d43e",
                "color": "#15AFAC",
                "thickness_factor": 1,
                "styles": {}
              },
              {
                "start": "HKG",
                "end": "MNL",
                "label": "",
                "properties": {},
                "directed": false,
                "id": "03346a91-a076-4334-9c98-606151b476e6",
                "color": "#15AFAC",
                "thickness_factor": 1,
                "styles": {}
              },
              {
                "start": "BKK",
                "end": "HKG",
                "label": "",
                "properties": {},
                "directed": false,
                "id": "6879b4a1-394e-4933-b54b-4b7cc9c88be8",
                "color": "#15AFAC",
                "thickness_factor": 1,
                "styles": {}
              },
              {
                "start": "SIN",
                "end": "KUL",
                "label": "",
                "properties": {},
                "directed": false,
                "id": "0402c6a6-935d-4488-9379-e2efdcd90fca",
                "color": "#15AFAC",
                "thickness_factor": 1,
                "styles": {}
              },
              {
                "start": "SIN",
                "end": "BKK",
                "label": "",
                "properties": {},
                "directed": false,
                "id": "5f82f5c7-5afc-4550-8b06-e7e4766d29b3",
                "color": "#15AFAC",
                "thickness_factor": 1,
                "styles": {}
              },
              {
                "start": "CGK",
                "end": "SIN",
                "label": "",
                "properties": {},
                "directed": false,
                "id": "566993a3-375a-41ce-af9c-05ed354aa629",
                "color": "#15AFAC",
                "thickness_factor": 1,
                "styles": {}
              },
              {
                "start": "MNL",
                "end": "SIN",
                "label": "",
                "properties": {},
                "directed": false,
                "id": "2c15b320-cc01-4f22-bec7-7f8095f19e47",
                "color": "#15AFAC",
                "thickness_factor": 1,
                "styles": {}
              },
              {
                "start": "SIN",
                "end": "SYD",
                "label": "",
                "properties": {},
                "directed": false,
                "id": "7ce08804-202e-4ffb-a3e9-a7652b2b2397",
                "color": "#15AFAC",
                "thickness_factor": 1,
                "styles": {}
              },
              {
                "start": "BNE",
                "end": "SYD",
                "label": "",
                "properties": {},
                "directed": false,
                "id": "c70ae06f-98c9-4835-9369-7de16b5e594f",
                "color": "#15AFAC",
                "thickness_factor": 1,
                "styles": {}
              },
              {
                "start": "SYD",
                "end": "MEL",
                "label": "",
                "properties": {},
                "directed": false,
                "id": "9c7ae318-4433-428b-a547-ecf52f151475",
                "color": "#15AFAC",
                "thickness_factor": 1,
                "styles": {}
              },
              {
                "start": "NAN",
                "end": "SYD",
                "label": "",
                "properties": {},
                "directed": false,
                "id": "efc4fddb-c067-446e-88b4-cb8dca2c15f9",
                "color": "#15AFAC",
                "thickness_factor": 1,
                "styles": {}
              },
              {
                "start": "AKL",
                "end": "SYD",
                "label": "",
                "properties": {},
                "directed": false,
                "id": "397ce5bc-771d-4c32-addc-998213486845",
                "color": "#15AFAC",
                "thickness_factor": 1,
                "styles": {}
              },
              {
                "start": "NAN",
                "end": "AKL",
                "label": "",
                "properties": {},
                "directed": false,
                "id": "a3610bcb-628f-4c1f-9b46-0128e289d1b0",
                "color": "#15AFAC",
                "thickness_factor": 1,
                "styles": {}
              },
              {
                "start": "RKV",
                "end": "LHR",
                "label": "",
                "properties": {},
                "directed": false,
                "id": "4555554b-d297-49c0-a840-ed52f090dc11",
                "color": "#15AFAC",
                "thickness_factor": 1,
                "styles": {}
              },
              {
                "start": "BCN",
                "end": "CDG",
                "label": "",
                "properties": {},
                "directed": false,
                "id": "b45e184f-2f15-430c-a7a3-0e1d2973ed01",
                "color": "#15AFAC",
                "thickness_factor": 1,
                "styles": {}
              },
              {
                "start": "BCN",
                "end": "FRA",
                "label": "",
                "properties": {},
                "directed": false,
                "id": "26a0f51e-12a3-4ad4-b752-cb5246878cae",
                "color": "#15AFAC",
                "thickness_factor": 1,
                "styles": {}
              },
              {
                "start": "FCO",
                "end": "FRA",
                "label": "",
                "properties": {},
                "directed": false,
                "id": "e62ffd53-4248-432a-9ef2-70717c0509f5",
                "color": "#15AFAC",
                "thickness_factor": 1,
                "styles": {}
              },
              {
                "start": "BOG",
                "end": "MEX",
                "label": "",
                "properties": {},
                "directed": false,
                "id": "41e16971-7a95-43a1-a002-6584d08e17cc",
                "color": "#15AFAC",
                "thickness_factor": 1,
                "styles": {}
              },
              {
                "start": "BOG",
                "end": "GRU",
                "label": "",
                "properties": {},
                "directed": false,
                "id": "15b920c1-7c96-43e9-953b-bfc0702e3449",
                "color": "#15AFAC",
                "thickness_factor": 1,
                "styles": {}
              },
              {
                "start": "ATL",
                "end": "MIA",
                "label": "",
                "properties": {},
                "directed": false,
                "id": "7ad0cc87-ed6f-40a7-b8b2-2dcb188dc64c",
                "color": "#15AFAC",
                "thickness_factor": 1,
                "styles": {}
              },
              {
                "start": "FRA",
                "end": "IST",
                "label": "",
                "properties": {},
                "directed": false,
                "id": "0a4f97dc-62e9-40a6-b0df-feeea65f88c5",
                "color": "#15AFAC",
                "thickness_factor": 1,
                "styles": {}
              },
              {
                "start": "IST",
                "end": "DEL",
                "label": "",
                "properties": {},
                "directed": false,
                "id": "0329f326-3cb4-42ae-b73d-c13b7e7ccd55",
                "color": "#15AFAC",
                "thickness_factor": 1,
                "styles": {}
              },
              {
                "start": "PVG",
                "end": "BKK",
                "label": "",
                "properties": {},
                "directed": false,
                "id": "4631daf6-ce42-4b65-aa49-59b0d2160060",
                "color": "#15AFAC",
                "thickness_factor": 1,
                "styles": {}
              },
              {
                "start": "DEL",
                "end": "BKK",
                "label": "",
                "properties": {},
                "directed": false,
                "id": "9f7052ea-6995-4953-9e7c-5afb56f63636",
                "color": "#15AFAC",
                "thickness_factor": 1,
                "styles": {}
              }
            ],
            "_graph_layout": {},
            "_highlight": [],
            "_license": {},
            "_model_module": "yfiles-jupyter-graphs",
            "_model_module_version": "^1.10.9",
            "_model_name": "GraphModel",
            "_neighborhood": {},
            "_nodes": [
              {
                "id": "LAX",
                "properties": {
                  "label": "Los Angeles",
                  "passengers": 65000000,
                  "country": "USA",
                  "country_id": "us"
                },
                "coordinates": [
                  33.942536,
                  -118.408075
                ],
                "color": "#15AFAC",
                "styles": {},
                "label": "Los Angeles",
                "scale_factor": 1,
                "type": "#15AFAC",
                "size": [
                  55,
                  55
                ],
                "position": [
                  0,
                  0
                ],
                "parentId": "group#USA"
              },
              {
                "id": "GIG",
                "properties": {
                  "label": "Rio de Janeiro",
                  "passengers": 5000000,
                  "country": "Brazil",
                  "country_id": "br"
                },
                "coordinates": [
                  -22.808903,
                  -43.243647
                ],
                "color": "#15AFAC",
                "styles": {},
                "label": "Rio de Janeiro",
                "scale_factor": 1,
                "type": "#15AFAC",
                "size": [
                  55,
                  55
                ],
                "position": [
                  0,
                  0
                ],
                "parentId": "group#Brazil"
              },
              {
                "id": "LIM",
                "properties": {
                  "label": "Lima",
                  "passengers": 18000000,
                  "country": "Peru",
                  "country_id": "pe"
                },
                "coordinates": [
                  -12.021889,
                  -77.114319
                ],
                "color": "#15AFAC",
                "styles": {},
                "label": "Lima",
                "scale_factor": 1,
                "type": "#15AFAC",
                "size": [
                  55,
                  55
                ],
                "position": [
                  0,
                  0
                ],
                "parentId": "group#Peru"
              },
              {
                "id": "LHR",
                "properties": {
                  "label": "London",
                  "passengers": 61000000,
                  "country": "UK",
                  "country_id": "gb"
                },
                "coordinates": [
                  51.4775,
                  -0.461389
                ],
                "color": "#15AFAC",
                "styles": {},
                "label": "London",
                "scale_factor": 1,
                "type": "#15AFAC",
                "size": [
                  55,
                  55
                ],
                "position": [
                  0,
                  0
                ],
                "parentId": "group#UK"
              },
              {
                "id": "FRA",
                "properties": {
                  "label": "Frankfurt",
                  "passengers": 48000000,
                  "country": "Germany",
                  "country_id": "de"
                },
                "coordinates": [
                  50.033333,
                  8.570556
                ],
                "color": "#15AFAC",
                "styles": {},
                "label": "Frankfurt",
                "scale_factor": 1,
                "type": "#15AFAC",
                "size": [
                  55,
                  55
                ],
                "position": [
                  0,
                  0
                ],
                "parentId": "group#Germany"
              },
              {
                "id": "SVO",
                "properties": {
                  "label": "Moscow",
                  "passengers": 49000000,
                  "country": "Russia",
                  "country_id": "ru"
                },
                "coordinates": [
                  55.972642,
                  37.414589
                ],
                "color": "#15AFAC",
                "styles": {},
                "label": "Moscow",
                "scale_factor": 1,
                "type": "#15AFAC",
                "size": [
                  55,
                  55
                ],
                "position": [
                  0,
                  0
                ],
                "parentId": "group#Russia"
              },
              {
                "id": "DEL",
                "properties": {
                  "label": "New Delhi",
                  "passengers": 39000000,
                  "country": "India",
                  "country_id": "in"
                },
                "coordinates": [
                  28.5665,
                  77.103089
                ],
                "color": "#15AFAC",
                "styles": {},
                "label": "New Delhi",
                "scale_factor": 1,
                "type": "#15AFAC",
                "size": [
                  55,
                  55
                ],
                "position": [
                  0,
                  0
                ],
                "parentId": "group#India"
              },
              {
                "id": "PVG",
                "properties": {
                  "label": "Shanghai",
                  "passengers": 32000000,
                  "country": "China",
                  "country_id": "hk"
                },
                "coordinates": [
                  31.143378,
                  121.805214
                ],
                "color": "#15AFAC",
                "styles": {},
                "label": "Shanghai",
                "scale_factor": 1,
                "type": "#15AFAC",
                "size": [
                  55,
                  55
                ],
                "position": [
                  0,
                  0
                ],
                "parentId": "group#China"
              },
              {
                "id": "HKG",
                "properties": {
                  "label": "Hongkong",
                  "passengers": 1000000,
                  "country": "China",
                  "country_id": "hk"
                },
                "coordinates": [
                  22.308919,
                  113.914603
                ],
                "color": "#15AFAC",
                "styles": {},
                "label": "Hongkong",
                "scale_factor": 1,
                "type": "#15AFAC",
                "size": [
                  55,
                  55
                ],
                "position": [
                  0,
                  0
                ],
                "parentId": "group#China"
              },
              {
                "id": "NRT",
                "properties": {
                  "label": "Tokio",
                  "passengers": 15000000,
                  "country": "Japan",
                  "country_id": "jp"
                },
                "coordinates": [
                  35.764722,
                  140.386389
                ],
                "color": "#15AFAC",
                "styles": {},
                "label": "Tokio",
                "scale_factor": 1,
                "type": "#15AFAC",
                "size": [
                  55,
                  55
                ],
                "position": [
                  0,
                  0
                ],
                "parentId": "group#Japan"
              },
              {
                "id": "DXB",
                "properties": {
                  "label": "Dubai",
                  "passengers": 29000000,
                  "country": "UAE",
                  "country_id": "ae"
                },
                "coordinates": [
                  25.252778,
                  55.364444
                ],
                "color": "#15AFAC",
                "styles": {},
                "label": "Dubai",
                "scale_factor": 1,
                "type": "#15AFAC",
                "size": [
                  55,
                  55
                ],
                "position": [
                  0,
                  0
                ],
                "parentId": "group#UAE"
              },
              {
                "id": "DKR",
                "properties": {
                  "label": "Dakar",
                  "passengers": 2000000,
                  "country": "Senegal",
                  "country_id": "sn"
                },
                "coordinates": [
                  14.670833,
                  -17.072778
                ],
                "color": "#15AFAC",
                "styles": {},
                "label": "Dakar",
                "scale_factor": 1,
                "type": "#15AFAC",
                "size": [
                  55,
                  55
                ],
                "position": [
                  0,
                  0
                ],
                "parentId": "group#Senegal"
              },
              {
                "id": "JNB",
                "properties": {
                  "label": "Johannesburg",
                  "passengers": 9000000,
                  "country": "South Africa",
                  "country_id": "za"
                },
                "coordinates": [
                  -26.133694,
                  28.242317
                ],
                "color": "#15AFAC",
                "styles": {},
                "label": "Johannesburg",
                "scale_factor": 1,
                "type": "#15AFAC",
                "size": [
                  55,
                  55
                ],
                "position": [
                  0,
                  0
                ],
                "parentId": "group#South Africa"
              },
              {
                "id": "SYD",
                "properties": {
                  "label": "Sydney",
                  "passengers": 44000000,
                  "country": "Australia",
                  "country_id": "au"
                },
                "coordinates": [
                  -33.946111,
                  151.177222
                ],
                "color": "#15AFAC",
                "styles": {},
                "label": "Sydney",
                "scale_factor": 1,
                "type": "#15AFAC",
                "size": [
                  55,
                  55
                ],
                "position": [
                  0,
                  0
                ],
                "parentId": "group#Australia"
              },
              {
                "id": "NBO",
                "properties": {
                  "label": "Nairobi",
                  "passengers": 900000,
                  "country": "Kenya",
                  "country_id": "ke"
                },
                "coordinates": [
                  -1.319167,
                  36.927778
                ],
                "color": "#15AFAC",
                "styles": {},
                "label": "Nairobi",
                "scale_factor": 1,
                "type": "#15AFAC",
                "size": [
                  55,
                  55
                ],
                "position": [
                  0,
                  0
                ],
                "parentId": "group#Kenya"
              },
              {
                "id": "ATL",
                "properties": {
                  "label": "Atlanta",
                  "passengers": 93000000,
                  "country": "USA",
                  "country_id": "us"
                },
                "coordinates": [
                  33.639167,
                  -84.427778
                ],
                "color": "#15AFAC",
                "styles": {},
                "label": "Atlanta",
                "scale_factor": 1,
                "type": "#15AFAC",
                "size": [
                  55,
                  55
                ],
                "position": [
                  0,
                  0
                ],
                "parentId": "group#USA"
              },
              {
                "id": "JFK",
                "properties": {
                  "label": "New York City",
                  "passengers": 55000000,
                  "country": "USA",
                  "country_id": "us"
                },
                "coordinates": [
                  40.63975,
                  -73.778925
                ],
                "color": "#15AFAC",
                "styles": {},
                "label": "New York City",
                "scale_factor": 1,
                "type": "#15AFAC",
                "size": [
                  55,
                  55
                ],
                "position": [
                  0,
                  0
                ],
                "parentId": "group#USA"
              },
              {
                "id": "CAI",
                "properties": {
                  "label": "Cairo",
                  "passengers": 14000000,
                  "country": "Egypt",
                  "country_id": "eg"
                },
                "coordinates": [
                  30.121944,
                  31.405556
                ],
                "color": "#15AFAC",
                "styles": {},
                "label": "Cairo",
                "scale_factor": 1,
                "type": "#15AFAC",
                "size": [
                  55,
                  55
                ],
                "position": [
                  0,
                  0
                ],
                "parentId": "group#Egypt"
              },
              {
                "id": "CMN",
                "properties": {
                  "label": "Casablanca",
                  "passengers": 7000000,
                  "country": "Morocco",
                  "country_id": "ma"
                },
                "coordinates": [
                  33.367467,
                  -7.589967
                ],
                "color": "#15AFAC",
                "styles": {},
                "label": "Casablanca",
                "scale_factor": 1,
                "type": "#15AFAC",
                "size": [
                  55,
                  55
                ],
                "position": [
                  0,
                  0
                ],
                "parentId": "group#Morocco"
              },
              {
                "id": "LOS",
                "properties": {
                  "label": "Lagos",
                  "passengers": 5000000,
                  "country": "Nigeria",
                  "country_id": "ng"
                },
                "coordinates": [
                  6.577222,
                  3.321111
                ],
                "color": "#15AFAC",
                "styles": {},
                "label": "Lagos",
                "scale_factor": 1,
                "type": "#15AFAC",
                "size": [
                  55,
                  55
                ],
                "position": [
                  0,
                  0
                ],
                "parentId": "group#Nigeria"
              },
              {
                "id": "CPT",
                "properties": {
                  "label": "Cape Town",
                  "passengers": 5000000,
                  "country": "South Africa",
                  "country_id": "za"
                },
                "coordinates": [
                  -33.969444,
                  18.597222
                ],
                "color": "#15AFAC",
                "styles": {},
                "label": "Cape Town",
                "scale_factor": 1,
                "type": "#15AFAC",
                "size": [
                  55,
                  55
                ],
                "position": [
                  0,
                  0
                ],
                "parentId": "group#South Africa"
              },
              {
                "id": "CTU",
                "properties": {
                  "label": "Chengdu",
                  "passengers": 40000000,
                  "country": "China",
                  "country_id": "hk"
                },
                "coordinates": [
                  30.578333,
                  103.946944
                ],
                "color": "#15AFAC",
                "styles": {},
                "label": "Chengdu",
                "scale_factor": 1,
                "type": "#15AFAC",
                "size": [
                  55,
                  55
                ],
                "position": [
                  0,
                  0
                ],
                "parentId": "group#China"
              },
              {
                "id": "CGK",
                "properties": {
                  "label": "Jakarta",
                  "passengers": 54000000,
                  "country": "Indonesia",
                  "country_id": "id"
                },
                "coordinates": [
                  -6.125567,
                  106.655897
                ],
                "color": "#15AFAC",
                "styles": {},
                "label": "Jakarta",
                "scale_factor": 1,
                "type": "#15AFAC",
                "size": [
                  55,
                  55
                ],
                "position": [
                  0,
                  0
                ],
                "parentId": "group#Indonesia"
              },
              {
                "id": "IKA",
                "properties": {
                  "label": "Teheran",
                  "passengers": 8000000,
                  "country": "Iran",
                  "country_id": "ir"
                },
                "coordinates": [
                  35.416111,
                  51.152222
                ],
                "color": "#15AFAC",
                "styles": {},
                "label": "Teheran",
                "scale_factor": 1,
                "type": "#15AFAC",
                "size": [
                  55,
                  55
                ],
                "position": [
                  0,
                  0
                ],
                "parentId": "group#Iran"
              },
              {
                "id": "TLV",
                "properties": {
                  "label": "Tel Aviv",
                  "passengers": 20000000,
                  "country": "Israel",
                  "country_id": "il"
                },
                "coordinates": [
                  32.011389,
                  34.886667
                ],
                "color": "#15AFAC",
                "styles": {},
                "label": "Tel Aviv",
                "scale_factor": 1,
                "type": "#15AFAC",
                "size": [
                  55,
                  55
                ],
                "position": [
                  0,
                  0
                ],
                "parentId": "group#Israel"
              },
              {
                "id": "KUL",
                "properties": {
                  "label": "Kuala Lumpur",
                  "passengers": 25000000,
                  "country": "Malaysia",
                  "country_id": "my"
                },
                "coordinates": [
                  2.745578,
                  101.709917
                ],
                "color": "#15AFAC",
                "styles": {},
                "label": "Kuala Lumpur",
                "scale_factor": 1,
                "type": "#15AFAC",
                "size": [
                  55,
                  55
                ],
                "position": [
                  0,
                  0
                ],
                "parentId": "group#Malaysia"
              },
              {
                "id": "MNL",
                "properties": {
                  "label": "Manila",
                  "passengers": 8000000,
                  "country": "Philippines",
                  "country_id": "ph"
                },
                "coordinates": [
                  14.508647,
                  121.019581
                ],
                "color": "#15AFAC",
                "styles": {},
                "label": "Manila",
                "scale_factor": 1,
                "type": "#15AFAC",
                "size": [
                  55,
                  55
                ],
                "position": [
                  0,
                  0
                ],
                "parentId": "group#Philippines"
              },
              {
                "id": "SIN",
                "properties": {
                  "label": "Singapur",
                  "passengers": 32000000,
                  "country": "Singapore",
                  "country_id": "sg"
                },
                "coordinates": [
                  1.350189,
                  103.994433
                ],
                "color": "#15AFAC",
                "styles": {},
                "label": "Singapur",
                "scale_factor": 1,
                "type": "#15AFAC",
                "size": [
                  55,
                  55
                ],
                "position": [
                  0,
                  0
                ],
                "parentId": "group#Singapore"
              },
              {
                "id": "TPE",
                "properties": {
                  "label": "Taipeh",
                  "passengers": 800000,
                  "country": "Taiwan",
                  "country_id": "tw"
                },
                "coordinates": [
                  25.077732,
                  121.232822
                ],
                "color": "#15AFAC",
                "styles": {},
                "label": "Taipeh",
                "scale_factor": 1,
                "type": "#15AFAC",
                "size": [
                  55,
                  55
                ],
                "position": [
                  0,
                  0
                ],
                "parentId": "group#Taiwan"
              },
              {
                "id": "BKK",
                "properties": {
                  "label": "Bangkok",
                  "passengers": 65000000,
                  "country": "Thailand",
                  "country_id": "th"
                },
                "coordinates": [
                  13.681108,
                  100.747283
                ],
                "color": "#15AFAC",
                "styles": {},
                "label": "Bangkok",
                "scale_factor": 1,
                "type": "#15AFAC",
                "size": [
                  55,
                  55
                ],
                "position": [
                  0,
                  0
                ],
                "parentId": "group#Thailand"
              },
              {
                "id": "IST",
                "properties": {
                  "label": "Istanbul",
                  "passengers": 64000000,
                  "country": "Turkey",
                  "country_id": "tr"
                },
                "coordinates": [
                  40.976922,
                  28.814606
                ],
                "color": "#15AFAC",
                "styles": {},
                "label": "Istanbul",
                "scale_factor": 1,
                "type": "#15AFAC",
                "size": [
                  55,
                  55
                ],
                "position": [
                  0,
                  0
                ],
                "parentId": "group#Turkey"
              },
              {
                "id": "ULN",
                "properties": {
                  "label": "Ulaanbaatar",
                  "passengers": 1000000,
                  "country": "Mongolia",
                  "country_id": "mn"
                },
                "coordinates": [
                  47.843056,
                  106.766639
                ],
                "color": "#15AFAC",
                "styles": {},
                "label": "Ulaanbaatar",
                "scale_factor": 1,
                "type": "#15AFAC",
                "size": [
                  55,
                  55
                ],
                "position": [
                  0,
                  0
                ],
                "parentId": "group#Mongolia"
              },
              {
                "id": "MEL",
                "properties": {
                  "label": "Melbourne",
                  "passengers": 12000000,
                  "country": "Australia",
                  "country_id": "au"
                },
                "coordinates": [
                  -37.673333,
                  144.843333
                ],
                "color": "#15AFAC",
                "styles": {},
                "label": "Melbourne",
                "scale_factor": 1,
                "type": "#15AFAC",
                "size": [
                  55,
                  55
                ],
                "position": [
                  0,
                  0
                ],
                "parentId": "group#Australia"
              },
              {
                "id": "BNE",
                "properties": {
                  "label": "Brisbane",
                  "passengers": 23000000,
                  "country": "Australia",
                  "country_id": "au"
                },
                "coordinates": [
                  -27.383333,
                  153.118056
                ],
                "color": "#15AFAC",
                "styles": {},
                "label": "Brisbane",
                "scale_factor": 1,
                "type": "#15AFAC",
                "size": [
                  55,
                  55
                ],
                "position": [
                  0,
                  0
                ],
                "parentId": "group#Australia"
              },
              {
                "id": "NAN",
                "properties": {
                  "label": "Nadi",
                  "passengers": 2000000,
                  "country": "Fiji",
                  "country_id": "fj"
                },
                "coordinates": [
                  -17.755392,
                  177.443378
                ],
                "color": "#15AFAC",
                "styles": {},
                "label": "Nadi",
                "scale_factor": 1,
                "type": "#15AFAC",
                "size": [
                  55,
                  55
                ],
                "position": [
                  0,
                  0
                ],
                "parentId": "group#Fiji"
              },
              {
                "id": "AKL",
                "properties": {
                  "label": "Auckland",
                  "passengers": 21000000,
                  "country": "New Zealand",
                  "country_id": "nz"
                },
                "coordinates": [
                  -37.008056,
                  174.791667
                ],
                "color": "#15AFAC",
                "styles": {},
                "label": "Auckland",
                "scale_factor": 1,
                "type": "#15AFAC",
                "size": [
                  55,
                  55
                ],
                "position": [
                  0,
                  0
                ],
                "parentId": "group#New Zealand"
              },
              {
                "id": "CDG",
                "properties": {
                  "label": "Paris",
                  "passengers": 57000000,
                  "country": "France",
                  "country_id": "fr"
                },
                "coordinates": [
                  49.009722,
                  2.547778
                ],
                "color": "#15AFAC",
                "styles": {},
                "label": "Paris",
                "scale_factor": 1,
                "type": "#15AFAC",
                "size": [
                  55,
                  55
                ],
                "position": [
                  0,
                  0
                ],
                "parentId": "group#France"
              },
              {
                "id": "MAD",
                "properties": {
                  "label": "Madrid",
                  "passengers": 50000000,
                  "country": "Spain",
                  "country_id": "es"
                },
                "coordinates": [
                  40.4675,
                  -3.551944
                ],
                "color": "#15AFAC",
                "styles": {},
                "label": "Madrid",
                "scale_factor": 1,
                "type": "#15AFAC",
                "size": [
                  55,
                  55
                ],
                "position": [
                  0,
                  0
                ],
                "parentId": "group#Spain"
              },
              {
                "id": "BCN",
                "properties": {
                  "label": "Barcelona",
                  "passengers": 41000000,
                  "country": "Spain",
                  "country_id": "es"
                },
                "coordinates": [
                  41.297078,
                  2.078464
                ],
                "color": "#15AFAC",
                "styles": {},
                "label": "Barcelona",
                "scale_factor": 1,
                "type": "#15AFAC",
                "size": [
                  55,
                  55
                ],
                "position": [
                  0,
                  0
                ],
                "parentId": "group#Spain"
              },
              {
                "id": "FCO",
                "properties": {
                  "label": "Rome",
                  "passengers": 29000000,
                  "country": "Italy",
                  "country_id": "it"
                },
                "coordinates": [
                  41.804444,
                  12.250833
                ],
                "color": "#15AFAC",
                "styles": {},
                "label": "Rome",
                "scale_factor": 1,
                "type": "#15AFAC",
                "size": [
                  55,
                  55
                ],
                "position": [
                  0,
                  0
                ],
                "parentId": "group#Italy"
              },
              {
                "id": "CPH",
                "properties": {
                  "label": "Copenhagen",
                  "passengers": 30000000,
                  "country": "Denmark",
                  "country_id": "dk"
                },
                "coordinates": [
                  55.617917,
                  12.655972
                ],
                "color": "#15AFAC",
                "styles": {},
                "label": "Copenhagen",
                "scale_factor": 1,
                "type": "#15AFAC",
                "size": [
                  55,
                  55
                ],
                "position": [
                  0,
                  0
                ],
                "parentId": "group#Denmark"
              },
              {
                "id": "HEL",
                "properties": {
                  "label": "Helsinki",
                  "passengers": 5000000,
                  "country": "Finland",
                  "country_id": "fi"
                },
                "coordinates": [
                  60.317222,
                  24.963333
                ],
                "color": "#15AFAC",
                "styles": {},
                "label": "Helsinki",
                "scale_factor": 1,
                "type": "#15AFAC",
                "size": [
                  55,
                  55
                ],
                "position": [
                  0,
                  0
                ],
                "parentId": "group#Finland"
              },
              {
                "id": "ATH",
                "properties": {
                  "label": "Athens",
                  "passengers": 22000000,
                  "country": "Greece",
                  "country_id": "gr"
                },
                "coordinates": [
                  37.936358,
                  23.944467
                ],
                "color": "#15AFAC",
                "styles": {},
                "label": "Athens",
                "scale_factor": 1,
                "type": "#15AFAC",
                "size": [
                  55,
                  55
                ],
                "position": [
                  0,
                  0
                ],
                "parentId": "group#Greece"
              },
              {
                "id": "DUB",
                "properties": {
                  "label": "Dublin",
                  "passengers": 32000000,
                  "country": "Ireland",
                  "country_id": "ie"
                },
                "coordinates": [
                  53.421333,
                  -6.270075
                ],
                "color": "#15AFAC",
                "styles": {},
                "label": "Dublin",
                "scale_factor": 1,
                "type": "#15AFAC",
                "size": [
                  55,
                  55
                ],
                "position": [
                  0,
                  0
                ],
                "parentId": "group#Ireland"
              },
              {
                "id": "RKV",
                "properties": {
                  "label": "Reykjavik",
                  "passengers": 400000,
                  "country": "Iceland",
                  "country_id": "is"
                },
                "coordinates": [
                  64.13,
                  -21.940556
                ],
                "color": "#15AFAC",
                "styles": {},
                "label": "Reykjavik",
                "scale_factor": 1,
                "type": "#15AFAC",
                "size": [
                  55,
                  55
                ],
                "position": [
                  0,
                  0
                ],
                "parentId": "group#Iceland"
              },
              {
                "id": "OSL",
                "properties": {
                  "label": "Oslo",
                  "passengers": 9000000,
                  "country": "Norway",
                  "country_id": "no"
                },
                "coordinates": [
                  60.193917,
                  11.100361
                ],
                "color": "#15AFAC",
                "styles": {},
                "label": "Oslo",
                "scale_factor": 1,
                "type": "#15AFAC",
                "size": [
                  55,
                  55
                ],
                "position": [
                  0,
                  0
                ],
                "parentId": "group#Norway"
              },
              {
                "id": "VIE",
                "properties": {
                  "label": "Vienna",
                  "passengers": 10000000,
                  "country": "Austria",
                  "country_id": "at"
                },
                "coordinates": [
                  48.110833,
                  16.570833
                ],
                "color": "#15AFAC",
                "styles": {},
                "label": "Vienna",
                "scale_factor": 1,
                "type": "#15AFAC",
                "size": [
                  55,
                  55
                ],
                "position": [
                  0,
                  0
                ],
                "parentId": "group#Austria"
              },
              {
                "id": "LIS",
                "properties": {
                  "label": "Lisbon",
                  "passengers": 28000000,
                  "country": "Portugal",
                  "country_id": "pt"
                },
                "coordinates": [
                  38.774167,
                  -9.134167
                ],
                "color": "#15AFAC",
                "styles": {},
                "label": "Lisbon",
                "scale_factor": 1,
                "type": "#15AFAC",
                "size": [
                  55,
                  55
                ],
                "position": [
                  0,
                  0
                ],
                "parentId": "group#Portugal"
              },
              {
                "id": "ARN",
                "properties": {
                  "label": "Stockholm",
                  "passengers": 7000000,
                  "country": "Sweden",
                  "country_id": "se"
                },
                "coordinates": [
                  59.651944,
                  17.918611
                ],
                "color": "#15AFAC",
                "styles": {},
                "label": "Stockholm",
                "scale_factor": 1,
                "type": "#15AFAC",
                "size": [
                  55,
                  55
                ],
                "position": [
                  0,
                  0
                ],
                "parentId": "group#Sweden"
              },
              {
                "id": "EDI",
                "properties": {
                  "label": "Edinburgh",
                  "passengers": 14000000,
                  "country": "UK",
                  "country_id": "gb"
                },
                "coordinates": [
                  55.95,
                  -3.3725
                ],
                "color": "#15AFAC",
                "styles": {},
                "label": "Edinburgh",
                "scale_factor": 1,
                "type": "#15AFAC",
                "size": [
                  55,
                  55
                ],
                "position": [
                  0,
                  0
                ],
                "parentId": "group#UK"
              },
              {
                "id": "ORD",
                "properties": {
                  "label": "Chicago",
                  "passengers": 54000000,
                  "country": "USA",
                  "country_id": "us"
                },
                "coordinates": [
                  41.978603,
                  -87.904842
                ],
                "color": "#15AFAC",
                "styles": {},
                "label": "Chicago",
                "scale_factor": 1,
                "type": "#15AFAC",
                "size": [
                  55,
                  55
                ],
                "position": [
                  0,
                  0
                ],
                "parentId": "group#USA"
              },
              {
                "id": "DFW",
                "properties": {
                  "label": "Dallas",
                  "passengers": 73000000,
                  "country": "USA",
                  "country_id": "us"
                },
                "coordinates": [
                  32.896828,
                  -97.037997
                ],
                "color": "#15AFAC",
                "styles": {},
                "label": "Dallas",
                "scale_factor": 1,
                "type": "#15AFAC",
                "size": [
                  55,
                  55
                ],
                "position": [
                  0,
                  0
                ],
                "parentId": "group#USA"
              },
              {
                "id": "SFO",
                "properties": {
                  "label": "San Francisco",
                  "passengers": 42000000,
                  "country": "USA",
                  "country_id": "us"
                },
                "coordinates": [
                  37.618972,
                  -122.374889
                ],
                "color": "#15AFAC",
                "styles": {},
                "label": "San Francisco",
                "scale_factor": 1,
                "type": "#15AFAC",
                "size": [
                  55,
                  55
                ],
                "position": [
                  0,
                  0
                ],
                "parentId": "group#USA"
              },
              {
                "id": "LAS",
                "properties": {
                  "label": "Las Vegas",
                  "passengers": 52000000,
                  "country": "USA",
                  "country_id": "us"
                },
                "coordinates": [
                  36.080056,
                  -115.15225
                ],
                "color": "#15AFAC",
                "styles": {},
                "label": "Las Vegas",
                "scale_factor": 1,
                "type": "#15AFAC",
                "size": [
                  55,
                  55
                ],
                "position": [
                  0,
                  0
                ],
                "parentId": "group#USA"
              },
              {
                "id": "MIA",
                "properties": {
                  "label": "Miami",
                  "passengers": 50000000,
                  "country": "USA",
                  "country_id": "us"
                },
                "coordinates": [
                  25.79325,
                  -80.290556
                ],
                "color": "#15AFAC",
                "styles": {},
                "label": "Miami",
                "scale_factor": 1,
                "type": "#15AFAC",
                "size": [
                  55,
                  55
                ],
                "position": [
                  0,
                  0
                ],
                "parentId": "group#USA"
              },
              {
                "id": "YYZ",
                "properties": {
                  "label": "Toronto",
                  "passengers": 12000000,
                  "country": "Canada",
                  "country_id": "ca"
                },
                "coordinates": [
                  43.677222,
                  -79.630556
                ],
                "color": "#15AFAC",
                "styles": {},
                "label": "Toronto",
                "scale_factor": 1,
                "type": "#15AFAC",
                "size": [
                  55,
                  55
                ],
                "position": [
                  0,
                  0
                ],
                "parentId": "group#Canada"
              },
              {
                "id": "YVR",
                "properties": {
                  "label": "Vancouver",
                  "passengers": 19000000,
                  "country": "Canada",
                  "country_id": "ca"
                },
                "coordinates": [
                  49.193889,
                  -123.184444
                ],
                "color": "#15AFAC",
                "styles": {},
                "label": "Vancouver",
                "scale_factor": 1,
                "type": "#15AFAC",
                "size": [
                  55,
                  55
                ],
                "position": [
                  0,
                  0
                ],
                "parentId": "group#Canada"
              },
              {
                "id": "YUL",
                "properties": {
                  "label": "Montreal",
                  "passengers": 15000000,
                  "country": "Canada",
                  "country_id": "ca"
                },
                "coordinates": [
                  45.47175,
                  -73.736569
                ],
                "color": "#15AFAC",
                "styles": {},
                "label": "Montreal",
                "scale_factor": 1,
                "type": "#15AFAC",
                "size": [
                  55,
                  55
                ],
                "position": [
                  0,
                  0
                ],
                "parentId": "group#Canada"
              },
              {
                "id": "MEX",
                "properties": {
                  "label": "Mexico-City",
                  "passengers": 46000000,
                  "country": "Mexico",
                  "country_id": "mx"
                },
                "coordinates": [
                  19.436303,
                  -99.072097
                ],
                "color": "#15AFAC",
                "styles": {},
                "label": "Mexico-City",
                "scale_factor": 1,
                "type": "#15AFAC",
                "size": [
                  55,
                  55
                ],
                "position": [
                  0,
                  0
                ],
                "parentId": "group#Mexico"
              },
              {
                "id": "GUA",
                "properties": {
                  "label": "Guatemala-City",
                  "passengers": 2000000,
                  "country": "Guatemala",
                  "country_id": "gt"
                },
                "coordinates": [
                  14.583272,
                  -90.527475
                ],
                "color": "#15AFAC",
                "styles": {},
                "label": "Guatemala-City",
                "scale_factor": 1,
                "type": "#15AFAC",
                "size": [
                  55,
                  55
                ],
                "position": [
                  0,
                  0
                ],
                "parentId": "group#Guatemala"
              },
              {
                "id": "EZE",
                "properties": {
                  "label": "Buenos Aires",
                  "passengers": 5000000,
                  "country": "Argentina",
                  "country_id": "ar"
                },
                "coordinates": [
                  -34.822222,
                  -58.535833
                ],
                "color": "#15AFAC",
                "styles": {},
                "label": "Buenos Aires",
                "scale_factor": 1,
                "type": "#15AFAC",
                "size": [
                  55,
                  55
                ],
                "position": [
                  0,
                  0
                ],
                "parentId": "group#Argentina"
              },
              {
                "id": "GRU",
                "properties": {
                  "label": "Sao Paulo",
                  "passengers": 34000000,
                  "country": "Brazil",
                  "country_id": "br"
                },
                "coordinates": [
                  -23.432075,
                  -46.469511
                ],
                "color": "#15AFAC",
                "styles": {},
                "label": "Sao Paulo",
                "scale_factor": 1,
                "type": "#15AFAC",
                "size": [
                  55,
                  55
                ],
                "position": [
                  0,
                  0
                ],
                "parentId": "group#Brazil"
              },
              {
                "id": "SCL",
                "properties": {
                  "label": "Santiago de Chile",
                  "passengers": 20000000,
                  "country": "Chile",
                  "country_id": "cl"
                },
                "coordinates": [
                  -33.392975,
                  -70.785803
                ],
                "color": "#15AFAC",
                "styles": {},
                "label": "Santiago de Chile",
                "scale_factor": 1,
                "type": "#15AFAC",
                "size": [
                  55,
                  55
                ],
                "position": [
                  0,
                  0
                ],
                "parentId": "group#Chile"
              },
              {
                "id": "BSB",
                "properties": {
                  "label": "Brasilia",
                  "passengers": 13000000,
                  "country": "Brazil",
                  "country_id": "br"
                },
                "coordinates": [
                  -15.871111,
                  -47.918611
                ],
                "color": "#15AFAC",
                "styles": {},
                "label": "Brasilia",
                "scale_factor": 1,
                "type": "#15AFAC",
                "size": [
                  55,
                  55
                ],
                "position": [
                  0,
                  0
                ],
                "parentId": "group#Brazil"
              },
              {
                "id": "BOG",
                "properties": {
                  "label": "Bogota",
                  "passengers": 36000000,
                  "country": "Colombia",
                  "country_id": "co"
                },
                "coordinates": [
                  4.701594,
                  -74.146947
                ],
                "color": "#15AFAC",
                "styles": {},
                "label": "Bogota",
                "scale_factor": 1,
                "type": "#15AFAC",
                "size": [
                  55,
                  55
                ],
                "position": [
                  0,
                  0
                ],
                "parentId": "group#Colombia"
              },
              {
                "id": "CCS",
                "properties": {
                  "label": "Caracas",
                  "passengers": 8000000,
                  "country": "Venezuela",
                  "country_id": "ve"
                },
                "coordinates": [
                  10.601194,
                  -66.991222
                ],
                "color": "#15AFAC",
                "styles": {},
                "label": "Caracas",
                "scale_factor": 1,
                "type": "#15AFAC",
                "size": [
                  55,
                  55
                ],
                "position": [
                  0,
                  0
                ],
                "parentId": "group#Venezuela"
              },
              {
                "id": "group#USA",
                "properties": {
                  "label": "USA"
                },
                "color": "#15AFAC",
                "styles": {},
                "label": "USA",
                "scale_factor": 1,
                "type": "#15AFAC",
                "size": [
                  55,
                  55
                ],
                "position": [
                  0,
                  0
                ]
              },
              {
                "id": "group#Brazil",
                "properties": {
                  "label": "Brazil"
                },
                "color": "#15AFAC",
                "styles": {},
                "label": "Brazil",
                "scale_factor": 1,
                "type": "#15AFAC",
                "size": [
                  55,
                  55
                ],
                "position": [
                  0,
                  0
                ]
              },
              {
                "id": "group#Peru",
                "properties": {
                  "label": "Peru"
                },
                "color": "#15AFAC",
                "styles": {},
                "label": "Peru",
                "scale_factor": 1,
                "type": "#15AFAC",
                "size": [
                  55,
                  55
                ],
                "position": [
                  0,
                  0
                ]
              },
              {
                "id": "group#UK",
                "properties": {
                  "label": "UK"
                },
                "color": "#15AFAC",
                "styles": {},
                "label": "UK",
                "scale_factor": 1,
                "type": "#15AFAC",
                "size": [
                  55,
                  55
                ],
                "position": [
                  0,
                  0
                ]
              },
              {
                "id": "group#Germany",
                "properties": {
                  "label": "Germany"
                },
                "color": "#15AFAC",
                "styles": {},
                "label": "Germany",
                "scale_factor": 1,
                "type": "#15AFAC",
                "size": [
                  55,
                  55
                ],
                "position": [
                  0,
                  0
                ]
              },
              {
                "id": "group#Russia",
                "properties": {
                  "label": "Russia"
                },
                "color": "#15AFAC",
                "styles": {},
                "label": "Russia",
                "scale_factor": 1,
                "type": "#15AFAC",
                "size": [
                  55,
                  55
                ],
                "position": [
                  0,
                  0
                ]
              },
              {
                "id": "group#India",
                "properties": {
                  "label": "India"
                },
                "color": "#15AFAC",
                "styles": {},
                "label": "India",
                "scale_factor": 1,
                "type": "#15AFAC",
                "size": [
                  55,
                  55
                ],
                "position": [
                  0,
                  0
                ]
              },
              {
                "id": "group#China",
                "properties": {
                  "label": "China"
                },
                "color": "#15AFAC",
                "styles": {},
                "label": "China",
                "scale_factor": 1,
                "type": "#15AFAC",
                "size": [
                  55,
                  55
                ],
                "position": [
                  0,
                  0
                ]
              },
              {
                "id": "group#China",
                "properties": {
                  "label": "China"
                },
                "color": "#15AFAC",
                "styles": {},
                "label": "China",
                "scale_factor": 1,
                "type": "#15AFAC",
                "size": [
                  55,
                  55
                ],
                "position": [
                  0,
                  0
                ]
              },
              {
                "id": "group#Japan",
                "properties": {
                  "label": "Japan"
                },
                "color": "#15AFAC",
                "styles": {},
                "label": "Japan",
                "scale_factor": 1,
                "type": "#15AFAC",
                "size": [
                  55,
                  55
                ],
                "position": [
                  0,
                  0
                ]
              },
              {
                "id": "group#UAE",
                "properties": {
                  "label": "UAE"
                },
                "color": "#15AFAC",
                "styles": {},
                "label": "UAE",
                "scale_factor": 1,
                "type": "#15AFAC",
                "size": [
                  55,
                  55
                ],
                "position": [
                  0,
                  0
                ]
              },
              {
                "id": "group#Senegal",
                "properties": {
                  "label": "Senegal"
                },
                "color": "#15AFAC",
                "styles": {},
                "label": "Senegal",
                "scale_factor": 1,
                "type": "#15AFAC",
                "size": [
                  55,
                  55
                ],
                "position": [
                  0,
                  0
                ]
              },
              {
                "id": "group#South Africa",
                "properties": {
                  "label": "South Africa"
                },
                "color": "#15AFAC",
                "styles": {},
                "label": "South Africa",
                "scale_factor": 1,
                "type": "#15AFAC",
                "size": [
                  55,
                  55
                ],
                "position": [
                  0,
                  0
                ]
              },
              {
                "id": "group#Australia",
                "properties": {
                  "label": "Australia"
                },
                "color": "#15AFAC",
                "styles": {},
                "label": "Australia",
                "scale_factor": 1,
                "type": "#15AFAC",
                "size": [
                  55,
                  55
                ],
                "position": [
                  0,
                  0
                ]
              },
              {
                "id": "group#Kenya",
                "properties": {
                  "label": "Kenya"
                },
                "color": "#15AFAC",
                "styles": {},
                "label": "Kenya",
                "scale_factor": 1,
                "type": "#15AFAC",
                "size": [
                  55,
                  55
                ],
                "position": [
                  0,
                  0
                ]
              },
              {
                "id": "group#USA",
                "properties": {
                  "label": "USA"
                },
                "color": "#15AFAC",
                "styles": {},
                "label": "USA",
                "scale_factor": 1,
                "type": "#15AFAC",
                "size": [
                  55,
                  55
                ],
                "position": [
                  0,
                  0
                ]
              },
              {
                "id": "group#USA",
                "properties": {
                  "label": "USA"
                },
                "color": "#15AFAC",
                "styles": {},
                "label": "USA",
                "scale_factor": 1,
                "type": "#15AFAC",
                "size": [
                  55,
                  55
                ],
                "position": [
                  0,
                  0
                ]
              },
              {
                "id": "group#Egypt",
                "properties": {
                  "label": "Egypt"
                },
                "color": "#15AFAC",
                "styles": {},
                "label": "Egypt",
                "scale_factor": 1,
                "type": "#15AFAC",
                "size": [
                  55,
                  55
                ],
                "position": [
                  0,
                  0
                ]
              },
              {
                "id": "group#Morocco",
                "properties": {
                  "label": "Morocco"
                },
                "color": "#15AFAC",
                "styles": {},
                "label": "Morocco",
                "scale_factor": 1,
                "type": "#15AFAC",
                "size": [
                  55,
                  55
                ],
                "position": [
                  0,
                  0
                ]
              },
              {
                "id": "group#Nigeria",
                "properties": {
                  "label": "Nigeria"
                },
                "color": "#15AFAC",
                "styles": {},
                "label": "Nigeria",
                "scale_factor": 1,
                "type": "#15AFAC",
                "size": [
                  55,
                  55
                ],
                "position": [
                  0,
                  0
                ]
              },
              {
                "id": "group#South Africa",
                "properties": {
                  "label": "South Africa"
                },
                "color": "#15AFAC",
                "styles": {},
                "label": "South Africa",
                "scale_factor": 1,
                "type": "#15AFAC",
                "size": [
                  55,
                  55
                ],
                "position": [
                  0,
                  0
                ]
              },
              {
                "id": "group#China",
                "properties": {
                  "label": "China"
                },
                "color": "#15AFAC",
                "styles": {},
                "label": "China",
                "scale_factor": 1,
                "type": "#15AFAC",
                "size": [
                  55,
                  55
                ],
                "position": [
                  0,
                  0
                ]
              },
              {
                "id": "group#Indonesia",
                "properties": {
                  "label": "Indonesia"
                },
                "color": "#15AFAC",
                "styles": {},
                "label": "Indonesia",
                "scale_factor": 1,
                "type": "#15AFAC",
                "size": [
                  55,
                  55
                ],
                "position": [
                  0,
                  0
                ]
              },
              {
                "id": "group#Iran",
                "properties": {
                  "label": "Iran"
                },
                "color": "#15AFAC",
                "styles": {},
                "label": "Iran",
                "scale_factor": 1,
                "type": "#15AFAC",
                "size": [
                  55,
                  55
                ],
                "position": [
                  0,
                  0
                ]
              },
              {
                "id": "group#Israel",
                "properties": {
                  "label": "Israel"
                },
                "color": "#15AFAC",
                "styles": {},
                "label": "Israel",
                "scale_factor": 1,
                "type": "#15AFAC",
                "size": [
                  55,
                  55
                ],
                "position": [
                  0,
                  0
                ]
              },
              {
                "id": "group#Malaysia",
                "properties": {
                  "label": "Malaysia"
                },
                "color": "#15AFAC",
                "styles": {},
                "label": "Malaysia",
                "scale_factor": 1,
                "type": "#15AFAC",
                "size": [
                  55,
                  55
                ],
                "position": [
                  0,
                  0
                ]
              },
              {
                "id": "group#Philippines",
                "properties": {
                  "label": "Philippines"
                },
                "color": "#15AFAC",
                "styles": {},
                "label": "Philippines",
                "scale_factor": 1,
                "type": "#15AFAC",
                "size": [
                  55,
                  55
                ],
                "position": [
                  0,
                  0
                ]
              },
              {
                "id": "group#Singapore",
                "properties": {
                  "label": "Singapore"
                },
                "color": "#15AFAC",
                "styles": {},
                "label": "Singapore",
                "scale_factor": 1,
                "type": "#15AFAC",
                "size": [
                  55,
                  55
                ],
                "position": [
                  0,
                  0
                ]
              },
              {
                "id": "group#Taiwan",
                "properties": {
                  "label": "Taiwan"
                },
                "color": "#15AFAC",
                "styles": {},
                "label": "Taiwan",
                "scale_factor": 1,
                "type": "#15AFAC",
                "size": [
                  55,
                  55
                ],
                "position": [
                  0,
                  0
                ]
              },
              {
                "id": "group#Thailand",
                "properties": {
                  "label": "Thailand"
                },
                "color": "#15AFAC",
                "styles": {},
                "label": "Thailand",
                "scale_factor": 1,
                "type": "#15AFAC",
                "size": [
                  55,
                  55
                ],
                "position": [
                  0,
                  0
                ]
              },
              {
                "id": "group#Turkey",
                "properties": {
                  "label": "Turkey"
                },
                "color": "#15AFAC",
                "styles": {},
                "label": "Turkey",
                "scale_factor": 1,
                "type": "#15AFAC",
                "size": [
                  55,
                  55
                ],
                "position": [
                  0,
                  0
                ]
              },
              {
                "id": "group#Mongolia",
                "properties": {
                  "label": "Mongolia"
                },
                "color": "#15AFAC",
                "styles": {},
                "label": "Mongolia",
                "scale_factor": 1,
                "type": "#15AFAC",
                "size": [
                  55,
                  55
                ],
                "position": [
                  0,
                  0
                ]
              },
              {
                "id": "group#Australia",
                "properties": {
                  "label": "Australia"
                },
                "color": "#15AFAC",
                "styles": {},
                "label": "Australia",
                "scale_factor": 1,
                "type": "#15AFAC",
                "size": [
                  55,
                  55
                ],
                "position": [
                  0,
                  0
                ]
              },
              {
                "id": "group#Australia",
                "properties": {
                  "label": "Australia"
                },
                "color": "#15AFAC",
                "styles": {},
                "label": "Australia",
                "scale_factor": 1,
                "type": "#15AFAC",
                "size": [
                  55,
                  55
                ],
                "position": [
                  0,
                  0
                ]
              },
              {
                "id": "group#Fiji",
                "properties": {
                  "label": "Fiji"
                },
                "color": "#15AFAC",
                "styles": {},
                "label": "Fiji",
                "scale_factor": 1,
                "type": "#15AFAC",
                "size": [
                  55,
                  55
                ],
                "position": [
                  0,
                  0
                ]
              },
              {
                "id": "group#New Zealand",
                "properties": {
                  "label": "New Zealand"
                },
                "color": "#15AFAC",
                "styles": {},
                "label": "New Zealand",
                "scale_factor": 1,
                "type": "#15AFAC",
                "size": [
                  55,
                  55
                ],
                "position": [
                  0,
                  0
                ]
              },
              {
                "id": "group#France",
                "properties": {
                  "label": "France"
                },
                "color": "#15AFAC",
                "styles": {},
                "label": "France",
                "scale_factor": 1,
                "type": "#15AFAC",
                "size": [
                  55,
                  55
                ],
                "position": [
                  0,
                  0
                ]
              },
              {
                "id": "group#Spain",
                "properties": {
                  "label": "Spain"
                },
                "color": "#15AFAC",
                "styles": {},
                "label": "Spain",
                "scale_factor": 1,
                "type": "#15AFAC",
                "size": [
                  55,
                  55
                ],
                "position": [
                  0,
                  0
                ]
              },
              {
                "id": "group#Spain",
                "properties": {
                  "label": "Spain"
                },
                "color": "#15AFAC",
                "styles": {},
                "label": "Spain",
                "scale_factor": 1,
                "type": "#15AFAC",
                "size": [
                  55,
                  55
                ],
                "position": [
                  0,
                  0
                ]
              },
              {
                "id": "group#Italy",
                "properties": {
                  "label": "Italy"
                },
                "color": "#15AFAC",
                "styles": {},
                "label": "Italy",
                "scale_factor": 1,
                "type": "#15AFAC",
                "size": [
                  55,
                  55
                ],
                "position": [
                  0,
                  0
                ]
              },
              {
                "id": "group#Denmark",
                "properties": {
                  "label": "Denmark"
                },
                "color": "#15AFAC",
                "styles": {},
                "label": "Denmark",
                "scale_factor": 1,
                "type": "#15AFAC",
                "size": [
                  55,
                  55
                ],
                "position": [
                  0,
                  0
                ]
              },
              {
                "id": "group#Finland",
                "properties": {
                  "label": "Finland"
                },
                "color": "#15AFAC",
                "styles": {},
                "label": "Finland",
                "scale_factor": 1,
                "type": "#15AFAC",
                "size": [
                  55,
                  55
                ],
                "position": [
                  0,
                  0
                ]
              },
              {
                "id": "group#Greece",
                "properties": {
                  "label": "Greece"
                },
                "color": "#15AFAC",
                "styles": {},
                "label": "Greece",
                "scale_factor": 1,
                "type": "#15AFAC",
                "size": [
                  55,
                  55
                ],
                "position": [
                  0,
                  0
                ]
              },
              {
                "id": "group#Ireland",
                "properties": {
                  "label": "Ireland"
                },
                "color": "#15AFAC",
                "styles": {},
                "label": "Ireland",
                "scale_factor": 1,
                "type": "#15AFAC",
                "size": [
                  55,
                  55
                ],
                "position": [
                  0,
                  0
                ]
              },
              {
                "id": "group#Iceland",
                "properties": {
                  "label": "Iceland"
                },
                "color": "#15AFAC",
                "styles": {},
                "label": "Iceland",
                "scale_factor": 1,
                "type": "#15AFAC",
                "size": [
                  55,
                  55
                ],
                "position": [
                  0,
                  0
                ]
              },
              {
                "id": "group#Norway",
                "properties": {
                  "label": "Norway"
                },
                "color": "#15AFAC",
                "styles": {},
                "label": "Norway",
                "scale_factor": 1,
                "type": "#15AFAC",
                "size": [
                  55,
                  55
                ],
                "position": [
                  0,
                  0
                ]
              },
              {
                "id": "group#Austria",
                "properties": {
                  "label": "Austria"
                },
                "color": "#15AFAC",
                "styles": {},
                "label": "Austria",
                "scale_factor": 1,
                "type": "#15AFAC",
                "size": [
                  55,
                  55
                ],
                "position": [
                  0,
                  0
                ]
              },
              {
                "id": "group#Portugal",
                "properties": {
                  "label": "Portugal"
                },
                "color": "#15AFAC",
                "styles": {},
                "label": "Portugal",
                "scale_factor": 1,
                "type": "#15AFAC",
                "size": [
                  55,
                  55
                ],
                "position": [
                  0,
                  0
                ]
              },
              {
                "id": "group#Sweden",
                "properties": {
                  "label": "Sweden"
                },
                "color": "#15AFAC",
                "styles": {},
                "label": "Sweden",
                "scale_factor": 1,
                "type": "#15AFAC",
                "size": [
                  55,
                  55
                ],
                "position": [
                  0,
                  0
                ]
              },
              {
                "id": "group#UK",
                "properties": {
                  "label": "UK"
                },
                "color": "#15AFAC",
                "styles": {},
                "label": "UK",
                "scale_factor": 1,
                "type": "#15AFAC",
                "size": [
                  55,
                  55
                ],
                "position": [
                  0,
                  0
                ]
              },
              {
                "id": "group#USA",
                "properties": {
                  "label": "USA"
                },
                "color": "#15AFAC",
                "styles": {},
                "label": "USA",
                "scale_factor": 1,
                "type": "#15AFAC",
                "size": [
                  55,
                  55
                ],
                "position": [
                  0,
                  0
                ]
              },
              {
                "id": "group#USA",
                "properties": {
                  "label": "USA"
                },
                "color": "#15AFAC",
                "styles": {},
                "label": "USA",
                "scale_factor": 1,
                "type": "#15AFAC",
                "size": [
                  55,
                  55
                ],
                "position": [
                  0,
                  0
                ]
              },
              {
                "id": "group#USA",
                "properties": {
                  "label": "USA"
                },
                "color": "#15AFAC",
                "styles": {},
                "label": "USA",
                "scale_factor": 1,
                "type": "#15AFAC",
                "size": [
                  55,
                  55
                ],
                "position": [
                  0,
                  0
                ]
              },
              {
                "id": "group#USA",
                "properties": {
                  "label": "USA"
                },
                "color": "#15AFAC",
                "styles": {},
                "label": "USA",
                "scale_factor": 1,
                "type": "#15AFAC",
                "size": [
                  55,
                  55
                ],
                "position": [
                  0,
                  0
                ]
              },
              {
                "id": "group#USA",
                "properties": {
                  "label": "USA"
                },
                "color": "#15AFAC",
                "styles": {},
                "label": "USA",
                "scale_factor": 1,
                "type": "#15AFAC",
                "size": [
                  55,
                  55
                ],
                "position": [
                  0,
                  0
                ]
              },
              {
                "id": "group#Canada",
                "properties": {
                  "label": "Canada"
                },
                "color": "#15AFAC",
                "styles": {},
                "label": "Canada",
                "scale_factor": 1,
                "type": "#15AFAC",
                "size": [
                  55,
                  55
                ],
                "position": [
                  0,
                  0
                ]
              },
              {
                "id": "group#Canada",
                "properties": {
                  "label": "Canada"
                },
                "color": "#15AFAC",
                "styles": {},
                "label": "Canada",
                "scale_factor": 1,
                "type": "#15AFAC",
                "size": [
                  55,
                  55
                ],
                "position": [
                  0,
                  0
                ]
              },
              {
                "id": "group#Canada",
                "properties": {
                  "label": "Canada"
                },
                "color": "#15AFAC",
                "styles": {},
                "label": "Canada",
                "scale_factor": 1,
                "type": "#15AFAC",
                "size": [
                  55,
                  55
                ],
                "position": [
                  0,
                  0
                ]
              },
              {
                "id": "group#Mexico",
                "properties": {
                  "label": "Mexico"
                },
                "color": "#15AFAC",
                "styles": {},
                "label": "Mexico",
                "scale_factor": 1,
                "type": "#15AFAC",
                "size": [
                  55,
                  55
                ],
                "position": [
                  0,
                  0
                ]
              },
              {
                "id": "group#Guatemala",
                "properties": {
                  "label": "Guatemala"
                },
                "color": "#15AFAC",
                "styles": {},
                "label": "Guatemala",
                "scale_factor": 1,
                "type": "#15AFAC",
                "size": [
                  55,
                  55
                ],
                "position": [
                  0,
                  0
                ]
              },
              {
                "id": "group#Argentina",
                "properties": {
                  "label": "Argentina"
                },
                "color": "#15AFAC",
                "styles": {},
                "label": "Argentina",
                "scale_factor": 1,
                "type": "#15AFAC",
                "size": [
                  55,
                  55
                ],
                "position": [
                  0,
                  0
                ]
              },
              {
                "id": "group#Brazil",
                "properties": {
                  "label": "Brazil"
                },
                "color": "#15AFAC",
                "styles": {},
                "label": "Brazil",
                "scale_factor": 1,
                "type": "#15AFAC",
                "size": [
                  55,
                  55
                ],
                "position": [
                  0,
                  0
                ]
              },
              {
                "id": "group#Chile",
                "properties": {
                  "label": "Chile"
                },
                "color": "#15AFAC",
                "styles": {},
                "label": "Chile",
                "scale_factor": 1,
                "type": "#15AFAC",
                "size": [
                  55,
                  55
                ],
                "position": [
                  0,
                  0
                ]
              },
              {
                "id": "group#Brazil",
                "properties": {
                  "label": "Brazil"
                },
                "color": "#15AFAC",
                "styles": {},
                "label": "Brazil",
                "scale_factor": 1,
                "type": "#15AFAC",
                "size": [
                  55,
                  55
                ],
                "position": [
                  0,
                  0
                ]
              },
              {
                "id": "group#Colombia",
                "properties": {
                  "label": "Colombia"
                },
                "color": "#15AFAC",
                "styles": {},
                "label": "Colombia",
                "scale_factor": 1,
                "type": "#15AFAC",
                "size": [
                  55,
                  55
                ],
                "position": [
                  0,
                  0
                ]
              },
              {
                "id": "group#Venezuela",
                "properties": {
                  "label": "Venezuela"
                },
                "color": "#15AFAC",
                "styles": {},
                "label": "Venezuela",
                "scale_factor": 1,
                "type": "#15AFAC",
                "size": [
                  55,
                  55
                ],
                "position": [
                  0,
                  0
                ]
              }
            ],
            "_overview": {
              "enabled": null,
              "overview_set": false
            },
            "_selected_graph": [
              [],
              []
            ],
            "_sidebar": {
              "enabled": false,
              "start_with": null
            },
            "_view_count": null,
            "_view_module": "yfiles-jupyter-graphs",
            "_view_module_version": "^1.10.9",
            "_view_name": "GraphView",
            "layout": "IPY_MODEL_8d03bf5da5ee49c28c2884cb5d9c4318"
          }
        },
        "8d03bf5da5ee49c28c2884cb5d9c4318": {
          "model_module": "@jupyter-widgets/base",
          "model_name": "LayoutModel",
          "model_module_version": "1.2.0",
          "state": {
            "_model_module": "@jupyter-widgets/base",
            "_model_module_version": "1.2.0",
            "_model_name": "LayoutModel",
            "_view_count": null,
            "_view_module": "@jupyter-widgets/base",
            "_view_module_version": "1.2.0",
            "_view_name": "LayoutView",
            "align_content": null,
            "align_items": null,
            "align_self": null,
            "border": null,
            "bottom": null,
            "display": null,
            "flex": null,
            "flex_flow": null,
            "grid_area": null,
            "grid_auto_columns": null,
            "grid_auto_flow": null,
            "grid_auto_rows": null,
            "grid_column": null,
            "grid_gap": null,
            "grid_row": null,
            "grid_template_areas": null,
            "grid_template_columns": null,
            "grid_template_rows": null,
            "height": "800px",
            "justify_content": null,
            "justify_items": null,
            "left": null,
            "margin": null,
            "max_height": null,
            "max_width": null,
            "min_height": null,
            "min_width": null,
            "object_fit": null,
            "object_position": null,
            "order": null,
            "overflow": null,
            "overflow_x": null,
            "overflow_y": null,
            "padding": null,
            "right": null,
            "top": null,
            "visibility": null,
            "width": "100%"
          }
        },
        "e998b03e461b4c14b3392f17251109bb": {
          "model_module": "yfiles-jupyter-graphs",
          "model_name": "GraphModel",
          "model_module_version": "^1.10.9",
          "state": {
            "_context_pane_mapping": [
              {
                "id": "Neighborhood",
                "title": "Neighborhood"
              },
              {
                "id": "Data",
                "title": "Data"
              },
              {
                "id": "Search",
                "title": "Search"
              },
              {
                "id": "About",
                "title": "About"
              }
            ],
            "_data_importer": "unknown",
            "_directed": false,
            "_dom_classes": [],
            "_edges": [
              {
                "start": "LAX",
                "end": "JFK",
                "label": "",
                "properties": {},
                "directed": false,
                "id": "0db141e9-2144-46e8-a138-512223f79b4c",
                "color": "#15AFAC",
                "thickness_factor": 1,
                "styles": {},
                "heat": 0
              },
              {
                "start": "JFK",
                "end": "GIG",
                "label": "",
                "properties": {},
                "directed": false,
                "id": "356d1ec1-63f9-4716-99a0-bcc3b1e7a002",
                "color": "#15AFAC",
                "thickness_factor": 1,
                "styles": {},
                "heat": 0
              },
              {
                "start": "JFK",
                "end": "LIM",
                "label": "",
                "properties": {},
                "directed": false,
                "id": "bda65544-ec10-43f2-8eee-d5db9f3d44fd",
                "color": "#15AFAC",
                "thickness_factor": 1,
                "styles": {},
                "heat": 0
              },
              {
                "start": "JFK",
                "end": "LHR",
                "label": "",
                "properties": {},
                "directed": false,
                "id": "c49e4932-d024-4c6f-862c-e2d3549e16d3",
                "color": "#15AFAC",
                "thickness_factor": 1,
                "styles": {},
                "heat": 0
              },
              {
                "start": "GIG",
                "end": "FRA",
                "label": "",
                "properties": {},
                "directed": false,
                "id": "b4b35e61-4735-4c5a-b583-eaa5aff31041",
                "color": "#15AFAC",
                "thickness_factor": 1,
                "styles": {},
                "heat": 0
              },
              {
                "start": "LIM",
                "end": "GIG",
                "label": "",
                "properties": {},
                "directed": false,
                "id": "753e32a6-1ba6-44f3-bc61-97c14b32862f",
                "color": "#15AFAC",
                "thickness_factor": 1,
                "styles": {},
                "heat": 0
              },
              {
                "start": "FRA",
                "end": "JFK",
                "label": "",
                "properties": {},
                "directed": false,
                "id": "fde90945-20c6-4436-afb7-18e58557fbe2",
                "color": "#15AFAC",
                "thickness_factor": 1,
                "styles": {},
                "heat": 0
              },
              {
                "start": "LHR",
                "end": "FRA",
                "label": "",
                "properties": {},
                "directed": false,
                "id": "dd9f137c-5d70-4458-bbe8-b1eecbb626ed",
                "color": "#15AFAC",
                "thickness_factor": 1,
                "styles": {},
                "heat": 0
              },
              {
                "start": "FRA",
                "end": "SVO",
                "label": "",
                "properties": {},
                "directed": false,
                "id": "0f5422f6-6848-4760-97a7-311cd6e84b5b",
                "color": "#15AFAC",
                "thickness_factor": 1,
                "styles": {},
                "heat": 0
              },
              {
                "start": "FRA",
                "end": "DXB",
                "label": "",
                "properties": {},
                "directed": false,
                "id": "d2c2331e-f6f9-406d-87f7-ef7d23e6f662",
                "color": "#15AFAC",
                "thickness_factor": 1,
                "styles": {},
                "heat": 0
              },
              {
                "start": "SVO",
                "end": "DEL",
                "label": "",
                "properties": {},
                "directed": false,
                "id": "0a12492c-46e4-427c-8660-b674d727b6cf",
                "color": "#15AFAC",
                "thickness_factor": 1,
                "styles": {},
                "heat": 0
              },
              {
                "start": "SVO",
                "end": "PVG",
                "label": "",
                "properties": {},
                "directed": false,
                "id": "8fc7e161-7693-46d0-87fe-342baf69ac72",
                "color": "#15AFAC",
                "thickness_factor": 1,
                "styles": {},
                "heat": 0
              },
              {
                "start": "DEL",
                "end": "HKG",
                "label": "",
                "properties": {},
                "directed": false,
                "id": "eae3ec95-9bee-41e4-88de-4c6613a08e7c",
                "color": "#15AFAC",
                "thickness_factor": 1,
                "styles": {},
                "heat": 0
              },
              {
                "start": "PVG",
                "end": "HKG",
                "label": "",
                "properties": {},
                "directed": false,
                "id": "18d486b3-701f-4998-81b8-1b3f09827737",
                "color": "#15AFAC",
                "thickness_factor": 1,
                "styles": {},
                "heat": 0
              },
              {
                "start": "PVG",
                "end": "NRT",
                "label": "",
                "properties": {},
                "directed": false,
                "id": "783a400f-0c68-4d46-a70c-099fb7eed445",
                "color": "#15AFAC",
                "thickness_factor": 1,
                "styles": {},
                "heat": 0
              },
              {
                "start": "HKG",
                "end": "SYD",
                "label": "",
                "properties": {},
                "directed": false,
                "id": "31871c2d-ecda-4896-8d58-75e58119f111",
                "color": "#15AFAC",
                "thickness_factor": 1,
                "styles": {},
                "heat": 0
              },
              {
                "start": "NRT",
                "end": "SYD",
                "label": "",
                "properties": {},
                "directed": false,
                "id": "027ecf3d-19e6-4816-8b62-9004e5495ad6",
                "color": "#15AFAC",
                "thickness_factor": 1,
                "styles": {},
                "heat": 0
              },
              {
                "start": "DXB",
                "end": "SVO",
                "label": "",
                "properties": {},
                "directed": false,
                "id": "3fa8b328-a2af-4192-a315-96f9060a37db",
                "color": "#15AFAC",
                "thickness_factor": 1,
                "styles": {},
                "heat": 0
              },
              {
                "start": "DXB",
                "end": "DEL",
                "label": "",
                "properties": {},
                "directed": false,
                "id": "d48b1c86-d394-4603-8c2f-f8f1f9b6bfab",
                "color": "#15AFAC",
                "thickness_factor": 1,
                "styles": {},
                "heat": 0
              },
              {
                "start": "DXB",
                "end": "DKR",
                "label": "",
                "properties": {},
                "directed": false,
                "id": "ecf5349e-0cee-4896-a614-b47984d6837e",
                "color": "#15AFAC",
                "thickness_factor": 1,
                "styles": {},
                "heat": 0
              },
              {
                "start": "DXB",
                "end": "JNB",
                "label": "",
                "properties": {},
                "directed": false,
                "id": "2e10e0b3-cee8-424f-b4d7-4183b86b2fe8",
                "color": "#15AFAC",
                "thickness_factor": 1,
                "styles": {},
                "heat": 0
              },
              {
                "start": "JNB",
                "end": "LHR",
                "label": "",
                "properties": {},
                "directed": false,
                "id": "92161e9b-56e1-4e16-a133-a95e7b059173",
                "color": "#15AFAC",
                "thickness_factor": 1,
                "styles": {},
                "heat": 0
              },
              {
                "start": "JNB",
                "end": "DKR",
                "label": "",
                "properties": {},
                "directed": false,
                "id": "14e214c4-8da9-42f4-9c0d-2b6d69d26b17",
                "color": "#15AFAC",
                "thickness_factor": 1,
                "styles": {},
                "heat": 0
              },
              {
                "start": "SYD",
                "end": "DXB",
                "label": "",
                "properties": {},
                "directed": false,
                "id": "6d572775-d2e6-4e5a-bf43-707a29eabf88",
                "color": "#15AFAC",
                "thickness_factor": 1,
                "styles": {},
                "heat": 0
              },
              {
                "start": "NBO",
                "end": "JNB",
                "label": "",
                "properties": {},
                "directed": false,
                "id": "488448cf-bd8e-4104-85d4-76b05cc3754a",
                "color": "#15AFAC",
                "thickness_factor": 1,
                "styles": {},
                "heat": 0
              },
              {
                "start": "NBO",
                "end": "DXB",
                "label": "",
                "properties": {},
                "directed": false,
                "id": "a86fd208-0c18-47e5-865a-33ab192ff1d6",
                "color": "#15AFAC",
                "thickness_factor": 1,
                "styles": {},
                "heat": 0
              },
              {
                "start": "ATL",
                "end": "JFK",
                "label": "",
                "properties": {},
                "directed": false,
                "id": "149c24a7-898a-4493-8077-295f26065e62",
                "color": "#15AFAC",
                "thickness_factor": 1,
                "styles": {},
                "heat": 0
              },
              {
                "start": "LAX",
                "end": "ATL",
                "label": "",
                "properties": {},
                "directed": false,
                "id": "ce55de2a-308e-412d-8465-7afa38e72c84",
                "color": "#15AFAC",
                "thickness_factor": 1,
                "styles": {},
                "heat": 0
              },
              {
                "start": "ATL",
                "end": "LHR",
                "label": "",
                "properties": {},
                "directed": false,
                "id": "363c4f39-1d02-4b40-84ba-e7f39a3acbcd",
                "color": "#15AFAC",
                "thickness_factor": 1,
                "styles": {},
                "heat": 0
              },
              {
                "start": "ATL",
                "end": "LIM",
                "label": "",
                "properties": {},
                "directed": false,
                "id": "44fb4c34-104d-4216-9e16-526b85b422c7",
                "color": "#15AFAC",
                "thickness_factor": 1,
                "styles": {},
                "heat": 0
              },
              {
                "start": "SCL",
                "end": "LIM",
                "label": "",
                "properties": {},
                "directed": false,
                "id": "ecdecb6e-df26-4ae1-b350-dfbf6214b04a",
                "color": "#15AFAC",
                "thickness_factor": 1,
                "styles": {},
                "heat": 0
              },
              {
                "start": "EZE",
                "end": "SCL",
                "label": "",
                "properties": {},
                "directed": false,
                "id": "23692604-a875-4f3b-a499-cfb4dd9529f0",
                "color": "#15AFAC",
                "thickness_factor": 1,
                "styles": {},
                "heat": 0
              },
              {
                "start": "SCL",
                "end": "GRU",
                "label": "",
                "properties": {},
                "directed": false,
                "id": "75f3f2ff-d721-4673-b7e9-b3ccfe9fe83b",
                "color": "#15AFAC",
                "thickness_factor": 1,
                "styles": {},
                "heat": 0
              },
              {
                "start": "GIG",
                "end": "EZE",
                "label": "",
                "properties": {},
                "directed": false,
                "id": "2c6861b8-208c-475d-9dd3-90b32c6c441e",
                "color": "#15AFAC",
                "thickness_factor": 1,
                "styles": {},
                "heat": 0
              },
              {
                "start": "GIG",
                "end": "GRU",
                "label": "",
                "properties": {},
                "directed": false,
                "id": "c0857bd9-5c66-4ebf-abc5-09bffad9c775",
                "color": "#15AFAC",
                "thickness_factor": 1,
                "styles": {},
                "heat": 0
              },
              {
                "start": "BSB",
                "end": "GIG",
                "label": "",
                "properties": {},
                "directed": false,
                "id": "1682770b-5ad1-495b-9f21-47d624c2dbbc",
                "color": "#15AFAC",
                "thickness_factor": 1,
                "styles": {},
                "heat": 0
              },
              {
                "start": "SCL",
                "end": "BSB",
                "label": "",
                "properties": {},
                "directed": false,
                "id": "7387e5d3-49ec-49b0-9488-85a0e76e27f6",
                "color": "#15AFAC",
                "thickness_factor": 1,
                "styles": {},
                "heat": 0
              },
              {
                "start": "LIM",
                "end": "BSB",
                "label": "",
                "properties": {},
                "directed": false,
                "id": "f4d7166d-673f-4e04-88c6-19563e199617",
                "color": "#15AFAC",
                "thickness_factor": 1,
                "styles": {},
                "heat": 0
              },
              {
                "start": "BOG",
                "end": "BSB",
                "label": "",
                "properties": {},
                "directed": false,
                "id": "1c341cb0-1dff-4bd6-9852-b3ad81207361",
                "color": "#15AFAC",
                "thickness_factor": 1,
                "styles": {},
                "heat": 0
              },
              {
                "start": "CCS",
                "end": "BSB",
                "label": "",
                "properties": {},
                "directed": false,
                "id": "bbd4b91b-e158-422c-9f2e-239a2cfb0330",
                "color": "#15AFAC",
                "thickness_factor": 1,
                "styles": {},
                "heat": 0
              },
              {
                "start": "BOG",
                "end": "GUA",
                "label": "",
                "properties": {},
                "directed": false,
                "id": "6ede49c5-2f39-4bba-b6f5-cef76f0ed592",
                "color": "#15AFAC",
                "thickness_factor": 1,
                "styles": {},
                "heat": 0
              },
              {
                "start": "CCS",
                "end": "MIA",
                "label": "",
                "properties": {},
                "directed": false,
                "id": "b4c4bec3-2914-43e9-88be-219c9880cb98",
                "color": "#15AFAC",
                "thickness_factor": 1,
                "styles": {},
                "heat": 0
              },
              {
                "start": "GUA",
                "end": "MIA",
                "label": "",
                "properties": {},
                "directed": false,
                "id": "d0f53399-4fc3-4277-8a4c-a1bab170c3d6",
                "color": "#15AFAC",
                "thickness_factor": 1,
                "styles": {},
                "heat": 0
              },
              {
                "start": "GUA",
                "end": "MEX",
                "label": "",
                "properties": {},
                "directed": false,
                "id": "b852d902-e4f3-40f3-90e0-fd728182c494",
                "color": "#15AFAC",
                "thickness_factor": 1,
                "styles": {},
                "heat": 0
              },
              {
                "start": "MEX",
                "end": "LAX",
                "label": "",
                "properties": {},
                "directed": false,
                "id": "213f5db3-1c39-4e19-aef5-4e51a29e1029",
                "color": "#15AFAC",
                "thickness_factor": 1,
                "styles": {},
                "heat": 0
              },
              {
                "start": "MEX",
                "end": "LAX",
                "label": "",
                "properties": {},
                "directed": false,
                "id": "4049654c-e95e-4519-af91-e13a1e7d6f4c",
                "color": "#15AFAC",
                "thickness_factor": 1,
                "styles": {},
                "heat": 0
              },
              {
                "start": "LAX",
                "end": "SFO",
                "label": "",
                "properties": {},
                "directed": false,
                "id": "2c44ca68-2a0f-47f1-b895-45642b900400",
                "color": "#15AFAC",
                "thickness_factor": 1,
                "styles": {},
                "heat": 0
              },
              {
                "start": "SFO",
                "end": "YVR",
                "label": "",
                "properties": {},
                "directed": false,
                "id": "8fc78d65-c971-4700-bac9-2fc21f1ff333",
                "color": "#15AFAC",
                "thickness_factor": 1,
                "styles": {},
                "heat": 0
              },
              {
                "start": "LAX",
                "end": "LAS",
                "label": "",
                "properties": {},
                "directed": false,
                "id": "211047e2-15c7-4d94-b69e-1f21272d25b3",
                "color": "#15AFAC",
                "thickness_factor": 1,
                "styles": {},
                "heat": 0
              },
              {
                "start": "LAX",
                "end": "DFW",
                "label": "",
                "properties": {},
                "directed": false,
                "id": "0fa0b197-f230-4af5-b877-cac9a70e3dd3",
                "color": "#15AFAC",
                "thickness_factor": 1,
                "styles": {},
                "heat": 0
              },
              {
                "start": "LAX",
                "end": "ORD",
                "label": "",
                "properties": {},
                "directed": false,
                "id": "2f867c80-9e2f-4afe-ad1d-7ea82a8cb6d1",
                "color": "#15AFAC",
                "thickness_factor": 1,
                "styles": {},
                "heat": 0
              },
              {
                "start": "SFO",
                "end": "LAS",
                "label": "",
                "properties": {},
                "directed": false,
                "id": "c5da4812-e4a8-4114-8fe9-e6f0223177e2",
                "color": "#15AFAC",
                "thickness_factor": 1,
                "styles": {},
                "heat": 0
              },
              {
                "start": "DFW",
                "end": "ATL",
                "label": "",
                "properties": {},
                "directed": false,
                "id": "db9c24f0-0b9b-40be-879e-0d132734ba24",
                "color": "#15AFAC",
                "thickness_factor": 1,
                "styles": {},
                "heat": 0
              },
              {
                "start": "ATL",
                "end": "YYZ",
                "label": "",
                "properties": {},
                "directed": false,
                "id": "b6dc7043-14b2-41a9-aaf8-09f229a86121",
                "color": "#15AFAC",
                "thickness_factor": 1,
                "styles": {},
                "heat": 0
              },
              {
                "start": "ORD",
                "end": "YYZ",
                "label": "",
                "properties": {},
                "directed": false,
                "id": "61791e32-f2c0-4560-b2ee-55a4160958d4",
                "color": "#15AFAC",
                "thickness_factor": 1,
                "styles": {},
                "heat": 0
              },
              {
                "start": "YYZ",
                "end": "YUL",
                "label": "",
                "properties": {},
                "directed": false,
                "id": "d99b885e-6a6c-45aa-a4fa-da03f1db24f8",
                "color": "#15AFAC",
                "thickness_factor": 1,
                "styles": {},
                "heat": 0
              },
              {
                "start": "YYZ",
                "end": "JFK",
                "label": "",
                "properties": {},
                "directed": false,
                "id": "b9b44a92-f017-470e-9ac2-92a24cc56d4c",
                "color": "#15AFAC",
                "thickness_factor": 1,
                "styles": {},
                "heat": 0
              },
              {
                "start": "YUL",
                "end": "JFK",
                "label": "",
                "properties": {},
                "directed": false,
                "id": "b2c2f551-eb47-4375-affa-138733d83a45",
                "color": "#15AFAC",
                "thickness_factor": 1,
                "styles": {},
                "heat": 0
              },
              {
                "start": "JNB",
                "end": "CPT",
                "label": "",
                "properties": {},
                "directed": false,
                "id": "663dd1e7-1ce7-467c-9b8f-f4d43495c1a8",
                "color": "#15AFAC",
                "thickness_factor": 1,
                "styles": {},
                "heat": 0
              },
              {
                "start": "LOS",
                "end": "DKR",
                "label": "",
                "properties": {},
                "directed": false,
                "id": "bae66ea3-bd04-45c7-8dd4-6343f565f616",
                "color": "#15AFAC",
                "thickness_factor": 1,
                "styles": {},
                "heat": 0
              },
              {
                "start": "NBO",
                "end": "LOS",
                "label": "",
                "properties": {},
                "directed": false,
                "id": "6510589b-7558-4a6d-9716-7209553a47ea",
                "color": "#15AFAC",
                "thickness_factor": 1,
                "styles": {},
                "heat": 0
              },
              {
                "start": "DKR",
                "end": "CMN",
                "label": "",
                "properties": {},
                "directed": false,
                "id": "4aee57d0-4a12-41e9-8650-dee39752db39",
                "color": "#15AFAC",
                "thickness_factor": 1,
                "styles": {},
                "heat": 0
              },
              {
                "start": "DKR",
                "end": "CAI",
                "label": "",
                "properties": {},
                "directed": false,
                "id": "32adede8-f34a-40fe-a5a8-425456bdc4dd",
                "color": "#15AFAC",
                "thickness_factor": 1,
                "styles": {},
                "heat": 0
              },
              {
                "start": "NBO",
                "end": "CAI",
                "label": "",
                "properties": {},
                "directed": false,
                "id": "b10198a9-84f0-4d1d-b1d9-be50a0e184cb",
                "color": "#15AFAC",
                "thickness_factor": 1,
                "styles": {},
                "heat": 0
              },
              {
                "start": "DXB",
                "end": "CAI",
                "label": "",
                "properties": {},
                "directed": false,
                "id": "9fe0d920-661d-42da-bcc8-15f176dcce74",
                "color": "#15AFAC",
                "thickness_factor": 1,
                "styles": {},
                "heat": 0
              },
              {
                "start": "IKA",
                "end": "DXB",
                "label": "",
                "properties": {},
                "directed": false,
                "id": "424b5e21-2257-4320-ae97-45c644054456",
                "color": "#15AFAC",
                "thickness_factor": 1,
                "styles": {},
                "heat": 0
              },
              {
                "start": "IST",
                "end": "IKA",
                "label": "",
                "properties": {},
                "directed": false,
                "id": "ec781c7b-a78c-4f96-943b-7774865fa18d",
                "color": "#15AFAC",
                "thickness_factor": 1,
                "styles": {},
                "heat": 0
              },
              {
                "start": "TLV",
                "end": "ATH",
                "label": "",
                "properties": {},
                "directed": false,
                "id": "ee2cfce4-2e47-47ab-95a7-deadd49b669f",
                "color": "#15AFAC",
                "thickness_factor": 1,
                "styles": {},
                "heat": 0
              },
              {
                "start": "CAI",
                "end": "TLV",
                "label": "",
                "properties": {},
                "directed": false,
                "id": "67c6ca68-5b2a-4fc4-9824-e88b65c9d860",
                "color": "#15AFAC",
                "thickness_factor": 1,
                "styles": {},
                "heat": 0
              },
              {
                "start": "ATH",
                "end": "IST",
                "label": "",
                "properties": {},
                "directed": false,
                "id": "c363f287-5a73-4295-a17b-22a75e2a534c",
                "color": "#15AFAC",
                "thickness_factor": 1,
                "styles": {},
                "heat": 0
              },
              {
                "start": "FCO",
                "end": "ATH",
                "label": "",
                "properties": {},
                "directed": false,
                "id": "a5a02430-9606-4c6c-9e94-ed3378cc9868",
                "color": "#15AFAC",
                "thickness_factor": 1,
                "styles": {},
                "heat": 0
              },
              {
                "start": "LIS",
                "end": "LHR",
                "label": "",
                "properties": {},
                "directed": false,
                "id": "1169e704-8e0e-487f-a6ee-e507d7b0dabb",
                "color": "#15AFAC",
                "thickness_factor": 1,
                "styles": {},
                "heat": 0
              },
              {
                "start": "LIS",
                "end": "MAD",
                "label": "",
                "properties": {},
                "directed": false,
                "id": "4c0bed6f-6b60-43f1-a0f7-a82aace61958",
                "color": "#15AFAC",
                "thickness_factor": 1,
                "styles": {},
                "heat": 0
              },
              {
                "start": "MAD",
                "end": "BCN",
                "label": "",
                "properties": {},
                "directed": false,
                "id": "ab8bd8da-7a8a-4def-a080-dea09e0ef841",
                "color": "#15AFAC",
                "thickness_factor": 1,
                "styles": {},
                "heat": 0
              },
              {
                "start": "CDG",
                "end": "LHR",
                "label": "",
                "properties": {},
                "directed": false,
                "id": "82d5f183-b8ec-496c-ad48-12a627bc38e4",
                "color": "#15AFAC",
                "thickness_factor": 1,
                "styles": {},
                "heat": 0
              },
              {
                "start": "DUB",
                "end": "LHR",
                "label": "",
                "properties": {},
                "directed": false,
                "id": "6cf0d9c5-5ddf-40a7-95c2-f0ebed16c005",
                "color": "#15AFAC",
                "thickness_factor": 1,
                "styles": {},
                "heat": 0
              },
              {
                "start": "EDI",
                "end": "LHR",
                "label": "",
                "properties": {},
                "directed": false,
                "id": "194fbac0-d93a-4d2b-a777-8cfc004b41c1",
                "color": "#15AFAC",
                "thickness_factor": 1,
                "styles": {},
                "heat": 0
              },
              {
                "start": "CDG",
                "end": "BCN",
                "label": "",
                "properties": {},
                "directed": false,
                "id": "d16c6e29-9ca0-4c3b-b700-97052250bdd8",
                "color": "#15AFAC",
                "thickness_factor": 1,
                "styles": {},
                "heat": 0
              },
              {
                "start": "BCN",
                "end": "FCO",
                "label": "",
                "properties": {},
                "directed": false,
                "id": "0e48d4e1-babb-4797-93b7-4fcaa6b9711e",
                "color": "#15AFAC",
                "thickness_factor": 1,
                "styles": {},
                "heat": 0
              },
              {
                "start": "VIE",
                "end": "IST",
                "label": "",
                "properties": {},
                "directed": false,
                "id": "5fadacb5-5a9e-40ff-b39d-b54b9c9ee6db",
                "color": "#15AFAC",
                "thickness_factor": 1,
                "styles": {},
                "heat": 0
              },
              {
                "start": "VIE",
                "end": "SVO",
                "label": "",
                "properties": {},
                "directed": false,
                "id": "691d1b6e-f207-48c8-aa93-a16030c19019",
                "color": "#15AFAC",
                "thickness_factor": 1,
                "styles": {},
                "heat": 0
              },
              {
                "start": "CMN",
                "end": "LIS",
                "label": "",
                "properties": {},
                "directed": false,
                "id": "38fb1d1f-611a-49b6-9291-314d0ea1ff74",
                "color": "#15AFAC",
                "thickness_factor": 1,
                "styles": {},
                "heat": 0
              },
              {
                "start": "MAD",
                "end": "CMN",
                "label": "",
                "properties": {},
                "directed": false,
                "id": "5f4ab795-c196-44b8-8d4c-fbe92e3fcdd4",
                "color": "#15AFAC",
                "thickness_factor": 1,
                "styles": {},
                "heat": 0
              },
              {
                "start": "FRA",
                "end": "CPH",
                "label": "",
                "properties": {},
                "directed": false,
                "id": "6f892a48-11b4-44c0-855e-20e76eb70e3b",
                "color": "#15AFAC",
                "thickness_factor": 1,
                "styles": {},
                "heat": 0
              },
              {
                "start": "LHR",
                "end": "CPH",
                "label": "",
                "properties": {},
                "directed": false,
                "id": "0acd4373-c43d-41f6-a901-a55da73a958f",
                "color": "#15AFAC",
                "thickness_factor": 1,
                "styles": {},
                "heat": 0
              },
              {
                "start": "CPH",
                "end": "OSL",
                "label": "",
                "properties": {},
                "directed": false,
                "id": "454affbf-e628-4d17-ae2f-370a67c9a9b2",
                "color": "#15AFAC",
                "thickness_factor": 1,
                "styles": {},
                "heat": 0
              },
              {
                "start": "CPH",
                "end": "ARN",
                "label": "",
                "properties": {},
                "directed": false,
                "id": "d27a5bad-7a3a-4e14-903c-016bd39d4290",
                "color": "#15AFAC",
                "thickness_factor": 1,
                "styles": {},
                "heat": 0
              },
              {
                "start": "ARN",
                "end": "HEL",
                "label": "",
                "properties": {},
                "directed": false,
                "id": "42af69c7-1f49-41fe-adb9-467bff6746eb",
                "color": "#15AFAC",
                "thickness_factor": 1,
                "styles": {},
                "heat": 0
              },
              {
                "start": "HEL",
                "end": "SVO",
                "label": "",
                "properties": {},
                "directed": false,
                "id": "173707b2-352d-44a2-bf28-3424442a532f",
                "color": "#15AFAC",
                "thickness_factor": 1,
                "styles": {},
                "heat": 0
              },
              {
                "start": "ULN",
                "end": "PVG",
                "label": "",
                "properties": {},
                "directed": false,
                "id": "94123e2a-d6d9-427a-8603-e5f4462afe55",
                "color": "#15AFAC",
                "thickness_factor": 1,
                "styles": {},
                "heat": 0
              },
              {
                "start": "CTU",
                "end": "PVG",
                "label": "",
                "properties": {},
                "directed": false,
                "id": "ca871f7f-0756-4c90-be95-0768c0df4f64",
                "color": "#15AFAC",
                "thickness_factor": 1,
                "styles": {},
                "heat": 0
              },
              {
                "start": "PVG",
                "end": "TPE",
                "label": "",
                "properties": {},
                "directed": false,
                "id": "b4da3efb-7873-4848-9873-a0935e654a3f",
                "color": "#15AFAC",
                "thickness_factor": 1,
                "styles": {},
                "heat": 0
              },
              {
                "start": "CTU",
                "end": "HKG",
                "label": "",
                "properties": {},
                "directed": false,
                "id": "66897a79-109e-4d6b-a9ce-ea2165e6f61e",
                "color": "#15AFAC",
                "thickness_factor": 1,
                "styles": {},
                "heat": 0
              },
              {
                "start": "TPE",
                "end": "HKG",
                "label": "",
                "properties": {},
                "directed": false,
                "id": "e84b8206-bb0c-4ad2-8a9f-04e10005d43e",
                "color": "#15AFAC",
                "thickness_factor": 1,
                "styles": {},
                "heat": 0
              },
              {
                "start": "HKG",
                "end": "MNL",
                "label": "",
                "properties": {},
                "directed": false,
                "id": "03346a91-a076-4334-9c98-606151b476e6",
                "color": "#15AFAC",
                "thickness_factor": 1,
                "styles": {},
                "heat": 0
              },
              {
                "start": "BKK",
                "end": "HKG",
                "label": "",
                "properties": {},
                "directed": false,
                "id": "6879b4a1-394e-4933-b54b-4b7cc9c88be8",
                "color": "#15AFAC",
                "thickness_factor": 1,
                "styles": {},
                "heat": 0
              },
              {
                "start": "SIN",
                "end": "KUL",
                "label": "",
                "properties": {},
                "directed": false,
                "id": "0402c6a6-935d-4488-9379-e2efdcd90fca",
                "color": "#15AFAC",
                "thickness_factor": 1,
                "styles": {},
                "heat": 0
              },
              {
                "start": "SIN",
                "end": "BKK",
                "label": "",
                "properties": {},
                "directed": false,
                "id": "5f82f5c7-5afc-4550-8b06-e7e4766d29b3",
                "color": "#15AFAC",
                "thickness_factor": 1,
                "styles": {},
                "heat": 0
              },
              {
                "start": "CGK",
                "end": "SIN",
                "label": "",
                "properties": {},
                "directed": false,
                "id": "566993a3-375a-41ce-af9c-05ed354aa629",
                "color": "#15AFAC",
                "thickness_factor": 1,
                "styles": {},
                "heat": 0
              },
              {
                "start": "MNL",
                "end": "SIN",
                "label": "",
                "properties": {},
                "directed": false,
                "id": "2c15b320-cc01-4f22-bec7-7f8095f19e47",
                "color": "#15AFAC",
                "thickness_factor": 1,
                "styles": {},
                "heat": 0
              },
              {
                "start": "SIN",
                "end": "SYD",
                "label": "",
                "properties": {},
                "directed": false,
                "id": "7ce08804-202e-4ffb-a3e9-a7652b2b2397",
                "color": "#15AFAC",
                "thickness_factor": 1,
                "styles": {},
                "heat": 0
              },
              {
                "start": "BNE",
                "end": "SYD",
                "label": "",
                "properties": {},
                "directed": false,
                "id": "c70ae06f-98c9-4835-9369-7de16b5e594f",
                "color": "#15AFAC",
                "thickness_factor": 1,
                "styles": {},
                "heat": 0
              },
              {
                "start": "SYD",
                "end": "MEL",
                "label": "",
                "properties": {},
                "directed": false,
                "id": "9c7ae318-4433-428b-a547-ecf52f151475",
                "color": "#15AFAC",
                "thickness_factor": 1,
                "styles": {},
                "heat": 0
              },
              {
                "start": "NAN",
                "end": "SYD",
                "label": "",
                "properties": {},
                "directed": false,
                "id": "efc4fddb-c067-446e-88b4-cb8dca2c15f9",
                "color": "#15AFAC",
                "thickness_factor": 1,
                "styles": {},
                "heat": 0
              },
              {
                "start": "AKL",
                "end": "SYD",
                "label": "",
                "properties": {},
                "directed": false,
                "id": "397ce5bc-771d-4c32-addc-998213486845",
                "color": "#15AFAC",
                "thickness_factor": 1,
                "styles": {},
                "heat": 0
              },
              {
                "start": "NAN",
                "end": "AKL",
                "label": "",
                "properties": {},
                "directed": false,
                "id": "a3610bcb-628f-4c1f-9b46-0128e289d1b0",
                "color": "#15AFAC",
                "thickness_factor": 1,
                "styles": {},
                "heat": 0
              },
              {
                "start": "RKV",
                "end": "LHR",
                "label": "",
                "properties": {},
                "directed": false,
                "id": "4555554b-d297-49c0-a840-ed52f090dc11",
                "color": "#15AFAC",
                "thickness_factor": 1,
                "styles": {},
                "heat": 0
              },
              {
                "start": "BCN",
                "end": "CDG",
                "label": "",
                "properties": {},
                "directed": false,
                "id": "b45e184f-2f15-430c-a7a3-0e1d2973ed01",
                "color": "#15AFAC",
                "thickness_factor": 1,
                "styles": {},
                "heat": 0
              },
              {
                "start": "BCN",
                "end": "FRA",
                "label": "",
                "properties": {},
                "directed": false,
                "id": "26a0f51e-12a3-4ad4-b752-cb5246878cae",
                "color": "#15AFAC",
                "thickness_factor": 1,
                "styles": {},
                "heat": 0
              },
              {
                "start": "FCO",
                "end": "FRA",
                "label": "",
                "properties": {},
                "directed": false,
                "id": "e62ffd53-4248-432a-9ef2-70717c0509f5",
                "color": "#15AFAC",
                "thickness_factor": 1,
                "styles": {},
                "heat": 0
              },
              {
                "start": "BOG",
                "end": "MEX",
                "label": "",
                "properties": {},
                "directed": false,
                "id": "41e16971-7a95-43a1-a002-6584d08e17cc",
                "color": "#15AFAC",
                "thickness_factor": 1,
                "styles": {},
                "heat": 0
              },
              {
                "start": "BOG",
                "end": "GRU",
                "label": "",
                "properties": {},
                "directed": false,
                "id": "15b920c1-7c96-43e9-953b-bfc0702e3449",
                "color": "#15AFAC",
                "thickness_factor": 1,
                "styles": {},
                "heat": 0
              },
              {
                "start": "ATL",
                "end": "MIA",
                "label": "",
                "properties": {},
                "directed": false,
                "id": "7ad0cc87-ed6f-40a7-b8b2-2dcb188dc64c",
                "color": "#15AFAC",
                "thickness_factor": 1,
                "styles": {},
                "heat": 0
              },
              {
                "start": "FRA",
                "end": "IST",
                "label": "",
                "properties": {},
                "directed": false,
                "id": "0a4f97dc-62e9-40a6-b0df-feeea65f88c5",
                "color": "#15AFAC",
                "thickness_factor": 1,
                "styles": {},
                "heat": 0
              },
              {
                "start": "IST",
                "end": "DEL",
                "label": "",
                "properties": {},
                "directed": false,
                "id": "0329f326-3cb4-42ae-b73d-c13b7e7ccd55",
                "color": "#15AFAC",
                "thickness_factor": 1,
                "styles": {},
                "heat": 0
              },
              {
                "start": "PVG",
                "end": "BKK",
                "label": "",
                "properties": {},
                "directed": false,
                "id": "4631daf6-ce42-4b65-aa49-59b0d2160060",
                "color": "#15AFAC",
                "thickness_factor": 1,
                "styles": {},
                "heat": 0
              },
              {
                "start": "DEL",
                "end": "BKK",
                "label": "",
                "properties": {},
                "directed": false,
                "id": "9f7052ea-6995-4953-9e7c-5afb56f63636",
                "color": "#15AFAC",
                "thickness_factor": 1,
                "styles": {},
                "heat": 0
              }
            ],
            "_graph_layout": {
              "algorithm": "map",
              "options": {}
            },
            "_highlight": [],
            "_license": {},
            "_model_module": "yfiles-jupyter-graphs",
            "_model_module_version": "^1.10.9",
            "_model_name": "GraphModel",
            "_neighborhood": {},
            "_nodes": [
              {
                "id": "LAX",
                "properties": {
                  "label": "Los Angeles",
                  "passengers": 65000000,
                  "country": "USA",
                  "country_id": "us"
                },
                "coordinates": [
                  33.942536,
                  -118.408075
                ],
                "color": "#15AFAC",
                "styles": {},
                "label": "Los Angeles",
                "scale_factor": 1,
                "type": "#15AFAC",
                "size": [
                  55,
                  55
                ],
                "position": [
                  0,
                  0
                ],
                "parentId": "group#USA",
                "heat": 0.6963123644251626
              },
              {
                "id": "GIG",
                "properties": {
                  "label": "Rio de Janeiro",
                  "passengers": 5000000,
                  "country": "Brazil",
                  "country_id": "br"
                },
                "coordinates": [
                  -22.808903,
                  -43.243647
                ],
                "color": "#15AFAC",
                "styles": {},
                "label": "Rio de Janeiro",
                "scale_factor": 1,
                "type": "#15AFAC",
                "size": [
                  55,
                  55
                ],
                "position": [
                  0,
                  0
                ],
                "parentId": "group#Brazil",
                "heat": 0.0455531453362256
              },
              {
                "id": "LIM",
                "properties": {
                  "label": "Lima",
                  "passengers": 18000000,
                  "country": "Peru",
                  "country_id": "pe"
                },
                "coordinates": [
                  -12.021889,
                  -77.114319
                ],
                "color": "#15AFAC",
                "styles": {},
                "label": "Lima",
                "scale_factor": 1,
                "type": "#15AFAC",
                "size": [
                  55,
                  55
                ],
                "position": [
                  0,
                  0
                ],
                "parentId": "group#Peru",
                "heat": 0.18655097613882862
              },
              {
                "id": "LHR",
                "properties": {
                  "label": "London",
                  "passengers": 61000000,
                  "country": "UK",
                  "country_id": "gb"
                },
                "coordinates": [
                  51.4775,
                  -0.461389
                ],
                "color": "#15AFAC",
                "styles": {},
                "label": "London",
                "scale_factor": 1,
                "type": "#15AFAC",
                "size": [
                  55,
                  55
                ],
                "position": [
                  0,
                  0
                ],
                "parentId": "group#UK",
                "heat": 0.6529284164859002
              },
              {
                "id": "FRA",
                "properties": {
                  "label": "Frankfurt",
                  "passengers": 48000000,
                  "country": "Germany",
                  "country_id": "de"
                },
                "coordinates": [
                  50.033333,
                  8.570556
                ],
                "color": "#15AFAC",
                "styles": {},
                "label": "Frankfurt",
                "scale_factor": 1,
                "type": "#15AFAC",
                "size": [
                  55,
                  55
                ],
                "position": [
                  0,
                  0
                ],
                "parentId": "group#Germany",
                "heat": 0.5119305856832972
              },
              {
                "id": "SVO",
                "properties": {
                  "label": "Moscow",
                  "passengers": 49000000,
                  "country": "Russia",
                  "country_id": "ru"
                },
                "coordinates": [
                  55.972642,
                  37.414589
                ],
                "color": "#15AFAC",
                "styles": {},
                "label": "Moscow",
                "scale_factor": 1,
                "type": "#15AFAC",
                "size": [
                  55,
                  55
                ],
                "position": [
                  0,
                  0
                ],
                "parentId": "group#Russia",
                "heat": 0.5227765726681128
              },
              {
                "id": "DEL",
                "properties": {
                  "label": "New Delhi",
                  "passengers": 39000000,
                  "country": "India",
                  "country_id": "in"
                },
                "coordinates": [
                  28.5665,
                  77.103089
                ],
                "color": "#15AFAC",
                "styles": {},
                "label": "New Delhi",
                "scale_factor": 1,
                "type": "#15AFAC",
                "size": [
                  55,
                  55
                ],
                "position": [
                  0,
                  0
                ],
                "parentId": "group#India",
                "heat": 0.41431670281995664
              },
              {
                "id": "PVG",
                "properties": {
                  "label": "Shanghai",
                  "passengers": 32000000,
                  "country": "China",
                  "country_id": "hk"
                },
                "coordinates": [
                  31.143378,
                  121.805214
                ],
                "color": "#15AFAC",
                "styles": {},
                "label": "Shanghai",
                "scale_factor": 1,
                "type": "#15AFAC",
                "size": [
                  55,
                  55
                ],
                "position": [
                  0,
                  0
                ],
                "parentId": "group#China",
                "heat": 0.3383947939262473
              },
              {
                "id": "HKG",
                "properties": {
                  "label": "Hongkong",
                  "passengers": 1000000,
                  "country": "China",
                  "country_id": "hk"
                },
                "coordinates": [
                  22.308919,
                  113.914603
                ],
                "color": "#15AFAC",
                "styles": {},
                "label": "Hongkong",
                "scale_factor": 1,
                "type": "#15AFAC",
                "size": [
                  55,
                  55
                ],
                "position": [
                  0,
                  0
                ],
                "parentId": "group#China",
                "heat": 0.0021691973969631237
              },
              {
                "id": "NRT",
                "properties": {
                  "label": "Tokio",
                  "passengers": 15000000,
                  "country": "Japan",
                  "country_id": "jp"
                },
                "coordinates": [
                  35.764722,
                  140.386389
                ],
                "color": "#15AFAC",
                "styles": {},
                "label": "Tokio",
                "scale_factor": 1,
                "type": "#15AFAC",
                "size": [
                  55,
                  55
                ],
                "position": [
                  0,
                  0
                ],
                "parentId": "group#Japan",
                "heat": 0.1540130151843818
              },
              {
                "id": "DXB",
                "properties": {
                  "label": "Dubai",
                  "passengers": 29000000,
                  "country": "UAE",
                  "country_id": "ae"
                },
                "coordinates": [
                  25.252778,
                  55.364444
                ],
                "color": "#15AFAC",
                "styles": {},
                "label": "Dubai",
                "scale_factor": 1,
                "type": "#15AFAC",
                "size": [
                  55,
                  55
                ],
                "position": [
                  0,
                  0
                ],
                "parentId": "group#UAE",
                "heat": 0.30585683297180044
              },
              {
                "id": "DKR",
                "properties": {
                  "label": "Dakar",
                  "passengers": 2000000,
                  "country": "Senegal",
                  "country_id": "sn"
                },
                "coordinates": [
                  14.670833,
                  -17.072778
                ],
                "color": "#15AFAC",
                "styles": {},
                "label": "Dakar",
                "scale_factor": 1,
                "type": "#15AFAC",
                "size": [
                  55,
                  55
                ],
                "position": [
                  0,
                  0
                ],
                "parentId": "group#Senegal",
                "heat": 0.013015184381778741
              },
              {
                "id": "JNB",
                "properties": {
                  "label": "Johannesburg",
                  "passengers": 9000000,
                  "country": "South Africa",
                  "country_id": "za"
                },
                "coordinates": [
                  -26.133694,
                  28.242317
                ],
                "color": "#15AFAC",
                "styles": {},
                "label": "Johannesburg",
                "scale_factor": 1,
                "type": "#15AFAC",
                "size": [
                  55,
                  55
                ],
                "position": [
                  0,
                  0
                ],
                "parentId": "group#South Africa",
                "heat": 0.08893709327548807
              },
              {
                "id": "SYD",
                "properties": {
                  "label": "Sydney",
                  "passengers": 44000000,
                  "country": "Australia",
                  "country_id": "au"
                },
                "coordinates": [
                  -33.946111,
                  151.177222
                ],
                "color": "#15AFAC",
                "styles": {},
                "label": "Sydney",
                "scale_factor": 1,
                "type": "#15AFAC",
                "size": [
                  55,
                  55
                ],
                "position": [
                  0,
                  0
                ],
                "parentId": "group#Australia",
                "heat": 0.4685466377440347
              },
              {
                "id": "NBO",
                "properties": {
                  "label": "Nairobi",
                  "passengers": 900000,
                  "country": "Kenya",
                  "country_id": "ke"
                },
                "coordinates": [
                  -1.319167,
                  36.927778
                ],
                "color": "#15AFAC",
                "styles": {},
                "label": "Nairobi",
                "scale_factor": 1,
                "type": "#15AFAC",
                "size": [
                  55,
                  55
                ],
                "position": [
                  0,
                  0
                ],
                "parentId": "group#Kenya",
                "heat": 0.0010845986984815619
              },
              {
                "id": "ATL",
                "properties": {
                  "label": "Atlanta",
                  "passengers": 93000000,
                  "country": "USA",
                  "country_id": "us"
                },
                "coordinates": [
                  33.639167,
                  -84.427778
                ],
                "color": "#15AFAC",
                "styles": {},
                "label": "Atlanta",
                "scale_factor": 1,
                "type": "#15AFAC",
                "size": [
                  55,
                  55
                ],
                "position": [
                  0,
                  0
                ],
                "parentId": "group#USA",
                "heat": 1
              },
              {
                "id": "JFK",
                "properties": {
                  "label": "New York City",
                  "passengers": 55000000,
                  "country": "USA",
                  "country_id": "us"
                },
                "coordinates": [
                  40.63975,
                  -73.778925
                ],
                "color": "#15AFAC",
                "styles": {},
                "label": "New York City",
                "scale_factor": 1,
                "type": "#15AFAC",
                "size": [
                  55,
                  55
                ],
                "position": [
                  0,
                  0
                ],
                "parentId": "group#USA",
                "heat": 0.5878524945770065
              },
              {
                "id": "CAI",
                "properties": {
                  "label": "Cairo",
                  "passengers": 14000000,
                  "country": "Egypt",
                  "country_id": "eg"
                },
                "coordinates": [
                  30.121944,
                  31.405556
                ],
                "color": "#15AFAC",
                "styles": {},
                "label": "Cairo",
                "scale_factor": 1,
                "type": "#15AFAC",
                "size": [
                  55,
                  55
                ],
                "position": [
                  0,
                  0
                ],
                "parentId": "group#Egypt",
                "heat": 0.14316702819956617
              },
              {
                "id": "CMN",
                "properties": {
                  "label": "Casablanca",
                  "passengers": 7000000,
                  "country": "Morocco",
                  "country_id": "ma"
                },
                "coordinates": [
                  33.367467,
                  -7.589967
                ],
                "color": "#15AFAC",
                "styles": {},
                "label": "Casablanca",
                "scale_factor": 1,
                "type": "#15AFAC",
                "size": [
                  55,
                  55
                ],
                "position": [
                  0,
                  0
                ],
                "parentId": "group#Morocco",
                "heat": 0.06724511930585683
              },
              {
                "id": "LOS",
                "properties": {
                  "label": "Lagos",
                  "passengers": 5000000,
                  "country": "Nigeria",
                  "country_id": "ng"
                },
                "coordinates": [
                  6.577222,
                  3.321111
                ],
                "color": "#15AFAC",
                "styles": {},
                "label": "Lagos",
                "scale_factor": 1,
                "type": "#15AFAC",
                "size": [
                  55,
                  55
                ],
                "position": [
                  0,
                  0
                ],
                "parentId": "group#Nigeria",
                "heat": 0.0455531453362256
              },
              {
                "id": "CPT",
                "properties": {
                  "label": "Cape Town",
                  "passengers": 5000000,
                  "country": "South Africa",
                  "country_id": "za"
                },
                "coordinates": [
                  -33.969444,
                  18.597222
                ],
                "color": "#15AFAC",
                "styles": {},
                "label": "Cape Town",
                "scale_factor": 1,
                "type": "#15AFAC",
                "size": [
                  55,
                  55
                ],
                "position": [
                  0,
                  0
                ],
                "parentId": "group#South Africa",
                "heat": 0.0455531453362256
              },
              {
                "id": "CTU",
                "properties": {
                  "label": "Chengdu",
                  "passengers": 40000000,
                  "country": "China",
                  "country_id": "hk"
                },
                "coordinates": [
                  30.578333,
                  103.946944
                ],
                "color": "#15AFAC",
                "styles": {},
                "label": "Chengdu",
                "scale_factor": 1,
                "type": "#15AFAC",
                "size": [
                  55,
                  55
                ],
                "position": [
                  0,
                  0
                ],
                "parentId": "group#China",
                "heat": 0.42516268980477223
              },
              {
                "id": "CGK",
                "properties": {
                  "label": "Jakarta",
                  "passengers": 54000000,
                  "country": "Indonesia",
                  "country_id": "id"
                },
                "coordinates": [
                  -6.125567,
                  106.655897
                ],
                "color": "#15AFAC",
                "styles": {},
                "label": "Jakarta",
                "scale_factor": 1,
                "type": "#15AFAC",
                "size": [
                  55,
                  55
                ],
                "position": [
                  0,
                  0
                ],
                "parentId": "group#Indonesia",
                "heat": 0.5770065075921909
              },
              {
                "id": "IKA",
                "properties": {
                  "label": "Teheran",
                  "passengers": 8000000,
                  "country": "Iran",
                  "country_id": "ir"
                },
                "coordinates": [
                  35.416111,
                  51.152222
                ],
                "color": "#15AFAC",
                "styles": {},
                "label": "Teheran",
                "scale_factor": 1,
                "type": "#15AFAC",
                "size": [
                  55,
                  55
                ],
                "position": [
                  0,
                  0
                ],
                "parentId": "group#Iran",
                "heat": 0.07809110629067245
              },
              {
                "id": "TLV",
                "properties": {
                  "label": "Tel Aviv",
                  "passengers": 20000000,
                  "country": "Israel",
                  "country_id": "il"
                },
                "coordinates": [
                  32.011389,
                  34.886667
                ],
                "color": "#15AFAC",
                "styles": {},
                "label": "Tel Aviv",
                "scale_factor": 1,
                "type": "#15AFAC",
                "size": [
                  55,
                  55
                ],
                "position": [
                  0,
                  0
                ],
                "parentId": "group#Israel",
                "heat": 0.20824295010845986
              },
              {
                "id": "KUL",
                "properties": {
                  "label": "Kuala Lumpur",
                  "passengers": 25000000,
                  "country": "Malaysia",
                  "country_id": "my"
                },
                "coordinates": [
                  2.745578,
                  101.709917
                ],
                "color": "#15AFAC",
                "styles": {},
                "label": "Kuala Lumpur",
                "scale_factor": 1,
                "type": "#15AFAC",
                "size": [
                  55,
                  55
                ],
                "position": [
                  0,
                  0
                ],
                "parentId": "group#Malaysia",
                "heat": 0.26247288503253796
              },
              {
                "id": "MNL",
                "properties": {
                  "label": "Manila",
                  "passengers": 8000000,
                  "country": "Philippines",
                  "country_id": "ph"
                },
                "coordinates": [
                  14.508647,
                  121.019581
                ],
                "color": "#15AFAC",
                "styles": {},
                "label": "Manila",
                "scale_factor": 1,
                "type": "#15AFAC",
                "size": [
                  55,
                  55
                ],
                "position": [
                  0,
                  0
                ],
                "parentId": "group#Philippines",
                "heat": 0.07809110629067245
              },
              {
                "id": "SIN",
                "properties": {
                  "label": "Singapur",
                  "passengers": 32000000,
                  "country": "Singapore",
                  "country_id": "sg"
                },
                "coordinates": [
                  1.350189,
                  103.994433
                ],
                "color": "#15AFAC",
                "styles": {},
                "label": "Singapur",
                "scale_factor": 1,
                "type": "#15AFAC",
                "size": [
                  55,
                  55
                ],
                "position": [
                  0,
                  0
                ],
                "parentId": "group#Singapore",
                "heat": 0.3383947939262473
              },
              {
                "id": "TPE",
                "properties": {
                  "label": "Taipeh",
                  "passengers": 800000,
                  "country": "Taiwan",
                  "country_id": "tw"
                },
                "coordinates": [
                  25.077732,
                  121.232822
                ],
                "color": "#15AFAC",
                "styles": {},
                "label": "Taipeh",
                "scale_factor": 1,
                "type": "#15AFAC",
                "size": [
                  55,
                  55
                ],
                "position": [
                  0,
                  0
                ],
                "parentId": "group#Taiwan",
                "heat": 0
              },
              {
                "id": "BKK",
                "properties": {
                  "label": "Bangkok",
                  "passengers": 65000000,
                  "country": "Thailand",
                  "country_id": "th"
                },
                "coordinates": [
                  13.681108,
                  100.747283
                ],
                "color": "#15AFAC",
                "styles": {},
                "label": "Bangkok",
                "scale_factor": 1,
                "type": "#15AFAC",
                "size": [
                  55,
                  55
                ],
                "position": [
                  0,
                  0
                ],
                "parentId": "group#Thailand",
                "heat": 0.6963123644251626
              },
              {
                "id": "IST",
                "properties": {
                  "label": "Istanbul",
                  "passengers": 64000000,
                  "country": "Turkey",
                  "country_id": "tr"
                },
                "coordinates": [
                  40.976922,
                  28.814606
                ],
                "color": "#15AFAC",
                "styles": {},
                "label": "Istanbul",
                "scale_factor": 1,
                "type": "#15AFAC",
                "size": [
                  55,
                  55
                ],
                "position": [
                  0,
                  0
                ],
                "parentId": "group#Turkey",
                "heat": 0.6854663774403471
              },
              {
                "id": "ULN",
                "properties": {
                  "label": "Ulaanbaatar",
                  "passengers": 1000000,
                  "country": "Mongolia",
                  "country_id": "mn"
                },
                "coordinates": [
                  47.843056,
                  106.766639
                ],
                "color": "#15AFAC",
                "styles": {},
                "label": "Ulaanbaatar",
                "scale_factor": 1,
                "type": "#15AFAC",
                "size": [
                  55,
                  55
                ],
                "position": [
                  0,
                  0
                ],
                "parentId": "group#Mongolia",
                "heat": 0.0021691973969631237
              },
              {
                "id": "MEL",
                "properties": {
                  "label": "Melbourne",
                  "passengers": 12000000,
                  "country": "Australia",
                  "country_id": "au"
                },
                "coordinates": [
                  -37.673333,
                  144.843333
                ],
                "color": "#15AFAC",
                "styles": {},
                "label": "Melbourne",
                "scale_factor": 1,
                "type": "#15AFAC",
                "size": [
                  55,
                  55
                ],
                "position": [
                  0,
                  0
                ],
                "parentId": "group#Australia",
                "heat": 0.12147505422993492
              },
              {
                "id": "BNE",
                "properties": {
                  "label": "Brisbane",
                  "passengers": 23000000,
                  "country": "Australia",
                  "country_id": "au"
                },
                "coordinates": [
                  -27.383333,
                  153.118056
                ],
                "color": "#15AFAC",
                "styles": {},
                "label": "Brisbane",
                "scale_factor": 1,
                "type": "#15AFAC",
                "size": [
                  55,
                  55
                ],
                "position": [
                  0,
                  0
                ],
                "parentId": "group#Australia",
                "heat": 0.24078091106290672
              },
              {
                "id": "NAN",
                "properties": {
                  "label": "Nadi",
                  "passengers": 2000000,
                  "country": "Fiji",
                  "country_id": "fj"
                },
                "coordinates": [
                  -17.755392,
                  177.443378
                ],
                "color": "#15AFAC",
                "styles": {},
                "label": "Nadi",
                "scale_factor": 1,
                "type": "#15AFAC",
                "size": [
                  55,
                  55
                ],
                "position": [
                  0,
                  0
                ],
                "parentId": "group#Fiji",
                "heat": 0.013015184381778741
              },
              {
                "id": "AKL",
                "properties": {
                  "label": "Auckland",
                  "passengers": 21000000,
                  "country": "New Zealand",
                  "country_id": "nz"
                },
                "coordinates": [
                  -37.008056,
                  174.791667
                ],
                "color": "#15AFAC",
                "styles": {},
                "label": "Auckland",
                "scale_factor": 1,
                "type": "#15AFAC",
                "size": [
                  55,
                  55
                ],
                "position": [
                  0,
                  0
                ],
                "parentId": "group#New Zealand",
                "heat": 0.21908893709327548
              },
              {
                "id": "CDG",
                "properties": {
                  "label": "Paris",
                  "passengers": 57000000,
                  "country": "France",
                  "country_id": "fr"
                },
                "coordinates": [
                  49.009722,
                  2.547778
                ],
                "color": "#15AFAC",
                "styles": {},
                "label": "Paris",
                "scale_factor": 1,
                "type": "#15AFAC",
                "size": [
                  55,
                  55
                ],
                "position": [
                  0,
                  0
                ],
                "parentId": "group#France",
                "heat": 0.6095444685466378
              },
              {
                "id": "MAD",
                "properties": {
                  "label": "Madrid",
                  "passengers": 50000000,
                  "country": "Spain",
                  "country_id": "es"
                },
                "coordinates": [
                  40.4675,
                  -3.551944
                ],
                "color": "#15AFAC",
                "styles": {},
                "label": "Madrid",
                "scale_factor": 1,
                "type": "#15AFAC",
                "size": [
                  55,
                  55
                ],
                "position": [
                  0,
                  0
                ],
                "parentId": "group#Spain",
                "heat": 0.5336225596529284
              },
              {
                "id": "BCN",
                "properties": {
                  "label": "Barcelona",
                  "passengers": 41000000,
                  "country": "Spain",
                  "country_id": "es"
                },
                "coordinates": [
                  41.297078,
                  2.078464
                ],
                "color": "#15AFAC",
                "styles": {},
                "label": "Barcelona",
                "scale_factor": 1,
                "type": "#15AFAC",
                "size": [
                  55,
                  55
                ],
                "position": [
                  0,
                  0
                ],
                "parentId": "group#Spain",
                "heat": 0.4360086767895879
              },
              {
                "id": "FCO",
                "properties": {
                  "label": "Rome",
                  "passengers": 29000000,
                  "country": "Italy",
                  "country_id": "it"
                },
                "coordinates": [
                  41.804444,
                  12.250833
                ],
                "color": "#15AFAC",
                "styles": {},
                "label": "Rome",
                "scale_factor": 1,
                "type": "#15AFAC",
                "size": [
                  55,
                  55
                ],
                "position": [
                  0,
                  0
                ],
                "parentId": "group#Italy",
                "heat": 0.30585683297180044
              },
              {
                "id": "CPH",
                "properties": {
                  "label": "Copenhagen",
                  "passengers": 30000000,
                  "country": "Denmark",
                  "country_id": "dk"
                },
                "coordinates": [
                  55.617917,
                  12.655972
                ],
                "color": "#15AFAC",
                "styles": {},
                "label": "Copenhagen",
                "scale_factor": 1,
                "type": "#15AFAC",
                "size": [
                  55,
                  55
                ],
                "position": [
                  0,
                  0
                ],
                "parentId": "group#Denmark",
                "heat": 0.31670281995661603
              },
              {
                "id": "HEL",
                "properties": {
                  "label": "Helsinki",
                  "passengers": 5000000,
                  "country": "Finland",
                  "country_id": "fi"
                },
                "coordinates": [
                  60.317222,
                  24.963333
                ],
                "color": "#15AFAC",
                "styles": {},
                "label": "Helsinki",
                "scale_factor": 1,
                "type": "#15AFAC",
                "size": [
                  55,
                  55
                ],
                "position": [
                  0,
                  0
                ],
                "parentId": "group#Finland",
                "heat": 0.0455531453362256
              },
              {
                "id": "ATH",
                "properties": {
                  "label": "Athens",
                  "passengers": 22000000,
                  "country": "Greece",
                  "country_id": "gr"
                },
                "coordinates": [
                  37.936358,
                  23.944467
                ],
                "color": "#15AFAC",
                "styles": {},
                "label": "Athens",
                "scale_factor": 1,
                "type": "#15AFAC",
                "size": [
                  55,
                  55
                ],
                "position": [
                  0,
                  0
                ],
                "parentId": "group#Greece",
                "heat": 0.2299349240780911
              },
              {
                "id": "DUB",
                "properties": {
                  "label": "Dublin",
                  "passengers": 32000000,
                  "country": "Ireland",
                  "country_id": "ie"
                },
                "coordinates": [
                  53.421333,
                  -6.270075
                ],
                "color": "#15AFAC",
                "styles": {},
                "label": "Dublin",
                "scale_factor": 1,
                "type": "#15AFAC",
                "size": [
                  55,
                  55
                ],
                "position": [
                  0,
                  0
                ],
                "parentId": "group#Ireland",
                "heat": 0.3383947939262473
              },
              {
                "id": "RKV",
                "properties": {
                  "label": "Reykjavik",
                  "passengers": 400000,
                  "country": "Iceland",
                  "country_id": "is"
                },
                "coordinates": [
                  64.13,
                  -21.940556
                ],
                "color": "#15AFAC",
                "styles": {},
                "label": "Reykjavik",
                "scale_factor": 1,
                "type": "#15AFAC",
                "size": [
                  55,
                  55
                ],
                "position": [
                  0,
                  0
                ],
                "parentId": "group#Iceland",
                "heat": -0.004338394793926247
              },
              {
                "id": "OSL",
                "properties": {
                  "label": "Oslo",
                  "passengers": 9000000,
                  "country": "Norway",
                  "country_id": "no"
                },
                "coordinates": [
                  60.193917,
                  11.100361
                ],
                "color": "#15AFAC",
                "styles": {},
                "label": "Oslo",
                "scale_factor": 1,
                "type": "#15AFAC",
                "size": [
                  55,
                  55
                ],
                "position": [
                  0,
                  0
                ],
                "parentId": "group#Norway",
                "heat": 0.08893709327548807
              },
              {
                "id": "VIE",
                "properties": {
                  "label": "Vienna",
                  "passengers": 10000000,
                  "country": "Austria",
                  "country_id": "at"
                },
                "coordinates": [
                  48.110833,
                  16.570833
                ],
                "color": "#15AFAC",
                "styles": {},
                "label": "Vienna",
                "scale_factor": 1,
                "type": "#15AFAC",
                "size": [
                  55,
                  55
                ],
                "position": [
                  0,
                  0
                ],
                "parentId": "group#Austria",
                "heat": 0.09978308026030369
              },
              {
                "id": "LIS",
                "properties": {
                  "label": "Lisbon",
                  "passengers": 28000000,
                  "country": "Portugal",
                  "country_id": "pt"
                },
                "coordinates": [
                  38.774167,
                  -9.134167
                ],
                "color": "#15AFAC",
                "styles": {},
                "label": "Lisbon",
                "scale_factor": 1,
                "type": "#15AFAC",
                "size": [
                  55,
                  55
                ],
                "position": [
                  0,
                  0
                ],
                "parentId": "group#Portugal",
                "heat": 0.2950108459869848
              },
              {
                "id": "ARN",
                "properties": {
                  "label": "Stockholm",
                  "passengers": 7000000,
                  "country": "Sweden",
                  "country_id": "se"
                },
                "coordinates": [
                  59.651944,
                  17.918611
                ],
                "color": "#15AFAC",
                "styles": {},
                "label": "Stockholm",
                "scale_factor": 1,
                "type": "#15AFAC",
                "size": [
                  55,
                  55
                ],
                "position": [
                  0,
                  0
                ],
                "parentId": "group#Sweden",
                "heat": 0.06724511930585683
              },
              {
                "id": "EDI",
                "properties": {
                  "label": "Edinburgh",
                  "passengers": 14000000,
                  "country": "UK",
                  "country_id": "gb"
                },
                "coordinates": [
                  55.95,
                  -3.3725
                ],
                "color": "#15AFAC",
                "styles": {},
                "label": "Edinburgh",
                "scale_factor": 1,
                "type": "#15AFAC",
                "size": [
                  55,
                  55
                ],
                "position": [
                  0,
                  0
                ],
                "parentId": "group#UK",
                "heat": 0.14316702819956617
              },
              {
                "id": "ORD",
                "properties": {
                  "label": "Chicago",
                  "passengers": 54000000,
                  "country": "USA",
                  "country_id": "us"
                },
                "coordinates": [
                  41.978603,
                  -87.904842
                ],
                "color": "#15AFAC",
                "styles": {},
                "label": "Chicago",
                "scale_factor": 1,
                "type": "#15AFAC",
                "size": [
                  55,
                  55
                ],
                "position": [
                  0,
                  0
                ],
                "parentId": "group#USA",
                "heat": 0.5770065075921909
              },
              {
                "id": "DFW",
                "properties": {
                  "label": "Dallas",
                  "passengers": 73000000,
                  "country": "USA",
                  "country_id": "us"
                },
                "coordinates": [
                  32.896828,
                  -97.037997
                ],
                "color": "#15AFAC",
                "styles": {},
                "label": "Dallas",
                "scale_factor": 1,
                "type": "#15AFAC",
                "size": [
                  55,
                  55
                ],
                "position": [
                  0,
                  0
                ],
                "parentId": "group#USA",
                "heat": 0.7830802603036876
              },
              {
                "id": "SFO",
                "properties": {
                  "label": "San Francisco",
                  "passengers": 42000000,
                  "country": "USA",
                  "country_id": "us"
                },
                "coordinates": [
                  37.618972,
                  -122.374889
                ],
                "color": "#15AFAC",
                "styles": {},
                "label": "San Francisco",
                "scale_factor": 1,
                "type": "#15AFAC",
                "size": [
                  55,
                  55
                ],
                "position": [
                  0,
                  0
                ],
                "parentId": "group#USA",
                "heat": 0.44685466377440347
              },
              {
                "id": "LAS",
                "properties": {
                  "label": "Las Vegas",
                  "passengers": 52000000,
                  "country": "USA",
                  "country_id": "us"
                },
                "coordinates": [
                  36.080056,
                  -115.15225
                ],
                "color": "#15AFAC",
                "styles": {},
                "label": "Las Vegas",
                "scale_factor": 1,
                "type": "#15AFAC",
                "size": [
                  55,
                  55
                ],
                "position": [
                  0,
                  0
                ],
                "parentId": "group#USA",
                "heat": 0.5553145336225597
              },
              {
                "id": "MIA",
                "properties": {
                  "label": "Miami",
                  "passengers": 50000000,
                  "country": "USA",
                  "country_id": "us"
                },
                "coordinates": [
                  25.79325,
                  -80.290556
                ],
                "color": "#15AFAC",
                "styles": {},
                "label": "Miami",
                "scale_factor": 1,
                "type": "#15AFAC",
                "size": [
                  55,
                  55
                ],
                "position": [
                  0,
                  0
                ],
                "parentId": "group#USA",
                "heat": 0.5336225596529284
              },
              {
                "id": "YYZ",
                "properties": {
                  "label": "Toronto",
                  "passengers": 12000000,
                  "country": "Canada",
                  "country_id": "ca"
                },
                "coordinates": [
                  43.677222,
                  -79.630556
                ],
                "color": "#15AFAC",
                "styles": {},
                "label": "Toronto",
                "scale_factor": 1,
                "type": "#15AFAC",
                "size": [
                  55,
                  55
                ],
                "position": [
                  0,
                  0
                ],
                "parentId": "group#Canada",
                "heat": 0.12147505422993492
              },
              {
                "id": "YVR",
                "properties": {
                  "label": "Vancouver",
                  "passengers": 19000000,
                  "country": "Canada",
                  "country_id": "ca"
                },
                "coordinates": [
                  49.193889,
                  -123.184444
                ],
                "color": "#15AFAC",
                "styles": {},
                "label": "Vancouver",
                "scale_factor": 1,
                "type": "#15AFAC",
                "size": [
                  55,
                  55
                ],
                "position": [
                  0,
                  0
                ],
                "parentId": "group#Canada",
                "heat": 0.19739696312364424
              },
              {
                "id": "YUL",
                "properties": {
                  "label": "Montreal",
                  "passengers": 15000000,
                  "country": "Canada",
                  "country_id": "ca"
                },
                "coordinates": [
                  45.47175,
                  -73.736569
                ],
                "color": "#15AFAC",
                "styles": {},
                "label": "Montreal",
                "scale_factor": 1,
                "type": "#15AFAC",
                "size": [
                  55,
                  55
                ],
                "position": [
                  0,
                  0
                ],
                "parentId": "group#Canada",
                "heat": 0.1540130151843818
              },
              {
                "id": "MEX",
                "properties": {
                  "label": "Mexico-City",
                  "passengers": 46000000,
                  "country": "Mexico",
                  "country_id": "mx"
                },
                "coordinates": [
                  19.436303,
                  -99.072097
                ],
                "color": "#15AFAC",
                "styles": {},
                "label": "Mexico-City",
                "scale_factor": 1,
                "type": "#15AFAC",
                "size": [
                  55,
                  55
                ],
                "position": [
                  0,
                  0
                ],
                "parentId": "group#Mexico",
                "heat": 0.49023861171366595
              },
              {
                "id": "GUA",
                "properties": {
                  "label": "Guatemala-City",
                  "passengers": 2000000,
                  "country": "Guatemala",
                  "country_id": "gt"
                },
                "coordinates": [
                  14.583272,
                  -90.527475
                ],
                "color": "#15AFAC",
                "styles": {},
                "label": "Guatemala-City",
                "scale_factor": 1,
                "type": "#15AFAC",
                "size": [
                  55,
                  55
                ],
                "position": [
                  0,
                  0
                ],
                "parentId": "group#Guatemala",
                "heat": 0.013015184381778741
              },
              {
                "id": "EZE",
                "properties": {
                  "label": "Buenos Aires",
                  "passengers": 5000000,
                  "country": "Argentina",
                  "country_id": "ar"
                },
                "coordinates": [
                  -34.822222,
                  -58.535833
                ],
                "color": "#15AFAC",
                "styles": {},
                "label": "Buenos Aires",
                "scale_factor": 1,
                "type": "#15AFAC",
                "size": [
                  55,
                  55
                ],
                "position": [
                  0,
                  0
                ],
                "parentId": "group#Argentina",
                "heat": 0.0455531453362256
              },
              {
                "id": "GRU",
                "properties": {
                  "label": "Sao Paulo",
                  "passengers": 34000000,
                  "country": "Brazil",
                  "country_id": "br"
                },
                "coordinates": [
                  -23.432075,
                  -46.469511
                ],
                "color": "#15AFAC",
                "styles": {},
                "label": "Sao Paulo",
                "scale_factor": 1,
                "type": "#15AFAC",
                "size": [
                  55,
                  55
                ],
                "position": [
                  0,
                  0
                ],
                "parentId": "group#Brazil",
                "heat": 0.3600867678958785
              },
              {
                "id": "SCL",
                "properties": {
                  "label": "Santiago de Chile",
                  "passengers": 20000000,
                  "country": "Chile",
                  "country_id": "cl"
                },
                "coordinates": [
                  -33.392975,
                  -70.785803
                ],
                "color": "#15AFAC",
                "styles": {},
                "label": "Santiago de Chile",
                "scale_factor": 1,
                "type": "#15AFAC",
                "size": [
                  55,
                  55
                ],
                "position": [
                  0,
                  0
                ],
                "parentId": "group#Chile",
                "heat": 0.20824295010845986
              },
              {
                "id": "BSB",
                "properties": {
                  "label": "Brasilia",
                  "passengers": 13000000,
                  "country": "Brazil",
                  "country_id": "br"
                },
                "coordinates": [
                  -15.871111,
                  -47.918611
                ],
                "color": "#15AFAC",
                "styles": {},
                "label": "Brasilia",
                "scale_factor": 1,
                "type": "#15AFAC",
                "size": [
                  55,
                  55
                ],
                "position": [
                  0,
                  0
                ],
                "parentId": "group#Brazil",
                "heat": 0.13232104121475055
              },
              {
                "id": "BOG",
                "properties": {
                  "label": "Bogota",
                  "passengers": 36000000,
                  "country": "Colombia",
                  "country_id": "co"
                },
                "coordinates": [
                  4.701594,
                  -74.146947
                ],
                "color": "#15AFAC",
                "styles": {},
                "label": "Bogota",
                "scale_factor": 1,
                "type": "#15AFAC",
                "size": [
                  55,
                  55
                ],
                "position": [
                  0,
                  0
                ],
                "parentId": "group#Colombia",
                "heat": 0.38177874186550975
              },
              {
                "id": "CCS",
                "properties": {
                  "label": "Caracas",
                  "passengers": 8000000,
                  "country": "Venezuela",
                  "country_id": "ve"
                },
                "coordinates": [
                  10.601194,
                  -66.991222
                ],
                "color": "#15AFAC",
                "styles": {},
                "label": "Caracas",
                "scale_factor": 1,
                "type": "#15AFAC",
                "size": [
                  55,
                  55
                ],
                "position": [
                  0,
                  0
                ],
                "parentId": "group#Venezuela",
                "heat": 0.07809110629067245
              }
            ],
            "_overview": {
              "enabled": null,
              "overview_set": false
            },
            "_selected_graph": [
              [],
              []
            ],
            "_sidebar": {
              "enabled": false,
              "start_with": null
            },
            "_view_count": null,
            "_view_module": "yfiles-jupyter-graphs",
            "_view_module_version": "^1.10.9",
            "_view_name": "GraphView",
            "layout": "IPY_MODEL_7c99be4d8aeb4d499b1ab559ab3d19b9"
          }
        },
        "7c99be4d8aeb4d499b1ab559ab3d19b9": {
          "model_module": "@jupyter-widgets/base",
          "model_name": "LayoutModel",
          "model_module_version": "1.2.0",
          "state": {
            "_model_module": "@jupyter-widgets/base",
            "_model_module_version": "1.2.0",
            "_model_name": "LayoutModel",
            "_view_count": null,
            "_view_module": "@jupyter-widgets/base",
            "_view_module_version": "1.2.0",
            "_view_name": "LayoutView",
            "align_content": null,
            "align_items": null,
            "align_self": null,
            "border": null,
            "bottom": null,
            "display": null,
            "flex": null,
            "flex_flow": null,
            "grid_area": null,
            "grid_auto_columns": null,
            "grid_auto_flow": null,
            "grid_auto_rows": null,
            "grid_column": null,
            "grid_gap": null,
            "grid_row": null,
            "grid_template_areas": null,
            "grid_template_columns": null,
            "grid_template_rows": null,
            "height": "800px",
            "justify_content": null,
            "justify_items": null,
            "left": null,
            "margin": null,
            "max_height": null,
            "max_width": null,
            "min_height": null,
            "min_width": null,
            "object_fit": null,
            "object_position": null,
            "order": null,
            "overflow": null,
            "overflow_x": null,
            "overflow_y": null,
            "padding": null,
            "right": null,
            "top": null,
            "visibility": null,
            "width": "100%"
          }
        },
        "074cb12027664d3ba28a87861c1b03c3": {
          "model_module": "yfiles-jupyter-graphs",
          "model_name": "GraphModel",
          "model_module_version": "^1.10.9",
          "state": {
            "_context_pane_mapping": [
              {
                "id": "Neighborhood",
                "title": "Neighborhood"
              },
              {
                "id": "Data",
                "title": "Data"
              },
              {
                "id": "Search",
                "title": "Search"
              },
              {
                "id": "About",
                "title": "About"
              }
            ],
            "_data_importer": "unknown",
            "_directed": false,
            "_dom_classes": [],
            "_edges": [
              {
                "start": "LAX",
                "end": "JFK",
                "label": "",
                "properties": {},
                "directed": false,
                "id": "0db141e9-2144-46e8-a138-512223f79b4c",
                "color": "#15AFAC",
                "thickness_factor": 1,
                "styles": {},
                "heat": 0
              },
              {
                "start": "JFK",
                "end": "GIG",
                "label": "",
                "properties": {},
                "directed": false,
                "id": "356d1ec1-63f9-4716-99a0-bcc3b1e7a002",
                "color": "#15AFAC",
                "thickness_factor": 1,
                "styles": {},
                "heat": 0
              },
              {
                "start": "JFK",
                "end": "LIM",
                "label": "",
                "properties": {},
                "directed": false,
                "id": "bda65544-ec10-43f2-8eee-d5db9f3d44fd",
                "color": "#15AFAC",
                "thickness_factor": 1,
                "styles": {},
                "heat": 0
              },
              {
                "start": "JFK",
                "end": "LHR",
                "label": "",
                "properties": {},
                "directed": false,
                "id": "c49e4932-d024-4c6f-862c-e2d3549e16d3",
                "color": "#15AFAC",
                "thickness_factor": 1,
                "styles": {},
                "heat": 0
              },
              {
                "start": "GIG",
                "end": "FRA",
                "label": "",
                "properties": {},
                "directed": false,
                "id": "b4b35e61-4735-4c5a-b583-eaa5aff31041",
                "color": "#15AFAC",
                "thickness_factor": 1,
                "styles": {},
                "heat": 0
              },
              {
                "start": "LIM",
                "end": "GIG",
                "label": "",
                "properties": {},
                "directed": false,
                "id": "753e32a6-1ba6-44f3-bc61-97c14b32862f",
                "color": "#15AFAC",
                "thickness_factor": 1,
                "styles": {},
                "heat": 0
              },
              {
                "start": "FRA",
                "end": "JFK",
                "label": "",
                "properties": {},
                "directed": false,
                "id": "fde90945-20c6-4436-afb7-18e58557fbe2",
                "color": "#15AFAC",
                "thickness_factor": 1,
                "styles": {},
                "heat": 0
              },
              {
                "start": "LHR",
                "end": "FRA",
                "label": "",
                "properties": {},
                "directed": false,
                "id": "dd9f137c-5d70-4458-bbe8-b1eecbb626ed",
                "color": "#15AFAC",
                "thickness_factor": 1,
                "styles": {},
                "heat": 0
              },
              {
                "start": "FRA",
                "end": "SVO",
                "label": "",
                "properties": {},
                "directed": false,
                "id": "0f5422f6-6848-4760-97a7-311cd6e84b5b",
                "color": "#15AFAC",
                "thickness_factor": 1,
                "styles": {},
                "heat": 0
              },
              {
                "start": "FRA",
                "end": "DXB",
                "label": "",
                "properties": {},
                "directed": false,
                "id": "d2c2331e-f6f9-406d-87f7-ef7d23e6f662",
                "color": "#15AFAC",
                "thickness_factor": 1,
                "styles": {},
                "heat": 0
              },
              {
                "start": "SVO",
                "end": "DEL",
                "label": "",
                "properties": {},
                "directed": false,
                "id": "0a12492c-46e4-427c-8660-b674d727b6cf",
                "color": "#15AFAC",
                "thickness_factor": 1,
                "styles": {},
                "heat": 0
              },
              {
                "start": "SVO",
                "end": "PVG",
                "label": "",
                "properties": {},
                "directed": false,
                "id": "8fc7e161-7693-46d0-87fe-342baf69ac72",
                "color": "#15AFAC",
                "thickness_factor": 1,
                "styles": {},
                "heat": 0
              },
              {
                "start": "DEL",
                "end": "HKG",
                "label": "",
                "properties": {},
                "directed": false,
                "id": "eae3ec95-9bee-41e4-88de-4c6613a08e7c",
                "color": "#15AFAC",
                "thickness_factor": 1,
                "styles": {},
                "heat": 0
              },
              {
                "start": "PVG",
                "end": "HKG",
                "label": "",
                "properties": {},
                "directed": false,
                "id": "18d486b3-701f-4998-81b8-1b3f09827737",
                "color": "#15AFAC",
                "thickness_factor": 1,
                "styles": {},
                "heat": 0
              },
              {
                "start": "PVG",
                "end": "NRT",
                "label": "",
                "properties": {},
                "directed": false,
                "id": "783a400f-0c68-4d46-a70c-099fb7eed445",
                "color": "#15AFAC",
                "thickness_factor": 1,
                "styles": {},
                "heat": 0
              },
              {
                "start": "HKG",
                "end": "SYD",
                "label": "",
                "properties": {},
                "directed": false,
                "id": "31871c2d-ecda-4896-8d58-75e58119f111",
                "color": "#15AFAC",
                "thickness_factor": 1,
                "styles": {},
                "heat": 0
              },
              {
                "start": "NRT",
                "end": "SYD",
                "label": "",
                "properties": {},
                "directed": false,
                "id": "027ecf3d-19e6-4816-8b62-9004e5495ad6",
                "color": "#15AFAC",
                "thickness_factor": 1,
                "styles": {},
                "heat": 0
              },
              {
                "start": "DXB",
                "end": "SVO",
                "label": "",
                "properties": {},
                "directed": false,
                "id": "3fa8b328-a2af-4192-a315-96f9060a37db",
                "color": "#15AFAC",
                "thickness_factor": 1,
                "styles": {},
                "heat": 0
              },
              {
                "start": "DXB",
                "end": "DEL",
                "label": "",
                "properties": {},
                "directed": false,
                "id": "d48b1c86-d394-4603-8c2f-f8f1f9b6bfab",
                "color": "#15AFAC",
                "thickness_factor": 1,
                "styles": {},
                "heat": 0
              },
              {
                "start": "DXB",
                "end": "DKR",
                "label": "",
                "properties": {},
                "directed": false,
                "id": "ecf5349e-0cee-4896-a614-b47984d6837e",
                "color": "#15AFAC",
                "thickness_factor": 1,
                "styles": {},
                "heat": 0
              },
              {
                "start": "DXB",
                "end": "JNB",
                "label": "",
                "properties": {},
                "directed": false,
                "id": "2e10e0b3-cee8-424f-b4d7-4183b86b2fe8",
                "color": "#15AFAC",
                "thickness_factor": 1,
                "styles": {},
                "heat": 0
              },
              {
                "start": "JNB",
                "end": "LHR",
                "label": "",
                "properties": {},
                "directed": false,
                "id": "92161e9b-56e1-4e16-a133-a95e7b059173",
                "color": "#15AFAC",
                "thickness_factor": 1,
                "styles": {},
                "heat": 0
              },
              {
                "start": "JNB",
                "end": "DKR",
                "label": "",
                "properties": {},
                "directed": false,
                "id": "14e214c4-8da9-42f4-9c0d-2b6d69d26b17",
                "color": "#15AFAC",
                "thickness_factor": 1,
                "styles": {},
                "heat": 0
              },
              {
                "start": "SYD",
                "end": "DXB",
                "label": "",
                "properties": {},
                "directed": false,
                "id": "6d572775-d2e6-4e5a-bf43-707a29eabf88",
                "color": "#15AFAC",
                "thickness_factor": 1,
                "styles": {},
                "heat": 0
              },
              {
                "start": "NBO",
                "end": "JNB",
                "label": "",
                "properties": {},
                "directed": false,
                "id": "488448cf-bd8e-4104-85d4-76b05cc3754a",
                "color": "#15AFAC",
                "thickness_factor": 1,
                "styles": {},
                "heat": 0
              },
              {
                "start": "NBO",
                "end": "DXB",
                "label": "",
                "properties": {},
                "directed": false,
                "id": "a86fd208-0c18-47e5-865a-33ab192ff1d6",
                "color": "#15AFAC",
                "thickness_factor": 1,
                "styles": {},
                "heat": 0
              },
              {
                "start": "ATL",
                "end": "JFK",
                "label": "",
                "properties": {},
                "directed": false,
                "id": "149c24a7-898a-4493-8077-295f26065e62",
                "color": "#15AFAC",
                "thickness_factor": 1,
                "styles": {},
                "heat": 0
              },
              {
                "start": "LAX",
                "end": "ATL",
                "label": "",
                "properties": {},
                "directed": false,
                "id": "ce55de2a-308e-412d-8465-7afa38e72c84",
                "color": "#15AFAC",
                "thickness_factor": 1,
                "styles": {},
                "heat": 0
              },
              {
                "start": "ATL",
                "end": "LHR",
                "label": "",
                "properties": {},
                "directed": false,
                "id": "363c4f39-1d02-4b40-84ba-e7f39a3acbcd",
                "color": "#15AFAC",
                "thickness_factor": 1,
                "styles": {},
                "heat": 0
              },
              {
                "start": "ATL",
                "end": "LIM",
                "label": "",
                "properties": {},
                "directed": false,
                "id": "44fb4c34-104d-4216-9e16-526b85b422c7",
                "color": "#15AFAC",
                "thickness_factor": 1,
                "styles": {},
                "heat": 0
              },
              {
                "start": "SCL",
                "end": "LIM",
                "label": "",
                "properties": {},
                "directed": false,
                "id": "ecdecb6e-df26-4ae1-b350-dfbf6214b04a",
                "color": "#15AFAC",
                "thickness_factor": 1,
                "styles": {},
                "heat": 0
              },
              {
                "start": "EZE",
                "end": "SCL",
                "label": "",
                "properties": {},
                "directed": false,
                "id": "23692604-a875-4f3b-a499-cfb4dd9529f0",
                "color": "#15AFAC",
                "thickness_factor": 1,
                "styles": {},
                "heat": 0
              },
              {
                "start": "SCL",
                "end": "GRU",
                "label": "",
                "properties": {},
                "directed": false,
                "id": "75f3f2ff-d721-4673-b7e9-b3ccfe9fe83b",
                "color": "#15AFAC",
                "thickness_factor": 1,
                "styles": {},
                "heat": 0
              },
              {
                "start": "GIG",
                "end": "EZE",
                "label": "",
                "properties": {},
                "directed": false,
                "id": "2c6861b8-208c-475d-9dd3-90b32c6c441e",
                "color": "#15AFAC",
                "thickness_factor": 1,
                "styles": {},
                "heat": 0
              },
              {
                "start": "GIG",
                "end": "GRU",
                "label": "",
                "properties": {},
                "directed": false,
                "id": "c0857bd9-5c66-4ebf-abc5-09bffad9c775",
                "color": "#15AFAC",
                "thickness_factor": 1,
                "styles": {},
                "heat": 0
              },
              {
                "start": "BSB",
                "end": "GIG",
                "label": "",
                "properties": {},
                "directed": false,
                "id": "1682770b-5ad1-495b-9f21-47d624c2dbbc",
                "color": "#15AFAC",
                "thickness_factor": 1,
                "styles": {},
                "heat": 0
              },
              {
                "start": "SCL",
                "end": "BSB",
                "label": "",
                "properties": {},
                "directed": false,
                "id": "7387e5d3-49ec-49b0-9488-85a0e76e27f6",
                "color": "#15AFAC",
                "thickness_factor": 1,
                "styles": {},
                "heat": 0
              },
              {
                "start": "LIM",
                "end": "BSB",
                "label": "",
                "properties": {},
                "directed": false,
                "id": "f4d7166d-673f-4e04-88c6-19563e199617",
                "color": "#15AFAC",
                "thickness_factor": 1,
                "styles": {},
                "heat": 0
              },
              {
                "start": "BOG",
                "end": "BSB",
                "label": "",
                "properties": {},
                "directed": false,
                "id": "1c341cb0-1dff-4bd6-9852-b3ad81207361",
                "color": "#15AFAC",
                "thickness_factor": 1,
                "styles": {},
                "heat": 0
              },
              {
                "start": "CCS",
                "end": "BSB",
                "label": "",
                "properties": {},
                "directed": false,
                "id": "bbd4b91b-e158-422c-9f2e-239a2cfb0330",
                "color": "#15AFAC",
                "thickness_factor": 1,
                "styles": {},
                "heat": 0
              },
              {
                "start": "BOG",
                "end": "GUA",
                "label": "",
                "properties": {},
                "directed": false,
                "id": "6ede49c5-2f39-4bba-b6f5-cef76f0ed592",
                "color": "#15AFAC",
                "thickness_factor": 1,
                "styles": {},
                "heat": 0
              },
              {
                "start": "CCS",
                "end": "MIA",
                "label": "",
                "properties": {},
                "directed": false,
                "id": "b4c4bec3-2914-43e9-88be-219c9880cb98",
                "color": "#15AFAC",
                "thickness_factor": 1,
                "styles": {},
                "heat": 0
              },
              {
                "start": "GUA",
                "end": "MIA",
                "label": "",
                "properties": {},
                "directed": false,
                "id": "d0f53399-4fc3-4277-8a4c-a1bab170c3d6",
                "color": "#15AFAC",
                "thickness_factor": 1,
                "styles": {},
                "heat": 0
              },
              {
                "start": "GUA",
                "end": "MEX",
                "label": "",
                "properties": {},
                "directed": false,
                "id": "b852d902-e4f3-40f3-90e0-fd728182c494",
                "color": "#15AFAC",
                "thickness_factor": 1,
                "styles": {},
                "heat": 0
              },
              {
                "start": "MEX",
                "end": "LAX",
                "label": "",
                "properties": {},
                "directed": false,
                "id": "213f5db3-1c39-4e19-aef5-4e51a29e1029",
                "color": "#15AFAC",
                "thickness_factor": 1,
                "styles": {},
                "heat": 0
              },
              {
                "start": "MEX",
                "end": "LAX",
                "label": "",
                "properties": {},
                "directed": false,
                "id": "4049654c-e95e-4519-af91-e13a1e7d6f4c",
                "color": "#15AFAC",
                "thickness_factor": 1,
                "styles": {},
                "heat": 0
              },
              {
                "start": "LAX",
                "end": "SFO",
                "label": "",
                "properties": {},
                "directed": false,
                "id": "2c44ca68-2a0f-47f1-b895-45642b900400",
                "color": "#15AFAC",
                "thickness_factor": 1,
                "styles": {},
                "heat": 0
              },
              {
                "start": "SFO",
                "end": "YVR",
                "label": "",
                "properties": {},
                "directed": false,
                "id": "8fc78d65-c971-4700-bac9-2fc21f1ff333",
                "color": "#15AFAC",
                "thickness_factor": 1,
                "styles": {},
                "heat": 0
              },
              {
                "start": "LAX",
                "end": "LAS",
                "label": "",
                "properties": {},
                "directed": false,
                "id": "211047e2-15c7-4d94-b69e-1f21272d25b3",
                "color": "#15AFAC",
                "thickness_factor": 1,
                "styles": {},
                "heat": 0
              },
              {
                "start": "LAX",
                "end": "DFW",
                "label": "",
                "properties": {},
                "directed": false,
                "id": "0fa0b197-f230-4af5-b877-cac9a70e3dd3",
                "color": "#15AFAC",
                "thickness_factor": 1,
                "styles": {},
                "heat": 0
              },
              {
                "start": "LAX",
                "end": "ORD",
                "label": "",
                "properties": {},
                "directed": false,
                "id": "2f867c80-9e2f-4afe-ad1d-7ea82a8cb6d1",
                "color": "#15AFAC",
                "thickness_factor": 1,
                "styles": {},
                "heat": 0
              },
              {
                "start": "SFO",
                "end": "LAS",
                "label": "",
                "properties": {},
                "directed": false,
                "id": "c5da4812-e4a8-4114-8fe9-e6f0223177e2",
                "color": "#15AFAC",
                "thickness_factor": 1,
                "styles": {},
                "heat": 0
              },
              {
                "start": "DFW",
                "end": "ATL",
                "label": "",
                "properties": {},
                "directed": false,
                "id": "db9c24f0-0b9b-40be-879e-0d132734ba24",
                "color": "#15AFAC",
                "thickness_factor": 1,
                "styles": {},
                "heat": 0
              },
              {
                "start": "ATL",
                "end": "YYZ",
                "label": "",
                "properties": {},
                "directed": false,
                "id": "b6dc7043-14b2-41a9-aaf8-09f229a86121",
                "color": "#15AFAC",
                "thickness_factor": 1,
                "styles": {},
                "heat": 0
              },
              {
                "start": "ORD",
                "end": "YYZ",
                "label": "",
                "properties": {},
                "directed": false,
                "id": "61791e32-f2c0-4560-b2ee-55a4160958d4",
                "color": "#15AFAC",
                "thickness_factor": 1,
                "styles": {},
                "heat": 0
              },
              {
                "start": "YYZ",
                "end": "YUL",
                "label": "",
                "properties": {},
                "directed": false,
                "id": "d99b885e-6a6c-45aa-a4fa-da03f1db24f8",
                "color": "#15AFAC",
                "thickness_factor": 1,
                "styles": {},
                "heat": 0
              },
              {
                "start": "YYZ",
                "end": "JFK",
                "label": "",
                "properties": {},
                "directed": false,
                "id": "b9b44a92-f017-470e-9ac2-92a24cc56d4c",
                "color": "#15AFAC",
                "thickness_factor": 1,
                "styles": {},
                "heat": 0
              },
              {
                "start": "YUL",
                "end": "JFK",
                "label": "",
                "properties": {},
                "directed": false,
                "id": "b2c2f551-eb47-4375-affa-138733d83a45",
                "color": "#15AFAC",
                "thickness_factor": 1,
                "styles": {},
                "heat": 0
              },
              {
                "start": "JNB",
                "end": "CPT",
                "label": "",
                "properties": {},
                "directed": false,
                "id": "663dd1e7-1ce7-467c-9b8f-f4d43495c1a8",
                "color": "#15AFAC",
                "thickness_factor": 1,
                "styles": {},
                "heat": 0
              },
              {
                "start": "LOS",
                "end": "DKR",
                "label": "",
                "properties": {},
                "directed": false,
                "id": "bae66ea3-bd04-45c7-8dd4-6343f565f616",
                "color": "#15AFAC",
                "thickness_factor": 1,
                "styles": {},
                "heat": 0
              },
              {
                "start": "NBO",
                "end": "LOS",
                "label": "",
                "properties": {},
                "directed": false,
                "id": "6510589b-7558-4a6d-9716-7209553a47ea",
                "color": "#15AFAC",
                "thickness_factor": 1,
                "styles": {},
                "heat": 0
              },
              {
                "start": "DKR",
                "end": "CMN",
                "label": "",
                "properties": {},
                "directed": false,
                "id": "4aee57d0-4a12-41e9-8650-dee39752db39",
                "color": "#15AFAC",
                "thickness_factor": 1,
                "styles": {},
                "heat": 0
              },
              {
                "start": "DKR",
                "end": "CAI",
                "label": "",
                "properties": {},
                "directed": false,
                "id": "32adede8-f34a-40fe-a5a8-425456bdc4dd",
                "color": "#15AFAC",
                "thickness_factor": 1,
                "styles": {},
                "heat": 0
              },
              {
                "start": "NBO",
                "end": "CAI",
                "label": "",
                "properties": {},
                "directed": false,
                "id": "b10198a9-84f0-4d1d-b1d9-be50a0e184cb",
                "color": "#15AFAC",
                "thickness_factor": 1,
                "styles": {},
                "heat": 0
              },
              {
                "start": "DXB",
                "end": "CAI",
                "label": "",
                "properties": {},
                "directed": false,
                "id": "9fe0d920-661d-42da-bcc8-15f176dcce74",
                "color": "#15AFAC",
                "thickness_factor": 1,
                "styles": {},
                "heat": 0
              },
              {
                "start": "IKA",
                "end": "DXB",
                "label": "",
                "properties": {},
                "directed": false,
                "id": "424b5e21-2257-4320-ae97-45c644054456",
                "color": "#15AFAC",
                "thickness_factor": 1,
                "styles": {},
                "heat": 0
              },
              {
                "start": "IST",
                "end": "IKA",
                "label": "",
                "properties": {},
                "directed": false,
                "id": "ec781c7b-a78c-4f96-943b-7774865fa18d",
                "color": "#15AFAC",
                "thickness_factor": 1,
                "styles": {},
                "heat": 0
              },
              {
                "start": "TLV",
                "end": "ATH",
                "label": "",
                "properties": {},
                "directed": false,
                "id": "ee2cfce4-2e47-47ab-95a7-deadd49b669f",
                "color": "#15AFAC",
                "thickness_factor": 1,
                "styles": {},
                "heat": 0
              },
              {
                "start": "CAI",
                "end": "TLV",
                "label": "",
                "properties": {},
                "directed": false,
                "id": "67c6ca68-5b2a-4fc4-9824-e88b65c9d860",
                "color": "#15AFAC",
                "thickness_factor": 1,
                "styles": {},
                "heat": 0
              },
              {
                "start": "ATH",
                "end": "IST",
                "label": "",
                "properties": {},
                "directed": false,
                "id": "c363f287-5a73-4295-a17b-22a75e2a534c",
                "color": "#15AFAC",
                "thickness_factor": 1,
                "styles": {},
                "heat": 0
              },
              {
                "start": "FCO",
                "end": "ATH",
                "label": "",
                "properties": {},
                "directed": false,
                "id": "a5a02430-9606-4c6c-9e94-ed3378cc9868",
                "color": "#15AFAC",
                "thickness_factor": 1,
                "styles": {},
                "heat": 0
              },
              {
                "start": "LIS",
                "end": "LHR",
                "label": "",
                "properties": {},
                "directed": false,
                "id": "1169e704-8e0e-487f-a6ee-e507d7b0dabb",
                "color": "#15AFAC",
                "thickness_factor": 1,
                "styles": {},
                "heat": 0
              },
              {
                "start": "LIS",
                "end": "MAD",
                "label": "",
                "properties": {},
                "directed": false,
                "id": "4c0bed6f-6b60-43f1-a0f7-a82aace61958",
                "color": "#15AFAC",
                "thickness_factor": 1,
                "styles": {},
                "heat": 0
              },
              {
                "start": "MAD",
                "end": "BCN",
                "label": "",
                "properties": {},
                "directed": false,
                "id": "ab8bd8da-7a8a-4def-a080-dea09e0ef841",
                "color": "#15AFAC",
                "thickness_factor": 1,
                "styles": {},
                "heat": 0
              },
              {
                "start": "CDG",
                "end": "LHR",
                "label": "",
                "properties": {},
                "directed": false,
                "id": "82d5f183-b8ec-496c-ad48-12a627bc38e4",
                "color": "#15AFAC",
                "thickness_factor": 1,
                "styles": {},
                "heat": 0
              },
              {
                "start": "DUB",
                "end": "LHR",
                "label": "",
                "properties": {},
                "directed": false,
                "id": "6cf0d9c5-5ddf-40a7-95c2-f0ebed16c005",
                "color": "#15AFAC",
                "thickness_factor": 1,
                "styles": {},
                "heat": 0
              },
              {
                "start": "EDI",
                "end": "LHR",
                "label": "",
                "properties": {},
                "directed": false,
                "id": "194fbac0-d93a-4d2b-a777-8cfc004b41c1",
                "color": "#15AFAC",
                "thickness_factor": 1,
                "styles": {},
                "heat": 0
              },
              {
                "start": "CDG",
                "end": "BCN",
                "label": "",
                "properties": {},
                "directed": false,
                "id": "d16c6e29-9ca0-4c3b-b700-97052250bdd8",
                "color": "#15AFAC",
                "thickness_factor": 1,
                "styles": {},
                "heat": 0
              },
              {
                "start": "BCN",
                "end": "FCO",
                "label": "",
                "properties": {},
                "directed": false,
                "id": "0e48d4e1-babb-4797-93b7-4fcaa6b9711e",
                "color": "#15AFAC",
                "thickness_factor": 1,
                "styles": {},
                "heat": 0
              },
              {
                "start": "VIE",
                "end": "IST",
                "label": "",
                "properties": {},
                "directed": false,
                "id": "5fadacb5-5a9e-40ff-b39d-b54b9c9ee6db",
                "color": "#15AFAC",
                "thickness_factor": 1,
                "styles": {},
                "heat": 0
              },
              {
                "start": "VIE",
                "end": "SVO",
                "label": "",
                "properties": {},
                "directed": false,
                "id": "691d1b6e-f207-48c8-aa93-a16030c19019",
                "color": "#15AFAC",
                "thickness_factor": 1,
                "styles": {},
                "heat": 0
              },
              {
                "start": "CMN",
                "end": "LIS",
                "label": "",
                "properties": {},
                "directed": false,
                "id": "38fb1d1f-611a-49b6-9291-314d0ea1ff74",
                "color": "#15AFAC",
                "thickness_factor": 1,
                "styles": {},
                "heat": 0
              },
              {
                "start": "MAD",
                "end": "CMN",
                "label": "",
                "properties": {},
                "directed": false,
                "id": "5f4ab795-c196-44b8-8d4c-fbe92e3fcdd4",
                "color": "#15AFAC",
                "thickness_factor": 1,
                "styles": {},
                "heat": 0
              },
              {
                "start": "FRA",
                "end": "CPH",
                "label": "",
                "properties": {},
                "directed": false,
                "id": "6f892a48-11b4-44c0-855e-20e76eb70e3b",
                "color": "#15AFAC",
                "thickness_factor": 1,
                "styles": {},
                "heat": 0
              },
              {
                "start": "LHR",
                "end": "CPH",
                "label": "",
                "properties": {},
                "directed": false,
                "id": "0acd4373-c43d-41f6-a901-a55da73a958f",
                "color": "#15AFAC",
                "thickness_factor": 1,
                "styles": {},
                "heat": 0
              },
              {
                "start": "CPH",
                "end": "OSL",
                "label": "",
                "properties": {},
                "directed": false,
                "id": "454affbf-e628-4d17-ae2f-370a67c9a9b2",
                "color": "#15AFAC",
                "thickness_factor": 1,
                "styles": {},
                "heat": 0
              },
              {
                "start": "CPH",
                "end": "ARN",
                "label": "",
                "properties": {},
                "directed": false,
                "id": "d27a5bad-7a3a-4e14-903c-016bd39d4290",
                "color": "#15AFAC",
                "thickness_factor": 1,
                "styles": {},
                "heat": 0
              },
              {
                "start": "ARN",
                "end": "HEL",
                "label": "",
                "properties": {},
                "directed": false,
                "id": "42af69c7-1f49-41fe-adb9-467bff6746eb",
                "color": "#15AFAC",
                "thickness_factor": 1,
                "styles": {},
                "heat": 0
              },
              {
                "start": "HEL",
                "end": "SVO",
                "label": "",
                "properties": {},
                "directed": false,
                "id": "173707b2-352d-44a2-bf28-3424442a532f",
                "color": "#15AFAC",
                "thickness_factor": 1,
                "styles": {},
                "heat": 0
              },
              {
                "start": "ULN",
                "end": "PVG",
                "label": "",
                "properties": {},
                "directed": false,
                "id": "94123e2a-d6d9-427a-8603-e5f4462afe55",
                "color": "#15AFAC",
                "thickness_factor": 1,
                "styles": {},
                "heat": 0
              },
              {
                "start": "CTU",
                "end": "PVG",
                "label": "",
                "properties": {},
                "directed": false,
                "id": "ca871f7f-0756-4c90-be95-0768c0df4f64",
                "color": "#15AFAC",
                "thickness_factor": 1,
                "styles": {},
                "heat": 0
              },
              {
                "start": "PVG",
                "end": "TPE",
                "label": "",
                "properties": {},
                "directed": false,
                "id": "b4da3efb-7873-4848-9873-a0935e654a3f",
                "color": "#15AFAC",
                "thickness_factor": 1,
                "styles": {},
                "heat": 0
              },
              {
                "start": "CTU",
                "end": "HKG",
                "label": "",
                "properties": {},
                "directed": false,
                "id": "66897a79-109e-4d6b-a9ce-ea2165e6f61e",
                "color": "#15AFAC",
                "thickness_factor": 1,
                "styles": {},
                "heat": 0
              },
              {
                "start": "TPE",
                "end": "HKG",
                "label": "",
                "properties": {},
                "directed": false,
                "id": "e84b8206-bb0c-4ad2-8a9f-04e10005d43e",
                "color": "#15AFAC",
                "thickness_factor": 1,
                "styles": {},
                "heat": 0
              },
              {
                "start": "HKG",
                "end": "MNL",
                "label": "",
                "properties": {},
                "directed": false,
                "id": "03346a91-a076-4334-9c98-606151b476e6",
                "color": "#15AFAC",
                "thickness_factor": 1,
                "styles": {},
                "heat": 0
              },
              {
                "start": "BKK",
                "end": "HKG",
                "label": "",
                "properties": {},
                "directed": false,
                "id": "6879b4a1-394e-4933-b54b-4b7cc9c88be8",
                "color": "#15AFAC",
                "thickness_factor": 1,
                "styles": {},
                "heat": 0
              },
              {
                "start": "SIN",
                "end": "KUL",
                "label": "",
                "properties": {},
                "directed": false,
                "id": "0402c6a6-935d-4488-9379-e2efdcd90fca",
                "color": "#15AFAC",
                "thickness_factor": 1,
                "styles": {},
                "heat": 0
              },
              {
                "start": "SIN",
                "end": "BKK",
                "label": "",
                "properties": {},
                "directed": false,
                "id": "5f82f5c7-5afc-4550-8b06-e7e4766d29b3",
                "color": "#15AFAC",
                "thickness_factor": 1,
                "styles": {},
                "heat": 0
              },
              {
                "start": "CGK",
                "end": "SIN",
                "label": "",
                "properties": {},
                "directed": false,
                "id": "566993a3-375a-41ce-af9c-05ed354aa629",
                "color": "#15AFAC",
                "thickness_factor": 1,
                "styles": {},
                "heat": 0
              },
              {
                "start": "MNL",
                "end": "SIN",
                "label": "",
                "properties": {},
                "directed": false,
                "id": "2c15b320-cc01-4f22-bec7-7f8095f19e47",
                "color": "#15AFAC",
                "thickness_factor": 1,
                "styles": {},
                "heat": 0
              },
              {
                "start": "SIN",
                "end": "SYD",
                "label": "",
                "properties": {},
                "directed": false,
                "id": "7ce08804-202e-4ffb-a3e9-a7652b2b2397",
                "color": "#15AFAC",
                "thickness_factor": 1,
                "styles": {},
                "heat": 0
              },
              {
                "start": "BNE",
                "end": "SYD",
                "label": "",
                "properties": {},
                "directed": false,
                "id": "c70ae06f-98c9-4835-9369-7de16b5e594f",
                "color": "#15AFAC",
                "thickness_factor": 1,
                "styles": {},
                "heat": 0
              },
              {
                "start": "SYD",
                "end": "MEL",
                "label": "",
                "properties": {},
                "directed": false,
                "id": "9c7ae318-4433-428b-a547-ecf52f151475",
                "color": "#15AFAC",
                "thickness_factor": 1,
                "styles": {},
                "heat": 0
              },
              {
                "start": "NAN",
                "end": "SYD",
                "label": "",
                "properties": {},
                "directed": false,
                "id": "efc4fddb-c067-446e-88b4-cb8dca2c15f9",
                "color": "#15AFAC",
                "thickness_factor": 1,
                "styles": {},
                "heat": 0
              },
              {
                "start": "AKL",
                "end": "SYD",
                "label": "",
                "properties": {},
                "directed": false,
                "id": "397ce5bc-771d-4c32-addc-998213486845",
                "color": "#15AFAC",
                "thickness_factor": 1,
                "styles": {},
                "heat": 0
              },
              {
                "start": "NAN",
                "end": "AKL",
                "label": "",
                "properties": {},
                "directed": false,
                "id": "a3610bcb-628f-4c1f-9b46-0128e289d1b0",
                "color": "#15AFAC",
                "thickness_factor": 1,
                "styles": {},
                "heat": 0
              },
              {
                "start": "RKV",
                "end": "LHR",
                "label": "",
                "properties": {},
                "directed": false,
                "id": "4555554b-d297-49c0-a840-ed52f090dc11",
                "color": "#15AFAC",
                "thickness_factor": 1,
                "styles": {},
                "heat": 0
              },
              {
                "start": "BCN",
                "end": "CDG",
                "label": "",
                "properties": {},
                "directed": false,
                "id": "b45e184f-2f15-430c-a7a3-0e1d2973ed01",
                "color": "#15AFAC",
                "thickness_factor": 1,
                "styles": {},
                "heat": 0
              },
              {
                "start": "BCN",
                "end": "FRA",
                "label": "",
                "properties": {},
                "directed": false,
                "id": "26a0f51e-12a3-4ad4-b752-cb5246878cae",
                "color": "#15AFAC",
                "thickness_factor": 1,
                "styles": {},
                "heat": 0
              },
              {
                "start": "FCO",
                "end": "FRA",
                "label": "",
                "properties": {},
                "directed": false,
                "id": "e62ffd53-4248-432a-9ef2-70717c0509f5",
                "color": "#15AFAC",
                "thickness_factor": 1,
                "styles": {},
                "heat": 0
              },
              {
                "start": "BOG",
                "end": "MEX",
                "label": "",
                "properties": {},
                "directed": false,
                "id": "41e16971-7a95-43a1-a002-6584d08e17cc",
                "color": "#15AFAC",
                "thickness_factor": 1,
                "styles": {},
                "heat": 0
              },
              {
                "start": "BOG",
                "end": "GRU",
                "label": "",
                "properties": {},
                "directed": false,
                "id": "15b920c1-7c96-43e9-953b-bfc0702e3449",
                "color": "#15AFAC",
                "thickness_factor": 1,
                "styles": {},
                "heat": 0
              },
              {
                "start": "ATL",
                "end": "MIA",
                "label": "",
                "properties": {},
                "directed": false,
                "id": "7ad0cc87-ed6f-40a7-b8b2-2dcb188dc64c",
                "color": "#15AFAC",
                "thickness_factor": 1,
                "styles": {},
                "heat": 0
              },
              {
                "start": "FRA",
                "end": "IST",
                "label": "",
                "properties": {},
                "directed": false,
                "id": "0a4f97dc-62e9-40a6-b0df-feeea65f88c5",
                "color": "#15AFAC",
                "thickness_factor": 1,
                "styles": {},
                "heat": 0
              },
              {
                "start": "IST",
                "end": "DEL",
                "label": "",
                "properties": {},
                "directed": false,
                "id": "0329f326-3cb4-42ae-b73d-c13b7e7ccd55",
                "color": "#15AFAC",
                "thickness_factor": 1,
                "styles": {},
                "heat": 0
              },
              {
                "start": "PVG",
                "end": "BKK",
                "label": "",
                "properties": {},
                "directed": false,
                "id": "4631daf6-ce42-4b65-aa49-59b0d2160060",
                "color": "#15AFAC",
                "thickness_factor": 1,
                "styles": {},
                "heat": 0
              },
              {
                "start": "DEL",
                "end": "BKK",
                "label": "",
                "properties": {},
                "directed": false,
                "id": "9f7052ea-6995-4953-9e7c-5afb56f63636",
                "color": "#15AFAC",
                "thickness_factor": 1,
                "styles": {},
                "heat": 0
              }
            ],
            "_graph_layout": {
              "algorithm": "hierarchic",
              "options": {}
            },
            "_highlight": [],
            "_license": {},
            "_model_module": "yfiles-jupyter-graphs",
            "_model_module_version": "^1.10.9",
            "_model_name": "GraphModel",
            "_neighborhood": {},
            "_nodes": [
              {
                "id": "LAX",
                "properties": {
                  "label": "Los Angeles",
                  "passengers": 65000000,
                  "country": "USA",
                  "country_id": "us"
                },
                "coordinates": [
                  33.942536,
                  -118.408075
                ],
                "color": "#15AFAC",
                "styles": {
                  "image": "https://raw.githubusercontent.com/lipis/flag-icons/e119b66129af6dd849754ccf25dfbf81d4a306d5/flags/1x1/us.svg"
                },
                "label": "Los Angeles",
                "scale_factor": 1,
                "type": "#15AFAC",
                "size": [
                  55,
                  55
                ],
                "position": [
                  0,
                  0
                ],
                "parentId": "group#USA",
                "heat": 0.6963123644251626
              },
              {
                "id": "GIG",
                "properties": {
                  "label": "Rio de Janeiro",
                  "passengers": 5000000,
                  "country": "Brazil",
                  "country_id": "br"
                },
                "coordinates": [
                  -22.808903,
                  -43.243647
                ],
                "color": "#15AFAC",
                "styles": {
                  "image": "https://raw.githubusercontent.com/lipis/flag-icons/e119b66129af6dd849754ccf25dfbf81d4a306d5/flags/1x1/br.svg"
                },
                "label": "Rio de Janeiro",
                "scale_factor": 1,
                "type": "#15AFAC",
                "size": [
                  55,
                  55
                ],
                "position": [
                  0,
                  0
                ],
                "parentId": "group#Brazil",
                "heat": 0.0455531453362256
              },
              {
                "id": "LIM",
                "properties": {
                  "label": "Lima",
                  "passengers": 18000000,
                  "country": "Peru",
                  "country_id": "pe"
                },
                "coordinates": [
                  -12.021889,
                  -77.114319
                ],
                "color": "#15AFAC",
                "styles": {
                  "image": "https://raw.githubusercontent.com/lipis/flag-icons/e119b66129af6dd849754ccf25dfbf81d4a306d5/flags/1x1/pe.svg"
                },
                "label": "Lima",
                "scale_factor": 1,
                "type": "#15AFAC",
                "size": [
                  55,
                  55
                ],
                "position": [
                  0,
                  0
                ],
                "parentId": "group#Peru",
                "heat": 0.18655097613882862
              },
              {
                "id": "LHR",
                "properties": {
                  "label": "London",
                  "passengers": 61000000,
                  "country": "UK",
                  "country_id": "gb"
                },
                "coordinates": [
                  51.4775,
                  -0.461389
                ],
                "color": "#15AFAC",
                "styles": {
                  "image": "https://raw.githubusercontent.com/lipis/flag-icons/e119b66129af6dd849754ccf25dfbf81d4a306d5/flags/1x1/gb.svg"
                },
                "label": "London",
                "scale_factor": 1,
                "type": "#15AFAC",
                "size": [
                  55,
                  55
                ],
                "position": [
                  0,
                  0
                ],
                "parentId": "group#UK",
                "heat": 0.6529284164859002
              },
              {
                "id": "FRA",
                "properties": {
                  "label": "Frankfurt",
                  "passengers": 48000000,
                  "country": "Germany",
                  "country_id": "de"
                },
                "coordinates": [
                  50.033333,
                  8.570556
                ],
                "color": "#15AFAC",
                "styles": {
                  "image": "https://raw.githubusercontent.com/lipis/flag-icons/e119b66129af6dd849754ccf25dfbf81d4a306d5/flags/1x1/de.svg"
                },
                "label": "Frankfurt",
                "scale_factor": 1,
                "type": "#15AFAC",
                "size": [
                  55,
                  55
                ],
                "position": [
                  0,
                  0
                ],
                "parentId": "group#Germany",
                "heat": 0.5119305856832972
              },
              {
                "id": "SVO",
                "properties": {
                  "label": "Moscow",
                  "passengers": 49000000,
                  "country": "Russia",
                  "country_id": "ru"
                },
                "coordinates": [
                  55.972642,
                  37.414589
                ],
                "color": "#15AFAC",
                "styles": {
                  "image": "https://raw.githubusercontent.com/lipis/flag-icons/e119b66129af6dd849754ccf25dfbf81d4a306d5/flags/1x1/ru.svg"
                },
                "label": "Moscow",
                "scale_factor": 1,
                "type": "#15AFAC",
                "size": [
                  55,
                  55
                ],
                "position": [
                  0,
                  0
                ],
                "parentId": "group#Russia",
                "heat": 0.5227765726681128
              },
              {
                "id": "DEL",
                "properties": {
                  "label": "New Delhi",
                  "passengers": 39000000,
                  "country": "India",
                  "country_id": "in"
                },
                "coordinates": [
                  28.5665,
                  77.103089
                ],
                "color": "#15AFAC",
                "styles": {
                  "image": "https://raw.githubusercontent.com/lipis/flag-icons/e119b66129af6dd849754ccf25dfbf81d4a306d5/flags/1x1/in.svg"
                },
                "label": "New Delhi",
                "scale_factor": 1,
                "type": "#15AFAC",
                "size": [
                  55,
                  55
                ],
                "position": [
                  0,
                  0
                ],
                "parentId": "group#India",
                "heat": 0.41431670281995664
              },
              {
                "id": "PVG",
                "properties": {
                  "label": "Shanghai",
                  "passengers": 32000000,
                  "country": "China",
                  "country_id": "hk"
                },
                "coordinates": [
                  31.143378,
                  121.805214
                ],
                "color": "#15AFAC",
                "styles": {
                  "image": "https://raw.githubusercontent.com/lipis/flag-icons/e119b66129af6dd849754ccf25dfbf81d4a306d5/flags/1x1/hk.svg"
                },
                "label": "Shanghai",
                "scale_factor": 1,
                "type": "#15AFAC",
                "size": [
                  55,
                  55
                ],
                "position": [
                  0,
                  0
                ],
                "parentId": "group#China",
                "heat": 0.3383947939262473
              },
              {
                "id": "HKG",
                "properties": {
                  "label": "Hongkong",
                  "passengers": 1000000,
                  "country": "China",
                  "country_id": "hk"
                },
                "coordinates": [
                  22.308919,
                  113.914603
                ],
                "color": "#15AFAC",
                "styles": {
                  "image": "https://raw.githubusercontent.com/lipis/flag-icons/e119b66129af6dd849754ccf25dfbf81d4a306d5/flags/1x1/hk.svg"
                },
                "label": "Hongkong",
                "scale_factor": 1,
                "type": "#15AFAC",
                "size": [
                  55,
                  55
                ],
                "position": [
                  0,
                  0
                ],
                "parentId": "group#China",
                "heat": 0.0021691973969631237
              },
              {
                "id": "NRT",
                "properties": {
                  "label": "Tokio",
                  "passengers": 15000000,
                  "country": "Japan",
                  "country_id": "jp"
                },
                "coordinates": [
                  35.764722,
                  140.386389
                ],
                "color": "#15AFAC",
                "styles": {
                  "image": "https://raw.githubusercontent.com/lipis/flag-icons/e119b66129af6dd849754ccf25dfbf81d4a306d5/flags/1x1/jp.svg"
                },
                "label": "Tokio",
                "scale_factor": 1,
                "type": "#15AFAC",
                "size": [
                  55,
                  55
                ],
                "position": [
                  0,
                  0
                ],
                "parentId": "group#Japan",
                "heat": 0.1540130151843818
              },
              {
                "id": "DXB",
                "properties": {
                  "label": "Dubai",
                  "passengers": 29000000,
                  "country": "UAE",
                  "country_id": "ae"
                },
                "coordinates": [
                  25.252778,
                  55.364444
                ],
                "color": "#15AFAC",
                "styles": {
                  "image": "https://raw.githubusercontent.com/lipis/flag-icons/e119b66129af6dd849754ccf25dfbf81d4a306d5/flags/1x1/ae.svg"
                },
                "label": "Dubai",
                "scale_factor": 1,
                "type": "#15AFAC",
                "size": [
                  55,
                  55
                ],
                "position": [
                  0,
                  0
                ],
                "parentId": "group#UAE",
                "heat": 0.30585683297180044
              },
              {
                "id": "DKR",
                "properties": {
                  "label": "Dakar",
                  "passengers": 2000000,
                  "country": "Senegal",
                  "country_id": "sn"
                },
                "coordinates": [
                  14.670833,
                  -17.072778
                ],
                "color": "#15AFAC",
                "styles": {
                  "image": "https://raw.githubusercontent.com/lipis/flag-icons/e119b66129af6dd849754ccf25dfbf81d4a306d5/flags/1x1/sn.svg"
                },
                "label": "Dakar",
                "scale_factor": 1,
                "type": "#15AFAC",
                "size": [
                  55,
                  55
                ],
                "position": [
                  0,
                  0
                ],
                "parentId": "group#Senegal",
                "heat": 0.013015184381778741
              },
              {
                "id": "JNB",
                "properties": {
                  "label": "Johannesburg",
                  "passengers": 9000000,
                  "country": "South Africa",
                  "country_id": "za"
                },
                "coordinates": [
                  -26.133694,
                  28.242317
                ],
                "color": "#15AFAC",
                "styles": {
                  "image": "https://raw.githubusercontent.com/lipis/flag-icons/e119b66129af6dd849754ccf25dfbf81d4a306d5/flags/1x1/za.svg"
                },
                "label": "Johannesburg",
                "scale_factor": 1,
                "type": "#15AFAC",
                "size": [
                  55,
                  55
                ],
                "position": [
                  0,
                  0
                ],
                "parentId": "group#South Africa",
                "heat": 0.08893709327548807
              },
              {
                "id": "SYD",
                "properties": {
                  "label": "Sydney",
                  "passengers": 44000000,
                  "country": "Australia",
                  "country_id": "au"
                },
                "coordinates": [
                  -33.946111,
                  151.177222
                ],
                "color": "#15AFAC",
                "styles": {
                  "image": "https://raw.githubusercontent.com/lipis/flag-icons/e119b66129af6dd849754ccf25dfbf81d4a306d5/flags/1x1/au.svg"
                },
                "label": "Sydney",
                "scale_factor": 1,
                "type": "#15AFAC",
                "size": [
                  55,
                  55
                ],
                "position": [
                  0,
                  0
                ],
                "parentId": "group#Australia",
                "heat": 0.4685466377440347
              },
              {
                "id": "NBO",
                "properties": {
                  "label": "Nairobi",
                  "passengers": 900000,
                  "country": "Kenya",
                  "country_id": "ke"
                },
                "coordinates": [
                  -1.319167,
                  36.927778
                ],
                "color": "#15AFAC",
                "styles": {
                  "image": "https://raw.githubusercontent.com/lipis/flag-icons/e119b66129af6dd849754ccf25dfbf81d4a306d5/flags/1x1/ke.svg"
                },
                "label": "Nairobi",
                "scale_factor": 1,
                "type": "#15AFAC",
                "size": [
                  55,
                  55
                ],
                "position": [
                  0,
                  0
                ],
                "parentId": "group#Kenya",
                "heat": 0.0010845986984815619
              },
              {
                "id": "ATL",
                "properties": {
                  "label": "Atlanta",
                  "passengers": 93000000,
                  "country": "USA",
                  "country_id": "us"
                },
                "coordinates": [
                  33.639167,
                  -84.427778
                ],
                "color": "#15AFAC",
                "styles": {
                  "image": "https://raw.githubusercontent.com/lipis/flag-icons/e119b66129af6dd849754ccf25dfbf81d4a306d5/flags/1x1/us.svg"
                },
                "label": "Atlanta",
                "scale_factor": 1,
                "type": "#15AFAC",
                "size": [
                  55,
                  55
                ],
                "position": [
                  0,
                  0
                ],
                "parentId": "group#USA",
                "heat": 1
              },
              {
                "id": "JFK",
                "properties": {
                  "label": "New York City",
                  "passengers": 55000000,
                  "country": "USA",
                  "country_id": "us"
                },
                "coordinates": [
                  40.63975,
                  -73.778925
                ],
                "color": "#15AFAC",
                "styles": {
                  "image": "https://raw.githubusercontent.com/lipis/flag-icons/e119b66129af6dd849754ccf25dfbf81d4a306d5/flags/1x1/us.svg"
                },
                "label": "New York City",
                "scale_factor": 1,
                "type": "#15AFAC",
                "size": [
                  55,
                  55
                ],
                "position": [
                  0,
                  0
                ],
                "parentId": "group#USA",
                "heat": 0.5878524945770065
              },
              {
                "id": "CAI",
                "properties": {
                  "label": "Cairo",
                  "passengers": 14000000,
                  "country": "Egypt",
                  "country_id": "eg"
                },
                "coordinates": [
                  30.121944,
                  31.405556
                ],
                "color": "#15AFAC",
                "styles": {
                  "image": "https://raw.githubusercontent.com/lipis/flag-icons/e119b66129af6dd849754ccf25dfbf81d4a306d5/flags/1x1/eg.svg"
                },
                "label": "Cairo",
                "scale_factor": 1,
                "type": "#15AFAC",
                "size": [
                  55,
                  55
                ],
                "position": [
                  0,
                  0
                ],
                "parentId": "group#Egypt",
                "heat": 0.14316702819956617
              },
              {
                "id": "CMN",
                "properties": {
                  "label": "Casablanca",
                  "passengers": 7000000,
                  "country": "Morocco",
                  "country_id": "ma"
                },
                "coordinates": [
                  33.367467,
                  -7.589967
                ],
                "color": "#15AFAC",
                "styles": {
                  "image": "https://raw.githubusercontent.com/lipis/flag-icons/e119b66129af6dd849754ccf25dfbf81d4a306d5/flags/1x1/ma.svg"
                },
                "label": "Casablanca",
                "scale_factor": 1,
                "type": "#15AFAC",
                "size": [
                  55,
                  55
                ],
                "position": [
                  0,
                  0
                ],
                "parentId": "group#Morocco",
                "heat": 0.06724511930585683
              },
              {
                "id": "LOS",
                "properties": {
                  "label": "Lagos",
                  "passengers": 5000000,
                  "country": "Nigeria",
                  "country_id": "ng"
                },
                "coordinates": [
                  6.577222,
                  3.321111
                ],
                "color": "#15AFAC",
                "styles": {
                  "image": "https://raw.githubusercontent.com/lipis/flag-icons/e119b66129af6dd849754ccf25dfbf81d4a306d5/flags/1x1/ng.svg"
                },
                "label": "Lagos",
                "scale_factor": 1,
                "type": "#15AFAC",
                "size": [
                  55,
                  55
                ],
                "position": [
                  0,
                  0
                ],
                "parentId": "group#Nigeria",
                "heat": 0.0455531453362256
              },
              {
                "id": "CPT",
                "properties": {
                  "label": "Cape Town",
                  "passengers": 5000000,
                  "country": "South Africa",
                  "country_id": "za"
                },
                "coordinates": [
                  -33.969444,
                  18.597222
                ],
                "color": "#15AFAC",
                "styles": {
                  "image": "https://raw.githubusercontent.com/lipis/flag-icons/e119b66129af6dd849754ccf25dfbf81d4a306d5/flags/1x1/za.svg"
                },
                "label": "Cape Town",
                "scale_factor": 1,
                "type": "#15AFAC",
                "size": [
                  55,
                  55
                ],
                "position": [
                  0,
                  0
                ],
                "parentId": "group#South Africa",
                "heat": 0.0455531453362256
              },
              {
                "id": "CTU",
                "properties": {
                  "label": "Chengdu",
                  "passengers": 40000000,
                  "country": "China",
                  "country_id": "hk"
                },
                "coordinates": [
                  30.578333,
                  103.946944
                ],
                "color": "#15AFAC",
                "styles": {
                  "image": "https://raw.githubusercontent.com/lipis/flag-icons/e119b66129af6dd849754ccf25dfbf81d4a306d5/flags/1x1/hk.svg"
                },
                "label": "Chengdu",
                "scale_factor": 1,
                "type": "#15AFAC",
                "size": [
                  55,
                  55
                ],
                "position": [
                  0,
                  0
                ],
                "parentId": "group#China",
                "heat": 0.42516268980477223
              },
              {
                "id": "CGK",
                "properties": {
                  "label": "Jakarta",
                  "passengers": 54000000,
                  "country": "Indonesia",
                  "country_id": "id"
                },
                "coordinates": [
                  -6.125567,
                  106.655897
                ],
                "color": "#15AFAC",
                "styles": {
                  "image": "https://raw.githubusercontent.com/lipis/flag-icons/e119b66129af6dd849754ccf25dfbf81d4a306d5/flags/1x1/id.svg"
                },
                "label": "Jakarta",
                "scale_factor": 1,
                "type": "#15AFAC",
                "size": [
                  55,
                  55
                ],
                "position": [
                  0,
                  0
                ],
                "parentId": "group#Indonesia",
                "heat": 0.5770065075921909
              },
              {
                "id": "IKA",
                "properties": {
                  "label": "Teheran",
                  "passengers": 8000000,
                  "country": "Iran",
                  "country_id": "ir"
                },
                "coordinates": [
                  35.416111,
                  51.152222
                ],
                "color": "#15AFAC",
                "styles": {
                  "image": "https://raw.githubusercontent.com/lipis/flag-icons/e119b66129af6dd849754ccf25dfbf81d4a306d5/flags/1x1/ir.svg"
                },
                "label": "Teheran",
                "scale_factor": 1,
                "type": "#15AFAC",
                "size": [
                  55,
                  55
                ],
                "position": [
                  0,
                  0
                ],
                "parentId": "group#Iran",
                "heat": 0.07809110629067245
              },
              {
                "id": "TLV",
                "properties": {
                  "label": "Tel Aviv",
                  "passengers": 20000000,
                  "country": "Israel",
                  "country_id": "il"
                },
                "coordinates": [
                  32.011389,
                  34.886667
                ],
                "color": "#15AFAC",
                "styles": {
                  "image": "https://raw.githubusercontent.com/lipis/flag-icons/e119b66129af6dd849754ccf25dfbf81d4a306d5/flags/1x1/il.svg"
                },
                "label": "Tel Aviv",
                "scale_factor": 1,
                "type": "#15AFAC",
                "size": [
                  55,
                  55
                ],
                "position": [
                  0,
                  0
                ],
                "parentId": "group#Israel",
                "heat": 0.20824295010845986
              },
              {
                "id": "KUL",
                "properties": {
                  "label": "Kuala Lumpur",
                  "passengers": 25000000,
                  "country": "Malaysia",
                  "country_id": "my"
                },
                "coordinates": [
                  2.745578,
                  101.709917
                ],
                "color": "#15AFAC",
                "styles": {
                  "image": "https://raw.githubusercontent.com/lipis/flag-icons/e119b66129af6dd849754ccf25dfbf81d4a306d5/flags/1x1/my.svg"
                },
                "label": "Kuala Lumpur",
                "scale_factor": 1,
                "type": "#15AFAC",
                "size": [
                  55,
                  55
                ],
                "position": [
                  0,
                  0
                ],
                "parentId": "group#Malaysia",
                "heat": 0.26247288503253796
              },
              {
                "id": "MNL",
                "properties": {
                  "label": "Manila",
                  "passengers": 8000000,
                  "country": "Philippines",
                  "country_id": "ph"
                },
                "coordinates": [
                  14.508647,
                  121.019581
                ],
                "color": "#15AFAC",
                "styles": {
                  "image": "https://raw.githubusercontent.com/lipis/flag-icons/e119b66129af6dd849754ccf25dfbf81d4a306d5/flags/1x1/ph.svg"
                },
                "label": "Manila",
                "scale_factor": 1,
                "type": "#15AFAC",
                "size": [
                  55,
                  55
                ],
                "position": [
                  0,
                  0
                ],
                "parentId": "group#Philippines",
                "heat": 0.07809110629067245
              },
              {
                "id": "SIN",
                "properties": {
                  "label": "Singapur",
                  "passengers": 32000000,
                  "country": "Singapore",
                  "country_id": "sg"
                },
                "coordinates": [
                  1.350189,
                  103.994433
                ],
                "color": "#15AFAC",
                "styles": {
                  "image": "https://raw.githubusercontent.com/lipis/flag-icons/e119b66129af6dd849754ccf25dfbf81d4a306d5/flags/1x1/sg.svg"
                },
                "label": "Singapur",
                "scale_factor": 1,
                "type": "#15AFAC",
                "size": [
                  55,
                  55
                ],
                "position": [
                  0,
                  0
                ],
                "parentId": "group#Singapore",
                "heat": 0.3383947939262473
              },
              {
                "id": "TPE",
                "properties": {
                  "label": "Taipeh",
                  "passengers": 800000,
                  "country": "Taiwan",
                  "country_id": "tw"
                },
                "coordinates": [
                  25.077732,
                  121.232822
                ],
                "color": "#15AFAC",
                "styles": {
                  "image": "https://raw.githubusercontent.com/lipis/flag-icons/e119b66129af6dd849754ccf25dfbf81d4a306d5/flags/1x1/tw.svg"
                },
                "label": "Taipeh",
                "scale_factor": 1,
                "type": "#15AFAC",
                "size": [
                  55,
                  55
                ],
                "position": [
                  0,
                  0
                ],
                "parentId": "group#Taiwan",
                "heat": 0
              },
              {
                "id": "BKK",
                "properties": {
                  "label": "Bangkok",
                  "passengers": 65000000,
                  "country": "Thailand",
                  "country_id": "th"
                },
                "coordinates": [
                  13.681108,
                  100.747283
                ],
                "color": "#15AFAC",
                "styles": {
                  "image": "https://raw.githubusercontent.com/lipis/flag-icons/e119b66129af6dd849754ccf25dfbf81d4a306d5/flags/1x1/th.svg"
                },
                "label": "Bangkok",
                "scale_factor": 1,
                "type": "#15AFAC",
                "size": [
                  55,
                  55
                ],
                "position": [
                  0,
                  0
                ],
                "parentId": "group#Thailand",
                "heat": 0.6963123644251626
              },
              {
                "id": "IST",
                "properties": {
                  "label": "Istanbul",
                  "passengers": 64000000,
                  "country": "Turkey",
                  "country_id": "tr"
                },
                "coordinates": [
                  40.976922,
                  28.814606
                ],
                "color": "#15AFAC",
                "styles": {
                  "image": "https://raw.githubusercontent.com/lipis/flag-icons/e119b66129af6dd849754ccf25dfbf81d4a306d5/flags/1x1/tr.svg"
                },
                "label": "Istanbul",
                "scale_factor": 1,
                "type": "#15AFAC",
                "size": [
                  55,
                  55
                ],
                "position": [
                  0,
                  0
                ],
                "parentId": "group#Turkey",
                "heat": 0.6854663774403471
              },
              {
                "id": "ULN",
                "properties": {
                  "label": "Ulaanbaatar",
                  "passengers": 1000000,
                  "country": "Mongolia",
                  "country_id": "mn"
                },
                "coordinates": [
                  47.843056,
                  106.766639
                ],
                "color": "#15AFAC",
                "styles": {
                  "image": "https://raw.githubusercontent.com/lipis/flag-icons/e119b66129af6dd849754ccf25dfbf81d4a306d5/flags/1x1/mn.svg"
                },
                "label": "Ulaanbaatar",
                "scale_factor": 1,
                "type": "#15AFAC",
                "size": [
                  55,
                  55
                ],
                "position": [
                  0,
                  0
                ],
                "parentId": "group#Mongolia",
                "heat": 0.0021691973969631237
              },
              {
                "id": "MEL",
                "properties": {
                  "label": "Melbourne",
                  "passengers": 12000000,
                  "country": "Australia",
                  "country_id": "au"
                },
                "coordinates": [
                  -37.673333,
                  144.843333
                ],
                "color": "#15AFAC",
                "styles": {
                  "image": "https://raw.githubusercontent.com/lipis/flag-icons/e119b66129af6dd849754ccf25dfbf81d4a306d5/flags/1x1/au.svg"
                },
                "label": "Melbourne",
                "scale_factor": 1,
                "type": "#15AFAC",
                "size": [
                  55,
                  55
                ],
                "position": [
                  0,
                  0
                ],
                "parentId": "group#Australia",
                "heat": 0.12147505422993492
              },
              {
                "id": "BNE",
                "properties": {
                  "label": "Brisbane",
                  "passengers": 23000000,
                  "country": "Australia",
                  "country_id": "au"
                },
                "coordinates": [
                  -27.383333,
                  153.118056
                ],
                "color": "#15AFAC",
                "styles": {
                  "image": "https://raw.githubusercontent.com/lipis/flag-icons/e119b66129af6dd849754ccf25dfbf81d4a306d5/flags/1x1/au.svg"
                },
                "label": "Brisbane",
                "scale_factor": 1,
                "type": "#15AFAC",
                "size": [
                  55,
                  55
                ],
                "position": [
                  0,
                  0
                ],
                "parentId": "group#Australia",
                "heat": 0.24078091106290672
              },
              {
                "id": "NAN",
                "properties": {
                  "label": "Nadi",
                  "passengers": 2000000,
                  "country": "Fiji",
                  "country_id": "fj"
                },
                "coordinates": [
                  -17.755392,
                  177.443378
                ],
                "color": "#15AFAC",
                "styles": {
                  "image": "https://raw.githubusercontent.com/lipis/flag-icons/e119b66129af6dd849754ccf25dfbf81d4a306d5/flags/1x1/fj.svg"
                },
                "label": "Nadi",
                "scale_factor": 1,
                "type": "#15AFAC",
                "size": [
                  55,
                  55
                ],
                "position": [
                  0,
                  0
                ],
                "parentId": "group#Fiji",
                "heat": 0.013015184381778741
              },
              {
                "id": "AKL",
                "properties": {
                  "label": "Auckland",
                  "passengers": 21000000,
                  "country": "New Zealand",
                  "country_id": "nz"
                },
                "coordinates": [
                  -37.008056,
                  174.791667
                ],
                "color": "#15AFAC",
                "styles": {
                  "image": "https://raw.githubusercontent.com/lipis/flag-icons/e119b66129af6dd849754ccf25dfbf81d4a306d5/flags/1x1/nz.svg"
                },
                "label": "Auckland",
                "scale_factor": 1,
                "type": "#15AFAC",
                "size": [
                  55,
                  55
                ],
                "position": [
                  0,
                  0
                ],
                "parentId": "group#New Zealand",
                "heat": 0.21908893709327548
              },
              {
                "id": "CDG",
                "properties": {
                  "label": "Paris",
                  "passengers": 57000000,
                  "country": "France",
                  "country_id": "fr"
                },
                "coordinates": [
                  49.009722,
                  2.547778
                ],
                "color": "#15AFAC",
                "styles": {
                  "image": "https://raw.githubusercontent.com/lipis/flag-icons/e119b66129af6dd849754ccf25dfbf81d4a306d5/flags/1x1/fr.svg"
                },
                "label": "Paris",
                "scale_factor": 1,
                "type": "#15AFAC",
                "size": [
                  55,
                  55
                ],
                "position": [
                  0,
                  0
                ],
                "parentId": "group#France",
                "heat": 0.6095444685466378
              },
              {
                "id": "MAD",
                "properties": {
                  "label": "Madrid",
                  "passengers": 50000000,
                  "country": "Spain",
                  "country_id": "es"
                },
                "coordinates": [
                  40.4675,
                  -3.551944
                ],
                "color": "#15AFAC",
                "styles": {
                  "image": "https://raw.githubusercontent.com/lipis/flag-icons/e119b66129af6dd849754ccf25dfbf81d4a306d5/flags/1x1/es.svg"
                },
                "label": "Madrid",
                "scale_factor": 1,
                "type": "#15AFAC",
                "size": [
                  55,
                  55
                ],
                "position": [
                  0,
                  0
                ],
                "parentId": "group#Spain",
                "heat": 0.5336225596529284
              },
              {
                "id": "BCN",
                "properties": {
                  "label": "Barcelona",
                  "passengers": 41000000,
                  "country": "Spain",
                  "country_id": "es"
                },
                "coordinates": [
                  41.297078,
                  2.078464
                ],
                "color": "#15AFAC",
                "styles": {
                  "image": "https://raw.githubusercontent.com/lipis/flag-icons/e119b66129af6dd849754ccf25dfbf81d4a306d5/flags/1x1/es.svg"
                },
                "label": "Barcelona",
                "scale_factor": 1,
                "type": "#15AFAC",
                "size": [
                  55,
                  55
                ],
                "position": [
                  0,
                  0
                ],
                "parentId": "group#Spain",
                "heat": 0.4360086767895879
              },
              {
                "id": "FCO",
                "properties": {
                  "label": "Rome",
                  "passengers": 29000000,
                  "country": "Italy",
                  "country_id": "it"
                },
                "coordinates": [
                  41.804444,
                  12.250833
                ],
                "color": "#15AFAC",
                "styles": {
                  "image": "https://raw.githubusercontent.com/lipis/flag-icons/e119b66129af6dd849754ccf25dfbf81d4a306d5/flags/1x1/it.svg"
                },
                "label": "Rome",
                "scale_factor": 1,
                "type": "#15AFAC",
                "size": [
                  55,
                  55
                ],
                "position": [
                  0,
                  0
                ],
                "parentId": "group#Italy",
                "heat": 0.30585683297180044
              },
              {
                "id": "CPH",
                "properties": {
                  "label": "Copenhagen",
                  "passengers": 30000000,
                  "country": "Denmark",
                  "country_id": "dk"
                },
                "coordinates": [
                  55.617917,
                  12.655972
                ],
                "color": "#15AFAC",
                "styles": {
                  "image": "https://raw.githubusercontent.com/lipis/flag-icons/e119b66129af6dd849754ccf25dfbf81d4a306d5/flags/1x1/dk.svg"
                },
                "label": "Copenhagen",
                "scale_factor": 1,
                "type": "#15AFAC",
                "size": [
                  55,
                  55
                ],
                "position": [
                  0,
                  0
                ],
                "parentId": "group#Denmark",
                "heat": 0.31670281995661603
              },
              {
                "id": "HEL",
                "properties": {
                  "label": "Helsinki",
                  "passengers": 5000000,
                  "country": "Finland",
                  "country_id": "fi"
                },
                "coordinates": [
                  60.317222,
                  24.963333
                ],
                "color": "#15AFAC",
                "styles": {
                  "image": "https://raw.githubusercontent.com/lipis/flag-icons/e119b66129af6dd849754ccf25dfbf81d4a306d5/flags/1x1/fi.svg"
                },
                "label": "Helsinki",
                "scale_factor": 1,
                "type": "#15AFAC",
                "size": [
                  55,
                  55
                ],
                "position": [
                  0,
                  0
                ],
                "parentId": "group#Finland",
                "heat": 0.0455531453362256
              },
              {
                "id": "ATH",
                "properties": {
                  "label": "Athens",
                  "passengers": 22000000,
                  "country": "Greece",
                  "country_id": "gr"
                },
                "coordinates": [
                  37.936358,
                  23.944467
                ],
                "color": "#15AFAC",
                "styles": {
                  "image": "https://raw.githubusercontent.com/lipis/flag-icons/e119b66129af6dd849754ccf25dfbf81d4a306d5/flags/1x1/gr.svg"
                },
                "label": "Athens",
                "scale_factor": 1,
                "type": "#15AFAC",
                "size": [
                  55,
                  55
                ],
                "position": [
                  0,
                  0
                ],
                "parentId": "group#Greece",
                "heat": 0.2299349240780911
              },
              {
                "id": "DUB",
                "properties": {
                  "label": "Dublin",
                  "passengers": 32000000,
                  "country": "Ireland",
                  "country_id": "ie"
                },
                "coordinates": [
                  53.421333,
                  -6.270075
                ],
                "color": "#15AFAC",
                "styles": {
                  "image": "https://raw.githubusercontent.com/lipis/flag-icons/e119b66129af6dd849754ccf25dfbf81d4a306d5/flags/1x1/ie.svg"
                },
                "label": "Dublin",
                "scale_factor": 1,
                "type": "#15AFAC",
                "size": [
                  55,
                  55
                ],
                "position": [
                  0,
                  0
                ],
                "parentId": "group#Ireland",
                "heat": 0.3383947939262473
              },
              {
                "id": "RKV",
                "properties": {
                  "label": "Reykjavik",
                  "passengers": 400000,
                  "country": "Iceland",
                  "country_id": "is"
                },
                "coordinates": [
                  64.13,
                  -21.940556
                ],
                "color": "#15AFAC",
                "styles": {
                  "image": "https://raw.githubusercontent.com/lipis/flag-icons/e119b66129af6dd849754ccf25dfbf81d4a306d5/flags/1x1/is.svg"
                },
                "label": "Reykjavik",
                "scale_factor": 1,
                "type": "#15AFAC",
                "size": [
                  55,
                  55
                ],
                "position": [
                  0,
                  0
                ],
                "parentId": "group#Iceland",
                "heat": -0.004338394793926247
              },
              {
                "id": "OSL",
                "properties": {
                  "label": "Oslo",
                  "passengers": 9000000,
                  "country": "Norway",
                  "country_id": "no"
                },
                "coordinates": [
                  60.193917,
                  11.100361
                ],
                "color": "#15AFAC",
                "styles": {
                  "image": "https://raw.githubusercontent.com/lipis/flag-icons/e119b66129af6dd849754ccf25dfbf81d4a306d5/flags/1x1/no.svg"
                },
                "label": "Oslo",
                "scale_factor": 1,
                "type": "#15AFAC",
                "size": [
                  55,
                  55
                ],
                "position": [
                  0,
                  0
                ],
                "parentId": "group#Norway",
                "heat": 0.08893709327548807
              },
              {
                "id": "VIE",
                "properties": {
                  "label": "Vienna",
                  "passengers": 10000000,
                  "country": "Austria",
                  "country_id": "at"
                },
                "coordinates": [
                  48.110833,
                  16.570833
                ],
                "color": "#15AFAC",
                "styles": {
                  "image": "https://raw.githubusercontent.com/lipis/flag-icons/e119b66129af6dd849754ccf25dfbf81d4a306d5/flags/1x1/at.svg"
                },
                "label": "Vienna",
                "scale_factor": 1,
                "type": "#15AFAC",
                "size": [
                  55,
                  55
                ],
                "position": [
                  0,
                  0
                ],
                "parentId": "group#Austria",
                "heat": 0.09978308026030369
              },
              {
                "id": "LIS",
                "properties": {
                  "label": "Lisbon",
                  "passengers": 28000000,
                  "country": "Portugal",
                  "country_id": "pt"
                },
                "coordinates": [
                  38.774167,
                  -9.134167
                ],
                "color": "#15AFAC",
                "styles": {
                  "image": "https://raw.githubusercontent.com/lipis/flag-icons/e119b66129af6dd849754ccf25dfbf81d4a306d5/flags/1x1/pt.svg"
                },
                "label": "Lisbon",
                "scale_factor": 1,
                "type": "#15AFAC",
                "size": [
                  55,
                  55
                ],
                "position": [
                  0,
                  0
                ],
                "parentId": "group#Portugal",
                "heat": 0.2950108459869848
              },
              {
                "id": "ARN",
                "properties": {
                  "label": "Stockholm",
                  "passengers": 7000000,
                  "country": "Sweden",
                  "country_id": "se"
                },
                "coordinates": [
                  59.651944,
                  17.918611
                ],
                "color": "#15AFAC",
                "styles": {
                  "image": "https://raw.githubusercontent.com/lipis/flag-icons/e119b66129af6dd849754ccf25dfbf81d4a306d5/flags/1x1/se.svg"
                },
                "label": "Stockholm",
                "scale_factor": 1,
                "type": "#15AFAC",
                "size": [
                  55,
                  55
                ],
                "position": [
                  0,
                  0
                ],
                "parentId": "group#Sweden",
                "heat": 0.06724511930585683
              },
              {
                "id": "EDI",
                "properties": {
                  "label": "Edinburgh",
                  "passengers": 14000000,
                  "country": "UK",
                  "country_id": "gb"
                },
                "coordinates": [
                  55.95,
                  -3.3725
                ],
                "color": "#15AFAC",
                "styles": {
                  "image": "https://raw.githubusercontent.com/lipis/flag-icons/e119b66129af6dd849754ccf25dfbf81d4a306d5/flags/1x1/gb.svg"
                },
                "label": "Edinburgh",
                "scale_factor": 1,
                "type": "#15AFAC",
                "size": [
                  55,
                  55
                ],
                "position": [
                  0,
                  0
                ],
                "parentId": "group#UK",
                "heat": 0.14316702819956617
              },
              {
                "id": "ORD",
                "properties": {
                  "label": "Chicago",
                  "passengers": 54000000,
                  "country": "USA",
                  "country_id": "us"
                },
                "coordinates": [
                  41.978603,
                  -87.904842
                ],
                "color": "#15AFAC",
                "styles": {
                  "image": "https://raw.githubusercontent.com/lipis/flag-icons/e119b66129af6dd849754ccf25dfbf81d4a306d5/flags/1x1/us.svg"
                },
                "label": "Chicago",
                "scale_factor": 1,
                "type": "#15AFAC",
                "size": [
                  55,
                  55
                ],
                "position": [
                  0,
                  0
                ],
                "parentId": "group#USA",
                "heat": 0.5770065075921909
              },
              {
                "id": "DFW",
                "properties": {
                  "label": "Dallas",
                  "passengers": 73000000,
                  "country": "USA",
                  "country_id": "us"
                },
                "coordinates": [
                  32.896828,
                  -97.037997
                ],
                "color": "#15AFAC",
                "styles": {
                  "image": "https://raw.githubusercontent.com/lipis/flag-icons/e119b66129af6dd849754ccf25dfbf81d4a306d5/flags/1x1/us.svg"
                },
                "label": "Dallas",
                "scale_factor": 1,
                "type": "#15AFAC",
                "size": [
                  55,
                  55
                ],
                "position": [
                  0,
                  0
                ],
                "parentId": "group#USA",
                "heat": 0.7830802603036876
              },
              {
                "id": "SFO",
                "properties": {
                  "label": "San Francisco",
                  "passengers": 42000000,
                  "country": "USA",
                  "country_id": "us"
                },
                "coordinates": [
                  37.618972,
                  -122.374889
                ],
                "color": "#15AFAC",
                "styles": {
                  "image": "https://raw.githubusercontent.com/lipis/flag-icons/e119b66129af6dd849754ccf25dfbf81d4a306d5/flags/1x1/us.svg"
                },
                "label": "San Francisco",
                "scale_factor": 1,
                "type": "#15AFAC",
                "size": [
                  55,
                  55
                ],
                "position": [
                  0,
                  0
                ],
                "parentId": "group#USA",
                "heat": 0.44685466377440347
              },
              {
                "id": "LAS",
                "properties": {
                  "label": "Las Vegas",
                  "passengers": 52000000,
                  "country": "USA",
                  "country_id": "us"
                },
                "coordinates": [
                  36.080056,
                  -115.15225
                ],
                "color": "#15AFAC",
                "styles": {
                  "image": "https://raw.githubusercontent.com/lipis/flag-icons/e119b66129af6dd849754ccf25dfbf81d4a306d5/flags/1x1/us.svg"
                },
                "label": "Las Vegas",
                "scale_factor": 1,
                "type": "#15AFAC",
                "size": [
                  55,
                  55
                ],
                "position": [
                  0,
                  0
                ],
                "parentId": "group#USA",
                "heat": 0.5553145336225597
              },
              {
                "id": "MIA",
                "properties": {
                  "label": "Miami",
                  "passengers": 50000000,
                  "country": "USA",
                  "country_id": "us"
                },
                "coordinates": [
                  25.79325,
                  -80.290556
                ],
                "color": "#15AFAC",
                "styles": {
                  "image": "https://raw.githubusercontent.com/lipis/flag-icons/e119b66129af6dd849754ccf25dfbf81d4a306d5/flags/1x1/us.svg"
                },
                "label": "Miami",
                "scale_factor": 1,
                "type": "#15AFAC",
                "size": [
                  55,
                  55
                ],
                "position": [
                  0,
                  0
                ],
                "parentId": "group#USA",
                "heat": 0.5336225596529284
              },
              {
                "id": "YYZ",
                "properties": {
                  "label": "Toronto",
                  "passengers": 12000000,
                  "country": "Canada",
                  "country_id": "ca"
                },
                "coordinates": [
                  43.677222,
                  -79.630556
                ],
                "color": "#15AFAC",
                "styles": {
                  "image": "https://raw.githubusercontent.com/lipis/flag-icons/e119b66129af6dd849754ccf25dfbf81d4a306d5/flags/1x1/ca.svg"
                },
                "label": "Toronto",
                "scale_factor": 1,
                "type": "#15AFAC",
                "size": [
                  55,
                  55
                ],
                "position": [
                  0,
                  0
                ],
                "parentId": "group#Canada",
                "heat": 0.12147505422993492
              },
              {
                "id": "YVR",
                "properties": {
                  "label": "Vancouver",
                  "passengers": 19000000,
                  "country": "Canada",
                  "country_id": "ca"
                },
                "coordinates": [
                  49.193889,
                  -123.184444
                ],
                "color": "#15AFAC",
                "styles": {
                  "image": "https://raw.githubusercontent.com/lipis/flag-icons/e119b66129af6dd849754ccf25dfbf81d4a306d5/flags/1x1/ca.svg"
                },
                "label": "Vancouver",
                "scale_factor": 1,
                "type": "#15AFAC",
                "size": [
                  55,
                  55
                ],
                "position": [
                  0,
                  0
                ],
                "parentId": "group#Canada",
                "heat": 0.19739696312364424
              },
              {
                "id": "YUL",
                "properties": {
                  "label": "Montreal",
                  "passengers": 15000000,
                  "country": "Canada",
                  "country_id": "ca"
                },
                "coordinates": [
                  45.47175,
                  -73.736569
                ],
                "color": "#15AFAC",
                "styles": {
                  "image": "https://raw.githubusercontent.com/lipis/flag-icons/e119b66129af6dd849754ccf25dfbf81d4a306d5/flags/1x1/ca.svg"
                },
                "label": "Montreal",
                "scale_factor": 1,
                "type": "#15AFAC",
                "size": [
                  55,
                  55
                ],
                "position": [
                  0,
                  0
                ],
                "parentId": "group#Canada",
                "heat": 0.1540130151843818
              },
              {
                "id": "MEX",
                "properties": {
                  "label": "Mexico-City",
                  "passengers": 46000000,
                  "country": "Mexico",
                  "country_id": "mx"
                },
                "coordinates": [
                  19.436303,
                  -99.072097
                ],
                "color": "#15AFAC",
                "styles": {
                  "image": "https://raw.githubusercontent.com/lipis/flag-icons/e119b66129af6dd849754ccf25dfbf81d4a306d5/flags/1x1/mx.svg"
                },
                "label": "Mexico-City",
                "scale_factor": 1,
                "type": "#15AFAC",
                "size": [
                  55,
                  55
                ],
                "position": [
                  0,
                  0
                ],
                "parentId": "group#Mexico",
                "heat": 0.49023861171366595
              },
              {
                "id": "GUA",
                "properties": {
                  "label": "Guatemala-City",
                  "passengers": 2000000,
                  "country": "Guatemala",
                  "country_id": "gt"
                },
                "coordinates": [
                  14.583272,
                  -90.527475
                ],
                "color": "#15AFAC",
                "styles": {
                  "image": "https://raw.githubusercontent.com/lipis/flag-icons/e119b66129af6dd849754ccf25dfbf81d4a306d5/flags/1x1/gt.svg"
                },
                "label": "Guatemala-City",
                "scale_factor": 1,
                "type": "#15AFAC",
                "size": [
                  55,
                  55
                ],
                "position": [
                  0,
                  0
                ],
                "parentId": "group#Guatemala",
                "heat": 0.013015184381778741
              },
              {
                "id": "EZE",
                "properties": {
                  "label": "Buenos Aires",
                  "passengers": 5000000,
                  "country": "Argentina",
                  "country_id": "ar"
                },
                "coordinates": [
                  -34.822222,
                  -58.535833
                ],
                "color": "#15AFAC",
                "styles": {
                  "image": "https://raw.githubusercontent.com/lipis/flag-icons/e119b66129af6dd849754ccf25dfbf81d4a306d5/flags/1x1/ar.svg"
                },
                "label": "Buenos Aires",
                "scale_factor": 1,
                "type": "#15AFAC",
                "size": [
                  55,
                  55
                ],
                "position": [
                  0,
                  0
                ],
                "parentId": "group#Argentina",
                "heat": 0.0455531453362256
              },
              {
                "id": "GRU",
                "properties": {
                  "label": "Sao Paulo",
                  "passengers": 34000000,
                  "country": "Brazil",
                  "country_id": "br"
                },
                "coordinates": [
                  -23.432075,
                  -46.469511
                ],
                "color": "#15AFAC",
                "styles": {
                  "image": "https://raw.githubusercontent.com/lipis/flag-icons/e119b66129af6dd849754ccf25dfbf81d4a306d5/flags/1x1/br.svg"
                },
                "label": "Sao Paulo",
                "scale_factor": 1,
                "type": "#15AFAC",
                "size": [
                  55,
                  55
                ],
                "position": [
                  0,
                  0
                ],
                "parentId": "group#Brazil",
                "heat": 0.3600867678958785
              },
              {
                "id": "SCL",
                "properties": {
                  "label": "Santiago de Chile",
                  "passengers": 20000000,
                  "country": "Chile",
                  "country_id": "cl"
                },
                "coordinates": [
                  -33.392975,
                  -70.785803
                ],
                "color": "#15AFAC",
                "styles": {
                  "image": "https://raw.githubusercontent.com/lipis/flag-icons/e119b66129af6dd849754ccf25dfbf81d4a306d5/flags/1x1/cl.svg"
                },
                "label": "Santiago de Chile",
                "scale_factor": 1,
                "type": "#15AFAC",
                "size": [
                  55,
                  55
                ],
                "position": [
                  0,
                  0
                ],
                "parentId": "group#Chile",
                "heat": 0.20824295010845986
              },
              {
                "id": "BSB",
                "properties": {
                  "label": "Brasilia",
                  "passengers": 13000000,
                  "country": "Brazil",
                  "country_id": "br"
                },
                "coordinates": [
                  -15.871111,
                  -47.918611
                ],
                "color": "#15AFAC",
                "styles": {
                  "image": "https://raw.githubusercontent.com/lipis/flag-icons/e119b66129af6dd849754ccf25dfbf81d4a306d5/flags/1x1/br.svg"
                },
                "label": "Brasilia",
                "scale_factor": 1,
                "type": "#15AFAC",
                "size": [
                  55,
                  55
                ],
                "position": [
                  0,
                  0
                ],
                "parentId": "group#Brazil",
                "heat": 0.13232104121475055
              },
              {
                "id": "BOG",
                "properties": {
                  "label": "Bogota",
                  "passengers": 36000000,
                  "country": "Colombia",
                  "country_id": "co"
                },
                "coordinates": [
                  4.701594,
                  -74.146947
                ],
                "color": "#15AFAC",
                "styles": {
                  "image": "https://raw.githubusercontent.com/lipis/flag-icons/e119b66129af6dd849754ccf25dfbf81d4a306d5/flags/1x1/co.svg"
                },
                "label": "Bogota",
                "scale_factor": 1,
                "type": "#15AFAC",
                "size": [
                  55,
                  55
                ],
                "position": [
                  0,
                  0
                ],
                "parentId": "group#Colombia",
                "heat": 0.38177874186550975
              },
              {
                "id": "CCS",
                "properties": {
                  "label": "Caracas",
                  "passengers": 8000000,
                  "country": "Venezuela",
                  "country_id": "ve"
                },
                "coordinates": [
                  10.601194,
                  -66.991222
                ],
                "color": "#15AFAC",
                "styles": {
                  "image": "https://raw.githubusercontent.com/lipis/flag-icons/e119b66129af6dd849754ccf25dfbf81d4a306d5/flags/1x1/ve.svg"
                },
                "label": "Caracas",
                "scale_factor": 1,
                "type": "#15AFAC",
                "size": [
                  55,
                  55
                ],
                "position": [
                  0,
                  0
                ],
                "parentId": "group#Venezuela",
                "heat": 0.07809110629067245
              },
              {
                "id": "group#USA",
                "properties": {
                  "label": "USA"
                },
                "color": "#15AFAC",
                "label": "USA",
                "scale_factor": 1,
                "type": "#15AFAC",
                "size": [
                  55,
                  55
                ],
                "position": [
                  0,
                  0
                ],
                "heat": -0.008676789587852495
              },
              {
                "id": "group#Brazil",
                "properties": {
                  "label": "Brazil"
                },
                "color": "#15AFAC",
                "label": "Brazil",
                "scale_factor": 1,
                "type": "#15AFAC",
                "size": [
                  55,
                  55
                ],
                "position": [
                  0,
                  0
                ],
                "heat": -0.008676789587852495
              },
              {
                "id": "group#Peru",
                "properties": {
                  "label": "Peru"
                },
                "color": "#15AFAC",
                "label": "Peru",
                "scale_factor": 1,
                "type": "#15AFAC",
                "size": [
                  55,
                  55
                ],
                "position": [
                  0,
                  0
                ],
                "heat": -0.008676789587852495
              },
              {
                "id": "group#UK",
                "properties": {
                  "label": "UK"
                },
                "color": "#15AFAC",
                "label": "UK",
                "scale_factor": 1,
                "type": "#15AFAC",
                "size": [
                  55,
                  55
                ],
                "position": [
                  0,
                  0
                ],
                "heat": -0.008676789587852495
              },
              {
                "id": "group#Germany",
                "properties": {
                  "label": "Germany"
                },
                "color": "#15AFAC",
                "label": "Germany",
                "scale_factor": 1,
                "type": "#15AFAC",
                "size": [
                  55,
                  55
                ],
                "position": [
                  0,
                  0
                ],
                "heat": -0.008676789587852495
              },
              {
                "id": "group#Russia",
                "properties": {
                  "label": "Russia"
                },
                "color": "#15AFAC",
                "label": "Russia",
                "scale_factor": 1,
                "type": "#15AFAC",
                "size": [
                  55,
                  55
                ],
                "position": [
                  0,
                  0
                ],
                "heat": -0.008676789587852495
              },
              {
                "id": "group#India",
                "properties": {
                  "label": "India"
                },
                "color": "#15AFAC",
                "label": "India",
                "scale_factor": 1,
                "type": "#15AFAC",
                "size": [
                  55,
                  55
                ],
                "position": [
                  0,
                  0
                ],
                "heat": -0.008676789587852495
              },
              {
                "id": "group#China",
                "properties": {
                  "label": "China"
                },
                "color": "#15AFAC",
                "label": "China",
                "scale_factor": 1,
                "type": "#15AFAC",
                "size": [
                  55,
                  55
                ],
                "position": [
                  0,
                  0
                ],
                "heat": -0.008676789587852495
              },
              {
                "id": "group#China",
                "properties": {
                  "label": "China"
                },
                "color": "#15AFAC",
                "label": "China",
                "scale_factor": 1,
                "type": "#15AFAC",
                "size": [
                  55,
                  55
                ],
                "position": [
                  0,
                  0
                ],
                "heat": -0.008676789587852495
              },
              {
                "id": "group#Japan",
                "properties": {
                  "label": "Japan"
                },
                "color": "#15AFAC",
                "label": "Japan",
                "scale_factor": 1,
                "type": "#15AFAC",
                "size": [
                  55,
                  55
                ],
                "position": [
                  0,
                  0
                ],
                "heat": -0.008676789587852495
              },
              {
                "id": "group#UAE",
                "properties": {
                  "label": "UAE"
                },
                "color": "#15AFAC",
                "label": "UAE",
                "scale_factor": 1,
                "type": "#15AFAC",
                "size": [
                  55,
                  55
                ],
                "position": [
                  0,
                  0
                ],
                "heat": -0.008676789587852495
              },
              {
                "id": "group#Senegal",
                "properties": {
                  "label": "Senegal"
                },
                "color": "#15AFAC",
                "label": "Senegal",
                "scale_factor": 1,
                "type": "#15AFAC",
                "size": [
                  55,
                  55
                ],
                "position": [
                  0,
                  0
                ],
                "heat": -0.008676789587852495
              },
              {
                "id": "group#South Africa",
                "properties": {
                  "label": "South Africa"
                },
                "color": "#15AFAC",
                "label": "South Africa",
                "scale_factor": 1,
                "type": "#15AFAC",
                "size": [
                  55,
                  55
                ],
                "position": [
                  0,
                  0
                ],
                "heat": -0.008676789587852495
              },
              {
                "id": "group#Australia",
                "properties": {
                  "label": "Australia"
                },
                "color": "#15AFAC",
                "label": "Australia",
                "scale_factor": 1,
                "type": "#15AFAC",
                "size": [
                  55,
                  55
                ],
                "position": [
                  0,
                  0
                ],
                "heat": -0.008676789587852495
              },
              {
                "id": "group#Kenya",
                "properties": {
                  "label": "Kenya"
                },
                "color": "#15AFAC",
                "label": "Kenya",
                "scale_factor": 1,
                "type": "#15AFAC",
                "size": [
                  55,
                  55
                ],
                "position": [
                  0,
                  0
                ],
                "heat": -0.008676789587852495
              },
              {
                "id": "group#USA",
                "properties": {
                  "label": "USA"
                },
                "color": "#15AFAC",
                "label": "USA",
                "scale_factor": 1,
                "type": "#15AFAC",
                "size": [
                  55,
                  55
                ],
                "position": [
                  0,
                  0
                ],
                "heat": -0.008676789587852495
              },
              {
                "id": "group#USA",
                "properties": {
                  "label": "USA"
                },
                "color": "#15AFAC",
                "label": "USA",
                "scale_factor": 1,
                "type": "#15AFAC",
                "size": [
                  55,
                  55
                ],
                "position": [
                  0,
                  0
                ],
                "heat": -0.008676789587852495
              },
              {
                "id": "group#Egypt",
                "properties": {
                  "label": "Egypt"
                },
                "color": "#15AFAC",
                "label": "Egypt",
                "scale_factor": 1,
                "type": "#15AFAC",
                "size": [
                  55,
                  55
                ],
                "position": [
                  0,
                  0
                ],
                "heat": -0.008676789587852495
              },
              {
                "id": "group#Morocco",
                "properties": {
                  "label": "Morocco"
                },
                "color": "#15AFAC",
                "label": "Morocco",
                "scale_factor": 1,
                "type": "#15AFAC",
                "size": [
                  55,
                  55
                ],
                "position": [
                  0,
                  0
                ],
                "heat": -0.008676789587852495
              },
              {
                "id": "group#Nigeria",
                "properties": {
                  "label": "Nigeria"
                },
                "color": "#15AFAC",
                "label": "Nigeria",
                "scale_factor": 1,
                "type": "#15AFAC",
                "size": [
                  55,
                  55
                ],
                "position": [
                  0,
                  0
                ],
                "heat": -0.008676789587852495
              },
              {
                "id": "group#South Africa",
                "properties": {
                  "label": "South Africa"
                },
                "color": "#15AFAC",
                "label": "South Africa",
                "scale_factor": 1,
                "type": "#15AFAC",
                "size": [
                  55,
                  55
                ],
                "position": [
                  0,
                  0
                ],
                "heat": -0.008676789587852495
              },
              {
                "id": "group#China",
                "properties": {
                  "label": "China"
                },
                "color": "#15AFAC",
                "label": "China",
                "scale_factor": 1,
                "type": "#15AFAC",
                "size": [
                  55,
                  55
                ],
                "position": [
                  0,
                  0
                ],
                "heat": -0.008676789587852495
              },
              {
                "id": "group#Indonesia",
                "properties": {
                  "label": "Indonesia"
                },
                "color": "#15AFAC",
                "label": "Indonesia",
                "scale_factor": 1,
                "type": "#15AFAC",
                "size": [
                  55,
                  55
                ],
                "position": [
                  0,
                  0
                ],
                "heat": -0.008676789587852495
              },
              {
                "id": "group#Iran",
                "properties": {
                  "label": "Iran"
                },
                "color": "#15AFAC",
                "label": "Iran",
                "scale_factor": 1,
                "type": "#15AFAC",
                "size": [
                  55,
                  55
                ],
                "position": [
                  0,
                  0
                ],
                "heat": -0.008676789587852495
              },
              {
                "id": "group#Israel",
                "properties": {
                  "label": "Israel"
                },
                "color": "#15AFAC",
                "label": "Israel",
                "scale_factor": 1,
                "type": "#15AFAC",
                "size": [
                  55,
                  55
                ],
                "position": [
                  0,
                  0
                ],
                "heat": -0.008676789587852495
              },
              {
                "id": "group#Malaysia",
                "properties": {
                  "label": "Malaysia"
                },
                "color": "#15AFAC",
                "label": "Malaysia",
                "scale_factor": 1,
                "type": "#15AFAC",
                "size": [
                  55,
                  55
                ],
                "position": [
                  0,
                  0
                ],
                "heat": -0.008676789587852495
              },
              {
                "id": "group#Philippines",
                "properties": {
                  "label": "Philippines"
                },
                "color": "#15AFAC",
                "label": "Philippines",
                "scale_factor": 1,
                "type": "#15AFAC",
                "size": [
                  55,
                  55
                ],
                "position": [
                  0,
                  0
                ],
                "heat": -0.008676789587852495
              },
              {
                "id": "group#Singapore",
                "properties": {
                  "label": "Singapore"
                },
                "color": "#15AFAC",
                "label": "Singapore",
                "scale_factor": 1,
                "type": "#15AFAC",
                "size": [
                  55,
                  55
                ],
                "position": [
                  0,
                  0
                ],
                "heat": -0.008676789587852495
              },
              {
                "id": "group#Taiwan",
                "properties": {
                  "label": "Taiwan"
                },
                "color": "#15AFAC",
                "label": "Taiwan",
                "scale_factor": 1,
                "type": "#15AFAC",
                "size": [
                  55,
                  55
                ],
                "position": [
                  0,
                  0
                ],
                "heat": -0.008676789587852495
              },
              {
                "id": "group#Thailand",
                "properties": {
                  "label": "Thailand"
                },
                "color": "#15AFAC",
                "label": "Thailand",
                "scale_factor": 1,
                "type": "#15AFAC",
                "size": [
                  55,
                  55
                ],
                "position": [
                  0,
                  0
                ],
                "heat": -0.008676789587852495
              },
              {
                "id": "group#Turkey",
                "properties": {
                  "label": "Turkey"
                },
                "color": "#15AFAC",
                "label": "Turkey",
                "scale_factor": 1,
                "type": "#15AFAC",
                "size": [
                  55,
                  55
                ],
                "position": [
                  0,
                  0
                ],
                "heat": -0.008676789587852495
              },
              {
                "id": "group#Mongolia",
                "properties": {
                  "label": "Mongolia"
                },
                "color": "#15AFAC",
                "label": "Mongolia",
                "scale_factor": 1,
                "type": "#15AFAC",
                "size": [
                  55,
                  55
                ],
                "position": [
                  0,
                  0
                ],
                "heat": -0.008676789587852495
              },
              {
                "id": "group#Australia",
                "properties": {
                  "label": "Australia"
                },
                "color": "#15AFAC",
                "label": "Australia",
                "scale_factor": 1,
                "type": "#15AFAC",
                "size": [
                  55,
                  55
                ],
                "position": [
                  0,
                  0
                ],
                "heat": -0.008676789587852495
              },
              {
                "id": "group#Australia",
                "properties": {
                  "label": "Australia"
                },
                "color": "#15AFAC",
                "label": "Australia",
                "scale_factor": 1,
                "type": "#15AFAC",
                "size": [
                  55,
                  55
                ],
                "position": [
                  0,
                  0
                ],
                "heat": -0.008676789587852495
              },
              {
                "id": "group#Fiji",
                "properties": {
                  "label": "Fiji"
                },
                "color": "#15AFAC",
                "label": "Fiji",
                "scale_factor": 1,
                "type": "#15AFAC",
                "size": [
                  55,
                  55
                ],
                "position": [
                  0,
                  0
                ],
                "heat": -0.008676789587852495
              },
              {
                "id": "group#New Zealand",
                "properties": {
                  "label": "New Zealand"
                },
                "color": "#15AFAC",
                "label": "New Zealand",
                "scale_factor": 1,
                "type": "#15AFAC",
                "size": [
                  55,
                  55
                ],
                "position": [
                  0,
                  0
                ],
                "heat": -0.008676789587852495
              },
              {
                "id": "group#France",
                "properties": {
                  "label": "France"
                },
                "color": "#15AFAC",
                "label": "France",
                "scale_factor": 1,
                "type": "#15AFAC",
                "size": [
                  55,
                  55
                ],
                "position": [
                  0,
                  0
                ],
                "heat": -0.008676789587852495
              },
              {
                "id": "group#Spain",
                "properties": {
                  "label": "Spain"
                },
                "color": "#15AFAC",
                "label": "Spain",
                "scale_factor": 1,
                "type": "#15AFAC",
                "size": [
                  55,
                  55
                ],
                "position": [
                  0,
                  0
                ],
                "heat": -0.008676789587852495
              },
              {
                "id": "group#Spain",
                "properties": {
                  "label": "Spain"
                },
                "color": "#15AFAC",
                "label": "Spain",
                "scale_factor": 1,
                "type": "#15AFAC",
                "size": [
                  55,
                  55
                ],
                "position": [
                  0,
                  0
                ],
                "heat": -0.008676789587852495
              },
              {
                "id": "group#Italy",
                "properties": {
                  "label": "Italy"
                },
                "color": "#15AFAC",
                "label": "Italy",
                "scale_factor": 1,
                "type": "#15AFAC",
                "size": [
                  55,
                  55
                ],
                "position": [
                  0,
                  0
                ],
                "heat": -0.008676789587852495
              },
              {
                "id": "group#Denmark",
                "properties": {
                  "label": "Denmark"
                },
                "color": "#15AFAC",
                "label": "Denmark",
                "scale_factor": 1,
                "type": "#15AFAC",
                "size": [
                  55,
                  55
                ],
                "position": [
                  0,
                  0
                ],
                "heat": -0.008676789587852495
              },
              {
                "id": "group#Finland",
                "properties": {
                  "label": "Finland"
                },
                "color": "#15AFAC",
                "label": "Finland",
                "scale_factor": 1,
                "type": "#15AFAC",
                "size": [
                  55,
                  55
                ],
                "position": [
                  0,
                  0
                ],
                "heat": -0.008676789587852495
              },
              {
                "id": "group#Greece",
                "properties": {
                  "label": "Greece"
                },
                "color": "#15AFAC",
                "label": "Greece",
                "scale_factor": 1,
                "type": "#15AFAC",
                "size": [
                  55,
                  55
                ],
                "position": [
                  0,
                  0
                ],
                "heat": -0.008676789587852495
              },
              {
                "id": "group#Ireland",
                "properties": {
                  "label": "Ireland"
                },
                "color": "#15AFAC",
                "label": "Ireland",
                "scale_factor": 1,
                "type": "#15AFAC",
                "size": [
                  55,
                  55
                ],
                "position": [
                  0,
                  0
                ],
                "heat": -0.008676789587852495
              },
              {
                "id": "group#Iceland",
                "properties": {
                  "label": "Iceland"
                },
                "color": "#15AFAC",
                "label": "Iceland",
                "scale_factor": 1,
                "type": "#15AFAC",
                "size": [
                  55,
                  55
                ],
                "position": [
                  0,
                  0
                ],
                "heat": -0.008676789587852495
              },
              {
                "id": "group#Norway",
                "properties": {
                  "label": "Norway"
                },
                "color": "#15AFAC",
                "label": "Norway",
                "scale_factor": 1,
                "type": "#15AFAC",
                "size": [
                  55,
                  55
                ],
                "position": [
                  0,
                  0
                ],
                "heat": -0.008676789587852495
              },
              {
                "id": "group#Austria",
                "properties": {
                  "label": "Austria"
                },
                "color": "#15AFAC",
                "label": "Austria",
                "scale_factor": 1,
                "type": "#15AFAC",
                "size": [
                  55,
                  55
                ],
                "position": [
                  0,
                  0
                ],
                "heat": -0.008676789587852495
              },
              {
                "id": "group#Portugal",
                "properties": {
                  "label": "Portugal"
                },
                "color": "#15AFAC",
                "label": "Portugal",
                "scale_factor": 1,
                "type": "#15AFAC",
                "size": [
                  55,
                  55
                ],
                "position": [
                  0,
                  0
                ],
                "heat": -0.008676789587852495
              },
              {
                "id": "group#Sweden",
                "properties": {
                  "label": "Sweden"
                },
                "color": "#15AFAC",
                "label": "Sweden",
                "scale_factor": 1,
                "type": "#15AFAC",
                "size": [
                  55,
                  55
                ],
                "position": [
                  0,
                  0
                ],
                "heat": -0.008676789587852495
              },
              {
                "id": "group#UK",
                "properties": {
                  "label": "UK"
                },
                "color": "#15AFAC",
                "label": "UK",
                "scale_factor": 1,
                "type": "#15AFAC",
                "size": [
                  55,
                  55
                ],
                "position": [
                  0,
                  0
                ],
                "heat": -0.008676789587852495
              },
              {
                "id": "group#USA",
                "properties": {
                  "label": "USA"
                },
                "color": "#15AFAC",
                "label": "USA",
                "scale_factor": 1,
                "type": "#15AFAC",
                "size": [
                  55,
                  55
                ],
                "position": [
                  0,
                  0
                ],
                "heat": -0.008676789587852495
              },
              {
                "id": "group#USA",
                "properties": {
                  "label": "USA"
                },
                "color": "#15AFAC",
                "label": "USA",
                "scale_factor": 1,
                "type": "#15AFAC",
                "size": [
                  55,
                  55
                ],
                "position": [
                  0,
                  0
                ],
                "heat": -0.008676789587852495
              },
              {
                "id": "group#USA",
                "properties": {
                  "label": "USA"
                },
                "color": "#15AFAC",
                "label": "USA",
                "scale_factor": 1,
                "type": "#15AFAC",
                "size": [
                  55,
                  55
                ],
                "position": [
                  0,
                  0
                ],
                "heat": -0.008676789587852495
              },
              {
                "id": "group#USA",
                "properties": {
                  "label": "USA"
                },
                "color": "#15AFAC",
                "label": "USA",
                "scale_factor": 1,
                "type": "#15AFAC",
                "size": [
                  55,
                  55
                ],
                "position": [
                  0,
                  0
                ],
                "heat": -0.008676789587852495
              },
              {
                "id": "group#USA",
                "properties": {
                  "label": "USA"
                },
                "color": "#15AFAC",
                "label": "USA",
                "scale_factor": 1,
                "type": "#15AFAC",
                "size": [
                  55,
                  55
                ],
                "position": [
                  0,
                  0
                ],
                "heat": -0.008676789587852495
              },
              {
                "id": "group#Canada",
                "properties": {
                  "label": "Canada"
                },
                "color": "#15AFAC",
                "label": "Canada",
                "scale_factor": 1,
                "type": "#15AFAC",
                "size": [
                  55,
                  55
                ],
                "position": [
                  0,
                  0
                ],
                "heat": -0.008676789587852495
              },
              {
                "id": "group#Canada",
                "properties": {
                  "label": "Canada"
                },
                "color": "#15AFAC",
                "label": "Canada",
                "scale_factor": 1,
                "type": "#15AFAC",
                "size": [
                  55,
                  55
                ],
                "position": [
                  0,
                  0
                ],
                "heat": -0.008676789587852495
              },
              {
                "id": "group#Canada",
                "properties": {
                  "label": "Canada"
                },
                "color": "#15AFAC",
                "label": "Canada",
                "scale_factor": 1,
                "type": "#15AFAC",
                "size": [
                  55,
                  55
                ],
                "position": [
                  0,
                  0
                ],
                "heat": -0.008676789587852495
              },
              {
                "id": "group#Mexico",
                "properties": {
                  "label": "Mexico"
                },
                "color": "#15AFAC",
                "label": "Mexico",
                "scale_factor": 1,
                "type": "#15AFAC",
                "size": [
                  55,
                  55
                ],
                "position": [
                  0,
                  0
                ],
                "heat": -0.008676789587852495
              },
              {
                "id": "group#Guatemala",
                "properties": {
                  "label": "Guatemala"
                },
                "color": "#15AFAC",
                "label": "Guatemala",
                "scale_factor": 1,
                "type": "#15AFAC",
                "size": [
                  55,
                  55
                ],
                "position": [
                  0,
                  0
                ],
                "heat": -0.008676789587852495
              },
              {
                "id": "group#Argentina",
                "properties": {
                  "label": "Argentina"
                },
                "color": "#15AFAC",
                "label": "Argentina",
                "scale_factor": 1,
                "type": "#15AFAC",
                "size": [
                  55,
                  55
                ],
                "position": [
                  0,
                  0
                ],
                "heat": -0.008676789587852495
              },
              {
                "id": "group#Brazil",
                "properties": {
                  "label": "Brazil"
                },
                "color": "#15AFAC",
                "label": "Brazil",
                "scale_factor": 1,
                "type": "#15AFAC",
                "size": [
                  55,
                  55
                ],
                "position": [
                  0,
                  0
                ],
                "heat": -0.008676789587852495
              },
              {
                "id": "group#Chile",
                "properties": {
                  "label": "Chile"
                },
                "color": "#15AFAC",
                "label": "Chile",
                "scale_factor": 1,
                "type": "#15AFAC",
                "size": [
                  55,
                  55
                ],
                "position": [
                  0,
                  0
                ],
                "heat": -0.008676789587852495
              },
              {
                "id": "group#Brazil",
                "properties": {
                  "label": "Brazil"
                },
                "color": "#15AFAC",
                "label": "Brazil",
                "scale_factor": 1,
                "type": "#15AFAC",
                "size": [
                  55,
                  55
                ],
                "position": [
                  0,
                  0
                ],
                "heat": -0.008676789587852495
              },
              {
                "id": "group#Colombia",
                "properties": {
                  "label": "Colombia"
                },
                "color": "#15AFAC",
                "label": "Colombia",
                "scale_factor": 1,
                "type": "#15AFAC",
                "size": [
                  55,
                  55
                ],
                "position": [
                  0,
                  0
                ],
                "heat": -0.008676789587852495
              },
              {
                "id": "group#Venezuela",
                "properties": {
                  "label": "Venezuela"
                },
                "color": "#15AFAC",
                "label": "Venezuela",
                "scale_factor": 1,
                "type": "#15AFAC",
                "size": [
                  55,
                  55
                ],
                "position": [
                  0,
                  0
                ],
                "heat": -0.008676789587852495
              }
            ],
            "_overview": {
              "enabled": null,
              "overview_set": false
            },
            "_selected_graph": [
              [],
              []
            ],
            "_sidebar": {
              "enabled": false,
              "start_with": null
            },
            "_view_count": null,
            "_view_module": "yfiles-jupyter-graphs",
            "_view_module_version": "^1.10.9",
            "_view_name": "GraphView",
            "layout": "IPY_MODEL_9ebea88fe4854e5e9f9a31a12f0ce4e2"
          }
        },
        "9ebea88fe4854e5e9f9a31a12f0ce4e2": {
          "model_module": "@jupyter-widgets/base",
          "model_name": "LayoutModel",
          "model_module_version": "1.2.0",
          "state": {
            "_model_module": "@jupyter-widgets/base",
            "_model_module_version": "1.2.0",
            "_model_name": "LayoutModel",
            "_view_count": null,
            "_view_module": "@jupyter-widgets/base",
            "_view_module_version": "1.2.0",
            "_view_name": "LayoutView",
            "align_content": null,
            "align_items": null,
            "align_self": null,
            "border": null,
            "bottom": null,
            "display": null,
            "flex": null,
            "flex_flow": null,
            "grid_area": null,
            "grid_auto_columns": null,
            "grid_auto_flow": null,
            "grid_auto_rows": null,
            "grid_column": null,
            "grid_gap": null,
            "grid_row": null,
            "grid_template_areas": null,
            "grid_template_columns": null,
            "grid_template_rows": null,
            "height": "800px",
            "justify_content": null,
            "justify_items": null,
            "left": null,
            "margin": null,
            "max_height": null,
            "max_width": null,
            "min_height": null,
            "min_width": null,
            "object_fit": null,
            "object_position": null,
            "order": null,
            "overflow": null,
            "overflow_x": null,
            "overflow_y": null,
            "padding": null,
            "right": null,
            "top": null,
            "visibility": null,
            "width": "100%"
          }
        },
        "state": {}
      }
    },
    "colab": {
      "provenance": []
    }
  },
  "nbformat": 4,
  "nbformat_minor": 5
}