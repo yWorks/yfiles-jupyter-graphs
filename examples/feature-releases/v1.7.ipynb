{
  "cells": [
    {
      "cell_type": "markdown",
      "id": "95c7a78b-917a-42b6-a1a9-b3255c0667ce",
      "metadata": {
        "id": "95c7a78b-917a-42b6-a1a9-b3255c0667ce"
      },
      "source": [
        "# yFiles Graphs for Jupyter v1.7 <a target=\"_blank\" href=\"https://colab.research.google.com/github/yWorks/yfiles-jupyter-graphs/blob/main/examples/feature-releases/v1.7.ipynb\"><img src=\"https://colab.research.google.com/assets/colab-badge.svg\" alt=\"Open In Colab\"/></a>\n",
        "\n",
        "Before using the graph widget, install all necessary packages and initialize your widget."
      ]
    },
    {
      "cell_type": "code",
      "execution_count": 1,
      "id": "86ccab84-0881-4e14-b33d-51313ec2b85e",
      "metadata": {
        "id": "86ccab84-0881-4e14-b33d-51313ec2b85e",
        "outputId": "e68bc112-ca79-453a-8c01-b2d602322e40",
        "colab": {
          "base_uri": "https://localhost:8080/"
        }
      },
      "outputs": [
        {
          "output_type": "stream",
          "name": "stdout",
          "text": [
            "\u001b[2K   \u001b[90m\u2501\u2501\u2501\u2501\u2501\u2501\u2501\u2501\u2501\u2501\u2501\u2501\u2501\u2501\u2501\u2501\u2501\u2501\u2501\u2501\u2501\u2501\u2501\u2501\u2501\u2501\u2501\u2501\u2501\u2501\u2501\u2501\u2501\u2501\u2501\u2501\u2501\u2501\u2501\u2501\u001b[0m \u001b[32m15.6/15.6 MB\u001b[0m \u001b[31m20.3 MB/s\u001b[0m eta \u001b[36m0:00:00\u001b[0m\n",
            "\u001b[2K   \u001b[90m\u2501\u2501\u2501\u2501\u2501\u2501\u2501\u2501\u2501\u2501\u2501\u2501\u2501\u2501\u2501\u2501\u2501\u2501\u2501\u2501\u2501\u2501\u2501\u2501\u2501\u2501\u2501\u2501\u2501\u2501\u2501\u2501\u2501\u2501\u2501\u2501\u2501\u2501\u2501\u2501\u001b[0m \u001b[32m139.8/139.8 kB\u001b[0m \u001b[31m2.6 MB/s\u001b[0m eta \u001b[36m0:00:00\u001b[0m\n",
            "\u001b[2K   \u001b[90m\u2501\u2501\u2501\u2501\u2501\u2501\u2501\u2501\u2501\u2501\u2501\u2501\u2501\u2501\u2501\u2501\u2501\u2501\u2501\u2501\u2501\u2501\u2501\u2501\u2501\u2501\u2501\u2501\u2501\u2501\u2501\u2501\u2501\u2501\u2501\u2501\u2501\u2501\u2501\u2501\u001b[0m \u001b[32m2.3/2.3 MB\u001b[0m \u001b[31m24.7 MB/s\u001b[0m eta \u001b[36m0:00:00\u001b[0m\n",
            "\u001b[2K   \u001b[90m\u2501\u2501\u2501\u2501\u2501\u2501\u2501\u2501\u2501\u2501\u2501\u2501\u2501\u2501\u2501\u2501\u2501\u2501\u2501\u2501\u2501\u2501\u2501\u2501\u2501\u2501\u2501\u2501\u2501\u2501\u2501\u2501\u2501\u2501\u2501\u2501\u2501\u2501\u2501\u2501\u001b[0m \u001b[32m1.6/1.6 MB\u001b[0m \u001b[31m24.7 MB/s\u001b[0m eta \u001b[36m0:00:00\u001b[0m\n",
            "\u001b[?25h"
          ]
        }
      ],
      "source": [
        "%pip install yfiles_jupyter_graphs --quiet\n",
        "from yfiles_jupyter_graphs import GraphWidget"
      ]
    },
    {
      "cell_type": "markdown",
      "id": "99c91625-6682-4dcc-86ed-ff80a85d435d",
      "metadata": {
        "id": "99c91625-6682-4dcc-86ed-ff80a85d435d"
      },
      "source": [
        "You can also open this notebook in Google Colab when Google Colab's custom widget manager is enabled:"
      ]
    },
    {
      "cell_type": "code",
      "execution_count": 2,
      "id": "f0b1c0be-758f-47b3-be83-f4508d5bbf3b",
      "metadata": {
        "id": "f0b1c0be-758f-47b3-be83-f4508d5bbf3b"
      },
      "outputs": [],
      "source": [
        "try:\n",
        "  import google.colab\n",
        "  from google.colab import output\n",
        "  output.enable_custom_widget_manager()\n",
        "except:\n",
        "  pass"
      ]
    },
    {
      "cell_type": "markdown",
      "id": "29c27896-cc64-4c03-846f-a69a8887526b",
      "metadata": {
        "id": "29c27896-cc64-4c03-846f-a69a8887526b"
      },
      "source": [
        "<a target=\"_blank\" href=\"https://colab.research.google.com/github/yWorks/yfiles-jupyter-graphs/blob/main/examples/feature-releases/v1.7.ipynb\"><img src=\"https://colab.research.google.com/assets/colab-badge.svg\" alt=\"Open In Colab\"/></a>"
      ]
    },
    {
      "cell_type": "markdown",
      "id": "8cea83a9-2373-4dce-a9a2-353022fb1676",
      "metadata": {
        "id": "8cea83a9-2373-4dce-a9a2-353022fb1676"
      },
      "source": [
        "## Sample Data\n",
        "\n",
        "The dataset for this sample is the following airport and flight routes data:"
      ]
    },
    {
      "cell_type": "code",
      "execution_count": 3,
      "id": "0eb47bdd-d943-4820-bbc3-29d8396204ac",
      "metadata": {
        "id": "0eb47bdd-d943-4820-bbc3-29d8396204ac"
      },
      "outputs": [],
      "source": [
        "airports_json = [\n",
        "    {\"name\": \"Los Angeles\", \"iata\": \"LAX\", \"lat\": 33.942536, \"lng\": -118.408075, \"passengers\": 65000000, \"country\": \"USA\", \"id\": \"LAX\"}, {\"name\": \"Rio de Janeiro\", \"iata\": \"GIG\", \"lat\": -22.808903, \"lng\": -43.243647, \"passengers\": 5000000, \"country\": \"Brazil\", \"id\": \"GIG\"}, {\"name\": \"Lima\", \"iata\": \"LIM\", \"lat\": -12.021889, \"lng\": -77.114319, \"passengers\": 18000000, \"country\": \"Peru\", \"id\": \"LIM\"}, {\"name\": \"London\", \"iata\": \"LHR\", \"lat\": 51.4775, \"lng\": -0.461389, \"passengers\": 61000000, \"country\": \"UK\", \"id\": \"LHR\"},\n",
        "    {\"name\": \"Frankfurt\", \"iata\": \"FRA\", \"lat\": 50.033333, \"lng\": 8.570556, \"passengers\": 48000000, \"country\": \"Germany\", \"id\": \"FRA\"}, {\"name\": \"Moscow\", \"iata\": \"SVO\", \"lat\": 55.972642, \"lng\": 37.414589, \"passengers\": 49000000, \"country\": \"Russia\", \"id\": \"SVO\"}, {\"name\": \"New Delhi\", \"iata\": \"DEL\", \"lat\": 28.5665, \"lng\": 77.103089, \"passengers\": 39000000, \"country\": \"India\", \"id\": \"DEL\"}, {\"name\": \"Shanghai\", \"iata\": \"PVG\", \"lat\": 31.143378, \"lng\": 121.805214, \"passengers\": 32000000, \"country\": \"China\", \"id\": \"PVG\"},\n",
        "    {\"name\": \"Hongkong\", \"iata\": \"HKG\", \"lat\": 22.308919, \"lng\": 113.914603, \"passengers\": 1000000, \"country\": \"China\", \"id\": \"HKG\"}, {\"name\": \"Tokio\", \"iata\": \"NRT\", \"lat\": 35.764722, \"lng\": 140.386389, \"passengers\": 15000000, \"country\": \"Japan\", \"id\": \"NRT\"}, {\"name\": \"Dubai\", \"iata\": \"DXB\", \"lat\": 25.252778, \"lng\": 55.364444, \"passengers\": 29000000, \"country\": \"UAE\", \"id\": \"DXB\"}, {\"name\": \"Dakar\", \"iata\": \"DKR\", \"lat\": 14.670833, \"lng\": -17.072778, \"passengers\": 2000000, \"country\": \"Senegal\", \"id\": \"DKR\"},\n",
        "    {\"name\": \"Johannesburg\", \"iata\": \"JNB\", \"lat\": -26.133694, \"lng\": 28.242317, \"passengers\": 9000000, \"country\": \"South Africa\", \"id\": \"JNB\"}, {\"name\": \"Sydney\", \"iata\": \"SYD\", \"lat\": -33.946111, \"lng\": 151.177222, \"passengers\": 44000000, \"country\": \"Australia\", \"id\": \"SYD\"}, {\"name\": \"Nairobi\", \"iata\": \"NBO\", \"lat\": -1.319167, \"lng\": 36.927778, \"passengers\": 900000, \"country\": \"Kenya\", \"id\": \"NBO\"}, {\"name\": \"Atlanta\", \"iata\": \"ATL\", \"lat\": 33.639167, \"lng\": -84.427778, \"passengers\": 93000000, \"country\": \"USA\", \"id\": \"ATL\"},\n",
        "    {\"name\": \"New York City\", \"iata\": \"JFK\", \"lat\": 40.63975, \"lng\": -73.778925, \"passengers\": 55000000, \"country\": \"USA\", \"id\": \"JFK\"}, {\"name\": \"Cairo\", \"iata\": \"CAI\", \"lat\": 30.121944, \"lng\": 31.405556, \"passengers\": 14000000, \"country\": \"Egypt\", \"id\": \"CAI\"}, {\"name\": \"Casablanca\", \"iata\": \"CMN\", \"lat\": 33.367467, \"lng\": -7.589967, \"passengers\": 7000000, \"country\": \"Morocco\", \"id\": \"CMN\"}, {\"name\": \"Lagos\", \"iata\": \"LOS\", \"lat\": 6.577222, \"lng\": 3.321111, \"passengers\": 5000000, \"country\": \"Nigeria\", \"id\": \"LOS\"},\n",
        "    {\"name\": \"Cape Town\", \"iata\": \"CPT\", \"lat\": -33.969444, \"lng\": 18.597222, \"passengers\": 5000000, \"country\": \"South Africa\", \"id\": \"CPT\"}, {\"name\": \"Chengdu\", \"iata\": \"CTU\", \"lat\": 30.578333, \"lng\": 103.946944, \"passengers\": 40000000, \"country\": \"China\", \"id\": \"CTU\"}, {\"name\": \"Jakarta\", \"iata\": \"CGK\", \"lat\": -6.125567, \"lng\": 106.655897, \"passengers\": 54000000, \"country\": \"Indonesia\", \"id\": \"CGK\"}, {\"name\": \"Teheran\", \"iata\": \"IKA\", \"lat\": 35.416111, \"lng\": 51.152222, \"passengers\": 8000000, \"country\": \"Iran\", \"id\": \"IKA\"},\n",
        "    {\"name\": \"Tel Aviv\", \"iata\": \"TLV\", \"lat\": 32.011389, \"lng\": 34.886667, \"passengers\": 20000000, \"country\": \"Israel\", \"id\": \"TLV\"}, {\"name\": \"Kuala Lumpur\", \"iata\": \"KUL\", \"lat\": 2.745578, \"lng\": 101.709917, \"passengers\": 25000000, \"country\": \"Malaysia\", \"id\": \"KUL\"}, {\"name\": \"Manila\", \"iata\": \"MNL\", \"lat\": 14.508647, \"lng\": 121.019581, \"passengers\": 8000000, \"country\": \"Philippines\", \"id\": \"MNL\"}, {\"name\": \"Singapur\", \"iata\": \"SIN\", \"lat\": 1.350189, \"lng\": 103.994433, \"passengers\": 32000000, \"country\": \"Singapore\", \"id\": \"SIN\"},\n",
        "    {\"name\": \"Taipeh\", \"iata\": \"TPE\", \"lat\": 25.077732, \"lng\": 121.232822, \"passengers\": 800000, \"country\": \"Taiwan\", \"id\": \"TPE\"}, {\"name\": \"Bangkok\", \"iata\": \"BKK\", \"lat\": 13.681108, \"lng\": 100.747283, \"passengers\": 65000000, \"country\": \"Thailand\", \"id\": \"BKK\"}, {\"name\": \"Istanbul\", \"iata\": \"IST\", \"lat\": 40.976922, \"lng\": 28.814606, \"passengers\": 64000000, \"country\": \"Turkey\", \"id\": \"IST\"}, {\"name\": \"Ulaanbaatar\", \"iata\": \"ULN\", \"lat\": 47.843056, \"lng\": 106.766639, \"passengers\": 1000000, \"country\": \"Mongolia\", \"id\": \"ULN\"},\n",
        "    {\"name\": \"Melbourne\", \"iata\": \"MEL\", \"lat\": -37.673333, \"lng\": 144.843333, \"passengers\": 12000000, \"country\": \"Australia\", \"id\": \"MEL\"}, {\"name\": \"Brisbane\", \"iata\": \"BNE\", \"lat\": -27.383333, \"lng\": 153.118056, \"passengers\": 23000000, \"country\": \"Australia\", \"id\": \"BNE\"}, {\"name\": \"Nadi\", \"iata\": \"NAN\", \"lat\": -17.755392, \"lng\": 177.443378, \"passengers\": 2000000, \"country\": \"Fiji\", \"id\": \"NAN\"}, {\"name\": \"Auckland\", \"iata\": \"AKL\", \"lat\": -37.008056, \"lng\": 174.791667, \"passengers\": 21000000, \"country\": \"New Zealand\", \"id\": \"AKL\"},\n",
        "    {\"name\": \"Paris\", \"iata\": \"CDG\", \"lat\": 49.009722, \"lng\": 2.547778, \"passengers\": 57000000, \"country\": \"France\", \"id\": \"CDG\"}, {\"name\": \"Madrid\", \"iata\": \"MAD\", \"lat\": 40.4675, \"lng\": -3.551944, \"passengers\": 50000000, \"country\": \"Spain\", \"id\": \"MAD\"}, {\"name\": \"Barcelona\", \"iata\": \"BCN\", \"lat\": 41.297078, \"lng\": 2.078464, \"passengers\": 41000000, \"country\": \"Spain\", \"id\": \"BCN\"}, {\"name\": \"Rome\", \"iata\": \"FCO\", \"lat\": 41.804444, \"lng\": 12.250833, \"passengers\": 29000000, \"country\": \"Italy\", \"id\": \"FCO\"},\n",
        "    {\"name\": \"Copenhagen\", \"iata\": \"CPH\", \"lat\": 55.617917, \"lng\": 12.655972, \"passengers\": 30000000, \"country\": \"Denmark\", \"id\": \"CPH\"}, {\"name\": \"Helsinki\", \"iata\": \"HEL\", \"lat\": 60.317222, \"lng\": 24.963333, \"passengers\": 5000000, \"country\": \"Finland\", \"id\": \"HEL\"}, {\"name\": \"Athens\", \"iata\": \"ATH\", \"lat\": 37.936358, \"lng\": 23.944467, \"passengers\": 22000000, \"country\": \"Greece\", \"id\": \"ATH\"}, {\"name\": \"Dublin\", \"iata\": \"DUB\", \"lat\": 53.421333, \"lng\": -6.270075, \"passengers\": 32000000, \"country\": \"Ireland\", \"id\": \"DUB\"},\n",
        "    {\"name\": \"Reykjavik\", \"iata\": \"RKV\", \"lat\": 64.13, \"lng\": -21.940556, \"passengers\": 400000, \"country\": \"Iceland\", \"id\": \"RKV\"}, {\"name\": \"Oslo\", \"iata\": \"OSL\", \"lat\": 60.193917, \"lng\": 11.100361, \"passengers\": 9000000, \"country\": \"Norway\", \"id\": \"OSL\"}, {\"name\": \"Vienna\", \"iata\": \"VIE\", \"lat\": 48.110833, \"lng\": 16.570833, \"passengers\": 10000000, \"country\": \"Austria\", \"id\": \"VIE\"}, {\"name\": \"Lisbon\", \"iata\": \"LIS\", \"lat\": 38.774167, \"lng\": -9.134167, \"passengers\": 28000000, \"country\": \"Portugal\", \"id\": \"LIS\"},\n",
        "    {\"name\": \"Stockholm\", \"iata\": \"ARN\", \"lat\": 59.651944, \"lng\": 17.918611, \"passengers\": 7000000, \"country\": \"Sweden\", \"id\": \"ARN\"}, {\"name\": \"Edinburgh\", \"iata\": \"EDI\", \"lat\": 55.95, \"lng\": -3.3725, \"passengers\": 14000000, \"country\": \"UK\", \"id\": \"EDI\"}, {\"name\": \"Chicago\", \"iata\": \"ORD\", \"lat\": 41.978603, \"lng\": -87.904842, \"passengers\": 54000000, \"country\": \"USA\", \"id\": \"ORD\"}, {\"name\": \"Dallas\", \"iata\": \"DFW\", \"lat\": 32.896828, \"lng\": -97.037997, \"passengers\": 73000000, \"country\": \"USA\", \"id\": \"DFW\"},\n",
        "    {\"name\": \"San Francisco\", \"iata\": \"SFO\", \"lat\": 37.618972, \"lng\": -122.374889, \"passengers\": 42000000, \"country\": \"USA\", \"id\": \"SFO\"}, {\"name\": \"Las Vegas\", \"iata\": \"LAS\", \"lat\": 36.080056, \"lng\": -115.15225, \"passengers\": 52000000, \"country\": \"USA\", \"id\": \"LAS\"}, {\"name\": \"Miami\", \"iata\": \"MIA\", \"lat\": 25.79325, \"lng\": -80.290556, \"passengers\": 50000000, \"country\": \"USA\", \"id\": \"MIA\"}, {\"name\": \"Toronto\", \"iata\": \"YYZ\", \"lat\": 43.677222, \"lng\": -79.630556, \"passengers\": 12000000, \"country\": \"Canada\", \"id\": \"YYZ\"},\n",
        "    {\"name\": \"Vancouver\", \"iata\": \"YVR\", \"lat\": 49.193889, \"lng\": -123.184444, \"passengers\": 19000000, \"country\": \"Canada\", \"id\": \"YVR\"}, {\"name\": \"Montreal\", \"iata\": \"YUL\", \"lat\": 45.47175, \"lng\": -73.736569, \"passengers\": 15000000, \"country\": \"Canada\", \"id\": \"YUL\"}, {\"name\": \"Mexico-City\", \"iata\": \"MEX\", \"lat\": 19.436303, \"lng\": -99.072097, \"passengers\": 46000000, \"country\": \"Mexico\", \"id\": \"MEX\"}, {\"name\": \"Guatemala-City\", \"iata\": \"GUA\", \"lat\": 14.583272, \"lng\": -90.527475, \"passengers\": 2000000, \"country\": \"Guatemala\", \"id\": \"GUA\"},\n",
        "    {\"name\": \"Buenos Aires\", \"iata\": \"EZE\", \"lat\": -34.822222, \"lng\": -58.535833, \"passengers\": 5000000, \"country\": \"Argentina\", \"id\": \"EZE\"}, {\"name\": \"Sao Paulo\", \"iata\": \"GRU\", \"lat\": -23.432075, \"lng\": -46.469511, \"passengers\": 34000000, \"country\": \"Brazil\", \"id\": \"GRU\"}, {\"name\": \"Santiago de Chile\", \"iata\": \"SCL\", \"lat\": -33.392975, \"lng\": -70.785803, \"passengers\": 20000000, \"country\": \"Chile\", \"id\": \"SCL\"}, {\"name\": \"Brasilia\", \"iata\": \"BSB\", \"lat\": -15.871111, \"lng\": -47.918611, \"passengers\": 13000000, \"country\": \"Brazil\", \"id\": \"BSB\"},\n",
        "    {\"name\": \"Bogota\", \"iata\": \"BOG\", \"lat\": 4.701594, \"lng\": -74.146947, \"passengers\": 36000000, \"country\": \"Colombia\", \"id\": \"BOG\"}, {\"name\": \"Caracas\", \"iata\": \"CCS\", \"lat\": 10.601194, \"lng\": -66.991222, \"passengers\": 8000000, \"country\": \"Venezuela\", \"id\": \"CCS\"}\n",
        "  ]\n",
        "connections_json = [\n",
        "    {'from': 'LAX','to': 'JFK' },   {'from': 'JFK','to': 'GIG' },    {'from': 'JFK','to': 'LIM' },    {'from': 'JFK','to': 'LHR' },    {'from': 'GIG','to': 'FRA' },    {'from': 'LIM','to': 'GIG' },    {'from': 'FRA','to': 'JFK' },    {'from': 'LHR','to': 'FRA' },    {'from': 'FRA','to': 'SVO' },    {'from': 'FRA','to': 'DXB' },    {'from': 'SVO','to': 'DEL' },\n",
        "    {'from': 'SVO','to': 'PVG' },    {'from': 'DEL','to': 'HKG' },    {'from': 'PVG','to': 'HKG' },    {'from': 'PVG','to': 'NRT' },    {'from': 'HKG','to': 'SYD' },    {'from': 'NRT','to': 'SYD' },    {'from': 'DXB','to': 'SVO' },    {'from': 'DXB','to': 'DEL' },    {'from': 'DXB','to': 'DKR' },    {'from': 'DXB','to': 'JNB' },    {'from': 'JNB','to': 'LHR' },\n",
        "    {'from': 'JNB','to': 'DKR' },    {'from': 'SYD','to': 'DXB' },    {'from': 'NBO','to': 'JNB' },    {'from': 'NBO','to': 'DXB' },    {'from': 'ATL','to': 'JFK' },    {'from': 'LAX','to': 'ATL' },    {'from': 'ATL','to': 'LHR' },    {'from': 'ATL','to': 'LIM' },    {'from': 'SCL','to': 'LIM' },    {'from': 'EZE','to': 'SCL' },    {'from': 'SCL','to': 'GRU' },\n",
        "    {'from': 'GIG','to': 'EZE' },    {'from': 'GIG','to': 'GRU' },    {'from': 'BSB','to': 'GIG' },    {'from': 'SCL','to': 'BSB' },    {'from': 'LIM','to': 'BSB' },    {'from': 'BOG','to': 'BSB' },    {'from': 'CCS','to': 'BSB' },    {'from': 'BOG','to': 'GUA' },    {'from': 'CCS','to': 'MIA' },    {'from': 'GUA','to': 'MIA' },    {'from': 'GUA','to': 'MEX' },\n",
        "    {'from': 'MEX','to': 'LAX' },    {'from': 'MEX','to': 'LAX' },    {'from': 'LAX','to': 'SFO' },    {'from': 'SFO','to': 'YVR' },    {'from': 'LAX','to': 'LAS' },    {'from': 'LAX','to': 'DFW' },    {'from': 'LAX','to': 'ORD' },    {'from': 'SFO','to': 'LAS' },    {'from': 'DFW','to': 'ATL' },    {'from': 'ATL','to': 'YYZ' },    {'from': 'ORD','to': 'YYZ' },\n",
        "    {'from': 'YYZ','to': 'YUL' },    {'from': 'YYZ','to': 'JFK' },    {'from': 'YUL','to': 'JFK' },    {'from': 'JNB','to': 'CPT' },    {'from': 'LOS','to': 'DKR' },    {'from': 'NBO','to': 'LOS' },    {'from': 'DKR','to': 'CMN' },    {'from': 'DKR','to': 'CAI' },    {'from': 'NBO','to': 'CAI' },    {'from': 'DXB','to': 'CAI' },    {'from': 'IKA','to': 'DXB' },\n",
        "    {'from': 'IST','to': 'IKA' },    {'from': 'TLV','to': 'ATH' },    {'from': 'CAI','to': 'TLV' },    {'from': 'ATH','to': 'IST' },    {'from': 'FCO','to': 'ATH' },    {'from': 'LIS','to': 'LHR' },    {'from': 'LIS','to': 'MAD' },    {'from': 'MAD','to': 'BCN' },    {'from': 'CDG','to': 'LHR' },    {'from': 'DUB','to': 'LHR' },    {'from': 'EDI','to': 'LHR' },\n",
        "    {'from': 'CDG','to': 'BCN' },    {'from': 'BCN','to': 'FCO' },    {'from': 'VIE','to': 'IST' },    {'from': 'VIE','to': 'SVO' },    {'from': 'CMN','to': 'LIS' },    {'from': 'MAD','to': 'CMN' },    {'from': 'FRA','to': 'CPH' },    {'from': 'LHR','to': 'CPH' },    {'from': 'CPH','to': 'OSL' },    {'from': 'CPH','to': 'ARN' },    {'from': 'ARN','to': 'HEL' },\n",
        "    {'from': 'HEL','to': 'SVO' },    {'from': 'ULN','to': 'PVG' },    {'from': 'CTU','to': 'PVG' },    {'from': 'PVG','to': 'TPE' },    {'from': 'CTU','to': 'HKG' },    {'from': 'TPE','to': 'HKG' },    {'from': 'HKG','to': 'MNL' },    {'from': 'BKK','to': 'HKG' },    {'from': 'SIN','to': 'KUL' },    {'from': 'SIN','to': 'BKK' },    {'from': 'CGK','to': 'SIN' },\n",
        "    {'from': 'MNL','to': 'SIN' },    {'from': 'SIN','to': 'SYD' },    {'from': 'BNE','to': 'SYD' },    {'from': 'SYD','to': 'MEL' },    {'from': 'NAN','to': 'SYD' },    {'from': 'AKL','to': 'SYD' },    {'from': 'NAN','to': 'AKL' },    {'from': 'RKV','to': 'LHR' },    {'from': 'BCN','to': 'CDG' },    {'from': 'BCN','to': 'FRA' },    {'from': 'FCO','to': 'FRA' },\n",
        "    {'from': 'BOG','to': 'MEX' },    {'from': 'BOG','to': 'GRU' },    {'from': 'ATL','to': 'MIA' },    {'from': 'FRA','to': 'IST' },    {'from': 'IST','to': 'DEL' },    {'from': 'PVG','to': 'BKK' },    {'from': 'DEL','to': 'BKK' },\n",
        "  ]\n",
        "\n",
        "def initData():\n",
        "    return ([\n",
        "        {\"id\": airport['iata'], \"properties\": {\"label\": airport['name'], 'passengers': airport['passengers'], 'country': airport['country']}, \"coordinates\": [airport['lat'], airport['lng']]}\n",
        "        for airport in airports_json\n",
        "    ], [\n",
        "        {\"start\": connection['from'], \"end\": connection['to'], \"label\": \"\", \"properties\": {}, \"directed\": False}\n",
        "        for connection in connections_json\n",
        "    ])\n",
        "\n",
        "airports, connections = initData()"
      ]
    },
    {
      "cell_type": "markdown",
      "id": "1970927b-c195-4135-8b10-c0ad7902abab",
      "metadata": {
        "id": "1970927b-c195-4135-8b10-c0ad7902abab"
      },
      "source": [
        "Provided as data to yFiles Jupyter Graphs results in this graph:"
      ]
    },
    {
      "cell_type": "code",
      "execution_count": 8,
      "id": "cd760fb5-88da-4343-9fc0-4dbaccae7202",
      "metadata": {
        "id": "cd760fb5-88da-4343-9fc0-4dbaccae7202",
        "outputId": "4d11478a-2306-4072-e1f4-4500f283f4d7",
        "colab": {
          "base_uri": "https://localhost:8080/",
          "height": 817,
          "referenced_widgets": [
            "febfa41892574fbaa2135c052e0ef0de",
            "2ce456beccf34503b071fea64d98f5c4"
          ]
        }
      },
      "outputs": [
        {
          "output_type": "display_data",
          "data": {
            "text/plain": [
              "GraphWidget(layout=Layout(height='800px', width='100%'))"
            ],
            "application/vnd.jupyter.widget-view+json": {
              "version_major": 2,
              "version_minor": 0,
              "model_id": "febfa41892574fbaa2135c052e0ef0de"
            }
          },
          "metadata": {
            "application/vnd.jupyter.widget-view+json": {
              "colab": {
                "custom_widget_manager": {
                  "url": "https://ssl.gstatic.com/colaboratory-static/widgets/colab-cdn-widget-manager/2b70e893a8ba7c0f/manager.min.js"
                }
              }
            }
          }
        }
      ],
      "source": [
        "w = GraphWidget()\n",
        "w.set_overview(False)\n",
        "w.edges = connections\n",
        "w.nodes = airports\n",
        "display(w)"
      ]
    },
    {
      "cell_type": "markdown",
      "id": "4398de48-e075-4537-a591-ed46e5f07f94",
      "metadata": {
        "id": "4398de48-e075-4537-a591-ed46e5f07f94"
      },
      "source": [
        "# Visualize data as heatmap"
      ]
    },
    {
      "cell_type": "code",
      "execution_count": 5,
      "id": "466813b3-fae0-4500-a208-0022bb08e777",
      "metadata": {
        "id": "466813b3-fae0-4500-a208-0022bb08e777",
        "outputId": "4736346d-942f-4f1e-e205-aa4a7dfa232a",
        "colab": {
          "base_uri": "https://localhost:8080/",
          "height": 817,
          "referenced_widgets": [
            "9038e3e42e8245a5a7a969a870acd148",
            "5c4472284ced449db80e1db8ed6ae20e"
          ]
        }
      },
      "outputs": [
        {
          "output_type": "display_data",
          "data": {
            "text/plain": [
              "GraphWidget(layout=Layout(height='800px', width='100%'))"
            ],
            "application/vnd.jupyter.widget-view+json": {
              "version_major": 2,
              "version_minor": 0,
              "model_id": "9038e3e42e8245a5a7a969a870acd148"
            }
          },
          "metadata": {
            "application/vnd.jupyter.widget-view+json": {
              "colab": {
                "custom_widget_manager": {
                  "url": "https://ssl.gstatic.com/colaboratory-static/widgets/colab-cdn-widget-manager/2b70e893a8ba7c0f/manager.min.js"
                }
              }
            }
          }
        }
      ],
      "source": [
        "# Map passengers at the airport to a heat value\n",
        "w.set_heat_mapping(lambda item : (item['properties']['passengers'] - 800000)/92200000 if 'passengers' in item['properties'] else 0)\n",
        "display(w)"
      ]
    },
    {
      "cell_type": "markdown",
      "id": "c785842e-5d8e-43fd-926c-ebbc13ce5ca6",
      "metadata": {
        "id": "c785842e-5d8e-43fd-926c-ebbc13ce5ca6"
      },
      "source": [
        "# Geospatial data mapping"
      ]
    },
    {
      "cell_type": "code",
      "execution_count": 6,
      "id": "ec4c84bf-fa9b-4e0f-bf97-ba9daaeeaaec",
      "metadata": {
        "id": "ec4c84bf-fa9b-4e0f-bf97-ba9daaeeaaec",
        "outputId": "b09aa39e-f310-41d4-cae2-730e783c9547",
        "colab": {
          "base_uri": "https://localhost:8080/",
          "height": 817,
          "referenced_widgets": [
            "9038e3e42e8245a5a7a969a870acd148",
            "5c4472284ced449db80e1db8ed6ae20e"
          ]
        }
      },
      "outputs": [
        {
          "output_type": "display_data",
          "data": {
            "text/plain": [
              "GraphWidget(layout=Layout(height='800px', width='100%'))"
            ],
            "application/vnd.jupyter.widget-view+json": {
              "version_major": 2,
              "version_minor": 0,
              "model_id": "9038e3e42e8245a5a7a969a870acd148"
            }
          },
          "metadata": {
            "application/vnd.jupyter.widget-view+json": {
              "colab": {
                "custom_widget_manager": {
                  "url": "https://ssl.gstatic.com/colaboratory-static/widgets/colab-cdn-widget-manager/2b70e893a8ba7c0f/manager.min.js"
                }
              }
            }
          }
        }
      ],
      "source": [
        "# provide a geolocation mapping for the airports\n",
        "w.node_coordinate_mapping = 'coordinates'\n",
        "# start widget directly in geospatial layout mode\n",
        "w.map_layout()\n",
        "display(w)"
      ]
    },
    {
      "cell_type": "markdown",
      "id": "507a16ad-4712-4e46-8220-44220d434e5c",
      "metadata": {
        "id": "507a16ad-4712-4e46-8220-44220d434e5c"
      },
      "source": [
        "# Group related data"
      ]
    },
    {
      "cell_type": "code",
      "execution_count": 7,
      "id": "6c3615c0-6f70-4525-94e2-0d674f1e24d9",
      "metadata": {
        "id": "6c3615c0-6f70-4525-94e2-0d674f1e24d9",
        "outputId": "c5cf7578-cd97-45fa-a077-acb19bd7fefa",
        "colab": {
          "base_uri": "https://localhost:8080/",
          "height": 817,
          "referenced_widgets": [
            "c967cd6898d94823aa59dfeb4122cadd",
            "3d83a711027745d7b822ce9bb103397e"
          ]
        }
      },
      "outputs": [
        {
          "output_type": "display_data",
          "data": {
            "text/plain": [
              "GraphWidget(layout=Layout(height='800px', width='100%'))"
            ],
            "application/vnd.jupyter.widget-view+json": {
              "version_major": 2,
              "version_minor": 0,
              "model_id": "c967cd6898d94823aa59dfeb4122cadd"
            }
          },
          "metadata": {
            "application/vnd.jupyter.widget-view+json": {
              "colab": {
                "custom_widget_manager": {
                  "url": "https://ssl.gstatic.com/colaboratory-static/widgets/colab-cdn-widget-manager/2b70e893a8ba7c0f/manager.min.js"
                }
              }
            }
          }
        }
      ],
      "source": [
        "airports, connections = initData()\n",
        "# add parent nodes to the dataset\n",
        "countries = []\n",
        "for airport_node in airports:\n",
        "    # collect unique countries among airports\n",
        "    airport_country = airport_node[\"properties\"][\"country\"]\n",
        "    if not any(country[\"id\"] == airport_country for country in countries):\n",
        "        countries.append({\"id\": airport_country, \"properties\": {\"label\": airport_country}})\n",
        "\n",
        "# create a nodes source with both, the unique countries (reprsenting our group nodes) and airports\n",
        "w = GraphWidget()\n",
        "w.set_overview(False)\n",
        "w.nodes = airports + countries\n",
        "w.edges = connections\n",
        "# use the country property as parent-id for each node\n",
        "w.node_parent_mapping = \"country\"\n",
        "# assign a color mapping to style country nodes differently, otherwise use the widget's default color\n",
        "w.node_color_mapping = lambda node : None if \"passengers\" in node[\"properties\"] else \"gray\"\n",
        "display(w)"
      ]
    }
  ],
  "metadata": {
    "kernelspec": {
      "display_name": "Python 3 (ipykernel)",
      "language": "python",
      "name": "python3"
    },
    "language_info": {
      "codemirror_mode": {
        "name": "ipython",
        "version": 3
      },
      "file_extension": ".py",
      "mimetype": "text/x-python",
      "name": "python",
      "nbconvert_exporter": "python",
      "pygments_lexer": "ipython3",
      "version": "3.12.3"
    },
    "colab": {
      "provenance": []
    },
    "widgets": {
      "application/vnd.jupyter.widget-state+json": {
        "febfa41892574fbaa2135c052e0ef0de": {
          "model_module": "yfiles-jupyter-graphs",
          "model_name": "GraphModel",
          "model_module_version": "^1.8.1",
          "state": {
            "_context_pane_mapping": [
              {
                "id": "Neighborhood",
                "title": "Neighborhood"
              },
              {
                "id": "Data",
                "title": "Data"
              },
              {
                "id": "Search",
                "title": "Search"
              },
              {
                "id": "About",
                "title": "About"
              }
            ],
            "_data_importer": "unknown",
            "_directed": false,
            "_dom_classes": [],
            "_edges": [
              {
                "start": "LAX",
                "end": "JFK",
                "label": "",
                "properties": {},
                "directed": false,
                "color": "#15AFAC",
                "thickness_factor": 1
              },
              {
                "start": "JFK",
                "end": "GIG",
                "label": "",
                "properties": {},
                "directed": false,
                "color": "#15AFAC",
                "thickness_factor": 1
              },
              {
                "start": "JFK",
                "end": "LIM",
                "label": "",
                "properties": {},
                "directed": false,
                "color": "#15AFAC",
                "thickness_factor": 1
              },
              {
                "start": "JFK",
                "end": "LHR",
                "label": "",
                "properties": {},
                "directed": false,
                "color": "#15AFAC",
                "thickness_factor": 1
              },
              {
                "start": "GIG",
                "end": "FRA",
                "label": "",
                "properties": {},
                "directed": false,
                "color": "#15AFAC",
                "thickness_factor": 1
              },
              {
                "start": "LIM",
                "end": "GIG",
                "label": "",
                "properties": {},
                "directed": false,
                "color": "#15AFAC",
                "thickness_factor": 1
              },
              {
                "start": "FRA",
                "end": "JFK",
                "label": "",
                "properties": {},
                "directed": false,
                "color": "#15AFAC",
                "thickness_factor": 1
              },
              {
                "start": "LHR",
                "end": "FRA",
                "label": "",
                "properties": {},
                "directed": false,
                "color": "#15AFAC",
                "thickness_factor": 1
              },
              {
                "start": "FRA",
                "end": "SVO",
                "label": "",
                "properties": {},
                "directed": false,
                "color": "#15AFAC",
                "thickness_factor": 1
              },
              {
                "start": "FRA",
                "end": "DXB",
                "label": "",
                "properties": {},
                "directed": false,
                "color": "#15AFAC",
                "thickness_factor": 1
              },
              {
                "start": "SVO",
                "end": "DEL",
                "label": "",
                "properties": {},
                "directed": false,
                "color": "#15AFAC",
                "thickness_factor": 1
              },
              {
                "start": "SVO",
                "end": "PVG",
                "label": "",
                "properties": {},
                "directed": false,
                "color": "#15AFAC",
                "thickness_factor": 1
              },
              {
                "start": "DEL",
                "end": "HKG",
                "label": "",
                "properties": {},
                "directed": false,
                "color": "#15AFAC",
                "thickness_factor": 1
              },
              {
                "start": "PVG",
                "end": "HKG",
                "label": "",
                "properties": {},
                "directed": false,
                "color": "#15AFAC",
                "thickness_factor": 1
              },
              {
                "start": "PVG",
                "end": "NRT",
                "label": "",
                "properties": {},
                "directed": false,
                "color": "#15AFAC",
                "thickness_factor": 1
              },
              {
                "start": "HKG",
                "end": "SYD",
                "label": "",
                "properties": {},
                "directed": false,
                "color": "#15AFAC",
                "thickness_factor": 1
              },
              {
                "start": "NRT",
                "end": "SYD",
                "label": "",
                "properties": {},
                "directed": false,
                "color": "#15AFAC",
                "thickness_factor": 1
              },
              {
                "start": "DXB",
                "end": "SVO",
                "label": "",
                "properties": {},
                "directed": false,
                "color": "#15AFAC",
                "thickness_factor": 1
              },
              {
                "start": "DXB",
                "end": "DEL",
                "label": "",
                "properties": {},
                "directed": false,
                "color": "#15AFAC",
                "thickness_factor": 1
              },
              {
                "start": "DXB",
                "end": "DKR",
                "label": "",
                "properties": {},
                "directed": false,
                "color": "#15AFAC",
                "thickness_factor": 1
              },
              {
                "start": "DXB",
                "end": "JNB",
                "label": "",
                "properties": {},
                "directed": false,
                "color": "#15AFAC",
                "thickness_factor": 1
              },
              {
                "start": "JNB",
                "end": "LHR",
                "label": "",
                "properties": {},
                "directed": false,
                "color": "#15AFAC",
                "thickness_factor": 1
              },
              {
                "start": "JNB",
                "end": "DKR",
                "label": "",
                "properties": {},
                "directed": false,
                "color": "#15AFAC",
                "thickness_factor": 1
              },
              {
                "start": "SYD",
                "end": "DXB",
                "label": "",
                "properties": {},
                "directed": false,
                "color": "#15AFAC",
                "thickness_factor": 1
              },
              {
                "start": "NBO",
                "end": "JNB",
                "label": "",
                "properties": {},
                "directed": false,
                "color": "#15AFAC",
                "thickness_factor": 1
              },
              {
                "start": "NBO",
                "end": "DXB",
                "label": "",
                "properties": {},
                "directed": false,
                "color": "#15AFAC",
                "thickness_factor": 1
              },
              {
                "start": "ATL",
                "end": "JFK",
                "label": "",
                "properties": {},
                "directed": false,
                "color": "#15AFAC",
                "thickness_factor": 1
              },
              {
                "start": "LAX",
                "end": "ATL",
                "label": "",
                "properties": {},
                "directed": false,
                "color": "#15AFAC",
                "thickness_factor": 1
              },
              {
                "start": "ATL",
                "end": "LHR",
                "label": "",
                "properties": {},
                "directed": false,
                "color": "#15AFAC",
                "thickness_factor": 1
              },
              {
                "start": "ATL",
                "end": "LIM",
                "label": "",
                "properties": {},
                "directed": false,
                "color": "#15AFAC",
                "thickness_factor": 1
              },
              {
                "start": "SCL",
                "end": "LIM",
                "label": "",
                "properties": {},
                "directed": false,
                "color": "#15AFAC",
                "thickness_factor": 1
              },
              {
                "start": "EZE",
                "end": "SCL",
                "label": "",
                "properties": {},
                "directed": false,
                "color": "#15AFAC",
                "thickness_factor": 1
              },
              {
                "start": "SCL",
                "end": "GRU",
                "label": "",
                "properties": {},
                "directed": false,
                "color": "#15AFAC",
                "thickness_factor": 1
              },
              {
                "start": "GIG",
                "end": "EZE",
                "label": "",
                "properties": {},
                "directed": false,
                "color": "#15AFAC",
                "thickness_factor": 1
              },
              {
                "start": "GIG",
                "end": "GRU",
                "label": "",
                "properties": {},
                "directed": false,
                "color": "#15AFAC",
                "thickness_factor": 1
              },
              {
                "start": "BSB",
                "end": "GIG",
                "label": "",
                "properties": {},
                "directed": false,
                "color": "#15AFAC",
                "thickness_factor": 1
              },
              {
                "start": "SCL",
                "end": "BSB",
                "label": "",
                "properties": {},
                "directed": false,
                "color": "#15AFAC",
                "thickness_factor": 1
              },
              {
                "start": "LIM",
                "end": "BSB",
                "label": "",
                "properties": {},
                "directed": false,
                "color": "#15AFAC",
                "thickness_factor": 1
              },
              {
                "start": "BOG",
                "end": "BSB",
                "label": "",
                "properties": {},
                "directed": false,
                "color": "#15AFAC",
                "thickness_factor": 1
              },
              {
                "start": "CCS",
                "end": "BSB",
                "label": "",
                "properties": {},
                "directed": false,
                "color": "#15AFAC",
                "thickness_factor": 1
              },
              {
                "start": "BOG",
                "end": "GUA",
                "label": "",
                "properties": {},
                "directed": false,
                "color": "#15AFAC",
                "thickness_factor": 1
              },
              {
                "start": "CCS",
                "end": "MIA",
                "label": "",
                "properties": {},
                "directed": false,
                "color": "#15AFAC",
                "thickness_factor": 1
              },
              {
                "start": "GUA",
                "end": "MIA",
                "label": "",
                "properties": {},
                "directed": false,
                "color": "#15AFAC",
                "thickness_factor": 1
              },
              {
                "start": "GUA",
                "end": "MEX",
                "label": "",
                "properties": {},
                "directed": false,
                "color": "#15AFAC",
                "thickness_factor": 1
              },
              {
                "start": "MEX",
                "end": "LAX",
                "label": "",
                "properties": {},
                "directed": false,
                "color": "#15AFAC",
                "thickness_factor": 1
              },
              {
                "start": "MEX",
                "end": "LAX",
                "label": "",
                "properties": {},
                "directed": false,
                "color": "#15AFAC",
                "thickness_factor": 1
              },
              {
                "start": "LAX",
                "end": "SFO",
                "label": "",
                "properties": {},
                "directed": false,
                "color": "#15AFAC",
                "thickness_factor": 1
              },
              {
                "start": "SFO",
                "end": "YVR",
                "label": "",
                "properties": {},
                "directed": false,
                "color": "#15AFAC",
                "thickness_factor": 1
              },
              {
                "start": "LAX",
                "end": "LAS",
                "label": "",
                "properties": {},
                "directed": false,
                "color": "#15AFAC",
                "thickness_factor": 1
              },
              {
                "start": "LAX",
                "end": "DFW",
                "label": "",
                "properties": {},
                "directed": false,
                "color": "#15AFAC",
                "thickness_factor": 1
              },
              {
                "start": "LAX",
                "end": "ORD",
                "label": "",
                "properties": {},
                "directed": false,
                "color": "#15AFAC",
                "thickness_factor": 1
              },
              {
                "start": "SFO",
                "end": "LAS",
                "label": "",
                "properties": {},
                "directed": false,
                "color": "#15AFAC",
                "thickness_factor": 1
              },
              {
                "start": "DFW",
                "end": "ATL",
                "label": "",
                "properties": {},
                "directed": false,
                "color": "#15AFAC",
                "thickness_factor": 1
              },
              {
                "start": "ATL",
                "end": "YYZ",
                "label": "",
                "properties": {},
                "directed": false,
                "color": "#15AFAC",
                "thickness_factor": 1
              },
              {
                "start": "ORD",
                "end": "YYZ",
                "label": "",
                "properties": {},
                "directed": false,
                "color": "#15AFAC",
                "thickness_factor": 1
              },
              {
                "start": "YYZ",
                "end": "YUL",
                "label": "",
                "properties": {},
                "directed": false,
                "color": "#15AFAC",
                "thickness_factor": 1
              },
              {
                "start": "YYZ",
                "end": "JFK",
                "label": "",
                "properties": {},
                "directed": false,
                "color": "#15AFAC",
                "thickness_factor": 1
              },
              {
                "start": "YUL",
                "end": "JFK",
                "label": "",
                "properties": {},
                "directed": false,
                "color": "#15AFAC",
                "thickness_factor": 1
              },
              {
                "start": "JNB",
                "end": "CPT",
                "label": "",
                "properties": {},
                "directed": false,
                "color": "#15AFAC",
                "thickness_factor": 1
              },
              {
                "start": "LOS",
                "end": "DKR",
                "label": "",
                "properties": {},
                "directed": false,
                "color": "#15AFAC",
                "thickness_factor": 1
              },
              {
                "start": "NBO",
                "end": "LOS",
                "label": "",
                "properties": {},
                "directed": false,
                "color": "#15AFAC",
                "thickness_factor": 1
              },
              {
                "start": "DKR",
                "end": "CMN",
                "label": "",
                "properties": {},
                "directed": false,
                "color": "#15AFAC",
                "thickness_factor": 1
              },
              {
                "start": "DKR",
                "end": "CAI",
                "label": "",
                "properties": {},
                "directed": false,
                "color": "#15AFAC",
                "thickness_factor": 1
              },
              {
                "start": "NBO",
                "end": "CAI",
                "label": "",
                "properties": {},
                "directed": false,
                "color": "#15AFAC",
                "thickness_factor": 1
              },
              {
                "start": "DXB",
                "end": "CAI",
                "label": "",
                "properties": {},
                "directed": false,
                "color": "#15AFAC",
                "thickness_factor": 1
              },
              {
                "start": "IKA",
                "end": "DXB",
                "label": "",
                "properties": {},
                "directed": false,
                "color": "#15AFAC",
                "thickness_factor": 1
              },
              {
                "start": "IST",
                "end": "IKA",
                "label": "",
                "properties": {},
                "directed": false,
                "color": "#15AFAC",
                "thickness_factor": 1
              },
              {
                "start": "TLV",
                "end": "ATH",
                "label": "",
                "properties": {},
                "directed": false,
                "color": "#15AFAC",
                "thickness_factor": 1
              },
              {
                "start": "CAI",
                "end": "TLV",
                "label": "",
                "properties": {},
                "directed": false,
                "color": "#15AFAC",
                "thickness_factor": 1
              },
              {
                "start": "ATH",
                "end": "IST",
                "label": "",
                "properties": {},
                "directed": false,
                "color": "#15AFAC",
                "thickness_factor": 1
              },
              {
                "start": "FCO",
                "end": "ATH",
                "label": "",
                "properties": {},
                "directed": false,
                "color": "#15AFAC",
                "thickness_factor": 1
              },
              {
                "start": "LIS",
                "end": "LHR",
                "label": "",
                "properties": {},
                "directed": false,
                "color": "#15AFAC",
                "thickness_factor": 1
              },
              {
                "start": "LIS",
                "end": "MAD",
                "label": "",
                "properties": {},
                "directed": false,
                "color": "#15AFAC",
                "thickness_factor": 1
              },
              {
                "start": "MAD",
                "end": "BCN",
                "label": "",
                "properties": {},
                "directed": false,
                "color": "#15AFAC",
                "thickness_factor": 1
              },
              {
                "start": "CDG",
                "end": "LHR",
                "label": "",
                "properties": {},
                "directed": false,
                "color": "#15AFAC",
                "thickness_factor": 1
              },
              {
                "start": "DUB",
                "end": "LHR",
                "label": "",
                "properties": {},
                "directed": false,
                "color": "#15AFAC",
                "thickness_factor": 1
              },
              {
                "start": "EDI",
                "end": "LHR",
                "label": "",
                "properties": {},
                "directed": false,
                "color": "#15AFAC",
                "thickness_factor": 1
              },
              {
                "start": "CDG",
                "end": "BCN",
                "label": "",
                "properties": {},
                "directed": false,
                "color": "#15AFAC",
                "thickness_factor": 1
              },
              {
                "start": "BCN",
                "end": "FCO",
                "label": "",
                "properties": {},
                "directed": false,
                "color": "#15AFAC",
                "thickness_factor": 1
              },
              {
                "start": "VIE",
                "end": "IST",
                "label": "",
                "properties": {},
                "directed": false,
                "color": "#15AFAC",
                "thickness_factor": 1
              },
              {
                "start": "VIE",
                "end": "SVO",
                "label": "",
                "properties": {},
                "directed": false,
                "color": "#15AFAC",
                "thickness_factor": 1
              },
              {
                "start": "CMN",
                "end": "LIS",
                "label": "",
                "properties": {},
                "directed": false,
                "color": "#15AFAC",
                "thickness_factor": 1
              },
              {
                "start": "MAD",
                "end": "CMN",
                "label": "",
                "properties": {},
                "directed": false,
                "color": "#15AFAC",
                "thickness_factor": 1
              },
              {
                "start": "FRA",
                "end": "CPH",
                "label": "",
                "properties": {},
                "directed": false,
                "color": "#15AFAC",
                "thickness_factor": 1
              },
              {
                "start": "LHR",
                "end": "CPH",
                "label": "",
                "properties": {},
                "directed": false,
                "color": "#15AFAC",
                "thickness_factor": 1
              },
              {
                "start": "CPH",
                "end": "OSL",
                "label": "",
                "properties": {},
                "directed": false,
                "color": "#15AFAC",
                "thickness_factor": 1
              },
              {
                "start": "CPH",
                "end": "ARN",
                "label": "",
                "properties": {},
                "directed": false,
                "color": "#15AFAC",
                "thickness_factor": 1
              },
              {
                "start": "ARN",
                "end": "HEL",
                "label": "",
                "properties": {},
                "directed": false,
                "color": "#15AFAC",
                "thickness_factor": 1
              },
              {
                "start": "HEL",
                "end": "SVO",
                "label": "",
                "properties": {},
                "directed": false,
                "color": "#15AFAC",
                "thickness_factor": 1
              },
              {
                "start": "ULN",
                "end": "PVG",
                "label": "",
                "properties": {},
                "directed": false,
                "color": "#15AFAC",
                "thickness_factor": 1
              },
              {
                "start": "CTU",
                "end": "PVG",
                "label": "",
                "properties": {},
                "directed": false,
                "color": "#15AFAC",
                "thickness_factor": 1
              },
              {
                "start": "PVG",
                "end": "TPE",
                "label": "",
                "properties": {},
                "directed": false,
                "color": "#15AFAC",
                "thickness_factor": 1
              },
              {
                "start": "CTU",
                "end": "HKG",
                "label": "",
                "properties": {},
                "directed": false,
                "color": "#15AFAC",
                "thickness_factor": 1
              },
              {
                "start": "TPE",
                "end": "HKG",
                "label": "",
                "properties": {},
                "directed": false,
                "color": "#15AFAC",
                "thickness_factor": 1
              },
              {
                "start": "HKG",
                "end": "MNL",
                "label": "",
                "properties": {},
                "directed": false,
                "color": "#15AFAC",
                "thickness_factor": 1
              },
              {
                "start": "BKK",
                "end": "HKG",
                "label": "",
                "properties": {},
                "directed": false,
                "color": "#15AFAC",
                "thickness_factor": 1
              },
              {
                "start": "SIN",
                "end": "KUL",
                "label": "",
                "properties": {},
                "directed": false,
                "color": "#15AFAC",
                "thickness_factor": 1
              },
              {
                "start": "SIN",
                "end": "BKK",
                "label": "",
                "properties": {},
                "directed": false,
                "color": "#15AFAC",
                "thickness_factor": 1
              },
              {
                "start": "CGK",
                "end": "SIN",
                "label": "",
                "properties": {},
                "directed": false,
                "color": "#15AFAC",
                "thickness_factor": 1
              },
              {
                "start": "MNL",
                "end": "SIN",
                "label": "",
                "properties": {},
                "directed": false,
                "color": "#15AFAC",
                "thickness_factor": 1
              },
              {
                "start": "SIN",
                "end": "SYD",
                "label": "",
                "properties": {},
                "directed": false,
                "color": "#15AFAC",
                "thickness_factor": 1
              },
              {
                "start": "BNE",
                "end": "SYD",
                "label": "",
                "properties": {},
                "directed": false,
                "color": "#15AFAC",
                "thickness_factor": 1
              },
              {
                "start": "SYD",
                "end": "MEL",
                "label": "",
                "properties": {},
                "directed": false,
                "color": "#15AFAC",
                "thickness_factor": 1
              },
              {
                "start": "NAN",
                "end": "SYD",
                "label": "",
                "properties": {},
                "directed": false,
                "color": "#15AFAC",
                "thickness_factor": 1
              },
              {
                "start": "AKL",
                "end": "SYD",
                "label": "",
                "properties": {},
                "directed": false,
                "color": "#15AFAC",
                "thickness_factor": 1
              },
              {
                "start": "NAN",
                "end": "AKL",
                "label": "",
                "properties": {},
                "directed": false,
                "color": "#15AFAC",
                "thickness_factor": 1
              },
              {
                "start": "RKV",
                "end": "LHR",
                "label": "",
                "properties": {},
                "directed": false,
                "color": "#15AFAC",
                "thickness_factor": 1
              },
              {
                "start": "BCN",
                "end": "CDG",
                "label": "",
                "properties": {},
                "directed": false,
                "color": "#15AFAC",
                "thickness_factor": 1
              },
              {
                "start": "BCN",
                "end": "FRA",
                "label": "",
                "properties": {},
                "directed": false,
                "color": "#15AFAC",
                "thickness_factor": 1
              },
              {
                "start": "FCO",
                "end": "FRA",
                "label": "",
                "properties": {},
                "directed": false,
                "color": "#15AFAC",
                "thickness_factor": 1
              },
              {
                "start": "BOG",
                "end": "MEX",
                "label": "",
                "properties": {},
                "directed": false,
                "color": "#15AFAC",
                "thickness_factor": 1
              },
              {
                "start": "BOG",
                "end": "GRU",
                "label": "",
                "properties": {},
                "directed": false,
                "color": "#15AFAC",
                "thickness_factor": 1
              },
              {
                "start": "ATL",
                "end": "MIA",
                "label": "",
                "properties": {},
                "directed": false,
                "color": "#15AFAC",
                "thickness_factor": 1
              },
              {
                "start": "FRA",
                "end": "IST",
                "label": "",
                "properties": {},
                "directed": false,
                "color": "#15AFAC",
                "thickness_factor": 1
              },
              {
                "start": "IST",
                "end": "DEL",
                "label": "",
                "properties": {},
                "directed": false,
                "color": "#15AFAC",
                "thickness_factor": 1
              },
              {
                "start": "PVG",
                "end": "BKK",
                "label": "",
                "properties": {},
                "directed": false,
                "color": "#15AFAC",
                "thickness_factor": 1
              },
              {
                "start": "DEL",
                "end": "BKK",
                "label": "",
                "properties": {},
                "directed": false,
                "color": "#15AFAC",
                "thickness_factor": 1
              }
            ],
            "_graph_layout": {},
            "_highlight": [],
            "_license": {},
            "_model_module": "yfiles-jupyter-graphs",
            "_model_module_version": "^1.8.1",
            "_model_name": "GraphModel",
            "_neighborhood": {},
            "_nodes": [
              {
                "id": "LAX",
                "properties": {
                  "label": "Los Angeles",
                  "passengers": 65000000,
                  "country": "USA"
                },
                "coordinates": [
                  33.942536,
                  -118.408075
                ],
                "styles": {},
                "label": "Los Angeles",
                "scale_factor": 1,
                "size": [
                  55,
                  55
                ],
                "position": [
                  0,
                  0
                ],
                "parentId": "USA",
                "color": "#15AFAC",
                "type": "#15AFAC"
              },
              {
                "id": "GIG",
                "properties": {
                  "label": "Rio de Janeiro",
                  "passengers": 5000000,
                  "country": "Brazil"
                },
                "coordinates": [
                  -22.808903,
                  -43.243647
                ],
                "styles": {},
                "label": "Rio de Janeiro",
                "scale_factor": 1,
                "size": [
                  55,
                  55
                ],
                "position": [
                  0,
                  0
                ],
                "parentId": "Brazil",
                "color": "#15AFAC",
                "type": "#15AFAC"
              },
              {
                "id": "LIM",
                "properties": {
                  "label": "Lima",
                  "passengers": 18000000,
                  "country": "Peru"
                },
                "coordinates": [
                  -12.021889,
                  -77.114319
                ],
                "styles": {},
                "label": "Lima",
                "scale_factor": 1,
                "size": [
                  55,
                  55
                ],
                "position": [
                  0,
                  0
                ],
                "parentId": "Peru",
                "color": "#15AFAC",
                "type": "#15AFAC"
              },
              {
                "id": "LHR",
                "properties": {
                  "label": "London",
                  "passengers": 61000000,
                  "country": "UK"
                },
                "coordinates": [
                  51.4775,
                  -0.461389
                ],
                "styles": {},
                "label": "London",
                "scale_factor": 1,
                "size": [
                  55,
                  55
                ],
                "position": [
                  0,
                  0
                ],
                "parentId": "UK",
                "color": "#15AFAC",
                "type": "#15AFAC"
              },
              {
                "id": "FRA",
                "properties": {
                  "label": "Frankfurt",
                  "passengers": 48000000,
                  "country": "Germany"
                },
                "coordinates": [
                  50.033333,
                  8.570556
                ],
                "styles": {},
                "label": "Frankfurt",
                "scale_factor": 1,
                "size": [
                  55,
                  55
                ],
                "position": [
                  0,
                  0
                ],
                "parentId": "Germany",
                "color": "#15AFAC",
                "type": "#15AFAC"
              },
              {
                "id": "SVO",
                "properties": {
                  "label": "Moscow",
                  "passengers": 49000000,
                  "country": "Russia"
                },
                "coordinates": [
                  55.972642,
                  37.414589
                ],
                "styles": {},
                "label": "Moscow",
                "scale_factor": 1,
                "size": [
                  55,
                  55
                ],
                "position": [
                  0,
                  0
                ],
                "parentId": "Russia",
                "color": "#15AFAC",
                "type": "#15AFAC"
              },
              {
                "id": "DEL",
                "properties": {
                  "label": "New Delhi",
                  "passengers": 39000000,
                  "country": "India"
                },
                "coordinates": [
                  28.5665,
                  77.103089
                ],
                "styles": {},
                "label": "New Delhi",
                "scale_factor": 1,
                "size": [
                  55,
                  55
                ],
                "position": [
                  0,
                  0
                ],
                "parentId": "India",
                "color": "#15AFAC",
                "type": "#15AFAC"
              },
              {
                "id": "PVG",
                "properties": {
                  "label": "Shanghai",
                  "passengers": 32000000,
                  "country": "China"
                },
                "coordinates": [
                  31.143378,
                  121.805214
                ],
                "styles": {},
                "label": "Shanghai",
                "scale_factor": 1,
                "size": [
                  55,
                  55
                ],
                "position": [
                  0,
                  0
                ],
                "parentId": "China",
                "color": "#15AFAC",
                "type": "#15AFAC"
              },
              {
                "id": "HKG",
                "properties": {
                  "label": "Hongkong",
                  "passengers": 1000000,
                  "country": "China"
                },
                "coordinates": [
                  22.308919,
                  113.914603
                ],
                "styles": {},
                "label": "Hongkong",
                "scale_factor": 1,
                "size": [
                  55,
                  55
                ],
                "position": [
                  0,
                  0
                ],
                "parentId": "China",
                "color": "#15AFAC",
                "type": "#15AFAC"
              },
              {
                "id": "NRT",
                "properties": {
                  "label": "Tokio",
                  "passengers": 15000000,
                  "country": "Japan"
                },
                "coordinates": [
                  35.764722,
                  140.386389
                ],
                "styles": {},
                "label": "Tokio",
                "scale_factor": 1,
                "size": [
                  55,
                  55
                ],
                "position": [
                  0,
                  0
                ],
                "parentId": "Japan",
                "color": "#15AFAC",
                "type": "#15AFAC"
              },
              {
                "id": "DXB",
                "properties": {
                  "label": "Dubai",
                  "passengers": 29000000,
                  "country": "UAE"
                },
                "coordinates": [
                  25.252778,
                  55.364444
                ],
                "styles": {},
                "label": "Dubai",
                "scale_factor": 1,
                "size": [
                  55,
                  55
                ],
                "position": [
                  0,
                  0
                ],
                "parentId": "UAE",
                "color": "#15AFAC",
                "type": "#15AFAC"
              },
              {
                "id": "DKR",
                "properties": {
                  "label": "Dakar",
                  "passengers": 2000000,
                  "country": "Senegal"
                },
                "coordinates": [
                  14.670833,
                  -17.072778
                ],
                "styles": {},
                "label": "Dakar",
                "scale_factor": 1,
                "size": [
                  55,
                  55
                ],
                "position": [
                  0,
                  0
                ],
                "parentId": "Senegal",
                "color": "#15AFAC",
                "type": "#15AFAC"
              },
              {
                "id": "JNB",
                "properties": {
                  "label": "Johannesburg",
                  "passengers": 9000000,
                  "country": "South Africa"
                },
                "coordinates": [
                  -26.133694,
                  28.242317
                ],
                "styles": {},
                "label": "Johannesburg",
                "scale_factor": 1,
                "size": [
                  55,
                  55
                ],
                "position": [
                  0,
                  0
                ],
                "parentId": "South Africa",
                "color": "#15AFAC",
                "type": "#15AFAC"
              },
              {
                "id": "SYD",
                "properties": {
                  "label": "Sydney",
                  "passengers": 44000000,
                  "country": "Australia"
                },
                "coordinates": [
                  -33.946111,
                  151.177222
                ],
                "styles": {},
                "label": "Sydney",
                "scale_factor": 1,
                "size": [
                  55,
                  55
                ],
                "position": [
                  0,
                  0
                ],
                "parentId": "Australia",
                "color": "#15AFAC",
                "type": "#15AFAC"
              },
              {
                "id": "NBO",
                "properties": {
                  "label": "Nairobi",
                  "passengers": 900000,
                  "country": "Kenya"
                },
                "coordinates": [
                  -1.319167,
                  36.927778
                ],
                "styles": {},
                "label": "Nairobi",
                "scale_factor": 1,
                "size": [
                  55,
                  55
                ],
                "position": [
                  0,
                  0
                ],
                "parentId": "Kenya",
                "color": "#15AFAC",
                "type": "#15AFAC"
              },
              {
                "id": "ATL",
                "properties": {
                  "label": "Atlanta",
                  "passengers": 93000000,
                  "country": "USA"
                },
                "coordinates": [
                  33.639167,
                  -84.427778
                ],
                "styles": {},
                "label": "Atlanta",
                "scale_factor": 1,
                "size": [
                  55,
                  55
                ],
                "position": [
                  0,
                  0
                ],
                "parentId": "USA",
                "color": "#15AFAC",
                "type": "#15AFAC"
              },
              {
                "id": "JFK",
                "properties": {
                  "label": "New York City",
                  "passengers": 55000000,
                  "country": "USA"
                },
                "coordinates": [
                  40.63975,
                  -73.778925
                ],
                "styles": {},
                "label": "New York City",
                "scale_factor": 1,
                "size": [
                  55,
                  55
                ],
                "position": [
                  0,
                  0
                ],
                "parentId": "USA",
                "color": "#15AFAC",
                "type": "#15AFAC"
              },
              {
                "id": "CAI",
                "properties": {
                  "label": "Cairo",
                  "passengers": 14000000,
                  "country": "Egypt"
                },
                "coordinates": [
                  30.121944,
                  31.405556
                ],
                "styles": {},
                "label": "Cairo",
                "scale_factor": 1,
                "size": [
                  55,
                  55
                ],
                "position": [
                  0,
                  0
                ],
                "parentId": "Egypt",
                "color": "#15AFAC",
                "type": "#15AFAC"
              },
              {
                "id": "CMN",
                "properties": {
                  "label": "Casablanca",
                  "passengers": 7000000,
                  "country": "Morocco"
                },
                "coordinates": [
                  33.367467,
                  -7.589967
                ],
                "styles": {},
                "label": "Casablanca",
                "scale_factor": 1,
                "size": [
                  55,
                  55
                ],
                "position": [
                  0,
                  0
                ],
                "parentId": "Morocco",
                "color": "#15AFAC",
                "type": "#15AFAC"
              },
              {
                "id": "LOS",
                "properties": {
                  "label": "Lagos",
                  "passengers": 5000000,
                  "country": "Nigeria"
                },
                "coordinates": [
                  6.577222,
                  3.321111
                ],
                "styles": {},
                "label": "Lagos",
                "scale_factor": 1,
                "size": [
                  55,
                  55
                ],
                "position": [
                  0,
                  0
                ],
                "parentId": "Nigeria",
                "color": "#15AFAC",
                "type": "#15AFAC"
              },
              {
                "id": "CPT",
                "properties": {
                  "label": "Cape Town",
                  "passengers": 5000000,
                  "country": "South Africa"
                },
                "coordinates": [
                  -33.969444,
                  18.597222
                ],
                "styles": {},
                "label": "Cape Town",
                "scale_factor": 1,
                "size": [
                  55,
                  55
                ],
                "position": [
                  0,
                  0
                ],
                "parentId": "South Africa",
                "color": "#15AFAC",
                "type": "#15AFAC"
              },
              {
                "id": "CTU",
                "properties": {
                  "label": "Chengdu",
                  "passengers": 40000000,
                  "country": "China"
                },
                "coordinates": [
                  30.578333,
                  103.946944
                ],
                "styles": {},
                "label": "Chengdu",
                "scale_factor": 1,
                "size": [
                  55,
                  55
                ],
                "position": [
                  0,
                  0
                ],
                "parentId": "China",
                "color": "#15AFAC",
                "type": "#15AFAC"
              },
              {
                "id": "CGK",
                "properties": {
                  "label": "Jakarta",
                  "passengers": 54000000,
                  "country": "Indonesia"
                },
                "coordinates": [
                  -6.125567,
                  106.655897
                ],
                "styles": {},
                "label": "Jakarta",
                "scale_factor": 1,
                "size": [
                  55,
                  55
                ],
                "position": [
                  0,
                  0
                ],
                "parentId": "Indonesia",
                "color": "#15AFAC",
                "type": "#15AFAC"
              },
              {
                "id": "IKA",
                "properties": {
                  "label": "Teheran",
                  "passengers": 8000000,
                  "country": "Iran"
                },
                "coordinates": [
                  35.416111,
                  51.152222
                ],
                "styles": {},
                "label": "Teheran",
                "scale_factor": 1,
                "size": [
                  55,
                  55
                ],
                "position": [
                  0,
                  0
                ],
                "parentId": "Iran",
                "color": "#15AFAC",
                "type": "#15AFAC"
              },
              {
                "id": "TLV",
                "properties": {
                  "label": "Tel Aviv",
                  "passengers": 20000000,
                  "country": "Israel"
                },
                "coordinates": [
                  32.011389,
                  34.886667
                ],
                "styles": {},
                "label": "Tel Aviv",
                "scale_factor": 1,
                "size": [
                  55,
                  55
                ],
                "position": [
                  0,
                  0
                ],
                "parentId": "Israel",
                "color": "#15AFAC",
                "type": "#15AFAC"
              },
              {
                "id": "KUL",
                "properties": {
                  "label": "Kuala Lumpur",
                  "passengers": 25000000,
                  "country": "Malaysia"
                },
                "coordinates": [
                  2.745578,
                  101.709917
                ],
                "styles": {},
                "label": "Kuala Lumpur",
                "scale_factor": 1,
                "size": [
                  55,
                  55
                ],
                "position": [
                  0,
                  0
                ],
                "parentId": "Malaysia",
                "color": "#15AFAC",
                "type": "#15AFAC"
              },
              {
                "id": "MNL",
                "properties": {
                  "label": "Manila",
                  "passengers": 8000000,
                  "country": "Philippines"
                },
                "coordinates": [
                  14.508647,
                  121.019581
                ],
                "styles": {},
                "label": "Manila",
                "scale_factor": 1,
                "size": [
                  55,
                  55
                ],
                "position": [
                  0,
                  0
                ],
                "parentId": "Philippines",
                "color": "#15AFAC",
                "type": "#15AFAC"
              },
              {
                "id": "SIN",
                "properties": {
                  "label": "Singapur",
                  "passengers": 32000000,
                  "country": "Singapore"
                },
                "coordinates": [
                  1.350189,
                  103.994433
                ],
                "styles": {},
                "label": "Singapur",
                "scale_factor": 1,
                "size": [
                  55,
                  55
                ],
                "position": [
                  0,
                  0
                ],
                "parentId": "Singapore",
                "color": "#15AFAC",
                "type": "#15AFAC"
              },
              {
                "id": "TPE",
                "properties": {
                  "label": "Taipeh",
                  "passengers": 800000,
                  "country": "Taiwan"
                },
                "coordinates": [
                  25.077732,
                  121.232822
                ],
                "styles": {},
                "label": "Taipeh",
                "scale_factor": 1,
                "size": [
                  55,
                  55
                ],
                "position": [
                  0,
                  0
                ],
                "parentId": "Taiwan",
                "color": "#15AFAC",
                "type": "#15AFAC"
              },
              {
                "id": "BKK",
                "properties": {
                  "label": "Bangkok",
                  "passengers": 65000000,
                  "country": "Thailand"
                },
                "coordinates": [
                  13.681108,
                  100.747283
                ],
                "styles": {},
                "label": "Bangkok",
                "scale_factor": 1,
                "size": [
                  55,
                  55
                ],
                "position": [
                  0,
                  0
                ],
                "parentId": "Thailand",
                "color": "#15AFAC",
                "type": "#15AFAC"
              },
              {
                "id": "IST",
                "properties": {
                  "label": "Istanbul",
                  "passengers": 64000000,
                  "country": "Turkey"
                },
                "coordinates": [
                  40.976922,
                  28.814606
                ],
                "styles": {},
                "label": "Istanbul",
                "scale_factor": 1,
                "size": [
                  55,
                  55
                ],
                "position": [
                  0,
                  0
                ],
                "parentId": "Turkey",
                "color": "#15AFAC",
                "type": "#15AFAC"
              },
              {
                "id": "ULN",
                "properties": {
                  "label": "Ulaanbaatar",
                  "passengers": 1000000,
                  "country": "Mongolia"
                },
                "coordinates": [
                  47.843056,
                  106.766639
                ],
                "styles": {},
                "label": "Ulaanbaatar",
                "scale_factor": 1,
                "size": [
                  55,
                  55
                ],
                "position": [
                  0,
                  0
                ],
                "parentId": "Mongolia",
                "color": "#15AFAC",
                "type": "#15AFAC"
              },
              {
                "id": "MEL",
                "properties": {
                  "label": "Melbourne",
                  "passengers": 12000000,
                  "country": "Australia"
                },
                "coordinates": [
                  -37.673333,
                  144.843333
                ],
                "styles": {},
                "label": "Melbourne",
                "scale_factor": 1,
                "size": [
                  55,
                  55
                ],
                "position": [
                  0,
                  0
                ],
                "parentId": "Australia",
                "color": "#15AFAC",
                "type": "#15AFAC"
              },
              {
                "id": "BNE",
                "properties": {
                  "label": "Brisbane",
                  "passengers": 23000000,
                  "country": "Australia"
                },
                "coordinates": [
                  -27.383333,
                  153.118056
                ],
                "styles": {},
                "label": "Brisbane",
                "scale_factor": 1,
                "size": [
                  55,
                  55
                ],
                "position": [
                  0,
                  0
                ],
                "parentId": "Australia",
                "color": "#15AFAC",
                "type": "#15AFAC"
              },
              {
                "id": "NAN",
                "properties": {
                  "label": "Nadi",
                  "passengers": 2000000,
                  "country": "Fiji"
                },
                "coordinates": [
                  -17.755392,
                  177.443378
                ],
                "styles": {},
                "label": "Nadi",
                "scale_factor": 1,
                "size": [
                  55,
                  55
                ],
                "position": [
                  0,
                  0
                ],
                "parentId": "Fiji",
                "color": "#15AFAC",
                "type": "#15AFAC"
              },
              {
                "id": "AKL",
                "properties": {
                  "label": "Auckland",
                  "passengers": 21000000,
                  "country": "New Zealand"
                },
                "coordinates": [
                  -37.008056,
                  174.791667
                ],
                "styles": {},
                "label": "Auckland",
                "scale_factor": 1,
                "size": [
                  55,
                  55
                ],
                "position": [
                  0,
                  0
                ],
                "parentId": "New Zealand",
                "color": "#15AFAC",
                "type": "#15AFAC"
              },
              {
                "id": "CDG",
                "properties": {
                  "label": "Paris",
                  "passengers": 57000000,
                  "country": "France"
                },
                "coordinates": [
                  49.009722,
                  2.547778
                ],
                "styles": {},
                "label": "Paris",
                "scale_factor": 1,
                "size": [
                  55,
                  55
                ],
                "position": [
                  0,
                  0
                ],
                "parentId": "France",
                "color": "#15AFAC",
                "type": "#15AFAC"
              },
              {
                "id": "MAD",
                "properties": {
                  "label": "Madrid",
                  "passengers": 50000000,
                  "country": "Spain"
                },
                "coordinates": [
                  40.4675,
                  -3.551944
                ],
                "styles": {},
                "label": "Madrid",
                "scale_factor": 1,
                "size": [
                  55,
                  55
                ],
                "position": [
                  0,
                  0
                ],
                "parentId": "Spain",
                "color": "#15AFAC",
                "type": "#15AFAC"
              },
              {
                "id": "BCN",
                "properties": {
                  "label": "Barcelona",
                  "passengers": 41000000,
                  "country": "Spain"
                },
                "coordinates": [
                  41.297078,
                  2.078464
                ],
                "styles": {},
                "label": "Barcelona",
                "scale_factor": 1,
                "size": [
                  55,
                  55
                ],
                "position": [
                  0,
                  0
                ],
                "parentId": "Spain",
                "color": "#15AFAC",
                "type": "#15AFAC"
              },
              {
                "id": "FCO",
                "properties": {
                  "label": "Rome",
                  "passengers": 29000000,
                  "country": "Italy"
                },
                "coordinates": [
                  41.804444,
                  12.250833
                ],
                "styles": {},
                "label": "Rome",
                "scale_factor": 1,
                "size": [
                  55,
                  55
                ],
                "position": [
                  0,
                  0
                ],
                "parentId": "Italy",
                "color": "#15AFAC",
                "type": "#15AFAC"
              },
              {
                "id": "CPH",
                "properties": {
                  "label": "Copenhagen",
                  "passengers": 30000000,
                  "country": "Denmark"
                },
                "coordinates": [
                  55.617917,
                  12.655972
                ],
                "styles": {},
                "label": "Copenhagen",
                "scale_factor": 1,
                "size": [
                  55,
                  55
                ],
                "position": [
                  0,
                  0
                ],
                "parentId": "Denmark",
                "color": "#15AFAC",
                "type": "#15AFAC"
              },
              {
                "id": "HEL",
                "properties": {
                  "label": "Helsinki",
                  "passengers": 5000000,
                  "country": "Finland"
                },
                "coordinates": [
                  60.317222,
                  24.963333
                ],
                "styles": {},
                "label": "Helsinki",
                "scale_factor": 1,
                "size": [
                  55,
                  55
                ],
                "position": [
                  0,
                  0
                ],
                "parentId": "Finland",
                "color": "#15AFAC",
                "type": "#15AFAC"
              },
              {
                "id": "ATH",
                "properties": {
                  "label": "Athens",
                  "passengers": 22000000,
                  "country": "Greece"
                },
                "coordinates": [
                  37.936358,
                  23.944467
                ],
                "styles": {},
                "label": "Athens",
                "scale_factor": 1,
                "size": [
                  55,
                  55
                ],
                "position": [
                  0,
                  0
                ],
                "parentId": "Greece",
                "color": "#15AFAC",
                "type": "#15AFAC"
              },
              {
                "id": "DUB",
                "properties": {
                  "label": "Dublin",
                  "passengers": 32000000,
                  "country": "Ireland"
                },
                "coordinates": [
                  53.421333,
                  -6.270075
                ],
                "styles": {},
                "label": "Dublin",
                "scale_factor": 1,
                "size": [
                  55,
                  55
                ],
                "position": [
                  0,
                  0
                ],
                "parentId": "Ireland",
                "color": "#15AFAC",
                "type": "#15AFAC"
              },
              {
                "id": "RKV",
                "properties": {
                  "label": "Reykjavik",
                  "passengers": 400000,
                  "country": "Iceland"
                },
                "coordinates": [
                  64.13,
                  -21.940556
                ],
                "styles": {},
                "label": "Reykjavik",
                "scale_factor": 1,
                "size": [
                  55,
                  55
                ],
                "position": [
                  0,
                  0
                ],
                "parentId": "Iceland",
                "color": "#15AFAC",
                "type": "#15AFAC"
              },
              {
                "id": "OSL",
                "properties": {
                  "label": "Oslo",
                  "passengers": 9000000,
                  "country": "Norway"
                },
                "coordinates": [
                  60.193917,
                  11.100361
                ],
                "styles": {},
                "label": "Oslo",
                "scale_factor": 1,
                "size": [
                  55,
                  55
                ],
                "position": [
                  0,
                  0
                ],
                "parentId": "Norway",
                "color": "#15AFAC",
                "type": "#15AFAC"
              },
              {
                "id": "VIE",
                "properties": {
                  "label": "Vienna",
                  "passengers": 10000000,
                  "country": "Austria"
                },
                "coordinates": [
                  48.110833,
                  16.570833
                ],
                "styles": {},
                "label": "Vienna",
                "scale_factor": 1,
                "size": [
                  55,
                  55
                ],
                "position": [
                  0,
                  0
                ],
                "parentId": "Austria",
                "color": "#15AFAC",
                "type": "#15AFAC"
              },
              {
                "id": "LIS",
                "properties": {
                  "label": "Lisbon",
                  "passengers": 28000000,
                  "country": "Portugal"
                },
                "coordinates": [
                  38.774167,
                  -9.134167
                ],
                "styles": {},
                "label": "Lisbon",
                "scale_factor": 1,
                "size": [
                  55,
                  55
                ],
                "position": [
                  0,
                  0
                ],
                "parentId": "Portugal",
                "color": "#15AFAC",
                "type": "#15AFAC"
              },
              {
                "id": "ARN",
                "properties": {
                  "label": "Stockholm",
                  "passengers": 7000000,
                  "country": "Sweden"
                },
                "coordinates": [
                  59.651944,
                  17.918611
                ],
                "styles": {},
                "label": "Stockholm",
                "scale_factor": 1,
                "size": [
                  55,
                  55
                ],
                "position": [
                  0,
                  0
                ],
                "parentId": "Sweden",
                "color": "#15AFAC",
                "type": "#15AFAC"
              },
              {
                "id": "EDI",
                "properties": {
                  "label": "Edinburgh",
                  "passengers": 14000000,
                  "country": "UK"
                },
                "coordinates": [
                  55.95,
                  -3.3725
                ],
                "styles": {},
                "label": "Edinburgh",
                "scale_factor": 1,
                "size": [
                  55,
                  55
                ],
                "position": [
                  0,
                  0
                ],
                "parentId": "UK",
                "color": "#15AFAC",
                "type": "#15AFAC"
              },
              {
                "id": "ORD",
                "properties": {
                  "label": "Chicago",
                  "passengers": 54000000,
                  "country": "USA"
                },
                "coordinates": [
                  41.978603,
                  -87.904842
                ],
                "styles": {},
                "label": "Chicago",
                "scale_factor": 1,
                "size": [
                  55,
                  55
                ],
                "position": [
                  0,
                  0
                ],
                "parentId": "USA",
                "color": "#15AFAC",
                "type": "#15AFAC"
              },
              {
                "id": "DFW",
                "properties": {
                  "label": "Dallas",
                  "passengers": 73000000,
                  "country": "USA"
                },
                "coordinates": [
                  32.896828,
                  -97.037997
                ],
                "styles": {},
                "label": "Dallas",
                "scale_factor": 1,
                "size": [
                  55,
                  55
                ],
                "position": [
                  0,
                  0
                ],
                "parentId": "USA",
                "color": "#15AFAC",
                "type": "#15AFAC"
              },
              {
                "id": "SFO",
                "properties": {
                  "label": "San Francisco",
                  "passengers": 42000000,
                  "country": "USA"
                },
                "coordinates": [
                  37.618972,
                  -122.374889
                ],
                "styles": {},
                "label": "San Francisco",
                "scale_factor": 1,
                "size": [
                  55,
                  55
                ],
                "position": [
                  0,
                  0
                ],
                "parentId": "USA",
                "color": "#15AFAC",
                "type": "#15AFAC"
              },
              {
                "id": "LAS",
                "properties": {
                  "label": "Las Vegas",
                  "passengers": 52000000,
                  "country": "USA"
                },
                "coordinates": [
                  36.080056,
                  -115.15225
                ],
                "styles": {},
                "label": "Las Vegas",
                "scale_factor": 1,
                "size": [
                  55,
                  55
                ],
                "position": [
                  0,
                  0
                ],
                "parentId": "USA",
                "color": "#15AFAC",
                "type": "#15AFAC"
              },
              {
                "id": "MIA",
                "properties": {
                  "label": "Miami",
                  "passengers": 50000000,
                  "country": "USA"
                },
                "coordinates": [
                  25.79325,
                  -80.290556
                ],
                "styles": {},
                "label": "Miami",
                "scale_factor": 1,
                "size": [
                  55,
                  55
                ],
                "position": [
                  0,
                  0
                ],
                "parentId": "USA",
                "color": "#15AFAC",
                "type": "#15AFAC"
              },
              {
                "id": "YYZ",
                "properties": {
                  "label": "Toronto",
                  "passengers": 12000000,
                  "country": "Canada"
                },
                "coordinates": [
                  43.677222,
                  -79.630556
                ],
                "styles": {},
                "label": "Toronto",
                "scale_factor": 1,
                "size": [
                  55,
                  55
                ],
                "position": [
                  0,
                  0
                ],
                "parentId": "Canada",
                "color": "#15AFAC",
                "type": "#15AFAC"
              },
              {
                "id": "YVR",
                "properties": {
                  "label": "Vancouver",
                  "passengers": 19000000,
                  "country": "Canada"
                },
                "coordinates": [
                  49.193889,
                  -123.184444
                ],
                "styles": {},
                "label": "Vancouver",
                "scale_factor": 1,
                "size": [
                  55,
                  55
                ],
                "position": [
                  0,
                  0
                ],
                "parentId": "Canada",
                "color": "#15AFAC",
                "type": "#15AFAC"
              },
              {
                "id": "YUL",
                "properties": {
                  "label": "Montreal",
                  "passengers": 15000000,
                  "country": "Canada"
                },
                "coordinates": [
                  45.47175,
                  -73.736569
                ],
                "styles": {},
                "label": "Montreal",
                "scale_factor": 1,
                "size": [
                  55,
                  55
                ],
                "position": [
                  0,
                  0
                ],
                "parentId": "Canada",
                "color": "#15AFAC",
                "type": "#15AFAC"
              },
              {
                "id": "MEX",
                "properties": {
                  "label": "Mexico-City",
                  "passengers": 46000000,
                  "country": "Mexico"
                },
                "coordinates": [
                  19.436303,
                  -99.072097
                ],
                "styles": {},
                "label": "Mexico-City",
                "scale_factor": 1,
                "size": [
                  55,
                  55
                ],
                "position": [
                  0,
                  0
                ],
                "parentId": "Mexico",
                "color": "#15AFAC",
                "type": "#15AFAC"
              },
              {
                "id": "GUA",
                "properties": {
                  "label": "Guatemala-City",
                  "passengers": 2000000,
                  "country": "Guatemala"
                },
                "coordinates": [
                  14.583272,
                  -90.527475
                ],
                "styles": {},
                "label": "Guatemala-City",
                "scale_factor": 1,
                "size": [
                  55,
                  55
                ],
                "position": [
                  0,
                  0
                ],
                "parentId": "Guatemala",
                "color": "#15AFAC",
                "type": "#15AFAC"
              },
              {
                "id": "EZE",
                "properties": {
                  "label": "Buenos Aires",
                  "passengers": 5000000,
                  "country": "Argentina"
                },
                "coordinates": [
                  -34.822222,
                  -58.535833
                ],
                "styles": {},
                "label": "Buenos Aires",
                "scale_factor": 1,
                "size": [
                  55,
                  55
                ],
                "position": [
                  0,
                  0
                ],
                "parentId": "Argentina",
                "color": "#15AFAC",
                "type": "#15AFAC"
              },
              {
                "id": "GRU",
                "properties": {
                  "label": "Sao Paulo",
                  "passengers": 34000000,
                  "country": "Brazil"
                },
                "coordinates": [
                  -23.432075,
                  -46.469511
                ],
                "styles": {},
                "label": "Sao Paulo",
                "scale_factor": 1,
                "size": [
                  55,
                  55
                ],
                "position": [
                  0,
                  0
                ],
                "parentId": "Brazil",
                "color": "#15AFAC",
                "type": "#15AFAC"
              },
              {
                "id": "SCL",
                "properties": {
                  "label": "Santiago de Chile",
                  "passengers": 20000000,
                  "country": "Chile"
                },
                "coordinates": [
                  -33.392975,
                  -70.785803
                ],
                "styles": {},
                "label": "Santiago de Chile",
                "scale_factor": 1,
                "size": [
                  55,
                  55
                ],
                "position": [
                  0,
                  0
                ],
                "parentId": "Chile",
                "color": "#15AFAC",
                "type": "#15AFAC"
              },
              {
                "id": "BSB",
                "properties": {
                  "label": "Brasilia",
                  "passengers": 13000000,
                  "country": "Brazil"
                },
                "coordinates": [
                  -15.871111,
                  -47.918611
                ],
                "styles": {},
                "label": "Brasilia",
                "scale_factor": 1,
                "size": [
                  55,
                  55
                ],
                "position": [
                  0,
                  0
                ],
                "parentId": "Brazil",
                "color": "#15AFAC",
                "type": "#15AFAC"
              },
              {
                "id": "BOG",
                "properties": {
                  "label": "Bogota",
                  "passengers": 36000000,
                  "country": "Colombia"
                },
                "coordinates": [
                  4.701594,
                  -74.146947
                ],
                "styles": {},
                "label": "Bogota",
                "scale_factor": 1,
                "size": [
                  55,
                  55
                ],
                "position": [
                  0,
                  0
                ],
                "parentId": "Colombia",
                "color": "#15AFAC",
                "type": "#15AFAC"
              },
              {
                "id": "CCS",
                "properties": {
                  "label": "Caracas",
                  "passengers": 8000000,
                  "country": "Venezuela"
                },
                "coordinates": [
                  10.601194,
                  -66.991222
                ],
                "styles": {},
                "label": "Caracas",
                "scale_factor": 1,
                "size": [
                  55,
                  55
                ],
                "position": [
                  0,
                  0
                ],
                "parentId": "Venezuela",
                "color": "#15AFAC",
                "type": "#15AFAC"
              }
            ],
            "_overview": {
              "enabled": false,
              "overview_set": true
            },
            "_selected_graph": [
              [],
              []
            ],
            "_sidebar": {
              "enabled": false,
              "start_with": null
            },
            "_view_count": null,
            "_view_module": "yfiles-jupyter-graphs",
            "_view_module_version": "^1.8.1",
            "_view_name": "GraphView",
            "layout": "IPY_MODEL_2ce456beccf34503b071fea64d98f5c4",
            "tabbable": null,
            "tooltip": null
          }
        },
        "2ce456beccf34503b071fea64d98f5c4": {
          "model_module": "@jupyter-widgets/base",
          "model_name": "LayoutModel",
          "model_module_version": "2.0.0",
          "state": {
            "_model_module": "@jupyter-widgets/base",
            "_model_module_version": "2.0.0",
            "_model_name": "LayoutModel",
            "_view_count": null,
            "_view_module": "@jupyter-widgets/base",
            "_view_module_version": "2.0.0",
            "_view_name": "LayoutView",
            "align_content": null,
            "align_items": null,
            "align_self": null,
            "border_bottom": null,
            "border_left": null,
            "border_right": null,
            "border_top": null,
            "bottom": null,
            "display": null,
            "flex": null,
            "flex_flow": null,
            "grid_area": null,
            "grid_auto_columns": null,
            "grid_auto_flow": null,
            "grid_auto_rows": null,
            "grid_column": null,
            "grid_gap": null,
            "grid_row": null,
            "grid_template_areas": null,
            "grid_template_columns": null,
            "grid_template_rows": null,
            "height": "800px",
            "justify_content": null,
            "justify_items": null,
            "left": null,
            "margin": null,
            "max_height": null,
            "max_width": null,
            "min_height": null,
            "min_width": null,
            "object_fit": null,
            "object_position": null,
            "order": null,
            "overflow": null,
            "padding": null,
            "right": null,
            "top": null,
            "visibility": null,
            "width": "100%"
          }
        },
        "9038e3e42e8245a5a7a969a870acd148": {
          "model_module": "yfiles-jupyter-graphs",
          "model_name": "GraphModel",
          "model_module_version": "^1.8.1",
          "state": {
            "_context_pane_mapping": [
              {
                "id": "Neighborhood",
                "title": "Neighborhood"
              },
              {
                "id": "Data",
                "title": "Data"
              },
              {
                "id": "Search",
                "title": "Search"
              },
              {
                "id": "About",
                "title": "About"
              }
            ],
            "_data_importer": "unknown",
            "_directed": false,
            "_dom_classes": [],
            "_edges": [
              {
                "start": "LAX",
                "end": "JFK",
                "label": "",
                "properties": {},
                "directed": false,
                "color": "#15AFAC",
                "thickness_factor": 1,
                "heat": 0
              },
              {
                "start": "JFK",
                "end": "GIG",
                "label": "",
                "properties": {},
                "directed": false,
                "color": "#15AFAC",
                "thickness_factor": 1,
                "heat": 0
              },
              {
                "start": "JFK",
                "end": "LIM",
                "label": "",
                "properties": {},
                "directed": false,
                "color": "#15AFAC",
                "thickness_factor": 1,
                "heat": 0
              },
              {
                "start": "JFK",
                "end": "LHR",
                "label": "",
                "properties": {},
                "directed": false,
                "color": "#15AFAC",
                "thickness_factor": 1,
                "heat": 0
              },
              {
                "start": "GIG",
                "end": "FRA",
                "label": "",
                "properties": {},
                "directed": false,
                "color": "#15AFAC",
                "thickness_factor": 1,
                "heat": 0
              },
              {
                "start": "LIM",
                "end": "GIG",
                "label": "",
                "properties": {},
                "directed": false,
                "color": "#15AFAC",
                "thickness_factor": 1,
                "heat": 0
              },
              {
                "start": "FRA",
                "end": "JFK",
                "label": "",
                "properties": {},
                "directed": false,
                "color": "#15AFAC",
                "thickness_factor": 1,
                "heat": 0
              },
              {
                "start": "LHR",
                "end": "FRA",
                "label": "",
                "properties": {},
                "directed": false,
                "color": "#15AFAC",
                "thickness_factor": 1,
                "heat": 0
              },
              {
                "start": "FRA",
                "end": "SVO",
                "label": "",
                "properties": {},
                "directed": false,
                "color": "#15AFAC",
                "thickness_factor": 1,
                "heat": 0
              },
              {
                "start": "FRA",
                "end": "DXB",
                "label": "",
                "properties": {},
                "directed": false,
                "color": "#15AFAC",
                "thickness_factor": 1,
                "heat": 0
              },
              {
                "start": "SVO",
                "end": "DEL",
                "label": "",
                "properties": {},
                "directed": false,
                "color": "#15AFAC",
                "thickness_factor": 1,
                "heat": 0
              },
              {
                "start": "SVO",
                "end": "PVG",
                "label": "",
                "properties": {},
                "directed": false,
                "color": "#15AFAC",
                "thickness_factor": 1,
                "heat": 0
              },
              {
                "start": "DEL",
                "end": "HKG",
                "label": "",
                "properties": {},
                "directed": false,
                "color": "#15AFAC",
                "thickness_factor": 1,
                "heat": 0
              },
              {
                "start": "PVG",
                "end": "HKG",
                "label": "",
                "properties": {},
                "directed": false,
                "color": "#15AFAC",
                "thickness_factor": 1,
                "heat": 0
              },
              {
                "start": "PVG",
                "end": "NRT",
                "label": "",
                "properties": {},
                "directed": false,
                "color": "#15AFAC",
                "thickness_factor": 1,
                "heat": 0
              },
              {
                "start": "HKG",
                "end": "SYD",
                "label": "",
                "properties": {},
                "directed": false,
                "color": "#15AFAC",
                "thickness_factor": 1,
                "heat": 0
              },
              {
                "start": "NRT",
                "end": "SYD",
                "label": "",
                "properties": {},
                "directed": false,
                "color": "#15AFAC",
                "thickness_factor": 1,
                "heat": 0
              },
              {
                "start": "DXB",
                "end": "SVO",
                "label": "",
                "properties": {},
                "directed": false,
                "color": "#15AFAC",
                "thickness_factor": 1,
                "heat": 0
              },
              {
                "start": "DXB",
                "end": "DEL",
                "label": "",
                "properties": {},
                "directed": false,
                "color": "#15AFAC",
                "thickness_factor": 1,
                "heat": 0
              },
              {
                "start": "DXB",
                "end": "DKR",
                "label": "",
                "properties": {},
                "directed": false,
                "color": "#15AFAC",
                "thickness_factor": 1,
                "heat": 0
              },
              {
                "start": "DXB",
                "end": "JNB",
                "label": "",
                "properties": {},
                "directed": false,
                "color": "#15AFAC",
                "thickness_factor": 1,
                "heat": 0
              },
              {
                "start": "JNB",
                "end": "LHR",
                "label": "",
                "properties": {},
                "directed": false,
                "color": "#15AFAC",
                "thickness_factor": 1,
                "heat": 0
              },
              {
                "start": "JNB",
                "end": "DKR",
                "label": "",
                "properties": {},
                "directed": false,
                "color": "#15AFAC",
                "thickness_factor": 1,
                "heat": 0
              },
              {
                "start": "SYD",
                "end": "DXB",
                "label": "",
                "properties": {},
                "directed": false,
                "color": "#15AFAC",
                "thickness_factor": 1,
                "heat": 0
              },
              {
                "start": "NBO",
                "end": "JNB",
                "label": "",
                "properties": {},
                "directed": false,
                "color": "#15AFAC",
                "thickness_factor": 1,
                "heat": 0
              },
              {
                "start": "NBO",
                "end": "DXB",
                "label": "",
                "properties": {},
                "directed": false,
                "color": "#15AFAC",
                "thickness_factor": 1,
                "heat": 0
              },
              {
                "start": "ATL",
                "end": "JFK",
                "label": "",
                "properties": {},
                "directed": false,
                "color": "#15AFAC",
                "thickness_factor": 1,
                "heat": 0
              },
              {
                "start": "LAX",
                "end": "ATL",
                "label": "",
                "properties": {},
                "directed": false,
                "color": "#15AFAC",
                "thickness_factor": 1,
                "heat": 0
              },
              {
                "start": "ATL",
                "end": "LHR",
                "label": "",
                "properties": {},
                "directed": false,
                "color": "#15AFAC",
                "thickness_factor": 1,
                "heat": 0
              },
              {
                "start": "ATL",
                "end": "LIM",
                "label": "",
                "properties": {},
                "directed": false,
                "color": "#15AFAC",
                "thickness_factor": 1,
                "heat": 0
              },
              {
                "start": "SCL",
                "end": "LIM",
                "label": "",
                "properties": {},
                "directed": false,
                "color": "#15AFAC",
                "thickness_factor": 1,
                "heat": 0
              },
              {
                "start": "EZE",
                "end": "SCL",
                "label": "",
                "properties": {},
                "directed": false,
                "color": "#15AFAC",
                "thickness_factor": 1,
                "heat": 0
              },
              {
                "start": "SCL",
                "end": "GRU",
                "label": "",
                "properties": {},
                "directed": false,
                "color": "#15AFAC",
                "thickness_factor": 1,
                "heat": 0
              },
              {
                "start": "GIG",
                "end": "EZE",
                "label": "",
                "properties": {},
                "directed": false,
                "color": "#15AFAC",
                "thickness_factor": 1,
                "heat": 0
              },
              {
                "start": "GIG",
                "end": "GRU",
                "label": "",
                "properties": {},
                "directed": false,
                "color": "#15AFAC",
                "thickness_factor": 1,
                "heat": 0
              },
              {
                "start": "BSB",
                "end": "GIG",
                "label": "",
                "properties": {},
                "directed": false,
                "color": "#15AFAC",
                "thickness_factor": 1,
                "heat": 0
              },
              {
                "start": "SCL",
                "end": "BSB",
                "label": "",
                "properties": {},
                "directed": false,
                "color": "#15AFAC",
                "thickness_factor": 1,
                "heat": 0
              },
              {
                "start": "LIM",
                "end": "BSB",
                "label": "",
                "properties": {},
                "directed": false,
                "color": "#15AFAC",
                "thickness_factor": 1,
                "heat": 0
              },
              {
                "start": "BOG",
                "end": "BSB",
                "label": "",
                "properties": {},
                "directed": false,
                "color": "#15AFAC",
                "thickness_factor": 1,
                "heat": 0
              },
              {
                "start": "CCS",
                "end": "BSB",
                "label": "",
                "properties": {},
                "directed": false,
                "color": "#15AFAC",
                "thickness_factor": 1,
                "heat": 0
              },
              {
                "start": "BOG",
                "end": "GUA",
                "label": "",
                "properties": {},
                "directed": false,
                "color": "#15AFAC",
                "thickness_factor": 1,
                "heat": 0
              },
              {
                "start": "CCS",
                "end": "MIA",
                "label": "",
                "properties": {},
                "directed": false,
                "color": "#15AFAC",
                "thickness_factor": 1,
                "heat": 0
              },
              {
                "start": "GUA",
                "end": "MIA",
                "label": "",
                "properties": {},
                "directed": false,
                "color": "#15AFAC",
                "thickness_factor": 1,
                "heat": 0
              },
              {
                "start": "GUA",
                "end": "MEX",
                "label": "",
                "properties": {},
                "directed": false,
                "color": "#15AFAC",
                "thickness_factor": 1,
                "heat": 0
              },
              {
                "start": "MEX",
                "end": "LAX",
                "label": "",
                "properties": {},
                "directed": false,
                "color": "#15AFAC",
                "thickness_factor": 1,
                "heat": 0
              },
              {
                "start": "MEX",
                "end": "LAX",
                "label": "",
                "properties": {},
                "directed": false,
                "color": "#15AFAC",
                "thickness_factor": 1,
                "heat": 0
              },
              {
                "start": "LAX",
                "end": "SFO",
                "label": "",
                "properties": {},
                "directed": false,
                "color": "#15AFAC",
                "thickness_factor": 1,
                "heat": 0
              },
              {
                "start": "SFO",
                "end": "YVR",
                "label": "",
                "properties": {},
                "directed": false,
                "color": "#15AFAC",
                "thickness_factor": 1,
                "heat": 0
              },
              {
                "start": "LAX",
                "end": "LAS",
                "label": "",
                "properties": {},
                "directed": false,
                "color": "#15AFAC",
                "thickness_factor": 1,
                "heat": 0
              },
              {
                "start": "LAX",
                "end": "DFW",
                "label": "",
                "properties": {},
                "directed": false,
                "color": "#15AFAC",
                "thickness_factor": 1,
                "heat": 0
              },
              {
                "start": "LAX",
                "end": "ORD",
                "label": "",
                "properties": {},
                "directed": false,
                "color": "#15AFAC",
                "thickness_factor": 1,
                "heat": 0
              },
              {
                "start": "SFO",
                "end": "LAS",
                "label": "",
                "properties": {},
                "directed": false,
                "color": "#15AFAC",
                "thickness_factor": 1,
                "heat": 0
              },
              {
                "start": "DFW",
                "end": "ATL",
                "label": "",
                "properties": {},
                "directed": false,
                "color": "#15AFAC",
                "thickness_factor": 1,
                "heat": 0
              },
              {
                "start": "ATL",
                "end": "YYZ",
                "label": "",
                "properties": {},
                "directed": false,
                "color": "#15AFAC",
                "thickness_factor": 1,
                "heat": 0
              },
              {
                "start": "ORD",
                "end": "YYZ",
                "label": "",
                "properties": {},
                "directed": false,
                "color": "#15AFAC",
                "thickness_factor": 1,
                "heat": 0
              },
              {
                "start": "YYZ",
                "end": "YUL",
                "label": "",
                "properties": {},
                "directed": false,
                "color": "#15AFAC",
                "thickness_factor": 1,
                "heat": 0
              },
              {
                "start": "YYZ",
                "end": "JFK",
                "label": "",
                "properties": {},
                "directed": false,
                "color": "#15AFAC",
                "thickness_factor": 1,
                "heat": 0
              },
              {
                "start": "YUL",
                "end": "JFK",
                "label": "",
                "properties": {},
                "directed": false,
                "color": "#15AFAC",
                "thickness_factor": 1,
                "heat": 0
              },
              {
                "start": "JNB",
                "end": "CPT",
                "label": "",
                "properties": {},
                "directed": false,
                "color": "#15AFAC",
                "thickness_factor": 1,
                "heat": 0
              },
              {
                "start": "LOS",
                "end": "DKR",
                "label": "",
                "properties": {},
                "directed": false,
                "color": "#15AFAC",
                "thickness_factor": 1,
                "heat": 0
              },
              {
                "start": "NBO",
                "end": "LOS",
                "label": "",
                "properties": {},
                "directed": false,
                "color": "#15AFAC",
                "thickness_factor": 1,
                "heat": 0
              },
              {
                "start": "DKR",
                "end": "CMN",
                "label": "",
                "properties": {},
                "directed": false,
                "color": "#15AFAC",
                "thickness_factor": 1,
                "heat": 0
              },
              {
                "start": "DKR",
                "end": "CAI",
                "label": "",
                "properties": {},
                "directed": false,
                "color": "#15AFAC",
                "thickness_factor": 1,
                "heat": 0
              },
              {
                "start": "NBO",
                "end": "CAI",
                "label": "",
                "properties": {},
                "directed": false,
                "color": "#15AFAC",
                "thickness_factor": 1,
                "heat": 0
              },
              {
                "start": "DXB",
                "end": "CAI",
                "label": "",
                "properties": {},
                "directed": false,
                "color": "#15AFAC",
                "thickness_factor": 1,
                "heat": 0
              },
              {
                "start": "IKA",
                "end": "DXB",
                "label": "",
                "properties": {},
                "directed": false,
                "color": "#15AFAC",
                "thickness_factor": 1,
                "heat": 0
              },
              {
                "start": "IST",
                "end": "IKA",
                "label": "",
                "properties": {},
                "directed": false,
                "color": "#15AFAC",
                "thickness_factor": 1,
                "heat": 0
              },
              {
                "start": "TLV",
                "end": "ATH",
                "label": "",
                "properties": {},
                "directed": false,
                "color": "#15AFAC",
                "thickness_factor": 1,
                "heat": 0
              },
              {
                "start": "CAI",
                "end": "TLV",
                "label": "",
                "properties": {},
                "directed": false,
                "color": "#15AFAC",
                "thickness_factor": 1,
                "heat": 0
              },
              {
                "start": "ATH",
                "end": "IST",
                "label": "",
                "properties": {},
                "directed": false,
                "color": "#15AFAC",
                "thickness_factor": 1,
                "heat": 0
              },
              {
                "start": "FCO",
                "end": "ATH",
                "label": "",
                "properties": {},
                "directed": false,
                "color": "#15AFAC",
                "thickness_factor": 1,
                "heat": 0
              },
              {
                "start": "LIS",
                "end": "LHR",
                "label": "",
                "properties": {},
                "directed": false,
                "color": "#15AFAC",
                "thickness_factor": 1,
                "heat": 0
              },
              {
                "start": "LIS",
                "end": "MAD",
                "label": "",
                "properties": {},
                "directed": false,
                "color": "#15AFAC",
                "thickness_factor": 1,
                "heat": 0
              },
              {
                "start": "MAD",
                "end": "BCN",
                "label": "",
                "properties": {},
                "directed": false,
                "color": "#15AFAC",
                "thickness_factor": 1,
                "heat": 0
              },
              {
                "start": "CDG",
                "end": "LHR",
                "label": "",
                "properties": {},
                "directed": false,
                "color": "#15AFAC",
                "thickness_factor": 1,
                "heat": 0
              },
              {
                "start": "DUB",
                "end": "LHR",
                "label": "",
                "properties": {},
                "directed": false,
                "color": "#15AFAC",
                "thickness_factor": 1,
                "heat": 0
              },
              {
                "start": "EDI",
                "end": "LHR",
                "label": "",
                "properties": {},
                "directed": false,
                "color": "#15AFAC",
                "thickness_factor": 1,
                "heat": 0
              },
              {
                "start": "CDG",
                "end": "BCN",
                "label": "",
                "properties": {},
                "directed": false,
                "color": "#15AFAC",
                "thickness_factor": 1,
                "heat": 0
              },
              {
                "start": "BCN",
                "end": "FCO",
                "label": "",
                "properties": {},
                "directed": false,
                "color": "#15AFAC",
                "thickness_factor": 1,
                "heat": 0
              },
              {
                "start": "VIE",
                "end": "IST",
                "label": "",
                "properties": {},
                "directed": false,
                "color": "#15AFAC",
                "thickness_factor": 1,
                "heat": 0
              },
              {
                "start": "VIE",
                "end": "SVO",
                "label": "",
                "properties": {},
                "directed": false,
                "color": "#15AFAC",
                "thickness_factor": 1,
                "heat": 0
              },
              {
                "start": "CMN",
                "end": "LIS",
                "label": "",
                "properties": {},
                "directed": false,
                "color": "#15AFAC",
                "thickness_factor": 1,
                "heat": 0
              },
              {
                "start": "MAD",
                "end": "CMN",
                "label": "",
                "properties": {},
                "directed": false,
                "color": "#15AFAC",
                "thickness_factor": 1,
                "heat": 0
              },
              {
                "start": "FRA",
                "end": "CPH",
                "label": "",
                "properties": {},
                "directed": false,
                "color": "#15AFAC",
                "thickness_factor": 1,
                "heat": 0
              },
              {
                "start": "LHR",
                "end": "CPH",
                "label": "",
                "properties": {},
                "directed": false,
                "color": "#15AFAC",
                "thickness_factor": 1,
                "heat": 0
              },
              {
                "start": "CPH",
                "end": "OSL",
                "label": "",
                "properties": {},
                "directed": false,
                "color": "#15AFAC",
                "thickness_factor": 1,
                "heat": 0
              },
              {
                "start": "CPH",
                "end": "ARN",
                "label": "",
                "properties": {},
                "directed": false,
                "color": "#15AFAC",
                "thickness_factor": 1,
                "heat": 0
              },
              {
                "start": "ARN",
                "end": "HEL",
                "label": "",
                "properties": {},
                "directed": false,
                "color": "#15AFAC",
                "thickness_factor": 1,
                "heat": 0
              },
              {
                "start": "HEL",
                "end": "SVO",
                "label": "",
                "properties": {},
                "directed": false,
                "color": "#15AFAC",
                "thickness_factor": 1,
                "heat": 0
              },
              {
                "start": "ULN",
                "end": "PVG",
                "label": "",
                "properties": {},
                "directed": false,
                "color": "#15AFAC",
                "thickness_factor": 1,
                "heat": 0
              },
              {
                "start": "CTU",
                "end": "PVG",
                "label": "",
                "properties": {},
                "directed": false,
                "color": "#15AFAC",
                "thickness_factor": 1,
                "heat": 0
              },
              {
                "start": "PVG",
                "end": "TPE",
                "label": "",
                "properties": {},
                "directed": false,
                "color": "#15AFAC",
                "thickness_factor": 1,
                "heat": 0
              },
              {
                "start": "CTU",
                "end": "HKG",
                "label": "",
                "properties": {},
                "directed": false,
                "color": "#15AFAC",
                "thickness_factor": 1,
                "heat": 0
              },
              {
                "start": "TPE",
                "end": "HKG",
                "label": "",
                "properties": {},
                "directed": false,
                "color": "#15AFAC",
                "thickness_factor": 1,
                "heat": 0
              },
              {
                "start": "HKG",
                "end": "MNL",
                "label": "",
                "properties": {},
                "directed": false,
                "color": "#15AFAC",
                "thickness_factor": 1,
                "heat": 0
              },
              {
                "start": "BKK",
                "end": "HKG",
                "label": "",
                "properties": {},
                "directed": false,
                "color": "#15AFAC",
                "thickness_factor": 1,
                "heat": 0
              },
              {
                "start": "SIN",
                "end": "KUL",
                "label": "",
                "properties": {},
                "directed": false,
                "color": "#15AFAC",
                "thickness_factor": 1,
                "heat": 0
              },
              {
                "start": "SIN",
                "end": "BKK",
                "label": "",
                "properties": {},
                "directed": false,
                "color": "#15AFAC",
                "thickness_factor": 1,
                "heat": 0
              },
              {
                "start": "CGK",
                "end": "SIN",
                "label": "",
                "properties": {},
                "directed": false,
                "color": "#15AFAC",
                "thickness_factor": 1,
                "heat": 0
              },
              {
                "start": "MNL",
                "end": "SIN",
                "label": "",
                "properties": {},
                "directed": false,
                "color": "#15AFAC",
                "thickness_factor": 1,
                "heat": 0
              },
              {
                "start": "SIN",
                "end": "SYD",
                "label": "",
                "properties": {},
                "directed": false,
                "color": "#15AFAC",
                "thickness_factor": 1,
                "heat": 0
              },
              {
                "start": "BNE",
                "end": "SYD",
                "label": "",
                "properties": {},
                "directed": false,
                "color": "#15AFAC",
                "thickness_factor": 1,
                "heat": 0
              },
              {
                "start": "SYD",
                "end": "MEL",
                "label": "",
                "properties": {},
                "directed": false,
                "color": "#15AFAC",
                "thickness_factor": 1,
                "heat": 0
              },
              {
                "start": "NAN",
                "end": "SYD",
                "label": "",
                "properties": {},
                "directed": false,
                "color": "#15AFAC",
                "thickness_factor": 1,
                "heat": 0
              },
              {
                "start": "AKL",
                "end": "SYD",
                "label": "",
                "properties": {},
                "directed": false,
                "color": "#15AFAC",
                "thickness_factor": 1,
                "heat": 0
              },
              {
                "start": "NAN",
                "end": "AKL",
                "label": "",
                "properties": {},
                "directed": false,
                "color": "#15AFAC",
                "thickness_factor": 1,
                "heat": 0
              },
              {
                "start": "RKV",
                "end": "LHR",
                "label": "",
                "properties": {},
                "directed": false,
                "color": "#15AFAC",
                "thickness_factor": 1,
                "heat": 0
              },
              {
                "start": "BCN",
                "end": "CDG",
                "label": "",
                "properties": {},
                "directed": false,
                "color": "#15AFAC",
                "thickness_factor": 1,
                "heat": 0
              },
              {
                "start": "BCN",
                "end": "FRA",
                "label": "",
                "properties": {},
                "directed": false,
                "color": "#15AFAC",
                "thickness_factor": 1,
                "heat": 0
              },
              {
                "start": "FCO",
                "end": "FRA",
                "label": "",
                "properties": {},
                "directed": false,
                "color": "#15AFAC",
                "thickness_factor": 1,
                "heat": 0
              },
              {
                "start": "BOG",
                "end": "MEX",
                "label": "",
                "properties": {},
                "directed": false,
                "color": "#15AFAC",
                "thickness_factor": 1,
                "heat": 0
              },
              {
                "start": "BOG",
                "end": "GRU",
                "label": "",
                "properties": {},
                "directed": false,
                "color": "#15AFAC",
                "thickness_factor": 1,
                "heat": 0
              },
              {
                "start": "ATL",
                "end": "MIA",
                "label": "",
                "properties": {},
                "directed": false,
                "color": "#15AFAC",
                "thickness_factor": 1,
                "heat": 0
              },
              {
                "start": "FRA",
                "end": "IST",
                "label": "",
                "properties": {},
                "directed": false,
                "color": "#15AFAC",
                "thickness_factor": 1,
                "heat": 0
              },
              {
                "start": "IST",
                "end": "DEL",
                "label": "",
                "properties": {},
                "directed": false,
                "color": "#15AFAC",
                "thickness_factor": 1,
                "heat": 0
              },
              {
                "start": "PVG",
                "end": "BKK",
                "label": "",
                "properties": {},
                "directed": false,
                "color": "#15AFAC",
                "thickness_factor": 1,
                "heat": 0
              },
              {
                "start": "DEL",
                "end": "BKK",
                "label": "",
                "properties": {},
                "directed": false,
                "color": "#15AFAC",
                "thickness_factor": 1,
                "heat": 0
              }
            ],
            "_graph_layout": {
              "algorithm": "map",
              "options": {}
            },
            "_highlight": [],
            "_license": {},
            "_model_module": "yfiles-jupyter-graphs",
            "_model_module_version": "^1.8.1",
            "_model_name": "GraphModel",
            "_neighborhood": {},
            "_nodes": [
              {
                "id": "LAX",
                "properties": {
                  "label": "Los Angeles",
                  "passengers": 65000000,
                  "country": "USA"
                },
                "coordinates": [
                  33.942536,
                  -118.408075
                ],
                "color": "#15AFAC",
                "styles": {},
                "label": "Los Angeles",
                "scale_factor": 1,
                "type": "#15AFAC",
                "size": [
                  55,
                  55
                ],
                "position": [
                  0,
                  0
                ],
                "heat": 0.6963123644251626
              },
              {
                "id": "GIG",
                "properties": {
                  "label": "Rio de Janeiro",
                  "passengers": 5000000,
                  "country": "Brazil"
                },
                "coordinates": [
                  -22.808903,
                  -43.243647
                ],
                "color": "#15AFAC",
                "styles": {},
                "label": "Rio de Janeiro",
                "scale_factor": 1,
                "type": "#15AFAC",
                "size": [
                  55,
                  55
                ],
                "position": [
                  0,
                  0
                ],
                "heat": 0.0455531453362256
              },
              {
                "id": "LIM",
                "properties": {
                  "label": "Lima",
                  "passengers": 18000000,
                  "country": "Peru"
                },
                "coordinates": [
                  -12.021889,
                  -77.114319
                ],
                "color": "#15AFAC",
                "styles": {},
                "label": "Lima",
                "scale_factor": 1,
                "type": "#15AFAC",
                "size": [
                  55,
                  55
                ],
                "position": [
                  0,
                  0
                ],
                "heat": 0.18655097613882862
              },
              {
                "id": "LHR",
                "properties": {
                  "label": "London",
                  "passengers": 61000000,
                  "country": "UK"
                },
                "coordinates": [
                  51.4775,
                  -0.461389
                ],
                "color": "#15AFAC",
                "styles": {},
                "label": "London",
                "scale_factor": 1,
                "type": "#15AFAC",
                "size": [
                  55,
                  55
                ],
                "position": [
                  0,
                  0
                ],
                "heat": 0.6529284164859002
              },
              {
                "id": "FRA",
                "properties": {
                  "label": "Frankfurt",
                  "passengers": 48000000,
                  "country": "Germany"
                },
                "coordinates": [
                  50.033333,
                  8.570556
                ],
                "color": "#15AFAC",
                "styles": {},
                "label": "Frankfurt",
                "scale_factor": 1,
                "type": "#15AFAC",
                "size": [
                  55,
                  55
                ],
                "position": [
                  0,
                  0
                ],
                "heat": 0.5119305856832972
              },
              {
                "id": "SVO",
                "properties": {
                  "label": "Moscow",
                  "passengers": 49000000,
                  "country": "Russia"
                },
                "coordinates": [
                  55.972642,
                  37.414589
                ],
                "color": "#15AFAC",
                "styles": {},
                "label": "Moscow",
                "scale_factor": 1,
                "type": "#15AFAC",
                "size": [
                  55,
                  55
                ],
                "position": [
                  0,
                  0
                ],
                "heat": 0.5227765726681128
              },
              {
                "id": "DEL",
                "properties": {
                  "label": "New Delhi",
                  "passengers": 39000000,
                  "country": "India"
                },
                "coordinates": [
                  28.5665,
                  77.103089
                ],
                "color": "#15AFAC",
                "styles": {},
                "label": "New Delhi",
                "scale_factor": 1,
                "type": "#15AFAC",
                "size": [
                  55,
                  55
                ],
                "position": [
                  0,
                  0
                ],
                "heat": 0.41431670281995664
              },
              {
                "id": "PVG",
                "properties": {
                  "label": "Shanghai",
                  "passengers": 32000000,
                  "country": "China"
                },
                "coordinates": [
                  31.143378,
                  121.805214
                ],
                "color": "#15AFAC",
                "styles": {},
                "label": "Shanghai",
                "scale_factor": 1,
                "type": "#15AFAC",
                "size": [
                  55,
                  55
                ],
                "position": [
                  0,
                  0
                ],
                "heat": 0.3383947939262473
              },
              {
                "id": "HKG",
                "properties": {
                  "label": "Hongkong",
                  "passengers": 1000000,
                  "country": "China"
                },
                "coordinates": [
                  22.308919,
                  113.914603
                ],
                "color": "#15AFAC",
                "styles": {},
                "label": "Hongkong",
                "scale_factor": 1,
                "type": "#15AFAC",
                "size": [
                  55,
                  55
                ],
                "position": [
                  0,
                  0
                ],
                "heat": 0.0021691973969631237
              },
              {
                "id": "NRT",
                "properties": {
                  "label": "Tokio",
                  "passengers": 15000000,
                  "country": "Japan"
                },
                "coordinates": [
                  35.764722,
                  140.386389
                ],
                "color": "#15AFAC",
                "styles": {},
                "label": "Tokio",
                "scale_factor": 1,
                "type": "#15AFAC",
                "size": [
                  55,
                  55
                ],
                "position": [
                  0,
                  0
                ],
                "heat": 0.1540130151843818
              },
              {
                "id": "DXB",
                "properties": {
                  "label": "Dubai",
                  "passengers": 29000000,
                  "country": "UAE"
                },
                "coordinates": [
                  25.252778,
                  55.364444
                ],
                "color": "#15AFAC",
                "styles": {},
                "label": "Dubai",
                "scale_factor": 1,
                "type": "#15AFAC",
                "size": [
                  55,
                  55
                ],
                "position": [
                  0,
                  0
                ],
                "heat": 0.30585683297180044
              },
              {
                "id": "DKR",
                "properties": {
                  "label": "Dakar",
                  "passengers": 2000000,
                  "country": "Senegal"
                },
                "coordinates": [
                  14.670833,
                  -17.072778
                ],
                "color": "#15AFAC",
                "styles": {},
                "label": "Dakar",
                "scale_factor": 1,
                "type": "#15AFAC",
                "size": [
                  55,
                  55
                ],
                "position": [
                  0,
                  0
                ],
                "heat": 0.013015184381778741
              },
              {
                "id": "JNB",
                "properties": {
                  "label": "Johannesburg",
                  "passengers": 9000000,
                  "country": "South Africa"
                },
                "coordinates": [
                  -26.133694,
                  28.242317
                ],
                "color": "#15AFAC",
                "styles": {},
                "label": "Johannesburg",
                "scale_factor": 1,
                "type": "#15AFAC",
                "size": [
                  55,
                  55
                ],
                "position": [
                  0,
                  0
                ],
                "heat": 0.08893709327548807
              },
              {
                "id": "SYD",
                "properties": {
                  "label": "Sydney",
                  "passengers": 44000000,
                  "country": "Australia"
                },
                "coordinates": [
                  -33.946111,
                  151.177222
                ],
                "color": "#15AFAC",
                "styles": {},
                "label": "Sydney",
                "scale_factor": 1,
                "type": "#15AFAC",
                "size": [
                  55,
                  55
                ],
                "position": [
                  0,
                  0
                ],
                "heat": 0.4685466377440347
              },
              {
                "id": "NBO",
                "properties": {
                  "label": "Nairobi",
                  "passengers": 900000,
                  "country": "Kenya"
                },
                "coordinates": [
                  -1.319167,
                  36.927778
                ],
                "color": "#15AFAC",
                "styles": {},
                "label": "Nairobi",
                "scale_factor": 1,
                "type": "#15AFAC",
                "size": [
                  55,
                  55
                ],
                "position": [
                  0,
                  0
                ],
                "heat": 0.0010845986984815619
              },
              {
                "id": "ATL",
                "properties": {
                  "label": "Atlanta",
                  "passengers": 93000000,
                  "country": "USA"
                },
                "coordinates": [
                  33.639167,
                  -84.427778
                ],
                "color": "#15AFAC",
                "styles": {},
                "label": "Atlanta",
                "scale_factor": 1,
                "type": "#15AFAC",
                "size": [
                  55,
                  55
                ],
                "position": [
                  0,
                  0
                ],
                "heat": 1
              },
              {
                "id": "JFK",
                "properties": {
                  "label": "New York City",
                  "passengers": 55000000,
                  "country": "USA"
                },
                "coordinates": [
                  40.63975,
                  -73.778925
                ],
                "color": "#15AFAC",
                "styles": {},
                "label": "New York City",
                "scale_factor": 1,
                "type": "#15AFAC",
                "size": [
                  55,
                  55
                ],
                "position": [
                  0,
                  0
                ],
                "heat": 0.5878524945770065
              },
              {
                "id": "CAI",
                "properties": {
                  "label": "Cairo",
                  "passengers": 14000000,
                  "country": "Egypt"
                },
                "coordinates": [
                  30.121944,
                  31.405556
                ],
                "color": "#15AFAC",
                "styles": {},
                "label": "Cairo",
                "scale_factor": 1,
                "type": "#15AFAC",
                "size": [
                  55,
                  55
                ],
                "position": [
                  0,
                  0
                ],
                "heat": 0.14316702819956617
              },
              {
                "id": "CMN",
                "properties": {
                  "label": "Casablanca",
                  "passengers": 7000000,
                  "country": "Morocco"
                },
                "coordinates": [
                  33.367467,
                  -7.589967
                ],
                "color": "#15AFAC",
                "styles": {},
                "label": "Casablanca",
                "scale_factor": 1,
                "type": "#15AFAC",
                "size": [
                  55,
                  55
                ],
                "position": [
                  0,
                  0
                ],
                "heat": 0.06724511930585683
              },
              {
                "id": "LOS",
                "properties": {
                  "label": "Lagos",
                  "passengers": 5000000,
                  "country": "Nigeria"
                },
                "coordinates": [
                  6.577222,
                  3.321111
                ],
                "color": "#15AFAC",
                "styles": {},
                "label": "Lagos",
                "scale_factor": 1,
                "type": "#15AFAC",
                "size": [
                  55,
                  55
                ],
                "position": [
                  0,
                  0
                ],
                "heat": 0.0455531453362256
              },
              {
                "id": "CPT",
                "properties": {
                  "label": "Cape Town",
                  "passengers": 5000000,
                  "country": "South Africa"
                },
                "coordinates": [
                  -33.969444,
                  18.597222
                ],
                "color": "#15AFAC",
                "styles": {},
                "label": "Cape Town",
                "scale_factor": 1,
                "type": "#15AFAC",
                "size": [
                  55,
                  55
                ],
                "position": [
                  0,
                  0
                ],
                "heat": 0.0455531453362256
              },
              {
                "id": "CTU",
                "properties": {
                  "label": "Chengdu",
                  "passengers": 40000000,
                  "country": "China"
                },
                "coordinates": [
                  30.578333,
                  103.946944
                ],
                "color": "#15AFAC",
                "styles": {},
                "label": "Chengdu",
                "scale_factor": 1,
                "type": "#15AFAC",
                "size": [
                  55,
                  55
                ],
                "position": [
                  0,
                  0
                ],
                "heat": 0.42516268980477223
              },
              {
                "id": "CGK",
                "properties": {
                  "label": "Jakarta",
                  "passengers": 54000000,
                  "country": "Indonesia"
                },
                "coordinates": [
                  -6.125567,
                  106.655897
                ],
                "color": "#15AFAC",
                "styles": {},
                "label": "Jakarta",
                "scale_factor": 1,
                "type": "#15AFAC",
                "size": [
                  55,
                  55
                ],
                "position": [
                  0,
                  0
                ],
                "heat": 0.5770065075921909
              },
              {
                "id": "IKA",
                "properties": {
                  "label": "Teheran",
                  "passengers": 8000000,
                  "country": "Iran"
                },
                "coordinates": [
                  35.416111,
                  51.152222
                ],
                "color": "#15AFAC",
                "styles": {},
                "label": "Teheran",
                "scale_factor": 1,
                "type": "#15AFAC",
                "size": [
                  55,
                  55
                ],
                "position": [
                  0,
                  0
                ],
                "heat": 0.07809110629067245
              },
              {
                "id": "TLV",
                "properties": {
                  "label": "Tel Aviv",
                  "passengers": 20000000,
                  "country": "Israel"
                },
                "coordinates": [
                  32.011389,
                  34.886667
                ],
                "color": "#15AFAC",
                "styles": {},
                "label": "Tel Aviv",
                "scale_factor": 1,
                "type": "#15AFAC",
                "size": [
                  55,
                  55
                ],
                "position": [
                  0,
                  0
                ],
                "heat": 0.20824295010845986
              },
              {
                "id": "KUL",
                "properties": {
                  "label": "Kuala Lumpur",
                  "passengers": 25000000,
                  "country": "Malaysia"
                },
                "coordinates": [
                  2.745578,
                  101.709917
                ],
                "color": "#15AFAC",
                "styles": {},
                "label": "Kuala Lumpur",
                "scale_factor": 1,
                "type": "#15AFAC",
                "size": [
                  55,
                  55
                ],
                "position": [
                  0,
                  0
                ],
                "heat": 0.26247288503253796
              },
              {
                "id": "MNL",
                "properties": {
                  "label": "Manila",
                  "passengers": 8000000,
                  "country": "Philippines"
                },
                "coordinates": [
                  14.508647,
                  121.019581
                ],
                "color": "#15AFAC",
                "styles": {},
                "label": "Manila",
                "scale_factor": 1,
                "type": "#15AFAC",
                "size": [
                  55,
                  55
                ],
                "position": [
                  0,
                  0
                ],
                "heat": 0.07809110629067245
              },
              {
                "id": "SIN",
                "properties": {
                  "label": "Singapur",
                  "passengers": 32000000,
                  "country": "Singapore"
                },
                "coordinates": [
                  1.350189,
                  103.994433
                ],
                "color": "#15AFAC",
                "styles": {},
                "label": "Singapur",
                "scale_factor": 1,
                "type": "#15AFAC",
                "size": [
                  55,
                  55
                ],
                "position": [
                  0,
                  0
                ],
                "heat": 0.3383947939262473
              },
              {
                "id": "TPE",
                "properties": {
                  "label": "Taipeh",
                  "passengers": 800000,
                  "country": "Taiwan"
                },
                "coordinates": [
                  25.077732,
                  121.232822
                ],
                "color": "#15AFAC",
                "styles": {},
                "label": "Taipeh",
                "scale_factor": 1,
                "type": "#15AFAC",
                "size": [
                  55,
                  55
                ],
                "position": [
                  0,
                  0
                ],
                "heat": 0
              },
              {
                "id": "BKK",
                "properties": {
                  "label": "Bangkok",
                  "passengers": 65000000,
                  "country": "Thailand"
                },
                "coordinates": [
                  13.681108,
                  100.747283
                ],
                "color": "#15AFAC",
                "styles": {},
                "label": "Bangkok",
                "scale_factor": 1,
                "type": "#15AFAC",
                "size": [
                  55,
                  55
                ],
                "position": [
                  0,
                  0
                ],
                "heat": 0.6963123644251626
              },
              {
                "id": "IST",
                "properties": {
                  "label": "Istanbul",
                  "passengers": 64000000,
                  "country": "Turkey"
                },
                "coordinates": [
                  40.976922,
                  28.814606
                ],
                "color": "#15AFAC",
                "styles": {},
                "label": "Istanbul",
                "scale_factor": 1,
                "type": "#15AFAC",
                "size": [
                  55,
                  55
                ],
                "position": [
                  0,
                  0
                ],
                "heat": 0.6854663774403471
              },
              {
                "id": "ULN",
                "properties": {
                  "label": "Ulaanbaatar",
                  "passengers": 1000000,
                  "country": "Mongolia"
                },
                "coordinates": [
                  47.843056,
                  106.766639
                ],
                "color": "#15AFAC",
                "styles": {},
                "label": "Ulaanbaatar",
                "scale_factor": 1,
                "type": "#15AFAC",
                "size": [
                  55,
                  55
                ],
                "position": [
                  0,
                  0
                ],
                "heat": 0.0021691973969631237
              },
              {
                "id": "MEL",
                "properties": {
                  "label": "Melbourne",
                  "passengers": 12000000,
                  "country": "Australia"
                },
                "coordinates": [
                  -37.673333,
                  144.843333
                ],
                "color": "#15AFAC",
                "styles": {},
                "label": "Melbourne",
                "scale_factor": 1,
                "type": "#15AFAC",
                "size": [
                  55,
                  55
                ],
                "position": [
                  0,
                  0
                ],
                "heat": 0.12147505422993492
              },
              {
                "id": "BNE",
                "properties": {
                  "label": "Brisbane",
                  "passengers": 23000000,
                  "country": "Australia"
                },
                "coordinates": [
                  -27.383333,
                  153.118056
                ],
                "color": "#15AFAC",
                "styles": {},
                "label": "Brisbane",
                "scale_factor": 1,
                "type": "#15AFAC",
                "size": [
                  55,
                  55
                ],
                "position": [
                  0,
                  0
                ],
                "heat": 0.24078091106290672
              },
              {
                "id": "NAN",
                "properties": {
                  "label": "Nadi",
                  "passengers": 2000000,
                  "country": "Fiji"
                },
                "coordinates": [
                  -17.755392,
                  177.443378
                ],
                "color": "#15AFAC",
                "styles": {},
                "label": "Nadi",
                "scale_factor": 1,
                "type": "#15AFAC",
                "size": [
                  55,
                  55
                ],
                "position": [
                  0,
                  0
                ],
                "heat": 0.013015184381778741
              },
              {
                "id": "AKL",
                "properties": {
                  "label": "Auckland",
                  "passengers": 21000000,
                  "country": "New Zealand"
                },
                "coordinates": [
                  -37.008056,
                  174.791667
                ],
                "color": "#15AFAC",
                "styles": {},
                "label": "Auckland",
                "scale_factor": 1,
                "type": "#15AFAC",
                "size": [
                  55,
                  55
                ],
                "position": [
                  0,
                  0
                ],
                "heat": 0.21908893709327548
              },
              {
                "id": "CDG",
                "properties": {
                  "label": "Paris",
                  "passengers": 57000000,
                  "country": "France"
                },
                "coordinates": [
                  49.009722,
                  2.547778
                ],
                "color": "#15AFAC",
                "styles": {},
                "label": "Paris",
                "scale_factor": 1,
                "type": "#15AFAC",
                "size": [
                  55,
                  55
                ],
                "position": [
                  0,
                  0
                ],
                "heat": 0.6095444685466378
              },
              {
                "id": "MAD",
                "properties": {
                  "label": "Madrid",
                  "passengers": 50000000,
                  "country": "Spain"
                },
                "coordinates": [
                  40.4675,
                  -3.551944
                ],
                "color": "#15AFAC",
                "styles": {},
                "label": "Madrid",
                "scale_factor": 1,
                "type": "#15AFAC",
                "size": [
                  55,
                  55
                ],
                "position": [
                  0,
                  0
                ],
                "heat": 0.5336225596529284
              },
              {
                "id": "BCN",
                "properties": {
                  "label": "Barcelona",
                  "passengers": 41000000,
                  "country": "Spain"
                },
                "coordinates": [
                  41.297078,
                  2.078464
                ],
                "color": "#15AFAC",
                "styles": {},
                "label": "Barcelona",
                "scale_factor": 1,
                "type": "#15AFAC",
                "size": [
                  55,
                  55
                ],
                "position": [
                  0,
                  0
                ],
                "heat": 0.4360086767895879
              },
              {
                "id": "FCO",
                "properties": {
                  "label": "Rome",
                  "passengers": 29000000,
                  "country": "Italy"
                },
                "coordinates": [
                  41.804444,
                  12.250833
                ],
                "color": "#15AFAC",
                "styles": {},
                "label": "Rome",
                "scale_factor": 1,
                "type": "#15AFAC",
                "size": [
                  55,
                  55
                ],
                "position": [
                  0,
                  0
                ],
                "heat": 0.30585683297180044
              },
              {
                "id": "CPH",
                "properties": {
                  "label": "Copenhagen",
                  "passengers": 30000000,
                  "country": "Denmark"
                },
                "coordinates": [
                  55.617917,
                  12.655972
                ],
                "color": "#15AFAC",
                "styles": {},
                "label": "Copenhagen",
                "scale_factor": 1,
                "type": "#15AFAC",
                "size": [
                  55,
                  55
                ],
                "position": [
                  0,
                  0
                ],
                "heat": 0.31670281995661603
              },
              {
                "id": "HEL",
                "properties": {
                  "label": "Helsinki",
                  "passengers": 5000000,
                  "country": "Finland"
                },
                "coordinates": [
                  60.317222,
                  24.963333
                ],
                "color": "#15AFAC",
                "styles": {},
                "label": "Helsinki",
                "scale_factor": 1,
                "type": "#15AFAC",
                "size": [
                  55,
                  55
                ],
                "position": [
                  0,
                  0
                ],
                "heat": 0.0455531453362256
              },
              {
                "id": "ATH",
                "properties": {
                  "label": "Athens",
                  "passengers": 22000000,
                  "country": "Greece"
                },
                "coordinates": [
                  37.936358,
                  23.944467
                ],
                "color": "#15AFAC",
                "styles": {},
                "label": "Athens",
                "scale_factor": 1,
                "type": "#15AFAC",
                "size": [
                  55,
                  55
                ],
                "position": [
                  0,
                  0
                ],
                "heat": 0.2299349240780911
              },
              {
                "id": "DUB",
                "properties": {
                  "label": "Dublin",
                  "passengers": 32000000,
                  "country": "Ireland"
                },
                "coordinates": [
                  53.421333,
                  -6.270075
                ],
                "color": "#15AFAC",
                "styles": {},
                "label": "Dublin",
                "scale_factor": 1,
                "type": "#15AFAC",
                "size": [
                  55,
                  55
                ],
                "position": [
                  0,
                  0
                ],
                "heat": 0.3383947939262473
              },
              {
                "id": "RKV",
                "properties": {
                  "label": "Reykjavik",
                  "passengers": 400000,
                  "country": "Iceland"
                },
                "coordinates": [
                  64.13,
                  -21.940556
                ],
                "color": "#15AFAC",
                "styles": {},
                "label": "Reykjavik",
                "scale_factor": 1,
                "type": "#15AFAC",
                "size": [
                  55,
                  55
                ],
                "position": [
                  0,
                  0
                ],
                "heat": -0.004338394793926247
              },
              {
                "id": "OSL",
                "properties": {
                  "label": "Oslo",
                  "passengers": 9000000,
                  "country": "Norway"
                },
                "coordinates": [
                  60.193917,
                  11.100361
                ],
                "color": "#15AFAC",
                "styles": {},
                "label": "Oslo",
                "scale_factor": 1,
                "type": "#15AFAC",
                "size": [
                  55,
                  55
                ],
                "position": [
                  0,
                  0
                ],
                "heat": 0.08893709327548807
              },
              {
                "id": "VIE",
                "properties": {
                  "label": "Vienna",
                  "passengers": 10000000,
                  "country": "Austria"
                },
                "coordinates": [
                  48.110833,
                  16.570833
                ],
                "color": "#15AFAC",
                "styles": {},
                "label": "Vienna",
                "scale_factor": 1,
                "type": "#15AFAC",
                "size": [
                  55,
                  55
                ],
                "position": [
                  0,
                  0
                ],
                "heat": 0.09978308026030369
              },
              {
                "id": "LIS",
                "properties": {
                  "label": "Lisbon",
                  "passengers": 28000000,
                  "country": "Portugal"
                },
                "coordinates": [
                  38.774167,
                  -9.134167
                ],
                "color": "#15AFAC",
                "styles": {},
                "label": "Lisbon",
                "scale_factor": 1,
                "type": "#15AFAC",
                "size": [
                  55,
                  55
                ],
                "position": [
                  0,
                  0
                ],
                "heat": 0.2950108459869848
              },
              {
                "id": "ARN",
                "properties": {
                  "label": "Stockholm",
                  "passengers": 7000000,
                  "country": "Sweden"
                },
                "coordinates": [
                  59.651944,
                  17.918611
                ],
                "color": "#15AFAC",
                "styles": {},
                "label": "Stockholm",
                "scale_factor": 1,
                "type": "#15AFAC",
                "size": [
                  55,
                  55
                ],
                "position": [
                  0,
                  0
                ],
                "heat": 0.06724511930585683
              },
              {
                "id": "EDI",
                "properties": {
                  "label": "Edinburgh",
                  "passengers": 14000000,
                  "country": "UK"
                },
                "coordinates": [
                  55.95,
                  -3.3725
                ],
                "color": "#15AFAC",
                "styles": {},
                "label": "Edinburgh",
                "scale_factor": 1,
                "type": "#15AFAC",
                "size": [
                  55,
                  55
                ],
                "position": [
                  0,
                  0
                ],
                "heat": 0.14316702819956617
              },
              {
                "id": "ORD",
                "properties": {
                  "label": "Chicago",
                  "passengers": 54000000,
                  "country": "USA"
                },
                "coordinates": [
                  41.978603,
                  -87.904842
                ],
                "color": "#15AFAC",
                "styles": {},
                "label": "Chicago",
                "scale_factor": 1,
                "type": "#15AFAC",
                "size": [
                  55,
                  55
                ],
                "position": [
                  0,
                  0
                ],
                "heat": 0.5770065075921909
              },
              {
                "id": "DFW",
                "properties": {
                  "label": "Dallas",
                  "passengers": 73000000,
                  "country": "USA"
                },
                "coordinates": [
                  32.896828,
                  -97.037997
                ],
                "color": "#15AFAC",
                "styles": {},
                "label": "Dallas",
                "scale_factor": 1,
                "type": "#15AFAC",
                "size": [
                  55,
                  55
                ],
                "position": [
                  0,
                  0
                ],
                "heat": 0.7830802603036876
              },
              {
                "id": "SFO",
                "properties": {
                  "label": "San Francisco",
                  "passengers": 42000000,
                  "country": "USA"
                },
                "coordinates": [
                  37.618972,
                  -122.374889
                ],
                "color": "#15AFAC",
                "styles": {},
                "label": "San Francisco",
                "scale_factor": 1,
                "type": "#15AFAC",
                "size": [
                  55,
                  55
                ],
                "position": [
                  0,
                  0
                ],
                "heat": 0.44685466377440347
              },
              {
                "id": "LAS",
                "properties": {
                  "label": "Las Vegas",
                  "passengers": 52000000,
                  "country": "USA"
                },
                "coordinates": [
                  36.080056,
                  -115.15225
                ],
                "color": "#15AFAC",
                "styles": {},
                "label": "Las Vegas",
                "scale_factor": 1,
                "type": "#15AFAC",
                "size": [
                  55,
                  55
                ],
                "position": [
                  0,
                  0
                ],
                "heat": 0.5553145336225597
              },
              {
                "id": "MIA",
                "properties": {
                  "label": "Miami",
                  "passengers": 50000000,
                  "country": "USA"
                },
                "coordinates": [
                  25.79325,
                  -80.290556
                ],
                "color": "#15AFAC",
                "styles": {},
                "label": "Miami",
                "scale_factor": 1,
                "type": "#15AFAC",
                "size": [
                  55,
                  55
                ],
                "position": [
                  0,
                  0
                ],
                "heat": 0.5336225596529284
              },
              {
                "id": "YYZ",
                "properties": {
                  "label": "Toronto",
                  "passengers": 12000000,
                  "country": "Canada"
                },
                "coordinates": [
                  43.677222,
                  -79.630556
                ],
                "color": "#15AFAC",
                "styles": {},
                "label": "Toronto",
                "scale_factor": 1,
                "type": "#15AFAC",
                "size": [
                  55,
                  55
                ],
                "position": [
                  0,
                  0
                ],
                "heat": 0.12147505422993492
              },
              {
                "id": "YVR",
                "properties": {
                  "label": "Vancouver",
                  "passengers": 19000000,
                  "country": "Canada"
                },
                "coordinates": [
                  49.193889,
                  -123.184444
                ],
                "color": "#15AFAC",
                "styles": {},
                "label": "Vancouver",
                "scale_factor": 1,
                "type": "#15AFAC",
                "size": [
                  55,
                  55
                ],
                "position": [
                  0,
                  0
                ],
                "heat": 0.19739696312364424
              },
              {
                "id": "YUL",
                "properties": {
                  "label": "Montreal",
                  "passengers": 15000000,
                  "country": "Canada"
                },
                "coordinates": [
                  45.47175,
                  -73.736569
                ],
                "color": "#15AFAC",
                "styles": {},
                "label": "Montreal",
                "scale_factor": 1,
                "type": "#15AFAC",
                "size": [
                  55,
                  55
                ],
                "position": [
                  0,
                  0
                ],
                "heat": 0.1540130151843818
              },
              {
                "id": "MEX",
                "properties": {
                  "label": "Mexico-City",
                  "passengers": 46000000,
                  "country": "Mexico"
                },
                "coordinates": [
                  19.436303,
                  -99.072097
                ],
                "color": "#15AFAC",
                "styles": {},
                "label": "Mexico-City",
                "scale_factor": 1,
                "type": "#15AFAC",
                "size": [
                  55,
                  55
                ],
                "position": [
                  0,
                  0
                ],
                "heat": 0.49023861171366595
              },
              {
                "id": "GUA",
                "properties": {
                  "label": "Guatemala-City",
                  "passengers": 2000000,
                  "country": "Guatemala"
                },
                "coordinates": [
                  14.583272,
                  -90.527475
                ],
                "color": "#15AFAC",
                "styles": {},
                "label": "Guatemala-City",
                "scale_factor": 1,
                "type": "#15AFAC",
                "size": [
                  55,
                  55
                ],
                "position": [
                  0,
                  0
                ],
                "heat": 0.013015184381778741
              },
              {
                "id": "EZE",
                "properties": {
                  "label": "Buenos Aires",
                  "passengers": 5000000,
                  "country": "Argentina"
                },
                "coordinates": [
                  -34.822222,
                  -58.535833
                ],
                "color": "#15AFAC",
                "styles": {},
                "label": "Buenos Aires",
                "scale_factor": 1,
                "type": "#15AFAC",
                "size": [
                  55,
                  55
                ],
                "position": [
                  0,
                  0
                ],
                "heat": 0.0455531453362256
              },
              {
                "id": "GRU",
                "properties": {
                  "label": "Sao Paulo",
                  "passengers": 34000000,
                  "country": "Brazil"
                },
                "coordinates": [
                  -23.432075,
                  -46.469511
                ],
                "color": "#15AFAC",
                "styles": {},
                "label": "Sao Paulo",
                "scale_factor": 1,
                "type": "#15AFAC",
                "size": [
                  55,
                  55
                ],
                "position": [
                  0,
                  0
                ],
                "heat": 0.3600867678958785
              },
              {
                "id": "SCL",
                "properties": {
                  "label": "Santiago de Chile",
                  "passengers": 20000000,
                  "country": "Chile"
                },
                "coordinates": [
                  -33.392975,
                  -70.785803
                ],
                "color": "#15AFAC",
                "styles": {},
                "label": "Santiago de Chile",
                "scale_factor": 1,
                "type": "#15AFAC",
                "size": [
                  55,
                  55
                ],
                "position": [
                  0,
                  0
                ],
                "heat": 0.20824295010845986
              },
              {
                "id": "BSB",
                "properties": {
                  "label": "Brasilia",
                  "passengers": 13000000,
                  "country": "Brazil"
                },
                "coordinates": [
                  -15.871111,
                  -47.918611
                ],
                "color": "#15AFAC",
                "styles": {},
                "label": "Brasilia",
                "scale_factor": 1,
                "type": "#15AFAC",
                "size": [
                  55,
                  55
                ],
                "position": [
                  0,
                  0
                ],
                "heat": 0.13232104121475055
              },
              {
                "id": "BOG",
                "properties": {
                  "label": "Bogota",
                  "passengers": 36000000,
                  "country": "Colombia"
                },
                "coordinates": [
                  4.701594,
                  -74.146947
                ],
                "color": "#15AFAC",
                "styles": {},
                "label": "Bogota",
                "scale_factor": 1,
                "type": "#15AFAC",
                "size": [
                  55,
                  55
                ],
                "position": [
                  0,
                  0
                ],
                "heat": 0.38177874186550975
              },
              {
                "id": "CCS",
                "properties": {
                  "label": "Caracas",
                  "passengers": 8000000,
                  "country": "Venezuela"
                },
                "coordinates": [
                  10.601194,
                  -66.991222
                ],
                "color": "#15AFAC",
                "styles": {},
                "label": "Caracas",
                "scale_factor": 1,
                "type": "#15AFAC",
                "size": [
                  55,
                  55
                ],
                "position": [
                  0,
                  0
                ],
                "heat": 0.07809110629067245
              }
            ],
            "_overview": {
              "enabled": false,
              "overview_set": true
            },
            "_selected_graph": [
              [],
              []
            ],
            "_sidebar": {
              "enabled": false,
              "start_with": null
            },
            "_view_count": null,
            "_view_module": "yfiles-jupyter-graphs",
            "_view_module_version": "^1.8.1",
            "_view_name": "GraphView",
            "layout": "IPY_MODEL_5c4472284ced449db80e1db8ed6ae20e",
            "tabbable": null,
            "tooltip": null
          }
        },
        "5c4472284ced449db80e1db8ed6ae20e": {
          "model_module": "@jupyter-widgets/base",
          "model_name": "LayoutModel",
          "model_module_version": "2.0.0",
          "state": {
            "_model_module": "@jupyter-widgets/base",
            "_model_module_version": "2.0.0",
            "_model_name": "LayoutModel",
            "_view_count": null,
            "_view_module": "@jupyter-widgets/base",
            "_view_module_version": "2.0.0",
            "_view_name": "LayoutView",
            "align_content": null,
            "align_items": null,
            "align_self": null,
            "border_bottom": null,
            "border_left": null,
            "border_right": null,
            "border_top": null,
            "bottom": null,
            "display": null,
            "flex": null,
            "flex_flow": null,
            "grid_area": null,
            "grid_auto_columns": null,
            "grid_auto_flow": null,
            "grid_auto_rows": null,
            "grid_column": null,
            "grid_gap": null,
            "grid_row": null,
            "grid_template_areas": null,
            "grid_template_columns": null,
            "grid_template_rows": null,
            "height": "800px",
            "justify_content": null,
            "justify_items": null,
            "left": null,
            "margin": null,
            "max_height": null,
            "max_width": null,
            "min_height": null,
            "min_width": null,
            "object_fit": null,
            "object_position": null,
            "order": null,
            "overflow": null,
            "padding": null,
            "right": null,
            "top": null,
            "visibility": null,
            "width": "100%"
          }
        },
        "c967cd6898d94823aa59dfeb4122cadd": {
          "model_module": "yfiles-jupyter-graphs",
          "model_name": "GraphModel",
          "model_module_version": "^1.8.1",
          "state": {
            "_context_pane_mapping": [
              {
                "id": "Neighborhood",
                "title": "Neighborhood"
              },
              {
                "id": "Data",
                "title": "Data"
              },
              {
                "id": "Search",
                "title": "Search"
              },
              {
                "id": "About",
                "title": "About"
              }
            ],
            "_data_importer": "unknown",
            "_directed": false,
            "_dom_classes": [],
            "_edges": [
              {
                "start": "LAX",
                "end": "JFK",
                "label": "",
                "properties": {},
                "directed": false,
                "color": "#15AFAC",
                "thickness_factor": 1
              },
              {
                "start": "JFK",
                "end": "GIG",
                "label": "",
                "properties": {},
                "directed": false,
                "color": "#15AFAC",
                "thickness_factor": 1
              },
              {
                "start": "JFK",
                "end": "LIM",
                "label": "",
                "properties": {},
                "directed": false,
                "color": "#15AFAC",
                "thickness_factor": 1
              },
              {
                "start": "JFK",
                "end": "LHR",
                "label": "",
                "properties": {},
                "directed": false,
                "color": "#15AFAC",
                "thickness_factor": 1
              },
              {
                "start": "GIG",
                "end": "FRA",
                "label": "",
                "properties": {},
                "directed": false,
                "color": "#15AFAC",
                "thickness_factor": 1
              },
              {
                "start": "LIM",
                "end": "GIG",
                "label": "",
                "properties": {},
                "directed": false,
                "color": "#15AFAC",
                "thickness_factor": 1
              },
              {
                "start": "FRA",
                "end": "JFK",
                "label": "",
                "properties": {},
                "directed": false,
                "color": "#15AFAC",
                "thickness_factor": 1
              },
              {
                "start": "LHR",
                "end": "FRA",
                "label": "",
                "properties": {},
                "directed": false,
                "color": "#15AFAC",
                "thickness_factor": 1
              },
              {
                "start": "FRA",
                "end": "SVO",
                "label": "",
                "properties": {},
                "directed": false,
                "color": "#15AFAC",
                "thickness_factor": 1
              },
              {
                "start": "FRA",
                "end": "DXB",
                "label": "",
                "properties": {},
                "directed": false,
                "color": "#15AFAC",
                "thickness_factor": 1
              },
              {
                "start": "SVO",
                "end": "DEL",
                "label": "",
                "properties": {},
                "directed": false,
                "color": "#15AFAC",
                "thickness_factor": 1
              },
              {
                "start": "SVO",
                "end": "PVG",
                "label": "",
                "properties": {},
                "directed": false,
                "color": "#15AFAC",
                "thickness_factor": 1
              },
              {
                "start": "DEL",
                "end": "HKG",
                "label": "",
                "properties": {},
                "directed": false,
                "color": "#15AFAC",
                "thickness_factor": 1
              },
              {
                "start": "PVG",
                "end": "HKG",
                "label": "",
                "properties": {},
                "directed": false,
                "color": "#15AFAC",
                "thickness_factor": 1
              },
              {
                "start": "PVG",
                "end": "NRT",
                "label": "",
                "properties": {},
                "directed": false,
                "color": "#15AFAC",
                "thickness_factor": 1
              },
              {
                "start": "HKG",
                "end": "SYD",
                "label": "",
                "properties": {},
                "directed": false,
                "color": "#15AFAC",
                "thickness_factor": 1
              },
              {
                "start": "NRT",
                "end": "SYD",
                "label": "",
                "properties": {},
                "directed": false,
                "color": "#15AFAC",
                "thickness_factor": 1
              },
              {
                "start": "DXB",
                "end": "SVO",
                "label": "",
                "properties": {},
                "directed": false,
                "color": "#15AFAC",
                "thickness_factor": 1
              },
              {
                "start": "DXB",
                "end": "DEL",
                "label": "",
                "properties": {},
                "directed": false,
                "color": "#15AFAC",
                "thickness_factor": 1
              },
              {
                "start": "DXB",
                "end": "DKR",
                "label": "",
                "properties": {},
                "directed": false,
                "color": "#15AFAC",
                "thickness_factor": 1
              },
              {
                "start": "DXB",
                "end": "JNB",
                "label": "",
                "properties": {},
                "directed": false,
                "color": "#15AFAC",
                "thickness_factor": 1
              },
              {
                "start": "JNB",
                "end": "LHR",
                "label": "",
                "properties": {},
                "directed": false,
                "color": "#15AFAC",
                "thickness_factor": 1
              },
              {
                "start": "JNB",
                "end": "DKR",
                "label": "",
                "properties": {},
                "directed": false,
                "color": "#15AFAC",
                "thickness_factor": 1
              },
              {
                "start": "SYD",
                "end": "DXB",
                "label": "",
                "properties": {},
                "directed": false,
                "color": "#15AFAC",
                "thickness_factor": 1
              },
              {
                "start": "NBO",
                "end": "JNB",
                "label": "",
                "properties": {},
                "directed": false,
                "color": "#15AFAC",
                "thickness_factor": 1
              },
              {
                "start": "NBO",
                "end": "DXB",
                "label": "",
                "properties": {},
                "directed": false,
                "color": "#15AFAC",
                "thickness_factor": 1
              },
              {
                "start": "ATL",
                "end": "JFK",
                "label": "",
                "properties": {},
                "directed": false,
                "color": "#15AFAC",
                "thickness_factor": 1
              },
              {
                "start": "LAX",
                "end": "ATL",
                "label": "",
                "properties": {},
                "directed": false,
                "color": "#15AFAC",
                "thickness_factor": 1
              },
              {
                "start": "ATL",
                "end": "LHR",
                "label": "",
                "properties": {},
                "directed": false,
                "color": "#15AFAC",
                "thickness_factor": 1
              },
              {
                "start": "ATL",
                "end": "LIM",
                "label": "",
                "properties": {},
                "directed": false,
                "color": "#15AFAC",
                "thickness_factor": 1
              },
              {
                "start": "SCL",
                "end": "LIM",
                "label": "",
                "properties": {},
                "directed": false,
                "color": "#15AFAC",
                "thickness_factor": 1
              },
              {
                "start": "EZE",
                "end": "SCL",
                "label": "",
                "properties": {},
                "directed": false,
                "color": "#15AFAC",
                "thickness_factor": 1
              },
              {
                "start": "SCL",
                "end": "GRU",
                "label": "",
                "properties": {},
                "directed": false,
                "color": "#15AFAC",
                "thickness_factor": 1
              },
              {
                "start": "GIG",
                "end": "EZE",
                "label": "",
                "properties": {},
                "directed": false,
                "color": "#15AFAC",
                "thickness_factor": 1
              },
              {
                "start": "GIG",
                "end": "GRU",
                "label": "",
                "properties": {},
                "directed": false,
                "color": "#15AFAC",
                "thickness_factor": 1
              },
              {
                "start": "BSB",
                "end": "GIG",
                "label": "",
                "properties": {},
                "directed": false,
                "color": "#15AFAC",
                "thickness_factor": 1
              },
              {
                "start": "SCL",
                "end": "BSB",
                "label": "",
                "properties": {},
                "directed": false,
                "color": "#15AFAC",
                "thickness_factor": 1
              },
              {
                "start": "LIM",
                "end": "BSB",
                "label": "",
                "properties": {},
                "directed": false,
                "color": "#15AFAC",
                "thickness_factor": 1
              },
              {
                "start": "BOG",
                "end": "BSB",
                "label": "",
                "properties": {},
                "directed": false,
                "color": "#15AFAC",
                "thickness_factor": 1
              },
              {
                "start": "CCS",
                "end": "BSB",
                "label": "",
                "properties": {},
                "directed": false,
                "color": "#15AFAC",
                "thickness_factor": 1
              },
              {
                "start": "BOG",
                "end": "GUA",
                "label": "",
                "properties": {},
                "directed": false,
                "color": "#15AFAC",
                "thickness_factor": 1
              },
              {
                "start": "CCS",
                "end": "MIA",
                "label": "",
                "properties": {},
                "directed": false,
                "color": "#15AFAC",
                "thickness_factor": 1
              },
              {
                "start": "GUA",
                "end": "MIA",
                "label": "",
                "properties": {},
                "directed": false,
                "color": "#15AFAC",
                "thickness_factor": 1
              },
              {
                "start": "GUA",
                "end": "MEX",
                "label": "",
                "properties": {},
                "directed": false,
                "color": "#15AFAC",
                "thickness_factor": 1
              },
              {
                "start": "MEX",
                "end": "LAX",
                "label": "",
                "properties": {},
                "directed": false,
                "color": "#15AFAC",
                "thickness_factor": 1
              },
              {
                "start": "MEX",
                "end": "LAX",
                "label": "",
                "properties": {},
                "directed": false,
                "color": "#15AFAC",
                "thickness_factor": 1
              },
              {
                "start": "LAX",
                "end": "SFO",
                "label": "",
                "properties": {},
                "directed": false,
                "color": "#15AFAC",
                "thickness_factor": 1
              },
              {
                "start": "SFO",
                "end": "YVR",
                "label": "",
                "properties": {},
                "directed": false,
                "color": "#15AFAC",
                "thickness_factor": 1
              },
              {
                "start": "LAX",
                "end": "LAS",
                "label": "",
                "properties": {},
                "directed": false,
                "color": "#15AFAC",
                "thickness_factor": 1
              },
              {
                "start": "LAX",
                "end": "DFW",
                "label": "",
                "properties": {},
                "directed": false,
                "color": "#15AFAC",
                "thickness_factor": 1
              },
              {
                "start": "LAX",
                "end": "ORD",
                "label": "",
                "properties": {},
                "directed": false,
                "color": "#15AFAC",
                "thickness_factor": 1
              },
              {
                "start": "SFO",
                "end": "LAS",
                "label": "",
                "properties": {},
                "directed": false,
                "color": "#15AFAC",
                "thickness_factor": 1
              },
              {
                "start": "DFW",
                "end": "ATL",
                "label": "",
                "properties": {},
                "directed": false,
                "color": "#15AFAC",
                "thickness_factor": 1
              },
              {
                "start": "ATL",
                "end": "YYZ",
                "label": "",
                "properties": {},
                "directed": false,
                "color": "#15AFAC",
                "thickness_factor": 1
              },
              {
                "start": "ORD",
                "end": "YYZ",
                "label": "",
                "properties": {},
                "directed": false,
                "color": "#15AFAC",
                "thickness_factor": 1
              },
              {
                "start": "YYZ",
                "end": "YUL",
                "label": "",
                "properties": {},
                "directed": false,
                "color": "#15AFAC",
                "thickness_factor": 1
              },
              {
                "start": "YYZ",
                "end": "JFK",
                "label": "",
                "properties": {},
                "directed": false,
                "color": "#15AFAC",
                "thickness_factor": 1
              },
              {
                "start": "YUL",
                "end": "JFK",
                "label": "",
                "properties": {},
                "directed": false,
                "color": "#15AFAC",
                "thickness_factor": 1
              },
              {
                "start": "JNB",
                "end": "CPT",
                "label": "",
                "properties": {},
                "directed": false,
                "color": "#15AFAC",
                "thickness_factor": 1
              },
              {
                "start": "LOS",
                "end": "DKR",
                "label": "",
                "properties": {},
                "directed": false,
                "color": "#15AFAC",
                "thickness_factor": 1
              },
              {
                "start": "NBO",
                "end": "LOS",
                "label": "",
                "properties": {},
                "directed": false,
                "color": "#15AFAC",
                "thickness_factor": 1
              },
              {
                "start": "DKR",
                "end": "CMN",
                "label": "",
                "properties": {},
                "directed": false,
                "color": "#15AFAC",
                "thickness_factor": 1
              },
              {
                "start": "DKR",
                "end": "CAI",
                "label": "",
                "properties": {},
                "directed": false,
                "color": "#15AFAC",
                "thickness_factor": 1
              },
              {
                "start": "NBO",
                "end": "CAI",
                "label": "",
                "properties": {},
                "directed": false,
                "color": "#15AFAC",
                "thickness_factor": 1
              },
              {
                "start": "DXB",
                "end": "CAI",
                "label": "",
                "properties": {},
                "directed": false,
                "color": "#15AFAC",
                "thickness_factor": 1
              },
              {
                "start": "IKA",
                "end": "DXB",
                "label": "",
                "properties": {},
                "directed": false,
                "color": "#15AFAC",
                "thickness_factor": 1
              },
              {
                "start": "IST",
                "end": "IKA",
                "label": "",
                "properties": {},
                "directed": false,
                "color": "#15AFAC",
                "thickness_factor": 1
              },
              {
                "start": "TLV",
                "end": "ATH",
                "label": "",
                "properties": {},
                "directed": false,
                "color": "#15AFAC",
                "thickness_factor": 1
              },
              {
                "start": "CAI",
                "end": "TLV",
                "label": "",
                "properties": {},
                "directed": false,
                "color": "#15AFAC",
                "thickness_factor": 1
              },
              {
                "start": "ATH",
                "end": "IST",
                "label": "",
                "properties": {},
                "directed": false,
                "color": "#15AFAC",
                "thickness_factor": 1
              },
              {
                "start": "FCO",
                "end": "ATH",
                "label": "",
                "properties": {},
                "directed": false,
                "color": "#15AFAC",
                "thickness_factor": 1
              },
              {
                "start": "LIS",
                "end": "LHR",
                "label": "",
                "properties": {},
                "directed": false,
                "color": "#15AFAC",
                "thickness_factor": 1
              },
              {
                "start": "LIS",
                "end": "MAD",
                "label": "",
                "properties": {},
                "directed": false,
                "color": "#15AFAC",
                "thickness_factor": 1
              },
              {
                "start": "MAD",
                "end": "BCN",
                "label": "",
                "properties": {},
                "directed": false,
                "color": "#15AFAC",
                "thickness_factor": 1
              },
              {
                "start": "CDG",
                "end": "LHR",
                "label": "",
                "properties": {},
                "directed": false,
                "color": "#15AFAC",
                "thickness_factor": 1
              },
              {
                "start": "DUB",
                "end": "LHR",
                "label": "",
                "properties": {},
                "directed": false,
                "color": "#15AFAC",
                "thickness_factor": 1
              },
              {
                "start": "EDI",
                "end": "LHR",
                "label": "",
                "properties": {},
                "directed": false,
                "color": "#15AFAC",
                "thickness_factor": 1
              },
              {
                "start": "CDG",
                "end": "BCN",
                "label": "",
                "properties": {},
                "directed": false,
                "color": "#15AFAC",
                "thickness_factor": 1
              },
              {
                "start": "BCN",
                "end": "FCO",
                "label": "",
                "properties": {},
                "directed": false,
                "color": "#15AFAC",
                "thickness_factor": 1
              },
              {
                "start": "VIE",
                "end": "IST",
                "label": "",
                "properties": {},
                "directed": false,
                "color": "#15AFAC",
                "thickness_factor": 1
              },
              {
                "start": "VIE",
                "end": "SVO",
                "label": "",
                "properties": {},
                "directed": false,
                "color": "#15AFAC",
                "thickness_factor": 1
              },
              {
                "start": "CMN",
                "end": "LIS",
                "label": "",
                "properties": {},
                "directed": false,
                "color": "#15AFAC",
                "thickness_factor": 1
              },
              {
                "start": "MAD",
                "end": "CMN",
                "label": "",
                "properties": {},
                "directed": false,
                "color": "#15AFAC",
                "thickness_factor": 1
              },
              {
                "start": "FRA",
                "end": "CPH",
                "label": "",
                "properties": {},
                "directed": false,
                "color": "#15AFAC",
                "thickness_factor": 1
              },
              {
                "start": "LHR",
                "end": "CPH",
                "label": "",
                "properties": {},
                "directed": false,
                "color": "#15AFAC",
                "thickness_factor": 1
              },
              {
                "start": "CPH",
                "end": "OSL",
                "label": "",
                "properties": {},
                "directed": false,
                "color": "#15AFAC",
                "thickness_factor": 1
              },
              {
                "start": "CPH",
                "end": "ARN",
                "label": "",
                "properties": {},
                "directed": false,
                "color": "#15AFAC",
                "thickness_factor": 1
              },
              {
                "start": "ARN",
                "end": "HEL",
                "label": "",
                "properties": {},
                "directed": false,
                "color": "#15AFAC",
                "thickness_factor": 1
              },
              {
                "start": "HEL",
                "end": "SVO",
                "label": "",
                "properties": {},
                "directed": false,
                "color": "#15AFAC",
                "thickness_factor": 1
              },
              {
                "start": "ULN",
                "end": "PVG",
                "label": "",
                "properties": {},
                "directed": false,
                "color": "#15AFAC",
                "thickness_factor": 1
              },
              {
                "start": "CTU",
                "end": "PVG",
                "label": "",
                "properties": {},
                "directed": false,
                "color": "#15AFAC",
                "thickness_factor": 1
              },
              {
                "start": "PVG",
                "end": "TPE",
                "label": "",
                "properties": {},
                "directed": false,
                "color": "#15AFAC",
                "thickness_factor": 1
              },
              {
                "start": "CTU",
                "end": "HKG",
                "label": "",
                "properties": {},
                "directed": false,
                "color": "#15AFAC",
                "thickness_factor": 1
              },
              {
                "start": "TPE",
                "end": "HKG",
                "label": "",
                "properties": {},
                "directed": false,
                "color": "#15AFAC",
                "thickness_factor": 1
              },
              {
                "start": "HKG",
                "end": "MNL",
                "label": "",
                "properties": {},
                "directed": false,
                "color": "#15AFAC",
                "thickness_factor": 1
              },
              {
                "start": "BKK",
                "end": "HKG",
                "label": "",
                "properties": {},
                "directed": false,
                "color": "#15AFAC",
                "thickness_factor": 1
              },
              {
                "start": "SIN",
                "end": "KUL",
                "label": "",
                "properties": {},
                "directed": false,
                "color": "#15AFAC",
                "thickness_factor": 1
              },
              {
                "start": "SIN",
                "end": "BKK",
                "label": "",
                "properties": {},
                "directed": false,
                "color": "#15AFAC",
                "thickness_factor": 1
              },
              {
                "start": "CGK",
                "end": "SIN",
                "label": "",
                "properties": {},
                "directed": false,
                "color": "#15AFAC",
                "thickness_factor": 1
              },
              {
                "start": "MNL",
                "end": "SIN",
                "label": "",
                "properties": {},
                "directed": false,
                "color": "#15AFAC",
                "thickness_factor": 1
              },
              {
                "start": "SIN",
                "end": "SYD",
                "label": "",
                "properties": {},
                "directed": false,
                "color": "#15AFAC",
                "thickness_factor": 1
              },
              {
                "start": "BNE",
                "end": "SYD",
                "label": "",
                "properties": {},
                "directed": false,
                "color": "#15AFAC",
                "thickness_factor": 1
              },
              {
                "start": "SYD",
                "end": "MEL",
                "label": "",
                "properties": {},
                "directed": false,
                "color": "#15AFAC",
                "thickness_factor": 1
              },
              {
                "start": "NAN",
                "end": "SYD",
                "label": "",
                "properties": {},
                "directed": false,
                "color": "#15AFAC",
                "thickness_factor": 1
              },
              {
                "start": "AKL",
                "end": "SYD",
                "label": "",
                "properties": {},
                "directed": false,
                "color": "#15AFAC",
                "thickness_factor": 1
              },
              {
                "start": "NAN",
                "end": "AKL",
                "label": "",
                "properties": {},
                "directed": false,
                "color": "#15AFAC",
                "thickness_factor": 1
              },
              {
                "start": "RKV",
                "end": "LHR",
                "label": "",
                "properties": {},
                "directed": false,
                "color": "#15AFAC",
                "thickness_factor": 1
              },
              {
                "start": "BCN",
                "end": "CDG",
                "label": "",
                "properties": {},
                "directed": false,
                "color": "#15AFAC",
                "thickness_factor": 1
              },
              {
                "start": "BCN",
                "end": "FRA",
                "label": "",
                "properties": {},
                "directed": false,
                "color": "#15AFAC",
                "thickness_factor": 1
              },
              {
                "start": "FCO",
                "end": "FRA",
                "label": "",
                "properties": {},
                "directed": false,
                "color": "#15AFAC",
                "thickness_factor": 1
              },
              {
                "start": "BOG",
                "end": "MEX",
                "label": "",
                "properties": {},
                "directed": false,
                "color": "#15AFAC",
                "thickness_factor": 1
              },
              {
                "start": "BOG",
                "end": "GRU",
                "label": "",
                "properties": {},
                "directed": false,
                "color": "#15AFAC",
                "thickness_factor": 1
              },
              {
                "start": "ATL",
                "end": "MIA",
                "label": "",
                "properties": {},
                "directed": false,
                "color": "#15AFAC",
                "thickness_factor": 1
              },
              {
                "start": "FRA",
                "end": "IST",
                "label": "",
                "properties": {},
                "directed": false,
                "color": "#15AFAC",
                "thickness_factor": 1
              },
              {
                "start": "IST",
                "end": "DEL",
                "label": "",
                "properties": {},
                "directed": false,
                "color": "#15AFAC",
                "thickness_factor": 1
              },
              {
                "start": "PVG",
                "end": "BKK",
                "label": "",
                "properties": {},
                "directed": false,
                "color": "#15AFAC",
                "thickness_factor": 1
              },
              {
                "start": "DEL",
                "end": "BKK",
                "label": "",
                "properties": {},
                "directed": false,
                "color": "#15AFAC",
                "thickness_factor": 1
              }
            ],
            "_graph_layout": {},
            "_highlight": [],
            "_license": {},
            "_model_module": "yfiles-jupyter-graphs",
            "_model_module_version": "^1.8.1",
            "_model_name": "GraphModel",
            "_neighborhood": {},
            "_nodes": [
              {
                "id": "LAX",
                "properties": {
                  "label": "Los Angeles",
                  "passengers": 65000000,
                  "country": "USA"
                },
                "coordinates": [
                  33.942536,
                  -118.408075
                ],
                "styles": {},
                "label": "Los Angeles",
                "scale_factor": 1,
                "size": [
                  55,
                  55
                ],
                "position": [
                  0,
                  0
                ],
                "parentId": "USA"
              },
              {
                "id": "GIG",
                "properties": {
                  "label": "Rio de Janeiro",
                  "passengers": 5000000,
                  "country": "Brazil"
                },
                "coordinates": [
                  -22.808903,
                  -43.243647
                ],
                "styles": {},
                "label": "Rio de Janeiro",
                "scale_factor": 1,
                "size": [
                  55,
                  55
                ],
                "position": [
                  0,
                  0
                ],
                "parentId": "Brazil"
              },
              {
                "id": "LIM",
                "properties": {
                  "label": "Lima",
                  "passengers": 18000000,
                  "country": "Peru"
                },
                "coordinates": [
                  -12.021889,
                  -77.114319
                ],
                "styles": {},
                "label": "Lima",
                "scale_factor": 1,
                "size": [
                  55,
                  55
                ],
                "position": [
                  0,
                  0
                ],
                "parentId": "Peru"
              },
              {
                "id": "LHR",
                "properties": {
                  "label": "London",
                  "passengers": 61000000,
                  "country": "UK"
                },
                "coordinates": [
                  51.4775,
                  -0.461389
                ],
                "styles": {},
                "label": "London",
                "scale_factor": 1,
                "size": [
                  55,
                  55
                ],
                "position": [
                  0,
                  0
                ],
                "parentId": "UK"
              },
              {
                "id": "FRA",
                "properties": {
                  "label": "Frankfurt",
                  "passengers": 48000000,
                  "country": "Germany"
                },
                "coordinates": [
                  50.033333,
                  8.570556
                ],
                "styles": {},
                "label": "Frankfurt",
                "scale_factor": 1,
                "size": [
                  55,
                  55
                ],
                "position": [
                  0,
                  0
                ],
                "parentId": "Germany"
              },
              {
                "id": "SVO",
                "properties": {
                  "label": "Moscow",
                  "passengers": 49000000,
                  "country": "Russia"
                },
                "coordinates": [
                  55.972642,
                  37.414589
                ],
                "styles": {},
                "label": "Moscow",
                "scale_factor": 1,
                "size": [
                  55,
                  55
                ],
                "position": [
                  0,
                  0
                ],
                "parentId": "Russia"
              },
              {
                "id": "DEL",
                "properties": {
                  "label": "New Delhi",
                  "passengers": 39000000,
                  "country": "India"
                },
                "coordinates": [
                  28.5665,
                  77.103089
                ],
                "styles": {},
                "label": "New Delhi",
                "scale_factor": 1,
                "size": [
                  55,
                  55
                ],
                "position": [
                  0,
                  0
                ],
                "parentId": "India"
              },
              {
                "id": "PVG",
                "properties": {
                  "label": "Shanghai",
                  "passengers": 32000000,
                  "country": "China"
                },
                "coordinates": [
                  31.143378,
                  121.805214
                ],
                "styles": {},
                "label": "Shanghai",
                "scale_factor": 1,
                "size": [
                  55,
                  55
                ],
                "position": [
                  0,
                  0
                ],
                "parentId": "China"
              },
              {
                "id": "HKG",
                "properties": {
                  "label": "Hongkong",
                  "passengers": 1000000,
                  "country": "China"
                },
                "coordinates": [
                  22.308919,
                  113.914603
                ],
                "styles": {},
                "label": "Hongkong",
                "scale_factor": 1,
                "size": [
                  55,
                  55
                ],
                "position": [
                  0,
                  0
                ],
                "parentId": "China"
              },
              {
                "id": "NRT",
                "properties": {
                  "label": "Tokio",
                  "passengers": 15000000,
                  "country": "Japan"
                },
                "coordinates": [
                  35.764722,
                  140.386389
                ],
                "styles": {},
                "label": "Tokio",
                "scale_factor": 1,
                "size": [
                  55,
                  55
                ],
                "position": [
                  0,
                  0
                ],
                "parentId": "Japan"
              },
              {
                "id": "DXB",
                "properties": {
                  "label": "Dubai",
                  "passengers": 29000000,
                  "country": "UAE"
                },
                "coordinates": [
                  25.252778,
                  55.364444
                ],
                "styles": {},
                "label": "Dubai",
                "scale_factor": 1,
                "size": [
                  55,
                  55
                ],
                "position": [
                  0,
                  0
                ],
                "parentId": "UAE"
              },
              {
                "id": "DKR",
                "properties": {
                  "label": "Dakar",
                  "passengers": 2000000,
                  "country": "Senegal"
                },
                "coordinates": [
                  14.670833,
                  -17.072778
                ],
                "styles": {},
                "label": "Dakar",
                "scale_factor": 1,
                "size": [
                  55,
                  55
                ],
                "position": [
                  0,
                  0
                ],
                "parentId": "Senegal"
              },
              {
                "id": "JNB",
                "properties": {
                  "label": "Johannesburg",
                  "passengers": 9000000,
                  "country": "South Africa"
                },
                "coordinates": [
                  -26.133694,
                  28.242317
                ],
                "styles": {},
                "label": "Johannesburg",
                "scale_factor": 1,
                "size": [
                  55,
                  55
                ],
                "position": [
                  0,
                  0
                ],
                "parentId": "South Africa"
              },
              {
                "id": "SYD",
                "properties": {
                  "label": "Sydney",
                  "passengers": 44000000,
                  "country": "Australia"
                },
                "coordinates": [
                  -33.946111,
                  151.177222
                ],
                "styles": {},
                "label": "Sydney",
                "scale_factor": 1,
                "size": [
                  55,
                  55
                ],
                "position": [
                  0,
                  0
                ],
                "parentId": "Australia"
              },
              {
                "id": "NBO",
                "properties": {
                  "label": "Nairobi",
                  "passengers": 900000,
                  "country": "Kenya"
                },
                "coordinates": [
                  -1.319167,
                  36.927778
                ],
                "styles": {},
                "label": "Nairobi",
                "scale_factor": 1,
                "size": [
                  55,
                  55
                ],
                "position": [
                  0,
                  0
                ],
                "parentId": "Kenya"
              },
              {
                "id": "ATL",
                "properties": {
                  "label": "Atlanta",
                  "passengers": 93000000,
                  "country": "USA"
                },
                "coordinates": [
                  33.639167,
                  -84.427778
                ],
                "styles": {},
                "label": "Atlanta",
                "scale_factor": 1,
                "size": [
                  55,
                  55
                ],
                "position": [
                  0,
                  0
                ],
                "parentId": "USA"
              },
              {
                "id": "JFK",
                "properties": {
                  "label": "New York City",
                  "passengers": 55000000,
                  "country": "USA"
                },
                "coordinates": [
                  40.63975,
                  -73.778925
                ],
                "styles": {},
                "label": "New York City",
                "scale_factor": 1,
                "size": [
                  55,
                  55
                ],
                "position": [
                  0,
                  0
                ],
                "parentId": "USA"
              },
              {
                "id": "CAI",
                "properties": {
                  "label": "Cairo",
                  "passengers": 14000000,
                  "country": "Egypt"
                },
                "coordinates": [
                  30.121944,
                  31.405556
                ],
                "styles": {},
                "label": "Cairo",
                "scale_factor": 1,
                "size": [
                  55,
                  55
                ],
                "position": [
                  0,
                  0
                ],
                "parentId": "Egypt"
              },
              {
                "id": "CMN",
                "properties": {
                  "label": "Casablanca",
                  "passengers": 7000000,
                  "country": "Morocco"
                },
                "coordinates": [
                  33.367467,
                  -7.589967
                ],
                "styles": {},
                "label": "Casablanca",
                "scale_factor": 1,
                "size": [
                  55,
                  55
                ],
                "position": [
                  0,
                  0
                ],
                "parentId": "Morocco"
              },
              {
                "id": "LOS",
                "properties": {
                  "label": "Lagos",
                  "passengers": 5000000,
                  "country": "Nigeria"
                },
                "coordinates": [
                  6.577222,
                  3.321111
                ],
                "styles": {},
                "label": "Lagos",
                "scale_factor": 1,
                "size": [
                  55,
                  55
                ],
                "position": [
                  0,
                  0
                ],
                "parentId": "Nigeria"
              },
              {
                "id": "CPT",
                "properties": {
                  "label": "Cape Town",
                  "passengers": 5000000,
                  "country": "South Africa"
                },
                "coordinates": [
                  -33.969444,
                  18.597222
                ],
                "styles": {},
                "label": "Cape Town",
                "scale_factor": 1,
                "size": [
                  55,
                  55
                ],
                "position": [
                  0,
                  0
                ],
                "parentId": "South Africa"
              },
              {
                "id": "CTU",
                "properties": {
                  "label": "Chengdu",
                  "passengers": 40000000,
                  "country": "China"
                },
                "coordinates": [
                  30.578333,
                  103.946944
                ],
                "styles": {},
                "label": "Chengdu",
                "scale_factor": 1,
                "size": [
                  55,
                  55
                ],
                "position": [
                  0,
                  0
                ],
                "parentId": "China"
              },
              {
                "id": "CGK",
                "properties": {
                  "label": "Jakarta",
                  "passengers": 54000000,
                  "country": "Indonesia"
                },
                "coordinates": [
                  -6.125567,
                  106.655897
                ],
                "styles": {},
                "label": "Jakarta",
                "scale_factor": 1,
                "size": [
                  55,
                  55
                ],
                "position": [
                  0,
                  0
                ],
                "parentId": "Indonesia"
              },
              {
                "id": "IKA",
                "properties": {
                  "label": "Teheran",
                  "passengers": 8000000,
                  "country": "Iran"
                },
                "coordinates": [
                  35.416111,
                  51.152222
                ],
                "styles": {},
                "label": "Teheran",
                "scale_factor": 1,
                "size": [
                  55,
                  55
                ],
                "position": [
                  0,
                  0
                ],
                "parentId": "Iran"
              },
              {
                "id": "TLV",
                "properties": {
                  "label": "Tel Aviv",
                  "passengers": 20000000,
                  "country": "Israel"
                },
                "coordinates": [
                  32.011389,
                  34.886667
                ],
                "styles": {},
                "label": "Tel Aviv",
                "scale_factor": 1,
                "size": [
                  55,
                  55
                ],
                "position": [
                  0,
                  0
                ],
                "parentId": "Israel"
              },
              {
                "id": "KUL",
                "properties": {
                  "label": "Kuala Lumpur",
                  "passengers": 25000000,
                  "country": "Malaysia"
                },
                "coordinates": [
                  2.745578,
                  101.709917
                ],
                "styles": {},
                "label": "Kuala Lumpur",
                "scale_factor": 1,
                "size": [
                  55,
                  55
                ],
                "position": [
                  0,
                  0
                ],
                "parentId": "Malaysia"
              },
              {
                "id": "MNL",
                "properties": {
                  "label": "Manila",
                  "passengers": 8000000,
                  "country": "Philippines"
                },
                "coordinates": [
                  14.508647,
                  121.019581
                ],
                "styles": {},
                "label": "Manila",
                "scale_factor": 1,
                "size": [
                  55,
                  55
                ],
                "position": [
                  0,
                  0
                ],
                "parentId": "Philippines"
              },
              {
                "id": "SIN",
                "properties": {
                  "label": "Singapur",
                  "passengers": 32000000,
                  "country": "Singapore"
                },
                "coordinates": [
                  1.350189,
                  103.994433
                ],
                "styles": {},
                "label": "Singapur",
                "scale_factor": 1,
                "size": [
                  55,
                  55
                ],
                "position": [
                  0,
                  0
                ],
                "parentId": "Singapore"
              },
              {
                "id": "TPE",
                "properties": {
                  "label": "Taipeh",
                  "passengers": 800000,
                  "country": "Taiwan"
                },
                "coordinates": [
                  25.077732,
                  121.232822
                ],
                "styles": {},
                "label": "Taipeh",
                "scale_factor": 1,
                "size": [
                  55,
                  55
                ],
                "position": [
                  0,
                  0
                ],
                "parentId": "Taiwan"
              },
              {
                "id": "BKK",
                "properties": {
                  "label": "Bangkok",
                  "passengers": 65000000,
                  "country": "Thailand"
                },
                "coordinates": [
                  13.681108,
                  100.747283
                ],
                "styles": {},
                "label": "Bangkok",
                "scale_factor": 1,
                "size": [
                  55,
                  55
                ],
                "position": [
                  0,
                  0
                ],
                "parentId": "Thailand"
              },
              {
                "id": "IST",
                "properties": {
                  "label": "Istanbul",
                  "passengers": 64000000,
                  "country": "Turkey"
                },
                "coordinates": [
                  40.976922,
                  28.814606
                ],
                "styles": {},
                "label": "Istanbul",
                "scale_factor": 1,
                "size": [
                  55,
                  55
                ],
                "position": [
                  0,
                  0
                ],
                "parentId": "Turkey"
              },
              {
                "id": "ULN",
                "properties": {
                  "label": "Ulaanbaatar",
                  "passengers": 1000000,
                  "country": "Mongolia"
                },
                "coordinates": [
                  47.843056,
                  106.766639
                ],
                "styles": {},
                "label": "Ulaanbaatar",
                "scale_factor": 1,
                "size": [
                  55,
                  55
                ],
                "position": [
                  0,
                  0
                ],
                "parentId": "Mongolia"
              },
              {
                "id": "MEL",
                "properties": {
                  "label": "Melbourne",
                  "passengers": 12000000,
                  "country": "Australia"
                },
                "coordinates": [
                  -37.673333,
                  144.843333
                ],
                "styles": {},
                "label": "Melbourne",
                "scale_factor": 1,
                "size": [
                  55,
                  55
                ],
                "position": [
                  0,
                  0
                ],
                "parentId": "Australia"
              },
              {
                "id": "BNE",
                "properties": {
                  "label": "Brisbane",
                  "passengers": 23000000,
                  "country": "Australia"
                },
                "coordinates": [
                  -27.383333,
                  153.118056
                ],
                "styles": {},
                "label": "Brisbane",
                "scale_factor": 1,
                "size": [
                  55,
                  55
                ],
                "position": [
                  0,
                  0
                ],
                "parentId": "Australia"
              },
              {
                "id": "NAN",
                "properties": {
                  "label": "Nadi",
                  "passengers": 2000000,
                  "country": "Fiji"
                },
                "coordinates": [
                  -17.755392,
                  177.443378
                ],
                "styles": {},
                "label": "Nadi",
                "scale_factor": 1,
                "size": [
                  55,
                  55
                ],
                "position": [
                  0,
                  0
                ],
                "parentId": "Fiji"
              },
              {
                "id": "AKL",
                "properties": {
                  "label": "Auckland",
                  "passengers": 21000000,
                  "country": "New Zealand"
                },
                "coordinates": [
                  -37.008056,
                  174.791667
                ],
                "styles": {},
                "label": "Auckland",
                "scale_factor": 1,
                "size": [
                  55,
                  55
                ],
                "position": [
                  0,
                  0
                ],
                "parentId": "New Zealand"
              },
              {
                "id": "CDG",
                "properties": {
                  "label": "Paris",
                  "passengers": 57000000,
                  "country": "France"
                },
                "coordinates": [
                  49.009722,
                  2.547778
                ],
                "styles": {},
                "label": "Paris",
                "scale_factor": 1,
                "size": [
                  55,
                  55
                ],
                "position": [
                  0,
                  0
                ],
                "parentId": "France"
              },
              {
                "id": "MAD",
                "properties": {
                  "label": "Madrid",
                  "passengers": 50000000,
                  "country": "Spain"
                },
                "coordinates": [
                  40.4675,
                  -3.551944
                ],
                "styles": {},
                "label": "Madrid",
                "scale_factor": 1,
                "size": [
                  55,
                  55
                ],
                "position": [
                  0,
                  0
                ],
                "parentId": "Spain"
              },
              {
                "id": "BCN",
                "properties": {
                  "label": "Barcelona",
                  "passengers": 41000000,
                  "country": "Spain"
                },
                "coordinates": [
                  41.297078,
                  2.078464
                ],
                "styles": {},
                "label": "Barcelona",
                "scale_factor": 1,
                "size": [
                  55,
                  55
                ],
                "position": [
                  0,
                  0
                ],
                "parentId": "Spain"
              },
              {
                "id": "FCO",
                "properties": {
                  "label": "Rome",
                  "passengers": 29000000,
                  "country": "Italy"
                },
                "coordinates": [
                  41.804444,
                  12.250833
                ],
                "styles": {},
                "label": "Rome",
                "scale_factor": 1,
                "size": [
                  55,
                  55
                ],
                "position": [
                  0,
                  0
                ],
                "parentId": "Italy"
              },
              {
                "id": "CPH",
                "properties": {
                  "label": "Copenhagen",
                  "passengers": 30000000,
                  "country": "Denmark"
                },
                "coordinates": [
                  55.617917,
                  12.655972
                ],
                "styles": {},
                "label": "Copenhagen",
                "scale_factor": 1,
                "size": [
                  55,
                  55
                ],
                "position": [
                  0,
                  0
                ],
                "parentId": "Denmark"
              },
              {
                "id": "HEL",
                "properties": {
                  "label": "Helsinki",
                  "passengers": 5000000,
                  "country": "Finland"
                },
                "coordinates": [
                  60.317222,
                  24.963333
                ],
                "styles": {},
                "label": "Helsinki",
                "scale_factor": 1,
                "size": [
                  55,
                  55
                ],
                "position": [
                  0,
                  0
                ],
                "parentId": "Finland"
              },
              {
                "id": "ATH",
                "properties": {
                  "label": "Athens",
                  "passengers": 22000000,
                  "country": "Greece"
                },
                "coordinates": [
                  37.936358,
                  23.944467
                ],
                "styles": {},
                "label": "Athens",
                "scale_factor": 1,
                "size": [
                  55,
                  55
                ],
                "position": [
                  0,
                  0
                ],
                "parentId": "Greece"
              },
              {
                "id": "DUB",
                "properties": {
                  "label": "Dublin",
                  "passengers": 32000000,
                  "country": "Ireland"
                },
                "coordinates": [
                  53.421333,
                  -6.270075
                ],
                "styles": {},
                "label": "Dublin",
                "scale_factor": 1,
                "size": [
                  55,
                  55
                ],
                "position": [
                  0,
                  0
                ],
                "parentId": "Ireland"
              },
              {
                "id": "RKV",
                "properties": {
                  "label": "Reykjavik",
                  "passengers": 400000,
                  "country": "Iceland"
                },
                "coordinates": [
                  64.13,
                  -21.940556
                ],
                "styles": {},
                "label": "Reykjavik",
                "scale_factor": 1,
                "size": [
                  55,
                  55
                ],
                "position": [
                  0,
                  0
                ],
                "parentId": "Iceland"
              },
              {
                "id": "OSL",
                "properties": {
                  "label": "Oslo",
                  "passengers": 9000000,
                  "country": "Norway"
                },
                "coordinates": [
                  60.193917,
                  11.100361
                ],
                "styles": {},
                "label": "Oslo",
                "scale_factor": 1,
                "size": [
                  55,
                  55
                ],
                "position": [
                  0,
                  0
                ],
                "parentId": "Norway"
              },
              {
                "id": "VIE",
                "properties": {
                  "label": "Vienna",
                  "passengers": 10000000,
                  "country": "Austria"
                },
                "coordinates": [
                  48.110833,
                  16.570833
                ],
                "styles": {},
                "label": "Vienna",
                "scale_factor": 1,
                "size": [
                  55,
                  55
                ],
                "position": [
                  0,
                  0
                ],
                "parentId": "Austria"
              },
              {
                "id": "LIS",
                "properties": {
                  "label": "Lisbon",
                  "passengers": 28000000,
                  "country": "Portugal"
                },
                "coordinates": [
                  38.774167,
                  -9.134167
                ],
                "styles": {},
                "label": "Lisbon",
                "scale_factor": 1,
                "size": [
                  55,
                  55
                ],
                "position": [
                  0,
                  0
                ],
                "parentId": "Portugal"
              },
              {
                "id": "ARN",
                "properties": {
                  "label": "Stockholm",
                  "passengers": 7000000,
                  "country": "Sweden"
                },
                "coordinates": [
                  59.651944,
                  17.918611
                ],
                "styles": {},
                "label": "Stockholm",
                "scale_factor": 1,
                "size": [
                  55,
                  55
                ],
                "position": [
                  0,
                  0
                ],
                "parentId": "Sweden"
              },
              {
                "id": "EDI",
                "properties": {
                  "label": "Edinburgh",
                  "passengers": 14000000,
                  "country": "UK"
                },
                "coordinates": [
                  55.95,
                  -3.3725
                ],
                "styles": {},
                "label": "Edinburgh",
                "scale_factor": 1,
                "size": [
                  55,
                  55
                ],
                "position": [
                  0,
                  0
                ],
                "parentId": "UK"
              },
              {
                "id": "ORD",
                "properties": {
                  "label": "Chicago",
                  "passengers": 54000000,
                  "country": "USA"
                },
                "coordinates": [
                  41.978603,
                  -87.904842
                ],
                "styles": {},
                "label": "Chicago",
                "scale_factor": 1,
                "size": [
                  55,
                  55
                ],
                "position": [
                  0,
                  0
                ],
                "parentId": "USA"
              },
              {
                "id": "DFW",
                "properties": {
                  "label": "Dallas",
                  "passengers": 73000000,
                  "country": "USA"
                },
                "coordinates": [
                  32.896828,
                  -97.037997
                ],
                "styles": {},
                "label": "Dallas",
                "scale_factor": 1,
                "size": [
                  55,
                  55
                ],
                "position": [
                  0,
                  0
                ],
                "parentId": "USA"
              },
              {
                "id": "SFO",
                "properties": {
                  "label": "San Francisco",
                  "passengers": 42000000,
                  "country": "USA"
                },
                "coordinates": [
                  37.618972,
                  -122.374889
                ],
                "styles": {},
                "label": "San Francisco",
                "scale_factor": 1,
                "size": [
                  55,
                  55
                ],
                "position": [
                  0,
                  0
                ],
                "parentId": "USA"
              },
              {
                "id": "LAS",
                "properties": {
                  "label": "Las Vegas",
                  "passengers": 52000000,
                  "country": "USA"
                },
                "coordinates": [
                  36.080056,
                  -115.15225
                ],
                "styles": {},
                "label": "Las Vegas",
                "scale_factor": 1,
                "size": [
                  55,
                  55
                ],
                "position": [
                  0,
                  0
                ],
                "parentId": "USA"
              },
              {
                "id": "MIA",
                "properties": {
                  "label": "Miami",
                  "passengers": 50000000,
                  "country": "USA"
                },
                "coordinates": [
                  25.79325,
                  -80.290556
                ],
                "styles": {},
                "label": "Miami",
                "scale_factor": 1,
                "size": [
                  55,
                  55
                ],
                "position": [
                  0,
                  0
                ],
                "parentId": "USA"
              },
              {
                "id": "YYZ",
                "properties": {
                  "label": "Toronto",
                  "passengers": 12000000,
                  "country": "Canada"
                },
                "coordinates": [
                  43.677222,
                  -79.630556
                ],
                "styles": {},
                "label": "Toronto",
                "scale_factor": 1,
                "size": [
                  55,
                  55
                ],
                "position": [
                  0,
                  0
                ],
                "parentId": "Canada"
              },
              {
                "id": "YVR",
                "properties": {
                  "label": "Vancouver",
                  "passengers": 19000000,
                  "country": "Canada"
                },
                "coordinates": [
                  49.193889,
                  -123.184444
                ],
                "styles": {},
                "label": "Vancouver",
                "scale_factor": 1,
                "size": [
                  55,
                  55
                ],
                "position": [
                  0,
                  0
                ],
                "parentId": "Canada"
              },
              {
                "id": "YUL",
                "properties": {
                  "label": "Montreal",
                  "passengers": 15000000,
                  "country": "Canada"
                },
                "coordinates": [
                  45.47175,
                  -73.736569
                ],
                "styles": {},
                "label": "Montreal",
                "scale_factor": 1,
                "size": [
                  55,
                  55
                ],
                "position": [
                  0,
                  0
                ],
                "parentId": "Canada"
              },
              {
                "id": "MEX",
                "properties": {
                  "label": "Mexico-City",
                  "passengers": 46000000,
                  "country": "Mexico"
                },
                "coordinates": [
                  19.436303,
                  -99.072097
                ],
                "styles": {},
                "label": "Mexico-City",
                "scale_factor": 1,
                "size": [
                  55,
                  55
                ],
                "position": [
                  0,
                  0
                ],
                "parentId": "Mexico"
              },
              {
                "id": "GUA",
                "properties": {
                  "label": "Guatemala-City",
                  "passengers": 2000000,
                  "country": "Guatemala"
                },
                "coordinates": [
                  14.583272,
                  -90.527475
                ],
                "styles": {},
                "label": "Guatemala-City",
                "scale_factor": 1,
                "size": [
                  55,
                  55
                ],
                "position": [
                  0,
                  0
                ],
                "parentId": "Guatemala"
              },
              {
                "id": "EZE",
                "properties": {
                  "label": "Buenos Aires",
                  "passengers": 5000000,
                  "country": "Argentina"
                },
                "coordinates": [
                  -34.822222,
                  -58.535833
                ],
                "styles": {},
                "label": "Buenos Aires",
                "scale_factor": 1,
                "size": [
                  55,
                  55
                ],
                "position": [
                  0,
                  0
                ],
                "parentId": "Argentina"
              },
              {
                "id": "GRU",
                "properties": {
                  "label": "Sao Paulo",
                  "passengers": 34000000,
                  "country": "Brazil"
                },
                "coordinates": [
                  -23.432075,
                  -46.469511
                ],
                "styles": {},
                "label": "Sao Paulo",
                "scale_factor": 1,
                "size": [
                  55,
                  55
                ],
                "position": [
                  0,
                  0
                ],
                "parentId": "Brazil"
              },
              {
                "id": "SCL",
                "properties": {
                  "label": "Santiago de Chile",
                  "passengers": 20000000,
                  "country": "Chile"
                },
                "coordinates": [
                  -33.392975,
                  -70.785803
                ],
                "styles": {},
                "label": "Santiago de Chile",
                "scale_factor": 1,
                "size": [
                  55,
                  55
                ],
                "position": [
                  0,
                  0
                ],
                "parentId": "Chile"
              },
              {
                "id": "BSB",
                "properties": {
                  "label": "Brasilia",
                  "passengers": 13000000,
                  "country": "Brazil"
                },
                "coordinates": [
                  -15.871111,
                  -47.918611
                ],
                "styles": {},
                "label": "Brasilia",
                "scale_factor": 1,
                "size": [
                  55,
                  55
                ],
                "position": [
                  0,
                  0
                ],
                "parentId": "Brazil"
              },
              {
                "id": "BOG",
                "properties": {
                  "label": "Bogota",
                  "passengers": 36000000,
                  "country": "Colombia"
                },
                "coordinates": [
                  4.701594,
                  -74.146947
                ],
                "styles": {},
                "label": "Bogota",
                "scale_factor": 1,
                "size": [
                  55,
                  55
                ],
                "position": [
                  0,
                  0
                ],
                "parentId": "Colombia"
              },
              {
                "id": "CCS",
                "properties": {
                  "label": "Caracas",
                  "passengers": 8000000,
                  "country": "Venezuela"
                },
                "coordinates": [
                  10.601194,
                  -66.991222
                ],
                "styles": {},
                "label": "Caracas",
                "scale_factor": 1,
                "size": [
                  55,
                  55
                ],
                "position": [
                  0,
                  0
                ],
                "parentId": "Venezuela"
              },
              {
                "id": "USA",
                "properties": {
                  "label": "USA"
                },
                "color": "gray",
                "styles": {},
                "label": "USA",
                "scale_factor": 1,
                "type": "gray",
                "size": [
                  55,
                  55
                ],
                "position": [
                  0,
                  0
                ]
              },
              {
                "id": "Brazil",
                "properties": {
                  "label": "Brazil"
                },
                "color": "gray",
                "styles": {},
                "label": "Brazil",
                "scale_factor": 1,
                "type": "gray",
                "size": [
                  55,
                  55
                ],
                "position": [
                  0,
                  0
                ]
              },
              {
                "id": "Peru",
                "properties": {
                  "label": "Peru"
                },
                "color": "gray",
                "styles": {},
                "label": "Peru",
                "scale_factor": 1,
                "type": "gray",
                "size": [
                  55,
                  55
                ],
                "position": [
                  0,
                  0
                ]
              },
              {
                "id": "UK",
                "properties": {
                  "label": "UK"
                },
                "color": "gray",
                "styles": {},
                "label": "UK",
                "scale_factor": 1,
                "type": "gray",
                "size": [
                  55,
                  55
                ],
                "position": [
                  0,
                  0
                ]
              },
              {
                "id": "Germany",
                "properties": {
                  "label": "Germany"
                },
                "color": "gray",
                "styles": {},
                "label": "Germany",
                "scale_factor": 1,
                "type": "gray",
                "size": [
                  55,
                  55
                ],
                "position": [
                  0,
                  0
                ]
              },
              {
                "id": "Russia",
                "properties": {
                  "label": "Russia"
                },
                "color": "gray",
                "styles": {},
                "label": "Russia",
                "scale_factor": 1,
                "type": "gray",
                "size": [
                  55,
                  55
                ],
                "position": [
                  0,
                  0
                ]
              },
              {
                "id": "India",
                "properties": {
                  "label": "India"
                },
                "color": "gray",
                "styles": {},
                "label": "India",
                "scale_factor": 1,
                "type": "gray",
                "size": [
                  55,
                  55
                ],
                "position": [
                  0,
                  0
                ]
              },
              {
                "id": "China",
                "properties": {
                  "label": "China"
                },
                "color": "gray",
                "styles": {},
                "label": "China",
                "scale_factor": 1,
                "type": "gray",
                "size": [
                  55,
                  55
                ],
                "position": [
                  0,
                  0
                ]
              },
              {
                "id": "Japan",
                "properties": {
                  "label": "Japan"
                },
                "color": "gray",
                "styles": {},
                "label": "Japan",
                "scale_factor": 1,
                "type": "gray",
                "size": [
                  55,
                  55
                ],
                "position": [
                  0,
                  0
                ]
              },
              {
                "id": "UAE",
                "properties": {
                  "label": "UAE"
                },
                "color": "gray",
                "styles": {},
                "label": "UAE",
                "scale_factor": 1,
                "type": "gray",
                "size": [
                  55,
                  55
                ],
                "position": [
                  0,
                  0
                ]
              },
              {
                "id": "Senegal",
                "properties": {
                  "label": "Senegal"
                },
                "color": "gray",
                "styles": {},
                "label": "Senegal",
                "scale_factor": 1,
                "type": "gray",
                "size": [
                  55,
                  55
                ],
                "position": [
                  0,
                  0
                ]
              },
              {
                "id": "South Africa",
                "properties": {
                  "label": "South Africa"
                },
                "color": "gray",
                "styles": {},
                "label": "South Africa",
                "scale_factor": 1,
                "type": "gray",
                "size": [
                  55,
                  55
                ],
                "position": [
                  0,
                  0
                ]
              },
              {
                "id": "Australia",
                "properties": {
                  "label": "Australia"
                },
                "color": "gray",
                "styles": {},
                "label": "Australia",
                "scale_factor": 1,
                "type": "gray",
                "size": [
                  55,
                  55
                ],
                "position": [
                  0,
                  0
                ]
              },
              {
                "id": "Kenya",
                "properties": {
                  "label": "Kenya"
                },
                "color": "gray",
                "styles": {},
                "label": "Kenya",
                "scale_factor": 1,
                "type": "gray",
                "size": [
                  55,
                  55
                ],
                "position": [
                  0,
                  0
                ]
              },
              {
                "id": "Egypt",
                "properties": {
                  "label": "Egypt"
                },
                "color": "gray",
                "styles": {},
                "label": "Egypt",
                "scale_factor": 1,
                "type": "gray",
                "size": [
                  55,
                  55
                ],
                "position": [
                  0,
                  0
                ]
              },
              {
                "id": "Morocco",
                "properties": {
                  "label": "Morocco"
                },
                "color": "gray",
                "styles": {},
                "label": "Morocco",
                "scale_factor": 1,
                "type": "gray",
                "size": [
                  55,
                  55
                ],
                "position": [
                  0,
                  0
                ]
              },
              {
                "id": "Nigeria",
                "properties": {
                  "label": "Nigeria"
                },
                "color": "gray",
                "styles": {},
                "label": "Nigeria",
                "scale_factor": 1,
                "type": "gray",
                "size": [
                  55,
                  55
                ],
                "position": [
                  0,
                  0
                ]
              },
              {
                "id": "Indonesia",
                "properties": {
                  "label": "Indonesia"
                },
                "color": "gray",
                "styles": {},
                "label": "Indonesia",
                "scale_factor": 1,
                "type": "gray",
                "size": [
                  55,
                  55
                ],
                "position": [
                  0,
                  0
                ]
              },
              {
                "id": "Iran",
                "properties": {
                  "label": "Iran"
                },
                "color": "gray",
                "styles": {},
                "label": "Iran",
                "scale_factor": 1,
                "type": "gray",
                "size": [
                  55,
                  55
                ],
                "position": [
                  0,
                  0
                ]
              },
              {
                "id": "Israel",
                "properties": {
                  "label": "Israel"
                },
                "color": "gray",
                "styles": {},
                "label": "Israel",
                "scale_factor": 1,
                "type": "gray",
                "size": [
                  55,
                  55
                ],
                "position": [
                  0,
                  0
                ]
              },
              {
                "id": "Malaysia",
                "properties": {
                  "label": "Malaysia"
                },
                "color": "gray",
                "styles": {},
                "label": "Malaysia",
                "scale_factor": 1,
                "type": "gray",
                "size": [
                  55,
                  55
                ],
                "position": [
                  0,
                  0
                ]
              },
              {
                "id": "Philippines",
                "properties": {
                  "label": "Philippines"
                },
                "color": "gray",
                "styles": {},
                "label": "Philippines",
                "scale_factor": 1,
                "type": "gray",
                "size": [
                  55,
                  55
                ],
                "position": [
                  0,
                  0
                ]
              },
              {
                "id": "Singapore",
                "properties": {
                  "label": "Singapore"
                },
                "color": "gray",
                "styles": {},
                "label": "Singapore",
                "scale_factor": 1,
                "type": "gray",
                "size": [
                  55,
                  55
                ],
                "position": [
                  0,
                  0
                ]
              },
              {
                "id": "Taiwan",
                "properties": {
                  "label": "Taiwan"
                },
                "color": "gray",
                "styles": {},
                "label": "Taiwan",
                "scale_factor": 1,
                "type": "gray",
                "size": [
                  55,
                  55
                ],
                "position": [
                  0,
                  0
                ]
              },
              {
                "id": "Thailand",
                "properties": {
                  "label": "Thailand"
                },
                "color": "gray",
                "styles": {},
                "label": "Thailand",
                "scale_factor": 1,
                "type": "gray",
                "size": [
                  55,
                  55
                ],
                "position": [
                  0,
                  0
                ]
              },
              {
                "id": "Turkey",
                "properties": {
                  "label": "Turkey"
                },
                "color": "gray",
                "styles": {},
                "label": "Turkey",
                "scale_factor": 1,
                "type": "gray",
                "size": [
                  55,
                  55
                ],
                "position": [
                  0,
                  0
                ]
              },
              {
                "id": "Mongolia",
                "properties": {
                  "label": "Mongolia"
                },
                "color": "gray",
                "styles": {},
                "label": "Mongolia",
                "scale_factor": 1,
                "type": "gray",
                "size": [
                  55,
                  55
                ],
                "position": [
                  0,
                  0
                ]
              },
              {
                "id": "Fiji",
                "properties": {
                  "label": "Fiji"
                },
                "color": "gray",
                "styles": {},
                "label": "Fiji",
                "scale_factor": 1,
                "type": "gray",
                "size": [
                  55,
                  55
                ],
                "position": [
                  0,
                  0
                ]
              },
              {
                "id": "New Zealand",
                "properties": {
                  "label": "New Zealand"
                },
                "color": "gray",
                "styles": {},
                "label": "New Zealand",
                "scale_factor": 1,
                "type": "gray",
                "size": [
                  55,
                  55
                ],
                "position": [
                  0,
                  0
                ]
              },
              {
                "id": "France",
                "properties": {
                  "label": "France"
                },
                "color": "gray",
                "styles": {},
                "label": "France",
                "scale_factor": 1,
                "type": "gray",
                "size": [
                  55,
                  55
                ],
                "position": [
                  0,
                  0
                ]
              },
              {
                "id": "Spain",
                "properties": {
                  "label": "Spain"
                },
                "color": "gray",
                "styles": {},
                "label": "Spain",
                "scale_factor": 1,
                "type": "gray",
                "size": [
                  55,
                  55
                ],
                "position": [
                  0,
                  0
                ]
              },
              {
                "id": "Italy",
                "properties": {
                  "label": "Italy"
                },
                "color": "gray",
                "styles": {},
                "label": "Italy",
                "scale_factor": 1,
                "type": "gray",
                "size": [
                  55,
                  55
                ],
                "position": [
                  0,
                  0
                ]
              },
              {
                "id": "Denmark",
                "properties": {
                  "label": "Denmark"
                },
                "color": "gray",
                "styles": {},
                "label": "Denmark",
                "scale_factor": 1,
                "type": "gray",
                "size": [
                  55,
                  55
                ],
                "position": [
                  0,
                  0
                ]
              },
              {
                "id": "Finland",
                "properties": {
                  "label": "Finland"
                },
                "color": "gray",
                "styles": {},
                "label": "Finland",
                "scale_factor": 1,
                "type": "gray",
                "size": [
                  55,
                  55
                ],
                "position": [
                  0,
                  0
                ]
              },
              {
                "id": "Greece",
                "properties": {
                  "label": "Greece"
                },
                "color": "gray",
                "styles": {},
                "label": "Greece",
                "scale_factor": 1,
                "type": "gray",
                "size": [
                  55,
                  55
                ],
                "position": [
                  0,
                  0
                ]
              },
              {
                "id": "Ireland",
                "properties": {
                  "label": "Ireland"
                },
                "color": "gray",
                "styles": {},
                "label": "Ireland",
                "scale_factor": 1,
                "type": "gray",
                "size": [
                  55,
                  55
                ],
                "position": [
                  0,
                  0
                ]
              },
              {
                "id": "Iceland",
                "properties": {
                  "label": "Iceland"
                },
                "color": "gray",
                "styles": {},
                "label": "Iceland",
                "scale_factor": 1,
                "type": "gray",
                "size": [
                  55,
                  55
                ],
                "position": [
                  0,
                  0
                ]
              },
              {
                "id": "Norway",
                "properties": {
                  "label": "Norway"
                },
                "color": "gray",
                "styles": {},
                "label": "Norway",
                "scale_factor": 1,
                "type": "gray",
                "size": [
                  55,
                  55
                ],
                "position": [
                  0,
                  0
                ]
              },
              {
                "id": "Austria",
                "properties": {
                  "label": "Austria"
                },
                "color": "gray",
                "styles": {},
                "label": "Austria",
                "scale_factor": 1,
                "type": "gray",
                "size": [
                  55,
                  55
                ],
                "position": [
                  0,
                  0
                ]
              },
              {
                "id": "Portugal",
                "properties": {
                  "label": "Portugal"
                },
                "color": "gray",
                "styles": {},
                "label": "Portugal",
                "scale_factor": 1,
                "type": "gray",
                "size": [
                  55,
                  55
                ],
                "position": [
                  0,
                  0
                ]
              },
              {
                "id": "Sweden",
                "properties": {
                  "label": "Sweden"
                },
                "color": "gray",
                "styles": {},
                "label": "Sweden",
                "scale_factor": 1,
                "type": "gray",
                "size": [
                  55,
                  55
                ],
                "position": [
                  0,
                  0
                ]
              },
              {
                "id": "Canada",
                "properties": {
                  "label": "Canada"
                },
                "color": "gray",
                "styles": {},
                "label": "Canada",
                "scale_factor": 1,
                "type": "gray",
                "size": [
                  55,
                  55
                ],
                "position": [
                  0,
                  0
                ]
              },
              {
                "id": "Mexico",
                "properties": {
                  "label": "Mexico"
                },
                "color": "gray",
                "styles": {},
                "label": "Mexico",
                "scale_factor": 1,
                "type": "gray",
                "size": [
                  55,
                  55
                ],
                "position": [
                  0,
                  0
                ]
              },
              {
                "id": "Guatemala",
                "properties": {
                  "label": "Guatemala"
                },
                "color": "gray",
                "styles": {},
                "label": "Guatemala",
                "scale_factor": 1,
                "type": "gray",
                "size": [
                  55,
                  55
                ],
                "position": [
                  0,
                  0
                ]
              },
              {
                "id": "Argentina",
                "properties": {
                  "label": "Argentina"
                },
                "color": "gray",
                "styles": {},
                "label": "Argentina",
                "scale_factor": 1,
                "type": "gray",
                "size": [
                  55,
                  55
                ],
                "position": [
                  0,
                  0
                ]
              },
              {
                "id": "Chile",
                "properties": {
                  "label": "Chile"
                },
                "color": "gray",
                "styles": {},
                "label": "Chile",
                "scale_factor": 1,
                "type": "gray",
                "size": [
                  55,
                  55
                ],
                "position": [
                  0,
                  0
                ]
              },
              {
                "id": "Colombia",
                "properties": {
                  "label": "Colombia"
                },
                "color": "gray",
                "styles": {},
                "label": "Colombia",
                "scale_factor": 1,
                "type": "gray",
                "size": [
                  55,
                  55
                ],
                "position": [
                  0,
                  0
                ]
              },
              {
                "id": "Venezuela",
                "properties": {
                  "label": "Venezuela"
                },
                "color": "gray",
                "styles": {},
                "label": "Venezuela",
                "scale_factor": 1,
                "type": "gray",
                "size": [
                  55,
                  55
                ],
                "position": [
                  0,
                  0
                ]
              }
            ],
            "_overview": {
              "enabled": false,
              "overview_set": true
            },
            "_selected_graph": [
              [],
              []
            ],
            "_sidebar": {
              "enabled": false,
              "start_with": null
            },
            "_view_count": null,
            "_view_module": "yfiles-jupyter-graphs",
            "_view_module_version": "^1.8.1",
            "_view_name": "GraphView",
            "layout": "IPY_MODEL_3d83a711027745d7b822ce9bb103397e",
            "tabbable": null,
            "tooltip": null
          }
        },
        "3d83a711027745d7b822ce9bb103397e": {
          "model_module": "@jupyter-widgets/base",
          "model_name": "LayoutModel",
          "model_module_version": "2.0.0",
          "state": {
            "_model_module": "@jupyter-widgets/base",
            "_model_module_version": "2.0.0",
            "_model_name": "LayoutModel",
            "_view_count": null,
            "_view_module": "@jupyter-widgets/base",
            "_view_module_version": "2.0.0",
            "_view_name": "LayoutView",
            "align_content": null,
            "align_items": null,
            "align_self": null,
            "border_bottom": null,
            "border_left": null,
            "border_right": null,
            "border_top": null,
            "bottom": null,
            "display": null,
            "flex": null,
            "flex_flow": null,
            "grid_area": null,
            "grid_auto_columns": null,
            "grid_auto_flow": null,
            "grid_auto_rows": null,
            "grid_column": null,
            "grid_gap": null,
            "grid_row": null,
            "grid_template_areas": null,
            "grid_template_columns": null,
            "grid_template_rows": null,
            "height": "800px",
            "justify_content": null,
            "justify_items": null,
            "left": null,
            "margin": null,
            "max_height": null,
            "max_width": null,
            "min_height": null,
            "min_width": null,
            "object_fit": null,
            "object_position": null,
            "order": null,
            "overflow": null,
            "padding": null,
            "right": null,
            "top": null,
            "visibility": null,
            "width": "100%"
          }
        },
        "state": {}
      }
    }
  },
  "nbformat": 4,
  "nbformat_minor": 5
}