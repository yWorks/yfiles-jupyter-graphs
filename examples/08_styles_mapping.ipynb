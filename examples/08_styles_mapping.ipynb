{
  "cells": [
    {
      "cell_type": "markdown",
      "id": "eecc07af-a3c7-4106-83b3-4b3cf188bf00",
      "metadata": {
        "id": "eecc07af-a3c7-4106-83b3-4b3cf188bf00"
      },
      "source": [
        "# Node Styles Mapping <a target=\"_blank\" href=\"https://colab.research.google.com/github/yWorks/yfiles-jupyter-graphs/blob/main/examples/08_styles_mapping.ipynb\"><img src=\"https://colab.research.google.com/assets/colab-badge.svg\" alt=\"Open In Colab\"/></a>"
      ]
    },
    {
      "cell_type": "markdown",
      "id": "568394f4-3172-4727-bab4-7b185bbf3475",
      "metadata": {
        "id": "568394f4-3172-4727-bab4-7b185bbf3475"
      },
      "source": [
        "This notebook covers the basics of customizing [node styles](#Node-Styles-Mapping-Function) and [edge styles](#Edge-Styles-Mapping-function).\n",
        "\n",
        "For the purpose of mapping demonstrations, the same graph, ```erdos_renyi_graph```, will be used. For this, we will import the graph from the networkx database. \\\n",
        "For more details on how to import graph data, explore the other example notebooks or refer to the full widget [documentation](https://yworks.github.io/yfiles-jupyter-graphs/).\n",
        "\n",
        "Before using the graph widget, install all necessary packages."
      ]
    },
    {
      "cell_type": "code",
      "execution_count": 1,
      "id": "90ecbac8-b17b-4334-b047-90bf2c660789",
      "metadata": {
        "colab": {
          "base_uri": "https://localhost:8080/",
          "height": 86
        },
        "id": "90ecbac8-b17b-4334-b047-90bf2c660789",
        "outputId": "db3a5221-04f2-476e-f229-505f078bf712"
      },
      "outputs": [
        {
          "output_type": "stream",
          "name": "stdout",
          "text": [
            "\u001b[2K   \u001b[90m\u2501\u2501\u2501\u2501\u2501\u2501\u2501\u2501\u2501\u2501\u2501\u2501\u2501\u2501\u2501\u2501\u2501\u2501\u2501\u2501\u2501\u2501\u2501\u2501\u2501\u2501\u2501\u2501\u2501\u2501\u2501\u2501\u2501\u2501\u2501\u2501\u2501\u2501\u2501\u2501\u001b[0m \u001b[32m15.6/15.6 MB\u001b[0m \u001b[31m20.2 MB/s\u001b[0m eta \u001b[36m0:00:00\u001b[0m\n",
            "\u001b[2K   \u001b[90m\u2501\u2501\u2501\u2501\u2501\u2501\u2501\u2501\u2501\u2501\u2501\u2501\u2501\u2501\u2501\u2501\u2501\u2501\u2501\u2501\u2501\u2501\u2501\u2501\u2501\u2501\u2501\u2501\u2501\u2501\u2501\u2501\u2501\u2501\u2501\u2501\u2501\u2501\u2501\u2501\u001b[0m \u001b[32m139.8/139.8 kB\u001b[0m \u001b[31m9.6 MB/s\u001b[0m eta \u001b[36m0:00:00\u001b[0m\n",
            "\u001b[2K   \u001b[90m\u2501\u2501\u2501\u2501\u2501\u2501\u2501\u2501\u2501\u2501\u2501\u2501\u2501\u2501\u2501\u2501\u2501\u2501\u2501\u2501\u2501\u2501\u2501\u2501\u2501\u2501\u2501\u2501\u2501\u2501\u2501\u2501\u2501\u2501\u2501\u2501\u2501\u2501\u2501\u2501\u001b[0m \u001b[32m2.3/2.3 MB\u001b[0m \u001b[31m24.6 MB/s\u001b[0m eta \u001b[36m0:00:00\u001b[0m\n",
            "\u001b[2K   \u001b[90m\u2501\u2501\u2501\u2501\u2501\u2501\u2501\u2501\u2501\u2501\u2501\u2501\u2501\u2501\u2501\u2501\u2501\u2501\u2501\u2501\u2501\u2501\u2501\u2501\u2501\u2501\u2501\u2501\u2501\u2501\u2501\u2501\u2501\u2501\u2501\u2501\u2501\u2501\u2501\u2501\u001b[0m \u001b[32m1.6/1.6 MB\u001b[0m \u001b[31m31.5 MB/s\u001b[0m eta \u001b[36m0:00:00\u001b[0m\n",
            "\u001b[?25h"
          ]
        }
      ],
      "source": [
        "%pip install yfiles_jupyter_graphs --quiet\n",
        "from yfiles_jupyter_graphs import GraphWidget\n",
        "%pip install networkx --quiet\n",
        "from typing import Dict\n",
        "from networkx import erdos_renyi_graph\n",
        "from random import random, seed, choice\n",
        "seed(0)\n",
        "\n",
        "g = erdos_renyi_graph(10, 0.3, 2)\n",
        "w = GraphWidget(graph=g)"
      ]
    },
    {
      "cell_type": "markdown",
      "id": "77fabc96-6d28-4236-a7e7-43947de3ea9c",
      "metadata": {
        "id": "77fabc96-6d28-4236-a7e7-43947de3ea9c"
      },
      "source": [
        "You can also open this notebook in Google Colab when Google Colab's custom widget manager is enabled:"
      ]
    },
    {
      "cell_type": "code",
      "execution_count": 2,
      "id": "193f755e-f9bc-4e02-ba8d-12b58b060073",
      "metadata": {
        "id": "193f755e-f9bc-4e02-ba8d-12b58b060073"
      },
      "outputs": [],
      "source": [
        "try:\n",
        "  import google.colab\n",
        "  from google.colab import output\n",
        "  output.enable_custom_widget_manager()\n",
        "except:\n",
        "  pass"
      ]
    },
    {
      "cell_type": "markdown",
      "id": "2de88426-f109-447a-ac84-6bff394d9d8c",
      "metadata": {
        "id": "2de88426-f109-447a-ac84-6bff394d9d8c"
      },
      "source": [
        "<a target=\"_blank\" href=\"https://colab.research.google.com/github/yWorks/yfiles-jupyter-graphs/blob/main/examples/08_styles_mapping.ipynb\"><img src=\"https://colab.research.google.com/assets/colab-badge.svg\" alt=\"Open In Colab\"/></a>"
      ]
    },
    {
      "cell_type": "markdown",
      "id": "398a965a-f48f-44bd-abf3-80881bbc0b10",
      "metadata": {
        "id": "398a965a-f48f-44bd-abf3-80881bbc0b10"
      },
      "source": [
        "This is the graph we will be using:"
      ]
    },
    {
      "cell_type": "code",
      "execution_count": 3,
      "id": "89d498d9-36c7-4b5d-9306-118bfbd23ed1",
      "metadata": {
        "colab": {
          "base_uri": "https://localhost:8080/",
          "height": 517,
          "referenced_widgets": [
            "6b6978c055794758aacdfe90d1a77069",
            "dbfa522744454f5686c29b9a79fae9bf"
          ]
        },
        "id": "89d498d9-36c7-4b5d-9306-118bfbd23ed1",
        "outputId": "6c8fd7f2-8cea-4436-a418-10d4f6aa3799"
      },
      "outputs": [
        {
          "output_type": "display_data",
          "data": {
            "text/plain": [
              "GraphWidget(layout=Layout(height='500px', width='100%'))"
            ],
            "application/vnd.jupyter.widget-view+json": {
              "version_major": 2,
              "version_minor": 0,
              "model_id": "6b6978c055794758aacdfe90d1a77069"
            }
          },
          "metadata": {
            "application/vnd.jupyter.widget-view+json": {
              "colab": {
                "custom_widget_manager": {
                  "url": "https://ssl.gstatic.com/colaboratory-static/widgets/colab-cdn-widget-manager/2b70e893a8ba7c0f/manager.min.js"
                }
              }
            }
          }
        }
      ],
      "source": [
        "display(w)"
      ]
    },
    {
      "cell_type": "markdown",
      "id": "db627c1c-f274-49e7-bc20-430cca14648c",
      "metadata": {
        "id": "db627c1c-f274-49e7-bc20-430cca14648c"
      },
      "source": [
        "## Node Styles Mapping Function\n",
        "\n",
        "The node styles mapping is a function that is supposed to return a dictionary of style properties for each given node object which is then used in the widget. Optionally, the index can be used as the first function parameter.\n",
        "\n",
        "The following node style properties are available:\n",
        "<dl>\n",
        "    <dt>\"color\": str</dt>\n",
        "    <dd>CSS color value.</dd>\n",
        "    <dt>\"shape\": str</dt>\n",
        "    <dd>The shape of the node.<br>One of: 'ellipse', 'hexagon', 'hexagon2', 'octagon', 'pill', 'rectangle', 'round-rectangle' or 'triangle'.</dd>\n",
        "    <dt>\"image\": str</dt>\n",
        "    <dd>Url or data URL of the image.</dd>\n",
        "</dl>\n",
        "\n",
        "### Custom node mappings\n",
        "\n",
        "There are get and set methods for each customizable node property.\n",
        "- you can set a new node mapping with ```w.set_node_[binding]_mapping```\n",
        "- you can get the current node mapping with ```w.get_node_[binding]_mapping```\n",
        "- you can delete a custom node mapping with ```w.del_node_[binding]_mapping```\n",
        "\n",
        "You can find more details in the dedicated function documentation, available at ```w.[function_name].__doc__``` or in the [documentation](https://yworks.github.io/yfiles-jupyter-graphs/02_graph_widget/#methods).\n",
        "\n",
        "If no style mapping is set, the default mapping is used."
      ]
    },
    {
      "cell_type": "code",
      "execution_count": 4,
      "id": "365ca4b5-2c1d-44d4-8e8b-c564fc1384ac",
      "metadata": {
        "colab": {
          "base_uri": "https://localhost:8080/"
        },
        "id": "365ca4b5-2c1d-44d4-8e8b-c564fc1384ac",
        "outputId": "28c575e4-bb8b-4b52-a108-29781641c28d"
      },
      "outputs": [
        {
          "output_type": "stream",
          "name": "stdout",
          "text": [
            "The default styles mapping for nodes.\n",
            "\n",
            "        Parameters\n",
            "        ----------\n",
            "        index: int (optional)\n",
            "        node: typing.Dict\n",
            "\n",
            "        Notes\n",
            "        -----\n",
            "        This is the default value for the `node_styles_mapping` property.\n",
            "        Can be 'overwritten' by setting the property\n",
            "        with a function of the same signature.\n",
            "\n",
            "        If the given mapping function has only one parameter (that is not typed as int),\n",
            "        then it will be called with the element (typing.Dict) as first parameter.\n",
            "\n",
            "        Example\n",
            "        -------\n",
            "        .. code::\n",
            "\n",
            "           from yfiles_jupyter_graphs import GraphWidget\n",
            "           w = GraphWidget()\n",
            "           def custom_node_styles_mapping(node: typing.Dict):\n",
            "           ...\n",
            "           w.set_node_styles_mapping(custom_node_styles_mapping)\n",
            "\n",
            "        Returns\n",
            "        -------\n",
            "        \n",
            "        styles: typing.Dict\n",
            "            can contain the following key-value-pairs:\n",
            "                \"color\": str\n",
            "                    CSS color value.\n",
            "                \"shape\": str\n",
            "                    The shape of the node. Possible values: 'ellipse', 'hexagon', 'hexagon2', 'octagon', 'pill', 'rectangle', 'round-rectangle' or 'triangle'.\n",
            "                \"image\": str\n",
            "                    Url or data URL of the image.\n",
            "\n",
            "        References\n",
            "        ----------\n",
            "        css color value <https://developer.mozilla.org/en-US/docs/Web/CSS/color_value>\n",
            "\n",
            "        Data URL <https://developer.mozilla.org/en-US/docs/Web/HTTP/Basics_of_HTTP/Data_URLs>\n",
            "\n",
            "        \n"
          ]
        }
      ],
      "source": [
        "print(w.node_styles_mapping.__doc__)"
      ]
    },
    {
      "cell_type": "code",
      "execution_count": 5,
      "id": "9870a144-9afa-4be5-98f6-c8dbf2c6da71",
      "metadata": {
        "colab": {
          "base_uri": "https://localhost:8080/",
          "height": 187
        },
        "id": "9870a144-9afa-4be5-98f6-c8dbf2c6da71",
        "outputId": "739e0b5e-8c2c-4450-bf69-0be4dcdd4e31"
      },
      "outputs": [
        {
          "output_type": "execute_result",
          "data": {
            "text/plain": [
              "<function yfiles_jupyter_graphs.widget.GraphWidget.default_node_styles_mapping(index: int, node: Dict)>"
            ],
            "text/html": [
              "<div style=\"max-width:800px; border: 1px solid var(--colab-border-color);\"><style>\n",
              "      pre.function-repr-contents {\n",
              "        overflow-x: auto;\n",
              "        padding: 8px 12px;\n",
              "        max-height: 500px;\n",
              "      }\n",
              "\n",
              "      pre.function-repr-contents.function-repr-contents-collapsed {\n",
              "        cursor: pointer;\n",
              "        max-height: 100px;\n",
              "      }\n",
              "    </style>\n",
              "    <pre style=\"white-space: initial; background:\n",
              "         var(--colab-secondary-surface-color); padding: 8px 12px;\n",
              "         border-bottom: 1px solid var(--colab-border-color);\"><b>yfiles_jupyter_graphs.widget.GraphWidget.default_node_styles_mapping</b><br/>def default_node_styles_mapping(index: int, node: TDict)</pre><pre class=\"function-repr-contents function-repr-contents-collapsed\" style=\"\"><a class=\"filepath\" style=\"display:none\" href=\"#\">/usr/local/lib/python3.10/dist-packages/yfiles_jupyter_graphs/widget.py</a>The default styles mapping for nodes.\n",
              "\n",
              "Parameters\n",
              "----------\n",
              "index: int (optional)\n",
              "node: typing.Dict\n",
              "\n",
              "Notes\n",
              "-----\n",
              "This is the default value for the `node_styles_mapping` property.\n",
              "Can be &#x27;overwritten&#x27; by setting the property\n",
              "with a function of the same signature.\n",
              "\n",
              "If the given mapping function has only one parameter (that is not typed as int),\n",
              "then it will be called with the element (typing.Dict) as first parameter.\n",
              "\n",
              "Example\n",
              "-------\n",
              ".. code::\n",
              "\n",
              "   from yfiles_jupyter_graphs import GraphWidget\n",
              "   w = GraphWidget()\n",
              "   def custom_node_styles_mapping(node: typing.Dict):\n",
              "   ...\n",
              "   w.set_node_styles_mapping(custom_node_styles_mapping)\n",
              "\n",
              "Returns\n",
              "-------\n",
              "\n",
              "styles: typing.Dict\n",
              "    can contain the following key-value-pairs:\n",
              "        &quot;color&quot;: str\n",
              "            CSS color value.\n",
              "        &quot;shape&quot;: str\n",
              "            The shape of the node. Possible values: &#x27;ellipse&#x27;, &#x27;hexagon&#x27;, &#x27;hexagon2&#x27;, &#x27;octagon&#x27;, &#x27;pill&#x27;, &#x27;rectangle&#x27;, &#x27;round-rectangle&#x27; or &#x27;triangle&#x27;.\n",
              "        &quot;image&quot;: str\n",
              "            Url or data URL of the image.\n",
              "\n",
              "References\n",
              "----------\n",
              "css color value &lt;https://developer.mozilla.org/en-US/docs/Web/CSS/color_value&gt;\n",
              "\n",
              "Data URL &lt;https://developer.mozilla.org/en-US/docs/Web/HTTP/Basics_of_HTTP/Data_URLs&gt;</pre>\n",
              "      <script>\n",
              "      if (google.colab.kernel.accessAllowed && google.colab.files && google.colab.files.view) {\n",
              "        for (const element of document.querySelectorAll('.filepath')) {\n",
              "          element.style.display = 'block'\n",
              "          element.onclick = (event) => {\n",
              "            event.preventDefault();\n",
              "            event.stopPropagation();\n",
              "            google.colab.files.view(element.textContent, 1632);\n",
              "          };\n",
              "        }\n",
              "      }\n",
              "      for (const element of document.querySelectorAll('.function-repr-contents')) {\n",
              "        element.onclick = (event) => {\n",
              "          event.preventDefault();\n",
              "          event.stopPropagation();\n",
              "          element.classList.toggle('function-repr-contents-collapsed');\n",
              "        };\n",
              "      }\n",
              "      </script>\n",
              "      </div>"
            ]
          },
          "metadata": {},
          "execution_count": 5
        }
      ],
      "source": [
        "w.get_node_styles_mapping()"
      ]
    },
    {
      "cell_type": "markdown",
      "id": "26d23e41-d42b-4248-b138-10460adc5916",
      "metadata": {
        "id": "26d23e41-d42b-4248-b138-10460adc5916"
      },
      "source": [
        "## Node Styles Mapping with 'shape' and 'color'\n",
        "\n",
        "First, change the node styles with a new random shape and a new random color"
      ]
    },
    {
      "cell_type": "code",
      "execution_count": 6,
      "id": "2b2c8788-b50f-43da-a646-93f1153f99af",
      "metadata": {
        "id": "2b2c8788-b50f-43da-a646-93f1153f99af"
      },
      "outputs": [],
      "source": [
        "nodes = w.get_nodes()\n",
        "node_shapes = [\"rectangle\", \"round-rectangle\", \"ellipse\", \"hexagon\", \"hexagon2\", \"octagon\", \"triangle\", \"pill\"]\n",
        "def custom_styles_mapping(node: Dict):\n",
        "    \"\"\"Select a shape and a random color for the node\"\"\"\n",
        "    return {\n",
        "        'shape': node_shapes[nodes.index(node) % len(node_shapes)],\n",
        "        'color': \"#\"+''.join([choice('0123456789abcdef') for j in range(6)])\n",
        "    }"
      ]
    },
    {
      "cell_type": "markdown",
      "id": "b5fa3218-3440-4fa9-861c-83b1e7fbca61",
      "metadata": {
        "id": "b5fa3218-3440-4fa9-861c-83b1e7fbca61"
      },
      "source": [
        "Let's change the node styles:"
      ]
    },
    {
      "cell_type": "code",
      "execution_count": 7,
      "id": "15c4086d-d686-4da2-a9af-ec50b5c0f292",
      "metadata": {
        "colab": {
          "base_uri": "https://localhost:8080/",
          "height": 104
        },
        "id": "15c4086d-d686-4da2-a9af-ec50b5c0f292",
        "outputId": "fed8503f-9f5a-4201-db38-c5d7afecb280"
      },
      "outputs": [
        {
          "output_type": "execute_result",
          "data": {
            "text/plain": [
              "<function __main__.custom_styles_mapping(node: Dict)>"
            ],
            "text/html": [
              "<div style=\"max-width:800px; border: 1px solid var(--colab-border-color);\"><style>\n",
              "      pre.function-repr-contents {\n",
              "        overflow-x: auto;\n",
              "        padding: 8px 12px;\n",
              "        max-height: 500px;\n",
              "      }\n",
              "\n",
              "      pre.function-repr-contents.function-repr-contents-collapsed {\n",
              "        cursor: pointer;\n",
              "        max-height: 100px;\n",
              "      }\n",
              "    </style>\n",
              "    <pre style=\"white-space: initial; background:\n",
              "         var(--colab-secondary-surface-color); padding: 8px 12px;\n",
              "         border-bottom: 1px solid var(--colab-border-color);\"><b>custom_styles_mapping</b><br/>def custom_styles_mapping(node: Dict)</pre><pre class=\"function-repr-contents function-repr-contents-collapsed\" style=\"\"><a class=\"filepath\" style=\"display:none\" href=\"#\">/content/&lt;ipython-input-6-c02293f588cf&gt;</a>Select a shape and a random color for the node</pre></div>"
            ]
          },
          "metadata": {},
          "execution_count": 7
        }
      ],
      "source": [
        "w.set_node_styles_mapping(custom_styles_mapping)\n",
        "w.get_node_styles_mapping()"
      ]
    },
    {
      "cell_type": "code",
      "execution_count": 8,
      "id": "950b2ab0-7865-43e6-8bc4-de58d0a9a702",
      "metadata": {
        "colab": {
          "base_uri": "https://localhost:8080/",
          "height": 517,
          "referenced_widgets": [
            "6b6978c055794758aacdfe90d1a77069",
            "dbfa522744454f5686c29b9a79fae9bf"
          ]
        },
        "id": "950b2ab0-7865-43e6-8bc4-de58d0a9a702",
        "outputId": "9b7e0838-3a64-4dbf-b21f-4f36e3d4e58d"
      },
      "outputs": [
        {
          "output_type": "display_data",
          "data": {
            "text/plain": [
              "GraphWidget(layout=Layout(height='500px', width='100%'))"
            ],
            "application/vnd.jupyter.widget-view+json": {
              "version_major": 2,
              "version_minor": 0,
              "model_id": "6b6978c055794758aacdfe90d1a77069"
            }
          },
          "metadata": {
            "application/vnd.jupyter.widget-view+json": {
              "colab": {
                "custom_widget_manager": {
                  "url": "https://ssl.gstatic.com/colaboratory-static/widgets/colab-cdn-widget-manager/2b70e893a8ba7c0f/manager.min.js"
                }
              }
            }
          }
        }
      ],
      "source": [
        "display(w)"
      ]
    },
    {
      "cell_type": "markdown",
      "id": "9e8b6f9c-35d4-4726-8247-779a851464e3",
      "metadata": {
        "id": "9e8b6f9c-35d4-4726-8247-779a851464e3"
      },
      "source": [
        "## Node Styles Mapping with 'image''\n",
        "\n",
        "Now we change the node styles by setting them as an image"
      ]
    },
    {
      "cell_type": "code",
      "execution_count": 9,
      "id": "9ccd8aa6-c69b-4385-bf88-392652874345",
      "metadata": {
        "id": "9ccd8aa6-c69b-4385-bf88-392652874345"
      },
      "outputs": [],
      "source": [
        "dataURI = \"data:image/svg+xml,%3C%3Fxml version='1.0' encoding='UTF-8'%3F%3E%3Csvg id='a' xmlns='http://www.w3.org/2000/svg' viewBox='0 0 88.66 93.76'%3E%3Cg id='b'%3E%3Cpath d='M0,37.41l.09,19.36c.04,9.83,5.33,18.89,13.87,23.77l16.81,9.6c8.54,4.88,19.03,4.83,27.52-.13l16.72-9.76c8.49-4.96,13.69-14.06,13.65-23.9l-.09-19.36c-.05-9.83-5.33-18.89-13.87-23.77L57.89,3.62c-8.54-4.88-19.03-4.83-27.52,.13L13.65,13.51C5.16,18.46-.05,27.57,0,37.41' fill='%23242265'/%3E%3Cg id='c'%3E%3Cg%3E%3Cpath d='M42.96,64.19c-.36,1.68-1.19,3.18-2.05,4.66-1.58,2.73-3.04,6.12-.89,9.02,1.71,2.31,5.08,2.85,7.48,1.19,2.92-2.03,2.76-5.81,1.24-8.65-.78-1.45-1.7-2.81-2.33-4.34-.69-1.67-.93-3.42-.97-5.22,0-.36,0-.73-.01-1.09h-2.11c0,1.48-.05,2.99-.36,4.43Z' fill='%23fff'/%3E%3Cpath d='M42.96,29.53c-.36-1.68-1.19-3.18-2.05-4.66-1.58-2.73-3.04-6.12-.89-9.02,1.71-2.31,5.08-2.85,7.48-1.19,2.92,2.03,2.76,5.81,1.24,8.65-.78,1.45-1.7,2.81-2.33,4.34-.69,1.67-.93,3.42-.97,5.22,0,.36,0,.73-.01,1.09h-2.11c0-1.48-.05-2.99-.36-4.43Z' fill='%23fff'/%3E%3Crect x='43.32' y='33.66' width='2.11' height='26.44' fill='%23fff'/%3E%3C/g%3E%3Cg%3E%3Cpath d='M30.07,56.75c-1.27,1.15-2.16,2.63-3.01,4.1-1.57,2.73-3.78,5.69-7.37,5.28-2.86-.32-5.01-2.97-4.77-5.88,.3-3.55,3.65-5.3,6.87-5.4,1.64-.05,3.28,.06,4.92-.15,1.8-.24,3.43-.9,5.01-1.77,.32-.18,.63-.35,.95-.53l1.05,1.83c-1.29,.73-2.56,1.54-3.65,2.53Z' fill='%23fff'/%3E%3Cpath d='M60.09,39.42c1.63-.53,3.35-.56,5.06-.55,3.15,0,6.82-.43,8.26-3.74,1.15-2.64-.07-5.83-2.71-7.07-3.22-1.52-6.41,.51-8.11,3.25-.87,1.4-1.58,2.87-2.59,4.19-1.1,1.44-2.5,2.52-4.04,3.45-.31,.19-.62,.37-.94,.55l1.05,1.83c1.28-.75,2.62-1.45,4.01-1.9Z' fill='%23fff'/%3E%3Crect x='43.3' y='33.65' width='2.11' height='26.44' transform='translate(25.94 108.72) rotate(-120)' fill='%23fff'/%3E%3C/g%3E%3Cg%3E%3Cpath d='M60.09,54.3c1.63,.53,3.35,.56,5.06,.55,3.15,0,6.82,.43,8.26,3.74,1.15,2.64-.07,5.83-2.71,7.07-3.22,1.52-6.41-.51-8.11-3.25-.87-1.4-1.58-2.87-2.59-4.19-1.1-1.44-2.5-2.52-4.04-3.45-.31-.19-.62-.37-.94-.55l1.05-1.83c1.28,.75,2.62,1.45,4.01,1.9Z' fill='%23fff'/%3E%3Cpath d='M30.07,36.97c-1.27-1.15-2.16-2.63-3.01-4.1-1.57-2.73-3.78-5.69-7.37-5.28-2.86,.32-5.01,2.97-4.77,5.88,.3,3.55,3.65,5.3,6.87,5.4,1.64,.05,3.28-.06,4.92,.15,1.8,.24,3.43,.9,5.01,1.77,.32,.18,.63,.35,.95,.53l1.05-1.83c-1.29-.73-2.56-1.54-3.65-2.53Z' fill='%23fff'/%3E%3Crect x='43.34' y='33.65' width='2.11' height='26.44' transform='translate(107.18 31.86) rotate(120)' fill='%23fff'/%3E%3C/g%3E%3Cg%3E%3Cpath d='M66.99,50.35c-.36,1.68-1.19,3.18-2.05,4.66-1.58,2.73-3.04,6.12-.89,9.02,1.71,2.31,5.08,2.85,7.48,1.19,2.92-2.03,2.76-5.81,1.24-8.65-.78-1.45-1.7-2.81-2.33-4.34-.69-1.67-.93-3.42-.97-5.22,0-.36,0-.73-.01-1.09h-2.11c0,1.48-.05,2.99-.36,4.43Z' fill='%23fff'/%3E%3Cpath d='M66.99,43.37c-.36-1.68-1.19-3.18-2.05-4.66-1.58-2.73-3.04-6.12-.89-9.02,1.71-2.31,5.08-2.85,7.48-1.19,2.92,2.03,2.76,5.81,1.24,8.65-.78,1.45-1.7,2.81-2.33,4.34-.69,1.67-.93,3.42-.97,5.22,0,.36,0,.73-.01,1.09h-2.11c0-1.48-.05-2.99-.36-4.43Z' fill='%23fff'/%3E%3C/g%3E%3Cg%3E%3Cpath d='M18.87,50.35c-.36,1.68-1.19,3.18-2.05,4.66-1.58,2.73-3.04,6.12-.89,9.02,1.71,2.31,5.08,2.85,7.48,1.19,2.92-2.03,2.76-5.81,1.24-8.65-.78-1.45-1.7-2.81-2.33-4.34-.69-1.67-.93-3.42-.97-5.22,0-.36,0-.73-.01-1.09h-2.11c0,1.48-.05,2.99-.36,4.43Z' fill='%23fff'/%3E%3Cpath d='M18.87,43.37c-.36-1.68-1.19-3.18-2.05-4.66-1.58-2.73-3.04-6.12-.89-9.02,1.71-2.31,5.08-2.85,7.48-1.19,2.92,2.03,2.76,5.81,1.24,8.65-.78,1.45-1.7,2.81-2.33,4.34-.69,1.67-.93,3.42-.97,5.22,0,.36,0,.73-.01,1.09h-2.11c0-1.48-.05-2.99-.36-4.43Z' fill='%23fff'/%3E%3C/g%3E%3Cg%3E%3Cpath d='M30.02,29.06c-1.27,1.15-2.16,2.63-3.01,4.1-1.57,2.73-3.78,5.69-7.37,5.28-2.86-.32-5.01-2.97-4.77-5.88,.3-3.55,3.65-5.3,6.87-5.4,1.64-.05,3.28,.06,4.92-.15,1.8-.24,3.43-.9,5.01-1.77,.32-.18,.63-.35,.95-.53l1.05,1.83c-1.29,.73-2.56,1.54-3.65,2.53Z' fill='%23fff'/%3E%3Cpath d='M36.06,25.58c1.63-.53,3.35-.56,5.06-.55,3.15,0,6.82-.43,8.26-3.74,1.15-2.64-.07-5.83-2.71-7.07-3.22-1.52-6.41,.51-8.11,3.25-.87,1.4-1.58,2.87-2.59,4.19-1.1,1.44-2.5,2.52-4.04,3.45-.31,.19-.62,.37-.94,.55l1.05,1.83c1.28-.75,2.62-1.45,4.01-1.9Z' fill='%23fff'/%3E%3C/g%3E%3Cg%3E%3Cpath d='M54.1,70.6c-1.27,1.15-2.16,2.63-3.01,4.1-1.57,2.73-3.78,5.69-7.37,5.28-2.86-.32-5.01-2.97-4.77-5.88,.3-3.55,3.65-5.3,6.87-5.4,1.64-.05,3.28,.06,4.92-.15,1.8-.24,3.43-.9,5.01-1.77,.32-.18,.63-.35,.95-.53l1.05,1.83c-1.29,.73-2.56,1.54-3.65,2.53Z' fill='%23fff'/%3E%3Cpath d='M60.14,67.12c1.63-.53,3.35-.56,5.06-.55,3.15,0,6.82-.43,8.26-3.74,1.15-2.64-.07-5.83-2.71-7.07-3.22-1.52-6.41,.51-8.11,3.25-.87,1.4-1.58,2.87-2.59,4.19-1.1,1.44-2.5,2.52-4.04,3.45-.31,.19-.62,.37-.94,.55l1.05,1.83c1.28-.75,2.62-1.45,4.01-1.9Z' fill='%23fff'/%3E%3C/g%3E%3Cg%3E%3Cpath d='M58.73,29.06c1.27,1.15,2.16,2.63,3.01,4.1,1.57,2.73,3.78,5.69,7.37,5.28,2.86-.32,5.01-2.97,4.77-5.88-.3-3.55-3.65-5.3-6.87-5.4-1.64-.05-3.28,.06-4.92-.15-1.8-.24-3.43-.9-5.01-1.77-.32-.18-.63-.35-.95-.53l-1.05,1.83c1.29,.73,2.56,1.54,3.65,2.53Z' fill='%23fff'/%3E%3Cpath d='M52.69,25.58c-1.63-.53-3.35-.56-5.06-.55-3.15,0-6.82-.43-8.26-3.74-1.15-2.64,.07-5.83,2.71-7.07,3.22-1.52,6.41,.51,8.11,3.25,.87,1.4,1.58,2.87,2.59,4.19,1.1,1.44,2.5,2.52,4.04,3.45,.31,.19,.62,.37,.94,.55l-1.05,1.83c-1.28-.75-2.62-1.45-4.01-1.9Z' fill='%23fff'/%3E%3C/g%3E%3Cg%3E%3Cpath d='M34.64,70.6c1.27,1.15,2.16,2.63,3.01,4.1,1.57,2.73,3.78,5.69,7.37,5.28,2.86-.32,5.01-2.97,4.77-5.88-.3-3.55-3.65-5.3-6.87-5.4-1.64-.05-3.28,.06-4.92-.15-1.8-.24-3.43-.9-5.01-1.77-.32-.18-.63-.35-.95-.53l-1.05,1.83c1.29,.73,2.56,1.54,3.65,2.53Z' fill='%23fff'/%3E%3Cpath d='M28.6,67.12c-1.63-.53-3.35-.56-5.06-.55-3.15,0-6.82-.43-8.26-3.74-1.15-2.64,.07-5.83,2.71-7.07,3.22-1.52,6.41,.51,8.11,3.25,.87,1.4,1.58,2.87,2.59,4.19,1.1,1.44,2.5,2.52,4.04,3.45,.31,.19,.62,.37,.94,.55l-1.05,1.83c-1.28-.75-2.62-1.45-4.01-1.9Z' fill='%23fff'/%3E%3C/g%3E%3Cg%3E%3Cg%3E%3Cpath d='M61.95,41.28c.53-1.63,.56-3.35,.55-5.06,0-3.15,.43-6.82,3.74-8.26,2.64-1.15,5.83,.07,7.07,2.71,1.52,3.22-.51,6.41-3.25,8.11-1.4,.87-2.87,1.58-4.19,2.59-1.44,1.1-2.52,2.5-3.45,4.04-.19,.31-.37,.62-.55,.94l-1.83-1.05c.75-1.28,1.45-2.62,1.9-4.01Z' fill='%23fff'/%3E%3Cpath d='M48.36,64.86c-1.15,1.27-2.63,2.16-4.1,3.01-2.73,1.57-5.69,3.78-5.28,7.37,.32,2.86,2.97,5.01,5.88,4.77,3.55-.3,5.3-3.65,5.4-6.87,.05-1.64-.06-3.28,.15-4.92,.24-1.8,.9-3.43,1.77-5.01,.18-.32,.35-.63,.53-.95l-1.83-1.05c-.73,1.29-1.54,2.56-2.53,3.65Z' fill='%23fff'/%3E%3Crect x='55.82' y='42.51' width='2.11' height='20.88' transform='translate(34.09 -21.34) rotate(30)' fill='%23fff'/%3E%3C/g%3E%3Cg%3E%3Cpath d='M26.79,41.28c-.53-1.63-.56-3.35-.55-5.06,0-3.15-.43-6.82-3.74-8.26-2.64-1.15-5.83,.07-7.07,2.71-1.52,3.22,.51,6.41,3.25,8.11,1.4,.87,2.87,1.58,4.19,2.59,1.44,1.1,2.52,2.5,3.45,4.04,.19,.31,.37,.62,.55,.94l1.83-1.05c-.75-1.28-1.45-2.62-1.9-4.01Z' fill='%23fff'/%3E%3Cpath d='M40.39,64.86c1.15,1.27,2.63,2.16,4.1,3.01,2.73,1.57,5.69,3.78,5.28,7.37-.32,2.86-2.97,5.01-5.88,4.77-3.55-.3-5.3-3.65-5.4-6.87-.05-1.64,.06-3.28-.15-4.92-.24-1.8-.9-3.43-1.77-5.01-.18-.32-.35-.63-.53-.95l1.83-1.05c.73,1.29,1.54,2.56,2.53,3.65Z' fill='%23fff'/%3E%3Crect x='30.82' y='42.51' width='2.11' height='20.88' transform='translate(85.95 82.86) rotate(150)' fill='%23fff'/%3E%3C/g%3E%3Cg%3E%3Cpath d='M57.96,34.4c1.68,.36,3.18,1.19,4.66,2.05,2.73,1.58,6.12,3.04,9.02,.89,2.31-1.71,2.85-5.08,1.19-7.48-2.03-2.92-5.81-2.76-8.65-1.24-1.45,.78-2.81,1.7-4.34,2.33-1.67,.69-3.42,.93-5.22,.97-.36,0-.73,0-1.09,.01v2.11c1.48,0,2.99,.05,4.43,.36Z' fill='%23fff'/%3E%3Cpath d='M30.75,34.39c-1.68,.36-3.18,1.19-4.66,2.05-2.73,1.58-6.12,3.04-9.02,.89-2.31-1.71-2.85-5.08-1.19-7.48,2.03-2.92,5.81-2.76,8.65-1.24,1.45,.78,2.81,1.7,4.34,2.33,1.67,.69,3.42,.93,5.22,.97,.36,0,.73,0,1.09,.01v2.11c-1.48,0-2.99,.05-4.43,.36Z' fill='%23fff'/%3E%3Crect x='44.26' y='22.53' width='2.11' height='20.88' transform='translate(12.35 78.29) rotate(-90)' fill='%23fff'/%3E%3C/g%3E%3C/g%3E%3Ccircle cx='44.37' cy='19.13' r='5.43' fill='%23fff'/%3E%3Ccircle cx='44.37' cy='74.59' r='5.43' fill='%23fff'/%3E%3Ccircle cx='68.39' cy='32.99' r='5.43' fill='%23fff'/%3E%3Ccircle cx='20.36' cy='60.72' r='5.43' fill='%23fff'/%3E%3Ccircle cx='20.36' cy='32.99' r='5.43' fill='%23fff'/%3E%3Ccircle cx='68.39' cy='60.72' r='5.43' fill='%23fff'/%3E%3C/g%3E%3C/g%3E%3C/svg%3E\""
      ]
    },
    {
      "cell_type": "code",
      "execution_count": 10,
      "id": "dff70d4c-ff48-4ff6-8ba3-ad4193b3adec",
      "metadata": {
        "id": "dff70d4c-ff48-4ff6-8ba3-ad4193b3adec"
      },
      "outputs": [],
      "source": [
        "w2 = GraphWidget(graph=g)\n",
        "\n",
        "def custom_styles_mapping_image(item: Dict):\n",
        "    if item['id'] % 2 == 0:\n",
        "        return {\n",
        "            'image': dataURI\n",
        "        }\n",
        "    else:\n",
        "        return {}"
      ]
    },
    {
      "cell_type": "markdown",
      "id": "263c96f8-126d-4383-a85d-d7bb4c09a14b",
      "metadata": {
        "id": "263c96f8-126d-4383-a85d-d7bb4c09a14b"
      },
      "source": [
        "Let's change the node styles to the image:"
      ]
    },
    {
      "cell_type": "code",
      "execution_count": 11,
      "id": "b599853f-5cc7-4725-a891-88e5acd7b40d",
      "metadata": {
        "colab": {
          "base_uri": "https://localhost:8080/",
          "height": 104
        },
        "id": "b599853f-5cc7-4725-a891-88e5acd7b40d",
        "outputId": "e71b65da-4543-449d-b6f1-c949ff2e83d3"
      },
      "outputs": [
        {
          "output_type": "execute_result",
          "data": {
            "text/plain": [
              "<function __main__.custom_styles_mapping_image(item: Dict)>"
            ],
            "text/html": [
              "<div style=\"max-width:800px; border: 1px solid var(--colab-border-color);\"><style>\n",
              "      pre.function-repr-contents {\n",
              "        overflow-x: auto;\n",
              "        padding: 8px 12px;\n",
              "        max-height: 500px;\n",
              "      }\n",
              "\n",
              "      pre.function-repr-contents.function-repr-contents-collapsed {\n",
              "        cursor: pointer;\n",
              "        max-height: 100px;\n",
              "      }\n",
              "    </style>\n",
              "    <pre style=\"white-space: initial; background:\n",
              "         var(--colab-secondary-surface-color); padding: 8px 12px;\n",
              "         border-bottom: 1px solid var(--colab-border-color);\"><b>custom_styles_mapping_image</b><br/>def custom_styles_mapping_image(item: Dict)</pre><pre class=\"function-repr-contents function-repr-contents-collapsed\" style=\"\"><a class=\"filepath\" style=\"display:none\" href=\"#\">/content/&lt;ipython-input-10-e9038942b571&gt;</a>&lt;no docstring&gt;</pre></div>"
            ]
          },
          "metadata": {},
          "execution_count": 11
        }
      ],
      "source": [
        "w2.set_node_styles_mapping(custom_styles_mapping_image)\n",
        "w2.get_node_styles_mapping()"
      ]
    },
    {
      "cell_type": "markdown",
      "id": "02079d78-6373-4789-b007-444d9ffcd659",
      "metadata": {
        "id": "02079d78-6373-4789-b007-444d9ffcd659"
      },
      "source": [
        "Note that you can inspect the styles property in the data tab by selecting a node."
      ]
    },
    {
      "cell_type": "code",
      "execution_count": 12,
      "id": "aabb11c1-e4cf-4ddc-890f-68c96e0d0115",
      "metadata": {
        "colab": {
          "base_uri": "https://localhost:8080/",
          "height": 517,
          "referenced_widgets": [
            "eb2ac9d3fd2e48a1b04edf9c14122d72",
            "4059d75b2da548d1a3213c594b0d9acb"
          ]
        },
        "id": "aabb11c1-e4cf-4ddc-890f-68c96e0d0115",
        "outputId": "02164f04-e121-4a8b-d4d2-b42b45e50e63"
      },
      "outputs": [
        {
          "output_type": "display_data",
          "data": {
            "text/plain": [
              "GraphWidget(layout=Layout(height='500px', width='100%'))"
            ],
            "application/vnd.jupyter.widget-view+json": {
              "version_major": 2,
              "version_minor": 0,
              "model_id": "eb2ac9d3fd2e48a1b04edf9c14122d72"
            }
          },
          "metadata": {
            "application/vnd.jupyter.widget-view+json": {
              "colab": {
                "custom_widget_manager": {
                  "url": "https://ssl.gstatic.com/colaboratory-static/widgets/colab-cdn-widget-manager/2b70e893a8ba7c0f/manager.min.js"
                }
              }
            }
          }
        }
      ],
      "source": [
        "display(w2)"
      ]
    },
    {
      "cell_type": "markdown",
      "id": "27fd6b08-ec37-46a0-9ebd-d9457cf83eb0",
      "metadata": {
        "id": "27fd6b08-ec37-46a0-9ebd-d9457cf83eb0"
      },
      "source": [
        " Note that the 'image' property can also be set to a url, but only if it allows cross-origin access:"
      ]
    },
    {
      "cell_type": "code",
      "execution_count": 13,
      "id": "de3e8a7d-d641-4cfd-8c3c-ee0cba130f53",
      "metadata": {
        "colab": {
          "base_uri": "https://localhost:8080/",
          "height": 517,
          "referenced_widgets": [
            "9ca3f197bcac4fe8a6a52f7b3f44492e",
            "90b838848ddc48ca8dd2c083740a0866"
          ]
        },
        "id": "de3e8a7d-d641-4cfd-8c3c-ee0cba130f53",
        "outputId": "1e91f90a-de76-4819-8a38-9b0bc4b692c9"
      },
      "outputs": [
        {
          "output_type": "display_data",
          "data": {
            "text/plain": [
              "GraphWidget(layout=Layout(height='500px', width='100%'))"
            ],
            "application/vnd.jupyter.widget-view+json": {
              "version_major": 2,
              "version_minor": 0,
              "model_id": "9ca3f197bcac4fe8a6a52f7b3f44492e"
            }
          },
          "metadata": {
            "application/vnd.jupyter.widget-view+json": {
              "colab": {
                "custom_widget_manager": {
                  "url": "https://ssl.gstatic.com/colaboratory-static/widgets/colab-cdn-widget-manager/2b70e893a8ba7c0f/manager.min.js"
                }
              }
            }
          }
        }
      ],
      "source": [
        "w3 = GraphWidget(graph=g)\n",
        "\n",
        "def custom_styles_mapping_image_url(item: Dict):\n",
        "    if item['id'] % 2 == 0:\n",
        "        return {\n",
        "            'image': 'https://gist.githubusercontent.com/fskpf/b5c5b765139056ddc7e72ea28d4f44e4/raw/f4483469a9d4f638a8acae39aa6adfd76b61f587/yfiles-jupyter-graphs-icon.svg'\n",
        "        }\n",
        "    else:\n",
        "        return {}\n",
        "\n",
        "w3.set_node_styles_mapping(custom_styles_mapping_image_url)\n",
        "display(w3)"
      ]
    },
    {
      "cell_type": "markdown",
      "id": "1af88e4b-8fd4-476f-a54c-405518744b20",
      "metadata": {
        "id": "1af88e4b-8fd4-476f-a54c-405518744b20"
      },
      "source": [
        "## Node Styles Mapping with 'image', 'shape' and 'color'\n",
        "If the styles property contains values for ```'image'```, but for ```'shape'``` or ```'color'``` as well, the former will be used for the nodes and ```'shape'``` and ```'color'``` will be ignored."
      ]
    },
    {
      "cell_type": "code",
      "execution_count": 14,
      "id": "26d87382-08af-4e4d-a8ca-f7ae77c7e86c",
      "metadata": {
        "colab": {
          "base_uri": "https://localhost:8080/",
          "height": 517,
          "referenced_widgets": [
            "207e58f92aea4b0baa219cf0ae9961a9",
            "926f742d91ff4c118ae611ded9d16716"
          ]
        },
        "id": "26d87382-08af-4e4d-a8ca-f7ae77c7e86c",
        "outputId": "61e05873-3f35-40a0-e4b7-917934588641"
      },
      "outputs": [
        {
          "output_type": "display_data",
          "data": {
            "text/plain": [
              "GraphWidget(layout=Layout(height='500px', width='100%'))"
            ],
            "application/vnd.jupyter.widget-view+json": {
              "version_major": 2,
              "version_minor": 0,
              "model_id": "207e58f92aea4b0baa219cf0ae9961a9"
            }
          },
          "metadata": {
            "application/vnd.jupyter.widget-view+json": {
              "colab": {
                "custom_widget_manager": {
                  "url": "https://ssl.gstatic.com/colaboratory-static/widgets/colab-cdn-widget-manager/2b70e893a8ba7c0f/manager.min.js"
                }
              }
            }
          }
        }
      ],
      "source": [
        "w4 = GraphWidget(graph=g)\n",
        "\n",
        "def custom_styles_mapping_image_shape_color(item: Dict):\n",
        "    return {\n",
        "        'shape': 'triangle',\n",
        "        'color': 'red',\n",
        "        'image': dataURI\n",
        "    }\n",
        "\n",
        "w4.set_node_styles_mapping(custom_styles_mapping_image_shape_color)\n",
        "display(w4)"
      ]
    },
    {
      "cell_type": "markdown",
      "id": "9fdc003c-8200-4c59-8f78-1c871752ad36",
      "metadata": {
        "id": "9fdc003c-8200-4c59-8f78-1c871752ad36"
      },
      "source": [
        "## Node Styles Mapping and Node Color Mapping\n",
        "\n",
        "There is a seperate color binding apart from the styles binding. The styles binding takes precedence if both are defined."
      ]
    },
    {
      "cell_type": "code",
      "execution_count": 15,
      "id": "1322ffd9-bec4-4ecc-8442-ae0e28d77427",
      "metadata": {
        "id": "1322ffd9-bec4-4ecc-8442-ae0e28d77427"
      },
      "outputs": [],
      "source": [
        "w5 = GraphWidget(graph=g)\n",
        "def custom_styles_mapping_red(item: Dict):\n",
        "    if item['id'] % 2 == 0:\n",
        "        return {\n",
        "            'color': 'red'\n",
        "        }\n",
        "    else:\n",
        "        return {}\n",
        "\n",
        "def custom_color_mapping_blue(item: Dict):\n",
        "    return 'blue'"
      ]
    },
    {
      "cell_type": "code",
      "execution_count": 16,
      "id": "a3d56af6-5600-4374-adec-98c7aaaf5192",
      "metadata": {
        "id": "a3d56af6-5600-4374-adec-98c7aaaf5192"
      },
      "outputs": [],
      "source": [
        "w5.set_node_styles_mapping(custom_styles_mapping_red)\n",
        "w5.set_node_color_mapping(custom_color_mapping_blue)"
      ]
    },
    {
      "cell_type": "markdown",
      "id": "40bba8c5-3424-4087-a10f-e1ad16379c84",
      "metadata": {
        "id": "40bba8c5-3424-4087-a10f-e1ad16379c84"
      },
      "source": [
        "Only every second node is blue, although all of them are set to blue by the ```node_color_mapping```. \\\n",
        "The api tries to get the ```color``` property on ```styles```. \\\n",
        "If it doesn't exist, it will use the ```color``` from ```custom_color_mapping``` instead."
      ]
    },
    {
      "cell_type": "code",
      "execution_count": 17,
      "id": "2c6638e6-e841-410c-8d00-d59475813263",
      "metadata": {
        "colab": {
          "base_uri": "https://localhost:8080/",
          "height": 517,
          "referenced_widgets": [
            "cb5949029983420ab390eea53bb99461",
            "c340b8b38d3a497694689d72047a0505"
          ]
        },
        "id": "2c6638e6-e841-410c-8d00-d59475813263",
        "outputId": "750339c2-1dc5-4842-ed7a-3303e462f47b"
      },
      "outputs": [
        {
          "output_type": "display_data",
          "data": {
            "text/plain": [
              "GraphWidget(layout=Layout(height='500px', width='100%'))"
            ],
            "application/vnd.jupyter.widget-view+json": {
              "version_major": 2,
              "version_minor": 0,
              "model_id": "cb5949029983420ab390eea53bb99461"
            }
          },
          "metadata": {
            "application/vnd.jupyter.widget-view+json": {
              "colab": {
                "custom_widget_manager": {
                  "url": "https://ssl.gstatic.com/colaboratory-static/widgets/colab-cdn-widget-manager/2b70e893a8ba7c0f/manager.min.js"
                }
              }
            }
          }
        }
      ],
      "source": [
        "display(w5)"
      ]
    },
    {
      "cell_type": "markdown",
      "id": "566f4e57-d6c0-404d-957a-5e1b1c57e2a9",
      "metadata": {
        "id": "566f4e57-d6c0-404d-957a-5e1b1c57e2a9"
      },
      "source": [
        "## Edge Styles Mapping function\n",
        "\n",
        "The edge styles mapping is a function that is supposed to return a dictionary of style properties for each given edge object which is then used in the widget. Optionally, the index can be used as the first function parameter.\n",
        "\n",
        "The following edge style properties are available:\n",
        "<dl>\n",
        "    <dt>\"color\": str</dt>\n",
        "    <dd>CSS color value</dd>\n",
        "    <dt>\"directed\": bool</dt>\n",
        "    <dd>Whether the edge should be visualized with a target arrow.</dd>\n",
        "    <dt>\"thickness\": float </dt>\n",
        "    <dd>The thickness of the stroke of the edge.</dd>\n",
        "    <dt>\"dashStyle\": dict</dt>\n",
        "    <dd>The dash styling of the edge. Can be one of the following strings:<br>\n",
        "            - \"solid\"<br>\n",
        "            - \"dash\"<br>\n",
        "            - \"dot\"<br>\n",
        "            - \"dash-dot\"<br>\n",
        "            - \"dash-dot-dot\"<br>\n",
        "            - \"5 10\"<br>\n",
        "            - \"5, 10\"<br>\n",
        "            - ...\n",
        "    </dd>\n",
        "</dl>"
      ]
    },
    {
      "cell_type": "code",
      "execution_count": 18,
      "id": "026ba536-62c4-4e53-9104-f91c9f767ffa",
      "metadata": {
        "colab": {
          "base_uri": "https://localhost:8080/",
          "height": 517,
          "referenced_widgets": [
            "a3f8a2e936b047edb2a589571987f8a2",
            "1ff28609bb304204953ee7fcaf8d4304"
          ]
        },
        "id": "026ba536-62c4-4e53-9104-f91c9f767ffa",
        "outputId": "75d7a250-ae62-45bc-d0e6-e54602169c3a"
      },
      "outputs": [
        {
          "output_type": "display_data",
          "data": {
            "text/plain": [
              "GraphWidget(layout=Layout(height='500px', width='100%'))"
            ],
            "application/vnd.jupyter.widget-view+json": {
              "version_major": 2,
              "version_minor": 0,
              "model_id": "a3f8a2e936b047edb2a589571987f8a2"
            }
          },
          "metadata": {
            "application/vnd.jupyter.widget-view+json": {
              "colab": {
                "custom_widget_manager": {
                  "url": "https://ssl.gstatic.com/colaboratory-static/widgets/colab-cdn-widget-manager/2b70e893a8ba7c0f/manager.min.js"
                }
              }
            }
          }
        }
      ],
      "source": [
        "w6 = GraphWidget(graph=g)\n",
        "\n",
        "def custom_edge_styles(edge):\n",
        "    return {'dashStyle': 'dash', 'color': 'purple', 'thickness': 4, 'directed': True}\n",
        "\n",
        "w6.set_edge_styles_mapping(custom_edge_styles)\n",
        "display(w6)"
      ]
    },
    {
      "cell_type": "markdown",
      "id": "833aa859-b5c7-48e6-99c1-68d4d248acb6",
      "metadata": {
        "id": "833aa859-b5c7-48e6-99c1-68d4d248acb6"
      },
      "source": [
        "If an edge mapping is deleted, the styles mapping reverts back to the default mapping."
      ]
    },
    {
      "cell_type": "code",
      "execution_count": 19,
      "id": "4b324618-ed98-4876-8e51-696528fbd713",
      "metadata": {
        "colab": {
          "base_uri": "https://localhost:8080/",
          "height": 187
        },
        "id": "4b324618-ed98-4876-8e51-696528fbd713",
        "outputId": "b4d7434d-231b-4d53-8f83-030e371c6400"
      },
      "outputs": [
        {
          "output_type": "execute_result",
          "data": {
            "text/plain": [
              "<function yfiles_jupyter_graphs.widget.GraphWidget.default_edge_styles_mapping(index: int, edge: Dict)>"
            ],
            "text/html": [
              "<div style=\"max-width:800px; border: 1px solid var(--colab-border-color);\"><style>\n",
              "      pre.function-repr-contents {\n",
              "        overflow-x: auto;\n",
              "        padding: 8px 12px;\n",
              "        max-height: 500px;\n",
              "      }\n",
              "\n",
              "      pre.function-repr-contents.function-repr-contents-collapsed {\n",
              "        cursor: pointer;\n",
              "        max-height: 100px;\n",
              "      }\n",
              "    </style>\n",
              "    <pre style=\"white-space: initial; background:\n",
              "         var(--colab-secondary-surface-color); padding: 8px 12px;\n",
              "         border-bottom: 1px solid var(--colab-border-color);\"><b>yfiles_jupyter_graphs.widget.GraphWidget.default_edge_styles_mapping</b><br/>def default_edge_styles_mapping(index: int, edge: TDict)</pre><pre class=\"function-repr-contents function-repr-contents-collapsed\" style=\"\"><a class=\"filepath\" style=\"display:none\" href=\"#\">/usr/local/lib/python3.10/dist-packages/yfiles_jupyter_graphs/widget.py</a>The default styles mapping for edges.\n",
              "\n",
              "Parameters\n",
              "----------\n",
              "index: int (optional)\n",
              "edge: typing.Dict\n",
              "\n",
              "Notes\n",
              "-----\n",
              "This is the default value for the `edge_styles_mapping` property.\n",
              "Can be &#x27;overwritten&#x27; by setting the property\n",
              "with a function of the same signature.\n",
              "\n",
              "If the given mapping function has only one parameter (that is not typed as int),\n",
              "then it will be called with the element (typing.Dict) as first parameter.\n",
              "\n",
              "Example\n",
              "-------\n",
              ".. code::\n",
              "\n",
              "   from yfiles_jupyter_graphs import GraphWidget\n",
              "   w = GraphWidget()\n",
              "   def custom_edge_styles_mapping(edge: typing.Dict):\n",
              "   ...\n",
              "   w.set_edge_styles_mapping(custom_edge_styles_mapping)\n",
              "\n",
              "Returns\n",
              "-------\n",
              "A dict containing styling properties for edges.\n",
              "Can contain the following key-value-pairs:\n",
              "    &quot;color&quot;: str\n",
              "        CSS color value.\n",
              "    &quot;directed&quot;: bool\n",
              "        Whether the edge should be visualized with a target arrow.\n",
              "    &quot;thickness&quot;: float\n",
              "        The thickness of the stroke of the edge.\n",
              "    &quot;dashStyle&quot;: dict\n",
              "        The dash styling of the edge. Can be one of the following strings:\n",
              "            - &quot;solid&quot;\n",
              "            - &quot;dash&quot;\n",
              "            - &quot;dot&quot;\n",
              "            - &quot;dash-dot&quot;\n",
              "            - &quot;dash-dot-dot&quot;\n",
              "            - &quot;5 10&quot;\n",
              "            - &quot;5, 10&quot;\n",
              "            - ...\n",
              "\n",
              "References\n",
              "----------\n",
              "\n",
              "Data URL https://docs.yworks.com/yfileshtml/#/api/DashStyle</pre>\n",
              "      <script>\n",
              "      if (google.colab.kernel.accessAllowed && google.colab.files && google.colab.files.view) {\n",
              "        for (const element of document.querySelectorAll('.filepath')) {\n",
              "          element.style.display = 'block'\n",
              "          element.onclick = (event) => {\n",
              "            event.preventDefault();\n",
              "            event.stopPropagation();\n",
              "            google.colab.files.view(element.textContent, 1681);\n",
              "          };\n",
              "        }\n",
              "      }\n",
              "      for (const element of document.querySelectorAll('.function-repr-contents')) {\n",
              "        element.onclick = (event) => {\n",
              "          event.preventDefault();\n",
              "          event.stopPropagation();\n",
              "          element.classList.toggle('function-repr-contents-collapsed');\n",
              "        };\n",
              "      }\n",
              "      </script>\n",
              "      </div>"
            ]
          },
          "metadata": {},
          "execution_count": 19
        }
      ],
      "source": [
        "w6.del_edge_styles_mapping()\n",
        "w6.get_edge_styles_mapping()"
      ]
    },
    {
      "cell_type": "code",
      "execution_count": 19,
      "id": "13059939-c64a-4fdf-a38b-ea5dc8956797",
      "metadata": {
        "id": "13059939-c64a-4fdf-a38b-ea5dc8956797"
      },
      "outputs": [],
      "source": []
    }
  ],
  "metadata": {
    "colab": {
      "provenance": []
    },
    "kernelspec": {
      "display_name": "Python 3 (ipykernel)",
      "language": "python",
      "name": "python3"
    },
    "language_info": {
      "codemirror_mode": {
        "name": "ipython",
        "version": 3
      },
      "file_extension": ".py",
      "mimetype": "text/x-python",
      "name": "python",
      "nbconvert_exporter": "python",
      "pygments_lexer": "ipython3",
      "version": "3.12.3"
    },
    "widgets": {
      "application/vnd.jupyter.widget-state+json": {
        "6b6978c055794758aacdfe90d1a77069": {
          "model_module": "yfiles-jupyter-graphs",
          "model_name": "GraphModel",
          "model_module_version": "^1.10.0",
          "state": {
            "_context_pane_mapping": [
              {
                "id": "Neighborhood",
                "title": "Neighborhood"
              },
              {
                "id": "Data",
                "title": "Data"
              },
              {
                "id": "Search",
                "title": "Search"
              },
              {
                "id": "About",
                "title": "About"
              }
            ],
            "_data_importer": "networkx",
            "_directed": false,
            "_dom_classes": [],
            "_edges": [
              {
                "id": 0,
                "start": 0,
                "end": 3,
                "properties": {},
                "color": "#15AFAC",
                "thickness_factor": 1,
                "directed": false,
                "styles": {},
                "label": ""
              },
              {
                "id": 1,
                "start": 0,
                "end": 4,
                "properties": {},
                "color": "#15AFAC",
                "thickness_factor": 1,
                "directed": false,
                "styles": {},
                "label": ""
              },
              {
                "id": 2,
                "start": 1,
                "end": 4,
                "properties": {},
                "color": "#15AFAC",
                "thickness_factor": 1,
                "directed": false,
                "styles": {},
                "label": ""
              },
              {
                "id": 3,
                "start": 2,
                "end": 5,
                "properties": {},
                "color": "#15AFAC",
                "thickness_factor": 1,
                "directed": false,
                "styles": {},
                "label": ""
              },
              {
                "id": 4,
                "start": 2,
                "end": 6,
                "properties": {},
                "color": "#15AFAC",
                "thickness_factor": 1,
                "directed": false,
                "styles": {},
                "label": ""
              },
              {
                "id": 5,
                "start": 2,
                "end": 7,
                "properties": {},
                "color": "#15AFAC",
                "thickness_factor": 1,
                "directed": false,
                "styles": {},
                "label": ""
              },
              {
                "id": 6,
                "start": 3,
                "end": 8,
                "properties": {},
                "color": "#15AFAC",
                "thickness_factor": 1,
                "directed": false,
                "styles": {},
                "label": ""
              },
              {
                "id": 7,
                "start": 3,
                "end": 9,
                "properties": {},
                "color": "#15AFAC",
                "thickness_factor": 1,
                "directed": false,
                "styles": {},
                "label": ""
              },
              {
                "id": 8,
                "start": 4,
                "end": 6,
                "properties": {},
                "color": "#15AFAC",
                "thickness_factor": 1,
                "directed": false,
                "styles": {},
                "label": ""
              },
              {
                "id": 9,
                "start": 5,
                "end": 6,
                "properties": {},
                "color": "#15AFAC",
                "thickness_factor": 1,
                "directed": false,
                "styles": {},
                "label": ""
              }
            ],
            "_graph_layout": {},
            "_highlight": [],
            "_license": {},
            "_model_module": "yfiles-jupyter-graphs",
            "_model_module_version": "^1.10.0",
            "_model_name": "GraphModel",
            "_neighborhood": {},
            "_nodes": [
              {
                "id": 0,
                "properties": {
                  "label": "0"
                },
                "color": "#15AFAC",
                "styles": {
                  "shape": "rectangle",
                  "color": "#cd18fc"
                },
                "label": "0",
                "scale_factor": 1,
                "type": "#15AFAC",
                "size": [
                  55,
                  55
                ],
                "position": [
                  0,
                  0
                ]
              },
              {
                "id": 1,
                "properties": {
                  "label": "1"
                },
                "color": "#15AFAC",
                "styles": {
                  "shape": "round-rectangle",
                  "color": "#9fb649"
                },
                "label": "1",
                "scale_factor": 1,
                "type": "#15AFAC",
                "size": [
                  55,
                  55
                ],
                "position": [
                  0,
                  0
                ]
              },
              {
                "id": 2,
                "properties": {
                  "label": "2"
                },
                "color": "#15AFAC",
                "styles": {
                  "shape": "ellipse",
                  "color": "#438493"
                },
                "label": "2",
                "scale_factor": 1,
                "type": "#15AFAC",
                "size": [
                  55,
                  55
                ],
                "position": [
                  0,
                  0
                ]
              },
              {
                "id": 3,
                "properties": {
                  "label": "3"
                },
                "color": "#15AFAC",
                "styles": {
                  "shape": "hexagon",
                  "color": "#2af3bd"
                },
                "label": "3",
                "scale_factor": 1,
                "type": "#15AFAC",
                "size": [
                  55,
                  55
                ],
                "position": [
                  0,
                  0
                ]
              },
              {
                "id": 4,
                "properties": {
                  "label": "4"
                },
                "color": "#15AFAC",
                "styles": {
                  "shape": "hexagon2",
                  "color": "#a6fe81"
                },
                "label": "4",
                "scale_factor": 1,
                "type": "#15AFAC",
                "size": [
                  55,
                  55
                ],
                "position": [
                  0,
                  0
                ]
              },
              {
                "id": 5,
                "properties": {
                  "label": "5"
                },
                "color": "#15AFAC",
                "styles": {
                  "shape": "octagon",
                  "color": "#02c0fa"
                },
                "label": "5",
                "scale_factor": 1,
                "type": "#15AFAC",
                "size": [
                  55,
                  55
                ],
                "position": [
                  0,
                  0
                ]
              },
              {
                "id": 6,
                "properties": {
                  "label": "6"
                },
                "color": "#15AFAC",
                "styles": {
                  "shape": "triangle",
                  "color": "#7a2677"
                },
                "label": "6",
                "scale_factor": 1,
                "type": "#15AFAC",
                "size": [
                  55,
                  55
                ],
                "position": [
                  0,
                  0
                ]
              },
              {
                "id": 7,
                "properties": {
                  "label": "7"
                },
                "color": "#15AFAC",
                "styles": {
                  "shape": "pill",
                  "color": "#4e22af"
                },
                "label": "7",
                "scale_factor": 1,
                "type": "#15AFAC",
                "size": [
                  55,
                  55
                ],
                "position": [
                  0,
                  0
                ]
              },
              {
                "id": 8,
                "properties": {
                  "label": "8"
                },
                "color": "#15AFAC",
                "styles": {
                  "shape": "rectangle",
                  "color": "#3993a6"
                },
                "label": "8",
                "scale_factor": 1,
                "type": "#15AFAC",
                "size": [
                  55,
                  55
                ],
                "position": [
                  0,
                  0
                ]
              },
              {
                "id": 9,
                "properties": {
                  "label": "9"
                },
                "color": "#15AFAC",
                "styles": {
                  "shape": "round-rectangle",
                  "color": "#9e2ca7"
                },
                "label": "9",
                "scale_factor": 1,
                "type": "#15AFAC",
                "size": [
                  55,
                  55
                ],
                "position": [
                  0,
                  0
                ]
              }
            ],
            "_overview": {
              "enabled": null,
              "overview_set": false
            },
            "_selected_graph": [
              [],
              []
            ],
            "_sidebar": {
              "enabled": false,
              "start_with": null
            },
            "_view_count": null,
            "_view_module": "yfiles-jupyter-graphs",
            "_view_module_version": "^1.10.0",
            "_view_name": "GraphView",
            "layout": "IPY_MODEL_dbfa522744454f5686c29b9a79fae9bf",
            "tabbable": null,
            "tooltip": null
          }
        },
        "dbfa522744454f5686c29b9a79fae9bf": {
          "model_module": "@jupyter-widgets/base",
          "model_name": "LayoutModel",
          "model_module_version": "2.0.0",
          "state": {
            "_model_module": "@jupyter-widgets/base",
            "_model_module_version": "2.0.0",
            "_model_name": "LayoutModel",
            "_view_count": null,
            "_view_module": "@jupyter-widgets/base",
            "_view_module_version": "2.0.0",
            "_view_name": "LayoutView",
            "align_content": null,
            "align_items": null,
            "align_self": null,
            "border_bottom": null,
            "border_left": null,
            "border_right": null,
            "border_top": null,
            "bottom": null,
            "display": null,
            "flex": null,
            "flex_flow": null,
            "grid_area": null,
            "grid_auto_columns": null,
            "grid_auto_flow": null,
            "grid_auto_rows": null,
            "grid_column": null,
            "grid_gap": null,
            "grid_row": null,
            "grid_template_areas": null,
            "grid_template_columns": null,
            "grid_template_rows": null,
            "height": "500px",
            "justify_content": null,
            "justify_items": null,
            "left": null,
            "margin": null,
            "max_height": null,
            "max_width": null,
            "min_height": null,
            "min_width": null,
            "object_fit": null,
            "object_position": null,
            "order": null,
            "overflow": null,
            "padding": null,
            "right": null,
            "top": null,
            "visibility": null,
            "width": "100%"
          }
        },
        "eb2ac9d3fd2e48a1b04edf9c14122d72": {
          "model_module": "yfiles-jupyter-graphs",
          "model_name": "GraphModel",
          "model_module_version": "^1.10.0",
          "state": {
            "_context_pane_mapping": [
              {
                "id": "Neighborhood",
                "title": "Neighborhood"
              },
              {
                "id": "Data",
                "title": "Data"
              },
              {
                "id": "Search",
                "title": "Search"
              },
              {
                "id": "About",
                "title": "About"
              }
            ],
            "_data_importer": "networkx",
            "_directed": false,
            "_dom_classes": [],
            "_edges": [
              {
                "id": 0,
                "start": 0,
                "end": 3,
                "properties": {},
                "color": "#15AFAC",
                "thickness_factor": 1,
                "directed": false,
                "styles": {},
                "label": ""
              },
              {
                "id": 1,
                "start": 0,
                "end": 4,
                "properties": {},
                "color": "#15AFAC",
                "thickness_factor": 1,
                "directed": false,
                "styles": {},
                "label": ""
              },
              {
                "id": 2,
                "start": 1,
                "end": 4,
                "properties": {},
                "color": "#15AFAC",
                "thickness_factor": 1,
                "directed": false,
                "styles": {},
                "label": ""
              },
              {
                "id": 3,
                "start": 2,
                "end": 5,
                "properties": {},
                "color": "#15AFAC",
                "thickness_factor": 1,
                "directed": false,
                "styles": {},
                "label": ""
              },
              {
                "id": 4,
                "start": 2,
                "end": 6,
                "properties": {},
                "color": "#15AFAC",
                "thickness_factor": 1,
                "directed": false,
                "styles": {},
                "label": ""
              },
              {
                "id": 5,
                "start": 2,
                "end": 7,
                "properties": {},
                "color": "#15AFAC",
                "thickness_factor": 1,
                "directed": false,
                "styles": {},
                "label": ""
              },
              {
                "id": 6,
                "start": 3,
                "end": 8,
                "properties": {},
                "color": "#15AFAC",
                "thickness_factor": 1,
                "directed": false,
                "styles": {},
                "label": ""
              },
              {
                "id": 7,
                "start": 3,
                "end": 9,
                "properties": {},
                "color": "#15AFAC",
                "thickness_factor": 1,
                "directed": false,
                "styles": {},
                "label": ""
              },
              {
                "id": 8,
                "start": 4,
                "end": 6,
                "properties": {},
                "color": "#15AFAC",
                "thickness_factor": 1,
                "directed": false,
                "styles": {},
                "label": ""
              },
              {
                "id": 9,
                "start": 5,
                "end": 6,
                "properties": {},
                "color": "#15AFAC",
                "thickness_factor": 1,
                "directed": false,
                "styles": {},
                "label": ""
              }
            ],
            "_graph_layout": {},
            "_highlight": [],
            "_license": {},
            "_model_module": "yfiles-jupyter-graphs",
            "_model_module_version": "^1.10.0",
            "_model_name": "GraphModel",
            "_neighborhood": {},
            "_nodes": [
              {
                "id": 0,
                "properties": {
                  "label": "0"
                },
                "color": "#15AFAC",
                "styles": {
                  "image": "data:image/svg+xml,%3C%3Fxml version='1.0' encoding='UTF-8'%3F%3E%3Csvg id='a' xmlns='http://www.w3.org/2000/svg' viewBox='0 0 88.66 93.76'%3E%3Cg id='b'%3E%3Cpath d='M0,37.41l.09,19.36c.04,9.83,5.33,18.89,13.87,23.77l16.81,9.6c8.54,4.88,19.03,4.83,27.52-.13l16.72-9.76c8.49-4.96,13.69-14.06,13.65-23.9l-.09-19.36c-.05-9.83-5.33-18.89-13.87-23.77L57.89,3.62c-8.54-4.88-19.03-4.83-27.52,.13L13.65,13.51C5.16,18.46-.05,27.57,0,37.41' fill='%23242265'/%3E%3Cg id='c'%3E%3Cg%3E%3Cpath d='M42.96,64.19c-.36,1.68-1.19,3.18-2.05,4.66-1.58,2.73-3.04,6.12-.89,9.02,1.71,2.31,5.08,2.85,7.48,1.19,2.92-2.03,2.76-5.81,1.24-8.65-.78-1.45-1.7-2.81-2.33-4.34-.69-1.67-.93-3.42-.97-5.22,0-.36,0-.73-.01-1.09h-2.11c0,1.48-.05,2.99-.36,4.43Z' fill='%23fff'/%3E%3Cpath d='M42.96,29.53c-.36-1.68-1.19-3.18-2.05-4.66-1.58-2.73-3.04-6.12-.89-9.02,1.71-2.31,5.08-2.85,7.48-1.19,2.92,2.03,2.76,5.81,1.24,8.65-.78,1.45-1.7,2.81-2.33,4.34-.69,1.67-.93,3.42-.97,5.22,0,.36,0,.73-.01,1.09h-2.11c0-1.48-.05-2.99-.36-4.43Z' fill='%23fff'/%3E%3Crect x='43.32' y='33.66' width='2.11' height='26.44' fill='%23fff'/%3E%3C/g%3E%3Cg%3E%3Cpath d='M30.07,56.75c-1.27,1.15-2.16,2.63-3.01,4.1-1.57,2.73-3.78,5.69-7.37,5.28-2.86-.32-5.01-2.97-4.77-5.88,.3-3.55,3.65-5.3,6.87-5.4,1.64-.05,3.28,.06,4.92-.15,1.8-.24,3.43-.9,5.01-1.77,.32-.18,.63-.35,.95-.53l1.05,1.83c-1.29,.73-2.56,1.54-3.65,2.53Z' fill='%23fff'/%3E%3Cpath d='M60.09,39.42c1.63-.53,3.35-.56,5.06-.55,3.15,0,6.82-.43,8.26-3.74,1.15-2.64-.07-5.83-2.71-7.07-3.22-1.52-6.41,.51-8.11,3.25-.87,1.4-1.58,2.87-2.59,4.19-1.1,1.44-2.5,2.52-4.04,3.45-.31,.19-.62,.37-.94,.55l1.05,1.83c1.28-.75,2.62-1.45,4.01-1.9Z' fill='%23fff'/%3E%3Crect x='43.3' y='33.65' width='2.11' height='26.44' transform='translate(25.94 108.72) rotate(-120)' fill='%23fff'/%3E%3C/g%3E%3Cg%3E%3Cpath d='M60.09,54.3c1.63,.53,3.35,.56,5.06,.55,3.15,0,6.82,.43,8.26,3.74,1.15,2.64-.07,5.83-2.71,7.07-3.22,1.52-6.41-.51-8.11-3.25-.87-1.4-1.58-2.87-2.59-4.19-1.1-1.44-2.5-2.52-4.04-3.45-.31-.19-.62-.37-.94-.55l1.05-1.83c1.28,.75,2.62,1.45,4.01,1.9Z' fill='%23fff'/%3E%3Cpath d='M30.07,36.97c-1.27-1.15-2.16-2.63-3.01-4.1-1.57-2.73-3.78-5.69-7.37-5.28-2.86,.32-5.01,2.97-4.77,5.88,.3,3.55,3.65,5.3,6.87,5.4,1.64,.05,3.28-.06,4.92,.15,1.8,.24,3.43,.9,5.01,1.77,.32,.18,.63,.35,.95,.53l1.05-1.83c-1.29-.73-2.56-1.54-3.65-2.53Z' fill='%23fff'/%3E%3Crect x='43.34' y='33.65' width='2.11' height='26.44' transform='translate(107.18 31.86) rotate(120)' fill='%23fff'/%3E%3C/g%3E%3Cg%3E%3Cpath d='M66.99,50.35c-.36,1.68-1.19,3.18-2.05,4.66-1.58,2.73-3.04,6.12-.89,9.02,1.71,2.31,5.08,2.85,7.48,1.19,2.92-2.03,2.76-5.81,1.24-8.65-.78-1.45-1.7-2.81-2.33-4.34-.69-1.67-.93-3.42-.97-5.22,0-.36,0-.73-.01-1.09h-2.11c0,1.48-.05,2.99-.36,4.43Z' fill='%23fff'/%3E%3Cpath d='M66.99,43.37c-.36-1.68-1.19-3.18-2.05-4.66-1.58-2.73-3.04-6.12-.89-9.02,1.71-2.31,5.08-2.85,7.48-1.19,2.92,2.03,2.76,5.81,1.24,8.65-.78,1.45-1.7,2.81-2.33,4.34-.69,1.67-.93,3.42-.97,5.22,0,.36,0,.73-.01,1.09h-2.11c0-1.48-.05-2.99-.36-4.43Z' fill='%23fff'/%3E%3C/g%3E%3Cg%3E%3Cpath d='M18.87,50.35c-.36,1.68-1.19,3.18-2.05,4.66-1.58,2.73-3.04,6.12-.89,9.02,1.71,2.31,5.08,2.85,7.48,1.19,2.92-2.03,2.76-5.81,1.24-8.65-.78-1.45-1.7-2.81-2.33-4.34-.69-1.67-.93-3.42-.97-5.22,0-.36,0-.73-.01-1.09h-2.11c0,1.48-.05,2.99-.36,4.43Z' fill='%23fff'/%3E%3Cpath d='M18.87,43.37c-.36-1.68-1.19-3.18-2.05-4.66-1.58-2.73-3.04-6.12-.89-9.02,1.71-2.31,5.08-2.85,7.48-1.19,2.92,2.03,2.76,5.81,1.24,8.65-.78,1.45-1.7,2.81-2.33,4.34-.69,1.67-.93,3.42-.97,5.22,0,.36,0,.73-.01,1.09h-2.11c0-1.48-.05-2.99-.36-4.43Z' fill='%23fff'/%3E%3C/g%3E%3Cg%3E%3Cpath d='M30.02,29.06c-1.27,1.15-2.16,2.63-3.01,4.1-1.57,2.73-3.78,5.69-7.37,5.28-2.86-.32-5.01-2.97-4.77-5.88,.3-3.55,3.65-5.3,6.87-5.4,1.64-.05,3.28,.06,4.92-.15,1.8-.24,3.43-.9,5.01-1.77,.32-.18,.63-.35,.95-.53l1.05,1.83c-1.29,.73-2.56,1.54-3.65,2.53Z' fill='%23fff'/%3E%3Cpath d='M36.06,25.58c1.63-.53,3.35-.56,5.06-.55,3.15,0,6.82-.43,8.26-3.74,1.15-2.64-.07-5.83-2.71-7.07-3.22-1.52-6.41,.51-8.11,3.25-.87,1.4-1.58,2.87-2.59,4.19-1.1,1.44-2.5,2.52-4.04,3.45-.31,.19-.62,.37-.94,.55l1.05,1.83c1.28-.75,2.62-1.45,4.01-1.9Z' fill='%23fff'/%3E%3C/g%3E%3Cg%3E%3Cpath d='M54.1,70.6c-1.27,1.15-2.16,2.63-3.01,4.1-1.57,2.73-3.78,5.69-7.37,5.28-2.86-.32-5.01-2.97-4.77-5.88,.3-3.55,3.65-5.3,6.87-5.4,1.64-.05,3.28,.06,4.92-.15,1.8-.24,3.43-.9,5.01-1.77,.32-.18,.63-.35,.95-.53l1.05,1.83c-1.29,.73-2.56,1.54-3.65,2.53Z' fill='%23fff'/%3E%3Cpath d='M60.14,67.12c1.63-.53,3.35-.56,5.06-.55,3.15,0,6.82-.43,8.26-3.74,1.15-2.64-.07-5.83-2.71-7.07-3.22-1.52-6.41,.51-8.11,3.25-.87,1.4-1.58,2.87-2.59,4.19-1.1,1.44-2.5,2.52-4.04,3.45-.31,.19-.62,.37-.94,.55l1.05,1.83c1.28-.75,2.62-1.45,4.01-1.9Z' fill='%23fff'/%3E%3C/g%3E%3Cg%3E%3Cpath d='M58.73,29.06c1.27,1.15,2.16,2.63,3.01,4.1,1.57,2.73,3.78,5.69,7.37,5.28,2.86-.32,5.01-2.97,4.77-5.88-.3-3.55-3.65-5.3-6.87-5.4-1.64-.05-3.28,.06-4.92-.15-1.8-.24-3.43-.9-5.01-1.77-.32-.18-.63-.35-.95-.53l-1.05,1.83c1.29,.73,2.56,1.54,3.65,2.53Z' fill='%23fff'/%3E%3Cpath d='M52.69,25.58c-1.63-.53-3.35-.56-5.06-.55-3.15,0-6.82-.43-8.26-3.74-1.15-2.64,.07-5.83,2.71-7.07,3.22-1.52,6.41,.51,8.11,3.25,.87,1.4,1.58,2.87,2.59,4.19,1.1,1.44,2.5,2.52,4.04,3.45,.31,.19,.62,.37,.94,.55l-1.05,1.83c-1.28-.75-2.62-1.45-4.01-1.9Z' fill='%23fff'/%3E%3C/g%3E%3Cg%3E%3Cpath d='M34.64,70.6c1.27,1.15,2.16,2.63,3.01,4.1,1.57,2.73,3.78,5.69,7.37,5.28,2.86-.32,5.01-2.97,4.77-5.88-.3-3.55-3.65-5.3-6.87-5.4-1.64-.05-3.28,.06-4.92-.15-1.8-.24-3.43-.9-5.01-1.77-.32-.18-.63-.35-.95-.53l-1.05,1.83c1.29,.73,2.56,1.54,3.65,2.53Z' fill='%23fff'/%3E%3Cpath d='M28.6,67.12c-1.63-.53-3.35-.56-5.06-.55-3.15,0-6.82-.43-8.26-3.74-1.15-2.64,.07-5.83,2.71-7.07,3.22-1.52,6.41,.51,8.11,3.25,.87,1.4,1.58,2.87,2.59,4.19,1.1,1.44,2.5,2.52,4.04,3.45,.31,.19,.62,.37,.94,.55l-1.05,1.83c-1.28-.75-2.62-1.45-4.01-1.9Z' fill='%23fff'/%3E%3C/g%3E%3Cg%3E%3Cg%3E%3Cpath d='M61.95,41.28c.53-1.63,.56-3.35,.55-5.06,0-3.15,.43-6.82,3.74-8.26,2.64-1.15,5.83,.07,7.07,2.71,1.52,3.22-.51,6.41-3.25,8.11-1.4,.87-2.87,1.58-4.19,2.59-1.44,1.1-2.52,2.5-3.45,4.04-.19,.31-.37,.62-.55,.94l-1.83-1.05c.75-1.28,1.45-2.62,1.9-4.01Z' fill='%23fff'/%3E%3Cpath d='M48.36,64.86c-1.15,1.27-2.63,2.16-4.1,3.01-2.73,1.57-5.69,3.78-5.28,7.37,.32,2.86,2.97,5.01,5.88,4.77,3.55-.3,5.3-3.65,5.4-6.87,.05-1.64-.06-3.28,.15-4.92,.24-1.8,.9-3.43,1.77-5.01,.18-.32,.35-.63,.53-.95l-1.83-1.05c-.73,1.29-1.54,2.56-2.53,3.65Z' fill='%23fff'/%3E%3Crect x='55.82' y='42.51' width='2.11' height='20.88' transform='translate(34.09 -21.34) rotate(30)' fill='%23fff'/%3E%3C/g%3E%3Cg%3E%3Cpath d='M26.79,41.28c-.53-1.63-.56-3.35-.55-5.06,0-3.15-.43-6.82-3.74-8.26-2.64-1.15-5.83,.07-7.07,2.71-1.52,3.22,.51,6.41,3.25,8.11,1.4,.87,2.87,1.58,4.19,2.59,1.44,1.1,2.52,2.5,3.45,4.04,.19,.31,.37,.62,.55,.94l1.83-1.05c-.75-1.28-1.45-2.62-1.9-4.01Z' fill='%23fff'/%3E%3Cpath d='M40.39,64.86c1.15,1.27,2.63,2.16,4.1,3.01,2.73,1.57,5.69,3.78,5.28,7.37-.32,2.86-2.97,5.01-5.88,4.77-3.55-.3-5.3-3.65-5.4-6.87-.05-1.64,.06-3.28-.15-4.92-.24-1.8-.9-3.43-1.77-5.01-.18-.32-.35-.63-.53-.95l1.83-1.05c.73,1.29,1.54,2.56,2.53,3.65Z' fill='%23fff'/%3E%3Crect x='30.82' y='42.51' width='2.11' height='20.88' transform='translate(85.95 82.86) rotate(150)' fill='%23fff'/%3E%3C/g%3E%3Cg%3E%3Cpath d='M57.96,34.4c1.68,.36,3.18,1.19,4.66,2.05,2.73,1.58,6.12,3.04,9.02,.89,2.31-1.71,2.85-5.08,1.19-7.48-2.03-2.92-5.81-2.76-8.65-1.24-1.45,.78-2.81,1.7-4.34,2.33-1.67,.69-3.42,.93-5.22,.97-.36,0-.73,0-1.09,.01v2.11c1.48,0,2.99,.05,4.43,.36Z' fill='%23fff'/%3E%3Cpath d='M30.75,34.39c-1.68,.36-3.18,1.19-4.66,2.05-2.73,1.58-6.12,3.04-9.02,.89-2.31-1.71-2.85-5.08-1.19-7.48,2.03-2.92,5.81-2.76,8.65-1.24,1.45,.78,2.81,1.7,4.34,2.33,1.67,.69,3.42,.93,5.22,.97,.36,0,.73,0,1.09,.01v2.11c-1.48,0-2.99,.05-4.43,.36Z' fill='%23fff'/%3E%3Crect x='44.26' y='22.53' width='2.11' height='20.88' transform='translate(12.35 78.29) rotate(-90)' fill='%23fff'/%3E%3C/g%3E%3C/g%3E%3Ccircle cx='44.37' cy='19.13' r='5.43' fill='%23fff'/%3E%3Ccircle cx='44.37' cy='74.59' r='5.43' fill='%23fff'/%3E%3Ccircle cx='68.39' cy='32.99' r='5.43' fill='%23fff'/%3E%3Ccircle cx='20.36' cy='60.72' r='5.43' fill='%23fff'/%3E%3Ccircle cx='20.36' cy='32.99' r='5.43' fill='%23fff'/%3E%3Ccircle cx='68.39' cy='60.72' r='5.43' fill='%23fff'/%3E%3C/g%3E%3C/g%3E%3C/svg%3E"
                },
                "label": "0",
                "scale_factor": 1,
                "type": "#15AFAC",
                "size": [
                  55,
                  55
                ],
                "position": [
                  0,
                  0
                ]
              },
              {
                "id": 1,
                "properties": {
                  "label": "1"
                },
                "color": "#15AFAC",
                "styles": {},
                "label": "1",
                "scale_factor": 1,
                "type": "#15AFAC",
                "size": [
                  55,
                  55
                ],
                "position": [
                  0,
                  0
                ]
              },
              {
                "id": 2,
                "properties": {
                  "label": "2"
                },
                "color": "#15AFAC",
                "styles": {
                  "image": "data:image/svg+xml,%3C%3Fxml version='1.0' encoding='UTF-8'%3F%3E%3Csvg id='a' xmlns='http://www.w3.org/2000/svg' viewBox='0 0 88.66 93.76'%3E%3Cg id='b'%3E%3Cpath d='M0,37.41l.09,19.36c.04,9.83,5.33,18.89,13.87,23.77l16.81,9.6c8.54,4.88,19.03,4.83,27.52-.13l16.72-9.76c8.49-4.96,13.69-14.06,13.65-23.9l-.09-19.36c-.05-9.83-5.33-18.89-13.87-23.77L57.89,3.62c-8.54-4.88-19.03-4.83-27.52,.13L13.65,13.51C5.16,18.46-.05,27.57,0,37.41' fill='%23242265'/%3E%3Cg id='c'%3E%3Cg%3E%3Cpath d='M42.96,64.19c-.36,1.68-1.19,3.18-2.05,4.66-1.58,2.73-3.04,6.12-.89,9.02,1.71,2.31,5.08,2.85,7.48,1.19,2.92-2.03,2.76-5.81,1.24-8.65-.78-1.45-1.7-2.81-2.33-4.34-.69-1.67-.93-3.42-.97-5.22,0-.36,0-.73-.01-1.09h-2.11c0,1.48-.05,2.99-.36,4.43Z' fill='%23fff'/%3E%3Cpath d='M42.96,29.53c-.36-1.68-1.19-3.18-2.05-4.66-1.58-2.73-3.04-6.12-.89-9.02,1.71-2.31,5.08-2.85,7.48-1.19,2.92,2.03,2.76,5.81,1.24,8.65-.78,1.45-1.7,2.81-2.33,4.34-.69,1.67-.93,3.42-.97,5.22,0,.36,0,.73-.01,1.09h-2.11c0-1.48-.05-2.99-.36-4.43Z' fill='%23fff'/%3E%3Crect x='43.32' y='33.66' width='2.11' height='26.44' fill='%23fff'/%3E%3C/g%3E%3Cg%3E%3Cpath d='M30.07,56.75c-1.27,1.15-2.16,2.63-3.01,4.1-1.57,2.73-3.78,5.69-7.37,5.28-2.86-.32-5.01-2.97-4.77-5.88,.3-3.55,3.65-5.3,6.87-5.4,1.64-.05,3.28,.06,4.92-.15,1.8-.24,3.43-.9,5.01-1.77,.32-.18,.63-.35,.95-.53l1.05,1.83c-1.29,.73-2.56,1.54-3.65,2.53Z' fill='%23fff'/%3E%3Cpath d='M60.09,39.42c1.63-.53,3.35-.56,5.06-.55,3.15,0,6.82-.43,8.26-3.74,1.15-2.64-.07-5.83-2.71-7.07-3.22-1.52-6.41,.51-8.11,3.25-.87,1.4-1.58,2.87-2.59,4.19-1.1,1.44-2.5,2.52-4.04,3.45-.31,.19-.62,.37-.94,.55l1.05,1.83c1.28-.75,2.62-1.45,4.01-1.9Z' fill='%23fff'/%3E%3Crect x='43.3' y='33.65' width='2.11' height='26.44' transform='translate(25.94 108.72) rotate(-120)' fill='%23fff'/%3E%3C/g%3E%3Cg%3E%3Cpath d='M60.09,54.3c1.63,.53,3.35,.56,5.06,.55,3.15,0,6.82,.43,8.26,3.74,1.15,2.64-.07,5.83-2.71,7.07-3.22,1.52-6.41-.51-8.11-3.25-.87-1.4-1.58-2.87-2.59-4.19-1.1-1.44-2.5-2.52-4.04-3.45-.31-.19-.62-.37-.94-.55l1.05-1.83c1.28,.75,2.62,1.45,4.01,1.9Z' fill='%23fff'/%3E%3Cpath d='M30.07,36.97c-1.27-1.15-2.16-2.63-3.01-4.1-1.57-2.73-3.78-5.69-7.37-5.28-2.86,.32-5.01,2.97-4.77,5.88,.3,3.55,3.65,5.3,6.87,5.4,1.64,.05,3.28-.06,4.92,.15,1.8,.24,3.43,.9,5.01,1.77,.32,.18,.63,.35,.95,.53l1.05-1.83c-1.29-.73-2.56-1.54-3.65-2.53Z' fill='%23fff'/%3E%3Crect x='43.34' y='33.65' width='2.11' height='26.44' transform='translate(107.18 31.86) rotate(120)' fill='%23fff'/%3E%3C/g%3E%3Cg%3E%3Cpath d='M66.99,50.35c-.36,1.68-1.19,3.18-2.05,4.66-1.58,2.73-3.04,6.12-.89,9.02,1.71,2.31,5.08,2.85,7.48,1.19,2.92-2.03,2.76-5.81,1.24-8.65-.78-1.45-1.7-2.81-2.33-4.34-.69-1.67-.93-3.42-.97-5.22,0-.36,0-.73-.01-1.09h-2.11c0,1.48-.05,2.99-.36,4.43Z' fill='%23fff'/%3E%3Cpath d='M66.99,43.37c-.36-1.68-1.19-3.18-2.05-4.66-1.58-2.73-3.04-6.12-.89-9.02,1.71-2.31,5.08-2.85,7.48-1.19,2.92,2.03,2.76,5.81,1.24,8.65-.78,1.45-1.7,2.81-2.33,4.34-.69,1.67-.93,3.42-.97,5.22,0,.36,0,.73-.01,1.09h-2.11c0-1.48-.05-2.99-.36-4.43Z' fill='%23fff'/%3E%3C/g%3E%3Cg%3E%3Cpath d='M18.87,50.35c-.36,1.68-1.19,3.18-2.05,4.66-1.58,2.73-3.04,6.12-.89,9.02,1.71,2.31,5.08,2.85,7.48,1.19,2.92-2.03,2.76-5.81,1.24-8.65-.78-1.45-1.7-2.81-2.33-4.34-.69-1.67-.93-3.42-.97-5.22,0-.36,0-.73-.01-1.09h-2.11c0,1.48-.05,2.99-.36,4.43Z' fill='%23fff'/%3E%3Cpath d='M18.87,43.37c-.36-1.68-1.19-3.18-2.05-4.66-1.58-2.73-3.04-6.12-.89-9.02,1.71-2.31,5.08-2.85,7.48-1.19,2.92,2.03,2.76,5.81,1.24,8.65-.78,1.45-1.7,2.81-2.33,4.34-.69,1.67-.93,3.42-.97,5.22,0,.36,0,.73-.01,1.09h-2.11c0-1.48-.05-2.99-.36-4.43Z' fill='%23fff'/%3E%3C/g%3E%3Cg%3E%3Cpath d='M30.02,29.06c-1.27,1.15-2.16,2.63-3.01,4.1-1.57,2.73-3.78,5.69-7.37,5.28-2.86-.32-5.01-2.97-4.77-5.88,.3-3.55,3.65-5.3,6.87-5.4,1.64-.05,3.28,.06,4.92-.15,1.8-.24,3.43-.9,5.01-1.77,.32-.18,.63-.35,.95-.53l1.05,1.83c-1.29,.73-2.56,1.54-3.65,2.53Z' fill='%23fff'/%3E%3Cpath d='M36.06,25.58c1.63-.53,3.35-.56,5.06-.55,3.15,0,6.82-.43,8.26-3.74,1.15-2.64-.07-5.83-2.71-7.07-3.22-1.52-6.41,.51-8.11,3.25-.87,1.4-1.58,2.87-2.59,4.19-1.1,1.44-2.5,2.52-4.04,3.45-.31,.19-.62,.37-.94,.55l1.05,1.83c1.28-.75,2.62-1.45,4.01-1.9Z' fill='%23fff'/%3E%3C/g%3E%3Cg%3E%3Cpath d='M54.1,70.6c-1.27,1.15-2.16,2.63-3.01,4.1-1.57,2.73-3.78,5.69-7.37,5.28-2.86-.32-5.01-2.97-4.77-5.88,.3-3.55,3.65-5.3,6.87-5.4,1.64-.05,3.28,.06,4.92-.15,1.8-.24,3.43-.9,5.01-1.77,.32-.18,.63-.35,.95-.53l1.05,1.83c-1.29,.73-2.56,1.54-3.65,2.53Z' fill='%23fff'/%3E%3Cpath d='M60.14,67.12c1.63-.53,3.35-.56,5.06-.55,3.15,0,6.82-.43,8.26-3.74,1.15-2.64-.07-5.83-2.71-7.07-3.22-1.52-6.41,.51-8.11,3.25-.87,1.4-1.58,2.87-2.59,4.19-1.1,1.44-2.5,2.52-4.04,3.45-.31,.19-.62,.37-.94,.55l1.05,1.83c1.28-.75,2.62-1.45,4.01-1.9Z' fill='%23fff'/%3E%3C/g%3E%3Cg%3E%3Cpath d='M58.73,29.06c1.27,1.15,2.16,2.63,3.01,4.1,1.57,2.73,3.78,5.69,7.37,5.28,2.86-.32,5.01-2.97,4.77-5.88-.3-3.55-3.65-5.3-6.87-5.4-1.64-.05-3.28,.06-4.92-.15-1.8-.24-3.43-.9-5.01-1.77-.32-.18-.63-.35-.95-.53l-1.05,1.83c1.29,.73,2.56,1.54,3.65,2.53Z' fill='%23fff'/%3E%3Cpath d='M52.69,25.58c-1.63-.53-3.35-.56-5.06-.55-3.15,0-6.82-.43-8.26-3.74-1.15-2.64,.07-5.83,2.71-7.07,3.22-1.52,6.41,.51,8.11,3.25,.87,1.4,1.58,2.87,2.59,4.19,1.1,1.44,2.5,2.52,4.04,3.45,.31,.19,.62,.37,.94,.55l-1.05,1.83c-1.28-.75-2.62-1.45-4.01-1.9Z' fill='%23fff'/%3E%3C/g%3E%3Cg%3E%3Cpath d='M34.64,70.6c1.27,1.15,2.16,2.63,3.01,4.1,1.57,2.73,3.78,5.69,7.37,5.28,2.86-.32,5.01-2.97,4.77-5.88-.3-3.55-3.65-5.3-6.87-5.4-1.64-.05-3.28,.06-4.92-.15-1.8-.24-3.43-.9-5.01-1.77-.32-.18-.63-.35-.95-.53l-1.05,1.83c1.29,.73,2.56,1.54,3.65,2.53Z' fill='%23fff'/%3E%3Cpath d='M28.6,67.12c-1.63-.53-3.35-.56-5.06-.55-3.15,0-6.82-.43-8.26-3.74-1.15-2.64,.07-5.83,2.71-7.07,3.22-1.52,6.41,.51,8.11,3.25,.87,1.4,1.58,2.87,2.59,4.19,1.1,1.44,2.5,2.52,4.04,3.45,.31,.19,.62,.37,.94,.55l-1.05,1.83c-1.28-.75-2.62-1.45-4.01-1.9Z' fill='%23fff'/%3E%3C/g%3E%3Cg%3E%3Cg%3E%3Cpath d='M61.95,41.28c.53-1.63,.56-3.35,.55-5.06,0-3.15,.43-6.82,3.74-8.26,2.64-1.15,5.83,.07,7.07,2.71,1.52,3.22-.51,6.41-3.25,8.11-1.4,.87-2.87,1.58-4.19,2.59-1.44,1.1-2.52,2.5-3.45,4.04-.19,.31-.37,.62-.55,.94l-1.83-1.05c.75-1.28,1.45-2.62,1.9-4.01Z' fill='%23fff'/%3E%3Cpath d='M48.36,64.86c-1.15,1.27-2.63,2.16-4.1,3.01-2.73,1.57-5.69,3.78-5.28,7.37,.32,2.86,2.97,5.01,5.88,4.77,3.55-.3,5.3-3.65,5.4-6.87,.05-1.64-.06-3.28,.15-4.92,.24-1.8,.9-3.43,1.77-5.01,.18-.32,.35-.63,.53-.95l-1.83-1.05c-.73,1.29-1.54,2.56-2.53,3.65Z' fill='%23fff'/%3E%3Crect x='55.82' y='42.51' width='2.11' height='20.88' transform='translate(34.09 -21.34) rotate(30)' fill='%23fff'/%3E%3C/g%3E%3Cg%3E%3Cpath d='M26.79,41.28c-.53-1.63-.56-3.35-.55-5.06,0-3.15-.43-6.82-3.74-8.26-2.64-1.15-5.83,.07-7.07,2.71-1.52,3.22,.51,6.41,3.25,8.11,1.4,.87,2.87,1.58,4.19,2.59,1.44,1.1,2.52,2.5,3.45,4.04,.19,.31,.37,.62,.55,.94l1.83-1.05c-.75-1.28-1.45-2.62-1.9-4.01Z' fill='%23fff'/%3E%3Cpath d='M40.39,64.86c1.15,1.27,2.63,2.16,4.1,3.01,2.73,1.57,5.69,3.78,5.28,7.37-.32,2.86-2.97,5.01-5.88,4.77-3.55-.3-5.3-3.65-5.4-6.87-.05-1.64,.06-3.28-.15-4.92-.24-1.8-.9-3.43-1.77-5.01-.18-.32-.35-.63-.53-.95l1.83-1.05c.73,1.29,1.54,2.56,2.53,3.65Z' fill='%23fff'/%3E%3Crect x='30.82' y='42.51' width='2.11' height='20.88' transform='translate(85.95 82.86) rotate(150)' fill='%23fff'/%3E%3C/g%3E%3Cg%3E%3Cpath d='M57.96,34.4c1.68,.36,3.18,1.19,4.66,2.05,2.73,1.58,6.12,3.04,9.02,.89,2.31-1.71,2.85-5.08,1.19-7.48-2.03-2.92-5.81-2.76-8.65-1.24-1.45,.78-2.81,1.7-4.34,2.33-1.67,.69-3.42,.93-5.22,.97-.36,0-.73,0-1.09,.01v2.11c1.48,0,2.99,.05,4.43,.36Z' fill='%23fff'/%3E%3Cpath d='M30.75,34.39c-1.68,.36-3.18,1.19-4.66,2.05-2.73,1.58-6.12,3.04-9.02,.89-2.31-1.71-2.85-5.08-1.19-7.48,2.03-2.92,5.81-2.76,8.65-1.24,1.45,.78,2.81,1.7,4.34,2.33,1.67,.69,3.42,.93,5.22,.97,.36,0,.73,0,1.09,.01v2.11c-1.48,0-2.99,.05-4.43,.36Z' fill='%23fff'/%3E%3Crect x='44.26' y='22.53' width='2.11' height='20.88' transform='translate(12.35 78.29) rotate(-90)' fill='%23fff'/%3E%3C/g%3E%3C/g%3E%3Ccircle cx='44.37' cy='19.13' r='5.43' fill='%23fff'/%3E%3Ccircle cx='44.37' cy='74.59' r='5.43' fill='%23fff'/%3E%3Ccircle cx='68.39' cy='32.99' r='5.43' fill='%23fff'/%3E%3Ccircle cx='20.36' cy='60.72' r='5.43' fill='%23fff'/%3E%3Ccircle cx='20.36' cy='32.99' r='5.43' fill='%23fff'/%3E%3Ccircle cx='68.39' cy='60.72' r='5.43' fill='%23fff'/%3E%3C/g%3E%3C/g%3E%3C/svg%3E"
                },
                "label": "2",
                "scale_factor": 1,
                "type": "#15AFAC",
                "size": [
                  55,
                  55
                ],
                "position": [
                  0,
                  0
                ]
              },
              {
                "id": 3,
                "properties": {
                  "label": "3"
                },
                "color": "#15AFAC",
                "styles": {},
                "label": "3",
                "scale_factor": 1,
                "type": "#15AFAC",
                "size": [
                  55,
                  55
                ],
                "position": [
                  0,
                  0
                ]
              },
              {
                "id": 4,
                "properties": {
                  "label": "4"
                },
                "color": "#15AFAC",
                "styles": {
                  "image": "data:image/svg+xml,%3C%3Fxml version='1.0' encoding='UTF-8'%3F%3E%3Csvg id='a' xmlns='http://www.w3.org/2000/svg' viewBox='0 0 88.66 93.76'%3E%3Cg id='b'%3E%3Cpath d='M0,37.41l.09,19.36c.04,9.83,5.33,18.89,13.87,23.77l16.81,9.6c8.54,4.88,19.03,4.83,27.52-.13l16.72-9.76c8.49-4.96,13.69-14.06,13.65-23.9l-.09-19.36c-.05-9.83-5.33-18.89-13.87-23.77L57.89,3.62c-8.54-4.88-19.03-4.83-27.52,.13L13.65,13.51C5.16,18.46-.05,27.57,0,37.41' fill='%23242265'/%3E%3Cg id='c'%3E%3Cg%3E%3Cpath d='M42.96,64.19c-.36,1.68-1.19,3.18-2.05,4.66-1.58,2.73-3.04,6.12-.89,9.02,1.71,2.31,5.08,2.85,7.48,1.19,2.92-2.03,2.76-5.81,1.24-8.65-.78-1.45-1.7-2.81-2.33-4.34-.69-1.67-.93-3.42-.97-5.22,0-.36,0-.73-.01-1.09h-2.11c0,1.48-.05,2.99-.36,4.43Z' fill='%23fff'/%3E%3Cpath d='M42.96,29.53c-.36-1.68-1.19-3.18-2.05-4.66-1.58-2.73-3.04-6.12-.89-9.02,1.71-2.31,5.08-2.85,7.48-1.19,2.92,2.03,2.76,5.81,1.24,8.65-.78,1.45-1.7,2.81-2.33,4.34-.69,1.67-.93,3.42-.97,5.22,0,.36,0,.73-.01,1.09h-2.11c0-1.48-.05-2.99-.36-4.43Z' fill='%23fff'/%3E%3Crect x='43.32' y='33.66' width='2.11' height='26.44' fill='%23fff'/%3E%3C/g%3E%3Cg%3E%3Cpath d='M30.07,56.75c-1.27,1.15-2.16,2.63-3.01,4.1-1.57,2.73-3.78,5.69-7.37,5.28-2.86-.32-5.01-2.97-4.77-5.88,.3-3.55,3.65-5.3,6.87-5.4,1.64-.05,3.28,.06,4.92-.15,1.8-.24,3.43-.9,5.01-1.77,.32-.18,.63-.35,.95-.53l1.05,1.83c-1.29,.73-2.56,1.54-3.65,2.53Z' fill='%23fff'/%3E%3Cpath d='M60.09,39.42c1.63-.53,3.35-.56,5.06-.55,3.15,0,6.82-.43,8.26-3.74,1.15-2.64-.07-5.83-2.71-7.07-3.22-1.52-6.41,.51-8.11,3.25-.87,1.4-1.58,2.87-2.59,4.19-1.1,1.44-2.5,2.52-4.04,3.45-.31,.19-.62,.37-.94,.55l1.05,1.83c1.28-.75,2.62-1.45,4.01-1.9Z' fill='%23fff'/%3E%3Crect x='43.3' y='33.65' width='2.11' height='26.44' transform='translate(25.94 108.72) rotate(-120)' fill='%23fff'/%3E%3C/g%3E%3Cg%3E%3Cpath d='M60.09,54.3c1.63,.53,3.35,.56,5.06,.55,3.15,0,6.82,.43,8.26,3.74,1.15,2.64-.07,5.83-2.71,7.07-3.22,1.52-6.41-.51-8.11-3.25-.87-1.4-1.58-2.87-2.59-4.19-1.1-1.44-2.5-2.52-4.04-3.45-.31-.19-.62-.37-.94-.55l1.05-1.83c1.28,.75,2.62,1.45,4.01,1.9Z' fill='%23fff'/%3E%3Cpath d='M30.07,36.97c-1.27-1.15-2.16-2.63-3.01-4.1-1.57-2.73-3.78-5.69-7.37-5.28-2.86,.32-5.01,2.97-4.77,5.88,.3,3.55,3.65,5.3,6.87,5.4,1.64,.05,3.28-.06,4.92,.15,1.8,.24,3.43,.9,5.01,1.77,.32,.18,.63,.35,.95,.53l1.05-1.83c-1.29-.73-2.56-1.54-3.65-2.53Z' fill='%23fff'/%3E%3Crect x='43.34' y='33.65' width='2.11' height='26.44' transform='translate(107.18 31.86) rotate(120)' fill='%23fff'/%3E%3C/g%3E%3Cg%3E%3Cpath d='M66.99,50.35c-.36,1.68-1.19,3.18-2.05,4.66-1.58,2.73-3.04,6.12-.89,9.02,1.71,2.31,5.08,2.85,7.48,1.19,2.92-2.03,2.76-5.81,1.24-8.65-.78-1.45-1.7-2.81-2.33-4.34-.69-1.67-.93-3.42-.97-5.22,0-.36,0-.73-.01-1.09h-2.11c0,1.48-.05,2.99-.36,4.43Z' fill='%23fff'/%3E%3Cpath d='M66.99,43.37c-.36-1.68-1.19-3.18-2.05-4.66-1.58-2.73-3.04-6.12-.89-9.02,1.71-2.31,5.08-2.85,7.48-1.19,2.92,2.03,2.76,5.81,1.24,8.65-.78,1.45-1.7,2.81-2.33,4.34-.69,1.67-.93,3.42-.97,5.22,0,.36,0,.73-.01,1.09h-2.11c0-1.48-.05-2.99-.36-4.43Z' fill='%23fff'/%3E%3C/g%3E%3Cg%3E%3Cpath d='M18.87,50.35c-.36,1.68-1.19,3.18-2.05,4.66-1.58,2.73-3.04,6.12-.89,9.02,1.71,2.31,5.08,2.85,7.48,1.19,2.92-2.03,2.76-5.81,1.24-8.65-.78-1.45-1.7-2.81-2.33-4.34-.69-1.67-.93-3.42-.97-5.22,0-.36,0-.73-.01-1.09h-2.11c0,1.48-.05,2.99-.36,4.43Z' fill='%23fff'/%3E%3Cpath d='M18.87,43.37c-.36-1.68-1.19-3.18-2.05-4.66-1.58-2.73-3.04-6.12-.89-9.02,1.71-2.31,5.08-2.85,7.48-1.19,2.92,2.03,2.76,5.81,1.24,8.65-.78,1.45-1.7,2.81-2.33,4.34-.69,1.67-.93,3.42-.97,5.22,0,.36,0,.73-.01,1.09h-2.11c0-1.48-.05-2.99-.36-4.43Z' fill='%23fff'/%3E%3C/g%3E%3Cg%3E%3Cpath d='M30.02,29.06c-1.27,1.15-2.16,2.63-3.01,4.1-1.57,2.73-3.78,5.69-7.37,5.28-2.86-.32-5.01-2.97-4.77-5.88,.3-3.55,3.65-5.3,6.87-5.4,1.64-.05,3.28,.06,4.92-.15,1.8-.24,3.43-.9,5.01-1.77,.32-.18,.63-.35,.95-.53l1.05,1.83c-1.29,.73-2.56,1.54-3.65,2.53Z' fill='%23fff'/%3E%3Cpath d='M36.06,25.58c1.63-.53,3.35-.56,5.06-.55,3.15,0,6.82-.43,8.26-3.74,1.15-2.64-.07-5.83-2.71-7.07-3.22-1.52-6.41,.51-8.11,3.25-.87,1.4-1.58,2.87-2.59,4.19-1.1,1.44-2.5,2.52-4.04,3.45-.31,.19-.62,.37-.94,.55l1.05,1.83c1.28-.75,2.62-1.45,4.01-1.9Z' fill='%23fff'/%3E%3C/g%3E%3Cg%3E%3Cpath d='M54.1,70.6c-1.27,1.15-2.16,2.63-3.01,4.1-1.57,2.73-3.78,5.69-7.37,5.28-2.86-.32-5.01-2.97-4.77-5.88,.3-3.55,3.65-5.3,6.87-5.4,1.64-.05,3.28,.06,4.92-.15,1.8-.24,3.43-.9,5.01-1.77,.32-.18,.63-.35,.95-.53l1.05,1.83c-1.29,.73-2.56,1.54-3.65,2.53Z' fill='%23fff'/%3E%3Cpath d='M60.14,67.12c1.63-.53,3.35-.56,5.06-.55,3.15,0,6.82-.43,8.26-3.74,1.15-2.64-.07-5.83-2.71-7.07-3.22-1.52-6.41,.51-8.11,3.25-.87,1.4-1.58,2.87-2.59,4.19-1.1,1.44-2.5,2.52-4.04,3.45-.31,.19-.62,.37-.94,.55l1.05,1.83c1.28-.75,2.62-1.45,4.01-1.9Z' fill='%23fff'/%3E%3C/g%3E%3Cg%3E%3Cpath d='M58.73,29.06c1.27,1.15,2.16,2.63,3.01,4.1,1.57,2.73,3.78,5.69,7.37,5.28,2.86-.32,5.01-2.97,4.77-5.88-.3-3.55-3.65-5.3-6.87-5.4-1.64-.05-3.28,.06-4.92-.15-1.8-.24-3.43-.9-5.01-1.77-.32-.18-.63-.35-.95-.53l-1.05,1.83c1.29,.73,2.56,1.54,3.65,2.53Z' fill='%23fff'/%3E%3Cpath d='M52.69,25.58c-1.63-.53-3.35-.56-5.06-.55-3.15,0-6.82-.43-8.26-3.74-1.15-2.64,.07-5.83,2.71-7.07,3.22-1.52,6.41,.51,8.11,3.25,.87,1.4,1.58,2.87,2.59,4.19,1.1,1.44,2.5,2.52,4.04,3.45,.31,.19,.62,.37,.94,.55l-1.05,1.83c-1.28-.75-2.62-1.45-4.01-1.9Z' fill='%23fff'/%3E%3C/g%3E%3Cg%3E%3Cpath d='M34.64,70.6c1.27,1.15,2.16,2.63,3.01,4.1,1.57,2.73,3.78,5.69,7.37,5.28,2.86-.32,5.01-2.97,4.77-5.88-.3-3.55-3.65-5.3-6.87-5.4-1.64-.05-3.28,.06-4.92-.15-1.8-.24-3.43-.9-5.01-1.77-.32-.18-.63-.35-.95-.53l-1.05,1.83c1.29,.73,2.56,1.54,3.65,2.53Z' fill='%23fff'/%3E%3Cpath d='M28.6,67.12c-1.63-.53-3.35-.56-5.06-.55-3.15,0-6.82-.43-8.26-3.74-1.15-2.64,.07-5.83,2.71-7.07,3.22-1.52,6.41,.51,8.11,3.25,.87,1.4,1.58,2.87,2.59,4.19,1.1,1.44,2.5,2.52,4.04,3.45,.31,.19,.62,.37,.94,.55l-1.05,1.83c-1.28-.75-2.62-1.45-4.01-1.9Z' fill='%23fff'/%3E%3C/g%3E%3Cg%3E%3Cg%3E%3Cpath d='M61.95,41.28c.53-1.63,.56-3.35,.55-5.06,0-3.15,.43-6.82,3.74-8.26,2.64-1.15,5.83,.07,7.07,2.71,1.52,3.22-.51,6.41-3.25,8.11-1.4,.87-2.87,1.58-4.19,2.59-1.44,1.1-2.52,2.5-3.45,4.04-.19,.31-.37,.62-.55,.94l-1.83-1.05c.75-1.28,1.45-2.62,1.9-4.01Z' fill='%23fff'/%3E%3Cpath d='M48.36,64.86c-1.15,1.27-2.63,2.16-4.1,3.01-2.73,1.57-5.69,3.78-5.28,7.37,.32,2.86,2.97,5.01,5.88,4.77,3.55-.3,5.3-3.65,5.4-6.87,.05-1.64-.06-3.28,.15-4.92,.24-1.8,.9-3.43,1.77-5.01,.18-.32,.35-.63,.53-.95l-1.83-1.05c-.73,1.29-1.54,2.56-2.53,3.65Z' fill='%23fff'/%3E%3Crect x='55.82' y='42.51' width='2.11' height='20.88' transform='translate(34.09 -21.34) rotate(30)' fill='%23fff'/%3E%3C/g%3E%3Cg%3E%3Cpath d='M26.79,41.28c-.53-1.63-.56-3.35-.55-5.06,0-3.15-.43-6.82-3.74-8.26-2.64-1.15-5.83,.07-7.07,2.71-1.52,3.22,.51,6.41,3.25,8.11,1.4,.87,2.87,1.58,4.19,2.59,1.44,1.1,2.52,2.5,3.45,4.04,.19,.31,.37,.62,.55,.94l1.83-1.05c-.75-1.28-1.45-2.62-1.9-4.01Z' fill='%23fff'/%3E%3Cpath d='M40.39,64.86c1.15,1.27,2.63,2.16,4.1,3.01,2.73,1.57,5.69,3.78,5.28,7.37-.32,2.86-2.97,5.01-5.88,4.77-3.55-.3-5.3-3.65-5.4-6.87-.05-1.64,.06-3.28-.15-4.92-.24-1.8-.9-3.43-1.77-5.01-.18-.32-.35-.63-.53-.95l1.83-1.05c.73,1.29,1.54,2.56,2.53,3.65Z' fill='%23fff'/%3E%3Crect x='30.82' y='42.51' width='2.11' height='20.88' transform='translate(85.95 82.86) rotate(150)' fill='%23fff'/%3E%3C/g%3E%3Cg%3E%3Cpath d='M57.96,34.4c1.68,.36,3.18,1.19,4.66,2.05,2.73,1.58,6.12,3.04,9.02,.89,2.31-1.71,2.85-5.08,1.19-7.48-2.03-2.92-5.81-2.76-8.65-1.24-1.45,.78-2.81,1.7-4.34,2.33-1.67,.69-3.42,.93-5.22,.97-.36,0-.73,0-1.09,.01v2.11c1.48,0,2.99,.05,4.43,.36Z' fill='%23fff'/%3E%3Cpath d='M30.75,34.39c-1.68,.36-3.18,1.19-4.66,2.05-2.73,1.58-6.12,3.04-9.02,.89-2.31-1.71-2.85-5.08-1.19-7.48,2.03-2.92,5.81-2.76,8.65-1.24,1.45,.78,2.81,1.7,4.34,2.33,1.67,.69,3.42,.93,5.22,.97,.36,0,.73,0,1.09,.01v2.11c-1.48,0-2.99,.05-4.43,.36Z' fill='%23fff'/%3E%3Crect x='44.26' y='22.53' width='2.11' height='20.88' transform='translate(12.35 78.29) rotate(-90)' fill='%23fff'/%3E%3C/g%3E%3C/g%3E%3Ccircle cx='44.37' cy='19.13' r='5.43' fill='%23fff'/%3E%3Ccircle cx='44.37' cy='74.59' r='5.43' fill='%23fff'/%3E%3Ccircle cx='68.39' cy='32.99' r='5.43' fill='%23fff'/%3E%3Ccircle cx='20.36' cy='60.72' r='5.43' fill='%23fff'/%3E%3Ccircle cx='20.36' cy='32.99' r='5.43' fill='%23fff'/%3E%3Ccircle cx='68.39' cy='60.72' r='5.43' fill='%23fff'/%3E%3C/g%3E%3C/g%3E%3C/svg%3E"
                },
                "label": "4",
                "scale_factor": 1,
                "type": "#15AFAC",
                "size": [
                  55,
                  55
                ],
                "position": [
                  0,
                  0
                ]
              },
              {
                "id": 5,
                "properties": {
                  "label": "5"
                },
                "color": "#15AFAC",
                "styles": {},
                "label": "5",
                "scale_factor": 1,
                "type": "#15AFAC",
                "size": [
                  55,
                  55
                ],
                "position": [
                  0,
                  0
                ]
              },
              {
                "id": 6,
                "properties": {
                  "label": "6"
                },
                "color": "#15AFAC",
                "styles": {
                  "image": "data:image/svg+xml,%3C%3Fxml version='1.0' encoding='UTF-8'%3F%3E%3Csvg id='a' xmlns='http://www.w3.org/2000/svg' viewBox='0 0 88.66 93.76'%3E%3Cg id='b'%3E%3Cpath d='M0,37.41l.09,19.36c.04,9.83,5.33,18.89,13.87,23.77l16.81,9.6c8.54,4.88,19.03,4.83,27.52-.13l16.72-9.76c8.49-4.96,13.69-14.06,13.65-23.9l-.09-19.36c-.05-9.83-5.33-18.89-13.87-23.77L57.89,3.62c-8.54-4.88-19.03-4.83-27.52,.13L13.65,13.51C5.16,18.46-.05,27.57,0,37.41' fill='%23242265'/%3E%3Cg id='c'%3E%3Cg%3E%3Cpath d='M42.96,64.19c-.36,1.68-1.19,3.18-2.05,4.66-1.58,2.73-3.04,6.12-.89,9.02,1.71,2.31,5.08,2.85,7.48,1.19,2.92-2.03,2.76-5.81,1.24-8.65-.78-1.45-1.7-2.81-2.33-4.34-.69-1.67-.93-3.42-.97-5.22,0-.36,0-.73-.01-1.09h-2.11c0,1.48-.05,2.99-.36,4.43Z' fill='%23fff'/%3E%3Cpath d='M42.96,29.53c-.36-1.68-1.19-3.18-2.05-4.66-1.58-2.73-3.04-6.12-.89-9.02,1.71-2.31,5.08-2.85,7.48-1.19,2.92,2.03,2.76,5.81,1.24,8.65-.78,1.45-1.7,2.81-2.33,4.34-.69,1.67-.93,3.42-.97,5.22,0,.36,0,.73-.01,1.09h-2.11c0-1.48-.05-2.99-.36-4.43Z' fill='%23fff'/%3E%3Crect x='43.32' y='33.66' width='2.11' height='26.44' fill='%23fff'/%3E%3C/g%3E%3Cg%3E%3Cpath d='M30.07,56.75c-1.27,1.15-2.16,2.63-3.01,4.1-1.57,2.73-3.78,5.69-7.37,5.28-2.86-.32-5.01-2.97-4.77-5.88,.3-3.55,3.65-5.3,6.87-5.4,1.64-.05,3.28,.06,4.92-.15,1.8-.24,3.43-.9,5.01-1.77,.32-.18,.63-.35,.95-.53l1.05,1.83c-1.29,.73-2.56,1.54-3.65,2.53Z' fill='%23fff'/%3E%3Cpath d='M60.09,39.42c1.63-.53,3.35-.56,5.06-.55,3.15,0,6.82-.43,8.26-3.74,1.15-2.64-.07-5.83-2.71-7.07-3.22-1.52-6.41,.51-8.11,3.25-.87,1.4-1.58,2.87-2.59,4.19-1.1,1.44-2.5,2.52-4.04,3.45-.31,.19-.62,.37-.94,.55l1.05,1.83c1.28-.75,2.62-1.45,4.01-1.9Z' fill='%23fff'/%3E%3Crect x='43.3' y='33.65' width='2.11' height='26.44' transform='translate(25.94 108.72) rotate(-120)' fill='%23fff'/%3E%3C/g%3E%3Cg%3E%3Cpath d='M60.09,54.3c1.63,.53,3.35,.56,5.06,.55,3.15,0,6.82,.43,8.26,3.74,1.15,2.64-.07,5.83-2.71,7.07-3.22,1.52-6.41-.51-8.11-3.25-.87-1.4-1.58-2.87-2.59-4.19-1.1-1.44-2.5-2.52-4.04-3.45-.31-.19-.62-.37-.94-.55l1.05-1.83c1.28,.75,2.62,1.45,4.01,1.9Z' fill='%23fff'/%3E%3Cpath d='M30.07,36.97c-1.27-1.15-2.16-2.63-3.01-4.1-1.57-2.73-3.78-5.69-7.37-5.28-2.86,.32-5.01,2.97-4.77,5.88,.3,3.55,3.65,5.3,6.87,5.4,1.64,.05,3.28-.06,4.92,.15,1.8,.24,3.43,.9,5.01,1.77,.32,.18,.63,.35,.95,.53l1.05-1.83c-1.29-.73-2.56-1.54-3.65-2.53Z' fill='%23fff'/%3E%3Crect x='43.34' y='33.65' width='2.11' height='26.44' transform='translate(107.18 31.86) rotate(120)' fill='%23fff'/%3E%3C/g%3E%3Cg%3E%3Cpath d='M66.99,50.35c-.36,1.68-1.19,3.18-2.05,4.66-1.58,2.73-3.04,6.12-.89,9.02,1.71,2.31,5.08,2.85,7.48,1.19,2.92-2.03,2.76-5.81,1.24-8.65-.78-1.45-1.7-2.81-2.33-4.34-.69-1.67-.93-3.42-.97-5.22,0-.36,0-.73-.01-1.09h-2.11c0,1.48-.05,2.99-.36,4.43Z' fill='%23fff'/%3E%3Cpath d='M66.99,43.37c-.36-1.68-1.19-3.18-2.05-4.66-1.58-2.73-3.04-6.12-.89-9.02,1.71-2.31,5.08-2.85,7.48-1.19,2.92,2.03,2.76,5.81,1.24,8.65-.78,1.45-1.7,2.81-2.33,4.34-.69,1.67-.93,3.42-.97,5.22,0,.36,0,.73-.01,1.09h-2.11c0-1.48-.05-2.99-.36-4.43Z' fill='%23fff'/%3E%3C/g%3E%3Cg%3E%3Cpath d='M18.87,50.35c-.36,1.68-1.19,3.18-2.05,4.66-1.58,2.73-3.04,6.12-.89,9.02,1.71,2.31,5.08,2.85,7.48,1.19,2.92-2.03,2.76-5.81,1.24-8.65-.78-1.45-1.7-2.81-2.33-4.34-.69-1.67-.93-3.42-.97-5.22,0-.36,0-.73-.01-1.09h-2.11c0,1.48-.05,2.99-.36,4.43Z' fill='%23fff'/%3E%3Cpath d='M18.87,43.37c-.36-1.68-1.19-3.18-2.05-4.66-1.58-2.73-3.04-6.12-.89-9.02,1.71-2.31,5.08-2.85,7.48-1.19,2.92,2.03,2.76,5.81,1.24,8.65-.78,1.45-1.7,2.81-2.33,4.34-.69,1.67-.93,3.42-.97,5.22,0,.36,0,.73-.01,1.09h-2.11c0-1.48-.05-2.99-.36-4.43Z' fill='%23fff'/%3E%3C/g%3E%3Cg%3E%3Cpath d='M30.02,29.06c-1.27,1.15-2.16,2.63-3.01,4.1-1.57,2.73-3.78,5.69-7.37,5.28-2.86-.32-5.01-2.97-4.77-5.88,.3-3.55,3.65-5.3,6.87-5.4,1.64-.05,3.28,.06,4.92-.15,1.8-.24,3.43-.9,5.01-1.77,.32-.18,.63-.35,.95-.53l1.05,1.83c-1.29,.73-2.56,1.54-3.65,2.53Z' fill='%23fff'/%3E%3Cpath d='M36.06,25.58c1.63-.53,3.35-.56,5.06-.55,3.15,0,6.82-.43,8.26-3.74,1.15-2.64-.07-5.83-2.71-7.07-3.22-1.52-6.41,.51-8.11,3.25-.87,1.4-1.58,2.87-2.59,4.19-1.1,1.44-2.5,2.52-4.04,3.45-.31,.19-.62,.37-.94,.55l1.05,1.83c1.28-.75,2.62-1.45,4.01-1.9Z' fill='%23fff'/%3E%3C/g%3E%3Cg%3E%3Cpath d='M54.1,70.6c-1.27,1.15-2.16,2.63-3.01,4.1-1.57,2.73-3.78,5.69-7.37,5.28-2.86-.32-5.01-2.97-4.77-5.88,.3-3.55,3.65-5.3,6.87-5.4,1.64-.05,3.28,.06,4.92-.15,1.8-.24,3.43-.9,5.01-1.77,.32-.18,.63-.35,.95-.53l1.05,1.83c-1.29,.73-2.56,1.54-3.65,2.53Z' fill='%23fff'/%3E%3Cpath d='M60.14,67.12c1.63-.53,3.35-.56,5.06-.55,3.15,0,6.82-.43,8.26-3.74,1.15-2.64-.07-5.83-2.71-7.07-3.22-1.52-6.41,.51-8.11,3.25-.87,1.4-1.58,2.87-2.59,4.19-1.1,1.44-2.5,2.52-4.04,3.45-.31,.19-.62,.37-.94,.55l1.05,1.83c1.28-.75,2.62-1.45,4.01-1.9Z' fill='%23fff'/%3E%3C/g%3E%3Cg%3E%3Cpath d='M58.73,29.06c1.27,1.15,2.16,2.63,3.01,4.1,1.57,2.73,3.78,5.69,7.37,5.28,2.86-.32,5.01-2.97,4.77-5.88-.3-3.55-3.65-5.3-6.87-5.4-1.64-.05-3.28,.06-4.92-.15-1.8-.24-3.43-.9-5.01-1.77-.32-.18-.63-.35-.95-.53l-1.05,1.83c1.29,.73,2.56,1.54,3.65,2.53Z' fill='%23fff'/%3E%3Cpath d='M52.69,25.58c-1.63-.53-3.35-.56-5.06-.55-3.15,0-6.82-.43-8.26-3.74-1.15-2.64,.07-5.83,2.71-7.07,3.22-1.52,6.41,.51,8.11,3.25,.87,1.4,1.58,2.87,2.59,4.19,1.1,1.44,2.5,2.52,4.04,3.45,.31,.19,.62,.37,.94,.55l-1.05,1.83c-1.28-.75-2.62-1.45-4.01-1.9Z' fill='%23fff'/%3E%3C/g%3E%3Cg%3E%3Cpath d='M34.64,70.6c1.27,1.15,2.16,2.63,3.01,4.1,1.57,2.73,3.78,5.69,7.37,5.28,2.86-.32,5.01-2.97,4.77-5.88-.3-3.55-3.65-5.3-6.87-5.4-1.64-.05-3.28,.06-4.92-.15-1.8-.24-3.43-.9-5.01-1.77-.32-.18-.63-.35-.95-.53l-1.05,1.83c1.29,.73,2.56,1.54,3.65,2.53Z' fill='%23fff'/%3E%3Cpath d='M28.6,67.12c-1.63-.53-3.35-.56-5.06-.55-3.15,0-6.82-.43-8.26-3.74-1.15-2.64,.07-5.83,2.71-7.07,3.22-1.52,6.41,.51,8.11,3.25,.87,1.4,1.58,2.87,2.59,4.19,1.1,1.44,2.5,2.52,4.04,3.45,.31,.19,.62,.37,.94,.55l-1.05,1.83c-1.28-.75-2.62-1.45-4.01-1.9Z' fill='%23fff'/%3E%3C/g%3E%3Cg%3E%3Cg%3E%3Cpath d='M61.95,41.28c.53-1.63,.56-3.35,.55-5.06,0-3.15,.43-6.82,3.74-8.26,2.64-1.15,5.83,.07,7.07,2.71,1.52,3.22-.51,6.41-3.25,8.11-1.4,.87-2.87,1.58-4.19,2.59-1.44,1.1-2.52,2.5-3.45,4.04-.19,.31-.37,.62-.55,.94l-1.83-1.05c.75-1.28,1.45-2.62,1.9-4.01Z' fill='%23fff'/%3E%3Cpath d='M48.36,64.86c-1.15,1.27-2.63,2.16-4.1,3.01-2.73,1.57-5.69,3.78-5.28,7.37,.32,2.86,2.97,5.01,5.88,4.77,3.55-.3,5.3-3.65,5.4-6.87,.05-1.64-.06-3.28,.15-4.92,.24-1.8,.9-3.43,1.77-5.01,.18-.32,.35-.63,.53-.95l-1.83-1.05c-.73,1.29-1.54,2.56-2.53,3.65Z' fill='%23fff'/%3E%3Crect x='55.82' y='42.51' width='2.11' height='20.88' transform='translate(34.09 -21.34) rotate(30)' fill='%23fff'/%3E%3C/g%3E%3Cg%3E%3Cpath d='M26.79,41.28c-.53-1.63-.56-3.35-.55-5.06,0-3.15-.43-6.82-3.74-8.26-2.64-1.15-5.83,.07-7.07,2.71-1.52,3.22,.51,6.41,3.25,8.11,1.4,.87,2.87,1.58,4.19,2.59,1.44,1.1,2.52,2.5,3.45,4.04,.19,.31,.37,.62,.55,.94l1.83-1.05c-.75-1.28-1.45-2.62-1.9-4.01Z' fill='%23fff'/%3E%3Cpath d='M40.39,64.86c1.15,1.27,2.63,2.16,4.1,3.01,2.73,1.57,5.69,3.78,5.28,7.37-.32,2.86-2.97,5.01-5.88,4.77-3.55-.3-5.3-3.65-5.4-6.87-.05-1.64,.06-3.28-.15-4.92-.24-1.8-.9-3.43-1.77-5.01-.18-.32-.35-.63-.53-.95l1.83-1.05c.73,1.29,1.54,2.56,2.53,3.65Z' fill='%23fff'/%3E%3Crect x='30.82' y='42.51' width='2.11' height='20.88' transform='translate(85.95 82.86) rotate(150)' fill='%23fff'/%3E%3C/g%3E%3Cg%3E%3Cpath d='M57.96,34.4c1.68,.36,3.18,1.19,4.66,2.05,2.73,1.58,6.12,3.04,9.02,.89,2.31-1.71,2.85-5.08,1.19-7.48-2.03-2.92-5.81-2.76-8.65-1.24-1.45,.78-2.81,1.7-4.34,2.33-1.67,.69-3.42,.93-5.22,.97-.36,0-.73,0-1.09,.01v2.11c1.48,0,2.99,.05,4.43,.36Z' fill='%23fff'/%3E%3Cpath d='M30.75,34.39c-1.68,.36-3.18,1.19-4.66,2.05-2.73,1.58-6.12,3.04-9.02,.89-2.31-1.71-2.85-5.08-1.19-7.48,2.03-2.92,5.81-2.76,8.65-1.24,1.45,.78,2.81,1.7,4.34,2.33,1.67,.69,3.42,.93,5.22,.97,.36,0,.73,0,1.09,.01v2.11c-1.48,0-2.99,.05-4.43,.36Z' fill='%23fff'/%3E%3Crect x='44.26' y='22.53' width='2.11' height='20.88' transform='translate(12.35 78.29) rotate(-90)' fill='%23fff'/%3E%3C/g%3E%3C/g%3E%3Ccircle cx='44.37' cy='19.13' r='5.43' fill='%23fff'/%3E%3Ccircle cx='44.37' cy='74.59' r='5.43' fill='%23fff'/%3E%3Ccircle cx='68.39' cy='32.99' r='5.43' fill='%23fff'/%3E%3Ccircle cx='20.36' cy='60.72' r='5.43' fill='%23fff'/%3E%3Ccircle cx='20.36' cy='32.99' r='5.43' fill='%23fff'/%3E%3Ccircle cx='68.39' cy='60.72' r='5.43' fill='%23fff'/%3E%3C/g%3E%3C/g%3E%3C/svg%3E"
                },
                "label": "6",
                "scale_factor": 1,
                "type": "#15AFAC",
                "size": [
                  55,
                  55
                ],
                "position": [
                  0,
                  0
                ]
              },
              {
                "id": 7,
                "properties": {
                  "label": "7"
                },
                "color": "#15AFAC",
                "styles": {},
                "label": "7",
                "scale_factor": 1,
                "type": "#15AFAC",
                "size": [
                  55,
                  55
                ],
                "position": [
                  0,
                  0
                ]
              },
              {
                "id": 8,
                "properties": {
                  "label": "8"
                },
                "color": "#15AFAC",
                "styles": {
                  "image": "data:image/svg+xml,%3C%3Fxml version='1.0' encoding='UTF-8'%3F%3E%3Csvg id='a' xmlns='http://www.w3.org/2000/svg' viewBox='0 0 88.66 93.76'%3E%3Cg id='b'%3E%3Cpath d='M0,37.41l.09,19.36c.04,9.83,5.33,18.89,13.87,23.77l16.81,9.6c8.54,4.88,19.03,4.83,27.52-.13l16.72-9.76c8.49-4.96,13.69-14.06,13.65-23.9l-.09-19.36c-.05-9.83-5.33-18.89-13.87-23.77L57.89,3.62c-8.54-4.88-19.03-4.83-27.52,.13L13.65,13.51C5.16,18.46-.05,27.57,0,37.41' fill='%23242265'/%3E%3Cg id='c'%3E%3Cg%3E%3Cpath d='M42.96,64.19c-.36,1.68-1.19,3.18-2.05,4.66-1.58,2.73-3.04,6.12-.89,9.02,1.71,2.31,5.08,2.85,7.48,1.19,2.92-2.03,2.76-5.81,1.24-8.65-.78-1.45-1.7-2.81-2.33-4.34-.69-1.67-.93-3.42-.97-5.22,0-.36,0-.73-.01-1.09h-2.11c0,1.48-.05,2.99-.36,4.43Z' fill='%23fff'/%3E%3Cpath d='M42.96,29.53c-.36-1.68-1.19-3.18-2.05-4.66-1.58-2.73-3.04-6.12-.89-9.02,1.71-2.31,5.08-2.85,7.48-1.19,2.92,2.03,2.76,5.81,1.24,8.65-.78,1.45-1.7,2.81-2.33,4.34-.69,1.67-.93,3.42-.97,5.22,0,.36,0,.73-.01,1.09h-2.11c0-1.48-.05-2.99-.36-4.43Z' fill='%23fff'/%3E%3Crect x='43.32' y='33.66' width='2.11' height='26.44' fill='%23fff'/%3E%3C/g%3E%3Cg%3E%3Cpath d='M30.07,56.75c-1.27,1.15-2.16,2.63-3.01,4.1-1.57,2.73-3.78,5.69-7.37,5.28-2.86-.32-5.01-2.97-4.77-5.88,.3-3.55,3.65-5.3,6.87-5.4,1.64-.05,3.28,.06,4.92-.15,1.8-.24,3.43-.9,5.01-1.77,.32-.18,.63-.35,.95-.53l1.05,1.83c-1.29,.73-2.56,1.54-3.65,2.53Z' fill='%23fff'/%3E%3Cpath d='M60.09,39.42c1.63-.53,3.35-.56,5.06-.55,3.15,0,6.82-.43,8.26-3.74,1.15-2.64-.07-5.83-2.71-7.07-3.22-1.52-6.41,.51-8.11,3.25-.87,1.4-1.58,2.87-2.59,4.19-1.1,1.44-2.5,2.52-4.04,3.45-.31,.19-.62,.37-.94,.55l1.05,1.83c1.28-.75,2.62-1.45,4.01-1.9Z' fill='%23fff'/%3E%3Crect x='43.3' y='33.65' width='2.11' height='26.44' transform='translate(25.94 108.72) rotate(-120)' fill='%23fff'/%3E%3C/g%3E%3Cg%3E%3Cpath d='M60.09,54.3c1.63,.53,3.35,.56,5.06,.55,3.15,0,6.82,.43,8.26,3.74,1.15,2.64-.07,5.83-2.71,7.07-3.22,1.52-6.41-.51-8.11-3.25-.87-1.4-1.58-2.87-2.59-4.19-1.1-1.44-2.5-2.52-4.04-3.45-.31-.19-.62-.37-.94-.55l1.05-1.83c1.28,.75,2.62,1.45,4.01,1.9Z' fill='%23fff'/%3E%3Cpath d='M30.07,36.97c-1.27-1.15-2.16-2.63-3.01-4.1-1.57-2.73-3.78-5.69-7.37-5.28-2.86,.32-5.01,2.97-4.77,5.88,.3,3.55,3.65,5.3,6.87,5.4,1.64,.05,3.28-.06,4.92,.15,1.8,.24,3.43,.9,5.01,1.77,.32,.18,.63,.35,.95,.53l1.05-1.83c-1.29-.73-2.56-1.54-3.65-2.53Z' fill='%23fff'/%3E%3Crect x='43.34' y='33.65' width='2.11' height='26.44' transform='translate(107.18 31.86) rotate(120)' fill='%23fff'/%3E%3C/g%3E%3Cg%3E%3Cpath d='M66.99,50.35c-.36,1.68-1.19,3.18-2.05,4.66-1.58,2.73-3.04,6.12-.89,9.02,1.71,2.31,5.08,2.85,7.48,1.19,2.92-2.03,2.76-5.81,1.24-8.65-.78-1.45-1.7-2.81-2.33-4.34-.69-1.67-.93-3.42-.97-5.22,0-.36,0-.73-.01-1.09h-2.11c0,1.48-.05,2.99-.36,4.43Z' fill='%23fff'/%3E%3Cpath d='M66.99,43.37c-.36-1.68-1.19-3.18-2.05-4.66-1.58-2.73-3.04-6.12-.89-9.02,1.71-2.31,5.08-2.85,7.48-1.19,2.92,2.03,2.76,5.81,1.24,8.65-.78,1.45-1.7,2.81-2.33,4.34-.69,1.67-.93,3.42-.97,5.22,0,.36,0,.73-.01,1.09h-2.11c0-1.48-.05-2.99-.36-4.43Z' fill='%23fff'/%3E%3C/g%3E%3Cg%3E%3Cpath d='M18.87,50.35c-.36,1.68-1.19,3.18-2.05,4.66-1.58,2.73-3.04,6.12-.89,9.02,1.71,2.31,5.08,2.85,7.48,1.19,2.92-2.03,2.76-5.81,1.24-8.65-.78-1.45-1.7-2.81-2.33-4.34-.69-1.67-.93-3.42-.97-5.22,0-.36,0-.73-.01-1.09h-2.11c0,1.48-.05,2.99-.36,4.43Z' fill='%23fff'/%3E%3Cpath d='M18.87,43.37c-.36-1.68-1.19-3.18-2.05-4.66-1.58-2.73-3.04-6.12-.89-9.02,1.71-2.31,5.08-2.85,7.48-1.19,2.92,2.03,2.76,5.81,1.24,8.65-.78,1.45-1.7,2.81-2.33,4.34-.69,1.67-.93,3.42-.97,5.22,0,.36,0,.73-.01,1.09h-2.11c0-1.48-.05-2.99-.36-4.43Z' fill='%23fff'/%3E%3C/g%3E%3Cg%3E%3Cpath d='M30.02,29.06c-1.27,1.15-2.16,2.63-3.01,4.1-1.57,2.73-3.78,5.69-7.37,5.28-2.86-.32-5.01-2.97-4.77-5.88,.3-3.55,3.65-5.3,6.87-5.4,1.64-.05,3.28,.06,4.92-.15,1.8-.24,3.43-.9,5.01-1.77,.32-.18,.63-.35,.95-.53l1.05,1.83c-1.29,.73-2.56,1.54-3.65,2.53Z' fill='%23fff'/%3E%3Cpath d='M36.06,25.58c1.63-.53,3.35-.56,5.06-.55,3.15,0,6.82-.43,8.26-3.74,1.15-2.64-.07-5.83-2.71-7.07-3.22-1.52-6.41,.51-8.11,3.25-.87,1.4-1.58,2.87-2.59,4.19-1.1,1.44-2.5,2.52-4.04,3.45-.31,.19-.62,.37-.94,.55l1.05,1.83c1.28-.75,2.62-1.45,4.01-1.9Z' fill='%23fff'/%3E%3C/g%3E%3Cg%3E%3Cpath d='M54.1,70.6c-1.27,1.15-2.16,2.63-3.01,4.1-1.57,2.73-3.78,5.69-7.37,5.28-2.86-.32-5.01-2.97-4.77-5.88,.3-3.55,3.65-5.3,6.87-5.4,1.64-.05,3.28,.06,4.92-.15,1.8-.24,3.43-.9,5.01-1.77,.32-.18,.63-.35,.95-.53l1.05,1.83c-1.29,.73-2.56,1.54-3.65,2.53Z' fill='%23fff'/%3E%3Cpath d='M60.14,67.12c1.63-.53,3.35-.56,5.06-.55,3.15,0,6.82-.43,8.26-3.74,1.15-2.64-.07-5.83-2.71-7.07-3.22-1.52-6.41,.51-8.11,3.25-.87,1.4-1.58,2.87-2.59,4.19-1.1,1.44-2.5,2.52-4.04,3.45-.31,.19-.62,.37-.94,.55l1.05,1.83c1.28-.75,2.62-1.45,4.01-1.9Z' fill='%23fff'/%3E%3C/g%3E%3Cg%3E%3Cpath d='M58.73,29.06c1.27,1.15,2.16,2.63,3.01,4.1,1.57,2.73,3.78,5.69,7.37,5.28,2.86-.32,5.01-2.97,4.77-5.88-.3-3.55-3.65-5.3-6.87-5.4-1.64-.05-3.28,.06-4.92-.15-1.8-.24-3.43-.9-5.01-1.77-.32-.18-.63-.35-.95-.53l-1.05,1.83c1.29,.73,2.56,1.54,3.65,2.53Z' fill='%23fff'/%3E%3Cpath d='M52.69,25.58c-1.63-.53-3.35-.56-5.06-.55-3.15,0-6.82-.43-8.26-3.74-1.15-2.64,.07-5.83,2.71-7.07,3.22-1.52,6.41,.51,8.11,3.25,.87,1.4,1.58,2.87,2.59,4.19,1.1,1.44,2.5,2.52,4.04,3.45,.31,.19,.62,.37,.94,.55l-1.05,1.83c-1.28-.75-2.62-1.45-4.01-1.9Z' fill='%23fff'/%3E%3C/g%3E%3Cg%3E%3Cpath d='M34.64,70.6c1.27,1.15,2.16,2.63,3.01,4.1,1.57,2.73,3.78,5.69,7.37,5.28,2.86-.32,5.01-2.97,4.77-5.88-.3-3.55-3.65-5.3-6.87-5.4-1.64-.05-3.28,.06-4.92-.15-1.8-.24-3.43-.9-5.01-1.77-.32-.18-.63-.35-.95-.53l-1.05,1.83c1.29,.73,2.56,1.54,3.65,2.53Z' fill='%23fff'/%3E%3Cpath d='M28.6,67.12c-1.63-.53-3.35-.56-5.06-.55-3.15,0-6.82-.43-8.26-3.74-1.15-2.64,.07-5.83,2.71-7.07,3.22-1.52,6.41,.51,8.11,3.25,.87,1.4,1.58,2.87,2.59,4.19,1.1,1.44,2.5,2.52,4.04,3.45,.31,.19,.62,.37,.94,.55l-1.05,1.83c-1.28-.75-2.62-1.45-4.01-1.9Z' fill='%23fff'/%3E%3C/g%3E%3Cg%3E%3Cg%3E%3Cpath d='M61.95,41.28c.53-1.63,.56-3.35,.55-5.06,0-3.15,.43-6.82,3.74-8.26,2.64-1.15,5.83,.07,7.07,2.71,1.52,3.22-.51,6.41-3.25,8.11-1.4,.87-2.87,1.58-4.19,2.59-1.44,1.1-2.52,2.5-3.45,4.04-.19,.31-.37,.62-.55,.94l-1.83-1.05c.75-1.28,1.45-2.62,1.9-4.01Z' fill='%23fff'/%3E%3Cpath d='M48.36,64.86c-1.15,1.27-2.63,2.16-4.1,3.01-2.73,1.57-5.69,3.78-5.28,7.37,.32,2.86,2.97,5.01,5.88,4.77,3.55-.3,5.3-3.65,5.4-6.87,.05-1.64-.06-3.28,.15-4.92,.24-1.8,.9-3.43,1.77-5.01,.18-.32,.35-.63,.53-.95l-1.83-1.05c-.73,1.29-1.54,2.56-2.53,3.65Z' fill='%23fff'/%3E%3Crect x='55.82' y='42.51' width='2.11' height='20.88' transform='translate(34.09 -21.34) rotate(30)' fill='%23fff'/%3E%3C/g%3E%3Cg%3E%3Cpath d='M26.79,41.28c-.53-1.63-.56-3.35-.55-5.06,0-3.15-.43-6.82-3.74-8.26-2.64-1.15-5.83,.07-7.07,2.71-1.52,3.22,.51,6.41,3.25,8.11,1.4,.87,2.87,1.58,4.19,2.59,1.44,1.1,2.52,2.5,3.45,4.04,.19,.31,.37,.62,.55,.94l1.83-1.05c-.75-1.28-1.45-2.62-1.9-4.01Z' fill='%23fff'/%3E%3Cpath d='M40.39,64.86c1.15,1.27,2.63,2.16,4.1,3.01,2.73,1.57,5.69,3.78,5.28,7.37-.32,2.86-2.97,5.01-5.88,4.77-3.55-.3-5.3-3.65-5.4-6.87-.05-1.64,.06-3.28-.15-4.92-.24-1.8-.9-3.43-1.77-5.01-.18-.32-.35-.63-.53-.95l1.83-1.05c.73,1.29,1.54,2.56,2.53,3.65Z' fill='%23fff'/%3E%3Crect x='30.82' y='42.51' width='2.11' height='20.88' transform='translate(85.95 82.86) rotate(150)' fill='%23fff'/%3E%3C/g%3E%3Cg%3E%3Cpath d='M57.96,34.4c1.68,.36,3.18,1.19,4.66,2.05,2.73,1.58,6.12,3.04,9.02,.89,2.31-1.71,2.85-5.08,1.19-7.48-2.03-2.92-5.81-2.76-8.65-1.24-1.45,.78-2.81,1.7-4.34,2.33-1.67,.69-3.42,.93-5.22,.97-.36,0-.73,0-1.09,.01v2.11c1.48,0,2.99,.05,4.43,.36Z' fill='%23fff'/%3E%3Cpath d='M30.75,34.39c-1.68,.36-3.18,1.19-4.66,2.05-2.73,1.58-6.12,3.04-9.02,.89-2.31-1.71-2.85-5.08-1.19-7.48,2.03-2.92,5.81-2.76,8.65-1.24,1.45,.78,2.81,1.7,4.34,2.33,1.67,.69,3.42,.93,5.22,.97,.36,0,.73,0,1.09,.01v2.11c-1.48,0-2.99,.05-4.43,.36Z' fill='%23fff'/%3E%3Crect x='44.26' y='22.53' width='2.11' height='20.88' transform='translate(12.35 78.29) rotate(-90)' fill='%23fff'/%3E%3C/g%3E%3C/g%3E%3Ccircle cx='44.37' cy='19.13' r='5.43' fill='%23fff'/%3E%3Ccircle cx='44.37' cy='74.59' r='5.43' fill='%23fff'/%3E%3Ccircle cx='68.39' cy='32.99' r='5.43' fill='%23fff'/%3E%3Ccircle cx='20.36' cy='60.72' r='5.43' fill='%23fff'/%3E%3Ccircle cx='20.36' cy='32.99' r='5.43' fill='%23fff'/%3E%3Ccircle cx='68.39' cy='60.72' r='5.43' fill='%23fff'/%3E%3C/g%3E%3C/g%3E%3C/svg%3E"
                },
                "label": "8",
                "scale_factor": 1,
                "type": "#15AFAC",
                "size": [
                  55,
                  55
                ],
                "position": [
                  0,
                  0
                ]
              },
              {
                "id": 9,
                "properties": {
                  "label": "9"
                },
                "color": "#15AFAC",
                "styles": {},
                "label": "9",
                "scale_factor": 1,
                "type": "#15AFAC",
                "size": [
                  55,
                  55
                ],
                "position": [
                  0,
                  0
                ]
              }
            ],
            "_overview": {
              "enabled": null,
              "overview_set": false
            },
            "_selected_graph": [
              [],
              []
            ],
            "_sidebar": {
              "enabled": false,
              "start_with": null
            },
            "_view_count": null,
            "_view_module": "yfiles-jupyter-graphs",
            "_view_module_version": "^1.10.0",
            "_view_name": "GraphView",
            "layout": "IPY_MODEL_4059d75b2da548d1a3213c594b0d9acb",
            "tabbable": null,
            "tooltip": null
          }
        },
        "4059d75b2da548d1a3213c594b0d9acb": {
          "model_module": "@jupyter-widgets/base",
          "model_name": "LayoutModel",
          "model_module_version": "2.0.0",
          "state": {
            "_model_module": "@jupyter-widgets/base",
            "_model_module_version": "2.0.0",
            "_model_name": "LayoutModel",
            "_view_count": null,
            "_view_module": "@jupyter-widgets/base",
            "_view_module_version": "2.0.0",
            "_view_name": "LayoutView",
            "align_content": null,
            "align_items": null,
            "align_self": null,
            "border_bottom": null,
            "border_left": null,
            "border_right": null,
            "border_top": null,
            "bottom": null,
            "display": null,
            "flex": null,
            "flex_flow": null,
            "grid_area": null,
            "grid_auto_columns": null,
            "grid_auto_flow": null,
            "grid_auto_rows": null,
            "grid_column": null,
            "grid_gap": null,
            "grid_row": null,
            "grid_template_areas": null,
            "grid_template_columns": null,
            "grid_template_rows": null,
            "height": "500px",
            "justify_content": null,
            "justify_items": null,
            "left": null,
            "margin": null,
            "max_height": null,
            "max_width": null,
            "min_height": null,
            "min_width": null,
            "object_fit": null,
            "object_position": null,
            "order": null,
            "overflow": null,
            "padding": null,
            "right": null,
            "top": null,
            "visibility": null,
            "width": "100%"
          }
        },
        "9ca3f197bcac4fe8a6a52f7b3f44492e": {
          "model_module": "yfiles-jupyter-graphs",
          "model_name": "GraphModel",
          "model_module_version": "^1.10.0",
          "state": {
            "_context_pane_mapping": [
              {
                "id": "Neighborhood",
                "title": "Neighborhood"
              },
              {
                "id": "Data",
                "title": "Data"
              },
              {
                "id": "Search",
                "title": "Search"
              },
              {
                "id": "About",
                "title": "About"
              }
            ],
            "_data_importer": "networkx",
            "_directed": false,
            "_dom_classes": [],
            "_edges": [
              {
                "id": 0,
                "start": 0,
                "end": 3,
                "properties": {},
                "color": "#15AFAC",
                "thickness_factor": 1,
                "directed": false,
                "styles": {},
                "label": ""
              },
              {
                "id": 1,
                "start": 0,
                "end": 4,
                "properties": {},
                "color": "#15AFAC",
                "thickness_factor": 1,
                "directed": false,
                "styles": {},
                "label": ""
              },
              {
                "id": 2,
                "start": 1,
                "end": 4,
                "properties": {},
                "color": "#15AFAC",
                "thickness_factor": 1,
                "directed": false,
                "styles": {},
                "label": ""
              },
              {
                "id": 3,
                "start": 2,
                "end": 5,
                "properties": {},
                "color": "#15AFAC",
                "thickness_factor": 1,
                "directed": false,
                "styles": {},
                "label": ""
              },
              {
                "id": 4,
                "start": 2,
                "end": 6,
                "properties": {},
                "color": "#15AFAC",
                "thickness_factor": 1,
                "directed": false,
                "styles": {},
                "label": ""
              },
              {
                "id": 5,
                "start": 2,
                "end": 7,
                "properties": {},
                "color": "#15AFAC",
                "thickness_factor": 1,
                "directed": false,
                "styles": {},
                "label": ""
              },
              {
                "id": 6,
                "start": 3,
                "end": 8,
                "properties": {},
                "color": "#15AFAC",
                "thickness_factor": 1,
                "directed": false,
                "styles": {},
                "label": ""
              },
              {
                "id": 7,
                "start": 3,
                "end": 9,
                "properties": {},
                "color": "#15AFAC",
                "thickness_factor": 1,
                "directed": false,
                "styles": {},
                "label": ""
              },
              {
                "id": 8,
                "start": 4,
                "end": 6,
                "properties": {},
                "color": "#15AFAC",
                "thickness_factor": 1,
                "directed": false,
                "styles": {},
                "label": ""
              },
              {
                "id": 9,
                "start": 5,
                "end": 6,
                "properties": {},
                "color": "#15AFAC",
                "thickness_factor": 1,
                "directed": false,
                "styles": {},
                "label": ""
              }
            ],
            "_graph_layout": {},
            "_highlight": [],
            "_license": {},
            "_model_module": "yfiles-jupyter-graphs",
            "_model_module_version": "^1.10.0",
            "_model_name": "GraphModel",
            "_neighborhood": {},
            "_nodes": [
              {
                "id": 0,
                "properties": {
                  "label": "0"
                },
                "color": "#15AFAC",
                "styles": {
                  "image": "https://gist.githubusercontent.com/fskpf/b5c5b765139056ddc7e72ea28d4f44e4/raw/f4483469a9d4f638a8acae39aa6adfd76b61f587/yfiles-jupyter-graphs-icon.svg"
                },
                "label": "0",
                "scale_factor": 1,
                "type": "#15AFAC",
                "size": [
                  55,
                  55
                ],
                "position": [
                  0,
                  0
                ]
              },
              {
                "id": 1,
                "properties": {
                  "label": "1"
                },
                "color": "#15AFAC",
                "styles": {},
                "label": "1",
                "scale_factor": 1,
                "type": "#15AFAC",
                "size": [
                  55,
                  55
                ],
                "position": [
                  0,
                  0
                ]
              },
              {
                "id": 2,
                "properties": {
                  "label": "2"
                },
                "color": "#15AFAC",
                "styles": {
                  "image": "https://gist.githubusercontent.com/fskpf/b5c5b765139056ddc7e72ea28d4f44e4/raw/f4483469a9d4f638a8acae39aa6adfd76b61f587/yfiles-jupyter-graphs-icon.svg"
                },
                "label": "2",
                "scale_factor": 1,
                "type": "#15AFAC",
                "size": [
                  55,
                  55
                ],
                "position": [
                  0,
                  0
                ]
              },
              {
                "id": 3,
                "properties": {
                  "label": "3"
                },
                "color": "#15AFAC",
                "styles": {},
                "label": "3",
                "scale_factor": 1,
                "type": "#15AFAC",
                "size": [
                  55,
                  55
                ],
                "position": [
                  0,
                  0
                ]
              },
              {
                "id": 4,
                "properties": {
                  "label": "4"
                },
                "color": "#15AFAC",
                "styles": {
                  "image": "https://gist.githubusercontent.com/fskpf/b5c5b765139056ddc7e72ea28d4f44e4/raw/f4483469a9d4f638a8acae39aa6adfd76b61f587/yfiles-jupyter-graphs-icon.svg"
                },
                "label": "4",
                "scale_factor": 1,
                "type": "#15AFAC",
                "size": [
                  55,
                  55
                ],
                "position": [
                  0,
                  0
                ]
              },
              {
                "id": 5,
                "properties": {
                  "label": "5"
                },
                "color": "#15AFAC",
                "styles": {},
                "label": "5",
                "scale_factor": 1,
                "type": "#15AFAC",
                "size": [
                  55,
                  55
                ],
                "position": [
                  0,
                  0
                ]
              },
              {
                "id": 6,
                "properties": {
                  "label": "6"
                },
                "color": "#15AFAC",
                "styles": {
                  "image": "https://gist.githubusercontent.com/fskpf/b5c5b765139056ddc7e72ea28d4f44e4/raw/f4483469a9d4f638a8acae39aa6adfd76b61f587/yfiles-jupyter-graphs-icon.svg"
                },
                "label": "6",
                "scale_factor": 1,
                "type": "#15AFAC",
                "size": [
                  55,
                  55
                ],
                "position": [
                  0,
                  0
                ]
              },
              {
                "id": 7,
                "properties": {
                  "label": "7"
                },
                "color": "#15AFAC",
                "styles": {},
                "label": "7",
                "scale_factor": 1,
                "type": "#15AFAC",
                "size": [
                  55,
                  55
                ],
                "position": [
                  0,
                  0
                ]
              },
              {
                "id": 8,
                "properties": {
                  "label": "8"
                },
                "color": "#15AFAC",
                "styles": {
                  "image": "https://gist.githubusercontent.com/fskpf/b5c5b765139056ddc7e72ea28d4f44e4/raw/f4483469a9d4f638a8acae39aa6adfd76b61f587/yfiles-jupyter-graphs-icon.svg"
                },
                "label": "8",
                "scale_factor": 1,
                "type": "#15AFAC",
                "size": [
                  55,
                  55
                ],
                "position": [
                  0,
                  0
                ]
              },
              {
                "id": 9,
                "properties": {
                  "label": "9"
                },
                "color": "#15AFAC",
                "styles": {},
                "label": "9",
                "scale_factor": 1,
                "type": "#15AFAC",
                "size": [
                  55,
                  55
                ],
                "position": [
                  0,
                  0
                ]
              }
            ],
            "_overview": {
              "enabled": null,
              "overview_set": false
            },
            "_selected_graph": [
              [],
              []
            ],
            "_sidebar": {
              "enabled": false,
              "start_with": null
            },
            "_view_count": null,
            "_view_module": "yfiles-jupyter-graphs",
            "_view_module_version": "^1.10.0",
            "_view_name": "GraphView",
            "layout": "IPY_MODEL_90b838848ddc48ca8dd2c083740a0866",
            "tabbable": null,
            "tooltip": null
          }
        },
        "90b838848ddc48ca8dd2c083740a0866": {
          "model_module": "@jupyter-widgets/base",
          "model_name": "LayoutModel",
          "model_module_version": "2.0.0",
          "state": {
            "_model_module": "@jupyter-widgets/base",
            "_model_module_version": "2.0.0",
            "_model_name": "LayoutModel",
            "_view_count": null,
            "_view_module": "@jupyter-widgets/base",
            "_view_module_version": "2.0.0",
            "_view_name": "LayoutView",
            "align_content": null,
            "align_items": null,
            "align_self": null,
            "border_bottom": null,
            "border_left": null,
            "border_right": null,
            "border_top": null,
            "bottom": null,
            "display": null,
            "flex": null,
            "flex_flow": null,
            "grid_area": null,
            "grid_auto_columns": null,
            "grid_auto_flow": null,
            "grid_auto_rows": null,
            "grid_column": null,
            "grid_gap": null,
            "grid_row": null,
            "grid_template_areas": null,
            "grid_template_columns": null,
            "grid_template_rows": null,
            "height": "500px",
            "justify_content": null,
            "justify_items": null,
            "left": null,
            "margin": null,
            "max_height": null,
            "max_width": null,
            "min_height": null,
            "min_width": null,
            "object_fit": null,
            "object_position": null,
            "order": null,
            "overflow": null,
            "padding": null,
            "right": null,
            "top": null,
            "visibility": null,
            "width": "100%"
          }
        },
        "207e58f92aea4b0baa219cf0ae9961a9": {
          "model_module": "yfiles-jupyter-graphs",
          "model_name": "GraphModel",
          "model_module_version": "^1.10.0",
          "state": {
            "_context_pane_mapping": [
              {
                "id": "Neighborhood",
                "title": "Neighborhood"
              },
              {
                "id": "Data",
                "title": "Data"
              },
              {
                "id": "Search",
                "title": "Search"
              },
              {
                "id": "About",
                "title": "About"
              }
            ],
            "_data_importer": "networkx",
            "_directed": false,
            "_dom_classes": [],
            "_edges": [
              {
                "id": 0,
                "start": 0,
                "end": 3,
                "properties": {},
                "color": "#15AFAC",
                "thickness_factor": 1,
                "directed": false,
                "styles": {},
                "label": ""
              },
              {
                "id": 1,
                "start": 0,
                "end": 4,
                "properties": {},
                "color": "#15AFAC",
                "thickness_factor": 1,
                "directed": false,
                "styles": {},
                "label": ""
              },
              {
                "id": 2,
                "start": 1,
                "end": 4,
                "properties": {},
                "color": "#15AFAC",
                "thickness_factor": 1,
                "directed": false,
                "styles": {},
                "label": ""
              },
              {
                "id": 3,
                "start": 2,
                "end": 5,
                "properties": {},
                "color": "#15AFAC",
                "thickness_factor": 1,
                "directed": false,
                "styles": {},
                "label": ""
              },
              {
                "id": 4,
                "start": 2,
                "end": 6,
                "properties": {},
                "color": "#15AFAC",
                "thickness_factor": 1,
                "directed": false,
                "styles": {},
                "label": ""
              },
              {
                "id": 5,
                "start": 2,
                "end": 7,
                "properties": {},
                "color": "#15AFAC",
                "thickness_factor": 1,
                "directed": false,
                "styles": {},
                "label": ""
              },
              {
                "id": 6,
                "start": 3,
                "end": 8,
                "properties": {},
                "color": "#15AFAC",
                "thickness_factor": 1,
                "directed": false,
                "styles": {},
                "label": ""
              },
              {
                "id": 7,
                "start": 3,
                "end": 9,
                "properties": {},
                "color": "#15AFAC",
                "thickness_factor": 1,
                "directed": false,
                "styles": {},
                "label": ""
              },
              {
                "id": 8,
                "start": 4,
                "end": 6,
                "properties": {},
                "color": "#15AFAC",
                "thickness_factor": 1,
                "directed": false,
                "styles": {},
                "label": ""
              },
              {
                "id": 9,
                "start": 5,
                "end": 6,
                "properties": {},
                "color": "#15AFAC",
                "thickness_factor": 1,
                "directed": false,
                "styles": {},
                "label": ""
              }
            ],
            "_graph_layout": {},
            "_highlight": [],
            "_license": {},
            "_model_module": "yfiles-jupyter-graphs",
            "_model_module_version": "^1.10.0",
            "_model_name": "GraphModel",
            "_neighborhood": {},
            "_nodes": [
              {
                "id": 0,
                "properties": {
                  "label": "0"
                },
                "color": "#15AFAC",
                "styles": {
                  "shape": "triangle",
                  "color": "red",
                  "image": "data:image/svg+xml,%3C%3Fxml version='1.0' encoding='UTF-8'%3F%3E%3Csvg id='a' xmlns='http://www.w3.org/2000/svg' viewBox='0 0 88.66 93.76'%3E%3Cg id='b'%3E%3Cpath d='M0,37.41l.09,19.36c.04,9.83,5.33,18.89,13.87,23.77l16.81,9.6c8.54,4.88,19.03,4.83,27.52-.13l16.72-9.76c8.49-4.96,13.69-14.06,13.65-23.9l-.09-19.36c-.05-9.83-5.33-18.89-13.87-23.77L57.89,3.62c-8.54-4.88-19.03-4.83-27.52,.13L13.65,13.51C5.16,18.46-.05,27.57,0,37.41' fill='%23242265'/%3E%3Cg id='c'%3E%3Cg%3E%3Cpath d='M42.96,64.19c-.36,1.68-1.19,3.18-2.05,4.66-1.58,2.73-3.04,6.12-.89,9.02,1.71,2.31,5.08,2.85,7.48,1.19,2.92-2.03,2.76-5.81,1.24-8.65-.78-1.45-1.7-2.81-2.33-4.34-.69-1.67-.93-3.42-.97-5.22,0-.36,0-.73-.01-1.09h-2.11c0,1.48-.05,2.99-.36,4.43Z' fill='%23fff'/%3E%3Cpath d='M42.96,29.53c-.36-1.68-1.19-3.18-2.05-4.66-1.58-2.73-3.04-6.12-.89-9.02,1.71-2.31,5.08-2.85,7.48-1.19,2.92,2.03,2.76,5.81,1.24,8.65-.78,1.45-1.7,2.81-2.33,4.34-.69,1.67-.93,3.42-.97,5.22,0,.36,0,.73-.01,1.09h-2.11c0-1.48-.05-2.99-.36-4.43Z' fill='%23fff'/%3E%3Crect x='43.32' y='33.66' width='2.11' height='26.44' fill='%23fff'/%3E%3C/g%3E%3Cg%3E%3Cpath d='M30.07,56.75c-1.27,1.15-2.16,2.63-3.01,4.1-1.57,2.73-3.78,5.69-7.37,5.28-2.86-.32-5.01-2.97-4.77-5.88,.3-3.55,3.65-5.3,6.87-5.4,1.64-.05,3.28,.06,4.92-.15,1.8-.24,3.43-.9,5.01-1.77,.32-.18,.63-.35,.95-.53l1.05,1.83c-1.29,.73-2.56,1.54-3.65,2.53Z' fill='%23fff'/%3E%3Cpath d='M60.09,39.42c1.63-.53,3.35-.56,5.06-.55,3.15,0,6.82-.43,8.26-3.74,1.15-2.64-.07-5.83-2.71-7.07-3.22-1.52-6.41,.51-8.11,3.25-.87,1.4-1.58,2.87-2.59,4.19-1.1,1.44-2.5,2.52-4.04,3.45-.31,.19-.62,.37-.94,.55l1.05,1.83c1.28-.75,2.62-1.45,4.01-1.9Z' fill='%23fff'/%3E%3Crect x='43.3' y='33.65' width='2.11' height='26.44' transform='translate(25.94 108.72) rotate(-120)' fill='%23fff'/%3E%3C/g%3E%3Cg%3E%3Cpath d='M60.09,54.3c1.63,.53,3.35,.56,5.06,.55,3.15,0,6.82,.43,8.26,3.74,1.15,2.64-.07,5.83-2.71,7.07-3.22,1.52-6.41-.51-8.11-3.25-.87-1.4-1.58-2.87-2.59-4.19-1.1-1.44-2.5-2.52-4.04-3.45-.31-.19-.62-.37-.94-.55l1.05-1.83c1.28,.75,2.62,1.45,4.01,1.9Z' fill='%23fff'/%3E%3Cpath d='M30.07,36.97c-1.27-1.15-2.16-2.63-3.01-4.1-1.57-2.73-3.78-5.69-7.37-5.28-2.86,.32-5.01,2.97-4.77,5.88,.3,3.55,3.65,5.3,6.87,5.4,1.64,.05,3.28-.06,4.92,.15,1.8,.24,3.43,.9,5.01,1.77,.32,.18,.63,.35,.95,.53l1.05-1.83c-1.29-.73-2.56-1.54-3.65-2.53Z' fill='%23fff'/%3E%3Crect x='43.34' y='33.65' width='2.11' height='26.44' transform='translate(107.18 31.86) rotate(120)' fill='%23fff'/%3E%3C/g%3E%3Cg%3E%3Cpath d='M66.99,50.35c-.36,1.68-1.19,3.18-2.05,4.66-1.58,2.73-3.04,6.12-.89,9.02,1.71,2.31,5.08,2.85,7.48,1.19,2.92-2.03,2.76-5.81,1.24-8.65-.78-1.45-1.7-2.81-2.33-4.34-.69-1.67-.93-3.42-.97-5.22,0-.36,0-.73-.01-1.09h-2.11c0,1.48-.05,2.99-.36,4.43Z' fill='%23fff'/%3E%3Cpath d='M66.99,43.37c-.36-1.68-1.19-3.18-2.05-4.66-1.58-2.73-3.04-6.12-.89-9.02,1.71-2.31,5.08-2.85,7.48-1.19,2.92,2.03,2.76,5.81,1.24,8.65-.78,1.45-1.7,2.81-2.33,4.34-.69,1.67-.93,3.42-.97,5.22,0,.36,0,.73-.01,1.09h-2.11c0-1.48-.05-2.99-.36-4.43Z' fill='%23fff'/%3E%3C/g%3E%3Cg%3E%3Cpath d='M18.87,50.35c-.36,1.68-1.19,3.18-2.05,4.66-1.58,2.73-3.04,6.12-.89,9.02,1.71,2.31,5.08,2.85,7.48,1.19,2.92-2.03,2.76-5.81,1.24-8.65-.78-1.45-1.7-2.81-2.33-4.34-.69-1.67-.93-3.42-.97-5.22,0-.36,0-.73-.01-1.09h-2.11c0,1.48-.05,2.99-.36,4.43Z' fill='%23fff'/%3E%3Cpath d='M18.87,43.37c-.36-1.68-1.19-3.18-2.05-4.66-1.58-2.73-3.04-6.12-.89-9.02,1.71-2.31,5.08-2.85,7.48-1.19,2.92,2.03,2.76,5.81,1.24,8.65-.78,1.45-1.7,2.81-2.33,4.34-.69,1.67-.93,3.42-.97,5.22,0,.36,0,.73-.01,1.09h-2.11c0-1.48-.05-2.99-.36-4.43Z' fill='%23fff'/%3E%3C/g%3E%3Cg%3E%3Cpath d='M30.02,29.06c-1.27,1.15-2.16,2.63-3.01,4.1-1.57,2.73-3.78,5.69-7.37,5.28-2.86-.32-5.01-2.97-4.77-5.88,.3-3.55,3.65-5.3,6.87-5.4,1.64-.05,3.28,.06,4.92-.15,1.8-.24,3.43-.9,5.01-1.77,.32-.18,.63-.35,.95-.53l1.05,1.83c-1.29,.73-2.56,1.54-3.65,2.53Z' fill='%23fff'/%3E%3Cpath d='M36.06,25.58c1.63-.53,3.35-.56,5.06-.55,3.15,0,6.82-.43,8.26-3.74,1.15-2.64-.07-5.83-2.71-7.07-3.22-1.52-6.41,.51-8.11,3.25-.87,1.4-1.58,2.87-2.59,4.19-1.1,1.44-2.5,2.52-4.04,3.45-.31,.19-.62,.37-.94,.55l1.05,1.83c1.28-.75,2.62-1.45,4.01-1.9Z' fill='%23fff'/%3E%3C/g%3E%3Cg%3E%3Cpath d='M54.1,70.6c-1.27,1.15-2.16,2.63-3.01,4.1-1.57,2.73-3.78,5.69-7.37,5.28-2.86-.32-5.01-2.97-4.77-5.88,.3-3.55,3.65-5.3,6.87-5.4,1.64-.05,3.28,.06,4.92-.15,1.8-.24,3.43-.9,5.01-1.77,.32-.18,.63-.35,.95-.53l1.05,1.83c-1.29,.73-2.56,1.54-3.65,2.53Z' fill='%23fff'/%3E%3Cpath d='M60.14,67.12c1.63-.53,3.35-.56,5.06-.55,3.15,0,6.82-.43,8.26-3.74,1.15-2.64-.07-5.83-2.71-7.07-3.22-1.52-6.41,.51-8.11,3.25-.87,1.4-1.58,2.87-2.59,4.19-1.1,1.44-2.5,2.52-4.04,3.45-.31,.19-.62,.37-.94,.55l1.05,1.83c1.28-.75,2.62-1.45,4.01-1.9Z' fill='%23fff'/%3E%3C/g%3E%3Cg%3E%3Cpath d='M58.73,29.06c1.27,1.15,2.16,2.63,3.01,4.1,1.57,2.73,3.78,5.69,7.37,5.28,2.86-.32,5.01-2.97,4.77-5.88-.3-3.55-3.65-5.3-6.87-5.4-1.64-.05-3.28,.06-4.92-.15-1.8-.24-3.43-.9-5.01-1.77-.32-.18-.63-.35-.95-.53l-1.05,1.83c1.29,.73,2.56,1.54,3.65,2.53Z' fill='%23fff'/%3E%3Cpath d='M52.69,25.58c-1.63-.53-3.35-.56-5.06-.55-3.15,0-6.82-.43-8.26-3.74-1.15-2.64,.07-5.83,2.71-7.07,3.22-1.52,6.41,.51,8.11,3.25,.87,1.4,1.58,2.87,2.59,4.19,1.1,1.44,2.5,2.52,4.04,3.45,.31,.19,.62,.37,.94,.55l-1.05,1.83c-1.28-.75-2.62-1.45-4.01-1.9Z' fill='%23fff'/%3E%3C/g%3E%3Cg%3E%3Cpath d='M34.64,70.6c1.27,1.15,2.16,2.63,3.01,4.1,1.57,2.73,3.78,5.69,7.37,5.28,2.86-.32,5.01-2.97,4.77-5.88-.3-3.55-3.65-5.3-6.87-5.4-1.64-.05-3.28,.06-4.92-.15-1.8-.24-3.43-.9-5.01-1.77-.32-.18-.63-.35-.95-.53l-1.05,1.83c1.29,.73,2.56,1.54,3.65,2.53Z' fill='%23fff'/%3E%3Cpath d='M28.6,67.12c-1.63-.53-3.35-.56-5.06-.55-3.15,0-6.82-.43-8.26-3.74-1.15-2.64,.07-5.83,2.71-7.07,3.22-1.52,6.41,.51,8.11,3.25,.87,1.4,1.58,2.87,2.59,4.19,1.1,1.44,2.5,2.52,4.04,3.45,.31,.19,.62,.37,.94,.55l-1.05,1.83c-1.28-.75-2.62-1.45-4.01-1.9Z' fill='%23fff'/%3E%3C/g%3E%3Cg%3E%3Cg%3E%3Cpath d='M61.95,41.28c.53-1.63,.56-3.35,.55-5.06,0-3.15,.43-6.82,3.74-8.26,2.64-1.15,5.83,.07,7.07,2.71,1.52,3.22-.51,6.41-3.25,8.11-1.4,.87-2.87,1.58-4.19,2.59-1.44,1.1-2.52,2.5-3.45,4.04-.19,.31-.37,.62-.55,.94l-1.83-1.05c.75-1.28,1.45-2.62,1.9-4.01Z' fill='%23fff'/%3E%3Cpath d='M48.36,64.86c-1.15,1.27-2.63,2.16-4.1,3.01-2.73,1.57-5.69,3.78-5.28,7.37,.32,2.86,2.97,5.01,5.88,4.77,3.55-.3,5.3-3.65,5.4-6.87,.05-1.64-.06-3.28,.15-4.92,.24-1.8,.9-3.43,1.77-5.01,.18-.32,.35-.63,.53-.95l-1.83-1.05c-.73,1.29-1.54,2.56-2.53,3.65Z' fill='%23fff'/%3E%3Crect x='55.82' y='42.51' width='2.11' height='20.88' transform='translate(34.09 -21.34) rotate(30)' fill='%23fff'/%3E%3C/g%3E%3Cg%3E%3Cpath d='M26.79,41.28c-.53-1.63-.56-3.35-.55-5.06,0-3.15-.43-6.82-3.74-8.26-2.64-1.15-5.83,.07-7.07,2.71-1.52,3.22,.51,6.41,3.25,8.11,1.4,.87,2.87,1.58,4.19,2.59,1.44,1.1,2.52,2.5,3.45,4.04,.19,.31,.37,.62,.55,.94l1.83-1.05c-.75-1.28-1.45-2.62-1.9-4.01Z' fill='%23fff'/%3E%3Cpath d='M40.39,64.86c1.15,1.27,2.63,2.16,4.1,3.01,2.73,1.57,5.69,3.78,5.28,7.37-.32,2.86-2.97,5.01-5.88,4.77-3.55-.3-5.3-3.65-5.4-6.87-.05-1.64,.06-3.28-.15-4.92-.24-1.8-.9-3.43-1.77-5.01-.18-.32-.35-.63-.53-.95l1.83-1.05c.73,1.29,1.54,2.56,2.53,3.65Z' fill='%23fff'/%3E%3Crect x='30.82' y='42.51' width='2.11' height='20.88' transform='translate(85.95 82.86) rotate(150)' fill='%23fff'/%3E%3C/g%3E%3Cg%3E%3Cpath d='M57.96,34.4c1.68,.36,3.18,1.19,4.66,2.05,2.73,1.58,6.12,3.04,9.02,.89,2.31-1.71,2.85-5.08,1.19-7.48-2.03-2.92-5.81-2.76-8.65-1.24-1.45,.78-2.81,1.7-4.34,2.33-1.67,.69-3.42,.93-5.22,.97-.36,0-.73,0-1.09,.01v2.11c1.48,0,2.99,.05,4.43,.36Z' fill='%23fff'/%3E%3Cpath d='M30.75,34.39c-1.68,.36-3.18,1.19-4.66,2.05-2.73,1.58-6.12,3.04-9.02,.89-2.31-1.71-2.85-5.08-1.19-7.48,2.03-2.92,5.81-2.76,8.65-1.24,1.45,.78,2.81,1.7,4.34,2.33,1.67,.69,3.42,.93,5.22,.97,.36,0,.73,0,1.09,.01v2.11c-1.48,0-2.99,.05-4.43,.36Z' fill='%23fff'/%3E%3Crect x='44.26' y='22.53' width='2.11' height='20.88' transform='translate(12.35 78.29) rotate(-90)' fill='%23fff'/%3E%3C/g%3E%3C/g%3E%3Ccircle cx='44.37' cy='19.13' r='5.43' fill='%23fff'/%3E%3Ccircle cx='44.37' cy='74.59' r='5.43' fill='%23fff'/%3E%3Ccircle cx='68.39' cy='32.99' r='5.43' fill='%23fff'/%3E%3Ccircle cx='20.36' cy='60.72' r='5.43' fill='%23fff'/%3E%3Ccircle cx='20.36' cy='32.99' r='5.43' fill='%23fff'/%3E%3Ccircle cx='68.39' cy='60.72' r='5.43' fill='%23fff'/%3E%3C/g%3E%3C/g%3E%3C/svg%3E"
                },
                "label": "0",
                "scale_factor": 1,
                "type": "#15AFAC",
                "size": [
                  55,
                  55
                ],
                "position": [
                  0,
                  0
                ]
              },
              {
                "id": 1,
                "properties": {
                  "label": "1"
                },
                "color": "#15AFAC",
                "styles": {
                  "shape": "triangle",
                  "color": "red",
                  "image": "data:image/svg+xml,%3C%3Fxml version='1.0' encoding='UTF-8'%3F%3E%3Csvg id='a' xmlns='http://www.w3.org/2000/svg' viewBox='0 0 88.66 93.76'%3E%3Cg id='b'%3E%3Cpath d='M0,37.41l.09,19.36c.04,9.83,5.33,18.89,13.87,23.77l16.81,9.6c8.54,4.88,19.03,4.83,27.52-.13l16.72-9.76c8.49-4.96,13.69-14.06,13.65-23.9l-.09-19.36c-.05-9.83-5.33-18.89-13.87-23.77L57.89,3.62c-8.54-4.88-19.03-4.83-27.52,.13L13.65,13.51C5.16,18.46-.05,27.57,0,37.41' fill='%23242265'/%3E%3Cg id='c'%3E%3Cg%3E%3Cpath d='M42.96,64.19c-.36,1.68-1.19,3.18-2.05,4.66-1.58,2.73-3.04,6.12-.89,9.02,1.71,2.31,5.08,2.85,7.48,1.19,2.92-2.03,2.76-5.81,1.24-8.65-.78-1.45-1.7-2.81-2.33-4.34-.69-1.67-.93-3.42-.97-5.22,0-.36,0-.73-.01-1.09h-2.11c0,1.48-.05,2.99-.36,4.43Z' fill='%23fff'/%3E%3Cpath d='M42.96,29.53c-.36-1.68-1.19-3.18-2.05-4.66-1.58-2.73-3.04-6.12-.89-9.02,1.71-2.31,5.08-2.85,7.48-1.19,2.92,2.03,2.76,5.81,1.24,8.65-.78,1.45-1.7,2.81-2.33,4.34-.69,1.67-.93,3.42-.97,5.22,0,.36,0,.73-.01,1.09h-2.11c0-1.48-.05-2.99-.36-4.43Z' fill='%23fff'/%3E%3Crect x='43.32' y='33.66' width='2.11' height='26.44' fill='%23fff'/%3E%3C/g%3E%3Cg%3E%3Cpath d='M30.07,56.75c-1.27,1.15-2.16,2.63-3.01,4.1-1.57,2.73-3.78,5.69-7.37,5.28-2.86-.32-5.01-2.97-4.77-5.88,.3-3.55,3.65-5.3,6.87-5.4,1.64-.05,3.28,.06,4.92-.15,1.8-.24,3.43-.9,5.01-1.77,.32-.18,.63-.35,.95-.53l1.05,1.83c-1.29,.73-2.56,1.54-3.65,2.53Z' fill='%23fff'/%3E%3Cpath d='M60.09,39.42c1.63-.53,3.35-.56,5.06-.55,3.15,0,6.82-.43,8.26-3.74,1.15-2.64-.07-5.83-2.71-7.07-3.22-1.52-6.41,.51-8.11,3.25-.87,1.4-1.58,2.87-2.59,4.19-1.1,1.44-2.5,2.52-4.04,3.45-.31,.19-.62,.37-.94,.55l1.05,1.83c1.28-.75,2.62-1.45,4.01-1.9Z' fill='%23fff'/%3E%3Crect x='43.3' y='33.65' width='2.11' height='26.44' transform='translate(25.94 108.72) rotate(-120)' fill='%23fff'/%3E%3C/g%3E%3Cg%3E%3Cpath d='M60.09,54.3c1.63,.53,3.35,.56,5.06,.55,3.15,0,6.82,.43,8.26,3.74,1.15,2.64-.07,5.83-2.71,7.07-3.22,1.52-6.41-.51-8.11-3.25-.87-1.4-1.58-2.87-2.59-4.19-1.1-1.44-2.5-2.52-4.04-3.45-.31-.19-.62-.37-.94-.55l1.05-1.83c1.28,.75,2.62,1.45,4.01,1.9Z' fill='%23fff'/%3E%3Cpath d='M30.07,36.97c-1.27-1.15-2.16-2.63-3.01-4.1-1.57-2.73-3.78-5.69-7.37-5.28-2.86,.32-5.01,2.97-4.77,5.88,.3,3.55,3.65,5.3,6.87,5.4,1.64,.05,3.28-.06,4.92,.15,1.8,.24,3.43,.9,5.01,1.77,.32,.18,.63,.35,.95,.53l1.05-1.83c-1.29-.73-2.56-1.54-3.65-2.53Z' fill='%23fff'/%3E%3Crect x='43.34' y='33.65' width='2.11' height='26.44' transform='translate(107.18 31.86) rotate(120)' fill='%23fff'/%3E%3C/g%3E%3Cg%3E%3Cpath d='M66.99,50.35c-.36,1.68-1.19,3.18-2.05,4.66-1.58,2.73-3.04,6.12-.89,9.02,1.71,2.31,5.08,2.85,7.48,1.19,2.92-2.03,2.76-5.81,1.24-8.65-.78-1.45-1.7-2.81-2.33-4.34-.69-1.67-.93-3.42-.97-5.22,0-.36,0-.73-.01-1.09h-2.11c0,1.48-.05,2.99-.36,4.43Z' fill='%23fff'/%3E%3Cpath d='M66.99,43.37c-.36-1.68-1.19-3.18-2.05-4.66-1.58-2.73-3.04-6.12-.89-9.02,1.71-2.31,5.08-2.85,7.48-1.19,2.92,2.03,2.76,5.81,1.24,8.65-.78,1.45-1.7,2.81-2.33,4.34-.69,1.67-.93,3.42-.97,5.22,0,.36,0,.73-.01,1.09h-2.11c0-1.48-.05-2.99-.36-4.43Z' fill='%23fff'/%3E%3C/g%3E%3Cg%3E%3Cpath d='M18.87,50.35c-.36,1.68-1.19,3.18-2.05,4.66-1.58,2.73-3.04,6.12-.89,9.02,1.71,2.31,5.08,2.85,7.48,1.19,2.92-2.03,2.76-5.81,1.24-8.65-.78-1.45-1.7-2.81-2.33-4.34-.69-1.67-.93-3.42-.97-5.22,0-.36,0-.73-.01-1.09h-2.11c0,1.48-.05,2.99-.36,4.43Z' fill='%23fff'/%3E%3Cpath d='M18.87,43.37c-.36-1.68-1.19-3.18-2.05-4.66-1.58-2.73-3.04-6.12-.89-9.02,1.71-2.31,5.08-2.85,7.48-1.19,2.92,2.03,2.76,5.81,1.24,8.65-.78,1.45-1.7,2.81-2.33,4.34-.69,1.67-.93,3.42-.97,5.22,0,.36,0,.73-.01,1.09h-2.11c0-1.48-.05-2.99-.36-4.43Z' fill='%23fff'/%3E%3C/g%3E%3Cg%3E%3Cpath d='M30.02,29.06c-1.27,1.15-2.16,2.63-3.01,4.1-1.57,2.73-3.78,5.69-7.37,5.28-2.86-.32-5.01-2.97-4.77-5.88,.3-3.55,3.65-5.3,6.87-5.4,1.64-.05,3.28,.06,4.92-.15,1.8-.24,3.43-.9,5.01-1.77,.32-.18,.63-.35,.95-.53l1.05,1.83c-1.29,.73-2.56,1.54-3.65,2.53Z' fill='%23fff'/%3E%3Cpath d='M36.06,25.58c1.63-.53,3.35-.56,5.06-.55,3.15,0,6.82-.43,8.26-3.74,1.15-2.64-.07-5.83-2.71-7.07-3.22-1.52-6.41,.51-8.11,3.25-.87,1.4-1.58,2.87-2.59,4.19-1.1,1.44-2.5,2.52-4.04,3.45-.31,.19-.62,.37-.94,.55l1.05,1.83c1.28-.75,2.62-1.45,4.01-1.9Z' fill='%23fff'/%3E%3C/g%3E%3Cg%3E%3Cpath d='M54.1,70.6c-1.27,1.15-2.16,2.63-3.01,4.1-1.57,2.73-3.78,5.69-7.37,5.28-2.86-.32-5.01-2.97-4.77-5.88,.3-3.55,3.65-5.3,6.87-5.4,1.64-.05,3.28,.06,4.92-.15,1.8-.24,3.43-.9,5.01-1.77,.32-.18,.63-.35,.95-.53l1.05,1.83c-1.29,.73-2.56,1.54-3.65,2.53Z' fill='%23fff'/%3E%3Cpath d='M60.14,67.12c1.63-.53,3.35-.56,5.06-.55,3.15,0,6.82-.43,8.26-3.74,1.15-2.64-.07-5.83-2.71-7.07-3.22-1.52-6.41,.51-8.11,3.25-.87,1.4-1.58,2.87-2.59,4.19-1.1,1.44-2.5,2.52-4.04,3.45-.31,.19-.62,.37-.94,.55l1.05,1.83c1.28-.75,2.62-1.45,4.01-1.9Z' fill='%23fff'/%3E%3C/g%3E%3Cg%3E%3Cpath d='M58.73,29.06c1.27,1.15,2.16,2.63,3.01,4.1,1.57,2.73,3.78,5.69,7.37,5.28,2.86-.32,5.01-2.97,4.77-5.88-.3-3.55-3.65-5.3-6.87-5.4-1.64-.05-3.28,.06-4.92-.15-1.8-.24-3.43-.9-5.01-1.77-.32-.18-.63-.35-.95-.53l-1.05,1.83c1.29,.73,2.56,1.54,3.65,2.53Z' fill='%23fff'/%3E%3Cpath d='M52.69,25.58c-1.63-.53-3.35-.56-5.06-.55-3.15,0-6.82-.43-8.26-3.74-1.15-2.64,.07-5.83,2.71-7.07,3.22-1.52,6.41,.51,8.11,3.25,.87,1.4,1.58,2.87,2.59,4.19,1.1,1.44,2.5,2.52,4.04,3.45,.31,.19,.62,.37,.94,.55l-1.05,1.83c-1.28-.75-2.62-1.45-4.01-1.9Z' fill='%23fff'/%3E%3C/g%3E%3Cg%3E%3Cpath d='M34.64,70.6c1.27,1.15,2.16,2.63,3.01,4.1,1.57,2.73,3.78,5.69,7.37,5.28,2.86-.32,5.01-2.97,4.77-5.88-.3-3.55-3.65-5.3-6.87-5.4-1.64-.05-3.28,.06-4.92-.15-1.8-.24-3.43-.9-5.01-1.77-.32-.18-.63-.35-.95-.53l-1.05,1.83c1.29,.73,2.56,1.54,3.65,2.53Z' fill='%23fff'/%3E%3Cpath d='M28.6,67.12c-1.63-.53-3.35-.56-5.06-.55-3.15,0-6.82-.43-8.26-3.74-1.15-2.64,.07-5.83,2.71-7.07,3.22-1.52,6.41,.51,8.11,3.25,.87,1.4,1.58,2.87,2.59,4.19,1.1,1.44,2.5,2.52,4.04,3.45,.31,.19,.62,.37,.94,.55l-1.05,1.83c-1.28-.75-2.62-1.45-4.01-1.9Z' fill='%23fff'/%3E%3C/g%3E%3Cg%3E%3Cg%3E%3Cpath d='M61.95,41.28c.53-1.63,.56-3.35,.55-5.06,0-3.15,.43-6.82,3.74-8.26,2.64-1.15,5.83,.07,7.07,2.71,1.52,3.22-.51,6.41-3.25,8.11-1.4,.87-2.87,1.58-4.19,2.59-1.44,1.1-2.52,2.5-3.45,4.04-.19,.31-.37,.62-.55,.94l-1.83-1.05c.75-1.28,1.45-2.62,1.9-4.01Z' fill='%23fff'/%3E%3Cpath d='M48.36,64.86c-1.15,1.27-2.63,2.16-4.1,3.01-2.73,1.57-5.69,3.78-5.28,7.37,.32,2.86,2.97,5.01,5.88,4.77,3.55-.3,5.3-3.65,5.4-6.87,.05-1.64-.06-3.28,.15-4.92,.24-1.8,.9-3.43,1.77-5.01,.18-.32,.35-.63,.53-.95l-1.83-1.05c-.73,1.29-1.54,2.56-2.53,3.65Z' fill='%23fff'/%3E%3Crect x='55.82' y='42.51' width='2.11' height='20.88' transform='translate(34.09 -21.34) rotate(30)' fill='%23fff'/%3E%3C/g%3E%3Cg%3E%3Cpath d='M26.79,41.28c-.53-1.63-.56-3.35-.55-5.06,0-3.15-.43-6.82-3.74-8.26-2.64-1.15-5.83,.07-7.07,2.71-1.52,3.22,.51,6.41,3.25,8.11,1.4,.87,2.87,1.58,4.19,2.59,1.44,1.1,2.52,2.5,3.45,4.04,.19,.31,.37,.62,.55,.94l1.83-1.05c-.75-1.28-1.45-2.62-1.9-4.01Z' fill='%23fff'/%3E%3Cpath d='M40.39,64.86c1.15,1.27,2.63,2.16,4.1,3.01,2.73,1.57,5.69,3.78,5.28,7.37-.32,2.86-2.97,5.01-5.88,4.77-3.55-.3-5.3-3.65-5.4-6.87-.05-1.64,.06-3.28-.15-4.92-.24-1.8-.9-3.43-1.77-5.01-.18-.32-.35-.63-.53-.95l1.83-1.05c.73,1.29,1.54,2.56,2.53,3.65Z' fill='%23fff'/%3E%3Crect x='30.82' y='42.51' width='2.11' height='20.88' transform='translate(85.95 82.86) rotate(150)' fill='%23fff'/%3E%3C/g%3E%3Cg%3E%3Cpath d='M57.96,34.4c1.68,.36,3.18,1.19,4.66,2.05,2.73,1.58,6.12,3.04,9.02,.89,2.31-1.71,2.85-5.08,1.19-7.48-2.03-2.92-5.81-2.76-8.65-1.24-1.45,.78-2.81,1.7-4.34,2.33-1.67,.69-3.42,.93-5.22,.97-.36,0-.73,0-1.09,.01v2.11c1.48,0,2.99,.05,4.43,.36Z' fill='%23fff'/%3E%3Cpath d='M30.75,34.39c-1.68,.36-3.18,1.19-4.66,2.05-2.73,1.58-6.12,3.04-9.02,.89-2.31-1.71-2.85-5.08-1.19-7.48,2.03-2.92,5.81-2.76,8.65-1.24,1.45,.78,2.81,1.7,4.34,2.33,1.67,.69,3.42,.93,5.22,.97,.36,0,.73,0,1.09,.01v2.11c-1.48,0-2.99,.05-4.43,.36Z' fill='%23fff'/%3E%3Crect x='44.26' y='22.53' width='2.11' height='20.88' transform='translate(12.35 78.29) rotate(-90)' fill='%23fff'/%3E%3C/g%3E%3C/g%3E%3Ccircle cx='44.37' cy='19.13' r='5.43' fill='%23fff'/%3E%3Ccircle cx='44.37' cy='74.59' r='5.43' fill='%23fff'/%3E%3Ccircle cx='68.39' cy='32.99' r='5.43' fill='%23fff'/%3E%3Ccircle cx='20.36' cy='60.72' r='5.43' fill='%23fff'/%3E%3Ccircle cx='20.36' cy='32.99' r='5.43' fill='%23fff'/%3E%3Ccircle cx='68.39' cy='60.72' r='5.43' fill='%23fff'/%3E%3C/g%3E%3C/g%3E%3C/svg%3E"
                },
                "label": "1",
                "scale_factor": 1,
                "type": "#15AFAC",
                "size": [
                  55,
                  55
                ],
                "position": [
                  0,
                  0
                ]
              },
              {
                "id": 2,
                "properties": {
                  "label": "2"
                },
                "color": "#15AFAC",
                "styles": {
                  "shape": "triangle",
                  "color": "red",
                  "image": "data:image/svg+xml,%3C%3Fxml version='1.0' encoding='UTF-8'%3F%3E%3Csvg id='a' xmlns='http://www.w3.org/2000/svg' viewBox='0 0 88.66 93.76'%3E%3Cg id='b'%3E%3Cpath d='M0,37.41l.09,19.36c.04,9.83,5.33,18.89,13.87,23.77l16.81,9.6c8.54,4.88,19.03,4.83,27.52-.13l16.72-9.76c8.49-4.96,13.69-14.06,13.65-23.9l-.09-19.36c-.05-9.83-5.33-18.89-13.87-23.77L57.89,3.62c-8.54-4.88-19.03-4.83-27.52,.13L13.65,13.51C5.16,18.46-.05,27.57,0,37.41' fill='%23242265'/%3E%3Cg id='c'%3E%3Cg%3E%3Cpath d='M42.96,64.19c-.36,1.68-1.19,3.18-2.05,4.66-1.58,2.73-3.04,6.12-.89,9.02,1.71,2.31,5.08,2.85,7.48,1.19,2.92-2.03,2.76-5.81,1.24-8.65-.78-1.45-1.7-2.81-2.33-4.34-.69-1.67-.93-3.42-.97-5.22,0-.36,0-.73-.01-1.09h-2.11c0,1.48-.05,2.99-.36,4.43Z' fill='%23fff'/%3E%3Cpath d='M42.96,29.53c-.36-1.68-1.19-3.18-2.05-4.66-1.58-2.73-3.04-6.12-.89-9.02,1.71-2.31,5.08-2.85,7.48-1.19,2.92,2.03,2.76,5.81,1.24,8.65-.78,1.45-1.7,2.81-2.33,4.34-.69,1.67-.93,3.42-.97,5.22,0,.36,0,.73-.01,1.09h-2.11c0-1.48-.05-2.99-.36-4.43Z' fill='%23fff'/%3E%3Crect x='43.32' y='33.66' width='2.11' height='26.44' fill='%23fff'/%3E%3C/g%3E%3Cg%3E%3Cpath d='M30.07,56.75c-1.27,1.15-2.16,2.63-3.01,4.1-1.57,2.73-3.78,5.69-7.37,5.28-2.86-.32-5.01-2.97-4.77-5.88,.3-3.55,3.65-5.3,6.87-5.4,1.64-.05,3.28,.06,4.92-.15,1.8-.24,3.43-.9,5.01-1.77,.32-.18,.63-.35,.95-.53l1.05,1.83c-1.29,.73-2.56,1.54-3.65,2.53Z' fill='%23fff'/%3E%3Cpath d='M60.09,39.42c1.63-.53,3.35-.56,5.06-.55,3.15,0,6.82-.43,8.26-3.74,1.15-2.64-.07-5.83-2.71-7.07-3.22-1.52-6.41,.51-8.11,3.25-.87,1.4-1.58,2.87-2.59,4.19-1.1,1.44-2.5,2.52-4.04,3.45-.31,.19-.62,.37-.94,.55l1.05,1.83c1.28-.75,2.62-1.45,4.01-1.9Z' fill='%23fff'/%3E%3Crect x='43.3' y='33.65' width='2.11' height='26.44' transform='translate(25.94 108.72) rotate(-120)' fill='%23fff'/%3E%3C/g%3E%3Cg%3E%3Cpath d='M60.09,54.3c1.63,.53,3.35,.56,5.06,.55,3.15,0,6.82,.43,8.26,3.74,1.15,2.64-.07,5.83-2.71,7.07-3.22,1.52-6.41-.51-8.11-3.25-.87-1.4-1.58-2.87-2.59-4.19-1.1-1.44-2.5-2.52-4.04-3.45-.31-.19-.62-.37-.94-.55l1.05-1.83c1.28,.75,2.62,1.45,4.01,1.9Z' fill='%23fff'/%3E%3Cpath d='M30.07,36.97c-1.27-1.15-2.16-2.63-3.01-4.1-1.57-2.73-3.78-5.69-7.37-5.28-2.86,.32-5.01,2.97-4.77,5.88,.3,3.55,3.65,5.3,6.87,5.4,1.64,.05,3.28-.06,4.92,.15,1.8,.24,3.43,.9,5.01,1.77,.32,.18,.63,.35,.95,.53l1.05-1.83c-1.29-.73-2.56-1.54-3.65-2.53Z' fill='%23fff'/%3E%3Crect x='43.34' y='33.65' width='2.11' height='26.44' transform='translate(107.18 31.86) rotate(120)' fill='%23fff'/%3E%3C/g%3E%3Cg%3E%3Cpath d='M66.99,50.35c-.36,1.68-1.19,3.18-2.05,4.66-1.58,2.73-3.04,6.12-.89,9.02,1.71,2.31,5.08,2.85,7.48,1.19,2.92-2.03,2.76-5.81,1.24-8.65-.78-1.45-1.7-2.81-2.33-4.34-.69-1.67-.93-3.42-.97-5.22,0-.36,0-.73-.01-1.09h-2.11c0,1.48-.05,2.99-.36,4.43Z' fill='%23fff'/%3E%3Cpath d='M66.99,43.37c-.36-1.68-1.19-3.18-2.05-4.66-1.58-2.73-3.04-6.12-.89-9.02,1.71-2.31,5.08-2.85,7.48-1.19,2.92,2.03,2.76,5.81,1.24,8.65-.78,1.45-1.7,2.81-2.33,4.34-.69,1.67-.93,3.42-.97,5.22,0,.36,0,.73-.01,1.09h-2.11c0-1.48-.05-2.99-.36-4.43Z' fill='%23fff'/%3E%3C/g%3E%3Cg%3E%3Cpath d='M18.87,50.35c-.36,1.68-1.19,3.18-2.05,4.66-1.58,2.73-3.04,6.12-.89,9.02,1.71,2.31,5.08,2.85,7.48,1.19,2.92-2.03,2.76-5.81,1.24-8.65-.78-1.45-1.7-2.81-2.33-4.34-.69-1.67-.93-3.42-.97-5.22,0-.36,0-.73-.01-1.09h-2.11c0,1.48-.05,2.99-.36,4.43Z' fill='%23fff'/%3E%3Cpath d='M18.87,43.37c-.36-1.68-1.19-3.18-2.05-4.66-1.58-2.73-3.04-6.12-.89-9.02,1.71-2.31,5.08-2.85,7.48-1.19,2.92,2.03,2.76,5.81,1.24,8.65-.78,1.45-1.7,2.81-2.33,4.34-.69,1.67-.93,3.42-.97,5.22,0,.36,0,.73-.01,1.09h-2.11c0-1.48-.05-2.99-.36-4.43Z' fill='%23fff'/%3E%3C/g%3E%3Cg%3E%3Cpath d='M30.02,29.06c-1.27,1.15-2.16,2.63-3.01,4.1-1.57,2.73-3.78,5.69-7.37,5.28-2.86-.32-5.01-2.97-4.77-5.88,.3-3.55,3.65-5.3,6.87-5.4,1.64-.05,3.28,.06,4.92-.15,1.8-.24,3.43-.9,5.01-1.77,.32-.18,.63-.35,.95-.53l1.05,1.83c-1.29,.73-2.56,1.54-3.65,2.53Z' fill='%23fff'/%3E%3Cpath d='M36.06,25.58c1.63-.53,3.35-.56,5.06-.55,3.15,0,6.82-.43,8.26-3.74,1.15-2.64-.07-5.83-2.71-7.07-3.22-1.52-6.41,.51-8.11,3.25-.87,1.4-1.58,2.87-2.59,4.19-1.1,1.44-2.5,2.52-4.04,3.45-.31,.19-.62,.37-.94,.55l1.05,1.83c1.28-.75,2.62-1.45,4.01-1.9Z' fill='%23fff'/%3E%3C/g%3E%3Cg%3E%3Cpath d='M54.1,70.6c-1.27,1.15-2.16,2.63-3.01,4.1-1.57,2.73-3.78,5.69-7.37,5.28-2.86-.32-5.01-2.97-4.77-5.88,.3-3.55,3.65-5.3,6.87-5.4,1.64-.05,3.28,.06,4.92-.15,1.8-.24,3.43-.9,5.01-1.77,.32-.18,.63-.35,.95-.53l1.05,1.83c-1.29,.73-2.56,1.54-3.65,2.53Z' fill='%23fff'/%3E%3Cpath d='M60.14,67.12c1.63-.53,3.35-.56,5.06-.55,3.15,0,6.82-.43,8.26-3.74,1.15-2.64-.07-5.83-2.71-7.07-3.22-1.52-6.41,.51-8.11,3.25-.87,1.4-1.58,2.87-2.59,4.19-1.1,1.44-2.5,2.52-4.04,3.45-.31,.19-.62,.37-.94,.55l1.05,1.83c1.28-.75,2.62-1.45,4.01-1.9Z' fill='%23fff'/%3E%3C/g%3E%3Cg%3E%3Cpath d='M58.73,29.06c1.27,1.15,2.16,2.63,3.01,4.1,1.57,2.73,3.78,5.69,7.37,5.28,2.86-.32,5.01-2.97,4.77-5.88-.3-3.55-3.65-5.3-6.87-5.4-1.64-.05-3.28,.06-4.92-.15-1.8-.24-3.43-.9-5.01-1.77-.32-.18-.63-.35-.95-.53l-1.05,1.83c1.29,.73,2.56,1.54,3.65,2.53Z' fill='%23fff'/%3E%3Cpath d='M52.69,25.58c-1.63-.53-3.35-.56-5.06-.55-3.15,0-6.82-.43-8.26-3.74-1.15-2.64,.07-5.83,2.71-7.07,3.22-1.52,6.41,.51,8.11,3.25,.87,1.4,1.58,2.87,2.59,4.19,1.1,1.44,2.5,2.52,4.04,3.45,.31,.19,.62,.37,.94,.55l-1.05,1.83c-1.28-.75-2.62-1.45-4.01-1.9Z' fill='%23fff'/%3E%3C/g%3E%3Cg%3E%3Cpath d='M34.64,70.6c1.27,1.15,2.16,2.63,3.01,4.1,1.57,2.73,3.78,5.69,7.37,5.28,2.86-.32,5.01-2.97,4.77-5.88-.3-3.55-3.65-5.3-6.87-5.4-1.64-.05-3.28,.06-4.92-.15-1.8-.24-3.43-.9-5.01-1.77-.32-.18-.63-.35-.95-.53l-1.05,1.83c1.29,.73,2.56,1.54,3.65,2.53Z' fill='%23fff'/%3E%3Cpath d='M28.6,67.12c-1.63-.53-3.35-.56-5.06-.55-3.15,0-6.82-.43-8.26-3.74-1.15-2.64,.07-5.83,2.71-7.07,3.22-1.52,6.41,.51,8.11,3.25,.87,1.4,1.58,2.87,2.59,4.19,1.1,1.44,2.5,2.52,4.04,3.45,.31,.19,.62,.37,.94,.55l-1.05,1.83c-1.28-.75-2.62-1.45-4.01-1.9Z' fill='%23fff'/%3E%3C/g%3E%3Cg%3E%3Cg%3E%3Cpath d='M61.95,41.28c.53-1.63,.56-3.35,.55-5.06,0-3.15,.43-6.82,3.74-8.26,2.64-1.15,5.83,.07,7.07,2.71,1.52,3.22-.51,6.41-3.25,8.11-1.4,.87-2.87,1.58-4.19,2.59-1.44,1.1-2.52,2.5-3.45,4.04-.19,.31-.37,.62-.55,.94l-1.83-1.05c.75-1.28,1.45-2.62,1.9-4.01Z' fill='%23fff'/%3E%3Cpath d='M48.36,64.86c-1.15,1.27-2.63,2.16-4.1,3.01-2.73,1.57-5.69,3.78-5.28,7.37,.32,2.86,2.97,5.01,5.88,4.77,3.55-.3,5.3-3.65,5.4-6.87,.05-1.64-.06-3.28,.15-4.92,.24-1.8,.9-3.43,1.77-5.01,.18-.32,.35-.63,.53-.95l-1.83-1.05c-.73,1.29-1.54,2.56-2.53,3.65Z' fill='%23fff'/%3E%3Crect x='55.82' y='42.51' width='2.11' height='20.88' transform='translate(34.09 -21.34) rotate(30)' fill='%23fff'/%3E%3C/g%3E%3Cg%3E%3Cpath d='M26.79,41.28c-.53-1.63-.56-3.35-.55-5.06,0-3.15-.43-6.82-3.74-8.26-2.64-1.15-5.83,.07-7.07,2.71-1.52,3.22,.51,6.41,3.25,8.11,1.4,.87,2.87,1.58,4.19,2.59,1.44,1.1,2.52,2.5,3.45,4.04,.19,.31,.37,.62,.55,.94l1.83-1.05c-.75-1.28-1.45-2.62-1.9-4.01Z' fill='%23fff'/%3E%3Cpath d='M40.39,64.86c1.15,1.27,2.63,2.16,4.1,3.01,2.73,1.57,5.69,3.78,5.28,7.37-.32,2.86-2.97,5.01-5.88,4.77-3.55-.3-5.3-3.65-5.4-6.87-.05-1.64,.06-3.28-.15-4.92-.24-1.8-.9-3.43-1.77-5.01-.18-.32-.35-.63-.53-.95l1.83-1.05c.73,1.29,1.54,2.56,2.53,3.65Z' fill='%23fff'/%3E%3Crect x='30.82' y='42.51' width='2.11' height='20.88' transform='translate(85.95 82.86) rotate(150)' fill='%23fff'/%3E%3C/g%3E%3Cg%3E%3Cpath d='M57.96,34.4c1.68,.36,3.18,1.19,4.66,2.05,2.73,1.58,6.12,3.04,9.02,.89,2.31-1.71,2.85-5.08,1.19-7.48-2.03-2.92-5.81-2.76-8.65-1.24-1.45,.78-2.81,1.7-4.34,2.33-1.67,.69-3.42,.93-5.22,.97-.36,0-.73,0-1.09,.01v2.11c1.48,0,2.99,.05,4.43,.36Z' fill='%23fff'/%3E%3Cpath d='M30.75,34.39c-1.68,.36-3.18,1.19-4.66,2.05-2.73,1.58-6.12,3.04-9.02,.89-2.31-1.71-2.85-5.08-1.19-7.48,2.03-2.92,5.81-2.76,8.65-1.24,1.45,.78,2.81,1.7,4.34,2.33,1.67,.69,3.42,.93,5.22,.97,.36,0,.73,0,1.09,.01v2.11c-1.48,0-2.99,.05-4.43,.36Z' fill='%23fff'/%3E%3Crect x='44.26' y='22.53' width='2.11' height='20.88' transform='translate(12.35 78.29) rotate(-90)' fill='%23fff'/%3E%3C/g%3E%3C/g%3E%3Ccircle cx='44.37' cy='19.13' r='5.43' fill='%23fff'/%3E%3Ccircle cx='44.37' cy='74.59' r='5.43' fill='%23fff'/%3E%3Ccircle cx='68.39' cy='32.99' r='5.43' fill='%23fff'/%3E%3Ccircle cx='20.36' cy='60.72' r='5.43' fill='%23fff'/%3E%3Ccircle cx='20.36' cy='32.99' r='5.43' fill='%23fff'/%3E%3Ccircle cx='68.39' cy='60.72' r='5.43' fill='%23fff'/%3E%3C/g%3E%3C/g%3E%3C/svg%3E"
                },
                "label": "2",
                "scale_factor": 1,
                "type": "#15AFAC",
                "size": [
                  55,
                  55
                ],
                "position": [
                  0,
                  0
                ]
              },
              {
                "id": 3,
                "properties": {
                  "label": "3"
                },
                "color": "#15AFAC",
                "styles": {
                  "shape": "triangle",
                  "color": "red",
                  "image": "data:image/svg+xml,%3C%3Fxml version='1.0' encoding='UTF-8'%3F%3E%3Csvg id='a' xmlns='http://www.w3.org/2000/svg' viewBox='0 0 88.66 93.76'%3E%3Cg id='b'%3E%3Cpath d='M0,37.41l.09,19.36c.04,9.83,5.33,18.89,13.87,23.77l16.81,9.6c8.54,4.88,19.03,4.83,27.52-.13l16.72-9.76c8.49-4.96,13.69-14.06,13.65-23.9l-.09-19.36c-.05-9.83-5.33-18.89-13.87-23.77L57.89,3.62c-8.54-4.88-19.03-4.83-27.52,.13L13.65,13.51C5.16,18.46-.05,27.57,0,37.41' fill='%23242265'/%3E%3Cg id='c'%3E%3Cg%3E%3Cpath d='M42.96,64.19c-.36,1.68-1.19,3.18-2.05,4.66-1.58,2.73-3.04,6.12-.89,9.02,1.71,2.31,5.08,2.85,7.48,1.19,2.92-2.03,2.76-5.81,1.24-8.65-.78-1.45-1.7-2.81-2.33-4.34-.69-1.67-.93-3.42-.97-5.22,0-.36,0-.73-.01-1.09h-2.11c0,1.48-.05,2.99-.36,4.43Z' fill='%23fff'/%3E%3Cpath d='M42.96,29.53c-.36-1.68-1.19-3.18-2.05-4.66-1.58-2.73-3.04-6.12-.89-9.02,1.71-2.31,5.08-2.85,7.48-1.19,2.92,2.03,2.76,5.81,1.24,8.65-.78,1.45-1.7,2.81-2.33,4.34-.69,1.67-.93,3.42-.97,5.22,0,.36,0,.73-.01,1.09h-2.11c0-1.48-.05-2.99-.36-4.43Z' fill='%23fff'/%3E%3Crect x='43.32' y='33.66' width='2.11' height='26.44' fill='%23fff'/%3E%3C/g%3E%3Cg%3E%3Cpath d='M30.07,56.75c-1.27,1.15-2.16,2.63-3.01,4.1-1.57,2.73-3.78,5.69-7.37,5.28-2.86-.32-5.01-2.97-4.77-5.88,.3-3.55,3.65-5.3,6.87-5.4,1.64-.05,3.28,.06,4.92-.15,1.8-.24,3.43-.9,5.01-1.77,.32-.18,.63-.35,.95-.53l1.05,1.83c-1.29,.73-2.56,1.54-3.65,2.53Z' fill='%23fff'/%3E%3Cpath d='M60.09,39.42c1.63-.53,3.35-.56,5.06-.55,3.15,0,6.82-.43,8.26-3.74,1.15-2.64-.07-5.83-2.71-7.07-3.22-1.52-6.41,.51-8.11,3.25-.87,1.4-1.58,2.87-2.59,4.19-1.1,1.44-2.5,2.52-4.04,3.45-.31,.19-.62,.37-.94,.55l1.05,1.83c1.28-.75,2.62-1.45,4.01-1.9Z' fill='%23fff'/%3E%3Crect x='43.3' y='33.65' width='2.11' height='26.44' transform='translate(25.94 108.72) rotate(-120)' fill='%23fff'/%3E%3C/g%3E%3Cg%3E%3Cpath d='M60.09,54.3c1.63,.53,3.35,.56,5.06,.55,3.15,0,6.82,.43,8.26,3.74,1.15,2.64-.07,5.83-2.71,7.07-3.22,1.52-6.41-.51-8.11-3.25-.87-1.4-1.58-2.87-2.59-4.19-1.1-1.44-2.5-2.52-4.04-3.45-.31-.19-.62-.37-.94-.55l1.05-1.83c1.28,.75,2.62,1.45,4.01,1.9Z' fill='%23fff'/%3E%3Cpath d='M30.07,36.97c-1.27-1.15-2.16-2.63-3.01-4.1-1.57-2.73-3.78-5.69-7.37-5.28-2.86,.32-5.01,2.97-4.77,5.88,.3,3.55,3.65,5.3,6.87,5.4,1.64,.05,3.28-.06,4.92,.15,1.8,.24,3.43,.9,5.01,1.77,.32,.18,.63,.35,.95,.53l1.05-1.83c-1.29-.73-2.56-1.54-3.65-2.53Z' fill='%23fff'/%3E%3Crect x='43.34' y='33.65' width='2.11' height='26.44' transform='translate(107.18 31.86) rotate(120)' fill='%23fff'/%3E%3C/g%3E%3Cg%3E%3Cpath d='M66.99,50.35c-.36,1.68-1.19,3.18-2.05,4.66-1.58,2.73-3.04,6.12-.89,9.02,1.71,2.31,5.08,2.85,7.48,1.19,2.92-2.03,2.76-5.81,1.24-8.65-.78-1.45-1.7-2.81-2.33-4.34-.69-1.67-.93-3.42-.97-5.22,0-.36,0-.73-.01-1.09h-2.11c0,1.48-.05,2.99-.36,4.43Z' fill='%23fff'/%3E%3Cpath d='M66.99,43.37c-.36-1.68-1.19-3.18-2.05-4.66-1.58-2.73-3.04-6.12-.89-9.02,1.71-2.31,5.08-2.85,7.48-1.19,2.92,2.03,2.76,5.81,1.24,8.65-.78,1.45-1.7,2.81-2.33,4.34-.69,1.67-.93,3.42-.97,5.22,0,.36,0,.73-.01,1.09h-2.11c0-1.48-.05-2.99-.36-4.43Z' fill='%23fff'/%3E%3C/g%3E%3Cg%3E%3Cpath d='M18.87,50.35c-.36,1.68-1.19,3.18-2.05,4.66-1.58,2.73-3.04,6.12-.89,9.02,1.71,2.31,5.08,2.85,7.48,1.19,2.92-2.03,2.76-5.81,1.24-8.65-.78-1.45-1.7-2.81-2.33-4.34-.69-1.67-.93-3.42-.97-5.22,0-.36,0-.73-.01-1.09h-2.11c0,1.48-.05,2.99-.36,4.43Z' fill='%23fff'/%3E%3Cpath d='M18.87,43.37c-.36-1.68-1.19-3.18-2.05-4.66-1.58-2.73-3.04-6.12-.89-9.02,1.71-2.31,5.08-2.85,7.48-1.19,2.92,2.03,2.76,5.81,1.24,8.65-.78,1.45-1.7,2.81-2.33,4.34-.69,1.67-.93,3.42-.97,5.22,0,.36,0,.73-.01,1.09h-2.11c0-1.48-.05-2.99-.36-4.43Z' fill='%23fff'/%3E%3C/g%3E%3Cg%3E%3Cpath d='M30.02,29.06c-1.27,1.15-2.16,2.63-3.01,4.1-1.57,2.73-3.78,5.69-7.37,5.28-2.86-.32-5.01-2.97-4.77-5.88,.3-3.55,3.65-5.3,6.87-5.4,1.64-.05,3.28,.06,4.92-.15,1.8-.24,3.43-.9,5.01-1.77,.32-.18,.63-.35,.95-.53l1.05,1.83c-1.29,.73-2.56,1.54-3.65,2.53Z' fill='%23fff'/%3E%3Cpath d='M36.06,25.58c1.63-.53,3.35-.56,5.06-.55,3.15,0,6.82-.43,8.26-3.74,1.15-2.64-.07-5.83-2.71-7.07-3.22-1.52-6.41,.51-8.11,3.25-.87,1.4-1.58,2.87-2.59,4.19-1.1,1.44-2.5,2.52-4.04,3.45-.31,.19-.62,.37-.94,.55l1.05,1.83c1.28-.75,2.62-1.45,4.01-1.9Z' fill='%23fff'/%3E%3C/g%3E%3Cg%3E%3Cpath d='M54.1,70.6c-1.27,1.15-2.16,2.63-3.01,4.1-1.57,2.73-3.78,5.69-7.37,5.28-2.86-.32-5.01-2.97-4.77-5.88,.3-3.55,3.65-5.3,6.87-5.4,1.64-.05,3.28,.06,4.92-.15,1.8-.24,3.43-.9,5.01-1.77,.32-.18,.63-.35,.95-.53l1.05,1.83c-1.29,.73-2.56,1.54-3.65,2.53Z' fill='%23fff'/%3E%3Cpath d='M60.14,67.12c1.63-.53,3.35-.56,5.06-.55,3.15,0,6.82-.43,8.26-3.74,1.15-2.64-.07-5.83-2.71-7.07-3.22-1.52-6.41,.51-8.11,3.25-.87,1.4-1.58,2.87-2.59,4.19-1.1,1.44-2.5,2.52-4.04,3.45-.31,.19-.62,.37-.94,.55l1.05,1.83c1.28-.75,2.62-1.45,4.01-1.9Z' fill='%23fff'/%3E%3C/g%3E%3Cg%3E%3Cpath d='M58.73,29.06c1.27,1.15,2.16,2.63,3.01,4.1,1.57,2.73,3.78,5.69,7.37,5.28,2.86-.32,5.01-2.97,4.77-5.88-.3-3.55-3.65-5.3-6.87-5.4-1.64-.05-3.28,.06-4.92-.15-1.8-.24-3.43-.9-5.01-1.77-.32-.18-.63-.35-.95-.53l-1.05,1.83c1.29,.73,2.56,1.54,3.65,2.53Z' fill='%23fff'/%3E%3Cpath d='M52.69,25.58c-1.63-.53-3.35-.56-5.06-.55-3.15,0-6.82-.43-8.26-3.74-1.15-2.64,.07-5.83,2.71-7.07,3.22-1.52,6.41,.51,8.11,3.25,.87,1.4,1.58,2.87,2.59,4.19,1.1,1.44,2.5,2.52,4.04,3.45,.31,.19,.62,.37,.94,.55l-1.05,1.83c-1.28-.75-2.62-1.45-4.01-1.9Z' fill='%23fff'/%3E%3C/g%3E%3Cg%3E%3Cpath d='M34.64,70.6c1.27,1.15,2.16,2.63,3.01,4.1,1.57,2.73,3.78,5.69,7.37,5.28,2.86-.32,5.01-2.97,4.77-5.88-.3-3.55-3.65-5.3-6.87-5.4-1.64-.05-3.28,.06-4.92-.15-1.8-.24-3.43-.9-5.01-1.77-.32-.18-.63-.35-.95-.53l-1.05,1.83c1.29,.73,2.56,1.54,3.65,2.53Z' fill='%23fff'/%3E%3Cpath d='M28.6,67.12c-1.63-.53-3.35-.56-5.06-.55-3.15,0-6.82-.43-8.26-3.74-1.15-2.64,.07-5.83,2.71-7.07,3.22-1.52,6.41,.51,8.11,3.25,.87,1.4,1.58,2.87,2.59,4.19,1.1,1.44,2.5,2.52,4.04,3.45,.31,.19,.62,.37,.94,.55l-1.05,1.83c-1.28-.75-2.62-1.45-4.01-1.9Z' fill='%23fff'/%3E%3C/g%3E%3Cg%3E%3Cg%3E%3Cpath d='M61.95,41.28c.53-1.63,.56-3.35,.55-5.06,0-3.15,.43-6.82,3.74-8.26,2.64-1.15,5.83,.07,7.07,2.71,1.52,3.22-.51,6.41-3.25,8.11-1.4,.87-2.87,1.58-4.19,2.59-1.44,1.1-2.52,2.5-3.45,4.04-.19,.31-.37,.62-.55,.94l-1.83-1.05c.75-1.28,1.45-2.62,1.9-4.01Z' fill='%23fff'/%3E%3Cpath d='M48.36,64.86c-1.15,1.27-2.63,2.16-4.1,3.01-2.73,1.57-5.69,3.78-5.28,7.37,.32,2.86,2.97,5.01,5.88,4.77,3.55-.3,5.3-3.65,5.4-6.87,.05-1.64-.06-3.28,.15-4.92,.24-1.8,.9-3.43,1.77-5.01,.18-.32,.35-.63,.53-.95l-1.83-1.05c-.73,1.29-1.54,2.56-2.53,3.65Z' fill='%23fff'/%3E%3Crect x='55.82' y='42.51' width='2.11' height='20.88' transform='translate(34.09 -21.34) rotate(30)' fill='%23fff'/%3E%3C/g%3E%3Cg%3E%3Cpath d='M26.79,41.28c-.53-1.63-.56-3.35-.55-5.06,0-3.15-.43-6.82-3.74-8.26-2.64-1.15-5.83,.07-7.07,2.71-1.52,3.22,.51,6.41,3.25,8.11,1.4,.87,2.87,1.58,4.19,2.59,1.44,1.1,2.52,2.5,3.45,4.04,.19,.31,.37,.62,.55,.94l1.83-1.05c-.75-1.28-1.45-2.62-1.9-4.01Z' fill='%23fff'/%3E%3Cpath d='M40.39,64.86c1.15,1.27,2.63,2.16,4.1,3.01,2.73,1.57,5.69,3.78,5.28,7.37-.32,2.86-2.97,5.01-5.88,4.77-3.55-.3-5.3-3.65-5.4-6.87-.05-1.64,.06-3.28-.15-4.92-.24-1.8-.9-3.43-1.77-5.01-.18-.32-.35-.63-.53-.95l1.83-1.05c.73,1.29,1.54,2.56,2.53,3.65Z' fill='%23fff'/%3E%3Crect x='30.82' y='42.51' width='2.11' height='20.88' transform='translate(85.95 82.86) rotate(150)' fill='%23fff'/%3E%3C/g%3E%3Cg%3E%3Cpath d='M57.96,34.4c1.68,.36,3.18,1.19,4.66,2.05,2.73,1.58,6.12,3.04,9.02,.89,2.31-1.71,2.85-5.08,1.19-7.48-2.03-2.92-5.81-2.76-8.65-1.24-1.45,.78-2.81,1.7-4.34,2.33-1.67,.69-3.42,.93-5.22,.97-.36,0-.73,0-1.09,.01v2.11c1.48,0,2.99,.05,4.43,.36Z' fill='%23fff'/%3E%3Cpath d='M30.75,34.39c-1.68,.36-3.18,1.19-4.66,2.05-2.73,1.58-6.12,3.04-9.02,.89-2.31-1.71-2.85-5.08-1.19-7.48,2.03-2.92,5.81-2.76,8.65-1.24,1.45,.78,2.81,1.7,4.34,2.33,1.67,.69,3.42,.93,5.22,.97,.36,0,.73,0,1.09,.01v2.11c-1.48,0-2.99,.05-4.43,.36Z' fill='%23fff'/%3E%3Crect x='44.26' y='22.53' width='2.11' height='20.88' transform='translate(12.35 78.29) rotate(-90)' fill='%23fff'/%3E%3C/g%3E%3C/g%3E%3Ccircle cx='44.37' cy='19.13' r='5.43' fill='%23fff'/%3E%3Ccircle cx='44.37' cy='74.59' r='5.43' fill='%23fff'/%3E%3Ccircle cx='68.39' cy='32.99' r='5.43' fill='%23fff'/%3E%3Ccircle cx='20.36' cy='60.72' r='5.43' fill='%23fff'/%3E%3Ccircle cx='20.36' cy='32.99' r='5.43' fill='%23fff'/%3E%3Ccircle cx='68.39' cy='60.72' r='5.43' fill='%23fff'/%3E%3C/g%3E%3C/g%3E%3C/svg%3E"
                },
                "label": "3",
                "scale_factor": 1,
                "type": "#15AFAC",
                "size": [
                  55,
                  55
                ],
                "position": [
                  0,
                  0
                ]
              },
              {
                "id": 4,
                "properties": {
                  "label": "4"
                },
                "color": "#15AFAC",
                "styles": {
                  "shape": "triangle",
                  "color": "red",
                  "image": "data:image/svg+xml,%3C%3Fxml version='1.0' encoding='UTF-8'%3F%3E%3Csvg id='a' xmlns='http://www.w3.org/2000/svg' viewBox='0 0 88.66 93.76'%3E%3Cg id='b'%3E%3Cpath d='M0,37.41l.09,19.36c.04,9.83,5.33,18.89,13.87,23.77l16.81,9.6c8.54,4.88,19.03,4.83,27.52-.13l16.72-9.76c8.49-4.96,13.69-14.06,13.65-23.9l-.09-19.36c-.05-9.83-5.33-18.89-13.87-23.77L57.89,3.62c-8.54-4.88-19.03-4.83-27.52,.13L13.65,13.51C5.16,18.46-.05,27.57,0,37.41' fill='%23242265'/%3E%3Cg id='c'%3E%3Cg%3E%3Cpath d='M42.96,64.19c-.36,1.68-1.19,3.18-2.05,4.66-1.58,2.73-3.04,6.12-.89,9.02,1.71,2.31,5.08,2.85,7.48,1.19,2.92-2.03,2.76-5.81,1.24-8.65-.78-1.45-1.7-2.81-2.33-4.34-.69-1.67-.93-3.42-.97-5.22,0-.36,0-.73-.01-1.09h-2.11c0,1.48-.05,2.99-.36,4.43Z' fill='%23fff'/%3E%3Cpath d='M42.96,29.53c-.36-1.68-1.19-3.18-2.05-4.66-1.58-2.73-3.04-6.12-.89-9.02,1.71-2.31,5.08-2.85,7.48-1.19,2.92,2.03,2.76,5.81,1.24,8.65-.78,1.45-1.7,2.81-2.33,4.34-.69,1.67-.93,3.42-.97,5.22,0,.36,0,.73-.01,1.09h-2.11c0-1.48-.05-2.99-.36-4.43Z' fill='%23fff'/%3E%3Crect x='43.32' y='33.66' width='2.11' height='26.44' fill='%23fff'/%3E%3C/g%3E%3Cg%3E%3Cpath d='M30.07,56.75c-1.27,1.15-2.16,2.63-3.01,4.1-1.57,2.73-3.78,5.69-7.37,5.28-2.86-.32-5.01-2.97-4.77-5.88,.3-3.55,3.65-5.3,6.87-5.4,1.64-.05,3.28,.06,4.92-.15,1.8-.24,3.43-.9,5.01-1.77,.32-.18,.63-.35,.95-.53l1.05,1.83c-1.29,.73-2.56,1.54-3.65,2.53Z' fill='%23fff'/%3E%3Cpath d='M60.09,39.42c1.63-.53,3.35-.56,5.06-.55,3.15,0,6.82-.43,8.26-3.74,1.15-2.64-.07-5.83-2.71-7.07-3.22-1.52-6.41,.51-8.11,3.25-.87,1.4-1.58,2.87-2.59,4.19-1.1,1.44-2.5,2.52-4.04,3.45-.31,.19-.62,.37-.94,.55l1.05,1.83c1.28-.75,2.62-1.45,4.01-1.9Z' fill='%23fff'/%3E%3Crect x='43.3' y='33.65' width='2.11' height='26.44' transform='translate(25.94 108.72) rotate(-120)' fill='%23fff'/%3E%3C/g%3E%3Cg%3E%3Cpath d='M60.09,54.3c1.63,.53,3.35,.56,5.06,.55,3.15,0,6.82,.43,8.26,3.74,1.15,2.64-.07,5.83-2.71,7.07-3.22,1.52-6.41-.51-8.11-3.25-.87-1.4-1.58-2.87-2.59-4.19-1.1-1.44-2.5-2.52-4.04-3.45-.31-.19-.62-.37-.94-.55l1.05-1.83c1.28,.75,2.62,1.45,4.01,1.9Z' fill='%23fff'/%3E%3Cpath d='M30.07,36.97c-1.27-1.15-2.16-2.63-3.01-4.1-1.57-2.73-3.78-5.69-7.37-5.28-2.86,.32-5.01,2.97-4.77,5.88,.3,3.55,3.65,5.3,6.87,5.4,1.64,.05,3.28-.06,4.92,.15,1.8,.24,3.43,.9,5.01,1.77,.32,.18,.63,.35,.95,.53l1.05-1.83c-1.29-.73-2.56-1.54-3.65-2.53Z' fill='%23fff'/%3E%3Crect x='43.34' y='33.65' width='2.11' height='26.44' transform='translate(107.18 31.86) rotate(120)' fill='%23fff'/%3E%3C/g%3E%3Cg%3E%3Cpath d='M66.99,50.35c-.36,1.68-1.19,3.18-2.05,4.66-1.58,2.73-3.04,6.12-.89,9.02,1.71,2.31,5.08,2.85,7.48,1.19,2.92-2.03,2.76-5.81,1.24-8.65-.78-1.45-1.7-2.81-2.33-4.34-.69-1.67-.93-3.42-.97-5.22,0-.36,0-.73-.01-1.09h-2.11c0,1.48-.05,2.99-.36,4.43Z' fill='%23fff'/%3E%3Cpath d='M66.99,43.37c-.36-1.68-1.19-3.18-2.05-4.66-1.58-2.73-3.04-6.12-.89-9.02,1.71-2.31,5.08-2.85,7.48-1.19,2.92,2.03,2.76,5.81,1.24,8.65-.78,1.45-1.7,2.81-2.33,4.34-.69,1.67-.93,3.42-.97,5.22,0,.36,0,.73-.01,1.09h-2.11c0-1.48-.05-2.99-.36-4.43Z' fill='%23fff'/%3E%3C/g%3E%3Cg%3E%3Cpath d='M18.87,50.35c-.36,1.68-1.19,3.18-2.05,4.66-1.58,2.73-3.04,6.12-.89,9.02,1.71,2.31,5.08,2.85,7.48,1.19,2.92-2.03,2.76-5.81,1.24-8.65-.78-1.45-1.7-2.81-2.33-4.34-.69-1.67-.93-3.42-.97-5.22,0-.36,0-.73-.01-1.09h-2.11c0,1.48-.05,2.99-.36,4.43Z' fill='%23fff'/%3E%3Cpath d='M18.87,43.37c-.36-1.68-1.19-3.18-2.05-4.66-1.58-2.73-3.04-6.12-.89-9.02,1.71-2.31,5.08-2.85,7.48-1.19,2.92,2.03,2.76,5.81,1.24,8.65-.78,1.45-1.7,2.81-2.33,4.34-.69,1.67-.93,3.42-.97,5.22,0,.36,0,.73-.01,1.09h-2.11c0-1.48-.05-2.99-.36-4.43Z' fill='%23fff'/%3E%3C/g%3E%3Cg%3E%3Cpath d='M30.02,29.06c-1.27,1.15-2.16,2.63-3.01,4.1-1.57,2.73-3.78,5.69-7.37,5.28-2.86-.32-5.01-2.97-4.77-5.88,.3-3.55,3.65-5.3,6.87-5.4,1.64-.05,3.28,.06,4.92-.15,1.8-.24,3.43-.9,5.01-1.77,.32-.18,.63-.35,.95-.53l1.05,1.83c-1.29,.73-2.56,1.54-3.65,2.53Z' fill='%23fff'/%3E%3Cpath d='M36.06,25.58c1.63-.53,3.35-.56,5.06-.55,3.15,0,6.82-.43,8.26-3.74,1.15-2.64-.07-5.83-2.71-7.07-3.22-1.52-6.41,.51-8.11,3.25-.87,1.4-1.58,2.87-2.59,4.19-1.1,1.44-2.5,2.52-4.04,3.45-.31,.19-.62,.37-.94,.55l1.05,1.83c1.28-.75,2.62-1.45,4.01-1.9Z' fill='%23fff'/%3E%3C/g%3E%3Cg%3E%3Cpath d='M54.1,70.6c-1.27,1.15-2.16,2.63-3.01,4.1-1.57,2.73-3.78,5.69-7.37,5.28-2.86-.32-5.01-2.97-4.77-5.88,.3-3.55,3.65-5.3,6.87-5.4,1.64-.05,3.28,.06,4.92-.15,1.8-.24,3.43-.9,5.01-1.77,.32-.18,.63-.35,.95-.53l1.05,1.83c-1.29,.73-2.56,1.54-3.65,2.53Z' fill='%23fff'/%3E%3Cpath d='M60.14,67.12c1.63-.53,3.35-.56,5.06-.55,3.15,0,6.82-.43,8.26-3.74,1.15-2.64-.07-5.83-2.71-7.07-3.22-1.52-6.41,.51-8.11,3.25-.87,1.4-1.58,2.87-2.59,4.19-1.1,1.44-2.5,2.52-4.04,3.45-.31,.19-.62,.37-.94,.55l1.05,1.83c1.28-.75,2.62-1.45,4.01-1.9Z' fill='%23fff'/%3E%3C/g%3E%3Cg%3E%3Cpath d='M58.73,29.06c1.27,1.15,2.16,2.63,3.01,4.1,1.57,2.73,3.78,5.69,7.37,5.28,2.86-.32,5.01-2.97,4.77-5.88-.3-3.55-3.65-5.3-6.87-5.4-1.64-.05-3.28,.06-4.92-.15-1.8-.24-3.43-.9-5.01-1.77-.32-.18-.63-.35-.95-.53l-1.05,1.83c1.29,.73,2.56,1.54,3.65,2.53Z' fill='%23fff'/%3E%3Cpath d='M52.69,25.58c-1.63-.53-3.35-.56-5.06-.55-3.15,0-6.82-.43-8.26-3.74-1.15-2.64,.07-5.83,2.71-7.07,3.22-1.52,6.41,.51,8.11,3.25,.87,1.4,1.58,2.87,2.59,4.19,1.1,1.44,2.5,2.52,4.04,3.45,.31,.19,.62,.37,.94,.55l-1.05,1.83c-1.28-.75-2.62-1.45-4.01-1.9Z' fill='%23fff'/%3E%3C/g%3E%3Cg%3E%3Cpath d='M34.64,70.6c1.27,1.15,2.16,2.63,3.01,4.1,1.57,2.73,3.78,5.69,7.37,5.28,2.86-.32,5.01-2.97,4.77-5.88-.3-3.55-3.65-5.3-6.87-5.4-1.64-.05-3.28,.06-4.92-.15-1.8-.24-3.43-.9-5.01-1.77-.32-.18-.63-.35-.95-.53l-1.05,1.83c1.29,.73,2.56,1.54,3.65,2.53Z' fill='%23fff'/%3E%3Cpath d='M28.6,67.12c-1.63-.53-3.35-.56-5.06-.55-3.15,0-6.82-.43-8.26-3.74-1.15-2.64,.07-5.83,2.71-7.07,3.22-1.52,6.41,.51,8.11,3.25,.87,1.4,1.58,2.87,2.59,4.19,1.1,1.44,2.5,2.52,4.04,3.45,.31,.19,.62,.37,.94,.55l-1.05,1.83c-1.28-.75-2.62-1.45-4.01-1.9Z' fill='%23fff'/%3E%3C/g%3E%3Cg%3E%3Cg%3E%3Cpath d='M61.95,41.28c.53-1.63,.56-3.35,.55-5.06,0-3.15,.43-6.82,3.74-8.26,2.64-1.15,5.83,.07,7.07,2.71,1.52,3.22-.51,6.41-3.25,8.11-1.4,.87-2.87,1.58-4.19,2.59-1.44,1.1-2.52,2.5-3.45,4.04-.19,.31-.37,.62-.55,.94l-1.83-1.05c.75-1.28,1.45-2.62,1.9-4.01Z' fill='%23fff'/%3E%3Cpath d='M48.36,64.86c-1.15,1.27-2.63,2.16-4.1,3.01-2.73,1.57-5.69,3.78-5.28,7.37,.32,2.86,2.97,5.01,5.88,4.77,3.55-.3,5.3-3.65,5.4-6.87,.05-1.64-.06-3.28,.15-4.92,.24-1.8,.9-3.43,1.77-5.01,.18-.32,.35-.63,.53-.95l-1.83-1.05c-.73,1.29-1.54,2.56-2.53,3.65Z' fill='%23fff'/%3E%3Crect x='55.82' y='42.51' width='2.11' height='20.88' transform='translate(34.09 -21.34) rotate(30)' fill='%23fff'/%3E%3C/g%3E%3Cg%3E%3Cpath d='M26.79,41.28c-.53-1.63-.56-3.35-.55-5.06,0-3.15-.43-6.82-3.74-8.26-2.64-1.15-5.83,.07-7.07,2.71-1.52,3.22,.51,6.41,3.25,8.11,1.4,.87,2.87,1.58,4.19,2.59,1.44,1.1,2.52,2.5,3.45,4.04,.19,.31,.37,.62,.55,.94l1.83-1.05c-.75-1.28-1.45-2.62-1.9-4.01Z' fill='%23fff'/%3E%3Cpath d='M40.39,64.86c1.15,1.27,2.63,2.16,4.1,3.01,2.73,1.57,5.69,3.78,5.28,7.37-.32,2.86-2.97,5.01-5.88,4.77-3.55-.3-5.3-3.65-5.4-6.87-.05-1.64,.06-3.28-.15-4.92-.24-1.8-.9-3.43-1.77-5.01-.18-.32-.35-.63-.53-.95l1.83-1.05c.73,1.29,1.54,2.56,2.53,3.65Z' fill='%23fff'/%3E%3Crect x='30.82' y='42.51' width='2.11' height='20.88' transform='translate(85.95 82.86) rotate(150)' fill='%23fff'/%3E%3C/g%3E%3Cg%3E%3Cpath d='M57.96,34.4c1.68,.36,3.18,1.19,4.66,2.05,2.73,1.58,6.12,3.04,9.02,.89,2.31-1.71,2.85-5.08,1.19-7.48-2.03-2.92-5.81-2.76-8.65-1.24-1.45,.78-2.81,1.7-4.34,2.33-1.67,.69-3.42,.93-5.22,.97-.36,0-.73,0-1.09,.01v2.11c1.48,0,2.99,.05,4.43,.36Z' fill='%23fff'/%3E%3Cpath d='M30.75,34.39c-1.68,.36-3.18,1.19-4.66,2.05-2.73,1.58-6.12,3.04-9.02,.89-2.31-1.71-2.85-5.08-1.19-7.48,2.03-2.92,5.81-2.76,8.65-1.24,1.45,.78,2.81,1.7,4.34,2.33,1.67,.69,3.42,.93,5.22,.97,.36,0,.73,0,1.09,.01v2.11c-1.48,0-2.99,.05-4.43,.36Z' fill='%23fff'/%3E%3Crect x='44.26' y='22.53' width='2.11' height='20.88' transform='translate(12.35 78.29) rotate(-90)' fill='%23fff'/%3E%3C/g%3E%3C/g%3E%3Ccircle cx='44.37' cy='19.13' r='5.43' fill='%23fff'/%3E%3Ccircle cx='44.37' cy='74.59' r='5.43' fill='%23fff'/%3E%3Ccircle cx='68.39' cy='32.99' r='5.43' fill='%23fff'/%3E%3Ccircle cx='20.36' cy='60.72' r='5.43' fill='%23fff'/%3E%3Ccircle cx='20.36' cy='32.99' r='5.43' fill='%23fff'/%3E%3Ccircle cx='68.39' cy='60.72' r='5.43' fill='%23fff'/%3E%3C/g%3E%3C/g%3E%3C/svg%3E"
                },
                "label": "4",
                "scale_factor": 1,
                "type": "#15AFAC",
                "size": [
                  55,
                  55
                ],
                "position": [
                  0,
                  0
                ]
              },
              {
                "id": 5,
                "properties": {
                  "label": "5"
                },
                "color": "#15AFAC",
                "styles": {
                  "shape": "triangle",
                  "color": "red",
                  "image": "data:image/svg+xml,%3C%3Fxml version='1.0' encoding='UTF-8'%3F%3E%3Csvg id='a' xmlns='http://www.w3.org/2000/svg' viewBox='0 0 88.66 93.76'%3E%3Cg id='b'%3E%3Cpath d='M0,37.41l.09,19.36c.04,9.83,5.33,18.89,13.87,23.77l16.81,9.6c8.54,4.88,19.03,4.83,27.52-.13l16.72-9.76c8.49-4.96,13.69-14.06,13.65-23.9l-.09-19.36c-.05-9.83-5.33-18.89-13.87-23.77L57.89,3.62c-8.54-4.88-19.03-4.83-27.52,.13L13.65,13.51C5.16,18.46-.05,27.57,0,37.41' fill='%23242265'/%3E%3Cg id='c'%3E%3Cg%3E%3Cpath d='M42.96,64.19c-.36,1.68-1.19,3.18-2.05,4.66-1.58,2.73-3.04,6.12-.89,9.02,1.71,2.31,5.08,2.85,7.48,1.19,2.92-2.03,2.76-5.81,1.24-8.65-.78-1.45-1.7-2.81-2.33-4.34-.69-1.67-.93-3.42-.97-5.22,0-.36,0-.73-.01-1.09h-2.11c0,1.48-.05,2.99-.36,4.43Z' fill='%23fff'/%3E%3Cpath d='M42.96,29.53c-.36-1.68-1.19-3.18-2.05-4.66-1.58-2.73-3.04-6.12-.89-9.02,1.71-2.31,5.08-2.85,7.48-1.19,2.92,2.03,2.76,5.81,1.24,8.65-.78,1.45-1.7,2.81-2.33,4.34-.69,1.67-.93,3.42-.97,5.22,0,.36,0,.73-.01,1.09h-2.11c0-1.48-.05-2.99-.36-4.43Z' fill='%23fff'/%3E%3Crect x='43.32' y='33.66' width='2.11' height='26.44' fill='%23fff'/%3E%3C/g%3E%3Cg%3E%3Cpath d='M30.07,56.75c-1.27,1.15-2.16,2.63-3.01,4.1-1.57,2.73-3.78,5.69-7.37,5.28-2.86-.32-5.01-2.97-4.77-5.88,.3-3.55,3.65-5.3,6.87-5.4,1.64-.05,3.28,.06,4.92-.15,1.8-.24,3.43-.9,5.01-1.77,.32-.18,.63-.35,.95-.53l1.05,1.83c-1.29,.73-2.56,1.54-3.65,2.53Z' fill='%23fff'/%3E%3Cpath d='M60.09,39.42c1.63-.53,3.35-.56,5.06-.55,3.15,0,6.82-.43,8.26-3.74,1.15-2.64-.07-5.83-2.71-7.07-3.22-1.52-6.41,.51-8.11,3.25-.87,1.4-1.58,2.87-2.59,4.19-1.1,1.44-2.5,2.52-4.04,3.45-.31,.19-.62,.37-.94,.55l1.05,1.83c1.28-.75,2.62-1.45,4.01-1.9Z' fill='%23fff'/%3E%3Crect x='43.3' y='33.65' width='2.11' height='26.44' transform='translate(25.94 108.72) rotate(-120)' fill='%23fff'/%3E%3C/g%3E%3Cg%3E%3Cpath d='M60.09,54.3c1.63,.53,3.35,.56,5.06,.55,3.15,0,6.82,.43,8.26,3.74,1.15,2.64-.07,5.83-2.71,7.07-3.22,1.52-6.41-.51-8.11-3.25-.87-1.4-1.58-2.87-2.59-4.19-1.1-1.44-2.5-2.52-4.04-3.45-.31-.19-.62-.37-.94-.55l1.05-1.83c1.28,.75,2.62,1.45,4.01,1.9Z' fill='%23fff'/%3E%3Cpath d='M30.07,36.97c-1.27-1.15-2.16-2.63-3.01-4.1-1.57-2.73-3.78-5.69-7.37-5.28-2.86,.32-5.01,2.97-4.77,5.88,.3,3.55,3.65,5.3,6.87,5.4,1.64,.05,3.28-.06,4.92,.15,1.8,.24,3.43,.9,5.01,1.77,.32,.18,.63,.35,.95,.53l1.05-1.83c-1.29-.73-2.56-1.54-3.65-2.53Z' fill='%23fff'/%3E%3Crect x='43.34' y='33.65' width='2.11' height='26.44' transform='translate(107.18 31.86) rotate(120)' fill='%23fff'/%3E%3C/g%3E%3Cg%3E%3Cpath d='M66.99,50.35c-.36,1.68-1.19,3.18-2.05,4.66-1.58,2.73-3.04,6.12-.89,9.02,1.71,2.31,5.08,2.85,7.48,1.19,2.92-2.03,2.76-5.81,1.24-8.65-.78-1.45-1.7-2.81-2.33-4.34-.69-1.67-.93-3.42-.97-5.22,0-.36,0-.73-.01-1.09h-2.11c0,1.48-.05,2.99-.36,4.43Z' fill='%23fff'/%3E%3Cpath d='M66.99,43.37c-.36-1.68-1.19-3.18-2.05-4.66-1.58-2.73-3.04-6.12-.89-9.02,1.71-2.31,5.08-2.85,7.48-1.19,2.92,2.03,2.76,5.81,1.24,8.65-.78,1.45-1.7,2.81-2.33,4.34-.69,1.67-.93,3.42-.97,5.22,0,.36,0,.73-.01,1.09h-2.11c0-1.48-.05-2.99-.36-4.43Z' fill='%23fff'/%3E%3C/g%3E%3Cg%3E%3Cpath d='M18.87,50.35c-.36,1.68-1.19,3.18-2.05,4.66-1.58,2.73-3.04,6.12-.89,9.02,1.71,2.31,5.08,2.85,7.48,1.19,2.92-2.03,2.76-5.81,1.24-8.65-.78-1.45-1.7-2.81-2.33-4.34-.69-1.67-.93-3.42-.97-5.22,0-.36,0-.73-.01-1.09h-2.11c0,1.48-.05,2.99-.36,4.43Z' fill='%23fff'/%3E%3Cpath d='M18.87,43.37c-.36-1.68-1.19-3.18-2.05-4.66-1.58-2.73-3.04-6.12-.89-9.02,1.71-2.31,5.08-2.85,7.48-1.19,2.92,2.03,2.76,5.81,1.24,8.65-.78,1.45-1.7,2.81-2.33,4.34-.69,1.67-.93,3.42-.97,5.22,0,.36,0,.73-.01,1.09h-2.11c0-1.48-.05-2.99-.36-4.43Z' fill='%23fff'/%3E%3C/g%3E%3Cg%3E%3Cpath d='M30.02,29.06c-1.27,1.15-2.16,2.63-3.01,4.1-1.57,2.73-3.78,5.69-7.37,5.28-2.86-.32-5.01-2.97-4.77-5.88,.3-3.55,3.65-5.3,6.87-5.4,1.64-.05,3.28,.06,4.92-.15,1.8-.24,3.43-.9,5.01-1.77,.32-.18,.63-.35,.95-.53l1.05,1.83c-1.29,.73-2.56,1.54-3.65,2.53Z' fill='%23fff'/%3E%3Cpath d='M36.06,25.58c1.63-.53,3.35-.56,5.06-.55,3.15,0,6.82-.43,8.26-3.74,1.15-2.64-.07-5.83-2.71-7.07-3.22-1.52-6.41,.51-8.11,3.25-.87,1.4-1.58,2.87-2.59,4.19-1.1,1.44-2.5,2.52-4.04,3.45-.31,.19-.62,.37-.94,.55l1.05,1.83c1.28-.75,2.62-1.45,4.01-1.9Z' fill='%23fff'/%3E%3C/g%3E%3Cg%3E%3Cpath d='M54.1,70.6c-1.27,1.15-2.16,2.63-3.01,4.1-1.57,2.73-3.78,5.69-7.37,5.28-2.86-.32-5.01-2.97-4.77-5.88,.3-3.55,3.65-5.3,6.87-5.4,1.64-.05,3.28,.06,4.92-.15,1.8-.24,3.43-.9,5.01-1.77,.32-.18,.63-.35,.95-.53l1.05,1.83c-1.29,.73-2.56,1.54-3.65,2.53Z' fill='%23fff'/%3E%3Cpath d='M60.14,67.12c1.63-.53,3.35-.56,5.06-.55,3.15,0,6.82-.43,8.26-3.74,1.15-2.64-.07-5.83-2.71-7.07-3.22-1.52-6.41,.51-8.11,3.25-.87,1.4-1.58,2.87-2.59,4.19-1.1,1.44-2.5,2.52-4.04,3.45-.31,.19-.62,.37-.94,.55l1.05,1.83c1.28-.75,2.62-1.45,4.01-1.9Z' fill='%23fff'/%3E%3C/g%3E%3Cg%3E%3Cpath d='M58.73,29.06c1.27,1.15,2.16,2.63,3.01,4.1,1.57,2.73,3.78,5.69,7.37,5.28,2.86-.32,5.01-2.97,4.77-5.88-.3-3.55-3.65-5.3-6.87-5.4-1.64-.05-3.28,.06-4.92-.15-1.8-.24-3.43-.9-5.01-1.77-.32-.18-.63-.35-.95-.53l-1.05,1.83c1.29,.73,2.56,1.54,3.65,2.53Z' fill='%23fff'/%3E%3Cpath d='M52.69,25.58c-1.63-.53-3.35-.56-5.06-.55-3.15,0-6.82-.43-8.26-3.74-1.15-2.64,.07-5.83,2.71-7.07,3.22-1.52,6.41,.51,8.11,3.25,.87,1.4,1.58,2.87,2.59,4.19,1.1,1.44,2.5,2.52,4.04,3.45,.31,.19,.62,.37,.94,.55l-1.05,1.83c-1.28-.75-2.62-1.45-4.01-1.9Z' fill='%23fff'/%3E%3C/g%3E%3Cg%3E%3Cpath d='M34.64,70.6c1.27,1.15,2.16,2.63,3.01,4.1,1.57,2.73,3.78,5.69,7.37,5.28,2.86-.32,5.01-2.97,4.77-5.88-.3-3.55-3.65-5.3-6.87-5.4-1.64-.05-3.28,.06-4.92-.15-1.8-.24-3.43-.9-5.01-1.77-.32-.18-.63-.35-.95-.53l-1.05,1.83c1.29,.73,2.56,1.54,3.65,2.53Z' fill='%23fff'/%3E%3Cpath d='M28.6,67.12c-1.63-.53-3.35-.56-5.06-.55-3.15,0-6.82-.43-8.26-3.74-1.15-2.64,.07-5.83,2.71-7.07,3.22-1.52,6.41,.51,8.11,3.25,.87,1.4,1.58,2.87,2.59,4.19,1.1,1.44,2.5,2.52,4.04,3.45,.31,.19,.62,.37,.94,.55l-1.05,1.83c-1.28-.75-2.62-1.45-4.01-1.9Z' fill='%23fff'/%3E%3C/g%3E%3Cg%3E%3Cg%3E%3Cpath d='M61.95,41.28c.53-1.63,.56-3.35,.55-5.06,0-3.15,.43-6.82,3.74-8.26,2.64-1.15,5.83,.07,7.07,2.71,1.52,3.22-.51,6.41-3.25,8.11-1.4,.87-2.87,1.58-4.19,2.59-1.44,1.1-2.52,2.5-3.45,4.04-.19,.31-.37,.62-.55,.94l-1.83-1.05c.75-1.28,1.45-2.62,1.9-4.01Z' fill='%23fff'/%3E%3Cpath d='M48.36,64.86c-1.15,1.27-2.63,2.16-4.1,3.01-2.73,1.57-5.69,3.78-5.28,7.37,.32,2.86,2.97,5.01,5.88,4.77,3.55-.3,5.3-3.65,5.4-6.87,.05-1.64-.06-3.28,.15-4.92,.24-1.8,.9-3.43,1.77-5.01,.18-.32,.35-.63,.53-.95l-1.83-1.05c-.73,1.29-1.54,2.56-2.53,3.65Z' fill='%23fff'/%3E%3Crect x='55.82' y='42.51' width='2.11' height='20.88' transform='translate(34.09 -21.34) rotate(30)' fill='%23fff'/%3E%3C/g%3E%3Cg%3E%3Cpath d='M26.79,41.28c-.53-1.63-.56-3.35-.55-5.06,0-3.15-.43-6.82-3.74-8.26-2.64-1.15-5.83,.07-7.07,2.71-1.52,3.22,.51,6.41,3.25,8.11,1.4,.87,2.87,1.58,4.19,2.59,1.44,1.1,2.52,2.5,3.45,4.04,.19,.31,.37,.62,.55,.94l1.83-1.05c-.75-1.28-1.45-2.62-1.9-4.01Z' fill='%23fff'/%3E%3Cpath d='M40.39,64.86c1.15,1.27,2.63,2.16,4.1,3.01,2.73,1.57,5.69,3.78,5.28,7.37-.32,2.86-2.97,5.01-5.88,4.77-3.55-.3-5.3-3.65-5.4-6.87-.05-1.64,.06-3.28-.15-4.92-.24-1.8-.9-3.43-1.77-5.01-.18-.32-.35-.63-.53-.95l1.83-1.05c.73,1.29,1.54,2.56,2.53,3.65Z' fill='%23fff'/%3E%3Crect x='30.82' y='42.51' width='2.11' height='20.88' transform='translate(85.95 82.86) rotate(150)' fill='%23fff'/%3E%3C/g%3E%3Cg%3E%3Cpath d='M57.96,34.4c1.68,.36,3.18,1.19,4.66,2.05,2.73,1.58,6.12,3.04,9.02,.89,2.31-1.71,2.85-5.08,1.19-7.48-2.03-2.92-5.81-2.76-8.65-1.24-1.45,.78-2.81,1.7-4.34,2.33-1.67,.69-3.42,.93-5.22,.97-.36,0-.73,0-1.09,.01v2.11c1.48,0,2.99,.05,4.43,.36Z' fill='%23fff'/%3E%3Cpath d='M30.75,34.39c-1.68,.36-3.18,1.19-4.66,2.05-2.73,1.58-6.12,3.04-9.02,.89-2.31-1.71-2.85-5.08-1.19-7.48,2.03-2.92,5.81-2.76,8.65-1.24,1.45,.78,2.81,1.7,4.34,2.33,1.67,.69,3.42,.93,5.22,.97,.36,0,.73,0,1.09,.01v2.11c-1.48,0-2.99,.05-4.43,.36Z' fill='%23fff'/%3E%3Crect x='44.26' y='22.53' width='2.11' height='20.88' transform='translate(12.35 78.29) rotate(-90)' fill='%23fff'/%3E%3C/g%3E%3C/g%3E%3Ccircle cx='44.37' cy='19.13' r='5.43' fill='%23fff'/%3E%3Ccircle cx='44.37' cy='74.59' r='5.43' fill='%23fff'/%3E%3Ccircle cx='68.39' cy='32.99' r='5.43' fill='%23fff'/%3E%3Ccircle cx='20.36' cy='60.72' r='5.43' fill='%23fff'/%3E%3Ccircle cx='20.36' cy='32.99' r='5.43' fill='%23fff'/%3E%3Ccircle cx='68.39' cy='60.72' r='5.43' fill='%23fff'/%3E%3C/g%3E%3C/g%3E%3C/svg%3E"
                },
                "label": "5",
                "scale_factor": 1,
                "type": "#15AFAC",
                "size": [
                  55,
                  55
                ],
                "position": [
                  0,
                  0
                ]
              },
              {
                "id": 6,
                "properties": {
                  "label": "6"
                },
                "color": "#15AFAC",
                "styles": {
                  "shape": "triangle",
                  "color": "red",
                  "image": "data:image/svg+xml,%3C%3Fxml version='1.0' encoding='UTF-8'%3F%3E%3Csvg id='a' xmlns='http://www.w3.org/2000/svg' viewBox='0 0 88.66 93.76'%3E%3Cg id='b'%3E%3Cpath d='M0,37.41l.09,19.36c.04,9.83,5.33,18.89,13.87,23.77l16.81,9.6c8.54,4.88,19.03,4.83,27.52-.13l16.72-9.76c8.49-4.96,13.69-14.06,13.65-23.9l-.09-19.36c-.05-9.83-5.33-18.89-13.87-23.77L57.89,3.62c-8.54-4.88-19.03-4.83-27.52,.13L13.65,13.51C5.16,18.46-.05,27.57,0,37.41' fill='%23242265'/%3E%3Cg id='c'%3E%3Cg%3E%3Cpath d='M42.96,64.19c-.36,1.68-1.19,3.18-2.05,4.66-1.58,2.73-3.04,6.12-.89,9.02,1.71,2.31,5.08,2.85,7.48,1.19,2.92-2.03,2.76-5.81,1.24-8.65-.78-1.45-1.7-2.81-2.33-4.34-.69-1.67-.93-3.42-.97-5.22,0-.36,0-.73-.01-1.09h-2.11c0,1.48-.05,2.99-.36,4.43Z' fill='%23fff'/%3E%3Cpath d='M42.96,29.53c-.36-1.68-1.19-3.18-2.05-4.66-1.58-2.73-3.04-6.12-.89-9.02,1.71-2.31,5.08-2.85,7.48-1.19,2.92,2.03,2.76,5.81,1.24,8.65-.78,1.45-1.7,2.81-2.33,4.34-.69,1.67-.93,3.42-.97,5.22,0,.36,0,.73-.01,1.09h-2.11c0-1.48-.05-2.99-.36-4.43Z' fill='%23fff'/%3E%3Crect x='43.32' y='33.66' width='2.11' height='26.44' fill='%23fff'/%3E%3C/g%3E%3Cg%3E%3Cpath d='M30.07,56.75c-1.27,1.15-2.16,2.63-3.01,4.1-1.57,2.73-3.78,5.69-7.37,5.28-2.86-.32-5.01-2.97-4.77-5.88,.3-3.55,3.65-5.3,6.87-5.4,1.64-.05,3.28,.06,4.92-.15,1.8-.24,3.43-.9,5.01-1.77,.32-.18,.63-.35,.95-.53l1.05,1.83c-1.29,.73-2.56,1.54-3.65,2.53Z' fill='%23fff'/%3E%3Cpath d='M60.09,39.42c1.63-.53,3.35-.56,5.06-.55,3.15,0,6.82-.43,8.26-3.74,1.15-2.64-.07-5.83-2.71-7.07-3.22-1.52-6.41,.51-8.11,3.25-.87,1.4-1.58,2.87-2.59,4.19-1.1,1.44-2.5,2.52-4.04,3.45-.31,.19-.62,.37-.94,.55l1.05,1.83c1.28-.75,2.62-1.45,4.01-1.9Z' fill='%23fff'/%3E%3Crect x='43.3' y='33.65' width='2.11' height='26.44' transform='translate(25.94 108.72) rotate(-120)' fill='%23fff'/%3E%3C/g%3E%3Cg%3E%3Cpath d='M60.09,54.3c1.63,.53,3.35,.56,5.06,.55,3.15,0,6.82,.43,8.26,3.74,1.15,2.64-.07,5.83-2.71,7.07-3.22,1.52-6.41-.51-8.11-3.25-.87-1.4-1.58-2.87-2.59-4.19-1.1-1.44-2.5-2.52-4.04-3.45-.31-.19-.62-.37-.94-.55l1.05-1.83c1.28,.75,2.62,1.45,4.01,1.9Z' fill='%23fff'/%3E%3Cpath d='M30.07,36.97c-1.27-1.15-2.16-2.63-3.01-4.1-1.57-2.73-3.78-5.69-7.37-5.28-2.86,.32-5.01,2.97-4.77,5.88,.3,3.55,3.65,5.3,6.87,5.4,1.64,.05,3.28-.06,4.92,.15,1.8,.24,3.43,.9,5.01,1.77,.32,.18,.63,.35,.95,.53l1.05-1.83c-1.29-.73-2.56-1.54-3.65-2.53Z' fill='%23fff'/%3E%3Crect x='43.34' y='33.65' width='2.11' height='26.44' transform='translate(107.18 31.86) rotate(120)' fill='%23fff'/%3E%3C/g%3E%3Cg%3E%3Cpath d='M66.99,50.35c-.36,1.68-1.19,3.18-2.05,4.66-1.58,2.73-3.04,6.12-.89,9.02,1.71,2.31,5.08,2.85,7.48,1.19,2.92-2.03,2.76-5.81,1.24-8.65-.78-1.45-1.7-2.81-2.33-4.34-.69-1.67-.93-3.42-.97-5.22,0-.36,0-.73-.01-1.09h-2.11c0,1.48-.05,2.99-.36,4.43Z' fill='%23fff'/%3E%3Cpath d='M66.99,43.37c-.36-1.68-1.19-3.18-2.05-4.66-1.58-2.73-3.04-6.12-.89-9.02,1.71-2.31,5.08-2.85,7.48-1.19,2.92,2.03,2.76,5.81,1.24,8.65-.78,1.45-1.7,2.81-2.33,4.34-.69,1.67-.93,3.42-.97,5.22,0,.36,0,.73-.01,1.09h-2.11c0-1.48-.05-2.99-.36-4.43Z' fill='%23fff'/%3E%3C/g%3E%3Cg%3E%3Cpath d='M18.87,50.35c-.36,1.68-1.19,3.18-2.05,4.66-1.58,2.73-3.04,6.12-.89,9.02,1.71,2.31,5.08,2.85,7.48,1.19,2.92-2.03,2.76-5.81,1.24-8.65-.78-1.45-1.7-2.81-2.33-4.34-.69-1.67-.93-3.42-.97-5.22,0-.36,0-.73-.01-1.09h-2.11c0,1.48-.05,2.99-.36,4.43Z' fill='%23fff'/%3E%3Cpath d='M18.87,43.37c-.36-1.68-1.19-3.18-2.05-4.66-1.58-2.73-3.04-6.12-.89-9.02,1.71-2.31,5.08-2.85,7.48-1.19,2.92,2.03,2.76,5.81,1.24,8.65-.78,1.45-1.7,2.81-2.33,4.34-.69,1.67-.93,3.42-.97,5.22,0,.36,0,.73-.01,1.09h-2.11c0-1.48-.05-2.99-.36-4.43Z' fill='%23fff'/%3E%3C/g%3E%3Cg%3E%3Cpath d='M30.02,29.06c-1.27,1.15-2.16,2.63-3.01,4.1-1.57,2.73-3.78,5.69-7.37,5.28-2.86-.32-5.01-2.97-4.77-5.88,.3-3.55,3.65-5.3,6.87-5.4,1.64-.05,3.28,.06,4.92-.15,1.8-.24,3.43-.9,5.01-1.77,.32-.18,.63-.35,.95-.53l1.05,1.83c-1.29,.73-2.56,1.54-3.65,2.53Z' fill='%23fff'/%3E%3Cpath d='M36.06,25.58c1.63-.53,3.35-.56,5.06-.55,3.15,0,6.82-.43,8.26-3.74,1.15-2.64-.07-5.83-2.71-7.07-3.22-1.52-6.41,.51-8.11,3.25-.87,1.4-1.58,2.87-2.59,4.19-1.1,1.44-2.5,2.52-4.04,3.45-.31,.19-.62,.37-.94,.55l1.05,1.83c1.28-.75,2.62-1.45,4.01-1.9Z' fill='%23fff'/%3E%3C/g%3E%3Cg%3E%3Cpath d='M54.1,70.6c-1.27,1.15-2.16,2.63-3.01,4.1-1.57,2.73-3.78,5.69-7.37,5.28-2.86-.32-5.01-2.97-4.77-5.88,.3-3.55,3.65-5.3,6.87-5.4,1.64-.05,3.28,.06,4.92-.15,1.8-.24,3.43-.9,5.01-1.77,.32-.18,.63-.35,.95-.53l1.05,1.83c-1.29,.73-2.56,1.54-3.65,2.53Z' fill='%23fff'/%3E%3Cpath d='M60.14,67.12c1.63-.53,3.35-.56,5.06-.55,3.15,0,6.82-.43,8.26-3.74,1.15-2.64-.07-5.83-2.71-7.07-3.22-1.52-6.41,.51-8.11,3.25-.87,1.4-1.58,2.87-2.59,4.19-1.1,1.44-2.5,2.52-4.04,3.45-.31,.19-.62,.37-.94,.55l1.05,1.83c1.28-.75,2.62-1.45,4.01-1.9Z' fill='%23fff'/%3E%3C/g%3E%3Cg%3E%3Cpath d='M58.73,29.06c1.27,1.15,2.16,2.63,3.01,4.1,1.57,2.73,3.78,5.69,7.37,5.28,2.86-.32,5.01-2.97,4.77-5.88-.3-3.55-3.65-5.3-6.87-5.4-1.64-.05-3.28,.06-4.92-.15-1.8-.24-3.43-.9-5.01-1.77-.32-.18-.63-.35-.95-.53l-1.05,1.83c1.29,.73,2.56,1.54,3.65,2.53Z' fill='%23fff'/%3E%3Cpath d='M52.69,25.58c-1.63-.53-3.35-.56-5.06-.55-3.15,0-6.82-.43-8.26-3.74-1.15-2.64,.07-5.83,2.71-7.07,3.22-1.52,6.41,.51,8.11,3.25,.87,1.4,1.58,2.87,2.59,4.19,1.1,1.44,2.5,2.52,4.04,3.45,.31,.19,.62,.37,.94,.55l-1.05,1.83c-1.28-.75-2.62-1.45-4.01-1.9Z' fill='%23fff'/%3E%3C/g%3E%3Cg%3E%3Cpath d='M34.64,70.6c1.27,1.15,2.16,2.63,3.01,4.1,1.57,2.73,3.78,5.69,7.37,5.28,2.86-.32,5.01-2.97,4.77-5.88-.3-3.55-3.65-5.3-6.87-5.4-1.64-.05-3.28,.06-4.92-.15-1.8-.24-3.43-.9-5.01-1.77-.32-.18-.63-.35-.95-.53l-1.05,1.83c1.29,.73,2.56,1.54,3.65,2.53Z' fill='%23fff'/%3E%3Cpath d='M28.6,67.12c-1.63-.53-3.35-.56-5.06-.55-3.15,0-6.82-.43-8.26-3.74-1.15-2.64,.07-5.83,2.71-7.07,3.22-1.52,6.41,.51,8.11,3.25,.87,1.4,1.58,2.87,2.59,4.19,1.1,1.44,2.5,2.52,4.04,3.45,.31,.19,.62,.37,.94,.55l-1.05,1.83c-1.28-.75-2.62-1.45-4.01-1.9Z' fill='%23fff'/%3E%3C/g%3E%3Cg%3E%3Cg%3E%3Cpath d='M61.95,41.28c.53-1.63,.56-3.35,.55-5.06,0-3.15,.43-6.82,3.74-8.26,2.64-1.15,5.83,.07,7.07,2.71,1.52,3.22-.51,6.41-3.25,8.11-1.4,.87-2.87,1.58-4.19,2.59-1.44,1.1-2.52,2.5-3.45,4.04-.19,.31-.37,.62-.55,.94l-1.83-1.05c.75-1.28,1.45-2.62,1.9-4.01Z' fill='%23fff'/%3E%3Cpath d='M48.36,64.86c-1.15,1.27-2.63,2.16-4.1,3.01-2.73,1.57-5.69,3.78-5.28,7.37,.32,2.86,2.97,5.01,5.88,4.77,3.55-.3,5.3-3.65,5.4-6.87,.05-1.64-.06-3.28,.15-4.92,.24-1.8,.9-3.43,1.77-5.01,.18-.32,.35-.63,.53-.95l-1.83-1.05c-.73,1.29-1.54,2.56-2.53,3.65Z' fill='%23fff'/%3E%3Crect x='55.82' y='42.51' width='2.11' height='20.88' transform='translate(34.09 -21.34) rotate(30)' fill='%23fff'/%3E%3C/g%3E%3Cg%3E%3Cpath d='M26.79,41.28c-.53-1.63-.56-3.35-.55-5.06,0-3.15-.43-6.82-3.74-8.26-2.64-1.15-5.83,.07-7.07,2.71-1.52,3.22,.51,6.41,3.25,8.11,1.4,.87,2.87,1.58,4.19,2.59,1.44,1.1,2.52,2.5,3.45,4.04,.19,.31,.37,.62,.55,.94l1.83-1.05c-.75-1.28-1.45-2.62-1.9-4.01Z' fill='%23fff'/%3E%3Cpath d='M40.39,64.86c1.15,1.27,2.63,2.16,4.1,3.01,2.73,1.57,5.69,3.78,5.28,7.37-.32,2.86-2.97,5.01-5.88,4.77-3.55-.3-5.3-3.65-5.4-6.87-.05-1.64,.06-3.28-.15-4.92-.24-1.8-.9-3.43-1.77-5.01-.18-.32-.35-.63-.53-.95l1.83-1.05c.73,1.29,1.54,2.56,2.53,3.65Z' fill='%23fff'/%3E%3Crect x='30.82' y='42.51' width='2.11' height='20.88' transform='translate(85.95 82.86) rotate(150)' fill='%23fff'/%3E%3C/g%3E%3Cg%3E%3Cpath d='M57.96,34.4c1.68,.36,3.18,1.19,4.66,2.05,2.73,1.58,6.12,3.04,9.02,.89,2.31-1.71,2.85-5.08,1.19-7.48-2.03-2.92-5.81-2.76-8.65-1.24-1.45,.78-2.81,1.7-4.34,2.33-1.67,.69-3.42,.93-5.22,.97-.36,0-.73,0-1.09,.01v2.11c1.48,0,2.99,.05,4.43,.36Z' fill='%23fff'/%3E%3Cpath d='M30.75,34.39c-1.68,.36-3.18,1.19-4.66,2.05-2.73,1.58-6.12,3.04-9.02,.89-2.31-1.71-2.85-5.08-1.19-7.48,2.03-2.92,5.81-2.76,8.65-1.24,1.45,.78,2.81,1.7,4.34,2.33,1.67,.69,3.42,.93,5.22,.97,.36,0,.73,0,1.09,.01v2.11c-1.48,0-2.99,.05-4.43,.36Z' fill='%23fff'/%3E%3Crect x='44.26' y='22.53' width='2.11' height='20.88' transform='translate(12.35 78.29) rotate(-90)' fill='%23fff'/%3E%3C/g%3E%3C/g%3E%3Ccircle cx='44.37' cy='19.13' r='5.43' fill='%23fff'/%3E%3Ccircle cx='44.37' cy='74.59' r='5.43' fill='%23fff'/%3E%3Ccircle cx='68.39' cy='32.99' r='5.43' fill='%23fff'/%3E%3Ccircle cx='20.36' cy='60.72' r='5.43' fill='%23fff'/%3E%3Ccircle cx='20.36' cy='32.99' r='5.43' fill='%23fff'/%3E%3Ccircle cx='68.39' cy='60.72' r='5.43' fill='%23fff'/%3E%3C/g%3E%3C/g%3E%3C/svg%3E"
                },
                "label": "6",
                "scale_factor": 1,
                "type": "#15AFAC",
                "size": [
                  55,
                  55
                ],
                "position": [
                  0,
                  0
                ]
              },
              {
                "id": 7,
                "properties": {
                  "label": "7"
                },
                "color": "#15AFAC",
                "styles": {
                  "shape": "triangle",
                  "color": "red",
                  "image": "data:image/svg+xml,%3C%3Fxml version='1.0' encoding='UTF-8'%3F%3E%3Csvg id='a' xmlns='http://www.w3.org/2000/svg' viewBox='0 0 88.66 93.76'%3E%3Cg id='b'%3E%3Cpath d='M0,37.41l.09,19.36c.04,9.83,5.33,18.89,13.87,23.77l16.81,9.6c8.54,4.88,19.03,4.83,27.52-.13l16.72-9.76c8.49-4.96,13.69-14.06,13.65-23.9l-.09-19.36c-.05-9.83-5.33-18.89-13.87-23.77L57.89,3.62c-8.54-4.88-19.03-4.83-27.52,.13L13.65,13.51C5.16,18.46-.05,27.57,0,37.41' fill='%23242265'/%3E%3Cg id='c'%3E%3Cg%3E%3Cpath d='M42.96,64.19c-.36,1.68-1.19,3.18-2.05,4.66-1.58,2.73-3.04,6.12-.89,9.02,1.71,2.31,5.08,2.85,7.48,1.19,2.92-2.03,2.76-5.81,1.24-8.65-.78-1.45-1.7-2.81-2.33-4.34-.69-1.67-.93-3.42-.97-5.22,0-.36,0-.73-.01-1.09h-2.11c0,1.48-.05,2.99-.36,4.43Z' fill='%23fff'/%3E%3Cpath d='M42.96,29.53c-.36-1.68-1.19-3.18-2.05-4.66-1.58-2.73-3.04-6.12-.89-9.02,1.71-2.31,5.08-2.85,7.48-1.19,2.92,2.03,2.76,5.81,1.24,8.65-.78,1.45-1.7,2.81-2.33,4.34-.69,1.67-.93,3.42-.97,5.22,0,.36,0,.73-.01,1.09h-2.11c0-1.48-.05-2.99-.36-4.43Z' fill='%23fff'/%3E%3Crect x='43.32' y='33.66' width='2.11' height='26.44' fill='%23fff'/%3E%3C/g%3E%3Cg%3E%3Cpath d='M30.07,56.75c-1.27,1.15-2.16,2.63-3.01,4.1-1.57,2.73-3.78,5.69-7.37,5.28-2.86-.32-5.01-2.97-4.77-5.88,.3-3.55,3.65-5.3,6.87-5.4,1.64-.05,3.28,.06,4.92-.15,1.8-.24,3.43-.9,5.01-1.77,.32-.18,.63-.35,.95-.53l1.05,1.83c-1.29,.73-2.56,1.54-3.65,2.53Z' fill='%23fff'/%3E%3Cpath d='M60.09,39.42c1.63-.53,3.35-.56,5.06-.55,3.15,0,6.82-.43,8.26-3.74,1.15-2.64-.07-5.83-2.71-7.07-3.22-1.52-6.41,.51-8.11,3.25-.87,1.4-1.58,2.87-2.59,4.19-1.1,1.44-2.5,2.52-4.04,3.45-.31,.19-.62,.37-.94,.55l1.05,1.83c1.28-.75,2.62-1.45,4.01-1.9Z' fill='%23fff'/%3E%3Crect x='43.3' y='33.65' width='2.11' height='26.44' transform='translate(25.94 108.72) rotate(-120)' fill='%23fff'/%3E%3C/g%3E%3Cg%3E%3Cpath d='M60.09,54.3c1.63,.53,3.35,.56,5.06,.55,3.15,0,6.82,.43,8.26,3.74,1.15,2.64-.07,5.83-2.71,7.07-3.22,1.52-6.41-.51-8.11-3.25-.87-1.4-1.58-2.87-2.59-4.19-1.1-1.44-2.5-2.52-4.04-3.45-.31-.19-.62-.37-.94-.55l1.05-1.83c1.28,.75,2.62,1.45,4.01,1.9Z' fill='%23fff'/%3E%3Cpath d='M30.07,36.97c-1.27-1.15-2.16-2.63-3.01-4.1-1.57-2.73-3.78-5.69-7.37-5.28-2.86,.32-5.01,2.97-4.77,5.88,.3,3.55,3.65,5.3,6.87,5.4,1.64,.05,3.28-.06,4.92,.15,1.8,.24,3.43,.9,5.01,1.77,.32,.18,.63,.35,.95,.53l1.05-1.83c-1.29-.73-2.56-1.54-3.65-2.53Z' fill='%23fff'/%3E%3Crect x='43.34' y='33.65' width='2.11' height='26.44' transform='translate(107.18 31.86) rotate(120)' fill='%23fff'/%3E%3C/g%3E%3Cg%3E%3Cpath d='M66.99,50.35c-.36,1.68-1.19,3.18-2.05,4.66-1.58,2.73-3.04,6.12-.89,9.02,1.71,2.31,5.08,2.85,7.48,1.19,2.92-2.03,2.76-5.81,1.24-8.65-.78-1.45-1.7-2.81-2.33-4.34-.69-1.67-.93-3.42-.97-5.22,0-.36,0-.73-.01-1.09h-2.11c0,1.48-.05,2.99-.36,4.43Z' fill='%23fff'/%3E%3Cpath d='M66.99,43.37c-.36-1.68-1.19-3.18-2.05-4.66-1.58-2.73-3.04-6.12-.89-9.02,1.71-2.31,5.08-2.85,7.48-1.19,2.92,2.03,2.76,5.81,1.24,8.65-.78,1.45-1.7,2.81-2.33,4.34-.69,1.67-.93,3.42-.97,5.22,0,.36,0,.73-.01,1.09h-2.11c0-1.48-.05-2.99-.36-4.43Z' fill='%23fff'/%3E%3C/g%3E%3Cg%3E%3Cpath d='M18.87,50.35c-.36,1.68-1.19,3.18-2.05,4.66-1.58,2.73-3.04,6.12-.89,9.02,1.71,2.31,5.08,2.85,7.48,1.19,2.92-2.03,2.76-5.81,1.24-8.65-.78-1.45-1.7-2.81-2.33-4.34-.69-1.67-.93-3.42-.97-5.22,0-.36,0-.73-.01-1.09h-2.11c0,1.48-.05,2.99-.36,4.43Z' fill='%23fff'/%3E%3Cpath d='M18.87,43.37c-.36-1.68-1.19-3.18-2.05-4.66-1.58-2.73-3.04-6.12-.89-9.02,1.71-2.31,5.08-2.85,7.48-1.19,2.92,2.03,2.76,5.81,1.24,8.65-.78,1.45-1.7,2.81-2.33,4.34-.69,1.67-.93,3.42-.97,5.22,0,.36,0,.73-.01,1.09h-2.11c0-1.48-.05-2.99-.36-4.43Z' fill='%23fff'/%3E%3C/g%3E%3Cg%3E%3Cpath d='M30.02,29.06c-1.27,1.15-2.16,2.63-3.01,4.1-1.57,2.73-3.78,5.69-7.37,5.28-2.86-.32-5.01-2.97-4.77-5.88,.3-3.55,3.65-5.3,6.87-5.4,1.64-.05,3.28,.06,4.92-.15,1.8-.24,3.43-.9,5.01-1.77,.32-.18,.63-.35,.95-.53l1.05,1.83c-1.29,.73-2.56,1.54-3.65,2.53Z' fill='%23fff'/%3E%3Cpath d='M36.06,25.58c1.63-.53,3.35-.56,5.06-.55,3.15,0,6.82-.43,8.26-3.74,1.15-2.64-.07-5.83-2.71-7.07-3.22-1.52-6.41,.51-8.11,3.25-.87,1.4-1.58,2.87-2.59,4.19-1.1,1.44-2.5,2.52-4.04,3.45-.31,.19-.62,.37-.94,.55l1.05,1.83c1.28-.75,2.62-1.45,4.01-1.9Z' fill='%23fff'/%3E%3C/g%3E%3Cg%3E%3Cpath d='M54.1,70.6c-1.27,1.15-2.16,2.63-3.01,4.1-1.57,2.73-3.78,5.69-7.37,5.28-2.86-.32-5.01-2.97-4.77-5.88,.3-3.55,3.65-5.3,6.87-5.4,1.64-.05,3.28,.06,4.92-.15,1.8-.24,3.43-.9,5.01-1.77,.32-.18,.63-.35,.95-.53l1.05,1.83c-1.29,.73-2.56,1.54-3.65,2.53Z' fill='%23fff'/%3E%3Cpath d='M60.14,67.12c1.63-.53,3.35-.56,5.06-.55,3.15,0,6.82-.43,8.26-3.74,1.15-2.64-.07-5.83-2.71-7.07-3.22-1.52-6.41,.51-8.11,3.25-.87,1.4-1.58,2.87-2.59,4.19-1.1,1.44-2.5,2.52-4.04,3.45-.31,.19-.62,.37-.94,.55l1.05,1.83c1.28-.75,2.62-1.45,4.01-1.9Z' fill='%23fff'/%3E%3C/g%3E%3Cg%3E%3Cpath d='M58.73,29.06c1.27,1.15,2.16,2.63,3.01,4.1,1.57,2.73,3.78,5.69,7.37,5.28,2.86-.32,5.01-2.97,4.77-5.88-.3-3.55-3.65-5.3-6.87-5.4-1.64-.05-3.28,.06-4.92-.15-1.8-.24-3.43-.9-5.01-1.77-.32-.18-.63-.35-.95-.53l-1.05,1.83c1.29,.73,2.56,1.54,3.65,2.53Z' fill='%23fff'/%3E%3Cpath d='M52.69,25.58c-1.63-.53-3.35-.56-5.06-.55-3.15,0-6.82-.43-8.26-3.74-1.15-2.64,.07-5.83,2.71-7.07,3.22-1.52,6.41,.51,8.11,3.25,.87,1.4,1.58,2.87,2.59,4.19,1.1,1.44,2.5,2.52,4.04,3.45,.31,.19,.62,.37,.94,.55l-1.05,1.83c-1.28-.75-2.62-1.45-4.01-1.9Z' fill='%23fff'/%3E%3C/g%3E%3Cg%3E%3Cpath d='M34.64,70.6c1.27,1.15,2.16,2.63,3.01,4.1,1.57,2.73,3.78,5.69,7.37,5.28,2.86-.32,5.01-2.97,4.77-5.88-.3-3.55-3.65-5.3-6.87-5.4-1.64-.05-3.28,.06-4.92-.15-1.8-.24-3.43-.9-5.01-1.77-.32-.18-.63-.35-.95-.53l-1.05,1.83c1.29,.73,2.56,1.54,3.65,2.53Z' fill='%23fff'/%3E%3Cpath d='M28.6,67.12c-1.63-.53-3.35-.56-5.06-.55-3.15,0-6.82-.43-8.26-3.74-1.15-2.64,.07-5.83,2.71-7.07,3.22-1.52,6.41,.51,8.11,3.25,.87,1.4,1.58,2.87,2.59,4.19,1.1,1.44,2.5,2.52,4.04,3.45,.31,.19,.62,.37,.94,.55l-1.05,1.83c-1.28-.75-2.62-1.45-4.01-1.9Z' fill='%23fff'/%3E%3C/g%3E%3Cg%3E%3Cg%3E%3Cpath d='M61.95,41.28c.53-1.63,.56-3.35,.55-5.06,0-3.15,.43-6.82,3.74-8.26,2.64-1.15,5.83,.07,7.07,2.71,1.52,3.22-.51,6.41-3.25,8.11-1.4,.87-2.87,1.58-4.19,2.59-1.44,1.1-2.52,2.5-3.45,4.04-.19,.31-.37,.62-.55,.94l-1.83-1.05c.75-1.28,1.45-2.62,1.9-4.01Z' fill='%23fff'/%3E%3Cpath d='M48.36,64.86c-1.15,1.27-2.63,2.16-4.1,3.01-2.73,1.57-5.69,3.78-5.28,7.37,.32,2.86,2.97,5.01,5.88,4.77,3.55-.3,5.3-3.65,5.4-6.87,.05-1.64-.06-3.28,.15-4.92,.24-1.8,.9-3.43,1.77-5.01,.18-.32,.35-.63,.53-.95l-1.83-1.05c-.73,1.29-1.54,2.56-2.53,3.65Z' fill='%23fff'/%3E%3Crect x='55.82' y='42.51' width='2.11' height='20.88' transform='translate(34.09 -21.34) rotate(30)' fill='%23fff'/%3E%3C/g%3E%3Cg%3E%3Cpath d='M26.79,41.28c-.53-1.63-.56-3.35-.55-5.06,0-3.15-.43-6.82-3.74-8.26-2.64-1.15-5.83,.07-7.07,2.71-1.52,3.22,.51,6.41,3.25,8.11,1.4,.87,2.87,1.58,4.19,2.59,1.44,1.1,2.52,2.5,3.45,4.04,.19,.31,.37,.62,.55,.94l1.83-1.05c-.75-1.28-1.45-2.62-1.9-4.01Z' fill='%23fff'/%3E%3Cpath d='M40.39,64.86c1.15,1.27,2.63,2.16,4.1,3.01,2.73,1.57,5.69,3.78,5.28,7.37-.32,2.86-2.97,5.01-5.88,4.77-3.55-.3-5.3-3.65-5.4-6.87-.05-1.64,.06-3.28-.15-4.92-.24-1.8-.9-3.43-1.77-5.01-.18-.32-.35-.63-.53-.95l1.83-1.05c.73,1.29,1.54,2.56,2.53,3.65Z' fill='%23fff'/%3E%3Crect x='30.82' y='42.51' width='2.11' height='20.88' transform='translate(85.95 82.86) rotate(150)' fill='%23fff'/%3E%3C/g%3E%3Cg%3E%3Cpath d='M57.96,34.4c1.68,.36,3.18,1.19,4.66,2.05,2.73,1.58,6.12,3.04,9.02,.89,2.31-1.71,2.85-5.08,1.19-7.48-2.03-2.92-5.81-2.76-8.65-1.24-1.45,.78-2.81,1.7-4.34,2.33-1.67,.69-3.42,.93-5.22,.97-.36,0-.73,0-1.09,.01v2.11c1.48,0,2.99,.05,4.43,.36Z' fill='%23fff'/%3E%3Cpath d='M30.75,34.39c-1.68,.36-3.18,1.19-4.66,2.05-2.73,1.58-6.12,3.04-9.02,.89-2.31-1.71-2.85-5.08-1.19-7.48,2.03-2.92,5.81-2.76,8.65-1.24,1.45,.78,2.81,1.7,4.34,2.33,1.67,.69,3.42,.93,5.22,.97,.36,0,.73,0,1.09,.01v2.11c-1.48,0-2.99,.05-4.43,.36Z' fill='%23fff'/%3E%3Crect x='44.26' y='22.53' width='2.11' height='20.88' transform='translate(12.35 78.29) rotate(-90)' fill='%23fff'/%3E%3C/g%3E%3C/g%3E%3Ccircle cx='44.37' cy='19.13' r='5.43' fill='%23fff'/%3E%3Ccircle cx='44.37' cy='74.59' r='5.43' fill='%23fff'/%3E%3Ccircle cx='68.39' cy='32.99' r='5.43' fill='%23fff'/%3E%3Ccircle cx='20.36' cy='60.72' r='5.43' fill='%23fff'/%3E%3Ccircle cx='20.36' cy='32.99' r='5.43' fill='%23fff'/%3E%3Ccircle cx='68.39' cy='60.72' r='5.43' fill='%23fff'/%3E%3C/g%3E%3C/g%3E%3C/svg%3E"
                },
                "label": "7",
                "scale_factor": 1,
                "type": "#15AFAC",
                "size": [
                  55,
                  55
                ],
                "position": [
                  0,
                  0
                ]
              },
              {
                "id": 8,
                "properties": {
                  "label": "8"
                },
                "color": "#15AFAC",
                "styles": {
                  "shape": "triangle",
                  "color": "red",
                  "image": "data:image/svg+xml,%3C%3Fxml version='1.0' encoding='UTF-8'%3F%3E%3Csvg id='a' xmlns='http://www.w3.org/2000/svg' viewBox='0 0 88.66 93.76'%3E%3Cg id='b'%3E%3Cpath d='M0,37.41l.09,19.36c.04,9.83,5.33,18.89,13.87,23.77l16.81,9.6c8.54,4.88,19.03,4.83,27.52-.13l16.72-9.76c8.49-4.96,13.69-14.06,13.65-23.9l-.09-19.36c-.05-9.83-5.33-18.89-13.87-23.77L57.89,3.62c-8.54-4.88-19.03-4.83-27.52,.13L13.65,13.51C5.16,18.46-.05,27.57,0,37.41' fill='%23242265'/%3E%3Cg id='c'%3E%3Cg%3E%3Cpath d='M42.96,64.19c-.36,1.68-1.19,3.18-2.05,4.66-1.58,2.73-3.04,6.12-.89,9.02,1.71,2.31,5.08,2.85,7.48,1.19,2.92-2.03,2.76-5.81,1.24-8.65-.78-1.45-1.7-2.81-2.33-4.34-.69-1.67-.93-3.42-.97-5.22,0-.36,0-.73-.01-1.09h-2.11c0,1.48-.05,2.99-.36,4.43Z' fill='%23fff'/%3E%3Cpath d='M42.96,29.53c-.36-1.68-1.19-3.18-2.05-4.66-1.58-2.73-3.04-6.12-.89-9.02,1.71-2.31,5.08-2.85,7.48-1.19,2.92,2.03,2.76,5.81,1.24,8.65-.78,1.45-1.7,2.81-2.33,4.34-.69,1.67-.93,3.42-.97,5.22,0,.36,0,.73-.01,1.09h-2.11c0-1.48-.05-2.99-.36-4.43Z' fill='%23fff'/%3E%3Crect x='43.32' y='33.66' width='2.11' height='26.44' fill='%23fff'/%3E%3C/g%3E%3Cg%3E%3Cpath d='M30.07,56.75c-1.27,1.15-2.16,2.63-3.01,4.1-1.57,2.73-3.78,5.69-7.37,5.28-2.86-.32-5.01-2.97-4.77-5.88,.3-3.55,3.65-5.3,6.87-5.4,1.64-.05,3.28,.06,4.92-.15,1.8-.24,3.43-.9,5.01-1.77,.32-.18,.63-.35,.95-.53l1.05,1.83c-1.29,.73-2.56,1.54-3.65,2.53Z' fill='%23fff'/%3E%3Cpath d='M60.09,39.42c1.63-.53,3.35-.56,5.06-.55,3.15,0,6.82-.43,8.26-3.74,1.15-2.64-.07-5.83-2.71-7.07-3.22-1.52-6.41,.51-8.11,3.25-.87,1.4-1.58,2.87-2.59,4.19-1.1,1.44-2.5,2.52-4.04,3.45-.31,.19-.62,.37-.94,.55l1.05,1.83c1.28-.75,2.62-1.45,4.01-1.9Z' fill='%23fff'/%3E%3Crect x='43.3' y='33.65' width='2.11' height='26.44' transform='translate(25.94 108.72) rotate(-120)' fill='%23fff'/%3E%3C/g%3E%3Cg%3E%3Cpath d='M60.09,54.3c1.63,.53,3.35,.56,5.06,.55,3.15,0,6.82,.43,8.26,3.74,1.15,2.64-.07,5.83-2.71,7.07-3.22,1.52-6.41-.51-8.11-3.25-.87-1.4-1.58-2.87-2.59-4.19-1.1-1.44-2.5-2.52-4.04-3.45-.31-.19-.62-.37-.94-.55l1.05-1.83c1.28,.75,2.62,1.45,4.01,1.9Z' fill='%23fff'/%3E%3Cpath d='M30.07,36.97c-1.27-1.15-2.16-2.63-3.01-4.1-1.57-2.73-3.78-5.69-7.37-5.28-2.86,.32-5.01,2.97-4.77,5.88,.3,3.55,3.65,5.3,6.87,5.4,1.64,.05,3.28-.06,4.92,.15,1.8,.24,3.43,.9,5.01,1.77,.32,.18,.63,.35,.95,.53l1.05-1.83c-1.29-.73-2.56-1.54-3.65-2.53Z' fill='%23fff'/%3E%3Crect x='43.34' y='33.65' width='2.11' height='26.44' transform='translate(107.18 31.86) rotate(120)' fill='%23fff'/%3E%3C/g%3E%3Cg%3E%3Cpath d='M66.99,50.35c-.36,1.68-1.19,3.18-2.05,4.66-1.58,2.73-3.04,6.12-.89,9.02,1.71,2.31,5.08,2.85,7.48,1.19,2.92-2.03,2.76-5.81,1.24-8.65-.78-1.45-1.7-2.81-2.33-4.34-.69-1.67-.93-3.42-.97-5.22,0-.36,0-.73-.01-1.09h-2.11c0,1.48-.05,2.99-.36,4.43Z' fill='%23fff'/%3E%3Cpath d='M66.99,43.37c-.36-1.68-1.19-3.18-2.05-4.66-1.58-2.73-3.04-6.12-.89-9.02,1.71-2.31,5.08-2.85,7.48-1.19,2.92,2.03,2.76,5.81,1.24,8.65-.78,1.45-1.7,2.81-2.33,4.34-.69,1.67-.93,3.42-.97,5.22,0,.36,0,.73-.01,1.09h-2.11c0-1.48-.05-2.99-.36-4.43Z' fill='%23fff'/%3E%3C/g%3E%3Cg%3E%3Cpath d='M18.87,50.35c-.36,1.68-1.19,3.18-2.05,4.66-1.58,2.73-3.04,6.12-.89,9.02,1.71,2.31,5.08,2.85,7.48,1.19,2.92-2.03,2.76-5.81,1.24-8.65-.78-1.45-1.7-2.81-2.33-4.34-.69-1.67-.93-3.42-.97-5.22,0-.36,0-.73-.01-1.09h-2.11c0,1.48-.05,2.99-.36,4.43Z' fill='%23fff'/%3E%3Cpath d='M18.87,43.37c-.36-1.68-1.19-3.18-2.05-4.66-1.58-2.73-3.04-6.12-.89-9.02,1.71-2.31,5.08-2.85,7.48-1.19,2.92,2.03,2.76,5.81,1.24,8.65-.78,1.45-1.7,2.81-2.33,4.34-.69,1.67-.93,3.42-.97,5.22,0,.36,0,.73-.01,1.09h-2.11c0-1.48-.05-2.99-.36-4.43Z' fill='%23fff'/%3E%3C/g%3E%3Cg%3E%3Cpath d='M30.02,29.06c-1.27,1.15-2.16,2.63-3.01,4.1-1.57,2.73-3.78,5.69-7.37,5.28-2.86-.32-5.01-2.97-4.77-5.88,.3-3.55,3.65-5.3,6.87-5.4,1.64-.05,3.28,.06,4.92-.15,1.8-.24,3.43-.9,5.01-1.77,.32-.18,.63-.35,.95-.53l1.05,1.83c-1.29,.73-2.56,1.54-3.65,2.53Z' fill='%23fff'/%3E%3Cpath d='M36.06,25.58c1.63-.53,3.35-.56,5.06-.55,3.15,0,6.82-.43,8.26-3.74,1.15-2.64-.07-5.83-2.71-7.07-3.22-1.52-6.41,.51-8.11,3.25-.87,1.4-1.58,2.87-2.59,4.19-1.1,1.44-2.5,2.52-4.04,3.45-.31,.19-.62,.37-.94,.55l1.05,1.83c1.28-.75,2.62-1.45,4.01-1.9Z' fill='%23fff'/%3E%3C/g%3E%3Cg%3E%3Cpath d='M54.1,70.6c-1.27,1.15-2.16,2.63-3.01,4.1-1.57,2.73-3.78,5.69-7.37,5.28-2.86-.32-5.01-2.97-4.77-5.88,.3-3.55,3.65-5.3,6.87-5.4,1.64-.05,3.28,.06,4.92-.15,1.8-.24,3.43-.9,5.01-1.77,.32-.18,.63-.35,.95-.53l1.05,1.83c-1.29,.73-2.56,1.54-3.65,2.53Z' fill='%23fff'/%3E%3Cpath d='M60.14,67.12c1.63-.53,3.35-.56,5.06-.55,3.15,0,6.82-.43,8.26-3.74,1.15-2.64-.07-5.83-2.71-7.07-3.22-1.52-6.41,.51-8.11,3.25-.87,1.4-1.58,2.87-2.59,4.19-1.1,1.44-2.5,2.52-4.04,3.45-.31,.19-.62,.37-.94,.55l1.05,1.83c1.28-.75,2.62-1.45,4.01-1.9Z' fill='%23fff'/%3E%3C/g%3E%3Cg%3E%3Cpath d='M58.73,29.06c1.27,1.15,2.16,2.63,3.01,4.1,1.57,2.73,3.78,5.69,7.37,5.28,2.86-.32,5.01-2.97,4.77-5.88-.3-3.55-3.65-5.3-6.87-5.4-1.64-.05-3.28,.06-4.92-.15-1.8-.24-3.43-.9-5.01-1.77-.32-.18-.63-.35-.95-.53l-1.05,1.83c1.29,.73,2.56,1.54,3.65,2.53Z' fill='%23fff'/%3E%3Cpath d='M52.69,25.58c-1.63-.53-3.35-.56-5.06-.55-3.15,0-6.82-.43-8.26-3.74-1.15-2.64,.07-5.83,2.71-7.07,3.22-1.52,6.41,.51,8.11,3.25,.87,1.4,1.58,2.87,2.59,4.19,1.1,1.44,2.5,2.52,4.04,3.45,.31,.19,.62,.37,.94,.55l-1.05,1.83c-1.28-.75-2.62-1.45-4.01-1.9Z' fill='%23fff'/%3E%3C/g%3E%3Cg%3E%3Cpath d='M34.64,70.6c1.27,1.15,2.16,2.63,3.01,4.1,1.57,2.73,3.78,5.69,7.37,5.28,2.86-.32,5.01-2.97,4.77-5.88-.3-3.55-3.65-5.3-6.87-5.4-1.64-.05-3.28,.06-4.92-.15-1.8-.24-3.43-.9-5.01-1.77-.32-.18-.63-.35-.95-.53l-1.05,1.83c1.29,.73,2.56,1.54,3.65,2.53Z' fill='%23fff'/%3E%3Cpath d='M28.6,67.12c-1.63-.53-3.35-.56-5.06-.55-3.15,0-6.82-.43-8.26-3.74-1.15-2.64,.07-5.83,2.71-7.07,3.22-1.52,6.41,.51,8.11,3.25,.87,1.4,1.58,2.87,2.59,4.19,1.1,1.44,2.5,2.52,4.04,3.45,.31,.19,.62,.37,.94,.55l-1.05,1.83c-1.28-.75-2.62-1.45-4.01-1.9Z' fill='%23fff'/%3E%3C/g%3E%3Cg%3E%3Cg%3E%3Cpath d='M61.95,41.28c.53-1.63,.56-3.35,.55-5.06,0-3.15,.43-6.82,3.74-8.26,2.64-1.15,5.83,.07,7.07,2.71,1.52,3.22-.51,6.41-3.25,8.11-1.4,.87-2.87,1.58-4.19,2.59-1.44,1.1-2.52,2.5-3.45,4.04-.19,.31-.37,.62-.55,.94l-1.83-1.05c.75-1.28,1.45-2.62,1.9-4.01Z' fill='%23fff'/%3E%3Cpath d='M48.36,64.86c-1.15,1.27-2.63,2.16-4.1,3.01-2.73,1.57-5.69,3.78-5.28,7.37,.32,2.86,2.97,5.01,5.88,4.77,3.55-.3,5.3-3.65,5.4-6.87,.05-1.64-.06-3.28,.15-4.92,.24-1.8,.9-3.43,1.77-5.01,.18-.32,.35-.63,.53-.95l-1.83-1.05c-.73,1.29-1.54,2.56-2.53,3.65Z' fill='%23fff'/%3E%3Crect x='55.82' y='42.51' width='2.11' height='20.88' transform='translate(34.09 -21.34) rotate(30)' fill='%23fff'/%3E%3C/g%3E%3Cg%3E%3Cpath d='M26.79,41.28c-.53-1.63-.56-3.35-.55-5.06,0-3.15-.43-6.82-3.74-8.26-2.64-1.15-5.83,.07-7.07,2.71-1.52,3.22,.51,6.41,3.25,8.11,1.4,.87,2.87,1.58,4.19,2.59,1.44,1.1,2.52,2.5,3.45,4.04,.19,.31,.37,.62,.55,.94l1.83-1.05c-.75-1.28-1.45-2.62-1.9-4.01Z' fill='%23fff'/%3E%3Cpath d='M40.39,64.86c1.15,1.27,2.63,2.16,4.1,3.01,2.73,1.57,5.69,3.78,5.28,7.37-.32,2.86-2.97,5.01-5.88,4.77-3.55-.3-5.3-3.65-5.4-6.87-.05-1.64,.06-3.28-.15-4.92-.24-1.8-.9-3.43-1.77-5.01-.18-.32-.35-.63-.53-.95l1.83-1.05c.73,1.29,1.54,2.56,2.53,3.65Z' fill='%23fff'/%3E%3Crect x='30.82' y='42.51' width='2.11' height='20.88' transform='translate(85.95 82.86) rotate(150)' fill='%23fff'/%3E%3C/g%3E%3Cg%3E%3Cpath d='M57.96,34.4c1.68,.36,3.18,1.19,4.66,2.05,2.73,1.58,6.12,3.04,9.02,.89,2.31-1.71,2.85-5.08,1.19-7.48-2.03-2.92-5.81-2.76-8.65-1.24-1.45,.78-2.81,1.7-4.34,2.33-1.67,.69-3.42,.93-5.22,.97-.36,0-.73,0-1.09,.01v2.11c1.48,0,2.99,.05,4.43,.36Z' fill='%23fff'/%3E%3Cpath d='M30.75,34.39c-1.68,.36-3.18,1.19-4.66,2.05-2.73,1.58-6.12,3.04-9.02,.89-2.31-1.71-2.85-5.08-1.19-7.48,2.03-2.92,5.81-2.76,8.65-1.24,1.45,.78,2.81,1.7,4.34,2.33,1.67,.69,3.42,.93,5.22,.97,.36,0,.73,0,1.09,.01v2.11c-1.48,0-2.99,.05-4.43,.36Z' fill='%23fff'/%3E%3Crect x='44.26' y='22.53' width='2.11' height='20.88' transform='translate(12.35 78.29) rotate(-90)' fill='%23fff'/%3E%3C/g%3E%3C/g%3E%3Ccircle cx='44.37' cy='19.13' r='5.43' fill='%23fff'/%3E%3Ccircle cx='44.37' cy='74.59' r='5.43' fill='%23fff'/%3E%3Ccircle cx='68.39' cy='32.99' r='5.43' fill='%23fff'/%3E%3Ccircle cx='20.36' cy='60.72' r='5.43' fill='%23fff'/%3E%3Ccircle cx='20.36' cy='32.99' r='5.43' fill='%23fff'/%3E%3Ccircle cx='68.39' cy='60.72' r='5.43' fill='%23fff'/%3E%3C/g%3E%3C/g%3E%3C/svg%3E"
                },
                "label": "8",
                "scale_factor": 1,
                "type": "#15AFAC",
                "size": [
                  55,
                  55
                ],
                "position": [
                  0,
                  0
                ]
              },
              {
                "id": 9,
                "properties": {
                  "label": "9"
                },
                "color": "#15AFAC",
                "styles": {
                  "shape": "triangle",
                  "color": "red",
                  "image": "data:image/svg+xml,%3C%3Fxml version='1.0' encoding='UTF-8'%3F%3E%3Csvg id='a' xmlns='http://www.w3.org/2000/svg' viewBox='0 0 88.66 93.76'%3E%3Cg id='b'%3E%3Cpath d='M0,37.41l.09,19.36c.04,9.83,5.33,18.89,13.87,23.77l16.81,9.6c8.54,4.88,19.03,4.83,27.52-.13l16.72-9.76c8.49-4.96,13.69-14.06,13.65-23.9l-.09-19.36c-.05-9.83-5.33-18.89-13.87-23.77L57.89,3.62c-8.54-4.88-19.03-4.83-27.52,.13L13.65,13.51C5.16,18.46-.05,27.57,0,37.41' fill='%23242265'/%3E%3Cg id='c'%3E%3Cg%3E%3Cpath d='M42.96,64.19c-.36,1.68-1.19,3.18-2.05,4.66-1.58,2.73-3.04,6.12-.89,9.02,1.71,2.31,5.08,2.85,7.48,1.19,2.92-2.03,2.76-5.81,1.24-8.65-.78-1.45-1.7-2.81-2.33-4.34-.69-1.67-.93-3.42-.97-5.22,0-.36,0-.73-.01-1.09h-2.11c0,1.48-.05,2.99-.36,4.43Z' fill='%23fff'/%3E%3Cpath d='M42.96,29.53c-.36-1.68-1.19-3.18-2.05-4.66-1.58-2.73-3.04-6.12-.89-9.02,1.71-2.31,5.08-2.85,7.48-1.19,2.92,2.03,2.76,5.81,1.24,8.65-.78,1.45-1.7,2.81-2.33,4.34-.69,1.67-.93,3.42-.97,5.22,0,.36,0,.73-.01,1.09h-2.11c0-1.48-.05-2.99-.36-4.43Z' fill='%23fff'/%3E%3Crect x='43.32' y='33.66' width='2.11' height='26.44' fill='%23fff'/%3E%3C/g%3E%3Cg%3E%3Cpath d='M30.07,56.75c-1.27,1.15-2.16,2.63-3.01,4.1-1.57,2.73-3.78,5.69-7.37,5.28-2.86-.32-5.01-2.97-4.77-5.88,.3-3.55,3.65-5.3,6.87-5.4,1.64-.05,3.28,.06,4.92-.15,1.8-.24,3.43-.9,5.01-1.77,.32-.18,.63-.35,.95-.53l1.05,1.83c-1.29,.73-2.56,1.54-3.65,2.53Z' fill='%23fff'/%3E%3Cpath d='M60.09,39.42c1.63-.53,3.35-.56,5.06-.55,3.15,0,6.82-.43,8.26-3.74,1.15-2.64-.07-5.83-2.71-7.07-3.22-1.52-6.41,.51-8.11,3.25-.87,1.4-1.58,2.87-2.59,4.19-1.1,1.44-2.5,2.52-4.04,3.45-.31,.19-.62,.37-.94,.55l1.05,1.83c1.28-.75,2.62-1.45,4.01-1.9Z' fill='%23fff'/%3E%3Crect x='43.3' y='33.65' width='2.11' height='26.44' transform='translate(25.94 108.72) rotate(-120)' fill='%23fff'/%3E%3C/g%3E%3Cg%3E%3Cpath d='M60.09,54.3c1.63,.53,3.35,.56,5.06,.55,3.15,0,6.82,.43,8.26,3.74,1.15,2.64-.07,5.83-2.71,7.07-3.22,1.52-6.41-.51-8.11-3.25-.87-1.4-1.58-2.87-2.59-4.19-1.1-1.44-2.5-2.52-4.04-3.45-.31-.19-.62-.37-.94-.55l1.05-1.83c1.28,.75,2.62,1.45,4.01,1.9Z' fill='%23fff'/%3E%3Cpath d='M30.07,36.97c-1.27-1.15-2.16-2.63-3.01-4.1-1.57-2.73-3.78-5.69-7.37-5.28-2.86,.32-5.01,2.97-4.77,5.88,.3,3.55,3.65,5.3,6.87,5.4,1.64,.05,3.28-.06,4.92,.15,1.8,.24,3.43,.9,5.01,1.77,.32,.18,.63,.35,.95,.53l1.05-1.83c-1.29-.73-2.56-1.54-3.65-2.53Z' fill='%23fff'/%3E%3Crect x='43.34' y='33.65' width='2.11' height='26.44' transform='translate(107.18 31.86) rotate(120)' fill='%23fff'/%3E%3C/g%3E%3Cg%3E%3Cpath d='M66.99,50.35c-.36,1.68-1.19,3.18-2.05,4.66-1.58,2.73-3.04,6.12-.89,9.02,1.71,2.31,5.08,2.85,7.48,1.19,2.92-2.03,2.76-5.81,1.24-8.65-.78-1.45-1.7-2.81-2.33-4.34-.69-1.67-.93-3.42-.97-5.22,0-.36,0-.73-.01-1.09h-2.11c0,1.48-.05,2.99-.36,4.43Z' fill='%23fff'/%3E%3Cpath d='M66.99,43.37c-.36-1.68-1.19-3.18-2.05-4.66-1.58-2.73-3.04-6.12-.89-9.02,1.71-2.31,5.08-2.85,7.48-1.19,2.92,2.03,2.76,5.81,1.24,8.65-.78,1.45-1.7,2.81-2.33,4.34-.69,1.67-.93,3.42-.97,5.22,0,.36,0,.73-.01,1.09h-2.11c0-1.48-.05-2.99-.36-4.43Z' fill='%23fff'/%3E%3C/g%3E%3Cg%3E%3Cpath d='M18.87,50.35c-.36,1.68-1.19,3.18-2.05,4.66-1.58,2.73-3.04,6.12-.89,9.02,1.71,2.31,5.08,2.85,7.48,1.19,2.92-2.03,2.76-5.81,1.24-8.65-.78-1.45-1.7-2.81-2.33-4.34-.69-1.67-.93-3.42-.97-5.22,0-.36,0-.73-.01-1.09h-2.11c0,1.48-.05,2.99-.36,4.43Z' fill='%23fff'/%3E%3Cpath d='M18.87,43.37c-.36-1.68-1.19-3.18-2.05-4.66-1.58-2.73-3.04-6.12-.89-9.02,1.71-2.31,5.08-2.85,7.48-1.19,2.92,2.03,2.76,5.81,1.24,8.65-.78,1.45-1.7,2.81-2.33,4.34-.69,1.67-.93,3.42-.97,5.22,0,.36,0,.73-.01,1.09h-2.11c0-1.48-.05-2.99-.36-4.43Z' fill='%23fff'/%3E%3C/g%3E%3Cg%3E%3Cpath d='M30.02,29.06c-1.27,1.15-2.16,2.63-3.01,4.1-1.57,2.73-3.78,5.69-7.37,5.28-2.86-.32-5.01-2.97-4.77-5.88,.3-3.55,3.65-5.3,6.87-5.4,1.64-.05,3.28,.06,4.92-.15,1.8-.24,3.43-.9,5.01-1.77,.32-.18,.63-.35,.95-.53l1.05,1.83c-1.29,.73-2.56,1.54-3.65,2.53Z' fill='%23fff'/%3E%3Cpath d='M36.06,25.58c1.63-.53,3.35-.56,5.06-.55,3.15,0,6.82-.43,8.26-3.74,1.15-2.64-.07-5.83-2.71-7.07-3.22-1.52-6.41,.51-8.11,3.25-.87,1.4-1.58,2.87-2.59,4.19-1.1,1.44-2.5,2.52-4.04,3.45-.31,.19-.62,.37-.94,.55l1.05,1.83c1.28-.75,2.62-1.45,4.01-1.9Z' fill='%23fff'/%3E%3C/g%3E%3Cg%3E%3Cpath d='M54.1,70.6c-1.27,1.15-2.16,2.63-3.01,4.1-1.57,2.73-3.78,5.69-7.37,5.28-2.86-.32-5.01-2.97-4.77-5.88,.3-3.55,3.65-5.3,6.87-5.4,1.64-.05,3.28,.06,4.92-.15,1.8-.24,3.43-.9,5.01-1.77,.32-.18,.63-.35,.95-.53l1.05,1.83c-1.29,.73-2.56,1.54-3.65,2.53Z' fill='%23fff'/%3E%3Cpath d='M60.14,67.12c1.63-.53,3.35-.56,5.06-.55,3.15,0,6.82-.43,8.26-3.74,1.15-2.64-.07-5.83-2.71-7.07-3.22-1.52-6.41,.51-8.11,3.25-.87,1.4-1.58,2.87-2.59,4.19-1.1,1.44-2.5,2.52-4.04,3.45-.31,.19-.62,.37-.94,.55l1.05,1.83c1.28-.75,2.62-1.45,4.01-1.9Z' fill='%23fff'/%3E%3C/g%3E%3Cg%3E%3Cpath d='M58.73,29.06c1.27,1.15,2.16,2.63,3.01,4.1,1.57,2.73,3.78,5.69,7.37,5.28,2.86-.32,5.01-2.97,4.77-5.88-.3-3.55-3.65-5.3-6.87-5.4-1.64-.05-3.28,.06-4.92-.15-1.8-.24-3.43-.9-5.01-1.77-.32-.18-.63-.35-.95-.53l-1.05,1.83c1.29,.73,2.56,1.54,3.65,2.53Z' fill='%23fff'/%3E%3Cpath d='M52.69,25.58c-1.63-.53-3.35-.56-5.06-.55-3.15,0-6.82-.43-8.26-3.74-1.15-2.64,.07-5.83,2.71-7.07,3.22-1.52,6.41,.51,8.11,3.25,.87,1.4,1.58,2.87,2.59,4.19,1.1,1.44,2.5,2.52,4.04,3.45,.31,.19,.62,.37,.94,.55l-1.05,1.83c-1.28-.75-2.62-1.45-4.01-1.9Z' fill='%23fff'/%3E%3C/g%3E%3Cg%3E%3Cpath d='M34.64,70.6c1.27,1.15,2.16,2.63,3.01,4.1,1.57,2.73,3.78,5.69,7.37,5.28,2.86-.32,5.01-2.97,4.77-5.88-.3-3.55-3.65-5.3-6.87-5.4-1.64-.05-3.28,.06-4.92-.15-1.8-.24-3.43-.9-5.01-1.77-.32-.18-.63-.35-.95-.53l-1.05,1.83c1.29,.73,2.56,1.54,3.65,2.53Z' fill='%23fff'/%3E%3Cpath d='M28.6,67.12c-1.63-.53-3.35-.56-5.06-.55-3.15,0-6.82-.43-8.26-3.74-1.15-2.64,.07-5.83,2.71-7.07,3.22-1.52,6.41,.51,8.11,3.25,.87,1.4,1.58,2.87,2.59,4.19,1.1,1.44,2.5,2.52,4.04,3.45,.31,.19,.62,.37,.94,.55l-1.05,1.83c-1.28-.75-2.62-1.45-4.01-1.9Z' fill='%23fff'/%3E%3C/g%3E%3Cg%3E%3Cg%3E%3Cpath d='M61.95,41.28c.53-1.63,.56-3.35,.55-5.06,0-3.15,.43-6.82,3.74-8.26,2.64-1.15,5.83,.07,7.07,2.71,1.52,3.22-.51,6.41-3.25,8.11-1.4,.87-2.87,1.58-4.19,2.59-1.44,1.1-2.52,2.5-3.45,4.04-.19,.31-.37,.62-.55,.94l-1.83-1.05c.75-1.28,1.45-2.62,1.9-4.01Z' fill='%23fff'/%3E%3Cpath d='M48.36,64.86c-1.15,1.27-2.63,2.16-4.1,3.01-2.73,1.57-5.69,3.78-5.28,7.37,.32,2.86,2.97,5.01,5.88,4.77,3.55-.3,5.3-3.65,5.4-6.87,.05-1.64-.06-3.28,.15-4.92,.24-1.8,.9-3.43,1.77-5.01,.18-.32,.35-.63,.53-.95l-1.83-1.05c-.73,1.29-1.54,2.56-2.53,3.65Z' fill='%23fff'/%3E%3Crect x='55.82' y='42.51' width='2.11' height='20.88' transform='translate(34.09 -21.34) rotate(30)' fill='%23fff'/%3E%3C/g%3E%3Cg%3E%3Cpath d='M26.79,41.28c-.53-1.63-.56-3.35-.55-5.06,0-3.15-.43-6.82-3.74-8.26-2.64-1.15-5.83,.07-7.07,2.71-1.52,3.22,.51,6.41,3.25,8.11,1.4,.87,2.87,1.58,4.19,2.59,1.44,1.1,2.52,2.5,3.45,4.04,.19,.31,.37,.62,.55,.94l1.83-1.05c-.75-1.28-1.45-2.62-1.9-4.01Z' fill='%23fff'/%3E%3Cpath d='M40.39,64.86c1.15,1.27,2.63,2.16,4.1,3.01,2.73,1.57,5.69,3.78,5.28,7.37-.32,2.86-2.97,5.01-5.88,4.77-3.55-.3-5.3-3.65-5.4-6.87-.05-1.64,.06-3.28-.15-4.92-.24-1.8-.9-3.43-1.77-5.01-.18-.32-.35-.63-.53-.95l1.83-1.05c.73,1.29,1.54,2.56,2.53,3.65Z' fill='%23fff'/%3E%3Crect x='30.82' y='42.51' width='2.11' height='20.88' transform='translate(85.95 82.86) rotate(150)' fill='%23fff'/%3E%3C/g%3E%3Cg%3E%3Cpath d='M57.96,34.4c1.68,.36,3.18,1.19,4.66,2.05,2.73,1.58,6.12,3.04,9.02,.89,2.31-1.71,2.85-5.08,1.19-7.48-2.03-2.92-5.81-2.76-8.65-1.24-1.45,.78-2.81,1.7-4.34,2.33-1.67,.69-3.42,.93-5.22,.97-.36,0-.73,0-1.09,.01v2.11c1.48,0,2.99,.05,4.43,.36Z' fill='%23fff'/%3E%3Cpath d='M30.75,34.39c-1.68,.36-3.18,1.19-4.66,2.05-2.73,1.58-6.12,3.04-9.02,.89-2.31-1.71-2.85-5.08-1.19-7.48,2.03-2.92,5.81-2.76,8.65-1.24,1.45,.78,2.81,1.7,4.34,2.33,1.67,.69,3.42,.93,5.22,.97,.36,0,.73,0,1.09,.01v2.11c-1.48,0-2.99,.05-4.43,.36Z' fill='%23fff'/%3E%3Crect x='44.26' y='22.53' width='2.11' height='20.88' transform='translate(12.35 78.29) rotate(-90)' fill='%23fff'/%3E%3C/g%3E%3C/g%3E%3Ccircle cx='44.37' cy='19.13' r='5.43' fill='%23fff'/%3E%3Ccircle cx='44.37' cy='74.59' r='5.43' fill='%23fff'/%3E%3Ccircle cx='68.39' cy='32.99' r='5.43' fill='%23fff'/%3E%3Ccircle cx='20.36' cy='60.72' r='5.43' fill='%23fff'/%3E%3Ccircle cx='20.36' cy='32.99' r='5.43' fill='%23fff'/%3E%3Ccircle cx='68.39' cy='60.72' r='5.43' fill='%23fff'/%3E%3C/g%3E%3C/g%3E%3C/svg%3E"
                },
                "label": "9",
                "scale_factor": 1,
                "type": "#15AFAC",
                "size": [
                  55,
                  55
                ],
                "position": [
                  0,
                  0
                ]
              }
            ],
            "_overview": {
              "enabled": null,
              "overview_set": false
            },
            "_selected_graph": [
              [],
              []
            ],
            "_sidebar": {
              "enabled": false,
              "start_with": null
            },
            "_view_count": null,
            "_view_module": "yfiles-jupyter-graphs",
            "_view_module_version": "^1.10.0",
            "_view_name": "GraphView",
            "layout": "IPY_MODEL_926f742d91ff4c118ae611ded9d16716",
            "tabbable": null,
            "tooltip": null
          }
        },
        "926f742d91ff4c118ae611ded9d16716": {
          "model_module": "@jupyter-widgets/base",
          "model_name": "LayoutModel",
          "model_module_version": "2.0.0",
          "state": {
            "_model_module": "@jupyter-widgets/base",
            "_model_module_version": "2.0.0",
            "_model_name": "LayoutModel",
            "_view_count": null,
            "_view_module": "@jupyter-widgets/base",
            "_view_module_version": "2.0.0",
            "_view_name": "LayoutView",
            "align_content": null,
            "align_items": null,
            "align_self": null,
            "border_bottom": null,
            "border_left": null,
            "border_right": null,
            "border_top": null,
            "bottom": null,
            "display": null,
            "flex": null,
            "flex_flow": null,
            "grid_area": null,
            "grid_auto_columns": null,
            "grid_auto_flow": null,
            "grid_auto_rows": null,
            "grid_column": null,
            "grid_gap": null,
            "grid_row": null,
            "grid_template_areas": null,
            "grid_template_columns": null,
            "grid_template_rows": null,
            "height": "500px",
            "justify_content": null,
            "justify_items": null,
            "left": null,
            "margin": null,
            "max_height": null,
            "max_width": null,
            "min_height": null,
            "min_width": null,
            "object_fit": null,
            "object_position": null,
            "order": null,
            "overflow": null,
            "padding": null,
            "right": null,
            "top": null,
            "visibility": null,
            "width": "100%"
          }
        },
        "cb5949029983420ab390eea53bb99461": {
          "model_module": "yfiles-jupyter-graphs",
          "model_name": "GraphModel",
          "model_module_version": "^1.10.0",
          "state": {
            "_context_pane_mapping": [
              {
                "id": "Neighborhood",
                "title": "Neighborhood"
              },
              {
                "id": "Data",
                "title": "Data"
              },
              {
                "id": "Search",
                "title": "Search"
              },
              {
                "id": "About",
                "title": "About"
              }
            ],
            "_data_importer": "networkx",
            "_directed": false,
            "_dom_classes": [],
            "_edges": [
              {
                "id": 0,
                "start": 0,
                "end": 3,
                "properties": {},
                "color": "#15AFAC",
                "thickness_factor": 1,
                "directed": false,
                "styles": {},
                "label": ""
              },
              {
                "id": 1,
                "start": 0,
                "end": 4,
                "properties": {},
                "color": "#15AFAC",
                "thickness_factor": 1,
                "directed": false,
                "styles": {},
                "label": ""
              },
              {
                "id": 2,
                "start": 1,
                "end": 4,
                "properties": {},
                "color": "#15AFAC",
                "thickness_factor": 1,
                "directed": false,
                "styles": {},
                "label": ""
              },
              {
                "id": 3,
                "start": 2,
                "end": 5,
                "properties": {},
                "color": "#15AFAC",
                "thickness_factor": 1,
                "directed": false,
                "styles": {},
                "label": ""
              },
              {
                "id": 4,
                "start": 2,
                "end": 6,
                "properties": {},
                "color": "#15AFAC",
                "thickness_factor": 1,
                "directed": false,
                "styles": {},
                "label": ""
              },
              {
                "id": 5,
                "start": 2,
                "end": 7,
                "properties": {},
                "color": "#15AFAC",
                "thickness_factor": 1,
                "directed": false,
                "styles": {},
                "label": ""
              },
              {
                "id": 6,
                "start": 3,
                "end": 8,
                "properties": {},
                "color": "#15AFAC",
                "thickness_factor": 1,
                "directed": false,
                "styles": {},
                "label": ""
              },
              {
                "id": 7,
                "start": 3,
                "end": 9,
                "properties": {},
                "color": "#15AFAC",
                "thickness_factor": 1,
                "directed": false,
                "styles": {},
                "label": ""
              },
              {
                "id": 8,
                "start": 4,
                "end": 6,
                "properties": {},
                "color": "#15AFAC",
                "thickness_factor": 1,
                "directed": false,
                "styles": {},
                "label": ""
              },
              {
                "id": 9,
                "start": 5,
                "end": 6,
                "properties": {},
                "color": "#15AFAC",
                "thickness_factor": 1,
                "directed": false,
                "styles": {},
                "label": ""
              }
            ],
            "_graph_layout": {},
            "_highlight": [],
            "_license": {},
            "_model_module": "yfiles-jupyter-graphs",
            "_model_module_version": "^1.10.0",
            "_model_name": "GraphModel",
            "_neighborhood": {},
            "_nodes": [
              {
                "id": 0,
                "properties": {
                  "label": "0"
                },
                "color": "blue",
                "styles": {
                  "color": "red"
                },
                "label": "0",
                "scale_factor": 1,
                "type": "blue",
                "size": [
                  55,
                  55
                ],
                "position": [
                  0,
                  0
                ]
              },
              {
                "id": 1,
                "properties": {
                  "label": "1"
                },
                "color": "blue",
                "styles": {},
                "label": "1",
                "scale_factor": 1,
                "type": "blue",
                "size": [
                  55,
                  55
                ],
                "position": [
                  0,
                  0
                ]
              },
              {
                "id": 2,
                "properties": {
                  "label": "2"
                },
                "color": "blue",
                "styles": {
                  "color": "red"
                },
                "label": "2",
                "scale_factor": 1,
                "type": "blue",
                "size": [
                  55,
                  55
                ],
                "position": [
                  0,
                  0
                ]
              },
              {
                "id": 3,
                "properties": {
                  "label": "3"
                },
                "color": "blue",
                "styles": {},
                "label": "3",
                "scale_factor": 1,
                "type": "blue",
                "size": [
                  55,
                  55
                ],
                "position": [
                  0,
                  0
                ]
              },
              {
                "id": 4,
                "properties": {
                  "label": "4"
                },
                "color": "blue",
                "styles": {
                  "color": "red"
                },
                "label": "4",
                "scale_factor": 1,
                "type": "blue",
                "size": [
                  55,
                  55
                ],
                "position": [
                  0,
                  0
                ]
              },
              {
                "id": 5,
                "properties": {
                  "label": "5"
                },
                "color": "blue",
                "styles": {},
                "label": "5",
                "scale_factor": 1,
                "type": "blue",
                "size": [
                  55,
                  55
                ],
                "position": [
                  0,
                  0
                ]
              },
              {
                "id": 6,
                "properties": {
                  "label": "6"
                },
                "color": "blue",
                "styles": {
                  "color": "red"
                },
                "label": "6",
                "scale_factor": 1,
                "type": "blue",
                "size": [
                  55,
                  55
                ],
                "position": [
                  0,
                  0
                ]
              },
              {
                "id": 7,
                "properties": {
                  "label": "7"
                },
                "color": "blue",
                "styles": {},
                "label": "7",
                "scale_factor": 1,
                "type": "blue",
                "size": [
                  55,
                  55
                ],
                "position": [
                  0,
                  0
                ]
              },
              {
                "id": 8,
                "properties": {
                  "label": "8"
                },
                "color": "blue",
                "styles": {
                  "color": "red"
                },
                "label": "8",
                "scale_factor": 1,
                "type": "blue",
                "size": [
                  55,
                  55
                ],
                "position": [
                  0,
                  0
                ]
              },
              {
                "id": 9,
                "properties": {
                  "label": "9"
                },
                "color": "blue",
                "styles": {},
                "label": "9",
                "scale_factor": 1,
                "type": "blue",
                "size": [
                  55,
                  55
                ],
                "position": [
                  0,
                  0
                ]
              }
            ],
            "_overview": {
              "enabled": null,
              "overview_set": false
            },
            "_selected_graph": [
              [],
              []
            ],
            "_sidebar": {
              "enabled": false,
              "start_with": null
            },
            "_view_count": null,
            "_view_module": "yfiles-jupyter-graphs",
            "_view_module_version": "^1.10.0",
            "_view_name": "GraphView",
            "layout": "IPY_MODEL_c340b8b38d3a497694689d72047a0505",
            "tabbable": null,
            "tooltip": null
          }
        },
        "c340b8b38d3a497694689d72047a0505": {
          "model_module": "@jupyter-widgets/base",
          "model_name": "LayoutModel",
          "model_module_version": "2.0.0",
          "state": {
            "_model_module": "@jupyter-widgets/base",
            "_model_module_version": "2.0.0",
            "_model_name": "LayoutModel",
            "_view_count": null,
            "_view_module": "@jupyter-widgets/base",
            "_view_module_version": "2.0.0",
            "_view_name": "LayoutView",
            "align_content": null,
            "align_items": null,
            "align_self": null,
            "border_bottom": null,
            "border_left": null,
            "border_right": null,
            "border_top": null,
            "bottom": null,
            "display": null,
            "flex": null,
            "flex_flow": null,
            "grid_area": null,
            "grid_auto_columns": null,
            "grid_auto_flow": null,
            "grid_auto_rows": null,
            "grid_column": null,
            "grid_gap": null,
            "grid_row": null,
            "grid_template_areas": null,
            "grid_template_columns": null,
            "grid_template_rows": null,
            "height": "500px",
            "justify_content": null,
            "justify_items": null,
            "left": null,
            "margin": null,
            "max_height": null,
            "max_width": null,
            "min_height": null,
            "min_width": null,
            "object_fit": null,
            "object_position": null,
            "order": null,
            "overflow": null,
            "padding": null,
            "right": null,
            "top": null,
            "visibility": null,
            "width": "100%"
          }
        },
        "a3f8a2e936b047edb2a589571987f8a2": {
          "model_module": "yfiles-jupyter-graphs",
          "model_name": "GraphModel",
          "model_module_version": "^1.10.0",
          "state": {
            "_context_pane_mapping": [
              {
                "id": "Neighborhood",
                "title": "Neighborhood"
              },
              {
                "id": "Data",
                "title": "Data"
              },
              {
                "id": "Search",
                "title": "Search"
              },
              {
                "id": "About",
                "title": "About"
              }
            ],
            "_data_importer": "networkx",
            "_directed": false,
            "_dom_classes": [],
            "_edges": [
              {
                "id": 0,
                "start": 0,
                "end": 3,
                "properties": {},
                "color": "#15AFAC",
                "thickness_factor": 1,
                "directed": false,
                "styles": {
                  "dashStyle": "dash",
                  "color": "purple",
                  "thickness": 4,
                  "directed": true
                },
                "label": ""
              },
              {
                "id": 1,
                "start": 0,
                "end": 4,
                "properties": {},
                "color": "#15AFAC",
                "thickness_factor": 1,
                "directed": false,
                "styles": {
                  "dashStyle": "dash",
                  "color": "purple",
                  "thickness": 4,
                  "directed": true
                },
                "label": ""
              },
              {
                "id": 2,
                "start": 1,
                "end": 4,
                "properties": {},
                "color": "#15AFAC",
                "thickness_factor": 1,
                "directed": false,
                "styles": {
                  "dashStyle": "dash",
                  "color": "purple",
                  "thickness": 4,
                  "directed": true
                },
                "label": ""
              },
              {
                "id": 3,
                "start": 2,
                "end": 5,
                "properties": {},
                "color": "#15AFAC",
                "thickness_factor": 1,
                "directed": false,
                "styles": {
                  "dashStyle": "dash",
                  "color": "purple",
                  "thickness": 4,
                  "directed": true
                },
                "label": ""
              },
              {
                "id": 4,
                "start": 2,
                "end": 6,
                "properties": {},
                "color": "#15AFAC",
                "thickness_factor": 1,
                "directed": false,
                "styles": {
                  "dashStyle": "dash",
                  "color": "purple",
                  "thickness": 4,
                  "directed": true
                },
                "label": ""
              },
              {
                "id": 5,
                "start": 2,
                "end": 7,
                "properties": {},
                "color": "#15AFAC",
                "thickness_factor": 1,
                "directed": false,
                "styles": {
                  "dashStyle": "dash",
                  "color": "purple",
                  "thickness": 4,
                  "directed": true
                },
                "label": ""
              },
              {
                "id": 6,
                "start": 3,
                "end": 8,
                "properties": {},
                "color": "#15AFAC",
                "thickness_factor": 1,
                "directed": false,
                "styles": {
                  "dashStyle": "dash",
                  "color": "purple",
                  "thickness": 4,
                  "directed": true
                },
                "label": ""
              },
              {
                "id": 7,
                "start": 3,
                "end": 9,
                "properties": {},
                "color": "#15AFAC",
                "thickness_factor": 1,
                "directed": false,
                "styles": {
                  "dashStyle": "dash",
                  "color": "purple",
                  "thickness": 4,
                  "directed": true
                },
                "label": ""
              },
              {
                "id": 8,
                "start": 4,
                "end": 6,
                "properties": {},
                "color": "#15AFAC",
                "thickness_factor": 1,
                "directed": false,
                "styles": {
                  "dashStyle": "dash",
                  "color": "purple",
                  "thickness": 4,
                  "directed": true
                },
                "label": ""
              },
              {
                "id": 9,
                "start": 5,
                "end": 6,
                "properties": {},
                "color": "#15AFAC",
                "thickness_factor": 1,
                "directed": false,
                "styles": {
                  "dashStyle": "dash",
                  "color": "purple",
                  "thickness": 4,
                  "directed": true
                },
                "label": ""
              }
            ],
            "_graph_layout": {},
            "_highlight": [],
            "_license": {},
            "_model_module": "yfiles-jupyter-graphs",
            "_model_module_version": "^1.10.0",
            "_model_name": "GraphModel",
            "_neighborhood": {},
            "_nodes": [
              {
                "id": 0,
                "properties": {
                  "label": "0"
                },
                "color": "#15AFAC",
                "styles": {},
                "label": "0",
                "scale_factor": 1,
                "type": "#15AFAC",
                "size": [
                  55,
                  55
                ],
                "position": [
                  0,
                  0
                ]
              },
              {
                "id": 1,
                "properties": {
                  "label": "1"
                },
                "color": "#15AFAC",
                "styles": {},
                "label": "1",
                "scale_factor": 1,
                "type": "#15AFAC",
                "size": [
                  55,
                  55
                ],
                "position": [
                  0,
                  0
                ]
              },
              {
                "id": 2,
                "properties": {
                  "label": "2"
                },
                "color": "#15AFAC",
                "styles": {},
                "label": "2",
                "scale_factor": 1,
                "type": "#15AFAC",
                "size": [
                  55,
                  55
                ],
                "position": [
                  0,
                  0
                ]
              },
              {
                "id": 3,
                "properties": {
                  "label": "3"
                },
                "color": "#15AFAC",
                "styles": {},
                "label": "3",
                "scale_factor": 1,
                "type": "#15AFAC",
                "size": [
                  55,
                  55
                ],
                "position": [
                  0,
                  0
                ]
              },
              {
                "id": 4,
                "properties": {
                  "label": "4"
                },
                "color": "#15AFAC",
                "styles": {},
                "label": "4",
                "scale_factor": 1,
                "type": "#15AFAC",
                "size": [
                  55,
                  55
                ],
                "position": [
                  0,
                  0
                ]
              },
              {
                "id": 5,
                "properties": {
                  "label": "5"
                },
                "color": "#15AFAC",
                "styles": {},
                "label": "5",
                "scale_factor": 1,
                "type": "#15AFAC",
                "size": [
                  55,
                  55
                ],
                "position": [
                  0,
                  0
                ]
              },
              {
                "id": 6,
                "properties": {
                  "label": "6"
                },
                "color": "#15AFAC",
                "styles": {},
                "label": "6",
                "scale_factor": 1,
                "type": "#15AFAC",
                "size": [
                  55,
                  55
                ],
                "position": [
                  0,
                  0
                ]
              },
              {
                "id": 7,
                "properties": {
                  "label": "7"
                },
                "color": "#15AFAC",
                "styles": {},
                "label": "7",
                "scale_factor": 1,
                "type": "#15AFAC",
                "size": [
                  55,
                  55
                ],
                "position": [
                  0,
                  0
                ]
              },
              {
                "id": 8,
                "properties": {
                  "label": "8"
                },
                "color": "#15AFAC",
                "styles": {},
                "label": "8",
                "scale_factor": 1,
                "type": "#15AFAC",
                "size": [
                  55,
                  55
                ],
                "position": [
                  0,
                  0
                ]
              },
              {
                "id": 9,
                "properties": {
                  "label": "9"
                },
                "color": "#15AFAC",
                "styles": {},
                "label": "9",
                "scale_factor": 1,
                "type": "#15AFAC",
                "size": [
                  55,
                  55
                ],
                "position": [
                  0,
                  0
                ]
              }
            ],
            "_overview": {
              "enabled": null,
              "overview_set": false
            },
            "_selected_graph": [
              [],
              []
            ],
            "_sidebar": {
              "enabled": false,
              "start_with": null
            },
            "_view_count": null,
            "_view_module": "yfiles-jupyter-graphs",
            "_view_module_version": "^1.10.0",
            "_view_name": "GraphView",
            "layout": "IPY_MODEL_1ff28609bb304204953ee7fcaf8d4304",
            "tabbable": null,
            "tooltip": null
          }
        },
        "1ff28609bb304204953ee7fcaf8d4304": {
          "model_module": "@jupyter-widgets/base",
          "model_name": "LayoutModel",
          "model_module_version": "2.0.0",
          "state": {
            "_model_module": "@jupyter-widgets/base",
            "_model_module_version": "2.0.0",
            "_model_name": "LayoutModel",
            "_view_count": null,
            "_view_module": "@jupyter-widgets/base",
            "_view_module_version": "2.0.0",
            "_view_name": "LayoutView",
            "align_content": null,
            "align_items": null,
            "align_self": null,
            "border_bottom": null,
            "border_left": null,
            "border_right": null,
            "border_top": null,
            "bottom": null,
            "display": null,
            "flex": null,
            "flex_flow": null,
            "grid_area": null,
            "grid_auto_columns": null,
            "grid_auto_flow": null,
            "grid_auto_rows": null,
            "grid_column": null,
            "grid_gap": null,
            "grid_row": null,
            "grid_template_areas": null,
            "grid_template_columns": null,
            "grid_template_rows": null,
            "height": "500px",
            "justify_content": null,
            "justify_items": null,
            "left": null,
            "margin": null,
            "max_height": null,
            "max_width": null,
            "min_height": null,
            "min_width": null,
            "object_fit": null,
            "object_position": null,
            "order": null,
            "overflow": null,
            "padding": null,
            "right": null,
            "top": null,
            "visibility": null,
            "width": "100%"
          }
        },
        "state": {}
      }
    }
  },
  "nbformat": 4,
  "nbformat_minor": 5
}