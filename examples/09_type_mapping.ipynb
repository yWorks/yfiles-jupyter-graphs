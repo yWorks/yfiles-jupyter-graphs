{
  "cells": [
    {
      "cell_type": "markdown",
      "id": "7e7c5cf8-4f63-470e-a5c9-420270530286",
      "metadata": {
        "id": "7e7c5cf8-4f63-470e-a5c9-420270530286"
      },
      "source": [
        "# Node Type Mapping <a target=\"_blank\" href=\"https://colab.research.google.com/github/yWorks/yfiles-jupyter-graphs/blob/main/examples/09_type_mapping.ipynb\"><img src=\"https://colab.research.google.com/assets/colab-badge.svg\" alt=\"Open In Colab\"/></a>"
      ]
    },
    {
      "cell_type": "markdown",
      "id": "e6777b35-da2a-443c-b579-75278d94ba72",
      "metadata": {
        "id": "e6777b35-da2a-443c-b579-75278d94ba72"
      },
      "source": [
        "This notebook covers the basics of customizing node types. Node types are considered by the automatic layout algorithms to arrange similar types together.\n",
        "\n",
        "Edges do not have a type mapping.\n",
        "\n",
        "Before using the graph widget, install all necessary packages."
      ]
    },
    {
      "cell_type": "code",
      "execution_count": 1,
      "id": "bf28ad28-0b03-4020-9510-b01fcc554a97",
      "metadata": {
        "id": "bf28ad28-0b03-4020-9510-b01fcc554a97"
      },
      "outputs": [],
      "source": [
        "%pip install yfiles_jupyter_graphs --quiet\n",
        "from typing import Dict\n",
        "from yfiles_jupyter_graphs import GraphWidget\n",
        "\n",
        "w=GraphWidget()"
      ]
    },
    {
      "cell_type": "markdown",
      "id": "97362274-1e46-4b96-ab69-4f40bf0c3fd9",
      "metadata": {
        "id": "97362274-1e46-4b96-ab69-4f40bf0c3fd9"
      },
      "source": [
        "You can also open this notebook in Google Colab when Google Colab's custom widget manager is enabled:"
      ]
    },
    {
      "cell_type": "code",
      "execution_count": 2,
      "id": "cc77c3ba-a83e-4dd6-9dcf-e6c901a5965e",
      "metadata": {
        "id": "cc77c3ba-a83e-4dd6-9dcf-e6c901a5965e"
      },
      "outputs": [],
      "source": [
        "try:\n",
        "  import google.colab\n",
        "  from google.colab import output\n",
        "  output.enable_custom_widget_manager()\n",
        "except:\n",
        "  pass"
      ]
    },
    {
      "cell_type": "markdown",
      "id": "869e0212-3330-45b8-bee9-6c802e580ee0",
      "metadata": {
        "id": "869e0212-3330-45b8-bee9-6c802e580ee0"
      },
      "source": [
        "<a target=\"_blank\" href=\"https://colab.research.google.com/github/yWorks/yfiles-jupyter-graphs/blob/main/examples/09_type_mapping.ipynb\"><img src=\"https://colab.research.google.com/assets/colab-badge.svg\" alt=\"Open In Colab\"/></a>"
      ]
    },
    {
      "cell_type": "code",
      "execution_count": 3,
      "id": "f3b74f7b-8b05-4bad-95db-6ead02b4d552",
      "metadata": {
        "id": "f3b74f7b-8b05-4bad-95db-6ead02b4d552"
      },
      "outputs": [],
      "source": [
        "w.nodes = [\n",
        "    {'id': 0, 'properties': {'type': 0}},\n",
        "    {'id': 1, 'properties': {'type': 1}}, {'id': 2, 'properties': {'type': 1}}, {'id': 3, 'properties': {'type': 1}}, {'id': 4, 'properties': {'type': 1}}, {'id': 5, 'properties': {'type': 1}}, {'id': 6, 'properties': {'type': 1}},\n",
        "    {'id': 7, 'properties': {'type': 2}}, {'id': 8, 'properties': {'type': 2}}, {'id': 9, 'properties': {'type': 2}}, {'id': 10, 'properties': {'type': 2}}, {'id': 11, 'properties': {'type': 2}}, {'id': 12, 'properties': {'type': 2}},\n",
        "    {'id': 13, 'properties': {'type': 3}}, {'id': 14, 'properties': {'type': 3}}, {'id': 15, 'properties': {'type': 3}}, {'id': 16, 'properties': {'type': 3}}, {'id': 17, 'properties': {'type': 3}}, {'id': 18, 'properties': {'type': 3}},\n",
        "    {'id': 19, 'properties': {'type': 4}}\n",
        "]\n",
        "w.edges = [\n",
        "    {'id': 0, 'start': 0, 'end': 1, 'properties': {}}, {'id': 1, 'start': 0, 'end': 2, 'properties': {}}, {'id': 2, 'start': 0, 'end': 3, 'properties': {}},\n",
        "    {'id': 3, 'start': 0, 'end': 4, 'properties': {}}, {'id': 4, 'start': 0, 'end': 5, 'properties': {}}, {'id': 5, 'start': 0, 'end': 6, 'properties': {}},\n",
        "    {'id': 6, 'start': 0, 'end': 7, 'properties': {}}, {'id': 7, 'start': 0, 'end': 8, 'properties': {}}, {'id': 8, 'start': 0, 'end': 9, 'properties': {}},\n",
        "    {'id': 9, 'start': 0, 'end': 10, 'properties': {}}, {'id': 10, 'start': 0, 'end': 11, 'properties': {}}, {'id': 11, 'start': 0, 'end': 12, 'properties': {}},\n",
        "    {'id': 12, 'start': 0, 'end': 13, 'properties': {}}, {'id': 13, 'start': 0, 'end': 14, 'properties': {}}, {'id': 14, 'start': 0, 'end': 15, 'properties': {}},\n",
        "    {'id': 15, 'start': 0, 'end': 16, 'properties': {}}, {'id': 16, 'start': 0, 'end': 17, 'properties': {}}, {'id': 17, 'start': 0, 'end': 18, 'properties': {}},\n",
        "    {'id': 18, 'start': 1, 'end': 19, 'properties': {}}, {'id': 19, 'start': 2, 'end': 19, 'properties': {}}, {'id': 20, 'start': 3, 'end': 19, 'properties': {}},\n",
        "    {'id': 21, 'start': 4, 'end': 19, 'properties': {}}, {'id': 22, 'start': 5, 'end': 19, 'properties': {}}, {'id': 23, 'start': 6, 'end': 19, 'properties': {}},\n",
        "    {'id': 24, 'start': 7, 'end': 19, 'properties': {}}, {'id': 25, 'start': 8, 'end': 19, 'properties': {}}, {'id': 26, 'start': 9, 'end': 19, 'properties': {}},\n",
        "    {'id': 27, 'start': 10, 'end': 19, 'properties': {}}, {'id': 28, 'start': 11, 'end': 19, 'properties': {}}, {'id': 29, 'start': 12, 'end': 19, 'properties': {}},\n",
        "    {'id': 30, 'start': 13, 'end': 19, 'properties': {}}, {'id': 31, 'start': 14, 'end': 19, 'properties': {}}, {'id': 32, 'start': 15, 'end': 19, 'properties': {}},\n",
        "    {'id': 33, 'start': 16, 'end': 19, 'properties': {}}, {'id': 34, 'start': 17, 'end': 19, 'properties': {}}, {'id': 35, 'start': 18, 'end': 19, 'properties': {}}\n",
        "]\n",
        "w.directed = True"
      ]
    },
    {
      "cell_type": "markdown",
      "id": "18e38511-c624-48ef-b386-964fed8e669b",
      "metadata": {
        "id": "18e38511-c624-48ef-b386-964fed8e669b"
      },
      "source": [
        "We will work with this graph:"
      ]
    },
    {
      "cell_type": "code",
      "execution_count": 4,
      "id": "a5f66fea-8935-40a5-88dc-6587636ff87e",
      "metadata": {
        "id": "a5f66fea-8935-40a5-88dc-6587636ff87e",
        "outputId": "312f3030-bd10-47ba-fd87-ecc0db374030",
        "colab": {
          "base_uri": "https://localhost:8080/",
          "height": 717,
          "referenced_widgets": [
            "d2e8ec9345bf4a89873812c53b8a0daa",
            "71ea6d5cb33e4b8890b6220a76667783",
            "88716a0dd5a64a599202eb3b6ff1783e",
            "5445a9c311014a19b606efccdb4809ff"
          ]
        }
      },
      "outputs": [
        {
          "output_type": "display_data",
          "data": {
            "text/plain": [
              "GraphWidget(layout=Layout(height='700px', width='100%'))"
            ],
            "application/vnd.jupyter.widget-view+json": {
              "version_major": 2,
              "version_minor": 0,
              "model_id": "d2e8ec9345bf4a89873812c53b8a0daa"
            }
          },
          "metadata": {
            "application/vnd.jupyter.widget-view+json": {
              "colab": {
                "custom_widget_manager": {
                  "url": "https://ssl.gstatic.com/colaboratory-static/widgets/colab-cdn-widget-manager/2b70e893a8ba7c0f/manager.min.js"
                }
              }
            }
          }
        }
      ],
      "source": [
        "display(w)"
      ]
    },
    {
      "cell_type": "markdown",
      "id": "7b9e0269-aa70-4d8c-9cc8-8dfabce121a0",
      "metadata": {
        "id": "7b9e0269-aa70-4d8c-9cc8-8dfabce121a0"
      },
      "source": [
        "## Mapping function\n",
        "\n",
        "The node type mapping is a function that is supposed to return a value for each given node object that is considered as its `type`.\n",
        "\n",
        "Optionally, the index can be used as the first function parameter.\n",
        "\n",
        "Let's assign the type as specified in properties:"
      ]
    },
    {
      "cell_type": "code",
      "execution_count": 5,
      "id": "6148c0ba-405b-4325-b0e4-290ea852e56a",
      "metadata": {
        "id": "6148c0ba-405b-4325-b0e4-290ea852e56a"
      },
      "outputs": [],
      "source": [
        "def custom_node_type_mapping(node: Dict):\n",
        "    \"\"\"assign type accordingly\"\"\"\n",
        "    return node['properties']['type']"
      ]
    },
    {
      "cell_type": "markdown",
      "id": "7b9fe48c-e1d8-4b6c-bd2f-ac1283a34d55",
      "metadata": {
        "id": "7b9fe48c-e1d8-4b6c-bd2f-ac1283a34d55"
      },
      "source": [
        "### Custom node mappings\n",
        "\n",
        "There are get and set methods for each customizable node property.\n",
        "- you can set a new node mapping with ```w.set_node_[binding]_mapping```\n",
        "- you can get the current node mapping with ```w.get_node_[binding]_mapping```\n",
        "- you can delete a custom node mapping with ```w.del_node_[binding]_mapping```\n",
        "\n",
        "You can find more details in the dedicated function documentation, available at ```w.[function_name].__doc__``` or in the [documentation](https://yworks.github.io/yfiles-jupyter-graphs/02_graph_widget/#methods).\n",
        "\n",
        "If no custom mapping is set the default mappings are used."
      ]
    },
    {
      "cell_type": "code",
      "execution_count": 6,
      "id": "fd420dad-31a1-4b1d-bd98-28861d859698",
      "metadata": {
        "id": "fd420dad-31a1-4b1d-bd98-28861d859698",
        "outputId": "dab3e540-63fb-493d-f654-ff258730e677",
        "colab": {
          "base_uri": "https://localhost:8080/"
        }
      },
      "outputs": [
        {
          "output_type": "stream",
          "name": "stdout",
          "text": [
            "The default type mapping for nodes.\n",
            "\n",
            "        Provides the mapped node color to distinguish different node types\n",
            "\n",
            "        Parameters\n",
            "        ----------\n",
            "        index: int (optional)\n",
            "        node: typing.Dict\n",
            "\n",
            "        Notes\n",
            "        -----\n",
            "        This is the default value for the `node_type_mapping` property.\n",
            "        Can be 'overwritten' by setting the property\n",
            "        with a function of the same signature.\n",
            "\n",
            "        If the given mapping function has only one parameter (that is not typed as int),\n",
            "        then it will be called with the element (typing.Dict) as first parameter.\n",
            "\n",
            "        Example\n",
            "        -------\n",
            "        .. code::\n",
            "\n",
            "           from yfiles_jupyter_graphs import GraphWidget\n",
            "           w = GraphWidget()\n",
            "           def custom_node_type_mapping(node: typing.Dict):\n",
            "           ...\n",
            "           w.set_node_type_mapping(custom_node_type_mapping)\n",
            "\n",
            "        Returns\n",
            "        -------\n",
            "        type: None\n",
            "\n",
            "        \n"
          ]
        }
      ],
      "source": [
        "print(w.node_type_mapping.__doc__)"
      ]
    },
    {
      "cell_type": "code",
      "execution_count": 7,
      "id": "7b6a071d-b8fa-4ac4-a29f-2ee914cdc5e1",
      "metadata": {
        "id": "7b6a071d-b8fa-4ac4-a29f-2ee914cdc5e1",
        "outputId": "12b28263-a525-4427-fdb0-0c4ce1de357e",
        "colab": {
          "base_uri": "https://localhost:8080/",
          "height": 186
        }
      },
      "outputs": [
        {
          "output_type": "execute_result",
          "data": {
            "text/plain": [
              "<function yfiles_jupyter_graphs.widget.GraphWidget.default_node_type_mapping(index: int, node: Dict)>"
            ],
            "text/html": [
              "<div style=\"max-width:800px; border: 1px solid var(--colab-border-color);\"><style>\n",
              "      pre.function-repr-contents {\n",
              "        overflow-x: auto;\n",
              "        padding: 8px 12px;\n",
              "        max-height: 500px;\n",
              "      }\n",
              "\n",
              "      pre.function-repr-contents.function-repr-contents-collapsed {\n",
              "        cursor: pointer;\n",
              "        max-height: 100px;\n",
              "      }\n",
              "    </style>\n",
              "    <pre style=\"white-space: initial; background:\n",
              "         var(--colab-secondary-surface-color); padding: 8px 12px;\n",
              "         border-bottom: 1px solid var(--colab-border-color);\"><b>yfiles_jupyter_graphs.widget.GraphWidget.default_node_type_mapping</b><br/>def default_node_type_mapping(index: int, node: TDict)</pre><pre class=\"function-repr-contents function-repr-contents-collapsed\" style=\"\"><a class=\"filepath\" style=\"display:none\" href=\"#\">/usr/local/lib/python3.10/dist-packages/yfiles_jupyter_graphs/widget.py</a>The default type mapping for nodes.\n",
              "\n",
              "Provides the mapped node color to distinguish different node types\n",
              "\n",
              "Parameters\n",
              "----------\n",
              "index: int (optional)\n",
              "node: typing.Dict\n",
              "\n",
              "Notes\n",
              "-----\n",
              "This is the default value for the `node_type_mapping` property.\n",
              "Can be &#x27;overwritten&#x27; by setting the property\n",
              "with a function of the same signature.\n",
              "\n",
              "If the given mapping function has only one parameter (that is not typed as int),\n",
              "then it will be called with the element (typing.Dict) as first parameter.\n",
              "\n",
              "Example\n",
              "-------\n",
              ".. code::\n",
              "\n",
              "   from yfiles_jupyter_graphs import GraphWidget\n",
              "   w = GraphWidget()\n",
              "   def custom_node_type_mapping(node: typing.Dict):\n",
              "   ...\n",
              "   w.set_node_type_mapping(custom_node_type_mapping)\n",
              "\n",
              "Returns\n",
              "-------\n",
              "type: None</pre>\n",
              "      <script>\n",
              "      if (google.colab.kernel.accessAllowed && google.colab.files && google.colab.files.view) {\n",
              "        for (const element of document.querySelectorAll('.filepath')) {\n",
              "          element.style.display = 'block'\n",
              "          element.onclick = (event) => {\n",
              "            event.preventDefault();\n",
              "            event.stopPropagation();\n",
              "            google.colab.files.view(element.textContent, 1829);\n",
              "          };\n",
              "        }\n",
              "      }\n",
              "      for (const element of document.querySelectorAll('.function-repr-contents')) {\n",
              "        element.onclick = (event) => {\n",
              "          event.preventDefault();\n",
              "          event.stopPropagation();\n",
              "          element.classList.toggle('function-repr-contents-collapsed');\n",
              "        };\n",
              "      }\n",
              "      </script>\n",
              "      </div>"
            ]
          },
          "metadata": {},
          "execution_count": 7
        }
      ],
      "source": [
        "w.get_node_type_mapping()"
      ]
    },
    {
      "cell_type": "markdown",
      "id": "a3c026cb-f807-4f48-b5b1-e3f53381bab4",
      "metadata": {
        "id": "a3c026cb-f807-4f48-b5b1-e3f53381bab4"
      },
      "source": [
        "Let's set the new type mapping:"
      ]
    },
    {
      "cell_type": "code",
      "execution_count": 8,
      "id": "99dcc6fb-0296-4256-bee8-69f918617028",
      "metadata": {
        "id": "99dcc6fb-0296-4256-bee8-69f918617028",
        "outputId": "80a56bb5-6053-4c61-82c5-ec3de0c9c73a",
        "colab": {
          "base_uri": "https://localhost:8080/",
          "height": 104
        }
      },
      "outputs": [
        {
          "output_type": "execute_result",
          "data": {
            "text/plain": [
              "<function __main__.custom_node_type_mapping(node: Dict)>"
            ],
            "text/html": [
              "<div style=\"max-width:800px; border: 1px solid var(--colab-border-color);\"><style>\n",
              "      pre.function-repr-contents {\n",
              "        overflow-x: auto;\n",
              "        padding: 8px 12px;\n",
              "        max-height: 500px;\n",
              "      }\n",
              "\n",
              "      pre.function-repr-contents.function-repr-contents-collapsed {\n",
              "        cursor: pointer;\n",
              "        max-height: 100px;\n",
              "      }\n",
              "    </style>\n",
              "    <pre style=\"white-space: initial; background:\n",
              "         var(--colab-secondary-surface-color); padding: 8px 12px;\n",
              "         border-bottom: 1px solid var(--colab-border-color);\"><b>custom_node_type_mapping</b><br/>def custom_node_type_mapping(node: Dict)</pre><pre class=\"function-repr-contents function-repr-contents-collapsed\" style=\"\"><a class=\"filepath\" style=\"display:none\" href=\"#\">/content/&lt;ipython-input-5-432d3c248463&gt;</a>assign type accordingly</pre></div>"
            ]
          },
          "metadata": {},
          "execution_count": 8
        }
      ],
      "source": [
        "w.set_node_type_mapping(custom_node_type_mapping)\n",
        "w.get_node_type_mapping()"
      ]
    },
    {
      "cell_type": "code",
      "execution_count": 9,
      "id": "7b0dd16a-bf95-40ba-8d66-d00667e27f2d",
      "metadata": {
        "id": "7b0dd16a-bf95-40ba-8d66-d00667e27f2d",
        "outputId": "04ecaee4-c666-4133-a43b-071035416a7d",
        "colab": {
          "base_uri": "https://localhost:8080/",
          "height": 717,
          "referenced_widgets": [
            "d2e8ec9345bf4a89873812c53b8a0daa",
            "88716a0dd5a64a599202eb3b6ff1783e",
            "5445a9c311014a19b606efccdb4809ff"
          ]
        }
      },
      "outputs": [
        {
          "output_type": "display_data",
          "data": {
            "text/plain": [
              "GraphWidget(layout=Layout(height='700px', width='100%'))"
            ],
            "application/vnd.jupyter.widget-view+json": {
              "version_major": 2,
              "version_minor": 0,
              "model_id": "d2e8ec9345bf4a89873812c53b8a0daa"
            }
          },
          "metadata": {
            "application/vnd.jupyter.widget-view+json": {
              "colab": {
                "custom_widget_manager": {
                  "url": "https://ssl.gstatic.com/colaboratory-static/widgets/colab-cdn-widget-manager/2b70e893a8ba7c0f/manager.min.js"
                }
              }
            }
          }
        }
      ],
      "source": [
        "display(w)"
      ]
    },
    {
      "cell_type": "markdown",
      "id": "b22ae496-c6b6-473b-ac64-be2578006021",
      "metadata": {
        "id": "b22ae496-c6b6-473b-ac64-be2578006021"
      },
      "source": [
        "To enhance the optical seperation of types we can assign each type a different color. \\\n",
        "Check out [03_color_mapping.ipynb](./03_color_mapping.ipynb), to get more information on the node color mapping."
      ]
    },
    {
      "cell_type": "code",
      "execution_count": 10,
      "id": "110fcecc-2cd7-4ffd-aa58-7569ae1de44a",
      "metadata": {
        "id": "110fcecc-2cd7-4ffd-aa58-7569ae1de44a",
        "outputId": "51e51da1-0294-45ab-d143-537e10ac4e8d",
        "colab": {
          "base_uri": "https://localhost:8080/",
          "height": 104
        }
      },
      "outputs": [
        {
          "output_type": "execute_result",
          "data": {
            "text/plain": [
              "<function __main__.custom_node_type_mapping(node: Dict)>"
            ],
            "text/html": [
              "<div style=\"max-width:800px; border: 1px solid var(--colab-border-color);\"><style>\n",
              "      pre.function-repr-contents {\n",
              "        overflow-x: auto;\n",
              "        padding: 8px 12px;\n",
              "        max-height: 500px;\n",
              "      }\n",
              "\n",
              "      pre.function-repr-contents.function-repr-contents-collapsed {\n",
              "        cursor: pointer;\n",
              "        max-height: 100px;\n",
              "      }\n",
              "    </style>\n",
              "    <pre style=\"white-space: initial; background:\n",
              "         var(--colab-secondary-surface-color); padding: 8px 12px;\n",
              "         border-bottom: 1px solid var(--colab-border-color);\"><b>custom_node_type_mapping</b><br/>def custom_node_type_mapping(node: Dict)</pre><pre class=\"function-repr-contents function-repr-contents-collapsed\" style=\"\"><a class=\"filepath\" style=\"display:none\" href=\"#\">/content/&lt;ipython-input-5-432d3c248463&gt;</a>assign type accordingly</pre></div>"
            ]
          },
          "metadata": {},
          "execution_count": 10
        }
      ],
      "source": [
        "colors = [\"#17bebb\", \"#ffc914\", \"#0b7189\", \"#ff6c00\", '#76b041']\n",
        "\n",
        "def custom_node_color_mapping(node: Dict):\n",
        "    \"\"\"assign colors based on type\"\"\"\n",
        "    return colors[node['properties']['type']]\n",
        "\n",
        "w.set_node_color_mapping(custom_node_color_mapping)\n",
        "w.get_node_type_mapping()"
      ]
    },
    {
      "cell_type": "code",
      "execution_count": 11,
      "id": "077f46ef-64ac-4582-95e2-da18252a14db",
      "metadata": {
        "id": "077f46ef-64ac-4582-95e2-da18252a14db",
        "outputId": "19f1544c-ccbd-45b0-a47d-5998261ee5ce",
        "colab": {
          "base_uri": "https://localhost:8080/",
          "height": 717,
          "referenced_widgets": [
            "d2e8ec9345bf4a89873812c53b8a0daa",
            "5445a9c311014a19b606efccdb4809ff"
          ]
        }
      },
      "outputs": [
        {
          "output_type": "display_data",
          "data": {
            "text/plain": [
              "GraphWidget(layout=Layout(height='700px', width='100%'))"
            ],
            "application/vnd.jupyter.widget-view+json": {
              "version_major": 2,
              "version_minor": 0,
              "model_id": "d2e8ec9345bf4a89873812c53b8a0daa"
            }
          },
          "metadata": {
            "application/vnd.jupyter.widget-view+json": {
              "colab": {
                "custom_widget_manager": {
                  "url": "https://ssl.gstatic.com/colaboratory-static/widgets/colab-cdn-widget-manager/2b70e893a8ba7c0f/manager.min.js"
                }
              }
            }
          }
        }
      ],
      "source": [
        "display(w)"
      ]
    },
    {
      "cell_type": "markdown",
      "id": "9421f3dc-61ff-4144-b53e-4bdc1a90c6e0",
      "metadata": {
        "id": "9421f3dc-61ff-4144-b53e-4bdc1a90c6e0"
      },
      "source": [
        "If a node type mapping is deleted, the layout mapping reverts back to the default mapping."
      ]
    },
    {
      "cell_type": "code",
      "execution_count": 12,
      "id": "07caa339-a63f-467c-8d8c-7b422948a632",
      "metadata": {
        "id": "07caa339-a63f-467c-8d8c-7b422948a632",
        "outputId": "0cb54d32-22ce-4011-efa3-be09ddc1a3de",
        "colab": {
          "base_uri": "https://localhost:8080/",
          "height": 186
        }
      },
      "outputs": [
        {
          "output_type": "execute_result",
          "data": {
            "text/plain": [
              "<function yfiles_jupyter_graphs.widget.GraphWidget.default_node_type_mapping(index: int, node: Dict)>"
            ],
            "text/html": [
              "<div style=\"max-width:800px; border: 1px solid var(--colab-border-color);\"><style>\n",
              "      pre.function-repr-contents {\n",
              "        overflow-x: auto;\n",
              "        padding: 8px 12px;\n",
              "        max-height: 500px;\n",
              "      }\n",
              "\n",
              "      pre.function-repr-contents.function-repr-contents-collapsed {\n",
              "        cursor: pointer;\n",
              "        max-height: 100px;\n",
              "      }\n",
              "    </style>\n",
              "    <pre style=\"white-space: initial; background:\n",
              "         var(--colab-secondary-surface-color); padding: 8px 12px;\n",
              "         border-bottom: 1px solid var(--colab-border-color);\"><b>yfiles_jupyter_graphs.widget.GraphWidget.default_node_type_mapping</b><br/>def default_node_type_mapping(index: int, node: TDict)</pre><pre class=\"function-repr-contents function-repr-contents-collapsed\" style=\"\"><a class=\"filepath\" style=\"display:none\" href=\"#\">/usr/local/lib/python3.10/dist-packages/yfiles_jupyter_graphs/widget.py</a>The default type mapping for nodes.\n",
              "\n",
              "Provides the mapped node color to distinguish different node types\n",
              "\n",
              "Parameters\n",
              "----------\n",
              "index: int (optional)\n",
              "node: typing.Dict\n",
              "\n",
              "Notes\n",
              "-----\n",
              "This is the default value for the `node_type_mapping` property.\n",
              "Can be &#x27;overwritten&#x27; by setting the property\n",
              "with a function of the same signature.\n",
              "\n",
              "If the given mapping function has only one parameter (that is not typed as int),\n",
              "then it will be called with the element (typing.Dict) as first parameter.\n",
              "\n",
              "Example\n",
              "-------\n",
              ".. code::\n",
              "\n",
              "   from yfiles_jupyter_graphs import GraphWidget\n",
              "   w = GraphWidget()\n",
              "   def custom_node_type_mapping(node: typing.Dict):\n",
              "   ...\n",
              "   w.set_node_type_mapping(custom_node_type_mapping)\n",
              "\n",
              "Returns\n",
              "-------\n",
              "type: None</pre>\n",
              "      <script>\n",
              "      if (google.colab.kernel.accessAllowed && google.colab.files && google.colab.files.view) {\n",
              "        for (const element of document.querySelectorAll('.filepath')) {\n",
              "          element.style.display = 'block'\n",
              "          element.onclick = (event) => {\n",
              "            event.preventDefault();\n",
              "            event.stopPropagation();\n",
              "            google.colab.files.view(element.textContent, 1829);\n",
              "          };\n",
              "        }\n",
              "      }\n",
              "      for (const element of document.querySelectorAll('.function-repr-contents')) {\n",
              "        element.onclick = (event) => {\n",
              "          event.preventDefault();\n",
              "          event.stopPropagation();\n",
              "          element.classList.toggle('function-repr-contents-collapsed');\n",
              "        };\n",
              "      }\n",
              "      </script>\n",
              "      </div>"
            ]
          },
          "metadata": {},
          "execution_count": 12
        }
      ],
      "source": [
        "w.del_node_type_mapping()\n",
        "w.get_node_type_mapping()"
      ]
    }
  ],
  "metadata": {
    "kernelspec": {
      "display_name": "Python 3 (ipykernel)",
      "language": "python",
      "name": "python3"
    },
    "language_info": {
      "codemirror_mode": {
        "name": "ipython",
        "version": 3
      },
      "file_extension": ".py",
      "mimetype": "text/x-python",
      "name": "python",
      "nbconvert_exporter": "python",
      "pygments_lexer": "ipython3",
      "version": "3.11.3"
    },
    "colab": {
      "provenance": []
    },
    "widgets": {
      "application/vnd.jupyter.widget-state+json": {
        "d2e8ec9345bf4a89873812c53b8a0daa": {
          "model_module": "yfiles-jupyter-graphs",
          "model_name": "GraphModel",
          "model_module_version": "^1.8.1",
          "state": {
            "_context_pane_mapping": [
              {
                "id": "Neighborhood",
                "title": "Neighborhood"
              },
              {
                "id": "Data",
                "title": "Data"
              },
              {
                "id": "Search",
                "title": "Search"
              },
              {
                "id": "About",
                "title": "About"
              }
            ],
            "_data_importer": "unknown",
            "_directed": true,
            "_dom_classes": [],
            "_edges": [
              {
                "id": 0,
                "start": 0,
                "end": 1,
                "properties": {},
                "label": "",
                "color": "#15AFAC",
                "thickness_factor": 1,
                "directed": true
              },
              {
                "id": 1,
                "start": 0,
                "end": 2,
                "properties": {},
                "label": "",
                "color": "#15AFAC",
                "thickness_factor": 1,
                "directed": true
              },
              {
                "id": 2,
                "start": 0,
                "end": 3,
                "properties": {},
                "label": "",
                "color": "#15AFAC",
                "thickness_factor": 1,
                "directed": true
              },
              {
                "id": 3,
                "start": 0,
                "end": 4,
                "properties": {},
                "label": "",
                "color": "#15AFAC",
                "thickness_factor": 1,
                "directed": true
              },
              {
                "id": 4,
                "start": 0,
                "end": 5,
                "properties": {},
                "label": "",
                "color": "#15AFAC",
                "thickness_factor": 1,
                "directed": true
              },
              {
                "id": 5,
                "start": 0,
                "end": 6,
                "properties": {},
                "label": "",
                "color": "#15AFAC",
                "thickness_factor": 1,
                "directed": true
              },
              {
                "id": 6,
                "start": 0,
                "end": 7,
                "properties": {},
                "label": "",
                "color": "#15AFAC",
                "thickness_factor": 1,
                "directed": true
              },
              {
                "id": 7,
                "start": 0,
                "end": 8,
                "properties": {},
                "label": "",
                "color": "#15AFAC",
                "thickness_factor": 1,
                "directed": true
              },
              {
                "id": 8,
                "start": 0,
                "end": 9,
                "properties": {},
                "label": "",
                "color": "#15AFAC",
                "thickness_factor": 1,
                "directed": true
              },
              {
                "id": 9,
                "start": 0,
                "end": 10,
                "properties": {},
                "label": "",
                "color": "#15AFAC",
                "thickness_factor": 1,
                "directed": true
              },
              {
                "id": 10,
                "start": 0,
                "end": 11,
                "properties": {},
                "label": "",
                "color": "#15AFAC",
                "thickness_factor": 1,
                "directed": true
              },
              {
                "id": 11,
                "start": 0,
                "end": 12,
                "properties": {},
                "label": "",
                "color": "#15AFAC",
                "thickness_factor": 1,
                "directed": true
              },
              {
                "id": 12,
                "start": 0,
                "end": 13,
                "properties": {},
                "label": "",
                "color": "#15AFAC",
                "thickness_factor": 1,
                "directed": true
              },
              {
                "id": 13,
                "start": 0,
                "end": 14,
                "properties": {},
                "label": "",
                "color": "#15AFAC",
                "thickness_factor": 1,
                "directed": true
              },
              {
                "id": 14,
                "start": 0,
                "end": 15,
                "properties": {},
                "label": "",
                "color": "#15AFAC",
                "thickness_factor": 1,
                "directed": true
              },
              {
                "id": 15,
                "start": 0,
                "end": 16,
                "properties": {},
                "label": "",
                "color": "#15AFAC",
                "thickness_factor": 1,
                "directed": true
              },
              {
                "id": 16,
                "start": 0,
                "end": 17,
                "properties": {},
                "label": "",
                "color": "#15AFAC",
                "thickness_factor": 1,
                "directed": true
              },
              {
                "id": 17,
                "start": 0,
                "end": 18,
                "properties": {},
                "label": "",
                "color": "#15AFAC",
                "thickness_factor": 1,
                "directed": true
              },
              {
                "id": 18,
                "start": 1,
                "end": 19,
                "properties": {},
                "label": "",
                "color": "#15AFAC",
                "thickness_factor": 1,
                "directed": true
              },
              {
                "id": 19,
                "start": 2,
                "end": 19,
                "properties": {},
                "label": "",
                "color": "#15AFAC",
                "thickness_factor": 1,
                "directed": true
              },
              {
                "id": 20,
                "start": 3,
                "end": 19,
                "properties": {},
                "label": "",
                "color": "#15AFAC",
                "thickness_factor": 1,
                "directed": true
              },
              {
                "id": 21,
                "start": 4,
                "end": 19,
                "properties": {},
                "label": "",
                "color": "#15AFAC",
                "thickness_factor": 1,
                "directed": true
              },
              {
                "id": 22,
                "start": 5,
                "end": 19,
                "properties": {},
                "label": "",
                "color": "#15AFAC",
                "thickness_factor": 1,
                "directed": true
              },
              {
                "id": 23,
                "start": 6,
                "end": 19,
                "properties": {},
                "label": "",
                "color": "#15AFAC",
                "thickness_factor": 1,
                "directed": true
              },
              {
                "id": 24,
                "start": 7,
                "end": 19,
                "properties": {},
                "label": "",
                "color": "#15AFAC",
                "thickness_factor": 1,
                "directed": true
              },
              {
                "id": 25,
                "start": 8,
                "end": 19,
                "properties": {},
                "label": "",
                "color": "#15AFAC",
                "thickness_factor": 1,
                "directed": true
              },
              {
                "id": 26,
                "start": 9,
                "end": 19,
                "properties": {},
                "label": "",
                "color": "#15AFAC",
                "thickness_factor": 1,
                "directed": true
              },
              {
                "id": 27,
                "start": 10,
                "end": 19,
                "properties": {},
                "label": "",
                "color": "#15AFAC",
                "thickness_factor": 1,
                "directed": true
              },
              {
                "id": 28,
                "start": 11,
                "end": 19,
                "properties": {},
                "label": "",
                "color": "#15AFAC",
                "thickness_factor": 1,
                "directed": true
              },
              {
                "id": 29,
                "start": 12,
                "end": 19,
                "properties": {},
                "label": "",
                "color": "#15AFAC",
                "thickness_factor": 1,
                "directed": true
              },
              {
                "id": 30,
                "start": 13,
                "end": 19,
                "properties": {},
                "label": "",
                "color": "#15AFAC",
                "thickness_factor": 1,
                "directed": true
              },
              {
                "id": 31,
                "start": 14,
                "end": 19,
                "properties": {},
                "label": "",
                "color": "#15AFAC",
                "thickness_factor": 1,
                "directed": true
              },
              {
                "id": 32,
                "start": 15,
                "end": 19,
                "properties": {},
                "label": "",
                "color": "#15AFAC",
                "thickness_factor": 1,
                "directed": true
              },
              {
                "id": 33,
                "start": 16,
                "end": 19,
                "properties": {},
                "label": "",
                "color": "#15AFAC",
                "thickness_factor": 1,
                "directed": true
              },
              {
                "id": 34,
                "start": 17,
                "end": 19,
                "properties": {},
                "label": "",
                "color": "#15AFAC",
                "thickness_factor": 1,
                "directed": true
              },
              {
                "id": 35,
                "start": 18,
                "end": 19,
                "properties": {},
                "label": "",
                "color": "#15AFAC",
                "thickness_factor": 1,
                "directed": true
              }
            ],
            "_graph_layout": {},
            "_highlight": [],
            "_license": {},
            "_model_module": "yfiles-jupyter-graphs",
            "_model_module_version": "^1.8.1",
            "_model_name": "GraphModel",
            "_neighborhood": {},
            "_nodes": [
              {
                "id": 0,
                "properties": {
                  "type": 0
                },
                "color": "#17bebb",
                "styles": {},
                "label": "",
                "scale_factor": 1,
                "type": 0,
                "size": [
                  55,
                  55
                ],
                "position": [
                  0,
                  0
                ]
              },
              {
                "id": 1,
                "properties": {
                  "type": 1
                },
                "color": "#ffc914",
                "styles": {},
                "label": "",
                "scale_factor": 1,
                "type": 1,
                "size": [
                  55,
                  55
                ],
                "position": [
                  0,
                  0
                ]
              },
              {
                "id": 2,
                "properties": {
                  "type": 1
                },
                "color": "#ffc914",
                "styles": {},
                "label": "",
                "scale_factor": 1,
                "type": 1,
                "size": [
                  55,
                  55
                ],
                "position": [
                  0,
                  0
                ]
              },
              {
                "id": 3,
                "properties": {
                  "type": 1
                },
                "color": "#ffc914",
                "styles": {},
                "label": "",
                "scale_factor": 1,
                "type": 1,
                "size": [
                  55,
                  55
                ],
                "position": [
                  0,
                  0
                ]
              },
              {
                "id": 4,
                "properties": {
                  "type": 1
                },
                "color": "#ffc914",
                "styles": {},
                "label": "",
                "scale_factor": 1,
                "type": 1,
                "size": [
                  55,
                  55
                ],
                "position": [
                  0,
                  0
                ]
              },
              {
                "id": 5,
                "properties": {
                  "type": 1
                },
                "color": "#ffc914",
                "styles": {},
                "label": "",
                "scale_factor": 1,
                "type": 1,
                "size": [
                  55,
                  55
                ],
                "position": [
                  0,
                  0
                ]
              },
              {
                "id": 6,
                "properties": {
                  "type": 1
                },
                "color": "#ffc914",
                "styles": {},
                "label": "",
                "scale_factor": 1,
                "type": 1,
                "size": [
                  55,
                  55
                ],
                "position": [
                  0,
                  0
                ]
              },
              {
                "id": 7,
                "properties": {
                  "type": 2
                },
                "color": "#0b7189",
                "styles": {},
                "label": "",
                "scale_factor": 1,
                "type": 2,
                "size": [
                  55,
                  55
                ],
                "position": [
                  0,
                  0
                ]
              },
              {
                "id": 8,
                "properties": {
                  "type": 2
                },
                "color": "#0b7189",
                "styles": {},
                "label": "",
                "scale_factor": 1,
                "type": 2,
                "size": [
                  55,
                  55
                ],
                "position": [
                  0,
                  0
                ]
              },
              {
                "id": 9,
                "properties": {
                  "type": 2
                },
                "color": "#0b7189",
                "styles": {},
                "label": "",
                "scale_factor": 1,
                "type": 2,
                "size": [
                  55,
                  55
                ],
                "position": [
                  0,
                  0
                ]
              },
              {
                "id": 10,
                "properties": {
                  "type": 2
                },
                "color": "#0b7189",
                "styles": {},
                "label": "",
                "scale_factor": 1,
                "type": 2,
                "size": [
                  55,
                  55
                ],
                "position": [
                  0,
                  0
                ]
              },
              {
                "id": 11,
                "properties": {
                  "type": 2
                },
                "color": "#0b7189",
                "styles": {},
                "label": "",
                "scale_factor": 1,
                "type": 2,
                "size": [
                  55,
                  55
                ],
                "position": [
                  0,
                  0
                ]
              },
              {
                "id": 12,
                "properties": {
                  "type": 2
                },
                "color": "#0b7189",
                "styles": {},
                "label": "",
                "scale_factor": 1,
                "type": 2,
                "size": [
                  55,
                  55
                ],
                "position": [
                  0,
                  0
                ]
              },
              {
                "id": 13,
                "properties": {
                  "type": 3
                },
                "color": "#ff6c00",
                "styles": {},
                "label": "",
                "scale_factor": 1,
                "type": 3,
                "size": [
                  55,
                  55
                ],
                "position": [
                  0,
                  0
                ]
              },
              {
                "id": 14,
                "properties": {
                  "type": 3
                },
                "color": "#ff6c00",
                "styles": {},
                "label": "",
                "scale_factor": 1,
                "type": 3,
                "size": [
                  55,
                  55
                ],
                "position": [
                  0,
                  0
                ]
              },
              {
                "id": 15,
                "properties": {
                  "type": 3
                },
                "color": "#ff6c00",
                "styles": {},
                "label": "",
                "scale_factor": 1,
                "type": 3,
                "size": [
                  55,
                  55
                ],
                "position": [
                  0,
                  0
                ]
              },
              {
                "id": 16,
                "properties": {
                  "type": 3
                },
                "color": "#ff6c00",
                "styles": {},
                "label": "",
                "scale_factor": 1,
                "type": 3,
                "size": [
                  55,
                  55
                ],
                "position": [
                  0,
                  0
                ]
              },
              {
                "id": 17,
                "properties": {
                  "type": 3
                },
                "color": "#ff6c00",
                "styles": {},
                "label": "",
                "scale_factor": 1,
                "type": 3,
                "size": [
                  55,
                  55
                ],
                "position": [
                  0,
                  0
                ]
              },
              {
                "id": 18,
                "properties": {
                  "type": 3
                },
                "color": "#ff6c00",
                "styles": {},
                "label": "",
                "scale_factor": 1,
                "type": 3,
                "size": [
                  55,
                  55
                ],
                "position": [
                  0,
                  0
                ]
              },
              {
                "id": 19,
                "properties": {
                  "type": 4
                },
                "color": "#76b041",
                "styles": {},
                "label": "",
                "scale_factor": 1,
                "type": 4,
                "size": [
                  55,
                  55
                ],
                "position": [
                  0,
                  0
                ]
              }
            ],
            "_overview": {
              "enabled": null,
              "overview_set": false
            },
            "_selected_graph": [
              [],
              []
            ],
            "_sidebar": {
              "enabled": false,
              "start_with": null
            },
            "_view_count": null,
            "_view_module": "yfiles-jupyter-graphs",
            "_view_module_version": "^1.8.1",
            "_view_name": "GraphView",
            "layout": "IPY_MODEL_5445a9c311014a19b606efccdb4809ff",
            "tabbable": null,
            "tooltip": null
          }
        },
        "71ea6d5cb33e4b8890b6220a76667783": {
          "model_module": "@jupyter-widgets/base",
          "model_name": "LayoutModel",
          "model_module_version": "2.0.0",
          "state": {
            "_model_module": "@jupyter-widgets/base",
            "_model_module_version": "2.0.0",
            "_model_name": "LayoutModel",
            "_view_count": null,
            "_view_module": "@jupyter-widgets/base",
            "_view_module_version": "2.0.0",
            "_view_name": "LayoutView",
            "align_content": null,
            "align_items": null,
            "align_self": null,
            "border_bottom": null,
            "border_left": null,
            "border_right": null,
            "border_top": null,
            "bottom": null,
            "display": null,
            "flex": null,
            "flex_flow": null,
            "grid_area": null,
            "grid_auto_columns": null,
            "grid_auto_flow": null,
            "grid_auto_rows": null,
            "grid_column": null,
            "grid_gap": null,
            "grid_row": null,
            "grid_template_areas": null,
            "grid_template_columns": null,
            "grid_template_rows": null,
            "height": "700px",
            "justify_content": null,
            "justify_items": null,
            "left": null,
            "margin": null,
            "max_height": null,
            "max_width": null,
            "min_height": null,
            "min_width": null,
            "object_fit": null,
            "object_position": null,
            "order": null,
            "overflow": null,
            "padding": null,
            "right": null,
            "top": null,
            "visibility": null,
            "width": "100%"
          }
        },
        "88716a0dd5a64a599202eb3b6ff1783e": {
          "model_module": "@jupyter-widgets/base",
          "model_name": "LayoutModel",
          "model_module_version": "2.0.0",
          "state": {
            "_model_module": "@jupyter-widgets/base",
            "_model_module_version": "2.0.0",
            "_model_name": "LayoutModel",
            "_view_count": null,
            "_view_module": "@jupyter-widgets/base",
            "_view_module_version": "2.0.0",
            "_view_name": "LayoutView",
            "align_content": null,
            "align_items": null,
            "align_self": null,
            "border_bottom": null,
            "border_left": null,
            "border_right": null,
            "border_top": null,
            "bottom": null,
            "display": null,
            "flex": null,
            "flex_flow": null,
            "grid_area": null,
            "grid_auto_columns": null,
            "grid_auto_flow": null,
            "grid_auto_rows": null,
            "grid_column": null,
            "grid_gap": null,
            "grid_row": null,
            "grid_template_areas": null,
            "grid_template_columns": null,
            "grid_template_rows": null,
            "height": "700px",
            "justify_content": null,
            "justify_items": null,
            "left": null,
            "margin": null,
            "max_height": null,
            "max_width": null,
            "min_height": null,
            "min_width": null,
            "object_fit": null,
            "object_position": null,
            "order": null,
            "overflow": null,
            "padding": null,
            "right": null,
            "top": null,
            "visibility": null,
            "width": "100%"
          }
        },
        "5445a9c311014a19b606efccdb4809ff": {
          "model_module": "@jupyter-widgets/base",
          "model_name": "LayoutModel",
          "model_module_version": "2.0.0",
          "state": {
            "_model_module": "@jupyter-widgets/base",
            "_model_module_version": "2.0.0",
            "_model_name": "LayoutModel",
            "_view_count": null,
            "_view_module": "@jupyter-widgets/base",
            "_view_module_version": "2.0.0",
            "_view_name": "LayoutView",
            "align_content": null,
            "align_items": null,
            "align_self": null,
            "border_bottom": null,
            "border_left": null,
            "border_right": null,
            "border_top": null,
            "bottom": null,
            "display": null,
            "flex": null,
            "flex_flow": null,
            "grid_area": null,
            "grid_auto_columns": null,
            "grid_auto_flow": null,
            "grid_auto_rows": null,
            "grid_column": null,
            "grid_gap": null,
            "grid_row": null,
            "grid_template_areas": null,
            "grid_template_columns": null,
            "grid_template_rows": null,
            "height": "700px",
            "justify_content": null,
            "justify_items": null,
            "left": null,
            "margin": null,
            "max_height": null,
            "max_width": null,
            "min_height": null,
            "min_width": null,
            "object_fit": null,
            "object_position": null,
            "order": null,
            "overflow": null,
            "padding": null,
            "right": null,
            "top": null,
            "visibility": null,
            "width": "100%"
          }
        },
        "state": {}
      }
    }
  },
  "nbformat": 4,
  "nbformat_minor": 5
}