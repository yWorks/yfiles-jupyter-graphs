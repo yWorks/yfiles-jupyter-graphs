{
  "cells": [
    {
      "cell_type": "markdown",
      "id": "afbb43bc-a9ab-4322-9a07-5e34ec791d77",
      "metadata": {
        "id": "afbb43bc-a9ab-4322-9a07-5e34ec791d77"
      },
      "source": [
        "# Visualizing Networkx graphs in yFiles Graphs for Jupyter <a target=\"_blank\" href=\"https://colab.research.google.com/github/yWorks/yfiles-jupyter-graphs/blob/main/examples/13_networkx_import.ipynb\"><img src=\"https://colab.research.google.com/assets/colab-badge.svg\" alt=\"Open In Colab\"/></a>"
      ]
    },
    {
      "cell_type": "markdown",
      "id": "9aa5ae97-32d4-49c3-a914-899fd359e299",
      "metadata": {
        "id": "9aa5ae97-32d4-49c3-a914-899fd359e299"
      },
      "source": [
        "Before using the graph widget, install all necessary packages."
      ]
    },
    {
      "cell_type": "code",
      "execution_count": 1,
      "id": "4d4bbd0b-30b9-4dbd-8d36-2115a4e4af7d",
      "metadata": {
        "id": "4d4bbd0b-30b9-4dbd-8d36-2115a4e4af7d",
        "outputId": "63512e32-d0ea-4286-c020-6d755bed09c5",
        "colab": {
          "base_uri": "https://localhost:8080/"
        }
      },
      "outputs": [
        {
          "output_type": "stream",
          "name": "stdout",
          "text": [
            "\u001b[2K   \u001b[90m\u2501\u2501\u2501\u2501\u2501\u2501\u2501\u2501\u2501\u2501\u2501\u2501\u2501\u2501\u2501\u2501\u2501\u2501\u2501\u2501\u2501\u2501\u2501\u2501\u2501\u2501\u2501\u2501\u2501\u2501\u2501\u2501\u2501\u2501\u2501\u2501\u2501\u2501\u2501\u2501\u001b[0m \u001b[32m15.6/15.6 MB\u001b[0m \u001b[31m37.3 MB/s\u001b[0m eta \u001b[36m0:00:00\u001b[0m\n",
            "\u001b[2K   \u001b[90m\u2501\u2501\u2501\u2501\u2501\u2501\u2501\u2501\u2501\u2501\u2501\u2501\u2501\u2501\u2501\u2501\u2501\u2501\u2501\u2501\u2501\u2501\u2501\u2501\u2501\u2501\u2501\u2501\u2501\u2501\u2501\u2501\u2501\u2501\u2501\u2501\u2501\u2501\u2501\u2501\u001b[0m \u001b[32m139.8/139.8 kB\u001b[0m \u001b[31m7.5 MB/s\u001b[0m eta \u001b[36m0:00:00\u001b[0m\n",
            "\u001b[2K   \u001b[90m\u2501\u2501\u2501\u2501\u2501\u2501\u2501\u2501\u2501\u2501\u2501\u2501\u2501\u2501\u2501\u2501\u2501\u2501\u2501\u2501\u2501\u2501\u2501\u2501\u2501\u2501\u2501\u2501\u2501\u2501\u2501\u2501\u2501\u2501\u2501\u2501\u2501\u2501\u2501\u2501\u001b[0m \u001b[32m2.3/2.3 MB\u001b[0m \u001b[31m18.2 MB/s\u001b[0m eta \u001b[36m0:00:00\u001b[0m\n",
            "\u001b[2K   \u001b[90m\u2501\u2501\u2501\u2501\u2501\u2501\u2501\u2501\u2501\u2501\u2501\u2501\u2501\u2501\u2501\u2501\u2501\u2501\u2501\u2501\u2501\u2501\u2501\u2501\u2501\u2501\u2501\u2501\u2501\u2501\u2501\u2501\u2501\u2501\u2501\u2501\u2501\u2501\u2501\u2501\u001b[0m \u001b[32m1.6/1.6 MB\u001b[0m \u001b[31m15.3 MB/s\u001b[0m eta \u001b[36m0:00:00\u001b[0m\n",
            "\u001b[?25h"
          ]
        }
      ],
      "source": [
        "%pip install yfiles_jupyter_graphs --quiet\n",
        "%pip install networkx --quiet\n",
        "from networkx import Graph, DiGraph, MultiGraph, MultiDiGraph, path_graph, karate_club_graph\n",
        "from yfiles_jupyter_graphs import GraphWidget"
      ]
    },
    {
      "cell_type": "markdown",
      "id": "16e47873-e31e-46e0-80f9-6514819a44fe",
      "metadata": {
        "id": "16e47873-e31e-46e0-80f9-6514819a44fe"
      },
      "source": [
        "You can also open this notebook in Google Colab when Google Colab's custom widget manager is enabled:"
      ]
    },
    {
      "cell_type": "code",
      "execution_count": 2,
      "id": "64516534-c09e-4f96-984f-7d6b26dde6f7",
      "metadata": {
        "id": "64516534-c09e-4f96-984f-7d6b26dde6f7"
      },
      "outputs": [],
      "source": [
        "try:\n",
        "  import google.colab\n",
        "  from google.colab import output\n",
        "  output.enable_custom_widget_manager()\n",
        "except:\n",
        "  pass"
      ]
    },
    {
      "cell_type": "markdown",
      "id": "3d367f22-0f34-49c7-b224-5e0a1e3937d1",
      "metadata": {
        "id": "3d367f22-0f34-49c7-b224-5e0a1e3937d1"
      },
      "source": [
        "<a target=\"_blank\" href=\"https://colab.research.google.com/github/yWorks/yfiles-jupyter-graphs/blob/main/examples/13_networkx_import.ipynb\"><img src=\"https://colab.research.google.com/assets/colab-badge.svg\" alt=\"Open In Colab\"/></a>"
      ]
    },
    {
      "cell_type": "markdown",
      "id": "d27114d0-2133-4c6f-87c1-f049e56448c6",
      "metadata": {
        "id": "d27114d0-2133-4c6f-87c1-f049e56448c6"
      },
      "source": [
        "## How to import a graph\n",
        "- either import the graph directly when initilizing: ```GraphWidget(graph=your_graph)```\n",
        "- or use the ```w.import_graph(your_graph)``` function, if you already initilized a Widget called ```w```"
      ]
    },
    {
      "cell_type": "markdown",
      "id": "4450f8a7-3444-4e4b-bc39-678ac09ddedf",
      "metadata": {
        "id": "4450f8a7-3444-4e4b-bc39-678ac09ddedf"
      },
      "source": [
        "## Notes about NetworkX importer\n",
        "- graph attributes are ignored\n",
        "- node identifiers are saved under property `label` (or `yf_label` if key `label` already exists)\n",
        "- subgraphs (graph as node, see networx docs) are not supported\n",
        "- any additional data is stored in ```properties```"
      ]
    },
    {
      "cell_type": "markdown",
      "id": "864ff6dd-fa00-4a3e-a32d-6781c00e7202",
      "metadata": {
        "id": "864ff6dd-fa00-4a3e-a32d-6781c00e7202"
      },
      "source": [
        "### Import undirected graph with self loops\n",
        "https://networkx.org/documentation/stable/reference/classes/graph.html"
      ]
    },
    {
      "cell_type": "code",
      "execution_count": 3,
      "id": "da205fc6-af88-4dbe-9d2d-23beb6f66e3e",
      "metadata": {
        "id": "da205fc6-af88-4dbe-9d2d-23beb6f66e3e",
        "outputId": "5e2f89fd-593a-45bc-8c08-b918ba066dcf",
        "colab": {
          "base_uri": "https://localhost:8080/",
          "height": 627,
          "referenced_widgets": [
            "22382074164944e280e20f779e7df34c",
            "c4c6adaae9f4492e8ccc5a6191ee735c"
          ]
        }
      },
      "outputs": [
        {
          "output_type": "display_data",
          "data": {
            "text/plain": [
              "GraphWidget(layout=Layout(height='610px', width='100%'))"
            ],
            "application/vnd.jupyter.widget-view+json": {
              "version_major": 2,
              "version_minor": 0,
              "model_id": "22382074164944e280e20f779e7df34c"
            }
          },
          "metadata": {
            "application/vnd.jupyter.widget-view+json": {
              "colab": {
                "custom_widget_manager": {
                  "url": "https://ssl.gstatic.com/colaboratory-static/widgets/colab-cdn-widget-manager/2b70e893a8ba7c0f/manager.min.js"
                }
              }
            }
          }
        }
      ],
      "source": [
        "def make_graph(graph_class):\n",
        "    G = graph_class(day=\"Friday\")\n",
        "    G.add_node(\"origin\")\n",
        "    G.add_node(1)\n",
        "    G.add_nodes_from([2, 3])\n",
        "    H = path_graph(10)\n",
        "    G.add_nodes_from(H)\n",
        "    G.add_edge(1, 2)\n",
        "    G.add_edges_from([(1, 2), (1, 3)])\n",
        "    G.add_edges_from(H.edges)\n",
        "    G.add_node(1, time=\"5pm\")\n",
        "    G.add_nodes_from([3], time=\"2pm\")\n",
        "    for n in G.nodes:\n",
        "        G.add_edge(\"origin\", n)\n",
        "    G.nodes[1][\"room\"] = 714\n",
        "    G.add_edge(1, 2, weight=4.7)\n",
        "    G.add_edges_from([(3, 4), (4, 5)], color=\"red\")\n",
        "    G.add_edges_from([(1, 2, {\"color\": \"blue\"}), (2, 3, {\"weight\": 8})])\n",
        "    G[1][2][\"weight\"] = 4.7\n",
        "    G.edges[1, 2][\"weight\"] = 4\n",
        "    return G\n",
        "display(GraphWidget(graph=make_graph(Graph)))"
      ]
    },
    {
      "cell_type": "markdown",
      "id": "40d439fc-7406-4435-b043-32534ebc23ce",
      "metadata": {
        "id": "40d439fc-7406-4435-b043-32534ebc23ce"
      },
      "source": [
        "### import directed graph with self loops\n",
        "https://networkx.org/documentation/stable/reference/classes/digraph.html"
      ]
    },
    {
      "cell_type": "code",
      "execution_count": 4,
      "id": "37dfb8b1-a22d-4ca8-922d-be5de5455e0e",
      "metadata": {
        "id": "37dfb8b1-a22d-4ca8-922d-be5de5455e0e",
        "outputId": "5fdef107-b338-433f-87a5-a9eb1df1605d",
        "colab": {
          "base_uri": "https://localhost:8080/",
          "height": 627,
          "referenced_widgets": [
            "301b75c7175046eebabd968fbaea0c36",
            "6ba22dd53a5e4cd790773be845554efc"
          ]
        }
      },
      "outputs": [
        {
          "output_type": "display_data",
          "data": {
            "text/plain": [
              "GraphWidget(layout=Layout(height='610px', width='100%'))"
            ],
            "application/vnd.jupyter.widget-view+json": {
              "version_major": 2,
              "version_minor": 0,
              "model_id": "301b75c7175046eebabd968fbaea0c36"
            }
          },
          "metadata": {
            "application/vnd.jupyter.widget-view+json": {
              "colab": {
                "custom_widget_manager": {
                  "url": "https://ssl.gstatic.com/colaboratory-static/widgets/colab-cdn-widget-manager/2b70e893a8ba7c0f/manager.min.js"
                }
              }
            }
          }
        }
      ],
      "source": [
        "display(GraphWidget(graph=make_graph(DiGraph)))"
      ]
    },
    {
      "cell_type": "markdown",
      "id": "c4a3a547-4e02-4f29-9343-5dbd1b9ea0f3",
      "metadata": {
        "id": "c4a3a547-4e02-4f29-9343-5dbd1b9ea0f3"
      },
      "source": [
        "### import undirected graph with self loops and parallel edges\n",
        "https://networkx.org/documentation/stable/reference/classes/multigraph.html"
      ]
    },
    {
      "cell_type": "code",
      "execution_count": 5,
      "id": "487e2f91-9be8-41e7-b26f-23cd0de5291e",
      "metadata": {
        "id": "487e2f91-9be8-41e7-b26f-23cd0de5291e",
        "outputId": "af02e1c2-19bb-46d2-ac26-d179deac075c",
        "colab": {
          "base_uri": "https://localhost:8080/",
          "height": 627,
          "referenced_widgets": [
            "e05042e0527a4d07baeb8a54469dab29",
            "0284de82dd1a49eeac8971f8d977ed09"
          ]
        }
      },
      "outputs": [
        {
          "output_type": "display_data",
          "data": {
            "text/plain": [
              "GraphWidget(layout=Layout(height='610px', width='100%'))"
            ],
            "application/vnd.jupyter.widget-view+json": {
              "version_major": 2,
              "version_minor": 0,
              "model_id": "e05042e0527a4d07baeb8a54469dab29"
            }
          },
          "metadata": {
            "application/vnd.jupyter.widget-view+json": {
              "colab": {
                "custom_widget_manager": {
                  "url": "https://ssl.gstatic.com/colaboratory-static/widgets/colab-cdn-widget-manager/2b70e893a8ba7c0f/manager.min.js"
                }
              }
            }
          }
        }
      ],
      "source": [
        "def make_graph_(graph_class):\n",
        "    G = graph_class(day=\"Friday\")\n",
        "    G.add_node(\"origin\")\n",
        "    G.add_node(1)\n",
        "    G.add_nodes_from([2, 3])\n",
        "    H = path_graph(10)\n",
        "    G.add_nodes_from(H)\n",
        "    G.add_edge(1, 2)\n",
        "    G.add_edges_from([(1, 2), (1, 3)])\n",
        "    G.add_edges_from(H.edges)\n",
        "    G.add_node(1, time=\"5pm\")\n",
        "    G.add_nodes_from([3], time=\"2pm\")\n",
        "    for n in G.nodes:\n",
        "        G.add_edge(\"origin\", n)\n",
        "    G.add_edges_from([(4, 5, dict(route=282)), (4, 5, dict(route=37))])\n",
        "    G.add_edge(1, 2, weight=4.7)\n",
        "    G.add_edges_from([(3, 4), (4, 5)], color=\"red\")\n",
        "    G.add_edges_from([(1, 2, {\"color\": \"blue\"}), (2, 3, {\"weight\": 8})])\n",
        "    G[1][2][0][\"weight\"] = 4.7\n",
        "    G.edges[1, 2, 0][\"weight\"] = 4\n",
        "    return G\n",
        "display(GraphWidget(graph=make_graph_(MultiGraph)))"
      ]
    },
    {
      "cell_type": "markdown",
      "id": "f940c0c5-8d34-4a39-ac52-2a884e69ad47",
      "metadata": {
        "id": "f940c0c5-8d34-4a39-ac52-2a884e69ad47"
      },
      "source": [
        "### Import directed graph with self loops and parallel edges\n",
        "https://networkx.org/documentation/stable/reference/classes/multidigraph.html"
      ]
    },
    {
      "cell_type": "code",
      "execution_count": 6,
      "id": "d50c0882-e673-4997-89bf-eb60632064cd",
      "metadata": {
        "id": "d50c0882-e673-4997-89bf-eb60632064cd",
        "outputId": "347575cc-e444-4425-d8df-44795403db2c",
        "colab": {
          "base_uri": "https://localhost:8080/",
          "height": 627,
          "referenced_widgets": [
            "97b071e333f248858951f54c3f2b6f2f",
            "ec1e4f0af77441e296cacbcee124b4ba"
          ]
        }
      },
      "outputs": [
        {
          "output_type": "display_data",
          "data": {
            "text/plain": [
              "GraphWidget(layout=Layout(height='610px', width='100%'))"
            ],
            "application/vnd.jupyter.widget-view+json": {
              "version_major": 2,
              "version_minor": 0,
              "model_id": "97b071e333f248858951f54c3f2b6f2f"
            }
          },
          "metadata": {
            "application/vnd.jupyter.widget-view+json": {
              "colab": {
                "custom_widget_manager": {
                  "url": "https://ssl.gstatic.com/colaboratory-static/widgets/colab-cdn-widget-manager/2b70e893a8ba7c0f/manager.min.js"
                }
              }
            }
          }
        }
      ],
      "source": [
        "display(GraphWidget(graph=make_graph_(MultiDiGraph)))"
      ]
    },
    {
      "cell_type": "markdown",
      "id": "5e702e7d-67d7-4815-b305-2b78c5871c0c",
      "metadata": {
        "id": "5e702e7d-67d7-4815-b305-2b78c5871c0c"
      },
      "source": [
        "The resulting graph has properties that are not displayed by simply importing the graph. \\\n",
        "You can access this data by looking at the nodes and edges data:"
      ]
    },
    {
      "cell_type": "code",
      "execution_count": 7,
      "id": "9b9a4ea1-eccf-4ad0-b266-828d96f0320b",
      "metadata": {
        "id": "9b9a4ea1-eccf-4ad0-b266-828d96f0320b",
        "outputId": "d205fd09-9bbf-48a6-e8d7-e420d8f235d3",
        "colab": {
          "base_uri": "https://localhost:8080/",
          "height": 455
        }
      },
      "outputs": [
        {
          "output_type": "execute_result",
          "data": {
            "text/plain": [
              "[{'id': 0, 'start': 0, 'end': 0, 'properties': {}},\n",
              " {'id': 1, 'start': 0, 'end': 1, 'properties': {}},\n",
              " {'id': 2, 'start': 0, 'end': 2, 'properties': {}},\n",
              " {'id': 3, 'start': 0, 'end': 3, 'properties': {}},\n",
              " {'id': 4, 'start': 0, 'end': 4, 'properties': {}},\n",
              " {'id': 5, 'start': 0, 'end': 5, 'properties': {}},\n",
              " {'id': 6, 'start': 0, 'end': 6, 'properties': {}},\n",
              " {'id': 7, 'start': 0, 'end': 7, 'properties': {}},\n",
              " {'id': 8, 'start': 0, 'end': 8, 'properties': {}},\n",
              " {'id': 9, 'start': 0, 'end': 9, 'properties': {}},\n",
              " {'id': 10, 'start': 0, 'end': 10, 'properties': {}},\n",
              " {'id': 11,\n",
              "  'start': 1,\n",
              "  'end': 2,\n",
              "  'properties': {'weight': 4, 'color': 'blue'}},\n",
              " {'id': 12, 'start': 1, 'end': 3, 'properties': {}},\n",
              " {'id': 13, 'start': 1, 'end': 4, 'properties': {}},\n",
              " {'id': 14, 'start': 2, 'end': 3, 'properties': {'weight': 8}},\n",
              " {'id': 15, 'start': 3, 'end': 5, 'properties': {'color': 'red'}},\n",
              " {'id': 16, 'start': 5, 'end': 6, 'properties': {'color': 'red'}},\n",
              " {'id': 17, 'start': 6, 'end': 7, 'properties': {}},\n",
              " {'id': 18, 'start': 7, 'end': 8, 'properties': {}},\n",
              " {'id': 19, 'start': 8, 'end': 9, 'properties': {}},\n",
              " {'id': 20, 'start': 9, 'end': 10, 'properties': {}}]"
            ]
          },
          "metadata": {},
          "execution_count": 7
        }
      ],
      "source": [
        "w = GraphWidget(graph=make_graph(Graph))\n",
        "w.edges"
      ]
    },
    {
      "cell_type": "markdown",
      "id": "0a5d25c2-643b-48f3-8136-28aefac4cafe",
      "metadata": {
        "id": "0a5d25c2-643b-48f3-8136-28aefac4cafe"
      },
      "source": [
        "### Using graph data\n",
        "\n",
        "To access the 'properties' data, you can use the data key in squared brackets: ```['properties']['key'] ```\n",
        "\n",
        "Possible keys in this example are 'weight' and 'color'"
      ]
    },
    {
      "cell_type": "code",
      "execution_count": 8,
      "id": "56147fb6-5a95-40cc-94c1-8962075ce774",
      "metadata": {
        "id": "56147fb6-5a95-40cc-94c1-8962075ce774",
        "outputId": "4c3c7855-6352-43a3-99e0-25b8c2a8dda5",
        "colab": {
          "base_uri": "https://localhost:8080/"
        }
      },
      "outputs": [
        {
          "output_type": "stream",
          "name": "stdout",
          "text": [
            "Edge 0: {'id': 0, 'start': 0, 'end': 0, 'properties': {}}\n",
            "Edge 1: {'id': 1, 'start': 0, 'end': 1, 'properties': {}}\n",
            "Edge 2: {'id': 2, 'start': 0, 'end': 2, 'properties': {}}\n",
            "Edge 3: {'id': 3, 'start': 0, 'end': 3, 'properties': {}}\n",
            "Edge 4: {'id': 4, 'start': 0, 'end': 4, 'properties': {}}\n",
            "Edge 5: {'id': 5, 'start': 0, 'end': 5, 'properties': {}}\n",
            "Edge 6: {'id': 6, 'start': 0, 'end': 6, 'properties': {}}\n",
            "Edge 7: {'id': 7, 'start': 0, 'end': 7, 'properties': {}}\n",
            "Edge 8: {'id': 8, 'start': 0, 'end': 8, 'properties': {}}\n",
            "Edge 9: {'id': 9, 'start': 0, 'end': 9, 'properties': {}}\n",
            "Edge 10: {'id': 10, 'start': 0, 'end': 10, 'properties': {}}\n",
            "Edge 11: {'id': 11, 'start': 1, 'end': 2, 'properties': {'weight': 4, 'color': 'blue'}}\n",
            "Edge 12: {'id': 12, 'start': 1, 'end': 3, 'properties': {}}\n",
            "Edge 13: {'id': 13, 'start': 1, 'end': 4, 'properties': {}}\n",
            "Edge 14: {'id': 14, 'start': 2, 'end': 3, 'properties': {'weight': 8}}\n",
            "Edge 15: {'id': 15, 'start': 3, 'end': 5, 'properties': {'color': 'red'}}\n",
            "Edge 16: {'id': 16, 'start': 5, 'end': 6, 'properties': {'color': 'red'}}\n",
            "Edge 17: {'id': 17, 'start': 6, 'end': 7, 'properties': {}}\n",
            "Edge 18: {'id': 18, 'start': 7, 'end': 8, 'properties': {}}\n",
            "Edge 19: {'id': 19, 'start': 8, 'end': 9, 'properties': {}}\n",
            "Edge 20: {'id': 20, 'start': 9, 'end': 10, 'properties': {}}\n",
            "\n"
          ]
        }
      ],
      "source": [
        "formattedProperties = ''.join(f\"Edge {edge['id']}: {edge}\\n\" for edge in w.edges)\n",
        "print(formattedProperties)"
      ]
    },
    {
      "cell_type": "markdown",
      "id": "b65f203c-280c-4664-8da8-a9ad211cde8b",
      "metadata": {
        "id": "b65f203c-280c-4664-8da8-a9ad211cde8b"
      },
      "source": [
        "Let's use the 'color' key in properties to turn some edges blue and red."
      ]
    },
    {
      "cell_type": "code",
      "execution_count": 9,
      "id": "6139a3ee-ce54-41d8-9951-469db637ace7",
      "metadata": {
        "id": "6139a3ee-ce54-41d8-9951-469db637ace7",
        "outputId": "3b6a337c-2422-4393-81be-f2183b66e88b",
        "colab": {
          "base_uri": "https://localhost:8080/",
          "height": 627,
          "referenced_widgets": [
            "0b452d259a4e4fab9d4f5e52ab3ebe82",
            "fc6880b76db24349a5e0e103ba7a22a8"
          ]
        }
      },
      "outputs": [
        {
          "output_type": "display_data",
          "data": {
            "text/plain": [
              "GraphWidget(layout=Layout(height='610px', width='100%'))"
            ],
            "application/vnd.jupyter.widget-view+json": {
              "version_major": 2,
              "version_minor": 0,
              "model_id": "0b452d259a4e4fab9d4f5e52ab3ebe82"
            }
          },
          "metadata": {
            "application/vnd.jupyter.widget-view+json": {
              "colab": {
                "custom_widget_manager": {
                  "url": "https://ssl.gstatic.com/colaboratory-static/widgets/colab-cdn-widget-manager/2b70e893a8ba7c0f/manager.min.js"
                }
              }
            }
          }
        }
      ],
      "source": [
        "w.edge_color_mapping = 'color'\n",
        "display(w)"
      ]
    }
  ],
  "metadata": {
    "kernelspec": {
      "display_name": "Python 3 (ipykernel)",
      "language": "python",
      "name": "python3"
    },
    "language_info": {
      "codemirror_mode": {
        "name": "ipython",
        "version": 3
      },
      "file_extension": ".py",
      "mimetype": "text/x-python",
      "name": "python",
      "nbconvert_exporter": "python",
      "pygments_lexer": "ipython3",
      "version": "3.11.3"
    },
    "colab": {
      "provenance": []
    },
    "widgets": {
      "application/vnd.jupyter.widget-state+json": {
        "22382074164944e280e20f779e7df34c": {
          "model_module": "yfiles-jupyter-graphs",
          "model_name": "GraphModel",
          "model_module_version": "^1.8.1",
          "state": {
            "_context_pane_mapping": [
              {
                "id": "Neighborhood",
                "title": "Neighborhood"
              },
              {
                "id": "Data",
                "title": "Data"
              },
              {
                "id": "Search",
                "title": "Search"
              },
              {
                "id": "About",
                "title": "About"
              }
            ],
            "_data_importer": "networkx",
            "_directed": false,
            "_dom_classes": [],
            "_edges": [
              {
                "id": 0,
                "start": 0,
                "end": 0,
                "properties": {},
                "label": "",
                "color": "#15AFAC",
                "thickness_factor": 1,
                "directed": false
              },
              {
                "id": 1,
                "start": 0,
                "end": 1,
                "properties": {},
                "label": "",
                "color": "#15AFAC",
                "thickness_factor": 1,
                "directed": false
              },
              {
                "id": 2,
                "start": 0,
                "end": 2,
                "properties": {},
                "label": "",
                "color": "#15AFAC",
                "thickness_factor": 1,
                "directed": false
              },
              {
                "id": 3,
                "start": 0,
                "end": 3,
                "properties": {},
                "label": "",
                "color": "#15AFAC",
                "thickness_factor": 1,
                "directed": false
              },
              {
                "id": 4,
                "start": 0,
                "end": 4,
                "properties": {},
                "label": "",
                "color": "#15AFAC",
                "thickness_factor": 1,
                "directed": false
              },
              {
                "id": 5,
                "start": 0,
                "end": 5,
                "properties": {},
                "label": "",
                "color": "#15AFAC",
                "thickness_factor": 1,
                "directed": false
              },
              {
                "id": 6,
                "start": 0,
                "end": 6,
                "properties": {},
                "label": "",
                "color": "#15AFAC",
                "thickness_factor": 1,
                "directed": false
              },
              {
                "id": 7,
                "start": 0,
                "end": 7,
                "properties": {},
                "label": "",
                "color": "#15AFAC",
                "thickness_factor": 1,
                "directed": false
              },
              {
                "id": 8,
                "start": 0,
                "end": 8,
                "properties": {},
                "label": "",
                "color": "#15AFAC",
                "thickness_factor": 1,
                "directed": false
              },
              {
                "id": 9,
                "start": 0,
                "end": 9,
                "properties": {},
                "label": "",
                "color": "#15AFAC",
                "thickness_factor": 1,
                "directed": false
              },
              {
                "id": 10,
                "start": 0,
                "end": 10,
                "properties": {},
                "label": "",
                "color": "#15AFAC",
                "thickness_factor": 1,
                "directed": false
              },
              {
                "id": 11,
                "start": 1,
                "end": 2,
                "properties": {
                  "weight": 4,
                  "color": "blue"
                },
                "label": "",
                "color": "#15AFAC",
                "thickness_factor": 1,
                "directed": false
              },
              {
                "id": 12,
                "start": 1,
                "end": 3,
                "properties": {},
                "label": "",
                "color": "#15AFAC",
                "thickness_factor": 1,
                "directed": false
              },
              {
                "id": 13,
                "start": 1,
                "end": 4,
                "properties": {},
                "label": "",
                "color": "#15AFAC",
                "thickness_factor": 1,
                "directed": false
              },
              {
                "id": 14,
                "start": 2,
                "end": 3,
                "properties": {
                  "weight": 8
                },
                "label": "",
                "color": "#15AFAC",
                "thickness_factor": 1,
                "directed": false
              },
              {
                "id": 15,
                "start": 3,
                "end": 5,
                "properties": {
                  "color": "red"
                },
                "label": "",
                "color": "#15AFAC",
                "thickness_factor": 1,
                "directed": false
              },
              {
                "id": 16,
                "start": 5,
                "end": 6,
                "properties": {
                  "color": "red"
                },
                "label": "",
                "color": "#15AFAC",
                "thickness_factor": 1,
                "directed": false
              },
              {
                "id": 17,
                "start": 6,
                "end": 7,
                "properties": {},
                "label": "",
                "color": "#15AFAC",
                "thickness_factor": 1,
                "directed": false
              },
              {
                "id": 18,
                "start": 7,
                "end": 8,
                "properties": {},
                "label": "",
                "color": "#15AFAC",
                "thickness_factor": 1,
                "directed": false
              },
              {
                "id": 19,
                "start": 8,
                "end": 9,
                "properties": {},
                "label": "",
                "color": "#15AFAC",
                "thickness_factor": 1,
                "directed": false
              },
              {
                "id": 20,
                "start": 9,
                "end": 10,
                "properties": {},
                "label": "",
                "color": "#15AFAC",
                "thickness_factor": 1,
                "directed": false
              }
            ],
            "_graph_layout": {},
            "_highlight": [],
            "_license": {},
            "_model_module": "yfiles-jupyter-graphs",
            "_model_module_version": "^1.8.1",
            "_model_name": "GraphModel",
            "_neighborhood": {},
            "_nodes": [
              {
                "id": 0,
                "properties": {
                  "label": "origin"
                },
                "color": "#15AFAC",
                "styles": {},
                "label": "origin",
                "scale_factor": 1,
                "type": "#15AFAC",
                "size": [
                  55,
                  55
                ],
                "position": [
                  0,
                  0
                ]
              },
              {
                "id": 1,
                "properties": {
                  "time": "5pm",
                  "room": 714,
                  "label": "1"
                },
                "color": "#15AFAC",
                "styles": {},
                "label": "1",
                "scale_factor": 1,
                "type": "#15AFAC",
                "size": [
                  55,
                  55
                ],
                "position": [
                  0,
                  0
                ]
              },
              {
                "id": 2,
                "properties": {
                  "label": "2"
                },
                "color": "#15AFAC",
                "styles": {},
                "label": "2",
                "scale_factor": 1,
                "type": "#15AFAC",
                "size": [
                  55,
                  55
                ],
                "position": [
                  0,
                  0
                ]
              },
              {
                "id": 3,
                "properties": {
                  "time": "2pm",
                  "label": "3"
                },
                "color": "#15AFAC",
                "styles": {},
                "label": "3",
                "scale_factor": 1,
                "type": "#15AFAC",
                "size": [
                  55,
                  55
                ],
                "position": [
                  0,
                  0
                ]
              },
              {
                "id": 4,
                "properties": {
                  "label": "0"
                },
                "color": "#15AFAC",
                "styles": {},
                "label": "0",
                "scale_factor": 1,
                "type": "#15AFAC",
                "size": [
                  55,
                  55
                ],
                "position": [
                  0,
                  0
                ]
              },
              {
                "id": 5,
                "properties": {
                  "label": "4"
                },
                "color": "#15AFAC",
                "styles": {},
                "label": "4",
                "scale_factor": 1,
                "type": "#15AFAC",
                "size": [
                  55,
                  55
                ],
                "position": [
                  0,
                  0
                ]
              },
              {
                "id": 6,
                "properties": {
                  "label": "5"
                },
                "color": "#15AFAC",
                "styles": {},
                "label": "5",
                "scale_factor": 1,
                "type": "#15AFAC",
                "size": [
                  55,
                  55
                ],
                "position": [
                  0,
                  0
                ]
              },
              {
                "id": 7,
                "properties": {
                  "label": "6"
                },
                "color": "#15AFAC",
                "styles": {},
                "label": "6",
                "scale_factor": 1,
                "type": "#15AFAC",
                "size": [
                  55,
                  55
                ],
                "position": [
                  0,
                  0
                ]
              },
              {
                "id": 8,
                "properties": {
                  "label": "7"
                },
                "color": "#15AFAC",
                "styles": {},
                "label": "7",
                "scale_factor": 1,
                "type": "#15AFAC",
                "size": [
                  55,
                  55
                ],
                "position": [
                  0,
                  0
                ]
              },
              {
                "id": 9,
                "properties": {
                  "label": "8"
                },
                "color": "#15AFAC",
                "styles": {},
                "label": "8",
                "scale_factor": 1,
                "type": "#15AFAC",
                "size": [
                  55,
                  55
                ],
                "position": [
                  0,
                  0
                ]
              },
              {
                "id": 10,
                "properties": {
                  "label": "9"
                },
                "color": "#15AFAC",
                "styles": {},
                "label": "9",
                "scale_factor": 1,
                "type": "#15AFAC",
                "size": [
                  55,
                  55
                ],
                "position": [
                  0,
                  0
                ]
              }
            ],
            "_overview": {
              "enabled": null,
              "overview_set": false
            },
            "_selected_graph": [
              [],
              []
            ],
            "_sidebar": {
              "enabled": false,
              "start_with": null
            },
            "_view_count": null,
            "_view_module": "yfiles-jupyter-graphs",
            "_view_module_version": "^1.8.1",
            "_view_name": "GraphView",
            "layout": "IPY_MODEL_c4c6adaae9f4492e8ccc5a6191ee735c",
            "tabbable": null,
            "tooltip": null
          }
        },
        "c4c6adaae9f4492e8ccc5a6191ee735c": {
          "model_module": "@jupyter-widgets/base",
          "model_name": "LayoutModel",
          "model_module_version": "2.0.0",
          "state": {
            "_model_module": "@jupyter-widgets/base",
            "_model_module_version": "2.0.0",
            "_model_name": "LayoutModel",
            "_view_count": null,
            "_view_module": "@jupyter-widgets/base",
            "_view_module_version": "2.0.0",
            "_view_name": "LayoutView",
            "align_content": null,
            "align_items": null,
            "align_self": null,
            "border_bottom": null,
            "border_left": null,
            "border_right": null,
            "border_top": null,
            "bottom": null,
            "display": null,
            "flex": null,
            "flex_flow": null,
            "grid_area": null,
            "grid_auto_columns": null,
            "grid_auto_flow": null,
            "grid_auto_rows": null,
            "grid_column": null,
            "grid_gap": null,
            "grid_row": null,
            "grid_template_areas": null,
            "grid_template_columns": null,
            "grid_template_rows": null,
            "height": "610px",
            "justify_content": null,
            "justify_items": null,
            "left": null,
            "margin": null,
            "max_height": null,
            "max_width": null,
            "min_height": null,
            "min_width": null,
            "object_fit": null,
            "object_position": null,
            "order": null,
            "overflow": null,
            "padding": null,
            "right": null,
            "top": null,
            "visibility": null,
            "width": "100%"
          }
        },
        "301b75c7175046eebabd968fbaea0c36": {
          "model_module": "yfiles-jupyter-graphs",
          "model_name": "GraphModel",
          "model_module_version": "^1.8.1",
          "state": {
            "_context_pane_mapping": [
              {
                "id": "Neighborhood",
                "title": "Neighborhood"
              },
              {
                "id": "Data",
                "title": "Data"
              },
              {
                "id": "Search",
                "title": "Search"
              },
              {
                "id": "About",
                "title": "About"
              }
            ],
            "_data_importer": "networkx",
            "_directed": true,
            "_dom_classes": [],
            "_edges": [
              {
                "id": 0,
                "start": 0,
                "end": 0,
                "properties": {},
                "label": "",
                "color": "#15AFAC",
                "thickness_factor": 1,
                "directed": true
              },
              {
                "id": 1,
                "start": 0,
                "end": 1,
                "properties": {},
                "label": "",
                "color": "#15AFAC",
                "thickness_factor": 1,
                "directed": true
              },
              {
                "id": 2,
                "start": 0,
                "end": 2,
                "properties": {},
                "label": "",
                "color": "#15AFAC",
                "thickness_factor": 1,
                "directed": true
              },
              {
                "id": 3,
                "start": 0,
                "end": 3,
                "properties": {},
                "label": "",
                "color": "#15AFAC",
                "thickness_factor": 1,
                "directed": true
              },
              {
                "id": 4,
                "start": 0,
                "end": 4,
                "properties": {},
                "label": "",
                "color": "#15AFAC",
                "thickness_factor": 1,
                "directed": true
              },
              {
                "id": 5,
                "start": 0,
                "end": 5,
                "properties": {},
                "label": "",
                "color": "#15AFAC",
                "thickness_factor": 1,
                "directed": true
              },
              {
                "id": 6,
                "start": 0,
                "end": 6,
                "properties": {},
                "label": "",
                "color": "#15AFAC",
                "thickness_factor": 1,
                "directed": true
              },
              {
                "id": 7,
                "start": 0,
                "end": 7,
                "properties": {},
                "label": "",
                "color": "#15AFAC",
                "thickness_factor": 1,
                "directed": true
              },
              {
                "id": 8,
                "start": 0,
                "end": 8,
                "properties": {},
                "label": "",
                "color": "#15AFAC",
                "thickness_factor": 1,
                "directed": true
              },
              {
                "id": 9,
                "start": 0,
                "end": 9,
                "properties": {},
                "label": "",
                "color": "#15AFAC",
                "thickness_factor": 1,
                "directed": true
              },
              {
                "id": 10,
                "start": 0,
                "end": 10,
                "properties": {},
                "label": "",
                "color": "#15AFAC",
                "thickness_factor": 1,
                "directed": true
              },
              {
                "id": 11,
                "start": 1,
                "end": 2,
                "properties": {
                  "weight": 4,
                  "color": "blue"
                },
                "label": "",
                "color": "#15AFAC",
                "thickness_factor": 1,
                "directed": true
              },
              {
                "id": 12,
                "start": 1,
                "end": 3,
                "properties": {},
                "label": "",
                "color": "#15AFAC",
                "thickness_factor": 1,
                "directed": true
              },
              {
                "id": 13,
                "start": 2,
                "end": 3,
                "properties": {
                  "weight": 8
                },
                "label": "",
                "color": "#15AFAC",
                "thickness_factor": 1,
                "directed": true
              },
              {
                "id": 14,
                "start": 3,
                "end": 5,
                "properties": {
                  "color": "red"
                },
                "label": "",
                "color": "#15AFAC",
                "thickness_factor": 1,
                "directed": true
              },
              {
                "id": 15,
                "start": 4,
                "end": 1,
                "properties": {},
                "label": "",
                "color": "#15AFAC",
                "thickness_factor": 1,
                "directed": true
              },
              {
                "id": 16,
                "start": 5,
                "end": 6,
                "properties": {
                  "color": "red"
                },
                "label": "",
                "color": "#15AFAC",
                "thickness_factor": 1,
                "directed": true
              },
              {
                "id": 17,
                "start": 6,
                "end": 7,
                "properties": {},
                "label": "",
                "color": "#15AFAC",
                "thickness_factor": 1,
                "directed": true
              },
              {
                "id": 18,
                "start": 7,
                "end": 8,
                "properties": {},
                "label": "",
                "color": "#15AFAC",
                "thickness_factor": 1,
                "directed": true
              },
              {
                "id": 19,
                "start": 8,
                "end": 9,
                "properties": {},
                "label": "",
                "color": "#15AFAC",
                "thickness_factor": 1,
                "directed": true
              },
              {
                "id": 20,
                "start": 9,
                "end": 10,
                "properties": {},
                "label": "",
                "color": "#15AFAC",
                "thickness_factor": 1,
                "directed": true
              }
            ],
            "_graph_layout": {},
            "_highlight": [],
            "_license": {},
            "_model_module": "yfiles-jupyter-graphs",
            "_model_module_version": "^1.8.1",
            "_model_name": "GraphModel",
            "_neighborhood": {},
            "_nodes": [
              {
                "id": 0,
                "properties": {
                  "label": "origin"
                },
                "color": "#15AFAC",
                "styles": {},
                "label": "origin",
                "scale_factor": 1,
                "type": "#15AFAC",
                "size": [
                  55,
                  55
                ],
                "position": [
                  0,
                  0
                ]
              },
              {
                "id": 1,
                "properties": {
                  "time": "5pm",
                  "room": 714,
                  "label": "1"
                },
                "color": "#15AFAC",
                "styles": {},
                "label": "1",
                "scale_factor": 1,
                "type": "#15AFAC",
                "size": [
                  55,
                  55
                ],
                "position": [
                  0,
                  0
                ]
              },
              {
                "id": 2,
                "properties": {
                  "label": "2"
                },
                "color": "#15AFAC",
                "styles": {},
                "label": "2",
                "scale_factor": 1,
                "type": "#15AFAC",
                "size": [
                  55,
                  55
                ],
                "position": [
                  0,
                  0
                ]
              },
              {
                "id": 3,
                "properties": {
                  "time": "2pm",
                  "label": "3"
                },
                "color": "#15AFAC",
                "styles": {},
                "label": "3",
                "scale_factor": 1,
                "type": "#15AFAC",
                "size": [
                  55,
                  55
                ],
                "position": [
                  0,
                  0
                ]
              },
              {
                "id": 4,
                "properties": {
                  "label": "0"
                },
                "color": "#15AFAC",
                "styles": {},
                "label": "0",
                "scale_factor": 1,
                "type": "#15AFAC",
                "size": [
                  55,
                  55
                ],
                "position": [
                  0,
                  0
                ]
              },
              {
                "id": 5,
                "properties": {
                  "label": "4"
                },
                "color": "#15AFAC",
                "styles": {},
                "label": "4",
                "scale_factor": 1,
                "type": "#15AFAC",
                "size": [
                  55,
                  55
                ],
                "position": [
                  0,
                  0
                ]
              },
              {
                "id": 6,
                "properties": {
                  "label": "5"
                },
                "color": "#15AFAC",
                "styles": {},
                "label": "5",
                "scale_factor": 1,
                "type": "#15AFAC",
                "size": [
                  55,
                  55
                ],
                "position": [
                  0,
                  0
                ]
              },
              {
                "id": 7,
                "properties": {
                  "label": "6"
                },
                "color": "#15AFAC",
                "styles": {},
                "label": "6",
                "scale_factor": 1,
                "type": "#15AFAC",
                "size": [
                  55,
                  55
                ],
                "position": [
                  0,
                  0
                ]
              },
              {
                "id": 8,
                "properties": {
                  "label": "7"
                },
                "color": "#15AFAC",
                "styles": {},
                "label": "7",
                "scale_factor": 1,
                "type": "#15AFAC",
                "size": [
                  55,
                  55
                ],
                "position": [
                  0,
                  0
                ]
              },
              {
                "id": 9,
                "properties": {
                  "label": "8"
                },
                "color": "#15AFAC",
                "styles": {},
                "label": "8",
                "scale_factor": 1,
                "type": "#15AFAC",
                "size": [
                  55,
                  55
                ],
                "position": [
                  0,
                  0
                ]
              },
              {
                "id": 10,
                "properties": {
                  "label": "9"
                },
                "color": "#15AFAC",
                "styles": {},
                "label": "9",
                "scale_factor": 1,
                "type": "#15AFAC",
                "size": [
                  55,
                  55
                ],
                "position": [
                  0,
                  0
                ]
              }
            ],
            "_overview": {
              "enabled": null,
              "overview_set": false
            },
            "_selected_graph": [
              [],
              []
            ],
            "_sidebar": {
              "enabled": false,
              "start_with": null
            },
            "_view_count": null,
            "_view_module": "yfiles-jupyter-graphs",
            "_view_module_version": "^1.8.1",
            "_view_name": "GraphView",
            "layout": "IPY_MODEL_6ba22dd53a5e4cd790773be845554efc",
            "tabbable": null,
            "tooltip": null
          }
        },
        "6ba22dd53a5e4cd790773be845554efc": {
          "model_module": "@jupyter-widgets/base",
          "model_name": "LayoutModel",
          "model_module_version": "2.0.0",
          "state": {
            "_model_module": "@jupyter-widgets/base",
            "_model_module_version": "2.0.0",
            "_model_name": "LayoutModel",
            "_view_count": null,
            "_view_module": "@jupyter-widgets/base",
            "_view_module_version": "2.0.0",
            "_view_name": "LayoutView",
            "align_content": null,
            "align_items": null,
            "align_self": null,
            "border_bottom": null,
            "border_left": null,
            "border_right": null,
            "border_top": null,
            "bottom": null,
            "display": null,
            "flex": null,
            "flex_flow": null,
            "grid_area": null,
            "grid_auto_columns": null,
            "grid_auto_flow": null,
            "grid_auto_rows": null,
            "grid_column": null,
            "grid_gap": null,
            "grid_row": null,
            "grid_template_areas": null,
            "grid_template_columns": null,
            "grid_template_rows": null,
            "height": "610px",
            "justify_content": null,
            "justify_items": null,
            "left": null,
            "margin": null,
            "max_height": null,
            "max_width": null,
            "min_height": null,
            "min_width": null,
            "object_fit": null,
            "object_position": null,
            "order": null,
            "overflow": null,
            "padding": null,
            "right": null,
            "top": null,
            "visibility": null,
            "width": "100%"
          }
        },
        "e05042e0527a4d07baeb8a54469dab29": {
          "model_module": "yfiles-jupyter-graphs",
          "model_name": "GraphModel",
          "model_module_version": "^1.8.1",
          "state": {
            "_context_pane_mapping": [
              {
                "id": "Neighborhood",
                "title": "Neighborhood"
              },
              {
                "id": "Data",
                "title": "Data"
              },
              {
                "id": "Search",
                "title": "Search"
              },
              {
                "id": "About",
                "title": "About"
              }
            ],
            "_data_importer": "networkx",
            "_directed": false,
            "_dom_classes": [],
            "_edges": [
              {
                "id": 0,
                "start": 0,
                "end": 0,
                "properties": {},
                "label": "",
                "color": "#15AFAC",
                "thickness_factor": 1,
                "directed": false
              },
              {
                "id": 1,
                "start": 0,
                "end": 1,
                "properties": {},
                "label": "",
                "color": "#15AFAC",
                "thickness_factor": 1,
                "directed": false
              },
              {
                "id": 2,
                "start": 0,
                "end": 2,
                "properties": {},
                "label": "",
                "color": "#15AFAC",
                "thickness_factor": 1,
                "directed": false
              },
              {
                "id": 3,
                "start": 0,
                "end": 3,
                "properties": {},
                "label": "",
                "color": "#15AFAC",
                "thickness_factor": 1,
                "directed": false
              },
              {
                "id": 4,
                "start": 0,
                "end": 4,
                "properties": {},
                "label": "",
                "color": "#15AFAC",
                "thickness_factor": 1,
                "directed": false
              },
              {
                "id": 5,
                "start": 0,
                "end": 5,
                "properties": {},
                "label": "",
                "color": "#15AFAC",
                "thickness_factor": 1,
                "directed": false
              },
              {
                "id": 6,
                "start": 0,
                "end": 6,
                "properties": {},
                "label": "",
                "color": "#15AFAC",
                "thickness_factor": 1,
                "directed": false
              },
              {
                "id": 7,
                "start": 0,
                "end": 7,
                "properties": {},
                "label": "",
                "color": "#15AFAC",
                "thickness_factor": 1,
                "directed": false
              },
              {
                "id": 8,
                "start": 0,
                "end": 8,
                "properties": {},
                "label": "",
                "color": "#15AFAC",
                "thickness_factor": 1,
                "directed": false
              },
              {
                "id": 9,
                "start": 0,
                "end": 9,
                "properties": {},
                "label": "",
                "color": "#15AFAC",
                "thickness_factor": 1,
                "directed": false
              },
              {
                "id": 10,
                "start": 0,
                "end": 10,
                "properties": {},
                "label": "",
                "color": "#15AFAC",
                "thickness_factor": 1,
                "directed": false
              },
              {
                "id": 11,
                "start": 1,
                "end": 2,
                "properties": {
                  "weight": 4
                },
                "label": "",
                "color": "#15AFAC",
                "thickness_factor": 1,
                "directed": false
              },
              {
                "id": 12,
                "start": 1,
                "end": 2,
                "properties": {},
                "label": "",
                "color": "#15AFAC",
                "thickness_factor": 1,
                "directed": false
              },
              {
                "id": 13,
                "start": 1,
                "end": 2,
                "properties": {},
                "label": "",
                "color": "#15AFAC",
                "thickness_factor": 1,
                "directed": false
              },
              {
                "id": 14,
                "start": 1,
                "end": 2,
                "properties": {
                  "weight": 4.7
                },
                "label": "",
                "color": "#15AFAC",
                "thickness_factor": 1,
                "directed": false
              },
              {
                "id": 15,
                "start": 1,
                "end": 2,
                "properties": {
                  "color": "blue"
                },
                "label": "",
                "color": "#15AFAC",
                "thickness_factor": 1,
                "directed": false
              },
              {
                "id": 16,
                "start": 1,
                "end": 3,
                "properties": {},
                "label": "",
                "color": "#15AFAC",
                "thickness_factor": 1,
                "directed": false
              },
              {
                "id": 17,
                "start": 1,
                "end": 4,
                "properties": {},
                "label": "",
                "color": "#15AFAC",
                "thickness_factor": 1,
                "directed": false
              },
              {
                "id": 18,
                "start": 2,
                "end": 3,
                "properties": {},
                "label": "",
                "color": "#15AFAC",
                "thickness_factor": 1,
                "directed": false
              },
              {
                "id": 19,
                "start": 2,
                "end": 3,
                "properties": {
                  "weight": 8
                },
                "label": "",
                "color": "#15AFAC",
                "thickness_factor": 1,
                "directed": false
              },
              {
                "id": 20,
                "start": 3,
                "end": 5,
                "properties": {},
                "label": "",
                "color": "#15AFAC",
                "thickness_factor": 1,
                "directed": false
              },
              {
                "id": 21,
                "start": 3,
                "end": 5,
                "properties": {
                  "color": "red"
                },
                "label": "",
                "color": "#15AFAC",
                "thickness_factor": 1,
                "directed": false
              },
              {
                "id": 22,
                "start": 5,
                "end": 6,
                "properties": {},
                "label": "",
                "color": "#15AFAC",
                "thickness_factor": 1,
                "directed": false
              },
              {
                "id": 23,
                "start": 5,
                "end": 6,
                "properties": {
                  "route": 282
                },
                "label": "",
                "color": "#15AFAC",
                "thickness_factor": 1,
                "directed": false
              },
              {
                "id": 24,
                "start": 5,
                "end": 6,
                "properties": {
                  "route": 37
                },
                "label": "",
                "color": "#15AFAC",
                "thickness_factor": 1,
                "directed": false
              },
              {
                "id": 25,
                "start": 5,
                "end": 6,
                "properties": {
                  "color": "red"
                },
                "label": "",
                "color": "#15AFAC",
                "thickness_factor": 1,
                "directed": false
              },
              {
                "id": 26,
                "start": 6,
                "end": 7,
                "properties": {},
                "label": "",
                "color": "#15AFAC",
                "thickness_factor": 1,
                "directed": false
              },
              {
                "id": 27,
                "start": 7,
                "end": 8,
                "properties": {},
                "label": "",
                "color": "#15AFAC",
                "thickness_factor": 1,
                "directed": false
              },
              {
                "id": 28,
                "start": 8,
                "end": 9,
                "properties": {},
                "label": "",
                "color": "#15AFAC",
                "thickness_factor": 1,
                "directed": false
              },
              {
                "id": 29,
                "start": 9,
                "end": 10,
                "properties": {},
                "label": "",
                "color": "#15AFAC",
                "thickness_factor": 1,
                "directed": false
              }
            ],
            "_graph_layout": {},
            "_highlight": [],
            "_license": {},
            "_model_module": "yfiles-jupyter-graphs",
            "_model_module_version": "^1.8.1",
            "_model_name": "GraphModel",
            "_neighborhood": {},
            "_nodes": [
              {
                "id": 0,
                "properties": {
                  "label": "origin"
                },
                "color": "#15AFAC",
                "styles": {},
                "label": "origin",
                "scale_factor": 1,
                "type": "#15AFAC",
                "size": [
                  55,
                  55
                ],
                "position": [
                  0,
                  0
                ]
              },
              {
                "id": 1,
                "properties": {
                  "time": "5pm",
                  "label": "1"
                },
                "color": "#15AFAC",
                "styles": {},
                "label": "1",
                "scale_factor": 1,
                "type": "#15AFAC",
                "size": [
                  55,
                  55
                ],
                "position": [
                  0,
                  0
                ]
              },
              {
                "id": 2,
                "properties": {
                  "label": "2"
                },
                "color": "#15AFAC",
                "styles": {},
                "label": "2",
                "scale_factor": 1,
                "type": "#15AFAC",
                "size": [
                  55,
                  55
                ],
                "position": [
                  0,
                  0
                ]
              },
              {
                "id": 3,
                "properties": {
                  "time": "2pm",
                  "label": "3"
                },
                "color": "#15AFAC",
                "styles": {},
                "label": "3",
                "scale_factor": 1,
                "type": "#15AFAC",
                "size": [
                  55,
                  55
                ],
                "position": [
                  0,
                  0
                ]
              },
              {
                "id": 4,
                "properties": {
                  "label": "0"
                },
                "color": "#15AFAC",
                "styles": {},
                "label": "0",
                "scale_factor": 1,
                "type": "#15AFAC",
                "size": [
                  55,
                  55
                ],
                "position": [
                  0,
                  0
                ]
              },
              {
                "id": 5,
                "properties": {
                  "label": "4"
                },
                "color": "#15AFAC",
                "styles": {},
                "label": "4",
                "scale_factor": 1,
                "type": "#15AFAC",
                "size": [
                  55,
                  55
                ],
                "position": [
                  0,
                  0
                ]
              },
              {
                "id": 6,
                "properties": {
                  "label": "5"
                },
                "color": "#15AFAC",
                "styles": {},
                "label": "5",
                "scale_factor": 1,
                "type": "#15AFAC",
                "size": [
                  55,
                  55
                ],
                "position": [
                  0,
                  0
                ]
              },
              {
                "id": 7,
                "properties": {
                  "label": "6"
                },
                "color": "#15AFAC",
                "styles": {},
                "label": "6",
                "scale_factor": 1,
                "type": "#15AFAC",
                "size": [
                  55,
                  55
                ],
                "position": [
                  0,
                  0
                ]
              },
              {
                "id": 8,
                "properties": {
                  "label": "7"
                },
                "color": "#15AFAC",
                "styles": {},
                "label": "7",
                "scale_factor": 1,
                "type": "#15AFAC",
                "size": [
                  55,
                  55
                ],
                "position": [
                  0,
                  0
                ]
              },
              {
                "id": 9,
                "properties": {
                  "label": "8"
                },
                "color": "#15AFAC",
                "styles": {},
                "label": "8",
                "scale_factor": 1,
                "type": "#15AFAC",
                "size": [
                  55,
                  55
                ],
                "position": [
                  0,
                  0
                ]
              },
              {
                "id": 10,
                "properties": {
                  "label": "9"
                },
                "color": "#15AFAC",
                "styles": {},
                "label": "9",
                "scale_factor": 1,
                "type": "#15AFAC",
                "size": [
                  55,
                  55
                ],
                "position": [
                  0,
                  0
                ]
              }
            ],
            "_overview": {
              "enabled": null,
              "overview_set": false
            },
            "_selected_graph": [
              [],
              []
            ],
            "_sidebar": {
              "enabled": false,
              "start_with": null
            },
            "_view_count": null,
            "_view_module": "yfiles-jupyter-graphs",
            "_view_module_version": "^1.8.1",
            "_view_name": "GraphView",
            "layout": "IPY_MODEL_0284de82dd1a49eeac8971f8d977ed09",
            "tabbable": null,
            "tooltip": null
          }
        },
        "0284de82dd1a49eeac8971f8d977ed09": {
          "model_module": "@jupyter-widgets/base",
          "model_name": "LayoutModel",
          "model_module_version": "2.0.0",
          "state": {
            "_model_module": "@jupyter-widgets/base",
            "_model_module_version": "2.0.0",
            "_model_name": "LayoutModel",
            "_view_count": null,
            "_view_module": "@jupyter-widgets/base",
            "_view_module_version": "2.0.0",
            "_view_name": "LayoutView",
            "align_content": null,
            "align_items": null,
            "align_self": null,
            "border_bottom": null,
            "border_left": null,
            "border_right": null,
            "border_top": null,
            "bottom": null,
            "display": null,
            "flex": null,
            "flex_flow": null,
            "grid_area": null,
            "grid_auto_columns": null,
            "grid_auto_flow": null,
            "grid_auto_rows": null,
            "grid_column": null,
            "grid_gap": null,
            "grid_row": null,
            "grid_template_areas": null,
            "grid_template_columns": null,
            "grid_template_rows": null,
            "height": "610px",
            "justify_content": null,
            "justify_items": null,
            "left": null,
            "margin": null,
            "max_height": null,
            "max_width": null,
            "min_height": null,
            "min_width": null,
            "object_fit": null,
            "object_position": null,
            "order": null,
            "overflow": null,
            "padding": null,
            "right": null,
            "top": null,
            "visibility": null,
            "width": "100%"
          }
        },
        "97b071e333f248858951f54c3f2b6f2f": {
          "model_module": "yfiles-jupyter-graphs",
          "model_name": "GraphModel",
          "model_module_version": "^1.8.1",
          "state": {
            "_context_pane_mapping": [
              {
                "id": "Neighborhood",
                "title": "Neighborhood"
              },
              {
                "id": "Data",
                "title": "Data"
              },
              {
                "id": "Search",
                "title": "Search"
              },
              {
                "id": "About",
                "title": "About"
              }
            ],
            "_data_importer": "networkx",
            "_directed": true,
            "_dom_classes": [],
            "_edges": [
              {
                "id": 0,
                "start": 0,
                "end": 0,
                "properties": {},
                "label": "",
                "color": "#15AFAC",
                "thickness_factor": 1,
                "directed": true
              },
              {
                "id": 1,
                "start": 0,
                "end": 1,
                "properties": {},
                "label": "",
                "color": "#15AFAC",
                "thickness_factor": 1,
                "directed": true
              },
              {
                "id": 2,
                "start": 0,
                "end": 2,
                "properties": {},
                "label": "",
                "color": "#15AFAC",
                "thickness_factor": 1,
                "directed": true
              },
              {
                "id": 3,
                "start": 0,
                "end": 3,
                "properties": {},
                "label": "",
                "color": "#15AFAC",
                "thickness_factor": 1,
                "directed": true
              },
              {
                "id": 4,
                "start": 0,
                "end": 4,
                "properties": {},
                "label": "",
                "color": "#15AFAC",
                "thickness_factor": 1,
                "directed": true
              },
              {
                "id": 5,
                "start": 0,
                "end": 5,
                "properties": {},
                "label": "",
                "color": "#15AFAC",
                "thickness_factor": 1,
                "directed": true
              },
              {
                "id": 6,
                "start": 0,
                "end": 6,
                "properties": {},
                "label": "",
                "color": "#15AFAC",
                "thickness_factor": 1,
                "directed": true
              },
              {
                "id": 7,
                "start": 0,
                "end": 7,
                "properties": {},
                "label": "",
                "color": "#15AFAC",
                "thickness_factor": 1,
                "directed": true
              },
              {
                "id": 8,
                "start": 0,
                "end": 8,
                "properties": {},
                "label": "",
                "color": "#15AFAC",
                "thickness_factor": 1,
                "directed": true
              },
              {
                "id": 9,
                "start": 0,
                "end": 9,
                "properties": {},
                "label": "",
                "color": "#15AFAC",
                "thickness_factor": 1,
                "directed": true
              },
              {
                "id": 10,
                "start": 0,
                "end": 10,
                "properties": {},
                "label": "",
                "color": "#15AFAC",
                "thickness_factor": 1,
                "directed": true
              },
              {
                "id": 11,
                "start": 1,
                "end": 2,
                "properties": {
                  "weight": 4
                },
                "label": "",
                "color": "#15AFAC",
                "thickness_factor": 1,
                "directed": true
              },
              {
                "id": 12,
                "start": 1,
                "end": 2,
                "properties": {},
                "label": "",
                "color": "#15AFAC",
                "thickness_factor": 1,
                "directed": true
              },
              {
                "id": 13,
                "start": 1,
                "end": 2,
                "properties": {},
                "label": "",
                "color": "#15AFAC",
                "thickness_factor": 1,
                "directed": true
              },
              {
                "id": 14,
                "start": 1,
                "end": 2,
                "properties": {
                  "weight": 4.7
                },
                "label": "",
                "color": "#15AFAC",
                "thickness_factor": 1,
                "directed": true
              },
              {
                "id": 15,
                "start": 1,
                "end": 2,
                "properties": {
                  "color": "blue"
                },
                "label": "",
                "color": "#15AFAC",
                "thickness_factor": 1,
                "directed": true
              },
              {
                "id": 16,
                "start": 1,
                "end": 3,
                "properties": {},
                "label": "",
                "color": "#15AFAC",
                "thickness_factor": 1,
                "directed": true
              },
              {
                "id": 17,
                "start": 2,
                "end": 3,
                "properties": {},
                "label": "",
                "color": "#15AFAC",
                "thickness_factor": 1,
                "directed": true
              },
              {
                "id": 18,
                "start": 2,
                "end": 3,
                "properties": {
                  "weight": 8
                },
                "label": "",
                "color": "#15AFAC",
                "thickness_factor": 1,
                "directed": true
              },
              {
                "id": 19,
                "start": 3,
                "end": 5,
                "properties": {},
                "label": "",
                "color": "#15AFAC",
                "thickness_factor": 1,
                "directed": true
              },
              {
                "id": 20,
                "start": 3,
                "end": 5,
                "properties": {
                  "color": "red"
                },
                "label": "",
                "color": "#15AFAC",
                "thickness_factor": 1,
                "directed": true
              },
              {
                "id": 21,
                "start": 4,
                "end": 1,
                "properties": {},
                "label": "",
                "color": "#15AFAC",
                "thickness_factor": 1,
                "directed": true
              },
              {
                "id": 22,
                "start": 5,
                "end": 6,
                "properties": {},
                "label": "",
                "color": "#15AFAC",
                "thickness_factor": 1,
                "directed": true
              },
              {
                "id": 23,
                "start": 5,
                "end": 6,
                "properties": {
                  "route": 282
                },
                "label": "",
                "color": "#15AFAC",
                "thickness_factor": 1,
                "directed": true
              },
              {
                "id": 24,
                "start": 5,
                "end": 6,
                "properties": {
                  "route": 37
                },
                "label": "",
                "color": "#15AFAC",
                "thickness_factor": 1,
                "directed": true
              },
              {
                "id": 25,
                "start": 5,
                "end": 6,
                "properties": {
                  "color": "red"
                },
                "label": "",
                "color": "#15AFAC",
                "thickness_factor": 1,
                "directed": true
              },
              {
                "id": 26,
                "start": 6,
                "end": 7,
                "properties": {},
                "label": "",
                "color": "#15AFAC",
                "thickness_factor": 1,
                "directed": true
              },
              {
                "id": 27,
                "start": 7,
                "end": 8,
                "properties": {},
                "label": "",
                "color": "#15AFAC",
                "thickness_factor": 1,
                "directed": true
              },
              {
                "id": 28,
                "start": 8,
                "end": 9,
                "properties": {},
                "label": "",
                "color": "#15AFAC",
                "thickness_factor": 1,
                "directed": true
              },
              {
                "id": 29,
                "start": 9,
                "end": 10,
                "properties": {},
                "label": "",
                "color": "#15AFAC",
                "thickness_factor": 1,
                "directed": true
              }
            ],
            "_graph_layout": {},
            "_highlight": [],
            "_license": {},
            "_model_module": "yfiles-jupyter-graphs",
            "_model_module_version": "^1.8.1",
            "_model_name": "GraphModel",
            "_neighborhood": {},
            "_nodes": [
              {
                "id": 0,
                "properties": {
                  "label": "origin"
                },
                "color": "#15AFAC",
                "styles": {},
                "label": "origin",
                "scale_factor": 1,
                "type": "#15AFAC",
                "size": [
                  55,
                  55
                ],
                "position": [
                  0,
                  0
                ]
              },
              {
                "id": 1,
                "properties": {
                  "time": "5pm",
                  "label": "1"
                },
                "color": "#15AFAC",
                "styles": {},
                "label": "1",
                "scale_factor": 1,
                "type": "#15AFAC",
                "size": [
                  55,
                  55
                ],
                "position": [
                  0,
                  0
                ]
              },
              {
                "id": 2,
                "properties": {
                  "label": "2"
                },
                "color": "#15AFAC",
                "styles": {},
                "label": "2",
                "scale_factor": 1,
                "type": "#15AFAC",
                "size": [
                  55,
                  55
                ],
                "position": [
                  0,
                  0
                ]
              },
              {
                "id": 3,
                "properties": {
                  "time": "2pm",
                  "label": "3"
                },
                "color": "#15AFAC",
                "styles": {},
                "label": "3",
                "scale_factor": 1,
                "type": "#15AFAC",
                "size": [
                  55,
                  55
                ],
                "position": [
                  0,
                  0
                ]
              },
              {
                "id": 4,
                "properties": {
                  "label": "0"
                },
                "color": "#15AFAC",
                "styles": {},
                "label": "0",
                "scale_factor": 1,
                "type": "#15AFAC",
                "size": [
                  55,
                  55
                ],
                "position": [
                  0,
                  0
                ]
              },
              {
                "id": 5,
                "properties": {
                  "label": "4"
                },
                "color": "#15AFAC",
                "styles": {},
                "label": "4",
                "scale_factor": 1,
                "type": "#15AFAC",
                "size": [
                  55,
                  55
                ],
                "position": [
                  0,
                  0
                ]
              },
              {
                "id": 6,
                "properties": {
                  "label": "5"
                },
                "color": "#15AFAC",
                "styles": {},
                "label": "5",
                "scale_factor": 1,
                "type": "#15AFAC",
                "size": [
                  55,
                  55
                ],
                "position": [
                  0,
                  0
                ]
              },
              {
                "id": 7,
                "properties": {
                  "label": "6"
                },
                "color": "#15AFAC",
                "styles": {},
                "label": "6",
                "scale_factor": 1,
                "type": "#15AFAC",
                "size": [
                  55,
                  55
                ],
                "position": [
                  0,
                  0
                ]
              },
              {
                "id": 8,
                "properties": {
                  "label": "7"
                },
                "color": "#15AFAC",
                "styles": {},
                "label": "7",
                "scale_factor": 1,
                "type": "#15AFAC",
                "size": [
                  55,
                  55
                ],
                "position": [
                  0,
                  0
                ]
              },
              {
                "id": 9,
                "properties": {
                  "label": "8"
                },
                "color": "#15AFAC",
                "styles": {},
                "label": "8",
                "scale_factor": 1,
                "type": "#15AFAC",
                "size": [
                  55,
                  55
                ],
                "position": [
                  0,
                  0
                ]
              },
              {
                "id": 10,
                "properties": {
                  "label": "9"
                },
                "color": "#15AFAC",
                "styles": {},
                "label": "9",
                "scale_factor": 1,
                "type": "#15AFAC",
                "size": [
                  55,
                  55
                ],
                "position": [
                  0,
                  0
                ]
              }
            ],
            "_overview": {
              "enabled": null,
              "overview_set": false
            },
            "_selected_graph": [
              [],
              []
            ],
            "_sidebar": {
              "enabled": false,
              "start_with": null
            },
            "_view_count": null,
            "_view_module": "yfiles-jupyter-graphs",
            "_view_module_version": "^1.8.1",
            "_view_name": "GraphView",
            "layout": "IPY_MODEL_ec1e4f0af77441e296cacbcee124b4ba",
            "tabbable": null,
            "tooltip": null
          }
        },
        "ec1e4f0af77441e296cacbcee124b4ba": {
          "model_module": "@jupyter-widgets/base",
          "model_name": "LayoutModel",
          "model_module_version": "2.0.0",
          "state": {
            "_model_module": "@jupyter-widgets/base",
            "_model_module_version": "2.0.0",
            "_model_name": "LayoutModel",
            "_view_count": null,
            "_view_module": "@jupyter-widgets/base",
            "_view_module_version": "2.0.0",
            "_view_name": "LayoutView",
            "align_content": null,
            "align_items": null,
            "align_self": null,
            "border_bottom": null,
            "border_left": null,
            "border_right": null,
            "border_top": null,
            "bottom": null,
            "display": null,
            "flex": null,
            "flex_flow": null,
            "grid_area": null,
            "grid_auto_columns": null,
            "grid_auto_flow": null,
            "grid_auto_rows": null,
            "grid_column": null,
            "grid_gap": null,
            "grid_row": null,
            "grid_template_areas": null,
            "grid_template_columns": null,
            "grid_template_rows": null,
            "height": "610px",
            "justify_content": null,
            "justify_items": null,
            "left": null,
            "margin": null,
            "max_height": null,
            "max_width": null,
            "min_height": null,
            "min_width": null,
            "object_fit": null,
            "object_position": null,
            "order": null,
            "overflow": null,
            "padding": null,
            "right": null,
            "top": null,
            "visibility": null,
            "width": "100%"
          }
        },
        "0b452d259a4e4fab9d4f5e52ab3ebe82": {
          "model_module": "yfiles-jupyter-graphs",
          "model_name": "GraphModel",
          "model_module_version": "^1.8.1",
          "state": {
            "_context_pane_mapping": [
              {
                "id": "Neighborhood",
                "title": "Neighborhood"
              },
              {
                "id": "Data",
                "title": "Data"
              },
              {
                "id": "Search",
                "title": "Search"
              },
              {
                "id": "About",
                "title": "About"
              }
            ],
            "_data_importer": "networkx",
            "_directed": false,
            "_dom_classes": [],
            "_edges": [
              {
                "id": 0,
                "start": 0,
                "end": 0,
                "properties": {},
                "label": "",
                "thickness_factor": 1,
                "directed": false
              },
              {
                "id": 1,
                "start": 0,
                "end": 1,
                "properties": {},
                "label": "",
                "thickness_factor": 1,
                "directed": false
              },
              {
                "id": 2,
                "start": 0,
                "end": 2,
                "properties": {},
                "label": "",
                "thickness_factor": 1,
                "directed": false
              },
              {
                "id": 3,
                "start": 0,
                "end": 3,
                "properties": {},
                "label": "",
                "thickness_factor": 1,
                "directed": false
              },
              {
                "id": 4,
                "start": 0,
                "end": 4,
                "properties": {},
                "label": "",
                "thickness_factor": 1,
                "directed": false
              },
              {
                "id": 5,
                "start": 0,
                "end": 5,
                "properties": {},
                "label": "",
                "thickness_factor": 1,
                "directed": false
              },
              {
                "id": 6,
                "start": 0,
                "end": 6,
                "properties": {},
                "label": "",
                "thickness_factor": 1,
                "directed": false
              },
              {
                "id": 7,
                "start": 0,
                "end": 7,
                "properties": {},
                "label": "",
                "thickness_factor": 1,
                "directed": false
              },
              {
                "id": 8,
                "start": 0,
                "end": 8,
                "properties": {},
                "label": "",
                "thickness_factor": 1,
                "directed": false
              },
              {
                "id": 9,
                "start": 0,
                "end": 9,
                "properties": {},
                "label": "",
                "thickness_factor": 1,
                "directed": false
              },
              {
                "id": 10,
                "start": 0,
                "end": 10,
                "properties": {},
                "label": "",
                "thickness_factor": 1,
                "directed": false
              },
              {
                "id": 11,
                "start": 1,
                "end": 2,
                "properties": {
                  "weight": 4,
                  "color": "blue"
                },
                "label": "",
                "color": "blue",
                "thickness_factor": 1,
                "directed": false
              },
              {
                "id": 12,
                "start": 1,
                "end": 3,
                "properties": {},
                "label": "",
                "thickness_factor": 1,
                "directed": false
              },
              {
                "id": 13,
                "start": 1,
                "end": 4,
                "properties": {},
                "label": "",
                "thickness_factor": 1,
                "directed": false
              },
              {
                "id": 14,
                "start": 2,
                "end": 3,
                "properties": {
                  "weight": 8
                },
                "label": "",
                "thickness_factor": 1,
                "directed": false
              },
              {
                "id": 15,
                "start": 3,
                "end": 5,
                "properties": {
                  "color": "red"
                },
                "label": "",
                "color": "red",
                "thickness_factor": 1,
                "directed": false
              },
              {
                "id": 16,
                "start": 5,
                "end": 6,
                "properties": {
                  "color": "red"
                },
                "label": "",
                "color": "red",
                "thickness_factor": 1,
                "directed": false
              },
              {
                "id": 17,
                "start": 6,
                "end": 7,
                "properties": {},
                "label": "",
                "thickness_factor": 1,
                "directed": false
              },
              {
                "id": 18,
                "start": 7,
                "end": 8,
                "properties": {},
                "label": "",
                "thickness_factor": 1,
                "directed": false
              },
              {
                "id": 19,
                "start": 8,
                "end": 9,
                "properties": {},
                "label": "",
                "thickness_factor": 1,
                "directed": false
              },
              {
                "id": 20,
                "start": 9,
                "end": 10,
                "properties": {},
                "label": "",
                "thickness_factor": 1,
                "directed": false
              }
            ],
            "_graph_layout": {},
            "_highlight": [],
            "_license": {},
            "_model_module": "yfiles-jupyter-graphs",
            "_model_module_version": "^1.8.1",
            "_model_name": "GraphModel",
            "_neighborhood": {},
            "_nodes": [
              {
                "id": 0,
                "properties": {
                  "label": "origin"
                },
                "color": "#15AFAC",
                "styles": {},
                "label": "origin",
                "scale_factor": 1,
                "type": "#15AFAC",
                "size": [
                  55,
                  55
                ],
                "position": [
                  0,
                  0
                ]
              },
              {
                "id": 1,
                "properties": {
                  "time": "5pm",
                  "room": 714,
                  "label": "1"
                },
                "color": "#15AFAC",
                "styles": {},
                "label": "1",
                "scale_factor": 1,
                "type": "#15AFAC",
                "size": [
                  55,
                  55
                ],
                "position": [
                  0,
                  0
                ]
              },
              {
                "id": 2,
                "properties": {
                  "label": "2"
                },
                "color": "#15AFAC",
                "styles": {},
                "label": "2",
                "scale_factor": 1,
                "type": "#15AFAC",
                "size": [
                  55,
                  55
                ],
                "position": [
                  0,
                  0
                ]
              },
              {
                "id": 3,
                "properties": {
                  "time": "2pm",
                  "label": "3"
                },
                "color": "#15AFAC",
                "styles": {},
                "label": "3",
                "scale_factor": 1,
                "type": "#15AFAC",
                "size": [
                  55,
                  55
                ],
                "position": [
                  0,
                  0
                ]
              },
              {
                "id": 4,
                "properties": {
                  "label": "0"
                },
                "color": "#15AFAC",
                "styles": {},
                "label": "0",
                "scale_factor": 1,
                "type": "#15AFAC",
                "size": [
                  55,
                  55
                ],
                "position": [
                  0,
                  0
                ]
              },
              {
                "id": 5,
                "properties": {
                  "label": "4"
                },
                "color": "#15AFAC",
                "styles": {},
                "label": "4",
                "scale_factor": 1,
                "type": "#15AFAC",
                "size": [
                  55,
                  55
                ],
                "position": [
                  0,
                  0
                ]
              },
              {
                "id": 6,
                "properties": {
                  "label": "5"
                },
                "color": "#15AFAC",
                "styles": {},
                "label": "5",
                "scale_factor": 1,
                "type": "#15AFAC",
                "size": [
                  55,
                  55
                ],
                "position": [
                  0,
                  0
                ]
              },
              {
                "id": 7,
                "properties": {
                  "label": "6"
                },
                "color": "#15AFAC",
                "styles": {},
                "label": "6",
                "scale_factor": 1,
                "type": "#15AFAC",
                "size": [
                  55,
                  55
                ],
                "position": [
                  0,
                  0
                ]
              },
              {
                "id": 8,
                "properties": {
                  "label": "7"
                },
                "color": "#15AFAC",
                "styles": {},
                "label": "7",
                "scale_factor": 1,
                "type": "#15AFAC",
                "size": [
                  55,
                  55
                ],
                "position": [
                  0,
                  0
                ]
              },
              {
                "id": 9,
                "properties": {
                  "label": "8"
                },
                "color": "#15AFAC",
                "styles": {},
                "label": "8",
                "scale_factor": 1,
                "type": "#15AFAC",
                "size": [
                  55,
                  55
                ],
                "position": [
                  0,
                  0
                ]
              },
              {
                "id": 10,
                "properties": {
                  "label": "9"
                },
                "color": "#15AFAC",
                "styles": {},
                "label": "9",
                "scale_factor": 1,
                "type": "#15AFAC",
                "size": [
                  55,
                  55
                ],
                "position": [
                  0,
                  0
                ]
              }
            ],
            "_overview": {
              "enabled": null,
              "overview_set": false
            },
            "_selected_graph": [
              [],
              []
            ],
            "_sidebar": {
              "enabled": false,
              "start_with": null
            },
            "_view_count": null,
            "_view_module": "yfiles-jupyter-graphs",
            "_view_module_version": "^1.8.1",
            "_view_name": "GraphView",
            "layout": "IPY_MODEL_fc6880b76db24349a5e0e103ba7a22a8",
            "tabbable": null,
            "tooltip": null
          }
        },
        "fc6880b76db24349a5e0e103ba7a22a8": {
          "model_module": "@jupyter-widgets/base",
          "model_name": "LayoutModel",
          "model_module_version": "2.0.0",
          "state": {
            "_model_module": "@jupyter-widgets/base",
            "_model_module_version": "2.0.0",
            "_model_name": "LayoutModel",
            "_view_count": null,
            "_view_module": "@jupyter-widgets/base",
            "_view_module_version": "2.0.0",
            "_view_name": "LayoutView",
            "align_content": null,
            "align_items": null,
            "align_self": null,
            "border_bottom": null,
            "border_left": null,
            "border_right": null,
            "border_top": null,
            "bottom": null,
            "display": null,
            "flex": null,
            "flex_flow": null,
            "grid_area": null,
            "grid_auto_columns": null,
            "grid_auto_flow": null,
            "grid_auto_rows": null,
            "grid_column": null,
            "grid_gap": null,
            "grid_row": null,
            "grid_template_areas": null,
            "grid_template_columns": null,
            "grid_template_rows": null,
            "height": "610px",
            "justify_content": null,
            "justify_items": null,
            "left": null,
            "margin": null,
            "max_height": null,
            "max_width": null,
            "min_height": null,
            "min_width": null,
            "object_fit": null,
            "object_position": null,
            "order": null,
            "overflow": null,
            "padding": null,
            "right": null,
            "top": null,
            "visibility": null,
            "width": "100%"
          }
        },
        "state": {}
      }
    }
  },
  "nbformat": 4,
  "nbformat_minor": 5
}