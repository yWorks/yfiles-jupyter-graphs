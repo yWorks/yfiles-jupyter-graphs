{
  "cells": [
    {
      "cell_type": "markdown",
      "id": "675ab9b2-219d-490d-8efd-45dbd77c26b9",
      "metadata": {
        "id": "675ab9b2-219d-490d-8efd-45dbd77c26b9"
      },
      "source": [
        "# Heat Mapping <a target=\"_blank\" href=\"https://colab.research.google.com/github/yWorks/yfiles-jupyter-graphs/blob/main/examples/29_heat_mapping.ipynb\"><img src=\"https://colab.research.google.com/assets/colab-badge.svg\" alt=\"Open In Colab\"/></a>\n",
        "\n",
        "Before using the graph widget, install all necessary packages and initialize your widget."
      ]
    },
    {
      "cell_type": "code",
      "execution_count": 1,
      "id": "acb80d9e-112d-4e03-9915-c074c03a871a",
      "metadata": {
        "id": "acb80d9e-112d-4e03-9915-c074c03a871a",
        "outputId": "c73ac286-8340-4b85-cc40-6b5e68393754",
        "colab": {
          "base_uri": "https://localhost:8080/",
          "height": 90
        }
      },
      "outputs": [
        {
          "output_type": "stream",
          "name": "stdout",
          "text": [
            "\u001b[2K   \u001b[90m\u2501\u2501\u2501\u2501\u2501\u2501\u2501\u2501\u2501\u2501\u2501\u2501\u2501\u2501\u2501\u2501\u2501\u2501\u2501\u2501\u2501\u2501\u2501\u2501\u2501\u2501\u2501\u2501\u2501\u2501\u2501\u2501\u2501\u2501\u2501\u2501\u2501\u2501\u2501\u2501\u001b[0m \u001b[32m15.6/15.6 MB\u001b[0m \u001b[31m56.6 MB/s\u001b[0m eta \u001b[36m0:00:00\u001b[0m\n",
            "\u001b[2K   \u001b[90m\u2501\u2501\u2501\u2501\u2501\u2501\u2501\u2501\u2501\u2501\u2501\u2501\u2501\u2501\u2501\u2501\u2501\u2501\u2501\u2501\u2501\u2501\u2501\u2501\u2501\u2501\u2501\u2501\u2501\u2501\u2501\u2501\u2501\u2501\u2501\u2501\u2501\u2501\u2501\u2501\u001b[0m \u001b[32m139.8/139.8 kB\u001b[0m \u001b[31m9.0 MB/s\u001b[0m eta \u001b[36m0:00:00\u001b[0m\n",
            "\u001b[2K   \u001b[90m\u2501\u2501\u2501\u2501\u2501\u2501\u2501\u2501\u2501\u2501\u2501\u2501\u2501\u2501\u2501\u2501\u2501\u2501\u2501\u2501\u2501\u2501\u2501\u2501\u2501\u2501\u2501\u2501\u2501\u2501\u2501\u2501\u2501\u2501\u2501\u2501\u2501\u2501\u2501\u2501\u001b[0m \u001b[32m2.3/2.3 MB\u001b[0m \u001b[31m54.9 MB/s\u001b[0m eta \u001b[36m0:00:00\u001b[0m\n",
            "\u001b[2K   \u001b[90m\u2501\u2501\u2501\u2501\u2501\u2501\u2501\u2501\u2501\u2501\u2501\u2501\u2501\u2501\u2501\u2501\u2501\u2501\u2501\u2501\u2501\u2501\u2501\u2501\u2501\u2501\u2501\u2501\u2501\u2501\u2501\u2501\u2501\u2501\u2501\u2501\u2501\u2501\u2501\u2501\u001b[0m \u001b[32m1.6/1.6 MB\u001b[0m \u001b[31m46.0 MB/s\u001b[0m eta \u001b[36m0:00:00\u001b[0m\n",
            "\u001b[?25h"
          ]
        }
      ],
      "source": [
        "%pip install yfiles_jupyter_graphs --quiet\n",
        "from yfiles_jupyter_graphs import GraphWidget\n",
        "w = GraphWidget()"
      ]
    },
    {
      "cell_type": "markdown",
      "id": "26a2bbb9-7f41-485c-82d5-541b21539996",
      "metadata": {
        "id": "26a2bbb9-7f41-485c-82d5-541b21539996"
      },
      "source": [
        "You can also open this notebook in Google Colab when Google Colab's custom widget manager is enabled:"
      ]
    },
    {
      "cell_type": "code",
      "execution_count": 2,
      "id": "bb9670f9-698b-4a8d-a961-3263dc709e44",
      "metadata": {
        "id": "bb9670f9-698b-4a8d-a961-3263dc709e44"
      },
      "outputs": [],
      "source": [
        "try:\n",
        "  import google.colab\n",
        "  from google.colab import output\n",
        "  output.enable_custom_widget_manager()\n",
        "except:\n",
        "  pass"
      ]
    },
    {
      "cell_type": "markdown",
      "id": "8a1cc311-e290-47fe-8b8f-df0c91c4d14b",
      "metadata": {
        "id": "8a1cc311-e290-47fe-8b8f-df0c91c4d14b"
      },
      "source": [
        "<a target=\"_blank\" href=\"https://colab.research.google.com/github/yWorks/yfiles-jupyter-graphs/blob/main/examples/29_heat_mapping.ipynb\"><img src=\"https://colab.research.google.com/assets/colab-badge.svg\" alt=\"Open In Colab\"/></a>"
      ]
    },
    {
      "cell_type": "markdown",
      "id": "e9b0ac00-6de6-47c3-b599-f14389831c06",
      "metadata": {
        "id": "e9b0ac00-6de6-47c3-b599-f14389831c06"
      },
      "source": [
        "## Mapping Function\n",
        "\n",
        "The heatmapping is slightly different than other mappings, as there is one combined mapping for edges and nodes\n",
        "\n",
        "There are get, set and delete methods for the heatmap.\n",
        "- you can set a new heat mapping with ```w.set_heat_mapping```\n",
        "- you can get the current heat mapping with ```w.get_heat_mapping```\n",
        "- you can delete a custom heat mapping with ```w.del_heat_mapping```\n",
        "\n",
        "If no custom mapping is set the default mapping is used."
      ]
    },
    {
      "cell_type": "code",
      "execution_count": 3,
      "id": "69c45788-84d3-4b1b-8e8b-05dbd74bd8ab",
      "metadata": {
        "id": "69c45788-84d3-4b1b-8e8b-05dbd74bd8ab",
        "outputId": "ef396d93-4234-44ed-e72f-ac995dd24934",
        "colab": {
          "base_uri": "https://localhost:8080/"
        }
      },
      "outputs": [
        {
          "output_type": "stream",
          "name": "stdout",
          "text": [
            "The default scale factor mapping for nodes.\n",
            "\n",
            "                Provides constant value of None for all elements.\n",
            "\n",
            "                Parameters\n",
            "                ----------\n",
            "                index: int (optional)\n",
            "                element: typing.Dict\n",
            "\n",
            "                Notes\n",
            "                -----\n",
            "                This is the default value for the `heat_mapping` property.\n",
            "                Can be 'overwritten' by setting the property\n",
            "                with a function of the same signature.\n",
            "\n",
            "                If the given mapping function has only one parameter (that is not typed as int),\n",
            "                then it will be called with the element (typing.Dict) as first parameter.\n",
            "\n",
            "                Example\n",
            "                -------\n",
            "                .. code::\n",
            "\n",
            "                   from yfiles_jupyter_graphs import GraphWidget\n",
            "                   w = GraphWidget()\n",
            "                   def custom_heat_mapping(element: typing.Dict):\n",
            "                   ...\n",
            "                   w.set_heat_mapping(custom_heat_mapping)\n",
            "\n",
            "                Returns\n",
            "                -------\n",
            "                heat: float | None\n",
            "\n",
            "                \n"
          ]
        }
      ],
      "source": [
        "print(w.default_heat_mapping.__doc__)"
      ]
    },
    {
      "cell_type": "code",
      "execution_count": 4,
      "id": "d7a90608-4c1e-486a-8789-04ac80f0d395",
      "metadata": {
        "id": "d7a90608-4c1e-486a-8789-04ac80f0d395"
      },
      "outputs": [],
      "source": [
        "def heatmap(element):\n",
        "    load = 0.5\n",
        "    if 'start' in element:\n",
        "        #edge case\n",
        "        return 0\n",
        "    else:\n",
        "        # Calculate load based on number of edges\n",
        "        load += sum(0.1 for edge in w.edges if edge['end'] == element['id'])\n",
        "        load += sum(-0.1 for edge in w.edges if edge['start'] == element['id'])\n",
        "        # Calculate load based on capacity (if available)\n",
        "        if 'properties' in element and 'capacity' in element['properties']:\n",
        "            load += 1 - (element['properties']['capacity'] / 100)\n",
        "        # Calculate load based on duration (if available)\n",
        "        if 'properties' in element and 'duration' in element['properties']:\n",
        "            load += element['properties']['duration'] / 10\n",
        "        load = min(1, max(0, load))\n",
        "        return load\n",
        ""
      ]
    },
    {
      "cell_type": "markdown",
      "id": "4cc6bc9c-b259-46cc-9604-9c9cb250a375",
      "metadata": {
        "id": "4cc6bc9c-b259-46cc-9604-9c9cb250a375"
      },
      "source": [
        "We use a graph representing a production chain and add our heatmap according to the expected step load:"
      ]
    },
    {
      "cell_type": "code",
      "execution_count": 5,
      "id": "6732964b-649c-4ebc-a580-005464bf681d",
      "metadata": {
        "id": "6732964b-649c-4ebc-a580-005464bf681d",
        "outputId": "5652cc8e-09fc-42a3-e1c9-7ef9be433513",
        "colab": {
          "base_uri": "https://localhost:8080/",
          "height": 104
        }
      },
      "outputs": [
        {
          "output_type": "execute_result",
          "data": {
            "text/plain": [
              "<function __main__.heatmap(element)>"
            ],
            "text/html": [
              "<div style=\"max-width:800px; border: 1px solid var(--colab-border-color);\"><style>\n",
              "      pre.function-repr-contents {\n",
              "        overflow-x: auto;\n",
              "        padding: 8px 12px;\n",
              "        max-height: 500px;\n",
              "      }\n",
              "\n",
              "      pre.function-repr-contents.function-repr-contents-collapsed {\n",
              "        cursor: pointer;\n",
              "        max-height: 100px;\n",
              "      }\n",
              "    </style>\n",
              "    <pre style=\"white-space: initial; background:\n",
              "         var(--colab-secondary-surface-color); padding: 8px 12px;\n",
              "         border-bottom: 1px solid var(--colab-border-color);\"><b>heatmap</b><br/>def heatmap(element)</pre><pre class=\"function-repr-contents function-repr-contents-collapsed\" style=\"\"><a class=\"filepath\" style=\"display:none\" href=\"#\">/content/&lt;ipython-input-4-80ca803a77c1&gt;</a>&lt;no docstring&gt;</pre></div>"
            ]
          },
          "metadata": {},
          "execution_count": 5
        }
      ],
      "source": [
        "w.set_heat_mapping(heatmap)\n",
        "w.nodes = [\n",
        "    { \"id\": 1, \"properties\": {\"label\": \"Start\", \"capacity\": 50 }},\n",
        "    { \"id\": 3, \"properties\": {\"label\": \"Evaluation\", \"capacity\": 20 }},\n",
        "    { \"id\": 4, \"properties\": {\"label\": \"Move to Backlog\"}},\n",
        "    { \"id\": 5, \"properties\": {\"label\": \"Prepare\", \"capacity\": 20 }},\n",
        "    { \"id\": 6, \"properties\": {\"label\": \"Prepare Shortcut\"}},\n",
        "    { \"id\": 7, \"properties\": {\"label\": \"Step A-1\"}},\n",
        "    { \"id\": 9, \"properties\": {\"label\": \"Advance\", \"duration\": 3 }},\n",
        "    { \"id\": 10, \"properties\": {\"label\": \"Early Discard\"}},\n",
        "    { \"id\": 11, \"properties\": {\"label\": \"Step A-2\"}},\n",
        "    { \"id\": 12, \"properties\": {\"label\": \"Quick Preparation\"}},\n",
        "    { \"id\": 13, \"properties\": {\"label\": \"Backlog\", \"capacity\": 100 }},\n",
        "    { \"id\": 14, \"properties\": {\"label\": \"Step B\"}},\n",
        "    { \"id\": 16, \"properties\": {\"label\": \"End of Preparation\"}},\n",
        "    { \"id\": 17, \"properties\": {\"label\": \"Buffer\", \"capacity\": 30, \"duration\": 10 }},\n",
        "    { \"id\": 18, \"properties\": {\"label\": \"Main Processing\", \"capacity\": 70, \"duration\": 2 }},\n",
        "    { \"id\": 19, \"properties\": {\"label\": \"Refinement 1\", \"capacity\": 20, \"duration\": 1 }},\n",
        "    { \"id\": 20, \"properties\": {\"label\": \"Refinement 2\", \"capacity\": 60, \"duration\": 4 }},\n",
        "    { \"id\": 21, \"properties\": {\"label\": \"Testing\", \"capacity\": 70, \"duration\": 1 }},\n",
        "    { \"id\": 22, \"properties\": {\"label\": \"Delivery\", \"capacity\": 20 }},\n",
        "    { \"id\": 23, \"properties\": {\"label\": \"Rejection\", \"capacity\": 100 }},\n",
        "    { \"id\": 24, \"properties\": {\"label\": \"Store\", \"capacity\": 50, \"duration\": 5 }}\n",
        "]\n",
        "\n",
        "w.edges = [\n",
        "    { \"start\": 1, \"end\": 5, \"properties\": {} },\n",
        "    { \"start\": 1, \"end\": 2, \"properties\": {} },\n",
        "    { \"start\": 1, \"end\": 3 , \"properties\": {} },\n",
        "    { \"start\": 1, \"end\": 4, \"properties\": { \"probability\": 0.1 }},\n",
        "    { \"start\": 16, \"end\": 17, \"properties\": {}  },\n",
        "    { \"start\": 16, \"end\": 18, \"properties\": {}  },\n",
        "    { \"start\": 18, \"end\": 19, \"properties\": {}  },\n",
        "    { \"start\": 5, \"end\": 11, \"properties\": {}  },\n",
        "    { \"start\": 9, \"end\": 6, \"properties\": { \"probability\": 0.1 }},\n",
        "    { \"start\": 5, \"end\": 7, \"properties\": { \"probability\": 3 }},\n",
        "    { \"start\": 2, \"end\": 8 , \"properties\": {} },\n",
        "    { \"start\": 6, \"end\": 12 , \"properties\": {} },\n",
        "    { \"start\": 3, \"end\": 9 , \"properties\": {} },\n",
        "    { \"start\": 3, \"end\": 10, \"properties\": { \"probability\": 0.1 }},\n",
        "    { \"start\": 4, \"end\": 13 , \"properties\": {} },\n",
        "    { \"start\": 11, \"end\": 14 , \"properties\": {} },\n",
        "    { \"start\": 7, \"end\": 14, \"properties\": {}  },\n",
        "    { \"start\": 5, \"end\": 16, \"properties\": { \"probability\": 0.1 }},\n",
        "    { \"start\": 14, \"end\": 16 , \"properties\": {} },\n",
        "    { \"start\": 18, \"end\": 21 , \"properties\": {} },\n",
        "    { \"start\": 21, \"end\": 23, \"properties\": { \"probability\": 0.1 }},\n",
        "    { \"start\": 21, \"end\": 24 , \"properties\": {} },\n",
        "    { \"start\": 21, \"end\": 22 , \"properties\": {} },\n",
        "    { \"start\": 13, \"end\": 15 , \"properties\": {} },\n",
        "    { \"start\": 12, \"end\": 17 , \"properties\": {} },\n",
        "    { \"start\": 18, \"end\": 22 , \"properties\": {} },\n",
        "    { \"start\": 10, \"end\": 15 , \"properties\": {} },\n",
        "    { \"start\": 9, \"end\": 20, \"properties\": {}  },\n",
        "    { \"start\": 19, \"end\": 21 , \"properties\": {} },\n",
        "    { \"start\": 17, \"end\": 18 , \"properties\": {} },\n",
        "    { \"start\": 20, \"end\": 21 , \"properties\": {} }\n",
        "]\n",
        "w.hierarchic_layout()\n",
        "w.get_heat_mapping()"
      ]
    },
    {
      "cell_type": "code",
      "execution_count": 6,
      "id": "773513de-4b4e-492d-959d-e88116b4d4bb",
      "metadata": {
        "id": "773513de-4b4e-492d-959d-e88116b4d4bb",
        "outputId": "b36985f6-819e-4b95-96e4-66f345bfdf11",
        "colab": {
          "base_uri": "https://localhost:8080/",
          "height": 727,
          "referenced_widgets": [
            "d65abf3f03c44003860c8ef3a87a396a",
            "22f630a15b684f189ee67aa6e867d3b9"
          ]
        }
      },
      "outputs": [
        {
          "output_type": "display_data",
          "data": {
            "text/plain": [
              "GraphWidget(layout=Layout(height='710px', width='100%'))"
            ],
            "application/vnd.jupyter.widget-view+json": {
              "version_major": 2,
              "version_minor": 0,
              "model_id": "d65abf3f03c44003860c8ef3a87a396a"
            }
          },
          "metadata": {
            "application/vnd.jupyter.widget-view+json": {
              "colab": {
                "custom_widget_manager": {
                  "url": "https://ssl.gstatic.com/colaboratory-static/widgets/colab-cdn-widget-manager/2b70e893a8ba7c0f/manager.min.js"
                }
              }
            }
          }
        }
      ],
      "source": [
        "display(w)"
      ]
    },
    {
      "cell_type": "markdown",
      "id": "9390607f-9f13-49bf-b77e-b9f4939df12e",
      "metadata": {
        "id": "9390607f-9f13-49bf-b77e-b9f4939df12e"
      },
      "source": [
        "If the heat mapping is deleted, the heatmap mapping reverts back to the default mapping."
      ]
    },
    {
      "cell_type": "code",
      "execution_count": 7,
      "id": "45a96e73-f5e2-474e-b1c1-4092f857bdd1",
      "metadata": {
        "id": "45a96e73-f5e2-474e-b1c1-4092f857bdd1",
        "outputId": "55cd93a7-6257-4ae2-968b-4cef46e038b6",
        "colab": {
          "base_uri": "https://localhost:8080/",
          "height": 186
        }
      },
      "outputs": [
        {
          "output_type": "execute_result",
          "data": {
            "text/plain": [
              "<function yfiles_jupyter_graphs.widget.GraphWidget.default_heat_mapping(element: Dict)>"
            ],
            "text/html": [
              "<div style=\"max-width:800px; border: 1px solid var(--colab-border-color);\"><style>\n",
              "      pre.function-repr-contents {\n",
              "        overflow-x: auto;\n",
              "        padding: 8px 12px;\n",
              "        max-height: 500px;\n",
              "      }\n",
              "\n",
              "      pre.function-repr-contents.function-repr-contents-collapsed {\n",
              "        cursor: pointer;\n",
              "        max-height: 100px;\n",
              "      }\n",
              "    </style>\n",
              "    <pre style=\"white-space: initial; background:\n",
              "         var(--colab-secondary-surface-color); padding: 8px 12px;\n",
              "         border-bottom: 1px solid var(--colab-border-color);\"><b>yfiles_jupyter_graphs.widget.GraphWidget.default_heat_mapping</b><br/>def default_heat_mapping(element: TDict)</pre><pre class=\"function-repr-contents function-repr-contents-collapsed\" style=\"\"><a class=\"filepath\" style=\"display:none\" href=\"#\">/usr/local/lib/python3.10/dist-packages/yfiles_jupyter_graphs/widget.py</a>The default scale factor mapping for nodes.\n",
              "\n",
              "Provides constant value of None for all elements.\n",
              "\n",
              "Parameters\n",
              "----------\n",
              "index: int (optional)\n",
              "element: typing.Dict\n",
              "\n",
              "Notes\n",
              "-----\n",
              "This is the default value for the `heat_mapping` property.\n",
              "Can be &#x27;overwritten&#x27; by setting the property\n",
              "with a function of the same signature.\n",
              "\n",
              "If the given mapping function has only one parameter (that is not typed as int),\n",
              "then it will be called with the element (typing.Dict) as first parameter.\n",
              "\n",
              "Example\n",
              "-------\n",
              ".. code::\n",
              "\n",
              "   from yfiles_jupyter_graphs import GraphWidget\n",
              "   w = GraphWidget()\n",
              "   def custom_heat_mapping(element: typing.Dict):\n",
              "   ...\n",
              "   w.set_heat_mapping(custom_heat_mapping)\n",
              "\n",
              "Returns\n",
              "-------\n",
              "heat: float | None</pre>\n",
              "      <script>\n",
              "      if (google.colab.kernel.accessAllowed && google.colab.files && google.colab.files.view) {\n",
              "        for (const element of document.querySelectorAll('.filepath')) {\n",
              "          element.style.display = 'block'\n",
              "          element.onclick = (event) => {\n",
              "            event.preventDefault();\n",
              "            event.stopPropagation();\n",
              "            google.colab.files.view(element.textContent, 1674);\n",
              "          };\n",
              "        }\n",
              "      }\n",
              "      for (const element of document.querySelectorAll('.function-repr-contents')) {\n",
              "        element.onclick = (event) => {\n",
              "          event.preventDefault();\n",
              "          event.stopPropagation();\n",
              "          element.classList.toggle('function-repr-contents-collapsed');\n",
              "        };\n",
              "      }\n",
              "      </script>\n",
              "      </div>"
            ]
          },
          "metadata": {},
          "execution_count": 7
        }
      ],
      "source": [
        "w.del_heat_mapping()\n",
        "w.get_heat_mapping()"
      ]
    }
  ],
  "metadata": {
    "kernelspec": {
      "display_name": "Python 3 (ipykernel)",
      "language": "python",
      "name": "python3"
    },
    "language_info": {
      "codemirror_mode": {
        "name": "ipython",
        "version": 3
      },
      "file_extension": ".py",
      "mimetype": "text/x-python",
      "name": "python",
      "nbconvert_exporter": "python",
      "pygments_lexer": "ipython3",
      "version": "3.12.3"
    },
    "colab": {
      "provenance": []
    },
    "widgets": {
      "application/vnd.jupyter.widget-state+json": {
        "d65abf3f03c44003860c8ef3a87a396a": {
          "model_module": "yfiles-jupyter-graphs",
          "model_name": "GraphModel",
          "model_module_version": "^1.8.1",
          "state": {
            "_context_pane_mapping": [
              {
                "id": "Neighborhood",
                "title": "Neighborhood"
              },
              {
                "id": "Data",
                "title": "Data"
              },
              {
                "id": "Search",
                "title": "Search"
              },
              {
                "id": "About",
                "title": "About"
              }
            ],
            "_data_importer": "unknown",
            "_directed": false,
            "_dom_classes": [],
            "_edges": [
              {
                "start": 1,
                "end": 5,
                "properties": {},
                "label": "",
                "color": "#15AFAC",
                "thickness_factor": 1,
                "directed": false,
                "heat": 0
              },
              {
                "start": 1,
                "end": 2,
                "properties": {},
                "label": "",
                "color": "#15AFAC",
                "thickness_factor": 1,
                "directed": false,
                "heat": 0
              },
              {
                "start": 1,
                "end": 3,
                "properties": {},
                "label": "",
                "color": "#15AFAC",
                "thickness_factor": 1,
                "directed": false,
                "heat": 0
              },
              {
                "start": 1,
                "end": 4,
                "properties": {
                  "probability": 0.1
                },
                "label": "",
                "color": "#15AFAC",
                "thickness_factor": 1,
                "directed": false,
                "heat": 0
              },
              {
                "start": 16,
                "end": 17,
                "properties": {},
                "label": "",
                "color": "#15AFAC",
                "thickness_factor": 1,
                "directed": false,
                "heat": 0
              },
              {
                "start": 16,
                "end": 18,
                "properties": {},
                "label": "",
                "color": "#15AFAC",
                "thickness_factor": 1,
                "directed": false,
                "heat": 0
              },
              {
                "start": 18,
                "end": 19,
                "properties": {},
                "label": "",
                "color": "#15AFAC",
                "thickness_factor": 1,
                "directed": false,
                "heat": 0
              },
              {
                "start": 5,
                "end": 11,
                "properties": {},
                "label": "",
                "color": "#15AFAC",
                "thickness_factor": 1,
                "directed": false,
                "heat": 0
              },
              {
                "start": 9,
                "end": 6,
                "properties": {
                  "probability": 0.1
                },
                "label": "",
                "color": "#15AFAC",
                "thickness_factor": 1,
                "directed": false,
                "heat": 0
              },
              {
                "start": 5,
                "end": 7,
                "properties": {
                  "probability": 3
                },
                "label": "",
                "color": "#15AFAC",
                "thickness_factor": 1,
                "directed": false,
                "heat": 0
              },
              {
                "start": 2,
                "end": 8,
                "properties": {},
                "label": "",
                "color": "#15AFAC",
                "thickness_factor": 1,
                "directed": false,
                "heat": 0
              },
              {
                "start": 6,
                "end": 12,
                "properties": {},
                "label": "",
                "color": "#15AFAC",
                "thickness_factor": 1,
                "directed": false,
                "heat": 0
              },
              {
                "start": 3,
                "end": 9,
                "properties": {},
                "label": "",
                "color": "#15AFAC",
                "thickness_factor": 1,
                "directed": false,
                "heat": 0
              },
              {
                "start": 3,
                "end": 10,
                "properties": {
                  "probability": 0.1
                },
                "label": "",
                "color": "#15AFAC",
                "thickness_factor": 1,
                "directed": false,
                "heat": 0
              },
              {
                "start": 4,
                "end": 13,
                "properties": {},
                "label": "",
                "color": "#15AFAC",
                "thickness_factor": 1,
                "directed": false,
                "heat": 0
              },
              {
                "start": 11,
                "end": 14,
                "properties": {},
                "label": "",
                "color": "#15AFAC",
                "thickness_factor": 1,
                "directed": false,
                "heat": 0
              },
              {
                "start": 7,
                "end": 14,
                "properties": {},
                "label": "",
                "color": "#15AFAC",
                "thickness_factor": 1,
                "directed": false,
                "heat": 0
              },
              {
                "start": 5,
                "end": 16,
                "properties": {
                  "probability": 0.1
                },
                "label": "",
                "color": "#15AFAC",
                "thickness_factor": 1,
                "directed": false,
                "heat": 0
              },
              {
                "start": 14,
                "end": 16,
                "properties": {},
                "label": "",
                "color": "#15AFAC",
                "thickness_factor": 1,
                "directed": false,
                "heat": 0
              },
              {
                "start": 18,
                "end": 21,
                "properties": {},
                "label": "",
                "color": "#15AFAC",
                "thickness_factor": 1,
                "directed": false,
                "heat": 0
              },
              {
                "start": 21,
                "end": 23,
                "properties": {
                  "probability": 0.1
                },
                "label": "",
                "color": "#15AFAC",
                "thickness_factor": 1,
                "directed": false,
                "heat": 0
              },
              {
                "start": 21,
                "end": 24,
                "properties": {},
                "label": "",
                "color": "#15AFAC",
                "thickness_factor": 1,
                "directed": false,
                "heat": 0
              },
              {
                "start": 21,
                "end": 22,
                "properties": {},
                "label": "",
                "color": "#15AFAC",
                "thickness_factor": 1,
                "directed": false,
                "heat": 0
              },
              {
                "start": 13,
                "end": 15,
                "properties": {},
                "label": "",
                "color": "#15AFAC",
                "thickness_factor": 1,
                "directed": false,
                "heat": 0
              },
              {
                "start": 12,
                "end": 17,
                "properties": {},
                "label": "",
                "color": "#15AFAC",
                "thickness_factor": 1,
                "directed": false,
                "heat": 0
              },
              {
                "start": 18,
                "end": 22,
                "properties": {},
                "label": "",
                "color": "#15AFAC",
                "thickness_factor": 1,
                "directed": false,
                "heat": 0
              },
              {
                "start": 10,
                "end": 15,
                "properties": {},
                "label": "",
                "color": "#15AFAC",
                "thickness_factor": 1,
                "directed": false,
                "heat": 0
              },
              {
                "start": 9,
                "end": 20,
                "properties": {},
                "label": "",
                "color": "#15AFAC",
                "thickness_factor": 1,
                "directed": false,
                "heat": 0
              },
              {
                "start": 19,
                "end": 21,
                "properties": {},
                "label": "",
                "color": "#15AFAC",
                "thickness_factor": 1,
                "directed": false,
                "heat": 0
              },
              {
                "start": 17,
                "end": 18,
                "properties": {},
                "label": "",
                "color": "#15AFAC",
                "thickness_factor": 1,
                "directed": false,
                "heat": 0
              },
              {
                "start": 20,
                "end": 21,
                "properties": {},
                "label": "",
                "color": "#15AFAC",
                "thickness_factor": 1,
                "directed": false,
                "heat": 0
              }
            ],
            "_graph_layout": {
              "algorithm": "hierarchic",
              "options": {}
            },
            "_highlight": [],
            "_license": {},
            "_model_module": "yfiles-jupyter-graphs",
            "_model_module_version": "^1.8.1",
            "_model_name": "GraphModel",
            "_neighborhood": {},
            "_nodes": [
              {
                "id": 1,
                "properties": {
                  "label": "Start",
                  "capacity": 50
                },
                "color": "#15AFAC",
                "styles": {},
                "label": "Start",
                "scale_factor": 1,
                "type": "#15AFAC",
                "size": [
                  55,
                  55
                ],
                "position": [
                  0,
                  0
                ],
                "heat": 0.6
              },
              {
                "id": 3,
                "properties": {
                  "label": "Evaluation",
                  "capacity": 20
                },
                "color": "#15AFAC",
                "styles": {},
                "label": "Evaluation",
                "scale_factor": 1,
                "type": "#15AFAC",
                "size": [
                  55,
                  55
                ],
                "position": [
                  0,
                  0
                ],
                "heat": 1
              },
              {
                "id": 4,
                "properties": {
                  "label": "Move to Backlog"
                },
                "color": "#15AFAC",
                "styles": {},
                "label": "Move to Backlog",
                "scale_factor": 1,
                "type": "#15AFAC",
                "size": [
                  55,
                  55
                ],
                "position": [
                  0,
                  0
                ],
                "heat": 0.5
              },
              {
                "id": 5,
                "properties": {
                  "label": "Prepare",
                  "capacity": 20
                },
                "color": "#15AFAC",
                "styles": {},
                "label": "Prepare",
                "scale_factor": 1,
                "type": "#15AFAC",
                "size": [
                  55,
                  55
                ],
                "position": [
                  0,
                  0
                ],
                "heat": 1
              },
              {
                "id": 6,
                "properties": {
                  "label": "Prepare Shortcut"
                },
                "color": "#15AFAC",
                "styles": {},
                "label": "Prepare Shortcut",
                "scale_factor": 1,
                "type": "#15AFAC",
                "size": [
                  55,
                  55
                ],
                "position": [
                  0,
                  0
                ],
                "heat": 0.5
              },
              {
                "id": 7,
                "properties": {
                  "label": "Step A-1"
                },
                "color": "#15AFAC",
                "styles": {},
                "label": "Step A-1",
                "scale_factor": 1,
                "type": "#15AFAC",
                "size": [
                  55,
                  55
                ],
                "position": [
                  0,
                  0
                ],
                "heat": 0.5
              },
              {
                "id": 9,
                "properties": {
                  "label": "Advance",
                  "duration": 3
                },
                "color": "#15AFAC",
                "styles": {},
                "label": "Advance",
                "scale_factor": 1,
                "type": "#15AFAC",
                "size": [
                  55,
                  55
                ],
                "position": [
                  0,
                  0
                ],
                "heat": 0.7
              },
              {
                "id": 10,
                "properties": {
                  "label": "Early Discard"
                },
                "color": "#15AFAC",
                "styles": {},
                "label": "Early Discard",
                "scale_factor": 1,
                "type": "#15AFAC",
                "size": [
                  55,
                  55
                ],
                "position": [
                  0,
                  0
                ],
                "heat": 0.5
              },
              {
                "id": 11,
                "properties": {
                  "label": "Step A-2"
                },
                "color": "#15AFAC",
                "styles": {},
                "label": "Step A-2",
                "scale_factor": 1,
                "type": "#15AFAC",
                "size": [
                  55,
                  55
                ],
                "position": [
                  0,
                  0
                ],
                "heat": 0.5
              },
              {
                "id": 12,
                "properties": {
                  "label": "Quick Preparation"
                },
                "color": "#15AFAC",
                "styles": {},
                "label": "Quick Preparation",
                "scale_factor": 1,
                "type": "#15AFAC",
                "size": [
                  55,
                  55
                ],
                "position": [
                  0,
                  0
                ],
                "heat": 0.5
              },
              {
                "id": 13,
                "properties": {
                  "label": "Backlog",
                  "capacity": 100
                },
                "color": "#15AFAC",
                "styles": {},
                "label": "Backlog",
                "scale_factor": 1,
                "type": "#15AFAC",
                "size": [
                  55,
                  55
                ],
                "position": [
                  0,
                  0
                ],
                "heat": 0.5
              },
              {
                "id": 14,
                "properties": {
                  "label": "Step B"
                },
                "color": "#15AFAC",
                "styles": {},
                "label": "Step B",
                "scale_factor": 1,
                "type": "#15AFAC",
                "size": [
                  55,
                  55
                ],
                "position": [
                  0,
                  0
                ],
                "heat": 0.6
              },
              {
                "id": 16,
                "properties": {
                  "label": "End of Preparation"
                },
                "color": "#15AFAC",
                "styles": {},
                "label": "End of Preparation",
                "scale_factor": 1,
                "type": "#15AFAC",
                "size": [
                  55,
                  55
                ],
                "position": [
                  0,
                  0
                ],
                "heat": 0.49999999999999994
              },
              {
                "id": 17,
                "properties": {
                  "label": "Buffer",
                  "capacity": 30,
                  "duration": 10
                },
                "color": "#15AFAC",
                "styles": {},
                "label": "Buffer",
                "scale_factor": 1,
                "type": "#15AFAC",
                "size": [
                  55,
                  55
                ],
                "position": [
                  0,
                  0
                ],
                "heat": 1
              },
              {
                "id": 18,
                "properties": {
                  "label": "Main Processing",
                  "capacity": 70,
                  "duration": 2
                },
                "color": "#15AFAC",
                "styles": {},
                "label": "Main Processing",
                "scale_factor": 1,
                "type": "#15AFAC",
                "size": [
                  55,
                  55
                ],
                "position": [
                  0,
                  0
                ],
                "heat": 0.8999999999999999
              },
              {
                "id": 19,
                "properties": {
                  "label": "Refinement 1",
                  "capacity": 20,
                  "duration": 1
                },
                "color": "#15AFAC",
                "styles": {},
                "label": "Refinement 1",
                "scale_factor": 1,
                "type": "#15AFAC",
                "size": [
                  55,
                  55
                ],
                "position": [
                  0,
                  0
                ],
                "heat": 1
              },
              {
                "id": 20,
                "properties": {
                  "label": "Refinement 2",
                  "capacity": 60,
                  "duration": 4
                },
                "color": "#15AFAC",
                "styles": {},
                "label": "Refinement 2",
                "scale_factor": 1,
                "type": "#15AFAC",
                "size": [
                  55,
                  55
                ],
                "position": [
                  0,
                  0
                ],
                "heat": 1
              },
              {
                "id": 21,
                "properties": {
                  "label": "Testing",
                  "capacity": 70,
                  "duration": 1
                },
                "color": "#15AFAC",
                "styles": {},
                "label": "Testing",
                "scale_factor": 1,
                "type": "#15AFAC",
                "size": [
                  55,
                  55
                ],
                "position": [
                  0,
                  0
                ],
                "heat": 0.9
              },
              {
                "id": 22,
                "properties": {
                  "label": "Delivery",
                  "capacity": 20
                },
                "color": "#15AFAC",
                "styles": {},
                "label": "Delivery",
                "scale_factor": 1,
                "type": "#15AFAC",
                "size": [
                  55,
                  55
                ],
                "position": [
                  0,
                  0
                ],
                "heat": 1
              },
              {
                "id": 23,
                "properties": {
                  "label": "Rejection",
                  "capacity": 100
                },
                "color": "#15AFAC",
                "styles": {},
                "label": "Rejection",
                "scale_factor": 1,
                "type": "#15AFAC",
                "size": [
                  55,
                  55
                ],
                "position": [
                  0,
                  0
                ],
                "heat": 0.6
              },
              {
                "id": 24,
                "properties": {
                  "label": "Store",
                  "capacity": 50,
                  "duration": 5
                },
                "color": "#15AFAC",
                "styles": {},
                "label": "Store",
                "scale_factor": 1,
                "type": "#15AFAC",
                "size": [
                  55,
                  55
                ],
                "position": [
                  0,
                  0
                ],
                "heat": 1
              }
            ],
            "_overview": {
              "enabled": null,
              "overview_set": false
            },
            "_selected_graph": [
              [],
              []
            ],
            "_sidebar": {
              "enabled": false,
              "start_with": null
            },
            "_view_count": null,
            "_view_module": "yfiles-jupyter-graphs",
            "_view_module_version": "^1.8.1",
            "_view_name": "GraphView",
            "layout": "IPY_MODEL_22f630a15b684f189ee67aa6e867d3b9",
            "tabbable": null,
            "tooltip": null
          }
        },
        "22f630a15b684f189ee67aa6e867d3b9": {
          "model_module": "@jupyter-widgets/base",
          "model_name": "LayoutModel",
          "model_module_version": "2.0.0",
          "state": {
            "_model_module": "@jupyter-widgets/base",
            "_model_module_version": "2.0.0",
            "_model_name": "LayoutModel",
            "_view_count": null,
            "_view_module": "@jupyter-widgets/base",
            "_view_module_version": "2.0.0",
            "_view_name": "LayoutView",
            "align_content": null,
            "align_items": null,
            "align_self": null,
            "border_bottom": null,
            "border_left": null,
            "border_right": null,
            "border_top": null,
            "bottom": null,
            "display": null,
            "flex": null,
            "flex_flow": null,
            "grid_area": null,
            "grid_auto_columns": null,
            "grid_auto_flow": null,
            "grid_auto_rows": null,
            "grid_column": null,
            "grid_gap": null,
            "grid_row": null,
            "grid_template_areas": null,
            "grid_template_columns": null,
            "grid_template_rows": null,
            "height": "710px",
            "justify_content": null,
            "justify_items": null,
            "left": null,
            "margin": null,
            "max_height": null,
            "max_width": null,
            "min_height": null,
            "min_width": null,
            "object_fit": null,
            "object_position": null,
            "order": null,
            "overflow": null,
            "padding": null,
            "right": null,
            "top": null,
            "visibility": null,
            "width": "100%"
          }
        },
        "state": {}
      }
    }
  },
  "nbformat": 4,
  "nbformat_minor": 5
}