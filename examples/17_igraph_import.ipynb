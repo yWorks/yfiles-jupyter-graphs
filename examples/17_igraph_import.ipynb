{
  "cells": [
    {
      "cell_type": "markdown",
      "id": "4cc79916-98aa-4d1e-bd5f-94eb03ef51cc",
      "metadata": {
        "id": "4cc79916-98aa-4d1e-bd5f-94eb03ef51cc"
      },
      "source": [
        "# Visualizing IGraph graphs in yFiles Graphs for Jupyter <a target=\"_blank\" href=\"https://colab.research.google.com/github/yWorks/yfiles-jupyter-graphs/blob/main/examples/17_igraph_import.ipynb\"><img src=\"https://colab.research.google.com/assets/colab-badge.svg\" alt=\"Open In Colab\"/></a>"
      ]
    },
    {
      "cell_type": "markdown",
      "id": "c6588ec8-b229-4ca1-9cde-cc3aa8e50cbb",
      "metadata": {
        "id": "c6588ec8-b229-4ca1-9cde-cc3aa8e50cbb"
      },
      "source": [
        "Before using the graph widget, install all necessary packages."
      ]
    },
    {
      "cell_type": "code",
      "execution_count": 1,
      "id": "308bda31-f1e5-441c-afe8-291743b19970",
      "metadata": {
        "id": "308bda31-f1e5-441c-afe8-291743b19970",
        "outputId": "04c69b1a-dc94-4aee-eedc-58a42a683743",
        "colab": {
          "base_uri": "https://localhost:8080/"
        }
      },
      "outputs": [
        {
          "output_type": "stream",
          "name": "stdout",
          "text": [
            "\u001b[2K   \u001b[90m\u2501\u2501\u2501\u2501\u2501\u2501\u2501\u2501\u2501\u2501\u2501\u2501\u2501\u2501\u2501\u2501\u2501\u2501\u2501\u2501\u2501\u2501\u2501\u2501\u2501\u2501\u2501\u2501\u2501\u2501\u2501\u2501\u2501\u2501\u2501\u2501\u2501\u2501\u2501\u2501\u001b[0m \u001b[32m15.6/15.6 MB\u001b[0m \u001b[31m31.4 MB/s\u001b[0m eta \u001b[36m0:00:00\u001b[0m\n",
            "\u001b[2K   \u001b[90m\u2501\u2501\u2501\u2501\u2501\u2501\u2501\u2501\u2501\u2501\u2501\u2501\u2501\u2501\u2501\u2501\u2501\u2501\u2501\u2501\u2501\u2501\u2501\u2501\u2501\u2501\u2501\u2501\u2501\u2501\u2501\u2501\u2501\u2501\u2501\u2501\u2501\u2501\u2501\u2501\u001b[0m \u001b[32m139.8/139.8 kB\u001b[0m \u001b[31m4.2 MB/s\u001b[0m eta \u001b[36m0:00:00\u001b[0m\n",
            "\u001b[2K   \u001b[90m\u2501\u2501\u2501\u2501\u2501\u2501\u2501\u2501\u2501\u2501\u2501\u2501\u2501\u2501\u2501\u2501\u2501\u2501\u2501\u2501\u2501\u2501\u2501\u2501\u2501\u2501\u2501\u2501\u2501\u2501\u2501\u2501\u2501\u2501\u2501\u2501\u2501\u2501\u2501\u2501\u001b[0m \u001b[32m2.3/2.3 MB\u001b[0m \u001b[31m28.6 MB/s\u001b[0m eta \u001b[36m0:00:00\u001b[0m\n",
            "\u001b[2K   \u001b[90m\u2501\u2501\u2501\u2501\u2501\u2501\u2501\u2501\u2501\u2501\u2501\u2501\u2501\u2501\u2501\u2501\u2501\u2501\u2501\u2501\u2501\u2501\u2501\u2501\u2501\u2501\u2501\u2501\u2501\u2501\u2501\u2501\u2501\u2501\u2501\u2501\u2501\u2501\u2501\u2501\u001b[0m \u001b[32m1.6/1.6 MB\u001b[0m \u001b[31m34.3 MB/s\u001b[0m eta \u001b[36m0:00:00\u001b[0m\n",
            "\u001b[2K   \u001b[90m\u2501\u2501\u2501\u2501\u2501\u2501\u2501\u2501\u2501\u2501\u2501\u2501\u2501\u2501\u2501\u2501\u2501\u2501\u2501\u2501\u2501\u2501\u2501\u2501\u2501\u2501\u2501\u2501\u2501\u2501\u2501\u2501\u2501\u2501\u2501\u2501\u2501\u2501\u2501\u2501\u001b[0m \u001b[32m3.1/3.1 MB\u001b[0m \u001b[31m23.7 MB/s\u001b[0m eta \u001b[36m0:00:00\u001b[0m\n",
            "\u001b[?25h"
          ]
        }
      ],
      "source": [
        "%pip install yfiles_jupyter_graphs --quiet\n",
        "%pip install igraph --quiet\n",
        "from typing import Dict\n",
        "from igraph import Graph\n",
        "from yfiles_jupyter_graphs import GraphWidget"
      ]
    },
    {
      "cell_type": "markdown",
      "id": "ae5b3eea-3fca-4c9b-b2bf-5f4b7b4b399e",
      "metadata": {
        "id": "ae5b3eea-3fca-4c9b-b2bf-5f4b7b4b399e"
      },
      "source": [
        "You can also open this notebook in Google Colab when Google Colab's custom widget manager is enabled:"
      ]
    },
    {
      "cell_type": "code",
      "execution_count": 2,
      "id": "dc224c8f-49f5-42e7-b015-b96fbbd27970",
      "metadata": {
        "id": "dc224c8f-49f5-42e7-b015-b96fbbd27970"
      },
      "outputs": [],
      "source": [
        "try:\n",
        "  import google.colab\n",
        "  from google.colab import output\n",
        "  output.enable_custom_widget_manager()\n",
        "except:\n",
        "  pass"
      ]
    },
    {
      "cell_type": "markdown",
      "id": "b8226994-22e2-4e91-a7ec-3b9dd535c5e4",
      "metadata": {
        "id": "b8226994-22e2-4e91-a7ec-3b9dd535c5e4"
      },
      "source": [
        "<a target=\"_blank\" href=\"https://colab.research.google.com/github/yWorks/yfiles-jupyter-graphs/blob/main/examples/17_igraph_import.ipynb\"><img src=\"https://colab.research.google.com/assets/colab-badge.svg\" alt=\"Open In Colab\"/></a>"
      ]
    },
    {
      "cell_type": "markdown",
      "id": "2b2ad4bf-a516-4eaa-80a7-7dfd98bcf88c",
      "metadata": {
        "id": "2b2ad4bf-a516-4eaa-80a7-7dfd98bcf88c"
      },
      "source": [
        "## How to import a graph\n",
        "- either import the graph directly when initilizing: ```GraphWidget(graph=your_graph)```\n",
        "- or use the ```w.import_graph(your_graph)``` function, if you already initilized a Widget called ```w```\n",
        "\n",
        "## Notes about IGraph importer\n",
        "- Nodes and edges are identified by index attribute.\n",
        "-  Node and edge properties are provided through attributes method.\n",
        "-  Edges are determined by source and target attribute.\n",
        "-  Any additional data is stored in ```properties```\n",
        "\n",
        "## Import graph from tutorial\n",
        "https://igraph.org/python/tutorial/latest/tutorial.html"
      ]
    },
    {
      "cell_type": "code",
      "execution_count": 3,
      "id": "2b183c0f-a452-4d37-a759-88e0207b24e0",
      "metadata": {
        "id": "2b183c0f-a452-4d37-a759-88e0207b24e0",
        "outputId": "1a76fc31-4e50-4e30-c0b8-1bbe74d228c7",
        "colab": {
          "base_uri": "https://localhost:8080/",
          "height": 517,
          "referenced_widgets": [
            "454cba81523e47a3be869822e0f53963",
            "aaafda1ea8654b4ab3443ae7356fd06b"
          ]
        }
      },
      "outputs": [
        {
          "output_type": "display_data",
          "data": {
            "text/plain": [
              "GraphWidget(layout=Layout(height='500px', width='100%'))"
            ],
            "application/vnd.jupyter.widget-view+json": {
              "version_major": 2,
              "version_minor": 0,
              "model_id": "454cba81523e47a3be869822e0f53963"
            }
          },
          "metadata": {
            "application/vnd.jupyter.widget-view+json": {
              "colab": {
                "custom_widget_manager": {
                  "url": "https://ssl.gstatic.com/colaboratory-static/widgets/colab-cdn-widget-manager/2b70e893a8ba7c0f/manager.min.js"
                }
              }
            }
          }
        }
      ],
      "source": [
        "g = Graph()\n",
        "g.add_vertices(3)\n",
        "g.add_edges([(0,1), (1,2)])\n",
        "g.add_edges([(2, 0)])\n",
        "g.add_vertices(3)\n",
        "g.add_edges([(2, 3), (3, 4), (4, 5), (5, 3)])\n",
        "display(GraphWidget(graph=g))"
      ]
    },
    {
      "cell_type": "code",
      "execution_count": 4,
      "id": "af0601c1-f95e-4ac5-8c04-1ffc1659e3d2",
      "metadata": {
        "id": "af0601c1-f95e-4ac5-8c04-1ffc1659e3d2",
        "outputId": "68afd383-e1d5-41e8-a8d4-6f9261653ecd",
        "colab": {
          "base_uri": "https://localhost:8080/",
          "height": 517,
          "referenced_widgets": [
            "b78bc982997e4251b6ac56acf7ddc0e2",
            "75a4239e84eb4ea6b258d459f994387f"
          ]
        }
      },
      "outputs": [
        {
          "output_type": "display_data",
          "data": {
            "text/plain": [
              "GraphWidget(layout=Layout(height='500px', width='100%'))"
            ],
            "application/vnd.jupyter.widget-view+json": {
              "version_major": 2,
              "version_minor": 0,
              "model_id": "b78bc982997e4251b6ac56acf7ddc0e2"
            }
          },
          "metadata": {
            "application/vnd.jupyter.widget-view+json": {
              "colab": {
                "custom_widget_manager": {
                  "url": "https://ssl.gstatic.com/colaboratory-static/widgets/colab-cdn-widget-manager/2b70e893a8ba7c0f/manager.min.js"
                }
              }
            }
          }
        }
      ],
      "source": [
        "f = Graph([(0,1), (0,2), (2,3), (3,4), (4,2), (2,5), (5,0), (6,3), (5,6)])\n",
        "f.vs[\"name\"] = [\"Alice\", \"Bob\", \"Claire\", \"Dennis\", \"Esther\", \"Frank\", \"George\"]\n",
        "f.vs[\"age\"] = [25, 31, 18, 47, 22, 23, 50]\n",
        "f.vs[\"gender\"] = [\"f\", \"m\", \"f\", \"m\", \"f\", \"m\", \"m\"]\n",
        "f.es[\"is_formal\"] = [False, False, True, True, True, False, True, False, False]\n",
        "\n",
        "w = GraphWidget(graph=f)\n",
        "display(w)"
      ]
    },
    {
      "cell_type": "markdown",
      "id": "ddab99cf-3d72-4714-a91c-6bdacbe40d8b",
      "metadata": {
        "id": "ddab99cf-3d72-4714-a91c-6bdacbe40d8b"
      },
      "source": [
        "### Using imported data\n",
        "\n",
        "To use the additional data in ```properties``` we will use the ```is_formal``` key to determine edge directions and the ```gender``` for the node type mapping.\n",
        "\n",
        "To access the 'properties' data, you can use the data key in squared brackets: ```['properties']['key'] ```\n",
        "\n",
        "Possible keys for nodes in this example are 'name', 'age' and 'gender'\n",
        "\n",
        "To visualize all properties, we remove any additional node data except the properties"
      ]
    },
    {
      "cell_type": "code",
      "execution_count": 5,
      "id": "b34a0545-c78b-43c3-9900-17070cf641f9",
      "metadata": {
        "id": "b34a0545-c78b-43c3-9900-17070cf641f9",
        "outputId": "1d259cb9-ab76-4e80-b572-d9f2bdcd71f3",
        "colab": {
          "base_uri": "https://localhost:8080/"
        }
      },
      "outputs": [
        {
          "output_type": "stream",
          "name": "stdout",
          "text": [
            "{'name': 'Alice', 'age': 25, 'gender': 'f'}\n",
            "{'name': 'Bob', 'age': 31, 'gender': 'm'}\n",
            "{'name': 'Claire', 'age': 18, 'gender': 'f'}\n",
            "{'name': 'Dennis', 'age': 47, 'gender': 'm'}\n",
            "{'name': 'Esther', 'age': 22, 'gender': 'f'}\n",
            "{'name': 'Frank', 'age': 23, 'gender': 'm'}\n",
            "{'name': 'George', 'age': 50, 'gender': 'm'}\n",
            "\n"
          ]
        }
      ],
      "source": [
        "properties = [node['properties'] for node in w.nodes]\n",
        "formattedProperties = ''.join(f\"{node}\\n\" for node in properties)\n",
        "print(formattedProperties)"
      ]
    },
    {
      "cell_type": "markdown",
      "id": "c888eb11-585b-40da-b9b9-3d3a3c66524a",
      "metadata": {
        "id": "c888eb11-585b-40da-b9b9-3d3a3c66524a"
      },
      "source": [
        "Since the type binding only accepts numbers, we'll need to convert the gender to a numerical representation:"
      ]
    },
    {
      "cell_type": "code",
      "execution_count": 6,
      "id": "94220416-3397-4c20-88db-5ea3776078e5",
      "metadata": {
        "id": "94220416-3397-4c20-88db-5ea3776078e5",
        "outputId": "fa04ec21-f1ea-4d1a-a078-c31cc57572a9",
        "colab": {
          "base_uri": "https://localhost:8080/",
          "height": 517,
          "referenced_widgets": [
            "b78bc982997e4251b6ac56acf7ddc0e2",
            "75a4239e84eb4ea6b258d459f994387f"
          ]
        }
      },
      "outputs": [
        {
          "output_type": "display_data",
          "data": {
            "text/plain": [
              "GraphWidget(layout=Layout(height='500px', width='100%'))"
            ],
            "application/vnd.jupyter.widget-view+json": {
              "version_major": 2,
              "version_minor": 0,
              "model_id": "b78bc982997e4251b6ac56acf7ddc0e2"
            }
          },
          "metadata": {
            "application/vnd.jupyter.widget-view+json": {
              "colab": {
                "custom_widget_manager": {
                  "url": "https://ssl.gstatic.com/colaboratory-static/widgets/colab-cdn-widget-manager/2b70e893a8ba7c0f/manager.min.js"
                }
              }
            }
          }
        }
      ],
      "source": [
        "w.node_type_mapping = lambda node: 1 if node['properties']['gender'] == 'f' else (2 if node['properties']['gender'] == 'm' else 3)\n",
        "\n",
        "w.directed_mapping = 'is_formal'\n",
        "\n",
        "w.node_label_mapping = lambda node: node['properties'][\"name\"]\n",
        "\n",
        "display(w)"
      ]
    }
  ],
  "metadata": {
    "kernelspec": {
      "display_name": "Python 3 (ipykernel)",
      "language": "python",
      "name": "python3"
    },
    "language_info": {
      "codemirror_mode": {
        "name": "ipython",
        "version": 3
      },
      "file_extension": ".py",
      "mimetype": "text/x-python",
      "name": "python",
      "nbconvert_exporter": "python",
      "pygments_lexer": "ipython3",
      "version": "3.11.3"
    },
    "colab": {
      "provenance": []
    },
    "widgets": {
      "application/vnd.jupyter.widget-state+json": {
        "454cba81523e47a3be869822e0f53963": {
          "model_module": "yfiles-jupyter-graphs",
          "model_name": "GraphModel",
          "model_module_version": "^1.8.1",
          "state": {
            "_context_pane_mapping": [
              {
                "id": "Neighborhood",
                "title": "Neighborhood"
              },
              {
                "id": "Data",
                "title": "Data"
              },
              {
                "id": "Search",
                "title": "Search"
              },
              {
                "id": "About",
                "title": "About"
              }
            ],
            "_data_importer": "igraph",
            "_directed": false,
            "_dom_classes": [],
            "_edges": [
              {
                "id": 0,
                "start": 0,
                "end": 1,
                "properties": {},
                "label": "",
                "color": "#15AFAC",
                "thickness_factor": 1,
                "directed": false
              },
              {
                "id": 1,
                "start": 1,
                "end": 2,
                "properties": {},
                "label": "",
                "color": "#15AFAC",
                "thickness_factor": 1,
                "directed": false
              },
              {
                "id": 2,
                "start": 0,
                "end": 2,
                "properties": {},
                "label": "",
                "color": "#15AFAC",
                "thickness_factor": 1,
                "directed": false
              },
              {
                "id": 3,
                "start": 2,
                "end": 3,
                "properties": {},
                "label": "",
                "color": "#15AFAC",
                "thickness_factor": 1,
                "directed": false
              },
              {
                "id": 4,
                "start": 3,
                "end": 4,
                "properties": {},
                "label": "",
                "color": "#15AFAC",
                "thickness_factor": 1,
                "directed": false
              },
              {
                "id": 5,
                "start": 4,
                "end": 5,
                "properties": {},
                "label": "",
                "color": "#15AFAC",
                "thickness_factor": 1,
                "directed": false
              },
              {
                "id": 6,
                "start": 3,
                "end": 5,
                "properties": {},
                "label": "",
                "color": "#15AFAC",
                "thickness_factor": 1,
                "directed": false
              }
            ],
            "_graph_layout": {},
            "_highlight": [],
            "_license": {},
            "_model_module": "yfiles-jupyter-graphs",
            "_model_module_version": "^1.8.1",
            "_model_name": "GraphModel",
            "_neighborhood": {},
            "_nodes": [
              {
                "id": 0,
                "properties": {},
                "color": "#15AFAC",
                "styles": {},
                "label": "",
                "scale_factor": 1,
                "type": "#15AFAC",
                "size": [
                  55,
                  55
                ],
                "position": [
                  0,
                  0
                ]
              },
              {
                "id": 1,
                "properties": {},
                "color": "#15AFAC",
                "styles": {},
                "label": "",
                "scale_factor": 1,
                "type": "#15AFAC",
                "size": [
                  55,
                  55
                ],
                "position": [
                  0,
                  0
                ]
              },
              {
                "id": 2,
                "properties": {},
                "color": "#15AFAC",
                "styles": {},
                "label": "",
                "scale_factor": 1,
                "type": "#15AFAC",
                "size": [
                  55,
                  55
                ],
                "position": [
                  0,
                  0
                ]
              },
              {
                "id": 3,
                "properties": {},
                "color": "#15AFAC",
                "styles": {},
                "label": "",
                "scale_factor": 1,
                "type": "#15AFAC",
                "size": [
                  55,
                  55
                ],
                "position": [
                  0,
                  0
                ]
              },
              {
                "id": 4,
                "properties": {},
                "color": "#15AFAC",
                "styles": {},
                "label": "",
                "scale_factor": 1,
                "type": "#15AFAC",
                "size": [
                  55,
                  55
                ],
                "position": [
                  0,
                  0
                ]
              },
              {
                "id": 5,
                "properties": {},
                "color": "#15AFAC",
                "styles": {},
                "label": "",
                "scale_factor": 1,
                "type": "#15AFAC",
                "size": [
                  55,
                  55
                ],
                "position": [
                  0,
                  0
                ]
              }
            ],
            "_overview": {
              "enabled": null,
              "overview_set": false
            },
            "_selected_graph": [
              [],
              []
            ],
            "_sidebar": {
              "enabled": false,
              "start_with": null
            },
            "_view_count": null,
            "_view_module": "yfiles-jupyter-graphs",
            "_view_module_version": "^1.8.1",
            "_view_name": "GraphView",
            "layout": "IPY_MODEL_aaafda1ea8654b4ab3443ae7356fd06b",
            "tabbable": null,
            "tooltip": null
          }
        },
        "aaafda1ea8654b4ab3443ae7356fd06b": {
          "model_module": "@jupyter-widgets/base",
          "model_name": "LayoutModel",
          "model_module_version": "2.0.0",
          "state": {
            "_model_module": "@jupyter-widgets/base",
            "_model_module_version": "2.0.0",
            "_model_name": "LayoutModel",
            "_view_count": null,
            "_view_module": "@jupyter-widgets/base",
            "_view_module_version": "2.0.0",
            "_view_name": "LayoutView",
            "align_content": null,
            "align_items": null,
            "align_self": null,
            "border_bottom": null,
            "border_left": null,
            "border_right": null,
            "border_top": null,
            "bottom": null,
            "display": null,
            "flex": null,
            "flex_flow": null,
            "grid_area": null,
            "grid_auto_columns": null,
            "grid_auto_flow": null,
            "grid_auto_rows": null,
            "grid_column": null,
            "grid_gap": null,
            "grid_row": null,
            "grid_template_areas": null,
            "grid_template_columns": null,
            "grid_template_rows": null,
            "height": "500px",
            "justify_content": null,
            "justify_items": null,
            "left": null,
            "margin": null,
            "max_height": null,
            "max_width": null,
            "min_height": null,
            "min_width": null,
            "object_fit": null,
            "object_position": null,
            "order": null,
            "overflow": null,
            "padding": null,
            "right": null,
            "top": null,
            "visibility": null,
            "width": "100%"
          }
        },
        "b78bc982997e4251b6ac56acf7ddc0e2": {
          "model_module": "yfiles-jupyter-graphs",
          "model_name": "GraphModel",
          "model_module_version": "^1.8.1",
          "state": {
            "_context_pane_mapping": [
              {
                "id": "Neighborhood",
                "title": "Neighborhood"
              },
              {
                "id": "Data",
                "title": "Data"
              },
              {
                "id": "Search",
                "title": "Search"
              },
              {
                "id": "About",
                "title": "About"
              }
            ],
            "_data_importer": "igraph",
            "_directed": false,
            "_dom_classes": [],
            "_edges": [
              {
                "id": 0,
                "start": 0,
                "end": 1,
                "properties": {
                  "is_formal": false
                },
                "label": "",
                "color": "#15AFAC",
                "thickness_factor": 1,
                "directed": false
              },
              {
                "id": 1,
                "start": 0,
                "end": 2,
                "properties": {
                  "is_formal": false
                },
                "label": "",
                "color": "#15AFAC",
                "thickness_factor": 1,
                "directed": false
              },
              {
                "id": 2,
                "start": 2,
                "end": 3,
                "properties": {
                  "is_formal": true
                },
                "label": "",
                "color": "#15AFAC",
                "thickness_factor": 1,
                "directed": true
              },
              {
                "id": 3,
                "start": 3,
                "end": 4,
                "properties": {
                  "is_formal": true
                },
                "label": "",
                "color": "#15AFAC",
                "thickness_factor": 1,
                "directed": true
              },
              {
                "id": 4,
                "start": 2,
                "end": 4,
                "properties": {
                  "is_formal": true
                },
                "label": "",
                "color": "#15AFAC",
                "thickness_factor": 1,
                "directed": true
              },
              {
                "id": 5,
                "start": 2,
                "end": 5,
                "properties": {
                  "is_formal": false
                },
                "label": "",
                "color": "#15AFAC",
                "thickness_factor": 1,
                "directed": false
              },
              {
                "id": 6,
                "start": 0,
                "end": 5,
                "properties": {
                  "is_formal": true
                },
                "label": "",
                "color": "#15AFAC",
                "thickness_factor": 1,
                "directed": true
              },
              {
                "id": 7,
                "start": 3,
                "end": 6,
                "properties": {
                  "is_formal": false
                },
                "label": "",
                "color": "#15AFAC",
                "thickness_factor": 1,
                "directed": false
              },
              {
                "id": 8,
                "start": 5,
                "end": 6,
                "properties": {
                  "is_formal": false
                },
                "label": "",
                "color": "#15AFAC",
                "thickness_factor": 1,
                "directed": false
              }
            ],
            "_graph_layout": {},
            "_highlight": [],
            "_license": {},
            "_model_module": "yfiles-jupyter-graphs",
            "_model_module_version": "^1.8.1",
            "_model_name": "GraphModel",
            "_neighborhood": {},
            "_nodes": [
              {
                "id": 0,
                "properties": {
                  "name": "Alice",
                  "age": 25,
                  "gender": "f"
                },
                "color": "#15AFAC",
                "styles": {},
                "label": "Alice",
                "scale_factor": 1,
                "type": 1,
                "size": [
                  55,
                  55
                ],
                "position": [
                  0,
                  0
                ]
              },
              {
                "id": 1,
                "properties": {
                  "name": "Bob",
                  "age": 31,
                  "gender": "m"
                },
                "color": "#15AFAC",
                "styles": {},
                "label": "Bob",
                "scale_factor": 1,
                "type": 2,
                "size": [
                  55,
                  55
                ],
                "position": [
                  0,
                  0
                ]
              },
              {
                "id": 2,
                "properties": {
                  "name": "Claire",
                  "age": 18,
                  "gender": "f"
                },
                "color": "#15AFAC",
                "styles": {},
                "label": "Claire",
                "scale_factor": 1,
                "type": 1,
                "size": [
                  55,
                  55
                ],
                "position": [
                  0,
                  0
                ]
              },
              {
                "id": 3,
                "properties": {
                  "name": "Dennis",
                  "age": 47,
                  "gender": "m"
                },
                "color": "#15AFAC",
                "styles": {},
                "label": "Dennis",
                "scale_factor": 1,
                "type": 2,
                "size": [
                  55,
                  55
                ],
                "position": [
                  0,
                  0
                ]
              },
              {
                "id": 4,
                "properties": {
                  "name": "Esther",
                  "age": 22,
                  "gender": "f"
                },
                "color": "#15AFAC",
                "styles": {},
                "label": "Esther",
                "scale_factor": 1,
                "type": 1,
                "size": [
                  55,
                  55
                ],
                "position": [
                  0,
                  0
                ]
              },
              {
                "id": 5,
                "properties": {
                  "name": "Frank",
                  "age": 23,
                  "gender": "m"
                },
                "color": "#15AFAC",
                "styles": {},
                "label": "Frank",
                "scale_factor": 1,
                "type": 2,
                "size": [
                  55,
                  55
                ],
                "position": [
                  0,
                  0
                ]
              },
              {
                "id": 6,
                "properties": {
                  "name": "George",
                  "age": 50,
                  "gender": "m"
                },
                "color": "#15AFAC",
                "styles": {},
                "label": "George",
                "scale_factor": 1,
                "type": 2,
                "size": [
                  55,
                  55
                ],
                "position": [
                  0,
                  0
                ]
              }
            ],
            "_overview": {
              "enabled": null,
              "overview_set": false
            },
            "_selected_graph": [
              [],
              []
            ],
            "_sidebar": {
              "enabled": false,
              "start_with": null
            },
            "_view_count": null,
            "_view_module": "yfiles-jupyter-graphs",
            "_view_module_version": "^1.8.1",
            "_view_name": "GraphView",
            "layout": "IPY_MODEL_75a4239e84eb4ea6b258d459f994387f",
            "tabbable": null,
            "tooltip": null
          }
        },
        "75a4239e84eb4ea6b258d459f994387f": {
          "model_module": "@jupyter-widgets/base",
          "model_name": "LayoutModel",
          "model_module_version": "2.0.0",
          "state": {
            "_model_module": "@jupyter-widgets/base",
            "_model_module_version": "2.0.0",
            "_model_name": "LayoutModel",
            "_view_count": null,
            "_view_module": "@jupyter-widgets/base",
            "_view_module_version": "2.0.0",
            "_view_name": "LayoutView",
            "align_content": null,
            "align_items": null,
            "align_self": null,
            "border_bottom": null,
            "border_left": null,
            "border_right": null,
            "border_top": null,
            "bottom": null,
            "display": null,
            "flex": null,
            "flex_flow": null,
            "grid_area": null,
            "grid_auto_columns": null,
            "grid_auto_flow": null,
            "grid_auto_rows": null,
            "grid_column": null,
            "grid_gap": null,
            "grid_row": null,
            "grid_template_areas": null,
            "grid_template_columns": null,
            "grid_template_rows": null,
            "height": "500px",
            "justify_content": null,
            "justify_items": null,
            "left": null,
            "margin": null,
            "max_height": null,
            "max_width": null,
            "min_height": null,
            "min_width": null,
            "object_fit": null,
            "object_position": null,
            "order": null,
            "overflow": null,
            "padding": null,
            "right": null,
            "top": null,
            "visibility": null,
            "width": "100%"
          }
        },
        "state": {}
      }
    }
  },
  "nbformat": 4,
  "nbformat_minor": 5
}