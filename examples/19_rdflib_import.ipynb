{
  "cells": [
    {
      "cell_type": "markdown",
      "id": "7136fd9d-cc2c-4dbf-9138-7fb4477a616b",
      "metadata": {
        "id": "7136fd9d-cc2c-4dbf-9138-7fb4477a616b"
      },
      "source": [
        "# Visualizing RDF graphs in yFiles Graphs for Jupyter <a target=\"_blank\" href=\"https://colab.research.google.com/github/yWorks/yfiles-jupyter-graphs/blob/main/examples/19_rdflib_import.ipynb\"><img src=\"https://colab.research.google.com/assets/colab-badge.svg\" alt=\"Open In Colab\"/></a>\n",
        "\n",
        "Before using the graph widget, install all necessary packages."
      ]
    },
    {
      "cell_type": "code",
      "execution_count": 1,
      "id": "c6cb45fc-e442-4631-afa7-f93d646e03af",
      "metadata": {
        "id": "c6cb45fc-e442-4631-afa7-f93d646e03af",
        "outputId": "8154efde-2955-4431-b810-0d95333effe3",
        "colab": {
          "base_uri": "https://localhost:8080/"
        }
      },
      "outputs": [
        {
          "output_type": "stream",
          "name": "stdout",
          "text": [
            "\u001b[2K   \u001b[90m\u2501\u2501\u2501\u2501\u2501\u2501\u2501\u2501\u2501\u2501\u2501\u2501\u2501\u2501\u2501\u2501\u2501\u2501\u2501\u2501\u2501\u2501\u2501\u2501\u2501\u2501\u2501\u2501\u2501\u2501\u2501\u2501\u2501\u2501\u2501\u2501\u2501\u2501\u2501\u2501\u001b[0m \u001b[32m15.6/15.6 MB\u001b[0m \u001b[31m25.8 MB/s\u001b[0m eta \u001b[36m0:00:00\u001b[0m\n",
            "\u001b[2K   \u001b[90m\u2501\u2501\u2501\u2501\u2501\u2501\u2501\u2501\u2501\u2501\u2501\u2501\u2501\u2501\u2501\u2501\u2501\u2501\u2501\u2501\u2501\u2501\u2501\u2501\u2501\u2501\u2501\u2501\u2501\u2501\u2501\u2501\u2501\u2501\u2501\u2501\u2501\u2501\u2501\u2501\u001b[0m \u001b[32m139.8/139.8 kB\u001b[0m \u001b[31m4.3 MB/s\u001b[0m eta \u001b[36m0:00:00\u001b[0m\n",
            "\u001b[2K   \u001b[90m\u2501\u2501\u2501\u2501\u2501\u2501\u2501\u2501\u2501\u2501\u2501\u2501\u2501\u2501\u2501\u2501\u2501\u2501\u2501\u2501\u2501\u2501\u2501\u2501\u2501\u2501\u2501\u2501\u2501\u2501\u2501\u2501\u2501\u2501\u2501\u2501\u2501\u2501\u2501\u2501\u001b[0m \u001b[32m2.3/2.3 MB\u001b[0m \u001b[31m23.2 MB/s\u001b[0m eta \u001b[36m0:00:00\u001b[0m\n",
            "\u001b[2K   \u001b[90m\u2501\u2501\u2501\u2501\u2501\u2501\u2501\u2501\u2501\u2501\u2501\u2501\u2501\u2501\u2501\u2501\u2501\u2501\u2501\u2501\u2501\u2501\u2501\u2501\u2501\u2501\u2501\u2501\u2501\u2501\u2501\u2501\u2501\u2501\u2501\u2501\u2501\u2501\u2501\u2501\u001b[0m \u001b[32m1.6/1.6 MB\u001b[0m \u001b[31m26.8 MB/s\u001b[0m eta \u001b[36m0:00:00\u001b[0m\n",
            "\u001b[2K   \u001b[90m\u2501\u2501\u2501\u2501\u2501\u2501\u2501\u2501\u2501\u2501\u2501\u2501\u2501\u2501\u2501\u2501\u2501\u2501\u2501\u2501\u2501\u2501\u2501\u2501\u2501\u2501\u2501\u2501\u2501\u2501\u2501\u2501\u2501\u2501\u2501\u2501\u2501\u2501\u2501\u2501\u001b[0m \u001b[32m562.1/562.1 kB\u001b[0m \u001b[31m21.2 MB/s\u001b[0m eta \u001b[36m0:00:00\u001b[0m\n",
            "\u001b[2K   \u001b[90m\u2501\u2501\u2501\u2501\u2501\u2501\u2501\u2501\u2501\u2501\u2501\u2501\u2501\u2501\u2501\u2501\u2501\u2501\u2501\u2501\u2501\u2501\u2501\u2501\u2501\u2501\u2501\u2501\u2501\u2501\u2501\u2501\u2501\u2501\u2501\u2501\u2501\u2501\u2501\u2501\u001b[0m \u001b[32m116.2/116.2 kB\u001b[0m \u001b[31m8.5 MB/s\u001b[0m eta \u001b[36m0:00:00\u001b[0m\n",
            "\u001b[?25h"
          ]
        }
      ],
      "source": [
        "%pip install yfiles_jupyter_graphs --quiet\n",
        "%pip install rdflib networkx --quiet\n",
        "from rdflib import Graph\n",
        "from yfiles_jupyter_graphs import GraphWidget\n",
        "from rdflib.extras.external_graph_libs import rdflib_to_networkx_graph"
      ]
    },
    {
      "cell_type": "markdown",
      "id": "222eab1d-14cc-418b-a109-a63b9f1ca7d1",
      "metadata": {
        "id": "222eab1d-14cc-418b-a109-a63b9f1ca7d1"
      },
      "source": [
        "You can also open this notebook in Google Colab when Google Colab's custom widget manager is enabled:"
      ]
    },
    {
      "cell_type": "code",
      "execution_count": 2,
      "id": "bb5491e4-0c8c-4031-b7f4-6f84b9d65c2d",
      "metadata": {
        "id": "bb5491e4-0c8c-4031-b7f4-6f84b9d65c2d"
      },
      "outputs": [],
      "source": [
        "try:\n",
        "  import google.colab\n",
        "  from google.colab import output\n",
        "  output.enable_custom_widget_manager()\n",
        "except:\n",
        "  pass"
      ]
    },
    {
      "cell_type": "markdown",
      "id": "4b69e398-3b70-40f7-ae7b-8e4a2d186807",
      "metadata": {
        "id": "4b69e398-3b70-40f7-ae7b-8e4a2d186807"
      },
      "source": [
        "<a target=\"_blank\" href=\"https://colab.research.google.com/github/yWorks/yfiles-jupyter-graphs/blob/main/examples/19_rdflib_import.ipynb\"><img src=\"https://colab.research.google.com/assets/colab-badge.svg\" alt=\"Open In Colab\"/></a>"
      ]
    },
    {
      "cell_type": "markdown",
      "id": "a04acaf9-3737-4b85-8c10-80b44b3e01ce",
      "metadata": {
        "id": "a04acaf9-3737-4b85-8c10-80b44b3e01ce"
      },
      "source": [
        "# Requirements on rdflib\n",
        "\n",
        "This notebook requires rdflib version 6+ due to a [bug](https://github.com/RDFLib/rdflib/issues/1488) in the rdflib library.\n",
        "\n",
        "Subsequently, rdflib version 6+ requires at least Python 3.7+. So make sure to met these requirements for running this notebook."
      ]
    },
    {
      "cell_type": "markdown",
      "id": "6340f7a0-4019-4856-aee4-e4a2cd117b0c",
      "metadata": {
        "id": "6340f7a0-4019-4856-aee4-e4a2cd117b0c"
      },
      "source": [
        "## How to import a graph\n",
        "- either import the graph directly when initilizing: ```GraphWidget(graph=your_graph)```\n",
        "- or use the ```w.import_graph(your_graph)``` function, if you already initilized a Widget called ```w```\n",
        "\n",
        "## Notes about RDF\n",
        "- We use the Networkx importer to import RDF graph data\n",
        "- a lot of different libraries support Networkx or pandas\n",
        "- convert your graph to one of the supported import libraries, then you can use the widget on your data"
      ]
    },
    {
      "cell_type": "markdown",
      "id": "9ffac35e-1d64-47b2-b034-d91ad7ef8a98",
      "metadata": {
        "id": "9ffac35e-1d64-47b2-b034-d91ad7ef8a98"
      },
      "source": [
        "Shows how to load an RDF graph into a yFiles Jupyter Graph widget via networkx"
      ]
    },
    {
      "cell_type": "code",
      "execution_count": 3,
      "id": "1c2155ce-03bc-4eca-88e9-312c5c4e2533",
      "metadata": {
        "id": "1c2155ce-03bc-4eca-88e9-312c5c4e2533",
        "outputId": "edd10973-136b-4212-ece9-6c2cc4037b97",
        "colab": {
          "base_uri": "https://localhost:8080/",
          "height": 517,
          "referenced_widgets": [
            "7e217c0b832f4c288bd623d84d18e0e1",
            "fdecde4a1c3641a5bac4cf5bb77d20af"
          ]
        }
      },
      "outputs": [
        {
          "output_type": "display_data",
          "data": {
            "text/plain": [
              "GraphWidget(layout=Layout(height='500px', width='100%'))"
            ],
            "application/vnd.jupyter.widget-view+json": {
              "version_major": 2,
              "version_minor": 0,
              "model_id": "7e217c0b832f4c288bd623d84d18e0e1"
            }
          },
          "metadata": {
            "application/vnd.jupyter.widget-view+json": {
              "colab": {
                "custom_widget_manager": {
                  "url": "https://ssl.gstatic.com/colaboratory-static/widgets/colab-cdn-widget-manager/2b70e893a8ba7c0f/manager.min.js"
                }
              }
            }
          }
        }
      ],
      "source": [
        "# Create a Graph, add in some test data\n",
        "g = Graph()\n",
        "g.parse(\n",
        "    data=\"\"\"\n",
        "        <x:> a <c:> .\n",
        "        <y:> a <c:> .\n",
        "    \"\"\",\n",
        "    format=\"turtle\"\n",
        ")\n",
        "\n",
        "# Add in a new triple using SPATQL UPDATE\n",
        "g.update(\"\"\"INSERT DATA { <z:> a <c:> }\"\"\")\n",
        "\n",
        "# Change type of <y:> from <c:> to <d:>\n",
        "g.update(\"\"\"\n",
        "         DELETE { <y:> a <c:> }\n",
        "         INSERT { <y:> a <d:> }\n",
        "         WHERE { <y:> a <c:> }\n",
        "         \"\"\")\n",
        "\n",
        "dg = rdflib_to_networkx_graph(g, False, edge_attrs=lambda s,p,o:{})\n",
        "\n",
        "w = GraphWidget(graph = dg)\n",
        "display(w)"
      ]
    }
  ],
  "metadata": {
    "kernelspec": {
      "display_name": "Python 3 (ipykernel)",
      "language": "python",
      "name": "python3"
    },
    "language_info": {
      "codemirror_mode": {
        "name": "ipython",
        "version": 3
      },
      "file_extension": ".py",
      "mimetype": "text/x-python",
      "name": "python",
      "nbconvert_exporter": "python",
      "pygments_lexer": "ipython3",
      "version": "3.11.3"
    },
    "colab": {
      "provenance": []
    },
    "widgets": {
      "application/vnd.jupyter.widget-state+json": {
        "7e217c0b832f4c288bd623d84d18e0e1": {
          "model_module": "yfiles-jupyter-graphs",
          "model_name": "GraphModel",
          "model_module_version": "^1.8.1",
          "state": {
            "_context_pane_mapping": [
              {
                "id": "Neighborhood",
                "title": "Neighborhood"
              },
              {
                "id": "Data",
                "title": "Data"
              },
              {
                "id": "Search",
                "title": "Search"
              },
              {
                "id": "About",
                "title": "About"
              }
            ],
            "_data_importer": "networkx",
            "_directed": false,
            "_dom_classes": [],
            "_edges": [
              {
                "id": 0,
                "start": 0,
                "end": 1,
                "properties": {},
                "label": "",
                "color": "#15AFAC",
                "thickness_factor": 1,
                "directed": false
              },
              {
                "id": 1,
                "start": 1,
                "end": 2,
                "properties": {},
                "label": "",
                "color": "#15AFAC",
                "thickness_factor": 1,
                "directed": false
              },
              {
                "id": 2,
                "start": 3,
                "end": 4,
                "properties": {},
                "label": "",
                "color": "#15AFAC",
                "thickness_factor": 1,
                "directed": false
              }
            ],
            "_graph_layout": {},
            "_highlight": [],
            "_license": {},
            "_model_module": "yfiles-jupyter-graphs",
            "_model_module_version": "^1.8.1",
            "_model_name": "GraphModel",
            "_neighborhood": {},
            "_nodes": [
              {
                "id": 0,
                "properties": {
                  "label": "z:"
                },
                "color": "#15AFAC",
                "styles": {},
                "label": "z:",
                "scale_factor": 1,
                "type": "#15AFAC",
                "size": [
                  55,
                  55
                ],
                "position": [
                  0,
                  0
                ]
              },
              {
                "id": 1,
                "properties": {
                  "label": "c:"
                },
                "color": "#15AFAC",
                "styles": {},
                "label": "c:",
                "scale_factor": 1,
                "type": "#15AFAC",
                "size": [
                  55,
                  55
                ],
                "position": [
                  0,
                  0
                ]
              },
              {
                "id": 2,
                "properties": {
                  "label": "x:"
                },
                "color": "#15AFAC",
                "styles": {},
                "label": "x:",
                "scale_factor": 1,
                "type": "#15AFAC",
                "size": [
                  55,
                  55
                ],
                "position": [
                  0,
                  0
                ]
              },
              {
                "id": 3,
                "properties": {
                  "label": "y:"
                },
                "color": "#15AFAC",
                "styles": {},
                "label": "y:",
                "scale_factor": 1,
                "type": "#15AFAC",
                "size": [
                  55,
                  55
                ],
                "position": [
                  0,
                  0
                ]
              },
              {
                "id": 4,
                "properties": {
                  "label": "d:"
                },
                "color": "#15AFAC",
                "styles": {},
                "label": "d:",
                "scale_factor": 1,
                "type": "#15AFAC",
                "size": [
                  55,
                  55
                ],
                "position": [
                  0,
                  0
                ]
              }
            ],
            "_overview": {
              "enabled": null,
              "overview_set": false
            },
            "_selected_graph": [
              [],
              []
            ],
            "_sidebar": {
              "enabled": false,
              "start_with": null
            },
            "_view_count": null,
            "_view_module": "yfiles-jupyter-graphs",
            "_view_module_version": "^1.8.1",
            "_view_name": "GraphView",
            "layout": "IPY_MODEL_fdecde4a1c3641a5bac4cf5bb77d20af",
            "tabbable": null,
            "tooltip": null
          }
        },
        "fdecde4a1c3641a5bac4cf5bb77d20af": {
          "model_module": "@jupyter-widgets/base",
          "model_name": "LayoutModel",
          "model_module_version": "2.0.0",
          "state": {
            "_model_module": "@jupyter-widgets/base",
            "_model_module_version": "2.0.0",
            "_model_name": "LayoutModel",
            "_view_count": null,
            "_view_module": "@jupyter-widgets/base",
            "_view_module_version": "2.0.0",
            "_view_name": "LayoutView",
            "align_content": null,
            "align_items": null,
            "align_self": null,
            "border_bottom": null,
            "border_left": null,
            "border_right": null,
            "border_top": null,
            "bottom": null,
            "display": null,
            "flex": null,
            "flex_flow": null,
            "grid_area": null,
            "grid_auto_columns": null,
            "grid_auto_flow": null,
            "grid_auto_rows": null,
            "grid_column": null,
            "grid_gap": null,
            "grid_row": null,
            "grid_template_areas": null,
            "grid_template_columns": null,
            "grid_template_rows": null,
            "height": "500px",
            "justify_content": null,
            "justify_items": null,
            "left": null,
            "margin": null,
            "max_height": null,
            "max_width": null,
            "min_height": null,
            "min_width": null,
            "object_fit": null,
            "object_position": null,
            "order": null,
            "overflow": null,
            "padding": null,
            "right": null,
            "top": null,
            "visibility": null,
            "width": "100%"
          }
        },
        "state": {}
      }
    }
  },
  "nbformat": 4,
  "nbformat_minor": 5
}