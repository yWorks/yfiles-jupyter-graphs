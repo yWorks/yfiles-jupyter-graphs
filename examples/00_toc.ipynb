{
 "cells": [
  {
   "cell_type": "markdown",
   "id": "f76ce2d4-4459-4d3a-8eb5-dd8dc87e2c09",
   "metadata": {},
   "source": [
    "# <u>Table of Contents</u>"
   ]
  },
  {
   "cell_type": "markdown",
   "id": "61168c9b-390d-4536-b89b-1a61ed2d6344",
   "metadata": {},
   "source": [
    "This folder contains example notebooks for the different features of the yFiles Graphs for Jupyter widget. Also see the full [documentation](https://yworks.github.io/yfiles-jupyter-graphs/) or visit the [yFiles Graphs for Jupyter](https://www.yworks.com/products/yfiles-graphs-for-jupyter?utm_campaign=yfiles4jupyter&utm_source=github&utm_medium=tocNotebook&utm_content=v1.5.0) for more information about the widget.\n",
    "\n",
    "For any bugs regarding this widget, consider opening a new issue on [GitHub](https://github.com/yWorks/yfiles-jupyter-graphs/issues).\n",
    "\n",
    "- **[Introduction](./01_introduction.ipynb)** <br>\n",
    "  The introduction notebook shows the very basic usage of how to visualize structured data as an interactive diagram.\n",
    "- **Data mapping functions** <br>\n",
    "  The example notebooks in this section explain how to use the different data capabilities. For example, how to use specific \\\n",
    "  item data as label in the diagram, or how to use certain data to adjust the styling or size of the node or edge.\n",
    "  - [Label mapping](./02_label_mapping.ipynb)\n",
    "    - [Label styles mapping](./02a_label_styles_mapping.ipynb) \n",
    "  - [Color mapping](./03_color_mapping.ipynb)\n",
    "  - [Layout mapping](./04_layout_mapping.ipynb)\n",
    "  - [Size and scale factor mapping](./05_size_mapping.ipynb)\n",
    "  - [Property mapping](./07_property_mapping.ipynb)\n",
    "  - [Position mapping](./06_position_mapping.ipynb)\n",
    "  - [Style mapping](./08_styles_mapping.ipynb)\n",
    "  - [Type mapping](./09_type_mapping.ipynb)\n",
    "  - [Direction mapping](./10_direction_mapping.ipynb)\n",
    "  - [Thickness mapping](./11_thickness_mapping.ipynb)\n",
    "  - [Mapping overloads](./12_mapping_overloads.ipynb)\n",
    "- **Data import from different sources** <br>\n",
    "  In this section, you will learn how to use the widget's graph import feature to visualize graphs of popular networking packages.\n",
    "  - [NetworkX](./13_networkx_import.ipynb)\n",
    "  - [Pandas dataframes](./14_pandas_import.ipynb)\n",
    "  - [PyGraphviz](./15_graphviz_import.ipynb)\n",
    "  - [Neo4j](./16_neo4j_import.ipynb)\n",
    "  - [iGraph](./17_igraph_import.ipynb)\n",
    "  - [graph-tool](./18_graph-tool_import.ipynb)\n",
    "  - [RDFLib](./19_rdflib_import.ipynb)\n",
    "- **[Large diagrams](./20_large-diagram.ipynb)** <br>\n",
    "  The widget is capable to also display large networks. This notebook illustrates this with a large NetworkX graph.\n",
    "- **[Selection export](./21_selection_export.ipynb)** <br>\n",
    "  The data of interactively selected nodes and edges can be extracted to a Jupyter cell for further processing as shown in this example.\n",
    "- **[Automatic graph layouts](./22_layouts.ipynb)** <br>\n",
    "  See the different automatic graph layouts in action and find the most suitable for your graph structure.\n",
    "- **Widget features** <br>\n",
    "  Explore the widget's user interface and the features it provides with these examples.\n",
    "  - [Sidebar](./23_sidebar.ipynb)\n",
    "  - [Neighborhood](./24_neighborhood.ipynb)\n",
    "  - [Overview](./25_overview.ipynb)\n",
    "  - [Widget Layout](./26_widget_layout.ipynb)\n",
    "- **[Advanced example using Neo4j graph data science](./27_neo4j-sample-gds_example.ipynb)** <br>\n",
    "  This notebook contains a more in-depth example of the yFiles Graphs for Jupyter widget with Neo4j Graph Data Science package.\n",
    "- **[Example using Little Alchemy 2 database](./28_little-alchemy_example.ipynb)** <br>\n",
    "    This notebook uses some Game recipes of Little Alchemy 2\n",
    "- **Backgrounds**\n",
    "    - [Heat Mapping](./29_heat_mapping.ipynb)\n",
    "    - [Leaflet Integration](./30_leaflet_mapping.ipynb)\n",
    "- **Nested Graphs** <br>\n",
    "    These notebooks show how to create group nodes\n",
    "  - [Nested Graphs](./31_nested_graphs.ipynb)\n",
    " \n",
    "- **Showcase** <br>\n",
    "    A selection of feature highlights can be viewed in the [Showcase](./feature-releases/showcase.ipynb) notebook."
   ]
  },
  {
   "cell_type": "markdown",
   "id": "b68c83d0-3a4d-4c89-b528-971883e5d134",
   "metadata": {},
   "source": [
    "---\n",
    "\n",
    "# Powered by yFiles for HTML\n",
    "\n",
    "The widget is powered by [yFiles for HTML](https://www.yfiles.com/the-yfiles-sdk/web/yfiles-for-html?utm_campaign=yfiles4jupyter&utm_source=github&utm_medium=tocNotebook), the industry-leading software library for diagramming.\n",
    "\n",
    "If you are interested in [yFiles for HTML](https://www.yfiles.com/the-yfiles-sdk/web/yfiles-for-html?utm_campaign=yfiles4jupyter&utm_source=github&utm_medium=tocNotebook), start your evaluation on [my.yworks.com](https://my.yworks.com/signup?utm_campaign=yfiles4jupyter&utm_source=github&utm_medium=tocNotebook) and create a perfectly tailored network visualization for your use case!"
   ]
  }
 ],
 "metadata": {
  "kernelspec": {
   "display_name": "Python 3 (ipykernel)",
   "language": "python",
   "name": "python3"
  },
  "language_info": {
   "codemirror_mode": {
    "name": "ipython",
    "version": 3
   },
   "file_extension": ".py",
   "mimetype": "text/x-python",
   "name": "python",
   "nbconvert_exporter": "python",
   "pygments_lexer": "ipython3",
   "version": "3.11.7"
  },
  "widgets": {
   "application/vnd.jupyter.widget-state+json": {
    "state": {},
    "version_major": 2,
    "version_minor": 0
   }
  }
 },
 "nbformat": 4,
 "nbformat_minor": 5
}
