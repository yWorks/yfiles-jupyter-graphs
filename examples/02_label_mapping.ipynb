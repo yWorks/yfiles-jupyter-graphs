{
  "cells": [
    {
      "cell_type": "markdown",
      "id": "2bc80da9-831a-403f-9307-7f08fd20599c",
      "metadata": {
        "id": "2bc80da9-831a-403f-9307-7f08fd20599c"
      },
      "source": [
        "# Element Label Mapping <a target=\"_blank\" href=\"https://colab.research.google.com/github/yWorks/yfiles-jupyter-graphs/blob/main/examples/02_label_mapping.ipynb\"><img src=\"https://colab.research.google.com/assets/colab-badge.svg\" alt=\"Open In Colab\"/></a>"
      ]
    },
    {
      "cell_type": "markdown",
      "id": "dffe6f9e-b5bc-4338-aa02-2ea826c8875d",
      "metadata": {
        "id": "dffe6f9e-b5bc-4338-aa02-2ea826c8875d"
      },
      "source": [
        "This notebook covers the basics of customizing node and edge labels.\n",
        "\n",
        "For mapping demonstrations, we'll use the same graph, ```erdos_renyi_graph```, imported from the NetworkX package.\n",
        "\n",
        "For more details on how to import graph data, explore the other example notebooks or refer to the full widget [documentation](https://yworks.github.io/yfiles-jupyter-graphs/).\n",
        "\n",
        "Before utilizing the graph widget, ensure all necessary packages are installed."
      ]
    },
    {
      "cell_type": "code",
      "execution_count": 1,
      "id": "3d1e6aef-8aeb-4b37-b7b8-5ae0279ff1f2",
      "metadata": {
        "id": "3d1e6aef-8aeb-4b37-b7b8-5ae0279ff1f2",
        "colab": {
          "base_uri": "https://localhost:8080/",
          "height": 86
        },
        "outputId": "972dddf9-fc67-4cdd-d46d-c1c21a217a77"
      },
      "outputs": [
        {
          "output_type": "stream",
          "name": "stdout",
          "text": [
            "\u001b[2K   \u001b[90m\u2501\u2501\u2501\u2501\u2501\u2501\u2501\u2501\u2501\u2501\u2501\u2501\u2501\u2501\u2501\u2501\u2501\u2501\u2501\u2501\u2501\u2501\u2501\u2501\u2501\u2501\u2501\u2501\u2501\u2501\u2501\u2501\u2501\u2501\u2501\u2501\u2501\u2501\u2501\u2501\u001b[0m \u001b[32m15.6/15.6 MB\u001b[0m \u001b[31m38.8 MB/s\u001b[0m eta \u001b[36m0:00:00\u001b[0m\n",
            "\u001b[2K   \u001b[90m\u2501\u2501\u2501\u2501\u2501\u2501\u2501\u2501\u2501\u2501\u2501\u2501\u2501\u2501\u2501\u2501\u2501\u2501\u2501\u2501\u2501\u2501\u2501\u2501\u2501\u2501\u2501\u2501\u2501\u2501\u2501\u2501\u2501\u2501\u2501\u2501\u2501\u2501\u2501\u2501\u001b[0m \u001b[32m139.8/139.8 kB\u001b[0m \u001b[31m3.2 MB/s\u001b[0m eta \u001b[36m0:00:00\u001b[0m\n",
            "\u001b[2K   \u001b[90m\u2501\u2501\u2501\u2501\u2501\u2501\u2501\u2501\u2501\u2501\u2501\u2501\u2501\u2501\u2501\u2501\u2501\u2501\u2501\u2501\u2501\u2501\u2501\u2501\u2501\u2501\u2501\u2501\u2501\u2501\u2501\u2501\u2501\u2501\u2501\u2501\u2501\u2501\u2501\u2501\u001b[0m \u001b[32m2.3/2.3 MB\u001b[0m \u001b[31m24.9 MB/s\u001b[0m eta \u001b[36m0:00:00\u001b[0m\n",
            "\u001b[2K   \u001b[90m\u2501\u2501\u2501\u2501\u2501\u2501\u2501\u2501\u2501\u2501\u2501\u2501\u2501\u2501\u2501\u2501\u2501\u2501\u2501\u2501\u2501\u2501\u2501\u2501\u2501\u2501\u2501\u2501\u2501\u2501\u2501\u2501\u2501\u2501\u2501\u2501\u2501\u2501\u2501\u2501\u001b[0m \u001b[32m1.6/1.6 MB\u001b[0m \u001b[31m20.2 MB/s\u001b[0m eta \u001b[36m0:00:00\u001b[0m\n",
            "\u001b[?25h"
          ]
        }
      ],
      "source": [
        "%pip install yfiles_jupyter_graphs --quiet\n",
        "from yfiles_jupyter_graphs import GraphWidget\n",
        "%pip install networkx --quiet\n",
        "from typing import Dict\n",
        "from networkx import erdos_renyi_graph, set_node_attributes, set_edge_attributes\n",
        "\n",
        "g = erdos_renyi_graph(10, 0.3, 2)\n",
        "# We will use this additional attribute as a label later on\n",
        "set_node_attributes(g,  {node: {\"NodeName\": f\"Node {node}\"} for node in g.nodes})\n",
        "set_edge_attributes(g,  {edge: {\"EdgeName\": f\"Edge {edge}\"} for edge in g.edges})\n",
        "w = GraphWidget(graph=g)\n"
      ]
    },
    {
      "cell_type": "markdown",
      "id": "bb2a8969-59b4-4fc2-8ac2-e6bef9420a22",
      "metadata": {
        "id": "bb2a8969-59b4-4fc2-8ac2-e6bef9420a22"
      },
      "source": [
        "You can also open this notebook in Google Colab when Google Colab's custom widget manager is enabled:"
      ]
    },
    {
      "cell_type": "code",
      "execution_count": 2,
      "id": "ac38b394-68c0-417d-b054-d5cff09e436f",
      "metadata": {
        "id": "ac38b394-68c0-417d-b054-d5cff09e436f"
      },
      "outputs": [],
      "source": [
        "try:\n",
        "  import google.colab\n",
        "  from google.colab import output\n",
        "  output.enable_custom_widget_manager()\n",
        "except:\n",
        "  pass"
      ]
    },
    {
      "cell_type": "markdown",
      "id": "42c6792a-87fd-4f42-b6c1-7d3b04a8e12c",
      "metadata": {
        "id": "42c6792a-87fd-4f42-b6c1-7d3b04a8e12c"
      },
      "source": [
        "<a target=\"_blank\" href=\"https://colab.research.google.com/github/yWorks/yfiles-jupyter-graphs/blob/main/examples/02_label_mapping.ipynb\"><img src=\"https://colab.research.google.com/assets/colab-badge.svg\" alt=\"Open In Colab\"/></a>"
      ]
    },
    {
      "cell_type": "markdown",
      "id": "6136a30d-5a9e-41f4-b650-d35ed3bcc146",
      "metadata": {
        "id": "6136a30d-5a9e-41f4-b650-d35ed3bcc146"
      },
      "source": [
        "This is the graph we will be working on:"
      ]
    },
    {
      "cell_type": "code",
      "execution_count": 3,
      "id": "4a65a738-fa76-489b-b444-1cef7f00ea1c",
      "metadata": {
        "id": "4a65a738-fa76-489b-b444-1cef7f00ea1c",
        "outputId": "9e78ffb4-446e-475a-e4f1-3fd6199eaee5",
        "colab": {
          "base_uri": "https://localhost:8080/",
          "height": 517,
          "referenced_widgets": [
            "42eaed2229e6451588fcd836003bea69",
            "8045061ce63d4de39e96b821f52a976e"
          ]
        }
      },
      "outputs": [
        {
          "output_type": "display_data",
          "data": {
            "text/plain": [
              "GraphWidget(layout=Layout(height='500px', width='100%'))"
            ],
            "application/vnd.jupyter.widget-view+json": {
              "version_major": 2,
              "version_minor": 0,
              "model_id": "42eaed2229e6451588fcd836003bea69"
            }
          },
          "metadata": {
            "application/vnd.jupyter.widget-view+json": {
              "colab": {
                "custom_widget_manager": {
                  "url": "https://ssl.gstatic.com/colaboratory-static/widgets/colab-cdn-widget-manager/2b70e893a8ba7c0f/manager.min.js"
                }
              }
            }
          }
        }
      ],
      "source": [
        "display(GraphWidget(graph=g))"
      ]
    },
    {
      "cell_type": "markdown",
      "id": "8af7687d-bd70-48e4-85b1-3a1fa55b92a4",
      "metadata": {
        "id": "8af7687d-bd70-48e4-85b1-3a1fa55b92a4"
      },
      "source": [
        "## Node Label Mapping\n",
        "### Property key mapping\n",
        "\n",
        "To only reflect the data of a property on the node, you can easily assign this using the respective key. Check out the [mapping overloads notebook](./12_mapping_overloads.ipynb) for a more detailed explanation.\n",
        "\n",
        "This is a shorter alternative to a local lambda function, e.g., `lambda node: node['properties']['NodeName']`."
      ]
    },
    {
      "cell_type": "code",
      "execution_count": 4,
      "id": "0057e94d-fc4a-417a-ad94-a81689ec6f16",
      "metadata": {
        "id": "0057e94d-fc4a-417a-ad94-a81689ec6f16",
        "outputId": "9454cad6-df54-4342-f926-3275654f418f",
        "colab": {
          "base_uri": "https://localhost:8080/",
          "height": 517,
          "referenced_widgets": [
            "7ad33d6f022e47bcbf25415fa73dce57",
            "8277125789534576855d61f41200ff83"
          ]
        }
      },
      "outputs": [
        {
          "output_type": "display_data",
          "data": {
            "text/plain": [
              "GraphWidget(layout=Layout(height='500px', width='100%'))"
            ],
            "application/vnd.jupyter.widget-view+json": {
              "version_major": 2,
              "version_minor": 0,
              "model_id": "7ad33d6f022e47bcbf25415fa73dce57"
            }
          },
          "metadata": {
            "application/vnd.jupyter.widget-view+json": {
              "colab": {
                "custom_widget_manager": {
                  "url": "https://ssl.gstatic.com/colaboratory-static/widgets/colab-cdn-widget-manager/2b70e893a8ba7c0f/manager.min.js"
                }
              }
            }
          }
        }
      ],
      "source": [
        "w.node_label_mapping = 'NodeName'\n",
        "display(w)"
      ]
    },
    {
      "cell_type": "markdown",
      "id": "12bd0dd5-77c8-4aa3-bd0d-46c80f7ec83b",
      "metadata": {
        "id": "12bd0dd5-77c8-4aa3-bd0d-46c80f7ec83b"
      },
      "source": [
        "### Function mapping\n",
        "\n",
        "For a more versatile node label computation you can define a mapping function:\n",
        "\n",
        "The node label mapping is a function that is supposed to return a label string for each given node object which is then displayed in the widget.\n",
        "\n",
        "Optionally, the index can be used as the first function parameter.\n",
        "\n",
        "We will use the index of each node to compute our new label which will be the negated index. \\\n",
        "For this, we first define a new mapping function and then set this function as our current label mapping."
      ]
    },
    {
      "cell_type": "code",
      "execution_count": 5,
      "id": "70de2c54-0a34-4d1c-9eb4-9a186946eac2",
      "metadata": {
        "id": "70de2c54-0a34-4d1c-9eb4-9a186946eac2"
      },
      "outputs": [],
      "source": [
        "def custom_node_label_mapping(index: int, node: Dict):\n",
        "    \"\"\"let the label be the negated index\"\"\"\n",
        "    return '-' + str(index)"
      ]
    },
    {
      "cell_type": "markdown",
      "id": "d4b098da-f7f3-4d97-8814-74cb7484c714",
      "metadata": {
        "id": "d4b098da-f7f3-4d97-8814-74cb7484c714"
      },
      "source": [
        "### Custom node mappings\n",
        "\n",
        "There are get and set methods for each customizable node property.\n",
        "- you can set a new node mapping with ```w.set_node_[binding]_mapping```\n",
        "- you can get the current node mapping with ```w.get_node_[binding]_mapping```\n",
        "- you can delete a custom node mapping with ```w.del_node_[binding]_mapping```\n",
        "\n",
        "You can find more details in the dedicated function documentation, available at ```w.[function_name].__doc__``` or in the [documentation](https://yworks.github.io/yfiles-jupyter-graphs/02_graph_widget/#methods).\n",
        "\n",
        "If no custom mapping is set the default mappings are used."
      ]
    },
    {
      "cell_type": "code",
      "execution_count": 6,
      "id": "a4d6f729-9089-4004-a229-7e547b9d2d77",
      "metadata": {
        "id": "a4d6f729-9089-4004-a229-7e547b9d2d77",
        "outputId": "3e33d07d-bca0-48a2-9e2e-2959d29c9ef4",
        "colab": {
          "base_uri": "https://localhost:8080/"
        }
      },
      "outputs": [
        {
          "output_type": "stream",
          "name": "stdout",
          "text": [
            "The default label mapping for graph elements.\n",
            "\n",
            "        Element (dict) should have key properties which itself should be a dict.\n",
            "        Then one of the following values (in descending priority) is used as label if the label is a string:\n",
            "\n",
            "        - properties[\"label\"]\n",
            "        - properties[\"yf_label\"]\n",
            "\n",
            "        When importing a Neo4j graph, the following properties are values are used as labels (in descending priority):\n",
            "\n",
            "        - properties['name']\n",
            "        - properties['title']\n",
            "        - properties['label']\n",
            "        - properties['description']\n",
            "        - properties['caption']\n",
            "        - properties['text']\n",
            "\n",
            "        Parameters\n",
            "        ----------\n",
            "        index: int (optional)\n",
            "        element: typing.Dict\n",
            "\n",
            "        Notes\n",
            "        -----\n",
            "        This is the default value for the {`node|edge`}_label_mapping property.\n",
            "        Can be 'overwritten' by setting the property\n",
            "        with a function of the same signature.\n",
            "\n",
            "        If the given mapping function has only one parameter (that is not typed as int),\n",
            "        then it will be called with the element (typing.Dict) as first parameter.\n",
            "\n",
            "        When a string is provided as the function argument, the key will be searched for in both the properties\n",
            "        dictionary and the element keys.\n",
            "\n",
            "        Example\n",
            "        -------\n",
            "\n",
            "        .. code::\n",
            "\n",
            "           from yfiles_jupyter_graphs import GraphWidget\n",
            "           w = GraphWidget()\n",
            "           w.{node|edge}_label_mapping = 'id'\n",
            "\n",
            "        .. code::\n",
            "\n",
            "           from yfiles_jupyter_graphs import GraphWidget\n",
            "           w = GraphWidget()\n",
            "           def custom_element_label_mapping(element: typing.Dict):\n",
            "           ...\n",
            "           w.set_{node|edge}_label_mapping(custom_element_label_mapping)\n",
            "\n",
            "        Returns\n",
            "        -------\n",
            "        label: str\n",
            "\n",
            "        \n"
          ]
        }
      ],
      "source": [
        "print(w.default_element_label_mapping.__doc__)"
      ]
    },
    {
      "cell_type": "markdown",
      "id": "40028f47-0a6f-4853-9189-47210fa5e2ec",
      "metadata": {
        "id": "40028f47-0a6f-4853-9189-47210fa5e2ec"
      },
      "source": [
        "Let's set new negated node labels:"
      ]
    },
    {
      "cell_type": "code",
      "execution_count": 7,
      "id": "79200fe1-2020-4682-9fdb-6dd7c853358b",
      "metadata": {
        "id": "79200fe1-2020-4682-9fdb-6dd7c853358b",
        "outputId": "b64c6c81-03b3-45fc-fc34-9fd7557f3fbb",
        "colab": {
          "base_uri": "https://localhost:8080/",
          "height": 105
        }
      },
      "outputs": [
        {
          "output_type": "execute_result",
          "data": {
            "text/plain": [
              "<function __main__.custom_node_label_mapping(index: int, node: Dict)>"
            ],
            "text/html": [
              "<div style=\"max-width:800px; border: 1px solid var(--colab-border-color);\"><style>\n",
              "      pre.function-repr-contents {\n",
              "        overflow-x: auto;\n",
              "        padding: 8px 12px;\n",
              "        max-height: 500px;\n",
              "      }\n",
              "\n",
              "      pre.function-repr-contents.function-repr-contents-collapsed {\n",
              "        cursor: pointer;\n",
              "        max-height: 100px;\n",
              "      }\n",
              "    </style>\n",
              "    <pre style=\"white-space: initial; background:\n",
              "         var(--colab-secondary-surface-color); padding: 8px 12px;\n",
              "         border-bottom: 1px solid var(--colab-border-color);\"><b>custom_node_label_mapping</b><br/>def custom_node_label_mapping(index: int, node: Dict)</pre><pre class=\"function-repr-contents function-repr-contents-collapsed\" style=\"\"><a class=\"filepath\" style=\"display:none\" href=\"#\">/content/&lt;ipython-input-5-62d7b7313210&gt;</a>let the label be the negated index</pre></div>"
            ]
          },
          "metadata": {},
          "execution_count": 7
        }
      ],
      "source": [
        "w.set_node_label_mapping(custom_node_label_mapping)\n",
        "w.get_node_label_mapping()"
      ]
    },
    {
      "cell_type": "code",
      "execution_count": 8,
      "id": "a379f670-653d-4a25-a380-7dd53369bde9",
      "metadata": {
        "id": "a379f670-653d-4a25-a380-7dd53369bde9",
        "outputId": "cfc3264a-7d2f-4e46-88eb-07204eb1b1b0",
        "colab": {
          "base_uri": "https://localhost:8080/",
          "height": 517,
          "referenced_widgets": [
            "7ad33d6f022e47bcbf25415fa73dce57",
            "8277125789534576855d61f41200ff83"
          ]
        }
      },
      "outputs": [
        {
          "output_type": "display_data",
          "data": {
            "text/plain": [
              "GraphWidget(layout=Layout(height='500px', width='100%'))"
            ],
            "application/vnd.jupyter.widget-view+json": {
              "version_major": 2,
              "version_minor": 0,
              "model_id": "7ad33d6f022e47bcbf25415fa73dce57"
            }
          },
          "metadata": {
            "application/vnd.jupyter.widget-view+json": {
              "colab": {
                "custom_widget_manager": {
                  "url": "https://ssl.gstatic.com/colaboratory-static/widgets/colab-cdn-widget-manager/2b70e893a8ba7c0f/manager.min.js"
                }
              }
            }
          }
        }
      ],
      "source": [
        "display(w)"
      ]
    },
    {
      "cell_type": "markdown",
      "id": "12c4eaed-a2ca-415e-8eb6-e8c64891eb4c",
      "metadata": {
        "id": "12c4eaed-a2ca-415e-8eb6-e8c64891eb4c"
      },
      "source": [
        "If a node label mapping is deleted, the label mapping reverts back to the default mapping."
      ]
    },
    {
      "cell_type": "code",
      "execution_count": 9,
      "id": "6c4c2164-f1af-472e-bb93-b2edd48a53ba",
      "metadata": {
        "id": "6c4c2164-f1af-472e-bb93-b2edd48a53ba",
        "outputId": "9bc70699-d2ca-4019-f5b0-6c45a83317b7",
        "colab": {
          "base_uri": "https://localhost:8080/",
          "height": 122
        }
      },
      "outputs": [
        {
          "output_type": "execute_result",
          "data": {
            "text/plain": [
              "<bound method GraphWidget.default_node_label_mapping of GraphWidget(layout=Layout(height='500px', width='100%'))>"
            ],
            "text/html": [
              "<div style=\"max-width:800px; border: 1px solid var(--colab-border-color);\"><style>\n",
              "      pre.function-repr-contents {\n",
              "        overflow-x: auto;\n",
              "        padding: 8px 12px;\n",
              "        max-height: 500px;\n",
              "      }\n",
              "\n",
              "      pre.function-repr-contents.function-repr-contents-collapsed {\n",
              "        cursor: pointer;\n",
              "        max-height: 100px;\n",
              "      }\n",
              "    </style>\n",
              "    <pre style=\"white-space: initial; background:\n",
              "         var(--colab-secondary-surface-color); padding: 8px 12px;\n",
              "         border-bottom: 1px solid var(--colab-border-color);\"><b>yfiles_jupyter_graphs.widget.GraphWidget.default_node_label_mapping</b><br/>def default_node_label_mapping(index: int, node: TDict)</pre><pre class=\"function-repr-contents function-repr-contents-collapsed\" style=\"\"><a class=\"filepath\" style=\"display:none\" href=\"#\">/usr/local/lib/python3.10/dist-packages/yfiles_jupyter_graphs/widget.py</a>See default element label mapping.</pre>\n",
              "      <script>\n",
              "      if (google.colab.kernel.accessAllowed && google.colab.files && google.colab.files.view) {\n",
              "        for (const element of document.querySelectorAll('.filepath')) {\n",
              "          element.style.display = 'block'\n",
              "          element.onclick = (event) => {\n",
              "            event.preventDefault();\n",
              "            event.stopPropagation();\n",
              "            google.colab.files.view(element.textContent, 1422);\n",
              "          };\n",
              "        }\n",
              "      }\n",
              "      for (const element of document.querySelectorAll('.function-repr-contents')) {\n",
              "        element.onclick = (event) => {\n",
              "          event.preventDefault();\n",
              "          event.stopPropagation();\n",
              "          element.classList.toggle('function-repr-contents-collapsed');\n",
              "        };\n",
              "      }\n",
              "      </script>\n",
              "      </div>"
            ]
          },
          "metadata": {},
          "execution_count": 9
        }
      ],
      "source": [
        "w.del_node_label_mapping()\n",
        "w.get_node_label_mapping()"
      ]
    },
    {
      "cell_type": "markdown",
      "id": "2a48e8b8-d8e2-4d3e-9891-ddaa73826f48",
      "metadata": {
        "id": "2a48e8b8-d8e2-4d3e-9891-ddaa73826f48"
      },
      "source": [
        "## Edge Label Mapping\n",
        "### Property key mapping\n",
        "\n",
        "Similar to node mappings, edges also allow for a short version assigning properties by key:"
      ]
    },
    {
      "cell_type": "code",
      "execution_count": 10,
      "id": "d320734c-8a53-4bbe-8468-d0de06423bcd",
      "metadata": {
        "id": "d320734c-8a53-4bbe-8468-d0de06423bcd",
        "outputId": "44be5697-32d0-4ea4-d55d-63bcf8ab7d3a",
        "colab": {
          "base_uri": "https://localhost:8080/",
          "height": 517,
          "referenced_widgets": [
            "d231df7104d24a9bade78cacf4095710",
            "aaaaa6918e054625b7473c77158bf5cd"
          ]
        }
      },
      "outputs": [
        {
          "output_type": "display_data",
          "data": {
            "text/plain": [
              "GraphWidget(layout=Layout(height='500px', width='100%'))"
            ],
            "application/vnd.jupyter.widget-view+json": {
              "version_major": 2,
              "version_minor": 0,
              "model_id": "d231df7104d24a9bade78cacf4095710"
            }
          },
          "metadata": {
            "application/vnd.jupyter.widget-view+json": {
              "colab": {
                "custom_widget_manager": {
                  "url": "https://ssl.gstatic.com/colaboratory-static/widgets/colab-cdn-widget-manager/2b70e893a8ba7c0f/manager.min.js"
                }
              }
            }
          }
        }
      ],
      "source": [
        "w2 = GraphWidget(graph=g)\n",
        "w2.edge_label_mapping = 'EdgeName'\n",
        "display(w2)"
      ]
    },
    {
      "cell_type": "markdown",
      "id": "4aeec1ca-34e6-4cb5-9e0a-a361606046fa",
      "metadata": {
        "id": "4aeec1ca-34e6-4cb5-9e0a-a361606046fa"
      },
      "source": [
        "### Function mapping\n",
        "\n",
        "Similar to node labels, you can define an edge label mapping function for more control over the visualized label. The edge label mapping is a function that is supposed to return a label string for each given edge object which is then displayed in the widget.\n",
        "\n",
        "We will use a similar mapping function as for the node labels. We negate every edge index and use this as our new edge label. \\\n",
        "For this, we first a define a new mapping function and then set this function as our current edge label mapping. \\\n",
        "In the case of the node label mapping, we used the optional index parameter. Here we only use the edge dictionary."
      ]
    },
    {
      "cell_type": "code",
      "execution_count": 11,
      "id": "782a5ab9-7268-42ee-a88f-1f6dfb70e1e4",
      "metadata": {
        "id": "782a5ab9-7268-42ee-a88f-1f6dfb70e1e4"
      },
      "outputs": [],
      "source": [
        "edges = w2.get_edges()\n",
        "def custom_edge_label_mapping(edge: Dict):\n",
        "    \"\"\"let the label be the negated index\"\"\"\n",
        "    return '-' + str(edges.index(edge))"
      ]
    },
    {
      "cell_type": "markdown",
      "id": "5864b497-c542-4946-a58e-e0b043652005",
      "metadata": {
        "id": "5864b497-c542-4946-a58e-e0b043652005"
      },
      "source": [
        "### Custom edge mappings\n",
        "\n",
        "There are get and set methods for each customizable edge property.\n",
        "- you can set a new edge mapping with ```w.set_edge_[binging]_mapping```\n",
        "- you can get the current edge mapping with ```w.get_edge_[binding]_mapping```\n",
        "- you can delete a custom edge mapping with ```w.del_edge_[binding]_mapping```\n",
        "\n",
        "You can find more details in the dedicated function documentation, available at ```w.[function_name].__doc__```  or in the [documentation](https://yworks.github.io/yfiles-jupyter-graphs/02_graph_widget/#methods).\n",
        "\n",
        "If no custom mapping is set the default mappings are used."
      ]
    },
    {
      "cell_type": "markdown",
      "id": "1fa27ff0-de0e-4e4c-8857-0616dea901be",
      "metadata": {
        "id": "1fa27ff0-de0e-4e4c-8857-0616dea901be"
      },
      "source": [
        "Let's set the new negated edge labels:"
      ]
    },
    {
      "cell_type": "code",
      "execution_count": 12,
      "id": "eca341ce-1276-4d76-b01c-181083365fa2",
      "metadata": {
        "id": "eca341ce-1276-4d76-b01c-181083365fa2",
        "outputId": "387d303e-e633-4d64-9b65-ea8b47ff0752",
        "colab": {
          "base_uri": "https://localhost:8080/",
          "height": 105
        }
      },
      "outputs": [
        {
          "output_type": "execute_result",
          "data": {
            "text/plain": [
              "<function __main__.custom_edge_label_mapping(edge: Dict)>"
            ],
            "text/html": [
              "<div style=\"max-width:800px; border: 1px solid var(--colab-border-color);\"><style>\n",
              "      pre.function-repr-contents {\n",
              "        overflow-x: auto;\n",
              "        padding: 8px 12px;\n",
              "        max-height: 500px;\n",
              "      }\n",
              "\n",
              "      pre.function-repr-contents.function-repr-contents-collapsed {\n",
              "        cursor: pointer;\n",
              "        max-height: 100px;\n",
              "      }\n",
              "    </style>\n",
              "    <pre style=\"white-space: initial; background:\n",
              "         var(--colab-secondary-surface-color); padding: 8px 12px;\n",
              "         border-bottom: 1px solid var(--colab-border-color);\"><b>custom_edge_label_mapping</b><br/>def custom_edge_label_mapping(edge: Dict)</pre><pre class=\"function-repr-contents function-repr-contents-collapsed\" style=\"\"><a class=\"filepath\" style=\"display:none\" href=\"#\">/content/&lt;ipython-input-11-6d51365b6e27&gt;</a>let the label be the negated index</pre></div>"
            ]
          },
          "metadata": {},
          "execution_count": 12
        }
      ],
      "source": [
        "w2.set_edge_label_mapping(custom_edge_label_mapping)\n",
        "w2.get_edge_label_mapping()"
      ]
    },
    {
      "cell_type": "code",
      "execution_count": 13,
      "id": "08ceda9c-14ff-4396-954d-9dfbdbc31389",
      "metadata": {
        "id": "08ceda9c-14ff-4396-954d-9dfbdbc31389",
        "outputId": "6ec20000-252e-45a6-e106-c6dd072704fe",
        "colab": {
          "base_uri": "https://localhost:8080/",
          "height": 517,
          "referenced_widgets": [
            "d231df7104d24a9bade78cacf4095710",
            "aaaaa6918e054625b7473c77158bf5cd"
          ]
        }
      },
      "outputs": [
        {
          "output_type": "display_data",
          "data": {
            "text/plain": [
              "GraphWidget(layout=Layout(height='500px', width='100%'))"
            ],
            "application/vnd.jupyter.widget-view+json": {
              "version_major": 2,
              "version_minor": 0,
              "model_id": "d231df7104d24a9bade78cacf4095710"
            }
          },
          "metadata": {
            "application/vnd.jupyter.widget-view+json": {
              "colab": {
                "custom_widget_manager": {
                  "url": "https://ssl.gstatic.com/colaboratory-static/widgets/colab-cdn-widget-manager/2b70e893a8ba7c0f/manager.min.js"
                }
              }
            }
          }
        }
      ],
      "source": [
        "display(w2)"
      ]
    },
    {
      "cell_type": "markdown",
      "id": "1f25992e-2e98-4a97-8d32-d070aa854ea4",
      "metadata": {
        "id": "1f25992e-2e98-4a97-8d32-d070aa854ea4"
      },
      "source": [
        "If a edge label mapping is deleted, the label mapping reverts back to the default mapping."
      ]
    },
    {
      "cell_type": "code",
      "execution_count": 14,
      "id": "270efae3-3485-4088-a667-569d984108ce",
      "metadata": {
        "id": "270efae3-3485-4088-a667-569d984108ce",
        "outputId": "5aa4b9e5-d9c2-42c0-c286-2505a6e63365",
        "colab": {
          "base_uri": "https://localhost:8080/",
          "height": 122
        }
      },
      "outputs": [
        {
          "output_type": "execute_result",
          "data": {
            "text/plain": [
              "<bound method GraphWidget.default_edge_label_mapping of GraphWidget(layout=Layout(height='500px', width='100%'))>"
            ],
            "text/html": [
              "<div style=\"max-width:800px; border: 1px solid var(--colab-border-color);\"><style>\n",
              "      pre.function-repr-contents {\n",
              "        overflow-x: auto;\n",
              "        padding: 8px 12px;\n",
              "        max-height: 500px;\n",
              "      }\n",
              "\n",
              "      pre.function-repr-contents.function-repr-contents-collapsed {\n",
              "        cursor: pointer;\n",
              "        max-height: 100px;\n",
              "      }\n",
              "    </style>\n",
              "    <pre style=\"white-space: initial; background:\n",
              "         var(--colab-secondary-surface-color); padding: 8px 12px;\n",
              "         border-bottom: 1px solid var(--colab-border-color);\"><b>yfiles_jupyter_graphs.widget.GraphWidget.default_edge_label_mapping</b><br/>def default_edge_label_mapping(index: int, edge: TDict)</pre><pre class=\"function-repr-contents function-repr-contents-collapsed\" style=\"\"><a class=\"filepath\" style=\"display:none\" href=\"#\">/usr/local/lib/python3.10/dist-packages/yfiles_jupyter_graphs/widget.py</a>See default element label mapping.</pre>\n",
              "      <script>\n",
              "      if (google.colab.kernel.accessAllowed && google.colab.files && google.colab.files.view) {\n",
              "        for (const element of document.querySelectorAll('.filepath')) {\n",
              "          element.style.display = 'block'\n",
              "          element.onclick = (event) => {\n",
              "            event.preventDefault();\n",
              "            event.stopPropagation();\n",
              "            google.colab.files.view(element.textContent, 1426);\n",
              "          };\n",
              "        }\n",
              "      }\n",
              "      for (const element of document.querySelectorAll('.function-repr-contents')) {\n",
              "        element.onclick = (event) => {\n",
              "          event.preventDefault();\n",
              "          event.stopPropagation();\n",
              "          element.classList.toggle('function-repr-contents-collapsed');\n",
              "        };\n",
              "      }\n",
              "      </script>\n",
              "      </div>"
            ]
          },
          "metadata": {},
          "execution_count": 14
        }
      ],
      "source": [
        "w2.del_edge_label_mapping()\n",
        "w2.get_edge_label_mapping()"
      ]
    }
  ],
  "metadata": {
    "kernelspec": {
      "display_name": "Python 3 (ipykernel)",
      "language": "python",
      "name": "python3"
    },
    "language_info": {
      "codemirror_mode": {
        "name": "ipython",
        "version": 3
      },
      "file_extension": ".py",
      "mimetype": "text/x-python",
      "name": "python",
      "nbconvert_exporter": "python",
      "pygments_lexer": "ipython3",
      "version": "3.12.3"
    },
    "colab": {
      "provenance": []
    },
    "widgets": {
      "application/vnd.jupyter.widget-state+json": {
        "42eaed2229e6451588fcd836003bea69": {
          "model_module": "yfiles-jupyter-graphs",
          "model_name": "GraphModel",
          "model_module_version": "^1.8.1",
          "state": {
            "_context_pane_mapping": [
              {
                "id": "Neighborhood",
                "title": "Neighborhood"
              },
              {
                "id": "Data",
                "title": "Data"
              },
              {
                "id": "Search",
                "title": "Search"
              },
              {
                "id": "About",
                "title": "About"
              }
            ],
            "_data_importer": "networkx",
            "_directed": false,
            "_dom_classes": [],
            "_edges": [
              {
                "id": 0,
                "start": 0,
                "end": 3,
                "properties": {
                  "EdgeName": "Edge (0, 3)"
                },
                "label": "",
                "color": "#15AFAC",
                "thickness_factor": 1,
                "directed": false
              },
              {
                "id": 1,
                "start": 0,
                "end": 4,
                "properties": {
                  "EdgeName": "Edge (0, 4)"
                },
                "label": "",
                "color": "#15AFAC",
                "thickness_factor": 1,
                "directed": false
              },
              {
                "id": 2,
                "start": 1,
                "end": 4,
                "properties": {
                  "EdgeName": "Edge (1, 4)"
                },
                "label": "",
                "color": "#15AFAC",
                "thickness_factor": 1,
                "directed": false
              },
              {
                "id": 3,
                "start": 2,
                "end": 5,
                "properties": {
                  "EdgeName": "Edge (2, 5)"
                },
                "label": "",
                "color": "#15AFAC",
                "thickness_factor": 1,
                "directed": false
              },
              {
                "id": 4,
                "start": 2,
                "end": 6,
                "properties": {
                  "EdgeName": "Edge (2, 6)"
                },
                "label": "",
                "color": "#15AFAC",
                "thickness_factor": 1,
                "directed": false
              },
              {
                "id": 5,
                "start": 2,
                "end": 7,
                "properties": {
                  "EdgeName": "Edge (2, 7)"
                },
                "label": "",
                "color": "#15AFAC",
                "thickness_factor": 1,
                "directed": false
              },
              {
                "id": 6,
                "start": 3,
                "end": 8,
                "properties": {
                  "EdgeName": "Edge (3, 8)"
                },
                "label": "",
                "color": "#15AFAC",
                "thickness_factor": 1,
                "directed": false
              },
              {
                "id": 7,
                "start": 3,
                "end": 9,
                "properties": {
                  "EdgeName": "Edge (3, 9)"
                },
                "label": "",
                "color": "#15AFAC",
                "thickness_factor": 1,
                "directed": false
              },
              {
                "id": 8,
                "start": 4,
                "end": 6,
                "properties": {
                  "EdgeName": "Edge (4, 6)"
                },
                "label": "",
                "color": "#15AFAC",
                "thickness_factor": 1,
                "directed": false
              },
              {
                "id": 9,
                "start": 5,
                "end": 6,
                "properties": {
                  "EdgeName": "Edge (5, 6)"
                },
                "label": "",
                "color": "#15AFAC",
                "thickness_factor": 1,
                "directed": false
              }
            ],
            "_graph_layout": {},
            "_highlight": [],
            "_license": {},
            "_model_module": "yfiles-jupyter-graphs",
            "_model_module_version": "^1.8.1",
            "_model_name": "GraphModel",
            "_neighborhood": {},
            "_nodes": [
              {
                "id": 0,
                "properties": {
                  "NodeName": "Node 0",
                  "label": "0"
                },
                "color": "#15AFAC",
                "styles": {},
                "label": "0",
                "scale_factor": 1,
                "type": "#15AFAC",
                "size": [
                  55,
                  55
                ],
                "position": [
                  0,
                  0
                ]
              },
              {
                "id": 1,
                "properties": {
                  "NodeName": "Node 1",
                  "label": "1"
                },
                "color": "#15AFAC",
                "styles": {},
                "label": "1",
                "scale_factor": 1,
                "type": "#15AFAC",
                "size": [
                  55,
                  55
                ],
                "position": [
                  0,
                  0
                ]
              },
              {
                "id": 2,
                "properties": {
                  "NodeName": "Node 2",
                  "label": "2"
                },
                "color": "#15AFAC",
                "styles": {},
                "label": "2",
                "scale_factor": 1,
                "type": "#15AFAC",
                "size": [
                  55,
                  55
                ],
                "position": [
                  0,
                  0
                ]
              },
              {
                "id": 3,
                "properties": {
                  "NodeName": "Node 3",
                  "label": "3"
                },
                "color": "#15AFAC",
                "styles": {},
                "label": "3",
                "scale_factor": 1,
                "type": "#15AFAC",
                "size": [
                  55,
                  55
                ],
                "position": [
                  0,
                  0
                ]
              },
              {
                "id": 4,
                "properties": {
                  "NodeName": "Node 4",
                  "label": "4"
                },
                "color": "#15AFAC",
                "styles": {},
                "label": "4",
                "scale_factor": 1,
                "type": "#15AFAC",
                "size": [
                  55,
                  55
                ],
                "position": [
                  0,
                  0
                ]
              },
              {
                "id": 5,
                "properties": {
                  "NodeName": "Node 5",
                  "label": "5"
                },
                "color": "#15AFAC",
                "styles": {},
                "label": "5",
                "scale_factor": 1,
                "type": "#15AFAC",
                "size": [
                  55,
                  55
                ],
                "position": [
                  0,
                  0
                ]
              },
              {
                "id": 6,
                "properties": {
                  "NodeName": "Node 6",
                  "label": "6"
                },
                "color": "#15AFAC",
                "styles": {},
                "label": "6",
                "scale_factor": 1,
                "type": "#15AFAC",
                "size": [
                  55,
                  55
                ],
                "position": [
                  0,
                  0
                ]
              },
              {
                "id": 7,
                "properties": {
                  "NodeName": "Node 7",
                  "label": "7"
                },
                "color": "#15AFAC",
                "styles": {},
                "label": "7",
                "scale_factor": 1,
                "type": "#15AFAC",
                "size": [
                  55,
                  55
                ],
                "position": [
                  0,
                  0
                ]
              },
              {
                "id": 8,
                "properties": {
                  "NodeName": "Node 8",
                  "label": "8"
                },
                "color": "#15AFAC",
                "styles": {},
                "label": "8",
                "scale_factor": 1,
                "type": "#15AFAC",
                "size": [
                  55,
                  55
                ],
                "position": [
                  0,
                  0
                ]
              },
              {
                "id": 9,
                "properties": {
                  "NodeName": "Node 9",
                  "label": "9"
                },
                "color": "#15AFAC",
                "styles": {},
                "label": "9",
                "scale_factor": 1,
                "type": "#15AFAC",
                "size": [
                  55,
                  55
                ],
                "position": [
                  0,
                  0
                ]
              }
            ],
            "_overview": {
              "enabled": null,
              "overview_set": false
            },
            "_selected_graph": [
              [],
              []
            ],
            "_sidebar": {
              "enabled": false,
              "start_with": null
            },
            "_view_count": null,
            "_view_module": "yfiles-jupyter-graphs",
            "_view_module_version": "^1.8.1",
            "_view_name": "GraphView",
            "layout": "IPY_MODEL_8045061ce63d4de39e96b821f52a976e",
            "tabbable": null,
            "tooltip": null
          }
        },
        "8045061ce63d4de39e96b821f52a976e": {
          "model_module": "@jupyter-widgets/base",
          "model_name": "LayoutModel",
          "model_module_version": "2.0.0",
          "state": {
            "_model_module": "@jupyter-widgets/base",
            "_model_module_version": "2.0.0",
            "_model_name": "LayoutModel",
            "_view_count": null,
            "_view_module": "@jupyter-widgets/base",
            "_view_module_version": "2.0.0",
            "_view_name": "LayoutView",
            "align_content": null,
            "align_items": null,
            "align_self": null,
            "border_bottom": null,
            "border_left": null,
            "border_right": null,
            "border_top": null,
            "bottom": null,
            "display": null,
            "flex": null,
            "flex_flow": null,
            "grid_area": null,
            "grid_auto_columns": null,
            "grid_auto_flow": null,
            "grid_auto_rows": null,
            "grid_column": null,
            "grid_gap": null,
            "grid_row": null,
            "grid_template_areas": null,
            "grid_template_columns": null,
            "grid_template_rows": null,
            "height": "500px",
            "justify_content": null,
            "justify_items": null,
            "left": null,
            "margin": null,
            "max_height": null,
            "max_width": null,
            "min_height": null,
            "min_width": null,
            "object_fit": null,
            "object_position": null,
            "order": null,
            "overflow": null,
            "padding": null,
            "right": null,
            "top": null,
            "visibility": null,
            "width": "100%"
          }
        },
        "7ad33d6f022e47bcbf25415fa73dce57": {
          "model_module": "yfiles-jupyter-graphs",
          "model_name": "GraphModel",
          "model_module_version": "^1.8.1",
          "state": {
            "_context_pane_mapping": [
              {
                "id": "Neighborhood",
                "title": "Neighborhood"
              },
              {
                "id": "Data",
                "title": "Data"
              },
              {
                "id": "Search",
                "title": "Search"
              },
              {
                "id": "About",
                "title": "About"
              }
            ],
            "_data_importer": "networkx",
            "_directed": false,
            "_dom_classes": [],
            "_edges": [
              {
                "id": 0,
                "start": 0,
                "end": 3,
                "properties": {
                  "EdgeName": "Edge (0, 3)"
                },
                "label": "",
                "color": "#15AFAC",
                "thickness_factor": 1,
                "directed": false
              },
              {
                "id": 1,
                "start": 0,
                "end": 4,
                "properties": {
                  "EdgeName": "Edge (0, 4)"
                },
                "label": "",
                "color": "#15AFAC",
                "thickness_factor": 1,
                "directed": false
              },
              {
                "id": 2,
                "start": 1,
                "end": 4,
                "properties": {
                  "EdgeName": "Edge (1, 4)"
                },
                "label": "",
                "color": "#15AFAC",
                "thickness_factor": 1,
                "directed": false
              },
              {
                "id": 3,
                "start": 2,
                "end": 5,
                "properties": {
                  "EdgeName": "Edge (2, 5)"
                },
                "label": "",
                "color": "#15AFAC",
                "thickness_factor": 1,
                "directed": false
              },
              {
                "id": 4,
                "start": 2,
                "end": 6,
                "properties": {
                  "EdgeName": "Edge (2, 6)"
                },
                "label": "",
                "color": "#15AFAC",
                "thickness_factor": 1,
                "directed": false
              },
              {
                "id": 5,
                "start": 2,
                "end": 7,
                "properties": {
                  "EdgeName": "Edge (2, 7)"
                },
                "label": "",
                "color": "#15AFAC",
                "thickness_factor": 1,
                "directed": false
              },
              {
                "id": 6,
                "start": 3,
                "end": 8,
                "properties": {
                  "EdgeName": "Edge (3, 8)"
                },
                "label": "",
                "color": "#15AFAC",
                "thickness_factor": 1,
                "directed": false
              },
              {
                "id": 7,
                "start": 3,
                "end": 9,
                "properties": {
                  "EdgeName": "Edge (3, 9)"
                },
                "label": "",
                "color": "#15AFAC",
                "thickness_factor": 1,
                "directed": false
              },
              {
                "id": 8,
                "start": 4,
                "end": 6,
                "properties": {
                  "EdgeName": "Edge (4, 6)"
                },
                "label": "",
                "color": "#15AFAC",
                "thickness_factor": 1,
                "directed": false
              },
              {
                "id": 9,
                "start": 5,
                "end": 6,
                "properties": {
                  "EdgeName": "Edge (5, 6)"
                },
                "label": "",
                "color": "#15AFAC",
                "thickness_factor": 1,
                "directed": false
              }
            ],
            "_graph_layout": {},
            "_highlight": [],
            "_license": {},
            "_model_module": "yfiles-jupyter-graphs",
            "_model_module_version": "^1.8.1",
            "_model_name": "GraphModel",
            "_neighborhood": {},
            "_nodes": [
              {
                "id": 0,
                "properties": {
                  "NodeName": "Node 0",
                  "label": "0"
                },
                "color": "#15AFAC",
                "styles": {},
                "label": "-0",
                "scale_factor": 1,
                "type": "#15AFAC",
                "size": [
                  55,
                  55
                ],
                "position": [
                  0,
                  0
                ]
              },
              {
                "id": 1,
                "properties": {
                  "NodeName": "Node 1",
                  "label": "1"
                },
                "color": "#15AFAC",
                "styles": {},
                "label": "-1",
                "scale_factor": 1,
                "type": "#15AFAC",
                "size": [
                  55,
                  55
                ],
                "position": [
                  0,
                  0
                ]
              },
              {
                "id": 2,
                "properties": {
                  "NodeName": "Node 2",
                  "label": "2"
                },
                "color": "#15AFAC",
                "styles": {},
                "label": "-2",
                "scale_factor": 1,
                "type": "#15AFAC",
                "size": [
                  55,
                  55
                ],
                "position": [
                  0,
                  0
                ]
              },
              {
                "id": 3,
                "properties": {
                  "NodeName": "Node 3",
                  "label": "3"
                },
                "color": "#15AFAC",
                "styles": {},
                "label": "-3",
                "scale_factor": 1,
                "type": "#15AFAC",
                "size": [
                  55,
                  55
                ],
                "position": [
                  0,
                  0
                ]
              },
              {
                "id": 4,
                "properties": {
                  "NodeName": "Node 4",
                  "label": "4"
                },
                "color": "#15AFAC",
                "styles": {},
                "label": "-4",
                "scale_factor": 1,
                "type": "#15AFAC",
                "size": [
                  55,
                  55
                ],
                "position": [
                  0,
                  0
                ]
              },
              {
                "id": 5,
                "properties": {
                  "NodeName": "Node 5",
                  "label": "5"
                },
                "color": "#15AFAC",
                "styles": {},
                "label": "-5",
                "scale_factor": 1,
                "type": "#15AFAC",
                "size": [
                  55,
                  55
                ],
                "position": [
                  0,
                  0
                ]
              },
              {
                "id": 6,
                "properties": {
                  "NodeName": "Node 6",
                  "label": "6"
                },
                "color": "#15AFAC",
                "styles": {},
                "label": "-6",
                "scale_factor": 1,
                "type": "#15AFAC",
                "size": [
                  55,
                  55
                ],
                "position": [
                  0,
                  0
                ]
              },
              {
                "id": 7,
                "properties": {
                  "NodeName": "Node 7",
                  "label": "7"
                },
                "color": "#15AFAC",
                "styles": {},
                "label": "-7",
                "scale_factor": 1,
                "type": "#15AFAC",
                "size": [
                  55,
                  55
                ],
                "position": [
                  0,
                  0
                ]
              },
              {
                "id": 8,
                "properties": {
                  "NodeName": "Node 8",
                  "label": "8"
                },
                "color": "#15AFAC",
                "styles": {},
                "label": "-8",
                "scale_factor": 1,
                "type": "#15AFAC",
                "size": [
                  55,
                  55
                ],
                "position": [
                  0,
                  0
                ]
              },
              {
                "id": 9,
                "properties": {
                  "NodeName": "Node 9",
                  "label": "9"
                },
                "color": "#15AFAC",
                "styles": {},
                "label": "-9",
                "scale_factor": 1,
                "type": "#15AFAC",
                "size": [
                  55,
                  55
                ],
                "position": [
                  0,
                  0
                ]
              }
            ],
            "_overview": {
              "enabled": null,
              "overview_set": false
            },
            "_selected_graph": [
              [],
              []
            ],
            "_sidebar": {
              "enabled": false,
              "start_with": null
            },
            "_view_count": null,
            "_view_module": "yfiles-jupyter-graphs",
            "_view_module_version": "^1.8.1",
            "_view_name": "GraphView",
            "layout": "IPY_MODEL_8277125789534576855d61f41200ff83",
            "tabbable": null,
            "tooltip": null
          }
        },
        "8277125789534576855d61f41200ff83": {
          "model_module": "@jupyter-widgets/base",
          "model_name": "LayoutModel",
          "model_module_version": "2.0.0",
          "state": {
            "_model_module": "@jupyter-widgets/base",
            "_model_module_version": "2.0.0",
            "_model_name": "LayoutModel",
            "_view_count": null,
            "_view_module": "@jupyter-widgets/base",
            "_view_module_version": "2.0.0",
            "_view_name": "LayoutView",
            "align_content": null,
            "align_items": null,
            "align_self": null,
            "border_bottom": null,
            "border_left": null,
            "border_right": null,
            "border_top": null,
            "bottom": null,
            "display": null,
            "flex": null,
            "flex_flow": null,
            "grid_area": null,
            "grid_auto_columns": null,
            "grid_auto_flow": null,
            "grid_auto_rows": null,
            "grid_column": null,
            "grid_gap": null,
            "grid_row": null,
            "grid_template_areas": null,
            "grid_template_columns": null,
            "grid_template_rows": null,
            "height": "500px",
            "justify_content": null,
            "justify_items": null,
            "left": null,
            "margin": null,
            "max_height": null,
            "max_width": null,
            "min_height": null,
            "min_width": null,
            "object_fit": null,
            "object_position": null,
            "order": null,
            "overflow": null,
            "padding": null,
            "right": null,
            "top": null,
            "visibility": null,
            "width": "100%"
          }
        },
        "d231df7104d24a9bade78cacf4095710": {
          "model_module": "yfiles-jupyter-graphs",
          "model_name": "GraphModel",
          "model_module_version": "^1.8.1",
          "state": {
            "_context_pane_mapping": [
              {
                "id": "Neighborhood",
                "title": "Neighborhood"
              },
              {
                "id": "Data",
                "title": "Data"
              },
              {
                "id": "Search",
                "title": "Search"
              },
              {
                "id": "About",
                "title": "About"
              }
            ],
            "_data_importer": "networkx",
            "_directed": false,
            "_dom_classes": [],
            "_edges": [
              {
                "id": 0,
                "start": 0,
                "end": 3,
                "properties": {
                  "EdgeName": "Edge (0, 3)"
                },
                "label": "-0",
                "color": "#15AFAC",
                "thickness_factor": 1,
                "directed": false
              },
              {
                "id": 1,
                "start": 0,
                "end": 4,
                "properties": {
                  "EdgeName": "Edge (0, 4)"
                },
                "label": "-1",
                "color": "#15AFAC",
                "thickness_factor": 1,
                "directed": false
              },
              {
                "id": 2,
                "start": 1,
                "end": 4,
                "properties": {
                  "EdgeName": "Edge (1, 4)"
                },
                "label": "-2",
                "color": "#15AFAC",
                "thickness_factor": 1,
                "directed": false
              },
              {
                "id": 3,
                "start": 2,
                "end": 5,
                "properties": {
                  "EdgeName": "Edge (2, 5)"
                },
                "label": "-3",
                "color": "#15AFAC",
                "thickness_factor": 1,
                "directed": false
              },
              {
                "id": 4,
                "start": 2,
                "end": 6,
                "properties": {
                  "EdgeName": "Edge (2, 6)"
                },
                "label": "-4",
                "color": "#15AFAC",
                "thickness_factor": 1,
                "directed": false
              },
              {
                "id": 5,
                "start": 2,
                "end": 7,
                "properties": {
                  "EdgeName": "Edge (2, 7)"
                },
                "label": "-5",
                "color": "#15AFAC",
                "thickness_factor": 1,
                "directed": false
              },
              {
                "id": 6,
                "start": 3,
                "end": 8,
                "properties": {
                  "EdgeName": "Edge (3, 8)"
                },
                "label": "-6",
                "color": "#15AFAC",
                "thickness_factor": 1,
                "directed": false
              },
              {
                "id": 7,
                "start": 3,
                "end": 9,
                "properties": {
                  "EdgeName": "Edge (3, 9)"
                },
                "label": "-7",
                "color": "#15AFAC",
                "thickness_factor": 1,
                "directed": false
              },
              {
                "id": 8,
                "start": 4,
                "end": 6,
                "properties": {
                  "EdgeName": "Edge (4, 6)"
                },
                "label": "-8",
                "color": "#15AFAC",
                "thickness_factor": 1,
                "directed": false
              },
              {
                "id": 9,
                "start": 5,
                "end": 6,
                "properties": {
                  "EdgeName": "Edge (5, 6)"
                },
                "label": "-9",
                "color": "#15AFAC",
                "thickness_factor": 1,
                "directed": false
              }
            ],
            "_graph_layout": {},
            "_highlight": [],
            "_license": {},
            "_model_module": "yfiles-jupyter-graphs",
            "_model_module_version": "^1.8.1",
            "_model_name": "GraphModel",
            "_neighborhood": {},
            "_nodes": [
              {
                "id": 0,
                "properties": {
                  "NodeName": "Node 0",
                  "label": "0"
                },
                "color": "#15AFAC",
                "styles": {},
                "label": "0",
                "scale_factor": 1,
                "type": "#15AFAC",
                "size": [
                  55,
                  55
                ],
                "position": [
                  0,
                  0
                ]
              },
              {
                "id": 1,
                "properties": {
                  "NodeName": "Node 1",
                  "label": "1"
                },
                "color": "#15AFAC",
                "styles": {},
                "label": "1",
                "scale_factor": 1,
                "type": "#15AFAC",
                "size": [
                  55,
                  55
                ],
                "position": [
                  0,
                  0
                ]
              },
              {
                "id": 2,
                "properties": {
                  "NodeName": "Node 2",
                  "label": "2"
                },
                "color": "#15AFAC",
                "styles": {},
                "label": "2",
                "scale_factor": 1,
                "type": "#15AFAC",
                "size": [
                  55,
                  55
                ],
                "position": [
                  0,
                  0
                ]
              },
              {
                "id": 3,
                "properties": {
                  "NodeName": "Node 3",
                  "label": "3"
                },
                "color": "#15AFAC",
                "styles": {},
                "label": "3",
                "scale_factor": 1,
                "type": "#15AFAC",
                "size": [
                  55,
                  55
                ],
                "position": [
                  0,
                  0
                ]
              },
              {
                "id": 4,
                "properties": {
                  "NodeName": "Node 4",
                  "label": "4"
                },
                "color": "#15AFAC",
                "styles": {},
                "label": "4",
                "scale_factor": 1,
                "type": "#15AFAC",
                "size": [
                  55,
                  55
                ],
                "position": [
                  0,
                  0
                ]
              },
              {
                "id": 5,
                "properties": {
                  "NodeName": "Node 5",
                  "label": "5"
                },
                "color": "#15AFAC",
                "styles": {},
                "label": "5",
                "scale_factor": 1,
                "type": "#15AFAC",
                "size": [
                  55,
                  55
                ],
                "position": [
                  0,
                  0
                ]
              },
              {
                "id": 6,
                "properties": {
                  "NodeName": "Node 6",
                  "label": "6"
                },
                "color": "#15AFAC",
                "styles": {},
                "label": "6",
                "scale_factor": 1,
                "type": "#15AFAC",
                "size": [
                  55,
                  55
                ],
                "position": [
                  0,
                  0
                ]
              },
              {
                "id": 7,
                "properties": {
                  "NodeName": "Node 7",
                  "label": "7"
                },
                "color": "#15AFAC",
                "styles": {},
                "label": "7",
                "scale_factor": 1,
                "type": "#15AFAC",
                "size": [
                  55,
                  55
                ],
                "position": [
                  0,
                  0
                ]
              },
              {
                "id": 8,
                "properties": {
                  "NodeName": "Node 8",
                  "label": "8"
                },
                "color": "#15AFAC",
                "styles": {},
                "label": "8",
                "scale_factor": 1,
                "type": "#15AFAC",
                "size": [
                  55,
                  55
                ],
                "position": [
                  0,
                  0
                ]
              },
              {
                "id": 9,
                "properties": {
                  "NodeName": "Node 9",
                  "label": "9"
                },
                "color": "#15AFAC",
                "styles": {},
                "label": "9",
                "scale_factor": 1,
                "type": "#15AFAC",
                "size": [
                  55,
                  55
                ],
                "position": [
                  0,
                  0
                ]
              }
            ],
            "_overview": {
              "enabled": null,
              "overview_set": false
            },
            "_selected_graph": [
              [],
              []
            ],
            "_sidebar": {
              "enabled": false,
              "start_with": null
            },
            "_view_count": null,
            "_view_module": "yfiles-jupyter-graphs",
            "_view_module_version": "^1.8.1",
            "_view_name": "GraphView",
            "layout": "IPY_MODEL_aaaaa6918e054625b7473c77158bf5cd",
            "tabbable": null,
            "tooltip": null
          }
        },
        "aaaaa6918e054625b7473c77158bf5cd": {
          "model_module": "@jupyter-widgets/base",
          "model_name": "LayoutModel",
          "model_module_version": "2.0.0",
          "state": {
            "_model_module": "@jupyter-widgets/base",
            "_model_module_version": "2.0.0",
            "_model_name": "LayoutModel",
            "_view_count": null,
            "_view_module": "@jupyter-widgets/base",
            "_view_module_version": "2.0.0",
            "_view_name": "LayoutView",
            "align_content": null,
            "align_items": null,
            "align_self": null,
            "border_bottom": null,
            "border_left": null,
            "border_right": null,
            "border_top": null,
            "bottom": null,
            "display": null,
            "flex": null,
            "flex_flow": null,
            "grid_area": null,
            "grid_auto_columns": null,
            "grid_auto_flow": null,
            "grid_auto_rows": null,
            "grid_column": null,
            "grid_gap": null,
            "grid_row": null,
            "grid_template_areas": null,
            "grid_template_columns": null,
            "grid_template_rows": null,
            "height": "500px",
            "justify_content": null,
            "justify_items": null,
            "left": null,
            "margin": null,
            "max_height": null,
            "max_width": null,
            "min_height": null,
            "min_width": null,
            "object_fit": null,
            "object_position": null,
            "order": null,
            "overflow": null,
            "padding": null,
            "right": null,
            "top": null,
            "visibility": null,
            "width": "100%"
          }
        },
        "state": {}
      }
    }
  },
  "nbformat": 4,
  "nbformat_minor": 5
}