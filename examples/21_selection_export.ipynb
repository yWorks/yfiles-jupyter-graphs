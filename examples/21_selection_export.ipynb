{
  "cells": [
    {
      "cell_type": "markdown",
      "id": "25d207f9-1f19-40b7-b79e-7ae4d1352cbb",
      "metadata": {
        "id": "25d207f9-1f19-40b7-b79e-7ae4d1352cbb"
      },
      "source": [
        "# Export a selection of items to Jupyter cell <a target=\"_blank\" href=\"https://colab.research.google.com/github/yWorks/yfiles-jupyter-graphs/blob/main/examples/21_selection_export.ipynb\"><img src=\"https://colab.research.google.com/assets/colab-badge.svg\" alt=\"Open In Colab\"/></a>"
      ]
    },
    {
      "cell_type": "markdown",
      "id": "84c0bb57-48fe-49bc-b444-86e0c3922fbe",
      "metadata": {
        "id": "84c0bb57-48fe-49bc-b444-86e0c3922fbe"
      },
      "source": [
        "Before using the graph widget, install all necessary packages."
      ]
    },
    {
      "cell_type": "code",
      "execution_count": 1,
      "id": "28a97638-ff06-444e-8dab-bb90b3e905b0",
      "metadata": {
        "id": "28a97638-ff06-444e-8dab-bb90b3e905b0",
        "outputId": "5c5ed3bc-0f56-4cd2-efe7-3448c9eda93f",
        "colab": {
          "base_uri": "https://localhost:8080/"
        }
      },
      "outputs": [
        {
          "output_type": "stream",
          "name": "stdout",
          "text": [
            "\u001b[2K   \u001b[90m\u2501\u2501\u2501\u2501\u2501\u2501\u2501\u2501\u2501\u2501\u2501\u2501\u2501\u2501\u2501\u2501\u2501\u2501\u2501\u2501\u2501\u2501\u2501\u2501\u2501\u2501\u2501\u2501\u2501\u2501\u2501\u2501\u2501\u2501\u2501\u2501\u2501\u2501\u2501\u2501\u001b[0m \u001b[32m15.6/15.6 MB\u001b[0m \u001b[31m27.1 MB/s\u001b[0m eta \u001b[36m0:00:00\u001b[0m\n",
            "\u001b[2K   \u001b[90m\u2501\u2501\u2501\u2501\u2501\u2501\u2501\u2501\u2501\u2501\u2501\u2501\u2501\u2501\u2501\u2501\u2501\u2501\u2501\u2501\u2501\u2501\u2501\u2501\u2501\u2501\u2501\u2501\u2501\u2501\u2501\u2501\u2501\u2501\u2501\u2501\u2501\u2501\u2501\u2501\u001b[0m \u001b[32m139.8/139.8 kB\u001b[0m \u001b[31m6.3 MB/s\u001b[0m eta \u001b[36m0:00:00\u001b[0m\n",
            "\u001b[2K   \u001b[90m\u2501\u2501\u2501\u2501\u2501\u2501\u2501\u2501\u2501\u2501\u2501\u2501\u2501\u2501\u2501\u2501\u2501\u2501\u2501\u2501\u2501\u2501\u2501\u2501\u2501\u2501\u2501\u2501\u2501\u2501\u2501\u2501\u2501\u2501\u2501\u2501\u2501\u2501\u2501\u2501\u001b[0m \u001b[32m2.3/2.3 MB\u001b[0m \u001b[31m14.3 MB/s\u001b[0m eta \u001b[36m0:00:00\u001b[0m\n",
            "\u001b[2K   \u001b[90m\u2501\u2501\u2501\u2501\u2501\u2501\u2501\u2501\u2501\u2501\u2501\u2501\u2501\u2501\u2501\u2501\u2501\u2501\u2501\u2501\u2501\u2501\u2501\u2501\u2501\u2501\u2501\u2501\u2501\u2501\u2501\u2501\u2501\u2501\u2501\u2501\u2501\u2501\u2501\u2501\u001b[0m \u001b[32m1.6/1.6 MB\u001b[0m \u001b[31m20.7 MB/s\u001b[0m eta \u001b[36m0:00:00\u001b[0m\n",
            "\u001b[?25h"
          ]
        }
      ],
      "source": [
        "%pip install yfiles_jupyter_graphs --quiet\n",
        "%pip install networkx --quiet\n",
        "from networkx import erdos_renyi_graph\n",
        "from yfiles_jupyter_graphs import GraphWidget"
      ]
    },
    {
      "cell_type": "markdown",
      "id": "c52d12f7-c8aa-4f52-b408-5d196337e391",
      "metadata": {
        "id": "c52d12f7-c8aa-4f52-b408-5d196337e391"
      },
      "source": [
        "You can also open this notebook in Google Colab when Google Colab's custom widget manager is enabled:"
      ]
    },
    {
      "cell_type": "code",
      "execution_count": 2,
      "id": "468d3484-2c8f-4243-a968-52225160a858",
      "metadata": {
        "id": "468d3484-2c8f-4243-a968-52225160a858"
      },
      "outputs": [],
      "source": [
        "try:\n",
        "  import google.colab\n",
        "  from google.colab import output\n",
        "  output.enable_custom_widget_manager()\n",
        "except:\n",
        "  pass"
      ]
    },
    {
      "cell_type": "markdown",
      "id": "273eafa0-5a0d-460b-bd5a-679e1010b3e2",
      "metadata": {
        "id": "273eafa0-5a0d-460b-bd5a-679e1010b3e2"
      },
      "source": [
        "<a target=\"_blank\" href=\"https://colab.research.google.com/github/yWorks/yfiles-jupyter-graphs/blob/main/examples/21_selection_export.ipynb\"><img src=\"https://colab.research.google.com/assets/colab-badge.svg\" alt=\"Open In Colab\"/></a>"
      ]
    },
    {
      "cell_type": "code",
      "execution_count": 3,
      "id": "51b81aa3-9235-422f-8354-201ba43357a0",
      "metadata": {
        "id": "51b81aa3-9235-422f-8354-201ba43357a0",
        "outputId": "53e0c904-f0e8-4973-8503-3d5ebefe4256",
        "colab": {
          "base_uri": "https://localhost:8080/",
          "height": 517,
          "referenced_widgets": [
            "a5102af6189d44b7a0c604fbb19c576e",
            "a93b185cbac442c69206c228e023e144"
          ]
        }
      },
      "outputs": [
        {
          "output_type": "display_data",
          "data": {
            "text/plain": [
              "GraphWidget(layout=Layout(height='500px', width='100%'))"
            ],
            "application/vnd.jupyter.widget-view+json": {
              "version_major": 2,
              "version_minor": 0,
              "model_id": "a5102af6189d44b7a0c604fbb19c576e"
            }
          },
          "metadata": {
            "application/vnd.jupyter.widget-view+json": {
              "colab": {
                "custom_widget_manager": {
                  "url": "https://ssl.gstatic.com/colaboratory-static/widgets/colab-cdn-widget-manager/2b70e893a8ba7c0f/manager.min.js"
                }
              }
            }
          }
        }
      ],
      "source": [
        "w = GraphWidget(graph=erdos_renyi_graph(10,0.3,2))\n",
        "display(w)"
      ]
    },
    {
      "cell_type": "markdown",
      "id": "202ac600-8d65-461f-b1b0-ef22fb388349",
      "metadata": {
        "id": "202ac600-8d65-461f-b1b0-ef22fb388349"
      },
      "source": [
        "## How to select items\n",
        "- Select nodes/edges by left click\n",
        "- Expand the current selection by holding CTRL while clicking nodes/edges\n",
        "- Marquee select multiple graph items by holding SHIFT while dragging with left mouse button\n",
        "\n",
        "## How to get the selected data\n",
        "\n",
        "The `get_selection` function returns a tuple of the currently selected nodes and edges of the widget."
      ]
    },
    {
      "cell_type": "code",
      "execution_count": 6,
      "id": "cd4ba091-c85e-4285-8bee-d1c7e84d810f",
      "metadata": {
        "id": "cd4ba091-c85e-4285-8bee-d1c7e84d810f"
      },
      "outputs": [],
      "source": [
        "nodes, edges = w.get_selection()"
      ]
    },
    {
      "cell_type": "code",
      "execution_count": 7,
      "id": "67ae5046-b9c8-4df8-966a-12beddc7dc1d",
      "metadata": {
        "id": "67ae5046-b9c8-4df8-966a-12beddc7dc1d",
        "outputId": "18bb9d16-a70b-4eac-f794-5e5cd953825b",
        "colab": {
          "base_uri": "https://localhost:8080/"
        }
      },
      "outputs": [
        {
          "output_type": "stream",
          "name": "stdout",
          "text": [
            "selected nodes:\n",
            "[{'id': 1, 'properties': {'label': '1'}}, {'id': 6, 'properties': {'label': '6'}}, {'id': 5, 'properties': {'label': '5'}}]\n",
            "selected edges:\n",
            "[]\n"
          ]
        }
      ],
      "source": [
        "print('selected nodes:')\n",
        "print(nodes)\n",
        "\n",
        "print('selected edges:')\n",
        "print(edges)"
      ]
    }
  ],
  "metadata": {
    "kernelspec": {
      "display_name": "Python 3 (ipykernel)",
      "language": "python",
      "name": "python3"
    },
    "language_info": {
      "codemirror_mode": {
        "name": "ipython",
        "version": 3
      },
      "file_extension": ".py",
      "mimetype": "text/x-python",
      "name": "python",
      "nbconvert_exporter": "python",
      "pygments_lexer": "ipython3",
      "version": "3.11.3"
    },
    "colab": {
      "provenance": []
    },
    "widgets": {
      "application/vnd.jupyter.widget-state+json": {
        "a5102af6189d44b7a0c604fbb19c576e": {
          "model_module": "yfiles-jupyter-graphs",
          "model_name": "GraphModel",
          "model_module_version": "^1.8.1",
          "state": {
            "_context_pane_mapping": [
              {
                "id": "Neighborhood",
                "title": "Neighborhood"
              },
              {
                "id": "Data",
                "title": "Data"
              },
              {
                "id": "Search",
                "title": "Search"
              },
              {
                "id": "About",
                "title": "About"
              }
            ],
            "_data_importer": "networkx",
            "_directed": false,
            "_dom_classes": [],
            "_edges": [
              {
                "id": 0,
                "start": 0,
                "end": 3,
                "properties": {},
                "label": "",
                "color": "#15AFAC",
                "thickness_factor": 1,
                "directed": false
              },
              {
                "id": 1,
                "start": 0,
                "end": 4,
                "properties": {},
                "label": "",
                "color": "#15AFAC",
                "thickness_factor": 1,
                "directed": false
              },
              {
                "id": 2,
                "start": 1,
                "end": 4,
                "properties": {},
                "label": "",
                "color": "#15AFAC",
                "thickness_factor": 1,
                "directed": false
              },
              {
                "id": 3,
                "start": 2,
                "end": 5,
                "properties": {},
                "label": "",
                "color": "#15AFAC",
                "thickness_factor": 1,
                "directed": false
              },
              {
                "id": 4,
                "start": 2,
                "end": 6,
                "properties": {},
                "label": "",
                "color": "#15AFAC",
                "thickness_factor": 1,
                "directed": false
              },
              {
                "id": 5,
                "start": 2,
                "end": 7,
                "properties": {},
                "label": "",
                "color": "#15AFAC",
                "thickness_factor": 1,
                "directed": false
              },
              {
                "id": 6,
                "start": 3,
                "end": 8,
                "properties": {},
                "label": "",
                "color": "#15AFAC",
                "thickness_factor": 1,
                "directed": false
              },
              {
                "id": 7,
                "start": 3,
                "end": 9,
                "properties": {},
                "label": "",
                "color": "#15AFAC",
                "thickness_factor": 1,
                "directed": false
              },
              {
                "id": 8,
                "start": 4,
                "end": 6,
                "properties": {},
                "label": "",
                "color": "#15AFAC",
                "thickness_factor": 1,
                "directed": false
              },
              {
                "id": 9,
                "start": 5,
                "end": 6,
                "properties": {},
                "label": "",
                "color": "#15AFAC",
                "thickness_factor": 1,
                "directed": false
              }
            ],
            "_graph_layout": {},
            "_highlight": [],
            "_license": {},
            "_model_module": "yfiles-jupyter-graphs",
            "_model_module_version": "^1.8.1",
            "_model_name": "GraphModel",
            "_neighborhood": {},
            "_nodes": [
              {
                "id": 0,
                "properties": {
                  "label": "0"
                },
                "color": "#15AFAC",
                "styles": {},
                "label": "0",
                "scale_factor": 1,
                "type": "#15AFAC",
                "size": [
                  55,
                  55
                ],
                "position": [
                  0,
                  0
                ]
              },
              {
                "id": 1,
                "properties": {
                  "label": "1"
                },
                "color": "#15AFAC",
                "styles": {},
                "label": "1",
                "scale_factor": 1,
                "type": "#15AFAC",
                "size": [
                  55,
                  55
                ],
                "position": [
                  0,
                  0
                ]
              },
              {
                "id": 2,
                "properties": {
                  "label": "2"
                },
                "color": "#15AFAC",
                "styles": {},
                "label": "2",
                "scale_factor": 1,
                "type": "#15AFAC",
                "size": [
                  55,
                  55
                ],
                "position": [
                  0,
                  0
                ]
              },
              {
                "id": 3,
                "properties": {
                  "label": "3"
                },
                "color": "#15AFAC",
                "styles": {},
                "label": "3",
                "scale_factor": 1,
                "type": "#15AFAC",
                "size": [
                  55,
                  55
                ],
                "position": [
                  0,
                  0
                ]
              },
              {
                "id": 4,
                "properties": {
                  "label": "4"
                },
                "color": "#15AFAC",
                "styles": {},
                "label": "4",
                "scale_factor": 1,
                "type": "#15AFAC",
                "size": [
                  55,
                  55
                ],
                "position": [
                  0,
                  0
                ]
              },
              {
                "id": 5,
                "properties": {
                  "label": "5"
                },
                "color": "#15AFAC",
                "styles": {},
                "label": "5",
                "scale_factor": 1,
                "type": "#15AFAC",
                "size": [
                  55,
                  55
                ],
                "position": [
                  0,
                  0
                ]
              },
              {
                "id": 6,
                "properties": {
                  "label": "6"
                },
                "color": "#15AFAC",
                "styles": {},
                "label": "6",
                "scale_factor": 1,
                "type": "#15AFAC",
                "size": [
                  55,
                  55
                ],
                "position": [
                  0,
                  0
                ]
              },
              {
                "id": 7,
                "properties": {
                  "label": "7"
                },
                "color": "#15AFAC",
                "styles": {},
                "label": "7",
                "scale_factor": 1,
                "type": "#15AFAC",
                "size": [
                  55,
                  55
                ],
                "position": [
                  0,
                  0
                ]
              },
              {
                "id": 8,
                "properties": {
                  "label": "8"
                },
                "color": "#15AFAC",
                "styles": {},
                "label": "8",
                "scale_factor": 1,
                "type": "#15AFAC",
                "size": [
                  55,
                  55
                ],
                "position": [
                  0,
                  0
                ]
              },
              {
                "id": 9,
                "properties": {
                  "label": "9"
                },
                "color": "#15AFAC",
                "styles": {},
                "label": "9",
                "scale_factor": 1,
                "type": "#15AFAC",
                "size": [
                  55,
                  55
                ],
                "position": [
                  0,
                  0
                ]
              }
            ],
            "_overview": {
              "enabled": null,
              "overview_set": false
            },
            "_selected_graph": [
              [
                {
                  "id": 1,
                  "properties": {
                    "label": "1"
                  }
                },
                {
                  "id": 6,
                  "properties": {
                    "label": "6"
                  }
                },
                {
                  "id": 5,
                  "properties": {
                    "label": "5"
                  }
                }
              ],
              []
            ],
            "_sidebar": {
              "enabled": false,
              "start_with": null
            },
            "_view_count": null,
            "_view_module": "yfiles-jupyter-graphs",
            "_view_module_version": "^1.8.1",
            "_view_name": "GraphView",
            "layout": "IPY_MODEL_a93b185cbac442c69206c228e023e144",
            "tabbable": null,
            "tooltip": null
          }
        },
        "a93b185cbac442c69206c228e023e144": {
          "model_module": "@jupyter-widgets/base",
          "model_name": "LayoutModel",
          "model_module_version": "2.0.0",
          "state": {
            "_model_module": "@jupyter-widgets/base",
            "_model_module_version": "2.0.0",
            "_model_name": "LayoutModel",
            "_view_count": null,
            "_view_module": "@jupyter-widgets/base",
            "_view_module_version": "2.0.0",
            "_view_name": "LayoutView",
            "align_content": null,
            "align_items": null,
            "align_self": null,
            "border_bottom": null,
            "border_left": null,
            "border_right": null,
            "border_top": null,
            "bottom": null,
            "display": null,
            "flex": null,
            "flex_flow": null,
            "grid_area": null,
            "grid_auto_columns": null,
            "grid_auto_flow": null,
            "grid_auto_rows": null,
            "grid_column": null,
            "grid_gap": null,
            "grid_row": null,
            "grid_template_areas": null,
            "grid_template_columns": null,
            "grid_template_rows": null,
            "height": "500px",
            "justify_content": null,
            "justify_items": null,
            "left": null,
            "margin": null,
            "max_height": null,
            "max_width": null,
            "min_height": null,
            "min_width": null,
            "object_fit": null,
            "object_position": null,
            "order": null,
            "overflow": null,
            "padding": null,
            "right": null,
            "top": null,
            "visibility": null,
            "width": "100%"
          }
        },
        "state": {}
      }
    }
  },
  "nbformat": 4,
  "nbformat_minor": 5
}