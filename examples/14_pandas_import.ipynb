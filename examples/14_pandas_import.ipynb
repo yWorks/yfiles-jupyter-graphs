{
  "cells": [
    {
      "cell_type": "markdown",
      "id": "32d03e09-094d-40f1-bdb1-5ee752ed94b8",
      "metadata": {
        "id": "32d03e09-094d-40f1-bdb1-5ee752ed94b8"
      },
      "source": [
        "# Visualizing Pandas DataFrames in yFiles Graphs for Jupyter <a target=\"_blank\" href=\"https://colab.research.google.com/github/yWorks/yfiles-jupyter-graphs/blob/main/examples/14_pandas_import.ipynb\"><img src=\"https://colab.research.google.com/assets/colab-badge.svg\" alt=\"Open In Colab\"/></a>"
      ]
    },
    {
      "cell_type": "markdown",
      "id": "87dc4803-39b0-434f-bba4-eac433d6016b",
      "metadata": {
        "id": "87dc4803-39b0-434f-bba4-eac433d6016b"
      },
      "source": [
        "Before using the graph widget, install all necessary packages."
      ]
    },
    {
      "cell_type": "code",
      "execution_count": 1,
      "id": "5c411c64-1368-454d-b725-c949e09330f6",
      "metadata": {
        "id": "5c411c64-1368-454d-b725-c949e09330f6",
        "outputId": "e018a407-a68c-430e-e917-59b1beb96a79",
        "colab": {
          "base_uri": "https://localhost:8080/"
        }
      },
      "outputs": [
        {
          "output_type": "stream",
          "name": "stdout",
          "text": [
            "\u001b[2K   \u001b[90m\u2501\u2501\u2501\u2501\u2501\u2501\u2501\u2501\u2501\u2501\u2501\u2501\u2501\u2501\u2501\u2501\u2501\u2501\u2501\u2501\u2501\u2501\u2501\u2501\u2501\u2501\u2501\u2501\u2501\u2501\u2501\u2501\u2501\u2501\u2501\u2501\u2501\u2501\u2501\u2501\u001b[0m \u001b[32m15.6/15.6 MB\u001b[0m \u001b[31m14.1 MB/s\u001b[0m eta \u001b[36m0:00:00\u001b[0m\n",
            "\u001b[2K   \u001b[90m\u2501\u2501\u2501\u2501\u2501\u2501\u2501\u2501\u2501\u2501\u2501\u2501\u2501\u2501\u2501\u2501\u2501\u2501\u2501\u2501\u2501\u2501\u2501\u2501\u2501\u2501\u2501\u2501\u2501\u2501\u2501\u2501\u2501\u2501\u2501\u2501\u2501\u2501\u2501\u2501\u001b[0m \u001b[32m139.8/139.8 kB\u001b[0m \u001b[31m6.0 MB/s\u001b[0m eta \u001b[36m0:00:00\u001b[0m\n",
            "\u001b[2K   \u001b[90m\u2501\u2501\u2501\u2501\u2501\u2501\u2501\u2501\u2501\u2501\u2501\u2501\u2501\u2501\u2501\u2501\u2501\u2501\u2501\u2501\u2501\u2501\u2501\u2501\u2501\u2501\u2501\u2501\u2501\u2501\u2501\u2501\u2501\u2501\u2501\u2501\u2501\u2501\u2501\u2501\u001b[0m \u001b[32m2.3/2.3 MB\u001b[0m \u001b[31m22.6 MB/s\u001b[0m eta \u001b[36m0:00:00\u001b[0m\n",
            "\u001b[2K   \u001b[90m\u2501\u2501\u2501\u2501\u2501\u2501\u2501\u2501\u2501\u2501\u2501\u2501\u2501\u2501\u2501\u2501\u2501\u2501\u2501\u2501\u2501\u2501\u2501\u2501\u2501\u2501\u2501\u2501\u2501\u2501\u2501\u2501\u2501\u2501\u2501\u2501\u2501\u2501\u2501\u2501\u001b[0m \u001b[32m1.6/1.6 MB\u001b[0m \u001b[31m25.7 MB/s\u001b[0m eta \u001b[36m0:00:00\u001b[0m\n",
            "\u001b[?25h"
          ]
        }
      ],
      "source": [
        "%pip install yfiles_jupyter_graphs --quiet\n",
        "%pip install pandas --quiet\n",
        "import pandas as pd\n",
        "from yfiles_jupyter_graphs import GraphWidget"
      ]
    },
    {
      "cell_type": "markdown",
      "id": "c6ea79b9-6287-475e-9c3b-094b63177e56",
      "metadata": {
        "id": "c6ea79b9-6287-475e-9c3b-094b63177e56"
      },
      "source": [
        "You can also open this notebook in Google Colab when Google Colab's custom widget manager is enabled:"
      ]
    },
    {
      "cell_type": "code",
      "execution_count": 2,
      "id": "03e06677-a479-4977-83ac-7e8382f0ca08",
      "metadata": {
        "id": "03e06677-a479-4977-83ac-7e8382f0ca08"
      },
      "outputs": [],
      "source": [
        "try:\n",
        "  import google.colab\n",
        "  from google.colab import output\n",
        "  output.enable_custom_widget_manager()\n",
        "except:\n",
        "  pass"
      ]
    },
    {
      "cell_type": "markdown",
      "id": "c5c6deb9-87cc-4f04-8576-e01e2452976d",
      "metadata": {
        "id": "c5c6deb9-87cc-4f04-8576-e01e2452976d"
      },
      "source": [
        "<a target=\"_blank\" href=\"https://colab.research.google.com/github/yWorks/yfiles-jupyter-graphs/blob/main/examples/14_pandas_import.ipynb\"><img src=\"https://colab.research.google.com/assets/colab-badge.svg\" alt=\"Open In Colab\"/></a>"
      ]
    },
    {
      "cell_type": "markdown",
      "id": "dfb0c218-6da5-48d2-8eba-3a0edacde699",
      "metadata": {
        "id": "dfb0c218-6da5-48d2-8eba-3a0edacde699"
      },
      "source": [
        "## How to import a graph\n",
        "- either import the graph directly when initilizing: `GraphWidget(graph=your_graph)`\n",
        "- or use the `w.import_graph(your_graph)` function, if you already initilized a Widget called `w`"
      ]
    },
    {
      "cell_type": "markdown",
      "id": "2e31422e-3de0-452c-8147-26780b1b1fab",
      "metadata": {
        "id": "2e31422e-3de0-452c-8147-26780b1b1fab"
      },
      "source": [
        "## Notes about pandas importer\n",
        "- each row corresponds to an edge\n",
        "- the edges are defined by pairs of 'source' and 'target' indices\n",
        "- if you have a 'label' column in your DataFrame, the edges automatically have this label\n",
        "- the default edge is always directed\n",
        "- nodes are created for every id used in `source` and `target`\n",
        "- any additional DataFrame columns are stored in `properties` under the same name"
      ]
    },
    {
      "cell_type": "markdown",
      "id": "fb7a4ebd-c29e-47be-9445-d13cbee5cbec",
      "metadata": {
        "id": "fb7a4ebd-c29e-47be-9445-d13cbee5cbec"
      },
      "source": [
        "## Sample data"
      ]
    },
    {
      "cell_type": "code",
      "execution_count": 3,
      "id": "e810300a-7e22-48d7-a1ac-d1106364aba0",
      "metadata": {
        "id": "e810300a-7e22-48d7-a1ac-d1106364aba0",
        "outputId": "1b093aad-eb4c-4951-ba2a-58b2644eb4b5",
        "colab": {
          "base_uri": "https://localhost:8080/",
          "height": 363
        }
      },
      "outputs": [
        {
          "output_type": "execute_result",
          "data": {
            "text/plain": [
              "   source  target  label id  age   color\n",
              "0  Node 0  Node 3  Row 0  0   31     red\n",
              "1  Node 0  Node 4  Row 1  1   56    blue\n",
              "2  Node 1  Node 4  Row 2  2   27   green\n",
              "3  Node 2  Node 5  Row 3  3   43  orange\n",
              "4  Node 2  Node 6  Row 4  4   19  purple\n",
              "5  Node 2  Node 7  Row 5  5   84  yellow\n",
              "6  Node 3  Node 8  Row 6  6   38    grey\n",
              "7  Node 3  Node 9  Row 7  7   70    pink\n",
              "8  Node 4  Node 6  Row 8  8    5   black\n",
              "9  Node 5  Node 6  Row 9  9   92   brown"
            ],
            "text/html": [
              "\n",
              "  <div id=\"df-2b186802-f86b-43fb-bd37-b5640c0fd12a\" class=\"colab-df-container\">\n",
              "    <div>\n",
              "<style scoped>\n",
              "    .dataframe tbody tr th:only-of-type {\n",
              "        vertical-align: middle;\n",
              "    }\n",
              "\n",
              "    .dataframe tbody tr th {\n",
              "        vertical-align: top;\n",
              "    }\n",
              "\n",
              "    .dataframe thead th {\n",
              "        text-align: right;\n",
              "    }\n",
              "</style>\n",
              "<table border=\"1\" class=\"dataframe\">\n",
              "  <thead>\n",
              "    <tr style=\"text-align: right;\">\n",
              "      <th></th>\n",
              "      <th>source</th>\n",
              "      <th>target</th>\n",
              "      <th>label</th>\n",
              "      <th>id</th>\n",
              "      <th>age</th>\n",
              "      <th>color</th>\n",
              "    </tr>\n",
              "  </thead>\n",
              "  <tbody>\n",
              "    <tr>\n",
              "      <th>0</th>\n",
              "      <td>Node 0</td>\n",
              "      <td>Node 3</td>\n",
              "      <td>Row 0</td>\n",
              "      <td>0</td>\n",
              "      <td>31</td>\n",
              "      <td>red</td>\n",
              "    </tr>\n",
              "    <tr>\n",
              "      <th>1</th>\n",
              "      <td>Node 0</td>\n",
              "      <td>Node 4</td>\n",
              "      <td>Row 1</td>\n",
              "      <td>1</td>\n",
              "      <td>56</td>\n",
              "      <td>blue</td>\n",
              "    </tr>\n",
              "    <tr>\n",
              "      <th>2</th>\n",
              "      <td>Node 1</td>\n",
              "      <td>Node 4</td>\n",
              "      <td>Row 2</td>\n",
              "      <td>2</td>\n",
              "      <td>27</td>\n",
              "      <td>green</td>\n",
              "    </tr>\n",
              "    <tr>\n",
              "      <th>3</th>\n",
              "      <td>Node 2</td>\n",
              "      <td>Node 5</td>\n",
              "      <td>Row 3</td>\n",
              "      <td>3</td>\n",
              "      <td>43</td>\n",
              "      <td>orange</td>\n",
              "    </tr>\n",
              "    <tr>\n",
              "      <th>4</th>\n",
              "      <td>Node 2</td>\n",
              "      <td>Node 6</td>\n",
              "      <td>Row 4</td>\n",
              "      <td>4</td>\n",
              "      <td>19</td>\n",
              "      <td>purple</td>\n",
              "    </tr>\n",
              "    <tr>\n",
              "      <th>5</th>\n",
              "      <td>Node 2</td>\n",
              "      <td>Node 7</td>\n",
              "      <td>Row 5</td>\n",
              "      <td>5</td>\n",
              "      <td>84</td>\n",
              "      <td>yellow</td>\n",
              "    </tr>\n",
              "    <tr>\n",
              "      <th>6</th>\n",
              "      <td>Node 3</td>\n",
              "      <td>Node 8</td>\n",
              "      <td>Row 6</td>\n",
              "      <td>6</td>\n",
              "      <td>38</td>\n",
              "      <td>grey</td>\n",
              "    </tr>\n",
              "    <tr>\n",
              "      <th>7</th>\n",
              "      <td>Node 3</td>\n",
              "      <td>Node 9</td>\n",
              "      <td>Row 7</td>\n",
              "      <td>7</td>\n",
              "      <td>70</td>\n",
              "      <td>pink</td>\n",
              "    </tr>\n",
              "    <tr>\n",
              "      <th>8</th>\n",
              "      <td>Node 4</td>\n",
              "      <td>Node 6</td>\n",
              "      <td>Row 8</td>\n",
              "      <td>8</td>\n",
              "      <td>5</td>\n",
              "      <td>black</td>\n",
              "    </tr>\n",
              "    <tr>\n",
              "      <th>9</th>\n",
              "      <td>Node 5</td>\n",
              "      <td>Node 6</td>\n",
              "      <td>Row 9</td>\n",
              "      <td>9</td>\n",
              "      <td>92</td>\n",
              "      <td>brown</td>\n",
              "    </tr>\n",
              "  </tbody>\n",
              "</table>\n",
              "</div>\n",
              "    <div class=\"colab-df-buttons\">\n",
              "\n",
              "  <div class=\"colab-df-container\">\n",
              "    <button class=\"colab-df-convert\" onclick=\"convertToInteractive('df-2b186802-f86b-43fb-bd37-b5640c0fd12a')\"\n",
              "            title=\"Convert this dataframe to an interactive table.\"\n",
              "            style=\"display:none;\">\n",
              "\n",
              "  <svg xmlns=\"http://www.w3.org/2000/svg\" height=\"24px\" viewBox=\"0 -960 960 960\">\n",
              "    <path d=\"M120-120v-720h720v720H120Zm60-500h600v-160H180v160Zm220 220h160v-160H400v160Zm0 220h160v-160H400v160ZM180-400h160v-160H180v160Zm440 0h160v-160H620v160ZM180-180h160v-160H180v160Zm440 0h160v-160H620v160Z\"/>\n",
              "  </svg>\n",
              "    </button>\n",
              "\n",
              "  <style>\n",
              "    .colab-df-container {\n",
              "      display:flex;\n",
              "      gap: 12px;\n",
              "    }\n",
              "\n",
              "    .colab-df-convert {\n",
              "      background-color: #E8F0FE;\n",
              "      border: none;\n",
              "      border-radius: 50%;\n",
              "      cursor: pointer;\n",
              "      display: none;\n",
              "      fill: #1967D2;\n",
              "      height: 32px;\n",
              "      padding: 0 0 0 0;\n",
              "      width: 32px;\n",
              "    }\n",
              "\n",
              "    .colab-df-convert:hover {\n",
              "      background-color: #E2EBFA;\n",
              "      box-shadow: 0px 1px 2px rgba(60, 64, 67, 0.3), 0px 1px 3px 1px rgba(60, 64, 67, 0.15);\n",
              "      fill: #174EA6;\n",
              "    }\n",
              "\n",
              "    .colab-df-buttons div {\n",
              "      margin-bottom: 4px;\n",
              "    }\n",
              "\n",
              "    [theme=dark] .colab-df-convert {\n",
              "      background-color: #3B4455;\n",
              "      fill: #D2E3FC;\n",
              "    }\n",
              "\n",
              "    [theme=dark] .colab-df-convert:hover {\n",
              "      background-color: #434B5C;\n",
              "      box-shadow: 0px 1px 3px 1px rgba(0, 0, 0, 0.15);\n",
              "      filter: drop-shadow(0px 1px 2px rgba(0, 0, 0, 0.3));\n",
              "      fill: #FFFFFF;\n",
              "    }\n",
              "  </style>\n",
              "\n",
              "    <script>\n",
              "      const buttonEl =\n",
              "        document.querySelector('#df-2b186802-f86b-43fb-bd37-b5640c0fd12a button.colab-df-convert');\n",
              "      buttonEl.style.display =\n",
              "        google.colab.kernel.accessAllowed ? 'block' : 'none';\n",
              "\n",
              "      async function convertToInteractive(key) {\n",
              "        const element = document.querySelector('#df-2b186802-f86b-43fb-bd37-b5640c0fd12a');\n",
              "        const dataTable =\n",
              "          await google.colab.kernel.invokeFunction('convertToInteractive',\n",
              "                                                    [key], {});\n",
              "        if (!dataTable) return;\n",
              "\n",
              "        const docLinkHtml = 'Like what you see? Visit the ' +\n",
              "          '<a target=\"_blank\" href=https://colab.research.google.com/notebooks/data_table.ipynb>data table notebook</a>'\n",
              "          + ' to learn more about interactive tables.';\n",
              "        element.innerHTML = '';\n",
              "        dataTable['output_type'] = 'display_data';\n",
              "        await google.colab.output.renderOutput(dataTable, element);\n",
              "        const docLink = document.createElement('div');\n",
              "        docLink.innerHTML = docLinkHtml;\n",
              "        element.appendChild(docLink);\n",
              "      }\n",
              "    </script>\n",
              "  </div>\n",
              "\n",
              "\n",
              "<div id=\"df-c939d085-a8ab-47b8-af2c-fc752eb3b8fb\">\n",
              "  <button class=\"colab-df-quickchart\" onclick=\"quickchart('df-c939d085-a8ab-47b8-af2c-fc752eb3b8fb')\"\n",
              "            title=\"Suggest charts\"\n",
              "            style=\"display:none;\">\n",
              "\n",
              "<svg xmlns=\"http://www.w3.org/2000/svg\" height=\"24px\"viewBox=\"0 0 24 24\"\n",
              "     width=\"24px\">\n",
              "    <g>\n",
              "        <path d=\"M19 3H5c-1.1 0-2 .9-2 2v14c0 1.1.9 2 2 2h14c1.1 0 2-.9 2-2V5c0-1.1-.9-2-2-2zM9 17H7v-7h2v7zm4 0h-2V7h2v10zm4 0h-2v-4h2v4z\"/>\n",
              "    </g>\n",
              "</svg>\n",
              "  </button>\n",
              "\n",
              "<style>\n",
              "  .colab-df-quickchart {\n",
              "      --bg-color: #E8F0FE;\n",
              "      --fill-color: #1967D2;\n",
              "      --hover-bg-color: #E2EBFA;\n",
              "      --hover-fill-color: #174EA6;\n",
              "      --disabled-fill-color: #AAA;\n",
              "      --disabled-bg-color: #DDD;\n",
              "  }\n",
              "\n",
              "  [theme=dark] .colab-df-quickchart {\n",
              "      --bg-color: #3B4455;\n",
              "      --fill-color: #D2E3FC;\n",
              "      --hover-bg-color: #434B5C;\n",
              "      --hover-fill-color: #FFFFFF;\n",
              "      --disabled-bg-color: #3B4455;\n",
              "      --disabled-fill-color: #666;\n",
              "  }\n",
              "\n",
              "  .colab-df-quickchart {\n",
              "    background-color: var(--bg-color);\n",
              "    border: none;\n",
              "    border-radius: 50%;\n",
              "    cursor: pointer;\n",
              "    display: none;\n",
              "    fill: var(--fill-color);\n",
              "    height: 32px;\n",
              "    padding: 0;\n",
              "    width: 32px;\n",
              "  }\n",
              "\n",
              "  .colab-df-quickchart:hover {\n",
              "    background-color: var(--hover-bg-color);\n",
              "    box-shadow: 0 1px 2px rgba(60, 64, 67, 0.3), 0 1px 3px 1px rgba(60, 64, 67, 0.15);\n",
              "    fill: var(--button-hover-fill-color);\n",
              "  }\n",
              "\n",
              "  .colab-df-quickchart-complete:disabled,\n",
              "  .colab-df-quickchart-complete:disabled:hover {\n",
              "    background-color: var(--disabled-bg-color);\n",
              "    fill: var(--disabled-fill-color);\n",
              "    box-shadow: none;\n",
              "  }\n",
              "\n",
              "  .colab-df-spinner {\n",
              "    border: 2px solid var(--fill-color);\n",
              "    border-color: transparent;\n",
              "    border-bottom-color: var(--fill-color);\n",
              "    animation:\n",
              "      spin 1s steps(1) infinite;\n",
              "  }\n",
              "\n",
              "  @keyframes spin {\n",
              "    0% {\n",
              "      border-color: transparent;\n",
              "      border-bottom-color: var(--fill-color);\n",
              "      border-left-color: var(--fill-color);\n",
              "    }\n",
              "    20% {\n",
              "      border-color: transparent;\n",
              "      border-left-color: var(--fill-color);\n",
              "      border-top-color: var(--fill-color);\n",
              "    }\n",
              "    30% {\n",
              "      border-color: transparent;\n",
              "      border-left-color: var(--fill-color);\n",
              "      border-top-color: var(--fill-color);\n",
              "      border-right-color: var(--fill-color);\n",
              "    }\n",
              "    40% {\n",
              "      border-color: transparent;\n",
              "      border-right-color: var(--fill-color);\n",
              "      border-top-color: var(--fill-color);\n",
              "    }\n",
              "    60% {\n",
              "      border-color: transparent;\n",
              "      border-right-color: var(--fill-color);\n",
              "    }\n",
              "    80% {\n",
              "      border-color: transparent;\n",
              "      border-right-color: var(--fill-color);\n",
              "      border-bottom-color: var(--fill-color);\n",
              "    }\n",
              "    90% {\n",
              "      border-color: transparent;\n",
              "      border-bottom-color: var(--fill-color);\n",
              "    }\n",
              "  }\n",
              "</style>\n",
              "\n",
              "  <script>\n",
              "    async function quickchart(key) {\n",
              "      const quickchartButtonEl =\n",
              "        document.querySelector('#' + key + ' button');\n",
              "      quickchartButtonEl.disabled = true;  // To prevent multiple clicks.\n",
              "      quickchartButtonEl.classList.add('colab-df-spinner');\n",
              "      try {\n",
              "        const charts = await google.colab.kernel.invokeFunction(\n",
              "            'suggestCharts', [key], {});\n",
              "      } catch (error) {\n",
              "        console.error('Error during call to suggestCharts:', error);\n",
              "      }\n",
              "      quickchartButtonEl.classList.remove('colab-df-spinner');\n",
              "      quickchartButtonEl.classList.add('colab-df-quickchart-complete');\n",
              "    }\n",
              "    (() => {\n",
              "      let quickchartButtonEl =\n",
              "        document.querySelector('#df-c939d085-a8ab-47b8-af2c-fc752eb3b8fb button');\n",
              "      quickchartButtonEl.style.display =\n",
              "        google.colab.kernel.accessAllowed ? 'block' : 'none';\n",
              "    })();\n",
              "  </script>\n",
              "</div>\n",
              "\n",
              "  <div id=\"id_b0623afe-302f-4d18-934d-0f83971d246d\">\n",
              "    <style>\n",
              "      .colab-df-generate {\n",
              "        background-color: #E8F0FE;\n",
              "        border: none;\n",
              "        border-radius: 50%;\n",
              "        cursor: pointer;\n",
              "        display: none;\n",
              "        fill: #1967D2;\n",
              "        height: 32px;\n",
              "        padding: 0 0 0 0;\n",
              "        width: 32px;\n",
              "      }\n",
              "\n",
              "      .colab-df-generate:hover {\n",
              "        background-color: #E2EBFA;\n",
              "        box-shadow: 0px 1px 2px rgba(60, 64, 67, 0.3), 0px 1px 3px 1px rgba(60, 64, 67, 0.15);\n",
              "        fill: #174EA6;\n",
              "      }\n",
              "\n",
              "      [theme=dark] .colab-df-generate {\n",
              "        background-color: #3B4455;\n",
              "        fill: #D2E3FC;\n",
              "      }\n",
              "\n",
              "      [theme=dark] .colab-df-generate:hover {\n",
              "        background-color: #434B5C;\n",
              "        box-shadow: 0px 1px 3px 1px rgba(0, 0, 0, 0.15);\n",
              "        filter: drop-shadow(0px 1px 2px rgba(0, 0, 0, 0.3));\n",
              "        fill: #FFFFFF;\n",
              "      }\n",
              "    </style>\n",
              "    <button class=\"colab-df-generate\" onclick=\"generateWithVariable('df')\"\n",
              "            title=\"Generate code using this dataframe.\"\n",
              "            style=\"display:none;\">\n",
              "\n",
              "  <svg xmlns=\"http://www.w3.org/2000/svg\" height=\"24px\"viewBox=\"0 0 24 24\"\n",
              "       width=\"24px\">\n",
              "    <path d=\"M7,19H8.4L18.45,9,17,7.55,7,17.6ZM5,21V16.75L18.45,3.32a2,2,0,0,1,2.83,0l1.4,1.43a1.91,1.91,0,0,1,.58,1.4,1.91,1.91,0,0,1-.58,1.4L9.25,21ZM18.45,9,17,7.55Zm-12,3A5.31,5.31,0,0,0,4.9,8.1,5.31,5.31,0,0,0,1,6.5,5.31,5.31,0,0,0,4.9,4.9,5.31,5.31,0,0,0,6.5,1,5.31,5.31,0,0,0,8.1,4.9,5.31,5.31,0,0,0,12,6.5,5.46,5.46,0,0,0,6.5,12Z\"/>\n",
              "  </svg>\n",
              "    </button>\n",
              "    <script>\n",
              "      (() => {\n",
              "      const buttonEl =\n",
              "        document.querySelector('#id_b0623afe-302f-4d18-934d-0f83971d246d button.colab-df-generate');\n",
              "      buttonEl.style.display =\n",
              "        google.colab.kernel.accessAllowed ? 'block' : 'none';\n",
              "\n",
              "      buttonEl.onclick = () => {\n",
              "        google.colab.notebook.generateWithVariable('df');\n",
              "      }\n",
              "      })();\n",
              "    </script>\n",
              "  </div>\n",
              "\n",
              "    </div>\n",
              "  </div>\n"
            ],
            "application/vnd.google.colaboratory.intrinsic+json": {
              "type": "dataframe",
              "variable_name": "df",
              "summary": "{\n  \"name\": \"df\",\n  \"rows\": 10,\n  \"fields\": [\n    {\n      \"column\": \"source\",\n      \"properties\": {\n        \"dtype\": \"string\",\n        \"num_unique_values\": 6,\n        \"samples\": [\n          \"Node 0\",\n          \"Node 1\",\n          \"Node 5\"\n        ],\n        \"semantic_type\": \"\",\n        \"description\": \"\"\n      }\n    },\n    {\n      \"column\": \"target\",\n      \"properties\": {\n        \"dtype\": \"string\",\n        \"num_unique_values\": 7,\n        \"samples\": [\n          \"Node 3\",\n          \"Node 4\",\n          \"Node 8\"\n        ],\n        \"semantic_type\": \"\",\n        \"description\": \"\"\n      }\n    },\n    {\n      \"column\": \"label\",\n      \"properties\": {\n        \"dtype\": \"string\",\n        \"num_unique_values\": 10,\n        \"samples\": [\n          \"Row 8\",\n          \"Row 1\",\n          \"Row 5\"\n        ],\n        \"semantic_type\": \"\",\n        \"description\": \"\"\n      }\n    },\n    {\n      \"column\": \"id\",\n      \"properties\": {\n        \"dtype\": \"string\",\n        \"num_unique_values\": 10,\n        \"samples\": [\n          \"8\",\n          \"1\",\n          \"5\"\n        ],\n        \"semantic_type\": \"\",\n        \"description\": \"\"\n      }\n    },\n    {\n      \"column\": \"age\",\n      \"properties\": {\n        \"dtype\": \"number\",\n        \"std\": 28,\n        \"min\": 5,\n        \"max\": 92,\n        \"num_unique_values\": 10,\n        \"samples\": [\n          5,\n          56,\n          84\n        ],\n        \"semantic_type\": \"\",\n        \"description\": \"\"\n      }\n    },\n    {\n      \"column\": \"color\",\n      \"properties\": {\n        \"dtype\": \"string\",\n        \"num_unique_values\": 10,\n        \"samples\": [\n          \"black\",\n          \"blue\",\n          \"yellow\"\n        ],\n        \"semantic_type\": \"\",\n        \"description\": \"\"\n      }\n    }\n  ]\n}"
            }
          },
          "metadata": {},
          "execution_count": 3
        }
      ],
      "source": [
        "data = {'source': ['Node 0','Node 0','Node 1','Node 2','Node 2','Node 2','Node 3','Node 3','Node 4','Node 5'],\n",
        "       'target': ['Node 3','Node 4','Node 4', 'Node 5', 'Node 6','Node 7','Node 8','Node 9','Node 6','Node 6'],\n",
        "       'label': ['Row 0','Row 1','Row 2','Row 3','Row 4','Row 5','Row 6','Row 7','Row 8','Row 9'],\n",
        "       'id': ['0','1','2','3','4','5','6','7','8','9'],\n",
        "       'age': [31, 56, 27, 43, 19, 84, 38, 70, 5, 92],\n",
        "        'color': ['red','blue','green','orange','purple','yellow','grey','pink','black','brown']}\n",
        "df = pd.DataFrame(data)\n",
        "df"
      ]
    },
    {
      "cell_type": "markdown",
      "id": "f13f87af-def7-42bd-8222-25cff4666150",
      "metadata": {
        "id": "f13f87af-def7-42bd-8222-25cff4666150"
      },
      "source": [
        "## Visualizing the sample data"
      ]
    },
    {
      "cell_type": "code",
      "execution_count": 4,
      "id": "0e640a88-6512-4638-97ba-ce34e7c93a14",
      "metadata": {
        "id": "0e640a88-6512-4638-97ba-ce34e7c93a14",
        "outputId": "55e284eb-3424-4031-f2db-0bed023da70d",
        "colab": {
          "base_uri": "https://localhost:8080/",
          "height": 517,
          "referenced_widgets": [
            "5c63b63bb241461387b59dde9fa3e359",
            "59776f0eca9d41e19b7c4bcfd4458786"
          ]
        }
      },
      "outputs": [
        {
          "output_type": "display_data",
          "data": {
            "text/plain": [
              "GraphWidget(layout=Layout(height='500px', width='100%'))"
            ],
            "application/vnd.jupyter.widget-view+json": {
              "version_major": 2,
              "version_minor": 0,
              "model_id": "5c63b63bb241461387b59dde9fa3e359"
            }
          },
          "metadata": {
            "application/vnd.jupyter.widget-view+json": {
              "colab": {
                "custom_widget_manager": {
                  "url": "https://ssl.gstatic.com/colaboratory-static/widgets/colab-cdn-widget-manager/2b70e893a8ba7c0f/manager.min.js"
                }
              }
            }
          }
        }
      ],
      "source": [
        "w = GraphWidget(graph = df)\n",
        "display(w)"
      ]
    },
    {
      "cell_type": "markdown",
      "id": "b13b64ac-25b1-4cf6-8ad6-378f4892a59d",
      "metadata": {
        "id": "b13b64ac-25b1-4cf6-8ad6-378f4892a59d"
      },
      "source": [
        "When hovering over a edge, you can see the age and color data for each edge. You can look into the edge data as well.\n",
        "\n",
        "To access the 'properties' data, you can use the data key in squared brackets: `['properties']['key'] `\n",
        "\n",
        "Possible edge keys in this example are 'label', 'age' and 'color'\n",
        "\n",
        "To display all properties, we remove any additional edge data except the properties"
      ]
    },
    {
      "cell_type": "code",
      "execution_count": 5,
      "id": "50579e0a-88c0-4bd5-94c6-7d7113c6b0e4",
      "metadata": {
        "id": "50579e0a-88c0-4bd5-94c6-7d7113c6b0e4",
        "outputId": "cb000195-534e-4115-c694-3754b6bd6b20",
        "colab": {
          "base_uri": "https://localhost:8080/"
        }
      },
      "outputs": [
        {
          "output_type": "stream",
          "name": "stdout",
          "text": [
            "Edge Row 0: {'label': 'Row 0', 'age': 31, 'color': 'red'}\n",
            "Edge Row 1: {'label': 'Row 1', 'age': 56, 'color': 'blue'}\n",
            "Edge Row 2: {'label': 'Row 2', 'age': 27, 'color': 'green'}\n",
            "Edge Row 3: {'label': 'Row 3', 'age': 43, 'color': 'orange'}\n",
            "Edge Row 4: {'label': 'Row 4', 'age': 19, 'color': 'purple'}\n",
            "Edge Row 5: {'label': 'Row 5', 'age': 84, 'color': 'yellow'}\n",
            "Edge Row 6: {'label': 'Row 6', 'age': 38, 'color': 'grey'}\n",
            "Edge Row 7: {'label': 'Row 7', 'age': 70, 'color': 'pink'}\n",
            "Edge Row 8: {'label': 'Row 8', 'age': 5, 'color': 'black'}\n",
            "Edge Row 9: {'label': 'Row 9', 'age': 92, 'color': 'brown'}\n",
            "\n"
          ]
        }
      ],
      "source": [
        "properties = [edge['properties'] for edge in w.edges]\n",
        "formattedProperties = ''.join(f\"Edge {edge['label']}: {edge}\\n\" for edge in properties)\n",
        "print(formattedProperties)"
      ]
    },
    {
      "cell_type": "markdown",
      "id": "361a0f2f-ff40-4e14-bb5e-cb0c08904b01",
      "metadata": {
        "id": "361a0f2f-ff40-4e14-bb5e-cb0c08904b01"
      },
      "source": [
        "### Using column data stored in 'properties'\n",
        "\n",
        "To utilize the age and color data, we set the thickness factor of the edge as the age and the color as the edge color"
      ]
    },
    {
      "cell_type": "code",
      "execution_count": 6,
      "id": "31594712-81a6-4811-9cb8-1fc606f967d9",
      "metadata": {
        "id": "31594712-81a6-4811-9cb8-1fc606f967d9",
        "outputId": "1aec3f00-41d7-40fb-a5e2-fe5e5d2287f2",
        "colab": {
          "base_uri": "https://localhost:8080/",
          "height": 517,
          "referenced_widgets": [
            "5c63b63bb241461387b59dde9fa3e359",
            "59776f0eca9d41e19b7c4bcfd4458786"
          ]
        }
      },
      "outputs": [
        {
          "output_type": "display_data",
          "data": {
            "text/plain": [
              "GraphWidget(layout=Layout(height='500px', width='100%'))"
            ],
            "application/vnd.jupyter.widget-view+json": {
              "version_major": 2,
              "version_minor": 0,
              "model_id": "5c63b63bb241461387b59dde9fa3e359"
            }
          },
          "metadata": {
            "application/vnd.jupyter.widget-view+json": {
              "colab": {
                "custom_widget_manager": {
                  "url": "https://ssl.gstatic.com/colaboratory-static/widgets/colab-cdn-widget-manager/2b70e893a8ba7c0f/manager.min.js"
                }
              }
            }
          }
        }
      ],
      "source": [
        "w.edge_color_mapping = 'color'\n",
        "w.edge_thickness_factor_mapping = lambda item: item['properties']['age'] / 35\n",
        "display(w)"
      ]
    }
  ],
  "metadata": {
    "kernelspec": {
      "display_name": "Python 3 (ipykernel)",
      "language": "python",
      "name": "python3"
    },
    "language_info": {
      "codemirror_mode": {
        "name": "ipython",
        "version": 3
      },
      "file_extension": ".py",
      "mimetype": "text/x-python",
      "name": "python",
      "nbconvert_exporter": "python",
      "pygments_lexer": "ipython3",
      "version": "3.12.3"
    },
    "colab": {
      "provenance": []
    },
    "widgets": {
      "application/vnd.jupyter.widget-state+json": {
        "5c63b63bb241461387b59dde9fa3e359": {
          "model_module": "yfiles-jupyter-graphs",
          "model_name": "GraphModel",
          "model_module_version": "^1.8.1",
          "state": {
            "_context_pane_mapping": [
              {
                "id": "Neighborhood",
                "title": "Neighborhood"
              },
              {
                "id": "Data",
                "title": "Data"
              },
              {
                "id": "Search",
                "title": "Search"
              },
              {
                "id": "About",
                "title": "About"
              }
            ],
            "_data_importer": "pandas",
            "_directed": true,
            "_dom_classes": [],
            "_edges": [
              {
                "id": 0,
                "start": "Node 0",
                "end": "Node 3",
                "properties": {
                  "label": "Row 0",
                  "age": 31,
                  "color": "red"
                },
                "label": "Row 0",
                "color": "red",
                "thickness_factor": 0.8857142857142857,
                "directed": true
              },
              {
                "id": 1,
                "start": "Node 0",
                "end": "Node 4",
                "properties": {
                  "label": "Row 1",
                  "age": 56,
                  "color": "blue"
                },
                "label": "Row 1",
                "color": "blue",
                "thickness_factor": 1.6,
                "directed": true
              },
              {
                "id": 2,
                "start": "Node 1",
                "end": "Node 4",
                "properties": {
                  "label": "Row 2",
                  "age": 27,
                  "color": "green"
                },
                "label": "Row 2",
                "color": "green",
                "thickness_factor": 0.7714285714285715,
                "directed": true
              },
              {
                "id": 3,
                "start": "Node 2",
                "end": "Node 5",
                "properties": {
                  "label": "Row 3",
                  "age": 43,
                  "color": "orange"
                },
                "label": "Row 3",
                "color": "orange",
                "thickness_factor": 1.2285714285714286,
                "directed": true
              },
              {
                "id": 4,
                "start": "Node 2",
                "end": "Node 6",
                "properties": {
                  "label": "Row 4",
                  "age": 19,
                  "color": "purple"
                },
                "label": "Row 4",
                "color": "purple",
                "thickness_factor": 0.5428571428571428,
                "directed": true
              },
              {
                "id": 5,
                "start": "Node 2",
                "end": "Node 7",
                "properties": {
                  "label": "Row 5",
                  "age": 84,
                  "color": "yellow"
                },
                "label": "Row 5",
                "color": "yellow",
                "thickness_factor": 2.4,
                "directed": true
              },
              {
                "id": 6,
                "start": "Node 3",
                "end": "Node 8",
                "properties": {
                  "label": "Row 6",
                  "age": 38,
                  "color": "grey"
                },
                "label": "Row 6",
                "color": "grey",
                "thickness_factor": 1.0857142857142856,
                "directed": true
              },
              {
                "id": 7,
                "start": "Node 3",
                "end": "Node 9",
                "properties": {
                  "label": "Row 7",
                  "age": 70,
                  "color": "pink"
                },
                "label": "Row 7",
                "color": "pink",
                "thickness_factor": 2,
                "directed": true
              },
              {
                "id": 8,
                "start": "Node 4",
                "end": "Node 6",
                "properties": {
                  "label": "Row 8",
                  "age": 5,
                  "color": "black"
                },
                "label": "Row 8",
                "color": "black",
                "thickness_factor": 0.14285714285714285,
                "directed": true
              },
              {
                "id": 9,
                "start": "Node 5",
                "end": "Node 6",
                "properties": {
                  "label": "Row 9",
                  "age": 92,
                  "color": "brown"
                },
                "label": "Row 9",
                "color": "brown",
                "thickness_factor": 2.6285714285714286,
                "directed": true
              }
            ],
            "_graph_layout": {},
            "_highlight": [],
            "_license": {},
            "_model_module": "yfiles-jupyter-graphs",
            "_model_module_version": "^1.8.1",
            "_model_name": "GraphModel",
            "_neighborhood": {},
            "_nodes": [
              {
                "id": "Node 0",
                "properties": {
                  "label": "Node 0"
                },
                "color": "#15AFAC",
                "styles": {},
                "label": "Node 0",
                "scale_factor": 1,
                "type": "#15AFAC",
                "size": [
                  55,
                  55
                ],
                "position": [
                  0,
                  0
                ]
              },
              {
                "id": "Node 3",
                "properties": {
                  "label": "Node 3"
                },
                "color": "#15AFAC",
                "styles": {},
                "label": "Node 3",
                "scale_factor": 1,
                "type": "#15AFAC",
                "size": [
                  55,
                  55
                ],
                "position": [
                  0,
                  0
                ]
              },
              {
                "id": "Node 4",
                "properties": {
                  "label": "Node 4"
                },
                "color": "#15AFAC",
                "styles": {},
                "label": "Node 4",
                "scale_factor": 1,
                "type": "#15AFAC",
                "size": [
                  55,
                  55
                ],
                "position": [
                  0,
                  0
                ]
              },
              {
                "id": "Node 1",
                "properties": {
                  "label": "Node 1"
                },
                "color": "#15AFAC",
                "styles": {},
                "label": "Node 1",
                "scale_factor": 1,
                "type": "#15AFAC",
                "size": [
                  55,
                  55
                ],
                "position": [
                  0,
                  0
                ]
              },
              {
                "id": "Node 2",
                "properties": {
                  "label": "Node 2"
                },
                "color": "#15AFAC",
                "styles": {},
                "label": "Node 2",
                "scale_factor": 1,
                "type": "#15AFAC",
                "size": [
                  55,
                  55
                ],
                "position": [
                  0,
                  0
                ]
              },
              {
                "id": "Node 5",
                "properties": {
                  "label": "Node 5"
                },
                "color": "#15AFAC",
                "styles": {},
                "label": "Node 5",
                "scale_factor": 1,
                "type": "#15AFAC",
                "size": [
                  55,
                  55
                ],
                "position": [
                  0,
                  0
                ]
              },
              {
                "id": "Node 6",
                "properties": {
                  "label": "Node 6"
                },
                "color": "#15AFAC",
                "styles": {},
                "label": "Node 6",
                "scale_factor": 1,
                "type": "#15AFAC",
                "size": [
                  55,
                  55
                ],
                "position": [
                  0,
                  0
                ]
              },
              {
                "id": "Node 7",
                "properties": {
                  "label": "Node 7"
                },
                "color": "#15AFAC",
                "styles": {},
                "label": "Node 7",
                "scale_factor": 1,
                "type": "#15AFAC",
                "size": [
                  55,
                  55
                ],
                "position": [
                  0,
                  0
                ]
              },
              {
                "id": "Node 8",
                "properties": {
                  "label": "Node 8"
                },
                "color": "#15AFAC",
                "styles": {},
                "label": "Node 8",
                "scale_factor": 1,
                "type": "#15AFAC",
                "size": [
                  55,
                  55
                ],
                "position": [
                  0,
                  0
                ]
              },
              {
                "id": "Node 9",
                "properties": {
                  "label": "Node 9"
                },
                "color": "#15AFAC",
                "styles": {},
                "label": "Node 9",
                "scale_factor": 1,
                "type": "#15AFAC",
                "size": [
                  55,
                  55
                ],
                "position": [
                  0,
                  0
                ]
              }
            ],
            "_overview": {
              "enabled": null,
              "overview_set": false
            },
            "_selected_graph": [
              [],
              []
            ],
            "_sidebar": {
              "enabled": false,
              "start_with": null
            },
            "_view_count": null,
            "_view_module": "yfiles-jupyter-graphs",
            "_view_module_version": "^1.8.1",
            "_view_name": "GraphView",
            "layout": "IPY_MODEL_59776f0eca9d41e19b7c4bcfd4458786",
            "tabbable": null,
            "tooltip": null
          }
        },
        "59776f0eca9d41e19b7c4bcfd4458786": {
          "model_module": "@jupyter-widgets/base",
          "model_name": "LayoutModel",
          "model_module_version": "2.0.0",
          "state": {
            "_model_module": "@jupyter-widgets/base",
            "_model_module_version": "2.0.0",
            "_model_name": "LayoutModel",
            "_view_count": null,
            "_view_module": "@jupyter-widgets/base",
            "_view_module_version": "2.0.0",
            "_view_name": "LayoutView",
            "align_content": null,
            "align_items": null,
            "align_self": null,
            "border_bottom": null,
            "border_left": null,
            "border_right": null,
            "border_top": null,
            "bottom": null,
            "display": null,
            "flex": null,
            "flex_flow": null,
            "grid_area": null,
            "grid_auto_columns": null,
            "grid_auto_flow": null,
            "grid_auto_rows": null,
            "grid_column": null,
            "grid_gap": null,
            "grid_row": null,
            "grid_template_areas": null,
            "grid_template_columns": null,
            "grid_template_rows": null,
            "height": "500px",
            "justify_content": null,
            "justify_items": null,
            "left": null,
            "margin": null,
            "max_height": null,
            "max_width": null,
            "min_height": null,
            "min_width": null,
            "object_fit": null,
            "object_position": null,
            "order": null,
            "overflow": null,
            "padding": null,
            "right": null,
            "top": null,
            "visibility": null,
            "width": "100%"
          }
        },
        "state": {}
      }
    }
  },
  "nbformat": 4,
  "nbformat_minor": 5
}