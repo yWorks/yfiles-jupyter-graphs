{
  "cells": [
    {
      "cell_type": "markdown",
      "id": "4fb4fa1c-eaeb-454b-9de2-de9d94582fa2",
      "metadata": {},
      "source": [
        "# Visualizing Graph-Tool graphs in yFiles Graphs for Jupyter <a target=\"_blank\" href=\"https://colab.research.google.com/github/yWorks/yfiles-jupyter-graphs/blob/main/examples/18_graph-tool_import.ipynb\"><img src=\"https://colab.research.google.com/assets/colab-badge.svg\" alt=\"Open In Colab\"/></a>"
      ]
    },
    {
      "cell_type": "markdown",
      "id": "bc84de9b-0638-4e8f-a4f8-b0e35ec6bf25",
      "metadata": {},
      "source": [
        "Before using the graph widget, install all necessary packages."
      ]
    },
    {
      "cell_type": "code",
      "execution_count": null,
      "id": "1558da21-3d99-4e17-8122-f5e064f10fcd",
      "metadata": {},
      "outputs": [],
      "source": [
        "%pip install yfiles_jupyter_graphs --quiet\n",
        "from graph_tool import Graph\n",
        "from yfiles_jupyter_graphs import GraphWidget\n",
        "from numpy.random import seed, randint\n",
        "seed(0)"
      ]
    },
    {
      "cell_type": "markdown",
      "id": "dd7c91da-0d2d-4783-8acd-88bbbf669a01",
      "metadata": {},
      "source": [
        "You can also open this notebook in Google Colab when Google Colab's custom widget manager is enabled:"
      ]
    },
    {
      "cell_type": "code",
      "execution_count": null,
      "id": "7f9b6096-f02f-4dbe-bc4a-bc9a9719a157",
      "metadata": {},
      "outputs": [],
      "source": [
        "try:\n",
        "  import google.colab\n",
        "  from google.colab import output\n",
        "  output.enable_custom_widget_manager()\n",
        "except:\n",
        "  pass"
      ]
    },
    {
      "cell_type": "markdown",
      "id": "af961759-6977-4166-a91d-1aa9ea7f9414",
      "metadata": {},
      "source": [
        "<a target=\"_blank\" href=\"https://colab.research.google.com/github/yWorks/yfiles-jupyter-graphs/blob/main/examples/18_graph-tool_import.ipynb\"><img src=\"https://colab.research.google.com/assets/colab-badge.svg\" alt=\"Open In Colab\"/></a>"
      ]
    },
    {
      "cell_type": "markdown",
      "id": "d311a2d8-7de6-4c8c-93af-17346e0d203c",
      "metadata": {},
      "source": [
        "## How to import a graph\n",
        "- either import the graph directly when initilizing: ```GraphWidget(graph=your_graph)```\n",
        "- or use the ```w.import_graph(your_graph)``` function, if you already initilized a Widget called ```w```\n",
        "\n",
        "## Notes about graph tool importer\n",
        "- Graph properties are ignored.\n",
        "-  Nodes and edges are identified by index.-   Node and edge properties are extracted from corresponding property maps-    Default values for unset properties are used, due to the way graph tool properties work.\n",
        "\n",
        "## Import from quickstart\n",
        "https://graph-tool.skewed.de/static/doc/quickstart.html#an-example-building-a-price-network\n",
        "\n",
        "Let's construct a Price network (the one that existed before Barabasi). It is \\\n",
        "a directed network, with preferential attachment. The algorithm below is \\\n",
        "very naive, and a bit slow, but quite simple."
      ]
    },
    {
      "cell_type": "code",
      "execution_count": null,
      "id": "0d42b5d6-be83-4ffa-bb4a-8b7c547da7e0",
      "metadata": {},
      "outputs": [],
      "source": [
        "# We start with an empty, directed graph\n",
        "g = Graph()\n",
        "\n",
        "# We want also to keep the age information for each vertex and edge. For that\n",
        "# let's create some property maps\n",
        "v_age = g.new_vertex_property(\"int\")\n",
        "e_age = g.new_edge_property(\"int\")\n",
        "\n",
        "# The final size of the network\n",
        "N = 10\n",
        "\n",
        "# We have to start with one vertex\n",
        "v = g.add_vertex()\n",
        "v_age[v] = 0\n",
        "\n",
        "# we will keep a list of the vertices. The number of times a vertex is in this\n",
        "# list will give the probability of it being selected.\n",
        "vlist = [v]\n",
        "\n",
        "# let's now add the new edges and vertices\n",
        "for i in range(1, N):\n",
        "    # create our new vertex\n",
        "    v = g.add_vertex()\n",
        "    v_age[v] = i\n",
        "\n",
        "    # we need to sample a new vertex to be the target, based on its in-degree +\n",
        "    # 1. For that, we simply randomly sample it from vlist.\n",
        "    i = randint(0, len(vlist))\n",
        "    target = vlist[i]\n",
        "\n",
        "    # add edge\n",
        "    e = g.add_edge(v, target)\n",
        "    e_age[e] = i\n",
        "\n",
        "    # put v and target in the list\n",
        "    vlist.append(target)\n",
        "    vlist.append(v)\n",
        "\n",
        "w = GraphWidget(graph = g)\n",
        "display(w)"
      ]
    }
  ],
  "metadata": {
    "kernelspec": {
      "display_name": "Python 3 (ipykernel)",
      "language": "python",
      "name": "python3"
    },
    "language_info": {
      "codemirror_mode": {
        "name": "ipython",
        "version": 3
      },
      "file_extension": ".py",
      "mimetype": "text/x-python",
      "name": "python",
      "nbconvert_exporter": "python",
      "pygments_lexer": "ipython3",
      "version": "3.11.3"
    }
  },
  "nbformat": 4,
  "nbformat_minor": 5
}