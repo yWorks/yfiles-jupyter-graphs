{
  "cells": [
    {
      "cell_type": "markdown",
      "id": "473ff031-02a0-4081-86cc-6317944d79e8",
      "metadata": {
        "id": "473ff031-02a0-4081-86cc-6317944d79e8"
      },
      "source": [
        "# Example using Little Alchemy 2 <a target=\"_blank\" href=\"https://colab.research.google.com/github/yWorks/yfiles-jupyter-graphs/blob/main/examples/28_little-alchemy_example.ipynb\"><img src=\"https://colab.research.google.com/assets/colab-badge.svg\" alt=\"Open In Colab\"/></a>"
      ]
    },
    {
      "cell_type": "markdown",
      "id": "f144d219-1189-402e-a067-cd643832d7fb",
      "metadata": {
        "id": "f144d219-1189-402e-a067-cd643832d7fb"
      },
      "source": [
        "Little Alchemy 2 is a game, where the goal is to guess recipes to create over 600 elements just using the 4 prime elements air, earth, fire and water.\n",
        "\n",
        "\n",
        "In this example, we create a small bill of material (BoM) graph using these recipes\n",
        "\n",
        "Before using the graph widget, install all necessary packages."
      ]
    },
    {
      "cell_type": "code",
      "execution_count": 1,
      "id": "0f48d90d-4800-4776-9909-2b346846f24f",
      "metadata": {
        "colab": {
          "base_uri": "https://localhost:8080/"
        },
        "id": "0f48d90d-4800-4776-9909-2b346846f24f",
        "outputId": "dbc175b7-ef5c-4103-84ea-472b154e0048"
      },
      "outputs": [
        {
          "name": "stdout",
          "output_type": "stream",
          "text": [
            "Note: you may need to restart the kernel to use updated packages.\n"
          ]
        }
      ],
      "source": [
        "%pip install yfiles_jupyter_graphs --quiet\n",
        "from yfiles_jupyter_graphs import GraphWidget"
      ]
    },
    {
      "cell_type": "markdown",
      "id": "122b620f-f292-4131-8a03-4667b5ccfe97",
      "metadata": {
        "id": "122b620f-f292-4131-8a03-4667b5ccfe97"
      },
      "source": [
        "You can also open this notebook in Google Colab when Google Colab's custom widget manager is enabled:"
      ]
    },
    {
      "cell_type": "code",
      "execution_count": 2,
      "id": "342cc1c8-6bd3-4d27-ba34-7c1a264209b6",
      "metadata": {
        "id": "342cc1c8-6bd3-4d27-ba34-7c1a264209b6",
        "tags": []
      },
      "outputs": [],
      "source": [
        "try:\n",
        "  import google.colab\n",
        "  from google.colab import output\n",
        "  output.enable_custom_widget_manager()\n",
        "except:\n",
        "  pass"
      ]
    },
    {
      "cell_type": "markdown",
      "id": "5c84fd6f-46df-45c4-8a97-95a4f8f6eea0",
      "metadata": {
        "id": "5c84fd6f-46df-45c4-8a97-95a4f8f6eea0",
        "tags": []
      },
      "source": [
        "<a target=\"_blank\" href=\"https://colab.research.google.com/github/yWorks/yfiles-jupyter-graphs/blob/main/examples/28_little-alchemy_example.ipynb\"><img src=\"https://colab.research.google.com/assets/colab-badge.svg\" alt=\"Open In Colab\"/></a>"
      ]
    },
    {
      "cell_type": "markdown",
      "id": "98a951aa-1f51-4d00-9151-01cec6f9b6bf",
      "metadata": {
        "id": "98a951aa-1f51-4d00-9151-01cec6f9b6bf"
      },
      "source": [
        "This is the library containing all recipe information:"
      ]
    },
    {
      "cell_type": "code",
      "execution_count": 3,
      "id": "6d27665f-9313-42bf-b1f3-941158830b2e",
      "metadata": {
        "id": "6d27665f-9313-42bf-b1f3-941158830b2e"
      },
      "outputs": [],
      "source": [
        "import urllib.request, json\n",
        "with urllib.request.urlopen(\"https://unpkg.com/little-alchemy-2@0.0.1/dist/alchemy.json\") as url:\n",
        "    data = json.load(url)"
      ]
    },
    {
      "cell_type": "markdown",
      "id": "5d73654c-2b9c-4885-af26-36b805e84176",
      "metadata": {
        "id": "5d73654c-2b9c-4885-af26-36b805e84176"
      },
      "source": [
        "We parse the resulting data to create our nodes and edges.\n",
        "In the given data, each element has a name and parent information.\n",
        "\n",
        "We only use a small sample of elements, but you can adjust the constant ```num_elements``` to see more recipes."
      ]
    },
    {
      "cell_type": "code",
      "execution_count": 4,
      "id": "bac9a02a-5386-4dd2-8322-9afb931f56ef",
      "metadata": {
        "id": "bac9a02a-5386-4dd2-8322-9afb931f56ef"
      },
      "outputs": [],
      "source": [
        "import itertools\n",
        "\n",
        "# we'll use a subset of the graph here\n",
        "num_elements = 50\n",
        "dataset = dict(itertools.islice(data.items(), num_elements))\n",
        "\n",
        "nodes = []\n",
        "edges = []\n",
        "\n",
        "for key, item in dataset.items():\n",
        "    nodes.append({\"id\": key, 'properties': {'label': item['n']}})\n",
        "    # for simplicity, we just examine the parents of the items\n",
        "    if 'p' in item:\n",
        "        # each element has exactly two (or none) source elements in Little Alchemy 2\n",
        "        for source1, source2 in item['p']:\n",
        "            if source1 in dataset and source2 in dataset:\n",
        "                if not source1 == source2:\n",
        "                    edges.append({\"start\": source1, \"end\": key, \"properties\": {'label': ('+ ' + data[source2]['n'])}})\n",
        "                    edges.append({\"start\": source2, \"end\": key, \"properties\": {'label': ('+ ' + data[source1]['n'])}})\n",
        "                else:\n",
        "                    edges.append({\"start\": source1, \"end\": key, \"properties\": {'label': ('+ ' + data[source2]['n'])}})"
      ]
    },
    {
      "cell_type": "code",
      "execution_count": 5,
      "id": "fbfd87ea-7e6d-4263-8e4a-7db33b254dd5",
      "metadata": {
        "colab": {
          "base_uri": "https://localhost:8080/",
          "height": 817,
          "referenced_widgets": [
            "4c3581a96a73445a8c82bcaa5109bd0b",
            "4cf51a0aed384a45a6912f9ef5b132dd"
          ]
        },
        "id": "fbfd87ea-7e6d-4263-8e4a-7db33b254dd5",
        "outputId": "a08e58ae-a1a6-4f27-d9b6-998a14fce632"
      },
      "outputs": [
        {
          "data": {
            "application/vnd.jupyter.widget-view+json": {
              "model_id": "def32ce054ce4dd0996ff1dbdbb1078d",
              "version_major": 2,
              "version_minor": 0
            },
            "text/plain": [
              "GraphWidget(layout=Layout(height='800px', width='100%'))"
            ]
          },
          "metadata": {},
          "output_type": "display_data"
        }
      ],
      "source": [
        "w = GraphWidget()\n",
        "w.nodes = nodes\n",
        "w.edges = edges\n",
        "w.directed = True\n",
        "display(w)"
      ]
    },
    {
      "cell_type": "markdown",
      "id": "e8fadf33-ffa4-42a8-b21c-3a92bf29cce0",
      "metadata": {
        "id": "e8fadf33-ffa4-42a8-b21c-3a92bf29cce0"
      },
      "source": [
        "To make the graph easier to read, we add the game images and make the prime elements bigger as well as use the hierarchic layout.\n",
        "\n",
        "You can check out the other examples like [size mappings](./05_size_mapping.ipynb) and [styles mappings](./08_styles_mapping.ipynb) to learn more about graph customization."
      ]
    },
    {
      "cell_type": "code",
      "execution_count": 6,
      "id": "63c59e05-3bda-43de-8b3d-a6c576f0685b",
      "metadata": {
        "colab": {
          "base_uri": "https://localhost:8080/",
          "height": 817,
          "referenced_widgets": [
            "fb360f3ed7b6416bad8fbdf69eb0fbe1",
            "2519a5ce09d44ca5a0536a6f196888f4"
          ]
        },
        "id": "63c59e05-3bda-43de-8b3d-a6c576f0685b",
        "outputId": "f9a75f3b-359f-46ac-dca1-9b7c87f5f4db"
      },
      "outputs": [
        {
          "data": {
            "application/vnd.jupyter.widget-view+json": {
              "model_id": "f66cdaaf353e47f0a6f69de3986d33ba",
              "version_major": 2,
              "version_minor": 0
            },
            "text/plain": [
              "GraphWidget(layout=Layout(height='800px', width='100%'))"
            ]
          },
          "metadata": {},
          "output_type": "display_data"
        }
      ],
      "source": [
        "w3 = GraphWidget()\n",
        "w3.nodes = nodes\n",
        "w3.edges = edges\n",
        "w3.directed = True\n",
        "\n",
        "def custom_images(index, node):\n",
        "    return {'image': \"https://littlealchemy2.com/static/icons/\" + node['id'] + \".svg\"}\n",
        "\n",
        "w3.set_node_styles_mapping(custom_images)\n",
        "\n",
        "def custom_size(index, node):\n",
        "    if 'prime' in data[str(index+1)]:\n",
        "        return 80,80\n",
        "    return 55,55\n",
        "\n",
        "w3.set_node_size_mapping(custom_size)\n",
        "w3.hierarchic_layout()\n",
        "w3.edge_color_mapping = lambda : 'grey'\n",
        "w3.set_overview(enabled=False)\n",
        "w3.set_sidebar(enabled=False)\n",
        "display(w3)"
      ]
    },
    {
      "cell_type": "markdown",
      "id": "fdfd148b-9ab1-4ac8-96d6-24f9dbd00ceb",
      "metadata": {
        "id": "fdfd148b-9ab1-4ac8-96d6-24f9dbd00ceb"
      },
      "source": [
        "You can use the Neighborhood Tab in the sidebar to explore single elements.\n",
        "\n",
        "However to focus on just one element you're interested in, you can use the following code.\n",
        "\n",
        "Change the constant ```element_name``` to only see the defined element with its children and parent nodes"
      ]
    },
    {
      "cell_type": "code",
      "execution_count": 7,
      "id": "d6606494-1829-4177-b19b-a03246974033",
      "metadata": {
        "id": "d6606494-1829-4177-b19b-a03246974033"
      },
      "outputs": [],
      "source": [
        "# change this to focus on a different element\n",
        "element_name = 'cat'\n",
        "\n",
        "nodes2 = []\n",
        "edges2 = []\n",
        "parentSet = set()\n",
        "element_id = None\n",
        "\n",
        "\n",
        "#This function generates edge labels\n",
        "def getCombinations(id, target_id):\n",
        "    result = []\n",
        "    item = data[target_id]\n",
        "    for source1, source2 in item['p']:\n",
        "        if source1 == id:\n",
        "            result.append(data[source2]['n'])\n",
        "        if source2 == id:\n",
        "            result.append(data[source1]['n'])\n",
        "    return result\n",
        "\n",
        "for key, item in data.items():\n",
        "    if item['n'] == element_name:\n",
        "        nodes2.append({\"id\": key, 'properties': {'label': item['n']}})\n",
        "        element_id = key\n",
        "        if 'p' in item:\n",
        "            for source1, source2 in item['p']:\n",
        "                parentSet.add(source1)\n",
        "                parentSet.add(source2)\n",
        "        if 'c' in item:\n",
        "            for child in item['c']:\n",
        "                if child not in parentSet:\n",
        "                    nodes2.append({\"id\":child, 'properties': {'label': data[child]['n']}})\n",
        "                    edges2.append({\"start\": key, \"end\": child, \"properties\": {'label': '+ ' + str(getCombinations(element_id, child))[1:-1].replace(\"\\'\", \"\")}})\n",
        "                else:\n",
        "                    edges2.append({\"start\": key, \"end\": child, \"properties\": {'label': '+ ' + str(getCombinations(element_id, child))[1:-1].replace(\"\\'\", \"\")}})\n",
        "\n",
        "\n",
        "for source in parentSet:\n",
        "    if not source == element_id:\n",
        "        nodes2.append({\"id\": source, 'properties': {'label': data[source]['n']}})\n",
        "    edges2.append({\"start\": source, \"end\": element_id, \"properties\": {'label': '+ ' + str(getCombinations(source, element_id))[1:-1].replace(\"\\'\", \"\")}})\n"
      ]
    },
    {
      "cell_type": "markdown",
      "id": "0f3affbf-745b-490e-832e-67245d8a43ba",
      "metadata": {
        "id": "0f3affbf-745b-490e-832e-67245d8a43ba"
      },
      "source": [
        "We use some of the mappings above:\n",
        "\n",
        "- Game image node styling\n",
        "- directed, grey edges\n",
        "- hierarchic layout\n"
      ]
    },
    {
      "cell_type": "code",
      "execution_count": 8,
      "id": "c02fb72d-a09e-449e-9325-63b8b3302db8",
      "metadata": {
        "colab": {
          "base_uri": "https://localhost:8080/",
          "height": 517,
          "referenced_widgets": [
            "1ac612c14dbd49c7b487caeaf192c63a",
            "007c47d5a7bd40759b94ead98defc2fe"
          ]
        },
        "id": "c02fb72d-a09e-449e-9325-63b8b3302db8",
        "outputId": "360d2d8b-c1b0-464c-ad8e-a2bf87e9d29a"
      },
      "outputs": [
        {
          "data": {
            "application/vnd.jupyter.widget-view+json": {
              "model_id": "c56d0e0689bb4e97946367880758975f",
              "version_major": 2,
              "version_minor": 0
            },
            "text/plain": [
              "GraphWidget(layout=Layout(height='500px', width='100%'))"
            ]
          },
          "metadata": {},
          "output_type": "display_data"
        }
      ],
      "source": [
        "w2 = GraphWidget()\n",
        "w2.nodes = nodes2\n",
        "w2.edges = edges2\n",
        "w2.set_node_styles_mapping(custom_images)\n",
        "w2.directed = True\n",
        "w2.hierarchic_layout()\n",
        "w2.edge_color_mapping = lambda : 'grey'\n",
        "display(w2)"
      ]
    }
  ],
  "metadata": {
    "colab": {
      "provenance": []
    },
    "kernelspec": {
      "display_name": "Python 3 (ipykernel)",
      "language": "python",
      "name": "python3"
    },
    "language_info": {
      "codemirror_mode": {
        "name": "ipython",
        "version": 3
      },
      "file_extension": ".py",
      "mimetype": "text/x-python",
      "name": "python",
      "nbconvert_exporter": "python",
      "pygments_lexer": "ipython3",
      "version": "3.12.3"
    },
    "widgets": {
      "application/vnd.jupyter.widget-state+json": {
        "007c47d5a7bd40759b94ead98defc2fe": {
          "model_module": "@jupyter-widgets/base",
          "model_module_version": "2.0.0",
          "model_name": "LayoutModel",
          "state": {
            "_model_module": "@jupyter-widgets/base",
            "_model_module_version": "2.0.0",
            "_model_name": "LayoutModel",
            "_view_count": null,
            "_view_module": "@jupyter-widgets/base",
            "_view_module_version": "2.0.0",
            "_view_name": "LayoutView",
            "align_content": null,
            "align_items": null,
            "align_self": null,
            "border_bottom": null,
            "border_left": null,
            "border_right": null,
            "border_top": null,
            "bottom": null,
            "display": null,
            "flex": null,
            "flex_flow": null,
            "grid_area": null,
            "grid_auto_columns": null,
            "grid_auto_flow": null,
            "grid_auto_rows": null,
            "grid_column": null,
            "grid_gap": null,
            "grid_row": null,
            "grid_template_areas": null,
            "grid_template_columns": null,
            "grid_template_rows": null,
            "height": "500px",
            "justify_content": null,
            "justify_items": null,
            "left": null,
            "margin": null,
            "max_height": null,
            "max_width": null,
            "min_height": null,
            "min_width": null,
            "object_fit": null,
            "object_position": null,
            "order": null,
            "overflow": null,
            "padding": null,
            "right": null,
            "top": null,
            "visibility": null,
            "width": "100%"
          }
        },
        "1ac612c14dbd49c7b487caeaf192c63a": {
          "model_module": "yfiles-jupyter-graphs",
          "model_module_version": "^1.8.1",
          "model_name": "GraphModel",
          "state": {
            "_context_pane_mapping": [
              {
                "id": "Neighborhood",
                "title": "Neighborhood"
              },
              {
                "id": "Data",
                "title": "Data"
              },
              {
                "id": "Search",
                "title": "Search"
              },
              {
                "id": "About",
                "title": "About"
              }
            ],
            "_data_importer": "unknown",
            "_directed": true,
            "_dom_classes": [],
            "_edges": [
              {
                "color": "grey",
                "directed": true,
                "end": "285",
                "label": "+ animal, blood, big, monarch",
                "properties": {
                  "label": "+ animal, blood, big, monarch"
                },
                "start": "238",
                "thickness_factor": 1
              },
              {
                "color": "grey",
                "directed": true,
                "end": "318",
                "label": "+ paper",
                "properties": {
                  "label": "+ paper"
                },
                "start": "238",
                "thickness_factor": 1
              },
              {
                "color": "grey",
                "directed": true,
                "end": "381",
                "label": "+ armor",
                "properties": {
                  "label": "+ armor"
                },
                "start": "238",
                "thickness_factor": 1
              },
              {
                "color": "grey",
                "directed": true,
                "end": "401",
                "label": "+ plant, grass, flower",
                "properties": {
                  "label": "+ plant, grass, flower"
                },
                "start": "238",
                "thickness_factor": 1
              },
              {
                "color": "grey",
                "directed": true,
                "end": "238",
                "label": "+ animal",
                "properties": {
                  "label": "+ animal"
                },
                "start": "127",
                "thickness_factor": 1
              },
              {
                "color": "grey",
                "directed": true,
                "end": "238",
                "label": "+ animal",
                "properties": {
                  "label": "+ animal"
                },
                "start": "77",
                "thickness_factor": 1
              },
              {
                "color": "grey",
                "directed": true,
                "end": "238",
                "label": "+ milk, coconut milk, night",
                "properties": {
                  "label": "+ milk, coconut milk, night"
                },
                "start": "140",
                "thickness_factor": 1
              },
              {
                "color": "grey",
                "directed": true,
                "end": "238",
                "label": "+ animal",
                "properties": {
                  "label": "+ animal"
                },
                "start": "262",
                "thickness_factor": 1
              }
            ],
            "_graph_layout": {
              "algorithm": "hierarchic",
              "options": {}
            },
            "_highlight": [],
            "_license": {},
            "_model_module": "yfiles-jupyter-graphs",
            "_model_module_version": "^1.8.1",
            "_model_name": "GraphModel",
            "_neighborhood": {},
            "_nodes": [
              {
                "color": "#15AFAC",
                "id": "238",
                "label": "cat",
                "position": [
                  0,
                  0
                ],
                "properties": {
                  "label": "cat"
                },
                "scale_factor": 1,
                "size": [
                  55,
                  55
                ],
                "styles": {
                  "image": "https://littlealchemy2.com/static/icons/238.svg"
                },
                "type": "#15AFAC"
              },
              {
                "color": "#15AFAC",
                "id": "285",
                "label": "lion",
                "position": [
                  0,
                  0
                ],
                "properties": {
                  "label": "lion"
                },
                "scale_factor": 1,
                "size": [
                  55,
                  55
                ],
                "styles": {
                  "image": "https://littlealchemy2.com/static/icons/285.svg"
                },
                "type": "#15AFAC"
              },
              {
                "color": "#15AFAC",
                "id": "318",
                "label": "origami",
                "position": [
                  0,
                  0
                ],
                "properties": {
                  "label": "origami"
                },
                "scale_factor": 1,
                "size": [
                  55,
                  55
                ],
                "styles": {
                  "image": "https://littlealchemy2.com/static/icons/318.svg"
                },
                "type": "#15AFAC"
              },
              {
                "color": "#15AFAC",
                "id": "381",
                "label": "armadillo",
                "position": [
                  0,
                  0
                ],
                "properties": {
                  "label": "armadillo"
                },
                "scale_factor": 1,
                "size": [
                  55,
                  55
                ],
                "styles": {
                  "image": "https://littlealchemy2.com/static/icons/381.svg"
                },
                "type": "#15AFAC"
              },
              {
                "color": "#15AFAC",
                "id": "401",
                "label": "catnip",
                "position": [
                  0,
                  0
                ],
                "properties": {
                  "label": "catnip"
                },
                "scale_factor": 1,
                "size": [
                  55,
                  55
                ],
                "styles": {
                  "image": "https://littlealchemy2.com/static/icons/401.svg"
                },
                "type": "#15AFAC"
              },
              {
                "color": "#15AFAC",
                "id": "127",
                "label": "night",
                "position": [
                  0,
                  0
                ],
                "properties": {
                  "label": "night"
                },
                "scale_factor": 1,
                "size": [
                  55,
                  55
                ],
                "styles": {
                  "image": "https://littlealchemy2.com/static/icons/127.svg"
                },
                "type": "#15AFAC"
              },
              {
                "color": "#15AFAC",
                "id": "77",
                "label": "milk",
                "position": [
                  0,
                  0
                ],
                "properties": {
                  "label": "milk"
                },
                "scale_factor": 1,
                "size": [
                  55,
                  55
                ],
                "styles": {
                  "image": "https://littlealchemy2.com/static/icons/77.svg"
                },
                "type": "#15AFAC"
              },
              {
                "color": "#15AFAC",
                "id": "140",
                "label": "animal",
                "position": [
                  0,
                  0
                ],
                "properties": {
                  "label": "animal"
                },
                "scale_factor": 1,
                "size": [
                  55,
                  55
                ],
                "styles": {
                  "image": "https://littlealchemy2.com/static/icons/140.svg"
                },
                "type": "#15AFAC"
              },
              {
                "color": "#15AFAC",
                "id": "262",
                "label": "coconut milk",
                "position": [
                  0,
                  0
                ],
                "properties": {
                  "label": "coconut milk"
                },
                "scale_factor": 1,
                "size": [
                  55,
                  55
                ],
                "styles": {
                  "image": "https://littlealchemy2.com/static/icons/262.svg"
                },
                "type": "#15AFAC"
              }
            ],
            "_overview": {
              "enabled": null,
              "overview_set": false
            },
            "_selected_graph": [
              [],
              []
            ],
            "_sidebar": {
              "enabled": false,
              "start_with": null
            },
            "_view_count": null,
            "_view_module": "yfiles-jupyter-graphs",
            "_view_module_version": "^1.8.1",
            "_view_name": "GraphView",
            "layout": "IPY_MODEL_007c47d5a7bd40759b94ead98defc2fe",
            "tabbable": null,
            "tooltip": null
          }
        },
        "2519a5ce09d44ca5a0536a6f196888f4": {
          "model_module": "@jupyter-widgets/base",
          "model_module_version": "2.0.0",
          "model_name": "LayoutModel",
          "state": {
            "_model_module": "@jupyter-widgets/base",
            "_model_module_version": "2.0.0",
            "_model_name": "LayoutModel",
            "_view_count": null,
            "_view_module": "@jupyter-widgets/base",
            "_view_module_version": "2.0.0",
            "_view_name": "LayoutView",
            "align_content": null,
            "align_items": null,
            "align_self": null,
            "border_bottom": null,
            "border_left": null,
            "border_right": null,
            "border_top": null,
            "bottom": null,
            "display": null,
            "flex": null,
            "flex_flow": null,
            "grid_area": null,
            "grid_auto_columns": null,
            "grid_auto_flow": null,
            "grid_auto_rows": null,
            "grid_column": null,
            "grid_gap": null,
            "grid_row": null,
            "grid_template_areas": null,
            "grid_template_columns": null,
            "grid_template_rows": null,
            "height": "800px",
            "justify_content": null,
            "justify_items": null,
            "left": null,
            "margin": null,
            "max_height": null,
            "max_width": null,
            "min_height": null,
            "min_width": null,
            "object_fit": null,
            "object_position": null,
            "order": null,
            "overflow": null,
            "padding": null,
            "right": null,
            "top": null,
            "visibility": null,
            "width": "100%"
          }
        },
        "4c3581a96a73445a8c82bcaa5109bd0b": {
          "model_module": "yfiles-jupyter-graphs",
          "model_module_version": "^1.8.1",
          "model_name": "GraphModel",
          "state": {
            "_context_pane_mapping": [
              {
                "id": "Neighborhood",
                "title": "Neighborhood"
              },
              {
                "id": "Data",
                "title": "Data"
              },
              {
                "id": "Search",
                "title": "Search"
              },
              {
                "id": "About",
                "title": "About"
              }
            ],
            "_data_importer": "unknown",
            "_directed": true,
            "_dom_classes": [],
            "_edges": [
              {
                "color": "#15AFAC",
                "directed": true,
                "end": "2",
                "label": "+ coal",
                "properties": {
                  "label": "+ coal"
                },
                "start": "2",
                "thickness_factor": 1
              },
              {
                "color": "#15AFAC",
                "directed": true,
                "end": "2",
                "label": "+ fire",
                "properties": {
                  "label": "+ fire"
                },
                "start": "30",
                "thickness_factor": 1
              },
              {
                "color": "#15AFAC",
                "directed": true,
                "end": "5",
                "label": "+ fire",
                "properties": {
                  "label": "+ fire"
                },
                "start": "1",
                "thickness_factor": 1
              },
              {
                "color": "#15AFAC",
                "directed": true,
                "end": "5",
                "label": "+ water",
                "properties": {
                  "label": "+ water"
                },
                "start": "2",
                "thickness_factor": 1
              },
              {
                "color": "#15AFAC",
                "directed": true,
                "end": "5",
                "label": "+ lava",
                "properties": {
                  "label": "+ lava"
                },
                "start": "1",
                "thickness_factor": 1
              },
              {
                "color": "#15AFAC",
                "directed": true,
                "end": "5",
                "label": "+ water",
                "properties": {
                  "label": "+ water"
                },
                "start": "6",
                "thickness_factor": 1
              },
              {
                "color": "#15AFAC",
                "directed": true,
                "end": "6",
                "label": "+ earth",
                "properties": {
                  "label": "+ earth"
                },
                "start": "2",
                "thickness_factor": 1
              },
              {
                "color": "#15AFAC",
                "directed": true,
                "end": "6",
                "label": "+ fire",
                "properties": {
                  "label": "+ fire"
                },
                "start": "3",
                "thickness_factor": 1
              },
              {
                "color": "#15AFAC",
                "directed": true,
                "end": "7",
                "label": "+ air",
                "properties": {
                  "label": "+ air"
                },
                "start": "4",
                "thickness_factor": 1
              },
              {
                "color": "#15AFAC",
                "directed": true,
                "end": "7",
                "label": "+ ocean",
                "properties": {
                  "label": "+ ocean"
                },
                "start": "10",
                "thickness_factor": 1
              },
              {
                "color": "#15AFAC",
                "directed": true,
                "end": "8",
                "label": "+ lava",
                "properties": {
                  "label": "+ lava"
                },
                "start": "3",
                "thickness_factor": 1
              },
              {
                "color": "#15AFAC",
                "directed": true,
                "end": "8",
                "label": "+ earth",
                "properties": {
                  "label": "+ earth"
                },
                "start": "6",
                "thickness_factor": 1
              },
              {
                "color": "#15AFAC",
                "directed": true,
                "end": "10",
                "label": "+ sea",
                "properties": {
                  "label": "+ sea"
                },
                "start": "1",
                "thickness_factor": 1
              },
              {
                "color": "#15AFAC",
                "directed": true,
                "end": "10",
                "label": "+ water",
                "properties": {
                  "label": "+ water"
                },
                "start": "9",
                "thickness_factor": 1
              },
              {
                "color": "#15AFAC",
                "directed": true,
                "end": "10",
                "label": "+ sea",
                "properties": {
                  "label": "+ sea"
                },
                "start": "9",
                "thickness_factor": 1
              },
              {
                "color": "#15AFAC",
                "directed": true,
                "end": "11",
                "label": "+ fire",
                "properties": {
                  "label": "+ fire"
                },
                "start": "2",
                "thickness_factor": 1
              },
              {
                "color": "#15AFAC",
                "directed": true,
                "end": "12",
                "label": "+ earth",
                "properties": {
                  "label": "+ earth"
                },
                "start": "1",
                "thickness_factor": 1
              },
              {
                "color": "#15AFAC",
                "directed": true,
                "end": "12",
                "label": "+ water",
                "properties": {
                  "label": "+ water"
                },
                "start": "3",
                "thickness_factor": 1
              },
              {
                "color": "#15AFAC",
                "directed": true,
                "end": "13",
                "label": "+ cloud",
                "properties": {
                  "label": "+ cloud"
                },
                "start": "7",
                "thickness_factor": 1
              },
              {
                "color": "#15AFAC",
                "directed": true,
                "end": "13",
                "label": "+ pressure",
                "properties": {
                  "label": "+ pressure"
                },
                "start": "15",
                "thickness_factor": 1
              },
              {
                "color": "#15AFAC",
                "directed": true,
                "end": "13",
                "label": "+ cloud",
                "properties": {
                  "label": "+ cloud"
                },
                "start": "1",
                "thickness_factor": 1
              },
              {
                "color": "#15AFAC",
                "directed": true,
                "end": "13",
                "label": "+ water",
                "properties": {
                  "label": "+ water"
                },
                "start": "15",
                "thickness_factor": 1
              },
              {
                "color": "#15AFAC",
                "directed": true,
                "end": "14",
                "label": "+ air",
                "properties": {
                  "label": "+ air"
                },
                "start": "3",
                "thickness_factor": 1
              },
              {
                "color": "#15AFAC",
                "directed": true,
                "end": "14",
                "label": "+ earth",
                "properties": {
                  "label": "+ earth"
                },
                "start": "4",
                "thickness_factor": 1
              },
              {
                "color": "#15AFAC",
                "directed": true,
                "end": "15",
                "label": "+ sky",
                "properties": {
                  "label": "+ sky"
                },
                "start": "1",
                "thickness_factor": 1
              },
              {
                "color": "#15AFAC",
                "directed": true,
                "end": "15",
                "label": "+ water",
                "properties": {
                  "label": "+ water"
                },
                "start": "22",
                "thickness_factor": 1
              },
              {
                "color": "#15AFAC",
                "directed": true,
                "end": "16",
                "label": "+ cloud",
                "properties": {
                  "label": "+ cloud"
                },
                "start": "15",
                "thickness_factor": 1
              },
              {
                "color": "#15AFAC",
                "directed": true,
                "end": "16",
                "label": "+ wind",
                "properties": {
                  "label": "+ wind"
                },
                "start": "13",
                "thickness_factor": 1
              },
              {
                "color": "#15AFAC",
                "directed": true,
                "end": "16",
                "label": "+ rain",
                "properties": {
                  "label": "+ rain"
                },
                "start": "20",
                "thickness_factor": 1
              },
              {
                "color": "#15AFAC",
                "directed": true,
                "end": "17",
                "label": "+ steam",
                "properties": {
                  "label": "+ steam"
                },
                "start": "3",
                "thickness_factor": 1
              },
              {
                "color": "#15AFAC",
                "directed": true,
                "end": "17",
                "label": "+ earth",
                "properties": {
                  "label": "+ earth"
                },
                "start": "5",
                "thickness_factor": 1
              },
              {
                "color": "#15AFAC",
                "directed": true,
                "end": "17",
                "label": "+ pressure",
                "properties": {
                  "label": "+ pressure"
                },
                "start": "5",
                "thickness_factor": 1
              },
              {
                "color": "#15AFAC",
                "directed": true,
                "end": "17",
                "label": "+ steam",
                "properties": {
                  "label": "+ steam"
                },
                "start": "7",
                "thickness_factor": 1
              },
              {
                "color": "#15AFAC",
                "directed": true,
                "end": "18",
                "label": "+ ocean",
                "properties": {
                  "label": "+ ocean"
                },
                "start": "8",
                "thickness_factor": 1
              },
              {
                "color": "#15AFAC",
                "directed": true,
                "end": "18",
                "label": "+ volcano",
                "properties": {
                  "label": "+ volcano"
                },
                "start": "10",
                "thickness_factor": 1
              },
              {
                "color": "#15AFAC",
                "directed": true,
                "end": "18",
                "label": "+ sea",
                "properties": {
                  "label": "+ sea"
                },
                "start": "8",
                "thickness_factor": 1
              },
              {
                "color": "#15AFAC",
                "directed": true,
                "end": "18",
                "label": "+ volcano",
                "properties": {
                  "label": "+ volcano"
                },
                "start": "9",
                "thickness_factor": 1
              },
              {
                "color": "#15AFAC",
                "directed": true,
                "end": "19",
                "label": "+ energy",
                "properties": {
                  "label": "+ energy"
                },
                "start": "3",
                "thickness_factor": 1
              },
              {
                "color": "#15AFAC",
                "directed": true,
                "end": "19",
                "label": "+ earth",
                "properties": {
                  "label": "+ earth"
                },
                "start": "11",
                "thickness_factor": 1
              },
              {
                "color": "#15AFAC",
                "directed": true,
                "end": "20",
                "label": "+ pressure",
                "properties": {
                  "label": "+ pressure"
                },
                "start": "4",
                "thickness_factor": 1
              },
              {
                "color": "#15AFAC",
                "directed": true,
                "end": "20",
                "label": "+ air",
                "properties": {
                  "label": "+ air"
                },
                "start": "7",
                "thickness_factor": 1
              },
              {
                "color": "#15AFAC",
                "directed": true,
                "end": "21",
                "label": "+ volcano",
                "properties": {
                  "label": "+ volcano"
                },
                "start": "7",
                "thickness_factor": 1
              },
              {
                "color": "#15AFAC",
                "directed": true,
                "end": "21",
                "label": "+ pressure",
                "properties": {
                  "label": "+ pressure"
                },
                "start": "8",
                "thickness_factor": 1
              },
              {
                "color": "#15AFAC",
                "directed": true,
                "end": "21",
                "label": "+ pressure",
                "properties": {
                  "label": "+ pressure"
                },
                "start": "6",
                "thickness_factor": 1
              },
              {
                "color": "#15AFAC",
                "directed": true,
                "end": "21",
                "label": "+ lava",
                "properties": {
                  "label": "+ lava"
                },
                "start": "7",
                "thickness_factor": 1
              },
              {
                "color": "#15AFAC",
                "directed": true,
                "end": "21",
                "label": "+ time",
                "properties": {
                  "label": "+ time"
                },
                "start": "8",
                "thickness_factor": 1
              },
              {
                "color": "#15AFAC",
                "directed": true,
                "end": "21",
                "label": "+ volcano",
                "properties": {
                  "label": "+ volcano"
                },
                "start": "41",
                "thickness_factor": 1
              },
              {
                "color": "#15AFAC",
                "directed": true,
                "end": "22",
                "label": "+ cloud",
                "properties": {
                  "label": "+ cloud"
                },
                "start": "4",
                "thickness_factor": 1
              },
              {
                "color": "#15AFAC",
                "directed": true,
                "end": "22",
                "label": "+ air",
                "properties": {
                  "label": "+ air"
                },
                "start": "15",
                "thickness_factor": 1
              },
              {
                "color": "#15AFAC",
                "directed": true,
                "end": "23",
                "label": "+ storm",
                "properties": {
                  "label": "+ storm"
                },
                "start": "16",
                "thickness_factor": 1
              },
              {
                "color": "#15AFAC",
                "directed": true,
                "end": "23",
                "label": "+ wind",
                "properties": {
                  "label": "+ wind"
                },
                "start": "16",
                "thickness_factor": 1
              },
              {
                "color": "#15AFAC",
                "directed": true,
                "end": "23",
                "label": "+ storm",
                "properties": {
                  "label": "+ storm"
                },
                "start": "20",
                "thickness_factor": 1
              },
              {
                "color": "#15AFAC",
                "directed": true,
                "end": "23",
                "label": "+ wind",
                "properties": {
                  "label": "+ wind"
                },
                "start": "20",
                "thickness_factor": 1
              },
              {
                "color": "#15AFAC",
                "directed": true,
                "end": "25",
                "label": "+ dust",
                "properties": {
                  "label": "+ dust"
                },
                "start": "2",
                "thickness_factor": 1
              },
              {
                "color": "#15AFAC",
                "directed": true,
                "end": "25",
                "label": "+ fire",
                "properties": {
                  "label": "+ fire"
                },
                "start": "14",
                "thickness_factor": 1
              },
              {
                "color": "#15AFAC",
                "directed": true,
                "end": "25",
                "label": "+ dust",
                "properties": {
                  "label": "+ dust"
                },
                "start": "11",
                "thickness_factor": 1
              },
              {
                "color": "#15AFAC",
                "directed": true,
                "end": "25",
                "label": "+ energy",
                "properties": {
                  "label": "+ energy"
                },
                "start": "14",
                "thickness_factor": 1
              },
              {
                "color": "#15AFAC",
                "directed": true,
                "end": "26",
                "label": "+ gunpowder",
                "properties": {
                  "label": "+ gunpowder"
                },
                "start": "2",
                "thickness_factor": 1
              },
              {
                "color": "#15AFAC",
                "directed": true,
                "end": "26",
                "label": "+ fire",
                "properties": {
                  "label": "+ fire"
                },
                "start": "25",
                "thickness_factor": 1
              },
              {
                "color": "#15AFAC",
                "directed": true,
                "end": "26",
                "label": "+ volcano",
                "properties": {
                  "label": "+ volcano"
                },
                "start": "7",
                "thickness_factor": 1
              },
              {
                "color": "#15AFAC",
                "directed": true,
                "end": "26",
                "label": "+ pressure",
                "properties": {
                  "label": "+ pressure"
                },
                "start": "8",
                "thickness_factor": 1
              },
              {
                "color": "#15AFAC",
                "directed": true,
                "end": "27",
                "label": "+ pressure",
                "properties": {
                  "label": "+ pressure"
                },
                "start": "3",
                "thickness_factor": 1
              },
              {
                "color": "#15AFAC",
                "directed": true,
                "end": "27",
                "label": "+ earth",
                "properties": {
                  "label": "+ earth"
                },
                "start": "7",
                "thickness_factor": 1
              },
              {
                "color": "#15AFAC",
                "directed": true,
                "end": "27",
                "label": "+ lava",
                "properties": {
                  "label": "+ lava"
                },
                "start": "4",
                "thickness_factor": 1
              },
              {
                "color": "#15AFAC",
                "directed": true,
                "end": "27",
                "label": "+ air",
                "properties": {
                  "label": "+ air"
                },
                "start": "6",
                "thickness_factor": 1
              },
              {
                "color": "#15AFAC",
                "directed": true,
                "end": "28",
                "label": "+ stone",
                "properties": {
                  "label": "+ stone"
                },
                "start": "4",
                "thickness_factor": 1
              },
              {
                "color": "#15AFAC",
                "directed": true,
                "end": "28",
                "label": "+ air",
                "properties": {
                  "label": "+ air"
                },
                "start": "27",
                "thickness_factor": 1
              },
              {
                "color": "#15AFAC",
                "directed": true,
                "end": "28",
                "label": "+ stone",
                "properties": {
                  "label": "+ stone"
                },
                "start": "20",
                "thickness_factor": 1
              },
              {
                "color": "#15AFAC",
                "directed": true,
                "end": "28",
                "label": "+ wind",
                "properties": {
                  "label": "+ wind"
                },
                "start": "27",
                "thickness_factor": 1
              },
              {
                "color": "#15AFAC",
                "directed": true,
                "end": "29",
                "label": "+ plant",
                "properties": {
                  "label": "+ plant"
                },
                "start": "2",
                "thickness_factor": 1
              },
              {
                "color": "#15AFAC",
                "directed": true,
                "end": "29",
                "label": "+ fire",
                "properties": {
                  "label": "+ fire"
                },
                "start": "24",
                "thickness_factor": 1
              },
              {
                "color": "#15AFAC",
                "directed": true,
                "end": "29",
                "label": "+ tree",
                "properties": {
                  "label": "+ tree"
                },
                "start": "2",
                "thickness_factor": 1
              },
              {
                "color": "#15AFAC",
                "directed": true,
                "end": "29",
                "label": "+ fire",
                "properties": {
                  "label": "+ fire"
                },
                "start": "42",
                "thickness_factor": 1
              },
              {
                "color": "#15AFAC",
                "directed": true,
                "end": "31",
                "label": "+ coal",
                "properties": {
                  "label": "+ coal"
                },
                "start": "7",
                "thickness_factor": 1
              },
              {
                "color": "#15AFAC",
                "directed": true,
                "end": "31",
                "label": "+ pressure",
                "properties": {
                  "label": "+ pressure"
                },
                "start": "30",
                "thickness_factor": 1
              },
              {
                "color": "#15AFAC",
                "directed": true,
                "end": "32",
                "label": "+ sand",
                "properties": {
                  "label": "+ sand"
                },
                "start": "2",
                "thickness_factor": 1
              },
              {
                "color": "#15AFAC",
                "directed": true,
                "end": "32",
                "label": "+ fire",
                "properties": {
                  "label": "+ fire"
                },
                "start": "28",
                "thickness_factor": 1
              },
              {
                "color": "#15AFAC",
                "directed": true,
                "end": "33",
                "label": "+ glass",
                "properties": {
                  "label": "+ glass"
                },
                "start": "28",
                "thickness_factor": 1
              },
              {
                "color": "#15AFAC",
                "directed": true,
                "end": "33",
                "label": "+ sand",
                "properties": {
                  "label": "+ sand"
                },
                "start": "32",
                "thickness_factor": 1
              },
              {
                "color": "#15AFAC",
                "directed": true,
                "end": "33",
                "label": "+ time",
                "properties": {
                  "label": "+ time"
                },
                "start": "28",
                "thickness_factor": 1
              },
              {
                "color": "#15AFAC",
                "directed": true,
                "end": "33",
                "label": "+ sand",
                "properties": {
                  "label": "+ sand"
                },
                "start": "41",
                "thickness_factor": 1
              },
              {
                "color": "#15AFAC",
                "directed": true,
                "end": "33",
                "label": "+ time",
                "properties": {
                  "label": "+ time"
                },
                "start": "32",
                "thickness_factor": 1
              },
              {
                "color": "#15AFAC",
                "directed": true,
                "end": "33",
                "label": "+ glass",
                "properties": {
                  "label": "+ glass"
                },
                "start": "41",
                "thickness_factor": 1
              },
              {
                "color": "#15AFAC",
                "directed": true,
                "end": "34",
                "label": "+ glass",
                "properties": {
                  "label": "+ glass"
                },
                "start": "1",
                "thickness_factor": 1
              },
              {
                "color": "#15AFAC",
                "directed": true,
                "end": "34",
                "label": "+ water",
                "properties": {
                  "label": "+ water"
                },
                "start": "32",
                "thickness_factor": 1
              },
              {
                "color": "#15AFAC",
                "directed": true,
                "end": "35",
                "label": "+ glass",
                "properties": {
                  "label": "+ glass"
                },
                "start": "24",
                "thickness_factor": 1
              },
              {
                "color": "#15AFAC",
                "directed": true,
                "end": "35",
                "label": "+ plant",
                "properties": {
                  "label": "+ plant"
                },
                "start": "32",
                "thickness_factor": 1
              },
              {
                "color": "#15AFAC",
                "directed": true,
                "end": "35",
                "label": "+ tree",
                "properties": {
                  "label": "+ tree"
                },
                "start": "32",
                "thickness_factor": 1
              },
              {
                "color": "#15AFAC",
                "directed": true,
                "end": "35",
                "label": "+ glass",
                "properties": {
                  "label": "+ glass"
                },
                "start": "42",
                "thickness_factor": 1
              },
              {
                "color": "#15AFAC",
                "directed": true,
                "end": "35",
                "label": "+ aquarium",
                "properties": {
                  "label": "+ aquarium"
                },
                "start": "24",
                "thickness_factor": 1
              },
              {
                "color": "#15AFAC",
                "directed": true,
                "end": "35",
                "label": "+ plant",
                "properties": {
                  "label": "+ plant"
                },
                "start": "34",
                "thickness_factor": 1
              },
              {
                "color": "#15AFAC",
                "directed": true,
                "end": "35",
                "label": "+ tree",
                "properties": {
                  "label": "+ tree"
                },
                "start": "34",
                "thickness_factor": 1
              },
              {
                "color": "#15AFAC",
                "directed": true,
                "end": "35",
                "label": "+ aquarium",
                "properties": {
                  "label": "+ aquarium"
                },
                "start": "42",
                "thickness_factor": 1
              },
              {
                "color": "#15AFAC",
                "directed": true,
                "end": "36",
                "label": "+ stone",
                "properties": {
                  "label": "+ stone"
                },
                "start": "2",
                "thickness_factor": 1
              },
              {
                "color": "#15AFAC",
                "directed": true,
                "end": "36",
                "label": "+ fire",
                "properties": {
                  "label": "+ fire"
                },
                "start": "27",
                "thickness_factor": 1
              },
              {
                "color": "#15AFAC",
                "directed": true,
                "end": "37",
                "label": "+ metal",
                "properties": {
                  "label": "+ metal"
                },
                "start": "4",
                "thickness_factor": 1
              },
              {
                "color": "#15AFAC",
                "directed": true,
                "end": "37",
                "label": "+ air",
                "properties": {
                  "label": "+ air"
                },
                "start": "36",
                "thickness_factor": 1
              },
              {
                "color": "#15AFAC",
                "directed": true,
                "end": "37",
                "label": "+ steel",
                "properties": {
                  "label": "+ steel"
                },
                "start": "4",
                "thickness_factor": 1
              },
              {
                "color": "#15AFAC",
                "directed": true,
                "end": "37",
                "label": "+ air",
                "properties": {
                  "label": "+ air"
                },
                "start": "40",
                "thickness_factor": 1
              },
              {
                "color": "#15AFAC",
                "directed": true,
                "end": "38",
                "label": "+ metal",
                "properties": {
                  "label": "+ metal"
                },
                "start": "7",
                "thickness_factor": 1
              },
              {
                "color": "#15AFAC",
                "directed": true,
                "end": "38",
                "label": "+ pressure",
                "properties": {
                  "label": "+ pressure"
                },
                "start": "36",
                "thickness_factor": 1
              },
              {
                "color": "#15AFAC",
                "directed": true,
                "end": "38",
                "label": "+ metal",
                "properties": {
                  "label": "+ metal"
                },
                "start": "5",
                "thickness_factor": 1
              },
              {
                "color": "#15AFAC",
                "directed": true,
                "end": "38",
                "label": "+ steam",
                "properties": {
                  "label": "+ steam"
                },
                "start": "36",
                "thickness_factor": 1
              },
              {
                "color": "#15AFAC",
                "directed": true,
                "end": "39",
                "label": "+ metal",
                "properties": {
                  "label": "+ metal"
                },
                "start": "25",
                "thickness_factor": 1
              },
              {
                "color": "#15AFAC",
                "directed": true,
                "end": "39",
                "label": "+ gunpowder",
                "properties": {
                  "label": "+ gunpowder"
                },
                "start": "36",
                "thickness_factor": 1
              },
              {
                "color": "#15AFAC",
                "directed": true,
                "end": "39",
                "label": "+ steel",
                "properties": {
                  "label": "+ steel"
                },
                "start": "25",
                "thickness_factor": 1
              },
              {
                "color": "#15AFAC",
                "directed": true,
                "end": "39",
                "label": "+ gunpowder",
                "properties": {
                  "label": "+ gunpowder"
                },
                "start": "40",
                "thickness_factor": 1
              },
              {
                "color": "#15AFAC",
                "directed": true,
                "end": "40",
                "label": "+ metal",
                "properties": {
                  "label": "+ metal"
                },
                "start": "30",
                "thickness_factor": 1
              },
              {
                "color": "#15AFAC",
                "directed": true,
                "end": "40",
                "label": "+ coal",
                "properties": {
                  "label": "+ coal"
                },
                "start": "36",
                "thickness_factor": 1
              },
              {
                "color": "#15AFAC",
                "directed": true,
                "end": "40",
                "label": "+ metal",
                "properties": {
                  "label": "+ metal"
                },
                "start": "29",
                "thickness_factor": 1
              },
              {
                "color": "#15AFAC",
                "directed": true,
                "end": "40",
                "label": "+ ash",
                "properties": {
                  "label": "+ ash"
                },
                "start": "36",
                "thickness_factor": 1
              },
              {
                "color": "#15AFAC",
                "directed": true,
                "end": "42",
                "label": "+ time",
                "properties": {
                  "label": "+ time"
                },
                "start": "24",
                "thickness_factor": 1
              },
              {
                "color": "#15AFAC",
                "directed": true,
                "end": "42",
                "label": "+ plant",
                "properties": {
                  "label": "+ plant"
                },
                "start": "41",
                "thickness_factor": 1
              },
              {
                "color": "#15AFAC",
                "directed": true,
                "end": "43",
                "label": "+ tree",
                "properties": {
                  "label": "+ tree"
                },
                "start": "12",
                "thickness_factor": 1
              },
              {
                "color": "#15AFAC",
                "directed": true,
                "end": "43",
                "label": "+ mud",
                "properties": {
                  "label": "+ mud"
                },
                "start": "42",
                "thickness_factor": 1
              },
              {
                "color": "#15AFAC",
                "directed": true,
                "end": "45",
                "label": "+ life",
                "properties": {
                  "label": "+ life"
                },
                "start": "1",
                "thickness_factor": 1
              },
              {
                "color": "#15AFAC",
                "directed": true,
                "end": "45",
                "label": "+ water",
                "properties": {
                  "label": "+ water"
                },
                "start": "44",
                "thickness_factor": 1
              },
              {
                "color": "#15AFAC",
                "directed": true,
                "end": "45",
                "label": "+ life",
                "properties": {
                  "label": "+ life"
                },
                "start": "10",
                "thickness_factor": 1
              },
              {
                "color": "#15AFAC",
                "directed": true,
                "end": "45",
                "label": "+ ocean",
                "properties": {
                  "label": "+ ocean"
                },
                "start": "44",
                "thickness_factor": 1
              },
              {
                "color": "#15AFAC",
                "directed": true,
                "end": "45",
                "label": "+ life",
                "properties": {
                  "label": "+ life"
                },
                "start": "9",
                "thickness_factor": 1
              },
              {
                "color": "#15AFAC",
                "directed": true,
                "end": "45",
                "label": "+ sea",
                "properties": {
                  "label": "+ sea"
                },
                "start": "44",
                "thickness_factor": 1
              },
              {
                "color": "#15AFAC",
                "directed": true,
                "end": "46",
                "label": "+ egg",
                "properties": {
                  "label": "+ egg"
                },
                "start": "22",
                "thickness_factor": 1
              },
              {
                "color": "#15AFAC",
                "directed": true,
                "end": "46",
                "label": "+ sky",
                "properties": {
                  "label": "+ sky"
                },
                "start": "49",
                "thickness_factor": 1
              },
              {
                "color": "#15AFAC",
                "directed": true,
                "end": "46",
                "label": "+ egg",
                "properties": {
                  "label": "+ egg"
                },
                "start": "4",
                "thickness_factor": 1
              },
              {
                "color": "#15AFAC",
                "directed": true,
                "end": "46",
                "label": "+ air",
                "properties": {
                  "label": "+ air"
                },
                "start": "49",
                "thickness_factor": 1
              },
              {
                "color": "#15AFAC",
                "directed": true,
                "end": "47",
                "label": "+ bird",
                "properties": {
                  "label": "+ bird"
                },
                "start": "2",
                "thickness_factor": 1
              },
              {
                "color": "#15AFAC",
                "directed": true,
                "end": "47",
                "label": "+ fire",
                "properties": {
                  "label": "+ fire"
                },
                "start": "46",
                "thickness_factor": 1
              },
              {
                "color": "#15AFAC",
                "directed": true,
                "end": "47",
                "label": "+ life",
                "properties": {
                  "label": "+ life"
                },
                "start": "2",
                "thickness_factor": 1
              },
              {
                "color": "#15AFAC",
                "directed": true,
                "end": "47",
                "label": "+ fire",
                "properties": {
                  "label": "+ fire"
                },
                "start": "44",
                "thickness_factor": 1
              },
              {
                "color": "#15AFAC",
                "directed": true,
                "end": "47",
                "label": "+ egg",
                "properties": {
                  "label": "+ egg"
                },
                "start": "2",
                "thickness_factor": 1
              },
              {
                "color": "#15AFAC",
                "directed": true,
                "end": "47",
                "label": "+ fire",
                "properties": {
                  "label": "+ fire"
                },
                "start": "49",
                "thickness_factor": 1
              },
              {
                "color": "#15AFAC",
                "directed": true,
                "end": "48",
                "label": "+ clay",
                "properties": {
                  "label": "+ clay"
                },
                "start": "44",
                "thickness_factor": 1
              },
              {
                "color": "#15AFAC",
                "directed": true,
                "end": "48",
                "label": "+ life",
                "properties": {
                  "label": "+ life"
                },
                "start": "50",
                "thickness_factor": 1
              },
              {
                "color": "#15AFAC",
                "directed": true,
                "end": "49",
                "label": "+ bird",
                "properties": {
                  "label": "+ bird"
                },
                "start": "46",
                "thickness_factor": 1
              },
              {
                "color": "#15AFAC",
                "directed": true,
                "end": "49",
                "label": "+ phoenix",
                "properties": {
                  "label": "+ phoenix"
                },
                "start": "47",
                "thickness_factor": 1
              },
              {
                "color": "#15AFAC",
                "directed": true,
                "end": "50",
                "label": "+ sand",
                "properties": {
                  "label": "+ sand"
                },
                "start": "12",
                "thickness_factor": 1
              },
              {
                "color": "#15AFAC",
                "directed": true,
                "end": "50",
                "label": "+ mud",
                "properties": {
                  "label": "+ mud"
                },
                "start": "28",
                "thickness_factor": 1
              },
              {
                "color": "#15AFAC",
                "directed": true,
                "end": "50",
                "label": "+ stone",
                "properties": {
                  "label": "+ stone"
                },
                "start": "12",
                "thickness_factor": 1
              },
              {
                "color": "#15AFAC",
                "directed": true,
                "end": "50",
                "label": "+ mud",
                "properties": {
                  "label": "+ mud"
                },
                "start": "27",
                "thickness_factor": 1
              }
            ],
            "_graph_layout": {},
            "_highlight": [],
            "_license": {},
            "_model_module": "yfiles-jupyter-graphs",
            "_model_module_version": "^1.8.1",
            "_model_name": "GraphModel",
            "_neighborhood": {},
            "_nodes": [
              {
                "color": "#15AFAC",
                "id": "1",
                "label": "water",
                "position": [
                  0,
                  0
                ],
                "properties": {
                  "label": "water"
                },
                "scale_factor": 1,
                "size": [
                  55,
                  55
                ],
                "styles": {},
                "type": "#15AFAC"
              },
              {
                "color": "#15AFAC",
                "id": "2",
                "label": "fire",
                "position": [
                  0,
                  0
                ],
                "properties": {
                  "label": "fire"
                },
                "scale_factor": 1,
                "size": [
                  55,
                  55
                ],
                "styles": {},
                "type": "#15AFAC"
              },
              {
                "color": "#15AFAC",
                "id": "3",
                "label": "earth",
                "position": [
                  0,
                  0
                ],
                "properties": {
                  "label": "earth"
                },
                "scale_factor": 1,
                "size": [
                  55,
                  55
                ],
                "styles": {},
                "type": "#15AFAC"
              },
              {
                "color": "#15AFAC",
                "id": "4",
                "label": "air",
                "position": [
                  0,
                  0
                ],
                "properties": {
                  "label": "air"
                },
                "scale_factor": 1,
                "size": [
                  55,
                  55
                ],
                "styles": {},
                "type": "#15AFAC"
              },
              {
                "color": "#15AFAC",
                "id": "5",
                "label": "steam",
                "position": [
                  0,
                  0
                ],
                "properties": {
                  "label": "steam"
                },
                "scale_factor": 1,
                "size": [
                  55,
                  55
                ],
                "styles": {},
                "type": "#15AFAC"
              },
              {
                "color": "#15AFAC",
                "id": "6",
                "label": "lava",
                "position": [
                  0,
                  0
                ],
                "properties": {
                  "label": "lava"
                },
                "scale_factor": 1,
                "size": [
                  55,
                  55
                ],
                "styles": {},
                "type": "#15AFAC"
              },
              {
                "color": "#15AFAC",
                "id": "7",
                "label": "pressure",
                "position": [
                  0,
                  0
                ],
                "properties": {
                  "label": "pressure"
                },
                "scale_factor": 1,
                "size": [
                  55,
                  55
                ],
                "styles": {},
                "type": "#15AFAC"
              },
              {
                "color": "#15AFAC",
                "id": "8",
                "label": "volcano",
                "position": [
                  0,
                  0
                ],
                "properties": {
                  "label": "volcano"
                },
                "scale_factor": 1,
                "size": [
                  55,
                  55
                ],
                "styles": {},
                "type": "#15AFAC"
              },
              {
                "color": "#15AFAC",
                "id": "9",
                "label": "sea",
                "position": [
                  0,
                  0
                ],
                "properties": {
                  "label": "sea"
                },
                "scale_factor": 1,
                "size": [
                  55,
                  55
                ],
                "styles": {},
                "type": "#15AFAC"
              },
              {
                "color": "#15AFAC",
                "id": "10",
                "label": "ocean",
                "position": [
                  0,
                  0
                ],
                "properties": {
                  "label": "ocean"
                },
                "scale_factor": 1,
                "size": [
                  55,
                  55
                ],
                "styles": {},
                "type": "#15AFAC"
              },
              {
                "color": "#15AFAC",
                "id": "11",
                "label": "energy",
                "position": [
                  0,
                  0
                ],
                "properties": {
                  "label": "energy"
                },
                "scale_factor": 1,
                "size": [
                  55,
                  55
                ],
                "styles": {},
                "type": "#15AFAC"
              },
              {
                "color": "#15AFAC",
                "id": "12",
                "label": "mud",
                "position": [
                  0,
                  0
                ],
                "properties": {
                  "label": "mud"
                },
                "scale_factor": 1,
                "size": [
                  55,
                  55
                ],
                "styles": {},
                "type": "#15AFAC"
              },
              {
                "color": "#15AFAC",
                "id": "13",
                "label": "rain",
                "position": [
                  0,
                  0
                ],
                "properties": {
                  "label": "rain"
                },
                "scale_factor": 1,
                "size": [
                  55,
                  55
                ],
                "styles": {},
                "type": "#15AFAC"
              },
              {
                "color": "#15AFAC",
                "id": "14",
                "label": "dust",
                "position": [
                  0,
                  0
                ],
                "properties": {
                  "label": "dust"
                },
                "scale_factor": 1,
                "size": [
                  55,
                  55
                ],
                "styles": {},
                "type": "#15AFAC"
              },
              {
                "color": "#15AFAC",
                "id": "15",
                "label": "cloud",
                "position": [
                  0,
                  0
                ],
                "properties": {
                  "label": "cloud"
                },
                "scale_factor": 1,
                "size": [
                  55,
                  55
                ],
                "styles": {},
                "type": "#15AFAC"
              },
              {
                "color": "#15AFAC",
                "id": "16",
                "label": "storm",
                "position": [
                  0,
                  0
                ],
                "properties": {
                  "label": "storm"
                },
                "scale_factor": 1,
                "size": [
                  55,
                  55
                ],
                "styles": {},
                "type": "#15AFAC"
              },
              {
                "color": "#15AFAC",
                "id": "17",
                "label": "geyser",
                "position": [
                  0,
                  0
                ],
                "properties": {
                  "label": "geyser"
                },
                "scale_factor": 1,
                "size": [
                  55,
                  55
                ],
                "styles": {},
                "type": "#15AFAC"
              },
              {
                "color": "#15AFAC",
                "id": "18",
                "label": "island",
                "position": [
                  0,
                  0
                ],
                "properties": {
                  "label": "island"
                },
                "scale_factor": 1,
                "size": [
                  55,
                  55
                ],
                "styles": {},
                "type": "#15AFAC"
              },
              {
                "color": "#15AFAC",
                "id": "19",
                "label": "earthquake",
                "position": [
                  0,
                  0
                ],
                "properties": {
                  "label": "earthquake"
                },
                "scale_factor": 1,
                "size": [
                  55,
                  55
                ],
                "styles": {},
                "type": "#15AFAC"
              },
              {
                "color": "#15AFAC",
                "id": "20",
                "label": "wind",
                "position": [
                  0,
                  0
                ],
                "properties": {
                  "label": "wind"
                },
                "scale_factor": 1,
                "size": [
                  55,
                  55
                ],
                "styles": {},
                "type": "#15AFAC"
              },
              {
                "color": "#15AFAC",
                "id": "21",
                "label": "eruption",
                "position": [
                  0,
                  0
                ],
                "properties": {
                  "label": "eruption"
                },
                "scale_factor": 1,
                "size": [
                  55,
                  55
                ],
                "styles": {},
                "type": "#15AFAC"
              },
              {
                "color": "#15AFAC",
                "id": "22",
                "label": "sky",
                "position": [
                  0,
                  0
                ],
                "properties": {
                  "label": "sky"
                },
                "scale_factor": 1,
                "size": [
                  55,
                  55
                ],
                "styles": {},
                "type": "#15AFAC"
              },
              {
                "color": "#15AFAC",
                "id": "23",
                "label": "tornado",
                "position": [
                  0,
                  0
                ],
                "properties": {
                  "label": "tornado"
                },
                "scale_factor": 1,
                "size": [
                  55,
                  55
                ],
                "styles": {},
                "type": "#15AFAC"
              },
              {
                "color": "#15AFAC",
                "id": "24",
                "label": "plant",
                "position": [
                  0,
                  0
                ],
                "properties": {
                  "label": "plant"
                },
                "scale_factor": 1,
                "size": [
                  55,
                  55
                ],
                "styles": {},
                "type": "#15AFAC"
              },
              {
                "color": "#15AFAC",
                "id": "25",
                "label": "gunpowder",
                "position": [
                  0,
                  0
                ],
                "properties": {
                  "label": "gunpowder"
                },
                "scale_factor": 1,
                "size": [
                  55,
                  55
                ],
                "styles": {},
                "type": "#15AFAC"
              },
              {
                "color": "#15AFAC",
                "id": "26",
                "label": "explosion",
                "position": [
                  0,
                  0
                ],
                "properties": {
                  "label": "explosion"
                },
                "scale_factor": 1,
                "size": [
                  55,
                  55
                ],
                "styles": {},
                "type": "#15AFAC"
              },
              {
                "color": "#15AFAC",
                "id": "27",
                "label": "stone",
                "position": [
                  0,
                  0
                ],
                "properties": {
                  "label": "stone"
                },
                "scale_factor": 1,
                "size": [
                  55,
                  55
                ],
                "styles": {},
                "type": "#15AFAC"
              },
              {
                "color": "#15AFAC",
                "id": "28",
                "label": "sand",
                "position": [
                  0,
                  0
                ],
                "properties": {
                  "label": "sand"
                },
                "scale_factor": 1,
                "size": [
                  55,
                  55
                ],
                "styles": {},
                "type": "#15AFAC"
              },
              {
                "color": "#15AFAC",
                "id": "29",
                "label": "ash",
                "position": [
                  0,
                  0
                ],
                "properties": {
                  "label": "ash"
                },
                "scale_factor": 1,
                "size": [
                  55,
                  55
                ],
                "styles": {},
                "type": "#15AFAC"
              },
              {
                "color": "#15AFAC",
                "id": "30",
                "label": "coal",
                "position": [
                  0,
                  0
                ],
                "properties": {
                  "label": "coal"
                },
                "scale_factor": 1,
                "size": [
                  55,
                  55
                ],
                "styles": {},
                "type": "#15AFAC"
              },
              {
                "color": "#15AFAC",
                "id": "31",
                "label": "diamond",
                "position": [
                  0,
                  0
                ],
                "properties": {
                  "label": "diamond"
                },
                "scale_factor": 1,
                "size": [
                  55,
                  55
                ],
                "styles": {},
                "type": "#15AFAC"
              },
              {
                "color": "#15AFAC",
                "id": "32",
                "label": "glass",
                "position": [
                  0,
                  0
                ],
                "properties": {
                  "label": "glass"
                },
                "scale_factor": 1,
                "size": [
                  55,
                  55
                ],
                "styles": {},
                "type": "#15AFAC"
              },
              {
                "color": "#15AFAC",
                "id": "33",
                "label": "hourglass",
                "position": [
                  0,
                  0
                ],
                "properties": {
                  "label": "hourglass"
                },
                "scale_factor": 1,
                "size": [
                  55,
                  55
                ],
                "styles": {},
                "type": "#15AFAC"
              },
              {
                "color": "#15AFAC",
                "id": "34",
                "label": "aquarium",
                "position": [
                  0,
                  0
                ],
                "properties": {
                  "label": "aquarium"
                },
                "scale_factor": 1,
                "size": [
                  55,
                  55
                ],
                "styles": {},
                "type": "#15AFAC"
              },
              {
                "color": "#15AFAC",
                "id": "35",
                "label": "greenhouse",
                "position": [
                  0,
                  0
                ],
                "properties": {
                  "label": "greenhouse"
                },
                "scale_factor": 1,
                "size": [
                  55,
                  55
                ],
                "styles": {},
                "type": "#15AFAC"
              },
              {
                "color": "#15AFAC",
                "id": "36",
                "label": "metal",
                "position": [
                  0,
                  0
                ],
                "properties": {
                  "label": "metal"
                },
                "scale_factor": 1,
                "size": [
                  55,
                  55
                ],
                "styles": {},
                "type": "#15AFAC"
              },
              {
                "color": "#15AFAC",
                "id": "37",
                "label": "rust",
                "position": [
                  0,
                  0
                ],
                "properties": {
                  "label": "rust"
                },
                "scale_factor": 1,
                "size": [
                  55,
                  55
                ],
                "styles": {},
                "type": "#15AFAC"
              },
              {
                "color": "#15AFAC",
                "id": "38",
                "label": "boiler",
                "position": [
                  0,
                  0
                ],
                "properties": {
                  "label": "boiler"
                },
                "scale_factor": 1,
                "size": [
                  55,
                  55
                ],
                "styles": {},
                "type": "#15AFAC"
              },
              {
                "color": "#15AFAC",
                "id": "39",
                "label": "bullet",
                "position": [
                  0,
                  0
                ],
                "properties": {
                  "label": "bullet"
                },
                "scale_factor": 1,
                "size": [
                  55,
                  55
                ],
                "styles": {},
                "type": "#15AFAC"
              },
              {
                "color": "#15AFAC",
                "id": "40",
                "label": "steel",
                "position": [
                  0,
                  0
                ],
                "properties": {
                  "label": "steel"
                },
                "scale_factor": 1,
                "size": [
                  55,
                  55
                ],
                "styles": {},
                "type": "#15AFAC"
              },
              {
                "color": "#15AFAC",
                "id": "41",
                "label": "time",
                "position": [
                  0,
                  0
                ],
                "properties": {
                  "label": "time"
                },
                "scale_factor": 1,
                "size": [
                  55,
                  55
                ],
                "styles": {},
                "type": "#15AFAC"
              },
              {
                "color": "#15AFAC",
                "id": "42",
                "label": "tree",
                "position": [
                  0,
                  0
                ],
                "properties": {
                  "label": "tree"
                },
                "scale_factor": 1,
                "size": [
                  55,
                  55
                ],
                "styles": {},
                "type": "#15AFAC"
              },
              {
                "color": "#15AFAC",
                "id": "43",
                "label": "swamp",
                "position": [
                  0,
                  0
                ],
                "properties": {
                  "label": "swamp"
                },
                "scale_factor": 1,
                "size": [
                  55,
                  55
                ],
                "styles": {},
                "type": "#15AFAC"
              },
              {
                "color": "#15AFAC",
                "id": "44",
                "label": "life",
                "position": [
                  0,
                  0
                ],
                "properties": {
                  "label": "life"
                },
                "scale_factor": 1,
                "size": [
                  55,
                  55
                ],
                "styles": {},
                "type": "#15AFAC"
              },
              {
                "color": "#15AFAC",
                "id": "45",
                "label": "plankton",
                "position": [
                  0,
                  0
                ],
                "properties": {
                  "label": "plankton"
                },
                "scale_factor": 1,
                "size": [
                  55,
                  55
                ],
                "styles": {},
                "type": "#15AFAC"
              },
              {
                "color": "#15AFAC",
                "id": "46",
                "label": "bird",
                "position": [
                  0,
                  0
                ],
                "properties": {
                  "label": "bird"
                },
                "scale_factor": 1,
                "size": [
                  55,
                  55
                ],
                "styles": {},
                "type": "#15AFAC"
              },
              {
                "color": "#15AFAC",
                "id": "47",
                "label": "phoenix",
                "position": [
                  0,
                  0
                ],
                "properties": {
                  "label": "phoenix"
                },
                "scale_factor": 1,
                "size": [
                  55,
                  55
                ],
                "styles": {},
                "type": "#15AFAC"
              },
              {
                "color": "#15AFAC",
                "id": "48",
                "label": "human",
                "position": [
                  0,
                  0
                ],
                "properties": {
                  "label": "human"
                },
                "scale_factor": 1,
                "size": [
                  55,
                  55
                ],
                "styles": {},
                "type": "#15AFAC"
              },
              {
                "color": "#15AFAC",
                "id": "49",
                "label": "egg",
                "position": [
                  0,
                  0
                ],
                "properties": {
                  "label": "egg"
                },
                "scale_factor": 1,
                "size": [
                  55,
                  55
                ],
                "styles": {},
                "type": "#15AFAC"
              },
              {
                "color": "#15AFAC",
                "id": "50",
                "label": "clay",
                "position": [
                  0,
                  0
                ],
                "properties": {
                  "label": "clay"
                },
                "scale_factor": 1,
                "size": [
                  55,
                  55
                ],
                "styles": {},
                "type": "#15AFAC"
              }
            ],
            "_overview": {
              "enabled": null,
              "overview_set": false
            },
            "_selected_graph": [
              [],
              []
            ],
            "_sidebar": {
              "enabled": false,
              "start_with": null
            },
            "_view_count": null,
            "_view_module": "yfiles-jupyter-graphs",
            "_view_module_version": "^1.8.1",
            "_view_name": "GraphView",
            "layout": "IPY_MODEL_4cf51a0aed384a45a6912f9ef5b132dd",
            "tabbable": null,
            "tooltip": null
          }
        },
        "4cf51a0aed384a45a6912f9ef5b132dd": {
          "model_module": "@jupyter-widgets/base",
          "model_module_version": "2.0.0",
          "model_name": "LayoutModel",
          "state": {
            "_model_module": "@jupyter-widgets/base",
            "_model_module_version": "2.0.0",
            "_model_name": "LayoutModel",
            "_view_count": null,
            "_view_module": "@jupyter-widgets/base",
            "_view_module_version": "2.0.0",
            "_view_name": "LayoutView",
            "align_content": null,
            "align_items": null,
            "align_self": null,
            "border_bottom": null,
            "border_left": null,
            "border_right": null,
            "border_top": null,
            "bottom": null,
            "display": null,
            "flex": null,
            "flex_flow": null,
            "grid_area": null,
            "grid_auto_columns": null,
            "grid_auto_flow": null,
            "grid_auto_rows": null,
            "grid_column": null,
            "grid_gap": null,
            "grid_row": null,
            "grid_template_areas": null,
            "grid_template_columns": null,
            "grid_template_rows": null,
            "height": "800px",
            "justify_content": null,
            "justify_items": null,
            "left": null,
            "margin": null,
            "max_height": null,
            "max_width": null,
            "min_height": null,
            "min_width": null,
            "object_fit": null,
            "object_position": null,
            "order": null,
            "overflow": null,
            "padding": null,
            "right": null,
            "top": null,
            "visibility": null,
            "width": "100%"
          }
        },
        "fb360f3ed7b6416bad8fbdf69eb0fbe1": {
          "model_module": "yfiles-jupyter-graphs",
          "model_module_version": "^1.8.1",
          "model_name": "GraphModel",
          "state": {
            "_context_pane_mapping": [
              {
                "id": "Neighborhood",
                "title": "Neighborhood"
              },
              {
                "id": "Data",
                "title": "Data"
              },
              {
                "id": "Search",
                "title": "Search"
              },
              {
                "id": "About",
                "title": "About"
              }
            ],
            "_data_importer": "unknown",
            "_directed": true,
            "_dom_classes": [],
            "_edges": [
              {
                "color": "grey",
                "directed": true,
                "end": "2",
                "label": "+ coal",
                "properties": {
                  "label": "+ coal"
                },
                "start": "2",
                "thickness_factor": 1
              },
              {
                "color": "grey",
                "directed": true,
                "end": "2",
                "label": "+ fire",
                "properties": {
                  "label": "+ fire"
                },
                "start": "30",
                "thickness_factor": 1
              },
              {
                "color": "grey",
                "directed": true,
                "end": "5",
                "label": "+ fire",
                "properties": {
                  "label": "+ fire"
                },
                "start": "1",
                "thickness_factor": 1
              },
              {
                "color": "grey",
                "directed": true,
                "end": "5",
                "label": "+ water",
                "properties": {
                  "label": "+ water"
                },
                "start": "2",
                "thickness_factor": 1
              },
              {
                "color": "grey",
                "directed": true,
                "end": "5",
                "label": "+ lava",
                "properties": {
                  "label": "+ lava"
                },
                "start": "1",
                "thickness_factor": 1
              },
              {
                "color": "grey",
                "directed": true,
                "end": "5",
                "label": "+ water",
                "properties": {
                  "label": "+ water"
                },
                "start": "6",
                "thickness_factor": 1
              },
              {
                "color": "grey",
                "directed": true,
                "end": "6",
                "label": "+ earth",
                "properties": {
                  "label": "+ earth"
                },
                "start": "2",
                "thickness_factor": 1
              },
              {
                "color": "grey",
                "directed": true,
                "end": "6",
                "label": "+ fire",
                "properties": {
                  "label": "+ fire"
                },
                "start": "3",
                "thickness_factor": 1
              },
              {
                "color": "grey",
                "directed": true,
                "end": "7",
                "label": "+ air",
                "properties": {
                  "label": "+ air"
                },
                "start": "4",
                "thickness_factor": 1
              },
              {
                "color": "grey",
                "directed": true,
                "end": "7",
                "label": "+ ocean",
                "properties": {
                  "label": "+ ocean"
                },
                "start": "10",
                "thickness_factor": 1
              },
              {
                "color": "grey",
                "directed": true,
                "end": "8",
                "label": "+ lava",
                "properties": {
                  "label": "+ lava"
                },
                "start": "3",
                "thickness_factor": 1
              },
              {
                "color": "grey",
                "directed": true,
                "end": "8",
                "label": "+ earth",
                "properties": {
                  "label": "+ earth"
                },
                "start": "6",
                "thickness_factor": 1
              },
              {
                "color": "grey",
                "directed": true,
                "end": "10",
                "label": "+ sea",
                "properties": {
                  "label": "+ sea"
                },
                "start": "1",
                "thickness_factor": 1
              },
              {
                "color": "grey",
                "directed": true,
                "end": "10",
                "label": "+ water",
                "properties": {
                  "label": "+ water"
                },
                "start": "9",
                "thickness_factor": 1
              },
              {
                "color": "grey",
                "directed": true,
                "end": "10",
                "label": "+ sea",
                "properties": {
                  "label": "+ sea"
                },
                "start": "9",
                "thickness_factor": 1
              },
              {
                "color": "grey",
                "directed": true,
                "end": "11",
                "label": "+ fire",
                "properties": {
                  "label": "+ fire"
                },
                "start": "2",
                "thickness_factor": 1
              },
              {
                "color": "grey",
                "directed": true,
                "end": "12",
                "label": "+ earth",
                "properties": {
                  "label": "+ earth"
                },
                "start": "1",
                "thickness_factor": 1
              },
              {
                "color": "grey",
                "directed": true,
                "end": "12",
                "label": "+ water",
                "properties": {
                  "label": "+ water"
                },
                "start": "3",
                "thickness_factor": 1
              },
              {
                "color": "grey",
                "directed": true,
                "end": "13",
                "label": "+ cloud",
                "properties": {
                  "label": "+ cloud"
                },
                "start": "7",
                "thickness_factor": 1
              },
              {
                "color": "grey",
                "directed": true,
                "end": "13",
                "label": "+ pressure",
                "properties": {
                  "label": "+ pressure"
                },
                "start": "15",
                "thickness_factor": 1
              },
              {
                "color": "grey",
                "directed": true,
                "end": "13",
                "label": "+ cloud",
                "properties": {
                  "label": "+ cloud"
                },
                "start": "1",
                "thickness_factor": 1
              },
              {
                "color": "grey",
                "directed": true,
                "end": "13",
                "label": "+ water",
                "properties": {
                  "label": "+ water"
                },
                "start": "15",
                "thickness_factor": 1
              },
              {
                "color": "grey",
                "directed": true,
                "end": "14",
                "label": "+ air",
                "properties": {
                  "label": "+ air"
                },
                "start": "3",
                "thickness_factor": 1
              },
              {
                "color": "grey",
                "directed": true,
                "end": "14",
                "label": "+ earth",
                "properties": {
                  "label": "+ earth"
                },
                "start": "4",
                "thickness_factor": 1
              },
              {
                "color": "grey",
                "directed": true,
                "end": "15",
                "label": "+ sky",
                "properties": {
                  "label": "+ sky"
                },
                "start": "1",
                "thickness_factor": 1
              },
              {
                "color": "grey",
                "directed": true,
                "end": "15",
                "label": "+ water",
                "properties": {
                  "label": "+ water"
                },
                "start": "22",
                "thickness_factor": 1
              },
              {
                "color": "grey",
                "directed": true,
                "end": "16",
                "label": "+ cloud",
                "properties": {
                  "label": "+ cloud"
                },
                "start": "15",
                "thickness_factor": 1
              },
              {
                "color": "grey",
                "directed": true,
                "end": "16",
                "label": "+ wind",
                "properties": {
                  "label": "+ wind"
                },
                "start": "13",
                "thickness_factor": 1
              },
              {
                "color": "grey",
                "directed": true,
                "end": "16",
                "label": "+ rain",
                "properties": {
                  "label": "+ rain"
                },
                "start": "20",
                "thickness_factor": 1
              },
              {
                "color": "grey",
                "directed": true,
                "end": "17",
                "label": "+ steam",
                "properties": {
                  "label": "+ steam"
                },
                "start": "3",
                "thickness_factor": 1
              },
              {
                "color": "grey",
                "directed": true,
                "end": "17",
                "label": "+ earth",
                "properties": {
                  "label": "+ earth"
                },
                "start": "5",
                "thickness_factor": 1
              },
              {
                "color": "grey",
                "directed": true,
                "end": "17",
                "label": "+ pressure",
                "properties": {
                  "label": "+ pressure"
                },
                "start": "5",
                "thickness_factor": 1
              },
              {
                "color": "grey",
                "directed": true,
                "end": "17",
                "label": "+ steam",
                "properties": {
                  "label": "+ steam"
                },
                "start": "7",
                "thickness_factor": 1
              },
              {
                "color": "grey",
                "directed": true,
                "end": "18",
                "label": "+ ocean",
                "properties": {
                  "label": "+ ocean"
                },
                "start": "8",
                "thickness_factor": 1
              },
              {
                "color": "grey",
                "directed": true,
                "end": "18",
                "label": "+ volcano",
                "properties": {
                  "label": "+ volcano"
                },
                "start": "10",
                "thickness_factor": 1
              },
              {
                "color": "grey",
                "directed": true,
                "end": "18",
                "label": "+ sea",
                "properties": {
                  "label": "+ sea"
                },
                "start": "8",
                "thickness_factor": 1
              },
              {
                "color": "grey",
                "directed": true,
                "end": "18",
                "label": "+ volcano",
                "properties": {
                  "label": "+ volcano"
                },
                "start": "9",
                "thickness_factor": 1
              },
              {
                "color": "grey",
                "directed": true,
                "end": "19",
                "label": "+ energy",
                "properties": {
                  "label": "+ energy"
                },
                "start": "3",
                "thickness_factor": 1
              },
              {
                "color": "grey",
                "directed": true,
                "end": "19",
                "label": "+ earth",
                "properties": {
                  "label": "+ earth"
                },
                "start": "11",
                "thickness_factor": 1
              },
              {
                "color": "grey",
                "directed": true,
                "end": "20",
                "label": "+ pressure",
                "properties": {
                  "label": "+ pressure"
                },
                "start": "4",
                "thickness_factor": 1
              },
              {
                "color": "grey",
                "directed": true,
                "end": "20",
                "label": "+ air",
                "properties": {
                  "label": "+ air"
                },
                "start": "7",
                "thickness_factor": 1
              },
              {
                "color": "grey",
                "directed": true,
                "end": "21",
                "label": "+ volcano",
                "properties": {
                  "label": "+ volcano"
                },
                "start": "7",
                "thickness_factor": 1
              },
              {
                "color": "grey",
                "directed": true,
                "end": "21",
                "label": "+ pressure",
                "properties": {
                  "label": "+ pressure"
                },
                "start": "8",
                "thickness_factor": 1
              },
              {
                "color": "grey",
                "directed": true,
                "end": "21",
                "label": "+ pressure",
                "properties": {
                  "label": "+ pressure"
                },
                "start": "6",
                "thickness_factor": 1
              },
              {
                "color": "grey",
                "directed": true,
                "end": "21",
                "label": "+ lava",
                "properties": {
                  "label": "+ lava"
                },
                "start": "7",
                "thickness_factor": 1
              },
              {
                "color": "grey",
                "directed": true,
                "end": "21",
                "label": "+ time",
                "properties": {
                  "label": "+ time"
                },
                "start": "8",
                "thickness_factor": 1
              },
              {
                "color": "grey",
                "directed": true,
                "end": "21",
                "label": "+ volcano",
                "properties": {
                  "label": "+ volcano"
                },
                "start": "41",
                "thickness_factor": 1
              },
              {
                "color": "grey",
                "directed": true,
                "end": "22",
                "label": "+ cloud",
                "properties": {
                  "label": "+ cloud"
                },
                "start": "4",
                "thickness_factor": 1
              },
              {
                "color": "grey",
                "directed": true,
                "end": "22",
                "label": "+ air",
                "properties": {
                  "label": "+ air"
                },
                "start": "15",
                "thickness_factor": 1
              },
              {
                "color": "grey",
                "directed": true,
                "end": "23",
                "label": "+ storm",
                "properties": {
                  "label": "+ storm"
                },
                "start": "16",
                "thickness_factor": 1
              },
              {
                "color": "grey",
                "directed": true,
                "end": "23",
                "label": "+ wind",
                "properties": {
                  "label": "+ wind"
                },
                "start": "16",
                "thickness_factor": 1
              },
              {
                "color": "grey",
                "directed": true,
                "end": "23",
                "label": "+ storm",
                "properties": {
                  "label": "+ storm"
                },
                "start": "20",
                "thickness_factor": 1
              },
              {
                "color": "grey",
                "directed": true,
                "end": "23",
                "label": "+ wind",
                "properties": {
                  "label": "+ wind"
                },
                "start": "20",
                "thickness_factor": 1
              },
              {
                "color": "grey",
                "directed": true,
                "end": "25",
                "label": "+ dust",
                "properties": {
                  "label": "+ dust"
                },
                "start": "2",
                "thickness_factor": 1
              },
              {
                "color": "grey",
                "directed": true,
                "end": "25",
                "label": "+ fire",
                "properties": {
                  "label": "+ fire"
                },
                "start": "14",
                "thickness_factor": 1
              },
              {
                "color": "grey",
                "directed": true,
                "end": "25",
                "label": "+ dust",
                "properties": {
                  "label": "+ dust"
                },
                "start": "11",
                "thickness_factor": 1
              },
              {
                "color": "grey",
                "directed": true,
                "end": "25",
                "label": "+ energy",
                "properties": {
                  "label": "+ energy"
                },
                "start": "14",
                "thickness_factor": 1
              },
              {
                "color": "grey",
                "directed": true,
                "end": "26",
                "label": "+ gunpowder",
                "properties": {
                  "label": "+ gunpowder"
                },
                "start": "2",
                "thickness_factor": 1
              },
              {
                "color": "grey",
                "directed": true,
                "end": "26",
                "label": "+ fire",
                "properties": {
                  "label": "+ fire"
                },
                "start": "25",
                "thickness_factor": 1
              },
              {
                "color": "grey",
                "directed": true,
                "end": "26",
                "label": "+ volcano",
                "properties": {
                  "label": "+ volcano"
                },
                "start": "7",
                "thickness_factor": 1
              },
              {
                "color": "grey",
                "directed": true,
                "end": "26",
                "label": "+ pressure",
                "properties": {
                  "label": "+ pressure"
                },
                "start": "8",
                "thickness_factor": 1
              },
              {
                "color": "grey",
                "directed": true,
                "end": "27",
                "label": "+ pressure",
                "properties": {
                  "label": "+ pressure"
                },
                "start": "3",
                "thickness_factor": 1
              },
              {
                "color": "grey",
                "directed": true,
                "end": "27",
                "label": "+ earth",
                "properties": {
                  "label": "+ earth"
                },
                "start": "7",
                "thickness_factor": 1
              },
              {
                "color": "grey",
                "directed": true,
                "end": "27",
                "label": "+ lava",
                "properties": {
                  "label": "+ lava"
                },
                "start": "4",
                "thickness_factor": 1
              },
              {
                "color": "grey",
                "directed": true,
                "end": "27",
                "label": "+ air",
                "properties": {
                  "label": "+ air"
                },
                "start": "6",
                "thickness_factor": 1
              },
              {
                "color": "grey",
                "directed": true,
                "end": "28",
                "label": "+ stone",
                "properties": {
                  "label": "+ stone"
                },
                "start": "4",
                "thickness_factor": 1
              },
              {
                "color": "grey",
                "directed": true,
                "end": "28",
                "label": "+ air",
                "properties": {
                  "label": "+ air"
                },
                "start": "27",
                "thickness_factor": 1
              },
              {
                "color": "grey",
                "directed": true,
                "end": "28",
                "label": "+ stone",
                "properties": {
                  "label": "+ stone"
                },
                "start": "20",
                "thickness_factor": 1
              },
              {
                "color": "grey",
                "directed": true,
                "end": "28",
                "label": "+ wind",
                "properties": {
                  "label": "+ wind"
                },
                "start": "27",
                "thickness_factor": 1
              },
              {
                "color": "grey",
                "directed": true,
                "end": "29",
                "label": "+ plant",
                "properties": {
                  "label": "+ plant"
                },
                "start": "2",
                "thickness_factor": 1
              },
              {
                "color": "grey",
                "directed": true,
                "end": "29",
                "label": "+ fire",
                "properties": {
                  "label": "+ fire"
                },
                "start": "24",
                "thickness_factor": 1
              },
              {
                "color": "grey",
                "directed": true,
                "end": "29",
                "label": "+ tree",
                "properties": {
                  "label": "+ tree"
                },
                "start": "2",
                "thickness_factor": 1
              },
              {
                "color": "grey",
                "directed": true,
                "end": "29",
                "label": "+ fire",
                "properties": {
                  "label": "+ fire"
                },
                "start": "42",
                "thickness_factor": 1
              },
              {
                "color": "grey",
                "directed": true,
                "end": "31",
                "label": "+ coal",
                "properties": {
                  "label": "+ coal"
                },
                "start": "7",
                "thickness_factor": 1
              },
              {
                "color": "grey",
                "directed": true,
                "end": "31",
                "label": "+ pressure",
                "properties": {
                  "label": "+ pressure"
                },
                "start": "30",
                "thickness_factor": 1
              },
              {
                "color": "grey",
                "directed": true,
                "end": "32",
                "label": "+ sand",
                "properties": {
                  "label": "+ sand"
                },
                "start": "2",
                "thickness_factor": 1
              },
              {
                "color": "grey",
                "directed": true,
                "end": "32",
                "label": "+ fire",
                "properties": {
                  "label": "+ fire"
                },
                "start": "28",
                "thickness_factor": 1
              },
              {
                "color": "grey",
                "directed": true,
                "end": "33",
                "label": "+ glass",
                "properties": {
                  "label": "+ glass"
                },
                "start": "28",
                "thickness_factor": 1
              },
              {
                "color": "grey",
                "directed": true,
                "end": "33",
                "label": "+ sand",
                "properties": {
                  "label": "+ sand"
                },
                "start": "32",
                "thickness_factor": 1
              },
              {
                "color": "grey",
                "directed": true,
                "end": "33",
                "label": "+ time",
                "properties": {
                  "label": "+ time"
                },
                "start": "28",
                "thickness_factor": 1
              },
              {
                "color": "grey",
                "directed": true,
                "end": "33",
                "label": "+ sand",
                "properties": {
                  "label": "+ sand"
                },
                "start": "41",
                "thickness_factor": 1
              },
              {
                "color": "grey",
                "directed": true,
                "end": "33",
                "label": "+ time",
                "properties": {
                  "label": "+ time"
                },
                "start": "32",
                "thickness_factor": 1
              },
              {
                "color": "grey",
                "directed": true,
                "end": "33",
                "label": "+ glass",
                "properties": {
                  "label": "+ glass"
                },
                "start": "41",
                "thickness_factor": 1
              },
              {
                "color": "grey",
                "directed": true,
                "end": "34",
                "label": "+ glass",
                "properties": {
                  "label": "+ glass"
                },
                "start": "1",
                "thickness_factor": 1
              },
              {
                "color": "grey",
                "directed": true,
                "end": "34",
                "label": "+ water",
                "properties": {
                  "label": "+ water"
                },
                "start": "32",
                "thickness_factor": 1
              },
              {
                "color": "grey",
                "directed": true,
                "end": "35",
                "label": "+ glass",
                "properties": {
                  "label": "+ glass"
                },
                "start": "24",
                "thickness_factor": 1
              },
              {
                "color": "grey",
                "directed": true,
                "end": "35",
                "label": "+ plant",
                "properties": {
                  "label": "+ plant"
                },
                "start": "32",
                "thickness_factor": 1
              },
              {
                "color": "grey",
                "directed": true,
                "end": "35",
                "label": "+ tree",
                "properties": {
                  "label": "+ tree"
                },
                "start": "32",
                "thickness_factor": 1
              },
              {
                "color": "grey",
                "directed": true,
                "end": "35",
                "label": "+ glass",
                "properties": {
                  "label": "+ glass"
                },
                "start": "42",
                "thickness_factor": 1
              },
              {
                "color": "grey",
                "directed": true,
                "end": "35",
                "label": "+ aquarium",
                "properties": {
                  "label": "+ aquarium"
                },
                "start": "24",
                "thickness_factor": 1
              },
              {
                "color": "grey",
                "directed": true,
                "end": "35",
                "label": "+ plant",
                "properties": {
                  "label": "+ plant"
                },
                "start": "34",
                "thickness_factor": 1
              },
              {
                "color": "grey",
                "directed": true,
                "end": "35",
                "label": "+ tree",
                "properties": {
                  "label": "+ tree"
                },
                "start": "34",
                "thickness_factor": 1
              },
              {
                "color": "grey",
                "directed": true,
                "end": "35",
                "label": "+ aquarium",
                "properties": {
                  "label": "+ aquarium"
                },
                "start": "42",
                "thickness_factor": 1
              },
              {
                "color": "grey",
                "directed": true,
                "end": "36",
                "label": "+ stone",
                "properties": {
                  "label": "+ stone"
                },
                "start": "2",
                "thickness_factor": 1
              },
              {
                "color": "grey",
                "directed": true,
                "end": "36",
                "label": "+ fire",
                "properties": {
                  "label": "+ fire"
                },
                "start": "27",
                "thickness_factor": 1
              },
              {
                "color": "grey",
                "directed": true,
                "end": "37",
                "label": "+ metal",
                "properties": {
                  "label": "+ metal"
                },
                "start": "4",
                "thickness_factor": 1
              },
              {
                "color": "grey",
                "directed": true,
                "end": "37",
                "label": "+ air",
                "properties": {
                  "label": "+ air"
                },
                "start": "36",
                "thickness_factor": 1
              },
              {
                "color": "grey",
                "directed": true,
                "end": "37",
                "label": "+ steel",
                "properties": {
                  "label": "+ steel"
                },
                "start": "4",
                "thickness_factor": 1
              },
              {
                "color": "grey",
                "directed": true,
                "end": "37",
                "label": "+ air",
                "properties": {
                  "label": "+ air"
                },
                "start": "40",
                "thickness_factor": 1
              },
              {
                "color": "grey",
                "directed": true,
                "end": "38",
                "label": "+ metal",
                "properties": {
                  "label": "+ metal"
                },
                "start": "7",
                "thickness_factor": 1
              },
              {
                "color": "grey",
                "directed": true,
                "end": "38",
                "label": "+ pressure",
                "properties": {
                  "label": "+ pressure"
                },
                "start": "36",
                "thickness_factor": 1
              },
              {
                "color": "grey",
                "directed": true,
                "end": "38",
                "label": "+ metal",
                "properties": {
                  "label": "+ metal"
                },
                "start": "5",
                "thickness_factor": 1
              },
              {
                "color": "grey",
                "directed": true,
                "end": "38",
                "label": "+ steam",
                "properties": {
                  "label": "+ steam"
                },
                "start": "36",
                "thickness_factor": 1
              },
              {
                "color": "grey",
                "directed": true,
                "end": "39",
                "label": "+ metal",
                "properties": {
                  "label": "+ metal"
                },
                "start": "25",
                "thickness_factor": 1
              },
              {
                "color": "grey",
                "directed": true,
                "end": "39",
                "label": "+ gunpowder",
                "properties": {
                  "label": "+ gunpowder"
                },
                "start": "36",
                "thickness_factor": 1
              },
              {
                "color": "grey",
                "directed": true,
                "end": "39",
                "label": "+ steel",
                "properties": {
                  "label": "+ steel"
                },
                "start": "25",
                "thickness_factor": 1
              },
              {
                "color": "grey",
                "directed": true,
                "end": "39",
                "label": "+ gunpowder",
                "properties": {
                  "label": "+ gunpowder"
                },
                "start": "40",
                "thickness_factor": 1
              },
              {
                "color": "grey",
                "directed": true,
                "end": "40",
                "label": "+ metal",
                "properties": {
                  "label": "+ metal"
                },
                "start": "30",
                "thickness_factor": 1
              },
              {
                "color": "grey",
                "directed": true,
                "end": "40",
                "label": "+ coal",
                "properties": {
                  "label": "+ coal"
                },
                "start": "36",
                "thickness_factor": 1
              },
              {
                "color": "grey",
                "directed": true,
                "end": "40",
                "label": "+ metal",
                "properties": {
                  "label": "+ metal"
                },
                "start": "29",
                "thickness_factor": 1
              },
              {
                "color": "grey",
                "directed": true,
                "end": "40",
                "label": "+ ash",
                "properties": {
                  "label": "+ ash"
                },
                "start": "36",
                "thickness_factor": 1
              },
              {
                "color": "grey",
                "directed": true,
                "end": "42",
                "label": "+ time",
                "properties": {
                  "label": "+ time"
                },
                "start": "24",
                "thickness_factor": 1
              },
              {
                "color": "grey",
                "directed": true,
                "end": "42",
                "label": "+ plant",
                "properties": {
                  "label": "+ plant"
                },
                "start": "41",
                "thickness_factor": 1
              },
              {
                "color": "grey",
                "directed": true,
                "end": "43",
                "label": "+ tree",
                "properties": {
                  "label": "+ tree"
                },
                "start": "12",
                "thickness_factor": 1
              },
              {
                "color": "grey",
                "directed": true,
                "end": "43",
                "label": "+ mud",
                "properties": {
                  "label": "+ mud"
                },
                "start": "42",
                "thickness_factor": 1
              },
              {
                "color": "grey",
                "directed": true,
                "end": "45",
                "label": "+ life",
                "properties": {
                  "label": "+ life"
                },
                "start": "1",
                "thickness_factor": 1
              },
              {
                "color": "grey",
                "directed": true,
                "end": "45",
                "label": "+ water",
                "properties": {
                  "label": "+ water"
                },
                "start": "44",
                "thickness_factor": 1
              },
              {
                "color": "grey",
                "directed": true,
                "end": "45",
                "label": "+ life",
                "properties": {
                  "label": "+ life"
                },
                "start": "10",
                "thickness_factor": 1
              },
              {
                "color": "grey",
                "directed": true,
                "end": "45",
                "label": "+ ocean",
                "properties": {
                  "label": "+ ocean"
                },
                "start": "44",
                "thickness_factor": 1
              },
              {
                "color": "grey",
                "directed": true,
                "end": "45",
                "label": "+ life",
                "properties": {
                  "label": "+ life"
                },
                "start": "9",
                "thickness_factor": 1
              },
              {
                "color": "grey",
                "directed": true,
                "end": "45",
                "label": "+ sea",
                "properties": {
                  "label": "+ sea"
                },
                "start": "44",
                "thickness_factor": 1
              },
              {
                "color": "grey",
                "directed": true,
                "end": "46",
                "label": "+ egg",
                "properties": {
                  "label": "+ egg"
                },
                "start": "22",
                "thickness_factor": 1
              },
              {
                "color": "grey",
                "directed": true,
                "end": "46",
                "label": "+ sky",
                "properties": {
                  "label": "+ sky"
                },
                "start": "49",
                "thickness_factor": 1
              },
              {
                "color": "grey",
                "directed": true,
                "end": "46",
                "label": "+ egg",
                "properties": {
                  "label": "+ egg"
                },
                "start": "4",
                "thickness_factor": 1
              },
              {
                "color": "grey",
                "directed": true,
                "end": "46",
                "label": "+ air",
                "properties": {
                  "label": "+ air"
                },
                "start": "49",
                "thickness_factor": 1
              },
              {
                "color": "grey",
                "directed": true,
                "end": "47",
                "label": "+ bird",
                "properties": {
                  "label": "+ bird"
                },
                "start": "2",
                "thickness_factor": 1
              },
              {
                "color": "grey",
                "directed": true,
                "end": "47",
                "label": "+ fire",
                "properties": {
                  "label": "+ fire"
                },
                "start": "46",
                "thickness_factor": 1
              },
              {
                "color": "grey",
                "directed": true,
                "end": "47",
                "label": "+ life",
                "properties": {
                  "label": "+ life"
                },
                "start": "2",
                "thickness_factor": 1
              },
              {
                "color": "grey",
                "directed": true,
                "end": "47",
                "label": "+ fire",
                "properties": {
                  "label": "+ fire"
                },
                "start": "44",
                "thickness_factor": 1
              },
              {
                "color": "grey",
                "directed": true,
                "end": "47",
                "label": "+ egg",
                "properties": {
                  "label": "+ egg"
                },
                "start": "2",
                "thickness_factor": 1
              },
              {
                "color": "grey",
                "directed": true,
                "end": "47",
                "label": "+ fire",
                "properties": {
                  "label": "+ fire"
                },
                "start": "49",
                "thickness_factor": 1
              },
              {
                "color": "grey",
                "directed": true,
                "end": "48",
                "label": "+ clay",
                "properties": {
                  "label": "+ clay"
                },
                "start": "44",
                "thickness_factor": 1
              },
              {
                "color": "grey",
                "directed": true,
                "end": "48",
                "label": "+ life",
                "properties": {
                  "label": "+ life"
                },
                "start": "50",
                "thickness_factor": 1
              },
              {
                "color": "grey",
                "directed": true,
                "end": "49",
                "label": "+ bird",
                "properties": {
                  "label": "+ bird"
                },
                "start": "46",
                "thickness_factor": 1
              },
              {
                "color": "grey",
                "directed": true,
                "end": "49",
                "label": "+ phoenix",
                "properties": {
                  "label": "+ phoenix"
                },
                "start": "47",
                "thickness_factor": 1
              },
              {
                "color": "grey",
                "directed": true,
                "end": "50",
                "label": "+ sand",
                "properties": {
                  "label": "+ sand"
                },
                "start": "12",
                "thickness_factor": 1
              },
              {
                "color": "grey",
                "directed": true,
                "end": "50",
                "label": "+ mud",
                "properties": {
                  "label": "+ mud"
                },
                "start": "28",
                "thickness_factor": 1
              },
              {
                "color": "grey",
                "directed": true,
                "end": "50",
                "label": "+ stone",
                "properties": {
                  "label": "+ stone"
                },
                "start": "12",
                "thickness_factor": 1
              },
              {
                "color": "grey",
                "directed": true,
                "end": "50",
                "label": "+ mud",
                "properties": {
                  "label": "+ mud"
                },
                "start": "27",
                "thickness_factor": 1
              }
            ],
            "_graph_layout": {
              "algorithm": "hierarchic",
              "options": {}
            },
            "_highlight": [],
            "_license": {},
            "_model_module": "yfiles-jupyter-graphs",
            "_model_module_version": "^1.8.1",
            "_model_name": "GraphModel",
            "_neighborhood": {},
            "_nodes": [
              {
                "color": "#15AFAC",
                "id": "1",
                "label": "water",
                "position": [
                  0,
                  0
                ],
                "properties": {
                  "label": "water"
                },
                "scale_factor": 1,
                "size": [
                  80,
                  80
                ],
                "styles": {
                  "image": "https://littlealchemy2.com/static/icons/1.svg"
                },
                "type": "#15AFAC"
              },
              {
                "color": "#15AFAC",
                "id": "2",
                "label": "fire",
                "position": [
                  0,
                  0
                ],
                "properties": {
                  "label": "fire"
                },
                "scale_factor": 1,
                "size": [
                  80,
                  80
                ],
                "styles": {
                  "image": "https://littlealchemy2.com/static/icons/2.svg"
                },
                "type": "#15AFAC"
              },
              {
                "color": "#15AFAC",
                "id": "3",
                "label": "earth",
                "position": [
                  0,
                  0
                ],
                "properties": {
                  "label": "earth"
                },
                "scale_factor": 1,
                "size": [
                  80,
                  80
                ],
                "styles": {
                  "image": "https://littlealchemy2.com/static/icons/3.svg"
                },
                "type": "#15AFAC"
              },
              {
                "color": "#15AFAC",
                "id": "4",
                "label": "air",
                "position": [
                  0,
                  0
                ],
                "properties": {
                  "label": "air"
                },
                "scale_factor": 1,
                "size": [
                  80,
                  80
                ],
                "styles": {
                  "image": "https://littlealchemy2.com/static/icons/4.svg"
                },
                "type": "#15AFAC"
              },
              {
                "color": "#15AFAC",
                "id": "5",
                "label": "steam",
                "position": [
                  0,
                  0
                ],
                "properties": {
                  "label": "steam"
                },
                "scale_factor": 1,
                "size": [
                  55,
                  55
                ],
                "styles": {
                  "image": "https://littlealchemy2.com/static/icons/5.svg"
                },
                "type": "#15AFAC"
              },
              {
                "color": "#15AFAC",
                "id": "6",
                "label": "lava",
                "position": [
                  0,
                  0
                ],
                "properties": {
                  "label": "lava"
                },
                "scale_factor": 1,
                "size": [
                  55,
                  55
                ],
                "styles": {
                  "image": "https://littlealchemy2.com/static/icons/6.svg"
                },
                "type": "#15AFAC"
              },
              {
                "color": "#15AFAC",
                "id": "7",
                "label": "pressure",
                "position": [
                  0,
                  0
                ],
                "properties": {
                  "label": "pressure"
                },
                "scale_factor": 1,
                "size": [
                  55,
                  55
                ],
                "styles": {
                  "image": "https://littlealchemy2.com/static/icons/7.svg"
                },
                "type": "#15AFAC"
              },
              {
                "color": "#15AFAC",
                "id": "8",
                "label": "volcano",
                "position": [
                  0,
                  0
                ],
                "properties": {
                  "label": "volcano"
                },
                "scale_factor": 1,
                "size": [
                  55,
                  55
                ],
                "styles": {
                  "image": "https://littlealchemy2.com/static/icons/8.svg"
                },
                "type": "#15AFAC"
              },
              {
                "color": "#15AFAC",
                "id": "9",
                "label": "sea",
                "position": [
                  0,
                  0
                ],
                "properties": {
                  "label": "sea"
                },
                "scale_factor": 1,
                "size": [
                  55,
                  55
                ],
                "styles": {
                  "image": "https://littlealchemy2.com/static/icons/9.svg"
                },
                "type": "#15AFAC"
              },
              {
                "color": "#15AFAC",
                "id": "10",
                "label": "ocean",
                "position": [
                  0,
                  0
                ],
                "properties": {
                  "label": "ocean"
                },
                "scale_factor": 1,
                "size": [
                  55,
                  55
                ],
                "styles": {
                  "image": "https://littlealchemy2.com/static/icons/10.svg"
                },
                "type": "#15AFAC"
              },
              {
                "color": "#15AFAC",
                "id": "11",
                "label": "energy",
                "position": [
                  0,
                  0
                ],
                "properties": {
                  "label": "energy"
                },
                "scale_factor": 1,
                "size": [
                  55,
                  55
                ],
                "styles": {
                  "image": "https://littlealchemy2.com/static/icons/11.svg"
                },
                "type": "#15AFAC"
              },
              {
                "color": "#15AFAC",
                "id": "12",
                "label": "mud",
                "position": [
                  0,
                  0
                ],
                "properties": {
                  "label": "mud"
                },
                "scale_factor": 1,
                "size": [
                  55,
                  55
                ],
                "styles": {
                  "image": "https://littlealchemy2.com/static/icons/12.svg"
                },
                "type": "#15AFAC"
              },
              {
                "color": "#15AFAC",
                "id": "13",
                "label": "rain",
                "position": [
                  0,
                  0
                ],
                "properties": {
                  "label": "rain"
                },
                "scale_factor": 1,
                "size": [
                  55,
                  55
                ],
                "styles": {
                  "image": "https://littlealchemy2.com/static/icons/13.svg"
                },
                "type": "#15AFAC"
              },
              {
                "color": "#15AFAC",
                "id": "14",
                "label": "dust",
                "position": [
                  0,
                  0
                ],
                "properties": {
                  "label": "dust"
                },
                "scale_factor": 1,
                "size": [
                  55,
                  55
                ],
                "styles": {
                  "image": "https://littlealchemy2.com/static/icons/14.svg"
                },
                "type": "#15AFAC"
              },
              {
                "color": "#15AFAC",
                "id": "15",
                "label": "cloud",
                "position": [
                  0,
                  0
                ],
                "properties": {
                  "label": "cloud"
                },
                "scale_factor": 1,
                "size": [
                  55,
                  55
                ],
                "styles": {
                  "image": "https://littlealchemy2.com/static/icons/15.svg"
                },
                "type": "#15AFAC"
              },
              {
                "color": "#15AFAC",
                "id": "16",
                "label": "storm",
                "position": [
                  0,
                  0
                ],
                "properties": {
                  "label": "storm"
                },
                "scale_factor": 1,
                "size": [
                  55,
                  55
                ],
                "styles": {
                  "image": "https://littlealchemy2.com/static/icons/16.svg"
                },
                "type": "#15AFAC"
              },
              {
                "color": "#15AFAC",
                "id": "17",
                "label": "geyser",
                "position": [
                  0,
                  0
                ],
                "properties": {
                  "label": "geyser"
                },
                "scale_factor": 1,
                "size": [
                  55,
                  55
                ],
                "styles": {
                  "image": "https://littlealchemy2.com/static/icons/17.svg"
                },
                "type": "#15AFAC"
              },
              {
                "color": "#15AFAC",
                "id": "18",
                "label": "island",
                "position": [
                  0,
                  0
                ],
                "properties": {
                  "label": "island"
                },
                "scale_factor": 1,
                "size": [
                  55,
                  55
                ],
                "styles": {
                  "image": "https://littlealchemy2.com/static/icons/18.svg"
                },
                "type": "#15AFAC"
              },
              {
                "color": "#15AFAC",
                "id": "19",
                "label": "earthquake",
                "position": [
                  0,
                  0
                ],
                "properties": {
                  "label": "earthquake"
                },
                "scale_factor": 1,
                "size": [
                  55,
                  55
                ],
                "styles": {
                  "image": "https://littlealchemy2.com/static/icons/19.svg"
                },
                "type": "#15AFAC"
              },
              {
                "color": "#15AFAC",
                "id": "20",
                "label": "wind",
                "position": [
                  0,
                  0
                ],
                "properties": {
                  "label": "wind"
                },
                "scale_factor": 1,
                "size": [
                  55,
                  55
                ],
                "styles": {
                  "image": "https://littlealchemy2.com/static/icons/20.svg"
                },
                "type": "#15AFAC"
              },
              {
                "color": "#15AFAC",
                "id": "21",
                "label": "eruption",
                "position": [
                  0,
                  0
                ],
                "properties": {
                  "label": "eruption"
                },
                "scale_factor": 1,
                "size": [
                  55,
                  55
                ],
                "styles": {
                  "image": "https://littlealchemy2.com/static/icons/21.svg"
                },
                "type": "#15AFAC"
              },
              {
                "color": "#15AFAC",
                "id": "22",
                "label": "sky",
                "position": [
                  0,
                  0
                ],
                "properties": {
                  "label": "sky"
                },
                "scale_factor": 1,
                "size": [
                  55,
                  55
                ],
                "styles": {
                  "image": "https://littlealchemy2.com/static/icons/22.svg"
                },
                "type": "#15AFAC"
              },
              {
                "color": "#15AFAC",
                "id": "23",
                "label": "tornado",
                "position": [
                  0,
                  0
                ],
                "properties": {
                  "label": "tornado"
                },
                "scale_factor": 1,
                "size": [
                  55,
                  55
                ],
                "styles": {
                  "image": "https://littlealchemy2.com/static/icons/23.svg"
                },
                "type": "#15AFAC"
              },
              {
                "color": "#15AFAC",
                "id": "24",
                "label": "plant",
                "position": [
                  0,
                  0
                ],
                "properties": {
                  "label": "plant"
                },
                "scale_factor": 1,
                "size": [
                  55,
                  55
                ],
                "styles": {
                  "image": "https://littlealchemy2.com/static/icons/24.svg"
                },
                "type": "#15AFAC"
              },
              {
                "color": "#15AFAC",
                "id": "25",
                "label": "gunpowder",
                "position": [
                  0,
                  0
                ],
                "properties": {
                  "label": "gunpowder"
                },
                "scale_factor": 1,
                "size": [
                  55,
                  55
                ],
                "styles": {
                  "image": "https://littlealchemy2.com/static/icons/25.svg"
                },
                "type": "#15AFAC"
              },
              {
                "color": "#15AFAC",
                "id": "26",
                "label": "explosion",
                "position": [
                  0,
                  0
                ],
                "properties": {
                  "label": "explosion"
                },
                "scale_factor": 1,
                "size": [
                  55,
                  55
                ],
                "styles": {
                  "image": "https://littlealchemy2.com/static/icons/26.svg"
                },
                "type": "#15AFAC"
              },
              {
                "color": "#15AFAC",
                "id": "27",
                "label": "stone",
                "position": [
                  0,
                  0
                ],
                "properties": {
                  "label": "stone"
                },
                "scale_factor": 1,
                "size": [
                  55,
                  55
                ],
                "styles": {
                  "image": "https://littlealchemy2.com/static/icons/27.svg"
                },
                "type": "#15AFAC"
              },
              {
                "color": "#15AFAC",
                "id": "28",
                "label": "sand",
                "position": [
                  0,
                  0
                ],
                "properties": {
                  "label": "sand"
                },
                "scale_factor": 1,
                "size": [
                  55,
                  55
                ],
                "styles": {
                  "image": "https://littlealchemy2.com/static/icons/28.svg"
                },
                "type": "#15AFAC"
              },
              {
                "color": "#15AFAC",
                "id": "29",
                "label": "ash",
                "position": [
                  0,
                  0
                ],
                "properties": {
                  "label": "ash"
                },
                "scale_factor": 1,
                "size": [
                  55,
                  55
                ],
                "styles": {
                  "image": "https://littlealchemy2.com/static/icons/29.svg"
                },
                "type": "#15AFAC"
              },
              {
                "color": "#15AFAC",
                "id": "30",
                "label": "coal",
                "position": [
                  0,
                  0
                ],
                "properties": {
                  "label": "coal"
                },
                "scale_factor": 1,
                "size": [
                  55,
                  55
                ],
                "styles": {
                  "image": "https://littlealchemy2.com/static/icons/30.svg"
                },
                "type": "#15AFAC"
              },
              {
                "color": "#15AFAC",
                "id": "31",
                "label": "diamond",
                "position": [
                  0,
                  0
                ],
                "properties": {
                  "label": "diamond"
                },
                "scale_factor": 1,
                "size": [
                  55,
                  55
                ],
                "styles": {
                  "image": "https://littlealchemy2.com/static/icons/31.svg"
                },
                "type": "#15AFAC"
              },
              {
                "color": "#15AFAC",
                "id": "32",
                "label": "glass",
                "position": [
                  0,
                  0
                ],
                "properties": {
                  "label": "glass"
                },
                "scale_factor": 1,
                "size": [
                  55,
                  55
                ],
                "styles": {
                  "image": "https://littlealchemy2.com/static/icons/32.svg"
                },
                "type": "#15AFAC"
              },
              {
                "color": "#15AFAC",
                "id": "33",
                "label": "hourglass",
                "position": [
                  0,
                  0
                ],
                "properties": {
                  "label": "hourglass"
                },
                "scale_factor": 1,
                "size": [
                  55,
                  55
                ],
                "styles": {
                  "image": "https://littlealchemy2.com/static/icons/33.svg"
                },
                "type": "#15AFAC"
              },
              {
                "color": "#15AFAC",
                "id": "34",
                "label": "aquarium",
                "position": [
                  0,
                  0
                ],
                "properties": {
                  "label": "aquarium"
                },
                "scale_factor": 1,
                "size": [
                  55,
                  55
                ],
                "styles": {
                  "image": "https://littlealchemy2.com/static/icons/34.svg"
                },
                "type": "#15AFAC"
              },
              {
                "color": "#15AFAC",
                "id": "35",
                "label": "greenhouse",
                "position": [
                  0,
                  0
                ],
                "properties": {
                  "label": "greenhouse"
                },
                "scale_factor": 1,
                "size": [
                  55,
                  55
                ],
                "styles": {
                  "image": "https://littlealchemy2.com/static/icons/35.svg"
                },
                "type": "#15AFAC"
              },
              {
                "color": "#15AFAC",
                "id": "36",
                "label": "metal",
                "position": [
                  0,
                  0
                ],
                "properties": {
                  "label": "metal"
                },
                "scale_factor": 1,
                "size": [
                  55,
                  55
                ],
                "styles": {
                  "image": "https://littlealchemy2.com/static/icons/36.svg"
                },
                "type": "#15AFAC"
              },
              {
                "color": "#15AFAC",
                "id": "37",
                "label": "rust",
                "position": [
                  0,
                  0
                ],
                "properties": {
                  "label": "rust"
                },
                "scale_factor": 1,
                "size": [
                  55,
                  55
                ],
                "styles": {
                  "image": "https://littlealchemy2.com/static/icons/37.svg"
                },
                "type": "#15AFAC"
              },
              {
                "color": "#15AFAC",
                "id": "38",
                "label": "boiler",
                "position": [
                  0,
                  0
                ],
                "properties": {
                  "label": "boiler"
                },
                "scale_factor": 1,
                "size": [
                  55,
                  55
                ],
                "styles": {
                  "image": "https://littlealchemy2.com/static/icons/38.svg"
                },
                "type": "#15AFAC"
              },
              {
                "color": "#15AFAC",
                "id": "39",
                "label": "bullet",
                "position": [
                  0,
                  0
                ],
                "properties": {
                  "label": "bullet"
                },
                "scale_factor": 1,
                "size": [
                  55,
                  55
                ],
                "styles": {
                  "image": "https://littlealchemy2.com/static/icons/39.svg"
                },
                "type": "#15AFAC"
              },
              {
                "color": "#15AFAC",
                "id": "40",
                "label": "steel",
                "position": [
                  0,
                  0
                ],
                "properties": {
                  "label": "steel"
                },
                "scale_factor": 1,
                "size": [
                  55,
                  55
                ],
                "styles": {
                  "image": "https://littlealchemy2.com/static/icons/40.svg"
                },
                "type": "#15AFAC"
              },
              {
                "color": "#15AFAC",
                "id": "41",
                "label": "time",
                "position": [
                  0,
                  0
                ],
                "properties": {
                  "label": "time"
                },
                "scale_factor": 1,
                "size": [
                  55,
                  55
                ],
                "styles": {
                  "image": "https://littlealchemy2.com/static/icons/41.svg"
                },
                "type": "#15AFAC"
              },
              {
                "color": "#15AFAC",
                "id": "42",
                "label": "tree",
                "position": [
                  0,
                  0
                ],
                "properties": {
                  "label": "tree"
                },
                "scale_factor": 1,
                "size": [
                  55,
                  55
                ],
                "styles": {
                  "image": "https://littlealchemy2.com/static/icons/42.svg"
                },
                "type": "#15AFAC"
              },
              {
                "color": "#15AFAC",
                "id": "43",
                "label": "swamp",
                "position": [
                  0,
                  0
                ],
                "properties": {
                  "label": "swamp"
                },
                "scale_factor": 1,
                "size": [
                  55,
                  55
                ],
                "styles": {
                  "image": "https://littlealchemy2.com/static/icons/43.svg"
                },
                "type": "#15AFAC"
              },
              {
                "color": "#15AFAC",
                "id": "44",
                "label": "life",
                "position": [
                  0,
                  0
                ],
                "properties": {
                  "label": "life"
                },
                "scale_factor": 1,
                "size": [
                  55,
                  55
                ],
                "styles": {
                  "image": "https://littlealchemy2.com/static/icons/44.svg"
                },
                "type": "#15AFAC"
              },
              {
                "color": "#15AFAC",
                "id": "45",
                "label": "plankton",
                "position": [
                  0,
                  0
                ],
                "properties": {
                  "label": "plankton"
                },
                "scale_factor": 1,
                "size": [
                  55,
                  55
                ],
                "styles": {
                  "image": "https://littlealchemy2.com/static/icons/45.svg"
                },
                "type": "#15AFAC"
              },
              {
                "color": "#15AFAC",
                "id": "46",
                "label": "bird",
                "position": [
                  0,
                  0
                ],
                "properties": {
                  "label": "bird"
                },
                "scale_factor": 1,
                "size": [
                  55,
                  55
                ],
                "styles": {
                  "image": "https://littlealchemy2.com/static/icons/46.svg"
                },
                "type": "#15AFAC"
              },
              {
                "color": "#15AFAC",
                "id": "47",
                "label": "phoenix",
                "position": [
                  0,
                  0
                ],
                "properties": {
                  "label": "phoenix"
                },
                "scale_factor": 1,
                "size": [
                  55,
                  55
                ],
                "styles": {
                  "image": "https://littlealchemy2.com/static/icons/47.svg"
                },
                "type": "#15AFAC"
              },
              {
                "color": "#15AFAC",
                "id": "48",
                "label": "human",
                "position": [
                  0,
                  0
                ],
                "properties": {
                  "label": "human"
                },
                "scale_factor": 1,
                "size": [
                  55,
                  55
                ],
                "styles": {
                  "image": "https://littlealchemy2.com/static/icons/48.svg"
                },
                "type": "#15AFAC"
              },
              {
                "color": "#15AFAC",
                "id": "49",
                "label": "egg",
                "position": [
                  0,
                  0
                ],
                "properties": {
                  "label": "egg"
                },
                "scale_factor": 1,
                "size": [
                  55,
                  55
                ],
                "styles": {
                  "image": "https://littlealchemy2.com/static/icons/49.svg"
                },
                "type": "#15AFAC"
              },
              {
                "color": "#15AFAC",
                "id": "50",
                "label": "clay",
                "position": [
                  0,
                  0
                ],
                "properties": {
                  "label": "clay"
                },
                "scale_factor": 1,
                "size": [
                  55,
                  55
                ],
                "styles": {
                  "image": "https://littlealchemy2.com/static/icons/50.svg"
                },
                "type": "#15AFAC"
              }
            ],
            "_overview": {
              "enabled": false,
              "overview_set": true
            },
            "_selected_graph": [
              [],
              []
            ],
            "_sidebar": {
              "enabled": false,
              "start_with": ""
            },
            "_view_count": null,
            "_view_module": "yfiles-jupyter-graphs",
            "_view_module_version": "^1.8.1",
            "_view_name": "GraphView",
            "layout": "IPY_MODEL_2519a5ce09d44ca5a0536a6f196888f4",
            "tabbable": null,
            "tooltip": null
          }
        },
        "state": {}
      }
    }
  },
  "nbformat": 4,
  "nbformat_minor": 5
}