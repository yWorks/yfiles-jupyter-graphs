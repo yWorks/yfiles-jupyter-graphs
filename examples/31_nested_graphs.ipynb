{
  "cells": [
    {
      "cell_type": "markdown",
      "id": "95c7a78b-917a-42b6-a1a9-b3255c0667ce",
      "metadata": {
        "id": "95c7a78b-917a-42b6-a1a9-b3255c0667ce"
      },
      "source": [
        "# Nested Graphs <a target=\"_blank\" href=\"https://colab.research.google.com/github/yWorks/yfiles-jupyter-graphs/blob/main/examples/31_nested_graphs.ipynb\"><img src=\"https://colab.research.google.com/assets/colab-badge.svg\" alt=\"Open In Colab\"/></a>\n",
        "\n",
        "Before using the graph widget, install all necessary packages and initialize your widget."
      ]
    },
    {
      "cell_type": "code",
      "execution_count": 1,
      "id": "86ccab84-0881-4e14-b33d-51313ec2b85e",
      "metadata": {
        "id": "86ccab84-0881-4e14-b33d-51313ec2b85e",
        "outputId": "dcd553d5-178a-42c1-e094-4d191b3d537a",
        "colab": {
          "base_uri": "https://localhost:8080/"
        }
      },
      "outputs": [
        {
          "output_type": "stream",
          "name": "stdout",
          "text": [
            "\u001b[2K   \u001b[90m\u2501\u2501\u2501\u2501\u2501\u2501\u2501\u2501\u2501\u2501\u2501\u2501\u2501\u2501\u2501\u2501\u2501\u2501\u2501\u2501\u2501\u2501\u2501\u2501\u2501\u2501\u2501\u2501\u2501\u2501\u2501\u2501\u2501\u2501\u2501\u2501\u2501\u2501\u2501\u2501\u001b[0m \u001b[32m15.6/15.6 MB\u001b[0m \u001b[31m27.3 MB/s\u001b[0m eta \u001b[36m0:00:00\u001b[0m\n",
            "\u001b[2K   \u001b[90m\u2501\u2501\u2501\u2501\u2501\u2501\u2501\u2501\u2501\u2501\u2501\u2501\u2501\u2501\u2501\u2501\u2501\u2501\u2501\u2501\u2501\u2501\u2501\u2501\u2501\u2501\u2501\u2501\u2501\u2501\u2501\u2501\u2501\u2501\u2501\u2501\u2501\u2501\u2501\u2501\u001b[0m \u001b[32m139.8/139.8 kB\u001b[0m \u001b[31m4.3 MB/s\u001b[0m eta \u001b[36m0:00:00\u001b[0m\n",
            "\u001b[2K   \u001b[90m\u2501\u2501\u2501\u2501\u2501\u2501\u2501\u2501\u2501\u2501\u2501\u2501\u2501\u2501\u2501\u2501\u2501\u2501\u2501\u2501\u2501\u2501\u2501\u2501\u2501\u2501\u2501\u2501\u2501\u2501\u2501\u2501\u2501\u2501\u2501\u2501\u2501\u2501\u2501\u2501\u001b[0m \u001b[32m2.3/2.3 MB\u001b[0m \u001b[31m24.9 MB/s\u001b[0m eta \u001b[36m0:00:00\u001b[0m\n",
            "\u001b[?25h"
          ]
        }
      ],
      "source": [
        "%pip install yfiles_jupyter_graphs --quiet\n",
        "from yfiles_jupyter_graphs import GraphWidget"
      ]
    },
    {
      "cell_type": "markdown",
      "id": "99c91625-6682-4dcc-86ed-ff80a85d435d",
      "metadata": {
        "id": "99c91625-6682-4dcc-86ed-ff80a85d435d"
      },
      "source": [
        "You can also open this notebook in Google Colab when Google Colab's custom widget manager is enabled:"
      ]
    },
    {
      "cell_type": "code",
      "execution_count": 2,
      "id": "837b3dc2-a656-4bd1-856d-b2e4ed12b7a0",
      "metadata": {
        "id": "837b3dc2-a656-4bd1-856d-b2e4ed12b7a0"
      },
      "outputs": [],
      "source": [
        "try:\n",
        "  import google.colab\n",
        "  from google.colab import output\n",
        "  output.enable_custom_widget_manager()\n",
        "except:\n",
        "  pass"
      ]
    },
    {
      "cell_type": "markdown",
      "id": "e8af92d1-a099-4f27-b42b-7ffebff1954d",
      "metadata": {
        "id": "e8af92d1-a099-4f27-b42b-7ffebff1954d"
      },
      "source": [
        "<a target=\"_blank\" href=\"https://colab.research.google.com/github/yWorks/yfiles-jupyter-graphs/blob/main/examples/31_nested_graphs.ipynb\"><img src=\"https://colab.research.google.com/assets/colab-badge.svg\" alt=\"Open In Colab\"/></a>"
      ]
    },
    {
      "cell_type": "markdown",
      "id": "8cea83a9-2373-4dce-a9a2-353022fb1676",
      "metadata": {
        "id": "8cea83a9-2373-4dce-a9a2-353022fb1676"
      },
      "source": [
        "## Sample Data\n",
        "\n",
        "The dataset for this sample is the following airport and flight routes data:"
      ]
    },
    {
      "cell_type": "code",
      "execution_count": 3,
      "id": "0eb47bdd-d943-4820-bbc3-29d8396204ac",
      "metadata": {
        "id": "0eb47bdd-d943-4820-bbc3-29d8396204ac"
      },
      "outputs": [],
      "source": [
        "airports = [\n",
        "    {\"name\": \"Los Angeles\", \"iata\": \"LAX\", \"lat\": 33.942536, \"lng\": -118.408075, \"passengers\": 65000000, \"country\": \"USA\", \"id\": \"LAX\"}, {\"name\": \"Rio de Janeiro\", \"iata\": \"GIG\", \"lat\": -22.808903, \"lng\": -43.243647, \"passengers\": 5000000, \"country\": \"Brazil\", \"id\": \"GIG\"}, {\"name\": \"Lima\", \"iata\": \"LIM\", \"lat\": -12.021889, \"lng\": -77.114319, \"passengers\": 18000000, \"country\": \"Peru\", \"id\": \"LIM\"}, {\"name\": \"London\", \"iata\": \"LHR\", \"lat\": 51.4775, \"lng\": -0.461389, \"passengers\": 61000000, \"country\": \"UK\", \"id\": \"LHR\"},\n",
        "    {\"name\": \"Frankfurt\", \"iata\": \"FRA\", \"lat\": 50.033333, \"lng\": 8.570556, \"passengers\": 48000000, \"country\": \"Germany\", \"id\": \"FRA\"}, {\"name\": \"Moscow\", \"iata\": \"SVO\", \"lat\": 55.972642, \"lng\": 37.414589, \"passengers\": 49000000, \"country\": \"Russia\", \"id\": \"SVO\"}, {\"name\": \"New Delhi\", \"iata\": \"DEL\", \"lat\": 28.5665, \"lng\": 77.103089, \"passengers\": 39000000, \"country\": \"India\", \"id\": \"DEL\"}, {\"name\": \"Shanghai\", \"iata\": \"PVG\", \"lat\": 31.143378, \"lng\": 121.805214, \"passengers\": 32000000, \"country\": \"China\", \"id\": \"PVG\"},\n",
        "    {\"name\": \"Hongkong\", \"iata\": \"HKG\", \"lat\": 22.308919, \"lng\": 113.914603, \"passengers\": 1000000, \"country\": \"China\", \"id\": \"HKG\"}, {\"name\": \"Tokio\", \"iata\": \"NRT\", \"lat\": 35.764722, \"lng\": 140.386389, \"passengers\": 15000000, \"country\": \"Japan\", \"id\": \"NRT\"}, {\"name\": \"Dubai\", \"iata\": \"DXB\", \"lat\": 25.252778, \"lng\": 55.364444, \"passengers\": 29000000, \"country\": \"UAE\", \"id\": \"DXB\"}, {\"name\": \"Dakar\", \"iata\": \"DKR\", \"lat\": 14.670833, \"lng\": -17.072778, \"passengers\": 2000000, \"country\": \"Senegal\", \"id\": \"DKR\"},\n",
        "    {\"name\": \"Johannesburg\", \"iata\": \"JNB\", \"lat\": -26.133694, \"lng\": 28.242317, \"passengers\": 9000000, \"country\": \"South Africa\", \"id\": \"JNB\"}, {\"name\": \"Sydney\", \"iata\": \"SYD\", \"lat\": -33.946111, \"lng\": 151.177222, \"passengers\": 44000000, \"country\": \"Australia\", \"id\": \"SYD\"}, {\"name\": \"Nairobi\", \"iata\": \"NBO\", \"lat\": -1.319167, \"lng\": 36.927778, \"passengers\": 900000, \"country\": \"Kenya\", \"id\": \"NBO\"}, {\"name\": \"Atlanta\", \"iata\": \"ATL\", \"lat\": 33.639167, \"lng\": -84.427778, \"passengers\": 93000000, \"country\": \"USA\", \"id\": \"ATL\"},\n",
        "    {\"name\": \"New York City\", \"iata\": \"JFK\", \"lat\": 40.63975, \"lng\": -73.778925, \"passengers\": 55000000, \"country\": \"USA\", \"id\": \"JFK\"}, {\"name\": \"Cairo\", \"iata\": \"CAI\", \"lat\": 30.121944, \"lng\": 31.405556, \"passengers\": 14000000, \"country\": \"Egypt\", \"id\": \"CAI\"}, {\"name\": \"Casablanca\", \"iata\": \"CMN\", \"lat\": 33.367467, \"lng\": -7.589967, \"passengers\": 7000000, \"country\": \"Morocco\", \"id\": \"CMN\"}, {\"name\": \"Lagos\", \"iata\": \"LOS\", \"lat\": 6.577222, \"lng\": 3.321111, \"passengers\": 5000000, \"country\": \"Nigeria\", \"id\": \"LOS\"},\n",
        "    {\"name\": \"Cape Town\", \"iata\": \"CPT\", \"lat\": -33.969444, \"lng\": 18.597222, \"passengers\": 5000000, \"country\": \"South Africa\", \"id\": \"CPT\"}, {\"name\": \"Chengdu\", \"iata\": \"CTU\", \"lat\": 30.578333, \"lng\": 103.946944, \"passengers\": 40000000, \"country\": \"China\", \"id\": \"CTU\"}, {\"name\": \"Jakarta\", \"iata\": \"CGK\", \"lat\": -6.125567, \"lng\": 106.655897, \"passengers\": 54000000, \"country\": \"Indonesia\", \"id\": \"CGK\"}, {\"name\": \"Teheran\", \"iata\": \"IKA\", \"lat\": 35.416111, \"lng\": 51.152222, \"passengers\": 8000000, \"country\": \"Iran\", \"id\": \"IKA\"},\n",
        "    {\"name\": \"Tel Aviv\", \"iata\": \"TLV\", \"lat\": 32.011389, \"lng\": 34.886667, \"passengers\": 20000000, \"country\": \"Israel\", \"id\": \"TLV\"}, {\"name\": \"Kuala Lumpur\", \"iata\": \"KUL\", \"lat\": 2.745578, \"lng\": 101.709917, \"passengers\": 25000000, \"country\": \"Malaysia\", \"id\": \"KUL\"}, {\"name\": \"Manila\", \"iata\": \"MNL\", \"lat\": 14.508647, \"lng\": 121.019581, \"passengers\": 8000000, \"country\": \"Philippines\", \"id\": \"MNL\"}, {\"name\": \"Singapur\", \"iata\": \"SIN\", \"lat\": 1.350189, \"lng\": 103.994433, \"passengers\": 32000000, \"country\": \"Singapore\", \"id\": \"SIN\"},\n",
        "    {\"name\": \"Taipeh\", \"iata\": \"TPE\", \"lat\": 25.077732, \"lng\": 121.232822, \"passengers\": 800000, \"country\": \"Taiwan\", \"id\": \"TPE\"}, {\"name\": \"Bangkok\", \"iata\": \"BKK\", \"lat\": 13.681108, \"lng\": 100.747283, \"passengers\": 65000000, \"country\": \"Thailand\", \"id\": \"BKK\"}, {\"name\": \"Istanbul\", \"iata\": \"IST\", \"lat\": 40.976922, \"lng\": 28.814606, \"passengers\": 64000000, \"country\": \"Turkey\", \"id\": \"IST\"}, {\"name\": \"Ulaanbaatar\", \"iata\": \"ULN\", \"lat\": 47.843056, \"lng\": 106.766639, \"passengers\": 1000000, \"country\": \"Mongolia\", \"id\": \"ULN\"},\n",
        "    {\"name\": \"Melbourne\", \"iata\": \"MEL\", \"lat\": -37.673333, \"lng\": 144.843333, \"passengers\": 12000000, \"country\": \"Australia\", \"id\": \"MEL\"}, {\"name\": \"Brisbane\", \"iata\": \"BNE\", \"lat\": -27.383333, \"lng\": 153.118056, \"passengers\": 23000000, \"country\": \"Australia\", \"id\": \"BNE\"}, {\"name\": \"Nadi\", \"iata\": \"NAN\", \"lat\": -17.755392, \"lng\": 177.443378, \"passengers\": 2000000, \"country\": \"Fiji\", \"id\": \"NAN\"}, {\"name\": \"Auckland\", \"iata\": \"AKL\", \"lat\": -37.008056, \"lng\": 174.791667, \"passengers\": 21000000, \"country\": \"New Zealand\", \"id\": \"AKL\"},\n",
        "    {\"name\": \"Paris\", \"iata\": \"CDG\", \"lat\": 49.009722, \"lng\": 2.547778, \"passengers\": 57000000, \"country\": \"France\", \"id\": \"CDG\"}, {\"name\": \"Madrid\", \"iata\": \"MAD\", \"lat\": 40.4675, \"lng\": -3.551944, \"passengers\": 50000000, \"country\": \"Spain\", \"id\": \"MAD\"}, {\"name\": \"Barcelona\", \"iata\": \"BCN\", \"lat\": 41.297078, \"lng\": 2.078464, \"passengers\": 41000000, \"country\": \"Spain\", \"id\": \"BCN\"}, {\"name\": \"Rome\", \"iata\": \"FCO\", \"lat\": 41.804444, \"lng\": 12.250833, \"passengers\": 29000000, \"country\": \"Italy\", \"id\": \"FCO\"},\n",
        "    {\"name\": \"Copenhagen\", \"iata\": \"CPH\", \"lat\": 55.617917, \"lng\": 12.655972, \"passengers\": 30000000, \"country\": \"Denmark\", \"id\": \"CPH\"}, {\"name\": \"Helsinki\", \"iata\": \"HEL\", \"lat\": 60.317222, \"lng\": 24.963333, \"passengers\": 5000000, \"country\": \"Finland\", \"id\": \"HEL\"}, {\"name\": \"Athens\", \"iata\": \"ATH\", \"lat\": 37.936358, \"lng\": 23.944467, \"passengers\": 22000000, \"country\": \"Greece\", \"id\": \"ATH\"}, {\"name\": \"Dublin\", \"iata\": \"DUB\", \"lat\": 53.421333, \"lng\": -6.270075, \"passengers\": 32000000, \"country\": \"Ireland\", \"id\": \"DUB\"},\n",
        "    {\"name\": \"Reykjavik\", \"iata\": \"RKV\", \"lat\": 64.13, \"lng\": -21.940556, \"passengers\": 400000, \"country\": \"Iceland\", \"id\": \"RKV\"}, {\"name\": \"Oslo\", \"iata\": \"OSL\", \"lat\": 60.193917, \"lng\": 11.100361, \"passengers\": 9000000, \"country\": \"Norway\", \"id\": \"OSL\"}, {\"name\": \"Vienna\", \"iata\": \"VIE\", \"lat\": 48.110833, \"lng\": 16.570833, \"passengers\": 10000000, \"country\": \"Austria\", \"id\": \"VIE\"}, {\"name\": \"Lisbon\", \"iata\": \"LIS\", \"lat\": 38.774167, \"lng\": -9.134167, \"passengers\": 28000000, \"country\": \"Portugal\", \"id\": \"LIS\"},\n",
        "    {\"name\": \"Stockholm\", \"iata\": \"ARN\", \"lat\": 59.651944, \"lng\": 17.918611, \"passengers\": 7000000, \"country\": \"Sweden\", \"id\": \"ARN\"}, {\"name\": \"Edinburgh\", \"iata\": \"EDI\", \"lat\": 55.95, \"lng\": -3.3725, \"passengers\": 14000000, \"country\": \"UK\", \"id\": \"EDI\"}, {\"name\": \"Chicago\", \"iata\": \"ORD\", \"lat\": 41.978603, \"lng\": -87.904842, \"passengers\": 54000000, \"country\": \"USA\", \"id\": \"ORD\"}, {\"name\": \"Dallas\", \"iata\": \"DFW\", \"lat\": 32.896828, \"lng\": -97.037997, \"passengers\": 73000000, \"country\": \"USA\", \"id\": \"DFW\"},\n",
        "    {\"name\": \"San Francisco\", \"iata\": \"SFO\", \"lat\": 37.618972, \"lng\": -122.374889, \"passengers\": 42000000, \"country\": \"USA\", \"id\": \"SFO\"}, {\"name\": \"Las Vegas\", \"iata\": \"LAS\", \"lat\": 36.080056, \"lng\": -115.15225, \"passengers\": 52000000, \"country\": \"USA\", \"id\": \"LAS\"}, {\"name\": \"Miami\", \"iata\": \"MIA\", \"lat\": 25.79325, \"lng\": -80.290556, \"passengers\": 50000000, \"country\": \"USA\", \"id\": \"MIA\"}, {\"name\": \"Toronto\", \"iata\": \"YYZ\", \"lat\": 43.677222, \"lng\": -79.630556, \"passengers\": 12000000, \"country\": \"Canada\", \"id\": \"YYZ\"},\n",
        "    {\"name\": \"Vancouver\", \"iata\": \"YVR\", \"lat\": 49.193889, \"lng\": -123.184444, \"passengers\": 19000000, \"country\": \"Canada\", \"id\": \"YVR\"}, {\"name\": \"Montreal\", \"iata\": \"YUL\", \"lat\": 45.47175, \"lng\": -73.736569, \"passengers\": 15000000, \"country\": \"Canada\", \"id\": \"YUL\"}, {\"name\": \"Mexico-City\", \"iata\": \"MEX\", \"lat\": 19.436303, \"lng\": -99.072097, \"passengers\": 46000000, \"country\": \"Mexico\", \"id\": \"MEX\"}, {\"name\": \"Guatemala-City\", \"iata\": \"GUA\", \"lat\": 14.583272, \"lng\": -90.527475, \"passengers\": 2000000, \"country\": \"Guatemala\", \"id\": \"GUA\"},\n",
        "    {\"name\": \"Buenos Aires\", \"iata\": \"EZE\", \"lat\": -34.822222, \"lng\": -58.535833, \"passengers\": 5000000, \"country\": \"Argentina\", \"id\": \"EZE\"}, {\"name\": \"Sao Paulo\", \"iata\": \"GRU\", \"lat\": -23.432075, \"lng\": -46.469511, \"passengers\": 34000000, \"country\": \"Brazil\", \"id\": \"GRU\"}, {\"name\": \"Santiago de Chile\", \"iata\": \"SCL\", \"lat\": -33.392975, \"lng\": -70.785803, \"passengers\": 20000000, \"country\": \"Chile\", \"id\": \"SCL\"}, {\"name\": \"Brasilia\", \"iata\": \"BSB\", \"lat\": -15.871111, \"lng\": -47.918611, \"passengers\": 13000000, \"country\": \"Brazil\", \"id\": \"BSB\"},\n",
        "    {\"name\": \"Bogota\", \"iata\": \"BOG\", \"lat\": 4.701594, \"lng\": -74.146947, \"passengers\": 36000000, \"country\": \"Colombia\", \"id\": \"BOG\"}, {\"name\": \"Caracas\", \"iata\": \"CCS\", \"lat\": 10.601194, \"lng\": -66.991222, \"passengers\": 8000000, \"country\": \"Venezuela\", \"id\": \"CCS\"}\n",
        "  ]\n",
        "connections = [\n",
        "    {'from': 'LAX','to': 'JFK' },   {'from': 'JFK','to': 'GIG' },    {'from': 'JFK','to': 'LIM' },    {'from': 'JFK','to': 'LHR' },    {'from': 'GIG','to': 'FRA' },    {'from': 'LIM','to': 'GIG' },    {'from': 'FRA','to': 'JFK' },    {'from': 'LHR','to': 'FRA' },    {'from': 'FRA','to': 'SVO' },    {'from': 'FRA','to': 'DXB' },    {'from': 'SVO','to': 'DEL' },\n",
        "    {'from': 'SVO','to': 'PVG' },    {'from': 'DEL','to': 'HKG' },    {'from': 'PVG','to': 'HKG' },    {'from': 'PVG','to': 'NRT' },    {'from': 'HKG','to': 'SYD' },    {'from': 'NRT','to': 'SYD' },    {'from': 'DXB','to': 'SVO' },    {'from': 'DXB','to': 'DEL' },    {'from': 'DXB','to': 'DKR' },    {'from': 'DXB','to': 'JNB' },    {'from': 'JNB','to': 'LHR' },\n",
        "    {'from': 'JNB','to': 'DKR' },    {'from': 'SYD','to': 'DXB' },    {'from': 'NBO','to': 'JNB' },    {'from': 'NBO','to': 'DXB' },    {'from': 'ATL','to': 'JFK' },    {'from': 'LAX','to': 'ATL' },    {'from': 'ATL','to': 'LHR' },    {'from': 'ATL','to': 'LIM' },    {'from': 'SCL','to': 'LIM' },    {'from': 'EZE','to': 'SCL' },    {'from': 'SCL','to': 'GRU' },\n",
        "    {'from': 'GIG','to': 'EZE' },    {'from': 'GIG','to': 'GRU' },    {'from': 'BSB','to': 'GIG' },    {'from': 'SCL','to': 'BSB' },    {'from': 'LIM','to': 'BSB' },    {'from': 'BOG','to': 'BSB' },    {'from': 'CCS','to': 'BSB' },    {'from': 'BOG','to': 'GUA' },    {'from': 'CCS','to': 'MIA' },    {'from': 'GUA','to': 'MIA' },    {'from': 'GUA','to': 'MEX' },\n",
        "    {'from': 'MEX','to': 'LAX' },    {'from': 'MEX','to': 'LAX' },    {'from': 'LAX','to': 'SFO' },    {'from': 'SFO','to': 'YVR' },    {'from': 'LAX','to': 'LAS' },    {'from': 'LAX','to': 'DFW' },    {'from': 'LAX','to': 'ORD' },    {'from': 'SFO','to': 'LAS' },    {'from': 'DFW','to': 'ATL' },    {'from': 'ATL','to': 'YYZ' },    {'from': 'ORD','to': 'YYZ' },\n",
        "    {'from': 'YYZ','to': 'YUL' },    {'from': 'YYZ','to': 'JFK' },    {'from': 'YUL','to': 'JFK' },    {'from': 'JNB','to': 'CPT' },    {'from': 'LOS','to': 'DKR' },    {'from': 'NBO','to': 'LOS' },    {'from': 'DKR','to': 'CMN' },    {'from': 'DKR','to': 'CAI' },    {'from': 'NBO','to': 'CAI' },    {'from': 'DXB','to': 'CAI' },    {'from': 'IKA','to': 'DXB' },\n",
        "    {'from': 'IST','to': 'IKA' },    {'from': 'TLV','to': 'ATH' },    {'from': 'CAI','to': 'TLV' },    {'from': 'ATH','to': 'IST' },    {'from': 'FCO','to': 'ATH' },    {'from': 'LIS','to': 'LHR' },    {'from': 'LIS','to': 'MAD' },    {'from': 'MAD','to': 'BCN' },    {'from': 'CDG','to': 'LHR' },    {'from': 'DUB','to': 'LHR' },    {'from': 'EDI','to': 'LHR' },\n",
        "    {'from': 'CDG','to': 'BCN' },    {'from': 'BCN','to': 'FCO' },    {'from': 'VIE','to': 'IST' },    {'from': 'VIE','to': 'SVO' },    {'from': 'CMN','to': 'LIS' },    {'from': 'MAD','to': 'CMN' },    {'from': 'FRA','to': 'CPH' },    {'from': 'LHR','to': 'CPH' },    {'from': 'CPH','to': 'OSL' },    {'from': 'CPH','to': 'ARN' },    {'from': 'ARN','to': 'HEL' },\n",
        "    {'from': 'HEL','to': 'SVO' },    {'from': 'ULN','to': 'PVG' },    {'from': 'CTU','to': 'PVG' },    {'from': 'PVG','to': 'TPE' },    {'from': 'CTU','to': 'HKG' },    {'from': 'TPE','to': 'HKG' },    {'from': 'HKG','to': 'MNL' },    {'from': 'BKK','to': 'HKG' },    {'from': 'SIN','to': 'KUL' },    {'from': 'SIN','to': 'BKK' },    {'from': 'CGK','to': 'SIN' },\n",
        "    {'from': 'MNL','to': 'SIN' },    {'from': 'SIN','to': 'SYD' },    {'from': 'BNE','to': 'SYD' },    {'from': 'SYD','to': 'MEL' },    {'from': 'NAN','to': 'SYD' },    {'from': 'AKL','to': 'SYD' },    {'from': 'NAN','to': 'AKL' },    {'from': 'RKV','to': 'LHR' },    {'from': 'BCN','to': 'CDG' },    {'from': 'BCN','to': 'FRA' },    {'from': 'FCO','to': 'FRA' },\n",
        "    {'from': 'BOG','to': 'MEX' },    {'from': 'BOG','to': 'GRU' },    {'from': 'ATL','to': 'MIA' },    {'from': 'FRA','to': 'IST' },    {'from': 'IST','to': 'DEL' },    {'from': 'PVG','to': 'BKK' },    {'from': 'DEL','to': 'BKK' },\n",
        "  ]"
      ]
    },
    {
      "cell_type": "markdown",
      "id": "1970927b-c195-4135-8b10-c0ad7902abab",
      "metadata": {
        "id": "1970927b-c195-4135-8b10-c0ad7902abab"
      },
      "source": [
        "Provided as data to yFiles Jupyter Graphs results in this graph:"
      ]
    },
    {
      "cell_type": "code",
      "execution_count": 4,
      "id": "cd760fb5-88da-4343-9fc0-4dbaccae7202",
      "metadata": {
        "id": "cd760fb5-88da-4343-9fc0-4dbaccae7202",
        "outputId": "6c088327-c62a-4ddb-dd97-61d9b766c09a",
        "colab": {
          "base_uri": "https://localhost:8080/",
          "height": 817,
          "referenced_widgets": [
            "8e7a45940cb04c3f9dbd8d6026e6ad43",
            "3d2f57cdcd26430c8233bd0f301510bb"
          ]
        }
      },
      "outputs": [
        {
          "output_type": "display_data",
          "data": {
            "text/plain": [
              "GraphWidget(layout=Layout(height='800px', width='100%'))"
            ],
            "application/vnd.jupyter.widget-view+json": {
              "version_major": 2,
              "version_minor": 0,
              "model_id": "8e7a45940cb04c3f9dbd8d6026e6ad43"
            }
          },
          "metadata": {
            "application/vnd.jupyter.widget-view+json": {
              "colab": {
                "custom_widget_manager": {
                  "url": "https://ssl.gstatic.com/colaboratory-static/widgets/colab-cdn-widget-manager/2b70e893a8ba7c0f/manager.min.js"
                }
              }
            }
          }
        }
      ],
      "source": [
        "w = GraphWidget()\n",
        "w.edges = edges = [\n",
        "    {\"start\": connection['from'], \"end\": connection['to'], \"label\": \"\", \"properties\": {}, \"directed\": False}\n",
        "    for connection in connections\n",
        "]\n",
        "\n",
        "w.nodes = nodes = [\n",
        "    {\"id\": airport['iata'], \"properties\": {\"label\": airport['name'], 'passengers': airport['passengers'], 'country': airport['country']}, \"coordinates\": [airport['lat'], airport['lng']]}\n",
        "    for airport in airports\n",
        "]\n",
        "w.node_coordinate_mapping = 'coordinates' # also map the geo-coordinate data because they are available in the dataset\n",
        "display(w)"
      ]
    },
    {
      "cell_type": "markdown",
      "id": "66223c0a-fcfa-468e-a04b-6f29ff15055a",
      "metadata": {
        "id": "66223c0a-fcfa-468e-a04b-6f29ff15055a"
      },
      "source": [
        "Among other properties, each airport entry contains a `country` property which we can use as grouping key, such that the airports are grouped by country."
      ]
    },
    {
      "cell_type": "markdown",
      "id": "c0b30cf2-74c3-462f-9e62-37c6fd209887",
      "metadata": {
        "id": "c0b30cf2-74c3-462f-9e62-37c6fd209887"
      },
      "source": [
        "## Different ways to specify node grouping\n",
        "\n",
        "A different parent mapping must be used, depending on whether the group nodes are already part of the data set or not.\n",
        "\n",
        "<dl>\n",
        "    <dt><code>node_parent_mapping</code></dt>\n",
        "    <dd>\n",
        "        This mapping does not create new group node and just resolves the mapped id against the given dataset.<br>\n",
        "        Should be used when the group nodes are already <b>part of</b> the given dataset.<br>\n",
        "        See <a href=#Grouping-existing-nodes---node_parent_mapping>Grouping existing nodes</a> below.\n",
        "    </dd>\n",
        "    <dt><code>node_parent_group_mapping</code></dt>\n",
        "    <dd>\n",
        "        This mapping always creates new dicts based on the given mapping.<br>\n",
        "        Should be used when the group nodes are <b>not part of</b> the given dataset.<br>\n",
        "        See <a href=#Create-new-group-nodes---node_parent_group_mapping>Create new group nodes</a> below.\n",
        "    </dd>\n",
        "</dl>"
      ]
    },
    {
      "cell_type": "markdown",
      "id": "21d70393-a928-47d5-adb4-cdfc25c1bedd",
      "metadata": {
        "id": "21d70393-a928-47d5-adb4-cdfc25c1bedd"
      },
      "source": [
        "## Grouping existing nodes - `node_parent_mapping`\n",
        "\n",
        "This function should return an id for each given node object which is then used as group node in the widget for the respective child. If the parent node does not existing in the dataset, no grouping is created.\n",
        "\n",
        "### Adding parent nodes to the dataset\n",
        "\n",
        "This example dataset does not contain suitable group nodes, therefore we first add some to showcase this mapping. Therefore, we create artifical \"country\" nodes in the dataset to be able to group the nodes by their `country` property:"
      ]
    },
    {
      "cell_type": "code",
      "execution_count": 5,
      "id": "6c3615c0-6f70-4525-94e2-0d674f1e24d9",
      "metadata": {
        "id": "6c3615c0-6f70-4525-94e2-0d674f1e24d9"
      },
      "outputs": [],
      "source": [
        "airport_nodes = [\n",
        "    {\"id\": airport['iata'], \"properties\": {\"label\": airport['name'], 'passengers': airport['passengers'], 'country': airport['country']}, \"coordinates\": [airport['lat'], airport['lng']]}\n",
        "    for airport in airports\n",
        "]\n",
        "\n",
        "countries = []\n",
        "for airport_node in airport_nodes:\n",
        "    # collect unique countries among airports\n",
        "    airport_country = airport_node[\"properties\"][\"country\"]\n",
        "    if not any(country[\"id\"] == airport_country for country in countries):\n",
        "        countries.append({\"id\": airport_country, \"properties\": {\"label\": airport_country}})\n",
        "\n",
        "# create a nodes source with both, the unique countries (reprsenting our group nodes) and airports\n",
        "nodes_with_groups = airport_nodes + countries"
      ]
    },
    {
      "cell_type": "code",
      "execution_count": 6,
      "id": "45a57df5-955e-40b4-9862-f8fb24b3f526",
      "metadata": {
        "id": "45a57df5-955e-40b4-9862-f8fb24b3f526",
        "outputId": "4749864c-2eba-4dab-ed2b-f02d05831bc6",
        "colab": {
          "base_uri": "https://localhost:8080/"
        }
      },
      "outputs": [
        {
          "output_type": "stream",
          "name": "stdout",
          "text": [
            "Setter for the node parent mapping property.\n",
            "\n",
            "        Parameters\n",
            "        ----------\n",
            "        node_parent_mapping: callable | str\n",
            "            A function that produces node parent IDs or the name of the property to use for the parent binding.\n",
            "            The function should have the same signature as `default_node_parent_mapping`\n",
            "            e.g. take in a node dictionary and return a str or `None` value.\n",
            "            It is expected that the returned value corresponds to the ID of another node (see `nodes`). This parent node\n",
            "            is then created as a group node that groups the corresponding child nodes.\n",
            "\n",
            "        Example\n",
            "        -------\n",
            "        .. code::\n",
            "\n",
            "           from yfiles_jupyter_graphs import GraphWidget\n",
            "           w = GraphWidget()\n",
            "           def custom_node_parent_mapping(node: dict):\n",
            "           ...\n",
            "           w.set_node_parent_mapping(custom_node_parent_mapping)\n",
            "\n",
            "        Returns\n",
            "        -------\n",
            "\n",
            "        \n"
          ]
        }
      ],
      "source": [
        "print(w.set_node_parent_mapping.__doc__)"
      ]
    },
    {
      "cell_type": "markdown",
      "id": "f6ebe245-24b2-4e2f-bc48-e07eb215cbb3",
      "metadata": {
        "id": "f6ebe245-24b2-4e2f-bc48-e07eb215cbb3"
      },
      "source": [
        "For this we define a new mapping function that provides the `country` property as parent node id.\n",
        "\n",
        "Because we already enriched our datasets with respective node objects, we can use them to group the nodes by those country objects."
      ]
    },
    {
      "cell_type": "code",
      "execution_count": 7,
      "id": "359f5269-2f57-4458-96b6-802c93e3fa87",
      "metadata": {
        "id": "359f5269-2f57-4458-96b6-802c93e3fa87",
        "outputId": "5acffa37-7c62-4d6e-fdb4-28eaf09cd582",
        "colab": {
          "base_uri": "https://localhost:8080/",
          "height": 817,
          "referenced_widgets": [
            "b6e59d1cd2034df88411177d08e1cf64",
            "ac3aadd4b19c411394df2bdefaa8ecbe"
          ]
        }
      },
      "outputs": [
        {
          "output_type": "display_data",
          "data": {
            "text/plain": [
              "GraphWidget(layout=Layout(height='800px', width='100%'))"
            ],
            "application/vnd.jupyter.widget-view+json": {
              "version_major": 2,
              "version_minor": 0,
              "model_id": "b6e59d1cd2034df88411177d08e1cf64"
            }
          },
          "metadata": {
            "application/vnd.jupyter.widget-view+json": {
              "colab": {
                "custom_widget_manager": {
                  "url": "https://ssl.gstatic.com/colaboratory-static/widgets/colab-cdn-widget-manager/2b70e893a8ba7c0f/manager.min.js"
                }
              }
            }
          }
        }
      ],
      "source": [
        "w2 = GraphWidget()\n",
        "\n",
        "# use the country property as parent-id for each node\n",
        "w2.node_parent_mapping = \"country\"\n",
        "\n",
        "# assign the data\n",
        "w2.edges = edges\n",
        "w2.nodes = nodes_with_groups # dataset with distinct country node objects\n",
        "\n",
        "# also map the geo-coordinate data because they are available in the dataset\n",
        "w2.node_coordinate_mapping = \"coordinates\"\n",
        "\n",
        "display(w2)"
      ]
    },
    {
      "cell_type": "markdown",
      "id": "aca906e5-739d-4264-bd37-24fe7395970f",
      "metadata": {
        "id": "aca906e5-739d-4264-bd37-24fe7395970f"
      },
      "source": [
        "## Create new group nodes - `node_parent_group_mapping`\n",
        "\n",
        "This function creates new group nodes depending on the returned value. The returned value must either be a `str` which is used as label and id for the new group node (i.e. nodes with the same mapped `str` are grouped together), or it must be a `dict` with a mandatory `label` property and optional more key-value pairs that are added as properties to the group. These additional properties are also considered when resolving other node mappings (e.g. for the styling of group nodes)."
      ]
    },
    {
      "cell_type": "code",
      "execution_count": 8,
      "id": "172d8c2a-82fa-4907-8f86-863dc3b36269",
      "metadata": {
        "id": "172d8c2a-82fa-4907-8f86-863dc3b36269",
        "outputId": "762b3a47-6ee5-4d02-c868-c02190645937",
        "colab": {
          "base_uri": "https://localhost:8080/",
          "height": 817,
          "referenced_widgets": [
            "2d2d3d113274414f98a6c3ee367086d4",
            "eb68a6945db54daa9d0b5c7191a884d1"
          ]
        }
      },
      "outputs": [
        {
          "output_type": "display_data",
          "data": {
            "text/plain": [
              "GraphWidget(layout=Layout(height='800px', width='100%'))"
            ],
            "application/vnd.jupyter.widget-view+json": {
              "version_major": 2,
              "version_minor": 0,
              "model_id": "2d2d3d113274414f98a6c3ee367086d4"
            }
          },
          "metadata": {
            "application/vnd.jupyter.widget-view+json": {
              "colab": {
                "custom_widget_manager": {
                  "url": "https://ssl.gstatic.com/colaboratory-static/widgets/colab-cdn-widget-manager/2b70e893a8ba7c0f/manager.min.js"
                }
              }
            }
          }
        }
      ],
      "source": [
        "w3 = GraphWidget()\n",
        "\n",
        "# use the country property as parent-id for each node, note how the 'nodes' data does not contain distinct country node objects\n",
        "w3.node_parent_group_mapping = \"country\"\n",
        "\n",
        "# assign the data\n",
        "w3.edges = edges\n",
        "w3.nodes = nodes # does not contain distinct country objects\n",
        "\n",
        "# also map the geo-coordinate data because they are available in the dataset\n",
        "w3.node_coordinate_mapping = \"coordinates\"\n",
        "\n",
        "display(w3)"
      ]
    },
    {
      "cell_type": "markdown",
      "id": "2006b777-0167-44eb-b496-5b66a55a9c04",
      "metadata": {
        "id": "2006b777-0167-44eb-b496-5b66a55a9c04"
      },
      "source": [
        "## Group node styling\n",
        "\n",
        "Similar to leaf nodes, group nodes may also be styled through the node style mappings, see also [Color Mapping](./03_color_mapping.ipynb) or [Styles Mapping](./08_styles_mapping.ipynb).\n",
        "\n",
        "For example, make the group nodes gray-ish:"
      ]
    },
    {
      "cell_type": "code",
      "execution_count": 9,
      "id": "c2d3a3d7-40dc-425c-944e-a33382c67a0e",
      "metadata": {
        "id": "c2d3a3d7-40dc-425c-944e-a33382c67a0e",
        "outputId": "bfa514d4-f238-477a-f94b-78af587eb650",
        "colab": {
          "base_uri": "https://localhost:8080/",
          "height": 817,
          "referenced_widgets": [
            "3e5504df0ca54dafa952a8bf274777b8",
            "ac76137b9cfb4ba393e45e3e433acf5a"
          ]
        }
      },
      "outputs": [
        {
          "output_type": "display_data",
          "data": {
            "text/plain": [
              "GraphWidget(layout=Layout(height='800px', width='100%'))"
            ],
            "application/vnd.jupyter.widget-view+json": {
              "version_major": 2,
              "version_minor": 0,
              "model_id": "3e5504df0ca54dafa952a8bf274777b8"
            }
          },
          "metadata": {
            "application/vnd.jupyter.widget-view+json": {
              "colab": {
                "custom_widget_manager": {
                  "url": "https://ssl.gstatic.com/colaboratory-static/widgets/colab-cdn-widget-manager/2b70e893a8ba7c0f/manager.min.js"
                }
              }
            }
          }
        }
      ],
      "source": [
        "w4 = GraphWidget()\n",
        "w4.node_parent_group_mapping = \"country\"\n",
        "w4.edges = edges\n",
        "w4.nodes = nodes\n",
        "w4.node_coordinate_mapping = 'coordinates'\n",
        "\n",
        "# assign a color mapping to style country nodes differently, otherwise use the widget's default color\n",
        "w4.node_color_mapping = lambda node : None if \"passengers\" in node[\"properties\"] else \"gray\"\n",
        "\n",
        "display(w4)"
      ]
    },
    {
      "cell_type": "markdown",
      "id": "cd6096f3-8ffb-4506-9f68-e83082efacec",
      "metadata": {
        "id": "cd6096f3-8ffb-4506-9f68-e83082efacec"
      },
      "source": [
        "## Using optional group node properties\n",
        "\n",
        "The `node_parent_group_mapping` allows to create group nodes with additional properties. These properties are also suspect to node mappings, just like properties of other node objects"
      ]
    },
    {
      "cell_type": "code",
      "execution_count": 10,
      "id": "97e2f72a-858a-48f6-9a81-5a8572d4bbaf",
      "metadata": {
        "id": "97e2f72a-858a-48f6-9a81-5a8572d4bbaf",
        "outputId": "cb5655c5-d03b-4b45-d63b-8385bae39c0b",
        "colab": {
          "base_uri": "https://localhost:8080/",
          "height": 817,
          "referenced_widgets": [
            "a42ef7eeb3064c74bf2e041753e92c5a",
            "bf1ae932a1834ad5a4a2731f7517bb7d"
          ]
        }
      },
      "outputs": [
        {
          "output_type": "display_data",
          "data": {
            "text/plain": [
              "GraphWidget(layout=Layout(height='800px', width='100%'))"
            ],
            "application/vnd.jupyter.widget-view+json": {
              "version_major": 2,
              "version_minor": 0,
              "model_id": "a42ef7eeb3064c74bf2e041753e92c5a"
            }
          },
          "metadata": {
            "application/vnd.jupyter.widget-view+json": {
              "colab": {
                "custom_widget_manager": {
                  "url": "https://ssl.gstatic.com/colaboratory-static/widgets/colab-cdn-widget-manager/2b70e893a8ba7c0f/manager.min.js"
                }
              }
            }
          }
        }
      ],
      "source": [
        "w5 = GraphWidget()\n",
        "\n",
        "# assign additional properties to group nodes\n",
        "w5.node_parent_group_mapping = lambda node: {'label': node['properties']['country'], 'color': '#9F4499', 'char_count': len(node['properties']['country'])}\n",
        "\n",
        "w5.edges = edges\n",
        "w5.nodes = nodes\n",
        "w5.node_coordinate_mapping = 'coordinates'\n",
        "\n",
        "# use the additional property as color\n",
        "w5.node_color_mapping = 'color'\n",
        "\n",
        "display(w5)"
      ]
    }
  ],
  "metadata": {
    "kernelspec": {
      "display_name": "Python 3 (ipykernel)",
      "language": "python",
      "name": "python3"
    },
    "language_info": {
      "codemirror_mode": {
        "name": "ipython",
        "version": 3
      },
      "file_extension": ".py",
      "mimetype": "text/x-python",
      "name": "python",
      "nbconvert_exporter": "python",
      "pygments_lexer": "ipython3",
      "version": "3.12.3"
    },
    "widgets": {
      "application/vnd.jupyter.widget-state+json": {
        "8e7a45940cb04c3f9dbd8d6026e6ad43": {
          "model_module": "yfiles-jupyter-graphs",
          "model_name": "GraphModel",
          "model_module_version": "^1.8.1",
          "state": {
            "_context_pane_mapping": [
              {
                "id": "Neighborhood",
                "title": "Neighborhood"
              },
              {
                "id": "Data",
                "title": "Data"
              },
              {
                "id": "Search",
                "title": "Search"
              },
              {
                "id": "About",
                "title": "About"
              }
            ],
            "_data_importer": "unknown",
            "_directed": false,
            "_dom_classes": [],
            "_edges": [
              {
                "start": "LAX",
                "end": "JFK",
                "label": "",
                "properties": {},
                "directed": false,
                "color": "#15AFAC",
                "thickness_factor": 1
              },
              {
                "start": "JFK",
                "end": "GIG",
                "label": "",
                "properties": {},
                "directed": false,
                "color": "#15AFAC",
                "thickness_factor": 1
              },
              {
                "start": "JFK",
                "end": "LIM",
                "label": "",
                "properties": {},
                "directed": false,
                "color": "#15AFAC",
                "thickness_factor": 1
              },
              {
                "start": "JFK",
                "end": "LHR",
                "label": "",
                "properties": {},
                "directed": false,
                "color": "#15AFAC",
                "thickness_factor": 1
              },
              {
                "start": "GIG",
                "end": "FRA",
                "label": "",
                "properties": {},
                "directed": false,
                "color": "#15AFAC",
                "thickness_factor": 1
              },
              {
                "start": "LIM",
                "end": "GIG",
                "label": "",
                "properties": {},
                "directed": false,
                "color": "#15AFAC",
                "thickness_factor": 1
              },
              {
                "start": "FRA",
                "end": "JFK",
                "label": "",
                "properties": {},
                "directed": false,
                "color": "#15AFAC",
                "thickness_factor": 1
              },
              {
                "start": "LHR",
                "end": "FRA",
                "label": "",
                "properties": {},
                "directed": false,
                "color": "#15AFAC",
                "thickness_factor": 1
              },
              {
                "start": "FRA",
                "end": "SVO",
                "label": "",
                "properties": {},
                "directed": false,
                "color": "#15AFAC",
                "thickness_factor": 1
              },
              {
                "start": "FRA",
                "end": "DXB",
                "label": "",
                "properties": {},
                "directed": false,
                "color": "#15AFAC",
                "thickness_factor": 1
              },
              {
                "start": "SVO",
                "end": "DEL",
                "label": "",
                "properties": {},
                "directed": false,
                "color": "#15AFAC",
                "thickness_factor": 1
              },
              {
                "start": "SVO",
                "end": "PVG",
                "label": "",
                "properties": {},
                "directed": false,
                "color": "#15AFAC",
                "thickness_factor": 1
              },
              {
                "start": "DEL",
                "end": "HKG",
                "label": "",
                "properties": {},
                "directed": false,
                "color": "#15AFAC",
                "thickness_factor": 1
              },
              {
                "start": "PVG",
                "end": "HKG",
                "label": "",
                "properties": {},
                "directed": false,
                "color": "#15AFAC",
                "thickness_factor": 1
              },
              {
                "start": "PVG",
                "end": "NRT",
                "label": "",
                "properties": {},
                "directed": false,
                "color": "#15AFAC",
                "thickness_factor": 1
              },
              {
                "start": "HKG",
                "end": "SYD",
                "label": "",
                "properties": {},
                "directed": false,
                "color": "#15AFAC",
                "thickness_factor": 1
              },
              {
                "start": "NRT",
                "end": "SYD",
                "label": "",
                "properties": {},
                "directed": false,
                "color": "#15AFAC",
                "thickness_factor": 1
              },
              {
                "start": "DXB",
                "end": "SVO",
                "label": "",
                "properties": {},
                "directed": false,
                "color": "#15AFAC",
                "thickness_factor": 1
              },
              {
                "start": "DXB",
                "end": "DEL",
                "label": "",
                "properties": {},
                "directed": false,
                "color": "#15AFAC",
                "thickness_factor": 1
              },
              {
                "start": "DXB",
                "end": "DKR",
                "label": "",
                "properties": {},
                "directed": false,
                "color": "#15AFAC",
                "thickness_factor": 1
              },
              {
                "start": "DXB",
                "end": "JNB",
                "label": "",
                "properties": {},
                "directed": false,
                "color": "#15AFAC",
                "thickness_factor": 1
              },
              {
                "start": "JNB",
                "end": "LHR",
                "label": "",
                "properties": {},
                "directed": false,
                "color": "#15AFAC",
                "thickness_factor": 1
              },
              {
                "start": "JNB",
                "end": "DKR",
                "label": "",
                "properties": {},
                "directed": false,
                "color": "#15AFAC",
                "thickness_factor": 1
              },
              {
                "start": "SYD",
                "end": "DXB",
                "label": "",
                "properties": {},
                "directed": false,
                "color": "#15AFAC",
                "thickness_factor": 1
              },
              {
                "start": "NBO",
                "end": "JNB",
                "label": "",
                "properties": {},
                "directed": false,
                "color": "#15AFAC",
                "thickness_factor": 1
              },
              {
                "start": "NBO",
                "end": "DXB",
                "label": "",
                "properties": {},
                "directed": false,
                "color": "#15AFAC",
                "thickness_factor": 1
              },
              {
                "start": "ATL",
                "end": "JFK",
                "label": "",
                "properties": {},
                "directed": false,
                "color": "#15AFAC",
                "thickness_factor": 1
              },
              {
                "start": "LAX",
                "end": "ATL",
                "label": "",
                "properties": {},
                "directed": false,
                "color": "#15AFAC",
                "thickness_factor": 1
              },
              {
                "start": "ATL",
                "end": "LHR",
                "label": "",
                "properties": {},
                "directed": false,
                "color": "#15AFAC",
                "thickness_factor": 1
              },
              {
                "start": "ATL",
                "end": "LIM",
                "label": "",
                "properties": {},
                "directed": false,
                "color": "#15AFAC",
                "thickness_factor": 1
              },
              {
                "start": "SCL",
                "end": "LIM",
                "label": "",
                "properties": {},
                "directed": false,
                "color": "#15AFAC",
                "thickness_factor": 1
              },
              {
                "start": "EZE",
                "end": "SCL",
                "label": "",
                "properties": {},
                "directed": false,
                "color": "#15AFAC",
                "thickness_factor": 1
              },
              {
                "start": "SCL",
                "end": "GRU",
                "label": "",
                "properties": {},
                "directed": false,
                "color": "#15AFAC",
                "thickness_factor": 1
              },
              {
                "start": "GIG",
                "end": "EZE",
                "label": "",
                "properties": {},
                "directed": false,
                "color": "#15AFAC",
                "thickness_factor": 1
              },
              {
                "start": "GIG",
                "end": "GRU",
                "label": "",
                "properties": {},
                "directed": false,
                "color": "#15AFAC",
                "thickness_factor": 1
              },
              {
                "start": "BSB",
                "end": "GIG",
                "label": "",
                "properties": {},
                "directed": false,
                "color": "#15AFAC",
                "thickness_factor": 1
              },
              {
                "start": "SCL",
                "end": "BSB",
                "label": "",
                "properties": {},
                "directed": false,
                "color": "#15AFAC",
                "thickness_factor": 1
              },
              {
                "start": "LIM",
                "end": "BSB",
                "label": "",
                "properties": {},
                "directed": false,
                "color": "#15AFAC",
                "thickness_factor": 1
              },
              {
                "start": "BOG",
                "end": "BSB",
                "label": "",
                "properties": {},
                "directed": false,
                "color": "#15AFAC",
                "thickness_factor": 1
              },
              {
                "start": "CCS",
                "end": "BSB",
                "label": "",
                "properties": {},
                "directed": false,
                "color": "#15AFAC",
                "thickness_factor": 1
              },
              {
                "start": "BOG",
                "end": "GUA",
                "label": "",
                "properties": {},
                "directed": false,
                "color": "#15AFAC",
                "thickness_factor": 1
              },
              {
                "start": "CCS",
                "end": "MIA",
                "label": "",
                "properties": {},
                "directed": false,
                "color": "#15AFAC",
                "thickness_factor": 1
              },
              {
                "start": "GUA",
                "end": "MIA",
                "label": "",
                "properties": {},
                "directed": false,
                "color": "#15AFAC",
                "thickness_factor": 1
              },
              {
                "start": "GUA",
                "end": "MEX",
                "label": "",
                "properties": {},
                "directed": false,
                "color": "#15AFAC",
                "thickness_factor": 1
              },
              {
                "start": "MEX",
                "end": "LAX",
                "label": "",
                "properties": {},
                "directed": false,
                "color": "#15AFAC",
                "thickness_factor": 1
              },
              {
                "start": "MEX",
                "end": "LAX",
                "label": "",
                "properties": {},
                "directed": false,
                "color": "#15AFAC",
                "thickness_factor": 1
              },
              {
                "start": "LAX",
                "end": "SFO",
                "label": "",
                "properties": {},
                "directed": false,
                "color": "#15AFAC",
                "thickness_factor": 1
              },
              {
                "start": "SFO",
                "end": "YVR",
                "label": "",
                "properties": {},
                "directed": false,
                "color": "#15AFAC",
                "thickness_factor": 1
              },
              {
                "start": "LAX",
                "end": "LAS",
                "label": "",
                "properties": {},
                "directed": false,
                "color": "#15AFAC",
                "thickness_factor": 1
              },
              {
                "start": "LAX",
                "end": "DFW",
                "label": "",
                "properties": {},
                "directed": false,
                "color": "#15AFAC",
                "thickness_factor": 1
              },
              {
                "start": "LAX",
                "end": "ORD",
                "label": "",
                "properties": {},
                "directed": false,
                "color": "#15AFAC",
                "thickness_factor": 1
              },
              {
                "start": "SFO",
                "end": "LAS",
                "label": "",
                "properties": {},
                "directed": false,
                "color": "#15AFAC",
                "thickness_factor": 1
              },
              {
                "start": "DFW",
                "end": "ATL",
                "label": "",
                "properties": {},
                "directed": false,
                "color": "#15AFAC",
                "thickness_factor": 1
              },
              {
                "start": "ATL",
                "end": "YYZ",
                "label": "",
                "properties": {},
                "directed": false,
                "color": "#15AFAC",
                "thickness_factor": 1
              },
              {
                "start": "ORD",
                "end": "YYZ",
                "label": "",
                "properties": {},
                "directed": false,
                "color": "#15AFAC",
                "thickness_factor": 1
              },
              {
                "start": "YYZ",
                "end": "YUL",
                "label": "",
                "properties": {},
                "directed": false,
                "color": "#15AFAC",
                "thickness_factor": 1
              },
              {
                "start": "YYZ",
                "end": "JFK",
                "label": "",
                "properties": {},
                "directed": false,
                "color": "#15AFAC",
                "thickness_factor": 1
              },
              {
                "start": "YUL",
                "end": "JFK",
                "label": "",
                "properties": {},
                "directed": false,
                "color": "#15AFAC",
                "thickness_factor": 1
              },
              {
                "start": "JNB",
                "end": "CPT",
                "label": "",
                "properties": {},
                "directed": false,
                "color": "#15AFAC",
                "thickness_factor": 1
              },
              {
                "start": "LOS",
                "end": "DKR",
                "label": "",
                "properties": {},
                "directed": false,
                "color": "#15AFAC",
                "thickness_factor": 1
              },
              {
                "start": "NBO",
                "end": "LOS",
                "label": "",
                "properties": {},
                "directed": false,
                "color": "#15AFAC",
                "thickness_factor": 1
              },
              {
                "start": "DKR",
                "end": "CMN",
                "label": "",
                "properties": {},
                "directed": false,
                "color": "#15AFAC",
                "thickness_factor": 1
              },
              {
                "start": "DKR",
                "end": "CAI",
                "label": "",
                "properties": {},
                "directed": false,
                "color": "#15AFAC",
                "thickness_factor": 1
              },
              {
                "start": "NBO",
                "end": "CAI",
                "label": "",
                "properties": {},
                "directed": false,
                "color": "#15AFAC",
                "thickness_factor": 1
              },
              {
                "start": "DXB",
                "end": "CAI",
                "label": "",
                "properties": {},
                "directed": false,
                "color": "#15AFAC",
                "thickness_factor": 1
              },
              {
                "start": "IKA",
                "end": "DXB",
                "label": "",
                "properties": {},
                "directed": false,
                "color": "#15AFAC",
                "thickness_factor": 1
              },
              {
                "start": "IST",
                "end": "IKA",
                "label": "",
                "properties": {},
                "directed": false,
                "color": "#15AFAC",
                "thickness_factor": 1
              },
              {
                "start": "TLV",
                "end": "ATH",
                "label": "",
                "properties": {},
                "directed": false,
                "color": "#15AFAC",
                "thickness_factor": 1
              },
              {
                "start": "CAI",
                "end": "TLV",
                "label": "",
                "properties": {},
                "directed": false,
                "color": "#15AFAC",
                "thickness_factor": 1
              },
              {
                "start": "ATH",
                "end": "IST",
                "label": "",
                "properties": {},
                "directed": false,
                "color": "#15AFAC",
                "thickness_factor": 1
              },
              {
                "start": "FCO",
                "end": "ATH",
                "label": "",
                "properties": {},
                "directed": false,
                "color": "#15AFAC",
                "thickness_factor": 1
              },
              {
                "start": "LIS",
                "end": "LHR",
                "label": "",
                "properties": {},
                "directed": false,
                "color": "#15AFAC",
                "thickness_factor": 1
              },
              {
                "start": "LIS",
                "end": "MAD",
                "label": "",
                "properties": {},
                "directed": false,
                "color": "#15AFAC",
                "thickness_factor": 1
              },
              {
                "start": "MAD",
                "end": "BCN",
                "label": "",
                "properties": {},
                "directed": false,
                "color": "#15AFAC",
                "thickness_factor": 1
              },
              {
                "start": "CDG",
                "end": "LHR",
                "label": "",
                "properties": {},
                "directed": false,
                "color": "#15AFAC",
                "thickness_factor": 1
              },
              {
                "start": "DUB",
                "end": "LHR",
                "label": "",
                "properties": {},
                "directed": false,
                "color": "#15AFAC",
                "thickness_factor": 1
              },
              {
                "start": "EDI",
                "end": "LHR",
                "label": "",
                "properties": {},
                "directed": false,
                "color": "#15AFAC",
                "thickness_factor": 1
              },
              {
                "start": "CDG",
                "end": "BCN",
                "label": "",
                "properties": {},
                "directed": false,
                "color": "#15AFAC",
                "thickness_factor": 1
              },
              {
                "start": "BCN",
                "end": "FCO",
                "label": "",
                "properties": {},
                "directed": false,
                "color": "#15AFAC",
                "thickness_factor": 1
              },
              {
                "start": "VIE",
                "end": "IST",
                "label": "",
                "properties": {},
                "directed": false,
                "color": "#15AFAC",
                "thickness_factor": 1
              },
              {
                "start": "VIE",
                "end": "SVO",
                "label": "",
                "properties": {},
                "directed": false,
                "color": "#15AFAC",
                "thickness_factor": 1
              },
              {
                "start": "CMN",
                "end": "LIS",
                "label": "",
                "properties": {},
                "directed": false,
                "color": "#15AFAC",
                "thickness_factor": 1
              },
              {
                "start": "MAD",
                "end": "CMN",
                "label": "",
                "properties": {},
                "directed": false,
                "color": "#15AFAC",
                "thickness_factor": 1
              },
              {
                "start": "FRA",
                "end": "CPH",
                "label": "",
                "properties": {},
                "directed": false,
                "color": "#15AFAC",
                "thickness_factor": 1
              },
              {
                "start": "LHR",
                "end": "CPH",
                "label": "",
                "properties": {},
                "directed": false,
                "color": "#15AFAC",
                "thickness_factor": 1
              },
              {
                "start": "CPH",
                "end": "OSL",
                "label": "",
                "properties": {},
                "directed": false,
                "color": "#15AFAC",
                "thickness_factor": 1
              },
              {
                "start": "CPH",
                "end": "ARN",
                "label": "",
                "properties": {},
                "directed": false,
                "color": "#15AFAC",
                "thickness_factor": 1
              },
              {
                "start": "ARN",
                "end": "HEL",
                "label": "",
                "properties": {},
                "directed": false,
                "color": "#15AFAC",
                "thickness_factor": 1
              },
              {
                "start": "HEL",
                "end": "SVO",
                "label": "",
                "properties": {},
                "directed": false,
                "color": "#15AFAC",
                "thickness_factor": 1
              },
              {
                "start": "ULN",
                "end": "PVG",
                "label": "",
                "properties": {},
                "directed": false,
                "color": "#15AFAC",
                "thickness_factor": 1
              },
              {
                "start": "CTU",
                "end": "PVG",
                "label": "",
                "properties": {},
                "directed": false,
                "color": "#15AFAC",
                "thickness_factor": 1
              },
              {
                "start": "PVG",
                "end": "TPE",
                "label": "",
                "properties": {},
                "directed": false,
                "color": "#15AFAC",
                "thickness_factor": 1
              },
              {
                "start": "CTU",
                "end": "HKG",
                "label": "",
                "properties": {},
                "directed": false,
                "color": "#15AFAC",
                "thickness_factor": 1
              },
              {
                "start": "TPE",
                "end": "HKG",
                "label": "",
                "properties": {},
                "directed": false,
                "color": "#15AFAC",
                "thickness_factor": 1
              },
              {
                "start": "HKG",
                "end": "MNL",
                "label": "",
                "properties": {},
                "directed": false,
                "color": "#15AFAC",
                "thickness_factor": 1
              },
              {
                "start": "BKK",
                "end": "HKG",
                "label": "",
                "properties": {},
                "directed": false,
                "color": "#15AFAC",
                "thickness_factor": 1
              },
              {
                "start": "SIN",
                "end": "KUL",
                "label": "",
                "properties": {},
                "directed": false,
                "color": "#15AFAC",
                "thickness_factor": 1
              },
              {
                "start": "SIN",
                "end": "BKK",
                "label": "",
                "properties": {},
                "directed": false,
                "color": "#15AFAC",
                "thickness_factor": 1
              },
              {
                "start": "CGK",
                "end": "SIN",
                "label": "",
                "properties": {},
                "directed": false,
                "color": "#15AFAC",
                "thickness_factor": 1
              },
              {
                "start": "MNL",
                "end": "SIN",
                "label": "",
                "properties": {},
                "directed": false,
                "color": "#15AFAC",
                "thickness_factor": 1
              },
              {
                "start": "SIN",
                "end": "SYD",
                "label": "",
                "properties": {},
                "directed": false,
                "color": "#15AFAC",
                "thickness_factor": 1
              },
              {
                "start": "BNE",
                "end": "SYD",
                "label": "",
                "properties": {},
                "directed": false,
                "color": "#15AFAC",
                "thickness_factor": 1
              },
              {
                "start": "SYD",
                "end": "MEL",
                "label": "",
                "properties": {},
                "directed": false,
                "color": "#15AFAC",
                "thickness_factor": 1
              },
              {
                "start": "NAN",
                "end": "SYD",
                "label": "",
                "properties": {},
                "directed": false,
                "color": "#15AFAC",
                "thickness_factor": 1
              },
              {
                "start": "AKL",
                "end": "SYD",
                "label": "",
                "properties": {},
                "directed": false,
                "color": "#15AFAC",
                "thickness_factor": 1
              },
              {
                "start": "NAN",
                "end": "AKL",
                "label": "",
                "properties": {},
                "directed": false,
                "color": "#15AFAC",
                "thickness_factor": 1
              },
              {
                "start": "RKV",
                "end": "LHR",
                "label": "",
                "properties": {},
                "directed": false,
                "color": "#15AFAC",
                "thickness_factor": 1
              },
              {
                "start": "BCN",
                "end": "CDG",
                "label": "",
                "properties": {},
                "directed": false,
                "color": "#15AFAC",
                "thickness_factor": 1
              },
              {
                "start": "BCN",
                "end": "FRA",
                "label": "",
                "properties": {},
                "directed": false,
                "color": "#15AFAC",
                "thickness_factor": 1
              },
              {
                "start": "FCO",
                "end": "FRA",
                "label": "",
                "properties": {},
                "directed": false,
                "color": "#15AFAC",
                "thickness_factor": 1
              },
              {
                "start": "BOG",
                "end": "MEX",
                "label": "",
                "properties": {},
                "directed": false,
                "color": "#15AFAC",
                "thickness_factor": 1
              },
              {
                "start": "BOG",
                "end": "GRU",
                "label": "",
                "properties": {},
                "directed": false,
                "color": "#15AFAC",
                "thickness_factor": 1
              },
              {
                "start": "ATL",
                "end": "MIA",
                "label": "",
                "properties": {},
                "directed": false,
                "color": "#15AFAC",
                "thickness_factor": 1
              },
              {
                "start": "FRA",
                "end": "IST",
                "label": "",
                "properties": {},
                "directed": false,
                "color": "#15AFAC",
                "thickness_factor": 1
              },
              {
                "start": "IST",
                "end": "DEL",
                "label": "",
                "properties": {},
                "directed": false,
                "color": "#15AFAC",
                "thickness_factor": 1
              },
              {
                "start": "PVG",
                "end": "BKK",
                "label": "",
                "properties": {},
                "directed": false,
                "color": "#15AFAC",
                "thickness_factor": 1
              },
              {
                "start": "DEL",
                "end": "BKK",
                "label": "",
                "properties": {},
                "directed": false,
                "color": "#15AFAC",
                "thickness_factor": 1
              }
            ],
            "_graph_layout": {},
            "_highlight": [],
            "_license": {},
            "_model_module": "yfiles-jupyter-graphs",
            "_model_module_version": "^1.8.1",
            "_model_name": "GraphModel",
            "_neighborhood": {},
            "_nodes": [
              {
                "id": "LAX",
                "properties": {
                  "label": "Los Angeles",
                  "passengers": 65000000,
                  "country": "USA"
                },
                "coordinates": [
                  33.942536,
                  -118.408075
                ],
                "color": "#15AFAC",
                "styles": {},
                "label": "Los Angeles",
                "scale_factor": 1,
                "type": "#15AFAC",
                "size": [
                  55,
                  55
                ],
                "position": [
                  0,
                  0
                ]
              },
              {
                "id": "GIG",
                "properties": {
                  "label": "Rio de Janeiro",
                  "passengers": 5000000,
                  "country": "Brazil"
                },
                "coordinates": [
                  -22.808903,
                  -43.243647
                ],
                "color": "#15AFAC",
                "styles": {},
                "label": "Rio de Janeiro",
                "scale_factor": 1,
                "type": "#15AFAC",
                "size": [
                  55,
                  55
                ],
                "position": [
                  0,
                  0
                ]
              },
              {
                "id": "LIM",
                "properties": {
                  "label": "Lima",
                  "passengers": 18000000,
                  "country": "Peru"
                },
                "coordinates": [
                  -12.021889,
                  -77.114319
                ],
                "color": "#15AFAC",
                "styles": {},
                "label": "Lima",
                "scale_factor": 1,
                "type": "#15AFAC",
                "size": [
                  55,
                  55
                ],
                "position": [
                  0,
                  0
                ]
              },
              {
                "id": "LHR",
                "properties": {
                  "label": "London",
                  "passengers": 61000000,
                  "country": "UK"
                },
                "coordinates": [
                  51.4775,
                  -0.461389
                ],
                "color": "#15AFAC",
                "styles": {},
                "label": "London",
                "scale_factor": 1,
                "type": "#15AFAC",
                "size": [
                  55,
                  55
                ],
                "position": [
                  0,
                  0
                ]
              },
              {
                "id": "FRA",
                "properties": {
                  "label": "Frankfurt",
                  "passengers": 48000000,
                  "country": "Germany"
                },
                "coordinates": [
                  50.033333,
                  8.570556
                ],
                "color": "#15AFAC",
                "styles": {},
                "label": "Frankfurt",
                "scale_factor": 1,
                "type": "#15AFAC",
                "size": [
                  55,
                  55
                ],
                "position": [
                  0,
                  0
                ]
              },
              {
                "id": "SVO",
                "properties": {
                  "label": "Moscow",
                  "passengers": 49000000,
                  "country": "Russia"
                },
                "coordinates": [
                  55.972642,
                  37.414589
                ],
                "color": "#15AFAC",
                "styles": {},
                "label": "Moscow",
                "scale_factor": 1,
                "type": "#15AFAC",
                "size": [
                  55,
                  55
                ],
                "position": [
                  0,
                  0
                ]
              },
              {
                "id": "DEL",
                "properties": {
                  "label": "New Delhi",
                  "passengers": 39000000,
                  "country": "India"
                },
                "coordinates": [
                  28.5665,
                  77.103089
                ],
                "color": "#15AFAC",
                "styles": {},
                "label": "New Delhi",
                "scale_factor": 1,
                "type": "#15AFAC",
                "size": [
                  55,
                  55
                ],
                "position": [
                  0,
                  0
                ]
              },
              {
                "id": "PVG",
                "properties": {
                  "label": "Shanghai",
                  "passengers": 32000000,
                  "country": "China"
                },
                "coordinates": [
                  31.143378,
                  121.805214
                ],
                "color": "#15AFAC",
                "styles": {},
                "label": "Shanghai",
                "scale_factor": 1,
                "type": "#15AFAC",
                "size": [
                  55,
                  55
                ],
                "position": [
                  0,
                  0
                ]
              },
              {
                "id": "HKG",
                "properties": {
                  "label": "Hongkong",
                  "passengers": 1000000,
                  "country": "China"
                },
                "coordinates": [
                  22.308919,
                  113.914603
                ],
                "color": "#15AFAC",
                "styles": {},
                "label": "Hongkong",
                "scale_factor": 1,
                "type": "#15AFAC",
                "size": [
                  55,
                  55
                ],
                "position": [
                  0,
                  0
                ]
              },
              {
                "id": "NRT",
                "properties": {
                  "label": "Tokio",
                  "passengers": 15000000,
                  "country": "Japan"
                },
                "coordinates": [
                  35.764722,
                  140.386389
                ],
                "color": "#15AFAC",
                "styles": {},
                "label": "Tokio",
                "scale_factor": 1,
                "type": "#15AFAC",
                "size": [
                  55,
                  55
                ],
                "position": [
                  0,
                  0
                ]
              },
              {
                "id": "DXB",
                "properties": {
                  "label": "Dubai",
                  "passengers": 29000000,
                  "country": "UAE"
                },
                "coordinates": [
                  25.252778,
                  55.364444
                ],
                "color": "#15AFAC",
                "styles": {},
                "label": "Dubai",
                "scale_factor": 1,
                "type": "#15AFAC",
                "size": [
                  55,
                  55
                ],
                "position": [
                  0,
                  0
                ]
              },
              {
                "id": "DKR",
                "properties": {
                  "label": "Dakar",
                  "passengers": 2000000,
                  "country": "Senegal"
                },
                "coordinates": [
                  14.670833,
                  -17.072778
                ],
                "color": "#15AFAC",
                "styles": {},
                "label": "Dakar",
                "scale_factor": 1,
                "type": "#15AFAC",
                "size": [
                  55,
                  55
                ],
                "position": [
                  0,
                  0
                ]
              },
              {
                "id": "JNB",
                "properties": {
                  "label": "Johannesburg",
                  "passengers": 9000000,
                  "country": "South Africa"
                },
                "coordinates": [
                  -26.133694,
                  28.242317
                ],
                "color": "#15AFAC",
                "styles": {},
                "label": "Johannesburg",
                "scale_factor": 1,
                "type": "#15AFAC",
                "size": [
                  55,
                  55
                ],
                "position": [
                  0,
                  0
                ]
              },
              {
                "id": "SYD",
                "properties": {
                  "label": "Sydney",
                  "passengers": 44000000,
                  "country": "Australia"
                },
                "coordinates": [
                  -33.946111,
                  151.177222
                ],
                "color": "#15AFAC",
                "styles": {},
                "label": "Sydney",
                "scale_factor": 1,
                "type": "#15AFAC",
                "size": [
                  55,
                  55
                ],
                "position": [
                  0,
                  0
                ]
              },
              {
                "id": "NBO",
                "properties": {
                  "label": "Nairobi",
                  "passengers": 900000,
                  "country": "Kenya"
                },
                "coordinates": [
                  -1.319167,
                  36.927778
                ],
                "color": "#15AFAC",
                "styles": {},
                "label": "Nairobi",
                "scale_factor": 1,
                "type": "#15AFAC",
                "size": [
                  55,
                  55
                ],
                "position": [
                  0,
                  0
                ]
              },
              {
                "id": "ATL",
                "properties": {
                  "label": "Atlanta",
                  "passengers": 93000000,
                  "country": "USA"
                },
                "coordinates": [
                  33.639167,
                  -84.427778
                ],
                "color": "#15AFAC",
                "styles": {},
                "label": "Atlanta",
                "scale_factor": 1,
                "type": "#15AFAC",
                "size": [
                  55,
                  55
                ],
                "position": [
                  0,
                  0
                ]
              },
              {
                "id": "JFK",
                "properties": {
                  "label": "New York City",
                  "passengers": 55000000,
                  "country": "USA"
                },
                "coordinates": [
                  40.63975,
                  -73.778925
                ],
                "color": "#15AFAC",
                "styles": {},
                "label": "New York City",
                "scale_factor": 1,
                "type": "#15AFAC",
                "size": [
                  55,
                  55
                ],
                "position": [
                  0,
                  0
                ]
              },
              {
                "id": "CAI",
                "properties": {
                  "label": "Cairo",
                  "passengers": 14000000,
                  "country": "Egypt"
                },
                "coordinates": [
                  30.121944,
                  31.405556
                ],
                "color": "#15AFAC",
                "styles": {},
                "label": "Cairo",
                "scale_factor": 1,
                "type": "#15AFAC",
                "size": [
                  55,
                  55
                ],
                "position": [
                  0,
                  0
                ]
              },
              {
                "id": "CMN",
                "properties": {
                  "label": "Casablanca",
                  "passengers": 7000000,
                  "country": "Morocco"
                },
                "coordinates": [
                  33.367467,
                  -7.589967
                ],
                "color": "#15AFAC",
                "styles": {},
                "label": "Casablanca",
                "scale_factor": 1,
                "type": "#15AFAC",
                "size": [
                  55,
                  55
                ],
                "position": [
                  0,
                  0
                ]
              },
              {
                "id": "LOS",
                "properties": {
                  "label": "Lagos",
                  "passengers": 5000000,
                  "country": "Nigeria"
                },
                "coordinates": [
                  6.577222,
                  3.321111
                ],
                "color": "#15AFAC",
                "styles": {},
                "label": "Lagos",
                "scale_factor": 1,
                "type": "#15AFAC",
                "size": [
                  55,
                  55
                ],
                "position": [
                  0,
                  0
                ]
              },
              {
                "id": "CPT",
                "properties": {
                  "label": "Cape Town",
                  "passengers": 5000000,
                  "country": "South Africa"
                },
                "coordinates": [
                  -33.969444,
                  18.597222
                ],
                "color": "#15AFAC",
                "styles": {},
                "label": "Cape Town",
                "scale_factor": 1,
                "type": "#15AFAC",
                "size": [
                  55,
                  55
                ],
                "position": [
                  0,
                  0
                ]
              },
              {
                "id": "CTU",
                "properties": {
                  "label": "Chengdu",
                  "passengers": 40000000,
                  "country": "China"
                },
                "coordinates": [
                  30.578333,
                  103.946944
                ],
                "color": "#15AFAC",
                "styles": {},
                "label": "Chengdu",
                "scale_factor": 1,
                "type": "#15AFAC",
                "size": [
                  55,
                  55
                ],
                "position": [
                  0,
                  0
                ]
              },
              {
                "id": "CGK",
                "properties": {
                  "label": "Jakarta",
                  "passengers": 54000000,
                  "country": "Indonesia"
                },
                "coordinates": [
                  -6.125567,
                  106.655897
                ],
                "color": "#15AFAC",
                "styles": {},
                "label": "Jakarta",
                "scale_factor": 1,
                "type": "#15AFAC",
                "size": [
                  55,
                  55
                ],
                "position": [
                  0,
                  0
                ]
              },
              {
                "id": "IKA",
                "properties": {
                  "label": "Teheran",
                  "passengers": 8000000,
                  "country": "Iran"
                },
                "coordinates": [
                  35.416111,
                  51.152222
                ],
                "color": "#15AFAC",
                "styles": {},
                "label": "Teheran",
                "scale_factor": 1,
                "type": "#15AFAC",
                "size": [
                  55,
                  55
                ],
                "position": [
                  0,
                  0
                ]
              },
              {
                "id": "TLV",
                "properties": {
                  "label": "Tel Aviv",
                  "passengers": 20000000,
                  "country": "Israel"
                },
                "coordinates": [
                  32.011389,
                  34.886667
                ],
                "color": "#15AFAC",
                "styles": {},
                "label": "Tel Aviv",
                "scale_factor": 1,
                "type": "#15AFAC",
                "size": [
                  55,
                  55
                ],
                "position": [
                  0,
                  0
                ]
              },
              {
                "id": "KUL",
                "properties": {
                  "label": "Kuala Lumpur",
                  "passengers": 25000000,
                  "country": "Malaysia"
                },
                "coordinates": [
                  2.745578,
                  101.709917
                ],
                "color": "#15AFAC",
                "styles": {},
                "label": "Kuala Lumpur",
                "scale_factor": 1,
                "type": "#15AFAC",
                "size": [
                  55,
                  55
                ],
                "position": [
                  0,
                  0
                ]
              },
              {
                "id": "MNL",
                "properties": {
                  "label": "Manila",
                  "passengers": 8000000,
                  "country": "Philippines"
                },
                "coordinates": [
                  14.508647,
                  121.019581
                ],
                "color": "#15AFAC",
                "styles": {},
                "label": "Manila",
                "scale_factor": 1,
                "type": "#15AFAC",
                "size": [
                  55,
                  55
                ],
                "position": [
                  0,
                  0
                ]
              },
              {
                "id": "SIN",
                "properties": {
                  "label": "Singapur",
                  "passengers": 32000000,
                  "country": "Singapore"
                },
                "coordinates": [
                  1.350189,
                  103.994433
                ],
                "color": "#15AFAC",
                "styles": {},
                "label": "Singapur",
                "scale_factor": 1,
                "type": "#15AFAC",
                "size": [
                  55,
                  55
                ],
                "position": [
                  0,
                  0
                ]
              },
              {
                "id": "TPE",
                "properties": {
                  "label": "Taipeh",
                  "passengers": 800000,
                  "country": "Taiwan"
                },
                "coordinates": [
                  25.077732,
                  121.232822
                ],
                "color": "#15AFAC",
                "styles": {},
                "label": "Taipeh",
                "scale_factor": 1,
                "type": "#15AFAC",
                "size": [
                  55,
                  55
                ],
                "position": [
                  0,
                  0
                ]
              },
              {
                "id": "BKK",
                "properties": {
                  "label": "Bangkok",
                  "passengers": 65000000,
                  "country": "Thailand"
                },
                "coordinates": [
                  13.681108,
                  100.747283
                ],
                "color": "#15AFAC",
                "styles": {},
                "label": "Bangkok",
                "scale_factor": 1,
                "type": "#15AFAC",
                "size": [
                  55,
                  55
                ],
                "position": [
                  0,
                  0
                ]
              },
              {
                "id": "IST",
                "properties": {
                  "label": "Istanbul",
                  "passengers": 64000000,
                  "country": "Turkey"
                },
                "coordinates": [
                  40.976922,
                  28.814606
                ],
                "color": "#15AFAC",
                "styles": {},
                "label": "Istanbul",
                "scale_factor": 1,
                "type": "#15AFAC",
                "size": [
                  55,
                  55
                ],
                "position": [
                  0,
                  0
                ]
              },
              {
                "id": "ULN",
                "properties": {
                  "label": "Ulaanbaatar",
                  "passengers": 1000000,
                  "country": "Mongolia"
                },
                "coordinates": [
                  47.843056,
                  106.766639
                ],
                "color": "#15AFAC",
                "styles": {},
                "label": "Ulaanbaatar",
                "scale_factor": 1,
                "type": "#15AFAC",
                "size": [
                  55,
                  55
                ],
                "position": [
                  0,
                  0
                ]
              },
              {
                "id": "MEL",
                "properties": {
                  "label": "Melbourne",
                  "passengers": 12000000,
                  "country": "Australia"
                },
                "coordinates": [
                  -37.673333,
                  144.843333
                ],
                "color": "#15AFAC",
                "styles": {},
                "label": "Melbourne",
                "scale_factor": 1,
                "type": "#15AFAC",
                "size": [
                  55,
                  55
                ],
                "position": [
                  0,
                  0
                ]
              },
              {
                "id": "BNE",
                "properties": {
                  "label": "Brisbane",
                  "passengers": 23000000,
                  "country": "Australia"
                },
                "coordinates": [
                  -27.383333,
                  153.118056
                ],
                "color": "#15AFAC",
                "styles": {},
                "label": "Brisbane",
                "scale_factor": 1,
                "type": "#15AFAC",
                "size": [
                  55,
                  55
                ],
                "position": [
                  0,
                  0
                ]
              },
              {
                "id": "NAN",
                "properties": {
                  "label": "Nadi",
                  "passengers": 2000000,
                  "country": "Fiji"
                },
                "coordinates": [
                  -17.755392,
                  177.443378
                ],
                "color": "#15AFAC",
                "styles": {},
                "label": "Nadi",
                "scale_factor": 1,
                "type": "#15AFAC",
                "size": [
                  55,
                  55
                ],
                "position": [
                  0,
                  0
                ]
              },
              {
                "id": "AKL",
                "properties": {
                  "label": "Auckland",
                  "passengers": 21000000,
                  "country": "New Zealand"
                },
                "coordinates": [
                  -37.008056,
                  174.791667
                ],
                "color": "#15AFAC",
                "styles": {},
                "label": "Auckland",
                "scale_factor": 1,
                "type": "#15AFAC",
                "size": [
                  55,
                  55
                ],
                "position": [
                  0,
                  0
                ]
              },
              {
                "id": "CDG",
                "properties": {
                  "label": "Paris",
                  "passengers": 57000000,
                  "country": "France"
                },
                "coordinates": [
                  49.009722,
                  2.547778
                ],
                "color": "#15AFAC",
                "styles": {},
                "label": "Paris",
                "scale_factor": 1,
                "type": "#15AFAC",
                "size": [
                  55,
                  55
                ],
                "position": [
                  0,
                  0
                ]
              },
              {
                "id": "MAD",
                "properties": {
                  "label": "Madrid",
                  "passengers": 50000000,
                  "country": "Spain"
                },
                "coordinates": [
                  40.4675,
                  -3.551944
                ],
                "color": "#15AFAC",
                "styles": {},
                "label": "Madrid",
                "scale_factor": 1,
                "type": "#15AFAC",
                "size": [
                  55,
                  55
                ],
                "position": [
                  0,
                  0
                ]
              },
              {
                "id": "BCN",
                "properties": {
                  "label": "Barcelona",
                  "passengers": 41000000,
                  "country": "Spain"
                },
                "coordinates": [
                  41.297078,
                  2.078464
                ],
                "color": "#15AFAC",
                "styles": {},
                "label": "Barcelona",
                "scale_factor": 1,
                "type": "#15AFAC",
                "size": [
                  55,
                  55
                ],
                "position": [
                  0,
                  0
                ]
              },
              {
                "id": "FCO",
                "properties": {
                  "label": "Rome",
                  "passengers": 29000000,
                  "country": "Italy"
                },
                "coordinates": [
                  41.804444,
                  12.250833
                ],
                "color": "#15AFAC",
                "styles": {},
                "label": "Rome",
                "scale_factor": 1,
                "type": "#15AFAC",
                "size": [
                  55,
                  55
                ],
                "position": [
                  0,
                  0
                ]
              },
              {
                "id": "CPH",
                "properties": {
                  "label": "Copenhagen",
                  "passengers": 30000000,
                  "country": "Denmark"
                },
                "coordinates": [
                  55.617917,
                  12.655972
                ],
                "color": "#15AFAC",
                "styles": {},
                "label": "Copenhagen",
                "scale_factor": 1,
                "type": "#15AFAC",
                "size": [
                  55,
                  55
                ],
                "position": [
                  0,
                  0
                ]
              },
              {
                "id": "HEL",
                "properties": {
                  "label": "Helsinki",
                  "passengers": 5000000,
                  "country": "Finland"
                },
                "coordinates": [
                  60.317222,
                  24.963333
                ],
                "color": "#15AFAC",
                "styles": {},
                "label": "Helsinki",
                "scale_factor": 1,
                "type": "#15AFAC",
                "size": [
                  55,
                  55
                ],
                "position": [
                  0,
                  0
                ]
              },
              {
                "id": "ATH",
                "properties": {
                  "label": "Athens",
                  "passengers": 22000000,
                  "country": "Greece"
                },
                "coordinates": [
                  37.936358,
                  23.944467
                ],
                "color": "#15AFAC",
                "styles": {},
                "label": "Athens",
                "scale_factor": 1,
                "type": "#15AFAC",
                "size": [
                  55,
                  55
                ],
                "position": [
                  0,
                  0
                ]
              },
              {
                "id": "DUB",
                "properties": {
                  "label": "Dublin",
                  "passengers": 32000000,
                  "country": "Ireland"
                },
                "coordinates": [
                  53.421333,
                  -6.270075
                ],
                "color": "#15AFAC",
                "styles": {},
                "label": "Dublin",
                "scale_factor": 1,
                "type": "#15AFAC",
                "size": [
                  55,
                  55
                ],
                "position": [
                  0,
                  0
                ]
              },
              {
                "id": "RKV",
                "properties": {
                  "label": "Reykjavik",
                  "passengers": 400000,
                  "country": "Iceland"
                },
                "coordinates": [
                  64.13,
                  -21.940556
                ],
                "color": "#15AFAC",
                "styles": {},
                "label": "Reykjavik",
                "scale_factor": 1,
                "type": "#15AFAC",
                "size": [
                  55,
                  55
                ],
                "position": [
                  0,
                  0
                ]
              },
              {
                "id": "OSL",
                "properties": {
                  "label": "Oslo",
                  "passengers": 9000000,
                  "country": "Norway"
                },
                "coordinates": [
                  60.193917,
                  11.100361
                ],
                "color": "#15AFAC",
                "styles": {},
                "label": "Oslo",
                "scale_factor": 1,
                "type": "#15AFAC",
                "size": [
                  55,
                  55
                ],
                "position": [
                  0,
                  0
                ]
              },
              {
                "id": "VIE",
                "properties": {
                  "label": "Vienna",
                  "passengers": 10000000,
                  "country": "Austria"
                },
                "coordinates": [
                  48.110833,
                  16.570833
                ],
                "color": "#15AFAC",
                "styles": {},
                "label": "Vienna",
                "scale_factor": 1,
                "type": "#15AFAC",
                "size": [
                  55,
                  55
                ],
                "position": [
                  0,
                  0
                ]
              },
              {
                "id": "LIS",
                "properties": {
                  "label": "Lisbon",
                  "passengers": 28000000,
                  "country": "Portugal"
                },
                "coordinates": [
                  38.774167,
                  -9.134167
                ],
                "color": "#15AFAC",
                "styles": {},
                "label": "Lisbon",
                "scale_factor": 1,
                "type": "#15AFAC",
                "size": [
                  55,
                  55
                ],
                "position": [
                  0,
                  0
                ]
              },
              {
                "id": "ARN",
                "properties": {
                  "label": "Stockholm",
                  "passengers": 7000000,
                  "country": "Sweden"
                },
                "coordinates": [
                  59.651944,
                  17.918611
                ],
                "color": "#15AFAC",
                "styles": {},
                "label": "Stockholm",
                "scale_factor": 1,
                "type": "#15AFAC",
                "size": [
                  55,
                  55
                ],
                "position": [
                  0,
                  0
                ]
              },
              {
                "id": "EDI",
                "properties": {
                  "label": "Edinburgh",
                  "passengers": 14000000,
                  "country": "UK"
                },
                "coordinates": [
                  55.95,
                  -3.3725
                ],
                "color": "#15AFAC",
                "styles": {},
                "label": "Edinburgh",
                "scale_factor": 1,
                "type": "#15AFAC",
                "size": [
                  55,
                  55
                ],
                "position": [
                  0,
                  0
                ]
              },
              {
                "id": "ORD",
                "properties": {
                  "label": "Chicago",
                  "passengers": 54000000,
                  "country": "USA"
                },
                "coordinates": [
                  41.978603,
                  -87.904842
                ],
                "color": "#15AFAC",
                "styles": {},
                "label": "Chicago",
                "scale_factor": 1,
                "type": "#15AFAC",
                "size": [
                  55,
                  55
                ],
                "position": [
                  0,
                  0
                ]
              },
              {
                "id": "DFW",
                "properties": {
                  "label": "Dallas",
                  "passengers": 73000000,
                  "country": "USA"
                },
                "coordinates": [
                  32.896828,
                  -97.037997
                ],
                "color": "#15AFAC",
                "styles": {},
                "label": "Dallas",
                "scale_factor": 1,
                "type": "#15AFAC",
                "size": [
                  55,
                  55
                ],
                "position": [
                  0,
                  0
                ]
              },
              {
                "id": "SFO",
                "properties": {
                  "label": "San Francisco",
                  "passengers": 42000000,
                  "country": "USA"
                },
                "coordinates": [
                  37.618972,
                  -122.374889
                ],
                "color": "#15AFAC",
                "styles": {},
                "label": "San Francisco",
                "scale_factor": 1,
                "type": "#15AFAC",
                "size": [
                  55,
                  55
                ],
                "position": [
                  0,
                  0
                ]
              },
              {
                "id": "LAS",
                "properties": {
                  "label": "Las Vegas",
                  "passengers": 52000000,
                  "country": "USA"
                },
                "coordinates": [
                  36.080056,
                  -115.15225
                ],
                "color": "#15AFAC",
                "styles": {},
                "label": "Las Vegas",
                "scale_factor": 1,
                "type": "#15AFAC",
                "size": [
                  55,
                  55
                ],
                "position": [
                  0,
                  0
                ]
              },
              {
                "id": "MIA",
                "properties": {
                  "label": "Miami",
                  "passengers": 50000000,
                  "country": "USA"
                },
                "coordinates": [
                  25.79325,
                  -80.290556
                ],
                "color": "#15AFAC",
                "styles": {},
                "label": "Miami",
                "scale_factor": 1,
                "type": "#15AFAC",
                "size": [
                  55,
                  55
                ],
                "position": [
                  0,
                  0
                ]
              },
              {
                "id": "YYZ",
                "properties": {
                  "label": "Toronto",
                  "passengers": 12000000,
                  "country": "Canada"
                },
                "coordinates": [
                  43.677222,
                  -79.630556
                ],
                "color": "#15AFAC",
                "styles": {},
                "label": "Toronto",
                "scale_factor": 1,
                "type": "#15AFAC",
                "size": [
                  55,
                  55
                ],
                "position": [
                  0,
                  0
                ]
              },
              {
                "id": "YVR",
                "properties": {
                  "label": "Vancouver",
                  "passengers": 19000000,
                  "country": "Canada"
                },
                "coordinates": [
                  49.193889,
                  -123.184444
                ],
                "color": "#15AFAC",
                "styles": {},
                "label": "Vancouver",
                "scale_factor": 1,
                "type": "#15AFAC",
                "size": [
                  55,
                  55
                ],
                "position": [
                  0,
                  0
                ]
              },
              {
                "id": "YUL",
                "properties": {
                  "label": "Montreal",
                  "passengers": 15000000,
                  "country": "Canada"
                },
                "coordinates": [
                  45.47175,
                  -73.736569
                ],
                "color": "#15AFAC",
                "styles": {},
                "label": "Montreal",
                "scale_factor": 1,
                "type": "#15AFAC",
                "size": [
                  55,
                  55
                ],
                "position": [
                  0,
                  0
                ]
              },
              {
                "id": "MEX",
                "properties": {
                  "label": "Mexico-City",
                  "passengers": 46000000,
                  "country": "Mexico"
                },
                "coordinates": [
                  19.436303,
                  -99.072097
                ],
                "color": "#15AFAC",
                "styles": {},
                "label": "Mexico-City",
                "scale_factor": 1,
                "type": "#15AFAC",
                "size": [
                  55,
                  55
                ],
                "position": [
                  0,
                  0
                ]
              },
              {
                "id": "GUA",
                "properties": {
                  "label": "Guatemala-City",
                  "passengers": 2000000,
                  "country": "Guatemala"
                },
                "coordinates": [
                  14.583272,
                  -90.527475
                ],
                "color": "#15AFAC",
                "styles": {},
                "label": "Guatemala-City",
                "scale_factor": 1,
                "type": "#15AFAC",
                "size": [
                  55,
                  55
                ],
                "position": [
                  0,
                  0
                ]
              },
              {
                "id": "EZE",
                "properties": {
                  "label": "Buenos Aires",
                  "passengers": 5000000,
                  "country": "Argentina"
                },
                "coordinates": [
                  -34.822222,
                  -58.535833
                ],
                "color": "#15AFAC",
                "styles": {},
                "label": "Buenos Aires",
                "scale_factor": 1,
                "type": "#15AFAC",
                "size": [
                  55,
                  55
                ],
                "position": [
                  0,
                  0
                ]
              },
              {
                "id": "GRU",
                "properties": {
                  "label": "Sao Paulo",
                  "passengers": 34000000,
                  "country": "Brazil"
                },
                "coordinates": [
                  -23.432075,
                  -46.469511
                ],
                "color": "#15AFAC",
                "styles": {},
                "label": "Sao Paulo",
                "scale_factor": 1,
                "type": "#15AFAC",
                "size": [
                  55,
                  55
                ],
                "position": [
                  0,
                  0
                ]
              },
              {
                "id": "SCL",
                "properties": {
                  "label": "Santiago de Chile",
                  "passengers": 20000000,
                  "country": "Chile"
                },
                "coordinates": [
                  -33.392975,
                  -70.785803
                ],
                "color": "#15AFAC",
                "styles": {},
                "label": "Santiago de Chile",
                "scale_factor": 1,
                "type": "#15AFAC",
                "size": [
                  55,
                  55
                ],
                "position": [
                  0,
                  0
                ]
              },
              {
                "id": "BSB",
                "properties": {
                  "label": "Brasilia",
                  "passengers": 13000000,
                  "country": "Brazil"
                },
                "coordinates": [
                  -15.871111,
                  -47.918611
                ],
                "color": "#15AFAC",
                "styles": {},
                "label": "Brasilia",
                "scale_factor": 1,
                "type": "#15AFAC",
                "size": [
                  55,
                  55
                ],
                "position": [
                  0,
                  0
                ]
              },
              {
                "id": "BOG",
                "properties": {
                  "label": "Bogota",
                  "passengers": 36000000,
                  "country": "Colombia"
                },
                "coordinates": [
                  4.701594,
                  -74.146947
                ],
                "color": "#15AFAC",
                "styles": {},
                "label": "Bogota",
                "scale_factor": 1,
                "type": "#15AFAC",
                "size": [
                  55,
                  55
                ],
                "position": [
                  0,
                  0
                ]
              },
              {
                "id": "CCS",
                "properties": {
                  "label": "Caracas",
                  "passengers": 8000000,
                  "country": "Venezuela"
                },
                "coordinates": [
                  10.601194,
                  -66.991222
                ],
                "color": "#15AFAC",
                "styles": {},
                "label": "Caracas",
                "scale_factor": 1,
                "type": "#15AFAC",
                "size": [
                  55,
                  55
                ],
                "position": [
                  0,
                  0
                ]
              }
            ],
            "_overview": {
              "enabled": null,
              "overview_set": false
            },
            "_selected_graph": [
              [],
              []
            ],
            "_sidebar": {
              "enabled": false,
              "start_with": null
            },
            "_view_count": null,
            "_view_module": "yfiles-jupyter-graphs",
            "_view_module_version": "^1.8.1",
            "_view_name": "GraphView",
            "layout": "IPY_MODEL_3d2f57cdcd26430c8233bd0f301510bb",
            "tabbable": null,
            "tooltip": null
          }
        },
        "3d2f57cdcd26430c8233bd0f301510bb": {
          "model_module": "@jupyter-widgets/base",
          "model_name": "LayoutModel",
          "model_module_version": "2.0.0",
          "state": {
            "_model_module": "@jupyter-widgets/base",
            "_model_module_version": "2.0.0",
            "_model_name": "LayoutModel",
            "_view_count": null,
            "_view_module": "@jupyter-widgets/base",
            "_view_module_version": "2.0.0",
            "_view_name": "LayoutView",
            "align_content": null,
            "align_items": null,
            "align_self": null,
            "border_bottom": null,
            "border_left": null,
            "border_right": null,
            "border_top": null,
            "bottom": null,
            "display": null,
            "flex": null,
            "flex_flow": null,
            "grid_area": null,
            "grid_auto_columns": null,
            "grid_auto_flow": null,
            "grid_auto_rows": null,
            "grid_column": null,
            "grid_gap": null,
            "grid_row": null,
            "grid_template_areas": null,
            "grid_template_columns": null,
            "grid_template_rows": null,
            "height": "800px",
            "justify_content": null,
            "justify_items": null,
            "left": null,
            "margin": null,
            "max_height": null,
            "max_width": null,
            "min_height": null,
            "min_width": null,
            "object_fit": null,
            "object_position": null,
            "order": null,
            "overflow": null,
            "padding": null,
            "right": null,
            "top": null,
            "visibility": null,
            "width": "100%"
          }
        },
        "b6e59d1cd2034df88411177d08e1cf64": {
          "model_module": "yfiles-jupyter-graphs",
          "model_name": "GraphModel",
          "model_module_version": "^1.8.1",
          "state": {
            "_context_pane_mapping": [
              {
                "id": "Neighborhood",
                "title": "Neighborhood"
              },
              {
                "id": "Data",
                "title": "Data"
              },
              {
                "id": "Search",
                "title": "Search"
              },
              {
                "id": "About",
                "title": "About"
              }
            ],
            "_data_importer": "unknown",
            "_directed": false,
            "_dom_classes": [],
            "_edges": [
              {
                "start": "LAX",
                "end": "JFK",
                "label": "",
                "properties": {},
                "directed": false,
                "color": "#15AFAC",
                "thickness_factor": 1
              },
              {
                "start": "JFK",
                "end": "GIG",
                "label": "",
                "properties": {},
                "directed": false,
                "color": "#15AFAC",
                "thickness_factor": 1
              },
              {
                "start": "JFK",
                "end": "LIM",
                "label": "",
                "properties": {},
                "directed": false,
                "color": "#15AFAC",
                "thickness_factor": 1
              },
              {
                "start": "JFK",
                "end": "LHR",
                "label": "",
                "properties": {},
                "directed": false,
                "color": "#15AFAC",
                "thickness_factor": 1
              },
              {
                "start": "GIG",
                "end": "FRA",
                "label": "",
                "properties": {},
                "directed": false,
                "color": "#15AFAC",
                "thickness_factor": 1
              },
              {
                "start": "LIM",
                "end": "GIG",
                "label": "",
                "properties": {},
                "directed": false,
                "color": "#15AFAC",
                "thickness_factor": 1
              },
              {
                "start": "FRA",
                "end": "JFK",
                "label": "",
                "properties": {},
                "directed": false,
                "color": "#15AFAC",
                "thickness_factor": 1
              },
              {
                "start": "LHR",
                "end": "FRA",
                "label": "",
                "properties": {},
                "directed": false,
                "color": "#15AFAC",
                "thickness_factor": 1
              },
              {
                "start": "FRA",
                "end": "SVO",
                "label": "",
                "properties": {},
                "directed": false,
                "color": "#15AFAC",
                "thickness_factor": 1
              },
              {
                "start": "FRA",
                "end": "DXB",
                "label": "",
                "properties": {},
                "directed": false,
                "color": "#15AFAC",
                "thickness_factor": 1
              },
              {
                "start": "SVO",
                "end": "DEL",
                "label": "",
                "properties": {},
                "directed": false,
                "color": "#15AFAC",
                "thickness_factor": 1
              },
              {
                "start": "SVO",
                "end": "PVG",
                "label": "",
                "properties": {},
                "directed": false,
                "color": "#15AFAC",
                "thickness_factor": 1
              },
              {
                "start": "DEL",
                "end": "HKG",
                "label": "",
                "properties": {},
                "directed": false,
                "color": "#15AFAC",
                "thickness_factor": 1
              },
              {
                "start": "PVG",
                "end": "HKG",
                "label": "",
                "properties": {},
                "directed": false,
                "color": "#15AFAC",
                "thickness_factor": 1
              },
              {
                "start": "PVG",
                "end": "NRT",
                "label": "",
                "properties": {},
                "directed": false,
                "color": "#15AFAC",
                "thickness_factor": 1
              },
              {
                "start": "HKG",
                "end": "SYD",
                "label": "",
                "properties": {},
                "directed": false,
                "color": "#15AFAC",
                "thickness_factor": 1
              },
              {
                "start": "NRT",
                "end": "SYD",
                "label": "",
                "properties": {},
                "directed": false,
                "color": "#15AFAC",
                "thickness_factor": 1
              },
              {
                "start": "DXB",
                "end": "SVO",
                "label": "",
                "properties": {},
                "directed": false,
                "color": "#15AFAC",
                "thickness_factor": 1
              },
              {
                "start": "DXB",
                "end": "DEL",
                "label": "",
                "properties": {},
                "directed": false,
                "color": "#15AFAC",
                "thickness_factor": 1
              },
              {
                "start": "DXB",
                "end": "DKR",
                "label": "",
                "properties": {},
                "directed": false,
                "color": "#15AFAC",
                "thickness_factor": 1
              },
              {
                "start": "DXB",
                "end": "JNB",
                "label": "",
                "properties": {},
                "directed": false,
                "color": "#15AFAC",
                "thickness_factor": 1
              },
              {
                "start": "JNB",
                "end": "LHR",
                "label": "",
                "properties": {},
                "directed": false,
                "color": "#15AFAC",
                "thickness_factor": 1
              },
              {
                "start": "JNB",
                "end": "DKR",
                "label": "",
                "properties": {},
                "directed": false,
                "color": "#15AFAC",
                "thickness_factor": 1
              },
              {
                "start": "SYD",
                "end": "DXB",
                "label": "",
                "properties": {},
                "directed": false,
                "color": "#15AFAC",
                "thickness_factor": 1
              },
              {
                "start": "NBO",
                "end": "JNB",
                "label": "",
                "properties": {},
                "directed": false,
                "color": "#15AFAC",
                "thickness_factor": 1
              },
              {
                "start": "NBO",
                "end": "DXB",
                "label": "",
                "properties": {},
                "directed": false,
                "color": "#15AFAC",
                "thickness_factor": 1
              },
              {
                "start": "ATL",
                "end": "JFK",
                "label": "",
                "properties": {},
                "directed": false,
                "color": "#15AFAC",
                "thickness_factor": 1
              },
              {
                "start": "LAX",
                "end": "ATL",
                "label": "",
                "properties": {},
                "directed": false,
                "color": "#15AFAC",
                "thickness_factor": 1
              },
              {
                "start": "ATL",
                "end": "LHR",
                "label": "",
                "properties": {},
                "directed": false,
                "color": "#15AFAC",
                "thickness_factor": 1
              },
              {
                "start": "ATL",
                "end": "LIM",
                "label": "",
                "properties": {},
                "directed": false,
                "color": "#15AFAC",
                "thickness_factor": 1
              },
              {
                "start": "SCL",
                "end": "LIM",
                "label": "",
                "properties": {},
                "directed": false,
                "color": "#15AFAC",
                "thickness_factor": 1
              },
              {
                "start": "EZE",
                "end": "SCL",
                "label": "",
                "properties": {},
                "directed": false,
                "color": "#15AFAC",
                "thickness_factor": 1
              },
              {
                "start": "SCL",
                "end": "GRU",
                "label": "",
                "properties": {},
                "directed": false,
                "color": "#15AFAC",
                "thickness_factor": 1
              },
              {
                "start": "GIG",
                "end": "EZE",
                "label": "",
                "properties": {},
                "directed": false,
                "color": "#15AFAC",
                "thickness_factor": 1
              },
              {
                "start": "GIG",
                "end": "GRU",
                "label": "",
                "properties": {},
                "directed": false,
                "color": "#15AFAC",
                "thickness_factor": 1
              },
              {
                "start": "BSB",
                "end": "GIG",
                "label": "",
                "properties": {},
                "directed": false,
                "color": "#15AFAC",
                "thickness_factor": 1
              },
              {
                "start": "SCL",
                "end": "BSB",
                "label": "",
                "properties": {},
                "directed": false,
                "color": "#15AFAC",
                "thickness_factor": 1
              },
              {
                "start": "LIM",
                "end": "BSB",
                "label": "",
                "properties": {},
                "directed": false,
                "color": "#15AFAC",
                "thickness_factor": 1
              },
              {
                "start": "BOG",
                "end": "BSB",
                "label": "",
                "properties": {},
                "directed": false,
                "color": "#15AFAC",
                "thickness_factor": 1
              },
              {
                "start": "CCS",
                "end": "BSB",
                "label": "",
                "properties": {},
                "directed": false,
                "color": "#15AFAC",
                "thickness_factor": 1
              },
              {
                "start": "BOG",
                "end": "GUA",
                "label": "",
                "properties": {},
                "directed": false,
                "color": "#15AFAC",
                "thickness_factor": 1
              },
              {
                "start": "CCS",
                "end": "MIA",
                "label": "",
                "properties": {},
                "directed": false,
                "color": "#15AFAC",
                "thickness_factor": 1
              },
              {
                "start": "GUA",
                "end": "MIA",
                "label": "",
                "properties": {},
                "directed": false,
                "color": "#15AFAC",
                "thickness_factor": 1
              },
              {
                "start": "GUA",
                "end": "MEX",
                "label": "",
                "properties": {},
                "directed": false,
                "color": "#15AFAC",
                "thickness_factor": 1
              },
              {
                "start": "MEX",
                "end": "LAX",
                "label": "",
                "properties": {},
                "directed": false,
                "color": "#15AFAC",
                "thickness_factor": 1
              },
              {
                "start": "MEX",
                "end": "LAX",
                "label": "",
                "properties": {},
                "directed": false,
                "color": "#15AFAC",
                "thickness_factor": 1
              },
              {
                "start": "LAX",
                "end": "SFO",
                "label": "",
                "properties": {},
                "directed": false,
                "color": "#15AFAC",
                "thickness_factor": 1
              },
              {
                "start": "SFO",
                "end": "YVR",
                "label": "",
                "properties": {},
                "directed": false,
                "color": "#15AFAC",
                "thickness_factor": 1
              },
              {
                "start": "LAX",
                "end": "LAS",
                "label": "",
                "properties": {},
                "directed": false,
                "color": "#15AFAC",
                "thickness_factor": 1
              },
              {
                "start": "LAX",
                "end": "DFW",
                "label": "",
                "properties": {},
                "directed": false,
                "color": "#15AFAC",
                "thickness_factor": 1
              },
              {
                "start": "LAX",
                "end": "ORD",
                "label": "",
                "properties": {},
                "directed": false,
                "color": "#15AFAC",
                "thickness_factor": 1
              },
              {
                "start": "SFO",
                "end": "LAS",
                "label": "",
                "properties": {},
                "directed": false,
                "color": "#15AFAC",
                "thickness_factor": 1
              },
              {
                "start": "DFW",
                "end": "ATL",
                "label": "",
                "properties": {},
                "directed": false,
                "color": "#15AFAC",
                "thickness_factor": 1
              },
              {
                "start": "ATL",
                "end": "YYZ",
                "label": "",
                "properties": {},
                "directed": false,
                "color": "#15AFAC",
                "thickness_factor": 1
              },
              {
                "start": "ORD",
                "end": "YYZ",
                "label": "",
                "properties": {},
                "directed": false,
                "color": "#15AFAC",
                "thickness_factor": 1
              },
              {
                "start": "YYZ",
                "end": "YUL",
                "label": "",
                "properties": {},
                "directed": false,
                "color": "#15AFAC",
                "thickness_factor": 1
              },
              {
                "start": "YYZ",
                "end": "JFK",
                "label": "",
                "properties": {},
                "directed": false,
                "color": "#15AFAC",
                "thickness_factor": 1
              },
              {
                "start": "YUL",
                "end": "JFK",
                "label": "",
                "properties": {},
                "directed": false,
                "color": "#15AFAC",
                "thickness_factor": 1
              },
              {
                "start": "JNB",
                "end": "CPT",
                "label": "",
                "properties": {},
                "directed": false,
                "color": "#15AFAC",
                "thickness_factor": 1
              },
              {
                "start": "LOS",
                "end": "DKR",
                "label": "",
                "properties": {},
                "directed": false,
                "color": "#15AFAC",
                "thickness_factor": 1
              },
              {
                "start": "NBO",
                "end": "LOS",
                "label": "",
                "properties": {},
                "directed": false,
                "color": "#15AFAC",
                "thickness_factor": 1
              },
              {
                "start": "DKR",
                "end": "CMN",
                "label": "",
                "properties": {},
                "directed": false,
                "color": "#15AFAC",
                "thickness_factor": 1
              },
              {
                "start": "DKR",
                "end": "CAI",
                "label": "",
                "properties": {},
                "directed": false,
                "color": "#15AFAC",
                "thickness_factor": 1
              },
              {
                "start": "NBO",
                "end": "CAI",
                "label": "",
                "properties": {},
                "directed": false,
                "color": "#15AFAC",
                "thickness_factor": 1
              },
              {
                "start": "DXB",
                "end": "CAI",
                "label": "",
                "properties": {},
                "directed": false,
                "color": "#15AFAC",
                "thickness_factor": 1
              },
              {
                "start": "IKA",
                "end": "DXB",
                "label": "",
                "properties": {},
                "directed": false,
                "color": "#15AFAC",
                "thickness_factor": 1
              },
              {
                "start": "IST",
                "end": "IKA",
                "label": "",
                "properties": {},
                "directed": false,
                "color": "#15AFAC",
                "thickness_factor": 1
              },
              {
                "start": "TLV",
                "end": "ATH",
                "label": "",
                "properties": {},
                "directed": false,
                "color": "#15AFAC",
                "thickness_factor": 1
              },
              {
                "start": "CAI",
                "end": "TLV",
                "label": "",
                "properties": {},
                "directed": false,
                "color": "#15AFAC",
                "thickness_factor": 1
              },
              {
                "start": "ATH",
                "end": "IST",
                "label": "",
                "properties": {},
                "directed": false,
                "color": "#15AFAC",
                "thickness_factor": 1
              },
              {
                "start": "FCO",
                "end": "ATH",
                "label": "",
                "properties": {},
                "directed": false,
                "color": "#15AFAC",
                "thickness_factor": 1
              },
              {
                "start": "LIS",
                "end": "LHR",
                "label": "",
                "properties": {},
                "directed": false,
                "color": "#15AFAC",
                "thickness_factor": 1
              },
              {
                "start": "LIS",
                "end": "MAD",
                "label": "",
                "properties": {},
                "directed": false,
                "color": "#15AFAC",
                "thickness_factor": 1
              },
              {
                "start": "MAD",
                "end": "BCN",
                "label": "",
                "properties": {},
                "directed": false,
                "color": "#15AFAC",
                "thickness_factor": 1
              },
              {
                "start": "CDG",
                "end": "LHR",
                "label": "",
                "properties": {},
                "directed": false,
                "color": "#15AFAC",
                "thickness_factor": 1
              },
              {
                "start": "DUB",
                "end": "LHR",
                "label": "",
                "properties": {},
                "directed": false,
                "color": "#15AFAC",
                "thickness_factor": 1
              },
              {
                "start": "EDI",
                "end": "LHR",
                "label": "",
                "properties": {},
                "directed": false,
                "color": "#15AFAC",
                "thickness_factor": 1
              },
              {
                "start": "CDG",
                "end": "BCN",
                "label": "",
                "properties": {},
                "directed": false,
                "color": "#15AFAC",
                "thickness_factor": 1
              },
              {
                "start": "BCN",
                "end": "FCO",
                "label": "",
                "properties": {},
                "directed": false,
                "color": "#15AFAC",
                "thickness_factor": 1
              },
              {
                "start": "VIE",
                "end": "IST",
                "label": "",
                "properties": {},
                "directed": false,
                "color": "#15AFAC",
                "thickness_factor": 1
              },
              {
                "start": "VIE",
                "end": "SVO",
                "label": "",
                "properties": {},
                "directed": false,
                "color": "#15AFAC",
                "thickness_factor": 1
              },
              {
                "start": "CMN",
                "end": "LIS",
                "label": "",
                "properties": {},
                "directed": false,
                "color": "#15AFAC",
                "thickness_factor": 1
              },
              {
                "start": "MAD",
                "end": "CMN",
                "label": "",
                "properties": {},
                "directed": false,
                "color": "#15AFAC",
                "thickness_factor": 1
              },
              {
                "start": "FRA",
                "end": "CPH",
                "label": "",
                "properties": {},
                "directed": false,
                "color": "#15AFAC",
                "thickness_factor": 1
              },
              {
                "start": "LHR",
                "end": "CPH",
                "label": "",
                "properties": {},
                "directed": false,
                "color": "#15AFAC",
                "thickness_factor": 1
              },
              {
                "start": "CPH",
                "end": "OSL",
                "label": "",
                "properties": {},
                "directed": false,
                "color": "#15AFAC",
                "thickness_factor": 1
              },
              {
                "start": "CPH",
                "end": "ARN",
                "label": "",
                "properties": {},
                "directed": false,
                "color": "#15AFAC",
                "thickness_factor": 1
              },
              {
                "start": "ARN",
                "end": "HEL",
                "label": "",
                "properties": {},
                "directed": false,
                "color": "#15AFAC",
                "thickness_factor": 1
              },
              {
                "start": "HEL",
                "end": "SVO",
                "label": "",
                "properties": {},
                "directed": false,
                "color": "#15AFAC",
                "thickness_factor": 1
              },
              {
                "start": "ULN",
                "end": "PVG",
                "label": "",
                "properties": {},
                "directed": false,
                "color": "#15AFAC",
                "thickness_factor": 1
              },
              {
                "start": "CTU",
                "end": "PVG",
                "label": "",
                "properties": {},
                "directed": false,
                "color": "#15AFAC",
                "thickness_factor": 1
              },
              {
                "start": "PVG",
                "end": "TPE",
                "label": "",
                "properties": {},
                "directed": false,
                "color": "#15AFAC",
                "thickness_factor": 1
              },
              {
                "start": "CTU",
                "end": "HKG",
                "label": "",
                "properties": {},
                "directed": false,
                "color": "#15AFAC",
                "thickness_factor": 1
              },
              {
                "start": "TPE",
                "end": "HKG",
                "label": "",
                "properties": {},
                "directed": false,
                "color": "#15AFAC",
                "thickness_factor": 1
              },
              {
                "start": "HKG",
                "end": "MNL",
                "label": "",
                "properties": {},
                "directed": false,
                "color": "#15AFAC",
                "thickness_factor": 1
              },
              {
                "start": "BKK",
                "end": "HKG",
                "label": "",
                "properties": {},
                "directed": false,
                "color": "#15AFAC",
                "thickness_factor": 1
              },
              {
                "start": "SIN",
                "end": "KUL",
                "label": "",
                "properties": {},
                "directed": false,
                "color": "#15AFAC",
                "thickness_factor": 1
              },
              {
                "start": "SIN",
                "end": "BKK",
                "label": "",
                "properties": {},
                "directed": false,
                "color": "#15AFAC",
                "thickness_factor": 1
              },
              {
                "start": "CGK",
                "end": "SIN",
                "label": "",
                "properties": {},
                "directed": false,
                "color": "#15AFAC",
                "thickness_factor": 1
              },
              {
                "start": "MNL",
                "end": "SIN",
                "label": "",
                "properties": {},
                "directed": false,
                "color": "#15AFAC",
                "thickness_factor": 1
              },
              {
                "start": "SIN",
                "end": "SYD",
                "label": "",
                "properties": {},
                "directed": false,
                "color": "#15AFAC",
                "thickness_factor": 1
              },
              {
                "start": "BNE",
                "end": "SYD",
                "label": "",
                "properties": {},
                "directed": false,
                "color": "#15AFAC",
                "thickness_factor": 1
              },
              {
                "start": "SYD",
                "end": "MEL",
                "label": "",
                "properties": {},
                "directed": false,
                "color": "#15AFAC",
                "thickness_factor": 1
              },
              {
                "start": "NAN",
                "end": "SYD",
                "label": "",
                "properties": {},
                "directed": false,
                "color": "#15AFAC",
                "thickness_factor": 1
              },
              {
                "start": "AKL",
                "end": "SYD",
                "label": "",
                "properties": {},
                "directed": false,
                "color": "#15AFAC",
                "thickness_factor": 1
              },
              {
                "start": "NAN",
                "end": "AKL",
                "label": "",
                "properties": {},
                "directed": false,
                "color": "#15AFAC",
                "thickness_factor": 1
              },
              {
                "start": "RKV",
                "end": "LHR",
                "label": "",
                "properties": {},
                "directed": false,
                "color": "#15AFAC",
                "thickness_factor": 1
              },
              {
                "start": "BCN",
                "end": "CDG",
                "label": "",
                "properties": {},
                "directed": false,
                "color": "#15AFAC",
                "thickness_factor": 1
              },
              {
                "start": "BCN",
                "end": "FRA",
                "label": "",
                "properties": {},
                "directed": false,
                "color": "#15AFAC",
                "thickness_factor": 1
              },
              {
                "start": "FCO",
                "end": "FRA",
                "label": "",
                "properties": {},
                "directed": false,
                "color": "#15AFAC",
                "thickness_factor": 1
              },
              {
                "start": "BOG",
                "end": "MEX",
                "label": "",
                "properties": {},
                "directed": false,
                "color": "#15AFAC",
                "thickness_factor": 1
              },
              {
                "start": "BOG",
                "end": "GRU",
                "label": "",
                "properties": {},
                "directed": false,
                "color": "#15AFAC",
                "thickness_factor": 1
              },
              {
                "start": "ATL",
                "end": "MIA",
                "label": "",
                "properties": {},
                "directed": false,
                "color": "#15AFAC",
                "thickness_factor": 1
              },
              {
                "start": "FRA",
                "end": "IST",
                "label": "",
                "properties": {},
                "directed": false,
                "color": "#15AFAC",
                "thickness_factor": 1
              },
              {
                "start": "IST",
                "end": "DEL",
                "label": "",
                "properties": {},
                "directed": false,
                "color": "#15AFAC",
                "thickness_factor": 1
              },
              {
                "start": "PVG",
                "end": "BKK",
                "label": "",
                "properties": {},
                "directed": false,
                "color": "#15AFAC",
                "thickness_factor": 1
              },
              {
                "start": "DEL",
                "end": "BKK",
                "label": "",
                "properties": {},
                "directed": false,
                "color": "#15AFAC",
                "thickness_factor": 1
              }
            ],
            "_graph_layout": {},
            "_highlight": [],
            "_license": {},
            "_model_module": "yfiles-jupyter-graphs",
            "_model_module_version": "^1.8.1",
            "_model_name": "GraphModel",
            "_neighborhood": {},
            "_nodes": [
              {
                "id": "LAX",
                "properties": {
                  "label": "Los Angeles",
                  "passengers": 65000000,
                  "country": "USA"
                },
                "coordinates": [
                  33.942536,
                  -118.408075
                ],
                "color": "#15AFAC",
                "styles": {},
                "label": "Los Angeles",
                "scale_factor": 1,
                "type": "#15AFAC",
                "size": [
                  55,
                  55
                ],
                "position": [
                  0,
                  0
                ],
                "parentId": "USA"
              },
              {
                "id": "GIG",
                "properties": {
                  "label": "Rio de Janeiro",
                  "passengers": 5000000,
                  "country": "Brazil"
                },
                "coordinates": [
                  -22.808903,
                  -43.243647
                ],
                "color": "#15AFAC",
                "styles": {},
                "label": "Rio de Janeiro",
                "scale_factor": 1,
                "type": "#15AFAC",
                "size": [
                  55,
                  55
                ],
                "position": [
                  0,
                  0
                ],
                "parentId": "Brazil"
              },
              {
                "id": "LIM",
                "properties": {
                  "label": "Lima",
                  "passengers": 18000000,
                  "country": "Peru"
                },
                "coordinates": [
                  -12.021889,
                  -77.114319
                ],
                "color": "#15AFAC",
                "styles": {},
                "label": "Lima",
                "scale_factor": 1,
                "type": "#15AFAC",
                "size": [
                  55,
                  55
                ],
                "position": [
                  0,
                  0
                ],
                "parentId": "Peru"
              },
              {
                "id": "LHR",
                "properties": {
                  "label": "London",
                  "passengers": 61000000,
                  "country": "UK"
                },
                "coordinates": [
                  51.4775,
                  -0.461389
                ],
                "color": "#15AFAC",
                "styles": {},
                "label": "London",
                "scale_factor": 1,
                "type": "#15AFAC",
                "size": [
                  55,
                  55
                ],
                "position": [
                  0,
                  0
                ],
                "parentId": "UK"
              },
              {
                "id": "FRA",
                "properties": {
                  "label": "Frankfurt",
                  "passengers": 48000000,
                  "country": "Germany"
                },
                "coordinates": [
                  50.033333,
                  8.570556
                ],
                "color": "#15AFAC",
                "styles": {},
                "label": "Frankfurt",
                "scale_factor": 1,
                "type": "#15AFAC",
                "size": [
                  55,
                  55
                ],
                "position": [
                  0,
                  0
                ],
                "parentId": "Germany"
              },
              {
                "id": "SVO",
                "properties": {
                  "label": "Moscow",
                  "passengers": 49000000,
                  "country": "Russia"
                },
                "coordinates": [
                  55.972642,
                  37.414589
                ],
                "color": "#15AFAC",
                "styles": {},
                "label": "Moscow",
                "scale_factor": 1,
                "type": "#15AFAC",
                "size": [
                  55,
                  55
                ],
                "position": [
                  0,
                  0
                ],
                "parentId": "Russia"
              },
              {
                "id": "DEL",
                "properties": {
                  "label": "New Delhi",
                  "passengers": 39000000,
                  "country": "India"
                },
                "coordinates": [
                  28.5665,
                  77.103089
                ],
                "color": "#15AFAC",
                "styles": {},
                "label": "New Delhi",
                "scale_factor": 1,
                "type": "#15AFAC",
                "size": [
                  55,
                  55
                ],
                "position": [
                  0,
                  0
                ],
                "parentId": "India"
              },
              {
                "id": "PVG",
                "properties": {
                  "label": "Shanghai",
                  "passengers": 32000000,
                  "country": "China"
                },
                "coordinates": [
                  31.143378,
                  121.805214
                ],
                "color": "#15AFAC",
                "styles": {},
                "label": "Shanghai",
                "scale_factor": 1,
                "type": "#15AFAC",
                "size": [
                  55,
                  55
                ],
                "position": [
                  0,
                  0
                ],
                "parentId": "China"
              },
              {
                "id": "HKG",
                "properties": {
                  "label": "Hongkong",
                  "passengers": 1000000,
                  "country": "China"
                },
                "coordinates": [
                  22.308919,
                  113.914603
                ],
                "color": "#15AFAC",
                "styles": {},
                "label": "Hongkong",
                "scale_factor": 1,
                "type": "#15AFAC",
                "size": [
                  55,
                  55
                ],
                "position": [
                  0,
                  0
                ],
                "parentId": "China"
              },
              {
                "id": "NRT",
                "properties": {
                  "label": "Tokio",
                  "passengers": 15000000,
                  "country": "Japan"
                },
                "coordinates": [
                  35.764722,
                  140.386389
                ],
                "color": "#15AFAC",
                "styles": {},
                "label": "Tokio",
                "scale_factor": 1,
                "type": "#15AFAC",
                "size": [
                  55,
                  55
                ],
                "position": [
                  0,
                  0
                ],
                "parentId": "Japan"
              },
              {
                "id": "DXB",
                "properties": {
                  "label": "Dubai",
                  "passengers": 29000000,
                  "country": "UAE"
                },
                "coordinates": [
                  25.252778,
                  55.364444
                ],
                "color": "#15AFAC",
                "styles": {},
                "label": "Dubai",
                "scale_factor": 1,
                "type": "#15AFAC",
                "size": [
                  55,
                  55
                ],
                "position": [
                  0,
                  0
                ],
                "parentId": "UAE"
              },
              {
                "id": "DKR",
                "properties": {
                  "label": "Dakar",
                  "passengers": 2000000,
                  "country": "Senegal"
                },
                "coordinates": [
                  14.670833,
                  -17.072778
                ],
                "color": "#15AFAC",
                "styles": {},
                "label": "Dakar",
                "scale_factor": 1,
                "type": "#15AFAC",
                "size": [
                  55,
                  55
                ],
                "position": [
                  0,
                  0
                ],
                "parentId": "Senegal"
              },
              {
                "id": "JNB",
                "properties": {
                  "label": "Johannesburg",
                  "passengers": 9000000,
                  "country": "South Africa"
                },
                "coordinates": [
                  -26.133694,
                  28.242317
                ],
                "color": "#15AFAC",
                "styles": {},
                "label": "Johannesburg",
                "scale_factor": 1,
                "type": "#15AFAC",
                "size": [
                  55,
                  55
                ],
                "position": [
                  0,
                  0
                ],
                "parentId": "South Africa"
              },
              {
                "id": "SYD",
                "properties": {
                  "label": "Sydney",
                  "passengers": 44000000,
                  "country": "Australia"
                },
                "coordinates": [
                  -33.946111,
                  151.177222
                ],
                "color": "#15AFAC",
                "styles": {},
                "label": "Sydney",
                "scale_factor": 1,
                "type": "#15AFAC",
                "size": [
                  55,
                  55
                ],
                "position": [
                  0,
                  0
                ],
                "parentId": "Australia"
              },
              {
                "id": "NBO",
                "properties": {
                  "label": "Nairobi",
                  "passengers": 900000,
                  "country": "Kenya"
                },
                "coordinates": [
                  -1.319167,
                  36.927778
                ],
                "color": "#15AFAC",
                "styles": {},
                "label": "Nairobi",
                "scale_factor": 1,
                "type": "#15AFAC",
                "size": [
                  55,
                  55
                ],
                "position": [
                  0,
                  0
                ],
                "parentId": "Kenya"
              },
              {
                "id": "ATL",
                "properties": {
                  "label": "Atlanta",
                  "passengers": 93000000,
                  "country": "USA"
                },
                "coordinates": [
                  33.639167,
                  -84.427778
                ],
                "color": "#15AFAC",
                "styles": {},
                "label": "Atlanta",
                "scale_factor": 1,
                "type": "#15AFAC",
                "size": [
                  55,
                  55
                ],
                "position": [
                  0,
                  0
                ],
                "parentId": "USA"
              },
              {
                "id": "JFK",
                "properties": {
                  "label": "New York City",
                  "passengers": 55000000,
                  "country": "USA"
                },
                "coordinates": [
                  40.63975,
                  -73.778925
                ],
                "color": "#15AFAC",
                "styles": {},
                "label": "New York City",
                "scale_factor": 1,
                "type": "#15AFAC",
                "size": [
                  55,
                  55
                ],
                "position": [
                  0,
                  0
                ],
                "parentId": "USA"
              },
              {
                "id": "CAI",
                "properties": {
                  "label": "Cairo",
                  "passengers": 14000000,
                  "country": "Egypt"
                },
                "coordinates": [
                  30.121944,
                  31.405556
                ],
                "color": "#15AFAC",
                "styles": {},
                "label": "Cairo",
                "scale_factor": 1,
                "type": "#15AFAC",
                "size": [
                  55,
                  55
                ],
                "position": [
                  0,
                  0
                ],
                "parentId": "Egypt"
              },
              {
                "id": "CMN",
                "properties": {
                  "label": "Casablanca",
                  "passengers": 7000000,
                  "country": "Morocco"
                },
                "coordinates": [
                  33.367467,
                  -7.589967
                ],
                "color": "#15AFAC",
                "styles": {},
                "label": "Casablanca",
                "scale_factor": 1,
                "type": "#15AFAC",
                "size": [
                  55,
                  55
                ],
                "position": [
                  0,
                  0
                ],
                "parentId": "Morocco"
              },
              {
                "id": "LOS",
                "properties": {
                  "label": "Lagos",
                  "passengers": 5000000,
                  "country": "Nigeria"
                },
                "coordinates": [
                  6.577222,
                  3.321111
                ],
                "color": "#15AFAC",
                "styles": {},
                "label": "Lagos",
                "scale_factor": 1,
                "type": "#15AFAC",
                "size": [
                  55,
                  55
                ],
                "position": [
                  0,
                  0
                ],
                "parentId": "Nigeria"
              },
              {
                "id": "CPT",
                "properties": {
                  "label": "Cape Town",
                  "passengers": 5000000,
                  "country": "South Africa"
                },
                "coordinates": [
                  -33.969444,
                  18.597222
                ],
                "color": "#15AFAC",
                "styles": {},
                "label": "Cape Town",
                "scale_factor": 1,
                "type": "#15AFAC",
                "size": [
                  55,
                  55
                ],
                "position": [
                  0,
                  0
                ],
                "parentId": "South Africa"
              },
              {
                "id": "CTU",
                "properties": {
                  "label": "Chengdu",
                  "passengers": 40000000,
                  "country": "China"
                },
                "coordinates": [
                  30.578333,
                  103.946944
                ],
                "color": "#15AFAC",
                "styles": {},
                "label": "Chengdu",
                "scale_factor": 1,
                "type": "#15AFAC",
                "size": [
                  55,
                  55
                ],
                "position": [
                  0,
                  0
                ],
                "parentId": "China"
              },
              {
                "id": "CGK",
                "properties": {
                  "label": "Jakarta",
                  "passengers": 54000000,
                  "country": "Indonesia"
                },
                "coordinates": [
                  -6.125567,
                  106.655897
                ],
                "color": "#15AFAC",
                "styles": {},
                "label": "Jakarta",
                "scale_factor": 1,
                "type": "#15AFAC",
                "size": [
                  55,
                  55
                ],
                "position": [
                  0,
                  0
                ],
                "parentId": "Indonesia"
              },
              {
                "id": "IKA",
                "properties": {
                  "label": "Teheran",
                  "passengers": 8000000,
                  "country": "Iran"
                },
                "coordinates": [
                  35.416111,
                  51.152222
                ],
                "color": "#15AFAC",
                "styles": {},
                "label": "Teheran",
                "scale_factor": 1,
                "type": "#15AFAC",
                "size": [
                  55,
                  55
                ],
                "position": [
                  0,
                  0
                ],
                "parentId": "Iran"
              },
              {
                "id": "TLV",
                "properties": {
                  "label": "Tel Aviv",
                  "passengers": 20000000,
                  "country": "Israel"
                },
                "coordinates": [
                  32.011389,
                  34.886667
                ],
                "color": "#15AFAC",
                "styles": {},
                "label": "Tel Aviv",
                "scale_factor": 1,
                "type": "#15AFAC",
                "size": [
                  55,
                  55
                ],
                "position": [
                  0,
                  0
                ],
                "parentId": "Israel"
              },
              {
                "id": "KUL",
                "properties": {
                  "label": "Kuala Lumpur",
                  "passengers": 25000000,
                  "country": "Malaysia"
                },
                "coordinates": [
                  2.745578,
                  101.709917
                ],
                "color": "#15AFAC",
                "styles": {},
                "label": "Kuala Lumpur",
                "scale_factor": 1,
                "type": "#15AFAC",
                "size": [
                  55,
                  55
                ],
                "position": [
                  0,
                  0
                ],
                "parentId": "Malaysia"
              },
              {
                "id": "MNL",
                "properties": {
                  "label": "Manila",
                  "passengers": 8000000,
                  "country": "Philippines"
                },
                "coordinates": [
                  14.508647,
                  121.019581
                ],
                "color": "#15AFAC",
                "styles": {},
                "label": "Manila",
                "scale_factor": 1,
                "type": "#15AFAC",
                "size": [
                  55,
                  55
                ],
                "position": [
                  0,
                  0
                ],
                "parentId": "Philippines"
              },
              {
                "id": "SIN",
                "properties": {
                  "label": "Singapur",
                  "passengers": 32000000,
                  "country": "Singapore"
                },
                "coordinates": [
                  1.350189,
                  103.994433
                ],
                "color": "#15AFAC",
                "styles": {},
                "label": "Singapur",
                "scale_factor": 1,
                "type": "#15AFAC",
                "size": [
                  55,
                  55
                ],
                "position": [
                  0,
                  0
                ],
                "parentId": "Singapore"
              },
              {
                "id": "TPE",
                "properties": {
                  "label": "Taipeh",
                  "passengers": 800000,
                  "country": "Taiwan"
                },
                "coordinates": [
                  25.077732,
                  121.232822
                ],
                "color": "#15AFAC",
                "styles": {},
                "label": "Taipeh",
                "scale_factor": 1,
                "type": "#15AFAC",
                "size": [
                  55,
                  55
                ],
                "position": [
                  0,
                  0
                ],
                "parentId": "Taiwan"
              },
              {
                "id": "BKK",
                "properties": {
                  "label": "Bangkok",
                  "passengers": 65000000,
                  "country": "Thailand"
                },
                "coordinates": [
                  13.681108,
                  100.747283
                ],
                "color": "#15AFAC",
                "styles": {},
                "label": "Bangkok",
                "scale_factor": 1,
                "type": "#15AFAC",
                "size": [
                  55,
                  55
                ],
                "position": [
                  0,
                  0
                ],
                "parentId": "Thailand"
              },
              {
                "id": "IST",
                "properties": {
                  "label": "Istanbul",
                  "passengers": 64000000,
                  "country": "Turkey"
                },
                "coordinates": [
                  40.976922,
                  28.814606
                ],
                "color": "#15AFAC",
                "styles": {},
                "label": "Istanbul",
                "scale_factor": 1,
                "type": "#15AFAC",
                "size": [
                  55,
                  55
                ],
                "position": [
                  0,
                  0
                ],
                "parentId": "Turkey"
              },
              {
                "id": "ULN",
                "properties": {
                  "label": "Ulaanbaatar",
                  "passengers": 1000000,
                  "country": "Mongolia"
                },
                "coordinates": [
                  47.843056,
                  106.766639
                ],
                "color": "#15AFAC",
                "styles": {},
                "label": "Ulaanbaatar",
                "scale_factor": 1,
                "type": "#15AFAC",
                "size": [
                  55,
                  55
                ],
                "position": [
                  0,
                  0
                ],
                "parentId": "Mongolia"
              },
              {
                "id": "MEL",
                "properties": {
                  "label": "Melbourne",
                  "passengers": 12000000,
                  "country": "Australia"
                },
                "coordinates": [
                  -37.673333,
                  144.843333
                ],
                "color": "#15AFAC",
                "styles": {},
                "label": "Melbourne",
                "scale_factor": 1,
                "type": "#15AFAC",
                "size": [
                  55,
                  55
                ],
                "position": [
                  0,
                  0
                ],
                "parentId": "Australia"
              },
              {
                "id": "BNE",
                "properties": {
                  "label": "Brisbane",
                  "passengers": 23000000,
                  "country": "Australia"
                },
                "coordinates": [
                  -27.383333,
                  153.118056
                ],
                "color": "#15AFAC",
                "styles": {},
                "label": "Brisbane",
                "scale_factor": 1,
                "type": "#15AFAC",
                "size": [
                  55,
                  55
                ],
                "position": [
                  0,
                  0
                ],
                "parentId": "Australia"
              },
              {
                "id": "NAN",
                "properties": {
                  "label": "Nadi",
                  "passengers": 2000000,
                  "country": "Fiji"
                },
                "coordinates": [
                  -17.755392,
                  177.443378
                ],
                "color": "#15AFAC",
                "styles": {},
                "label": "Nadi",
                "scale_factor": 1,
                "type": "#15AFAC",
                "size": [
                  55,
                  55
                ],
                "position": [
                  0,
                  0
                ],
                "parentId": "Fiji"
              },
              {
                "id": "AKL",
                "properties": {
                  "label": "Auckland",
                  "passengers": 21000000,
                  "country": "New Zealand"
                },
                "coordinates": [
                  -37.008056,
                  174.791667
                ],
                "color": "#15AFAC",
                "styles": {},
                "label": "Auckland",
                "scale_factor": 1,
                "type": "#15AFAC",
                "size": [
                  55,
                  55
                ],
                "position": [
                  0,
                  0
                ],
                "parentId": "New Zealand"
              },
              {
                "id": "CDG",
                "properties": {
                  "label": "Paris",
                  "passengers": 57000000,
                  "country": "France"
                },
                "coordinates": [
                  49.009722,
                  2.547778
                ],
                "color": "#15AFAC",
                "styles": {},
                "label": "Paris",
                "scale_factor": 1,
                "type": "#15AFAC",
                "size": [
                  55,
                  55
                ],
                "position": [
                  0,
                  0
                ],
                "parentId": "France"
              },
              {
                "id": "MAD",
                "properties": {
                  "label": "Madrid",
                  "passengers": 50000000,
                  "country": "Spain"
                },
                "coordinates": [
                  40.4675,
                  -3.551944
                ],
                "color": "#15AFAC",
                "styles": {},
                "label": "Madrid",
                "scale_factor": 1,
                "type": "#15AFAC",
                "size": [
                  55,
                  55
                ],
                "position": [
                  0,
                  0
                ],
                "parentId": "Spain"
              },
              {
                "id": "BCN",
                "properties": {
                  "label": "Barcelona",
                  "passengers": 41000000,
                  "country": "Spain"
                },
                "coordinates": [
                  41.297078,
                  2.078464
                ],
                "color": "#15AFAC",
                "styles": {},
                "label": "Barcelona",
                "scale_factor": 1,
                "type": "#15AFAC",
                "size": [
                  55,
                  55
                ],
                "position": [
                  0,
                  0
                ],
                "parentId": "Spain"
              },
              {
                "id": "FCO",
                "properties": {
                  "label": "Rome",
                  "passengers": 29000000,
                  "country": "Italy"
                },
                "coordinates": [
                  41.804444,
                  12.250833
                ],
                "color": "#15AFAC",
                "styles": {},
                "label": "Rome",
                "scale_factor": 1,
                "type": "#15AFAC",
                "size": [
                  55,
                  55
                ],
                "position": [
                  0,
                  0
                ],
                "parentId": "Italy"
              },
              {
                "id": "CPH",
                "properties": {
                  "label": "Copenhagen",
                  "passengers": 30000000,
                  "country": "Denmark"
                },
                "coordinates": [
                  55.617917,
                  12.655972
                ],
                "color": "#15AFAC",
                "styles": {},
                "label": "Copenhagen",
                "scale_factor": 1,
                "type": "#15AFAC",
                "size": [
                  55,
                  55
                ],
                "position": [
                  0,
                  0
                ],
                "parentId": "Denmark"
              },
              {
                "id": "HEL",
                "properties": {
                  "label": "Helsinki",
                  "passengers": 5000000,
                  "country": "Finland"
                },
                "coordinates": [
                  60.317222,
                  24.963333
                ],
                "color": "#15AFAC",
                "styles": {},
                "label": "Helsinki",
                "scale_factor": 1,
                "type": "#15AFAC",
                "size": [
                  55,
                  55
                ],
                "position": [
                  0,
                  0
                ],
                "parentId": "Finland"
              },
              {
                "id": "ATH",
                "properties": {
                  "label": "Athens",
                  "passengers": 22000000,
                  "country": "Greece"
                },
                "coordinates": [
                  37.936358,
                  23.944467
                ],
                "color": "#15AFAC",
                "styles": {},
                "label": "Athens",
                "scale_factor": 1,
                "type": "#15AFAC",
                "size": [
                  55,
                  55
                ],
                "position": [
                  0,
                  0
                ],
                "parentId": "Greece"
              },
              {
                "id": "DUB",
                "properties": {
                  "label": "Dublin",
                  "passengers": 32000000,
                  "country": "Ireland"
                },
                "coordinates": [
                  53.421333,
                  -6.270075
                ],
                "color": "#15AFAC",
                "styles": {},
                "label": "Dublin",
                "scale_factor": 1,
                "type": "#15AFAC",
                "size": [
                  55,
                  55
                ],
                "position": [
                  0,
                  0
                ],
                "parentId": "Ireland"
              },
              {
                "id": "RKV",
                "properties": {
                  "label": "Reykjavik",
                  "passengers": 400000,
                  "country": "Iceland"
                },
                "coordinates": [
                  64.13,
                  -21.940556
                ],
                "color": "#15AFAC",
                "styles": {},
                "label": "Reykjavik",
                "scale_factor": 1,
                "type": "#15AFAC",
                "size": [
                  55,
                  55
                ],
                "position": [
                  0,
                  0
                ],
                "parentId": "Iceland"
              },
              {
                "id": "OSL",
                "properties": {
                  "label": "Oslo",
                  "passengers": 9000000,
                  "country": "Norway"
                },
                "coordinates": [
                  60.193917,
                  11.100361
                ],
                "color": "#15AFAC",
                "styles": {},
                "label": "Oslo",
                "scale_factor": 1,
                "type": "#15AFAC",
                "size": [
                  55,
                  55
                ],
                "position": [
                  0,
                  0
                ],
                "parentId": "Norway"
              },
              {
                "id": "VIE",
                "properties": {
                  "label": "Vienna",
                  "passengers": 10000000,
                  "country": "Austria"
                },
                "coordinates": [
                  48.110833,
                  16.570833
                ],
                "color": "#15AFAC",
                "styles": {},
                "label": "Vienna",
                "scale_factor": 1,
                "type": "#15AFAC",
                "size": [
                  55,
                  55
                ],
                "position": [
                  0,
                  0
                ],
                "parentId": "Austria"
              },
              {
                "id": "LIS",
                "properties": {
                  "label": "Lisbon",
                  "passengers": 28000000,
                  "country": "Portugal"
                },
                "coordinates": [
                  38.774167,
                  -9.134167
                ],
                "color": "#15AFAC",
                "styles": {},
                "label": "Lisbon",
                "scale_factor": 1,
                "type": "#15AFAC",
                "size": [
                  55,
                  55
                ],
                "position": [
                  0,
                  0
                ],
                "parentId": "Portugal"
              },
              {
                "id": "ARN",
                "properties": {
                  "label": "Stockholm",
                  "passengers": 7000000,
                  "country": "Sweden"
                },
                "coordinates": [
                  59.651944,
                  17.918611
                ],
                "color": "#15AFAC",
                "styles": {},
                "label": "Stockholm",
                "scale_factor": 1,
                "type": "#15AFAC",
                "size": [
                  55,
                  55
                ],
                "position": [
                  0,
                  0
                ],
                "parentId": "Sweden"
              },
              {
                "id": "EDI",
                "properties": {
                  "label": "Edinburgh",
                  "passengers": 14000000,
                  "country": "UK"
                },
                "coordinates": [
                  55.95,
                  -3.3725
                ],
                "color": "#15AFAC",
                "styles": {},
                "label": "Edinburgh",
                "scale_factor": 1,
                "type": "#15AFAC",
                "size": [
                  55,
                  55
                ],
                "position": [
                  0,
                  0
                ],
                "parentId": "UK"
              },
              {
                "id": "ORD",
                "properties": {
                  "label": "Chicago",
                  "passengers": 54000000,
                  "country": "USA"
                },
                "coordinates": [
                  41.978603,
                  -87.904842
                ],
                "color": "#15AFAC",
                "styles": {},
                "label": "Chicago",
                "scale_factor": 1,
                "type": "#15AFAC",
                "size": [
                  55,
                  55
                ],
                "position": [
                  0,
                  0
                ],
                "parentId": "USA"
              },
              {
                "id": "DFW",
                "properties": {
                  "label": "Dallas",
                  "passengers": 73000000,
                  "country": "USA"
                },
                "coordinates": [
                  32.896828,
                  -97.037997
                ],
                "color": "#15AFAC",
                "styles": {},
                "label": "Dallas",
                "scale_factor": 1,
                "type": "#15AFAC",
                "size": [
                  55,
                  55
                ],
                "position": [
                  0,
                  0
                ],
                "parentId": "USA"
              },
              {
                "id": "SFO",
                "properties": {
                  "label": "San Francisco",
                  "passengers": 42000000,
                  "country": "USA"
                },
                "coordinates": [
                  37.618972,
                  -122.374889
                ],
                "color": "#15AFAC",
                "styles": {},
                "label": "San Francisco",
                "scale_factor": 1,
                "type": "#15AFAC",
                "size": [
                  55,
                  55
                ],
                "position": [
                  0,
                  0
                ],
                "parentId": "USA"
              },
              {
                "id": "LAS",
                "properties": {
                  "label": "Las Vegas",
                  "passengers": 52000000,
                  "country": "USA"
                },
                "coordinates": [
                  36.080056,
                  -115.15225
                ],
                "color": "#15AFAC",
                "styles": {},
                "label": "Las Vegas",
                "scale_factor": 1,
                "type": "#15AFAC",
                "size": [
                  55,
                  55
                ],
                "position": [
                  0,
                  0
                ],
                "parentId": "USA"
              },
              {
                "id": "MIA",
                "properties": {
                  "label": "Miami",
                  "passengers": 50000000,
                  "country": "USA"
                },
                "coordinates": [
                  25.79325,
                  -80.290556
                ],
                "color": "#15AFAC",
                "styles": {},
                "label": "Miami",
                "scale_factor": 1,
                "type": "#15AFAC",
                "size": [
                  55,
                  55
                ],
                "position": [
                  0,
                  0
                ],
                "parentId": "USA"
              },
              {
                "id": "YYZ",
                "properties": {
                  "label": "Toronto",
                  "passengers": 12000000,
                  "country": "Canada"
                },
                "coordinates": [
                  43.677222,
                  -79.630556
                ],
                "color": "#15AFAC",
                "styles": {},
                "label": "Toronto",
                "scale_factor": 1,
                "type": "#15AFAC",
                "size": [
                  55,
                  55
                ],
                "position": [
                  0,
                  0
                ],
                "parentId": "Canada"
              },
              {
                "id": "YVR",
                "properties": {
                  "label": "Vancouver",
                  "passengers": 19000000,
                  "country": "Canada"
                },
                "coordinates": [
                  49.193889,
                  -123.184444
                ],
                "color": "#15AFAC",
                "styles": {},
                "label": "Vancouver",
                "scale_factor": 1,
                "type": "#15AFAC",
                "size": [
                  55,
                  55
                ],
                "position": [
                  0,
                  0
                ],
                "parentId": "Canada"
              },
              {
                "id": "YUL",
                "properties": {
                  "label": "Montreal",
                  "passengers": 15000000,
                  "country": "Canada"
                },
                "coordinates": [
                  45.47175,
                  -73.736569
                ],
                "color": "#15AFAC",
                "styles": {},
                "label": "Montreal",
                "scale_factor": 1,
                "type": "#15AFAC",
                "size": [
                  55,
                  55
                ],
                "position": [
                  0,
                  0
                ],
                "parentId": "Canada"
              },
              {
                "id": "MEX",
                "properties": {
                  "label": "Mexico-City",
                  "passengers": 46000000,
                  "country": "Mexico"
                },
                "coordinates": [
                  19.436303,
                  -99.072097
                ],
                "color": "#15AFAC",
                "styles": {},
                "label": "Mexico-City",
                "scale_factor": 1,
                "type": "#15AFAC",
                "size": [
                  55,
                  55
                ],
                "position": [
                  0,
                  0
                ],
                "parentId": "Mexico"
              },
              {
                "id": "GUA",
                "properties": {
                  "label": "Guatemala-City",
                  "passengers": 2000000,
                  "country": "Guatemala"
                },
                "coordinates": [
                  14.583272,
                  -90.527475
                ],
                "color": "#15AFAC",
                "styles": {},
                "label": "Guatemala-City",
                "scale_factor": 1,
                "type": "#15AFAC",
                "size": [
                  55,
                  55
                ],
                "position": [
                  0,
                  0
                ],
                "parentId": "Guatemala"
              },
              {
                "id": "EZE",
                "properties": {
                  "label": "Buenos Aires",
                  "passengers": 5000000,
                  "country": "Argentina"
                },
                "coordinates": [
                  -34.822222,
                  -58.535833
                ],
                "color": "#15AFAC",
                "styles": {},
                "label": "Buenos Aires",
                "scale_factor": 1,
                "type": "#15AFAC",
                "size": [
                  55,
                  55
                ],
                "position": [
                  0,
                  0
                ],
                "parentId": "Argentina"
              },
              {
                "id": "GRU",
                "properties": {
                  "label": "Sao Paulo",
                  "passengers": 34000000,
                  "country": "Brazil"
                },
                "coordinates": [
                  -23.432075,
                  -46.469511
                ],
                "color": "#15AFAC",
                "styles": {},
                "label": "Sao Paulo",
                "scale_factor": 1,
                "type": "#15AFAC",
                "size": [
                  55,
                  55
                ],
                "position": [
                  0,
                  0
                ],
                "parentId": "Brazil"
              },
              {
                "id": "SCL",
                "properties": {
                  "label": "Santiago de Chile",
                  "passengers": 20000000,
                  "country": "Chile"
                },
                "coordinates": [
                  -33.392975,
                  -70.785803
                ],
                "color": "#15AFAC",
                "styles": {},
                "label": "Santiago de Chile",
                "scale_factor": 1,
                "type": "#15AFAC",
                "size": [
                  55,
                  55
                ],
                "position": [
                  0,
                  0
                ],
                "parentId": "Chile"
              },
              {
                "id": "BSB",
                "properties": {
                  "label": "Brasilia",
                  "passengers": 13000000,
                  "country": "Brazil"
                },
                "coordinates": [
                  -15.871111,
                  -47.918611
                ],
                "color": "#15AFAC",
                "styles": {},
                "label": "Brasilia",
                "scale_factor": 1,
                "type": "#15AFAC",
                "size": [
                  55,
                  55
                ],
                "position": [
                  0,
                  0
                ],
                "parentId": "Brazil"
              },
              {
                "id": "BOG",
                "properties": {
                  "label": "Bogota",
                  "passengers": 36000000,
                  "country": "Colombia"
                },
                "coordinates": [
                  4.701594,
                  -74.146947
                ],
                "color": "#15AFAC",
                "styles": {},
                "label": "Bogota",
                "scale_factor": 1,
                "type": "#15AFAC",
                "size": [
                  55,
                  55
                ],
                "position": [
                  0,
                  0
                ],
                "parentId": "Colombia"
              },
              {
                "id": "CCS",
                "properties": {
                  "label": "Caracas",
                  "passengers": 8000000,
                  "country": "Venezuela"
                },
                "coordinates": [
                  10.601194,
                  -66.991222
                ],
                "color": "#15AFAC",
                "styles": {},
                "label": "Caracas",
                "scale_factor": 1,
                "type": "#15AFAC",
                "size": [
                  55,
                  55
                ],
                "position": [
                  0,
                  0
                ],
                "parentId": "Venezuela"
              },
              {
                "id": "USA",
                "properties": {
                  "label": "USA"
                },
                "color": "#15AFAC",
                "styles": {},
                "label": "USA",
                "scale_factor": 1,
                "type": "#15AFAC",
                "size": [
                  55,
                  55
                ],
                "position": [
                  0,
                  0
                ]
              },
              {
                "id": "Brazil",
                "properties": {
                  "label": "Brazil"
                },
                "color": "#15AFAC",
                "styles": {},
                "label": "Brazil",
                "scale_factor": 1,
                "type": "#15AFAC",
                "size": [
                  55,
                  55
                ],
                "position": [
                  0,
                  0
                ]
              },
              {
                "id": "Peru",
                "properties": {
                  "label": "Peru"
                },
                "color": "#15AFAC",
                "styles": {},
                "label": "Peru",
                "scale_factor": 1,
                "type": "#15AFAC",
                "size": [
                  55,
                  55
                ],
                "position": [
                  0,
                  0
                ]
              },
              {
                "id": "UK",
                "properties": {
                  "label": "UK"
                },
                "color": "#15AFAC",
                "styles": {},
                "label": "UK",
                "scale_factor": 1,
                "type": "#15AFAC",
                "size": [
                  55,
                  55
                ],
                "position": [
                  0,
                  0
                ]
              },
              {
                "id": "Germany",
                "properties": {
                  "label": "Germany"
                },
                "color": "#15AFAC",
                "styles": {},
                "label": "Germany",
                "scale_factor": 1,
                "type": "#15AFAC",
                "size": [
                  55,
                  55
                ],
                "position": [
                  0,
                  0
                ]
              },
              {
                "id": "Russia",
                "properties": {
                  "label": "Russia"
                },
                "color": "#15AFAC",
                "styles": {},
                "label": "Russia",
                "scale_factor": 1,
                "type": "#15AFAC",
                "size": [
                  55,
                  55
                ],
                "position": [
                  0,
                  0
                ]
              },
              {
                "id": "India",
                "properties": {
                  "label": "India"
                },
                "color": "#15AFAC",
                "styles": {},
                "label": "India",
                "scale_factor": 1,
                "type": "#15AFAC",
                "size": [
                  55,
                  55
                ],
                "position": [
                  0,
                  0
                ]
              },
              {
                "id": "China",
                "properties": {
                  "label": "China"
                },
                "color": "#15AFAC",
                "styles": {},
                "label": "China",
                "scale_factor": 1,
                "type": "#15AFAC",
                "size": [
                  55,
                  55
                ],
                "position": [
                  0,
                  0
                ]
              },
              {
                "id": "Japan",
                "properties": {
                  "label": "Japan"
                },
                "color": "#15AFAC",
                "styles": {},
                "label": "Japan",
                "scale_factor": 1,
                "type": "#15AFAC",
                "size": [
                  55,
                  55
                ],
                "position": [
                  0,
                  0
                ]
              },
              {
                "id": "UAE",
                "properties": {
                  "label": "UAE"
                },
                "color": "#15AFAC",
                "styles": {},
                "label": "UAE",
                "scale_factor": 1,
                "type": "#15AFAC",
                "size": [
                  55,
                  55
                ],
                "position": [
                  0,
                  0
                ]
              },
              {
                "id": "Senegal",
                "properties": {
                  "label": "Senegal"
                },
                "color": "#15AFAC",
                "styles": {},
                "label": "Senegal",
                "scale_factor": 1,
                "type": "#15AFAC",
                "size": [
                  55,
                  55
                ],
                "position": [
                  0,
                  0
                ]
              },
              {
                "id": "South Africa",
                "properties": {
                  "label": "South Africa"
                },
                "color": "#15AFAC",
                "styles": {},
                "label": "South Africa",
                "scale_factor": 1,
                "type": "#15AFAC",
                "size": [
                  55,
                  55
                ],
                "position": [
                  0,
                  0
                ]
              },
              {
                "id": "Australia",
                "properties": {
                  "label": "Australia"
                },
                "color": "#15AFAC",
                "styles": {},
                "label": "Australia",
                "scale_factor": 1,
                "type": "#15AFAC",
                "size": [
                  55,
                  55
                ],
                "position": [
                  0,
                  0
                ]
              },
              {
                "id": "Kenya",
                "properties": {
                  "label": "Kenya"
                },
                "color": "#15AFAC",
                "styles": {},
                "label": "Kenya",
                "scale_factor": 1,
                "type": "#15AFAC",
                "size": [
                  55,
                  55
                ],
                "position": [
                  0,
                  0
                ]
              },
              {
                "id": "Egypt",
                "properties": {
                  "label": "Egypt"
                },
                "color": "#15AFAC",
                "styles": {},
                "label": "Egypt",
                "scale_factor": 1,
                "type": "#15AFAC",
                "size": [
                  55,
                  55
                ],
                "position": [
                  0,
                  0
                ]
              },
              {
                "id": "Morocco",
                "properties": {
                  "label": "Morocco"
                },
                "color": "#15AFAC",
                "styles": {},
                "label": "Morocco",
                "scale_factor": 1,
                "type": "#15AFAC",
                "size": [
                  55,
                  55
                ],
                "position": [
                  0,
                  0
                ]
              },
              {
                "id": "Nigeria",
                "properties": {
                  "label": "Nigeria"
                },
                "color": "#15AFAC",
                "styles": {},
                "label": "Nigeria",
                "scale_factor": 1,
                "type": "#15AFAC",
                "size": [
                  55,
                  55
                ],
                "position": [
                  0,
                  0
                ]
              },
              {
                "id": "Indonesia",
                "properties": {
                  "label": "Indonesia"
                },
                "color": "#15AFAC",
                "styles": {},
                "label": "Indonesia",
                "scale_factor": 1,
                "type": "#15AFAC",
                "size": [
                  55,
                  55
                ],
                "position": [
                  0,
                  0
                ]
              },
              {
                "id": "Iran",
                "properties": {
                  "label": "Iran"
                },
                "color": "#15AFAC",
                "styles": {},
                "label": "Iran",
                "scale_factor": 1,
                "type": "#15AFAC",
                "size": [
                  55,
                  55
                ],
                "position": [
                  0,
                  0
                ]
              },
              {
                "id": "Israel",
                "properties": {
                  "label": "Israel"
                },
                "color": "#15AFAC",
                "styles": {},
                "label": "Israel",
                "scale_factor": 1,
                "type": "#15AFAC",
                "size": [
                  55,
                  55
                ],
                "position": [
                  0,
                  0
                ]
              },
              {
                "id": "Malaysia",
                "properties": {
                  "label": "Malaysia"
                },
                "color": "#15AFAC",
                "styles": {},
                "label": "Malaysia",
                "scale_factor": 1,
                "type": "#15AFAC",
                "size": [
                  55,
                  55
                ],
                "position": [
                  0,
                  0
                ]
              },
              {
                "id": "Philippines",
                "properties": {
                  "label": "Philippines"
                },
                "color": "#15AFAC",
                "styles": {},
                "label": "Philippines",
                "scale_factor": 1,
                "type": "#15AFAC",
                "size": [
                  55,
                  55
                ],
                "position": [
                  0,
                  0
                ]
              },
              {
                "id": "Singapore",
                "properties": {
                  "label": "Singapore"
                },
                "color": "#15AFAC",
                "styles": {},
                "label": "Singapore",
                "scale_factor": 1,
                "type": "#15AFAC",
                "size": [
                  55,
                  55
                ],
                "position": [
                  0,
                  0
                ]
              },
              {
                "id": "Taiwan",
                "properties": {
                  "label": "Taiwan"
                },
                "color": "#15AFAC",
                "styles": {},
                "label": "Taiwan",
                "scale_factor": 1,
                "type": "#15AFAC",
                "size": [
                  55,
                  55
                ],
                "position": [
                  0,
                  0
                ]
              },
              {
                "id": "Thailand",
                "properties": {
                  "label": "Thailand"
                },
                "color": "#15AFAC",
                "styles": {},
                "label": "Thailand",
                "scale_factor": 1,
                "type": "#15AFAC",
                "size": [
                  55,
                  55
                ],
                "position": [
                  0,
                  0
                ]
              },
              {
                "id": "Turkey",
                "properties": {
                  "label": "Turkey"
                },
                "color": "#15AFAC",
                "styles": {},
                "label": "Turkey",
                "scale_factor": 1,
                "type": "#15AFAC",
                "size": [
                  55,
                  55
                ],
                "position": [
                  0,
                  0
                ]
              },
              {
                "id": "Mongolia",
                "properties": {
                  "label": "Mongolia"
                },
                "color": "#15AFAC",
                "styles": {},
                "label": "Mongolia",
                "scale_factor": 1,
                "type": "#15AFAC",
                "size": [
                  55,
                  55
                ],
                "position": [
                  0,
                  0
                ]
              },
              {
                "id": "Fiji",
                "properties": {
                  "label": "Fiji"
                },
                "color": "#15AFAC",
                "styles": {},
                "label": "Fiji",
                "scale_factor": 1,
                "type": "#15AFAC",
                "size": [
                  55,
                  55
                ],
                "position": [
                  0,
                  0
                ]
              },
              {
                "id": "New Zealand",
                "properties": {
                  "label": "New Zealand"
                },
                "color": "#15AFAC",
                "styles": {},
                "label": "New Zealand",
                "scale_factor": 1,
                "type": "#15AFAC",
                "size": [
                  55,
                  55
                ],
                "position": [
                  0,
                  0
                ]
              },
              {
                "id": "France",
                "properties": {
                  "label": "France"
                },
                "color": "#15AFAC",
                "styles": {},
                "label": "France",
                "scale_factor": 1,
                "type": "#15AFAC",
                "size": [
                  55,
                  55
                ],
                "position": [
                  0,
                  0
                ]
              },
              {
                "id": "Spain",
                "properties": {
                  "label": "Spain"
                },
                "color": "#15AFAC",
                "styles": {},
                "label": "Spain",
                "scale_factor": 1,
                "type": "#15AFAC",
                "size": [
                  55,
                  55
                ],
                "position": [
                  0,
                  0
                ]
              },
              {
                "id": "Italy",
                "properties": {
                  "label": "Italy"
                },
                "color": "#15AFAC",
                "styles": {},
                "label": "Italy",
                "scale_factor": 1,
                "type": "#15AFAC",
                "size": [
                  55,
                  55
                ],
                "position": [
                  0,
                  0
                ]
              },
              {
                "id": "Denmark",
                "properties": {
                  "label": "Denmark"
                },
                "color": "#15AFAC",
                "styles": {},
                "label": "Denmark",
                "scale_factor": 1,
                "type": "#15AFAC",
                "size": [
                  55,
                  55
                ],
                "position": [
                  0,
                  0
                ]
              },
              {
                "id": "Finland",
                "properties": {
                  "label": "Finland"
                },
                "color": "#15AFAC",
                "styles": {},
                "label": "Finland",
                "scale_factor": 1,
                "type": "#15AFAC",
                "size": [
                  55,
                  55
                ],
                "position": [
                  0,
                  0
                ]
              },
              {
                "id": "Greece",
                "properties": {
                  "label": "Greece"
                },
                "color": "#15AFAC",
                "styles": {},
                "label": "Greece",
                "scale_factor": 1,
                "type": "#15AFAC",
                "size": [
                  55,
                  55
                ],
                "position": [
                  0,
                  0
                ]
              },
              {
                "id": "Ireland",
                "properties": {
                  "label": "Ireland"
                },
                "color": "#15AFAC",
                "styles": {},
                "label": "Ireland",
                "scale_factor": 1,
                "type": "#15AFAC",
                "size": [
                  55,
                  55
                ],
                "position": [
                  0,
                  0
                ]
              },
              {
                "id": "Iceland",
                "properties": {
                  "label": "Iceland"
                },
                "color": "#15AFAC",
                "styles": {},
                "label": "Iceland",
                "scale_factor": 1,
                "type": "#15AFAC",
                "size": [
                  55,
                  55
                ],
                "position": [
                  0,
                  0
                ]
              },
              {
                "id": "Norway",
                "properties": {
                  "label": "Norway"
                },
                "color": "#15AFAC",
                "styles": {},
                "label": "Norway",
                "scale_factor": 1,
                "type": "#15AFAC",
                "size": [
                  55,
                  55
                ],
                "position": [
                  0,
                  0
                ]
              },
              {
                "id": "Austria",
                "properties": {
                  "label": "Austria"
                },
                "color": "#15AFAC",
                "styles": {},
                "label": "Austria",
                "scale_factor": 1,
                "type": "#15AFAC",
                "size": [
                  55,
                  55
                ],
                "position": [
                  0,
                  0
                ]
              },
              {
                "id": "Portugal",
                "properties": {
                  "label": "Portugal"
                },
                "color": "#15AFAC",
                "styles": {},
                "label": "Portugal",
                "scale_factor": 1,
                "type": "#15AFAC",
                "size": [
                  55,
                  55
                ],
                "position": [
                  0,
                  0
                ]
              },
              {
                "id": "Sweden",
                "properties": {
                  "label": "Sweden"
                },
                "color": "#15AFAC",
                "styles": {},
                "label": "Sweden",
                "scale_factor": 1,
                "type": "#15AFAC",
                "size": [
                  55,
                  55
                ],
                "position": [
                  0,
                  0
                ]
              },
              {
                "id": "Canada",
                "properties": {
                  "label": "Canada"
                },
                "color": "#15AFAC",
                "styles": {},
                "label": "Canada",
                "scale_factor": 1,
                "type": "#15AFAC",
                "size": [
                  55,
                  55
                ],
                "position": [
                  0,
                  0
                ]
              },
              {
                "id": "Mexico",
                "properties": {
                  "label": "Mexico"
                },
                "color": "#15AFAC",
                "styles": {},
                "label": "Mexico",
                "scale_factor": 1,
                "type": "#15AFAC",
                "size": [
                  55,
                  55
                ],
                "position": [
                  0,
                  0
                ]
              },
              {
                "id": "Guatemala",
                "properties": {
                  "label": "Guatemala"
                },
                "color": "#15AFAC",
                "styles": {},
                "label": "Guatemala",
                "scale_factor": 1,
                "type": "#15AFAC",
                "size": [
                  55,
                  55
                ],
                "position": [
                  0,
                  0
                ]
              },
              {
                "id": "Argentina",
                "properties": {
                  "label": "Argentina"
                },
                "color": "#15AFAC",
                "styles": {},
                "label": "Argentina",
                "scale_factor": 1,
                "type": "#15AFAC",
                "size": [
                  55,
                  55
                ],
                "position": [
                  0,
                  0
                ]
              },
              {
                "id": "Chile",
                "properties": {
                  "label": "Chile"
                },
                "color": "#15AFAC",
                "styles": {},
                "label": "Chile",
                "scale_factor": 1,
                "type": "#15AFAC",
                "size": [
                  55,
                  55
                ],
                "position": [
                  0,
                  0
                ]
              },
              {
                "id": "Colombia",
                "properties": {
                  "label": "Colombia"
                },
                "color": "#15AFAC",
                "styles": {},
                "label": "Colombia",
                "scale_factor": 1,
                "type": "#15AFAC",
                "size": [
                  55,
                  55
                ],
                "position": [
                  0,
                  0
                ]
              },
              {
                "id": "Venezuela",
                "properties": {
                  "label": "Venezuela"
                },
                "color": "#15AFAC",
                "styles": {},
                "label": "Venezuela",
                "scale_factor": 1,
                "type": "#15AFAC",
                "size": [
                  55,
                  55
                ],
                "position": [
                  0,
                  0
                ]
              }
            ],
            "_overview": {
              "enabled": null,
              "overview_set": false
            },
            "_selected_graph": [
              [],
              []
            ],
            "_sidebar": {
              "enabled": false,
              "start_with": null
            },
            "_view_count": null,
            "_view_module": "yfiles-jupyter-graphs",
            "_view_module_version": "^1.8.1",
            "_view_name": "GraphView",
            "layout": "IPY_MODEL_ac3aadd4b19c411394df2bdefaa8ecbe",
            "tabbable": null,
            "tooltip": null
          }
        },
        "ac3aadd4b19c411394df2bdefaa8ecbe": {
          "model_module": "@jupyter-widgets/base",
          "model_name": "LayoutModel",
          "model_module_version": "2.0.0",
          "state": {
            "_model_module": "@jupyter-widgets/base",
            "_model_module_version": "2.0.0",
            "_model_name": "LayoutModel",
            "_view_count": null,
            "_view_module": "@jupyter-widgets/base",
            "_view_module_version": "2.0.0",
            "_view_name": "LayoutView",
            "align_content": null,
            "align_items": null,
            "align_self": null,
            "border_bottom": null,
            "border_left": null,
            "border_right": null,
            "border_top": null,
            "bottom": null,
            "display": null,
            "flex": null,
            "flex_flow": null,
            "grid_area": null,
            "grid_auto_columns": null,
            "grid_auto_flow": null,
            "grid_auto_rows": null,
            "grid_column": null,
            "grid_gap": null,
            "grid_row": null,
            "grid_template_areas": null,
            "grid_template_columns": null,
            "grid_template_rows": null,
            "height": "800px",
            "justify_content": null,
            "justify_items": null,
            "left": null,
            "margin": null,
            "max_height": null,
            "max_width": null,
            "min_height": null,
            "min_width": null,
            "object_fit": null,
            "object_position": null,
            "order": null,
            "overflow": null,
            "padding": null,
            "right": null,
            "top": null,
            "visibility": null,
            "width": "100%"
          }
        },
        "2d2d3d113274414f98a6c3ee367086d4": {
          "model_module": "yfiles-jupyter-graphs",
          "model_name": "GraphModel",
          "model_module_version": "^1.8.1",
          "state": {
            "_context_pane_mapping": [
              {
                "id": "Neighborhood",
                "title": "Neighborhood"
              },
              {
                "id": "Data",
                "title": "Data"
              },
              {
                "id": "Search",
                "title": "Search"
              },
              {
                "id": "About",
                "title": "About"
              }
            ],
            "_data_importer": "unknown",
            "_directed": false,
            "_dom_classes": [],
            "_edges": [
              {
                "start": "LAX",
                "end": "JFK",
                "label": "",
                "properties": {},
                "directed": false,
                "color": "#15AFAC",
                "thickness_factor": 1
              },
              {
                "start": "JFK",
                "end": "GIG",
                "label": "",
                "properties": {},
                "directed": false,
                "color": "#15AFAC",
                "thickness_factor": 1
              },
              {
                "start": "JFK",
                "end": "LIM",
                "label": "",
                "properties": {},
                "directed": false,
                "color": "#15AFAC",
                "thickness_factor": 1
              },
              {
                "start": "JFK",
                "end": "LHR",
                "label": "",
                "properties": {},
                "directed": false,
                "color": "#15AFAC",
                "thickness_factor": 1
              },
              {
                "start": "GIG",
                "end": "FRA",
                "label": "",
                "properties": {},
                "directed": false,
                "color": "#15AFAC",
                "thickness_factor": 1
              },
              {
                "start": "LIM",
                "end": "GIG",
                "label": "",
                "properties": {},
                "directed": false,
                "color": "#15AFAC",
                "thickness_factor": 1
              },
              {
                "start": "FRA",
                "end": "JFK",
                "label": "",
                "properties": {},
                "directed": false,
                "color": "#15AFAC",
                "thickness_factor": 1
              },
              {
                "start": "LHR",
                "end": "FRA",
                "label": "",
                "properties": {},
                "directed": false,
                "color": "#15AFAC",
                "thickness_factor": 1
              },
              {
                "start": "FRA",
                "end": "SVO",
                "label": "",
                "properties": {},
                "directed": false,
                "color": "#15AFAC",
                "thickness_factor": 1
              },
              {
                "start": "FRA",
                "end": "DXB",
                "label": "",
                "properties": {},
                "directed": false,
                "color": "#15AFAC",
                "thickness_factor": 1
              },
              {
                "start": "SVO",
                "end": "DEL",
                "label": "",
                "properties": {},
                "directed": false,
                "color": "#15AFAC",
                "thickness_factor": 1
              },
              {
                "start": "SVO",
                "end": "PVG",
                "label": "",
                "properties": {},
                "directed": false,
                "color": "#15AFAC",
                "thickness_factor": 1
              },
              {
                "start": "DEL",
                "end": "HKG",
                "label": "",
                "properties": {},
                "directed": false,
                "color": "#15AFAC",
                "thickness_factor": 1
              },
              {
                "start": "PVG",
                "end": "HKG",
                "label": "",
                "properties": {},
                "directed": false,
                "color": "#15AFAC",
                "thickness_factor": 1
              },
              {
                "start": "PVG",
                "end": "NRT",
                "label": "",
                "properties": {},
                "directed": false,
                "color": "#15AFAC",
                "thickness_factor": 1
              },
              {
                "start": "HKG",
                "end": "SYD",
                "label": "",
                "properties": {},
                "directed": false,
                "color": "#15AFAC",
                "thickness_factor": 1
              },
              {
                "start": "NRT",
                "end": "SYD",
                "label": "",
                "properties": {},
                "directed": false,
                "color": "#15AFAC",
                "thickness_factor": 1
              },
              {
                "start": "DXB",
                "end": "SVO",
                "label": "",
                "properties": {},
                "directed": false,
                "color": "#15AFAC",
                "thickness_factor": 1
              },
              {
                "start": "DXB",
                "end": "DEL",
                "label": "",
                "properties": {},
                "directed": false,
                "color": "#15AFAC",
                "thickness_factor": 1
              },
              {
                "start": "DXB",
                "end": "DKR",
                "label": "",
                "properties": {},
                "directed": false,
                "color": "#15AFAC",
                "thickness_factor": 1
              },
              {
                "start": "DXB",
                "end": "JNB",
                "label": "",
                "properties": {},
                "directed": false,
                "color": "#15AFAC",
                "thickness_factor": 1
              },
              {
                "start": "JNB",
                "end": "LHR",
                "label": "",
                "properties": {},
                "directed": false,
                "color": "#15AFAC",
                "thickness_factor": 1
              },
              {
                "start": "JNB",
                "end": "DKR",
                "label": "",
                "properties": {},
                "directed": false,
                "color": "#15AFAC",
                "thickness_factor": 1
              },
              {
                "start": "SYD",
                "end": "DXB",
                "label": "",
                "properties": {},
                "directed": false,
                "color": "#15AFAC",
                "thickness_factor": 1
              },
              {
                "start": "NBO",
                "end": "JNB",
                "label": "",
                "properties": {},
                "directed": false,
                "color": "#15AFAC",
                "thickness_factor": 1
              },
              {
                "start": "NBO",
                "end": "DXB",
                "label": "",
                "properties": {},
                "directed": false,
                "color": "#15AFAC",
                "thickness_factor": 1
              },
              {
                "start": "ATL",
                "end": "JFK",
                "label": "",
                "properties": {},
                "directed": false,
                "color": "#15AFAC",
                "thickness_factor": 1
              },
              {
                "start": "LAX",
                "end": "ATL",
                "label": "",
                "properties": {},
                "directed": false,
                "color": "#15AFAC",
                "thickness_factor": 1
              },
              {
                "start": "ATL",
                "end": "LHR",
                "label": "",
                "properties": {},
                "directed": false,
                "color": "#15AFAC",
                "thickness_factor": 1
              },
              {
                "start": "ATL",
                "end": "LIM",
                "label": "",
                "properties": {},
                "directed": false,
                "color": "#15AFAC",
                "thickness_factor": 1
              },
              {
                "start": "SCL",
                "end": "LIM",
                "label": "",
                "properties": {},
                "directed": false,
                "color": "#15AFAC",
                "thickness_factor": 1
              },
              {
                "start": "EZE",
                "end": "SCL",
                "label": "",
                "properties": {},
                "directed": false,
                "color": "#15AFAC",
                "thickness_factor": 1
              },
              {
                "start": "SCL",
                "end": "GRU",
                "label": "",
                "properties": {},
                "directed": false,
                "color": "#15AFAC",
                "thickness_factor": 1
              },
              {
                "start": "GIG",
                "end": "EZE",
                "label": "",
                "properties": {},
                "directed": false,
                "color": "#15AFAC",
                "thickness_factor": 1
              },
              {
                "start": "GIG",
                "end": "GRU",
                "label": "",
                "properties": {},
                "directed": false,
                "color": "#15AFAC",
                "thickness_factor": 1
              },
              {
                "start": "BSB",
                "end": "GIG",
                "label": "",
                "properties": {},
                "directed": false,
                "color": "#15AFAC",
                "thickness_factor": 1
              },
              {
                "start": "SCL",
                "end": "BSB",
                "label": "",
                "properties": {},
                "directed": false,
                "color": "#15AFAC",
                "thickness_factor": 1
              },
              {
                "start": "LIM",
                "end": "BSB",
                "label": "",
                "properties": {},
                "directed": false,
                "color": "#15AFAC",
                "thickness_factor": 1
              },
              {
                "start": "BOG",
                "end": "BSB",
                "label": "",
                "properties": {},
                "directed": false,
                "color": "#15AFAC",
                "thickness_factor": 1
              },
              {
                "start": "CCS",
                "end": "BSB",
                "label": "",
                "properties": {},
                "directed": false,
                "color": "#15AFAC",
                "thickness_factor": 1
              },
              {
                "start": "BOG",
                "end": "GUA",
                "label": "",
                "properties": {},
                "directed": false,
                "color": "#15AFAC",
                "thickness_factor": 1
              },
              {
                "start": "CCS",
                "end": "MIA",
                "label": "",
                "properties": {},
                "directed": false,
                "color": "#15AFAC",
                "thickness_factor": 1
              },
              {
                "start": "GUA",
                "end": "MIA",
                "label": "",
                "properties": {},
                "directed": false,
                "color": "#15AFAC",
                "thickness_factor": 1
              },
              {
                "start": "GUA",
                "end": "MEX",
                "label": "",
                "properties": {},
                "directed": false,
                "color": "#15AFAC",
                "thickness_factor": 1
              },
              {
                "start": "MEX",
                "end": "LAX",
                "label": "",
                "properties": {},
                "directed": false,
                "color": "#15AFAC",
                "thickness_factor": 1
              },
              {
                "start": "MEX",
                "end": "LAX",
                "label": "",
                "properties": {},
                "directed": false,
                "color": "#15AFAC",
                "thickness_factor": 1
              },
              {
                "start": "LAX",
                "end": "SFO",
                "label": "",
                "properties": {},
                "directed": false,
                "color": "#15AFAC",
                "thickness_factor": 1
              },
              {
                "start": "SFO",
                "end": "YVR",
                "label": "",
                "properties": {},
                "directed": false,
                "color": "#15AFAC",
                "thickness_factor": 1
              },
              {
                "start": "LAX",
                "end": "LAS",
                "label": "",
                "properties": {},
                "directed": false,
                "color": "#15AFAC",
                "thickness_factor": 1
              },
              {
                "start": "LAX",
                "end": "DFW",
                "label": "",
                "properties": {},
                "directed": false,
                "color": "#15AFAC",
                "thickness_factor": 1
              },
              {
                "start": "LAX",
                "end": "ORD",
                "label": "",
                "properties": {},
                "directed": false,
                "color": "#15AFAC",
                "thickness_factor": 1
              },
              {
                "start": "SFO",
                "end": "LAS",
                "label": "",
                "properties": {},
                "directed": false,
                "color": "#15AFAC",
                "thickness_factor": 1
              },
              {
                "start": "DFW",
                "end": "ATL",
                "label": "",
                "properties": {},
                "directed": false,
                "color": "#15AFAC",
                "thickness_factor": 1
              },
              {
                "start": "ATL",
                "end": "YYZ",
                "label": "",
                "properties": {},
                "directed": false,
                "color": "#15AFAC",
                "thickness_factor": 1
              },
              {
                "start": "ORD",
                "end": "YYZ",
                "label": "",
                "properties": {},
                "directed": false,
                "color": "#15AFAC",
                "thickness_factor": 1
              },
              {
                "start": "YYZ",
                "end": "YUL",
                "label": "",
                "properties": {},
                "directed": false,
                "color": "#15AFAC",
                "thickness_factor": 1
              },
              {
                "start": "YYZ",
                "end": "JFK",
                "label": "",
                "properties": {},
                "directed": false,
                "color": "#15AFAC",
                "thickness_factor": 1
              },
              {
                "start": "YUL",
                "end": "JFK",
                "label": "",
                "properties": {},
                "directed": false,
                "color": "#15AFAC",
                "thickness_factor": 1
              },
              {
                "start": "JNB",
                "end": "CPT",
                "label": "",
                "properties": {},
                "directed": false,
                "color": "#15AFAC",
                "thickness_factor": 1
              },
              {
                "start": "LOS",
                "end": "DKR",
                "label": "",
                "properties": {},
                "directed": false,
                "color": "#15AFAC",
                "thickness_factor": 1
              },
              {
                "start": "NBO",
                "end": "LOS",
                "label": "",
                "properties": {},
                "directed": false,
                "color": "#15AFAC",
                "thickness_factor": 1
              },
              {
                "start": "DKR",
                "end": "CMN",
                "label": "",
                "properties": {},
                "directed": false,
                "color": "#15AFAC",
                "thickness_factor": 1
              },
              {
                "start": "DKR",
                "end": "CAI",
                "label": "",
                "properties": {},
                "directed": false,
                "color": "#15AFAC",
                "thickness_factor": 1
              },
              {
                "start": "NBO",
                "end": "CAI",
                "label": "",
                "properties": {},
                "directed": false,
                "color": "#15AFAC",
                "thickness_factor": 1
              },
              {
                "start": "DXB",
                "end": "CAI",
                "label": "",
                "properties": {},
                "directed": false,
                "color": "#15AFAC",
                "thickness_factor": 1
              },
              {
                "start": "IKA",
                "end": "DXB",
                "label": "",
                "properties": {},
                "directed": false,
                "color": "#15AFAC",
                "thickness_factor": 1
              },
              {
                "start": "IST",
                "end": "IKA",
                "label": "",
                "properties": {},
                "directed": false,
                "color": "#15AFAC",
                "thickness_factor": 1
              },
              {
                "start": "TLV",
                "end": "ATH",
                "label": "",
                "properties": {},
                "directed": false,
                "color": "#15AFAC",
                "thickness_factor": 1
              },
              {
                "start": "CAI",
                "end": "TLV",
                "label": "",
                "properties": {},
                "directed": false,
                "color": "#15AFAC",
                "thickness_factor": 1
              },
              {
                "start": "ATH",
                "end": "IST",
                "label": "",
                "properties": {},
                "directed": false,
                "color": "#15AFAC",
                "thickness_factor": 1
              },
              {
                "start": "FCO",
                "end": "ATH",
                "label": "",
                "properties": {},
                "directed": false,
                "color": "#15AFAC",
                "thickness_factor": 1
              },
              {
                "start": "LIS",
                "end": "LHR",
                "label": "",
                "properties": {},
                "directed": false,
                "color": "#15AFAC",
                "thickness_factor": 1
              },
              {
                "start": "LIS",
                "end": "MAD",
                "label": "",
                "properties": {},
                "directed": false,
                "color": "#15AFAC",
                "thickness_factor": 1
              },
              {
                "start": "MAD",
                "end": "BCN",
                "label": "",
                "properties": {},
                "directed": false,
                "color": "#15AFAC",
                "thickness_factor": 1
              },
              {
                "start": "CDG",
                "end": "LHR",
                "label": "",
                "properties": {},
                "directed": false,
                "color": "#15AFAC",
                "thickness_factor": 1
              },
              {
                "start": "DUB",
                "end": "LHR",
                "label": "",
                "properties": {},
                "directed": false,
                "color": "#15AFAC",
                "thickness_factor": 1
              },
              {
                "start": "EDI",
                "end": "LHR",
                "label": "",
                "properties": {},
                "directed": false,
                "color": "#15AFAC",
                "thickness_factor": 1
              },
              {
                "start": "CDG",
                "end": "BCN",
                "label": "",
                "properties": {},
                "directed": false,
                "color": "#15AFAC",
                "thickness_factor": 1
              },
              {
                "start": "BCN",
                "end": "FCO",
                "label": "",
                "properties": {},
                "directed": false,
                "color": "#15AFAC",
                "thickness_factor": 1
              },
              {
                "start": "VIE",
                "end": "IST",
                "label": "",
                "properties": {},
                "directed": false,
                "color": "#15AFAC",
                "thickness_factor": 1
              },
              {
                "start": "VIE",
                "end": "SVO",
                "label": "",
                "properties": {},
                "directed": false,
                "color": "#15AFAC",
                "thickness_factor": 1
              },
              {
                "start": "CMN",
                "end": "LIS",
                "label": "",
                "properties": {},
                "directed": false,
                "color": "#15AFAC",
                "thickness_factor": 1
              },
              {
                "start": "MAD",
                "end": "CMN",
                "label": "",
                "properties": {},
                "directed": false,
                "color": "#15AFAC",
                "thickness_factor": 1
              },
              {
                "start": "FRA",
                "end": "CPH",
                "label": "",
                "properties": {},
                "directed": false,
                "color": "#15AFAC",
                "thickness_factor": 1
              },
              {
                "start": "LHR",
                "end": "CPH",
                "label": "",
                "properties": {},
                "directed": false,
                "color": "#15AFAC",
                "thickness_factor": 1
              },
              {
                "start": "CPH",
                "end": "OSL",
                "label": "",
                "properties": {},
                "directed": false,
                "color": "#15AFAC",
                "thickness_factor": 1
              },
              {
                "start": "CPH",
                "end": "ARN",
                "label": "",
                "properties": {},
                "directed": false,
                "color": "#15AFAC",
                "thickness_factor": 1
              },
              {
                "start": "ARN",
                "end": "HEL",
                "label": "",
                "properties": {},
                "directed": false,
                "color": "#15AFAC",
                "thickness_factor": 1
              },
              {
                "start": "HEL",
                "end": "SVO",
                "label": "",
                "properties": {},
                "directed": false,
                "color": "#15AFAC",
                "thickness_factor": 1
              },
              {
                "start": "ULN",
                "end": "PVG",
                "label": "",
                "properties": {},
                "directed": false,
                "color": "#15AFAC",
                "thickness_factor": 1
              },
              {
                "start": "CTU",
                "end": "PVG",
                "label": "",
                "properties": {},
                "directed": false,
                "color": "#15AFAC",
                "thickness_factor": 1
              },
              {
                "start": "PVG",
                "end": "TPE",
                "label": "",
                "properties": {},
                "directed": false,
                "color": "#15AFAC",
                "thickness_factor": 1
              },
              {
                "start": "CTU",
                "end": "HKG",
                "label": "",
                "properties": {},
                "directed": false,
                "color": "#15AFAC",
                "thickness_factor": 1
              },
              {
                "start": "TPE",
                "end": "HKG",
                "label": "",
                "properties": {},
                "directed": false,
                "color": "#15AFAC",
                "thickness_factor": 1
              },
              {
                "start": "HKG",
                "end": "MNL",
                "label": "",
                "properties": {},
                "directed": false,
                "color": "#15AFAC",
                "thickness_factor": 1
              },
              {
                "start": "BKK",
                "end": "HKG",
                "label": "",
                "properties": {},
                "directed": false,
                "color": "#15AFAC",
                "thickness_factor": 1
              },
              {
                "start": "SIN",
                "end": "KUL",
                "label": "",
                "properties": {},
                "directed": false,
                "color": "#15AFAC",
                "thickness_factor": 1
              },
              {
                "start": "SIN",
                "end": "BKK",
                "label": "",
                "properties": {},
                "directed": false,
                "color": "#15AFAC",
                "thickness_factor": 1
              },
              {
                "start": "CGK",
                "end": "SIN",
                "label": "",
                "properties": {},
                "directed": false,
                "color": "#15AFAC",
                "thickness_factor": 1
              },
              {
                "start": "MNL",
                "end": "SIN",
                "label": "",
                "properties": {},
                "directed": false,
                "color": "#15AFAC",
                "thickness_factor": 1
              },
              {
                "start": "SIN",
                "end": "SYD",
                "label": "",
                "properties": {},
                "directed": false,
                "color": "#15AFAC",
                "thickness_factor": 1
              },
              {
                "start": "BNE",
                "end": "SYD",
                "label": "",
                "properties": {},
                "directed": false,
                "color": "#15AFAC",
                "thickness_factor": 1
              },
              {
                "start": "SYD",
                "end": "MEL",
                "label": "",
                "properties": {},
                "directed": false,
                "color": "#15AFAC",
                "thickness_factor": 1
              },
              {
                "start": "NAN",
                "end": "SYD",
                "label": "",
                "properties": {},
                "directed": false,
                "color": "#15AFAC",
                "thickness_factor": 1
              },
              {
                "start": "AKL",
                "end": "SYD",
                "label": "",
                "properties": {},
                "directed": false,
                "color": "#15AFAC",
                "thickness_factor": 1
              },
              {
                "start": "NAN",
                "end": "AKL",
                "label": "",
                "properties": {},
                "directed": false,
                "color": "#15AFAC",
                "thickness_factor": 1
              },
              {
                "start": "RKV",
                "end": "LHR",
                "label": "",
                "properties": {},
                "directed": false,
                "color": "#15AFAC",
                "thickness_factor": 1
              },
              {
                "start": "BCN",
                "end": "CDG",
                "label": "",
                "properties": {},
                "directed": false,
                "color": "#15AFAC",
                "thickness_factor": 1
              },
              {
                "start": "BCN",
                "end": "FRA",
                "label": "",
                "properties": {},
                "directed": false,
                "color": "#15AFAC",
                "thickness_factor": 1
              },
              {
                "start": "FCO",
                "end": "FRA",
                "label": "",
                "properties": {},
                "directed": false,
                "color": "#15AFAC",
                "thickness_factor": 1
              },
              {
                "start": "BOG",
                "end": "MEX",
                "label": "",
                "properties": {},
                "directed": false,
                "color": "#15AFAC",
                "thickness_factor": 1
              },
              {
                "start": "BOG",
                "end": "GRU",
                "label": "",
                "properties": {},
                "directed": false,
                "color": "#15AFAC",
                "thickness_factor": 1
              },
              {
                "start": "ATL",
                "end": "MIA",
                "label": "",
                "properties": {},
                "directed": false,
                "color": "#15AFAC",
                "thickness_factor": 1
              },
              {
                "start": "FRA",
                "end": "IST",
                "label": "",
                "properties": {},
                "directed": false,
                "color": "#15AFAC",
                "thickness_factor": 1
              },
              {
                "start": "IST",
                "end": "DEL",
                "label": "",
                "properties": {},
                "directed": false,
                "color": "#15AFAC",
                "thickness_factor": 1
              },
              {
                "start": "PVG",
                "end": "BKK",
                "label": "",
                "properties": {},
                "directed": false,
                "color": "#15AFAC",
                "thickness_factor": 1
              },
              {
                "start": "DEL",
                "end": "BKK",
                "label": "",
                "properties": {},
                "directed": false,
                "color": "#15AFAC",
                "thickness_factor": 1
              }
            ],
            "_graph_layout": {},
            "_highlight": [],
            "_license": {},
            "_model_module": "yfiles-jupyter-graphs",
            "_model_module_version": "^1.8.1",
            "_model_name": "GraphModel",
            "_neighborhood": {},
            "_nodes": [
              {
                "id": "LAX",
                "properties": {
                  "label": "Los Angeles",
                  "passengers": 65000000,
                  "country": "USA"
                },
                "coordinates": [
                  33.942536,
                  -118.408075
                ],
                "color": "#15AFAC",
                "styles": {},
                "label": "Los Angeles",
                "scale_factor": 1,
                "type": "#15AFAC",
                "size": [
                  55,
                  55
                ],
                "position": [
                  0,
                  0
                ],
                "parentId": "group#USA"
              },
              {
                "id": "GIG",
                "properties": {
                  "label": "Rio de Janeiro",
                  "passengers": 5000000,
                  "country": "Brazil"
                },
                "coordinates": [
                  -22.808903,
                  -43.243647
                ],
                "color": "#15AFAC",
                "styles": {},
                "label": "Rio de Janeiro",
                "scale_factor": 1,
                "type": "#15AFAC",
                "size": [
                  55,
                  55
                ],
                "position": [
                  0,
                  0
                ],
                "parentId": "group#Brazil"
              },
              {
                "id": "LIM",
                "properties": {
                  "label": "Lima",
                  "passengers": 18000000,
                  "country": "Peru"
                },
                "coordinates": [
                  -12.021889,
                  -77.114319
                ],
                "color": "#15AFAC",
                "styles": {},
                "label": "Lima",
                "scale_factor": 1,
                "type": "#15AFAC",
                "size": [
                  55,
                  55
                ],
                "position": [
                  0,
                  0
                ],
                "parentId": "group#Peru"
              },
              {
                "id": "LHR",
                "properties": {
                  "label": "London",
                  "passengers": 61000000,
                  "country": "UK"
                },
                "coordinates": [
                  51.4775,
                  -0.461389
                ],
                "color": "#15AFAC",
                "styles": {},
                "label": "London",
                "scale_factor": 1,
                "type": "#15AFAC",
                "size": [
                  55,
                  55
                ],
                "position": [
                  0,
                  0
                ],
                "parentId": "group#UK"
              },
              {
                "id": "FRA",
                "properties": {
                  "label": "Frankfurt",
                  "passengers": 48000000,
                  "country": "Germany"
                },
                "coordinates": [
                  50.033333,
                  8.570556
                ],
                "color": "#15AFAC",
                "styles": {},
                "label": "Frankfurt",
                "scale_factor": 1,
                "type": "#15AFAC",
                "size": [
                  55,
                  55
                ],
                "position": [
                  0,
                  0
                ],
                "parentId": "group#Germany"
              },
              {
                "id": "SVO",
                "properties": {
                  "label": "Moscow",
                  "passengers": 49000000,
                  "country": "Russia"
                },
                "coordinates": [
                  55.972642,
                  37.414589
                ],
                "color": "#15AFAC",
                "styles": {},
                "label": "Moscow",
                "scale_factor": 1,
                "type": "#15AFAC",
                "size": [
                  55,
                  55
                ],
                "position": [
                  0,
                  0
                ],
                "parentId": "group#Russia"
              },
              {
                "id": "DEL",
                "properties": {
                  "label": "New Delhi",
                  "passengers": 39000000,
                  "country": "India"
                },
                "coordinates": [
                  28.5665,
                  77.103089
                ],
                "color": "#15AFAC",
                "styles": {},
                "label": "New Delhi",
                "scale_factor": 1,
                "type": "#15AFAC",
                "size": [
                  55,
                  55
                ],
                "position": [
                  0,
                  0
                ],
                "parentId": "group#India"
              },
              {
                "id": "PVG",
                "properties": {
                  "label": "Shanghai",
                  "passengers": 32000000,
                  "country": "China"
                },
                "coordinates": [
                  31.143378,
                  121.805214
                ],
                "color": "#15AFAC",
                "styles": {},
                "label": "Shanghai",
                "scale_factor": 1,
                "type": "#15AFAC",
                "size": [
                  55,
                  55
                ],
                "position": [
                  0,
                  0
                ],
                "parentId": "group#China"
              },
              {
                "id": "HKG",
                "properties": {
                  "label": "Hongkong",
                  "passengers": 1000000,
                  "country": "China"
                },
                "coordinates": [
                  22.308919,
                  113.914603
                ],
                "color": "#15AFAC",
                "styles": {},
                "label": "Hongkong",
                "scale_factor": 1,
                "type": "#15AFAC",
                "size": [
                  55,
                  55
                ],
                "position": [
                  0,
                  0
                ],
                "parentId": "group#China"
              },
              {
                "id": "NRT",
                "properties": {
                  "label": "Tokio",
                  "passengers": 15000000,
                  "country": "Japan"
                },
                "coordinates": [
                  35.764722,
                  140.386389
                ],
                "color": "#15AFAC",
                "styles": {},
                "label": "Tokio",
                "scale_factor": 1,
                "type": "#15AFAC",
                "size": [
                  55,
                  55
                ],
                "position": [
                  0,
                  0
                ],
                "parentId": "group#Japan"
              },
              {
                "id": "DXB",
                "properties": {
                  "label": "Dubai",
                  "passengers": 29000000,
                  "country": "UAE"
                },
                "coordinates": [
                  25.252778,
                  55.364444
                ],
                "color": "#15AFAC",
                "styles": {},
                "label": "Dubai",
                "scale_factor": 1,
                "type": "#15AFAC",
                "size": [
                  55,
                  55
                ],
                "position": [
                  0,
                  0
                ],
                "parentId": "group#UAE"
              },
              {
                "id": "DKR",
                "properties": {
                  "label": "Dakar",
                  "passengers": 2000000,
                  "country": "Senegal"
                },
                "coordinates": [
                  14.670833,
                  -17.072778
                ],
                "color": "#15AFAC",
                "styles": {},
                "label": "Dakar",
                "scale_factor": 1,
                "type": "#15AFAC",
                "size": [
                  55,
                  55
                ],
                "position": [
                  0,
                  0
                ],
                "parentId": "group#Senegal"
              },
              {
                "id": "JNB",
                "properties": {
                  "label": "Johannesburg",
                  "passengers": 9000000,
                  "country": "South Africa"
                },
                "coordinates": [
                  -26.133694,
                  28.242317
                ],
                "color": "#15AFAC",
                "styles": {},
                "label": "Johannesburg",
                "scale_factor": 1,
                "type": "#15AFAC",
                "size": [
                  55,
                  55
                ],
                "position": [
                  0,
                  0
                ],
                "parentId": "group#South Africa"
              },
              {
                "id": "SYD",
                "properties": {
                  "label": "Sydney",
                  "passengers": 44000000,
                  "country": "Australia"
                },
                "coordinates": [
                  -33.946111,
                  151.177222
                ],
                "color": "#15AFAC",
                "styles": {},
                "label": "Sydney",
                "scale_factor": 1,
                "type": "#15AFAC",
                "size": [
                  55,
                  55
                ],
                "position": [
                  0,
                  0
                ],
                "parentId": "group#Australia"
              },
              {
                "id": "NBO",
                "properties": {
                  "label": "Nairobi",
                  "passengers": 900000,
                  "country": "Kenya"
                },
                "coordinates": [
                  -1.319167,
                  36.927778
                ],
                "color": "#15AFAC",
                "styles": {},
                "label": "Nairobi",
                "scale_factor": 1,
                "type": "#15AFAC",
                "size": [
                  55,
                  55
                ],
                "position": [
                  0,
                  0
                ],
                "parentId": "group#Kenya"
              },
              {
                "id": "ATL",
                "properties": {
                  "label": "Atlanta",
                  "passengers": 93000000,
                  "country": "USA"
                },
                "coordinates": [
                  33.639167,
                  -84.427778
                ],
                "color": "#15AFAC",
                "styles": {},
                "label": "Atlanta",
                "scale_factor": 1,
                "type": "#15AFAC",
                "size": [
                  55,
                  55
                ],
                "position": [
                  0,
                  0
                ],
                "parentId": "group#USA"
              },
              {
                "id": "JFK",
                "properties": {
                  "label": "New York City",
                  "passengers": 55000000,
                  "country": "USA"
                },
                "coordinates": [
                  40.63975,
                  -73.778925
                ],
                "color": "#15AFAC",
                "styles": {},
                "label": "New York City",
                "scale_factor": 1,
                "type": "#15AFAC",
                "size": [
                  55,
                  55
                ],
                "position": [
                  0,
                  0
                ],
                "parentId": "group#USA"
              },
              {
                "id": "CAI",
                "properties": {
                  "label": "Cairo",
                  "passengers": 14000000,
                  "country": "Egypt"
                },
                "coordinates": [
                  30.121944,
                  31.405556
                ],
                "color": "#15AFAC",
                "styles": {},
                "label": "Cairo",
                "scale_factor": 1,
                "type": "#15AFAC",
                "size": [
                  55,
                  55
                ],
                "position": [
                  0,
                  0
                ],
                "parentId": "group#Egypt"
              },
              {
                "id": "CMN",
                "properties": {
                  "label": "Casablanca",
                  "passengers": 7000000,
                  "country": "Morocco"
                },
                "coordinates": [
                  33.367467,
                  -7.589967
                ],
                "color": "#15AFAC",
                "styles": {},
                "label": "Casablanca",
                "scale_factor": 1,
                "type": "#15AFAC",
                "size": [
                  55,
                  55
                ],
                "position": [
                  0,
                  0
                ],
                "parentId": "group#Morocco"
              },
              {
                "id": "LOS",
                "properties": {
                  "label": "Lagos",
                  "passengers": 5000000,
                  "country": "Nigeria"
                },
                "coordinates": [
                  6.577222,
                  3.321111
                ],
                "color": "#15AFAC",
                "styles": {},
                "label": "Lagos",
                "scale_factor": 1,
                "type": "#15AFAC",
                "size": [
                  55,
                  55
                ],
                "position": [
                  0,
                  0
                ],
                "parentId": "group#Nigeria"
              },
              {
                "id": "CPT",
                "properties": {
                  "label": "Cape Town",
                  "passengers": 5000000,
                  "country": "South Africa"
                },
                "coordinates": [
                  -33.969444,
                  18.597222
                ],
                "color": "#15AFAC",
                "styles": {},
                "label": "Cape Town",
                "scale_factor": 1,
                "type": "#15AFAC",
                "size": [
                  55,
                  55
                ],
                "position": [
                  0,
                  0
                ],
                "parentId": "group#South Africa"
              },
              {
                "id": "CTU",
                "properties": {
                  "label": "Chengdu",
                  "passengers": 40000000,
                  "country": "China"
                },
                "coordinates": [
                  30.578333,
                  103.946944
                ],
                "color": "#15AFAC",
                "styles": {},
                "label": "Chengdu",
                "scale_factor": 1,
                "type": "#15AFAC",
                "size": [
                  55,
                  55
                ],
                "position": [
                  0,
                  0
                ],
                "parentId": "group#China"
              },
              {
                "id": "CGK",
                "properties": {
                  "label": "Jakarta",
                  "passengers": 54000000,
                  "country": "Indonesia"
                },
                "coordinates": [
                  -6.125567,
                  106.655897
                ],
                "color": "#15AFAC",
                "styles": {},
                "label": "Jakarta",
                "scale_factor": 1,
                "type": "#15AFAC",
                "size": [
                  55,
                  55
                ],
                "position": [
                  0,
                  0
                ],
                "parentId": "group#Indonesia"
              },
              {
                "id": "IKA",
                "properties": {
                  "label": "Teheran",
                  "passengers": 8000000,
                  "country": "Iran"
                },
                "coordinates": [
                  35.416111,
                  51.152222
                ],
                "color": "#15AFAC",
                "styles": {},
                "label": "Teheran",
                "scale_factor": 1,
                "type": "#15AFAC",
                "size": [
                  55,
                  55
                ],
                "position": [
                  0,
                  0
                ],
                "parentId": "group#Iran"
              },
              {
                "id": "TLV",
                "properties": {
                  "label": "Tel Aviv",
                  "passengers": 20000000,
                  "country": "Israel"
                },
                "coordinates": [
                  32.011389,
                  34.886667
                ],
                "color": "#15AFAC",
                "styles": {},
                "label": "Tel Aviv",
                "scale_factor": 1,
                "type": "#15AFAC",
                "size": [
                  55,
                  55
                ],
                "position": [
                  0,
                  0
                ],
                "parentId": "group#Israel"
              },
              {
                "id": "KUL",
                "properties": {
                  "label": "Kuala Lumpur",
                  "passengers": 25000000,
                  "country": "Malaysia"
                },
                "coordinates": [
                  2.745578,
                  101.709917
                ],
                "color": "#15AFAC",
                "styles": {},
                "label": "Kuala Lumpur",
                "scale_factor": 1,
                "type": "#15AFAC",
                "size": [
                  55,
                  55
                ],
                "position": [
                  0,
                  0
                ],
                "parentId": "group#Malaysia"
              },
              {
                "id": "MNL",
                "properties": {
                  "label": "Manila",
                  "passengers": 8000000,
                  "country": "Philippines"
                },
                "coordinates": [
                  14.508647,
                  121.019581
                ],
                "color": "#15AFAC",
                "styles": {},
                "label": "Manila",
                "scale_factor": 1,
                "type": "#15AFAC",
                "size": [
                  55,
                  55
                ],
                "position": [
                  0,
                  0
                ],
                "parentId": "group#Philippines"
              },
              {
                "id": "SIN",
                "properties": {
                  "label": "Singapur",
                  "passengers": 32000000,
                  "country": "Singapore"
                },
                "coordinates": [
                  1.350189,
                  103.994433
                ],
                "color": "#15AFAC",
                "styles": {},
                "label": "Singapur",
                "scale_factor": 1,
                "type": "#15AFAC",
                "size": [
                  55,
                  55
                ],
                "position": [
                  0,
                  0
                ],
                "parentId": "group#Singapore"
              },
              {
                "id": "TPE",
                "properties": {
                  "label": "Taipeh",
                  "passengers": 800000,
                  "country": "Taiwan"
                },
                "coordinates": [
                  25.077732,
                  121.232822
                ],
                "color": "#15AFAC",
                "styles": {},
                "label": "Taipeh",
                "scale_factor": 1,
                "type": "#15AFAC",
                "size": [
                  55,
                  55
                ],
                "position": [
                  0,
                  0
                ],
                "parentId": "group#Taiwan"
              },
              {
                "id": "BKK",
                "properties": {
                  "label": "Bangkok",
                  "passengers": 65000000,
                  "country": "Thailand"
                },
                "coordinates": [
                  13.681108,
                  100.747283
                ],
                "color": "#15AFAC",
                "styles": {},
                "label": "Bangkok",
                "scale_factor": 1,
                "type": "#15AFAC",
                "size": [
                  55,
                  55
                ],
                "position": [
                  0,
                  0
                ],
                "parentId": "group#Thailand"
              },
              {
                "id": "IST",
                "properties": {
                  "label": "Istanbul",
                  "passengers": 64000000,
                  "country": "Turkey"
                },
                "coordinates": [
                  40.976922,
                  28.814606
                ],
                "color": "#15AFAC",
                "styles": {},
                "label": "Istanbul",
                "scale_factor": 1,
                "type": "#15AFAC",
                "size": [
                  55,
                  55
                ],
                "position": [
                  0,
                  0
                ],
                "parentId": "group#Turkey"
              },
              {
                "id": "ULN",
                "properties": {
                  "label": "Ulaanbaatar",
                  "passengers": 1000000,
                  "country": "Mongolia"
                },
                "coordinates": [
                  47.843056,
                  106.766639
                ],
                "color": "#15AFAC",
                "styles": {},
                "label": "Ulaanbaatar",
                "scale_factor": 1,
                "type": "#15AFAC",
                "size": [
                  55,
                  55
                ],
                "position": [
                  0,
                  0
                ],
                "parentId": "group#Mongolia"
              },
              {
                "id": "MEL",
                "properties": {
                  "label": "Melbourne",
                  "passengers": 12000000,
                  "country": "Australia"
                },
                "coordinates": [
                  -37.673333,
                  144.843333
                ],
                "color": "#15AFAC",
                "styles": {},
                "label": "Melbourne",
                "scale_factor": 1,
                "type": "#15AFAC",
                "size": [
                  55,
                  55
                ],
                "position": [
                  0,
                  0
                ],
                "parentId": "group#Australia"
              },
              {
                "id": "BNE",
                "properties": {
                  "label": "Brisbane",
                  "passengers": 23000000,
                  "country": "Australia"
                },
                "coordinates": [
                  -27.383333,
                  153.118056
                ],
                "color": "#15AFAC",
                "styles": {},
                "label": "Brisbane",
                "scale_factor": 1,
                "type": "#15AFAC",
                "size": [
                  55,
                  55
                ],
                "position": [
                  0,
                  0
                ],
                "parentId": "group#Australia"
              },
              {
                "id": "NAN",
                "properties": {
                  "label": "Nadi",
                  "passengers": 2000000,
                  "country": "Fiji"
                },
                "coordinates": [
                  -17.755392,
                  177.443378
                ],
                "color": "#15AFAC",
                "styles": {},
                "label": "Nadi",
                "scale_factor": 1,
                "type": "#15AFAC",
                "size": [
                  55,
                  55
                ],
                "position": [
                  0,
                  0
                ],
                "parentId": "group#Fiji"
              },
              {
                "id": "AKL",
                "properties": {
                  "label": "Auckland",
                  "passengers": 21000000,
                  "country": "New Zealand"
                },
                "coordinates": [
                  -37.008056,
                  174.791667
                ],
                "color": "#15AFAC",
                "styles": {},
                "label": "Auckland",
                "scale_factor": 1,
                "type": "#15AFAC",
                "size": [
                  55,
                  55
                ],
                "position": [
                  0,
                  0
                ],
                "parentId": "group#New Zealand"
              },
              {
                "id": "CDG",
                "properties": {
                  "label": "Paris",
                  "passengers": 57000000,
                  "country": "France"
                },
                "coordinates": [
                  49.009722,
                  2.547778
                ],
                "color": "#15AFAC",
                "styles": {},
                "label": "Paris",
                "scale_factor": 1,
                "type": "#15AFAC",
                "size": [
                  55,
                  55
                ],
                "position": [
                  0,
                  0
                ],
                "parentId": "group#France"
              },
              {
                "id": "MAD",
                "properties": {
                  "label": "Madrid",
                  "passengers": 50000000,
                  "country": "Spain"
                },
                "coordinates": [
                  40.4675,
                  -3.551944
                ],
                "color": "#15AFAC",
                "styles": {},
                "label": "Madrid",
                "scale_factor": 1,
                "type": "#15AFAC",
                "size": [
                  55,
                  55
                ],
                "position": [
                  0,
                  0
                ],
                "parentId": "group#Spain"
              },
              {
                "id": "BCN",
                "properties": {
                  "label": "Barcelona",
                  "passengers": 41000000,
                  "country": "Spain"
                },
                "coordinates": [
                  41.297078,
                  2.078464
                ],
                "color": "#15AFAC",
                "styles": {},
                "label": "Barcelona",
                "scale_factor": 1,
                "type": "#15AFAC",
                "size": [
                  55,
                  55
                ],
                "position": [
                  0,
                  0
                ],
                "parentId": "group#Spain"
              },
              {
                "id": "FCO",
                "properties": {
                  "label": "Rome",
                  "passengers": 29000000,
                  "country": "Italy"
                },
                "coordinates": [
                  41.804444,
                  12.250833
                ],
                "color": "#15AFAC",
                "styles": {},
                "label": "Rome",
                "scale_factor": 1,
                "type": "#15AFAC",
                "size": [
                  55,
                  55
                ],
                "position": [
                  0,
                  0
                ],
                "parentId": "group#Italy"
              },
              {
                "id": "CPH",
                "properties": {
                  "label": "Copenhagen",
                  "passengers": 30000000,
                  "country": "Denmark"
                },
                "coordinates": [
                  55.617917,
                  12.655972
                ],
                "color": "#15AFAC",
                "styles": {},
                "label": "Copenhagen",
                "scale_factor": 1,
                "type": "#15AFAC",
                "size": [
                  55,
                  55
                ],
                "position": [
                  0,
                  0
                ],
                "parentId": "group#Denmark"
              },
              {
                "id": "HEL",
                "properties": {
                  "label": "Helsinki",
                  "passengers": 5000000,
                  "country": "Finland"
                },
                "coordinates": [
                  60.317222,
                  24.963333
                ],
                "color": "#15AFAC",
                "styles": {},
                "label": "Helsinki",
                "scale_factor": 1,
                "type": "#15AFAC",
                "size": [
                  55,
                  55
                ],
                "position": [
                  0,
                  0
                ],
                "parentId": "group#Finland"
              },
              {
                "id": "ATH",
                "properties": {
                  "label": "Athens",
                  "passengers": 22000000,
                  "country": "Greece"
                },
                "coordinates": [
                  37.936358,
                  23.944467
                ],
                "color": "#15AFAC",
                "styles": {},
                "label": "Athens",
                "scale_factor": 1,
                "type": "#15AFAC",
                "size": [
                  55,
                  55
                ],
                "position": [
                  0,
                  0
                ],
                "parentId": "group#Greece"
              },
              {
                "id": "DUB",
                "properties": {
                  "label": "Dublin",
                  "passengers": 32000000,
                  "country": "Ireland"
                },
                "coordinates": [
                  53.421333,
                  -6.270075
                ],
                "color": "#15AFAC",
                "styles": {},
                "label": "Dublin",
                "scale_factor": 1,
                "type": "#15AFAC",
                "size": [
                  55,
                  55
                ],
                "position": [
                  0,
                  0
                ],
                "parentId": "group#Ireland"
              },
              {
                "id": "RKV",
                "properties": {
                  "label": "Reykjavik",
                  "passengers": 400000,
                  "country": "Iceland"
                },
                "coordinates": [
                  64.13,
                  -21.940556
                ],
                "color": "#15AFAC",
                "styles": {},
                "label": "Reykjavik",
                "scale_factor": 1,
                "type": "#15AFAC",
                "size": [
                  55,
                  55
                ],
                "position": [
                  0,
                  0
                ],
                "parentId": "group#Iceland"
              },
              {
                "id": "OSL",
                "properties": {
                  "label": "Oslo",
                  "passengers": 9000000,
                  "country": "Norway"
                },
                "coordinates": [
                  60.193917,
                  11.100361
                ],
                "color": "#15AFAC",
                "styles": {},
                "label": "Oslo",
                "scale_factor": 1,
                "type": "#15AFAC",
                "size": [
                  55,
                  55
                ],
                "position": [
                  0,
                  0
                ],
                "parentId": "group#Norway"
              },
              {
                "id": "VIE",
                "properties": {
                  "label": "Vienna",
                  "passengers": 10000000,
                  "country": "Austria"
                },
                "coordinates": [
                  48.110833,
                  16.570833
                ],
                "color": "#15AFAC",
                "styles": {},
                "label": "Vienna",
                "scale_factor": 1,
                "type": "#15AFAC",
                "size": [
                  55,
                  55
                ],
                "position": [
                  0,
                  0
                ],
                "parentId": "group#Austria"
              },
              {
                "id": "LIS",
                "properties": {
                  "label": "Lisbon",
                  "passengers": 28000000,
                  "country": "Portugal"
                },
                "coordinates": [
                  38.774167,
                  -9.134167
                ],
                "color": "#15AFAC",
                "styles": {},
                "label": "Lisbon",
                "scale_factor": 1,
                "type": "#15AFAC",
                "size": [
                  55,
                  55
                ],
                "position": [
                  0,
                  0
                ],
                "parentId": "group#Portugal"
              },
              {
                "id": "ARN",
                "properties": {
                  "label": "Stockholm",
                  "passengers": 7000000,
                  "country": "Sweden"
                },
                "coordinates": [
                  59.651944,
                  17.918611
                ],
                "color": "#15AFAC",
                "styles": {},
                "label": "Stockholm",
                "scale_factor": 1,
                "type": "#15AFAC",
                "size": [
                  55,
                  55
                ],
                "position": [
                  0,
                  0
                ],
                "parentId": "group#Sweden"
              },
              {
                "id": "EDI",
                "properties": {
                  "label": "Edinburgh",
                  "passengers": 14000000,
                  "country": "UK"
                },
                "coordinates": [
                  55.95,
                  -3.3725
                ],
                "color": "#15AFAC",
                "styles": {},
                "label": "Edinburgh",
                "scale_factor": 1,
                "type": "#15AFAC",
                "size": [
                  55,
                  55
                ],
                "position": [
                  0,
                  0
                ],
                "parentId": "group#UK"
              },
              {
                "id": "ORD",
                "properties": {
                  "label": "Chicago",
                  "passengers": 54000000,
                  "country": "USA"
                },
                "coordinates": [
                  41.978603,
                  -87.904842
                ],
                "color": "#15AFAC",
                "styles": {},
                "label": "Chicago",
                "scale_factor": 1,
                "type": "#15AFAC",
                "size": [
                  55,
                  55
                ],
                "position": [
                  0,
                  0
                ],
                "parentId": "group#USA"
              },
              {
                "id": "DFW",
                "properties": {
                  "label": "Dallas",
                  "passengers": 73000000,
                  "country": "USA"
                },
                "coordinates": [
                  32.896828,
                  -97.037997
                ],
                "color": "#15AFAC",
                "styles": {},
                "label": "Dallas",
                "scale_factor": 1,
                "type": "#15AFAC",
                "size": [
                  55,
                  55
                ],
                "position": [
                  0,
                  0
                ],
                "parentId": "group#USA"
              },
              {
                "id": "SFO",
                "properties": {
                  "label": "San Francisco",
                  "passengers": 42000000,
                  "country": "USA"
                },
                "coordinates": [
                  37.618972,
                  -122.374889
                ],
                "color": "#15AFAC",
                "styles": {},
                "label": "San Francisco",
                "scale_factor": 1,
                "type": "#15AFAC",
                "size": [
                  55,
                  55
                ],
                "position": [
                  0,
                  0
                ],
                "parentId": "group#USA"
              },
              {
                "id": "LAS",
                "properties": {
                  "label": "Las Vegas",
                  "passengers": 52000000,
                  "country": "USA"
                },
                "coordinates": [
                  36.080056,
                  -115.15225
                ],
                "color": "#15AFAC",
                "styles": {},
                "label": "Las Vegas",
                "scale_factor": 1,
                "type": "#15AFAC",
                "size": [
                  55,
                  55
                ],
                "position": [
                  0,
                  0
                ],
                "parentId": "group#USA"
              },
              {
                "id": "MIA",
                "properties": {
                  "label": "Miami",
                  "passengers": 50000000,
                  "country": "USA"
                },
                "coordinates": [
                  25.79325,
                  -80.290556
                ],
                "color": "#15AFAC",
                "styles": {},
                "label": "Miami",
                "scale_factor": 1,
                "type": "#15AFAC",
                "size": [
                  55,
                  55
                ],
                "position": [
                  0,
                  0
                ],
                "parentId": "group#USA"
              },
              {
                "id": "YYZ",
                "properties": {
                  "label": "Toronto",
                  "passengers": 12000000,
                  "country": "Canada"
                },
                "coordinates": [
                  43.677222,
                  -79.630556
                ],
                "color": "#15AFAC",
                "styles": {},
                "label": "Toronto",
                "scale_factor": 1,
                "type": "#15AFAC",
                "size": [
                  55,
                  55
                ],
                "position": [
                  0,
                  0
                ],
                "parentId": "group#Canada"
              },
              {
                "id": "YVR",
                "properties": {
                  "label": "Vancouver",
                  "passengers": 19000000,
                  "country": "Canada"
                },
                "coordinates": [
                  49.193889,
                  -123.184444
                ],
                "color": "#15AFAC",
                "styles": {},
                "label": "Vancouver",
                "scale_factor": 1,
                "type": "#15AFAC",
                "size": [
                  55,
                  55
                ],
                "position": [
                  0,
                  0
                ],
                "parentId": "group#Canada"
              },
              {
                "id": "YUL",
                "properties": {
                  "label": "Montreal",
                  "passengers": 15000000,
                  "country": "Canada"
                },
                "coordinates": [
                  45.47175,
                  -73.736569
                ],
                "color": "#15AFAC",
                "styles": {},
                "label": "Montreal",
                "scale_factor": 1,
                "type": "#15AFAC",
                "size": [
                  55,
                  55
                ],
                "position": [
                  0,
                  0
                ],
                "parentId": "group#Canada"
              },
              {
                "id": "MEX",
                "properties": {
                  "label": "Mexico-City",
                  "passengers": 46000000,
                  "country": "Mexico"
                },
                "coordinates": [
                  19.436303,
                  -99.072097
                ],
                "color": "#15AFAC",
                "styles": {},
                "label": "Mexico-City",
                "scale_factor": 1,
                "type": "#15AFAC",
                "size": [
                  55,
                  55
                ],
                "position": [
                  0,
                  0
                ],
                "parentId": "group#Mexico"
              },
              {
                "id": "GUA",
                "properties": {
                  "label": "Guatemala-City",
                  "passengers": 2000000,
                  "country": "Guatemala"
                },
                "coordinates": [
                  14.583272,
                  -90.527475
                ],
                "color": "#15AFAC",
                "styles": {},
                "label": "Guatemala-City",
                "scale_factor": 1,
                "type": "#15AFAC",
                "size": [
                  55,
                  55
                ],
                "position": [
                  0,
                  0
                ],
                "parentId": "group#Guatemala"
              },
              {
                "id": "EZE",
                "properties": {
                  "label": "Buenos Aires",
                  "passengers": 5000000,
                  "country": "Argentina"
                },
                "coordinates": [
                  -34.822222,
                  -58.535833
                ],
                "color": "#15AFAC",
                "styles": {},
                "label": "Buenos Aires",
                "scale_factor": 1,
                "type": "#15AFAC",
                "size": [
                  55,
                  55
                ],
                "position": [
                  0,
                  0
                ],
                "parentId": "group#Argentina"
              },
              {
                "id": "GRU",
                "properties": {
                  "label": "Sao Paulo",
                  "passengers": 34000000,
                  "country": "Brazil"
                },
                "coordinates": [
                  -23.432075,
                  -46.469511
                ],
                "color": "#15AFAC",
                "styles": {},
                "label": "Sao Paulo",
                "scale_factor": 1,
                "type": "#15AFAC",
                "size": [
                  55,
                  55
                ],
                "position": [
                  0,
                  0
                ],
                "parentId": "group#Brazil"
              },
              {
                "id": "SCL",
                "properties": {
                  "label": "Santiago de Chile",
                  "passengers": 20000000,
                  "country": "Chile"
                },
                "coordinates": [
                  -33.392975,
                  -70.785803
                ],
                "color": "#15AFAC",
                "styles": {},
                "label": "Santiago de Chile",
                "scale_factor": 1,
                "type": "#15AFAC",
                "size": [
                  55,
                  55
                ],
                "position": [
                  0,
                  0
                ],
                "parentId": "group#Chile"
              },
              {
                "id": "BSB",
                "properties": {
                  "label": "Brasilia",
                  "passengers": 13000000,
                  "country": "Brazil"
                },
                "coordinates": [
                  -15.871111,
                  -47.918611
                ],
                "color": "#15AFAC",
                "styles": {},
                "label": "Brasilia",
                "scale_factor": 1,
                "type": "#15AFAC",
                "size": [
                  55,
                  55
                ],
                "position": [
                  0,
                  0
                ],
                "parentId": "group#Brazil"
              },
              {
                "id": "BOG",
                "properties": {
                  "label": "Bogota",
                  "passengers": 36000000,
                  "country": "Colombia"
                },
                "coordinates": [
                  4.701594,
                  -74.146947
                ],
                "color": "#15AFAC",
                "styles": {},
                "label": "Bogota",
                "scale_factor": 1,
                "type": "#15AFAC",
                "size": [
                  55,
                  55
                ],
                "position": [
                  0,
                  0
                ],
                "parentId": "group#Colombia"
              },
              {
                "id": "CCS",
                "properties": {
                  "label": "Caracas",
                  "passengers": 8000000,
                  "country": "Venezuela"
                },
                "coordinates": [
                  10.601194,
                  -66.991222
                ],
                "color": "#15AFAC",
                "styles": {},
                "label": "Caracas",
                "scale_factor": 1,
                "type": "#15AFAC",
                "size": [
                  55,
                  55
                ],
                "position": [
                  0,
                  0
                ],
                "parentId": "group#Venezuela"
              },
              {
                "id": "group#USA",
                "properties": {
                  "label": "USA"
                },
                "color": "#15AFAC",
                "styles": {},
                "label": "USA",
                "scale_factor": 1,
                "type": "#15AFAC",
                "size": [
                  55,
                  55
                ],
                "position": [
                  0,
                  0
                ]
              },
              {
                "id": "group#Brazil",
                "properties": {
                  "label": "Brazil"
                },
                "color": "#15AFAC",
                "styles": {},
                "label": "Brazil",
                "scale_factor": 1,
                "type": "#15AFAC",
                "size": [
                  55,
                  55
                ],
                "position": [
                  0,
                  0
                ]
              },
              {
                "id": "group#Peru",
                "properties": {
                  "label": "Peru"
                },
                "color": "#15AFAC",
                "styles": {},
                "label": "Peru",
                "scale_factor": 1,
                "type": "#15AFAC",
                "size": [
                  55,
                  55
                ],
                "position": [
                  0,
                  0
                ]
              },
              {
                "id": "group#UK",
                "properties": {
                  "label": "UK"
                },
                "color": "#15AFAC",
                "styles": {},
                "label": "UK",
                "scale_factor": 1,
                "type": "#15AFAC",
                "size": [
                  55,
                  55
                ],
                "position": [
                  0,
                  0
                ]
              },
              {
                "id": "group#Germany",
                "properties": {
                  "label": "Germany"
                },
                "color": "#15AFAC",
                "styles": {},
                "label": "Germany",
                "scale_factor": 1,
                "type": "#15AFAC",
                "size": [
                  55,
                  55
                ],
                "position": [
                  0,
                  0
                ]
              },
              {
                "id": "group#Russia",
                "properties": {
                  "label": "Russia"
                },
                "color": "#15AFAC",
                "styles": {},
                "label": "Russia",
                "scale_factor": 1,
                "type": "#15AFAC",
                "size": [
                  55,
                  55
                ],
                "position": [
                  0,
                  0
                ]
              },
              {
                "id": "group#India",
                "properties": {
                  "label": "India"
                },
                "color": "#15AFAC",
                "styles": {},
                "label": "India",
                "scale_factor": 1,
                "type": "#15AFAC",
                "size": [
                  55,
                  55
                ],
                "position": [
                  0,
                  0
                ]
              },
              {
                "id": "group#China",
                "properties": {
                  "label": "China"
                },
                "color": "#15AFAC",
                "styles": {},
                "label": "China",
                "scale_factor": 1,
                "type": "#15AFAC",
                "size": [
                  55,
                  55
                ],
                "position": [
                  0,
                  0
                ]
              },
              {
                "id": "group#China",
                "properties": {
                  "label": "China"
                },
                "color": "#15AFAC",
                "styles": {},
                "label": "China",
                "scale_factor": 1,
                "type": "#15AFAC",
                "size": [
                  55,
                  55
                ],
                "position": [
                  0,
                  0
                ]
              },
              {
                "id": "group#Japan",
                "properties": {
                  "label": "Japan"
                },
                "color": "#15AFAC",
                "styles": {},
                "label": "Japan",
                "scale_factor": 1,
                "type": "#15AFAC",
                "size": [
                  55,
                  55
                ],
                "position": [
                  0,
                  0
                ]
              },
              {
                "id": "group#UAE",
                "properties": {
                  "label": "UAE"
                },
                "color": "#15AFAC",
                "styles": {},
                "label": "UAE",
                "scale_factor": 1,
                "type": "#15AFAC",
                "size": [
                  55,
                  55
                ],
                "position": [
                  0,
                  0
                ]
              },
              {
                "id": "group#Senegal",
                "properties": {
                  "label": "Senegal"
                },
                "color": "#15AFAC",
                "styles": {},
                "label": "Senegal",
                "scale_factor": 1,
                "type": "#15AFAC",
                "size": [
                  55,
                  55
                ],
                "position": [
                  0,
                  0
                ]
              },
              {
                "id": "group#South Africa",
                "properties": {
                  "label": "South Africa"
                },
                "color": "#15AFAC",
                "styles": {},
                "label": "South Africa",
                "scale_factor": 1,
                "type": "#15AFAC",
                "size": [
                  55,
                  55
                ],
                "position": [
                  0,
                  0
                ]
              },
              {
                "id": "group#Australia",
                "properties": {
                  "label": "Australia"
                },
                "color": "#15AFAC",
                "styles": {},
                "label": "Australia",
                "scale_factor": 1,
                "type": "#15AFAC",
                "size": [
                  55,
                  55
                ],
                "position": [
                  0,
                  0
                ]
              },
              {
                "id": "group#Kenya",
                "properties": {
                  "label": "Kenya"
                },
                "color": "#15AFAC",
                "styles": {},
                "label": "Kenya",
                "scale_factor": 1,
                "type": "#15AFAC",
                "size": [
                  55,
                  55
                ],
                "position": [
                  0,
                  0
                ]
              },
              {
                "id": "group#USA",
                "properties": {
                  "label": "USA"
                },
                "color": "#15AFAC",
                "styles": {},
                "label": "USA",
                "scale_factor": 1,
                "type": "#15AFAC",
                "size": [
                  55,
                  55
                ],
                "position": [
                  0,
                  0
                ]
              },
              {
                "id": "group#USA",
                "properties": {
                  "label": "USA"
                },
                "color": "#15AFAC",
                "styles": {},
                "label": "USA",
                "scale_factor": 1,
                "type": "#15AFAC",
                "size": [
                  55,
                  55
                ],
                "position": [
                  0,
                  0
                ]
              },
              {
                "id": "group#Egypt",
                "properties": {
                  "label": "Egypt"
                },
                "color": "#15AFAC",
                "styles": {},
                "label": "Egypt",
                "scale_factor": 1,
                "type": "#15AFAC",
                "size": [
                  55,
                  55
                ],
                "position": [
                  0,
                  0
                ]
              },
              {
                "id": "group#Morocco",
                "properties": {
                  "label": "Morocco"
                },
                "color": "#15AFAC",
                "styles": {},
                "label": "Morocco",
                "scale_factor": 1,
                "type": "#15AFAC",
                "size": [
                  55,
                  55
                ],
                "position": [
                  0,
                  0
                ]
              },
              {
                "id": "group#Nigeria",
                "properties": {
                  "label": "Nigeria"
                },
                "color": "#15AFAC",
                "styles": {},
                "label": "Nigeria",
                "scale_factor": 1,
                "type": "#15AFAC",
                "size": [
                  55,
                  55
                ],
                "position": [
                  0,
                  0
                ]
              },
              {
                "id": "group#South Africa",
                "properties": {
                  "label": "South Africa"
                },
                "color": "#15AFAC",
                "styles": {},
                "label": "South Africa",
                "scale_factor": 1,
                "type": "#15AFAC",
                "size": [
                  55,
                  55
                ],
                "position": [
                  0,
                  0
                ]
              },
              {
                "id": "group#China",
                "properties": {
                  "label": "China"
                },
                "color": "#15AFAC",
                "styles": {},
                "label": "China",
                "scale_factor": 1,
                "type": "#15AFAC",
                "size": [
                  55,
                  55
                ],
                "position": [
                  0,
                  0
                ]
              },
              {
                "id": "group#Indonesia",
                "properties": {
                  "label": "Indonesia"
                },
                "color": "#15AFAC",
                "styles": {},
                "label": "Indonesia",
                "scale_factor": 1,
                "type": "#15AFAC",
                "size": [
                  55,
                  55
                ],
                "position": [
                  0,
                  0
                ]
              },
              {
                "id": "group#Iran",
                "properties": {
                  "label": "Iran"
                },
                "color": "#15AFAC",
                "styles": {},
                "label": "Iran",
                "scale_factor": 1,
                "type": "#15AFAC",
                "size": [
                  55,
                  55
                ],
                "position": [
                  0,
                  0
                ]
              },
              {
                "id": "group#Israel",
                "properties": {
                  "label": "Israel"
                },
                "color": "#15AFAC",
                "styles": {},
                "label": "Israel",
                "scale_factor": 1,
                "type": "#15AFAC",
                "size": [
                  55,
                  55
                ],
                "position": [
                  0,
                  0
                ]
              },
              {
                "id": "group#Malaysia",
                "properties": {
                  "label": "Malaysia"
                },
                "color": "#15AFAC",
                "styles": {},
                "label": "Malaysia",
                "scale_factor": 1,
                "type": "#15AFAC",
                "size": [
                  55,
                  55
                ],
                "position": [
                  0,
                  0
                ]
              },
              {
                "id": "group#Philippines",
                "properties": {
                  "label": "Philippines"
                },
                "color": "#15AFAC",
                "styles": {},
                "label": "Philippines",
                "scale_factor": 1,
                "type": "#15AFAC",
                "size": [
                  55,
                  55
                ],
                "position": [
                  0,
                  0
                ]
              },
              {
                "id": "group#Singapore",
                "properties": {
                  "label": "Singapore"
                },
                "color": "#15AFAC",
                "styles": {},
                "label": "Singapore",
                "scale_factor": 1,
                "type": "#15AFAC",
                "size": [
                  55,
                  55
                ],
                "position": [
                  0,
                  0
                ]
              },
              {
                "id": "group#Taiwan",
                "properties": {
                  "label": "Taiwan"
                },
                "color": "#15AFAC",
                "styles": {},
                "label": "Taiwan",
                "scale_factor": 1,
                "type": "#15AFAC",
                "size": [
                  55,
                  55
                ],
                "position": [
                  0,
                  0
                ]
              },
              {
                "id": "group#Thailand",
                "properties": {
                  "label": "Thailand"
                },
                "color": "#15AFAC",
                "styles": {},
                "label": "Thailand",
                "scale_factor": 1,
                "type": "#15AFAC",
                "size": [
                  55,
                  55
                ],
                "position": [
                  0,
                  0
                ]
              },
              {
                "id": "group#Turkey",
                "properties": {
                  "label": "Turkey"
                },
                "color": "#15AFAC",
                "styles": {},
                "label": "Turkey",
                "scale_factor": 1,
                "type": "#15AFAC",
                "size": [
                  55,
                  55
                ],
                "position": [
                  0,
                  0
                ]
              },
              {
                "id": "group#Mongolia",
                "properties": {
                  "label": "Mongolia"
                },
                "color": "#15AFAC",
                "styles": {},
                "label": "Mongolia",
                "scale_factor": 1,
                "type": "#15AFAC",
                "size": [
                  55,
                  55
                ],
                "position": [
                  0,
                  0
                ]
              },
              {
                "id": "group#Australia",
                "properties": {
                  "label": "Australia"
                },
                "color": "#15AFAC",
                "styles": {},
                "label": "Australia",
                "scale_factor": 1,
                "type": "#15AFAC",
                "size": [
                  55,
                  55
                ],
                "position": [
                  0,
                  0
                ]
              },
              {
                "id": "group#Australia",
                "properties": {
                  "label": "Australia"
                },
                "color": "#15AFAC",
                "styles": {},
                "label": "Australia",
                "scale_factor": 1,
                "type": "#15AFAC",
                "size": [
                  55,
                  55
                ],
                "position": [
                  0,
                  0
                ]
              },
              {
                "id": "group#Fiji",
                "properties": {
                  "label": "Fiji"
                },
                "color": "#15AFAC",
                "styles": {},
                "label": "Fiji",
                "scale_factor": 1,
                "type": "#15AFAC",
                "size": [
                  55,
                  55
                ],
                "position": [
                  0,
                  0
                ]
              },
              {
                "id": "group#New Zealand",
                "properties": {
                  "label": "New Zealand"
                },
                "color": "#15AFAC",
                "styles": {},
                "label": "New Zealand",
                "scale_factor": 1,
                "type": "#15AFAC",
                "size": [
                  55,
                  55
                ],
                "position": [
                  0,
                  0
                ]
              },
              {
                "id": "group#France",
                "properties": {
                  "label": "France"
                },
                "color": "#15AFAC",
                "styles": {},
                "label": "France",
                "scale_factor": 1,
                "type": "#15AFAC",
                "size": [
                  55,
                  55
                ],
                "position": [
                  0,
                  0
                ]
              },
              {
                "id": "group#Spain",
                "properties": {
                  "label": "Spain"
                },
                "color": "#15AFAC",
                "styles": {},
                "label": "Spain",
                "scale_factor": 1,
                "type": "#15AFAC",
                "size": [
                  55,
                  55
                ],
                "position": [
                  0,
                  0
                ]
              },
              {
                "id": "group#Spain",
                "properties": {
                  "label": "Spain"
                },
                "color": "#15AFAC",
                "styles": {},
                "label": "Spain",
                "scale_factor": 1,
                "type": "#15AFAC",
                "size": [
                  55,
                  55
                ],
                "position": [
                  0,
                  0
                ]
              },
              {
                "id": "group#Italy",
                "properties": {
                  "label": "Italy"
                },
                "color": "#15AFAC",
                "styles": {},
                "label": "Italy",
                "scale_factor": 1,
                "type": "#15AFAC",
                "size": [
                  55,
                  55
                ],
                "position": [
                  0,
                  0
                ]
              },
              {
                "id": "group#Denmark",
                "properties": {
                  "label": "Denmark"
                },
                "color": "#15AFAC",
                "styles": {},
                "label": "Denmark",
                "scale_factor": 1,
                "type": "#15AFAC",
                "size": [
                  55,
                  55
                ],
                "position": [
                  0,
                  0
                ]
              },
              {
                "id": "group#Finland",
                "properties": {
                  "label": "Finland"
                },
                "color": "#15AFAC",
                "styles": {},
                "label": "Finland",
                "scale_factor": 1,
                "type": "#15AFAC",
                "size": [
                  55,
                  55
                ],
                "position": [
                  0,
                  0
                ]
              },
              {
                "id": "group#Greece",
                "properties": {
                  "label": "Greece"
                },
                "color": "#15AFAC",
                "styles": {},
                "label": "Greece",
                "scale_factor": 1,
                "type": "#15AFAC",
                "size": [
                  55,
                  55
                ],
                "position": [
                  0,
                  0
                ]
              },
              {
                "id": "group#Ireland",
                "properties": {
                  "label": "Ireland"
                },
                "color": "#15AFAC",
                "styles": {},
                "label": "Ireland",
                "scale_factor": 1,
                "type": "#15AFAC",
                "size": [
                  55,
                  55
                ],
                "position": [
                  0,
                  0
                ]
              },
              {
                "id": "group#Iceland",
                "properties": {
                  "label": "Iceland"
                },
                "color": "#15AFAC",
                "styles": {},
                "label": "Iceland",
                "scale_factor": 1,
                "type": "#15AFAC",
                "size": [
                  55,
                  55
                ],
                "position": [
                  0,
                  0
                ]
              },
              {
                "id": "group#Norway",
                "properties": {
                  "label": "Norway"
                },
                "color": "#15AFAC",
                "styles": {},
                "label": "Norway",
                "scale_factor": 1,
                "type": "#15AFAC",
                "size": [
                  55,
                  55
                ],
                "position": [
                  0,
                  0
                ]
              },
              {
                "id": "group#Austria",
                "properties": {
                  "label": "Austria"
                },
                "color": "#15AFAC",
                "styles": {},
                "label": "Austria",
                "scale_factor": 1,
                "type": "#15AFAC",
                "size": [
                  55,
                  55
                ],
                "position": [
                  0,
                  0
                ]
              },
              {
                "id": "group#Portugal",
                "properties": {
                  "label": "Portugal"
                },
                "color": "#15AFAC",
                "styles": {},
                "label": "Portugal",
                "scale_factor": 1,
                "type": "#15AFAC",
                "size": [
                  55,
                  55
                ],
                "position": [
                  0,
                  0
                ]
              },
              {
                "id": "group#Sweden",
                "properties": {
                  "label": "Sweden"
                },
                "color": "#15AFAC",
                "styles": {},
                "label": "Sweden",
                "scale_factor": 1,
                "type": "#15AFAC",
                "size": [
                  55,
                  55
                ],
                "position": [
                  0,
                  0
                ]
              },
              {
                "id": "group#UK",
                "properties": {
                  "label": "UK"
                },
                "color": "#15AFAC",
                "styles": {},
                "label": "UK",
                "scale_factor": 1,
                "type": "#15AFAC",
                "size": [
                  55,
                  55
                ],
                "position": [
                  0,
                  0
                ]
              },
              {
                "id": "group#USA",
                "properties": {
                  "label": "USA"
                },
                "color": "#15AFAC",
                "styles": {},
                "label": "USA",
                "scale_factor": 1,
                "type": "#15AFAC",
                "size": [
                  55,
                  55
                ],
                "position": [
                  0,
                  0
                ]
              },
              {
                "id": "group#USA",
                "properties": {
                  "label": "USA"
                },
                "color": "#15AFAC",
                "styles": {},
                "label": "USA",
                "scale_factor": 1,
                "type": "#15AFAC",
                "size": [
                  55,
                  55
                ],
                "position": [
                  0,
                  0
                ]
              },
              {
                "id": "group#USA",
                "properties": {
                  "label": "USA"
                },
                "color": "#15AFAC",
                "styles": {},
                "label": "USA",
                "scale_factor": 1,
                "type": "#15AFAC",
                "size": [
                  55,
                  55
                ],
                "position": [
                  0,
                  0
                ]
              },
              {
                "id": "group#USA",
                "properties": {
                  "label": "USA"
                },
                "color": "#15AFAC",
                "styles": {},
                "label": "USA",
                "scale_factor": 1,
                "type": "#15AFAC",
                "size": [
                  55,
                  55
                ],
                "position": [
                  0,
                  0
                ]
              },
              {
                "id": "group#USA",
                "properties": {
                  "label": "USA"
                },
                "color": "#15AFAC",
                "styles": {},
                "label": "USA",
                "scale_factor": 1,
                "type": "#15AFAC",
                "size": [
                  55,
                  55
                ],
                "position": [
                  0,
                  0
                ]
              },
              {
                "id": "group#Canada",
                "properties": {
                  "label": "Canada"
                },
                "color": "#15AFAC",
                "styles": {},
                "label": "Canada",
                "scale_factor": 1,
                "type": "#15AFAC",
                "size": [
                  55,
                  55
                ],
                "position": [
                  0,
                  0
                ]
              },
              {
                "id": "group#Canada",
                "properties": {
                  "label": "Canada"
                },
                "color": "#15AFAC",
                "styles": {},
                "label": "Canada",
                "scale_factor": 1,
                "type": "#15AFAC",
                "size": [
                  55,
                  55
                ],
                "position": [
                  0,
                  0
                ]
              },
              {
                "id": "group#Canada",
                "properties": {
                  "label": "Canada"
                },
                "color": "#15AFAC",
                "styles": {},
                "label": "Canada",
                "scale_factor": 1,
                "type": "#15AFAC",
                "size": [
                  55,
                  55
                ],
                "position": [
                  0,
                  0
                ]
              },
              {
                "id": "group#Mexico",
                "properties": {
                  "label": "Mexico"
                },
                "color": "#15AFAC",
                "styles": {},
                "label": "Mexico",
                "scale_factor": 1,
                "type": "#15AFAC",
                "size": [
                  55,
                  55
                ],
                "position": [
                  0,
                  0
                ]
              },
              {
                "id": "group#Guatemala",
                "properties": {
                  "label": "Guatemala"
                },
                "color": "#15AFAC",
                "styles": {},
                "label": "Guatemala",
                "scale_factor": 1,
                "type": "#15AFAC",
                "size": [
                  55,
                  55
                ],
                "position": [
                  0,
                  0
                ]
              },
              {
                "id": "group#Argentina",
                "properties": {
                  "label": "Argentina"
                },
                "color": "#15AFAC",
                "styles": {},
                "label": "Argentina",
                "scale_factor": 1,
                "type": "#15AFAC",
                "size": [
                  55,
                  55
                ],
                "position": [
                  0,
                  0
                ]
              },
              {
                "id": "group#Brazil",
                "properties": {
                  "label": "Brazil"
                },
                "color": "#15AFAC",
                "styles": {},
                "label": "Brazil",
                "scale_factor": 1,
                "type": "#15AFAC",
                "size": [
                  55,
                  55
                ],
                "position": [
                  0,
                  0
                ]
              },
              {
                "id": "group#Chile",
                "properties": {
                  "label": "Chile"
                },
                "color": "#15AFAC",
                "styles": {},
                "label": "Chile",
                "scale_factor": 1,
                "type": "#15AFAC",
                "size": [
                  55,
                  55
                ],
                "position": [
                  0,
                  0
                ]
              },
              {
                "id": "group#Brazil",
                "properties": {
                  "label": "Brazil"
                },
                "color": "#15AFAC",
                "styles": {},
                "label": "Brazil",
                "scale_factor": 1,
                "type": "#15AFAC",
                "size": [
                  55,
                  55
                ],
                "position": [
                  0,
                  0
                ]
              },
              {
                "id": "group#Colombia",
                "properties": {
                  "label": "Colombia"
                },
                "color": "#15AFAC",
                "styles": {},
                "label": "Colombia",
                "scale_factor": 1,
                "type": "#15AFAC",
                "size": [
                  55,
                  55
                ],
                "position": [
                  0,
                  0
                ]
              },
              {
                "id": "group#Venezuela",
                "properties": {
                  "label": "Venezuela"
                },
                "color": "#15AFAC",
                "styles": {},
                "label": "Venezuela",
                "scale_factor": 1,
                "type": "#15AFAC",
                "size": [
                  55,
                  55
                ],
                "position": [
                  0,
                  0
                ]
              }
            ],
            "_overview": {
              "enabled": null,
              "overview_set": false
            },
            "_selected_graph": [
              [],
              []
            ],
            "_sidebar": {
              "enabled": false,
              "start_with": null
            },
            "_view_count": null,
            "_view_module": "yfiles-jupyter-graphs",
            "_view_module_version": "^1.8.1",
            "_view_name": "GraphView",
            "layout": "IPY_MODEL_eb68a6945db54daa9d0b5c7191a884d1",
            "tabbable": null,
            "tooltip": null
          }
        },
        "eb68a6945db54daa9d0b5c7191a884d1": {
          "model_module": "@jupyter-widgets/base",
          "model_name": "LayoutModel",
          "model_module_version": "2.0.0",
          "state": {
            "_model_module": "@jupyter-widgets/base",
            "_model_module_version": "2.0.0",
            "_model_name": "LayoutModel",
            "_view_count": null,
            "_view_module": "@jupyter-widgets/base",
            "_view_module_version": "2.0.0",
            "_view_name": "LayoutView",
            "align_content": null,
            "align_items": null,
            "align_self": null,
            "border_bottom": null,
            "border_left": null,
            "border_right": null,
            "border_top": null,
            "bottom": null,
            "display": null,
            "flex": null,
            "flex_flow": null,
            "grid_area": null,
            "grid_auto_columns": null,
            "grid_auto_flow": null,
            "grid_auto_rows": null,
            "grid_column": null,
            "grid_gap": null,
            "grid_row": null,
            "grid_template_areas": null,
            "grid_template_columns": null,
            "grid_template_rows": null,
            "height": "800px",
            "justify_content": null,
            "justify_items": null,
            "left": null,
            "margin": null,
            "max_height": null,
            "max_width": null,
            "min_height": null,
            "min_width": null,
            "object_fit": null,
            "object_position": null,
            "order": null,
            "overflow": null,
            "padding": null,
            "right": null,
            "top": null,
            "visibility": null,
            "width": "100%"
          }
        },
        "3e5504df0ca54dafa952a8bf274777b8": {
          "model_module": "yfiles-jupyter-graphs",
          "model_name": "GraphModel",
          "model_module_version": "^1.8.1",
          "state": {
            "_context_pane_mapping": [
              {
                "id": "Neighborhood",
                "title": "Neighborhood"
              },
              {
                "id": "Data",
                "title": "Data"
              },
              {
                "id": "Search",
                "title": "Search"
              },
              {
                "id": "About",
                "title": "About"
              }
            ],
            "_data_importer": "unknown",
            "_directed": false,
            "_dom_classes": [],
            "_edges": [
              {
                "start": "LAX",
                "end": "JFK",
                "label": "",
                "properties": {},
                "directed": false,
                "color": "#15AFAC",
                "thickness_factor": 1
              },
              {
                "start": "JFK",
                "end": "GIG",
                "label": "",
                "properties": {},
                "directed": false,
                "color": "#15AFAC",
                "thickness_factor": 1
              },
              {
                "start": "JFK",
                "end": "LIM",
                "label": "",
                "properties": {},
                "directed": false,
                "color": "#15AFAC",
                "thickness_factor": 1
              },
              {
                "start": "JFK",
                "end": "LHR",
                "label": "",
                "properties": {},
                "directed": false,
                "color": "#15AFAC",
                "thickness_factor": 1
              },
              {
                "start": "GIG",
                "end": "FRA",
                "label": "",
                "properties": {},
                "directed": false,
                "color": "#15AFAC",
                "thickness_factor": 1
              },
              {
                "start": "LIM",
                "end": "GIG",
                "label": "",
                "properties": {},
                "directed": false,
                "color": "#15AFAC",
                "thickness_factor": 1
              },
              {
                "start": "FRA",
                "end": "JFK",
                "label": "",
                "properties": {},
                "directed": false,
                "color": "#15AFAC",
                "thickness_factor": 1
              },
              {
                "start": "LHR",
                "end": "FRA",
                "label": "",
                "properties": {},
                "directed": false,
                "color": "#15AFAC",
                "thickness_factor": 1
              },
              {
                "start": "FRA",
                "end": "SVO",
                "label": "",
                "properties": {},
                "directed": false,
                "color": "#15AFAC",
                "thickness_factor": 1
              },
              {
                "start": "FRA",
                "end": "DXB",
                "label": "",
                "properties": {},
                "directed": false,
                "color": "#15AFAC",
                "thickness_factor": 1
              },
              {
                "start": "SVO",
                "end": "DEL",
                "label": "",
                "properties": {},
                "directed": false,
                "color": "#15AFAC",
                "thickness_factor": 1
              },
              {
                "start": "SVO",
                "end": "PVG",
                "label": "",
                "properties": {},
                "directed": false,
                "color": "#15AFAC",
                "thickness_factor": 1
              },
              {
                "start": "DEL",
                "end": "HKG",
                "label": "",
                "properties": {},
                "directed": false,
                "color": "#15AFAC",
                "thickness_factor": 1
              },
              {
                "start": "PVG",
                "end": "HKG",
                "label": "",
                "properties": {},
                "directed": false,
                "color": "#15AFAC",
                "thickness_factor": 1
              },
              {
                "start": "PVG",
                "end": "NRT",
                "label": "",
                "properties": {},
                "directed": false,
                "color": "#15AFAC",
                "thickness_factor": 1
              },
              {
                "start": "HKG",
                "end": "SYD",
                "label": "",
                "properties": {},
                "directed": false,
                "color": "#15AFAC",
                "thickness_factor": 1
              },
              {
                "start": "NRT",
                "end": "SYD",
                "label": "",
                "properties": {},
                "directed": false,
                "color": "#15AFAC",
                "thickness_factor": 1
              },
              {
                "start": "DXB",
                "end": "SVO",
                "label": "",
                "properties": {},
                "directed": false,
                "color": "#15AFAC",
                "thickness_factor": 1
              },
              {
                "start": "DXB",
                "end": "DEL",
                "label": "",
                "properties": {},
                "directed": false,
                "color": "#15AFAC",
                "thickness_factor": 1
              },
              {
                "start": "DXB",
                "end": "DKR",
                "label": "",
                "properties": {},
                "directed": false,
                "color": "#15AFAC",
                "thickness_factor": 1
              },
              {
                "start": "DXB",
                "end": "JNB",
                "label": "",
                "properties": {},
                "directed": false,
                "color": "#15AFAC",
                "thickness_factor": 1
              },
              {
                "start": "JNB",
                "end": "LHR",
                "label": "",
                "properties": {},
                "directed": false,
                "color": "#15AFAC",
                "thickness_factor": 1
              },
              {
                "start": "JNB",
                "end": "DKR",
                "label": "",
                "properties": {},
                "directed": false,
                "color": "#15AFAC",
                "thickness_factor": 1
              },
              {
                "start": "SYD",
                "end": "DXB",
                "label": "",
                "properties": {},
                "directed": false,
                "color": "#15AFAC",
                "thickness_factor": 1
              },
              {
                "start": "NBO",
                "end": "JNB",
                "label": "",
                "properties": {},
                "directed": false,
                "color": "#15AFAC",
                "thickness_factor": 1
              },
              {
                "start": "NBO",
                "end": "DXB",
                "label": "",
                "properties": {},
                "directed": false,
                "color": "#15AFAC",
                "thickness_factor": 1
              },
              {
                "start": "ATL",
                "end": "JFK",
                "label": "",
                "properties": {},
                "directed": false,
                "color": "#15AFAC",
                "thickness_factor": 1
              },
              {
                "start": "LAX",
                "end": "ATL",
                "label": "",
                "properties": {},
                "directed": false,
                "color": "#15AFAC",
                "thickness_factor": 1
              },
              {
                "start": "ATL",
                "end": "LHR",
                "label": "",
                "properties": {},
                "directed": false,
                "color": "#15AFAC",
                "thickness_factor": 1
              },
              {
                "start": "ATL",
                "end": "LIM",
                "label": "",
                "properties": {},
                "directed": false,
                "color": "#15AFAC",
                "thickness_factor": 1
              },
              {
                "start": "SCL",
                "end": "LIM",
                "label": "",
                "properties": {},
                "directed": false,
                "color": "#15AFAC",
                "thickness_factor": 1
              },
              {
                "start": "EZE",
                "end": "SCL",
                "label": "",
                "properties": {},
                "directed": false,
                "color": "#15AFAC",
                "thickness_factor": 1
              },
              {
                "start": "SCL",
                "end": "GRU",
                "label": "",
                "properties": {},
                "directed": false,
                "color": "#15AFAC",
                "thickness_factor": 1
              },
              {
                "start": "GIG",
                "end": "EZE",
                "label": "",
                "properties": {},
                "directed": false,
                "color": "#15AFAC",
                "thickness_factor": 1
              },
              {
                "start": "GIG",
                "end": "GRU",
                "label": "",
                "properties": {},
                "directed": false,
                "color": "#15AFAC",
                "thickness_factor": 1
              },
              {
                "start": "BSB",
                "end": "GIG",
                "label": "",
                "properties": {},
                "directed": false,
                "color": "#15AFAC",
                "thickness_factor": 1
              },
              {
                "start": "SCL",
                "end": "BSB",
                "label": "",
                "properties": {},
                "directed": false,
                "color": "#15AFAC",
                "thickness_factor": 1
              },
              {
                "start": "LIM",
                "end": "BSB",
                "label": "",
                "properties": {},
                "directed": false,
                "color": "#15AFAC",
                "thickness_factor": 1
              },
              {
                "start": "BOG",
                "end": "BSB",
                "label": "",
                "properties": {},
                "directed": false,
                "color": "#15AFAC",
                "thickness_factor": 1
              },
              {
                "start": "CCS",
                "end": "BSB",
                "label": "",
                "properties": {},
                "directed": false,
                "color": "#15AFAC",
                "thickness_factor": 1
              },
              {
                "start": "BOG",
                "end": "GUA",
                "label": "",
                "properties": {},
                "directed": false,
                "color": "#15AFAC",
                "thickness_factor": 1
              },
              {
                "start": "CCS",
                "end": "MIA",
                "label": "",
                "properties": {},
                "directed": false,
                "color": "#15AFAC",
                "thickness_factor": 1
              },
              {
                "start": "GUA",
                "end": "MIA",
                "label": "",
                "properties": {},
                "directed": false,
                "color": "#15AFAC",
                "thickness_factor": 1
              },
              {
                "start": "GUA",
                "end": "MEX",
                "label": "",
                "properties": {},
                "directed": false,
                "color": "#15AFAC",
                "thickness_factor": 1
              },
              {
                "start": "MEX",
                "end": "LAX",
                "label": "",
                "properties": {},
                "directed": false,
                "color": "#15AFAC",
                "thickness_factor": 1
              },
              {
                "start": "MEX",
                "end": "LAX",
                "label": "",
                "properties": {},
                "directed": false,
                "color": "#15AFAC",
                "thickness_factor": 1
              },
              {
                "start": "LAX",
                "end": "SFO",
                "label": "",
                "properties": {},
                "directed": false,
                "color": "#15AFAC",
                "thickness_factor": 1
              },
              {
                "start": "SFO",
                "end": "YVR",
                "label": "",
                "properties": {},
                "directed": false,
                "color": "#15AFAC",
                "thickness_factor": 1
              },
              {
                "start": "LAX",
                "end": "LAS",
                "label": "",
                "properties": {},
                "directed": false,
                "color": "#15AFAC",
                "thickness_factor": 1
              },
              {
                "start": "LAX",
                "end": "DFW",
                "label": "",
                "properties": {},
                "directed": false,
                "color": "#15AFAC",
                "thickness_factor": 1
              },
              {
                "start": "LAX",
                "end": "ORD",
                "label": "",
                "properties": {},
                "directed": false,
                "color": "#15AFAC",
                "thickness_factor": 1
              },
              {
                "start": "SFO",
                "end": "LAS",
                "label": "",
                "properties": {},
                "directed": false,
                "color": "#15AFAC",
                "thickness_factor": 1
              },
              {
                "start": "DFW",
                "end": "ATL",
                "label": "",
                "properties": {},
                "directed": false,
                "color": "#15AFAC",
                "thickness_factor": 1
              },
              {
                "start": "ATL",
                "end": "YYZ",
                "label": "",
                "properties": {},
                "directed": false,
                "color": "#15AFAC",
                "thickness_factor": 1
              },
              {
                "start": "ORD",
                "end": "YYZ",
                "label": "",
                "properties": {},
                "directed": false,
                "color": "#15AFAC",
                "thickness_factor": 1
              },
              {
                "start": "YYZ",
                "end": "YUL",
                "label": "",
                "properties": {},
                "directed": false,
                "color": "#15AFAC",
                "thickness_factor": 1
              },
              {
                "start": "YYZ",
                "end": "JFK",
                "label": "",
                "properties": {},
                "directed": false,
                "color": "#15AFAC",
                "thickness_factor": 1
              },
              {
                "start": "YUL",
                "end": "JFK",
                "label": "",
                "properties": {},
                "directed": false,
                "color": "#15AFAC",
                "thickness_factor": 1
              },
              {
                "start": "JNB",
                "end": "CPT",
                "label": "",
                "properties": {},
                "directed": false,
                "color": "#15AFAC",
                "thickness_factor": 1
              },
              {
                "start": "LOS",
                "end": "DKR",
                "label": "",
                "properties": {},
                "directed": false,
                "color": "#15AFAC",
                "thickness_factor": 1
              },
              {
                "start": "NBO",
                "end": "LOS",
                "label": "",
                "properties": {},
                "directed": false,
                "color": "#15AFAC",
                "thickness_factor": 1
              },
              {
                "start": "DKR",
                "end": "CMN",
                "label": "",
                "properties": {},
                "directed": false,
                "color": "#15AFAC",
                "thickness_factor": 1
              },
              {
                "start": "DKR",
                "end": "CAI",
                "label": "",
                "properties": {},
                "directed": false,
                "color": "#15AFAC",
                "thickness_factor": 1
              },
              {
                "start": "NBO",
                "end": "CAI",
                "label": "",
                "properties": {},
                "directed": false,
                "color": "#15AFAC",
                "thickness_factor": 1
              },
              {
                "start": "DXB",
                "end": "CAI",
                "label": "",
                "properties": {},
                "directed": false,
                "color": "#15AFAC",
                "thickness_factor": 1
              },
              {
                "start": "IKA",
                "end": "DXB",
                "label": "",
                "properties": {},
                "directed": false,
                "color": "#15AFAC",
                "thickness_factor": 1
              },
              {
                "start": "IST",
                "end": "IKA",
                "label": "",
                "properties": {},
                "directed": false,
                "color": "#15AFAC",
                "thickness_factor": 1
              },
              {
                "start": "TLV",
                "end": "ATH",
                "label": "",
                "properties": {},
                "directed": false,
                "color": "#15AFAC",
                "thickness_factor": 1
              },
              {
                "start": "CAI",
                "end": "TLV",
                "label": "",
                "properties": {},
                "directed": false,
                "color": "#15AFAC",
                "thickness_factor": 1
              },
              {
                "start": "ATH",
                "end": "IST",
                "label": "",
                "properties": {},
                "directed": false,
                "color": "#15AFAC",
                "thickness_factor": 1
              },
              {
                "start": "FCO",
                "end": "ATH",
                "label": "",
                "properties": {},
                "directed": false,
                "color": "#15AFAC",
                "thickness_factor": 1
              },
              {
                "start": "LIS",
                "end": "LHR",
                "label": "",
                "properties": {},
                "directed": false,
                "color": "#15AFAC",
                "thickness_factor": 1
              },
              {
                "start": "LIS",
                "end": "MAD",
                "label": "",
                "properties": {},
                "directed": false,
                "color": "#15AFAC",
                "thickness_factor": 1
              },
              {
                "start": "MAD",
                "end": "BCN",
                "label": "",
                "properties": {},
                "directed": false,
                "color": "#15AFAC",
                "thickness_factor": 1
              },
              {
                "start": "CDG",
                "end": "LHR",
                "label": "",
                "properties": {},
                "directed": false,
                "color": "#15AFAC",
                "thickness_factor": 1
              },
              {
                "start": "DUB",
                "end": "LHR",
                "label": "",
                "properties": {},
                "directed": false,
                "color": "#15AFAC",
                "thickness_factor": 1
              },
              {
                "start": "EDI",
                "end": "LHR",
                "label": "",
                "properties": {},
                "directed": false,
                "color": "#15AFAC",
                "thickness_factor": 1
              },
              {
                "start": "CDG",
                "end": "BCN",
                "label": "",
                "properties": {},
                "directed": false,
                "color": "#15AFAC",
                "thickness_factor": 1
              },
              {
                "start": "BCN",
                "end": "FCO",
                "label": "",
                "properties": {},
                "directed": false,
                "color": "#15AFAC",
                "thickness_factor": 1
              },
              {
                "start": "VIE",
                "end": "IST",
                "label": "",
                "properties": {},
                "directed": false,
                "color": "#15AFAC",
                "thickness_factor": 1
              },
              {
                "start": "VIE",
                "end": "SVO",
                "label": "",
                "properties": {},
                "directed": false,
                "color": "#15AFAC",
                "thickness_factor": 1
              },
              {
                "start": "CMN",
                "end": "LIS",
                "label": "",
                "properties": {},
                "directed": false,
                "color": "#15AFAC",
                "thickness_factor": 1
              },
              {
                "start": "MAD",
                "end": "CMN",
                "label": "",
                "properties": {},
                "directed": false,
                "color": "#15AFAC",
                "thickness_factor": 1
              },
              {
                "start": "FRA",
                "end": "CPH",
                "label": "",
                "properties": {},
                "directed": false,
                "color": "#15AFAC",
                "thickness_factor": 1
              },
              {
                "start": "LHR",
                "end": "CPH",
                "label": "",
                "properties": {},
                "directed": false,
                "color": "#15AFAC",
                "thickness_factor": 1
              },
              {
                "start": "CPH",
                "end": "OSL",
                "label": "",
                "properties": {},
                "directed": false,
                "color": "#15AFAC",
                "thickness_factor": 1
              },
              {
                "start": "CPH",
                "end": "ARN",
                "label": "",
                "properties": {},
                "directed": false,
                "color": "#15AFAC",
                "thickness_factor": 1
              },
              {
                "start": "ARN",
                "end": "HEL",
                "label": "",
                "properties": {},
                "directed": false,
                "color": "#15AFAC",
                "thickness_factor": 1
              },
              {
                "start": "HEL",
                "end": "SVO",
                "label": "",
                "properties": {},
                "directed": false,
                "color": "#15AFAC",
                "thickness_factor": 1
              },
              {
                "start": "ULN",
                "end": "PVG",
                "label": "",
                "properties": {},
                "directed": false,
                "color": "#15AFAC",
                "thickness_factor": 1
              },
              {
                "start": "CTU",
                "end": "PVG",
                "label": "",
                "properties": {},
                "directed": false,
                "color": "#15AFAC",
                "thickness_factor": 1
              },
              {
                "start": "PVG",
                "end": "TPE",
                "label": "",
                "properties": {},
                "directed": false,
                "color": "#15AFAC",
                "thickness_factor": 1
              },
              {
                "start": "CTU",
                "end": "HKG",
                "label": "",
                "properties": {},
                "directed": false,
                "color": "#15AFAC",
                "thickness_factor": 1
              },
              {
                "start": "TPE",
                "end": "HKG",
                "label": "",
                "properties": {},
                "directed": false,
                "color": "#15AFAC",
                "thickness_factor": 1
              },
              {
                "start": "HKG",
                "end": "MNL",
                "label": "",
                "properties": {},
                "directed": false,
                "color": "#15AFAC",
                "thickness_factor": 1
              },
              {
                "start": "BKK",
                "end": "HKG",
                "label": "",
                "properties": {},
                "directed": false,
                "color": "#15AFAC",
                "thickness_factor": 1
              },
              {
                "start": "SIN",
                "end": "KUL",
                "label": "",
                "properties": {},
                "directed": false,
                "color": "#15AFAC",
                "thickness_factor": 1
              },
              {
                "start": "SIN",
                "end": "BKK",
                "label": "",
                "properties": {},
                "directed": false,
                "color": "#15AFAC",
                "thickness_factor": 1
              },
              {
                "start": "CGK",
                "end": "SIN",
                "label": "",
                "properties": {},
                "directed": false,
                "color": "#15AFAC",
                "thickness_factor": 1
              },
              {
                "start": "MNL",
                "end": "SIN",
                "label": "",
                "properties": {},
                "directed": false,
                "color": "#15AFAC",
                "thickness_factor": 1
              },
              {
                "start": "SIN",
                "end": "SYD",
                "label": "",
                "properties": {},
                "directed": false,
                "color": "#15AFAC",
                "thickness_factor": 1
              },
              {
                "start": "BNE",
                "end": "SYD",
                "label": "",
                "properties": {},
                "directed": false,
                "color": "#15AFAC",
                "thickness_factor": 1
              },
              {
                "start": "SYD",
                "end": "MEL",
                "label": "",
                "properties": {},
                "directed": false,
                "color": "#15AFAC",
                "thickness_factor": 1
              },
              {
                "start": "NAN",
                "end": "SYD",
                "label": "",
                "properties": {},
                "directed": false,
                "color": "#15AFAC",
                "thickness_factor": 1
              },
              {
                "start": "AKL",
                "end": "SYD",
                "label": "",
                "properties": {},
                "directed": false,
                "color": "#15AFAC",
                "thickness_factor": 1
              },
              {
                "start": "NAN",
                "end": "AKL",
                "label": "",
                "properties": {},
                "directed": false,
                "color": "#15AFAC",
                "thickness_factor": 1
              },
              {
                "start": "RKV",
                "end": "LHR",
                "label": "",
                "properties": {},
                "directed": false,
                "color": "#15AFAC",
                "thickness_factor": 1
              },
              {
                "start": "BCN",
                "end": "CDG",
                "label": "",
                "properties": {},
                "directed": false,
                "color": "#15AFAC",
                "thickness_factor": 1
              },
              {
                "start": "BCN",
                "end": "FRA",
                "label": "",
                "properties": {},
                "directed": false,
                "color": "#15AFAC",
                "thickness_factor": 1
              },
              {
                "start": "FCO",
                "end": "FRA",
                "label": "",
                "properties": {},
                "directed": false,
                "color": "#15AFAC",
                "thickness_factor": 1
              },
              {
                "start": "BOG",
                "end": "MEX",
                "label": "",
                "properties": {},
                "directed": false,
                "color": "#15AFAC",
                "thickness_factor": 1
              },
              {
                "start": "BOG",
                "end": "GRU",
                "label": "",
                "properties": {},
                "directed": false,
                "color": "#15AFAC",
                "thickness_factor": 1
              },
              {
                "start": "ATL",
                "end": "MIA",
                "label": "",
                "properties": {},
                "directed": false,
                "color": "#15AFAC",
                "thickness_factor": 1
              },
              {
                "start": "FRA",
                "end": "IST",
                "label": "",
                "properties": {},
                "directed": false,
                "color": "#15AFAC",
                "thickness_factor": 1
              },
              {
                "start": "IST",
                "end": "DEL",
                "label": "",
                "properties": {},
                "directed": false,
                "color": "#15AFAC",
                "thickness_factor": 1
              },
              {
                "start": "PVG",
                "end": "BKK",
                "label": "",
                "properties": {},
                "directed": false,
                "color": "#15AFAC",
                "thickness_factor": 1
              },
              {
                "start": "DEL",
                "end": "BKK",
                "label": "",
                "properties": {},
                "directed": false,
                "color": "#15AFAC",
                "thickness_factor": 1
              }
            ],
            "_graph_layout": {},
            "_highlight": [],
            "_license": {},
            "_model_module": "yfiles-jupyter-graphs",
            "_model_module_version": "^1.8.1",
            "_model_name": "GraphModel",
            "_neighborhood": {},
            "_nodes": [
              {
                "id": "LAX",
                "properties": {
                  "label": "Los Angeles",
                  "passengers": 65000000,
                  "country": "USA"
                },
                "coordinates": [
                  33.942536,
                  -118.408075
                ],
                "color": "#15AFAC",
                "styles": {},
                "label": "Los Angeles",
                "scale_factor": 1,
                "type": "#15AFAC",
                "size": [
                  55,
                  55
                ],
                "position": [
                  0,
                  0
                ],
                "parentId": "group#USA"
              },
              {
                "id": "GIG",
                "properties": {
                  "label": "Rio de Janeiro",
                  "passengers": 5000000,
                  "country": "Brazil"
                },
                "coordinates": [
                  -22.808903,
                  -43.243647
                ],
                "color": "#15AFAC",
                "styles": {},
                "label": "Rio de Janeiro",
                "scale_factor": 1,
                "type": "#15AFAC",
                "size": [
                  55,
                  55
                ],
                "position": [
                  0,
                  0
                ],
                "parentId": "group#Brazil"
              },
              {
                "id": "LIM",
                "properties": {
                  "label": "Lima",
                  "passengers": 18000000,
                  "country": "Peru"
                },
                "coordinates": [
                  -12.021889,
                  -77.114319
                ],
                "color": "#15AFAC",
                "styles": {},
                "label": "Lima",
                "scale_factor": 1,
                "type": "#15AFAC",
                "size": [
                  55,
                  55
                ],
                "position": [
                  0,
                  0
                ],
                "parentId": "group#Peru"
              },
              {
                "id": "LHR",
                "properties": {
                  "label": "London",
                  "passengers": 61000000,
                  "country": "UK"
                },
                "coordinates": [
                  51.4775,
                  -0.461389
                ],
                "color": "#15AFAC",
                "styles": {},
                "label": "London",
                "scale_factor": 1,
                "type": "#15AFAC",
                "size": [
                  55,
                  55
                ],
                "position": [
                  0,
                  0
                ],
                "parentId": "group#UK"
              },
              {
                "id": "FRA",
                "properties": {
                  "label": "Frankfurt",
                  "passengers": 48000000,
                  "country": "Germany"
                },
                "coordinates": [
                  50.033333,
                  8.570556
                ],
                "color": "#15AFAC",
                "styles": {},
                "label": "Frankfurt",
                "scale_factor": 1,
                "type": "#15AFAC",
                "size": [
                  55,
                  55
                ],
                "position": [
                  0,
                  0
                ],
                "parentId": "group#Germany"
              },
              {
                "id": "SVO",
                "properties": {
                  "label": "Moscow",
                  "passengers": 49000000,
                  "country": "Russia"
                },
                "coordinates": [
                  55.972642,
                  37.414589
                ],
                "color": "#15AFAC",
                "styles": {},
                "label": "Moscow",
                "scale_factor": 1,
                "type": "#15AFAC",
                "size": [
                  55,
                  55
                ],
                "position": [
                  0,
                  0
                ],
                "parentId": "group#Russia"
              },
              {
                "id": "DEL",
                "properties": {
                  "label": "New Delhi",
                  "passengers": 39000000,
                  "country": "India"
                },
                "coordinates": [
                  28.5665,
                  77.103089
                ],
                "color": "#15AFAC",
                "styles": {},
                "label": "New Delhi",
                "scale_factor": 1,
                "type": "#15AFAC",
                "size": [
                  55,
                  55
                ],
                "position": [
                  0,
                  0
                ],
                "parentId": "group#India"
              },
              {
                "id": "PVG",
                "properties": {
                  "label": "Shanghai",
                  "passengers": 32000000,
                  "country": "China"
                },
                "coordinates": [
                  31.143378,
                  121.805214
                ],
                "color": "#15AFAC",
                "styles": {},
                "label": "Shanghai",
                "scale_factor": 1,
                "type": "#15AFAC",
                "size": [
                  55,
                  55
                ],
                "position": [
                  0,
                  0
                ],
                "parentId": "group#China"
              },
              {
                "id": "HKG",
                "properties": {
                  "label": "Hongkong",
                  "passengers": 1000000,
                  "country": "China"
                },
                "coordinates": [
                  22.308919,
                  113.914603
                ],
                "color": "#15AFAC",
                "styles": {},
                "label": "Hongkong",
                "scale_factor": 1,
                "type": "#15AFAC",
                "size": [
                  55,
                  55
                ],
                "position": [
                  0,
                  0
                ],
                "parentId": "group#China"
              },
              {
                "id": "NRT",
                "properties": {
                  "label": "Tokio",
                  "passengers": 15000000,
                  "country": "Japan"
                },
                "coordinates": [
                  35.764722,
                  140.386389
                ],
                "color": "#15AFAC",
                "styles": {},
                "label": "Tokio",
                "scale_factor": 1,
                "type": "#15AFAC",
                "size": [
                  55,
                  55
                ],
                "position": [
                  0,
                  0
                ],
                "parentId": "group#Japan"
              },
              {
                "id": "DXB",
                "properties": {
                  "label": "Dubai",
                  "passengers": 29000000,
                  "country": "UAE"
                },
                "coordinates": [
                  25.252778,
                  55.364444
                ],
                "color": "#15AFAC",
                "styles": {},
                "label": "Dubai",
                "scale_factor": 1,
                "type": "#15AFAC",
                "size": [
                  55,
                  55
                ],
                "position": [
                  0,
                  0
                ],
                "parentId": "group#UAE"
              },
              {
                "id": "DKR",
                "properties": {
                  "label": "Dakar",
                  "passengers": 2000000,
                  "country": "Senegal"
                },
                "coordinates": [
                  14.670833,
                  -17.072778
                ],
                "color": "#15AFAC",
                "styles": {},
                "label": "Dakar",
                "scale_factor": 1,
                "type": "#15AFAC",
                "size": [
                  55,
                  55
                ],
                "position": [
                  0,
                  0
                ],
                "parentId": "group#Senegal"
              },
              {
                "id": "JNB",
                "properties": {
                  "label": "Johannesburg",
                  "passengers": 9000000,
                  "country": "South Africa"
                },
                "coordinates": [
                  -26.133694,
                  28.242317
                ],
                "color": "#15AFAC",
                "styles": {},
                "label": "Johannesburg",
                "scale_factor": 1,
                "type": "#15AFAC",
                "size": [
                  55,
                  55
                ],
                "position": [
                  0,
                  0
                ],
                "parentId": "group#South Africa"
              },
              {
                "id": "SYD",
                "properties": {
                  "label": "Sydney",
                  "passengers": 44000000,
                  "country": "Australia"
                },
                "coordinates": [
                  -33.946111,
                  151.177222
                ],
                "color": "#15AFAC",
                "styles": {},
                "label": "Sydney",
                "scale_factor": 1,
                "type": "#15AFAC",
                "size": [
                  55,
                  55
                ],
                "position": [
                  0,
                  0
                ],
                "parentId": "group#Australia"
              },
              {
                "id": "NBO",
                "properties": {
                  "label": "Nairobi",
                  "passengers": 900000,
                  "country": "Kenya"
                },
                "coordinates": [
                  -1.319167,
                  36.927778
                ],
                "color": "#15AFAC",
                "styles": {},
                "label": "Nairobi",
                "scale_factor": 1,
                "type": "#15AFAC",
                "size": [
                  55,
                  55
                ],
                "position": [
                  0,
                  0
                ],
                "parentId": "group#Kenya"
              },
              {
                "id": "ATL",
                "properties": {
                  "label": "Atlanta",
                  "passengers": 93000000,
                  "country": "USA"
                },
                "coordinates": [
                  33.639167,
                  -84.427778
                ],
                "color": "#15AFAC",
                "styles": {},
                "label": "Atlanta",
                "scale_factor": 1,
                "type": "#15AFAC",
                "size": [
                  55,
                  55
                ],
                "position": [
                  0,
                  0
                ],
                "parentId": "group#USA"
              },
              {
                "id": "JFK",
                "properties": {
                  "label": "New York City",
                  "passengers": 55000000,
                  "country": "USA"
                },
                "coordinates": [
                  40.63975,
                  -73.778925
                ],
                "color": "#15AFAC",
                "styles": {},
                "label": "New York City",
                "scale_factor": 1,
                "type": "#15AFAC",
                "size": [
                  55,
                  55
                ],
                "position": [
                  0,
                  0
                ],
                "parentId": "group#USA"
              },
              {
                "id": "CAI",
                "properties": {
                  "label": "Cairo",
                  "passengers": 14000000,
                  "country": "Egypt"
                },
                "coordinates": [
                  30.121944,
                  31.405556
                ],
                "color": "#15AFAC",
                "styles": {},
                "label": "Cairo",
                "scale_factor": 1,
                "type": "#15AFAC",
                "size": [
                  55,
                  55
                ],
                "position": [
                  0,
                  0
                ],
                "parentId": "group#Egypt"
              },
              {
                "id": "CMN",
                "properties": {
                  "label": "Casablanca",
                  "passengers": 7000000,
                  "country": "Morocco"
                },
                "coordinates": [
                  33.367467,
                  -7.589967
                ],
                "color": "#15AFAC",
                "styles": {},
                "label": "Casablanca",
                "scale_factor": 1,
                "type": "#15AFAC",
                "size": [
                  55,
                  55
                ],
                "position": [
                  0,
                  0
                ],
                "parentId": "group#Morocco"
              },
              {
                "id": "LOS",
                "properties": {
                  "label": "Lagos",
                  "passengers": 5000000,
                  "country": "Nigeria"
                },
                "coordinates": [
                  6.577222,
                  3.321111
                ],
                "color": "#15AFAC",
                "styles": {},
                "label": "Lagos",
                "scale_factor": 1,
                "type": "#15AFAC",
                "size": [
                  55,
                  55
                ],
                "position": [
                  0,
                  0
                ],
                "parentId": "group#Nigeria"
              },
              {
                "id": "CPT",
                "properties": {
                  "label": "Cape Town",
                  "passengers": 5000000,
                  "country": "South Africa"
                },
                "coordinates": [
                  -33.969444,
                  18.597222
                ],
                "color": "#15AFAC",
                "styles": {},
                "label": "Cape Town",
                "scale_factor": 1,
                "type": "#15AFAC",
                "size": [
                  55,
                  55
                ],
                "position": [
                  0,
                  0
                ],
                "parentId": "group#South Africa"
              },
              {
                "id": "CTU",
                "properties": {
                  "label": "Chengdu",
                  "passengers": 40000000,
                  "country": "China"
                },
                "coordinates": [
                  30.578333,
                  103.946944
                ],
                "color": "#15AFAC",
                "styles": {},
                "label": "Chengdu",
                "scale_factor": 1,
                "type": "#15AFAC",
                "size": [
                  55,
                  55
                ],
                "position": [
                  0,
                  0
                ],
                "parentId": "group#China"
              },
              {
                "id": "CGK",
                "properties": {
                  "label": "Jakarta",
                  "passengers": 54000000,
                  "country": "Indonesia"
                },
                "coordinates": [
                  -6.125567,
                  106.655897
                ],
                "color": "#15AFAC",
                "styles": {},
                "label": "Jakarta",
                "scale_factor": 1,
                "type": "#15AFAC",
                "size": [
                  55,
                  55
                ],
                "position": [
                  0,
                  0
                ],
                "parentId": "group#Indonesia"
              },
              {
                "id": "IKA",
                "properties": {
                  "label": "Teheran",
                  "passengers": 8000000,
                  "country": "Iran"
                },
                "coordinates": [
                  35.416111,
                  51.152222
                ],
                "color": "#15AFAC",
                "styles": {},
                "label": "Teheran",
                "scale_factor": 1,
                "type": "#15AFAC",
                "size": [
                  55,
                  55
                ],
                "position": [
                  0,
                  0
                ],
                "parentId": "group#Iran"
              },
              {
                "id": "TLV",
                "properties": {
                  "label": "Tel Aviv",
                  "passengers": 20000000,
                  "country": "Israel"
                },
                "coordinates": [
                  32.011389,
                  34.886667
                ],
                "color": "#15AFAC",
                "styles": {},
                "label": "Tel Aviv",
                "scale_factor": 1,
                "type": "#15AFAC",
                "size": [
                  55,
                  55
                ],
                "position": [
                  0,
                  0
                ],
                "parentId": "group#Israel"
              },
              {
                "id": "KUL",
                "properties": {
                  "label": "Kuala Lumpur",
                  "passengers": 25000000,
                  "country": "Malaysia"
                },
                "coordinates": [
                  2.745578,
                  101.709917
                ],
                "color": "#15AFAC",
                "styles": {},
                "label": "Kuala Lumpur",
                "scale_factor": 1,
                "type": "#15AFAC",
                "size": [
                  55,
                  55
                ],
                "position": [
                  0,
                  0
                ],
                "parentId": "group#Malaysia"
              },
              {
                "id": "MNL",
                "properties": {
                  "label": "Manila",
                  "passengers": 8000000,
                  "country": "Philippines"
                },
                "coordinates": [
                  14.508647,
                  121.019581
                ],
                "color": "#15AFAC",
                "styles": {},
                "label": "Manila",
                "scale_factor": 1,
                "type": "#15AFAC",
                "size": [
                  55,
                  55
                ],
                "position": [
                  0,
                  0
                ],
                "parentId": "group#Philippines"
              },
              {
                "id": "SIN",
                "properties": {
                  "label": "Singapur",
                  "passengers": 32000000,
                  "country": "Singapore"
                },
                "coordinates": [
                  1.350189,
                  103.994433
                ],
                "color": "#15AFAC",
                "styles": {},
                "label": "Singapur",
                "scale_factor": 1,
                "type": "#15AFAC",
                "size": [
                  55,
                  55
                ],
                "position": [
                  0,
                  0
                ],
                "parentId": "group#Singapore"
              },
              {
                "id": "TPE",
                "properties": {
                  "label": "Taipeh",
                  "passengers": 800000,
                  "country": "Taiwan"
                },
                "coordinates": [
                  25.077732,
                  121.232822
                ],
                "color": "#15AFAC",
                "styles": {},
                "label": "Taipeh",
                "scale_factor": 1,
                "type": "#15AFAC",
                "size": [
                  55,
                  55
                ],
                "position": [
                  0,
                  0
                ],
                "parentId": "group#Taiwan"
              },
              {
                "id": "BKK",
                "properties": {
                  "label": "Bangkok",
                  "passengers": 65000000,
                  "country": "Thailand"
                },
                "coordinates": [
                  13.681108,
                  100.747283
                ],
                "color": "#15AFAC",
                "styles": {},
                "label": "Bangkok",
                "scale_factor": 1,
                "type": "#15AFAC",
                "size": [
                  55,
                  55
                ],
                "position": [
                  0,
                  0
                ],
                "parentId": "group#Thailand"
              },
              {
                "id": "IST",
                "properties": {
                  "label": "Istanbul",
                  "passengers": 64000000,
                  "country": "Turkey"
                },
                "coordinates": [
                  40.976922,
                  28.814606
                ],
                "color": "#15AFAC",
                "styles": {},
                "label": "Istanbul",
                "scale_factor": 1,
                "type": "#15AFAC",
                "size": [
                  55,
                  55
                ],
                "position": [
                  0,
                  0
                ],
                "parentId": "group#Turkey"
              },
              {
                "id": "ULN",
                "properties": {
                  "label": "Ulaanbaatar",
                  "passengers": 1000000,
                  "country": "Mongolia"
                },
                "coordinates": [
                  47.843056,
                  106.766639
                ],
                "color": "#15AFAC",
                "styles": {},
                "label": "Ulaanbaatar",
                "scale_factor": 1,
                "type": "#15AFAC",
                "size": [
                  55,
                  55
                ],
                "position": [
                  0,
                  0
                ],
                "parentId": "group#Mongolia"
              },
              {
                "id": "MEL",
                "properties": {
                  "label": "Melbourne",
                  "passengers": 12000000,
                  "country": "Australia"
                },
                "coordinates": [
                  -37.673333,
                  144.843333
                ],
                "color": "#15AFAC",
                "styles": {},
                "label": "Melbourne",
                "scale_factor": 1,
                "type": "#15AFAC",
                "size": [
                  55,
                  55
                ],
                "position": [
                  0,
                  0
                ],
                "parentId": "group#Australia"
              },
              {
                "id": "BNE",
                "properties": {
                  "label": "Brisbane",
                  "passengers": 23000000,
                  "country": "Australia"
                },
                "coordinates": [
                  -27.383333,
                  153.118056
                ],
                "color": "#15AFAC",
                "styles": {},
                "label": "Brisbane",
                "scale_factor": 1,
                "type": "#15AFAC",
                "size": [
                  55,
                  55
                ],
                "position": [
                  0,
                  0
                ],
                "parentId": "group#Australia"
              },
              {
                "id": "NAN",
                "properties": {
                  "label": "Nadi",
                  "passengers": 2000000,
                  "country": "Fiji"
                },
                "coordinates": [
                  -17.755392,
                  177.443378
                ],
                "color": "#15AFAC",
                "styles": {},
                "label": "Nadi",
                "scale_factor": 1,
                "type": "#15AFAC",
                "size": [
                  55,
                  55
                ],
                "position": [
                  0,
                  0
                ],
                "parentId": "group#Fiji"
              },
              {
                "id": "AKL",
                "properties": {
                  "label": "Auckland",
                  "passengers": 21000000,
                  "country": "New Zealand"
                },
                "coordinates": [
                  -37.008056,
                  174.791667
                ],
                "color": "#15AFAC",
                "styles": {},
                "label": "Auckland",
                "scale_factor": 1,
                "type": "#15AFAC",
                "size": [
                  55,
                  55
                ],
                "position": [
                  0,
                  0
                ],
                "parentId": "group#New Zealand"
              },
              {
                "id": "CDG",
                "properties": {
                  "label": "Paris",
                  "passengers": 57000000,
                  "country": "France"
                },
                "coordinates": [
                  49.009722,
                  2.547778
                ],
                "color": "#15AFAC",
                "styles": {},
                "label": "Paris",
                "scale_factor": 1,
                "type": "#15AFAC",
                "size": [
                  55,
                  55
                ],
                "position": [
                  0,
                  0
                ],
                "parentId": "group#France"
              },
              {
                "id": "MAD",
                "properties": {
                  "label": "Madrid",
                  "passengers": 50000000,
                  "country": "Spain"
                },
                "coordinates": [
                  40.4675,
                  -3.551944
                ],
                "color": "#15AFAC",
                "styles": {},
                "label": "Madrid",
                "scale_factor": 1,
                "type": "#15AFAC",
                "size": [
                  55,
                  55
                ],
                "position": [
                  0,
                  0
                ],
                "parentId": "group#Spain"
              },
              {
                "id": "BCN",
                "properties": {
                  "label": "Barcelona",
                  "passengers": 41000000,
                  "country": "Spain"
                },
                "coordinates": [
                  41.297078,
                  2.078464
                ],
                "color": "#15AFAC",
                "styles": {},
                "label": "Barcelona",
                "scale_factor": 1,
                "type": "#15AFAC",
                "size": [
                  55,
                  55
                ],
                "position": [
                  0,
                  0
                ],
                "parentId": "group#Spain"
              },
              {
                "id": "FCO",
                "properties": {
                  "label": "Rome",
                  "passengers": 29000000,
                  "country": "Italy"
                },
                "coordinates": [
                  41.804444,
                  12.250833
                ],
                "color": "#15AFAC",
                "styles": {},
                "label": "Rome",
                "scale_factor": 1,
                "type": "#15AFAC",
                "size": [
                  55,
                  55
                ],
                "position": [
                  0,
                  0
                ],
                "parentId": "group#Italy"
              },
              {
                "id": "CPH",
                "properties": {
                  "label": "Copenhagen",
                  "passengers": 30000000,
                  "country": "Denmark"
                },
                "coordinates": [
                  55.617917,
                  12.655972
                ],
                "color": "#15AFAC",
                "styles": {},
                "label": "Copenhagen",
                "scale_factor": 1,
                "type": "#15AFAC",
                "size": [
                  55,
                  55
                ],
                "position": [
                  0,
                  0
                ],
                "parentId": "group#Denmark"
              },
              {
                "id": "HEL",
                "properties": {
                  "label": "Helsinki",
                  "passengers": 5000000,
                  "country": "Finland"
                },
                "coordinates": [
                  60.317222,
                  24.963333
                ],
                "color": "#15AFAC",
                "styles": {},
                "label": "Helsinki",
                "scale_factor": 1,
                "type": "#15AFAC",
                "size": [
                  55,
                  55
                ],
                "position": [
                  0,
                  0
                ],
                "parentId": "group#Finland"
              },
              {
                "id": "ATH",
                "properties": {
                  "label": "Athens",
                  "passengers": 22000000,
                  "country": "Greece"
                },
                "coordinates": [
                  37.936358,
                  23.944467
                ],
                "color": "#15AFAC",
                "styles": {},
                "label": "Athens",
                "scale_factor": 1,
                "type": "#15AFAC",
                "size": [
                  55,
                  55
                ],
                "position": [
                  0,
                  0
                ],
                "parentId": "group#Greece"
              },
              {
                "id": "DUB",
                "properties": {
                  "label": "Dublin",
                  "passengers": 32000000,
                  "country": "Ireland"
                },
                "coordinates": [
                  53.421333,
                  -6.270075
                ],
                "color": "#15AFAC",
                "styles": {},
                "label": "Dublin",
                "scale_factor": 1,
                "type": "#15AFAC",
                "size": [
                  55,
                  55
                ],
                "position": [
                  0,
                  0
                ],
                "parentId": "group#Ireland"
              },
              {
                "id": "RKV",
                "properties": {
                  "label": "Reykjavik",
                  "passengers": 400000,
                  "country": "Iceland"
                },
                "coordinates": [
                  64.13,
                  -21.940556
                ],
                "color": "#15AFAC",
                "styles": {},
                "label": "Reykjavik",
                "scale_factor": 1,
                "type": "#15AFAC",
                "size": [
                  55,
                  55
                ],
                "position": [
                  0,
                  0
                ],
                "parentId": "group#Iceland"
              },
              {
                "id": "OSL",
                "properties": {
                  "label": "Oslo",
                  "passengers": 9000000,
                  "country": "Norway"
                },
                "coordinates": [
                  60.193917,
                  11.100361
                ],
                "color": "#15AFAC",
                "styles": {},
                "label": "Oslo",
                "scale_factor": 1,
                "type": "#15AFAC",
                "size": [
                  55,
                  55
                ],
                "position": [
                  0,
                  0
                ],
                "parentId": "group#Norway"
              },
              {
                "id": "VIE",
                "properties": {
                  "label": "Vienna",
                  "passengers": 10000000,
                  "country": "Austria"
                },
                "coordinates": [
                  48.110833,
                  16.570833
                ],
                "color": "#15AFAC",
                "styles": {},
                "label": "Vienna",
                "scale_factor": 1,
                "type": "#15AFAC",
                "size": [
                  55,
                  55
                ],
                "position": [
                  0,
                  0
                ],
                "parentId": "group#Austria"
              },
              {
                "id": "LIS",
                "properties": {
                  "label": "Lisbon",
                  "passengers": 28000000,
                  "country": "Portugal"
                },
                "coordinates": [
                  38.774167,
                  -9.134167
                ],
                "color": "#15AFAC",
                "styles": {},
                "label": "Lisbon",
                "scale_factor": 1,
                "type": "#15AFAC",
                "size": [
                  55,
                  55
                ],
                "position": [
                  0,
                  0
                ],
                "parentId": "group#Portugal"
              },
              {
                "id": "ARN",
                "properties": {
                  "label": "Stockholm",
                  "passengers": 7000000,
                  "country": "Sweden"
                },
                "coordinates": [
                  59.651944,
                  17.918611
                ],
                "color": "#15AFAC",
                "styles": {},
                "label": "Stockholm",
                "scale_factor": 1,
                "type": "#15AFAC",
                "size": [
                  55,
                  55
                ],
                "position": [
                  0,
                  0
                ],
                "parentId": "group#Sweden"
              },
              {
                "id": "EDI",
                "properties": {
                  "label": "Edinburgh",
                  "passengers": 14000000,
                  "country": "UK"
                },
                "coordinates": [
                  55.95,
                  -3.3725
                ],
                "color": "#15AFAC",
                "styles": {},
                "label": "Edinburgh",
                "scale_factor": 1,
                "type": "#15AFAC",
                "size": [
                  55,
                  55
                ],
                "position": [
                  0,
                  0
                ],
                "parentId": "group#UK"
              },
              {
                "id": "ORD",
                "properties": {
                  "label": "Chicago",
                  "passengers": 54000000,
                  "country": "USA"
                },
                "coordinates": [
                  41.978603,
                  -87.904842
                ],
                "color": "#15AFAC",
                "styles": {},
                "label": "Chicago",
                "scale_factor": 1,
                "type": "#15AFAC",
                "size": [
                  55,
                  55
                ],
                "position": [
                  0,
                  0
                ],
                "parentId": "group#USA"
              },
              {
                "id": "DFW",
                "properties": {
                  "label": "Dallas",
                  "passengers": 73000000,
                  "country": "USA"
                },
                "coordinates": [
                  32.896828,
                  -97.037997
                ],
                "color": "#15AFAC",
                "styles": {},
                "label": "Dallas",
                "scale_factor": 1,
                "type": "#15AFAC",
                "size": [
                  55,
                  55
                ],
                "position": [
                  0,
                  0
                ],
                "parentId": "group#USA"
              },
              {
                "id": "SFO",
                "properties": {
                  "label": "San Francisco",
                  "passengers": 42000000,
                  "country": "USA"
                },
                "coordinates": [
                  37.618972,
                  -122.374889
                ],
                "color": "#15AFAC",
                "styles": {},
                "label": "San Francisco",
                "scale_factor": 1,
                "type": "#15AFAC",
                "size": [
                  55,
                  55
                ],
                "position": [
                  0,
                  0
                ],
                "parentId": "group#USA"
              },
              {
                "id": "LAS",
                "properties": {
                  "label": "Las Vegas",
                  "passengers": 52000000,
                  "country": "USA"
                },
                "coordinates": [
                  36.080056,
                  -115.15225
                ],
                "color": "#15AFAC",
                "styles": {},
                "label": "Las Vegas",
                "scale_factor": 1,
                "type": "#15AFAC",
                "size": [
                  55,
                  55
                ],
                "position": [
                  0,
                  0
                ],
                "parentId": "group#USA"
              },
              {
                "id": "MIA",
                "properties": {
                  "label": "Miami",
                  "passengers": 50000000,
                  "country": "USA"
                },
                "coordinates": [
                  25.79325,
                  -80.290556
                ],
                "color": "#15AFAC",
                "styles": {},
                "label": "Miami",
                "scale_factor": 1,
                "type": "#15AFAC",
                "size": [
                  55,
                  55
                ],
                "position": [
                  0,
                  0
                ],
                "parentId": "group#USA"
              },
              {
                "id": "YYZ",
                "properties": {
                  "label": "Toronto",
                  "passengers": 12000000,
                  "country": "Canada"
                },
                "coordinates": [
                  43.677222,
                  -79.630556
                ],
                "color": "#15AFAC",
                "styles": {},
                "label": "Toronto",
                "scale_factor": 1,
                "type": "#15AFAC",
                "size": [
                  55,
                  55
                ],
                "position": [
                  0,
                  0
                ],
                "parentId": "group#Canada"
              },
              {
                "id": "YVR",
                "properties": {
                  "label": "Vancouver",
                  "passengers": 19000000,
                  "country": "Canada"
                },
                "coordinates": [
                  49.193889,
                  -123.184444
                ],
                "color": "#15AFAC",
                "styles": {},
                "label": "Vancouver",
                "scale_factor": 1,
                "type": "#15AFAC",
                "size": [
                  55,
                  55
                ],
                "position": [
                  0,
                  0
                ],
                "parentId": "group#Canada"
              },
              {
                "id": "YUL",
                "properties": {
                  "label": "Montreal",
                  "passengers": 15000000,
                  "country": "Canada"
                },
                "coordinates": [
                  45.47175,
                  -73.736569
                ],
                "color": "#15AFAC",
                "styles": {},
                "label": "Montreal",
                "scale_factor": 1,
                "type": "#15AFAC",
                "size": [
                  55,
                  55
                ],
                "position": [
                  0,
                  0
                ],
                "parentId": "group#Canada"
              },
              {
                "id": "MEX",
                "properties": {
                  "label": "Mexico-City",
                  "passengers": 46000000,
                  "country": "Mexico"
                },
                "coordinates": [
                  19.436303,
                  -99.072097
                ],
                "color": "#15AFAC",
                "styles": {},
                "label": "Mexico-City",
                "scale_factor": 1,
                "type": "#15AFAC",
                "size": [
                  55,
                  55
                ],
                "position": [
                  0,
                  0
                ],
                "parentId": "group#Mexico"
              },
              {
                "id": "GUA",
                "properties": {
                  "label": "Guatemala-City",
                  "passengers": 2000000,
                  "country": "Guatemala"
                },
                "coordinates": [
                  14.583272,
                  -90.527475
                ],
                "color": "#15AFAC",
                "styles": {},
                "label": "Guatemala-City",
                "scale_factor": 1,
                "type": "#15AFAC",
                "size": [
                  55,
                  55
                ],
                "position": [
                  0,
                  0
                ],
                "parentId": "group#Guatemala"
              },
              {
                "id": "EZE",
                "properties": {
                  "label": "Buenos Aires",
                  "passengers": 5000000,
                  "country": "Argentina"
                },
                "coordinates": [
                  -34.822222,
                  -58.535833
                ],
                "color": "#15AFAC",
                "styles": {},
                "label": "Buenos Aires",
                "scale_factor": 1,
                "type": "#15AFAC",
                "size": [
                  55,
                  55
                ],
                "position": [
                  0,
                  0
                ],
                "parentId": "group#Argentina"
              },
              {
                "id": "GRU",
                "properties": {
                  "label": "Sao Paulo",
                  "passengers": 34000000,
                  "country": "Brazil"
                },
                "coordinates": [
                  -23.432075,
                  -46.469511
                ],
                "color": "#15AFAC",
                "styles": {},
                "label": "Sao Paulo",
                "scale_factor": 1,
                "type": "#15AFAC",
                "size": [
                  55,
                  55
                ],
                "position": [
                  0,
                  0
                ],
                "parentId": "group#Brazil"
              },
              {
                "id": "SCL",
                "properties": {
                  "label": "Santiago de Chile",
                  "passengers": 20000000,
                  "country": "Chile"
                },
                "coordinates": [
                  -33.392975,
                  -70.785803
                ],
                "color": "#15AFAC",
                "styles": {},
                "label": "Santiago de Chile",
                "scale_factor": 1,
                "type": "#15AFAC",
                "size": [
                  55,
                  55
                ],
                "position": [
                  0,
                  0
                ],
                "parentId": "group#Chile"
              },
              {
                "id": "BSB",
                "properties": {
                  "label": "Brasilia",
                  "passengers": 13000000,
                  "country": "Brazil"
                },
                "coordinates": [
                  -15.871111,
                  -47.918611
                ],
                "color": "#15AFAC",
                "styles": {},
                "label": "Brasilia",
                "scale_factor": 1,
                "type": "#15AFAC",
                "size": [
                  55,
                  55
                ],
                "position": [
                  0,
                  0
                ],
                "parentId": "group#Brazil"
              },
              {
                "id": "BOG",
                "properties": {
                  "label": "Bogota",
                  "passengers": 36000000,
                  "country": "Colombia"
                },
                "coordinates": [
                  4.701594,
                  -74.146947
                ],
                "color": "#15AFAC",
                "styles": {},
                "label": "Bogota",
                "scale_factor": 1,
                "type": "#15AFAC",
                "size": [
                  55,
                  55
                ],
                "position": [
                  0,
                  0
                ],
                "parentId": "group#Colombia"
              },
              {
                "id": "CCS",
                "properties": {
                  "label": "Caracas",
                  "passengers": 8000000,
                  "country": "Venezuela"
                },
                "coordinates": [
                  10.601194,
                  -66.991222
                ],
                "color": "#15AFAC",
                "styles": {},
                "label": "Caracas",
                "scale_factor": 1,
                "type": "#15AFAC",
                "size": [
                  55,
                  55
                ],
                "position": [
                  0,
                  0
                ],
                "parentId": "group#Venezuela"
              },
              {
                "id": "group#USA",
                "properties": {
                  "label": "USA"
                },
                "color": "gray",
                "styles": {},
                "label": "USA",
                "scale_factor": 1,
                "type": "gray",
                "size": [
                  55,
                  55
                ],
                "position": [
                  0,
                  0
                ]
              },
              {
                "id": "group#Brazil",
                "properties": {
                  "label": "Brazil"
                },
                "color": "gray",
                "styles": {},
                "label": "Brazil",
                "scale_factor": 1,
                "type": "gray",
                "size": [
                  55,
                  55
                ],
                "position": [
                  0,
                  0
                ]
              },
              {
                "id": "group#Peru",
                "properties": {
                  "label": "Peru"
                },
                "color": "gray",
                "styles": {},
                "label": "Peru",
                "scale_factor": 1,
                "type": "gray",
                "size": [
                  55,
                  55
                ],
                "position": [
                  0,
                  0
                ]
              },
              {
                "id": "group#UK",
                "properties": {
                  "label": "UK"
                },
                "color": "gray",
                "styles": {},
                "label": "UK",
                "scale_factor": 1,
                "type": "gray",
                "size": [
                  55,
                  55
                ],
                "position": [
                  0,
                  0
                ]
              },
              {
                "id": "group#Germany",
                "properties": {
                  "label": "Germany"
                },
                "color": "gray",
                "styles": {},
                "label": "Germany",
                "scale_factor": 1,
                "type": "gray",
                "size": [
                  55,
                  55
                ],
                "position": [
                  0,
                  0
                ]
              },
              {
                "id": "group#Russia",
                "properties": {
                  "label": "Russia"
                },
                "color": "gray",
                "styles": {},
                "label": "Russia",
                "scale_factor": 1,
                "type": "gray",
                "size": [
                  55,
                  55
                ],
                "position": [
                  0,
                  0
                ]
              },
              {
                "id": "group#India",
                "properties": {
                  "label": "India"
                },
                "color": "gray",
                "styles": {},
                "label": "India",
                "scale_factor": 1,
                "type": "gray",
                "size": [
                  55,
                  55
                ],
                "position": [
                  0,
                  0
                ]
              },
              {
                "id": "group#China",
                "properties": {
                  "label": "China"
                },
                "color": "gray",
                "styles": {},
                "label": "China",
                "scale_factor": 1,
                "type": "gray",
                "size": [
                  55,
                  55
                ],
                "position": [
                  0,
                  0
                ]
              },
              {
                "id": "group#China",
                "properties": {
                  "label": "China"
                },
                "color": "gray",
                "styles": {},
                "label": "China",
                "scale_factor": 1,
                "type": "gray",
                "size": [
                  55,
                  55
                ],
                "position": [
                  0,
                  0
                ]
              },
              {
                "id": "group#Japan",
                "properties": {
                  "label": "Japan"
                },
                "color": "gray",
                "styles": {},
                "label": "Japan",
                "scale_factor": 1,
                "type": "gray",
                "size": [
                  55,
                  55
                ],
                "position": [
                  0,
                  0
                ]
              },
              {
                "id": "group#UAE",
                "properties": {
                  "label": "UAE"
                },
                "color": "gray",
                "styles": {},
                "label": "UAE",
                "scale_factor": 1,
                "type": "gray",
                "size": [
                  55,
                  55
                ],
                "position": [
                  0,
                  0
                ]
              },
              {
                "id": "group#Senegal",
                "properties": {
                  "label": "Senegal"
                },
                "color": "gray",
                "styles": {},
                "label": "Senegal",
                "scale_factor": 1,
                "type": "gray",
                "size": [
                  55,
                  55
                ],
                "position": [
                  0,
                  0
                ]
              },
              {
                "id": "group#South Africa",
                "properties": {
                  "label": "South Africa"
                },
                "color": "gray",
                "styles": {},
                "label": "South Africa",
                "scale_factor": 1,
                "type": "gray",
                "size": [
                  55,
                  55
                ],
                "position": [
                  0,
                  0
                ]
              },
              {
                "id": "group#Australia",
                "properties": {
                  "label": "Australia"
                },
                "color": "gray",
                "styles": {},
                "label": "Australia",
                "scale_factor": 1,
                "type": "gray",
                "size": [
                  55,
                  55
                ],
                "position": [
                  0,
                  0
                ]
              },
              {
                "id": "group#Kenya",
                "properties": {
                  "label": "Kenya"
                },
                "color": "gray",
                "styles": {},
                "label": "Kenya",
                "scale_factor": 1,
                "type": "gray",
                "size": [
                  55,
                  55
                ],
                "position": [
                  0,
                  0
                ]
              },
              {
                "id": "group#USA",
                "properties": {
                  "label": "USA"
                },
                "color": "gray",
                "styles": {},
                "label": "USA",
                "scale_factor": 1,
                "type": "gray",
                "size": [
                  55,
                  55
                ],
                "position": [
                  0,
                  0
                ]
              },
              {
                "id": "group#USA",
                "properties": {
                  "label": "USA"
                },
                "color": "gray",
                "styles": {},
                "label": "USA",
                "scale_factor": 1,
                "type": "gray",
                "size": [
                  55,
                  55
                ],
                "position": [
                  0,
                  0
                ]
              },
              {
                "id": "group#Egypt",
                "properties": {
                  "label": "Egypt"
                },
                "color": "gray",
                "styles": {},
                "label": "Egypt",
                "scale_factor": 1,
                "type": "gray",
                "size": [
                  55,
                  55
                ],
                "position": [
                  0,
                  0
                ]
              },
              {
                "id": "group#Morocco",
                "properties": {
                  "label": "Morocco"
                },
                "color": "gray",
                "styles": {},
                "label": "Morocco",
                "scale_factor": 1,
                "type": "gray",
                "size": [
                  55,
                  55
                ],
                "position": [
                  0,
                  0
                ]
              },
              {
                "id": "group#Nigeria",
                "properties": {
                  "label": "Nigeria"
                },
                "color": "gray",
                "styles": {},
                "label": "Nigeria",
                "scale_factor": 1,
                "type": "gray",
                "size": [
                  55,
                  55
                ],
                "position": [
                  0,
                  0
                ]
              },
              {
                "id": "group#South Africa",
                "properties": {
                  "label": "South Africa"
                },
                "color": "gray",
                "styles": {},
                "label": "South Africa",
                "scale_factor": 1,
                "type": "gray",
                "size": [
                  55,
                  55
                ],
                "position": [
                  0,
                  0
                ]
              },
              {
                "id": "group#China",
                "properties": {
                  "label": "China"
                },
                "color": "gray",
                "styles": {},
                "label": "China",
                "scale_factor": 1,
                "type": "gray",
                "size": [
                  55,
                  55
                ],
                "position": [
                  0,
                  0
                ]
              },
              {
                "id": "group#Indonesia",
                "properties": {
                  "label": "Indonesia"
                },
                "color": "gray",
                "styles": {},
                "label": "Indonesia",
                "scale_factor": 1,
                "type": "gray",
                "size": [
                  55,
                  55
                ],
                "position": [
                  0,
                  0
                ]
              },
              {
                "id": "group#Iran",
                "properties": {
                  "label": "Iran"
                },
                "color": "gray",
                "styles": {},
                "label": "Iran",
                "scale_factor": 1,
                "type": "gray",
                "size": [
                  55,
                  55
                ],
                "position": [
                  0,
                  0
                ]
              },
              {
                "id": "group#Israel",
                "properties": {
                  "label": "Israel"
                },
                "color": "gray",
                "styles": {},
                "label": "Israel",
                "scale_factor": 1,
                "type": "gray",
                "size": [
                  55,
                  55
                ],
                "position": [
                  0,
                  0
                ]
              },
              {
                "id": "group#Malaysia",
                "properties": {
                  "label": "Malaysia"
                },
                "color": "gray",
                "styles": {},
                "label": "Malaysia",
                "scale_factor": 1,
                "type": "gray",
                "size": [
                  55,
                  55
                ],
                "position": [
                  0,
                  0
                ]
              },
              {
                "id": "group#Philippines",
                "properties": {
                  "label": "Philippines"
                },
                "color": "gray",
                "styles": {},
                "label": "Philippines",
                "scale_factor": 1,
                "type": "gray",
                "size": [
                  55,
                  55
                ],
                "position": [
                  0,
                  0
                ]
              },
              {
                "id": "group#Singapore",
                "properties": {
                  "label": "Singapore"
                },
                "color": "gray",
                "styles": {},
                "label": "Singapore",
                "scale_factor": 1,
                "type": "gray",
                "size": [
                  55,
                  55
                ],
                "position": [
                  0,
                  0
                ]
              },
              {
                "id": "group#Taiwan",
                "properties": {
                  "label": "Taiwan"
                },
                "color": "gray",
                "styles": {},
                "label": "Taiwan",
                "scale_factor": 1,
                "type": "gray",
                "size": [
                  55,
                  55
                ],
                "position": [
                  0,
                  0
                ]
              },
              {
                "id": "group#Thailand",
                "properties": {
                  "label": "Thailand"
                },
                "color": "gray",
                "styles": {},
                "label": "Thailand",
                "scale_factor": 1,
                "type": "gray",
                "size": [
                  55,
                  55
                ],
                "position": [
                  0,
                  0
                ]
              },
              {
                "id": "group#Turkey",
                "properties": {
                  "label": "Turkey"
                },
                "color": "gray",
                "styles": {},
                "label": "Turkey",
                "scale_factor": 1,
                "type": "gray",
                "size": [
                  55,
                  55
                ],
                "position": [
                  0,
                  0
                ]
              },
              {
                "id": "group#Mongolia",
                "properties": {
                  "label": "Mongolia"
                },
                "color": "gray",
                "styles": {},
                "label": "Mongolia",
                "scale_factor": 1,
                "type": "gray",
                "size": [
                  55,
                  55
                ],
                "position": [
                  0,
                  0
                ]
              },
              {
                "id": "group#Australia",
                "properties": {
                  "label": "Australia"
                },
                "color": "gray",
                "styles": {},
                "label": "Australia",
                "scale_factor": 1,
                "type": "gray",
                "size": [
                  55,
                  55
                ],
                "position": [
                  0,
                  0
                ]
              },
              {
                "id": "group#Australia",
                "properties": {
                  "label": "Australia"
                },
                "color": "gray",
                "styles": {},
                "label": "Australia",
                "scale_factor": 1,
                "type": "gray",
                "size": [
                  55,
                  55
                ],
                "position": [
                  0,
                  0
                ]
              },
              {
                "id": "group#Fiji",
                "properties": {
                  "label": "Fiji"
                },
                "color": "gray",
                "styles": {},
                "label": "Fiji",
                "scale_factor": 1,
                "type": "gray",
                "size": [
                  55,
                  55
                ],
                "position": [
                  0,
                  0
                ]
              },
              {
                "id": "group#New Zealand",
                "properties": {
                  "label": "New Zealand"
                },
                "color": "gray",
                "styles": {},
                "label": "New Zealand",
                "scale_factor": 1,
                "type": "gray",
                "size": [
                  55,
                  55
                ],
                "position": [
                  0,
                  0
                ]
              },
              {
                "id": "group#France",
                "properties": {
                  "label": "France"
                },
                "color": "gray",
                "styles": {},
                "label": "France",
                "scale_factor": 1,
                "type": "gray",
                "size": [
                  55,
                  55
                ],
                "position": [
                  0,
                  0
                ]
              },
              {
                "id": "group#Spain",
                "properties": {
                  "label": "Spain"
                },
                "color": "gray",
                "styles": {},
                "label": "Spain",
                "scale_factor": 1,
                "type": "gray",
                "size": [
                  55,
                  55
                ],
                "position": [
                  0,
                  0
                ]
              },
              {
                "id": "group#Spain",
                "properties": {
                  "label": "Spain"
                },
                "color": "gray",
                "styles": {},
                "label": "Spain",
                "scale_factor": 1,
                "type": "gray",
                "size": [
                  55,
                  55
                ],
                "position": [
                  0,
                  0
                ]
              },
              {
                "id": "group#Italy",
                "properties": {
                  "label": "Italy"
                },
                "color": "gray",
                "styles": {},
                "label": "Italy",
                "scale_factor": 1,
                "type": "gray",
                "size": [
                  55,
                  55
                ],
                "position": [
                  0,
                  0
                ]
              },
              {
                "id": "group#Denmark",
                "properties": {
                  "label": "Denmark"
                },
                "color": "gray",
                "styles": {},
                "label": "Denmark",
                "scale_factor": 1,
                "type": "gray",
                "size": [
                  55,
                  55
                ],
                "position": [
                  0,
                  0
                ]
              },
              {
                "id": "group#Finland",
                "properties": {
                  "label": "Finland"
                },
                "color": "gray",
                "styles": {},
                "label": "Finland",
                "scale_factor": 1,
                "type": "gray",
                "size": [
                  55,
                  55
                ],
                "position": [
                  0,
                  0
                ]
              },
              {
                "id": "group#Greece",
                "properties": {
                  "label": "Greece"
                },
                "color": "gray",
                "styles": {},
                "label": "Greece",
                "scale_factor": 1,
                "type": "gray",
                "size": [
                  55,
                  55
                ],
                "position": [
                  0,
                  0
                ]
              },
              {
                "id": "group#Ireland",
                "properties": {
                  "label": "Ireland"
                },
                "color": "gray",
                "styles": {},
                "label": "Ireland",
                "scale_factor": 1,
                "type": "gray",
                "size": [
                  55,
                  55
                ],
                "position": [
                  0,
                  0
                ]
              },
              {
                "id": "group#Iceland",
                "properties": {
                  "label": "Iceland"
                },
                "color": "gray",
                "styles": {},
                "label": "Iceland",
                "scale_factor": 1,
                "type": "gray",
                "size": [
                  55,
                  55
                ],
                "position": [
                  0,
                  0
                ]
              },
              {
                "id": "group#Norway",
                "properties": {
                  "label": "Norway"
                },
                "color": "gray",
                "styles": {},
                "label": "Norway",
                "scale_factor": 1,
                "type": "gray",
                "size": [
                  55,
                  55
                ],
                "position": [
                  0,
                  0
                ]
              },
              {
                "id": "group#Austria",
                "properties": {
                  "label": "Austria"
                },
                "color": "gray",
                "styles": {},
                "label": "Austria",
                "scale_factor": 1,
                "type": "gray",
                "size": [
                  55,
                  55
                ],
                "position": [
                  0,
                  0
                ]
              },
              {
                "id": "group#Portugal",
                "properties": {
                  "label": "Portugal"
                },
                "color": "gray",
                "styles": {},
                "label": "Portugal",
                "scale_factor": 1,
                "type": "gray",
                "size": [
                  55,
                  55
                ],
                "position": [
                  0,
                  0
                ]
              },
              {
                "id": "group#Sweden",
                "properties": {
                  "label": "Sweden"
                },
                "color": "gray",
                "styles": {},
                "label": "Sweden",
                "scale_factor": 1,
                "type": "gray",
                "size": [
                  55,
                  55
                ],
                "position": [
                  0,
                  0
                ]
              },
              {
                "id": "group#UK",
                "properties": {
                  "label": "UK"
                },
                "color": "gray",
                "styles": {},
                "label": "UK",
                "scale_factor": 1,
                "type": "gray",
                "size": [
                  55,
                  55
                ],
                "position": [
                  0,
                  0
                ]
              },
              {
                "id": "group#USA",
                "properties": {
                  "label": "USA"
                },
                "color": "gray",
                "styles": {},
                "label": "USA",
                "scale_factor": 1,
                "type": "gray",
                "size": [
                  55,
                  55
                ],
                "position": [
                  0,
                  0
                ]
              },
              {
                "id": "group#USA",
                "properties": {
                  "label": "USA"
                },
                "color": "gray",
                "styles": {},
                "label": "USA",
                "scale_factor": 1,
                "type": "gray",
                "size": [
                  55,
                  55
                ],
                "position": [
                  0,
                  0
                ]
              },
              {
                "id": "group#USA",
                "properties": {
                  "label": "USA"
                },
                "color": "gray",
                "styles": {},
                "label": "USA",
                "scale_factor": 1,
                "type": "gray",
                "size": [
                  55,
                  55
                ],
                "position": [
                  0,
                  0
                ]
              },
              {
                "id": "group#USA",
                "properties": {
                  "label": "USA"
                },
                "color": "gray",
                "styles": {},
                "label": "USA",
                "scale_factor": 1,
                "type": "gray",
                "size": [
                  55,
                  55
                ],
                "position": [
                  0,
                  0
                ]
              },
              {
                "id": "group#USA",
                "properties": {
                  "label": "USA"
                },
                "color": "gray",
                "styles": {},
                "label": "USA",
                "scale_factor": 1,
                "type": "gray",
                "size": [
                  55,
                  55
                ],
                "position": [
                  0,
                  0
                ]
              },
              {
                "id": "group#Canada",
                "properties": {
                  "label": "Canada"
                },
                "color": "gray",
                "styles": {},
                "label": "Canada",
                "scale_factor": 1,
                "type": "gray",
                "size": [
                  55,
                  55
                ],
                "position": [
                  0,
                  0
                ]
              },
              {
                "id": "group#Canada",
                "properties": {
                  "label": "Canada"
                },
                "color": "gray",
                "styles": {},
                "label": "Canada",
                "scale_factor": 1,
                "type": "gray",
                "size": [
                  55,
                  55
                ],
                "position": [
                  0,
                  0
                ]
              },
              {
                "id": "group#Canada",
                "properties": {
                  "label": "Canada"
                },
                "color": "gray",
                "styles": {},
                "label": "Canada",
                "scale_factor": 1,
                "type": "gray",
                "size": [
                  55,
                  55
                ],
                "position": [
                  0,
                  0
                ]
              },
              {
                "id": "group#Mexico",
                "properties": {
                  "label": "Mexico"
                },
                "color": "gray",
                "styles": {},
                "label": "Mexico",
                "scale_factor": 1,
                "type": "gray",
                "size": [
                  55,
                  55
                ],
                "position": [
                  0,
                  0
                ]
              },
              {
                "id": "group#Guatemala",
                "properties": {
                  "label": "Guatemala"
                },
                "color": "gray",
                "styles": {},
                "label": "Guatemala",
                "scale_factor": 1,
                "type": "gray",
                "size": [
                  55,
                  55
                ],
                "position": [
                  0,
                  0
                ]
              },
              {
                "id": "group#Argentina",
                "properties": {
                  "label": "Argentina"
                },
                "color": "gray",
                "styles": {},
                "label": "Argentina",
                "scale_factor": 1,
                "type": "gray",
                "size": [
                  55,
                  55
                ],
                "position": [
                  0,
                  0
                ]
              },
              {
                "id": "group#Brazil",
                "properties": {
                  "label": "Brazil"
                },
                "color": "gray",
                "styles": {},
                "label": "Brazil",
                "scale_factor": 1,
                "type": "gray",
                "size": [
                  55,
                  55
                ],
                "position": [
                  0,
                  0
                ]
              },
              {
                "id": "group#Chile",
                "properties": {
                  "label": "Chile"
                },
                "color": "gray",
                "styles": {},
                "label": "Chile",
                "scale_factor": 1,
                "type": "gray",
                "size": [
                  55,
                  55
                ],
                "position": [
                  0,
                  0
                ]
              },
              {
                "id": "group#Brazil",
                "properties": {
                  "label": "Brazil"
                },
                "color": "gray",
                "styles": {},
                "label": "Brazil",
                "scale_factor": 1,
                "type": "gray",
                "size": [
                  55,
                  55
                ],
                "position": [
                  0,
                  0
                ]
              },
              {
                "id": "group#Colombia",
                "properties": {
                  "label": "Colombia"
                },
                "color": "gray",
                "styles": {},
                "label": "Colombia",
                "scale_factor": 1,
                "type": "gray",
                "size": [
                  55,
                  55
                ],
                "position": [
                  0,
                  0
                ]
              },
              {
                "id": "group#Venezuela",
                "properties": {
                  "label": "Venezuela"
                },
                "color": "gray",
                "styles": {},
                "label": "Venezuela",
                "scale_factor": 1,
                "type": "gray",
                "size": [
                  55,
                  55
                ],
                "position": [
                  0,
                  0
                ]
              }
            ],
            "_overview": {
              "enabled": null,
              "overview_set": false
            },
            "_selected_graph": [
              [],
              []
            ],
            "_sidebar": {
              "enabled": false,
              "start_with": null
            },
            "_view_count": null,
            "_view_module": "yfiles-jupyter-graphs",
            "_view_module_version": "^1.8.1",
            "_view_name": "GraphView",
            "layout": "IPY_MODEL_ac76137b9cfb4ba393e45e3e433acf5a",
            "tabbable": null,
            "tooltip": null
          }
        },
        "ac76137b9cfb4ba393e45e3e433acf5a": {
          "model_module": "@jupyter-widgets/base",
          "model_name": "LayoutModel",
          "model_module_version": "2.0.0",
          "state": {
            "_model_module": "@jupyter-widgets/base",
            "_model_module_version": "2.0.0",
            "_model_name": "LayoutModel",
            "_view_count": null,
            "_view_module": "@jupyter-widgets/base",
            "_view_module_version": "2.0.0",
            "_view_name": "LayoutView",
            "align_content": null,
            "align_items": null,
            "align_self": null,
            "border_bottom": null,
            "border_left": null,
            "border_right": null,
            "border_top": null,
            "bottom": null,
            "display": null,
            "flex": null,
            "flex_flow": null,
            "grid_area": null,
            "grid_auto_columns": null,
            "grid_auto_flow": null,
            "grid_auto_rows": null,
            "grid_column": null,
            "grid_gap": null,
            "grid_row": null,
            "grid_template_areas": null,
            "grid_template_columns": null,
            "grid_template_rows": null,
            "height": "800px",
            "justify_content": null,
            "justify_items": null,
            "left": null,
            "margin": null,
            "max_height": null,
            "max_width": null,
            "min_height": null,
            "min_width": null,
            "object_fit": null,
            "object_position": null,
            "order": null,
            "overflow": null,
            "padding": null,
            "right": null,
            "top": null,
            "visibility": null,
            "width": "100%"
          }
        },
        "a42ef7eeb3064c74bf2e041753e92c5a": {
          "model_module": "yfiles-jupyter-graphs",
          "model_name": "GraphModel",
          "model_module_version": "^1.8.1",
          "state": {
            "_context_pane_mapping": [
              {
                "id": "Neighborhood",
                "title": "Neighborhood"
              },
              {
                "id": "Data",
                "title": "Data"
              },
              {
                "id": "Search",
                "title": "Search"
              },
              {
                "id": "About",
                "title": "About"
              }
            ],
            "_data_importer": "unknown",
            "_directed": false,
            "_dom_classes": [],
            "_edges": [
              {
                "start": "LAX",
                "end": "JFK",
                "label": "",
                "properties": {},
                "directed": false,
                "color": "#15AFAC",
                "thickness_factor": 1
              },
              {
                "start": "JFK",
                "end": "GIG",
                "label": "",
                "properties": {},
                "directed": false,
                "color": "#15AFAC",
                "thickness_factor": 1
              },
              {
                "start": "JFK",
                "end": "LIM",
                "label": "",
                "properties": {},
                "directed": false,
                "color": "#15AFAC",
                "thickness_factor": 1
              },
              {
                "start": "JFK",
                "end": "LHR",
                "label": "",
                "properties": {},
                "directed": false,
                "color": "#15AFAC",
                "thickness_factor": 1
              },
              {
                "start": "GIG",
                "end": "FRA",
                "label": "",
                "properties": {},
                "directed": false,
                "color": "#15AFAC",
                "thickness_factor": 1
              },
              {
                "start": "LIM",
                "end": "GIG",
                "label": "",
                "properties": {},
                "directed": false,
                "color": "#15AFAC",
                "thickness_factor": 1
              },
              {
                "start": "FRA",
                "end": "JFK",
                "label": "",
                "properties": {},
                "directed": false,
                "color": "#15AFAC",
                "thickness_factor": 1
              },
              {
                "start": "LHR",
                "end": "FRA",
                "label": "",
                "properties": {},
                "directed": false,
                "color": "#15AFAC",
                "thickness_factor": 1
              },
              {
                "start": "FRA",
                "end": "SVO",
                "label": "",
                "properties": {},
                "directed": false,
                "color": "#15AFAC",
                "thickness_factor": 1
              },
              {
                "start": "FRA",
                "end": "DXB",
                "label": "",
                "properties": {},
                "directed": false,
                "color": "#15AFAC",
                "thickness_factor": 1
              },
              {
                "start": "SVO",
                "end": "DEL",
                "label": "",
                "properties": {},
                "directed": false,
                "color": "#15AFAC",
                "thickness_factor": 1
              },
              {
                "start": "SVO",
                "end": "PVG",
                "label": "",
                "properties": {},
                "directed": false,
                "color": "#15AFAC",
                "thickness_factor": 1
              },
              {
                "start": "DEL",
                "end": "HKG",
                "label": "",
                "properties": {},
                "directed": false,
                "color": "#15AFAC",
                "thickness_factor": 1
              },
              {
                "start": "PVG",
                "end": "HKG",
                "label": "",
                "properties": {},
                "directed": false,
                "color": "#15AFAC",
                "thickness_factor": 1
              },
              {
                "start": "PVG",
                "end": "NRT",
                "label": "",
                "properties": {},
                "directed": false,
                "color": "#15AFAC",
                "thickness_factor": 1
              },
              {
                "start": "HKG",
                "end": "SYD",
                "label": "",
                "properties": {},
                "directed": false,
                "color": "#15AFAC",
                "thickness_factor": 1
              },
              {
                "start": "NRT",
                "end": "SYD",
                "label": "",
                "properties": {},
                "directed": false,
                "color": "#15AFAC",
                "thickness_factor": 1
              },
              {
                "start": "DXB",
                "end": "SVO",
                "label": "",
                "properties": {},
                "directed": false,
                "color": "#15AFAC",
                "thickness_factor": 1
              },
              {
                "start": "DXB",
                "end": "DEL",
                "label": "",
                "properties": {},
                "directed": false,
                "color": "#15AFAC",
                "thickness_factor": 1
              },
              {
                "start": "DXB",
                "end": "DKR",
                "label": "",
                "properties": {},
                "directed": false,
                "color": "#15AFAC",
                "thickness_factor": 1
              },
              {
                "start": "DXB",
                "end": "JNB",
                "label": "",
                "properties": {},
                "directed": false,
                "color": "#15AFAC",
                "thickness_factor": 1
              },
              {
                "start": "JNB",
                "end": "LHR",
                "label": "",
                "properties": {},
                "directed": false,
                "color": "#15AFAC",
                "thickness_factor": 1
              },
              {
                "start": "JNB",
                "end": "DKR",
                "label": "",
                "properties": {},
                "directed": false,
                "color": "#15AFAC",
                "thickness_factor": 1
              },
              {
                "start": "SYD",
                "end": "DXB",
                "label": "",
                "properties": {},
                "directed": false,
                "color": "#15AFAC",
                "thickness_factor": 1
              },
              {
                "start": "NBO",
                "end": "JNB",
                "label": "",
                "properties": {},
                "directed": false,
                "color": "#15AFAC",
                "thickness_factor": 1
              },
              {
                "start": "NBO",
                "end": "DXB",
                "label": "",
                "properties": {},
                "directed": false,
                "color": "#15AFAC",
                "thickness_factor": 1
              },
              {
                "start": "ATL",
                "end": "JFK",
                "label": "",
                "properties": {},
                "directed": false,
                "color": "#15AFAC",
                "thickness_factor": 1
              },
              {
                "start": "LAX",
                "end": "ATL",
                "label": "",
                "properties": {},
                "directed": false,
                "color": "#15AFAC",
                "thickness_factor": 1
              },
              {
                "start": "ATL",
                "end": "LHR",
                "label": "",
                "properties": {},
                "directed": false,
                "color": "#15AFAC",
                "thickness_factor": 1
              },
              {
                "start": "ATL",
                "end": "LIM",
                "label": "",
                "properties": {},
                "directed": false,
                "color": "#15AFAC",
                "thickness_factor": 1
              },
              {
                "start": "SCL",
                "end": "LIM",
                "label": "",
                "properties": {},
                "directed": false,
                "color": "#15AFAC",
                "thickness_factor": 1
              },
              {
                "start": "EZE",
                "end": "SCL",
                "label": "",
                "properties": {},
                "directed": false,
                "color": "#15AFAC",
                "thickness_factor": 1
              },
              {
                "start": "SCL",
                "end": "GRU",
                "label": "",
                "properties": {},
                "directed": false,
                "color": "#15AFAC",
                "thickness_factor": 1
              },
              {
                "start": "GIG",
                "end": "EZE",
                "label": "",
                "properties": {},
                "directed": false,
                "color": "#15AFAC",
                "thickness_factor": 1
              },
              {
                "start": "GIG",
                "end": "GRU",
                "label": "",
                "properties": {},
                "directed": false,
                "color": "#15AFAC",
                "thickness_factor": 1
              },
              {
                "start": "BSB",
                "end": "GIG",
                "label": "",
                "properties": {},
                "directed": false,
                "color": "#15AFAC",
                "thickness_factor": 1
              },
              {
                "start": "SCL",
                "end": "BSB",
                "label": "",
                "properties": {},
                "directed": false,
                "color": "#15AFAC",
                "thickness_factor": 1
              },
              {
                "start": "LIM",
                "end": "BSB",
                "label": "",
                "properties": {},
                "directed": false,
                "color": "#15AFAC",
                "thickness_factor": 1
              },
              {
                "start": "BOG",
                "end": "BSB",
                "label": "",
                "properties": {},
                "directed": false,
                "color": "#15AFAC",
                "thickness_factor": 1
              },
              {
                "start": "CCS",
                "end": "BSB",
                "label": "",
                "properties": {},
                "directed": false,
                "color": "#15AFAC",
                "thickness_factor": 1
              },
              {
                "start": "BOG",
                "end": "GUA",
                "label": "",
                "properties": {},
                "directed": false,
                "color": "#15AFAC",
                "thickness_factor": 1
              },
              {
                "start": "CCS",
                "end": "MIA",
                "label": "",
                "properties": {},
                "directed": false,
                "color": "#15AFAC",
                "thickness_factor": 1
              },
              {
                "start": "GUA",
                "end": "MIA",
                "label": "",
                "properties": {},
                "directed": false,
                "color": "#15AFAC",
                "thickness_factor": 1
              },
              {
                "start": "GUA",
                "end": "MEX",
                "label": "",
                "properties": {},
                "directed": false,
                "color": "#15AFAC",
                "thickness_factor": 1
              },
              {
                "start": "MEX",
                "end": "LAX",
                "label": "",
                "properties": {},
                "directed": false,
                "color": "#15AFAC",
                "thickness_factor": 1
              },
              {
                "start": "MEX",
                "end": "LAX",
                "label": "",
                "properties": {},
                "directed": false,
                "color": "#15AFAC",
                "thickness_factor": 1
              },
              {
                "start": "LAX",
                "end": "SFO",
                "label": "",
                "properties": {},
                "directed": false,
                "color": "#15AFAC",
                "thickness_factor": 1
              },
              {
                "start": "SFO",
                "end": "YVR",
                "label": "",
                "properties": {},
                "directed": false,
                "color": "#15AFAC",
                "thickness_factor": 1
              },
              {
                "start": "LAX",
                "end": "LAS",
                "label": "",
                "properties": {},
                "directed": false,
                "color": "#15AFAC",
                "thickness_factor": 1
              },
              {
                "start": "LAX",
                "end": "DFW",
                "label": "",
                "properties": {},
                "directed": false,
                "color": "#15AFAC",
                "thickness_factor": 1
              },
              {
                "start": "LAX",
                "end": "ORD",
                "label": "",
                "properties": {},
                "directed": false,
                "color": "#15AFAC",
                "thickness_factor": 1
              },
              {
                "start": "SFO",
                "end": "LAS",
                "label": "",
                "properties": {},
                "directed": false,
                "color": "#15AFAC",
                "thickness_factor": 1
              },
              {
                "start": "DFW",
                "end": "ATL",
                "label": "",
                "properties": {},
                "directed": false,
                "color": "#15AFAC",
                "thickness_factor": 1
              },
              {
                "start": "ATL",
                "end": "YYZ",
                "label": "",
                "properties": {},
                "directed": false,
                "color": "#15AFAC",
                "thickness_factor": 1
              },
              {
                "start": "ORD",
                "end": "YYZ",
                "label": "",
                "properties": {},
                "directed": false,
                "color": "#15AFAC",
                "thickness_factor": 1
              },
              {
                "start": "YYZ",
                "end": "YUL",
                "label": "",
                "properties": {},
                "directed": false,
                "color": "#15AFAC",
                "thickness_factor": 1
              },
              {
                "start": "YYZ",
                "end": "JFK",
                "label": "",
                "properties": {},
                "directed": false,
                "color": "#15AFAC",
                "thickness_factor": 1
              },
              {
                "start": "YUL",
                "end": "JFK",
                "label": "",
                "properties": {},
                "directed": false,
                "color": "#15AFAC",
                "thickness_factor": 1
              },
              {
                "start": "JNB",
                "end": "CPT",
                "label": "",
                "properties": {},
                "directed": false,
                "color": "#15AFAC",
                "thickness_factor": 1
              },
              {
                "start": "LOS",
                "end": "DKR",
                "label": "",
                "properties": {},
                "directed": false,
                "color": "#15AFAC",
                "thickness_factor": 1
              },
              {
                "start": "NBO",
                "end": "LOS",
                "label": "",
                "properties": {},
                "directed": false,
                "color": "#15AFAC",
                "thickness_factor": 1
              },
              {
                "start": "DKR",
                "end": "CMN",
                "label": "",
                "properties": {},
                "directed": false,
                "color": "#15AFAC",
                "thickness_factor": 1
              },
              {
                "start": "DKR",
                "end": "CAI",
                "label": "",
                "properties": {},
                "directed": false,
                "color": "#15AFAC",
                "thickness_factor": 1
              },
              {
                "start": "NBO",
                "end": "CAI",
                "label": "",
                "properties": {},
                "directed": false,
                "color": "#15AFAC",
                "thickness_factor": 1
              },
              {
                "start": "DXB",
                "end": "CAI",
                "label": "",
                "properties": {},
                "directed": false,
                "color": "#15AFAC",
                "thickness_factor": 1
              },
              {
                "start": "IKA",
                "end": "DXB",
                "label": "",
                "properties": {},
                "directed": false,
                "color": "#15AFAC",
                "thickness_factor": 1
              },
              {
                "start": "IST",
                "end": "IKA",
                "label": "",
                "properties": {},
                "directed": false,
                "color": "#15AFAC",
                "thickness_factor": 1
              },
              {
                "start": "TLV",
                "end": "ATH",
                "label": "",
                "properties": {},
                "directed": false,
                "color": "#15AFAC",
                "thickness_factor": 1
              },
              {
                "start": "CAI",
                "end": "TLV",
                "label": "",
                "properties": {},
                "directed": false,
                "color": "#15AFAC",
                "thickness_factor": 1
              },
              {
                "start": "ATH",
                "end": "IST",
                "label": "",
                "properties": {},
                "directed": false,
                "color": "#15AFAC",
                "thickness_factor": 1
              },
              {
                "start": "FCO",
                "end": "ATH",
                "label": "",
                "properties": {},
                "directed": false,
                "color": "#15AFAC",
                "thickness_factor": 1
              },
              {
                "start": "LIS",
                "end": "LHR",
                "label": "",
                "properties": {},
                "directed": false,
                "color": "#15AFAC",
                "thickness_factor": 1
              },
              {
                "start": "LIS",
                "end": "MAD",
                "label": "",
                "properties": {},
                "directed": false,
                "color": "#15AFAC",
                "thickness_factor": 1
              },
              {
                "start": "MAD",
                "end": "BCN",
                "label": "",
                "properties": {},
                "directed": false,
                "color": "#15AFAC",
                "thickness_factor": 1
              },
              {
                "start": "CDG",
                "end": "LHR",
                "label": "",
                "properties": {},
                "directed": false,
                "color": "#15AFAC",
                "thickness_factor": 1
              },
              {
                "start": "DUB",
                "end": "LHR",
                "label": "",
                "properties": {},
                "directed": false,
                "color": "#15AFAC",
                "thickness_factor": 1
              },
              {
                "start": "EDI",
                "end": "LHR",
                "label": "",
                "properties": {},
                "directed": false,
                "color": "#15AFAC",
                "thickness_factor": 1
              },
              {
                "start": "CDG",
                "end": "BCN",
                "label": "",
                "properties": {},
                "directed": false,
                "color": "#15AFAC",
                "thickness_factor": 1
              },
              {
                "start": "BCN",
                "end": "FCO",
                "label": "",
                "properties": {},
                "directed": false,
                "color": "#15AFAC",
                "thickness_factor": 1
              },
              {
                "start": "VIE",
                "end": "IST",
                "label": "",
                "properties": {},
                "directed": false,
                "color": "#15AFAC",
                "thickness_factor": 1
              },
              {
                "start": "VIE",
                "end": "SVO",
                "label": "",
                "properties": {},
                "directed": false,
                "color": "#15AFAC",
                "thickness_factor": 1
              },
              {
                "start": "CMN",
                "end": "LIS",
                "label": "",
                "properties": {},
                "directed": false,
                "color": "#15AFAC",
                "thickness_factor": 1
              },
              {
                "start": "MAD",
                "end": "CMN",
                "label": "",
                "properties": {},
                "directed": false,
                "color": "#15AFAC",
                "thickness_factor": 1
              },
              {
                "start": "FRA",
                "end": "CPH",
                "label": "",
                "properties": {},
                "directed": false,
                "color": "#15AFAC",
                "thickness_factor": 1
              },
              {
                "start": "LHR",
                "end": "CPH",
                "label": "",
                "properties": {},
                "directed": false,
                "color": "#15AFAC",
                "thickness_factor": 1
              },
              {
                "start": "CPH",
                "end": "OSL",
                "label": "",
                "properties": {},
                "directed": false,
                "color": "#15AFAC",
                "thickness_factor": 1
              },
              {
                "start": "CPH",
                "end": "ARN",
                "label": "",
                "properties": {},
                "directed": false,
                "color": "#15AFAC",
                "thickness_factor": 1
              },
              {
                "start": "ARN",
                "end": "HEL",
                "label": "",
                "properties": {},
                "directed": false,
                "color": "#15AFAC",
                "thickness_factor": 1
              },
              {
                "start": "HEL",
                "end": "SVO",
                "label": "",
                "properties": {},
                "directed": false,
                "color": "#15AFAC",
                "thickness_factor": 1
              },
              {
                "start": "ULN",
                "end": "PVG",
                "label": "",
                "properties": {},
                "directed": false,
                "color": "#15AFAC",
                "thickness_factor": 1
              },
              {
                "start": "CTU",
                "end": "PVG",
                "label": "",
                "properties": {},
                "directed": false,
                "color": "#15AFAC",
                "thickness_factor": 1
              },
              {
                "start": "PVG",
                "end": "TPE",
                "label": "",
                "properties": {},
                "directed": false,
                "color": "#15AFAC",
                "thickness_factor": 1
              },
              {
                "start": "CTU",
                "end": "HKG",
                "label": "",
                "properties": {},
                "directed": false,
                "color": "#15AFAC",
                "thickness_factor": 1
              },
              {
                "start": "TPE",
                "end": "HKG",
                "label": "",
                "properties": {},
                "directed": false,
                "color": "#15AFAC",
                "thickness_factor": 1
              },
              {
                "start": "HKG",
                "end": "MNL",
                "label": "",
                "properties": {},
                "directed": false,
                "color": "#15AFAC",
                "thickness_factor": 1
              },
              {
                "start": "BKK",
                "end": "HKG",
                "label": "",
                "properties": {},
                "directed": false,
                "color": "#15AFAC",
                "thickness_factor": 1
              },
              {
                "start": "SIN",
                "end": "KUL",
                "label": "",
                "properties": {},
                "directed": false,
                "color": "#15AFAC",
                "thickness_factor": 1
              },
              {
                "start": "SIN",
                "end": "BKK",
                "label": "",
                "properties": {},
                "directed": false,
                "color": "#15AFAC",
                "thickness_factor": 1
              },
              {
                "start": "CGK",
                "end": "SIN",
                "label": "",
                "properties": {},
                "directed": false,
                "color": "#15AFAC",
                "thickness_factor": 1
              },
              {
                "start": "MNL",
                "end": "SIN",
                "label": "",
                "properties": {},
                "directed": false,
                "color": "#15AFAC",
                "thickness_factor": 1
              },
              {
                "start": "SIN",
                "end": "SYD",
                "label": "",
                "properties": {},
                "directed": false,
                "color": "#15AFAC",
                "thickness_factor": 1
              },
              {
                "start": "BNE",
                "end": "SYD",
                "label": "",
                "properties": {},
                "directed": false,
                "color": "#15AFAC",
                "thickness_factor": 1
              },
              {
                "start": "SYD",
                "end": "MEL",
                "label": "",
                "properties": {},
                "directed": false,
                "color": "#15AFAC",
                "thickness_factor": 1
              },
              {
                "start": "NAN",
                "end": "SYD",
                "label": "",
                "properties": {},
                "directed": false,
                "color": "#15AFAC",
                "thickness_factor": 1
              },
              {
                "start": "AKL",
                "end": "SYD",
                "label": "",
                "properties": {},
                "directed": false,
                "color": "#15AFAC",
                "thickness_factor": 1
              },
              {
                "start": "NAN",
                "end": "AKL",
                "label": "",
                "properties": {},
                "directed": false,
                "color": "#15AFAC",
                "thickness_factor": 1
              },
              {
                "start": "RKV",
                "end": "LHR",
                "label": "",
                "properties": {},
                "directed": false,
                "color": "#15AFAC",
                "thickness_factor": 1
              },
              {
                "start": "BCN",
                "end": "CDG",
                "label": "",
                "properties": {},
                "directed": false,
                "color": "#15AFAC",
                "thickness_factor": 1
              },
              {
                "start": "BCN",
                "end": "FRA",
                "label": "",
                "properties": {},
                "directed": false,
                "color": "#15AFAC",
                "thickness_factor": 1
              },
              {
                "start": "FCO",
                "end": "FRA",
                "label": "",
                "properties": {},
                "directed": false,
                "color": "#15AFAC",
                "thickness_factor": 1
              },
              {
                "start": "BOG",
                "end": "MEX",
                "label": "",
                "properties": {},
                "directed": false,
                "color": "#15AFAC",
                "thickness_factor": 1
              },
              {
                "start": "BOG",
                "end": "GRU",
                "label": "",
                "properties": {},
                "directed": false,
                "color": "#15AFAC",
                "thickness_factor": 1
              },
              {
                "start": "ATL",
                "end": "MIA",
                "label": "",
                "properties": {},
                "directed": false,
                "color": "#15AFAC",
                "thickness_factor": 1
              },
              {
                "start": "FRA",
                "end": "IST",
                "label": "",
                "properties": {},
                "directed": false,
                "color": "#15AFAC",
                "thickness_factor": 1
              },
              {
                "start": "IST",
                "end": "DEL",
                "label": "",
                "properties": {},
                "directed": false,
                "color": "#15AFAC",
                "thickness_factor": 1
              },
              {
                "start": "PVG",
                "end": "BKK",
                "label": "",
                "properties": {},
                "directed": false,
                "color": "#15AFAC",
                "thickness_factor": 1
              },
              {
                "start": "DEL",
                "end": "BKK",
                "label": "",
                "properties": {},
                "directed": false,
                "color": "#15AFAC",
                "thickness_factor": 1
              }
            ],
            "_graph_layout": {},
            "_highlight": [],
            "_license": {},
            "_model_module": "yfiles-jupyter-graphs",
            "_model_module_version": "^1.8.1",
            "_model_name": "GraphModel",
            "_neighborhood": {},
            "_nodes": [
              {
                "id": "LAX",
                "properties": {
                  "label": "Los Angeles",
                  "passengers": 65000000,
                  "country": "USA"
                },
                "coordinates": [
                  33.942536,
                  -118.408075
                ],
                "color": "#15AFAC",
                "styles": {},
                "label": "Los Angeles",
                "scale_factor": 1,
                "type": "#15AFAC",
                "size": [
                  55,
                  55
                ],
                "position": [
                  0,
                  0
                ],
                "parentId": "group#USA"
              },
              {
                "id": "GIG",
                "properties": {
                  "label": "Rio de Janeiro",
                  "passengers": 5000000,
                  "country": "Brazil"
                },
                "coordinates": [
                  -22.808903,
                  -43.243647
                ],
                "color": "#15AFAC",
                "styles": {},
                "label": "Rio de Janeiro",
                "scale_factor": 1,
                "type": "#15AFAC",
                "size": [
                  55,
                  55
                ],
                "position": [
                  0,
                  0
                ],
                "parentId": "group#Brazil"
              },
              {
                "id": "LIM",
                "properties": {
                  "label": "Lima",
                  "passengers": 18000000,
                  "country": "Peru"
                },
                "coordinates": [
                  -12.021889,
                  -77.114319
                ],
                "color": "#15AFAC",
                "styles": {},
                "label": "Lima",
                "scale_factor": 1,
                "type": "#15AFAC",
                "size": [
                  55,
                  55
                ],
                "position": [
                  0,
                  0
                ],
                "parentId": "group#Peru"
              },
              {
                "id": "LHR",
                "properties": {
                  "label": "London",
                  "passengers": 61000000,
                  "country": "UK"
                },
                "coordinates": [
                  51.4775,
                  -0.461389
                ],
                "color": "#15AFAC",
                "styles": {},
                "label": "London",
                "scale_factor": 1,
                "type": "#15AFAC",
                "size": [
                  55,
                  55
                ],
                "position": [
                  0,
                  0
                ],
                "parentId": "group#UK"
              },
              {
                "id": "FRA",
                "properties": {
                  "label": "Frankfurt",
                  "passengers": 48000000,
                  "country": "Germany"
                },
                "coordinates": [
                  50.033333,
                  8.570556
                ],
                "color": "#15AFAC",
                "styles": {},
                "label": "Frankfurt",
                "scale_factor": 1,
                "type": "#15AFAC",
                "size": [
                  55,
                  55
                ],
                "position": [
                  0,
                  0
                ],
                "parentId": "group#Germany"
              },
              {
                "id": "SVO",
                "properties": {
                  "label": "Moscow",
                  "passengers": 49000000,
                  "country": "Russia"
                },
                "coordinates": [
                  55.972642,
                  37.414589
                ],
                "color": "#15AFAC",
                "styles": {},
                "label": "Moscow",
                "scale_factor": 1,
                "type": "#15AFAC",
                "size": [
                  55,
                  55
                ],
                "position": [
                  0,
                  0
                ],
                "parentId": "group#Russia"
              },
              {
                "id": "DEL",
                "properties": {
                  "label": "New Delhi",
                  "passengers": 39000000,
                  "country": "India"
                },
                "coordinates": [
                  28.5665,
                  77.103089
                ],
                "color": "#15AFAC",
                "styles": {},
                "label": "New Delhi",
                "scale_factor": 1,
                "type": "#15AFAC",
                "size": [
                  55,
                  55
                ],
                "position": [
                  0,
                  0
                ],
                "parentId": "group#India"
              },
              {
                "id": "PVG",
                "properties": {
                  "label": "Shanghai",
                  "passengers": 32000000,
                  "country": "China"
                },
                "coordinates": [
                  31.143378,
                  121.805214
                ],
                "color": "#15AFAC",
                "styles": {},
                "label": "Shanghai",
                "scale_factor": 1,
                "type": "#15AFAC",
                "size": [
                  55,
                  55
                ],
                "position": [
                  0,
                  0
                ],
                "parentId": "group#China"
              },
              {
                "id": "HKG",
                "properties": {
                  "label": "Hongkong",
                  "passengers": 1000000,
                  "country": "China"
                },
                "coordinates": [
                  22.308919,
                  113.914603
                ],
                "color": "#15AFAC",
                "styles": {},
                "label": "Hongkong",
                "scale_factor": 1,
                "type": "#15AFAC",
                "size": [
                  55,
                  55
                ],
                "position": [
                  0,
                  0
                ],
                "parentId": "group#China"
              },
              {
                "id": "NRT",
                "properties": {
                  "label": "Tokio",
                  "passengers": 15000000,
                  "country": "Japan"
                },
                "coordinates": [
                  35.764722,
                  140.386389
                ],
                "color": "#15AFAC",
                "styles": {},
                "label": "Tokio",
                "scale_factor": 1,
                "type": "#15AFAC",
                "size": [
                  55,
                  55
                ],
                "position": [
                  0,
                  0
                ],
                "parentId": "group#Japan"
              },
              {
                "id": "DXB",
                "properties": {
                  "label": "Dubai",
                  "passengers": 29000000,
                  "country": "UAE"
                },
                "coordinates": [
                  25.252778,
                  55.364444
                ],
                "color": "#15AFAC",
                "styles": {},
                "label": "Dubai",
                "scale_factor": 1,
                "type": "#15AFAC",
                "size": [
                  55,
                  55
                ],
                "position": [
                  0,
                  0
                ],
                "parentId": "group#UAE"
              },
              {
                "id": "DKR",
                "properties": {
                  "label": "Dakar",
                  "passengers": 2000000,
                  "country": "Senegal"
                },
                "coordinates": [
                  14.670833,
                  -17.072778
                ],
                "color": "#15AFAC",
                "styles": {},
                "label": "Dakar",
                "scale_factor": 1,
                "type": "#15AFAC",
                "size": [
                  55,
                  55
                ],
                "position": [
                  0,
                  0
                ],
                "parentId": "group#Senegal"
              },
              {
                "id": "JNB",
                "properties": {
                  "label": "Johannesburg",
                  "passengers": 9000000,
                  "country": "South Africa"
                },
                "coordinates": [
                  -26.133694,
                  28.242317
                ],
                "color": "#15AFAC",
                "styles": {},
                "label": "Johannesburg",
                "scale_factor": 1,
                "type": "#15AFAC",
                "size": [
                  55,
                  55
                ],
                "position": [
                  0,
                  0
                ],
                "parentId": "group#South Africa"
              },
              {
                "id": "SYD",
                "properties": {
                  "label": "Sydney",
                  "passengers": 44000000,
                  "country": "Australia"
                },
                "coordinates": [
                  -33.946111,
                  151.177222
                ],
                "color": "#15AFAC",
                "styles": {},
                "label": "Sydney",
                "scale_factor": 1,
                "type": "#15AFAC",
                "size": [
                  55,
                  55
                ],
                "position": [
                  0,
                  0
                ],
                "parentId": "group#Australia"
              },
              {
                "id": "NBO",
                "properties": {
                  "label": "Nairobi",
                  "passengers": 900000,
                  "country": "Kenya"
                },
                "coordinates": [
                  -1.319167,
                  36.927778
                ],
                "color": "#15AFAC",
                "styles": {},
                "label": "Nairobi",
                "scale_factor": 1,
                "type": "#15AFAC",
                "size": [
                  55,
                  55
                ],
                "position": [
                  0,
                  0
                ],
                "parentId": "group#Kenya"
              },
              {
                "id": "ATL",
                "properties": {
                  "label": "Atlanta",
                  "passengers": 93000000,
                  "country": "USA"
                },
                "coordinates": [
                  33.639167,
                  -84.427778
                ],
                "color": "#15AFAC",
                "styles": {},
                "label": "Atlanta",
                "scale_factor": 1,
                "type": "#15AFAC",
                "size": [
                  55,
                  55
                ],
                "position": [
                  0,
                  0
                ],
                "parentId": "group#USA"
              },
              {
                "id": "JFK",
                "properties": {
                  "label": "New York City",
                  "passengers": 55000000,
                  "country": "USA"
                },
                "coordinates": [
                  40.63975,
                  -73.778925
                ],
                "color": "#15AFAC",
                "styles": {},
                "label": "New York City",
                "scale_factor": 1,
                "type": "#15AFAC",
                "size": [
                  55,
                  55
                ],
                "position": [
                  0,
                  0
                ],
                "parentId": "group#USA"
              },
              {
                "id": "CAI",
                "properties": {
                  "label": "Cairo",
                  "passengers": 14000000,
                  "country": "Egypt"
                },
                "coordinates": [
                  30.121944,
                  31.405556
                ],
                "color": "#15AFAC",
                "styles": {},
                "label": "Cairo",
                "scale_factor": 1,
                "type": "#15AFAC",
                "size": [
                  55,
                  55
                ],
                "position": [
                  0,
                  0
                ],
                "parentId": "group#Egypt"
              },
              {
                "id": "CMN",
                "properties": {
                  "label": "Casablanca",
                  "passengers": 7000000,
                  "country": "Morocco"
                },
                "coordinates": [
                  33.367467,
                  -7.589967
                ],
                "color": "#15AFAC",
                "styles": {},
                "label": "Casablanca",
                "scale_factor": 1,
                "type": "#15AFAC",
                "size": [
                  55,
                  55
                ],
                "position": [
                  0,
                  0
                ],
                "parentId": "group#Morocco"
              },
              {
                "id": "LOS",
                "properties": {
                  "label": "Lagos",
                  "passengers": 5000000,
                  "country": "Nigeria"
                },
                "coordinates": [
                  6.577222,
                  3.321111
                ],
                "color": "#15AFAC",
                "styles": {},
                "label": "Lagos",
                "scale_factor": 1,
                "type": "#15AFAC",
                "size": [
                  55,
                  55
                ],
                "position": [
                  0,
                  0
                ],
                "parentId": "group#Nigeria"
              },
              {
                "id": "CPT",
                "properties": {
                  "label": "Cape Town",
                  "passengers": 5000000,
                  "country": "South Africa"
                },
                "coordinates": [
                  -33.969444,
                  18.597222
                ],
                "color": "#15AFAC",
                "styles": {},
                "label": "Cape Town",
                "scale_factor": 1,
                "type": "#15AFAC",
                "size": [
                  55,
                  55
                ],
                "position": [
                  0,
                  0
                ],
                "parentId": "group#South Africa"
              },
              {
                "id": "CTU",
                "properties": {
                  "label": "Chengdu",
                  "passengers": 40000000,
                  "country": "China"
                },
                "coordinates": [
                  30.578333,
                  103.946944
                ],
                "color": "#15AFAC",
                "styles": {},
                "label": "Chengdu",
                "scale_factor": 1,
                "type": "#15AFAC",
                "size": [
                  55,
                  55
                ],
                "position": [
                  0,
                  0
                ],
                "parentId": "group#China"
              },
              {
                "id": "CGK",
                "properties": {
                  "label": "Jakarta",
                  "passengers": 54000000,
                  "country": "Indonesia"
                },
                "coordinates": [
                  -6.125567,
                  106.655897
                ],
                "color": "#15AFAC",
                "styles": {},
                "label": "Jakarta",
                "scale_factor": 1,
                "type": "#15AFAC",
                "size": [
                  55,
                  55
                ],
                "position": [
                  0,
                  0
                ],
                "parentId": "group#Indonesia"
              },
              {
                "id": "IKA",
                "properties": {
                  "label": "Teheran",
                  "passengers": 8000000,
                  "country": "Iran"
                },
                "coordinates": [
                  35.416111,
                  51.152222
                ],
                "color": "#15AFAC",
                "styles": {},
                "label": "Teheran",
                "scale_factor": 1,
                "type": "#15AFAC",
                "size": [
                  55,
                  55
                ],
                "position": [
                  0,
                  0
                ],
                "parentId": "group#Iran"
              },
              {
                "id": "TLV",
                "properties": {
                  "label": "Tel Aviv",
                  "passengers": 20000000,
                  "country": "Israel"
                },
                "coordinates": [
                  32.011389,
                  34.886667
                ],
                "color": "#15AFAC",
                "styles": {},
                "label": "Tel Aviv",
                "scale_factor": 1,
                "type": "#15AFAC",
                "size": [
                  55,
                  55
                ],
                "position": [
                  0,
                  0
                ],
                "parentId": "group#Israel"
              },
              {
                "id": "KUL",
                "properties": {
                  "label": "Kuala Lumpur",
                  "passengers": 25000000,
                  "country": "Malaysia"
                },
                "coordinates": [
                  2.745578,
                  101.709917
                ],
                "color": "#15AFAC",
                "styles": {},
                "label": "Kuala Lumpur",
                "scale_factor": 1,
                "type": "#15AFAC",
                "size": [
                  55,
                  55
                ],
                "position": [
                  0,
                  0
                ],
                "parentId": "group#Malaysia"
              },
              {
                "id": "MNL",
                "properties": {
                  "label": "Manila",
                  "passengers": 8000000,
                  "country": "Philippines"
                },
                "coordinates": [
                  14.508647,
                  121.019581
                ],
                "color": "#15AFAC",
                "styles": {},
                "label": "Manila",
                "scale_factor": 1,
                "type": "#15AFAC",
                "size": [
                  55,
                  55
                ],
                "position": [
                  0,
                  0
                ],
                "parentId": "group#Philippines"
              },
              {
                "id": "SIN",
                "properties": {
                  "label": "Singapur",
                  "passengers": 32000000,
                  "country": "Singapore"
                },
                "coordinates": [
                  1.350189,
                  103.994433
                ],
                "color": "#15AFAC",
                "styles": {},
                "label": "Singapur",
                "scale_factor": 1,
                "type": "#15AFAC",
                "size": [
                  55,
                  55
                ],
                "position": [
                  0,
                  0
                ],
                "parentId": "group#Singapore"
              },
              {
                "id": "TPE",
                "properties": {
                  "label": "Taipeh",
                  "passengers": 800000,
                  "country": "Taiwan"
                },
                "coordinates": [
                  25.077732,
                  121.232822
                ],
                "color": "#15AFAC",
                "styles": {},
                "label": "Taipeh",
                "scale_factor": 1,
                "type": "#15AFAC",
                "size": [
                  55,
                  55
                ],
                "position": [
                  0,
                  0
                ],
                "parentId": "group#Taiwan"
              },
              {
                "id": "BKK",
                "properties": {
                  "label": "Bangkok",
                  "passengers": 65000000,
                  "country": "Thailand"
                },
                "coordinates": [
                  13.681108,
                  100.747283
                ],
                "color": "#15AFAC",
                "styles": {},
                "label": "Bangkok",
                "scale_factor": 1,
                "type": "#15AFAC",
                "size": [
                  55,
                  55
                ],
                "position": [
                  0,
                  0
                ],
                "parentId": "group#Thailand"
              },
              {
                "id": "IST",
                "properties": {
                  "label": "Istanbul",
                  "passengers": 64000000,
                  "country": "Turkey"
                },
                "coordinates": [
                  40.976922,
                  28.814606
                ],
                "color": "#15AFAC",
                "styles": {},
                "label": "Istanbul",
                "scale_factor": 1,
                "type": "#15AFAC",
                "size": [
                  55,
                  55
                ],
                "position": [
                  0,
                  0
                ],
                "parentId": "group#Turkey"
              },
              {
                "id": "ULN",
                "properties": {
                  "label": "Ulaanbaatar",
                  "passengers": 1000000,
                  "country": "Mongolia"
                },
                "coordinates": [
                  47.843056,
                  106.766639
                ],
                "color": "#15AFAC",
                "styles": {},
                "label": "Ulaanbaatar",
                "scale_factor": 1,
                "type": "#15AFAC",
                "size": [
                  55,
                  55
                ],
                "position": [
                  0,
                  0
                ],
                "parentId": "group#Mongolia"
              },
              {
                "id": "MEL",
                "properties": {
                  "label": "Melbourne",
                  "passengers": 12000000,
                  "country": "Australia"
                },
                "coordinates": [
                  -37.673333,
                  144.843333
                ],
                "color": "#15AFAC",
                "styles": {},
                "label": "Melbourne",
                "scale_factor": 1,
                "type": "#15AFAC",
                "size": [
                  55,
                  55
                ],
                "position": [
                  0,
                  0
                ],
                "parentId": "group#Australia"
              },
              {
                "id": "BNE",
                "properties": {
                  "label": "Brisbane",
                  "passengers": 23000000,
                  "country": "Australia"
                },
                "coordinates": [
                  -27.383333,
                  153.118056
                ],
                "color": "#15AFAC",
                "styles": {},
                "label": "Brisbane",
                "scale_factor": 1,
                "type": "#15AFAC",
                "size": [
                  55,
                  55
                ],
                "position": [
                  0,
                  0
                ],
                "parentId": "group#Australia"
              },
              {
                "id": "NAN",
                "properties": {
                  "label": "Nadi",
                  "passengers": 2000000,
                  "country": "Fiji"
                },
                "coordinates": [
                  -17.755392,
                  177.443378
                ],
                "color": "#15AFAC",
                "styles": {},
                "label": "Nadi",
                "scale_factor": 1,
                "type": "#15AFAC",
                "size": [
                  55,
                  55
                ],
                "position": [
                  0,
                  0
                ],
                "parentId": "group#Fiji"
              },
              {
                "id": "AKL",
                "properties": {
                  "label": "Auckland",
                  "passengers": 21000000,
                  "country": "New Zealand"
                },
                "coordinates": [
                  -37.008056,
                  174.791667
                ],
                "color": "#15AFAC",
                "styles": {},
                "label": "Auckland",
                "scale_factor": 1,
                "type": "#15AFAC",
                "size": [
                  55,
                  55
                ],
                "position": [
                  0,
                  0
                ],
                "parentId": "group#New Zealand"
              },
              {
                "id": "CDG",
                "properties": {
                  "label": "Paris",
                  "passengers": 57000000,
                  "country": "France"
                },
                "coordinates": [
                  49.009722,
                  2.547778
                ],
                "color": "#15AFAC",
                "styles": {},
                "label": "Paris",
                "scale_factor": 1,
                "type": "#15AFAC",
                "size": [
                  55,
                  55
                ],
                "position": [
                  0,
                  0
                ],
                "parentId": "group#France"
              },
              {
                "id": "MAD",
                "properties": {
                  "label": "Madrid",
                  "passengers": 50000000,
                  "country": "Spain"
                },
                "coordinates": [
                  40.4675,
                  -3.551944
                ],
                "color": "#15AFAC",
                "styles": {},
                "label": "Madrid",
                "scale_factor": 1,
                "type": "#15AFAC",
                "size": [
                  55,
                  55
                ],
                "position": [
                  0,
                  0
                ],
                "parentId": "group#Spain"
              },
              {
                "id": "BCN",
                "properties": {
                  "label": "Barcelona",
                  "passengers": 41000000,
                  "country": "Spain"
                },
                "coordinates": [
                  41.297078,
                  2.078464
                ],
                "color": "#15AFAC",
                "styles": {},
                "label": "Barcelona",
                "scale_factor": 1,
                "type": "#15AFAC",
                "size": [
                  55,
                  55
                ],
                "position": [
                  0,
                  0
                ],
                "parentId": "group#Spain"
              },
              {
                "id": "FCO",
                "properties": {
                  "label": "Rome",
                  "passengers": 29000000,
                  "country": "Italy"
                },
                "coordinates": [
                  41.804444,
                  12.250833
                ],
                "color": "#15AFAC",
                "styles": {},
                "label": "Rome",
                "scale_factor": 1,
                "type": "#15AFAC",
                "size": [
                  55,
                  55
                ],
                "position": [
                  0,
                  0
                ],
                "parentId": "group#Italy"
              },
              {
                "id": "CPH",
                "properties": {
                  "label": "Copenhagen",
                  "passengers": 30000000,
                  "country": "Denmark"
                },
                "coordinates": [
                  55.617917,
                  12.655972
                ],
                "color": "#15AFAC",
                "styles": {},
                "label": "Copenhagen",
                "scale_factor": 1,
                "type": "#15AFAC",
                "size": [
                  55,
                  55
                ],
                "position": [
                  0,
                  0
                ],
                "parentId": "group#Denmark"
              },
              {
                "id": "HEL",
                "properties": {
                  "label": "Helsinki",
                  "passengers": 5000000,
                  "country": "Finland"
                },
                "coordinates": [
                  60.317222,
                  24.963333
                ],
                "color": "#15AFAC",
                "styles": {},
                "label": "Helsinki",
                "scale_factor": 1,
                "type": "#15AFAC",
                "size": [
                  55,
                  55
                ],
                "position": [
                  0,
                  0
                ],
                "parentId": "group#Finland"
              },
              {
                "id": "ATH",
                "properties": {
                  "label": "Athens",
                  "passengers": 22000000,
                  "country": "Greece"
                },
                "coordinates": [
                  37.936358,
                  23.944467
                ],
                "color": "#15AFAC",
                "styles": {},
                "label": "Athens",
                "scale_factor": 1,
                "type": "#15AFAC",
                "size": [
                  55,
                  55
                ],
                "position": [
                  0,
                  0
                ],
                "parentId": "group#Greece"
              },
              {
                "id": "DUB",
                "properties": {
                  "label": "Dublin",
                  "passengers": 32000000,
                  "country": "Ireland"
                },
                "coordinates": [
                  53.421333,
                  -6.270075
                ],
                "color": "#15AFAC",
                "styles": {},
                "label": "Dublin",
                "scale_factor": 1,
                "type": "#15AFAC",
                "size": [
                  55,
                  55
                ],
                "position": [
                  0,
                  0
                ],
                "parentId": "group#Ireland"
              },
              {
                "id": "RKV",
                "properties": {
                  "label": "Reykjavik",
                  "passengers": 400000,
                  "country": "Iceland"
                },
                "coordinates": [
                  64.13,
                  -21.940556
                ],
                "color": "#15AFAC",
                "styles": {},
                "label": "Reykjavik",
                "scale_factor": 1,
                "type": "#15AFAC",
                "size": [
                  55,
                  55
                ],
                "position": [
                  0,
                  0
                ],
                "parentId": "group#Iceland"
              },
              {
                "id": "OSL",
                "properties": {
                  "label": "Oslo",
                  "passengers": 9000000,
                  "country": "Norway"
                },
                "coordinates": [
                  60.193917,
                  11.100361
                ],
                "color": "#15AFAC",
                "styles": {},
                "label": "Oslo",
                "scale_factor": 1,
                "type": "#15AFAC",
                "size": [
                  55,
                  55
                ],
                "position": [
                  0,
                  0
                ],
                "parentId": "group#Norway"
              },
              {
                "id": "VIE",
                "properties": {
                  "label": "Vienna",
                  "passengers": 10000000,
                  "country": "Austria"
                },
                "coordinates": [
                  48.110833,
                  16.570833
                ],
                "color": "#15AFAC",
                "styles": {},
                "label": "Vienna",
                "scale_factor": 1,
                "type": "#15AFAC",
                "size": [
                  55,
                  55
                ],
                "position": [
                  0,
                  0
                ],
                "parentId": "group#Austria"
              },
              {
                "id": "LIS",
                "properties": {
                  "label": "Lisbon",
                  "passengers": 28000000,
                  "country": "Portugal"
                },
                "coordinates": [
                  38.774167,
                  -9.134167
                ],
                "color": "#15AFAC",
                "styles": {},
                "label": "Lisbon",
                "scale_factor": 1,
                "type": "#15AFAC",
                "size": [
                  55,
                  55
                ],
                "position": [
                  0,
                  0
                ],
                "parentId": "group#Portugal"
              },
              {
                "id": "ARN",
                "properties": {
                  "label": "Stockholm",
                  "passengers": 7000000,
                  "country": "Sweden"
                },
                "coordinates": [
                  59.651944,
                  17.918611
                ],
                "color": "#15AFAC",
                "styles": {},
                "label": "Stockholm",
                "scale_factor": 1,
                "type": "#15AFAC",
                "size": [
                  55,
                  55
                ],
                "position": [
                  0,
                  0
                ],
                "parentId": "group#Sweden"
              },
              {
                "id": "EDI",
                "properties": {
                  "label": "Edinburgh",
                  "passengers": 14000000,
                  "country": "UK"
                },
                "coordinates": [
                  55.95,
                  -3.3725
                ],
                "color": "#15AFAC",
                "styles": {},
                "label": "Edinburgh",
                "scale_factor": 1,
                "type": "#15AFAC",
                "size": [
                  55,
                  55
                ],
                "position": [
                  0,
                  0
                ],
                "parentId": "group#UK"
              },
              {
                "id": "ORD",
                "properties": {
                  "label": "Chicago",
                  "passengers": 54000000,
                  "country": "USA"
                },
                "coordinates": [
                  41.978603,
                  -87.904842
                ],
                "color": "#15AFAC",
                "styles": {},
                "label": "Chicago",
                "scale_factor": 1,
                "type": "#15AFAC",
                "size": [
                  55,
                  55
                ],
                "position": [
                  0,
                  0
                ],
                "parentId": "group#USA"
              },
              {
                "id": "DFW",
                "properties": {
                  "label": "Dallas",
                  "passengers": 73000000,
                  "country": "USA"
                },
                "coordinates": [
                  32.896828,
                  -97.037997
                ],
                "color": "#15AFAC",
                "styles": {},
                "label": "Dallas",
                "scale_factor": 1,
                "type": "#15AFAC",
                "size": [
                  55,
                  55
                ],
                "position": [
                  0,
                  0
                ],
                "parentId": "group#USA"
              },
              {
                "id": "SFO",
                "properties": {
                  "label": "San Francisco",
                  "passengers": 42000000,
                  "country": "USA"
                },
                "coordinates": [
                  37.618972,
                  -122.374889
                ],
                "color": "#15AFAC",
                "styles": {},
                "label": "San Francisco",
                "scale_factor": 1,
                "type": "#15AFAC",
                "size": [
                  55,
                  55
                ],
                "position": [
                  0,
                  0
                ],
                "parentId": "group#USA"
              },
              {
                "id": "LAS",
                "properties": {
                  "label": "Las Vegas",
                  "passengers": 52000000,
                  "country": "USA"
                },
                "coordinates": [
                  36.080056,
                  -115.15225
                ],
                "color": "#15AFAC",
                "styles": {},
                "label": "Las Vegas",
                "scale_factor": 1,
                "type": "#15AFAC",
                "size": [
                  55,
                  55
                ],
                "position": [
                  0,
                  0
                ],
                "parentId": "group#USA"
              },
              {
                "id": "MIA",
                "properties": {
                  "label": "Miami",
                  "passengers": 50000000,
                  "country": "USA"
                },
                "coordinates": [
                  25.79325,
                  -80.290556
                ],
                "color": "#15AFAC",
                "styles": {},
                "label": "Miami",
                "scale_factor": 1,
                "type": "#15AFAC",
                "size": [
                  55,
                  55
                ],
                "position": [
                  0,
                  0
                ],
                "parentId": "group#USA"
              },
              {
                "id": "YYZ",
                "properties": {
                  "label": "Toronto",
                  "passengers": 12000000,
                  "country": "Canada"
                },
                "coordinates": [
                  43.677222,
                  -79.630556
                ],
                "color": "#15AFAC",
                "styles": {},
                "label": "Toronto",
                "scale_factor": 1,
                "type": "#15AFAC",
                "size": [
                  55,
                  55
                ],
                "position": [
                  0,
                  0
                ],
                "parentId": "group#Canada"
              },
              {
                "id": "YVR",
                "properties": {
                  "label": "Vancouver",
                  "passengers": 19000000,
                  "country": "Canada"
                },
                "coordinates": [
                  49.193889,
                  -123.184444
                ],
                "color": "#15AFAC",
                "styles": {},
                "label": "Vancouver",
                "scale_factor": 1,
                "type": "#15AFAC",
                "size": [
                  55,
                  55
                ],
                "position": [
                  0,
                  0
                ],
                "parentId": "group#Canada"
              },
              {
                "id": "YUL",
                "properties": {
                  "label": "Montreal",
                  "passengers": 15000000,
                  "country": "Canada"
                },
                "coordinates": [
                  45.47175,
                  -73.736569
                ],
                "color": "#15AFAC",
                "styles": {},
                "label": "Montreal",
                "scale_factor": 1,
                "type": "#15AFAC",
                "size": [
                  55,
                  55
                ],
                "position": [
                  0,
                  0
                ],
                "parentId": "group#Canada"
              },
              {
                "id": "MEX",
                "properties": {
                  "label": "Mexico-City",
                  "passengers": 46000000,
                  "country": "Mexico"
                },
                "coordinates": [
                  19.436303,
                  -99.072097
                ],
                "color": "#15AFAC",
                "styles": {},
                "label": "Mexico-City",
                "scale_factor": 1,
                "type": "#15AFAC",
                "size": [
                  55,
                  55
                ],
                "position": [
                  0,
                  0
                ],
                "parentId": "group#Mexico"
              },
              {
                "id": "GUA",
                "properties": {
                  "label": "Guatemala-City",
                  "passengers": 2000000,
                  "country": "Guatemala"
                },
                "coordinates": [
                  14.583272,
                  -90.527475
                ],
                "color": "#15AFAC",
                "styles": {},
                "label": "Guatemala-City",
                "scale_factor": 1,
                "type": "#15AFAC",
                "size": [
                  55,
                  55
                ],
                "position": [
                  0,
                  0
                ],
                "parentId": "group#Guatemala"
              },
              {
                "id": "EZE",
                "properties": {
                  "label": "Buenos Aires",
                  "passengers": 5000000,
                  "country": "Argentina"
                },
                "coordinates": [
                  -34.822222,
                  -58.535833
                ],
                "color": "#15AFAC",
                "styles": {},
                "label": "Buenos Aires",
                "scale_factor": 1,
                "type": "#15AFAC",
                "size": [
                  55,
                  55
                ],
                "position": [
                  0,
                  0
                ],
                "parentId": "group#Argentina"
              },
              {
                "id": "GRU",
                "properties": {
                  "label": "Sao Paulo",
                  "passengers": 34000000,
                  "country": "Brazil"
                },
                "coordinates": [
                  -23.432075,
                  -46.469511
                ],
                "color": "#15AFAC",
                "styles": {},
                "label": "Sao Paulo",
                "scale_factor": 1,
                "type": "#15AFAC",
                "size": [
                  55,
                  55
                ],
                "position": [
                  0,
                  0
                ],
                "parentId": "group#Brazil"
              },
              {
                "id": "SCL",
                "properties": {
                  "label": "Santiago de Chile",
                  "passengers": 20000000,
                  "country": "Chile"
                },
                "coordinates": [
                  -33.392975,
                  -70.785803
                ],
                "color": "#15AFAC",
                "styles": {},
                "label": "Santiago de Chile",
                "scale_factor": 1,
                "type": "#15AFAC",
                "size": [
                  55,
                  55
                ],
                "position": [
                  0,
                  0
                ],
                "parentId": "group#Chile"
              },
              {
                "id": "BSB",
                "properties": {
                  "label": "Brasilia",
                  "passengers": 13000000,
                  "country": "Brazil"
                },
                "coordinates": [
                  -15.871111,
                  -47.918611
                ],
                "color": "#15AFAC",
                "styles": {},
                "label": "Brasilia",
                "scale_factor": 1,
                "type": "#15AFAC",
                "size": [
                  55,
                  55
                ],
                "position": [
                  0,
                  0
                ],
                "parentId": "group#Brazil"
              },
              {
                "id": "BOG",
                "properties": {
                  "label": "Bogota",
                  "passengers": 36000000,
                  "country": "Colombia"
                },
                "coordinates": [
                  4.701594,
                  -74.146947
                ],
                "color": "#15AFAC",
                "styles": {},
                "label": "Bogota",
                "scale_factor": 1,
                "type": "#15AFAC",
                "size": [
                  55,
                  55
                ],
                "position": [
                  0,
                  0
                ],
                "parentId": "group#Colombia"
              },
              {
                "id": "CCS",
                "properties": {
                  "label": "Caracas",
                  "passengers": 8000000,
                  "country": "Venezuela"
                },
                "coordinates": [
                  10.601194,
                  -66.991222
                ],
                "color": "#15AFAC",
                "styles": {},
                "label": "Caracas",
                "scale_factor": 1,
                "type": "#15AFAC",
                "size": [
                  55,
                  55
                ],
                "position": [
                  0,
                  0
                ],
                "parentId": "group#Venezuela"
              },
              {
                "id": "group#USA",
                "properties": {
                  "label": "USA",
                  "color": "#9F4499",
                  "char_count": 3
                },
                "color": "#9F4499",
                "styles": {},
                "label": "USA",
                "scale_factor": 1,
                "type": "#9F4499",
                "size": [
                  55,
                  55
                ],
                "position": [
                  0,
                  0
                ]
              },
              {
                "id": "group#Brazil",
                "properties": {
                  "label": "Brazil",
                  "color": "#9F4499",
                  "char_count": 6
                },
                "color": "#9F4499",
                "styles": {},
                "label": "Brazil",
                "scale_factor": 1,
                "type": "#9F4499",
                "size": [
                  55,
                  55
                ],
                "position": [
                  0,
                  0
                ]
              },
              {
                "id": "group#Peru",
                "properties": {
                  "label": "Peru",
                  "color": "#9F4499",
                  "char_count": 4
                },
                "color": "#9F4499",
                "styles": {},
                "label": "Peru",
                "scale_factor": 1,
                "type": "#9F4499",
                "size": [
                  55,
                  55
                ],
                "position": [
                  0,
                  0
                ]
              },
              {
                "id": "group#UK",
                "properties": {
                  "label": "UK",
                  "color": "#9F4499",
                  "char_count": 2
                },
                "color": "#9F4499",
                "styles": {},
                "label": "UK",
                "scale_factor": 1,
                "type": "#9F4499",
                "size": [
                  55,
                  55
                ],
                "position": [
                  0,
                  0
                ]
              },
              {
                "id": "group#Germany",
                "properties": {
                  "label": "Germany",
                  "color": "#9F4499",
                  "char_count": 7
                },
                "color": "#9F4499",
                "styles": {},
                "label": "Germany",
                "scale_factor": 1,
                "type": "#9F4499",
                "size": [
                  55,
                  55
                ],
                "position": [
                  0,
                  0
                ]
              },
              {
                "id": "group#Russia",
                "properties": {
                  "label": "Russia",
                  "color": "#9F4499",
                  "char_count": 6
                },
                "color": "#9F4499",
                "styles": {},
                "label": "Russia",
                "scale_factor": 1,
                "type": "#9F4499",
                "size": [
                  55,
                  55
                ],
                "position": [
                  0,
                  0
                ]
              },
              {
                "id": "group#India",
                "properties": {
                  "label": "India",
                  "color": "#9F4499",
                  "char_count": 5
                },
                "color": "#9F4499",
                "styles": {},
                "label": "India",
                "scale_factor": 1,
                "type": "#9F4499",
                "size": [
                  55,
                  55
                ],
                "position": [
                  0,
                  0
                ]
              },
              {
                "id": "group#China",
                "properties": {
                  "label": "China",
                  "color": "#9F4499",
                  "char_count": 5
                },
                "color": "#9F4499",
                "styles": {},
                "label": "China",
                "scale_factor": 1,
                "type": "#9F4499",
                "size": [
                  55,
                  55
                ],
                "position": [
                  0,
                  0
                ]
              },
              {
                "id": "group#China",
                "properties": {
                  "label": "China",
                  "color": "#9F4499",
                  "char_count": 5
                },
                "color": "#9F4499",
                "styles": {},
                "label": "China",
                "scale_factor": 1,
                "type": "#9F4499",
                "size": [
                  55,
                  55
                ],
                "position": [
                  0,
                  0
                ]
              },
              {
                "id": "group#Japan",
                "properties": {
                  "label": "Japan",
                  "color": "#9F4499",
                  "char_count": 5
                },
                "color": "#9F4499",
                "styles": {},
                "label": "Japan",
                "scale_factor": 1,
                "type": "#9F4499",
                "size": [
                  55,
                  55
                ],
                "position": [
                  0,
                  0
                ]
              },
              {
                "id": "group#UAE",
                "properties": {
                  "label": "UAE",
                  "color": "#9F4499",
                  "char_count": 3
                },
                "color": "#9F4499",
                "styles": {},
                "label": "UAE",
                "scale_factor": 1,
                "type": "#9F4499",
                "size": [
                  55,
                  55
                ],
                "position": [
                  0,
                  0
                ]
              },
              {
                "id": "group#Senegal",
                "properties": {
                  "label": "Senegal",
                  "color": "#9F4499",
                  "char_count": 7
                },
                "color": "#9F4499",
                "styles": {},
                "label": "Senegal",
                "scale_factor": 1,
                "type": "#9F4499",
                "size": [
                  55,
                  55
                ],
                "position": [
                  0,
                  0
                ]
              },
              {
                "id": "group#South Africa",
                "properties": {
                  "label": "South Africa",
                  "color": "#9F4499",
                  "char_count": 12
                },
                "color": "#9F4499",
                "styles": {},
                "label": "South Africa",
                "scale_factor": 1,
                "type": "#9F4499",
                "size": [
                  55,
                  55
                ],
                "position": [
                  0,
                  0
                ]
              },
              {
                "id": "group#Australia",
                "properties": {
                  "label": "Australia",
                  "color": "#9F4499",
                  "char_count": 9
                },
                "color": "#9F4499",
                "styles": {},
                "label": "Australia",
                "scale_factor": 1,
                "type": "#9F4499",
                "size": [
                  55,
                  55
                ],
                "position": [
                  0,
                  0
                ]
              },
              {
                "id": "group#Kenya",
                "properties": {
                  "label": "Kenya",
                  "color": "#9F4499",
                  "char_count": 5
                },
                "color": "#9F4499",
                "styles": {},
                "label": "Kenya",
                "scale_factor": 1,
                "type": "#9F4499",
                "size": [
                  55,
                  55
                ],
                "position": [
                  0,
                  0
                ]
              },
              {
                "id": "group#USA",
                "properties": {
                  "label": "USA",
                  "color": "#9F4499",
                  "char_count": 3
                },
                "color": "#9F4499",
                "styles": {},
                "label": "USA",
                "scale_factor": 1,
                "type": "#9F4499",
                "size": [
                  55,
                  55
                ],
                "position": [
                  0,
                  0
                ]
              },
              {
                "id": "group#USA",
                "properties": {
                  "label": "USA",
                  "color": "#9F4499",
                  "char_count": 3
                },
                "color": "#9F4499",
                "styles": {},
                "label": "USA",
                "scale_factor": 1,
                "type": "#9F4499",
                "size": [
                  55,
                  55
                ],
                "position": [
                  0,
                  0
                ]
              },
              {
                "id": "group#Egypt",
                "properties": {
                  "label": "Egypt",
                  "color": "#9F4499",
                  "char_count": 5
                },
                "color": "#9F4499",
                "styles": {},
                "label": "Egypt",
                "scale_factor": 1,
                "type": "#9F4499",
                "size": [
                  55,
                  55
                ],
                "position": [
                  0,
                  0
                ]
              },
              {
                "id": "group#Morocco",
                "properties": {
                  "label": "Morocco",
                  "color": "#9F4499",
                  "char_count": 7
                },
                "color": "#9F4499",
                "styles": {},
                "label": "Morocco",
                "scale_factor": 1,
                "type": "#9F4499",
                "size": [
                  55,
                  55
                ],
                "position": [
                  0,
                  0
                ]
              },
              {
                "id": "group#Nigeria",
                "properties": {
                  "label": "Nigeria",
                  "color": "#9F4499",
                  "char_count": 7
                },
                "color": "#9F4499",
                "styles": {},
                "label": "Nigeria",
                "scale_factor": 1,
                "type": "#9F4499",
                "size": [
                  55,
                  55
                ],
                "position": [
                  0,
                  0
                ]
              },
              {
                "id": "group#South Africa",
                "properties": {
                  "label": "South Africa",
                  "color": "#9F4499",
                  "char_count": 12
                },
                "color": "#9F4499",
                "styles": {},
                "label": "South Africa",
                "scale_factor": 1,
                "type": "#9F4499",
                "size": [
                  55,
                  55
                ],
                "position": [
                  0,
                  0
                ]
              },
              {
                "id": "group#China",
                "properties": {
                  "label": "China",
                  "color": "#9F4499",
                  "char_count": 5
                },
                "color": "#9F4499",
                "styles": {},
                "label": "China",
                "scale_factor": 1,
                "type": "#9F4499",
                "size": [
                  55,
                  55
                ],
                "position": [
                  0,
                  0
                ]
              },
              {
                "id": "group#Indonesia",
                "properties": {
                  "label": "Indonesia",
                  "color": "#9F4499",
                  "char_count": 9
                },
                "color": "#9F4499",
                "styles": {},
                "label": "Indonesia",
                "scale_factor": 1,
                "type": "#9F4499",
                "size": [
                  55,
                  55
                ],
                "position": [
                  0,
                  0
                ]
              },
              {
                "id": "group#Iran",
                "properties": {
                  "label": "Iran",
                  "color": "#9F4499",
                  "char_count": 4
                },
                "color": "#9F4499",
                "styles": {},
                "label": "Iran",
                "scale_factor": 1,
                "type": "#9F4499",
                "size": [
                  55,
                  55
                ],
                "position": [
                  0,
                  0
                ]
              },
              {
                "id": "group#Israel",
                "properties": {
                  "label": "Israel",
                  "color": "#9F4499",
                  "char_count": 6
                },
                "color": "#9F4499",
                "styles": {},
                "label": "Israel",
                "scale_factor": 1,
                "type": "#9F4499",
                "size": [
                  55,
                  55
                ],
                "position": [
                  0,
                  0
                ]
              },
              {
                "id": "group#Malaysia",
                "properties": {
                  "label": "Malaysia",
                  "color": "#9F4499",
                  "char_count": 8
                },
                "color": "#9F4499",
                "styles": {},
                "label": "Malaysia",
                "scale_factor": 1,
                "type": "#9F4499",
                "size": [
                  55,
                  55
                ],
                "position": [
                  0,
                  0
                ]
              },
              {
                "id": "group#Philippines",
                "properties": {
                  "label": "Philippines",
                  "color": "#9F4499",
                  "char_count": 11
                },
                "color": "#9F4499",
                "styles": {},
                "label": "Philippines",
                "scale_factor": 1,
                "type": "#9F4499",
                "size": [
                  55,
                  55
                ],
                "position": [
                  0,
                  0
                ]
              },
              {
                "id": "group#Singapore",
                "properties": {
                  "label": "Singapore",
                  "color": "#9F4499",
                  "char_count": 9
                },
                "color": "#9F4499",
                "styles": {},
                "label": "Singapore",
                "scale_factor": 1,
                "type": "#9F4499",
                "size": [
                  55,
                  55
                ],
                "position": [
                  0,
                  0
                ]
              },
              {
                "id": "group#Taiwan",
                "properties": {
                  "label": "Taiwan",
                  "color": "#9F4499",
                  "char_count": 6
                },
                "color": "#9F4499",
                "styles": {},
                "label": "Taiwan",
                "scale_factor": 1,
                "type": "#9F4499",
                "size": [
                  55,
                  55
                ],
                "position": [
                  0,
                  0
                ]
              },
              {
                "id": "group#Thailand",
                "properties": {
                  "label": "Thailand",
                  "color": "#9F4499",
                  "char_count": 8
                },
                "color": "#9F4499",
                "styles": {},
                "label": "Thailand",
                "scale_factor": 1,
                "type": "#9F4499",
                "size": [
                  55,
                  55
                ],
                "position": [
                  0,
                  0
                ]
              },
              {
                "id": "group#Turkey",
                "properties": {
                  "label": "Turkey",
                  "color": "#9F4499",
                  "char_count": 6
                },
                "color": "#9F4499",
                "styles": {},
                "label": "Turkey",
                "scale_factor": 1,
                "type": "#9F4499",
                "size": [
                  55,
                  55
                ],
                "position": [
                  0,
                  0
                ]
              },
              {
                "id": "group#Mongolia",
                "properties": {
                  "label": "Mongolia",
                  "color": "#9F4499",
                  "char_count": 8
                },
                "color": "#9F4499",
                "styles": {},
                "label": "Mongolia",
                "scale_factor": 1,
                "type": "#9F4499",
                "size": [
                  55,
                  55
                ],
                "position": [
                  0,
                  0
                ]
              },
              {
                "id": "group#Australia",
                "properties": {
                  "label": "Australia",
                  "color": "#9F4499",
                  "char_count": 9
                },
                "color": "#9F4499",
                "styles": {},
                "label": "Australia",
                "scale_factor": 1,
                "type": "#9F4499",
                "size": [
                  55,
                  55
                ],
                "position": [
                  0,
                  0
                ]
              },
              {
                "id": "group#Australia",
                "properties": {
                  "label": "Australia",
                  "color": "#9F4499",
                  "char_count": 9
                },
                "color": "#9F4499",
                "styles": {},
                "label": "Australia",
                "scale_factor": 1,
                "type": "#9F4499",
                "size": [
                  55,
                  55
                ],
                "position": [
                  0,
                  0
                ]
              },
              {
                "id": "group#Fiji",
                "properties": {
                  "label": "Fiji",
                  "color": "#9F4499",
                  "char_count": 4
                },
                "color": "#9F4499",
                "styles": {},
                "label": "Fiji",
                "scale_factor": 1,
                "type": "#9F4499",
                "size": [
                  55,
                  55
                ],
                "position": [
                  0,
                  0
                ]
              },
              {
                "id": "group#New Zealand",
                "properties": {
                  "label": "New Zealand",
                  "color": "#9F4499",
                  "char_count": 11
                },
                "color": "#9F4499",
                "styles": {},
                "label": "New Zealand",
                "scale_factor": 1,
                "type": "#9F4499",
                "size": [
                  55,
                  55
                ],
                "position": [
                  0,
                  0
                ]
              },
              {
                "id": "group#France",
                "properties": {
                  "label": "France",
                  "color": "#9F4499",
                  "char_count": 6
                },
                "color": "#9F4499",
                "styles": {},
                "label": "France",
                "scale_factor": 1,
                "type": "#9F4499",
                "size": [
                  55,
                  55
                ],
                "position": [
                  0,
                  0
                ]
              },
              {
                "id": "group#Spain",
                "properties": {
                  "label": "Spain",
                  "color": "#9F4499",
                  "char_count": 5
                },
                "color": "#9F4499",
                "styles": {},
                "label": "Spain",
                "scale_factor": 1,
                "type": "#9F4499",
                "size": [
                  55,
                  55
                ],
                "position": [
                  0,
                  0
                ]
              },
              {
                "id": "group#Spain",
                "properties": {
                  "label": "Spain",
                  "color": "#9F4499",
                  "char_count": 5
                },
                "color": "#9F4499",
                "styles": {},
                "label": "Spain",
                "scale_factor": 1,
                "type": "#9F4499",
                "size": [
                  55,
                  55
                ],
                "position": [
                  0,
                  0
                ]
              },
              {
                "id": "group#Italy",
                "properties": {
                  "label": "Italy",
                  "color": "#9F4499",
                  "char_count": 5
                },
                "color": "#9F4499",
                "styles": {},
                "label": "Italy",
                "scale_factor": 1,
                "type": "#9F4499",
                "size": [
                  55,
                  55
                ],
                "position": [
                  0,
                  0
                ]
              },
              {
                "id": "group#Denmark",
                "properties": {
                  "label": "Denmark",
                  "color": "#9F4499",
                  "char_count": 7
                },
                "color": "#9F4499",
                "styles": {},
                "label": "Denmark",
                "scale_factor": 1,
                "type": "#9F4499",
                "size": [
                  55,
                  55
                ],
                "position": [
                  0,
                  0
                ]
              },
              {
                "id": "group#Finland",
                "properties": {
                  "label": "Finland",
                  "color": "#9F4499",
                  "char_count": 7
                },
                "color": "#9F4499",
                "styles": {},
                "label": "Finland",
                "scale_factor": 1,
                "type": "#9F4499",
                "size": [
                  55,
                  55
                ],
                "position": [
                  0,
                  0
                ]
              },
              {
                "id": "group#Greece",
                "properties": {
                  "label": "Greece",
                  "color": "#9F4499",
                  "char_count": 6
                },
                "color": "#9F4499",
                "styles": {},
                "label": "Greece",
                "scale_factor": 1,
                "type": "#9F4499",
                "size": [
                  55,
                  55
                ],
                "position": [
                  0,
                  0
                ]
              },
              {
                "id": "group#Ireland",
                "properties": {
                  "label": "Ireland",
                  "color": "#9F4499",
                  "char_count": 7
                },
                "color": "#9F4499",
                "styles": {},
                "label": "Ireland",
                "scale_factor": 1,
                "type": "#9F4499",
                "size": [
                  55,
                  55
                ],
                "position": [
                  0,
                  0
                ]
              },
              {
                "id": "group#Iceland",
                "properties": {
                  "label": "Iceland",
                  "color": "#9F4499",
                  "char_count": 7
                },
                "color": "#9F4499",
                "styles": {},
                "label": "Iceland",
                "scale_factor": 1,
                "type": "#9F4499",
                "size": [
                  55,
                  55
                ],
                "position": [
                  0,
                  0
                ]
              },
              {
                "id": "group#Norway",
                "properties": {
                  "label": "Norway",
                  "color": "#9F4499",
                  "char_count": 6
                },
                "color": "#9F4499",
                "styles": {},
                "label": "Norway",
                "scale_factor": 1,
                "type": "#9F4499",
                "size": [
                  55,
                  55
                ],
                "position": [
                  0,
                  0
                ]
              },
              {
                "id": "group#Austria",
                "properties": {
                  "label": "Austria",
                  "color": "#9F4499",
                  "char_count": 7
                },
                "color": "#9F4499",
                "styles": {},
                "label": "Austria",
                "scale_factor": 1,
                "type": "#9F4499",
                "size": [
                  55,
                  55
                ],
                "position": [
                  0,
                  0
                ]
              },
              {
                "id": "group#Portugal",
                "properties": {
                  "label": "Portugal",
                  "color": "#9F4499",
                  "char_count": 8
                },
                "color": "#9F4499",
                "styles": {},
                "label": "Portugal",
                "scale_factor": 1,
                "type": "#9F4499",
                "size": [
                  55,
                  55
                ],
                "position": [
                  0,
                  0
                ]
              },
              {
                "id": "group#Sweden",
                "properties": {
                  "label": "Sweden",
                  "color": "#9F4499",
                  "char_count": 6
                },
                "color": "#9F4499",
                "styles": {},
                "label": "Sweden",
                "scale_factor": 1,
                "type": "#9F4499",
                "size": [
                  55,
                  55
                ],
                "position": [
                  0,
                  0
                ]
              },
              {
                "id": "group#UK",
                "properties": {
                  "label": "UK",
                  "color": "#9F4499",
                  "char_count": 2
                },
                "color": "#9F4499",
                "styles": {},
                "label": "UK",
                "scale_factor": 1,
                "type": "#9F4499",
                "size": [
                  55,
                  55
                ],
                "position": [
                  0,
                  0
                ]
              },
              {
                "id": "group#USA",
                "properties": {
                  "label": "USA",
                  "color": "#9F4499",
                  "char_count": 3
                },
                "color": "#9F4499",
                "styles": {},
                "label": "USA",
                "scale_factor": 1,
                "type": "#9F4499",
                "size": [
                  55,
                  55
                ],
                "position": [
                  0,
                  0
                ]
              },
              {
                "id": "group#USA",
                "properties": {
                  "label": "USA",
                  "color": "#9F4499",
                  "char_count": 3
                },
                "color": "#9F4499",
                "styles": {},
                "label": "USA",
                "scale_factor": 1,
                "type": "#9F4499",
                "size": [
                  55,
                  55
                ],
                "position": [
                  0,
                  0
                ]
              },
              {
                "id": "group#USA",
                "properties": {
                  "label": "USA",
                  "color": "#9F4499",
                  "char_count": 3
                },
                "color": "#9F4499",
                "styles": {},
                "label": "USA",
                "scale_factor": 1,
                "type": "#9F4499",
                "size": [
                  55,
                  55
                ],
                "position": [
                  0,
                  0
                ]
              },
              {
                "id": "group#USA",
                "properties": {
                  "label": "USA",
                  "color": "#9F4499",
                  "char_count": 3
                },
                "color": "#9F4499",
                "styles": {},
                "label": "USA",
                "scale_factor": 1,
                "type": "#9F4499",
                "size": [
                  55,
                  55
                ],
                "position": [
                  0,
                  0
                ]
              },
              {
                "id": "group#USA",
                "properties": {
                  "label": "USA",
                  "color": "#9F4499",
                  "char_count": 3
                },
                "color": "#9F4499",
                "styles": {},
                "label": "USA",
                "scale_factor": 1,
                "type": "#9F4499",
                "size": [
                  55,
                  55
                ],
                "position": [
                  0,
                  0
                ]
              },
              {
                "id": "group#Canada",
                "properties": {
                  "label": "Canada",
                  "color": "#9F4499",
                  "char_count": 6
                },
                "color": "#9F4499",
                "styles": {},
                "label": "Canada",
                "scale_factor": 1,
                "type": "#9F4499",
                "size": [
                  55,
                  55
                ],
                "position": [
                  0,
                  0
                ]
              },
              {
                "id": "group#Canada",
                "properties": {
                  "label": "Canada",
                  "color": "#9F4499",
                  "char_count": 6
                },
                "color": "#9F4499",
                "styles": {},
                "label": "Canada",
                "scale_factor": 1,
                "type": "#9F4499",
                "size": [
                  55,
                  55
                ],
                "position": [
                  0,
                  0
                ]
              },
              {
                "id": "group#Canada",
                "properties": {
                  "label": "Canada",
                  "color": "#9F4499",
                  "char_count": 6
                },
                "color": "#9F4499",
                "styles": {},
                "label": "Canada",
                "scale_factor": 1,
                "type": "#9F4499",
                "size": [
                  55,
                  55
                ],
                "position": [
                  0,
                  0
                ]
              },
              {
                "id": "group#Mexico",
                "properties": {
                  "label": "Mexico",
                  "color": "#9F4499",
                  "char_count": 6
                },
                "color": "#9F4499",
                "styles": {},
                "label": "Mexico",
                "scale_factor": 1,
                "type": "#9F4499",
                "size": [
                  55,
                  55
                ],
                "position": [
                  0,
                  0
                ]
              },
              {
                "id": "group#Guatemala",
                "properties": {
                  "label": "Guatemala",
                  "color": "#9F4499",
                  "char_count": 9
                },
                "color": "#9F4499",
                "styles": {},
                "label": "Guatemala",
                "scale_factor": 1,
                "type": "#9F4499",
                "size": [
                  55,
                  55
                ],
                "position": [
                  0,
                  0
                ]
              },
              {
                "id": "group#Argentina",
                "properties": {
                  "label": "Argentina",
                  "color": "#9F4499",
                  "char_count": 9
                },
                "color": "#9F4499",
                "styles": {},
                "label": "Argentina",
                "scale_factor": 1,
                "type": "#9F4499",
                "size": [
                  55,
                  55
                ],
                "position": [
                  0,
                  0
                ]
              },
              {
                "id": "group#Brazil",
                "properties": {
                  "label": "Brazil",
                  "color": "#9F4499",
                  "char_count": 6
                },
                "color": "#9F4499",
                "styles": {},
                "label": "Brazil",
                "scale_factor": 1,
                "type": "#9F4499",
                "size": [
                  55,
                  55
                ],
                "position": [
                  0,
                  0
                ]
              },
              {
                "id": "group#Chile",
                "properties": {
                  "label": "Chile",
                  "color": "#9F4499",
                  "char_count": 5
                },
                "color": "#9F4499",
                "styles": {},
                "label": "Chile",
                "scale_factor": 1,
                "type": "#9F4499",
                "size": [
                  55,
                  55
                ],
                "position": [
                  0,
                  0
                ]
              },
              {
                "id": "group#Brazil",
                "properties": {
                  "label": "Brazil",
                  "color": "#9F4499",
                  "char_count": 6
                },
                "color": "#9F4499",
                "styles": {},
                "label": "Brazil",
                "scale_factor": 1,
                "type": "#9F4499",
                "size": [
                  55,
                  55
                ],
                "position": [
                  0,
                  0
                ]
              },
              {
                "id": "group#Colombia",
                "properties": {
                  "label": "Colombia",
                  "color": "#9F4499",
                  "char_count": 8
                },
                "color": "#9F4499",
                "styles": {},
                "label": "Colombia",
                "scale_factor": 1,
                "type": "#9F4499",
                "size": [
                  55,
                  55
                ],
                "position": [
                  0,
                  0
                ]
              },
              {
                "id": "group#Venezuela",
                "properties": {
                  "label": "Venezuela",
                  "color": "#9F4499",
                  "char_count": 9
                },
                "color": "#9F4499",
                "styles": {},
                "label": "Venezuela",
                "scale_factor": 1,
                "type": "#9F4499",
                "size": [
                  55,
                  55
                ],
                "position": [
                  0,
                  0
                ]
              }
            ],
            "_overview": {
              "enabled": null,
              "overview_set": false
            },
            "_selected_graph": [
              [],
              []
            ],
            "_sidebar": {
              "enabled": false,
              "start_with": null
            },
            "_view_count": null,
            "_view_module": "yfiles-jupyter-graphs",
            "_view_module_version": "^1.8.1",
            "_view_name": "GraphView",
            "layout": "IPY_MODEL_bf1ae932a1834ad5a4a2731f7517bb7d",
            "tabbable": null,
            "tooltip": null
          }
        },
        "bf1ae932a1834ad5a4a2731f7517bb7d": {
          "model_module": "@jupyter-widgets/base",
          "model_name": "LayoutModel",
          "model_module_version": "2.0.0",
          "state": {
            "_model_module": "@jupyter-widgets/base",
            "_model_module_version": "2.0.0",
            "_model_name": "LayoutModel",
            "_view_count": null,
            "_view_module": "@jupyter-widgets/base",
            "_view_module_version": "2.0.0",
            "_view_name": "LayoutView",
            "align_content": null,
            "align_items": null,
            "align_self": null,
            "border_bottom": null,
            "border_left": null,
            "border_right": null,
            "border_top": null,
            "bottom": null,
            "display": null,
            "flex": null,
            "flex_flow": null,
            "grid_area": null,
            "grid_auto_columns": null,
            "grid_auto_flow": null,
            "grid_auto_rows": null,
            "grid_column": null,
            "grid_gap": null,
            "grid_row": null,
            "grid_template_areas": null,
            "grid_template_columns": null,
            "grid_template_rows": null,
            "height": "800px",
            "justify_content": null,
            "justify_items": null,
            "left": null,
            "margin": null,
            "max_height": null,
            "max_width": null,
            "min_height": null,
            "min_width": null,
            "object_fit": null,
            "object_position": null,
            "order": null,
            "overflow": null,
            "padding": null,
            "right": null,
            "top": null,
            "visibility": null,
            "width": "100%"
          }
        },
        "state": {}
      }
    },
    "colab": {
      "provenance": []
    }
  },
  "nbformat": 4,
  "nbformat_minor": 5
}