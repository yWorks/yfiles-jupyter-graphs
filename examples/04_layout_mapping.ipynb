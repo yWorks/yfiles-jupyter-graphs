{
  "cells": [
    {
      "cell_type": "markdown",
      "id": "d1bf7f01-9c4d-4101-bedf-2092ceaedd0f",
      "metadata": {
        "id": "d1bf7f01-9c4d-4101-bedf-2092ceaedd0f"
      },
      "source": [
        "# Node Layout Mapping <a target=\"_blank\" href=\"https://colab.research.google.com/github/yWorks/yfiles-jupyter-graphs/blob/main/examples/04_layout_mapping.ipynb\"><img src=\"https://colab.research.google.com/assets/colab-badge.svg\" alt=\"Open In Colab\"/></a>"
      ]
    },
    {
      "cell_type": "markdown",
      "id": "c3a6b6ae-2a9d-4a0b-b4c8-c6c98a62a70d",
      "metadata": {
        "id": "c3a6b6ae-2a9d-4a0b-b4c8-c6c98a62a70d"
      },
      "source": [
        "This notebook covers the basics of customizing node layouts.\n",
        "\n",
        "A node layout is consists of 4 values:\n",
        "- x-position\n",
        "- y-position\n",
        "- width\n",
        "- height.\n",
        "\n",
        "Edges do not have a layout property.\n",
        "\n",
        "For the purpose of mapping demonstrations, the same graph, ```erdos_renyi_graph```, will be used. For this, we will import the graph from the networkx database. \\\n",
        "For more details on how to import graph data, explore the other example notebooks or refer to the full widget [documentation](https://yworks.github.io/yfiles-jupyter-graphs/).\n",
        "\n",
        "Before using the graph widget, install all necessary packages."
      ]
    },
    {
      "cell_type": "code",
      "execution_count": 1,
      "id": "94cdaddf-2f9c-4848-85bb-f51b1bf76bb5",
      "metadata": {
        "id": "94cdaddf-2f9c-4848-85bb-f51b1bf76bb5",
        "colab": {
          "base_uri": "https://localhost:8080/",
          "height": 92
        },
        "outputId": "31c86c99-29a3-4d6c-cf96-0a505bf2bf49"
      },
      "outputs": [
        {
          "output_type": "stream",
          "name": "stdout",
          "text": [
            "\u001b[2K   \u001b[90m\u2501\u2501\u2501\u2501\u2501\u2501\u2501\u2501\u2501\u2501\u2501\u2501\u2501\u2501\u2501\u2501\u2501\u2501\u2501\u2501\u2501\u2501\u2501\u2501\u2501\u2501\u2501\u2501\u2501\u2501\u2501\u2501\u2501\u2501\u2501\u2501\u2501\u2501\u2501\u2501\u001b[0m \u001b[32m15.6/15.6 MB\u001b[0m \u001b[31m39.6 MB/s\u001b[0m eta \u001b[36m0:00:00\u001b[0m\n",
            "\u001b[2K   \u001b[90m\u2501\u2501\u2501\u2501\u2501\u2501\u2501\u2501\u2501\u2501\u2501\u2501\u2501\u2501\u2501\u2501\u2501\u2501\u2501\u2501\u2501\u2501\u2501\u2501\u2501\u2501\u2501\u2501\u2501\u2501\u2501\u2501\u2501\u2501\u2501\u2501\u2501\u2501\u2501\u2501\u001b[0m \u001b[32m139.8/139.8 kB\u001b[0m \u001b[31m8.2 MB/s\u001b[0m eta \u001b[36m0:00:00\u001b[0m\n",
            "\u001b[2K   \u001b[90m\u2501\u2501\u2501\u2501\u2501\u2501\u2501\u2501\u2501\u2501\u2501\u2501\u2501\u2501\u2501\u2501\u2501\u2501\u2501\u2501\u2501\u2501\u2501\u2501\u2501\u2501\u2501\u2501\u2501\u2501\u2501\u2501\u2501\u2501\u2501\u2501\u2501\u2501\u2501\u2501\u001b[0m \u001b[32m2.3/2.3 MB\u001b[0m \u001b[31m51.6 MB/s\u001b[0m eta \u001b[36m0:00:00\u001b[0m\n",
            "\u001b[2K   \u001b[90m\u2501\u2501\u2501\u2501\u2501\u2501\u2501\u2501\u2501\u2501\u2501\u2501\u2501\u2501\u2501\u2501\u2501\u2501\u2501\u2501\u2501\u2501\u2501\u2501\u2501\u2501\u2501\u2501\u2501\u2501\u2501\u2501\u2501\u2501\u2501\u2501\u2501\u2501\u2501\u2501\u001b[0m \u001b[32m1.6/1.6 MB\u001b[0m \u001b[31m23.8 MB/s\u001b[0m eta \u001b[36m0:00:00\u001b[0m\n",
            "\u001b[?25h"
          ]
        }
      ],
      "source": [
        "%pip install yfiles_jupyter_graphs --quiet\n",
        "from yfiles_jupyter_graphs import GraphWidget\n",
        "%pip install networkx --quiet\n",
        "from typing import Dict\n",
        "from networkx import erdos_renyi_graph\n",
        "\n",
        "g = erdos_renyi_graph(10, 0.3, 2)\n",
        "w = GraphWidget(graph=g)"
      ]
    },
    {
      "cell_type": "markdown",
      "id": "2a1af9bc-a9fb-48ae-b158-dfb7a2c6c328",
      "metadata": {
        "id": "2a1af9bc-a9fb-48ae-b158-dfb7a2c6c328"
      },
      "source": [
        "You can also open this notebook in Google Colab when Google Colab's custom widget manager is enabled:"
      ]
    },
    {
      "cell_type": "code",
      "execution_count": 2,
      "id": "d3d2e9e0-9190-4b18-8e17-9a4bdd3458fc",
      "metadata": {
        "id": "d3d2e9e0-9190-4b18-8e17-9a4bdd3458fc"
      },
      "outputs": [],
      "source": [
        "try:\n",
        "  import google.colab\n",
        "  from google.colab import output\n",
        "  output.enable_custom_widget_manager()\n",
        "except:\n",
        "  pass"
      ]
    },
    {
      "cell_type": "markdown",
      "id": "d4560226-e2e5-4595-93e6-4ecb081ddac1",
      "metadata": {
        "id": "d4560226-e2e5-4595-93e6-4ecb081ddac1"
      },
      "source": [
        "<a target=\"_blank\" href=\"https://colab.research.google.com/github/yWorks/yfiles-jupyter-graphs/blob/main/examples/04_layout_mapping.ipynb\"><img src=\"https://colab.research.google.com/assets/colab-badge.svg\" alt=\"Open In Colab\"/></a>"
      ]
    },
    {
      "cell_type": "markdown",
      "id": "f0e7cd9c-eeff-4245-b028-2057675f19a4",
      "metadata": {
        "id": "f0e7cd9c-eeff-4245-b028-2057675f19a4"
      },
      "source": [
        "This is the graph we will be working on:"
      ]
    },
    {
      "cell_type": "code",
      "execution_count": 3,
      "id": "1c67daeb-332b-4b55-9d32-afeeb04d9b1c",
      "metadata": {
        "id": "1c67daeb-332b-4b55-9d32-afeeb04d9b1c",
        "outputId": "a4a0704d-eba8-4a59-b491-c94430988b7b",
        "colab": {
          "base_uri": "https://localhost:8080/",
          "height": 517,
          "referenced_widgets": [
            "eea6fbd959374264886245e05f1c244a",
            "3898e66a62a24068b44e1a10e8171397"
          ]
        }
      },
      "outputs": [
        {
          "output_type": "display_data",
          "data": {
            "text/plain": [
              "GraphWidget(layout=Layout(height='500px', width='100%'))"
            ],
            "application/vnd.jupyter.widget-view+json": {
              "version_major": 2,
              "version_minor": 0,
              "model_id": "eea6fbd959374264886245e05f1c244a"
            }
          },
          "metadata": {
            "application/vnd.jupyter.widget-view+json": {
              "colab": {
                "custom_widget_manager": {
                  "url": "https://ssl.gstatic.com/colaboratory-static/widgets/colab-cdn-widget-manager/2b70e893a8ba7c0f/manager.min.js"
                }
              }
            }
          }
        }
      ],
      "source": [
        "display(GraphWidget(graph=g))"
      ]
    },
    {
      "cell_type": "markdown",
      "id": "c4450211-c989-4e0b-bdb9-05e22ad4f837",
      "metadata": {
        "id": "c4450211-c989-4e0b-bdb9-05e22ad4f837"
      },
      "source": [
        "## Mapping Function\n",
        "\n",
        "The node layout mapping is a function that is supposed to return a 4-tuple of numbers `(x, y, width, height)` for each given node object which is then used in the widget.\n",
        "\n",
        "Optionally, the index can be used as the first function parameter.\n",
        "\n",
        "If no size, position or layout mapping is set, the default position (0, 0) and default sizes are used (55.0, 55.0). Note that the given position is also adjusted by an automatic layout algorithm which runs per default in the widget. As shown later in this example, you need to either disable the automtatic layout or only use an edge-router which does not change the node positions in order to see the specified positions from the layout mapping.\n",
        "\n",
        "Let's order the nodes from smallest to largest index, by changing their positions. \\\n",
        "Additionally change the shape of the nodes to an ellipse by making the height bigger than the width:"
      ]
    },
    {
      "cell_type": "code",
      "execution_count": 4,
      "id": "1c28cd03-5237-4aee-99eb-a76b33c29d2a",
      "metadata": {
        "id": "1c28cd03-5237-4aee-99eb-a76b33c29d2a"
      },
      "outputs": [],
      "source": [
        "nodes = w.nodes\n",
        "def custom_node_layout_mapping(node: Dict):\n",
        "    index = nodes.index(node)\n",
        "    return index*100, 0, 60, 80"
      ]
    },
    {
      "cell_type": "markdown",
      "id": "e5225ab9-e3b7-4c3d-9073-cea92a90f228",
      "metadata": {
        "id": "e5225ab9-e3b7-4c3d-9073-cea92a90f228"
      },
      "source": [
        "### Custom node mappings\n",
        "\n",
        "There are get and set methods for each customizable node property.\n",
        "- you can set a new node mapping with ```w.set_node_[binding]_mapping```\n",
        "- you can get the current node mapping with ```w.get_node_[binding]_mapping```\n",
        "- you can delete a custom node mapping with ```w.del_node_[binding]_mapping```\n",
        "\n",
        "You can find more details in the dedicated function documentation, available at ```w.[function_name].__doc__``` or in the [documentation](https://yworks.github.io/yfiles-jupyter-graphs/02_graph_widget/#methods).\n",
        "\n",
        "If no size, position or layout mapping is set, the default position and default sizes are used."
      ]
    },
    {
      "cell_type": "code",
      "execution_count": 5,
      "id": "7a1dab5a-a36d-440b-96a0-1dfffb67f071",
      "metadata": {
        "id": "7a1dab5a-a36d-440b-96a0-1dfffb67f071",
        "outputId": "2cd31241-0628-4e7e-98d1-b979c4767a53",
        "colab": {
          "base_uri": "https://localhost:8080/"
        }
      },
      "outputs": [
        {
          "output_type": "stream",
          "name": "stdout",
          "text": [
            "The default layout mapping for nodes.\n",
            "\n",
            "                Provides constant value None for all nodes.\n",
            "                Position and size mappings are used instead.\n",
            "                Default position and size mappings are a constant value of 0.0, 0.0 and 55.0,55.0 respectively.\n",
            "\n",
            "                Parameters\n",
            "                ----------\n",
            "                index: int (optional)\n",
            "                node: typing.Dict\n",
            "\n",
            "                Notes\n",
            "                -----\n",
            "                This is the default value for the `node_layout_mapping` property.\n",
            "                Can be 'overwritten' by setting the property\n",
            "                with a function returning a float 4-tuple.\n",
            "\n",
            "                The layout overwrites position and size mappings if not None.\n",
            "\n",
            "                If the given mapping function has only one parameter (that is not typed as int),\n",
            "                then it will be called with the element (typing.Dict) as first parameter.\n",
            "\n",
            "                Example\n",
            "                -------\n",
            "                .. code::\n",
            "\n",
            "                   from yfiles_jupyter_graphs import GraphWidget\n",
            "                   w = GraphWidget()\n",
            "                   def custom_node_layout_mapping(node: typing.Dict):\n",
            "                   ...\n",
            "                   w.set_node_layout_mapping(custom_node_layout_mapping)\n",
            "\n",
            "                Returns\n",
            "                -------\n",
            "                layout: None | float 4-tuple\n",
            "\n",
            "                \n"
          ]
        }
      ],
      "source": [
        "print(w.node_layout_mapping.__doc__)"
      ]
    },
    {
      "cell_type": "code",
      "execution_count": 6,
      "id": "b59b54b5-bf11-4b7f-82c4-23c6bfd3e835",
      "metadata": {
        "id": "b59b54b5-bf11-4b7f-82c4-23c6bfd3e835",
        "outputId": "3eb91c75-5a5d-48f8-dc2a-4b9ffca8cb72",
        "colab": {
          "base_uri": "https://localhost:8080/",
          "height": 188
        }
      },
      "outputs": [
        {
          "output_type": "execute_result",
          "data": {
            "text/plain": [
              "<function yfiles_jupyter_graphs.widget.GraphWidget.default_node_layout_mapping(index: int, node: Dict)>"
            ],
            "text/html": [
              "<div style=\"max-width:800px; border: 1px solid var(--colab-border-color);\"><style>\n",
              "      pre.function-repr-contents {\n",
              "        overflow-x: auto;\n",
              "        padding: 8px 12px;\n",
              "        max-height: 500px;\n",
              "      }\n",
              "\n",
              "      pre.function-repr-contents.function-repr-contents-collapsed {\n",
              "        cursor: pointer;\n",
              "        max-height: 100px;\n",
              "      }\n",
              "    </style>\n",
              "    <pre style=\"white-space: initial; background:\n",
              "         var(--colab-secondary-surface-color); padding: 8px 12px;\n",
              "         border-bottom: 1px solid var(--colab-border-color);\"><b>yfiles_jupyter_graphs.widget.GraphWidget.default_node_layout_mapping</b><br/>def default_node_layout_mapping(index: int, node: TDict)</pre><pre class=\"function-repr-contents function-repr-contents-collapsed\" style=\"\"><a class=\"filepath\" style=\"display:none\" href=\"#\">/usr/local/lib/python3.10/dist-packages/yfiles_jupyter_graphs/widget.py</a>The default layout mapping for nodes.\n",
              "\n",
              "Provides constant value None for all nodes.\n",
              "Position and size mappings are used instead.\n",
              "Default position and size mappings are a constant value of 0.0, 0.0 and 55.0,55.0 respectively.\n",
              "\n",
              "Parameters\n",
              "----------\n",
              "index: int (optional)\n",
              "node: typing.Dict\n",
              "\n",
              "Notes\n",
              "-----\n",
              "This is the default value for the `node_layout_mapping` property.\n",
              "Can be &#x27;overwritten&#x27; by setting the property\n",
              "with a function returning a float 4-tuple.\n",
              "\n",
              "The layout overwrites position and size mappings if not None.\n",
              "\n",
              "If the given mapping function has only one parameter (that is not typed as int),\n",
              "then it will be called with the element (typing.Dict) as first parameter.\n",
              "\n",
              "Example\n",
              "-------\n",
              ".. code::\n",
              "\n",
              "   from yfiles_jupyter_graphs import GraphWidget\n",
              "   w = GraphWidget()\n",
              "   def custom_node_layout_mapping(node: typing.Dict):\n",
              "   ...\n",
              "   w.set_node_layout_mapping(custom_node_layout_mapping)\n",
              "\n",
              "Returns\n",
              "-------\n",
              "layout: None | float 4-tuple</pre>\n",
              "      <script>\n",
              "      if (google.colab.kernel.accessAllowed && google.colab.files && google.colab.files.view) {\n",
              "        for (const element of document.querySelectorAll('.filepath')) {\n",
              "          element.style.display = 'block'\n",
              "          element.onclick = (event) => {\n",
              "            event.preventDefault();\n",
              "            event.stopPropagation();\n",
              "            google.colab.files.view(element.textContent, 1749);\n",
              "          };\n",
              "        }\n",
              "      }\n",
              "      for (const element of document.querySelectorAll('.function-repr-contents')) {\n",
              "        element.onclick = (event) => {\n",
              "          event.preventDefault();\n",
              "          event.stopPropagation();\n",
              "          element.classList.toggle('function-repr-contents-collapsed');\n",
              "        };\n",
              "      }\n",
              "      </script>\n",
              "      </div>"
            ]
          },
          "metadata": {},
          "execution_count": 6
        }
      ],
      "source": [
        "w.get_node_layout_mapping()"
      ]
    },
    {
      "cell_type": "markdown",
      "id": "7269741e-5d5c-4748-82c7-d1b91c124b51",
      "metadata": {
        "id": "7269741e-5d5c-4748-82c7-d1b91c124b51"
      },
      "source": [
        "Let's use our new node layouts:"
      ]
    },
    {
      "cell_type": "code",
      "execution_count": 7,
      "id": "bbf09bdd-2996-41ad-92d9-cb4df2911e0f",
      "metadata": {
        "id": "bbf09bdd-2996-41ad-92d9-cb4df2911e0f",
        "outputId": "d0fa7b17-5949-4ac2-b5c5-f59e094fba94",
        "colab": {
          "base_uri": "https://localhost:8080/",
          "height": 105
        }
      },
      "outputs": [
        {
          "output_type": "execute_result",
          "data": {
            "text/plain": [
              "<function __main__.custom_node_layout_mapping(node: Dict)>"
            ],
            "text/html": [
              "<div style=\"max-width:800px; border: 1px solid var(--colab-border-color);\"><style>\n",
              "      pre.function-repr-contents {\n",
              "        overflow-x: auto;\n",
              "        padding: 8px 12px;\n",
              "        max-height: 500px;\n",
              "      }\n",
              "\n",
              "      pre.function-repr-contents.function-repr-contents-collapsed {\n",
              "        cursor: pointer;\n",
              "        max-height: 100px;\n",
              "      }\n",
              "    </style>\n",
              "    <pre style=\"white-space: initial; background:\n",
              "         var(--colab-secondary-surface-color); padding: 8px 12px;\n",
              "         border-bottom: 1px solid var(--colab-border-color);\"><b>custom_node_layout_mapping</b><br/>def custom_node_layout_mapping(node: Dict)</pre><pre class=\"function-repr-contents function-repr-contents-collapsed\" style=\"\"><a class=\"filepath\" style=\"display:none\" href=\"#\">/content/&lt;ipython-input-4-f58abca423a0&gt;</a>&lt;no docstring&gt;</pre></div>"
            ]
          },
          "metadata": {},
          "execution_count": 7
        }
      ],
      "source": [
        "w.set_node_layout_mapping(custom_node_layout_mapping)\n",
        "w.get_node_layout_mapping()"
      ]
    },
    {
      "cell_type": "markdown",
      "id": "a874ea2d-e7ac-4f7c-8c91-c1e9111467c0",
      "metadata": {
        "id": "a874ea2d-e7ac-4f7c-8c91-c1e9111467c0"
      },
      "source": [
        "To actually see the custom positioning, use a layout algorithm that does not arrange graph items, e.g. an edge router layout. \\\n",
        "If the layout is changed from the toolbar to a layout changing node positions, the original positions cannot be retrieved by changing the layout again."
      ]
    },
    {
      "cell_type": "code",
      "execution_count": 8,
      "id": "e16ff7b0-486e-49e7-89a9-d436468d30e7",
      "metadata": {
        "id": "e16ff7b0-486e-49e7-89a9-d436468d30e7",
        "outputId": "7c5c4f86-2983-439a-858b-9b5da092676b",
        "colab": {
          "base_uri": "https://localhost:8080/",
          "height": 517,
          "referenced_widgets": [
            "0eb59314b39f4da88c2c1b8ed7b2883f",
            "306d60b119ac4aeca140aa45d6274e95"
          ]
        }
      },
      "outputs": [
        {
          "output_type": "display_data",
          "data": {
            "text/plain": [
              "GraphWidget(layout=Layout(height='500px', width='100%'))"
            ],
            "application/vnd.jupyter.widget-view+json": {
              "version_major": 2,
              "version_minor": 0,
              "model_id": "0eb59314b39f4da88c2c1b8ed7b2883f"
            }
          },
          "metadata": {
            "application/vnd.jupyter.widget-view+json": {
              "colab": {
                "custom_widget_manager": {
                  "url": "https://ssl.gstatic.com/colaboratory-static/widgets/colab-cdn-widget-manager/2b70e893a8ba7c0f/manager.min.js"
                }
              }
            }
          }
        }
      ],
      "source": [
        "w.orthogonal_edge_router()\n",
        "display(w)"
      ]
    },
    {
      "cell_type": "markdown",
      "id": "a4a26bb8-4d3b-49bf-b615-98ff56b3a1a8",
      "metadata": {
        "id": "a4a26bb8-4d3b-49bf-b615-98ff56b3a1a8"
      },
      "source": [
        "The layout property is not part of the node keys. It overwrites any size or position mapping. \\\n",
        "You can find more about the position size mappings in the next example notebooks [05_size_mapping.ipynb](./05_size_mapping.ipynb) and [06_position_mapping.ipynb](./06_position_mapping.ipynb)."
      ]
    },
    {
      "cell_type": "code",
      "execution_count": 9,
      "id": "a3ab0b29-1b4b-4a4d-ac16-cc7a5ac88894",
      "metadata": {
        "id": "a3ab0b29-1b4b-4a4d-ac16-cc7a5ac88894",
        "outputId": "ad156c25-1707-4bbd-92f4-06dab86aabe8",
        "colab": {
          "base_uri": "https://localhost:8080/"
        }
      },
      "outputs": [
        {
          "output_type": "execute_result",
          "data": {
            "text/plain": [
              "[{'id': 0,\n",
              "  'properties': {'label': '0'},\n",
              "  'color': '#15AFAC',\n",
              "  'styles': {},\n",
              "  'label': '0',\n",
              "  'scale_factor': 1.0,\n",
              "  'type': '#15AFAC',\n",
              "  'size': (60, 80),\n",
              "  'position': (0, 0)},\n",
              " {'id': 1,\n",
              "  'properties': {'label': '1'},\n",
              "  'color': '#15AFAC',\n",
              "  'styles': {},\n",
              "  'label': '1',\n",
              "  'scale_factor': 1.0,\n",
              "  'type': '#15AFAC',\n",
              "  'size': (60, 80),\n",
              "  'position': (100, 0)},\n",
              " {'id': 2,\n",
              "  'properties': {'label': '2'},\n",
              "  'color': '#15AFAC',\n",
              "  'styles': {},\n",
              "  'label': '2',\n",
              "  'scale_factor': 1.0,\n",
              "  'type': '#15AFAC',\n",
              "  'size': (60, 80),\n",
              "  'position': (200, 0)},\n",
              " {'id': 3,\n",
              "  'properties': {'label': '3'},\n",
              "  'color': '#15AFAC',\n",
              "  'styles': {},\n",
              "  'label': '3',\n",
              "  'scale_factor': 1.0,\n",
              "  'type': '#15AFAC',\n",
              "  'size': (60, 80),\n",
              "  'position': (300, 0)},\n",
              " {'id': 4,\n",
              "  'properties': {'label': '4'},\n",
              "  'color': '#15AFAC',\n",
              "  'styles': {},\n",
              "  'label': '4',\n",
              "  'scale_factor': 1.0,\n",
              "  'type': '#15AFAC',\n",
              "  'size': (60, 80),\n",
              "  'position': (400, 0)},\n",
              " {'id': 5,\n",
              "  'properties': {'label': '5'},\n",
              "  'color': '#15AFAC',\n",
              "  'styles': {},\n",
              "  'label': '5',\n",
              "  'scale_factor': 1.0,\n",
              "  'type': '#15AFAC',\n",
              "  'size': (60, 80),\n",
              "  'position': (500, 0)},\n",
              " {'id': 6,\n",
              "  'properties': {'label': '6'},\n",
              "  'color': '#15AFAC',\n",
              "  'styles': {},\n",
              "  'label': '6',\n",
              "  'scale_factor': 1.0,\n",
              "  'type': '#15AFAC',\n",
              "  'size': (60, 80),\n",
              "  'position': (600, 0)},\n",
              " {'id': 7,\n",
              "  'properties': {'label': '7'},\n",
              "  'color': '#15AFAC',\n",
              "  'styles': {},\n",
              "  'label': '7',\n",
              "  'scale_factor': 1.0,\n",
              "  'type': '#15AFAC',\n",
              "  'size': (60, 80),\n",
              "  'position': (700, 0)},\n",
              " {'id': 8,\n",
              "  'properties': {'label': '8'},\n",
              "  'color': '#15AFAC',\n",
              "  'styles': {},\n",
              "  'label': '8',\n",
              "  'scale_factor': 1.0,\n",
              "  'type': '#15AFAC',\n",
              "  'size': (60, 80),\n",
              "  'position': (800, 0)},\n",
              " {'id': 9,\n",
              "  'properties': {'label': '9'},\n",
              "  'color': '#15AFAC',\n",
              "  'styles': {},\n",
              "  'label': '9',\n",
              "  'scale_factor': 1.0,\n",
              "  'type': '#15AFAC',\n",
              "  'size': (60, 80),\n",
              "  'position': (900, 0)}]"
            ]
          },
          "metadata": {},
          "execution_count": 9
        }
      ],
      "source": [
        "w.nodes"
      ]
    },
    {
      "cell_type": "markdown",
      "id": "cf8ed865-7595-4b50-98fd-e0156f59f058",
      "metadata": {
        "id": "cf8ed865-7595-4b50-98fd-e0156f59f058"
      },
      "source": [
        "If a node layout mapping is deleted, the layout mapping reverts back to the default mapping.\n",
        "\n",
        "The default layout mapping is ```None```, hence the position and size mappings are used."
      ]
    },
    {
      "cell_type": "code",
      "execution_count": 10,
      "id": "1f81aa8b-29a8-4c81-a1af-b550b3df6170",
      "metadata": {
        "id": "1f81aa8b-29a8-4c81-a1af-b550b3df6170",
        "outputId": "ec485ac0-49e2-4127-dbfb-0e6b51170a48",
        "colab": {
          "base_uri": "https://localhost:8080/",
          "height": 188
        }
      },
      "outputs": [
        {
          "output_type": "execute_result",
          "data": {
            "text/plain": [
              "<function yfiles_jupyter_graphs.widget.GraphWidget.default_node_layout_mapping(index: int, node: Dict)>"
            ],
            "text/html": [
              "<div style=\"max-width:800px; border: 1px solid var(--colab-border-color);\"><style>\n",
              "      pre.function-repr-contents {\n",
              "        overflow-x: auto;\n",
              "        padding: 8px 12px;\n",
              "        max-height: 500px;\n",
              "      }\n",
              "\n",
              "      pre.function-repr-contents.function-repr-contents-collapsed {\n",
              "        cursor: pointer;\n",
              "        max-height: 100px;\n",
              "      }\n",
              "    </style>\n",
              "    <pre style=\"white-space: initial; background:\n",
              "         var(--colab-secondary-surface-color); padding: 8px 12px;\n",
              "         border-bottom: 1px solid var(--colab-border-color);\"><b>yfiles_jupyter_graphs.widget.GraphWidget.default_node_layout_mapping</b><br/>def default_node_layout_mapping(index: int, node: TDict)</pre><pre class=\"function-repr-contents function-repr-contents-collapsed\" style=\"\"><a class=\"filepath\" style=\"display:none\" href=\"#\">/usr/local/lib/python3.10/dist-packages/yfiles_jupyter_graphs/widget.py</a>The default layout mapping for nodes.\n",
              "\n",
              "Provides constant value None for all nodes.\n",
              "Position and size mappings are used instead.\n",
              "Default position and size mappings are a constant value of 0.0, 0.0 and 55.0,55.0 respectively.\n",
              "\n",
              "Parameters\n",
              "----------\n",
              "index: int (optional)\n",
              "node: typing.Dict\n",
              "\n",
              "Notes\n",
              "-----\n",
              "This is the default value for the `node_layout_mapping` property.\n",
              "Can be &#x27;overwritten&#x27; by setting the property\n",
              "with a function returning a float 4-tuple.\n",
              "\n",
              "The layout overwrites position and size mappings if not None.\n",
              "\n",
              "If the given mapping function has only one parameter (that is not typed as int),\n",
              "then it will be called with the element (typing.Dict) as first parameter.\n",
              "\n",
              "Example\n",
              "-------\n",
              ".. code::\n",
              "\n",
              "   from yfiles_jupyter_graphs import GraphWidget\n",
              "   w = GraphWidget()\n",
              "   def custom_node_layout_mapping(node: typing.Dict):\n",
              "   ...\n",
              "   w.set_node_layout_mapping(custom_node_layout_mapping)\n",
              "\n",
              "Returns\n",
              "-------\n",
              "layout: None | float 4-tuple</pre>\n",
              "      <script>\n",
              "      if (google.colab.kernel.accessAllowed && google.colab.files && google.colab.files.view) {\n",
              "        for (const element of document.querySelectorAll('.filepath')) {\n",
              "          element.style.display = 'block'\n",
              "          element.onclick = (event) => {\n",
              "            event.preventDefault();\n",
              "            event.stopPropagation();\n",
              "            google.colab.files.view(element.textContent, 1749);\n",
              "          };\n",
              "        }\n",
              "      }\n",
              "      for (const element of document.querySelectorAll('.function-repr-contents')) {\n",
              "        element.onclick = (event) => {\n",
              "          event.preventDefault();\n",
              "          event.stopPropagation();\n",
              "          element.classList.toggle('function-repr-contents-collapsed');\n",
              "        };\n",
              "      }\n",
              "      </script>\n",
              "      </div>"
            ]
          },
          "metadata": {},
          "execution_count": 10
        }
      ],
      "source": [
        "w.del_node_layout_mapping()\n",
        "w.get_node_layout_mapping()"
      ]
    }
  ],
  "metadata": {
    "kernelspec": {
      "display_name": "Python 3 (ipykernel)",
      "language": "python",
      "name": "python3"
    },
    "language_info": {
      "codemirror_mode": {
        "name": "ipython",
        "version": 3
      },
      "file_extension": ".py",
      "mimetype": "text/x-python",
      "name": "python",
      "nbconvert_exporter": "python",
      "pygments_lexer": "ipython3",
      "version": "3.11.3"
    },
    "colab": {
      "provenance": []
    },
    "widgets": {
      "application/vnd.jupyter.widget-state+json": {
        "eea6fbd959374264886245e05f1c244a": {
          "model_module": "yfiles-jupyter-graphs",
          "model_name": "GraphModel",
          "model_module_version": "^1.8.1",
          "state": {
            "_context_pane_mapping": [
              {
                "id": "Neighborhood",
                "title": "Neighborhood"
              },
              {
                "id": "Data",
                "title": "Data"
              },
              {
                "id": "Search",
                "title": "Search"
              },
              {
                "id": "About",
                "title": "About"
              }
            ],
            "_data_importer": "networkx",
            "_directed": false,
            "_dom_classes": [],
            "_edges": [
              {
                "id": 0,
                "start": 0,
                "end": 3,
                "properties": {},
                "label": "",
                "color": "#15AFAC",
                "thickness_factor": 1,
                "directed": false
              },
              {
                "id": 1,
                "start": 0,
                "end": 4,
                "properties": {},
                "label": "",
                "color": "#15AFAC",
                "thickness_factor": 1,
                "directed": false
              },
              {
                "id": 2,
                "start": 1,
                "end": 4,
                "properties": {},
                "label": "",
                "color": "#15AFAC",
                "thickness_factor": 1,
                "directed": false
              },
              {
                "id": 3,
                "start": 2,
                "end": 5,
                "properties": {},
                "label": "",
                "color": "#15AFAC",
                "thickness_factor": 1,
                "directed": false
              },
              {
                "id": 4,
                "start": 2,
                "end": 6,
                "properties": {},
                "label": "",
                "color": "#15AFAC",
                "thickness_factor": 1,
                "directed": false
              },
              {
                "id": 5,
                "start": 2,
                "end": 7,
                "properties": {},
                "label": "",
                "color": "#15AFAC",
                "thickness_factor": 1,
                "directed": false
              },
              {
                "id": 6,
                "start": 3,
                "end": 8,
                "properties": {},
                "label": "",
                "color": "#15AFAC",
                "thickness_factor": 1,
                "directed": false
              },
              {
                "id": 7,
                "start": 3,
                "end": 9,
                "properties": {},
                "label": "",
                "color": "#15AFAC",
                "thickness_factor": 1,
                "directed": false
              },
              {
                "id": 8,
                "start": 4,
                "end": 6,
                "properties": {},
                "label": "",
                "color": "#15AFAC",
                "thickness_factor": 1,
                "directed": false
              },
              {
                "id": 9,
                "start": 5,
                "end": 6,
                "properties": {},
                "label": "",
                "color": "#15AFAC",
                "thickness_factor": 1,
                "directed": false
              }
            ],
            "_graph_layout": {},
            "_highlight": [],
            "_license": {},
            "_model_module": "yfiles-jupyter-graphs",
            "_model_module_version": "^1.8.1",
            "_model_name": "GraphModel",
            "_neighborhood": {},
            "_nodes": [
              {
                "id": 0,
                "properties": {
                  "label": "0"
                },
                "color": "#15AFAC",
                "styles": {},
                "label": "0",
                "scale_factor": 1,
                "type": "#15AFAC",
                "size": [
                  55,
                  55
                ],
                "position": [
                  0,
                  0
                ]
              },
              {
                "id": 1,
                "properties": {
                  "label": "1"
                },
                "color": "#15AFAC",
                "styles": {},
                "label": "1",
                "scale_factor": 1,
                "type": "#15AFAC",
                "size": [
                  55,
                  55
                ],
                "position": [
                  0,
                  0
                ]
              },
              {
                "id": 2,
                "properties": {
                  "label": "2"
                },
                "color": "#15AFAC",
                "styles": {},
                "label": "2",
                "scale_factor": 1,
                "type": "#15AFAC",
                "size": [
                  55,
                  55
                ],
                "position": [
                  0,
                  0
                ]
              },
              {
                "id": 3,
                "properties": {
                  "label": "3"
                },
                "color": "#15AFAC",
                "styles": {},
                "label": "3",
                "scale_factor": 1,
                "type": "#15AFAC",
                "size": [
                  55,
                  55
                ],
                "position": [
                  0,
                  0
                ]
              },
              {
                "id": 4,
                "properties": {
                  "label": "4"
                },
                "color": "#15AFAC",
                "styles": {},
                "label": "4",
                "scale_factor": 1,
                "type": "#15AFAC",
                "size": [
                  55,
                  55
                ],
                "position": [
                  0,
                  0
                ]
              },
              {
                "id": 5,
                "properties": {
                  "label": "5"
                },
                "color": "#15AFAC",
                "styles": {},
                "label": "5",
                "scale_factor": 1,
                "type": "#15AFAC",
                "size": [
                  55,
                  55
                ],
                "position": [
                  0,
                  0
                ]
              },
              {
                "id": 6,
                "properties": {
                  "label": "6"
                },
                "color": "#15AFAC",
                "styles": {},
                "label": "6",
                "scale_factor": 1,
                "type": "#15AFAC",
                "size": [
                  55,
                  55
                ],
                "position": [
                  0,
                  0
                ]
              },
              {
                "id": 7,
                "properties": {
                  "label": "7"
                },
                "color": "#15AFAC",
                "styles": {},
                "label": "7",
                "scale_factor": 1,
                "type": "#15AFAC",
                "size": [
                  55,
                  55
                ],
                "position": [
                  0,
                  0
                ]
              },
              {
                "id": 8,
                "properties": {
                  "label": "8"
                },
                "color": "#15AFAC",
                "styles": {},
                "label": "8",
                "scale_factor": 1,
                "type": "#15AFAC",
                "size": [
                  55,
                  55
                ],
                "position": [
                  0,
                  0
                ]
              },
              {
                "id": 9,
                "properties": {
                  "label": "9"
                },
                "color": "#15AFAC",
                "styles": {},
                "label": "9",
                "scale_factor": 1,
                "type": "#15AFAC",
                "size": [
                  55,
                  55
                ],
                "position": [
                  0,
                  0
                ]
              }
            ],
            "_overview": {
              "enabled": null,
              "overview_set": false
            },
            "_selected_graph": [
              [],
              []
            ],
            "_sidebar": {
              "enabled": false,
              "start_with": null
            },
            "_view_count": null,
            "_view_module": "yfiles-jupyter-graphs",
            "_view_module_version": "^1.8.1",
            "_view_name": "GraphView",
            "layout": "IPY_MODEL_3898e66a62a24068b44e1a10e8171397",
            "tabbable": null,
            "tooltip": null
          }
        },
        "3898e66a62a24068b44e1a10e8171397": {
          "model_module": "@jupyter-widgets/base",
          "model_name": "LayoutModel",
          "model_module_version": "2.0.0",
          "state": {
            "_model_module": "@jupyter-widgets/base",
            "_model_module_version": "2.0.0",
            "_model_name": "LayoutModel",
            "_view_count": null,
            "_view_module": "@jupyter-widgets/base",
            "_view_module_version": "2.0.0",
            "_view_name": "LayoutView",
            "align_content": null,
            "align_items": null,
            "align_self": null,
            "border_bottom": null,
            "border_left": null,
            "border_right": null,
            "border_top": null,
            "bottom": null,
            "display": null,
            "flex": null,
            "flex_flow": null,
            "grid_area": null,
            "grid_auto_columns": null,
            "grid_auto_flow": null,
            "grid_auto_rows": null,
            "grid_column": null,
            "grid_gap": null,
            "grid_row": null,
            "grid_template_areas": null,
            "grid_template_columns": null,
            "grid_template_rows": null,
            "height": "500px",
            "justify_content": null,
            "justify_items": null,
            "left": null,
            "margin": null,
            "max_height": null,
            "max_width": null,
            "min_height": null,
            "min_width": null,
            "object_fit": null,
            "object_position": null,
            "order": null,
            "overflow": null,
            "padding": null,
            "right": null,
            "top": null,
            "visibility": null,
            "width": "100%"
          }
        },
        "0eb59314b39f4da88c2c1b8ed7b2883f": {
          "model_module": "yfiles-jupyter-graphs",
          "model_name": "GraphModel",
          "model_module_version": "^1.8.1",
          "state": {
            "_context_pane_mapping": [
              {
                "id": "Neighborhood",
                "title": "Neighborhood"
              },
              {
                "id": "Data",
                "title": "Data"
              },
              {
                "id": "Search",
                "title": "Search"
              },
              {
                "id": "About",
                "title": "About"
              }
            ],
            "_data_importer": "networkx",
            "_directed": false,
            "_dom_classes": [],
            "_edges": [
              {
                "id": 0,
                "start": 0,
                "end": 3,
                "properties": {},
                "label": "",
                "color": "#15AFAC",
                "thickness_factor": 1,
                "directed": false
              },
              {
                "id": 1,
                "start": 0,
                "end": 4,
                "properties": {},
                "label": "",
                "color": "#15AFAC",
                "thickness_factor": 1,
                "directed": false
              },
              {
                "id": 2,
                "start": 1,
                "end": 4,
                "properties": {},
                "label": "",
                "color": "#15AFAC",
                "thickness_factor": 1,
                "directed": false
              },
              {
                "id": 3,
                "start": 2,
                "end": 5,
                "properties": {},
                "label": "",
                "color": "#15AFAC",
                "thickness_factor": 1,
                "directed": false
              },
              {
                "id": 4,
                "start": 2,
                "end": 6,
                "properties": {},
                "label": "",
                "color": "#15AFAC",
                "thickness_factor": 1,
                "directed": false
              },
              {
                "id": 5,
                "start": 2,
                "end": 7,
                "properties": {},
                "label": "",
                "color": "#15AFAC",
                "thickness_factor": 1,
                "directed": false
              },
              {
                "id": 6,
                "start": 3,
                "end": 8,
                "properties": {},
                "label": "",
                "color": "#15AFAC",
                "thickness_factor": 1,
                "directed": false
              },
              {
                "id": 7,
                "start": 3,
                "end": 9,
                "properties": {},
                "label": "",
                "color": "#15AFAC",
                "thickness_factor": 1,
                "directed": false
              },
              {
                "id": 8,
                "start": 4,
                "end": 6,
                "properties": {},
                "label": "",
                "color": "#15AFAC",
                "thickness_factor": 1,
                "directed": false
              },
              {
                "id": 9,
                "start": 5,
                "end": 6,
                "properties": {},
                "label": "",
                "color": "#15AFAC",
                "thickness_factor": 1,
                "directed": false
              }
            ],
            "_graph_layout": {
              "algorithm": "orthogonal_edge_router",
              "options": {}
            },
            "_highlight": [],
            "_license": {},
            "_model_module": "yfiles-jupyter-graphs",
            "_model_module_version": "^1.8.1",
            "_model_name": "GraphModel",
            "_neighborhood": {},
            "_nodes": [
              {
                "id": 0,
                "properties": {
                  "label": "0"
                },
                "color": "#15AFAC",
                "styles": {},
                "label": "0",
                "scale_factor": 1,
                "type": "#15AFAC",
                "size": [
                  60,
                  80
                ],
                "position": [
                  0,
                  0
                ]
              },
              {
                "id": 1,
                "properties": {
                  "label": "1"
                },
                "color": "#15AFAC",
                "styles": {},
                "label": "1",
                "scale_factor": 1,
                "type": "#15AFAC",
                "size": [
                  60,
                  80
                ],
                "position": [
                  100,
                  0
                ]
              },
              {
                "id": 2,
                "properties": {
                  "label": "2"
                },
                "color": "#15AFAC",
                "styles": {},
                "label": "2",
                "scale_factor": 1,
                "type": "#15AFAC",
                "size": [
                  60,
                  80
                ],
                "position": [
                  200,
                  0
                ]
              },
              {
                "id": 3,
                "properties": {
                  "label": "3"
                },
                "color": "#15AFAC",
                "styles": {},
                "label": "3",
                "scale_factor": 1,
                "type": "#15AFAC",
                "size": [
                  60,
                  80
                ],
                "position": [
                  300,
                  0
                ]
              },
              {
                "id": 4,
                "properties": {
                  "label": "4"
                },
                "color": "#15AFAC",
                "styles": {},
                "label": "4",
                "scale_factor": 1,
                "type": "#15AFAC",
                "size": [
                  60,
                  80
                ],
                "position": [
                  400,
                  0
                ]
              },
              {
                "id": 5,
                "properties": {
                  "label": "5"
                },
                "color": "#15AFAC",
                "styles": {},
                "label": "5",
                "scale_factor": 1,
                "type": "#15AFAC",
                "size": [
                  60,
                  80
                ],
                "position": [
                  500,
                  0
                ]
              },
              {
                "id": 6,
                "properties": {
                  "label": "6"
                },
                "color": "#15AFAC",
                "styles": {},
                "label": "6",
                "scale_factor": 1,
                "type": "#15AFAC",
                "size": [
                  60,
                  80
                ],
                "position": [
                  600,
                  0
                ]
              },
              {
                "id": 7,
                "properties": {
                  "label": "7"
                },
                "color": "#15AFAC",
                "styles": {},
                "label": "7",
                "scale_factor": 1,
                "type": "#15AFAC",
                "size": [
                  60,
                  80
                ],
                "position": [
                  700,
                  0
                ]
              },
              {
                "id": 8,
                "properties": {
                  "label": "8"
                },
                "color": "#15AFAC",
                "styles": {},
                "label": "8",
                "scale_factor": 1,
                "type": "#15AFAC",
                "size": [
                  60,
                  80
                ],
                "position": [
                  800,
                  0
                ]
              },
              {
                "id": 9,
                "properties": {
                  "label": "9"
                },
                "color": "#15AFAC",
                "styles": {},
                "label": "9",
                "scale_factor": 1,
                "type": "#15AFAC",
                "size": [
                  60,
                  80
                ],
                "position": [
                  900,
                  0
                ]
              }
            ],
            "_overview": {
              "enabled": null,
              "overview_set": false
            },
            "_selected_graph": [
              [],
              []
            ],
            "_sidebar": {
              "enabled": false,
              "start_with": null
            },
            "_view_count": null,
            "_view_module": "yfiles-jupyter-graphs",
            "_view_module_version": "^1.8.1",
            "_view_name": "GraphView",
            "layout": "IPY_MODEL_306d60b119ac4aeca140aa45d6274e95",
            "tabbable": null,
            "tooltip": null
          }
        },
        "306d60b119ac4aeca140aa45d6274e95": {
          "model_module": "@jupyter-widgets/base",
          "model_name": "LayoutModel",
          "model_module_version": "2.0.0",
          "state": {
            "_model_module": "@jupyter-widgets/base",
            "_model_module_version": "2.0.0",
            "_model_name": "LayoutModel",
            "_view_count": null,
            "_view_module": "@jupyter-widgets/base",
            "_view_module_version": "2.0.0",
            "_view_name": "LayoutView",
            "align_content": null,
            "align_items": null,
            "align_self": null,
            "border_bottom": null,
            "border_left": null,
            "border_right": null,
            "border_top": null,
            "bottom": null,
            "display": null,
            "flex": null,
            "flex_flow": null,
            "grid_area": null,
            "grid_auto_columns": null,
            "grid_auto_flow": null,
            "grid_auto_rows": null,
            "grid_column": null,
            "grid_gap": null,
            "grid_row": null,
            "grid_template_areas": null,
            "grid_template_columns": null,
            "grid_template_rows": null,
            "height": "500px",
            "justify_content": null,
            "justify_items": null,
            "left": null,
            "margin": null,
            "max_height": null,
            "max_width": null,
            "min_height": null,
            "min_width": null,
            "object_fit": null,
            "object_position": null,
            "order": null,
            "overflow": null,
            "padding": null,
            "right": null,
            "top": null,
            "visibility": null,
            "width": "100%"
          }
        },
        "state": {}
      }
    }
  },
  "nbformat": 4,
  "nbformat_minor": 5
}