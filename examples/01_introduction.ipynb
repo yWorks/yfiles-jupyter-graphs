{
  "cells": [
    {
      "cell_type": "markdown",
      "id": "899447e4-f4dc-4491-be22-46ed1591fc71",
      "metadata": {
        "id": "899447e4-f4dc-4491-be22-46ed1591fc71"
      },
      "source": [
        "# yFiles Graphs for Jupyter <a target=\"_blank\" href=\"https://colab.research.google.com/github/yWorks/yfiles-jupyter-graphs/blob/main/examples/01_introduction.ipynb\"><img src=\"https://colab.research.google.com/assets/colab-badge.svg\" alt=\"Open In Colab\"/></a>"
      ]
    },
    {
      "cell_type": "markdown",
      "id": "08285758-8025-40d1-9cfd-3de06ba59693",
      "metadata": {
        "id": "08285758-8025-40d1-9cfd-3de06ba59693"
      },
      "source": [
        "### Before using the widget, make sure to install the required packages\n",
        "\n",
        "Ensure you have the necessary packages installed by running the following commands:\n",
        "- ```%pip install yfiles_jupyter_graphs --quiet```\n",
        "- ```from yfiles_jupyter_graphs import GraphWidget```"
      ]
    },
    {
      "cell_type": "code",
      "execution_count": 13,
      "id": "40c51747-64bc-49f2-90c0-c0ff79d24048",
      "metadata": {
        "id": "40c51747-64bc-49f2-90c0-c0ff79d24048"
      },
      "outputs": [],
      "source": [
        "%pip install yfiles_jupyter_graphs --quiet\n",
        "from yfiles_jupyter_graphs import GraphWidget"
      ]
    },
    {
      "cell_type": "markdown",
      "id": "651c2e90-4f3b-4b25-9404-735288b25771",
      "metadata": {
        "id": "651c2e90-4f3b-4b25-9404-735288b25771"
      },
      "source": [
        "You can also open this notebook in Google Colab when Google Colab's custom widget manager is enabled:"
      ]
    },
    {
      "cell_type": "code",
      "execution_count": 14,
      "id": "01400028-72b5-47ff-a5bc-5d9f64f0df31",
      "metadata": {
        "id": "01400028-72b5-47ff-a5bc-5d9f64f0df31"
      },
      "outputs": [],
      "source": [
        "try:\n",
        "  import google.colab\n",
        "  from google.colab import output\n",
        "  output.enable_custom_widget_manager()\n",
        "except:\n",
        "  pass"
      ]
    },
    {
      "cell_type": "markdown",
      "id": "e7a4c051-be35-4269-a322-32a147cf02cd",
      "metadata": {
        "id": "e7a4c051-be35-4269-a322-32a147cf02cd"
      },
      "source": [
        "<a target=\"_blank\" href=\"https://colab.research.google.com/github/yWorks/yfiles-jupyter-graphs/blob/main/examples/01_introduction.ipynb\"><img src=\"https://colab.research.google.com/assets/colab-badge.svg\" alt=\"Open In Colab\"/></a>"
      ]
    },
    {
      "cell_type": "markdown",
      "id": "f0823ca8-ea68-4bdd-863c-09b0524aa96e",
      "metadata": {
        "id": "f0823ca8-ea68-4bdd-863c-09b0524aa96e"
      },
      "source": [
        "## How to create a new graph\n",
        "Before specifying nodes or edges, initialize a new graph widget. You can do this by creating a new instance, for example, `w = GraphWidget()`\n",
        "\n",
        "- Nodes always have an \"id,\" and any additional data can be added to the \"properties\" dictionary. The \"id\" is used by the edges to identify which nodes to connect.\n",
        "  \n",
        "- Edges always consist of an \"id,\" \"start,\" and \"end.\" Edges have a customizable \"properties\" dictionary that can store additional data.\n",
        "\n",
        "- Edges are visualized undirected unless specified otherwise by setting the `directed` property on the widget or defining the `directed_mapping` per edge."
      ]
    },
    {
      "cell_type": "code",
      "execution_count": 15,
      "id": "e09589a6-ce29-4da1-9578-90dc4b4394ba",
      "metadata": {
        "id": "e09589a6-ce29-4da1-9578-90dc4b4394ba"
      },
      "outputs": [],
      "source": [
        "w = GraphWidget()\n",
        "w.nodes = [\n",
        "    {\"id\": 0, \"properties\": {\"firstName\": \"Alpha\", \"label\": \"Person A\"}},\n",
        "    {\"id\": \"one\", \"properties\": {\"firstName\": \"Bravo\", \"label\": \"Person B\"}},\n",
        "    {\"id\": 2.0, \"properties\": {\"firstName\": \"Charlie\", \"label\": \"Person C\", \"has_hat\": False}},\n",
        "    {\"id\": True, \"properties\": {\"firstName\": \"Delta\", \"label\": \"Person D\", \"likes_pizza\": True}}\n",
        "]\n",
        "w.edges = [\n",
        "    {\"id\": \"zero\", \"start\": 0, \"end\": \"one\", \"properties\": {\"since\": \"1992\", \"label\": \"knows\"}},\n",
        "    {\"id\": 1, \"start\": \"one\", \"end\": True, \"properties\": {\"label\": \"knows\", \"since\": \"1992\"}},\n",
        "    {\"id\": 2.0, \"start\": 2.0, \"end\": True, \"properties\": {\"label\": \"knows\", \"since\": \"1992\"}},\n",
        "    {\"id\": False, \"start\": 0, \"end\": 2.0, \"properties\": {\"label\": \"knows\", \"since\": 234}}\n",
        "]\n",
        "w.directed = True"
      ]
    },
    {
      "cell_type": "markdown",
      "id": "9d9ea06a-130f-4103-bd1a-6fda3ae084bb",
      "metadata": {
        "id": "9d9ea06a-130f-4103-bd1a-6fda3ae084bb"
      },
      "source": [
        "To display the current state of the widget, you can either use ```display(w)```, ```w.show()``` or ```w```"
      ]
    },
    {
      "cell_type": "code",
      "execution_count": 16,
      "id": "055f895e-6934-45e4-8ed5-e1e423c9ce09",
      "metadata": {
        "id": "055f895e-6934-45e4-8ed5-e1e423c9ce09",
        "outputId": "69c2c53b-b072-4f1c-db6f-4b24288c093f",
        "colab": {
          "base_uri": "https://localhost:8080/",
          "height": 517,
          "referenced_widgets": [
            "fdfdd5c491d3456eb6346141a833e381",
            "d3b86df3ae9942ca8de32531bcb6b2b4"
          ]
        }
      },
      "outputs": [
        {
          "output_type": "display_data",
          "data": {
            "text/plain": [
              "GraphWidget(layout=Layout(height='500px', width='100%'))"
            ],
            "application/vnd.jupyter.widget-view+json": {
              "version_major": 2,
              "version_minor": 0,
              "model_id": "fdfdd5c491d3456eb6346141a833e381"
            }
          },
          "metadata": {
            "application/vnd.jupyter.widget-view+json": {
              "colab": {
                "custom_widget_manager": {
                  "url": "https://ssl.gstatic.com/colaboratory-static/widgets/colab-cdn-widget-manager/2b70e893a8ba7c0f/manager.min.js"
                }
              }
            }
          }
        }
      ],
      "source": [
        "display(w)"
      ]
    },
    {
      "cell_type": "markdown",
      "id": "0e3f207e-b1ac-48a3-89f3-75f5dbb03013",
      "metadata": {
        "id": "0e3f207e-b1ac-48a3-89f3-75f5dbb03013"
      },
      "source": [
        "## Nodes\n",
        "\n",
        "Nodes in this graph come with a variety of style properties that can be customized through mapping functions. These properties can be altered to change the appearance and attributes of each node, providing flexible graph representation.\n",
        "\n",
        "If no explicit values are set, the default mappings are used, resulting in the following values."
      ]
    },
    {
      "cell_type": "code",
      "execution_count": 17,
      "id": "6f5c56bf-c4d3-4dc1-a6dd-5e640d913d21",
      "metadata": {
        "id": "6f5c56bf-c4d3-4dc1-a6dd-5e640d913d21",
        "outputId": "a903d426-cfa2-4f8c-ee1f-4776138bc188",
        "colab": {
          "base_uri": "https://localhost:8080/"
        }
      },
      "outputs": [
        {
          "output_type": "execute_result",
          "data": {
            "text/plain": [
              "[{'id': 0,\n",
              "  'properties': {'firstName': 'Alpha', 'label': 'Person A'},\n",
              "  'color': '#15AFAC',\n",
              "  'styles': {},\n",
              "  'label': 'Person A',\n",
              "  'scale_factor': 1.0,\n",
              "  'type': '#15AFAC',\n",
              "  'size': (55.0, 55.0),\n",
              "  'position': (0.0, 0.0)},\n",
              " {'id': 'one',\n",
              "  'properties': {'firstName': 'Bravo', 'label': 'Person B'},\n",
              "  'color': '#15AFAC',\n",
              "  'styles': {},\n",
              "  'label': 'Person B',\n",
              "  'scale_factor': 1.0,\n",
              "  'type': '#15AFAC',\n",
              "  'size': (55.0, 55.0),\n",
              "  'position': (0.0, 0.0)},\n",
              " {'id': 2.0,\n",
              "  'properties': {'firstName': 'Charlie',\n",
              "   'label': 'Person C',\n",
              "   'has_hat': False},\n",
              "  'color': '#15AFAC',\n",
              "  'styles': {},\n",
              "  'label': 'Person C',\n",
              "  'scale_factor': 1.0,\n",
              "  'type': '#15AFAC',\n",
              "  'size': (55.0, 55.0),\n",
              "  'position': (0.0, 0.0)},\n",
              " {'id': True,\n",
              "  'properties': {'firstName': 'Delta',\n",
              "   'label': 'Person D',\n",
              "   'likes_pizza': True},\n",
              "  'color': '#15AFAC',\n",
              "  'styles': {},\n",
              "  'label': 'Person D',\n",
              "  'scale_factor': 1.0,\n",
              "  'type': '#15AFAC',\n",
              "  'size': (55.0, 55.0),\n",
              "  'position': (0.0, 0.0)}]"
            ]
          },
          "metadata": {},
          "execution_count": 17
        }
      ],
      "source": [
        "w.nodes"
      ]
    },
    {
      "cell_type": "markdown",
      "id": "1f5d3a78-75fa-4f0d-a8b0-fe60fc69012a",
      "metadata": {
        "id": "1f5d3a78-75fa-4f0d-a8b0-fe60fc69012a"
      },
      "source": [
        "## Edges\n",
        "\n",
        "Similar to nodes, edges come with customizable properties. These values can be adjusted to suit specific graph visualization needs, while default values are as follows."
      ]
    },
    {
      "cell_type": "code",
      "execution_count": 18,
      "id": "43a47347-36c1-49af-a6bc-3207329fd54a",
      "metadata": {
        "id": "43a47347-36c1-49af-a6bc-3207329fd54a",
        "outputId": "a62c84e7-4838-48f1-e4eb-feccdda01ae8",
        "colab": {
          "base_uri": "https://localhost:8080/"
        }
      },
      "outputs": [
        {
          "output_type": "execute_result",
          "data": {
            "text/plain": [
              "[{'id': 'zero',\n",
              "  'start': 0,\n",
              "  'end': 'one',\n",
              "  'properties': {'since': '1992', 'label': 'knows'},\n",
              "  'label': 'knows',\n",
              "  'color': '#15AFAC',\n",
              "  'thickness_factor': 1.0,\n",
              "  'directed': True},\n",
              " {'id': 1,\n",
              "  'start': 'one',\n",
              "  'end': True,\n",
              "  'properties': {'label': 'knows', 'since': '1992'},\n",
              "  'label': 'knows',\n",
              "  'color': '#15AFAC',\n",
              "  'thickness_factor': 1.0,\n",
              "  'directed': True},\n",
              " {'id': 2.0,\n",
              "  'start': 2.0,\n",
              "  'end': True,\n",
              "  'properties': {'label': 'knows', 'since': '1992'},\n",
              "  'label': 'knows',\n",
              "  'color': '#15AFAC',\n",
              "  'thickness_factor': 1.0,\n",
              "  'directed': True},\n",
              " {'id': False,\n",
              "  'start': 0,\n",
              "  'end': 2.0,\n",
              "  'properties': {'label': 'knows', 'since': 234},\n",
              "  'label': 'knows',\n",
              "  'color': '#15AFAC',\n",
              "  'thickness_factor': 1.0,\n",
              "  'directed': True}]"
            ]
          },
          "metadata": {},
          "execution_count": 18
        }
      ],
      "source": [
        "w.edges"
      ]
    }
  ],
  "metadata": {
    "kernelspec": {
      "display_name": "Python 3 (ipykernel)",
      "language": "python",
      "name": "python3"
    },
    "language_info": {
      "codemirror_mode": {
        "name": "ipython",
        "version": 3
      },
      "file_extension": ".py",
      "mimetype": "text/x-python",
      "name": "python",
      "nbconvert_exporter": "python",
      "pygments_lexer": "ipython3",
      "version": "3.11.3"
    },
    "colab": {
      "provenance": []
    },
    "widgets": {
      "application/vnd.jupyter.widget-state+json": {
        "fdfdd5c491d3456eb6346141a833e381": {
          "model_module": "yfiles-jupyter-graphs",
          "model_name": "GraphModel",
          "model_module_version": "^1.8.1",
          "state": {
            "_context_pane_mapping": [
              {
                "id": "Neighborhood",
                "title": "Neighborhood"
              },
              {
                "id": "Data",
                "title": "Data"
              },
              {
                "id": "Search",
                "title": "Search"
              },
              {
                "id": "About",
                "title": "About"
              }
            ],
            "_data_importer": "unknown",
            "_directed": true,
            "_dom_classes": [],
            "_edges": [
              {
                "id": "zero",
                "start": 0,
                "end": "one",
                "properties": {
                  "since": "1992",
                  "label": "knows"
                },
                "label": "knows",
                "color": "#15AFAC",
                "thickness_factor": 1,
                "directed": true
              },
              {
                "id": 1,
                "start": "one",
                "end": true,
                "properties": {
                  "label": "knows",
                  "since": "1992"
                },
                "label": "knows",
                "color": "#15AFAC",
                "thickness_factor": 1,
                "directed": true
              },
              {
                "id": 2,
                "start": 2,
                "end": true,
                "properties": {
                  "label": "knows",
                  "since": "1992"
                },
                "label": "knows",
                "color": "#15AFAC",
                "thickness_factor": 1,
                "directed": true
              },
              {
                "id": false,
                "start": 0,
                "end": 2,
                "properties": {
                  "label": "knows",
                  "since": 234
                },
                "label": "knows",
                "color": "#15AFAC",
                "thickness_factor": 1,
                "directed": true
              }
            ],
            "_graph_layout": {},
            "_highlight": [],
            "_license": {},
            "_model_module": "yfiles-jupyter-graphs",
            "_model_module_version": "^1.8.1",
            "_model_name": "GraphModel",
            "_neighborhood": {},
            "_nodes": [
              {
                "id": 0,
                "properties": {
                  "firstName": "Alpha",
                  "label": "Person A"
                },
                "color": "#15AFAC",
                "styles": {},
                "label": "Person A",
                "scale_factor": 1,
                "type": "#15AFAC",
                "size": [
                  55,
                  55
                ],
                "position": [
                  0,
                  0
                ]
              },
              {
                "id": "one",
                "properties": {
                  "firstName": "Bravo",
                  "label": "Person B"
                },
                "color": "#15AFAC",
                "styles": {},
                "label": "Person B",
                "scale_factor": 1,
                "type": "#15AFAC",
                "size": [
                  55,
                  55
                ],
                "position": [
                  0,
                  0
                ]
              },
              {
                "id": 2,
                "properties": {
                  "firstName": "Charlie",
                  "label": "Person C",
                  "has_hat": false
                },
                "color": "#15AFAC",
                "styles": {},
                "label": "Person C",
                "scale_factor": 1,
                "type": "#15AFAC",
                "size": [
                  55,
                  55
                ],
                "position": [
                  0,
                  0
                ]
              },
              {
                "id": true,
                "properties": {
                  "firstName": "Delta",
                  "label": "Person D",
                  "likes_pizza": true
                },
                "color": "#15AFAC",
                "styles": {},
                "label": "Person D",
                "scale_factor": 1,
                "type": "#15AFAC",
                "size": [
                  55,
                  55
                ],
                "position": [
                  0,
                  0
                ]
              }
            ],
            "_overview": {
              "enabled": null,
              "overview_set": false
            },
            "_selected_graph": [
              [],
              []
            ],
            "_sidebar": {
              "enabled": false,
              "start_with": null
            },
            "_view_count": null,
            "_view_module": "yfiles-jupyter-graphs",
            "_view_module_version": "^1.8.1",
            "_view_name": "GraphView",
            "layout": "IPY_MODEL_d3b86df3ae9942ca8de32531bcb6b2b4",
            "tabbable": null,
            "tooltip": null
          }
        },
        "d3b86df3ae9942ca8de32531bcb6b2b4": {
          "model_module": "@jupyter-widgets/base",
          "model_name": "LayoutModel",
          "model_module_version": "2.0.0",
          "state": {
            "_model_module": "@jupyter-widgets/base",
            "_model_module_version": "2.0.0",
            "_model_name": "LayoutModel",
            "_view_count": null,
            "_view_module": "@jupyter-widgets/base",
            "_view_module_version": "2.0.0",
            "_view_name": "LayoutView",
            "align_content": null,
            "align_items": null,
            "align_self": null,
            "border_bottom": null,
            "border_left": null,
            "border_right": null,
            "border_top": null,
            "bottom": null,
            "display": null,
            "flex": null,
            "flex_flow": null,
            "grid_area": null,
            "grid_auto_columns": null,
            "grid_auto_flow": null,
            "grid_auto_rows": null,
            "grid_column": null,
            "grid_gap": null,
            "grid_row": null,
            "grid_template_areas": null,
            "grid_template_columns": null,
            "grid_template_rows": null,
            "height": "500px",
            "justify_content": null,
            "justify_items": null,
            "left": null,
            "margin": null,
            "max_height": null,
            "max_width": null,
            "min_height": null,
            "min_width": null,
            "object_fit": null,
            "object_position": null,
            "order": null,
            "overflow": null,
            "padding": null,
            "right": null,
            "top": null,
            "visibility": null,
            "width": "100%"
          }
        },
        "state": {}
      }
    }
  },
  "nbformat": 4,
  "nbformat_minor": 5
}
