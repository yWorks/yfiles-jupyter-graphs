{
  "cells": [
    {
      "cell_type": "markdown",
      "id": "39a146b2-68a2-4d75-8880-d72560c722b9",
      "metadata": {},
      "source": [
        "# Neo4j sample with graphdatascience package <a target=\"_blank\" href=\"https://colab.research.google.com/github/yWorks/yfiles-jupyter-graphs/blob/main/examples/27_neo4j-sample-gds_example.ipynb\"><img src=\"https://colab.research.google.com/assets/colab-badge.svg\" alt=\"Open In Colab\"/></a>\n",
        "\n",
        "This example notebook expects you to have these packages installed (using pip install or whatever works for you):"
      ]
    },
    {
      "cell_type": "code",
      "execution_count": null,
      "id": "9721bbd9-50f1-4df1-9a4a-0590966dc812",
      "metadata": {},
      "outputs": [],
      "source": [
        "%pip install yfiles_jupyter_graphs --quiet\n",
        "%pip install neo4j graphdatascience --quiet"
      ]
    },
    {
      "cell_type": "markdown",
      "id": "0211ad0e-af61-4c8c-a441-186fe2ec1937",
      "metadata": {},
      "source": [
        "You can also open this notebook in Google Colab when Google Colab's custom widget manager is enabled:"
      ]
    },
    {
      "cell_type": "code",
      "execution_count": null,
      "id": "91192c29-e451-4dd9-8a75-4be21a82ec17",
      "metadata": {},
      "outputs": [],
      "source": [
        "try:\n",
        "  import google.colab\n",
        "  from google.colab import output\n",
        "  output.enable_custom_widget_manager()\n",
        "except:\n",
        "  pass"
      ]
    },
    {
      "cell_type": "markdown",
      "id": "588dd44a-187c-4068-9f8e-7ebf3d91da11",
      "metadata": {},
      "source": [
        "<a target=\"_blank\" href=\"https://colab.research.google.com/github/yWorks/yfiles-jupyter-graphs/blob/main/examples/27_neo4j-sample-gds_example.ipynb\"><img src=\"https://colab.research.google.com/assets/colab-badge.svg\" alt=\"Open In Colab\"/></a>"
      ]
    },
    {
      "cell_type": "markdown",
      "id": "d2ae40c4-5a29-41b9-be5e-1a1dc4ae5bf0",
      "metadata": {},
      "source": [
        "The queries are meant to work with the airport example. So if you have GDS enabled and a database that contains the airport example from neo4j, just fill in your credentials in the next cell and give it a try!\n",
        "\n",
        "Insert your database connection credentials, here."
      ]
    },
    {
      "cell_type": "code",
      "execution_count": null,
      "id": "60668eea-f0bc-42dd-a1b8-e793ed9aef3d",
      "metadata": {},
      "outputs": [],
      "source": [
        "from neo4j import basic_auth\n",
        "\n",
        "db = \"neo4j+s://yourdatabaseid.databases.neo4j.io\"\n",
        "auth = basic_auth(\"username\", \"password\")\n"
      ]
    },
    {
      "cell_type": "code",
      "execution_count": null,
      "id": "593939fa-5bf4-408e-b349-96270b03ac74",
      "metadata": {},
      "outputs": [],
      "source": [
        "from neo4j import GraphDatabase\n",
        "\n",
        "driver = GraphDatabase.driver(db, auth=auth)\n",
        "\n",
        "with driver.session(database=\"neo4j\") as session:\n",
        "  graph = session.run(\"MATCH triple=(a:Airport)-[r]->() WHERE type(r) <> 'HAS_ROUTE'  RETURN triple LIMIT 25\").graph()\n",
        "\n",
        "from yfiles_jupyter_graphs import GraphWidget\n",
        "GraphWidget(graph = graph)"
      ]
    },
    {
      "cell_type": "code",
      "execution_count": null,
      "id": "d2772f54-21a5-4224-9ad0-8d2b38cf39ca",
      "metadata": {},
      "outputs": [],
      "source": [
        "driver = GraphDatabase.driver(\n",
        "  db,\n",
        "  auth=auth)\n",
        "\n",
        "with driver.session(database=\"neo4j\") as session:\n",
        "  graph = session.run(\"MATCH p=()-[r]->() WHERE type(r) <> 'HAS_ROUTE'  RETURN p LIMIT 25\").graph()\n",
        "\n",
        "from yfiles_jupyter_graphs import GraphWidget\n",
        "\n",
        "styles = {\n",
        "    \"Airport\": {\"color\":\"#6C7400\", \"shape\":\"ellipse\", \"label\":\"iata\"},\n",
        "    \"City\": {\"color\":\"#005977\", \"shape\":\"rectangle\", \"label\":\"name\"},\n",
        "    \"Region\": {\"color\":\"#386664\", \"shape\":\"rectangle\", \"label\":\"name\"},\n",
        "    \"Country\": {\"color\":\"#498381\", \"shape\":\"octagon\", \"label\":\"code\"},\n",
        "    \"Continent\": {\"color\":\"#254241\", \"shape\":\"hexagon\", \"label\":\"name\"}\n",
        "}   \n",
        "\n",
        "w = GraphWidget(graph = graph)\n",
        "w.set_edge_color_mapping(lambda edge : \"orange\" if edge[\"properties\"][\"label\"] == \"IN_COUNTRY\" else \"black\")\n",
        "w.set_node_styles_mapping(lambda node : styles.get(node[\"properties\"][\"label\"], {}))\n",
        "w.set_node_label_mapping(lambda node : node[\"properties\"][styles.get(node[\"properties\"][\"label\"], {\"label\":\"label\"})[\"label\"]])\n",
        "\n",
        "display(w)"
      ]
    },
    {
      "cell_type": "code",
      "execution_count": null,
      "id": "a91f2756-2a94-41d7-aaf7-e2c9f74f1ab3",
      "metadata": {},
      "outputs": [],
      "source": [
        "def createAirportGraph(neo4jGraph):\n",
        "  styles = {\n",
        "    \"Airport\": {\"color\":\"#6C7400\", \"shape\":\"ellipse\", \"label\":\"iata\"},\n",
        "    \"City\": {\"color\":\"#005977\", \"shape\":\"rectangle\", \"label\":\"name\"},\n",
        "    \"Region\": {\"color\":\"#386664\", \"shape\":\"rectangle\", \"label\":\"name\"},\n",
        "    \"Country\": {\"color\":\"#498381\", \"shape\":\"octagon\", \"label\":\"code\"},\n",
        "    \"Continent\": {\"color\":\"#254241\", \"shape\":\"hexagon\", \"label\":\"name\"}\n",
        "  }\n",
        "    \n",
        "  w = GraphWidget(graph = neo4jGraph)  \n",
        "\n",
        "  w.set_edge_color_mapping(lambda edge : \"orange\" if edge[\"properties\"][\"label\"] == \"IN_COUNTRY\" else \"black\")\n",
        "  w.set_node_styles_mapping(lambda node : styles.get(node[\"properties\"][\"label\"], {}))\n",
        "  w.set_node_label_mapping(lambda node : node[\"properties\"][styles.get(node[\"properties\"][\"label\"], {\"label\":\"label\"})[\"label\"]])\n",
        "\n",
        "  return w  "
      ]
    },
    {
      "cell_type": "code",
      "execution_count": null,
      "id": "eda6d63d-5e96-4cb9-a29e-4371f6f05d76",
      "metadata": {},
      "outputs": [],
      "source": [
        "from graphdatascience import GraphDataScience\n",
        "\n",
        "# Use Neo4j URI and credentials according to your setup\n",
        "gds = GraphDataScience(db, auth=auth)\n",
        "\n",
        "# In a second run, be sure to drop the projected graph, first\n",
        "#gds.graph.drop(gds.graph.get(\"air-routes\"))\n",
        "\n",
        "G_air, results = gds.graph.project(\"air-routes\", \"Airport\", \n",
        "                                   {\"HAS_ROUTE\": {\"orientation\": \"NATURAL\", \"properties\": [\"distance\"]}})\n",
        "\n",
        "source_id = gds.find_node_id([\"Airport\"], {\"iata\": \"STR\"})\n",
        "target_id = gds.find_node_id([\"Airport\"], {\"iata\": \"ART\"})\n",
        "result = gds.shortestPath.dijkstra.stream(G_air, sourceNode = source_id, targetNode = target_id, relationshipWeightProperty = \"distance\")\n",
        "\n",
        "with driver.session(database=\"neo4j\") as session:\n",
        "  graph = session.run(\"\"\"\n",
        "          MATCH (sco:Country)<-[scor:IN_COUNTRY]-(sr:Region)<-[srr:IN_REGION]-(sc:City)<-[scr:IN_CITY]-\n",
        "              (s:Airport)-[r:HAS_ROUTE]->(t:Airport)\n",
        "              -[tcr:IN_CITY]->(tc:City)-[trr:IN_REGION]->(tr:Region)-[tcor:IN_COUNTRY]->(tco:Country) \n",
        "          WHERE id(s) in $ids AND id(t) in $ids \n",
        "          RETURN * LIMIT 100\n",
        "      \"\"\", {\"ids\":list(result.nodeIds[0])}).graph()\n",
        "\n",
        "\n",
        "createAirportGraph(graph)"
      ]
    },
    {
      "cell_type": "code",
      "execution_count": null,
      "id": "aec41417-8aa8-43ea-8cec-e4a321c494c6",
      "metadata": {},
      "outputs": [],
      "source": [
        "import math;\n",
        "from graphdatascience import GraphDataScience\n",
        "from matplotlib import cm\n",
        "from matplotlib.colors import to_hex\n",
        "\n",
        "gds = GraphDataScience(db, auth=auth)\n",
        "gds.graph.drop(gds.graph.get(\"air-routes\"))\n",
        "\n",
        "G_air, results = gds.graph.project(\"air-routes\", \"Airport\", \n",
        "                                   {\"HAS_ROUTE\": {\"orientation\": \"UNDIRECTED\"}})\n",
        "\n",
        "gds.pageRank.mutate(G_air, mutateProperty='pageRank')\n",
        "pageRankTable = gds.graph.streamNodeProperties(G_air, ['pageRank'])\n",
        "\n",
        "cutoff = 1.5\n",
        "\n",
        "filteredTable = pageRankTable[pageRankTable.propertyValue > cutoff]\n",
        "ranks = dict(zip(filteredTable.nodeId, filteredTable.propertyValue))\n",
        "\n",
        "with driver.session(database=\"neo4j\") as session:\n",
        "  graph = session.run(\"\"\"\n",
        "      MATCH (s)\n",
        "        WHERE id(s) in $ids \n",
        "      RETURN s\n",
        "    \"\"\", {\"ids\":list(filteredTable.nodeId)}).graph()\n",
        "\n",
        "\n",
        "w = GraphWidget(graph = graph)\n",
        "\n",
        "w.set_node_label_mapping(lambda node : node[\"properties\"][\"iata\"])\n",
        "\n",
        "\n",
        "def custom_scale_mapping(node):\n",
        "    rank = ranks[node.get('id')]\n",
        "    return 1 + math.sqrt(rank - cutoff + 1) if rank > cutoff else 1\n",
        "w.node_scale_factor_mapping = custom_scale_mapping\n",
        "\n",
        "maxRank = filteredTable.propertyValue.max()\n",
        "viridis = cm.get_cmap('viridis', round(maxRank))\n",
        "\n",
        "def color_mapping(node):\n",
        "    rank = ranks[node.get('id')]\n",
        "    return to_hex(viridis(rank/maxRank))\n",
        "w.node_color_mapping = color_mapping\n",
        "\n",
        "def location_mapping(node): \n",
        "    location = node[\"properties\"][\"location\"]\n",
        "    return [location[0] * 150, location[1] * -200]\n",
        "w.node_position_mapping = location_mapping\n",
        "w.graph_layout = \"organic_edge_router\"\n",
        "\n",
        "display(w)"
      ]
    }
  ],
  "metadata": {
    "kernelspec": {
      "display_name": "Python 3 (ipykernel)",
      "language": "python",
      "name": "python3"
    },
    "language_info": {
      "codemirror_mode": {
        "name": "ipython",
        "version": 3
      },
      "file_extension": ".py",
      "mimetype": "text/x-python",
      "name": "python",
      "nbconvert_exporter": "python",
      "pygments_lexer": "ipython3",
      "version": "3.11.3"
    }
  },
  "nbformat": 4,
  "nbformat_minor": 5
}