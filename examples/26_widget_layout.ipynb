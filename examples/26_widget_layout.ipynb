{
  "cells": [
    {
      "cell_type": "markdown",
      "id": "bb044a7c-5aaf-4f13-b5e8-dfb50d40bdd9",
      "metadata": {
        "id": "bb044a7c-5aaf-4f13-b5e8-dfb50d40bdd9"
      },
      "source": [
        "# Configure Widget Layout <a target=\"_blank\" href=\"https://colab.research.google.com/github/yWorks/yfiles-jupyter-graphs/blob/main/examples/26_widget_layout.ipynb\"><img src=\"https://colab.research.google.com/assets/colab-badge.svg\" alt=\"Open In Colab\"/></a>\n",
        "\n",
        "**This layout does not change the graph but the height and width of the output window.**\n",
        "\n",
        "Before using the graph widget, install all necessary packages."
      ]
    },
    {
      "cell_type": "code",
      "execution_count": 1,
      "id": "0c4efcb9-22f6-48b4-9683-24398177f026",
      "metadata": {
        "id": "0c4efcb9-22f6-48b4-9683-24398177f026",
        "outputId": "4156e622-10b5-4fcd-fd39-1ef3cd42f842",
        "colab": {
          "base_uri": "https://localhost:8080/"
        }
      },
      "outputs": [
        {
          "output_type": "stream",
          "name": "stdout",
          "text": [
            "\u001b[2K   \u001b[90m\u2501\u2501\u2501\u2501\u2501\u2501\u2501\u2501\u2501\u2501\u2501\u2501\u2501\u2501\u2501\u2501\u2501\u2501\u2501\u2501\u2501\u2501\u2501\u2501\u2501\u2501\u2501\u2501\u2501\u2501\u2501\u2501\u2501\u2501\u2501\u2501\u2501\u2501\u2501\u2501\u001b[0m \u001b[32m15.6/15.6 MB\u001b[0m \u001b[31m27.1 MB/s\u001b[0m eta \u001b[36m0:00:00\u001b[0m\n",
            "\u001b[2K   \u001b[90m\u2501\u2501\u2501\u2501\u2501\u2501\u2501\u2501\u2501\u2501\u2501\u2501\u2501\u2501\u2501\u2501\u2501\u2501\u2501\u2501\u2501\u2501\u2501\u2501\u2501\u2501\u2501\u2501\u2501\u2501\u2501\u2501\u2501\u2501\u2501\u2501\u2501\u2501\u2501\u2501\u001b[0m \u001b[32m139.8/139.8 kB\u001b[0m \u001b[31m6.0 MB/s\u001b[0m eta \u001b[36m0:00:00\u001b[0m\n",
            "\u001b[2K   \u001b[90m\u2501\u2501\u2501\u2501\u2501\u2501\u2501\u2501\u2501\u2501\u2501\u2501\u2501\u2501\u2501\u2501\u2501\u2501\u2501\u2501\u2501\u2501\u2501\u2501\u2501\u2501\u2501\u2501\u2501\u2501\u2501\u2501\u2501\u2501\u2501\u2501\u2501\u2501\u2501\u2501\u001b[0m \u001b[32m2.3/2.3 MB\u001b[0m \u001b[31m18.0 MB/s\u001b[0m eta \u001b[36m0:00:00\u001b[0m\n",
            "\u001b[?25h"
          ]
        }
      ],
      "source": [
        "%pip install yfiles_jupyter_graphs --quiet\n",
        "%pip install networkx --quiet\n",
        "from ipywidgets import Layout\n",
        "from networkx import florentine_families_graph\n",
        "from yfiles_jupyter_graphs import GraphWidget"
      ]
    },
    {
      "cell_type": "markdown",
      "id": "901a1da5-766d-47e0-a2ce-c75082cdbd80",
      "metadata": {
        "id": "901a1da5-766d-47e0-a2ce-c75082cdbd80"
      },
      "source": [
        "You can also open this notebook in Google Colab when Google Colab's custom widget manager is enabled:"
      ]
    },
    {
      "cell_type": "code",
      "execution_count": 2,
      "id": "4db4f3d3-da8b-49f8-87c4-42f8bce8df0a",
      "metadata": {
        "id": "4db4f3d3-da8b-49f8-87c4-42f8bce8df0a"
      },
      "outputs": [],
      "source": [
        "try:\n",
        "  import google.colab\n",
        "  from google.colab import output\n",
        "  output.enable_custom_widget_manager()\n",
        "except:\n",
        "  pass"
      ]
    },
    {
      "cell_type": "markdown",
      "id": "ca5461a0-1301-4458-ba81-41b5fc1df90f",
      "metadata": {
        "id": "ca5461a0-1301-4458-ba81-41b5fc1df90f"
      },
      "source": [
        "<a target=\"_blank\" href=\"https://colab.research.google.com/github/yWorks/yfiles-jupyter-graphs/blob/main/examples/26_widget_layout.ipynb\"><img src=\"https://colab.research.google.com/assets/colab-badge.svg\" alt=\"Open In Colab\"/></a>"
      ]
    },
    {
      "cell_type": "markdown",
      "id": "e7490b70-c535-451b-bb93-0c26b0a0aec2",
      "metadata": {
        "id": "e7490b70-c535-451b-bb93-0c26b0a0aec2"
      },
      "source": [
        "## Default Widget Layout Configuration\n",
        "\n",
        "The Layout starts with 500px height and 100% width:"
      ]
    },
    {
      "cell_type": "code",
      "execution_count": 3,
      "id": "a2c43b9f-f0f8-4625-ae7c-ae5a756c4323",
      "metadata": {
        "id": "a2c43b9f-f0f8-4625-ae7c-ae5a756c4323",
        "outputId": "85dfd3d9-b535-46ec-a60f-e219242c9674",
        "colab": {
          "base_uri": "https://localhost:8080/",
          "height": 667,
          "referenced_widgets": [
            "00bc33f185b644169f3a9be9572e2bef",
            "99d7d16dc3304a6195112233a0a0cf46"
          ]
        }
      },
      "outputs": [
        {
          "output_type": "display_data",
          "data": {
            "text/plain": [
              "GraphWidget(layout=Layout(height='650px', width='100%'))"
            ],
            "application/vnd.jupyter.widget-view+json": {
              "version_major": 2,
              "version_minor": 0,
              "model_id": "00bc33f185b644169f3a9be9572e2bef"
            }
          },
          "metadata": {
            "application/vnd.jupyter.widget-view+json": {
              "colab": {
                "custom_widget_manager": {
                  "url": "https://ssl.gstatic.com/colaboratory-static/widgets/colab-cdn-widget-manager/2b70e893a8ba7c0f/manager.min.js"
                }
              }
            }
          }
        }
      ],
      "source": [
        "w = GraphWidget(graph=florentine_families_graph())\n",
        "display(w)"
      ]
    },
    {
      "cell_type": "markdown",
      "id": "db19566f-9d2d-4071-9098-97a5d16fca6c",
      "metadata": {
        "id": "db19566f-9d2d-4071-9098-97a5d16fca6c"
      },
      "source": [
        "Let's make the layout smaller:"
      ]
    },
    {
      "cell_type": "code",
      "execution_count": 4,
      "id": "c95b6a40-4fd2-40b8-b2c5-31cf96b5bcc9",
      "metadata": {
        "id": "c95b6a40-4fd2-40b8-b2c5-31cf96b5bcc9",
        "outputId": "8a71e039-1d58-4f13-a6d8-30e5438871cf",
        "colab": {
          "base_uri": "https://localhost:8080/",
          "height": 217,
          "referenced_widgets": [
            "2bf351ac940248d6a46044321011dc63",
            "71732c8d6c43403697690676ffe0dcb6"
          ]
        }
      },
      "outputs": [
        {
          "output_type": "display_data",
          "data": {
            "text/plain": [
              "GraphWidget(layout=Layout(height='200px', width='80%'))"
            ],
            "application/vnd.jupyter.widget-view+json": {
              "version_major": 2,
              "version_minor": 0,
              "model_id": "2bf351ac940248d6a46044321011dc63"
            }
          },
          "metadata": {
            "application/vnd.jupyter.widget-view+json": {
              "colab": {
                "custom_widget_manager": {
                  "url": "https://ssl.gstatic.com/colaboratory-static/widgets/colab-cdn-widget-manager/2b70e893a8ba7c0f/manager.min.js"
                }
              }
            }
          }
        }
      ],
      "source": [
        "w2 = GraphWidget(Layout(height='200px', width='80%'), graph = florentine_families_graph())\n",
        "display(w2)"
      ]
    },
    {
      "cell_type": "markdown",
      "id": "1ca20f1c-e549-4f89-a826-b6759cc7c34b",
      "metadata": {
        "id": "1ca20f1c-e549-4f89-a826-b6759cc7c34b"
      },
      "source": [
        "Note: The `height` cannot be specified by percentage because parent DOM element has no specified height itself. Therefore the height has to be specified in pixels:"
      ]
    },
    {
      "cell_type": "code",
      "execution_count": 6,
      "id": "1c5f974c-2b68-46b1-a98c-94e52858f585",
      "metadata": {
        "id": "1c5f974c-2b68-46b1-a98c-94e52858f585",
        "outputId": "2dca88ec-91b9-47ab-ec10-e3eca86764ad",
        "colab": {
          "base_uri": "https://localhost:8080/",
          "height": 17,
          "referenced_widgets": [
            "809c41d4be34422385afb210c5f179fd",
            "8996a82dbbb04fa1aa103bfa97560957"
          ]
        }
      },
      "outputs": [
        {
          "output_type": "display_data",
          "data": {
            "text/plain": [
              "GraphWidget(layout=Layout(height='120%', width='700px'))"
            ],
            "application/vnd.jupyter.widget-view+json": {
              "version_major": 2,
              "version_minor": 0,
              "model_id": "809c41d4be34422385afb210c5f179fd"
            }
          },
          "metadata": {
            "application/vnd.jupyter.widget-view+json": {
              "colab": {
                "custom_widget_manager": {
                  "url": "https://ssl.gstatic.com/colaboratory-static/widgets/colab-cdn-widget-manager/2b70e893a8ba7c0f/manager.min.js"
                }
              }
            }
          }
        }
      ],
      "source": [
        "w3 = GraphWidget(Layout(height='120%', width='700px'), graph = florentine_families_graph())\n",
        "display(w3)"
      ]
    }
  ],
  "metadata": {
    "kernelspec": {
      "display_name": "Python 3 (ipykernel)",
      "language": "python",
      "name": "python3"
    },
    "language_info": {
      "codemirror_mode": {
        "name": "ipython",
        "version": 3
      },
      "file_extension": ".py",
      "mimetype": "text/x-python",
      "name": "python",
      "nbconvert_exporter": "python",
      "pygments_lexer": "ipython3",
      "version": "3.11.3"
    },
    "colab": {
      "provenance": []
    },
    "widgets": {
      "application/vnd.jupyter.widget-state+json": {
        "00bc33f185b644169f3a9be9572e2bef": {
          "model_module": "yfiles-jupyter-graphs",
          "model_name": "GraphModel",
          "model_module_version": "^1.8.1",
          "state": {
            "_context_pane_mapping": [
              {
                "id": "Neighborhood",
                "title": "Neighborhood"
              },
              {
                "id": "Data",
                "title": "Data"
              },
              {
                "id": "Search",
                "title": "Search"
              },
              {
                "id": "About",
                "title": "About"
              }
            ],
            "_data_importer": "networkx",
            "_directed": false,
            "_dom_classes": [],
            "_edges": [
              {
                "id": 0,
                "start": 0,
                "end": 1,
                "properties": {},
                "label": "",
                "color": "#15AFAC",
                "thickness_factor": 1,
                "directed": false
              },
              {
                "id": 1,
                "start": 1,
                "end": 5,
                "properties": {},
                "label": "",
                "color": "#15AFAC",
                "thickness_factor": 1,
                "directed": false
              },
              {
                "id": 2,
                "start": 1,
                "end": 6,
                "properties": {},
                "label": "",
                "color": "#15AFAC",
                "thickness_factor": 1,
                "directed": false
              },
              {
                "id": 3,
                "start": 1,
                "end": 7,
                "properties": {},
                "label": "",
                "color": "#15AFAC",
                "thickness_factor": 1,
                "directed": false
              },
              {
                "id": 4,
                "start": 1,
                "end": 8,
                "properties": {},
                "label": "",
                "color": "#15AFAC",
                "thickness_factor": 1,
                "directed": false
              },
              {
                "id": 5,
                "start": 1,
                "end": 9,
                "properties": {},
                "label": "",
                "color": "#15AFAC",
                "thickness_factor": 1,
                "directed": false
              },
              {
                "id": 6,
                "start": 2,
                "end": 3,
                "properties": {},
                "label": "",
                "color": "#15AFAC",
                "thickness_factor": 1,
                "directed": false
              },
              {
                "id": 7,
                "start": 2,
                "end": 4,
                "properties": {},
                "label": "",
                "color": "#15AFAC",
                "thickness_factor": 1,
                "directed": false
              },
              {
                "id": 8,
                "start": 2,
                "end": 5,
                "properties": {},
                "label": "",
                "color": "#15AFAC",
                "thickness_factor": 1,
                "directed": false
              },
              {
                "id": 9,
                "start": 3,
                "end": 4,
                "properties": {},
                "label": "",
                "color": "#15AFAC",
                "thickness_factor": 1,
                "directed": false
              },
              {
                "id": 10,
                "start": 3,
                "end": 11,
                "properties": {},
                "label": "",
                "color": "#15AFAC",
                "thickness_factor": 1,
                "directed": false
              },
              {
                "id": 11,
                "start": 4,
                "end": 6,
                "properties": {},
                "label": "",
                "color": "#15AFAC",
                "thickness_factor": 1,
                "directed": false
              },
              {
                "id": 12,
                "start": 4,
                "end": 11,
                "properties": {},
                "label": "",
                "color": "#15AFAC",
                "thickness_factor": 1,
                "directed": false
              },
              {
                "id": 13,
                "start": 6,
                "end": 7,
                "properties": {},
                "label": "",
                "color": "#15AFAC",
                "thickness_factor": 1,
                "directed": false
              },
              {
                "id": 14,
                "start": 7,
                "end": 12,
                "properties": {},
                "label": "",
                "color": "#15AFAC",
                "thickness_factor": 1,
                "directed": false
              },
              {
                "id": 15,
                "start": 8,
                "end": 13,
                "properties": {},
                "label": "",
                "color": "#15AFAC",
                "thickness_factor": 1,
                "directed": false
              },
              {
                "id": 16,
                "start": 8,
                "end": 12,
                "properties": {},
                "label": "",
                "color": "#15AFAC",
                "thickness_factor": 1,
                "directed": false
              },
              {
                "id": 17,
                "start": 9,
                "end": 10,
                "properties": {},
                "label": "",
                "color": "#15AFAC",
                "thickness_factor": 1,
                "directed": false
              },
              {
                "id": 18,
                "start": 11,
                "end": 12,
                "properties": {},
                "label": "",
                "color": "#15AFAC",
                "thickness_factor": 1,
                "directed": false
              },
              {
                "id": 19,
                "start": 12,
                "end": 14,
                "properties": {},
                "label": "",
                "color": "#15AFAC",
                "thickness_factor": 1,
                "directed": false
              }
            ],
            "_graph_layout": {},
            "_highlight": [],
            "_license": {},
            "_model_module": "yfiles-jupyter-graphs",
            "_model_module_version": "^1.8.1",
            "_model_name": "GraphModel",
            "_neighborhood": {},
            "_nodes": [
              {
                "id": 0,
                "properties": {
                  "label": "Acciaiuoli"
                },
                "color": "#15AFAC",
                "styles": {},
                "label": "Acciaiuoli",
                "scale_factor": 1,
                "type": "#15AFAC",
                "size": [
                  55,
                  55
                ],
                "position": [
                  0,
                  0
                ]
              },
              {
                "id": 1,
                "properties": {
                  "label": "Medici"
                },
                "color": "#15AFAC",
                "styles": {},
                "label": "Medici",
                "scale_factor": 1,
                "type": "#15AFAC",
                "size": [
                  55,
                  55
                ],
                "position": [
                  0,
                  0
                ]
              },
              {
                "id": 2,
                "properties": {
                  "label": "Castellani"
                },
                "color": "#15AFAC",
                "styles": {},
                "label": "Castellani",
                "scale_factor": 1,
                "type": "#15AFAC",
                "size": [
                  55,
                  55
                ],
                "position": [
                  0,
                  0
                ]
              },
              {
                "id": 3,
                "properties": {
                  "label": "Peruzzi"
                },
                "color": "#15AFAC",
                "styles": {},
                "label": "Peruzzi",
                "scale_factor": 1,
                "type": "#15AFAC",
                "size": [
                  55,
                  55
                ],
                "position": [
                  0,
                  0
                ]
              },
              {
                "id": 4,
                "properties": {
                  "label": "Strozzi"
                },
                "color": "#15AFAC",
                "styles": {},
                "label": "Strozzi",
                "scale_factor": 1,
                "type": "#15AFAC",
                "size": [
                  55,
                  55
                ],
                "position": [
                  0,
                  0
                ]
              },
              {
                "id": 5,
                "properties": {
                  "label": "Barbadori"
                },
                "color": "#15AFAC",
                "styles": {},
                "label": "Barbadori",
                "scale_factor": 1,
                "type": "#15AFAC",
                "size": [
                  55,
                  55
                ],
                "position": [
                  0,
                  0
                ]
              },
              {
                "id": 6,
                "properties": {
                  "label": "Ridolfi"
                },
                "color": "#15AFAC",
                "styles": {},
                "label": "Ridolfi",
                "scale_factor": 1,
                "type": "#15AFAC",
                "size": [
                  55,
                  55
                ],
                "position": [
                  0,
                  0
                ]
              },
              {
                "id": 7,
                "properties": {
                  "label": "Tornabuoni"
                },
                "color": "#15AFAC",
                "styles": {},
                "label": "Tornabuoni",
                "scale_factor": 1,
                "type": "#15AFAC",
                "size": [
                  55,
                  55
                ],
                "position": [
                  0,
                  0
                ]
              },
              {
                "id": 8,
                "properties": {
                  "label": "Albizzi"
                },
                "color": "#15AFAC",
                "styles": {},
                "label": "Albizzi",
                "scale_factor": 1,
                "type": "#15AFAC",
                "size": [
                  55,
                  55
                ],
                "position": [
                  0,
                  0
                ]
              },
              {
                "id": 9,
                "properties": {
                  "label": "Salviati"
                },
                "color": "#15AFAC",
                "styles": {},
                "label": "Salviati",
                "scale_factor": 1,
                "type": "#15AFAC",
                "size": [
                  55,
                  55
                ],
                "position": [
                  0,
                  0
                ]
              },
              {
                "id": 10,
                "properties": {
                  "label": "Pazzi"
                },
                "color": "#15AFAC",
                "styles": {},
                "label": "Pazzi",
                "scale_factor": 1,
                "type": "#15AFAC",
                "size": [
                  55,
                  55
                ],
                "position": [
                  0,
                  0
                ]
              },
              {
                "id": 11,
                "properties": {
                  "label": "Bischeri"
                },
                "color": "#15AFAC",
                "styles": {},
                "label": "Bischeri",
                "scale_factor": 1,
                "type": "#15AFAC",
                "size": [
                  55,
                  55
                ],
                "position": [
                  0,
                  0
                ]
              },
              {
                "id": 12,
                "properties": {
                  "label": "Guadagni"
                },
                "color": "#15AFAC",
                "styles": {},
                "label": "Guadagni",
                "scale_factor": 1,
                "type": "#15AFAC",
                "size": [
                  55,
                  55
                ],
                "position": [
                  0,
                  0
                ]
              },
              {
                "id": 13,
                "properties": {
                  "label": "Ginori"
                },
                "color": "#15AFAC",
                "styles": {},
                "label": "Ginori",
                "scale_factor": 1,
                "type": "#15AFAC",
                "size": [
                  55,
                  55
                ],
                "position": [
                  0,
                  0
                ]
              },
              {
                "id": 14,
                "properties": {
                  "label": "Lamberteschi"
                },
                "color": "#15AFAC",
                "styles": {},
                "label": "Lamberteschi",
                "scale_factor": 1,
                "type": "#15AFAC",
                "size": [
                  55,
                  55
                ],
                "position": [
                  0,
                  0
                ]
              }
            ],
            "_overview": {
              "enabled": null,
              "overview_set": false
            },
            "_selected_graph": [
              [],
              []
            ],
            "_sidebar": {
              "enabled": false,
              "start_with": null
            },
            "_view_count": null,
            "_view_module": "yfiles-jupyter-graphs",
            "_view_module_version": "^1.8.1",
            "_view_name": "GraphView",
            "layout": "IPY_MODEL_99d7d16dc3304a6195112233a0a0cf46",
            "tabbable": null,
            "tooltip": null
          }
        },
        "99d7d16dc3304a6195112233a0a0cf46": {
          "model_module": "@jupyter-widgets/base",
          "model_name": "LayoutModel",
          "model_module_version": "2.0.0",
          "state": {
            "_model_module": "@jupyter-widgets/base",
            "_model_module_version": "2.0.0",
            "_model_name": "LayoutModel",
            "_view_count": null,
            "_view_module": "@jupyter-widgets/base",
            "_view_module_version": "2.0.0",
            "_view_name": "LayoutView",
            "align_content": null,
            "align_items": null,
            "align_self": null,
            "border_bottom": null,
            "border_left": null,
            "border_right": null,
            "border_top": null,
            "bottom": null,
            "display": null,
            "flex": null,
            "flex_flow": null,
            "grid_area": null,
            "grid_auto_columns": null,
            "grid_auto_flow": null,
            "grid_auto_rows": null,
            "grid_column": null,
            "grid_gap": null,
            "grid_row": null,
            "grid_template_areas": null,
            "grid_template_columns": null,
            "grid_template_rows": null,
            "height": "650px",
            "justify_content": null,
            "justify_items": null,
            "left": null,
            "margin": null,
            "max_height": null,
            "max_width": null,
            "min_height": null,
            "min_width": null,
            "object_fit": null,
            "object_position": null,
            "order": null,
            "overflow": null,
            "padding": null,
            "right": null,
            "top": null,
            "visibility": null,
            "width": "100%"
          }
        },
        "2bf351ac940248d6a46044321011dc63": {
          "model_module": "yfiles-jupyter-graphs",
          "model_name": "GraphModel",
          "model_module_version": "^1.8.1",
          "state": {
            "_context_pane_mapping": [
              {
                "id": "Neighborhood",
                "title": "Neighborhood"
              },
              {
                "id": "Data",
                "title": "Data"
              },
              {
                "id": "Search",
                "title": "Search"
              },
              {
                "id": "About",
                "title": "About"
              }
            ],
            "_data_importer": "networkx",
            "_directed": false,
            "_dom_classes": [],
            "_edges": [
              {
                "id": 0,
                "start": 0,
                "end": 1,
                "properties": {},
                "label": "",
                "color": "#15AFAC",
                "thickness_factor": 1,
                "directed": false
              },
              {
                "id": 1,
                "start": 1,
                "end": 5,
                "properties": {},
                "label": "",
                "color": "#15AFAC",
                "thickness_factor": 1,
                "directed": false
              },
              {
                "id": 2,
                "start": 1,
                "end": 6,
                "properties": {},
                "label": "",
                "color": "#15AFAC",
                "thickness_factor": 1,
                "directed": false
              },
              {
                "id": 3,
                "start": 1,
                "end": 7,
                "properties": {},
                "label": "",
                "color": "#15AFAC",
                "thickness_factor": 1,
                "directed": false
              },
              {
                "id": 4,
                "start": 1,
                "end": 8,
                "properties": {},
                "label": "",
                "color": "#15AFAC",
                "thickness_factor": 1,
                "directed": false
              },
              {
                "id": 5,
                "start": 1,
                "end": 9,
                "properties": {},
                "label": "",
                "color": "#15AFAC",
                "thickness_factor": 1,
                "directed": false
              },
              {
                "id": 6,
                "start": 2,
                "end": 3,
                "properties": {},
                "label": "",
                "color": "#15AFAC",
                "thickness_factor": 1,
                "directed": false
              },
              {
                "id": 7,
                "start": 2,
                "end": 4,
                "properties": {},
                "label": "",
                "color": "#15AFAC",
                "thickness_factor": 1,
                "directed": false
              },
              {
                "id": 8,
                "start": 2,
                "end": 5,
                "properties": {},
                "label": "",
                "color": "#15AFAC",
                "thickness_factor": 1,
                "directed": false
              },
              {
                "id": 9,
                "start": 3,
                "end": 4,
                "properties": {},
                "label": "",
                "color": "#15AFAC",
                "thickness_factor": 1,
                "directed": false
              },
              {
                "id": 10,
                "start": 3,
                "end": 11,
                "properties": {},
                "label": "",
                "color": "#15AFAC",
                "thickness_factor": 1,
                "directed": false
              },
              {
                "id": 11,
                "start": 4,
                "end": 6,
                "properties": {},
                "label": "",
                "color": "#15AFAC",
                "thickness_factor": 1,
                "directed": false
              },
              {
                "id": 12,
                "start": 4,
                "end": 11,
                "properties": {},
                "label": "",
                "color": "#15AFAC",
                "thickness_factor": 1,
                "directed": false
              },
              {
                "id": 13,
                "start": 6,
                "end": 7,
                "properties": {},
                "label": "",
                "color": "#15AFAC",
                "thickness_factor": 1,
                "directed": false
              },
              {
                "id": 14,
                "start": 7,
                "end": 12,
                "properties": {},
                "label": "",
                "color": "#15AFAC",
                "thickness_factor": 1,
                "directed": false
              },
              {
                "id": 15,
                "start": 8,
                "end": 13,
                "properties": {},
                "label": "",
                "color": "#15AFAC",
                "thickness_factor": 1,
                "directed": false
              },
              {
                "id": 16,
                "start": 8,
                "end": 12,
                "properties": {},
                "label": "",
                "color": "#15AFAC",
                "thickness_factor": 1,
                "directed": false
              },
              {
                "id": 17,
                "start": 9,
                "end": 10,
                "properties": {},
                "label": "",
                "color": "#15AFAC",
                "thickness_factor": 1,
                "directed": false
              },
              {
                "id": 18,
                "start": 11,
                "end": 12,
                "properties": {},
                "label": "",
                "color": "#15AFAC",
                "thickness_factor": 1,
                "directed": false
              },
              {
                "id": 19,
                "start": 12,
                "end": 14,
                "properties": {},
                "label": "",
                "color": "#15AFAC",
                "thickness_factor": 1,
                "directed": false
              }
            ],
            "_graph_layout": {},
            "_highlight": [],
            "_license": {},
            "_model_module": "yfiles-jupyter-graphs",
            "_model_module_version": "^1.8.1",
            "_model_name": "GraphModel",
            "_neighborhood": {},
            "_nodes": [
              {
                "id": 0,
                "properties": {
                  "label": "Acciaiuoli"
                },
                "color": "#15AFAC",
                "styles": {},
                "label": "Acciaiuoli",
                "scale_factor": 1,
                "type": "#15AFAC",
                "size": [
                  55,
                  55
                ],
                "position": [
                  0,
                  0
                ]
              },
              {
                "id": 1,
                "properties": {
                  "label": "Medici"
                },
                "color": "#15AFAC",
                "styles": {},
                "label": "Medici",
                "scale_factor": 1,
                "type": "#15AFAC",
                "size": [
                  55,
                  55
                ],
                "position": [
                  0,
                  0
                ]
              },
              {
                "id": 2,
                "properties": {
                  "label": "Castellani"
                },
                "color": "#15AFAC",
                "styles": {},
                "label": "Castellani",
                "scale_factor": 1,
                "type": "#15AFAC",
                "size": [
                  55,
                  55
                ],
                "position": [
                  0,
                  0
                ]
              },
              {
                "id": 3,
                "properties": {
                  "label": "Peruzzi"
                },
                "color": "#15AFAC",
                "styles": {},
                "label": "Peruzzi",
                "scale_factor": 1,
                "type": "#15AFAC",
                "size": [
                  55,
                  55
                ],
                "position": [
                  0,
                  0
                ]
              },
              {
                "id": 4,
                "properties": {
                  "label": "Strozzi"
                },
                "color": "#15AFAC",
                "styles": {},
                "label": "Strozzi",
                "scale_factor": 1,
                "type": "#15AFAC",
                "size": [
                  55,
                  55
                ],
                "position": [
                  0,
                  0
                ]
              },
              {
                "id": 5,
                "properties": {
                  "label": "Barbadori"
                },
                "color": "#15AFAC",
                "styles": {},
                "label": "Barbadori",
                "scale_factor": 1,
                "type": "#15AFAC",
                "size": [
                  55,
                  55
                ],
                "position": [
                  0,
                  0
                ]
              },
              {
                "id": 6,
                "properties": {
                  "label": "Ridolfi"
                },
                "color": "#15AFAC",
                "styles": {},
                "label": "Ridolfi",
                "scale_factor": 1,
                "type": "#15AFAC",
                "size": [
                  55,
                  55
                ],
                "position": [
                  0,
                  0
                ]
              },
              {
                "id": 7,
                "properties": {
                  "label": "Tornabuoni"
                },
                "color": "#15AFAC",
                "styles": {},
                "label": "Tornabuoni",
                "scale_factor": 1,
                "type": "#15AFAC",
                "size": [
                  55,
                  55
                ],
                "position": [
                  0,
                  0
                ]
              },
              {
                "id": 8,
                "properties": {
                  "label": "Albizzi"
                },
                "color": "#15AFAC",
                "styles": {},
                "label": "Albizzi",
                "scale_factor": 1,
                "type": "#15AFAC",
                "size": [
                  55,
                  55
                ],
                "position": [
                  0,
                  0
                ]
              },
              {
                "id": 9,
                "properties": {
                  "label": "Salviati"
                },
                "color": "#15AFAC",
                "styles": {},
                "label": "Salviati",
                "scale_factor": 1,
                "type": "#15AFAC",
                "size": [
                  55,
                  55
                ],
                "position": [
                  0,
                  0
                ]
              },
              {
                "id": 10,
                "properties": {
                  "label": "Pazzi"
                },
                "color": "#15AFAC",
                "styles": {},
                "label": "Pazzi",
                "scale_factor": 1,
                "type": "#15AFAC",
                "size": [
                  55,
                  55
                ],
                "position": [
                  0,
                  0
                ]
              },
              {
                "id": 11,
                "properties": {
                  "label": "Bischeri"
                },
                "color": "#15AFAC",
                "styles": {},
                "label": "Bischeri",
                "scale_factor": 1,
                "type": "#15AFAC",
                "size": [
                  55,
                  55
                ],
                "position": [
                  0,
                  0
                ]
              },
              {
                "id": 12,
                "properties": {
                  "label": "Guadagni"
                },
                "color": "#15AFAC",
                "styles": {},
                "label": "Guadagni",
                "scale_factor": 1,
                "type": "#15AFAC",
                "size": [
                  55,
                  55
                ],
                "position": [
                  0,
                  0
                ]
              },
              {
                "id": 13,
                "properties": {
                  "label": "Ginori"
                },
                "color": "#15AFAC",
                "styles": {},
                "label": "Ginori",
                "scale_factor": 1,
                "type": "#15AFAC",
                "size": [
                  55,
                  55
                ],
                "position": [
                  0,
                  0
                ]
              },
              {
                "id": 14,
                "properties": {
                  "label": "Lamberteschi"
                },
                "color": "#15AFAC",
                "styles": {},
                "label": "Lamberteschi",
                "scale_factor": 1,
                "type": "#15AFAC",
                "size": [
                  55,
                  55
                ],
                "position": [
                  0,
                  0
                ]
              }
            ],
            "_overview": {
              "enabled": null,
              "overview_set": false
            },
            "_selected_graph": [
              [],
              []
            ],
            "_sidebar": {
              "enabled": false,
              "start_with": null
            },
            "_view_count": null,
            "_view_module": "yfiles-jupyter-graphs",
            "_view_module_version": "^1.8.1",
            "_view_name": "GraphView",
            "layout": "IPY_MODEL_71732c8d6c43403697690676ffe0dcb6",
            "tabbable": null,
            "tooltip": null
          }
        },
        "71732c8d6c43403697690676ffe0dcb6": {
          "model_module": "@jupyter-widgets/base",
          "model_name": "LayoutModel",
          "model_module_version": "2.0.0",
          "state": {
            "_model_module": "@jupyter-widgets/base",
            "_model_module_version": "2.0.0",
            "_model_name": "LayoutModel",
            "_view_count": null,
            "_view_module": "@jupyter-widgets/base",
            "_view_module_version": "2.0.0",
            "_view_name": "LayoutView",
            "align_content": null,
            "align_items": null,
            "align_self": null,
            "border_bottom": null,
            "border_left": null,
            "border_right": null,
            "border_top": null,
            "bottom": null,
            "display": null,
            "flex": null,
            "flex_flow": null,
            "grid_area": null,
            "grid_auto_columns": null,
            "grid_auto_flow": null,
            "grid_auto_rows": null,
            "grid_column": null,
            "grid_gap": null,
            "grid_row": null,
            "grid_template_areas": null,
            "grid_template_columns": null,
            "grid_template_rows": null,
            "height": "200px",
            "justify_content": null,
            "justify_items": null,
            "left": null,
            "margin": null,
            "max_height": null,
            "max_width": null,
            "min_height": null,
            "min_width": null,
            "object_fit": null,
            "object_position": null,
            "order": null,
            "overflow": null,
            "padding": null,
            "right": null,
            "top": null,
            "visibility": null,
            "width": "80%"
          }
        },
        "809c41d4be34422385afb210c5f179fd": {
          "model_module": "yfiles-jupyter-graphs",
          "model_name": "GraphModel",
          "model_module_version": "^1.8.1",
          "state": {
            "_context_pane_mapping": [
              {
                "id": "Neighborhood",
                "title": "Neighborhood"
              },
              {
                "id": "Data",
                "title": "Data"
              },
              {
                "id": "Search",
                "title": "Search"
              },
              {
                "id": "About",
                "title": "About"
              }
            ],
            "_data_importer": "networkx",
            "_directed": false,
            "_dom_classes": [],
            "_edges": [
              {
                "id": 0,
                "start": 0,
                "end": 1,
                "properties": {},
                "label": "",
                "color": "#15AFAC",
                "thickness_factor": 1,
                "directed": false
              },
              {
                "id": 1,
                "start": 1,
                "end": 5,
                "properties": {},
                "label": "",
                "color": "#15AFAC",
                "thickness_factor": 1,
                "directed": false
              },
              {
                "id": 2,
                "start": 1,
                "end": 6,
                "properties": {},
                "label": "",
                "color": "#15AFAC",
                "thickness_factor": 1,
                "directed": false
              },
              {
                "id": 3,
                "start": 1,
                "end": 7,
                "properties": {},
                "label": "",
                "color": "#15AFAC",
                "thickness_factor": 1,
                "directed": false
              },
              {
                "id": 4,
                "start": 1,
                "end": 8,
                "properties": {},
                "label": "",
                "color": "#15AFAC",
                "thickness_factor": 1,
                "directed": false
              },
              {
                "id": 5,
                "start": 1,
                "end": 9,
                "properties": {},
                "label": "",
                "color": "#15AFAC",
                "thickness_factor": 1,
                "directed": false
              },
              {
                "id": 6,
                "start": 2,
                "end": 3,
                "properties": {},
                "label": "",
                "color": "#15AFAC",
                "thickness_factor": 1,
                "directed": false
              },
              {
                "id": 7,
                "start": 2,
                "end": 4,
                "properties": {},
                "label": "",
                "color": "#15AFAC",
                "thickness_factor": 1,
                "directed": false
              },
              {
                "id": 8,
                "start": 2,
                "end": 5,
                "properties": {},
                "label": "",
                "color": "#15AFAC",
                "thickness_factor": 1,
                "directed": false
              },
              {
                "id": 9,
                "start": 3,
                "end": 4,
                "properties": {},
                "label": "",
                "color": "#15AFAC",
                "thickness_factor": 1,
                "directed": false
              },
              {
                "id": 10,
                "start": 3,
                "end": 11,
                "properties": {},
                "label": "",
                "color": "#15AFAC",
                "thickness_factor": 1,
                "directed": false
              },
              {
                "id": 11,
                "start": 4,
                "end": 6,
                "properties": {},
                "label": "",
                "color": "#15AFAC",
                "thickness_factor": 1,
                "directed": false
              },
              {
                "id": 12,
                "start": 4,
                "end": 11,
                "properties": {},
                "label": "",
                "color": "#15AFAC",
                "thickness_factor": 1,
                "directed": false
              },
              {
                "id": 13,
                "start": 6,
                "end": 7,
                "properties": {},
                "label": "",
                "color": "#15AFAC",
                "thickness_factor": 1,
                "directed": false
              },
              {
                "id": 14,
                "start": 7,
                "end": 12,
                "properties": {},
                "label": "",
                "color": "#15AFAC",
                "thickness_factor": 1,
                "directed": false
              },
              {
                "id": 15,
                "start": 8,
                "end": 13,
                "properties": {},
                "label": "",
                "color": "#15AFAC",
                "thickness_factor": 1,
                "directed": false
              },
              {
                "id": 16,
                "start": 8,
                "end": 12,
                "properties": {},
                "label": "",
                "color": "#15AFAC",
                "thickness_factor": 1,
                "directed": false
              },
              {
                "id": 17,
                "start": 9,
                "end": 10,
                "properties": {},
                "label": "",
                "color": "#15AFAC",
                "thickness_factor": 1,
                "directed": false
              },
              {
                "id": 18,
                "start": 11,
                "end": 12,
                "properties": {},
                "label": "",
                "color": "#15AFAC",
                "thickness_factor": 1,
                "directed": false
              },
              {
                "id": 19,
                "start": 12,
                "end": 14,
                "properties": {},
                "label": "",
                "color": "#15AFAC",
                "thickness_factor": 1,
                "directed": false
              }
            ],
            "_graph_layout": {},
            "_highlight": [],
            "_license": {},
            "_model_module": "yfiles-jupyter-graphs",
            "_model_module_version": "^1.8.1",
            "_model_name": "GraphModel",
            "_neighborhood": {},
            "_nodes": [
              {
                "id": 0,
                "properties": {
                  "label": "Acciaiuoli"
                },
                "color": "#15AFAC",
                "styles": {},
                "label": "Acciaiuoli",
                "scale_factor": 1,
                "type": "#15AFAC",
                "size": [
                  55,
                  55
                ],
                "position": [
                  0,
                  0
                ]
              },
              {
                "id": 1,
                "properties": {
                  "label": "Medici"
                },
                "color": "#15AFAC",
                "styles": {},
                "label": "Medici",
                "scale_factor": 1,
                "type": "#15AFAC",
                "size": [
                  55,
                  55
                ],
                "position": [
                  0,
                  0
                ]
              },
              {
                "id": 2,
                "properties": {
                  "label": "Castellani"
                },
                "color": "#15AFAC",
                "styles": {},
                "label": "Castellani",
                "scale_factor": 1,
                "type": "#15AFAC",
                "size": [
                  55,
                  55
                ],
                "position": [
                  0,
                  0
                ]
              },
              {
                "id": 3,
                "properties": {
                  "label": "Peruzzi"
                },
                "color": "#15AFAC",
                "styles": {},
                "label": "Peruzzi",
                "scale_factor": 1,
                "type": "#15AFAC",
                "size": [
                  55,
                  55
                ],
                "position": [
                  0,
                  0
                ]
              },
              {
                "id": 4,
                "properties": {
                  "label": "Strozzi"
                },
                "color": "#15AFAC",
                "styles": {},
                "label": "Strozzi",
                "scale_factor": 1,
                "type": "#15AFAC",
                "size": [
                  55,
                  55
                ],
                "position": [
                  0,
                  0
                ]
              },
              {
                "id": 5,
                "properties": {
                  "label": "Barbadori"
                },
                "color": "#15AFAC",
                "styles": {},
                "label": "Barbadori",
                "scale_factor": 1,
                "type": "#15AFAC",
                "size": [
                  55,
                  55
                ],
                "position": [
                  0,
                  0
                ]
              },
              {
                "id": 6,
                "properties": {
                  "label": "Ridolfi"
                },
                "color": "#15AFAC",
                "styles": {},
                "label": "Ridolfi",
                "scale_factor": 1,
                "type": "#15AFAC",
                "size": [
                  55,
                  55
                ],
                "position": [
                  0,
                  0
                ]
              },
              {
                "id": 7,
                "properties": {
                  "label": "Tornabuoni"
                },
                "color": "#15AFAC",
                "styles": {},
                "label": "Tornabuoni",
                "scale_factor": 1,
                "type": "#15AFAC",
                "size": [
                  55,
                  55
                ],
                "position": [
                  0,
                  0
                ]
              },
              {
                "id": 8,
                "properties": {
                  "label": "Albizzi"
                },
                "color": "#15AFAC",
                "styles": {},
                "label": "Albizzi",
                "scale_factor": 1,
                "type": "#15AFAC",
                "size": [
                  55,
                  55
                ],
                "position": [
                  0,
                  0
                ]
              },
              {
                "id": 9,
                "properties": {
                  "label": "Salviati"
                },
                "color": "#15AFAC",
                "styles": {},
                "label": "Salviati",
                "scale_factor": 1,
                "type": "#15AFAC",
                "size": [
                  55,
                  55
                ],
                "position": [
                  0,
                  0
                ]
              },
              {
                "id": 10,
                "properties": {
                  "label": "Pazzi"
                },
                "color": "#15AFAC",
                "styles": {},
                "label": "Pazzi",
                "scale_factor": 1,
                "type": "#15AFAC",
                "size": [
                  55,
                  55
                ],
                "position": [
                  0,
                  0
                ]
              },
              {
                "id": 11,
                "properties": {
                  "label": "Bischeri"
                },
                "color": "#15AFAC",
                "styles": {},
                "label": "Bischeri",
                "scale_factor": 1,
                "type": "#15AFAC",
                "size": [
                  55,
                  55
                ],
                "position": [
                  0,
                  0
                ]
              },
              {
                "id": 12,
                "properties": {
                  "label": "Guadagni"
                },
                "color": "#15AFAC",
                "styles": {},
                "label": "Guadagni",
                "scale_factor": 1,
                "type": "#15AFAC",
                "size": [
                  55,
                  55
                ],
                "position": [
                  0,
                  0
                ]
              },
              {
                "id": 13,
                "properties": {
                  "label": "Ginori"
                },
                "color": "#15AFAC",
                "styles": {},
                "label": "Ginori",
                "scale_factor": 1,
                "type": "#15AFAC",
                "size": [
                  55,
                  55
                ],
                "position": [
                  0,
                  0
                ]
              },
              {
                "id": 14,
                "properties": {
                  "label": "Lamberteschi"
                },
                "color": "#15AFAC",
                "styles": {},
                "label": "Lamberteschi",
                "scale_factor": 1,
                "type": "#15AFAC",
                "size": [
                  55,
                  55
                ],
                "position": [
                  0,
                  0
                ]
              }
            ],
            "_overview": {
              "enabled": null,
              "overview_set": false
            },
            "_selected_graph": [
              [],
              []
            ],
            "_sidebar": {
              "enabled": false,
              "start_with": null
            },
            "_view_count": null,
            "_view_module": "yfiles-jupyter-graphs",
            "_view_module_version": "^1.8.1",
            "_view_name": "GraphView",
            "layout": "IPY_MODEL_8996a82dbbb04fa1aa103bfa97560957",
            "tabbable": null,
            "tooltip": null
          }
        },
        "8996a82dbbb04fa1aa103bfa97560957": {
          "model_module": "@jupyter-widgets/base",
          "model_name": "LayoutModel",
          "model_module_version": "2.0.0",
          "state": {
            "_model_module": "@jupyter-widgets/base",
            "_model_module_version": "2.0.0",
            "_model_name": "LayoutModel",
            "_view_count": null,
            "_view_module": "@jupyter-widgets/base",
            "_view_module_version": "2.0.0",
            "_view_name": "LayoutView",
            "align_content": null,
            "align_items": null,
            "align_self": null,
            "border_bottom": null,
            "border_left": null,
            "border_right": null,
            "border_top": null,
            "bottom": null,
            "display": null,
            "flex": null,
            "flex_flow": null,
            "grid_area": null,
            "grid_auto_columns": null,
            "grid_auto_flow": null,
            "grid_auto_rows": null,
            "grid_column": null,
            "grid_gap": null,
            "grid_row": null,
            "grid_template_areas": null,
            "grid_template_columns": null,
            "grid_template_rows": null,
            "height": "120%",
            "justify_content": null,
            "justify_items": null,
            "left": null,
            "margin": null,
            "max_height": null,
            "max_width": null,
            "min_height": null,
            "min_width": null,
            "object_fit": null,
            "object_position": null,
            "order": null,
            "overflow": null,
            "padding": null,
            "right": null,
            "top": null,
            "visibility": null,
            "width": "700px"
          }
        },
        "state": {}
      }
    }
  },
  "nbformat": 4,
  "nbformat_minor": 5
}